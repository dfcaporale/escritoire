{
 "cells": [
  {
   "cell_type": "markdown",
   "metadata": {},
   "source": [
    "This notebook is an experiment with the [NeuralVerification](https://github.com/sisl/NeuralVerification.jl) package (that we shorten to `NV` here) and decomposition methods available in [LazySets](https://github.com/JuliaReach/LazySets.jl/)."
   ]
  },
  {
   "cell_type": "code",
   "execution_count": 31,
   "metadata": {},
   "outputs": [
    {
     "data": {
      "text/plain": [
       "NeuralVerification"
      ]
     },
     "execution_count": 31,
     "metadata": {},
     "output_type": "execute_result"
    }
   ],
   "source": [
    "using Revise, NeuralVerification, LazySets\n",
    "using LazySets.Approximations\n",
    "\n",
    "const NV = NeuralVerification"
   ]
  },
  {
   "cell_type": "markdown",
   "metadata": {},
   "source": [
    "In `NV`, [neural networks](https://en.wikipedia.org/wiki/Neural_network#/media/File:Neural_network_example.svg) are represented as a [vector of layers](https://github.com/sisl/NeuralVerification.jl/blob/master/src/utils/network.jl#L40), where a `Layer` consists of the weights matrix, the bias (an affine translation) and the [activation function](https://en.wikipedia.org/wiki/Activation_function).\n",
    "\n",
    "\n",
    "```julia\n",
    "struct Layer{F<:ActivationFunction, N<:Number}\n",
    "    weights::Matrix{N}\n",
    "    bias::Vector{N}\n",
    "    activation::F\n",
    "end\n",
    "\n",
    "struct Network\n",
    "    layers::Vector{Layer} # layers includes output layer\n",
    "end\n",
    "```"
   ]
  },
  {
   "cell_type": "markdown",
   "metadata": {},
   "source": [
    "Now we will work with one \"small\" examples in [NeuralVerification/examples/networks/](https://github.com/sisl/NeuralVerification.jl/tree/master/examples)."
   ]
  },
  {
   "cell_type": "code",
   "execution_count": 113,
   "metadata": {},
   "outputs": [],
   "source": [
    "networks_folder = \"/Users/forets/.julia/dev/NeuralVerification/examples/networks/\"\n",
    "\n",
    "#model = \"cartpole_nnet.nnet\" # 4 layers, 16x4 dims\n",
    "model = \"ACASXU_run2a_4_5_batch_2000.nnet\" # 7 layers, 50x5 dims\n",
    "\n",
    "nnet = read_nnet(networks_folder * model);"
   ]
  },
  {
   "cell_type": "markdown",
   "metadata": {},
   "source": [
    "The number of layers in this neural network as well as the number of nodes in each layer can be obtained as follows."
   ]
  },
  {
   "cell_type": "code",
   "execution_count": 114,
   "metadata": {},
   "outputs": [
    {
     "data": {
      "text/plain": [
       "7"
      ]
     },
     "execution_count": 114,
     "metadata": {},
     "output_type": "execute_result"
    }
   ],
   "source": [
    "L = nnet.layers\n",
    "length(L)"
   ]
  },
  {
   "cell_type": "markdown",
   "metadata": {},
   "source": [
    "The first two layers have two nodes each and the last layer (the output layer) has one node."
   ]
  },
  {
   "cell_type": "code",
   "execution_count": 115,
   "metadata": {},
   "outputs": [
    {
     "data": {
      "text/plain": [
       "7-element Array{Int64,1}:\n",
       " 50\n",
       " 50\n",
       " 50\n",
       " 50\n",
       " 50\n",
       " 50\n",
       "  5"
      ]
     },
     "execution_count": 115,
     "metadata": {},
     "output_type": "execute_result"
    }
   ],
   "source": [
    "NV.n_nodes.(L)"
   ]
  },
  {
   "cell_type": "code",
   "execution_count": 116,
   "metadata": {},
   "outputs": [
    {
     "name": "stdout",
     "output_type": "stream",
     "text": [
      "NeuralVerification.Layer{NeuralVerification.ReLU,Float64}\n",
      "  weights: Array{Float64}((50, 5)) [0.0553801 0.190198 … -1.32009 -0.704992; -0.010481 -0.118571 … -0.736114 -1.00878; … ; -0.0514028 -1.17772 … 0.382633 -0.500615; -0.936931 -0.203562 … -0.20136 0.320543]\n",
      "  bias: Array{Float64}((50,)) [-0.557027, -0.317043, 0.138104, 0.189978, 0.188149, 0.0552362, -0.06767, -0.260805, -0.267183, -0.348518  …  0.180223, -0.408499, -0.429542, -0.0201813, 0.0710165, 0.0685803, -0.303011, -0.0773268, 0.0294964, -0.20074]\n",
      "  activation: NeuralVerification.ReLU NeuralVerification.ReLU()\n"
     ]
    }
   ],
   "source": [
    "dump(L[1])"
   ]
  },
  {
   "cell_type": "markdown",
   "metadata": {},
   "source": [
    "We can directly see the weights matrix and the bias fields of the first layer:"
   ]
  },
  {
   "cell_type": "code",
   "execution_count": 127,
   "metadata": {},
   "outputs": [
    {
     "data": {
      "text/plain": [
       "50×5 Array{Float64,2}:\n",
       "  0.0553801    0.190198    -0.0377036   -1.32009      -0.704992  \n",
       " -0.010481    -0.118571     0.153946    -0.736114     -1.00878   \n",
       "  0.482564     0.0565022    0.0443098    0.0600691     0.0020876 \n",
       " -0.0778212   -0.0577902   -0.153575     0.0605465     0.450204  \n",
       "  0.0143941   -0.25066     -0.132743     0.533158     -0.0781143 \n",
       " -0.00869665  -0.447464    -0.0517125   -0.0990526     0.204336  \n",
       "  0.010042    -0.00129605  -0.00514204  -0.0715019    -0.0436908 \n",
       " -0.0696566    0.215441    -0.00483027   0.155244     -0.858598  \n",
       " -0.0412334    0.845604     0.238394     0.166022     -0.0812237 \n",
       "  0.386318    -0.0315554    0.00926705  -0.369564     -0.731116  \n",
       " -0.727862    -0.136911     0.0147124   -0.76237      -0.181072  \n",
       "  0.00181044  -0.131803     0.0962716    0.175322     -0.863416  \n",
       "  0.0213996    0.126362     0.0304863   -1.13285       1.17788   \n",
       "  ⋮                                                              \n",
       " -0.00247847  -0.00046304   0.00565075  -0.000137539   0.00251783\n",
       " -0.0357091   -0.166897    -0.00179253  -0.579197     -1.04002   \n",
       "  0.344397    -0.939464     0.00142697  -0.18813       0.190268  \n",
       "  0.0630945    1.17492     -1.27231      0.157916     -0.00482825\n",
       " -1.81425     -0.00623258  -0.0159597    0.00737333   -0.00575161\n",
       " -0.00829891  -0.0115763   -0.00241857   0.00255223   -0.0173112 \n",
       " -0.077549    -0.28407      0.00596384  -0.420798      0.511508  \n",
       " -0.00162356  -0.621229     0.599885    -0.170725      0.68297   \n",
       " -0.196361    -0.909656     0.158577    -0.606075     -0.199725  \n",
       "  0.0163317    0.0189992    0.00514905  -0.0639583    -0.0439335 \n",
       " -0.0514028   -1.17772     -0.301449     0.382633     -0.500615  \n",
       " -0.936931    -0.203562     0.279398    -0.20136       0.320543  "
      ]
     },
     "execution_count": 127,
     "metadata": {},
     "output_type": "execute_result"
    }
   ],
   "source": [
    "L[1].weights"
   ]
  },
  {
   "cell_type": "code",
   "execution_count": 128,
   "metadata": {},
   "outputs": [
    {
     "data": {
      "text/plain": [
       "50-element Array{Float64,1}:\n",
       " -0.557027 \n",
       " -0.317043 \n",
       "  0.138104 \n",
       "  0.189978 \n",
       "  0.188149 \n",
       "  0.0552362\n",
       " -0.06767  \n",
       " -0.260805 \n",
       " -0.267183 \n",
       " -0.348518 \n",
       " -0.614078 \n",
       "  0.217921 \n",
       " -0.156318 \n",
       "  ⋮        \n",
       " -0.0137361\n",
       " -0.652247 \n",
       "  0.180223 \n",
       " -0.408499 \n",
       " -0.429542 \n",
       " -0.0201813\n",
       "  0.0710165\n",
       "  0.0685803\n",
       " -0.303011 \n",
       " -0.0773268\n",
       "  0.0294964\n",
       " -0.20074  "
      ]
     },
     "execution_count": 128,
     "metadata": {},
     "output_type": "execute_result"
    }
   ],
   "source": [
    "L[1].bias"
   ]
  },
  {
   "cell_type": "markdown",
   "metadata": {},
   "source": [
    "An input set for ACAS is defined in the `test/runtime3.jl` file so we use it:"
   ]
  },
  {
   "cell_type": "code",
   "execution_count": 130,
   "metadata": {},
   "outputs": [
    {
     "data": {
      "text/plain": [
       "5"
      ]
     },
     "execution_count": 130,
     "metadata": {},
     "output_type": "execute_result"
    }
   ],
   "source": [
    "center = [0.40143256,  0.30570418, -0.49920412,  0.52838383,  0.4]\n",
    "radius = [0.0015, 0.0015, 0.0015, 0.0015, 0.0015]\n",
    "H0 = Hyperrectangle(center, radius)\n",
    "dim(H)"
   ]
  },
  {
   "cell_type": "markdown",
   "metadata": {},
   "source": [
    "Let $X_1$ be the set obtained after we apply the first layer, $X_1 = A_1 H_0 \\oplus b_1$."
   ]
  },
  {
   "cell_type": "code",
   "execution_count": 133,
   "metadata": {},
   "outputs": [
    {
     "data": {
      "text/plain": [
       "Translation{Float64,Array{Float64,1},LinearMap{Float64,Hyperrectangle{Float64},Float64,Array{Float64,2}}}(LinearMap{Float64,Hyperrectangle{Float64},Float64,Array{Float64,2}}([0.0553801 0.190198 … -1.32009 -0.704992; -0.010481 -0.118571 … -0.736114 -1.00878; … ; -0.0514028 -1.17772 … 0.382633 -0.500615; -0.936931 -0.203562 … -0.20136 0.320543], Hyperrectangle{Float64}([0.401433, 0.305704, -0.499204, 0.528384, 0.4], [0.0015, 0.0015, 0.0015, 0.0015, 0.0015])), [-0.557027, -0.317043, 0.138104, 0.189978, 0.188149, 0.0552362, -0.06767, -0.260805, -0.267183, -0.348518  …  0.180223, -0.408499, -0.429542, -0.0201813, 0.0710165, 0.0685803, -0.303011, -0.0773268, 0.0294964, -0.20074])"
      ]
     },
     "execution_count": 133,
     "metadata": {},
     "output_type": "execute_result"
    }
   ],
   "source": [
    "A1 = L[1].weights\n",
    "b1 = L[1].bias\n",
    "X1 = A1 * H0 ⊕ b1"
   ]
  },
  {
   "cell_type": "markdown",
   "metadata": {},
   "source": [
    "Note here that $X_1$ is of dimension 50:"
   ]
  },
  {
   "cell_type": "code",
   "execution_count": 134,
   "metadata": {},
   "outputs": [
    {
     "data": {
      "text/plain": [
       "50"
      ]
     },
     "execution_count": 134,
     "metadata": {},
     "output_type": "execute_result"
    }
   ],
   "source": [
    "dim(X1)"
   ]
  },
  {
   "cell_type": "markdown",
   "metadata": {},
   "source": [
    "Let's consider an element from $X_1$ and apply the rectification operation:"
   ]
  },
  {
   "cell_type": "code",
   "execution_count": 138,
   "metadata": {},
   "outputs": [
    {
     "data": {
      "text/plain": [
       "10-element Array{Float64,1}:\n",
       " -1.4373405187421722  \n",
       " -1.22681127708228    \n",
       "  0.359548807009313   \n",
       "  0.429809995050787   \n",
       "  0.43403164918939596 \n",
       " -0.029834832776401976\n",
       " -0.1167248623560412  \n",
       " -0.4819057030262836  \n",
       " -0.08900415865380401 \n",
       " -0.695428185257858   "
      ]
     },
     "execution_count": 138,
     "metadata": {},
     "output_type": "execute_result"
    }
   ],
   "source": [
    "an_element(X1)[1:10] # showing first ten entries only"
   ]
  },
  {
   "cell_type": "code",
   "execution_count": 142,
   "metadata": {},
   "outputs": [
    {
     "data": {
      "text/plain": [
       "10-element Array{Float64,1}:\n",
       " 0.0                \n",
       " 0.0                \n",
       " 0.359548807009313  \n",
       " 0.429809995050787  \n",
       " 0.43403164918939596\n",
       " 0.0                \n",
       " 0.0                \n",
       " 0.0                \n",
       " 0.0                \n",
       " 0.0                "
      ]
     },
     "execution_count": 142,
     "metadata": {},
     "output_type": "execute_result"
    }
   ],
   "source": [
    "v = LazySets.rectify(an_element(X1))\n",
    "v[1:10]"
   ]
  },
  {
   "cell_type": "code",
   "execution_count": 147,
   "metadata": {},
   "outputs": [
    {
     "data": {
      "text/plain": [
       "13"
      ]
     },
     "execution_count": 147,
     "metadata": {},
     "output_type": "execute_result"
    }
   ],
   "source": [
    "count(!iszero, v) # number of elements which are not zero"
   ]
  },
  {
   "cell_type": "code",
   "execution_count": 151,
   "metadata": {},
   "outputs": [
    {
     "data": {
      "text/plain": [
       "X2 (generic function with 1 method)"
      ]
     },
     "execution_count": 151,
     "metadata": {},
     "output_type": "execute_result"
    }
   ],
   "source": [
    "# next layer\n",
    "A2 = L[1].weights\n",
    "b2 = L[1].bias\n",
    "X2(Y) = A2 * (Y) ⊕ b2"
   ]
  },
  {
   "cell_type": "code",
   "execution_count": 153,
   "metadata": {},
   "outputs": [
    {
     "data": {
      "text/plain": [
       "(50, 5)"
      ]
     },
     "execution_count": 153,
     "metadata": {},
     "output_type": "execute_result"
    }
   ],
   "source": [
    "size(A2)"
   ]
  }
 ],
 "metadata": {
  "kernelspec": {
   "display_name": "Julia 1.1.0-rc2",
   "language": "julia",
   "name": "julia-1.1"
  },
  "language_info": {
   "file_extension": ".jl",
   "mimetype": "application/julia",
   "name": "julia",
   "version": "1.1.0"
  }
 },
 "nbformat": 4,
 "nbformat_minor": 2
}
