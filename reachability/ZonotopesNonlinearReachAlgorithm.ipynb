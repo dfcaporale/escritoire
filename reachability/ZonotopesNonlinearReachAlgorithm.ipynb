{
 "cells": [
  {
   "cell_type": "markdown",
   "metadata": {},
   "source": [
    "The theory for this notebook is developed in `ZonotopesNonlinearReach`."
   ]
  },
  {
   "cell_type": "markdown",
   "metadata": {},
   "source": [
    "## Dependencies"
   ]
  },
  {
   "cell_type": "code",
   "execution_count": null,
   "metadata": {},
   "outputs": [],
   "source": [
    "# load packages\n",
    "using Plots\n",
    "using LazySets, MathematicalSystems, Reachability\n",
    "using LazySets.Approximations\n",
    "using Reachability: center\n",
    "using Reachability.ReachSets: Φ₁\n",
    "using IntervalArithmetic, ValidatedNumerics\n",
    "using LazySets: Interval, translate\n",
    "using TaylorSeries\n",
    "using TaylorSeries: gradient, jacobian, hessian, derivative\n",
    "const ∂ = derivative\n",
    "using RecursiveArrayTools"
   ]
  },
  {
   "cell_type": "markdown",
   "metadata": {},
   "source": [
    "After loading the packages, you should precompile the functions in the following section."
   ]
  },
  {
   "cell_type": "markdown",
   "metadata": {},
   "source": [
    "## Model"
   ]
  },
  {
   "cell_type": "code",
   "execution_count": null,
   "metadata": {},
   "outputs": [],
   "source": [
    "include(\"ZonotopesNonlinearReach/circle.jl\")\n",
    "@time begin 𝑃, 𝑂, 𝑂_ASB08 = circle() end;\n",
    "\n",
    "# include(\"ZonotopesNonlinearReach/vanderpol.jl\")\n",
    "# @time begin 𝑃, 𝑂, 𝑂_ASB08 = vanderpol() end;\n",
    "\n",
    "# include(\"ZonotopesNonlinearReach/laubloomis.jl\")\n",
    "# @time begin 𝑃, 𝑂, 𝑂_ASB08 = laubloomis() end;"
   ]
  },
  {
   "cell_type": "code",
   "execution_count": null,
   "metadata": {},
   "outputs": [],
   "source": [
    "𝑃.s.f"
   ]
  },
  {
   "cell_type": "markdown",
   "metadata": {},
   "source": [
    "## Functions for sound linearization"
   ]
  },
  {
   "cell_type": "code",
   "execution_count": null,
   "metadata": {},
   "outputs": [],
   "source": [
    "# f    -- nonlinear ODE\n",
    "# 𝑋₀i  -- initial set of current chunk\n",
    "# n    -- state dimension\n",
    "# δ    -- step size\n",
    "function linearize(f, n, 𝑋₀i, δ)\n",
    "    # linearization point for current chunk\n",
    "    c = center(𝑋₀i)\n",
    "    x̃ = c + δ/2 * f(c)\n",
    "\n",
    "    # evaluate Jacobian at the linearization point\n",
    "    Ax̃ = jacobian(f, x̃) #  map(x -> evaluate(x, x̃), Jf)\n",
    "    bx̃ = f(x̃) - Ax̃ * x̃\n",
    "\n",
    "    # instantiate linearized system; it doesn't have state constraints\n",
    "    𝑆lin = CACS(Ax̃, bx̃, Universe(n)) # shall we accept AffineContSys and normalize?\n",
    "    𝑃lin = IVP(𝑆lin, 𝑋₀i)\n",
    "    return x̃, 𝑃lin\n",
    "end\n",
    "\n",
    "# let's assume n = 2 to simplify\n",
    "function admissible_error(Ax̃, δ, θ; n=2)\n",
    "    @assert n == 2\n",
    "    Φ₁_Aδ = Φ₁(Ax̃, δ)\n",
    "    R̄err = Hyperrectangle(zeros(2), θ*δ)\n",
    "    l̄ = abs.(inv(Φ₁_Aδ)) * θ * δ\n",
    "    L̄ = Hyperrectangle(zeros(2), l̄)\n",
    "    return R̄err, L̄\n",
    "end\n",
    "\n",
    "# let's assume n = 2 to simplify\n",
    "function lagrange_remainder(f, Rlin, R̄err, x̃; n=2)\n",
    "    @assert n == 2\n",
    "    \n",
    "    Hf₁ = [∂(f[1], (2, 0)) ∂(f[1], (1, 1));\n",
    "           ∂(f[1], (1, 1)) ∂(f[1], (0, 2))]\n",
    "    Hf₂ = [∂(f[2], (2, 0)) ∂(f[2], (1, 1));\n",
    "           ∂(f[2], (1, 1)) ∂(f[2], (0, 2))]\n",
    "\n",
    "    R̂lin = ConvexHullArray([Ri.X for Ri in Rlin.Xk]) ⊕ R̄err\n",
    "    R̂lin_rect = overapproximate(R̂lin, Hyperrectangle)\n",
    "\n",
    "    ξ = CH(Singleton(x̃), R̂lin_rect)\n",
    "    ξ_rect = overapproximate(ξ, Hyperrectangle)\n",
    "    ξ_box = convert(IntervalBox, ξ_rect)\n",
    "\n",
    "    Hf₁_box = map(Hf_ij -> evaluate(Hf_ij, ξ_box), Hf₁)\n",
    "    Hf₂_box = map(Hf_ij -> evaluate(Hf_ij, ξ_box), Hf₂)\n",
    "\n",
    "    R̂lin_zono = convert(Zonotope, R̂lin_rect)\n",
    "\n",
    "    γ = abs.(R̂lin_zono.center - x̃) + sum(abs.(R̂lin_zono.generators), dims=2)\n",
    "    \n",
    "    G = [sup.(abs.(Hf₁_box)), sup.(abs.(Hf₂_box))];\n",
    "    li_zono = [(1/2 * transpose(γ) * G[i] * γ)[1, 1] for i in 1:n]\n",
    "    L = Hyperrectangle(zeros(n), li_zono)\n",
    "    return L\n",
    "end"
   ]
  },
  {
   "cell_type": "code",
   "execution_count": null,
   "metadata": {},
   "outputs": [],
   "source": [
    "function _add_chunk!(Rsets::Vector{HRECT}, Rlin, R̄err, t0)\n",
    "    @inbounds for i in eachindex(Rlin.Xk)\n",
    "        Ri = Rlin.Xk[i].X ⊕ R̄err\n",
    "        Ri = overapproximate(Ri, Hyperrectangle)\n",
    "        Ri = ReachSet(Ri, t0 + Rlin.Xk[i].t_start, t0 + Rlin.Xk[i].t_end)\n",
    "        push!(Rsets[k], Ri)\n",
    "    end\n",
    "    return Rsets\n",
    "end\n",
    "\n",
    "function _add_chunk!(Rsets::Vector{ZONO}, k, Rlin, R̄err, t0)\n",
    "    @inbounds for i in eachindex(Rlin.Xk)\n",
    "        Ri = minkowski_sum(Rlin.Xk[i].X, convert(Zonotope, R̄err))\n",
    "        Ri = ReachSet(Ri, t0 + Rlin.Xk[i].t_start, t0 + Rlin.Xk[i].t_end)\n",
    "        push!(Rsets[k], Ri)\n",
    "    end\n",
    "    return Rsets\n",
    "end"
   ]
  },
  {
   "cell_type": "code",
   "execution_count": null,
   "metadata": {},
   "outputs": [],
   "source": [
    "using MathematicalSystems: AbstractContinuousSystem\n",
    "\n",
    "const HRECT = ReachSet{Hyperrectangle{Float64}, Float64}\n",
    "const ZONO = ReachSet{Zonotope{Float64}, Float64}\n",
    "\n",
    "# TODO: generalize to the set type in the options \n",
    "_opC_return_type(opC::BFFPSV18) = Vector{HRECT}\n",
    "_opC_return_type(opC::GLGM06) = Vector{ZONO}\n",
    "\n",
    "\"\"\"\n",
    "    LinearizedSystem{PT, VT} <: AbstractContinuousSystem\n",
    "\n",
    "### Fields\n",
    "\n",
    "- `𝑃`   -- linear initial value problem\n",
    "- `x̃`   -- linearization point\n",
    "- `dom` -- domain of validity of the linearization\n",
    "\"\"\"\n",
    "struct LinearizedSystem{PT, VT} <: AbstractContinuousSystem\n",
    "    𝑃::PT # linearized IVP\n",
    "    x̃::VT # lineariztion point\n",
    "    dom::IntervalArithmetic.Interval{Float64}\n",
    "end"
   ]
  },
  {
   "cell_type": "markdown",
   "metadata": {},
   "source": [
    "## Main Algorithm"
   ]
  },
  {
   "cell_type": "code",
   "execution_count": null,
   "metadata": {},
   "outputs": [],
   "source": [
    "# ====================\n",
    "# Initialization\n",
    "# ====================\n",
    "\n",
    "TH = Hyperrectangle{Float64} # base set type\n",
    "\n",
    "f = 𝑃.s.f # let's assume that 𝑃 is a BBCS and that 𝑂 are some options\n",
    "n = statedim(𝑃) # state space dimension\n",
    "Ω0 = 𝑃.x0 # initial set\n",
    "T = 4 # time horizon\n",
    "δ = 0.1 # step size for local time horizon\n",
    "δcont = 0.05  # step size for continuous post\n",
    "N = round(Int, T / δ) # number of sets for continuous post\n",
    "θ = 𝑂_ASB08[:θ]\n",
    "split_blocks = 𝑂_ASB08[:split_blocks]\n",
    "# max_chunks = ? \n",
    "\n",
    "𝑂 = Options(:T=>T, :project_reachset=>true)\n",
    "𝑂cont = Options(:δ=>δcont)\n",
    "\n",
    "# set type of the final result\n",
    "# the following stores a vector of vectors (VOA) each of hyperrectangular type\n",
    "# let k be the integer that indicates the chunk being computed: [δ*(k-1), δk] for k = 1, ..., N\n",
    "# ie. k = 0 => [0, δ] : we associate to it more than one flowpipe in general\n",
    "#     k = 1 => [δ, 2δ] : similar for all other time intervals\n",
    "#          . . .\n",
    "#     k = N => [δ(N-1), δN]\n",
    "#Rsets = VectorOfArray(Vector{Vector{TH}}(), (1, 1))\n",
    "#typeof(Rsets)\n",
    "Rsets = Vector{Vector{Vector{TH}}}(undef, N) # voy a tener 10 guachos\n",
    "\n",
    "Qdot = []\n",
    "push!(Qdot, Ω0) # queue of sets to be processed"
   ]
  },
  {
   "cell_type": "code",
   "execution_count": null,
   "metadata": {},
   "outputs": [],
   "source": [
    "round(Int, T)"
   ]
  },
  {
   "cell_type": "code",
   "execution_count": null,
   "metadata": {},
   "outputs": [],
   "source": [
    "# ====================\n",
    "# Main loop\n",
    "# ====================\n",
    "T = round(Int, T)\n",
    "\n",
    "for i in 1:T  # 1 : N   # index on the current chunk\n",
    "    Q = deepcopy(Qdot) # update queue\n",
    "    Qdot = []\n",
    "    Ωi = []\n",
    "    push!(Ωi, EmptySet{Float64}())\n",
    "    Ωint = []\n",
    "    \n",
    "    Ωh = [] # UnionSetArray{Float64, <:LazySet}()\n",
    "    push!(Ωh, EmptySet{Float64}())\n",
    "    Ωhint = []\n",
    "    \n",
    "    # suppose that n is onocida\n",
    "    \n",
    "    while !isempty(Q)\n",
    "        Ω̄ = pop!(Q)  # remove set from queue\n",
    "        x̃, P = linearize(f, n, Ω0, δ)   # linearize(𝑃_curr, δ)\n",
    "        println(\"starting chunk $i\")\n",
    "        Rlin = solve(P, 𝑂, op=BFFPSV18(𝑂cont))\n",
    "        println(\"finished chunk $i\")\n",
    "        \n",
    "        #Ωh = Rlin.Xk[end].X\n",
    "        push!(Ωh, Rlin.Xk[end].X)\n",
    "\n",
    "        Ωhint = [Rlin.Xk[i].X for i in 1:length(Rlin.Xk)]\n",
    "\n",
    "        \n",
    "        # compute set of admissible linearization errors\n",
    "        R̄err, L̄ = admissible_error(P.s.A, δ, θ, n=2)\n",
    "\n",
    "        \n",
    "        # estimate Lagrange remainder\n",
    "        L = lagrange_remainder(f, Rlin, R̄err, x̃, n=2)\n",
    "        \n",
    "        if L ⊆ L̄\n",
    "            push!(Qdot, Ωh)\n",
    "            push!(Ωi, Ωh) # really should take the set union here though\n",
    "            push!(Ωint)\n",
    "        else\n",
    "            error(\"needs split!\")\n",
    "            push!(Q, split(Ω̄, split_blocks))\n",
    "        end\n",
    "    end\n",
    "end"
   ]
  },
  {
   "cell_type": "code",
   "execution_count": null,
   "metadata": {},
   "outputs": [],
   "source": [
    "plot*Qint"
   ]
  },
  {
   "cell_type": "code",
   "execution_count": null,
   "metadata": {},
   "outputs": [],
   "source": [
    "\n",
    "# count number of continuous post chunks added to Rsets\n",
    "nchunks = 0\n",
    "\n",
    "# queue of problems to be processed\n",
    "#𝑃_queue = Vector{typeof(𝑃)}()\n",
    "#push!(𝑃_queue, 𝑃)\n",
    "\n",
    "# queue of sets to be processed\n",
    "Qp_queue = Vector{T}()\n",
    "push!(Qp_queue, 𝑃)\n"
   ]
  },
  {
   "cell_type": "code",
   "execution_count": null,
   "metadata": {},
   "outputs": [],
   "source": [
    "# ====================\n",
    "# Main loop\n",
    "# ====================\n",
    "\n",
    "for i in 1:N\n",
    "        \n",
    "        \n",
    "        #=\n",
    "    while !isempty(𝑃_queue)\n",
    "        println(\"length(𝑃_queue) = $(length(𝑃_queue))\")\n",
    "        𝑃_curr = pop!(𝑃_queue)\n",
    "        k_curr = pop!(k_queue)\n",
    "\n",
    "        # obtain linearized system\n",
    "        Lin = linearize(𝑃_curr, δ)\n",
    "        Plin = Lin.P\n",
    "        \n",
    "        # compute flowpipe of the linearized system\n",
    "        Rlin = solve(Plinear.P, 𝑂cont, op=𝑂[:opC])\n",
    "\n",
    "        # compute set of admissible linearization errors\n",
    "        R̄err, L̄ = admissible_error(𝑃lin.s.A, δ, θ, n=2)\n",
    "        L = lagrange_remainder(f, Rlin, R̄err, x̃, n=2)\n",
    "\n",
    "         if !(L ⊆ L̄)\n",
    "             println(\"splitting chunk $nchunks\")\n",
    "             𝑋₀split = split(𝑃lin.x0, split_blocks)\n",
    "\n",
    "             for 𝑋₀i in 𝑋₀split\n",
    "                 push!(𝑃_queue, IVP(𝑃.s, 𝑋₀i))\n",
    "                 push!(k_queue, k_curr)\n",
    "             end\n",
    "         else\n",
    "             nchunks += 1\n",
    "             println(\"adding chunk $nchunks\")\n",
    "             _add_chunk!(Rsets[k_curr], Rlin, R̄err, δ * (k_curr - 1) )\n",
    "             if δ * (k_curr + 1) < T\n",
    "                push!(𝑃_queue, IVP(𝑃.s, Rsets[k_curr][end].X))\n",
    "                push!(k_queue, k_curr + 1)\n",
    "             end\n",
    "         end\n",
    "            \n",
    "         if nchunks > max_chunks\n",
    "             error(\"maximum number of chunks exceeded\")\n",
    "             #return ReachSolution(Rsets, 𝑂)\n",
    "         end\n",
    "            \n",
    "        # inclusion test\n",
    "        # . . . \n",
    "    end \n",
    "=#"
   ]
  },
  {
   "cell_type": "code",
   "execution_count": null,
   "metadata": {},
   "outputs": [],
   "source": []
  },
  {
   "cell_type": "code",
   "execution_count": null,
   "metadata": {},
   "outputs": [],
   "source": []
  },
  {
   "cell_type": "markdown",
   "metadata": {},
   "source": [
    "## Older stuff"
   ]
  },
  {
   "cell_type": "code",
   "execution_count": null,
   "metadata": {
    "scrolled": true
   },
   "outputs": [],
   "source": [
    "# The structure that holds the flowpipe, Rsets, is a VectorOfArray\n",
    "function post(𝑃::InitialValueProblem{<:BBCS}, 𝑂::Options)\n",
    "\n",
    "    # ====================\n",
    "    # Initialization\n",
    "    # ====================\n",
    "    \n",
    "    # get nonlinear ODE\n",
    "    f = 𝑃.s.f\n",
    "    \n",
    "    # unrwap commonly used options\n",
    "    T, δ, δcont, θ = 𝑂[:T], 𝑂[:δ], 𝑂[:opC].options[:δ], 𝑂[:θ]\n",
    "    N = T / δ\n",
    "    split_blocks, max_chunks = 𝑂[:split_blocks], 𝑂[:max_chunks]\n",
    "    \n",
    "    # final result is stored in Rsets\n",
    "    #T = _opC_return_type(𝑂[:opC])\n",
    "    T = Hyperrectangle{Float64}\n",
    "    Rsets = VectorOfArray(Vector{Vector{T}}(), (1, 1)) # vector de vectores de tipo T\n",
    "    \n",
    "    # count number of continuous post chunks added to Rsets\n",
    "    nchunks = 0\n",
    "\n",
    "    # queue of problems to be processed\n",
    "    𝑃_queue = Vector{typeof(𝑃)}()\n",
    "    push!(𝑃_queue, 𝑃)\n",
    "\n",
    "    # queue of sets to be processed\n",
    "    Qp_queue = Vector{T}()\n",
    "    push!(Qp_queue, 𝑃)\n",
    "    \n",
    "    # integer for the chunk being computed: [δ*(k-1), δk]\n",
    "    # ie. k = 0 => [0, δ]\n",
    "    #     k = 1 => [δ, 2δ]\n",
    "    #          . . .\n",
    "    #     k = N => [δ(N-1), δN]\n",
    "    #k_queue = Vector{Int}()\n",
    "    #push!(k_queue, 1)\n",
    "\n",
    "    # ====================\n",
    "    # Main loop\n",
    "    # ====================\n",
    "\n",
    "    for i in 1:N\n",
    "        \n",
    "        \n",
    "        #=\n",
    "    while !isempty(𝑃_queue)\n",
    "        println(\"length(𝑃_queue) = $(length(𝑃_queue))\")\n",
    "        𝑃_curr = pop!(𝑃_queue)\n",
    "        k_curr = pop!(k_queue)\n",
    "\n",
    "        # obtain linearized system\n",
    "        Lin = linearize(𝑃_curr, δ)\n",
    "        Plin = Lin.P\n",
    "        \n",
    "        # compute flowpipe of the linearized system\n",
    "        Rlin = solve(Plinear.P, 𝑂cont, op=𝑂[:opC])\n",
    "\n",
    "        # compute set of admissible linearization errors\n",
    "        R̄err, L̄ = admissible_error(𝑃lin.s.A, δ, θ, n=2)\n",
    "        L = lagrange_remainder(f, Rlin, R̄err, x̃, n=2)\n",
    "\n",
    "         if !(L ⊆ L̄)\n",
    "             println(\"splitting chunk $nchunks\")\n",
    "             𝑋₀split = split(𝑃lin.x0, split_blocks)\n",
    "\n",
    "             for 𝑋₀i in 𝑋₀split\n",
    "                 push!(𝑃_queue, IVP(𝑃.s, 𝑋₀i))\n",
    "                 push!(k_queue, k_curr)\n",
    "             end\n",
    "         else\n",
    "             nchunks += 1\n",
    "             println(\"adding chunk $nchunks\")\n",
    "             _add_chunk!(Rsets[k_curr], Rlin, R̄err, δ * (k_curr - 1) )\n",
    "             if δ * (k_curr + 1) < T\n",
    "                push!(𝑃_queue, IVP(𝑃.s, Rsets[k_curr][end].X))\n",
    "                push!(k_queue, k_curr + 1)\n",
    "             end\n",
    "         end\n",
    "            \n",
    "         if nchunks > max_chunks\n",
    "             error(\"maximum number of chunks exceeded\")\n",
    "             #return ReachSolution(Rsets, 𝑂)\n",
    "         end\n",
    "            \n",
    "        # inclusion test\n",
    "        # . . . \n",
    "    end \n",
    "        \n",
    "        =#\n",
    "\n",
    "    println(\"total chunks = $nchunks\")\n",
    "    return Rsets\n",
    "    #return ReachSolution(Rsets, 𝑂)\n",
    "end"
   ]
  },
  {
   "cell_type": "code",
   "execution_count": null,
   "metadata": {},
   "outputs": [],
   "source": [
    "T = _opC_return_type(BFFPSV18())\n",
    "Rsets = VectorOfArray(Vector{Vector{T}}(), (1, 1))\n",
    "push!(Rsets, Vector{HRECT}())"
   ]
  },
  {
   "cell_type": "code",
   "execution_count": null,
   "metadata": {},
   "outputs": [],
   "source": [
    "typeof(Rsets)"
   ]
  },
  {
   "cell_type": "code",
   "execution_count": null,
   "metadata": {},
   "outputs": [],
   "source": [
    "typeof(Rsets[1])"
   ]
  },
  {
   "cell_type": "code",
   "execution_count": null,
   "metadata": {},
   "outputs": [],
   "source": [
    "@time Rsets = post(𝑃, 𝑂, 𝑂_ASB08);\n",
    "#nsets = length(Rsol.Xk)"
   ]
  },
  {
   "cell_type": "code",
   "execution_count": null,
   "metadata": {},
   "outputs": [],
   "source": [
    "maximum([Rsol.Xk[i].t_end for i in 1:nsets])"
   ]
  },
  {
   "cell_type": "code",
   "execution_count": null,
   "metadata": {},
   "outputs": [],
   "source": [
    "plot(Rsol, xlab=\"x\", ylab=\"y\", alpha=.5, indices=1:500:nsets)\n",
    "plot!(x->x, x->2.75, -3., 3., line=2, color=\"red\", linestyle=:dash, legend=nothing)"
   ]
  },
  {
   "cell_type": "code",
   "execution_count": null,
   "metadata": {},
   "outputs": [],
   "source": [
    "# check that specification holds\n",
    "@assert all([ρ([0.0, 1.0], Rsol.Xk[i].X) < 2.75 for i in eachindex(Rsol.Xk)])"
   ]
  },
  {
   "cell_type": "code",
   "execution_count": null,
   "metadata": {},
   "outputs": [],
   "source": [
    "maximum([ρ([0.0, 1.0], Rsol.Xk[i].X) for i in eachindex(Rsol.Xk)])"
   ]
  },
  {
   "cell_type": "code",
   "execution_count": null,
   "metadata": {},
   "outputs": [],
   "source": [
    "any([Rsol.Xk[i].X ⊆ Rsol.Xk[1].X for i in 2:nsets])"
   ]
  },
  {
   "cell_type": "markdown",
   "metadata": {},
   "source": []
  },
  {
   "cell_type": "code",
   "execution_count": null,
   "metadata": {},
   "outputs": [],
   "source": []
  },
  {
   "cell_type": "code",
   "execution_count": null,
   "metadata": {},
   "outputs": [],
   "source": []
  },
  {
   "cell_type": "code",
   "execution_count": null,
   "metadata": {},
   "outputs": [],
   "source": []
  },
  {
   "cell_type": "code",
   "execution_count": null,
   "metadata": {},
   "outputs": [],
   "source": []
  },
  {
   "cell_type": "markdown",
   "metadata": {},
   "source": [
    "### Other scripts"
   ]
  },
  {
   "cell_type": "code",
   "execution_count": null,
   "metadata": {},
   "outputs": [],
   "source": [
    "#=\n",
    "@time begin\n",
    "# number of Taylor terms considered in the linearization\n",
    "taylor_terms = 4\n",
    "\n",
    "# define the working variables and fix the max order in the Taylor series expansion\n",
    "x = set_variables(\"x\", numvars=2, order=taylor_terms)\n",
    "\n",
    "# define the ODE\n",
    "f = Vector{TaylorN{Float64}}(undef, 2)\n",
    "f[1] = x[2]\n",
    "f[2] = x[2] * (1-x[1]^2) - x[1]\n",
    "\n",
    "# define the initial-value problem\n",
    "𝑋₀ = Hyperrectangle(low=[1.25, 2.35], high=[1.55, 2.45])\n",
    "𝑆 = BlackBoxContinuousSystem(f, 2)\n",
    "𝑃 = InitialValueProblem(𝑆, 𝑋₀)\n",
    "\n",
    "# take the gradient of the vector field symbolically\n",
    "#∇f = [gradient(f[i]) for i in 1:2]\n",
    "\n",
    "# take the Jacobian matrix of the vector field symbolically\n",
    "#Jf = [∂(f[1], (1, 0)) ∂(f[1], (0, 1));\n",
    "#      ∂(f[2], (1, 0)) ∂(f[2], (0, 1))]\n",
    "\n",
    "# algorithm-specific options\n",
    "𝑂 = Options(:δ => 0.02, :δcont => 0.02/10, :max_order=>2, :θ=>fill(0.05, 2))\n",
    "\n",
    "# unwrap options\n",
    "δ = O[:δ]\n",
    "θ = O[:θ]\n",
    "\n",
    "# collection of flowpipes; the set type depends on add_chunk! and the continuous post\n",
    "Rsets = Vector{ReachSet{Hyperrectangle{Float64}, Float64}}()\n",
    "end\n",
    "=#"
   ]
  },
  {
   "cell_type": "code",
   "execution_count": null,
   "metadata": {},
   "outputs": [],
   "source": [
    "#=\n",
    "@time begin\n",
    "x̃, 𝑃lin = linearize(𝑃, δ)\n",
    "end;\n",
    "𝑋₀i = 𝑃lin.x0\n",
    "\n",
    "# use zonotope-based continuous reach\n",
    "@time begin\n",
    "Rlin_zono = solve(𝑃lin, Options(:T=>O[:δ]), op=GLGM06(:δ=>O[:δcont], :max_order=>O[:max_order]))\n",
    "end;\n",
    "\n",
    "# use decomposition-based continuous reach\n",
    "@time begin\n",
    "Rlin_box = solve(𝑃lin, Options(:T=>O[:δ]), op=BFFPSV18(:δ=>O[:δcont]))\n",
    "end;\n",
    "\n",
    "plot(Rlin_zono, alpha=.5)\n",
    "plot!(Rlin_box, alpha=.5, xlab=\"x\", ylab=\"y\")\n",
    "\n",
    "Rlin = Rlin_zono  # decide which continuoust post to use\n",
    "\n",
    "@time begin\n",
    "R̄err, L̄ = admissible_error(𝑃lin.s.A, δ, θ; n=2)\n",
    "L = lagrange_remainder(f, Rlin, R̄err, x̃; n=2)\n",
    "end\n",
    "=#"
   ]
  },
  {
   "cell_type": "code",
   "execution_count": null,
   "metadata": {},
   "outputs": [],
   "source": []
  }
 ],
 "metadata": {
  "@webio": {
   "lastCommId": null,
   "lastKernelId": null
  },
  "kernelspec": {
   "display_name": "Julia 1.1.0-rc2",
   "language": "julia",
   "name": "julia-1.1"
  },
  "language_info": {
   "file_extension": ".jl",
   "mimetype": "application/julia",
   "name": "julia",
   "version": "1.1.0"
  }
 },
 "nbformat": 4,
 "nbformat_minor": 2
}
