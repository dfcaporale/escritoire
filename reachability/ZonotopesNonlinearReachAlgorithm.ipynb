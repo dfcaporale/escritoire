{
 "cells": [
  {
   "cell_type": "markdown",
   "metadata": {},
   "source": [
    "The theory for this notebook is developed in `ZonotopesNonlinearReach`."
   ]
  },
  {
   "cell_type": "code",
   "execution_count": 1,
   "metadata": {},
   "outputs": [
    {
     "name": "stderr",
     "output_type": "stream",
     "text": [
      "┌ Info: Recompiling stale cache file /Users/forets/.julia/compiled/v1.1/Reachability/CHV4V.ji for Reachability [774a0091-654f-5c65-bbdc-ad5b67b45832]\n",
      "└ @ Base loading.jl:1184\n",
      "WARNING: using Approximations._At_mul_B in module ReachSets conflicts with an existing identifier.\n",
      "WARNING: using IntervalArithmetic.isdisjoint in module ReachSets conflicts with an existing identifier.\n",
      "WARNING: using TaylorSeries.update! in module ReachSets conflicts with an existing identifier.\n"
     ]
    }
   ],
   "source": [
    "# load packages\n",
    "using Plots\n",
    "using LazySets, MathematicalSystems, Reachability\n",
    "using LazySets.Approximations\n",
    "using Reachability: center\n",
    "using Reachability.ReachSets: Φ₁\n",
    "using IntervalArithmetic, ValidatedNumerics\n",
    "using LazySets: Interval, translate\n",
    "using TaylorSeries\n",
    "using TaylorSeries: gradient, jacobian, hessian, derivative\n",
    "const ∂ = derivative\n",
    "using RecursiveArrayTools"
   ]
  },
  {
   "cell_type": "markdown",
   "metadata": {},
   "source": [
    "After loading the packages, you should precompile the functions under the section *auxiliary functions* below."
   ]
  },
  {
   "cell_type": "code",
   "execution_count": 2,
   "metadata": {},
   "outputs": [
    {
     "data": {
      "text/plain": [
       "vanderpol (generic function with 1 method)"
      ]
     },
     "execution_count": 2,
     "metadata": {},
     "output_type": "execute_result"
    }
   ],
   "source": [
    "function vanderpol()\n",
    "    # number of Taylor terms considered in the linearization\n",
    "    taylor_terms = 4\n",
    "\n",
    "    # define the working variables and fix the max order in the Taylor series expansion\n",
    "    x = set_variables(\"x\", numvars=2, order=taylor_terms)\n",
    "\n",
    "    # define the ODE\n",
    "    f = Vector{TaylorN{Float64}}(undef, 2)\n",
    "    f[1] = x[2]\n",
    "    f[2] = x[2] * (1-x[1]^2) - x[1]\n",
    "\n",
    "    # define the initial-value problem\n",
    "    𝑋₀ = Hyperrectangle(low=[1.25, 2.35], high=[1.55, 2.45])\n",
    "    \n",
    "    #𝑋₀ = convert(Zonotope, 𝑋₀)\n",
    "    #𝑋₀ = split(𝑋₀, [10, 10])[1] # temp\n",
    "    \n",
    "    𝑆 = BlackBoxContinuousSystem(f, 2)\n",
    "    𝑃 = InitialValueProblem(𝑆, 𝑋₀)\n",
    "\n",
    "    # general options\n",
    "    𝑂 = Options(:T => 5.0, :plot_vars=>[1, 2])\n",
    "\n",
    "    # algorithm-specific options\n",
    "    𝑂_ASB08 = Options(:δ => 0.01, :θ=>fill(0.05, 2), :taylor_terms=>taylor_terms,\n",
    "                      :split_blocks=>[2, 2], :max_chunks=>5000, :opC => BFFPSV18(:δ => 0.01/10))\n",
    "\n",
    "    return 𝑃, 𝑂, 𝑂_ASB08 \n",
    "end"
   ]
  },
  {
   "cell_type": "code",
   "execution_count": 3,
   "metadata": {},
   "outputs": [
    {
     "name": "stdout",
     "output_type": "stream",
     "text": [
      "  3.468925 seconds (6.68 M allocations: 332.380 MiB, 13.84% gc time)\n"
     ]
    }
   ],
   "source": [
    "@time begin 𝑃, 𝑂, 𝑂_ASB08 = vanderpol() end;"
   ]
  },
  {
   "cell_type": "code",
   "execution_count": 4,
   "metadata": {},
   "outputs": [
    {
     "data": {
      "text/plain": [
       "laubloomis (generic function with 1 method)"
      ]
     },
     "execution_count": 4,
     "metadata": {},
     "output_type": "execute_result"
    }
   ],
   "source": [
    "function laubloomis(; T=20.0, W=0.01, plot_vars=[0, 4],\n",
    "                      property=(t,x)->x[4] < 4.5,\n",
    "                      project_reachset=true)\n",
    "\n",
    "    # number of Taylor terms considered in the linearization\n",
    "    taylor_terms = 4\n",
    "\n",
    "    # define the working variables and fix the max order in the Taylor series expansion\n",
    "    x = set_variables(\"x\", numvars=7, order=taylor_terms)\n",
    "\n",
    "    # equations, x' = f(x(t))\n",
    "    f = Vector{TaylorN{Float64}}(undef, 7)\n",
    "    f[1] = 1.4*x[3] - 0.9*x[1]\n",
    "    f[2] = 2.5*x[5] - 1.5*x[2]\n",
    "    f[3] = 0.6*x[7] - 0.8*(x[2]*x[3])\n",
    "    f[4] = 2 - 1.3*(x[3]*x[4])\n",
    "    f[5] = 0.7*x[1] - (x[4]*x[5])\n",
    "    f[6] = 0.3*x[1] - 3.1*x[6]\n",
    "    f[7] = 1.8*x[6] - 1.6*(x[2]*x[7])\n",
    "\n",
    "    𝐹 = BlackBoxContinuousSystem(f, 7)\n",
    "\n",
    "    X0c = [1.2, 1.05, 1.5, 2.4, 1.0, 0.1, 0.45]\n",
    "    X0 = Hyperrectangle(X0c, fill(W, 7))\n",
    "\n",
    "    # instantiate the IVP\n",
    "    𝑃 = InitialValueProblem(𝐹, X0)\n",
    "\n",
    "    # general options\n",
    "    𝑂 = Options(:T=>T, :plot_vars=>plot_vars, :property=>property,\n",
    "                :project_reachset=>project_reachset, :mode=>\"check\")\n",
    "\n",
    "    # algorithm-specific options\n",
    "    𝑂_ASB08 = Options(:δ => 0.1, :θ=>fill(0.05, 7), :taylor_terms=>taylor_terms,\n",
    "                      :split_blocks=>[2, 2, 2, 2, 2, 2, 2], :max_chunks=>5000, :opC=>BFFPSV18(:δ => 0.01))\n",
    "\n",
    "    return 𝑃, 𝑂, 𝑂_ASB08     \n",
    "    return (𝑃, 𝑂, 𝑂_ASB08)\n",
    "end"
   ]
  },
  {
   "cell_type": "code",
   "execution_count": 5,
   "metadata": {},
   "outputs": [
    {
     "name": "stdout",
     "output_type": "stream",
     "text": [
      "  0.574876 seconds (879.88 k allocations: 47.046 MiB, 31.38% gc time)\n"
     ]
    }
   ],
   "source": [
    "@time begin 𝑃, 𝑂, 𝑂_ASB08 = laubloomis() end;"
   ]
  },
  {
   "cell_type": "markdown",
   "metadata": {},
   "source": [
    "### Algorithm"
   ]
  },
  {
   "cell_type": "code",
   "execution_count": 126,
   "metadata": {},
   "outputs": [
    {
     "data": {
      "text/plain": [
       "AbstractContinuousSystem"
      ]
     },
     "execution_count": 126,
     "metadata": {},
     "output_type": "execute_result"
    }
   ],
   "source": [
    "MathematicalSystems.AbstractContinuousSystem"
   ]
  },
  {
   "cell_type": "code",
   "execution_count": 129,
   "metadata": {},
   "outputs": [],
   "source": [
    "using MathematicalSystems: AbstractContinuousSystem\n",
    "\n",
    "const HRECT = ReachSet{Hyperrectangle{Float64}, Float64}\n",
    "const ZONO = ReachSet{Zonotope{Float64}, Float64}\n",
    "\n",
    "# TODO: generalize to the set type in the options \n",
    "_opC_return_type(opC::BFFPSV18) = Vector{HRECT}\n",
    "_opC_return_type(opC::GLGM06) = Vector{ZONO}\n",
    "\n",
    "struct LinearizedSystem{PT, VT} <: AbstractContinuousSystem\n",
    "    𝑃::PT # linearized IVP\n",
    "    x̃::VT # lineariztion point\n",
    "    I::IntervalArithmetic.Interval{Float64} # domain of validity of the linearization\n",
    "end"
   ]
  },
  {
   "cell_type": "code",
   "execution_count": null,
   "metadata": {},
   "outputs": [],
   "source": []
  },
  {
   "cell_type": "code",
   "execution_count": 118,
   "metadata": {
    "scrolled": true
   },
   "outputs": [
    {
     "data": {
      "text/plain": [
       "post (generic function with 1 method)"
      ]
     },
     "execution_count": 118,
     "metadata": {},
     "output_type": "execute_result"
    }
   ],
   "source": [
    "\n",
    "\n",
    "# The structure that holds the flowpipe, Rsets, is a VectorOfArray\n",
    "function post(𝑃::InitialValueProblem{<:BBCS}, 𝑂general::Options, 𝑂::Options)\n",
    "\n",
    "    𝑂 = merge(𝑂, 𝑂general)\n",
    "\n",
    "    # get nonlinear ODE\n",
    "    f = 𝑃.s.f\n",
    "    \n",
    "    # unrwap commonly used options\n",
    "    T, δ, δcont, θ = 𝑂[:T], 𝑂[:δ], 𝑂[:opC].options[:δ], 𝑂[:θ]\n",
    "    split_blocks, max_chunks = 𝑂[:split_blocks], 𝑂[:max_chunks]\n",
    "    \n",
    "    # final result is stored in Rsets\n",
    "    T = _opC_return_type(𝑂[:opC])\n",
    "    Rsets = VectorOfArray(Vector{Vector{T}}(), (1, 1))\n",
    "    \n",
    "    # count number of continuous post chunks added to Rsets\n",
    "    nchunks = 0\n",
    "\n",
    "    𝑃_queue = Vector{typeof(𝑃)}()\n",
    "    push!(𝑃_queue, 𝑃)\n",
    "\n",
    "    # integer for the chunk being computed: [δ*(k-1), δk]\n",
    "    # ie. k = 0 => [0, δ]\n",
    "    #     k = 1 => [δ, 2δ]\n",
    "    #          . . .\n",
    "    #     k = N => [δ(N-1), δN]\n",
    "    k_queue = Vector{Int}()\n",
    "    push!(k_queue, 1)\n",
    "\n",
    "    \n",
    "    while !isempty(𝑃_queue)\n",
    "        println(\"length(𝑃_queue) = $(length(𝑃_queue))\")\n",
    "        𝑃_curr = pop!(𝑃_queue)\n",
    "        k_curr = pop!(k_queue)\n",
    "\n",
    "        # obtain linearized system\n",
    "        Lin = linearize(𝑃_curr, δ)\n",
    "        Plin = Lin.P\n",
    "        \n",
    "        # compute flowpipe of the linearized system\n",
    "        Rlin = solve(Plinear.P, 𝑂cont, op=𝑂[:opC])\n",
    "\n",
    "        # compute set of admissible linearization errors\n",
    "        R̄err, L̄ = admissible_error(𝑃lin.s.A, δ, θ, n=2)\n",
    "        L = lagrange_remainder(f, Rlin, R̄err, x̃, n=2)\n",
    "\n",
    "         if !(L ⊆ L̄)\n",
    "             println(\"splitting chunk $nchunks\")\n",
    "             𝑋₀split = split(𝑃lin.x0, split_blocks)\n",
    "\n",
    "             for 𝑋₀i in 𝑋₀split\n",
    "                 push!(𝑃_queue, IVP(𝑃.s, 𝑋₀i))\n",
    "                 push!(k_queue, k_curr)\n",
    "             end\n",
    "         else\n",
    "             nchunks += 1\n",
    "             println(\"adding chunk $nchunks\")\n",
    "             _add_chunk!(Rsets[k_curr], Rlin, R̄err, δ * (k_curr - 1) )\n",
    "             if δ * (k_curr + 1) < T\n",
    "                push!(𝑃_queue, IVP(𝑃.s, Rsets[k_curr][end].X))\n",
    "                push!(k_queue, k_curr + 1)\n",
    "             end\n",
    "         end\n",
    "            \n",
    "         if nchunks > max_chunks\n",
    "             error(\"maximum number of chunks exceeded\")\n",
    "             #return ReachSolution(Rsets, 𝑂)\n",
    "         end\n",
    "            \n",
    "        # inclusion test\n",
    "        # . . . \n",
    "    end \n",
    "\n",
    "    println(\"total chunks = $nchunks\")\n",
    "    return Rsets\n",
    "    #return ReachSolution(Rsets, 𝑂)\n",
    "end"
   ]
  },
  {
   "cell_type": "code",
   "execution_count": 119,
   "metadata": {},
   "outputs": [
    {
     "data": {
      "text/plain": [
       "1-element Array{Array{Array{ReachSet{Hyperrectangle{Float64},Float64},1},1},1}:\n",
       " []"
      ]
     },
     "execution_count": 119,
     "metadata": {},
     "output_type": "execute_result"
    }
   ],
   "source": [
    "T = _opC_return_type(BFFPSV18())\n",
    "Rsets = VectorOfArray(Vector{Vector{T}}(), (1, 1))\n",
    "push!(Rsets, Vector{HRECT}())"
   ]
  },
  {
   "cell_type": "code",
   "execution_count": 120,
   "metadata": {},
   "outputs": [
    {
     "data": {
      "text/plain": [
       "VectorOfArray{Array{ReachSet{Hyperrectangle{Float64},Float64},1},2,Array{Array{Array{ReachSet{Hyperrectangle{Float64},Float64},1},1},1}}"
      ]
     },
     "execution_count": 120,
     "metadata": {},
     "output_type": "execute_result"
    }
   ],
   "source": [
    "typeof(Rsets)"
   ]
  },
  {
   "cell_type": "code",
   "execution_count": 121,
   "metadata": {},
   "outputs": [
    {
     "data": {
      "text/plain": [
       "Array{Array{ReachSet{Hyperrectangle{Float64},Float64},1},1}"
      ]
     },
     "execution_count": 121,
     "metadata": {},
     "output_type": "execute_result"
    }
   ],
   "source": [
    "typeof(Rsets[1])"
   ]
  },
  {
   "cell_type": "code",
   "execution_count": 94,
   "metadata": {},
   "outputs": [
    {
     "name": "stdout",
     "output_type": "stream",
     "text": [
      "length(𝑃_queue) = 1\n"
     ]
    },
    {
     "ename": "UndefVarError",
     "evalue": "UndefVarError: linearize not defined",
     "output_type": "error",
     "traceback": [
      "UndefVarError: linearize not defined",
      "",
      "Stacktrace:",
      " [1] post(::InitialValueProblem{BlackBoxContinuousSystem{Array{TaylorN{Float64},1}},Hyperrectangle{Float64}}, ::Options, ::Options) at ./In[93]:50",
      " [2] top-level scope at util.jl:156",
      " [3] top-level scope at In[94]:1"
     ]
    }
   ],
   "source": [
    "@time Rsets = post(𝑃, 𝑂, 𝑂_ASB08);\n",
    "#nsets = length(Rsol.Xk)"
   ]
  },
  {
   "cell_type": "code",
   "execution_count": 9,
   "metadata": {},
   "outputs": [
    {
     "ename": "UndefVarError",
     "evalue": "UndefVarError: nsets not defined",
     "output_type": "error",
     "traceback": [
      "UndefVarError: nsets not defined",
      "",
      "Stacktrace:",
      " [1] top-level scope at In[9]:1"
     ]
    }
   ],
   "source": [
    "maximum([Rsol.Xk[i].t_end for i in 1:nsets])"
   ]
  },
  {
   "cell_type": "code",
   "execution_count": null,
   "metadata": {},
   "outputs": [],
   "source": [
    "plot(Rsol, xlab=\"x\", ylab=\"y\", alpha=.5, indices=1:500:nsets)\n",
    "plot!(x->x, x->2.75, -3., 3., line=2, color=\"red\", linestyle=:dash, legend=nothing)"
   ]
  },
  {
   "cell_type": "code",
   "execution_count": null,
   "metadata": {},
   "outputs": [],
   "source": [
    "# check that specification holds\n",
    "@assert all([ρ([0.0, 1.0], Rsol.Xk[i].X) < 2.75 for i in eachindex(Rsol.Xk)])"
   ]
  },
  {
   "cell_type": "code",
   "execution_count": null,
   "metadata": {},
   "outputs": [],
   "source": [
    "maximum([ρ([0.0, 1.0], Rsol.Xk[i].X) for i in eachindex(Rsol.Xk)])"
   ]
  },
  {
   "cell_type": "code",
   "execution_count": null,
   "metadata": {},
   "outputs": [],
   "source": [
    "any([Rsol.Xk[i].X ⊆ Rsol.Xk[1].X for i in 2:nsets])"
   ]
  },
  {
   "cell_type": "markdown",
   "metadata": {},
   "source": [
    "### Appendix: auxiliary functions"
   ]
  },
  {
   "cell_type": "code",
   "execution_count": null,
   "metadata": {},
   "outputs": [],
   "source": [
    "function linearize(𝑃::IVP{<:BBCS}, δ)\n",
    "\n",
    "    # nonlinear ODE\n",
    "    f = 𝑃.s.f\n",
    "    \n",
    "    # initial set of current chunk\n",
    "    𝑋₀i = 𝑃.x0\n",
    "\n",
    "    # linearization point for current chunk\n",
    "    c = center(𝑋₀i)\n",
    "    x̃ = c + δ/2 * f(c)\n",
    "\n",
    "    # evaluate Jacobian at the linearization point\n",
    "    Ax̃ = jacobian(f, x̃) #  map(x -> evaluate(x, x̃), Jf)\n",
    "    bx̃ = f(x̃) - Ax̃ * x̃\n",
    "\n",
    "    # instantiate linearized system; it doesn't have state constraints\n",
    "    𝑆lin = ConstrainedAffineContinuousSystem(Ax̃, bx̃, Universe(2));\n",
    "    𝑃lin = IVP(𝑆lin, 𝑋₀i)\n",
    "    return x̃, 𝑃lin\n",
    "end"
   ]
  },
  {
   "cell_type": "code",
   "execution_count": 95,
   "metadata": {},
   "outputs": [
    {
     "data": {
      "text/plain": [
       "_add_chunk! (generic function with 4 methods)"
      ]
     },
     "execution_count": 95,
     "metadata": {},
     "output_type": "execute_result"
    }
   ],
   "source": [
    "function _add_chunk!(Rsets::Vector{HRECT}, Rlin, R̄err, t0)\n",
    "    @inbounds for i in eachindex(Rlin.Xk)\n",
    "        Ri = Rlin.Xk[i].X ⊕ R̄err\n",
    "        Ri = overapproximate(Ri, Hyperrectangle)\n",
    "        Ri = ReachSet(Ri, t0 + Rlin.Xk[i].t_start, t0 + Rlin.Xk[i].t_end)\n",
    "        push!(Rsets[k], Ri)\n",
    "    end\n",
    "    return Rsets\n",
    "end\n",
    "\n",
    "function _add_chunk!(Rsets::Vector{ZONO}, k, Rlin, R̄err, t0)\n",
    "    #println(\"using zonotopes\")\n",
    "    @inbounds for i in eachindex(Rlin.Xk)\n",
    "        Ri = minkowski_sum(Rlin.Xk[i].X, convert(Zonotope, R̄err))\n",
    "        Ri = ReachSet(Ri, t0 + Rlin.Xk[i].t_start, t0 + Rlin.Xk[i].t_end)\n",
    "        push!(Rsets[k], Ri)\n",
    "    end\n",
    "    return Rsets\n",
    "end"
   ]
  },
  {
   "cell_type": "code",
   "execution_count": 96,
   "metadata": {},
   "outputs": [
    {
     "data": {
      "text/plain": [
       "admissible_error (generic function with 1 method)"
      ]
     },
     "execution_count": 96,
     "metadata": {},
     "output_type": "execute_result"
    }
   ],
   "source": [
    "function admissible_error(Ax̃, δ, θ; n=2)\n",
    "    @assert n == 2\n",
    "    Φ₁_Aδ = Φ₁(Ax̃, δ)\n",
    "    R̄err = Hyperrectangle(zeros(2), θ*δ)\n",
    "    l̄ = abs.(inv(Φ₁_Aδ)) * θ * δ\n",
    "    L̄ = Hyperrectangle(zeros(2), l̄)\n",
    "    return R̄err, L̄\n",
    "end"
   ]
  },
  {
   "cell_type": "code",
   "execution_count": null,
   "metadata": {},
   "outputs": [],
   "source": [
    "function lagrange_remainder(f, Rlin, R̄err, x̃; n=2)\n",
    "    @assert n == 2\n",
    "    \n",
    "    Hf₁ = [∂(f[1], (2, 0)) ∂(f[1], (1, 1));\n",
    "           ∂(f[1], (1, 1)) ∂(f[1], (0, 2))]\n",
    "    Hf₂ = [∂(f[2], (2, 0)) ∂(f[2], (1, 1));\n",
    "           ∂(f[2], (1, 1)) ∂(f[2], (0, 2))]\n",
    "\n",
    "    R̂lin = ConvexHullArray([Ri.X for Ri in Rlin.Xk]) ⊕ R̄err\n",
    "    R̂lin_rect = overapproximate(R̂lin, Hyperrectangle)\n",
    "\n",
    "    ξ = CH(Singleton(x̃), R̂lin_rect)\n",
    "    ξ_rect = overapproximate(ξ, Hyperrectangle)\n",
    "    ξ_box = convert(IntervalBox, ξ_rect)\n",
    "\n",
    "    Hf₁_box = map(Hf_ij -> evaluate(Hf_ij, ξ_box), Hf₁)\n",
    "    Hf₂_box = map(Hf_ij -> evaluate(Hf_ij, ξ_box), Hf₂)\n",
    "\n",
    "    R̂lin_zono = convert(Zonotope, R̂lin_rect)\n",
    "\n",
    "    γ = abs.(R̂lin_zono.center - x̃) + sum(abs.(R̂lin_zono.generators), dims=2)\n",
    "    \n",
    "    G = [sup.(abs.(Hf₁_box)), sup.(abs.(Hf₂_box))];\n",
    "    li_zono = [(1/2 * transpose(γ) * G[i] * γ)[1, 1] for i in 1:n]\n",
    "    L = Hyperrectangle(zeros(n), li_zono)\n",
    "    return L\n",
    "end"
   ]
  },
  {
   "cell_type": "markdown",
   "metadata": {},
   "source": [
    "### Other scripts"
   ]
  },
  {
   "cell_type": "code",
   "execution_count": null,
   "metadata": {},
   "outputs": [],
   "source": [
    "#=\n",
    "@time begin\n",
    "# number of Taylor terms considered in the linearization\n",
    "taylor_terms = 4\n",
    "\n",
    "# define the working variables and fix the max order in the Taylor series expansion\n",
    "x = set_variables(\"x\", numvars=2, order=taylor_terms)\n",
    "\n",
    "# define the ODE\n",
    "f = Vector{TaylorN{Float64}}(undef, 2)\n",
    "f[1] = x[2]\n",
    "f[2] = x[2] * (1-x[1]^2) - x[1]\n",
    "\n",
    "# define the initial-value problem\n",
    "𝑋₀ = Hyperrectangle(low=[1.25, 2.35], high=[1.55, 2.45])\n",
    "𝑆 = BlackBoxContinuousSystem(f, 2)\n",
    "𝑃 = InitialValueProblem(𝑆, 𝑋₀)\n",
    "\n",
    "# take the gradient of the vector field symbolically\n",
    "#∇f = [gradient(f[i]) for i in 1:2]\n",
    "\n",
    "# take the Jacobian matrix of the vector field symbolically\n",
    "#Jf = [∂(f[1], (1, 0)) ∂(f[1], (0, 1));\n",
    "#      ∂(f[2], (1, 0)) ∂(f[2], (0, 1))]\n",
    "\n",
    "# algorithm-specific options\n",
    "𝑂 = Options(:δ => 0.02, :δcont => 0.02/10, :max_order=>2, :θ=>fill(0.05, 2))\n",
    "\n",
    "# unwrap options\n",
    "δ = O[:δ]\n",
    "θ = O[:θ]\n",
    "\n",
    "# collection of flowpipes; the set type depends on add_chunk! and the continuous post\n",
    "Rsets = Vector{ReachSet{Hyperrectangle{Float64}, Float64}}()\n",
    "end\n",
    "=#"
   ]
  },
  {
   "cell_type": "code",
   "execution_count": null,
   "metadata": {},
   "outputs": [],
   "source": [
    "#=\n",
    "@time begin\n",
    "x̃, 𝑃lin = linearize(𝑃, δ)\n",
    "end;\n",
    "𝑋₀i = 𝑃lin.x0\n",
    "\n",
    "# use zonotope-based continuous reach\n",
    "@time begin\n",
    "Rlin_zono = solve(𝑃lin, Options(:T=>O[:δ]), op=GLGM06(:δ=>O[:δcont], :max_order=>O[:max_order]))\n",
    "end;\n",
    "\n",
    "# use decomposition-based continuous reach\n",
    "@time begin\n",
    "Rlin_box = solve(𝑃lin, Options(:T=>O[:δ]), op=BFFPSV18(:δ=>O[:δcont]))\n",
    "end;\n",
    "\n",
    "plot(Rlin_zono, alpha=.5)\n",
    "plot!(Rlin_box, alpha=.5, xlab=\"x\", ylab=\"y\")\n",
    "\n",
    "Rlin = Rlin_zono  # decide which continuoust post to use\n",
    "\n",
    "@time begin\n",
    "R̄err, L̄ = admissible_error(𝑃lin.s.A, δ, θ; n=2)\n",
    "L = lagrange_remainder(f, Rlin, R̄err, x̃; n=2)\n",
    "end\n",
    "=#"
   ]
  },
  {
   "cell_type": "code",
   "execution_count": null,
   "metadata": {},
   "outputs": [],
   "source": []
  }
 ],
 "metadata": {
  "kernelspec": {
   "display_name": "Julia 1.1.0-rc2",
   "language": "julia",
   "name": "julia-1.1"
  },
  "language_info": {
   "file_extension": ".jl",
   "mimetype": "application/julia",
   "name": "julia",
   "version": "1.1.0"
  }
 },
 "nbformat": 4,
 "nbformat_minor": 2
}
