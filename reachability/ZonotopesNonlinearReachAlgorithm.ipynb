{
 "cells": [
  {
   "cell_type": "markdown",
   "metadata": {},
   "source": [
    "The theory for this notebook is developed in `ZonotopesNonlinearReach`."
   ]
  },
  {
   "cell_type": "code",
   "execution_count": 1,
   "metadata": {},
   "outputs": [
    {
     "name": "stderr",
     "output_type": "stream",
     "text": [
      "┌ Info: Recompiling stale cache file /Users/forets/.julia/compiled/v1.1/Reachability/CHV4V.ji for Reachability [774a0091-654f-5c65-bbdc-ad5b67b45832]\n",
      "└ @ Base loading.jl:1184\n"
     ]
    },
    {
     "data": {
      "text/plain": [
       "derivative (generic function with 10 methods)"
      ]
     },
     "execution_count": 1,
     "metadata": {},
     "output_type": "execute_result"
    }
   ],
   "source": [
    "# load packages\n",
    "using Plots\n",
    "using LazySets, MathematicalSystems, Reachability\n",
    "using LazySets.Approximations\n",
    "using Reachability: center\n",
    "using Reachability.ReachSets: Φ₁\n",
    "using IntervalArithmetic, ValidatedNumerics\n",
    "using LazySets: Interval, translate\n",
    "using TaylorSeries\n",
    "using TaylorSeries: gradient, jacobian, hessian, derivative\n",
    "const ∂ = derivative"
   ]
  },
  {
   "cell_type": "markdown",
   "metadata": {},
   "source": [
    "After loading the packages, you should precompile the functions under the section *auxiliary functions* below."
   ]
  },
  {
   "cell_type": "code",
   "execution_count": 86,
   "metadata": {},
   "outputs": [
    {
     "data": {
      "text/plain": [
       "vanderpol_ASB08 (generic function with 1 method)"
      ]
     },
     "execution_count": 86,
     "metadata": {},
     "output_type": "execute_result"
    }
   ],
   "source": [
    "function vanderpol_ASB08()\n",
    "    # number of Taylor terms considered in the linearization\n",
    "    taylor_terms = 4\n",
    "\n",
    "    # define the working variables and fix the max order in the Taylor series expansion\n",
    "    x = set_variables(\"x\", numvars=2, order=taylor_terms)\n",
    "\n",
    "    # define the ODE\n",
    "    f = Vector{TaylorN{Float64}}(undef, 2)\n",
    "    f[1] = x[2]\n",
    "    f[2] = x[2] * (1-x[1]^2) - x[1]\n",
    "\n",
    "    # define the initial-value problem\n",
    "    𝑋₀ = Hyperrectangle(low=[1.25, 2.35], high=[1.55, 2.45])\n",
    "    𝑆 = BlackBoxContinuousSystem(f, 2)\n",
    "    𝑃 = InitialValueProblem(𝑆, 𝑋₀)\n",
    "    𝑂 = Options(:δ => 0.02, :δcont => 0.02/10, :max_order=>2, :θ=>fill(0.05, 2), :taylor_terms=>taylor_terms,\n",
    "                :T => 0.04, :plot_vars=>[1, 2])\n",
    "    return 𝑃, 𝑂\n",
    "end"
   ]
  },
  {
   "cell_type": "code",
   "execution_count": 88,
   "metadata": {},
   "outputs": [
    {
     "name": "stdout",
     "output_type": "stream",
     "text": [
      "  0.000186 seconds (583 allocations: 32.469 KiB)\n"
     ]
    },
    {
     "data": {
      "text/plain": [
       "(InitialValueProblem{BlackBoxContinuousSystem{Array{TaylorN{Float64},1}},Hyperrectangle{Float64}}(BlackBoxContinuousSystem{Array{TaylorN{Float64},1}}(TaylorN{Float64}[ 1.0 x₂ + 𝒪(‖x‖⁵),  - 1.0 x₁ + 1.0 x₂ - 1.0 x₁² x₂ + 𝒪(‖x‖⁵)], 2), Hyperrectangle{Float64}([1.4, 2.4], [0.15, 0.05])), Options(Dict{Symbol,Any}(:T=>0.04,:δcont=>0.002,:max_order=>2,:taylor_terms=>4,:δ=>0.02,:θ=>[0.05, 0.05],:plot_vars=>[1, 2])))"
      ]
     },
     "execution_count": 88,
     "metadata": {},
     "output_type": "execute_result"
    }
   ],
   "source": [
    "@time 𝑃, 𝑂 = vanderpol_ASB08()"
   ]
  },
  {
   "cell_type": "markdown",
   "metadata": {},
   "source": [
    "### Algorithm"
   ]
  },
  {
   "cell_type": "code",
   "execution_count": 94,
   "metadata": {},
   "outputs": [
    {
     "data": {
      "text/plain": [
       "post (generic function with 2 methods)"
      ]
     },
     "execution_count": 94,
     "metadata": {},
     "output_type": "execute_result"
    }
   ],
   "source": [
    "function post(𝑃::InitialValueProblem{<:BBCS},\n",
    "              𝑂::Options)\n",
    "\n",
    "    # get nonlinear ODE\n",
    "    f = 𝑃.s.f\n",
    "    \n",
    "    # unrwap commonly used options\n",
    "    δ, δcont, θ, T = 𝑂[:δ], 𝑂[:δcont], 𝑂[:θ], 𝑂[:T]\n",
    "\n",
    "    # general options for the continuous post\n",
    "    𝑂cont = Options(:T=>δ)\n",
    "\n",
    "    # algorithm-specific options for the continuous post\n",
    "    𝑂_GLGM06 = Options(:δ=>𝑂[:δcont], :max_order=>𝑂[:max_order])\n",
    "    𝑂_BFFPSV18 = Options(:δ=>𝑂[:δcont])\n",
    "    \n",
    "    # final result is stored in Rsets\n",
    "    Rsets = Vector{ReachSet{Hyperrectangle{Float64}, Float64}}()\n",
    "\n",
    "    #times = Vector{Float64}()\n",
    "    t0 = 0.0 # initial time for each chunk\n",
    "\n",
    "    # count number of continuous post chunks added to Rsets\n",
    "    nchunks = 0\n",
    "\n",
    "    while t0 < T\n",
    "\n",
    "        # obtain linearized system\n",
    "        x̃, 𝑃lin = linearize(𝑃, δ)\n",
    "\n",
    "        # compute flowpipe of the linearized system\n",
    "        #Rlin = solve(𝑃lin, 𝑂cont, op=GLGM06(𝑂_GLGM06))\n",
    "        Rlin = solve(𝑃lin, 𝑂cont, op=BFFPSV18(𝑂_BFFPSV18))\n",
    "\n",
    "        # compute set of admissible linearization errors\n",
    "        R̄err, L̄ = admissible_error(𝑃lin.s.A, δ, θ, n=2)\n",
    "        L = lagrange_remainder(f, Rlin, R̄err, x̃, n=2)\n",
    "\n",
    "        if L ⊆ L̄\n",
    "            # split\n",
    "            error(\"split is not implemented\")\n",
    "        else\n",
    "            nchunks += 1\n",
    "            println(\"adding chunk $nchunks\")\n",
    "            _add_chunk!(Rsets, Rlin, R̄err, t0)\n",
    "            𝑃 = IVP(𝑃.s, Rsets[end].X)\n",
    "            t0 += δ\n",
    "        end\n",
    "    end \n",
    "\n",
    "    return ReachSolution(Rsets, 𝑂)\n",
    "end"
   ]
  },
  {
   "cell_type": "code",
   "execution_count": 95,
   "metadata": {},
   "outputs": [
    {
     "name": "stdout",
     "output_type": "stream",
     "text": [
      "adding chunk 1\n",
      "adding chunk 2\n",
      "  0.098543 seconds (101.99 k allocations: 5.592 MiB)\n"
     ]
    }
   ],
   "source": [
    "@time Rsol = post(𝑃, 𝑂);"
   ]
  },
  {
   "cell_type": "code",
   "execution_count": 97,
   "metadata": {},
   "outputs": [
    {
     "data": {
      "image/svg+xml": [
       "<?xml version=\"1.0\" encoding=\"utf-8\"?>\n",
       "<svg xmlns=\"http://www.w3.org/2000/svg\" xmlns:xlink=\"http://www.w3.org/1999/xlink\" width=\"600\" height=\"400\" viewBox=\"0 0 2400 1600\">\n",
       "<defs>\n",
       "  <clipPath id=\"clip9600\">\n",
       "    <rect x=\"0\" y=\"0\" width=\"2000\" height=\"2000\"/>\n",
       "  </clipPath>\n",
       "</defs>\n",
       "<defs>\n",
       "  <clipPath id=\"clip9601\">\n",
       "    <rect x=\"0\" y=\"0\" width=\"2400\" height=\"1600\"/>\n",
       "  </clipPath>\n",
       "</defs>\n",
       "<polygon clip-path=\"url(#clip9601)\" points=\"\n",
       "0,1600 2400,1600 2400,0 0,0 \n",
       "  \" fill=\"#ffffff\" fill-rule=\"evenodd\" fill-opacity=\"1\"/>\n",
       "<defs>\n",
       "  <clipPath id=\"clip9602\">\n",
       "    <rect x=\"480\" y=\"0\" width=\"1681\" height=\"1600\"/>\n",
       "  </clipPath>\n",
       "</defs>\n",
       "<polygon clip-path=\"url(#clip9601)\" points=\"\n",
       "251.149,1440.48 2321.26,1440.48 2321.26,47.2441 251.149,47.2441 \n",
       "  \" fill=\"#ffffff\" fill-rule=\"evenodd\" fill-opacity=\"1\"/>\n",
       "<defs>\n",
       "  <clipPath id=\"clip9603\">\n",
       "    <rect x=\"251\" y=\"47\" width=\"2071\" height=\"1394\"/>\n",
       "  </clipPath>\n",
       "</defs>\n",
       "<polyline clip-path=\"url(#clip9603)\" style=\"stroke:#000000; stroke-width:2; stroke-opacity:0.1; fill:none\" points=\"\n",
       "  559.735,1440.48 559.735,47.2441 \n",
       "  \"/>\n",
       "<polyline clip-path=\"url(#clip9603)\" style=\"stroke:#000000; stroke-width:2; stroke-opacity:0.1; fill:none\" points=\"\n",
       "  1049.93,1440.48 1049.93,47.2441 \n",
       "  \"/>\n",
       "<polyline clip-path=\"url(#clip9603)\" style=\"stroke:#000000; stroke-width:2; stroke-opacity:0.1; fill:none\" points=\"\n",
       "  1540.12,1440.48 1540.12,47.2441 \n",
       "  \"/>\n",
       "<polyline clip-path=\"url(#clip9603)\" style=\"stroke:#000000; stroke-width:2; stroke-opacity:0.1; fill:none\" points=\"\n",
       "  2030.31,1440.48 2030.31,47.2441 \n",
       "  \"/>\n",
       "<polyline clip-path=\"url(#clip9603)\" style=\"stroke:#000000; stroke-width:2; stroke-opacity:0.1; fill:none\" points=\"\n",
       "  251.149,1380.66 2321.26,1380.66 \n",
       "  \"/>\n",
       "<polyline clip-path=\"url(#clip9603)\" style=\"stroke:#000000; stroke-width:2; stroke-opacity:0.1; fill:none\" points=\"\n",
       "  251.149,1165.71 2321.26,1165.71 \n",
       "  \"/>\n",
       "<polyline clip-path=\"url(#clip9603)\" style=\"stroke:#000000; stroke-width:2; stroke-opacity:0.1; fill:none\" points=\"\n",
       "  251.149,950.763 2321.26,950.763 \n",
       "  \"/>\n",
       "<polyline clip-path=\"url(#clip9603)\" style=\"stroke:#000000; stroke-width:2; stroke-opacity:0.1; fill:none\" points=\"\n",
       "  251.149,735.816 2321.26,735.816 \n",
       "  \"/>\n",
       "<polyline clip-path=\"url(#clip9603)\" style=\"stroke:#000000; stroke-width:2; stroke-opacity:0.1; fill:none\" points=\"\n",
       "  251.149,520.869 2321.26,520.869 \n",
       "  \"/>\n",
       "<polyline clip-path=\"url(#clip9603)\" style=\"stroke:#000000; stroke-width:2; stroke-opacity:0.1; fill:none\" points=\"\n",
       "  251.149,305.921 2321.26,305.921 \n",
       "  \"/>\n",
       "<polyline clip-path=\"url(#clip9603)\" style=\"stroke:#000000; stroke-width:2; stroke-opacity:0.1; fill:none\" points=\"\n",
       "  251.149,90.9743 2321.26,90.9743 \n",
       "  \"/>\n",
       "<polyline clip-path=\"url(#clip9601)\" style=\"stroke:#000000; stroke-width:4; stroke-opacity:1; fill:none\" points=\"\n",
       "  251.149,1440.48 2321.26,1440.48 \n",
       "  \"/>\n",
       "<polyline clip-path=\"url(#clip9601)\" style=\"stroke:#000000; stroke-width:4; stroke-opacity:1; fill:none\" points=\"\n",
       "  251.149,1440.48 251.149,47.2441 \n",
       "  \"/>\n",
       "<polyline clip-path=\"url(#clip9601)\" style=\"stroke:#000000; stroke-width:4; stroke-opacity:1; fill:none\" points=\"\n",
       "  559.735,1440.48 559.735,1419.58 \n",
       "  \"/>\n",
       "<polyline clip-path=\"url(#clip9601)\" style=\"stroke:#000000; stroke-width:4; stroke-opacity:1; fill:none\" points=\"\n",
       "  1049.93,1440.48 1049.93,1419.58 \n",
       "  \"/>\n",
       "<polyline clip-path=\"url(#clip9601)\" style=\"stroke:#000000; stroke-width:4; stroke-opacity:1; fill:none\" points=\"\n",
       "  1540.12,1440.48 1540.12,1419.58 \n",
       "  \"/>\n",
       "<polyline clip-path=\"url(#clip9601)\" style=\"stroke:#000000; stroke-width:4; stroke-opacity:1; fill:none\" points=\"\n",
       "  2030.31,1440.48 2030.31,1419.58 \n",
       "  \"/>\n",
       "<polyline clip-path=\"url(#clip9601)\" style=\"stroke:#000000; stroke-width:4; stroke-opacity:1; fill:none\" points=\"\n",
       "  251.149,1380.66 282.2,1380.66 \n",
       "  \"/>\n",
       "<polyline clip-path=\"url(#clip9601)\" style=\"stroke:#000000; stroke-width:4; stroke-opacity:1; fill:none\" points=\"\n",
       "  251.149,1165.71 282.2,1165.71 \n",
       "  \"/>\n",
       "<polyline clip-path=\"url(#clip9601)\" style=\"stroke:#000000; stroke-width:4; stroke-opacity:1; fill:none\" points=\"\n",
       "  251.149,950.763 282.2,950.763 \n",
       "  \"/>\n",
       "<polyline clip-path=\"url(#clip9601)\" style=\"stroke:#000000; stroke-width:4; stroke-opacity:1; fill:none\" points=\"\n",
       "  251.149,735.816 282.2,735.816 \n",
       "  \"/>\n",
       "<polyline clip-path=\"url(#clip9601)\" style=\"stroke:#000000; stroke-width:4; stroke-opacity:1; fill:none\" points=\"\n",
       "  251.149,520.869 282.2,520.869 \n",
       "  \"/>\n",
       "<polyline clip-path=\"url(#clip9601)\" style=\"stroke:#000000; stroke-width:4; stroke-opacity:1; fill:none\" points=\"\n",
       "  251.149,305.921 282.2,305.921 \n",
       "  \"/>\n",
       "<polyline clip-path=\"url(#clip9601)\" style=\"stroke:#000000; stroke-width:4; stroke-opacity:1; fill:none\" points=\"\n",
       "  251.149,90.9743 282.2,90.9743 \n",
       "  \"/>\n",
       "<g clip-path=\"url(#clip9601)\">\n",
       "<text style=\"fill:#000000; fill-opacity:1; font-family:Arial,Helvetica Neue,Helvetica,sans-serif; font-size:48px; text-anchor:middle;\" transform=\"rotate(0, 559.735, 1494.48)\" x=\"559.735\" y=\"1494.48\">1.3</text>\n",
       "</g>\n",
       "<g clip-path=\"url(#clip9601)\">\n",
       "<text style=\"fill:#000000; fill-opacity:1; font-family:Arial,Helvetica Neue,Helvetica,sans-serif; font-size:48px; text-anchor:middle;\" transform=\"rotate(0, 1049.93, 1494.48)\" x=\"1049.93\" y=\"1494.48\">1.4</text>\n",
       "</g>\n",
       "<g clip-path=\"url(#clip9601)\">\n",
       "<text style=\"fill:#000000; fill-opacity:1; font-family:Arial,Helvetica Neue,Helvetica,sans-serif; font-size:48px; text-anchor:middle;\" transform=\"rotate(0, 1540.12, 1494.48)\" x=\"1540.12\" y=\"1494.48\">1.5</text>\n",
       "</g>\n",
       "<g clip-path=\"url(#clip9601)\">\n",
       "<text style=\"fill:#000000; fill-opacity:1; font-family:Arial,Helvetica Neue,Helvetica,sans-serif; font-size:48px; text-anchor:middle;\" transform=\"rotate(0, 2030.31, 1494.48)\" x=\"2030.31\" y=\"1494.48\">1.6</text>\n",
       "</g>\n",
       "<g clip-path=\"url(#clip9601)\">\n",
       "<text style=\"fill:#000000; fill-opacity:1; font-family:Arial,Helvetica Neue,Helvetica,sans-serif; font-size:48px; text-anchor:end;\" transform=\"rotate(0, 227.149, 1398.16)\" x=\"227.149\" y=\"1398.16\">2.15</text>\n",
       "</g>\n",
       "<g clip-path=\"url(#clip9601)\">\n",
       "<text style=\"fill:#000000; fill-opacity:1; font-family:Arial,Helvetica Neue,Helvetica,sans-serif; font-size:48px; text-anchor:end;\" transform=\"rotate(0, 227.149, 1183.21)\" x=\"227.149\" y=\"1183.21\">2.20</text>\n",
       "</g>\n",
       "<g clip-path=\"url(#clip9601)\">\n",
       "<text style=\"fill:#000000; fill-opacity:1; font-family:Arial,Helvetica Neue,Helvetica,sans-serif; font-size:48px; text-anchor:end;\" transform=\"rotate(0, 227.149, 968.263)\" x=\"227.149\" y=\"968.263\">2.25</text>\n",
       "</g>\n",
       "<g clip-path=\"url(#clip9601)\">\n",
       "<text style=\"fill:#000000; fill-opacity:1; font-family:Arial,Helvetica Neue,Helvetica,sans-serif; font-size:48px; text-anchor:end;\" transform=\"rotate(0, 227.149, 753.316)\" x=\"227.149\" y=\"753.316\">2.30</text>\n",
       "</g>\n",
       "<g clip-path=\"url(#clip9601)\">\n",
       "<text style=\"fill:#000000; fill-opacity:1; font-family:Arial,Helvetica Neue,Helvetica,sans-serif; font-size:48px; text-anchor:end;\" transform=\"rotate(0, 227.149, 538.369)\" x=\"227.149\" y=\"538.369\">2.35</text>\n",
       "</g>\n",
       "<g clip-path=\"url(#clip9601)\">\n",
       "<text style=\"fill:#000000; fill-opacity:1; font-family:Arial,Helvetica Neue,Helvetica,sans-serif; font-size:48px; text-anchor:end;\" transform=\"rotate(0, 227.149, 323.421)\" x=\"227.149\" y=\"323.421\">2.40</text>\n",
       "</g>\n",
       "<g clip-path=\"url(#clip9601)\">\n",
       "<text style=\"fill:#000000; fill-opacity:1; font-family:Arial,Helvetica Neue,Helvetica,sans-serif; font-size:48px; text-anchor:end;\" transform=\"rotate(0, 227.149, 108.474)\" x=\"227.149\" y=\"108.474\">2.45</text>\n",
       "</g>\n",
       "<g clip-path=\"url(#clip9601)\">\n",
       "<text style=\"fill:#000000; fill-opacity:1; font-family:Arial,Helvetica Neue,Helvetica,sans-serif; font-size:66px; text-anchor:middle;\" transform=\"rotate(0, 1286.2, 1590.4)\" x=\"1286.2\" y=\"1590.4\">x</text>\n",
       "</g>\n",
       "<g clip-path=\"url(#clip9601)\">\n",
       "<text style=\"fill:#000000; fill-opacity:1; font-family:Arial,Helvetica Neue,Helvetica,sans-serif; font-size:66px; text-anchor:middle;\" transform=\"rotate(-90, 57.6, 743.863)\" x=\"57.6\" y=\"743.863\">y</text>\n",
       "</g>\n",
       "<polygon clip-path=\"url(#clip9603)\" points=\"\n",
       "309.737,566.72 1814.23,566.72 1814.23,86.6754 309.737,86.6754 309.737,566.72 \n",
       "  \" fill=\"#009af9\" fill-rule=\"evenodd\" fill-opacity=\"1\"/>\n",
       "<polyline clip-path=\"url(#clip9603)\" style=\"stroke:#000000; stroke-width:4; stroke-opacity:1; fill:none\" points=\"\n",
       "  309.737,566.72 1814.23,566.72 1814.23,86.6754 309.737,86.6754 309.737,566.72 \n",
       "  \"/>\n",
       "<polygon clip-path=\"url(#clip9603)\" points=\"\n",
       "332.469,608.458 1838.2,608.458 1838.2,108.974 332.469,108.974 332.469,608.458 \n",
       "  \" fill=\"#009af9\" fill-rule=\"evenodd\" fill-opacity=\"1\"/>\n",
       "<polyline clip-path=\"url(#clip9603)\" style=\"stroke:#000000; stroke-width:4; stroke-opacity:1; fill:none\" points=\"\n",
       "  332.469,608.458 1838.2,608.458 1838.2,108.974 332.469,108.974 332.469,608.458 \n",
       "  \"/>\n",
       "<polygon clip-path=\"url(#clip9603)\" points=\"\n",
       "355.151,650.419 1862.08,650.419 1862.08,131.549 355.151,131.549 355.151,650.419 \n",
       "  \" fill=\"#009af9\" fill-rule=\"evenodd\" fill-opacity=\"1\"/>\n",
       "<polyline clip-path=\"url(#clip9603)\" style=\"stroke:#000000; stroke-width:4; stroke-opacity:1; fill:none\" points=\"\n",
       "  355.151,650.419 1862.08,650.419 1862.08,131.549 355.151,131.549 355.151,650.419 \n",
       "  \"/>\n",
       "<polygon clip-path=\"url(#clip9603)\" points=\"\n",
       "377.784,692.603 1885.85,692.603 1885.85,154.4 377.784,154.4 377.784,692.603 \n",
       "  \" fill=\"#009af9\" fill-rule=\"evenodd\" fill-opacity=\"1\"/>\n",
       "<polyline clip-path=\"url(#clip9603)\" style=\"stroke:#000000; stroke-width:4; stroke-opacity:1; fill:none\" points=\"\n",
       "  377.784,692.603 1885.85,692.603 1885.85,154.4 377.784,154.4 377.784,692.603 \n",
       "  \"/>\n",
       "<polygon clip-path=\"url(#clip9603)\" points=\"\n",
       "400.366,735.006 1909.53,735.006 1909.53,177.523 400.366,177.523 400.366,735.006 \n",
       "  \" fill=\"#009af9\" fill-rule=\"evenodd\" fill-opacity=\"1\"/>\n",
       "<polyline clip-path=\"url(#clip9603)\" style=\"stroke:#000000; stroke-width:4; stroke-opacity:1; fill:none\" points=\"\n",
       "  400.366,735.006 1909.53,735.006 1909.53,177.523 400.366,177.523 400.366,735.006 \n",
       "  \"/>\n",
       "<polygon clip-path=\"url(#clip9603)\" points=\"\n",
       "422.897,777.628 1933.11,777.628 1933.11,200.92 422.897,200.92 422.897,777.628 \n",
       "  \" fill=\"#009af9\" fill-rule=\"evenodd\" fill-opacity=\"1\"/>\n",
       "<polyline clip-path=\"url(#clip9603)\" style=\"stroke:#000000; stroke-width:4; stroke-opacity:1; fill:none\" points=\"\n",
       "  422.897,777.628 1933.11,777.628 1933.11,200.92 422.897,200.92 422.897,777.628 \n",
       "  \"/>\n",
       "<polygon clip-path=\"url(#clip9603)\" points=\"\n",
       "445.377,820.467 1956.59,820.467 1956.59,224.587 445.377,224.587 445.377,820.467 \n",
       "  \" fill=\"#009af9\" fill-rule=\"evenodd\" fill-opacity=\"1\"/>\n",
       "<polyline clip-path=\"url(#clip9603)\" style=\"stroke:#000000; stroke-width:4; stroke-opacity:1; fill:none\" points=\"\n",
       "  445.377,820.467 1956.59,820.467 1956.59,224.587 445.377,224.587 445.377,820.467 \n",
       "  \"/>\n",
       "<polygon clip-path=\"url(#clip9603)\" points=\"\n",
       "467.804,863.521 1979.97,863.521 1979.97,248.525 467.804,248.525 467.804,863.521 \n",
       "  \" fill=\"#009af9\" fill-rule=\"evenodd\" fill-opacity=\"1\"/>\n",
       "<polyline clip-path=\"url(#clip9603)\" style=\"stroke:#000000; stroke-width:4; stroke-opacity:1; fill:none\" points=\"\n",
       "  467.804,863.521 1979.97,863.521 1979.97,248.525 467.804,248.525 467.804,863.521 \n",
       "  \"/>\n",
       "<polygon clip-path=\"url(#clip9603)\" points=\"\n",
       "490.178,906.788 2003.25,906.788 2003.25,272.731 490.178,272.731 490.178,906.788 \n",
       "  \" fill=\"#009af9\" fill-rule=\"evenodd\" fill-opacity=\"1\"/>\n",
       "<polyline clip-path=\"url(#clip9603)\" style=\"stroke:#000000; stroke-width:4; stroke-opacity:1; fill:none\" points=\"\n",
       "  490.178,906.788 2003.25,906.788 2003.25,272.731 490.178,272.731 490.178,906.788 \n",
       "  \"/>\n",
       "<polygon clip-path=\"url(#clip9603)\" points=\"\n",
       "512.499,950.266 2026.42,950.266 2026.42,297.205 512.499,297.205 512.499,950.266 \n",
       "  \" fill=\"#009af9\" fill-rule=\"evenodd\" fill-opacity=\"1\"/>\n",
       "<polyline clip-path=\"url(#clip9603)\" style=\"stroke:#000000; stroke-width:4; stroke-opacity:1; fill:none\" points=\"\n",
       "  512.499,950.266 2026.42,950.266 2026.42,297.205 512.499,297.205 512.499,950.266 \n",
       "  \"/>\n",
       "<polygon clip-path=\"url(#clip9603)\" points=\"\n",
       "507.597,998.365 2054.97,998.365 2054.97,292.906 507.597,292.906 507.597,998.365 \n",
       "  \" fill=\"#009af9\" fill-rule=\"evenodd\" fill-opacity=\"1\"/>\n",
       "<polyline clip-path=\"url(#clip9603)\" style=\"stroke:#000000; stroke-width:4; stroke-opacity:1; fill:none\" points=\"\n",
       "  507.597,998.365 2054.97,998.365 2054.97,292.906 507.597,292.906 507.597,998.365 \n",
       "  \"/>\n",
       "<polygon clip-path=\"url(#clip9603)\" points=\"\n",
       "529.337,1042.35 2078.47,1042.35 2078.47,317.535 529.337,317.535 529.337,1042.35 \n",
       "  \" fill=\"#009af9\" fill-rule=\"evenodd\" fill-opacity=\"1\"/>\n",
       "<polyline clip-path=\"url(#clip9603)\" style=\"stroke:#000000; stroke-width:4; stroke-opacity:1; fill:none\" points=\"\n",
       "  529.337,1042.35 2078.47,1042.35 2078.47,317.535 529.337,317.535 529.337,1042.35 \n",
       "  \"/>\n",
       "<polygon clip-path=\"url(#clip9603)\" points=\"\n",
       "551.024,1086.53 2101.86,1086.53 2101.86,342.423 551.024,342.423 551.024,1086.53 \n",
       "  \" fill=\"#009af9\" fill-rule=\"evenodd\" fill-opacity=\"1\"/>\n",
       "<polyline clip-path=\"url(#clip9603)\" style=\"stroke:#000000; stroke-width:4; stroke-opacity:1; fill:none\" points=\"\n",
       "  551.024,1086.53 2101.86,1086.53 2101.86,342.423 551.024,342.423 551.024,1086.53 \n",
       "  \"/>\n",
       "<polygon clip-path=\"url(#clip9603)\" points=\"\n",
       "572.657,1130.9 2125.15,1130.9 2125.15,367.568 572.657,367.568 572.657,1130.9 \n",
       "  \" fill=\"#009af9\" fill-rule=\"evenodd\" fill-opacity=\"1\"/>\n",
       "<polyline clip-path=\"url(#clip9603)\" style=\"stroke:#000000; stroke-width:4; stroke-opacity:1; fill:none\" points=\"\n",
       "  572.657,1130.9 2125.15,1130.9 2125.15,367.568 572.657,367.568 572.657,1130.9 \n",
       "  \"/>\n",
       "<polygon clip-path=\"url(#clip9603)\" points=\"\n",
       "594.237,1175.46 2148.34,1175.46 2148.34,392.968 594.237,392.968 594.237,1175.46 \n",
       "  \" fill=\"#009af9\" fill-rule=\"evenodd\" fill-opacity=\"1\"/>\n",
       "<polyline clip-path=\"url(#clip9603)\" style=\"stroke:#000000; stroke-width:4; stroke-opacity:1; fill:none\" points=\"\n",
       "  594.237,1175.46 2148.34,1175.46 2148.34,392.968 594.237,392.968 594.237,1175.46 \n",
       "  \"/>\n",
       "<polygon clip-path=\"url(#clip9603)\" points=\"\n",
       "615.761,1220.21 2171.42,1220.21 2171.42,418.621 615.761,418.621 615.761,1220.21 \n",
       "  \" fill=\"#009af9\" fill-rule=\"evenodd\" fill-opacity=\"1\"/>\n",
       "<polyline clip-path=\"url(#clip9603)\" style=\"stroke:#000000; stroke-width:4; stroke-opacity:1; fill:none\" points=\"\n",
       "  615.761,1220.21 2171.42,1220.21 2171.42,418.621 615.761,418.621 615.761,1220.21 \n",
       "  \"/>\n",
       "<polygon clip-path=\"url(#clip9603)\" points=\"\n",
       "637.23,1265.14 2194.39,1265.14 2194.39,444.527 637.23,444.527 637.23,1265.14 \n",
       "  \" fill=\"#009af9\" fill-rule=\"evenodd\" fill-opacity=\"1\"/>\n",
       "<polyline clip-path=\"url(#clip9603)\" style=\"stroke:#000000; stroke-width:4; stroke-opacity:1; fill:none\" points=\"\n",
       "  637.23,1265.14 2194.39,1265.14 2194.39,444.527 637.23,444.527 637.23,1265.14 \n",
       "  \"/>\n",
       "<polygon clip-path=\"url(#clip9603)\" points=\"\n",
       "658.643,1310.26 2217.26,1310.26 2217.26,470.685 658.643,470.685 658.643,1310.26 \n",
       "  \" fill=\"#009af9\" fill-rule=\"evenodd\" fill-opacity=\"1\"/>\n",
       "<polyline clip-path=\"url(#clip9603)\" style=\"stroke:#000000; stroke-width:4; stroke-opacity:1; fill:none\" points=\"\n",
       "  658.643,1310.26 2217.26,1310.26 2217.26,470.685 658.643,470.685 658.643,1310.26 \n",
       "  \"/>\n",
       "<polygon clip-path=\"url(#clip9603)\" points=\"\n",
       "679.999,1355.57 2240.02,1355.57 2240.02,497.092 679.999,497.092 679.999,1355.57 \n",
       "  \" fill=\"#009af9\" fill-rule=\"evenodd\" fill-opacity=\"1\"/>\n",
       "<polyline clip-path=\"url(#clip9603)\" style=\"stroke:#000000; stroke-width:4; stroke-opacity:1; fill:none\" points=\"\n",
       "  679.999,1355.57 2240.02,1355.57 2240.02,497.092 679.999,497.092 679.999,1355.57 \n",
       "  \"/>\n",
       "<polygon clip-path=\"url(#clip9603)\" points=\"\n",
       "701.299,1401.05 2262.67,1401.05 2262.67,523.747 701.299,523.747 701.299,1401.05 \n",
       "  \" fill=\"#009af9\" fill-rule=\"evenodd\" fill-opacity=\"1\"/>\n",
       "<polyline clip-path=\"url(#clip9603)\" style=\"stroke:#000000; stroke-width:4; stroke-opacity:1; fill:none\" points=\"\n",
       "  701.299,1401.05 2262.67,1401.05 2262.67,523.747 701.299,523.747 701.299,1401.05 \n",
       "  \"/>\n",
       "</svg>\n"
      ]
     },
     "execution_count": 97,
     "metadata": {},
     "output_type": "execute_result"
    }
   ],
   "source": [
    "plot(Rsol, xlab=\"x\", ylab=\"y\")"
   ]
  },
  {
   "cell_type": "markdown",
   "metadata": {},
   "source": [
    "### Appendix: auxiliary functions"
   ]
  },
  {
   "cell_type": "code",
   "execution_count": 2,
   "metadata": {},
   "outputs": [
    {
     "data": {
      "text/plain": [
       "linearize (generic function with 1 method)"
      ]
     },
     "execution_count": 2,
     "metadata": {},
     "output_type": "execute_result"
    }
   ],
   "source": [
    "function linearize(𝑃::IVP{<:BBCS}, δ)\n",
    "\n",
    "    # nonlinear ODE\n",
    "    f = 𝑃.s.f\n",
    "    \n",
    "    # initial set of current chunk\n",
    "    𝑋₀i = 𝑃.x0\n",
    "\n",
    "    # linearization point for current chunk\n",
    "    c = center(𝑋₀i)\n",
    "    x̃ = c + δ/2 * f(c)\n",
    "\n",
    "    # evaluate Jacobian at the linearization point\n",
    "    Ax̃ = jacobian(f, x̃) #  map(x -> evaluate(x, x̃), Jf)\n",
    "    bx̃ = f(x̃) - Ax̃ * x̃\n",
    "\n",
    "    # instantiate linearized system; it doesn't have state constraints\n",
    "    𝑆lin = ConstrainedAffineContinuousSystem(Ax̃, bx̃, Universe(2));\n",
    "    𝑃lin = IVP(𝑆lin, 𝑋₀i)\n",
    "    return x̃, 𝑃lin\n",
    "end"
   ]
  },
  {
   "cell_type": "code",
   "execution_count": 72,
   "metadata": {},
   "outputs": [
    {
     "data": {
      "text/plain": [
       "_add_chunk! (generic function with 3 methods)"
      ]
     },
     "execution_count": 72,
     "metadata": {},
     "output_type": "execute_result"
    }
   ],
   "source": [
    "function _add_chunk!(Rsets::Vector{ReachSet{Hyperrectangle{Float64}, Float64}}, Rlin, R̄err, t0)\n",
    "    @inbounds for i in eachindex(Rlin.Xk)\n",
    "        Ri = Rlin.Xk[i].X ⊕ R̄err\n",
    "        Ri = overapproximate(Ri, Hyperrectangle)\n",
    "        Ri = ReachSet(Ri, t0 + Rlin.Xk[i].t_start, t0 + Rlin.Xk[i].t_end)\n",
    "        push!(Rsets, Ri)\n",
    "    end\n",
    "    return Rsets\n",
    "end\n",
    "\n",
    "function _add_chunk!(Rsets::Vector{ReachSet{Zonotope{Float64}, Float64}}, Rlin, R̄err, t0)\n",
    "    @inbounds for i in eachindex(Rlin.Xk)\n",
    "        Ri = minkowski_sum(Rlin.Xk[i].X, convert(Zonotope, R̄err))\n",
    "        Ri = ReachSet(Ri, t0 + Rlin.Xk[i].t_start, t0 + Rlin.Xk[i].t_end)\n",
    "        push!(Rsets, Ri)\n",
    "    end\n",
    "    return Rsets\n",
    "end"
   ]
  },
  {
   "cell_type": "code",
   "execution_count": 4,
   "metadata": {},
   "outputs": [
    {
     "data": {
      "text/plain": [
       "admissible_error (generic function with 1 method)"
      ]
     },
     "execution_count": 4,
     "metadata": {},
     "output_type": "execute_result"
    }
   ],
   "source": [
    "function admissible_error(Ax̃, δ, θ; n=2)\n",
    "    @assert n == 2\n",
    "    Φ₁_Aδ = Φ₁(Ax̃, δ)\n",
    "    R̄err = Hyperrectangle(zeros(2), θ*δ)\n",
    "    l̄ = abs.(inv(Φ₁_Aδ)) * θ * δ\n",
    "    L̄ = Hyperrectangle(zeros(2), l̄)\n",
    "    return R̄err, L̄\n",
    "end"
   ]
  },
  {
   "cell_type": "code",
   "execution_count": 5,
   "metadata": {},
   "outputs": [
    {
     "data": {
      "text/plain": [
       "lagrange_remainder (generic function with 1 method)"
      ]
     },
     "execution_count": 5,
     "metadata": {},
     "output_type": "execute_result"
    }
   ],
   "source": [
    "function lagrange_remainder(f, Rlin, R̄err, x̃; n=2)\n",
    "    @assert n == 2\n",
    "    \n",
    "    Hf₁ = [∂(f[1], (2, 0)) ∂(f[1], (1, 1));\n",
    "           ∂(f[1], (1, 1)) ∂(f[1], (0, 2))]\n",
    "    Hf₂ = [∂(f[2], (2, 0)) ∂(f[2], (1, 1));\n",
    "           ∂(f[2], (1, 1)) ∂(f[2], (0, 2))]\n",
    "\n",
    "    R̂lin = ConvexHullArray([Ri.X for Ri in Rlin.Xk]) ⊕ R̄err\n",
    "    R̂lin_rect = overapproximate(R̂lin, Hyperrectangle)\n",
    "\n",
    "    ξ = CH(Singleton(x̃), R̂lin_rect)\n",
    "    ξ_rect = overapproximate(ξ, Hyperrectangle)\n",
    "    ξ_box = convert(IntervalBox, ξ_rect)\n",
    "\n",
    "    Hf₁_box = map(Hf_ij -> evaluate(Hf_ij, ξ_box), Hf₁)\n",
    "    Hf₂_box = map(Hf_ij -> evaluate(Hf_ij, ξ_box), Hf₂)\n",
    "\n",
    "    R̂lin_zono = convert(Zonotope, R̂lin_rect)\n",
    "\n",
    "    γ = abs.(R̂lin_zono.center - x̃) + sum(abs.(R̂lin_zono.generators), dims=2)\n",
    "    \n",
    "    G = [sup.(abs.(Hf₁_box)), sup.(abs.(Hf₂_box))];\n",
    "    li_zono = [(1/2 * transpose(γ) * G[i] * γ)[1, 1] for i in 1:n]\n",
    "    L = Hyperrectangle(zeros(n), li_zono)\n",
    "    return L\n",
    "end"
   ]
  },
  {
   "cell_type": "markdown",
   "metadata": {},
   "source": [
    "### Other scripts"
   ]
  },
  {
   "cell_type": "code",
   "execution_count": 6,
   "metadata": {},
   "outputs": [],
   "source": [
    "#=\n",
    "@time begin\n",
    "# number of Taylor terms considered in the linearization\n",
    "taylor_terms = 4\n",
    "\n",
    "# define the working variables and fix the max order in the Taylor series expansion\n",
    "x = set_variables(\"x\", numvars=2, order=taylor_terms)\n",
    "\n",
    "# define the ODE\n",
    "f = Vector{TaylorN{Float64}}(undef, 2)\n",
    "f[1] = x[2]\n",
    "f[2] = x[2] * (1-x[1]^2) - x[1]\n",
    "\n",
    "# define the initial-value problem\n",
    "𝑋₀ = Hyperrectangle(low=[1.25, 2.35], high=[1.55, 2.45])\n",
    "𝑆 = BlackBoxContinuousSystem(f, 2)\n",
    "𝑃 = InitialValueProblem(𝑆, 𝑋₀)\n",
    "\n",
    "# take the gradient of the vector field symbolically\n",
    "#∇f = [gradient(f[i]) for i in 1:2]\n",
    "\n",
    "# take the Jacobian matrix of the vector field symbolically\n",
    "#Jf = [∂(f[1], (1, 0)) ∂(f[1], (0, 1));\n",
    "#      ∂(f[2], (1, 0)) ∂(f[2], (0, 1))]\n",
    "\n",
    "# algorithm-specific options\n",
    "𝑂 = Options(:δ => 0.02, :δcont => 0.02/10, :max_order=>2, :θ=>fill(0.05, 2))\n",
    "\n",
    "# unwrap options\n",
    "δ = O[:δ]\n",
    "θ = O[:θ]\n",
    "\n",
    "# collection of flowpipes; the set type depends on add_chunk! and the continuous post\n",
    "Rsets = Vector{ReachSet{Hyperrectangle{Float64}, Float64}}()\n",
    "end\n",
    "=#"
   ]
  },
  {
   "cell_type": "code",
   "execution_count": null,
   "metadata": {},
   "outputs": [],
   "source": [
    "#=\n",
    "@time begin\n",
    "x̃, 𝑃lin = linearize(𝑃, δ)\n",
    "end;\n",
    "𝑋₀i = 𝑃lin.x0\n",
    "\n",
    "# use zonotope-based continuous reach\n",
    "@time begin\n",
    "Rlin_zono = solve(𝑃lin, Options(:T=>O[:δ]), op=GLGM06(:δ=>O[:δcont], :max_order=>O[:max_order]))\n",
    "end;\n",
    "\n",
    "# use decomposition-based continuous reach\n",
    "@time begin\n",
    "Rlin_box = solve(𝑃lin, Options(:T=>O[:δ]), op=BFFPSV18(:δ=>O[:δcont]))\n",
    "end;\n",
    "\n",
    "plot(Rlin_zono, alpha=.5)\n",
    "plot!(Rlin_box, alpha=.5, xlab=\"x\", ylab=\"y\")\n",
    "\n",
    "Rlin = Rlin_zono  # decide which continuoust post to use\n",
    "\n",
    "@time begin\n",
    "R̄err, L̄ = admissible_error(𝑃lin.s.A, δ, θ; n=2)\n",
    "L = lagrange_remainder(f, Rlin, R̄err, x̃; n=2)\n",
    "end\n",
    "=#"
   ]
  }
 ],
 "metadata": {
  "kernelspec": {
   "display_name": "Julia 1.1.0-rc2",
   "language": "julia",
   "name": "julia-1.1"
  },
  "language_info": {
   "file_extension": ".jl",
   "mimetype": "application/julia",
   "name": "julia",
   "version": "1.1.0"
  }
 },
 "nbformat": 4,
 "nbformat_minor": 2
}
