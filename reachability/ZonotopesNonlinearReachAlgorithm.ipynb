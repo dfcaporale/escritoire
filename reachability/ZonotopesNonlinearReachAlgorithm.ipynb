{
 "cells": [
  {
   "cell_type": "markdown",
   "metadata": {},
   "source": [
    "The theory for this notebook is developed in `ZonotopesNonlinearReach`."
   ]
  },
  {
   "cell_type": "code",
   "execution_count": null,
   "metadata": {},
   "outputs": [],
   "source": [
    "# load packages\n",
    "using Plots\n",
    "using LazySets, MathematicalSystems, Reachability\n",
    "using LazySets.Approximations\n",
    "using Reachability: center\n",
    "using Reachability.ReachSets: Φ₁\n",
    "using IntervalArithmetic, ValidatedNumerics\n",
    "using LazySets: Interval, translate\n",
    "using TaylorSeries\n",
    "using TaylorSeries: gradient, jacobian, hessian, derivative\n",
    "const ∂ = derivative"
   ]
  },
  {
   "cell_type": "code",
   "execution_count": null,
   "metadata": {},
   "outputs": [],
   "source": [
    "@time begin\n",
    "# number of Taylor terms considered in the linearization\n",
    "taylor_terms = 4\n",
    "\n",
    "# define the working variables and fix the max order in the Taylor series expansion\n",
    "x = set_variables(\"x\", numvars=2, order=taylor_terms)\n",
    "\n",
    "# define the ODE\n",
    "f = Vector{TaylorN{Float64}}(undef, 2)\n",
    "f[1] = x[2]\n",
    "f[2] = x[2] * (1-x[1]^2) - x[1]\n",
    "\n",
    "# define the initial-value problem\n",
    "𝑋₀ = Hyperrectangle(low=[1.25, 2.35], high=[1.55, 2.45])\n",
    "𝑆 = BlackBoxContinuousSystem(f, 2)\n",
    "𝑃 = InitialValueProblem(𝑆, 𝑋₀)\n",
    "\n",
    "# take the gradient of the vector field symbolically\n",
    "#∇f = [gradient(f[i]) for i in 1:2]\n",
    "\n",
    "# take the Jacobian matrix of the vector field symbolically\n",
    "#Jf = [∂(f[1], (1, 0)) ∂(f[1], (0, 1));\n",
    "#      ∂(f[2], (1, 0)) ∂(f[2], (0, 1))]\n",
    "\n",
    "# algorithm-specific options\n",
    "O = Options(:δ => 0.02, :δcont => 0.02/10, :max_order=>2, :θ=>fill(0.05, 2))\n",
    "\n",
    "# unwrap options\n",
    "δ = O[:δ]\n",
    "θ = O[:θ]\n",
    "\n",
    "# collection of flowpipes\n",
    "Rsets = Vector{ReachSet{Hyperrectangle{Float64}, Float64}}()\n",
    "end"
   ]
  },
  {
   "cell_type": "code",
   "execution_count": null,
   "metadata": {},
   "outputs": [],
   "source": [
    "@time begin\n",
    "# initial set of current chunk\n",
    "𝑋₀i = 𝑃.x0\n",
    "\n",
    "# linearization point for current chunk\n",
    "c = center(𝑋₀i)\n",
    "x̃ = c + δ/2 * f(c)\n",
    "\n",
    "# evaluate Jacobian at the linearization point\n",
    "Ax̃ = jacobian(f, x̃) #  map(x -> evaluate(x, x̃), Jf)\n",
    "bx̃ = f(x̃) - Ax̃ * x̃\n",
    "\n",
    "# instantiate linearized system; it doesn't have state constraints\n",
    "𝑆lin = ConstrainedAffineContinuousSystem(Ax̃, bx̃, Universe(2));\n",
    "end"
   ]
  },
  {
   "cell_type": "code",
   "execution_count": null,
   "metadata": {},
   "outputs": [],
   "source": [
    "# use zonotope-based continuous reach\n",
    "@time begin\n",
    "𝑃lin = InitialValueProblem(𝑆lin, 𝑋₀i)\n",
    "Rlin_zono = solve(𝑃lin, Options(:T=>O[:δ]), op=GLGM06(:δ=>O[:δcont], :max_order=>O[:max_order]))\n",
    "end;"
   ]
  },
  {
   "cell_type": "code",
   "execution_count": null,
   "metadata": {},
   "outputs": [],
   "source": [
    "# use decomposition-based continuous reach\n",
    "@time begin\n",
    "𝑃lin = InitialValueProblem(𝑆lin, 𝑋₀i)\n",
    "Rlin_box = solve(𝑃lin, Options(:T=>O[:δ]), op=BFFPSV18(:δ=>O[:δcont]))\n",
    "end;"
   ]
  },
  {
   "cell_type": "code",
   "execution_count": null,
   "metadata": {},
   "outputs": [],
   "source": [
    "plot(Rlin_zono, alpha=.5)\n",
    "plot!(Rlin_box, alpha=.5, xlab=\"x\", ylab=\"y\")"
   ]
  },
  {
   "cell_type": "code",
   "execution_count": null,
   "metadata": {},
   "outputs": [],
   "source": [
    "# decide which continuoust post to use\n",
    "Rlin = Rlin_zono\n",
    "\n",
    "@time begin\n",
    "L̄ = admissible_error(Ax̃, δ, θ; n=2)\n",
    "L = lagrange_remainder(f, Rlin, R̄err, x̃; n=2)\n",
    "end"
   ]
  },
  {
   "cell_type": "code",
   "execution_count": null,
   "metadata": {},
   "outputs": [],
   "source": [
    "if L ⊆ L̄\n",
    "    # split\n",
    "    error(\"split is not implemented\")\n",
    "else\n",
    "   _add_chunk!(Rsets, Rlin, R̄err)\n",
    "end\n",
    "t0 = Rsets[end].t_end"
   ]
  },
  {
   "cell_type": "markdown",
   "metadata": {},
   "source": [
    "### Appendix: auxiliary functions"
   ]
  },
  {
   "cell_type": "code",
   "execution_count": null,
   "metadata": {},
   "outputs": [],
   "source": [
    "function _add_chunk!(Rsets, Rlin, R̄err)\n",
    "    @inbounds for i in eachindex(Rlin.Xk)\n",
    "        Ri = Rlin.Xk[i].X ⊕ R̄err\n",
    "        Ri = overapproximate(Ri, Hyperrectangle)\n",
    "        Ri = ReachSet(Ri, Rlin.Xk[i].t_start, Rlin.Xk[i].t_end)\n",
    "        push!(Rsets, Ri)\n",
    "    end\n",
    "    return Rsets\n",
    "end"
   ]
  },
  {
   "cell_type": "code",
   "execution_count": null,
   "metadata": {},
   "outputs": [],
   "source": [
    "function admissible_error(Ax̃, δ, θ; n=2)\n",
    "    @assert n == 2\n",
    "    Φ₁_Aδ = Φ₁(Ax̃, δ)\n",
    "    R̄err = Hyperrectangle(zeros(2), θ*δ)\n",
    "    l̄ = abs.(inv(Φ₁_Aδ)) * θ * δ\n",
    "    L̄ = Hyperrectangle(zeros(2), l̄)\n",
    "    return L̄\n",
    "end"
   ]
  },
  {
   "cell_type": "code",
   "execution_count": null,
   "metadata": {},
   "outputs": [],
   "source": [
    "function lagrange_remainder(f, Rlin, R̄err, x̃; n=2)\n",
    "    @assert n == 2\n",
    "    \n",
    "    Hf₁ = [∂(f[1], (2, 0)) ∂(f[1], (1, 1));\n",
    "           ∂(f[1], (1, 1)) ∂(f[1], (0, 2))]\n",
    "    Hf₂ = [∂(f[2], (2, 0)) ∂(f[2], (1, 1));\n",
    "           ∂(f[2], (1, 1)) ∂(f[2], (0, 2))]\n",
    "\n",
    "    R̂lin = ConvexHullArray([Ri.X for Ri in Rlin.Xk]) ⊕ R̄err\n",
    "    R̂lin_rect = overapproximate(R̂lin, Hyperrectangle)\n",
    "\n",
    "    ξ = CH(Singleton(x̃), R̂lin_rect)\n",
    "    ξ_rect = overapproximate(ξ, Hyperrectangle)\n",
    "    ξ_box = convert(IntervalBox, ξ_rect)\n",
    "\n",
    "    Hf₁_box = map(Hf_ij -> evaluate(Hf_ij, ξ_box), Hf₁)\n",
    "    Hf₂_box = map(Hf_ij -> evaluate(Hf_ij, ξ_box), Hf₂)\n",
    "\n",
    "    R̂lin_zono = convert(Zonotope, R̂lin_rect)\n",
    "\n",
    "    γ = abs.(R̂lin_zono.center - x̃) + sum(abs.(R̂lin_zono.generators), dims=2)\n",
    "    \n",
    "    G = [sup.(abs.(Hf₁_box)), sup.(abs.(Hf₂_box))];\n",
    "    li_zono = [(1/2 * transpose(γ) * G[i] * γ)[1, 1] for i in 1:n]\n",
    "    L = Hyperrectangle(zeros(n), li_zono)\n",
    "    return L\n",
    "end"
   ]
  }
 ],
 "metadata": {
  "kernelspec": {
   "display_name": "Julia 1.1.0-rc2",
   "language": "julia",
   "name": "julia-1.1"
  },
  "language_info": {
   "file_extension": ".jl",
   "mimetype": "application/julia",
   "name": "julia",
   "version": "1.1.0"
  }
 },
 "nbformat": 4,
 "nbformat_minor": 2
}
