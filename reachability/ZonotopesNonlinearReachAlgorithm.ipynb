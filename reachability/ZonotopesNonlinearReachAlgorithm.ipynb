{
 "cells": [
  {
   "cell_type": "markdown",
   "metadata": {},
   "source": [
    "The theory for this notebook is developed in `ZonotopesNonlinearReach`."
   ]
  },
  {
   "cell_type": "code",
   "execution_count": 1,
   "metadata": {},
   "outputs": [
    {
     "name": "stderr",
     "output_type": "stream",
     "text": [
      "┌ Info: Recompiling stale cache file /Users/forets/.julia/compiled/v1.1/Reachability/CHV4V.ji for Reachability [774a0091-654f-5c65-bbdc-ad5b67b45832]\n",
      "└ @ Base loading.jl:1184\n"
     ]
    },
    {
     "data": {
      "text/plain": [
       "derivative (generic function with 10 methods)"
      ]
     },
     "execution_count": 1,
     "metadata": {},
     "output_type": "execute_result"
    }
   ],
   "source": [
    "# load packages\n",
    "using Plots\n",
    "using LazySets, MathematicalSystems, Reachability\n",
    "using LazySets.Approximations\n",
    "using Reachability: center\n",
    "using Reachability.ReachSets: Φ₁\n",
    "using IntervalArithmetic, ValidatedNumerics\n",
    "using LazySets: Interval, translate\n",
    "using TaylorSeries\n",
    "using TaylorSeries: gradient, jacobian, hessian, derivative\n",
    "const ∂ = derivative"
   ]
  },
  {
   "cell_type": "code",
   "execution_count": 3,
   "metadata": {},
   "outputs": [
    {
     "name": "stdout",
     "output_type": "stream",
     "text": [
      "  0.000791 seconds (594 allocations: 33.047 KiB)\n"
     ]
    },
    {
     "data": {
      "text/plain": [
       "0-element Array{ReachSet{Hyperrectangle{Float64},Float64},1}"
      ]
     },
     "execution_count": 3,
     "metadata": {},
     "output_type": "execute_result"
    }
   ],
   "source": [
    "@time begin\n",
    "# number of Taylor terms considered in the linearization\n",
    "taylor_terms = 4\n",
    "\n",
    "# define the working variables and fix the max order in the Taylor series expansion\n",
    "x = set_variables(\"x\", numvars=2, order=taylor_terms)\n",
    "\n",
    "# define the ODE\n",
    "f = Vector{TaylorN{Float64}}(undef, 2)\n",
    "f[1] = x[2]\n",
    "f[2] = x[2] * (1-x[1]^2) - x[1]\n",
    "\n",
    "# define the initial-value problem\n",
    "𝑋₀ = Hyperrectangle(low=[1.25, 2.35], high=[1.55, 2.45])\n",
    "𝑆 = BlackBoxContinuousSystem(f, 2)\n",
    "𝑃 = InitialValueProblem(𝑆, 𝑋₀)\n",
    "\n",
    "# take the gradient of the vector field symbolically\n",
    "#∇f = [gradient(f[i]) for i in 1:2]\n",
    "\n",
    "# take the Jacobian matrix of the vector field symbolically\n",
    "#Jf = [∂(f[1], (1, 0)) ∂(f[1], (0, 1));\n",
    "#      ∂(f[2], (1, 0)) ∂(f[2], (0, 1))]\n",
    "\n",
    "# algorithm-specific options\n",
    "O = Options(:δ => 0.02, :δcont => 0.02/10, :max_order=>2, :θ=>fill(0.05, 2))\n",
    "\n",
    "# unwrap options\n",
    "δ = O[:δ]\n",
    "θ = O[:θ]\n",
    "\n",
    "# collection of flowpipes\n",
    "Rsets = Vector{ReachSet{Hyperrectangle{Float64}, Float64}}()\n",
    "end"
   ]
  },
  {
   "cell_type": "code",
   "execution_count": 38,
   "metadata": {},
   "outputs": [
    {
     "name": "stdout",
     "output_type": "stream",
     "text": [
      "  0.000118 seconds (416 allocations: 23.078 KiB)\n"
     ]
    }
   ],
   "source": [
    "@time begin\n",
    "x̃, 𝑆lin = linearize(𝑃, δ)\n",
    "end;"
   ]
  },
  {
   "cell_type": "code",
   "execution_count": 39,
   "metadata": {},
   "outputs": [
    {
     "name": "stdout",
     "output_type": "stream",
     "text": [
      "  0.070020 seconds (4.26 k allocations: 506.313 KiB)\n"
     ]
    }
   ],
   "source": [
    "# use zonotope-based continuous reach\n",
    "@time begin\n",
    "𝑃lin = InitialValueProblem(𝑆lin, 𝑋₀i)\n",
    "Rlin_zono = solve(𝑃lin, Options(:T=>O[:δ]), op=GLGM06(:δ=>O[:δcont], :max_order=>O[:max_order]))\n",
    "end;"
   ]
  },
  {
   "cell_type": "code",
   "execution_count": 40,
   "metadata": {},
   "outputs": [
    {
     "name": "stdout",
     "output_type": "stream",
     "text": [
      "  0.029150 seconds (2.21 k allocations: 331.031 KiB)\n"
     ]
    }
   ],
   "source": [
    "# use decomposition-based continuous reach\n",
    "@time begin\n",
    "𝑃lin = InitialValueProblem(𝑆lin, 𝑋₀i)\n",
    "Rlin_box = solve(𝑃lin, Options(:T=>O[:δ]), op=BFFPSV18(:δ=>O[:δcont]))\n",
    "end;"
   ]
  },
  {
   "cell_type": "code",
   "execution_count": 41,
   "metadata": {},
   "outputs": [
    {
     "data": {
      "image/svg+xml": [
       "<?xml version=\"1.0\" encoding=\"utf-8\"?>\n",
       "<svg xmlns=\"http://www.w3.org/2000/svg\" xmlns:xlink=\"http://www.w3.org/1999/xlink\" width=\"600\" height=\"400\" viewBox=\"0 0 2400 1600\">\n",
       "<defs>\n",
       "  <clipPath id=\"clip3600\">\n",
       "    <rect x=\"0\" y=\"0\" width=\"2000\" height=\"2000\"/>\n",
       "  </clipPath>\n",
       "</defs>\n",
       "<defs>\n",
       "  <clipPath id=\"clip3601\">\n",
       "    <rect x=\"0\" y=\"0\" width=\"2400\" height=\"1600\"/>\n",
       "  </clipPath>\n",
       "</defs>\n",
       "<polygon clip-path=\"url(#clip3601)\" points=\"\n",
       "0,1600 2400,1600 2400,0 0,0 \n",
       "  \" fill=\"#ffffff\" fill-rule=\"evenodd\" fill-opacity=\"1\"/>\n",
       "<defs>\n",
       "  <clipPath id=\"clip3602\">\n",
       "    <rect x=\"480\" y=\"0\" width=\"1681\" height=\"1600\"/>\n",
       "  </clipPath>\n",
       "</defs>\n",
       "<polygon clip-path=\"url(#clip3601)\" points=\"\n",
       "251.149,1440.48 2321.26,1440.48 2321.26,47.2441 251.149,47.2441 \n",
       "  \" fill=\"#ffffff\" fill-rule=\"evenodd\" fill-opacity=\"1\"/>\n",
       "<defs>\n",
       "  <clipPath id=\"clip3603\">\n",
       "    <rect x=\"251\" y=\"47\" width=\"2071\" height=\"1394\"/>\n",
       "  </clipPath>\n",
       "</defs>\n",
       "<polyline clip-path=\"url(#clip3603)\" style=\"stroke:#000000; stroke-width:2; stroke-opacity:0.1; fill:none\" points=\"\n",
       "  590.864,1440.48 590.864,47.2441 \n",
       "  \"/>\n",
       "<polyline clip-path=\"url(#clip3603)\" style=\"stroke:#000000; stroke-width:2; stroke-opacity:0.1; fill:none\" points=\"\n",
       "  1151.49,1440.48 1151.49,47.2441 \n",
       "  \"/>\n",
       "<polyline clip-path=\"url(#clip3603)\" style=\"stroke:#000000; stroke-width:2; stroke-opacity:0.1; fill:none\" points=\"\n",
       "  1712.11,1440.48 1712.11,47.2441 \n",
       "  \"/>\n",
       "<polyline clip-path=\"url(#clip3603)\" style=\"stroke:#000000; stroke-width:2; stroke-opacity:0.1; fill:none\" points=\"\n",
       "  2272.73,1440.48 2272.73,47.2441 \n",
       "  \"/>\n",
       "<polyline clip-path=\"url(#clip3603)\" style=\"stroke:#000000; stroke-width:2; stroke-opacity:0.1; fill:none\" points=\"\n",
       "  251.149,1408.34 2321.26,1408.34 \n",
       "  \"/>\n",
       "<polyline clip-path=\"url(#clip3603)\" style=\"stroke:#000000; stroke-width:2; stroke-opacity:0.1; fill:none\" points=\"\n",
       "  251.149,1081.59 2321.26,1081.59 \n",
       "  \"/>\n",
       "<polyline clip-path=\"url(#clip3603)\" style=\"stroke:#000000; stroke-width:2; stroke-opacity:0.1; fill:none\" points=\"\n",
       "  251.149,754.847 2321.26,754.847 \n",
       "  \"/>\n",
       "<polyline clip-path=\"url(#clip3603)\" style=\"stroke:#000000; stroke-width:2; stroke-opacity:0.1; fill:none\" points=\"\n",
       "  251.149,428.099 2321.26,428.099 \n",
       "  \"/>\n",
       "<polyline clip-path=\"url(#clip3603)\" style=\"stroke:#000000; stroke-width:2; stroke-opacity:0.1; fill:none\" points=\"\n",
       "  251.149,101.352 2321.26,101.352 \n",
       "  \"/>\n",
       "<polyline clip-path=\"url(#clip3601)\" style=\"stroke:#000000; stroke-width:4; stroke-opacity:1; fill:none\" points=\"\n",
       "  251.149,1440.48 2321.26,1440.48 \n",
       "  \"/>\n",
       "<polyline clip-path=\"url(#clip3601)\" style=\"stroke:#000000; stroke-width:4; stroke-opacity:1; fill:none\" points=\"\n",
       "  251.149,1440.48 251.149,47.2441 \n",
       "  \"/>\n",
       "<polyline clip-path=\"url(#clip3601)\" style=\"stroke:#000000; stroke-width:4; stroke-opacity:1; fill:none\" points=\"\n",
       "  590.864,1440.48 590.864,1419.58 \n",
       "  \"/>\n",
       "<polyline clip-path=\"url(#clip3601)\" style=\"stroke:#000000; stroke-width:4; stroke-opacity:1; fill:none\" points=\"\n",
       "  1151.49,1440.48 1151.49,1419.58 \n",
       "  \"/>\n",
       "<polyline clip-path=\"url(#clip3601)\" style=\"stroke:#000000; stroke-width:4; stroke-opacity:1; fill:none\" points=\"\n",
       "  1712.11,1440.48 1712.11,1419.58 \n",
       "  \"/>\n",
       "<polyline clip-path=\"url(#clip3601)\" style=\"stroke:#000000; stroke-width:4; stroke-opacity:1; fill:none\" points=\"\n",
       "  2272.73,1440.48 2272.73,1419.58 \n",
       "  \"/>\n",
       "<polyline clip-path=\"url(#clip3601)\" style=\"stroke:#000000; stroke-width:4; stroke-opacity:1; fill:none\" points=\"\n",
       "  251.149,1408.34 282.2,1408.34 \n",
       "  \"/>\n",
       "<polyline clip-path=\"url(#clip3601)\" style=\"stroke:#000000; stroke-width:4; stroke-opacity:1; fill:none\" points=\"\n",
       "  251.149,1081.59 282.2,1081.59 \n",
       "  \"/>\n",
       "<polyline clip-path=\"url(#clip3601)\" style=\"stroke:#000000; stroke-width:4; stroke-opacity:1; fill:none\" points=\"\n",
       "  251.149,754.847 282.2,754.847 \n",
       "  \"/>\n",
       "<polyline clip-path=\"url(#clip3601)\" style=\"stroke:#000000; stroke-width:4; stroke-opacity:1; fill:none\" points=\"\n",
       "  251.149,428.099 282.2,428.099 \n",
       "  \"/>\n",
       "<polyline clip-path=\"url(#clip3601)\" style=\"stroke:#000000; stroke-width:4; stroke-opacity:1; fill:none\" points=\"\n",
       "  251.149,101.352 282.2,101.352 \n",
       "  \"/>\n",
       "<g clip-path=\"url(#clip3601)\">\n",
       "<text style=\"fill:#000000; fill-opacity:1; font-family:Arial,Helvetica Neue,Helvetica,sans-serif; font-size:48px; text-anchor:middle;\" transform=\"rotate(0, 590.864, 1494.48)\" x=\"590.864\" y=\"1494.48\">1.3</text>\n",
       "</g>\n",
       "<g clip-path=\"url(#clip3601)\">\n",
       "<text style=\"fill:#000000; fill-opacity:1; font-family:Arial,Helvetica Neue,Helvetica,sans-serif; font-size:48px; text-anchor:middle;\" transform=\"rotate(0, 1151.49, 1494.48)\" x=\"1151.49\" y=\"1494.48\">1.4</text>\n",
       "</g>\n",
       "<g clip-path=\"url(#clip3601)\">\n",
       "<text style=\"fill:#000000; fill-opacity:1; font-family:Arial,Helvetica Neue,Helvetica,sans-serif; font-size:48px; text-anchor:middle;\" transform=\"rotate(0, 1712.11, 1494.48)\" x=\"1712.11\" y=\"1494.48\">1.5</text>\n",
       "</g>\n",
       "<g clip-path=\"url(#clip3601)\">\n",
       "<text style=\"fill:#000000; fill-opacity:1; font-family:Arial,Helvetica Neue,Helvetica,sans-serif; font-size:48px; text-anchor:middle;\" transform=\"rotate(0, 2272.73, 1494.48)\" x=\"2272.73\" y=\"1494.48\">1.6</text>\n",
       "</g>\n",
       "<g clip-path=\"url(#clip3601)\">\n",
       "<text style=\"fill:#000000; fill-opacity:1; font-family:Arial,Helvetica Neue,Helvetica,sans-serif; font-size:48px; text-anchor:end;\" transform=\"rotate(0, 227.149, 1425.84)\" x=\"227.149\" y=\"1425.84\">2.25</text>\n",
       "</g>\n",
       "<g clip-path=\"url(#clip3601)\">\n",
       "<text style=\"fill:#000000; fill-opacity:1; font-family:Arial,Helvetica Neue,Helvetica,sans-serif; font-size:48px; text-anchor:end;\" transform=\"rotate(0, 227.149, 1099.09)\" x=\"227.149\" y=\"1099.09\">2.30</text>\n",
       "</g>\n",
       "<g clip-path=\"url(#clip3601)\">\n",
       "<text style=\"fill:#000000; fill-opacity:1; font-family:Arial,Helvetica Neue,Helvetica,sans-serif; font-size:48px; text-anchor:end;\" transform=\"rotate(0, 227.149, 772.347)\" x=\"227.149\" y=\"772.347\">2.35</text>\n",
       "</g>\n",
       "<g clip-path=\"url(#clip3601)\">\n",
       "<text style=\"fill:#000000; fill-opacity:1; font-family:Arial,Helvetica Neue,Helvetica,sans-serif; font-size:48px; text-anchor:end;\" transform=\"rotate(0, 227.149, 445.599)\" x=\"227.149\" y=\"445.599\">2.40</text>\n",
       "</g>\n",
       "<g clip-path=\"url(#clip3601)\">\n",
       "<text style=\"fill:#000000; fill-opacity:1; font-family:Arial,Helvetica Neue,Helvetica,sans-serif; font-size:48px; text-anchor:end;\" transform=\"rotate(0, 227.149, 118.852)\" x=\"227.149\" y=\"118.852\">2.45</text>\n",
       "</g>\n",
       "<g clip-path=\"url(#clip3601)\">\n",
       "<text style=\"fill:#000000; fill-opacity:1; font-family:Arial,Helvetica Neue,Helvetica,sans-serif; font-size:66px; text-anchor:middle;\" transform=\"rotate(0, 1286.2, 1590.4)\" x=\"1286.2\" y=\"1590.4\">x</text>\n",
       "</g>\n",
       "<g clip-path=\"url(#clip3601)\">\n",
       "<text style=\"fill:#000000; fill-opacity:1; font-family:Arial,Helvetica Neue,Helvetica,sans-serif; font-size:66px; text-anchor:middle;\" transform=\"rotate(-90, 57.6, 743.863)\" x=\"57.6\" y=\"743.863\">y</text>\n",
       "</g>\n",
       "<polygon clip-path=\"url(#clip3603)\" points=\"\n",
       "309.737,769.523 336.497,818.012 2019.99,818.012 2019.99,135.164 1993.23,86.6754 309.737,86.6754 309.737,769.523 \n",
       "  \" fill=\"#009af9\" fill-rule=\"evenodd\" fill-opacity=\"0.5\"/>\n",
       "<polyline clip-path=\"url(#clip3603)\" style=\"stroke:#000000; stroke-width:4; stroke-opacity:0.5; fill:none\" points=\"\n",
       "  309.737,769.523 336.497,818.012 2019.99,818.012 2019.99,135.164 1993.23,86.6754 309.737,86.6754 309.737,769.523 \n",
       "  \"/>\n",
       "<polygon clip-path=\"url(#clip3603)\" points=\"\n",
       "335.818,802.297 362.495,851.168 2045.15,881.459 2047.35,881.459 2047.35,199.75 2020.67,150.88 338.02,120.588 335.818,120.588 335.818,802.297 \n",
       "  \" fill=\"#009af9\" fill-rule=\"evenodd\" fill-opacity=\"0.5\"/>\n",
       "<polyline clip-path=\"url(#clip3603)\" style=\"stroke:#000000; stroke-width:4; stroke-opacity:0.5; fill:none\" points=\"\n",
       "  335.818,802.297 362.495,851.168 2045.15,881.459 2047.35,881.459 2047.35,199.75 2020.67,150.88 338.02,120.588 335.818,120.588 335.818,802.297 \n",
       "  \"/>\n",
       "<polygon clip-path=\"url(#clip3603)\" points=\"\n",
       "361.842,835.476 388.435,884.726 2071.01,945.246 2074.6,945.246 2074.6,264.69 2048,215.441 365.428,154.921 361.842,154.921 361.842,835.476 \n",
       "  \" fill=\"#009af9\" fill-rule=\"evenodd\" fill-opacity=\"0.5\"/>\n",
       "<polyline clip-path=\"url(#clip3603)\" style=\"stroke:#000000; stroke-width:4; stroke-opacity:0.5; fill:none\" points=\"\n",
       "  361.842,835.476 388.435,884.726 2071.01,945.246 2074.6,945.246 2074.6,264.69 2048,215.441 365.428,154.921 361.842,154.921 361.842,835.476 \n",
       "  \"/>\n",
       "<polygon clip-path=\"url(#clip3603)\" points=\"\n",
       "387.809,869.059 414.318,918.686 2096.76,1009.37 2101.73,1009.37 2101.73,329.983 2075.22,280.357 392.777,189.673 387.809,189.673 387.809,869.059 \n",
       "  \" fill=\"#009af9\" fill-rule=\"evenodd\" fill-opacity=\"0.5\"/>\n",
       "<polyline clip-path=\"url(#clip3603)\" style=\"stroke:#000000; stroke-width:4; stroke-opacity:0.5; fill:none\" points=\"\n",
       "  387.809,869.059 414.318,918.686 2096.76,1009.37 2101.73,1009.37 2101.73,329.983 2075.22,280.357 392.777,189.673 387.809,189.673 387.809,869.059 \n",
       "  \"/>\n",
       "<polygon clip-path=\"url(#clip3603)\" points=\"\n",
       "413.719,903.044 440.141,953.045 2122.41,1073.83 2128.75,1073.83 2128.75,395.626 2102.33,345.625 420.065,224.841 413.719,224.841 413.719,903.044 \n",
       "  \" fill=\"#009af9\" fill-rule=\"evenodd\" fill-opacity=\"0.5\"/>\n",
       "<polyline clip-path=\"url(#clip3603)\" style=\"stroke:#000000; stroke-width:4; stroke-opacity:0.5; fill:none\" points=\"\n",
       "  413.719,903.044 440.141,953.045 2122.41,1073.83 2128.75,1073.83 2128.75,395.626 2102.33,345.625 420.065,224.841 413.719,224.841 413.719,903.044 \n",
       "  \"/>\n",
       "<polygon clip-path=\"url(#clip3603)\" points=\"\n",
       "439.569,937.429 465.906,987.802 2147.94,1138.62 2155.66,1138.62 2155.66,461.615 2129.32,411.242 447.293,260.424 439.569,260.424 439.569,937.429 \n",
       "  \" fill=\"#009af9\" fill-rule=\"evenodd\" fill-opacity=\"0.5\"/>\n",
       "<polyline clip-path=\"url(#clip3603)\" style=\"stroke:#000000; stroke-width:4; stroke-opacity:0.5; fill:none\" points=\"\n",
       "  439.569,937.429 465.906,987.802 2147.94,1138.62 2155.66,1138.62 2155.66,461.615 2129.32,411.242 447.293,260.424 439.569,260.424 439.569,937.429 \n",
       "  \"/>\n",
       "<polygon clip-path=\"url(#clip3603)\" points=\"\n",
       "465.361,972.212 491.611,1022.95 2173.36,1203.74 2182.46,1203.74 2182.46,527.948 2156.21,477.205 474.46,296.42 465.361,296.42 465.361,972.212 \n",
       "  \" fill=\"#009af9\" fill-rule=\"evenodd\" fill-opacity=\"0.5\"/>\n",
       "<polyline clip-path=\"url(#clip3603)\" style=\"stroke:#000000; stroke-width:4; stroke-opacity:0.5; fill:none\" points=\"\n",
       "  465.361,972.212 491.611,1022.95 2173.36,1203.74 2182.46,1203.74 2182.46,527.948 2156.21,477.205 474.46,296.42 465.361,296.42 465.361,972.212 \n",
       "  \"/>\n",
       "<polygon clip-path=\"url(#clip3603)\" points=\"\n",
       "491.092,1007.39 517.255,1058.5 2198.67,1269.19 2209.14,1269.19 2209.14,594.622 2182.98,543.512 501.564,332.826 491.092,332.826 491.092,1007.39 \n",
       "  \" fill=\"#009af9\" fill-rule=\"evenodd\" fill-opacity=\"0.5\"/>\n",
       "<polyline clip-path=\"url(#clip3603)\" style=\"stroke:#000000; stroke-width:4; stroke-opacity:0.5; fill:none\" points=\"\n",
       "  491.092,1007.39 517.255,1058.5 2198.67,1269.19 2209.14,1269.19 2209.14,594.622 2182.98,543.512 501.564,332.826 491.092,332.826 491.092,1007.39 \n",
       "  \"/>\n",
       "<polygon clip-path=\"url(#clip3603)\" points=\"\n",
       "516.763,1042.96 542.838,1094.44 2223.86,1334.96 2235.7,1334.96 2235.7,661.635 2209.63,610.159 528.605,369.641 516.763,369.641 516.763,1042.96 \n",
       "  \" fill=\"#009af9\" fill-rule=\"evenodd\" fill-opacity=\"0.5\"/>\n",
       "<polyline clip-path=\"url(#clip3603)\" style=\"stroke:#000000; stroke-width:4; stroke-opacity:0.5; fill:none\" points=\"\n",
       "  516.763,1042.96 542.838,1094.44 2223.86,1334.96 2235.7,1334.96 2235.7,661.635 2209.63,610.159 528.605,369.641 516.763,369.641 516.763,1042.96 \n",
       "  \"/>\n",
       "<polygon clip-path=\"url(#clip3603)\" points=\"\n",
       "542.373,1078.93 568.359,1130.77 2248.94,1401.05 2262.15,1401.05 2262.15,728.984 2236.17,677.145 555.583,406.863 542.373,406.863 542.373,1078.93 \n",
       "  \" fill=\"#009af9\" fill-rule=\"evenodd\" fill-opacity=\"0.5\"/>\n",
       "<polyline clip-path=\"url(#clip3603)\" style=\"stroke:#000000; stroke-width:4; stroke-opacity:0.5; fill:none\" points=\"\n",
       "  542.373,1078.93 568.359,1130.77 2248.94,1401.05 2262.15,1401.05 2262.15,728.984 2236.17,677.145 555.583,406.863 542.373,406.863 542.373,1078.93 \n",
       "  \"/>\n",
       "<polygon clip-path=\"url(#clip3603)\" points=\"\n",
       "310.554,818.012 2019.99,818.012 2019.99,101.352 310.554,101.352 310.554,818.012 \n",
       "  \" fill=\"#e26f46\" fill-rule=\"evenodd\" fill-opacity=\"0.5\"/>\n",
       "<polyline clip-path=\"url(#clip3603)\" style=\"stroke:#000000; stroke-width:4; stroke-opacity:0.5; fill:none\" points=\"\n",
       "  310.554,818.012 2019.99,818.012 2019.99,101.352 310.554,101.352 310.554,818.012 \n",
       "  \"/>\n",
       "<polygon clip-path=\"url(#clip3603)\" points=\"\n",
       "336.552,881.459 2047.41,881.459 2047.41,135.249 336.552,135.249 336.552,881.459 \n",
       "  \" fill=\"#e26f46\" fill-rule=\"evenodd\" fill-opacity=\"0.5\"/>\n",
       "<polyline clip-path=\"url(#clip3603)\" style=\"stroke:#000000; stroke-width:4; stroke-opacity:0.5; fill:none\" points=\"\n",
       "  336.552,881.459 2047.41,881.459 2047.41,135.249 336.552,135.249 336.552,881.459 \n",
       "  \"/>\n",
       "<polygon clip-path=\"url(#clip3603)\" points=\"\n",
       "362.493,945.246 2074.71,945.246 2074.71,169.566 362.493,169.566 362.493,945.246 \n",
       "  \" fill=\"#e26f46\" fill-rule=\"evenodd\" fill-opacity=\"0.5\"/>\n",
       "<polyline clip-path=\"url(#clip3603)\" style=\"stroke:#000000; stroke-width:4; stroke-opacity:0.5; fill:none\" points=\"\n",
       "  362.493,945.246 2074.71,945.246 2074.71,169.566 362.493,169.566 362.493,945.246 \n",
       "  \"/>\n",
       "<polygon clip-path=\"url(#clip3603)\" points=\"\n",
       "388.378,1009.37 2101.9,1009.37 2101.9,204.302 388.378,204.302 388.378,1009.37 \n",
       "  \" fill=\"#e26f46\" fill-rule=\"evenodd\" fill-opacity=\"0.5\"/>\n",
       "<polyline clip-path=\"url(#clip3603)\" style=\"stroke:#000000; stroke-width:4; stroke-opacity:0.5; fill:none\" points=\"\n",
       "  388.378,1009.37 2101.9,1009.37 2101.9,204.302 388.378,204.302 388.378,1009.37 \n",
       "  \"/>\n",
       "<polygon clip-path=\"url(#clip3603)\" points=\"\n",
       "414.204,1073.83 2128.98,1073.83 2128.98,239.453 414.204,239.453 414.204,1073.83 \n",
       "  \" fill=\"#e26f46\" fill-rule=\"evenodd\" fill-opacity=\"0.5\"/>\n",
       "<polyline clip-path=\"url(#clip3603)\" style=\"stroke:#000000; stroke-width:4; stroke-opacity:0.5; fill:none\" points=\"\n",
       "  414.204,1073.83 2128.98,1073.83 2128.98,239.453 414.204,239.453 414.204,1073.83 \n",
       "  \"/>\n",
       "<polygon clip-path=\"url(#clip3603)\" points=\"\n",
       "439.973,1138.62 2155.95,1138.62 2155.95,275.018 439.973,275.018 439.973,1138.62 \n",
       "  \" fill=\"#e26f46\" fill-rule=\"evenodd\" fill-opacity=\"0.5\"/>\n",
       "<polyline clip-path=\"url(#clip3603)\" style=\"stroke:#000000; stroke-width:4; stroke-opacity:0.5; fill:none\" points=\"\n",
       "  439.973,1138.62 2155.95,1138.62 2155.95,275.018 439.973,275.018 439.973,1138.62 \n",
       "  \"/>\n",
       "<polygon clip-path=\"url(#clip3603)\" points=\"\n",
       "465.682,1203.74 2182.8,1203.74 2182.8,310.996 465.682,310.996 465.682,1203.74 \n",
       "  \" fill=\"#e26f46\" fill-rule=\"evenodd\" fill-opacity=\"0.5\"/>\n",
       "<polyline clip-path=\"url(#clip3603)\" style=\"stroke:#000000; stroke-width:4; stroke-opacity:0.5; fill:none\" points=\"\n",
       "  465.682,1203.74 2182.8,1203.74 2182.8,310.996 465.682,310.996 465.682,1203.74 \n",
       "  \"/>\n",
       "<polygon clip-path=\"url(#clip3603)\" points=\"\n",
       "491.331,1269.19 2209.54,1269.19 2209.54,347.384 491.331,347.384 491.331,1269.19 \n",
       "  \" fill=\"#e26f46\" fill-rule=\"evenodd\" fill-opacity=\"0.5\"/>\n",
       "<polyline clip-path=\"url(#clip3603)\" style=\"stroke:#000000; stroke-width:4; stroke-opacity:0.5; fill:none\" points=\"\n",
       "  491.331,1269.19 2209.54,1269.19 2209.54,347.384 491.331,347.384 491.331,1269.19 \n",
       "  \"/>\n",
       "<polygon clip-path=\"url(#clip3603)\" points=\"\n",
       "516.92,1334.96 2236.16,1334.96 2236.16,384.181 516.92,384.181 516.92,1334.96 \n",
       "  \" fill=\"#e26f46\" fill-rule=\"evenodd\" fill-opacity=\"0.5\"/>\n",
       "<polyline clip-path=\"url(#clip3603)\" style=\"stroke:#000000; stroke-width:4; stroke-opacity:0.5; fill:none\" points=\"\n",
       "  516.92,1334.96 2236.16,1334.96 2236.16,384.181 516.92,384.181 516.92,1334.96 \n",
       "  \"/>\n",
       "<polygon clip-path=\"url(#clip3603)\" points=\"\n",
       "542.447,1401.05 2262.67,1401.05 2262.67,421.384 542.447,421.384 542.447,1401.05 \n",
       "  \" fill=\"#e26f46\" fill-rule=\"evenodd\" fill-opacity=\"0.5\"/>\n",
       "<polyline clip-path=\"url(#clip3603)\" style=\"stroke:#000000; stroke-width:4; stroke-opacity:0.5; fill:none\" points=\"\n",
       "  542.447,1401.05 2262.67,1401.05 2262.67,421.384 542.447,421.384 542.447,1401.05 \n",
       "  \"/>\n",
       "</svg>\n"
      ]
     },
     "execution_count": 41,
     "metadata": {},
     "output_type": "execute_result"
    }
   ],
   "source": [
    "plot(Rlin_zono, alpha=.5)\n",
    "plot!(Rlin_box, alpha=.5, xlab=\"x\", ylab=\"y\")"
   ]
  },
  {
   "cell_type": "code",
   "execution_count": 43,
   "metadata": {},
   "outputs": [
    {
     "name": "stdout",
     "output_type": "stream",
     "text": [
      "  0.000623 seconds (2.33 k allocations: 129.203 KiB)\n"
     ]
    },
    {
     "data": {
      "text/plain": [
       "Hyperrectangle{Float64}([0.0, 0.0], [0.0, 0.138466])"
      ]
     },
     "execution_count": 43,
     "metadata": {},
     "output_type": "execute_result"
    }
   ],
   "source": [
    "# decide which continuoust post to use\n",
    "Rlin = Rlin_zono\n",
    "\n",
    "@time begin\n",
    "R̄err, L̄ = admissible_error(Ax̃, δ, θ; n=2)\n",
    "L = lagrange_remainder(f, Rlin, R̄err, x̃; n=2)\n",
    "end"
   ]
  },
  {
   "cell_type": "code",
   "execution_count": 20,
   "metadata": {},
   "outputs": [
    {
     "data": {
      "text/plain": [
       "0.020000000000000004"
      ]
     },
     "execution_count": 20,
     "metadata": {},
     "output_type": "execute_result"
    }
   ],
   "source": [
    "if L ⊆ L̄\n",
    "    # split\n",
    "    error(\"split is not implemented\")\n",
    "else\n",
    "   _add_chunk!(Rsets, Rlin, R̄err)\n",
    "end\n",
    "t0 = Rsets[end].t_end"
   ]
  },
  {
   "cell_type": "code",
   "execution_count": 25,
   "metadata": {},
   "outputs": [],
   "source": [
    "#plot([Rsets[i].X for i in 1:length(Rsets)])"
   ]
  },
  {
   "cell_type": "markdown",
   "metadata": {},
   "source": [
    "### Algorithm"
   ]
  },
  {
   "cell_type": "code",
   "execution_count": 45,
   "metadata": {},
   "outputs": [
    {
     "data": {
      "text/plain": [
       "0-element Array{ReachSet{Hyperrectangle{Float64},Float64},1}"
      ]
     },
     "execution_count": 45,
     "metadata": {},
     "output_type": "execute_result"
    }
   ],
   "source": [
    "# use BFFPSV18\n",
    "Rsets = Vector{ReachSet{Hyperrectangle{Float64}, Float64}}()\n",
    "\n",
    "#=\n",
    "x̃, 𝑆lin = linearize(𝑃, δ)\n",
    "R̄err, L̄ = admissible_error(Ax̃, δ, θ)\n",
    "L = lagrange_remainder(f, Rlin, R̄err, x̃)\n",
    "\n",
    "if L ⊆ L̄\n",
    "    # split\n",
    "    error(\"split is not implemented\")\n",
    "else\n",
    "   _add_chunk!(Rsets, Rlin, R̄err)\n",
    "end\n",
    "t0 = Rsets[end].t_end\n",
    "=#"
   ]
  },
  {
   "cell_type": "code",
   "execution_count": null,
   "metadata": {},
   "outputs": [],
   "source": []
  },
  {
   "cell_type": "code",
   "execution_count": null,
   "metadata": {},
   "outputs": [],
   "source": []
  },
  {
   "cell_type": "code",
   "execution_count": null,
   "metadata": {},
   "outputs": [],
   "source": []
  },
  {
   "cell_type": "markdown",
   "metadata": {},
   "source": [
    "### Appendix: auxiliary functions"
   ]
  },
  {
   "cell_type": "code",
   "execution_count": 27,
   "metadata": {},
   "outputs": [
    {
     "data": {
      "text/plain": [
       "BlackBoxContinuousSystem"
      ]
     },
     "execution_count": 27,
     "metadata": {},
     "output_type": "execute_result"
    }
   ],
   "source": []
  },
  {
   "cell_type": "code",
   "execution_count": 36,
   "metadata": {},
   "outputs": [
    {
     "data": {
      "text/plain": [
       "linearize (generic function with 2 methods)"
      ]
     },
     "execution_count": 36,
     "metadata": {},
     "output_type": "execute_result"
    }
   ],
   "source": [
    "function linearize(𝑃::IVP{<:BBCS}, δ)\n",
    "\n",
    "    # nonlinear ODE\n",
    "    f = 𝑃.s.f\n",
    "    \n",
    "    # initial set of current chunk\n",
    "    𝑋₀i = 𝑃.x0\n",
    "\n",
    "    # linearization point for current chunk\n",
    "    c = center(𝑋₀i)\n",
    "    x̃ = c + δ/2 * f(c)\n",
    "\n",
    "    # evaluate Jacobian at the linearization point\n",
    "    Ax̃ = jacobian(f, x̃) #  map(x -> evaluate(x, x̃), Jf)\n",
    "    bx̃ = f(x̃) - Ax̃ * x̃\n",
    "\n",
    "    # instantiate linearized system; it doesn't have state constraints\n",
    "    𝑆lin = ConstrainedAffineContinuousSystem(Ax̃, bx̃, Universe(2));\n",
    "    return x̃, 𝑆lin\n",
    "end"
   ]
  },
  {
   "cell_type": "code",
   "execution_count": null,
   "metadata": {},
   "outputs": [],
   "source": [
    "function _add_chunk!(Rsets, Rlin, R̄err)\n",
    "    @inbounds for i in eachindex(Rlin.Xk)\n",
    "        Ri = Rlin.Xk[i].X ⊕ R̄err\n",
    "        Ri = overapproximate(Ri, Hyperrectangle)\n",
    "        Ri = ReachSet(Ri, Rlin.Xk[i].t_start, Rlin.Xk[i].t_end)\n",
    "        push!(Rsets, Ri)\n",
    "    end\n",
    "    return Rsets\n",
    "end"
   ]
  },
  {
   "cell_type": "code",
   "execution_count": 16,
   "metadata": {},
   "outputs": [
    {
     "data": {
      "text/plain": [
       "admissible_error (generic function with 1 method)"
      ]
     },
     "execution_count": 16,
     "metadata": {},
     "output_type": "execute_result"
    }
   ],
   "source": [
    "function admissible_error(Ax̃, δ, θ; n=2)\n",
    "    @assert n == 2\n",
    "    Φ₁_Aδ = Φ₁(Ax̃, δ)\n",
    "    R̄err = Hyperrectangle(zeros(2), θ*δ)\n",
    "    l̄ = abs.(inv(Φ₁_Aδ)) * θ * δ\n",
    "    L̄ = Hyperrectangle(zeros(2), l̄)\n",
    "    return R̄err, L̄\n",
    "end"
   ]
  },
  {
   "cell_type": "code",
   "execution_count": 13,
   "metadata": {},
   "outputs": [
    {
     "data": {
      "text/plain": [
       "lagrange_remainder (generic function with 1 method)"
      ]
     },
     "execution_count": 13,
     "metadata": {},
     "output_type": "execute_result"
    }
   ],
   "source": [
    "function lagrange_remainder(f, Rlin, R̄err, x̃; n=2)\n",
    "    @assert n == 2\n",
    "    \n",
    "    Hf₁ = [∂(f[1], (2, 0)) ∂(f[1], (1, 1));\n",
    "           ∂(f[1], (1, 1)) ∂(f[1], (0, 2))]\n",
    "    Hf₂ = [∂(f[2], (2, 0)) ∂(f[2], (1, 1));\n",
    "           ∂(f[2], (1, 1)) ∂(f[2], (0, 2))]\n",
    "\n",
    "    R̂lin = ConvexHullArray([Ri.X for Ri in Rlin.Xk]) ⊕ R̄err\n",
    "    R̂lin_rect = overapproximate(R̂lin, Hyperrectangle)\n",
    "\n",
    "    ξ = CH(Singleton(x̃), R̂lin_rect)\n",
    "    ξ_rect = overapproximate(ξ, Hyperrectangle)\n",
    "    ξ_box = convert(IntervalBox, ξ_rect)\n",
    "\n",
    "    Hf₁_box = map(Hf_ij -> evaluate(Hf_ij, ξ_box), Hf₁)\n",
    "    Hf₂_box = map(Hf_ij -> evaluate(Hf_ij, ξ_box), Hf₂)\n",
    "\n",
    "    R̂lin_zono = convert(Zonotope, R̂lin_rect)\n",
    "\n",
    "    γ = abs.(R̂lin_zono.center - x̃) + sum(abs.(R̂lin_zono.generators), dims=2)\n",
    "    \n",
    "    G = [sup.(abs.(Hf₁_box)), sup.(abs.(Hf₂_box))];\n",
    "    li_zono = [(1/2 * transpose(γ) * G[i] * γ)[1, 1] for i in 1:n]\n",
    "    L = Hyperrectangle(zeros(n), li_zono)\n",
    "    return L\n",
    "end"
   ]
  }
 ],
 "metadata": {
  "kernelspec": {
   "display_name": "Julia 1.1.0-rc2",
   "language": "julia",
   "name": "julia-1.1"
  },
  "language_info": {
   "file_extension": ".jl",
   "mimetype": "application/julia",
   "name": "julia",
   "version": "1.1.0"
  }
 },
 "nbformat": 4,
 "nbformat_minor": 2
}
