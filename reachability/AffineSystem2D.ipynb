{
 "cells": [
  {
   "cell_type": "code",
   "execution_count": 23,
   "metadata": {},
   "outputs": [],
   "source": [
    "using Reachability, MathematicalSystems"
   ]
  },
  {
   "cell_type": "code",
   "execution_count": 41,
   "metadata": {},
   "outputs": [
    {
     "name": "stderr",
     "output_type": "stream",
     "text": [
      "\u001b[32mComputing successors 100%|██████████████████████████████| Time: 0:00:15\u001b[39m\n"
     ]
    }
   ],
   "source": [
    "# system\n",
    "A = [-2/3 1/3; -2/3 1/3]\n",
    "b = [1/3, 1/3]\n",
    "S = AffineContinuousSystem(A, b)\n",
    "\n",
    "# initial set\n",
    "X0 = Singleton([0.0, 1.0])\n",
    "\n",
    "# initial-value problem\n",
    "P = InitialValueProblem(S, X0)\n",
    "\n",
    "# compute the solution\n",
    "T = 10 - 2*log(2)\n",
    "sol = solve(P, Options(:T=>T), op=BFFPSV18(:δ=>1e-5));"
   ]
  },
  {
   "cell_type": "code",
   "execution_count": 37,
   "metadata": {},
   "outputs": [
    {
     "data": {
      "text/plain": [
       "2-element Array{LazySet{Float64},1}:\n",
       " Interval{Float64,IntervalArithmetic.Interval{Float64}}([1.88663, 1.88688])\n",
       " Interval{Float64,IntervalArithmetic.Interval{Float64}}([2.88648, 2.88704])"
      ]
     },
     "execution_count": 37,
     "metadata": {},
     "output_type": "execute_result"
    }
   ],
   "source": [
    "last = array(sol.Xk[end].X)"
   ]
  },
  {
   "cell_type": "code",
   "execution_count": null,
   "metadata": {},
   "outputs": [],
   "source": []
  }
 ],
 "metadata": {
  "kernelspec": {
   "display_name": "Julia 1.2.0",
   "language": "julia",
   "name": "julia-1.2"
  },
  "language_info": {
   "file_extension": ".jl",
   "mimetype": "application/julia",
   "name": "julia",
   "version": "1.2.0"
  }
 },
 "nbformat": 4,
 "nbformat_minor": 2
}
