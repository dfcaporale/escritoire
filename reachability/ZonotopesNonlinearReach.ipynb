{
 "cells": [
  {
   "cell_type": "markdown",
   "metadata": {},
   "source": [
    "### Introduction\n",
    "\n",
    "\n",
    "This notebook is a proof-of-principle implementation of the algorithm for reachability analysis of nonlinear systems using zonotopes presented in [1, Section 3], see also [2].\n",
    "\n",
    "---\n",
    "\n",
    "**References:**\n",
    "\n",
    "[1] Althoff, Matthias. Reachability analysis and its application to the safety\n",
    "assessment of autonomous cars. Diss. Technische Universität München, 2010.\n",
    "\n",
    "[2] M. Althoff, O. Stursberg, and M. Buss. [Reachability analysis of nonlinear systems with uncertain parameters using conservative linearization.](http://citeseerx.ist.psu.edu/viewdoc/download?doi=10.1.1.148.9110&rep=rep1&type=pdf) In Proc. of the 47th IEEE Conference on Decision and Control, pages 4042–4048, 2008."
   ]
  },
  {
   "cell_type": "code",
   "execution_count": 1,
   "metadata": {},
   "outputs": [
    {
     "name": "stderr",
     "output_type": "stream",
     "text": [
      "┌ Info: Recompiling stale cache file /Users/forets/.julia/compiled/v1.1/Reachability/CHV4V.ji for Reachability [774a0091-654f-5c65-bbdc-ad5b67b45832]\n",
      "└ @ Base loading.jl:1184\n",
      "WARNING: using TaylorSeries.update! in module ReachSets conflicts with an existing identifier.\n",
      "┌ Warning: Package Reachability does not have JLD in its dependencies:\n",
      "│ - If you have Reachability checked out for development and have\n",
      "│   added JLD as a dependency but haven't updated your primary\n",
      "│   environment's manifest file, try `Pkg.resolve()`.\n",
      "│ - Otherwise you may need to report an issue with Reachability\n",
      "└ Loading JLD into Reachability from project dependency, future warnings for Reachability are suppressed.\n",
      "┌ Warning: Package LazySets does not have Expokit in its dependencies:\n",
      "│ - If you have LazySets checked out for development and have\n",
      "│   added Expokit as a dependency but haven't updated your primary\n",
      "│   environment's manifest file, try `Pkg.resolve()`.\n",
      "│ - Otherwise you may need to report an issue with LazySets\n",
      "│ Loading Expokit into LazySets from project dependency, future warnings for LazySets are suppressed.\n",
      "└ @ nothing nothing:840\n"
     ]
    },
    {
     "data": {
      "text/plain": [
       "derivative (generic function with 10 methods)"
      ]
     },
     "execution_count": 1,
     "metadata": {},
     "output_type": "execute_result"
    }
   ],
   "source": [
    "# load packages\n",
    "\n",
    "using Plots\n",
    "\n",
    "using LazySets, MathematicalSystems, Reachability\n",
    "using LazySets.Approximations\n",
    "using Reachability: center\n",
    "using IntervalArithmetic, ValidatedNumerics\n",
    "using LazySets: Interval, translate\n",
    "using TaylorSeries\n",
    "using TaylorSeries: gradient, jacobian, hessian, derivative\n",
    "const ∂ = derivative"
   ]
  },
  {
   "cell_type": "markdown",
   "metadata": {},
   "source": [
    "### Assumptions\n",
    "\n",
    "To simplify the presentation let's assume that the ODE is autonomous and there is no input, ie. it is of the form $x'(t) = f(x(t))$ with $f : \\mathbb{R}^n \\mapsto \\mathbb{R}^n$ continuously differentiable."
   ]
  },
  {
   "cell_type": "markdown",
   "metadata": {},
   "source": [
    "### Running example\n",
    "\n",
    "To fix ideas we will use the Van der Pol ODE with $\\mu = 1$. It is given by the map $$f : (x_1, x_2) \\mapsto (x_2, x_2(1-x_1^2) - x_1),$$ with initial set given by $x_1(0) \\in [1.25, 1.55] $ and $x_2 \\in [2.35, 2.45]$ and time horizon $T = 7.0$ seconds."
   ]
  },
  {
   "cell_type": "markdown",
   "metadata": {},
   "source": [
    "We implement it as a vector of multivariate polynomials (`TaylorN`'s):"
   ]
  },
  {
   "cell_type": "code",
   "execution_count": 2,
   "metadata": {},
   "outputs": [
    {
     "data": {
      "text/plain": [
       "2-element Array{TaylorN{Float64},1}:\n",
       "  1.0 x₁ + 𝒪(‖x‖⁵)\n",
       "  1.0 x₂ + 𝒪(‖x‖⁵)"
      ]
     },
     "execution_count": 2,
     "metadata": {},
     "output_type": "execute_result"
    }
   ],
   "source": [
    "# number of Taylor terms considered in the linearization\n",
    "taylor_terms = 4\n",
    "\n",
    "# define the working variables and fix the max order in the Taylor series expansion\n",
    "x = set_variables(\"x\", numvars=2, order=taylor_terms)"
   ]
  },
  {
   "cell_type": "code",
   "execution_count": 3,
   "metadata": {},
   "outputs": [
    {
     "data": {
      "text/plain": [
       "2-element Array{TaylorN{Float64},1}:\n",
       "                          1.0 x₂ + 𝒪(‖x‖⁵)\n",
       "  - 1.0 x₁ + 1.0 x₂ - 1.0 x₁² x₂ + 𝒪(‖x‖⁵)"
      ]
     },
     "execution_count": 3,
     "metadata": {},
     "output_type": "execute_result"
    }
   ],
   "source": [
    "f = Vector{TaylorN{Float64}}(undef, 2)\n",
    "f[1] = x[2]\n",
    "f[2] = x[2] * (1-x[1]^2) - x[1]\n",
    "f"
   ]
  },
  {
   "cell_type": "code",
   "execution_count": 4,
   "metadata": {},
   "outputs": [
    {
     "data": {
      "text/plain": [
       "InitialValueProblem{BlackBoxContinuousSystem{Array{TaylorN{Float64},1}},Hyperrectangle{Float64}}(BlackBoxContinuousSystem{Array{TaylorN{Float64},1}}(TaylorN{Float64}[ 1.0 x₂ + 𝒪(‖x‖⁵),  - 1.0 x₁ + 1.0 x₂ - 1.0 x₁² x₂ + 𝒪(‖x‖⁵)], 2), Hyperrectangle{Float64}([1.4, 2.4], [0.15, 0.05]))"
      ]
     },
     "execution_count": 4,
     "metadata": {},
     "output_type": "execute_result"
    }
   ],
   "source": [
    "# instantiate a mathematical system of type \"Black box\"\n",
    "𝑋₀ = Hyperrectangle(low=[1.25, 2.35], high=[1.55, 2.45])\n",
    "𝑆 = BlackBoxContinuousSystem(f, 2)\n",
    "𝑃 = InitialValueProblem(𝑆, 𝑋₀)"
   ]
  },
  {
   "cell_type": "markdown",
   "metadata": {},
   "source": [
    "### Linearization\n",
    "\n",
    "In this step we linearize the ODE $x'(t) = f(x(t))$ with a fixed step size $\\delta$ and compute:\n",
    "\n",
    "- $\\mathcal{R}^{lin}(\\delta)$, an overapproximation of the state reachable at time $\\delta$ of the linearized system,\n",
    "- $\\mathcal{R}^{lin}([0, \\delta])$, an overapproximation of the flowpipe in dense time $[0, \\delta]$ for the linearized system."
   ]
  },
  {
   "cell_type": "markdown",
   "metadata": {},
   "source": [
    "For $i = 1, 2$, recall that the *gradient* of the scalar field $f_i$ is the function $\\nabla f_i : (x_1, x_2) \\mapsto (\\partial_1 f_i, \\partial_2 f_i)$, where $\\partial_i$ is a shortcut for the partial derivative $\\dfrac{\\partial}{\\partial x_i}$. For higher order derivatives we use $\\partial_{ij\\ldots}$ for example $\\dfrac{\\partial^2 f_i}{\\partial x_1\\partial x_2} = \\partial^2_{12}f_i$.\n",
    "\n",
    "We can use the `gradient` function from `TaylorSeries` to compute a gradient symbolically. For our example, we obtain by differentiation that\n",
    "\n",
    "$$\n",
    "\\nabla f_1 = (0, 1) \\\\\n",
    "\\nabla f_2 = (-2x_1x_2 - 1, 1-x_1^2)\n",
    "$$\n",
    "\n",
    "Now let's compute it using `gradient`:"
   ]
  },
  {
   "cell_type": "code",
   "execution_count": 5,
   "metadata": {},
   "outputs": [],
   "source": [
    "∇f = [gradient(f[i]) for i in 1:2];"
   ]
  },
  {
   "cell_type": "code",
   "execution_count": 6,
   "metadata": {},
   "outputs": [
    {
     "data": {
      "text/plain": [
       "2-element Array{TaylorN{Float64},1}:\n",
       "  0.0 + 𝒪(‖x‖⁵)\n",
       "  1.0 + 𝒪(‖x‖⁵)"
      ]
     },
     "execution_count": 6,
     "metadata": {},
     "output_type": "execute_result"
    }
   ],
   "source": [
    "∇f[1]"
   ]
  },
  {
   "cell_type": "code",
   "execution_count": 7,
   "metadata": {},
   "outputs": [
    {
     "data": {
      "text/plain": [
       "2-element Array{TaylorN{Float64},1}:\n",
       "  - 1.0 - 2.0 x₁ x₂ + 𝒪(‖x‖⁵)\n",
       "      1.0 - 1.0 x₁² + 𝒪(‖x‖⁵)"
      ]
     },
     "execution_count": 7,
     "metadata": {},
     "output_type": "execute_result"
    }
   ],
   "source": [
    "∇f[2]"
   ]
  },
  {
   "cell_type": "markdown",
   "metadata": {},
   "source": [
    "Recall that the Taylor series expansion of the function $f(x)$ around some point $x̃$ is:\n",
    "\n",
    "$$\n",
    "f_i(x) = f_i(x̃) + \\nabla f_i(x̃) \\cdot (x-x̃) + \\frac{1}{2} (x-x̃)^T H_{f_i}(x̃) (x-x̃) + \\ldots,\\qquad i = 1,2.\n",
    "$$\n",
    "\n",
    "There are different ways to account for the linearization error. If we consider the Lagrange remainder, then:\n",
    "$$\n",
    "f_i(x) = f_i(x̃) + \\nabla f_i(x̃) \\cdot (x-x̃) +  L_i(x, x̃),\n",
    "$$\n",
    "where the Lagrangian $L_i$ is defined as\n",
    "$$\n",
    "L_i(x, x̃) = \\frac{1}{2} (x-x̃)^T H_{f_i}(ξ) (x-x̃), \\qquad i = 1,2.\n",
    "$$\n",
    "where $ξ$ lives in the convex hull $ξ = CH(x̃, x) = \\{x̃ + \\alpha(x - x̃), \\alpha \\in [0, 1]\\}$."
   ]
  },
  {
   "cell_type": "markdown",
   "metadata": {},
   "source": [
    "The formula of above defines a *set* $L_i(x, x̃)$ which, in the following, we'd like to overapproximate using common set types (zonotopes, polyhedra, etc)."
   ]
  },
  {
   "cell_type": "markdown",
   "metadata": {},
   "source": [
    "The linearized function can be succintly written using the Jacobian matrix. Recall that the Jacobian matrix is such that $[J_f]_{ij} = \\partial_j f_i$ for $i, j = 1, 2$. Then \n",
    "\n",
    "$$\n",
    "f^{lin}(x) := f(x̃) + J_f(x̃) \\cdot (x-x̃) = A \\cdot x + b,\n",
    "$$\n",
    "if we define:\n",
    "$$\n",
    "A := J_f(x̃),\\qquad b := f(x̃) - J_f(x̃) \\cdot x̃.\n",
    "$$"
   ]
  },
  {
   "cell_type": "code",
   "execution_count": 8,
   "metadata": {},
   "outputs": [
    {
     "data": {
      "text/plain": [
       "2×2 Array{TaylorN{Float64},2}:\n",
       "                0.0 + 𝒪(‖x‖⁵)             1.0 + 𝒪(‖x‖⁵)\n",
       "  - 1.0 - 2.0 x₁ x₂ + 𝒪(‖x‖⁵)   1.0 - 1.0 x₁² + 𝒪(‖x‖⁵)"
      ]
     },
     "execution_count": 8,
     "metadata": {},
     "output_type": "execute_result"
    }
   ],
   "source": [
    "# Jf = Matrix{TaylorN{Float64}}(undef, 2, 2)\n",
    "\n",
    "Jf = [∂(f[1], (1, 0)) ∂(f[1], (0, 1));\n",
    "      ∂(f[2], (1, 0)) ∂(f[2], (0, 1))]"
   ]
  },
  {
   "cell_type": "markdown",
   "metadata": {},
   "source": [
    "For the linearization point, a reasonable ansatz is to use the center of initial states, shifted by the flow (cf. [Corollary 3.2, Section 3, 1], since this choice is a minimizer of a zonotopic approximation of the Lagarangian):"
   ]
  },
  {
   "cell_type": "code",
   "execution_count": 9,
   "metadata": {},
   "outputs": [
    {
     "data": {
      "text/plain": [
       "2-element Array{Float64,1}:\n",
       " 1.424  \n",
       " 2.36296"
      ]
     },
     "execution_count": 9,
     "metadata": {},
     "output_type": "execute_result"
    }
   ],
   "source": [
    "δ = 0.02 # step size\n",
    "\n",
    "c = center(𝑋₀)\n",
    "x̃ = c + δ/2 * f(c)  # linearization point"
   ]
  },
  {
   "cell_type": "code",
   "execution_count": 10,
   "metadata": {},
   "outputs": [
    {
     "data": {
      "text/plain": [
       "true"
      ]
     },
     "execution_count": 10,
     "metadata": {},
     "output_type": "execute_result"
    }
   ],
   "source": [
    "x̃ ∈ 𝑋₀"
   ]
  },
  {
   "cell_type": "code",
   "execution_count": 11,
   "metadata": {},
   "outputs": [
    {
     "data": {
      "image/svg+xml": [
       "<?xml version=\"1.0\" encoding=\"utf-8\"?>\n",
       "<svg xmlns=\"http://www.w3.org/2000/svg\" xmlns:xlink=\"http://www.w3.org/1999/xlink\" width=\"600\" height=\"400\" viewBox=\"0 0 2400 1600\">\n",
       "<defs>\n",
       "  <clipPath id=\"clip9300\">\n",
       "    <rect x=\"0\" y=\"0\" width=\"2400\" height=\"1600\"/>\n",
       "  </clipPath>\n",
       "</defs>\n",
       "<polygon clip-path=\"url(#clip9300)\" points=\"\n",
       "0,1600 2400,1600 2400,0 0,0 \n",
       "  \" fill=\"#ffffff\" fill-rule=\"evenodd\" fill-opacity=\"1\"/>\n",
       "<defs>\n",
       "  <clipPath id=\"clip9301\">\n",
       "    <rect x=\"480\" y=\"0\" width=\"1681\" height=\"1600\"/>\n",
       "  </clipPath>\n",
       "</defs>\n",
       "<polygon clip-path=\"url(#clip9300)\" points=\"\n",
       "188.156,1130.88 2321.26,1130.88 2321.26,419.842 188.156,419.842 \n",
       "  \" fill=\"#ffffff\" fill-rule=\"evenodd\" fill-opacity=\"1\"/>\n",
       "<defs>\n",
       "  <clipPath id=\"clip9302\">\n",
       "    <rect x=\"188\" y=\"419\" width=\"2134\" height=\"712\"/>\n",
       "  </clipPath>\n",
       "</defs>\n",
       "<polyline clip-path=\"url(#clip9302)\" style=\"stroke:#000000; stroke-width:2; stroke-opacity:0.1; fill:none\" points=\"\n",
       "  248.527,1130.88 248.527,419.842 \n",
       "  \"/>\n",
       "<polyline clip-path=\"url(#clip9302)\" style=\"stroke:#000000; stroke-width:2; stroke-opacity:0.1; fill:none\" points=\"\n",
       "  583.921,1130.88 583.921,419.842 \n",
       "  \"/>\n",
       "<polyline clip-path=\"url(#clip9302)\" style=\"stroke:#000000; stroke-width:2; stroke-opacity:0.1; fill:none\" points=\"\n",
       "  919.314,1130.88 919.314,419.842 \n",
       "  \"/>\n",
       "<polyline clip-path=\"url(#clip9302)\" style=\"stroke:#000000; stroke-width:2; stroke-opacity:0.1; fill:none\" points=\"\n",
       "  1254.71,1130.88 1254.71,419.842 \n",
       "  \"/>\n",
       "<polyline clip-path=\"url(#clip9302)\" style=\"stroke:#000000; stroke-width:2; stroke-opacity:0.1; fill:none\" points=\"\n",
       "  1590.1,1130.88 1590.1,419.842 \n",
       "  \"/>\n",
       "<polyline clip-path=\"url(#clip9302)\" style=\"stroke:#000000; stroke-width:2; stroke-opacity:0.1; fill:none\" points=\"\n",
       "  1925.5,1130.88 1925.5,419.842 \n",
       "  \"/>\n",
       "<polyline clip-path=\"url(#clip9302)\" style=\"stroke:#000000; stroke-width:2; stroke-opacity:0.1; fill:none\" points=\"\n",
       "  2260.89,1130.88 2260.89,419.842 \n",
       "  \"/>\n",
       "<polyline clip-path=\"url(#clip9302)\" style=\"stroke:#000000; stroke-width:2; stroke-opacity:0.1; fill:none\" points=\"\n",
       "  188.156,1043.67 2321.26,1043.67 \n",
       "  \"/>\n",
       "<polyline clip-path=\"url(#clip9302)\" style=\"stroke:#000000; stroke-width:2; stroke-opacity:0.1; fill:none\" points=\"\n",
       "  188.156,909.517 2321.26,909.517 \n",
       "  \"/>\n",
       "<polyline clip-path=\"url(#clip9302)\" style=\"stroke:#000000; stroke-width:2; stroke-opacity:0.1; fill:none\" points=\"\n",
       "  188.156,775.359 2321.26,775.359 \n",
       "  \"/>\n",
       "<polyline clip-path=\"url(#clip9302)\" style=\"stroke:#000000; stroke-width:2; stroke-opacity:0.1; fill:none\" points=\"\n",
       "  188.156,641.202 2321.26,641.202 \n",
       "  \"/>\n",
       "<polyline clip-path=\"url(#clip9302)\" style=\"stroke:#000000; stroke-width:2; stroke-opacity:0.1; fill:none\" points=\"\n",
       "  188.156,507.045 2321.26,507.045 \n",
       "  \"/>\n",
       "<polyline clip-path=\"url(#clip9300)\" style=\"stroke:#000000; stroke-width:4; stroke-opacity:1; fill:none\" points=\"\n",
       "  188.156,1130.88 2321.26,1130.88 \n",
       "  \"/>\n",
       "<polyline clip-path=\"url(#clip9300)\" style=\"stroke:#000000; stroke-width:4; stroke-opacity:1; fill:none\" points=\"\n",
       "  188.156,1130.88 188.156,419.842 \n",
       "  \"/>\n",
       "<polyline clip-path=\"url(#clip9300)\" style=\"stroke:#000000; stroke-width:4; stroke-opacity:1; fill:none\" points=\"\n",
       "  248.527,1130.88 248.527,1120.21 \n",
       "  \"/>\n",
       "<polyline clip-path=\"url(#clip9300)\" style=\"stroke:#000000; stroke-width:4; stroke-opacity:1; fill:none\" points=\"\n",
       "  583.921,1130.88 583.921,1120.21 \n",
       "  \"/>\n",
       "<polyline clip-path=\"url(#clip9300)\" style=\"stroke:#000000; stroke-width:4; stroke-opacity:1; fill:none\" points=\"\n",
       "  919.314,1130.88 919.314,1120.21 \n",
       "  \"/>\n",
       "<polyline clip-path=\"url(#clip9300)\" style=\"stroke:#000000; stroke-width:4; stroke-opacity:1; fill:none\" points=\"\n",
       "  1254.71,1130.88 1254.71,1120.21 \n",
       "  \"/>\n",
       "<polyline clip-path=\"url(#clip9300)\" style=\"stroke:#000000; stroke-width:4; stroke-opacity:1; fill:none\" points=\"\n",
       "  1590.1,1130.88 1590.1,1120.21 \n",
       "  \"/>\n",
       "<polyline clip-path=\"url(#clip9300)\" style=\"stroke:#000000; stroke-width:4; stroke-opacity:1; fill:none\" points=\"\n",
       "  1925.5,1130.88 1925.5,1120.21 \n",
       "  \"/>\n",
       "<polyline clip-path=\"url(#clip9300)\" style=\"stroke:#000000; stroke-width:4; stroke-opacity:1; fill:none\" points=\"\n",
       "  2260.89,1130.88 2260.89,1120.21 \n",
       "  \"/>\n",
       "<polyline clip-path=\"url(#clip9300)\" style=\"stroke:#000000; stroke-width:4; stroke-opacity:1; fill:none\" points=\"\n",
       "  188.156,1043.67 220.153,1043.67 \n",
       "  \"/>\n",
       "<polyline clip-path=\"url(#clip9300)\" style=\"stroke:#000000; stroke-width:4; stroke-opacity:1; fill:none\" points=\"\n",
       "  188.156,909.517 220.153,909.517 \n",
       "  \"/>\n",
       "<polyline clip-path=\"url(#clip9300)\" style=\"stroke:#000000; stroke-width:4; stroke-opacity:1; fill:none\" points=\"\n",
       "  188.156,775.359 220.153,775.359 \n",
       "  \"/>\n",
       "<polyline clip-path=\"url(#clip9300)\" style=\"stroke:#000000; stroke-width:4; stroke-opacity:1; fill:none\" points=\"\n",
       "  188.156,641.202 220.153,641.202 \n",
       "  \"/>\n",
       "<polyline clip-path=\"url(#clip9300)\" style=\"stroke:#000000; stroke-width:4; stroke-opacity:1; fill:none\" points=\"\n",
       "  188.156,507.045 220.153,507.045 \n",
       "  \"/>\n",
       "<g clip-path=\"url(#clip9300)\">\n",
       "<text style=\"fill:#000000; fill-opacity:1; font-family:Arial,Helvetica Neue,Helvetica,sans-serif; font-size:48px; text-anchor:middle;\" transform=\"rotate(0, 248.527, 1184.88)\" x=\"248.527\" y=\"1184.88\">1.25</text>\n",
       "</g>\n",
       "<g clip-path=\"url(#clip9300)\">\n",
       "<text style=\"fill:#000000; fill-opacity:1; font-family:Arial,Helvetica Neue,Helvetica,sans-serif; font-size:48px; text-anchor:middle;\" transform=\"rotate(0, 583.921, 1184.88)\" x=\"583.921\" y=\"1184.88\">1.30</text>\n",
       "</g>\n",
       "<g clip-path=\"url(#clip9300)\">\n",
       "<text style=\"fill:#000000; fill-opacity:1; font-family:Arial,Helvetica Neue,Helvetica,sans-serif; font-size:48px; text-anchor:middle;\" transform=\"rotate(0, 919.314, 1184.88)\" x=\"919.314\" y=\"1184.88\">1.35</text>\n",
       "</g>\n",
       "<g clip-path=\"url(#clip9300)\">\n",
       "<text style=\"fill:#000000; fill-opacity:1; font-family:Arial,Helvetica Neue,Helvetica,sans-serif; font-size:48px; text-anchor:middle;\" transform=\"rotate(0, 1254.71, 1184.88)\" x=\"1254.71\" y=\"1184.88\">1.40</text>\n",
       "</g>\n",
       "<g clip-path=\"url(#clip9300)\">\n",
       "<text style=\"fill:#000000; fill-opacity:1; font-family:Arial,Helvetica Neue,Helvetica,sans-serif; font-size:48px; text-anchor:middle;\" transform=\"rotate(0, 1590.1, 1184.88)\" x=\"1590.1\" y=\"1184.88\">1.45</text>\n",
       "</g>\n",
       "<g clip-path=\"url(#clip9300)\">\n",
       "<text style=\"fill:#000000; fill-opacity:1; font-family:Arial,Helvetica Neue,Helvetica,sans-serif; font-size:48px; text-anchor:middle;\" transform=\"rotate(0, 1925.5, 1184.88)\" x=\"1925.5\" y=\"1184.88\">1.50</text>\n",
       "</g>\n",
       "<g clip-path=\"url(#clip9300)\">\n",
       "<text style=\"fill:#000000; fill-opacity:1; font-family:Arial,Helvetica Neue,Helvetica,sans-serif; font-size:48px; text-anchor:middle;\" transform=\"rotate(0, 2260.89, 1184.88)\" x=\"2260.89\" y=\"1184.88\">1.55</text>\n",
       "</g>\n",
       "<g clip-path=\"url(#clip9300)\">\n",
       "<text style=\"fill:#000000; fill-opacity:1; font-family:Arial,Helvetica Neue,Helvetica,sans-serif; font-size:48px; text-anchor:end;\" transform=\"rotate(0, 164.156, 1061.17)\" x=\"164.156\" y=\"1061.17\">2.36</text>\n",
       "</g>\n",
       "<g clip-path=\"url(#clip9300)\">\n",
       "<text style=\"fill:#000000; fill-opacity:1; font-family:Arial,Helvetica Neue,Helvetica,sans-serif; font-size:48px; text-anchor:end;\" transform=\"rotate(0, 164.156, 927.017)\" x=\"164.156\" y=\"927.017\">2.38</text>\n",
       "</g>\n",
       "<g clip-path=\"url(#clip9300)\">\n",
       "<text style=\"fill:#000000; fill-opacity:1; font-family:Arial,Helvetica Neue,Helvetica,sans-serif; font-size:48px; text-anchor:end;\" transform=\"rotate(0, 164.156, 792.859)\" x=\"164.156\" y=\"792.859\">2.40</text>\n",
       "</g>\n",
       "<g clip-path=\"url(#clip9300)\">\n",
       "<text style=\"fill:#000000; fill-opacity:1; font-family:Arial,Helvetica Neue,Helvetica,sans-serif; font-size:48px; text-anchor:end;\" transform=\"rotate(0, 164.156, 658.702)\" x=\"164.156\" y=\"658.702\">2.42</text>\n",
       "</g>\n",
       "<g clip-path=\"url(#clip9300)\">\n",
       "<text style=\"fill:#000000; fill-opacity:1; font-family:Arial,Helvetica Neue,Helvetica,sans-serif; font-size:48px; text-anchor:end;\" transform=\"rotate(0, 164.156, 524.545)\" x=\"164.156\" y=\"524.545\">2.44</text>\n",
       "</g>\n",
       "<circle clip-path=\"url(#clip9302)\" style=\"fill:#000000; stroke:none; fill-opacity:1\" cx=\"1415.7\" cy=\"1023.82\" r=\"18\"/>\n",
       "<circle clip-path=\"url(#clip9302)\" style=\"fill:#009af9; stroke:none; fill-opacity:1\" cx=\"1415.7\" cy=\"1023.82\" r=\"14\"/>\n",
       "<polygon clip-path=\"url(#clip9302)\" points=\"\n",
       "248.527,1110.75 2260.89,1110.75 2260.89,439.966 248.527,439.966 248.527,1110.75 248.527,1110.75 \n",
       "  \" fill=\"#ffa500\" fill-rule=\"evenodd\" fill-opacity=\"0.4\"/>\n",
       "<polyline clip-path=\"url(#clip9302)\" style=\"stroke:#000000; stroke-width:4; stroke-opacity:0.4; fill:none\" points=\"\n",
       "  248.527,1110.75 2260.89,1110.75 2260.89,439.966 248.527,439.966 248.527,1110.75 \n",
       "  \"/>\n",
       "</svg>\n"
      ]
     },
     "execution_count": 11,
     "metadata": {},
     "output_type": "execute_result"
    }
   ],
   "source": [
    "plot(Singleton(x̃))\n",
    "plot!(𝑋₀, alpha=.4, color=:orange)"
   ]
  },
  {
   "cell_type": "markdown",
   "metadata": {},
   "source": [
    "Now we instantiate the linearized system:"
   ]
  },
  {
   "cell_type": "code",
   "execution_count": 12,
   "metadata": {},
   "outputs": [
    {
     "data": {
      "text/plain": [
       "ConstrainedAffineContinuousSystem{Float64,Array{Float64,2},Array{Float64,1},Universe{Float64}}([0.0 1.0; -7.72971 -1.02778], [0.0, 9.58311], Universe{Float64}(2))"
      ]
     },
     "execution_count": 12,
     "metadata": {},
     "output_type": "execute_result"
    }
   ],
   "source": [
    "Ax̃ = map(x -> evaluate(x, x̃), Jf)\n",
    "# Ax̃ = jacobian(f, x̃) # the same using TaylorSeries.jacobian\n",
    "bx̃ = f(x̃) - Ax̃ * x̃\n",
    "𝑆lin = ConstrainedAffineContinuousSystem(Ax̃, bx̃, Universe(2)) # no state constraints"
   ]
  },
  {
   "cell_type": "markdown",
   "metadata": {},
   "source": [
    "Next we overapproximate the flowpipe for the linearized system. We can use different set representations. For example, we can use `GLGM06` that computes with zonotopes (as in [Chapter 3, 1])."
   ]
  },
  {
   "cell_type": "code",
   "execution_count": 13,
   "metadata": {},
   "outputs": [
    {
     "name": "stdout",
     "output_type": "stream",
     "text": [
      " 30.981431 seconds (65.30 M allocations: 3.317 GiB, 9.95% gc time)\n"
     ]
    }
   ],
   "source": [
    "δcont = δ / 10\n",
    "\n",
    "𝑃lin = InitialValueProblem(𝑆lin, 𝑋₀)\n",
    "@time Rlin = solve(𝑃lin, Options(:T=>δ), op=GLGM06(:δ=>δcont, :max_order=>2));"
   ]
  },
  {
   "cell_type": "code",
   "execution_count": 14,
   "metadata": {},
   "outputs": [
    {
     "data": {
      "text/plain": [
       "10"
      ]
     },
     "execution_count": 14,
     "metadata": {},
     "output_type": "execute_result"
    }
   ],
   "source": [
    "length(Rlin.Xk)"
   ]
  },
  {
   "cell_type": "code",
   "execution_count": 15,
   "metadata": {},
   "outputs": [
    {
     "data": {
      "image/svg+xml": [
       "<?xml version=\"1.0\" encoding=\"utf-8\"?>\n",
       "<svg xmlns=\"http://www.w3.org/2000/svg\" xmlns:xlink=\"http://www.w3.org/1999/xlink\" width=\"600\" height=\"400\" viewBox=\"0 0 2400 1600\">\n",
       "<defs>\n",
       "  <clipPath id=\"clip9700\">\n",
       "    <rect x=\"0\" y=\"0\" width=\"2400\" height=\"1600\"/>\n",
       "  </clipPath>\n",
       "</defs>\n",
       "<polygon clip-path=\"url(#clip9700)\" points=\"\n",
       "0,1600 2400,1600 2400,0 0,0 \n",
       "  \" fill=\"#ffffff\" fill-rule=\"evenodd\" fill-opacity=\"1\"/>\n",
       "<defs>\n",
       "  <clipPath id=\"clip9701\">\n",
       "    <rect x=\"480\" y=\"0\" width=\"1681\" height=\"1600\"/>\n",
       "  </clipPath>\n",
       "</defs>\n",
       "<polygon clip-path=\"url(#clip9700)\" points=\"\n",
       "251.149,1341.64 2321.26,1341.64 2321.26,146.088 251.149,146.088 \n",
       "  \" fill=\"#ffffff\" fill-rule=\"evenodd\" fill-opacity=\"1\"/>\n",
       "<defs>\n",
       "  <clipPath id=\"clip9702\">\n",
       "    <rect x=\"251\" y=\"146\" width=\"2071\" height=\"1197\"/>\n",
       "  </clipPath>\n",
       "</defs>\n",
       "<polyline clip-path=\"url(#clip9702)\" style=\"stroke:#000000; stroke-width:2; stroke-opacity:0.1; fill:none\" points=\"\n",
       "  590.939,1341.64 590.939,146.088 \n",
       "  \"/>\n",
       "<polyline clip-path=\"url(#clip9702)\" style=\"stroke:#000000; stroke-width:2; stroke-opacity:0.1; fill:none\" points=\"\n",
       "  1151.71,1341.64 1151.71,146.088 \n",
       "  \"/>\n",
       "<polyline clip-path=\"url(#clip9702)\" style=\"stroke:#000000; stroke-width:2; stroke-opacity:0.1; fill:none\" points=\"\n",
       "  1712.48,1341.64 1712.48,146.088 \n",
       "  \"/>\n",
       "<polyline clip-path=\"url(#clip9702)\" style=\"stroke:#000000; stroke-width:2; stroke-opacity:0.1; fill:none\" points=\"\n",
       "  2273.25,1341.64 2273.25,146.088 \n",
       "  \"/>\n",
       "<polyline clip-path=\"url(#clip9702)\" style=\"stroke:#000000; stroke-width:2; stroke-opacity:0.1; fill:none\" points=\"\n",
       "  251.149,1314.06 2321.26,1314.06 \n",
       "  \"/>\n",
       "<polyline clip-path=\"url(#clip9702)\" style=\"stroke:#000000; stroke-width:2; stroke-opacity:0.1; fill:none\" points=\"\n",
       "  251.149,1033.67 2321.26,1033.67 \n",
       "  \"/>\n",
       "<polyline clip-path=\"url(#clip9702)\" style=\"stroke:#000000; stroke-width:2; stroke-opacity:0.1; fill:none\" points=\"\n",
       "  251.149,753.288 2321.26,753.288 \n",
       "  \"/>\n",
       "<polyline clip-path=\"url(#clip9702)\" style=\"stroke:#000000; stroke-width:2; stroke-opacity:0.1; fill:none\" points=\"\n",
       "  251.149,472.904 2321.26,472.904 \n",
       "  \"/>\n",
       "<polyline clip-path=\"url(#clip9702)\" style=\"stroke:#000000; stroke-width:2; stroke-opacity:0.1; fill:none\" points=\"\n",
       "  251.149,192.519 2321.26,192.519 \n",
       "  \"/>\n",
       "<polyline clip-path=\"url(#clip9700)\" style=\"stroke:#000000; stroke-width:4; stroke-opacity:1; fill:none\" points=\"\n",
       "  251.149,1341.64 2321.26,1341.64 \n",
       "  \"/>\n",
       "<polyline clip-path=\"url(#clip9700)\" style=\"stroke:#000000; stroke-width:4; stroke-opacity:1; fill:none\" points=\"\n",
       "  251.149,1341.64 251.149,146.088 \n",
       "  \"/>\n",
       "<polyline clip-path=\"url(#clip9700)\" style=\"stroke:#000000; stroke-width:4; stroke-opacity:1; fill:none\" points=\"\n",
       "  590.939,1341.64 590.939,1323.7 \n",
       "  \"/>\n",
       "<polyline clip-path=\"url(#clip9700)\" style=\"stroke:#000000; stroke-width:4; stroke-opacity:1; fill:none\" points=\"\n",
       "  1151.71,1341.64 1151.71,1323.7 \n",
       "  \"/>\n",
       "<polyline clip-path=\"url(#clip9700)\" style=\"stroke:#000000; stroke-width:4; stroke-opacity:1; fill:none\" points=\"\n",
       "  1712.48,1341.64 1712.48,1323.7 \n",
       "  \"/>\n",
       "<polyline clip-path=\"url(#clip9700)\" style=\"stroke:#000000; stroke-width:4; stroke-opacity:1; fill:none\" points=\"\n",
       "  2273.25,1341.64 2273.25,1323.7 \n",
       "  \"/>\n",
       "<polyline clip-path=\"url(#clip9700)\" style=\"stroke:#000000; stroke-width:4; stroke-opacity:1; fill:none\" points=\"\n",
       "  251.149,1314.06 282.2,1314.06 \n",
       "  \"/>\n",
       "<polyline clip-path=\"url(#clip9700)\" style=\"stroke:#000000; stroke-width:4; stroke-opacity:1; fill:none\" points=\"\n",
       "  251.149,1033.67 282.2,1033.67 \n",
       "  \"/>\n",
       "<polyline clip-path=\"url(#clip9700)\" style=\"stroke:#000000; stroke-width:4; stroke-opacity:1; fill:none\" points=\"\n",
       "  251.149,753.288 282.2,753.288 \n",
       "  \"/>\n",
       "<polyline clip-path=\"url(#clip9700)\" style=\"stroke:#000000; stroke-width:4; stroke-opacity:1; fill:none\" points=\"\n",
       "  251.149,472.904 282.2,472.904 \n",
       "  \"/>\n",
       "<polyline clip-path=\"url(#clip9700)\" style=\"stroke:#000000; stroke-width:4; stroke-opacity:1; fill:none\" points=\"\n",
       "  251.149,192.519 282.2,192.519 \n",
       "  \"/>\n",
       "<g clip-path=\"url(#clip9700)\">\n",
       "<text style=\"fill:#000000; fill-opacity:1; font-family:Arial,Helvetica Neue,Helvetica,sans-serif; font-size:48px; text-anchor:middle;\" transform=\"rotate(0, 590.939, 1395.64)\" x=\"590.939\" y=\"1395.64\">1.3</text>\n",
       "</g>\n",
       "<g clip-path=\"url(#clip9700)\">\n",
       "<text style=\"fill:#000000; fill-opacity:1; font-family:Arial,Helvetica Neue,Helvetica,sans-serif; font-size:48px; text-anchor:middle;\" transform=\"rotate(0, 1151.71, 1395.64)\" x=\"1151.71\" y=\"1395.64\">1.4</text>\n",
       "</g>\n",
       "<g clip-path=\"url(#clip9700)\">\n",
       "<text style=\"fill:#000000; fill-opacity:1; font-family:Arial,Helvetica Neue,Helvetica,sans-serif; font-size:48px; text-anchor:middle;\" transform=\"rotate(0, 1712.48, 1395.64)\" x=\"1712.48\" y=\"1395.64\">1.5</text>\n",
       "</g>\n",
       "<g clip-path=\"url(#clip9700)\">\n",
       "<text style=\"fill:#000000; fill-opacity:1; font-family:Arial,Helvetica Neue,Helvetica,sans-serif; font-size:48px; text-anchor:middle;\" transform=\"rotate(0, 2273.25, 1395.64)\" x=\"2273.25\" y=\"1395.64\">1.6</text>\n",
       "</g>\n",
       "<g clip-path=\"url(#clip9700)\">\n",
       "<text style=\"fill:#000000; fill-opacity:1; font-family:Arial,Helvetica Neue,Helvetica,sans-serif; font-size:48px; text-anchor:end;\" transform=\"rotate(0, 227.149, 1331.56)\" x=\"227.149\" y=\"1331.56\">2.25</text>\n",
       "</g>\n",
       "<g clip-path=\"url(#clip9700)\">\n",
       "<text style=\"fill:#000000; fill-opacity:1; font-family:Arial,Helvetica Neue,Helvetica,sans-serif; font-size:48px; text-anchor:end;\" transform=\"rotate(0, 227.149, 1051.17)\" x=\"227.149\" y=\"1051.17\">2.30</text>\n",
       "</g>\n",
       "<g clip-path=\"url(#clip9700)\">\n",
       "<text style=\"fill:#000000; fill-opacity:1; font-family:Arial,Helvetica Neue,Helvetica,sans-serif; font-size:48px; text-anchor:end;\" transform=\"rotate(0, 227.149, 770.788)\" x=\"227.149\" y=\"770.788\">2.35</text>\n",
       "</g>\n",
       "<g clip-path=\"url(#clip9700)\">\n",
       "<text style=\"fill:#000000; fill-opacity:1; font-family:Arial,Helvetica Neue,Helvetica,sans-serif; font-size:48px; text-anchor:end;\" transform=\"rotate(0, 227.149, 490.404)\" x=\"227.149\" y=\"490.404\">2.40</text>\n",
       "</g>\n",
       "<g clip-path=\"url(#clip9700)\">\n",
       "<text style=\"fill:#000000; fill-opacity:1; font-family:Arial,Helvetica Neue,Helvetica,sans-serif; font-size:48px; text-anchor:end;\" transform=\"rotate(0, 227.149, 210.019)\" x=\"227.149\" y=\"210.019\">2.45</text>\n",
       "</g>\n",
       "<g clip-path=\"url(#clip9700)\">\n",
       "<text style=\"fill:#000000; fill-opacity:1; font-family:Arial,Helvetica Neue,Helvetica,sans-serif; font-size:66px; text-anchor:middle;\" transform=\"rotate(0, 1286.2, 1590.4)\" x=\"1286.2\" y=\"1590.4\">x</text>\n",
       "</g>\n",
       "<g clip-path=\"url(#clip9700)\">\n",
       "<text style=\"fill:#000000; fill-opacity:1; font-family:Arial,Helvetica Neue,Helvetica,sans-serif; font-size:66px; text-anchor:middle;\" transform=\"rotate(-90, 128.749, 743.863)\" x=\"128.749\" y=\"743.863\">y</text>\n",
       "</g>\n",
       "<polygon clip-path=\"url(#clip9702)\" points=\"\n",
       "309.737,765.883 336.504,807.491 2020.45,807.491 2020.45,221.534 1993.68,179.925 309.737,179.925 309.737,765.883 \n",
       "  \" fill=\"#add8e6\" fill-rule=\"evenodd\" fill-opacity=\"0.5\"/>\n",
       "<polyline clip-path=\"url(#clip9702)\" style=\"stroke:#000000; stroke-width:4; stroke-opacity:0.5; fill:none\" points=\"\n",
       "  309.737,765.883 336.504,807.491 2020.45,807.491 2020.45,221.534 1993.68,179.925 309.737,179.925 309.737,765.883 \n",
       "  \"/>\n",
       "<polygon clip-path=\"url(#clip9702)\" points=\"\n",
       "335.825,794.006 362.509,835.942 2045.61,861.935 2047.81,861.935 2047.81,276.955 2021.13,235.019 338.028,209.026 335.825,209.026 335.825,794.006 \n",
       "  \" fill=\"#add8e6\" fill-rule=\"evenodd\" fill-opacity=\"0.5\"/>\n",
       "<polyline clip-path=\"url(#clip9702)\" style=\"stroke:#000000; stroke-width:4; stroke-opacity:0.5; fill:none\" points=\"\n",
       "  335.825,794.006 362.509,835.942 2045.61,861.935 2047.81,861.935 2047.81,276.955 2021.13,235.019 338.028,209.026 335.825,209.026 335.825,794.006 \n",
       "  \"/>\n",
       "<polygon clip-path=\"url(#clip9702)\" points=\"\n",
       "361.856,822.477 388.456,864.739 2071.48,916.671 2075.06,916.671 2075.06,332.681 2048.46,290.42 365.443,238.487 361.856,238.487 361.856,822.477 \n",
       "  \" fill=\"#add8e6\" fill-rule=\"evenodd\" fill-opacity=\"0.5\"/>\n",
       "<polyline clip-path=\"url(#clip9702)\" style=\"stroke:#000000; stroke-width:4; stroke-opacity:0.5; fill:none\" points=\"\n",
       "  361.856,822.477 388.456,864.739 2071.48,916.671 2075.06,916.671 2075.06,332.681 2048.46,290.42 365.443,238.487 361.856,238.487 361.856,822.477 \n",
       "  \"/>\n",
       "<polygon clip-path=\"url(#clip9702)\" points=\"\n",
       "387.83,851.295 414.345,893.88 2097.24,971.697 2102.21,971.697 2102.21,388.709 2075.69,346.125 392.799,268.308 387.83,268.308 387.83,851.295 \n",
       "  \" fill=\"#add8e6\" fill-rule=\"evenodd\" fill-opacity=\"0.5\"/>\n",
       "<polyline clip-path=\"url(#clip9702)\" style=\"stroke:#000000; stroke-width:4; stroke-opacity:0.5; fill:none\" points=\"\n",
       "  387.83,851.295 414.345,893.88 2097.24,971.697 2102.21,971.697 2102.21,388.709 2075.69,346.125 392.799,268.308 387.83,268.308 387.83,851.295 \n",
       "  \"/>\n",
       "<polygon clip-path=\"url(#clip9702)\" points=\"\n",
       "413.746,880.458 440.176,923.364 2122.89,1027.01 2129.23,1027.01 2129.23,445.038 2102.8,402.131 420.095,298.486 413.746,298.486 413.746,880.458 \n",
       "  \" fill=\"#add8e6\" fill-rule=\"evenodd\" fill-opacity=\"0.5\"/>\n",
       "<polyline clip-path=\"url(#clip9702)\" style=\"stroke:#000000; stroke-width:4; stroke-opacity:0.5; fill:none\" points=\"\n",
       "  413.746,880.458 440.176,923.364 2122.89,1027.01 2129.23,1027.01 2129.23,445.038 2102.8,402.131 420.095,298.486 413.746,298.486 413.746,880.458 \n",
       "  \"/>\n",
       "<polygon clip-path=\"url(#clip9702)\" points=\"\n",
       "439.604,909.964 465.947,953.189 2148.42,1082.61 2156.15,1082.61 2156.15,501.663 2129.81,458.438 447.33,329.02 439.604,329.02 439.604,909.964 \n",
       "  \" fill=\"#add8e6\" fill-rule=\"evenodd\" fill-opacity=\"0.5\"/>\n",
       "<polyline clip-path=\"url(#clip9702)\" style=\"stroke:#000000; stroke-width:4; stroke-opacity:0.5; fill:none\" points=\"\n",
       "  439.604,909.964 465.947,953.189 2148.42,1082.61 2156.15,1082.61 2156.15,501.663 2129.81,458.438 447.33,329.02 439.604,329.02 439.604,909.964 \n",
       "  \"/>\n",
       "<polygon clip-path=\"url(#clip9702)\" points=\"\n",
       "465.402,939.811 491.659,983.354 2173.85,1138.49 2182.95,1138.49 2182.95,558.584 2156.7,515.041 474.503,359.908 465.402,359.908 465.402,939.811 \n",
       "  \" fill=\"#add8e6\" fill-rule=\"evenodd\" fill-opacity=\"0.5\"/>\n",
       "<polyline clip-path=\"url(#clip9702)\" style=\"stroke:#000000; stroke-width:4; stroke-opacity:0.5; fill:none\" points=\"\n",
       "  465.402,939.811 491.659,983.354 2173.85,1138.49 2182.95,1138.49 2182.95,558.584 2156.7,515.041 474.503,359.908 465.402,359.908 465.402,939.811 \n",
       "  \"/>\n",
       "<polygon clip-path=\"url(#clip9702)\" points=\"\n",
       "491.14,969.999 517.31,1013.86 2199.17,1194.65 2209.64,1194.65 2209.64,615.798 2183.47,571.94 501.615,391.149 491.14,391.149 491.14,969.999 \n",
       "  \" fill=\"#add8e6\" fill-rule=\"evenodd\" fill-opacity=\"0.5\"/>\n",
       "<polyline clip-path=\"url(#clip9702)\" style=\"stroke:#000000; stroke-width:4; stroke-opacity:0.5; fill:none\" points=\"\n",
       "  491.14,969.999 517.31,1013.86 2199.17,1194.65 2209.64,1194.65 2209.64,615.798 2183.47,571.94 501.615,391.149 491.14,391.149 491.14,969.999 \n",
       "  \"/>\n",
       "<polygon clip-path=\"url(#clip9702)\" points=\"\n",
       "516.818,1000.52 542.9,1044.7 2224.37,1251.09 2236.21,1251.09 2236.21,673.303 2210.13,629.131 528.663,422.74 516.818,422.74 516.818,1000.52 \n",
       "  \" fill=\"#add8e6\" fill-rule=\"evenodd\" fill-opacity=\"0.5\"/>\n",
       "<polyline clip-path=\"url(#clip9702)\" style=\"stroke:#000000; stroke-width:4; stroke-opacity:0.5; fill:none\" points=\"\n",
       "  516.818,1000.52 542.9,1044.7 2224.37,1251.09 2236.21,1251.09 2236.21,673.303 2210.13,629.131 528.663,422.74 516.818,422.74 516.818,1000.52 \n",
       "  \"/>\n",
       "<polygon clip-path=\"url(#clip9702)\" points=\"\n",
       "542.434,1031.39 568.427,1075.87 2249.46,1307.8 2262.67,1307.8 2262.67,731.095 2236.68,686.612 555.648,454.68 542.434,454.68 542.434,1031.39 \n",
       "  \" fill=\"#add8e6\" fill-rule=\"evenodd\" fill-opacity=\"0.5\"/>\n",
       "<polyline clip-path=\"url(#clip9702)\" style=\"stroke:#000000; stroke-width:4; stroke-opacity:0.5; fill:none\" points=\"\n",
       "  542.434,1031.39 568.427,1075.87 2249.46,1307.8 2262.67,1307.8 2262.67,731.095 2236.68,686.612 555.648,454.68 542.434,454.68 542.434,1031.39 \n",
       "  \"/>\n",
       "<polygon clip-path=\"url(#clip9702)\" points=\"\n",
       "310.554,753.288 1992.86,753.288 1992.86,192.519 310.554,192.519 310.554,753.288 310.554,753.288 \n",
       "  \" fill=\"#ffa500\" fill-rule=\"evenodd\" fill-opacity=\"0.5\"/>\n",
       "<polyline clip-path=\"url(#clip9702)\" style=\"stroke:#000000; stroke-width:4; stroke-opacity:0.5; fill:none\" points=\"\n",
       "  310.554,753.288 1992.86,753.288 1992.86,192.519 310.554,192.519 310.554,753.288 \n",
       "  \"/>\n",
       "<circle clip-path=\"url(#clip9702)\" style=\"fill:#000000; stroke:none; fill-opacity:1\" cx=\"1286.29\" cy=\"680.613\" r=\"18\"/>\n",
       "<circle clip-path=\"url(#clip9702)\" style=\"fill:#000000; stroke:none; fill-opacity:1\" cx=\"1286.29\" cy=\"680.613\" r=\"14\"/>\n",
       "</svg>\n"
      ]
     },
     "execution_count": 15,
     "metadata": {},
     "output_type": "execute_result"
    }
   ],
   "source": [
    "plot(Rlin, color=:lightblue, alpha=.5)\n",
    "plot!(𝑋₀, color=:orange, alpha=.5, xlab=\"x\", ylab=\"y\")\n",
    "plot!(Singleton(x̃), color=:black) # linearization point"
   ]
  },
  {
   "cell_type": "markdown",
   "metadata": {},
   "source": [
    "Another run but this time using a five times larger time horizon in the continuous post:"
   ]
  },
  {
   "cell_type": "code",
   "execution_count": 16,
   "metadata": {},
   "outputs": [
    {
     "name": "stdout",
     "output_type": "stream",
     "text": [
      "  0.020452 seconds (19.63 k allocations: 1.594 MiB)\n"
     ]
    },
    {
     "data": {
      "image/svg+xml": [
       "<?xml version=\"1.0\" encoding=\"utf-8\"?>\n",
       "<svg xmlns=\"http://www.w3.org/2000/svg\" xmlns:xlink=\"http://www.w3.org/1999/xlink\" width=\"600\" height=\"400\" viewBox=\"0 0 2400 1600\">\n",
       "<defs>\n",
       "  <clipPath id=\"clip0100\">\n",
       "    <rect x=\"0\" y=\"0\" width=\"2400\" height=\"1600\"/>\n",
       "  </clipPath>\n",
       "</defs>\n",
       "<polygon clip-path=\"url(#clip0100)\" points=\"\n",
       "0,1600 2400,1600 2400,0 0,0 \n",
       "  \" fill=\"#ffffff\" fill-rule=\"evenodd\" fill-opacity=\"1\"/>\n",
       "<defs>\n",
       "  <clipPath id=\"clip0101\">\n",
       "    <rect x=\"480\" y=\"0\" width=\"1681\" height=\"1600\"/>\n",
       "  </clipPath>\n",
       "</defs>\n",
       "<polygon clip-path=\"url(#clip0100)\" points=\"\n",
       "708.937,1440.48 1836.71,1440.48 1836.71,47.2441 708.937,47.2441 \n",
       "  \" fill=\"#ffffff\" fill-rule=\"evenodd\" fill-opacity=\"1\"/>\n",
       "<defs>\n",
       "  <clipPath id=\"clip0102\">\n",
       "    <rect x=\"708\" y=\"47\" width=\"1129\" height=\"1394\"/>\n",
       "  </clipPath>\n",
       "</defs>\n",
       "<polyline clip-path=\"url(#clip0102)\" style=\"stroke:#000000; stroke-width:2; stroke-opacity:0.1; fill:none\" points=\"\n",
       "  843.648,1440.48 843.648,47.2441 \n",
       "  \"/>\n",
       "<polyline clip-path=\"url(#clip0102)\" style=\"stroke:#000000; stroke-width:2; stroke-opacity:0.1; fill:none\" points=\"\n",
       "  1048.64,1440.48 1048.64,47.2441 \n",
       "  \"/>\n",
       "<polyline clip-path=\"url(#clip0102)\" style=\"stroke:#000000; stroke-width:2; stroke-opacity:0.1; fill:none\" points=\"\n",
       "  1253.62,1440.48 1253.62,47.2441 \n",
       "  \"/>\n",
       "<polyline clip-path=\"url(#clip0102)\" style=\"stroke:#000000; stroke-width:2; stroke-opacity:0.1; fill:none\" points=\"\n",
       "  1458.61,1440.48 1458.61,47.2441 \n",
       "  \"/>\n",
       "<polyline clip-path=\"url(#clip0102)\" style=\"stroke:#000000; stroke-width:2; stroke-opacity:0.1; fill:none\" points=\"\n",
       "  1663.6,1440.48 1663.6,47.2441 \n",
       "  \"/>\n",
       "<polyline clip-path=\"url(#clip0102)\" style=\"stroke:#000000; stroke-width:2; stroke-opacity:0.1; fill:none\" points=\"\n",
       "  708.937,1423.7 1836.71,1423.7 \n",
       "  \"/>\n",
       "<polyline clip-path=\"url(#clip0102)\" style=\"stroke:#000000; stroke-width:2; stroke-opacity:0.1; fill:none\" points=\"\n",
       "  708.937,1218.71 1836.71,1218.71 \n",
       "  \"/>\n",
       "<polyline clip-path=\"url(#clip0102)\" style=\"stroke:#000000; stroke-width:2; stroke-opacity:0.1; fill:none\" points=\"\n",
       "  708.937,1013.72 1836.71,1013.72 \n",
       "  \"/>\n",
       "<polyline clip-path=\"url(#clip0102)\" style=\"stroke:#000000; stroke-width:2; stroke-opacity:0.1; fill:none\" points=\"\n",
       "  708.937,808.737 1836.71,808.737 \n",
       "  \"/>\n",
       "<polyline clip-path=\"url(#clip0102)\" style=\"stroke:#000000; stroke-width:2; stroke-opacity:0.1; fill:none\" points=\"\n",
       "  708.937,603.749 1836.71,603.749 \n",
       "  \"/>\n",
       "<polyline clip-path=\"url(#clip0102)\" style=\"stroke:#000000; stroke-width:2; stroke-opacity:0.1; fill:none\" points=\"\n",
       "  708.937,398.761 1836.71,398.761 \n",
       "  \"/>\n",
       "<polyline clip-path=\"url(#clip0102)\" style=\"stroke:#000000; stroke-width:2; stroke-opacity:0.1; fill:none\" points=\"\n",
       "  708.937,193.773 1836.71,193.773 \n",
       "  \"/>\n",
       "<polyline clip-path=\"url(#clip0100)\" style=\"stroke:#000000; stroke-width:4; stroke-opacity:1; fill:none\" points=\"\n",
       "  708.937,1440.48 1836.71,1440.48 \n",
       "  \"/>\n",
       "<polyline clip-path=\"url(#clip0100)\" style=\"stroke:#000000; stroke-width:4; stroke-opacity:1; fill:none\" points=\"\n",
       "  708.937,1440.48 708.937,47.2441 \n",
       "  \"/>\n",
       "<polyline clip-path=\"url(#clip0100)\" style=\"stroke:#000000; stroke-width:4; stroke-opacity:1; fill:none\" points=\"\n",
       "  843.648,1440.48 843.648,1419.58 \n",
       "  \"/>\n",
       "<polyline clip-path=\"url(#clip0100)\" style=\"stroke:#000000; stroke-width:4; stroke-opacity:1; fill:none\" points=\"\n",
       "  1048.64,1440.48 1048.64,1419.58 \n",
       "  \"/>\n",
       "<polyline clip-path=\"url(#clip0100)\" style=\"stroke:#000000; stroke-width:4; stroke-opacity:1; fill:none\" points=\"\n",
       "  1253.62,1440.48 1253.62,1419.58 \n",
       "  \"/>\n",
       "<polyline clip-path=\"url(#clip0100)\" style=\"stroke:#000000; stroke-width:4; stroke-opacity:1; fill:none\" points=\"\n",
       "  1458.61,1440.48 1458.61,1419.58 \n",
       "  \"/>\n",
       "<polyline clip-path=\"url(#clip0100)\" style=\"stroke:#000000; stroke-width:4; stroke-opacity:1; fill:none\" points=\"\n",
       "  1663.6,1440.48 1663.6,1419.58 \n",
       "  \"/>\n",
       "<polyline clip-path=\"url(#clip0100)\" style=\"stroke:#000000; stroke-width:4; stroke-opacity:1; fill:none\" points=\"\n",
       "  708.937,1423.7 725.854,1423.7 \n",
       "  \"/>\n",
       "<polyline clip-path=\"url(#clip0100)\" style=\"stroke:#000000; stroke-width:4; stroke-opacity:1; fill:none\" points=\"\n",
       "  708.937,1218.71 725.854,1218.71 \n",
       "  \"/>\n",
       "<polyline clip-path=\"url(#clip0100)\" style=\"stroke:#000000; stroke-width:4; stroke-opacity:1; fill:none\" points=\"\n",
       "  708.937,1013.72 725.854,1013.72 \n",
       "  \"/>\n",
       "<polyline clip-path=\"url(#clip0100)\" style=\"stroke:#000000; stroke-width:4; stroke-opacity:1; fill:none\" points=\"\n",
       "  708.937,808.737 725.854,808.737 \n",
       "  \"/>\n",
       "<polyline clip-path=\"url(#clip0100)\" style=\"stroke:#000000; stroke-width:4; stroke-opacity:1; fill:none\" points=\"\n",
       "  708.937,603.749 725.854,603.749 \n",
       "  \"/>\n",
       "<polyline clip-path=\"url(#clip0100)\" style=\"stroke:#000000; stroke-width:4; stroke-opacity:1; fill:none\" points=\"\n",
       "  708.937,398.761 725.854,398.761 \n",
       "  \"/>\n",
       "<polyline clip-path=\"url(#clip0100)\" style=\"stroke:#000000; stroke-width:4; stroke-opacity:1; fill:none\" points=\"\n",
       "  708.937,193.773 725.854,193.773 \n",
       "  \"/>\n",
       "<g clip-path=\"url(#clip0100)\">\n",
       "<text style=\"fill:#000000; fill-opacity:1; font-family:Arial,Helvetica Neue,Helvetica,sans-serif; font-size:48px; text-anchor:middle;\" transform=\"rotate(0, 843.648, 1494.48)\" x=\"843.648\" y=\"1494.48\">1.3</text>\n",
       "</g>\n",
       "<g clip-path=\"url(#clip0100)\">\n",
       "<text style=\"fill:#000000; fill-opacity:1; font-family:Arial,Helvetica Neue,Helvetica,sans-serif; font-size:48px; text-anchor:middle;\" transform=\"rotate(0, 1048.64, 1494.48)\" x=\"1048.64\" y=\"1494.48\">1.4</text>\n",
       "</g>\n",
       "<g clip-path=\"url(#clip0100)\">\n",
       "<text style=\"fill:#000000; fill-opacity:1; font-family:Arial,Helvetica Neue,Helvetica,sans-serif; font-size:48px; text-anchor:middle;\" transform=\"rotate(0, 1253.62, 1494.48)\" x=\"1253.62\" y=\"1494.48\">1.5</text>\n",
       "</g>\n",
       "<g clip-path=\"url(#clip0100)\">\n",
       "<text style=\"fill:#000000; fill-opacity:1; font-family:Arial,Helvetica Neue,Helvetica,sans-serif; font-size:48px; text-anchor:middle;\" transform=\"rotate(0, 1458.61, 1494.48)\" x=\"1458.61\" y=\"1494.48\">1.6</text>\n",
       "</g>\n",
       "<g clip-path=\"url(#clip0100)\">\n",
       "<text style=\"fill:#000000; fill-opacity:1; font-family:Arial,Helvetica Neue,Helvetica,sans-serif; font-size:48px; text-anchor:middle;\" transform=\"rotate(0, 1663.6, 1494.48)\" x=\"1663.6\" y=\"1494.48\">1.7</text>\n",
       "</g>\n",
       "<g clip-path=\"url(#clip0100)\">\n",
       "<text style=\"fill:#000000; fill-opacity:1; font-family:Arial,Helvetica Neue,Helvetica,sans-serif; font-size:48px; text-anchor:end;\" transform=\"rotate(0, 684.937, 1441.2)\" x=\"684.937\" y=\"1441.2\">1.8</text>\n",
       "</g>\n",
       "<g clip-path=\"url(#clip0100)\">\n",
       "<text style=\"fill:#000000; fill-opacity:1; font-family:Arial,Helvetica Neue,Helvetica,sans-serif; font-size:48px; text-anchor:end;\" transform=\"rotate(0, 684.937, 1236.21)\" x=\"684.937\" y=\"1236.21\">1.9</text>\n",
       "</g>\n",
       "<g clip-path=\"url(#clip0100)\">\n",
       "<text style=\"fill:#000000; fill-opacity:1; font-family:Arial,Helvetica Neue,Helvetica,sans-serif; font-size:48px; text-anchor:end;\" transform=\"rotate(0, 684.937, 1031.22)\" x=\"684.937\" y=\"1031.22\">2.0</text>\n",
       "</g>\n",
       "<g clip-path=\"url(#clip0100)\">\n",
       "<text style=\"fill:#000000; fill-opacity:1; font-family:Arial,Helvetica Neue,Helvetica,sans-serif; font-size:48px; text-anchor:end;\" transform=\"rotate(0, 684.937, 826.237)\" x=\"684.937\" y=\"826.237\">2.1</text>\n",
       "</g>\n",
       "<g clip-path=\"url(#clip0100)\">\n",
       "<text style=\"fill:#000000; fill-opacity:1; font-family:Arial,Helvetica Neue,Helvetica,sans-serif; font-size:48px; text-anchor:end;\" transform=\"rotate(0, 684.937, 621.249)\" x=\"684.937\" y=\"621.249\">2.2</text>\n",
       "</g>\n",
       "<g clip-path=\"url(#clip0100)\">\n",
       "<text style=\"fill:#000000; fill-opacity:1; font-family:Arial,Helvetica Neue,Helvetica,sans-serif; font-size:48px; text-anchor:end;\" transform=\"rotate(0, 684.937, 416.261)\" x=\"684.937\" y=\"416.261\">2.3</text>\n",
       "</g>\n",
       "<g clip-path=\"url(#clip0100)\">\n",
       "<text style=\"fill:#000000; fill-opacity:1; font-family:Arial,Helvetica Neue,Helvetica,sans-serif; font-size:48px; text-anchor:end;\" transform=\"rotate(0, 684.937, 211.273)\" x=\"684.937\" y=\"211.273\">2.4</text>\n",
       "</g>\n",
       "<g clip-path=\"url(#clip0100)\">\n",
       "<text style=\"fill:#000000; fill-opacity:1; font-family:Arial,Helvetica Neue,Helvetica,sans-serif; font-size:66px; text-anchor:middle;\" transform=\"rotate(0, 1272.82, 1590.4)\" x=\"1272.82\" y=\"1590.4\">x</text>\n",
       "</g>\n",
       "<g clip-path=\"url(#clip0100)\">\n",
       "<text style=\"fill:#000000; fill-opacity:1; font-family:Arial,Helvetica Neue,Helvetica,sans-serif; font-size:66px; text-anchor:middle;\" transform=\"rotate(-90, 586.537, 743.863)\" x=\"586.537\" y=\"743.863\">y</text>\n",
       "</g>\n",
       "<polygon clip-path=\"url(#clip0102)\" points=\"\n",
       "740.855,300.871 750.64,316.081 1366.2,316.081 1366.2,101.885 1356.42,86.6754 740.855,86.6754 740.855,300.871 \n",
       "  \" fill=\"#add8e6\" fill-rule=\"evenodd\" fill-opacity=\"0.5\"/>\n",
       "<polyline clip-path=\"url(#clip0102)\" style=\"stroke:#000000; stroke-width:4; stroke-opacity:0.5; fill:none\" points=\"\n",
       "  740.855,300.871 750.64,316.081 1366.2,316.081 1366.2,101.885 1356.42,86.6754 740.855,86.6754 740.855,300.871 \n",
       "  \"/>\n",
       "<polygon clip-path=\"url(#clip0102)\" points=\"\n",
       "750.392,311.151 760.146,326.481 1375.4,335.983 1376.2,335.983 1376.2,122.145 1366.45,106.815 751.197,97.3131 750.392,97.3131 750.392,311.151 \n",
       "  \" fill=\"#add8e6\" fill-rule=\"evenodd\" fill-opacity=\"0.5\"/>\n",
       "<polyline clip-path=\"url(#clip0102)\" style=\"stroke:#000000; stroke-width:4; stroke-opacity:0.5; fill:none\" points=\"\n",
       "  750.392,311.151 760.146,326.481 1375.4,335.983 1376.2,335.983 1376.2,122.145 1366.45,106.815 751.197,97.3131 750.392,97.3131 750.392,311.151 \n",
       "  \"/>\n",
       "<polygon clip-path=\"url(#clip0102)\" points=\"\n",
       "759.907,321.559 769.631,337.008 1384.86,355.991 1386.17,355.991 1386.17,142.515 1376.44,127.067 761.219,108.083 759.907,108.083 759.907,321.559 \n",
       "  \" fill=\"#add8e6\" fill-rule=\"evenodd\" fill-opacity=\"0.5\"/>\n",
       "<polyline clip-path=\"url(#clip0102)\" style=\"stroke:#000000; stroke-width:4; stroke-opacity:0.5; fill:none\" points=\"\n",
       "  759.907,321.559 769.631,337.008 1384.86,355.991 1386.17,355.991 1386.17,142.515 1376.44,127.067 761.219,108.083 759.907,108.083 759.907,321.559 \n",
       "  \"/>\n",
       "<polygon clip-path=\"url(#clip0102)\" points=\"\n",
       "769.402,332.093 779.095,347.66 1394.27,376.106 1396.09,376.106 1396.09,162.996 1386.4,147.429 771.218,118.984 769.402,118.984 769.402,332.093 \n",
       "  \" fill=\"#add8e6\" fill-rule=\"evenodd\" fill-opacity=\"0.5\"/>\n",
       "<polyline clip-path=\"url(#clip0102)\" style=\"stroke:#000000; stroke-width:4; stroke-opacity:0.5; fill:none\" points=\"\n",
       "  769.402,332.093 779.095,347.66 1394.27,376.106 1396.09,376.106 1396.09,162.996 1386.4,147.429 771.218,118.984 769.402,118.984 769.402,332.093 \n",
       "  \"/>\n",
       "<polygon clip-path=\"url(#clip0102)\" points=\"\n",
       "778.876,342.754 788.537,358.438 1403.65,396.325 1405.97,396.325 1405.97,183.587 1396.31,167.903 781.196,130.015 778.876,130.015 778.876,342.754 \n",
       "  \" fill=\"#add8e6\" fill-rule=\"evenodd\" fill-opacity=\"0.5\"/>\n",
       "<polyline clip-path=\"url(#clip0102)\" style=\"stroke:#000000; stroke-width:4; stroke-opacity:0.5; fill:none\" points=\"\n",
       "  778.876,342.754 788.537,358.438 1403.65,396.325 1405.97,396.325 1405.97,183.587 1396.31,167.903 781.196,130.015 778.876,130.015 778.876,342.754 \n",
       "  \"/>\n",
       "<polygon clip-path=\"url(#clip0102)\" points=\"\n",
       "788.328,353.539 797.958,369.34 1412.98,416.649 1415.81,416.649 1415.81,204.286 1406.18,188.485 791.152,141.177 788.328,141.177 788.328,353.539 \n",
       "  \" fill=\"#add8e6\" fill-rule=\"evenodd\" fill-opacity=\"0.5\"/>\n",
       "<polyline clip-path=\"url(#clip0102)\" style=\"stroke:#000000; stroke-width:4; stroke-opacity:0.5; fill:none\" points=\"\n",
       "  788.328,353.539 797.958,369.34 1412.98,416.649 1415.81,416.649 1415.81,204.286 1406.18,188.485 791.152,141.177 788.328,141.177 788.328,353.539 \n",
       "  \"/>\n",
       "<polygon clip-path=\"url(#clip0102)\" points=\"\n",
       "797.758,364.45 807.357,380.367 1422.28,437.076 1425.61,437.076 1425.61,225.094 1416.01,209.177 801.085,152.468 797.758,152.468 797.758,364.45 \n",
       "  \" fill=\"#add8e6\" fill-rule=\"evenodd\" fill-opacity=\"0.5\"/>\n",
       "<polyline clip-path=\"url(#clip0102)\" style=\"stroke:#000000; stroke-width:4; stroke-opacity:0.5; fill:none\" points=\"\n",
       "  797.758,364.45 807.357,380.367 1422.28,437.076 1425.61,437.076 1425.61,225.094 1416.01,209.177 801.085,152.468 797.758,152.468 797.758,364.45 \n",
       "  \"/>\n",
       "<polygon clip-path=\"url(#clip0102)\" points=\"\n",
       "807.167,375.485 816.733,391.517 1431.53,457.605 1435.36,457.605 1435.36,246.008 1425.79,229.976 810.996,163.888 807.167,163.888 807.167,375.485 \n",
       "  \" fill=\"#add8e6\" fill-rule=\"evenodd\" fill-opacity=\"0.5\"/>\n",
       "<polyline clip-path=\"url(#clip0102)\" style=\"stroke:#000000; stroke-width:4; stroke-opacity:0.5; fill:none\" points=\"\n",
       "  807.167,375.485 816.733,391.517 1431.53,457.605 1435.36,457.605 1435.36,246.008 1425.79,229.976 810.996,163.888 807.167,163.888 807.167,375.485 \n",
       "  \"/>\n",
       "<polygon clip-path=\"url(#clip0102)\" points=\"\n",
       "816.553,386.644 826.087,402.791 1440.74,478.236 1445.07,478.236 1445.07,267.029 1435.54,250.882 820.883,175.436 816.553,175.436 816.553,386.644 \n",
       "  \" fill=\"#add8e6\" fill-rule=\"evenodd\" fill-opacity=\"0.5\"/>\n",
       "<polyline clip-path=\"url(#clip0102)\" style=\"stroke:#000000; stroke-width:4; stroke-opacity:0.5; fill:none\" points=\"\n",
       "  816.553,386.644 826.087,402.791 1440.74,478.236 1445.07,478.236 1445.07,267.029 1435.54,250.882 820.883,175.436 816.553,175.436 816.553,386.644 \n",
       "  \"/>\n",
       "<polygon clip-path=\"url(#clip0102)\" points=\"\n",
       "825.917,397.926 835.419,414.186 1449.92,498.968 1454.75,498.968 1454.75,288.154 1445.24,271.894 830.748,187.112 825.917,187.112 825.917,397.926 \n",
       "  \" fill=\"#add8e6\" fill-rule=\"evenodd\" fill-opacity=\"0.5\"/>\n",
       "<polyline clip-path=\"url(#clip0102)\" style=\"stroke:#000000; stroke-width:4; stroke-opacity:0.5; fill:none\" points=\"\n",
       "  825.917,397.926 835.419,414.186 1449.92,498.968 1454.75,498.968 1454.75,288.154 1445.24,271.894 830.748,187.112 825.917,187.112 825.917,397.926 \n",
       "  \"/>\n",
       "<polygon clip-path=\"url(#clip0102)\" points=\"\n",
       "835.259,409.33 844.728,425.704 1459.05,519.8 1464.38,519.8 1464.38,309.385 1454.91,293.011 840.588,198.914 835.259,198.914 835.259,409.33 \n",
       "  \" fill=\"#add8e6\" fill-rule=\"evenodd\" fill-opacity=\"0.5\"/>\n",
       "<polyline clip-path=\"url(#clip0102)\" style=\"stroke:#000000; stroke-width:4; stroke-opacity:0.5; fill:none\" points=\"\n",
       "  835.259,409.33 844.728,425.704 1459.05,519.8 1464.38,519.8 1464.38,309.385 1454.91,293.011 840.588,198.914 835.259,198.914 835.259,409.33 \n",
       "  \"/>\n",
       "<polygon clip-path=\"url(#clip0102)\" points=\"\n",
       "844.577,420.856 854.013,437.342 1468.13,540.731 1473.96,540.731 1473.96,330.719 1464.53,314.232 850.405,210.843 844.577,210.843 844.577,420.856 \n",
       "  \" fill=\"#add8e6\" fill-rule=\"evenodd\" fill-opacity=\"0.5\"/>\n",
       "<polyline clip-path=\"url(#clip0102)\" style=\"stroke:#000000; stroke-width:4; stroke-opacity:0.5; fill:none\" points=\"\n",
       "  844.577,420.856 854.013,437.342 1468.13,540.731 1473.96,540.731 1473.96,330.719 1464.53,314.232 850.405,210.843 844.577,210.843 844.577,420.856 \n",
       "  \"/>\n",
       "<polygon clip-path=\"url(#clip0102)\" points=\"\n",
       "853.872,432.503 863.275,449.101 1477.18,561.76 1483.51,561.76 1483.51,352.155 1474.1,335.557 860.198,222.898 853.872,222.898 853.872,432.503 \n",
       "  \" fill=\"#add8e6\" fill-rule=\"evenodd\" fill-opacity=\"0.5\"/>\n",
       "<polyline clip-path=\"url(#clip0102)\" style=\"stroke:#000000; stroke-width:4; stroke-opacity:0.5; fill:none\" points=\"\n",
       "  853.872,432.503 863.275,449.101 1477.18,561.76 1483.51,561.76 1483.51,352.155 1474.1,335.557 860.198,222.898 853.872,222.898 853.872,432.503 \n",
       "  \"/>\n",
       "<polygon clip-path=\"url(#clip0102)\" points=\"\n",
       "863.144,444.271 872.514,460.98 1486.18,582.887 1493.01,582.887 1493.01,373.694 1483.64,356.985 869.967,235.078 863.144,235.078 863.144,444.271 \n",
       "  \" fill=\"#add8e6\" fill-rule=\"evenodd\" fill-opacity=\"0.5\"/>\n",
       "<polyline clip-path=\"url(#clip0102)\" style=\"stroke:#000000; stroke-width:4; stroke-opacity:0.5; fill:none\" points=\"\n",
       "  863.144,444.271 872.514,460.98 1486.18,582.887 1493.01,582.887 1493.01,373.694 1483.64,356.985 869.967,235.078 863.144,235.078 863.144,444.271 \n",
       "  \"/>\n",
       "<polygon clip-path=\"url(#clip0102)\" points=\"\n",
       "872.393,456.159 881.729,472.978 1495.15,604.11 1502.46,604.11 1502.46,395.333 1493.13,378.514 879.711,247.382 872.393,247.382 872.393,456.159 \n",
       "  \" fill=\"#add8e6\" fill-rule=\"evenodd\" fill-opacity=\"0.5\"/>\n",
       "<polyline clip-path=\"url(#clip0102)\" style=\"stroke:#000000; stroke-width:4; stroke-opacity:0.5; fill:none\" points=\"\n",
       "  872.393,456.159 881.729,472.978 1495.15,604.11 1502.46,604.11 1502.46,395.333 1493.13,378.514 879.711,247.382 872.393,247.382 872.393,456.159 \n",
       "  \"/>\n",
       "<polygon clip-path=\"url(#clip0102)\" points=\"\n",
       "881.617,468.167 890.92,485.095 1504.07,625.429 1511.88,625.429 1511.88,417.073 1502.58,400.144 889.431,259.81 881.617,259.81 881.617,468.167 \n",
       "  \" fill=\"#add8e6\" fill-rule=\"evenodd\" fill-opacity=\"0.5\"/>\n",
       "<polyline clip-path=\"url(#clip0102)\" style=\"stroke:#000000; stroke-width:4; stroke-opacity:0.5; fill:none\" points=\"\n",
       "  881.617,468.167 890.92,485.095 1504.07,625.429 1511.88,625.429 1511.88,417.073 1502.58,400.144 889.431,259.81 881.617,259.81 881.617,468.167 \n",
       "  \"/>\n",
       "<polygon clip-path=\"url(#clip0102)\" points=\"\n",
       "890.818,480.293 900.086,497.33 1512.94,646.843 1521.25,646.843 1521.25,438.911 1511.98,421.874 899.125,272.362 890.818,272.362 890.818,480.293 \n",
       "  \" fill=\"#add8e6\" fill-rule=\"evenodd\" fill-opacity=\"0.5\"/>\n",
       "<polyline clip-path=\"url(#clip0102)\" style=\"stroke:#000000; stroke-width:4; stroke-opacity:0.5; fill:none\" points=\"\n",
       "  890.818,480.293 900.086,497.33 1512.94,646.843 1521.25,646.843 1521.25,438.911 1511.98,421.874 899.125,272.362 890.818,272.362 890.818,480.293 \n",
       "  \"/>\n",
       "<polygon clip-path=\"url(#clip0102)\" points=\"\n",
       "899.994,492.538 909.228,509.683 1521.78,668.351 1530.58,668.351 1530.58,460.848 1521.34,443.703 908.794,285.035 899.994,285.035 899.994,492.538 \n",
       "  \" fill=\"#add8e6\" fill-rule=\"evenodd\" fill-opacity=\"0.5\"/>\n",
       "<polyline clip-path=\"url(#clip0102)\" style=\"stroke:#000000; stroke-width:4; stroke-opacity:0.5; fill:none\" points=\"\n",
       "  899.994,492.538 909.228,509.683 1521.78,668.351 1530.58,668.351 1530.58,460.848 1521.34,443.703 908.794,285.035 899.994,285.035 899.994,492.538 \n",
       "  \"/>\n",
       "<polygon clip-path=\"url(#clip0102)\" points=\"\n",
       "909.145,504.9 918.345,522.152 1530.57,689.952 1539.86,689.952 1539.86,482.883 1530.66,465.631 918.438,297.831 909.145,297.831 909.145,504.9 \n",
       "  \" fill=\"#add8e6\" fill-rule=\"evenodd\" fill-opacity=\"0.5\"/>\n",
       "<polyline clip-path=\"url(#clip0102)\" style=\"stroke:#000000; stroke-width:4; stroke-opacity:0.5; fill:none\" points=\"\n",
       "  909.145,504.9 918.345,522.152 1530.57,689.952 1539.86,689.952 1539.86,482.883 1530.66,465.631 918.438,297.831 909.145,297.831 909.145,504.9 \n",
       "  \"/>\n",
       "<polygon clip-path=\"url(#clip0102)\" points=\"\n",
       "918.272,517.379 927.437,534.737 1539.31,711.645 1549.1,711.645 1549.1,505.014 1539.93,487.655 928.055,310.748 918.272,310.748 918.272,517.379 \n",
       "  \" fill=\"#add8e6\" fill-rule=\"evenodd\" fill-opacity=\"0.5\"/>\n",
       "<polyline clip-path=\"url(#clip0102)\" style=\"stroke:#000000; stroke-width:4; stroke-opacity:0.5; fill:none\" points=\"\n",
       "  918.272,517.379 927.437,534.737 1539.31,711.645 1549.1,711.645 1549.1,505.014 1539.93,487.655 928.055,310.748 918.272,310.748 918.272,517.379 \n",
       "  \"/>\n",
       "<polygon clip-path=\"url(#clip0102)\" points=\"\n",
       "927.373,529.975 936.504,547.438 1548.02,733.429 1558.29,733.429 1558.29,527.24 1549.16,509.776 937.647,323.786 927.373,323.786 927.373,529.975 \n",
       "  \" fill=\"#add8e6\" fill-rule=\"evenodd\" fill-opacity=\"0.5\"/>\n",
       "<polyline clip-path=\"url(#clip0102)\" style=\"stroke:#000000; stroke-width:4; stroke-opacity:0.5; fill:none\" points=\"\n",
       "  927.373,529.975 936.504,547.438 1548.02,733.429 1558.29,733.429 1558.29,527.24 1549.16,509.776 937.647,323.786 927.373,323.786 927.373,529.975 \n",
       "  \"/>\n",
       "<polygon clip-path=\"url(#clip0102)\" points=\"\n",
       "936.45,542.686 945.545,560.254 1556.68,755.304 1567.44,755.304 1567.44,549.562 1558.35,531.993 947.213,336.943 936.45,336.943 936.45,542.686 \n",
       "  \" fill=\"#add8e6\" fill-rule=\"evenodd\" fill-opacity=\"0.5\"/>\n",
       "<polyline clip-path=\"url(#clip0102)\" style=\"stroke:#000000; stroke-width:4; stroke-opacity:0.5; fill:none\" points=\"\n",
       "  936.45,542.686 945.545,560.254 1556.68,755.304 1567.44,755.304 1567.44,549.562 1558.35,531.993 947.213,336.943 936.45,336.943 936.45,542.686 \n",
       "  \"/>\n",
       "<polygon clip-path=\"url(#clip0102)\" points=\"\n",
       "945.501,555.512 954.561,573.185 1565.29,777.269 1576.55,777.269 1576.55,571.977 1567.49,554.304 956.752,350.22 945.501,350.22 945.501,555.512 \n",
       "  \" fill=\"#add8e6\" fill-rule=\"evenodd\" fill-opacity=\"0.5\"/>\n",
       "<polyline clip-path=\"url(#clip0102)\" style=\"stroke:#000000; stroke-width:4; stroke-opacity:0.5; fill:none\" points=\"\n",
       "  945.501,555.512 954.561,573.185 1565.29,777.269 1576.55,777.269 1576.55,571.977 1567.49,554.304 956.752,350.22 945.501,350.22 945.501,555.512 \n",
       "  \"/>\n",
       "<polygon clip-path=\"url(#clip0102)\" points=\"\n",
       "954.526,586.229 1564.84,799.323 1576.21,799.323 1585.61,601.068 1585.61,576.709 975.289,363.615 963.917,363.615 954.526,561.87 954.526,586.229 \n",
       "  \" fill=\"#add8e6\" fill-rule=\"evenodd\" fill-opacity=\"0.5\"/>\n",
       "<polyline clip-path=\"url(#clip0102)\" style=\"stroke:#000000; stroke-width:4; stroke-opacity:0.5; fill:none\" points=\"\n",
       "  954.526,586.229 1564.84,799.323 1576.21,799.323 1585.61,601.068 1585.61,576.709 975.289,363.615 963.917,363.615 954.526,561.87 954.526,586.229 \n",
       "  \"/>\n",
       "<polygon clip-path=\"url(#clip0102)\" points=\"\n",
       "963.525,599.386 1573.41,821.464 1584.83,821.464 1594.62,623.765 1594.62,599.207 984.739,377.129 973.312,377.129 963.525,574.828 963.525,599.386 \n",
       "  \" fill=\"#add8e6\" fill-rule=\"evenodd\" fill-opacity=\"0.5\"/>\n",
       "<polyline clip-path=\"url(#clip0102)\" style=\"stroke:#000000; stroke-width:4; stroke-opacity:0.5; fill:none\" points=\"\n",
       "  963.525,599.386 1573.41,821.464 1584.83,821.464 1594.62,623.765 1594.62,599.207 984.739,377.129 973.312,377.129 963.525,574.828 963.525,599.386 \n",
       "  \"/>\n",
       "<polygon clip-path=\"url(#clip0102)\" points=\"\n",
       "972.498,612.655 1581.93,843.693 1593.41,843.693 1603.59,646.554 1603.59,621.797 994.161,390.76 982.68,390.76 972.498,587.899 972.498,612.655 \n",
       "  \" fill=\"#add8e6\" fill-rule=\"evenodd\" fill-opacity=\"0.5\"/>\n",
       "<polyline clip-path=\"url(#clip0102)\" style=\"stroke:#000000; stroke-width:4; stroke-opacity:0.5; fill:none\" points=\"\n",
       "  972.498,612.655 1581.93,843.693 1593.41,843.693 1603.59,646.554 1603.59,621.797 994.161,390.76 982.68,390.76 972.498,587.899 972.498,612.655 \n",
       "  \"/>\n",
       "<polygon clip-path=\"url(#clip0102)\" points=\"\n",
       "981.445,626.037 1590.4,866.008 1601.94,866.008 1612.51,669.434 1612.51,644.479 1003.56,404.507 992.021,404.507 981.445,601.081 981.445,626.037 \n",
       "  \" fill=\"#add8e6\" fill-rule=\"evenodd\" fill-opacity=\"0.5\"/>\n",
       "<polyline clip-path=\"url(#clip0102)\" style=\"stroke:#000000; stroke-width:4; stroke-opacity:0.5; fill:none\" points=\"\n",
       "  981.445,626.037 1590.4,866.008 1601.94,866.008 1612.51,669.434 1612.51,644.479 1003.56,404.507 992.021,404.507 981.445,601.081 981.445,626.037 \n",
       "  \"/>\n",
       "<polygon clip-path=\"url(#clip0102)\" points=\"\n",
       "990.365,639.529 1598.83,888.408 1610.42,888.408 1621.39,692.404 1621.39,667.25 1012.92,418.371 1001.33,418.371 990.365,614.375 990.365,639.529 \n",
       "  \" fill=\"#add8e6\" fill-rule=\"evenodd\" fill-opacity=\"0.5\"/>\n",
       "<polyline clip-path=\"url(#clip0102)\" style=\"stroke:#000000; stroke-width:4; stroke-opacity:0.5; fill:none\" points=\"\n",
       "  990.365,639.529 1598.83,888.408 1610.42,888.408 1621.39,692.404 1621.39,667.25 1012.92,418.371 1001.33,418.371 990.365,614.375 990.365,639.529 \n",
       "  \"/>\n",
       "<polygon clip-path=\"url(#clip0102)\" points=\"\n",
       "999.259,653.132 1607.22,910.893 1618.86,910.893 1630.22,715.464 1630.22,690.111 1022.26,432.349 1010.62,432.349 999.259,627.779 999.259,653.132 \n",
       "  \" fill=\"#add8e6\" fill-rule=\"evenodd\" fill-opacity=\"0.5\"/>\n",
       "<polyline clip-path=\"url(#clip0102)\" style=\"stroke:#000000; stroke-width:4; stroke-opacity:0.5; fill:none\" points=\"\n",
       "  999.259,653.132 1607.22,910.893 1618.86,910.893 1630.22,715.464 1630.22,690.111 1022.26,432.349 1010.62,432.349 999.259,627.779 999.259,653.132 \n",
       "  \"/>\n",
       "<polygon clip-path=\"url(#clip0102)\" points=\"\n",
       "1008.12,666.845 1615.56,933.462 1627.26,933.462 1639.01,738.612 1639.01,713.06 1031.57,446.443 1019.87,446.443 1008.12,641.292 1008.12,666.845 \n",
       "  \" fill=\"#add8e6\" fill-rule=\"evenodd\" fill-opacity=\"0.5\"/>\n",
       "<polyline clip-path=\"url(#clip0102)\" style=\"stroke:#000000; stroke-width:4; stroke-opacity:0.5; fill:none\" points=\"\n",
       "  1008.12,666.845 1615.56,933.462 1627.26,933.462 1639.01,738.612 1639.01,713.06 1031.57,446.443 1019.87,446.443 1008.12,641.292 1008.12,666.845 \n",
       "  \"/>\n",
       "<polygon clip-path=\"url(#clip0102)\" points=\"\n",
       "1016.96,680.666 1623.86,956.113 1635.61,956.113 1647.75,761.848 1647.75,736.097 1040.85,460.65 1029.1,460.65 1016.96,654.915 1016.96,680.666 \n",
       "  \" fill=\"#add8e6\" fill-rule=\"evenodd\" fill-opacity=\"0.5\"/>\n",
       "<polyline clip-path=\"url(#clip0102)\" style=\"stroke:#000000; stroke-width:4; stroke-opacity:0.5; fill:none\" points=\"\n",
       "  1016.96,680.666 1623.86,956.113 1635.61,956.113 1647.75,761.848 1647.75,736.097 1040.85,460.65 1029.1,460.65 1016.96,654.915 1016.96,680.666 \n",
       "  \"/>\n",
       "<polygon clip-path=\"url(#clip0102)\" points=\"\n",
       "1025.78,694.597 1632.11,978.846 1643.91,978.846 1656.44,785.171 1656.44,759.22 1050.11,474.971 1038.3,474.971 1025.78,668.647 1025.78,694.597 \n",
       "  \" fill=\"#add8e6\" fill-rule=\"evenodd\" fill-opacity=\"0.5\"/>\n",
       "<polyline clip-path=\"url(#clip0102)\" style=\"stroke:#000000; stroke-width:4; stroke-opacity:0.5; fill:none\" points=\"\n",
       "  1025.78,694.597 1632.11,978.846 1643.91,978.846 1656.44,785.171 1656.44,759.22 1050.11,474.971 1038.3,474.971 1025.78,668.647 1025.78,694.597 \n",
       "  \"/>\n",
       "<polygon clip-path=\"url(#clip0102)\" points=\"\n",
       "1034.56,708.635 1640.32,1001.66 1652.17,1001.66 1665.09,808.579 1665.09,782.429 1059.33,489.404 1047.47,489.404 1034.56,682.486 1034.56,708.635 \n",
       "  \" fill=\"#add8e6\" fill-rule=\"evenodd\" fill-opacity=\"0.5\"/>\n",
       "<polyline clip-path=\"url(#clip0102)\" style=\"stroke:#000000; stroke-width:4; stroke-opacity:0.5; fill:none\" points=\"\n",
       "  1034.56,708.635 1640.32,1001.66 1652.17,1001.66 1665.09,808.579 1665.09,782.429 1059.33,489.404 1047.47,489.404 1034.56,682.486 1034.56,708.635 \n",
       "  \"/>\n",
       "<polygon clip-path=\"url(#clip0102)\" points=\"\n",
       "1043.32,722.781 1648.48,1024.55 1660.39,1024.55 1673.69,832.072 1673.69,805.724 1068.52,503.95 1056.61,503.95 1043.32,696.432 1043.32,722.781 \n",
       "  \" fill=\"#add8e6\" fill-rule=\"evenodd\" fill-opacity=\"0.5\"/>\n",
       "<polyline clip-path=\"url(#clip0102)\" style=\"stroke:#000000; stroke-width:4; stroke-opacity:0.5; fill:none\" points=\"\n",
       "  1043.32,722.781 1648.48,1024.55 1660.39,1024.55 1673.69,832.072 1673.69,805.724 1068.52,503.95 1056.61,503.95 1043.32,696.432 1043.32,722.781 \n",
       "  \"/>\n",
       "<polygon clip-path=\"url(#clip0102)\" points=\"\n",
       "1052.04,737.033 1656.59,1047.53 1668.56,1047.53 1682.24,855.649 1682.24,829.102 1077.69,518.607 1065.73,518.607 1052.04,710.485 1052.04,737.033 \n",
       "  \" fill=\"#add8e6\" fill-rule=\"evenodd\" fill-opacity=\"0.5\"/>\n",
       "<polyline clip-path=\"url(#clip0102)\" style=\"stroke:#000000; stroke-width:4; stroke-opacity:0.5; fill:none\" points=\"\n",
       "  1052.04,737.033 1656.59,1047.53 1668.56,1047.53 1682.24,855.649 1682.24,829.102 1077.69,518.607 1065.73,518.607 1052.04,710.485 1052.04,737.033 \n",
       "  \"/>\n",
       "<polygon clip-path=\"url(#clip0102)\" points=\"\n",
       "1060.74,751.391 1664.66,1070.58 1676.68,1070.58 1690.75,879.31 1690.75,852.563 1086.83,533.374 1074.81,533.374 1060.74,724.644 1060.74,751.391 \n",
       "  \" fill=\"#add8e6\" fill-rule=\"evenodd\" fill-opacity=\"0.5\"/>\n",
       "<polyline clip-path=\"url(#clip0102)\" style=\"stroke:#000000; stroke-width:4; stroke-opacity:0.5; fill:none\" points=\"\n",
       "  1060.74,751.391 1664.66,1070.58 1676.68,1070.58 1690.75,879.31 1690.75,852.563 1086.83,533.374 1074.81,533.374 1060.74,724.644 1060.74,751.391 \n",
       "  \"/>\n",
       "<polygon clip-path=\"url(#clip0102)\" points=\"\n",
       "1069.41,765.854 1672.69,1093.71 1684.76,1093.71 1699.2,903.052 1699.2,876.106 1095.93,548.251 1083.86,548.251 1069.41,738.909 1069.41,765.854 \n",
       "  \" fill=\"#add8e6\" fill-rule=\"evenodd\" fill-opacity=\"0.5\"/>\n",
       "<polyline clip-path=\"url(#clip0102)\" style=\"stroke:#000000; stroke-width:4; stroke-opacity:0.5; fill:none\" points=\"\n",
       "  1069.41,765.854 1672.69,1093.71 1684.76,1093.71 1699.2,903.052 1699.2,876.106 1095.93,548.251 1083.86,548.251 1069.41,738.909 1069.41,765.854 \n",
       "  \"/>\n",
       "<polygon clip-path=\"url(#clip0102)\" points=\"\n",
       "1078.06,780.422 1680.67,1116.92 1692.79,1116.92 1707.62,926.876 1707.62,899.731 1105.01,563.237 1092.89,563.237 1078.06,753.278 1078.06,780.422 \n",
       "  \" fill=\"#add8e6\" fill-rule=\"evenodd\" fill-opacity=\"0.5\"/>\n",
       "<polyline clip-path=\"url(#clip0102)\" style=\"stroke:#000000; stroke-width:4; stroke-opacity:0.5; fill:none\" points=\"\n",
       "  1078.06,780.422 1680.67,1116.92 1692.79,1116.92 1707.62,926.876 1707.62,899.731 1105.01,563.237 1092.89,563.237 1078.06,753.278 1078.06,780.422 \n",
       "  \"/>\n",
       "<polygon clip-path=\"url(#clip0102)\" points=\"\n",
       "1086.67,795.094 1688.6,1140.2 1700.77,1140.2 1715.98,950.78 1715.98,923.437 1114.05,578.333 1101.88,578.333 1086.67,767.75 1086.67,795.094 \n",
       "  \" fill=\"#add8e6\" fill-rule=\"evenodd\" fill-opacity=\"0.5\"/>\n",
       "<polyline clip-path=\"url(#clip0102)\" style=\"stroke:#000000; stroke-width:4; stroke-opacity:0.5; fill:none\" points=\"\n",
       "  1086.67,795.094 1688.6,1140.2 1700.77,1140.2 1715.98,950.78 1715.98,923.437 1114.05,578.333 1101.88,578.333 1086.67,767.75 1086.67,795.094 \n",
       "  \"/>\n",
       "<polygon clip-path=\"url(#clip0102)\" points=\"\n",
       "1095.25,809.869 1696.48,1163.55 1708.71,1163.55 1724.3,974.764 1724.3,947.221 1123.07,593.535 1110.84,593.535 1095.25,782.326 1095.25,809.869 \n",
       "  \" fill=\"#add8e6\" fill-rule=\"evenodd\" fill-opacity=\"0.5\"/>\n",
       "<polyline clip-path=\"url(#clip0102)\" style=\"stroke:#000000; stroke-width:4; stroke-opacity:0.5; fill:none\" points=\"\n",
       "  1095.25,809.869 1696.48,1163.55 1708.71,1163.55 1724.3,974.764 1724.3,947.221 1123.07,593.535 1110.84,593.535 1095.25,782.326 1095.25,809.869 \n",
       "  \"/>\n",
       "<polygon clip-path=\"url(#clip0102)\" points=\"\n",
       "1103.81,824.746 1704.32,1186.99 1716.6,1186.99 1732.56,998.826 1732.56,971.085 1132.05,608.845 1119.77,608.845 1103.81,797.005 1103.81,824.746 \n",
       "  \" fill=\"#add8e6\" fill-rule=\"evenodd\" fill-opacity=\"0.5\"/>\n",
       "<polyline clip-path=\"url(#clip0102)\" style=\"stroke:#000000; stroke-width:4; stroke-opacity:0.5; fill:none\" points=\"\n",
       "  1103.81,824.746 1704.32,1186.99 1716.6,1186.99 1732.56,998.826 1732.56,971.085 1132.05,608.845 1119.77,608.845 1103.81,797.005 1103.81,824.746 \n",
       "  \"/>\n",
       "<polygon clip-path=\"url(#clip0102)\" points=\"\n",
       "1112.33,839.726 1712.11,1210.49 1724.44,1210.49 1740.78,1022.97 1740.78,995.026 1141,624.262 1128.67,624.262 1112.33,811.786 1112.33,839.726 \n",
       "  \" fill=\"#add8e6\" fill-rule=\"evenodd\" fill-opacity=\"0.5\"/>\n",
       "<polyline clip-path=\"url(#clip0102)\" style=\"stroke:#000000; stroke-width:4; stroke-opacity:0.5; fill:none\" points=\"\n",
       "  1112.33,839.726 1712.11,1210.49 1724.44,1210.49 1740.78,1022.97 1740.78,995.026 1141,624.262 1128.67,624.262 1112.33,811.786 1112.33,839.726 \n",
       "  \"/>\n",
       "<polygon clip-path=\"url(#clip0102)\" points=\"\n",
       "1120.83,854.807 1719.86,1234.07 1732.24,1234.07 1748.95,1047.18 1748.95,1019.04 1149.92,639.784 1137.54,639.784 1120.83,826.668 1120.83,854.807 \n",
       "  \" fill=\"#add8e6\" fill-rule=\"evenodd\" fill-opacity=\"0.5\"/>\n",
       "<polyline clip-path=\"url(#clip0102)\" style=\"stroke:#000000; stroke-width:4; stroke-opacity:0.5; fill:none\" points=\"\n",
       "  1120.83,854.807 1719.86,1234.07 1732.24,1234.07 1748.95,1047.18 1748.95,1019.04 1149.92,639.784 1137.54,639.784 1120.83,826.668 1120.83,854.807 \n",
       "  \"/>\n",
       "<polygon clip-path=\"url(#clip0102)\" points=\"\n",
       "1129.29,869.988 1727.56,1257.71 1739.99,1257.71 1757.08,1071.48 1757.08,1043.14 1158.81,655.412 1146.38,655.412 1129.29,841.651 1129.29,869.988 \n",
       "  \" fill=\"#add8e6\" fill-rule=\"evenodd\" fill-opacity=\"0.5\"/>\n",
       "<polyline clip-path=\"url(#clip0102)\" style=\"stroke:#000000; stroke-width:4; stroke-opacity:0.5; fill:none\" points=\"\n",
       "  1129.29,869.988 1727.56,1257.71 1739.99,1257.71 1757.08,1071.48 1757.08,1043.14 1158.81,655.412 1146.38,655.412 1129.29,841.651 1129.29,869.988 \n",
       "  \"/>\n",
       "<polygon clip-path=\"url(#clip0102)\" points=\"\n",
       "1137.73,885.269 1735.21,1281.43 1747.69,1281.43 1765.15,1095.84 1765.15,1067.31 1167.67,671.144 1155.19,671.144 1137.73,856.733 1137.73,885.269 \n",
       "  \" fill=\"#add8e6\" fill-rule=\"evenodd\" fill-opacity=\"0.5\"/>\n",
       "<polyline clip-path=\"url(#clip0102)\" style=\"stroke:#000000; stroke-width:4; stroke-opacity:0.5; fill:none\" points=\"\n",
       "  1137.73,885.269 1735.21,1281.43 1747.69,1281.43 1765.15,1095.84 1765.15,1067.31 1167.67,671.144 1155.19,671.144 1137.73,856.733 1137.73,885.269 \n",
       "  \"/>\n",
       "<polygon clip-path=\"url(#clip0102)\" points=\"\n",
       "1146.13,900.65 1742.81,1305.22 1755.35,1305.22 1773.18,1120.28 1773.18,1091.55 1176.5,686.979 1163.96,686.979 1146.13,871.915 1146.13,900.65 \n",
       "  \" fill=\"#add8e6\" fill-rule=\"evenodd\" fill-opacity=\"0.5\"/>\n",
       "<polyline clip-path=\"url(#clip0102)\" style=\"stroke:#000000; stroke-width:4; stroke-opacity:0.5; fill:none\" points=\"\n",
       "  1146.13,900.65 1742.81,1305.22 1755.35,1305.22 1773.18,1120.28 1773.18,1091.55 1176.5,686.979 1163.96,686.979 1146.13,871.915 1146.13,900.65 \n",
       "  \"/>\n",
       "<polygon clip-path=\"url(#clip0102)\" points=\"\n",
       "1154.51,916.129 1750.37,1329.08 1762.96,1329.08 1781.15,1144.8 1781.15,1115.87 1185.29,702.918 1172.71,702.918 1154.51,887.196 1154.51,916.129 \n",
       "  \" fill=\"#add8e6\" fill-rule=\"evenodd\" fill-opacity=\"0.5\"/>\n",
       "<polyline clip-path=\"url(#clip0102)\" style=\"stroke:#000000; stroke-width:4; stroke-opacity:0.5; fill:none\" points=\"\n",
       "  1154.51,916.129 1750.37,1329.08 1762.96,1329.08 1781.15,1144.8 1781.15,1115.87 1185.29,702.918 1172.71,702.918 1154.51,887.196 1154.51,916.129 \n",
       "  \"/>\n",
       "<polygon clip-path=\"url(#clip0102)\" points=\"\n",
       "1162.85,931.706 1757.88,1353 1770.52,1353 1789.08,1169.39 1789.08,1140.25 1194.06,718.958 1181.42,718.958 1162.85,902.574 1162.85,931.706 \n",
       "  \" fill=\"#add8e6\" fill-rule=\"evenodd\" fill-opacity=\"0.5\"/>\n",
       "<polyline clip-path=\"url(#clip0102)\" style=\"stroke:#000000; stroke-width:4; stroke-opacity:0.5; fill:none\" points=\"\n",
       "  1162.85,931.706 1757.88,1353 1770.52,1353 1789.08,1169.39 1789.08,1140.25 1194.06,718.958 1181.42,718.958 1162.85,902.574 1162.85,931.706 \n",
       "  \"/>\n",
       "<polygon clip-path=\"url(#clip0102)\" points=\"\n",
       "1171.16,947.38 1765.34,1376.99 1778.03,1376.99 1796.96,1194.04 1796.96,1164.71 1202.79,735.101 1190.1,735.101 1171.16,918.05 1171.16,947.38 \n",
       "  \" fill=\"#add8e6\" fill-rule=\"evenodd\" fill-opacity=\"0.5\"/>\n",
       "<polyline clip-path=\"url(#clip0102)\" style=\"stroke:#000000; stroke-width:4; stroke-opacity:0.5; fill:none\" points=\"\n",
       "  1171.16,947.38 1765.34,1376.99 1778.03,1376.99 1796.96,1194.04 1796.96,1164.71 1202.79,735.101 1190.1,735.101 1171.16,918.05 1171.16,947.38 \n",
       "  \"/>\n",
       "<polygon clip-path=\"url(#clip0102)\" points=\"\n",
       "1179.44,963.15 1772.75,1401.05 1785.49,1401.05 1804.79,1218.77 1804.79,1189.24 1211.48,751.344 1198.74,751.344 1179.44,933.622 1179.44,963.15 \n",
       "  \" fill=\"#add8e6\" fill-rule=\"evenodd\" fill-opacity=\"0.5\"/>\n",
       "<polyline clip-path=\"url(#clip0102)\" style=\"stroke:#000000; stroke-width:4; stroke-opacity:0.5; fill:none\" points=\"\n",
       "  1179.44,963.15 1772.75,1401.05 1785.49,1401.05 1804.79,1218.77 1804.79,1189.24 1211.48,751.344 1198.74,751.344 1179.44,933.622 1179.44,963.15 \n",
       "  \"/>\n",
       "<polygon clip-path=\"url(#clip0102)\" points=\"\n",
       "741.154,296.267 1356.12,296.267 1356.12,91.2792 741.154,91.2792 741.154,296.267 741.154,296.267 \n",
       "  \" fill=\"#ffa500\" fill-rule=\"evenodd\" fill-opacity=\"0.5\"/>\n",
       "<polyline clip-path=\"url(#clip0102)\" style=\"stroke:#000000; stroke-width:4; stroke-opacity:0.5; fill:none\" points=\"\n",
       "  741.154,296.267 1356.12,296.267 1356.12,91.2792 741.154,91.2792 741.154,296.267 \n",
       "  \"/>\n",
       "<circle clip-path=\"url(#clip0102)\" style=\"fill:#000000; stroke:none; fill-opacity:1\" cx=\"1097.83\" cy=\"269.701\" r=\"18\"/>\n",
       "<circle clip-path=\"url(#clip0102)\" style=\"fill:#000000; stroke:none; fill-opacity:1\" cx=\"1097.83\" cy=\"269.701\" r=\"14\"/>\n",
       "</svg>\n"
      ]
     },
     "execution_count": 16,
     "metadata": {},
     "output_type": "execute_result"
    }
   ],
   "source": [
    "δcont2 = δ / 10\n",
    "𝑆lin2 = deepcopy(𝑆lin)\n",
    "𝑋₀2 = deepcopy(𝑋₀)\n",
    "𝑃lin2 = InitialValueProblem(𝑆lin2, 𝑋₀2)\n",
    "@time Rlin2 = solve(𝑃lin2, Options(:T=>5*δ), op=GLGM06(:δ=>δcont, :max_order=>2));\n",
    "plot(Rlin2, color=:lightblue, alpha=.5)\n",
    "plot!(𝑋₀2, color=:orange, alpha=.5, xlab=\"x\", ylab=\"y\")\n",
    "plot!(Singleton(x̃), color=:black) # linearization point"
   ]
  },
  {
   "cell_type": "markdown",
   "metadata": {},
   "source": [
    "Here we can use another continuous post, for example the decompoed approach `BFFPSV18`.    "
   ]
  },
  {
   "cell_type": "markdown",
   "metadata": {},
   "source": [
    "### Computation of the set of admissible linearization errors $\\bar{L}$"
   ]
  },
  {
   "cell_type": "markdown",
   "metadata": {},
   "source": [
    "Up to now, we obtained the solution of the linearized system only; still we need to contemplate the contribution of the Lagrangian term $L_i(x, x̃)$. Now the thing is, this term depends on the *solution x(t)* for any $t \\in [0, \\delta]$ the local time horizon, and this complicates things because we do not know in advance this set -- this is precisely the reach set that we want to compute on the first place. "
   ]
  },
  {
   "cell_type": "markdown",
   "metadata": {},
   "source": [
    "The way out is to proceed in three steps, we give an intuition below:\n",
    "\n",
    "- first, assume that the contribution of those higher order terms is proportional to some *expansion factor* such that they are enclosed in a box of width $\\theta \\cdot \\delta$ where $\\delta$ is the \"big\" time step and $\\theta$ is the expansion vector; call this set `R̄err`\n",
    "- second, from the `R̄err` ansatz, deduce which is the set of initial states that produces that set; this can be done easily by matrix inversion because one considers the inhomogeneous solution of a linear system; call this set `L̄`\n",
    "- third, check that we don't leave anything out: the obtained set `L̄` should include all possible values of the Lagrangian `L`, i.e. we should have $L \\subseteq \\bar{L}$ if $L$ denotes the set of linearization errors"
   ]
  },
  {
   "cell_type": "markdown",
   "metadata": {},
   "source": [
    "We use the approach in [1] where the rate of growth of the admissible linearization error is bounded with a multi-dimensional interval by an expansion vector $\\theta$. For our running example, we consider the expansion vector $\\theta = [0.05, 0.05]$:"
   ]
  },
  {
   "cell_type": "code",
   "execution_count": 17,
   "metadata": {},
   "outputs": [
    {
     "data": {
      "text/plain": [
       "2-element Array{Float64,1}:\n",
       " 0.05\n",
       " 0.05"
      ]
     },
     "execution_count": 17,
     "metadata": {},
     "output_type": "execute_result"
    }
   ],
   "source": [
    "θ = fill(0.05, 2)"
   ]
  },
  {
   "cell_type": "markdown",
   "metadata": {},
   "source": [
    "The term $A^{-1}(e^{A\\delta} - I)$ can be computed using `Φ₁` implemented in Reachablity. We don't need to assume that $A$ is invertible, since we can use the series expansion of the exponential matrix. See the documentation of `using Reachability.ReachSets: Φ₁` for details."
   ]
  },
  {
   "cell_type": "code",
   "execution_count": 18,
   "metadata": {},
   "outputs": [],
   "source": [
    "using Reachability.ReachSets: Φ₁"
   ]
  },
  {
   "cell_type": "code",
   "execution_count": 19,
   "metadata": {},
   "outputs": [
    {
     "data": {
      "text/plain": [
       "2×2 Array{Float64,2}:\n",
       "  0.0199897   0.000198586\n",
       " -0.00153501  0.0197856  "
      ]
     },
     "execution_count": 19,
     "metadata": {},
     "output_type": "execute_result"
    }
   ],
   "source": [
    "Φ₁_Aδ = Φ₁(Ax̃, δ)"
   ]
  },
  {
   "cell_type": "code",
   "execution_count": 20,
   "metadata": {},
   "outputs": [
    {
     "data": {
      "text/plain": [
       "Hyperrectangle{Float64}([0.0, 0.0], [0.001, 0.001])"
      ]
     },
     "execution_count": 20,
     "metadata": {},
     "output_type": "execute_result"
    }
   ],
   "source": [
    "R̄err = Hyperrectangle(zeros(2), θ*δ)"
   ]
  },
  {
   "cell_type": "code",
   "execution_count": 21,
   "metadata": {},
   "outputs": [
    {
     "data": {
      "text/plain": [
       "Hyperrectangle{Float64}([0.0, 0.0], [0.0504888, 0.0543809])"
      ]
     },
     "execution_count": 21,
     "metadata": {},
     "output_type": "execute_result"
    }
   ],
   "source": [
    "l̄ = abs.(inv(Φ₁_Aδ)) * θ * δ\n",
    "L̄ = Hyperrectangle(zeros(2), l̄)"
   ]
  },
  {
   "cell_type": "markdown",
   "metadata": {},
   "source": [
    "### Computation of the set of linearization errors $L$\n",
    "\n",
    "The computation of the set of linearization errors is performed using the computed flowpipe of the linearized system and the admissible linearization errors as described below, following [1]."
   ]
  },
  {
   "cell_type": "markdown",
   "metadata": {},
   "source": [
    "In particular, we use interval arithmetics to bound the lagrangian $L_i$ by a multi-dimensional interval."
   ]
  },
  {
   "cell_type": "markdown",
   "metadata": {},
   "source": [
    "Recall from the linearization section that the linearization error $L_i$ is obtained by an evaluation of the Lagrange remainder,\n",
    "\n",
    "$$\n",
    "L_i(x, x̃) = \\frac{1}{2} (x-x̃)^T H_{f_i}(ξ) (x-x̃), \\qquad i = 1,2.\n",
    "$$\n",
    "where $ξ$ lives in the convex hull $ξ = CH(x̃, x) = \\{x̃ + \\alpha(x - x̃), \\alpha \\in [0, 1]\\}$."
   ]
  },
  {
   "cell_type": "markdown",
   "metadata": {},
   "source": [
    "Let's compute the Hessian matrix:"
   ]
  },
  {
   "cell_type": "code",
   "execution_count": 22,
   "metadata": {},
   "outputs": [
    {
     "data": {
      "text/plain": [
       "2×2 Array{TaylorN{Float64},2}:\n",
       "  0.0 + 𝒪(‖x‖⁵)   0.0 + 𝒪(‖x‖⁵)\n",
       "  0.0 + 𝒪(‖x‖⁵)   0.0 + 𝒪(‖x‖⁵)"
      ]
     },
     "execution_count": 22,
     "metadata": {},
     "output_type": "execute_result"
    }
   ],
   "source": [
    "Hf₁ = [∂(f[1], (2, 0)) ∂(f[1], (1, 1));\n",
    "       ∂(f[1], (1, 1)) ∂(f[1], (0, 2))]"
   ]
  },
  {
   "cell_type": "code",
   "execution_count": 23,
   "metadata": {},
   "outputs": [
    {
     "data": {
      "text/plain": [
       "2×2 Array{TaylorN{Float64},2}:\n",
       "  - 2.0 x₂ + 𝒪(‖x‖⁵)   - 2.0 x₁ + 𝒪(‖x‖⁵)\n",
       "  - 2.0 x₁ + 𝒪(‖x‖⁵)        0.0 + 𝒪(‖x‖⁵)"
      ]
     },
     "execution_count": 23,
     "metadata": {},
     "output_type": "execute_result"
    }
   ],
   "source": [
    "Hf₂ = [∂(f[2], (2, 0)) ∂(f[2], (1, 1));\n",
    "       ∂(f[2], (1, 1)) ∂(f[2], (0, 2))]"
   ]
  },
  {
   "cell_type": "code",
   "execution_count": 24,
   "metadata": {},
   "outputs": [],
   "source": [
    "Hf = Vector{Matrix{TaylorN{Float64}}}(undef, 2)\n",
    "Hf[1] = Hf₁; Hf[2] = Hf₂;"
   ]
  },
  {
   "cell_type": "markdown",
   "metadata": {},
   "source": [
    "*Note.* The jacobian and hessian matrices can also be computed numerically with `TaylorSeries`, eg. "
   ]
  },
  {
   "cell_type": "code",
   "execution_count": 25,
   "metadata": {},
   "outputs": [
    {
     "data": {
      "text/plain": [
       "2×2 Transpose{Float64,Array{Float64,2}}:\n",
       " -1.52656  -1.2503\n",
       " -1.2503    0.0   "
      ]
     },
     "execution_count": 25,
     "metadata": {},
     "output_type": "execute_result"
    }
   ],
   "source": [
    "d = rand(2)\n",
    "hessian(f[2], d)"
   ]
  },
  {
   "cell_type": "code",
   "execution_count": 26,
   "metadata": {},
   "outputs": [
    {
     "data": {
      "text/plain": [
       "2×2 Array{Float64,2}:\n",
       " -1.52656  -1.2503\n",
       " -1.2503    0.0   "
      ]
     },
     "execution_count": 26,
     "metadata": {},
     "output_type": "execute_result"
    }
   ],
   "source": [
    "map(x -> evaluate(x, d), Hf₂)"
   ]
  },
  {
   "cell_type": "markdown",
   "metadata": {},
   "source": [
    "To compute $L_i$ for the dense time interval $t \\in [0, \\delta]$ we have to consider possible values of $x$ within this time interval. Since $\\mathcal{R}([0, \\delta])$ is not known in advance, we need to somehow approximate this flowpipe and then validated it. The exact values of $x$ are overapproximated by $\\mathcal{R}^{lin}([0, \\delta]) \\oplus \\bar{R}^{err}$."
   ]
  },
  {
   "cell_type": "code",
   "execution_count": 27,
   "metadata": {},
   "outputs": [],
   "source": [
    "# admissible reachable set\n",
    "Rlin_plus_R̄err = [Ri.X ⊕ R̄err for Ri in Rlin.Xk]; # this is a flowpipe"
   ]
  },
  {
   "cell_type": "markdown",
   "metadata": {},
   "source": [
    "The Lagrange remainder terms $L_i$ are overapproximated in two ways:\n",
    "\n",
    "1. using interval arithmetic on the quadratic expression\n",
    "2. using the zonotopic overapproximation from [Prop. 3.7, 1]."
   ]
  },
  {
   "cell_type": "markdown",
   "metadata": {},
   "source": [
    "Let's take approach 1. The possible values of $x$ are included in the set $\\mathcal{R}^{lin}([0, \\delta]) \\oplus \\bar{R}^{err}$.\n",
    "\n",
    "Let $\\hat{R}^{lin}$ be the minimum bounding box that includes these sets. Since the convex hull and Minkowski sum are commuting operations, we can do\n",
    "\n",
    "$$\n",
    "\\hat{R}^{lin} := CH(\\mathcal{R}^{lin}(0), \\mathcal{R}^{lin}(\\delta_{cont}), \\mathcal{R}^{lin}(2\\delta_{cont}), \\ldots, \\mathcal{R}^{lin}(\\delta))\\oplus \\bar{R}^{err}.\n",
    "$$\n",
    "\n",
    "*Note.* This set corresponds to $\\hat{Z}([0, r]$ in [Section 3.4.3, 1]."
   ]
  },
  {
   "cell_type": "code",
   "execution_count": 28,
   "metadata": {},
   "outputs": [],
   "source": [
    "R̂lin = ConvexHullArray([Ri.X for Ri in Rlin.Xk]) ⊕ R̄err; # this is a single set"
   ]
  },
  {
   "cell_type": "code",
   "execution_count": 29,
   "metadata": {},
   "outputs": [
    {
     "data": {
      "image/svg+xml": [
       "<?xml version=\"1.0\" encoding=\"utf-8\"?>\n",
       "<svg xmlns=\"http://www.w3.org/2000/svg\" xmlns:xlink=\"http://www.w3.org/1999/xlink\" width=\"600\" height=\"400\" viewBox=\"0 0 2400 1600\">\n",
       "<defs>\n",
       "  <clipPath id=\"clip0500\">\n",
       "    <rect x=\"0\" y=\"0\" width=\"2400\" height=\"1600\"/>\n",
       "  </clipPath>\n",
       "</defs>\n",
       "<polygon clip-path=\"url(#clip0500)\" points=\"\n",
       "0,1600 2400,1600 2400,0 0,0 \n",
       "  \" fill=\"#ffffff\" fill-rule=\"evenodd\" fill-opacity=\"1\"/>\n",
       "<defs>\n",
       "  <clipPath id=\"clip0501\">\n",
       "    <rect x=\"480\" y=\"0\" width=\"1681\" height=\"1600\"/>\n",
       "  </clipPath>\n",
       "</defs>\n",
       "<polygon clip-path=\"url(#clip0500)\" points=\"\n",
       "567.41,1503.47 2023.64,1503.47 2023.64,47.2441 567.41,47.2441 \n",
       "  \" fill=\"#ffffff\" fill-rule=\"evenodd\" fill-opacity=\"1\"/>\n",
       "<defs>\n",
       "  <clipPath id=\"clip0502\">\n",
       "    <rect x=\"567\" y=\"47\" width=\"1457\" height=\"1457\"/>\n",
       "  </clipPath>\n",
       "</defs>\n",
       "<polyline clip-path=\"url(#clip0502)\" style=\"stroke:#000000; stroke-width:2; stroke-opacity:0.1; fill:none\" points=\"\n",
       "  608.624,1503.47 608.624,47.2441 \n",
       "  \"/>\n",
       "<polyline clip-path=\"url(#clip0502)\" style=\"stroke:#000000; stroke-width:2; stroke-opacity:0.1; fill:none\" points=\"\n",
       "  952.075,1503.47 952.075,47.2441 \n",
       "  \"/>\n",
       "<polyline clip-path=\"url(#clip0502)\" style=\"stroke:#000000; stroke-width:2; stroke-opacity:0.1; fill:none\" points=\"\n",
       "  1295.53,1503.47 1295.53,47.2441 \n",
       "  \"/>\n",
       "<polyline clip-path=\"url(#clip0502)\" style=\"stroke:#000000; stroke-width:2; stroke-opacity:0.1; fill:none\" points=\"\n",
       "  1638.98,1503.47 1638.98,47.2441 \n",
       "  \"/>\n",
       "<polyline clip-path=\"url(#clip0502)\" style=\"stroke:#000000; stroke-width:2; stroke-opacity:0.1; fill:none\" points=\"\n",
       "  1982.43,1503.47 1982.43,47.2441 \n",
       "  \"/>\n",
       "<polyline clip-path=\"url(#clip0502)\" style=\"stroke:#000000; stroke-width:2; stroke-opacity:0.1; fill:none\" points=\"\n",
       "  567.41,1462.26 2023.64,1462.26 \n",
       "  \"/>\n",
       "<polyline clip-path=\"url(#clip0502)\" style=\"stroke:#000000; stroke-width:2; stroke-opacity:0.1; fill:none\" points=\"\n",
       "  567.41,1118.81 2023.64,1118.81 \n",
       "  \"/>\n",
       "<polyline clip-path=\"url(#clip0502)\" style=\"stroke:#000000; stroke-width:2; stroke-opacity:0.1; fill:none\" points=\"\n",
       "  567.41,775.359 2023.64,775.359 \n",
       "  \"/>\n",
       "<polyline clip-path=\"url(#clip0502)\" style=\"stroke:#000000; stroke-width:2; stroke-opacity:0.1; fill:none\" points=\"\n",
       "  567.41,431.909 2023.64,431.909 \n",
       "  \"/>\n",
       "<polyline clip-path=\"url(#clip0502)\" style=\"stroke:#000000; stroke-width:2; stroke-opacity:0.1; fill:none\" points=\"\n",
       "  567.41,88.4582 2023.64,88.4582 \n",
       "  \"/>\n",
       "<polyline clip-path=\"url(#clip0500)\" style=\"stroke:#000000; stroke-width:4; stroke-opacity:1; fill:none\" points=\"\n",
       "  567.41,1503.47 2023.64,1503.47 \n",
       "  \"/>\n",
       "<polyline clip-path=\"url(#clip0500)\" style=\"stroke:#000000; stroke-width:4; stroke-opacity:1; fill:none\" points=\"\n",
       "  567.41,1503.47 567.41,47.2441 \n",
       "  \"/>\n",
       "<polyline clip-path=\"url(#clip0500)\" style=\"stroke:#000000; stroke-width:4; stroke-opacity:1; fill:none\" points=\"\n",
       "  608.624,1503.47 608.624,1481.63 \n",
       "  \"/>\n",
       "<polyline clip-path=\"url(#clip0500)\" style=\"stroke:#000000; stroke-width:4; stroke-opacity:1; fill:none\" points=\"\n",
       "  952.075,1503.47 952.075,1481.63 \n",
       "  \"/>\n",
       "<polyline clip-path=\"url(#clip0500)\" style=\"stroke:#000000; stroke-width:4; stroke-opacity:1; fill:none\" points=\"\n",
       "  1295.53,1503.47 1295.53,1481.63 \n",
       "  \"/>\n",
       "<polyline clip-path=\"url(#clip0500)\" style=\"stroke:#000000; stroke-width:4; stroke-opacity:1; fill:none\" points=\"\n",
       "  1638.98,1503.47 1638.98,1481.63 \n",
       "  \"/>\n",
       "<polyline clip-path=\"url(#clip0500)\" style=\"stroke:#000000; stroke-width:4; stroke-opacity:1; fill:none\" points=\"\n",
       "  1982.43,1503.47 1982.43,1481.63 \n",
       "  \"/>\n",
       "<polyline clip-path=\"url(#clip0500)\" style=\"stroke:#000000; stroke-width:4; stroke-opacity:1; fill:none\" points=\"\n",
       "  567.41,1462.26 589.254,1462.26 \n",
       "  \"/>\n",
       "<polyline clip-path=\"url(#clip0500)\" style=\"stroke:#000000; stroke-width:4; stroke-opacity:1; fill:none\" points=\"\n",
       "  567.41,1118.81 589.254,1118.81 \n",
       "  \"/>\n",
       "<polyline clip-path=\"url(#clip0500)\" style=\"stroke:#000000; stroke-width:4; stroke-opacity:1; fill:none\" points=\"\n",
       "  567.41,775.359 589.254,775.359 \n",
       "  \"/>\n",
       "<polyline clip-path=\"url(#clip0500)\" style=\"stroke:#000000; stroke-width:4; stroke-opacity:1; fill:none\" points=\"\n",
       "  567.41,431.909 589.254,431.909 \n",
       "  \"/>\n",
       "<polyline clip-path=\"url(#clip0500)\" style=\"stroke:#000000; stroke-width:4; stroke-opacity:1; fill:none\" points=\"\n",
       "  567.41,88.4582 589.254,88.4582 \n",
       "  \"/>\n",
       "<g clip-path=\"url(#clip0500)\">\n",
       "<text style=\"fill:#000000; fill-opacity:1; font-family:Arial,Helvetica Neue,Helvetica,sans-serif; font-size:48px; text-anchor:middle;\" transform=\"rotate(0, 608.624, 1557.47)\" x=\"608.624\" y=\"1557.47\">-0.0010</text>\n",
       "</g>\n",
       "<g clip-path=\"url(#clip0500)\">\n",
       "<text style=\"fill:#000000; fill-opacity:1; font-family:Arial,Helvetica Neue,Helvetica,sans-serif; font-size:48px; text-anchor:middle;\" transform=\"rotate(0, 952.075, 1557.47)\" x=\"952.075\" y=\"1557.47\">-0.0005</text>\n",
       "</g>\n",
       "<g clip-path=\"url(#clip0500)\">\n",
       "<text style=\"fill:#000000; fill-opacity:1; font-family:Arial,Helvetica Neue,Helvetica,sans-serif; font-size:48px; text-anchor:middle;\" transform=\"rotate(0, 1295.53, 1557.47)\" x=\"1295.53\" y=\"1557.47\">0.0000</text>\n",
       "</g>\n",
       "<g clip-path=\"url(#clip0500)\">\n",
       "<text style=\"fill:#000000; fill-opacity:1; font-family:Arial,Helvetica Neue,Helvetica,sans-serif; font-size:48px; text-anchor:middle;\" transform=\"rotate(0, 1638.98, 1557.47)\" x=\"1638.98\" y=\"1557.47\">0.0005</text>\n",
       "</g>\n",
       "<g clip-path=\"url(#clip0500)\">\n",
       "<text style=\"fill:#000000; fill-opacity:1; font-family:Arial,Helvetica Neue,Helvetica,sans-serif; font-size:48px; text-anchor:middle;\" transform=\"rotate(0, 1982.43, 1557.47)\" x=\"1982.43\" y=\"1557.47\">0.0010</text>\n",
       "</g>\n",
       "<g clip-path=\"url(#clip0500)\">\n",
       "<text style=\"fill:#000000; fill-opacity:1; font-family:Arial,Helvetica Neue,Helvetica,sans-serif; font-size:48px; text-anchor:end;\" transform=\"rotate(0, 543.41, 1479.76)\" x=\"543.41\" y=\"1479.76\">-0.0010</text>\n",
       "</g>\n",
       "<g clip-path=\"url(#clip0500)\">\n",
       "<text style=\"fill:#000000; fill-opacity:1; font-family:Arial,Helvetica Neue,Helvetica,sans-serif; font-size:48px; text-anchor:end;\" transform=\"rotate(0, 543.41, 1136.31)\" x=\"543.41\" y=\"1136.31\">-0.0005</text>\n",
       "</g>\n",
       "<g clip-path=\"url(#clip0500)\">\n",
       "<text style=\"fill:#000000; fill-opacity:1; font-family:Arial,Helvetica Neue,Helvetica,sans-serif; font-size:48px; text-anchor:end;\" transform=\"rotate(0, 543.41, 792.859)\" x=\"543.41\" y=\"792.859\">0.0000</text>\n",
       "</g>\n",
       "<g clip-path=\"url(#clip0500)\">\n",
       "<text style=\"fill:#000000; fill-opacity:1; font-family:Arial,Helvetica Neue,Helvetica,sans-serif; font-size:48px; text-anchor:end;\" transform=\"rotate(0, 543.41, 449.409)\" x=\"543.41\" y=\"449.409\">0.0005</text>\n",
       "</g>\n",
       "<g clip-path=\"url(#clip0500)\">\n",
       "<text style=\"fill:#000000; fill-opacity:1; font-family:Arial,Helvetica Neue,Helvetica,sans-serif; font-size:48px; text-anchor:end;\" transform=\"rotate(0, 543.41, 105.958)\" x=\"543.41\" y=\"105.958\">0.0010</text>\n",
       "</g>\n",
       "<polygon clip-path=\"url(#clip0502)\" points=\"\n",
       "608.624,1462.26 1982.43,1462.26 1982.43,88.4582 608.624,88.4582 608.624,1462.26 608.624,1462.26 \n",
       "  \" fill=\"#ff0000\" fill-rule=\"evenodd\" fill-opacity=\"0.2\"/>\n",
       "<polyline clip-path=\"url(#clip0502)\" style=\"stroke:#000000; stroke-width:4; stroke-opacity:0.2; fill:none\" points=\"\n",
       "  608.624,1462.26 1982.43,1462.26 1982.43,88.4582 608.624,88.4582 608.624,1462.26 \n",
       "  \"/>\n",
       "</svg>\n"
      ]
     },
     "execution_count": 29,
     "metadata": {},
     "output_type": "execute_result"
    }
   ],
   "source": [
    "# the error is a box around the origin\n",
    "plot(R̄err, alpha=.2, color=\"red\")"
   ]
  },
  {
   "cell_type": "code",
   "execution_count": 30,
   "metadata": {},
   "outputs": [
    {
     "data": {
      "image/svg+xml": [
       "<?xml version=\"1.0\" encoding=\"utf-8\"?>\n",
       "<svg xmlns=\"http://www.w3.org/2000/svg\" xmlns:xlink=\"http://www.w3.org/1999/xlink\" width=\"600\" height=\"400\" viewBox=\"0 0 2400 1600\">\n",
       "<defs>\n",
       "  <clipPath id=\"clip0900\">\n",
       "    <rect x=\"0\" y=\"0\" width=\"2400\" height=\"1600\"/>\n",
       "  </clipPath>\n",
       "</defs>\n",
       "<polygon clip-path=\"url(#clip0900)\" points=\"\n",
       "0,1600 2400,1600 2400,0 0,0 \n",
       "  \" fill=\"#ffffff\" fill-rule=\"evenodd\" fill-opacity=\"1\"/>\n",
       "<defs>\n",
       "  <clipPath id=\"clip0901\">\n",
       "    <rect x=\"480\" y=\"0\" width=\"1681\" height=\"1600\"/>\n",
       "  </clipPath>\n",
       "</defs>\n",
       "<polygon clip-path=\"url(#clip0900)\" points=\"\n",
       "251.149,1344.14 2321.26,1344.14 2321.26,143.592 251.149,143.592 \n",
       "  \" fill=\"#ffffff\" fill-rule=\"evenodd\" fill-opacity=\"1\"/>\n",
       "<defs>\n",
       "  <clipPath id=\"clip0902\">\n",
       "    <rect x=\"251\" y=\"143\" width=\"2071\" height=\"1202\"/>\n",
       "  </clipPath>\n",
       "</defs>\n",
       "<polyline clip-path=\"url(#clip0902)\" style=\"stroke:#000000; stroke-width:2; stroke-opacity:0.1; fill:none\" points=\"\n",
       "  594.909,1344.14 594.909,143.592 \n",
       "  \"/>\n",
       "<polyline clip-path=\"url(#clip0902)\" style=\"stroke:#000000; stroke-width:2; stroke-opacity:0.1; fill:none\" points=\"\n",
       "  1152.48,1344.14 1152.48,143.592 \n",
       "  \"/>\n",
       "<polyline clip-path=\"url(#clip0902)\" style=\"stroke:#000000; stroke-width:2; stroke-opacity:0.1; fill:none\" points=\"\n",
       "  1710.04,1344.14 1710.04,143.592 \n",
       "  \"/>\n",
       "<polyline clip-path=\"url(#clip0902)\" style=\"stroke:#000000; stroke-width:2; stroke-opacity:0.1; fill:none\" points=\"\n",
       "  2267.61,1344.14 2267.61,143.592 \n",
       "  \"/>\n",
       "<polyline clip-path=\"url(#clip0902)\" style=\"stroke:#000000; stroke-width:2; stroke-opacity:0.1; fill:none\" points=\"\n",
       "  251.149,1310.8 2321.26,1310.8 \n",
       "  \"/>\n",
       "<polyline clip-path=\"url(#clip0902)\" style=\"stroke:#000000; stroke-width:2; stroke-opacity:0.1; fill:none\" points=\"\n",
       "  251.149,1032.02 2321.26,1032.02 \n",
       "  \"/>\n",
       "<polyline clip-path=\"url(#clip0902)\" style=\"stroke:#000000; stroke-width:2; stroke-opacity:0.1; fill:none\" points=\"\n",
       "  251.149,753.234 2321.26,753.234 \n",
       "  \"/>\n",
       "<polyline clip-path=\"url(#clip0902)\" style=\"stroke:#000000; stroke-width:2; stroke-opacity:0.1; fill:none\" points=\"\n",
       "  251.149,474.451 2321.26,474.451 \n",
       "  \"/>\n",
       "<polyline clip-path=\"url(#clip0902)\" style=\"stroke:#000000; stroke-width:2; stroke-opacity:0.1; fill:none\" points=\"\n",
       "  251.149,195.667 2321.26,195.667 \n",
       "  \"/>\n",
       "<polyline clip-path=\"url(#clip0900)\" style=\"stroke:#000000; stroke-width:4; stroke-opacity:1; fill:none\" points=\"\n",
       "  251.149,1344.14 2321.26,1344.14 \n",
       "  \"/>\n",
       "<polyline clip-path=\"url(#clip0900)\" style=\"stroke:#000000; stroke-width:4; stroke-opacity:1; fill:none\" points=\"\n",
       "  251.149,1344.14 251.149,143.592 \n",
       "  \"/>\n",
       "<polyline clip-path=\"url(#clip0900)\" style=\"stroke:#000000; stroke-width:4; stroke-opacity:1; fill:none\" points=\"\n",
       "  594.909,1344.14 594.909,1326.13 \n",
       "  \"/>\n",
       "<polyline clip-path=\"url(#clip0900)\" style=\"stroke:#000000; stroke-width:4; stroke-opacity:1; fill:none\" points=\"\n",
       "  1152.48,1344.14 1152.48,1326.13 \n",
       "  \"/>\n",
       "<polyline clip-path=\"url(#clip0900)\" style=\"stroke:#000000; stroke-width:4; stroke-opacity:1; fill:none\" points=\"\n",
       "  1710.04,1344.14 1710.04,1326.13 \n",
       "  \"/>\n",
       "<polyline clip-path=\"url(#clip0900)\" style=\"stroke:#000000; stroke-width:4; stroke-opacity:1; fill:none\" points=\"\n",
       "  2267.61,1344.14 2267.61,1326.13 \n",
       "  \"/>\n",
       "<polyline clip-path=\"url(#clip0900)\" style=\"stroke:#000000; stroke-width:4; stroke-opacity:1; fill:none\" points=\"\n",
       "  251.149,1310.8 282.2,1310.8 \n",
       "  \"/>\n",
       "<polyline clip-path=\"url(#clip0900)\" style=\"stroke:#000000; stroke-width:4; stroke-opacity:1; fill:none\" points=\"\n",
       "  251.149,1032.02 282.2,1032.02 \n",
       "  \"/>\n",
       "<polyline clip-path=\"url(#clip0900)\" style=\"stroke:#000000; stroke-width:4; stroke-opacity:1; fill:none\" points=\"\n",
       "  251.149,753.234 282.2,753.234 \n",
       "  \"/>\n",
       "<polyline clip-path=\"url(#clip0900)\" style=\"stroke:#000000; stroke-width:4; stroke-opacity:1; fill:none\" points=\"\n",
       "  251.149,474.451 282.2,474.451 \n",
       "  \"/>\n",
       "<polyline clip-path=\"url(#clip0900)\" style=\"stroke:#000000; stroke-width:4; stroke-opacity:1; fill:none\" points=\"\n",
       "  251.149,195.667 282.2,195.667 \n",
       "  \"/>\n",
       "<g clip-path=\"url(#clip0900)\">\n",
       "<text style=\"fill:#000000; fill-opacity:1; font-family:Arial,Helvetica Neue,Helvetica,sans-serif; font-size:48px; text-anchor:middle;\" transform=\"rotate(0, 594.909, 1398.14)\" x=\"594.909\" y=\"1398.14\">1.3</text>\n",
       "</g>\n",
       "<g clip-path=\"url(#clip0900)\">\n",
       "<text style=\"fill:#000000; fill-opacity:1; font-family:Arial,Helvetica Neue,Helvetica,sans-serif; font-size:48px; text-anchor:middle;\" transform=\"rotate(0, 1152.48, 1398.14)\" x=\"1152.48\" y=\"1398.14\">1.4</text>\n",
       "</g>\n",
       "<g clip-path=\"url(#clip0900)\">\n",
       "<text style=\"fill:#000000; fill-opacity:1; font-family:Arial,Helvetica Neue,Helvetica,sans-serif; font-size:48px; text-anchor:middle;\" transform=\"rotate(0, 1710.04, 1398.14)\" x=\"1710.04\" y=\"1398.14\">1.5</text>\n",
       "</g>\n",
       "<g clip-path=\"url(#clip0900)\">\n",
       "<text style=\"fill:#000000; fill-opacity:1; font-family:Arial,Helvetica Neue,Helvetica,sans-serif; font-size:48px; text-anchor:middle;\" transform=\"rotate(0, 2267.61, 1398.14)\" x=\"2267.61\" y=\"1398.14\">1.6</text>\n",
       "</g>\n",
       "<g clip-path=\"url(#clip0900)\">\n",
       "<text style=\"fill:#000000; fill-opacity:1; font-family:Arial,Helvetica Neue,Helvetica,sans-serif; font-size:48px; text-anchor:end;\" transform=\"rotate(0, 227.149, 1328.3)\" x=\"227.149\" y=\"1328.3\">2.25</text>\n",
       "</g>\n",
       "<g clip-path=\"url(#clip0900)\">\n",
       "<text style=\"fill:#000000; fill-opacity:1; font-family:Arial,Helvetica Neue,Helvetica,sans-serif; font-size:48px; text-anchor:end;\" transform=\"rotate(0, 227.149, 1049.52)\" x=\"227.149\" y=\"1049.52\">2.30</text>\n",
       "</g>\n",
       "<g clip-path=\"url(#clip0900)\">\n",
       "<text style=\"fill:#000000; fill-opacity:1; font-family:Arial,Helvetica Neue,Helvetica,sans-serif; font-size:48px; text-anchor:end;\" transform=\"rotate(0, 227.149, 770.734)\" x=\"227.149\" y=\"770.734\">2.35</text>\n",
       "</g>\n",
       "<g clip-path=\"url(#clip0900)\">\n",
       "<text style=\"fill:#000000; fill-opacity:1; font-family:Arial,Helvetica Neue,Helvetica,sans-serif; font-size:48px; text-anchor:end;\" transform=\"rotate(0, 227.149, 491.951)\" x=\"227.149\" y=\"491.951\">2.40</text>\n",
       "</g>\n",
       "<g clip-path=\"url(#clip0900)\">\n",
       "<text style=\"fill:#000000; fill-opacity:1; font-family:Arial,Helvetica Neue,Helvetica,sans-serif; font-size:48px; text-anchor:end;\" transform=\"rotate(0, 227.149, 213.167)\" x=\"227.149\" y=\"213.167\">2.45</text>\n",
       "</g>\n",
       "<g clip-path=\"url(#clip0900)\">\n",
       "<text style=\"fill:#000000; fill-opacity:1; font-family:Arial,Helvetica Neue,Helvetica,sans-serif; font-size:66px; text-anchor:middle;\" transform=\"rotate(0, 1286.2, 1590.4)\" x=\"1286.2\" y=\"1590.4\">x</text>\n",
       "</g>\n",
       "<g clip-path=\"url(#clip0900)\">\n",
       "<text style=\"fill:#000000; fill-opacity:1; font-family:Arial,Helvetica Neue,Helvetica,sans-serif; font-size:66px; text-anchor:middle;\" transform=\"rotate(-90, 128.749, 743.863)\" x=\"128.749\" y=\"743.863\">y</text>\n",
       "</g>\n",
       "<polygon clip-path=\"url(#clip0902)\" points=\"\n",
       "315.312,765.757 341.927,807.128 2016.25,807.128 2016.25,224.516 1989.64,183.145 315.312,183.145 315.312,765.757 \n",
       "  \" fill=\"#009af9\" fill-rule=\"evenodd\" fill-opacity=\"0.2\"/>\n",
       "<polyline clip-path=\"url(#clip0902)\" style=\"stroke:#000000; stroke-width:4; stroke-opacity:0.2; fill:none\" points=\"\n",
       "  315.312,765.757 341.927,807.128 2016.25,807.128 2016.25,224.516 1989.64,183.145 315.312,183.145 315.312,765.757 \n",
       "  \"/>\n",
       "<polygon clip-path=\"url(#clip0902)\" points=\"\n",
       "341.251,793.72 367.783,835.416 2041.27,861.261 2043.46,861.261 2043.46,279.621 2016.93,237.924 343.442,212.08 341.251,212.08 341.251,793.72 \n",
       "  \" fill=\"#009af9\" fill-rule=\"evenodd\" fill-opacity=\"0.2\"/>\n",
       "<polyline clip-path=\"url(#clip0902)\" style=\"stroke:#000000; stroke-width:4; stroke-opacity:0.2; fill:none\" points=\"\n",
       "  341.251,793.72 367.783,835.416 2041.27,861.261 2043.46,861.261 2043.46,279.621 2016.93,237.924 343.442,212.08 341.251,212.08 341.251,793.72 \n",
       "  \"/>\n",
       "<polygon clip-path=\"url(#clip0902)\" points=\"\n",
       "367.134,822.028 393.582,864.049 2066.99,915.684 2070.56,915.684 2070.56,335.029 2044.11,293.009 370.7,241.373 367.134,241.373 367.134,822.028 \n",
       "  \" fill=\"#009af9\" fill-rule=\"evenodd\" fill-opacity=\"0.2\"/>\n",
       "<polyline clip-path=\"url(#clip0902)\" style=\"stroke:#000000; stroke-width:4; stroke-opacity:0.2; fill:none\" points=\"\n",
       "  367.134,822.028 393.582,864.049 2066.99,915.684 2070.56,915.684 2070.56,335.029 2044.11,293.009 370.7,241.373 367.134,241.373 367.134,822.028 \n",
       "  \"/>\n",
       "<polygon clip-path=\"url(#clip0902)\" points=\"\n",
       "392.96,850.682 419.324,893.023 2092.61,970.396 2097.55,970.396 2097.55,390.737 2071.18,348.396 397.9,271.023 392.96,271.023 392.96,850.682 \n",
       "  \" fill=\"#009af9\" fill-rule=\"evenodd\" fill-opacity=\"0.2\"/>\n",
       "<polyline clip-path=\"url(#clip0902)\" style=\"stroke:#000000; stroke-width:4; stroke-opacity:0.2; fill:none\" points=\"\n",
       "  392.96,850.682 419.324,893.023 2092.61,970.396 2097.55,970.396 2097.55,390.737 2071.18,348.396 397.9,271.023 392.96,271.023 392.96,850.682 \n",
       "  \"/>\n",
       "<polygon clip-path=\"url(#clip0902)\" points=\"\n",
       "418.728,879.678 445.007,922.339 2118.11,1025.39 2124.42,1025.39 2124.42,446.744 2098.14,404.083 425.04,301.029 418.728,301.029 418.728,879.678 \n",
       "  \" fill=\"#009af9\" fill-rule=\"evenodd\" fill-opacity=\"0.2\"/>\n",
       "<polyline clip-path=\"url(#clip0902)\" style=\"stroke:#000000; stroke-width:4; stroke-opacity:0.2; fill:none\" points=\"\n",
       "  418.728,879.678 445.007,922.339 2118.11,1025.39 2124.42,1025.39 2124.42,446.744 2098.14,404.083 425.04,301.029 418.728,301.029 418.728,879.678 \n",
       "  \"/>\n",
       "<polygon clip-path=\"url(#clip0902)\" points=\"\n",
       "444.438,909.015 470.631,951.994 2143.5,1080.67 2151.18,1080.67 2151.18,503.046 2124.99,460.068 452.12,331.389 444.438,331.389 444.438,909.015 \n",
       "  \" fill=\"#009af9\" fill-rule=\"evenodd\" fill-opacity=\"0.2\"/>\n",
       "<polyline clip-path=\"url(#clip0902)\" style=\"stroke:#000000; stroke-width:4; stroke-opacity:0.2; fill:none\" points=\"\n",
       "  444.438,909.015 470.631,951.994 2143.5,1080.67 2151.18,1080.67 2151.18,503.046 2124.99,460.068 452.12,331.389 444.438,331.389 444.438,909.015 \n",
       "  \"/>\n",
       "<polygon clip-path=\"url(#clip0902)\" points=\"\n",
       "470.089,938.692 496.196,981.987 2168.78,1136.23 2177.83,1136.23 2177.83,559.642 2151.73,516.348 479.138,362.101 470.089,362.101 470.089,938.692 \n",
       "  \" fill=\"#009af9\" fill-rule=\"evenodd\" fill-opacity=\"0.2\"/>\n",
       "<polyline clip-path=\"url(#clip0902)\" style=\"stroke:#000000; stroke-width:4; stroke-opacity:0.2; fill:none\" points=\"\n",
       "  470.089,938.692 496.196,981.987 2168.78,1136.23 2177.83,1136.23 2177.83,559.642 2151.73,516.348 479.138,362.101 470.089,362.101 470.089,938.692 \n",
       "  \"/>\n",
       "<polygon clip-path=\"url(#clip0902)\" points=\"\n",
       "495.68,968.708 521.7,1012.32 2193.95,1192.07 2204.37,1192.07 2204.37,616.53 2178.35,572.922 506.095,393.163 495.68,393.163 495.68,968.708 \n",
       "  \" fill=\"#009af9\" fill-rule=\"evenodd\" fill-opacity=\"0.2\"/>\n",
       "<polyline clip-path=\"url(#clip0902)\" style=\"stroke:#000000; stroke-width:4; stroke-opacity:0.2; fill:none\" points=\"\n",
       "  495.68,968.708 521.7,1012.32 2193.95,1192.07 2204.37,1192.07 2204.37,616.53 2178.35,572.922 506.095,393.163 495.68,393.163 495.68,968.708 \n",
       "  \"/>\n",
       "<polygon clip-path=\"url(#clip0902)\" points=\"\n",
       "521.211,999.059 547.144,1042.98 2219.01,1248.19 2230.79,1248.19 2230.79,673.706 2204.86,629.786 532.989,424.574 521.211,424.574 521.211,999.059 \n",
       "  \" fill=\"#009af9\" fill-rule=\"evenodd\" fill-opacity=\"0.2\"/>\n",
       "<polyline clip-path=\"url(#clip0902)\" style=\"stroke:#000000; stroke-width:4; stroke-opacity:0.2; fill:none\" points=\"\n",
       "  521.211,999.059 547.144,1042.98 2219.01,1248.19 2230.79,1248.19 2230.79,673.706 2204.86,629.786 532.989,424.574 521.211,424.574 521.211,999.059 \n",
       "  \"/>\n",
       "<polygon clip-path=\"url(#clip0902)\" points=\"\n",
       "546.681,1029.75 572.526,1073.97 2243.96,1304.58 2257.1,1304.58 2257.1,731.168 2231.25,686.939 559.819,456.332 546.681,456.332 546.681,1029.75 \n",
       "  \" fill=\"#009af9\" fill-rule=\"evenodd\" fill-opacity=\"0.2\"/>\n",
       "<polyline clip-path=\"url(#clip0902)\" style=\"stroke:#000000; stroke-width:4; stroke-opacity:0.2; fill:none\" points=\"\n",
       "  546.681,1029.75 572.526,1073.97 2243.96,1304.58 2257.1,1304.58 2257.1,731.168 2231.25,686.939 559.819,456.332 546.681,456.332 546.681,1029.75 \n",
       "  \"/>\n",
       "<polygon clip-path=\"url(#clip0902)\" points=\"\n",
       "309.737,771.332 313.931,785.837 336.352,812.704 566.95,1079.55 574.5,1083.88 2238.38,1310.16 2262.67,1310.16 2262.67,721.334 2109.14,396.828 2023.55,221.973 \n",
       "  1998.4,177.569 309.737,177.569 309.737,771.332 309.737,771.332 \n",
       "  \" fill=\"#008000\" fill-rule=\"evenodd\" fill-opacity=\"0.2\"/>\n",
       "<polyline clip-path=\"url(#clip0902)\" style=\"stroke:#000000; stroke-width:4; stroke-opacity:0.2; fill:none\" points=\"\n",
       "  309.737,771.332 313.931,785.837 336.352,812.704 566.95,1079.55 574.5,1083.88 2238.38,1310.16 2262.67,1310.16 2262.67,721.334 2109.14,396.828 2023.55,221.973 \n",
       "  1998.4,177.569 309.737,177.569 309.737,771.332 \n",
       "  \"/>\n",
       "</svg>\n"
      ]
     },
     "execution_count": 30,
     "metadata": {},
     "output_type": "execute_result"
    }
   ],
   "source": [
    "plot(Rlin, alpha=.2) # flowpipe\n",
    "plot!(R̂lin, alpha=.2, 1e-3, xlab=\"x\", ylab=\"y\", color=\"green\") # flowpipe plus error R̄err "
   ]
  },
  {
   "cell_type": "markdown",
   "metadata": {},
   "source": [
    "We use `TaylorSeries.evaluate` to the bounding box of the Lagrangian using interval arithmetic."
   ]
  },
  {
   "cell_type": "code",
   "execution_count": 31,
   "metadata": {},
   "outputs": [
    {
     "data": {
      "image/svg+xml": [
       "<?xml version=\"1.0\" encoding=\"utf-8\"?>\n",
       "<svg xmlns=\"http://www.w3.org/2000/svg\" xmlns:xlink=\"http://www.w3.org/1999/xlink\" width=\"600\" height=\"400\" viewBox=\"0 0 2400 1600\">\n",
       "<defs>\n",
       "  <clipPath id=\"clip1300\">\n",
       "    <rect x=\"0\" y=\"0\" width=\"2400\" height=\"1600\"/>\n",
       "  </clipPath>\n",
       "</defs>\n",
       "<polygon clip-path=\"url(#clip1300)\" points=\"\n",
       "0,1600 2400,1600 2400,0 0,0 \n",
       "  \" fill=\"#ffffff\" fill-rule=\"evenodd\" fill-opacity=\"1\"/>\n",
       "<defs>\n",
       "  <clipPath id=\"clip1301\">\n",
       "    <rect x=\"480\" y=\"0\" width=\"1681\" height=\"1600\"/>\n",
       "  </clipPath>\n",
       "</defs>\n",
       "<polygon clip-path=\"url(#clip1300)\" points=\"\n",
       "251.149,1344.14 2321.26,1344.14 2321.26,143.592 251.149,143.592 \n",
       "  \" fill=\"#ffffff\" fill-rule=\"evenodd\" fill-opacity=\"1\"/>\n",
       "<defs>\n",
       "  <clipPath id=\"clip1302\">\n",
       "    <rect x=\"251\" y=\"143\" width=\"2071\" height=\"1202\"/>\n",
       "  </clipPath>\n",
       "</defs>\n",
       "<polyline clip-path=\"url(#clip1302)\" style=\"stroke:#000000; stroke-width:2; stroke-opacity:0.1; fill:none\" points=\"\n",
       "  594.909,1344.14 594.909,143.592 \n",
       "  \"/>\n",
       "<polyline clip-path=\"url(#clip1302)\" style=\"stroke:#000000; stroke-width:2; stroke-opacity:0.1; fill:none\" points=\"\n",
       "  1152.48,1344.14 1152.48,143.592 \n",
       "  \"/>\n",
       "<polyline clip-path=\"url(#clip1302)\" style=\"stroke:#000000; stroke-width:2; stroke-opacity:0.1; fill:none\" points=\"\n",
       "  1710.04,1344.14 1710.04,143.592 \n",
       "  \"/>\n",
       "<polyline clip-path=\"url(#clip1302)\" style=\"stroke:#000000; stroke-width:2; stroke-opacity:0.1; fill:none\" points=\"\n",
       "  2267.61,1344.14 2267.61,143.592 \n",
       "  \"/>\n",
       "<polyline clip-path=\"url(#clip1302)\" style=\"stroke:#000000; stroke-width:2; stroke-opacity:0.1; fill:none\" points=\"\n",
       "  251.149,1310.8 2321.26,1310.8 \n",
       "  \"/>\n",
       "<polyline clip-path=\"url(#clip1302)\" style=\"stroke:#000000; stroke-width:2; stroke-opacity:0.1; fill:none\" points=\"\n",
       "  251.149,1032.02 2321.26,1032.02 \n",
       "  \"/>\n",
       "<polyline clip-path=\"url(#clip1302)\" style=\"stroke:#000000; stroke-width:2; stroke-opacity:0.1; fill:none\" points=\"\n",
       "  251.149,753.234 2321.26,753.234 \n",
       "  \"/>\n",
       "<polyline clip-path=\"url(#clip1302)\" style=\"stroke:#000000; stroke-width:2; stroke-opacity:0.1; fill:none\" points=\"\n",
       "  251.149,474.451 2321.26,474.451 \n",
       "  \"/>\n",
       "<polyline clip-path=\"url(#clip1302)\" style=\"stroke:#000000; stroke-width:2; stroke-opacity:0.1; fill:none\" points=\"\n",
       "  251.149,195.667 2321.26,195.667 \n",
       "  \"/>\n",
       "<polyline clip-path=\"url(#clip1300)\" style=\"stroke:#000000; stroke-width:4; stroke-opacity:1; fill:none\" points=\"\n",
       "  251.149,1344.14 2321.26,1344.14 \n",
       "  \"/>\n",
       "<polyline clip-path=\"url(#clip1300)\" style=\"stroke:#000000; stroke-width:4; stroke-opacity:1; fill:none\" points=\"\n",
       "  251.149,1344.14 251.149,143.592 \n",
       "  \"/>\n",
       "<polyline clip-path=\"url(#clip1300)\" style=\"stroke:#000000; stroke-width:4; stroke-opacity:1; fill:none\" points=\"\n",
       "  594.909,1344.14 594.909,1326.13 \n",
       "  \"/>\n",
       "<polyline clip-path=\"url(#clip1300)\" style=\"stroke:#000000; stroke-width:4; stroke-opacity:1; fill:none\" points=\"\n",
       "  1152.48,1344.14 1152.48,1326.13 \n",
       "  \"/>\n",
       "<polyline clip-path=\"url(#clip1300)\" style=\"stroke:#000000; stroke-width:4; stroke-opacity:1; fill:none\" points=\"\n",
       "  1710.04,1344.14 1710.04,1326.13 \n",
       "  \"/>\n",
       "<polyline clip-path=\"url(#clip1300)\" style=\"stroke:#000000; stroke-width:4; stroke-opacity:1; fill:none\" points=\"\n",
       "  2267.61,1344.14 2267.61,1326.13 \n",
       "  \"/>\n",
       "<polyline clip-path=\"url(#clip1300)\" style=\"stroke:#000000; stroke-width:4; stroke-opacity:1; fill:none\" points=\"\n",
       "  251.149,1310.8 282.2,1310.8 \n",
       "  \"/>\n",
       "<polyline clip-path=\"url(#clip1300)\" style=\"stroke:#000000; stroke-width:4; stroke-opacity:1; fill:none\" points=\"\n",
       "  251.149,1032.02 282.2,1032.02 \n",
       "  \"/>\n",
       "<polyline clip-path=\"url(#clip1300)\" style=\"stroke:#000000; stroke-width:4; stroke-opacity:1; fill:none\" points=\"\n",
       "  251.149,753.234 282.2,753.234 \n",
       "  \"/>\n",
       "<polyline clip-path=\"url(#clip1300)\" style=\"stroke:#000000; stroke-width:4; stroke-opacity:1; fill:none\" points=\"\n",
       "  251.149,474.451 282.2,474.451 \n",
       "  \"/>\n",
       "<polyline clip-path=\"url(#clip1300)\" style=\"stroke:#000000; stroke-width:4; stroke-opacity:1; fill:none\" points=\"\n",
       "  251.149,195.667 282.2,195.667 \n",
       "  \"/>\n",
       "<g clip-path=\"url(#clip1300)\">\n",
       "<text style=\"fill:#000000; fill-opacity:1; font-family:Arial,Helvetica Neue,Helvetica,sans-serif; font-size:48px; text-anchor:middle;\" transform=\"rotate(0, 594.909, 1398.14)\" x=\"594.909\" y=\"1398.14\">1.3</text>\n",
       "</g>\n",
       "<g clip-path=\"url(#clip1300)\">\n",
       "<text style=\"fill:#000000; fill-opacity:1; font-family:Arial,Helvetica Neue,Helvetica,sans-serif; font-size:48px; text-anchor:middle;\" transform=\"rotate(0, 1152.48, 1398.14)\" x=\"1152.48\" y=\"1398.14\">1.4</text>\n",
       "</g>\n",
       "<g clip-path=\"url(#clip1300)\">\n",
       "<text style=\"fill:#000000; fill-opacity:1; font-family:Arial,Helvetica Neue,Helvetica,sans-serif; font-size:48px; text-anchor:middle;\" transform=\"rotate(0, 1710.04, 1398.14)\" x=\"1710.04\" y=\"1398.14\">1.5</text>\n",
       "</g>\n",
       "<g clip-path=\"url(#clip1300)\">\n",
       "<text style=\"fill:#000000; fill-opacity:1; font-family:Arial,Helvetica Neue,Helvetica,sans-serif; font-size:48px; text-anchor:middle;\" transform=\"rotate(0, 2267.61, 1398.14)\" x=\"2267.61\" y=\"1398.14\">1.6</text>\n",
       "</g>\n",
       "<g clip-path=\"url(#clip1300)\">\n",
       "<text style=\"fill:#000000; fill-opacity:1; font-family:Arial,Helvetica Neue,Helvetica,sans-serif; font-size:48px; text-anchor:end;\" transform=\"rotate(0, 227.149, 1328.3)\" x=\"227.149\" y=\"1328.3\">2.25</text>\n",
       "</g>\n",
       "<g clip-path=\"url(#clip1300)\">\n",
       "<text style=\"fill:#000000; fill-opacity:1; font-family:Arial,Helvetica Neue,Helvetica,sans-serif; font-size:48px; text-anchor:end;\" transform=\"rotate(0, 227.149, 1049.52)\" x=\"227.149\" y=\"1049.52\">2.30</text>\n",
       "</g>\n",
       "<g clip-path=\"url(#clip1300)\">\n",
       "<text style=\"fill:#000000; fill-opacity:1; font-family:Arial,Helvetica Neue,Helvetica,sans-serif; font-size:48px; text-anchor:end;\" transform=\"rotate(0, 227.149, 770.734)\" x=\"227.149\" y=\"770.734\">2.35</text>\n",
       "</g>\n",
       "<g clip-path=\"url(#clip1300)\">\n",
       "<text style=\"fill:#000000; fill-opacity:1; font-family:Arial,Helvetica Neue,Helvetica,sans-serif; font-size:48px; text-anchor:end;\" transform=\"rotate(0, 227.149, 491.951)\" x=\"227.149\" y=\"491.951\">2.40</text>\n",
       "</g>\n",
       "<g clip-path=\"url(#clip1300)\">\n",
       "<text style=\"fill:#000000; fill-opacity:1; font-family:Arial,Helvetica Neue,Helvetica,sans-serif; font-size:48px; text-anchor:end;\" transform=\"rotate(0, 227.149, 213.167)\" x=\"227.149\" y=\"213.167\">2.45</text>\n",
       "</g>\n",
       "<g clip-path=\"url(#clip1300)\">\n",
       "<text style=\"fill:#000000; fill-opacity:1; font-family:Arial,Helvetica Neue,Helvetica,sans-serif; font-size:66px; text-anchor:middle;\" transform=\"rotate(0, 1286.2, 1590.4)\" x=\"1286.2\" y=\"1590.4\">x</text>\n",
       "</g>\n",
       "<g clip-path=\"url(#clip1300)\">\n",
       "<text style=\"fill:#000000; fill-opacity:1; font-family:Arial,Helvetica Neue,Helvetica,sans-serif; font-size:66px; text-anchor:middle;\" transform=\"rotate(-90, 128.749, 743.863)\" x=\"128.749\" y=\"743.863\">y</text>\n",
       "</g>\n",
       "<polygon clip-path=\"url(#clip1302)\" points=\"\n",
       "315.312,765.757 341.927,807.128 2016.25,807.128 2016.25,224.516 1989.64,183.145 315.312,183.145 315.312,765.757 \n",
       "  \" fill=\"#009af9\" fill-rule=\"evenodd\" fill-opacity=\"0.2\"/>\n",
       "<polyline clip-path=\"url(#clip1302)\" style=\"stroke:#000000; stroke-width:4; stroke-opacity:0.2; fill:none\" points=\"\n",
       "  315.312,765.757 341.927,807.128 2016.25,807.128 2016.25,224.516 1989.64,183.145 315.312,183.145 315.312,765.757 \n",
       "  \"/>\n",
       "<polygon clip-path=\"url(#clip1302)\" points=\"\n",
       "341.251,793.72 367.783,835.416 2041.27,861.261 2043.46,861.261 2043.46,279.621 2016.93,237.924 343.442,212.08 341.251,212.08 341.251,793.72 \n",
       "  \" fill=\"#009af9\" fill-rule=\"evenodd\" fill-opacity=\"0.2\"/>\n",
       "<polyline clip-path=\"url(#clip1302)\" style=\"stroke:#000000; stroke-width:4; stroke-opacity:0.2; fill:none\" points=\"\n",
       "  341.251,793.72 367.783,835.416 2041.27,861.261 2043.46,861.261 2043.46,279.621 2016.93,237.924 343.442,212.08 341.251,212.08 341.251,793.72 \n",
       "  \"/>\n",
       "<polygon clip-path=\"url(#clip1302)\" points=\"\n",
       "367.134,822.028 393.582,864.049 2066.99,915.684 2070.56,915.684 2070.56,335.029 2044.11,293.009 370.7,241.373 367.134,241.373 367.134,822.028 \n",
       "  \" fill=\"#009af9\" fill-rule=\"evenodd\" fill-opacity=\"0.2\"/>\n",
       "<polyline clip-path=\"url(#clip1302)\" style=\"stroke:#000000; stroke-width:4; stroke-opacity:0.2; fill:none\" points=\"\n",
       "  367.134,822.028 393.582,864.049 2066.99,915.684 2070.56,915.684 2070.56,335.029 2044.11,293.009 370.7,241.373 367.134,241.373 367.134,822.028 \n",
       "  \"/>\n",
       "<polygon clip-path=\"url(#clip1302)\" points=\"\n",
       "392.96,850.682 419.324,893.023 2092.61,970.396 2097.55,970.396 2097.55,390.737 2071.18,348.396 397.9,271.023 392.96,271.023 392.96,850.682 \n",
       "  \" fill=\"#009af9\" fill-rule=\"evenodd\" fill-opacity=\"0.2\"/>\n",
       "<polyline clip-path=\"url(#clip1302)\" style=\"stroke:#000000; stroke-width:4; stroke-opacity:0.2; fill:none\" points=\"\n",
       "  392.96,850.682 419.324,893.023 2092.61,970.396 2097.55,970.396 2097.55,390.737 2071.18,348.396 397.9,271.023 392.96,271.023 392.96,850.682 \n",
       "  \"/>\n",
       "<polygon clip-path=\"url(#clip1302)\" points=\"\n",
       "418.728,879.678 445.007,922.339 2118.11,1025.39 2124.42,1025.39 2124.42,446.744 2098.14,404.083 425.04,301.029 418.728,301.029 418.728,879.678 \n",
       "  \" fill=\"#009af9\" fill-rule=\"evenodd\" fill-opacity=\"0.2\"/>\n",
       "<polyline clip-path=\"url(#clip1302)\" style=\"stroke:#000000; stroke-width:4; stroke-opacity:0.2; fill:none\" points=\"\n",
       "  418.728,879.678 445.007,922.339 2118.11,1025.39 2124.42,1025.39 2124.42,446.744 2098.14,404.083 425.04,301.029 418.728,301.029 418.728,879.678 \n",
       "  \"/>\n",
       "<polygon clip-path=\"url(#clip1302)\" points=\"\n",
       "444.438,909.015 470.631,951.994 2143.5,1080.67 2151.18,1080.67 2151.18,503.046 2124.99,460.068 452.12,331.389 444.438,331.389 444.438,909.015 \n",
       "  \" fill=\"#009af9\" fill-rule=\"evenodd\" fill-opacity=\"0.2\"/>\n",
       "<polyline clip-path=\"url(#clip1302)\" style=\"stroke:#000000; stroke-width:4; stroke-opacity:0.2; fill:none\" points=\"\n",
       "  444.438,909.015 470.631,951.994 2143.5,1080.67 2151.18,1080.67 2151.18,503.046 2124.99,460.068 452.12,331.389 444.438,331.389 444.438,909.015 \n",
       "  \"/>\n",
       "<polygon clip-path=\"url(#clip1302)\" points=\"\n",
       "470.089,938.692 496.196,981.987 2168.78,1136.23 2177.83,1136.23 2177.83,559.642 2151.73,516.348 479.138,362.101 470.089,362.101 470.089,938.692 \n",
       "  \" fill=\"#009af9\" fill-rule=\"evenodd\" fill-opacity=\"0.2\"/>\n",
       "<polyline clip-path=\"url(#clip1302)\" style=\"stroke:#000000; stroke-width:4; stroke-opacity:0.2; fill:none\" points=\"\n",
       "  470.089,938.692 496.196,981.987 2168.78,1136.23 2177.83,1136.23 2177.83,559.642 2151.73,516.348 479.138,362.101 470.089,362.101 470.089,938.692 \n",
       "  \"/>\n",
       "<polygon clip-path=\"url(#clip1302)\" points=\"\n",
       "495.68,968.708 521.7,1012.32 2193.95,1192.07 2204.37,1192.07 2204.37,616.53 2178.35,572.922 506.095,393.163 495.68,393.163 495.68,968.708 \n",
       "  \" fill=\"#009af9\" fill-rule=\"evenodd\" fill-opacity=\"0.2\"/>\n",
       "<polyline clip-path=\"url(#clip1302)\" style=\"stroke:#000000; stroke-width:4; stroke-opacity:0.2; fill:none\" points=\"\n",
       "  495.68,968.708 521.7,1012.32 2193.95,1192.07 2204.37,1192.07 2204.37,616.53 2178.35,572.922 506.095,393.163 495.68,393.163 495.68,968.708 \n",
       "  \"/>\n",
       "<polygon clip-path=\"url(#clip1302)\" points=\"\n",
       "521.211,999.059 547.144,1042.98 2219.01,1248.19 2230.79,1248.19 2230.79,673.706 2204.86,629.786 532.989,424.574 521.211,424.574 521.211,999.059 \n",
       "  \" fill=\"#009af9\" fill-rule=\"evenodd\" fill-opacity=\"0.2\"/>\n",
       "<polyline clip-path=\"url(#clip1302)\" style=\"stroke:#000000; stroke-width:4; stroke-opacity:0.2; fill:none\" points=\"\n",
       "  521.211,999.059 547.144,1042.98 2219.01,1248.19 2230.79,1248.19 2230.79,673.706 2204.86,629.786 532.989,424.574 521.211,424.574 521.211,999.059 \n",
       "  \"/>\n",
       "<polygon clip-path=\"url(#clip1302)\" points=\"\n",
       "546.681,1029.75 572.526,1073.97 2243.96,1304.58 2257.1,1304.58 2257.1,731.168 2231.25,686.939 559.819,456.332 546.681,456.332 546.681,1029.75 \n",
       "  \" fill=\"#009af9\" fill-rule=\"evenodd\" fill-opacity=\"0.2\"/>\n",
       "<polyline clip-path=\"url(#clip1302)\" style=\"stroke:#000000; stroke-width:4; stroke-opacity:0.2; fill:none\" points=\"\n",
       "  546.681,1029.75 572.526,1073.97 2243.96,1304.58 2257.1,1304.58 2257.1,731.168 2231.25,686.939 559.819,456.332 546.681,456.332 546.681,1029.75 \n",
       "  \"/>\n",
       "<polygon clip-path=\"url(#clip1302)\" points=\"\n",
       "309.737,771.332 313.931,785.837 336.352,812.704 566.95,1079.55 574.5,1083.88 2238.38,1310.16 2262.67,1310.16 2262.67,721.334 2109.14,396.828 2023.55,221.973 \n",
       "  1998.4,177.569 309.737,177.569 309.737,771.332 309.737,771.332 \n",
       "  \" fill=\"#008000\" fill-rule=\"evenodd\" fill-opacity=\"0.2\"/>\n",
       "<polyline clip-path=\"url(#clip1302)\" style=\"stroke:#000000; stroke-width:4; stroke-opacity:0.2; fill:none\" points=\"\n",
       "  309.737,771.332 313.931,785.837 336.352,812.704 566.95,1079.55 574.5,1083.88 2238.38,1310.16 2262.67,1310.16 2262.67,721.334 2109.14,396.828 2023.55,221.973 \n",
       "  1998.4,177.569 309.737,177.569 309.737,771.332 \n",
       "  \"/>\n",
       "<polygon clip-path=\"url(#clip1302)\" points=\"\n",
       "309.737,1310.16 2262.67,1310.16 2262.67,177.569 309.737,177.569 309.737,1310.16 309.737,1310.16 \n",
       "  \" fill=\"#808080\" fill-rule=\"evenodd\" fill-opacity=\"0.2\"/>\n",
       "<polyline clip-path=\"url(#clip1302)\" style=\"stroke:#000000; stroke-width:4; stroke-opacity:0.2; fill:none\" points=\"\n",
       "  309.737,1310.16 2262.67,1310.16 2262.67,177.569 309.737,177.569 309.737,1310.16 \n",
       "  \"/>\n",
       "</svg>\n"
      ]
     },
     "execution_count": 31,
     "metadata": {},
     "output_type": "execute_result"
    }
   ],
   "source": [
    "R̂lin_rect = overapproximate(R̂lin, Hyperrectangle)\n",
    "plot!(R̂lin_rect, color=\"grey\", alpha=.2)"
   ]
  },
  {
   "cell_type": "code",
   "execution_count": 32,
   "metadata": {
    "scrolled": true
   },
   "outputs": [
    {
     "data": {
      "text/plain": [
       "[1.24885, 1.59912] × [2.25011, 2.45325]"
      ]
     },
     "execution_count": 32,
     "metadata": {},
     "output_type": "execute_result"
    }
   ],
   "source": [
    "R̂lin_box = convert(IntervalBox, R̂lin_rect)"
   ]
  },
  {
   "cell_type": "code",
   "execution_count": 33,
   "metadata": {},
   "outputs": [
    {
     "data": {
      "text/plain": [
       "2×2 Array{TaylorN{Float64},2}:\n",
       "  - 2.0 x₂ + 𝒪(‖x‖⁵)   - 2.0 x₁ + 𝒪(‖x‖⁵)\n",
       "  - 2.0 x₁ + 𝒪(‖x‖⁵)        0.0 + 𝒪(‖x‖⁵)"
      ]
     },
     "execution_count": 33,
     "metadata": {},
     "output_type": "execute_result"
    }
   ],
   "source": [
    "Hf₂"
   ]
  },
  {
   "cell_type": "code",
   "execution_count": 34,
   "metadata": {},
   "outputs": [
    {
     "data": {
      "text/plain": [
       "[-4.9065, -4.50023]"
      ]
     },
     "execution_count": 34,
     "metadata": {},
     "output_type": "execute_result"
    }
   ],
   "source": [
    "evaluate(Hf₂[1], R̂lin_box)"
   ]
  },
  {
   "cell_type": "code",
   "execution_count": 35,
   "metadata": {},
   "outputs": [
    {
     "data": {
      "text/plain": [
       "[1.24885, 1.59912] × [2.25011, 2.45325]"
      ]
     },
     "execution_count": 35,
     "metadata": {},
     "output_type": "execute_result"
    }
   ],
   "source": [
    "ξ = CH(Singleton(x̃), R̂lin_rect)\n",
    "ξ_rect = overapproximate(ξ, Hyperrectangle)\n",
    "ξ_box = convert(IntervalBox, ξ_rect)"
   ]
  },
  {
   "cell_type": "markdown",
   "metadata": {},
   "source": [
    "Note that we could take the box overapproximation only after having taken the convex hull:"
   ]
  },
  {
   "cell_type": "code",
   "execution_count": 36,
   "metadata": {},
   "outputs": [
    {
     "data": {
      "text/plain": [
       "[1.24885, 1.59912] × [2.25011, 2.45325]"
      ]
     },
     "execution_count": 36,
     "metadata": {},
     "output_type": "execute_result"
    }
   ],
   "source": [
    "ξ2 = CH(Singleton(x̃), R̂lin) # here R̂lin is not necessarily a box\n",
    "ξ2_rect = overapproximate(ξ2, Hyperrectangle)\n",
    "ξ2_box = convert(IntervalBox, ξ2_rect)"
   ]
  },
  {
   "cell_type": "markdown",
   "metadata": {},
   "source": [
    "In this case the computations yield the same result though."
   ]
  },
  {
   "cell_type": "code",
   "execution_count": 37,
   "metadata": {},
   "outputs": [
    {
     "data": {
      "image/svg+xml": [
       "<?xml version=\"1.0\" encoding=\"utf-8\"?>\n",
       "<svg xmlns=\"http://www.w3.org/2000/svg\" xmlns:xlink=\"http://www.w3.org/1999/xlink\" width=\"600\" height=\"400\" viewBox=\"0 0 2400 1600\">\n",
       "<defs>\n",
       "  <clipPath id=\"clip1700\">\n",
       "    <rect x=\"0\" y=\"0\" width=\"2400\" height=\"1600\"/>\n",
       "  </clipPath>\n",
       "</defs>\n",
       "<polygon clip-path=\"url(#clip1700)\" points=\"\n",
       "0,1600 2400,1600 2400,0 0,0 \n",
       "  \" fill=\"#ffffff\" fill-rule=\"evenodd\" fill-opacity=\"1\"/>\n",
       "<defs>\n",
       "  <clipPath id=\"clip1701\">\n",
       "    <rect x=\"480\" y=\"0\" width=\"1681\" height=\"1600\"/>\n",
       "  </clipPath>\n",
       "</defs>\n",
       "<polygon clip-path=\"url(#clip1700)\" points=\"\n",
       "188.156,1393.9 2321.26,1393.9 2321.26,156.822 188.156,156.822 \n",
       "  \" fill=\"#ffffff\" fill-rule=\"evenodd\" fill-opacity=\"1\"/>\n",
       "<defs>\n",
       "  <clipPath id=\"clip1702\">\n",
       "    <rect x=\"188\" y=\"156\" width=\"2134\" height=\"1238\"/>\n",
       "  </clipPath>\n",
       "</defs>\n",
       "<polyline clip-path=\"url(#clip1702)\" style=\"stroke:#000000; stroke-width:2; stroke-opacity:0.1; fill:none\" points=\"\n",
       "  542.377,1393.9 542.377,156.822 \n",
       "  \"/>\n",
       "<polyline clip-path=\"url(#clip1702)\" style=\"stroke:#000000; stroke-width:2; stroke-opacity:0.1; fill:none\" points=\"\n",
       "  1116.91,1393.9 1116.91,156.822 \n",
       "  \"/>\n",
       "<polyline clip-path=\"url(#clip1702)\" style=\"stroke:#000000; stroke-width:2; stroke-opacity:0.1; fill:none\" points=\"\n",
       "  1691.44,1393.9 1691.44,156.822 \n",
       "  \"/>\n",
       "<polyline clip-path=\"url(#clip1702)\" style=\"stroke:#000000; stroke-width:2; stroke-opacity:0.1; fill:none\" points=\"\n",
       "  2265.98,1393.9 2265.98,156.822 \n",
       "  \"/>\n",
       "<polyline clip-path=\"url(#clip1702)\" style=\"stroke:#000000; stroke-width:2; stroke-opacity:0.1; fill:none\" points=\"\n",
       "  188.156,1359.55 2321.26,1359.55 \n",
       "  \"/>\n",
       "<polyline clip-path=\"url(#clip1702)\" style=\"stroke:#000000; stroke-width:2; stroke-opacity:0.1; fill:none\" points=\"\n",
       "  188.156,1072.28 2321.26,1072.28 \n",
       "  \"/>\n",
       "<polyline clip-path=\"url(#clip1702)\" style=\"stroke:#000000; stroke-width:2; stroke-opacity:0.1; fill:none\" points=\"\n",
       "  188.156,785.016 2321.26,785.016 \n",
       "  \"/>\n",
       "<polyline clip-path=\"url(#clip1702)\" style=\"stroke:#000000; stroke-width:2; stroke-opacity:0.1; fill:none\" points=\"\n",
       "  188.156,497.749 2321.26,497.749 \n",
       "  \"/>\n",
       "<polyline clip-path=\"url(#clip1702)\" style=\"stroke:#000000; stroke-width:2; stroke-opacity:0.1; fill:none\" points=\"\n",
       "  188.156,210.482 2321.26,210.482 \n",
       "  \"/>\n",
       "<polyline clip-path=\"url(#clip1700)\" style=\"stroke:#000000; stroke-width:4; stroke-opacity:1; fill:none\" points=\"\n",
       "  188.156,1393.9 2321.26,1393.9 \n",
       "  \"/>\n",
       "<polyline clip-path=\"url(#clip1700)\" style=\"stroke:#000000; stroke-width:4; stroke-opacity:1; fill:none\" points=\"\n",
       "  188.156,1393.9 188.156,156.822 \n",
       "  \"/>\n",
       "<polyline clip-path=\"url(#clip1700)\" style=\"stroke:#000000; stroke-width:4; stroke-opacity:1; fill:none\" points=\"\n",
       "  542.377,1393.9 542.377,1375.34 \n",
       "  \"/>\n",
       "<polyline clip-path=\"url(#clip1700)\" style=\"stroke:#000000; stroke-width:4; stroke-opacity:1; fill:none\" points=\"\n",
       "  1116.91,1393.9 1116.91,1375.34 \n",
       "  \"/>\n",
       "<polyline clip-path=\"url(#clip1700)\" style=\"stroke:#000000; stroke-width:4; stroke-opacity:1; fill:none\" points=\"\n",
       "  1691.44,1393.9 1691.44,1375.34 \n",
       "  \"/>\n",
       "<polyline clip-path=\"url(#clip1700)\" style=\"stroke:#000000; stroke-width:4; stroke-opacity:1; fill:none\" points=\"\n",
       "  2265.98,1393.9 2265.98,1375.34 \n",
       "  \"/>\n",
       "<polyline clip-path=\"url(#clip1700)\" style=\"stroke:#000000; stroke-width:4; stroke-opacity:1; fill:none\" points=\"\n",
       "  188.156,1359.55 220.153,1359.55 \n",
       "  \"/>\n",
       "<polyline clip-path=\"url(#clip1700)\" style=\"stroke:#000000; stroke-width:4; stroke-opacity:1; fill:none\" points=\"\n",
       "  188.156,1072.28 220.153,1072.28 \n",
       "  \"/>\n",
       "<polyline clip-path=\"url(#clip1700)\" style=\"stroke:#000000; stroke-width:4; stroke-opacity:1; fill:none\" points=\"\n",
       "  188.156,785.016 220.153,785.016 \n",
       "  \"/>\n",
       "<polyline clip-path=\"url(#clip1700)\" style=\"stroke:#000000; stroke-width:4; stroke-opacity:1; fill:none\" points=\"\n",
       "  188.156,497.749 220.153,497.749 \n",
       "  \"/>\n",
       "<polyline clip-path=\"url(#clip1700)\" style=\"stroke:#000000; stroke-width:4; stroke-opacity:1; fill:none\" points=\"\n",
       "  188.156,210.482 220.153,210.482 \n",
       "  \"/>\n",
       "<g clip-path=\"url(#clip1700)\">\n",
       "<text style=\"fill:#000000; fill-opacity:1; font-family:Arial,Helvetica Neue,Helvetica,sans-serif; font-size:48px; text-anchor:middle;\" transform=\"rotate(0, 542.377, 1447.9)\" x=\"542.377\" y=\"1447.9\">1.3</text>\n",
       "</g>\n",
       "<g clip-path=\"url(#clip1700)\">\n",
       "<text style=\"fill:#000000; fill-opacity:1; font-family:Arial,Helvetica Neue,Helvetica,sans-serif; font-size:48px; text-anchor:middle;\" transform=\"rotate(0, 1116.91, 1447.9)\" x=\"1116.91\" y=\"1447.9\">1.4</text>\n",
       "</g>\n",
       "<g clip-path=\"url(#clip1700)\">\n",
       "<text style=\"fill:#000000; fill-opacity:1; font-family:Arial,Helvetica Neue,Helvetica,sans-serif; font-size:48px; text-anchor:middle;\" transform=\"rotate(0, 1691.44, 1447.9)\" x=\"1691.44\" y=\"1447.9\">1.5</text>\n",
       "</g>\n",
       "<g clip-path=\"url(#clip1700)\">\n",
       "<text style=\"fill:#000000; fill-opacity:1; font-family:Arial,Helvetica Neue,Helvetica,sans-serif; font-size:48px; text-anchor:middle;\" transform=\"rotate(0, 2265.98, 1447.9)\" x=\"2265.98\" y=\"1447.9\">1.6</text>\n",
       "</g>\n",
       "<g clip-path=\"url(#clip1700)\">\n",
       "<text style=\"fill:#000000; fill-opacity:1; font-family:Arial,Helvetica Neue,Helvetica,sans-serif; font-size:48px; text-anchor:end;\" transform=\"rotate(0, 164.156, 1377.05)\" x=\"164.156\" y=\"1377.05\">2.25</text>\n",
       "</g>\n",
       "<g clip-path=\"url(#clip1700)\">\n",
       "<text style=\"fill:#000000; fill-opacity:1; font-family:Arial,Helvetica Neue,Helvetica,sans-serif; font-size:48px; text-anchor:end;\" transform=\"rotate(0, 164.156, 1089.78)\" x=\"164.156\" y=\"1089.78\">2.30</text>\n",
       "</g>\n",
       "<g clip-path=\"url(#clip1700)\">\n",
       "<text style=\"fill:#000000; fill-opacity:1; font-family:Arial,Helvetica Neue,Helvetica,sans-serif; font-size:48px; text-anchor:end;\" transform=\"rotate(0, 164.156, 802.516)\" x=\"164.156\" y=\"802.516\">2.35</text>\n",
       "</g>\n",
       "<g clip-path=\"url(#clip1700)\">\n",
       "<text style=\"fill:#000000; fill-opacity:1; font-family:Arial,Helvetica Neue,Helvetica,sans-serif; font-size:48px; text-anchor:end;\" transform=\"rotate(0, 164.156, 515.249)\" x=\"164.156\" y=\"515.249\">2.40</text>\n",
       "</g>\n",
       "<g clip-path=\"url(#clip1700)\">\n",
       "<text style=\"fill:#000000; fill-opacity:1; font-family:Arial,Helvetica Neue,Helvetica,sans-serif; font-size:48px; text-anchor:end;\" transform=\"rotate(0, 164.156, 227.982)\" x=\"164.156\" y=\"227.982\">2.45</text>\n",
       "</g>\n",
       "<polygon clip-path=\"url(#clip1702)\" points=\"\n",
       "248.527,803.664 252.849,818.611 275.952,846.294 513.568,1121.26 521.347,1125.72 2235.86,1358.89 2260.89,1358.89 2260.89,752.145 2102.69,417.764 2014.49,237.588 \n",
       "  1988.58,191.833 248.527,191.833 248.527,803.664 248.527,803.664 \n",
       "  \" fill=\"#009af9\" fill-rule=\"evenodd\" fill-opacity=\"0.5\"/>\n",
       "<polyline clip-path=\"url(#clip1702)\" style=\"stroke:#000000; stroke-width:4; stroke-opacity:0.5; fill:none\" points=\"\n",
       "  248.527,803.664 252.849,818.611 275.952,846.294 513.568,1121.26 521.347,1125.72 2235.86,1358.89 2260.89,1358.89 2260.89,752.145 2102.69,417.764 2014.49,237.588 \n",
       "  1988.58,191.833 248.527,191.833 248.527,803.664 \n",
       "  \"/>\n",
       "<polygon clip-path=\"url(#clip1702)\" points=\"\n",
       "248.527,1358.89 2260.89,1358.89 2260.89,191.833 248.527,191.833 248.527,1358.89 248.527,1358.89 \n",
       "  \" fill=\"#e26f46\" fill-rule=\"evenodd\" fill-opacity=\"0.4\"/>\n",
       "<polyline clip-path=\"url(#clip1702)\" style=\"stroke:#000000; stroke-width:4; stroke-opacity:0.4; fill:none\" points=\"\n",
       "  248.527,1358.89 2260.89,1358.89 2260.89,191.833 248.527,191.833 248.527,1358.89 \n",
       "  \"/>\n",
       "</svg>\n"
      ]
     },
     "execution_count": 37,
     "metadata": {},
     "output_type": "execute_result"
    }
   ],
   "source": [
    "plot(R̂lin, 1e-3)\n",
    "plot!(R̂lin_rect, alpha=.4)"
   ]
  },
  {
   "cell_type": "markdown",
   "metadata": {},
   "source": [
    "With the possible range of values of $\\xi$, we use interval arithmetics to estimate the Lagrangians $L_i$ for $i = 1, 2$:"
   ]
  },
  {
   "cell_type": "code",
   "execution_count": 38,
   "metadata": {},
   "outputs": [
    {
     "data": {
      "text/plain": [
       "2×2 Array{IntervalArithmetic.Interval{Float64},2}:\n",
       " [0, 0]  [0, 0]\n",
       " [0, 0]  [0, 0]"
      ]
     },
     "execution_count": 38,
     "metadata": {},
     "output_type": "execute_result"
    }
   ],
   "source": [
    "Hf₁_box = map(Hf_ij -> evaluate(Hf_ij, ξ_box), Hf[1])"
   ]
  },
  {
   "cell_type": "code",
   "execution_count": 39,
   "metadata": {},
   "outputs": [
    {
     "data": {
      "text/plain": [
       "2×2 Array{IntervalArithmetic.Interval{Float64},2}:\n",
       " [-4.9065, -4.50023]     [-3.19823, -2.4977]\n",
       " [-3.19823, -2.4977]  [0, 0]                "
      ]
     },
     "execution_count": 39,
     "metadata": {},
     "output_type": "execute_result"
    }
   ],
   "source": [
    "Hf₂_box = map(Hf_ij -> evaluate(Hf_ij, ξ_box), Hf[2])"
   ]
  },
  {
   "cell_type": "markdown",
   "metadata": {},
   "source": [
    "Now we need to perform the left and right multiplication by $(x-\\tilde{x})$, where $\\tilde{x}$ is a known singleton and $x \\in \\bar{R}^{lin}$."
   ]
  },
  {
   "cell_type": "code",
   "execution_count": 40,
   "metadata": {},
   "outputs": [
    {
     "data": {
      "text/plain": [
       "[1.24885, 1.59912] × [2.25011, 2.45325]"
      ]
     },
     "execution_count": 40,
     "metadata": {},
     "output_type": "execute_result"
    }
   ],
   "source": [
    "R̂lin_box"
   ]
  },
  {
   "cell_type": "code",
   "execution_count": 41,
   "metadata": {},
   "outputs": [
    {
     "data": {
      "text/plain": [
       "[1.24885, 1.59912]"
      ]
     },
     "execution_count": 41,
     "metadata": {},
     "output_type": "execute_result"
    }
   ],
   "source": [
    "R̂lin_box[1]"
   ]
  },
  {
   "cell_type": "code",
   "execution_count": 42,
   "metadata": {},
   "outputs": [
    {
     "data": {
      "text/plain": [
       "[2.25011, 2.45325]"
      ]
     },
     "execution_count": 42,
     "metadata": {},
     "output_type": "execute_result"
    }
   ],
   "source": [
    "R̂lin_box[2]"
   ]
  },
  {
   "cell_type": "code",
   "execution_count": 43,
   "metadata": {},
   "outputs": [
    {
     "data": {
      "text/plain": [
       "Hyperrectangle{Float64}([1.42398, 2.35168], [0.17513, 0.101565])"
      ]
     },
     "execution_count": 43,
     "metadata": {},
     "output_type": "execute_result"
    }
   ],
   "source": [
    "R̂lin_rect"
   ]
  },
  {
   "cell_type": "code",
   "execution_count": 44,
   "metadata": {},
   "outputs": [
    {
     "data": {
      "text/plain": [
       "[-1.424, 1.59912] × [-2.36297, 2.45325]"
      ]
     },
     "execution_count": 44,
     "metadata": {},
     "output_type": "execute_result"
    }
   ],
   "source": [
    "x̃_minus_x = box_approximation(CH(R̂lin_rect, Singleton(-x̃)))\n",
    "x̃_minus_x = convert(IntervalBox, x̃_minus_x)"
   ]
  },
  {
   "cell_type": "code",
   "execution_count": 45,
   "metadata": {},
   "outputs": [
    {
     "data": {
      "text/plain": [
       "2-element Array{IntervalArithmetic.Interval{Float64},1}:\n",
       " [0, 0]\n",
       " [0, 0]"
      ]
     },
     "execution_count": 45,
     "metadata": {},
     "output_type": "execute_result"
    }
   ],
   "source": [
    "L1_right = [Hf₁_box[1, 1] * x̃_minus_x[1] + Hf₁_box[1, 2] * x̃_minus_x[2],\n",
    "            Hf₁_box[2, 1] * x̃_minus_x[1] + Hf₁_box[2, 2] * x̃_minus_x[2]]"
   ]
  },
  {
   "cell_type": "code",
   "execution_count": 46,
   "metadata": {},
   "outputs": [
    {
     "data": {
      "text/plain": [
       "[-2.36297, 2.45325]"
      ]
     },
     "execution_count": 46,
     "metadata": {},
     "output_type": "execute_result"
    }
   ],
   "source": [
    "x̃_minus_x[2]"
   ]
  },
  {
   "cell_type": "code",
   "execution_count": 47,
   "metadata": {},
   "outputs": [
    {
     "data": {
      "text/plain": [
       "2-element Array{IntervalArithmetic.Interval{Float64},1}:\n",
       " [-15.6921, 14.5442] \n",
       "  [-5.11434, 4.55428]"
      ]
     },
     "execution_count": 47,
     "metadata": {},
     "output_type": "execute_result"
    }
   ],
   "source": [
    "L2_right = [Hf₂_box[1, 1] * x̃_minus_x[1] + Hf₂_box[1, 2] * x̃_minus_x[2],\n",
    "            Hf₂_box[2, 1] * x̃_minus_x[1] + Hf₂_box[2, 2] * x̃_minus_x[2]]"
   ]
  },
  {
   "cell_type": "code",
   "execution_count": 48,
   "metadata": {},
   "outputs": [
    {
     "data": {
      "text/plain": [
       "[0, 0]"
      ]
     },
     "execution_count": 48,
     "metadata": {},
     "output_type": "execute_result"
    }
   ],
   "source": [
    "L1 = 1/2 * (x̃_minus_x[1] * L1_right[1] + x̃_minus_x[2] * L1_right[2])"
   ]
  },
  {
   "cell_type": "code",
   "execution_count": 49,
   "metadata": {},
   "outputs": [
    {
     "data": {
      "text/plain": [
       "[-18.8201, 17.6714]"
      ]
     },
     "execution_count": 49,
     "metadata": {},
     "output_type": "execute_result"
    }
   ],
   "source": [
    "L2 = 1/2 * (x̃_minus_x[1] * L2_right[1] + x̃_minus_x[2] * L2_right[2])"
   ]
  },
  {
   "cell_type": "code",
   "execution_count": 50,
   "metadata": {},
   "outputs": [
    {
     "data": {
      "text/plain": [
       "Hyperrectangle{Float64}([0.0, -0.574364], [0.0, 18.2457])"
      ]
     },
     "execution_count": 50,
     "metadata": {},
     "output_type": "execute_result"
    }
   ],
   "source": [
    "L_box = IntervalBox(L1, L2)\n",
    "L = convert(Hyperrectangle, L_box)"
   ]
  },
  {
   "cell_type": "code",
   "execution_count": 51,
   "metadata": {},
   "outputs": [
    {
     "data": {
      "text/plain": [
       "18.2457090129616"
      ]
     },
     "execution_count": 51,
     "metadata": {},
     "output_type": "execute_result"
    }
   ],
   "source": [
    "LazySets.radius(L)"
   ]
  },
  {
   "cell_type": "code",
   "execution_count": 52,
   "metadata": {},
   "outputs": [
    {
     "data": {
      "text/plain": [
       "Interval{Float64,IntervalArithmetic.Interval{Float64}}([-15.6921, 14.5442])"
      ]
     },
     "execution_count": 52,
     "metadata": {},
     "output_type": "execute_result"
    }
   ],
   "source": [
    "i1 = LazySets.Interval(Hf₂_box[1, 1] * x̃_minus_x[1])\n",
    "i2 = LazySets.Interval(Hf₂_box[1, 2] * x̃_minus_x[2])\n",
    "overapproximate(i1 ⊕ i2, Interval) "
   ]
  },
  {
   "cell_type": "markdown",
   "metadata": {},
   "source": [
    "Now we try the zonotopic overapproximation from [Prop. 3.7, 1]. First we need to convert `R̂lin_rect` (cf. $\\hat{Z}$ in that reference) to a zonotope:"
   ]
  },
  {
   "cell_type": "code",
   "execution_count": 53,
   "metadata": {},
   "outputs": [
    {
     "data": {
      "text/plain": [
       "Zonotope{Float64}([1.42398, 2.35168], [0.17513 0.0; 0.0 0.101565])"
      ]
     },
     "execution_count": 53,
     "metadata": {},
     "output_type": "execute_result"
    }
   ],
   "source": [
    "R̂lin_zono = convert(Zonotope, R̂lin_rect)"
   ]
  },
  {
   "cell_type": "code",
   "execution_count": 54,
   "metadata": {},
   "outputs": [
    {
     "data": {
      "text/plain": [
       "2×1 Array{Float64,2}:\n",
       " 0.1751457657037332 \n",
       " 0.11284444073051958"
      ]
     },
     "execution_count": 54,
     "metadata": {},
     "output_type": "execute_result"
    }
   ],
   "source": [
    "γ = abs.(R̂lin_zono.center - x̃) + sum(abs.(R̂lin_zono.generators), dims=2)"
   ]
  },
  {
   "cell_type": "code",
   "execution_count": 55,
   "metadata": {},
   "outputs": [
    {
     "data": {
      "text/plain": [
       "[1.24885, 1.59912] × [2.25011, 2.45325]"
      ]
     },
     "execution_count": 55,
     "metadata": {},
     "output_type": "execute_result"
    }
   ],
   "source": [
    "ξ_box"
   ]
  },
  {
   "cell_type": "code",
   "execution_count": 56,
   "metadata": {},
   "outputs": [],
   "source": [
    "G = [sup.(abs.(Hf₁_box)),\n",
    "     sup.(abs.(Hf₂_box))];"
   ]
  },
  {
   "cell_type": "code",
   "execution_count": 57,
   "metadata": {},
   "outputs": [
    {
     "data": {
      "text/plain": [
       "2×2 Array{Float64,2}:\n",
       " 0.0  0.0\n",
       " 0.0  0.0"
      ]
     },
     "execution_count": 57,
     "metadata": {},
     "output_type": "execute_result"
    }
   ],
   "source": [
    "G[1]"
   ]
  },
  {
   "cell_type": "code",
   "execution_count": 58,
   "metadata": {},
   "outputs": [
    {
     "data": {
      "text/plain": [
       "2×2 Array{Float64,2}:\n",
       " 4.90649  3.19823\n",
       " 3.19823  0.0    "
      ]
     },
     "execution_count": 58,
     "metadata": {},
     "output_type": "execute_result"
    }
   ],
   "source": [
    "G[2]"
   ]
  },
  {
   "cell_type": "code",
   "execution_count": 59,
   "metadata": {},
   "outputs": [
    {
     "data": {
      "text/plain": [
       "2-element Array{Float64,1}:\n",
       " 0.0                \n",
       " 0.13846637725396366"
      ]
     },
     "execution_count": 59,
     "metadata": {},
     "output_type": "execute_result"
    }
   ],
   "source": [
    "li_zono = [(1/2 * transpose(γ) * G[i] * γ)[1, 1] for i in 1:2]"
   ]
  },
  {
   "cell_type": "markdown",
   "metadata": {},
   "source": [
    "The Lagrange remainder obtained with the zonotope method is finally:"
   ]
  },
  {
   "cell_type": "code",
   "execution_count": 60,
   "metadata": {},
   "outputs": [
    {
     "data": {
      "text/plain": [
       "Hyperrectangle{Float64}([0.0, 0.0], [0.0, 0.138466])"
      ]
     },
     "execution_count": 60,
     "metadata": {},
     "output_type": "execute_result"
    }
   ],
   "source": [
    "L_zono = Hyperrectangle(zeros(2), li_zono)"
   ]
  },
  {
   "cell_type": "code",
   "execution_count": 61,
   "metadata": {},
   "outputs": [
    {
     "data": {
      "text/plain": [
       "Hyperrectangle{Float64}([0.0, -0.574364], [0.0, 18.2457])"
      ]
     },
     "execution_count": 61,
     "metadata": {},
     "output_type": "execute_result"
    }
   ],
   "source": [
    "L"
   ]
  },
  {
   "cell_type": "markdown",
   "metadata": {},
   "source": [
    "We observe that the set computed using zonotopes is much tighter than the set using interval arithmetic naively."
   ]
  },
  {
   "cell_type": "markdown",
   "metadata": {},
   "source": [
    "### Inclusion check"
   ]
  },
  {
   "cell_type": "code",
   "execution_count": 62,
   "metadata": {},
   "outputs": [
    {
     "data": {
      "text/plain": [
       "Hyperrectangle{Float64}([0.0, 0.0], [0.0504888, 0.0543809])"
      ]
     },
     "execution_count": 62,
     "metadata": {},
     "output_type": "execute_result"
    }
   ],
   "source": [
    "L̄"
   ]
  },
  {
   "cell_type": "code",
   "execution_count": 63,
   "metadata": {
    "scrolled": true
   },
   "outputs": [
    {
     "data": {
      "text/plain": [
       "false"
      ]
     },
     "execution_count": 63,
     "metadata": {},
     "output_type": "execute_result"
    }
   ],
   "source": [
    "L ⊆ L̄"
   ]
  },
  {
   "cell_type": "code",
   "execution_count": 64,
   "metadata": {},
   "outputs": [
    {
     "data": {
      "text/plain": [
       "false"
      ]
     },
     "execution_count": 64,
     "metadata": {},
     "output_type": "execute_result"
    }
   ],
   "source": [
    "L_zono ⊆ L̄"
   ]
  },
  {
   "cell_type": "markdown",
   "metadata": {},
   "source": [
    "- if $L \\subseteq \\bar{L}$, then the linearization error is accepted and the reachable set is obtained by superposition of the reachable set without linearization error and the one due to the linearization error: $\\mathcal{R}(\\delta) = \\mathcal{R}^{lin}(\\delta) + \\mathcal{R}^{err}$ and $\\mathcal{R}([0, \\delta]) = \\mathcal{R}^{lin}([0, \\delta]) + \\mathcal{R}^{err}$\n",
    "\n",
    "- otherwise, the linearization error is not admissible, requiring the initial reachable set $\\mathcal{R}((k-1)\\delta))$; for the first step $X_0$ to be split into two reachable sets. Then we perform the reachable set computations for both of the newly obtained sets once more."
   ]
  },
  {
   "cell_type": "markdown",
   "metadata": {},
   "source": [
    "This operation is performed in the follow-up notebook `ZonotopesNonlinearReachAlgorithm`."
   ]
  }
 ],
 "metadata": {
  "@webio": {
   "lastCommId": null,
   "lastKernelId": null
  },
  "kernelspec": {
   "display_name": "Julia 1.1.0-rc2",
   "language": "julia",
   "name": "julia-1.1"
  },
  "language_info": {
   "file_extension": ".jl",
   "mimetype": "application/julia",
   "name": "julia",
   "version": "1.1.0"
  }
 },
 "nbformat": 4,
 "nbformat_minor": 2
}
