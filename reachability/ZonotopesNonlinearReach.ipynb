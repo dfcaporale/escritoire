{
 "cells": [
  {
   "cell_type": "markdown",
   "metadata": {},
   "source": [
    "### Introduction\n",
    "\n",
    "\n",
    "This notebook is a proof-of-principle implementation of the algorithm for reachability analysis of nonlinear systems using zonotopes presented in [1, Section 3], see also [2].\n",
    "\n",
    "---\n",
    "\n",
    "**References:**\n",
    "\n",
    "[1] Althoff, Matthias. Reachability analysis and its application to the safety\n",
    "assessment of autonomous cars. Diss. Technische Universität München, 2010.\n",
    "\n",
    "[2] M. Althoff, O. Stursberg, and M. Buss. [Reachability analysis of nonlinear systems with uncertain parameters using conservative linearization.](http://citeseerx.ist.psu.edu/viewdoc/download?doi=10.1.1.148.9110&rep=rep1&type=pdf) In Proc. of the 47th IEEE Conference on Decision and Control, pages 4042–4048, 2008."
   ]
  },
  {
   "cell_type": "code",
   "execution_count": 1,
   "metadata": {},
   "outputs": [
    {
     "data": {
      "text/plain": [
       "derivative (generic function with 10 methods)"
      ]
     },
     "execution_count": 1,
     "metadata": {},
     "output_type": "execute_result"
    }
   ],
   "source": [
    "# load packages\n",
    "\n",
    "using Plots\n",
    "\n",
    "using LazySets, MathematicalSystems, Reachability\n",
    "using Reachability: center\n",
    "using IntervalArithmetic, ValidatedNumerics\n",
    "using LazySets: Interval, translate\n",
    "using TaylorSeries\n",
    "using TaylorSeries: gradient, jacobian, hessian, derivative\n",
    "const ∂ = derivative"
   ]
  },
  {
   "cell_type": "markdown",
   "metadata": {},
   "source": [
    "### Assumptions\n",
    "\n",
    "To simplify the presentation let's assume that the ODE is autonomous and there is no input, ie. it is of the form $x'(t) = f(x(t))$ with $f : \\mathbb{R}^n \\mapsto \\mathbb{R}^n$ continuously differentiable."
   ]
  },
  {
   "cell_type": "markdown",
   "metadata": {},
   "source": [
    "### Running example\n",
    "\n",
    "To fix ideas we will use the Van der Pol ODE with $\\mu = 1$. It is given by the map $$f : (x_1, x_2) \\mapsto (x_2, x_2(1-x_1^2) - x_1),$$ with initial set given by $x_1(0) \\in [1.25, 1.55] $ and $x_2 \\in [2.35, 2.45]$ and time horizon $T = 7.0$ seconds."
   ]
  },
  {
   "cell_type": "markdown",
   "metadata": {},
   "source": [
    "We implement it as a vector of multivariate polynomials (`TaylorN`'s):"
   ]
  },
  {
   "cell_type": "code",
   "execution_count": 2,
   "metadata": {},
   "outputs": [
    {
     "data": {
      "text/plain": [
       "2-element Array{TaylorN{Float64},1}:\n",
       "  1.0 x₁ + 𝒪(‖x‖⁵)\n",
       "  1.0 x₂ + 𝒪(‖x‖⁵)"
      ]
     },
     "execution_count": 2,
     "metadata": {},
     "output_type": "execute_result"
    }
   ],
   "source": [
    "# number of Taylor terms considered in the linearization\n",
    "taylor_terms = 4\n",
    "\n",
    "# define the working variables and fix the max order in the Taylor series expansion\n",
    "x = set_variables(\"x\", numvars=2, order=taylor_terms)"
   ]
  },
  {
   "cell_type": "code",
   "execution_count": 3,
   "metadata": {},
   "outputs": [
    {
     "data": {
      "text/plain": [
       " - 1.0 x₁ + 1.0 x₂ - 1.0 x₁² x₂ + 𝒪(‖x‖⁵)"
      ]
     },
     "execution_count": 3,
     "metadata": {},
     "output_type": "execute_result"
    }
   ],
   "source": [
    "f = Vector{TaylorN{Float64}}(undef, 2)\n",
    "f[1] = x[2]\n",
    "f[2] = x[2] * (1-x[1]^2) - x[1]"
   ]
  },
  {
   "cell_type": "code",
   "execution_count": 4,
   "metadata": {},
   "outputs": [
    {
     "data": {
      "text/plain": [
       "InitialValueProblem{BlackBoxContinuousSystem{Array{TaylorN{Float64},1}},Hyperrectangle{Float64}}(BlackBoxContinuousSystem{Array{TaylorN{Float64},1}}(TaylorN{Float64}[ 1.0 x₂ + 𝒪(‖x‖⁵),  - 1.0 x₁ + 1.0 x₂ - 1.0 x₁² x₂ + 𝒪(‖x‖⁵)], 2), Hyperrectangle{Float64}([1.4, 2.4], [0.15, 0.05]))"
      ]
     },
     "execution_count": 4,
     "metadata": {},
     "output_type": "execute_result"
    }
   ],
   "source": [
    "𝑋₀ = Hyperrectangle(low=[1.25, 2.35], high=[1.55, 2.45])\n",
    "𝑆 = BlackBoxContinuousSystem(f, 2)\n",
    "𝑃 = InitialValueProblem(𝑆, 𝑋₀)"
   ]
  },
  {
   "cell_type": "markdown",
   "metadata": {},
   "source": [
    "### Linearization\n",
    "\n",
    "In this step we linearize the ODE $x'(t) = f(x(t))$ with a fixed step size $\\delta$ and compute:\n",
    "\n",
    "- $\\mathcal{R}^{lin}(\\delta)$, an overapproximation of the state reachable at time $\\delta$ of the linearized system,\n",
    "- $\\mathcal{R}^{lin}([0, \\delta])$, an overapproximation of the flowpipe in dense time $[0, \\delta]$ for the linearized system."
   ]
  },
  {
   "cell_type": "markdown",
   "metadata": {},
   "source": [
    "For $i = 1, 2$, recall that the *gradient* of the scalar field $f_i$ is the function $\\nabla f_i : (x_1, x_2) \\mapsto (\\partial_1 f_i, \\partial_2 f_i)$, where $\\partial_i$ is a shortcut for the partial derivative $\\dfrac{\\partial}{\\partial x_i}$. For higher order derivatives we use $\\partial_{ij\\ldots}$ for example $\\dfrac{\\partial^2 f_i}{\\partial x_1\\partial x_2} = \\partial^2_{12}f_i$.\n",
    "\n",
    "We can use the `gradient` function from `TaylorSeries` to compute a gradient symbolically. For our example, we obtain by differentiation that\n",
    "\n",
    "$$\n",
    "\\nabla f_1 = (0, 1) \\\\\n",
    "\\nabla f_2 = (-2x_1x_2 - 1, 1-x_1^2)\n",
    "$$\n",
    "\n",
    "Now let's compute it using `gradient`:"
   ]
  },
  {
   "cell_type": "code",
   "execution_count": 5,
   "metadata": {},
   "outputs": [],
   "source": [
    "∇f = [gradient(f[i]) for i in 1:2];"
   ]
  },
  {
   "cell_type": "code",
   "execution_count": 6,
   "metadata": {},
   "outputs": [
    {
     "data": {
      "text/plain": [
       "2-element Array{TaylorN{Float64},1}:\n",
       "  0.0 + 𝒪(‖x‖⁵)\n",
       "  1.0 + 𝒪(‖x‖⁵)"
      ]
     },
     "execution_count": 6,
     "metadata": {},
     "output_type": "execute_result"
    }
   ],
   "source": [
    "∇f[1]"
   ]
  },
  {
   "cell_type": "code",
   "execution_count": 7,
   "metadata": {},
   "outputs": [
    {
     "data": {
      "text/plain": [
       "2-element Array{TaylorN{Float64},1}:\n",
       "  - 1.0 - 2.0 x₁ x₂ + 𝒪(‖x‖⁵)\n",
       "      1.0 - 1.0 x₁² + 𝒪(‖x‖⁵)"
      ]
     },
     "execution_count": 7,
     "metadata": {},
     "output_type": "execute_result"
    }
   ],
   "source": [
    "∇f[2]"
   ]
  },
  {
   "cell_type": "markdown",
   "metadata": {},
   "source": [
    "The Taylor series expansion of the function $f(x)$ around point $x̃$ is:\n",
    "\n",
    "$$\n",
    "f_i(x) = f_i(x̃) + \\nabla f_i(x̃) \\cdot (x-x̃) + \\frac{1}{2} (x-x̃)^T H_{f_i}(x̃) (x-x̃) + \\ldots,\\qquad i = 1,2.\n",
    "$$\n",
    "\n",
    "There are different ways to account for the linearization error. If we consider the Lagrange remainder, then:\n",
    "$$\n",
    "f_i(x) = f_i(x̃) + \\nabla f_i(x̃) \\cdot (x-x̃) +  L_i(x, x̃),\n",
    "$$\n",
    "where the Lagrangian $L_i$ is defined as\n",
    "$$\n",
    "L_i(x, x̃) = \\frac{1}{2} (x-x̃)^T H_{f_i}(ξ) (x-x̃), \\qquad i = 1,2.\n",
    "$$\n",
    "where $ξ$ lives in the convex hull $ξ = CH(x̃, x) = \\{x̃ + \\alpha(x - x̃), \\alpha \\in [0, 1]\\}$."
   ]
  },
  {
   "cell_type": "markdown",
   "metadata": {},
   "source": [
    "The linearized function can be succintly written using the Jacobian matrix. Recall that the Jacobian matrix is such that $[J_f]_{ij} = \\partial_j f_i$ for $i, j = 1, 2$. Then \n",
    "\n",
    "$$\n",
    "f^{lin}(x) := f(x̃) + J_f(x̃) \\cdot (x-x̃) = A \\cdot x + b,\n",
    "$$\n",
    "where\n",
    "$$\n",
    "A := J_f(x̃),\\qquad b := f(x̃) - J_f(x̃) \\cdot x̃.\n",
    "$$"
   ]
  },
  {
   "cell_type": "code",
   "execution_count": 8,
   "metadata": {},
   "outputs": [
    {
     "data": {
      "text/plain": [
       "2×2 Array{TaylorN{Float64},2}:\n",
       "                0.0 + 𝒪(‖x‖⁵)             1.0 + 𝒪(‖x‖⁵)\n",
       "  - 1.0 - 2.0 x₁ x₂ + 𝒪(‖x‖⁵)   1.0 - 1.0 x₁² + 𝒪(‖x‖⁵)"
      ]
     },
     "execution_count": 8,
     "metadata": {},
     "output_type": "execute_result"
    }
   ],
   "source": [
    "# Jf = Matrix{TaylorN{Float64}}(undef, 2, 2)\n",
    "Jf = [∂(f[1], (1, 0)) ∂(f[1], (0, 1));\n",
    "      ∂(f[2], (1, 0)) ∂(f[2], (0, 1))]"
   ]
  },
  {
   "cell_type": "markdown",
   "metadata": {},
   "source": [
    "For the linearization point we use the shifted center of initial states, as in [1]:"
   ]
  },
  {
   "cell_type": "code",
   "execution_count": 9,
   "metadata": {},
   "outputs": [
    {
     "data": {
      "text/plain": [
       "2-element Array{Float64,1}:\n",
       " 1.46              \n",
       " 2.3074000000000003"
      ]
     },
     "execution_count": 9,
     "metadata": {},
     "output_type": "execute_result"
    }
   ],
   "source": [
    "δ = 0.05 # step size\n",
    "\n",
    "c = center(𝑋₀)\n",
    "x̃ = c + δ/2 * f(c)  # linearization point"
   ]
  },
  {
   "cell_type": "code",
   "execution_count": 10,
   "metadata": {},
   "outputs": [
    {
     "data": {
      "text/plain": [
       "false"
      ]
     },
     "execution_count": 10,
     "metadata": {},
     "output_type": "execute_result"
    }
   ],
   "source": [
    "x̃ ∈ 𝑋₀"
   ]
  },
  {
   "cell_type": "code",
   "execution_count": 11,
   "metadata": {},
   "outputs": [
    {
     "data": {
      "image/svg+xml": [
       "<?xml version=\"1.0\" encoding=\"utf-8\"?>\n",
       "<svg xmlns=\"http://www.w3.org/2000/svg\" xmlns:xlink=\"http://www.w3.org/1999/xlink\" width=\"600\" height=\"400\" viewBox=\"0 0 2400 1600\">\n",
       "<defs>\n",
       "  <clipPath id=\"clip6500\">\n",
       "    <rect x=\"0\" y=\"0\" width=\"2000\" height=\"2000\"/>\n",
       "  </clipPath>\n",
       "</defs>\n",
       "<defs>\n",
       "  <clipPath id=\"clip6501\">\n",
       "    <rect x=\"0\" y=\"0\" width=\"2400\" height=\"1600\"/>\n",
       "  </clipPath>\n",
       "</defs>\n",
       "<polygon clip-path=\"url(#clip6501)\" points=\"\n",
       "0,1600 2400,1600 2400,0 0,0 \n",
       "  \" fill=\"#ffffff\" fill-rule=\"evenodd\" fill-opacity=\"1\"/>\n",
       "<defs>\n",
       "  <clipPath id=\"clip6502\">\n",
       "    <rect x=\"480\" y=\"0\" width=\"1681\" height=\"1600\"/>\n",
       "  </clipPath>\n",
       "</defs>\n",
       "<polygon clip-path=\"url(#clip6501)\" points=\"\n",
       "188.156,1503.47 2321.26,1503.47 2321.26,47.2441 188.156,47.2441 \n",
       "  \" fill=\"#ffffff\" fill-rule=\"evenodd\" fill-opacity=\"1\"/>\n",
       "<defs>\n",
       "  <clipPath id=\"clip6503\">\n",
       "    <rect x=\"188\" y=\"47\" width=\"2134\" height=\"1457\"/>\n",
       "  </clipPath>\n",
       "</defs>\n",
       "<polyline clip-path=\"url(#clip6503)\" style=\"stroke:#000000; stroke-width:2; stroke-opacity:0.1; fill:none\" points=\"\n",
       "  248.527,1503.47 248.527,47.2441 \n",
       "  \"/>\n",
       "<polyline clip-path=\"url(#clip6503)\" style=\"stroke:#000000; stroke-width:2; stroke-opacity:0.1; fill:none\" points=\"\n",
       "  583.921,1503.47 583.921,47.2441 \n",
       "  \"/>\n",
       "<polyline clip-path=\"url(#clip6503)\" style=\"stroke:#000000; stroke-width:2; stroke-opacity:0.1; fill:none\" points=\"\n",
       "  919.314,1503.47 919.314,47.2441 \n",
       "  \"/>\n",
       "<polyline clip-path=\"url(#clip6503)\" style=\"stroke:#000000; stroke-width:2; stroke-opacity:0.1; fill:none\" points=\"\n",
       "  1254.71,1503.47 1254.71,47.2441 \n",
       "  \"/>\n",
       "<polyline clip-path=\"url(#clip6503)\" style=\"stroke:#000000; stroke-width:2; stroke-opacity:0.1; fill:none\" points=\"\n",
       "  1590.1,1503.47 1590.1,47.2441 \n",
       "  \"/>\n",
       "<polyline clip-path=\"url(#clip6503)\" style=\"stroke:#000000; stroke-width:2; stroke-opacity:0.1; fill:none\" points=\"\n",
       "  1925.5,1503.47 1925.5,47.2441 \n",
       "  \"/>\n",
       "<polyline clip-path=\"url(#clip6503)\" style=\"stroke:#000000; stroke-width:2; stroke-opacity:0.1; fill:none\" points=\"\n",
       "  2260.89,1503.47 2260.89,47.2441 \n",
       "  \"/>\n",
       "<polyline clip-path=\"url(#clip6503)\" style=\"stroke:#000000; stroke-width:2; stroke-opacity:0.1; fill:none\" points=\"\n",
       "  188.156,1340.87 2321.26,1340.87 \n",
       "  \"/>\n",
       "<polyline clip-path=\"url(#clip6503)\" style=\"stroke:#000000; stroke-width:2; stroke-opacity:0.1; fill:none\" points=\"\n",
       "  188.156,1148.19 2321.26,1148.19 \n",
       "  \"/>\n",
       "<polyline clip-path=\"url(#clip6503)\" style=\"stroke:#000000; stroke-width:2; stroke-opacity:0.1; fill:none\" points=\"\n",
       "  188.156,955.514 2321.26,955.514 \n",
       "  \"/>\n",
       "<polyline clip-path=\"url(#clip6503)\" style=\"stroke:#000000; stroke-width:2; stroke-opacity:0.1; fill:none\" points=\"\n",
       "  188.156,762.835 2321.26,762.835 \n",
       "  \"/>\n",
       "<polyline clip-path=\"url(#clip6503)\" style=\"stroke:#000000; stroke-width:2; stroke-opacity:0.1; fill:none\" points=\"\n",
       "  188.156,570.156 2321.26,570.156 \n",
       "  \"/>\n",
       "<polyline clip-path=\"url(#clip6503)\" style=\"stroke:#000000; stroke-width:2; stroke-opacity:0.1; fill:none\" points=\"\n",
       "  188.156,377.477 2321.26,377.477 \n",
       "  \"/>\n",
       "<polyline clip-path=\"url(#clip6503)\" style=\"stroke:#000000; stroke-width:2; stroke-opacity:0.1; fill:none\" points=\"\n",
       "  188.156,184.798 2321.26,184.798 \n",
       "  \"/>\n",
       "<polyline clip-path=\"url(#clip6501)\" style=\"stroke:#000000; stroke-width:4; stroke-opacity:1; fill:none\" points=\"\n",
       "  188.156,1503.47 2321.26,1503.47 \n",
       "  \"/>\n",
       "<polyline clip-path=\"url(#clip6501)\" style=\"stroke:#000000; stroke-width:4; stroke-opacity:1; fill:none\" points=\"\n",
       "  188.156,1503.47 188.156,47.2441 \n",
       "  \"/>\n",
       "<polyline clip-path=\"url(#clip6501)\" style=\"stroke:#000000; stroke-width:4; stroke-opacity:1; fill:none\" points=\"\n",
       "  248.527,1503.47 248.527,1481.63 \n",
       "  \"/>\n",
       "<polyline clip-path=\"url(#clip6501)\" style=\"stroke:#000000; stroke-width:4; stroke-opacity:1; fill:none\" points=\"\n",
       "  583.921,1503.47 583.921,1481.63 \n",
       "  \"/>\n",
       "<polyline clip-path=\"url(#clip6501)\" style=\"stroke:#000000; stroke-width:4; stroke-opacity:1; fill:none\" points=\"\n",
       "  919.314,1503.47 919.314,1481.63 \n",
       "  \"/>\n",
       "<polyline clip-path=\"url(#clip6501)\" style=\"stroke:#000000; stroke-width:4; stroke-opacity:1; fill:none\" points=\"\n",
       "  1254.71,1503.47 1254.71,1481.63 \n",
       "  \"/>\n",
       "<polyline clip-path=\"url(#clip6501)\" style=\"stroke:#000000; stroke-width:4; stroke-opacity:1; fill:none\" points=\"\n",
       "  1590.1,1503.47 1590.1,1481.63 \n",
       "  \"/>\n",
       "<polyline clip-path=\"url(#clip6501)\" style=\"stroke:#000000; stroke-width:4; stroke-opacity:1; fill:none\" points=\"\n",
       "  1925.5,1503.47 1925.5,1481.63 \n",
       "  \"/>\n",
       "<polyline clip-path=\"url(#clip6501)\" style=\"stroke:#000000; stroke-width:4; stroke-opacity:1; fill:none\" points=\"\n",
       "  2260.89,1503.47 2260.89,1481.63 \n",
       "  \"/>\n",
       "<polyline clip-path=\"url(#clip6501)\" style=\"stroke:#000000; stroke-width:4; stroke-opacity:1; fill:none\" points=\"\n",
       "  188.156,1340.87 220.153,1340.87 \n",
       "  \"/>\n",
       "<polyline clip-path=\"url(#clip6501)\" style=\"stroke:#000000; stroke-width:4; stroke-opacity:1; fill:none\" points=\"\n",
       "  188.156,1148.19 220.153,1148.19 \n",
       "  \"/>\n",
       "<polyline clip-path=\"url(#clip6501)\" style=\"stroke:#000000; stroke-width:4; stroke-opacity:1; fill:none\" points=\"\n",
       "  188.156,955.514 220.153,955.514 \n",
       "  \"/>\n",
       "<polyline clip-path=\"url(#clip6501)\" style=\"stroke:#000000; stroke-width:4; stroke-opacity:1; fill:none\" points=\"\n",
       "  188.156,762.835 220.153,762.835 \n",
       "  \"/>\n",
       "<polyline clip-path=\"url(#clip6501)\" style=\"stroke:#000000; stroke-width:4; stroke-opacity:1; fill:none\" points=\"\n",
       "  188.156,570.156 220.153,570.156 \n",
       "  \"/>\n",
       "<polyline clip-path=\"url(#clip6501)\" style=\"stroke:#000000; stroke-width:4; stroke-opacity:1; fill:none\" points=\"\n",
       "  188.156,377.477 220.153,377.477 \n",
       "  \"/>\n",
       "<polyline clip-path=\"url(#clip6501)\" style=\"stroke:#000000; stroke-width:4; stroke-opacity:1; fill:none\" points=\"\n",
       "  188.156,184.798 220.153,184.798 \n",
       "  \"/>\n",
       "<g clip-path=\"url(#clip6501)\">\n",
       "<text style=\"fill:#000000; fill-opacity:1; font-family:Arial,Helvetica Neue,Helvetica,sans-serif; font-size:48px; text-anchor:middle;\" transform=\"rotate(0, 248.527, 1557.47)\" x=\"248.527\" y=\"1557.47\">1.25</text>\n",
       "</g>\n",
       "<g clip-path=\"url(#clip6501)\">\n",
       "<text style=\"fill:#000000; fill-opacity:1; font-family:Arial,Helvetica Neue,Helvetica,sans-serif; font-size:48px; text-anchor:middle;\" transform=\"rotate(0, 583.921, 1557.47)\" x=\"583.921\" y=\"1557.47\">1.30</text>\n",
       "</g>\n",
       "<g clip-path=\"url(#clip6501)\">\n",
       "<text style=\"fill:#000000; fill-opacity:1; font-family:Arial,Helvetica Neue,Helvetica,sans-serif; font-size:48px; text-anchor:middle;\" transform=\"rotate(0, 919.314, 1557.47)\" x=\"919.314\" y=\"1557.47\">1.35</text>\n",
       "</g>\n",
       "<g clip-path=\"url(#clip6501)\">\n",
       "<text style=\"fill:#000000; fill-opacity:1; font-family:Arial,Helvetica Neue,Helvetica,sans-serif; font-size:48px; text-anchor:middle;\" transform=\"rotate(0, 1254.71, 1557.47)\" x=\"1254.71\" y=\"1557.47\">1.40</text>\n",
       "</g>\n",
       "<g clip-path=\"url(#clip6501)\">\n",
       "<text style=\"fill:#000000; fill-opacity:1; font-family:Arial,Helvetica Neue,Helvetica,sans-serif; font-size:48px; text-anchor:middle;\" transform=\"rotate(0, 1590.1, 1557.47)\" x=\"1590.1\" y=\"1557.47\">1.45</text>\n",
       "</g>\n",
       "<g clip-path=\"url(#clip6501)\">\n",
       "<text style=\"fill:#000000; fill-opacity:1; font-family:Arial,Helvetica Neue,Helvetica,sans-serif; font-size:48px; text-anchor:middle;\" transform=\"rotate(0, 1925.5, 1557.47)\" x=\"1925.5\" y=\"1557.47\">1.50</text>\n",
       "</g>\n",
       "<g clip-path=\"url(#clip6501)\">\n",
       "<text style=\"fill:#000000; fill-opacity:1; font-family:Arial,Helvetica Neue,Helvetica,sans-serif; font-size:48px; text-anchor:middle;\" transform=\"rotate(0, 2260.89, 1557.47)\" x=\"2260.89\" y=\"1557.47\">1.55</text>\n",
       "</g>\n",
       "<g clip-path=\"url(#clip6501)\">\n",
       "<text style=\"fill:#000000; fill-opacity:1; font-family:Arial,Helvetica Neue,Helvetica,sans-serif; font-size:48px; text-anchor:end;\" transform=\"rotate(0, 164.156, 1358.37)\" x=\"164.156\" y=\"1358.37\">2.32</text>\n",
       "</g>\n",
       "<g clip-path=\"url(#clip6501)\">\n",
       "<text style=\"fill:#000000; fill-opacity:1; font-family:Arial,Helvetica Neue,Helvetica,sans-serif; font-size:48px; text-anchor:end;\" transform=\"rotate(0, 164.156, 1165.69)\" x=\"164.156\" y=\"1165.69\">2.34</text>\n",
       "</g>\n",
       "<g clip-path=\"url(#clip6501)\">\n",
       "<text style=\"fill:#000000; fill-opacity:1; font-family:Arial,Helvetica Neue,Helvetica,sans-serif; font-size:48px; text-anchor:end;\" transform=\"rotate(0, 164.156, 973.014)\" x=\"164.156\" y=\"973.014\">2.36</text>\n",
       "</g>\n",
       "<g clip-path=\"url(#clip6501)\">\n",
       "<text style=\"fill:#000000; fill-opacity:1; font-family:Arial,Helvetica Neue,Helvetica,sans-serif; font-size:48px; text-anchor:end;\" transform=\"rotate(0, 164.156, 780.335)\" x=\"164.156\" y=\"780.335\">2.38</text>\n",
       "</g>\n",
       "<g clip-path=\"url(#clip6501)\">\n",
       "<text style=\"fill:#000000; fill-opacity:1; font-family:Arial,Helvetica Neue,Helvetica,sans-serif; font-size:48px; text-anchor:end;\" transform=\"rotate(0, 164.156, 587.656)\" x=\"164.156\" y=\"587.656\">2.40</text>\n",
       "</g>\n",
       "<g clip-path=\"url(#clip6501)\">\n",
       "<text style=\"fill:#000000; fill-opacity:1; font-family:Arial,Helvetica Neue,Helvetica,sans-serif; font-size:48px; text-anchor:end;\" transform=\"rotate(0, 164.156, 394.977)\" x=\"164.156\" y=\"394.977\">2.42</text>\n",
       "</g>\n",
       "<g clip-path=\"url(#clip6501)\">\n",
       "<text style=\"fill:#000000; fill-opacity:1; font-family:Arial,Helvetica Neue,Helvetica,sans-serif; font-size:48px; text-anchor:end;\" transform=\"rotate(0, 164.156, 202.298)\" x=\"164.156\" y=\"202.298\">2.44</text>\n",
       "</g>\n",
       "<circle clip-path=\"url(#clip6503)\" style=\"fill:#000000; stroke:none; fill-opacity:1\" cx=\"1657.18\" cy=\"1462.26\" r=\"18\"/>\n",
       "<circle clip-path=\"url(#clip6503)\" style=\"fill:#009af9; stroke:none; fill-opacity:1\" cx=\"1657.18\" cy=\"1462.26\" r=\"14\"/>\n",
       "<polygon clip-path=\"url(#clip6503)\" points=\"\n",
       "248.527,1051.85 2260.89,1051.85 2260.89,88.4582 248.527,88.4582 248.527,1051.85 248.527,1051.85 \n",
       "  \" fill=\"#ffa500\" fill-rule=\"evenodd\" fill-opacity=\"0.4\"/>\n",
       "<polyline clip-path=\"url(#clip6503)\" style=\"stroke:#000000; stroke-width:4; stroke-opacity:0.4; fill:none\" points=\"\n",
       "  248.527,1051.85 2260.89,1051.85 2260.89,88.4582 248.527,88.4582 248.527,1051.85 \n",
       "  \"/>\n",
       "</svg>\n"
      ]
     },
     "execution_count": 11,
     "metadata": {},
     "output_type": "execute_result"
    }
   ],
   "source": [
    "plot(Singleton(x̃))\n",
    "plot!(𝑋₀, alpha=.4, color=:orange)"
   ]
  },
  {
   "cell_type": "code",
   "execution_count": 12,
   "metadata": {},
   "outputs": [
    {
     "data": {
      "text/plain": [
       "ConstrainedAffineContinuousSystem{Float64,Array{Float64,2},Array{Float64,1},Universe{Float64}}([0.0 1.0; -7.73761 -1.1316], [0.0, 9.83691], Universe{Float64}(2))"
      ]
     },
     "execution_count": 12,
     "metadata": {},
     "output_type": "execute_result"
    }
   ],
   "source": [
    "Ax̃ = map(x -> evaluate(x, x̃), Jf)\n",
    "# Ax̃ = jacobian(f, x̃) # the same using TaylorSeries.jacobian\n",
    "bx̃ = f(x̃) - Ax̃ * x̃\n",
    "𝑆lin = ConstrainedAffineContinuousSystem(Ax̃, bx̃, Universe(2)) # no state constraints"
   ]
  },
  {
   "cell_type": "markdown",
   "metadata": {},
   "source": [
    "Next we overapproximate the flowpipe for the linearized system. We can use different set representations. For example, we can use `GLGM06` that computes with zonotopes (as in [Chapter 3, 1])."
   ]
  },
  {
   "cell_type": "code",
   "execution_count": 13,
   "metadata": {},
   "outputs": [
    {
     "name": "stdout",
     "output_type": "stream",
     "text": [
      " 28.730305 seconds (67.33 M allocations: 3.415 GiB, 9.81% gc time)\n"
     ]
    }
   ],
   "source": [
    "δcont = δ / 10\n",
    "\n",
    "𝑃lin = InitialValueProblem(𝑆lin, 𝑋₀)\n",
    "@time Rlin = solve(𝑃lin, Options(:T=>δ), op=GLGM06(:δ=>δcont, :max_order=>2));"
   ]
  },
  {
   "cell_type": "code",
   "execution_count": 14,
   "metadata": {},
   "outputs": [
    {
     "ename": "UndefVarError",
     "evalue": "UndefVarError: sol not defined",
     "output_type": "error",
     "traceback": [
      "UndefVarError: sol not defined",
      "",
      "Stacktrace:",
      " [1] top-level scope at In[14]:1"
     ]
    }
   ],
   "source": [
    "length(sol.Xk)"
   ]
  },
  {
   "cell_type": "code",
   "execution_count": 15,
   "metadata": {},
   "outputs": [
    {
     "data": {
      "image/svg+xml": [
       "<?xml version=\"1.0\" encoding=\"utf-8\"?>\n",
       "<svg xmlns=\"http://www.w3.org/2000/svg\" xmlns:xlink=\"http://www.w3.org/1999/xlink\" width=\"600\" height=\"400\" viewBox=\"0 0 2400 1600\">\n",
       "<defs>\n",
       "  <clipPath id=\"clip6700\">\n",
       "    <rect x=\"0\" y=\"0\" width=\"2000\" height=\"2000\"/>\n",
       "  </clipPath>\n",
       "</defs>\n",
       "<defs>\n",
       "  <clipPath id=\"clip6701\">\n",
       "    <rect x=\"0\" y=\"0\" width=\"2400\" height=\"1600\"/>\n",
       "  </clipPath>\n",
       "</defs>\n",
       "<polygon clip-path=\"url(#clip6701)\" points=\"\n",
       "0,1600 2400,1600 2400,0 0,0 \n",
       "  \" fill=\"#ffffff\" fill-rule=\"evenodd\" fill-opacity=\"1\"/>\n",
       "<defs>\n",
       "  <clipPath id=\"clip6702\">\n",
       "    <rect x=\"480\" y=\"0\" width=\"1681\" height=\"1600\"/>\n",
       "  </clipPath>\n",
       "</defs>\n",
       "<polygon clip-path=\"url(#clip6701)\" points=\"\n",
       "224.386,1440.48 2321.26,1440.48 2321.26,47.2441 224.386,47.2441 \n",
       "  \" fill=\"#ffffff\" fill-rule=\"evenodd\" fill-opacity=\"1\"/>\n",
       "<defs>\n",
       "  <clipPath id=\"clip6703\">\n",
       "    <rect x=\"224\" y=\"47\" width=\"2098\" height=\"1394\"/>\n",
       "  </clipPath>\n",
       "</defs>\n",
       "<polyline clip-path=\"url(#clip6703)\" style=\"stroke:#000000; stroke-width:2; stroke-opacity:0.1; fill:none\" points=\"\n",
       "  523.282,1440.48 523.282,47.2441 \n",
       "  \"/>\n",
       "<polyline clip-path=\"url(#clip6703)\" style=\"stroke:#000000; stroke-width:2; stroke-opacity:0.1; fill:none\" points=\"\n",
       "  997.239,1440.48 997.239,47.2441 \n",
       "  \"/>\n",
       "<polyline clip-path=\"url(#clip6703)\" style=\"stroke:#000000; stroke-width:2; stroke-opacity:0.1; fill:none\" points=\"\n",
       "  1471.2,1440.48 1471.2,47.2441 \n",
       "  \"/>\n",
       "<polyline clip-path=\"url(#clip6703)\" style=\"stroke:#000000; stroke-width:2; stroke-opacity:0.1; fill:none\" points=\"\n",
       "  1945.15,1440.48 1945.15,47.2441 \n",
       "  \"/>\n",
       "<polyline clip-path=\"url(#clip6703)\" style=\"stroke:#000000; stroke-width:2; stroke-opacity:0.1; fill:none\" points=\"\n",
       "  224.386,1379.57 2321.26,1379.57 \n",
       "  \"/>\n",
       "<polyline clip-path=\"url(#clip6703)\" style=\"stroke:#000000; stroke-width:2; stroke-opacity:0.1; fill:none\" points=\"\n",
       "  224.386,1016.09 2321.26,1016.09 \n",
       "  \"/>\n",
       "<polyline clip-path=\"url(#clip6703)\" style=\"stroke:#000000; stroke-width:2; stroke-opacity:0.1; fill:none\" points=\"\n",
       "  224.386,652.619 2321.26,652.619 \n",
       "  \"/>\n",
       "<polyline clip-path=\"url(#clip6703)\" style=\"stroke:#000000; stroke-width:2; stroke-opacity:0.1; fill:none\" points=\"\n",
       "  224.386,289.145 2321.26,289.145 \n",
       "  \"/>\n",
       "<polyline clip-path=\"url(#clip6701)\" style=\"stroke:#000000; stroke-width:4; stroke-opacity:1; fill:none\" points=\"\n",
       "  224.386,1440.48 2321.26,1440.48 \n",
       "  \"/>\n",
       "<polyline clip-path=\"url(#clip6701)\" style=\"stroke:#000000; stroke-width:4; stroke-opacity:1; fill:none\" points=\"\n",
       "  224.386,1440.48 224.386,47.2441 \n",
       "  \"/>\n",
       "<polyline clip-path=\"url(#clip6701)\" style=\"stroke:#000000; stroke-width:4; stroke-opacity:1; fill:none\" points=\"\n",
       "  523.282,1440.48 523.282,1419.58 \n",
       "  \"/>\n",
       "<polyline clip-path=\"url(#clip6701)\" style=\"stroke:#000000; stroke-width:4; stroke-opacity:1; fill:none\" points=\"\n",
       "  997.239,1440.48 997.239,1419.58 \n",
       "  \"/>\n",
       "<polyline clip-path=\"url(#clip6701)\" style=\"stroke:#000000; stroke-width:4; stroke-opacity:1; fill:none\" points=\"\n",
       "  1471.2,1440.48 1471.2,1419.58 \n",
       "  \"/>\n",
       "<polyline clip-path=\"url(#clip6701)\" style=\"stroke:#000000; stroke-width:4; stroke-opacity:1; fill:none\" points=\"\n",
       "  1945.15,1440.48 1945.15,1419.58 \n",
       "  \"/>\n",
       "<polyline clip-path=\"url(#clip6701)\" style=\"stroke:#000000; stroke-width:4; stroke-opacity:1; fill:none\" points=\"\n",
       "  224.386,1379.57 255.839,1379.57 \n",
       "  \"/>\n",
       "<polyline clip-path=\"url(#clip6701)\" style=\"stroke:#000000; stroke-width:4; stroke-opacity:1; fill:none\" points=\"\n",
       "  224.386,1016.09 255.839,1016.09 \n",
       "  \"/>\n",
       "<polyline clip-path=\"url(#clip6701)\" style=\"stroke:#000000; stroke-width:4; stroke-opacity:1; fill:none\" points=\"\n",
       "  224.386,652.619 255.839,652.619 \n",
       "  \"/>\n",
       "<polyline clip-path=\"url(#clip6701)\" style=\"stroke:#000000; stroke-width:4; stroke-opacity:1; fill:none\" points=\"\n",
       "  224.386,289.145 255.839,289.145 \n",
       "  \"/>\n",
       "<g clip-path=\"url(#clip6701)\">\n",
       "<text style=\"fill:#000000; fill-opacity:1; font-family:Arial,Helvetica Neue,Helvetica,sans-serif; font-size:48px; text-anchor:middle;\" transform=\"rotate(0, 523.282, 1494.48)\" x=\"523.282\" y=\"1494.48\">1.3</text>\n",
       "</g>\n",
       "<g clip-path=\"url(#clip6701)\">\n",
       "<text style=\"fill:#000000; fill-opacity:1; font-family:Arial,Helvetica Neue,Helvetica,sans-serif; font-size:48px; text-anchor:middle;\" transform=\"rotate(0, 997.239, 1494.48)\" x=\"997.239\" y=\"1494.48\">1.4</text>\n",
       "</g>\n",
       "<g clip-path=\"url(#clip6701)\">\n",
       "<text style=\"fill:#000000; fill-opacity:1; font-family:Arial,Helvetica Neue,Helvetica,sans-serif; font-size:48px; text-anchor:middle;\" transform=\"rotate(0, 1471.2, 1494.48)\" x=\"1471.2\" y=\"1494.48\">1.5</text>\n",
       "</g>\n",
       "<g clip-path=\"url(#clip6701)\">\n",
       "<text style=\"fill:#000000; fill-opacity:1; font-family:Arial,Helvetica Neue,Helvetica,sans-serif; font-size:48px; text-anchor:middle;\" transform=\"rotate(0, 1945.15, 1494.48)\" x=\"1945.15\" y=\"1494.48\">1.6</text>\n",
       "</g>\n",
       "<g clip-path=\"url(#clip6701)\">\n",
       "<text style=\"fill:#000000; fill-opacity:1; font-family:Arial,Helvetica Neue,Helvetica,sans-serif; font-size:48px; text-anchor:end;\" transform=\"rotate(0, 200.386, 1397.07)\" x=\"200.386\" y=\"1397.07\">2.1</text>\n",
       "</g>\n",
       "<g clip-path=\"url(#clip6701)\">\n",
       "<text style=\"fill:#000000; fill-opacity:1; font-family:Arial,Helvetica Neue,Helvetica,sans-serif; font-size:48px; text-anchor:end;\" transform=\"rotate(0, 200.386, 1033.59)\" x=\"200.386\" y=\"1033.59\">2.2</text>\n",
       "</g>\n",
       "<g clip-path=\"url(#clip6701)\">\n",
       "<text style=\"fill:#000000; fill-opacity:1; font-family:Arial,Helvetica Neue,Helvetica,sans-serif; font-size:48px; text-anchor:end;\" transform=\"rotate(0, 200.386, 670.119)\" x=\"200.386\" y=\"670.119\">2.3</text>\n",
       "</g>\n",
       "<g clip-path=\"url(#clip6701)\">\n",
       "<text style=\"fill:#000000; fill-opacity:1; font-family:Arial,Helvetica Neue,Helvetica,sans-serif; font-size:48px; text-anchor:end;\" transform=\"rotate(0, 200.386, 306.645)\" x=\"200.386\" y=\"306.645\">2.4</text>\n",
       "</g>\n",
       "<g clip-path=\"url(#clip6701)\">\n",
       "<text style=\"fill:#000000; fill-opacity:1; font-family:Arial,Helvetica Neue,Helvetica,sans-serif; font-size:66px; text-anchor:middle;\" transform=\"rotate(0, 1272.82, 1590.4)\" x=\"1272.82\" y=\"1590.4\">x</text>\n",
       "</g>\n",
       "<g clip-path=\"url(#clip6701)\">\n",
       "<text style=\"fill:#000000; fill-opacity:1; font-family:Arial,Helvetica Neue,Helvetica,sans-serif; font-size:66px; text-anchor:middle;\" transform=\"rotate(-90, 57.6, 743.863)\" x=\"57.6\" y=\"743.863\">y</text>\n",
       "</g>\n",
       "<polygon clip-path=\"url(#clip6703)\" points=\"\n",
       "283.732,491.615 339.803,559.207 1766.82,559.207 1766.82,154.267 1710.75,86.6754 283.732,86.6754 283.732,491.615 \n",
       "  \" fill=\"#add8e6\" fill-rule=\"evenodd\" fill-opacity=\"0.5\"/>\n",
       "<polyline clip-path=\"url(#clip6703)\" style=\"stroke:#000000; stroke-width:4; stroke-opacity:0.5; fill:none\" points=\"\n",
       "  283.732,491.615 339.803,559.207 1766.82,559.207 1766.82,154.267 1710.75,86.6754 283.732,86.6754 283.732,491.615 \n",
       "  \"/>\n",
       "<polygon clip-path=\"url(#clip6703)\" points=\"\n",
       "337.972,537.525 393.599,606.388 1817.9,648.53 1824.28,648.53 1824.28,244.813 1768.65,175.95 344.344,133.808 337.972,133.808 337.972,537.525 \n",
       "  \" fill=\"#add8e6\" fill-rule=\"evenodd\" fill-opacity=\"0.5\"/>\n",
       "<polyline clip-path=\"url(#clip6703)\" style=\"stroke:#000000; stroke-width:4; stroke-opacity:0.5; fill:none\" points=\"\n",
       "  337.972,537.525 393.599,606.388 1817.9,648.53 1824.28,648.53 1824.28,244.813 1768.65,175.95 344.344,133.808 337.972,133.808 337.972,537.525 \n",
       "  \"/>\n",
       "<polygon clip-path=\"url(#clip6703)\" points=\"\n",
       "391.909,584.811 447.083,654.924 1870.98,738.962 1881.14,738.962 1881.14,336.504 1825.97,266.39 402.073,182.352 391.909,182.352 391.909,584.811 \n",
       "  \" fill=\"#add8e6\" fill-rule=\"evenodd\" fill-opacity=\"0.5\"/>\n",
       "<polyline clip-path=\"url(#clip6703)\" style=\"stroke:#000000; stroke-width:4; stroke-opacity:0.5; fill:none\" points=\"\n",
       "  391.909,584.811 447.083,654.924 1870.98,738.962 1881.14,738.962 1881.14,336.504 1825.97,266.39 402.073,182.352 391.909,182.352 391.909,584.811 \n",
       "  \"/>\n",
       "<polygon clip-path=\"url(#clip6703)\" points=\"\n",
       "445.535,633.455 500.248,704.799 1923.46,830.48 1937.4,830.48 1937.4,429.317 1882.69,357.973 459.479,232.292 445.535,232.292 445.535,633.455 \n",
       "  \" fill=\"#add8e6\" fill-rule=\"evenodd\" fill-opacity=\"0.5\"/>\n",
       "<polyline clip-path=\"url(#clip6703)\" style=\"stroke:#000000; stroke-width:4; stroke-opacity:0.5; fill:none\" points=\"\n",
       "  445.535,633.455 500.248,704.799 1923.46,830.48 1937.4,830.48 1937.4,429.317 1882.69,357.973 459.479,232.292 445.535,232.292 445.535,633.455 \n",
       "  \"/>\n",
       "<polygon clip-path=\"url(#clip6703)\" points=\"\n",
       "498.84,683.441 553.083,755.994 1975.34,923.06 1993.05,923.06 1993.05,523.227 1938.81,450.674 516.554,283.608 498.84,283.608 498.84,683.441 \n",
       "  \" fill=\"#add8e6\" fill-rule=\"evenodd\" fill-opacity=\"0.5\"/>\n",
       "<polyline clip-path=\"url(#clip6703)\" style=\"stroke:#000000; stroke-width:4; stroke-opacity:0.5; fill:none\" points=\"\n",
       "  498.84,683.441 553.083,755.994 1975.34,923.06 1993.05,923.06 1993.05,523.227 1938.81,450.674 516.554,283.608 498.84,283.608 498.84,683.441 \n",
       "  \"/>\n",
       "<polygon clip-path=\"url(#clip6703)\" points=\"\n",
       "551.816,734.752 605.583,808.494 2026.61,1016.68 2048.09,1016.68 2048.09,618.21 1994.32,544.469 573.289,336.285 551.816,336.285 551.816,734.752 \n",
       "  \" fill=\"#add8e6\" fill-rule=\"evenodd\" fill-opacity=\"0.5\"/>\n",
       "<polyline clip-path=\"url(#clip6703)\" style=\"stroke:#000000; stroke-width:4; stroke-opacity:0.5; fill:none\" points=\"\n",
       "  551.816,734.752 605.583,808.494 2026.61,1016.68 2048.09,1016.68 2048.09,618.21 1994.32,544.469 573.289,336.285 551.816,336.285 551.816,734.752 \n",
       "  \"/>\n",
       "<polygon clip-path=\"url(#clip6703)\" points=\"\n",
       "604.454,787.371 657.737,862.28 2077.28,1111.31 2102.5,1111.31 2102.5,714.242 2049.22,639.333 629.674,390.303 604.454,390.303 604.454,787.371 \n",
       "  \" fill=\"#add8e6\" fill-rule=\"evenodd\" fill-opacity=\"0.5\"/>\n",
       "<polyline clip-path=\"url(#clip6703)\" style=\"stroke:#000000; stroke-width:4; stroke-opacity:0.5; fill:none\" points=\"\n",
       "  604.454,787.371 657.737,862.28 2077.28,1111.31 2102.5,1111.31 2102.5,714.242 2049.22,639.333 629.674,390.303 604.454,390.303 604.454,787.371 \n",
       "  \"/>\n",
       "<polygon clip-path=\"url(#clip6703)\" points=\"\n",
       "656.747,841.279 709.537,917.334 2127.32,1206.93 2156.28,1206.93 2156.28,811.298 2103.49,735.243 685.702,445.645 656.747,445.645 656.747,841.279 \n",
       "  \" fill=\"#add8e6\" fill-rule=\"evenodd\" fill-opacity=\"0.5\"/>\n",
       "<polyline clip-path=\"url(#clip6703)\" style=\"stroke:#000000; stroke-width:4; stroke-opacity:0.5; fill:none\" points=\"\n",
       "  656.747,841.279 709.537,917.334 2127.32,1206.93 2156.28,1206.93 2156.28,811.298 2103.49,735.243 685.702,445.645 656.747,445.645 656.747,841.279 \n",
       "  \"/>\n",
       "<polygon clip-path=\"url(#clip6703)\" points=\"\n",
       "708.687,896.459 760.977,973.64 2176.74,1303.52 2209.42,1303.52 2209.42,909.354 2157.13,832.173 741.362,502.292 708.687,502.292 708.687,896.459 \n",
       "  \" fill=\"#add8e6\" fill-rule=\"evenodd\" fill-opacity=\"0.5\"/>\n",
       "<polyline clip-path=\"url(#clip6703)\" style=\"stroke:#000000; stroke-width:4; stroke-opacity:0.5; fill:none\" points=\"\n",
       "  708.687,896.459 760.977,973.64 2176.74,1303.52 2209.42,1303.52 2209.42,909.354 2157.13,832.173 741.362,502.292 708.687,502.292 708.687,896.459 \n",
       "  \"/>\n",
       "<polygon clip-path=\"url(#clip6703)\" points=\"\n",
       "760.264,952.893 812.048,1031.18 2225.53,1401.05 2261.91,1401.05 2261.91,1008.38 2210.13,930.1 796.646,560.227 760.264,560.227 760.264,952.893 \n",
       "  \" fill=\"#add8e6\" fill-rule=\"evenodd\" fill-opacity=\"0.5\"/>\n",
       "<polyline clip-path=\"url(#clip6703)\" style=\"stroke:#000000; stroke-width:4; stroke-opacity:0.5; fill:none\" points=\"\n",
       "  760.264,952.893 812.048,1031.18 2225.53,1401.05 2261.91,1401.05 2261.91,1008.38 2210.13,930.1 796.646,560.227 760.264,560.227 760.264,952.893 \n",
       "  \"/>\n",
       "<polygon clip-path=\"url(#clip6703)\" points=\"\n",
       "286.304,470.882 1708.17,470.882 1708.17,107.408 286.304,107.408 286.304,470.882 286.304,470.882 \n",
       "  \" fill=\"#ffa500\" fill-rule=\"evenodd\" fill-opacity=\"0.5\"/>\n",
       "<polyline clip-path=\"url(#clip6703)\" style=\"stroke:#000000; stroke-width:4; stroke-opacity:0.5; fill:none\" points=\"\n",
       "  286.304,470.882 1708.17,470.882 1708.17,107.408 286.304,107.408 286.304,470.882 \n",
       "  \"/>\n",
       "<circle clip-path=\"url(#clip6703)\" style=\"fill:#000000; stroke:none; fill-opacity:1\" cx=\"1281.61\" cy=\"625.722\" r=\"18\"/>\n",
       "<circle clip-path=\"url(#clip6703)\" style=\"fill:#000000; stroke:none; fill-opacity:1\" cx=\"1281.61\" cy=\"625.722\" r=\"14\"/>\n",
       "</svg>\n"
      ]
     },
     "execution_count": 15,
     "metadata": {},
     "output_type": "execute_result"
    }
   ],
   "source": [
    "plot(Rlin, color=:lightblue, alpha=.5)\n",
    "plot!(𝑋₀, color=:orange, alpha=.5, xlab=\"x\", ylab=\"y\")\n",
    "plot!(Singleton(x̃), color=:black) # linearization point"
   ]
  },
  {
   "cell_type": "markdown",
   "metadata": {},
   "source": [
    "Another run but this time using a five times larger time horizon in the continuous post:"
   ]
  },
  {
   "cell_type": "code",
   "execution_count": 16,
   "metadata": {},
   "outputs": [
    {
     "name": "stdout",
     "output_type": "stream",
     "text": [
      "  0.019953 seconds (19.60 k allocations: 1.594 MiB)\n"
     ]
    },
    {
     "data": {
      "image/svg+xml": [
       "<?xml version=\"1.0\" encoding=\"utf-8\"?>\n",
       "<svg xmlns=\"http://www.w3.org/2000/svg\" xmlns:xlink=\"http://www.w3.org/1999/xlink\" width=\"600\" height=\"400\" viewBox=\"0 0 2400 1600\">\n",
       "<defs>\n",
       "  <clipPath id=\"clip6900\">\n",
       "    <rect x=\"0\" y=\"0\" width=\"2000\" height=\"2000\"/>\n",
       "  </clipPath>\n",
       "</defs>\n",
       "<defs>\n",
       "  <clipPath id=\"clip6901\">\n",
       "    <rect x=\"0\" y=\"0\" width=\"2400\" height=\"1600\"/>\n",
       "  </clipPath>\n",
       "</defs>\n",
       "<polygon clip-path=\"url(#clip6901)\" points=\"\n",
       "0,1600 2400,1600 2400,0 0,0 \n",
       "  \" fill=\"#ffffff\" fill-rule=\"evenodd\" fill-opacity=\"1\"/>\n",
       "<defs>\n",
       "  <clipPath id=\"clip6902\">\n",
       "    <rect x=\"480\" y=\"0\" width=\"1681\" height=\"1600\"/>\n",
       "  </clipPath>\n",
       "</defs>\n",
       "<polygon clip-path=\"url(#clip6901)\" points=\"\n",
       "224.386,1440.48 2321.26,1440.48 2321.26,47.2441 224.386,47.2441 \n",
       "  \" fill=\"#ffffff\" fill-rule=\"evenodd\" fill-opacity=\"1\"/>\n",
       "<defs>\n",
       "  <clipPath id=\"clip6903\">\n",
       "    <rect x=\"224\" y=\"47\" width=\"2098\" height=\"1394\"/>\n",
       "  </clipPath>\n",
       "</defs>\n",
       "<polyline clip-path=\"url(#clip6903)\" style=\"stroke:#000000; stroke-width:2; stroke-opacity:0.1; fill:none\" points=\"\n",
       "  687.787,1440.48 687.787,47.2441 \n",
       "  \"/>\n",
       "<polyline clip-path=\"url(#clip6903)\" style=\"stroke:#000000; stroke-width:2; stroke-opacity:0.1; fill:none\" points=\"\n",
       "  1224.59,1440.48 1224.59,47.2441 \n",
       "  \"/>\n",
       "<polyline clip-path=\"url(#clip6903)\" style=\"stroke:#000000; stroke-width:2; stroke-opacity:0.1; fill:none\" points=\"\n",
       "  1761.39,1440.48 1761.39,47.2441 \n",
       "  \"/>\n",
       "<polyline clip-path=\"url(#clip6903)\" style=\"stroke:#000000; stroke-width:2; stroke-opacity:0.1; fill:none\" points=\"\n",
       "  2298.18,1440.48 2298.18,47.2441 \n",
       "  \"/>\n",
       "<polyline clip-path=\"url(#clip6903)\" style=\"stroke:#000000; stroke-width:2; stroke-opacity:0.1; fill:none\" points=\"\n",
       "  224.386,1304.5 2321.26,1304.5 \n",
       "  \"/>\n",
       "<polyline clip-path=\"url(#clip6903)\" style=\"stroke:#000000; stroke-width:2; stroke-opacity:0.1; fill:none\" points=\"\n",
       "  224.386,886.206 2321.26,886.206 \n",
       "  \"/>\n",
       "<polyline clip-path=\"url(#clip6903)\" style=\"stroke:#000000; stroke-width:2; stroke-opacity:0.1; fill:none\" points=\"\n",
       "  224.386,467.912 2321.26,467.912 \n",
       "  \"/>\n",
       "<polyline clip-path=\"url(#clip6903)\" style=\"stroke:#000000; stroke-width:2; stroke-opacity:0.1; fill:none\" points=\"\n",
       "  224.386,49.618 2321.26,49.618 \n",
       "  \"/>\n",
       "<polyline clip-path=\"url(#clip6901)\" style=\"stroke:#000000; stroke-width:4; stroke-opacity:1; fill:none\" points=\"\n",
       "  224.386,1440.48 2321.26,1440.48 \n",
       "  \"/>\n",
       "<polyline clip-path=\"url(#clip6901)\" style=\"stroke:#000000; stroke-width:4; stroke-opacity:1; fill:none\" points=\"\n",
       "  224.386,1440.48 224.386,47.2441 \n",
       "  \"/>\n",
       "<polyline clip-path=\"url(#clip6901)\" style=\"stroke:#000000; stroke-width:4; stroke-opacity:1; fill:none\" points=\"\n",
       "  687.787,1440.48 687.787,1419.58 \n",
       "  \"/>\n",
       "<polyline clip-path=\"url(#clip6901)\" style=\"stroke:#000000; stroke-width:4; stroke-opacity:1; fill:none\" points=\"\n",
       "  1224.59,1440.48 1224.59,1419.58 \n",
       "  \"/>\n",
       "<polyline clip-path=\"url(#clip6901)\" style=\"stroke:#000000; stroke-width:4; stroke-opacity:1; fill:none\" points=\"\n",
       "  1761.39,1440.48 1761.39,1419.58 \n",
       "  \"/>\n",
       "<polyline clip-path=\"url(#clip6901)\" style=\"stroke:#000000; stroke-width:4; stroke-opacity:1; fill:none\" points=\"\n",
       "  2298.18,1440.48 2298.18,1419.58 \n",
       "  \"/>\n",
       "<polyline clip-path=\"url(#clip6901)\" style=\"stroke:#000000; stroke-width:4; stroke-opacity:1; fill:none\" points=\"\n",
       "  224.386,1304.5 255.839,1304.5 \n",
       "  \"/>\n",
       "<polyline clip-path=\"url(#clip6901)\" style=\"stroke:#000000; stroke-width:4; stroke-opacity:1; fill:none\" points=\"\n",
       "  224.386,886.206 255.839,886.206 \n",
       "  \"/>\n",
       "<polyline clip-path=\"url(#clip6901)\" style=\"stroke:#000000; stroke-width:4; stroke-opacity:1; fill:none\" points=\"\n",
       "  224.386,467.912 255.839,467.912 \n",
       "  \"/>\n",
       "<polyline clip-path=\"url(#clip6901)\" style=\"stroke:#000000; stroke-width:4; stroke-opacity:1; fill:none\" points=\"\n",
       "  224.386,49.618 255.839,49.618 \n",
       "  \"/>\n",
       "<g clip-path=\"url(#clip6901)\">\n",
       "<text style=\"fill:#000000; fill-opacity:1; font-family:Arial,Helvetica Neue,Helvetica,sans-serif; font-size:48px; text-anchor:middle;\" transform=\"rotate(0, 687.787, 1494.48)\" x=\"687.787\" y=\"1494.48\">1.4</text>\n",
       "</g>\n",
       "<g clip-path=\"url(#clip6901)\">\n",
       "<text style=\"fill:#000000; fill-opacity:1; font-family:Arial,Helvetica Neue,Helvetica,sans-serif; font-size:48px; text-anchor:middle;\" transform=\"rotate(0, 1224.59, 1494.48)\" x=\"1224.59\" y=\"1494.48\">1.6</text>\n",
       "</g>\n",
       "<g clip-path=\"url(#clip6901)\">\n",
       "<text style=\"fill:#000000; fill-opacity:1; font-family:Arial,Helvetica Neue,Helvetica,sans-serif; font-size:48px; text-anchor:middle;\" transform=\"rotate(0, 1761.39, 1494.48)\" x=\"1761.39\" y=\"1494.48\">1.8</text>\n",
       "</g>\n",
       "<g clip-path=\"url(#clip6901)\">\n",
       "<text style=\"fill:#000000; fill-opacity:1; font-family:Arial,Helvetica Neue,Helvetica,sans-serif; font-size:48px; text-anchor:middle;\" transform=\"rotate(0, 2298.18, 1494.48)\" x=\"2298.18\" y=\"1494.48\">2.0</text>\n",
       "</g>\n",
       "<g clip-path=\"url(#clip6901)\">\n",
       "<text style=\"fill:#000000; fill-opacity:1; font-family:Arial,Helvetica Neue,Helvetica,sans-serif; font-size:48px; text-anchor:end;\" transform=\"rotate(0, 200.386, 1322)\" x=\"200.386\" y=\"1322\">1.0</text>\n",
       "</g>\n",
       "<g clip-path=\"url(#clip6901)\">\n",
       "<text style=\"fill:#000000; fill-opacity:1; font-family:Arial,Helvetica Neue,Helvetica,sans-serif; font-size:48px; text-anchor:end;\" transform=\"rotate(0, 200.386, 903.706)\" x=\"200.386\" y=\"903.706\">1.5</text>\n",
       "</g>\n",
       "<g clip-path=\"url(#clip6901)\">\n",
       "<text style=\"fill:#000000; fill-opacity:1; font-family:Arial,Helvetica Neue,Helvetica,sans-serif; font-size:48px; text-anchor:end;\" transform=\"rotate(0, 200.386, 485.412)\" x=\"200.386\" y=\"485.412\">2.0</text>\n",
       "</g>\n",
       "<g clip-path=\"url(#clip6901)\">\n",
       "<text style=\"fill:#000000; fill-opacity:1; font-family:Arial,Helvetica Neue,Helvetica,sans-serif; font-size:48px; text-anchor:end;\" transform=\"rotate(0, 200.386, 67.118)\" x=\"200.386\" y=\"67.118\">2.5</text>\n",
       "</g>\n",
       "<g clip-path=\"url(#clip6901)\">\n",
       "<text style=\"fill:#000000; fill-opacity:1; font-family:Arial,Helvetica Neue,Helvetica,sans-serif; font-size:66px; text-anchor:middle;\" transform=\"rotate(0, 1272.82, 1590.4)\" x=\"1272.82\" y=\"1590.4\">x</text>\n",
       "</g>\n",
       "<g clip-path=\"url(#clip6901)\">\n",
       "<text style=\"fill:#000000; fill-opacity:1; font-family:Arial,Helvetica Neue,Helvetica,sans-serif; font-size:66px; text-anchor:middle;\" transform=\"rotate(-90, 57.6, 743.863)\" x=\"57.6\" y=\"743.863\">y</text>\n",
       "</g>\n",
       "<polygon clip-path=\"url(#clip6903)\" points=\"\n",
       "283.732,179.878 315.485,195.436 1123.6,195.436 1123.6,102.233 1091.84,86.6754 283.732,86.6754 283.732,179.878 \n",
       "  \" fill=\"#add8e6\" fill-rule=\"evenodd\" fill-opacity=\"0.5\"/>\n",
       "<polyline clip-path=\"url(#clip6903)\" style=\"stroke:#000000; stroke-width:4; stroke-opacity:0.5; fill:none\" points=\"\n",
       "  283.732,179.878 315.485,195.436 1123.6,195.436 1123.6,102.233 1091.84,86.6754 283.732,86.6754 283.732,179.878 \n",
       "  \"/>\n",
       "<polygon clip-path=\"url(#clip6903)\" points=\"\n",
       "314.448,190.445 345.949,206.295 1152.53,215.994 1156.13,215.994 1156.13,123.073 1124.63,107.223 318.056,97.5236 314.448,97.5236 314.448,190.445 \n",
       "  \" fill=\"#add8e6\" fill-rule=\"evenodd\" fill-opacity=\"0.5\"/>\n",
       "<polyline clip-path=\"url(#clip6903)\" style=\"stroke:#000000; stroke-width:4; stroke-opacity:0.5; fill:none\" points=\"\n",
       "  314.448,190.445 345.949,206.295 1152.53,215.994 1156.13,215.994 1156.13,123.073 1124.63,107.223 318.056,97.5236 314.448,97.5236 314.448,190.445 \n",
       "  \"/>\n",
       "<polygon clip-path=\"url(#clip6903)\" points=\"\n",
       "344.992,201.329 376.237,217.466 1182.58,236.809 1188.34,236.809 1188.34,144.177 1157.09,128.039 350.748,108.697 344.992,108.697 344.992,201.329 \n",
       "  \" fill=\"#add8e6\" fill-rule=\"evenodd\" fill-opacity=\"0.5\"/>\n",
       "<polyline clip-path=\"url(#clip6903)\" style=\"stroke:#000000; stroke-width:4; stroke-opacity:0.5; fill:none\" points=\"\n",
       "  344.992,201.329 376.237,217.466 1182.58,236.809 1188.34,236.809 1188.34,144.177 1157.09,128.039 350.748,108.697 344.992,108.697 344.992,201.329 \n",
       "  \"/>\n",
       "<polygon clip-path=\"url(#clip6903)\" points=\"\n",
       "375.36,212.525 406.344,228.946 1212.3,257.873 1220.2,257.873 1220.2,165.539 1189.21,149.119 383.256,120.191 375.36,120.191 375.36,212.525 \n",
       "  \" fill=\"#add8e6\" fill-rule=\"evenodd\" fill-opacity=\"0.5\"/>\n",
       "<polyline clip-path=\"url(#clip6903)\" style=\"stroke:#000000; stroke-width:4; stroke-opacity:0.5; fill:none\" points=\"\n",
       "  375.36,212.525 406.344,228.946 1212.3,257.873 1220.2,257.873 1220.2,165.539 1189.21,149.119 383.256,120.191 375.36,120.191 375.36,212.525 \n",
       "  \"/>\n",
       "<polygon clip-path=\"url(#clip6903)\" points=\"\n",
       "405.546,224.03 436.264,240.729 1241.68,279.182 1251.71,279.182 1251.71,187.154 1220.99,170.455 415.578,132.002 405.546,132.002 405.546,224.03 \n",
       "  \" fill=\"#add8e6\" fill-rule=\"evenodd\" fill-opacity=\"0.5\"/>\n",
       "<polyline clip-path=\"url(#clip6903)\" style=\"stroke:#000000; stroke-width:4; stroke-opacity:0.5; fill:none\" points=\"\n",
       "  405.546,224.03 436.264,240.729 1241.68,279.182 1251.71,279.182 1251.71,187.154 1220.99,170.455 415.578,132.002 405.546,132.002 405.546,224.03 \n",
       "  \"/>\n",
       "<polygon clip-path=\"url(#clip6903)\" points=\"\n",
       "435.546,235.84 465.994,252.813 1270.72,300.729 1282.88,300.729 1282.88,209.016 1252.43,192.043 447.706,144.127 435.546,144.127 435.546,235.84 \n",
       "  \" fill=\"#add8e6\" fill-rule=\"evenodd\" fill-opacity=\"0.5\"/>\n",
       "<polyline clip-path=\"url(#clip6903)\" style=\"stroke:#000000; stroke-width:4; stroke-opacity:0.5; fill:none\" points=\"\n",
       "  435.546,235.84 465.994,252.813 1270.72,300.729 1282.88,300.729 1282.88,209.016 1252.43,192.043 447.706,144.127 435.546,144.127 435.546,235.84 \n",
       "  \"/>\n",
       "<polygon clip-path=\"url(#clip6903)\" points=\"\n",
       "465.355,247.951 495.529,265.192 1299.41,322.51 1313.69,322.51 1313.69,231.119 1283.52,213.878 479.637,156.56 465.355,156.56 465.355,247.951 \n",
       "  \" fill=\"#add8e6\" fill-rule=\"evenodd\" fill-opacity=\"0.5\"/>\n",
       "<polyline clip-path=\"url(#clip6903)\" style=\"stroke:#000000; stroke-width:4; stroke-opacity:0.5; fill:none\" points=\"\n",
       "  465.355,247.951 495.529,265.192 1299.41,322.51 1313.69,322.51 1313.69,231.119 1283.52,213.878 479.637,156.56 465.355,156.56 465.355,247.951 \n",
       "  \"/>\n",
       "<polygon clip-path=\"url(#clip6903)\" points=\"\n",
       "494.969,260.358 524.863,277.864 1327.75,344.519 1344.15,344.519 1344.15,253.458 1314.25,235.953 511.365,169.297 494.969,169.297 494.969,260.358 \n",
       "  \" fill=\"#add8e6\" fill-rule=\"evenodd\" fill-opacity=\"0.5\"/>\n",
       "<polyline clip-path=\"url(#clip6903)\" style=\"stroke:#000000; stroke-width:4; stroke-opacity:0.5; fill:none\" points=\"\n",
       "  494.969,260.358 524.863,277.864 1327.75,344.519 1344.15,344.519 1344.15,253.458 1314.25,235.953 511.365,169.297 494.969,169.297 494.969,260.358 \n",
       "  \"/>\n",
       "<polygon clip-path=\"url(#clip6903)\" points=\"\n",
       "524.382,273.059 553.994,290.823 1355.73,366.75 1374.24,366.75 1374.24,276.027 1344.63,258.263 542.885,182.336 524.382,182.336 524.382,273.059 \n",
       "  \" fill=\"#add8e6\" fill-rule=\"evenodd\" fill-opacity=\"0.5\"/>\n",
       "<polyline clip-path=\"url(#clip6903)\" style=\"stroke:#000000; stroke-width:4; stroke-opacity:0.5; fill:none\" points=\"\n",
       "  524.382,273.059 553.994,290.823 1355.73,366.75 1374.24,366.75 1374.24,276.027 1344.63,258.263 542.885,182.336 524.382,182.336 524.382,273.059 \n",
       "  \"/>\n",
       "<polygon clip-path=\"url(#clip6903)\" points=\"\n",
       "553.59,286.048 582.915,304.067 1383.36,389.198 1403.97,389.198 1403.97,298.82 1374.64,280.802 574.193,195.67 553.59,195.67 553.59,286.048 \n",
       "  \" fill=\"#add8e6\" fill-rule=\"evenodd\" fill-opacity=\"0.5\"/>\n",
       "<polyline clip-path=\"url(#clip6903)\" style=\"stroke:#000000; stroke-width:4; stroke-opacity:0.5; fill:none\" points=\"\n",
       "  553.59,286.048 582.915,304.067 1383.36,389.198 1403.97,389.198 1403.97,298.82 1374.64,280.802 574.193,195.67 553.59,195.67 553.59,286.048 \n",
       "  \"/>\n",
       "<polygon clip-path=\"url(#clip6903)\" points=\"\n",
       "582.589,299.322 611.623,317.59 1410.63,411.858 1433.33,411.858 1433.33,321.833 1404.29,303.565 605.283,209.297 582.589,209.297 582.589,299.322 \n",
       "  \" fill=\"#add8e6\" fill-rule=\"evenodd\" fill-opacity=\"0.5\"/>\n",
       "<polyline clip-path=\"url(#clip6903)\" style=\"stroke:#000000; stroke-width:4; stroke-opacity:0.5; fill:none\" points=\"\n",
       "  582.589,299.322 611.623,317.59 1410.63,411.858 1433.33,411.858 1433.33,321.833 1404.29,303.565 605.283,209.297 582.589,209.297 582.589,299.322 \n",
       "  \"/>\n",
       "<polygon clip-path=\"url(#clip6903)\" points=\"\n",
       "611.374,312.876 640.113,331.388 1437.54,434.723 1462.31,434.723 1462.31,345.058 1433.58,326.546 636.15,223.211 611.374,223.211 611.374,312.876 \n",
       "  \" fill=\"#add8e6\" fill-rule=\"evenodd\" fill-opacity=\"0.5\"/>\n",
       "<polyline clip-path=\"url(#clip6903)\" style=\"stroke:#000000; stroke-width:4; stroke-opacity:0.5; fill:none\" points=\"\n",
       "  611.374,312.876 640.113,331.388 1437.54,434.723 1462.31,434.723 1462.31,345.058 1433.58,326.546 636.15,223.211 611.374,223.211 611.374,312.876 \n",
       "  \"/>\n",
       "<polygon clip-path=\"url(#clip6903)\" points=\"\n",
       "639.941,326.706 668.381,345.458 1464.08,457.788 1490.93,457.788 1490.93,368.491 1462.49,349.74 666.791,237.409 639.941,237.409 639.941,326.706 \n",
       "  \" fill=\"#add8e6\" fill-rule=\"evenodd\" fill-opacity=\"0.5\"/>\n",
       "<polyline clip-path=\"url(#clip6903)\" style=\"stroke:#000000; stroke-width:4; stroke-opacity:0.5; fill:none\" points=\"\n",
       "  639.941,326.706 668.381,345.458 1464.08,457.788 1490.93,457.788 1490.93,368.491 1462.49,349.74 666.791,237.409 639.941,237.409 639.941,326.706 \n",
       "  \"/>\n",
       "<polygon clip-path=\"url(#clip6903)\" points=\"\n",
       "668.285,340.809 696.423,359.794 1490.24,481.048 1519.16,481.048 1519.16,392.126 1491.02,373.14 697.199,251.886 668.285,251.886 668.285,340.809 \n",
       "  \" fill=\"#add8e6\" fill-rule=\"evenodd\" fill-opacity=\"0.5\"/>\n",
       "<polyline clip-path=\"url(#clip6903)\" style=\"stroke:#000000; stroke-width:4; stroke-opacity:0.5; fill:none\" points=\"\n",
       "  668.285,340.809 696.423,359.794 1490.24,481.048 1519.16,481.048 1519.16,392.126 1491.02,373.14 697.199,251.886 668.285,251.886 668.285,340.809 \n",
       "  \"/>\n",
       "<polygon clip-path=\"url(#clip6903)\" points=\"\n",
       "696.404,355.179 724.234,374.394 1516.04,504.497 1547.01,504.497 1547.01,415.956 1519.18,396.741 727.372,266.638 696.404,266.638 696.404,355.179 \n",
       "  \" fill=\"#add8e6\" fill-rule=\"evenodd\" fill-opacity=\"0.5\"/>\n",
       "<polyline clip-path=\"url(#clip6903)\" style=\"stroke:#000000; stroke-width:4; stroke-opacity:0.5; fill:none\" points=\"\n",
       "  696.404,355.179 724.234,374.394 1516.04,504.497 1547.01,504.497 1547.01,415.956 1519.18,396.741 727.372,266.638 696.404,266.638 696.404,355.179 \n",
       "  \"/>\n",
       "<polygon clip-path=\"url(#clip6903)\" points=\"\n",
       "724.291,369.812 751.812,389.252 1541.46,528.129 1574.47,528.129 1574.47,439.977 1546.95,420.538 757.304,281.66 724.291,281.66 724.291,369.812 \n",
       "  \" fill=\"#add8e6\" fill-rule=\"evenodd\" fill-opacity=\"0.5\"/>\n",
       "<polyline clip-path=\"url(#clip6903)\" style=\"stroke:#000000; stroke-width:4; stroke-opacity:0.5; fill:none\" points=\"\n",
       "  724.291,369.812 751.812,389.252 1541.46,528.129 1574.47,528.129 1574.47,439.977 1546.95,420.538 757.304,281.66 724.291,281.66 724.291,369.812 \n",
       "  \"/>\n",
       "<polygon clip-path=\"url(#clip6903)\" points=\"\n",
       "751.943,384.705 779.151,404.363 1566.5,551.939 1601.55,551.939 1601.55,464.183 1574.34,444.524 786.991,296.948 751.943,296.948 751.943,384.705 \n",
       "  \" fill=\"#add8e6\" fill-rule=\"evenodd\" fill-opacity=\"0.5\"/>\n",
       "<polyline clip-path=\"url(#clip6903)\" style=\"stroke:#000000; stroke-width:4; stroke-opacity:0.5; fill:none\" points=\"\n",
       "  751.943,384.705 779.151,404.363 1566.5,551.939 1601.55,551.939 1601.55,464.183 1574.34,444.524 786.991,296.948 751.943,296.948 751.943,384.705 \n",
       "  \"/>\n",
       "<polygon clip-path=\"url(#clip6903)\" points=\"\n",
       "779.357,399.852 806.247,419.725 1591.16,575.921 1628.23,575.921 1628.23,488.567 1601.34,468.694 816.428,312.498 779.357,312.498 779.357,399.852 \n",
       "  \" fill=\"#add8e6\" fill-rule=\"evenodd\" fill-opacity=\"0.5\"/>\n",
       "<polyline clip-path=\"url(#clip6903)\" style=\"stroke:#000000; stroke-width:4; stroke-opacity:0.5; fill:none\" points=\"\n",
       "  779.357,399.852 806.247,419.725 1591.16,575.921 1628.23,575.921 1628.23,488.567 1601.34,468.694 816.428,312.498 779.357,312.498 779.357,399.852 \n",
       "  \"/>\n",
       "<polygon clip-path=\"url(#clip6903)\" points=\"\n",
       "806.528,415.25 833.098,435.332 1615.44,600.07 1654.52,600.07 1654.52,513.125 1627.95,493.043 845.611,328.304 806.528,328.304 806.528,415.25 \n",
       "  \" fill=\"#add8e6\" fill-rule=\"evenodd\" fill-opacity=\"0.5\"/>\n",
       "<polyline clip-path=\"url(#clip6903)\" style=\"stroke:#000000; stroke-width:4; stroke-opacity:0.5; fill:none\" points=\"\n",
       "  806.528,415.25 833.098,435.332 1615.44,600.07 1654.52,600.07 1654.52,513.125 1627.95,493.043 845.611,328.304 806.528,328.304 806.528,415.25 \n",
       "  \"/>\n",
       "<polygon clip-path=\"url(#clip6903)\" points=\"\n",
       "833.452,430.893 859.698,451.18 1639.33,624.38 1680.41,624.38 1680.41,537.85 1654.17,517.564 874.537,344.364 833.452,344.364 833.452,430.893 \n",
       "  \" fill=\"#add8e6\" fill-rule=\"evenodd\" fill-opacity=\"0.5\"/>\n",
       "<polyline clip-path=\"url(#clip6903)\" style=\"stroke:#000000; stroke-width:4; stroke-opacity:0.5; fill:none\" points=\"\n",
       "  833.452,430.893 859.698,451.18 1639.33,624.38 1680.41,624.38 1680.41,537.85 1654.17,517.564 874.537,344.364 833.452,344.364 833.452,430.893 \n",
       "  \"/>\n",
       "<polygon clip-path=\"url(#clip6903)\" points=\"\n",
       "860.126,467.265 1636.91,648.846 1679.42,648.846 1705.9,573.029 1705.9,542.252 929.119,360.671 886.606,360.671 860.126,436.487 860.126,467.265 \n",
       "  \" fill=\"#add8e6\" fill-rule=\"evenodd\" fill-opacity=\"0.5\"/>\n",
       "<polyline clip-path=\"url(#clip6903)\" style=\"stroke:#000000; stroke-width:4; stroke-opacity:0.5; fill:none\" points=\"\n",
       "  860.126,467.265 1636.91,648.846 1679.42,648.846 1705.9,573.029 1705.9,542.252 929.119,360.671 886.606,360.671 860.126,436.487 860.126,467.265 \n",
       "  \"/>\n",
       "<polygon clip-path=\"url(#clip6903)\" points=\"\n",
       "886.546,483.581 1660.35,673.461 1703.3,673.461 1730.99,598.398 1730.99,567.101 957.186,377.221 914.236,377.221 886.546,452.284 886.546,483.581 \n",
       "  \" fill=\"#add8e6\" fill-rule=\"evenodd\" fill-opacity=\"0.5\"/>\n",
       "<polyline clip-path=\"url(#clip6903)\" style=\"stroke:#000000; stroke-width:4; stroke-opacity:0.5; fill:none\" points=\"\n",
       "  886.546,483.581 1660.35,673.461 1703.3,673.461 1730.99,598.398 1730.99,567.101 957.186,377.221 914.236,377.221 886.546,452.284 886.546,483.581 \n",
       "  \"/>\n",
       "<polygon clip-path=\"url(#clip6903)\" points=\"\n",
       "912.708,500.126 1683.4,698.22 1726.78,698.22 1755.67,623.921 1755.67,592.105 984.98,394.011 941.596,394.011 912.708,468.31 912.708,500.126 \n",
       "  \" fill=\"#add8e6\" fill-rule=\"evenodd\" fill-opacity=\"0.5\"/>\n",
       "<polyline clip-path=\"url(#clip6903)\" style=\"stroke:#000000; stroke-width:4; stroke-opacity:0.5; fill:none\" points=\"\n",
       "  912.708,500.126 1683.4,698.22 1726.78,698.22 1755.67,623.921 1755.67,592.105 984.98,394.011 941.596,394.011 912.708,468.31 912.708,500.126 \n",
       "  \"/>\n",
       "<polygon clip-path=\"url(#clip6903)\" points=\"\n",
       "938.609,516.893 1706.06,723.118 1749.87,723.118 1779.95,649.593 1779.95,617.259 1012.5,411.035 968.683,411.035 938.609,484.56 938.609,516.893 \n",
       "  \" fill=\"#add8e6\" fill-rule=\"evenodd\" fill-opacity=\"0.5\"/>\n",
       "<polyline clip-path=\"url(#clip6903)\" style=\"stroke:#000000; stroke-width:4; stroke-opacity:0.5; fill:none\" points=\"\n",
       "  938.609,516.893 1706.06,723.118 1749.87,723.118 1779.95,649.593 1779.95,617.259 1012.5,411.035 968.683,411.035 938.609,484.56 938.609,516.893 \n",
       "  \"/>\n",
       "<polygon clip-path=\"url(#clip6903)\" points=\"\n",
       "964.244,533.88 1728.32,748.149 1772.56,748.149 1803.81,675.407 1803.81,642.558 1039.73,428.288 995.491,428.288 964.244,501.03 964.244,533.88 \n",
       "  \" fill=\"#add8e6\" fill-rule=\"evenodd\" fill-opacity=\"0.5\"/>\n",
       "<polyline clip-path=\"url(#clip6903)\" style=\"stroke:#000000; stroke-width:4; stroke-opacity:0.5; fill:none\" points=\"\n",
       "  964.244,533.88 1728.32,748.149 1772.56,748.149 1803.81,675.407 1803.81,642.558 1039.73,428.288 995.491,428.288 964.244,501.03 964.244,533.88 \n",
       "  \"/>\n",
       "<polygon clip-path=\"url(#clip6903)\" points=\"\n",
       "989.612,551.08 1750.19,773.308 1794.85,773.308 1827.26,701.359 1827.26,667.994 1066.69,445.767 1022.02,445.767 989.612,517.716 989.612,551.08 \n",
       "  \" fill=\"#add8e6\" fill-rule=\"evenodd\" fill-opacity=\"0.5\"/>\n",
       "<polyline clip-path=\"url(#clip6903)\" style=\"stroke:#000000; stroke-width:4; stroke-opacity:0.5; fill:none\" points=\"\n",
       "  989.612,551.08 1750.19,773.308 1794.85,773.308 1827.26,701.359 1827.26,667.994 1066.69,445.767 1022.02,445.767 989.612,517.716 989.612,551.08 \n",
       "  \"/>\n",
       "<polygon clip-path=\"url(#clip6903)\" points=\"\n",
       "1014.71,568.49 1771.65,798.588 1816.74,798.588 1850.3,727.442 1850.3,693.564 1093.35,463.466 1048.26,463.466 1014.71,534.612 1014.71,568.49 \n",
       "  \" fill=\"#add8e6\" fill-rule=\"evenodd\" fill-opacity=\"0.5\"/>\n",
       "<polyline clip-path=\"url(#clip6903)\" style=\"stroke:#000000; stroke-width:4; stroke-opacity:0.5; fill:none\" points=\"\n",
       "  1014.71,568.49 1771.65,798.588 1816.74,798.588 1850.3,727.442 1850.3,693.564 1093.35,463.466 1048.26,463.466 1014.71,534.612 1014.71,568.49 \n",
       "  \"/>\n",
       "<polygon clip-path=\"url(#clip6903)\" points=\"\n",
       "1039.53,586.106 1792.72,823.985 1838.23,823.985 1872.92,753.65 1872.92,719.26 1119.72,481.381 1074.22,481.381 1039.53,551.715 1039.53,586.106 \n",
       "  \" fill=\"#add8e6\" fill-rule=\"evenodd\" fill-opacity=\"0.5\"/>\n",
       "<polyline clip-path=\"url(#clip6903)\" style=\"stroke:#000000; stroke-width:4; stroke-opacity:0.5; fill:none\" points=\"\n",
       "  1039.53,586.106 1792.72,823.985 1838.23,823.985 1872.92,753.65 1872.92,719.26 1119.72,481.381 1074.22,481.381 1039.53,551.715 1039.53,586.106 \n",
       "  \"/>\n",
       "<polygon clip-path=\"url(#clip6903)\" points=\"\n",
       "1064.07,603.922 1813.39,849.492 1859.3,849.492 1895.11,779.979 1895.11,745.078 1145.8,499.507 1099.88,499.507 1064.07,569.021 1064.07,603.922 \n",
       "  \" fill=\"#add8e6\" fill-rule=\"evenodd\" fill-opacity=\"0.5\"/>\n",
       "<polyline clip-path=\"url(#clip6903)\" style=\"stroke:#000000; stroke-width:4; stroke-opacity:0.5; fill:none\" points=\"\n",
       "  1064.07,603.922 1813.39,849.492 1859.3,849.492 1895.11,779.979 1895.11,745.078 1145.8,499.507 1099.88,499.507 1064.07,569.021 1064.07,603.922 \n",
       "  \"/>\n",
       "<polygon clip-path=\"url(#clip6903)\" points=\"\n",
       "1088.33,621.933 1833.65,875.105 1879.97,875.105 1916.89,806.421 1916.89,771.011 1171.58,517.839 1125.25,517.839 1088.33,586.523 1088.33,621.933 \n",
       "  \" fill=\"#add8e6\" fill-rule=\"evenodd\" fill-opacity=\"0.5\"/>\n",
       "<polyline clip-path=\"url(#clip6903)\" style=\"stroke:#000000; stroke-width:4; stroke-opacity:0.5; fill:none\" points=\"\n",
       "  1088.33,621.933 1833.65,875.105 1879.97,875.105 1916.89,806.421 1916.89,771.011 1171.58,517.839 1125.25,517.839 1088.33,586.523 1088.33,621.933 \n",
       "  \"/>\n",
       "<polygon clip-path=\"url(#clip6903)\" points=\"\n",
       "1112.31,640.137 1853.5,900.818 1900.23,900.818 1938.25,832.971 1938.25,797.054 1197.06,536.373 1150.32,536.373 1112.31,604.219 1112.31,640.137 \n",
       "  \" fill=\"#add8e6\" fill-rule=\"evenodd\" fill-opacity=\"0.5\"/>\n",
       "<polyline clip-path=\"url(#clip6903)\" style=\"stroke:#000000; stroke-width:4; stroke-opacity:0.5; fill:none\" points=\"\n",
       "  1112.31,640.137 1853.5,900.818 1900.23,900.818 1938.25,832.971 1938.25,797.054 1197.06,536.373 1150.32,536.373 1112.31,604.219 1112.31,640.137 \n",
       "  \"/>\n",
       "<polygon clip-path=\"url(#clip6903)\" points=\"\n",
       "1135.99,658.527 1872.95,926.624 1920.08,926.624 1959.18,859.625 1959.18,823.202 1222.23,555.104 1175.09,555.104 1135.99,622.104 1135.99,658.527 \n",
       "  \" fill=\"#add8e6\" fill-rule=\"evenodd\" fill-opacity=\"0.5\"/>\n",
       "<polyline clip-path=\"url(#clip6903)\" style=\"stroke:#000000; stroke-width:4; stroke-opacity:0.5; fill:none\" points=\"\n",
       "  1135.99,658.527 1872.95,926.624 1920.08,926.624 1959.18,859.625 1959.18,823.202 1222.23,555.104 1175.09,555.104 1135.99,622.104 1135.99,658.527 \n",
       "  \"/>\n",
       "<polygon clip-path=\"url(#clip6903)\" points=\"\n",
       "1159.39,677.099 1891.99,952.52 1939.52,952.52 1979.69,886.375 1979.69,849.448 1247.09,574.028 1199.56,574.028 1159.39,640.173 1159.39,677.099 \n",
       "  \" fill=\"#add8e6\" fill-rule=\"evenodd\" fill-opacity=\"0.5\"/>\n",
       "<polyline clip-path=\"url(#clip6903)\" style=\"stroke:#000000; stroke-width:4; stroke-opacity:0.5; fill:none\" points=\"\n",
       "  1159.39,677.099 1891.99,952.52 1939.52,952.52 1979.69,886.375 1979.69,849.448 1247.09,574.028 1199.56,574.028 1159.39,640.173 1159.39,677.099 \n",
       "  \"/>\n",
       "<polygon clip-path=\"url(#clip6903)\" points=\"\n",
       "1182.5,695.849 1910.61,978.498 1958.54,978.498 1999.76,913.216 1999.76,875.788 1271.65,593.139 1223.72,593.139 1182.5,658.421 1182.5,695.849 \n",
       "  \" fill=\"#add8e6\" fill-rule=\"evenodd\" fill-opacity=\"0.5\"/>\n",
       "<polyline clip-path=\"url(#clip6903)\" style=\"stroke:#000000; stroke-width:4; stroke-opacity:0.5; fill:none\" points=\"\n",
       "  1182.5,695.849 1910.61,978.498 1958.54,978.498 1999.76,913.216 1999.76,875.788 1271.65,593.139 1223.72,593.139 1182.5,658.421 1182.5,695.849 \n",
       "  \"/>\n",
       "<polygon clip-path=\"url(#clip6903)\" points=\"\n",
       "1205.31,714.772 1928.83,1004.55 1977.15,1004.55 2019.41,940.142 2019.41,902.215 1295.89,612.432 1247.56,612.432 1205.31,676.845 1205.31,714.772 \n",
       "  \" fill=\"#add8e6\" fill-rule=\"evenodd\" fill-opacity=\"0.5\"/>\n",
       "<polyline clip-path=\"url(#clip6903)\" style=\"stroke:#000000; stroke-width:4; stroke-opacity:0.5; fill:none\" points=\"\n",
       "  1205.31,714.772 1928.83,1004.55 1977.15,1004.55 2019.41,940.142 2019.41,902.215 1295.89,612.432 1247.56,612.432 1205.31,676.845 1205.31,714.772 \n",
       "  \"/>\n",
       "<polygon clip-path=\"url(#clip6903)\" points=\"\n",
       "1227.81,733.863 1946.64,1030.68 1995.34,1030.68 2038.63,967.148 2038.63,928.724 1319.81,631.904 1271.1,631.904 1227.81,695.439 1227.81,733.863 \n",
       "  \" fill=\"#add8e6\" fill-rule=\"evenodd\" fill-opacity=\"0.5\"/>\n",
       "<polyline clip-path=\"url(#clip6903)\" style=\"stroke:#000000; stroke-width:4; stroke-opacity:0.5; fill:none\" points=\"\n",
       "  1227.81,733.863 1946.64,1030.68 1995.34,1030.68 2038.63,967.148 2038.63,928.724 1319.81,631.904 1271.1,631.904 1227.81,695.439 1227.81,733.863 \n",
       "  \"/>\n",
       "<polygon clip-path=\"url(#clip6903)\" points=\"\n",
       "1250.02,753.118 1964.03,1056.88 2013.12,1056.88 2057.41,994.229 2057.41,955.309 1343.41,651.549 1294.32,651.549 1250.02,714.199 1250.02,753.118 \n",
       "  \" fill=\"#add8e6\" fill-rule=\"evenodd\" fill-opacity=\"0.5\"/>\n",
       "<polyline clip-path=\"url(#clip6903)\" style=\"stroke:#000000; stroke-width:4; stroke-opacity:0.5; fill:none\" points=\"\n",
       "  1250.02,753.118 1964.03,1056.88 2013.12,1056.88 2057.41,994.229 2057.41,955.309 1343.41,651.549 1294.32,651.549 1250.02,714.199 1250.02,753.118 \n",
       "  \"/>\n",
       "<polygon clip-path=\"url(#clip6903)\" points=\"\n",
       "1271.93,772.533 1981,1083.13 2030.47,1083.13 2075.77,1021.38 2075.77,981.965 1366.69,671.363 1317.22,671.363 1271.93,733.12 1271.93,772.533 \n",
       "  \" fill=\"#add8e6\" fill-rule=\"evenodd\" fill-opacity=\"0.5\"/>\n",
       "<polyline clip-path=\"url(#clip6903)\" style=\"stroke:#000000; stroke-width:4; stroke-opacity:0.5; fill:none\" points=\"\n",
       "  1271.93,772.533 1981,1083.13 2030.47,1083.13 2075.77,1021.38 2075.77,981.965 1366.69,671.363 1317.22,671.363 1271.93,733.12 1271.93,772.533 \n",
       "  \"/>\n",
       "<polygon clip-path=\"url(#clip6903)\" points=\"\n",
       "1293.52,792.101 1997.56,1109.45 2047.41,1109.45 2093.69,1048.59 2093.69,1008.69 1389.65,691.34 1339.8,691.34 1293.52,752.198 1293.52,792.101 \n",
       "  \" fill=\"#add8e6\" fill-rule=\"evenodd\" fill-opacity=\"0.5\"/>\n",
       "<polyline clip-path=\"url(#clip6903)\" style=\"stroke:#000000; stroke-width:4; stroke-opacity:0.5; fill:none\" points=\"\n",
       "  1293.52,792.101 1997.56,1109.45 2047.41,1109.45 2093.69,1048.59 2093.69,1008.69 1389.65,691.34 1339.8,691.34 1293.52,752.198 1293.52,792.101 \n",
       "  \"/>\n",
       "<polygon clip-path=\"url(#clip6903)\" points=\"\n",
       "1314.81,811.82 2013.71,1135.81 2063.92,1135.81 2111.17,1075.86 2111.17,1035.47 1412.27,711.476 1362.06,711.476 1314.81,771.429 1314.81,811.82 \n",
       "  \" fill=\"#add8e6\" fill-rule=\"evenodd\" fill-opacity=\"0.5\"/>\n",
       "<polyline clip-path=\"url(#clip6903)\" style=\"stroke:#000000; stroke-width:4; stroke-opacity:0.5; fill:none\" points=\"\n",
       "  1314.81,811.82 2013.71,1135.81 2063.92,1135.81 2111.17,1075.86 2111.17,1035.47 1412.27,711.476 1362.06,711.476 1314.81,771.429 1314.81,811.82 \n",
       "  \"/>\n",
       "<polygon clip-path=\"url(#clip6903)\" points=\"\n",
       "1335.79,831.683 2029.43,1162.22 2080.01,1162.22 2128.22,1103.18 2128.22,1062.3 1434.57,731.767 1383.99,731.767 1335.79,790.807 1335.79,831.683 \n",
       "  \" fill=\"#add8e6\" fill-rule=\"evenodd\" fill-opacity=\"0.5\"/>\n",
       "<polyline clip-path=\"url(#clip6903)\" style=\"stroke:#000000; stroke-width:4; stroke-opacity:0.5; fill:none\" points=\"\n",
       "  1335.79,831.683 2029.43,1162.22 2080.01,1162.22 2128.22,1103.18 2128.22,1062.3 1434.57,731.767 1383.99,731.767 1335.79,790.807 1335.79,831.683 \n",
       "  \"/>\n",
       "<polygon clip-path=\"url(#clip6903)\" points=\"\n",
       "1356.45,851.688 2044.74,1188.67 2095.69,1188.67 2144.83,1130.54 2144.83,1089.19 1456.54,752.207 1405.59,752.207 1356.45,810.329 1356.45,851.688 \n",
       "  \" fill=\"#add8e6\" fill-rule=\"evenodd\" fill-opacity=\"0.5\"/>\n",
       "<polyline clip-path=\"url(#clip6903)\" style=\"stroke:#000000; stroke-width:4; stroke-opacity:0.5; fill:none\" points=\"\n",
       "  1356.45,851.688 2044.74,1188.67 2095.69,1188.67 2144.83,1130.54 2144.83,1089.19 1456.54,752.207 1405.59,752.207 1356.45,810.329 1356.45,851.688 \n",
       "  \"/>\n",
       "<polygon clip-path=\"url(#clip6903)\" points=\"\n",
       "1376.8,871.828 2059.63,1215.15 2110.93,1215.15 2161,1157.95 2161,1116.11 1478.17,772.791 1426.86,772.791 1376.8,829.989 1376.8,871.828 \n",
       "  \" fill=\"#add8e6\" fill-rule=\"evenodd\" fill-opacity=\"0.5\"/>\n",
       "<polyline clip-path=\"url(#clip6903)\" style=\"stroke:#000000; stroke-width:4; stroke-opacity:0.5; fill:none\" points=\"\n",
       "  1376.8,871.828 2059.63,1215.15 2110.93,1215.15 2161,1157.95 2161,1116.11 1478.17,772.791 1426.86,772.791 1376.8,829.989 1376.8,871.828 \n",
       "  \"/>\n",
       "<polygon clip-path=\"url(#clip6903)\" points=\"\n",
       "1396.83,892.099 2074.1,1241.66 2125.76,1241.66 2176.74,1185.39 2176.74,1143.08 1499.46,793.516 1447.8,793.516 1396.83,849.783 1396.83,892.099 \n",
       "  \" fill=\"#add8e6\" fill-rule=\"evenodd\" fill-opacity=\"0.5\"/>\n",
       "<polyline clip-path=\"url(#clip6903)\" style=\"stroke:#000000; stroke-width:4; stroke-opacity:0.5; fill:none\" points=\"\n",
       "  1396.83,892.099 2074.1,1241.66 2125.76,1241.66 2176.74,1185.39 2176.74,1143.08 1499.46,793.516 1447.8,793.516 1396.83,849.783 1396.83,892.099 \n",
       "  \"/>\n",
       "<polygon clip-path=\"url(#clip6903)\" points=\"\n",
       "1416.53,912.497 2088.15,1268.2 2140.16,1268.2 2192.03,1212.87 2192.03,1170.08 1520.41,814.375 1468.41,814.375 1416.53,869.707 1416.53,912.497 \n",
       "  \" fill=\"#add8e6\" fill-rule=\"evenodd\" fill-opacity=\"0.5\"/>\n",
       "<polyline clip-path=\"url(#clip6903)\" style=\"stroke:#000000; stroke-width:4; stroke-opacity:0.5; fill:none\" points=\"\n",
       "  1416.53,912.497 2088.15,1268.2 2140.16,1268.2 2192.03,1212.87 2192.03,1170.08 1520.41,814.375 1468.41,814.375 1416.53,869.707 1416.53,912.497 \n",
       "  \"/>\n",
       "<polygon clip-path=\"url(#clip6903)\" points=\"\n",
       "1435.92,933.016 2101.79,1294.75 2154.14,1294.75 2206.89,1240.36 2206.89,1197.1 1541.02,835.365 1488.67,835.365 1435.92,889.755 1435.92,933.016 \n",
       "  \" fill=\"#add8e6\" fill-rule=\"evenodd\" fill-opacity=\"0.5\"/>\n",
       "<polyline clip-path=\"url(#clip6903)\" style=\"stroke:#000000; stroke-width:4; stroke-opacity:0.5; fill:none\" points=\"\n",
       "  1435.92,933.016 2101.79,1294.75 2154.14,1294.75 2206.89,1240.36 2206.89,1197.1 1541.02,835.365 1488.67,835.365 1435.92,889.755 1435.92,933.016 \n",
       "  \"/>\n",
       "<polygon clip-path=\"url(#clip6903)\" points=\"\n",
       "1454.98,953.653 2115,1321.32 2167.69,1321.32 2221.3,1267.88 2221.3,1224.15 1561.29,856.48 1508.6,856.48 1454.98,909.924 1454.98,953.653 \n",
       "  \" fill=\"#add8e6\" fill-rule=\"evenodd\" fill-opacity=\"0.5\"/>\n",
       "<polyline clip-path=\"url(#clip6903)\" style=\"stroke:#000000; stroke-width:4; stroke-opacity:0.5; fill:none\" points=\"\n",
       "  1454.98,953.653 2115,1321.32 2167.69,1321.32 2221.3,1267.88 2221.3,1224.15 1561.29,856.48 1508.6,856.48 1454.98,909.924 1454.98,953.653 \n",
       "  \"/>\n",
       "<polygon clip-path=\"url(#clip6903)\" points=\"\n",
       "1473.72,974.403 2127.79,1347.9 2180.81,1347.9 2235.28,1295.4 2235.28,1251.21 1581.21,877.716 1528.19,877.716 1473.72,930.208 1473.72,974.403 \n",
       "  \" fill=\"#add8e6\" fill-rule=\"evenodd\" fill-opacity=\"0.5\"/>\n",
       "<polyline clip-path=\"url(#clip6903)\" style=\"stroke:#000000; stroke-width:4; stroke-opacity:0.5; fill:none\" points=\"\n",
       "  1473.72,974.403 2127.79,1347.9 2180.81,1347.9 2235.28,1295.4 2235.28,1251.21 1581.21,877.716 1528.19,877.716 1473.72,930.208 1473.72,974.403 \n",
       "  \"/>\n",
       "<polygon clip-path=\"url(#clip6903)\" points=\"\n",
       "1492.13,995.26 2140.16,1374.47 2193.52,1374.47 2248.82,1322.94 2248.82,1278.28 1600.78,899.068 1547.43,899.068 1492.13,950.604 1492.13,995.26 \n",
       "  \" fill=\"#add8e6\" fill-rule=\"evenodd\" fill-opacity=\"0.5\"/>\n",
       "<polyline clip-path=\"url(#clip6903)\" style=\"stroke:#000000; stroke-width:4; stroke-opacity:0.5; fill:none\" points=\"\n",
       "  1492.13,995.26 2140.16,1374.47 2193.52,1374.47 2248.82,1322.94 2248.82,1278.28 1600.78,899.068 1547.43,899.068 1492.13,950.604 1492.13,995.26 \n",
       "  \"/>\n",
       "<polygon clip-path=\"url(#clip6903)\" points=\"\n",
       "1510.21,1016.22 2152.11,1401.05 2205.79,1401.05 2261.91,1350.48 2261.91,1305.36 1620.01,920.53 1566.33,920.53 1510.21,971.106 1510.21,1016.22 \n",
       "  \" fill=\"#add8e6\" fill-rule=\"evenodd\" fill-opacity=\"0.5\"/>\n",
       "<polyline clip-path=\"url(#clip6903)\" style=\"stroke:#000000; stroke-width:4; stroke-opacity:0.5; fill:none\" points=\"\n",
       "  1510.21,1016.22 2152.11,1401.05 2205.79,1401.05 2261.91,1350.48 2261.91,1305.36 1620.01,920.53 1566.33,920.53 1510.21,971.106 1510.21,1016.22 \n",
       "  \"/>\n",
       "<polygon clip-path=\"url(#clip6903)\" points=\"\n",
       "285.188,175.106 1090.39,175.106 1090.39,91.4474 285.188,91.4474 285.188,175.106 285.188,175.106 \n",
       "  \" fill=\"#ffa500\" fill-rule=\"evenodd\" fill-opacity=\"0.5\"/>\n",
       "<polyline clip-path=\"url(#clip6903)\" style=\"stroke:#000000; stroke-width:4; stroke-opacity:0.5; fill:none\" points=\"\n",
       "  285.188,175.106 1090.39,175.106 1090.39,91.4474 285.188,91.4474 285.188,175.106 \n",
       "  \"/>\n",
       "<circle clip-path=\"url(#clip6903)\" style=\"fill:#000000; stroke:none; fill-opacity:1\" cx=\"848.827\" cy=\"210.745\" r=\"18\"/>\n",
       "<circle clip-path=\"url(#clip6903)\" style=\"fill:#000000; stroke:none; fill-opacity:1\" cx=\"848.827\" cy=\"210.745\" r=\"14\"/>\n",
       "</svg>\n"
      ]
     },
     "execution_count": 16,
     "metadata": {},
     "output_type": "execute_result"
    }
   ],
   "source": [
    "δcont2 = δ / 10\n",
    "𝑆lin2 = deepcopy(𝑆lin)\n",
    "𝑋₀2 = deepcopy(𝑋₀)\n",
    "𝑃lin2 = InitialValueProblem(𝑆lin2, 𝑋₀2)\n",
    "@time Rlin2 = solve(𝑃lin2, Options(:T=>5*δ), op=GLGM06(:δ=>δcont, :max_order=>2));\n",
    "plot(Rlin2, color=:lightblue, alpha=.5)\n",
    "plot!(𝑋₀2, color=:orange, alpha=.5, xlab=\"x\", ylab=\"y\")\n",
    "plot!(Singleton(x̃), color=:black) # linearization point"
   ]
  },
  {
   "cell_type": "markdown",
   "metadata": {},
   "source": [
    "### Computation of the set of admissible linearization errors $\\bar{L}$"
   ]
  },
  {
   "cell_type": "markdown",
   "metadata": {},
   "source": [
    "We use the approach in [1] where the rate of growth of the admissible linearization error is bounded with a multi-dimensional interval by an expansion vector $\\theta$. For our running example, we consider the expansion vector $\\theta = [0.05, 0.05]$:"
   ]
  },
  {
   "cell_type": "code",
   "execution_count": 17,
   "metadata": {},
   "outputs": [
    {
     "data": {
      "text/plain": [
       "2-element Array{Float64,1}:\n",
       " 0.05\n",
       " 0.05"
      ]
     },
     "execution_count": 17,
     "metadata": {},
     "output_type": "execute_result"
    }
   ],
   "source": [
    "θ = fill(0.05, 2)"
   ]
  },
  {
   "cell_type": "markdown",
   "metadata": {},
   "source": [
    "The term $A^{-1}(e^{A\\delta} - I)$ can be computed using `Φ₁` implemented in Reachablity. We don't need to assume that $A$ is invertible, since we can use the series expansion of the exponential matrix. See the documentation of `using Reachability.ReachSets: Φ₁` for details."
   ]
  },
  {
   "cell_type": "code",
   "execution_count": 18,
   "metadata": {},
   "outputs": [],
   "source": [
    "using Reachability.ReachSets: Φ₁"
   ]
  },
  {
   "cell_type": "code",
   "execution_count": 19,
   "metadata": {},
   "outputs": [
    {
     "data": {
      "text/plain": [
       "2×2 Array{Float64,2}:\n",
       "  0.0498412   0.00122479\n",
       " -0.00947691  0.0484552 "
      ]
     },
     "execution_count": 19,
     "metadata": {},
     "output_type": "execute_result"
    }
   ],
   "source": [
    "Φ₁_Aδ = Φ₁(Ax̃, δ)"
   ]
  },
  {
   "cell_type": "code",
   "execution_count": 20,
   "metadata": {},
   "outputs": [
    {
     "data": {
      "text/plain": [
       "Hyperrectangle{Float64}([0.0, 0.0], [0.0025, 0.0025])"
      ]
     },
     "execution_count": 20,
     "metadata": {},
     "output_type": "execute_result"
    }
   ],
   "source": [
    "R̄err = Hyperrectangle(zeros(2), θ*δ)"
   ]
  },
  {
   "cell_type": "code",
   "execution_count": 21,
   "metadata": {},
   "outputs": [
    {
     "data": {
      "text/plain": [
       "Hyperrectangle{Float64}([0.0, 0.0], [0.0511812, 0.0611105])"
      ]
     },
     "execution_count": 21,
     "metadata": {},
     "output_type": "execute_result"
    }
   ],
   "source": [
    "l̄ = abs.(inv(Φ₁_Aδ)) * θ * δ\n",
    "L̄ = Hyperrectangle(zeros(2), l̄)"
   ]
  },
  {
   "cell_type": "markdown",
   "metadata": {},
   "source": [
    "### Computation of the set of linearization errors $L$\n",
    "\n",
    "The computation of the set of linearization errors is performed using the computed flowpipe of the linearized system and the admissible linearization errors as described below, following [1]."
   ]
  },
  {
   "cell_type": "markdown",
   "metadata": {},
   "source": [
    "In particular, we use interval arithmetics to bound the lagrangian $L_i$ by a multi-dimensional interval."
   ]
  },
  {
   "cell_type": "markdown",
   "metadata": {},
   "source": [
    "Recall from the linearization section that the linearization error $L_i$ is obtained by an evaluation of the Lagrange remainder,\n",
    "\n",
    "$$\n",
    "L_i(x, x̃) = \\frac{1}{2} (x-x̃)^T H_{f_i}(ξ) (x-x̃), \\qquad i = 1,2.\n",
    "$$\n",
    "where $ξ$ lives in the convex hull $ξ = CH(x̃, x) = \\{x̃ + \\alpha(x - x̃), \\alpha \\in [0, 1]\\}$."
   ]
  },
  {
   "cell_type": "markdown",
   "metadata": {},
   "source": [
    "Let's compute the Hessian matrix:"
   ]
  },
  {
   "cell_type": "code",
   "execution_count": 22,
   "metadata": {},
   "outputs": [
    {
     "data": {
      "text/plain": [
       "2×2 Array{TaylorN{Float64},2}:\n",
       "  0.0 + 𝒪(‖x‖⁵)   0.0 + 𝒪(‖x‖⁵)\n",
       "  0.0 + 𝒪(‖x‖⁵)   0.0 + 𝒪(‖x‖⁵)"
      ]
     },
     "execution_count": 22,
     "metadata": {},
     "output_type": "execute_result"
    }
   ],
   "source": [
    "#Hf = Matrix{TaylorN{Float64}}(undef, 2, 2)\n",
    "Hf₁ = [∂(f[1], (2, 0)) ∂(f[1], (1, 1));\n",
    "       ∂(f[1], (1, 1)) ∂(f[1], (0, 2))]"
   ]
  },
  {
   "cell_type": "code",
   "execution_count": 23,
   "metadata": {},
   "outputs": [
    {
     "data": {
      "text/plain": [
       "2×2 Array{TaylorN{Float64},2}:\n",
       "  - 2.0 x₂ + 𝒪(‖x‖⁵)   - 2.0 x₁ + 𝒪(‖x‖⁵)\n",
       "  - 2.0 x₁ + 𝒪(‖x‖⁵)        0.0 + 𝒪(‖x‖⁵)"
      ]
     },
     "execution_count": 23,
     "metadata": {},
     "output_type": "execute_result"
    }
   ],
   "source": [
    "Hf₂ = [∂(f[2], (2, 0)) ∂(f[2], (1, 1));\n",
    "       ∂(f[2], (1, 1)) ∂(f[2], (0, 2))]"
   ]
  },
  {
   "cell_type": "markdown",
   "metadata": {},
   "source": [
    "*Note.* The jacobian and hessian matrices can also be computed numerically with `TaylorSeries`, eg. "
   ]
  },
  {
   "cell_type": "code",
   "execution_count": 24,
   "metadata": {},
   "outputs": [
    {
     "data": {
      "text/plain": [
       "2×2 Transpose{Float64,Array{Float64,2}}:\n",
       " -1.32356   -0.502717\n",
       " -0.502717   0.0     "
      ]
     },
     "execution_count": 24,
     "metadata": {},
     "output_type": "execute_result"
    }
   ],
   "source": [
    "d = rand(2)\n",
    "hessian(f[2], d)"
   ]
  },
  {
   "cell_type": "code",
   "execution_count": 25,
   "metadata": {},
   "outputs": [
    {
     "data": {
      "text/plain": [
       "2×2 Array{Float64,2}:\n",
       " -1.32356   -0.502717\n",
       " -0.502717   0.0     "
      ]
     },
     "execution_count": 25,
     "metadata": {},
     "output_type": "execute_result"
    }
   ],
   "source": [
    "map(x -> evaluate(x, d), Hf₂)"
   ]
  },
  {
   "cell_type": "markdown",
   "metadata": {},
   "source": [
    "To compute $L_i$ for the dense time interval $t \\in [0, \\delta]$ we have to consider possible values of $x$ within this time interval. Since $\\mathcal{R}([0, \\delta])$ is not known in advance, we need to somehow approximate this flowpipe and then validated it. The exact values of $x$ are overapproximated by $\\mathcal{R}^{lin}([0, \\delta]) \\oplus \\bar{R}^{err}$."
   ]
  },
  {
   "cell_type": "code",
   "execution_count": 26,
   "metadata": {},
   "outputs": [],
   "source": [
    "# admissible reachable set\n",
    "Rlin_plus_R̄err = [Ri.X ⊕ R̄err for Ri in Rlin.Xk];"
   ]
  },
  {
   "cell_type": "markdown",
   "metadata": {},
   "source": [
    "The Lagrange remainder terms $L_i$ are overapproximated in two ways:\n",
    "\n",
    "1. using interval arithmetic on the quadratic expression\n",
    "2. using the zonotopic overapproximation from [Prop. 3.7, 1]."
   ]
  },
  {
   "cell_type": "markdown",
   "metadata": {},
   "source": [
    "Let's take approach 1. The possible values of $x$ are included in the set $\\mathcal{R}^{lin}([0, \\delta]) \\oplus \\bar{R}^{err}$.\n",
    "\n",
    "Let $\\hat{R}^{lin}$ be the minimum bounding box that includes these sets. Since the convex hull and Minkowski sum are commuting operations, we can do\n",
    "\n",
    "$$\n",
    "\\hat{R}^{lin} := CH(\\mathcal{R}^{lin}(0), \\mathcal{R}^{lin}(\\delta_{cont}), \\mathcal{R}^{lin}(2\\delta_{cont}), \\ldots, \\mathcal{R}^{lin}(\\delta))\\oplus \\bar{R}^{err}.\n",
    "$$"
   ]
  },
  {
   "cell_type": "code",
   "execution_count": 27,
   "metadata": {},
   "outputs": [],
   "source": [
    "R̂lin = ConvexHullArray([Ri.X for Ri in Rlin.Xk]) ⊕ R̄err;"
   ]
  },
  {
   "cell_type": "code",
   "execution_count": 28,
   "metadata": {},
   "outputs": [
    {
     "data": {
      "image/svg+xml": [
       "<?xml version=\"1.0\" encoding=\"utf-8\"?>\n",
       "<svg xmlns=\"http://www.w3.org/2000/svg\" xmlns:xlink=\"http://www.w3.org/1999/xlink\" width=\"600\" height=\"400\" viewBox=\"0 0 2400 1600\">\n",
       "<defs>\n",
       "  <clipPath id=\"clip7100\">\n",
       "    <rect x=\"0\" y=\"0\" width=\"2000\" height=\"2000\"/>\n",
       "  </clipPath>\n",
       "</defs>\n",
       "<defs>\n",
       "  <clipPath id=\"clip7101\">\n",
       "    <rect x=\"0\" y=\"0\" width=\"2400\" height=\"1600\"/>\n",
       "  </clipPath>\n",
       "</defs>\n",
       "<polygon clip-path=\"url(#clip7101)\" points=\"\n",
       "0,1600 2400,1600 2400,0 0,0 \n",
       "  \" fill=\"#ffffff\" fill-rule=\"evenodd\" fill-opacity=\"1\"/>\n",
       "<defs>\n",
       "  <clipPath id=\"clip7102\">\n",
       "    <rect x=\"480\" y=\"0\" width=\"1681\" height=\"1600\"/>\n",
       "  </clipPath>\n",
       "</defs>\n",
       "<polygon clip-path=\"url(#clip7101)\" points=\"\n",
       "243.029,1503.47 2321.26,1503.47 2321.26,47.2441 243.029,47.2441 \n",
       "  \" fill=\"#ffffff\" fill-rule=\"evenodd\" fill-opacity=\"1\"/>\n",
       "<defs>\n",
       "  <clipPath id=\"clip7103\">\n",
       "    <rect x=\"243\" y=\"47\" width=\"2079\" height=\"1457\"/>\n",
       "  </clipPath>\n",
       "</defs>\n",
       "<polyline clip-path=\"url(#clip7103)\" style=\"stroke:#000000; stroke-width:2; stroke-opacity:0.1; fill:none\" points=\"\n",
       "  497.906,1503.47 497.906,47.2441 \n",
       "  \"/>\n",
       "<polyline clip-path=\"url(#clip7103)\" style=\"stroke:#000000; stroke-width:2; stroke-opacity:0.1; fill:none\" points=\"\n",
       "  890.025,1503.47 890.025,47.2441 \n",
       "  \"/>\n",
       "<polyline clip-path=\"url(#clip7103)\" style=\"stroke:#000000; stroke-width:2; stroke-opacity:0.1; fill:none\" points=\"\n",
       "  1282.14,1503.47 1282.14,47.2441 \n",
       "  \"/>\n",
       "<polyline clip-path=\"url(#clip7103)\" style=\"stroke:#000000; stroke-width:2; stroke-opacity:0.1; fill:none\" points=\"\n",
       "  1674.26,1503.47 1674.26,47.2441 \n",
       "  \"/>\n",
       "<polyline clip-path=\"url(#clip7103)\" style=\"stroke:#000000; stroke-width:2; stroke-opacity:0.1; fill:none\" points=\"\n",
       "  2066.38,1503.47 2066.38,47.2441 \n",
       "  \"/>\n",
       "<polyline clip-path=\"url(#clip7103)\" style=\"stroke:#000000; stroke-width:2; stroke-opacity:0.1; fill:none\" points=\"\n",
       "  243.029,1324.88 2321.26,1324.88 \n",
       "  \"/>\n",
       "<polyline clip-path=\"url(#clip7103)\" style=\"stroke:#000000; stroke-width:2; stroke-opacity:0.1; fill:none\" points=\"\n",
       "  243.029,1050.12 2321.26,1050.12 \n",
       "  \"/>\n",
       "<polyline clip-path=\"url(#clip7103)\" style=\"stroke:#000000; stroke-width:2; stroke-opacity:0.1; fill:none\" points=\"\n",
       "  243.029,775.359 2321.26,775.359 \n",
       "  \"/>\n",
       "<polyline clip-path=\"url(#clip7103)\" style=\"stroke:#000000; stroke-width:2; stroke-opacity:0.1; fill:none\" points=\"\n",
       "  243.029,500.599 2321.26,500.599 \n",
       "  \"/>\n",
       "<polyline clip-path=\"url(#clip7103)\" style=\"stroke:#000000; stroke-width:2; stroke-opacity:0.1; fill:none\" points=\"\n",
       "  243.029,225.838 2321.26,225.838 \n",
       "  \"/>\n",
       "<polyline clip-path=\"url(#clip7101)\" style=\"stroke:#000000; stroke-width:4; stroke-opacity:1; fill:none\" points=\"\n",
       "  243.029,1503.47 2321.26,1503.47 \n",
       "  \"/>\n",
       "<polyline clip-path=\"url(#clip7101)\" style=\"stroke:#000000; stroke-width:4; stroke-opacity:1; fill:none\" points=\"\n",
       "  243.029,1503.47 243.029,47.2441 \n",
       "  \"/>\n",
       "<polyline clip-path=\"url(#clip7101)\" style=\"stroke:#000000; stroke-width:4; stroke-opacity:1; fill:none\" points=\"\n",
       "  497.906,1503.47 497.906,1481.63 \n",
       "  \"/>\n",
       "<polyline clip-path=\"url(#clip7101)\" style=\"stroke:#000000; stroke-width:4; stroke-opacity:1; fill:none\" points=\"\n",
       "  890.025,1503.47 890.025,1481.63 \n",
       "  \"/>\n",
       "<polyline clip-path=\"url(#clip7101)\" style=\"stroke:#000000; stroke-width:4; stroke-opacity:1; fill:none\" points=\"\n",
       "  1282.14,1503.47 1282.14,1481.63 \n",
       "  \"/>\n",
       "<polyline clip-path=\"url(#clip7101)\" style=\"stroke:#000000; stroke-width:4; stroke-opacity:1; fill:none\" points=\"\n",
       "  1674.26,1503.47 1674.26,1481.63 \n",
       "  \"/>\n",
       "<polyline clip-path=\"url(#clip7101)\" style=\"stroke:#000000; stroke-width:4; stroke-opacity:1; fill:none\" points=\"\n",
       "  2066.38,1503.47 2066.38,1481.63 \n",
       "  \"/>\n",
       "<polyline clip-path=\"url(#clip7101)\" style=\"stroke:#000000; stroke-width:4; stroke-opacity:1; fill:none\" points=\"\n",
       "  243.029,1324.88 274.202,1324.88 \n",
       "  \"/>\n",
       "<polyline clip-path=\"url(#clip7101)\" style=\"stroke:#000000; stroke-width:4; stroke-opacity:1; fill:none\" points=\"\n",
       "  243.029,1050.12 274.202,1050.12 \n",
       "  \"/>\n",
       "<polyline clip-path=\"url(#clip7101)\" style=\"stroke:#000000; stroke-width:4; stroke-opacity:1; fill:none\" points=\"\n",
       "  243.029,775.359 274.202,775.359 \n",
       "  \"/>\n",
       "<polyline clip-path=\"url(#clip7101)\" style=\"stroke:#000000; stroke-width:4; stroke-opacity:1; fill:none\" points=\"\n",
       "  243.029,500.599 274.202,500.599 \n",
       "  \"/>\n",
       "<polyline clip-path=\"url(#clip7101)\" style=\"stroke:#000000; stroke-width:4; stroke-opacity:1; fill:none\" points=\"\n",
       "  243.029,225.838 274.202,225.838 \n",
       "  \"/>\n",
       "<g clip-path=\"url(#clip7101)\">\n",
       "<text style=\"fill:#000000; fill-opacity:1; font-family:Arial,Helvetica Neue,Helvetica,sans-serif; font-size:48px; text-anchor:middle;\" transform=\"rotate(0, 497.906, 1557.47)\" x=\"497.906\" y=\"1557.47\">-0.002</text>\n",
       "</g>\n",
       "<g clip-path=\"url(#clip7101)\">\n",
       "<text style=\"fill:#000000; fill-opacity:1; font-family:Arial,Helvetica Neue,Helvetica,sans-serif; font-size:48px; text-anchor:middle;\" transform=\"rotate(0, 890.025, 1557.47)\" x=\"890.025\" y=\"1557.47\">-0.001</text>\n",
       "</g>\n",
       "<g clip-path=\"url(#clip7101)\">\n",
       "<text style=\"fill:#000000; fill-opacity:1; font-family:Arial,Helvetica Neue,Helvetica,sans-serif; font-size:48px; text-anchor:middle;\" transform=\"rotate(0, 1282.14, 1557.47)\" x=\"1282.14\" y=\"1557.47\">0.000</text>\n",
       "</g>\n",
       "<g clip-path=\"url(#clip7101)\">\n",
       "<text style=\"fill:#000000; fill-opacity:1; font-family:Arial,Helvetica Neue,Helvetica,sans-serif; font-size:48px; text-anchor:middle;\" transform=\"rotate(0, 1674.26, 1557.47)\" x=\"1674.26\" y=\"1557.47\">0.001</text>\n",
       "</g>\n",
       "<g clip-path=\"url(#clip7101)\">\n",
       "<text style=\"fill:#000000; fill-opacity:1; font-family:Arial,Helvetica Neue,Helvetica,sans-serif; font-size:48px; text-anchor:middle;\" transform=\"rotate(0, 2066.38, 1557.47)\" x=\"2066.38\" y=\"1557.47\">0.002</text>\n",
       "</g>\n",
       "<g clip-path=\"url(#clip7101)\">\n",
       "<text style=\"fill:#000000; fill-opacity:1; font-family:Arial,Helvetica Neue,Helvetica,sans-serif; font-size:48px; text-anchor:end;\" transform=\"rotate(0, 219.029, 1342.38)\" x=\"219.029\" y=\"1342.38\">-0.002</text>\n",
       "</g>\n",
       "<g clip-path=\"url(#clip7101)\">\n",
       "<text style=\"fill:#000000; fill-opacity:1; font-family:Arial,Helvetica Neue,Helvetica,sans-serif; font-size:48px; text-anchor:end;\" transform=\"rotate(0, 219.029, 1067.62)\" x=\"219.029\" y=\"1067.62\">-0.001</text>\n",
       "</g>\n",
       "<g clip-path=\"url(#clip7101)\">\n",
       "<text style=\"fill:#000000; fill-opacity:1; font-family:Arial,Helvetica Neue,Helvetica,sans-serif; font-size:48px; text-anchor:end;\" transform=\"rotate(0, 219.029, 792.859)\" x=\"219.029\" y=\"792.859\">0.000</text>\n",
       "</g>\n",
       "<g clip-path=\"url(#clip7101)\">\n",
       "<text style=\"fill:#000000; fill-opacity:1; font-family:Arial,Helvetica Neue,Helvetica,sans-serif; font-size:48px; text-anchor:end;\" transform=\"rotate(0, 219.029, 518.099)\" x=\"219.029\" y=\"518.099\">0.001</text>\n",
       "</g>\n",
       "<g clip-path=\"url(#clip7101)\">\n",
       "<text style=\"fill:#000000; fill-opacity:1; font-family:Arial,Helvetica Neue,Helvetica,sans-serif; font-size:48px; text-anchor:end;\" transform=\"rotate(0, 219.029, 243.338)\" x=\"219.029\" y=\"243.338\">0.002</text>\n",
       "</g>\n",
       "<polygon clip-path=\"url(#clip7103)\" points=\"\n",
       "301.847,1462.26 2262.44,1462.26 2262.44,88.4582 301.847,88.4582 301.847,1462.26 301.847,1462.26 \n",
       "  \" fill=\"#ff0000\" fill-rule=\"evenodd\" fill-opacity=\"0.2\"/>\n",
       "<polyline clip-path=\"url(#clip7103)\" style=\"stroke:#000000; stroke-width:4; stroke-opacity:0.2; fill:none\" points=\"\n",
       "  301.847,1462.26 2262.44,1462.26 2262.44,88.4582 301.847,88.4582 301.847,1462.26 \n",
       "  \"/>\n",
       "</svg>\n"
      ]
     },
     "execution_count": 28,
     "metadata": {},
     "output_type": "execute_result"
    }
   ],
   "source": [
    "# the error is a box around the origin\n",
    "plot(R̄err, alpha=.2, color=\"red\")"
   ]
  },
  {
   "cell_type": "code",
   "execution_count": 29,
   "metadata": {},
   "outputs": [
    {
     "data": {
      "image/svg+xml": [
       "<?xml version=\"1.0\" encoding=\"utf-8\"?>\n",
       "<svg xmlns=\"http://www.w3.org/2000/svg\" xmlns:xlink=\"http://www.w3.org/1999/xlink\" width=\"600\" height=\"400\" viewBox=\"0 0 2400 1600\">\n",
       "<defs>\n",
       "  <clipPath id=\"clip7300\">\n",
       "    <rect x=\"0\" y=\"0\" width=\"2000\" height=\"2000\"/>\n",
       "  </clipPath>\n",
       "</defs>\n",
       "<defs>\n",
       "  <clipPath id=\"clip7301\">\n",
       "    <rect x=\"0\" y=\"0\" width=\"2400\" height=\"1600\"/>\n",
       "  </clipPath>\n",
       "</defs>\n",
       "<polygon clip-path=\"url(#clip7301)\" points=\"\n",
       "0,1600 2400,1600 2400,0 0,0 \n",
       "  \" fill=\"#ffffff\" fill-rule=\"evenodd\" fill-opacity=\"1\"/>\n",
       "<defs>\n",
       "  <clipPath id=\"clip7302\">\n",
       "    <rect x=\"480\" y=\"0\" width=\"1681\" height=\"1600\"/>\n",
       "  </clipPath>\n",
       "</defs>\n",
       "<polygon clip-path=\"url(#clip7301)\" points=\"\n",
       "224.386,1440.48 2321.26,1440.48 2321.26,47.2441 224.386,47.2441 \n",
       "  \" fill=\"#ffffff\" fill-rule=\"evenodd\" fill-opacity=\"1\"/>\n",
       "<defs>\n",
       "  <clipPath id=\"clip7303\">\n",
       "    <rect x=\"224\" y=\"47\" width=\"2098\" height=\"1394\"/>\n",
       "  </clipPath>\n",
       "</defs>\n",
       "<polyline clip-path=\"url(#clip7303)\" style=\"stroke:#000000; stroke-width:2; stroke-opacity:0.1; fill:none\" points=\"\n",
       "  532.155,1440.48 532.155,47.2441 \n",
       "  \"/>\n",
       "<polyline clip-path=\"url(#clip7303)\" style=\"stroke:#000000; stroke-width:2; stroke-opacity:0.1; fill:none\" points=\"\n",
       "  1000.5,1440.48 1000.5,47.2441 \n",
       "  \"/>\n",
       "<polyline clip-path=\"url(#clip7303)\" style=\"stroke:#000000; stroke-width:2; stroke-opacity:0.1; fill:none\" points=\"\n",
       "  1468.85,1440.48 1468.85,47.2441 \n",
       "  \"/>\n",
       "<polyline clip-path=\"url(#clip7303)\" style=\"stroke:#000000; stroke-width:2; stroke-opacity:0.1; fill:none\" points=\"\n",
       "  1937.19,1440.48 1937.19,47.2441 \n",
       "  \"/>\n",
       "<polyline clip-path=\"url(#clip7303)\" style=\"stroke:#000000; stroke-width:2; stroke-opacity:0.1; fill:none\" points=\"\n",
       "  224.386,1370.9 2321.26,1370.9 \n",
       "  \"/>\n",
       "<polyline clip-path=\"url(#clip7303)\" style=\"stroke:#000000; stroke-width:2; stroke-opacity:0.1; fill:none\" points=\"\n",
       "  224.386,1012.38 2321.26,1012.38 \n",
       "  \"/>\n",
       "<polyline clip-path=\"url(#clip7303)\" style=\"stroke:#000000; stroke-width:2; stroke-opacity:0.1; fill:none\" points=\"\n",
       "  224.386,653.863 2321.26,653.863 \n",
       "  \"/>\n",
       "<polyline clip-path=\"url(#clip7303)\" style=\"stroke:#000000; stroke-width:2; stroke-opacity:0.1; fill:none\" points=\"\n",
       "  224.386,295.347 2321.26,295.347 \n",
       "  \"/>\n",
       "<polyline clip-path=\"url(#clip7301)\" style=\"stroke:#000000; stroke-width:4; stroke-opacity:1; fill:none\" points=\"\n",
       "  224.386,1440.48 2321.26,1440.48 \n",
       "  \"/>\n",
       "<polyline clip-path=\"url(#clip7301)\" style=\"stroke:#000000; stroke-width:4; stroke-opacity:1; fill:none\" points=\"\n",
       "  224.386,1440.48 224.386,47.2441 \n",
       "  \"/>\n",
       "<polyline clip-path=\"url(#clip7301)\" style=\"stroke:#000000; stroke-width:4; stroke-opacity:1; fill:none\" points=\"\n",
       "  532.155,1440.48 532.155,1419.58 \n",
       "  \"/>\n",
       "<polyline clip-path=\"url(#clip7301)\" style=\"stroke:#000000; stroke-width:4; stroke-opacity:1; fill:none\" points=\"\n",
       "  1000.5,1440.48 1000.5,1419.58 \n",
       "  \"/>\n",
       "<polyline clip-path=\"url(#clip7301)\" style=\"stroke:#000000; stroke-width:4; stroke-opacity:1; fill:none\" points=\"\n",
       "  1468.85,1440.48 1468.85,1419.58 \n",
       "  \"/>\n",
       "<polyline clip-path=\"url(#clip7301)\" style=\"stroke:#000000; stroke-width:4; stroke-opacity:1; fill:none\" points=\"\n",
       "  1937.19,1440.48 1937.19,1419.58 \n",
       "  \"/>\n",
       "<polyline clip-path=\"url(#clip7301)\" style=\"stroke:#000000; stroke-width:4; stroke-opacity:1; fill:none\" points=\"\n",
       "  224.386,1370.9 255.839,1370.9 \n",
       "  \"/>\n",
       "<polyline clip-path=\"url(#clip7301)\" style=\"stroke:#000000; stroke-width:4; stroke-opacity:1; fill:none\" points=\"\n",
       "  224.386,1012.38 255.839,1012.38 \n",
       "  \"/>\n",
       "<polyline clip-path=\"url(#clip7301)\" style=\"stroke:#000000; stroke-width:4; stroke-opacity:1; fill:none\" points=\"\n",
       "  224.386,653.863 255.839,653.863 \n",
       "  \"/>\n",
       "<polyline clip-path=\"url(#clip7301)\" style=\"stroke:#000000; stroke-width:4; stroke-opacity:1; fill:none\" points=\"\n",
       "  224.386,295.347 255.839,295.347 \n",
       "  \"/>\n",
       "<g clip-path=\"url(#clip7301)\">\n",
       "<text style=\"fill:#000000; fill-opacity:1; font-family:Arial,Helvetica Neue,Helvetica,sans-serif; font-size:48px; text-anchor:middle;\" transform=\"rotate(0, 532.155, 1494.48)\" x=\"532.155\" y=\"1494.48\">1.3</text>\n",
       "</g>\n",
       "<g clip-path=\"url(#clip7301)\">\n",
       "<text style=\"fill:#000000; fill-opacity:1; font-family:Arial,Helvetica Neue,Helvetica,sans-serif; font-size:48px; text-anchor:middle;\" transform=\"rotate(0, 1000.5, 1494.48)\" x=\"1000.5\" y=\"1494.48\">1.4</text>\n",
       "</g>\n",
       "<g clip-path=\"url(#clip7301)\">\n",
       "<text style=\"fill:#000000; fill-opacity:1; font-family:Arial,Helvetica Neue,Helvetica,sans-serif; font-size:48px; text-anchor:middle;\" transform=\"rotate(0, 1468.85, 1494.48)\" x=\"1468.85\" y=\"1494.48\">1.5</text>\n",
       "</g>\n",
       "<g clip-path=\"url(#clip7301)\">\n",
       "<text style=\"fill:#000000; fill-opacity:1; font-family:Arial,Helvetica Neue,Helvetica,sans-serif; font-size:48px; text-anchor:middle;\" transform=\"rotate(0, 1937.19, 1494.48)\" x=\"1937.19\" y=\"1494.48\">1.6</text>\n",
       "</g>\n",
       "<g clip-path=\"url(#clip7301)\">\n",
       "<text style=\"fill:#000000; fill-opacity:1; font-family:Arial,Helvetica Neue,Helvetica,sans-serif; font-size:48px; text-anchor:end;\" transform=\"rotate(0, 200.386, 1388.4)\" x=\"200.386\" y=\"1388.4\">2.1</text>\n",
       "</g>\n",
       "<g clip-path=\"url(#clip7301)\">\n",
       "<text style=\"fill:#000000; fill-opacity:1; font-family:Arial,Helvetica Neue,Helvetica,sans-serif; font-size:48px; text-anchor:end;\" transform=\"rotate(0, 200.386, 1029.88)\" x=\"200.386\" y=\"1029.88\">2.2</text>\n",
       "</g>\n",
       "<g clip-path=\"url(#clip7301)\">\n",
       "<text style=\"fill:#000000; fill-opacity:1; font-family:Arial,Helvetica Neue,Helvetica,sans-serif; font-size:48px; text-anchor:end;\" transform=\"rotate(0, 200.386, 671.363)\" x=\"200.386\" y=\"671.363\">2.3</text>\n",
       "</g>\n",
       "<g clip-path=\"url(#clip7301)\">\n",
       "<text style=\"fill:#000000; fill-opacity:1; font-family:Arial,Helvetica Neue,Helvetica,sans-serif; font-size:48px; text-anchor:end;\" transform=\"rotate(0, 200.386, 312.847)\" x=\"200.386\" y=\"312.847\">2.4</text>\n",
       "</g>\n",
       "<g clip-path=\"url(#clip7301)\">\n",
       "<text style=\"fill:#000000; fill-opacity:1; font-family:Arial,Helvetica Neue,Helvetica,sans-serif; font-size:66px; text-anchor:middle;\" transform=\"rotate(0, 1272.82, 1590.4)\" x=\"1272.82\" y=\"1590.4\">x</text>\n",
       "</g>\n",
       "<g clip-path=\"url(#clip7301)\">\n",
       "<text style=\"fill:#000000; fill-opacity:1; font-family:Arial,Helvetica Neue,Helvetica,sans-serif; font-size:66px; text-anchor:middle;\" transform=\"rotate(-90, 57.6, 743.863)\" x=\"57.6\" y=\"743.863\">y</text>\n",
       "</g>\n",
       "<polygon clip-path=\"url(#clip7303)\" points=\"\n",
       "295.44,495.055 350.848,561.726 1760.97,561.726 1760.97,162.309 1705.56,95.6383 295.44,95.6383 295.44,495.055 \n",
       "  \" fill=\"#009af9\" fill-rule=\"evenodd\" fill-opacity=\"0.2\"/>\n",
       "<polyline clip-path=\"url(#clip7303)\" style=\"stroke:#000000; stroke-width:4; stroke-opacity:0.2; fill:none\" points=\"\n",
       "  295.44,495.055 350.848,561.726 1760.97,561.726 1760.97,162.309 1705.56,95.6383 295.44,95.6383 295.44,495.055 \n",
       "  \"/>\n",
       "<polygon clip-path=\"url(#clip7303)\" points=\"\n",
       "349.039,540.339 404.007,608.263 1811.45,649.83 1817.75,649.83 1817.75,251.619 1762.78,183.695 355.335,142.128 349.039,142.128 349.039,540.339 \n",
       "  \" fill=\"#009af9\" fill-rule=\"evenodd\" fill-opacity=\"0.2\"/>\n",
       "<polyline clip-path=\"url(#clip7303)\" style=\"stroke:#000000; stroke-width:4; stroke-opacity:0.2; fill:none\" points=\"\n",
       "  349.039,540.339 404.007,608.263 1811.45,649.83 1817.75,649.83 1817.75,251.619 1762.78,183.695 355.335,142.128 349.039,142.128 349.039,540.339 \n",
       "  \"/>\n",
       "<polygon clip-path=\"url(#clip7303)\" points=\"\n",
       "402.338,586.98 456.858,656.137 1863.9,739.029 1873.94,739.029 1873.94,342.06 1819.42,272.902 412.38,190.01 402.338,190.01 402.338,586.98 \n",
       "  \" fill=\"#009af9\" fill-rule=\"evenodd\" fill-opacity=\"0.2\"/>\n",
       "<polyline clip-path=\"url(#clip7303)\" style=\"stroke:#000000; stroke-width:4; stroke-opacity:0.2; fill:none\" points=\"\n",
       "  402.338,586.98 456.858,656.137 1863.9,739.029 1873.94,739.029 1873.94,342.06 1819.42,272.902 412.38,190.01 402.338,190.01 402.338,586.98 \n",
       "  \"/>\n",
       "<polygon clip-path=\"url(#clip7303)\" points=\"\n",
       "455.328,634.961 509.393,705.331 1915.76,829.299 1929.53,829.299 1929.53,433.606 1875.47,363.236 469.107,239.269 455.328,239.269 455.328,634.961 \n",
       "  \" fill=\"#009af9\" fill-rule=\"evenodd\" fill-opacity=\"0.2\"/>\n",
       "<polyline clip-path=\"url(#clip7303)\" style=\"stroke:#000000; stroke-width:4; stroke-opacity:0.2; fill:none\" points=\"\n",
       "  455.328,634.961 509.393,705.331 1915.76,829.299 1929.53,829.299 1929.53,433.606 1875.47,363.236 469.107,239.269 455.328,239.269 455.328,634.961 \n",
       "  \"/>\n",
       "<polygon clip-path=\"url(#clip7303)\" points=\"\n",
       "508.002,684.265 561.604,755.829 1967.02,920.616 1984.53,920.616 1984.53,526.236 1930.93,454.672 525.506,289.886 508.002,289.886 508.002,684.265 \n",
       "  \" fill=\"#009af9\" fill-rule=\"evenodd\" fill-opacity=\"0.2\"/>\n",
       "<polyline clip-path=\"url(#clip7303)\" style=\"stroke:#000000; stroke-width:4; stroke-opacity:0.2; fill:none\" points=\"\n",
       "  508.002,684.265 561.604,755.829 1967.02,920.616 1984.53,920.616 1984.53,526.236 1930.93,454.672 525.506,289.886 508.002,289.886 508.002,684.265 \n",
       "  \"/>\n",
       "<polygon clip-path=\"url(#clip7303)\" points=\"\n",
       "560.351,734.877 613.481,807.612 2017.69,1012.96 2038.91,1012.96 2038.91,619.924 1985.78,547.188 581.57,341.843 560.351,341.843 560.351,734.877 \n",
       "  \" fill=\"#009af9\" fill-rule=\"evenodd\" fill-opacity=\"0.2\"/>\n",
       "<polyline clip-path=\"url(#clip7303)\" style=\"stroke:#000000; stroke-width:4; stroke-opacity:0.2; fill:none\" points=\"\n",
       "  560.351,734.877 613.481,807.612 2017.69,1012.96 2038.91,1012.96 2038.91,619.924 1985.78,547.188 581.57,341.843 560.351,341.843 560.351,734.877 \n",
       "  \"/>\n",
       "<polygon clip-path=\"url(#clip7303)\" points=\"\n",
       "612.366,786.777 665.018,860.665 2067.75,1106.3 2092.68,1106.3 2092.68,714.646 2040.02,640.759 637.288,395.125 612.366,395.125 612.366,786.777 \n",
       "  \" fill=\"#009af9\" fill-rule=\"evenodd\" fill-opacity=\"0.2\"/>\n",
       "<polyline clip-path=\"url(#clip7303)\" style=\"stroke:#000000; stroke-width:4; stroke-opacity:0.2; fill:none\" points=\"\n",
       "  612.366,786.777 665.018,860.665 2067.75,1106.3 2092.68,1106.3 2092.68,714.646 2040.02,640.759 637.288,395.125 612.366,395.125 612.366,786.777 \n",
       "  \"/>\n",
       "<polygon clip-path=\"url(#clip7303)\" points=\"\n",
       "664.04,839.95 716.206,914.968 2117.21,1200.62 2145.82,1200.62 2145.82,810.378 2093.65,735.36 692.652,449.712 664.04,449.712 664.04,839.95 \n",
       "  \" fill=\"#009af9\" fill-rule=\"evenodd\" fill-opacity=\"0.2\"/>\n",
       "<polyline clip-path=\"url(#clip7303)\" style=\"stroke:#000000; stroke-width:4; stroke-opacity:0.2; fill:none\" points=\"\n",
       "  664.04,839.95 716.206,914.968 2117.21,1200.62 2145.82,1200.62 2145.82,810.378 2093.65,735.36 692.652,449.712 664.04,449.712 664.04,839.95 \n",
       "  \"/>\n",
       "<polygon clip-path=\"url(#clip7303)\" points=\"\n",
       "715.365,894.378 767.036,970.506 2166.04,1295.89 2198.33,1295.89 2198.33,907.097 2146.66,830.969 747.653,505.587 715.365,505.587 715.365,894.378 \n",
       "  \" fill=\"#009af9\" fill-rule=\"evenodd\" fill-opacity=\"0.2\"/>\n",
       "<polyline clip-path=\"url(#clip7303)\" style=\"stroke:#000000; stroke-width:4; stroke-opacity:0.2; fill:none\" points=\"\n",
       "  715.365,894.378 767.036,970.506 2166.04,1295.89 2198.33,1295.89 2198.33,907.097 2146.66,830.969 747.653,505.587 715.365,505.587 715.365,894.378 \n",
       "  \"/>\n",
       "<polygon clip-path=\"url(#clip7303)\" points=\"\n",
       "766.332,950.042 817.503,1027.26 2214.25,1392.09 2250.21,1392.09 2250.21,1004.78 2199.04,927.56 802.283,562.731 766.332,562.731 766.332,950.042 \n",
       "  \" fill=\"#009af9\" fill-rule=\"evenodd\" fill-opacity=\"0.2\"/>\n",
       "<polyline clip-path=\"url(#clip7303)\" style=\"stroke:#000000; stroke-width:4; stroke-opacity:0.2; fill:none\" points=\"\n",
       "  766.332,950.042 817.503,1027.26 2214.25,1392.09 2250.21,1392.09 2250.21,1004.78 2199.04,927.56 802.283,562.731 766.332,562.731 766.332,950.042 \n",
       "  \"/>\n",
       "<polygon clip-path=\"url(#clip7303)\" points=\"\n",
       "2261.91,993.671 2139.76,768.688 2020.99,557.137 1824.43,230.556 1764.12,140.572 1717.27,86.6754 283.732,86.6754 283.732,504.018 283.732,504.018 339.14,570.688 \n",
       "  339.14,570.688 805.794,1036.22 805.794,1036.22 2202.55,1401.05 2202.55,1401.05 2261.91,1401.05 2261.91,993.671 2261.91,993.671 \n",
       "  \" fill=\"#008000\" fill-rule=\"evenodd\" fill-opacity=\"0.2\"/>\n",
       "<polyline clip-path=\"url(#clip7303)\" style=\"stroke:#000000; stroke-width:4; stroke-opacity:0.2; fill:none\" points=\"\n",
       "  2261.91,993.671 2139.76,768.688 2020.99,557.137 1824.43,230.556 1764.12,140.572 1717.27,86.6754 283.732,86.6754 283.732,504.018 283.732,504.018 339.14,570.688 \n",
       "  339.14,570.688 805.794,1036.22 805.794,1036.22 2202.55,1401.05 2202.55,1401.05 2261.91,1401.05 2261.91,993.671 \n",
       "  \"/>\n",
       "</svg>\n"
      ]
     },
     "execution_count": 29,
     "metadata": {},
     "output_type": "execute_result"
    }
   ],
   "source": [
    "plot(Rlin, alpha=.2)\n",
    "plot!(R̂lin, alpha=.2, 1e-3, xlab=\"x\", ylab=\"y\", color=\"green\")"
   ]
  },
  {
   "cell_type": "code",
   "execution_count": 30,
   "metadata": {},
   "outputs": [],
   "source": [
    "#B = IntervalBox(0.)\n",
    "#evaluate(Hf₂[1], B)"
   ]
  },
  {
   "cell_type": "code",
   "execution_count": null,
   "metadata": {},
   "outputs": [],
   "source": []
  },
  {
   "cell_type": "code",
   "execution_count": null,
   "metadata": {},
   "outputs": [],
   "source": []
  },
  {
   "cell_type": "markdown",
   "metadata": {},
   "source": [
    "### Inclusion check"
   ]
  },
  {
   "cell_type": "code",
   "execution_count": null,
   "metadata": {},
   "outputs": [],
   "source": []
  },
  {
   "cell_type": "code",
   "execution_count": null,
   "metadata": {},
   "outputs": [],
   "source": []
  },
  {
   "cell_type": "code",
   "execution_count": null,
   "metadata": {},
   "outputs": [],
   "source": []
  },
  {
   "cell_type": "markdown",
   "metadata": {},
   "source": []
  },
  {
   "cell_type": "code",
   "execution_count": null,
   "metadata": {},
   "outputs": [],
   "source": []
  },
  {
   "cell_type": "code",
   "execution_count": null,
   "metadata": {},
   "outputs": [],
   "source": []
  },
  {
   "cell_type": "code",
   "execution_count": 31,
   "metadata": {},
   "outputs": [
    {
     "ename": "UndefVarError",
     "evalue": "UndefVarError: L not defined",
     "output_type": "error",
     "traceback": [
      "UndefVarError: L not defined",
      "",
      "Stacktrace:",
      " [1] top-level scope at In[31]:1"
     ]
    }
   ],
   "source": [
    "L ⊆ Lbar"
   ]
  },
  {
   "cell_type": "markdown",
   "metadata": {},
   "source": [
    "- if $L \\subseteq \\bar{L}$, then the linearization error is accepted and the reachable set is obtained by superposition of the reachable set without linearization error and the one due to the linearization error: $\\mathcal{R}(\\delta) = \\mathcal{R}^{lin}(\\delta) + \\mathcal{R}^{err}$ and $\\mathcal{R}([0, \\delta]) = \\mathcal{R}^{lin}([0, \\delta]) + \\mathcal{R}^{err}$\n",
    "\n",
    "- otherwise, the linearization error is not admissible, requiring the initial reachable set $\\mathcal{R}((k-1)\\delta))$; for the first step $X_0$ to be split into two reachable sets. Then we perform the reachable set computations for both of the newly obtained sets once more."
   ]
  },
  {
   "cell_type": "markdown",
   "metadata": {},
   "source": []
  }
 ],
 "metadata": {
  "kernelspec": {
   "display_name": "Julia 1.1.0-rc2",
   "language": "julia",
   "name": "julia-1.1"
  },
  "language_info": {
   "file_extension": ".jl",
   "mimetype": "application/julia",
   "name": "julia",
   "version": "1.1.0"
  }
 },
 "nbformat": 4,
 "nbformat_minor": 2
}
