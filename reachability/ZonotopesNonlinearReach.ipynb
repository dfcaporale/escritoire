{
 "cells": [
  {
   "cell_type": "markdown",
   "metadata": {},
   "source": [
    "### Introduction\n",
    "\n",
    "\n",
    "This notebook is a proof-of-principle implementation of the algorithm for reachability analysis of nonlinear systems using zonotopes presented in [1, Section 3], see also [2].\n",
    "\n",
    "---\n",
    "\n",
    "**References:**\n",
    "\n",
    "[1] Althoff, Matthias. Reachability analysis and its application to the safety\n",
    "assessment of autonomous cars. Diss. Technische Universität München, 2010.\n",
    "\n",
    "[2] M. Althoff, O. Stursberg, and M. Buss. [Reachability analysis of nonlinear systems with uncertain parameters using conservative linearization.](http://citeseerx.ist.psu.edu/viewdoc/download?doi=10.1.1.148.9110&rep=rep1&type=pdf) In Proc. of the 47th IEEE Conference on Decision and Control, pages 4042–4048, 2008."
   ]
  },
  {
   "cell_type": "code",
   "execution_count": 1,
   "metadata": {},
   "outputs": [
    {
     "data": {
      "text/plain": [
       "derivative (generic function with 10 methods)"
      ]
     },
     "execution_count": 1,
     "metadata": {},
     "output_type": "execute_result"
    }
   ],
   "source": [
    "# load packages\n",
    "\n",
    "using Plots\n",
    "\n",
    "using LazySets, MathematicalSystems, Reachability\n",
    "using LazySets.Approximations\n",
    "using Reachability: center\n",
    "using IntervalArithmetic, ValidatedNumerics\n",
    "using LazySets: Interval, translate\n",
    "using TaylorSeries\n",
    "using TaylorSeries: gradient, jacobian, hessian, derivative\n",
    "const ∂ = derivative"
   ]
  },
  {
   "cell_type": "markdown",
   "metadata": {},
   "source": [
    "### Assumptions\n",
    "\n",
    "To simplify the presentation let's assume that the ODE is autonomous and there is no input, ie. it is of the form $x'(t) = f(x(t))$ with $f : \\mathbb{R}^n \\mapsto \\mathbb{R}^n$ continuously differentiable."
   ]
  },
  {
   "cell_type": "markdown",
   "metadata": {},
   "source": [
    "### Running example\n",
    "\n",
    "To fix ideas we will use the Van der Pol ODE with $\\mu = 1$. It is given by the map $$f : (x_1, x_2) \\mapsto (x_2, x_2(1-x_1^2) - x_1),$$ with initial set given by $x_1(0) \\in [1.25, 1.55] $ and $x_2 \\in [2.35, 2.45]$ and time horizon $T = 7.0$ seconds."
   ]
  },
  {
   "cell_type": "markdown",
   "metadata": {},
   "source": [
    "We implement it as a vector of multivariate polynomials (`TaylorN`'s):"
   ]
  },
  {
   "cell_type": "code",
   "execution_count": 2,
   "metadata": {},
   "outputs": [
    {
     "data": {
      "text/plain": [
       "2-element Array{TaylorN{Float64},1}:\n",
       "  1.0 x₁ + 𝒪(‖x‖⁵)\n",
       "  1.0 x₂ + 𝒪(‖x‖⁵)"
      ]
     },
     "execution_count": 2,
     "metadata": {},
     "output_type": "execute_result"
    }
   ],
   "source": [
    "# number of Taylor terms considered in the linearization\n",
    "taylor_terms = 4\n",
    "\n",
    "# define the working variables and fix the max order in the Taylor series expansion\n",
    "x = set_variables(\"x\", numvars=2, order=taylor_terms)"
   ]
  },
  {
   "cell_type": "code",
   "execution_count": 3,
   "metadata": {},
   "outputs": [
    {
     "data": {
      "text/plain": [
       " - 1.0 x₁ + 1.0 x₂ - 1.0 x₁² x₂ + 𝒪(‖x‖⁵)"
      ]
     },
     "execution_count": 3,
     "metadata": {},
     "output_type": "execute_result"
    }
   ],
   "source": [
    "f = Vector{TaylorN{Float64}}(undef, 2)\n",
    "f[1] = x[2]\n",
    "f[2] = x[2] * (1-x[1]^2) - x[1]"
   ]
  },
  {
   "cell_type": "code",
   "execution_count": 4,
   "metadata": {},
   "outputs": [
    {
     "data": {
      "text/plain": [
       "InitialValueProblem{BlackBoxContinuousSystem{Array{TaylorN{Float64},1}},Hyperrectangle{Float64}}(BlackBoxContinuousSystem{Array{TaylorN{Float64},1}}(TaylorN{Float64}[ 1.0 x₂ + 𝒪(‖x‖⁵),  - 1.0 x₁ + 1.0 x₂ - 1.0 x₁² x₂ + 𝒪(‖x‖⁵)], 2), Hyperrectangle{Float64}([1.4, 2.4], [0.15, 0.05]))"
      ]
     },
     "execution_count": 4,
     "metadata": {},
     "output_type": "execute_result"
    }
   ],
   "source": [
    "𝑋₀ = Hyperrectangle(low=[1.25, 2.35], high=[1.55, 2.45])\n",
    "𝑆 = BlackBoxContinuousSystem(f, 2)\n",
    "𝑃 = InitialValueProblem(𝑆, 𝑋₀)"
   ]
  },
  {
   "cell_type": "markdown",
   "metadata": {},
   "source": [
    "### Linearization\n",
    "\n",
    "In this step we linearize the ODE $x'(t) = f(x(t))$ with a fixed step size $\\delta$ and compute:\n",
    "\n",
    "- $\\mathcal{R}^{lin}(\\delta)$, an overapproximation of the state reachable at time $\\delta$ of the linearized system,\n",
    "- $\\mathcal{R}^{lin}([0, \\delta])$, an overapproximation of the flowpipe in dense time $[0, \\delta]$ for the linearized system."
   ]
  },
  {
   "cell_type": "markdown",
   "metadata": {},
   "source": [
    "For $i = 1, 2$, recall that the *gradient* of the scalar field $f_i$ is the function $\\nabla f_i : (x_1, x_2) \\mapsto (\\partial_1 f_i, \\partial_2 f_i)$, where $\\partial_i$ is a shortcut for the partial derivative $\\dfrac{\\partial}{\\partial x_i}$. For higher order derivatives we use $\\partial_{ij\\ldots}$ for example $\\dfrac{\\partial^2 f_i}{\\partial x_1\\partial x_2} = \\partial^2_{12}f_i$.\n",
    "\n",
    "We can use the `gradient` function from `TaylorSeries` to compute a gradient symbolically. For our example, we obtain by differentiation that\n",
    "\n",
    "$$\n",
    "\\nabla f_1 = (0, 1) \\\\\n",
    "\\nabla f_2 = (-2x_1x_2 - 1, 1-x_1^2)\n",
    "$$\n",
    "\n",
    "Now let's compute it using `gradient`:"
   ]
  },
  {
   "cell_type": "code",
   "execution_count": 5,
   "metadata": {},
   "outputs": [],
   "source": [
    "∇f = [gradient(f[i]) for i in 1:2];"
   ]
  },
  {
   "cell_type": "code",
   "execution_count": 6,
   "metadata": {},
   "outputs": [
    {
     "data": {
      "text/plain": [
       "2-element Array{TaylorN{Float64},1}:\n",
       "  0.0 + 𝒪(‖x‖⁵)\n",
       "  1.0 + 𝒪(‖x‖⁵)"
      ]
     },
     "execution_count": 6,
     "metadata": {},
     "output_type": "execute_result"
    }
   ],
   "source": [
    "∇f[1]"
   ]
  },
  {
   "cell_type": "code",
   "execution_count": 7,
   "metadata": {},
   "outputs": [
    {
     "data": {
      "text/plain": [
       "2-element Array{TaylorN{Float64},1}:\n",
       "  - 1.0 - 2.0 x₁ x₂ + 𝒪(‖x‖⁵)\n",
       "      1.0 - 1.0 x₁² + 𝒪(‖x‖⁵)"
      ]
     },
     "execution_count": 7,
     "metadata": {},
     "output_type": "execute_result"
    }
   ],
   "source": [
    "∇f[2]"
   ]
  },
  {
   "cell_type": "markdown",
   "metadata": {},
   "source": [
    "The Taylor series expansion of the function $f(x)$ around point $x̃$ is:\n",
    "\n",
    "$$\n",
    "f_i(x) = f_i(x̃) + \\nabla f_i(x̃) \\cdot (x-x̃) + \\frac{1}{2} (x-x̃)^T H_{f_i}(x̃) (x-x̃) + \\ldots,\\qquad i = 1,2.\n",
    "$$\n",
    "\n",
    "There are different ways to account for the linearization error. If we consider the Lagrange remainder, then:\n",
    "$$\n",
    "f_i(x) = f_i(x̃) + \\nabla f_i(x̃) \\cdot (x-x̃) +  L_i(x, x̃),\n",
    "$$\n",
    "where the Lagrangian $L_i$ is defined as\n",
    "$$\n",
    "L_i(x, x̃) = \\frac{1}{2} (x-x̃)^T H_{f_i}(ξ) (x-x̃), \\qquad i = 1,2.\n",
    "$$\n",
    "where $ξ$ lives in the convex hull $ξ = CH(x̃, x) = \\{x̃ + \\alpha(x - x̃), \\alpha \\in [0, 1]\\}$."
   ]
  },
  {
   "cell_type": "markdown",
   "metadata": {},
   "source": [
    "The linearized function can be succintly written using the Jacobian matrix. Recall that the Jacobian matrix is such that $[J_f]_{ij} = \\partial_j f_i$ for $i, j = 1, 2$. Then \n",
    "\n",
    "$$\n",
    "f^{lin}(x) := f(x̃) + J_f(x̃) \\cdot (x-x̃) = A \\cdot x + b,\n",
    "$$\n",
    "where\n",
    "$$\n",
    "A := J_f(x̃),\\qquad b := f(x̃) - J_f(x̃) \\cdot x̃.\n",
    "$$"
   ]
  },
  {
   "cell_type": "code",
   "execution_count": 8,
   "metadata": {},
   "outputs": [
    {
     "data": {
      "text/plain": [
       "2×2 Array{TaylorN{Float64},2}:\n",
       "                0.0 + 𝒪(‖x‖⁵)             1.0 + 𝒪(‖x‖⁵)\n",
       "  - 1.0 - 2.0 x₁ x₂ + 𝒪(‖x‖⁵)   1.0 - 1.0 x₁² + 𝒪(‖x‖⁵)"
      ]
     },
     "execution_count": 8,
     "metadata": {},
     "output_type": "execute_result"
    }
   ],
   "source": [
    "# Jf = Matrix{TaylorN{Float64}}(undef, 2, 2)\n",
    "Jf = [∂(f[1], (1, 0)) ∂(f[1], (0, 1));\n",
    "      ∂(f[2], (1, 0)) ∂(f[2], (0, 1))]"
   ]
  },
  {
   "cell_type": "markdown",
   "metadata": {},
   "source": [
    "For the linearization point we use the shifted center of initial states, as in [1]:"
   ]
  },
  {
   "cell_type": "code",
   "execution_count": 9,
   "metadata": {},
   "outputs": [
    {
     "data": {
      "text/plain": [
       "2-element Array{Float64,1}:\n",
       " 1.424  \n",
       " 2.36296"
      ]
     },
     "execution_count": 9,
     "metadata": {},
     "output_type": "execute_result"
    }
   ],
   "source": [
    "δ = 0.02 # step size\n",
    "\n",
    "c = center(𝑋₀)\n",
    "x̃ = c + δ/2 * f(c)  # linearization point"
   ]
  },
  {
   "cell_type": "code",
   "execution_count": 10,
   "metadata": {},
   "outputs": [
    {
     "data": {
      "text/plain": [
       "true"
      ]
     },
     "execution_count": 10,
     "metadata": {},
     "output_type": "execute_result"
    }
   ],
   "source": [
    "x̃ ∈ 𝑋₀"
   ]
  },
  {
   "cell_type": "code",
   "execution_count": 11,
   "metadata": {},
   "outputs": [
    {
     "data": {
      "image/svg+xml": [
       "<?xml version=\"1.0\" encoding=\"utf-8\"?>\n",
       "<svg xmlns=\"http://www.w3.org/2000/svg\" xmlns:xlink=\"http://www.w3.org/1999/xlink\" width=\"600\" height=\"400\" viewBox=\"0 0 2400 1600\">\n",
       "<defs>\n",
       "  <clipPath id=\"clip7100\">\n",
       "    <rect x=\"0\" y=\"0\" width=\"2000\" height=\"2000\"/>\n",
       "  </clipPath>\n",
       "</defs>\n",
       "<defs>\n",
       "  <clipPath id=\"clip7101\">\n",
       "    <rect x=\"0\" y=\"0\" width=\"2400\" height=\"1600\"/>\n",
       "  </clipPath>\n",
       "</defs>\n",
       "<polygon clip-path=\"url(#clip7101)\" points=\"\n",
       "0,1600 2400,1600 2400,0 0,0 \n",
       "  \" fill=\"#ffffff\" fill-rule=\"evenodd\" fill-opacity=\"1\"/>\n",
       "<defs>\n",
       "  <clipPath id=\"clip7102\">\n",
       "    <rect x=\"480\" y=\"0\" width=\"1681\" height=\"1600\"/>\n",
       "  </clipPath>\n",
       "</defs>\n",
       "<polygon clip-path=\"url(#clip7101)\" points=\"\n",
       "188.156,1503.47 2321.26,1503.47 2321.26,47.2441 188.156,47.2441 \n",
       "  \" fill=\"#ffffff\" fill-rule=\"evenodd\" fill-opacity=\"1\"/>\n",
       "<defs>\n",
       "  <clipPath id=\"clip7103\">\n",
       "    <rect x=\"188\" y=\"47\" width=\"2134\" height=\"1457\"/>\n",
       "  </clipPath>\n",
       "</defs>\n",
       "<polyline clip-path=\"url(#clip7103)\" style=\"stroke:#000000; stroke-width:2; stroke-opacity:0.1; fill:none\" points=\"\n",
       "  248.527,1503.47 248.527,47.2441 \n",
       "  \"/>\n",
       "<polyline clip-path=\"url(#clip7103)\" style=\"stroke:#000000; stroke-width:2; stroke-opacity:0.1; fill:none\" points=\"\n",
       "  583.921,1503.47 583.921,47.2441 \n",
       "  \"/>\n",
       "<polyline clip-path=\"url(#clip7103)\" style=\"stroke:#000000; stroke-width:2; stroke-opacity:0.1; fill:none\" points=\"\n",
       "  919.314,1503.47 919.314,47.2441 \n",
       "  \"/>\n",
       "<polyline clip-path=\"url(#clip7103)\" style=\"stroke:#000000; stroke-width:2; stroke-opacity:0.1; fill:none\" points=\"\n",
       "  1254.71,1503.47 1254.71,47.2441 \n",
       "  \"/>\n",
       "<polyline clip-path=\"url(#clip7103)\" style=\"stroke:#000000; stroke-width:2; stroke-opacity:0.1; fill:none\" points=\"\n",
       "  1590.1,1503.47 1590.1,47.2441 \n",
       "  \"/>\n",
       "<polyline clip-path=\"url(#clip7103)\" style=\"stroke:#000000; stroke-width:2; stroke-opacity:0.1; fill:none\" points=\"\n",
       "  1925.5,1503.47 1925.5,47.2441 \n",
       "  \"/>\n",
       "<polyline clip-path=\"url(#clip7103)\" style=\"stroke:#000000; stroke-width:2; stroke-opacity:0.1; fill:none\" points=\"\n",
       "  2260.89,1503.47 2260.89,47.2441 \n",
       "  \"/>\n",
       "<polyline clip-path=\"url(#clip7103)\" style=\"stroke:#000000; stroke-width:2; stroke-opacity:0.1; fill:none\" points=\"\n",
       "  188.156,1324.88 2321.26,1324.88 \n",
       "  \"/>\n",
       "<polyline clip-path=\"url(#clip7103)\" style=\"stroke:#000000; stroke-width:2; stroke-opacity:0.1; fill:none\" points=\"\n",
       "  188.156,1050.12 2321.26,1050.12 \n",
       "  \"/>\n",
       "<polyline clip-path=\"url(#clip7103)\" style=\"stroke:#000000; stroke-width:2; stroke-opacity:0.1; fill:none\" points=\"\n",
       "  188.156,775.359 2321.26,775.359 \n",
       "  \"/>\n",
       "<polyline clip-path=\"url(#clip7103)\" style=\"stroke:#000000; stroke-width:2; stroke-opacity:0.1; fill:none\" points=\"\n",
       "  188.156,500.599 2321.26,500.599 \n",
       "  \"/>\n",
       "<polyline clip-path=\"url(#clip7103)\" style=\"stroke:#000000; stroke-width:2; stroke-opacity:0.1; fill:none\" points=\"\n",
       "  188.156,225.838 2321.26,225.838 \n",
       "  \"/>\n",
       "<polyline clip-path=\"url(#clip7101)\" style=\"stroke:#000000; stroke-width:4; stroke-opacity:1; fill:none\" points=\"\n",
       "  188.156,1503.47 2321.26,1503.47 \n",
       "  \"/>\n",
       "<polyline clip-path=\"url(#clip7101)\" style=\"stroke:#000000; stroke-width:4; stroke-opacity:1; fill:none\" points=\"\n",
       "  188.156,1503.47 188.156,47.2441 \n",
       "  \"/>\n",
       "<polyline clip-path=\"url(#clip7101)\" style=\"stroke:#000000; stroke-width:4; stroke-opacity:1; fill:none\" points=\"\n",
       "  248.527,1503.47 248.527,1481.63 \n",
       "  \"/>\n",
       "<polyline clip-path=\"url(#clip7101)\" style=\"stroke:#000000; stroke-width:4; stroke-opacity:1; fill:none\" points=\"\n",
       "  583.921,1503.47 583.921,1481.63 \n",
       "  \"/>\n",
       "<polyline clip-path=\"url(#clip7101)\" style=\"stroke:#000000; stroke-width:4; stroke-opacity:1; fill:none\" points=\"\n",
       "  919.314,1503.47 919.314,1481.63 \n",
       "  \"/>\n",
       "<polyline clip-path=\"url(#clip7101)\" style=\"stroke:#000000; stroke-width:4; stroke-opacity:1; fill:none\" points=\"\n",
       "  1254.71,1503.47 1254.71,1481.63 \n",
       "  \"/>\n",
       "<polyline clip-path=\"url(#clip7101)\" style=\"stroke:#000000; stroke-width:4; stroke-opacity:1; fill:none\" points=\"\n",
       "  1590.1,1503.47 1590.1,1481.63 \n",
       "  \"/>\n",
       "<polyline clip-path=\"url(#clip7101)\" style=\"stroke:#000000; stroke-width:4; stroke-opacity:1; fill:none\" points=\"\n",
       "  1925.5,1503.47 1925.5,1481.63 \n",
       "  \"/>\n",
       "<polyline clip-path=\"url(#clip7101)\" style=\"stroke:#000000; stroke-width:4; stroke-opacity:1; fill:none\" points=\"\n",
       "  2260.89,1503.47 2260.89,1481.63 \n",
       "  \"/>\n",
       "<polyline clip-path=\"url(#clip7101)\" style=\"stroke:#000000; stroke-width:4; stroke-opacity:1; fill:none\" points=\"\n",
       "  188.156,1324.88 220.153,1324.88 \n",
       "  \"/>\n",
       "<polyline clip-path=\"url(#clip7101)\" style=\"stroke:#000000; stroke-width:4; stroke-opacity:1; fill:none\" points=\"\n",
       "  188.156,1050.12 220.153,1050.12 \n",
       "  \"/>\n",
       "<polyline clip-path=\"url(#clip7101)\" style=\"stroke:#000000; stroke-width:4; stroke-opacity:1; fill:none\" points=\"\n",
       "  188.156,775.359 220.153,775.359 \n",
       "  \"/>\n",
       "<polyline clip-path=\"url(#clip7101)\" style=\"stroke:#000000; stroke-width:4; stroke-opacity:1; fill:none\" points=\"\n",
       "  188.156,500.599 220.153,500.599 \n",
       "  \"/>\n",
       "<polyline clip-path=\"url(#clip7101)\" style=\"stroke:#000000; stroke-width:4; stroke-opacity:1; fill:none\" points=\"\n",
       "  188.156,225.838 220.153,225.838 \n",
       "  \"/>\n",
       "<g clip-path=\"url(#clip7101)\">\n",
       "<text style=\"fill:#000000; fill-opacity:1; font-family:Arial,Helvetica Neue,Helvetica,sans-serif; font-size:48px; text-anchor:middle;\" transform=\"rotate(0, 248.527, 1557.47)\" x=\"248.527\" y=\"1557.47\">1.25</text>\n",
       "</g>\n",
       "<g clip-path=\"url(#clip7101)\">\n",
       "<text style=\"fill:#000000; fill-opacity:1; font-family:Arial,Helvetica Neue,Helvetica,sans-serif; font-size:48px; text-anchor:middle;\" transform=\"rotate(0, 583.921, 1557.47)\" x=\"583.921\" y=\"1557.47\">1.30</text>\n",
       "</g>\n",
       "<g clip-path=\"url(#clip7101)\">\n",
       "<text style=\"fill:#000000; fill-opacity:1; font-family:Arial,Helvetica Neue,Helvetica,sans-serif; font-size:48px; text-anchor:middle;\" transform=\"rotate(0, 919.314, 1557.47)\" x=\"919.314\" y=\"1557.47\">1.35</text>\n",
       "</g>\n",
       "<g clip-path=\"url(#clip7101)\">\n",
       "<text style=\"fill:#000000; fill-opacity:1; font-family:Arial,Helvetica Neue,Helvetica,sans-serif; font-size:48px; text-anchor:middle;\" transform=\"rotate(0, 1254.71, 1557.47)\" x=\"1254.71\" y=\"1557.47\">1.40</text>\n",
       "</g>\n",
       "<g clip-path=\"url(#clip7101)\">\n",
       "<text style=\"fill:#000000; fill-opacity:1; font-family:Arial,Helvetica Neue,Helvetica,sans-serif; font-size:48px; text-anchor:middle;\" transform=\"rotate(0, 1590.1, 1557.47)\" x=\"1590.1\" y=\"1557.47\">1.45</text>\n",
       "</g>\n",
       "<g clip-path=\"url(#clip7101)\">\n",
       "<text style=\"fill:#000000; fill-opacity:1; font-family:Arial,Helvetica Neue,Helvetica,sans-serif; font-size:48px; text-anchor:middle;\" transform=\"rotate(0, 1925.5, 1557.47)\" x=\"1925.5\" y=\"1557.47\">1.50</text>\n",
       "</g>\n",
       "<g clip-path=\"url(#clip7101)\">\n",
       "<text style=\"fill:#000000; fill-opacity:1; font-family:Arial,Helvetica Neue,Helvetica,sans-serif; font-size:48px; text-anchor:middle;\" transform=\"rotate(0, 2260.89, 1557.47)\" x=\"2260.89\" y=\"1557.47\">1.55</text>\n",
       "</g>\n",
       "<g clip-path=\"url(#clip7101)\">\n",
       "<text style=\"fill:#000000; fill-opacity:1; font-family:Arial,Helvetica Neue,Helvetica,sans-serif; font-size:48px; text-anchor:end;\" transform=\"rotate(0, 164.156, 1342.38)\" x=\"164.156\" y=\"1342.38\">2.36</text>\n",
       "</g>\n",
       "<g clip-path=\"url(#clip7101)\">\n",
       "<text style=\"fill:#000000; fill-opacity:1; font-family:Arial,Helvetica Neue,Helvetica,sans-serif; font-size:48px; text-anchor:end;\" transform=\"rotate(0, 164.156, 1067.62)\" x=\"164.156\" y=\"1067.62\">2.38</text>\n",
       "</g>\n",
       "<g clip-path=\"url(#clip7101)\">\n",
       "<text style=\"fill:#000000; fill-opacity:1; font-family:Arial,Helvetica Neue,Helvetica,sans-serif; font-size:48px; text-anchor:end;\" transform=\"rotate(0, 164.156, 792.859)\" x=\"164.156\" y=\"792.859\">2.40</text>\n",
       "</g>\n",
       "<g clip-path=\"url(#clip7101)\">\n",
       "<text style=\"fill:#000000; fill-opacity:1; font-family:Arial,Helvetica Neue,Helvetica,sans-serif; font-size:48px; text-anchor:end;\" transform=\"rotate(0, 164.156, 518.099)\" x=\"164.156\" y=\"518.099\">2.42</text>\n",
       "</g>\n",
       "<g clip-path=\"url(#clip7101)\">\n",
       "<text style=\"fill:#000000; fill-opacity:1; font-family:Arial,Helvetica Neue,Helvetica,sans-serif; font-size:48px; text-anchor:end;\" transform=\"rotate(0, 164.156, 243.338)\" x=\"164.156\" y=\"243.338\">2.44</text>\n",
       "</g>\n",
       "<circle clip-path=\"url(#clip7103)\" style=\"fill:#000000; stroke:none; fill-opacity:1\" cx=\"1415.7\" cy=\"1284.22\" r=\"18\"/>\n",
       "<circle clip-path=\"url(#clip7103)\" style=\"fill:#009af9; stroke:none; fill-opacity:1\" cx=\"1415.7\" cy=\"1284.22\" r=\"14\"/>\n",
       "<polygon clip-path=\"url(#clip7103)\" points=\"\n",
       "248.527,1462.26 2260.89,1462.26 2260.89,88.4582 248.527,88.4582 248.527,1462.26 248.527,1462.26 \n",
       "  \" fill=\"#ffa500\" fill-rule=\"evenodd\" fill-opacity=\"0.4\"/>\n",
       "<polyline clip-path=\"url(#clip7103)\" style=\"stroke:#000000; stroke-width:4; stroke-opacity:0.4; fill:none\" points=\"\n",
       "  248.527,1462.26 2260.89,1462.26 2260.89,88.4582 248.527,88.4582 248.527,1462.26 \n",
       "  \"/>\n",
       "</svg>\n"
      ]
     },
     "execution_count": 11,
     "metadata": {},
     "output_type": "execute_result"
    }
   ],
   "source": [
    "plot(Singleton(x̃))\n",
    "plot!(𝑋₀, alpha=.4, color=:orange)"
   ]
  },
  {
   "cell_type": "code",
   "execution_count": 12,
   "metadata": {},
   "outputs": [
    {
     "data": {
      "text/plain": [
       "ConstrainedAffineContinuousSystem{Float64,Array{Float64,2},Array{Float64,1},Universe{Float64}}([0.0 1.0; -7.72971 -1.02778], [0.0, 9.58311], Universe{Float64}(2))"
      ]
     },
     "execution_count": 12,
     "metadata": {},
     "output_type": "execute_result"
    }
   ],
   "source": [
    "Ax̃ = map(x -> evaluate(x, x̃), Jf)\n",
    "# Ax̃ = jacobian(f, x̃) # the same using TaylorSeries.jacobian\n",
    "bx̃ = f(x̃) - Ax̃ * x̃\n",
    "𝑆lin = ConstrainedAffineContinuousSystem(Ax̃, bx̃, Universe(2)) # no state constraints"
   ]
  },
  {
   "cell_type": "markdown",
   "metadata": {},
   "source": [
    "Next we overapproximate the flowpipe for the linearized system. We can use different set representations. For example, we can use `GLGM06` that computes with zonotopes (as in [Chapter 3, 1])."
   ]
  },
  {
   "cell_type": "code",
   "execution_count": 13,
   "metadata": {},
   "outputs": [
    {
     "name": "stdout",
     "output_type": "stream",
     "text": [
      " 36.857561 seconds (67.33 M allocations: 3.415 GiB, 10.18% gc time)\n"
     ]
    }
   ],
   "source": [
    "δcont = δ / 10\n",
    "\n",
    "𝑃lin = InitialValueProblem(𝑆lin, 𝑋₀)\n",
    "@time Rlin = solve(𝑃lin, Options(:T=>δ), op=GLGM06(:δ=>δcont, :max_order=>2));"
   ]
  },
  {
   "cell_type": "code",
   "execution_count": 14,
   "metadata": {},
   "outputs": [
    {
     "data": {
      "text/plain": [
       "10"
      ]
     },
     "execution_count": 14,
     "metadata": {},
     "output_type": "execute_result"
    }
   ],
   "source": [
    "length(Rlin.Xk)"
   ]
  },
  {
   "cell_type": "code",
   "execution_count": 15,
   "metadata": {},
   "outputs": [
    {
     "data": {
      "image/svg+xml": [
       "<?xml version=\"1.0\" encoding=\"utf-8\"?>\n",
       "<svg xmlns=\"http://www.w3.org/2000/svg\" xmlns:xlink=\"http://www.w3.org/1999/xlink\" width=\"600\" height=\"400\" viewBox=\"0 0 2400 1600\">\n",
       "<defs>\n",
       "  <clipPath id=\"clip7300\">\n",
       "    <rect x=\"0\" y=\"0\" width=\"2000\" height=\"2000\"/>\n",
       "  </clipPath>\n",
       "</defs>\n",
       "<defs>\n",
       "  <clipPath id=\"clip7301\">\n",
       "    <rect x=\"0\" y=\"0\" width=\"2400\" height=\"1600\"/>\n",
       "  </clipPath>\n",
       "</defs>\n",
       "<polygon clip-path=\"url(#clip7301)\" points=\"\n",
       "0,1600 2400,1600 2400,0 0,0 \n",
       "  \" fill=\"#ffffff\" fill-rule=\"evenodd\" fill-opacity=\"1\"/>\n",
       "<defs>\n",
       "  <clipPath id=\"clip7302\">\n",
       "    <rect x=\"480\" y=\"0\" width=\"1681\" height=\"1600\"/>\n",
       "  </clipPath>\n",
       "</defs>\n",
       "<polygon clip-path=\"url(#clip7301)\" points=\"\n",
       "251.149,1440.48 2321.26,1440.48 2321.26,47.2441 251.149,47.2441 \n",
       "  \" fill=\"#ffffff\" fill-rule=\"evenodd\" fill-opacity=\"1\"/>\n",
       "<defs>\n",
       "  <clipPath id=\"clip7303\">\n",
       "    <rect x=\"251\" y=\"47\" width=\"2071\" height=\"1394\"/>\n",
       "  </clipPath>\n",
       "</defs>\n",
       "<polyline clip-path=\"url(#clip7303)\" style=\"stroke:#000000; stroke-width:2; stroke-opacity:0.1; fill:none\" points=\"\n",
       "  590.939,1440.48 590.939,47.2441 \n",
       "  \"/>\n",
       "<polyline clip-path=\"url(#clip7303)\" style=\"stroke:#000000; stroke-width:2; stroke-opacity:0.1; fill:none\" points=\"\n",
       "  1151.71,1440.48 1151.71,47.2441 \n",
       "  \"/>\n",
       "<polyline clip-path=\"url(#clip7303)\" style=\"stroke:#000000; stroke-width:2; stroke-opacity:0.1; fill:none\" points=\"\n",
       "  1712.48,1440.48 1712.48,47.2441 \n",
       "  \"/>\n",
       "<polyline clip-path=\"url(#clip7303)\" style=\"stroke:#000000; stroke-width:2; stroke-opacity:0.1; fill:none\" points=\"\n",
       "  2273.25,1440.48 2273.25,47.2441 \n",
       "  \"/>\n",
       "<polyline clip-path=\"url(#clip7303)\" style=\"stroke:#000000; stroke-width:2; stroke-opacity:0.1; fill:none\" points=\"\n",
       "  251.149,1408.34 2321.26,1408.34 \n",
       "  \"/>\n",
       "<polyline clip-path=\"url(#clip7303)\" style=\"stroke:#000000; stroke-width:2; stroke-opacity:0.1; fill:none\" points=\"\n",
       "  251.149,1081.59 2321.26,1081.59 \n",
       "  \"/>\n",
       "<polyline clip-path=\"url(#clip7303)\" style=\"stroke:#000000; stroke-width:2; stroke-opacity:0.1; fill:none\" points=\"\n",
       "  251.149,754.847 2321.26,754.847 \n",
       "  \"/>\n",
       "<polyline clip-path=\"url(#clip7303)\" style=\"stroke:#000000; stroke-width:2; stroke-opacity:0.1; fill:none\" points=\"\n",
       "  251.149,428.099 2321.26,428.099 \n",
       "  \"/>\n",
       "<polyline clip-path=\"url(#clip7303)\" style=\"stroke:#000000; stroke-width:2; stroke-opacity:0.1; fill:none\" points=\"\n",
       "  251.149,101.352 2321.26,101.352 \n",
       "  \"/>\n",
       "<polyline clip-path=\"url(#clip7301)\" style=\"stroke:#000000; stroke-width:4; stroke-opacity:1; fill:none\" points=\"\n",
       "  251.149,1440.48 2321.26,1440.48 \n",
       "  \"/>\n",
       "<polyline clip-path=\"url(#clip7301)\" style=\"stroke:#000000; stroke-width:4; stroke-opacity:1; fill:none\" points=\"\n",
       "  251.149,1440.48 251.149,47.2441 \n",
       "  \"/>\n",
       "<polyline clip-path=\"url(#clip7301)\" style=\"stroke:#000000; stroke-width:4; stroke-opacity:1; fill:none\" points=\"\n",
       "  590.939,1440.48 590.939,1419.58 \n",
       "  \"/>\n",
       "<polyline clip-path=\"url(#clip7301)\" style=\"stroke:#000000; stroke-width:4; stroke-opacity:1; fill:none\" points=\"\n",
       "  1151.71,1440.48 1151.71,1419.58 \n",
       "  \"/>\n",
       "<polyline clip-path=\"url(#clip7301)\" style=\"stroke:#000000; stroke-width:4; stroke-opacity:1; fill:none\" points=\"\n",
       "  1712.48,1440.48 1712.48,1419.58 \n",
       "  \"/>\n",
       "<polyline clip-path=\"url(#clip7301)\" style=\"stroke:#000000; stroke-width:4; stroke-opacity:1; fill:none\" points=\"\n",
       "  2273.25,1440.48 2273.25,1419.58 \n",
       "  \"/>\n",
       "<polyline clip-path=\"url(#clip7301)\" style=\"stroke:#000000; stroke-width:4; stroke-opacity:1; fill:none\" points=\"\n",
       "  251.149,1408.34 282.2,1408.34 \n",
       "  \"/>\n",
       "<polyline clip-path=\"url(#clip7301)\" style=\"stroke:#000000; stroke-width:4; stroke-opacity:1; fill:none\" points=\"\n",
       "  251.149,1081.59 282.2,1081.59 \n",
       "  \"/>\n",
       "<polyline clip-path=\"url(#clip7301)\" style=\"stroke:#000000; stroke-width:4; stroke-opacity:1; fill:none\" points=\"\n",
       "  251.149,754.847 282.2,754.847 \n",
       "  \"/>\n",
       "<polyline clip-path=\"url(#clip7301)\" style=\"stroke:#000000; stroke-width:4; stroke-opacity:1; fill:none\" points=\"\n",
       "  251.149,428.099 282.2,428.099 \n",
       "  \"/>\n",
       "<polyline clip-path=\"url(#clip7301)\" style=\"stroke:#000000; stroke-width:4; stroke-opacity:1; fill:none\" points=\"\n",
       "  251.149,101.352 282.2,101.352 \n",
       "  \"/>\n",
       "<g clip-path=\"url(#clip7301)\">\n",
       "<text style=\"fill:#000000; fill-opacity:1; font-family:Arial,Helvetica Neue,Helvetica,sans-serif; font-size:48px; text-anchor:middle;\" transform=\"rotate(0, 590.939, 1494.48)\" x=\"590.939\" y=\"1494.48\">1.3</text>\n",
       "</g>\n",
       "<g clip-path=\"url(#clip7301)\">\n",
       "<text style=\"fill:#000000; fill-opacity:1; font-family:Arial,Helvetica Neue,Helvetica,sans-serif; font-size:48px; text-anchor:middle;\" transform=\"rotate(0, 1151.71, 1494.48)\" x=\"1151.71\" y=\"1494.48\">1.4</text>\n",
       "</g>\n",
       "<g clip-path=\"url(#clip7301)\">\n",
       "<text style=\"fill:#000000; fill-opacity:1; font-family:Arial,Helvetica Neue,Helvetica,sans-serif; font-size:48px; text-anchor:middle;\" transform=\"rotate(0, 1712.48, 1494.48)\" x=\"1712.48\" y=\"1494.48\">1.5</text>\n",
       "</g>\n",
       "<g clip-path=\"url(#clip7301)\">\n",
       "<text style=\"fill:#000000; fill-opacity:1; font-family:Arial,Helvetica Neue,Helvetica,sans-serif; font-size:48px; text-anchor:middle;\" transform=\"rotate(0, 2273.25, 1494.48)\" x=\"2273.25\" y=\"1494.48\">1.6</text>\n",
       "</g>\n",
       "<g clip-path=\"url(#clip7301)\">\n",
       "<text style=\"fill:#000000; fill-opacity:1; font-family:Arial,Helvetica Neue,Helvetica,sans-serif; font-size:48px; text-anchor:end;\" transform=\"rotate(0, 227.149, 1425.84)\" x=\"227.149\" y=\"1425.84\">2.25</text>\n",
       "</g>\n",
       "<g clip-path=\"url(#clip7301)\">\n",
       "<text style=\"fill:#000000; fill-opacity:1; font-family:Arial,Helvetica Neue,Helvetica,sans-serif; font-size:48px; text-anchor:end;\" transform=\"rotate(0, 227.149, 1099.09)\" x=\"227.149\" y=\"1099.09\">2.30</text>\n",
       "</g>\n",
       "<g clip-path=\"url(#clip7301)\">\n",
       "<text style=\"fill:#000000; fill-opacity:1; font-family:Arial,Helvetica Neue,Helvetica,sans-serif; font-size:48px; text-anchor:end;\" transform=\"rotate(0, 227.149, 772.347)\" x=\"227.149\" y=\"772.347\">2.35</text>\n",
       "</g>\n",
       "<g clip-path=\"url(#clip7301)\">\n",
       "<text style=\"fill:#000000; fill-opacity:1; font-family:Arial,Helvetica Neue,Helvetica,sans-serif; font-size:48px; text-anchor:end;\" transform=\"rotate(0, 227.149, 445.599)\" x=\"227.149\" y=\"445.599\">2.40</text>\n",
       "</g>\n",
       "<g clip-path=\"url(#clip7301)\">\n",
       "<text style=\"fill:#000000; fill-opacity:1; font-family:Arial,Helvetica Neue,Helvetica,sans-serif; font-size:48px; text-anchor:end;\" transform=\"rotate(0, 227.149, 118.852)\" x=\"227.149\" y=\"118.852\">2.45</text>\n",
       "</g>\n",
       "<g clip-path=\"url(#clip7301)\">\n",
       "<text style=\"fill:#000000; fill-opacity:1; font-family:Arial,Helvetica Neue,Helvetica,sans-serif; font-size:66px; text-anchor:middle;\" transform=\"rotate(0, 1286.2, 1590.4)\" x=\"1286.2\" y=\"1590.4\">x</text>\n",
       "</g>\n",
       "<g clip-path=\"url(#clip7301)\">\n",
       "<text style=\"fill:#000000; fill-opacity:1; font-family:Arial,Helvetica Neue,Helvetica,sans-serif; font-size:66px; text-anchor:middle;\" transform=\"rotate(-90, 57.6, 743.863)\" x=\"57.6\" y=\"743.863\">y</text>\n",
       "</g>\n",
       "<polygon clip-path=\"url(#clip7303)\" points=\"\n",
       "309.737,769.523 336.504,818.012 2020.45,818.012 2020.45,135.164 1993.68,86.6754 309.737,86.6754 309.737,769.523 \n",
       "  \" fill=\"#add8e6\" fill-rule=\"evenodd\" fill-opacity=\"0.5\"/>\n",
       "<polyline clip-path=\"url(#clip7303)\" style=\"stroke:#000000; stroke-width:4; stroke-opacity:0.5; fill:none\" points=\"\n",
       "  309.737,769.523 336.504,818.012 2020.45,818.012 2020.45,135.164 1993.68,86.6754 309.737,86.6754 309.737,769.523 \n",
       "  \"/>\n",
       "<polygon clip-path=\"url(#clip7303)\" points=\"\n",
       "335.825,802.297 362.509,851.168 2045.61,881.459 2047.81,881.459 2047.81,199.75 2021.13,150.88 338.028,120.588 335.825,120.588 335.825,802.297 \n",
       "  \" fill=\"#add8e6\" fill-rule=\"evenodd\" fill-opacity=\"0.5\"/>\n",
       "<polyline clip-path=\"url(#clip7303)\" style=\"stroke:#000000; stroke-width:4; stroke-opacity:0.5; fill:none\" points=\"\n",
       "  335.825,802.297 362.509,851.168 2045.61,881.459 2047.81,881.459 2047.81,199.75 2021.13,150.88 338.028,120.588 335.825,120.588 335.825,802.297 \n",
       "  \"/>\n",
       "<polygon clip-path=\"url(#clip7303)\" points=\"\n",
       "361.856,835.476 388.456,884.726 2071.48,945.246 2075.06,945.246 2075.06,264.69 2048.46,215.441 365.443,154.921 361.856,154.921 361.856,835.476 \n",
       "  \" fill=\"#add8e6\" fill-rule=\"evenodd\" fill-opacity=\"0.5\"/>\n",
       "<polyline clip-path=\"url(#clip7303)\" style=\"stroke:#000000; stroke-width:4; stroke-opacity:0.5; fill:none\" points=\"\n",
       "  361.856,835.476 388.456,884.726 2071.48,945.246 2075.06,945.246 2075.06,264.69 2048.46,215.441 365.443,154.921 361.856,154.921 361.856,835.476 \n",
       "  \"/>\n",
       "<polygon clip-path=\"url(#clip7303)\" points=\"\n",
       "387.83,869.059 414.345,918.686 2097.24,1009.37 2102.21,1009.37 2102.21,329.983 2075.69,280.357 392.799,189.673 387.83,189.673 387.83,869.059 \n",
       "  \" fill=\"#add8e6\" fill-rule=\"evenodd\" fill-opacity=\"0.5\"/>\n",
       "<polyline clip-path=\"url(#clip7303)\" style=\"stroke:#000000; stroke-width:4; stroke-opacity:0.5; fill:none\" points=\"\n",
       "  387.83,869.059 414.345,918.686 2097.24,1009.37 2102.21,1009.37 2102.21,329.983 2075.69,280.357 392.799,189.673 387.83,189.673 387.83,869.059 \n",
       "  \"/>\n",
       "<polygon clip-path=\"url(#clip7303)\" points=\"\n",
       "413.746,903.044 440.176,953.045 2122.89,1073.83 2129.23,1073.83 2129.23,395.626 2102.8,345.625 420.095,224.841 413.746,224.841 413.746,903.044 \n",
       "  \" fill=\"#add8e6\" fill-rule=\"evenodd\" fill-opacity=\"0.5\"/>\n",
       "<polyline clip-path=\"url(#clip7303)\" style=\"stroke:#000000; stroke-width:4; stroke-opacity:0.5; fill:none\" points=\"\n",
       "  413.746,903.044 440.176,953.045 2122.89,1073.83 2129.23,1073.83 2129.23,395.626 2102.8,345.625 420.095,224.841 413.746,224.841 413.746,903.044 \n",
       "  \"/>\n",
       "<polygon clip-path=\"url(#clip7303)\" points=\"\n",
       "439.604,937.429 465.947,987.802 2148.42,1138.62 2156.15,1138.62 2156.15,461.615 2129.81,411.242 447.33,260.424 439.604,260.424 439.604,937.429 \n",
       "  \" fill=\"#add8e6\" fill-rule=\"evenodd\" fill-opacity=\"0.5\"/>\n",
       "<polyline clip-path=\"url(#clip7303)\" style=\"stroke:#000000; stroke-width:4; stroke-opacity:0.5; fill:none\" points=\"\n",
       "  439.604,937.429 465.947,987.802 2148.42,1138.62 2156.15,1138.62 2156.15,461.615 2129.81,411.242 447.33,260.424 439.604,260.424 439.604,937.429 \n",
       "  \"/>\n",
       "<polygon clip-path=\"url(#clip7303)\" points=\"\n",
       "465.402,972.212 491.659,1022.95 2173.85,1203.74 2182.95,1203.74 2182.95,527.948 2156.7,477.205 474.503,296.42 465.402,296.42 465.402,972.212 \n",
       "  \" fill=\"#add8e6\" fill-rule=\"evenodd\" fill-opacity=\"0.5\"/>\n",
       "<polyline clip-path=\"url(#clip7303)\" style=\"stroke:#000000; stroke-width:4; stroke-opacity:0.5; fill:none\" points=\"\n",
       "  465.402,972.212 491.659,1022.95 2173.85,1203.74 2182.95,1203.74 2182.95,527.948 2156.7,477.205 474.503,296.42 465.402,296.42 465.402,972.212 \n",
       "  \"/>\n",
       "<polygon clip-path=\"url(#clip7303)\" points=\"\n",
       "491.14,1007.39 517.31,1058.5 2199.17,1269.19 2209.64,1269.19 2209.64,594.622 2183.47,543.512 501.615,332.826 491.14,332.826 491.14,1007.39 \n",
       "  \" fill=\"#add8e6\" fill-rule=\"evenodd\" fill-opacity=\"0.5\"/>\n",
       "<polyline clip-path=\"url(#clip7303)\" style=\"stroke:#000000; stroke-width:4; stroke-opacity:0.5; fill:none\" points=\"\n",
       "  491.14,1007.39 517.31,1058.5 2199.17,1269.19 2209.64,1269.19 2209.64,594.622 2183.47,543.512 501.615,332.826 491.14,332.826 491.14,1007.39 \n",
       "  \"/>\n",
       "<polygon clip-path=\"url(#clip7303)\" points=\"\n",
       "516.818,1042.96 542.9,1094.44 2224.37,1334.96 2236.21,1334.96 2236.21,661.635 2210.13,610.159 528.663,369.641 516.818,369.641 516.818,1042.96 \n",
       "  \" fill=\"#add8e6\" fill-rule=\"evenodd\" fill-opacity=\"0.5\"/>\n",
       "<polyline clip-path=\"url(#clip7303)\" style=\"stroke:#000000; stroke-width:4; stroke-opacity:0.5; fill:none\" points=\"\n",
       "  516.818,1042.96 542.9,1094.44 2224.37,1334.96 2236.21,1334.96 2236.21,661.635 2210.13,610.159 528.663,369.641 516.818,369.641 516.818,1042.96 \n",
       "  \"/>\n",
       "<polygon clip-path=\"url(#clip7303)\" points=\"\n",
       "542.434,1078.93 568.427,1130.77 2249.46,1401.05 2262.67,1401.05 2262.67,728.984 2236.68,677.145 555.648,406.863 542.434,406.863 542.434,1078.93 \n",
       "  \" fill=\"#add8e6\" fill-rule=\"evenodd\" fill-opacity=\"0.5\"/>\n",
       "<polyline clip-path=\"url(#clip7303)\" style=\"stroke:#000000; stroke-width:4; stroke-opacity:0.5; fill:none\" points=\"\n",
       "  542.434,1078.93 568.427,1130.77 2249.46,1401.05 2262.67,1401.05 2262.67,728.984 2236.68,677.145 555.648,406.863 542.434,406.863 542.434,1078.93 \n",
       "  \"/>\n",
       "<polygon clip-path=\"url(#clip7303)\" points=\"\n",
       "310.554,754.847 1992.86,754.847 1992.86,101.352 310.554,101.352 310.554,754.847 310.554,754.847 \n",
       "  \" fill=\"#ffa500\" fill-rule=\"evenodd\" fill-opacity=\"0.5\"/>\n",
       "<polyline clip-path=\"url(#clip7303)\" style=\"stroke:#000000; stroke-width:4; stroke-opacity:0.5; fill:none\" points=\"\n",
       "  310.554,754.847 1992.86,754.847 1992.86,101.352 310.554,101.352 310.554,754.847 \n",
       "  \"/>\n",
       "<circle clip-path=\"url(#clip7303)\" style=\"fill:#000000; stroke:none; fill-opacity:1\" cx=\"1286.29\" cy=\"670.154\" r=\"18\"/>\n",
       "<circle clip-path=\"url(#clip7303)\" style=\"fill:#000000; stroke:none; fill-opacity:1\" cx=\"1286.29\" cy=\"670.154\" r=\"14\"/>\n",
       "</svg>\n"
      ]
     },
     "execution_count": 15,
     "metadata": {},
     "output_type": "execute_result"
    }
   ],
   "source": [
    "plot(Rlin, color=:lightblue, alpha=.5)\n",
    "plot!(𝑋₀, color=:orange, alpha=.5, xlab=\"x\", ylab=\"y\")\n",
    "plot!(Singleton(x̃), color=:black) # linearization point"
   ]
  },
  {
   "cell_type": "markdown",
   "metadata": {},
   "source": [
    "Another run but this time using a five times larger time horizon in the continuous post:"
   ]
  },
  {
   "cell_type": "code",
   "execution_count": 16,
   "metadata": {},
   "outputs": [
    {
     "name": "stdout",
     "output_type": "stream",
     "text": [
      "  0.022402 seconds (19.59 k allocations: 1.592 MiB)\n"
     ]
    },
    {
     "data": {
      "image/svg+xml": [
       "<?xml version=\"1.0\" encoding=\"utf-8\"?>\n",
       "<svg xmlns=\"http://www.w3.org/2000/svg\" xmlns:xlink=\"http://www.w3.org/1999/xlink\" width=\"600\" height=\"400\" viewBox=\"0 0 2400 1600\">\n",
       "<defs>\n",
       "  <clipPath id=\"clip7500\">\n",
       "    <rect x=\"0\" y=\"0\" width=\"2000\" height=\"2000\"/>\n",
       "  </clipPath>\n",
       "</defs>\n",
       "<defs>\n",
       "  <clipPath id=\"clip7501\">\n",
       "    <rect x=\"0\" y=\"0\" width=\"2400\" height=\"1600\"/>\n",
       "  </clipPath>\n",
       "</defs>\n",
       "<polygon clip-path=\"url(#clip7501)\" points=\"\n",
       "0,1600 2400,1600 2400,0 0,0 \n",
       "  \" fill=\"#ffffff\" fill-rule=\"evenodd\" fill-opacity=\"1\"/>\n",
       "<defs>\n",
       "  <clipPath id=\"clip7502\">\n",
       "    <rect x=\"480\" y=\"0\" width=\"1681\" height=\"1600\"/>\n",
       "  </clipPath>\n",
       "</defs>\n",
       "<polygon clip-path=\"url(#clip7501)\" points=\"\n",
       "224.386,1440.48 2321.26,1440.48 2321.26,47.2441 224.386,47.2441 \n",
       "  \" fill=\"#ffffff\" fill-rule=\"evenodd\" fill-opacity=\"1\"/>\n",
       "<defs>\n",
       "  <clipPath id=\"clip7503\">\n",
       "    <rect x=\"224\" y=\"47\" width=\"2098\" height=\"1394\"/>\n",
       "  </clipPath>\n",
       "</defs>\n",
       "<polyline clip-path=\"url(#clip7503)\" style=\"stroke:#000000; stroke-width:2; stroke-opacity:0.1; fill:none\" points=\"\n",
       "  474.855,1440.48 474.855,47.2441 \n",
       "  \"/>\n",
       "<polyline clip-path=\"url(#clip7503)\" style=\"stroke:#000000; stroke-width:2; stroke-opacity:0.1; fill:none\" points=\"\n",
       "  855.99,1440.48 855.99,47.2441 \n",
       "  \"/>\n",
       "<polyline clip-path=\"url(#clip7503)\" style=\"stroke:#000000; stroke-width:2; stroke-opacity:0.1; fill:none\" points=\"\n",
       "  1237.13,1440.48 1237.13,47.2441 \n",
       "  \"/>\n",
       "<polyline clip-path=\"url(#clip7503)\" style=\"stroke:#000000; stroke-width:2; stroke-opacity:0.1; fill:none\" points=\"\n",
       "  1618.26,1440.48 1618.26,47.2441 \n",
       "  \"/>\n",
       "<polyline clip-path=\"url(#clip7503)\" style=\"stroke:#000000; stroke-width:2; stroke-opacity:0.1; fill:none\" points=\"\n",
       "  1999.4,1440.48 1999.4,47.2441 \n",
       "  \"/>\n",
       "<polyline clip-path=\"url(#clip7503)\" style=\"stroke:#000000; stroke-width:2; stroke-opacity:0.1; fill:none\" points=\"\n",
       "  224.386,1423.7 2321.26,1423.7 \n",
       "  \"/>\n",
       "<polyline clip-path=\"url(#clip7503)\" style=\"stroke:#000000; stroke-width:2; stroke-opacity:0.1; fill:none\" points=\"\n",
       "  224.386,1218.71 2321.26,1218.71 \n",
       "  \"/>\n",
       "<polyline clip-path=\"url(#clip7503)\" style=\"stroke:#000000; stroke-width:2; stroke-opacity:0.1; fill:none\" points=\"\n",
       "  224.386,1013.72 2321.26,1013.72 \n",
       "  \"/>\n",
       "<polyline clip-path=\"url(#clip7503)\" style=\"stroke:#000000; stroke-width:2; stroke-opacity:0.1; fill:none\" points=\"\n",
       "  224.386,808.737 2321.26,808.737 \n",
       "  \"/>\n",
       "<polyline clip-path=\"url(#clip7503)\" style=\"stroke:#000000; stroke-width:2; stroke-opacity:0.1; fill:none\" points=\"\n",
       "  224.386,603.749 2321.26,603.749 \n",
       "  \"/>\n",
       "<polyline clip-path=\"url(#clip7503)\" style=\"stroke:#000000; stroke-width:2; stroke-opacity:0.1; fill:none\" points=\"\n",
       "  224.386,398.761 2321.26,398.761 \n",
       "  \"/>\n",
       "<polyline clip-path=\"url(#clip7503)\" style=\"stroke:#000000; stroke-width:2; stroke-opacity:0.1; fill:none\" points=\"\n",
       "  224.386,193.773 2321.26,193.773 \n",
       "  \"/>\n",
       "<polyline clip-path=\"url(#clip7501)\" style=\"stroke:#000000; stroke-width:4; stroke-opacity:1; fill:none\" points=\"\n",
       "  224.386,1440.48 2321.26,1440.48 \n",
       "  \"/>\n",
       "<polyline clip-path=\"url(#clip7501)\" style=\"stroke:#000000; stroke-width:4; stroke-opacity:1; fill:none\" points=\"\n",
       "  224.386,1440.48 224.386,47.2441 \n",
       "  \"/>\n",
       "<polyline clip-path=\"url(#clip7501)\" style=\"stroke:#000000; stroke-width:4; stroke-opacity:1; fill:none\" points=\"\n",
       "  474.855,1440.48 474.855,1419.58 \n",
       "  \"/>\n",
       "<polyline clip-path=\"url(#clip7501)\" style=\"stroke:#000000; stroke-width:4; stroke-opacity:1; fill:none\" points=\"\n",
       "  855.99,1440.48 855.99,1419.58 \n",
       "  \"/>\n",
       "<polyline clip-path=\"url(#clip7501)\" style=\"stroke:#000000; stroke-width:4; stroke-opacity:1; fill:none\" points=\"\n",
       "  1237.13,1440.48 1237.13,1419.58 \n",
       "  \"/>\n",
       "<polyline clip-path=\"url(#clip7501)\" style=\"stroke:#000000; stroke-width:4; stroke-opacity:1; fill:none\" points=\"\n",
       "  1618.26,1440.48 1618.26,1419.58 \n",
       "  \"/>\n",
       "<polyline clip-path=\"url(#clip7501)\" style=\"stroke:#000000; stroke-width:4; stroke-opacity:1; fill:none\" points=\"\n",
       "  1999.4,1440.48 1999.4,1419.58 \n",
       "  \"/>\n",
       "<polyline clip-path=\"url(#clip7501)\" style=\"stroke:#000000; stroke-width:4; stroke-opacity:1; fill:none\" points=\"\n",
       "  224.386,1423.7 255.839,1423.7 \n",
       "  \"/>\n",
       "<polyline clip-path=\"url(#clip7501)\" style=\"stroke:#000000; stroke-width:4; stroke-opacity:1; fill:none\" points=\"\n",
       "  224.386,1218.71 255.839,1218.71 \n",
       "  \"/>\n",
       "<polyline clip-path=\"url(#clip7501)\" style=\"stroke:#000000; stroke-width:4; stroke-opacity:1; fill:none\" points=\"\n",
       "  224.386,1013.72 255.839,1013.72 \n",
       "  \"/>\n",
       "<polyline clip-path=\"url(#clip7501)\" style=\"stroke:#000000; stroke-width:4; stroke-opacity:1; fill:none\" points=\"\n",
       "  224.386,808.737 255.839,808.737 \n",
       "  \"/>\n",
       "<polyline clip-path=\"url(#clip7501)\" style=\"stroke:#000000; stroke-width:4; stroke-opacity:1; fill:none\" points=\"\n",
       "  224.386,603.749 255.839,603.749 \n",
       "  \"/>\n",
       "<polyline clip-path=\"url(#clip7501)\" style=\"stroke:#000000; stroke-width:4; stroke-opacity:1; fill:none\" points=\"\n",
       "  224.386,398.761 255.839,398.761 \n",
       "  \"/>\n",
       "<polyline clip-path=\"url(#clip7501)\" style=\"stroke:#000000; stroke-width:4; stroke-opacity:1; fill:none\" points=\"\n",
       "  224.386,193.773 255.839,193.773 \n",
       "  \"/>\n",
       "<g clip-path=\"url(#clip7501)\">\n",
       "<text style=\"fill:#000000; fill-opacity:1; font-family:Arial,Helvetica Neue,Helvetica,sans-serif; font-size:48px; text-anchor:middle;\" transform=\"rotate(0, 474.855, 1494.48)\" x=\"474.855\" y=\"1494.48\">1.3</text>\n",
       "</g>\n",
       "<g clip-path=\"url(#clip7501)\">\n",
       "<text style=\"fill:#000000; fill-opacity:1; font-family:Arial,Helvetica Neue,Helvetica,sans-serif; font-size:48px; text-anchor:middle;\" transform=\"rotate(0, 855.99, 1494.48)\" x=\"855.99\" y=\"1494.48\">1.4</text>\n",
       "</g>\n",
       "<g clip-path=\"url(#clip7501)\">\n",
       "<text style=\"fill:#000000; fill-opacity:1; font-family:Arial,Helvetica Neue,Helvetica,sans-serif; font-size:48px; text-anchor:middle;\" transform=\"rotate(0, 1237.13, 1494.48)\" x=\"1237.13\" y=\"1494.48\">1.5</text>\n",
       "</g>\n",
       "<g clip-path=\"url(#clip7501)\">\n",
       "<text style=\"fill:#000000; fill-opacity:1; font-family:Arial,Helvetica Neue,Helvetica,sans-serif; font-size:48px; text-anchor:middle;\" transform=\"rotate(0, 1618.26, 1494.48)\" x=\"1618.26\" y=\"1494.48\">1.6</text>\n",
       "</g>\n",
       "<g clip-path=\"url(#clip7501)\">\n",
       "<text style=\"fill:#000000; fill-opacity:1; font-family:Arial,Helvetica Neue,Helvetica,sans-serif; font-size:48px; text-anchor:middle;\" transform=\"rotate(0, 1999.4, 1494.48)\" x=\"1999.4\" y=\"1494.48\">1.7</text>\n",
       "</g>\n",
       "<g clip-path=\"url(#clip7501)\">\n",
       "<text style=\"fill:#000000; fill-opacity:1; font-family:Arial,Helvetica Neue,Helvetica,sans-serif; font-size:48px; text-anchor:end;\" transform=\"rotate(0, 200.386, 1441.2)\" x=\"200.386\" y=\"1441.2\">1.8</text>\n",
       "</g>\n",
       "<g clip-path=\"url(#clip7501)\">\n",
       "<text style=\"fill:#000000; fill-opacity:1; font-family:Arial,Helvetica Neue,Helvetica,sans-serif; font-size:48px; text-anchor:end;\" transform=\"rotate(0, 200.386, 1236.21)\" x=\"200.386\" y=\"1236.21\">1.9</text>\n",
       "</g>\n",
       "<g clip-path=\"url(#clip7501)\">\n",
       "<text style=\"fill:#000000; fill-opacity:1; font-family:Arial,Helvetica Neue,Helvetica,sans-serif; font-size:48px; text-anchor:end;\" transform=\"rotate(0, 200.386, 1031.22)\" x=\"200.386\" y=\"1031.22\">2.0</text>\n",
       "</g>\n",
       "<g clip-path=\"url(#clip7501)\">\n",
       "<text style=\"fill:#000000; fill-opacity:1; font-family:Arial,Helvetica Neue,Helvetica,sans-serif; font-size:48px; text-anchor:end;\" transform=\"rotate(0, 200.386, 826.237)\" x=\"200.386\" y=\"826.237\">2.1</text>\n",
       "</g>\n",
       "<g clip-path=\"url(#clip7501)\">\n",
       "<text style=\"fill:#000000; fill-opacity:1; font-family:Arial,Helvetica Neue,Helvetica,sans-serif; font-size:48px; text-anchor:end;\" transform=\"rotate(0, 200.386, 621.249)\" x=\"200.386\" y=\"621.249\">2.2</text>\n",
       "</g>\n",
       "<g clip-path=\"url(#clip7501)\">\n",
       "<text style=\"fill:#000000; fill-opacity:1; font-family:Arial,Helvetica Neue,Helvetica,sans-serif; font-size:48px; text-anchor:end;\" transform=\"rotate(0, 200.386, 416.261)\" x=\"200.386\" y=\"416.261\">2.3</text>\n",
       "</g>\n",
       "<g clip-path=\"url(#clip7501)\">\n",
       "<text style=\"fill:#000000; fill-opacity:1; font-family:Arial,Helvetica Neue,Helvetica,sans-serif; font-size:48px; text-anchor:end;\" transform=\"rotate(0, 200.386, 211.273)\" x=\"200.386\" y=\"211.273\">2.4</text>\n",
       "</g>\n",
       "<g clip-path=\"url(#clip7501)\">\n",
       "<text style=\"fill:#000000; fill-opacity:1; font-family:Arial,Helvetica Neue,Helvetica,sans-serif; font-size:66px; text-anchor:middle;\" transform=\"rotate(0, 1272.82, 1590.4)\" x=\"1272.82\" y=\"1590.4\">x</text>\n",
       "</g>\n",
       "<g clip-path=\"url(#clip7501)\">\n",
       "<text style=\"fill:#000000; fill-opacity:1; font-family:Arial,Helvetica Neue,Helvetica,sans-serif; font-size:66px; text-anchor:middle;\" transform=\"rotate(-90, 57.6, 743.863)\" x=\"57.6\" y=\"743.863\">y</text>\n",
       "</g>\n",
       "<polygon clip-path=\"url(#clip7503)\" points=\"\n",
       "283.732,300.871 301.925,316.081 1446.44,316.081 1446.44,101.885 1428.25,86.6754 283.732,86.6754 283.732,300.871 \n",
       "  \" fill=\"#add8e6\" fill-rule=\"evenodd\" fill-opacity=\"0.5\"/>\n",
       "<polyline clip-path=\"url(#clip7503)\" style=\"stroke:#000000; stroke-width:4; stroke-opacity:0.5; fill:none\" points=\"\n",
       "  283.732,300.871 301.925,316.081 1446.44,316.081 1446.44,101.885 1428.25,86.6754 283.732,86.6754 283.732,300.871 \n",
       "  \"/>\n",
       "<polygon clip-path=\"url(#clip7503)\" points=\"\n",
       "301.463,311.151 319.599,326.481 1463.54,335.983 1465.04,335.983 1465.04,122.145 1446.9,106.815 302.96,97.3131 301.463,97.3131 301.463,311.151 \n",
       "  \" fill=\"#add8e6\" fill-rule=\"evenodd\" fill-opacity=\"0.5\"/>\n",
       "<polyline clip-path=\"url(#clip7503)\" style=\"stroke:#000000; stroke-width:4; stroke-opacity:0.5; fill:none\" points=\"\n",
       "  301.463,311.151 319.599,326.481 1463.54,335.983 1465.04,335.983 1465.04,122.145 1446.9,106.815 302.96,97.3131 301.463,97.3131 301.463,311.151 \n",
       "  \"/>\n",
       "<polygon clip-path=\"url(#clip7503)\" points=\"\n",
       "319.155,321.559 337.235,337.008 1481.13,355.991 1483.56,355.991 1483.56,142.515 1465.48,127.067 321.593,108.083 319.155,108.083 319.155,321.559 \n",
       "  \" fill=\"#add8e6\" fill-rule=\"evenodd\" fill-opacity=\"0.5\"/>\n",
       "<polyline clip-path=\"url(#clip7503)\" style=\"stroke:#000000; stroke-width:4; stroke-opacity:0.5; fill:none\" points=\"\n",
       "  319.155,321.559 337.235,337.008 1481.13,355.991 1483.56,355.991 1483.56,142.515 1465.48,127.067 321.593,108.083 319.155,108.083 319.155,321.559 \n",
       "  \"/>\n",
       "<polygon clip-path=\"url(#clip7503)\" points=\"\n",
       "336.809,332.093 354.831,347.66 1498.63,376.106 1502.01,376.106 1502.01,162.996 1483.99,147.429 340.186,118.984 336.809,118.984 336.809,332.093 \n",
       "  \" fill=\"#add8e6\" fill-rule=\"evenodd\" fill-opacity=\"0.5\"/>\n",
       "<polyline clip-path=\"url(#clip7503)\" style=\"stroke:#000000; stroke-width:4; stroke-opacity:0.5; fill:none\" points=\"\n",
       "  336.809,332.093 354.831,347.66 1498.63,376.106 1502.01,376.106 1502.01,162.996 1483.99,147.429 340.186,118.984 336.809,118.984 336.809,332.093 \n",
       "  \"/>\n",
       "<polygon clip-path=\"url(#clip7503)\" points=\"\n",
       "354.423,342.754 372.387,358.438 1516.07,396.325 1520.38,396.325 1520.38,183.587 1502.42,167.903 358.738,130.015 354.423,130.015 354.423,342.754 \n",
       "  \" fill=\"#add8e6\" fill-rule=\"evenodd\" fill-opacity=\"0.5\"/>\n",
       "<polyline clip-path=\"url(#clip7503)\" style=\"stroke:#000000; stroke-width:4; stroke-opacity:0.5; fill:none\" points=\"\n",
       "  354.423,342.754 372.387,358.438 1516.07,396.325 1520.38,396.325 1520.38,183.587 1502.42,167.903 358.738,130.015 354.423,130.015 354.423,342.754 \n",
       "  \"/>\n",
       "<polygon clip-path=\"url(#clip7503)\" points=\"\n",
       "371.998,353.539 389.903,369.34 1533.42,416.649 1538.68,416.649 1538.68,204.286 1520.77,188.485 377.249,141.177 371.998,141.177 371.998,353.539 \n",
       "  \" fill=\"#add8e6\" fill-rule=\"evenodd\" fill-opacity=\"0.5\"/>\n",
       "<polyline clip-path=\"url(#clip7503)\" style=\"stroke:#000000; stroke-width:4; stroke-opacity:0.5; fill:none\" points=\"\n",
       "  371.998,353.539 389.903,369.34 1533.42,416.649 1538.68,416.649 1538.68,204.286 1520.77,188.485 377.249,141.177 371.998,141.177 371.998,353.539 \n",
       "  \"/>\n",
       "<polygon clip-path=\"url(#clip7503)\" points=\"\n",
       "389.532,364.45 407.378,380.367 1550.71,437.076 1556.89,437.076 1556.89,225.094 1539.05,209.177 395.718,152.468 389.532,152.468 389.532,364.45 \n",
       "  \" fill=\"#add8e6\" fill-rule=\"evenodd\" fill-opacity=\"0.5\"/>\n",
       "<polyline clip-path=\"url(#clip7503)\" style=\"stroke:#000000; stroke-width:4; stroke-opacity:0.5; fill:none\" points=\"\n",
       "  389.532,364.45 407.378,380.367 1550.71,437.076 1556.89,437.076 1556.89,225.094 1539.05,209.177 395.718,152.468 389.532,152.468 389.532,364.45 \n",
       "  \"/>\n",
       "<polygon clip-path=\"url(#clip7503)\" points=\"\n",
       "407.026,375.485 424.812,391.517 1567.91,457.605 1575.03,457.605 1575.03,246.008 1557.24,229.976 414.144,163.888 407.026,163.888 407.026,375.485 \n",
       "  \" fill=\"#add8e6\" fill-rule=\"evenodd\" fill-opacity=\"0.5\"/>\n",
       "<polyline clip-path=\"url(#clip7503)\" style=\"stroke:#000000; stroke-width:4; stroke-opacity:0.5; fill:none\" points=\"\n",
       "  407.026,375.485 424.812,391.517 1567.91,457.605 1575.03,457.605 1575.03,246.008 1557.24,229.976 414.144,163.888 407.026,163.888 407.026,375.485 \n",
       "  \"/>\n",
       "<polygon clip-path=\"url(#clip7503)\" points=\"\n",
       "424.478,386.644 442.204,402.791 1585.04,478.236 1593.09,478.236 1593.09,267.029 1575.36,250.882 432.528,175.436 424.478,175.436 424.478,386.644 \n",
       "  \" fill=\"#add8e6\" fill-rule=\"evenodd\" fill-opacity=\"0.5\"/>\n",
       "<polyline clip-path=\"url(#clip7503)\" style=\"stroke:#000000; stroke-width:4; stroke-opacity:0.5; fill:none\" points=\"\n",
       "  424.478,386.644 442.204,402.791 1585.04,478.236 1593.09,478.236 1593.09,267.029 1575.36,250.882 432.528,175.436 424.478,175.436 424.478,386.644 \n",
       "  \"/>\n",
       "<polygon clip-path=\"url(#clip7503)\" points=\"\n",
       "441.888,397.926 459.555,414.186 1602.09,498.968 1611.07,498.968 1611.07,288.154 1593.41,271.894 450.869,187.112 441.888,187.112 441.888,397.926 \n",
       "  \" fill=\"#add8e6\" fill-rule=\"evenodd\" fill-opacity=\"0.5\"/>\n",
       "<polyline clip-path=\"url(#clip7503)\" style=\"stroke:#000000; stroke-width:4; stroke-opacity:0.5; fill:none\" points=\"\n",
       "  441.888,397.926 459.555,414.186 1602.09,498.968 1611.07,498.968 1611.07,288.154 1593.41,271.894 450.869,187.112 441.888,187.112 441.888,397.926 \n",
       "  \"/>\n",
       "<polygon clip-path=\"url(#clip7503)\" points=\"\n",
       "459.257,409.33 476.862,425.704 1619.07,519.8 1628.98,519.8 1628.98,309.385 1611.37,293.011 469.166,198.914 459.257,198.914 459.257,409.33 \n",
       "  \" fill=\"#add8e6\" fill-rule=\"evenodd\" fill-opacity=\"0.5\"/>\n",
       "<polyline clip-path=\"url(#clip7503)\" style=\"stroke:#000000; stroke-width:4; stroke-opacity:0.5; fill:none\" points=\"\n",
       "  459.257,409.33 476.862,425.704 1619.07,519.8 1628.98,519.8 1628.98,309.385 1611.37,293.011 469.166,198.914 459.257,198.914 459.257,409.33 \n",
       "  \"/>\n",
       "<polygon clip-path=\"url(#clip7503)\" points=\"\n",
       "476.583,420.856 494.127,437.342 1635.97,540.731 1646.8,540.731 1646.8,330.719 1629.26,314.232 487.419,210.843 476.583,210.843 476.583,420.856 \n",
       "  \" fill=\"#add8e6\" fill-rule=\"evenodd\" fill-opacity=\"0.5\"/>\n",
       "<polyline clip-path=\"url(#clip7503)\" style=\"stroke:#000000; stroke-width:4; stroke-opacity:0.5; fill:none\" points=\"\n",
       "  476.583,420.856 494.127,437.342 1635.97,540.731 1646.8,540.731 1646.8,330.719 1629.26,314.232 487.419,210.843 476.583,210.843 476.583,420.856 \n",
       "  \"/>\n",
       "<polygon clip-path=\"url(#clip7503)\" points=\"\n",
       "493.865,432.503 511.349,449.101 1652.79,561.76 1664.55,561.76 1664.55,352.155 1647.06,335.557 505.627,222.898 493.865,222.898 493.865,432.503 \n",
       "  \" fill=\"#add8e6\" fill-rule=\"evenodd\" fill-opacity=\"0.5\"/>\n",
       "<polyline clip-path=\"url(#clip7503)\" style=\"stroke:#000000; stroke-width:4; stroke-opacity:0.5; fill:none\" points=\"\n",
       "  493.865,432.503 511.349,449.101 1652.79,561.76 1664.55,561.76 1664.55,352.155 1647.06,335.557 505.627,222.898 493.865,222.898 493.865,432.503 \n",
       "  \"/>\n",
       "<polygon clip-path=\"url(#clip7503)\" points=\"\n",
       "511.105,444.271 528.526,460.98 1669.53,582.887 1682.21,582.887 1682.21,373.694 1664.79,356.985 523.79,235.078 511.105,235.078 511.105,444.271 \n",
       "  \" fill=\"#add8e6\" fill-rule=\"evenodd\" fill-opacity=\"0.5\"/>\n",
       "<polyline clip-path=\"url(#clip7503)\" style=\"stroke:#000000; stroke-width:4; stroke-opacity:0.5; fill:none\" points=\"\n",
       "  511.105,444.271 528.526,460.98 1669.53,582.887 1682.21,582.887 1682.21,373.694 1664.79,356.985 523.79,235.078 511.105,235.078 511.105,444.271 \n",
       "  \"/>\n",
       "<polygon clip-path=\"url(#clip7503)\" points=\"\n",
       "528.3,456.159 545.659,472.978 1686.19,604.11 1699.8,604.11 1699.8,395.333 1682.44,378.514 541.907,247.382 528.3,247.382 528.3,456.159 \n",
       "  \" fill=\"#add8e6\" fill-rule=\"evenodd\" fill-opacity=\"0.5\"/>\n",
       "<polyline clip-path=\"url(#clip7503)\" style=\"stroke:#000000; stroke-width:4; stroke-opacity:0.5; fill:none\" points=\"\n",
       "  528.3,456.159 545.659,472.978 1686.19,604.11 1699.8,604.11 1699.8,395.333 1682.44,378.514 541.907,247.382 528.3,247.382 528.3,456.159 \n",
       "  \"/>\n",
       "<polygon clip-path=\"url(#clip7503)\" points=\"\n",
       "545.451,468.167 562.747,485.095 1702.77,625.429 1717.3,625.429 1717.3,417.073 1700,400.144 559.979,259.81 545.451,259.81 545.451,468.167 \n",
       "  \" fill=\"#add8e6\" fill-rule=\"evenodd\" fill-opacity=\"0.5\"/>\n",
       "<polyline clip-path=\"url(#clip7503)\" style=\"stroke:#000000; stroke-width:4; stroke-opacity:0.5; fill:none\" points=\"\n",
       "  545.451,468.167 562.747,485.095 1702.77,625.429 1717.3,625.429 1717.3,417.073 1700,400.144 559.979,259.81 545.451,259.81 545.451,468.167 \n",
       "  \"/>\n",
       "<polygon clip-path=\"url(#clip7503)\" points=\"\n",
       "562.558,480.293 579.791,497.33 1719.28,646.843 1734.72,646.843 1734.72,438.911 1717.49,421.874 578.004,272.362 562.558,272.362 562.558,480.293 \n",
       "  \" fill=\"#add8e6\" fill-rule=\"evenodd\" fill-opacity=\"0.5\"/>\n",
       "<polyline clip-path=\"url(#clip7503)\" style=\"stroke:#000000; stroke-width:4; stroke-opacity:0.5; fill:none\" points=\"\n",
       "  562.558,480.293 579.791,497.33 1719.28,646.843 1734.72,646.843 1734.72,438.911 1717.49,421.874 578.004,272.362 562.558,272.362 562.558,480.293 \n",
       "  \"/>\n",
       "<polygon clip-path=\"url(#clip7503)\" points=\"\n",
       "579.619,492.538 596.788,509.683 1735.7,668.351 1752.06,668.351 1752.06,460.848 1734.9,443.703 595.981,285.035 579.619,285.035 579.619,492.538 \n",
       "  \" fill=\"#add8e6\" fill-rule=\"evenodd\" fill-opacity=\"0.5\"/>\n",
       "<polyline clip-path=\"url(#clip7503)\" style=\"stroke:#000000; stroke-width:4; stroke-opacity:0.5; fill:none\" points=\"\n",
       "  579.619,492.538 596.788,509.683 1735.7,668.351 1752.06,668.351 1752.06,460.848 1734.9,443.703 595.981,285.035 579.619,285.035 579.619,492.538 \n",
       "  \"/>\n",
       "<polygon clip-path=\"url(#clip7503)\" points=\"\n",
       "596.634,504.9 613.74,522.152 1752.05,689.952 1769.32,689.952 1769.32,482.883 1752.22,465.631 613.912,297.831 596.634,297.831 596.634,504.9 \n",
       "  \" fill=\"#add8e6\" fill-rule=\"evenodd\" fill-opacity=\"0.5\"/>\n",
       "<polyline clip-path=\"url(#clip7503)\" style=\"stroke:#000000; stroke-width:4; stroke-opacity:0.5; fill:none\" points=\"\n",
       "  596.634,504.9 613.74,522.152 1752.05,689.952 1769.32,689.952 1769.32,482.883 1752.22,465.631 613.912,297.831 596.634,297.831 596.634,504.9 \n",
       "  \"/>\n",
       "<polygon clip-path=\"url(#clip7503)\" points=\"\n",
       "613.603,517.379 630.644,534.737 1768.31,711.645 1786.5,711.645 1786.5,505.014 1769.46,487.655 631.794,310.748 613.603,310.748 613.603,517.379 \n",
       "  \" fill=\"#add8e6\" fill-rule=\"evenodd\" fill-opacity=\"0.5\"/>\n",
       "<polyline clip-path=\"url(#clip7503)\" style=\"stroke:#000000; stroke-width:4; stroke-opacity:0.5; fill:none\" points=\"\n",
       "  613.603,517.379 630.644,534.737 1768.31,711.645 1786.5,711.645 1786.5,505.014 1769.46,487.655 631.794,310.748 613.603,310.748 613.603,517.379 \n",
       "  \"/>\n",
       "<polygon clip-path=\"url(#clip7503)\" points=\"\n",
       "630.526,529.975 647.503,547.438 1784.49,733.429 1803.6,733.429 1803.6,527.24 1786.62,509.776 649.628,323.786 630.526,323.786 630.526,529.975 \n",
       "  \" fill=\"#add8e6\" fill-rule=\"evenodd\" fill-opacity=\"0.5\"/>\n",
       "<polyline clip-path=\"url(#clip7503)\" style=\"stroke:#000000; stroke-width:4; stroke-opacity:0.5; fill:none\" points=\"\n",
       "  630.526,529.975 647.503,547.438 1784.49,733.429 1803.6,733.429 1803.6,527.24 1786.62,509.776 649.628,323.786 630.526,323.786 630.526,529.975 \n",
       "  \"/>\n",
       "<polygon clip-path=\"url(#clip7503)\" points=\"\n",
       "647.402,542.686 664.313,560.254 1800.6,755.304 1820.61,755.304 1820.61,549.562 1803.7,531.993 667.414,336.943 647.402,336.943 647.402,542.686 \n",
       "  \" fill=\"#add8e6\" fill-rule=\"evenodd\" fill-opacity=\"0.5\"/>\n",
       "<polyline clip-path=\"url(#clip7503)\" style=\"stroke:#000000; stroke-width:4; stroke-opacity:0.5; fill:none\" points=\"\n",
       "  647.402,542.686 664.313,560.254 1800.6,755.304 1820.61,755.304 1820.61,549.562 1803.7,531.993 667.414,336.943 647.402,336.943 647.402,542.686 \n",
       "  \"/>\n",
       "<polygon clip-path=\"url(#clip7503)\" points=\"\n",
       "664.23,555.512 681.076,573.185 1816.62,777.269 1837.54,777.269 1837.54,571.977 1820.69,554.304 685.15,350.22 664.23,350.22 664.23,555.512 \n",
       "  \" fill=\"#add8e6\" fill-rule=\"evenodd\" fill-opacity=\"0.5\"/>\n",
       "<polyline clip-path=\"url(#clip7503)\" style=\"stroke:#000000; stroke-width:4; stroke-opacity:0.5; fill:none\" points=\"\n",
       "  664.23,555.512 681.076,573.185 1816.62,777.269 1837.54,777.269 1837.54,571.977 1820.69,554.304 685.15,350.22 664.23,350.22 664.23,555.512 \n",
       "  \"/>\n",
       "<polygon clip-path=\"url(#clip7503)\" points=\"\n",
       "681.011,586.229 1815.78,799.323 1836.92,799.323 1854.38,601.068 1854.38,576.709 719.616,363.615 698.472,363.615 681.011,561.87 681.011,586.229 \n",
       "  \" fill=\"#add8e6\" fill-rule=\"evenodd\" fill-opacity=\"0.5\"/>\n",
       "<polyline clip-path=\"url(#clip7503)\" style=\"stroke:#000000; stroke-width:4; stroke-opacity:0.5; fill:none\" points=\"\n",
       "  681.011,586.229 1815.78,799.323 1836.92,799.323 1854.38,601.068 1854.38,576.709 719.616,363.615 698.472,363.615 681.011,561.87 681.011,586.229 \n",
       "  \"/>\n",
       "<polygon clip-path=\"url(#clip7503)\" points=\"\n",
       "697.744,599.386 1831.7,821.464 1852.94,821.464 1871.14,623.765 1871.14,599.207 737.186,377.129 715.941,377.129 697.744,574.828 697.744,599.386 \n",
       "  \" fill=\"#add8e6\" fill-rule=\"evenodd\" fill-opacity=\"0.5\"/>\n",
       "<polyline clip-path=\"url(#clip7503)\" style=\"stroke:#000000; stroke-width:4; stroke-opacity:0.5; fill:none\" points=\"\n",
       "  697.744,599.386 1831.7,821.464 1852.94,821.464 1871.14,623.765 1871.14,599.207 737.186,377.129 715.941,377.129 697.744,574.828 697.744,599.386 \n",
       "  \"/>\n",
       "<polygon clip-path=\"url(#clip7503)\" points=\"\n",
       "714.427,612.655 1847.54,843.693 1868.89,843.693 1887.82,646.554 1887.82,621.797 754.705,390.76 733.359,390.76 714.427,587.899 714.427,612.655 \n",
       "  \" fill=\"#add8e6\" fill-rule=\"evenodd\" fill-opacity=\"0.5\"/>\n",
       "<polyline clip-path=\"url(#clip7503)\" style=\"stroke:#000000; stroke-width:4; stroke-opacity:0.5; fill:none\" points=\"\n",
       "  714.427,612.655 1847.54,843.693 1868.89,843.693 1887.82,646.554 1887.82,621.797 754.705,390.76 733.359,390.76 714.427,587.899 714.427,612.655 \n",
       "  \"/>\n",
       "<polygon clip-path=\"url(#clip7503)\" points=\"\n",
       "731.062,626.037 1863.3,866.008 1884.75,866.008 1904.41,669.434 1904.41,644.479 772.172,404.507 750.726,404.507 731.062,601.081 731.062,626.037 \n",
       "  \" fill=\"#add8e6\" fill-rule=\"evenodd\" fill-opacity=\"0.5\"/>\n",
       "<polyline clip-path=\"url(#clip7503)\" style=\"stroke:#000000; stroke-width:4; stroke-opacity:0.5; fill:none\" points=\"\n",
       "  731.062,626.037 1863.3,866.008 1884.75,866.008 1904.41,669.434 1904.41,644.479 772.172,404.507 750.726,404.507 731.062,601.081 731.062,626.037 \n",
       "  \"/>\n",
       "<polygon clip-path=\"url(#clip7503)\" points=\"\n",
       "747.647,639.529 1878.98,888.408 1900.52,888.408 1920.92,692.404 1920.92,667.25 789.588,418.371 768.041,418.371 747.647,614.375 747.647,639.529 \n",
       "  \" fill=\"#add8e6\" fill-rule=\"evenodd\" fill-opacity=\"0.5\"/>\n",
       "<polyline clip-path=\"url(#clip7503)\" style=\"stroke:#000000; stroke-width:4; stroke-opacity:0.5; fill:none\" points=\"\n",
       "  747.647,639.529 1878.98,888.408 1900.52,888.408 1920.92,692.404 1920.92,667.25 789.588,418.371 768.041,418.371 747.647,614.375 747.647,639.529 \n",
       "  \"/>\n",
       "<polygon clip-path=\"url(#clip7503)\" points=\"\n",
       "764.183,653.132 1894.57,910.893 1916.22,910.893 1937.34,715.464 1937.34,690.111 806.952,432.349 785.304,432.349 764.183,627.779 764.183,653.132 \n",
       "  \" fill=\"#add8e6\" fill-rule=\"evenodd\" fill-opacity=\"0.5\"/>\n",
       "<polyline clip-path=\"url(#clip7503)\" style=\"stroke:#000000; stroke-width:4; stroke-opacity:0.5; fill:none\" points=\"\n",
       "  764.183,653.132 1894.57,910.893 1916.22,910.893 1937.34,715.464 1937.34,690.111 806.952,432.349 785.304,432.349 764.183,627.779 764.183,653.132 \n",
       "  \"/>\n",
       "<polygon clip-path=\"url(#clip7503)\" points=\"\n",
       "780.668,666.845 1910.08,933.462 1931.83,933.462 1953.67,738.612 1953.67,713.06 824.262,446.443 802.515,446.443 780.668,641.292 780.668,666.845 \n",
       "  \" fill=\"#add8e6\" fill-rule=\"evenodd\" fill-opacity=\"0.5\"/>\n",
       "<polyline clip-path=\"url(#clip7503)\" style=\"stroke:#000000; stroke-width:4; stroke-opacity:0.5; fill:none\" points=\"\n",
       "  780.668,666.845 1910.08,933.462 1931.83,933.462 1953.67,738.612 1953.67,713.06 824.262,446.443 802.515,446.443 780.668,641.292 780.668,666.845 \n",
       "  \"/>\n",
       "<polygon clip-path=\"url(#clip7503)\" points=\"\n",
       "797.102,680.666 1925.51,956.113 1947.35,956.113 1969.92,761.848 1969.92,736.097 841.52,460.65 819.673,460.65 797.102,654.915 797.102,680.666 \n",
       "  \" fill=\"#add8e6\" fill-rule=\"evenodd\" fill-opacity=\"0.5\"/>\n",
       "<polyline clip-path=\"url(#clip7503)\" style=\"stroke:#000000; stroke-width:4; stroke-opacity:0.5; fill:none\" points=\"\n",
       "  797.102,680.666 1925.51,956.113 1947.35,956.113 1969.92,761.848 1969.92,736.097 841.52,460.65 819.673,460.65 797.102,654.915 797.102,680.666 \n",
       "  \"/>\n",
       "<polygon clip-path=\"url(#clip7503)\" points=\"\n",
       "813.486,694.597 1940.85,978.846 1962.8,978.846 1986.09,785.171 1986.09,759.22 858.724,474.971 836.777,474.971 813.486,668.647 813.486,694.597 \n",
       "  \" fill=\"#add8e6\" fill-rule=\"evenodd\" fill-opacity=\"0.5\"/>\n",
       "<polyline clip-path=\"url(#clip7503)\" style=\"stroke:#000000; stroke-width:4; stroke-opacity:0.5; fill:none\" points=\"\n",
       "  813.486,694.597 1940.85,978.846 1962.8,978.846 1986.09,785.171 1986.09,759.22 858.724,474.971 836.777,474.971 813.486,668.647 813.486,694.597 \n",
       "  \"/>\n",
       "<polygon clip-path=\"url(#clip7503)\" points=\"\n",
       "829.818,708.635 1956.11,1001.66 1978.15,1001.66 2002.16,808.579 2002.16,782.429 875.874,489.404 853.828,489.404 829.818,682.486 829.818,708.635 \n",
       "  \" fill=\"#add8e6\" fill-rule=\"evenodd\" fill-opacity=\"0.5\"/>\n",
       "<polyline clip-path=\"url(#clip7503)\" style=\"stroke:#000000; stroke-width:4; stroke-opacity:0.5; fill:none\" points=\"\n",
       "  829.818,708.635 1956.11,1001.66 1978.15,1001.66 2002.16,808.579 2002.16,782.429 875.874,489.404 853.828,489.404 829.818,682.486 829.818,708.635 \n",
       "  \"/>\n",
       "<polygon clip-path=\"url(#clip7503)\" points=\"\n",
       "846.098,722.781 1971.28,1024.55 1993.43,1024.55 2018.15,832.072 2018.15,805.724 892.97,503.95 870.825,503.95 846.098,696.432 846.098,722.781 \n",
       "  \" fill=\"#add8e6\" fill-rule=\"evenodd\" fill-opacity=\"0.5\"/>\n",
       "<polyline clip-path=\"url(#clip7503)\" style=\"stroke:#000000; stroke-width:4; stroke-opacity:0.5; fill:none\" points=\"\n",
       "  846.098,722.781 1971.28,1024.55 1993.43,1024.55 2018.15,832.072 2018.15,805.724 892.97,503.95 870.825,503.95 846.098,696.432 846.098,722.781 \n",
       "  \"/>\n",
       "<polygon clip-path=\"url(#clip7503)\" points=\"\n",
       "862.325,737.033 1986.37,1047.53 2008.61,1047.53 2034.06,855.649 2034.06,829.102 910.011,518.607 887.768,518.607 862.325,710.485 862.325,737.033 \n",
       "  \" fill=\"#add8e6\" fill-rule=\"evenodd\" fill-opacity=\"0.5\"/>\n",
       "<polyline clip-path=\"url(#clip7503)\" style=\"stroke:#000000; stroke-width:4; stroke-opacity:0.5; fill:none\" points=\"\n",
       "  862.325,737.033 1986.37,1047.53 2008.61,1047.53 2034.06,855.649 2034.06,829.102 910.011,518.607 887.768,518.607 862.325,710.485 862.325,737.033 \n",
       "  \"/>\n",
       "<polygon clip-path=\"url(#clip7503)\" points=\"\n",
       "878.5,751.391 2001.37,1070.58 2023.72,1070.58 2049.87,879.31 2049.87,852.563 926.996,533.374 904.655,533.374 878.5,724.644 878.5,751.391 \n",
       "  \" fill=\"#add8e6\" fill-rule=\"evenodd\" fill-opacity=\"0.5\"/>\n",
       "<polyline clip-path=\"url(#clip7503)\" style=\"stroke:#000000; stroke-width:4; stroke-opacity:0.5; fill:none\" points=\"\n",
       "  878.5,751.391 2001.37,1070.58 2023.72,1070.58 2049.87,879.31 2049.87,852.563 926.996,533.374 904.655,533.374 878.5,724.644 878.5,751.391 \n",
       "  \"/>\n",
       "<polygon clip-path=\"url(#clip7503)\" points=\"\n",
       "894.622,765.854 2016.29,1093.71 2038.73,1093.71 2065.6,903.052 2065.6,876.106 943.926,548.251 921.487,548.251 894.622,738.909 894.622,765.854 \n",
       "  \" fill=\"#add8e6\" fill-rule=\"evenodd\" fill-opacity=\"0.5\"/>\n",
       "<polyline clip-path=\"url(#clip7503)\" style=\"stroke:#000000; stroke-width:4; stroke-opacity:0.5; fill:none\" points=\"\n",
       "  894.622,765.854 2016.29,1093.71 2038.73,1093.71 2065.6,903.052 2065.6,876.106 943.926,548.251 921.487,548.251 894.622,738.909 894.622,765.854 \n",
       "  \"/>\n",
       "<polygon clip-path=\"url(#clip7503)\" points=\"\n",
       "910.691,780.422 2031.13,1116.92 2053.66,1116.92 2081.24,926.876 2081.24,899.731 960.8,563.237 938.263,563.237 910.691,753.278 910.691,780.422 \n",
       "  \" fill=\"#add8e6\" fill-rule=\"evenodd\" fill-opacity=\"0.5\"/>\n",
       "<polyline clip-path=\"url(#clip7503)\" style=\"stroke:#000000; stroke-width:4; stroke-opacity:0.5; fill:none\" points=\"\n",
       "  910.691,780.422 2031.13,1116.92 2053.66,1116.92 2081.24,926.876 2081.24,899.731 960.8,563.237 938.263,563.237 910.691,753.278 910.691,780.422 \n",
       "  \"/>\n",
       "<polygon clip-path=\"url(#clip7503)\" points=\"\n",
       "926.705,795.094 2045.87,1140.2 2068.51,1140.2 2096.79,950.78 2096.79,923.437 977.618,578.333 954.984,578.333 926.705,767.75 926.705,795.094 \n",
       "  \" fill=\"#add8e6\" fill-rule=\"evenodd\" fill-opacity=\"0.5\"/>\n",
       "<polyline clip-path=\"url(#clip7503)\" style=\"stroke:#000000; stroke-width:4; stroke-opacity:0.5; fill:none\" points=\"\n",
       "  926.705,795.094 2045.87,1140.2 2068.51,1140.2 2096.79,950.78 2096.79,923.437 977.618,578.333 954.984,578.333 926.705,767.75 926.705,795.094 \n",
       "  \"/>\n",
       "<polygon clip-path=\"url(#clip7503)\" points=\"\n",
       "942.666,809.869 2060.54,1163.55 2083.27,1163.55 2112.25,974.764 2112.25,947.221 994.379,593.535 971.647,593.535 942.666,782.326 942.666,809.869 \n",
       "  \" fill=\"#add8e6\" fill-rule=\"evenodd\" fill-opacity=\"0.5\"/>\n",
       "<polyline clip-path=\"url(#clip7503)\" style=\"stroke:#000000; stroke-width:4; stroke-opacity:0.5; fill:none\" points=\"\n",
       "  942.666,809.869 2060.54,1163.55 2083.27,1163.55 2112.25,974.764 2112.25,947.221 994.379,593.535 971.647,593.535 942.666,782.326 942.666,809.869 \n",
       "  \"/>\n",
       "<polygon clip-path=\"url(#clip7503)\" points=\"\n",
       "958.571,824.746 2075.11,1186.99 2097.94,1186.99 2127.62,998.826 2127.62,971.085 1011.08,608.845 988.254,608.845 958.571,797.005 958.571,824.746 \n",
       "  \" fill=\"#add8e6\" fill-rule=\"evenodd\" fill-opacity=\"0.5\"/>\n",
       "<polyline clip-path=\"url(#clip7503)\" style=\"stroke:#000000; stroke-width:4; stroke-opacity:0.5; fill:none\" points=\"\n",
       "  958.571,824.746 2075.11,1186.99 2097.94,1186.99 2127.62,998.826 2127.62,971.085 1011.08,608.845 988.254,608.845 958.571,797.005 958.571,824.746 \n",
       "  \"/>\n",
       "<polygon clip-path=\"url(#clip7503)\" points=\"\n",
       "974.422,839.726 2089.6,1210.49 2112.52,1210.49 2142.9,1022.97 2142.9,995.026 1027.73,624.262 1004.8,624.262 974.422,811.786 974.422,839.726 \n",
       "  \" fill=\"#add8e6\" fill-rule=\"evenodd\" fill-opacity=\"0.5\"/>\n",
       "<polyline clip-path=\"url(#clip7503)\" style=\"stroke:#000000; stroke-width:4; stroke-opacity:0.5; fill:none\" points=\"\n",
       "  974.422,839.726 2089.6,1210.49 2112.52,1210.49 2142.9,1022.97 2142.9,995.026 1027.73,624.262 1004.8,624.262 974.422,811.786 974.422,839.726 \n",
       "  \"/>\n",
       "<polygon clip-path=\"url(#clip7503)\" points=\"\n",
       "990.218,854.807 2104,1234.07 2127.02,1234.07 2158.1,1047.18 2158.1,1019.04 1044.32,639.784 1021.29,639.784 990.218,826.668 990.218,854.807 \n",
       "  \" fill=\"#add8e6\" fill-rule=\"evenodd\" fill-opacity=\"0.5\"/>\n",
       "<polyline clip-path=\"url(#clip7503)\" style=\"stroke:#000000; stroke-width:4; stroke-opacity:0.5; fill:none\" points=\"\n",
       "  990.218,854.807 2104,1234.07 2127.02,1234.07 2158.1,1047.18 2158.1,1019.04 1044.32,639.784 1021.29,639.784 990.218,826.668 990.218,854.807 \n",
       "  \"/>\n",
       "<polygon clip-path=\"url(#clip7503)\" points=\"\n",
       "1005.96,869.988 2118.31,1257.71 2141.43,1257.71 2173.2,1071.48 2173.2,1043.14 1060.84,655.412 1037.73,655.412 1005.96,841.651 1005.96,869.988 \n",
       "  \" fill=\"#add8e6\" fill-rule=\"evenodd\" fill-opacity=\"0.5\"/>\n",
       "<polyline clip-path=\"url(#clip7503)\" style=\"stroke:#000000; stroke-width:4; stroke-opacity:0.5; fill:none\" points=\"\n",
       "  1005.96,869.988 2118.31,1257.71 2141.43,1257.71 2173.2,1071.48 2173.2,1043.14 1060.84,655.412 1037.73,655.412 1005.96,841.651 1005.96,869.988 \n",
       "  \"/>\n",
       "<polygon clip-path=\"url(#clip7503)\" points=\"\n",
       "1021.64,885.269 2132.54,1281.43 2155.75,1281.43 2188.21,1095.84 2188.21,1067.31 1077.32,671.144 1054.1,671.144 1021.64,856.733 1021.64,885.269 \n",
       "  \" fill=\"#add8e6\" fill-rule=\"evenodd\" fill-opacity=\"0.5\"/>\n",
       "<polyline clip-path=\"url(#clip7503)\" style=\"stroke:#000000; stroke-width:4; stroke-opacity:0.5; fill:none\" points=\"\n",
       "  1021.64,885.269 2132.54,1281.43 2155.75,1281.43 2188.21,1095.84 2188.21,1067.31 1077.32,671.144 1054.1,671.144 1021.64,856.733 1021.64,885.269 \n",
       "  \"/>\n",
       "<polygon clip-path=\"url(#clip7503)\" points=\"\n",
       "1037.27,900.65 2146.68,1305.22 2169.98,1305.22 2203.14,1120.28 2203.14,1091.55 1093.73,686.979 1070.42,686.979 1037.27,871.915 1037.27,900.65 \n",
       "  \" fill=\"#add8e6\" fill-rule=\"evenodd\" fill-opacity=\"0.5\"/>\n",
       "<polyline clip-path=\"url(#clip7503)\" style=\"stroke:#000000; stroke-width:4; stroke-opacity:0.5; fill:none\" points=\"\n",
       "  1037.27,900.65 2146.68,1305.22 2169.98,1305.22 2203.14,1120.28 2203.14,1091.55 1093.73,686.979 1070.42,686.979 1037.27,871.915 1037.27,900.65 \n",
       "  \"/>\n",
       "<polygon clip-path=\"url(#clip7503)\" points=\"\n",
       "1052.84,916.129 2160.73,1329.08 2184.13,1329.08 2217.97,1144.8 2217.97,1115.87 1110.08,702.918 1086.68,702.918 1052.84,887.196 1052.84,916.129 \n",
       "  \" fill=\"#add8e6\" fill-rule=\"evenodd\" fill-opacity=\"0.5\"/>\n",
       "<polyline clip-path=\"url(#clip7503)\" style=\"stroke:#000000; stroke-width:4; stroke-opacity:0.5; fill:none\" points=\"\n",
       "  1052.84,916.129 2160.73,1329.08 2184.13,1329.08 2217.97,1144.8 2217.97,1115.87 1110.08,702.918 1086.68,702.918 1052.84,887.196 1052.84,916.129 \n",
       "  \"/>\n",
       "<polygon clip-path=\"url(#clip7503)\" points=\"\n",
       "1068.35,931.706 2174.69,1353 2198.19,1353 2232.71,1169.39 2232.71,1140.25 1126.37,718.958 1102.87,718.958 1068.35,902.574 1068.35,931.706 \n",
       "  \" fill=\"#add8e6\" fill-rule=\"evenodd\" fill-opacity=\"0.5\"/>\n",
       "<polyline clip-path=\"url(#clip7503)\" style=\"stroke:#000000; stroke-width:4; stroke-opacity:0.5; fill:none\" points=\"\n",
       "  1068.35,931.706 2174.69,1353 2198.19,1353 2232.71,1169.39 2232.71,1140.25 1126.37,718.958 1102.87,718.958 1068.35,902.574 1068.35,931.706 \n",
       "  \"/>\n",
       "<polygon clip-path=\"url(#clip7503)\" points=\"\n",
       "1083.81,947.38 2188.56,1376.99 2212.15,1376.99 2247.36,1194.04 2247.36,1164.71 1142.6,735.101 1119.01,735.101 1083.81,918.05 1083.81,947.38 \n",
       "  \" fill=\"#add8e6\" fill-rule=\"evenodd\" fill-opacity=\"0.5\"/>\n",
       "<polyline clip-path=\"url(#clip7503)\" style=\"stroke:#000000; stroke-width:4; stroke-opacity:0.5; fill:none\" points=\"\n",
       "  1083.81,947.38 2188.56,1376.99 2212.15,1376.99 2247.36,1194.04 2247.36,1164.71 1142.6,735.101 1119.01,735.101 1083.81,918.05 1083.81,947.38 \n",
       "  \"/>\n",
       "<polygon clip-path=\"url(#clip7503)\" points=\"\n",
       "1099.2,963.15 2202.35,1401.05 2226.03,1401.05 2261.91,1218.77 2261.91,1189.24 1158.77,751.344 1135.09,751.344 1099.2,933.622 1099.2,963.15 \n",
       "  \" fill=\"#add8e6\" fill-rule=\"evenodd\" fill-opacity=\"0.5\"/>\n",
       "<polyline clip-path=\"url(#clip7503)\" style=\"stroke:#000000; stroke-width:4; stroke-opacity:0.5; fill:none\" points=\"\n",
       "  1099.2,963.15 2202.35,1401.05 2226.03,1401.05 2261.91,1218.77 2261.91,1189.24 1158.77,751.344 1135.09,751.344 1099.2,933.622 1099.2,963.15 \n",
       "  \"/>\n",
       "<polygon clip-path=\"url(#clip7503)\" points=\"\n",
       "284.287,296.267 1427.69,296.267 1427.69,91.2792 284.287,91.2792 284.287,296.267 284.287,296.267 \n",
       "  \" fill=\"#ffa500\" fill-rule=\"evenodd\" fill-opacity=\"0.5\"/>\n",
       "<polyline clip-path=\"url(#clip7503)\" style=\"stroke:#000000; stroke-width:4; stroke-opacity:0.5; fill:none\" points=\"\n",
       "  284.287,296.267 1427.69,296.267 1427.69,91.2792 284.287,91.2792 284.287,296.267 \n",
       "  \"/>\n",
       "<circle clip-path=\"url(#clip7503)\" style=\"fill:#000000; stroke:none; fill-opacity:1\" cx=\"947.463\" cy=\"269.701\" r=\"18\"/>\n",
       "<circle clip-path=\"url(#clip7503)\" style=\"fill:#000000; stroke:none; fill-opacity:1\" cx=\"947.463\" cy=\"269.701\" r=\"14\"/>\n",
       "</svg>\n"
      ]
     },
     "execution_count": 16,
     "metadata": {},
     "output_type": "execute_result"
    }
   ],
   "source": [
    "δcont2 = δ / 10\n",
    "𝑆lin2 = deepcopy(𝑆lin)\n",
    "𝑋₀2 = deepcopy(𝑋₀)\n",
    "𝑃lin2 = InitialValueProblem(𝑆lin2, 𝑋₀2)\n",
    "@time Rlin2 = solve(𝑃lin2, Options(:T=>5*δ), op=GLGM06(:δ=>δcont, :max_order=>2));\n",
    "plot(Rlin2, color=:lightblue, alpha=.5)\n",
    "plot!(𝑋₀2, color=:orange, alpha=.5, xlab=\"x\", ylab=\"y\")\n",
    "plot!(Singleton(x̃), color=:black) # linearization point"
   ]
  },
  {
   "cell_type": "markdown",
   "metadata": {},
   "source": [
    "### Computation of the set of admissible linearization errors $\\bar{L}$"
   ]
  },
  {
   "cell_type": "markdown",
   "metadata": {},
   "source": [
    "We use the approach in [1] where the rate of growth of the admissible linearization error is bounded with a multi-dimensional interval by an expansion vector $\\theta$. For our running example, we consider the expansion vector $\\theta = [0.05, 0.05]$:"
   ]
  },
  {
   "cell_type": "code",
   "execution_count": 17,
   "metadata": {},
   "outputs": [
    {
     "data": {
      "text/plain": [
       "2-element Array{Float64,1}:\n",
       " 0.05\n",
       " 0.05"
      ]
     },
     "execution_count": 17,
     "metadata": {},
     "output_type": "execute_result"
    }
   ],
   "source": [
    "θ = fill(0.05, 2)"
   ]
  },
  {
   "cell_type": "markdown",
   "metadata": {},
   "source": [
    "The term $A^{-1}(e^{A\\delta} - I)$ can be computed using `Φ₁` implemented in Reachablity. We don't need to assume that $A$ is invertible, since we can use the series expansion of the exponential matrix. See the documentation of `using Reachability.ReachSets: Φ₁` for details."
   ]
  },
  {
   "cell_type": "code",
   "execution_count": 18,
   "metadata": {},
   "outputs": [],
   "source": [
    "using Reachability.ReachSets: Φ₁"
   ]
  },
  {
   "cell_type": "code",
   "execution_count": 19,
   "metadata": {},
   "outputs": [
    {
     "data": {
      "text/plain": [
       "2×2 Array{Float64,2}:\n",
       "  0.0199897   0.000198586\n",
       " -0.00153501  0.0197856  "
      ]
     },
     "execution_count": 19,
     "metadata": {},
     "output_type": "execute_result"
    }
   ],
   "source": [
    "Φ₁_Aδ = Φ₁(Ax̃, δ)"
   ]
  },
  {
   "cell_type": "code",
   "execution_count": 20,
   "metadata": {},
   "outputs": [
    {
     "data": {
      "text/plain": [
       "Hyperrectangle{Float64}([0.0, 0.0], [0.001, 0.001])"
      ]
     },
     "execution_count": 20,
     "metadata": {},
     "output_type": "execute_result"
    }
   ],
   "source": [
    "R̄err = Hyperrectangle(zeros(2), θ*δ)"
   ]
  },
  {
   "cell_type": "code",
   "execution_count": 21,
   "metadata": {},
   "outputs": [
    {
     "data": {
      "text/plain": [
       "Hyperrectangle{Float64}([0.0, 0.0], [0.0504888, 0.0543809])"
      ]
     },
     "execution_count": 21,
     "metadata": {},
     "output_type": "execute_result"
    }
   ],
   "source": [
    "l̄ = abs.(inv(Φ₁_Aδ)) * θ * δ\n",
    "L̄ = Hyperrectangle(zeros(2), l̄)"
   ]
  },
  {
   "cell_type": "markdown",
   "metadata": {},
   "source": [
    "### Computation of the set of linearization errors $L$\n",
    "\n",
    "The computation of the set of linearization errors is performed using the computed flowpipe of the linearized system and the admissible linearization errors as described below, following [1]."
   ]
  },
  {
   "cell_type": "markdown",
   "metadata": {},
   "source": [
    "In particular, we use interval arithmetics to bound the lagrangian $L_i$ by a multi-dimensional interval."
   ]
  },
  {
   "cell_type": "markdown",
   "metadata": {},
   "source": [
    "Recall from the linearization section that the linearization error $L_i$ is obtained by an evaluation of the Lagrange remainder,\n",
    "\n",
    "$$\n",
    "L_i(x, x̃) = \\frac{1}{2} (x-x̃)^T H_{f_i}(ξ) (x-x̃), \\qquad i = 1,2.\n",
    "$$\n",
    "where $ξ$ lives in the convex hull $ξ = CH(x̃, x) = \\{x̃ + \\alpha(x - x̃), \\alpha \\in [0, 1]\\}$."
   ]
  },
  {
   "cell_type": "markdown",
   "metadata": {},
   "source": [
    "Let's compute the Hessian matrix:"
   ]
  },
  {
   "cell_type": "code",
   "execution_count": 22,
   "metadata": {},
   "outputs": [
    {
     "data": {
      "text/plain": [
       "2×2 Array{TaylorN{Float64},2}:\n",
       "  0.0 + 𝒪(‖x‖⁵)   0.0 + 𝒪(‖x‖⁵)\n",
       "  0.0 + 𝒪(‖x‖⁵)   0.0 + 𝒪(‖x‖⁵)"
      ]
     },
     "execution_count": 22,
     "metadata": {},
     "output_type": "execute_result"
    }
   ],
   "source": [
    "Hf₁ = [∂(f[1], (2, 0)) ∂(f[1], (1, 1));\n",
    "       ∂(f[1], (1, 1)) ∂(f[1], (0, 2))]"
   ]
  },
  {
   "cell_type": "code",
   "execution_count": 23,
   "metadata": {},
   "outputs": [
    {
     "data": {
      "text/plain": [
       "2×2 Array{TaylorN{Float64},2}:\n",
       "  - 2.0 x₂ + 𝒪(‖x‖⁵)   - 2.0 x₁ + 𝒪(‖x‖⁵)\n",
       "  - 2.0 x₁ + 𝒪(‖x‖⁵)        0.0 + 𝒪(‖x‖⁵)"
      ]
     },
     "execution_count": 23,
     "metadata": {},
     "output_type": "execute_result"
    }
   ],
   "source": [
    "Hf₂ = [∂(f[2], (2, 0)) ∂(f[2], (1, 1));\n",
    "       ∂(f[2], (1, 1)) ∂(f[2], (0, 2))]"
   ]
  },
  {
   "cell_type": "code",
   "execution_count": 24,
   "metadata": {},
   "outputs": [],
   "source": [
    "Hf = Vector{Matrix{TaylorN{Float64}}}(undef, 2)\n",
    "Hf[1] = Hf₁; Hf[2] = Hf₂;"
   ]
  },
  {
   "cell_type": "markdown",
   "metadata": {},
   "source": [
    "*Note.* The jacobian and hessian matrices can also be computed numerically with `TaylorSeries`, eg. "
   ]
  },
  {
   "cell_type": "code",
   "execution_count": 25,
   "metadata": {},
   "outputs": [
    {
     "data": {
      "text/plain": [
       "2×2 Transpose{Float64,Array{Float64,2}}:\n",
       " -0.558146  -0.459696\n",
       " -0.459696   0.0     "
      ]
     },
     "execution_count": 25,
     "metadata": {},
     "output_type": "execute_result"
    }
   ],
   "source": [
    "d = rand(2)\n",
    "hessian(f[2], d)"
   ]
  },
  {
   "cell_type": "code",
   "execution_count": 26,
   "metadata": {},
   "outputs": [
    {
     "data": {
      "text/plain": [
       "2×2 Array{Float64,2}:\n",
       " -0.558146  -0.459696\n",
       " -0.459696   0.0     "
      ]
     },
     "execution_count": 26,
     "metadata": {},
     "output_type": "execute_result"
    }
   ],
   "source": [
    "map(x -> evaluate(x, d), Hf₂)"
   ]
  },
  {
   "cell_type": "markdown",
   "metadata": {},
   "source": [
    "To compute $L_i$ for the dense time interval $t \\in [0, \\delta]$ we have to consider possible values of $x$ within this time interval. Since $\\mathcal{R}([0, \\delta])$ is not known in advance, we need to somehow approximate this flowpipe and then validated it. The exact values of $x$ are overapproximated by $\\mathcal{R}^{lin}([0, \\delta]) \\oplus \\bar{R}^{err}$."
   ]
  },
  {
   "cell_type": "code",
   "execution_count": 27,
   "metadata": {},
   "outputs": [],
   "source": [
    "# admissible reachable set\n",
    "Rlin_plus_R̄err = [Ri.X ⊕ R̄err for Ri in Rlin.Xk]; # this is a flowpipe"
   ]
  },
  {
   "cell_type": "markdown",
   "metadata": {},
   "source": [
    "The Lagrange remainder terms $L_i$ are overapproximated in two ways:\n",
    "\n",
    "1. using interval arithmetic on the quadratic expression\n",
    "2. using the zonotopic overapproximation from [Prop. 3.7, 1]."
   ]
  },
  {
   "cell_type": "markdown",
   "metadata": {},
   "source": [
    "Let's take approach 1. The possible values of $x$ are included in the set $\\mathcal{R}^{lin}([0, \\delta]) \\oplus \\bar{R}^{err}$.\n",
    "\n",
    "Let $\\hat{R}^{lin}$ be the minimum bounding box that includes these sets. Since the convex hull and Minkowski sum are commuting operations, we can do\n",
    "\n",
    "$$\n",
    "\\hat{R}^{lin} := CH(\\mathcal{R}^{lin}(0), \\mathcal{R}^{lin}(\\delta_{cont}), \\mathcal{R}^{lin}(2\\delta_{cont}), \\ldots, \\mathcal{R}^{lin}(\\delta))\\oplus \\bar{R}^{err}.\n",
    "$$\n",
    "\n",
    "*Note.* This set corresponds to $\\hat{Z}([0, r]$ in [Section 3.4.3, 1]."
   ]
  },
  {
   "cell_type": "code",
   "execution_count": 28,
   "metadata": {},
   "outputs": [],
   "source": [
    "R̂lin = ConvexHullArray([Ri.X for Ri in Rlin.Xk]) ⊕ R̄err; # this is a single set"
   ]
  },
  {
   "cell_type": "code",
   "execution_count": 29,
   "metadata": {},
   "outputs": [
    {
     "data": {
      "image/svg+xml": [
       "<?xml version=\"1.0\" encoding=\"utf-8\"?>\n",
       "<svg xmlns=\"http://www.w3.org/2000/svg\" xmlns:xlink=\"http://www.w3.org/1999/xlink\" width=\"600\" height=\"400\" viewBox=\"0 0 2400 1600\">\n",
       "<defs>\n",
       "  <clipPath id=\"clip7700\">\n",
       "    <rect x=\"0\" y=\"0\" width=\"2000\" height=\"2000\"/>\n",
       "  </clipPath>\n",
       "</defs>\n",
       "<defs>\n",
       "  <clipPath id=\"clip7701\">\n",
       "    <rect x=\"0\" y=\"0\" width=\"2400\" height=\"1600\"/>\n",
       "  </clipPath>\n",
       "</defs>\n",
       "<polygon clip-path=\"url(#clip7701)\" points=\"\n",
       "0,1600 2400,1600 2400,0 0,0 \n",
       "  \" fill=\"#ffffff\" fill-rule=\"evenodd\" fill-opacity=\"1\"/>\n",
       "<defs>\n",
       "  <clipPath id=\"clip7702\">\n",
       "    <rect x=\"480\" y=\"0\" width=\"1681\" height=\"1600\"/>\n",
       "  </clipPath>\n",
       "</defs>\n",
       "<polygon clip-path=\"url(#clip7701)\" points=\"\n",
       "269.791,1503.47 2321.26,1503.47 2321.26,47.2441 269.791,47.2441 \n",
       "  \" fill=\"#ffffff\" fill-rule=\"evenodd\" fill-opacity=\"1\"/>\n",
       "<defs>\n",
       "  <clipPath id=\"clip7703\">\n",
       "    <rect x=\"269\" y=\"47\" width=\"2052\" height=\"1457\"/>\n",
       "  </clipPath>\n",
       "</defs>\n",
       "<polyline clip-path=\"url(#clip7703)\" style=\"stroke:#000000; stroke-width:2; stroke-opacity:0.1; fill:none\" points=\"\n",
       "  327.852,1503.47 327.852,47.2441 \n",
       "  \"/>\n",
       "<polyline clip-path=\"url(#clip7703)\" style=\"stroke:#000000; stroke-width:2; stroke-opacity:0.1; fill:none\" points=\"\n",
       "  811.689,1503.47 811.689,47.2441 \n",
       "  \"/>\n",
       "<polyline clip-path=\"url(#clip7703)\" style=\"stroke:#000000; stroke-width:2; stroke-opacity:0.1; fill:none\" points=\"\n",
       "  1295.53,1503.47 1295.53,47.2441 \n",
       "  \"/>\n",
       "<polyline clip-path=\"url(#clip7703)\" style=\"stroke:#000000; stroke-width:2; stroke-opacity:0.1; fill:none\" points=\"\n",
       "  1779.36,1503.47 1779.36,47.2441 \n",
       "  \"/>\n",
       "<polyline clip-path=\"url(#clip7703)\" style=\"stroke:#000000; stroke-width:2; stroke-opacity:0.1; fill:none\" points=\"\n",
       "  2263.2,1503.47 2263.2,47.2441 \n",
       "  \"/>\n",
       "<polyline clip-path=\"url(#clip7703)\" style=\"stroke:#000000; stroke-width:2; stroke-opacity:0.1; fill:none\" points=\"\n",
       "  269.791,1462.26 2321.26,1462.26 \n",
       "  \"/>\n",
       "<polyline clip-path=\"url(#clip7703)\" style=\"stroke:#000000; stroke-width:2; stroke-opacity:0.1; fill:none\" points=\"\n",
       "  269.791,1118.81 2321.26,1118.81 \n",
       "  \"/>\n",
       "<polyline clip-path=\"url(#clip7703)\" style=\"stroke:#000000; stroke-width:2; stroke-opacity:0.1; fill:none\" points=\"\n",
       "  269.791,775.359 2321.26,775.359 \n",
       "  \"/>\n",
       "<polyline clip-path=\"url(#clip7703)\" style=\"stroke:#000000; stroke-width:2; stroke-opacity:0.1; fill:none\" points=\"\n",
       "  269.791,431.909 2321.26,431.909 \n",
       "  \"/>\n",
       "<polyline clip-path=\"url(#clip7703)\" style=\"stroke:#000000; stroke-width:2; stroke-opacity:0.1; fill:none\" points=\"\n",
       "  269.791,88.4582 2321.26,88.4582 \n",
       "  \"/>\n",
       "<polyline clip-path=\"url(#clip7701)\" style=\"stroke:#000000; stroke-width:4; stroke-opacity:1; fill:none\" points=\"\n",
       "  269.791,1503.47 2321.26,1503.47 \n",
       "  \"/>\n",
       "<polyline clip-path=\"url(#clip7701)\" style=\"stroke:#000000; stroke-width:4; stroke-opacity:1; fill:none\" points=\"\n",
       "  269.791,1503.47 269.791,47.2441 \n",
       "  \"/>\n",
       "<polyline clip-path=\"url(#clip7701)\" style=\"stroke:#000000; stroke-width:4; stroke-opacity:1; fill:none\" points=\"\n",
       "  327.852,1503.47 327.852,1481.63 \n",
       "  \"/>\n",
       "<polyline clip-path=\"url(#clip7701)\" style=\"stroke:#000000; stroke-width:4; stroke-opacity:1; fill:none\" points=\"\n",
       "  811.689,1503.47 811.689,1481.63 \n",
       "  \"/>\n",
       "<polyline clip-path=\"url(#clip7701)\" style=\"stroke:#000000; stroke-width:4; stroke-opacity:1; fill:none\" points=\"\n",
       "  1295.53,1503.47 1295.53,1481.63 \n",
       "  \"/>\n",
       "<polyline clip-path=\"url(#clip7701)\" style=\"stroke:#000000; stroke-width:4; stroke-opacity:1; fill:none\" points=\"\n",
       "  1779.36,1503.47 1779.36,1481.63 \n",
       "  \"/>\n",
       "<polyline clip-path=\"url(#clip7701)\" style=\"stroke:#000000; stroke-width:4; stroke-opacity:1; fill:none\" points=\"\n",
       "  2263.2,1503.47 2263.2,1481.63 \n",
       "  \"/>\n",
       "<polyline clip-path=\"url(#clip7701)\" style=\"stroke:#000000; stroke-width:4; stroke-opacity:1; fill:none\" points=\"\n",
       "  269.791,1462.26 300.563,1462.26 \n",
       "  \"/>\n",
       "<polyline clip-path=\"url(#clip7701)\" style=\"stroke:#000000; stroke-width:4; stroke-opacity:1; fill:none\" points=\"\n",
       "  269.791,1118.81 300.563,1118.81 \n",
       "  \"/>\n",
       "<polyline clip-path=\"url(#clip7701)\" style=\"stroke:#000000; stroke-width:4; stroke-opacity:1; fill:none\" points=\"\n",
       "  269.791,775.359 300.563,775.359 \n",
       "  \"/>\n",
       "<polyline clip-path=\"url(#clip7701)\" style=\"stroke:#000000; stroke-width:4; stroke-opacity:1; fill:none\" points=\"\n",
       "  269.791,431.909 300.563,431.909 \n",
       "  \"/>\n",
       "<polyline clip-path=\"url(#clip7701)\" style=\"stroke:#000000; stroke-width:4; stroke-opacity:1; fill:none\" points=\"\n",
       "  269.791,88.4582 300.563,88.4582 \n",
       "  \"/>\n",
       "<g clip-path=\"url(#clip7701)\">\n",
       "<text style=\"fill:#000000; fill-opacity:1; font-family:Arial,Helvetica Neue,Helvetica,sans-serif; font-size:48px; text-anchor:middle;\" transform=\"rotate(0, 327.852, 1557.47)\" x=\"327.852\" y=\"1557.47\">-0.0010</text>\n",
       "</g>\n",
       "<g clip-path=\"url(#clip7701)\">\n",
       "<text style=\"fill:#000000; fill-opacity:1; font-family:Arial,Helvetica Neue,Helvetica,sans-serif; font-size:48px; text-anchor:middle;\" transform=\"rotate(0, 811.689, 1557.47)\" x=\"811.689\" y=\"1557.47\">-0.0005</text>\n",
       "</g>\n",
       "<g clip-path=\"url(#clip7701)\">\n",
       "<text style=\"fill:#000000; fill-opacity:1; font-family:Arial,Helvetica Neue,Helvetica,sans-serif; font-size:48px; text-anchor:middle;\" transform=\"rotate(0, 1295.53, 1557.47)\" x=\"1295.53\" y=\"1557.47\">0.0000</text>\n",
       "</g>\n",
       "<g clip-path=\"url(#clip7701)\">\n",
       "<text style=\"fill:#000000; fill-opacity:1; font-family:Arial,Helvetica Neue,Helvetica,sans-serif; font-size:48px; text-anchor:middle;\" transform=\"rotate(0, 1779.36, 1557.47)\" x=\"1779.36\" y=\"1557.47\">0.0005</text>\n",
       "</g>\n",
       "<g clip-path=\"url(#clip7701)\">\n",
       "<text style=\"fill:#000000; fill-opacity:1; font-family:Arial,Helvetica Neue,Helvetica,sans-serif; font-size:48px; text-anchor:middle;\" transform=\"rotate(0, 2263.2, 1557.47)\" x=\"2263.2\" y=\"1557.47\">0.0010</text>\n",
       "</g>\n",
       "<g clip-path=\"url(#clip7701)\">\n",
       "<text style=\"fill:#000000; fill-opacity:1; font-family:Arial,Helvetica Neue,Helvetica,sans-serif; font-size:48px; text-anchor:end;\" transform=\"rotate(0, 245.791, 1479.76)\" x=\"245.791\" y=\"1479.76\">-0.0010</text>\n",
       "</g>\n",
       "<g clip-path=\"url(#clip7701)\">\n",
       "<text style=\"fill:#000000; fill-opacity:1; font-family:Arial,Helvetica Neue,Helvetica,sans-serif; font-size:48px; text-anchor:end;\" transform=\"rotate(0, 245.791, 1136.31)\" x=\"245.791\" y=\"1136.31\">-0.0005</text>\n",
       "</g>\n",
       "<g clip-path=\"url(#clip7701)\">\n",
       "<text style=\"fill:#000000; fill-opacity:1; font-family:Arial,Helvetica Neue,Helvetica,sans-serif; font-size:48px; text-anchor:end;\" transform=\"rotate(0, 245.791, 792.859)\" x=\"245.791\" y=\"792.859\">0.0000</text>\n",
       "</g>\n",
       "<g clip-path=\"url(#clip7701)\">\n",
       "<text style=\"fill:#000000; fill-opacity:1; font-family:Arial,Helvetica Neue,Helvetica,sans-serif; font-size:48px; text-anchor:end;\" transform=\"rotate(0, 245.791, 449.409)\" x=\"245.791\" y=\"449.409\">0.0005</text>\n",
       "</g>\n",
       "<g clip-path=\"url(#clip7701)\">\n",
       "<text style=\"fill:#000000; fill-opacity:1; font-family:Arial,Helvetica Neue,Helvetica,sans-serif; font-size:48px; text-anchor:end;\" transform=\"rotate(0, 245.791, 105.958)\" x=\"245.791\" y=\"105.958\">0.0010</text>\n",
       "</g>\n",
       "<polygon clip-path=\"url(#clip7703)\" points=\"\n",
       "327.852,1462.26 2263.2,1462.26 2263.2,88.4582 327.852,88.4582 327.852,1462.26 327.852,1462.26 \n",
       "  \" fill=\"#ff0000\" fill-rule=\"evenodd\" fill-opacity=\"0.2\"/>\n",
       "<polyline clip-path=\"url(#clip7703)\" style=\"stroke:#000000; stroke-width:4; stroke-opacity:0.2; fill:none\" points=\"\n",
       "  327.852,1462.26 2263.2,1462.26 2263.2,88.4582 327.852,88.4582 327.852,1462.26 \n",
       "  \"/>\n",
       "</svg>\n"
      ]
     },
     "execution_count": 29,
     "metadata": {},
     "output_type": "execute_result"
    }
   ],
   "source": [
    "# the error is a box around the origin\n",
    "plot(R̄err, alpha=.2, color=\"red\")"
   ]
  },
  {
   "cell_type": "code",
   "execution_count": 30,
   "metadata": {},
   "outputs": [
    {
     "data": {
      "image/svg+xml": [
       "<?xml version=\"1.0\" encoding=\"utf-8\"?>\n",
       "<svg xmlns=\"http://www.w3.org/2000/svg\" xmlns:xlink=\"http://www.w3.org/1999/xlink\" width=\"600\" height=\"400\" viewBox=\"0 0 2400 1600\">\n",
       "<defs>\n",
       "  <clipPath id=\"clip7900\">\n",
       "    <rect x=\"0\" y=\"0\" width=\"2000\" height=\"2000\"/>\n",
       "  </clipPath>\n",
       "</defs>\n",
       "<defs>\n",
       "  <clipPath id=\"clip7901\">\n",
       "    <rect x=\"0\" y=\"0\" width=\"2400\" height=\"1600\"/>\n",
       "  </clipPath>\n",
       "</defs>\n",
       "<polygon clip-path=\"url(#clip7901)\" points=\"\n",
       "0,1600 2400,1600 2400,0 0,0 \n",
       "  \" fill=\"#ffffff\" fill-rule=\"evenodd\" fill-opacity=\"1\"/>\n",
       "<defs>\n",
       "  <clipPath id=\"clip7902\">\n",
       "    <rect x=\"480\" y=\"0\" width=\"1681\" height=\"1600\"/>\n",
       "  </clipPath>\n",
       "</defs>\n",
       "<polygon clip-path=\"url(#clip7901)\" points=\"\n",
       "251.149,1440.48 2321.26,1440.48 2321.26,47.2441 251.149,47.2441 \n",
       "  \" fill=\"#ffffff\" fill-rule=\"evenodd\" fill-opacity=\"1\"/>\n",
       "<defs>\n",
       "  <clipPath id=\"clip7903\">\n",
       "    <rect x=\"251\" y=\"47\" width=\"2071\" height=\"1394\"/>\n",
       "  </clipPath>\n",
       "</defs>\n",
       "<polyline clip-path=\"url(#clip7903)\" style=\"stroke:#000000; stroke-width:2; stroke-opacity:0.1; fill:none\" points=\"\n",
       "  594.909,1440.48 594.909,47.2441 \n",
       "  \"/>\n",
       "<polyline clip-path=\"url(#clip7903)\" style=\"stroke:#000000; stroke-width:2; stroke-opacity:0.1; fill:none\" points=\"\n",
       "  1152.48,1440.48 1152.48,47.2441 \n",
       "  \"/>\n",
       "<polyline clip-path=\"url(#clip7903)\" style=\"stroke:#000000; stroke-width:2; stroke-opacity:0.1; fill:none\" points=\"\n",
       "  1710.04,1440.48 1710.04,47.2441 \n",
       "  \"/>\n",
       "<polyline clip-path=\"url(#clip7903)\" style=\"stroke:#000000; stroke-width:2; stroke-opacity:0.1; fill:none\" points=\"\n",
       "  2267.61,1440.48 2267.61,47.2441 \n",
       "  \"/>\n",
       "<polyline clip-path=\"url(#clip7903)\" style=\"stroke:#000000; stroke-width:2; stroke-opacity:0.1; fill:none\" points=\"\n",
       "  251.149,1401.8 2321.26,1401.8 \n",
       "  \"/>\n",
       "<polyline clip-path=\"url(#clip7903)\" style=\"stroke:#000000; stroke-width:2; stroke-opacity:0.1; fill:none\" points=\"\n",
       "  251.149,1078.27 2321.26,1078.27 \n",
       "  \"/>\n",
       "<polyline clip-path=\"url(#clip7903)\" style=\"stroke:#000000; stroke-width:2; stroke-opacity:0.1; fill:none\" points=\"\n",
       "  251.149,754.739 2321.26,754.739 \n",
       "  \"/>\n",
       "<polyline clip-path=\"url(#clip7903)\" style=\"stroke:#000000; stroke-width:2; stroke-opacity:0.1; fill:none\" points=\"\n",
       "  251.149,431.208 2321.26,431.208 \n",
       "  \"/>\n",
       "<polyline clip-path=\"url(#clip7903)\" style=\"stroke:#000000; stroke-width:2; stroke-opacity:0.1; fill:none\" points=\"\n",
       "  251.149,107.678 2321.26,107.678 \n",
       "  \"/>\n",
       "<polyline clip-path=\"url(#clip7901)\" style=\"stroke:#000000; stroke-width:4; stroke-opacity:1; fill:none\" points=\"\n",
       "  251.149,1440.48 2321.26,1440.48 \n",
       "  \"/>\n",
       "<polyline clip-path=\"url(#clip7901)\" style=\"stroke:#000000; stroke-width:4; stroke-opacity:1; fill:none\" points=\"\n",
       "  251.149,1440.48 251.149,47.2441 \n",
       "  \"/>\n",
       "<polyline clip-path=\"url(#clip7901)\" style=\"stroke:#000000; stroke-width:4; stroke-opacity:1; fill:none\" points=\"\n",
       "  594.909,1440.48 594.909,1419.58 \n",
       "  \"/>\n",
       "<polyline clip-path=\"url(#clip7901)\" style=\"stroke:#000000; stroke-width:4; stroke-opacity:1; fill:none\" points=\"\n",
       "  1152.48,1440.48 1152.48,1419.58 \n",
       "  \"/>\n",
       "<polyline clip-path=\"url(#clip7901)\" style=\"stroke:#000000; stroke-width:4; stroke-opacity:1; fill:none\" points=\"\n",
       "  1710.04,1440.48 1710.04,1419.58 \n",
       "  \"/>\n",
       "<polyline clip-path=\"url(#clip7901)\" style=\"stroke:#000000; stroke-width:4; stroke-opacity:1; fill:none\" points=\"\n",
       "  2267.61,1440.48 2267.61,1419.58 \n",
       "  \"/>\n",
       "<polyline clip-path=\"url(#clip7901)\" style=\"stroke:#000000; stroke-width:4; stroke-opacity:1; fill:none\" points=\"\n",
       "  251.149,1401.8 282.2,1401.8 \n",
       "  \"/>\n",
       "<polyline clip-path=\"url(#clip7901)\" style=\"stroke:#000000; stroke-width:4; stroke-opacity:1; fill:none\" points=\"\n",
       "  251.149,1078.27 282.2,1078.27 \n",
       "  \"/>\n",
       "<polyline clip-path=\"url(#clip7901)\" style=\"stroke:#000000; stroke-width:4; stroke-opacity:1; fill:none\" points=\"\n",
       "  251.149,754.739 282.2,754.739 \n",
       "  \"/>\n",
       "<polyline clip-path=\"url(#clip7901)\" style=\"stroke:#000000; stroke-width:4; stroke-opacity:1; fill:none\" points=\"\n",
       "  251.149,431.208 282.2,431.208 \n",
       "  \"/>\n",
       "<polyline clip-path=\"url(#clip7901)\" style=\"stroke:#000000; stroke-width:4; stroke-opacity:1; fill:none\" points=\"\n",
       "  251.149,107.678 282.2,107.678 \n",
       "  \"/>\n",
       "<g clip-path=\"url(#clip7901)\">\n",
       "<text style=\"fill:#000000; fill-opacity:1; font-family:Arial,Helvetica Neue,Helvetica,sans-serif; font-size:48px; text-anchor:middle;\" transform=\"rotate(0, 594.909, 1494.48)\" x=\"594.909\" y=\"1494.48\">1.3</text>\n",
       "</g>\n",
       "<g clip-path=\"url(#clip7901)\">\n",
       "<text style=\"fill:#000000; fill-opacity:1; font-family:Arial,Helvetica Neue,Helvetica,sans-serif; font-size:48px; text-anchor:middle;\" transform=\"rotate(0, 1152.48, 1494.48)\" x=\"1152.48\" y=\"1494.48\">1.4</text>\n",
       "</g>\n",
       "<g clip-path=\"url(#clip7901)\">\n",
       "<text style=\"fill:#000000; fill-opacity:1; font-family:Arial,Helvetica Neue,Helvetica,sans-serif; font-size:48px; text-anchor:middle;\" transform=\"rotate(0, 1710.04, 1494.48)\" x=\"1710.04\" y=\"1494.48\">1.5</text>\n",
       "</g>\n",
       "<g clip-path=\"url(#clip7901)\">\n",
       "<text style=\"fill:#000000; fill-opacity:1; font-family:Arial,Helvetica Neue,Helvetica,sans-serif; font-size:48px; text-anchor:middle;\" transform=\"rotate(0, 2267.61, 1494.48)\" x=\"2267.61\" y=\"1494.48\">1.6</text>\n",
       "</g>\n",
       "<g clip-path=\"url(#clip7901)\">\n",
       "<text style=\"fill:#000000; fill-opacity:1; font-family:Arial,Helvetica Neue,Helvetica,sans-serif; font-size:48px; text-anchor:end;\" transform=\"rotate(0, 227.149, 1419.3)\" x=\"227.149\" y=\"1419.3\">2.25</text>\n",
       "</g>\n",
       "<g clip-path=\"url(#clip7901)\">\n",
       "<text style=\"fill:#000000; fill-opacity:1; font-family:Arial,Helvetica Neue,Helvetica,sans-serif; font-size:48px; text-anchor:end;\" transform=\"rotate(0, 227.149, 1095.77)\" x=\"227.149\" y=\"1095.77\">2.30</text>\n",
       "</g>\n",
       "<g clip-path=\"url(#clip7901)\">\n",
       "<text style=\"fill:#000000; fill-opacity:1; font-family:Arial,Helvetica Neue,Helvetica,sans-serif; font-size:48px; text-anchor:end;\" transform=\"rotate(0, 227.149, 772.239)\" x=\"227.149\" y=\"772.239\">2.35</text>\n",
       "</g>\n",
       "<g clip-path=\"url(#clip7901)\">\n",
       "<text style=\"fill:#000000; fill-opacity:1; font-family:Arial,Helvetica Neue,Helvetica,sans-serif; font-size:48px; text-anchor:end;\" transform=\"rotate(0, 227.149, 448.708)\" x=\"227.149\" y=\"448.708\">2.40</text>\n",
       "</g>\n",
       "<g clip-path=\"url(#clip7901)\">\n",
       "<text style=\"fill:#000000; fill-opacity:1; font-family:Arial,Helvetica Neue,Helvetica,sans-serif; font-size:48px; text-anchor:end;\" transform=\"rotate(0, 227.149, 125.178)\" x=\"227.149\" y=\"125.178\">2.45</text>\n",
       "</g>\n",
       "<g clip-path=\"url(#clip7901)\">\n",
       "<text style=\"fill:#000000; fill-opacity:1; font-family:Arial,Helvetica Neue,Helvetica,sans-serif; font-size:66px; text-anchor:middle;\" transform=\"rotate(0, 1286.2, 1590.4)\" x=\"1286.2\" y=\"1590.4\">x</text>\n",
       "</g>\n",
       "<g clip-path=\"url(#clip7901)\">\n",
       "<text style=\"fill:#000000; fill-opacity:1; font-family:Arial,Helvetica Neue,Helvetica,sans-serif; font-size:66px; text-anchor:middle;\" transform=\"rotate(-90, 57.6, 743.863)\" x=\"57.6\" y=\"743.863\">y</text>\n",
       "</g>\n",
       "<polygon clip-path=\"url(#clip7903)\" points=\"\n",
       "315.312,769.271 341.927,817.282 2016.25,817.282 2016.25,141.157 1989.64,93.146 315.312,93.146 315.312,769.271 \n",
       "  \" fill=\"#009af9\" fill-rule=\"evenodd\" fill-opacity=\"0.2\"/>\n",
       "<polyline clip-path=\"url(#clip7903)\" style=\"stroke:#000000; stroke-width:4; stroke-opacity:0.2; fill:none\" points=\"\n",
       "  315.312,769.271 341.927,817.282 2016.25,817.282 2016.25,141.157 1989.64,93.146 315.312,93.146 315.312,769.271 \n",
       "  \"/>\n",
       "<polygon clip-path=\"url(#clip7903)\" points=\"\n",
       "341.251,801.722 367.783,850.111 2041.27,880.104 2043.46,880.104 2043.46,205.107 2016.93,156.718 343.442,126.725 341.251,126.725 341.251,801.722 \n",
       "  \" fill=\"#009af9\" fill-rule=\"evenodd\" fill-opacity=\"0.2\"/>\n",
       "<polyline clip-path=\"url(#clip7903)\" style=\"stroke:#000000; stroke-width:4; stroke-opacity:0.2; fill:none\" points=\"\n",
       "  341.251,801.722 367.783,850.111 2041.27,880.104 2043.46,880.104 2043.46,205.107 2016.93,156.718 343.442,126.725 341.251,126.725 341.251,801.722 \n",
       "  \"/>\n",
       "<polygon clip-path=\"url(#clip7903)\" points=\"\n",
       "367.134,834.574 393.582,883.339 2066.99,943.263 2070.56,943.263 2070.56,269.408 2044.11,220.644 370.7,160.72 367.134,160.72 367.134,834.574 \n",
       "  \" fill=\"#009af9\" fill-rule=\"evenodd\" fill-opacity=\"0.2\"/>\n",
       "<polyline clip-path=\"url(#clip7903)\" style=\"stroke:#000000; stroke-width:4; stroke-opacity:0.2; fill:none\" points=\"\n",
       "  367.134,834.574 393.582,883.339 2066.99,943.263 2070.56,943.263 2070.56,269.408 2044.11,220.644 370.7,160.72 367.134,160.72 367.134,834.574 \n",
       "  \"/>\n",
       "<polygon clip-path=\"url(#clip7903)\" points=\"\n",
       "392.96,867.827 419.324,916.965 2092.61,1006.76 2097.55,1006.76 2097.55,334.058 2071.18,284.921 397.9,195.13 392.96,195.13 392.96,867.827 \n",
       "  \" fill=\"#009af9\" fill-rule=\"evenodd\" fill-opacity=\"0.2\"/>\n",
       "<polyline clip-path=\"url(#clip7903)\" style=\"stroke:#000000; stroke-width:4; stroke-opacity:0.2; fill:none\" points=\"\n",
       "  392.96,867.827 419.324,916.965 2092.61,1006.76 2097.55,1006.76 2097.55,334.058 2071.18,284.921 397.9,195.13 392.96,195.13 392.96,867.827 \n",
       "  \"/>\n",
       "<polygon clip-path=\"url(#clip7903)\" points=\"\n",
       "418.728,901.477 445.007,950.986 2118.11,1070.58 2124.42,1070.58 2124.42,399.054 2098.14,349.546 425.04,229.952 418.728,229.952 418.728,901.477 \n",
       "  \" fill=\"#009af9\" fill-rule=\"evenodd\" fill-opacity=\"0.2\"/>\n",
       "<polyline clip-path=\"url(#clip7903)\" style=\"stroke:#000000; stroke-width:4; stroke-opacity:0.2; fill:none\" points=\"\n",
       "  418.728,901.477 445.007,950.986 2118.11,1070.58 2124.42,1070.58 2124.42,399.054 2098.14,349.546 425.04,229.952 418.728,229.952 418.728,901.477 \n",
       "  \"/>\n",
       "<polygon clip-path=\"url(#clip7903)\" points=\"\n",
       "444.438,935.523 470.631,985.4 2143.5,1134.73 2151.18,1134.73 2151.18,464.394 2124.99,414.517 452.12,265.184 444.438,265.184 444.438,935.523 \n",
       "  \" fill=\"#009af9\" fill-rule=\"evenodd\" fill-opacity=\"0.2\"/>\n",
       "<polyline clip-path=\"url(#clip7903)\" style=\"stroke:#000000; stroke-width:4; stroke-opacity:0.2; fill:none\" points=\"\n",
       "  444.438,935.523 470.631,985.4 2143.5,1134.73 2151.18,1134.73 2151.18,464.394 2124.99,414.517 452.12,265.184 444.438,265.184 444.438,935.523 \n",
       "  \"/>\n",
       "<polygon clip-path=\"url(#clip7903)\" points=\"\n",
       "470.089,969.964 496.196,1020.21 2168.78,1199.21 2177.83,1199.21 2177.83,530.074 2151.73,479.83 479.138,300.825 470.089,300.825 470.089,969.964 \n",
       "  \" fill=\"#009af9\" fill-rule=\"evenodd\" fill-opacity=\"0.2\"/>\n",
       "<polyline clip-path=\"url(#clip7903)\" style=\"stroke:#000000; stroke-width:4; stroke-opacity:0.2; fill:none\" points=\"\n",
       "  470.089,969.964 496.196,1020.21 2168.78,1199.21 2177.83,1199.21 2177.83,530.074 2151.73,479.83 479.138,300.825 470.089,300.825 470.089,969.964 \n",
       "  \"/>\n",
       "<polygon clip-path=\"url(#clip7903)\" points=\"\n",
       "495.68,1004.8 521.7,1055.4 2193.95,1264.02 2204.37,1264.02 2204.37,596.092 2178.35,545.484 506.095,336.873 495.68,336.873 495.68,1004.8 \n",
       "  \" fill=\"#009af9\" fill-rule=\"evenodd\" fill-opacity=\"0.2\"/>\n",
       "<polyline clip-path=\"url(#clip7903)\" style=\"stroke:#000000; stroke-width:4; stroke-opacity:0.2; fill:none\" points=\"\n",
       "  495.68,1004.8 521.7,1055.4 2193.95,1264.02 2204.37,1264.02 2204.37,596.092 2178.35,545.484 506.095,336.873 495.68,336.873 495.68,1004.8 \n",
       "  \"/>\n",
       "<polygon clip-path=\"url(#clip7903)\" points=\"\n",
       "521.211,1040.02 547.144,1090.99 2219.01,1329.14 2230.79,1329.14 2230.79,662.445 2204.86,611.476 532.989,373.326 521.211,373.326 521.211,1040.02 \n",
       "  \" fill=\"#009af9\" fill-rule=\"evenodd\" fill-opacity=\"0.2\"/>\n",
       "<polyline clip-path=\"url(#clip7903)\" style=\"stroke:#000000; stroke-width:4; stroke-opacity:0.2; fill:none\" points=\"\n",
       "  521.211,1040.02 547.144,1090.99 2219.01,1329.14 2230.79,1329.14 2230.79,662.445 2204.86,611.476 532.989,373.326 521.211,373.326 521.211,1040.02 \n",
       "  \"/>\n",
       "<polygon clip-path=\"url(#clip7903)\" points=\"\n",
       "546.681,1075.63 572.526,1126.96 2243.96,1394.58 2257.1,1394.58 2257.1,729.13 2231.25,677.802 559.819,410.181 546.681,410.181 546.681,1075.63 \n",
       "  \" fill=\"#009af9\" fill-rule=\"evenodd\" fill-opacity=\"0.2\"/>\n",
       "<polyline clip-path=\"url(#clip7903)\" style=\"stroke:#000000; stroke-width:4; stroke-opacity:0.2; fill:none\" points=\"\n",
       "  546.681,1075.63 572.526,1126.96 2243.96,1394.58 2257.1,1394.58 2257.1,729.13 2231.25,677.802 559.819,410.181 546.681,410.181 546.681,1075.63 \n",
       "  \"/>\n",
       "<polygon clip-path=\"url(#clip7903)\" points=\"\n",
       "2262.67,717.718 2109.14,341.127 2023.55,138.206 1998.4,86.6754 309.737,86.6754 309.737,775.741 313.931,792.574 336.352,823.753 566.95,1133.43 574.5,1138.46 \n",
       "  2238.38,1401.05 2262.67,1401.05 2262.67,717.718 2262.67,717.718 \n",
       "  \" fill=\"#008000\" fill-rule=\"evenodd\" fill-opacity=\"0.2\"/>\n",
       "<polyline clip-path=\"url(#clip7903)\" style=\"stroke:#000000; stroke-width:4; stroke-opacity:0.2; fill:none\" points=\"\n",
       "  2262.67,717.718 2109.14,341.127 2023.55,138.206 1998.4,86.6754 309.737,86.6754 309.737,775.741 313.931,792.574 336.352,823.753 566.95,1133.43 574.5,1138.46 \n",
       "  2238.38,1401.05 2262.67,1401.05 2262.67,717.718 \n",
       "  \"/>\n",
       "</svg>\n"
      ]
     },
     "execution_count": 30,
     "metadata": {},
     "output_type": "execute_result"
    }
   ],
   "source": [
    "plot(Rlin, alpha=.2) # flowpipe\n",
    "plot!(R̂lin, alpha=.2, 1e-3, xlab=\"x\", ylab=\"y\", color=\"green\") # flowpipe plus error R̄err "
   ]
  },
  {
   "cell_type": "markdown",
   "metadata": {},
   "source": [
    "We use `TaylorSeries.evaluate` to the bounding box of the Lagrangian using interval arithmetic."
   ]
  },
  {
   "cell_type": "code",
   "execution_count": 31,
   "metadata": {},
   "outputs": [
    {
     "data": {
      "image/svg+xml": [
       "<?xml version=\"1.0\" encoding=\"utf-8\"?>\n",
       "<svg xmlns=\"http://www.w3.org/2000/svg\" xmlns:xlink=\"http://www.w3.org/1999/xlink\" width=\"600\" height=\"400\" viewBox=\"0 0 2400 1600\">\n",
       "<defs>\n",
       "  <clipPath id=\"clip8100\">\n",
       "    <rect x=\"0\" y=\"0\" width=\"2000\" height=\"2000\"/>\n",
       "  </clipPath>\n",
       "</defs>\n",
       "<defs>\n",
       "  <clipPath id=\"clip8101\">\n",
       "    <rect x=\"0\" y=\"0\" width=\"2400\" height=\"1600\"/>\n",
       "  </clipPath>\n",
       "</defs>\n",
       "<polygon clip-path=\"url(#clip8101)\" points=\"\n",
       "0,1600 2400,1600 2400,0 0,0 \n",
       "  \" fill=\"#ffffff\" fill-rule=\"evenodd\" fill-opacity=\"1\"/>\n",
       "<defs>\n",
       "  <clipPath id=\"clip8102\">\n",
       "    <rect x=\"480\" y=\"0\" width=\"1681\" height=\"1600\"/>\n",
       "  </clipPath>\n",
       "</defs>\n",
       "<polygon clip-path=\"url(#clip8101)\" points=\"\n",
       "251.149,1440.48 2321.26,1440.48 2321.26,47.2441 251.149,47.2441 \n",
       "  \" fill=\"#ffffff\" fill-rule=\"evenodd\" fill-opacity=\"1\"/>\n",
       "<defs>\n",
       "  <clipPath id=\"clip8103\">\n",
       "    <rect x=\"251\" y=\"47\" width=\"2071\" height=\"1394\"/>\n",
       "  </clipPath>\n",
       "</defs>\n",
       "<polyline clip-path=\"url(#clip8103)\" style=\"stroke:#000000; stroke-width:2; stroke-opacity:0.1; fill:none\" points=\"\n",
       "  594.909,1440.48 594.909,47.2441 \n",
       "  \"/>\n",
       "<polyline clip-path=\"url(#clip8103)\" style=\"stroke:#000000; stroke-width:2; stroke-opacity:0.1; fill:none\" points=\"\n",
       "  1152.48,1440.48 1152.48,47.2441 \n",
       "  \"/>\n",
       "<polyline clip-path=\"url(#clip8103)\" style=\"stroke:#000000; stroke-width:2; stroke-opacity:0.1; fill:none\" points=\"\n",
       "  1710.04,1440.48 1710.04,47.2441 \n",
       "  \"/>\n",
       "<polyline clip-path=\"url(#clip8103)\" style=\"stroke:#000000; stroke-width:2; stroke-opacity:0.1; fill:none\" points=\"\n",
       "  2267.61,1440.48 2267.61,47.2441 \n",
       "  \"/>\n",
       "<polyline clip-path=\"url(#clip8103)\" style=\"stroke:#000000; stroke-width:2; stroke-opacity:0.1; fill:none\" points=\"\n",
       "  251.149,1401.8 2321.26,1401.8 \n",
       "  \"/>\n",
       "<polyline clip-path=\"url(#clip8103)\" style=\"stroke:#000000; stroke-width:2; stroke-opacity:0.1; fill:none\" points=\"\n",
       "  251.149,1078.27 2321.26,1078.27 \n",
       "  \"/>\n",
       "<polyline clip-path=\"url(#clip8103)\" style=\"stroke:#000000; stroke-width:2; stroke-opacity:0.1; fill:none\" points=\"\n",
       "  251.149,754.739 2321.26,754.739 \n",
       "  \"/>\n",
       "<polyline clip-path=\"url(#clip8103)\" style=\"stroke:#000000; stroke-width:2; stroke-opacity:0.1; fill:none\" points=\"\n",
       "  251.149,431.208 2321.26,431.208 \n",
       "  \"/>\n",
       "<polyline clip-path=\"url(#clip8103)\" style=\"stroke:#000000; stroke-width:2; stroke-opacity:0.1; fill:none\" points=\"\n",
       "  251.149,107.678 2321.26,107.678 \n",
       "  \"/>\n",
       "<polyline clip-path=\"url(#clip8101)\" style=\"stroke:#000000; stroke-width:4; stroke-opacity:1; fill:none\" points=\"\n",
       "  251.149,1440.48 2321.26,1440.48 \n",
       "  \"/>\n",
       "<polyline clip-path=\"url(#clip8101)\" style=\"stroke:#000000; stroke-width:4; stroke-opacity:1; fill:none\" points=\"\n",
       "  251.149,1440.48 251.149,47.2441 \n",
       "  \"/>\n",
       "<polyline clip-path=\"url(#clip8101)\" style=\"stroke:#000000; stroke-width:4; stroke-opacity:1; fill:none\" points=\"\n",
       "  594.909,1440.48 594.909,1419.58 \n",
       "  \"/>\n",
       "<polyline clip-path=\"url(#clip8101)\" style=\"stroke:#000000; stroke-width:4; stroke-opacity:1; fill:none\" points=\"\n",
       "  1152.48,1440.48 1152.48,1419.58 \n",
       "  \"/>\n",
       "<polyline clip-path=\"url(#clip8101)\" style=\"stroke:#000000; stroke-width:4; stroke-opacity:1; fill:none\" points=\"\n",
       "  1710.04,1440.48 1710.04,1419.58 \n",
       "  \"/>\n",
       "<polyline clip-path=\"url(#clip8101)\" style=\"stroke:#000000; stroke-width:4; stroke-opacity:1; fill:none\" points=\"\n",
       "  2267.61,1440.48 2267.61,1419.58 \n",
       "  \"/>\n",
       "<polyline clip-path=\"url(#clip8101)\" style=\"stroke:#000000; stroke-width:4; stroke-opacity:1; fill:none\" points=\"\n",
       "  251.149,1401.8 282.2,1401.8 \n",
       "  \"/>\n",
       "<polyline clip-path=\"url(#clip8101)\" style=\"stroke:#000000; stroke-width:4; stroke-opacity:1; fill:none\" points=\"\n",
       "  251.149,1078.27 282.2,1078.27 \n",
       "  \"/>\n",
       "<polyline clip-path=\"url(#clip8101)\" style=\"stroke:#000000; stroke-width:4; stroke-opacity:1; fill:none\" points=\"\n",
       "  251.149,754.739 282.2,754.739 \n",
       "  \"/>\n",
       "<polyline clip-path=\"url(#clip8101)\" style=\"stroke:#000000; stroke-width:4; stroke-opacity:1; fill:none\" points=\"\n",
       "  251.149,431.208 282.2,431.208 \n",
       "  \"/>\n",
       "<polyline clip-path=\"url(#clip8101)\" style=\"stroke:#000000; stroke-width:4; stroke-opacity:1; fill:none\" points=\"\n",
       "  251.149,107.678 282.2,107.678 \n",
       "  \"/>\n",
       "<g clip-path=\"url(#clip8101)\">\n",
       "<text style=\"fill:#000000; fill-opacity:1; font-family:Arial,Helvetica Neue,Helvetica,sans-serif; font-size:48px; text-anchor:middle;\" transform=\"rotate(0, 594.909, 1494.48)\" x=\"594.909\" y=\"1494.48\">1.3</text>\n",
       "</g>\n",
       "<g clip-path=\"url(#clip8101)\">\n",
       "<text style=\"fill:#000000; fill-opacity:1; font-family:Arial,Helvetica Neue,Helvetica,sans-serif; font-size:48px; text-anchor:middle;\" transform=\"rotate(0, 1152.48, 1494.48)\" x=\"1152.48\" y=\"1494.48\">1.4</text>\n",
       "</g>\n",
       "<g clip-path=\"url(#clip8101)\">\n",
       "<text style=\"fill:#000000; fill-opacity:1; font-family:Arial,Helvetica Neue,Helvetica,sans-serif; font-size:48px; text-anchor:middle;\" transform=\"rotate(0, 1710.04, 1494.48)\" x=\"1710.04\" y=\"1494.48\">1.5</text>\n",
       "</g>\n",
       "<g clip-path=\"url(#clip8101)\">\n",
       "<text style=\"fill:#000000; fill-opacity:1; font-family:Arial,Helvetica Neue,Helvetica,sans-serif; font-size:48px; text-anchor:middle;\" transform=\"rotate(0, 2267.61, 1494.48)\" x=\"2267.61\" y=\"1494.48\">1.6</text>\n",
       "</g>\n",
       "<g clip-path=\"url(#clip8101)\">\n",
       "<text style=\"fill:#000000; fill-opacity:1; font-family:Arial,Helvetica Neue,Helvetica,sans-serif; font-size:48px; text-anchor:end;\" transform=\"rotate(0, 227.149, 1419.3)\" x=\"227.149\" y=\"1419.3\">2.25</text>\n",
       "</g>\n",
       "<g clip-path=\"url(#clip8101)\">\n",
       "<text style=\"fill:#000000; fill-opacity:1; font-family:Arial,Helvetica Neue,Helvetica,sans-serif; font-size:48px; text-anchor:end;\" transform=\"rotate(0, 227.149, 1095.77)\" x=\"227.149\" y=\"1095.77\">2.30</text>\n",
       "</g>\n",
       "<g clip-path=\"url(#clip8101)\">\n",
       "<text style=\"fill:#000000; fill-opacity:1; font-family:Arial,Helvetica Neue,Helvetica,sans-serif; font-size:48px; text-anchor:end;\" transform=\"rotate(0, 227.149, 772.239)\" x=\"227.149\" y=\"772.239\">2.35</text>\n",
       "</g>\n",
       "<g clip-path=\"url(#clip8101)\">\n",
       "<text style=\"fill:#000000; fill-opacity:1; font-family:Arial,Helvetica Neue,Helvetica,sans-serif; font-size:48px; text-anchor:end;\" transform=\"rotate(0, 227.149, 448.708)\" x=\"227.149\" y=\"448.708\">2.40</text>\n",
       "</g>\n",
       "<g clip-path=\"url(#clip8101)\">\n",
       "<text style=\"fill:#000000; fill-opacity:1; font-family:Arial,Helvetica Neue,Helvetica,sans-serif; font-size:48px; text-anchor:end;\" transform=\"rotate(0, 227.149, 125.178)\" x=\"227.149\" y=\"125.178\">2.45</text>\n",
       "</g>\n",
       "<g clip-path=\"url(#clip8101)\">\n",
       "<text style=\"fill:#000000; fill-opacity:1; font-family:Arial,Helvetica Neue,Helvetica,sans-serif; font-size:66px; text-anchor:middle;\" transform=\"rotate(0, 1286.2, 1590.4)\" x=\"1286.2\" y=\"1590.4\">x</text>\n",
       "</g>\n",
       "<g clip-path=\"url(#clip8101)\">\n",
       "<text style=\"fill:#000000; fill-opacity:1; font-family:Arial,Helvetica Neue,Helvetica,sans-serif; font-size:66px; text-anchor:middle;\" transform=\"rotate(-90, 57.6, 743.863)\" x=\"57.6\" y=\"743.863\">y</text>\n",
       "</g>\n",
       "<polygon clip-path=\"url(#clip8103)\" points=\"\n",
       "315.312,769.271 341.927,817.282 2016.25,817.282 2016.25,141.157 1989.64,93.146 315.312,93.146 315.312,769.271 \n",
       "  \" fill=\"#009af9\" fill-rule=\"evenodd\" fill-opacity=\"0.2\"/>\n",
       "<polyline clip-path=\"url(#clip8103)\" style=\"stroke:#000000; stroke-width:4; stroke-opacity:0.2; fill:none\" points=\"\n",
       "  315.312,769.271 341.927,817.282 2016.25,817.282 2016.25,141.157 1989.64,93.146 315.312,93.146 315.312,769.271 \n",
       "  \"/>\n",
       "<polygon clip-path=\"url(#clip8103)\" points=\"\n",
       "341.251,801.722 367.783,850.111 2041.27,880.104 2043.46,880.104 2043.46,205.107 2016.93,156.718 343.442,126.725 341.251,126.725 341.251,801.722 \n",
       "  \" fill=\"#009af9\" fill-rule=\"evenodd\" fill-opacity=\"0.2\"/>\n",
       "<polyline clip-path=\"url(#clip8103)\" style=\"stroke:#000000; stroke-width:4; stroke-opacity:0.2; fill:none\" points=\"\n",
       "  341.251,801.722 367.783,850.111 2041.27,880.104 2043.46,880.104 2043.46,205.107 2016.93,156.718 343.442,126.725 341.251,126.725 341.251,801.722 \n",
       "  \"/>\n",
       "<polygon clip-path=\"url(#clip8103)\" points=\"\n",
       "367.134,834.574 393.582,883.339 2066.99,943.263 2070.56,943.263 2070.56,269.408 2044.11,220.644 370.7,160.72 367.134,160.72 367.134,834.574 \n",
       "  \" fill=\"#009af9\" fill-rule=\"evenodd\" fill-opacity=\"0.2\"/>\n",
       "<polyline clip-path=\"url(#clip8103)\" style=\"stroke:#000000; stroke-width:4; stroke-opacity:0.2; fill:none\" points=\"\n",
       "  367.134,834.574 393.582,883.339 2066.99,943.263 2070.56,943.263 2070.56,269.408 2044.11,220.644 370.7,160.72 367.134,160.72 367.134,834.574 \n",
       "  \"/>\n",
       "<polygon clip-path=\"url(#clip8103)\" points=\"\n",
       "392.96,867.827 419.324,916.965 2092.61,1006.76 2097.55,1006.76 2097.55,334.058 2071.18,284.921 397.9,195.13 392.96,195.13 392.96,867.827 \n",
       "  \" fill=\"#009af9\" fill-rule=\"evenodd\" fill-opacity=\"0.2\"/>\n",
       "<polyline clip-path=\"url(#clip8103)\" style=\"stroke:#000000; stroke-width:4; stroke-opacity:0.2; fill:none\" points=\"\n",
       "  392.96,867.827 419.324,916.965 2092.61,1006.76 2097.55,1006.76 2097.55,334.058 2071.18,284.921 397.9,195.13 392.96,195.13 392.96,867.827 \n",
       "  \"/>\n",
       "<polygon clip-path=\"url(#clip8103)\" points=\"\n",
       "418.728,901.477 445.007,950.986 2118.11,1070.58 2124.42,1070.58 2124.42,399.054 2098.14,349.546 425.04,229.952 418.728,229.952 418.728,901.477 \n",
       "  \" fill=\"#009af9\" fill-rule=\"evenodd\" fill-opacity=\"0.2\"/>\n",
       "<polyline clip-path=\"url(#clip8103)\" style=\"stroke:#000000; stroke-width:4; stroke-opacity:0.2; fill:none\" points=\"\n",
       "  418.728,901.477 445.007,950.986 2118.11,1070.58 2124.42,1070.58 2124.42,399.054 2098.14,349.546 425.04,229.952 418.728,229.952 418.728,901.477 \n",
       "  \"/>\n",
       "<polygon clip-path=\"url(#clip8103)\" points=\"\n",
       "444.438,935.523 470.631,985.4 2143.5,1134.73 2151.18,1134.73 2151.18,464.394 2124.99,414.517 452.12,265.184 444.438,265.184 444.438,935.523 \n",
       "  \" fill=\"#009af9\" fill-rule=\"evenodd\" fill-opacity=\"0.2\"/>\n",
       "<polyline clip-path=\"url(#clip8103)\" style=\"stroke:#000000; stroke-width:4; stroke-opacity:0.2; fill:none\" points=\"\n",
       "  444.438,935.523 470.631,985.4 2143.5,1134.73 2151.18,1134.73 2151.18,464.394 2124.99,414.517 452.12,265.184 444.438,265.184 444.438,935.523 \n",
       "  \"/>\n",
       "<polygon clip-path=\"url(#clip8103)\" points=\"\n",
       "470.089,969.964 496.196,1020.21 2168.78,1199.21 2177.83,1199.21 2177.83,530.074 2151.73,479.83 479.138,300.825 470.089,300.825 470.089,969.964 \n",
       "  \" fill=\"#009af9\" fill-rule=\"evenodd\" fill-opacity=\"0.2\"/>\n",
       "<polyline clip-path=\"url(#clip8103)\" style=\"stroke:#000000; stroke-width:4; stroke-opacity:0.2; fill:none\" points=\"\n",
       "  470.089,969.964 496.196,1020.21 2168.78,1199.21 2177.83,1199.21 2177.83,530.074 2151.73,479.83 479.138,300.825 470.089,300.825 470.089,969.964 \n",
       "  \"/>\n",
       "<polygon clip-path=\"url(#clip8103)\" points=\"\n",
       "495.68,1004.8 521.7,1055.4 2193.95,1264.02 2204.37,1264.02 2204.37,596.092 2178.35,545.484 506.095,336.873 495.68,336.873 495.68,1004.8 \n",
       "  \" fill=\"#009af9\" fill-rule=\"evenodd\" fill-opacity=\"0.2\"/>\n",
       "<polyline clip-path=\"url(#clip8103)\" style=\"stroke:#000000; stroke-width:4; stroke-opacity:0.2; fill:none\" points=\"\n",
       "  495.68,1004.8 521.7,1055.4 2193.95,1264.02 2204.37,1264.02 2204.37,596.092 2178.35,545.484 506.095,336.873 495.68,336.873 495.68,1004.8 \n",
       "  \"/>\n",
       "<polygon clip-path=\"url(#clip8103)\" points=\"\n",
       "521.211,1040.02 547.144,1090.99 2219.01,1329.14 2230.79,1329.14 2230.79,662.445 2204.86,611.476 532.989,373.326 521.211,373.326 521.211,1040.02 \n",
       "  \" fill=\"#009af9\" fill-rule=\"evenodd\" fill-opacity=\"0.2\"/>\n",
       "<polyline clip-path=\"url(#clip8103)\" style=\"stroke:#000000; stroke-width:4; stroke-opacity:0.2; fill:none\" points=\"\n",
       "  521.211,1040.02 547.144,1090.99 2219.01,1329.14 2230.79,1329.14 2230.79,662.445 2204.86,611.476 532.989,373.326 521.211,373.326 521.211,1040.02 \n",
       "  \"/>\n",
       "<polygon clip-path=\"url(#clip8103)\" points=\"\n",
       "546.681,1075.63 572.526,1126.96 2243.96,1394.58 2257.1,1394.58 2257.1,729.13 2231.25,677.802 559.819,410.181 546.681,410.181 546.681,1075.63 \n",
       "  \" fill=\"#009af9\" fill-rule=\"evenodd\" fill-opacity=\"0.2\"/>\n",
       "<polyline clip-path=\"url(#clip8103)\" style=\"stroke:#000000; stroke-width:4; stroke-opacity:0.2; fill:none\" points=\"\n",
       "  546.681,1075.63 572.526,1126.96 2243.96,1394.58 2257.1,1394.58 2257.1,729.13 2231.25,677.802 559.819,410.181 546.681,410.181 546.681,1075.63 \n",
       "  \"/>\n",
       "<polygon clip-path=\"url(#clip8103)\" points=\"\n",
       "2262.67,717.718 2109.14,341.127 2023.55,138.206 1998.4,86.6754 309.737,86.6754 309.737,775.741 313.931,792.574 336.352,823.753 566.95,1133.43 574.5,1138.46 \n",
       "  2238.38,1401.05 2262.67,1401.05 2262.67,717.718 2262.67,717.718 \n",
       "  \" fill=\"#008000\" fill-rule=\"evenodd\" fill-opacity=\"0.2\"/>\n",
       "<polyline clip-path=\"url(#clip8103)\" style=\"stroke:#000000; stroke-width:4; stroke-opacity:0.2; fill:none\" points=\"\n",
       "  2262.67,717.718 2109.14,341.127 2023.55,138.206 1998.4,86.6754 309.737,86.6754 309.737,775.741 313.931,792.574 336.352,823.753 566.95,1133.43 574.5,1138.46 \n",
       "  2238.38,1401.05 2262.67,1401.05 2262.67,717.718 \n",
       "  \"/>\n",
       "<polygon clip-path=\"url(#clip8103)\" points=\"\n",
       "309.737,1401.05 2262.67,1401.05 2262.67,86.6754 309.737,86.6754 309.737,1401.05 309.737,1401.05 \n",
       "  \" fill=\"#808080\" fill-rule=\"evenodd\" fill-opacity=\"0.2\"/>\n",
       "<polyline clip-path=\"url(#clip8103)\" style=\"stroke:#000000; stroke-width:4; stroke-opacity:0.2; fill:none\" points=\"\n",
       "  309.737,1401.05 2262.67,1401.05 2262.67,86.6754 309.737,86.6754 309.737,1401.05 \n",
       "  \"/>\n",
       "</svg>\n"
      ]
     },
     "execution_count": 31,
     "metadata": {},
     "output_type": "execute_result"
    }
   ],
   "source": [
    "R̂lin_rect = overapproximate(R̂lin, Hyperrectangle)\n",
    "plot!(R̂lin_rect, color=\"grey\", alpha=.2)"
   ]
  },
  {
   "cell_type": "code",
   "execution_count": 32,
   "metadata": {
    "scrolled": true
   },
   "outputs": [
    {
     "data": {
      "text/plain": [
       "[1.24885, 1.59912] × [2.25011, 2.45325]"
      ]
     },
     "execution_count": 32,
     "metadata": {},
     "output_type": "execute_result"
    }
   ],
   "source": [
    "R̂lin_box = convert(IntervalBox, R̂lin_rect)"
   ]
  },
  {
   "cell_type": "code",
   "execution_count": 33,
   "metadata": {},
   "outputs": [
    {
     "data": {
      "text/plain": [
       "2×2 Array{TaylorN{Float64},2}:\n",
       "  - 2.0 x₂ + 𝒪(‖x‖⁵)   - 2.0 x₁ + 𝒪(‖x‖⁵)\n",
       "  - 2.0 x₁ + 𝒪(‖x‖⁵)        0.0 + 𝒪(‖x‖⁵)"
      ]
     },
     "execution_count": 33,
     "metadata": {},
     "output_type": "execute_result"
    }
   ],
   "source": [
    "Hf₂"
   ]
  },
  {
   "cell_type": "code",
   "execution_count": 34,
   "metadata": {},
   "outputs": [
    {
     "data": {
      "text/plain": [
       "[-4.9065, -4.50023]"
      ]
     },
     "execution_count": 34,
     "metadata": {},
     "output_type": "execute_result"
    }
   ],
   "source": [
    "evaluate(Hf₂[1], R̂lin_box)"
   ]
  },
  {
   "cell_type": "code",
   "execution_count": 35,
   "metadata": {},
   "outputs": [
    {
     "data": {
      "text/plain": [
       "[1.24885, 1.59912] × [2.25011, 2.45325]"
      ]
     },
     "execution_count": 35,
     "metadata": {},
     "output_type": "execute_result"
    }
   ],
   "source": [
    "ξ = CH(Singleton(x̃), R̂lin_rect)\n",
    "ξ_rect = overapproximate(ξ, Hyperrectangle)\n",
    "ξ_box = convert(IntervalBox, ξ_rect)"
   ]
  },
  {
   "cell_type": "markdown",
   "metadata": {},
   "source": [
    "Note that we could take the box overapproximation only after having taken the convex hull:"
   ]
  },
  {
   "cell_type": "code",
   "execution_count": 36,
   "metadata": {},
   "outputs": [
    {
     "data": {
      "text/plain": [
       "[1.24885, 1.59912] × [2.25011, 2.45325]"
      ]
     },
     "execution_count": 36,
     "metadata": {},
     "output_type": "execute_result"
    }
   ],
   "source": [
    "ξ2 = CH(Singleton(x̃), R̂lin) # here R̂lin is not necessarily a box\n",
    "ξ2_rect = overapproximate(ξ2, Hyperrectangle)\n",
    "ξ2_box = convert(IntervalBox, ξ2_rect)"
   ]
  },
  {
   "cell_type": "markdown",
   "metadata": {},
   "source": [
    "In this case the computations yield the same result though."
   ]
  },
  {
   "cell_type": "code",
   "execution_count": 37,
   "metadata": {},
   "outputs": [
    {
     "data": {
      "image/svg+xml": [
       "<?xml version=\"1.0\" encoding=\"utf-8\"?>\n",
       "<svg xmlns=\"http://www.w3.org/2000/svg\" xmlns:xlink=\"http://www.w3.org/1999/xlink\" width=\"600\" height=\"400\" viewBox=\"0 0 2400 1600\">\n",
       "<defs>\n",
       "  <clipPath id=\"clip8300\">\n",
       "    <rect x=\"0\" y=\"0\" width=\"2000\" height=\"2000\"/>\n",
       "  </clipPath>\n",
       "</defs>\n",
       "<defs>\n",
       "  <clipPath id=\"clip8301\">\n",
       "    <rect x=\"0\" y=\"0\" width=\"2400\" height=\"1600\"/>\n",
       "  </clipPath>\n",
       "</defs>\n",
       "<polygon clip-path=\"url(#clip8301)\" points=\"\n",
       "0,1600 2400,1600 2400,0 0,0 \n",
       "  \" fill=\"#ffffff\" fill-rule=\"evenodd\" fill-opacity=\"1\"/>\n",
       "<defs>\n",
       "  <clipPath id=\"clip8302\">\n",
       "    <rect x=\"480\" y=\"0\" width=\"1681\" height=\"1600\"/>\n",
       "  </clipPath>\n",
       "</defs>\n",
       "<polygon clip-path=\"url(#clip8301)\" points=\"\n",
       "188.156,1503.47 2321.26,1503.47 2321.26,47.2441 188.156,47.2441 \n",
       "  \" fill=\"#ffffff\" fill-rule=\"evenodd\" fill-opacity=\"1\"/>\n",
       "<defs>\n",
       "  <clipPath id=\"clip8303\">\n",
       "    <rect x=\"188\" y=\"47\" width=\"2134\" height=\"1457\"/>\n",
       "  </clipPath>\n",
       "</defs>\n",
       "<polyline clip-path=\"url(#clip8303)\" style=\"stroke:#000000; stroke-width:2; stroke-opacity:0.1; fill:none\" points=\"\n",
       "  542.377,1503.47 542.377,47.2441 \n",
       "  \"/>\n",
       "<polyline clip-path=\"url(#clip8303)\" style=\"stroke:#000000; stroke-width:2; stroke-opacity:0.1; fill:none\" points=\"\n",
       "  1116.91,1503.47 1116.91,47.2441 \n",
       "  \"/>\n",
       "<polyline clip-path=\"url(#clip8303)\" style=\"stroke:#000000; stroke-width:2; stroke-opacity:0.1; fill:none\" points=\"\n",
       "  1691.44,1503.47 1691.44,47.2441 \n",
       "  \"/>\n",
       "<polyline clip-path=\"url(#clip8303)\" style=\"stroke:#000000; stroke-width:2; stroke-opacity:0.1; fill:none\" points=\"\n",
       "  2265.98,1503.47 2265.98,47.2441 \n",
       "  \"/>\n",
       "<polyline clip-path=\"url(#clip8303)\" style=\"stroke:#000000; stroke-width:2; stroke-opacity:0.1; fill:none\" points=\"\n",
       "  188.156,1463.04 2321.26,1463.04 \n",
       "  \"/>\n",
       "<polyline clip-path=\"url(#clip8303)\" style=\"stroke:#000000; stroke-width:2; stroke-opacity:0.1; fill:none\" points=\"\n",
       "  188.156,1124.88 2321.26,1124.88 \n",
       "  \"/>\n",
       "<polyline clip-path=\"url(#clip8303)\" style=\"stroke:#000000; stroke-width:2; stroke-opacity:0.1; fill:none\" points=\"\n",
       "  188.156,786.726 2321.26,786.726 \n",
       "  \"/>\n",
       "<polyline clip-path=\"url(#clip8303)\" style=\"stroke:#000000; stroke-width:2; stroke-opacity:0.1; fill:none\" points=\"\n",
       "  188.156,448.568 2321.26,448.568 \n",
       "  \"/>\n",
       "<polyline clip-path=\"url(#clip8303)\" style=\"stroke:#000000; stroke-width:2; stroke-opacity:0.1; fill:none\" points=\"\n",
       "  188.156,110.411 2321.26,110.411 \n",
       "  \"/>\n",
       "<polyline clip-path=\"url(#clip8301)\" style=\"stroke:#000000; stroke-width:4; stroke-opacity:1; fill:none\" points=\"\n",
       "  188.156,1503.47 2321.26,1503.47 \n",
       "  \"/>\n",
       "<polyline clip-path=\"url(#clip8301)\" style=\"stroke:#000000; stroke-width:4; stroke-opacity:1; fill:none\" points=\"\n",
       "  188.156,1503.47 188.156,47.2441 \n",
       "  \"/>\n",
       "<polyline clip-path=\"url(#clip8301)\" style=\"stroke:#000000; stroke-width:4; stroke-opacity:1; fill:none\" points=\"\n",
       "  542.377,1503.47 542.377,1481.63 \n",
       "  \"/>\n",
       "<polyline clip-path=\"url(#clip8301)\" style=\"stroke:#000000; stroke-width:4; stroke-opacity:1; fill:none\" points=\"\n",
       "  1116.91,1503.47 1116.91,1481.63 \n",
       "  \"/>\n",
       "<polyline clip-path=\"url(#clip8301)\" style=\"stroke:#000000; stroke-width:4; stroke-opacity:1; fill:none\" points=\"\n",
       "  1691.44,1503.47 1691.44,1481.63 \n",
       "  \"/>\n",
       "<polyline clip-path=\"url(#clip8301)\" style=\"stroke:#000000; stroke-width:4; stroke-opacity:1; fill:none\" points=\"\n",
       "  2265.98,1503.47 2265.98,1481.63 \n",
       "  \"/>\n",
       "<polyline clip-path=\"url(#clip8301)\" style=\"stroke:#000000; stroke-width:4; stroke-opacity:1; fill:none\" points=\"\n",
       "  188.156,1463.04 220.153,1463.04 \n",
       "  \"/>\n",
       "<polyline clip-path=\"url(#clip8301)\" style=\"stroke:#000000; stroke-width:4; stroke-opacity:1; fill:none\" points=\"\n",
       "  188.156,1124.88 220.153,1124.88 \n",
       "  \"/>\n",
       "<polyline clip-path=\"url(#clip8301)\" style=\"stroke:#000000; stroke-width:4; stroke-opacity:1; fill:none\" points=\"\n",
       "  188.156,786.726 220.153,786.726 \n",
       "  \"/>\n",
       "<polyline clip-path=\"url(#clip8301)\" style=\"stroke:#000000; stroke-width:4; stroke-opacity:1; fill:none\" points=\"\n",
       "  188.156,448.568 220.153,448.568 \n",
       "  \"/>\n",
       "<polyline clip-path=\"url(#clip8301)\" style=\"stroke:#000000; stroke-width:4; stroke-opacity:1; fill:none\" points=\"\n",
       "  188.156,110.411 220.153,110.411 \n",
       "  \"/>\n",
       "<g clip-path=\"url(#clip8301)\">\n",
       "<text style=\"fill:#000000; fill-opacity:1; font-family:Arial,Helvetica Neue,Helvetica,sans-serif; font-size:48px; text-anchor:middle;\" transform=\"rotate(0, 542.377, 1557.47)\" x=\"542.377\" y=\"1557.47\">1.3</text>\n",
       "</g>\n",
       "<g clip-path=\"url(#clip8301)\">\n",
       "<text style=\"fill:#000000; fill-opacity:1; font-family:Arial,Helvetica Neue,Helvetica,sans-serif; font-size:48px; text-anchor:middle;\" transform=\"rotate(0, 1116.91, 1557.47)\" x=\"1116.91\" y=\"1557.47\">1.4</text>\n",
       "</g>\n",
       "<g clip-path=\"url(#clip8301)\">\n",
       "<text style=\"fill:#000000; fill-opacity:1; font-family:Arial,Helvetica Neue,Helvetica,sans-serif; font-size:48px; text-anchor:middle;\" transform=\"rotate(0, 1691.44, 1557.47)\" x=\"1691.44\" y=\"1557.47\">1.5</text>\n",
       "</g>\n",
       "<g clip-path=\"url(#clip8301)\">\n",
       "<text style=\"fill:#000000; fill-opacity:1; font-family:Arial,Helvetica Neue,Helvetica,sans-serif; font-size:48px; text-anchor:middle;\" transform=\"rotate(0, 2265.98, 1557.47)\" x=\"2265.98\" y=\"1557.47\">1.6</text>\n",
       "</g>\n",
       "<g clip-path=\"url(#clip8301)\">\n",
       "<text style=\"fill:#000000; fill-opacity:1; font-family:Arial,Helvetica Neue,Helvetica,sans-serif; font-size:48px; text-anchor:end;\" transform=\"rotate(0, 164.156, 1480.54)\" x=\"164.156\" y=\"1480.54\">2.25</text>\n",
       "</g>\n",
       "<g clip-path=\"url(#clip8301)\">\n",
       "<text style=\"fill:#000000; fill-opacity:1; font-family:Arial,Helvetica Neue,Helvetica,sans-serif; font-size:48px; text-anchor:end;\" transform=\"rotate(0, 164.156, 1142.38)\" x=\"164.156\" y=\"1142.38\">2.30</text>\n",
       "</g>\n",
       "<g clip-path=\"url(#clip8301)\">\n",
       "<text style=\"fill:#000000; fill-opacity:1; font-family:Arial,Helvetica Neue,Helvetica,sans-serif; font-size:48px; text-anchor:end;\" transform=\"rotate(0, 164.156, 804.226)\" x=\"164.156\" y=\"804.226\">2.35</text>\n",
       "</g>\n",
       "<g clip-path=\"url(#clip8301)\">\n",
       "<text style=\"fill:#000000; fill-opacity:1; font-family:Arial,Helvetica Neue,Helvetica,sans-serif; font-size:48px; text-anchor:end;\" transform=\"rotate(0, 164.156, 466.068)\" x=\"164.156\" y=\"466.068\">2.40</text>\n",
       "</g>\n",
       "<g clip-path=\"url(#clip8301)\">\n",
       "<text style=\"fill:#000000; fill-opacity:1; font-family:Arial,Helvetica Neue,Helvetica,sans-serif; font-size:48px; text-anchor:end;\" transform=\"rotate(0, 164.156, 127.911)\" x=\"164.156\" y=\"127.911\">2.45</text>\n",
       "</g>\n",
       "<polygon clip-path=\"url(#clip8303)\" points=\"\n",
       "2260.89,748.032 2102.69,354.414 2014.49,142.319 1988.58,88.4582 248.527,88.4582 248.527,808.679 252.849,826.273 275.952,858.861 513.568,1182.54 521.347,1187.79 \n",
       "  2235.86,1462.26 2260.89,1462.26 2260.89,748.032 2260.89,748.032 \n",
       "  \" fill=\"#009af9\" fill-rule=\"evenodd\" fill-opacity=\"1\"/>\n",
       "<polyline clip-path=\"url(#clip8303)\" style=\"stroke:#000000; stroke-width:4; stroke-opacity:1; fill:none\" points=\"\n",
       "  2260.89,748.032 2102.69,354.414 2014.49,142.319 1988.58,88.4582 248.527,88.4582 248.527,808.679 252.849,826.273 275.952,858.861 513.568,1182.54 521.347,1187.79 \n",
       "  2235.86,1462.26 2260.89,1462.26 2260.89,748.032 \n",
       "  \"/>\n",
       "<polygon clip-path=\"url(#clip8303)\" points=\"\n",
       "248.527,1462.26 2260.89,1462.26 2260.89,88.4582 248.527,88.4582 248.527,1462.26 248.527,1462.26 \n",
       "  \" fill=\"#e26f46\" fill-rule=\"evenodd\" fill-opacity=\"0.4\"/>\n",
       "<polyline clip-path=\"url(#clip8303)\" style=\"stroke:#000000; stroke-width:4; stroke-opacity:0.4; fill:none\" points=\"\n",
       "  248.527,1462.26 2260.89,1462.26 2260.89,88.4582 248.527,88.4582 248.527,1462.26 \n",
       "  \"/>\n",
       "</svg>\n"
      ]
     },
     "execution_count": 37,
     "metadata": {},
     "output_type": "execute_result"
    }
   ],
   "source": [
    "plot(R̂lin, 1e-3)\n",
    "plot!(R̂lin_rect, alpha=.4)"
   ]
  },
  {
   "cell_type": "markdown",
   "metadata": {},
   "source": [
    "With the possible range of values of $\\xi$, we use interval arithmetics to estimate the Lagrangians $L_i$ for $i = 1, 2$:"
   ]
  },
  {
   "cell_type": "code",
   "execution_count": 38,
   "metadata": {},
   "outputs": [
    {
     "data": {
      "text/plain": [
       "2×2 Array{IntervalArithmetic.Interval{Float64},2}:\n",
       " [0, 0]  [0, 0]\n",
       " [0, 0]  [0, 0]"
      ]
     },
     "execution_count": 38,
     "metadata": {},
     "output_type": "execute_result"
    }
   ],
   "source": [
    "Hf₁_box = map(Hf_ij -> evaluate(Hf_ij, ξ_box), Hf[1])"
   ]
  },
  {
   "cell_type": "code",
   "execution_count": 39,
   "metadata": {},
   "outputs": [
    {
     "data": {
      "text/plain": [
       "2×2 Array{IntervalArithmetic.Interval{Float64},2}:\n",
       " [-4.9065, -4.50023]     [-3.19823, -2.4977]\n",
       " [-3.19823, -2.4977]  [0, 0]                "
      ]
     },
     "execution_count": 39,
     "metadata": {},
     "output_type": "execute_result"
    }
   ],
   "source": [
    "Hf₂_box = map(Hf_ij -> evaluate(Hf_ij, ξ_box), Hf[2])"
   ]
  },
  {
   "cell_type": "markdown",
   "metadata": {},
   "source": [
    "Now we need to perform the left and right multiplication by $(x-\\tilde{x})$, where $\\tilde{x}$ is a known singleton and $x \\in \\bar{R}^{lin}$."
   ]
  },
  {
   "cell_type": "code",
   "execution_count": 40,
   "metadata": {},
   "outputs": [
    {
     "data": {
      "text/plain": [
       "[1.24885, 1.59912] × [2.25011, 2.45325]"
      ]
     },
     "execution_count": 40,
     "metadata": {},
     "output_type": "execute_result"
    }
   ],
   "source": [
    "R̂lin_box"
   ]
  },
  {
   "cell_type": "code",
   "execution_count": 41,
   "metadata": {},
   "outputs": [
    {
     "data": {
      "text/plain": [
       "[1.24885, 1.59912]"
      ]
     },
     "execution_count": 41,
     "metadata": {},
     "output_type": "execute_result"
    }
   ],
   "source": [
    "R̂lin_box[1]"
   ]
  },
  {
   "cell_type": "code",
   "execution_count": 42,
   "metadata": {},
   "outputs": [
    {
     "data": {
      "text/plain": [
       "[2.25011, 2.45325]"
      ]
     },
     "execution_count": 42,
     "metadata": {},
     "output_type": "execute_result"
    }
   ],
   "source": [
    "R̂lin_box[2]"
   ]
  },
  {
   "cell_type": "code",
   "execution_count": 43,
   "metadata": {},
   "outputs": [
    {
     "data": {
      "text/plain": [
       "Hyperrectangle{Float64}([1.42398, 2.35168], [0.17513, 0.101565])"
      ]
     },
     "execution_count": 43,
     "metadata": {},
     "output_type": "execute_result"
    }
   ],
   "source": [
    "R̂lin_rect"
   ]
  },
  {
   "cell_type": "code",
   "execution_count": 44,
   "metadata": {},
   "outputs": [
    {
     "data": {
      "text/plain": [
       "[-1.424, 1.59912] × [-2.36297, 2.45325]"
      ]
     },
     "execution_count": 44,
     "metadata": {},
     "output_type": "execute_result"
    }
   ],
   "source": [
    "x̃_minus_x = box_approximation(CH(R̂lin_rect, Singleton(-x̃)))\n",
    "x̃_minus_x = convert(IntervalBox, x̃_minus_x)"
   ]
  },
  {
   "cell_type": "code",
   "execution_count": 45,
   "metadata": {},
   "outputs": [
    {
     "data": {
      "text/plain": [
       "2-element Array{IntervalArithmetic.Interval{Float64},1}:\n",
       " [0, 0]\n",
       " [0, 0]"
      ]
     },
     "execution_count": 45,
     "metadata": {},
     "output_type": "execute_result"
    }
   ],
   "source": [
    "L1_right = [Hf₁_box[1, 1] * x̃_minus_x[1] + Hf₁_box[1, 2] * x̃_minus_x[2],\n",
    "            Hf₁_box[2, 1] * x̃_minus_x[1] + Hf₁_box[2, 2] * x̃_minus_x[2]]"
   ]
  },
  {
   "cell_type": "code",
   "execution_count": 46,
   "metadata": {},
   "outputs": [
    {
     "data": {
      "text/plain": [
       "[-2.36297, 2.45325]"
      ]
     },
     "execution_count": 46,
     "metadata": {},
     "output_type": "execute_result"
    }
   ],
   "source": [
    "x̃_minus_x[2]"
   ]
  },
  {
   "cell_type": "code",
   "execution_count": 47,
   "metadata": {},
   "outputs": [
    {
     "data": {
      "text/plain": [
       "2-element Array{IntervalArithmetic.Interval{Float64},1}:\n",
       " [-15.6921, 14.5442] \n",
       "  [-5.11434, 4.55428]"
      ]
     },
     "execution_count": 47,
     "metadata": {},
     "output_type": "execute_result"
    }
   ],
   "source": [
    "L2_right = [Hf₂_box[1, 1] * x̃_minus_x[1] + Hf₂_box[1, 2] * x̃_minus_x[2],\n",
    "            Hf₂_box[2, 1] * x̃_minus_x[1] + Hf₂_box[2, 2] * x̃_minus_x[2]]"
   ]
  },
  {
   "cell_type": "code",
   "execution_count": 48,
   "metadata": {},
   "outputs": [
    {
     "data": {
      "text/plain": [
       "[0, 0]"
      ]
     },
     "execution_count": 48,
     "metadata": {},
     "output_type": "execute_result"
    }
   ],
   "source": [
    "L1 = 1/2 * (x̃_minus_x[1] * L1_right[1] + x̃_minus_x[2] * L1_right[2])"
   ]
  },
  {
   "cell_type": "code",
   "execution_count": 49,
   "metadata": {},
   "outputs": [
    {
     "data": {
      "text/plain": [
       "[-18.8201, 17.6714]"
      ]
     },
     "execution_count": 49,
     "metadata": {},
     "output_type": "execute_result"
    }
   ],
   "source": [
    "L2 = 1/2 * (x̃_minus_x[1] * L2_right[1] + x̃_minus_x[2] * L2_right[2])"
   ]
  },
  {
   "cell_type": "code",
   "execution_count": 50,
   "metadata": {},
   "outputs": [
    {
     "data": {
      "text/plain": [
       "Hyperrectangle{Float64}([0.0, -0.574364], [0.0, 18.2457])"
      ]
     },
     "execution_count": 50,
     "metadata": {},
     "output_type": "execute_result"
    }
   ],
   "source": [
    "L_box = IntervalBox(L1, L2)\n",
    "L = convert(Hyperrectangle, L_box)"
   ]
  },
  {
   "cell_type": "code",
   "execution_count": 51,
   "metadata": {},
   "outputs": [
    {
     "data": {
      "text/plain": [
       "18.2457090129616"
      ]
     },
     "execution_count": 51,
     "metadata": {},
     "output_type": "execute_result"
    }
   ],
   "source": [
    "LazySets.radius(L)"
   ]
  },
  {
   "cell_type": "code",
   "execution_count": 52,
   "metadata": {},
   "outputs": [
    {
     "data": {
      "text/plain": [
       "Interval{Float64,IntervalArithmetic.Interval{Float64}}([-15.6921, 14.5442])"
      ]
     },
     "execution_count": 52,
     "metadata": {},
     "output_type": "execute_result"
    }
   ],
   "source": [
    "i1 = LazySets.Interval(Hf₂_box[1, 1] * x̃_minus_x[1])\n",
    "i2 = LazySets.Interval(Hf₂_box[1, 2] * x̃_minus_x[2])\n",
    "overapproximate(i1 ⊕ i2, Interval) "
   ]
  },
  {
   "cell_type": "markdown",
   "metadata": {},
   "source": [
    "Now we try the zonotopic overapproximation from [Prop. 3.7, 1]. First we need to convert `R̂lin_rect` (cf. $\\hat{Z}$ in that reference) to a zonotope:"
   ]
  },
  {
   "cell_type": "code",
   "execution_count": 53,
   "metadata": {},
   "outputs": [
    {
     "data": {
      "text/plain": [
       "Zonotope{Float64}([1.42398, 2.35168], [0.17513 0.0; 0.0 0.101565])"
      ]
     },
     "execution_count": 53,
     "metadata": {},
     "output_type": "execute_result"
    }
   ],
   "source": [
    "R̂lin_zono = convert(Zonotope, R̂lin_rect)"
   ]
  },
  {
   "cell_type": "code",
   "execution_count": 54,
   "metadata": {},
   "outputs": [
    {
     "data": {
      "text/plain": [
       "2×1 Array{Float64,2}:\n",
       " 0.1751457657037332 \n",
       " 0.11284444073051958"
      ]
     },
     "execution_count": 54,
     "metadata": {},
     "output_type": "execute_result"
    }
   ],
   "source": [
    "γ = abs.(R̂lin_zono.center - x̃) + sum(abs.(R̂lin_zono.generators), dims=2)"
   ]
  },
  {
   "cell_type": "code",
   "execution_count": 55,
   "metadata": {},
   "outputs": [
    {
     "data": {
      "text/plain": [
       "[1.24885, 1.59912] × [2.25011, 2.45325]"
      ]
     },
     "execution_count": 55,
     "metadata": {},
     "output_type": "execute_result"
    }
   ],
   "source": [
    "ξ_box"
   ]
  },
  {
   "cell_type": "code",
   "execution_count": 56,
   "metadata": {},
   "outputs": [],
   "source": [
    "G = [sup.(abs.(Hf₁_box)),\n",
    "     sup.(abs.(Hf₂_box))];"
   ]
  },
  {
   "cell_type": "code",
   "execution_count": 57,
   "metadata": {},
   "outputs": [
    {
     "data": {
      "text/plain": [
       "2×2 Array{Float64,2}:\n",
       " 0.0  0.0\n",
       " 0.0  0.0"
      ]
     },
     "execution_count": 57,
     "metadata": {},
     "output_type": "execute_result"
    }
   ],
   "source": [
    "G[1]"
   ]
  },
  {
   "cell_type": "code",
   "execution_count": 58,
   "metadata": {},
   "outputs": [
    {
     "data": {
      "text/plain": [
       "2×2 Array{Float64,2}:\n",
       " 4.90649  3.19823\n",
       " 3.19823  0.0    "
      ]
     },
     "execution_count": 58,
     "metadata": {},
     "output_type": "execute_result"
    }
   ],
   "source": [
    "G[2]"
   ]
  },
  {
   "cell_type": "code",
   "execution_count": 59,
   "metadata": {},
   "outputs": [
    {
     "data": {
      "text/plain": [
       "2-element Array{Float64,1}:\n",
       " 0.0                \n",
       " 0.13846637725396366"
      ]
     },
     "execution_count": 59,
     "metadata": {},
     "output_type": "execute_result"
    }
   ],
   "source": [
    "li_zono = [(1/2 * transpose(γ) * G[i] * γ)[1, 1] for i in 1:2]"
   ]
  },
  {
   "cell_type": "markdown",
   "metadata": {},
   "source": [
    "The Lagrange remainder obtained with the zonotope method is finally:"
   ]
  },
  {
   "cell_type": "code",
   "execution_count": 60,
   "metadata": {},
   "outputs": [
    {
     "data": {
      "text/plain": [
       "Hyperrectangle{Float64}([0.0, 0.0], [0.0, 0.138466])"
      ]
     },
     "execution_count": 60,
     "metadata": {},
     "output_type": "execute_result"
    }
   ],
   "source": [
    "L_zono = Hyperrectangle(zeros(2), li_zono)"
   ]
  },
  {
   "cell_type": "code",
   "execution_count": 61,
   "metadata": {},
   "outputs": [
    {
     "data": {
      "text/plain": [
       "Hyperrectangle{Float64}([0.0, -0.574364], [0.0, 18.2457])"
      ]
     },
     "execution_count": 61,
     "metadata": {},
     "output_type": "execute_result"
    }
   ],
   "source": [
    "L"
   ]
  },
  {
   "cell_type": "markdown",
   "metadata": {},
   "source": [
    "We observe that the set computed using zonotopes is much tighter than the set using interval arithmetic naively."
   ]
  },
  {
   "cell_type": "markdown",
   "metadata": {},
   "source": [
    "### Inclusion check"
   ]
  },
  {
   "cell_type": "code",
   "execution_count": 62,
   "metadata": {},
   "outputs": [
    {
     "data": {
      "text/plain": [
       "Hyperrectangle{Float64}([0.0, 0.0], [0.0504888, 0.0543809])"
      ]
     },
     "execution_count": 62,
     "metadata": {},
     "output_type": "execute_result"
    }
   ],
   "source": [
    "L̄"
   ]
  },
  {
   "cell_type": "code",
   "execution_count": 63,
   "metadata": {
    "scrolled": true
   },
   "outputs": [
    {
     "data": {
      "text/plain": [
       "false"
      ]
     },
     "execution_count": 63,
     "metadata": {},
     "output_type": "execute_result"
    }
   ],
   "source": [
    "L ⊆ L̄"
   ]
  },
  {
   "cell_type": "code",
   "execution_count": 64,
   "metadata": {},
   "outputs": [
    {
     "data": {
      "text/plain": [
       "false"
      ]
     },
     "execution_count": 64,
     "metadata": {},
     "output_type": "execute_result"
    }
   ],
   "source": [
    "L_zono ⊆ L̄"
   ]
  },
  {
   "cell_type": "markdown",
   "metadata": {},
   "source": [
    "- if $L \\subseteq \\bar{L}$, then the linearization error is accepted and the reachable set is obtained by superposition of the reachable set without linearization error and the one due to the linearization error: $\\mathcal{R}(\\delta) = \\mathcal{R}^{lin}(\\delta) + \\mathcal{R}^{err}$ and $\\mathcal{R}([0, \\delta]) = \\mathcal{R}^{lin}([0, \\delta]) + \\mathcal{R}^{err}$\n",
    "\n",
    "- otherwise, the linearization error is not admissible, requiring the initial reachable set $\\mathcal{R}((k-1)\\delta))$; for the first step $X_0$ to be split into two reachable sets. Then we perform the reachable set computations for both of the newly obtained sets once more."
   ]
  },
  {
   "cell_type": "markdown",
   "metadata": {},
   "source": [
    "This operation is performed in the follow-up notebook `ZonotopesNonlinearReachAlgorithm`."
   ]
  }
 ],
 "metadata": {
  "kernelspec": {
   "display_name": "Julia 1.1.0-rc2",
   "language": "julia",
   "name": "julia-1.1"
  },
  "language_info": {
   "file_extension": ".jl",
   "mimetype": "application/julia",
   "name": "julia",
   "version": "1.1.0"
  }
 },
 "nbformat": 4,
 "nbformat_minor": 2
}
