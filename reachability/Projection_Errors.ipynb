{
 "cells": [
  {
   "cell_type": "code",
   "execution_count": 3,
   "metadata": {},
   "outputs": [
    {
     "name": "stderr",
     "output_type": "stream",
     "text": [
      "┌ Info: Recompiling stale cache file /Users/mforets/.julia/compiled/v1.2/Revise/M1Qoh.ji for Revise [295af30f-e4ad-537b-8983-00126c2a3abe]\n",
      "└ @ Base loading.jl:1240\n",
      "┌ Info: Recompiling stale cache file /Users/mforets/.julia/compiled/v1.2/Reachability/CHV4V.ji for Reachability [774a0091-654f-5c65-bbdc-ad5b67b45832]\n",
      "└ @ Base loading.jl:1240\n"
     ]
    }
   ],
   "source": [
    "using Revise, Reachability, LazySets, MathematicalSystems"
   ]
  },
  {
   "cell_type": "markdown",
   "metadata": {},
   "source": [
    "## UndefVarError in projection matrix"
   ]
  },
  {
   "cell_type": "code",
   "execution_count": 35,
   "metadata": {},
   "outputs": [],
   "source": [
    "A = rand(4, 4)\n",
    "S = LinearContinuousSystem(A)\n",
    "X0 = rand(Hyperrectangle, dim=4)\n",
    "M = rand(2, 4)\n",
    "P = InitialValueProblem(S, X0)\n",
    "opts = Options(:T=>1.0, :project_reachset=>true, :projection_matrix=>M)\n",
    "opts_algo = Options(:δ=>0.1, :vars=>[1, 2]);"
   ]
  },
  {
   "cell_type": "code",
   "execution_count": 37,
   "metadata": {},
   "outputs": [
    {
     "ename": "UndefVarError",
     "evalue": "UndefVarError: projection_matrix not defined",
     "output_type": "error",
     "traceback": [
      "UndefVarError: projection_matrix not defined",
      "",
      "Stacktrace:",
      " [1] project_reach(::Array{SparseReachSet{CartesianProductArray{Float64,LazySet{Float64}}},1}, ::Array{Int64,1}, ::Reachability.TwoLayerOptions) at /Users/mforets/.julia/dev/Reachability/src/ReachSets/project_reach.jl:60",
      " [2] project(::Array{SparseReachSet{CartesianProductArray{Float64,LazySet{Float64}}},1}, ::Reachability.TwoLayerOptions) at /Users/mforets/.julia/dev/Reachability/src/ReachSets/project_reach.jl:117",
      " [3] macro expansion at /Users/mforets/.julia/dev/Reachability/src/logging.jl:83 [inlined]",
      " [4] post(::BFFPSV18, ::InitialValueProblem{ConstrainedLinearContinuousSystem{Float64,Array{Float64,2},Universe{Float64}},Hyperrectangle{Float64,Array{Float64,1},Array{Float64,1}}}, ::Options) at /Users/mforets/.julia/dev/Reachability/src/ReachSets/ContinuousPost/BFFPSV18/BFFPSV18.jl:258",
      " [5] #solve!#40(::BFFPSV18, ::typeof(Reachability.solve!), ::InitialValueProblem{LinearContinuousSystem{Float64,Array{Float64,2}},Hyperrectangle{Float64,Array{Float64,1},Array{Float64,1}}}, ::Options) at /Users/mforets/.julia/dev/Reachability/src/solve.jl:74",
      " [6] #solve#39 at ./none:0 [inlined]",
      " [7] (::getfield(Reachability, Symbol(\"#kw##solve\")))(::NamedTuple{(:op,),Tuple{BFFPSV18}}, ::typeof(solve), ::InitialValueProblem{LinearContinuousSystem{Float64,Array{Float64,2}},Hyperrectangle{Float64,Array{Float64,1},Array{Float64,1}}}, ::Options) at ./none:0",
      " [8] top-level scope at In[37]:1"
     ]
    }
   ],
   "source": [
    "# this should work as projection matrix is defined in src/options/default_options.jl\n",
    "solve(P, opts, op=BFFPSV18(opts_algo))"
   ]
  },
  {
   "cell_type": "markdown",
   "metadata": {},
   "source": [
    "## MethodError if projection matrix is passed in the incorrect options structure"
   ]
  },
  {
   "cell_type": "code",
   "execution_count": 38,
   "metadata": {},
   "outputs": [
    {
     "name": "stdout",
     "output_type": "stream",
     "text": [
      "\u001b[35m[warn] illegal option ':projection_matrix' detected; option will be ignored\u001b[39m\n"
     ]
    },
    {
     "ename": "MethodError",
     "evalue": "MethodError: no method matching ReachSolution(::Array{ReachSet{#s220} where #s220<:(Hyperrectangle{Float64,VNC,VNR} where VNR<:AbstractArray{Float64,1} where VNC<:AbstractArray{Float64,1}),1}, ::Options)\nClosest candidates are:\n  ReachSolution(!Matched::Array{RSN<:AbstractReachSet{SN},1}, ::Reachability.AbstractOptions) where {SN, RSN<:AbstractReachSet{SN}} at /Users/mforets/.julia/dev/Reachability/src/ReachSets/ReachSolution.jl:13",
     "output_type": "error",
     "traceback": [
      "MethodError: no method matching ReachSolution(::Array{ReachSet{#s220} where #s220<:(Hyperrectangle{Float64,VNC,VNR} where VNR<:AbstractArray{Float64,1} where VNC<:AbstractArray{Float64,1}),1}, ::Options)\nClosest candidates are:\n  ReachSolution(!Matched::Array{RSN<:AbstractReachSet{SN},1}, ::Reachability.AbstractOptions) where {SN, RSN<:AbstractReachSet{SN}} at /Users/mforets/.julia/dev/Reachability/src/ReachSets/ReachSolution.jl:13",
      "",
      "Stacktrace:",
      " [1] post(::BFFPSV18, ::InitialValueProblem{ConstrainedLinearContinuousSystem{Float64,Array{Float64,2},Universe{Float64}},Hyperrectangle{Float64,Array{Float64,1},Array{Float64,1}}}, ::Options) at /Users/mforets/.julia/dev/Reachability/src/ReachSets/ContinuousPost/BFFPSV18/BFFPSV18.jl:263",
      " [2] #solve!#40(::BFFPSV18, ::typeof(Reachability.solve!), ::InitialValueProblem{LinearContinuousSystem{Float64,Array{Float64,2}},Hyperrectangle{Float64,Array{Float64,1},Array{Float64,1}}}, ::Options) at /Users/mforets/.julia/dev/Reachability/src/solve.jl:74",
      " [3] #solve#39 at ./none:0 [inlined]",
      " [4] (::getfield(Reachability, Symbol(\"#kw##solve\")))(::NamedTuple{(:op,),Tuple{BFFPSV18}}, ::typeof(solve), ::InitialValueProblem{LinearContinuousSystem{Float64,Array{Float64,2}},Hyperrectangle{Float64,Array{Float64,1},Array{Float64,1}}}, ::Options) at ./none:0",
      " [5] top-level scope at In[38]:3"
     ]
    }
   ],
   "source": [
    "# the warning is correct, but note that a MethodError is triggered\n",
    "opts = Options(:T=>1.0, :project_reachset=>true)\n",
    "opts_algo = Options(:δ=>0.1, :vars=>[1, 2], :projection_matrix=>M);\n",
    "solve(P, opts, op=BFFPSV18(opts_algo))"
   ]
  },
  {
   "cell_type": "markdown",
   "metadata": {},
   "source": [
    "## Inconsistency in parsing the projection options"
   ]
  },
  {
   "cell_type": "code",
   "execution_count": 45,
   "metadata": {},
   "outputs": [],
   "source": [
    "A = rand(4, 4)\n",
    "S = LinearContinuousSystem(A)\n",
    "X0 = rand(Hyperrectangle, dim=4)\n",
    "M = rand(2, 4)\n",
    "P = InitialValueProblem(S, X0)\n",
    "opts = Options(:T=>1.0, :project_reachset=>false, :projection_matrix=>M)\n",
    "opts_algo = Options(:δ=>0.1, :vars=>[1, 2]);"
   ]
  },
  {
   "cell_type": "code",
   "execution_count": 47,
   "metadata": {
    "scrolled": true
   },
   "outputs": [
    {
     "ename": "AssertionError",
     "evalue": "AssertionError: a linear map of size (2, 4) cannot be applied to a set of dimension 2",
     "output_type": "error",
     "traceback": [
      "AssertionError: a linear map of size (2, 4) cannot be applied to a set of dimension 2",
      "",
      "Stacktrace:",
      " [1] macro expansion at /Users/mforets/.julia/dev/LazySets/src/Assertions/Assertions.jl:23 [inlined]",
      " [2] LazySets.LinearMap(::Array{Float64,2}, ::CartesianProductArray{Float64,LazySet{Float64}}) at /Users/mforets/.julia/dev/LazySets/src/LazyOperations/LinearMap.jl:104",
      " [3] *(::Array{Float64,2}, ::CartesianProductArray{Float64,LazySet{Float64}}) at /Users/mforets/.julia/dev/LazySets/src/LazyOperations/LinearMap.jl:129",
      " [4] (::getfield(Reachability.ReachSets, Symbol(\"##47#51\")){Reachability.TwoLayerOptions})(::CartesianProductArray{Float64,LazySet{Float64}}) at /Users/mforets/.julia/dev/Reachability/src/ReachSets/ContinuousPost/BFFPSV18/reach.jl:74",
      " [5] reach_blocks!(::Array{Float64,2}, ::Array{LazySet{Float64},1}, ::Nothing, ::getfield(Reachability.ReachSets, Symbol(\"##48#52\")){Array{Type{#s123} where #s123<:LazySet,1}}, ::getfield(Reachability.ReachSets, Symbol(\"##50#54\")), ::Int64, ::Int64, ::getfield(Reachability.ReachSets, Symbol(\"##47#51\")){Reachability.TwoLayerOptions}, ::Array{Int64,1}, ::Array{Int64,1}, ::Array{Int64,1}, ::Float64, ::getfield(Reachability.ReachSets, Symbol(\"##58#59\")){Int64}, ::ProgressMeter.Progress, ::Array{SparseReachSet{Hyperrectangle{Float64,Array{Float64,1},Array{Float64,1}}},1}) at /Users/mforets/.julia/dev/Reachability/src/ReachSets/ContinuousPost/BFFPSV18/reach_blocks.jl:153",
      " [6] macro expansion at /Users/mforets/.julia/dev/Reachability/src/ReachSets/ContinuousPost/BFFPSV18/reach.jl:194 [inlined]",
      " [7] macro expansion at /Users/mforets/.julia/dev/Reachability/src/logging.jl:83 [inlined]",
      " [8] reach(::InitialValueProblem{ConstrainedLinearDiscreteSystem{Float64,Array{Float64,2},Universe{Float64}},ConvexHull{Float64,Hyperrectangle{Float64,Array{Float64,1},Array{Float64,1}},MinkowskiSum{Float64,LazySets.LinearMap{Float64,Hyperrectangle{Float64,Array{Float64,1},Array{Float64,1}},Float64,Array{Float64,2}},Hyperrectangle{Float64,Array{Float64,1},Array{Float64,1}}}}}, ::Reachability.TwoLayerOptions) at /Users/mforets/.julia/dev/Reachability/src/ReachSets/ContinuousPost/BFFPSV18/reach.jl:193",
      " [9] reach(::InitialValueProblem{ConstrainedLinearContinuousSystem{Float64,Array{Float64,2},Universe{Float64}},Hyperrectangle{Float64,Array{Float64,1},Array{Float64,1}}}, ::Reachability.TwoLayerOptions) at /Users/mforets/.julia/dev/Reachability/src/ReachSets/ContinuousPost/BFFPSV18/reach.jl:217",
      " [10] macro expansion at /Users/mforets/.julia/dev/Reachability/src/ReachSets/ContinuousPost/BFFPSV18/BFFPSV18.jl:251 [inlined]",
      " [11] post(::BFFPSV18, ::InitialValueProblem{ConstrainedLinearContinuousSystem{Float64,Array{Float64,2},Universe{Float64}},Hyperrectangle{Float64,Array{Float64,1},Array{Float64,1}}}, ::Options) at /Users/mforets/.julia/dev/Reachability/src/ReachSets/ContinuousPost/BFFPSV18/BFFPSV18.jl:250",
      " [12] #solve!#40(::BFFPSV18, ::typeof(Reachability.solve!), ::InitialValueProblem{LinearContinuousSystem{Float64,Array{Float64,2}},Hyperrectangle{Float64,Array{Float64,1},Array{Float64,1}}}, ::Options) at /Users/mforets/.julia/dev/Reachability/src/solve.jl:74",
      " [13] #solve#39 at ./none:0 [inlined]",
      " [14] (::getfield(Reachability, Symbol(\"#kw##solve\")))(::NamedTuple{(:op,),Tuple{BFFPSV18}}, ::typeof(solve), ::InitialValueProblem{LinearContinuousSystem{Float64,Array{Float64,2}},Hyperrectangle{Float64,Array{Float64,1},Array{Float64,1}}}, ::Options) at ./none:0",
      " [15] top-level scope at In[47]:1"
     ]
    }
   ],
   "source": [
    "# here i expect that solve works, by ignoring M, since project_reachset is FALSE\n",
    "# at least, a better error message should be sent\n",
    "solve(P, opts, op=BFFPSV18(opts_algo))"
   ]
  }
 ],
 "metadata": {
  "kernelspec": {
   "display_name": "Julia 1.2.0",
   "language": "julia",
   "name": "julia-1.2"
  },
  "language_info": {
   "file_extension": ".jl",
   "mimetype": "application/julia",
   "name": "julia",
   "version": "1.2.0"
  }
 },
 "nbformat": 4,
 "nbformat_minor": 2
}
