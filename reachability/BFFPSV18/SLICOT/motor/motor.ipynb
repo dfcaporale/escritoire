{
 "cells": [
  {
   "cell_type": "code",
   "execution_count": 1,
   "metadata": {},
   "outputs": [
    {
     "data": {
      "text/plain": [
       "add_time! (generic function with 1 method)"
      ]
     },
     "execution_count": 1,
     "metadata": {},
     "output_type": "execute_result"
    }
   ],
   "source": [
    "include(\"../../BFFPSV18.jl\")"
   ]
  },
  {
   "cell_type": "markdown",
   "metadata": {},
   "source": [
    "## Model"
   ]
  },
  {
   "cell_type": "code",
   "execution_count": null,
   "metadata": {},
   "outputs": [],
   "source": [
    "# ===================================\n",
    "# Model: Motor (8 variables, 2 inputs)\n",
    "# ===================================\n",
    "\n",
    "using SparseArrays\n",
    "\n",
    "# =====================\n",
    "# Problem specification\n",
    "# =====================\n",
    "I = [1, 2, 2, 3, 3, 3, 3, 4, 5, 6, 6, 7, 7, 7, 7, 8]\n",
    "J = [2, 3, 2, 1, 2, 3, 4, 1, 6, 7, 6, 5, 6, 7, 8, 5]\n",
    "vals = [1, 8487.2, -1.0865, -2592.1, -21.119, -698.91, -141399.0, 1.0, 1.0,\n",
    "       8487.2, -1.0865, -2592.1, -21.119, -698.91, -141399.0, 1.0]\n",
    "A = sparse(I, J, vals)\n",
    "\n",
    "# initial set\n",
    "X0 = Hyperrectangle([0.00225, 0.0, 0.0, 0.0, 0.00125, 0.0, 0.0, 0.0],\n",
    "                    [0.00025, 0.0, 0.0, 0.0, 0.00025, 0.0, 0.0, 0.0])\n",
    "\n",
    "# input set\n",
    "B = sparse([4, 8], [1, 2], [-1.0, -1.0])\n",
    "U = Hyperrectangle([0.23, 0.3], [0.07, 0.1])\n",
    "\n",
    "# instantiate continuous LTI system\n",
    "S = ConstrainedLinearControlContinuousSystem(A, B, nothing, U)\n",
    "P = InitialValueProblem(S, X0)"
   ]
  },
  {
   "cell_type": "markdown",
   "metadata": {},
   "source": [
    "## Reach"
   ]
  },
  {
   "cell_type": "markdown",
   "metadata": {},
   "source": [
    "### Solution with upstream implementation"
   ]
  },
  {
   "cell_type": "code",
   "execution_count": null,
   "metadata": {},
   "outputs": [],
   "source": [
    "# uniform, 2D partition\n",
    "partition_2D = [(2*i-1:2*i) for i in 1:4] # 2D blocks"
   ]
  },
  {
   "cell_type": "code",
   "execution_count": null,
   "metadata": {},
   "outputs": [],
   "source": [
    "opts = Options(:T => 20.0, :plot_vars => [0, 5])\n",
    "opts_algo = Options(:δ => 0.001, :vars => [5], :partition=>partition_2D)"
   ]
  },
  {
   "cell_type": "code",
   "execution_count": null,
   "metadata": {},
   "outputs": [],
   "source": [
    "sol = solve(P, opts, op=BFFPSV18(opts_algo));"
   ]
  },
  {
   "cell_type": "code",
   "execution_count": null,
   "metadata": {},
   "outputs": [],
   "source": [
    "using BenchmarkTools"
   ]
  },
  {
   "cell_type": "code",
   "execution_count": null,
   "metadata": {},
   "outputs": [],
   "source": [
    "@btime solve($P, $opts, op=BFFPSV18($opts_algo));"
   ]
  },
  {
   "cell_type": "code",
   "execution_count": null,
   "metadata": {},
   "outputs": [],
   "source": [
    "using Plots"
   ]
  },
  {
   "cell_type": "code",
   "execution_count": null,
   "metadata": {},
   "outputs": [],
   "source": [
    "# plot(sol, xlab=\"t\", ylab=\"x5\") # uncomment to plot (Jupyter notebook gets slowed down with large figures)"
   ]
  },
  {
   "cell_type": "markdown",
   "metadata": {},
   "source": [
    "### Solution with revised implementation"
   ]
  },
  {
   "cell_type": "code",
   "execution_count": null,
   "metadata": {},
   "outputs": [],
   "source": [
    "S = LinearContinuousSystem(MMatrix{8, 8, Float64}(A))\n",
    "P = InitialValueProblem(S, X0)\n",
    "\n",
    "# UNIFORM 1D partition\n",
    "opts = Options(:T => 20.0,\n",
    "               :δ => 0.001,\n",
    "               :N => 20_000,  # el N se puede sacar de T y de delta\n",
    "               :vars=>[5],\n",
    "               :partition => [[1], [2], [3], [4], [5], [6], [7], [8]],\n",
    "               :set_type => Interval{Float64, IA.Interval{Float64}},\n",
    "               :row_blocks => [[5]],\n",
    "               :column_blocks => [[1], [2], [3], [4], [5], [6], [7], [8]],\n",
    "               :num_type => Float64,\n",
    "               :block_indices => [5]);\n",
    "# varias de las opciones anteriores se pueden deducir de otras!"
   ]
  },
  {
   "cell_type": "code",
   "execution_count": null,
   "metadata": {},
   "outputs": [],
   "source": [
    "sol = solve_BFFPSV18(P, opts);"
   ]
  },
  {
   "cell_type": "code",
   "execution_count": null,
   "metadata": {},
   "outputs": [],
   "source": [
    "@btime solve_BFFPSV18($P, $opts);\n",
    "#\n",
    "\n",
    "# some results:\n",
    "# homogeneous case (no input)  85.737 ms (100333 allocations: 4.30 MiB)\n",
    "#\n",
    "#"
   ]
  },
  {
   "cell_type": "code",
   "execution_count": null,
   "metadata": {},
   "outputs": [],
   "source": [
    "set(sol[1])"
   ]
  },
  {
   "cell_type": "code",
   "execution_count": null,
   "metadata": {},
   "outputs": [],
   "source": [
    "# add time as the first variable\n",
    "add_time!(sol)"
   ]
  },
  {
   "cell_type": "code",
   "execution_count": null,
   "metadata": {},
   "outputs": [],
   "source": [
    "set(sol[1])"
   ]
  },
  {
   "cell_type": "code",
   "execution_count": null,
   "metadata": {},
   "outputs": [],
   "source": [
    "# slow (there are 20 thousand sets to plot)\n",
    "# plot([set(sol[i]) for i in eachindex(sol)], xlab=\"t\", ylab=\"x5\")"
   ]
  },
  {
   "cell_type": "markdown",
   "metadata": {},
   "source": [
    "## Check"
   ]
  },
  {
   "cell_type": "code",
   "execution_count": null,
   "metadata": {},
   "outputs": [],
   "source": [
    "# property: x1 < 0.35 || x5 < 0.45\n",
    "property = Disjunction([SafeStatesProperty(HalfSpace([1.; zeros(7)], 0.35)),\n",
    "                        SafeStatesProperty(HalfSpace([zeros(4); 1.; zeros(3)], 0.45))])"
   ]
  },
  {
   "cell_type": "code",
   "execution_count": null,
   "metadata": {},
   "outputs": [],
   "source": [
    "opts = Options(:plot_vars => [0, 5], :property => property)\n",
    "opts_algo = Options(:vars => [5], :partition => partition_2D)"
   ]
  },
  {
   "cell_type": "code",
   "execution_count": null,
   "metadata": {},
   "outputs": [],
   "source": []
  },
  {
   "cell_type": "code",
   "execution_count": null,
   "metadata": {},
   "outputs": [],
   "source": []
  },
  {
   "cell_type": "code",
   "execution_count": null,
   "metadata": {},
   "outputs": [],
   "source": []
  },
  {
   "cell_type": "markdown",
   "metadata": {},
   "source": [
    "# Results"
   ]
  },
  {
   "cell_type": "markdown",
   "metadata": {},
   "source": [
    "```julia\n",
    "julia> versioninfo()\n",
    "\n",
    "Julia Version 1.2.0\n",
    "Commit c6da87ff4b (2019-08-20 00:03 UTC)\n",
    "Platform Info:\n",
    "  OS: Windows (x86_64-w64-mingw32)\n",
    "  CPU: Intel(R) Core(TM) i7-8705G CPU @ 3.10GHz\n",
    "  WORD_SIZE: 64\n",
    "  LIBM: libopenlibm\n",
    "  LLVM: libLLVM-6.0.1 (ORCJIT, skylake)\n",
    "```\n"
   ]
  },
  {
   "cell_type": "markdown",
   "metadata": {},
   "source": [
    "## Reach algorithm"
   ]
  },
  {
   "cell_type": "markdown",
   "metadata": {},
   "source": [
    "### All variables"
   ]
  },
  {
   "cell_type": "markdown",
   "metadata": {},
   "source": [
    "\n",
    "|Algorithm|Partition|Set type|Runtime (ms) and Allocations|Speedup|\n",
    "|------|-----------|------|------|------|\n",
    "|upstream|2d uni|hyperrectangle| 895.893 ms (2000539 allocations: 106.88 MiB)|1x|\n",
    "|upstream|1d uni|interval|||\n",
    "|local|2d uni|hyperrectangle|||\n",
    "|local|1d uni| interval|||\n",
    "|local, w/sarray|1d uni| interval|||"
   ]
  },
  {
   "cell_type": "markdown",
   "metadata": {},
   "source": [
    "The speedup is measured wrt the fastest upstream method, in this case interval."
   ]
  },
  {
   "cell_type": "markdown",
   "metadata": {},
   "source": [
    "### One variable"
   ]
  },
  {
   "cell_type": "markdown",
   "metadata": {},
   "source": [
    "## Check algorithm"
   ]
  },
  {
   "cell_type": "code",
   "execution_count": null,
   "metadata": {},
   "outputs": [],
   "source": []
  },
  {
   "cell_type": "code",
   "execution_count": null,
   "metadata": {},
   "outputs": [],
   "source": []
  }
 ],
 "metadata": {
  "kernelspec": {
   "display_name": "Julia 1.2.0",
   "language": "julia",
   "name": "julia-1.2"
  },
  "language_info": {
   "file_extension": ".jl",
   "mimetype": "application/julia",
   "name": "julia",
   "version": "1.2.0"
  }
 },
 "nbformat": 4,
 "nbformat_minor": 2
}
