{
 "cells": [
  {
   "cell_type": "code",
   "execution_count": 1,
   "metadata": {},
   "outputs": [
    {
     "name": "stderr",
     "output_type": "stream",
     "text": [
      "┌ Info: Recompiling stale cache file C:\\Users\\marce\\.julia\\compiled\\v1.2\\Reachability\\CHV4V.ji for Reachability [774a0091-654f-5c65-bbdc-ad5b67b45832]\n",
      "└ @ Base loading.jl:1240\n"
     ]
    },
    {
     "data": {
      "text/plain": [
       "add_time! (generic function with 2 methods)"
      ]
     },
     "execution_count": 1,
     "metadata": {},
     "output_type": "execute_result"
    }
   ],
   "source": [
    "include(\"../../BFFPSV18.jl\")"
   ]
  },
  {
   "cell_type": "markdown",
   "metadata": {},
   "source": [
    "## Model"
   ]
  },
  {
   "cell_type": "code",
   "execution_count": 26,
   "metadata": {},
   "outputs": [
    {
     "data": {
      "text/plain": [
       "SafeStatesProperty{Float64}(HalfSpace{Float64,SparseVector{Float64,Int64}}(  [1  ]  =  2.0\n",
       "  [2  ]  =  -3.0, 450.8), Float64[])"
      ]
     },
     "execution_count": 26,
     "metadata": {},
     "output_type": "execute_result"
    }
   ],
   "source": [
    "# ==========================================\n",
    "# Model: CD-Player (120 variables, 2 inputs)\n",
    "# ==========================================\n",
    "\n",
    "using SparseArrays, MAT\n",
    "\n",
    "# =====================\n",
    "# Problem specification\n",
    "# =====================\n",
    "file = matopen(\"cdplayer.mat\")\n",
    "A = read(file, \"A\")\n",
    "\n",
    "# initial set\n",
    "X0 = BallInf(zeros(120), 1.0)\n",
    "\n",
    "# input set\n",
    "B = read(file, \"B\")\n",
    "U = BallInf([0.0, 0.0], 1.0)\n",
    "\n",
    "# instantiate continuous LTI system\n",
    "S = ConstrainedLinearControlContinuousSystem(A, B, nothing, U)\n",
    "P = InitialValueProblem(S, X0)\n",
    "\n",
    "# prpoperty: 2*x1 -3*x2 < 450.8\n",
    "property = SafeStatesProperty(HalfSpace(sparsevec([1, 2], [2., -3.], 120), 450.8))"
   ]
  },
  {
   "cell_type": "markdown",
   "metadata": {},
   "source": [
    "## Reach"
   ]
  },
  {
   "cell_type": "code",
   "execution_count": 63,
   "metadata": {},
   "outputs": [],
   "source": [
    "partition_xD = [(10i+1):10(i+1) for i in 0:5] # 3D blocks\n",
    "partition_2D = [(2*i-1:2*i) for i in 1:60] # 2D blocks\n",
    "partition_1D = [[i] for i in 1:120]; # 1D blocks"
   ]
  },
  {
   "cell_type": "code",
   "execution_count": 69,
   "metadata": {},
   "outputs": [
    {
     "ename": "UndefVarError",
     "evalue": "UndefVarError: i not defined",
     "output_type": "error",
     "traceback": [
      "UndefVarError: i not defined",
      "",
      "Stacktrace:",
      " [1] top-level scope at In[69]:1"
     ]
    }
   ],
   "source": [
    "(10i+1):10(i+1)"
   ]
  },
  {
   "cell_type": "code",
   "execution_count": 64,
   "metadata": {},
   "outputs": [
    {
     "data": {
      "text/plain": [
       "Options(Dict{Symbol,Any}(:vars => [1],:partition => UnitRange{Int64}[1:10, 11:20, 21:30, 31:40, 41:50, 51:60],:assume_sparse => true,:δ => 0.001))"
      ]
     },
     "execution_count": 64,
     "metadata": {},
     "output_type": "execute_result"
    }
   ],
   "source": [
    "opts = Options(:T => 20.0,  :plot_vars => [0, 1])\n",
    "opts_algo = Options(:δ => 0.001, :vars => [1], :partition => partition_2D, :assume_sparse => true)"
   ]
  },
  {
   "cell_type": "markdown",
   "metadata": {},
   "source": [
    "### One variable"
   ]
  },
  {
   "cell_type": "code",
   "execution_count": 67,
   "metadata": {},
   "outputs": [
    {
     "name": "stderr",
     "output_type": "stream",
     "text": [
      "\u001b[32mComputing successors 100%|██████████████████████████████| Time: 0:00:01\u001b[39m\n"
     ]
    }
   ],
   "source": [
    "sol = solve(P, opts, op=BFFPSV18(opts_algo));"
   ]
  },
  {
   "cell_type": "code",
   "execution_count": 68,
   "metadata": {},
   "outputs": [
    {
     "name": "stderr",
     "output_type": "stream",
     "text": [
      "\u001b[32mComputing successors 100%|██████████████████████████████| Time: 0:00:01\u001b[39m\n",
      "\u001b[32mComputing successors 100%|██████████████████████████████| Time: 0:00:01\u001b[39m\n",
      "\u001b[32mComputing successors 100%|██████████████████████████████| Time: 0:00:01\u001b[39m\n",
      "\u001b[32mComputing successors 100%|██████████████████████████████| Time: 0:00:01\u001b[39m\n",
      "\u001b[32mComputing successors 100%|██████████████████████████████| Time: 0:00:01\u001b[39m\n",
      "\u001b[32mComputing successors 100%|██████████████████████████████| Time: 0:00:01\u001b[39m\n",
      "\u001b[32mComputing successors 100%|██████████████████████████████| Time: 0:00:01\u001b[39m\n",
      "\u001b[32mComputing successors 100%|██████████████████████████████| Time: 0:00:01\u001b[39m\n"
     ]
    },
    {
     "name": "stdout",
     "output_type": "stream",
     "text": [
      "  2.197 s (3042475 allocations: 842.82 MiB)\n"
     ]
    }
   ],
   "source": [
    "@btime solve($P, $opts, op=BFFPSV18($opts_algo));"
   ]
  },
  {
   "cell_type": "code",
   "execution_count": null,
   "metadata": {},
   "outputs": [],
   "source": [
    "# 2D, sparse: 940.583 ms (5963491 allocations: 736.43 MiB)\n",
    "# 2D, dense: 10.543 s (13125383 allocations: 902.78 MiB)\n",
    "\n",
    "# 1D, sparse:  1.510 s (903552 allocations: 336.36 MiB)\n",
    "# 1D, dense: 11.270 s (29525662 allocations: 1.51 GiB)"
   ]
  },
  {
   "cell_type": "markdown",
   "metadata": {},
   "source": [
    "### All variables"
   ]
  },
  {
   "cell_type": "code",
   "execution_count": null,
   "metadata": {},
   "outputs": [],
   "source": []
  },
  {
   "cell_type": "markdown",
   "metadata": {},
   "source": [
    "### Solution with local implementation"
   ]
  },
  {
   "cell_type": "code",
   "execution_count": null,
   "metadata": {},
   "outputs": [],
   "source": [
    "# UNIFORM 1D partition\n",
    "opts = Options(:T => 20.0,\n",
    "               :δ => 0.001,\n",
    "               :N => 20_000,  # el N se puede sacar de T y de delta\n",
    "               :vars=>[5],\n",
    "               :partition => partition_1D,\n",
    "               :set_type => Interval{Float64, IA.Interval{Float64}},\n",
    "               :row_blocks => [[5]],\n",
    "               :column_blocks => partition_1D,\n",
    "               :num_type => Float64,\n",
    "               :block_indices => [5]);\n",
    "# varias de las opciones anteriores se pueden deducir de otras!"
   ]
  },
  {
   "cell_type": "code",
   "execution_count": null,
   "metadata": {},
   "outputs": [],
   "source": [
    "sol = solve_BFFPSV18(P, opts);"
   ]
  },
  {
   "cell_type": "code",
   "execution_count": null,
   "metadata": {},
   "outputs": [],
   "source": [
    "@btime solve_BFFPSV18($P, $opts);"
   ]
  },
  {
   "cell_type": "markdown",
   "metadata": {},
   "source": [
    "### One variable"
   ]
  },
  {
   "cell_type": "code",
   "execution_count": null,
   "metadata": {},
   "outputs": [],
   "source": []
  },
  {
   "cell_type": "code",
   "execution_count": null,
   "metadata": {},
   "outputs": [],
   "source": []
  },
  {
   "cell_type": "code",
   "execution_count": null,
   "metadata": {},
   "outputs": [],
   "source": []
  },
  {
   "cell_type": "markdown",
   "metadata": {},
   "source": [
    "### All variables"
   ]
  },
  {
   "cell_type": "code",
   "execution_count": null,
   "metadata": {},
   "outputs": [],
   "source": []
  },
  {
   "cell_type": "code",
   "execution_count": null,
   "metadata": {},
   "outputs": [],
   "source": []
  },
  {
   "cell_type": "code",
   "execution_count": null,
   "metadata": {},
   "outputs": [],
   "source": []
  },
  {
   "cell_type": "markdown",
   "metadata": {},
   "source": [
    "## Results"
   ]
  },
  {
   "cell_type": "code",
   "execution_count": null,
   "metadata": {},
   "outputs": [],
   "source": []
  },
  {
   "cell_type": "code",
   "execution_count": null,
   "metadata": {},
   "outputs": [],
   "source": []
  },
  {
   "cell_type": "code",
   "execution_count": null,
   "metadata": {},
   "outputs": [],
   "source": []
  },
  {
   "cell_type": "code",
   "execution_count": null,
   "metadata": {},
   "outputs": [],
   "source": []
  },
  {
   "cell_type": "code",
   "execution_count": null,
   "metadata": {},
   "outputs": [],
   "source": []
  },
  {
   "cell_type": "code",
   "execution_count": null,
   "metadata": {},
   "outputs": [],
   "source": []
  },
  {
   "cell_type": "code",
   "execution_count": null,
   "metadata": {},
   "outputs": [],
   "source": []
  },
  {
   "cell_type": "code",
   "execution_count": null,
   "metadata": {},
   "outputs": [],
   "source": []
  },
  {
   "cell_type": "code",
   "execution_count": null,
   "metadata": {},
   "outputs": [],
   "source": []
  },
  {
   "cell_type": "code",
   "execution_count": null,
   "metadata": {},
   "outputs": [],
   "source": []
  },
  {
   "cell_type": "code",
   "execution_count": null,
   "metadata": {},
   "outputs": [],
   "source": []
  },
  {
   "cell_type": "code",
   "execution_count": null,
   "metadata": {},
   "outputs": [],
   "source": []
  },
  {
   "cell_type": "code",
   "execution_count": null,
   "metadata": {},
   "outputs": [],
   "source": []
  },
  {
   "cell_type": "code",
   "execution_count": null,
   "metadata": {},
   "outputs": [],
   "source": []
  },
  {
   "cell_type": "markdown",
   "metadata": {},
   "source": [
    "## Check"
   ]
  },
  {
   "cell_type": "code",
   "execution_count": null,
   "metadata": {},
   "outputs": [],
   "source": [
    "problem_options = Options(:vars => [1, 2],\n",
    "                                  :partition => partition,\n",
    "                                  :property => property,\n",
    "                                  :assume_sparse => true)"
   ]
  }
 ],
 "metadata": {
  "kernelspec": {
   "display_name": "Julia 1.2.0",
   "language": "julia",
   "name": "julia-1.2"
  },
  "language_info": {
   "file_extension": ".jl",
   "mimetype": "application/julia",
   "name": "julia",
   "version": "1.2.0"
  }
 },
 "nbformat": 4,
 "nbformat_minor": 2
}
