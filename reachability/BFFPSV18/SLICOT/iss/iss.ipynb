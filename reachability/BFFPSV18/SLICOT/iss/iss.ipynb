{
 "cells": [
  {
   "cell_type": "code",
   "execution_count": 1,
   "metadata": {},
   "outputs": [
    {
     "name": "stderr",
     "output_type": "stream",
     "text": [
      "\u001b[1m\u001b[36mINFO: \u001b[39m\u001b[22m\u001b[36mRecompiling stale cache file /Users/forets/.julia/lib/v0.6/Reachability.ji for module Reachability.\n",
      "\u001b[39mWARNING: Method definition midpoints(Base.Range{T} where T) in module Base at deprecated.jl:56 overwritten in module StatsBase at /Users/forets/.julia/v0.6/StatsBase/src/hist.jl:535.\n",
      "WARNING: Method definition midpoints(AbstractArray{T, 1} where T) in module Base at deprecated.jl:56 overwritten in module StatsBase at /Users/forets/.julia/v0.6/StatsBase/src/hist.jl:533.\n"
     ]
    }
   ],
   "source": [
    "using Reachability, MAT, Plots, TimeIt"
   ]
  },
  {
   "cell_type": "code",
   "execution_count": 2,
   "metadata": {},
   "outputs": [],
   "source": [
    "# model's file\n",
    "file = matopen(\"iss.mat\")\n",
    "\n",
    "# coefficients matrix\n",
    "A = read(file, \"A\")\n",
    "\n",
    "# initial set: -0.0001 <= xi <= 0.0001 for all i\n",
    "X0 = BallInf(zeros(size(A, 1)), .0001) \n",
    "\n",
    "# input set\n",
    "U0 = CartesianProductArray([BallInf([0.05], .05), BallInf([0.9], .1), BallInf([0.95], .05)])\n",
    "B = read(file, \"B\")\n",
    "U = B * U0\n",
    "\n",
    "# create continuous LTI system\n",
    "S = ContinuousSystem(A, X0, U);"
   ]
  },
  {
   "cell_type": "markdown",
   "metadata": {},
   "source": [
    "## Single block analysis\n",
    "\n",
    "Reach set for the variable `x182`."
   ]
  },
  {
   "cell_type": "code",
   "execution_count": 8,
   "metadata": {},
   "outputs": [
    {
     "name": "stdout",
     "output_type": "stream",
     "text": [
      "\u001b[32m[info] Time discretization...\n",
      "\u001b[39m\u001b[32m[info] elapsed time: 0.184515031 seconds\n",
      "\u001b[39m\u001b[32m[info] Reachable States Computation...\n",
      "\u001b[39m\u001b[32m[info] elapsed time: 5.799258575 seconds\n",
      "\u001b[39m\u001b[32m[info] Projection...\n",
      "\u001b[39m\u001b[32m[info] elapsed time: 0.452318528 seconds\n",
      "\u001b[39m"
     ]
    }
   ],
   "source": [
    "options = Options(:mode => \"reach\",\n",
    "                  :blocks => [@block_id(182)],\n",
    "                  :assume_sparse => true,\n",
    "                  :plot_vars => [0, 182],\n",
    "                  :δ=>1e-3, :T=>20.0, :verbosity=>1,\n",
    "                  :set_type=>Hyperrectangle);\n",
    "result = solve(S, options);"
   ]
  },
  {
   "cell_type": "code",
   "execution_count": 9,
   "metadata": {},
   "outputs": [
    {
     "name": "stdout",
     "output_type": "stream",
     "text": [
      "\u001b[32m[info] Time discretization...\n",
      "\u001b[39m\u001b[32m[info] elapsed time: 0.177223251 seconds\n",
      "\u001b[39m\u001b[32m[info] Reachable States Computation...\n",
      "\u001b[39m\u001b[32m[info] elapsed time: 7.500932972 seconds\n",
      "\u001b[39m\u001b[32m[info] Projection...\n",
      "\u001b[39m\u001b[32m[info] elapsed time: 0.956075694 seconds\n",
      "\u001b[39m"
     ]
    }
   ],
   "source": [
    "options = Options(:mode => \"reach\",\n",
    "                  :blocks => [@block_id(182)],\n",
    "                  :assume_sparse => true,\n",
    "                  :plot_vars => [0, 182],\n",
    "                  :δ=>1e-3, :T=>20.0, :verbosity=>1,\n",
    "                  :set_type=>HPolygon);\n",
    "result = solve(S, options);"
   ]
  },
  {
   "cell_type": "markdown",
   "metadata": {},
   "source": [
    "## Mutiple block analysis\n",
    "\n",
    "Reach set for the variables involved in the property `y < 7e-4`."
   ]
  },
  {
   "cell_type": "code",
   "execution_count": 10,
   "metadata": {},
   "outputs": [
    {
     "name": "stdout",
     "output_type": "stream",
     "text": [
      "\u001b[32m[info] Time discretization...\n",
      "\u001b[39m\u001b[32m[info] elapsed time: 0.190144477 seconds\n",
      "\u001b[39m\u001b[32m[info] Reachable States Computation...\n",
      "\u001b[39m\u001b[32m[info] elapsed time: 398.653120625 seconds\n",
      "\u001b[39m\u001b[32m[info] Projection...\n",
      "\u001b[39m\u001b[32m[info] elapsed time: 9.837316642 seconds\n",
      "\u001b[39m"
     ]
    }
   ],
   "source": [
    "options = Options(:mode => \"reach\",\n",
    "                  :blocks => 68:135, # blocks needed for property\n",
    "                  :assume_sparse => true,\n",
    "                  :plot_vars => [0, 182],\n",
    "                  :δ=>1e-3, :T=>20.0, :verbosity=>1,\n",
    "                  :property=>LinearConstraintProperty(read(matopen(\"out.mat\"), \"M\")[1,:], 7e-4),\n",
    "                  :set_type=>Hyperrectangle)\n",
    "result = solve(S, options);"
   ]
  },
  {
   "cell_type": "code",
   "execution_count": null,
   "metadata": {},
   "outputs": [],
   "source": []
  }
 ],
 "metadata": {
  "kernelspec": {
   "display_name": "Julia 0.6.1",
   "language": "julia",
   "name": "julia-0.6"
  },
  "language_info": {
   "file_extension": ".jl",
   "mimetype": "application/julia",
   "name": "julia",
   "version": "0.6.1"
  }
 },
 "nbformat": 4,
 "nbformat_minor": 2
}
