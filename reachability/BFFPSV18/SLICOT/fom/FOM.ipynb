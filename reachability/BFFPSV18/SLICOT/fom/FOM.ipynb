{
 "cells": [
  {
   "cell_type": "code",
   "execution_count": 1,
   "metadata": {},
   "outputs": [],
   "source": [
    "using Reachability, MAT, Plots"
   ]
  },
  {
   "cell_type": "code",
   "execution_count": 2,
   "metadata": {},
   "outputs": [
    {
     "data": {
      "text/plain": [
       "fom (generic function with 2 methods)"
      ]
     },
     "execution_count": 2,
     "metadata": {},
     "output_type": "execute_result"
    }
   ],
   "source": [
    "include(\"fom.jl\")"
   ]
  },
  {
   "cell_type": "code",
   "execution_count": 27,
   "metadata": {},
   "outputs": [
    {
     "name": "stdout",
     "output_type": "stream",
     "text": [
      "\u001b[32m[info] Time discretization...\n",
      "\u001b[39m\u001b[32m[info] elapsed time: 25.525401776 seconds\n",
      "\u001b[39m\u001b[32m[info] Property Checking...\n",
      "\u001b[39m\u001b[32m[info] - Decomposing X0\n",
      "\u001b[39m\u001b[32m[info] elapsed time: 8.276572176 seconds\n",
      "\u001b[39m\u001b[32m[info] - Computing successors\n",
      "\u001b[39m"
     ]
    },
    {
     "name": "stderr",
     "output_type": "stream",
     "text": [
      "\u001b[32mComputing successors   7%|██                            |  ETA: 0:11:59\u001b[39m"
     ]
    },
    {
     "name": "stdout",
     "output_type": "stream",
     "text": [
      "\u001b[32m[info] elapsed time: 50.370812608 seconds\n",
      "\u001b[39m\u001b[32m[info] - Total\n",
      "\u001b[39m\u001b[32m[info] elapsed time: 58.651227919 seconds\n",
      "\u001b[39m\u001b[32m[info] The property may be violated at index 326, (time point 0.326)!\n",
      "\u001b[39m"
     ]
    },
    {
     "data": {
      "text/plain": [
       "Reachability.CheckSolution(false, 326, Reachability.Options(Dict{Symbol,Any}(Pair{Symbol,Any}(:property, Reachability.Properties.LinearConstraintProperty{Float64}(Reachability.Properties.Clause{Float64}[Reachability.Properties.Clause{Float64}(LazySets.HalfSpace{Float64}[LazySets.HalfSpace{Float64}([10.0, 10.0, 10.0, 10.0, 10.0, 10.0, 1.0, 1.0, 1.0, 1.0  …  1.0, 1.0, 1.0, 1.0, 1.0, 1.0, 1.0, 1.0, 1.0, 1.0], 185.0)])])),Pair{Symbol,Any}(:set_type_init, LazySets.Hyperrectangle),Pair{Symbol,Any}(:ε_proj, Inf),Pair{Symbol,Any}(:n, 1006),Pair{Symbol,Any}(:verbosity, 1),Pair{Symbol,Any}(:assume_sparse, true),Pair{Symbol,Any}(:blocks, [1, 2, 3, 4, 5, 6, 7, 8, 9, 10  …  494, 495, 496, 497, 498, 499, 500, 501, 502, 503]),Pair{Symbol,Any}(:set_type_iter, LazySets.Hyperrectangle),Pair{Symbol,Any}(:apply_projection, true),Pair{Symbol,Any}(:coordinate_transformation, \"\")…)))"
      ]
     },
     "execution_count": 27,
     "metadata": {},
     "output_type": "execute_result"
    }
   ],
   "source": [
    "(S, options) = fom(:mode=>\"check\", :δ=>1e-3, :T=>5.0,\n",
    "                   :verbosity=>1);  # uses 2D blocks\n",
    "\n",
    "sol = solve(S, options);"
   ]
  },
  {
   "cell_type": "code",
   "execution_count": 28,
   "metadata": {},
   "outputs": [
    {
     "name": "stdout",
     "output_type": "stream",
     "text": [
      "\u001b[32m[info] Time discretization...\n",
      "\u001b[39m\u001b[32m[info] elapsed time: 24.995465369 seconds\n",
      "\u001b[39m\u001b[32m[info] Property Checking...\n",
      "\u001b[39m\u001b[32m[info] - Decomposing X0\n",
      "\u001b[39m\u001b[32m[info] elapsed time: 8.194537551 seconds\n",
      "\u001b[39m\u001b[32m[info] - Computing successors\n",
      "\u001b[39m"
     ]
    },
    {
     "name": "stderr",
     "output_type": "stream",
     "text": [
      "\u001b[32mComputing successors   6%|██                            |  ETA: 0:07:24\u001b[39m"
     ]
    },
    {
     "name": "stdout",
     "output_type": "stream",
     "text": [
      "\u001b[32m[info] elapsed time: 31.459553741 seconds\n",
      "\u001b[39m\u001b[32m[info] - Total\n",
      "\u001b[39m\u001b[32m[info] elapsed time: 39.727273628 seconds\n",
      "\u001b[39m\u001b[32m[info] The property may be violated at index 325, (time point 0.325)!\n",
      "\u001b[39m"
     ]
    },
    {
     "data": {
      "text/plain": [
       "Reachability.CheckSolution(false, 325, Reachability.Options(Dict{Symbol,Any}(Pair{Symbol,Any}(:property, Reachability.Properties.LinearConstraintProperty{Float64}(Reachability.Properties.Clause{Float64}[Reachability.Properties.Clause{Float64}(LazySets.HalfSpace{Float64}[LazySets.HalfSpace{Float64}([10.0, 10.0, 10.0, 10.0, 10.0, 10.0, 1.0, 1.0, 1.0, 1.0  …  1.0, 1.0, 1.0, 1.0, 1.0, 1.0, 1.0, 1.0, 1.0, 1.0], 185.0)])])),Pair{Symbol,Any}(:set_type_init, LazySets.Hyperrectangle),Pair{Symbol,Any}(:ε_proj, Inf),Pair{Symbol,Any}(:n, 1006),Pair{Symbol,Any}(:verbosity, 1),Pair{Symbol,Any}(:assume_sparse, true),Pair{Symbol,Any}(:blocks, [1, 2, 3, 4, 5, 6, 7, 8, 9, 10  …  997, 998, 999, 1000, 1001, 1002, 1003, 1004, 1005, 1006]),Pair{Symbol,Any}(:set_type_iter, LazySets.Hyperrectangle),Pair{Symbol,Any}(:apply_projection, true),Pair{Symbol,Any}(:coordinate_transformation, \"\")…)))"
      ]
     },
     "execution_count": 28,
     "metadata": {},
     "output_type": "execute_result"
    }
   ],
   "source": [
    "(S, options) = fom(:mode=>\"check\", :δ=>1e-3, :T=>5.0,\n",
    "                   :partition=>[[i] for i in 1:1006], # use intervals\n",
    "                   :verbosity=>1);\n",
    "\n",
    "sol = solve(S, options);"
   ]
  },
  {
   "cell_type": "code",
   "execution_count": null,
   "metadata": {},
   "outputs": [],
   "source": [
    "(S, options) = fom(:mode=>\"check\", :δ=>6e-4, :T=>5.0,\n",
    "                   :lazy_inputs_interval=>4000,\n",
    "                   :partition=>[[i] for i in 1:1006], # use intervals\n",
    "                   :verbosity=>1);\n",
    "\n",
    "sol = solve(S, options);"
   ]
  }
 ],
 "metadata": {
  "kernelspec": {
   "display_name": "Julia 0.6.1",
   "language": "julia",
   "name": "julia-0.6"
  },
  "language_info": {
   "file_extension": ".jl",
   "mimetype": "application/julia",
   "name": "julia",
   "version": "0.6.1"
  }
 },
 "nbformat": 4,
 "nbformat_minor": 2
}
