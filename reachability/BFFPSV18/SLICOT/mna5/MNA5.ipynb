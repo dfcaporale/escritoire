{
 "cells": [
  {
   "cell_type": "code",
   "execution_count": 3,
   "metadata": {},
   "outputs": [
    {
     "data": {
      "text/plain": [
       "mna5 (generic function with 2 methods)"
      ]
     },
     "execution_count": 3,
     "metadata": {},
     "output_type": "execute_result"
    }
   ],
   "source": [
    "#=\n",
    "Model: MNA_5 (10913 variables, 9 inputs)\n",
    "=#\n",
    "using Reachability, MAT\n",
    "\n",
    "mna5(o::Pair{Symbol, <:Any}...) = mna5(Options(Dict{Symbol, Any}(o)))\n",
    "\n",
    "function mna5(input_options::Options)\n",
    "    # =====================\n",
    "    # Problem specification\n",
    "    # =====================\n",
    "    file = matopen(\"mna5.mat\")\n",
    "    A = sparse(read(file, \"A\"))\n",
    "\n",
    "    # initial set:\n",
    "    X0 = Hyperrectangle([fill(0.000225, 10); zeros(10903)],\n",
    "                        [fill(0.000025, 10); zeros(10903)])\n",
    "\n",
    "    # input set\n",
    "    B = sparse(19:27, 1:9, fill(-1., 9), size(A, 1), 9)\n",
    "    U = B * Hyperrectangle([fill(0.1, 5); fill(0.2, 4)], zeros(9))\n",
    "\n",
    "    # instantiate continuous LTI system\n",
    "    S = ContinuousSystem(A, X0, U)\n",
    "\n",
    "    # property: x1 < 0.2 && x2 < 0.15\n",
    "    property = LinearConstraintProperty([\n",
    "        Clause([LinearConstraint(sparsevec([1], [1.0], 10913), 0.2)]),\n",
    "        Clause([LinearConstraint(sparsevec([2], [1.0], 10913), 0.15)])])\n",
    "\n",
    "    # =======================\n",
    "    # Problem default options\n",
    "    # =======================\n",
    "    # 2D blocks except for the last block, which is 1D\n",
    "    partition = vcat([(2*i-1:2*i) for i in 1:5456], [10913:10913])\n",
    "\n",
    "    if input_options[:mode] == \"reach\"\n",
    "        problem_options = Options(:vars => [1],\n",
    "                                  :partition => partition,\n",
    "                                  :plot_vars => [0, 1],\n",
    "                                  :assume_sparse => true,\n",
    "                                  :lazy_expm => true)\n",
    "\n",
    "    elseif input_options[:mode] == \"check\"\n",
    "        problem_options = Options(:vars => [1, 2],\n",
    "                                  :partition => partition,\n",
    "                                  :property => property,\n",
    "                                  :assume_sparse => true,\n",
    "                                  :lazy_expm => true)\n",
    "    end\n",
    "\n",
    "    return (S, merge(problem_options, input_options))\n",
    "end"
   ]
  },
  {
   "cell_type": "code",
   "execution_count": 9,
   "metadata": {},
   "outputs": [
    {
     "name": "stdout",
     "output_type": "stream",
     "text": [
      "  0.008737 seconds (196 allocations: 3.330 MiB, 77.07% gc time)\n"
     ]
    }
   ],
   "source": [
    "@time p, opts = mna5(:δ => 1e-3, :N => 3, :mode=>\"reach\", :verbosity => \"info\"); # warm-up"
   ]
  },
  {
   "cell_type": "code",
   "execution_count": 10,
   "metadata": {},
   "outputs": [
    {
     "name": "stdout",
     "output_type": "stream",
     "text": [
      "\u001b[32m[info] Time discretization...\n",
      "\u001b[39m\u001b[32m[info] elapsed time: 496.390988934 seconds\n",
      "\u001b[39m\u001b[32m[info] Reachable States Computation...\n",
      "\u001b[39m\u001b[32m[info] - Decomposing X0\n",
      "\u001b[39m\u001b[32m[info] elapsed time: 548.882165666 seconds\n",
      "\u001b[39m\u001b[32m[info] - Computing successors\n",
      "\u001b[39m\u001b[32m[info] elapsed time: 2.325836262 seconds\n",
      "\u001b[39m\u001b[32m[info] - Total\n",
      "\u001b[39m\u001b[32m[info] elapsed time: 552.554339634 seconds\n",
      "\u001b[39m\u001b[32m[info] Projection...\n",
      "\u001b[39m\u001b[32m[info] elapsed time: 0.414895677 seconds\n",
      "\u001b[39m1057.147102 seconds (22.82 M allocations: 277.874 GiB, 2.46% gc time)\n"
     ]
    }
   ],
   "source": [
    "@time sol = solve(p, opts);"
   ]
  },
  {
   "cell_type": "code",
   "execution_count": 11,
   "metadata": {},
   "outputs": [],
   "source": [
    "using Plots"
   ]
  },
  {
   "cell_type": "code",
   "execution_count": null,
   "metadata": {},
   "outputs": [],
   "source": [
    "plot(sol)"
   ]
  },
  {
   "cell_type": "code",
   "execution_count": null,
   "metadata": {},
   "outputs": [],
   "source": []
  }
 ],
 "metadata": {
  "kernelspec": {
   "display_name": "Julia 0.6.1",
   "language": "julia",
   "name": "julia-0.6"
  },
  "language_info": {
   "file_extension": ".jl",
   "mimetype": "application/julia",
   "name": "julia",
   "version": "0.6.1"
  }
 },
 "nbformat": 4,
 "nbformat_minor": 2
}
