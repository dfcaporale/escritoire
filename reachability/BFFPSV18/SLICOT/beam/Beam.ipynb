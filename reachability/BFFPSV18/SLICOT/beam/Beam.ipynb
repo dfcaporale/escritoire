{
 "cells": [
  {
   "cell_type": "code",
   "execution_count": null,
   "metadata": {},
   "outputs": [],
   "source": [
    "#=\n",
    "Model: beam.jl\n",
    "\n",
    "This is a 348-variable model.\n",
    "=#\n",
    "using Reachability, MAT, Plots\n",
    "\n",
    "compute(o::Pair{Symbol,<:Any}...) = compute(Options(Dict{Symbol,Any}(o)))\n",
    "\n",
    "function compute(input_options::Options)\n",
    "\n",
    "    # =====================\n",
    "    # Problem specification\n",
    "    # =====================\n",
    "    file = matopen(\"beam.mat\")\n",
    "    A = read(file, \"A\")\n",
    "\n",
    "    # initial set\n",
    "    # - x1-x300 are 0.0,\n",
    "    # - the rest is in [0.002, 0.0015]\n",
    "    X0 = Hyperrectangle([zeros(300); fill(0.00175, 48)], [zeros(300); fill(0.00025, 48)])\n",
    "\n",
    "    # input set\n",
    "    B = read(file, \"B\")\n",
    "    U = B * BallInf([0.5], 0.3)\n",
    "\n",
    "    # instantiate continuous LTI system\n",
    "    S = ContinuousSystem(A, X0, U)\n",
    "\n",
    "    # ===============\n",
    "    # Problem solving\n",
    "    # ===============\n",
    "    if input_options[:mode] == \"reach\"\n",
    "        problem_options = Options(:vars => [89],\n",
    "                                  :partition => [(2*i-1:2*i) for i in 1:174],\n",
    "                                  :plot_vars => [0, 89])\n",
    "\n",
    "    elseif input_options[:mode] == \"check\"\n",
    "        problem_options = Options(:vars => [89],\n",
    "                                  :partition => [(2*i-1:2*i) for i in 1:174],\n",
    "                                  :property => LinearConstraintProperty(sparsevec([89], [1.0], 348), 2100.)) # x89 < 2100\n",
    "    end\n",
    "\n",
    "    result = solve(S, merge(problem_options, input_options))\n",
    "\n",
    "end # function\n",
    "\n",
    "result = compute(:δ => 1e-3, :N => 3, :mode=>\"reach\", :verbosity => \"info\");"
   ]
  },
  {
   "cell_type": "code",
   "execution_count": 3,
   "metadata": {},
   "outputs": [
    {
     "name": "stdout",
     "output_type": "stream",
     "text": [
      "\u001b[32m[info] Time discretization...\n",
      "\u001b[39m\u001b[32m[info] elapsed time: 0.69622387 seconds\n",
      "\u001b[39m\u001b[32m[info] Reachable States Computation...\n",
      "\u001b[39m\u001b[32m[info] - Decomposing X0\n",
      "\u001b[39m\u001b[32m[info] elapsed time: 0.304857921 seconds\n",
      "\u001b[39m\u001b[32m[info] - Computing successors\n",
      "\u001b[39m\u001b[32m[info] elapsed time: 39.14303081 seconds\n",
      "\u001b[39m\u001b[32m[info] - Total\n",
      "\u001b[39m\u001b[32m[info] elapsed time: 39.452327539 seconds\n",
      "\u001b[39m\u001b[32m[info] Projection...\n",
      "\u001b[39m\u001b[32m[info] elapsed time: 0.231624087 seconds\n",
      "\u001b[39m 40.383651 seconds (74.96 M allocations: 25.261 GiB, 8.43% gc time)\n"
     ]
    }
   ],
   "source": [
    "@time compute(:δ => 1e-3, :T => 20.0, :mode=>\"reach\", :verbosity => \"info\"); # benchmark settings (long)"
   ]
  },
  {
   "cell_type": "code",
   "execution_count": null,
   "metadata": {},
   "outputs": [],
   "source": []
  },
  {
   "cell_type": "markdown",
   "metadata": {},
   "source": [
    "In `mforets/27`:\n",
    "\n",
    "```julia\n",
    "[info] Time discretization...\n",
    "[info] elapsed time: 0.85341034 seconds\n",
    "[info] Reachable States Computation...\n",
    "[info] - Decomposing X0\n",
    "[info] elapsed time: 0.267330009 seconds\n",
    "[info] - Computing successors\n",
    "[info] elapsed time: 40.629711488 seconds\n",
    "[info] - Total\n",
    "[info] elapsed time: 40.898961112 seconds\n",
    "[info] Projection...\n",
    "[info] elapsed time: 0.224151163 seconds\n",
    " 41.985923 seconds (74.92 M allocations: 7.216 GiB, 6.28% gc time)\n",
    "```\n",
    "\n",
    "In `master`:\n",
    "\n",
    "```julia\n",
    "[info] Time discretization...\n",
    "[info] elapsed time: 0.69622387 seconds\n",
    "[info] Reachable States Computation...\n",
    "[info] - Decomposing X0\n",
    "[info] elapsed time: 0.304857921 seconds\n",
    "[info] - Computing successors\n",
    "[info] elapsed time: 39.14303081 seconds\n",
    "[info] - Total\n",
    "[info] elapsed time: 39.452327539 seconds\n",
    "[info] Projection...\n",
    "[info] elapsed time: 0.231624087 seconds\n",
    " 40.383651 seconds (74.96 M allocations: 25.261 GiB, 8.43% gc time)\n",
    "```"
   ]
  },
  {
   "cell_type": "code",
   "execution_count": null,
   "metadata": {},
   "outputs": [],
   "source": []
  }
 ],
 "metadata": {
  "kernelspec": {
   "display_name": "Julia 0.6.1",
   "language": "julia",
   "name": "julia-0.6"
  },
  "language_info": {
   "file_extension": ".jl",
   "mimetype": "application/julia",
   "name": "julia",
   "version": "0.6.1"
  }
 },
 "nbformat": 4,
 "nbformat_minor": 2
}
