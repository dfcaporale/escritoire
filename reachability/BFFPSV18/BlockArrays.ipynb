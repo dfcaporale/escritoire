{
 "cells": [
  {
   "cell_type": "code",
   "execution_count": 1,
   "metadata": {},
   "outputs": [],
   "source": [
    "using BlockArrays"
   ]
  },
  {
   "cell_type": "code",
   "execution_count": 2,
   "metadata": {},
   "outputs": [
    {
     "data": {
      "text/plain": [
       "2×2-blocked 4×4 BlockArray{Float64,2}:\n",
       " 0.896502  0.784559   │  0.327262   0.325753\n",
       " 0.735495  0.446902   │  0.368187   0.215745\n",
       " ─────────────────────┼─────────────────────\n",
       " 0.313646  0.712828   │  0.745333   0.591883\n",
       " 0.483306  0.0937295  │  0.0443354  0.742027"
      ]
     },
     "execution_count": 2,
     "metadata": {},
     "output_type": "execute_result"
    }
   ],
   "source": [
    "b = BlockArray(rand(4, 4), [2,2], [2, 2])"
   ]
  },
  {
   "cell_type": "code",
   "execution_count": 3,
   "metadata": {},
   "outputs": [
    {
     "data": {
      "text/plain": [
       "2×2 Array{Float64,2}:\n",
       " 0.896502  0.784559\n",
       " 0.735495  0.446902"
      ]
     },
     "execution_count": 3,
     "metadata": {},
     "output_type": "execute_result"
    }
   ],
   "source": [
    "b[Block(1, 1)]"
   ]
  },
  {
   "cell_type": "code",
   "execution_count": 4,
   "metadata": {},
   "outputs": [
    {
     "data": {
      "text/plain": [
       "2×2 Array{Float64,2}:\n",
       " 0.745333   0.591883\n",
       " 0.0443354  0.742027"
      ]
     },
     "execution_count": 4,
     "metadata": {},
     "output_type": "execute_result"
    }
   ],
   "source": [
    "b[Block(2, 2)]"
   ]
  },
  {
   "cell_type": "code",
   "execution_count": 106,
   "metadata": {},
   "outputs": [
    {
     "data": {
      "text/plain": [
       "add_time! (generic function with 2 methods)"
      ]
     },
     "execution_count": 106,
     "metadata": {},
     "output_type": "execute_result"
    }
   ],
   "source": [
    "include(\"BFFPSV18.jl\")"
   ]
  },
  {
   "cell_type": "markdown",
   "metadata": {},
   "source": [
    "## Motor"
   ]
  },
  {
   "cell_type": "code",
   "execution_count": 102,
   "metadata": {},
   "outputs": [
    {
     "data": {
      "text/plain": [
       "4-element Array{UnitRange{Int64},1}:\n",
       " 1:2\n",
       " 3:4\n",
       " 5:6\n",
       " 7:8"
      ]
     },
     "execution_count": 102,
     "metadata": {},
     "output_type": "execute_result"
    }
   ],
   "source": [
    "# ======================================\n",
    "# Model: Motor (8 variables, 2 inputs)\n",
    "# ======================================\n",
    "\n",
    "using SparseArrays\n",
    "\n",
    "# =====================\n",
    "# Problem specification\n",
    "# =====================\n",
    "I = [1, 2, 2, 3, 3, 3, 3, 4, 5, 6, 6, 7, 7, 7, 7, 8]\n",
    "J = [2, 3, 2, 1, 2, 3, 4, 1, 6, 7, 6, 5, 6, 7, 8, 5]\n",
    "vals = [1, 8487.2, -1.0865, -2592.1, -21.119, -698.91, -141399.0, 1.0, 1.0,\n",
    "       8487.2, -1.0865, -2592.1, -21.119, -698.91, -141399.0, 1.0]\n",
    "A = sparse(I, J, vals)\n",
    "\n",
    "# initial set\n",
    "X0 = Hyperrectangle([0.00225, 0.0, 0.0, 0.0, 0.00125, 0.0, 0.0, 0.0],\n",
    "                    [0.00025, 0.0, 0.0, 0.0, 0.00025, 0.0, 0.0, 0.0])\n",
    "\n",
    "# input set\n",
    "B = sparse([4, 8], [1, 2], [-1.0, -1.0])\n",
    "U = Hyperrectangle([0.23, 0.3], [0.07, 0.1])\n",
    "\n",
    "partition_1D = [[i] for i in 1:8]; # 1D blocks\n",
    "partition_2D = [(2*i-1:2*i) for i in 1:4] # 2D blocks"
   ]
  },
  {
   "cell_type": "code",
   "execution_count": 94,
   "metadata": {},
   "outputs": [
    {
     "data": {
      "text/plain": [
       "8×8 Array{Float64,2}:\n",
       "  0.996878      0.000973576  0.00335549  …  0.0            0.0     \n",
       " -8.86569       0.924956     5.91775        0.0            0.0     \n",
       " -1.8644       -0.0157699    0.438394       0.0            0.0     \n",
       "  0.000999194   4.9316e-7    1.18764e-6     0.0            0.0     \n",
       "  0.0           0.0          0.0            0.00335549    -0.167932\n",
       "  0.0           0.0          0.0         …  5.91775     -474.463   \n",
       "  0.0           0.0          0.0            0.438394     -98.652   \n",
       "  0.0           0.0          0.0            1.18764e-6     0.999957"
      ]
     },
     "execution_count": 94,
     "metadata": {},
     "output_type": "execute_result"
    }
   ],
   "source": [
    "F = exp(Matrix(A) * 0.001)"
   ]
  },
  {
   "cell_type": "code",
   "execution_count": 66,
   "metadata": {},
   "outputs": [
    {
     "data": {
      "text/plain": [
       "4×4-blocked 8×8 BlockArray{Float64,2}:\n",
       "     0.0    1.0     │     0.0         0.0  │      0.0    0.0     │     0.0         0.0\n",
       "     0.0   -1.0865  │  8487.2         0.0  │      0.0    0.0     │     0.0         0.0\n",
       " ───────────────────┼──────────────────────┼─────────────────────┼────────────────────\n",
       " -2592.1  -21.119   │  -698.91  -141399.0  │      0.0    0.0     │     0.0         0.0\n",
       "     1.0    0.0     │     0.0         0.0  │      0.0    0.0     │     0.0         0.0\n",
       " ───────────────────┼──────────────────────┼─────────────────────┼────────────────────\n",
       "     0.0    0.0     │     0.0         0.0  │      0.0    1.0     │     0.0         0.0\n",
       "     0.0    0.0     │     0.0         0.0  │      0.0   -1.0865  │  8487.2         0.0\n",
       " ───────────────────┼──────────────────────┼─────────────────────┼────────────────────\n",
       "     0.0    0.0     │     0.0         0.0  │  -2592.1  -21.119   │  -698.91  -141399.0\n",
       "     0.0    0.0     │     0.0         0.0  │      1.0    0.0     │     0.0         0.0"
      ]
     },
     "execution_count": 66,
     "metadata": {},
     "output_type": "execute_result"
    }
   ],
   "source": [
    "Ablk = BlockArray(Matrix(A), [2, 2, 2, 2], [2, 2, 2, 2])  # 2D blocks\n",
    "#Ablk = BlockArray(Matrix(A), fill(1, 8), fill(1, 8)) # 1D blocks"
   ]
  },
  {
   "cell_type": "code",
   "execution_count": null,
   "metadata": {},
   "outputs": [],
   "source": []
  },
  {
   "cell_type": "code",
   "execution_count": 26,
   "metadata": {},
   "outputs": [
    {
     "data": {
      "text/plain": [
       "2×8 Array{Float64,2}:\n",
       "  0.996878  0.000973576  0.00335549    -0.167932  0.0  0.0  0.0  0.0\n",
       " -8.86569   0.924956     5.91775     -474.463     0.0  0.0  0.0  0.0"
      ]
     },
     "execution_count": 26,
     "metadata": {},
     "output_type": "execute_result"
    }
   ],
   "source": [
    "exp(Matrix(A) * 0.001)[1:2, :]"
   ]
  },
  {
   "cell_type": "code",
   "execution_count": 103,
   "metadata": {},
   "outputs": [],
   "source": [
    "#S = ConstrainedLinearControlContinuousSystem(Ablk, B, nothing, U)\n",
    "S = ConstrainedLinearControlContinuousSystem(A, B, nothing, U)\n",
    "\n",
    "P = InitialValueProblem(S, X0);"
   ]
  },
  {
   "cell_type": "code",
   "execution_count": 104,
   "metadata": {},
   "outputs": [],
   "source": [
    "# UNIFORM 1D partition\n",
    "opts = Options(:T => 20.0,\n",
    "               :δ => 0.001,\n",
    "               :N => 20_000,  # el N se puede sacar de T y de delta\n",
    "               :vars=>[5],\n",
    "               :partition => partition_2D,\n",
    "               :set_type => Hyperrectangle{Float64, Vector{Float64}, Vector{Float64}},          \n",
    "     #:set_type => Interval{Float64, IA.Interval{Float64}},\n",
    "               :row_blocks => [[1,2], [3,4], [5,6], [7,8]],\n",
    "               :column_blocks => [[1,2], [3,4], [5,6], [7,8]],\n",
    "               :num_type => Float64,\n",
    "               :block_indices => [1, 2, 3, 4]);\n",
    "# varias de las opciones anteriores se pueden deducir de otras!"
   ]
  },
  {
   "cell_type": "code",
   "execution_count": 17,
   "metadata": {},
   "outputs": [],
   "source": [
    "using BenchmarkTools"
   ]
  },
  {
   "cell_type": "code",
   "execution_count": 18,
   "metadata": {},
   "outputs": [
    {
     "name": "stdout",
     "output_type": "stream",
     "text": [
      "  60.401 ms (320483 allocations: 21.40 MiB)\n"
     ]
    }
   ],
   "source": [
    "@btime sol = solve_BFFPSV18($P, $opts); # with MMatrix"
   ]
  },
  {
   "cell_type": "code",
   "execution_count": 48,
   "metadata": {},
   "outputs": [
    {
     "name": "stdout",
     "output_type": "stream",
     "text": [
      "  66.339 ms (342584 allocations: 22.44 MiB)\n"
     ]
    }
   ],
   "source": [
    "@btime sol = solve_BFFPSV18($P, $opts); # with Ablk, 1D blocks"
   ]
  },
  {
   "cell_type": "code",
   "execution_count": 109,
   "metadata": {},
   "outputs": [
    {
     "name": "stdout",
     "output_type": "stream",
     "text": [
      "  1.416 s (4699869 allocations: 329.62 MiB)\n"
     ]
    }
   ],
   "source": [
    "@btime sol = solve_BFFPSV18($P, $opts); # with Ablk, 2D blocks"
   ]
  },
  {
   "cell_type": "code",
   "execution_count": null,
   "metadata": {},
   "outputs": [],
   "source": [
    "# modified algorithm: we access Block(i)"
   ]
  },
  {
   "cell_type": "code",
   "execution_count": 107,
   "metadata": {},
   "outputs": [],
   "source": [
    "sol = solve_BFFPSV18(P, opts);"
   ]
  },
  {
   "cell_type": "code",
   "execution_count": 70,
   "metadata": {},
   "outputs": [
    {
     "data": {
      "text/plain": [
       "4×4-blocked 8×8 BlockArray{Float64,2}:\n",
       "     0.0    1.0     │     0.0         0.0  │      0.0    0.0     │     0.0         0.0\n",
       "     0.0   -1.0865  │  8487.2         0.0  │      0.0    0.0     │     0.0         0.0\n",
       " ───────────────────┼──────────────────────┼─────────────────────┼────────────────────\n",
       " -2592.1  -21.119   │  -698.91  -141399.0  │      0.0    0.0     │     0.0         0.0\n",
       "     1.0    0.0     │     0.0         0.0  │      0.0    0.0     │     0.0         0.0\n",
       " ───────────────────┼──────────────────────┼─────────────────────┼────────────────────\n",
       "     0.0    0.0     │     0.0         0.0  │      0.0    1.0     │     0.0         0.0\n",
       "     0.0    0.0     │     0.0         0.0  │      0.0   -1.0865  │  8487.2         0.0\n",
       " ───────────────────┼──────────────────────┼─────────────────────┼────────────────────\n",
       "     0.0    0.0     │     0.0         0.0  │  -2592.1  -21.119   │  -698.91  -141399.0\n",
       "     0.0    0.0     │     0.0         0.0  │      1.0    0.0     │     0.0         0.0"
      ]
     },
     "execution_count": 70,
     "metadata": {},
     "output_type": "execute_result"
    }
   ],
   "source": [
    "Ablk"
   ]
  },
  {
   "cell_type": "code",
   "execution_count": 71,
   "metadata": {},
   "outputs": [
    {
     "data": {
      "text/plain": [
       "2×2 Array{Float64,2}:\n",
       " 0.0   1.0   \n",
       " 0.0  -1.0865"
      ]
     },
     "execution_count": 71,
     "metadata": {},
     "output_type": "execute_result"
    }
   ],
   "source": [
    "include(\"BFFPSV18.jl\")"
   ]
  },
  {
   "cell_type": "code",
   "execution_count": null,
   "metadata": {},
   "outputs": [],
   "source": []
  }
 ],
 "metadata": {
  "kernelspec": {
   "display_name": "Julia 1.2.0",
   "language": "julia",
   "name": "julia-1.2"
  },
  "language_info": {
   "file_extension": ".jl",
   "mimetype": "application/julia",
   "name": "julia",
   "version": "1.2.0"
  }
 },
 "nbformat": 4,
 "nbformat_minor": 2
}
