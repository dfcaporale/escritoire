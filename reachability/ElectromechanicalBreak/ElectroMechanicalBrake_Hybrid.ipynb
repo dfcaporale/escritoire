{
 "cells": [
  {
   "cell_type": "markdown",
   "metadata": {},
   "source": [
    "## Model description"
   ]
  },
  {
   "cell_type": "markdown",
   "metadata": {},
   "source": [
    "https://easychair.org/publications/paper/1ff2\n",
    "\n",
    "Three-dimensional ODE of the plant without discrete-time PI-controller:\n",
    "\n",
    "$$\n",
    "   \\left\\{ \\begin{array}{lcl}\n",
    "   \\dot{I} & = & \\frac{1}{L}\\cdot\\left( \\left(K_P\\cdot\\left(x_0-x\\right)+K_I\\cdot x_c \\right) - I\\cdot\\left(R - \\frac{K^2}{d_{rot}}\\right)\\right) \\\\\n",
    "   \\dot{x} & = & \\frac{K}{i\\cdot d_{rot}}\\cdot I \\\\\n",
    "   \\dot{x_c} & = & x_0-x \\end{array}\n",
    "   \\right.\n",
    "$$"
   ]
  },
  {
   "cell_type": "code",
   "execution_count": null,
   "metadata": {},
   "outputs": [],
   "source": [
    "using Reachability, TaylorIntegration, MathematicalSystems, HybridSystems, SparseArrays\n",
    "include(\"helper.jl\")"
   ]
  },
  {
   "cell_type": "code",
   "execution_count": null,
   "metadata": {},
   "outputs": [],
   "source": [
    "function EMBrake_hibrid()\n",
    "    # the state variables are:\n",
    "    # [I, x, T, xe, xc]\n",
    "\n",
    "    # model's constants\n",
    "    L       = 1.e-3;\n",
    "    KP      = 10000.;\n",
    "    KI      = 1000.;\n",
    "    R       = 0.3;\n",
    "    K       = 0.02;\n",
    "    drot    = 0.1;\n",
    "    i       = 113.1167;\n",
    "    Tsample = 1.E-4;\n",
    "    \n",
    "    EMbrake = LightAutomaton(1)\n",
    "\n",
    "    # Braking mode: x' =  Ax + b\n",
    "    A = [-(R+K^2/drot)/L 0   0   KP/L  KI/L; \n",
    "           K/i/drot      0   0   0      0;\n",
    "           0             0   0   0      0;\n",
    "           0             0   0   0      0;\n",
    "           0             0   0   0      0]\n",
    "    A = sparse(A)\n",
    "    b = [0, 0, 1.0, 0, 0]\n",
    "    b = sparse(b)\n",
    "    X = HalfSpace([0.0, 0.0, 1.0, 0.0, 0.0], Tsample) # invariant\n",
    "    brake = ConstrainedAffineContinuousSystem(A, b, X)\n",
    "    modes = [brake]\n",
    "\n",
    "    # transition (self-loop)\n",
    "    add_transition!(EMbrake, 1, 1, 1)\n",
    "    x0 = 0.05\n",
    "    A = sparse([1, 2, 4, 5, 5], [1, 2, 2, 2, 5], [1., 1., -1., -Tsample, 1.], 5, 5);\n",
    "    b = sparsevec([4, 5], [x0, Tsample*x0], 5)\n",
    "    guard = HalfSpace([0.0, 0.0, -1.0, 0.0, 0.0], -Tsample); # T >= Tsample\n",
    "    resetmaps = [ConstrainedAffineMap(A, b, guard)]\n",
    "    switchings = [AutonomousSwitching()]\n",
    "\n",
    "    H = HybridSystem(EMbrake, modes, resetmaps, switchings)\n",
    "end"
   ]
  },
  {
   "cell_type": "markdown",
   "metadata": {},
   "source": [
    "### Reachability settings"
   ]
  },
  {
   "cell_type": "code",
   "execution_count": null,
   "metadata": {},
   "outputs": [],
   "source": [
    "I₀  = Singleton([0.0]); #Interval(0., 0.);\n",
    "x₀  = Singleton([0.0]); #Interval(0., 0.);\n",
    "T₀  = Singleton([0.0]); #Interval(0., 0.);\n",
    "xe₀ = Singleton([0.0]); #Interval(0., 0.);\n",
    "xc₀ = Singleton([0.0]); #Interval(0., 0.);\n",
    "\n",
    "X₀ = I₀ × x₀ × T₀ × xe₀ × xc₀;\n",
    "#X₀ = X₀ ⊕ BallInf(zeros(dim(X₀)), 0.0001);"
   ]
  },
  {
   "cell_type": "markdown",
   "metadata": {},
   "source": [
    "### Results"
   ]
  },
  {
   "cell_type": "code",
   "execution_count": null,
   "metadata": {},
   "outputs": [],
   "source": [
    "H = EMBrake_hibrid()\n",
    "P = InitialValueProblem(H, [(1, X₀)]);"
   ]
  },
  {
   "cell_type": "code",
   "execution_count": null,
   "metadata": {
    "scrolled": false
   },
   "outputs": [],
   "source": [
    "alg = BFFPSV18(:δ=>1e-4)\n",
    "# opD = LazyDiscretePost(:check_invariant_intersection => true)\n",
    "sol = solve(P, Options(:T=>0.4, :verbosity=>2, :max_jumps=>3), alg);"
   ]
  },
  {
   "cell_type": "code",
   "execution_count": null,
   "metadata": {},
   "outputs": [],
   "source": []
  }
 ],
 "metadata": {
  "kernelspec": {
   "display_name": "Julia 1.2.0",
   "language": "julia",
   "name": "julia-1.2"
  },
  "language_info": {
   "file_extension": ".jl",
   "mimetype": "application/julia",
   "name": "julia",
   "version": "1.2.0"
  }
 },
 "nbformat": 4,
 "nbformat_minor": 2
}
