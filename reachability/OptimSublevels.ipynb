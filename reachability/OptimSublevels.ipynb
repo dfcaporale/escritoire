{
 "cells": [
  {
   "cell_type": "markdown",
   "metadata": {},
   "source": [
    "## Dependencies"
   ]
  },
  {
   "cell_type": "code",
   "execution_count": 2,
   "metadata": {},
   "outputs": [],
   "source": [
    "# load dependencies (not all needed)\n",
    "using MultivariatePolynomials,\n",
    "      DynamicPolynomials,\n",
    "      JuMP,\n",
    "      PolyJuMP,\n",
    "      SumOfSquares,\n",
    "      MathOptInterfaceMosek,\n",
    "      SemialgebraicSets\n",
    "\n",
    "import IntervalArithmetic\n",
    "const IA = IntervalArithmetic\n",
    "\n",
    "# solvers\n",
    "using MosekTools,\n",
    "      SDPA\n",
    "\n",
    "using Reachability: Options"
   ]
  },
  {
   "cell_type": "markdown",
   "metadata": {},
   "source": [
    "<font color='red'> Now you have to run the algorithms in the Appendix. </font>"
   ]
  },
  {
   "cell_type": "markdown",
   "metadata": {},
   "source": [
    "## Example 1"
   ]
  },
  {
   "cell_type": "markdown",
   "metadata": {},
   "source": [
    "Compute the maximum and maximum of $x$ subject to $2x^3 - 8x + x^2 - 2 \\leq 0$."
   ]
  },
  {
   "cell_type": "code",
   "execution_count": 6,
   "metadata": {},
   "outputs": [],
   "source": [
    "using Plots"
   ]
  },
  {
   "cell_type": "markdown",
   "metadata": {},
   "source": [
    "The problem is unbounded to the left since the dominant term is $2x^3 \\to -\\infty$ when $x \\to \\infty$."
   ]
  },
  {
   "cell_type": "code",
   "execution_count": 7,
   "metadata": {},
   "outputs": [
    {
     "data": {
      "image/svg+xml": [
       "<?xml version=\"1.0\" encoding=\"utf-8\"?>\n",
       "<svg xmlns=\"http://www.w3.org/2000/svg\" xmlns:xlink=\"http://www.w3.org/1999/xlink\" width=\"600\" height=\"400\" viewBox=\"0 0 2400 1600\">\n",
       "<defs>\n",
       "  <clipPath id=\"clip3700\">\n",
       "    <rect x=\"0\" y=\"0\" width=\"2400\" height=\"1600\"/>\n",
       "  </clipPath>\n",
       "</defs>\n",
       "<polygon clip-path=\"url(#clip3700)\" points=\"\n",
       "0,1600 2400,1600 2400,0 0,0 \n",
       "  \" fill=\"#ffffff\" fill-rule=\"evenodd\" fill-opacity=\"1\"/>\n",
       "<defs>\n",
       "  <clipPath id=\"clip3701\">\n",
       "    <rect x=\"480\" y=\"0\" width=\"1681\" height=\"1600\"/>\n",
       "  </clipPath>\n",
       "</defs>\n",
       "<polygon clip-path=\"url(#clip3700)\" points=\"\n",
       "202.885,1503.47 2321.26,1503.47 2321.26,47.2441 202.885,47.2441 \n",
       "  \" fill=\"#ffffff\" fill-rule=\"evenodd\" fill-opacity=\"1\"/>\n",
       "<defs>\n",
       "  <clipPath id=\"clip3702\">\n",
       "    <rect x=\"202\" y=\"47\" width=\"2119\" height=\"1457\"/>\n",
       "  </clipPath>\n",
       "</defs>\n",
       "<polyline clip-path=\"url(#clip3702)\" style=\"stroke:#000000; stroke-width:2; stroke-opacity:0.1; fill:none\" points=\"\n",
       "  462.686,1503.47 462.686,47.2441 \n",
       "  \"/>\n",
       "<polyline clip-path=\"url(#clip3702)\" style=\"stroke:#000000; stroke-width:2; stroke-opacity:0.1; fill:none\" points=\"\n",
       "  862.379,1503.47 862.379,47.2441 \n",
       "  \"/>\n",
       "<polyline clip-path=\"url(#clip3702)\" style=\"stroke:#000000; stroke-width:2; stroke-opacity:0.1; fill:none\" points=\"\n",
       "  1262.07,1503.47 1262.07,47.2441 \n",
       "  \"/>\n",
       "<polyline clip-path=\"url(#clip3702)\" style=\"stroke:#000000; stroke-width:2; stroke-opacity:0.1; fill:none\" points=\"\n",
       "  1661.77,1503.47 1661.77,47.2441 \n",
       "  \"/>\n",
       "<polyline clip-path=\"url(#clip3702)\" style=\"stroke:#000000; stroke-width:2; stroke-opacity:0.1; fill:none\" points=\"\n",
       "  2061.46,1503.47 2061.46,47.2441 \n",
       "  \"/>\n",
       "<polyline clip-path=\"url(#clip3702)\" style=\"stroke:#000000; stroke-width:2; stroke-opacity:0.1; fill:none\" points=\"\n",
       "  202.885,1177.69 2321.26,1177.69 \n",
       "  \"/>\n",
       "<polyline clip-path=\"url(#clip3702)\" style=\"stroke:#000000; stroke-width:2; stroke-opacity:0.1; fill:none\" points=\"\n",
       "  202.885,850.591 2321.26,850.591 \n",
       "  \"/>\n",
       "<polyline clip-path=\"url(#clip3702)\" style=\"stroke:#000000; stroke-width:2; stroke-opacity:0.1; fill:none\" points=\"\n",
       "  202.885,523.496 2321.26,523.496 \n",
       "  \"/>\n",
       "<polyline clip-path=\"url(#clip3702)\" style=\"stroke:#000000; stroke-width:2; stroke-opacity:0.1; fill:none\" points=\"\n",
       "  202.885,196.4 2321.26,196.4 \n",
       "  \"/>\n",
       "<polyline clip-path=\"url(#clip3700)\" style=\"stroke:#000000; stroke-width:4; stroke-opacity:1; fill:none\" points=\"\n",
       "  202.885,1503.47 2321.26,1503.47 \n",
       "  \"/>\n",
       "<polyline clip-path=\"url(#clip3700)\" style=\"stroke:#000000; stroke-width:4; stroke-opacity:1; fill:none\" points=\"\n",
       "  202.885,1503.47 202.885,47.2441 \n",
       "  \"/>\n",
       "<polyline clip-path=\"url(#clip3700)\" style=\"stroke:#000000; stroke-width:4; stroke-opacity:1; fill:none\" points=\"\n",
       "  462.686,1503.47 462.686,1481.63 \n",
       "  \"/>\n",
       "<polyline clip-path=\"url(#clip3700)\" style=\"stroke:#000000; stroke-width:4; stroke-opacity:1; fill:none\" points=\"\n",
       "  862.379,1503.47 862.379,1481.63 \n",
       "  \"/>\n",
       "<polyline clip-path=\"url(#clip3700)\" style=\"stroke:#000000; stroke-width:4; stroke-opacity:1; fill:none\" points=\"\n",
       "  1262.07,1503.47 1262.07,1481.63 \n",
       "  \"/>\n",
       "<polyline clip-path=\"url(#clip3700)\" style=\"stroke:#000000; stroke-width:4; stroke-opacity:1; fill:none\" points=\"\n",
       "  1661.77,1503.47 1661.77,1481.63 \n",
       "  \"/>\n",
       "<polyline clip-path=\"url(#clip3700)\" style=\"stroke:#000000; stroke-width:4; stroke-opacity:1; fill:none\" points=\"\n",
       "  2061.46,1503.47 2061.46,1481.63 \n",
       "  \"/>\n",
       "<polyline clip-path=\"url(#clip3700)\" style=\"stroke:#000000; stroke-width:4; stroke-opacity:1; fill:none\" points=\"\n",
       "  202.885,1177.69 234.661,1177.69 \n",
       "  \"/>\n",
       "<polyline clip-path=\"url(#clip3700)\" style=\"stroke:#000000; stroke-width:4; stroke-opacity:1; fill:none\" points=\"\n",
       "  202.885,850.591 234.661,850.591 \n",
       "  \"/>\n",
       "<polyline clip-path=\"url(#clip3700)\" style=\"stroke:#000000; stroke-width:4; stroke-opacity:1; fill:none\" points=\"\n",
       "  202.885,523.496 234.661,523.496 \n",
       "  \"/>\n",
       "<polyline clip-path=\"url(#clip3700)\" style=\"stroke:#000000; stroke-width:4; stroke-opacity:1; fill:none\" points=\"\n",
       "  202.885,196.4 234.661,196.4 \n",
       "  \"/>\n",
       "<g clip-path=\"url(#clip3700)\">\n",
       "<text style=\"fill:#000000; fill-opacity:1; font-family:Arial,Helvetica Neue,Helvetica,sans-serif; font-size:48px; text-anchor:middle;\" transform=\"rotate(0, 462.686, 1557.47)\" x=\"462.686\" y=\"1557.47\">-4</text>\n",
       "</g>\n",
       "<g clip-path=\"url(#clip3700)\">\n",
       "<text style=\"fill:#000000; fill-opacity:1; font-family:Arial,Helvetica Neue,Helvetica,sans-serif; font-size:48px; text-anchor:middle;\" transform=\"rotate(0, 862.379, 1557.47)\" x=\"862.379\" y=\"1557.47\">-2</text>\n",
       "</g>\n",
       "<g clip-path=\"url(#clip3700)\">\n",
       "<text style=\"fill:#000000; fill-opacity:1; font-family:Arial,Helvetica Neue,Helvetica,sans-serif; font-size:48px; text-anchor:middle;\" transform=\"rotate(0, 1262.07, 1557.47)\" x=\"1262.07\" y=\"1557.47\">0</text>\n",
       "</g>\n",
       "<g clip-path=\"url(#clip3700)\">\n",
       "<text style=\"fill:#000000; fill-opacity:1; font-family:Arial,Helvetica Neue,Helvetica,sans-serif; font-size:48px; text-anchor:middle;\" transform=\"rotate(0, 1661.77, 1557.47)\" x=\"1661.77\" y=\"1557.47\">2</text>\n",
       "</g>\n",
       "<g clip-path=\"url(#clip3700)\">\n",
       "<text style=\"fill:#000000; fill-opacity:1; font-family:Arial,Helvetica Neue,Helvetica,sans-serif; font-size:48px; text-anchor:middle;\" transform=\"rotate(0, 2061.46, 1557.47)\" x=\"2061.46\" y=\"1557.47\">4</text>\n",
       "</g>\n",
       "<g clip-path=\"url(#clip3700)\">\n",
       "<text style=\"fill:#000000; fill-opacity:1; font-family:Arial,Helvetica Neue,Helvetica,sans-serif; font-size:48px; text-anchor:end;\" transform=\"rotate(0, 178.885, 1195.19)\" x=\"178.885\" y=\"1195.19\">-100</text>\n",
       "</g>\n",
       "<g clip-path=\"url(#clip3700)\">\n",
       "<text style=\"fill:#000000; fill-opacity:1; font-family:Arial,Helvetica Neue,Helvetica,sans-serif; font-size:48px; text-anchor:end;\" transform=\"rotate(0, 178.885, 868.091)\" x=\"178.885\" y=\"868.091\">0</text>\n",
       "</g>\n",
       "<g clip-path=\"url(#clip3700)\">\n",
       "<text style=\"fill:#000000; fill-opacity:1; font-family:Arial,Helvetica Neue,Helvetica,sans-serif; font-size:48px; text-anchor:end;\" transform=\"rotate(0, 178.885, 540.996)\" x=\"178.885\" y=\"540.996\">100</text>\n",
       "</g>\n",
       "<g clip-path=\"url(#clip3700)\">\n",
       "<text style=\"fill:#000000; fill-opacity:1; font-family:Arial,Helvetica Neue,Helvetica,sans-serif; font-size:48px; text-anchor:end;\" transform=\"rotate(0, 178.885, 213.9)\" x=\"178.885\" y=\"213.9\">200</text>\n",
       "</g>\n",
       "<polyline clip-path=\"url(#clip3702)\" style=\"stroke:#009af9; stroke-width:4; stroke-opacity:1; fill:none\" points=\"\n",
       "  262.839,1462.26 282.824,1420.03 302.809,1379.65 322.793,1341.09 342.778,1304.31 362.763,1269.27 382.747,1235.94 402.732,1204.26 422.717,1174.21 442.701,1145.74 \n",
       "  462.686,1118.81 482.671,1093.39 502.655,1069.43 522.64,1046.9 542.625,1025.76 562.609,1005.96 582.594,987.475 602.579,970.256 622.563,954.268 642.548,939.47 \n",
       "  662.533,925.823 682.517,913.289 702.502,901.828 722.487,891.4 742.471,881.966 762.456,873.488 782.441,865.926 802.425,859.24 822.41,853.391 842.395,848.341 \n",
       "  862.379,844.05 882.364,840.478 902.349,837.586 922.333,835.336 942.318,833.687 962.303,832.601 982.287,832.039 1002.27,831.96 1022.26,832.326 1042.24,833.098 \n",
       "  1062.23,834.237 1082.21,835.702 1102.2,837.455 1122.18,839.457 1142.16,841.668 1162.15,844.05 1182.13,846.562 1202.12,849.165 1222.1,851.821 1242.09,854.49 \n",
       "  1262.07,857.133 1282.06,859.711 1302.04,862.184 1322.03,864.513 1342.01,866.658 1362,868.582 1381.98,870.243 1401.97,871.604 1421.95,872.625 1441.93,873.266 \n",
       "  1461.92,873.488 1481.9,873.253 1501.89,872.52 1521.87,871.251 1541.86,869.406 1561.84,866.946 1581.83,863.832 1601.81,860.025 1621.8,855.485 1641.78,850.173 \n",
       "  1661.77,844.05 1681.75,837.076 1701.74,829.212 1721.72,820.42 1741.7,810.66 1761.69,799.892 1781.67,788.077 1801.66,775.176 1821.64,761.15 1841.63,745.96 \n",
       "  1861.61,729.566 1881.6,711.929 1901.58,693.01 1921.57,672.769 1941.55,651.168 1961.54,628.166 1981.52,603.726 2001.51,577.807 2021.49,550.37 2041.47,521.376 \n",
       "  2061.46,490.786 2081.44,458.561 2101.43,424.66 2121.41,389.046 2141.4,351.679 2161.38,312.519 2181.37,271.527 2201.35,228.665 2221.34,183.892 2241.32,137.169 \n",
       "  2261.31,88.4582 \n",
       "  \"/>\n",
       "<polygon clip-path=\"url(#clip3700)\" points=\"\n",
       "1958.43,251.724 2249.26,251.724 2249.26,130.764 1958.43,130.764 \n",
       "  \" fill=\"#ffffff\" fill-rule=\"evenodd\" fill-opacity=\"1\"/>\n",
       "<polyline clip-path=\"url(#clip3700)\" style=\"stroke:#000000; stroke-width:4; stroke-opacity:1; fill:none\" points=\"\n",
       "  1958.43,251.724 2249.26,251.724 2249.26,130.764 1958.43,130.764 1958.43,251.724 \n",
       "  \"/>\n",
       "<polyline clip-path=\"url(#clip3700)\" style=\"stroke:#009af9; stroke-width:4; stroke-opacity:1; fill:none\" points=\"\n",
       "  1982.43,191.244 2126.43,191.244 \n",
       "  \"/>\n",
       "<g clip-path=\"url(#clip3700)\">\n",
       "<text style=\"fill:#000000; fill-opacity:1; font-family:Arial,Helvetica Neue,Helvetica,sans-serif; font-size:48px; text-anchor:start;\" transform=\"rotate(0, 2150.43, 208.744)\" x=\"2150.43\" y=\"208.744\">y1</text>\n",
       "</g>\n",
       "</svg>\n"
      ]
     },
     "execution_count": 7,
     "metadata": {},
     "output_type": "execute_result"
    }
   ],
   "source": [
    "Plots.plot(x -> 2x^3 - 8x + x^2 - 2, -5:0.1:5)"
   ]
  },
  {
   "cell_type": "code",
   "execution_count": 8,
   "metadata": {},
   "outputs": [
    {
     "name": "stdout",
     "output_type": "stream",
     "text": [
      "Problem\n",
      "  Name                   :                 \n",
      "  Objective sense        : min             \n",
      "  Type                   : CONIC (conic optimization problem)\n",
      "  Constraints            : 9               \n",
      "  Cones                  : 1               \n",
      "  Scalar variables       : 7               \n",
      "  Matrix variables       : 1               \n",
      "  Integer variables      : 0               \n",
      "\n",
      "Optimizer started.\n",
      "Presolve started.\n",
      "Linear dependency checker started.\n",
      "Linear dependency checker terminated.\n",
      "Eliminator started.\n",
      "Freed constraints in eliminator : 0\n",
      "Eliminator terminated.\n",
      "Eliminator - tries                  : 1                 time                   : 0.00            \n",
      "Lin. dep.  - tries                  : 1                 time                   : 0.00            \n",
      "Lin. dep.  - number                 : 0               \n",
      "Presolve terminated. Time: 0.00    \n",
      "Problem\n",
      "  Name                   :                 \n",
      "  Objective sense        : min             \n",
      "  Type                   : CONIC (conic optimization problem)\n",
      "  Constraints            : 9               \n",
      "  Cones                  : 1               \n",
      "  Scalar variables       : 7               \n",
      "  Matrix variables       : 1               \n",
      "  Integer variables      : 0               \n",
      "\n",
      "Optimizer  - threads                : 8               \n",
      "Optimizer  - solved problem         : the primal      \n",
      "Optimizer  - Constraints            : 5\n",
      "Optimizer  - Cones                  : 2\n",
      "Optimizer  - Scalar variables       : 5                 conic                  : 5               \n",
      "Optimizer  - Semi-definite variables: 1                 scalarized             : 6               \n",
      "Factor     - setup time             : 0.00              dense det. time        : 0.00            \n",
      "Factor     - ML order time          : 0.00              GP order time          : 0.00            \n",
      "Factor     - nonzeros before factor : 15                after factor           : 15              \n",
      "Factor     - dense dim.             : 0                 flops                  : 2.97e+02        \n",
      "ITE PFEAS    DFEAS    GFEAS    PRSTATUS   POBJ              DOBJ              MU       TIME  \n",
      "0   7.1e-01  1.0e+00  1.0e+00  0.00e+00   0.000000000e+00   0.000000000e+00   1.0e+00  0.00  \n",
      "1   1.3e-01  1.8e-01  3.3e-01  8.91e-01   -9.288480348e-02  -7.747003092e-03  1.8e-01  0.00  \n",
      "2   2.3e-02  3.3e-02  4.0e-02  -8.14e-02  7.064918631e-01   1.254550123e+00   3.3e-02  0.00  \n",
      "3   4.3e-03  6.1e-03  1.5e-02  5.77e-01   1.454469888e+00   1.583235069e+00   6.1e-03  0.00  \n",
      "4   4.4e-04  6.2e-04  5.2e-03  8.80e-01   1.851207609e+00   1.862363515e+00   6.2e-04  0.00  \n",
      "5   1.2e-04  1.6e-04  2.3e-03  9.10e-01   1.881613741e+00   1.885681289e+00   1.6e-04  0.00  \n",
      "6   2.5e-05  3.5e-05  9.1e-04  8.37e-01   1.890205904e+00   1.891488050e+00   3.5e-05  0.00  \n",
      "7   7.0e-06  1.0e-05  8.4e-05  -3.36e-02  1.897814077e+00   1.911285954e+00   1.0e-05  0.00  \n",
      "8   1.2e-06  1.7e-06  1.0e-05  -3.10e-01  1.931892747e+00   1.959217404e+00   1.7e-06  0.00  \n",
      "9   1.7e-07  2.4e-07  9.5e-07  -4.50e-01  1.994141061e+00   2.057409364e+00   2.4e-07  0.00  \n",
      "10  5.9e-08  8.3e-08  4.2e-07  2.47e-01   2.093964579e+00   2.132761457e+00   8.3e-08  0.00  \n",
      "11  1.7e-08  2.4e-08  6.5e-08  -4.21e-01  2.292047367e+00   2.430326215e+00   2.4e-08  0.00  \n",
      "12  3.4e-09  4.8e-09  1.9e-08  3.26e-01   2.537690987e+00   2.597254774e+00   4.8e-09  0.00  \n",
      "13  8.5e-10  1.2e-09  4.5e-09  4.69e-02   2.811810115e+00   2.883265449e+00   1.2e-09  0.00  \n",
      "14  2.3e-10  3.3e-10  7.1e-10  -3.11e-01  3.216356926e+00   3.425546766e+00   3.3e-10  0.00  \n",
      "15  4.8e-11  6.8e-11  2.0e-10  3.05e-01   3.715740123e+00   3.832539160e+00   6.8e-11  0.00  \n",
      "16  1.1e-11  1.8e-11  3.3e-11  -3.60e-02  4.366490595e+00   4.569532526e+00   1.5e-11  0.00  \n",
      "17  2.9e-12  8.5e-12  6.6e-12  -1.48e-01  5.025595105e+00   5.412481608e+00   4.1e-12  0.00  \n",
      "18  7.9e-13  2.3e-12  2.3e-12  3.49e-01   5.743706226e+00   5.978041428e+00   1.1e-12  0.00  \n",
      "19  2.5e-13  7.3e-13  4.7e-13  -1.44e-01  6.622331109e+00   7.169983606e+00   3.5e-13  0.01  \n",
      "20  5.6e-14  5.5e-13  1.4e-13  3.86e-01   7.688328894e+00   7.976010244e+00   7.7e-14  0.01  \n",
      "21  1.4e-14  7.1e-13  2.5e-14  -7.12e-02  9.078526157e+00   9.691213636e+00   2.0e-14  0.01  \n",
      "22  3.9e-15  9.2e-13  8.3e-15  3.07e-01   1.032406636e+01   1.074395051e+01   5.4e-15  0.01  \n",
      "23  1.2e-15  1.2e-12  1.7e-15  -1.58e-01  1.189311214e+01   1.290184948e+01   1.7e-15  0.01  \n",
      "24  2.6e-16  1.1e-12  5.1e-16  3.93e-01   1.389785185e+01   1.440801871e+01   3.7e-16  0.01  \n",
      "25  6.5e-17  3.2e-12  8.7e-17  -6.26e-02  1.650873815e+01   1.757005443e+01   9.0e-17  0.01  \n",
      "26  1.8e-17  1.0e-12  2.8e-17  2.72e-01   1.871418927e+01   1.950350909e+01   2.5e-17  0.01  \n",
      "27  6.8e-18  9.6e-13  6.1e-18  -2.01e-01  2.140013431e+01   2.334438366e+01   8.6e-18  0.01  \n",
      "28  1.2e-18  1.2e-12  1.8e-18  4.03e-01   2.520942557e+01   2.611239900e+01   1.7e-18  0.01  \n",
      "29  1.3e-18  1.7e-12  2.9e-19  -7.68e-02  3.023943030e+01   3.211519790e+01   3.9e-19  0.01  \n",
      "30  2.0e-18  2.2e-12  8.9e-20  2.19e-01   3.425279009e+01   3.579118957e+01   1.1e-19  0.01  \n",
      "31  6.9e-19  4.7e-11  2.0e-20  -2.39e-01  3.894334760e+01   4.271561303e+01   3.9e-20  0.01  \n",
      "32  1.4e-19  7.7e-11  3.4e-21  4.07e-01   4.597648331e+01   4.764495240e+01   7.9e-21  0.01  \n",
      "33  2.4e-19  1.9e-10  1.1e-22  -3.50e-02  5.538101897e+01   5.877800397e+01   2.4e-21  0.01  \n",
      "34  2.4e-19  1.9e-10  1.1e-22  1.63e+00   5.538101897e+01   5.877800397e+01   2.4e-21  0.01  \n",
      "Optimizer terminated. Time: 0.01    \n",
      "\n",
      "JuMP.termination_status(model) = SLOW_PROGRESS\n",
      "JuMP.primal_status(model) = NO_SOLUTION\n",
      "JuMP.dual_status(model) = UNKNOWN_RESULT_STATUS\n",
      "JuMP.objective_bound(model) = 0.0\n",
      "JuMP.objective_value(model) = 1.295463623274162e-9\n"
     ]
    },
    {
     "data": {
      "text/plain": [
       "1.295463623274162e-9"
      ]
     },
     "execution_count": 8,
     "metadata": {},
     "output_type": "execute_result"
    }
   ],
   "source": [
    "@polyvar x\n",
    "p = 2x^3 - 8x + x^2 - 2\n",
    "opts = Options(:relaxation_degree=>5,\n",
    "               :solver=>MosekTools.Mosek.Optimizer,\n",
    "               :verbose=>true)\n",
    "\n",
    "# compute the MAXIMUM of x\n",
    "optimize_sublevel(p, x, opts)"
   ]
  },
  {
   "cell_type": "markdown",
   "metadata": {},
   "source": [
    "However, we can get a result if we restrict to some box domain. We see from the plot that the maximum of $x$ for $x \\in [-2, 2]$ and $p(x) \\leq 0$ is between 1.8 and 1.9"
   ]
  },
  {
   "cell_type": "code",
   "execution_count": 9,
   "metadata": {},
   "outputs": [
    {
     "data": {
      "image/svg+xml": [
       "<?xml version=\"1.0\" encoding=\"utf-8\"?>\n",
       "<svg xmlns=\"http://www.w3.org/2000/svg\" xmlns:xlink=\"http://www.w3.org/1999/xlink\" width=\"600\" height=\"400\" viewBox=\"0 0 2400 1600\">\n",
       "<defs>\n",
       "  <clipPath id=\"clip4100\">\n",
       "    <rect x=\"0\" y=\"0\" width=\"2400\" height=\"1600\"/>\n",
       "  </clipPath>\n",
       "</defs>\n",
       "<polygon clip-path=\"url(#clip4100)\" points=\"\n",
       "0,1600 2400,1600 2400,0 0,0 \n",
       "  \" fill=\"#ffffff\" fill-rule=\"evenodd\" fill-opacity=\"1\"/>\n",
       "<defs>\n",
       "  <clipPath id=\"clip4101\">\n",
       "    <rect x=\"480\" y=\"0\" width=\"1681\" height=\"1600\"/>\n",
       "  </clipPath>\n",
       "</defs>\n",
       "<polygon clip-path=\"url(#clip4100)\" points=\"\n",
       "189.504,1503.47 2321.26,1503.47 2321.26,47.2441 189.504,47.2441 \n",
       "  \" fill=\"#ffffff\" fill-rule=\"evenodd\" fill-opacity=\"1\"/>\n",
       "<defs>\n",
       "  <clipPath id=\"clip4102\">\n",
       "    <rect x=\"189\" y=\"47\" width=\"2133\" height=\"1457\"/>\n",
       "  </clipPath>\n",
       "</defs>\n",
       "<polyline clip-path=\"url(#clip4102)\" style=\"stroke:#000000; stroke-width:2; stroke-opacity:0.1; fill:none\" points=\"\n",
       "  249.837,1503.47 249.837,47.2441 \n",
       "  \"/>\n",
       "<polyline clip-path=\"url(#clip4102)\" style=\"stroke:#000000; stroke-width:2; stroke-opacity:0.1; fill:none\" points=\"\n",
       "  752.609,1503.47 752.609,47.2441 \n",
       "  \"/>\n",
       "<polyline clip-path=\"url(#clip4102)\" style=\"stroke:#000000; stroke-width:2; stroke-opacity:0.1; fill:none\" points=\"\n",
       "  1255.38,1503.47 1255.38,47.2441 \n",
       "  \"/>\n",
       "<polyline clip-path=\"url(#clip4102)\" style=\"stroke:#000000; stroke-width:2; stroke-opacity:0.1; fill:none\" points=\"\n",
       "  1758.15,1503.47 1758.15,47.2441 \n",
       "  \"/>\n",
       "<polyline clip-path=\"url(#clip4102)\" style=\"stroke:#000000; stroke-width:2; stroke-opacity:0.1; fill:none\" points=\"\n",
       "  2260.93,1503.47 2260.93,47.2441 \n",
       "  \"/>\n",
       "<polyline clip-path=\"url(#clip4102)\" style=\"stroke:#000000; stroke-width:2; stroke-opacity:0.1; fill:none\" points=\"\n",
       "  189.504,1245.85 2321.26,1245.85 \n",
       "  \"/>\n",
       "<polyline clip-path=\"url(#clip4102)\" style=\"stroke:#000000; stroke-width:2; stroke-opacity:0.1; fill:none\" points=\"\n",
       "  189.504,975.327 2321.26,975.327 \n",
       "  \"/>\n",
       "<polyline clip-path=\"url(#clip4102)\" style=\"stroke:#000000; stroke-width:2; stroke-opacity:0.1; fill:none\" points=\"\n",
       "  189.504,704.808 2321.26,704.808 \n",
       "  \"/>\n",
       "<polyline clip-path=\"url(#clip4102)\" style=\"stroke:#000000; stroke-width:2; stroke-opacity:0.1; fill:none\" points=\"\n",
       "  189.504,434.289 2321.26,434.289 \n",
       "  \"/>\n",
       "<polyline clip-path=\"url(#clip4102)\" style=\"stroke:#000000; stroke-width:2; stroke-opacity:0.1; fill:none\" points=\"\n",
       "  189.504,163.771 2321.26,163.771 \n",
       "  \"/>\n",
       "<polyline clip-path=\"url(#clip4100)\" style=\"stroke:#000000; stroke-width:4; stroke-opacity:1; fill:none\" points=\"\n",
       "  189.504,1503.47 2321.26,1503.47 \n",
       "  \"/>\n",
       "<polyline clip-path=\"url(#clip4100)\" style=\"stroke:#000000; stroke-width:4; stroke-opacity:1; fill:none\" points=\"\n",
       "  189.504,1503.47 189.504,47.2441 \n",
       "  \"/>\n",
       "<polyline clip-path=\"url(#clip4100)\" style=\"stroke:#000000; stroke-width:4; stroke-opacity:1; fill:none\" points=\"\n",
       "  249.837,1503.47 249.837,1481.63 \n",
       "  \"/>\n",
       "<polyline clip-path=\"url(#clip4100)\" style=\"stroke:#000000; stroke-width:4; stroke-opacity:1; fill:none\" points=\"\n",
       "  752.609,1503.47 752.609,1481.63 \n",
       "  \"/>\n",
       "<polyline clip-path=\"url(#clip4100)\" style=\"stroke:#000000; stroke-width:4; stroke-opacity:1; fill:none\" points=\"\n",
       "  1255.38,1503.47 1255.38,1481.63 \n",
       "  \"/>\n",
       "<polyline clip-path=\"url(#clip4100)\" style=\"stroke:#000000; stroke-width:4; stroke-opacity:1; fill:none\" points=\"\n",
       "  1758.15,1503.47 1758.15,1481.63 \n",
       "  \"/>\n",
       "<polyline clip-path=\"url(#clip4100)\" style=\"stroke:#000000; stroke-width:4; stroke-opacity:1; fill:none\" points=\"\n",
       "  2260.93,1503.47 2260.93,1481.63 \n",
       "  \"/>\n",
       "<polyline clip-path=\"url(#clip4100)\" style=\"stroke:#000000; stroke-width:4; stroke-opacity:1; fill:none\" points=\"\n",
       "  189.504,1245.85 221.48,1245.85 \n",
       "  \"/>\n",
       "<polyline clip-path=\"url(#clip4100)\" style=\"stroke:#000000; stroke-width:4; stroke-opacity:1; fill:none\" points=\"\n",
       "  189.504,975.327 221.48,975.327 \n",
       "  \"/>\n",
       "<polyline clip-path=\"url(#clip4100)\" style=\"stroke:#000000; stroke-width:4; stroke-opacity:1; fill:none\" points=\"\n",
       "  189.504,704.808 221.48,704.808 \n",
       "  \"/>\n",
       "<polyline clip-path=\"url(#clip4100)\" style=\"stroke:#000000; stroke-width:4; stroke-opacity:1; fill:none\" points=\"\n",
       "  189.504,434.289 221.48,434.289 \n",
       "  \"/>\n",
       "<polyline clip-path=\"url(#clip4100)\" style=\"stroke:#000000; stroke-width:4; stroke-opacity:1; fill:none\" points=\"\n",
       "  189.504,163.771 221.48,163.771 \n",
       "  \"/>\n",
       "<g clip-path=\"url(#clip4100)\">\n",
       "<text style=\"fill:#000000; fill-opacity:1; font-family:Arial,Helvetica Neue,Helvetica,sans-serif; font-size:48px; text-anchor:middle;\" transform=\"rotate(0, 249.837, 1557.47)\" x=\"249.837\" y=\"1557.47\">-2</text>\n",
       "</g>\n",
       "<g clip-path=\"url(#clip4100)\">\n",
       "<text style=\"fill:#000000; fill-opacity:1; font-family:Arial,Helvetica Neue,Helvetica,sans-serif; font-size:48px; text-anchor:middle;\" transform=\"rotate(0, 752.609, 1557.47)\" x=\"752.609\" y=\"1557.47\">-1</text>\n",
       "</g>\n",
       "<g clip-path=\"url(#clip4100)\">\n",
       "<text style=\"fill:#000000; fill-opacity:1; font-family:Arial,Helvetica Neue,Helvetica,sans-serif; font-size:48px; text-anchor:middle;\" transform=\"rotate(0, 1255.38, 1557.47)\" x=\"1255.38\" y=\"1557.47\">0</text>\n",
       "</g>\n",
       "<g clip-path=\"url(#clip4100)\">\n",
       "<text style=\"fill:#000000; fill-opacity:1; font-family:Arial,Helvetica Neue,Helvetica,sans-serif; font-size:48px; text-anchor:middle;\" transform=\"rotate(0, 1758.15, 1557.47)\" x=\"1758.15\" y=\"1557.47\">1</text>\n",
       "</g>\n",
       "<g clip-path=\"url(#clip4100)\">\n",
       "<text style=\"fill:#000000; fill-opacity:1; font-family:Arial,Helvetica Neue,Helvetica,sans-serif; font-size:48px; text-anchor:middle;\" transform=\"rotate(0, 2260.93, 1557.47)\" x=\"2260.93\" y=\"1557.47\">2</text>\n",
       "</g>\n",
       "<g clip-path=\"url(#clip4100)\">\n",
       "<text style=\"fill:#000000; fill-opacity:1; font-family:Arial,Helvetica Neue,Helvetica,sans-serif; font-size:48px; text-anchor:end;\" transform=\"rotate(0, 165.504, 1263.35)\" x=\"165.504\" y=\"1263.35\">-5.0</text>\n",
       "</g>\n",
       "<g clip-path=\"url(#clip4100)\">\n",
       "<text style=\"fill:#000000; fill-opacity:1; font-family:Arial,Helvetica Neue,Helvetica,sans-serif; font-size:48px; text-anchor:end;\" transform=\"rotate(0, 165.504, 992.827)\" x=\"165.504\" y=\"992.827\">-2.5</text>\n",
       "</g>\n",
       "<g clip-path=\"url(#clip4100)\">\n",
       "<text style=\"fill:#000000; fill-opacity:1; font-family:Arial,Helvetica Neue,Helvetica,sans-serif; font-size:48px; text-anchor:end;\" transform=\"rotate(0, 165.504, 722.308)\" x=\"165.504\" y=\"722.308\">0.0</text>\n",
       "</g>\n",
       "<g clip-path=\"url(#clip4100)\">\n",
       "<text style=\"fill:#000000; fill-opacity:1; font-family:Arial,Helvetica Neue,Helvetica,sans-serif; font-size:48px; text-anchor:end;\" transform=\"rotate(0, 165.504, 451.789)\" x=\"165.504\" y=\"451.789\">2.5</text>\n",
       "</g>\n",
       "<g clip-path=\"url(#clip4100)\">\n",
       "<text style=\"fill:#000000; fill-opacity:1; font-family:Arial,Helvetica Neue,Helvetica,sans-serif; font-size:48px; text-anchor:end;\" transform=\"rotate(0, 165.504, 181.271)\" x=\"165.504\" y=\"181.271\">5.0</text>\n",
       "</g>\n",
       "<polyline clip-path=\"url(#clip4102)\" style=\"stroke:#009af9; stroke-width:4; stroke-opacity:1; fill:none\" points=\"\n",
       "  249.837,488.393 300.114,370.231 350.391,274.575 400.669,200.128 450.946,145.592 501.223,109.667 551.5,91.0551 601.778,88.4582 652.055,100.577 702.332,126.114 \n",
       "  752.609,163.771 802.887,212.248 853.164,270.247 903.441,336.47 953.718,409.618 1004,488.393 1054.27,571.496 1104.55,657.63 1154.83,745.494 1205.1,833.791 \n",
       "  1255.38,921.223 1305.66,1006.49 1355.94,1088.3 1406.21,1165.34 1456.49,1236.32 1506.77,1299.95 1557.05,1354.92 1607.32,1399.93 1657.6,1433.69 1707.88,1454.9 \n",
       "  1758.15,1462.26 1808.43,1454.47 1858.71,1430.23 1908.99,1388.25 1959.26,1327.22 2009.54,1245.85 2059.82,1142.83 2110.1,1016.88 2160.37,866.687 2210.65,690.958 \n",
       "  2260.93,488.393 \n",
       "  \"/>\n",
       "<polygon clip-path=\"url(#clip4100)\" points=\"\n",
       "1958.43,251.724 2249.26,251.724 2249.26,130.764 1958.43,130.764 \n",
       "  \" fill=\"#ffffff\" fill-rule=\"evenodd\" fill-opacity=\"1\"/>\n",
       "<polyline clip-path=\"url(#clip4100)\" style=\"stroke:#000000; stroke-width:4; stroke-opacity:1; fill:none\" points=\"\n",
       "  1958.43,251.724 2249.26,251.724 2249.26,130.764 1958.43,130.764 1958.43,251.724 \n",
       "  \"/>\n",
       "<polyline clip-path=\"url(#clip4100)\" style=\"stroke:#009af9; stroke-width:4; stroke-opacity:1; fill:none\" points=\"\n",
       "  1982.43,191.244 2126.43,191.244 \n",
       "  \"/>\n",
       "<g clip-path=\"url(#clip4100)\">\n",
       "<text style=\"fill:#000000; fill-opacity:1; font-family:Arial,Helvetica Neue,Helvetica,sans-serif; font-size:48px; text-anchor:start;\" transform=\"rotate(0, 2150.43, 208.744)\" x=\"2150.43\" y=\"208.744\">y1</text>\n",
       "</g>\n",
       "</svg>\n"
      ]
     },
     "execution_count": 9,
     "metadata": {},
     "output_type": "execute_result"
    }
   ],
   "source": [
    "Plots.plot(x -> 2x^3 - 8x + x^2 - 2, -2:0.1:2)"
   ]
  },
  {
   "cell_type": "code",
   "execution_count": 10,
   "metadata": {},
   "outputs": [
    {
     "data": {
      "text/plain": [
       "1.8926300741039"
      ]
     },
     "execution_count": 10,
     "metadata": {},
     "output_type": "execute_result"
    }
   ],
   "source": [
    "@polyvar x\n",
    "p = 2x^3 - 8x + x^2 - 2\n",
    "opts = Options(:relaxation_degree=>5,\n",
    "               :solver=>MosekTools.Mosek.Optimizer,\n",
    "               :verbose=>false,\n",
    "               :domain => IA.Interval(-2, 2))\n",
    "\n",
    "# compute the MAXIMUM of x\n",
    "optimize_sublevel(p, x, opts)"
   ]
  },
  {
   "cell_type": "markdown",
   "metadata": {},
   "source": [
    "## Example 2"
   ]
  },
  {
   "cell_type": "markdown",
   "metadata": {},
   "source": [
    "Compute the maximum of $x$ subject to $p(x, y) = x^2 + y^2 - 1 \\leq 0$."
   ]
  },
  {
   "cell_type": "code",
   "execution_count": 11,
   "metadata": {},
   "outputs": [
    {
     "data": {
      "text/plain": [
       "0.9999999923542788"
      ]
     },
     "execution_count": 11,
     "metadata": {},
     "output_type": "execute_result"
    }
   ],
   "source": [
    "@polyvar x y\n",
    "p = x^2 + y^2 - 1\n",
    "\n",
    "opts = Options(:relaxation_degree=>4,\n",
    "               :solver=>MosekTools.Mosek.Optimizer,\n",
    "               :verbose=>false)\n",
    "\n",
    "# compute the MAXIMUM of x\n",
    "optimize_sublevel(p, x + 0*y, opts)"
   ]
  },
  {
   "cell_type": "markdown",
   "metadata": {},
   "source": [
    "The same but specifying a box domain it works as expected:"
   ]
  },
  {
   "cell_type": "code",
   "execution_count": 12,
   "metadata": {},
   "outputs": [
    {
     "data": {
      "text/plain": [
       "0.7499999934933786"
      ]
     },
     "execution_count": 12,
     "metadata": {},
     "output_type": "execute_result"
    }
   ],
   "source": [
    "opts = Options(:relaxation_degree=>4,\n",
    "               :solver=>MosekTools.Mosek.Optimizer,\n",
    "               :verbose=>false,\n",
    "               :domain => IA.IntervalBox(IA.Interval(-0.75, 0.75), 2))\n",
    "\n",
    "# compute the MAXIMUM of x\n",
    "optimize_sublevel(p, x + 0*y, opts)"
   ]
  },
  {
   "cell_type": "markdown",
   "metadata": {},
   "source": [
    "## Appendix"
   ]
  },
  {
   "cell_type": "code",
   "execution_count": 3,
   "metadata": {},
   "outputs": [
    {
     "data": {
      "text/plain": [
       "solve! (generic function with 2 methods)"
      ]
     },
     "execution_count": 3,
     "metadata": {},
     "output_type": "execute_result"
    }
   ],
   "source": [
    "# solve model, check feasibility and return polynomials\n",
    "function solve!(model, verbose=true)\n",
    "    \n",
    "    optimize!(model)\n",
    "    \n",
    "    if verbose\n",
    "        println(\"JuMP.termination_status(model) = \", JuMP.termination_status(model))\n",
    "        println(\"JuMP.primal_status(model) = \", JuMP.primal_status(model))\n",
    "        println(\"JuMP.dual_status(model) = \", JuMP.dual_status(model))\n",
    "        println(\"JuMP.objective_bound(model) = \", JuMP.objective_bound(model))\n",
    "        println(\"JuMP.objective_value(model) = \", JuMP.objective_value(model))\n",
    "    end\n",
    "end"
   ]
  },
  {
   "cell_type": "code",
   "execution_count": 4,
   "metadata": {},
   "outputs": [
    {
     "data": {
      "text/plain": [
       "_get_box_domain (generic function with 1 method)"
      ]
     },
     "execution_count": 4,
     "metadata": {},
     "output_type": "execute_result"
    }
   ],
   "source": [
    "# transform a dom (Interval or IntervalBox) into a basic semialgebraic set\n",
    "function _get_box_domain(vars, dom)\n",
    "    if length(vars) == 1\n",
    "        # box constraints dimension one\n",
    "        x = first(vars)\n",
    "        B = @set IA.inf(dom) <= x && x <= IA.sup(dom)\n",
    "    else\n",
    "        # box constraints multidimensional case\n",
    "        x = vars\n",
    "        N = length(vars)\n",
    "        Bi =[@set IA.inf(dom[i]) <= x[i] && x[i] <= IA.sup(dom[i]) for i in 1:N]\n",
    "        B = reduce(intersect, Bi)\n",
    "    end\n",
    "    return B\n",
    "end"
   ]
  },
  {
   "cell_type": "code",
   "execution_count": 5,
   "metadata": {},
   "outputs": [
    {
     "data": {
      "text/plain": [
       "optimize_sublevel (generic function with 1 method)"
      ]
     },
     "execution_count": 5,
     "metadata": {},
     "output_type": "execute_result"
    }
   ],
   "source": [
    "# optimize the function f(x) subject to the constraint p(x) <= 0\n",
    "function optimize_sublevel(p, f, opts)\n",
    "    # unpack solver and options\n",
    "    solver = opts[:solver]\n",
    "    verbose = opts[:verbose]\n",
    "    order = opts[:relaxation_degree]\n",
    "    \n",
    "    model = SOSModel(with_optimizer(solver, QUIET=!verbose))\n",
    "\n",
    "    # define sub-level set of p as a basic semialgebraic set\n",
    "    dom = @set p <= 0\n",
    "    if :domain in keys(opts)\n",
    "        B = _get_box_domain(variables(p), opts[:domain])\n",
    "        dom = dom ∩ B\n",
    "    end\n",
    "    @variable(model, γ)\n",
    "    \n",
    "    # max value of f s.t. sub-level set constraint\n",
    "    @constraint(model, f <= γ, domain=dom, maxdegree=order)\n",
    "    @objective(model, Min, γ)\n",
    "\n",
    "    solve!(model, verbose)\n",
    "    return objective_value(model)\n",
    "end"
   ]
  }
 ],
 "metadata": {
  "@webio": {
   "lastCommId": null,
   "lastKernelId": null
  },
  "kernelspec": {
   "display_name": "Julia 1.1.0-rc2",
   "language": "julia",
   "name": "julia-1.1"
  },
  "language_info": {
   "file_extension": ".jl",
   "mimetype": "application/julia",
   "name": "julia",
   "version": "1.1.0"
  }
 },
 "nbformat": 4,
 "nbformat_minor": 2
}
