{
 "cells": [
  {
   "cell_type": "markdown",
   "metadata": {},
   "source": [
    "## mRPI Decomposed"
   ]
  },
  {
   "cell_type": "markdown",
   "metadata": {},
   "source": [
    "In this notebook we consider an idea for estimating the mRPI set using a compositional approach."
   ]
  },
  {
   "cell_type": "markdown",
   "metadata": {},
   "source": [
    "References:\n",
    "\n",
    "- [1] *Invariant Approximations of the Minimal Robust Positively Invariant Set*. S. V. Rakovic, E. C. Kerrigan, K. I. Kouramas, and D. Q. Mayne, https://ieeexplore.ieee.org/document/1406138\n",
    "- [2] Bogomolov, S., Forets, M., Frehse, G., Viry, F., Podelski, A., & Schilling, C. (2018, April). Reach set approximation through decomposition with low-dimensional sets and high-dimensional matrices. In Proceedings of the 21st International Conference on Hybrid Systems: Computation and Control (part of CPS Week) (pp. 41-50). ACM. , https://arxiv.org/abs/1801.09526"
   ]
  },
  {
   "cell_type": "markdown",
   "metadata": {},
   "source": [
    "Consider the discrete-time dynamical system $x^+ = Ax + w$, where $A$ is strictly stable, and $w \\in W$ where $W$ is a compact set that contains the origin. The associated robust positively invariant set is defined as\n",
    "$$\n",
    "F_\\infty = \\bigoplus_{i=0}^\\infty A^i W,\n",
    "$$\n",
    "where $A^0 := I_n$. However, this set cannot be computed exactly in general, and one should consider either inner or outer approximations. For any $s \\geq 0$, let\n",
    "$$\n",
    "F_s := \\bigoplus_{i=0}^{s-1} A^i W,\\qquad F_0 := \\{ 0\\}.\n",
    "$$\n",
    "\n",
    "In [Theorem 2-3, 1] a method is proposed such that for any given $\\varepsilon > 0$ it computes $\\alpha \\in \\mathbb{R}$ and $s > 1$ such that if $F(s, \\alpha) := (1-\\alpha)^{-1}F_s$, the following holds:\n",
    "\n",
    "$$\n",
    "F_\\infty \\subseteq F(s, \\alpha) \\subseteq F_\\infty \\oplus B_p^n(\\varepsilon).\n",
    "$$\n",
    "Moreover, $F(s, \\alpha)$ is a robust positively invariant set of $x^+ = Ax + w$."
   ]
  },
  {
   "cell_type": "markdown",
   "metadata": {},
   "source": [
    "## Decomposed recurrence"
   ]
  },
  {
   "cell_type": "markdown",
   "metadata": {},
   "source": [
    "The first terms of sequence $\\{ F_s \\}_{s\\geq 1}$ are $F_0 = \\{0_n\\}$, $F_1 = W$, $F_2 = W\\oplus AW$, $F_3 = W\\oplus AW \\oplus A^2 W$, etc.\n",
    "\n",
    "The non-decomposed version of this recurrence, identifying with the time-variant inputs case in [2], is\n",
    "\n",
    "$$\n",
    "X_k = X_0 \\oplus V_k \\\\\n",
    "V_{k+1} = V_k \\oplus A^k W\n",
    "$$\n",
    "where $k\\geq 0$, and $X_0 = \\{0_n\\}$ and $V_0 = \\{0_n\\}$. Then, $X_0 = \\{0_n\\}$, $X_1 = W$, $X_2 = W \\oplus AW$, $X_3 = W \\oplus AW \\oplus A^2 W$, etc."
   ]
  },
  {
   "cell_type": "markdown",
   "metadata": {},
   "source": [
    "For different ways of computing the non-decomposed recurrence for a given order $s$ see the notebook `mRPI.ipynb`."
   ]
  },
  {
   "cell_type": "markdown",
   "metadata": {},
   "source": [
    "We consider next the *decomposed* recurrence. Let $dcp(\\cdot)$ denote the Cartesian decomposition function, $\\textrm{dcp}(X) = \\times_{j} \\pi_j X$ where $j$ runs through as many indices as blocks of variables are considered in the decomposition.\n",
    "\n",
    "$$\n",
    "\\hat{X}_{i, k} = \\hat{V}_{i, k} \\\\\n",
    "\\hat{V}_{i, k+1} = \\hat{V}_{i, k} \\oplus \\textrm{dcp}_i (A^k W),\n",
    "$$\n",
    "$k \\geq 1$, and $\\hat{V}_{0} = \\{0_n\\}$. Here $i = 1,\\ldots, b$. Note that the first term of the decomposed recurrence are\n",
    "$$\n",
    "\\hat{X}_{i, 1} = \\hat{V}_{i, 1} = \\hat{V}_{i, 0} \\oplus \\textrm{dcp}_i (A^0 W) = \\textrm{dcp}_i (W)\n",
    "$$\n",
    "$$\n",
    "\\hat{X}_{i, 2} = \\hat{V}_{i, 2} = \\hat{V}_{i, 1} \\oplus \\textrm{dcp}_i (A W) = \\textrm{dcp}_i (W) \\oplus \\textrm{dcp}_i (AW)\n",
    "$$\n",
    "$$\n",
    "\\hat{X}_{i, 3} = \\hat{V}_{i, 3} = \\hat{V}_{i, 2} \\oplus \\textrm{dcp}_i (A^2 W) = \\textrm{dcp}_i (W) \\oplus \\textrm{dcp}_i (AW) \\oplus \\textrm{dcp}_i (A^2W)\n",
    "$$"
   ]
  },
  {
   "cell_type": "markdown",
   "metadata": {},
   "source": [
    "In general,\n",
    "\n",
    "$$\n",
    "\\hat{X}_{i, k} = \\bigoplus_{j=0}^{k-1} \\textrm{dcp}_i(A^j W),\\qquad k \\geq 1, ~i = 1,\\ldots b.\n",
    "$$"
   ]
  },
  {
   "cell_type": "markdown",
   "metadata": {},
   "source": [
    "## Implementation of the decomposed recurrence"
   ]
  },
  {
   "cell_type": "code",
   "execution_count": 55,
   "metadata": {},
   "outputs": [
    {
     "data": {
      "text/plain": [
       "2×2 Array{Float64,2}:\n",
       " -0.5  1.0\n",
       "  0.0  0.5"
      ]
     },
     "execution_count": 55,
     "metadata": {},
     "output_type": "execute_result"
    }
   ],
   "source": [
    "using LazySets, LazySets.Approximations\n",
    "\n",
    "A = [-1/2 1.0; 0.0 1/2.0]"
   ]
  },
  {
   "cell_type": "code",
   "execution_count": 59,
   "metadata": {},
   "outputs": [
    {
     "data": {
      "text/plain": [
       "BallInf{Float64}([0.0, 0.0], 1.0)"
      ]
     },
     "execution_count": 59,
     "metadata": {},
     "output_type": "execute_result"
    }
   ],
   "source": [
    "W = BallInf(zeros(2), 1.0) # this is already decomposed, but it does not need to be the case in general"
   ]
  },
  {
   "cell_type": "code",
   "execution_count": 60,
   "metadata": {},
   "outputs": [
    {
     "data": {
      "text/plain": [
       "CartesianProductArray{Float64,LazySet{Float64}}(LazySet{Float64}[Interval{Float64,Interval{Float64}}([-1, 1]), Interval{Float64,Interval{Float64}}([-1, 1])])"
      ]
     },
     "execution_count": 60,
     "metadata": {},
     "output_type": "execute_result"
    }
   ],
   "source": [
    "X̂1 = decompose(W, [[1], [2]], Interval)"
   ]
  },
  {
   "cell_type": "code",
   "execution_count": 61,
   "metadata": {},
   "outputs": [],
   "source": [
    "b = 2 # number of blocks\n",
    "dcp_AjW(k) = [decompose(A^j * W, [[i] for i in 1:b], Interval) for j = 0:k-1];"
   ]
  },
  {
   "cell_type": "code",
   "execution_count": 62,
   "metadata": {},
   "outputs": [
    {
     "data": {
      "text/plain": [
       "CartesianProductArray{Float64,Zonotope{Float64}}(Zonotope{Float64}[Zonotope{Float64}([0.0], [1.0 1.5 0.25 0.375]), Zonotope{Float64}([0.0], [1.0 0.5 0.25 0.125])])"
      ]
     },
     "execution_count": 62,
     "metadata": {},
     "output_type": "execute_result"
    }
   ],
   "source": [
    "D = dcp_AjW(4)\n",
    "X̂4 = CartesianProductArray([reduce(minkowski_sum, [array(D[j])[i] for j in 1:length(D)]) for i in 1:b])"
   ]
  },
  {
   "cell_type": "code",
   "execution_count": 63,
   "metadata": {},
   "outputs": [
    {
     "data": {
      "text/plain": [
       "Zonotope{Float64}([0.0, 0.0], \n",
       "  [1, 1]  =  1.0\n",
       "  [2, 2]  =  1.0\n",
       "  [1, 3]  =  -0.5\n",
       "  [1, 4]  =  1.0\n",
       "  [2, 4]  =  0.5\n",
       "  [1, 5]  =  0.25\n",
       "  [2, 6]  =  0.25\n",
       "  [1, 7]  =  -0.125\n",
       "  [1, 8]  =  0.25\n",
       "  [2, 8]  =  0.125)"
      ]
     },
     "execution_count": 63,
     "metadata": {},
     "output_type": "execute_result"
    }
   ],
   "source": [
    "# computation using Zonotopes\n",
    "Wzono = convert(Zonotope, W)\n",
    "\n",
    "X1 = Wzono\n",
    "X2 = minkowski_sum(X1, linear_map(A, Wzono))\n",
    "X3 = minkowski_sum(X2, linear_map(A^2, Wzono))\n",
    "X4 = minkowski_sum(X3, linear_map(A^3, Wzono))"
   ]
  },
  {
   "cell_type": "code",
   "execution_count": 64,
   "metadata": {},
   "outputs": [],
   "source": [
    "using Plots"
   ]
  },
  {
   "cell_type": "code",
   "execution_count": 65,
   "metadata": {},
   "outputs": [
    {
     "data": {
      "image/svg+xml": [
       "<?xml version=\"1.0\" encoding=\"utf-8\"?>\n",
       "<svg xmlns=\"http://www.w3.org/2000/svg\" xmlns:xlink=\"http://www.w3.org/1999/xlink\" width=\"600\" height=\"400\" viewBox=\"0 0 2400 1600\">\n",
       "<defs>\n",
       "  <clipPath id=\"clip2500\">\n",
       "    <rect x=\"0\" y=\"0\" width=\"2400\" height=\"1600\"/>\n",
       "  </clipPath>\n",
       "</defs>\n",
       "<polygon clip-path=\"url(#clip2500)\" points=\"\n",
       "0,1600 2400,1600 2400,0 0,0 \n",
       "  \" fill=\"#ffffff\" fill-rule=\"evenodd\" fill-opacity=\"1\"/>\n",
       "<defs>\n",
       "  <clipPath id=\"clip2501\">\n",
       "    <rect x=\"480\" y=\"0\" width=\"1681\" height=\"1600\"/>\n",
       "  </clipPath>\n",
       "</defs>\n",
       "<polygon clip-path=\"url(#clip2500)\" points=\"\n",
       "189.504,1503.47 2321.26,1503.47 2321.26,47.2441 189.504,47.2441 \n",
       "  \" fill=\"#ffffff\" fill-rule=\"evenodd\" fill-opacity=\"1\"/>\n",
       "<defs>\n",
       "  <clipPath id=\"clip2502\">\n",
       "    <rect x=\"189\" y=\"47\" width=\"2133\" height=\"1457\"/>\n",
       "  </clipPath>\n",
       "</defs>\n",
       "<polyline clip-path=\"url(#clip2502)\" style=\"stroke:#000000; stroke-width:2; stroke-opacity:0.1; fill:none\" points=\"\n",
       "  290.059,1503.47 290.059,47.2441 \n",
       "  \"/>\n",
       "<polyline clip-path=\"url(#clip2502)\" style=\"stroke:#000000; stroke-width:2; stroke-opacity:0.1; fill:none\" points=\"\n",
       "  611.833,1503.47 611.833,47.2441 \n",
       "  \"/>\n",
       "<polyline clip-path=\"url(#clip2502)\" style=\"stroke:#000000; stroke-width:2; stroke-opacity:0.1; fill:none\" points=\"\n",
       "  933.608,1503.47 933.608,47.2441 \n",
       "  \"/>\n",
       "<polyline clip-path=\"url(#clip2502)\" style=\"stroke:#000000; stroke-width:2; stroke-opacity:0.1; fill:none\" points=\"\n",
       "  1255.38,1503.47 1255.38,47.2441 \n",
       "  \"/>\n",
       "<polyline clip-path=\"url(#clip2502)\" style=\"stroke:#000000; stroke-width:2; stroke-opacity:0.1; fill:none\" points=\"\n",
       "  1577.16,1503.47 1577.16,47.2441 \n",
       "  \"/>\n",
       "<polyline clip-path=\"url(#clip2502)\" style=\"stroke:#000000; stroke-width:2; stroke-opacity:0.1; fill:none\" points=\"\n",
       "  1898.93,1503.47 1898.93,47.2441 \n",
       "  \"/>\n",
       "<polyline clip-path=\"url(#clip2502)\" style=\"stroke:#000000; stroke-width:2; stroke-opacity:0.1; fill:none\" points=\"\n",
       "  2220.71,1503.47 2220.71,47.2441 \n",
       "  \"/>\n",
       "<polyline clip-path=\"url(#clip2502)\" style=\"stroke:#000000; stroke-width:2; stroke-opacity:0.1; fill:none\" points=\"\n",
       "  189.504,1324.88 2321.26,1324.88 \n",
       "  \"/>\n",
       "<polyline clip-path=\"url(#clip2502)\" style=\"stroke:#000000; stroke-width:2; stroke-opacity:0.1; fill:none\" points=\"\n",
       "  189.504,1141.71 2321.26,1141.71 \n",
       "  \"/>\n",
       "<polyline clip-path=\"url(#clip2502)\" style=\"stroke:#000000; stroke-width:2; stroke-opacity:0.1; fill:none\" points=\"\n",
       "  189.504,958.533 2321.26,958.533 \n",
       "  \"/>\n",
       "<polyline clip-path=\"url(#clip2502)\" style=\"stroke:#000000; stroke-width:2; stroke-opacity:0.1; fill:none\" points=\"\n",
       "  189.504,775.359 2321.26,775.359 \n",
       "  \"/>\n",
       "<polyline clip-path=\"url(#clip2502)\" style=\"stroke:#000000; stroke-width:2; stroke-opacity:0.1; fill:none\" points=\"\n",
       "  189.504,592.186 2321.26,592.186 \n",
       "  \"/>\n",
       "<polyline clip-path=\"url(#clip2502)\" style=\"stroke:#000000; stroke-width:2; stroke-opacity:0.1; fill:none\" points=\"\n",
       "  189.504,409.012 2321.26,409.012 \n",
       "  \"/>\n",
       "<polyline clip-path=\"url(#clip2502)\" style=\"stroke:#000000; stroke-width:2; stroke-opacity:0.1; fill:none\" points=\"\n",
       "  189.504,225.838 2321.26,225.838 \n",
       "  \"/>\n",
       "<polyline clip-path=\"url(#clip2500)\" style=\"stroke:#000000; stroke-width:4; stroke-opacity:1; fill:none\" points=\"\n",
       "  189.504,1503.47 2321.26,1503.47 \n",
       "  \"/>\n",
       "<polyline clip-path=\"url(#clip2500)\" style=\"stroke:#000000; stroke-width:4; stroke-opacity:1; fill:none\" points=\"\n",
       "  189.504,1503.47 189.504,47.2441 \n",
       "  \"/>\n",
       "<polyline clip-path=\"url(#clip2500)\" style=\"stroke:#000000; stroke-width:4; stroke-opacity:1; fill:none\" points=\"\n",
       "  290.059,1503.47 290.059,1481.63 \n",
       "  \"/>\n",
       "<polyline clip-path=\"url(#clip2500)\" style=\"stroke:#000000; stroke-width:4; stroke-opacity:1; fill:none\" points=\"\n",
       "  611.833,1503.47 611.833,1481.63 \n",
       "  \"/>\n",
       "<polyline clip-path=\"url(#clip2500)\" style=\"stroke:#000000; stroke-width:4; stroke-opacity:1; fill:none\" points=\"\n",
       "  933.608,1503.47 933.608,1481.63 \n",
       "  \"/>\n",
       "<polyline clip-path=\"url(#clip2500)\" style=\"stroke:#000000; stroke-width:4; stroke-opacity:1; fill:none\" points=\"\n",
       "  1255.38,1503.47 1255.38,1481.63 \n",
       "  \"/>\n",
       "<polyline clip-path=\"url(#clip2500)\" style=\"stroke:#000000; stroke-width:4; stroke-opacity:1; fill:none\" points=\"\n",
       "  1577.16,1503.47 1577.16,1481.63 \n",
       "  \"/>\n",
       "<polyline clip-path=\"url(#clip2500)\" style=\"stroke:#000000; stroke-width:4; stroke-opacity:1; fill:none\" points=\"\n",
       "  1898.93,1503.47 1898.93,1481.63 \n",
       "  \"/>\n",
       "<polyline clip-path=\"url(#clip2500)\" style=\"stroke:#000000; stroke-width:4; stroke-opacity:1; fill:none\" points=\"\n",
       "  2220.71,1503.47 2220.71,1481.63 \n",
       "  \"/>\n",
       "<polyline clip-path=\"url(#clip2500)\" style=\"stroke:#000000; stroke-width:4; stroke-opacity:1; fill:none\" points=\"\n",
       "  189.504,1324.88 221.48,1324.88 \n",
       "  \"/>\n",
       "<polyline clip-path=\"url(#clip2500)\" style=\"stroke:#000000; stroke-width:4; stroke-opacity:1; fill:none\" points=\"\n",
       "  189.504,1141.71 221.48,1141.71 \n",
       "  \"/>\n",
       "<polyline clip-path=\"url(#clip2500)\" style=\"stroke:#000000; stroke-width:4; stroke-opacity:1; fill:none\" points=\"\n",
       "  189.504,958.533 221.48,958.533 \n",
       "  \"/>\n",
       "<polyline clip-path=\"url(#clip2500)\" style=\"stroke:#000000; stroke-width:4; stroke-opacity:1; fill:none\" points=\"\n",
       "  189.504,775.359 221.48,775.359 \n",
       "  \"/>\n",
       "<polyline clip-path=\"url(#clip2500)\" style=\"stroke:#000000; stroke-width:4; stroke-opacity:1; fill:none\" points=\"\n",
       "  189.504,592.186 221.48,592.186 \n",
       "  \"/>\n",
       "<polyline clip-path=\"url(#clip2500)\" style=\"stroke:#000000; stroke-width:4; stroke-opacity:1; fill:none\" points=\"\n",
       "  189.504,409.012 221.48,409.012 \n",
       "  \"/>\n",
       "<polyline clip-path=\"url(#clip2500)\" style=\"stroke:#000000; stroke-width:4; stroke-opacity:1; fill:none\" points=\"\n",
       "  189.504,225.838 221.48,225.838 \n",
       "  \"/>\n",
       "<g clip-path=\"url(#clip2500)\">\n",
       "<text style=\"fill:#000000; fill-opacity:1; font-family:Arial,Helvetica Neue,Helvetica,sans-serif; font-size:48px; text-anchor:middle;\" transform=\"rotate(0, 290.059, 1557.47)\" x=\"290.059\" y=\"1557.47\">-3</text>\n",
       "</g>\n",
       "<g clip-path=\"url(#clip2500)\">\n",
       "<text style=\"fill:#000000; fill-opacity:1; font-family:Arial,Helvetica Neue,Helvetica,sans-serif; font-size:48px; text-anchor:middle;\" transform=\"rotate(0, 611.833, 1557.47)\" x=\"611.833\" y=\"1557.47\">-2</text>\n",
       "</g>\n",
       "<g clip-path=\"url(#clip2500)\">\n",
       "<text style=\"fill:#000000; fill-opacity:1; font-family:Arial,Helvetica Neue,Helvetica,sans-serif; font-size:48px; text-anchor:middle;\" transform=\"rotate(0, 933.608, 1557.47)\" x=\"933.608\" y=\"1557.47\">-1</text>\n",
       "</g>\n",
       "<g clip-path=\"url(#clip2500)\">\n",
       "<text style=\"fill:#000000; fill-opacity:1; font-family:Arial,Helvetica Neue,Helvetica,sans-serif; font-size:48px; text-anchor:middle;\" transform=\"rotate(0, 1255.38, 1557.47)\" x=\"1255.38\" y=\"1557.47\">0</text>\n",
       "</g>\n",
       "<g clip-path=\"url(#clip2500)\">\n",
       "<text style=\"fill:#000000; fill-opacity:1; font-family:Arial,Helvetica Neue,Helvetica,sans-serif; font-size:48px; text-anchor:middle;\" transform=\"rotate(0, 1577.16, 1557.47)\" x=\"1577.16\" y=\"1557.47\">1</text>\n",
       "</g>\n",
       "<g clip-path=\"url(#clip2500)\">\n",
       "<text style=\"fill:#000000; fill-opacity:1; font-family:Arial,Helvetica Neue,Helvetica,sans-serif; font-size:48px; text-anchor:middle;\" transform=\"rotate(0, 1898.93, 1557.47)\" x=\"1898.93\" y=\"1557.47\">2</text>\n",
       "</g>\n",
       "<g clip-path=\"url(#clip2500)\">\n",
       "<text style=\"fill:#000000; fill-opacity:1; font-family:Arial,Helvetica Neue,Helvetica,sans-serif; font-size:48px; text-anchor:middle;\" transform=\"rotate(0, 2220.71, 1557.47)\" x=\"2220.71\" y=\"1557.47\">3</text>\n",
       "</g>\n",
       "<g clip-path=\"url(#clip2500)\">\n",
       "<text style=\"fill:#000000; fill-opacity:1; font-family:Arial,Helvetica Neue,Helvetica,sans-serif; font-size:48px; text-anchor:end;\" transform=\"rotate(0, 165.504, 1342.38)\" x=\"165.504\" y=\"1342.38\">-1.5</text>\n",
       "</g>\n",
       "<g clip-path=\"url(#clip2500)\">\n",
       "<text style=\"fill:#000000; fill-opacity:1; font-family:Arial,Helvetica Neue,Helvetica,sans-serif; font-size:48px; text-anchor:end;\" transform=\"rotate(0, 165.504, 1159.21)\" x=\"165.504\" y=\"1159.21\">-1.0</text>\n",
       "</g>\n",
       "<g clip-path=\"url(#clip2500)\">\n",
       "<text style=\"fill:#000000; fill-opacity:1; font-family:Arial,Helvetica Neue,Helvetica,sans-serif; font-size:48px; text-anchor:end;\" transform=\"rotate(0, 165.504, 976.033)\" x=\"165.504\" y=\"976.033\">-0.5</text>\n",
       "</g>\n",
       "<g clip-path=\"url(#clip2500)\">\n",
       "<text style=\"fill:#000000; fill-opacity:1; font-family:Arial,Helvetica Neue,Helvetica,sans-serif; font-size:48px; text-anchor:end;\" transform=\"rotate(0, 165.504, 792.859)\" x=\"165.504\" y=\"792.859\">0.0</text>\n",
       "</g>\n",
       "<g clip-path=\"url(#clip2500)\">\n",
       "<text style=\"fill:#000000; fill-opacity:1; font-family:Arial,Helvetica Neue,Helvetica,sans-serif; font-size:48px; text-anchor:end;\" transform=\"rotate(0, 165.504, 609.686)\" x=\"165.504\" y=\"609.686\">0.5</text>\n",
       "</g>\n",
       "<g clip-path=\"url(#clip2500)\">\n",
       "<text style=\"fill:#000000; fill-opacity:1; font-family:Arial,Helvetica Neue,Helvetica,sans-serif; font-size:48px; text-anchor:end;\" transform=\"rotate(0, 165.504, 426.512)\" x=\"165.504\" y=\"426.512\">1.0</text>\n",
       "</g>\n",
       "<g clip-path=\"url(#clip2500)\">\n",
       "<text style=\"fill:#000000; fill-opacity:1; font-family:Arial,Helvetica Neue,Helvetica,sans-serif; font-size:48px; text-anchor:end;\" transform=\"rotate(0, 165.504, 243.338)\" x=\"165.504\" y=\"243.338\">1.5</text>\n",
       "</g>\n",
       "<polygon clip-path=\"url(#clip2502)\" points=\"\n",
       "2260.93,88.4582 249.837,88.4582 249.837,1462.26 2260.93,1462.26 2260.93,88.4582 2260.93,88.4582 \n",
       "  \" fill=\"#009af9\" fill-rule=\"evenodd\" fill-opacity=\"0.5\"/>\n",
       "<polyline clip-path=\"url(#clip2502)\" style=\"stroke:#000000; stroke-width:4; stroke-opacity:0.5; fill:none\" points=\"\n",
       "  2260.93,88.4582 249.837,88.4582 249.837,1462.26 2260.93,1462.26 2260.93,88.4582 \n",
       "  \"/>\n",
       "<polygon clip-path=\"url(#clip2502)\" points=\"\n",
       "249.837,1462.26 1456.49,1462.26 2260.93,1004.33 2260.93,88.4582 1054.27,88.4582 249.837,546.392 249.837,1462.26 249.837,1462.26 \n",
       "  \" fill=\"#e26f46\" fill-rule=\"evenodd\" fill-opacity=\"0.5\"/>\n",
       "<polyline clip-path=\"url(#clip2502)\" style=\"stroke:#000000; stroke-width:4; stroke-opacity:0.5; fill:none\" points=\"\n",
       "  249.837,1462.26 1456.49,1462.26 2260.93,1004.33 2260.93,88.4582 1054.27,88.4582 249.837,546.392 249.837,1462.26 \n",
       "  \"/>\n",
       "</svg>\n"
      ]
     },
     "execution_count": 65,
     "metadata": {},
     "output_type": "execute_result"
    }
   ],
   "source": [
    "plot(X̂4)\n",
    "plot!(X4)"
   ]
  },
  {
   "cell_type": "markdown",
   "metadata": {},
   "source": [
    "## Error estimate"
   ]
  },
  {
   "cell_type": "markdown",
   "metadata": {},
   "source": [
    "- `k=1`: $X_1 = W$ and $\\hat{X}_1 = \\textrm{dcp}(W)$, then $d_H(\\hat{X}_1, X_1) = \\gamma$ where $\\gamma := d_H(\\textrm{dcp}(W), W) = d_H(\\hat{W}, W)$ where $\\hat{W} := \\textrm{dcp}(W)$.\n",
    "- `k=2`: $X_2 = W \\oplus AW$ and $\\hat{X}_2 = \\textrm{dcp}(W) \\oplus \\textrm{dcp}(AW)$\n",
    "- `k=3`: $X_2 = W \\oplus AW \\oplus A^2 W$ and $\\hat{X}_2 = \\textrm{dcp}(W) \\oplus \\textrm{dcp}(AW) \\oplus \\textrm{dcp}(A^2 W)$"
   ]
  },
  {
   "cell_type": "markdown",
   "metadata": {},
   "source": [
    "Note that decomposition distributes over Minkowski sum. Then we can equally do:\n",
    "\n",
    "$$\n",
    "\\hat{X}_2 = \\textrm{dcp}(W \\oplus AW \\oplus A^2 W).\n",
    "$$"
   ]
  },
  {
   "cell_type": "markdown",
   "metadata": {},
   "source": [
    "$d_H(X_2, \\hat{X}_2) = d_H(W \\oplus AW, \\textrm{dcp}(W) \\oplus \\textrm{dcp}(AW))$"
   ]
  },
  {
   "cell_type": "markdown",
   "metadata": {},
   "source": [
    "Let's try to bound this term:"
   ]
  },
  {
   "cell_type": "markdown",
   "metadata": {},
   "source": [
    "$$\n",
    "d_H(X_2, \\hat{X}_2) = d_H(W \\oplus AW, \\textrm{dcp}(W) \\oplus \\textrm{dcp}(AW))\\\\\n",
    "= d_H(W \\oplus AW, \\hat{W} \\oplus \\textrm{dcp}(AW))\\qquad (1)\n",
    "$$"
   ]
  },
  {
   "cell_type": "markdown",
   "metadata": {},
   "source": [
    "Then we can upper bound it using the following property:"
   ]
  },
  {
   "cell_type": "markdown",
   "metadata": {},
   "source": [
    "$d_H(A\\oplus B, C \\oplus D) \\leq d_H(A\\oplus C) + d_H(B \\oplus D)\\qquad (2)$."
   ]
  },
  {
   "cell_type": "markdown",
   "metadata": {},
   "source": [
    "For a proof see for example [Prop. 1.17, S. Hu and N. S. Papageorgiou, Handbook of multivalued analysis. Vol. I, ser. Mathematics and its Applications. Kluwer, 1997, vol. 419.]"
   ]
  },
  {
   "cell_type": "markdown",
   "metadata": {},
   "source": [
    "From (1) and (2) we have that\n",
    "$$\n",
    "d_H(X_2, \\hat{X}_2) \\leq d_H(W, \\hat{W}) + d_H(AW, \\textrm{dcp}(AW)).\n",
    "$$"
   ]
  },
  {
   "cell_type": "markdown",
   "metadata": {},
   "source": [
    "To simplify let us now assume that the perturbation $W$ is initially decomposed. Then $d_H(W, \\hat{W}) = 0$ and\n",
    "\n",
    "$$\n",
    "d_H(X_2, \\hat{X}_2) \\leq d_H(A\\hat{W}, \\textrm{dcp}(A\\hat{W})).\n",
    "$$"
   ]
  },
  {
   "cell_type": "markdown",
   "metadata": {},
   "source": [
    "Consider [Prop. 1 and Prop. 2, Bogomolov, S., Forets, M., Frehse, G., Viry, F., Podelski, A., & Schilling, C. (2018, April). Reach set approximation through decomposition with low-dimensional sets and high-dimensional matrices. In Proceedings of the 21st International Conference on Hybrid Systems: Computation and Control (part of CPS Week) (pp. 41-50). ACM.]:\n",
    "\n",
    "$$\n",
    "    d_H(\\Phi \\hat{X}, \\textrm{dcp}(\\Phi \\hat{X})) \\leq (b-1) \\sum_{j=1}^b \\alpha_j \\Delta_j,\n",
    "$$\n",
    "where $b$ is the number of blocks, $q_j = \\textrm{arg max}_i \\Vert \\Phi_{ij} \\Vert_p$ the index of the block with largest matrix norm in the $j$-th column block, so that $\\alpha_j := \\max_{i \\neq q_j} \\Vert \\Phi_{ij} \\Vert_p$ is the second largest matrix norm in the $j$-th column-block, and $\\Delta_j$ is the diameter of $\\hat{X}_j$."
   ]
  },
  {
   "cell_type": "markdown",
   "metadata": {},
   "source": [
    "Then under the running assumptions,\n",
    "\n",
    "$$\n",
    "d_H(X_2, \\hat{X}_2) \\leq (b-1) \\sum_{j=1}^b \\alpha_j \\Delta_j.\n",
    "$$\n",
    "where $\\alpha_j := \\max_{i \\neq q_j} \\Vert A{ij} \\Vert_p$ with $q_j$ as defined above, and $\\Delta_j$ is the diameter of $\\hat{W}_j$."
   ]
  },
  {
   "cell_type": "markdown",
   "metadata": {},
   "source": [
    "## Questions"
   ]
  },
  {
   "cell_type": "markdown",
   "metadata": {},
   "source": [
    "- Is $\\hat{F}(s, \\alpha)$ also a positively invariant set?\n",
    "- Work out the case where $W$ is not initially decomposed.\n",
    "- Work out the general case (higher order $s$)."
   ]
  }
 ],
 "metadata": {
  "@webio": {
   "lastCommId": null,
   "lastKernelId": null
  },
  "kernelspec": {
   "display_name": "Julia 1.1.0-rc2",
   "language": "julia",
   "name": "julia-1.1"
  },
  "language_info": {
   "file_extension": ".jl",
   "mimetype": "application/julia",
   "name": "julia",
   "version": "1.1.0"
  }
 },
 "nbformat": 4,
 "nbformat_minor": 2
}
