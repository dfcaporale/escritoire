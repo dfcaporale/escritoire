{
 "cells": [
  {
   "cell_type": "code",
   "execution_count": 18,
   "metadata": {},
   "outputs": [
    {
     "data": {
      "text/plain": [
       "2019-03-12T21:40:36.932"
      ]
     },
     "execution_count": 18,
     "metadata": {},
     "output_type": "execute_result"
    }
   ],
   "source": [
    "using Dates\n",
    "now()"
   ]
  },
  {
   "cell_type": "markdown",
   "metadata": {},
   "source": [
    "Speaker: [Marcelo Forets](http://main.marcelo-forets.fr/), Universidad de la República.\n",
    "Centro Universitario Regional del Este (CURE), Maldonado, Uruguay."
   ]
  },
  {
   "cell_type": "markdown",
   "metadata": {},
   "source": [
    "## Contents:\n",
    "\n",
    "- [Context of the talk](#Context-of-the-talk)\n",
    "- [XFZ18 Algorithm](#XFZ18-Algorithm)\n",
    "- [Implementation using SumOfSquares](#Implementation-using-SumOfSquares)\n",
    "- [Results](#Results)"
   ]
  },
  {
   "cell_type": "markdown",
   "metadata": {},
   "source": [
    "---\n",
    "\n",
    "- JuMP/MOI have a great *expressive power*.\n",
    "- `PolyJuMP` and `SumOfSquares` JuMP extensions are easy to use and efficient, useful for control theory and optimization modeling.\n",
    "- Research problem: reachability analysis of dynamical systems. \n",
    "    - *Given a model of a system, exhaustively and automatically check whether this model meets a given specification.*"
   ]
  },
  {
   "cell_type": "markdown",
   "metadata": {},
   "source": [
    "## Context of the talk"
   ]
  },
  {
   "cell_type": "markdown",
   "metadata": {},
   "source": [
    "Textbook definition:\n",
    "\n",
    "Consider a dynamical system $x'(t) = f(x(t), u(t), p(t))$, where:\n",
    "\n",
    "- $t$ is time, say $t \\in [0, T]$ for some $T \\geq 0$ (possibly $+\\infty$)\n",
    "- $u$ is the input bounded by a set $u \\in \\mathcal{U} \\subset \\mathbb{R}^m$\n",
    "- $p$ is a vector of possibly time-varying parameters, $p \\in \\mathcal{P} \\in \\mathbb{R}^p$\n",
    "\n",
    "The reachable set at a certain point in time, $r$, is defined as the union of possible system states at $t = r$:\n",
    "\n",
    "$$\n",
    "\\mathcal{R}(\\delta) = \\left\\{ x(\\delta) = \\int_0^\\delta f(x(t), u(t), p(t)) dt ~:~x(t) \\in \\mathcal{X}_0,~~u([0, \\delta]) \\in \\mathcal{U},~~p([0, \\delta]) \\in \\mathcal{P}\\right\\}.\n",
    "$$\n",
    "Here $u([0, \\delta]) := \\bigcup\\limits_{t \\in [0, \\delta]} u(t)$.\n",
    "\n",
    "The reachable set for a time interval is defined as the union of reachable sets at points in time withing the interval $t \\in [0, \\delta]$:\n",
    "\n",
    "$$\n",
    "\\mathcal{R}([0, \\delta]) = \\bigcup\\limits_{t \\in [0, \\delta]} \\mathcal{R}(t).\n",
    "$$\n",
    "\n",
    "The purpose of reachability analysis is to reason about the set $\\mathcal{R}([0, T])$ given $T \\geq 0$. This set is often called the *flowpipe* of the dynamical system, which can only be computed approximately.\n",
    "\n",
    "This notion extends naturally to *hybrid* dynamical systems, that is, described by continuous systems \"connected\" by discrete transitions."
   ]
  },
  {
   "cell_type": "markdown",
   "metadata": {},
   "source": [
    "---\n",
    "\n",
    "Simplest case: take $x'(t) = Ax(t)$, whose solution for a given $x_0 \\in \\mathcal{X}_0$ is $x(t) = e^{At}x_0$."
   ]
  },
  {
   "cell_type": "markdown",
   "metadata": {},
   "source": [
    "![property](figures/NonValidatedFP.png)"
   ]
  },
  {
   "cell_type": "markdown",
   "metadata": {},
   "source": [
    "![property](figures/ValidatedFP.png)"
   ]
  },
  {
   "cell_type": "markdown",
   "metadata": {},
   "source": [
    "Research in last decade of so in this domain has led to:\n",
    "\n",
    "- wrapping free algorithms \n",
    "- can handle discrete switchings\n",
    "- methods that scale very well with the sytem's dimension"
   ]
  },
  {
   "cell_type": "markdown",
   "metadata": {},
   "source": [
    "![reach_homog_boxes](figures/reach_homog_boxes.png)"
   ]
  },
  {
   "cell_type": "markdown",
   "metadata": {},
   "source": [
    "![reach_homog_zonotopes](figures/reach_homog_zonotopes.png)"
   ]
  },
  {
   "cell_type": "markdown",
   "metadata": {},
   "source": [
    "[LazySets.jl](https://github.com/JuliaReach/LazySets.jl/)\n",
    "\n",
    "![lazysets](figures/LazySets.png)"
   ]
  },
  {
   "cell_type": "markdown",
   "metadata": {},
   "source": [
    "![JuliaReach](figures/JuliaReachpaper_short.png)"
   ]
  },
  {
   "cell_type": "markdown",
   "metadata": {},
   "source": [
    "![Reachability](figures/Reachability.png)"
   ]
  },
  {
   "cell_type": "markdown",
   "metadata": {},
   "source": [
    "### Motivations\n",
    "\n",
    "What are some **applications** of these methods?\n",
    "\n",
    "- Cyber-physical systems\n",
    "    - Systems that combine communication, control, and physical processes.\n",
    "    - Can be safety-critical or mission-critical\n",
    "    - Can have several interacting components.\n",
    "\n",
    "Why?\n",
    "\n",
    "- Formal verification can provide performance and correctness guarantees.\n",
    "\n",
    " \n",
    "Examples:\n",
    "\n",
    "- Mechanical Engineering (Building, Gearbox)\n",
    "- Self-driving vehicles driving (Platoon)\n",
    "- Aeronautics (Spacecraft rendez-vous)\n",
    "\n",
    "- Related domain: Verification of deep neural networks, see [NeuralVerif.jl](https://github.com/sisl/NeuralVerification.jl)"
   ]
  },
  {
   "cell_type": "markdown",
   "metadata": {},
   "source": [
    "![property](figures/Property.png)"
   ]
  },
  {
   "cell_type": "markdown",
   "metadata": {},
   "source": [
    "Building benchmark:\n",
    "\n",
    "- The building model is a model of the Los Angeles University Hospital with 8 floors, each of which has 3 degrees of freedom.\n",
    "- It has 48 state variables in which we are mostly interested in the twenty-fifth state x25(t), which is the motion of the first coordinate.\n",
    "- The twenty-fifth state is the interested output of the building model and should not reach a given unsafe region.\n",
    "![Building](figures/Building.png)"
   ]
  },
  {
   "cell_type": "markdown",
   "metadata": {},
   "source": [
    "Spacecraft rendez-vous benchmark:\n",
    "\n",
    "- Spacecraft rendezvous is a perfect use case for formal verification of hybrid systems since mission failure can cost lives and is extremely expensive.\n",
    "- The hybrid nature of this benchmark originates from a switched controller, while the dynamics of the spacecraft is purely continuous. In particular, the modes are approaching (100m-1000m), rendezvous attempt (less than 100m), and aborting.\n",
    "\n",
    "![SpacecraftRendezVous](figures/SpacecraftRendezVous.png)"
   ]
  },
  {
   "cell_type": "markdown",
   "metadata": {},
   "source": [
    "Platooning benchmark:\n",
    "\n",
    "- The platooning benchmark considers a platoon of three vehicles following each other. This benchmark considers loss of communication between vehicles.\n",
    "\n",
    "![Platooning](figures/Platooning.png)"
   ]
  },
  {
   "cell_type": "markdown",
   "metadata": {},
   "source": [
    "![juliareachorg](figures/JuliaReachOrg.png)"
   ]
  },
  {
   "cell_type": "markdown",
   "metadata": {},
   "source": [
    "See the github org [JuliaReach.org](juliareach.org) or contact us in the [gitter channel](https://gitter.im/JuliaReach/Lobby) if you want to know more."
   ]
  },
  {
   "cell_type": "markdown",
   "metadata": {},
   "source": [
    "## XFZ18 Algorithm"
   ]
  },
  {
   "cell_type": "markdown",
   "metadata": {},
   "source": [
    "So far so good.. How about systems of **polynomial** ODEs?\n",
    "\n",
    "$$\n",
    "x'(t) = f(x(t)),   \\textrm{where f is a polynomial map}\n",
    "$$\n",
    "\n",
    "Several methods exist, such as simulation-based methods: Zonotope-based, Taylor models, HJE, simulation-based, hybridization, ... (see, e.g. [ARCH report in the NLN category](https://easychair.org/publications/paper/gjfh)).\n",
    "\n",
    "In the rest of this notebook we consider the method from [1]:\n",
    "\n",
    "- Produces a sequence of inner-approximations with guarantee of convergence to the exact reachable set,\n",
    "- Consider the *Hamilton-Jacobi-Bellman equation*:\n",
    "\n",
    "$$\n",
    "\\mathcal{L}\\Phi : \\dfrac{\\partial \\Phi(x, t)}{\\partial t} + \\dfrac{\\partial \\Phi(x, t)}{\\partial x} f(x) = 0,\n",
    "$$\n",
    "with initial value $\\Phi(x, 0) = V_0(x)$.\n",
    "\n",
    "- It is shown in [1] that it can be solved by a converging hierarchy of semidefinite programs.\n",
    "-  We obtain a monotonically decreasing sequence of infima $\\epsilon$ that characterize the discrepancy between the approximate solution to the HJE and its exact solution over $\\mathcal{X} \\times [0, T]$ with the relaxation order increasing"
   ]
  },
  {
   "cell_type": "markdown",
   "metadata": {},
   "source": [
    "---"
   ]
  },
  {
   "cell_type": "markdown",
   "metadata": {},
   "source": [
    "The methods allows to obtain an under (also an over) approximation of the reach set at a given time by solving a semi-definite program.\n",
    "\n",
    "Assumptions:\n",
    "\n",
    "- the right-hand side $f(x)$ is polynomial\n",
    "- initial set is given as a basic semialgebraic set $\\mathcal{X}_0 = \\{x  : V_0(x) \\le 0\\}$ compact set, $V_0(x)$ multivariate polynomial\n",
    "- we have an a-priori enclosing set $\\mathcal{Y} = \\{x : g(x) \\ge 0\\}$\n"
   ]
  },
  {
   "cell_type": "markdown",
   "metadata": {},
   "source": [
    "[1] Xue, B., Fränzle, M., & Zhan, N. (2018, April). [Under-Approximating Reach Sets for Polynomial Continuous Systems. In Proceedings of the 21st International Conference on Hybrid Systems: Computation and Control (part of CPS Week) (pp. 51-60). ACM.](https://dl.acm.org/citation.cfm?id=3178133)\n",
    "\n",
    "[2] Korda, Milan, Didier Henrion, and Colin N. Jones. \"Inner approximations of the region of attraction for polynomial dynamical systems.\" [IFAC Proceedings Volumes 46.23 (2013): 534-539.](https://www.sciencedirect.com/science/article/pii/S1474667016317153)."
   ]
  },
  {
   "cell_type": "markdown",
   "metadata": {},
   "source": [
    "Optimization problem:"
   ]
  },
  {
   "cell_type": "markdown",
   "metadata": {},
   "source": [
    "![Program](figures/Program.png)"
   ]
  },
  {
   "cell_type": "markdown",
   "metadata": {},
   "source": [
    "**Theorem:** The set $\\{x : \\Phi(x, \\tau) \\le 0\\}$ is an under-approximation of the reachable set for $\\tau \\in [t_0, T]$."
   ]
  },
  {
   "cell_type": "markdown",
   "metadata": {},
   "source": [
    "---"
   ]
  },
  {
   "cell_type": "markdown",
   "metadata": {},
   "source": [
    "#### SOS relaxation"
   ]
  },
  {
   "cell_type": "markdown",
   "metadata": {},
   "source": [
    "![Program](figures/SOS.png)"
   ]
  },
  {
   "cell_type": "markdown",
   "metadata": {},
   "source": [
    "## Modeling with JuMP"
   ]
  },
  {
   "cell_type": "markdown",
   "metadata": {},
   "source": [
    "Consider the following [Van der Pol oscillator](https://en.wikipedia.org/wiki/Van_der_Pol_oscillator):\n",
    "\n",
    "$$\n",
    "\\begin{array}\n",
    "\\dot{x}_1 &= x_2 \\\\\n",
    "\\dot{x}_2 &= -0.2x_1 + x_2 - 0.2x_1^2 x_2\n",
    "\\end{array}\n",
    "$$\n",
    "The Van der Pol oscillator was introduced by the Dutch physicist Balthasar van der Pol. It's often considered as the first benchmark for a reachability or invariant computation method on nonlinear dynamics.\n",
    "\n",
    "It's interesting because:\n",
    "\n",
    "- The system has a stable limit cycle however shows complicated behavior.\n",
    "- If you could not find a fixed point in the first period then you probably may never find one.\n",
    "- The flowpipe construction methods suffer from may suffer from wrapping effect.\n",
    "\n",
    "However:\n",
    "\n",
    "- Can use subdivision in 2D to obtain a better accuracy, it is not expensive.\n",
    "- May use different heuristics to improve performance and accuracy that only work in 2D."
   ]
  },
  {
   "cell_type": "code",
   "execution_count": 1,
   "metadata": {},
   "outputs": [
    {
     "data": {
      "text/plain": [
       "differentiate (generic function with 18 methods)"
      ]
     },
     "execution_count": 1,
     "metadata": {},
     "output_type": "execute_result"
    }
   ],
   "source": [
    "# load packages\n",
    "using MultivariatePolynomials,\n",
    "      JuMP,\n",
    "      PolyJuMP,\n",
    "      SumOfSquares,\n",
    "      DynamicPolynomials,\n",
    "      MathematicalSystems,\n",
    "      MosekTools\n",
    " \n",
    "const ∂ = differentiate"
   ]
  },
  {
   "cell_type": "code",
   "execution_count": 25,
   "metadata": {},
   "outputs": [
    {
     "data": {
      "text/plain": [
       "(x₁, x₂, t)"
      ]
     },
     "execution_count": 25,
     "metadata": {},
     "output_type": "execute_result"
    }
   ],
   "source": [
    "# symbolic variables\n",
    "@polyvar x₁ x₂ t"
   ]
  },
  {
   "cell_type": "markdown",
   "metadata": {},
   "source": [
    "(Tip: type subindices with `x\\_1[TABl]`)"
   ]
  },
  {
   "cell_type": "code",
   "execution_count": 26,
   "metadata": {},
   "outputs": [
    {
     "data": {
      "text/plain": [
       "PolyVar{true}"
      ]
     },
     "execution_count": 26,
     "metadata": {},
     "output_type": "execute_result"
    }
   ],
   "source": [
    "typeof(x₁)"
   ]
  },
  {
   "cell_type": "code",
   "execution_count": 27,
   "metadata": {},
   "outputs": [
    {
     "data": {
      "text/plain": [
       "MultivariatePolynomials.AbstractVariable"
      ]
     },
     "execution_count": 27,
     "metadata": {},
     "output_type": "execute_result"
    }
   ],
   "source": [
    "supertype(typeof(x₁))"
   ]
  },
  {
   "cell_type": "code",
   "execution_count": 28,
   "metadata": {},
   "outputs": [
    {
     "data": {
      "text/plain": [
       "2-element Array{Polynomial{true,Float64},1}:\n",
       " 2.0x₂                    \n",
       " -0.4x₁²x₂ - 0.4x₁ + 2.0x₂"
      ]
     },
     "execution_count": 28,
     "metadata": {},
     "output_type": "execute_result"
    }
   ],
   "source": [
    "# time duration (scaled, see dynamics below)\n",
    "T = 1.0 \n",
    "\n",
    "# dynamics\n",
    "f = 2 * [x₂, -0.2*x₁ + x₂ - 0.2*x₁^2*x₂] "
   ]
  },
  {
   "cell_type": "code",
   "execution_count": 29,
   "metadata": {},
   "outputs": [
    {
     "data": {
      "text/latex": [
       "$$ x₁^{2} + x₂^{2} - 0.25 $$"
      ],
      "text/plain": [
       "x₁² + x₂² - 0.25"
      ]
     },
     "execution_count": 29,
     "metadata": {},
     "output_type": "execute_result"
    }
   ],
   "source": [
    "# set of initial states X₀ = {x: V₀(x) <= 0}\n",
    "V₀ = x₁^2 + x₂^2 - 0.25"
   ]
  },
  {
   "cell_type": "code",
   "execution_count": 30,
   "metadata": {},
   "outputs": [
    {
     "data": {
      "text/plain": [
       "Polynomial{true,Float64}"
      ]
     },
     "execution_count": 30,
     "metadata": {},
     "output_type": "execute_result"
    }
   ],
   "source": [
    "typeof(V₀)"
   ]
  },
  {
   "cell_type": "code",
   "execution_count": 31,
   "metadata": {},
   "outputs": [
    {
     "data": {
      "text/latex": [
       "$$ -x₁^{2} - x₂^{2} + 25 $$"
      ],
      "text/plain": [
       "-x₁² - x₂² + 25"
      ]
     },
     "execution_count": 31,
     "metadata": {},
     "output_type": "execute_result"
    }
   ],
   "source": [
    "# constraints Y = {x: g(x) >= 0} compact search space Y x [0, T]\n",
    "g = 25 - x₁^2 - x₂^2"
   ]
  },
  {
   "cell_type": "code",
   "execution_count": 85,
   "metadata": {},
   "outputs": [
    {
     "data": {
      "text/plain": [
       "12"
      ]
     },
     "execution_count": 85,
     "metadata": {},
     "output_type": "execute_result"
    }
   ],
   "source": [
    "# degree of the relaxation\n",
    "k = 12"
   ]
  },
  {
   "cell_type": "code",
   "execution_count": 86,
   "metadata": {},
   "outputs": [
    {
     "data": {
      "text/plain": [
       "455-element MonomialVector{true}:\n",
       " x₁¹²    \n",
       " x₁¹¹x₂  \n",
       " x₁¹¹t   \n",
       " x₁¹⁰x₂² \n",
       " x₁¹⁰x₂t \n",
       " x₁¹⁰t²  \n",
       " x₁⁹x₂³  \n",
       " x₁⁹x₂²t \n",
       " x₁⁹x₂t² \n",
       " x₁⁹t³   \n",
       " x₁⁸x₂⁴  \n",
       " x₁⁸x₂³t \n",
       " x₁⁸x₂²t²\n",
       " ⋮       \n",
       " x₂t²    \n",
       " t³      \n",
       " x₁²     \n",
       " x₁x₂    \n",
       " x₁t     \n",
       " x₂²     \n",
       " x₂t     \n",
       " t²      \n",
       " x₁      \n",
       " x₂      \n",
       " t       \n",
       " 1       "
      ]
     },
     "execution_count": 86,
     "metadata": {},
     "output_type": "execute_result"
    }
   ],
   "source": [
    "# monomial vector up to order k, 0 <= sum_i alpha_i <= k, if alpha_i is the exponent of x_i\n",
    "X = monomials([x₁, x₂], 0:k)\n",
    "XT = monomials([x₁, x₂, t], 0:k)"
   ]
  },
  {
   "cell_type": "code",
   "execution_count": 87,
   "metadata": {},
   "outputs": [
    {
     "data": {
      "text/latex": [
       "$$ \\begin{alignat*}{1}\\text{feasibility}\\\\\n",
       "\\text{Subject to} \\quad\\end{alignat*}\n",
       " $$"
      ],
      "text/plain": [
       "A JuMP Model\n",
       "Feasibility problem with:\n",
       "Variables: 0\n",
       "Model mode: AUTOMATIC\n",
       "CachingOptimizer state: EMPTY_OPTIMIZER\n",
       "Solver name: Mosek"
      ]
     },
     "execution_count": 87,
     "metadata": {},
     "output_type": "execute_result"
    }
   ],
   "source": [
    "# create a SOS JuMP model to solve with Mosek\n",
    "model = SOSModel(with_optimizer(Mosek.Optimizer))"
   ]
  },
  {
   "cell_type": "code",
   "execution_count": 88,
   "metadata": {},
   "outputs": [],
   "source": [
    "# add unknown Φ to the model\n",
    "@variable(model, Φ, Poly(XT));"
   ]
  },
  {
   "cell_type": "code",
   "execution_count": 89,
   "metadata": {},
   "outputs": [],
   "source": [
    "# jacobian\n",
    "∂t = α -> ∂(α, t)\n",
    "∂xf = α -> ∂(α, x₁) * f[1] + ∂(α, x₂) * f[2] \n",
    "LΦ = ∂t(Φ) + ∂xf(Φ);"
   ]
  },
  {
   "cell_type": "code",
   "execution_count": 90,
   "metadata": {},
   "outputs": [],
   "source": [
    "# Φ(x, t) at time 0\n",
    "Φ₀ = subs(Φ, t => 0.);"
   ]
  },
  {
   "cell_type": "code",
   "execution_count": 91,
   "metadata": {},
   "outputs": [
    {
     "data": {
      "text/latex": [
       "$$ ϵ $$"
      ],
      "text/plain": [
       "ϵ"
      ]
     },
     "execution_count": 91,
     "metadata": {},
     "output_type": "execute_result"
    }
   ],
   "source": [
    "# scalar variable\n",
    "@variable(model, ϵ)"
   ]
  },
  {
   "cell_type": "code",
   "execution_count": 92,
   "metadata": {},
   "outputs": [
    {
     "data": {
      "text/plain": [
       "SemialgebraicSets.BasicSemialgebraicSet{Float64,Polynomial{true,Float64},SemialgebraicSets.AlgebraicSet{Float64,Polynomial{true,Float64},SemialgebraicSets.Buchberger,SemialgebraicSets.SolverUsingMultiplicationMatrices{SemialgebraicSets.GröbnerBasisMultiplicationMatricesAlgorithm,SemialgebraicSets.ReorderedSchurMultiplicationMatricesSolver{Float64,Random.MersenneTwister}}}}(Algebraic Set defined by no equality\n",
       ", Polynomial{true,Float64}[-t² + t, -x₁² - x₂² + 25.0])"
      ]
     },
     "execution_count": 92,
     "metadata": {},
     "output_type": "execute_result"
    }
   ],
   "source": [
    "dom1 = @set t*(T-t) >= 0 && g >= 0"
   ]
  },
  {
   "cell_type": "code",
   "execution_count": 93,
   "metadata": {},
   "outputs": [
    {
     "data": {
      "text/plain": [
       "2-element Array{Polynomial{true,Float64},1}:\n",
       " -t² + t          \n",
       " -x₁² - x₂² + 25.0"
      ]
     },
     "execution_count": 93,
     "metadata": {},
     "output_type": "execute_result"
    }
   ],
   "source": [
    "dom1.p"
   ]
  },
  {
   "cell_type": "code",
   "execution_count": 94,
   "metadata": {},
   "outputs": [
    {
     "data": {
      "text/plain": [
       "SemialgebraicSets.BasicSemialgebraicSet{Float64,Polynomial{true,Float64},SemialgebraicSets.AlgebraicSet{Float64,Polynomial{true,Float64},SemialgebraicSets.Buchberger,SemialgebraicSets.SolverUsingMultiplicationMatrices{SemialgebraicSets.GröbnerBasisMultiplicationMatricesAlgorithm,SemialgebraicSets.ReorderedSchurMultiplicationMatricesSolver{Int64,Random.MersenneTwister}}}}(Algebraic Set defined by no equality\n",
       ", Polynomial{true,Float64}[-x₁² - x₂² + 25.0])"
      ]
     },
     "execution_count": 94,
     "metadata": {},
     "output_type": "execute_result"
    }
   ],
   "source": [
    "dom2 = @set g >= 0"
   ]
  },
  {
   "cell_type": "code",
   "execution_count": 95,
   "metadata": {},
   "outputs": [
    {
     "data": {
      "text/latex": [
       "$ ϵ \\geq 0.0 $"
      ],
      "text/plain": [
       "ϵ ≥ 0.0"
      ]
     },
     "execution_count": 95,
     "metadata": {},
     "output_type": "execute_result"
    }
   ],
   "source": [
    "@constraint(model, ϵ >= 0.)"
   ]
  },
  {
   "cell_type": "code",
   "execution_count": 96,
   "metadata": {},
   "outputs": [
    {
     "data": {
      "text/latex": [
       "$$ ϵ $$"
      ],
      "text/plain": [
       "ϵ"
      ]
     },
     "execution_count": 96,
     "metadata": {},
     "output_type": "execute_result"
    }
   ],
   "source": [
    "# defining the constraints\n",
    "@constraint(model, ϵ >= 0.)\n",
    "@constraint(model, LΦ ∈ SOSCone(), domain = dom1)\n",
    "@constraint(model, ϵ - LΦ ∈ SOSCone(), domain = dom1)\n",
    "@constraint(model, Φ₀ - V₀ ∈ SOSCone(), domain = dom2)\n",
    "@constraint(model, ϵ + V₀ - Φ₀ ∈ SOSCone(), domain = dom2)\n",
    "\n",
    "@objective(model, Min, ϵ)"
   ]
  },
  {
   "cell_type": "code",
   "execution_count": 97,
   "metadata": {},
   "outputs": [
    {
     "name": "stdout",
     "output_type": "stream",
     "text": [
      "Problem\n",
      "  Name                   :                 \n",
      "  Objective sense        : min             \n",
      "  Type                   : CONIC (conic optimization problem)\n",
      "  Constraints            : 1544            \n",
      "  Cones                  : 0               \n",
      "  Scalar variables       : 456             \n",
      "  Matrix variables       : 10              \n",
      "  Integer variables      : 0               \n",
      "\n",
      "Optimizer started.\n",
      "Presolve started.\n",
      "Linear dependency checker started.\n",
      "Linear dependency checker terminated.\n",
      "Eliminator started.\n",
      "Freed constraints in eliminator : 0\n",
      "Eliminator terminated.\n",
      "Eliminator - tries                  : 1                 time                   : 0.00            \n",
      "Lin. dep.  - tries                  : 1                 time                   : 0.00            \n",
      "Lin. dep.  - number                 : 0               \n",
      "Presolve terminated. Time: 0.00    \n",
      "Problem\n",
      "  Name                   :                 \n",
      "  Objective sense        : min             \n",
      "  Type                   : CONIC (conic optimization problem)\n",
      "  Constraints            : 1544            \n",
      "  Cones                  : 0               \n",
      "  Scalar variables       : 456             \n",
      "  Matrix variables       : 10              \n",
      "  Integer variables      : 0               \n",
      "\n",
      "Optimizer  - threads                : 8               \n",
      "Optimizer  - solved problem         : the primal      \n",
      "Optimizer  - Constraints            : 1542\n",
      "Optimizer  - Cones                  : 1\n",
      "Optimizer  - Scalar variables       : 457               conic                  : 456             \n",
      "Optimizer  - Semi-definite variables: 10                scalarized             : 30074           \n",
      "Factor     - setup time             : 0.16              dense det. time        : 0.00            \n",
      "Factor     - ML order time          : 0.06              GP order time          : 0.00            \n",
      "Factor     - nonzeros before factor : 4.80e+05          after factor           : 7.71e+05        \n",
      "Factor     - dense dim.             : 2                 flops                  : 9.25e+08        \n",
      "ITE PFEAS    DFEAS    GFEAS    PRSTATUS   POBJ              DOBJ              MU       TIME  \n",
      "0   2.0e+00  8.0e+00  1.0e+00  0.00e+00   0.000000000e+00   0.000000000e+00   1.0e+00  0.18  \n",
      "1   9.1e-01  3.6e+00  6.2e-01  -7.85e-06  3.887272364e-02   -7.277377899e-04  4.6e-01  0.40  \n",
      "2   2.7e-01  1.1e+00  4.6e-01  9.08e-01   7.784730830e-01   4.303286309e-03   1.3e-01  0.64  \n",
      "3   6.2e-02  2.5e-01  4.5e-01  1.70e+00   2.542790179e-01   2.166139301e-02   3.1e-02  0.87  \n",
      "4   1.7e-02  6.7e-02  2.7e-01  1.87e+00   1.039863645e-01   6.446008794e-02   8.4e-03  1.09  \n",
      "5   9.8e-03  3.9e-02  2.1e-01  1.38e+00   1.294203141e-01   1.090778203e-01   4.9e-03  1.31  \n",
      "6   5.5e-03  2.2e-02  1.6e-01  1.15e+00   5.083213108e-02   4.002533190e-02   2.8e-03  1.53  \n",
      "7   1.9e-03  7.7e-03  1.0e-01  1.25e+00   2.537306998e-02   2.192283756e-02   9.7e-04  1.75  \n",
      "8   7.9e-04  3.2e-03  6.5e-02  1.18e+00   1.234485829e-02   1.103229702e-02   4.0e-04  1.97  \n",
      "9   1.7e-04  6.8e-04  3.2e-02  1.12e+00   3.993774249e-03   3.722721925e-03   8.5e-05  2.18  \n",
      "10  3.9e-05  1.6e-04  1.5e-02  1.04e+00   1.425668588e-03   1.364297146e-03   2.0e-05  2.40  \n",
      "11  1.1e-05  4.5e-05  7.1e-03  8.67e-01   8.002658418e-04   7.817030218e-04   5.7e-06  2.63  \n",
      "12  4.4e-06  1.8e-05  3.5e-03  6.29e-01   7.247429610e-04   7.167569170e-04   2.2e-06  2.88  \n",
      "13  1.1e-06  4.6e-06  9.2e-04  2.91e-01   1.130477537e-03   1.129671794e-03   5.7e-07  3.11  \n",
      "14  5.1e-07  2.0e-06  3.4e-04  -2.08e-01  1.970391763e-03   1.973234438e-03   2.5e-07  3.34  \n",
      "15  1.8e-07  6.0e-07  7.3e-05  -3.88e-01  4.513283862e-03   4.525581099e-03   7.3e-08  3.57  \n",
      "16  1.0e-07  1.7e-07  1.5e-05  -4.09e-01  9.367423708e-03   9.394061798e-03   2.0e-08  3.81  \n",
      "17  4.0e-08  6.3e-08  4.5e-06  -4.44e-01  1.682736656e-02   1.687283866e-02   7.6e-09  4.12  \n",
      "18  3.1e-08  3.2e-08  2.2e-06  -2.46e-01  2.305835380e-02   2.310891793e-02   3.8e-09  4.52  \n",
      "19  3.1e-08  3.2e-08  2.2e-06  -3.04e-01  2.305835380e-02   2.310891793e-02   3.8e-09  4.87  \n",
      "Optimizer terminated. Time: 5.06    \n",
      "\n",
      "Relaxation order : k = 12\n",
      "STALL\n",
      "JuMP.termination_status(model) = SLOW_PROGRESS\n",
      "JuMP.primal_status(model) = FEASIBLE_POINT\n",
      "JuMP.dual_status(model) = FEASIBLE_POINT\n",
      "STALL\n",
      "JuMP.objective_bound(model) = 0.0\n",
      "STALL\n",
      "JuMP.objective_value(model) = 0.02305835379792861\n"
     ]
    }
   ],
   "source": [
    "optimize!(model)\n",
    "\n",
    "println(\"Relaxation order : k = $k\")\n",
    "println(\"JuMP.termination_status(model) = \", JuMP.termination_status(model))\n",
    "println(\"JuMP.primal_status(model) = \", JuMP.primal_status(model))\n",
    "println(\"JuMP.dual_status(model) = \", JuMP.dual_status(model))\n",
    "println(\"JuMP.objective_bound(model) = \", JuMP.objective_bound(model))\n",
    "println(\"JuMP.objective_value(model) = \", JuMP.objective_value(model))"
   ]
  },
  {
   "cell_type": "code",
   "execution_count": 98,
   "metadata": {},
   "outputs": [
    {
     "name": "stdout",
     "output_type": "stream",
     "text": [
      "STALL\n"
     ]
    },
    {
     "data": {
      "text/plain": [
       "5.063136100769043"
      ]
     },
     "execution_count": 98,
     "metadata": {},
     "output_type": "execute_result"
    }
   ],
   "source": [
    "MOI.get(model, MOI.SolveTime())"
   ]
  },
  {
   "cell_type": "markdown",
   "metadata": {},
   "source": [
    "## Results"
   ]
  },
  {
   "cell_type": "markdown",
   "metadata": {},
   "source": [
    "### Comparison with an implementation in MATLAB/YALMIP"
   ]
  },
  {
   "cell_type": "markdown",
   "metadata": {},
   "source": [
    "[YALMIP](https://yalmip.github.io/) is a MATLAB based modelling language, suitable for a large class of problems in control theory and optimization. The 2004 IEEE ICRA tool paper [YALMIP: A toolbox for modeling and optimization in MATLAB](https://ieeexplore.ieee.org/document/1393890) counts with > 6k citations in google scholar."
   ]
  },
  {
   "cell_type": "markdown",
   "metadata": {},
   "source": [
    "#### Matlab code:"
   ]
  },
  {
   "cell_type": "markdown",
   "metadata": {},
   "source": [
    "```matlab\n",
    "sdpvar x y t obj;\n",
    "f=2*[y;(-0.2*x+y-0.2*x^2*y);0.5];\n",
    "T=1;\n",
    "V0=x^2+y^2-0.25;\n",
    "g=25-x^2-y^2;\n",
    "degree = 12;\n",
    "\n",
    "x1=[x y t];\n",
    "[Phi,coe]= polynomial(x1,degree);\n",
    "Phi_0=replace(Phi,[t],[0]);\n",
    "Phi_derivative=jacobian(Phi,x1)*f;\n",
    "degree1=degree;\n",
    " \n",
    "[s1,coe1]=polynomial(x1,degree1);\n",
    "[s2,coe2]=polynomial(x1,degree1);\n",
    "[s4,coe4]=polynomial(x1,degree1);\n",
    "[s5,coe5]=polynomial(x1,degree1);\n",
    "[s7,coe7]=polynomial([x y],degree1);\n",
    "[s9,coe9]=polynomial([x y],degree1);\n",
    "\n",
    "F=[sos(Phi_derivative-s1*t*(T-t)-s2*g),sos(obj-Phi_derivative-s4*t*(T-t)-s5*g),sos(Phi_0-V0-s7*g),...\n",
    "   sos(obj+V0-Phi_0-s9*g),sos(s1),sos(s2),sos(s4),sos(s5),sos(s7),sos(s9),obj>=0];\n",
    " \n",
    " ops = sdpsettings('solver','mosek','sos.newton',1,'sos.congruence',1);\n",
    " diagnostics= solvesos(F,obj,ops,[obj;coe;coe1;coe2;coe4;coe5;coe7;coe9])\n",
    "```\n",
    "\n",
    "23 LOC"
   ]
  },
  {
   "cell_type": "markdown",
   "metadata": {},
   "source": [
    "#### Julia code:"
   ]
  },
  {
   "cell_type": "markdown",
   "metadata": {},
   "source": [
    "```julia\n",
    "@polyvar x₁ x₂ t\n",
    "f = 2 * [x₂, -0.2*x₁ + x₂ - 0.2*x₁^2*x₂] \n",
    "T = 1.0 \n",
    "V₀ = x₁^2 + x₂^2 - 0.25\n",
    "g = 25 - x₁^2 - x₂^2\n",
    "k = 12\n",
    "\n",
    "X = monomials([x₁, x₂], 0:k)\n",
    "XT = monomials([x₁, x₂, t], 0:k)\n",
    "\n",
    "model = SOSModel(with_optimizer(Mosek.Optimizer))\n",
    "@variable(model, Φ, Poly(XT))\n",
    "\n",
    "∂xf = α -> ∂(α, x₁) * f[1] + ∂(α, x₂) * f[2] \n",
    "LΦ = ∂(Φ, t) + ∂xf(Φ)\n",
    "\n",
    "Φ₀ = subs(Φ, t => 0.)\n",
    "@variable(model, ϵ)\n",
    "dom1 = @set t*(T-t) >= 0 && g >= 0\n",
    "dom2 = @set g >= 0\n",
    "@constraint(model, ϵ >= 0.)\n",
    "@constraint(model, LΦ ∈ SOSCone(), domain = dom1)\n",
    "@constraint(model, ϵ - LΦ ∈ SOSCone(), domain = dom1)\n",
    "@constraint(model, Φ₀ - V₀ ∈ SOSCone(), domain = dom2)\n",
    "@constraint(model, ϵ + V₀ - Φ₀ ∈ SOSCone(), domain = dom2)\n",
    "\n",
    "@objective(model, Min, ϵ)\n",
    "optimize!(model)\n",
    "```\n",
    "\n",
    "~~24 LOC~~ => 23 LOC"
   ]
  },
  {
   "cell_type": "markdown",
   "metadata": {},
   "source": [
    "### Comparison of the generated model and runtime\n",
    "\n",
    "|  Package    | k    |Constraints|Scalar variables|Matrix variables|Time(s)|\n",
    "|-------------|------|-----------|----------------|----------------|-------|\n",
    "|**SumOfSquares v0.3.0**         |    2 |    83    |      13       |            8   |   < 1 |\n",
    "|YALMIP       |    2 |       152 |             63 |              10|   < 1 |\n",
    "||\n",
    "|**SumOfSquares v0.3.0**         |    3 |    199    |        21     |        10       |   < 1 |\n",
    "|YALMIP       |    3 |       254 |            121 |              10|   ~ 1 |\n",
    "||\n",
    "|**SumOfSquares v0.3.0**         |    4 |   199     |       36      |      10         |   < 1 |\n",
    "|YALMIP       |    4 |       394 |           206  |              10|  1.18 |\n",
    "||\n",
    "|**SumOfSquares v0.3.0**         |    5 |     387   |       57      |         10      |   < 1 |\n",
    "|YALMIP       |    5 |      578  |         323     |          10    |  0.11 |\n",
    "||\n",
    "|**SumOfSquares v0.3.0**         |    6 |    387    |       85      |       10        |   < 1 |\n",
    "|YALMIP       |    6 |    812    |         477    |    10          |  1.10  |\n",
    "||\n",
    "|**SumOfSquares v0.3.0**         |    7 |   663     |     121        |      10         |   < 1 |\n",
    "|YALMIP       |    7 |     1102   |        673     |        10      |  1.52 |\n",
    "||\n",
    "|**SumOfSquares v0.3.0**         |    8 |  663      |        166     |           10    |   < 1 |\n",
    "|YALMIP       |    8 |    1454    |       916       |          10    |  1.10 |\n",
    "||\n",
    "|**SumOfSquares v0.3.0**         |    9 |      1043  |        221     |        10       |   1.70 |\n",
    "|YALMIP       |    9 |   1874     |       1211     |         10     |  1.58  |\n",
    "||\n",
    "|**SumOfSquares v0.3.0**         |    10 |    1043    |    287         |     10          |   1.67 |\n",
    "|YALMIP       |   10 |     2368   |       1563     |        10      |  2.73 |\n",
    "||\n",
    "|**SumOfSquares v0.3.0**         |    11 |   1543     |      365       |     10          |   4.88 |\n",
    "|YALMIP       |   11 |   2942    |       1977      |       10       |  2.30 |\n",
    "||\n",
    "|**SumOfSquares v0.3.0**         |    12 | 1543       |   456          |         10      |  5.02 |\n",
    "|YALMIP       |   12 |    3602    |      2458       |      10        | 6.57  |\n",
    "\n",
    "\n",
    "Using: `MosekTools v0.7.0`, `SumOfSquares v0.3.0`."
   ]
  },
  {
   "cell_type": "markdown",
   "metadata": {},
   "source": [
    "Why are the generated models different?\n",
    "\n",
    "- Recent fix gave a massive improvement: https://github.com/JuliaOpt/MosekTools.jl/issues/11\n",
    "- With SumOfSquares one can directly create sum of squares variables. With YALMIP one first creates a polynomial, and the constrain the scalar variables to be SOS. \n",
    "\n",
    "Comparison:\n",
    "\n",
    "- smaller problem instances may have an impact in *performance* (see below!)\n",
    "- free for people doing research (i have a Mosek academic license)"
   ]
  },
  {
   "cell_type": "markdown",
   "metadata": {},
   "source": [
    "### Extracting the solution and visualization \n",
    "\n",
    "- The sublevel sets $Φ(x, T) \\le 0$ provide an *under-approximation* of the reachset at time `t=T`,\n",
    "- while $Φ(x, T) - ϵopt * (T+1) \\le 0$ gives an *over-approximation.*"
   ]
  },
  {
   "cell_type": "code",
   "execution_count": 99,
   "metadata": {},
   "outputs": [
    {
     "name": "stdout",
     "output_type": "stream",
     "text": [
      "STALL\n",
      "STALL\n",
      "STALL\n",
      "STALL\n",
      "STALL\n",
      "STALL\n",
      "STALL\n",
      "STALL\n",
      "STALL\n",
      "STALL\n",
      "STALL\n",
      "STALL\n",
      "STALL\n",
      "STALL\n",
      "STALL\n",
      "STALL\n",
      "STALL\n",
      "STALL\n",
      "STALL\n",
      "STALL\n",
      "STALL\n",
      "STALL\n",
      "STALL\n",
      "STALL\n",
      "STALL\n",
      "STALL\n",
      "STALL\n",
      "STALL\n",
      "STALL\n",
      "STALL\n",
      "STALL\n",
      "STALL\n",
      "STALL\n",
      "STALL\n",
      "STALL\n",
      "STALL\n",
      "STALL\n",
      "STALL\n",
      "STALL\n",
      "STALL\n",
      "STALL\n",
      "STALL\n",
      "STALL\n",
      "STALL\n",
      "STALL\n",
      "STALL\n",
      "STALL\n",
      "STALL\n",
      "STALL\n",
      "STALL\n",
      "STALL\n",
      "STALL\n",
      "STALL\n",
      "STALL\n",
      "STALL\n",
      "STALL\n",
      "STALL\n",
      "STALL\n",
      "STALL\n",
      "STALL\n",
      "STALL\n",
      "STALL\n",
      "STALL\n",
      "STALL\n",
      "STALL\n",
      "STALL\n",
      "STALL\n",
      "STALL\n",
      "STALL\n",
      "STALL\n",
      "STALL\n",
      "STALL\n",
      "STALL\n",
      "STALL\n",
      "STALL\n",
      "STALL\n",
      "STALL\n",
      "STALL\n",
      "STALL\n",
      "STALL\n",
      "STALL\n",
      "STALL\n",
      "STALL\n",
      "STALL\n",
      "STALL\n",
      "STALL\n",
      "STALL\n",
      "STALL\n",
      "STALL\n",
      "STALL\n",
      "STALL\n",
      "STALL\n",
      "STALL\n",
      "STALL\n",
      "STALL\n",
      "STALL\n",
      "STALL\n",
      "STALL\n",
      "STALL\n",
      "STALL\n",
      "STALL\n",
      "STALL\n",
      "STALL\n",
      "STALL\n",
      "STALL\n",
      "STALL\n",
      "STALL\n",
      "STALL\n",
      "STALL\n",
      "STALL\n",
      "STALL\n",
      "STALL\n",
      "STALL\n",
      "STALL\n",
      "STALL\n",
      "STALL\n",
      "STALL\n",
      "STALL\n",
      "STALL\n",
      "STALL\n",
      "STALL\n",
      "STALL\n",
      "STALL\n",
      "STALL\n",
      "STALL\n",
      "STALL\n",
      "STALL\n",
      "STALL\n",
      "STALL\n",
      "STALL\n",
      "STALL\n",
      "STALL\n",
      "STALL\n",
      "STALL\n",
      "STALL\n",
      "STALL\n",
      "STALL\n",
      "STALL\n",
      "STALL\n",
      "STALL\n",
      "STALL\n",
      "STALL\n",
      "STALL\n",
      "STALL\n",
      "STALL\n",
      "STALL\n",
      "STALL\n",
      "STALL\n",
      "STALL\n",
      "STALL\n",
      "STALL\n",
      "STALL\n",
      "STALL\n",
      "STALL\n",
      "STALL\n",
      "STALL\n",
      "STALL\n",
      "STALL\n",
      "STALL\n",
      "STALL\n",
      "STALL\n",
      "STALL\n",
      "STALL\n",
      "STALL\n",
      "STALL\n",
      "STALL\n",
      "STALL\n",
      "STALL\n",
      "STALL\n",
      "STALL\n",
      "STALL\n",
      "STALL\n",
      "STALL\n",
      "STALL\n",
      "STALL\n",
      "STALL\n",
      "STALL\n",
      "STALL\n",
      "STALL\n",
      "STALL\n",
      "STALL\n",
      "STALL\n",
      "STALL\n",
      "STALL\n",
      "STALL\n",
      "STALL\n",
      "STALL\n",
      "STALL\n",
      "STALL\n",
      "STALL\n",
      "STALL\n",
      "STALL\n",
      "STALL\n",
      "STALL\n",
      "STALL\n",
      "STALL\n",
      "STALL\n",
      "STALL\n",
      "STALL\n",
      "STALL\n",
      "STALL\n",
      "STALL\n",
      "STALL\n",
      "STALL\n",
      "STALL\n",
      "STALL\n",
      "STALL\n",
      "STALL\n",
      "STALL\n",
      "STALL\n",
      "STALL\n",
      "STALL\n",
      "STALL\n",
      "STALL\n",
      "STALL\n",
      "STALL\n",
      "STALL\n",
      "STALL\n",
      "STALL\n",
      "STALL\n",
      "STALL\n",
      "STALL\n",
      "STALL\n",
      "STALL\n",
      "STALL\n",
      "STALL\n",
      "STALL\n",
      "STALL\n",
      "STALL\n",
      "STALL\n",
      "STALL\n",
      "STALL\n",
      "STALL\n",
      "STALL\n",
      "STALL\n",
      "STALL\n",
      "STALL\n",
      "STALL\n",
      "STALL\n",
      "STALL\n",
      "STALL\n",
      "STALL\n",
      "STALL\n",
      "STALL\n",
      "STALL\n",
      "STALL\n",
      "STALL\n",
      "STALL\n",
      "STALL\n",
      "STALL\n",
      "STALL\n",
      "STALL\n",
      "STALL\n",
      "STALL\n",
      "STALL\n",
      "STALL\n",
      "STALL\n",
      "STALL\n",
      "STALL\n",
      "STALL\n",
      "STALL\n",
      "STALL\n",
      "STALL\n",
      "STALL\n",
      "STALL\n",
      "STALL\n",
      "STALL\n",
      "STALL\n",
      "STALL\n",
      "STALL\n",
      "STALL\n",
      "STALL\n",
      "STALL\n",
      "STALL\n",
      "STALL\n",
      "STALL\n",
      "STALL\n",
      "STALL\n",
      "STALL\n",
      "STALL\n",
      "STALL\n",
      "STALL\n",
      "STALL\n",
      "STALL\n",
      "STALL\n",
      "STALL\n",
      "STALL\n",
      "STALL\n",
      "STALL\n",
      "STALL\n",
      "STALL\n",
      "STALL\n",
      "STALL\n",
      "STALL\n",
      "STALL\n",
      "STALL\n",
      "STALL\n",
      "STALL\n",
      "STALL\n",
      "STALL\n",
      "STALL\n",
      "STALL\n",
      "STALL\n",
      "STALL\n",
      "STALL\n",
      "STALL\n",
      "STALL\n",
      "STALL\n",
      "STALL\n",
      "STALL\n",
      "STALL\n",
      "STALL\n",
      "STALL\n",
      "STALL\n",
      "STALL\n",
      "STALL\n",
      "STALL\n",
      "STALL\n",
      "STALL\n",
      "STALL\n",
      "STALL\n",
      "STALL\n",
      "STALL\n",
      "STALL\n",
      "STALL\n",
      "STALL\n",
      "STALL\n",
      "STALL\n",
      "STALL\n",
      "STALL\n",
      "STALL\n",
      "STALL\n",
      "STALL\n",
      "STALL\n",
      "STALL\n",
      "STALL\n",
      "STALL\n",
      "STALL\n",
      "STALL\n",
      "STALL\n",
      "STALL\n",
      "STALL\n",
      "STALL\n",
      "STALL\n",
      "STALL\n",
      "STALL\n",
      "STALL\n",
      "STALL\n",
      "STALL\n",
      "STALL\n",
      "STALL\n",
      "STALL\n",
      "STALL\n",
      "STALL\n",
      "STALL\n",
      "STALL\n",
      "STALL\n",
      "STALL\n",
      "STALL\n",
      "STALL\n",
      "STALL\n",
      "STALL\n",
      "STALL\n",
      "STALL\n",
      "STALL\n",
      "STALL\n",
      "STALL\n",
      "STALL\n",
      "STALL\n",
      "STALL\n",
      "STALL\n",
      "STALL\n",
      "STALL\n",
      "STALL\n",
      "STALL\n",
      "STALL\n",
      "STALL\n",
      "STALL\n",
      "STALL\n",
      "STALL\n",
      "STALL\n",
      "STALL\n",
      "STALL\n",
      "STALL\n",
      "STALL\n",
      "STALL\n",
      "STALL\n",
      "STALL\n",
      "STALL\n",
      "STALL\n",
      "STALL\n",
      "STALL\n",
      "STALL\n",
      "STALL\n",
      "STALL\n",
      "STALL\n",
      "STALL\n",
      "STALL\n",
      "STALL\n",
      "STALL\n",
      "STALL\n",
      "STALL\n",
      "STALL\n",
      "STALL\n",
      "STALL\n",
      "STALL\n",
      "STALL\n",
      "STALL\n",
      "STALL\n",
      "STALL\n",
      "STALL\n",
      "STALL\n",
      "STALL\n",
      "STALL\n",
      "STALL\n",
      "STALL\n",
      "STALL\n",
      "STALL\n",
      "STALL\n",
      "STALL\n",
      "STALL\n",
      "STALL\n",
      "STALL\n",
      "STALL\n",
      "STALL\n",
      "STALL\n",
      "STALL\n",
      "STALL\n",
      "STALL\n",
      "STALL\n",
      "STALL\n",
      "STALL\n",
      "STALL\n",
      "STALL\n",
      "STALL\n",
      "STALL\n",
      "STALL\n",
      "STALL\n",
      "STALL\n",
      "STALL\n",
      "STALL\n",
      "STALL\n",
      "STALL\n",
      "STALL\n",
      "STALL\n",
      "STALL\n",
      "STALL\n",
      "STALL\n",
      "STALL\n",
      "STALL\n",
      "STALL\n",
      "STALL\n",
      "STALL\n",
      "STALL\n",
      "STALL\n"
     ]
    },
    {
     "data": {
      "text/latex": [
       "$$ -3.254406926195832e-6x₁^{12} + 3.834217164793429e-6x₁^{11}x₂ + 1.656962882210182e-20x₁^{11}t - 6.3384127954307375e-6x₁^{10}x₂^{2} + 1.3171927844747763e-20x₁^{10}x₂t + 0.00017977769422352572x₁^{10}t^{2} + 1.7821158886139766e-6x₁^{9}x₂^{3} - 4.9752291830315605e-20x₁^{9}x₂^{2}t - 0.0003404492894529957x₁^{9}x₂t^{2} + 3.836278593253594e-19x₁^{9}t^{3} - 3.874093809241813e-7x₁^{8}x₂^{4} + 3.938591835332774e-20x₁^{8}x₂^{3}t + 0.00017172005010559737x₁^{8}x₂^{2}t^{2} - 4.199894157533322e-19x₁^{8}x₂t^{3} + 0.00022253181841657853x₁^{8}t^{4} + 1.5483592082483843e-6x₁^{7}x₂^{5} - 5.2616440647594625e-20x₁^{7}x₂^{4}t + 0.000259547136068073x₁^{7}x₂^{3}t^{2} - 2.6658461147986677e-19x₁^{7}x₂^{2}t^{3} + 0.000406478741702339x₁^{7}x₂t^{4} - 5.067988419296385e-18x₁^{7}t^{5} - 1.7690055890869638e-6x₁^{6}x₂^{6} + 2.7396567382407404e-20x₁^{6}x₂^{5}t - 0.0004292363708925713x₁^{6}x₂^{4}t^{2} + 1.5685783222264855e-18x₁^{6}x₂^{3}t^{3} - 0.0011434231217147754x₁^{6}x₂^{2}t^{4} + 2.769597746752094e-18x₁^{6}x₂t^{5} - 0.008524441229491156x₁^{6}t^{6} - 9.798790301107213e-7x₁^{5}x₂^{7} + 6.28066342893135e-20x₁^{5}x₂^{6}t + 4.1098887836025915e-5x₁^{5}x₂^{5}t^{2} + 6.930368275509355e-19x₁^{5}x₂^{4}t^{3} + 0.0004939710550388972x₁^{5}x₂^{3}t^{4} + 1.4045676184688465e-17x₁^{5}x₂^{2}t^{5} + 0.0033259001486550433x₁^{5}x₂t^{6} - 2.855040027126883e-17x₁^{5}t^{7} + 5.210797975903119e-7x₁^{4}x₂^{8} - 3.114048258391623e-20x₁^{4}x₂^{7}t + 0.0002465821910215144x₁^{4}x₂^{6}t^{2} - 1.827348183585737e-18x₁^{4}x₂^{5}t^{3} + 0.005396815947008918x₁^{4}x₂^{4}t^{4} - 6.054492095724199e-17x₁^{4}x₂^{3}t^{5} + 0.23029875826900364x₁^{4}x₂^{2}t^{6} - 7.785963907963857e-17x₁^{4}x₂t^{7} - 0.02529788628044945x₁^{4}t^{8} + 1.3500407479164792e-6x₁^{3}x₂^{9} + 5.3781570914956934e-21x₁^{3}x₂^{8}t - 0.00013740957883331454x₁^{3}x₂^{7}t^{2} + 7.014261955708778e-19x₁^{3}x₂^{6}t^{3} - 0.002386835601940958x₁^{3}x₂^{5}t^{4} + 1.507587657512538e-17x₁^{3}x₂^{4}t^{5} + 0.16196244247548464x₁^{3}x₂^{3}t^{6} - 3.589509298027486e-17x₁^{3}x₂^{2}t^{7} + 0.3897555148752418x₁^{3}x₂t^{8} - 1.242042609901793e-16x₁^{3}t^{9} + 4.4924259835334384e-7x₁^{2}x₂^{10} - 5.3026155221108835e-21x₁^{2}x₂^{9}t - 2.1068678455830977e-5x₁^{2}x₂^{8}t^{2} + 9.959944770556941e-19x₁^{2}x₂^{7}t^{3} + 0.0007235611705122978x₁^{2}x₂^{6}t^{4} + 7.014471616475045e-18x₁^{2}x₂^{5}t^{5} - 0.1492410230979291x₁^{2}x₂^{4}t^{6} + 2.4209671638258073e-16x₁^{2}x₂^{3}t^{7} + 1.074665976642456x₁^{2}x₂^{2}t^{8} - 8.995912855438326e-17x₁^{2}x₂t^{9} - 0.10696154412962991x₁^{2}t^{10} - 7.166251275333759e-8x₁x₂^{11} - 9.767816860224366e-21x₁x₂^{10}t + 2.1044810464623236e-5x₁x₂^{9}t^{2} - 7.256126442251766e-19x₁x₂^{8}t^{3} - 0.0001450903207236871x₁x₂^{7}t^{4} - 1.467915980698969e-17x₁x₂^{6}t^{5} + 0.07241943093636245x₁x₂^{5}t^{6} + 6.798237935070912e-17x₁x₂^{4}t^{7} - 0.3131249963952828x₁x₂^{3}t^{8} - 5.620697376064034e-17x₁x₂^{2}t^{9} + 0.2127417177491899x₁x₂t^{10} + 9.820387936164024e-16x₁t^{11} - 1.5032013847766846e-7x₂^{12} + 3.1896442808218255e-21x₂^{11}t - 7.719840734698899e-6x₂^{10}t^{2} + 3.6505454540843627e-19x₂^{9}t^{3} + 0.00036343089298996294x₂^{8}t^{4} + 4.5673898417041736e-18x₂^{7}t^{5} + 0.00680561706886669x₂^{6}t^{6} + 4.840540094545723e-18x₂^{5}t^{7} - 0.560872042574014x₂^{4}t^{8} + 1.2461275074944854e-16x₂^{3}t^{9} - 0.169813375940685x₂^{2}t^{10} + 1.245416183676287e-15x₂t^{11} + 0.050656631025893115t^{12} - 1.7380076179996794e-21x₁^{11} + 5.193629412522531e-22x₁^{10}x₂ - 0.00012452340726094646x₁^{10}t - 3.4120912000213387e-22x₁^{9}x₂^{2} + 4.7142623327760796e-5x₁^{9}x₂t - 3.964364546267187e-19x₁^{9}t^{2} + 4.2918691825830284e-21x₁^{8}x₂^{3} + 0.0002546941711185266x₁^{8}x₂^{2}t + 9.375348665475818e-19x₁^{8}x₂t^{2} - 0.00024517526628304253x₁^{8}t^{3} + 2.0878764026833196e-20x₁^{7}x₂^{4} - 0.00036515343099365765x₁^{7}x₂^{3}t - 7.041238810337619e-19x₁^{7}x₂^{2}t^{2} + 0.001837255076883203x₁^{7}x₂t^{3} + 1.005874858237881e-17x₁^{7}t^{4} - 7.67244649552404e-21x₁^{6}x₂^{5} + 0.0003669710060526814x₁^{6}x₂^{4}t - 2.681616180196565e-18x₁^{6}x₂^{3}t^{2} - 0.0030464109604643685x₁^{6}x₂^{2}t^{3} - 2.2610635899029212e-17x₁^{6}x₂t^{4} + 0.028984004261519095x₁^{6}t^{5} - 2.3486436560009126e-20x₁^{5}x₂^{6} - 2.9917673373082725e-5x₁^{5}x₂^{5}t + 3.8685930769125074e-19x₁^{5}x₂^{4}t^{2} + 0.0005831640748523747x₁^{5}x₂^{3}t^{3} - 4.38880301500424e-18x₁^{5}x₂^{2}t^{4} - 0.05789095484977269x₁^{5}x₂t^{5} + 1.034794335425655e-16x₁^{5}t^{6} - 2.5207052621431494e-21x₁^{4}x₂^{7} - 0.00024500613722903047x₁^{4}x₂^{6}t + 2.0189662025276747e-18x₁^{4}x₂^{5}t^{2} - 0.012405418295281188x₁^{4}x₂^{4}t^{3} + 1.4588669805056959e-16x₁^{4}x₂^{3}t^{4} - 0.8219798777269731x₁^{4}x₂^{2}t^{5} + 3.761667502273607e-16x₁^{4}x₂t^{6} + 0.008316929392321004x₁^{4}t^{7} + 1.9569409736218447e-21x₁^{3}x₂^{8} + 0.0001666941754004207x₁^{3}x₂^{7}t - 1.2705280882324357e-18x₁^{3}x₂^{6}t^{2} + 0.004419163418918804x₁^{3}x₂^{5}t^{3} - 4.4266871587563336e-17x₁^{3}x₂^{4}t^{4} - 0.350611935384572x₁^{3}x₂^{3}t^{5} + 6.512737490581271e-17x₁^{3}x₂^{2}t^{6} - 2.5503710075011843x₁^{3}x₂t^{7} + 7.226326275636258e-16x₁^{3}t^{8} + 7.19548213796342e-21x₁^{2}x₂^{9} + 1.3924239032286105e-5x₁^{2}x₂^{8}t - 1.1441759515977478e-18x₁^{2}x₂^{7}t^{2} + 0.0003283382743195632x₁^{2}x₂^{6}t^{3} - 1.1187491958690357e-17x₁^{2}x₂^{5}t^{4} + 0.46206841960798245x₁^{2}x₂^{4}t^{5} - 9.795487980288034e-16x₁^{2}x₂^{3}t^{6} - 4.567332638642066x₁^{2}x₂^{2}t^{7} + 3.5766298372681935e-16x₁^{2}x₂t^{8} + 0.08871110162505118x₁^{2}t^{9} + 1.7950957840831733e-21x₁x₂^{10} - 3.230550372060652e-5x₁x₂^{9}t + 9.547550911939786e-19x₁x₂^{8}t^{2} - 0.0011537761467203774x₁x₂^{7}t^{3} + 3.939677485634347e-17x₁x₂^{6}t^{4} - 0.28570291444953694x₁x₂^{5}t^{5} - 1.613098645308003e-16x₁x₂^{4}t^{6} + 2.1289690566594692x₁x₂^{3}t^{7} - 6.63924272755273e-17x₁x₂^{2}t^{8} - 1.6963329065597121x₁x₂t^{9} - 4.1856412976091406e-15x₁t^{10} + 3.945385279012351e-22x₂^{11} + 1.240575301175139e-5x₂^{10}t - 6.114075162872673e-19x₂^{9}t^{2} - 0.00031533227216830903x₂^{8}t^{3} - 1.4755957894085984e-17x₂^{7}t^{4} - 0.007868503212893393x₂^{6}t^{5} - 3.5575714175554046e-17x₂^{5}t^{6} + 2.698995894209973x₂^{4}t^{7} - 6.98207357856692e-16x₂^{3}t^{8} + 1.8294536376771193x₂^{2}t^{9} - 7.109955008877225e-15x₂t^{10} - 0.11106871640765985t^{11} + 0.00010466148149410787x₁^{10} - 0.00017247883761448024x₁^{9}x₂ - 2.8593249723419693e-19x₁^{9}t + 0.0001626714939851321x₁^{8}x₂^{2} - 1.9902103202395727e-20x₁^{8}x₂t - 0.00284018377631923x₁^{8}t^{2} - 0.00012696374221309454x₁^{7}x₂^{3} + 1.7432469369407564e-18x₁^{7}x₂^{2}t + 0.003607789117988242x₁^{7}x₂t^{2} - 7.888539759454484e-18x₁^{7}t^{3} + 2.2960854452141173e-5x₁^{6}x₂^{4} - 1.9546545501102203e-19x₁^{6}x₂^{3}t - 0.0012893349989196x₁^{6}x₂^{2}t^{2} + 4.002149534465472e-17x₁^{6}x₂t^{3} - 0.0364375590304966x₁^{6}t^{4} - 7.948944034213915e-6x₁^{5}x₂^{5} - 5.61297809127037e-20x₁^{5}x₂^{4}t + 0.004931286237029977x₁^{5}x₂^{3}t^{2} - 5.194075666006146e-17x₁^{5}x₂^{2}t^{3} + 0.1519125307400434x₁^{5}x₂t^{4} - 1.25892473633787e-16x₁^{5}t^{5} - 2.424545357355192e-7x₁^{4}x₂^{6} - 3.944895932655131e-19x₁^{4}x₂^{5}t + 0.007970160043370615x₁^{4}x₂^{4}t^{2} - 1.1547839995647455e-16x₁^{4}x₂^{3}t^{3} + 1.0282084708279147x₁^{4}x₂^{2}t^{4} - 6.601312318162117e-16x₁^{4}x₂t^{5} + 0.237090449727583x₁^{4}t^{6} - 1.7658608599743588e-6x₁^{3}x₂^{7} + 3.2656467148855243e-19x₁^{3}x₂^{6}t - 0.003970791349832353x₁^{3}x₂^{5}t^{2} + 5.332445837786376e-17x₁^{3}x₂^{4}t^{3} + 0.14727553228010215x₁^{3}x₂^{3}t^{4} + 1.315545204655915e-17x₁^{3}x₂^{2}t^{5} + 6.2747565127611855x₁^{3}x₂t^{6} - 1.6320901807451377e-15x₁^{3}t^{7} - 6.088814255999639e-6x₁^{2}x₂^{8} + 2.7706255932773606e-19x₁^{2}x₂^{7}t - 0.0002635467111035806x₁^{2}x₂^{6}t^{2} - 1.2496295463594026e-17x₁^{2}x₂^{5}t^{3} - 0.4727429531834839x₁^{2}x₂^{4}t^{4} + 1.7192727242239302e-15x₁^{2}x₂^{3}t^{5} + 6.980025947605605x₁^{2}x₂^{2}t^{6} - 5.770489976644882e-16x₁^{2}x₂t^{7} + 0.9259853131804524x₁^{2}t^{8} - 9.528134781790391e-7x₁x₂^{9} - 2.1246726689985772e-19x₁x₂^{8}t + 0.001485847973849969x₁x₂^{7}t^{2} - 2.884975231646014e-17x₁x₂^{6}t^{3} + 0.4106540631913596x₁x₂^{5}t^{4} + 4.5132853123906205e-17x₁x₂^{4}t^{5} - 6.637699053114137x₁x₂^{3}t^{6} + 7.752355874884239e-16x₁x₂^{2}t^{7} + 4.494465904274811x₁x₂t^{8} + 6.924781624794184e-15x₁t^{9} + 3.4457656484196837e-6x₂^{10} + 2.3691547604798356e-19x₂^{9}t - 5.7725805104087104e-5x₂^{8}t^{2} + 1.2851648120446015e-17x₂^{7}t^{3} - 0.015342518323263688x₂^{6}t^{4} + 5.1780469377192246e-17x₂^{5}t^{5} - 5.39168954057039x₂^{4}t^{6} + 1.4318975127443419e-15x₂^{3}t^{7} - 6.673817676256614x₂^{2}t^{8} + 1.7521528442059937e-14x₂t^{9} + 0.0656738540564568t^{10} + 1.1439318432672882e-20x₁^{9} - 2.184608879113169e-19x₁^{8}x₂ + 0.0016064068775253596x₁^{8}t - 1.6993766275180546e-19x₁^{7}x₂^{2} - 1.814384655544233e-5x₁^{7}x₂t + 1.0430448359895454e-18x₁^{7}t^{2} - 2.7919436855863427e-20x₁^{6}x₂^{3} - 0.006071018411947841x₁^{6}x₂^{2}t - 2.038349658907355e-17x₁^{6}x₂t^{2} + 0.020800174086909238x₁^{6}t^{3} - 4.661612593012466e-21x₁^{5}x₂^{4} + 0.0022545903168250036x₁^{5}x₂^{3}t + 6.481421791046047e-17x₁^{5}x₂^{2}t^{2} - 0.15755857372438734x₁^{5}x₂t^{3} + 4.813533536608356e-17x₁^{5}t^{4} + 1.3157859200290711e-20x₁^{4}x₂^{5} - 0.0031733794436832456x₁^{4}x₂^{4}t + 2.7546135869429166e-17x₁^{4}x₂^{3}t^{2} - 0.44261903307786776x₁^{4}x₂^{2}t^{3} + 6.366393799189969e-16x₁^{4}x₂t^{4} - 0.5706489871961422x₁^{4}t^{5} - 2.407774103960181e-20x₁^{3}x₂^{6} + 0.0009962420359293626x₁^{3}x₂^{5}t - 3.256567321983063e-17x₁^{3}x₂^{4}t^{2} + 0.05659971814003108x₁^{3}x₂^{3}t^{3} - 2.9851450767577563e-16x₁^{3}x₂^{2}t^{4} - 7.707450087421671x₁^{3}x₂t^{5} + 1.9014235475201083e-15x₁^{3}t^{6} + 3.1321187534493177e-20x₁^{2}x₂^{7} + 0.00012794931542626988x₁^{2}x₂^{6}t + 2.991631016998077e-17x₁^{2}x₂^{5}t^{2} + 0.17970816118495847x₁^{2}x₂^{4}t^{3} - 1.5949920834924278e-15x₁^{2}x₂^{3}t^{4} - 3.0274396742669647x₁^{2}x₂^{2}t^{5} + 2.4970544988560334e-16x₁^{2}x₂t^{6} - 2.34489968242725x₁^{2}t^{7} - 3.7484019973860293e-20x₁x₂^{8} - 0.00046767084703200996x₁x₂^{7}t + 2.974417263939508e-19x₁x₂^{6}t^{2} - 0.26727142690696903x₁x₂^{5}t^{3} + 1.8943363859332134e-16x₁x₂^{4}t^{4} + 11.359942402996596x₁x₂^{3}t^{5} - 1.4117970709812792e-15x₁x₂^{2}t^{6} - 3.8211669061934437x₁x₂t^{7} - 5.149415099592937e-15x₁t^{8} - 5.266042951770818e-22x₂^{9} + 1.8901167714748235e-5x₂^{8}t - 1.1280847893322759e-18x₂^{7}t^{2} + 0.028213421903565728x₂^{6}t^{3} - 4.1243128543707035e-18x₂^{5}t^{4} + 5.6332402527030325x₂^{4}t^{5} - 1.2279706408437376e-15x₂^{3}t^{6} + 11.87877524591252x₂^{2}t^{7} - 2.4091892729594342e-14x₂t^{8} - 0.320569036764273t^{9} - 0.0008513314119275362x₁^{8} + 0.0019131510455236398x₁^{7}x₂ + 4.0489933735977594e-18x₁^{7}t - 0.001179669936699386x₁^{6}x₂^{2} - 9.098299102093903e-18x₁^{6}x₂t + 0.013557224566726027x₁^{6}t^{2} + 0.001334235354647956x₁^{5}x₂^{3} - 1.9000176728858365e-17x₁^{5}x₂^{2}t + 0.0033431755212738968x₁^{5}x₂t^{2} + 1.0617352544064029e-17x₁^{5}t^{3} - 0.0003945929838899432x₁^{4}x₂^{4} + 5.457642408255957e-18x₁^{4}x₂^{3}t + 0.04101958295245553x₁^{4}x₂^{2}t^{2} - 4.0744207781555283e-16x₁^{4}x₂t^{3} + 0.6043448328318642x₁^{4}t^{4} + 0.00018836630286108217x₁^{3}x₂^{5} + 1.858527345413903e-18x₁^{3}x₂^{4}t - 0.07256536834208577x₁^{3}x₂^{3}t^{2} + 6.245047296363595e-16x₁^{3}x₂^{2}t^{3} + 4.927078320773161x₁^{3}x₂t^{4} - 1.2810026736211082e-15x₁^{3}t^{5} - 7.480647575452815e-5x₁^{2}x₂^{6} - 1.009254591180146e-17x₁^{2}x₂^{5}t + 0.02560216998809345x₁^{2}x₂^{4}t^{2} + 6.576391777330616e-16x₁^{2}x₂^{3}t^{3} - 3.811578431906384x₁^{2}x₂^{2}t^{4} + 4.343479076523334e-16x₁^{2}x₂t^{5} + 2.0293211696634863x₁^{2}t^{6} + 8.718840668005653e-5x₁x₂^{7} + 3.2698559261407874e-18x₁x₂^{6}t + 0.06388532316514196x₁x₂^{5}t^{2} - 1.8729813195632364e-16x₁x₂^{4}t^{3} - 10.920867361954118x₁x₂^{3}t^{4} + 1.0363223344125424e-15x₁x₂^{2}t^{5} - 3.2953571098028123x₁x₂t^{6} + 8.000964179824611e-16x₁t^{7} - 1.8350095758809216e-5x₂^{8} - 1.5645663729986115e-18x₂^{7}t - 0.012456893981099122x₂^{6}t^{2} - 2.853690110037688e-17x₂^{5}t^{3} - 3.1679322503849647x₂^{4}t^{4} + 1.953385776904917e-16x₂^{3}t^{5} - 10.333019836125683x₂^{2}t^{6} + 1.9926115656292864e-14x₂t^{7} + 1.2229984604726638t^{8} + 8.676872097961842e-19x₁^{7} + 2.4756212639458488e-18x₁^{6}x₂ - 0.010525255407676173x₁^{6}t + 1.0445354155031225e-18x₁^{5}x₂^{2} + 0.03922038789891989x₁^{5}x₂t + 1.0092695235408293e-17x₁^{5}t^{2} - 8.90981013447538e-19x₁^{4}x₂^{3} + 0.02439595572827004x₁^{4}x₂^{2}t + 7.836193956229701e-17x₁^{4}x₂t^{2} - 0.34651357361547674x₁^{4}t^{3} + 1.389613728102341e-18x₁^{3}x₂^{4} - 0.014051440843822477x₁^{3}x₂^{3}t - 4.43178863461567e-16x₁^{3}x₂^{2}t^{2} - 1.1051725432007817x₁^{3}x₂t^{3} + 5.735512410274419e-16x₁^{3}t^{4} - 1.074643183835394e-19x₁^{2}x₂^{5} - 0.0034584371166410883x₁^{2}x₂^{4}t - 1.0955781553519507e-17x₁^{2}x₂^{3}t^{2} + 5.376431219870137x₁^{2}x₂^{2}t^{3} - 7.182872730025235e-16x₁^{2}x₂t^{4} - 0.29137929676078844x₁^{2}t^{5} - 4.5981017593484195e-20x₁x₂^{6} - 0.00660811900363021x₁x₂^{5}t + 3.816414982389696e-17x₁x₂^{4}t^{2} + 5.841504663078438x₁x₂^{3}t^{3} - 1.0656005900575949e-16x₁x₂^{2}t^{4} + 9.77811050765484x₁x₂t^{5} + 1.3953560627532746e-15x₁t^{6} + 1.069224740996889e-19x₂^{7} + 0.0025269640932981275x₂^{6}t + 1.3170007990042769e-17x₂^{5}t^{2} + 0.8352299256093573x₂^{4}t^{3} + 3.2436788927550794e-16x₂^{3}t^{4} + 0.454551969382376x₂^{2}t^{5} - 9.93637340804197e-15x₂t^{6} - 2.0687619047731705t^{7} - 0.00018648046305886137x₁^{6} - 0.008654940311871613x₁^{5}x₂ - 2.0842062722272088e-17x₁^{5}t + 0.005067168203390468x₁^{4}x₂^{2} + 1.0051111011964972e-16x₁^{4}x₂t + 0.026238646472770844x₁^{4}t^{2} - 0.003829510818289397x₁^{3}x₂^{3} + 2.3084001553746394e-17x₁^{3}x₂^{2}t - 0.19291876509871128x₁^{3}x₂t^{2} - 2.130364139954471e-16x₁^{3}t^{3} + 0.002492372619226852x₁^{2}x₂^{4} + 1.1274856271657766e-17x₁^{2}x₂^{3}t - 2.568594849727303x₁^{2}x₂^{2}t^{2} + 5.148324031813634e-16x₁^{2}x₂t^{3} - 0.6746291819640126x₁^{2}t^{4} - 0.0007005848253997409x₁x₂^{5} - 1.457443005458651e-17x₁x₂^{4}t - 1.6422539255640916x₁x₂^{3}t^{2} - 4.672942065824007e-16x₁x₂^{2}t^{3} - 9.323019517953798x₁x₂t^{4} - 9.63452069959044e-16x₁t^{5} - 2.765441290929275e-5x₂^{6} + 3.0773276142906728e-18x₂^{5}t - 0.016507241327052564x₂^{4}t^{2} - 1.3057920080023304e-16x₂^{3}t^{3} + 10.578651900832504x₂^{2}t^{4} + 2.788007087932616e-15x₂t^{5} + 2.144425460160074t^{6} - 1.1986315502786982e-17x₁^{5} - 4.431296188926637e-18x₁^{4}x₂ + 0.026279867145035107x₁^{4}t - 4.58800177635117e-18x₁^{3}x₂^{2} - 0.15320193208307775x₁^{3}x₂t + 2.0072103192906425e-17x₁^{3}t^{2} + 1.999602772759139e-18x₁^{2}x₂^{3} + 0.7930692566478943x₁^{2}x₂^{2}t - 7.881760598688593e-17x₁^{2}x₂t^{2} + 0.7964907689694107x₁^{2}t^{3} + 9.990830853230844e-20x₁x₂^{4} + 0.03736393219455652x₁x₂^{3}t + 3.6057742364841863e-16x₁x₂^{2}t^{2} + 4.201154920151032x₁x₂t^{3} + 1.4053490424770646e-16x₁t^{4} - 3.1479033276623134e-19x₂^{5} + 0.004082712347742873x₂^{4}t - 4.442966091279522e-17x₂^{3}t^{2} - 15.046859661851443x₂^{2}t^{3} - 3.0697652716268056e-16x₂t^{4} - 1.5849503979054658t^{5} + 0.01329654643334401x₁^{4} + 0.01445222905945264x₁^{3}x₂ + 3.3789517227438355e-17x₁^{3}t - 0.012392024955151567x₁^{2}x₂^{2} - 1.7549966624165065e-16x₁^{2}x₂t - 0.7583048517332065x₁^{2}t^{2} + 0.0028058719584826454x₁x₂^{3} + 1.0531999155768873e-17x₁x₂^{2}t + 1.4134261864285405x₁x₂t^{2} + 1.015712869429896e-16x₁t^{3} - 0.0014470094418600136x₂^{4} + 1.7599504471586824e-18x₂^{3}t + 11.050604004780102x₂^{2}t^{2} - 7.041634424846433e-17x₂t^{3} + 0.8313777697896165t^{4} + 3.320612757476353e-17x₁^{3} + 1.592058244640081e-20x₁^{2}x₂ - 0.020291576599476047x₁^{2}t + 6.876787174314212e-19x₁x₂^{2} - 3.1068561915636144x₁x₂t - 3.819140052402635e-17x₁t^{2} - 3.3096598514140055e-19x₂^{3} - 4.01577073713846x₂^{2}t + 2.3955494319570796e-17x₂t^{2} - 0.27917988097322666t^{3} + 0.9808448731897748x₁^{2} - 0.005939970114922334x₁x₂ - 1.3586302759397709e-17x₁t + 1.0068602813402792x₂^{2} + 3.386846289471622e-17x₂t + 0.050752888940031285t^{2} - 1.980500191793029e-17x₁ + 7.089199566986966e-19x₂ + 0.013218211001833905t - 0.2376669584651749 $$"
      ],
      "text/plain": [
       "-3.254406926195832e-6x₁¹² + 3.834217164793429e-6x₁¹¹x₂ + 1.656962882210182e-20x₁¹¹t - 6.3384127954307375e-6x₁¹⁰x₂² + 1.3171927844747763e-20x₁¹⁰x₂t + 0.00017977769422352572x₁¹⁰t² + 1.7821158886139766e-6x₁⁹x₂³ - 4.9752291830315605e-20x₁⁹x₂²t - 0.0003404492894529957x₁⁹x₂t² + 3.836278593253594e-19x₁⁹t³ - 3.874093809241813e-7x₁⁸x₂⁴ + 3.938591835332774e-20x₁⁸x₂³t + 0.00017172005010559737x₁⁸x₂²t² - 4.199894157533322e-19x₁⁸x₂t³ + 0.00022253181841657853x₁⁸t⁴ + 1.5483592082483843e-6x₁⁷x₂⁵ - 5.2616440647594625e-20x₁⁷x₂⁴t + 0.000259547136068073x₁⁷x₂³t² - 2.6658461147986677e-19x₁⁷x₂²t³ + 0.000406478741702339x₁⁷x₂t⁴ - 5.067988419296385e-18x₁⁷t⁵ - 1.7690055890869638e-6x₁⁶x₂⁶ + 2.7396567382407404e-20x₁⁶x₂⁵t - 0.0004292363708925713x₁⁶x₂⁴t² + 1.5685783222264855e-18x₁⁶x₂³t³ - 0.0011434231217147754x₁⁶x₂²t⁴ + 2.769597746752094e-18x₁⁶x₂t⁵ - 0.008524441229491156x₁⁶t⁶ - 9.798790301107213e-7x₁⁵x₂⁷ + 6.28066342893135e-20x₁⁵x₂⁶t + 4.1098887836025915e-5x₁⁵x₂⁵t² + 6.930368275509355e-19x₁⁵x₂⁴t³ + 0.0004939710550388972x₁⁵x₂³t⁴ + 1.4045676184688465e-17x₁⁵x₂²t⁵ + 0.0033259001486550433x₁⁵x₂t⁶ - 2.855040027126883e-17x₁⁵t⁷ + 5.210797975903119e-7x₁⁴x₂⁸ - 3.114048258391623e-20x₁⁴x₂⁷t + 0.0002465821910215144x₁⁴x₂⁶t² - 1.827348183585737e-18x₁⁴x₂⁵t³ + 0.005396815947008918x₁⁴x₂⁴t⁴ - 6.054492095724199e-17x₁⁴x₂³t⁵ + 0.23029875826900364x₁⁴x₂²t⁶ - 7.785963907963857e-17x₁⁴x₂t⁷ - 0.02529788628044945x₁⁴t⁸ + 1.3500407479164792e-6x₁³x₂⁹ + 5.3781570914956934e-21x₁³x₂⁸t - 0.00013740957883331454x₁³x₂⁷t² + 7.014261955708778e-19x₁³x₂⁶t³ - 0.002386835601940958x₁³x₂⁵t⁴ + 1.507587657512538e-17x₁³x₂⁴t⁵ + 0.16196244247548464x₁³x₂³t⁶ - 3.589509298027486e-17x₁³x₂²t⁷ + 0.3897555148752418x₁³x₂t⁸ - 1.242042609901793e-16x₁³t⁹ + 4.4924259835334384e-7x₁²x₂¹⁰ - 5.3026155221108835e-21x₁²x₂⁹t - 2.1068678455830977e-5x₁²x₂⁸t² + 9.959944770556941e-19x₁²x₂⁷t³ + 0.0007235611705122978x₁²x₂⁶t⁴ + 7.014471616475045e-18x₁²x₂⁵t⁵ - 0.1492410230979291x₁²x₂⁴t⁶ + 2.4209671638258073e-16x₁²x₂³t⁷ + 1.074665976642456x₁²x₂²t⁸ - 8.995912855438326e-17x₁²x₂t⁹ - 0.10696154412962991x₁²t¹⁰ - 7.166251275333759e-8x₁x₂¹¹ - 9.767816860224366e-21x₁x₂¹⁰t + 2.1044810464623236e-5x₁x₂⁹t² - 7.256126442251766e-19x₁x₂⁸t³ - 0.0001450903207236871x₁x₂⁷t⁴ - 1.467915980698969e-17x₁x₂⁶t⁵ + 0.07241943093636245x₁x₂⁵t⁶ + 6.798237935070912e-17x₁x₂⁴t⁷ - 0.3131249963952828x₁x₂³t⁸ - 5.620697376064034e-17x₁x₂²t⁹ + 0.2127417177491899x₁x₂t¹⁰ + 9.820387936164024e-16x₁t¹¹ - 1.5032013847766846e-7x₂¹² + 3.1896442808218255e-21x₂¹¹t - 7.719840734698899e-6x₂¹⁰t² + 3.6505454540843627e-19x₂⁹t³ + 0.00036343089298996294x₂⁸t⁴ + 4.5673898417041736e-18x₂⁷t⁵ + 0.00680561706886669x₂⁶t⁶ + 4.840540094545723e-18x₂⁵t⁷ - 0.560872042574014x₂⁴t⁸ + 1.2461275074944854e-16x₂³t⁹ - 0.169813375940685x₂²t¹⁰ + 1.245416183676287e-15x₂t¹¹ + 0.050656631025893115t¹² - 1.7380076179996794e-21x₁¹¹ + 5.193629412522531e-22x₁¹⁰x₂ - 0.00012452340726094646x₁¹⁰t - 3.4120912000213387e-22x₁⁹x₂² + 4.7142623327760796e-5x₁⁹x₂t - 3.964364546267187e-19x₁⁹t² + 4.2918691825830284e-21x₁⁸x₂³ + 0.0002546941711185266x₁⁸x₂²t + 9.375348665475818e-19x₁⁸x₂t² - 0.00024517526628304253x₁⁸t³ + 2.0878764026833196e-20x₁⁷x₂⁴ - 0.00036515343099365765x₁⁷x₂³t - 7.041238810337619e-19x₁⁷x₂²t² + 0.001837255076883203x₁⁷x₂t³ + 1.005874858237881e-17x₁⁷t⁴ - 7.67244649552404e-21x₁⁶x₂⁵ + 0.0003669710060526814x₁⁶x₂⁴t - 2.681616180196565e-18x₁⁶x₂³t² - 0.0030464109604643685x₁⁶x₂²t³ - 2.2610635899029212e-17x₁⁶x₂t⁴ + 0.028984004261519095x₁⁶t⁵ - 2.3486436560009126e-20x₁⁵x₂⁶ - 2.9917673373082725e-5x₁⁵x₂⁵t + 3.8685930769125074e-19x₁⁵x₂⁴t² + 0.0005831640748523747x₁⁵x₂³t³ - 4.38880301500424e-18x₁⁵x₂²t⁴ - 0.05789095484977269x₁⁵x₂t⁵ + 1.034794335425655e-16x₁⁵t⁶ - 2.5207052621431494e-21x₁⁴x₂⁷ - 0.00024500613722903047x₁⁴x₂⁶t + 2.0189662025276747e-18x₁⁴x₂⁵t² - 0.012405418295281188x₁⁴x₂⁴t³ + 1.4588669805056959e-16x₁⁴x₂³t⁴ - 0.8219798777269731x₁⁴x₂²t⁵ + 3.761667502273607e-16x₁⁴x₂t⁶ + 0.008316929392321004x₁⁴t⁷ + 1.9569409736218447e-21x₁³x₂⁸ + 0.0001666941754004207x₁³x₂⁷t - 1.2705280882324357e-18x₁³x₂⁶t² + 0.004419163418918804x₁³x₂⁵t³ - 4.4266871587563336e-17x₁³x₂⁴t⁴ - 0.350611935384572x₁³x₂³t⁵ + 6.512737490581271e-17x₁³x₂²t⁶ - 2.5503710075011843x₁³x₂t⁷ + 7.226326275636258e-16x₁³t⁸ + 7.19548213796342e-21x₁²x₂⁹ + 1.3924239032286105e-5x₁²x₂⁸t - 1.1441759515977478e-18x₁²x₂⁷t² + 0.0003283382743195632x₁²x₂⁶t³ - 1.1187491958690357e-17x₁²x₂⁵t⁴ + 0.46206841960798245x₁²x₂⁴t⁵ - 9.795487980288034e-16x₁²x₂³t⁶ - 4.567332638642066x₁²x₂²t⁷ + 3.5766298372681935e-16x₁²x₂t⁸ + 0.08871110162505118x₁²t⁹ + 1.7950957840831733e-21x₁x₂¹⁰ - 3.230550372060652e-5x₁x₂⁹t + 9.547550911939786e-19x₁x₂⁸t² - 0.0011537761467203774x₁x₂⁷t³ + 3.939677485634347e-17x₁x₂⁶t⁴ - 0.28570291444953694x₁x₂⁵t⁵ - 1.613098645308003e-16x₁x₂⁴t⁶ + 2.1289690566594692x₁x₂³t⁷ - 6.63924272755273e-17x₁x₂²t⁸ - 1.6963329065597121x₁x₂t⁹ - 4.1856412976091406e-15x₁t¹⁰ + 3.945385279012351e-22x₂¹¹ + 1.240575301175139e-5x₂¹⁰t - 6.114075162872673e-19x₂⁹t² - 0.00031533227216830903x₂⁸t³ - 1.4755957894085984e-17x₂⁷t⁴ - 0.007868503212893393x₂⁶t⁵ - 3.5575714175554046e-17x₂⁵t⁶ + 2.698995894209973x₂⁴t⁷ - 6.98207357856692e-16x₂³t⁸ + 1.8294536376771193x₂²t⁹ - 7.109955008877225e-15x₂t¹⁰ - 0.11106871640765985t¹¹ + 0.00010466148149410787x₁¹⁰ - 0.00017247883761448024x₁⁹x₂ - 2.8593249723419693e-19x₁⁹t + 0.0001626714939851321x₁⁸x₂² - 1.9902103202395727e-20x₁⁸x₂t - 0.00284018377631923x₁⁸t² - 0.00012696374221309454x₁⁷x₂³ + 1.7432469369407564e-18x₁⁷x₂²t + 0.003607789117988242x₁⁷x₂t² - 7.888539759454484e-18x₁⁷t³ + 2.2960854452141173e-5x₁⁶x₂⁴ - 1.9546545501102203e-19x₁⁶x₂³t - 0.0012893349989196x₁⁶x₂²t² + 4.002149534465472e-17x₁⁶x₂t³ - 0.0364375590304966x₁⁶t⁴ - 7.948944034213915e-6x₁⁵x₂⁵ - 5.61297809127037e-20x₁⁵x₂⁴t + 0.004931286237029977x₁⁵x₂³t² - 5.194075666006146e-17x₁⁵x₂²t³ + 0.1519125307400434x₁⁵x₂t⁴ - 1.25892473633787e-16x₁⁵t⁵ - 2.424545357355192e-7x₁⁴x₂⁶ - 3.944895932655131e-19x₁⁴x₂⁵t + 0.007970160043370615x₁⁴x₂⁴t² - 1.1547839995647455e-16x₁⁴x₂³t³ + 1.0282084708279147x₁⁴x₂²t⁴ - 6.601312318162117e-16x₁⁴x₂t⁵ + 0.237090449727583x₁⁴t⁶ - 1.7658608599743588e-6x₁³x₂⁷ + 3.2656467148855243e-19x₁³x₂⁶t - 0.003970791349832353x₁³x₂⁵t² + 5.332445837786376e-17x₁³x₂⁴t³ + 0.14727553228010215x₁³x₂³t⁴ + 1.315545204655915e-17x₁³x₂²t⁵ + 6.2747565127611855x₁³x₂t⁶ - 1.6320901807451377e-15x₁³t⁷ - 6.088814255999639e-6x₁²x₂⁸ + 2.7706255932773606e-19x₁²x₂⁷t - 0.0002635467111035806x₁²x₂⁶t² - 1.2496295463594026e-17x₁²x₂⁵t³ - 0.4727429531834839x₁²x₂⁴t⁴ + 1.7192727242239302e-15x₁²x₂³t⁵ + 6.980025947605605x₁²x₂²t⁶ - 5.770489976644882e-16x₁²x₂t⁷ + 0.9259853131804524x₁²t⁸ - 9.528134781790391e-7x₁x₂⁹ - 2.1246726689985772e-19x₁x₂⁸t + 0.001485847973849969x₁x₂⁷t² - 2.884975231646014e-17x₁x₂⁶t³ + 0.4106540631913596x₁x₂⁵t⁴ + 4.5132853123906205e-17x₁x₂⁴t⁵ - 6.637699053114137x₁x₂³t⁶ + 7.752355874884239e-16x₁x₂²t⁷ + 4.494465904274811x₁x₂t⁸ + 6.924781624794184e-15x₁t⁹ + 3.4457656484196837e-6x₂¹⁰ + 2.3691547604798356e-19x₂⁹t - 5.7725805104087104e-5x₂⁸t² + 1.2851648120446015e-17x₂⁷t³ - 0.015342518323263688x₂⁶t⁴ + 5.1780469377192246e-17x₂⁵t⁵ - 5.39168954057039x₂⁴t⁶ + 1.4318975127443419e-15x₂³t⁷ - 6.673817676256614x₂²t⁸ + 1.7521528442059937e-14x₂t⁹ + 0.0656738540564568t¹⁰ + 1.1439318432672882e-20x₁⁹ - 2.184608879113169e-19x₁⁸x₂ + 0.0016064068775253596x₁⁸t - 1.6993766275180546e-19x₁⁷x₂² - 1.814384655544233e-5x₁⁷x₂t + 1.0430448359895454e-18x₁⁷t² - 2.7919436855863427e-20x₁⁶x₂³ - 0.006071018411947841x₁⁶x₂²t - 2.038349658907355e-17x₁⁶x₂t² + 0.020800174086909238x₁⁶t³ - 4.661612593012466e-21x₁⁵x₂⁴ + 0.0022545903168250036x₁⁵x₂³t + 6.481421791046047e-17x₁⁵x₂²t² - 0.15755857372438734x₁⁵x₂t³ + 4.813533536608356e-17x₁⁵t⁴ + 1.3157859200290711e-20x₁⁴x₂⁵ - 0.0031733794436832456x₁⁴x₂⁴t + 2.7546135869429166e-17x₁⁴x₂³t² - 0.44261903307786776x₁⁴x₂²t³ + 6.366393799189969e-16x₁⁴x₂t⁴ - 0.5706489871961422x₁⁴t⁵ - 2.407774103960181e-20x₁³x₂⁶ + 0.0009962420359293626x₁³x₂⁵t - 3.256567321983063e-17x₁³x₂⁴t² + 0.05659971814003108x₁³x₂³t³ - 2.9851450767577563e-16x₁³x₂²t⁴ - 7.707450087421671x₁³x₂t⁵ + 1.9014235475201083e-15x₁³t⁶ + 3.1321187534493177e-20x₁²x₂⁷ + 0.00012794931542626988x₁²x₂⁶t + 2.991631016998077e-17x₁²x₂⁵t² + 0.17970816118495847x₁²x₂⁴t³ - 1.5949920834924278e-15x₁²x₂³t⁴ - 3.0274396742669647x₁²x₂²t⁵ + 2.4970544988560334e-16x₁²x₂t⁶ - 2.34489968242725x₁²t⁷ - 3.7484019973860293e-20x₁x₂⁸ - 0.00046767084703200996x₁x₂⁷t + 2.974417263939508e-19x₁x₂⁶t² - 0.26727142690696903x₁x₂⁵t³ + 1.8943363859332134e-16x₁x₂⁴t⁴ + 11.359942402996596x₁x₂³t⁵ - 1.4117970709812792e-15x₁x₂²t⁶ - 3.8211669061934437x₁x₂t⁷ - 5.149415099592937e-15x₁t⁸ - 5.266042951770818e-22x₂⁹ + 1.8901167714748235e-5x₂⁸t - 1.1280847893322759e-18x₂⁷t² + 0.028213421903565728x₂⁶t³ - 4.1243128543707035e-18x₂⁵t⁴ + 5.6332402527030325x₂⁴t⁵ - 1.2279706408437376e-15x₂³t⁶ + 11.87877524591252x₂²t⁷ - 2.4091892729594342e-14x₂t⁸ - 0.320569036764273t⁹ - 0.0008513314119275362x₁⁸ + 0.0019131510455236398x₁⁷x₂ + 4.0489933735977594e-18x₁⁷t - 0.001179669936699386x₁⁶x₂² - 9.098299102093903e-18x₁⁶x₂t + 0.013557224566726027x₁⁶t² + 0.001334235354647956x₁⁵x₂³ - 1.9000176728858365e-17x₁⁵x₂²t + 0.0033431755212738968x₁⁵x₂t² + 1.0617352544064029e-17x₁⁵t³ - 0.0003945929838899432x₁⁴x₂⁴ + 5.457642408255957e-18x₁⁴x₂³t + 0.04101958295245553x₁⁴x₂²t² - 4.0744207781555283e-16x₁⁴x₂t³ + 0.6043448328318642x₁⁴t⁴ + 0.00018836630286108217x₁³x₂⁵ + 1.858527345413903e-18x₁³x₂⁴t - 0.07256536834208577x₁³x₂³t² + 6.245047296363595e-16x₁³x₂²t³ + 4.927078320773161x₁³x₂t⁴ - 1.2810026736211082e-15x₁³t⁵ - 7.480647575452815e-5x₁²x₂⁶ - 1.009254591180146e-17x₁²x₂⁵t + 0.02560216998809345x₁²x₂⁴t² + 6.576391777330616e-16x₁²x₂³t³ - 3.811578431906384x₁²x₂²t⁴ + 4.343479076523334e-16x₁²x₂t⁵ + 2.0293211696634863x₁²t⁶ + 8.718840668005653e-5x₁x₂⁷ + 3.2698559261407874e-18x₁x₂⁶t + 0.06388532316514196x₁x₂⁵t² - 1.8729813195632364e-16x₁x₂⁴t³ - 10.920867361954118x₁x₂³t⁴ + 1.0363223344125424e-15x₁x₂²t⁵ - 3.2953571098028123x₁x₂t⁶ + 8.000964179824611e-16x₁t⁷ - 1.8350095758809216e-5x₂⁸ - 1.5645663729986115e-18x₂⁷t - 0.012456893981099122x₂⁶t² - 2.853690110037688e-17x₂⁵t³ - 3.1679322503849647x₂⁴t⁴ + 1.953385776904917e-16x₂³t⁵ - 10.333019836125683x₂²t⁶ + 1.9926115656292864e-14x₂t⁷ + 1.2229984604726638t⁸ + 8.676872097961842e-19x₁⁷ + 2.4756212639458488e-18x₁⁶x₂ - 0.010525255407676173x₁⁶t + 1.0445354155031225e-18x₁⁵x₂² + 0.03922038789891989x₁⁵x₂t + 1.0092695235408293e-17x₁⁵t² - 8.90981013447538e-19x₁⁴x₂³ + 0.02439595572827004x₁⁴x₂²t + 7.836193956229701e-17x₁⁴x₂t² - 0.34651357361547674x₁⁴t³ + 1.389613728102341e-18x₁³x₂⁴ - 0.014051440843822477x₁³x₂³t - 4.43178863461567e-16x₁³x₂²t² - 1.1051725432007817x₁³x₂t³ + 5.735512410274419e-16x₁³t⁴ - 1.074643183835394e-19x₁²x₂⁵ - 0.0034584371166410883x₁²x₂⁴t - 1.0955781553519507e-17x₁²x₂³t² + 5.376431219870137x₁²x₂²t³ - 7.182872730025235e-16x₁²x₂t⁴ - 0.29137929676078844x₁²t⁵ - 4.5981017593484195e-20x₁x₂⁶ - 0.00660811900363021x₁x₂⁵t + 3.816414982389696e-17x₁x₂⁴t² + 5.841504663078438x₁x₂³t³ - 1.0656005900575949e-16x₁x₂²t⁴ + 9.77811050765484x₁x₂t⁵ + 1.3953560627532746e-15x₁t⁶ + 1.069224740996889e-19x₂⁷ + 0.0025269640932981275x₂⁶t + 1.3170007990042769e-17x₂⁵t² + 0.8352299256093573x₂⁴t³ + 3.2436788927550794e-16x₂³t⁴ + 0.454551969382376x₂²t⁵ - 9.93637340804197e-15x₂t⁶ - 2.0687619047731705t⁷ - 0.00018648046305886137x₁⁶ - 0.008654940311871613x₁⁵x₂ - 2.0842062722272088e-17x₁⁵t + 0.005067168203390468x₁⁴x₂² + 1.0051111011964972e-16x₁⁴x₂t + 0.026238646472770844x₁⁴t² - 0.003829510818289397x₁³x₂³ + 2.3084001553746394e-17x₁³x₂²t - 0.19291876509871128x₁³x₂t² - 2.130364139954471e-16x₁³t³ + 0.002492372619226852x₁²x₂⁴ + 1.1274856271657766e-17x₁²x₂³t - 2.568594849727303x₁²x₂²t² + 5.148324031813634e-16x₁²x₂t³ - 0.6746291819640126x₁²t⁴ - 0.0007005848253997409x₁x₂⁵ - 1.457443005458651e-17x₁x₂⁴t - 1.6422539255640916x₁x₂³t² - 4.672942065824007e-16x₁x₂²t³ - 9.323019517953798x₁x₂t⁴ - 9.63452069959044e-16x₁t⁵ - 2.765441290929275e-5x₂⁶ + 3.0773276142906728e-18x₂⁵t - 0.016507241327052564x₂⁴t² - 1.3057920080023304e-16x₂³t³ + 10.578651900832504x₂²t⁴ + 2.788007087932616e-15x₂t⁵ + 2.144425460160074t⁶ - 1.1986315502786982e-17x₁⁵ - 4.431296188926637e-18x₁⁴x₂ + 0.026279867145035107x₁⁴t - 4.58800177635117e-18x₁³x₂² - 0.15320193208307775x₁³x₂t + 2.0072103192906425e-17x₁³t² + 1.999602772759139e-18x₁²x₂³ + 0.7930692566478943x₁²x₂²t - 7.881760598688593e-17x₁²x₂t² + 0.7964907689694107x₁²t³ + 9.990830853230844e-20x₁x₂⁴ + 0.03736393219455652x₁x₂³t + 3.6057742364841863e-16x₁x₂²t² + 4.201154920151032x₁x₂t³ + 1.4053490424770646e-16x₁t⁴ - 3.1479033276623134e-19x₂⁵ + 0.004082712347742873x₂⁴t - 4.442966091279522e-17x₂³t² - 15.046859661851443x₂²t³ - 3.0697652716268056e-16x₂t⁴ - 1.5849503979054658t⁵ + 0.01329654643334401x₁⁴ + 0.01445222905945264x₁³x₂ + 3.3789517227438355e-17x₁³t - 0.012392024955151567x₁²x₂² - 1.7549966624165065e-16x₁²x₂t - 0.7583048517332065x₁²t² + 0.0028058719584826454x₁x₂³ + 1.0531999155768873e-17x₁x₂²t + 1.4134261864285405x₁x₂t² + 1.015712869429896e-16x₁t³ - 0.0014470094418600136x₂⁴ + 1.7599504471586824e-18x₂³t + 11.050604004780102x₂²t² - 7.041634424846433e-17x₂t³ + 0.8313777697896165t⁴ + 3.320612757476353e-17x₁³ + 1.592058244640081e-20x₁²x₂ - 0.020291576599476047x₁²t + 6.876787174314212e-19x₁x₂² - 3.1068561915636144x₁x₂t - 3.819140052402635e-17x₁t² - 3.3096598514140055e-19x₂³ - 4.01577073713846x₂²t + 2.3955494319570796e-17x₂t² - 0.27917988097322666t³ + 0.9808448731897748x₁² - 0.005939970114922334x₁x₂ - 1.3586302759397709e-17x₁t + 1.0068602813402792x₂² + 3.386846289471622e-17x₂t + 0.050752888940031285t² - 1.980500191793029e-17x₁ + 7.089199566986966e-19x₂ + 0.013218211001833905t - 0.2376669584651749"
      ]
     },
     "execution_count": 99,
     "metadata": {},
     "output_type": "execute_result"
    }
   ],
   "source": [
    "JuMP.value(model[:Φ])"
   ]
  },
  {
   "cell_type": "code",
   "execution_count": 100,
   "metadata": {},
   "outputs": [
    {
     "name": "stdout",
     "output_type": "stream",
     "text": [
      "STALL\n"
     ]
    },
    {
     "data": {
      "text/plain": [
       "0.02305835379792861"
      ]
     },
     "execution_count": 100,
     "metadata": {},
     "output_type": "execute_result"
    }
   ],
   "source": [
    "# Recovering the solution:\n",
    "ϵopt = JuMP.objective_value(model)"
   ]
  },
  {
   "cell_type": "code",
   "execution_count": 123,
   "metadata": {},
   "outputs": [
    {
     "name": "stdout",
     "output_type": "stream",
     "text": [
      "STALL\n",
      "STALL\n",
      "STALL\n",
      "STALL\n",
      "STALL\n",
      "STALL\n",
      "STALL\n",
      "STALL\n",
      "STALL\n",
      "STALL\n",
      "STALL\n",
      "STALL\n",
      "STALL\n",
      "STALL\n",
      "STALL\n",
      "STALL\n",
      "STALL\n",
      "STALL\n",
      "STALL\n",
      "STALL\n",
      "STALL\n",
      "STALL\n",
      "STALL\n",
      "STALL\n",
      "STALL\n",
      "STALL\n",
      "STALL\n",
      "STALL\n",
      "STALL\n",
      "STALL\n",
      "STALL\n",
      "STALL\n",
      "STALL\n",
      "STALL\n",
      "STALL\n",
      "STALL\n",
      "STALL\n",
      "STALL\n",
      "STALL\n",
      "STALL\n",
      "STALL\n",
      "STALL\n",
      "STALL\n",
      "STALL\n",
      "STALL\n",
      "STALL\n",
      "STALL\n",
      "STALL\n",
      "STALL\n",
      "STALL\n",
      "STALL\n",
      "STALL\n",
      "STALL\n",
      "STALL\n",
      "STALL\n",
      "STALL\n",
      "STALL\n",
      "STALL\n",
      "STALL\n",
      "STALL\n",
      "STALL\n",
      "STALL\n",
      "STALL\n",
      "STALL\n",
      "STALL\n",
      "STALL\n",
      "STALL\n",
      "STALL\n",
      "STALL\n",
      "STALL\n",
      "STALL\n",
      "STALL\n",
      "STALL\n",
      "STALL\n",
      "STALL\n",
      "STALL\n",
      "STALL\n",
      "STALL\n",
      "STALL\n",
      "STALL\n",
      "STALL\n",
      "STALL\n",
      "STALL\n",
      "STALL\n",
      "STALL\n",
      "STALL\n",
      "STALL\n",
      "STALL\n",
      "STALL\n",
      "STALL\n",
      "STALL\n",
      "STALL\n",
      "STALL\n",
      "STALL\n",
      "STALL\n",
      "STALL\n",
      "STALL\n",
      "STALL\n",
      "STALL\n",
      "STALL\n",
      "STALL\n",
      "STALL\n",
      "STALL\n",
      "STALL\n",
      "STALL\n",
      "STALL\n",
      "STALL\n",
      "STALL\n",
      "STALL\n",
      "STALL\n",
      "STALL\n",
      "STALL\n",
      "STALL\n",
      "STALL\n",
      "STALL\n",
      "STALL\n",
      "STALL\n",
      "STALL\n",
      "STALL\n",
      "STALL\n",
      "STALL\n",
      "STALL\n",
      "STALL\n",
      "STALL\n",
      "STALL\n",
      "STALL\n",
      "STALL\n",
      "STALL\n",
      "STALL\n",
      "STALL\n",
      "STALL\n",
      "STALL\n",
      "STALL\n",
      "STALL\n",
      "STALL\n",
      "STALL\n",
      "STALL\n",
      "STALL\n",
      "STALL\n",
      "STALL\n",
      "STALL\n",
      "STALL\n",
      "STALL\n",
      "STALL\n",
      "STALL\n",
      "STALL\n",
      "STALL\n",
      "STALL\n",
      "STALL\n",
      "STALL\n",
      "STALL\n",
      "STALL\n",
      "STALL\n",
      "STALL\n",
      "STALL\n",
      "STALL\n",
      "STALL\n",
      "STALL\n",
      "STALL\n",
      "STALL\n",
      "STALL\n",
      "STALL\n",
      "STALL\n",
      "STALL\n",
      "STALL\n",
      "STALL\n",
      "STALL\n",
      "STALL\n",
      "STALL\n",
      "STALL\n",
      "STALL\n",
      "STALL\n",
      "STALL\n",
      "STALL\n",
      "STALL\n",
      "STALL\n",
      "STALL\n",
      "STALL\n",
      "STALL\n",
      "STALL\n",
      "STALL\n",
      "STALL\n",
      "STALL\n",
      "STALL\n",
      "STALL\n",
      "STALL\n",
      "STALL\n",
      "STALL\n",
      "STALL\n",
      "STALL\n",
      "STALL\n",
      "STALL\n",
      "STALL\n",
      "STALL\n",
      "STALL\n",
      "STALL\n",
      "STALL\n",
      "STALL\n",
      "STALL\n",
      "STALL\n",
      "STALL\n",
      "STALL\n",
      "STALL\n",
      "STALL\n",
      "STALL\n",
      "STALL\n",
      "STALL\n",
      "STALL\n",
      "STALL\n",
      "STALL\n",
      "STALL\n",
      "STALL\n",
      "STALL\n",
      "STALL\n",
      "STALL\n",
      "STALL\n",
      "STALL\n",
      "STALL\n",
      "STALL\n",
      "STALL\n",
      "STALL\n",
      "STALL\n",
      "STALL\n",
      "STALL\n",
      "STALL\n",
      "STALL\n",
      "STALL\n",
      "STALL\n",
      "STALL\n",
      "STALL\n",
      "STALL\n",
      "STALL\n",
      "STALL\n",
      "STALL\n",
      "STALL\n",
      "STALL\n",
      "STALL\n",
      "STALL\n",
      "STALL\n",
      "STALL\n",
      "STALL\n",
      "STALL\n",
      "STALL\n",
      "STALL\n",
      "STALL\n",
      "STALL\n",
      "STALL\n",
      "STALL\n",
      "STALL\n",
      "STALL\n",
      "STALL\n",
      "STALL\n",
      "STALL\n",
      "STALL\n",
      "STALL\n",
      "STALL\n",
      "STALL\n",
      "STALL\n",
      "STALL\n",
      "STALL\n",
      "STALL\n",
      "STALL\n",
      "STALL\n",
      "STALL\n",
      "STALL\n",
      "STALL\n",
      "STALL\n",
      "STALL\n",
      "STALL\n",
      "STALL\n",
      "STALL\n",
      "STALL\n",
      "STALL\n",
      "STALL\n",
      "STALL\n",
      "STALL\n",
      "STALL\n",
      "STALL\n",
      "STALL\n",
      "STALL\n",
      "STALL\n",
      "STALL\n",
      "STALL\n",
      "STALL\n",
      "STALL\n",
      "STALL\n",
      "STALL\n",
      "STALL\n",
      "STALL\n",
      "STALL\n",
      "STALL\n",
      "STALL\n",
      "STALL\n",
      "STALL\n",
      "STALL\n",
      "STALL\n",
      "STALL\n",
      "STALL\n",
      "STALL\n",
      "STALL\n",
      "STALL\n",
      "STALL\n",
      "STALL\n",
      "STALL\n",
      "STALL\n",
      "STALL\n",
      "STALL\n",
      "STALL\n",
      "STALL\n",
      "STALL\n",
      "STALL\n",
      "STALL\n",
      "STALL\n",
      "STALL\n",
      "STALL\n",
      "STALL\n",
      "STALL\n",
      "STALL\n",
      "STALL\n",
      "STALL\n",
      "STALL\n",
      "STALL\n",
      "STALL\n",
      "STALL\n",
      "STALL\n",
      "STALL\n",
      "STALL\n",
      "STALL\n",
      "STALL\n",
      "STALL\n",
      "STALL\n",
      "STALL\n",
      "STALL\n",
      "STALL\n",
      "STALL\n",
      "STALL\n",
      "STALL\n",
      "STALL\n",
      "STALL\n",
      "STALL\n",
      "STALL\n",
      "STALL\n",
      "STALL\n",
      "STALL\n",
      "STALL\n",
      "STALL\n",
      "STALL\n",
      "STALL\n",
      "STALL\n",
      "STALL\n",
      "STALL\n",
      "STALL\n",
      "STALL\n",
      "STALL\n",
      "STALL\n",
      "STALL\n",
      "STALL\n",
      "STALL\n",
      "STALL\n",
      "STALL\n",
      "STALL\n",
      "STALL\n",
      "STALL\n",
      "STALL\n",
      "STALL\n",
      "STALL\n",
      "STALL\n",
      "STALL\n",
      "STALL\n",
      "STALL\n",
      "STALL\n",
      "STALL\n",
      "STALL\n",
      "STALL\n",
      "STALL\n",
      "STALL\n",
      "STALL\n",
      "STALL\n",
      "STALL\n",
      "STALL\n",
      "STALL\n",
      "STALL\n",
      "STALL\n",
      "STALL\n",
      "STALL\n",
      "STALL\n",
      "STALL\n",
      "STALL\n",
      "STALL\n",
      "STALL\n",
      "STALL\n",
      "STALL\n",
      "STALL\n",
      "STALL\n",
      "STALL\n",
      "STALL\n",
      "STALL\n",
      "STALL\n",
      "STALL\n",
      "STALL\n",
      "STALL\n",
      "STALL\n",
      "STALL\n",
      "STALL\n",
      "STALL\n",
      "STALL\n",
      "STALL\n",
      "STALL\n",
      "STALL\n",
      "STALL\n",
      "STALL\n",
      "STALL\n",
      "STALL\n",
      "STALL\n",
      "STALL\n",
      "STALL\n",
      "STALL\n",
      "STALL\n",
      "STALL\n",
      "STALL\n",
      "STALL\n",
      "STALL\n",
      "STALL\n",
      "STALL\n",
      "STALL\n",
      "STALL\n",
      "STALL\n",
      "STALL\n",
      "STALL\n",
      "STALL\n",
      "STALL\n",
      "STALL\n",
      "STALL\n",
      "STALL\n",
      "STALL\n",
      "STALL\n",
      "STALL\n",
      "STALL\n",
      "STALL\n",
      "STALL\n",
      "STALL\n",
      "STALL\n",
      "STALL\n",
      "STALL\n",
      "STALL\n",
      "STALL\n",
      "STALL\n",
      "STALL\n",
      "STALL\n",
      "STALL\n",
      "STALL\n",
      "STALL\n",
      "STALL\n",
      "STALL\n",
      "STALL\n"
     ]
    }
   ],
   "source": [
    "# Punder <= 0\n",
    "Punder = subs(JuMP.value(model[:Φ]), t => T);"
   ]
  },
  {
   "cell_type": "code",
   "execution_count": 122,
   "metadata": {},
   "outputs": [
    {
     "data": {
      "text/plain": [
       "91-element MonomialVector{true}:\n",
       " x₁¹²   \n",
       " x₁¹¹x₂ \n",
       " x₁¹⁰x₂²\n",
       " x₁⁹x₂³ \n",
       " x₁⁸x₂⁴ \n",
       " x₁⁷x₂⁵ \n",
       " x₁⁶x₂⁶ \n",
       " x₁⁵x₂⁷ \n",
       " x₁⁴x₂⁸ \n",
       " x₁³x₂⁹ \n",
       " x₁²x₂¹⁰\n",
       " x₁x₂¹¹ \n",
       " x₂¹²   \n",
       " ⋮      \n",
       " x₁x₂³  \n",
       " x₂⁴    \n",
       " x₁³    \n",
       " x₁²x₂  \n",
       " x₁x₂²  \n",
       " x₂³    \n",
       " x₁²    \n",
       " x₁x₂   \n",
       " x₂²    \n",
       " x₁     \n",
       " x₂     \n",
       " 1      "
      ]
     },
     "execution_count": 122,
     "metadata": {},
     "output_type": "execute_result"
    }
   ],
   "source": [
    "Punder.x"
   ]
  },
  {
   "cell_type": "code",
   "execution_count": 102,
   "metadata": {},
   "outputs": [
    {
     "name": "stdout",
     "output_type": "stream",
     "text": [
      "STALL\n",
      "STALL\n",
      "STALL\n",
      "STALL\n",
      "STALL\n",
      "STALL\n",
      "STALL\n",
      "STALL\n",
      "STALL\n",
      "STALL\n",
      "STALL\n",
      "STALL\n",
      "STALL\n",
      "STALL\n",
      "STALL\n",
      "STALL\n",
      "STALL\n",
      "STALL\n",
      "STALL\n",
      "STALL\n",
      "STALL\n",
      "STALL\n",
      "STALL\n",
      "STALL\n",
      "STALL\n",
      "STALL\n",
      "STALL\n",
      "STALL\n",
      "STALL\n",
      "STALL\n",
      "STALL\n",
      "STALL\n",
      "STALL\n",
      "STALL\n",
      "STALL\n",
      "STALL\n",
      "STALL\n",
      "STALL\n",
      "STALL\n",
      "STALL\n",
      "STALL\n",
      "STALL\n",
      "STALL\n",
      "STALL\n",
      "STALL\n",
      "STALL\n",
      "STALL\n",
      "STALL\n",
      "STALL\n",
      "STALL\n",
      "STALL\n",
      "STALL\n",
      "STALL\n",
      "STALL\n",
      "STALL\n",
      "STALL\n",
      "STALL\n",
      "STALL\n",
      "STALL\n",
      "STALL\n",
      "STALL\n",
      "STALL\n",
      "STALL\n",
      "STALL\n",
      "STALL\n",
      "STALL\n",
      "STALL\n",
      "STALL\n",
      "STALL\n",
      "STALL\n",
      "STALL\n",
      "STALL\n",
      "STALL\n",
      "STALL\n",
      "STALL\n",
      "STALL\n",
      "STALL\n",
      "STALL\n",
      "STALL\n",
      "STALL\n",
      "STALL\n",
      "STALL\n",
      "STALL\n",
      "STALL\n",
      "STALL\n",
      "STALL\n",
      "STALL\n",
      "STALL\n",
      "STALL\n",
      "STALL\n",
      "STALL\n",
      "STALL\n",
      "STALL\n",
      "STALL\n",
      "STALL\n",
      "STALL\n",
      "STALL\n",
      "STALL\n",
      "STALL\n",
      "STALL\n",
      "STALL\n",
      "STALL\n",
      "STALL\n",
      "STALL\n",
      "STALL\n",
      "STALL\n",
      "STALL\n",
      "STALL\n",
      "STALL\n",
      "STALL\n",
      "STALL\n",
      "STALL\n",
      "STALL\n",
      "STALL\n",
      "STALL\n",
      "STALL\n",
      "STALL\n",
      "STALL\n",
      "STALL\n",
      "STALL\n",
      "STALL\n",
      "STALL\n",
      "STALL\n",
      "STALL\n",
      "STALL\n",
      "STALL\n",
      "STALL\n",
      "STALL\n",
      "STALL\n",
      "STALL\n",
      "STALL\n",
      "STALL\n",
      "STALL\n",
      "STALL\n",
      "STALL\n",
      "STALL\n",
      "STALL\n",
      "STALL\n",
      "STALL\n",
      "STALL\n",
      "STALL\n",
      "STALL\n",
      "STALL\n",
      "STALL\n",
      "STALL\n",
      "STALL\n",
      "STALL\n",
      "STALL\n",
      "STALL\n",
      "STALL\n",
      "STALL\n",
      "STALL\n",
      "STALL\n",
      "STALL\n",
      "STALL\n",
      "STALL\n",
      "STALL\n",
      "STALL\n",
      "STALL\n",
      "STALL\n",
      "STALL\n",
      "STALL\n",
      "STALL\n",
      "STALL\n",
      "STALL\n",
      "STALL\n",
      "STALL\n",
      "STALL\n",
      "STALL\n",
      "STALL\n",
      "STALL\n",
      "STALL\n",
      "STALL\n",
      "STALL\n",
      "STALL\n",
      "STALL\n",
      "STALL\n",
      "STALL\n",
      "STALL\n",
      "STALL\n",
      "STALL\n",
      "STALL\n",
      "STALL\n",
      "STALL\n",
      "STALL\n",
      "STALL\n",
      "STALL\n",
      "STALL\n",
      "STALL\n",
      "STALL\n",
      "STALL\n",
      "STALL\n",
      "STALL\n",
      "STALL\n",
      "STALL\n",
      "STALL\n",
      "STALL\n",
      "STALL\n",
      "STALL\n",
      "STALL\n",
      "STALL\n",
      "STALL\n",
      "STALL\n",
      "STALL\n",
      "STALL\n",
      "STALL\n",
      "STALL\n",
      "STALL\n",
      "STALL\n",
      "STALL\n",
      "STALL\n",
      "STALL\n",
      "STALL\n",
      "STALL\n",
      "STALL\n",
      "STALL\n",
      "STALL\n",
      "STALL\n",
      "STALL\n",
      "STALL\n",
      "STALL\n",
      "STALL\n",
      "STALL\n",
      "STALL\n",
      "STALL\n",
      "STALL\n",
      "STALL\n",
      "STALL\n",
      "STALL\n",
      "STALL\n",
      "STALL\n",
      "STALL\n",
      "STALL\n",
      "STALL\n",
      "STALL\n",
      "STALL\n",
      "STALL\n",
      "STALL\n",
      "STALL\n",
      "STALL\n",
      "STALL\n",
      "STALL\n",
      "STALL\n",
      "STALL\n",
      "STALL\n",
      "STALL\n",
      "STALL\n",
      "STALL\n",
      "STALL\n",
      "STALL\n",
      "STALL\n",
      "STALL\n",
      "STALL\n",
      "STALL\n",
      "STALL\n",
      "STALL\n",
      "STALL\n",
      "STALL\n",
      "STALL\n",
      "STALL\n",
      "STALL\n",
      "STALL\n",
      "STALL\n",
      "STALL\n",
      "STALL\n",
      "STALL\n",
      "STALL\n",
      "STALL\n",
      "STALL\n",
      "STALL\n",
      "STALL\n",
      "STALL\n",
      "STALL\n",
      "STALL\n",
      "STALL\n",
      "STALL\n",
      "STALL\n",
      "STALL\n",
      "STALL\n",
      "STALL\n",
      "STALL\n",
      "STALL\n",
      "STALL\n",
      "STALL\n",
      "STALL\n",
      "STALL\n",
      "STALL\n",
      "STALL\n",
      "STALL\n",
      "STALL\n",
      "STALL\n",
      "STALL\n",
      "STALL\n",
      "STALL\n",
      "STALL\n",
      "STALL\n",
      "STALL\n",
      "STALL\n",
      "STALL\n",
      "STALL\n",
      "STALL\n",
      "STALL\n",
      "STALL\n",
      "STALL\n",
      "STALL\n",
      "STALL\n",
      "STALL\n",
      "STALL\n",
      "STALL\n",
      "STALL\n",
      "STALL\n",
      "STALL\n",
      "STALL\n",
      "STALL\n",
      "STALL\n",
      "STALL\n",
      "STALL\n",
      "STALL\n",
      "STALL\n",
      "STALL\n",
      "STALL\n",
      "STALL\n",
      "STALL\n",
      "STALL\n",
      "STALL\n",
      "STALL\n",
      "STALL\n",
      "STALL\n",
      "STALL\n",
      "STALL\n",
      "STALL\n",
      "STALL\n",
      "STALL\n",
      "STALL\n",
      "STALL\n",
      "STALL\n",
      "STALL\n",
      "STALL\n",
      "STALL\n",
      "STALL\n",
      "STALL\n",
      "STALL\n",
      "STALL\n",
      "STALL\n",
      "STALL\n",
      "STALL\n",
      "STALL\n",
      "STALL\n",
      "STALL\n",
      "STALL\n",
      "STALL\n",
      "STALL\n",
      "STALL\n",
      "STALL\n",
      "STALL\n",
      "STALL\n",
      "STALL\n",
      "STALL\n",
      "STALL\n",
      "STALL\n",
      "STALL\n",
      "STALL\n",
      "STALL\n",
      "STALL\n",
      "STALL\n",
      "STALL\n",
      "STALL\n",
      "STALL\n",
      "STALL\n",
      "STALL\n",
      "STALL\n",
      "STALL\n",
      "STALL\n",
      "STALL\n",
      "STALL\n",
      "STALL\n",
      "STALL\n",
      "STALL\n",
      "STALL\n",
      "STALL\n",
      "STALL\n",
      "STALL\n",
      "STALL\n",
      "STALL\n",
      "STALL\n",
      "STALL\n",
      "STALL\n",
      "STALL\n",
      "STALL\n",
      "STALL\n",
      "STALL\n",
      "STALL\n",
      "STALL\n",
      "STALL\n",
      "STALL\n",
      "STALL\n",
      "STALL\n",
      "STALL\n",
      "STALL\n",
      "STALL\n",
      "STALL\n",
      "STALL\n",
      "STALL\n",
      "STALL\n",
      "STALL\n",
      "STALL\n",
      "STALL\n",
      "STALL\n",
      "STALL\n",
      "STALL\n",
      "STALL\n",
      "STALL\n",
      "STALL\n",
      "STALL\n",
      "STALL\n",
      "STALL\n",
      "STALL\n",
      "STALL\n",
      "STALL\n",
      "STALL\n",
      "STALL\n",
      "STALL\n",
      "STALL\n",
      "STALL\n",
      "STALL\n",
      "STALL\n",
      "STALL\n",
      "STALL\n",
      "STALL\n",
      "STALL\n",
      "STALL\n",
      "STALL\n",
      "STALL\n",
      "STALL\n",
      "STALL\n",
      "STALL\n",
      "STALL\n",
      "STALL\n",
      "STALL\n",
      "STALL\n",
      "STALL\n",
      "STALL\n",
      "STALL\n",
      "STALL\n",
      "STALL\n",
      "STALL\n",
      "STALL\n",
      "STALL\n",
      "STALL\n",
      "STALL\n",
      "STALL\n",
      "STALL\n",
      "STALL\n",
      "STALL\n",
      "STALL\n"
     ]
    }
   ],
   "source": [
    "# Pover <= 0\n",
    "Pover = subs(JuMP.value(model[:Φ]), t => T) - ϵopt * (T+1);"
   ]
  },
  {
   "cell_type": "markdown",
   "metadata": {},
   "source": [
    "### Using `ImplicitEquations`\n",
    "\n",
    "- [ImplicitEquations.jl](https://github.com/jverzani/ImplicitEquations.jl)\n",
    "    - Method to graph two-dimensional implicit equations and inequalities.\n",
    "    - Native Julia implementation of Tupper's [Reliable Two-Dimensional Graphing Methodsfor Mathematical Formulae with Two Free Variables](http://www.dgp.toronto.edu/people/mooncake/papers/SIGGRAPH2001_Tupper.pdf).\n",
    "    \n",
    "\n",
    "- We use static polynomials from [StaticPolynomials](https://github.com/JuliaAlgebra/StaticPolynomials.jl) for fast   evaluation:\n",
    "    - Library for fast evaluation of multivariate polynomials.\n",
    "    - `StaticPolynomials` encodes information on the *type signature* which terms are non-zero.\n",
    "    - Uses Julia's metaprogramming capabilities and generated functions."
   ]
  },
  {
   "cell_type": "code",
   "execution_count": 116,
   "metadata": {},
   "outputs": [
    {
     "name": "stderr",
     "output_type": "stream",
     "text": [
      "WARNING: using StaticPolynomials.Polynomial in module Main conflicts with an existing identifier.\n"
     ]
    },
    {
     "data": {
      "text/plain": [
       "_Pover (generic function with 1 method)"
      ]
     },
     "execution_count": 116,
     "metadata": {},
     "output_type": "execute_result"
    }
   ],
   "source": [
    "using StaticPolynomials\n",
    "\n",
    "# convert to a static polynomial for faster evaluation\n",
    "Punder_st = StaticPolynomials.Polynomial(Punder)\n",
    "Pover_st = StaticPolynomials.Polynomial(Pover)\n",
    "\n",
    "_Punder(x, y) = Punder_st([x, y])\n",
    "_Pover(x, y) = Pover_st([x, y])"
   ]
  },
  {
   "cell_type": "code",
   "execution_count": 117,
   "metadata": {},
   "outputs": [
    {
     "name": "stdout",
     "output_type": "stream",
     "text": [
      "  2.125 μs (10 allocations: 432 bytes)\n"
     ]
    },
    {
     "data": {
      "text/plain": [
       "-0.18743496973607388"
      ]
     },
     "execution_count": 117,
     "metadata": {},
     "output_type": "execute_result"
    }
   ],
   "source": [
    "@btime Punder(1.0, 1.0)"
   ]
  },
  {
   "cell_type": "code",
   "execution_count": 118,
   "metadata": {},
   "outputs": [
    {
     "name": "stdout",
     "output_type": "stream",
     "text": [
      "  97.046 ns (2 allocations: 112 bytes)\n"
     ]
    },
    {
     "data": {
      "text/plain": [
       "-0.1874349697360741"
      ]
     },
     "execution_count": 118,
     "metadata": {},
     "output_type": "execute_result"
    }
   ],
   "source": [
    "@btime Punder_st([1.0, 1.0])"
   ]
  },
  {
   "cell_type": "code",
   "execution_count": 119,
   "metadata": {},
   "outputs": [
    {
     "data": {
      "text/plain": [
       "21.895929933024213"
      ]
     },
     "execution_count": 119,
     "metadata": {},
     "output_type": "execute_result"
    }
   ],
   "source": [
    "2.125e-6 / 97.05e-9"
   ]
  },
  {
   "cell_type": "code",
   "execution_count": 120,
   "metadata": {},
   "outputs": [
    {
     "data": {
      "text/plain": [
       "Plots.GRBackend()"
      ]
     },
     "execution_count": 120,
     "metadata": {},
     "output_type": "execute_result"
    }
   ],
   "source": [
    "using ImplicitEquations, Plots\n",
    "gr()"
   ]
  },
  {
   "cell_type": "code",
   "execution_count": null,
   "metadata": {},
   "outputs": [],
   "source": [
    "G = plot()\n",
    "plot!(G, _Punder ⩵ 0., xlims=(-4, 4), ylims=(-4, 4), color=\"red\")\n",
    "plot!(G, _Pover ⩵ 0., xlims=(-4, 4), ylims=(-4, 4), color=\"blue\")\n",
    "G"
   ]
  },
  {
   "cell_type": "markdown",
   "metadata": {},
   "source": [
    "![k12_g](figures/k12_g.png)"
   ]
  },
  {
   "cell_type": "markdown",
   "metadata": {},
   "source": [
    "### Using `IntervalConstraintProgramming` to obtain a rigorous enclosure of the feasible set\n",
    "\n",
    "- [IntervalConstraintProgramming.jl](https://github.com/JuliaIntervals/IntervalConstraintProgramming.jl) is a package that allows to calculate rigorously the feasible region for a set of inequalities with Julia:\n",
    "\n",
    "    - Constraints on real-valued variables given by an arbitrary Julia function.\n",
    "    - Multi-dimensional interval boxes implemented in `IntervalArithmetic.jl`.\n",
    "    - Calculates inner and outer approximations to feasible set (i.e. the set that satisfies the constraints)."
   ]
  },
  {
   "cell_type": "code",
   "execution_count": 80,
   "metadata": {},
   "outputs": [],
   "source": [
    "include(\"constraints.jl\")"
   ]
  },
  {
   "cell_type": "code",
   "execution_count": 103,
   "metadata": {},
   "outputs": [
    {
     "data": {
      "text/plain": [
       "Separator:\n",
       "  - variables: x, y\n",
       "  - expression: (((((((((((((((((((((((((((((((((((((((((((((((((((((((((((((((((((((((((((((((((((((((((-3.254406926195832e-6 * x ^ 12 + 3.834217164793429e-6 * (x ^ 11 * y ^ 1)) + -6.3384127954307375e-6 * (x ^ 10 * y ^ 2)) + 1.7821158886139766e-6 * (x ^ 9 * y ^ 3)) + -3.874093809241813e-7 * (x ^ 8 * y ^ 4)) + 1.5483592082483843e-6 * (x ^ 7 * y ^ 5)) + -1.7690055890869638e-6 * (x ^ 6 * y ^ 6)) + -9.798790301107213e-7 * (x ^ 5 * y ^ 7)) + 5.210797975903119e-7 * (x ^ 4 * y ^ 8)) + 1.3500407479164792e-6 * (x ^ 3 * y ^ 9)) + 4.4924259835334384e-7 * (x ^ 2 * y ^ 10)) + -7.166251275333759e-8 * (x ^ 1 * y ^ 11)) + -1.5032013847766846e-7 * (x ^ 0 * y ^ 12)) + 1.4831621204102143e-20 * x ^ 11) + 1.3691290786000017e-20 * (x ^ 10 * y ^ 1)) + -5.0093500950317737e-20 * (x ^ 9 * y ^ 2)) + 4.3677787535910767e-20 * (x ^ 8 * y ^ 3)) + -3.173767662076143e-20 * (x ^ 7 * y ^ 4)) + 1.9724120886883362e-20 * (x ^ 6 * y ^ 5)) + 3.932019772930437e-20 * (x ^ 5 * y ^ 6)) + -3.366118784605938e-20 * (x ^ 4 * y ^ 7)) + 7.335098065117538e-21 * (x ^ 3 * y ^ 8)) + 1.8928666158525362e-21 * (x ^ 2 * y ^ 9)) + -7.972721076141193e-21 * (x ^ 1 * y ^ 10)) + 3.58418280872306e-21 * (x ^ 0 * y ^ 11)) + 0.00015991576845668712 * x ^ 10) + -0.0004657855037397151 * (x ^ 9 * y ^ 1)) + 0.000589085715209256 * (x ^ 8 * y ^ 2)) + -0.0002325700371386792 * (x ^ 7 * y ^ 3)) + -3.930451038774872e-5 * (x ^ 6 * y ^ 4)) + 3.2322704287292744e-6 * (x ^ 5 * y ^ 5)) + 1.3335992567483893e-6 * (x ^ 4 * y ^ 6)) + 2.7518735707131795e-5 * (x ^ 3 * y ^ 7)) + -1.323325367954451e-5 * (x ^ 2 * y ^ 8)) + -1.2213506734162326e-5 * (x ^ 1 * y ^ 9)) + 8.131677925472175e-6 * (x ^ 0 * y ^ 10)) + -2.873017741028833e-19 * x ^ 9) + 2.7918245968053696e-19 * (x ^ 8 * y ^ 1)) + 6.026007816753223e-19 * (x ^ 7 * y ^ 2)) + -1.3364227498369648e-18 * (x ^ 6 * y ^ 3)) + 1.01910474173647e-18 * (x ^ 5 * y ^ 4)) + -1.8971371512328473e-19 * (x ^ 4 * y ^ 5)) + -2.666149622126072e-19 * (x ^ 3 * y ^ 6)) + 1.6020227232017553e-19 * (x ^ 2 * y ^ 7)) + -2.0808839904916004e-20 * (x ^ 1 * y ^ 8)) + -9.964099126024553e-21 * (x ^ 0 * y ^ 9)) + -0.0021077517585878706 * x ^ 8) + 0.007746530135541982 * (x ^ 7 * y ^ 1)) + -0.012729857429745972 * (x ^ 6 * y ^ 2)) + 0.00959724703839421 * (x ^ 5 * y ^ 3)) + -0.0026064147324748443 * (x ^ 4 * y ^ 4)) + -0.0007538551940640615 * (x ^ 3 * y ^ 5)) + 0.0008414955734000221 * (x ^ 2 * y ^ 6)) + -0.0001935009339460489 * (x ^ 1 * y ^ 7)) + -9.076112326494181e-6 * (x ^ 0 * y ^ 8)) + 3.0619458230114297e-18 * x ^ 7) + -6.825717234844004e-18 * (x ^ 6 * y ^ 1)) + 4.574693106727993e-18 * (x ^ 5 * y ^ 2)) + 1.9761744010906326e-18 * (x ^ 4 * y ^ 3)) + -5.1840687808885785e-18 * (x ^ 3 * y ^ 4)) + 3.0469841339864345e-18 * (x ^ 2 * y ^ 5)) + -6.108206321651024e-19 * (x ^ 1 * y ^ 6)) + 7.73513798330052e-20 * (x ^ 0 * y ^ 7)) + 0.00766766678443157 * x ^ 6) + -0.02630247457713939 * (x ^ 5 * y ^ 1)) + 0.06439102517619352 * (x ^ 4 * y ^ 2)) + -0.07522056249315182 * (x ^ 3 * y ^ 3)) + 0.04442871000220708 * (x ^ 2 * y ^ 4)) + -0.013324227892671911 * (x ^ 1 * y ^ 5)) + 0.0018504331355650484 * (x ^ 0 * y ^ 6)) + -1.4946435441993517e-17 * x ^ 5) + 4.181493492797462e-17 * (x ^ 4 * y ^ 1)) + -5.630490775149093e-17 * (x ^ 3 * y ^ 2)) + 4.678641430923887e-17 * (x ^ 2 * y ^ 3)) + -2.2369497341344506e-17 * (x ^ 1 * y ^ 4)) + 4.316626613003548e-18 * (x ^ 0 * y ^ 5)) + -0.026893175089150175 * x ^ 4) + -0.10307175783638588 * (x ^ 3 * y ^ 1)) + 0.23685478126822412 * (x ^ 2 * y ^ 2)) + -0.14335941014008569 * (x ^ 1 * y ^ 3)) + 0.033100700571824924 * (x ^ 0 * y ^ 4)) + 3.4341634754411844e-17 * x ^ 3) + -8.304800642136564e-17 * (x ^ 2 * y ^ 1)) + 7.510428581697817e-17 * (x ^ 1 * y ^ 2)) + -2.3541145491650444e-17 * (x ^ 0 * y ^ 3)) + 0.6248870930138117 * x ^ 2) + -1.1487733659298884 * (x ^ 1 * y ^ 1)) + 0.5596157526120149 * (x ^ 0 * y ^ 2)) + -2.5712082025457398e-17 * x ^ 1) + 2.3986229208007783e-17 * (x ^ 0 * y ^ 1)) + -0.22309361984240117 * x ^ 0 ∈ [-∞, 0]"
      ]
     },
     "execution_count": 103,
     "metadata": {},
     "output_type": "execute_result"
    }
   ],
   "source": [
    "S = Separator(-Inf..0.0, (x, y) -> Punder(x, y))"
   ]
  },
  {
   "cell_type": "code",
   "execution_count": 108,
   "metadata": {},
   "outputs": [
    {
     "data": {
      "text/plain": [
       "Paving:\n",
       "- tolerance ϵ = 0.01\n",
       "- inner approx. of length 14983\n",
       "- boundary approx. of length 27042"
      ]
     },
     "execution_count": 108,
     "metadata": {},
     "output_type": "execute_result"
    }
   ],
   "source": [
    "p = pave(S, IntervalBox(-2..2, 2), 0.01)"
   ]
  },
  {
   "cell_type": "code",
   "execution_count": 110,
   "metadata": {},
   "outputs": [],
   "source": [
    "using Plots\n",
    "\n",
    "plot(p.inner, lw=0, aspectratio=1, label=\"inner\")\n",
    "plot!(p.boundary, lw=0, label=\"boundary\", legend=:topleft)"
   ]
  },
  {
   "cell_type": "markdown",
   "metadata": {},
   "source": [
    "![k12_a](figures/k12_a.png)"
   ]
  },
  {
   "cell_type": "markdown",
   "metadata": {},
   "source": [
    "![k12_b](figures/k12_b.png)"
   ]
  },
  {
   "cell_type": "markdown",
   "metadata": {},
   "source": [
    "![k12_c](figures/k12_c.png)"
   ]
  },
  {
   "cell_type": "markdown",
   "metadata": {},
   "source": [
    "![k12_d](figures/k12_d.png)"
   ]
  },
  {
   "cell_type": "code",
   "execution_count": null,
   "metadata": {},
   "outputs": [],
   "source": [
    "ϵ = 0.01\n",
    "S = Separator(-Inf..0.0, Punder_mt)\n",
    "p = pave(S, IntervalBox(-2..2, 2), ϵ)\n",
    "\n",
    "Pover_mt = tomtexpr(Pover)\n",
    "Sover = Separator(-Inf..0.0, Pover_mt)\n",
    "pover = pave(Sover, IntervalBox(-2..2, 2), ϵ)\n",
    "\n",
    "plot(p.inner, lw=0, aspectratio=1, label=\"under\", alpha=.4)\n",
    "plot!(pover.inner, lw=0, label=\"over\", legend=:topleft, alpha=.4)"
   ]
  },
  {
   "cell_type": "markdown",
   "metadata": {},
   "source": [
    "![k12_f](figures/k12_f.png)"
   ]
  },
  {
   "cell_type": "markdown",
   "metadata": {},
   "source": [
    "### Laub-Loomis"
   ]
  },
  {
   "cell_type": "markdown",
   "metadata": {},
   "source": [
    "Consider the Laub-loomis benchmark the from ARCH NLN problem set."
   ]
  },
  {
   "cell_type": "code",
   "execution_count": 12,
   "metadata": {},
   "outputs": [
    {
     "data": {
      "text/plain": [
       "7-element Array{Polynomial{true,Float64},1}:\n",
       " -0.9x₁ + 1.4x₃  \n",
       " -1.5x₂ + 2.5x₅  \n",
       " -0.8x₂x₃ + 0.6x₇\n",
       " -1.3x₃x₄        \n",
       " -x₄x₅ + 0.7x₁   \n",
       " 0.3x₁ - 3.1x₆   \n",
       " -1.6x₂x₇ + 1.8x₆"
      ]
     },
     "execution_count": 12,
     "metadata": {},
     "output_type": "execute_result"
    }
   ],
   "source": [
    "@polyvar x₁ x₂ x₃ x₄ x₅ x₆ x₇ t\n",
    "x = [x₁, x₂, x₃, x₄, x₅, x₆, x₇]\n",
    "\n",
    "f = [1.4x₃ - 0.9x₁,\n",
    "     2.5x₅ - 1.5x₂,\n",
    "     0.6x₇ - 0.8x₂*x₃,\n",
    "     2 - 1.3x₃*x₄,\n",
    "     0.7x₁ - x₄*x₅,\n",
    "     0.3x₁ - 3.1x₆,\n",
    "     1.8x₆ - 1.6x₂*x₇]"
   ]
  },
  {
   "cell_type": "code",
   "execution_count": 17,
   "metadata": {},
   "outputs": [
    {
     "data": {
      "text/plain": [
       "125970-element MonomialVector{true}:\n",
       " x₁¹²    \n",
       " x₁¹¹x₂  \n",
       " x₁¹¹x₃  \n",
       " x₁¹¹x₄  \n",
       " x₁¹¹x₅  \n",
       " x₁¹¹x₆  \n",
       " x₁¹¹x₇  \n",
       " x₁¹¹t   \n",
       " x₁¹⁰x₂² \n",
       " x₁¹⁰x₂x₃\n",
       " x₁¹⁰x₂x₄\n",
       " x₁¹⁰x₂x₅\n",
       " x₁¹⁰x₂x₆\n",
       " ⋮       \n",
       " x₇²     \n",
       " x₇t     \n",
       " t²      \n",
       " x₁      \n",
       " x₂      \n",
       " x₃      \n",
       " x₄      \n",
       " x₅      \n",
       " x₆      \n",
       " x₇      \n",
       " t       \n",
       " 1       "
      ]
     },
     "execution_count": 17,
     "metadata": {},
     "output_type": "execute_result"
    }
   ],
   "source": [
    "T = 1.0 \n",
    "V₀ = x₁^2 + x₂^2 + x₃^2 + x₄^2 + x₅^2 + x₆^2 + x₇^2 - 0.1\n",
    "g = 25 - (x₁^2 + x₂^2 + x₃^2 + x₄^2 + x₅^2 + x₆^2 + x₇^2)\n",
    "k = 12\n",
    "\n",
    "X = monomials([x₁, x₂, x₃, x₄, x₅, x₆, x₇], 0:k)\n",
    "XT = monomials([x₁, x₂, x₃, x₄, x₅, x₆, x₇, t], 0:k)"
   ]
  },
  {
   "cell_type": "code",
   "execution_count": 18,
   "metadata": {},
   "outputs": [
    {
     "ename": "VariableNotOwned{VariableRef}",
     "evalue": "VariableNotOwned{VariableRef}(noname)",
     "output_type": "error",
     "traceback": [
      "VariableNotOwned{VariableRef}(noname)",
      "",
      "Stacktrace:",
      " [1] check_belongs_to_model at /Users/forets/.julia/packages/JuMP/jnmGG/src/variables.jl:149 [inlined]",
      " [2] check_belongs_to_model at /Users/forets/.julia/packages/JuMP/jnmGG/src/aff_expr.jl:294 [inlined]",
      " [3] check_belongs_to_model(::VectorConstraint{GenericAffExpr{Float64,VariableRef},SumOfSquares.SOSPolynomialSet{SemialgebraicSets.BasicSemialgebraicSet{Float64,Polynomial{true,Float64},SemialgebraicSets.AlgebraicSet{Float64,Polynomial{true,Float64},SemialgebraicSets.Buchberger,SemialgebraicSets.SolverUsingMultiplicationMatrices{SemialgebraicSets.GröbnerBasisMultiplicationMatricesAlgorithm,SemialgebraicSets.ReorderedSchurMultiplicationMatricesSolver{Float64,Random.MersenneTwister}}}},NonnegPolyInnerCone{MathOptInterface.PositiveSemidefiniteConeTriangle},MonomialBasis,Monomial{true},MonomialVector{true},Tuple{}},PolyJuMP.PolynomialShape{Monomial{true},MonomialVector{true}}}, ::Model) at /Users/forets/.julia/packages/JuMP/jnmGG/src/constraints.jl:357",
      " [4] add_constraint(::Model, ::VectorConstraint{GenericAffExpr{Float64,VariableRef},SumOfSquares.SOSPolynomialSet{SemialgebraicSets.BasicSemialgebraicSet{Float64,Polynomial{true,Float64},SemialgebraicSets.AlgebraicSet{Float64,Polynomial{true,Float64},SemialgebraicSets.Buchberger,SemialgebraicSets.SolverUsingMultiplicationMatrices{SemialgebraicSets.GröbnerBasisMultiplicationMatricesAlgorithm,SemialgebraicSets.ReorderedSchurMultiplicationMatricesSolver{Float64,Random.MersenneTwister}}}},NonnegPolyInnerCone{MathOptInterface.PositiveSemidefiniteConeTriangle},MonomialBasis,Monomial{true},MonomialVector{true},Tuple{}},PolyJuMP.PolynomialShape{Monomial{true},MonomialVector{true}}}, ::String) at /Users/forets/.julia/packages/JuMP/jnmGG/src/constraints.jl:384",
      " [5] add_constraint(::Model, ::BridgeableConstraint{VectorConstraint{GenericAffExpr{Float64,VariableRef},SumOfSquares.SOSPolynomialSet{SemialgebraicSets.BasicSemialgebraicSet{Float64,Polynomial{true,Float64},SemialgebraicSets.AlgebraicSet{Float64,Polynomial{true,Float64},SemialgebraicSets.Buchberger,SemialgebraicSets.SolverUsingMultiplicationMatrices{SemialgebraicSets.GröbnerBasisMultiplicationMatricesAlgorithm,SemialgebraicSets.ReorderedSchurMultiplicationMatricesSolver{Float64,Random.MersenneTwister}}}},NonnegPolyInnerCone{MathOptInterface.PositiveSemidefiniteConeTriangle},MonomialBasis,Monomial{true},MonomialVector{true},Tuple{}},PolyJuMP.PolynomialShape{Monomial{true},MonomialVector{true}}},UnionAll}, ::String) at /Users/forets/.julia/packages/JuMP/jnmGG/src/constraints.jl:252 (repeats 8 times)",
      " [6] top-level scope at /Users/forets/.julia/packages/JuMP/jnmGG/src/macros.jl:621",
      " [7] top-level scope at In[18]:17"
     ]
    }
   ],
   "source": [
    "model = SOSModel(with_optimizer(Mosek.Optimizer))\n",
    "\n",
    "@variable(model, Φ, Poly(XT));\n",
    "\n",
    "∂xf = α -> sum([∂(α, x[i]) * f[i] for i in 1:7])\n",
    "LΦ = ∂(Φ, t) + ∂xf(Φ);\n",
    "\n",
    "model = SOSModel(with_optimizer(Mosek.Optimizer))\n",
    "\n",
    "@variable(model, Φ, Poly(XT))\n",
    "Φ₀ = subs(Φ, t => 0.)\n",
    "@variable(model, ϵ)\n",
    "dom1 = @set t*(T-t) >= 0 && g >= 0\n",
    "dom2 = @set g >= 0\n",
    "@constraint(model, ϵ >= 0.)\n",
    "@constraint(model, LΦ ∈ SOSCone(), domain = dom1)\n",
    "@constraint(model, ϵ - LΦ ∈ SOSCone(), domain = dom1)\n",
    "@constraint(model, Φ₀ - V₀ ∈ SOSCone(), domain = dom2)\n",
    "@constraint(model, ϵ + V₀ - Φ₀ ∈ SOSCone(), domain = dom2)\n",
    "\n",
    "@objective(model, Min, ϵ)\n",
    "optimize!(model)"
   ]
  },
  {
   "cell_type": "markdown",
   "metadata": {},
   "source": [
    "### Lotka-Volterra\n",
    "\n",
    "- 3D model"
   ]
  },
  {
   "cell_type": "code",
   "execution_count": 20,
   "metadata": {},
   "outputs": [
    {
     "name": "stdout",
     "output_type": "stream",
     "text": [
      "Problem\n",
      "  Name                   :                 \n",
      "  Objective sense        : min             \n",
      "  Type                   : CONIC (conic optimization problem)\n",
      "  Constraints            : 4551            \n",
      "  Cones                  : 0               \n",
      "  Scalar variables       : 1821            \n",
      "  Matrix variables       : 10              \n",
      "  Integer variables      : 0               \n",
      "\n",
      "Optimizer started.\n",
      "Presolve started.\n",
      "Linear dependency checker started.\n",
      "Linear dependency checker terminated.\n",
      "Eliminator started.\n",
      "Freed constraints in eliminator : 0\n",
      "Eliminator terminated.\n",
      "Eliminator - tries                  : 1                 time                   : 0.00            \n",
      "Lin. dep.  - tries                  : 1                 time                   : 0.00            \n",
      "Lin. dep.  - number                 : 0               \n",
      "Presolve terminated. Time: 0.00    \n",
      "Problem\n",
      "  Name                   :                 \n",
      "  Objective sense        : min             \n",
      "  Type                   : CONIC (conic optimization problem)\n",
      "  Constraints            : 4551            \n",
      "  Cones                  : 0               \n",
      "  Scalar variables       : 1821            \n",
      "  Matrix variables       : 10              \n",
      "  Integer variables      : 0               \n",
      "\n",
      "Optimizer  - threads                : 8               \n",
      "Optimizer  - solved problem         : the primal      \n",
      "Optimizer  - Constraints            : 4550\n",
      "Optimizer  - Cones                  : 1\n",
      "Optimizer  - Scalar variables       : 1822              conic                  : 1821            \n",
      "Optimizer  - Semi-definite variables: 10                scalarized             : 86646           \n",
      "Factor     - setup time             : 1.57              dense det. time        : 0.00            \n",
      "Factor     - ML order time          : 0.84              GP order time          : 0.00            \n",
      "Factor     - nonzeros before factor : 3.53e+06          after factor           : 4.97e+06        \n",
      "Factor     - dense dim.             : 2                 flops                  : 1.08e+10        \n",
      "ITE PFEAS    DFEAS    GFEAS    PRSTATUS   POBJ              DOBJ              MU       TIME  \n",
      "0   2.5e+01  1.0e+00  1.0e+00  0.00e+00   0.000000000e+00   0.000000000e+00   1.0e+00  1.64  \n",
      "1   4.9e+00  2.0e-01  8.8e-02  -9.97e-01  3.423682584e+01   9.791278113e+01   2.0e-01  3.28  \n",
      "2   9.5e-01  3.8e-02  1.6e-02  -7.31e-01  1.074587711e+02   1.887175345e+02   3.8e-02  4.88  \n",
      "3   4.1e-01  1.6e-02  4.0e-02  1.67e+00   5.439195786e+01   5.552240632e+01   1.6e-02  6.40  \n",
      "4   2.3e-01  9.1e-03  3.9e-02  3.00e+00   1.043538515e+01   1.092879199e+01   9.1e-03  7.94  \n",
      "5   6.2e-02  2.5e-03  4.1e-02  1.97e+00   1.819448692e+00   1.824962063e+00   2.5e-03  9.56  \n",
      "6   1.3e-02  5.1e-04  2.8e-02  2.24e+00   2.274482756e-01   2.272704210e-01   5.1e-04  11.20 \n",
      "7   2.3e-03  9.1e-05  2.5e-02  2.00e+00   2.258623448e-02   2.227319525e-02   9.1e-05  12.86 \n",
      "8   3.7e-04  1.5e-05  1.8e-02  1.85e+00   2.137734070e-03   2.098801627e-03   1.5e-05  14.45 \n",
      "9   5.6e-05  2.2e-06  1.2e-02  1.73e+00   2.083860188e-04   2.042273503e-04   2.2e-06  16.06 \n",
      "10  8.1e-06  3.0e-07  7.2e-03  1.57e+00   1.947302618e-05   1.905949935e-05   3.0e-07  17.64 \n",
      "11  2.4e-06  4.1e-08  3.8e-03  1.50e+00   1.939266948e-06   1.897146642e-06   4.0e-08  19.20 \n",
      "Optimizer terminated. Time: 19.22   \n",
      "\n",
      " 21.493195 seconds (3.02 M allocations: 403.301 MiB, 2.09% gc time)\n"
     ]
    },
    {
     "data": {
      "text/plain": [
       "19.217565059661865"
      ]
     },
     "execution_count": 20,
     "metadata": {},
     "output_type": "execute_result"
    }
   ],
   "source": [
    "@time begin\n",
    "    # symbolic variables\n",
    "    @polyvar x₁ x₂ x₃ t\n",
    "\n",
    "    # time duration (scaled, see dynamics below)\n",
    "    T = 1.0 \n",
    "\n",
    "    # dynamics\n",
    "    f = 3 * [-x₁*x₂ + x₁*x₃, -x₂*x₃ + x₂*x₁, -x₃*x₁ + x₃*x₂]\n",
    "\n",
    "    # set of initial states X₀ = {x: V₀(x) <= 0}\n",
    "    V₀ = 100*(x₁^2 + x₂^2 + x₃^2) - 1.0\n",
    "\n",
    "    # constraints Y = {x: g(x) >= 0} compact search space Y x [0, T]\n",
    "    g = 0.16 - (x₁^2 + x₂^2 + x₃^2)\n",
    "\n",
    "    # degree of the relaxation\n",
    "    k = 12\n",
    "\n",
    "    # monomial vector up to order k\n",
    "    X = monomials([x₁, x₂, x₃], 0:k)\n",
    "    XT = monomials([x₁, x₂, x₃, t], 0:k)\n",
    "\n",
    "    # create a SOS JuMP model to solve with Mosek\n",
    "    model = SOSModel(with_optimizer(Mosek.Optimizer))\n",
    "\n",
    "    # add unknown Φ to the model\n",
    "    @variable(model, Φ, Poly(XT))\n",
    "\n",
    "    # jacobian\n",
    "    ∂xf = α -> sum([∂(α, x[i]) * f[i] for i in 1:3])\n",
    "    LΦ = ∂t(Φ) + ∂xf(Φ)\n",
    "\n",
    "    # Φ(x, t) at time 0\n",
    "    Φ₀ = subs(Φ, t => 0.)\n",
    "\n",
    "    # scalar variable\n",
    "    @variable(model, ϵ)\n",
    "\n",
    "    dom1 = @set t*(T-t) >= 0 && g >= 0\n",
    "    dom2 = @set g >= 0\n",
    "    @constraint(model, ϵ >= 0.)\n",
    "    @constraint(model, LΦ ∈ SOSCone(), domain = dom1)\n",
    "    @constraint(model, ϵ - LΦ ∈ SOSCone(), domain = dom1)\n",
    "    @constraint(model, Φ₀ - V₀ ∈ SOSCone(), domain = dom2)\n",
    "    @constraint(model, ϵ + V₀ - Φ₀ ∈ SOSCone(), domain = dom2)\n",
    "\n",
    "    @objective(model, Min, ϵ)\n",
    "\n",
    "    optimize!(model)\n",
    "\n",
    "    MOI.get(model, MOI.SolveTime())\n",
    "end"
   ]
  },
  {
   "cell_type": "code",
   "execution_count": 21,
   "metadata": {},
   "outputs": [
    {
     "data": {
      "text/plain": [
       "1.9392669478552092e-6"
      ]
     },
     "execution_count": 21,
     "metadata": {},
     "output_type": "execute_result"
    }
   ],
   "source": [
    "ϵopt = JuMP.objective_value(model)"
   ]
  },
  {
   "cell_type": "markdown",
   "metadata": {},
   "source": [
    "Comparison:\n",
    "\n",
    "```julia\n",
    "YALMIP SOS module started...\n",
    "-------------------------------------------------------------------------\n",
    "Detected 11375 parametric variables and 4 independent variables.\n",
    "```"
   ]
  },
  {
   "cell_type": "markdown",
   "metadata": {},
   "source": [
    "![table](figures/table.png)"
   ]
  },
  {
   "cell_type": "markdown",
   "metadata": {},
   "source": [
    "---"
   ]
  },
  {
   "cell_type": "markdown",
   "metadata": {},
   "source": [
    "### End notes\n",
    "\n",
    "- `SumOfSquares.jl` extension of JuMP has a great expressive power.\n",
    "- The syntax for defining set-based constraints is intuitive and easy to use.\n",
    "- There is low overhead for model generation, and the size of generated models is competitive with established tools.\n",
    "\n",
    "#### Future work\n",
    "\n",
    "- Tooling ([Reachability.jl](https://github.com/JuliaReach/Reachability.jl)).\n",
    "- Implement methods for property checking.\n",
    "- Extend to hybrid systems."
   ]
  },
  {
   "cell_type": "markdown",
   "metadata": {},
   "source": [
    "![juliareachorg](figures/JuliaReachOrg.png)"
   ]
  }
 ],
 "metadata": {
  "kernelspec": {
   "display_name": "Julia 1.1.0-rc2",
   "language": "julia",
   "name": "julia-1.1"
  },
  "language_info": {
   "file_extension": ".jl",
   "mimetype": "application/julia",
   "name": "julia",
   "version": "1.1.0"
  }
 },
 "nbformat": 4,
 "nbformat_minor": 2
}
