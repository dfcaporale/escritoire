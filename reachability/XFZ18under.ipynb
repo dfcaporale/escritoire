{
 "cells": [
  {
   "cell_type": "markdown",
   "metadata": {},
   "source": [
    "# Applications of SOS Programming in Flowpipe Construction"
   ]
  },
  {
   "cell_type": "markdown",
   "metadata": {},
   "source": [
    "Flowpipe construction consists of under or over-approximating the sets of states reachable by dynamical systems. Recently a method has been developed for the class of polynomial ODEs with uncertain initial states (see [1], abbreviated `XFZ18under`). This method consists of reducing the Hamilton-Jacobi-Bellman equation to a hierarchy of semidefinite programs.\n",
    "\n",
    "In this notebook we consider the problem of approximating the flowpipe of a system of polynomial ODEs using `XFZ18under`. This is a Julia implementation that relies on the JuMP ecosystem (`JuMP`, `PolyJuMP`, `SumOfSquares`, `MathProgInterface`, `MathOptInterfaceMosek`) and the `JuliaAlgebra` ecosystem (`MultivariatePolynomials`, `DynamicPolynomials`). The implementation is evaluated on a set of standard benchmarks from formal verification and control engineering domains.\n",
    "\n",
    "---\n",
    "\n",
    "**References:**\n",
    "\n",
    "- [1] Xue, B., Fränzle, M., & Zhan, N. (2018, April). [Under-Approximating Reach Sets for Polynomial Continuous Systems. In Proceedings of the 21st International Conference on Hybrid Systems: Computation and Control (part of CPS Week) (pp. 51-60). ACM.](https://dl.acm.org/citation.cfm?id=3178133)\n",
    "\n",
    "**Quick links to documentation:**\n",
    "\n",
    "- www.juliaopt.org/SumOfSquares.jl/latest/\n",
    "- https://sums-of-squares.github.io/sos/index.html"
   ]
  },
  {
   "cell_type": "markdown",
   "metadata": {},
   "source": [
    "## Van-der-Pol system\n",
    "\n",
    "Consider the following van-der-Pol system:\n",
    "\n",
    "$$\n",
    "\\dot{x}_1 = x_2 \\\\\n",
    "\\dot{x}_2 = -0.2x_1 + x_2 - 0.2x_1^2 x_2\n",
    "$$"
   ]
  },
  {
   "cell_type": "code",
   "execution_count": 2,
   "metadata": {},
   "outputs": [
    {
     "name": "stderr",
     "output_type": "stream",
     "text": [
      "┌ Info: Recompiling stale cache file /Users/forets/.julia/compiled/v1.1/MathOptInterfaceMosek/sqIeN.ji for MathOptInterfaceMosek [0087ddc6-3964-5e57-817f-9937aefb0357]\n",
      "└ @ Base loading.jl:1184\n",
      "┌ Info: Recompiling stale cache file /Users/forets/.julia/compiled/v1.1/MathematicalSystems/6oLdk.ji for MathematicalSystems [d14a8603-c872-5ed3-9ece-53e0e82e39da]\n",
      "└ @ Base loading.jl:1184\n"
     ]
    },
    {
     "data": {
      "text/plain": [
       "differentiate (generic function with 18 methods)"
      ]
     },
     "execution_count": 2,
     "metadata": {},
     "output_type": "execute_result"
    }
   ],
   "source": [
    "using MultivariatePolynomials,\n",
    "      JuMP,\n",
    "      PolyJuMP,\n",
    "      SumOfSquares,\n",
    "      DynamicPolynomials,\n",
    "      MathOptInterfaceMosek,\n",
    "      MathematicalSystems,\n",
    "      MosekTools\n",
    " \n",
    "const ∂ = differentiate"
   ]
  },
  {
   "cell_type": "code",
   "execution_count": 55,
   "metadata": {},
   "outputs": [
    {
     "data": {
      "text/latex": [
       "$$ ϵ $$"
      ],
      "text/plain": [
       "ϵ"
      ]
     },
     "execution_count": 55,
     "metadata": {},
     "output_type": "execute_result"
    }
   ],
   "source": [
    "# symbolic variables\n",
    "@polyvar x₁ x₂ t\n",
    "\n",
    "# time duration (scaled, see dynamics below)\n",
    "T = 1.0 \n",
    "\n",
    "# dynamics\n",
    "f = 2 * [x₂, -0.2*x₁ + x₂ - 0.2*x₁^2*x₂] \n",
    "\n",
    "# set of initial states X₀ = {x: V₀(x) <= 0}\n",
    "V₀ = x₁^2 + x₂^2 - 0.25\n",
    "\n",
    "# constraints Y = {x: g(x) >= 0} compact search space Y x [0, T]\n",
    "g = 25 - x₁^2 - x₂^2\n",
    "\n",
    "# degree of the relaxation\n",
    "k = 4\n",
    "\n",
    "# monomial vector up to order k, 0 <= sum_i alpha_i <= k, if alpha_i is the exponent of x_i\n",
    "X = monomials([x₁, x₂], 0:k)\n",
    "XT = monomials([x₁, x₂, t], 0:k)\n",
    "\n",
    "# create a SOS JuMP model to solve with Mosek\n",
    "model = SOSModel(with_optimizer(Mosek.Optimizer))\n",
    "\n",
    "# add unknown Φ to the model\n",
    "@variable(model, Φ, Poly(XT))\n",
    "\n",
    "# jacobian\n",
    "∂t = α -> ∂(α, t)\n",
    "∂xf = α -> ∂(α, x₁) * f[1] + ∂(α, x₂) * f[2] \n",
    "LΦ = ∂t(Φ) + ∂xf(Φ)\n",
    "\n",
    "# Φ(x, t) at time 0\n",
    "Φ₀ = subs(Φ, t => 0.)\n",
    "\n",
    "# scalar variable\n",
    "@variable(model, ϵ)\n",
    "\n",
    "dom1 = @set t*(T-t) >= 0 && g >= 0\n",
    "dom2 = @set g >= 0\n",
    "@constraint(model, ϵ >= 0.)\n",
    "@constraint(model, LΦ ∈ SOSCone(), domain = dom1)\n",
    "@constraint(model, ϵ - LΦ ∈ SOSCone(), domain = dom1)\n",
    "@constraint(model, Φ₀ - V₀ ∈ SOSCone(), domain = dom2)\n",
    "@constraint(model, ϵ + V₀ - Φ₀ ∈ SOSCone(), domain = dom2)\n",
    "\n",
    "@objective(model, Min, ϵ)"
   ]
  },
  {
   "cell_type": "code",
   "execution_count": 56,
   "metadata": {},
   "outputs": [
    {
     "name": "stdout",
     "output_type": "stream",
     "text": [
      "Problem\n",
      "  Name                   :                 \n",
      "  Objective sense        : min             \n",
      "  Type                   : CONIC (conic optimization problem)\n",
      "  Constraints            : 199             \n",
      "  Cones                  : 0               \n",
      "  Scalar variables       : 36              \n",
      "  Matrix variables       : 10              \n",
      "  Integer variables      : 0               \n",
      "\n",
      "Optimizer started.\n",
      "Presolve started.\n",
      "Linear dependency checker started.\n",
      "Linear dependency checker terminated.\n",
      "Eliminator - tries                  : 0                 time                   : 0.00            \n",
      "Lin. dep.  - tries                  : 1                 time                   : 0.00            \n",
      "Lin. dep.  - number                 : 0               \n",
      "Presolve terminated. Time: 0.00    \n",
      "Problem\n",
      "  Name                   :                 \n",
      "  Objective sense        : min             \n",
      "  Type                   : CONIC (conic optimization problem)\n",
      "  Constraints            : 199             \n",
      "  Cones                  : 0               \n",
      "  Scalar variables       : 36              \n",
      "  Matrix variables       : 10              \n",
      "  Integer variables      : 0               \n",
      "\n",
      "Optimizer  - threads                : 8               \n",
      "Optimizer  - solved problem         : the primal      \n",
      "Optimizer  - Constraints            : 198\n",
      "Optimizer  - Cones                  : 1\n",
      "Optimizer  - Scalar variables       : 37                conic                  : 36              \n",
      "Optimizer  - Semi-definite variables: 10                scalarized             : 694             \n",
      "Factor     - setup time             : 0.00              dense det. time        : 0.00            \n",
      "Factor     - ML order time          : 0.00              GP order time          : 0.00            \n",
      "Factor     - nonzeros before factor : 1.31e+04          after factor           : 1.31e+04        \n",
      "Factor     - dense dim.             : 0                 flops                  : 1.41e+06        \n",
      "ITE PFEAS    DFEAS    GFEAS    PRSTATUS   POBJ              DOBJ              MU       TIME  \n",
      "0   2.0e+00  8.0e+00  1.0e+00  0.00e+00   0.000000000e+00   0.000000000e+00   1.0e+00  0.00  \n",
      "1   3.0e-01  1.2e+00  2.6e-01  5.21e-02   -1.624701847e+00  1.982488602e-02   1.5e-01  0.01  \n",
      "2   7.2e-02  2.9e-01  1.9e-01  1.12e+00   2.535246054e-01   1.278511234e-01   3.6e-02  0.01  \n",
      "3   2.1e-02  8.5e-02  1.1e-01  1.59e+00   3.259065509e-01   3.028755399e-01   1.1e-02  0.01  \n",
      "4   5.9e-03  2.3e-02  3.8e-02  8.14e-01   1.296063288e+00   1.328013843e+00   2.9e-03  0.01  \n",
      "5   1.9e-03  7.6e-03  9.5e-03  -2.92e-02  4.211926768e+00   4.322679345e+00   9.5e-04  0.02  \n",
      "6   6.9e-04  2.8e-03  3.4e-03  -7.64e-02  8.771315578e+00   8.911187820e+00   3.5e-04  0.02  \n",
      "7   2.7e-04  1.1e-03  1.9e-03  3.30e-01   1.171748824e+01   1.178543016e+01   1.4e-04  0.02  \n",
      "8   7.9e-05  3.2e-04  7.5e-04  5.18e-01   1.435983700e+01   1.439837035e+01   3.9e-05  0.03  \n",
      "9   3.1e-05  1.3e-04  4.0e-04  5.45e-01   1.579505132e+01   1.581645024e+01   1.6e-05  0.03  \n",
      "10  7.0e-06  2.8e-05  1.8e-04  8.63e-01   1.657649509e+01   1.658189058e+01   3.5e-06  0.03  \n",
      "11  2.0e-06  8.1e-06  9.2e-05  9.23e-01   1.680105519e+01   1.680282820e+01   1.0e-06  0.03  \n",
      "12  6.0e-07  2.4e-06  4.9e-05  9.77e-01   1.686604308e+01   1.686660346e+01   3.0e-07  0.04  \n",
      "13  1.2e-07  4.7e-07  2.1e-05  9.81e-01   1.688802358e+01   1.688813701e+01   5.9e-08  0.04  \n",
      "14  2.2e-08  8.9e-08  9.0e-06  9.92e-01   1.689182616e+01   1.689184831e+01   1.1e-08  0.04  \n",
      "15  5.2e-09  2.1e-08  4.3e-06  9.96e-01   1.689250239e+01   1.689250762e+01   2.6e-09  0.05  \n",
      "16  1.3e-09  5.3e-09  2.2e-06  9.99e-01   1.689264563e+01   1.689264699e+01   6.6e-10  0.05  \n",
      "Optimizer terminated. Time: 0.05    \n",
      "\n",
      "Relaxation order : k = 4\n",
      "JuMP.termination_status(model) = OPTIMAL\n",
      "JuMP.primal_status(model) = FEASIBLE_POINT\n",
      "JuMP.dual_status(model) = FEASIBLE_POINT\n",
      "JuMP.objective_bound(model) = 0.0\n",
      "JuMP.objective_value(model) = 16.892645632733746\n"
     ]
    }
   ],
   "source": [
    "optimize!(model)\n",
    "\n",
    "println(\"Relaxation order : k = $k\")\n",
    "println(\"JuMP.termination_status(model) = \", JuMP.termination_status(model))\n",
    "println(\"JuMP.primal_status(model) = \", JuMP.primal_status(model))\n",
    "println(\"JuMP.dual_status(model) = \", JuMP.dual_status(model))\n",
    "println(\"JuMP.objective_bound(model) = \", JuMP.objective_bound(model))\n",
    "println(\"JuMP.objective_value(model) = \", JuMP.objective_value(model))"
   ]
  },
  {
   "cell_type": "markdown",
   "metadata": {},
   "source": [
    "### Comparison with a YALMIP implementation in MATLAB\n",
    "\n",
    "|  Package    | k    |Constraints|Scalar variables|Matrix variables|Time(s)|\n",
    "|-------------|------|-----------|----------------|----------------|-------|\n",
    "|JuMP v0.18.5         |    2 |       245 |            175 |              8 |   < 1 |\n",
    "|**JuMP v0.19.0**         |    2 |    83    |      13       |            8   |   < 1 |\n",
    "|YALMIP       |    2 |       152 |             63 |              10|   < 1 |\n",
    "||\n",
    "|JuMP v0.18.5         |    3 |      893 |           715 |              10|   ~ 1 |\n",
    "|**JuMP v0.19.0**         |    3 |    199    |        21     |        10       |   < 1 |\n",
    "|YALMIP       |    3 |       254 |            121 |              10|   ~ 1 |\n",
    "||\n",
    "|JuMP v0.18.5         |    4 |      893 |           730 |              10|  ~1 |\n",
    "|**JuMP v0.19.0**         |    4 |   199     |       36      |      10         |   < 1 |\n",
    "|YALMIP       |    4 |       394 |           206  |              10|  1.18 |\n",
    "||\n",
    "|JuMP v0.18.5         |    5 |       2639 |            2309 |              10 |   1.17 |\n",
    "|**JuMP v0.19.0**         |    5 |     387   |       57      |         10      |   < 1 |\n",
    "|YALMIP       |    5 |      578  |         323     |          10    |  0.11 |\n",
    "||\n",
    "|JuMP v0.18.5         |    6 |       2639 |         2337   |              10|   0.90 |\n",
    "|**JuMP v0.19.0**         |    6 |    387    |       85      |       10        |   < 1 |\n",
    "|YALMIP       |    6 |    812    |         477    |    10          |  1.10  |\n",
    "||\n",
    "|JuMP v0.18.5         |    7 |      6725 |       6183     |              10|  5.62 |\n",
    "|**JuMP v0.19.0**         |    7 |   663     |     121        |      10         |   < 1 |\n",
    "|YALMIP       |    7 |     1102   |        673     |        10      |  1.52 |\n",
    "||\n",
    "|JuMP v0.18.5         |    8 |     6725  |      6228       |          10    |   6.06 |\n",
    "|**JuMP v0.19.0**         |    8 |  663      |        166     |           10    |   < 1 |\n",
    "|YALMIP       |    8 |    1454    |       916       |          10    |  1.10 |\n",
    "||\n",
    "|JuMP v0.18.5         |    9 |    15269   |      14447      |           10   |  41.2  |\n",
    "|**JuMP v0.19.0**         |    9 |      1043  |        221     |        10       |   1.70 |\n",
    "|YALMIP       |    9 |   1874     |       1211     |         10     |  1.58  |\n",
    "||\n",
    "|JuMP v0.18.5         |   10 |    15269   |     14513       |      10        |  38.1 |\n",
    "|**JuMP v0.19.0**         |    10 |    1043    |    287         |     10          |   1.67 |\n",
    "|YALMIP       |   10 |     2368   |       1563     |        10      |  2.73 |\n",
    "||\n",
    "|JuMP v0.18.5         |   11 |   31617    |     30439       |     10         | 244  |\n",
    "|**JuMP v0.19.0**         |    11 |   1543     |      365       |     10          |   4.88 |\n",
    "|YALMIP       |   11 |   2942    |       1977      |       10       |  2.30 |\n",
    "||\n",
    "|JuMP v0.18.5         |   12 |     31617  |     30530       |       10       | 231 |\n",
    "|**JuMP v0.19.0**         |    12 | 1543       |   456          |         10      |  5.02 |\n",
    "|YALMIP       |   12 |    3602    |      2458       |      10        | 6.57  |\n",
    "\n",
    "Related: https://github.com/JuliaOpt/MosekTools.jl/issues/11."
   ]
  },
  {
   "cell_type": "markdown",
   "metadata": {},
   "source": [
    "## Extracting the under and over approximations"
   ]
  },
  {
   "cell_type": "code",
   "execution_count": 57,
   "metadata": {},
   "outputs": [
    {
     "data": {
      "text/latex": [
       "$$ -0.0021760503056437726x₁^{4} + 0.03237705635327642x₁^{3}x₂ - 0.013315607202341661x₁^{2}x₂^{2} + 0.011033724936160602x₁x₂^{3} - 0.006590230901819379x₂^{4} - 9.839119379896526e-21x₁^{3} - 4.833341971297815e-20x₁^{2}x₂ - 4.139050910683632e-20x₁x₂^{2} + 2.0666922228154174e-22x₂^{3} + 0.27347582897153294x₁^{2} - 0.8516247221359877x₁x₂ + 0.469737949698723x₂^{2} + 2.9279424673129996e-25x₁ + 5.952860935439434e-19x₂ + 28.363527748437562 $$"
      ],
      "text/plain": [
       "-0.0021760503056437726x₁⁴ + 0.03237705635327642x₁³x₂ - 0.013315607202341661x₁²x₂² + 0.011033724936160602x₁x₂³ - 0.006590230901819379x₂⁴ - 9.839119379896526e-21x₁³ - 4.833341971297815e-20x₁²x₂ - 4.139050910683632e-20x₁x₂² + 2.0666922228154174e-22x₂³ + 0.27347582897153294x₁² - 0.8516247221359877x₁x₂ + 0.469737949698723x₂² + 2.9279424673129996e-25x₁ + 5.952860935439434e-19x₂ + 28.363527748437562"
      ]
     },
     "execution_count": 57,
     "metadata": {},
     "output_type": "execute_result"
    }
   ],
   "source": [
    "# Recovering the solution:\n",
    "ϵopt = JuMP.objective_value(model)\n",
    "\n",
    "# Punder <= 0\n",
    "Punder = subs(JuMP.value(model[:Φ]), t => T)"
   ]
  },
  {
   "cell_type": "code",
   "execution_count": 58,
   "metadata": {},
   "outputs": [
    {
     "data": {
      "text/latex": [
       "$$ -0.0021760503056437726x₁^{4} + 0.03237705635327642x₁^{3}x₂ - 0.013315607202341661x₁^{2}x₂^{2} + 0.011033724936160602x₁x₂^{3} - 0.006590230901819379x₂^{4} - 9.839119379896526e-21x₁^{3} - 4.833341971297815e-20x₁^{2}x₂ - 4.139050910683632e-20x₁x₂^{2} + 2.0666922228154174e-22x₂^{3} + 0.27347582897153294x₁^{2} - 0.8516247221359877x₁x₂ + 0.469737949698723x₂^{2} + 2.9279424673129996e-25x₁ + 5.952860935439434e-19x₂ - 5.42176351702993 $$"
      ],
      "text/plain": [
       "-0.0021760503056437726x₁⁴ + 0.03237705635327642x₁³x₂ - 0.013315607202341661x₁²x₂² + 0.011033724936160602x₁x₂³ - 0.006590230901819379x₂⁴ - 9.839119379896526e-21x₁³ - 4.833341971297815e-20x₁²x₂ - 4.139050910683632e-20x₁x₂² + 2.0666922228154174e-22x₂³ + 0.27347582897153294x₁² - 0.8516247221359877x₁x₂ + 0.469737949698723x₂² + 2.9279424673129996e-25x₁ + 5.952860935439434e-19x₂ - 5.42176351702993"
      ]
     },
     "execution_count": 58,
     "metadata": {},
     "output_type": "execute_result"
    }
   ],
   "source": [
    "# Pover <= 0\n",
    "Pover = subs(JuMP.value(model[:Φ]), t => T) - ϵopt * (T+1)"
   ]
  },
  {
   "cell_type": "markdown",
   "metadata": {},
   "source": [
    "## Visualization"
   ]
  },
  {
   "cell_type": "code",
   "execution_count": null,
   "metadata": {},
   "outputs": [],
   "source": [
    "using LinearAlgebra, StaticPolynomials\n",
    "\n",
    "# filter out the smallest coefficients?\n",
    "filter_coeffs = false\n",
    "\n",
    "if filter_coeffs\n",
    "    max_coeff = maximum(abs.(Punder.a))\n",
    "\n",
    "    # plots are *very* sensitive to small values\n",
    "    # make tol bigger than 0 to filter out some coefficients\n",
    "    tol = 0.0 # max_coeff / 1e19\n",
    "    kept_coeffs = map(c -> abs(c) > tol, Punder.a)\n",
    "    Punder = dot(Punder.a[kept_coeffs], Punder.x[kept_coeffs])\n",
    "    Pover = dot(Pover.a[kept_coeffs], Pover.x[kept_coeffs]);\n",
    "end\n",
    "\n",
    "# we now convert to a static polynomial for faster evaluation\n",
    "Punder_st = StaticPolynomials.Polynomial(Punder)\n",
    "Pover_st = StaticPolynomials.Polynomial(Pover);\n",
    "\n",
    "_Punder(x, y) = Punder_st([x, y])\n",
    "_Pover(x, y) = Pover_st([x, y])"
   ]
  },
  {
   "cell_type": "code",
   "execution_count": null,
   "metadata": {},
   "outputs": [],
   "source": [
    "Punder_st"
   ]
  },
  {
   "cell_type": "code",
   "execution_count": null,
   "metadata": {},
   "outputs": [],
   "source": [
    "sprint(print, Punder)"
   ]
  },
  {
   "cell_type": "markdown",
   "metadata": {},
   "source": [
    "### Plots using ImplicitEquations"
   ]
  },
  {
   "cell_type": "code",
   "execution_count": null,
   "metadata": {
    "scrolled": true
   },
   "outputs": [],
   "source": [
    "using ImplicitEquations, Plots\n",
    "gr()"
   ]
  },
  {
   "cell_type": "code",
   "execution_count": null,
   "metadata": {},
   "outputs": [],
   "source": [
    "G = plot()\n",
    "plot!(G, _Punder ⩵ 0., xlims=(-10, 10), ylims=(-10, 10), color=\"red\")\n",
    "plot!(G, _Pover ⩵ 0., xlims=(-10, 10), ylims=(-10, 10), color=\"blue\")\n",
    "G"
   ]
  },
  {
   "cell_type": "code",
   "execution_count": null,
   "metadata": {},
   "outputs": [],
   "source": [
    "G = plot()\n",
    "Gu = plot(_Punder ≪ 0., xlims=(-10, 10), ylims=(-10, 10))\n",
    "Go = plot(_Pover ≪ 0., xlims=(-10, 10), ylims=(-10, 10))\n",
    "plot(Gu, Go)"
   ]
  },
  {
   "cell_type": "markdown",
   "metadata": {},
   "source": [
    "### Plots using IntervalConstraintProgramming"
   ]
  },
  {
   "cell_type": "code",
   "execution_count": null,
   "metadata": {},
   "outputs": [],
   "source": [
    "using IntervalConstraintProgramming, ValidatedNumerics"
   ]
  },
  {
   "cell_type": "code",
   "execution_count": null,
   "metadata": {},
   "outputs": [],
   "source": [
    "@function Funder(x₁, x₂) = _Punder(x₁, x₂)"
   ]
  },
  {
   "cell_type": "code",
   "execution_count": null,
   "metadata": {},
   "outputs": [],
   "source": [
    "Bx₁x₂ = IntervalBox(-10..10, -10..10)"
   ]
  },
  {
   "cell_type": "code",
   "execution_count": null,
   "metadata": {},
   "outputs": [],
   "source": [
    "Cunder = IntervalConstraintProgramming.@constraint Funder(x₁, x₂) <= 0.0 # no"
   ]
  },
  {
   "cell_type": "code",
   "execution_count": null,
   "metadata": {},
   "outputs": [],
   "source": [
    "paving = pave(Cunder, Bx₁x₂)"
   ]
  }
 ],
 "metadata": {
  "kernelspec": {
   "display_name": "Julia 1.1.0-rc2",
   "language": "julia",
   "name": "julia-1.1"
  },
  "language_info": {
   "file_extension": ".jl",
   "mimetype": "application/julia",
   "name": "julia",
   "version": "1.1.0"
  }
 },
 "nbformat": 4,
 "nbformat_minor": 2
}
