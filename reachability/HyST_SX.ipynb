{
 "cells": [
  {
   "cell_type": "markdown",
   "metadata": {},
   "source": [
    "In this notebook we use [SX.jl](https://github.com/JuliaReach/SX.jl) to convert SpaceEx files into a `HybridSystem` whose modes are `MathematicalSystems` types."
   ]
  },
  {
   "cell_type": "code",
   "execution_count": 1,
   "metadata": {},
   "outputs": [
    {
     "name": "stderr",
     "output_type": "stream",
     "text": [
      "┌ Info: Recompiling stale cache file /Users/forets/.julia/compiled/v1.1/SX/qIGUA.ji for SX [2fbac1b3-cb3a-5de3-9d8f-ec145dc5cab0]\n",
      "└ @ Base loading.jl:1184\n"
     ]
    }
   ],
   "source": [
    "using Revise, SX, MathematicalSystems"
   ]
  },
  {
   "cell_type": "markdown",
   "metadata": {},
   "source": [
    "### Lorenz model"
   ]
  },
  {
   "cell_type": "code",
   "execution_count": 2,
   "metadata": {},
   "outputs": [
    {
     "ename": "ErrorException",
     "evalue": "read 2 components, but models with more than one component are not yet implemented; try flattening the model",
     "output_type": "error",
     "traceback": [
      "read 2 components, but models with more than one component are not yet implemented; try flattening the model",
      "",
      "Stacktrace:",
      " [1] error(::String) at ./error.jl:33",
      " [2] #readsxmodel#1(::Bool, ::Nothing, ::Type, ::Base.Iterators.Pairs{Union{},Union{},Tuple{},NamedTuple{(),Tuple{}}}, ::Function, ::String) at /Users/forets/.julia/dev/SX/src/io.jl:85",
      " [3] (::getfield(SX, Symbol(\"#kw##readsxmodel\")))(::NamedTuple{(:raw_dict,),Tuple{Bool}}, ::typeof(readsxmodel), ::String) at ./none:0",
      " [4] top-level scope at In[2]:2"
     ]
    }
   ],
   "source": [
    "file = \"hyst/lorenz/lorenz.xml\"\n",
    "readsxmodel(file, raw_dict=true)"
   ]
  },
  {
   "cell_type": "markdown",
   "metadata": {},
   "source": [
    "A current limitation of SX is that it can only handle SpaceEx models with one network component.\n",
    "\n",
    "The model has two components, one called `main` and other called `sys`. `main` contains the dynamics, and `sys` is just a binding between the keys and variable names `x, y, z`.\n",
    "\n",
    "In this case we can either flatten the model (instructions in the [SX docs](https://juliareach.github.io/SX.jl/latest/examples/examples.html#Remarks-1)) or remove `sys` manually. Let's just remove the `sys` component and try again."
   ]
  },
  {
   "cell_type": "code",
   "execution_count": 6,
   "metadata": {},
   "outputs": [
    {
     "data": {
      "text/plain": [
       "Dict{String,Any} with 10 entries:\n",
       "  \"automaton\"        => LightAutomaton{SimpleDiGraph{Int64},SimpleEdge{Int64}}(…\n",
       "  \"invariants\"       => Array{Expr,1}[[]]\n",
       "  \"transitionlabels\" => Set(String[])\n",
       "  \"variables\"        => OrderedCollections.OrderedDict(:x=>Dict(\"local\"=>false,…\n",
       "  \"guards\"           => Array{Expr,1}[]\n",
       "  \"flows\"            => Array{Expr,1}[[:(x' = 10 + (y - x)), :(y' = x * (28 - z…\n",
       "  \"assignments\"      => Array{Expr,1}[]\n",
       "  \"switchings\"       => HybridSystems.AbstractSwitching[]\n",
       "  \"nlocations\"       => 1\n",
       "  \"ntransitions\"     => 0"
      ]
     },
     "execution_count": 6,
     "metadata": {},
     "output_type": "execute_result"
    }
   ],
   "source": [
    "file = \"hyst/lorenz/lorenz_modif.xml\"\n",
    "M = readsxmodel(file, raw_dict=true)"
   ]
  },
  {
   "cell_type": "code",
   "execution_count": 4,
   "metadata": {},
   "outputs": [
    {
     "data": {
      "text/plain": [
       "1-element Array{Array{Expr,1},1}:\n",
       " [:(x' = 10 + (y - x)), :(y' = x * (28 - z) - y), :(z' = x * y - 2.6667z)]"
      ]
     },
     "execution_count": 4,
     "metadata": {},
     "output_type": "execute_result"
    }
   ],
   "source": [
    "f = M[\"flows\"]"
   ]
  },
  {
   "cell_type": "markdown",
   "metadata": {},
   "source": [
    "Possible paths:\n",
    "\n",
    "- convert into a `BlackBoxContinuousSystem` with a `@taylorize` of a `MultivariatePolynomial`\n",
    "- convert into a `PolynomialContinuousSystem`"
   ]
  },
  {
   "cell_type": "code",
   "execution_count": null,
   "metadata": {},
   "outputs": [],
   "source": [
    "using MultivariatePolynomials, DynamicPolynomials"
   ]
  },
  {
   "cell_type": "code",
   "execution_count": null,
   "metadata": {},
   "outputs": [],
   "source": [
    "@polyvar x y z"
   ]
  },
  {
   "cell_type": "code",
   "execution_count": null,
   "metadata": {},
   "outputs": [],
   "source": [
    "e = f[1][1].args[2]"
   ]
  },
  {
   "cell_type": "code",
   "execution_count": null,
   "metadata": {},
   "outputs": [],
   "source": [
    "dx = Vector{Polynomial}(undef, 3)\n",
    "dx[1] = (10 + (y - x))\n",
    "dx[2] = x * (28 - z) - y\n",
    "dx[3] = x * y - 2.6667z;"
   ]
  },
  {
   "cell_type": "markdown",
   "metadata": {},
   "source": [
    "### Van der Pol"
   ]
  },
  {
   "cell_type": "code",
   "execution_count": null,
   "metadata": {},
   "outputs": [],
   "source": [
    "file = \"hyst/vanderpol/vanderpol_althoff_modif.xml\"\n",
    "readsxmodel(file, raw_dict=true)"
   ]
  },
  {
   "cell_type": "code",
   "execution_count": null,
   "metadata": {},
   "outputs": [],
   "source": [
    "f = M[\"flows\"]"
   ]
  },
  {
   "cell_type": "markdown",
   "metadata": {},
   "source": [
    "### Van der Pol hybridized"
   ]
  },
  {
   "cell_type": "markdown",
   "metadata": {},
   "source": [
    "In the file `out_vanderpol_hybridized_plot_modif.xml`:\n",
    "\n",
    "- delete the `vanderpol_althoff_net` component\n",
    "- delete the note"
   ]
  },
  {
   "cell_type": "code",
   "execution_count": null,
   "metadata": {},
   "outputs": [],
   "source": [
    "file = \"hyst/vanderpol/out_vanderpol_hybridized_plot_modif.xml\"\n",
    "H = readsxmodel(file, raw_dict=true);"
   ]
  },
  {
   "cell_type": "code",
   "execution_count": null,
   "metadata": {},
   "outputs": [],
   "source": [
    "H[\"flows\"]"
   ]
  },
  {
   "cell_type": "code",
   "execution_count": null,
   "metadata": {},
   "outputs": [],
   "source": [
    "H[\"variables\"]"
   ]
  },
  {
   "cell_type": "code",
   "execution_count": null,
   "metadata": {},
   "outputs": [],
   "source": [
    "H_CLCCS = readsxmodel(file, ST=ConstrainedLinearControlContinuousSystem);"
   ]
  },
  {
   "cell_type": "code",
   "execution_count": null,
   "metadata": {},
   "outputs": [],
   "source": [
    "file = \"hyst/tank/out_tank_hybridized_plot_modif.xml\"\n",
    "H = readsxmodel(file, ST=ConstrainedLinearControlContinuousSystem);"
   ]
  },
  {
   "cell_type": "code",
   "execution_count": null,
   "metadata": {},
   "outputs": [],
   "source": [
    "H[\"variables\"]"
   ]
  }
 ],
 "metadata": {
  "kernelspec": {
   "display_name": "Julia 1.1.0-rc2",
   "language": "julia",
   "name": "julia-1.1"
  },
  "language_info": {
   "file_extension": ".jl",
   "mimetype": "application/julia",
   "name": "julia",
   "version": "1.1.0"
  }
 },
 "nbformat": 4,
 "nbformat_minor": 2
}
