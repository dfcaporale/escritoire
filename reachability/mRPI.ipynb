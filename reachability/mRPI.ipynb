{
 "cells": [
  {
   "cell_type": "markdown",
   "metadata": {},
   "source": [
    "# mRPI\n",
    "\n",
    "**Marcelo Forets**, Universidad de la República, Uruguay.\n",
    "\n",
    "----"
   ]
  },
  {
   "cell_type": "markdown",
   "metadata": {},
   "source": [
    "References:\n",
    "\n",
    "- [1] *Invariant Approximations of the Minimal Robust Positively Invariant Set*. S. V. Rakovic, E. C. Kerrigan, K. I. Kouramas, and D. Q. Mayne, https://ieeexplore.ieee.org/document/1406138"
   ]
  },
  {
   "cell_type": "markdown",
   "metadata": {},
   "source": [
    "In the setting of [1], let\n",
    "\n",
    "$$\n",
    "x^+ = Ax + w\n",
    "$$\n",
    "be a discrete-time linear time-invariant system, where $x \\in \\mathbb{R}^n$ is the current state, $x^+$ is the succesor state, and $w \\in \\mathbb{R}^n$ is an unknown disturbance. $A \\in \\mathbb{R}^{n\\times n}$ is assumed to be such that $\\textrm{spec}(A) = \\{\\lambda \\in \\mathbb{C}: \\lambda \\textrm{ is an eigenvalue of } A\\} \\subsetneq D_2$ where $D_2$ is the unit disk in the complex plane. In addition, the disturbance $w$ is contained in a compact and convex set $W \\subseteq \\mathbb{R}^n$ that contains the origin.\n",
    "\n",
    "The aim is to compute the set\n",
    "\n",
    "$$\n",
    "F_\\infty = \\bigoplus_{i=0}^\\infty A^i W,\n",
    "$$\n",
    "where $A^0 := Id$. However, this set cannot be computed exactly in general, and one should consider either inner or outer approximations. For any $s \\geq 0$, let\n",
    "$$\n",
    "F_s := \\bigoplus_{i=0}^{s-1} A^i W,\\qquad F_0 := \\{ 0\\}.\n",
    "$$"
   ]
  },
  {
   "cell_type": "markdown",
   "metadata": {},
   "source": [
    "## Preliminaries"
   ]
  },
  {
   "cell_type": "markdown",
   "metadata": {},
   "source": [
    "To fix ideas consider the following example."
   ]
  },
  {
   "cell_type": "code",
   "execution_count": 51,
   "metadata": {},
   "outputs": [
    {
     "data": {
      "text/plain": [
       "2×2 Array{Float64,2}:\n",
       " -0.5  1.0\n",
       "  0.0  0.5"
      ]
     },
     "execution_count": 51,
     "metadata": {},
     "output_type": "execute_result"
    }
   ],
   "source": [
    "using LazySets\n",
    "\n",
    "A = [-1/2 1.0; 0.0 1/2.0]"
   ]
  },
  {
   "cell_type": "code",
   "execution_count": 52,
   "metadata": {},
   "outputs": [
    {
     "data": {
      "text/plain": [
       "2-element Array{Float64,1}:\n",
       " -0.5\n",
       "  0.5"
      ]
     },
     "execution_count": 52,
     "metadata": {},
     "output_type": "execute_result"
    }
   ],
   "source": [
    "using LinearAlgebra\n",
    "\n",
    "eigvals(A)"
   ]
  },
  {
   "cell_type": "code",
   "execution_count": 53,
   "metadata": {},
   "outputs": [
    {
     "data": {
      "text/plain": [
       "true"
      ]
     },
     "execution_count": 53,
     "metadata": {},
     "output_type": "execute_result"
    }
   ],
   "source": [
    "all(norm(λ) < 1 for λ in eigvals(A)) # check that A is strictly stable"
   ]
  },
  {
   "cell_type": "code",
   "execution_count": 54,
   "metadata": {},
   "outputs": [
    {
     "data": {
      "text/plain": [
       "BallInf{Float64}([0.0, 0.0], 1.0)"
      ]
     },
     "execution_count": 54,
     "metadata": {},
     "output_type": "execute_result"
    }
   ],
   "source": [
    "W = BallInf(zeros(2), 1.0)"
   ]
  },
  {
   "cell_type": "markdown",
   "metadata": {},
   "source": [
    "To illustrate, we can compute $F_4$ using LazySets as follows:"
   ]
  },
  {
   "cell_type": "code",
   "execution_count": 55,
   "metadata": {},
   "outputs": [
    {
     "data": {
      "text/plain": [
       "MinkowskiSumArray{Float64,LinearMap{Float64,BallInf{Float64},Float64,Array{Float64,2}}}(LinearMap{Float64,BallInf{Float64},Float64,Array{Float64,2}}[LinearMap{Float64,BallInf{Float64},Float64,Array{Float64,2}}([1.0 0.0; 0.0 1.0], BallInf{Float64}([0.0, 0.0], 1.0)), LinearMap{Float64,BallInf{Float64},Float64,Array{Float64,2}}([-0.5 1.0; 0.0 0.5], BallInf{Float64}([0.0, 0.0], 1.0)), LinearMap{Float64,BallInf{Float64},Float64,Array{Float64,2}}([0.25 0.0; 0.0 0.25], BallInf{Float64}([0.0, 0.0], 1.0)), LinearMap{Float64,BallInf{Float64},Float64,Array{Float64,2}}([-0.125 0.25; 0.0 0.125], BallInf{Float64}([0.0, 0.0], 1.0))])"
      ]
     },
     "execution_count": 55,
     "metadata": {},
     "output_type": "execute_result"
    }
   ],
   "source": [
    "F(s) = MinkowskiSumArray([A^i * W for i in 0:s-1])\n",
    "F4 = F(4)"
   ]
  },
  {
   "cell_type": "markdown",
   "metadata": {},
   "source": [
    "Here, $F_4$ has been *lazily* computed as the Minkowski sum array\n",
    "\n",
    "$$\n",
    "F_4 = W \\oplus A W \\oplus A^2 W \\oplus A^3 W\n",
    "$$"
   ]
  },
  {
   "cell_type": "markdown",
   "metadata": {},
   "source": [
    "LazySets can be used to reason about $F_4$ without actually computing it. Underlying computations such as membership or inclusion checks, or overapproximations, can be performed using the theory of [support functions](https://en.wikipedia.org/wiki/Support_function)."
   ]
  },
  {
   "cell_type": "markdown",
   "metadata": {},
   "source": [
    "**Note.** Although the n-ary lazy minkowski sum operation can be implemented with nested binary operations, for efficiency reasons, LazySets provides the binary operation `MinkowskiSum` as well as the n-ary opearation `MinkowskiSumArray`. A similar comment applies to other operations such as convex hulls and cartesian products. "
   ]
  },
  {
   "cell_type": "markdown",
   "metadata": {},
   "source": [
    "The support function of a convex polytope is a linear program, and the support function of a Minkowski sum is the sum of the support functions of each set. More properties of support functions and support vectors are found in the [LazySets documentation](https://juliareach.github.io/LazySets.jl/latest/man/polyhedral_approximations/)."
   ]
  },
  {
   "cell_type": "markdown",
   "metadata": {},
   "source": [
    "For instance we can make the inclusion check $\\alpha (1-\\alpha)^{-1} \\subseteq B_\\inf^2(0.01)$ as follows:"
   ]
  },
  {
   "cell_type": "code",
   "execution_count": 66,
   "metadata": {},
   "outputs": [
    {
     "data": {
      "text/plain": [
       "true"
      ]
     },
     "execution_count": 66,
     "metadata": {},
     "output_type": "execute_result"
    }
   ],
   "source": [
    "α = 0.5\n",
    "ε = 8.\n",
    "α * (1-α)^-1 * F(2) ⊆ BallInf(zeros(2), ε) # Ballp is available as well, for any p >= 1"
   ]
  },
  {
   "cell_type": "markdown",
   "metadata": {},
   "source": [
    "This computation has used support functions, as explained above (Julia provides the `@which` macro to know which function is actually used)."
   ]
  },
  {
   "cell_type": "code",
   "execution_count": 67,
   "metadata": {},
   "outputs": [
    {
     "data": {
      "text/plain": [
       "true"
      ]
     },
     "execution_count": 67,
     "metadata": {},
     "output_type": "execute_result"
    }
   ],
   "source": [
    "α * (1-α)^-1 * F(20) ⊆ BallInf(zeros(2), ε)"
   ]
  },
  {
   "cell_type": "markdown",
   "metadata": {},
   "source": [
    "A final note: above we compute `F(s)` lazily: it is very efficient to create and ask a few evaluations of the support function. Here we compute up to $s = 1000$ very quickly:"
   ]
  },
  {
   "cell_type": "code",
   "execution_count": 68,
   "metadata": {},
   "outputs": [
    {
     "name": "stdout",
     "output_type": "stream",
     "text": [
      "  0.000024 seconds (6 allocations: 320 bytes)\n",
      "  0.000081 seconds (806 allocations: 80.781 KiB)\n",
      "  0.000130 seconds (1.90 k allocations: 192.969 KiB)\n",
      "  0.000204 seconds (3.09 k allocations: 316.484 KiB)\n",
      "  0.000274 seconds (4.37 k allocations: 449.813 KiB)\n",
      "  0.000348 seconds (5.73 k allocations: 590.953 KiB)\n",
      "  0.000439 seconds (7.15 k allocations: 730.922 KiB)\n",
      "  0.000704 seconds (8.66 k allocations: 880.078 KiB)\n",
      "  0.001076 seconds (10.21 k allocations: 1.009 MiB)\n",
      "  0.001458 seconds (11.79 k allocations: 1.162 MiB)\n"
     ]
    }
   ],
   "source": [
    "[@time F(s) for s in 1:100:1000];"
   ]
  },
  {
   "cell_type": "markdown",
   "metadata": {},
   "source": [
    "In applications it may be also necessary to use a *concrete* set representation. Actually a combination of concrete and lazy should also be considered, see for example the discussion in [Reach Set Approximation through Decomposition with Low-dimensional Sets and High-dimensional Matrices. Sergiy Bogomolov, Marcelo Forets, Goran Frehse, Andreas Podelski, Christian Schilling, Frédéric Viry](https://arxiv.org/abs/1801.09526)."
   ]
  },
  {
   "cell_type": "markdown",
   "metadata": {},
   "source": [
    "In LazySets, concrete set operations are denoted with lower case letters. "
   ]
  },
  {
   "cell_type": "code",
   "execution_count": 69,
   "metadata": {},
   "outputs": [
    {
     "data": {
      "text/plain": [
       "VPolytope{Float64}(Array{Float64,1}[[-5.5, -2.5], [-0.5, -2.5], [5.5, 0.5], [5.5, 2.5], [0.5, 2.5], [-5.5, -0.5]])"
      ]
     },
     "execution_count": 69,
     "metadata": {},
     "output_type": "execute_result"
    }
   ],
   "source": [
    "using Polyhedra # used for most concrete set operations\n",
    "\n",
    "F1 = W\n",
    "F2 = minkowski_sum(F1, linear_map(A, W))\n",
    "F3 = minkowski_sum(F2, linear_map(A, W))\n",
    "F4 = minkowski_sum(F3, linear_map(A, W))"
   ]
  },
  {
   "cell_type": "markdown",
   "metadata": {},
   "source": [
    "Here `F4` is a *concrete* set, a polytope in vertex representation. A polytope in half-space representation, for instance, is also said to be a concrete set."
   ]
  },
  {
   "cell_type": "markdown",
   "metadata": {},
   "source": [
    "## Implementation of Algorithm 1"
   ]
  },
  {
   "cell_type": "markdown",
   "metadata": {},
   "source": [
    "An implementation of Algorithm 1 in [1] using LazySets. is presented below. There is room for micro-optimizations, but the code was kept simple and generic on purpose.\n",
    "\n",
    "The key part of the algorithm is to handle the following functions:\n",
    "$$\n",
    "s^0(\\alpha) := \\min \\{ s \\in \\mathbb{N}_+ : A^s W \\subseteq \\alpha W \\} \\\\\n",
    "\\alpha^0(\\alpha) := \\min \\{ \\alpha \\in \\mathbb{R} : A^s W \\subseteq \\alpha W \\}\n",
    "$$"
   ]
  },
  {
   "cell_type": "markdown",
   "metadata": {},
   "source": [
    "If it is assumed that $W$ is a polytope in constraint representation, the inclusion checks can be easily tested using support functions as explained in the paper. Actually this can be generalized substantially: if the support function of $W$ is available,computations with support functions also apply (possibly with an overapproximation error).\n",
    "\n",
    "To fix ideas we consider the following example."
   ]
  },
  {
   "cell_type": "code",
   "execution_count": 95,
   "metadata": {},
   "outputs": [
    {
     "data": {
      "text/plain": [
       "BallInf{Float64}([0.0, 0.0], 1.0)"
      ]
     },
     "execution_count": 95,
     "metadata": {},
     "output_type": "execute_result"
    }
   ],
   "source": [
    "# EXAMPLE: inputs are A, W, ε > 0\n",
    "A = [-1/2 1.0; 0.0 1/2.0]\n",
    "W = BallInf(zeros(2), 1.0)"
   ]
  },
  {
   "cell_type": "code",
   "execution_count": 96,
   "metadata": {},
   "outputs": [
    {
     "data": {
      "text/plain": [
       "α₀ (generic function with 1 method)"
      ]
     },
     "execution_count": 96,
     "metadata": {},
     "output_type": "execute_result"
    }
   ],
   "source": [
    "# cf. Eq. (11) in [1]\n",
    "function α₀(s, A, W)\n",
    "    F, g = tosimplehrep(W) # W = {x s.t. Fx <= g}\n",
    "    return maximum(ρ(transpose(A^s)*F[i, :], W) / g[i] for i in eachindex(g))\n",
    "end"
   ]
  },
  {
   "cell_type": "code",
   "execution_count": 97,
   "metadata": {},
   "outputs": [
    {
     "data": {
      "text/plain": [
       "(0.25, 0.09375, 0.0009765625)"
      ]
     },
     "execution_count": 97,
     "metadata": {},
     "output_type": "execute_result"
    }
   ],
   "source": [
    "α₀(2, A, W), α₀(5, A, W), α₀(10, A, W)"
   ]
  },
  {
   "cell_type": "code",
   "execution_count": 98,
   "metadata": {},
   "outputs": [
    {
     "data": {
      "text/plain": [
       "M (generic function with 1 method)"
      ]
     },
     "execution_count": 98,
     "metadata": {},
     "output_type": "execute_result"
    }
   ],
   "source": [
    "using LazySets.Arrays\n",
    "\n",
    "# cf. Eq. (13) in [1]\n",
    "function M(s, A, W)\n",
    "    n = LazySets.dim(W)\n",
    "    max_j = Vector{Float64}()\n",
    "    for j in 1:n\n",
    "        ej = SingleEntryVector(j, n, 1.0)\n",
    "        M⁺ = M_plus = sum(ρ(transpose(A^i) * ej, W) for i in 0:s-1)\n",
    "        M⁻ = sum(ρ(transpose(A^i) * (-ej), W) for i in 0:s-1)\n",
    "        push!(max_j, max(M⁺, M⁻))\n",
    "    end\n",
    "    return maximum(max_j)\n",
    "end"
   ]
  },
  {
   "cell_type": "code",
   "execution_count": 99,
   "metadata": {},
   "outputs": [
    {
     "data": {
      "text/plain": [
       "(2.5, 2.75, 3.125)"
      ]
     },
     "execution_count": 99,
     "metadata": {},
     "output_type": "execute_result"
    }
   ],
   "source": [
    "M(2, A, W), M(3, A, W), M(4, A, W)"
   ]
  },
  {
   "cell_type": "code",
   "execution_count": 119,
   "metadata": {},
   "outputs": [
    {
     "data": {
      "text/plain": [
       "mRPI (generic function with 1 method)"
      ]
     },
     "execution_count": 119,
     "metadata": {},
     "output_type": "execute_result"
    }
   ],
   "source": [
    "# Implementation\n",
    "function mRPI(A, W, ε)\n",
    "    smax = 1000\n",
    "    s = 0\n",
    "    while true\n",
    "        s += 1\n",
    "        α = α₀(s, A, W)\n",
    "        Ms = M(s, A, W)\n",
    "        s == smax && error(\"convergence not achieved for s = $smax\")\n",
    "        if α <= ε/(ε+Ms)\n",
    "            break\n",
    "        end\n",
    "    end\n",
    "    return s\n",
    "end"
   ]
  },
  {
   "cell_type": "code",
   "execution_count": 120,
   "metadata": {},
   "outputs": [
    {
     "data": {
      "text/plain": [
       "6"
      ]
     },
     "execution_count": 120,
     "metadata": {},
     "output_type": "execute_result"
    }
   ],
   "source": [
    "s = mRPI(A, W, 1e-1)"
   ]
  },
  {
   "cell_type": "code",
   "execution_count": 121,
   "metadata": {},
   "outputs": [
    {
     "data": {
      "text/plain": [
       "10"
      ]
     },
     "execution_count": 121,
     "metadata": {},
     "output_type": "execute_result"
    }
   ],
   "source": [
    "s = mRPI(A, W, 1e-2)"
   ]
  },
  {
   "cell_type": "code",
   "execution_count": 122,
   "metadata": {},
   "outputs": [
    {
     "data": {
      "text/plain": [
       "20"
      ]
     },
     "execution_count": 122,
     "metadata": {},
     "output_type": "execute_result"
    }
   ],
   "source": [
    "s = mRPI(A, W, 1e-5)"
   ]
  },
  {
   "cell_type": "markdown",
   "metadata": {},
   "source": [
    "## Computing $F(\\alpha, s)$ as a lazy set"
   ]
  },
  {
   "cell_type": "markdown",
   "metadata": {},
   "source": [
    "It verififes that to have better accuracy, the required `s` increases.\n",
    "\n",
    "The set $F(\\alpha, s)$ is computed lazily as follows."
   ]
  },
  {
   "cell_type": "code",
   "execution_count": 127,
   "metadata": {},
   "outputs": [
    {
     "data": {
      "text/plain": [
       "LinearMap{Float64,MinkowskiSumArray{Float64,LinearMap{Float64,BallInf{Float64},Float64,Array{Float64,2}}},Float64,SparseMatrixCSC{Float64,Int64}}(\n",
       "  [1, 1]  =  2.0\n",
       "  [2, 2]  =  2.0, MinkowskiSumArray{Float64,LinearMap{Float64,BallInf{Float64},Float64,Array{Float64,2}}}(LinearMap{Float64,BallInf{Float64},Float64,Array{Float64,2}}[LinearMap{Float64,BallInf{Float64},Float64,Array{Float64,2}}([1.0 0.0; 0.0 1.0], BallInf{Float64}([0.0, 0.0], 1.0)), LinearMap{Float64,BallInf{Float64},Float64,Array{Float64,2}}([-0.5 1.0; 0.0 0.5], BallInf{Float64}([0.0, 0.0], 1.0)), LinearMap{Float64,BallInf{Float64},Float64,Array{Float64,2}}([0.25 0.0; 0.0 0.25], BallInf{Float64}([0.0, 0.0], 1.0)), LinearMap{Float64,BallInf{Float64},Float64,Array{Float64,2}}([-0.125 0.25; 0.0 0.125], BallInf{Float64}([0.0, 0.0], 1.0)), LinearMap{Float64,BallInf{Float64},Float64,Array{Float64,2}}([0.0625 0.0; 0.0 0.0625], BallInf{Float64}([0.0, 0.0], 1.0)), LinearMap{Float64,BallInf{Float64},Float64,Array{Float64,2}}([-0.03125 0.0625; 0.0 0.03125], BallInf{Float64}([0.0, 0.0], 1.0)), LinearMap{Float64,BallInf{Float64},Float64,Array{Float64,2}}([0.015625 0.0; 0.0 0.015625], BallInf{Float64}([0.0, 0.0], 1.0)), LinearMap{Float64,BallInf{Float64},Float64,Array{Float64,2}}([-0.0078125 0.015625; 0.0 0.0078125], BallInf{Float64}([0.0, 0.0], 1.0)), LinearMap{Float64,BallInf{Float64},Float64,Array{Float64,2}}([0.00390625 0.0; 0.0 0.00390625], BallInf{Float64}([0.0, 0.0], 1.0)), LinearMap{Float64,BallInf{Float64},Float64,Array{Float64,2}}([-0.00195313 0.00390625; 0.0 0.00195313], BallInf{Float64}([0.0, 0.0], 1.0))]))"
      ]
     },
     "execution_count": 127,
     "metadata": {},
     "output_type": "execute_result"
    }
   ],
   "source": [
    "# compute Fs lazily\n",
    "ε = 1e-2\n",
    "s = mRPI(A, W, ε)\n",
    "Fs = MinkowskiSumArray([A^i * W for i in 0:s-1])\n",
    "Fαs = 1/(1-α) * Fs"
   ]
  },
  {
   "cell_type": "markdown",
   "metadata": {},
   "source": [
    "This is an interesting representation because if we only want to query some directions of the approximatio of the mRPI, it can be done with `Fαs` and there is no need to overapproximate it. For instance, if we'd like to compute the maximum distance to the origin along the direction `[1, 0]`, this is:"
   ]
  },
  {
   "cell_type": "code",
   "execution_count": 136,
   "metadata": {},
   "outputs": [
    {
     "data": {
      "text/plain": [
       "6.66015625"
      ]
     },
     "execution_count": 136,
     "metadata": {},
     "output_type": "execute_result"
    }
   ],
   "source": [
    "ρ([1.0, 0.0], Fαs) # the support function of a lazy set does not require Fαs to be concrete"
   ]
  },
  {
   "cell_type": "markdown",
   "metadata": {},
   "source": [
    "Similarly, if we are interested in the vertex of `Fαs` which is further from the origin along direction `[1, 0]` this is:"
   ]
  },
  {
   "cell_type": "code",
   "execution_count": 137,
   "metadata": {},
   "outputs": [
    {
     "data": {
      "text/plain": [
       "2-element Array{Float64,1}:\n",
       " 6.66015625\n",
       " 3.99609375"
      ]
     },
     "execution_count": 137,
     "metadata": {},
     "output_type": "execute_result"
    }
   ],
   "source": [
    "σ([1.0, 0.0], Fαs) # the support vector of a lazy set does not require Fαs to be concrete"
   ]
  },
  {
   "cell_type": "markdown",
   "metadata": {},
   "source": [
    "## Computing $F(\\alpha, s)$ using iterative refinement"
   ]
  },
  {
   "cell_type": "markdown",
   "metadata": {},
   "source": [
    "Since this set is two-dimensional, we can use iterative refinement with tolerance $\\varepsilon$ and compute an overapproximation $\\hat{F}(\\alpha, s)$ of $F(\\alpha, s)$ within Hausdorff distance $\\varepsilon$.\n",
    "\n",
    "Iterative refinement in higher dimensions is not implemented yet (see [LazySets#969](https://github.com/JuliaReach/LazySets.jl/issues/969)).\n",
    "\n",
    "In this approach, we begin with the lazily computed set `Fαs` and then find the constraints that define it, by succseively querying support functions."
   ]
  },
  {
   "cell_type": "code",
   "execution_count": 139,
   "metadata": {},
   "outputs": [
    {
     "data": {
      "text/plain": [
       "HPolygon{Float64}(LazySets.HalfSpace{Float64,VN} where VN<:AbstractArray{Float64,1}[HalfSpace{Float64,Array{Float64,1}}([1.0, 0.0], 6.66016), HalfSpace{Float64,Array{Float64,1}}([0.0, 1.0], 3.99609), HalfSpace{Float64,Array{Float64,1}}([-0.242536, 0.970143], 4.19985), HalfSpace{Float64,Array{Float64,1}}([-0.447214, 0.894427], 4.16992), HalfSpace{Float64,Array{Float64,1}}([-1.0, 0.0], 6.66016), HalfSpace{Float64,Array{Float64,1}}([0.0, -1.0], 3.99609), HalfSpace{Float64,Array{Float64,1}}([0.316228, -0.948683], 4.21225), HalfSpace{Float64,Array{Float64,1}}([0.447214, -0.894427], 4.16992)])"
      ]
     },
     "execution_count": 139,
     "metadata": {},
     "output_type": "execute_result"
    }
   ],
   "source": [
    "# overapproximate Fαs\n",
    "using LazySets.Approximations\n",
    "\n",
    "# a concrete polygon in constraint representation\n",
    "F̂αs = overapproximate(Fαs, ε)"
   ]
  },
  {
   "cell_type": "markdown",
   "metadata": {},
   "source": [
    "It is guaranteed that the Hausdorff distance between `F̂αs` and the exact `Fαs` is no bigger than `ε`. See the [Iterative Refinement](https://juliareach.github.io/LazySets.jl/latest/man/iterative_refinement/) section in LazySets documentation or the source code docstrings `src/Approximations/iterative_refinement.jl` for more details."
   ]
  },
  {
   "cell_type": "markdown",
   "metadata": {},
   "source": [
    "## Computing $F(\\alpha, s)$ without iterative refinement"
   ]
  },
  {
   "cell_type": "markdown",
   "metadata": {},
   "source": [
    "One can use support functions to overapproximate any convex set, by defining which directions should be evaluated. For instance, we can sample the unit sphere in `n`-dimensions and evaluate the support function of `Fαs` along all those randomly selected directions. The polytope obtained is an overapproximation of `Fαs`.\n",
    "\n",
    "This approach is similar to the last one and has the advantage that *it is not limited to two-dimensions.* The disadvantage is that we don't control the error of the approximation."
   ]
  },
  {
   "cell_type": "code",
   "execution_count": 146,
   "metadata": {},
   "outputs": [
    {
     "data": {
      "text/plain": [
       "refine (generic function with 1 method)"
      ]
     },
     "execution_count": 146,
     "metadata": {},
     "output_type": "execute_result"
    }
   ],
   "source": [
    "# we overload overapproximate for this application so that it works with any array of directions \n",
    "function LazySets.Approximations.overapproximate(X::LazySet{N}, dirs::Vector{Vector{N}}) where {N}\n",
    "    halfspaces = Vector{LinearConstraint{N}}()\n",
    "    sizehint!(halfspaces, length(dirs))\n",
    "    H = HPolytope(halfspaces)\n",
    "    for d in dirs\n",
    "        addconstraint!(H, LinearConstraint(d, ρ(d, X)))\n",
    "    end\n",
    "    return H\n",
    "end\n",
    "\n",
    "using Distributions\n",
    "using LazySets: _sample_unit_nsphere_muller!\n",
    "\n",
    "# refine the set X using the given number of samples\n",
    "function refine(X, nsamples)\n",
    "    n = LazySets.dim(X)\n",
    "    dirs = Vector{Vector{Float64}}(undef, nsamples)\n",
    "    _sample_unit_nsphere_muller!(dirs, n, nsamples)\n",
    "    return overapproximate(X, dirs)\n",
    "end"
   ]
  },
  {
   "cell_type": "code",
   "execution_count": 148,
   "metadata": {},
   "outputs": [
    {
     "data": {
      "text/plain": [
       "HPolytope{Float64}(LazySets.HalfSpace{Float64,VN} where VN<:AbstractArray{Float64,1}[HalfSpace{Float64,Array{Float64,1}}([-0.999888, -0.0149501], 6.71915), HalfSpace{Float64,Array{Float64,1}}([-0.99809, -0.0617811], 6.89432), HalfSpace{Float64,Array{Float64,1}}([-0.0793736, 0.996845], 4.08921), HalfSpace{Float64,Array{Float64,1}}([0.983874, -0.178861], 6.79101), HalfSpace{Float64,Array{Float64,1}}([-0.717238, -0.696829], 7.56151), HalfSpace{Float64,Array{Float64,1}}([0.269279, 0.963062], 5.64193), HalfSpace{Float64,Array{Float64,1}}([0.257841, -0.966187], 4.20443), HalfSpace{Float64,Array{Float64,1}}([-0.533095, 0.846055], 4.67747), HalfSpace{Float64,Array{Float64,1}}([-0.974184, -0.225757], 7.39036), HalfSpace{Float64,Array{Float64,1}}([-0.999791, 0.0204633], 6.68602)])"
      ]
     },
     "execution_count": 148,
     "metadata": {},
     "output_type": "execute_result"
    }
   ],
   "source": [
    "F̂αs_random_refinement = refine(Fαs, 10)"
   ]
  },
  {
   "cell_type": "markdown",
   "metadata": {},
   "source": [
    "## Computing $F(\\alpha, s)$ with concrete operations: HPolytope"
   ]
  },
  {
   "cell_type": "markdown",
   "metadata": {},
   "source": [
    "We can otherwise resort to *concrete* intermediate operations: instead of building `Fαs` lazily, we build it using concrete linear map and concrete minkowski sum. This approach is thus limited by the efficiency with which these operations are defined.\n",
    "\n",
    "Let's focus on `HPolytope`'s (as in [1]). The \"challenge\" is to make the intermediate computations in H-representation.\n",
    "\n",
    "- The linear map can be computed without passing to the V-rep provided that the coefficients matrix is invertible. See `linear_map(::AbstractPolyhedron)` in LazySets for implementation details and available options.\n",
    "- Run Appendix 1 below to get `minkowski_sum_hrep` (or [LazySets#1508](https://github.com/JuliaReach/LazySets.jl/pull/1508)) for an implementation using LazySets, Polyhedra and CDDLib."
   ]
  },
  {
   "cell_type": "code",
   "execution_count": 164,
   "metadata": {},
   "outputs": [
    {
     "data": {
      "text/plain": [
       "HPolytope{Float64}(LazySets.HalfSpace{Float64,VN} where VN<:AbstractArray{Float64,1}[HalfSpace{Float64,Array{Float64,1}}([0.0, -1.0], 1.875), HalfSpace{Float64,Array{Float64,1}}([1.0, -2.0], 4.375), HalfSpace{Float64,Array{Float64,1}}([0.0, 1.0], 1.875), HalfSpace{Float64,Array{Float64,1}}([-1.0, 2.0], 4.375), HalfSpace{Float64,Array{Float64,1}}([-1.0, -0.0], 3.125), HalfSpace{Float64,Array{Float64,1}}([1.0, -0.0], 3.125)])"
      ]
     },
     "execution_count": 164,
     "metadata": {},
     "output_type": "execute_result"
    }
   ],
   "source": [
    "using CDDLib\n",
    "\n",
    "F1 = W\n",
    "F2 = minkowski_sum_hrep(F1, linear_map(A, W))\n",
    "F3 = minkowski_sum_hrep(F2, linear_map(A^2, W))\n",
    "F4 = minkowski_sum_hrep(F3, linear_map(A^3, W))"
   ]
  },
  {
   "cell_type": "markdown",
   "metadata": {},
   "source": [
    "**Note.** You can also use `minkowski_sum` here but it will make the computation in vertex representation. For two-dimensions an efficient implementation is available, so it may be worth considering at least a three dimensional example."
   ]
  },
  {
   "cell_type": "markdown",
   "metadata": {},
   "source": [
    "## Computing $F(\\alpha, s)$ with concrete operations: Zonotope"
   ]
  },
  {
   "cell_type": "markdown",
   "metadata": {},
   "source": [
    "Zonotopes have been studied in the context of reachability analysis because they behave well with respect to linear maps and minkowski sums (in the sense that they are closed under these operations, and can be performed efficiently).\n",
    "\n",
    "Instead of building $F(\\alpha, s)$ as a lazy set and then approximating with a polytope, we can sequentially build $F(\\alpha, s)$ using concrete operations with zonotopes. "
   ]
  },
  {
   "cell_type": "markdown",
   "metadata": {},
   "source": [
    "We first need to convert the input set, $W$, to a zonotope, then use concrete set operations; Julia's multiple-dispatch, is such that `minkowski_sum(::Zonotope, ::Zonotope)` uses the appropriate, efficient method for zonotopes."
   ]
  },
  {
   "cell_type": "code",
   "execution_count": 168,
   "metadata": {},
   "outputs": [
    {
     "data": {
      "text/plain": [
       "Zonotope{Float64}([0.0, 0.0], [1.0 0.0; 0.0 1.0])"
      ]
     },
     "execution_count": 168,
     "metadata": {},
     "output_type": "execute_result"
    }
   ],
   "source": [
    "Wzono = convert(Zonotope, W)"
   ]
  },
  {
   "cell_type": "code",
   "execution_count": 171,
   "metadata": {},
   "outputs": [
    {
     "data": {
      "text/plain": [
       "Zonotope{Float64}([0.0, 0.0], [1.0 0.0 … -0.125 0.25; 0.0 1.0 … 0.0 0.125])"
      ]
     },
     "execution_count": 171,
     "metadata": {},
     "output_type": "execute_result"
    }
   ],
   "source": [
    "F1 = W\n",
    "F2 = minkowski_sum(F1, linear_map(A, Wzono))\n",
    "F3 = minkowski_sum(F2, linear_map(A^2, Wzono))\n",
    "F4 = minkowski_sum(F3, linear_map(A^3, Wzono))"
   ]
  },
  {
   "cell_type": "code",
   "execution_count": 173,
   "metadata": {},
   "outputs": [
    {
     "data": {
      "text/plain": [
       "4//1"
      ]
     },
     "execution_count": 173,
     "metadata": {},
     "output_type": "execute_result"
    }
   ],
   "source": [
    "order(F4) # the zonotope order is the number of generators divided by the dimension"
   ]
  },
  {
   "cell_type": "markdown",
   "metadata": {},
   "source": [
    "It is worth noting that this approach is not limited to low dimensions. The sole limitation is that the accumulation of nested Minkowski sums will make the number of generators to increase linearly in `s`. The typical strategy is to reduce the number of generators obtaining an overapproximating zonotope with less generators. In LazySets, the `reduce` function can be used to reduce the number of generators, or simply `overapproximate(::Zonotope, Zonotope, ord)` where `ord` is the target order. I'm not aware of an overapproximating scheme *with guaranteed Hausdorff error* (as with the iterative refinement method)."
   ]
  },
  {
   "cell_type": "code",
   "execution_count": 177,
   "metadata": {},
   "outputs": [
    {
     "data": {
      "text/plain": [
       "Zonotope{Float64}([0.0, 0.0], \n",
       "  [1, 1]  =  0.25\n",
       "  [2, 1]  =  0.125\n",
       "  [1, 2]  =  1.0\n",
       "  [2, 2]  =  0.5\n",
       "  [1, 3]  =  1.875\n",
       "  [2, 4]  =  1.25)"
      ]
     },
     "execution_count": 177,
     "metadata": {},
     "output_type": "execute_result"
    }
   ],
   "source": [
    "reduce_order(F4, 2)"
   ]
  },
  {
   "cell_type": "markdown",
   "metadata": {},
   "source": [
    "## Appendix: Minkowski sum in H-representation"
   ]
  },
  {
   "cell_type": "code",
   "execution_count": 149,
   "metadata": {},
   "outputs": [
    {
     "data": {
      "text/plain": [
       "minkowski_sum_hrep (generic function with 2 methods)"
      ]
     },
     "execution_count": 149,
     "metadata": {},
     "output_type": "execute_result"
    }
   ],
   "source": [
    "# see LazySets#1508\n",
    "function minkowski_sum_hrep(P::LazySet{N}, Q::LazySet{N};\n",
    "                            backend=nothing,\n",
    "                            algorithm=nothing,\n",
    "                            prune=true) where {N<:Real}\n",
    "\n",
    "    if backend == nothing\n",
    "        if N <: Rational\n",
    "            backend = CDDLib.Library(:Exact)\n",
    "        else\n",
    "            backend = CDDLib.Library()\n",
    "        end\n",
    "    end\n",
    "    if algorithm == nothing\n",
    "        algorithm = Polyhedra.FourierMotzkin()\n",
    "    end\n",
    "    \n",
    "    A, b = tosimplehrep(P) # works as long as P has a constraints_list implementation\n",
    "    C, d = tosimplehrep(Q) # similarly for Q\n",
    "    mP, nP = size(A)\n",
    "    mQ, nQ = size(C)\n",
    "    E = [zeros(N, mP, nQ) A; C -C]\n",
    "    f = [b; d]\n",
    "    PQ = HPolytope(E, f)\n",
    "    PQ_cdd = polyhedron(PQ, backend=backend)\n",
    "    W = Polyhedra.eliminate(PQ_cdd, nP+1:2nP, algorithm)\n",
    "    W = HPolytope(W)\n",
    "    if prune\n",
    "        remove_redundant_constraints!(W)\n",
    "    end\n",
    "    return W\n",
    "end"
   ]
  }
 ],
 "metadata": {
  "@webio": {
   "lastCommId": null,
   "lastKernelId": null
  },
  "kernelspec": {
   "display_name": "Julia 1.1.1",
   "language": "julia",
   "name": "julia-1.1"
  },
  "language_info": {
   "file_extension": ".jl",
   "mimetype": "application/julia",
   "name": "julia",
   "version": "1.1.1"
  }
 },
 "nbformat": 4,
 "nbformat_minor": 2
}
