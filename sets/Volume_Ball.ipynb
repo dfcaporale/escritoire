{
 "cells": [
  {
   "cell_type": "code",
   "execution_count": 27,
   "metadata": {},
   "outputs": [],
   "source": [
    "using BenchmarkTools\n",
    "using Test\n",
    "using Revise, LazySets\n",
    "using LazySets: dim"
   ]
  },
  {
   "cell_type": "markdown",
   "metadata": {},
   "source": [
    "$$\n",
    "{\\displaystyle {\\begin{aligned}V_{2k}(R)&={\\frac {\\pi ^{k}}{k!}}R^{2k},\\\\V_{2k+1}(R)&={\\frac {2^{k+1}\\pi ^{k}}{(2k+1)!!}}R^{2k+1}={\\frac {2(k!)(4\\pi )^{k}}{(2k+1)!}}R^{2k+1}.\\end{aligned}}}\n",
    "$$"
   ]
  },
  {
   "cell_type": "code",
   "execution_count": 28,
   "metadata": {},
   "outputs": [
    {
     "data": {
      "text/plain": [
       "volume"
      ]
     },
     "execution_count": 28,
     "metadata": {},
     "output_type": "execute_result"
    }
   ],
   "source": [
    "R = 1.0\n",
    "n = 3\n",
    "\n",
    "\"\"\"\n",
    "See the wikipedia article https://en.wikipedia.org/wiki/Volume_of_an_n-ball\n",
    "\"\"\"\n",
    "function volume(B::Ball2{N}) where {N<:Real}\n",
    "    n = dim(B)\n",
    "    k = div(n, 2)\n",
    "    R = radius(B)\n",
    "    if iseven(n)        \n",
    "        vol = Base.pi^k * R^n / factorial(k)\n",
    "    else\n",
    "        vol = 2 * factorial(k) * (4*Base.pi)^k * R^n / factorial(n)\n",
    "    end\n",
    "    return vol\n",
    "end"
   ]
  },
  {
   "cell_type": "code",
   "execution_count": 29,
   "metadata": {},
   "outputs": [
    {
     "data": {
      "text/plain": [
       "\u001b[32m\u001b[1mTest Passed\u001b[22m\u001b[39m"
      ]
     },
     "execution_count": 29,
     "metadata": {},
     "output_type": "execute_result"
    }
   ],
   "source": [
    "# dimension 2\n",
    "B = Ball2(zeros(2), 2.0)\n",
    "@test volume(B) ≈ pi * B.radius^2"
   ]
  },
  {
   "cell_type": "code",
   "execution_count": 30,
   "metadata": {},
   "outputs": [
    {
     "data": {
      "text/plain": [
       "\u001b[32m\u001b[1mTest Passed\u001b[22m\u001b[39m"
      ]
     },
     "execution_count": 30,
     "metadata": {},
     "output_type": "execute_result"
    }
   ],
   "source": [
    "# dimension 3\n",
    "B = Ball2(zeros(3), 2.0)\n",
    "@test volume(B) ≈ 4/3 * pi * B.radius^3"
   ]
  },
  {
   "cell_type": "code",
   "execution_count": 38,
   "metadata": {},
   "outputs": [
    {
     "data": {
      "text/plain": [
       "Float64"
      ]
     },
     "execution_count": 38,
     "metadata": {},
     "output_type": "execute_result"
    }
   ],
   "source": [
    "N = Float64"
   ]
  },
  {
   "cell_type": "code",
   "execution_count": 39,
   "metadata": {},
   "outputs": [
    {
     "data": {
      "text/plain": [
       "\u001b[32m\u001b[1mTest Passed\u001b[22m\u001b[39m"
      ]
     },
     "execution_count": 39,
     "metadata": {},
     "output_type": "execute_result"
    }
   ],
   "source": [
    "# volume in dimension 2\n",
    "B = Ball2(zeros(N, 2), N(2))\n",
    "@test volume(B) ≈ pi * radius(B)^2\n",
    "\n",
    "# volume in dimension 3\n",
    "B = Ball2(zeros(N, 3), N(2))\n",
    "@test volume(B) ≈ 4/3 * pi * radius(B)^3"
   ]
  }
 ],
 "metadata": {
  "kernelspec": {
   "display_name": "Julia 1.2.0",
   "language": "julia",
   "name": "julia-1.2"
  },
  "language_info": {
   "file_extension": ".jl",
   "mimetype": "application/julia",
   "name": "julia",
   "version": "1.2.0"
  }
 },
 "nbformat": 4,
 "nbformat_minor": 2
}
