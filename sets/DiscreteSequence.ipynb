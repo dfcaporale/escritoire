{
 "cells": [
  {
   "cell_type": "markdown",
   "metadata": {},
   "source": [
    "## A numerical experiment: optimizing a sequence of linear maps"
   ]
  },
  {
   "cell_type": "markdown",
   "metadata": {},
   "source": [
    "Suppose that we are given an integer $k \\geq 1$, a $2x2$ matrix $\\Phi \\in \\mathbb{R}^{2\\times 2}$ and a polygon in vertex representation, $V_0$. We are interested in the sequence:\n",
    "\n",
    "$$\n",
    "V_k := \\{V_0, \\Phi V_0, \\Phi^2 V_0, \\ldots, \\Phi^{k-1} V_0\\}.\n",
    "$$\n",
    "\n",
    "In the following paragraphs we consider different versions of this operation in Julia."
   ]
  },
  {
   "cell_type": "markdown",
   "metadata": {},
   "source": [
    "The input data we consider, to fix ideas, is defined next."
   ]
  },
  {
   "cell_type": "code",
   "execution_count": 1,
   "metadata": {},
   "outputs": [],
   "source": [
    "using LazySets, Plots"
   ]
  },
  {
   "cell_type": "code",
   "execution_count": 2,
   "metadata": {},
   "outputs": [
    {
     "data": {
      "text/plain": [
       "2×2 Array{Float64,2}:\n",
       " 0.9  0.005\n",
       " 0.0  1.0  "
      ]
     },
     "execution_count": 2,
     "metadata": {},
     "output_type": "execute_result"
    }
   ],
   "source": [
    "Φ = [0.9 0.005; 0.0 1.0]"
   ]
  },
  {
   "cell_type": "code",
   "execution_count": 3,
   "metadata": {},
   "outputs": [
    {
     "data": {
      "text/plain": [
       "2-element Array{Float64,1}:\n",
       " 0.9\n",
       " 1.0"
      ]
     },
     "execution_count": 3,
     "metadata": {},
     "output_type": "execute_result"
    }
   ],
   "source": [
    "eigvals(Φ)"
   ]
  },
  {
   "cell_type": "markdown",
   "metadata": {},
   "source": [
    "The matrix has spectral radius one, hence the matrix powers $\\Phi^k$, $k\\geq 1$ do not diverge."
   ]
  },
  {
   "cell_type": "markdown",
   "metadata": {},
   "source": [
    "The initial set considered, $V_0$, is a polygon with \"diamond\" shape (`Ball1` stands for the unit ball in the 1-norm in `LazySets`):"
   ]
  },
  {
   "cell_type": "code",
   "execution_count": 4,
   "metadata": {},
   "outputs": [
    {
     "data": {
      "text/plain": [
       "VPolygon{Float64,Array{Float64,1}}(Array{Float64,1}[[0.8, 1.0], [1.0, 0.8], [1.2, 1.0], [1.0, 1.2]])"
      ]
     },
     "execution_count": 4,
     "metadata": {},
     "output_type": "execute_result"
    }
   ],
   "source": [
    "V0 = convert(VPolygon, Ball1(ones(2), 0.2))"
   ]
  },
  {
   "cell_type": "code",
   "execution_count": 5,
   "metadata": {},
   "outputs": [
    {
     "data": {
      "image/svg+xml": [
       "<?xml version=\"1.0\" encoding=\"utf-8\"?>\n",
       "<svg xmlns=\"http://www.w3.org/2000/svg\" xmlns:xlink=\"http://www.w3.org/1999/xlink\" width=\"600\" height=\"400\" viewBox=\"0 0 2400 1600\">\n",
       "<defs>\n",
       "  <clipPath id=\"clip1500\">\n",
       "    <rect x=\"0\" y=\"0\" width=\"2400\" height=\"1600\"/>\n",
       "  </clipPath>\n",
       "</defs>\n",
       "<polygon clip-path=\"url(#clip1500)\" points=\"\n",
       "0,1600 2400,1600 2400,0 0,0 \n",
       "  \" fill=\"#ffffff\" fill-rule=\"evenodd\" fill-opacity=\"1\"/>\n",
       "<defs>\n",
       "  <clipPath id=\"clip1501\">\n",
       "    <rect x=\"480\" y=\"0\" width=\"1681\" height=\"1600\"/>\n",
       "  </clipPath>\n",
       "</defs>\n",
       "<polygon clip-path=\"url(#clip1500)\" points=\"\n",
       "513.212,1503.47 1969.44,1503.47 1969.44,47.2441 513.212,47.2441 \n",
       "  \" fill=\"#ffffff\" fill-rule=\"evenodd\" fill-opacity=\"1\"/>\n",
       "<defs>\n",
       "  <clipPath id=\"clip1502\">\n",
       "    <rect x=\"513\" y=\"47\" width=\"1457\" height=\"1457\"/>\n",
       "  </clipPath>\n",
       "</defs>\n",
       "<polyline clip-path=\"url(#clip1502)\" style=\"stroke:#000000; stroke-width:2; stroke-opacity:0.1; fill:none\" points=\"\n",
       "  554.426,1503.47 554.426,47.2441 \n",
       "  \"/>\n",
       "<polyline clip-path=\"url(#clip1502)\" style=\"stroke:#000000; stroke-width:2; stroke-opacity:0.1; fill:none\" points=\"\n",
       "  897.876,1503.47 897.876,47.2441 \n",
       "  \"/>\n",
       "<polyline clip-path=\"url(#clip1502)\" style=\"stroke:#000000; stroke-width:2; stroke-opacity:0.1; fill:none\" points=\"\n",
       "  1241.33,1503.47 1241.33,47.2441 \n",
       "  \"/>\n",
       "<polyline clip-path=\"url(#clip1502)\" style=\"stroke:#000000; stroke-width:2; stroke-opacity:0.1; fill:none\" points=\"\n",
       "  1584.78,1503.47 1584.78,47.2441 \n",
       "  \"/>\n",
       "<polyline clip-path=\"url(#clip1502)\" style=\"stroke:#000000; stroke-width:2; stroke-opacity:0.1; fill:none\" points=\"\n",
       "  1928.23,1503.47 1928.23,47.2441 \n",
       "  \"/>\n",
       "<polyline clip-path=\"url(#clip1502)\" style=\"stroke:#000000; stroke-width:2; stroke-opacity:0.1; fill:none\" points=\"\n",
       "  513.212,1462.26 1969.44,1462.26 \n",
       "  \"/>\n",
       "<polyline clip-path=\"url(#clip1502)\" style=\"stroke:#000000; stroke-width:2; stroke-opacity:0.1; fill:none\" points=\"\n",
       "  513.212,1118.81 1969.44,1118.81 \n",
       "  \"/>\n",
       "<polyline clip-path=\"url(#clip1502)\" style=\"stroke:#000000; stroke-width:2; stroke-opacity:0.1; fill:none\" points=\"\n",
       "  513.212,775.359 1969.44,775.359 \n",
       "  \"/>\n",
       "<polyline clip-path=\"url(#clip1502)\" style=\"stroke:#000000; stroke-width:2; stroke-opacity:0.1; fill:none\" points=\"\n",
       "  513.212,431.909 1969.44,431.909 \n",
       "  \"/>\n",
       "<polyline clip-path=\"url(#clip1502)\" style=\"stroke:#000000; stroke-width:2; stroke-opacity:0.1; fill:none\" points=\"\n",
       "  513.212,88.4582 1969.44,88.4582 \n",
       "  \"/>\n",
       "<polyline clip-path=\"url(#clip1500)\" style=\"stroke:#000000; stroke-width:4; stroke-opacity:1; fill:none\" points=\"\n",
       "  513.212,1503.47 1969.44,1503.47 \n",
       "  \"/>\n",
       "<polyline clip-path=\"url(#clip1500)\" style=\"stroke:#000000; stroke-width:4; stroke-opacity:1; fill:none\" points=\"\n",
       "  513.212,1503.47 513.212,47.2441 \n",
       "  \"/>\n",
       "<polyline clip-path=\"url(#clip1500)\" style=\"stroke:#000000; stroke-width:4; stroke-opacity:1; fill:none\" points=\"\n",
       "  554.426,1503.47 554.426,1481.63 \n",
       "  \"/>\n",
       "<polyline clip-path=\"url(#clip1500)\" style=\"stroke:#000000; stroke-width:4; stroke-opacity:1; fill:none\" points=\"\n",
       "  897.876,1503.47 897.876,1481.63 \n",
       "  \"/>\n",
       "<polyline clip-path=\"url(#clip1500)\" style=\"stroke:#000000; stroke-width:4; stroke-opacity:1; fill:none\" points=\"\n",
       "  1241.33,1503.47 1241.33,1481.63 \n",
       "  \"/>\n",
       "<polyline clip-path=\"url(#clip1500)\" style=\"stroke:#000000; stroke-width:4; stroke-opacity:1; fill:none\" points=\"\n",
       "  1584.78,1503.47 1584.78,1481.63 \n",
       "  \"/>\n",
       "<polyline clip-path=\"url(#clip1500)\" style=\"stroke:#000000; stroke-width:4; stroke-opacity:1; fill:none\" points=\"\n",
       "  1928.23,1503.47 1928.23,1481.63 \n",
       "  \"/>\n",
       "<polyline clip-path=\"url(#clip1500)\" style=\"stroke:#000000; stroke-width:4; stroke-opacity:1; fill:none\" points=\"\n",
       "  513.212,1462.26 535.055,1462.26 \n",
       "  \"/>\n",
       "<polyline clip-path=\"url(#clip1500)\" style=\"stroke:#000000; stroke-width:4; stroke-opacity:1; fill:none\" points=\"\n",
       "  513.212,1118.81 535.055,1118.81 \n",
       "  \"/>\n",
       "<polyline clip-path=\"url(#clip1500)\" style=\"stroke:#000000; stroke-width:4; stroke-opacity:1; fill:none\" points=\"\n",
       "  513.212,775.359 535.055,775.359 \n",
       "  \"/>\n",
       "<polyline clip-path=\"url(#clip1500)\" style=\"stroke:#000000; stroke-width:4; stroke-opacity:1; fill:none\" points=\"\n",
       "  513.212,431.909 535.055,431.909 \n",
       "  \"/>\n",
       "<polyline clip-path=\"url(#clip1500)\" style=\"stroke:#000000; stroke-width:4; stroke-opacity:1; fill:none\" points=\"\n",
       "  513.212,88.4582 535.055,88.4582 \n",
       "  \"/>\n",
       "<g clip-path=\"url(#clip1500)\">\n",
       "<text style=\"fill:#000000; fill-opacity:1; font-family:Arial,Helvetica Neue,Helvetica,sans-serif; font-size:48px; text-anchor:middle;\" transform=\"rotate(0, 554.426, 1557.47)\" x=\"554.426\" y=\"1557.47\">0.8</text>\n",
       "</g>\n",
       "<g clip-path=\"url(#clip1500)\">\n",
       "<text style=\"fill:#000000; fill-opacity:1; font-family:Arial,Helvetica Neue,Helvetica,sans-serif; font-size:48px; text-anchor:middle;\" transform=\"rotate(0, 897.876, 1557.47)\" x=\"897.876\" y=\"1557.47\">0.9</text>\n",
       "</g>\n",
       "<g clip-path=\"url(#clip1500)\">\n",
       "<text style=\"fill:#000000; fill-opacity:1; font-family:Arial,Helvetica Neue,Helvetica,sans-serif; font-size:48px; text-anchor:middle;\" transform=\"rotate(0, 1241.33, 1557.47)\" x=\"1241.33\" y=\"1557.47\">1.0</text>\n",
       "</g>\n",
       "<g clip-path=\"url(#clip1500)\">\n",
       "<text style=\"fill:#000000; fill-opacity:1; font-family:Arial,Helvetica Neue,Helvetica,sans-serif; font-size:48px; text-anchor:middle;\" transform=\"rotate(0, 1584.78, 1557.47)\" x=\"1584.78\" y=\"1557.47\">1.1</text>\n",
       "</g>\n",
       "<g clip-path=\"url(#clip1500)\">\n",
       "<text style=\"fill:#000000; fill-opacity:1; font-family:Arial,Helvetica Neue,Helvetica,sans-serif; font-size:48px; text-anchor:middle;\" transform=\"rotate(0, 1928.23, 1557.47)\" x=\"1928.23\" y=\"1557.47\">1.2</text>\n",
       "</g>\n",
       "<g clip-path=\"url(#clip1500)\">\n",
       "<text style=\"fill:#000000; fill-opacity:1; font-family:Arial,Helvetica Neue,Helvetica,sans-serif; font-size:48px; text-anchor:end;\" transform=\"rotate(0, 489.212, 1479.76)\" x=\"489.212\" y=\"1479.76\">0.8</text>\n",
       "</g>\n",
       "<g clip-path=\"url(#clip1500)\">\n",
       "<text style=\"fill:#000000; fill-opacity:1; font-family:Arial,Helvetica Neue,Helvetica,sans-serif; font-size:48px; text-anchor:end;\" transform=\"rotate(0, 489.212, 1136.31)\" x=\"489.212\" y=\"1136.31\">0.9</text>\n",
       "</g>\n",
       "<g clip-path=\"url(#clip1500)\">\n",
       "<text style=\"fill:#000000; fill-opacity:1; font-family:Arial,Helvetica Neue,Helvetica,sans-serif; font-size:48px; text-anchor:end;\" transform=\"rotate(0, 489.212, 792.859)\" x=\"489.212\" y=\"792.859\">1.0</text>\n",
       "</g>\n",
       "<g clip-path=\"url(#clip1500)\">\n",
       "<text style=\"fill:#000000; fill-opacity:1; font-family:Arial,Helvetica Neue,Helvetica,sans-serif; font-size:48px; text-anchor:end;\" transform=\"rotate(0, 489.212, 449.409)\" x=\"489.212\" y=\"449.409\">1.1</text>\n",
       "</g>\n",
       "<g clip-path=\"url(#clip1500)\">\n",
       "<text style=\"fill:#000000; fill-opacity:1; font-family:Arial,Helvetica Neue,Helvetica,sans-serif; font-size:48px; text-anchor:end;\" transform=\"rotate(0, 489.212, 105.958)\" x=\"489.212\" y=\"105.958\">1.2</text>\n",
       "</g>\n",
       "<polygon clip-path=\"url(#clip1502)\" points=\"\n",
       "554.426,775.359 1241.33,1462.26 1928.23,775.359 1241.33,88.4582 554.426,775.359 554.426,775.359 \n",
       "  \" fill=\"#009af9\" fill-rule=\"evenodd\" fill-opacity=\"0.5\"/>\n",
       "<polyline clip-path=\"url(#clip1502)\" style=\"stroke:#000000; stroke-width:4; stroke-opacity:0.5; fill:none\" points=\"\n",
       "  554.426,775.359 1241.33,1462.26 1928.23,775.359 1241.33,88.4582 554.426,775.359 \n",
       "  \"/>\n",
       "</svg>\n"
      ]
     },
     "execution_count": 5,
     "metadata": {},
     "output_type": "execute_result"
    }
   ],
   "source": [
    "plot(V0)"
   ]
  },
  {
   "cell_type": "markdown",
   "metadata": {},
   "source": [
    "Let us plot some successors of the sequence $V_k$: "
   ]
  },
  {
   "cell_type": "code",
   "execution_count": 6,
   "metadata": {},
   "outputs": [
    {
     "data": {
      "image/svg+xml": [
       "<?xml version=\"1.0\" encoding=\"utf-8\"?>\n",
       "<svg xmlns=\"http://www.w3.org/2000/svg\" xmlns:xlink=\"http://www.w3.org/1999/xlink\" width=\"600\" height=\"400\" viewBox=\"0 0 2400 1600\">\n",
       "<defs>\n",
       "  <clipPath id=\"clip1900\">\n",
       "    <rect x=\"0\" y=\"0\" width=\"2400\" height=\"1600\"/>\n",
       "  </clipPath>\n",
       "</defs>\n",
       "<polygon clip-path=\"url(#clip1900)\" points=\"\n",
       "0,1600 2400,1600 2400,0 0,0 \n",
       "  \" fill=\"#ffffff\" fill-rule=\"evenodd\" fill-opacity=\"1\"/>\n",
       "<defs>\n",
       "  <clipPath id=\"clip1901\">\n",
       "    <rect x=\"480\" y=\"0\" width=\"1681\" height=\"1600\"/>\n",
       "  </clipPath>\n",
       "</defs>\n",
       "<polygon clip-path=\"url(#clip1900)\" points=\"\n",
       "161.394,1261.55 2321.26,1261.55 2321.26,289.172 161.394,289.172 \n",
       "  \" fill=\"#ffffff\" fill-rule=\"evenodd\" fill-opacity=\"1\"/>\n",
       "<defs>\n",
       "  <clipPath id=\"clip1902\">\n",
       "    <rect x=\"161\" y=\"289\" width=\"2161\" height=\"973\"/>\n",
       "  </clipPath>\n",
       "</defs>\n",
       "<polyline clip-path=\"url(#clip1902)\" style=\"stroke:#000000; stroke-width:2; stroke-opacity:0.1; fill:none\" points=\"\n",
       "  425.462,1261.55 425.462,289.172 \n",
       "  \"/>\n",
       "<polyline clip-path=\"url(#clip1902)\" style=\"stroke:#000000; stroke-width:2; stroke-opacity:0.1; fill:none\" points=\"\n",
       "  884.13,1261.55 884.13,289.172 \n",
       "  \"/>\n",
       "<polyline clip-path=\"url(#clip1902)\" style=\"stroke:#000000; stroke-width:2; stroke-opacity:0.1; fill:none\" points=\"\n",
       "  1342.8,1261.55 1342.8,289.172 \n",
       "  \"/>\n",
       "<polyline clip-path=\"url(#clip1902)\" style=\"stroke:#000000; stroke-width:2; stroke-opacity:0.1; fill:none\" points=\"\n",
       "  1801.46,1261.55 1801.46,289.172 \n",
       "  \"/>\n",
       "<polyline clip-path=\"url(#clip1902)\" style=\"stroke:#000000; stroke-width:2; stroke-opacity:0.1; fill:none\" points=\"\n",
       "  2260.13,1261.55 2260.13,289.172 \n",
       "  \"/>\n",
       "<polyline clip-path=\"url(#clip1902)\" style=\"stroke:#000000; stroke-width:2; stroke-opacity:0.1; fill:none\" points=\"\n",
       "  161.394,1234.03 2321.26,1234.03 \n",
       "  \"/>\n",
       "<polyline clip-path=\"url(#clip1902)\" style=\"stroke:#000000; stroke-width:2; stroke-opacity:0.1; fill:none\" points=\"\n",
       "  161.394,1004.69 2321.26,1004.69 \n",
       "  \"/>\n",
       "<polyline clip-path=\"url(#clip1902)\" style=\"stroke:#000000; stroke-width:2; stroke-opacity:0.1; fill:none\" points=\"\n",
       "  161.394,775.359 2321.26,775.359 \n",
       "  \"/>\n",
       "<polyline clip-path=\"url(#clip1902)\" style=\"stroke:#000000; stroke-width:2; stroke-opacity:0.1; fill:none\" points=\"\n",
       "  161.394,546.026 2321.26,546.026 \n",
       "  \"/>\n",
       "<polyline clip-path=\"url(#clip1902)\" style=\"stroke:#000000; stroke-width:2; stroke-opacity:0.1; fill:none\" points=\"\n",
       "  161.394,316.692 2321.26,316.692 \n",
       "  \"/>\n",
       "<polyline clip-path=\"url(#clip1900)\" style=\"stroke:#000000; stroke-width:4; stroke-opacity:1; fill:none\" points=\"\n",
       "  161.394,1261.55 2321.26,1261.55 \n",
       "  \"/>\n",
       "<polyline clip-path=\"url(#clip1900)\" style=\"stroke:#000000; stroke-width:4; stroke-opacity:1; fill:none\" points=\"\n",
       "  161.394,1261.55 161.394,289.172 \n",
       "  \"/>\n",
       "<polyline clip-path=\"url(#clip1900)\" style=\"stroke:#000000; stroke-width:4; stroke-opacity:1; fill:none\" points=\"\n",
       "  425.462,1261.55 425.462,1246.96 \n",
       "  \"/>\n",
       "<polyline clip-path=\"url(#clip1900)\" style=\"stroke:#000000; stroke-width:4; stroke-opacity:1; fill:none\" points=\"\n",
       "  884.13,1261.55 884.13,1246.96 \n",
       "  \"/>\n",
       "<polyline clip-path=\"url(#clip1900)\" style=\"stroke:#000000; stroke-width:4; stroke-opacity:1; fill:none\" points=\"\n",
       "  1342.8,1261.55 1342.8,1246.96 \n",
       "  \"/>\n",
       "<polyline clip-path=\"url(#clip1900)\" style=\"stroke:#000000; stroke-width:4; stroke-opacity:1; fill:none\" points=\"\n",
       "  1801.46,1261.55 1801.46,1246.96 \n",
       "  \"/>\n",
       "<polyline clip-path=\"url(#clip1900)\" style=\"stroke:#000000; stroke-width:4; stroke-opacity:1; fill:none\" points=\"\n",
       "  2260.13,1261.55 2260.13,1246.96 \n",
       "  \"/>\n",
       "<polyline clip-path=\"url(#clip1900)\" style=\"stroke:#000000; stroke-width:4; stroke-opacity:1; fill:none\" points=\"\n",
       "  161.394,1234.03 193.792,1234.03 \n",
       "  \"/>\n",
       "<polyline clip-path=\"url(#clip1900)\" style=\"stroke:#000000; stroke-width:4; stroke-opacity:1; fill:none\" points=\"\n",
       "  161.394,1004.69 193.792,1004.69 \n",
       "  \"/>\n",
       "<polyline clip-path=\"url(#clip1900)\" style=\"stroke:#000000; stroke-width:4; stroke-opacity:1; fill:none\" points=\"\n",
       "  161.394,775.359 193.792,775.359 \n",
       "  \"/>\n",
       "<polyline clip-path=\"url(#clip1900)\" style=\"stroke:#000000; stroke-width:4; stroke-opacity:1; fill:none\" points=\"\n",
       "  161.394,546.026 193.792,546.026 \n",
       "  \"/>\n",
       "<polyline clip-path=\"url(#clip1900)\" style=\"stroke:#000000; stroke-width:4; stroke-opacity:1; fill:none\" points=\"\n",
       "  161.394,316.692 193.792,316.692 \n",
       "  \"/>\n",
       "<g clip-path=\"url(#clip1900)\">\n",
       "<text style=\"fill:#000000; fill-opacity:1; font-family:Arial,Helvetica Neue,Helvetica,sans-serif; font-size:48px; text-anchor:middle;\" transform=\"rotate(0, 425.462, 1315.55)\" x=\"425.462\" y=\"1315.55\">0.4</text>\n",
       "</g>\n",
       "<g clip-path=\"url(#clip1900)\">\n",
       "<text style=\"fill:#000000; fill-opacity:1; font-family:Arial,Helvetica Neue,Helvetica,sans-serif; font-size:48px; text-anchor:middle;\" transform=\"rotate(0, 884.13, 1315.55)\" x=\"884.13\" y=\"1315.55\">0.6</text>\n",
       "</g>\n",
       "<g clip-path=\"url(#clip1900)\">\n",
       "<text style=\"fill:#000000; fill-opacity:1; font-family:Arial,Helvetica Neue,Helvetica,sans-serif; font-size:48px; text-anchor:middle;\" transform=\"rotate(0, 1342.8, 1315.55)\" x=\"1342.8\" y=\"1315.55\">0.8</text>\n",
       "</g>\n",
       "<g clip-path=\"url(#clip1900)\">\n",
       "<text style=\"fill:#000000; fill-opacity:1; font-family:Arial,Helvetica Neue,Helvetica,sans-serif; font-size:48px; text-anchor:middle;\" transform=\"rotate(0, 1801.46, 1315.55)\" x=\"1801.46\" y=\"1315.55\">1.0</text>\n",
       "</g>\n",
       "<g clip-path=\"url(#clip1900)\">\n",
       "<text style=\"fill:#000000; fill-opacity:1; font-family:Arial,Helvetica Neue,Helvetica,sans-serif; font-size:48px; text-anchor:middle;\" transform=\"rotate(0, 2260.13, 1315.55)\" x=\"2260.13\" y=\"1315.55\">1.2</text>\n",
       "</g>\n",
       "<g clip-path=\"url(#clip1900)\">\n",
       "<text style=\"fill:#000000; fill-opacity:1; font-family:Arial,Helvetica Neue,Helvetica,sans-serif; font-size:48px; text-anchor:end;\" transform=\"rotate(0, 137.394, 1251.53)\" x=\"137.394\" y=\"1251.53\">0.8</text>\n",
       "</g>\n",
       "<g clip-path=\"url(#clip1900)\">\n",
       "<text style=\"fill:#000000; fill-opacity:1; font-family:Arial,Helvetica Neue,Helvetica,sans-serif; font-size:48px; text-anchor:end;\" transform=\"rotate(0, 137.394, 1022.19)\" x=\"137.394\" y=\"1022.19\">0.9</text>\n",
       "</g>\n",
       "<g clip-path=\"url(#clip1900)\">\n",
       "<text style=\"fill:#000000; fill-opacity:1; font-family:Arial,Helvetica Neue,Helvetica,sans-serif; font-size:48px; text-anchor:end;\" transform=\"rotate(0, 137.394, 792.859)\" x=\"137.394\" y=\"792.859\">1.0</text>\n",
       "</g>\n",
       "<g clip-path=\"url(#clip1900)\">\n",
       "<text style=\"fill:#000000; fill-opacity:1; font-family:Arial,Helvetica Neue,Helvetica,sans-serif; font-size:48px; text-anchor:end;\" transform=\"rotate(0, 137.394, 563.526)\" x=\"137.394\" y=\"563.526\">1.1</text>\n",
       "</g>\n",
       "<g clip-path=\"url(#clip1900)\">\n",
       "<text style=\"fill:#000000; fill-opacity:1; font-family:Arial,Helvetica Neue,Helvetica,sans-serif; font-size:48px; text-anchor:end;\" transform=\"rotate(0, 137.394, 334.192)\" x=\"137.394\" y=\"334.192\">1.2</text>\n",
       "</g>\n",
       "<polygon clip-path=\"url(#clip1902)\" points=\"\n",
       "1342.8,775.359 1801.46,1234.03 2260.13,775.359 1801.46,316.692 1342.8,775.359 1342.8,775.359 \n",
       "  \" fill=\"#009af9\" fill-rule=\"evenodd\" fill-opacity=\"0.5\"/>\n",
       "<polyline clip-path=\"url(#clip1902)\" style=\"stroke:#000000; stroke-width:4; stroke-opacity:0.5; fill:none\" points=\"\n",
       "  1342.8,775.359 1801.46,1234.03 2260.13,775.359 1801.46,316.692 1342.8,775.359 \n",
       "  \"/>\n",
       "<polygon clip-path=\"url(#clip1902)\" points=\"\n",
       "1170.8,775.359 1581.3,1234.03 1581.3,1234.03 1996.4,775.359 1996.4,775.359 1585.89,316.692 1585.89,316.692 1170.8,775.359 1170.8,775.359 1170.8,775.359 \n",
       "  \n",
       "  \" fill=\"#e26f46\" fill-rule=\"evenodd\" fill-opacity=\"0.5\"/>\n",
       "<polyline clip-path=\"url(#clip1902)\" style=\"stroke:#000000; stroke-width:4; stroke-opacity:0.5; fill:none\" points=\"\n",
       "  1170.8,775.359 1581.3,1234.03 1581.3,1234.03 1996.4,775.359 1996.4,775.359 1585.89,316.692 1170.8,775.359 1170.8,775.359 \n",
       "  \n",
       "  \"/>\n",
       "<polygon clip-path=\"url(#clip1902)\" points=\"\n",
       "1016,775.359 1383.16,1234.03 1383.16,1234.03 1759.04,775.359 1759.04,775.359 1391.87,316.692 1391.87,316.692 1016,775.359 1016,775.359 1016,775.359 \n",
       "  \n",
       "  \" fill=\"#3da44d\" fill-rule=\"evenodd\" fill-opacity=\"0.5\"/>\n",
       "<polyline clip-path=\"url(#clip1902)\" style=\"stroke:#000000; stroke-width:4; stroke-opacity:0.5; fill:none\" points=\"\n",
       "  1016,775.359 1383.16,1234.03 1759.04,775.359 1759.04,775.359 1391.87,316.692 1391.87,316.692 1016,775.359 1016,775.359 \n",
       "  \n",
       "  \"/>\n",
       "<polygon clip-path=\"url(#clip1902)\" points=\"\n",
       "876.676,775.359 1204.83,1234.03 1545.41,775.359 1545.41,775.359 1217.26,316.692 876.676,775.359 876.676,775.359 \n",
       "  \" fill=\"#c271d2\" fill-rule=\"evenodd\" fill-opacity=\"0.5\"/>\n",
       "<polyline clip-path=\"url(#clip1902)\" style=\"stroke:#000000; stroke-width:4; stroke-opacity:0.5; fill:none\" points=\"\n",
       "  876.676,775.359 1204.83,1234.03 1545.41,775.359 1545.41,775.359 1217.26,316.692 876.676,775.359 \n",
       "  \"/>\n",
       "<polygon clip-path=\"url(#clip1902)\" points=\"\n",
       "751.288,775.359 1044.33,1234.03 1353.15,775.359 1353.15,775.359 1060.11,316.692 1060.11,316.692 751.288,775.359 751.288,775.359 \n",
       "  \" fill=\"#ac8d18\" fill-rule=\"evenodd\" fill-opacity=\"0.5\"/>\n",
       "<polyline clip-path=\"url(#clip1902)\" style=\"stroke:#000000; stroke-width:4; stroke-opacity:0.5; fill:none\" points=\"\n",
       "  751.288,775.359 1044.33,1234.03 1353.15,775.359 1353.15,775.359 1060.11,316.692 1060.11,316.692 751.288,775.359 \n",
       "  \"/>\n",
       "<polygon clip-path=\"url(#clip1902)\" points=\"\n",
       "638.439,775.359 899.886,1234.03 899.886,1234.03 1180.12,775.359 1180.12,775.359 918.669,316.692 918.669,316.692 638.439,775.359 638.439,775.359 638.439,775.359 \n",
       "  \n",
       "  \" fill=\"#00a9ad\" fill-rule=\"evenodd\" fill-opacity=\"0.5\"/>\n",
       "<polyline clip-path=\"url(#clip1902)\" style=\"stroke:#000000; stroke-width:4; stroke-opacity:0.5; fill:none\" points=\"\n",
       "  638.439,775.359 899.886,1234.03 899.886,1234.03 1180.12,775.359 1180.12,775.359 918.669,316.692 918.669,316.692 638.439,775.359 638.439,775.359 \n",
       "  \n",
       "  \"/>\n",
       "<polygon clip-path=\"url(#clip1902)\" points=\"\n",
       "536.874,775.359 769.883,1234.03 1024.38,775.359 791.375,316.692 536.874,775.359 536.874,775.359 \n",
       "  \" fill=\"#ed5d92\" fill-rule=\"evenodd\" fill-opacity=\"0.5\"/>\n",
       "<polyline clip-path=\"url(#clip1902)\" style=\"stroke:#000000; stroke-width:4; stroke-opacity:0.5; fill:none\" points=\"\n",
       "  536.874,775.359 769.883,1234.03 1024.38,775.359 791.375,316.692 536.874,775.359 \n",
       "  \"/>\n",
       "<polygon clip-path=\"url(#clip1902)\" points=\"\n",
       "445.466,775.359 652.881,1234.03 652.881,1234.03 884.225,775.359 884.225,775.359 676.81,316.692 445.466,775.359 445.466,775.359 \n",
       "  \" fill=\"#c68125\" fill-rule=\"evenodd\" fill-opacity=\"0.5\"/>\n",
       "<polyline clip-path=\"url(#clip1902)\" style=\"stroke:#000000; stroke-width:4; stroke-opacity:0.5; fill:none\" points=\"\n",
       "  445.466,775.359 652.881,1234.03 652.881,1234.03 884.225,775.359 884.225,775.359 676.81,316.692 445.466,775.359 \n",
       "  \"/>\n",
       "<polygon clip-path=\"url(#clip1902)\" points=\"\n",
       "363.199,775.359 547.579,1234.03 758.082,775.359 573.702,316.692 573.702,316.692 363.199,775.359 363.199,775.359 \n",
       "  \" fill=\"#00a98d\" fill-rule=\"evenodd\" fill-opacity=\"0.5\"/>\n",
       "<polyline clip-path=\"url(#clip1902)\" style=\"stroke:#000000; stroke-width:4; stroke-opacity:0.5; fill:none\" points=\"\n",
       "  363.199,775.359 547.579,1234.03 758.082,775.359 573.702,316.692 573.702,316.692 363.199,775.359 \n",
       "  \"/>\n",
       "<polygon clip-path=\"url(#clip1902)\" points=\"\n",
       "289.159,775.359 452.807,1234.03 452.807,1234.03 644.553,775.359 480.904,316.692 480.904,316.692 289.159,775.359 289.159,775.359 \n",
       "  \" fill=\"#8e971d\" fill-rule=\"evenodd\" fill-opacity=\"0.5\"/>\n",
       "<polyline clip-path=\"url(#clip1902)\" style=\"stroke:#000000; stroke-width:4; stroke-opacity:0.5; fill:none\" points=\"\n",
       "  289.159,775.359 452.807,1234.03 452.807,1234.03 644.553,775.359 480.904,316.692 480.904,316.692 289.159,775.359 \n",
       "  \"/>\n",
       "<polygon clip-path=\"url(#clip1902)\" points=\"\n",
       "222.522,775.359 367.513,1234.03 367.513,1234.03 542.377,775.359 542.377,775.359 397.387,316.692 397.387,316.692 222.522,775.359 222.522,775.359 222.522,775.359 \n",
       "  \n",
       "  \" fill=\"#00a8cb\" fill-rule=\"evenodd\" fill-opacity=\"0.5\"/>\n",
       "<polyline clip-path=\"url(#clip1902)\" style=\"stroke:#000000; stroke-width:4; stroke-opacity:0.5; fill:none\" points=\"\n",
       "  222.522,775.359 367.513,1234.03 367.513,1234.03 542.377,775.359 542.377,775.359 397.387,316.692 397.387,316.692 222.522,775.359 222.522,775.359 \n",
       "  \n",
       "  \"/>\n",
       "</svg>\n"
      ]
     },
     "execution_count": 6,
     "metadata": {},
     "output_type": "execute_result"
    }
   ],
   "source": [
    "plot!([Φ^k * V0 for k in 1:10])"
   ]
  },
  {
   "cell_type": "markdown",
   "metadata": {},
   "source": [
    "For the benchmarks we will consider $100$ images ($N$ is 100)."
   ]
  },
  {
   "cell_type": "code",
   "execution_count": 7,
   "metadata": {},
   "outputs": [
    {
     "data": {
      "text/plain": [
       "100"
      ]
     },
     "execution_count": 7,
     "metadata": {},
     "output_type": "execute_result"
    }
   ],
   "source": [
    "N = 100"
   ]
  },
  {
   "cell_type": "markdown",
   "metadata": {},
   "source": [
    "### Solution by list comprehension"
   ]
  },
  {
   "cell_type": "markdown",
   "metadata": {},
   "source": [
    "The first, \"naive\" but simplest approach is to define the sequence by list comprehension. This is perhaps the simplest way to write this function, but we will see that there are more efficient implementations."
   ]
  },
  {
   "cell_type": "code",
   "execution_count": 8,
   "metadata": {},
   "outputs": [
    {
     "data": {
      "text/plain": [
       "sequence_v1 (generic function with 1 method)"
      ]
     },
     "execution_count": 8,
     "metadata": {},
     "output_type": "execute_result"
    }
   ],
   "source": [
    "function sequence_v1(Φ, V0, N)\n",
    "    return [linear_map(Φ^k, V0) for k in 0:N-1]\n",
    "end"
   ]
  },
  {
   "cell_type": "code",
   "execution_count": 9,
   "metadata": {},
   "outputs": [
    {
     "name": "stdout",
     "output_type": "stream",
     "text": [
      "  130.125 μs (2196 allocations: 181.42 KiB)\n"
     ]
    }
   ],
   "source": [
    "@btime res = sequence_v1($Φ, $V0, $N);"
   ]
  },
  {
   "cell_type": "markdown",
   "metadata": {},
   "source": [
    "One side note regarding the `linear_map` function of above. That function, in `LazySet`, will just apply the linear map `\\Phi` to each vertex of the polygon and is implemented with a call to `broadcast`."
   ]
  },
  {
   "cell_type": "code",
   "execution_count": 10,
   "metadata": {},
   "outputs": [
    {
     "data": {
      "text/html": [
       "linear_map<i>{N<:Real}</i>(M::<b>AbstractArray{N,2}</b>, P::<b>VPolygon{N,VN} where VN<:AbstractArray{N,1}</b>) in LazySets at <a href=\"https://github.com/JuliaReach/LazySets.jl/tree/73ba251ae794d7aaf19536b72e8c749dd2698cd2//src/VPolygon.jl#L114\" target=\"_blank\">/Users/forets/.julia/dev/LazySets/src/VPolygon.jl:114</a>"
      ],
      "text/plain": [
       "linear_map(M::AbstractArray{N,2}, P::VPolygon{N,VN} where VN<:AbstractArray{N,1}) where N<:Real in LazySets at /Users/forets/.julia/dev/LazySets/src/VPolygon.jl:114"
      ]
     },
     "execution_count": 10,
     "metadata": {},
     "output_type": "execute_result"
    }
   ],
   "source": [
    "@which linear_map(Φ, V0)"
   ]
  },
  {
   "cell_type": "markdown",
   "metadata": {},
   "source": [
    "However, `sequence_v1_bare` is slower (why?)."
   ]
  },
  {
   "cell_type": "code",
   "execution_count": 11,
   "metadata": {},
   "outputs": [
    {
     "data": {
      "text/plain": [
       "sequence_v1_bare (generic function with 1 method)"
      ]
     },
     "execution_count": 11,
     "metadata": {},
     "output_type": "execute_result"
    }
   ],
   "source": [
    "function sequence_v1_bare(Φ, V0, N)\n",
    "    return [broadcast(v -> Φ^k * v, V0) for k in 0:N-1]\n",
    "end"
   ]
  },
  {
   "cell_type": "code",
   "execution_count": 12,
   "metadata": {},
   "outputs": [
    {
     "name": "stdout",
     "output_type": "stream",
     "text": [
      "  203.434 μs (3375 allocations: 355.69 KiB)\n"
     ]
    }
   ],
   "source": [
    "@btime sequence_v1_bare($Φ, $V0.vertices, $N);"
   ]
  },
  {
   "cell_type": "code",
   "execution_count": 13,
   "metadata": {},
   "outputs": [
    {
     "data": {
      "text/plain": [
       "4-element Array{Array{Float64,1},1}:\n",
       " [0.0984581, 1.0]\n",
       " [0.102026, 0.8] \n",
       " [0.124302, 1.0] \n",
       " [0.120734, 1.2] "
      ]
     },
     "execution_count": 13,
     "metadata": {},
     "output_type": "execute_result"
    }
   ],
   "source": [
    "sequence_v1(Φ, V0, N)[27].vertices"
   ]
  },
  {
   "cell_type": "code",
   "execution_count": 14,
   "metadata": {},
   "outputs": [
    {
     "data": {
      "text/plain": [
       "4-element Array{Array{Float64,1},1}:\n",
       " [0.0984581, 1.0]\n",
       " [0.102026, 0.8] \n",
       " [0.124302, 1.0] \n",
       " [0.120734, 1.2] "
      ]
     },
     "execution_count": 14,
     "metadata": {},
     "output_type": "execute_result"
    }
   ],
   "source": [
    "sequence_v1_bare(Φ, V0.vertices, N)[27]"
   ]
  },
  {
   "cell_type": "markdown",
   "metadata": {},
   "source": [
    "### Preallocating the result and reducing the matrix multiplications"
   ]
  },
  {
   "cell_type": "markdown",
   "metadata": {},
   "source": [
    "The first improvement consists of noticing that in the list comprehension of above, we compute more matrix powers than needed. For example, if $N = 3$, then the terms $\\Phi^2 V_0$ and $\\Phi^3 V_0$ require 3 products between $\\Phi$ and itself, while if we store the value of $\\Phi^k$ and compute $\\Phi^3 = \\Phi * (\\Phi^2)$ we need only two products. In general, from $\\Phi^2$ to $\\Phi^N$ the naive approach needs $1+\\ldots + (N-1) = N(N-1)/2 = (N^2-N)/2$ matrix-matrix products, note that it is quadratic in $N$. On the other hand, if we store the matrix powers of order $k$, only $N-1$ products are needed, and this is linear in $N$."
   ]
  },
  {
   "cell_type": "code",
   "execution_count": 15,
   "metadata": {},
   "outputs": [
    {
     "data": {
      "text/plain": [
       "sequence_v2 (generic function with 1 method)"
      ]
     },
     "execution_count": 15,
     "metadata": {},
     "output_type": "execute_result"
    }
   ],
   "source": [
    "function sequence_v2(Φ::AbstractMatrix{NT}, V0::LT, N::Int) where {NT, LT<:LazySet{NT}}\n",
    "    res = Vector{LT}(undef, N)\n",
    "    res[1] = V0\n",
    "    Φ_power_k = copy(Φ)\n",
    "    @inbounds for i in 2:N\n",
    "       res[i] = linear_map(Φ_power_k, V0)\n",
    "       Φ_power_k = Φ_power_k * Φ\n",
    "    end\n",
    "    return res\n",
    "end"
   ]
  },
  {
   "cell_type": "code",
   "execution_count": 16,
   "metadata": {},
   "outputs": [
    {
     "name": "stdout",
     "output_type": "stream",
     "text": [
      "  90.309 μs (1586 allocations: 115.45 KiB)\n"
     ]
    }
   ],
   "source": [
    "@btime res = sequence_v2($Φ, $V0, $N);"
   ]
  },
  {
   "cell_type": "markdown",
   "metadata": {},
   "source": [
    "We have passed from `130us` to `91us`, that makes a 30% reduction in runtime. The total number of allocations has also dropped, from `182kb` to `115kb`."
   ]
  },
  {
   "cell_type": "markdown",
   "metadata": {},
   "source": [
    "The function `sequence_v2` can receive any LazySet for which the concrete linear map, `linear_map`, is defined. For instance, we can use it with any higher-dimensional polytope. Consider a similar diamond-shaped set but in dimension 10."
   ]
  },
  {
   "cell_type": "code",
   "execution_count": 17,
   "metadata": {},
   "outputs": [
    {
     "data": {
      "text/plain": [
       "VPolytope{Float64}(Array{Float64,1}[[1.2, 1.0, 1.0, 1.0, 1.0, 1.0, 1.0, 1.0, 1.0, 1.0], [0.8, 1.0, 1.0, 1.0, 1.0, 1.0, 1.0, 1.0, 1.0, 1.0], [1.0, 1.2, 1.0, 1.0, 1.0, 1.0, 1.0, 1.0, 1.0, 1.0], [1.0, 0.8, 1.0, 1.0, 1.0, 1.0, 1.0, 1.0, 1.0, 1.0], [1.0, 1.0, 1.2, 1.0, 1.0, 1.0, 1.0, 1.0, 1.0, 1.0], [1.0, 1.0, 0.8, 1.0, 1.0, 1.0, 1.0, 1.0, 1.0, 1.0], [1.0, 1.0, 1.0, 1.2, 1.0, 1.0, 1.0, 1.0, 1.0, 1.0], [1.0, 1.0, 1.0, 0.8, 1.0, 1.0, 1.0, 1.0, 1.0, 1.0], [1.0, 1.0, 1.0, 1.0, 1.2, 1.0, 1.0, 1.0, 1.0, 1.0], [1.0, 1.0, 1.0, 1.0, 0.8, 1.0, 1.0, 1.0, 1.0, 1.0], [1.0, 1.0, 1.0, 1.0, 1.0, 1.2, 1.0, 1.0, 1.0, 1.0], [1.0, 1.0, 1.0, 1.0, 1.0, 0.8, 1.0, 1.0, 1.0, 1.0], [1.0, 1.0, 1.0, 1.0, 1.0, 1.0, 1.2, 1.0, 1.0, 1.0], [1.0, 1.0, 1.0, 1.0, 1.0, 1.0, 0.8, 1.0, 1.0, 1.0], [1.0, 1.0, 1.0, 1.0, 1.0, 1.0, 1.0, 1.2, 1.0, 1.0], [1.0, 1.0, 1.0, 1.0, 1.0, 1.0, 1.0, 0.8, 1.0, 1.0], [1.0, 1.0, 1.0, 1.0, 1.0, 1.0, 1.0, 1.0, 1.2, 1.0], [1.0, 1.0, 1.0, 1.0, 1.0, 1.0, 1.0, 1.0, 0.8, 1.0], [1.0, 1.0, 1.0, 1.0, 1.0, 1.0, 1.0, 1.0, 1.0, 1.2], [1.0, 1.0, 1.0, 1.0, 1.0, 1.0, 1.0, 1.0, 1.0, 0.8]])"
      ]
     },
     "execution_count": 17,
     "metadata": {},
     "output_type": "execute_result"
    }
   ],
   "source": [
    "V0_d10 = convert(VPolytope, Ball1(ones(10), 0.2))"
   ]
  },
  {
   "cell_type": "code",
   "execution_count": 18,
   "metadata": {},
   "outputs": [
    {
     "name": "stdout",
     "output_type": "stream",
     "text": [
      "  7.704 ms (16063 allocations: 12.18 MiB)\n"
     ]
    }
   ],
   "source": [
    "Φ_d10 = rand(10, 10) .- 0.5\n",
    "\n",
    "@btime sequence_v1_bare($Φ_d10, $V0_d10.vertices, $N);"
   ]
  },
  {
   "cell_type": "code",
   "execution_count": 19,
   "metadata": {},
   "outputs": [
    {
     "name": "stdout",
     "output_type": "stream",
     "text": [
      "  346.988 μs (2378 allocations: 424.05 KiB)\n"
     ]
    }
   ],
   "source": [
    "@btime sequence_v2($Φ_d10, $V0_d10, $N);"
   ]
  },
  {
   "cell_type": "code",
   "execution_count": 20,
   "metadata": {},
   "outputs": [
    {
     "data": {
      "text/plain": [
       "4.42159383033419"
      ]
     },
     "execution_count": 20,
     "metadata": {},
     "output_type": "execute_result"
    }
   ],
   "source": [
    "344e-6 * 100 / 7.780e-3"
   ]
  },
  {
   "cell_type": "code",
   "execution_count": 21,
   "metadata": {},
   "outputs": [
    {
     "data": {
      "text/plain": [
       "22.61627906976744"
      ]
     },
     "execution_count": 21,
     "metadata": {},
     "output_type": "execute_result"
    }
   ],
   "source": [
    "7.780e-3 / 344e-6"
   ]
  },
  {
   "cell_type": "markdown",
   "metadata": {},
   "source": [
    "The gains are considerably larger in higher dimension; we have passed from a factor 1.4x to a factor 22x."
   ]
  },
  {
   "cell_type": "markdown",
   "metadata": {},
   "source": [
    "### Caching the intermediate matrix powers"
   ]
  },
  {
   "cell_type": "markdown",
   "metadata": {},
   "source": [
    "Now that we reduced the matrix-matrix multiplications, we realize that our algorithm is not very memory-friendly, in the sense that `Φ_power_k = Φ_power_k * Φ` in the \"tight-loop\" does not re-use the memory allocated by `Φ_power_k`. By adding a new matrix to cache the intermediate matrix-matrix multiplications we can reduce the number of allocations in the loop and hence the garbarge collector (GC) is called less often, with an impact in performance. "
   ]
  },
  {
   "cell_type": "code",
   "execution_count": 22,
   "metadata": {},
   "outputs": [
    {
     "data": {
      "text/plain": [
       "sequence_v3 (generic function with 1 method)"
      ]
     },
     "execution_count": 22,
     "metadata": {},
     "output_type": "execute_result"
    }
   ],
   "source": [
    "function sequence_v3(Φ::AbstractMatrix{NT}, V0::LT, N::Int) where {NT, LT<:LazySet{NT}}\n",
    "    res = Vector{LT}(undef, N)\n",
    "    res[1] = V0\n",
    "    Φ_power_k = copy(Φ)\n",
    "    Φ_power_k_cache = similar(Φ)\n",
    "    @inbounds for i in 2:N\n",
    "        res[i] = linear_map(Φ_power_k, V0)\n",
    "        mul!(Φ_power_k_cache, Φ_power_k, Φ)\n",
    "        copy!(Φ_power_k, Φ_power_k_cache)\n",
    "    end\n",
    "    return res\n",
    "end"
   ]
  },
  {
   "cell_type": "code",
   "execution_count": 23,
   "metadata": {},
   "outputs": [
    {
     "name": "stdout",
     "output_type": "stream",
     "text": [
      "  87.979 μs (1488 allocations: 104.73 KiB)\n"
     ]
    }
   ],
   "source": [
    "@btime res = sequence_v3($Φ, $V0, $N);"
   ]
  },
  {
   "cell_type": "markdown",
   "metadata": {},
   "source": [
    "We see that both runtime and allocations have dropped, although only by a marginal value, from `91us` to `87us` and from `115kb` to `104kb`."
   ]
  },
  {
   "cell_type": "code",
   "execution_count": 24,
   "metadata": {},
   "outputs": [
    {
     "data": {
      "text/plain": [
       "4.395604395604391"
      ]
     },
     "execution_count": 24,
     "metadata": {},
     "output_type": "execute_result"
    }
   ],
   "source": [
    "100(1 - 87 / 91)"
   ]
  },
  {
   "cell_type": "markdown",
   "metadata": {},
   "source": [
    "Let's check if the difference is more notorious for a larger time horizon:"
   ]
  },
  {
   "cell_type": "code",
   "execution_count": 25,
   "metadata": {},
   "outputs": [
    {
     "name": "stdout",
     "output_type": "stream",
     "text": [
      "  457.353 μs (7986 allocations: 581.14 KiB)\n",
      "  444.220 μs (7488 allocations: 526.67 KiB)\n"
     ]
    }
   ],
   "source": [
    "@btime res = sequence_v2($Φ, $V0, 500);\n",
    "@btime res = sequence_v3($Φ, $V0, 500);"
   ]
  },
  {
   "cell_type": "code",
   "execution_count": 26,
   "metadata": {},
   "outputs": [
    {
     "data": {
      "text/plain": [
       "(3.0701754385964897, 9.46643717728055)"
      ]
     },
     "execution_count": 26,
     "metadata": {},
     "output_type": "execute_result"
    }
   ],
   "source": [
    "100(1 - 442 / 456), 100(1 - 526 / 581)"
   ]
  },
  {
   "cell_type": "code",
   "execution_count": 27,
   "metadata": {},
   "outputs": [
    {
     "name": "stdout",
     "output_type": "stream",
     "text": [
      "  344.989 μs (2378 allocations: 424.05 KiB)\n",
      "  343.056 μs (2280 allocations: 338.30 KiB)\n"
     ]
    }
   ],
   "source": [
    "@btime sequence_v2($Φ_d10, $V0_d10, $N);\n",
    "@btime sequence_v3($Φ_d10, $V0_d10, $N);"
   ]
  },
  {
   "cell_type": "code",
   "execution_count": 28,
   "metadata": {},
   "outputs": [
    {
     "data": {
      "text/plain": [
       "(0.5813953488372103, 20.28301886792453)"
      ]
     },
     "execution_count": 28,
     "metadata": {},
     "output_type": "execute_result"
    }
   ],
   "source": [
    "100(1 - 342 / 344), 100(1 - 338 / 424)"
   ]
  },
  {
   "cell_type": "markdown",
   "metadata": {},
   "source": [
    "Here the reduction in the total number of allocations is `20%` for the five-dimensional case. Let's consider a 100-dimensional polytope:"
   ]
  },
  {
   "cell_type": "code",
   "execution_count": 29,
   "metadata": {},
   "outputs": [
    {
     "name": "stdout",
     "output_type": "stream",
     "text": [
      "  336.538 ms (20298 allocations: 24.73 MiB)\n",
      "  336.192 ms (20102 allocations: 17.25 MiB)\n"
     ]
    }
   ],
   "source": [
    "V0_d100 = convert(VPolytope, Ball1(ones(100), 0.2))\n",
    "Φ_d100 = rand(100, 100) .- 0.5\n",
    "\n",
    "@btime sequence_v2($Φ_d100, $V0_d100, $N);\n",
    "@btime sequence_v3($Φ_d100, $V0_d100, $N);"
   ]
  },
  {
   "cell_type": "code",
   "execution_count": 30,
   "metadata": {},
   "outputs": [
    {
     "data": {
      "text/plain": [
       "(0.8902077151335286, 30.364372469635626)"
      ]
     },
     "execution_count": 30,
     "metadata": {},
     "output_type": "execute_result"
    }
   ],
   "source": [
    "100(1 - 334 / 337), 100(1 - 17.2 / 24.7)"
   ]
  },
  {
   "cell_type": "markdown",
   "metadata": {},
   "source": [
    "The gain reduction in the number of allocations is now of `30%`. "
   ]
  },
  {
   "cell_type": "markdown",
   "metadata": {},
   "source": [
    "### Using statically sized arrays"
   ]
  },
  {
   "cell_type": "markdown",
   "metadata": {},
   "source": [
    "The following approach consists of using statically sized arrays (the size of the array can be determined from its type) to store the vertices of the polygon and the matrix-matrix and matrix-vector multiplications."
   ]
  },
  {
   "cell_type": "code",
   "execution_count": 31,
   "metadata": {},
   "outputs": [],
   "source": [
    "using StaticArrays"
   ]
  },
  {
   "cell_type": "markdown",
   "metadata": {},
   "source": [
    "Let's consider our fastest version and try if it \"just works\" if the vertices are statically sized vectors:"
   ]
  },
  {
   "cell_type": "markdown",
   "metadata": {},
   "source": [
    "First we need to convert the data to static arrays:"
   ]
  },
  {
   "cell_type": "code",
   "execution_count": 32,
   "metadata": {},
   "outputs": [
    {
     "data": {
      "text/plain": [
       "2×2 Array{Float64,2}:\n",
       " 0.9  0.005\n",
       " 0.0  1.0  "
      ]
     },
     "execution_count": 32,
     "metadata": {},
     "output_type": "execute_result"
    }
   ],
   "source": [
    "Φ"
   ]
  },
  {
   "cell_type": "code",
   "execution_count": 33,
   "metadata": {},
   "outputs": [
    {
     "data": {
      "text/plain": [
       "2×2 SArray{Tuple{2,2},Float64,2,4}:\n",
       " 0.9  0.005\n",
       " 0.0  1.0  "
      ]
     },
     "execution_count": 33,
     "metadata": {},
     "output_type": "execute_result"
    }
   ],
   "source": [
    "Φs = SMatrix{2, 2}(Φ)"
   ]
  },
  {
   "cell_type": "code",
   "execution_count": 34,
   "metadata": {},
   "outputs": [
    {
     "data": {
      "text/plain": [
       "2-element Array{Float64,1}:\n",
       " 0.8\n",
       " 1.0"
      ]
     },
     "execution_count": 34,
     "metadata": {},
     "output_type": "execute_result"
    }
   ],
   "source": [
    "V0.vertices[1]"
   ]
  },
  {
   "cell_type": "code",
   "execution_count": 35,
   "metadata": {},
   "outputs": [
    {
     "data": {
      "text/plain": [
       "2-element SArray{Tuple{2},Float64,1,2}:\n",
       " 0.8\n",
       " 1.0"
      ]
     },
     "execution_count": 35,
     "metadata": {},
     "output_type": "execute_result"
    }
   ],
   "source": [
    "convert(SVector{2}, V0.vertices[1])"
   ]
  },
  {
   "cell_type": "markdown",
   "metadata": {},
   "source": [
    "*Note.* The following requires [LazySets#927](https://github.com/JuliaReach/LazySets.jl/issues/927), which at the time of writing is not available yet."
   ]
  },
  {
   "cell_type": "code",
   "execution_count": 36,
   "metadata": {},
   "outputs": [
    {
     "data": {
      "text/plain": [
       "VPolygon{Float64,SArray{Tuple{2},Float64,1,2}}(SArray{Tuple{2},Float64,1,2}[[0.8, 1.0], [1.0, 0.8], [1.2, 1.0], [1.0, 1.2]])"
      ]
     },
     "execution_count": 36,
     "metadata": {},
     "output_type": "execute_result"
    }
   ],
   "source": [
    "V0s = VPolygon([convert(SVector{2}, vi) for vi in V0.vertices])"
   ]
  },
  {
   "cell_type": "markdown",
   "metadata": {},
   "source": [
    "The version `v3` produces an error in the call to `copy!` function:"
   ]
  },
  {
   "cell_type": "code",
   "execution_count": 37,
   "metadata": {},
   "outputs": [
    {
     "ename": "ErrorException",
     "evalue": "setindex!(::SArray{Tuple{2,2},Float64,2,4}, value, ::Int) is not defined.",
     "output_type": "error",
     "traceback": [
      "setindex!(::SArray{Tuple{2,2},Float64,2,4}, value, ::Int) is not defined.",
      "",
      "Stacktrace:",
      " [1] error(::String) at ./error.jl:33",
      " [2] setindex!(::SArray{Tuple{2,2},Float64,2,4}, ::Float64, ::Int64) at /Users/forets/.julia/packages/StaticArrays/VyRz3/src/indexing.jl:3",
      " [3] copyto!(::SArray{Tuple{2,2},Float64,2,4}, ::MArray{Tuple{2,2},Float64,2,4}) at ./multidimensional.jl:877",
      " [4] copy!(::SArray{Tuple{2,2},Float64,2,4}, ::MArray{Tuple{2,2},Float64,2,4}) at ./abstractarray.jl:660",
      " [5] sequence_v3(::SArray{Tuple{2,2},Float64,2,4}, ::VPolygon{Float64,SArray{Tuple{2},Float64,1,2}}, ::Int64) at ./In[22]:9",
      " [6] top-level scope at In[37]:1"
     ]
    }
   ],
   "source": [
    "sequence_v3(Φs, V0s, N)"
   ]
  },
  {
   "cell_type": "markdown",
   "metadata": {},
   "source": [
    "The function `v2` works, though:"
   ]
  },
  {
   "cell_type": "code",
   "execution_count": 38,
   "metadata": {},
   "outputs": [
    {
     "name": "stdout",
     "output_type": "stream",
     "text": [
      "  72.370 μs (1783 allocations: 137.00 KiB)\n"
     ]
    }
   ],
   "source": [
    "@btime sequence_v2($Φs, $V0s, $N);"
   ]
  },
  {
   "cell_type": "markdown",
   "metadata": {},
   "source": [
    "The runtime has dropped from `91us` to `72us`, that's another `20%`."
   ]
  },
  {
   "cell_type": "code",
   "execution_count": 39,
   "metadata": {},
   "outputs": [
    {
     "data": {
      "text/plain": [
       "21.739130434782606"
      ]
     },
     "execution_count": 39,
     "metadata": {},
     "output_type": "execute_result"
    }
   ],
   "source": [
    "100(1-72/92)"
   ]
  },
  {
   "cell_type": "markdown",
   "metadata": {},
   "source": [
    "Another option is to use mutable statically sized arrays."
   ]
  },
  {
   "cell_type": "code",
   "execution_count": 40,
   "metadata": {},
   "outputs": [
    {
     "data": {
      "text/plain": [
       "VPolygon{Float64,MArray{Tuple{2},Float64,1,2}}(MArray{Tuple{2},Float64,1,2}[[0.8, 1.0], [1.0, 0.8], [1.2, 1.0], [1.0, 1.2]])"
      ]
     },
     "execution_count": 40,
     "metadata": {},
     "output_type": "execute_result"
    }
   ],
   "source": [
    "Φm = MMatrix{2, 2}(Φ)\n",
    "V0m = VPolygon([convert(MVector{2}, vi) for vi in V0.vertices])"
   ]
  },
  {
   "cell_type": "code",
   "execution_count": 41,
   "metadata": {},
   "outputs": [
    {
     "data": {
      "text/plain": [
       "VPolygon{Float64,MArray{Tuple{2},Float64,1,2}}(MArray{Tuple{2},Float64,1,2}[[0.8, 1.0], [1.0, 0.8], [1.2, 1.0], [1.0, 1.2]])"
      ]
     },
     "execution_count": 41,
     "metadata": {},
     "output_type": "execute_result"
    }
   ],
   "source": [
    "V0m"
   ]
  },
  {
   "cell_type": "markdown",
   "metadata": {},
   "source": [
    "Note taht we can pass an `MMatrix` for $\\Phi$, and it can be used in combination with `v3`:"
   ]
  },
  {
   "cell_type": "code",
   "execution_count": 42,
   "metadata": {},
   "outputs": [
    {
     "name": "stdout",
     "output_type": "stream",
     "text": [
      "  74.212 μs (1685 allocations: 132.41 KiB)\n"
     ]
    }
   ],
   "source": [
    "@btime sequence_v2($Φm, $V0s, $N);"
   ]
  },
  {
   "cell_type": "code",
   "execution_count": 43,
   "metadata": {},
   "outputs": [
    {
     "name": "stdout",
     "output_type": "stream",
     "text": [
      "  65.388 μs (1587 allocations: 127.81 KiB)\n"
     ]
    }
   ],
   "source": [
    "@btime sequence_v3($Φm, $V0s, $N);"
   ]
  },
  {
   "cell_type": "markdown",
   "metadata": {},
   "source": [
    "This is the fastest result which gets close to a factor 2 improvement over the initial version. "
   ]
  },
  {
   "cell_type": "markdown",
   "metadata": {},
   "source": [
    "### Using the formula of $\\Phi^k$"
   ]
  },
  {
   "cell_type": "markdown",
   "metadata": {},
   "source": [
    "For this particular problem, it is easy to obtain the formula for matrix powers. Actually if\n",
    "\n",
    "$$\n",
    "M = \\begin{pmatrix} a & b \\\\ 0 & 1 \\end{pmatrix},\n",
    "$$\n",
    "then for any $k\\geq 1$ it holds that:\n",
    "$$\n",
    "M^k = \\begin{pmatrix} a^k & \\dfrac{b ~ (a^k - 1)}{a - 1} \\\\ 0 & 1 \\end{pmatrix}.\n",
    "$$"
   ]
  },
  {
   "cell_type": "code",
   "execution_count": 44,
   "metadata": {},
   "outputs": [
    {
     "data": {
      "text/plain": [
       "sequence_v4 (generic function with 1 method)"
      ]
     },
     "execution_count": 44,
     "metadata": {},
     "output_type": "execute_result"
    }
   ],
   "source": [
    "function sequence_v4(Φ::AbstractMatrix{NT}, V0::LT, N::Int) where {NT, LT<:LazySet{NT}}\n",
    "    @assert size(Φ) == (2, 2)\n",
    "    @assert Φ[2, 1] == zero(NT)\n",
    "    @assert Φ[2, 2] == one(NT)\n",
    "    a, b = Φ[1, 1], Φ[1, 2]\n",
    "    @assert a != one(NT)\n",
    "    \n",
    "    Φ_power_k(k) = [a^k    b*(a^k - 1)/(a-1) ;\n",
    "                    0                     1  ]\n",
    "    \n",
    "    res = Vector{LT}(undef, N)\n",
    "    res[1] = V0\n",
    "    @inbounds for k in 2:N\n",
    "       res[k] = linear_map(Φ_power_k(k), V0)\n",
    "    end\n",
    "    return res\n",
    "end"
   ]
  },
  {
   "cell_type": "code",
   "execution_count": 45,
   "metadata": {},
   "outputs": [
    {
     "name": "stdout",
     "output_type": "stream",
     "text": [
      "  340.153 μs (3372 allocations: 164.94 KiB)\n"
     ]
    }
   ],
   "source": [
    "@btime sequence_v4($Φ, $V0, $N);"
   ]
  },
  {
   "cell_type": "markdown",
   "metadata": {},
   "source": [
    "This version is actually *slower* than the previous ones."
   ]
  },
  {
   "cell_type": "markdown",
   "metadata": {},
   "source": [
    "---"
   ]
  },
  {
   "cell_type": "markdown",
   "metadata": {},
   "source": [
    "### Changing the  representation of `VPolygon`"
   ]
  },
  {
   "cell_type": "markdown",
   "metadata": {},
   "source": [
    "In this section we explore storing the vertices in matrix form, rather than vector of vectors form."
   ]
  },
  {
   "cell_type": "markdown",
   "metadata": {},
   "source": [
    "First, a version that only makes matrix-matrix products:"
   ]
  },
  {
   "cell_type": "code",
   "execution_count": 46,
   "metadata": {},
   "outputs": [
    {
     "data": {
      "text/plain": [
       "sequence_v5 (generic function with 1 method)"
      ]
     },
     "execution_count": 46,
     "metadata": {},
     "output_type": "execute_result"
    }
   ],
   "source": [
    "function sequence_v5(Φ::AbstractMatrix{NT}, V0::LT, N::Int) where {NT, LT<:LazySet{NT}}\n",
    "    Φ_power_k = copy(Φ)\n",
    "    Φ_power_k_cache = similar(Φ)\n",
    "    @inbounds for i in 2:N\n",
    "        mul!(Φ_power_k_cache, Φ_power_k, Φ)\n",
    "        copy!(Φ_power_k, Φ_power_k_cache)\n",
    "    end\n",
    "end"
   ]
  },
  {
   "cell_type": "code",
   "execution_count": 47,
   "metadata": {},
   "outputs": [
    {
     "name": "stdout",
     "output_type": "stream",
     "text": [
      "  2.419 μs (2 allocations: 224 bytes)\n"
     ]
    }
   ],
   "source": [
    "@btime sequence_v5($Φ, $V0, $N)"
   ]
  },
  {
   "cell_type": "code",
   "execution_count": 48,
   "metadata": {},
   "outputs": [
    {
     "name": "stdout",
     "output_type": "stream",
     "text": [
      "  708.650 ns (2 allocations: 96 bytes)\n"
     ]
    }
   ],
   "source": [
    "@btime sequence_v5($Φm, $V0, $N)"
   ]
  },
  {
   "cell_type": "markdown",
   "metadata": {},
   "source": [
    "Next consider that we also make the matrix-vector products (but we don't store them in an array)."
   ]
  },
  {
   "cell_type": "code",
   "execution_count": 49,
   "metadata": {},
   "outputs": [
    {
     "data": {
      "text/plain": [
       "sequence_v6 (generic function with 1 method)"
      ]
     },
     "execution_count": 49,
     "metadata": {},
     "output_type": "execute_result"
    }
   ],
   "source": [
    "function sequence_v6(Φ::AbstractMatrix{NT}, V0::LT, N::Int) where {NT, LT<:LazySet{NT}}\n",
    "    V0mat = hcat(V0.vertices...)\n",
    "    ΦV0mat = similar(V0mat)\n",
    "    Φ_power_k = copy(Φ)\n",
    "    Φ_power_k_cache = similar(Φ)\n",
    "    @inbounds for i in 2:N\n",
    "        mul!(ΦV0mat, Φ_power_k, V0mat)\n",
    "        mul!(Φ_power_k_cache, Φ_power_k, Φ)\n",
    "        copy!(Φ_power_k, Φ_power_k_cache)\n",
    "    end\n",
    "end"
   ]
  },
  {
   "cell_type": "code",
   "execution_count": 50,
   "metadata": {},
   "outputs": [
    {
     "name": "stdout",
     "output_type": "stream",
     "text": [
      "  25.557 μs (8 allocations: 672 bytes)\n"
     ]
    }
   ],
   "source": [
    "@btime sequence_v6($Φ, $V0, $N)"
   ]
  },
  {
   "cell_type": "code",
   "execution_count": 51,
   "metadata": {},
   "outputs": [
    {
     "name": "stdout",
     "output_type": "stream",
     "text": [
      "  19.884 μs (404 allocations: 22.19 KiB)\n"
     ]
    }
   ],
   "source": [
    "@btime sequence_v6($Φm, $V0, $N)"
   ]
  },
  {
   "cell_type": "code",
   "execution_count": 52,
   "metadata": {},
   "outputs": [
    {
     "name": "stdout",
     "output_type": "stream",
     "text": [
      "  2.784 μs (6 allocations: 352 bytes)\n"
     ]
    }
   ],
   "source": [
    "# this one is much faster (!): uses mutable arrays both for Φ and for V0\n",
    "@btime sequence_v6($Φm, $V0m, $N)"
   ]
  },
  {
   "cell_type": "markdown",
   "metadata": {},
   "source": [
    "Next suppose that we want to store the results, so we have to transform them back to vector of vectors for storage in `VPolygon`. "
   ]
  },
  {
   "cell_type": "code",
   "execution_count": 53,
   "metadata": {},
   "outputs": [],
   "source": [
    "# we need to be able to create a polygon given a matrix, the following helper function is useful\n",
    "LazySets.VPolygon(M::AbstractMatrix{N}) where {N} = VPolygon([M[:, i] for i in 1:Base.size(M, 2)])\n",
    "\n",
    "#=\n",
    "# problem: the rhs doesn't know about VN\n",
    "LazySets.VPolygon(M::AbstractMatrix{N};\n",
    "         apply_convex_hull::Bool=true,\n",
    "         algorithm::String=\"monotone_chain\") where {N<:Real} =\n",
    "    VPolygon{N, Vector{N}}([M[:, i] for i in 1:Base.size(M, 2)];\n",
    "                     apply_convex_hull=apply_convex_hull,\n",
    "                     algorithm=algorithm)\n",
    "=#"
   ]
  },
  {
   "cell_type": "code",
   "execution_count": 54,
   "metadata": {},
   "outputs": [
    {
     "data": {
      "text/plain": [
       "sequence_v7 (generic function with 1 method)"
      ]
     },
     "execution_count": 54,
     "metadata": {},
     "output_type": "execute_result"
    }
   ],
   "source": [
    "function sequence_v7(Φ::AbstractMatrix{NT}, V0::LT, N::Int) where {NT, LT<:LazySet{NT}}\n",
    "    res = Vector{LT}(undef, N)\n",
    "    res[1] = V0\n",
    "\n",
    "    V0mat = hcat(V0.vertices...)\n",
    "    ΦV0mat = similar(V0mat)\n",
    "    Φ_power_k = copy(Φ)\n",
    "    Φ_power_k_cache = similar(Φ)\n",
    "    @inbounds for i in 2:N\n",
    "        mul!(ΦV0mat, Φ_power_k, V0mat)\n",
    "        res[i] = VPolygon(ΦV0mat)\n",
    "        #res[i] = VPolygon(ΦV0mat, apply_convex_hull=false)\n",
    "        mul!(Φ_power_k_cache, Φ_power_k, Φ)\n",
    "        copy!(Φ_power_k, Φ_power_k_cache)\n",
    "    end\n",
    "    return res\n",
    "end"
   ]
  },
  {
   "cell_type": "code",
   "execution_count": 55,
   "metadata": {},
   "outputs": [
    {
     "name": "stdout",
     "output_type": "stream",
     "text": [
      "  120.979 μs (1593 allocations: 108.27 KiB)\n"
     ]
    }
   ],
   "source": [
    "@btime sequence_v7($Φ, $V0, $N);"
   ]
  },
  {
   "cell_type": "code",
   "execution_count": 56,
   "metadata": {},
   "outputs": [
    {
     "name": "stdout",
     "output_type": "stream",
     "text": [
      "  103.634 μs (1989 allocations: 129.80 KiB)\n"
     ]
    }
   ],
   "source": [
    "@btime sequence_v7($Φm, $V0, $N);"
   ]
  },
  {
   "cell_type": "code",
   "execution_count": 57,
   "metadata": {},
   "outputs": [
    {
     "name": "stdout",
     "output_type": "stream",
     "text": [
      "  62.255 μs (1591 allocations: 83.20 KiB)\n"
     ]
    }
   ],
   "source": [
    "@btime sequence_v7($Φm, $V0m, $N);"
   ]
  },
  {
   "cell_type": "markdown",
   "metadata": {},
   "source": [
    "It would be interseting to check the overhead in computing the convex hulls upon construction."
   ]
  },
  {
   "cell_type": "markdown",
   "metadata": {},
   "source": [
    "Seems like \"most\" of the time is spent building the `VPolygon`. Let us suppose that we have a `VPolygon` version that stores the vertices in matrix format."
   ]
  },
  {
   "cell_type": "code",
   "execution_count": 58,
   "metadata": {},
   "outputs": [
    {
     "data": {
      "text/plain": [
       "sequence_v8 (generic function with 1 method)"
      ]
     },
     "execution_count": 58,
     "metadata": {},
     "output_type": "execute_result"
    }
   ],
   "source": [
    "function sequence_v8(Φ::AbstractMatrix{NT}, V0::LT, N::Int) where {NT, LT<:LazySet{NT}}\n",
    "    V0mat = hcat(V0.vertices...)\n",
    "    ΦV0mat = similar(V0mat)\n",
    "\n",
    "    res = Vector{typeof(V0mat)}()\n",
    "    push!(res, V0mat)\n",
    "\n",
    "    Φ_power_k = copy(Φ)\n",
    "    Φ_power_k_cache = similar(Φ)\n",
    "    @inbounds for i in 2:N\n",
    "        mul!(ΦV0mat, Φ_power_k, V0mat)\n",
    "        push!(res, ΦV0mat)\n",
    "        mul!(Φ_power_k_cache, Φ_power_k, Φ)\n",
    "        copy!(Φ_power_k, Φ_power_k_cache)\n",
    "    end\n",
    "    return res\n",
    "end"
   ]
  },
  {
   "cell_type": "code",
   "execution_count": 59,
   "metadata": {},
   "outputs": [
    {
     "name": "stdout",
     "output_type": "stream",
     "text": [
      "  34.575 μs (15 allocations: 2.86 KiB)\n"
     ]
    }
   ],
   "source": [
    "@btime sequence_v8($Φ, $V0, $N);"
   ]
  },
  {
   "cell_type": "code",
   "execution_count": 60,
   "metadata": {},
   "outputs": [
    {
     "name": "stdout",
     "output_type": "stream",
     "text": [
      "  27.895 μs (411 allocations: 24.39 KiB)\n"
     ]
    }
   ],
   "source": [
    "@btime sequence_v8($Φm, $V0, $N);"
   ]
  },
  {
   "cell_type": "code",
   "execution_count": 61,
   "metadata": {},
   "outputs": [
    {
     "name": "stdout",
     "output_type": "stream",
     "text": [
      "  9.542 μs (13 allocations: 2.55 KiB)\n"
     ]
    }
   ],
   "source": [
    "@btime sequence_v8($Φm, $V0m, $N);"
   ]
  },
  {
   "cell_type": "markdown",
   "metadata": {},
   "source": [
    "Let's define this new `LazySet` type and adapt `sequence_v8` accordingly:"
   ]
  },
  {
   "cell_type": "code",
   "execution_count": 62,
   "metadata": {},
   "outputs": [],
   "source": [
    "# each column represents a point of the polygon\n",
    "struct VPolygonM{N<:Real, MN<:AbstractMatrix{N}} <: AbstractPolygon{N}\n",
    "    vertices::MN\n",
    "\n",
    "    # default constructor that applies a convex hull algorithm\n",
    "    function VPolygonM(vertices::MN;\n",
    "                         apply_convex_hull::Bool=true,\n",
    "                         algorithm::String=\"monotone_chain\") where {N<:Real, MN<:AbstractMatrix{N}}\n",
    "        #if apply_convex_hull\n",
    "        #    vlist = [vertices[:, i] for i in 1:Base.size(vertices, 2)]\n",
    "        #    return new{N, MN}(convex_hull(vlist, algorithm=algorithm))\n",
    "        #else\n",
    "            return new{N, MN}(vertices)\n",
    "        #end\n",
    "    end\n",
    "end"
   ]
  },
  {
   "cell_type": "code",
   "execution_count": 63,
   "metadata": {},
   "outputs": [
    {
     "data": {
      "text/plain": [
       "sequence_v9 (generic function with 1 method)"
      ]
     },
     "execution_count": 63,
     "metadata": {},
     "output_type": "execute_result"
    }
   ],
   "source": [
    "function sequence_v9(Φ::AbstractMatrix{NT}, V0::LT, N::Int) where {NT, LT<:LazySet{NT}}\n",
    "    ΦV0mat = similar(V0.vertices)\n",
    "\n",
    "    res = Vector{typeof(V0)}()\n",
    "    push!(res, V0)\n",
    "\n",
    "    Φ_power_k = copy(Φ)\n",
    "    Φ_power_k_cache = similar(Φ)\n",
    "    @inbounds for i in 2:N\n",
    "        mul!(ΦV0mat, Φ_power_k, V0.vertices)\n",
    "        push!(res, VPolygonM(copy(ΦV0mat)))\n",
    "        mul!(Φ_power_k_cache, Φ_power_k, Φ)\n",
    "        copy!(Φ_power_k, Φ_power_k_cache)\n",
    "    end\n",
    "    return res\n",
    "end"
   ]
  },
  {
   "cell_type": "code",
   "execution_count": 64,
   "metadata": {},
   "outputs": [
    {
     "data": {
      "text/plain": [
       "2×4 Array{Float64,2}:\n",
       " 0.8  1.0  1.2  1.0\n",
       " 1.0  0.8  1.0  1.2"
      ]
     },
     "execution_count": 64,
     "metadata": {},
     "output_type": "execute_result"
    }
   ],
   "source": [
    "hcat(V0.vertices...)"
   ]
  },
  {
   "cell_type": "code",
   "execution_count": 65,
   "metadata": {},
   "outputs": [
    {
     "data": {
      "text/plain": [
       "VPolygonM{Float64,Array{Float64,2}}([0.8 1.0 1.2 1.0; 1.0 0.8 1.0 1.2])"
      ]
     },
     "execution_count": 65,
     "metadata": {},
     "output_type": "execute_result"
    }
   ],
   "source": [
    "V0M = VPolygonM(hcat(V0.vertices...))"
   ]
  },
  {
   "cell_type": "code",
   "execution_count": 66,
   "metadata": {},
   "outputs": [
    {
     "name": "stdout",
     "output_type": "stream",
     "text": [
      "  23.409 μs (604 allocations: 39.56 KiB)\n"
     ]
    }
   ],
   "source": [
    "@btime sequence_v9($Φm, $V0M, $N);"
   ]
  },
  {
   "cell_type": "code",
   "execution_count": 67,
   "metadata": {},
   "outputs": [
    {
     "data": {
      "text/plain": [
       "VPolygonM{Float64,MArray{Tuple{2,4},Float64,2,8}}([0.8 1.0 1.2 1.0; 1.0 0.8 1.0 1.2])"
      ]
     },
     "execution_count": 67,
     "metadata": {},
     "output_type": "execute_result"
    }
   ],
   "source": [
    "V0mM = VPolygonM(hcat(V0m.vertices...))"
   ]
  },
  {
   "cell_type": "code",
   "execution_count": 68,
   "metadata": {},
   "outputs": [
    {
     "name": "stdout",
     "output_type": "stream",
     "text": [
      "  3.781 μs (207 allocations: 11.58 KiB)\n"
     ]
    }
   ],
   "source": [
    "@btime sequence_v9($Φm, $V0mM, $N);"
   ]
  },
  {
   "cell_type": "code",
   "execution_count": 69,
   "metadata": {},
   "outputs": [
    {
     "data": {
      "text/plain": [
       "VPolygonM{Float64,MArray{Tuple{2,4},Float64,2,8}}([0.8 1.0 1.2 1.0; 1.0 0.8 1.0 1.2])"
      ]
     },
     "execution_count": 69,
     "metadata": {},
     "output_type": "execute_result"
    }
   ],
   "source": [
    "V0mM"
   ]
  },
  {
   "cell_type": "markdown",
   "metadata": {},
   "source": [
    "A sanity check:"
   ]
  },
  {
   "cell_type": "code",
   "execution_count": 70,
   "metadata": {},
   "outputs": [],
   "source": [
    "res_v9 = sequence_v9(Φm, V0mM, N);"
   ]
  },
  {
   "cell_type": "code",
   "execution_count": 71,
   "metadata": {},
   "outputs": [
    {
     "data": {
      "text/plain": [
       "2×4 MArray{Tuple{2,4},Float64,2,8}:\n",
       " 0.8  1.0  1.2  1.0\n",
       " 1.0  0.8  1.0  1.2"
      ]
     },
     "execution_count": 71,
     "metadata": {},
     "output_type": "execute_result"
    }
   ],
   "source": [
    "res_v9[1].vertices"
   ]
  },
  {
   "cell_type": "code",
   "execution_count": 72,
   "metadata": {},
   "outputs": [
    {
     "data": {
      "text/plain": [
       "2×4 MArray{Tuple{2,4},Float64,2,8}:\n",
       " 0.725  0.904  1.085  0.906\n",
       " 1.0    0.8    1.0    1.2  "
      ]
     },
     "execution_count": 72,
     "metadata": {},
     "output_type": "execute_result"
    }
   ],
   "source": [
    "res_v9[2].vertices"
   ]
  },
  {
   "cell_type": "code",
   "execution_count": 73,
   "metadata": {},
   "outputs": [
    {
     "data": {
      "text/plain": [
       "2×4 MArray{Tuple{2,4},Float64,2,8}:\n",
       " 0.24064  0.284019  0.342315  0.298935\n",
       " 1.0      0.8       1.0       1.2     "
      ]
     },
     "execution_count": 73,
     "metadata": {},
     "output_type": "execute_result"
    }
   ],
   "source": [
    "res_v9[14].vertices"
   ]
  },
  {
   "cell_type": "code",
   "execution_count": 74,
   "metadata": {},
   "outputs": [],
   "source": [
    "res_v1 = sequence_v1(Φ, V0, N);"
   ]
  },
  {
   "cell_type": "code",
   "execution_count": 75,
   "metadata": {},
   "outputs": [
    {
     "data": {
      "text/plain": [
       "2×4 Array{Float64,2}:\n",
       " 0.8  1.0  1.2  1.0\n",
       " 1.0  0.8  1.0  1.2"
      ]
     },
     "execution_count": 75,
     "metadata": {},
     "output_type": "execute_result"
    }
   ],
   "source": [
    "hcat(res_v1[1].vertices...)"
   ]
  },
  {
   "cell_type": "code",
   "execution_count": 76,
   "metadata": {},
   "outputs": [
    {
     "data": {
      "text/plain": [
       "2×4 Array{Float64,2}:\n",
       " 0.725  0.904  1.085  0.906\n",
       " 1.0    0.8    1.0    1.2  "
      ]
     },
     "execution_count": 76,
     "metadata": {},
     "output_type": "execute_result"
    }
   ],
   "source": [
    "hcat(res_v1[2].vertices...)"
   ]
  },
  {
   "cell_type": "code",
   "execution_count": 77,
   "metadata": {},
   "outputs": [],
   "source": [
    "res_v2 = sequence_v2(Φ, V0, N);"
   ]
  },
  {
   "cell_type": "code",
   "execution_count": 78,
   "metadata": {},
   "outputs": [
    {
     "data": {
      "text/plain": [
       "2×4 Array{Float64,2}:\n",
       " 0.725  0.904  1.085  0.906\n",
       " 1.0    0.8    1.0    1.2  "
      ]
     },
     "execution_count": 78,
     "metadata": {},
     "output_type": "execute_result"
    }
   ],
   "source": [
    "hcat(res_v2[2].vertices...)"
   ]
  },
  {
   "cell_type": "code",
   "execution_count": 79,
   "metadata": {},
   "outputs": [
    {
     "data": {
      "text/plain": [
       "2×4 Array{Float64,2}:\n",
       " 0.24064  0.284019  0.342315  0.298935\n",
       " 1.0      0.8       1.0       1.2     "
      ]
     },
     "execution_count": 79,
     "metadata": {},
     "output_type": "execute_result"
    }
   ],
   "source": [
    "hcat(res_v2[14].vertices...)"
   ]
  },
  {
   "cell_type": "code",
   "execution_count": 80,
   "metadata": {},
   "outputs": [
    {
     "data": {
      "text/plain": [
       "4-element Array{MArray{Tuple{2},Float64,1,2},1}:\n",
       " [0.725, 1.0]\n",
       " [0.904, 0.8]\n",
       " [1.085, 1.0]\n",
       " [0.906, 1.2]"
      ]
     },
     "execution_count": 80,
     "metadata": {},
     "output_type": "execute_result"
    }
   ],
   "source": [
    "[res_v9[2].vertices[:, i] for i in 1:4]"
   ]
  },
  {
   "cell_type": "code",
   "execution_count": 81,
   "metadata": {},
   "outputs": [
    {
     "data": {
      "text/plain": [
       "4-element Array{MArray{Tuple{2},Float64,1,2},1}:\n",
       " [0.725, 1.0]\n",
       " [0.904, 0.8]\n",
       " [1.085, 1.0]\n",
       " [0.906, 1.2]"
      ]
     },
     "execution_count": 81,
     "metadata": {},
     "output_type": "execute_result"
    }
   ],
   "source": [
    "convex_hull([res_v9[2].vertices[:, i] for i in 1:4])"
   ]
  },
  {
   "cell_type": "code",
   "execution_count": 82,
   "metadata": {},
   "outputs": [
    {
     "data": {
      "text/plain": [
       "2×2 MArray{Tuple{2,2},Float64,2,4}:\n",
       " 0.9  0.005\n",
       " 0.0  1.0  "
      ]
     },
     "execution_count": 82,
     "metadata": {},
     "output_type": "execute_result"
    }
   ],
   "source": [
    "Φ_power_k = copy(Φm)"
   ]
  },
  {
   "cell_type": "code",
   "execution_count": 84,
   "metadata": {},
   "outputs": [
    {
     "data": {
      "text/plain": [
       "2×4 MArray{Tuple{2,4},Float64,2,8}:\n",
       " 2.35934e-314  2.77248e-318  0.0  0.676734\n",
       " 0.0           0.0           1.0  1.2     "
      ]
     },
     "execution_count": 84,
     "metadata": {},
     "output_type": "execute_result"
    }
   ],
   "source": [
    "ΦV0mat = similar(V0mM.vertices)"
   ]
  },
  {
   "cell_type": "code",
   "execution_count": 89,
   "metadata": {},
   "outputs": [],
   "source": [
    "res_v9 = sequence_v9(Φm, V0mM, N);"
   ]
  },
  {
   "cell_type": "code",
   "execution_count": 90,
   "metadata": {},
   "outputs": [],
   "source": [
    "res_v2 = sequence_v2(Φ, V0, N);"
   ]
  },
  {
   "cell_type": "code",
   "execution_count": 96,
   "metadata": {},
   "outputs": [
    {
     "data": {
      "text/plain": [
       "false"
      ]
     },
     "execution_count": 96,
     "metadata": {},
     "output_type": "execute_result"
    }
   ],
   "source": [
    "all([res_v9[i].vertices == hcat(res_v2[i].vertices...) for i in 1:length(res_v9)])"
   ]
  },
  {
   "cell_type": "code",
   "execution_count": 101,
   "metadata": {},
   "outputs": [
    {
     "data": {
      "text/plain": [
       "false"
      ]
     },
     "execution_count": 101,
     "metadata": {},
     "output_type": "execute_result"
    }
   ],
   "source": [
    "res_v9[50].vertices == hcat(res_v2[50].vertices...)"
   ]
  },
  {
   "cell_type": "code",
   "execution_count": 102,
   "metadata": {},
   "outputs": [
    {
     "data": {
      "text/plain": [
       "2×4 MArray{Tuple{2,4},Float64,2,8}:\n",
       " 0.0542948  0.0454974  0.0565854  0.0653828\n",
       " 1.0        0.8        1.0        1.2      "
      ]
     },
     "execution_count": 102,
     "metadata": {},
     "output_type": "execute_result"
    }
   ],
   "source": [
    "res_v9[50].vertices"
   ]
  },
  {
   "cell_type": "code",
   "execution_count": 103,
   "metadata": {},
   "outputs": [
    {
     "data": {
      "text/plain": [
       "2×4 Array{Float64,2}:\n",
       " 0.0454974  0.0565854  0.0653828  0.0542948\n",
       " 0.8        1.0        1.2        1.0      "
      ]
     },
     "execution_count": 103,
     "metadata": {},
     "output_type": "execute_result"
    }
   ],
   "source": [
    "hcat(res_v2[50].vertices...)"
   ]
  },
  {
   "cell_type": "markdown",
   "metadata": {},
   "source": [
    "Changing the representation to `VPolygonM` has the advantage that we can use a mutable static array for the polygons matrix as well. This makes computations much faster. The downside is that the vertices list is not sorted in counter-clockwise fashion.\n",
    "\n",
    "With a fast implementation of the convex hull of polygons with four vertices the difference one expects that `VPolygonM` is also fast when the vertices are sorted."
   ]
  },
  {
   "cell_type": "markdown",
   "metadata": {},
   "source": [
    "## Using mutable statically sized arrays with VPolygon"
   ]
  },
  {
   "cell_type": "markdown",
   "metadata": {},
   "source": [
    "In an attempt to understand the difference between using convex hull or not, and using `MArray`'s, consider the following experiment which is a combination of `v3` and `v9`. We will modify `v3` such that it can use `MArray` and convert back to `VPolygon`. "
   ]
  },
  {
   "cell_type": "code",
   "execution_count": 144,
   "metadata": {},
   "outputs": [
    {
     "data": {
      "text/plain": [
       "sequence_v10 (generic function with 1 method)"
      ]
     },
     "execution_count": 144,
     "metadata": {},
     "output_type": "execute_result"
    }
   ],
   "source": [
    "# based on v3 and v9\n",
    "function sequence_v10(Φ::AbstractMatrix{NT}, V0::LT, N::Int; apply_convex_hull=true) where {NT, LT<:LazySet{NT}}\n",
    "    V0mat = hcat(V0.vertices...)\n",
    "    ΦV0mat = similar(V0mat)\n",
    "\n",
    "    res = Vector{typeof(V0)}()\n",
    "    push!(res, V0)\n",
    "\n",
    "    Φ_power_k = copy(Φ)\n",
    "    Φ_power_k_cache = similar(Φ)\n",
    "    @inbounds for i in 2:N\n",
    "        mul!(ΦV0mat, Φ_power_k, V0mat)\n",
    "        push!(res, VPolygon([ΦV0mat[:, i] for i in 1:4], apply_convex_hull=apply_convex_hull))\n",
    "        mul!(Φ_power_k_cache, Φ_power_k, Φ)\n",
    "        copy!(Φ_power_k, Φ_power_k_cache)\n",
    "    end\n",
    "    return res\n",
    "end"
   ]
  },
  {
   "cell_type": "code",
   "execution_count": 142,
   "metadata": {},
   "outputs": [
    {
     "name": "stdout",
     "output_type": "stream",
     "text": [
      "  91.260 μs (1696 allocations: 86.08 KiB)\n"
     ]
    }
   ],
   "source": [
    "@btime sequence_v10($Φm, $V0m, $N);"
   ]
  },
  {
   "cell_type": "code",
   "execution_count": 146,
   "metadata": {},
   "outputs": [
    {
     "name": "stdout",
     "output_type": "stream",
     "text": [
      "  48.105 μs (904 allocations: 33.48 KiB)\n"
     ]
    }
   ],
   "source": [
    "@btime sequence_v10($Φm, $V0m, $N, apply_convex_hull=false);"
   ]
  },
  {
   "cell_type": "code",
   "execution_count": 120,
   "metadata": {},
   "outputs": [
    {
     "data": {
      "text/plain": [
       "VPolygon{Float64,MArray{Tuple{2},Float64,1,2}}(MArray{Tuple{2},Float64,1,2}[[0.8, 1.0], [1.0, 0.8], [1.2, 1.0], [1.0, 1.2]])"
      ]
     },
     "execution_count": 120,
     "metadata": {},
     "output_type": "execute_result"
    }
   ],
   "source": [
    "res_10 = sequence_v10(Φm, V0m, N);"
   ]
  }
 ],
 "metadata": {
  "@webio": {
   "lastCommId": null,
   "lastKernelId": null
  },
  "kernelspec": {
   "display_name": "Julia 1.1.0-rc2",
   "language": "julia",
   "name": "julia-1.1"
  },
  "language_info": {
   "file_extension": ".jl",
   "mimetype": "application/julia",
   "name": "julia",
   "version": "1.1.0"
  }
 },
 "nbformat": 4,
 "nbformat_minor": 2
}
