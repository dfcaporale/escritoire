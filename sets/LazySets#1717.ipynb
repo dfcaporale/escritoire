{
 "cells": [
  {
   "cell_type": "code",
   "execution_count": 1,
   "metadata": {},
   "outputs": [
    {
     "name": "stderr",
     "output_type": "stream",
     "text": [
      "┌ Info: Recompiling stale cache file /home/mforets/.julia/compiled/v1.2/LazySets/NjrGc.ji for LazySets [b4f0291d-fe17-52bc-9479-3d1a343d9043]\n",
      "└ @ Base loading.jl:1240\n"
     ]
    }
   ],
   "source": [
    "using LazySets, LinearAlgebra, SparseArrays, Random, BenchmarkTools"
   ]
  },
  {
   "cell_type": "code",
   "execution_count": 2,
   "metadata": {},
   "outputs": [
    {
     "data": {
      "text/plain": [
       "tridiagm (generic function with 1 method)"
      ]
     },
     "execution_count": 2,
     "metadata": {},
     "output_type": "execute_result"
    }
   ],
   "source": [
    "CONCRETE_SETS = (BallInf, Hyperrectangle)\n",
    "DIMS_LOW = (2, 5, 10)\n",
    "\n",
    "# generate a tridiagonal matrix\n",
    "function tridiagm(a, b, c, n)\n",
    "    dd, du = ones(n), ones(n - 1)\n",
    "    b*diagm(0 => dd) + a*diagm(-1 => du) + c*diagm(1 => du)\n",
    "end"
   ]
  },
  {
   "cell_type": "code",
   "execution_count": 4,
   "metadata": {},
   "outputs": [
    {
     "data": {
      "text/plain": [
       "bench (generic function with 1 method)"
      ]
     },
     "execution_count": 4,
     "metadata": {},
     "output_type": "execute_result"
    }
   ],
   "source": [
    "function bench()\n",
    "    for set_type in CONCRETE_SETS\n",
    "        for n in DIMS_LOW\n",
    "            rng = MersenneTwister(n)\n",
    "            d = rand(rng, n)\n",
    "            X = rand(set_type, dim=n, rng=rng)\n",
    "            print(\"$set_type, $n  \")\n",
    "\n",
    "            print(\"\\n    ρ(d, X) : \", @benchmark ρ($d, $X))\n",
    "            print(\"\\n    σ(d, X) : \", @benchmark σ($d, $X))\n",
    "            print(\"\\n\")\n",
    "\n",
    "            A = tridiagm(1, -2, 0.5, n)\n",
    "            Y = A * X\n",
    "            print(\"\\n    ρ(d, A*X) : \", @benchmark ρ($d, $Y))\n",
    "            print(\"\\n    σ(d, A*X) : \", @benchmark σ($d, $Y))\n",
    "            print(\"\\n\\n\")\n",
    "        end\n",
    "    end\n",
    "end"
   ]
  },
  {
   "cell_type": "code",
   "execution_count": 4,
   "metadata": {},
   "outputs": [
    {
     "name": "stdout",
     "output_type": "stream",
     "text": [
      "BallInf, 2  \n",
      "    ρ(d, X) : Trial(5.153 ns)\n",
      "    σ(d, X) : Trial(31.009 ns)\n",
      "\n",
      "    ρ(d, A*X) : Trial(54.331 ns)\n",
      "    σ(d, A*X) : Trial(131.384 ns)\n",
      "\n",
      "BallInf, 5  \n",
      "    ρ(d, X) : Trial(7.348 ns)\n",
      "    σ(d, X) : Trial(33.624 ns)\n",
      "\n",
      "    ρ(d, A*X) : Trial(73.985 ns)\n",
      "    σ(d, A*X) : Trial(162.685 ns)\n",
      "\n",
      "BallInf, 10  \n",
      "    ρ(d, X) : Trial(11.014 ns)\n",
      "    σ(d, X) : Trial(38.650 ns)\n",
      "\n",
      "    ρ(d, A*X) : Trial(93.612 ns)\n",
      "    σ(d, A*X) : Trial(194.706 ns)\n",
      "\n",
      "Hyperrectangle, 2  \n",
      "    ρ(d, X) : Trial(5.648 ns)\n",
      "    σ(d, X) : Trial(32.527 ns)\n",
      "\n",
      "    ρ(d, A*X) : Trial(54.838 ns)\n",
      "    σ(d, A*X) : Trial(132.438 ns)\n",
      "\n",
      "Hyperrectangle, 5  \n",
      "    ρ(d, X) : Trial(8.570 ns)\n",
      "    σ(d, X) : Trial(35.221 ns)\n",
      "\n",
      "    ρ(d, A*X) : Trial(74.278 ns)\n",
      "    σ(d, A*X) : Trial(163.702 ns)\n",
      "\n",
      "Hyperrectangle, 10  \n",
      "    ρ(d, X) : Trial(13.452 ns)\n",
      "    σ(d, X) : Trial(40.510 ns)\n",
      "\n",
      "    ρ(d, A*X) : Trial(98.156 ns)\n",
      "    σ(d, A*X) : Trial(202.820 ns)\n",
      "\n"
     ]
    }
   ],
   "source": [
    "bench() # master"
   ]
  },
  {
   "cell_type": "code",
   "execution_count": 5,
   "metadata": {},
   "outputs": [
    {
     "name": "stdout",
     "output_type": "stream",
     "text": [
      "BallInf, 2  \n",
      "    ρ(d, X) : Trial(5.154 ns)\n",
      "    σ(d, X) : Trial(31.106 ns)\n",
      "\n",
      "    ρ(d, A*X) : Trial(54.586 ns)\n",
      "    σ(d, A*X) : Trial(131.542 ns)\n",
      "\n",
      "BallInf, 5  \n",
      "    ρ(d, X) : Trial(7.352 ns)\n",
      "    σ(d, X) : Trial(33.663 ns)\n",
      "\n",
      "    ρ(d, A*X) : Trial(73.711 ns)\n",
      "    σ(d, A*X) : Trial(162.354 ns)\n",
      "\n",
      "BallInf, 10  \n",
      "    ρ(d, X) : Trial(12.554 ns)\n",
      "    σ(d, X) : Trial(38.520 ns)\n",
      "\n",
      "    ρ(d, A*X) : Trial(93.345 ns)\n",
      "    σ(d, A*X) : Trial(194.308 ns)\n",
      "\n",
      "Hyperrectangle, 2  \n",
      "    ρ(d, X) : Trial(5.648 ns)\n",
      "    σ(d, X) : Trial(32.622 ns)\n",
      "\n",
      "    ρ(d, A*X) : Trial(55.108 ns)\n",
      "    σ(d, A*X) : Trial(131.976 ns)\n",
      "\n",
      "Hyperrectangle, 5  \n",
      "    ρ(d, X) : Trial(8.574 ns)\n",
      "    σ(d, X) : Trial(35.710 ns)\n",
      "\n",
      "    ρ(d, A*X) : Trial(74.428 ns)\n",
      "    σ(d, A*X) : Trial(162.481 ns)\n",
      "\n",
      "Hyperrectangle, 10  \n",
      "    ρ(d, X) : Trial(13.452 ns)\n",
      "    σ(d, X) : Trial(41.642 ns)\n",
      "\n",
      "    ρ(d, A*X) : Trial(94.157 ns)\n",
      "    σ(d, A*X) : Trial(197.347 ns)\n",
      "\n"
     ]
    }
   ],
   "source": [
    "bench() # master, again"
   ]
  },
  {
   "cell_type": "code",
   "execution_count": 5,
   "metadata": {},
   "outputs": [
    {
     "name": "stdout",
     "output_type": "stream",
     "text": [
      "BallInf, 2  \n",
      "    ρ(d, X) : Trial(5.156 ns)\n",
      "    σ(d, X) : Trial(30.824 ns)\n",
      "\n",
      "    ρ(d, A*X) : Trial(54.513 ns)\n",
      "    σ(d, A*X) : Trial(131.096 ns)\n",
      "\n",
      "BallInf, 5  \n",
      "    ρ(d, X) : Trial(7.345 ns)\n",
      "    σ(d, X) : Trial(33.322 ns)\n",
      "\n",
      "    ρ(d, A*X) : Trial(73.586 ns)\n",
      "    σ(d, A*X) : Trial(162.421 ns)\n",
      "\n",
      "BallInf, 10  \n",
      "    ρ(d, X) : Trial(11.268 ns)\n",
      "    σ(d, X) : Trial(38.453 ns)\n",
      "\n",
      "    ρ(d, A*X) : Trial(93.454 ns)\n",
      "    σ(d, A*X) : Trial(196.013 ns)\n",
      "\n",
      "Hyperrectangle, 2  \n",
      "    ρ(d, X) : Trial(5.639 ns)\n",
      "    σ(d, X) : Trial(32.690 ns)\n",
      "\n",
      "    ρ(d, A*X) : Trial(55.705 ns)\n",
      "    σ(d, A*X) : Trial(133.965 ns)\n",
      "\n",
      "Hyperrectangle, 5  \n",
      "    ρ(d, X) : Trial(8.576 ns)\n",
      "    σ(d, X) : Trial(36.334 ns)\n",
      "\n",
      "    ρ(d, A*X) : Trial(73.898 ns)\n",
      "    σ(d, A*X) : Trial(163.126 ns)\n",
      "\n",
      "Hyperrectangle, 10  \n",
      "    ρ(d, X) : Trial(13.461 ns)\n",
      "    σ(d, X) : Trial(41.013 ns)\n",
      "\n",
      "    ρ(d, A*X) : Trial(94.180 ns)\n",
      "    σ(d, A*X) : Trial(197.805 ns)\n",
      "\n"
     ]
    }
   ],
   "source": [
    "bench() # schillic/1214"
   ]
  },
  {
   "cell_type": "code",
   "execution_count": 6,
   "metadata": {},
   "outputs": [
    {
     "name": "stdout",
     "output_type": "stream",
     "text": [
      "BallInf, 2  \n",
      "    ρ(d, X) : Trial(5.155 ns)\n",
      "    σ(d, X) : Trial(32.728 ns)\n",
      "\n",
      "    ρ(d, A*X) : Trial(54.009 ns)\n",
      "    σ(d, A*X) : Trial(130.828 ns)\n",
      "\n",
      "BallInf, 5  \n",
      "    ρ(d, X) : Trial(7.725 ns)\n",
      "    σ(d, X) : Trial(34.159 ns)\n",
      "\n",
      "    ρ(d, A*X) : Trial(73.934 ns)\n",
      "    σ(d, A*X) : Trial(161.413 ns)\n",
      "\n",
      "BallInf, 10  \n",
      "    ρ(d, X) : Trial(11.010 ns)\n",
      "    σ(d, X) : Trial(38.433 ns)\n",
      "\n",
      "    ρ(d, A*X) : Trial(97.807 ns)\n",
      "    σ(d, A*X) : Trial(201.350 ns)\n",
      "\n",
      "Hyperrectangle, 2  \n",
      "    ρ(d, X) : Trial(5.640 ns)\n",
      "    σ(d, X) : Trial(32.744 ns)\n",
      "\n",
      "    ρ(d, A*X) : Trial(55.970 ns)\n",
      "    σ(d, A*X) : Trial(133.916 ns)\n",
      "\n",
      "Hyperrectangle, 5  \n",
      "    ρ(d, X) : Trial(8.573 ns)\n",
      "    σ(d, X) : Trial(35.257 ns)\n",
      "\n",
      "    ρ(d, A*X) : Trial(74.161 ns)\n",
      "    σ(d, A*X) : Trial(163.337 ns)\n",
      "\n",
      "Hyperrectangle, 10  \n",
      "    ρ(d, X) : Trial(13.459 ns)\n",
      "    σ(d, X) : Trial(41.059 ns)\n",
      "\n",
      "    ρ(d, A*X) : Trial(93.894 ns)\n",
      "    σ(d, A*X) : Trial(197.375 ns)\n",
      "\n"
     ]
    }
   ],
   "source": [
    "bench() # schillic/1214, again"
   ]
  }
 ],
 "metadata": {
  "kernelspec": {
   "display_name": "Julia 1.2.0",
   "language": "julia",
   "name": "julia-1.2"
  },
  "language_info": {
   "file_extension": ".jl",
   "mimetype": "application/julia",
   "name": "julia",
   "version": "1.2.0"
  }
 },
 "nbformat": 4,
 "nbformat_minor": 2
}
