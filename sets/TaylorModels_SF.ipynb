{
 "cells": [
  {
   "cell_type": "markdown",
   "metadata": {},
   "source": [
    "## References\n",
    "\n",
    "- http://www.juliaopt.org/SumOfSquares.jl/latest/\n",
    "- https://www.cs.colorado.edu/~xich8622/papers/thesis.pdf"
   ]
  },
  {
   "cell_type": "markdown",
   "metadata": {},
   "source": [
    "## Support function of an interval"
   ]
  },
  {
   "cell_type": "markdown",
   "metadata": {},
   "source": [
    "In this section, as a proof-of-principle, we compute the support function of an interval using SOS."
   ]
  },
  {
   "cell_type": "code",
   "execution_count": 5,
   "metadata": {},
   "outputs": [],
   "source": [
    "using SumOfSquares, DynamicPolynomials, MosekTools, TaylorModels, Plots"
   ]
  },
  {
   "cell_type": "markdown",
   "metadata": {},
   "source": [
    "The support function of a set $X$ along direction $d$ is defined as the solution of the optimization problem:\n",
    "\n",
    "$$\n",
    "\\rho(d, X) = \\max \\langle d, x \\rangle \\qquad s.t. x \\in X.\n",
    "$$\n",
    "It represents how much the set $X$ is placed along direction $d$."
   ]
  },
  {
   "cell_type": "code",
   "execution_count": null,
   "metadata": {},
   "outputs": [],
   "source": [
    "function sf(d::Vector, X::Interval)\n",
    "    model = SOSModel(with_optimizer(Mosek.Optimizer, QUIET=true))\n",
    "    @variable(model, x[1])\n",
    "    @constraint(model, inf(X) <= x[1])\n",
    "    @constraint(model, x[1] <= sup(X))\n",
    "    @objective(model, Max, d[1] * x[1])\n",
    "    optimize!(model)\n",
    "    \n",
    "    return objective_value(model)\n",
    "end"
   ]
  },
  {
   "cell_type": "markdown",
   "metadata": {},
   "source": [
    "Let's consider an example:"
   ]
  },
  {
   "cell_type": "code",
   "execution_count": null,
   "metadata": {},
   "outputs": [],
   "source": [
    "X = Interval(-2.0, 7.0)"
   ]
  },
  {
   "cell_type": "code",
   "execution_count": null,
   "metadata": {},
   "outputs": [],
   "source": [
    "sf([1.0], X)"
   ]
  },
  {
   "cell_type": "code",
   "execution_count": null,
   "metadata": {},
   "outputs": [],
   "source": [
    "sf([-1.0], X)"
   ]
  },
  {
   "cell_type": "markdown",
   "metadata": {},
   "source": [
    "## Support function of a TaylorModel1"
   ]
  },
  {
   "cell_type": "markdown",
   "metadata": {},
   "source": [
    "Now we consider the more general case of a univariate taylor model.\n",
    "\n",
    "The set defined by a TM is $S := \\{ x : x = p(x_0) + y \\wedge x_0 \\in \\textrm{dom(TM)} \\wedge y \\in \\textrm{rem(TM)}\\}$."
   ]
  },
  {
   "cell_type": "markdown",
   "metadata": {},
   "source": [
    "We would like to compute $\\max \\langle d, x\\rangle$, such that $x \\in S$, where $S$ is the range of the taylor model."
   ]
  },
  {
   "cell_type": "markdown",
   "metadata": {},
   "source": [
    "To fix ideas, consider the following example."
   ]
  },
  {
   "cell_type": "code",
   "execution_count": 6,
   "metadata": {},
   "outputs": [
    {
     "data": {
      "text/plain": [
       " 1.0 + 1.0 t + 1.0 t² + 𝒪(t⁷)"
      ]
     },
     "execution_count": 6,
     "metadata": {},
     "output_type": "execute_result"
    }
   ],
   "source": [
    "p = Taylor1([1.0, 1.0, 1.0], 6)"
   ]
  },
  {
   "cell_type": "code",
   "execution_count": 7,
   "metadata": {},
   "outputs": [
    {
     "data": {
      "text/plain": [
       " 1.0 + 1.0 t + 1.0 t² + [-0.100001, 0.100001]"
      ]
     },
     "execution_count": 7,
     "metadata": {},
     "output_type": "execute_result"
    }
   ],
   "source": [
    "rem = Interval(-0.1, 0.1)\n",
    "x0 = Interval(0, 0)\n",
    "dom = Interval(-2.0, 2.0)\n",
    "X = TaylorModel1(p, rem, x0, dom)"
   ]
  },
  {
   "cell_type": "code",
   "execution_count": 8,
   "metadata": {},
   "outputs": [
    {
     "data": {
      "image/svg+xml": [
       "<?xml version=\"1.0\" encoding=\"utf-8\"?>\n",
       "<svg xmlns=\"http://www.w3.org/2000/svg\" xmlns:xlink=\"http://www.w3.org/1999/xlink\" width=\"600\" height=\"400\" viewBox=\"0 0 2400 1600\">\n",
       "<defs>\n",
       "  <clipPath id=\"clip9200\">\n",
       "    <rect x=\"0\" y=\"0\" width=\"2400\" height=\"1600\"/>\n",
       "  </clipPath>\n",
       "</defs>\n",
       "<polygon clip-path=\"url(#clip9200)\" points=\"\n",
       "0,1600 2400,1600 2400,0 0,0 \n",
       "  \" fill=\"#ffffff\" fill-rule=\"evenodd\" fill-opacity=\"1\"/>\n",
       "<defs>\n",
       "  <clipPath id=\"clip9201\">\n",
       "    <rect x=\"480\" y=\"0\" width=\"1681\" height=\"1600\"/>\n",
       "  </clipPath>\n",
       "</defs>\n",
       "<polygon clip-path=\"url(#clip9200)\" points=\"\n",
       "121.251,1503.47 2321.26,1503.47 2321.26,47.2441 121.251,47.2441 \n",
       "  \" fill=\"#ffffff\" fill-rule=\"evenodd\" fill-opacity=\"1\"/>\n",
       "<defs>\n",
       "  <clipPath id=\"clip9202\">\n",
       "    <rect x=\"121\" y=\"47\" width=\"2201\" height=\"1457\"/>\n",
       "  </clipPath>\n",
       "</defs>\n",
       "<polyline clip-path=\"url(#clip9202)\" style=\"stroke:#000000; stroke-width:2; stroke-opacity:0.1; fill:none\" points=\"\n",
       "  183.515,1503.47 183.515,47.2441 \n",
       "  \"/>\n",
       "<polyline clip-path=\"url(#clip9202)\" style=\"stroke:#000000; stroke-width:2; stroke-opacity:0.1; fill:none\" points=\"\n",
       "  702.385,1503.47 702.385,47.2441 \n",
       "  \"/>\n",
       "<polyline clip-path=\"url(#clip9202)\" style=\"stroke:#000000; stroke-width:2; stroke-opacity:0.1; fill:none\" points=\"\n",
       "  1221.26,1503.47 1221.26,47.2441 \n",
       "  \"/>\n",
       "<polyline clip-path=\"url(#clip9202)\" style=\"stroke:#000000; stroke-width:2; stroke-opacity:0.1; fill:none\" points=\"\n",
       "  1740.13,1503.47 1740.13,47.2441 \n",
       "  \"/>\n",
       "<polyline clip-path=\"url(#clip9202)\" style=\"stroke:#000000; stroke-width:2; stroke-opacity:0.1; fill:none\" points=\"\n",
       "  2259,1503.47 2259,47.2441 \n",
       "  \"/>\n",
       "<polyline clip-path=\"url(#clip9202)\" style=\"stroke:#000000; stroke-width:2; stroke-opacity:0.1; fill:none\" points=\"\n",
       "  121.251,1387.72 2321.26,1387.72 \n",
       "  \"/>\n",
       "<polyline clip-path=\"url(#clip9202)\" style=\"stroke:#000000; stroke-width:2; stroke-opacity:0.1; fill:none\" points=\"\n",
       "  121.251,1174.72 2321.26,1174.72 \n",
       "  \"/>\n",
       "<polyline clip-path=\"url(#clip9202)\" style=\"stroke:#000000; stroke-width:2; stroke-opacity:0.1; fill:none\" points=\"\n",
       "  121.251,961.731 2321.26,961.731 \n",
       "  \"/>\n",
       "<polyline clip-path=\"url(#clip9202)\" style=\"stroke:#000000; stroke-width:2; stroke-opacity:0.1; fill:none\" points=\"\n",
       "  121.251,748.738 2321.26,748.738 \n",
       "  \"/>\n",
       "<polyline clip-path=\"url(#clip9202)\" style=\"stroke:#000000; stroke-width:2; stroke-opacity:0.1; fill:none\" points=\"\n",
       "  121.251,535.744 2321.26,535.744 \n",
       "  \"/>\n",
       "<polyline clip-path=\"url(#clip9202)\" style=\"stroke:#000000; stroke-width:2; stroke-opacity:0.1; fill:none\" points=\"\n",
       "  121.251,322.751 2321.26,322.751 \n",
       "  \"/>\n",
       "<polyline clip-path=\"url(#clip9202)\" style=\"stroke:#000000; stroke-width:2; stroke-opacity:0.1; fill:none\" points=\"\n",
       "  121.251,109.758 2321.26,109.758 \n",
       "  \"/>\n",
       "<polyline clip-path=\"url(#clip9200)\" style=\"stroke:#000000; stroke-width:4; stroke-opacity:1; fill:none\" points=\"\n",
       "  121.251,1503.47 2321.26,1503.47 \n",
       "  \"/>\n",
       "<polyline clip-path=\"url(#clip9200)\" style=\"stroke:#000000; stroke-width:4; stroke-opacity:1; fill:none\" points=\"\n",
       "  121.251,1503.47 121.251,47.2441 \n",
       "  \"/>\n",
       "<polyline clip-path=\"url(#clip9200)\" style=\"stroke:#000000; stroke-width:4; stroke-opacity:1; fill:none\" points=\"\n",
       "  183.515,1503.47 183.515,1481.63 \n",
       "  \"/>\n",
       "<polyline clip-path=\"url(#clip9200)\" style=\"stroke:#000000; stroke-width:4; stroke-opacity:1; fill:none\" points=\"\n",
       "  702.385,1503.47 702.385,1481.63 \n",
       "  \"/>\n",
       "<polyline clip-path=\"url(#clip9200)\" style=\"stroke:#000000; stroke-width:4; stroke-opacity:1; fill:none\" points=\"\n",
       "  1221.26,1503.47 1221.26,1481.63 \n",
       "  \"/>\n",
       "<polyline clip-path=\"url(#clip9200)\" style=\"stroke:#000000; stroke-width:4; stroke-opacity:1; fill:none\" points=\"\n",
       "  1740.13,1503.47 1740.13,1481.63 \n",
       "  \"/>\n",
       "<polyline clip-path=\"url(#clip9200)\" style=\"stroke:#000000; stroke-width:4; stroke-opacity:1; fill:none\" points=\"\n",
       "  2259,1503.47 2259,1481.63 \n",
       "  \"/>\n",
       "<polyline clip-path=\"url(#clip9200)\" style=\"stroke:#000000; stroke-width:4; stroke-opacity:1; fill:none\" points=\"\n",
       "  121.251,1387.72 154.251,1387.72 \n",
       "  \"/>\n",
       "<polyline clip-path=\"url(#clip9200)\" style=\"stroke:#000000; stroke-width:4; stroke-opacity:1; fill:none\" points=\"\n",
       "  121.251,1174.72 154.251,1174.72 \n",
       "  \"/>\n",
       "<polyline clip-path=\"url(#clip9200)\" style=\"stroke:#000000; stroke-width:4; stroke-opacity:1; fill:none\" points=\"\n",
       "  121.251,961.731 154.251,961.731 \n",
       "  \"/>\n",
       "<polyline clip-path=\"url(#clip9200)\" style=\"stroke:#000000; stroke-width:4; stroke-opacity:1; fill:none\" points=\"\n",
       "  121.251,748.738 154.251,748.738 \n",
       "  \"/>\n",
       "<polyline clip-path=\"url(#clip9200)\" style=\"stroke:#000000; stroke-width:4; stroke-opacity:1; fill:none\" points=\"\n",
       "  121.251,535.744 154.251,535.744 \n",
       "  \"/>\n",
       "<polyline clip-path=\"url(#clip9200)\" style=\"stroke:#000000; stroke-width:4; stroke-opacity:1; fill:none\" points=\"\n",
       "  121.251,322.751 154.251,322.751 \n",
       "  \"/>\n",
       "<polyline clip-path=\"url(#clip9200)\" style=\"stroke:#000000; stroke-width:4; stroke-opacity:1; fill:none\" points=\"\n",
       "  121.251,109.758 154.251,109.758 \n",
       "  \"/>\n",
       "<g clip-path=\"url(#clip9200)\">\n",
       "<text style=\"fill:#000000; fill-opacity:1; font-family:Arial,Helvetica Neue,Helvetica,sans-serif; font-size:48px; text-anchor:middle;\" transform=\"rotate(0, 183.515, 1557.47)\" x=\"183.515\" y=\"1557.47\">-2</text>\n",
       "</g>\n",
       "<g clip-path=\"url(#clip9200)\">\n",
       "<text style=\"fill:#000000; fill-opacity:1; font-family:Arial,Helvetica Neue,Helvetica,sans-serif; font-size:48px; text-anchor:middle;\" transform=\"rotate(0, 702.385, 1557.47)\" x=\"702.385\" y=\"1557.47\">-1</text>\n",
       "</g>\n",
       "<g clip-path=\"url(#clip9200)\">\n",
       "<text style=\"fill:#000000; fill-opacity:1; font-family:Arial,Helvetica Neue,Helvetica,sans-serif; font-size:48px; text-anchor:middle;\" transform=\"rotate(0, 1221.26, 1557.47)\" x=\"1221.26\" y=\"1557.47\">0</text>\n",
       "</g>\n",
       "<g clip-path=\"url(#clip9200)\">\n",
       "<text style=\"fill:#000000; fill-opacity:1; font-family:Arial,Helvetica Neue,Helvetica,sans-serif; font-size:48px; text-anchor:middle;\" transform=\"rotate(0, 1740.13, 1557.47)\" x=\"1740.13\" y=\"1557.47\">1</text>\n",
       "</g>\n",
       "<g clip-path=\"url(#clip9200)\">\n",
       "<text style=\"fill:#000000; fill-opacity:1; font-family:Arial,Helvetica Neue,Helvetica,sans-serif; font-size:48px; text-anchor:middle;\" transform=\"rotate(0, 2259, 1557.47)\" x=\"2259\" y=\"1557.47\">2</text>\n",
       "</g>\n",
       "<g clip-path=\"url(#clip9200)\">\n",
       "<text style=\"fill:#000000; fill-opacity:1; font-family:Arial,Helvetica Neue,Helvetica,sans-serif; font-size:48px; text-anchor:end;\" transform=\"rotate(0, 97.2505, 1405.22)\" x=\"97.2505\" y=\"1405.22\">1</text>\n",
       "</g>\n",
       "<g clip-path=\"url(#clip9200)\">\n",
       "<text style=\"fill:#000000; fill-opacity:1; font-family:Arial,Helvetica Neue,Helvetica,sans-serif; font-size:48px; text-anchor:end;\" transform=\"rotate(0, 97.2505, 1192.22)\" x=\"97.2505\" y=\"1192.22\">2</text>\n",
       "</g>\n",
       "<g clip-path=\"url(#clip9200)\">\n",
       "<text style=\"fill:#000000; fill-opacity:1; font-family:Arial,Helvetica Neue,Helvetica,sans-serif; font-size:48px; text-anchor:end;\" transform=\"rotate(0, 97.2505, 979.231)\" x=\"97.2505\" y=\"979.231\">3</text>\n",
       "</g>\n",
       "<g clip-path=\"url(#clip9200)\">\n",
       "<text style=\"fill:#000000; fill-opacity:1; font-family:Arial,Helvetica Neue,Helvetica,sans-serif; font-size:48px; text-anchor:end;\" transform=\"rotate(0, 97.2505, 766.238)\" x=\"97.2505\" y=\"766.238\">4</text>\n",
       "</g>\n",
       "<g clip-path=\"url(#clip9200)\">\n",
       "<text style=\"fill:#000000; fill-opacity:1; font-family:Arial,Helvetica Neue,Helvetica,sans-serif; font-size:48px; text-anchor:end;\" transform=\"rotate(0, 97.2505, 553.244)\" x=\"97.2505\" y=\"553.244\">5</text>\n",
       "</g>\n",
       "<g clip-path=\"url(#clip9200)\">\n",
       "<text style=\"fill:#000000; fill-opacity:1; font-family:Arial,Helvetica Neue,Helvetica,sans-serif; font-size:48px; text-anchor:end;\" transform=\"rotate(0, 97.2505, 340.251)\" x=\"97.2505\" y=\"340.251\">6</text>\n",
       "</g>\n",
       "<g clip-path=\"url(#clip9200)\">\n",
       "<text style=\"fill:#000000; fill-opacity:1; font-family:Arial,Helvetica Neue,Helvetica,sans-serif; font-size:48px; text-anchor:end;\" transform=\"rotate(0, 97.2505, 127.258)\" x=\"97.2505\" y=\"127.258\">7</text>\n",
       "</g>\n",
       "<polygon clip-path=\"url(#clip9202)\" points=\"\n",
       "183.515,983.031 204.479,1008.5 225.444,1033.27 246.408,1057.35 267.373,1080.74 288.337,1103.42 309.302,1125.42 330.266,1146.71 351.231,1167.32 372.195,1187.22 \n",
       "  393.159,1206.43 414.124,1224.95 435.088,1242.77 456.053,1259.89 477.017,1276.32 497.982,1292.06 518.946,1307.1 539.911,1321.44 560.875,1335.09 581.839,1348.04 \n",
       "  602.804,1360.29 623.768,1371.86 644.733,1382.72 665.697,1392.89 686.662,1402.37 707.626,1411.15 728.591,1419.23 749.555,1426.62 770.52,1433.31 791.484,1439.31 \n",
       "  812.448,1444.61 833.413,1449.22 854.377,1453.13 875.342,1456.35 896.306,1458.87 917.271,1460.7 938.235,1461.83 959.2,1462.26 980.164,1462 1001.13,1461.04 \n",
       "  1022.09,1459.39 1043.06,1457.05 1064.02,1454 1084.99,1450.26 1105.95,1445.83 1126.92,1440.7 1147.88,1434.88 1168.84,1428.36 1189.81,1421.14 1210.77,1413.23 \n",
       "  1231.74,1404.63 1252.7,1395.33 1273.67,1385.33 1294.63,1374.64 1315.6,1363.25 1336.56,1351.17 1357.52,1338.39 1378.49,1324.92 1399.45,1310.75 1420.42,1295.88 \n",
       "  1441.38,1280.32 1462.35,1264.07 1483.31,1247.12 1504.28,1229.47 1525.24,1211.13 1546.2,1192.09 1567.17,1172.36 1588.13,1151.93 1609.1,1130.81 1630.06,1108.99 \n",
       "  1651.03,1086.47 1671.99,1063.26 1692.96,1039.36 1713.92,1014.76 1734.88,989.463 1755.85,963.472 1776.81,936.785 1797.78,909.403 1818.74,881.326 1839.71,852.553 \n",
       "  1860.67,823.085 1881.64,792.921 1902.6,762.062 1923.56,730.507 1944.53,698.257 1965.49,665.312 1986.46,631.671 2007.42,597.335 2028.39,562.303 2049.35,526.576 \n",
       "  2070.32,490.153 2091.28,453.035 2112.24,415.222 2133.21,376.713 2154.17,337.509 2175.14,297.609 2196.1,257.014 2217.07,215.724 2238.03,173.738 2259,131.057 \n",
       "  2259,88.4582 2238.03,131.139 2217.07,173.125 2196.1,214.416 2175.14,255.011 2154.17,294.91 2133.21,334.115 2112.24,372.623 2091.28,410.437 2070.32,447.555 \n",
       "  2049.35,483.977 2028.39,519.704 2007.42,554.736 1986.46,589.072 1965.49,622.713 1944.53,655.658 1923.56,687.908 1902.6,719.463 1881.64,750.322 1860.67,780.486 \n",
       "  1839.71,809.954 1818.74,838.727 1797.78,866.805 1776.81,894.187 1755.85,920.873 1734.88,946.865 1713.92,972.161 1692.96,996.761 1671.99,1020.67 1651.03,1043.88 \n",
       "  1630.06,1066.39 1609.1,1088.21 1588.13,1109.33 1567.17,1129.76 1546.2,1149.49 1525.24,1168.53 1504.28,1186.87 1483.31,1204.52 1462.35,1221.47 1441.38,1237.72 \n",
       "  1420.42,1253.28 1399.45,1268.15 1378.49,1282.32 1357.52,1295.79 1336.56,1308.57 1315.6,1320.65 1294.63,1332.04 1273.67,1342.73 1252.7,1352.73 1231.74,1362.03 \n",
       "  1210.77,1370.63 1189.81,1378.55 1168.84,1385.76 1147.88,1392.28 1126.92,1398.1 1105.95,1403.23 1084.99,1407.67 1064.02,1411.4 1043.06,1414.45 1022.09,1416.79 \n",
       "  1001.13,1418.44 980.164,1419.4 959.2,1419.66 938.235,1419.23 917.271,1418.1 896.306,1416.27 875.342,1413.75 854.377,1410.53 833.413,1406.62 812.448,1402.02 \n",
       "  791.484,1396.71 770.52,1390.72 749.555,1384.02 728.591,1376.63 707.626,1368.55 686.662,1359.77 665.697,1350.29 644.733,1340.12 623.768,1329.26 602.804,1317.7 \n",
       "  581.839,1305.44 560.875,1292.49 539.911,1278.84 518.946,1264.5 497.982,1249.46 477.017,1233.72 456.053,1217.3 435.088,1200.17 414.124,1182.35 393.159,1163.84 \n",
       "  372.195,1144.62 351.231,1124.72 330.266,1104.12 309.302,1082.82 288.337,1060.83 267.373,1038.14 246.408,1014.75 225.444,990.676 204.479,965.902 183.515,940.432 \n",
       "  183.515,983.031 183.515,983.031 \n",
       "  \" fill=\"#009af9\" fill-rule=\"evenodd\" fill-opacity=\"0.3\"/>\n",
       "<polyline clip-path=\"url(#clip9202)\" style=\"stroke:#000000; stroke-width:4; stroke-opacity:0.3; fill:none\" points=\"\n",
       "  183.515,983.031 204.479,1008.5 225.444,1033.27 246.408,1057.35 267.373,1080.74 288.337,1103.42 309.302,1125.42 330.266,1146.71 351.231,1167.32 372.195,1187.22 \n",
       "  393.159,1206.43 414.124,1224.95 435.088,1242.77 456.053,1259.89 477.017,1276.32 497.982,1292.06 518.946,1307.1 539.911,1321.44 560.875,1335.09 581.839,1348.04 \n",
       "  602.804,1360.29 623.768,1371.86 644.733,1382.72 665.697,1392.89 686.662,1402.37 707.626,1411.15 728.591,1419.23 749.555,1426.62 770.52,1433.31 791.484,1439.31 \n",
       "  812.448,1444.61 833.413,1449.22 854.377,1453.13 875.342,1456.35 896.306,1458.87 917.271,1460.7 938.235,1461.83 959.2,1462.26 980.164,1462 1001.13,1461.04 \n",
       "  1022.09,1459.39 1043.06,1457.05 1064.02,1454 1084.99,1450.26 1105.95,1445.83 1126.92,1440.7 1147.88,1434.88 1168.84,1428.36 1189.81,1421.14 1210.77,1413.23 \n",
       "  1231.74,1404.63 1252.7,1395.33 1273.67,1385.33 1294.63,1374.64 1315.6,1363.25 1336.56,1351.17 1357.52,1338.39 1378.49,1324.92 1399.45,1310.75 1420.42,1295.88 \n",
       "  1441.38,1280.32 1462.35,1264.07 1483.31,1247.12 1504.28,1229.47 1525.24,1211.13 1546.2,1192.09 1567.17,1172.36 1588.13,1151.93 1609.1,1130.81 1630.06,1108.99 \n",
       "  1651.03,1086.47 1671.99,1063.26 1692.96,1039.36 1713.92,1014.76 1734.88,989.463 1755.85,963.472 1776.81,936.785 1797.78,909.403 1818.74,881.326 1839.71,852.553 \n",
       "  1860.67,823.085 1881.64,792.921 1902.6,762.062 1923.56,730.507 1944.53,698.257 1965.49,665.312 1986.46,631.671 2007.42,597.335 2028.39,562.303 2049.35,526.576 \n",
       "  2070.32,490.153 2091.28,453.035 2112.24,415.222 2133.21,376.713 2154.17,337.509 2175.14,297.609 2196.1,257.014 2217.07,215.724 2238.03,173.738 2259,131.057 \n",
       "  2259,88.4582 2238.03,131.139 2217.07,173.125 2196.1,214.416 2175.14,255.011 2154.17,294.91 2133.21,334.115 2112.24,372.623 2091.28,410.437 2070.32,447.555 \n",
       "  2049.35,483.977 2028.39,519.704 2007.42,554.736 1986.46,589.072 1965.49,622.713 1944.53,655.658 1923.56,687.908 1902.6,719.463 1881.64,750.322 1860.67,780.486 \n",
       "  1839.71,809.954 1818.74,838.727 1797.78,866.805 1776.81,894.187 1755.85,920.873 1734.88,946.865 1713.92,972.161 1692.96,996.761 1671.99,1020.67 1651.03,1043.88 \n",
       "  1630.06,1066.39 1609.1,1088.21 1588.13,1109.33 1567.17,1129.76 1546.2,1149.49 1525.24,1168.53 1504.28,1186.87 1483.31,1204.52 1462.35,1221.47 1441.38,1237.72 \n",
       "  1420.42,1253.28 1399.45,1268.15 1378.49,1282.32 1357.52,1295.79 1336.56,1308.57 1315.6,1320.65 1294.63,1332.04 1273.67,1342.73 1252.7,1352.73 1231.74,1362.03 \n",
       "  1210.77,1370.63 1189.81,1378.55 1168.84,1385.76 1147.88,1392.28 1126.92,1398.1 1105.95,1403.23 1084.99,1407.67 1064.02,1411.4 1043.06,1414.45 1022.09,1416.79 \n",
       "  1001.13,1418.44 980.164,1419.4 959.2,1419.66 938.235,1419.23 917.271,1418.1 896.306,1416.27 875.342,1413.75 854.377,1410.53 833.413,1406.62 812.448,1402.02 \n",
       "  791.484,1396.71 770.52,1390.72 749.555,1384.02 728.591,1376.63 707.626,1368.55 686.662,1359.77 665.697,1350.29 644.733,1340.12 623.768,1329.26 602.804,1317.7 \n",
       "  581.839,1305.44 560.875,1292.49 539.911,1278.84 518.946,1264.5 497.982,1249.46 477.017,1233.72 456.053,1217.3 435.088,1200.17 414.124,1182.35 393.159,1163.84 \n",
       "  372.195,1144.62 351.231,1124.72 330.266,1104.12 309.302,1082.82 288.337,1060.83 267.373,1038.14 246.408,1014.75 225.444,990.676 204.479,965.902 183.515,940.432 \n",
       "  183.515,983.031 \n",
       "  \"/>\n",
       "</svg>\n"
      ]
     },
     "execution_count": 8,
     "metadata": {},
     "output_type": "execute_result"
    }
   ],
   "source": [
    "plot(X, lab=\"\")"
   ]
  },
  {
   "cell_type": "markdown",
   "metadata": {},
   "source": [
    "For the support function along direction $d = [1.0]$, we expect $7.1$, obtained when $x_0 = 2$ and $y = 0.1$."
   ]
  },
  {
   "cell_type": "markdown",
   "metadata": {},
   "source": [
    "For the support function along direction $d = [-1.0]$, we expect $0.65$, obtained when $x_0 = -0.5$ and $y = -0.1$."
   ]
  },
  {
   "cell_type": "markdown",
   "metadata": {},
   "source": [
    "#### Using Ipopt"
   ]
  },
  {
   "cell_type": "code",
   "execution_count": null,
   "metadata": {},
   "outputs": [],
   "source": [
    "using Ipopt"
   ]
  },
  {
   "cell_type": "code",
   "execution_count": null,
   "metadata": {},
   "outputs": [],
   "source": [
    "d = [1.0]; # direction"
   ]
  },
  {
   "cell_type": "code",
   "execution_count": null,
   "metadata": {},
   "outputs": [],
   "source": [
    "model = Model(with_optimizer(Ipopt.Optimizer, print_level=0))\n",
    "\n",
    "Xdom = domain(X)\n",
    "Xrem = remainder(X)\n",
    "@variable(model, inf(Xdom) <= x0 <= sup(Xdom))\n",
    "@variable(model, inf(Xrem) <= y <= sup(Xrem))\n",
    "@variable(model, x)\n",
    "@NLconstraint(model, x == 1.0 + x0 + 1.0*x0^2 + y)\n",
    "@objective(model, Max, d[1] * x)\n",
    "model"
   ]
  },
  {
   "cell_type": "code",
   "execution_count": null,
   "metadata": {},
   "outputs": [],
   "source": [
    "optimize!(model)\n",
    "@show objective_value(model);"
   ]
  },
  {
   "cell_type": "markdown",
   "metadata": {},
   "source": [
    "#### Using SumOfSquares"
   ]
  },
  {
   "cell_type": "code",
   "execution_count": 9,
   "metadata": {},
   "outputs": [],
   "source": [
    "using SumOfSquares, DynamicPolynomials, MosekTools"
   ]
  },
  {
   "cell_type": "code",
   "execution_count": 16,
   "metadata": {},
   "outputs": [
    {
     "data": {
      "text/latex": [
       "$$ \\begin{alignat*}{1}\\max\\quad & x\\\\\n",
       "\\text{Subject to} \\quad & y \\geq -0.1\\\\\n",
       " & y \\leq 0.1\\\\\n",
       " & (1)x0 + (2) \\text{ is SOS}\\\\\n",
       " & (-1)x0 + (2) \\text{ is SOS}\\\\\n",
       " & (-1)x0^{2} + (-1)x0 + (x - y - 1) \\in PolyJuMP.ZeroPoly()\\\\\n",
       "\\end{alignat*}\n",
       " $$"
      ],
      "text/plain": [
       "A JuMP Model\n",
       "Maximization problem with:\n",
       "Variables: 2\n",
       "Objective function type: GenericAffExpr{Float64,VariableRef}\n",
       "`VariableRef`-in-`MathOptInterface.GreaterThan{Float64}`: 1 constraint\n",
       "`VariableRef`-in-`MathOptInterface.LessThan{Float64}`: 1 constraint\n",
       "`Array{GenericAffExpr{Float64,VariableRef},1}`-in-`SumOfSquares.SOSPolynomialSet{SemialgebraicSets.FullSpace,NonnegPolyInnerCone{MathOptInterface.PositiveSemidefiniteConeTriangle},MonomialBasis,Monomial{true},MonomialVector{true},Tuple{}}`: 2 constraints\n",
       "`Array{GenericAffExpr{Float64,VariableRef},1}`-in-`PolyJuMP.ZeroPolynomialSet{SemialgebraicSets.FullSpace,MonomialBasis,Monomial{true},MonomialVector{true}}`: 1 constraint\n",
       "Model mode: AUTOMATIC\n",
       "CachingOptimizer state: EMPTY_OPTIMIZER\n",
       "Solver name: Mosek\n",
       "Names registered in the model: x, y"
      ]
     },
     "execution_count": 16,
     "metadata": {},
     "output_type": "execute_result"
    }
   ],
   "source": [
    "model = SOSModel(with_optimizer(Mosek.Optimizer, QUIET=true))\n",
    "\n",
    "@polyvar x0\n",
    "Xdom, Xrem = domain(X), remainder(X)\n",
    "@constraint(model, inf(Xdom) <= x0)\n",
    "@constraint(model, x0 <= sup(Xdom))\n",
    "@variable(model, inf(Xrem) <= y <= sup(Xrem))\n",
    "@variable(model, x)\n",
    "@constraint(model, x == 1.0 + x0 + 1.0*x0^2 + y)\n",
    "@objective(model, Max, 1.0 * x)\n",
    "model"
   ]
  },
  {
   "cell_type": "code",
   "execution_count": 17,
   "metadata": {},
   "outputs": [
    {
     "name": "stdout",
     "output_type": "stream",
     "text": [
      "objective_value(model) = 0.0\n"
     ]
    }
   ],
   "source": [
    "optimize!(model)  \n",
    "@show objective_value(model);"
   ]
  }
 ],
 "metadata": {
  "@webio": {
   "lastCommId": null,
   "lastKernelId": null
  },
  "kernelspec": {
   "display_name": "Julia 1.1.0-rc2",
   "language": "julia",
   "name": "julia-1.1"
  },
  "language_info": {
   "file_extension": ".jl",
   "mimetype": "application/julia",
   "name": "julia",
   "version": "1.1.0"
  }
 },
 "nbformat": 4,
 "nbformat_minor": 2
}
