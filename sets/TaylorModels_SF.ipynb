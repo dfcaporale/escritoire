{
 "cells": [
  {
   "cell_type": "markdown",
   "metadata": {},
   "source": [
    "## References\n",
    "\n",
    "- http://www.juliaopt.org/SumOfSquares.jl/latest/\n",
    "- https://www.cs.colorado.edu/~xich8622/papers/thesis.pdf"
   ]
  },
  {
   "cell_type": "markdown",
   "metadata": {},
   "source": [
    "## Support function of an interval"
   ]
  },
  {
   "cell_type": "markdown",
   "metadata": {},
   "source": [
    "In this section, as a proof-of-principle, we compute the support function of an interval using SOS."
   ]
  },
  {
   "cell_type": "code",
   "execution_count": 2,
   "metadata": {},
   "outputs": [],
   "source": [
    "using SumOfSquares, DynamicPolynomials, MosekTools, TaylorModels, Plots"
   ]
  },
  {
   "cell_type": "markdown",
   "metadata": {},
   "source": [
    "The support function of a set $X$ along direction $d$ is defined as the solution of the optimization problem:\n",
    "\n",
    "$$\n",
    "\\rho(d, X) = \\max \\langle d, x \\rangle \\qquad s.t. x \\in X.\n",
    "$$\n",
    "It represents how much the set $X$ is placed along direction $d$."
   ]
  },
  {
   "cell_type": "code",
   "execution_count": 3,
   "metadata": {},
   "outputs": [
    {
     "data": {
      "text/plain": [
       "sf (generic function with 1 method)"
      ]
     },
     "execution_count": 3,
     "metadata": {},
     "output_type": "execute_result"
    }
   ],
   "source": [
    "function sf(d::Vector, X::Interval)\n",
    "    model = SOSModel(with_optimizer(Mosek.Optimizer, QUIET=true))\n",
    "    @variable(model, x[1])\n",
    "    @constraint(model, inf(X) <= x[1])\n",
    "    @constraint(model, x[1] <= sup(X))\n",
    "    @objective(model, Max, d[1] * x[1])\n",
    "    optimize!(model)\n",
    "    \n",
    "    return objective_value(model)\n",
    "end"
   ]
  },
  {
   "cell_type": "markdown",
   "metadata": {},
   "source": [
    "Let's consider an example:"
   ]
  },
  {
   "cell_type": "code",
   "execution_count": 4,
   "metadata": {},
   "outputs": [
    {
     "data": {
      "text/plain": [
       "[-2, 7]"
      ]
     },
     "execution_count": 4,
     "metadata": {},
     "output_type": "execute_result"
    }
   ],
   "source": [
    "X = Interval(-2.0, 7.0)"
   ]
  },
  {
   "cell_type": "code",
   "execution_count": 5,
   "metadata": {},
   "outputs": [
    {
     "data": {
      "text/plain": [
       "7.0"
      ]
     },
     "execution_count": 5,
     "metadata": {},
     "output_type": "execute_result"
    }
   ],
   "source": [
    "sf([1.0], X)"
   ]
  },
  {
   "cell_type": "code",
   "execution_count": 6,
   "metadata": {},
   "outputs": [
    {
     "data": {
      "text/plain": [
       "2.0"
      ]
     },
     "execution_count": 6,
     "metadata": {},
     "output_type": "execute_result"
    }
   ],
   "source": [
    "sf([-1.0], X)"
   ]
  },
  {
   "cell_type": "markdown",
   "metadata": {},
   "source": [
    "## Support function of a TaylorModel1"
   ]
  },
  {
   "cell_type": "markdown",
   "metadata": {},
   "source": [
    "Now we consider the more general case of a univariate taylor model.\n",
    "\n",
    "The set defined by a TM is $S := \\{ x : x = p(x_0) + y \\wedge x_0 \\in \\textrm{dom(TM)} \\wedge y \\in \\textrm{rem(TM)}\\}$."
   ]
  },
  {
   "cell_type": "markdown",
   "metadata": {},
   "source": [
    "We would like to compute $\\max \\langle d, x\\rangle$, such that $x \\in S$, where $S$ is the range of the taylor model."
   ]
  },
  {
   "cell_type": "markdown",
   "metadata": {},
   "source": [
    "To fix ideas, consider the following example."
   ]
  },
  {
   "cell_type": "code",
   "execution_count": 7,
   "metadata": {},
   "outputs": [
    {
     "data": {
      "text/plain": [
       " 1.0 + 1.0 t + 1.0 t² + 𝒪(t⁷)"
      ]
     },
     "execution_count": 7,
     "metadata": {},
     "output_type": "execute_result"
    }
   ],
   "source": [
    "p = Taylor1([1.0, 1.0, 1.0], 6)"
   ]
  },
  {
   "cell_type": "code",
   "execution_count": 8,
   "metadata": {},
   "outputs": [
    {
     "data": {
      "text/plain": [
       " 1.0 + 1.0 t + 1.0 t² + [-0.100001, 0.100001]"
      ]
     },
     "execution_count": 8,
     "metadata": {},
     "output_type": "execute_result"
    }
   ],
   "source": [
    "rem = Interval(-0.1, 0.1)\n",
    "x0 = Interval(0, 0)\n",
    "dom = Interval(-2.0, 2.0)\n",
    "X = TaylorModel1(p, rem, x0, dom)"
   ]
  },
  {
   "cell_type": "code",
   "execution_count": null,
   "metadata": {},
   "outputs": [],
   "source": [
    "plot(X, lab=\"\")"
   ]
  },
  {
   "cell_type": "markdown",
   "metadata": {},
   "source": [
    "For the support function along direction $d = [1.0]$, we expect $7.1$, obtained when $x_0 = 2$ and $y = 0.1$."
   ]
  },
  {
   "cell_type": "markdown",
   "metadata": {},
   "source": [
    "For the support function along direction $d = [-1.0]$, we expect $0.65$, obtained when $x_0 = -0.5$ and $y = -0.1$."
   ]
  },
  {
   "cell_type": "markdown",
   "metadata": {},
   "source": [
    "#### Using Ipopt"
   ]
  },
  {
   "cell_type": "code",
   "execution_count": null,
   "metadata": {},
   "outputs": [],
   "source": [
    "using Ipopt"
   ]
  },
  {
   "cell_type": "code",
   "execution_count": null,
   "metadata": {},
   "outputs": [],
   "source": [
    "d = [1.0]; # direction"
   ]
  },
  {
   "cell_type": "code",
   "execution_count": null,
   "metadata": {},
   "outputs": [],
   "source": [
    "model = Model(with_optimizer(Ipopt.Optimizer, print_level=0))\n",
    "\n",
    "Xdom = domain(X)\n",
    "Xrem = remainder(X)\n",
    "@variable(model, inf(Xdom) <= x0 <= sup(Xdom))\n",
    "@variable(model, inf(Xrem) <= y <= sup(Xrem))\n",
    "@variable(model, x)\n",
    "@NLconstraint(model, x == 1.0 + x0 + 1.0*x0^2 + y)\n",
    "@objective(model, Max, d[1] * x)\n",
    "model"
   ]
  },
  {
   "cell_type": "code",
   "execution_count": null,
   "metadata": {},
   "outputs": [],
   "source": [
    "optimize!(model)\n",
    "@show objective_value(model);"
   ]
  },
  {
   "cell_type": "markdown",
   "metadata": {},
   "source": [
    "#### Using SumOfSquares"
   ]
  },
  {
   "cell_type": "code",
   "execution_count": 9,
   "metadata": {},
   "outputs": [],
   "source": [
    "using SumOfSquares, DynamicPolynomials, MosekTools, SemialgebraicSets"
   ]
  },
  {
   "cell_type": "markdown",
   "metadata": {},
   "source": [
    "To model the optimization problem using sum-of-squares, we introduce the variable $\\gamma$ to represent the objective value bound, implemented as a JuMP decision variable, and introduce the constraint $\\langle d, x\\rangle \\leq \\gamma$. The objective function is set to be the minimum over all possible $\\gamma$. The minimum upper bound under the polynomial restriction is the value we are looking for."
   ]
  },
  {
   "cell_type": "code",
   "execution_count": 43,
   "metadata": {},
   "outputs": [
    {
     "name": "stdout",
     "output_type": "stream",
     "text": [
      "objective_value(model) = 7.099999866012456\n"
     ]
    }
   ],
   "source": [
    "model = SOSModel(with_optimizer(Mosek.Optimizer, QUIET=true))\n",
    "Xdom, Xrem = domain(X), remainder(X)\n",
    "d = [1.0]\n",
    "\n",
    "@polyvar x0 x y\n",
    "\n",
    "S = @set x == 1.0 + x0 + 1.0*x0^2 + y &&\n",
    "         inf(Xdom) <= x0 && x0 <= sup(Xdom) &&\n",
    "         inf(Xrem) <= y && y <= sup(Xrem)\n",
    "\n",
    "@variable(model, γ)\n",
    "@constraint(model, d[1]*x + 0.0*y + 0.0*x0 <= γ, domain=S, maxdegree=3)\n",
    "\n",
    "@objective(model, Min, γ)\n",
    "optimize!(model)\n",
    "@show objective_value(model);"
   ]
  },
  {
   "cell_type": "markdown",
   "metadata": {},
   "source": [
    "## [WIP] Polytopic overapproximation"
   ]
  },
  {
   "cell_type": "markdown",
   "metadata": {},
   "source": [
    "Here we wrap this approach into a function and compute the "
   ]
  },
  {
   "cell_type": "code",
   "execution_count": null,
   "metadata": {},
   "outputs": [],
   "source": [
    "model = Model(with_optimizer(Ipopt.Optimizer, print_level=0))\n",
    "\n",
    "Xdom = domain(X)\n",
    "Xrem = remainder(X)\n",
    "@variable(model, inf(Xdom) <= x0 <= sup(Xdom))\n",
    "@variable(model, inf(Xrem) <= y <= sup(Xrem))\n",
    "@variable(model, x)\n",
    "@NLconstraint(model, x == sum(x0^i * p.coeffs[i] for i in 1:1+get_order(p)) + y)\n",
    "@objective(model, Max, d[1] * x)\n",
    "model"
   ]
  },
  {
   "cell_type": "code",
   "execution_count": null,
   "metadata": {},
   "outputs": [],
   "source": [
    "@NLconstraint(model, sum(x0^i * p.coeffs[i] for i in 1:1+get_order(p)) == 0)"
   ]
  },
  {
   "cell_type": "code",
   "execution_count": null,
   "metadata": {},
   "outputs": [],
   "source": [
    "S = sum(x0^i * p.coeffs[i] for i in 1:1+get_order(p))"
   ]
  }
 ],
 "metadata": {
  "@webio": {
   "lastCommId": null,
   "lastKernelId": null
  },
  "kernelspec": {
   "display_name": "Julia 1.1.0-rc2",
   "language": "julia",
   "name": "julia-1.1"
  },
  "language_info": {
   "file_extension": ".jl",
   "mimetype": "application/julia",
   "name": "julia",
   "version": "1.1.0"
  }
 },
 "nbformat": 4,
 "nbformat_minor": 2
}
