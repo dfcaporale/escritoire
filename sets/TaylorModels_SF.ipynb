{
 "cells": [
  {
   "cell_type": "markdown",
   "metadata": {},
   "source": [
    "## References\n",
    "\n",
    "- http://www.juliaopt.org/SumOfSquares.jl/latest/\n",
    "- https://www.cs.colorado.edu/~xich8622/papers/thesis.pdf"
   ]
  },
  {
   "cell_type": "markdown",
   "metadata": {},
   "source": [
    "## Support function of an interval"
   ]
  },
  {
   "cell_type": "markdown",
   "metadata": {},
   "source": [
    "In this section, as a proof-of-principle, we compute the support function of an interval using SOS."
   ]
  },
  {
   "cell_type": "code",
   "execution_count": null,
   "metadata": {},
   "outputs": [],
   "source": [
    "using SumOfSquares, DynamicPolynomials, MosekTools, TaylorModels, Plots"
   ]
  },
  {
   "cell_type": "markdown",
   "metadata": {},
   "source": [
    "The support function of a set $X$ along direction $d$ is defined as the solution of the optimization problem:\n",
    "\n",
    "$$\n",
    "\\rho(d, X) = \\max \\langle d, x \\rangle \\qquad s.t. x \\in X.\n",
    "$$\n",
    "It represents how much the set $X$ is placed along direction $d$."
   ]
  },
  {
   "cell_type": "code",
   "execution_count": null,
   "metadata": {},
   "outputs": [],
   "source": [
    "function sf(d::Vector, X::Interval)\n",
    "    model = SOSModel(with_optimizer(Mosek.Optimizer, QUIET=true))\n",
    "    @variable(model, x[1])\n",
    "    @constraint(model, inf(X) <= x[1])\n",
    "    @constraint(model, x[1] <= sup(X))\n",
    "    @objective(model, Max, d[1] * x[1])\n",
    "    optimize!(model)\n",
    "    \n",
    "    return objective_value(model)\n",
    "end"
   ]
  },
  {
   "cell_type": "markdown",
   "metadata": {},
   "source": [
    "Let's consider an example:"
   ]
  },
  {
   "cell_type": "code",
   "execution_count": null,
   "metadata": {},
   "outputs": [],
   "source": [
    "X = Interval(-2.0, 7.0)"
   ]
  },
  {
   "cell_type": "code",
   "execution_count": null,
   "metadata": {},
   "outputs": [],
   "source": [
    "sf([1.0], X)"
   ]
  },
  {
   "cell_type": "code",
   "execution_count": null,
   "metadata": {},
   "outputs": [],
   "source": [
    "sf([-1.0], X)"
   ]
  },
  {
   "cell_type": "markdown",
   "metadata": {},
   "source": [
    "## Support function of a TaylorModel1"
   ]
  },
  {
   "cell_type": "markdown",
   "metadata": {},
   "source": [
    "Now we consider the more general case of a univariate taylor model.\n",
    "\n",
    "The set defined by a TM is $S := \\{ x : x = p(x_0) + y \\wedge x_0 \\in \\textrm{dom(TM)} \\wedge y \\in \\textrm{rem(TM)}\\}$.\n",
    "\n",
    "We would like to compute $\\max \\langle d, x\\rangle$, such that $x \\in S$, where $S$ is the range of the taylor model."
   ]
  },
  {
   "cell_type": "markdown",
   "metadata": {},
   "source": [
    "To fix ideas, consider the following example."
   ]
  },
  {
   "cell_type": "code",
   "execution_count": null,
   "metadata": {},
   "outputs": [],
   "source": [
    "p = Taylor1([1.0, 1.0, 1.0], 6)"
   ]
  },
  {
   "cell_type": "code",
   "execution_count": null,
   "metadata": {},
   "outputs": [],
   "source": [
    "rem = Interval(-0.1, 0.1)\n",
    "x0 = Interval(0, 0)\n",
    "dom = Interval(-2.0, 2.0)\n",
    "X = TaylorModel1(p, rem, x0, dom)"
   ]
  },
  {
   "cell_type": "code",
   "execution_count": null,
   "metadata": {},
   "outputs": [],
   "source": [
    "plot(X, lab=\"\")"
   ]
  },
  {
   "cell_type": "markdown",
   "metadata": {},
   "source": [
    "For the support function along direction $d = [1.0]$, we expect $7.1$, obtained when $x_0 = 2$ and $y = 0.1$."
   ]
  },
  {
   "cell_type": "markdown",
   "metadata": {},
   "source": [
    "For the support function along direction $d = [-1.0]$, we expect $0.65$, obtained when $x_0 = -0.5$ and $y = -0.1$."
   ]
  },
  {
   "cell_type": "markdown",
   "metadata": {},
   "source": [
    "#### Using Ipopt"
   ]
  },
  {
   "cell_type": "code",
   "execution_count": null,
   "metadata": {},
   "outputs": [],
   "source": [
    "using Ipopt"
   ]
  },
  {
   "cell_type": "code",
   "execution_count": null,
   "metadata": {},
   "outputs": [],
   "source": [
    "d = [1.0]; # direction"
   ]
  },
  {
   "cell_type": "code",
   "execution_count": null,
   "metadata": {},
   "outputs": [],
   "source": [
    "model = Model(with_optimizer(Ipopt.Optimizer, print_level=0))\n",
    "\n",
    "Xdom = domain(X)\n",
    "Xrem = remainder(X)\n",
    "@variable(model, inf(Xdom) <= x0 <= sup(Xdom))\n",
    "@variable(model, inf(Xrem) <= y <= sup(Xrem))\n",
    "@variable(model, x)\n",
    "@NLconstraint(model, x == 1.0 + x0 + 1.0*x0^2 + y)\n",
    "@objective(model, Max, d[1] * x)\n",
    "model"
   ]
  },
  {
   "cell_type": "code",
   "execution_count": null,
   "metadata": {},
   "outputs": [],
   "source": [
    "optimize!(model)\n",
    "@show objective_value(model);"
   ]
  },
  {
   "cell_type": "markdown",
   "metadata": {},
   "source": [
    "#### Using SumOfSquares"
   ]
  },
  {
   "cell_type": "code",
   "execution_count": null,
   "metadata": {},
   "outputs": [],
   "source": [
    "using SumOfSquares, DynamicPolynomials, MosekTools, SemialgebraicSets"
   ]
  },
  {
   "cell_type": "markdown",
   "metadata": {},
   "source": [
    "To model the optimization problem using sum-of-squares, we introduce the variable $\\gamma$ to represent the objective value bound, implemented as a JuMP decision variable, and introduce the constraint $\\langle d, x\\rangle \\leq \\gamma$. The objective function is set to be the minimum over all possible $\\gamma$. The minimum upper bound under the polynomial restriction is the value we are looking for."
   ]
  },
  {
   "cell_type": "code",
   "execution_count": null,
   "metadata": {},
   "outputs": [],
   "source": [
    "model = SOSModel(with_optimizer(Mosek.Optimizer, QUIET=true))\n",
    "Xdom, Xrem = domain(X), remainder(X)\n",
    "d = [1.0]\n",
    "\n",
    "@polyvar x0 x y\n",
    "\n",
    "S = @set x == 1.0 + x0 + 1.0*x0^2 + y &&\n",
    "         inf(Xdom) <= x0 && x0 <= sup(Xdom) &&\n",
    "         inf(Xrem) <= y && y <= sup(Xrem)\n",
    "\n",
    "@variable(model, γ)\n",
    "@constraint(model, d[1]*x + 0.0*y + 0.0*x0 <= γ, domain=S, maxdegree=3)\n",
    "\n",
    "@objective(model, Min, γ)\n",
    "optimize!(model)\n",
    "@show objective_value(model);"
   ]
  },
  {
   "cell_type": "markdown",
   "metadata": {},
   "source": [
    "## Polytopic overapproximation"
   ]
  },
  {
   "cell_type": "markdown",
   "metadata": {},
   "source": [
    "Here we wrap this approach into a function to compute support functions."
   ]
  },
  {
   "cell_type": "code",
   "execution_count": 2,
   "metadata": {},
   "outputs": [],
   "source": [
    "# dependencies\n",
    "using SumOfSquares, DynamicPolynomials, SemialgebraicSets, MosekTools, SDPA\n",
    "using Plots\n",
    "using TaylorModels\n",
    "using AffineArithmetic"
   ]
  },
  {
   "cell_type": "code",
   "execution_count": 4,
   "metadata": {},
   "outputs": [
    {
     "data": {
      "text/plain": [
       "bounds_SDP (generic function with 2 methods)"
      ]
     },
     "execution_count": 4,
     "metadata": {},
     "output_type": "execute_result"
    }
   ],
   "source": [
    "function new_sos(backend, verbose)\n",
    "    if backend == \"Mosek\"\n",
    "        model = SOSModel(with_optimizer(Mosek.Optimizer, QUIET=!verbose))\n",
    "    elseif backend == \"SDPA\"\n",
    "        model = SOSModel(with_optimizer(SDPA.Optimizer)) # TODO QUIET mode?\n",
    "    else\n",
    "        error(\"backend $backend not supported\")\n",
    "    end\n",
    "    return model\n",
    "end\n",
    "\n",
    "# to get runtime:\n",
    "# MOI.get(model, MOI.SolveTime())\n",
    "function bounds_SDP(f::Function, dom::Interval, order::Int; backend=\"Mosek\", verbose=false)\n",
    "\n",
    "    # polynomial variables\n",
    "    @polyvar x\n",
    "    p = f(x)\n",
    "\n",
    "    # box constraints\n",
    "    B = @set inf(dom) <= x && x <= sup(dom)\n",
    "\n",
    "    # ============\n",
    "    # Upper bound\n",
    "    # ============ \n",
    "    model = new_sos(backend, verbose)\n",
    "    @variable(model, γ) # JuMP decision variable\n",
    "    @constraint(model, p <= γ, domain=B, maxdegree=order)\n",
    "    @objective(model, Min, γ)\n",
    "    optimize!(model)\n",
    "    upper_bound = objective_value(model)\n",
    "\n",
    "    # ============\n",
    "    # Lower bound\n",
    "    # ============\n",
    "    model = new_sos(backend, verbose)\n",
    "    @variable(model, γ) # JuMP decision variable\n",
    "    @constraint(model, p >= γ, domain=B, maxdegree=order)\n",
    "    @objective(model, Max, γ)\n",
    "    optimize!(model)\n",
    "    lower_bound = objective_value(model)\n",
    "\n",
    "    return Interval(lower_bound, upper_bound)\n",
    "\n",
    "end\n",
    "\n",
    "function bounds_SDP(f::Function, dom::IntervalBox{N}, order::Int; backend=\"Mosek\", verbose=false) where {N}\n",
    "    \n",
    "    # polynomial variables\n",
    "    @polyvar x[1:N]\n",
    "    p = f(x...)\n",
    "\n",
    "    # box constraints\n",
    "    Bi =[@set inf(dom[i]) <= x[i] && x[i] <= sup(dom[i]) for i in 1:N]\n",
    "    B = reduce(intersect, Bi)\n",
    "\n",
    "    # ============\n",
    "    # Upper bound\n",
    "    # ============ \n",
    "    model = new_sos(backend, verbose)\n",
    "    @variable(model, γ) # JuMP decision variable\n",
    "    @constraint(model, p <= γ, domain=B, maxdegree=order)\n",
    "    @objective(model, Min, γ)\n",
    "    optimize!(model)\n",
    "    upper_bound = objective_value(model)\n",
    "\n",
    "    # ============\n",
    "    # Lower bound\n",
    "    # ============\n",
    "    model = new_sos(backend, verbose)\n",
    "    @variable(model, γ) # JuMP decision variable\n",
    "    @constraint(model, p >= γ, domain=B, maxdegree=order)\n",
    "    @objective(model, Max, γ)\n",
    "    optimize!(model)\n",
    "    lower_bound = objective_value(model)\n",
    "\n",
    "    return Interval(lower_bound, upper_bound)\n",
    "end"
   ]
  },
  {
   "cell_type": "code",
   "execution_count": 5,
   "metadata": {},
   "outputs": [
    {
     "data": {
      "text/plain": [
       "[-1.00001, 3]"
      ]
     },
     "execution_count": 5,
     "metadata": {},
     "output_type": "execute_result"
    }
   ],
   "source": [
    "func(x) = x^2 - 1\n",
    "bounds_SDP(func, Interval(-2.0, 1.0), 3)"
   ]
  },
  {
   "cell_type": "code",
   "execution_count": 6,
   "metadata": {},
   "outputs": [
    {
     "data": {
      "text/plain": [
       "[-0.999999, 99]"
      ]
     },
     "execution_count": 6,
     "metadata": {},
     "output_type": "execute_result"
    }
   ],
   "source": [
    "func(x, y) = x^2*y^2 - 1\n",
    "bounds_SDP(func, IntervalBox(-2.0..1.0, 3.0..5.0), 4)"
   ]
  },
  {
   "cell_type": "code",
   "execution_count": 13,
   "metadata": {},
   "outputs": [
    {
     "data": {
      "text/plain": [
       "[0.00450004, 15.1875]"
      ]
     },
     "execution_count": 13,
     "metadata": {},
     "output_type": "execute_result"
    }
   ],
   "source": [
    "poly(x) = -x*x*x/6.0\n",
    "dom = Interval(-4.5, -0.3)\n",
    "bounds_SDP(func, dom, 5)"
   ]
  },
  {
   "cell_type": "code",
   "execution_count": 23,
   "metadata": {},
   "outputs": [
    {
     "data": {
      "text/plain": [
       "[-2.4, -2.39999]"
      ]
     },
     "execution_count": 23,
     "metadata": {},
     "output_type": "execute_result"
    }
   ],
   "source": []
  },
  {
   "cell_type": "code",
   "execution_count": 41,
   "metadata": {},
   "outputs": [
    {
     "data": {
      "text/plain": [
       "15.187499893161952"
      ]
     },
     "execution_count": 41,
     "metadata": {},
     "output_type": "execute_result"
    }
   ],
   "source": [
    "poly(x0, y) = -x0*x0*x0/6.0 + y\n",
    "\n",
    "rem = Interval(0.0, 0.0)\n",
    "dom = Interval(-4.5, -0.3) × rem\n",
    "d = [1.0]\n",
    "bnd = sup(bounds_SDP((x0, y) -> poly(d[1]*x0, d[1]*y), dom, 5))"
   ]
  },
  {
   "cell_type": "code",
   "execution_count": 30,
   "metadata": {},
   "outputs": [
    {
     "name": "stdout",
     "output_type": "stream",
     "text": [
      "search: \u001b[0m\u001b[1mb\u001b[22m\u001b[0m\u001b[1mo\u001b[22m\u001b[0m\u001b[1mu\u001b[22m\u001b[0m\u001b[1mn\u001b[22m\u001b[0m\u001b[1md\u001b[22m\u001b[0m\u001b[1ms\u001b[22m\u001b[0m\u001b[1m_\u001b[22m\u001b[0m\u001b[1mS\u001b[22m\u001b[0m\u001b[1mD\u001b[22m\u001b[0m\u001b[1mP\u001b[22m\n",
      "\n"
     ]
    },
    {
     "data": {
      "text/latex": [
       "No documentation found.\n",
       "\n",
       "\\texttt{bounds\\_SDP} is a \\texttt{Function}.\n",
       "\n",
       "\\begin{verbatim}\n",
       "# 2 methods for generic function \"bounds_SDP\":\n",
       "[1] bounds_SDP(f::Function, dom::Interval, order::Int64; backend, verbose) in Main at In[4]:17\n",
       "[2] bounds_SDP(f::Function, dom::IntervalBox{N,T} where T, order::Int64; backend, verbose) where N in Main at In[4]:50\n",
       "\\end{verbatim}\n"
      ],
      "text/markdown": [
       "No documentation found.\n",
       "\n",
       "`bounds_SDP` is a `Function`.\n",
       "\n",
       "```\n",
       "# 2 methods for generic function \"bounds_SDP\":\n",
       "[1] bounds_SDP(f::Function, dom::Interval, order::Int64; backend, verbose) in Main at In[4]:17\n",
       "[2] bounds_SDP(f::Function, dom::IntervalBox{N,T} where T, order::Int64; backend, verbose) where N in Main at In[4]:50\n",
       "```\n"
      ],
      "text/plain": [
       "  No documentation found.\n",
       "\n",
       "  \u001b[36mbounds_SDP\u001b[39m is a \u001b[36mFunction\u001b[39m.\n",
       "\n",
       "\u001b[36m  # 2 methods for generic function \"bounds_SDP\":\u001b[39m\n",
       "\u001b[36m  [1] bounds_SDP(f::Function, dom::Interval, order::Int64; backend, verbose) in Main at In[4]:17\u001b[39m\n",
       "\u001b[36m  [2] bounds_SDP(f::Function, dom::IntervalBox{N,T} where T, order::Int64; backend, verbose) where N in Main at In[4]:50\u001b[39m"
      ]
     },
     "execution_count": 30,
     "metadata": {},
     "output_type": "execute_result"
    }
   ],
   "source": []
  },
  {
   "cell_type": "markdown",
   "metadata": {},
   "source": [
    "Now we consider the more general case of a univariate taylor model.\n",
    "\n",
    "The set defined by a TM is $S := \\{ x : x = p(x_0) + y \\wedge x_0 \\in \\textrm{dom(TM)} \\wedge y \\in \\textrm{rem(TM)}\\}$.\n",
    "\n",
    "We would like to compute $\\max \\langle d, x\\rangle$, such that $x \\in S$, where $S$ is the range of the taylor model."
   ]
  },
  {
   "cell_type": "markdown",
   "metadata": {},
   "source": [
    "Consider the following example: the taylor model `(p, I)` where `p(x) = -x^3/6` defined over `dom = [-4.5, -0.3]`. Let the interval remainder be zero, `I = Interval(0.0, 0.0)`."
   ]
  },
  {
   "cell_type": "code",
   "execution_count": 9,
   "metadata": {},
   "outputs": [
    {
     "data": {
      "text/plain": [
       " [2.30399, 2.30401] + [-2.88001, -2.87999] t + [1.19999, 1.20001] t² + [-0.166667, -0.166666] t³ + 𝒪(t⁶)"
      ]
     },
     "execution_count": 9,
     "metadata": {},
     "output_type": "execute_result"
    }
   ],
   "source": [
    "dom = Interval(-4.5, -0.3)\n",
    "func(x) = -x*x*x/6.0\n",
    "ord = 5\n",
    "x0 = Interval(mid(dom))\n",
    "x = TaylorModel1(ord, x0, dom)\n",
    "tm = func(x) # evaluate(func(x), dom - x0)\n",
    "tmpol = tm.pol"
   ]
  },
  {
   "cell_type": "code",
   "execution_count": 10,
   "metadata": {},
   "outputs": [
    {
     "data": {
      "text/latex": [
       "$$ \\begin{alignat*}{1}\\min\\quad & γ\\\\\n",
       "\\text{Subject to} \\quad & (0.16666666666666666)x0pol^{3} + (-1.1999999999999997)x0pol^{2} + (2.8800000000000003)x0pol + (-1)y + (γ - 2.303999999999999) \\text{ is SOS}\\\\\n",
       "\\end{alignat*}\n",
       " $$"
      ],
      "text/plain": [
       "A JuMP Model\n",
       "Minimization problem with:\n",
       "Variable: 1\n",
       "Objective function type: VariableRef\n",
       "`Array{GenericAffExpr{Float64,VariableRef},1}`-in-`SumOfSquares.SOSPolynomialSet{BasicSemialgebraicSet{Float64,Polynomial{true,Float64},AlgebraicSet{Float64,Polynomial{true,Float64},Buchberger,SemialgebraicSets.SolverUsingMultiplicationMatrices{SemialgebraicSets.GröbnerBasisMultiplicationMatricesAlgorithm,ReorderedSchurMultiplicationMatricesSolver{Float64,Random.MersenneTwister}}}},NonnegPolyInnerCone{MathOptInterface.PositiveSemidefiniteConeTriangle},MonomialBasis,Monomial{true},MonomialVector{true},Tuple{}}`: 1 constraint\n",
       "Model mode: AUTOMATIC\n",
       "CachingOptimizer state: EMPTY_OPTIMIZER\n",
       "Solver name: Mosek\n",
       "Names registered in the model: γ"
      ]
     },
     "execution_count": 10,
     "metadata": {},
     "output_type": "execute_result"
    }
   ],
   "source": [
    "d = [1.0]\n",
    "order = 4\n",
    "@polyvar x0pol y\n",
    "\n",
    "# for the conversion from interval coeffs to floating points we take the\n",
    "# midpoint of the interval\n",
    "p = sum(x0pol^(i-1) * inf(tmpol.coeffs[i]) for i in 1:get_order(tmpol)+1)\n",
    "\n",
    "B = @set inf(dom) <= x0pol && x0pol <= sup(dom) &&\n",
    "         y <= sup(tm.rem) && y >= inf(tm.rem)\n",
    "\n",
    "model = new_sos(\"Mosek\", false)\n",
    "@variable(model, γ) # JuMP decision variable <d, x> <= γ\n",
    "@constraint(model, d[1] * p + d[1] * y <= γ, domain=B, maxdegree=order)\n",
    "@objective(model, Min, γ)\n",
    "\n",
    "model"
   ]
  },
  {
   "cell_type": "code",
   "execution_count": 11,
   "metadata": {},
   "outputs": [
    {
     "data": {
      "text/plain": [
       "54.75149238366741"
      ]
     },
     "execution_count": 11,
     "metadata": {},
     "output_type": "execute_result"
    }
   ],
   "source": [
    "optimize!(model)\n",
    "\n",
    "objective_value(model)"
   ]
  },
  {
   "cell_type": "code",
   "execution_count": null,
   "metadata": {},
   "outputs": [],
   "source": []
  },
  {
   "cell_type": "code",
   "execution_count": null,
   "metadata": {},
   "outputs": [],
   "source": [
    "# another test: try bounds_SDP function\n",
    "sf(x) = x -> d[1] * x"
   ]
  },
  {
   "cell_type": "code",
   "execution_count": null,
   "metadata": {},
   "outputs": [],
   "source": [
    "model = SOSModel(with_optimizer(Mosek.Optimizer, QUIET=true))\n",
    "Xdom, Xrem = domain(X), remainder(X)\n",
    "d = [1.0]\n",
    "\n",
    "@polyvar x0 x y\n",
    "\n",
    "S = @set x == 1.0 + x0 + 1.0*x0^2 + y &&\n",
    "         inf(Xdom) <= x0 && x0 <= sup(Xdom) &&\n",
    "         inf(Xrem) <= y && y <= sup(Xrem)\n",
    "\n",
    "@variable(model, γ)\n",
    "@constraint(model, d[1]*x + 0.0*y + 0.0*x0 <= γ, domain=S, maxdegree=3)\n",
    "\n",
    "@objective(model, Min, γ)\n",
    "optimize!(model)\n",
    "@show objective_value(model);"
   ]
  },
  {
   "cell_type": "code",
   "execution_count": null,
   "metadata": {
    "scrolled": true
   },
   "outputs": [],
   "source": [
    "function bounds_SDP(f::Function, dom::Interval, order::Int; backend=\"Mosek\", verbose=false)\n",
    "\n",
    "    # polynomial variables\n",
    "    @polyvar x\n",
    "    p = f(x)\n",
    "\n",
    "    # box constraints\n",
    "    B = @set inf(dom) <= x && x <= sup(dom)\n",
    "\n",
    "    # ============\n",
    "    # Upper bound\n",
    "    # ============ \n",
    "    model = new_sos(backend, verbose)\n",
    "    @variable(model, γ) # JuMP decision variable\n",
    "    @constraint(model, p <= γ, domain=B, maxdegree=order)\n",
    "    @objective(model, Min, γ)\n",
    "    optimize!(model)\n",
    "    upper_bound = objective_value(model)\n",
    "\n",
    "    # ============\n",
    "    # Lower bound\n",
    "    # ============\n",
    "    model = new_sos(backend, verbose)\n",
    "    @variable(model, γ) # JuMP decision variable\n",
    "    @constraint(model, p >= γ, domain=B, maxdegree=order)\n",
    "    @objective(model, Max, γ)\n",
    "    optimize!(model)\n",
    "    lower_bound = objective_value(model)\n",
    "\n",
    "    return Interval(lower_bound, upper_bound)\n",
    "\n",
    "end"
   ]
  },
  {
   "cell_type": "code",
   "execution_count": null,
   "metadata": {},
   "outputs": [],
   "source": [
    "function sf(d::Vector, X::Vector{Taylor1})\n",
    "    model = Model(with_optimizer(Ipopt.Optimizer, print_level=0))\n",
    "\n",
    "    Xdom = domain(X)\n",
    "    Xrem = remainder(X)\n",
    "    @variable(model, inf(Xdom) <= x0 <= sup(Xdom))\n",
    "    @variable(model, inf(Xrem) <= y <= sup(Xrem))\n",
    "    @variable(model, x)\n",
    "    @NLconstraint(model, x == sum(x0^i * p.coeffs[i] for i in 1:1+get_order(p)) + y)\n",
    "    @objective(model, Max, d[1] * x)\n",
    "    model\n",
    "end"
   ]
  },
  {
   "cell_type": "code",
   "execution_count": null,
   "metadata": {},
   "outputs": [],
   "source": [
    "@NLconstraint(model, sum(x0^i * p.coeffs[i] for i in 1:1+get_order(p)) == 0)"
   ]
  },
  {
   "cell_type": "code",
   "execution_count": null,
   "metadata": {},
   "outputs": [],
   "source": [
    "S = sum(x0^i * p.coeffs[i] for i in 1:1+get_order(p))"
   ]
  }
 ],
 "metadata": {
  "@webio": {
   "lastCommId": null,
   "lastKernelId": null
  },
  "kernelspec": {
   "display_name": "Julia 1.1.0-rc2",
   "language": "julia",
   "name": "julia-1.1"
  },
  "language_info": {
   "file_extension": ".jl",
   "mimetype": "application/julia",
   "name": "julia",
   "version": "1.1.0"
  }
 },
 "nbformat": 4,
 "nbformat_minor": 2
}
