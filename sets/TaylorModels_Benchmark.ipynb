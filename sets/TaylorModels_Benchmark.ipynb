{
 "cells": [
  {
   "cell_type": "code",
   "execution_count": 36,
   "metadata": {},
   "outputs": [],
   "source": [
    "using TaylorModels, BenchmarkTools, TaylorSeries\n",
    "using IntervalArithmetic, IntervalOptimisation"
   ]
  },
  {
   "cell_type": "code",
   "execution_count": 67,
   "metadata": {},
   "outputs": [
    {
     "data": {
      "text/plain": [
       "minmax (generic function with 1 method)"
      ]
     },
     "execution_count": 67,
     "metadata": {},
     "output_type": "execute_result"
    }
   ],
   "source": [
    "# helper function that returns interval enclosures for the global minimum\n",
    "# and global maximum of a univariate or multivariate polynomial over a given domain\n",
    "function minmax(p, dom)\n",
    "    global_min, _ = minimise(p, dom)\n",
    "    minus_global_max, _ = minimise(-p, dom)\n",
    "    global_max = -minus_global_max\n",
    "    return global_min, global_max\n",
    "end"
   ]
  },
  {
   "cell_type": "markdown",
   "metadata": {},
   "source": [
    "### bspline3\n",
    "\n",
    "Filepath: [testcases/rosa/Bsplines.scala](https://github.com/malyzajko/daisy/blob/87c6bb081ccfe8af08942814410234a782a40b15/testcases/rosa/Bsplines.scala#L30)"
   ]
  },
  {
   "cell_type": "code",
   "execution_count": 68,
   "metadata": {},
   "outputs": [
    {
     "data": {
      "text/plain": [
       " 1.0 t + 𝒪(t⁵)"
      ]
     },
     "execution_count": 68,
     "metadata": {},
     "output_type": "execute_result"
    }
   ],
   "source": [
    "m = 4\n",
    "u = Taylor1(m)"
   ]
  },
  {
   "cell_type": "code",
   "execution_count": 69,
   "metadata": {},
   "outputs": [
    {
     "data": {
      "text/plain": [
       "[-4.5, -0.299999]"
      ]
     },
     "execution_count": 69,
     "metadata": {},
     "output_type": "execute_result"
    }
   ],
   "source": [
    "a = Interval(-4.5, -0.3)"
   ]
  },
  {
   "cell_type": "code",
   "execution_count": 70,
   "metadata": {},
   "outputs": [
    {
     "data": {
      "text/plain": [
       " - 0.16666666666666666 t³ + 𝒪(t⁵)"
      ]
     },
     "execution_count": 70,
     "metadata": {},
     "output_type": "execute_result"
    }
   ],
   "source": [
    "p = -u*u*u / 6.0"
   ]
  },
  {
   "cell_type": "code",
   "execution_count": 71,
   "metadata": {},
   "outputs": [
    {
     "data": {
      "text/plain": [
       "[0.00449999, 15.1875]"
      ]
     },
     "execution_count": 71,
     "metadata": {},
     "output_type": "execute_result"
    }
   ],
   "source": [
    "dom = copy(a)\n",
    "evaluate(p, dom)"
   ]
  },
  {
   "cell_type": "code",
   "execution_count": 72,
   "metadata": {},
   "outputs": [
    {
     "data": {
      "text/plain": [
       "BenchmarkTools.Trial: \n",
       "  memory estimate:  0 bytes\n",
       "  allocs estimate:  0\n",
       "  --------------\n",
       "  minimum time:     86.645 ns (0.00% GC)\n",
       "  median time:      92.246 ns (0.00% GC)\n",
       "  mean time:        102.718 ns (0.00% GC)\n",
       "  maximum time:     288.701 ns (0.00% GC)\n",
       "  --------------\n",
       "  samples:          10000\n",
       "  evals/sample:     957"
      ]
     },
     "execution_count": 72,
     "metadata": {},
     "output_type": "execute_result"
    }
   ],
   "source": [
    "@benchmark evaluate($p, $dom)"
   ]
  },
  {
   "cell_type": "code",
   "execution_count": 73,
   "metadata": {},
   "outputs": [
    {
     "data": {
      "text/plain": [
       "([0.00449999, 0.00451278], [15.1827, 15.1875])"
      ]
     },
     "execution_count": 73,
     "metadata": {},
     "output_type": "execute_result"
    }
   ],
   "source": [
    "global_min, global_max = minmax(p, dom)"
   ]
  },
  {
   "cell_type": "markdown",
   "metadata": {},
   "source": [
    "### himmilbeau\n",
    "\n",
    "Filepath: [testcases/real2float/Himmilbeau.scala](https://github.com/malyzajko/daisy/blob/87c6bb081ccfe8af08942814410234a782a40b15/testcases/real2float/Himmilbeau.scala)"
   ]
  },
  {
   "cell_type": "code",
   "execution_count": 74,
   "metadata": {},
   "outputs": [
    {
     "data": {
      "text/plain": [
       "2-element Array{TaylorN{Float64},1}:\n",
       "  1.0 x1 + 𝒪(‖x‖⁹)\n",
       "  1.0 x2 + 𝒪(‖x‖⁹)"
      ]
     },
     "execution_count": 74,
     "metadata": {},
     "output_type": "execute_result"
    }
   ],
   "source": [
    "m = 4\n",
    "x1, x2 = set_variables(Float64, [\"x1\", \"x2\"], order=2*m)"
   ]
  },
  {
   "cell_type": "code",
   "execution_count": 75,
   "metadata": {},
   "outputs": [
    {
     "data": {
      "text/plain": [
       "[0.4, 0.900001]"
      ]
     },
     "execution_count": 75,
     "metadata": {},
     "output_type": "execute_result"
    }
   ],
   "source": [
    "b = Interval(0.4, 0.9)"
   ]
  },
  {
   "cell_type": "code",
   "execution_count": 76,
   "metadata": {},
   "outputs": [
    {
     "data": {
      "text/plain": [
       " 170.0 - 14.0 x1 - 22.0 x2 - 21.0 x1² - 13.0 x2² + 2.0 x1² x2 + 2.0 x1 x2² + 1.0 x1⁴ + 1.0 x2⁴ + 𝒪(‖x‖⁹)"
      ]
     },
     "execution_count": 76,
     "metadata": {},
     "output_type": "execute_result"
    }
   ],
   "source": [
    "p = (x1*x1 + x2 - 11)*(x1 * x1 + x2 - 11) + (x1 + x2*x2 - 7)*(x1 + x2*x2 - 7)"
   ]
  },
  {
   "cell_type": "code",
   "execution_count": 77,
   "metadata": {},
   "outputs": [
    {
     "data": {
      "text/plain": [
       "[-288.565, 667.303]"
      ]
     },
     "execution_count": 77,
     "metadata": {},
     "output_type": "execute_result"
    }
   ],
   "source": [
    "dom = a × b\n",
    "evaluate(p, dom)"
   ]
  },
  {
   "cell_type": "code",
   "execution_count": 78,
   "metadata": {},
   "outputs": [
    {
     "data": {
      "text/plain": [
       "BenchmarkTools.Trial: \n",
       "  memory estimate:  23.02 KiB\n",
       "  allocs estimate:  561\n",
       "  --------------\n",
       "  minimum time:     31.394 μs (0.00% GC)\n",
       "  median time:      35.204 μs (0.00% GC)\n",
       "  mean time:        52.482 μs (24.86% GC)\n",
       "  maximum time:     81.915 ms (99.90% GC)\n",
       "  --------------\n",
       "  samples:          10000\n",
       "  evals/sample:     1"
      ]
     },
     "execution_count": 78,
     "metadata": {},
     "output_type": "execute_result"
    }
   ],
   "source": [
    "@benchmark evaluate($p, $dom)"
   ]
  },
  {
   "cell_type": "code",
   "execution_count": 79,
   "metadata": {},
   "outputs": [
    {
     "data": {
      "text/plain": [
       "([85.334, 85.4776], [221.642, 221.951])"
      ]
     },
     "execution_count": 79,
     "metadata": {},
     "output_type": "execute_result"
    }
   ],
   "source": [
    "global_min, global_max = minmax(p, dom) # takes time"
   ]
  }
 ],
 "metadata": {
  "kernelspec": {
   "display_name": "Julia 1.1.0-rc2",
   "language": "julia",
   "name": "julia-1.1"
  },
  "language_info": {
   "file_extension": ".jl",
   "mimetype": "application/julia",
   "name": "julia",
   "version": "1.1.0"
  }
 },
 "nbformat": 4,
 "nbformat_minor": 2
}
