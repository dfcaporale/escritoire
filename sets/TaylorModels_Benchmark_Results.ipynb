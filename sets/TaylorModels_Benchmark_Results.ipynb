{
 "cells": [
  {
   "cell_type": "code",
   "execution_count": 16,
   "metadata": {},
   "outputs": [],
   "source": [
    "using TaylorModels, Plots\n",
    "using AffineArithmetic # in branch AffineArithmetic/af"
   ]
  },
  {
   "cell_type": "code",
   "execution_count": 17,
   "metadata": {},
   "outputs": [
    {
     "data": {
      "text/plain": [
       "[0, 6]"
      ]
     },
     "execution_count": 17,
     "metadata": {},
     "output_type": "execute_result"
    }
   ],
   "source": [
    "example5(x) = 0.1*x*x*x - 0.5*x*x + 1\n",
    "dom = Interval(0, 6)"
   ]
  },
  {
   "cell_type": "code",
   "execution_count": 18,
   "metadata": {},
   "outputs": [
    {
     "name": "stdout",
     "output_type": "stream",
     "text": [
      "(min_bound, max_bound) = (-0.8518518518518516, 4.600000000000001)\n"
     ]
    },
    {
     "data": {
      "text/plain": [
       "(-0.8518518518518516, 4.600000000000001)"
      ]
     },
     "execution_count": 18,
     "metadata": {},
     "output_type": "execute_result"
    }
   ],
   "source": [
    "max_bound = example5(sup(dom))\n",
    "min_bound = example5(10/3)\n",
    "@show min_bound, max_bound"
   ]
  },
  {
   "cell_type": "code",
   "execution_count": 19,
   "metadata": {},
   "outputs": [
    {
     "data": {
      "image/svg+xml": [
       "<?xml version=\"1.0\" encoding=\"utf-8\"?>\n",
       "<svg xmlns=\"http://www.w3.org/2000/svg\" xmlns:xlink=\"http://www.w3.org/1999/xlink\" width=\"600\" height=\"400\" viewBox=\"0 0 2400 1600\">\n",
       "<defs>\n",
       "  <clipPath id=\"clip4100\">\n",
       "    <rect x=\"0\" y=\"0\" width=\"2400\" height=\"1600\"/>\n",
       "  </clipPath>\n",
       "</defs>\n",
       "<polygon clip-path=\"url(#clip4100)\" points=\"\n",
       "0,1600 2400,1600 2400,0 0,0 \n",
       "  \" fill=\"#ffffff\" fill-rule=\"evenodd\" fill-opacity=\"1\"/>\n",
       "<defs>\n",
       "  <clipPath id=\"clip4101\">\n",
       "    <rect x=\"480\" y=\"0\" width=\"1681\" height=\"1600\"/>\n",
       "  </clipPath>\n",
       "</defs>\n",
       "<polygon clip-path=\"url(#clip4100)\" points=\"\n",
       "149.361,1503.47 2321.26,1503.47 2321.26,47.2441 149.361,47.2441 \n",
       "  \" fill=\"#ffffff\" fill-rule=\"evenodd\" fill-opacity=\"1\"/>\n",
       "<defs>\n",
       "  <clipPath id=\"clip4102\">\n",
       "    <rect x=\"149\" y=\"47\" width=\"2173\" height=\"1457\"/>\n",
       "  </clipPath>\n",
       "</defs>\n",
       "<polyline clip-path=\"url(#clip4102)\" style=\"stroke:#000000; stroke-width:2; stroke-opacity:0.1; fill:none\" points=\"\n",
       "  210.829,1503.47 210.829,47.2441 \n",
       "  \"/>\n",
       "<polyline clip-path=\"url(#clip4102)\" style=\"stroke:#000000; stroke-width:2; stroke-opacity:0.1; fill:none\" points=\"\n",
       "  552.323,1503.47 552.323,47.2441 \n",
       "  \"/>\n",
       "<polyline clip-path=\"url(#clip4102)\" style=\"stroke:#000000; stroke-width:2; stroke-opacity:0.1; fill:none\" points=\"\n",
       "  893.817,1503.47 893.817,47.2441 \n",
       "  \"/>\n",
       "<polyline clip-path=\"url(#clip4102)\" style=\"stroke:#000000; stroke-width:2; stroke-opacity:0.1; fill:none\" points=\"\n",
       "  1235.31,1503.47 1235.31,47.2441 \n",
       "  \"/>\n",
       "<polyline clip-path=\"url(#clip4102)\" style=\"stroke:#000000; stroke-width:2; stroke-opacity:0.1; fill:none\" points=\"\n",
       "  1576.8,1503.47 1576.8,47.2441 \n",
       "  \"/>\n",
       "<polyline clip-path=\"url(#clip4102)\" style=\"stroke:#000000; stroke-width:2; stroke-opacity:0.1; fill:none\" points=\"\n",
       "  1918.3,1503.47 1918.3,47.2441 \n",
       "  \"/>\n",
       "<polyline clip-path=\"url(#clip4102)\" style=\"stroke:#000000; stroke-width:2; stroke-opacity:0.1; fill:none\" points=\"\n",
       "  2259.79,1503.47 2259.79,47.2441 \n",
       "  \"/>\n",
       "<polyline clip-path=\"url(#clip4102)\" style=\"stroke:#000000; stroke-width:2; stroke-opacity:0.1; fill:none\" points=\"\n",
       "  149.361,1499.59 2321.26,1499.59 \n",
       "  \"/>\n",
       "<polyline clip-path=\"url(#clip4102)\" style=\"stroke:#000000; stroke-width:2; stroke-opacity:0.1; fill:none\" points=\"\n",
       "  149.361,1247.6 2321.26,1247.6 \n",
       "  \"/>\n",
       "<polyline clip-path=\"url(#clip4102)\" style=\"stroke:#000000; stroke-width:2; stroke-opacity:0.1; fill:none\" points=\"\n",
       "  149.361,995.616 2321.26,995.616 \n",
       "  \"/>\n",
       "<polyline clip-path=\"url(#clip4102)\" style=\"stroke:#000000; stroke-width:2; stroke-opacity:0.1; fill:none\" points=\"\n",
       "  149.361,743.628 2321.26,743.628 \n",
       "  \"/>\n",
       "<polyline clip-path=\"url(#clip4102)\" style=\"stroke:#000000; stroke-width:2; stroke-opacity:0.1; fill:none\" points=\"\n",
       "  149.361,491.639 2321.26,491.639 \n",
       "  \"/>\n",
       "<polyline clip-path=\"url(#clip4102)\" style=\"stroke:#000000; stroke-width:2; stroke-opacity:0.1; fill:none\" points=\"\n",
       "  149.361,239.651 2321.26,239.651 \n",
       "  \"/>\n",
       "<polyline clip-path=\"url(#clip4100)\" style=\"stroke:#000000; stroke-width:4; stroke-opacity:1; fill:none\" points=\"\n",
       "  149.361,1503.47 2321.26,1503.47 \n",
       "  \"/>\n",
       "<polyline clip-path=\"url(#clip4100)\" style=\"stroke:#000000; stroke-width:4; stroke-opacity:1; fill:none\" points=\"\n",
       "  149.361,1503.47 149.361,47.2441 \n",
       "  \"/>\n",
       "<polyline clip-path=\"url(#clip4100)\" style=\"stroke:#000000; stroke-width:4; stroke-opacity:1; fill:none\" points=\"\n",
       "  210.829,1503.47 210.829,1481.63 \n",
       "  \"/>\n",
       "<polyline clip-path=\"url(#clip4100)\" style=\"stroke:#000000; stroke-width:4; stroke-opacity:1; fill:none\" points=\"\n",
       "  552.323,1503.47 552.323,1481.63 \n",
       "  \"/>\n",
       "<polyline clip-path=\"url(#clip4100)\" style=\"stroke:#000000; stroke-width:4; stroke-opacity:1; fill:none\" points=\"\n",
       "  893.817,1503.47 893.817,1481.63 \n",
       "  \"/>\n",
       "<polyline clip-path=\"url(#clip4100)\" style=\"stroke:#000000; stroke-width:4; stroke-opacity:1; fill:none\" points=\"\n",
       "  1235.31,1503.47 1235.31,1481.63 \n",
       "  \"/>\n",
       "<polyline clip-path=\"url(#clip4100)\" style=\"stroke:#000000; stroke-width:4; stroke-opacity:1; fill:none\" points=\"\n",
       "  1576.8,1503.47 1576.8,1481.63 \n",
       "  \"/>\n",
       "<polyline clip-path=\"url(#clip4100)\" style=\"stroke:#000000; stroke-width:4; stroke-opacity:1; fill:none\" points=\"\n",
       "  1918.3,1503.47 1918.3,1481.63 \n",
       "  \"/>\n",
       "<polyline clip-path=\"url(#clip4100)\" style=\"stroke:#000000; stroke-width:4; stroke-opacity:1; fill:none\" points=\"\n",
       "  2259.79,1503.47 2259.79,1481.63 \n",
       "  \"/>\n",
       "<polyline clip-path=\"url(#clip4100)\" style=\"stroke:#000000; stroke-width:4; stroke-opacity:1; fill:none\" points=\"\n",
       "  149.361,1499.59 181.939,1499.59 \n",
       "  \"/>\n",
       "<polyline clip-path=\"url(#clip4100)\" style=\"stroke:#000000; stroke-width:4; stroke-opacity:1; fill:none\" points=\"\n",
       "  149.361,1247.6 181.939,1247.6 \n",
       "  \"/>\n",
       "<polyline clip-path=\"url(#clip4100)\" style=\"stroke:#000000; stroke-width:4; stroke-opacity:1; fill:none\" points=\"\n",
       "  149.361,995.616 181.939,995.616 \n",
       "  \"/>\n",
       "<polyline clip-path=\"url(#clip4100)\" style=\"stroke:#000000; stroke-width:4; stroke-opacity:1; fill:none\" points=\"\n",
       "  149.361,743.628 181.939,743.628 \n",
       "  \"/>\n",
       "<polyline clip-path=\"url(#clip4100)\" style=\"stroke:#000000; stroke-width:4; stroke-opacity:1; fill:none\" points=\"\n",
       "  149.361,491.639 181.939,491.639 \n",
       "  \"/>\n",
       "<polyline clip-path=\"url(#clip4100)\" style=\"stroke:#000000; stroke-width:4; stroke-opacity:1; fill:none\" points=\"\n",
       "  149.361,239.651 181.939,239.651 \n",
       "  \"/>\n",
       "<g clip-path=\"url(#clip4100)\">\n",
       "<text style=\"fill:#000000; fill-opacity:1; font-family:Arial,Helvetica Neue,Helvetica,sans-serif; font-size:48px; text-anchor:middle;\" transform=\"rotate(0, 210.829, 1557.47)\" x=\"210.829\" y=\"1557.47\">0</text>\n",
       "</g>\n",
       "<g clip-path=\"url(#clip4100)\">\n",
       "<text style=\"fill:#000000; fill-opacity:1; font-family:Arial,Helvetica Neue,Helvetica,sans-serif; font-size:48px; text-anchor:middle;\" transform=\"rotate(0, 552.323, 1557.47)\" x=\"552.323\" y=\"1557.47\">1</text>\n",
       "</g>\n",
       "<g clip-path=\"url(#clip4100)\">\n",
       "<text style=\"fill:#000000; fill-opacity:1; font-family:Arial,Helvetica Neue,Helvetica,sans-serif; font-size:48px; text-anchor:middle;\" transform=\"rotate(0, 893.817, 1557.47)\" x=\"893.817\" y=\"1557.47\">2</text>\n",
       "</g>\n",
       "<g clip-path=\"url(#clip4100)\">\n",
       "<text style=\"fill:#000000; fill-opacity:1; font-family:Arial,Helvetica Neue,Helvetica,sans-serif; font-size:48px; text-anchor:middle;\" transform=\"rotate(0, 1235.31, 1557.47)\" x=\"1235.31\" y=\"1557.47\">3</text>\n",
       "</g>\n",
       "<g clip-path=\"url(#clip4100)\">\n",
       "<text style=\"fill:#000000; fill-opacity:1; font-family:Arial,Helvetica Neue,Helvetica,sans-serif; font-size:48px; text-anchor:middle;\" transform=\"rotate(0, 1576.8, 1557.47)\" x=\"1576.8\" y=\"1557.47\">4</text>\n",
       "</g>\n",
       "<g clip-path=\"url(#clip4100)\">\n",
       "<text style=\"fill:#000000; fill-opacity:1; font-family:Arial,Helvetica Neue,Helvetica,sans-serif; font-size:48px; text-anchor:middle;\" transform=\"rotate(0, 1918.3, 1557.47)\" x=\"1918.3\" y=\"1557.47\">5</text>\n",
       "</g>\n",
       "<g clip-path=\"url(#clip4100)\">\n",
       "<text style=\"fill:#000000; fill-opacity:1; font-family:Arial,Helvetica Neue,Helvetica,sans-serif; font-size:48px; text-anchor:middle;\" transform=\"rotate(0, 2259.79, 1557.47)\" x=\"2259.79\" y=\"1557.47\">6</text>\n",
       "</g>\n",
       "<g clip-path=\"url(#clip4100)\">\n",
       "<text style=\"fill:#000000; fill-opacity:1; font-family:Arial,Helvetica Neue,Helvetica,sans-serif; font-size:48px; text-anchor:end;\" transform=\"rotate(0, 125.361, 1517.09)\" x=\"125.361\" y=\"1517.09\">-1</text>\n",
       "</g>\n",
       "<g clip-path=\"url(#clip4100)\">\n",
       "<text style=\"fill:#000000; fill-opacity:1; font-family:Arial,Helvetica Neue,Helvetica,sans-serif; font-size:48px; text-anchor:end;\" transform=\"rotate(0, 125.361, 1265.1)\" x=\"125.361\" y=\"1265.1\">0</text>\n",
       "</g>\n",
       "<g clip-path=\"url(#clip4100)\">\n",
       "<text style=\"fill:#000000; fill-opacity:1; font-family:Arial,Helvetica Neue,Helvetica,sans-serif; font-size:48px; text-anchor:end;\" transform=\"rotate(0, 125.361, 1013.12)\" x=\"125.361\" y=\"1013.12\">1</text>\n",
       "</g>\n",
       "<g clip-path=\"url(#clip4100)\">\n",
       "<text style=\"fill:#000000; fill-opacity:1; font-family:Arial,Helvetica Neue,Helvetica,sans-serif; font-size:48px; text-anchor:end;\" transform=\"rotate(0, 125.361, 761.128)\" x=\"125.361\" y=\"761.128\">2</text>\n",
       "</g>\n",
       "<g clip-path=\"url(#clip4100)\">\n",
       "<text style=\"fill:#000000; fill-opacity:1; font-family:Arial,Helvetica Neue,Helvetica,sans-serif; font-size:48px; text-anchor:end;\" transform=\"rotate(0, 125.361, 509.139)\" x=\"125.361\" y=\"509.139\">3</text>\n",
       "</g>\n",
       "<g clip-path=\"url(#clip4100)\">\n",
       "<text style=\"fill:#000000; fill-opacity:1; font-family:Arial,Helvetica Neue,Helvetica,sans-serif; font-size:48px; text-anchor:end;\" transform=\"rotate(0, 125.361, 257.151)\" x=\"125.361\" y=\"257.151\">4</text>\n",
       "</g>\n",
       "<polyline clip-path=\"url(#clip4102)\" style=\"stroke:#009af9; stroke-width:6; stroke-opacity:1; fill:none\" points=\"\n",
       "  210.829,995.616 244.979,996.851 279.128,1000.45 313.278,1006.27 347.427,1014.16 381.576,1023.96 415.726,1035.53 449.875,1048.71 484.024,1063.35 518.174,1079.3 \n",
       "  552.323,1096.41 586.472,1114.53 620.622,1133.5 654.771,1153.18 688.92,1173.42 723.07,1194.06 757.219,1214.95 791.369,1235.94 825.518,1256.88 859.667,1277.62 \n",
       "  893.817,1298 927.966,1317.88 962.115,1337.11 996.265,1355.53 1030.41,1372.99 1064.56,1389.35 1098.71,1404.44 1132.86,1418.12 1167.01,1430.25 1201.16,1440.65 \n",
       "  1235.31,1449.19 1269.46,1455.72 1303.61,1460.08 1337.76,1462.12 1371.91,1461.69 1406.06,1458.64 1440.21,1452.82 1474.36,1444.08 1508.51,1432.26 1542.65,1417.22 \n",
       "  1576.8,1398.8 1610.95,1376.85 1645.1,1351.22 1679.25,1321.76 1713.4,1288.33 1747.55,1250.75 1781.7,1208.9 1815.85,1162.61 1850,1111.73 1884.15,1056.12 \n",
       "  1918.3,995.616 1952.45,930.074 1986.6,859.341 2020.75,783.265 2054.89,701.697 2089.04,614.484 2123.19,521.475 2157.34,422.519 2191.49,317.465 2225.64,206.162 \n",
       "  2259.79,88.4582 \n",
       "  \"/>\n",
       "<polyline clip-path=\"url(#clip4102)\" style=\"stroke:#ff0000; stroke-width:4; stroke-opacity:1; fill:none\" stroke-dasharray=\"16, 10\" points=\"\n",
       "  210.829,1462.26 244.979,1462.26 279.128,1462.26 313.278,1462.26 347.427,1462.26 381.576,1462.26 415.726,1462.26 449.875,1462.26 484.024,1462.26 518.174,1462.26 \n",
       "  552.323,1462.26 586.472,1462.26 620.622,1462.26 654.771,1462.26 688.92,1462.26 723.07,1462.26 757.219,1462.26 791.369,1462.26 825.518,1462.26 859.667,1462.26 \n",
       "  893.817,1462.26 927.966,1462.26 962.115,1462.26 996.265,1462.26 1030.41,1462.26 1064.56,1462.26 1098.71,1462.26 1132.86,1462.26 1167.01,1462.26 1201.16,1462.26 \n",
       "  1235.31,1462.26 1269.46,1462.26 1303.61,1462.26 1337.76,1462.26 1371.91,1462.26 1406.06,1462.26 1440.21,1462.26 1474.36,1462.26 1508.51,1462.26 1542.65,1462.26 \n",
       "  1576.8,1462.26 1610.95,1462.26 1645.1,1462.26 1679.25,1462.26 1713.4,1462.26 1747.55,1462.26 1781.7,1462.26 1815.85,1462.26 1850,1462.26 1884.15,1462.26 \n",
       "  1918.3,1462.26 1952.45,1462.26 1986.6,1462.26 2020.75,1462.26 2054.89,1462.26 2089.04,1462.26 2123.19,1462.26 2157.34,1462.26 2191.49,1462.26 2225.64,1462.26 \n",
       "  2259.79,1462.26 \n",
       "  \"/>\n",
       "<polyline clip-path=\"url(#clip4102)\" style=\"stroke:#ff0000; stroke-width:4; stroke-opacity:1; fill:none\" stroke-dasharray=\"16, 10\" points=\"\n",
       "  210.829,88.4582 244.979,88.4582 279.128,88.4582 313.278,88.4582 347.427,88.4582 381.576,88.4582 415.726,88.4582 449.875,88.4582 484.024,88.4582 518.174,88.4582 \n",
       "  552.323,88.4582 586.472,88.4582 620.622,88.4582 654.771,88.4582 688.92,88.4582 723.07,88.4582 757.219,88.4582 791.369,88.4582 825.518,88.4582 859.667,88.4582 \n",
       "  893.817,88.4582 927.966,88.4582 962.115,88.4582 996.265,88.4582 1030.41,88.4582 1064.56,88.4582 1098.71,88.4582 1132.86,88.4582 1167.01,88.4582 1201.16,88.4582 \n",
       "  1235.31,88.4582 1269.46,88.4582 1303.61,88.4582 1337.76,88.4582 1371.91,88.4582 1406.06,88.4582 1440.21,88.4582 1474.36,88.4582 1508.51,88.4582 1542.65,88.4582 \n",
       "  1576.8,88.4582 1610.95,88.4582 1645.1,88.4582 1679.25,88.4582 1713.4,88.4582 1747.55,88.4582 1781.7,88.4582 1815.85,88.4582 1850,88.4582 1884.15,88.4582 \n",
       "  1918.3,88.4582 1952.45,88.4582 1986.6,88.4582 2020.75,88.4582 2054.89,88.4582 2089.04,88.4582 2123.19,88.4582 2157.34,88.4582 2191.49,88.4582 2225.64,88.4582 \n",
       "  2259.79,88.4582 \n",
       "  \"/>\n",
       "<polygon clip-path=\"url(#clip4100)\" points=\"\n",
       "221.361,251.724 688.744,251.724 688.744,130.764 221.361,130.764 \n",
       "  \" fill=\"#ffffff\" fill-rule=\"evenodd\" fill-opacity=\"1\"/>\n",
       "<polyline clip-path=\"url(#clip4100)\" style=\"stroke:#000000; stroke-width:4; stroke-opacity:1; fill:none\" points=\"\n",
       "  221.361,251.724 688.744,251.724 688.744,130.764 221.361,130.764 221.361,251.724 \n",
       "  \"/>\n",
       "<polyline clip-path=\"url(#clip4100)\" style=\"stroke:#009af9; stroke-width:6; stroke-opacity:1; fill:none\" points=\"\n",
       "  245.361,191.244 389.361,191.244 \n",
       "  \"/>\n",
       "<g clip-path=\"url(#clip4100)\">\n",
       "<text style=\"fill:#000000; fill-opacity:1; font-family:Arial,Helvetica Neue,Helvetica,sans-serif; font-size:48px; text-anchor:start;\" transform=\"rotate(0, 413.361, 208.744)\" x=\"413.361\" y=\"208.744\">Example 5</text>\n",
       "</g>\n",
       "</svg>\n"
      ]
     },
     "execution_count": 19,
     "metadata": {},
     "output_type": "execute_result"
    }
   ],
   "source": [
    "plot(x -> example5(x), inf(dom):0.1:sup(dom), lw=1.5, lab=\"Example 5\", legend=:topleft)\n",
    "plot!(x -> min_bound, inf(dom):0.1:sup(dom), color=:red, linestyle=:dash, lab=\"\")\n",
    "plot!(x -> max_bound, inf(dom):0.1:sup(dom), color=:red, linestyle=:dash, lab=\"\")"
   ]
  },
  {
   "cell_type": "code",
   "execution_count": 20,
   "metadata": {},
   "outputs": [
    {
     "data": {
      "text/plain": [
       "[-17, 22.6001]"
      ]
     },
     "execution_count": 20,
     "metadata": {},
     "output_type": "execute_result"
    }
   ],
   "source": [
    "# using interval arithmetic substitution\n",
    "example5(dom)"
   ]
  },
  {
   "cell_type": "code",
   "execution_count": 21,
   "metadata": {},
   "outputs": [
    {
     "data": {
      "text/plain": [
       "[-8.00001, 6.40001]"
      ]
     },
     "execution_count": 21,
     "metadata": {},
     "output_type": "execute_result"
    }
   ],
   "source": [
    "# using taylor model substitution\n",
    "ord = 2\n",
    "x0 = Interval(mid(dom))\n",
    "y = TaylorModel1(ord, x0, dom)\n",
    "evaluate(example5(y), dom - x0)"
   ]
  },
  {
   "cell_type": "code",
   "execution_count": 22,
   "metadata": {},
   "outputs": [
    {
     "data": {
      "text/plain": [
       "[-4.40001, 6.40001]"
      ]
     },
     "execution_count": 22,
     "metadata": {},
     "output_type": "execute_result"
    }
   ],
   "source": [
    "# using normalized taylor model substitution\n",
    "ynorm = normalize_taylor(y.pol, dom - x0, true)\n",
    "ynormTM = TaylorModel1(ynorm, 0..0, 0..0, -1..1)\n",
    "evaluate(example5(ynormTM), -1..1)"
   ]
  },
  {
   "cell_type": "code",
   "execution_count": 23,
   "metadata": {},
   "outputs": [
    {
     "data": {
      "text/plain": [
       "affine=⟨3.0; [3.0]; [0, 0]⟩; range=[0, 6]"
      ]
     },
     "execution_count": 23,
     "metadata": {},
     "output_type": "execute_result"
    }
   ],
   "source": [
    "# using affine arithmetic\n",
    "x = AFF(dom, 1, 1)"
   ]
  },
  {
   "cell_type": "code",
   "execution_count": 24,
   "metadata": {},
   "outputs": [
    {
     "data": {
      "text/plain": [
       "affine=⟨-0.7999999999999998; [-0.9]; [-4.5, 10.8001]⟩; range=[-7.2, 9.90001]"
      ]
     },
     "execution_count": 24,
     "metadata": {},
     "output_type": "execute_result"
    }
   ],
   "source": [
    "example5(x)"
   ]
  },
  {
   "cell_type": "code",
   "execution_count": 25,
   "metadata": {},
   "outputs": [
    {
     "data": {
      "text/plain": [
       "[-7.2, 9.90001]"
      ]
     },
     "execution_count": 25,
     "metadata": {},
     "output_type": "execute_result"
    }
   ],
   "source": [
    "interval(example5(x))"
   ]
  },
  {
   "cell_type": "markdown",
   "metadata": {},
   "source": [
    "## Appendix "
   ]
  },
  {
   "cell_type": "markdown",
   "metadata": {},
   "source": [
    "Add the following lines in `AffineArithmetic#af`, file `src/AFF.jl`:\n",
    "\n",
    "```julia\n",
    "import Base.*\n",
    "import Base.+\n",
    "\n",
    "Base.:*(α::Real, C::AFF) = AFF(α*C.affine, α*C.range)\n",
    "Base.:+(α::Real, C::AFF) = AFF(α + C.affine, C.range)\n",
    "Base.:+(C::AFF, α::Real) = AFF(α + C.affine, C.range)\n",
    "interval(C::AFF) = C.range\n",
    "```"
   ]
  },
  {
   "cell_type": "markdown",
   "metadata": {},
   "source": [
    "### Examples"
   ]
  },
  {
   "cell_type": "markdown",
   "metadata": {},
   "source": [
    "First consider an example in one variable."
   ]
  },
  {
   "cell_type": "code",
   "execution_count": 26,
   "metadata": {},
   "outputs": [
    {
     "data": {
      "text/plain": [
       "affine=⟨2.0; [1.0]; [0, 0]⟩; range=[1, 3]"
      ]
     },
     "execution_count": 26,
     "metadata": {},
     "output_type": "execute_result"
    }
   ],
   "source": [
    "dom = 1..3\n",
    "x = AFF(dom, 1, 1) # one variable, this is the first one"
   ]
  },
  {
   "cell_type": "code",
   "execution_count": 27,
   "metadata": {
    "scrolled": true
   },
   "outputs": [
    {
     "data": {
      "text/plain": [
       "[1, 27]"
      ]
     },
     "execution_count": 27,
     "metadata": {},
     "output_type": "execute_result"
    }
   ],
   "source": [
    "interval(x^3) # evaluation"
   ]
  },
  {
   "cell_type": "markdown",
   "metadata": {},
   "source": [
    "Consider an example in two variables."
   ]
  },
  {
   "cell_type": "code",
   "execution_count": 28,
   "metadata": {},
   "outputs": [
    {
     "data": {
      "text/plain": [
       "affine=⟨2.0; [1.0, 0.0]; [0, 0]⟩; range=[1, 3]"
      ]
     },
     "execution_count": 28,
     "metadata": {},
     "output_type": "execute_result"
    }
   ],
   "source": [
    "x = AFF(1..3, 2, 1) # two variables, this is the first one"
   ]
  },
  {
   "cell_type": "code",
   "execution_count": 29,
   "metadata": {},
   "outputs": [
    {
     "data": {
      "text/plain": [
       "affine=⟨5.0; [0.0, 1.0]; [0, 0]⟩; range=[4, 6]"
      ]
     },
     "execution_count": 29,
     "metadata": {},
     "output_type": "execute_result"
    }
   ],
   "source": [
    "y = AFF(4..6, 2, 2) # two variables, this is the second one"
   ]
  },
  {
   "cell_type": "code",
   "execution_count": 30,
   "metadata": {},
   "outputs": [
    {
     "data": {
      "text/plain": [
       "[4, 18]"
      ]
     },
     "execution_count": 30,
     "metadata": {},
     "output_type": "execute_result"
    }
   ],
   "source": [
    "interval(x * y) # evaluation"
   ]
  }
 ],
 "metadata": {
  "@webio": {
   "lastCommId": null,
   "lastKernelId": null
  },
  "kernelspec": {
   "display_name": "Julia 1.1.0-rc2",
   "language": "julia",
   "name": "julia-1.1"
  },
  "language_info": {
   "file_extension": ".jl",
   "mimetype": "application/julia",
   "name": "julia",
   "version": "1.1.0"
  }
 },
 "nbformat": 4,
 "nbformat_minor": 2
}
