{
 "cells": [
  {
   "cell_type": "markdown",
   "metadata": {},
   "source": [
    "# 2D Example"
   ]
  },
  {
   "cell_type": "code",
   "execution_count": 1,
   "metadata": {},
   "outputs": [
    {
     "name": "stderr",
     "output_type": "stream",
     "text": [
      "┌ Info: Recompiling stale cache file /home/mforets/.julia/compiled/v1.2/LazySets/NjrGc.ji for LazySets [b4f0291d-fe17-52bc-9479-3d1a343d9043]\n",
      "└ @ Base loading.jl:1240\n"
     ]
    }
   ],
   "source": [
    "using LazySets, Plots\n",
    "using BenchmarkTools"
   ]
  },
  {
   "cell_type": "code",
   "execution_count": 2,
   "metadata": {},
   "outputs": [
    {
     "data": {
      "text/plain": [
       "4-element Array{HalfSpace{Float64,VN} where VN<:AbstractArray{Float64,1},1}:\n",
       " HalfSpace{Float64,LazySets.Arrays.SingleEntryVector{Float64}}([1.0, 0.0], 1.5)  \n",
       " HalfSpace{Float64,LazySets.Arrays.SingleEntryVector{Float64}}([0.0, 1.0], 1.5)  \n",
       " HalfSpace{Float64,LazySets.Arrays.SingleEntryVector{Float64}}([-1.0, 0.0], -0.5)\n",
       " HalfSpace{Float64,LazySets.Arrays.SingleEntryVector{Float64}}([0.0, -1.0], -0.5)"
      ]
     },
     "execution_count": 2,
     "metadata": {},
     "output_type": "execute_result"
    }
   ],
   "source": [
    "# tomemos el ejemplo de una caja en dos dimensiones\n",
    "B = BallInf(ones(2), 0.5)\n",
    "clist = LazySets.constraints_list(B)"
   ]
  },
  {
   "cell_type": "code",
   "execution_count": 3,
   "metadata": {},
   "outputs": [
    {
     "data": {
      "text/plain": [
       "HParallelotope{Float64,Array{Float64,1},Array{Float64,2}}([1.0 0.0; 0.0 1.0], [1.5, 1.5, -0.5, -0.5])"
      ]
     },
     "execution_count": 3,
     "metadata": {},
     "output_type": "execute_result"
    }
   ],
   "source": [
    "# ahora genero el HParallelotope correspondiente para el ejemplo\n",
    "D = [1.0 0.0; 0.0 1.0]\n",
    "c = [1.5, 1.5, -0.5, -0.5]\n",
    "\n",
    "P = HParallelotope(D, c)"
   ]
  },
  {
   "cell_type": "code",
   "execution_count": 4,
   "metadata": {},
   "outputs": [
    {
     "data": {
      "text/plain": [
       "2-element Array{Float64,1}:\n",
       " 0.5\n",
       " 0.5"
      ]
     },
     "execution_count": 4,
     "metadata": {},
     "output_type": "execute_result"
    }
   ],
   "source": [
    "sum(extremal_vertices(P)) / 2 - base_vertex(P)"
   ]
  },
  {
   "cell_type": "code",
   "execution_count": 5,
   "metadata": {},
   "outputs": [
    {
     "data": {
      "text/plain": [
       "2-element Array{Float64,1}:\n",
       " 0.5\n",
       " 0.5"
      ]
     },
     "execution_count": 5,
     "metadata": {},
     "output_type": "execute_result"
    }
   ],
   "source": [
    "base_vertex(P)"
   ]
  },
  {
   "cell_type": "code",
   "execution_count": 6,
   "metadata": {},
   "outputs": [
    {
     "data": {
      "image/svg+xml": [
       "<?xml version=\"1.0\" encoding=\"utf-8\"?>\n",
       "<svg xmlns=\"http://www.w3.org/2000/svg\" xmlns:xlink=\"http://www.w3.org/1999/xlink\" width=\"600\" height=\"400\" viewBox=\"0 0 2400 1600\">\n",
       "<defs>\n",
       "  <clipPath id=\"clip7100\">\n",
       "    <rect x=\"0\" y=\"0\" width=\"2400\" height=\"1600\"/>\n",
       "  </clipPath>\n",
       "</defs>\n",
       "<path clip-path=\"url(#clip7100)\" d=\"\n",
       "M0 1600 L2400 1600 L2400 0 L0 0  Z\n",
       "  \" fill=\"#ffffff\" fill-rule=\"evenodd\" fill-opacity=\"1\"/>\n",
       "<defs>\n",
       "  <clipPath id=\"clip7101\">\n",
       "    <rect x=\"480\" y=\"0\" width=\"1681\" height=\"1600\"/>\n",
       "  </clipPath>\n",
       "</defs>\n",
       "<path clip-path=\"url(#clip7100)\" d=\"\n",
       "M153.898 1487.47 L2352.76 1487.47 L2352.76 47.2441 L153.898 47.2441  Z\n",
       "  \" fill=\"#ffffff\" fill-rule=\"evenodd\" fill-opacity=\"1\"/>\n",
       "<defs>\n",
       "  <clipPath id=\"clip7102\">\n",
       "    <rect x=\"153\" y=\"47\" width=\"2200\" height=\"1441\"/>\n",
       "  </clipPath>\n",
       "</defs>\n",
       "<polyline clip-path=\"url(#clip7102)\" style=\"stroke:#000000; stroke-width:2; stroke-opacity:0.1; fill:none\" points=\"\n",
       "  216.13,1487.47 216.13,47.2441 \n",
       "  \"/>\n",
       "<polyline clip-path=\"url(#clip7102)\" style=\"stroke:#000000; stroke-width:2; stroke-opacity:0.1; fill:none\" points=\"\n",
       "  907.595,1487.47 907.595,47.2441 \n",
       "  \"/>\n",
       "<polyline clip-path=\"url(#clip7102)\" style=\"stroke:#000000; stroke-width:2; stroke-opacity:0.1; fill:none\" points=\"\n",
       "  1599.06,1487.47 1599.06,47.2441 \n",
       "  \"/>\n",
       "<polyline clip-path=\"url(#clip7102)\" style=\"stroke:#000000; stroke-width:2; stroke-opacity:0.1; fill:none\" points=\"\n",
       "  2290.52,1487.47 2290.52,47.2441 \n",
       "  \"/>\n",
       "<polyline clip-path=\"url(#clip7102)\" style=\"stroke:#000000; stroke-width:2; stroke-opacity:0.1; fill:none\" points=\"\n",
       "  153.898,1446.71 2352.76,1446.71 \n",
       "  \"/>\n",
       "<polyline clip-path=\"url(#clip7102)\" style=\"stroke:#000000; stroke-width:2; stroke-opacity:0.1; fill:none\" points=\"\n",
       "  153.898,993.811 2352.76,993.811 \n",
       "  \"/>\n",
       "<polyline clip-path=\"url(#clip7102)\" style=\"stroke:#000000; stroke-width:2; stroke-opacity:0.1; fill:none\" points=\"\n",
       "  153.898,540.908 2352.76,540.908 \n",
       "  \"/>\n",
       "<polyline clip-path=\"url(#clip7102)\" style=\"stroke:#000000; stroke-width:2; stroke-opacity:0.1; fill:none\" points=\"\n",
       "  153.898,88.0053 2352.76,88.0053 \n",
       "  \"/>\n",
       "<polyline clip-path=\"url(#clip7100)\" style=\"stroke:#000000; stroke-width:4; stroke-opacity:1; fill:none\" points=\"\n",
       "  153.898,1487.47 2352.76,1487.47 \n",
       "  \"/>\n",
       "<polyline clip-path=\"url(#clip7100)\" style=\"stroke:#000000; stroke-width:4; stroke-opacity:1; fill:none\" points=\"\n",
       "  153.898,1487.47 153.898,47.2441 \n",
       "  \"/>\n",
       "<polyline clip-path=\"url(#clip7100)\" style=\"stroke:#000000; stroke-width:4; stroke-opacity:1; fill:none\" points=\"\n",
       "  216.13,1487.47 216.13,1465.87 \n",
       "  \"/>\n",
       "<polyline clip-path=\"url(#clip7100)\" style=\"stroke:#000000; stroke-width:4; stroke-opacity:1; fill:none\" points=\"\n",
       "  907.595,1487.47 907.595,1465.87 \n",
       "  \"/>\n",
       "<polyline clip-path=\"url(#clip7100)\" style=\"stroke:#000000; stroke-width:4; stroke-opacity:1; fill:none\" points=\"\n",
       "  1599.06,1487.47 1599.06,1465.87 \n",
       "  \"/>\n",
       "<polyline clip-path=\"url(#clip7100)\" style=\"stroke:#000000; stroke-width:4; stroke-opacity:1; fill:none\" points=\"\n",
       "  2290.52,1487.47 2290.52,1465.87 \n",
       "  \"/>\n",
       "<polyline clip-path=\"url(#clip7100)\" style=\"stroke:#000000; stroke-width:4; stroke-opacity:1; fill:none\" points=\"\n",
       "  153.898,1446.71 186.881,1446.71 \n",
       "  \"/>\n",
       "<polyline clip-path=\"url(#clip7100)\" style=\"stroke:#000000; stroke-width:4; stroke-opacity:1; fill:none\" points=\"\n",
       "  153.898,993.811 186.881,993.811 \n",
       "  \"/>\n",
       "<polyline clip-path=\"url(#clip7100)\" style=\"stroke:#000000; stroke-width:4; stroke-opacity:1; fill:none\" points=\"\n",
       "  153.898,540.908 186.881,540.908 \n",
       "  \"/>\n",
       "<polyline clip-path=\"url(#clip7100)\" style=\"stroke:#000000; stroke-width:4; stroke-opacity:1; fill:none\" points=\"\n",
       "  153.898,88.0053 186.881,88.0053 \n",
       "  \"/>\n",
       "<g clip-path=\"url(#clip7100)\">\n",
       "<text style=\"fill:#000000; fill-opacity:1; font-family:Arial,Helvetica Neue,Helvetica,sans-serif; font-size:48px; text-anchor:middle;\" transform=\"rotate(0, 216.13, 1541.47)\" x=\"216.13\" y=\"1541.47\">0.0</text>\n",
       "</g>\n",
       "<g clip-path=\"url(#clip7100)\">\n",
       "<text style=\"fill:#000000; fill-opacity:1; font-family:Arial,Helvetica Neue,Helvetica,sans-serif; font-size:48px; text-anchor:middle;\" transform=\"rotate(0, 907.595, 1541.47)\" x=\"907.595\" y=\"1541.47\">0.5</text>\n",
       "</g>\n",
       "<g clip-path=\"url(#clip7100)\">\n",
       "<text style=\"fill:#000000; fill-opacity:1; font-family:Arial,Helvetica Neue,Helvetica,sans-serif; font-size:48px; text-anchor:middle;\" transform=\"rotate(0, 1599.06, 1541.47)\" x=\"1599.06\" y=\"1541.47\">1.0</text>\n",
       "</g>\n",
       "<g clip-path=\"url(#clip7100)\">\n",
       "<text style=\"fill:#000000; fill-opacity:1; font-family:Arial,Helvetica Neue,Helvetica,sans-serif; font-size:48px; text-anchor:middle;\" transform=\"rotate(0, 2290.52, 1541.47)\" x=\"2290.52\" y=\"1541.47\">1.5</text>\n",
       "</g>\n",
       "<g clip-path=\"url(#clip7100)\">\n",
       "<text style=\"fill:#000000; fill-opacity:1; font-family:Arial,Helvetica Neue,Helvetica,sans-serif; font-size:48px; text-anchor:end;\" transform=\"rotate(0, 129.898, 1464.21)\" x=\"129.898\" y=\"1464.21\">0.0</text>\n",
       "</g>\n",
       "<g clip-path=\"url(#clip7100)\">\n",
       "<text style=\"fill:#000000; fill-opacity:1; font-family:Arial,Helvetica Neue,Helvetica,sans-serif; font-size:48px; text-anchor:end;\" transform=\"rotate(0, 129.898, 1011.31)\" x=\"129.898\" y=\"1011.31\">0.5</text>\n",
       "</g>\n",
       "<g clip-path=\"url(#clip7100)\">\n",
       "<text style=\"fill:#000000; fill-opacity:1; font-family:Arial,Helvetica Neue,Helvetica,sans-serif; font-size:48px; text-anchor:end;\" transform=\"rotate(0, 129.898, 558.408)\" x=\"129.898\" y=\"558.408\">1.0</text>\n",
       "</g>\n",
       "<g clip-path=\"url(#clip7100)\">\n",
       "<text style=\"fill:#000000; fill-opacity:1; font-family:Arial,Helvetica Neue,Helvetica,sans-serif; font-size:48px; text-anchor:end;\" transform=\"rotate(0, 129.898, 105.505)\" x=\"129.898\" y=\"105.505\">1.5</text>\n",
       "</g>\n",
       "<path clip-path=\"url(#clip7102)\" d=\"\n",
       "M2290.52 88.0053 L907.595 88.0053 L907.595 993.811 L2290.52 993.811 L2290.52 88.0053 L2290.52 88.0053  Z\n",
       "  \" fill=\"#009af9\" fill-rule=\"evenodd\" fill-opacity=\"0.5\"/>\n",
       "<polyline clip-path=\"url(#clip7102)\" style=\"stroke:#000000; stroke-width:4; stroke-opacity:0.5; fill:none\" points=\"\n",
       "  2290.52,88.0053 907.595,88.0053 907.595,993.811 2290.52,993.811 2290.52,88.0053 \n",
       "  \"/>\n",
       "<circle clip-path=\"url(#clip7102)\" style=\"fill:#000000; stroke:none; fill-opacity:0.5\" cx=\"2290.52\" cy=\"993.811\" r=\"18\"/>\n",
       "<circle clip-path=\"url(#clip7102)\" style=\"fill:#e26f46; stroke:none; fill-opacity:0.5\" cx=\"2290.52\" cy=\"993.811\" r=\"14\"/>\n",
       "<circle clip-path=\"url(#clip7102)\" style=\"fill:#000000; stroke:none; fill-opacity:0.5\" cx=\"907.595\" cy=\"88.0053\" r=\"18\"/>\n",
       "<circle clip-path=\"url(#clip7102)\" style=\"fill:#3da44d; stroke:none; fill-opacity:0.5\" cx=\"907.595\" cy=\"88.0053\" r=\"14\"/>\n",
       "<circle clip-path=\"url(#clip7102)\" style=\"fill:#000000; stroke:none; fill-opacity:0.5\" cx=\"907.595\" cy=\"993.811\" r=\"18\"/>\n",
       "<circle clip-path=\"url(#clip7102)\" style=\"fill:#c271d2; stroke:none; fill-opacity:0.5\" cx=\"907.595\" cy=\"993.811\" r=\"14\"/>\n",
       "<line clip-path=\"url(#clip7102)\" x1=\"216.13\" y1=\"1446.71\" x2=\"196.13\" y2=\"1466.71\" style=\"stroke:#000000; stroke-width:4; stroke-opacity:0.5\"/>\n",
       "<line clip-path=\"url(#clip7102)\" x1=\"216.13\" y1=\"1446.71\" x2=\"196.13\" y2=\"1426.71\" style=\"stroke:#000000; stroke-width:4; stroke-opacity:0.5\"/>\n",
       "<line clip-path=\"url(#clip7102)\" x1=\"216.13\" y1=\"1446.71\" x2=\"236.13\" y2=\"1426.71\" style=\"stroke:#000000; stroke-width:4; stroke-opacity:0.5\"/>\n",
       "<line clip-path=\"url(#clip7102)\" x1=\"216.13\" y1=\"1446.71\" x2=\"236.13\" y2=\"1466.71\" style=\"stroke:#000000; stroke-width:4; stroke-opacity:0.5\"/>\n",
       "<path clip-path=\"url(#clip7100)\" d=\"\n",
       "M1668.92 1343.47 L2280.76 1343.47 L2280.76 1101.55 L1668.92 1101.55  Z\n",
       "  \" fill=\"#ffffff\" fill-rule=\"evenodd\" fill-opacity=\"1\"/>\n",
       "<polyline clip-path=\"url(#clip7100)\" style=\"stroke:#000000; stroke-width:4; stroke-opacity:1; fill:none\" points=\"\n",
       "  1668.92,1343.47 2280.76,1343.47 2280.76,1101.55 1668.92,1101.55 1668.92,1343.47 \n",
       "  \"/>\n",
       "<circle clip-path=\"url(#clip7100)\" style=\"fill:#000000; stroke:none; fill-opacity:0.5\" cx=\"1776.92\" cy=\"1162.03\" r=\"25\"/>\n",
       "<circle clip-path=\"url(#clip7100)\" style=\"fill:#e26f46; stroke:none; fill-opacity:0.5\" cx=\"1776.92\" cy=\"1162.03\" r=\"21\"/>\n",
       "<g clip-path=\"url(#clip7100)\">\n",
       "<text style=\"fill:#000000; fill-opacity:1; font-family:Arial,Helvetica Neue,Helvetica,sans-serif; font-size:48px; text-anchor:start;\" transform=\"rotate(0, 1860.92, 1179.53)\" x=\"1860.92\" y=\"1179.53\">extreme vertex 1</text>\n",
       "</g>\n",
       "<circle clip-path=\"url(#clip7100)\" style=\"fill:#000000; stroke:none; fill-opacity:0.5\" cx=\"1776.92\" cy=\"1222.51\" r=\"25\"/>\n",
       "<circle clip-path=\"url(#clip7100)\" style=\"fill:#3da44d; stroke:none; fill-opacity:0.5\" cx=\"1776.92\" cy=\"1222.51\" r=\"21\"/>\n",
       "<g clip-path=\"url(#clip7100)\">\n",
       "<text style=\"fill:#000000; fill-opacity:1; font-family:Arial,Helvetica Neue,Helvetica,sans-serif; font-size:48px; text-anchor:start;\" transform=\"rotate(0, 1860.92, 1240.01)\" x=\"1860.92\" y=\"1240.01\">extreme vertex 2 </text>\n",
       "</g>\n",
       "<circle clip-path=\"url(#clip7100)\" style=\"fill:#000000; stroke:none; fill-opacity:0.5\" cx=\"1776.92\" cy=\"1282.99\" r=\"25\"/>\n",
       "<circle clip-path=\"url(#clip7100)\" style=\"fill:#c271d2; stroke:none; fill-opacity:0.5\" cx=\"1776.92\" cy=\"1282.99\" r=\"21\"/>\n",
       "<g clip-path=\"url(#clip7100)\">\n",
       "<text style=\"fill:#000000; fill-opacity:1; font-family:Arial,Helvetica Neue,Helvetica,sans-serif; font-size:48px; text-anchor:start;\" transform=\"rotate(0, 1860.92, 1300.49)\" x=\"1860.92\" y=\"1300.49\">base vertex</text>\n",
       "</g>\n",
       "</svg>\n"
      ]
     },
     "execution_count": 6,
     "metadata": {},
     "output_type": "execute_result"
    }
   ],
   "source": [
    "v = extremal_vertices(P)\n",
    "\n",
    "plot(B)\n",
    "plot!(Singleton(v[1]), lab=\"extreme vertex 1\")\n",
    "plot!(Singleton(v[2]), lab=\"extreme vertex 2 \")\n",
    "plot!(Singleton(base_vertex(P)), lab=\"base vertex\", legend=:bottomright)\n",
    "plot!(Singleton([0.0, 0.0]), marker=:x)"
   ]
  },
  {
   "cell_type": "markdown",
   "metadata": {},
   "source": [
    "Question 1: can we do a more efficient version of constraints list?\n",
    "\n",
    "We may be able to have a non-allocating version using views instead of `D[i, :]`."
   ]
  },
  {
   "cell_type": "code",
   "execution_count": 7,
   "metadata": {},
   "outputs": [
    {
     "name": "stdout",
     "output_type": "stream",
     "text": [
      "  196.688 ns (11 allocations: 816 bytes)\n"
     ]
    },
    {
     "data": {
      "text/plain": [
       "4-element Array{HalfSpace{Float64,VN} where VN<:AbstractArray{Float64,1},1}:\n",
       " HalfSpace{Float64,Array{Float64,1}}([1.0, 0.0], 1.5)   \n",
       " HalfSpace{Float64,Array{Float64,1}}([0.0, 1.0], 1.5)   \n",
       " HalfSpace{Float64,Array{Float64,1}}([-1.0, -0.0], -0.5)\n",
       " HalfSpace{Float64,Array{Float64,1}}([-0.0, -1.0], -0.5)"
      ]
     },
     "execution_count": 7,
     "metadata": {},
     "output_type": "execute_result"
    }
   ],
   "source": [
    "@btime constraints_list($P)"
   ]
  },
  {
   "cell_type": "markdown",
   "metadata": {},
   "source": [
    "Question 2: can we improve the behavior of the `generators` function?\n",
    "\n",
    "At the moment, this function uses the fallback implementation which computes `genmat` hences it already computes *all* the generators when it is called. However, an iterative version of `extremal_vertices` is feasible."
   ]
  },
  {
   "cell_type": "code",
   "execution_count": 8,
   "metadata": {},
   "outputs": [
    {
     "data": {
      "text/plain": [
       "LazySets.FallbackGeneratorIterator{Array{Float64,2}}([0.5 0.0; 0.0 0.5], 3)"
      ]
     },
     "execution_count": 8,
     "metadata": {},
     "output_type": "execute_result"
    }
   ],
   "source": [
    "G = generators(P)"
   ]
  },
  {
   "cell_type": "code",
   "execution_count": 9,
   "metadata": {},
   "outputs": [
    {
     "data": {
      "text/plain": [
       "2-element Array{Array{Float64,1},1}:\n",
       " [0.5, 0.0]\n",
       " [0.0, 0.5]"
      ]
     },
     "execution_count": 9,
     "metadata": {},
     "output_type": "execute_result"
    }
   ],
   "source": [
    "collect(G)"
   ]
  },
  {
   "cell_type": "markdown",
   "metadata": {},
   "source": [
    "Question 3: can we make the support function faster? (this improvement would indirectly affect other functions, such as box approximations, etc).\n",
    "\n",
    "The proposed solution to this question is to cache the `base_vertex` and the `extremal_vertices`."
   ]
  },
  {
   "cell_type": "markdown",
   "metadata": {},
   "source": [
    "## Performance of the support function"
   ]
  },
  {
   "cell_type": "code",
   "execution_count": 10,
   "metadata": {},
   "outputs": [
    {
     "name": "stdout",
     "output_type": "stream",
     "text": [
      "  1.968 μs (54 allocations: 3.77 KiB)\n"
     ]
    },
    {
     "data": {
      "text/plain": [
       "1.5"
      ]
     },
     "execution_count": 10,
     "metadata": {},
     "output_type": "execute_result"
    }
   ],
   "source": [
    "d = [1.0, 0.0]\n",
    "\n",
    "@btime ρ($d, $P)"
   ]
  },
  {
   "cell_type": "code",
   "execution_count": 11,
   "metadata": {},
   "outputs": [
    {
     "name": "stdout",
     "output_type": "stream",
     "text": [
      "  5.159 ns (0 allocations: 0 bytes)\n"
     ]
    },
    {
     "data": {
      "text/plain": [
       "1.5"
      ]
     },
     "execution_count": 11,
     "metadata": {},
     "output_type": "execute_result"
    }
   ],
   "source": [
    "@btime ρ($d, $B)"
   ]
  },
  {
   "cell_type": "code",
   "execution_count": 12,
   "metadata": {},
   "outputs": [
    {
     "data": {
      "text/html": [
       "ρ(d::<b>AbstractArray{N,1}</b>, Z::<b>AbstractZonotope{N}</b>)<i> where N<:Real</i> in LazySets at <a href=\"https://github.com/JuliaReach/LazySets.jl/tree/c1e333cf018caeab04912d8aa64756fa85909751//src/Interfaces/AbstractZonotope.jl#L191\" target=\"_blank\">/home/mforets/.julia/dev/LazySets/src/Interfaces/AbstractZonotope.jl:191</a>"
      ],
      "text/plain": [
       "ρ(d::AbstractArray{N,1}, Z::AbstractZonotope{N}) where N<:Real in LazySets at /home/mforets/.julia/dev/LazySets/src/Interfaces/AbstractZonotope.jl:191"
      ]
     },
     "execution_count": 12,
     "metadata": {},
     "output_type": "execute_result"
    }
   ],
   "source": [
    "@which ρ(d, P)"
   ]
  },
  {
   "cell_type": "markdown",
   "metadata": {},
   "source": [
    "This operation is suboptimal because the base vertex and the extremal vertices are computed twice: once to get the center of `P`, and a second time to get the matrix of generators of `P`.\n",
    "\n",
    "One idea is to cache the base vertex and extremal vertices (or just the center and generators)."
   ]
  },
  {
   "cell_type": "markdown",
   "metadata": {},
   "source": [
    "# 3D Example"
   ]
  },
  {
   "cell_type": "code",
   "execution_count": 13,
   "metadata": {},
   "outputs": [
    {
     "name": "stderr",
     "output_type": "stream",
     "text": [
      "WARNING: using Polyhedra.HalfSpace in module Main conflicts with an existing identifier.\n",
      "WARNING: using Makie.plot! in module Main conflicts with an existing identifier.\n",
      "WARNING: using Makie.plot in module Main conflicts with an existing identifier.\n"
     ]
    }
   ],
   "source": [
    "using LazySets, Polyhedra, Makie"
   ]
  },
  {
   "cell_type": "code",
   "execution_count": 14,
   "metadata": {},
   "outputs": [
    {
     "data": {
      "text/plain": [
       "HParallelotope{Float64,Array{Float64,1},Array{Float64,2}}([-1.0 0.0 0.0; -1.0 -1.0 0.0; 0.0 0.0 -1.0], [-0.8, -0.95, 0.0, 0.85, 1.0, 0.0])"
      ]
     },
     "execution_count": 14,
     "metadata": {},
     "output_type": "execute_result"
    }
   ],
   "source": [
    "# Example 6 from [1].\n",
    "#\n",
    "# [1] Dreossi, Tommaso, Thao Dang, and Carla Piazza. *Reachability computation for polynomial dynamical systems.*\n",
    "#      Formal Methods in System Design 50.1 (2017): 1-38.\n",
    "D = [-1.0 0 0; -1 -1 0; 0 0 -1]\n",
    "c = [-0.80, -0.95, 0.0, 0.85, 1.0, 0.0]\n",
    "\n",
    "P = HParallelotope(D, c)"
   ]
  },
  {
   "cell_type": "code",
   "execution_count": 17,
   "metadata": {},
   "outputs": [
    {
     "data": {
      "text/plain": [
       "3-element Array{Float64,1}:\n",
       " 0.85               \n",
       " 0.15000000000000002\n",
       " 0.0                "
      ]
     },
     "execution_count": 17,
     "metadata": {},
     "output_type": "execute_result"
    }
   ],
   "source": [
    "base_vertex(P)"
   ]
  },
  {
   "cell_type": "code",
   "execution_count": 18,
   "metadata": {},
   "outputs": [
    {
     "data": {
      "text/plain": [
       "3-element Array{Array{Float64,1},1}:\n",
       " [0.8, 0.19999999999999996, 0.0]  \n",
       " [0.85, 0.09999999999999998, 0.0] \n",
       " [0.85, 0.15000000000000002, -0.0]"
      ]
     },
     "execution_count": 18,
     "metadata": {},
     "output_type": "execute_result"
    }
   ],
   "source": [
    "extremal_vertices(P)"
   ]
  },
  {
   "cell_type": "code",
   "execution_count": 19,
   "metadata": {},
   "outputs": [
    {
     "name": "stderr",
     "output_type": "stream",
     "text": [
      "┌ Warning: No strict ticks found\n",
      "└ @ PlotUtils /home/mforets/.julia/packages/PlotUtils/35TGG/src/ticks.jl:173\n",
      "┌ Warning: No strict ticks found\n",
      "└ @ PlotUtils /home/mforets/.julia/packages/PlotUtils/35TGG/src/ticks.jl:173\n",
      "┌ Warning: No strict ticks found\n",
      "└ @ PlotUtils /home/mforets/.julia/packages/PlotUtils/35TGG/src/ticks.jl:173\n",
      "ArgumentError: "
     ]
    },
    {
     "name": "stdout",
     "output_type": "stream",
     "text": [
      "with ticks: "
     ]
    },
    {
     "name": "stderr",
     "output_type": "stream",
     "text": [
      "At least one finite value must be provided to formatter."
     ]
    },
    {
     "name": "stdout",
     "output_type": "stream",
     "text": [
      "[-Inf, Inf]\n",
      "with ticks: [-Inf, Inf]\n",
      "with ticks: [-Inf, Inf]\n"
     ]
    },
    {
     "name": "stderr",
     "output_type": "stream",
     "text": [
      "ArgumentError: At least one finite value must be provided to formatter.ArgumentError: At least one finite value must be provided to formatter."
     ]
    },
    {
     "data": {},
     "execution_count": 19,
     "metadata": {},
     "output_type": "execute_result"
    }
   ],
   "source": [
    "LazySets.plot3d(Singleton(base_vertex(P)))"
   ]
  }
 ],
 "metadata": {
  "kernelspec": {
   "display_name": "Julia 1.2.0",
   "language": "julia",
   "name": "julia-1.2"
  },
  "language_info": {
   "file_extension": ".jl",
   "mimetype": "application/julia",
   "name": "julia",
   "version": "1.2.0"
  }
 },
 "nbformat": 4,
 "nbformat_minor": 2
}
