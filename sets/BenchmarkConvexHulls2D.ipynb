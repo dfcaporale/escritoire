{
 "cells": [
  {
   "cell_type": "markdown",
   "metadata": {},
   "source": [
    "## Benchmarking 2D Convex Hull Algorithms\n",
    "\n",
    "\n",
    "#### References\n",
    "\n",
    "- https://github.com/tkoolen/PlanarConvexHulls.jl/blob/master/perf/runbenchmarks.jl"
   ]
  },
  {
   "cell_type": "markdown",
   "metadata": {},
   "source": [
    "## Using Jarvis march"
   ]
  },
  {
   "cell_type": "code",
   "execution_count": 2,
   "metadata": {},
   "outputs": [
    {
     "name": "stderr",
     "output_type": "stream",
     "text": [
      "WARNING: both PlanarConvexHulls and LazySets export \"ConvexHull\"; uses of it in module Main must be qualified\n"
     ]
    },
    {
     "ename": "UndefVarError",
     "evalue": "UndefVarError: ConvexHull not defined",
     "output_type": "error",
     "traceback": [
      "UndefVarError: ConvexHull not defined",
      "",
      "Stacktrace:",
      " [1] top-level scope at In[2]:16"
     ]
    }
   ],
   "source": [
    "using Revise\n",
    "using BenchmarkTools, PlanarConvexHulls, StaticArrays, Random\n",
    "\n",
    "npoints = [1, 2, 3, 4, 5, 10, 20, 50, 100, 200, 500, 1000]\n",
    "\n",
    "function jarvis_march(points)\n",
    "    hull = ConvexHull{CCW, T}()\n",
    "    jarvis_march!(hull, points)\n",
    "    return hull\n",
    "end\n",
    "\n",
    "const T = Float64\n",
    "p_jarvis = []\n",
    "for n in npoints\n",
    "    rng = MersenneTwister(n)\n",
    "    hull = ConvexHull{CCW, T}()\n",
    "    sizehint!(hull, n)\n",
    "    points = [rand(rng, SVector{2, T}) for _ = 1 : n]\n",
    "    push!(p_jarvis, @btime jarvis_march($points))\n",
    "end"
   ]
  },
  {
   "cell_type": "code",
   "execution_count": 2,
   "metadata": {},
   "outputs": [],
   "source": [
    "times_jarvis = [17.767e-9, 18.081e-9, 40.232e-9, 56.027e-9, 73.775e-9, 174.207e-9, 328.356e-9,\n",
    "                1.682e-6, 3.982e-6, 8.250e-6, 19.543e-6, 41.412e-6];\n",
    "\n",
    "#=\n",
    "usando \n",
    "push!(p_jarvis, @btime jarvis_march($points))\n",
    "\n",
    "  78.417 ns (3 allocations: 176 bytes)\n",
    "  79.164 ns (3 allocations: 176 bytes)\n",
    "  103.409 ns (3 allocations: 176 bytes)\n",
    "  120.318 ns (3 allocations: 176 bytes)\n",
    "  134.157 ns (3 allocations: 192 bytes)\n",
    "  245.122 ns (3 allocations: 272 bytes)\n",
    "  462.492 ns (3 allocations: 496 bytes)\n",
    "  1.897 μs (3 allocations: 992 bytes)\n",
    "  4.319 μs (3 allocations: 1.69 KiB)\n",
    "  8.660 μs (3 allocations: 3.28 KiB)\n",
    "  19.445 μs (3 allocations: 7.97 KiB)\n",
    "  42.078 μs (3 allocations: 15.78 KiB)\n",
    "=#"
   ]
  },
  {
   "cell_type": "markdown",
   "metadata": {},
   "source": [
    "## Using Andrew's monotone chain"
   ]
  },
  {
   "cell_type": "code",
   "execution_count": 3,
   "metadata": {},
   "outputs": [
    {
     "name": "stdout",
     "output_type": "stream",
     "text": [
      "  9.150 ns (0 allocations: 0 bytes)\n",
      "  51.692 ns (0 allocations: 0 bytes)\n",
      "  17.357 ns (0 allocations: 0 bytes)\n",
      "  17.056 ns (0 allocations: 0 bytes)\n",
      "  25.128 ns (0 allocations: 0 bytes)\n",
      "  445.652 ns (8 allocations: 640 bytes)\n",
      "  414.769 ns (7 allocations: 496 bytes)\n",
      "  711.924 ns (9 allocations: 784 bytes)\n",
      "  896.244 ns (10 allocations: 1.09 KiB)\n",
      "  951.571 ns (11 allocations: 1.42 KiB)\n",
      "  904.643 ns (10 allocations: 1.09 KiB)\n",
      "  1.078 μs (11 allocations: 1.42 KiB)\n"
     ]
    }
   ],
   "source": [
    "using LazySets\n",
    "\n",
    "p_andrew = []\n",
    "\n",
    "for n in npoints\n",
    "    rng = MersenneTwister(n)\n",
    "    points = [rand(rng, SVector{2, T}) for _ = 1 : n]\n",
    "    push!(p_andrew, @btime convex_hull!($(copy(points))))\n",
    "end"
   ]
  },
  {
   "cell_type": "code",
   "execution_count": 5,
   "metadata": {},
   "outputs": [],
   "source": [
    "# LazySets v1.12.0\n",
    "times_andrew = [6.224e-9, 46.164e-9, 327.271e-9, 418.784e-9, 396.647e-9, 683.952e-9,\n",
    "                855.274e-9, 922.758e-9, 893.500e-9, 1.004e-6];\n",
    "\n",
    "# LazySets v1.13.0\n",
    "#=\n",
    "  4.751 ns (0 allocations: 0 bytes)\n",
    "  48.096 ns (0 allocations: 0 bytes)\n",
    "  13.713 ns (0 allocations: 0 bytes)\n",
    "  13.021 ns (0 allocations: 0 bytes)\n",
    "  331.976 ns (7 allocations: 496 bytes)\n",
    "  423.641 ns (8 allocations: 640 bytes)\n",
    "  406.845 ns (7 allocations: 496 bytes)\n",
    "  698.888 ns (9 allocations: 784 bytes)\n",
    "  867.765 ns (10 allocations: 1.09 KiB)\n",
    "  936.958 ns (11 allocations: 1.42 KiB)\n",
    "  931.880 ns (10 allocations: 1.09 KiB)\n",
    "  1.020 μs (11 allocations: 1.42 KiB)\n",
    "=#\n",
    "\n",
    "# LazySets v1.13.0\n",
    "#=\n",
    "  9.462 ns (0 allocations: 0 bytes)\n",
    "  52.189 ns (0 allocations: 0 bytes)\n",
    "  17.156 ns (0 allocations: 0 bytes)\n",
    "  17.365 ns (0 allocations: 0 bytes)\n",
    "  39.992 ns (1 allocation: 16 bytes)\n",
    "  426.379 ns (8 allocations: 640 bytes)\n",
    "  433.737 ns (7 allocations: 496 bytes)\n",
    "  704.643 ns (9 allocations: 784 bytes)\n",
    "  865.407 ns (10 allocations: 1.09 KiB)\n",
    "  958.053 ns (11 allocations: 1.42 KiB)\n",
    "  911.556 ns (10 allocations: 1.09 KiB)\n",
    "  1.020 μs (11 allocations: 1.42 KiB)\n",
    "=#\n",
    "\n",
    "#=\n",
    "LazySets v1.13.0, en master, usando convex_hull($points)\n",
    "\n",
    "  41.622 ns (1 allocation: 96 bytes)\n",
    "  94.421 ns (1 allocation: 112 bytes)\n",
    "  52.259 ns (1 allocation: 128 bytes)\n",
    "  395.609 ns (8 allocations: 640 bytes)\n",
    "  420.528 ns (8 allocations: 656 bytes)\n",
    "  659.885 ns (9 allocations: 880 bytes)\n",
    "  1.249 μs (10 allocations: 1.20 KiB)\n",
    "  3.008 μs (11 allocations: 2.08 KiB)\n",
    "  6.159 μs (13 allocations: 4.06 KiB)\n",
    "  13.189 μs (13 allocations: 6.27 KiB)\n",
    "  44.797 μs (13 allocations: 13.36 KiB)\n",
    "  110.886 μs (13 allocations: 25.05 KiB)\n",
    "=#\n",
    "\n",
    "#=\n",
    "LazySets v1.13.0, en pr/1434, usando convex_hull($points)\n",
    "\n",
    "  37.709 ns (1 allocation: 96 bytes)\n",
    "  82.427 ns (1 allocation: 112 bytes)\n",
    "  45.371 ns (1 allocation: 128 bytes)\n",
    "  69.064 ns (2 allocations: 160 bytes)\n",
    "  410.890 ns (8 allocations: 656 bytes)\n",
    "  649.139 ns (9 allocations: 880 bytes)\n",
    "  1.249 μs (10 allocations: 1.20 KiB)\n",
    "  2.836 μs (11 allocations: 2.08 KiB)\n",
    "  6.011 μs (13 allocations: 4.06 KiB)\n",
    "  13.467 μs (13 allocations: 6.27 KiB)\n",
    "  44.475 μs (13 allocations: 13.36 KiB)\n",
    "  111.254 μs (13 allocations: 25.05 KiB)\n",
    "=#\n",
    "\n",
    "#=\n",
    "  6.713 ns (0 allocations: 0 bytes)\n",
    "  50.224 ns (0 allocations: 0 bytes)\n",
    "  15.240 ns (0 allocations: 0 bytes)\n",
    "  14.925 ns (0 allocations: 0 bytes)\n",
    "  24.726 ns (0 allocations: 0 bytes)\n",
    "  437.005 ns (8 allocations: 640 bytes)\n",
    "  424.111 ns (7 allocations: 496 bytes)\n",
    "  699.099 ns (9 allocations: 784 bytes)\n",
    "  917.429 ns (10 allocations: 1.09 KiB)\n",
    "  933.000 ns (11 allocations: 1.42 KiB)\n",
    "  912.179 ns (10 allocations: 1.09 KiB)\n",
    "  1.059 μs (11 allocations: 1.42 KiB)\n",
    "=#"
   ]
  },
  {
   "cell_type": "code",
   "execution_count": 6,
   "metadata": {},
   "outputs": [
    {
     "data": {
      "text/plain": [
       "1-element Array{SArray{Tuple{2},Float64,1,2},1}:\n",
       " [0.236033, 0.346517]"
      ]
     },
     "execution_count": 6,
     "metadata": {},
     "output_type": "execute_result"
    }
   ],
   "source": [
    "p_andrew[1]"
   ]
  },
  {
   "cell_type": "code",
   "execution_count": 7,
   "metadata": {},
   "outputs": [
    {
     "data": {
      "text/plain": [
       "1-element Array{SArray{Tuple{2},Float64,1,2},1}:\n",
       " [0.236033, 0.346517]"
      ]
     },
     "execution_count": 7,
     "metadata": {},
     "output_type": "execute_result"
    }
   ],
   "source": [
    "p_jarvis[1].vertices"
   ]
  },
  {
   "cell_type": "code",
   "execution_count": 8,
   "metadata": {},
   "outputs": [
    {
     "data": {
      "text/plain": [
       "2-element Array{SArray{Tuple{2},Float64,1,2},1}:\n",
       " [0.366796, 0.523879]\n",
       " [0.210256, 0.819338]"
      ]
     },
     "execution_count": 8,
     "metadata": {},
     "output_type": "execute_result"
    }
   ],
   "source": [
    "p_andrew[2]"
   ]
  },
  {
   "cell_type": "code",
   "execution_count": 9,
   "metadata": {},
   "outputs": [
    {
     "data": {
      "text/plain": [
       "2-element Array{SArray{Tuple{2},Float64,1,2},1}:\n",
       " [0.366796, 0.523879]\n",
       " [0.210256, 0.819338]"
      ]
     },
     "execution_count": 9,
     "metadata": {},
     "output_type": "execute_result"
    }
   ],
   "source": [
    "p_jarvis[2].vertices"
   ]
  },
  {
   "cell_type": "code",
   "execution_count": 10,
   "metadata": {},
   "outputs": [
    {
     "data": {
      "text/plain": [
       "3-element Array{SArray{Tuple{2},Float64,1,2},1}:\n",
       " [0.140061, 0.509444]\n",
       " [0.807622, 0.970091]\n",
       " [0.811698, 0.988432]"
      ]
     },
     "execution_count": 10,
     "metadata": {},
     "output_type": "execute_result"
    }
   ],
   "source": [
    "p_andrew[3]"
   ]
  },
  {
   "cell_type": "code",
   "execution_count": 11,
   "metadata": {},
   "outputs": [
    {
     "data": {
      "text/plain": [
       "3-element Array{SArray{Tuple{2},Float64,1,2},1}:\n",
       " [0.140061, 0.509444]\n",
       " [0.807622, 0.970091]\n",
       " [0.811698, 0.988432]"
      ]
     },
     "execution_count": 11,
     "metadata": {},
     "output_type": "execute_result"
    }
   ],
   "source": [
    "p_jarvis[3].vertices"
   ]
  },
  {
   "cell_type": "code",
   "execution_count": 12,
   "metadata": {},
   "outputs": [
    {
     "data": {
      "text/plain": [
       "true"
      ]
     },
     "execution_count": 12,
     "metadata": {},
     "output_type": "execute_result"
    }
   ],
   "source": [
    "all([p_andrew[i] == p_jarvis[i].vertices for i in 1:10])"
   ]
  },
  {
   "cell_type": "code",
   "execution_count": 13,
   "metadata": {},
   "outputs": [],
   "source": [
    "using Plots"
   ]
  },
  {
   "cell_type": "code",
   "execution_count": 14,
   "metadata": {},
   "outputs": [
    {
     "data": {
      "image/svg+xml": [
       "<?xml version=\"1.0\" encoding=\"utf-8\"?>\n",
       "<svg xmlns=\"http://www.w3.org/2000/svg\" xmlns:xlink=\"http://www.w3.org/1999/xlink\" width=\"600\" height=\"400\" viewBox=\"0 0 2400 1600\">\n",
       "<defs>\n",
       "  <clipPath id=\"clip7200\">\n",
       "    <rect x=\"0\" y=\"0\" width=\"2000\" height=\"2000\"/>\n",
       "  </clipPath>\n",
       "</defs>\n",
       "<defs>\n",
       "  <clipPath id=\"clip7201\">\n",
       "    <rect x=\"0\" y=\"0\" width=\"2400\" height=\"1600\"/>\n",
       "  </clipPath>\n",
       "</defs>\n",
       "<polygon clip-path=\"url(#clip7201)\" points=\"\n",
       "0,1600 2400,1600 2400,0 0,0 \n",
       "  \" fill=\"#ffffff\" fill-rule=\"evenodd\" fill-opacity=\"1\"/>\n",
       "<defs>\n",
       "  <clipPath id=\"clip7202\">\n",
       "    <rect x=\"480\" y=\"0\" width=\"1681\" height=\"1600\"/>\n",
       "  </clipPath>\n",
       "</defs>\n",
       "<polygon clip-path=\"url(#clip7201)\" points=\"\n",
       "288.452,1440.48 2321.26,1440.48 2321.26,47.2441 288.452,47.2441 \n",
       "  \" fill=\"#ffffff\" fill-rule=\"evenodd\" fill-opacity=\"1\"/>\n",
       "<defs>\n",
       "  <clipPath id=\"clip7203\">\n",
       "    <rect x=\"288\" y=\"47\" width=\"2034\" height=\"1394\"/>\n",
       "  </clipPath>\n",
       "</defs>\n",
       "<polyline clip-path=\"url(#clip7203)\" style=\"stroke:#000000; stroke-width:2; stroke-opacity:0.1; fill:none\" points=\"\n",
       "  345.984,1440.48 345.984,47.2441 \n",
       "  \"/>\n",
       "<polyline clip-path=\"url(#clip7203)\" style=\"stroke:#000000; stroke-width:2; stroke-opacity:0.1; fill:none\" points=\"\n",
       "  985.232,1440.48 985.232,47.2441 \n",
       "  \"/>\n",
       "<polyline clip-path=\"url(#clip7203)\" style=\"stroke:#000000; stroke-width:2; stroke-opacity:0.1; fill:none\" points=\"\n",
       "  1624.48,1440.48 1624.48,47.2441 \n",
       "  \"/>\n",
       "<polyline clip-path=\"url(#clip7203)\" style=\"stroke:#000000; stroke-width:2; stroke-opacity:0.1; fill:none\" points=\"\n",
       "  2263.73,1440.48 2263.73,47.2441 \n",
       "  \"/>\n",
       "<polyline clip-path=\"url(#clip7203)\" style=\"stroke:#000000; stroke-width:2; stroke-opacity:0.1; fill:none\" points=\"\n",
       "  288.452,1330.25 2321.26,1330.25 \n",
       "  \"/>\n",
       "<polyline clip-path=\"url(#clip7203)\" style=\"stroke:#000000; stroke-width:2; stroke-opacity:0.1; fill:none\" points=\"\n",
       "  288.452,986.45 2321.26,986.45 \n",
       "  \"/>\n",
       "<polyline clip-path=\"url(#clip7203)\" style=\"stroke:#000000; stroke-width:2; stroke-opacity:0.1; fill:none\" points=\"\n",
       "  288.452,642.647 2321.26,642.647 \n",
       "  \"/>\n",
       "<polyline clip-path=\"url(#clip7203)\" style=\"stroke:#000000; stroke-width:2; stroke-opacity:0.1; fill:none\" points=\"\n",
       "  288.452,298.845 2321.26,298.845 \n",
       "  \"/>\n",
       "<polyline clip-path=\"url(#clip7201)\" style=\"stroke:#000000; stroke-width:4; stroke-opacity:1; fill:none\" points=\"\n",
       "  288.452,1440.48 2321.26,1440.48 \n",
       "  \"/>\n",
       "<polyline clip-path=\"url(#clip7201)\" style=\"stroke:#000000; stroke-width:4; stroke-opacity:1; fill:none\" points=\"\n",
       "  288.452,1440.48 288.452,47.2441 \n",
       "  \"/>\n",
       "<polyline clip-path=\"url(#clip7201)\" style=\"stroke:#000000; stroke-width:4; stroke-opacity:1; fill:none\" points=\"\n",
       "  345.984,1440.48 345.984,1419.58 \n",
       "  \"/>\n",
       "<polyline clip-path=\"url(#clip7201)\" style=\"stroke:#000000; stroke-width:4; stroke-opacity:1; fill:none\" points=\"\n",
       "  985.232,1440.48 985.232,1419.58 \n",
       "  \"/>\n",
       "<polyline clip-path=\"url(#clip7201)\" style=\"stroke:#000000; stroke-width:4; stroke-opacity:1; fill:none\" points=\"\n",
       "  1624.48,1440.48 1624.48,1419.58 \n",
       "  \"/>\n",
       "<polyline clip-path=\"url(#clip7201)\" style=\"stroke:#000000; stroke-width:4; stroke-opacity:1; fill:none\" points=\"\n",
       "  2263.73,1440.48 2263.73,1419.58 \n",
       "  \"/>\n",
       "<polyline clip-path=\"url(#clip7201)\" style=\"stroke:#000000; stroke-width:4; stroke-opacity:1; fill:none\" points=\"\n",
       "  288.452,1330.25 318.944,1330.25 \n",
       "  \"/>\n",
       "<polyline clip-path=\"url(#clip7201)\" style=\"stroke:#000000; stroke-width:4; stroke-opacity:1; fill:none\" points=\"\n",
       "  288.452,986.45 318.944,986.45 \n",
       "  \"/>\n",
       "<polyline clip-path=\"url(#clip7201)\" style=\"stroke:#000000; stroke-width:4; stroke-opacity:1; fill:none\" points=\"\n",
       "  288.452,642.647 318.944,642.647 \n",
       "  \"/>\n",
       "<polyline clip-path=\"url(#clip7201)\" style=\"stroke:#000000; stroke-width:4; stroke-opacity:1; fill:none\" points=\"\n",
       "  288.452,298.845 318.944,298.845 \n",
       "  \"/>\n",
       "<g clip-path=\"url(#clip7201)\">\n",
       "<text style=\"fill:#000000; fill-opacity:1; font-family:Arial,Helvetica Neue,Helvetica,sans-serif; font-size:48px; text-anchor:start;\" transform=\"rotate(0, 302.914, 1515.49)\" x=\"302.914\" y=\"1515.49\">10</text>\n",
       "</g>\n",
       "<g clip-path=\"url(#clip7201)\">\n",
       "<text style=\"fill:#000000; fill-opacity:1; font-family:Arial,Helvetica Neue,Helvetica,sans-serif; font-size:38px; text-anchor:start;\" transform=\"rotate(0, 356.438, 1488.08)\" x=\"356.438\" y=\"1488.08\">0 </text>\n",
       "</g>\n",
       "<g clip-path=\"url(#clip7201)\">\n",
       "<text style=\"fill:#000000; fill-opacity:1; font-family:Arial,Helvetica Neue,Helvetica,sans-serif; font-size:48px; text-anchor:start;\" transform=\"rotate(0, 942.161, 1515.49)\" x=\"942.161\" y=\"1515.49\">10</text>\n",
       "</g>\n",
       "<g clip-path=\"url(#clip7201)\">\n",
       "<text style=\"fill:#000000; fill-opacity:1; font-family:Arial,Helvetica Neue,Helvetica,sans-serif; font-size:38px; text-anchor:start;\" transform=\"rotate(0, 995.686, 1488.08)\" x=\"995.686\" y=\"1488.08\">1 </text>\n",
       "</g>\n",
       "<g clip-path=\"url(#clip7201)\">\n",
       "<text style=\"fill:#000000; fill-opacity:1; font-family:Arial,Helvetica Neue,Helvetica,sans-serif; font-size:48px; text-anchor:start;\" transform=\"rotate(0, 1581.41, 1515.49)\" x=\"1581.41\" y=\"1515.49\">10</text>\n",
       "</g>\n",
       "<g clip-path=\"url(#clip7201)\">\n",
       "<text style=\"fill:#000000; fill-opacity:1; font-family:Arial,Helvetica Neue,Helvetica,sans-serif; font-size:38px; text-anchor:start;\" transform=\"rotate(0, 1634.93, 1488.08)\" x=\"1634.93\" y=\"1488.08\">2 </text>\n",
       "</g>\n",
       "<g clip-path=\"url(#clip7201)\">\n",
       "<text style=\"fill:#000000; fill-opacity:1; font-family:Arial,Helvetica Neue,Helvetica,sans-serif; font-size:48px; text-anchor:start;\" transform=\"rotate(0, 2220.66, 1515.49)\" x=\"2220.66\" y=\"1515.49\">10</text>\n",
       "</g>\n",
       "<g clip-path=\"url(#clip7201)\">\n",
       "<text style=\"fill:#000000; fill-opacity:1; font-family:Arial,Helvetica Neue,Helvetica,sans-serif; font-size:38px; text-anchor:start;\" transform=\"rotate(0, 2274.18, 1488.08)\" x=\"2274.18\" y=\"1488.08\">3 </text>\n",
       "</g>\n",
       "<g clip-path=\"url(#clip7201)\">\n",
       "<text style=\"fill:#000000; fill-opacity:1; font-family:Arial,Helvetica Neue,Helvetica,sans-serif; font-size:48px; text-anchor:start;\" transform=\"rotate(0, 155.471, 1353.98)\" x=\"155.471\" y=\"1353.98\">10</text>\n",
       "</g>\n",
       "<g clip-path=\"url(#clip7201)\">\n",
       "<text style=\"fill:#000000; fill-opacity:1; font-family:Arial,Helvetica Neue,Helvetica,sans-serif; font-size:38px; text-anchor:start;\" transform=\"rotate(0, 208.996, 1326.57)\" x=\"208.996\" y=\"1326.57\">-</text>\n",
       "</g>\n",
       "<g clip-path=\"url(#clip7201)\">\n",
       "<text style=\"fill:#000000; fill-opacity:1; font-family:Arial,Helvetica Neue,Helvetica,sans-serif; font-size:38px; text-anchor:start;\" transform=\"rotate(0, 231.836, 1326.57)\" x=\"231.836\" y=\"1326.57\">2 </text>\n",
       "</g>\n",
       "<g clip-path=\"url(#clip7201)\">\n",
       "<text style=\"fill:#000000; fill-opacity:1; font-family:Arial,Helvetica Neue,Helvetica,sans-serif; font-size:48px; text-anchor:start;\" transform=\"rotate(0, 155.471, 1010.18)\" x=\"155.471\" y=\"1010.18\">10</text>\n",
       "</g>\n",
       "<g clip-path=\"url(#clip7201)\">\n",
       "<text style=\"fill:#000000; fill-opacity:1; font-family:Arial,Helvetica Neue,Helvetica,sans-serif; font-size:38px; text-anchor:start;\" transform=\"rotate(0, 208.996, 982.767)\" x=\"208.996\" y=\"982.767\">-</text>\n",
       "</g>\n",
       "<g clip-path=\"url(#clip7201)\">\n",
       "<text style=\"fill:#000000; fill-opacity:1; font-family:Arial,Helvetica Neue,Helvetica,sans-serif; font-size:38px; text-anchor:start;\" transform=\"rotate(0, 231.836, 982.767)\" x=\"231.836\" y=\"982.767\">1 </text>\n",
       "</g>\n",
       "<g clip-path=\"url(#clip7201)\">\n",
       "<text style=\"fill:#000000; fill-opacity:1; font-family:Arial,Helvetica Neue,Helvetica,sans-serif; font-size:48px; text-anchor:start;\" transform=\"rotate(0, 178.311, 666.375)\" x=\"178.311\" y=\"666.375\">10</text>\n",
       "</g>\n",
       "<g clip-path=\"url(#clip7201)\">\n",
       "<text style=\"fill:#000000; fill-opacity:1; font-family:Arial,Helvetica Neue,Helvetica,sans-serif; font-size:38px; text-anchor:start;\" transform=\"rotate(0, 231.836, 638.964)\" x=\"231.836\" y=\"638.964\">0 </text>\n",
       "</g>\n",
       "<g clip-path=\"url(#clip7201)\">\n",
       "<text style=\"fill:#000000; fill-opacity:1; font-family:Arial,Helvetica Neue,Helvetica,sans-serif; font-size:48px; text-anchor:start;\" transform=\"rotate(0, 178.311, 322.572)\" x=\"178.311\" y=\"322.572\">10</text>\n",
       "</g>\n",
       "<g clip-path=\"url(#clip7201)\">\n",
       "<text style=\"fill:#000000; fill-opacity:1; font-family:Arial,Helvetica Neue,Helvetica,sans-serif; font-size:38px; text-anchor:start;\" transform=\"rotate(0, 231.836, 295.162)\" x=\"231.836\" y=\"295.162\">1 </text>\n",
       "</g>\n",
       "<g clip-path=\"url(#clip7201)\">\n",
       "<text style=\"fill:#000000; fill-opacity:1; font-family:Arial,Helvetica Neue,Helvetica,sans-serif; font-size:66px; text-anchor:middle;\" transform=\"rotate(0, 1304.86, 1590.4)\" x=\"1304.86\" y=\"1590.4\">n</text>\n",
       "</g>\n",
       "<g clip-path=\"url(#clip7201)\">\n",
       "<text style=\"fill:#000000; fill-opacity:1; font-family:Arial,Helvetica Neue,Helvetica,sans-serif; font-size:66px; text-anchor:middle;\" transform=\"rotate(-90, 57.6, 743.863)\" x=\"57.6\" y=\"743.863\">time (us)</text>\n",
       "</g>\n",
       "<circle clip-path=\"url(#clip7203)\" style=\"fill:#000000; stroke:none; fill-opacity:1\" cx=\"345.984\" cy=\"1244.43\" r=\"18\"/>\n",
       "<circle clip-path=\"url(#clip7203)\" style=\"fill:#009af9; stroke:none; fill-opacity:1\" cx=\"345.984\" cy=\"1244.43\" r=\"14\"/>\n",
       "<circle clip-path=\"url(#clip7203)\" style=\"fill:#000000; stroke:none; fill-opacity:1\" cx=\"538.417\" cy=\"1241.82\" r=\"18\"/>\n",
       "<circle clip-path=\"url(#clip7203)\" style=\"fill:#009af9; stroke:none; fill-opacity:1\" cx=\"538.417\" cy=\"1241.82\" r=\"14\"/>\n",
       "<circle clip-path=\"url(#clip7203)\" style=\"fill:#000000; stroke:none; fill-opacity:1\" cx=\"792.799\" cy=\"1122.4\" r=\"18\"/>\n",
       "<circle clip-path=\"url(#clip7203)\" style=\"fill:#009af9; stroke:none; fill-opacity:1\" cx=\"792.799\" cy=\"1122.4\" r=\"14\"/>\n",
       "<circle clip-path=\"url(#clip7203)\" style=\"fill:#000000; stroke:none; fill-opacity:1\" cx=\"985.232\" cy=\"1072.95\" r=\"18\"/>\n",
       "<circle clip-path=\"url(#clip7203)\" style=\"fill:#009af9; stroke:none; fill-opacity:1\" cx=\"985.232\" cy=\"1072.95\" r=\"14\"/>\n",
       "<circle clip-path=\"url(#clip7203)\" style=\"fill:#000000; stroke:none; fill-opacity:1\" cx=\"1177.66\" cy=\"1031.86\" r=\"18\"/>\n",
       "<circle clip-path=\"url(#clip7203)\" style=\"fill:#009af9; stroke:none; fill-opacity:1\" cx=\"1177.66\" cy=\"1031.86\" r=\"14\"/>\n",
       "<circle clip-path=\"url(#clip7203)\" style=\"fill:#000000; stroke:none; fill-opacity:1\" cx=\"1432.05\" cy=\"903.571\" r=\"18\"/>\n",
       "<circle clip-path=\"url(#clip7203)\" style=\"fill:#009af9; stroke:none; fill-opacity:1\" cx=\"1432.05\" cy=\"903.571\" r=\"14\"/>\n",
       "<circle clip-path=\"url(#clip7203)\" style=\"fill:#000000; stroke:none; fill-opacity:1\" cx=\"1624.48\" cy=\"808.929\" r=\"18\"/>\n",
       "<circle clip-path=\"url(#clip7203)\" style=\"fill:#009af9; stroke:none; fill-opacity:1\" cx=\"1624.48\" cy=\"808.929\" r=\"14\"/>\n",
       "<circle clip-path=\"url(#clip7203)\" style=\"fill:#000000; stroke:none; fill-opacity:1\" cx=\"1816.91\" cy=\"565.008\" r=\"18\"/>\n",
       "<circle clip-path=\"url(#clip7203)\" style=\"fill:#009af9; stroke:none; fill-opacity:1\" cx=\"1816.91\" cy=\"565.008\" r=\"14\"/>\n",
       "<circle clip-path=\"url(#clip7203)\" style=\"fill:#000000; stroke:none; fill-opacity:1\" cx=\"2071.29\" cy=\"436.331\" r=\"18\"/>\n",
       "<circle clip-path=\"url(#clip7203)\" style=\"fill:#009af9; stroke:none; fill-opacity:1\" cx=\"2071.29\" cy=\"436.331\" r=\"14\"/>\n",
       "<circle clip-path=\"url(#clip7203)\" style=\"fill:#000000; stroke:none; fill-opacity:1\" cx=\"2263.73\" cy=\"327.568\" r=\"18\"/>\n",
       "<circle clip-path=\"url(#clip7203)\" style=\"fill:#009af9; stroke:none; fill-opacity:1\" cx=\"2263.73\" cy=\"327.568\" r=\"14\"/>\n",
       "<circle clip-path=\"url(#clip7203)\" style=\"fill:#000000; stroke:none; fill-opacity:1\" cx=\"345.984\" cy=\"1401.05\" r=\"18\"/>\n",
       "<circle clip-path=\"url(#clip7203)\" style=\"fill:#e26f46; stroke:none; fill-opacity:1\" cx=\"345.984\" cy=\"1401.05\" r=\"14\"/>\n",
       "<circle clip-path=\"url(#clip7203)\" style=\"fill:#000000; stroke:none; fill-opacity:1\" cx=\"538.417\" cy=\"1101.86\" r=\"18\"/>\n",
       "<circle clip-path=\"url(#clip7203)\" style=\"fill:#e26f46; stroke:none; fill-opacity:1\" cx=\"538.417\" cy=\"1101.86\" r=\"14\"/>\n",
       "<circle clip-path=\"url(#clip7203)\" style=\"fill:#000000; stroke:none; fill-opacity:1\" cx=\"792.799\" cy=\"809.423\" r=\"18\"/>\n",
       "<circle clip-path=\"url(#clip7203)\" style=\"fill:#e26f46; stroke:none; fill-opacity:1\" cx=\"792.799\" cy=\"809.423\" r=\"14\"/>\n",
       "<circle clip-path=\"url(#clip7203)\" style=\"fill:#000000; stroke:none; fill-opacity:1\" cx=\"985.232\" cy=\"772.608\" r=\"18\"/>\n",
       "<circle clip-path=\"url(#clip7203)\" style=\"fill:#e26f46; stroke:none; fill-opacity:1\" cx=\"985.232\" cy=\"772.608\" r=\"14\"/>\n",
       "<circle clip-path=\"url(#clip7203)\" style=\"fill:#000000; stroke:none; fill-opacity:1\" cx=\"1177.66\" cy=\"780.717\" r=\"18\"/>\n",
       "<circle clip-path=\"url(#clip7203)\" style=\"fill:#e26f46; stroke:none; fill-opacity:1\" cx=\"1177.66\" cy=\"780.717\" r=\"14\"/>\n",
       "<circle clip-path=\"url(#clip7203)\" style=\"fill:#000000; stroke:none; fill-opacity:1\" cx=\"1432.05\" cy=\"699.366\" r=\"18\"/>\n",
       "<circle clip-path=\"url(#clip7203)\" style=\"fill:#e26f46; stroke:none; fill-opacity:1\" cx=\"1432.05\" cy=\"699.366\" r=\"14\"/>\n",
       "<circle clip-path=\"url(#clip7203)\" style=\"fill:#000000; stroke:none; fill-opacity:1\" cx=\"1624.48\" cy=\"665.99\" r=\"18\"/>\n",
       "<circle clip-path=\"url(#clip7203)\" style=\"fill:#e26f46; stroke:none; fill-opacity:1\" cx=\"1624.48\" cy=\"665.99\" r=\"14\"/>\n",
       "<circle clip-path=\"url(#clip7203)\" style=\"fill:#000000; stroke:none; fill-opacity:1\" cx=\"1816.91\" cy=\"654.65\" r=\"18\"/>\n",
       "<circle clip-path=\"url(#clip7203)\" style=\"fill:#e26f46; stroke:none; fill-opacity:1\" cx=\"1816.91\" cy=\"654.65\" r=\"14\"/>\n",
       "<circle clip-path=\"url(#clip7203)\" style=\"fill:#000000; stroke:none; fill-opacity:1\" cx=\"2071.29\" cy=\"659.461\" r=\"18\"/>\n",
       "<circle clip-path=\"url(#clip7203)\" style=\"fill:#e26f46; stroke:none; fill-opacity:1\" cx=\"2071.29\" cy=\"659.461\" r=\"14\"/>\n",
       "<circle clip-path=\"url(#clip7203)\" style=\"fill:#000000; stroke:none; fill-opacity:1\" cx=\"2263.73\" cy=\"642.051\" r=\"18\"/>\n",
       "<circle clip-path=\"url(#clip7203)\" style=\"fill:#e26f46; stroke:none; fill-opacity:1\" cx=\"2263.73\" cy=\"642.051\" r=\"14\"/>\n",
       "<polygon clip-path=\"url(#clip7201)\" points=\"\n",
       "360.452,312.204 1154.23,312.204 1154.23,130.764 360.452,130.764 \n",
       "  \" fill=\"#ffffff\" fill-rule=\"evenodd\" fill-opacity=\"1\"/>\n",
       "<polyline clip-path=\"url(#clip7201)\" style=\"stroke:#000000; stroke-width:4; stroke-opacity:1; fill:none\" points=\"\n",
       "  360.452,312.204 1154.23,312.204 1154.23,130.764 360.452,130.764 360.452,312.204 \n",
       "  \"/>\n",
       "<circle clip-path=\"url(#clip7201)\" style=\"fill:#000000; stroke:none; fill-opacity:1\" cx=\"468.452\" cy=\"191.244\" r=\"25\"/>\n",
       "<circle clip-path=\"url(#clip7201)\" style=\"fill:#009af9; stroke:none; fill-opacity:1\" cx=\"468.452\" cy=\"191.244\" r=\"21\"/>\n",
       "<g clip-path=\"url(#clip7201)\">\n",
       "<text style=\"fill:#000000; fill-opacity:1; font-family:Arial,Helvetica Neue,Helvetica,sans-serif; font-size:48px; text-anchor:start;\" transform=\"rotate(0, 552.452, 208.744)\" x=\"552.452\" y=\"208.744\">Jarvis march</text>\n",
       "</g>\n",
       "<circle clip-path=\"url(#clip7201)\" style=\"fill:#000000; stroke:none; fill-opacity:1\" cx=\"468.452\" cy=\"251.724\" r=\"25\"/>\n",
       "<circle clip-path=\"url(#clip7201)\" style=\"fill:#e26f46; stroke:none; fill-opacity:1\" cx=\"468.452\" cy=\"251.724\" r=\"21\"/>\n",
       "<g clip-path=\"url(#clip7201)\">\n",
       "<text style=\"fill:#000000; fill-opacity:1; font-family:Arial,Helvetica Neue,Helvetica,sans-serif; font-size:48px; text-anchor:start;\" transform=\"rotate(0, 552.452, 269.224)\" x=\"552.452\" y=\"269.224\">Andrew&apos;s monotone chain</text>\n",
       "</g>\n",
       "</svg>\n"
      ]
     },
     "execution_count": 14,
     "metadata": {},
     "output_type": "execute_result"
    }
   ],
   "source": [
    "plot(npoints, times_jarvis .* 1e6, seriestype=:scatter, xaxis=:log, yaxis=:log, linestyle=:auto,\n",
    "        legend=:topleft, label=\"Jarvis march\")\n",
    "\n",
    "plot!(npoints, times_andrew .* 1e6, seriestype=:scatter, xaxis=:log, yaxis=:log, line=:dot,\n",
    "         xlab=\"n\", ylab=\"time (us)\",\n",
    "         legend=:topleft, label=\"Andrew's monotone chain\")"
   ]
  },
  {
   "cell_type": "markdown",
   "metadata": {},
   "source": [
    "---"
   ]
  },
  {
   "cell_type": "markdown",
   "metadata": {},
   "source": [
    "### Evaluation"
   ]
  },
  {
   "cell_type": "code",
   "execution_count": 15,
   "metadata": {},
   "outputs": [
    {
     "data": {
      "text/plain": [
       "2-element Array{SArray{Tuple{2},Float64,1,2},1}:\n",
       " [0.366796, 0.523879]\n",
       " [0.210256, 0.819338]"
      ]
     },
     "execution_count": 15,
     "metadata": {},
     "output_type": "execute_result"
    }
   ],
   "source": [
    "n = 2\n",
    "rng = MersenneTwister(n)\n",
    "hull = ConvexHull{CCW, T}()\n",
    "points = [rand(rng, SVector{2, T}) for _ = 1 : n]"
   ]
  },
  {
   "cell_type": "code",
   "execution_count": 16,
   "metadata": {},
   "outputs": [
    {
     "data": {
      "text/plain": [
       "ConvexHull{CCW,Float64,SArray{Tuple{2},Float64,1,2},Array{SArray{Tuple{2},Float64,1,2},1}}(SArray{Tuple{2},Float64,1,2}[[0.366796, 0.523879], [0.210256, 0.819338]])"
      ]
     },
     "execution_count": 16,
     "metadata": {},
     "output_type": "execute_result"
    }
   ],
   "source": [
    "res = jarvis_march!(hull, points)"
   ]
  },
  {
   "cell_type": "code",
   "execution_count": null,
   "metadata": {},
   "outputs": [],
   "source": [
    "res.vertices"
   ]
  },
  {
   "cell_type": "code",
   "execution_count": null,
   "metadata": {},
   "outputs": [],
   "source": [
    "function _two_points_2d!(points)\n",
    "    # special case, see #876\n",
    "    p1, p2 = points[1], points[2]\n",
    "    if p1 == p2  # check for redundancy\n",
    "        pop!(points)\n",
    "    elseif <=(p1, p2)\n",
    "        nothing\n",
    "    else\n",
    "        points[1], points[2] = p2, p1\n",
    "    end\n",
    "    return points\n",
    "end\n",
    "\n",
    "using LazySets: _isapprox\n",
    "\n",
    "function two_points_2d_approx!(points)\n",
    "    p1, p2 = points[1], points[2]\n",
    "    p1x, p1y = p1[1], p1[2]\n",
    "    p2x, p2y = p2[1], p2[2]\n",
    "    if _isapprox(p1x, p1y)\n",
    "        if _isapprox(p2x, p2y)\n",
    "            pop!(points)\n",
    "            return points\n",
    "        else\n",
    "    else\n",
    "        pop!(points)\n",
    "    elseif <=(p1, p2)\n",
    "        nothing\n",
    "    else\n",
    "        points[1], points[2] = p2, p1\n",
    "    end\n",
    "    return points\n",
    "end"
   ]
  },
  {
   "cell_type": "code",
   "execution_count": null,
   "metadata": {},
   "outputs": [],
   "source": [
    "# helper function for benchmarking\n",
    "f(p1, p2) = p1 <= p2"
   ]
  },
  {
   "cell_type": "code",
   "execution_count": null,
   "metadata": {},
   "outputs": [],
   "source": [
    "@btime f($points[1], $points[2])"
   ]
  },
  {
   "cell_type": "code",
   "execution_count": null,
   "metadata": {},
   "outputs": [],
   "source": [
    "@btime le($points[1], $points[2])"
   ]
  },
  {
   "cell_type": "code",
   "execution_count": null,
   "metadata": {},
   "outputs": [],
   "source": [
    "points = [[1.0, 1.0], [1.0+1e-10, 1.0+1e-10]]\n",
    "\n",
    "#@btime two_points_2d!($points)"
   ]
  },
  {
   "cell_type": "code",
   "execution_count": null,
   "metadata": {},
   "outputs": [],
   "source": [
    "points = [[1.0, 1.0], [1.0+1e-10, 1.0+1e-10]]\n",
    "\n",
    "@btime two_points_2d_approx!($points)"
   ]
  },
  {
   "cell_type": "code",
   "execution_count": null,
   "metadata": {},
   "outputs": [],
   "source": [
    "@btime two_points_2d!($points)"
   ]
  },
  {
   "cell_type": "code",
   "execution_count": null,
   "metadata": {},
   "outputs": [],
   "source": [
    "?jarvis_march!"
   ]
  },
  {
   "cell_type": "code",
   "execution_count": null,
   "metadata": {},
   "outputs": [],
   "source": [
    "?convex_hull"
   ]
  },
  {
   "cell_type": "code",
   "execution_count": null,
   "metadata": {},
   "outputs": [],
   "source": [
    "p = rand(2)\n",
    "points = [SVector{2}(p), SVector{2}(p)]"
   ]
  },
  {
   "cell_type": "code",
   "execution_count": null,
   "metadata": {},
   "outputs": [],
   "source": [
    "hull = ConvexHull{CCW, T}()\n",
    "points = [SVector{2}([1.0, 1.0]), SVector{2}([1.0, 1.0])]\n",
    "res = jarvis_march!(hull, points)\n",
    "res.vertices"
   ]
  },
  {
   "cell_type": "code",
   "execution_count": null,
   "metadata": {},
   "outputs": [],
   "source": [
    "res.vertices"
   ]
  },
  {
   "cell_type": "code",
   "execution_count": null,
   "metadata": {},
   "outputs": [],
   "source": [
    "using LazySets: quadrant, is_right_turn\n",
    "\n",
    "function le(u::AbstractVector{N}, v::AbstractVector{N})::Bool where {N<:Real}\n",
    "    qu, qv = quadrant(u), quadrant(v)\n",
    "    if qu == qv\n",
    "        # same quadrant, check right-turn with center 0\n",
    "        return is_right_turn(u, v)\n",
    "    end\n",
    "    # different quadrant\n",
    "    return qu < qv\n",
    "end"
   ]
  },
  {
   "cell_type": "code",
   "execution_count": null,
   "metadata": {},
   "outputs": [],
   "source": [
    "@btime le($p, $p)"
   ]
  },
  {
   "cell_type": "code",
   "execution_count": null,
   "metadata": {},
   "outputs": [],
   "source": [
    "p = [rand(2), rand(2)]"
   ]
  },
  {
   "cell_type": "code",
   "execution_count": null,
   "metadata": {},
   "outputs": [],
   "source": [
    "points = [SVector{2}([1.0, 1.000000000000001]), SVector{2}([1.0, 1.0])]\n",
    "convex_hull!(points)"
   ]
  },
  {
   "cell_type": "code",
   "execution_count": null,
   "metadata": {},
   "outputs": [],
   "source": [
    "1.000000000000001 == 1.0"
   ]
  },
  {
   "cell_type": "code",
   "execution_count": null,
   "metadata": {},
   "outputs": [],
   "source": [
    "using LazySets: _isapprox\n",
    "\n",
    "_isapprox(1.000000000000001, 1.0)"
   ]
  },
  {
   "cell_type": "code",
   "execution_count": null,
   "metadata": {},
   "outputs": [],
   "source": [
    "u = [1.0, 1.0]\n",
    "v = [-1.0, 1.0]"
   ]
  },
  {
   "cell_type": "code",
   "execution_count": null,
   "metadata": {},
   "outputs": [],
   "source": [
    "u <= v"
   ]
  },
  {
   "cell_type": "code",
   "execution_count": null,
   "metadata": {},
   "outputs": [],
   "source": [
    "a = [-1.0, -1.0]\n",
    "b = [1.0, 1.0]\n",
    "c = [-1.0, 1.0]"
   ]
  },
  {
   "cell_type": "code",
   "execution_count": null,
   "metadata": {},
   "outputs": [],
   "source": [
    "plot(Singleton(a), color=\"blue\")\n",
    "plot!(Singleton(b), color=\"red\")\n",
    "plot!(Singleton(c), color=\"green\")"
   ]
  },
  {
   "cell_type": "code",
   "execution_count": null,
   "metadata": {},
   "outputs": [],
   "source": [
    "points = [a, b, c]\n",
    "indmax = 1\n",
    "\n",
    "for (i, pi) in enumerate(points)\n",
    "    if pi[1] >= points[indmax][1]\n",
    "        indmax = i\n",
    "    end\n",
    "end\n",
    "indmax"
   ]
  },
  {
   "cell_type": "code",
   "execution_count": null,
   "metadata": {},
   "outputs": [],
   "source": [
    "points_reordered = [points[2:end]; points[1:1]]"
   ]
  },
  {
   "cell_type": "code",
   "execution_count": null,
   "metadata": {},
   "outputs": [],
   "source": [
    "plot(Singleton(points_reordered[1]), color=\"blue\")\n",
    "plot!(Singleton(points_reordered[2]), color=\"red\")\n",
    "plot!(Singleton(points_reordered[3]), color=\"green\")"
   ]
  },
  {
   "cell_type": "code",
   "execution_count": null,
   "metadata": {},
   "outputs": [],
   "source": [
    "u = [1.0, -1.0]\n",
    "v = [1.0, 1.0]"
   ]
  },
  {
   "cell_type": "code",
   "execution_count": null,
   "metadata": {},
   "outputs": [],
   "source": [
    "is_right_turn(u, v)"
   ]
  },
  {
   "cell_type": "code",
   "execution_count": null,
   "metadata": {},
   "outputs": [],
   "source": [
    "u <= v"
   ]
  },
  {
   "cell_type": "code",
   "execution_count": null,
   "metadata": {},
   "outputs": [],
   "source": [
    "7*45"
   ]
  },
  {
   "cell_type": "code",
   "execution_count": null,
   "metadata": {},
   "outputs": [],
   "source": [
    "ans + 45"
   ]
  },
  {
   "cell_type": "code",
   "execution_count": null,
   "metadata": {},
   "outputs": [],
   "source": [
    "eps(Float64)"
   ]
  },
  {
   "cell_type": "code",
   "execution_count": null,
   "metadata": {},
   "outputs": [],
   "source": [
    "_isapprox(1.0, 1.0 + 1e-7)"
   ]
  },
  {
   "cell_type": "code",
   "execution_count": null,
   "metadata": {},
   "outputs": [],
   "source": [
    "_isapprox(1.0, 1.0 + 1e-8)"
   ]
  },
  {
   "cell_type": "code",
   "execution_count": null,
   "metadata": {},
   "outputs": [],
   "source": []
  },
  {
   "cell_type": "code",
   "execution_count": 36,
   "metadata": {},
   "outputs": [
    {
     "data": {
      "text/plain": [
       "_three_points_2d! (generic function with 1 method)"
      ]
     },
     "execution_count": 36,
     "metadata": {},
     "output_type": "execute_result"
    }
   ],
   "source": [
    "using LazySets\n",
    "using LazySets: isapproxzero\n",
    "\n",
    "function _three_points_2d(points)\n",
    "    _three_points_2d!(copy(points))\n",
    "end\n",
    "    \n",
    "function _three_points_2d!(points)\n",
    "    A, B, C = points[1], points[2], points[3]\n",
    "    turn = (A[2] - B[2]) * C[1] + (B[1] - A[1]) * C[2] + (A[1] * B[2] - B[1] * A[2])\n",
    "\n",
    "    if isapproxzero(turn)\n",
    "        # ABC are collinear\n",
    "        # ... Agarrar los de las puntas\n",
    "        # ... Llamar a _two_points_2d! para descargar que sean redundantes\n",
    "    elseif turn < 0\n",
    "        # ABC is CW\n",
    "        points[1], points[2], points[3] = C, B, A\n",
    "    end   \n",
    "    # else ABC is CCW => nothing to do\n",
    "    return points\n",
    "end\n",
    "\n",
    "#=\n",
    "# esta funcion tambien reordena\n",
    "function _three_points_2d!(points)\n",
    "    A, B, C = points[1], points[2], points[3]\n",
    "    turn = (A[2] - B[2]) * C[1] + (B[1] - A[1]) * C[2] + (A[1] * B[2] - B[1] * A[2])\n",
    "\n",
    "    if isapproxzero(turn)\n",
    "        # ABC are collinear\n",
    "        # agarrar los de las puntas\n",
    "        # llamar a _two_points_2d! para descargar que sean redundantes\n",
    "    elseif turn > 0\n",
    "        # ABC is CCW\n",
    "        A_leq_B = LazySets._leq_quadrant(A, B)\n",
    "        if !A_leq_B\n",
    "            # return BCA\n",
    "            points[1], points[2], points[3] = B, C, A\n",
    "            circshift!(points2, points, 2)\n",
    "        else\n",
    "            B_leq_C = LazySets._leq_quadrant(B, C)\n",
    "            if B_leq_C\n",
    "                # return ABC\n",
    "                nothing\n",
    "            else\n",
    "                # return CAB\n",
    "                points[1], points[2], points[3] = C, A, B\n",
    "                circshift!(points2, points, 1)\n",
    "            end\n",
    "        end\n",
    "\n",
    "    else\n",
    "        # ABC is CW\n",
    "        # . . .\n",
    "    end\n",
    "    return points\n",
    "end\n",
    "=#"
   ]
  },
  {
   "cell_type": "code",
   "execution_count": 66,
   "metadata": {},
   "outputs": [
    {
     "data": {
      "text/plain": [
       "elevar_cuadrado! (generic function with 1 method)"
      ]
     },
     "execution_count": 66,
     "metadata": {},
     "output_type": "execute_result"
    }
   ],
   "source": [
    "function elevar_cuadrado(x)\n",
    "    x_squared = similar(x)\n",
    "    for (i, xi) in enumerate(x)\n",
    "        x_squared[i] = xi^2\n",
    "    end\n",
    "    return x_squared\n",
    "end\n",
    "\n",
    "function elevar_cuadrado!(x)\n",
    "    for i in 1:length(x)\n",
    "        x[i] = x[i]^2\n",
    "    end\n",
    "    return x\n",
    "end"
   ]
  },
  {
   "cell_type": "code",
   "execution_count": 67,
   "metadata": {},
   "outputs": [],
   "source": [
    "x = rand(100);"
   ]
  },
  {
   "cell_type": "code",
   "execution_count": 70,
   "metadata": {},
   "outputs": [
    {
     "name": "stdout",
     "output_type": "stream",
     "text": [
      "  104.187 ns (1 allocation: 896 bytes)\n"
     ]
    }
   ],
   "source": [
    "@btime elevar_cuadrado($x);"
   ]
  },
  {
   "cell_type": "code",
   "execution_count": 69,
   "metadata": {},
   "outputs": [
    {
     "name": "stdout",
     "output_type": "stream",
     "text": [
      "  71.830 ns (0 allocations: 0 bytes)\n"
     ]
    }
   ],
   "source": [
    "@btime elevar_cuadrado!($x);"
   ]
  },
  {
   "cell_type": "code",
   "execution_count": 77,
   "metadata": {},
   "outputs": [
    {
     "data": {
      "text/plain": [
       "3-element Array{Array{Float64,1},1}:\n",
       " [1.0, 1.0]\n",
       " [2.0, 2.0]\n",
       " [3.0, 3.0]"
      ]
     },
     "execution_count": 77,
     "metadata": {},
     "output_type": "execute_result"
    }
   ],
   "source": [
    "# caso en que estan alineados\n",
    "A = [1.0, 1.0]\n",
    "B = 2*a\n",
    "C = 3*a\n",
    "points = [a, b, c]"
   ]
  },
  {
   "cell_type": "code",
   "execution_count": 85,
   "metadata": {},
   "outputs": [
    {
     "data": {
      "text/plain": [
       "2-element Array{Int64,1}:\n",
       " 1\n",
       " 2"
      ]
     },
     "execution_count": 85,
     "metadata": {},
     "output_type": "execute_result"
    }
   ],
   "source": [
    "x = [1, 2]"
   ]
  },
  {
   "cell_type": "code",
   "execution_count": 86,
   "metadata": {},
   "outputs": [
    {
     "data": {
      "text/plain": [
       "2-element Array{Int64,1}:\n",
       " 1\n",
       " 2"
      ]
     },
     "execution_count": 86,
     "metadata": {},
     "output_type": "execute_result"
    }
   ],
   "source": [
    "v = copy(x)"
   ]
  },
  {
   "cell_type": "code",
   "execution_count": 87,
   "metadata": {},
   "outputs": [
    {
     "data": {
      "text/plain": [
       "100"
      ]
     },
     "execution_count": 87,
     "metadata": {},
     "output_type": "execute_result"
    }
   ],
   "source": [
    "v[1] = 100"
   ]
  },
  {
   "cell_type": "code",
   "execution_count": 88,
   "metadata": {},
   "outputs": [
    {
     "data": {
      "text/plain": [
       "2-element Array{Int64,1}:\n",
       " 1\n",
       " 2"
      ]
     },
     "execution_count": 88,
     "metadata": {},
     "output_type": "execute_result"
    }
   ],
   "source": [
    "x"
   ]
  },
  {
   "cell_type": "code",
   "execution_count": 32,
   "metadata": {},
   "outputs": [
    {
     "data": {
      "text/plain": [
       "1"
      ]
     },
     "execution_count": 32,
     "metadata": {},
     "output_type": "execute_result"
    }
   ],
   "source": [
    "argmin([points[1][1], points[2][1], points[3][1]])"
   ]
  },
  {
   "cell_type": "code",
   "execution_count": 33,
   "metadata": {},
   "outputs": [
    {
     "data": {
      "text/plain": [
       "3"
      ]
     },
     "execution_count": 33,
     "metadata": {},
     "output_type": "execute_result"
    }
   ],
   "source": [
    "argmax([points[1][1], points[2][1], points[3][1]])"
   ]
  },
  {
   "cell_type": "code",
   "execution_count": 50,
   "metadata": {},
   "outputs": [
    {
     "data": {
      "text/plain": [
       "f (generic function with 1 method)"
      ]
     },
     "execution_count": 50,
     "metadata": {},
     "output_type": "execute_result"
    }
   ],
   "source": [
    "function f()\n",
    "    a = [-1.0, -1.0]\n",
    "    b = [1.0, 1.0]\n",
    "    c = [-1.0, 1.0]\n",
    "    points = [a, b, c]\n",
    "    #_three_points_2d!(points)\n",
    "end"
   ]
  },
  {
   "cell_type": "code",
   "execution_count": 51,
   "metadata": {},
   "outputs": [
    {
     "name": "stdout",
     "output_type": "stream",
     "text": [
      "  135.478 ns (4 allocations: 400 bytes)\n"
     ]
    },
    {
     "data": {
      "text/plain": [
       "3-element Array{Array{Float64,1},1}:\n",
       " [-1.0, -1.0]\n",
       " [1.0, 1.0]  \n",
       " [-1.0, 1.0] "
      ]
     },
     "execution_count": 51,
     "metadata": {},
     "output_type": "execute_result"
    }
   ],
   "source": [
    "@btime f()"
   ]
  },
  {
   "cell_type": "code",
   "execution_count": 142,
   "metadata": {},
   "outputs": [],
   "source": [
    "A = [-1.0, -1.0]\n",
    "B = [1.0, 1.0]\n",
    "C = [-1.0, 1.0]\n",
    "points = [A, B, C];"
   ]
  },
  {
   "cell_type": "code",
   "execution_count": 143,
   "metadata": {},
   "outputs": [
    {
     "data": {
      "text/plain": [
       "Ptr{Array{Float64,1}} @0x000000011a6fa740"
      ]
     },
     "execution_count": 143,
     "metadata": {},
     "output_type": "execute_result"
    }
   ],
   "source": [
    "pointer(points)"
   ]
  },
  {
   "cell_type": "code",
   "execution_count": 124,
   "metadata": {},
   "outputs": [
    {
     "data": {
      "text/plain": [
       "2-element Array{Array{Float64,1},1}:\n",
       " [-1.0, -1.0]\n",
       " [1.0, 1.0]  "
      ]
     },
     "execution_count": 124,
     "metadata": {},
     "output_type": "execute_result"
    }
   ],
   "source": [
    "# esto es out-of-place\n",
    "points = [points[argmin([A[1], B[1], C[1]])], points[argmax([A[1], B[1], C[1]])]]"
   ]
  },
  {
   "cell_type": "code",
   "execution_count": 136,
   "metadata": {},
   "outputs": [
    {
     "data": {
      "text/plain": [
       "Ptr{Array{Float64,1}} @0x000000011daff460"
      ]
     },
     "execution_count": 136,
     "metadata": {},
     "output_type": "execute_result"
    }
   ],
   "source": [
    "pointer(points)"
   ]
  },
  {
   "cell_type": "code",
   "execution_count": 144,
   "metadata": {},
   "outputs": [
    {
     "data": {
      "text/plain": [
       "2-element Array{Float64,1}:\n",
       " -1.0\n",
       "  1.0"
      ]
     },
     "execution_count": 144,
     "metadata": {},
     "output_type": "execute_result"
    }
   ],
   "source": [
    "points[1], points[2] = points[argmin([A[1], B[1], C[1]])], points[argmax([A[1], B[1], C[1]])]\n",
    "pop!(points)"
   ]
  },
  {
   "cell_type": "code",
   "execution_count": 146,
   "metadata": {},
   "outputs": [
    {
     "data": {
      "text/plain": [
       "Ptr{Array{Float64,1}} @0x000000011a6fa740"
      ]
     },
     "execution_count": 146,
     "metadata": {},
     "output_type": "execute_result"
    }
   ],
   "source": [
    "pointer(points)"
   ]
  },
  {
   "cell_type": "code",
   "execution_count": 141,
   "metadata": {},
   "outputs": [
    {
     "data": {
      "text/plain": [
       "3"
      ]
     },
     "execution_count": 141,
     "metadata": {},
     "output_type": "execute_result"
    }
   ],
   "source": [
    "argmax([5, -1, 7])"
   ]
  },
  {
   "cell_type": "code",
   "execution_count": null,
   "metadata": {},
   "outputs": [],
   "source": [
    "@btime three_points_2d($points)"
   ]
  },
  {
   "cell_type": "code",
   "execution_count": null,
   "metadata": {},
   "outputs": [],
   "source": [
    "@btime convex_hull($points)"
   ]
  },
  {
   "cell_type": "code",
   "execution_count": null,
   "metadata": {},
   "outputs": [],
   "source": [
    "# asumo que estan en CCW\n",
    "\n",
    "Ax <= Bx <= Cx # NO\n",
    "Ax <= Cx <= Bx \n",
    "\n",
    "Bx <= Cx <= Cx\n",
    "Bx <= Cx <= Bx\n",
    "\n",
    "Cx <= Bx <= Cx\n",
    "Cx <= Cx <= Bx"
   ]
  },
  {
   "cell_type": "code",
   "execution_count": null,
   "metadata": {},
   "outputs": [],
   "source": [
    "@btime three_points_2d!($points)"
   ]
  },
  {
   "cell_type": "code",
   "execution_count": null,
   "metadata": {},
   "outputs": [],
   "source": [
    "@btime three_points_2d!($points)"
   ]
  },
  {
   "cell_type": "code",
   "execution_count": null,
   "metadata": {},
   "outputs": [],
   "source": [
    "# point are alligned\n",
    "points = [a, 2*a, 3*a]\n",
    "\n",
    "@btime three_points_2d!($points)"
   ]
  },
  {
   "cell_type": "code",
   "execution_count": null,
   "metadata": {},
   "outputs": [],
   "source": []
  }
 ],
 "metadata": {
  "@webio": {
   "lastCommId": null,
   "lastKernelId": null
  },
  "kernelspec": {
   "display_name": "Julia 1.0.2",
   "language": "julia",
   "name": "julia-1.0"
  },
  "language_info": {
   "file_extension": ".jl",
   "mimetype": "application/julia",
   "name": "julia",
   "version": "1.0.2"
  }
 },
 "nbformat": 4,
 "nbformat_minor": 2
}
