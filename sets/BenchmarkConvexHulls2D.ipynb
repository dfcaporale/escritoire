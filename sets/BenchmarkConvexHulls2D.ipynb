{
 "cells": [
  {
   "cell_type": "markdown",
   "metadata": {},
   "source": [
    "## Benchmarking Convex Hulls 2D Algorithms\n",
    "\n",
    "\n",
    "#### References\n",
    "\n",
    "- https://github.com/tkoolen/PlanarConvexHulls.jl/blob/master/perf/runbenchmarks.jl"
   ]
  },
  {
   "cell_type": "code",
   "execution_count": 22,
   "metadata": {},
   "outputs": [
    {
     "name": "stdout",
     "output_type": "stream",
     "text": [
      "  17.767 ns (0 allocations: 0 bytes)\n",
      "  18.081 ns (0 allocations: 0 bytes)\n",
      "  73.775 ns (0 allocations: 0 bytes)\n",
      "  174.207 ns (0 allocations: 0 bytes)\n",
      "  328.356 ns (0 allocations: 0 bytes)\n",
      "  1.682 μs (0 allocations: 0 bytes)\n",
      "  3.982 μs (0 allocations: 0 bytes)\n",
      "  8.250 μs (0 allocations: 0 bytes)\n",
      "  19.543 μs (0 allocations: 0 bytes)\n",
      "  41.412 μs (0 allocations: 0 bytes)\n"
     ]
    }
   ],
   "source": [
    "using BenchmarkTools, PlanarConvexHulls, StaticArrays, Random\n",
    "\n",
    "const T = Float64\n",
    "p_jarvis = []\n",
    "for n in [1, 2, 5, 10, 20, 50, 100, 200, 500, 1000]\n",
    "    rng = MersenneTwister(n)\n",
    "    hull = ConvexHull{CCW, T}()\n",
    "    sizehint!(hull, n)\n",
    "    points = [rand(rng, SVector{2, T}) for _ = 1 : n]\n",
    "    push!(p_jarvis, @btime jarvis_march!($hull, $points))\n",
    "end"
   ]
  },
  {
   "cell_type": "code",
   "execution_count": 35,
   "metadata": {},
   "outputs": [],
   "source": [
    "times_jarvis = [17.767e-9, 18.081e-9, 73.775e-9, 174.207e-9, 328.356e-9,\n",
    "                1.682e-6, 3.982e-6, 8.250e-6, 19.543e-6, 41.412e-6];"
   ]
  },
  {
   "cell_type": "code",
   "execution_count": 10,
   "metadata": {},
   "outputs": [
    {
     "data": {
      "text/plain": [
       "ConvexHull{CCW,Float64,SArray{Tuple{2},Float64,1,2},Array{SArray{Tuple{2},Float64,1,2},1}}(SArray{Tuple{2},Float64,1,2}[[0.236033, 0.346517]])"
      ]
     },
     "execution_count": 10,
     "metadata": {},
     "output_type": "execute_result"
    }
   ],
   "source": [
    "p_jarvis[1]"
   ]
  },
  {
   "cell_type": "code",
   "execution_count": 11,
   "metadata": {},
   "outputs": [
    {
     "name": "stdout",
     "output_type": "stream",
     "text": [
      "  6.224 ns (0 allocations: 0 bytes)\n",
      "  46.164 ns (0 allocations: 0 bytes)\n",
      "  327.271 ns (7 allocations: 496 bytes)\n",
      "  418.784 ns (8 allocations: 640 bytes)\n",
      "  396.647 ns (7 allocations: 496 bytes)\n",
      "  683.952 ns (9 allocations: 784 bytes)\n",
      "  855.274 ns (10 allocations: 1.09 KiB)\n",
      "  922.758 ns (11 allocations: 1.42 KiB)\n",
      "  893.500 ns (10 allocations: 1.09 KiB)\n",
      "  1.004 μs (11 allocations: 1.42 KiB)\n"
     ]
    }
   ],
   "source": [
    "using LazySets\n",
    "\n",
    "p_andrew = []\n",
    "\n",
    "for n in [1, 2, 5, 10, 20, 50, 100, 200, 500, 1000]\n",
    "    rng = MersenneTwister(n)\n",
    "    points = [rand(rng, SVector{2, T}) for _ = 1 : n]\n",
    "    push!(p_andrew, @btime convex_hull!($points))\n",
    "end "
   ]
  },
  {
   "cell_type": "code",
   "execution_count": 37,
   "metadata": {},
   "outputs": [],
   "source": [
    "times_andrew = [6.224e-9, 46.164e-9, 327.271e-9, 418.784e-9, 396.647e-9, 683.952e-9,\n",
    "                855.274e-9, 922.758e-9, 893.500e-9, 1.004e-6];"
   ]
  },
  {
   "cell_type": "code",
   "execution_count": 12,
   "metadata": {},
   "outputs": [
    {
     "data": {
      "text/plain": [
       "1-element Array{SArray{Tuple{2},Float64,1,2},1}:\n",
       " [0.236033, 0.346517]"
      ]
     },
     "execution_count": 12,
     "metadata": {},
     "output_type": "execute_result"
    }
   ],
   "source": [
    "p_andrew[1]"
   ]
  },
  {
   "cell_type": "code",
   "execution_count": 19,
   "metadata": {},
   "outputs": [
    {
     "data": {
      "text/plain": [
       "1-element Array{SArray{Tuple{2},Float64,1,2},1}:\n",
       " [0.236033, 0.346517]"
      ]
     },
     "execution_count": 19,
     "metadata": {},
     "output_type": "execute_result"
    }
   ],
   "source": [
    "p_jarvis[1].vertices"
   ]
  },
  {
   "cell_type": "code",
   "execution_count": 20,
   "metadata": {},
   "outputs": [
    {
     "data": {
      "text/plain": [
       "2-element Array{SArray{Tuple{2},Float64,1,2},1}:\n",
       " [0.366796, 0.523879]\n",
       " [0.210256, 0.819338]"
      ]
     },
     "execution_count": 20,
     "metadata": {},
     "output_type": "execute_result"
    }
   ],
   "source": [
    "p_andrew[2]"
   ]
  },
  {
   "cell_type": "code",
   "execution_count": 21,
   "metadata": {},
   "outputs": [
    {
     "data": {
      "text/plain": [
       "2-element Array{SArray{Tuple{2},Float64,1,2},1}:\n",
       " [0.366796, 0.523879]\n",
       " [0.210256, 0.819338]"
      ]
     },
     "execution_count": 21,
     "metadata": {},
     "output_type": "execute_result"
    }
   ],
   "source": [
    "p_jarvis[2].vertices"
   ]
  },
  {
   "cell_type": "code",
   "execution_count": 24,
   "metadata": {},
   "outputs": [
    {
     "data": {
      "text/plain": [
       "4-element Array{SArray{Tuple{2},Float64,1,2},1}:\n",
       " [0.044228, 0.118147]\n",
       " [0.838358, 0.524059]\n",
       " [0.57126, 0.931515] \n",
       " [0.30131, 0.881349] "
      ]
     },
     "execution_count": 24,
     "metadata": {},
     "output_type": "execute_result"
    }
   ],
   "source": [
    "p_andrew[3]"
   ]
  },
  {
   "cell_type": "code",
   "execution_count": 26,
   "metadata": {},
   "outputs": [
    {
     "data": {
      "text/plain": [
       "4-element Array{SArray{Tuple{2},Float64,1,2},1}:\n",
       " [0.044228, 0.118147]\n",
       " [0.838358, 0.524059]\n",
       " [0.57126, 0.931515] \n",
       " [0.30131, 0.881349] "
      ]
     },
     "execution_count": 26,
     "metadata": {},
     "output_type": "execute_result"
    }
   ],
   "source": [
    "p_jarvis[3].vertices"
   ]
  },
  {
   "cell_type": "code",
   "execution_count": 32,
   "metadata": {},
   "outputs": [
    {
     "data": {
      "text/plain": [
       "true"
      ]
     },
     "execution_count": 32,
     "metadata": {},
     "output_type": "execute_result"
    }
   ],
   "source": [
    "all([p_andrew[i] == p_jarvis[i].vertices for i in 1:10])"
   ]
  },
  {
   "cell_type": "code",
   "execution_count": 33,
   "metadata": {},
   "outputs": [],
   "source": [
    "using Plots"
   ]
  },
  {
   "cell_type": "code",
   "execution_count": 60,
   "metadata": {},
   "outputs": [
    {
     "data": {
      "image/svg+xml": [
       "<?xml version=\"1.0\" encoding=\"utf-8\"?>\n",
       "<svg xmlns=\"http://www.w3.org/2000/svg\" xmlns:xlink=\"http://www.w3.org/1999/xlink\" width=\"600\" height=\"400\" viewBox=\"0 0 2400 1600\">\n",
       "<defs>\n",
       "  <clipPath id=\"clip2600\">\n",
       "    <rect x=\"0\" y=\"0\" width=\"2000\" height=\"2000\"/>\n",
       "  </clipPath>\n",
       "</defs>\n",
       "<defs>\n",
       "  <clipPath id=\"clip2601\">\n",
       "    <rect x=\"0\" y=\"0\" width=\"2400\" height=\"1600\"/>\n",
       "  </clipPath>\n",
       "</defs>\n",
       "<polygon clip-path=\"url(#clip2601)\" points=\"\n",
       "0,1600 2400,1600 2400,0 0,0 \n",
       "  \" fill=\"#ffffff\" fill-rule=\"evenodd\" fill-opacity=\"1\"/>\n",
       "<defs>\n",
       "  <clipPath id=\"clip2602\">\n",
       "    <rect x=\"480\" y=\"0\" width=\"1681\" height=\"1600\"/>\n",
       "  </clipPath>\n",
       "</defs>\n",
       "<polygon clip-path=\"url(#clip2601)\" points=\"\n",
       "288.452,1440.48 2321.26,1440.48 2321.26,47.2441 288.452,47.2441 \n",
       "  \" fill=\"#ffffff\" fill-rule=\"evenodd\" fill-opacity=\"1\"/>\n",
       "<defs>\n",
       "  <clipPath id=\"clip2603\">\n",
       "    <rect x=\"288\" y=\"47\" width=\"2034\" height=\"1394\"/>\n",
       "  </clipPath>\n",
       "</defs>\n",
       "<polyline clip-path=\"url(#clip2603)\" style=\"stroke:#000000; stroke-width:2; stroke-opacity:0.1; fill:none\" points=\"\n",
       "  345.984,1440.48 345.984,47.2441 \n",
       "  \"/>\n",
       "<polyline clip-path=\"url(#clip2603)\" style=\"stroke:#000000; stroke-width:2; stroke-opacity:0.1; fill:none\" points=\"\n",
       "  985.232,1440.48 985.232,47.2441 \n",
       "  \"/>\n",
       "<polyline clip-path=\"url(#clip2603)\" style=\"stroke:#000000; stroke-width:2; stroke-opacity:0.1; fill:none\" points=\"\n",
       "  1624.48,1440.48 1624.48,47.2441 \n",
       "  \"/>\n",
       "<polyline clip-path=\"url(#clip2603)\" style=\"stroke:#000000; stroke-width:2; stroke-opacity:0.1; fill:none\" points=\"\n",
       "  2263.73,1440.48 2263.73,47.2441 \n",
       "  \"/>\n",
       "<polyline clip-path=\"url(#clip2603)\" style=\"stroke:#000000; stroke-width:2; stroke-opacity:0.1; fill:none\" points=\"\n",
       "  288.452,1330.25 2321.26,1330.25 \n",
       "  \"/>\n",
       "<polyline clip-path=\"url(#clip2603)\" style=\"stroke:#000000; stroke-width:2; stroke-opacity:0.1; fill:none\" points=\"\n",
       "  288.452,986.45 2321.26,986.45 \n",
       "  \"/>\n",
       "<polyline clip-path=\"url(#clip2603)\" style=\"stroke:#000000; stroke-width:2; stroke-opacity:0.1; fill:none\" points=\"\n",
       "  288.452,642.647 2321.26,642.647 \n",
       "  \"/>\n",
       "<polyline clip-path=\"url(#clip2603)\" style=\"stroke:#000000; stroke-width:2; stroke-opacity:0.1; fill:none\" points=\"\n",
       "  288.452,298.845 2321.26,298.845 \n",
       "  \"/>\n",
       "<polyline clip-path=\"url(#clip2601)\" style=\"stroke:#000000; stroke-width:4; stroke-opacity:1; fill:none\" points=\"\n",
       "  288.452,1440.48 2321.26,1440.48 \n",
       "  \"/>\n",
       "<polyline clip-path=\"url(#clip2601)\" style=\"stroke:#000000; stroke-width:4; stroke-opacity:1; fill:none\" points=\"\n",
       "  288.452,1440.48 288.452,47.2441 \n",
       "  \"/>\n",
       "<polyline clip-path=\"url(#clip2601)\" style=\"stroke:#000000; stroke-width:4; stroke-opacity:1; fill:none\" points=\"\n",
       "  345.984,1440.48 345.984,1419.58 \n",
       "  \"/>\n",
       "<polyline clip-path=\"url(#clip2601)\" style=\"stroke:#000000; stroke-width:4; stroke-opacity:1; fill:none\" points=\"\n",
       "  985.232,1440.48 985.232,1419.58 \n",
       "  \"/>\n",
       "<polyline clip-path=\"url(#clip2601)\" style=\"stroke:#000000; stroke-width:4; stroke-opacity:1; fill:none\" points=\"\n",
       "  1624.48,1440.48 1624.48,1419.58 \n",
       "  \"/>\n",
       "<polyline clip-path=\"url(#clip2601)\" style=\"stroke:#000000; stroke-width:4; stroke-opacity:1; fill:none\" points=\"\n",
       "  2263.73,1440.48 2263.73,1419.58 \n",
       "  \"/>\n",
       "<polyline clip-path=\"url(#clip2601)\" style=\"stroke:#000000; stroke-width:4; stroke-opacity:1; fill:none\" points=\"\n",
       "  288.452,1330.25 318.944,1330.25 \n",
       "  \"/>\n",
       "<polyline clip-path=\"url(#clip2601)\" style=\"stroke:#000000; stroke-width:4; stroke-opacity:1; fill:none\" points=\"\n",
       "  288.452,986.45 318.944,986.45 \n",
       "  \"/>\n",
       "<polyline clip-path=\"url(#clip2601)\" style=\"stroke:#000000; stroke-width:4; stroke-opacity:1; fill:none\" points=\"\n",
       "  288.452,642.647 318.944,642.647 \n",
       "  \"/>\n",
       "<polyline clip-path=\"url(#clip2601)\" style=\"stroke:#000000; stroke-width:4; stroke-opacity:1; fill:none\" points=\"\n",
       "  288.452,298.845 318.944,298.845 \n",
       "  \"/>\n",
       "<g clip-path=\"url(#clip2601)\">\n",
       "<text style=\"fill:#000000; fill-opacity:1; font-family:Arial,Helvetica Neue,Helvetica,sans-serif; font-size:48px; text-anchor:start;\" transform=\"rotate(0, 302.914, 1515.49)\" x=\"302.914\" y=\"1515.49\">10</text>\n",
       "</g>\n",
       "<g clip-path=\"url(#clip2601)\">\n",
       "<text style=\"fill:#000000; fill-opacity:1; font-family:Arial,Helvetica Neue,Helvetica,sans-serif; font-size:38px; text-anchor:start;\" transform=\"rotate(0, 356.438, 1488.08)\" x=\"356.438\" y=\"1488.08\">0 </text>\n",
       "</g>\n",
       "<g clip-path=\"url(#clip2601)\">\n",
       "<text style=\"fill:#000000; fill-opacity:1; font-family:Arial,Helvetica Neue,Helvetica,sans-serif; font-size:48px; text-anchor:start;\" transform=\"rotate(0, 942.161, 1515.49)\" x=\"942.161\" y=\"1515.49\">10</text>\n",
       "</g>\n",
       "<g clip-path=\"url(#clip2601)\">\n",
       "<text style=\"fill:#000000; fill-opacity:1; font-family:Arial,Helvetica Neue,Helvetica,sans-serif; font-size:38px; text-anchor:start;\" transform=\"rotate(0, 995.686, 1488.08)\" x=\"995.686\" y=\"1488.08\">1 </text>\n",
       "</g>\n",
       "<g clip-path=\"url(#clip2601)\">\n",
       "<text style=\"fill:#000000; fill-opacity:1; font-family:Arial,Helvetica Neue,Helvetica,sans-serif; font-size:48px; text-anchor:start;\" transform=\"rotate(0, 1581.41, 1515.49)\" x=\"1581.41\" y=\"1515.49\">10</text>\n",
       "</g>\n",
       "<g clip-path=\"url(#clip2601)\">\n",
       "<text style=\"fill:#000000; fill-opacity:1; font-family:Arial,Helvetica Neue,Helvetica,sans-serif; font-size:38px; text-anchor:start;\" transform=\"rotate(0, 1634.93, 1488.08)\" x=\"1634.93\" y=\"1488.08\">2 </text>\n",
       "</g>\n",
       "<g clip-path=\"url(#clip2601)\">\n",
       "<text style=\"fill:#000000; fill-opacity:1; font-family:Arial,Helvetica Neue,Helvetica,sans-serif; font-size:48px; text-anchor:start;\" transform=\"rotate(0, 2220.66, 1515.49)\" x=\"2220.66\" y=\"1515.49\">10</text>\n",
       "</g>\n",
       "<g clip-path=\"url(#clip2601)\">\n",
       "<text style=\"fill:#000000; fill-opacity:1; font-family:Arial,Helvetica Neue,Helvetica,sans-serif; font-size:38px; text-anchor:start;\" transform=\"rotate(0, 2274.18, 1488.08)\" x=\"2274.18\" y=\"1488.08\">3 </text>\n",
       "</g>\n",
       "<g clip-path=\"url(#clip2601)\">\n",
       "<text style=\"fill:#000000; fill-opacity:1; font-family:Arial,Helvetica Neue,Helvetica,sans-serif; font-size:48px; text-anchor:start;\" transform=\"rotate(0, 155.471, 1353.98)\" x=\"155.471\" y=\"1353.98\">10</text>\n",
       "</g>\n",
       "<g clip-path=\"url(#clip2601)\">\n",
       "<text style=\"fill:#000000; fill-opacity:1; font-family:Arial,Helvetica Neue,Helvetica,sans-serif; font-size:38px; text-anchor:start;\" transform=\"rotate(0, 208.996, 1326.57)\" x=\"208.996\" y=\"1326.57\">-</text>\n",
       "</g>\n",
       "<g clip-path=\"url(#clip2601)\">\n",
       "<text style=\"fill:#000000; fill-opacity:1; font-family:Arial,Helvetica Neue,Helvetica,sans-serif; font-size:38px; text-anchor:start;\" transform=\"rotate(0, 231.836, 1326.57)\" x=\"231.836\" y=\"1326.57\">2 </text>\n",
       "</g>\n",
       "<g clip-path=\"url(#clip2601)\">\n",
       "<text style=\"fill:#000000; fill-opacity:1; font-family:Arial,Helvetica Neue,Helvetica,sans-serif; font-size:48px; text-anchor:start;\" transform=\"rotate(0, 155.471, 1010.18)\" x=\"155.471\" y=\"1010.18\">10</text>\n",
       "</g>\n",
       "<g clip-path=\"url(#clip2601)\">\n",
       "<text style=\"fill:#000000; fill-opacity:1; font-family:Arial,Helvetica Neue,Helvetica,sans-serif; font-size:38px; text-anchor:start;\" transform=\"rotate(0, 208.996, 982.767)\" x=\"208.996\" y=\"982.767\">-</text>\n",
       "</g>\n",
       "<g clip-path=\"url(#clip2601)\">\n",
       "<text style=\"fill:#000000; fill-opacity:1; font-family:Arial,Helvetica Neue,Helvetica,sans-serif; font-size:38px; text-anchor:start;\" transform=\"rotate(0, 231.836, 982.767)\" x=\"231.836\" y=\"982.767\">1 </text>\n",
       "</g>\n",
       "<g clip-path=\"url(#clip2601)\">\n",
       "<text style=\"fill:#000000; fill-opacity:1; font-family:Arial,Helvetica Neue,Helvetica,sans-serif; font-size:48px; text-anchor:start;\" transform=\"rotate(0, 178.311, 666.375)\" x=\"178.311\" y=\"666.375\">10</text>\n",
       "</g>\n",
       "<g clip-path=\"url(#clip2601)\">\n",
       "<text style=\"fill:#000000; fill-opacity:1; font-family:Arial,Helvetica Neue,Helvetica,sans-serif; font-size:38px; text-anchor:start;\" transform=\"rotate(0, 231.836, 638.964)\" x=\"231.836\" y=\"638.964\">0 </text>\n",
       "</g>\n",
       "<g clip-path=\"url(#clip2601)\">\n",
       "<text style=\"fill:#000000; fill-opacity:1; font-family:Arial,Helvetica Neue,Helvetica,sans-serif; font-size:48px; text-anchor:start;\" transform=\"rotate(0, 178.311, 322.572)\" x=\"178.311\" y=\"322.572\">10</text>\n",
       "</g>\n",
       "<g clip-path=\"url(#clip2601)\">\n",
       "<text style=\"fill:#000000; fill-opacity:1; font-family:Arial,Helvetica Neue,Helvetica,sans-serif; font-size:38px; text-anchor:start;\" transform=\"rotate(0, 231.836, 295.162)\" x=\"231.836\" y=\"295.162\">1 </text>\n",
       "</g>\n",
       "<g clip-path=\"url(#clip2601)\">\n",
       "<text style=\"fill:#000000; fill-opacity:1; font-family:Arial,Helvetica Neue,Helvetica,sans-serif; font-size:66px; text-anchor:middle;\" transform=\"rotate(0, 1304.86, 1590.4)\" x=\"1304.86\" y=\"1590.4\">n</text>\n",
       "</g>\n",
       "<g clip-path=\"url(#clip2601)\">\n",
       "<text style=\"fill:#000000; fill-opacity:1; font-family:Arial,Helvetica Neue,Helvetica,sans-serif; font-size:66px; text-anchor:middle;\" transform=\"rotate(-90, 57.6, 743.863)\" x=\"57.6\" y=\"743.863\">time (us)</text>\n",
       "</g>\n",
       "<circle clip-path=\"url(#clip2603)\" style=\"fill:#000000; stroke:none; fill-opacity:1\" cx=\"345.984\" cy=\"1244.43\" r=\"18\"/>\n",
       "<circle clip-path=\"url(#clip2603)\" style=\"fill:#009af9; stroke:none; fill-opacity:1\" cx=\"345.984\" cy=\"1244.43\" r=\"14\"/>\n",
       "<circle clip-path=\"url(#clip2603)\" style=\"fill:#000000; stroke:none; fill-opacity:1\" cx=\"538.417\" cy=\"1241.82\" r=\"18\"/>\n",
       "<circle clip-path=\"url(#clip2603)\" style=\"fill:#009af9; stroke:none; fill-opacity:1\" cx=\"538.417\" cy=\"1241.82\" r=\"14\"/>\n",
       "<circle clip-path=\"url(#clip2603)\" style=\"fill:#000000; stroke:none; fill-opacity:1\" cx=\"792.799\" cy=\"1031.86\" r=\"18\"/>\n",
       "<circle clip-path=\"url(#clip2603)\" style=\"fill:#009af9; stroke:none; fill-opacity:1\" cx=\"792.799\" cy=\"1031.86\" r=\"14\"/>\n",
       "<circle clip-path=\"url(#clip2603)\" style=\"fill:#000000; stroke:none; fill-opacity:1\" cx=\"985.232\" cy=\"903.571\" r=\"18\"/>\n",
       "<circle clip-path=\"url(#clip2603)\" style=\"fill:#009af9; stroke:none; fill-opacity:1\" cx=\"985.232\" cy=\"903.571\" r=\"14\"/>\n",
       "<circle clip-path=\"url(#clip2603)\" style=\"fill:#000000; stroke:none; fill-opacity:1\" cx=\"1177.66\" cy=\"808.929\" r=\"18\"/>\n",
       "<circle clip-path=\"url(#clip2603)\" style=\"fill:#009af9; stroke:none; fill-opacity:1\" cx=\"1177.66\" cy=\"808.929\" r=\"14\"/>\n",
       "<circle clip-path=\"url(#clip2603)\" style=\"fill:#000000; stroke:none; fill-opacity:1\" cx=\"1432.05\" cy=\"565.008\" r=\"18\"/>\n",
       "<circle clip-path=\"url(#clip2603)\" style=\"fill:#009af9; stroke:none; fill-opacity:1\" cx=\"1432.05\" cy=\"565.008\" r=\"14\"/>\n",
       "<circle clip-path=\"url(#clip2603)\" style=\"fill:#000000; stroke:none; fill-opacity:1\" cx=\"1624.48\" cy=\"436.331\" r=\"18\"/>\n",
       "<circle clip-path=\"url(#clip2603)\" style=\"fill:#009af9; stroke:none; fill-opacity:1\" cx=\"1624.48\" cy=\"436.331\" r=\"14\"/>\n",
       "<circle clip-path=\"url(#clip2603)\" style=\"fill:#000000; stroke:none; fill-opacity:1\" cx=\"1816.91\" cy=\"327.568\" r=\"18\"/>\n",
       "<circle clip-path=\"url(#clip2603)\" style=\"fill:#009af9; stroke:none; fill-opacity:1\" cx=\"1816.91\" cy=\"327.568\" r=\"14\"/>\n",
       "<circle clip-path=\"url(#clip2603)\" style=\"fill:#000000; stroke:none; fill-opacity:1\" cx=\"2071.29\" cy=\"198.801\" r=\"18\"/>\n",
       "<circle clip-path=\"url(#clip2603)\" style=\"fill:#009af9; stroke:none; fill-opacity:1\" cx=\"2071.29\" cy=\"198.801\" r=\"14\"/>\n",
       "<circle clip-path=\"url(#clip2603)\" style=\"fill:#000000; stroke:none; fill-opacity:1\" cx=\"2263.73\" cy=\"86.6754\" r=\"18\"/>\n",
       "<circle clip-path=\"url(#clip2603)\" style=\"fill:#009af9; stroke:none; fill-opacity:1\" cx=\"2263.73\" cy=\"86.6754\" r=\"14\"/>\n",
       "<circle clip-path=\"url(#clip2603)\" style=\"fill:#000000; stroke:none; fill-opacity:1\" cx=\"345.984\" cy=\"1401.05\" r=\"18\"/>\n",
       "<circle clip-path=\"url(#clip2603)\" style=\"fill:#e26f46; stroke:none; fill-opacity:1\" cx=\"345.984\" cy=\"1401.05\" r=\"14\"/>\n",
       "<circle clip-path=\"url(#clip2603)\" style=\"fill:#000000; stroke:none; fill-opacity:1\" cx=\"538.417\" cy=\"1101.86\" r=\"18\"/>\n",
       "<circle clip-path=\"url(#clip2603)\" style=\"fill:#e26f46; stroke:none; fill-opacity:1\" cx=\"538.417\" cy=\"1101.86\" r=\"14\"/>\n",
       "<circle clip-path=\"url(#clip2603)\" style=\"fill:#000000; stroke:none; fill-opacity:1\" cx=\"792.799\" cy=\"809.423\" r=\"18\"/>\n",
       "<circle clip-path=\"url(#clip2603)\" style=\"fill:#e26f46; stroke:none; fill-opacity:1\" cx=\"792.799\" cy=\"809.423\" r=\"14\"/>\n",
       "<circle clip-path=\"url(#clip2603)\" style=\"fill:#000000; stroke:none; fill-opacity:1\" cx=\"985.232\" cy=\"772.608\" r=\"18\"/>\n",
       "<circle clip-path=\"url(#clip2603)\" style=\"fill:#e26f46; stroke:none; fill-opacity:1\" cx=\"985.232\" cy=\"772.608\" r=\"14\"/>\n",
       "<circle clip-path=\"url(#clip2603)\" style=\"fill:#000000; stroke:none; fill-opacity:1\" cx=\"1177.66\" cy=\"780.717\" r=\"18\"/>\n",
       "<circle clip-path=\"url(#clip2603)\" style=\"fill:#e26f46; stroke:none; fill-opacity:1\" cx=\"1177.66\" cy=\"780.717\" r=\"14\"/>\n",
       "<circle clip-path=\"url(#clip2603)\" style=\"fill:#000000; stroke:none; fill-opacity:1\" cx=\"1432.05\" cy=\"699.366\" r=\"18\"/>\n",
       "<circle clip-path=\"url(#clip2603)\" style=\"fill:#e26f46; stroke:none; fill-opacity:1\" cx=\"1432.05\" cy=\"699.366\" r=\"14\"/>\n",
       "<circle clip-path=\"url(#clip2603)\" style=\"fill:#000000; stroke:none; fill-opacity:1\" cx=\"1624.48\" cy=\"665.99\" r=\"18\"/>\n",
       "<circle clip-path=\"url(#clip2603)\" style=\"fill:#e26f46; stroke:none; fill-opacity:1\" cx=\"1624.48\" cy=\"665.99\" r=\"14\"/>\n",
       "<circle clip-path=\"url(#clip2603)\" style=\"fill:#000000; stroke:none; fill-opacity:1\" cx=\"1816.91\" cy=\"654.65\" r=\"18\"/>\n",
       "<circle clip-path=\"url(#clip2603)\" style=\"fill:#e26f46; stroke:none; fill-opacity:1\" cx=\"1816.91\" cy=\"654.65\" r=\"14\"/>\n",
       "<circle clip-path=\"url(#clip2603)\" style=\"fill:#000000; stroke:none; fill-opacity:1\" cx=\"2071.29\" cy=\"659.461\" r=\"18\"/>\n",
       "<circle clip-path=\"url(#clip2603)\" style=\"fill:#e26f46; stroke:none; fill-opacity:1\" cx=\"2071.29\" cy=\"659.461\" r=\"14\"/>\n",
       "<circle clip-path=\"url(#clip2603)\" style=\"fill:#000000; stroke:none; fill-opacity:1\" cx=\"2263.73\" cy=\"642.051\" r=\"18\"/>\n",
       "<circle clip-path=\"url(#clip2603)\" style=\"fill:#e26f46; stroke:none; fill-opacity:1\" cx=\"2263.73\" cy=\"642.051\" r=\"14\"/>\n",
       "<polygon clip-path=\"url(#clip2601)\" points=\"\n",
       "360.452,312.204 1154.23,312.204 1154.23,130.764 360.452,130.764 \n",
       "  \" fill=\"#ffffff\" fill-rule=\"evenodd\" fill-opacity=\"1\"/>\n",
       "<polyline clip-path=\"url(#clip2601)\" style=\"stroke:#000000; stroke-width:4; stroke-opacity:1; fill:none\" points=\"\n",
       "  360.452,312.204 1154.23,312.204 1154.23,130.764 360.452,130.764 360.452,312.204 \n",
       "  \"/>\n",
       "<circle clip-path=\"url(#clip2601)\" style=\"fill:#000000; stroke:none; fill-opacity:1\" cx=\"468.452\" cy=\"191.244\" r=\"25\"/>\n",
       "<circle clip-path=\"url(#clip2601)\" style=\"fill:#009af9; stroke:none; fill-opacity:1\" cx=\"468.452\" cy=\"191.244\" r=\"21\"/>\n",
       "<g clip-path=\"url(#clip2601)\">\n",
       "<text style=\"fill:#000000; fill-opacity:1; font-family:Arial,Helvetica Neue,Helvetica,sans-serif; font-size:48px; text-anchor:start;\" transform=\"rotate(0, 552.452, 208.744)\" x=\"552.452\" y=\"208.744\">Jarvis march</text>\n",
       "</g>\n",
       "<circle clip-path=\"url(#clip2601)\" style=\"fill:#000000; stroke:none; fill-opacity:1\" cx=\"468.452\" cy=\"251.724\" r=\"25\"/>\n",
       "<circle clip-path=\"url(#clip2601)\" style=\"fill:#e26f46; stroke:none; fill-opacity:1\" cx=\"468.452\" cy=\"251.724\" r=\"21\"/>\n",
       "<g clip-path=\"url(#clip2601)\">\n",
       "<text style=\"fill:#000000; fill-opacity:1; font-family:Arial,Helvetica Neue,Helvetica,sans-serif; font-size:48px; text-anchor:start;\" transform=\"rotate(0, 552.452, 269.224)\" x=\"552.452\" y=\"269.224\">Andrew&apos;s monotone chain</text>\n",
       "</g>\n",
       "</svg>\n"
      ]
     },
     "execution_count": 60,
     "metadata": {},
     "output_type": "execute_result"
    }
   ],
   "source": [
    "n = [1, 2, 5, 10, 20, 50, 100, 200, 500, 1000]\n",
    "\n",
    "plot(n, times_jarvis .* 1e6, seriestype=:scatter, xaxis=:log, yaxis=:log, linestyle=:auto,\n",
    "        legend=:topleft, label=\"Jarvis march\")\n",
    "\n",
    "plot!(n, times_andrew .* 1e6, seriestype=:scatter, xaxis=:log, yaxis=:log, line=:dot,\n",
    "         xlab=\"n\", ylab=\"time (us)\",\n",
    "         legend=:topleft, label=\"Andrew's monotone chain\")"
   ]
  }
 ],
 "metadata": {
  "@webio": {
   "lastCommId": null,
   "lastKernelId": null
  },
  "kernelspec": {
   "display_name": "Julia 1.0.2",
   "language": "julia",
   "name": "julia-1.0"
  },
  "language_info": {
   "file_extension": ".jl",
   "mimetype": "application/julia",
   "name": "julia",
   "version": "1.0.2"
  }
 },
 "nbformat": 4,
 "nbformat_minor": 2
}
