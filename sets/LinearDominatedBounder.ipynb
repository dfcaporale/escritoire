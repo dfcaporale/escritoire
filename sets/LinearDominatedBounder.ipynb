{
 "cells": [
  {
   "cell_type": "code",
   "execution_count": 2,
   "metadata": {},
   "outputs": [],
   "source": [
    "using RangeEnclosures, TaylorModels"
   ]
  },
  {
   "cell_type": "code",
   "execution_count": 86,
   "metadata": {},
   "outputs": [
    {
     "data": {
      "text/plain": [
       " - 0.625 - 1.75 t - 1.5 t² - 1.0 t³ + [-0, -0]"
      ]
     },
     "execution_count": 86,
     "metadata": {},
     "output_type": "execute_result"
    }
   ],
   "source": [
    "f(x) = -x - x^3\n",
    "dom = -1 .. 2\n",
    "\n",
    "# taylor model variable of order ord\n",
    "ord = 4\n",
    "x = TaylorModel1(ord, mid(dom), dom)\n",
    "\n",
    "tm = f(x)"
   ]
  },
  {
   "cell_type": "code",
   "execution_count": 89,
   "metadata": {},
   "outputs": [
    {
     "data": {
      "text/plain": [
       "to_positive_linear_part (generic function with 1 method)"
      ]
     },
     "execution_count": 89,
     "metadata": {},
     "output_type": "execute_result"
    }
   ],
   "source": [
    "function to_positive_linear_part(tm::TaylorModel1)\n",
    "    if getcoeff(linear_polynomial(tm), 1) >= 0\n",
    "        return tm\n",
    "    else # change coordinate sign\n",
    "        coeffs = tm.pol.coeffs\n",
    "        coeffs_flip = similar(coeffs)\n",
    "        @inbounds for (i, c) in enumerate(coeffs)\n",
    "            coeffs_flip[i] = iseven(i) ? -c : c\n",
    "        end\n",
    "        pol_flip = Taylor1(coeffs_flip)\n",
    "        tm_flip = TaylorModel1(pol_flip, tm.rem, tm.rem, -tm.dom)\n",
    "        return tm_flip\n",
    "    end\n",
    "end"
   ]
  },
  {
   "cell_type": "code",
   "execution_count": 90,
   "metadata": {},
   "outputs": [
    {
     "data": {
      "text/plain": [
       " - 0.625 + 1.75 t - 1.5 t² + 1.0 t³ + [-0, -0]"
      ]
     },
     "execution_count": 90,
     "metadata": {},
     "output_type": "execute_result"
    }
   ],
   "source": [
    "to_positive_linear_part(tm)"
   ]
  },
  {
   "cell_type": "markdown",
   "metadata": {},
   "source": [
    "---"
   ]
  },
  {
   "cell_type": "code",
   "execution_count": 7,
   "metadata": {},
   "outputs": [
    {
     "data": {
      "text/plain": [
       "[1, 4]"
      ]
     },
     "execution_count": 7,
     "metadata": {},
     "output_type": "execute_result"
    }
   ],
   "source": [
    "f(x) = -x^3/6 + 5*x\n",
    "dom = 1 .. 4"
   ]
  },
  {
   "cell_type": "code",
   "execution_count": 8,
   "metadata": {},
   "outputs": [
    {
     "data": {
      "text/plain": [
       "[2.33333, 19.3334]"
      ]
     },
     "execution_count": 8,
     "metadata": {},
     "output_type": "execute_result"
    }
   ],
   "source": [
    "enclose(f, dom, :TaylorModels, normalize=false)"
   ]
  },
  {
   "cell_type": "code",
   "execution_count": 20,
   "metadata": {},
   "outputs": [
    {
     "data": {
      "text/plain": [
       " 5.0 t - 0.16666666666666666 t³ + [0, 0]"
      ]
     },
     "execution_count": 20,
     "metadata": {},
     "output_type": "execute_result"
    }
   ],
   "source": [
    "# ==========================================\n",
    "# Step (1): recenter at the midpoint of dom\n",
    "# ==========================================\n",
    "order = 4\n",
    "c = mid(dom)\n",
    "x = TaylorModel1(order, c, dom)\n",
    "tm = f(x-c)"
   ]
  },
  {
   "cell_type": "code",
   "execution_count": 21,
   "metadata": {},
   "outputs": [
    {
     "data": {
      "text/plain": [
       " 5.0 t - 0.16666666666666666 t³ + 𝒪(t⁵)"
      ]
     },
     "execution_count": 21,
     "metadata": {},
     "output_type": "execute_result"
    }
   ],
   "source": [
    "Pm = tm.pol"
   ]
  },
  {
   "cell_type": "code",
   "execution_count": 22,
   "metadata": {},
   "outputs": [
    {
     "data": {
      "text/plain": [
       "[1, 4]"
      ]
     },
     "execution_count": 22,
     "metadata": {},
     "output_type": "execute_result"
    }
   ],
   "source": [
    "D1 = tm.dom"
   ]
  },
  {
   "cell_type": "code",
   "execution_count": 23,
   "metadata": {},
   "outputs": [
    {
     "data": {
      "text/plain": [
       "([0, 0], [2.5, 2.5])"
      ]
     },
     "execution_count": 23,
     "metadata": {},
     "output_type": "execute_result"
    }
   ],
   "source": [
    "tm.rem, tm.x0"
   ]
  },
  {
   "cell_type": "code",
   "execution_count": 24,
   "metadata": {},
   "outputs": [],
   "source": [
    "# ==================================================\n",
    "# Step (2): turn linear coefficients of Pm positive\n",
    "# =================================================="
   ]
  },
  {
   "cell_type": "code",
   "execution_count": 30,
   "metadata": {},
   "outputs": [
    {
     "data": {
      "text/plain": [
       " 5.0 t + 𝒪(t²)"
      ]
     },
     "execution_count": 30,
     "metadata": {},
     "output_type": "execute_result"
    }
   ],
   "source": [
    "# they are already positive\n",
    "linear_polynomial(Pm)"
   ]
  },
  {
   "cell_type": "code",
   "execution_count": 32,
   "metadata": {},
   "outputs": [
    {
     "data": {
      "text/plain": [
       " 5.0 t - 0.16666666666666666 t³ + 𝒪(t⁵)"
      ]
     },
     "execution_count": 32,
     "metadata": {},
     "output_type": "execute_result"
    }
   ],
   "source": [
    "# ==================================================\n",
    "# Step (2): turn linear coefficients of Pm positive\n",
    "# ==================================================\n",
    "P⁺ = copy(Pm)"
   ]
  }
 ],
 "metadata": {
  "kernelspec": {
   "display_name": "Julia 1.1.0-rc2",
   "language": "julia",
   "name": "julia-1.1"
  },
  "language_info": {
   "file_extension": ".jl",
   "mimetype": "application/julia",
   "name": "julia",
   "version": "1.1.0"
  }
 },
 "nbformat": 4,
 "nbformat_minor": 2
}
