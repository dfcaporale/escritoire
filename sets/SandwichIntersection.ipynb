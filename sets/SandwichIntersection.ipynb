{
 "cells": [
  {
   "cell_type": "markdown",
   "metadata": {},
   "source": [
    "## Context"
   ]
  },
  {
   "cell_type": "markdown",
   "metadata": {},
   "source": [
    "- https://github.com/JuliaReach/LazySets.jl/issues/682\n",
    "- https://github.com/JuliaReach/LazySets.jl/pull/793"
   ]
  },
  {
   "cell_type": "markdown",
   "metadata": {},
   "source": [
    "## WIP code"
   ]
  },
  {
   "cell_type": "code",
   "execution_count": null,
   "metadata": {},
   "outputs": [],
   "source": [
    "function _sandwich_search(ℓ, X, H::Union{HalfSpace, Hyperplane, Line}; kwargs...)\n",
    "    options = Dict(kwargs)\n",
    "\n",
    "    # Initialization\n",
    "    a, b = H.a, H.b\n",
    "    r⁻, r⁺ = -Inf, Inf\n",
    "\n",
    "    if haskey(options, :lower)\n",
    "        lower = pop!(options, :lower)\n",
    "    else\n",
    "        if H isa HalfSpace\n",
    "            lower = 0.0\n",
    "        elseif (H isa Hyperplane) || (H isa Line)\n",
    "            lower = -1e6 # \"big\": TODO relate with f(λ)\n",
    "        end\n",
    "    end\n",
    "\n",
    "    if haskey(options, :upper)\n",
    "        upper = pop!(options, :upper)\n",
    "    else\n",
    "        upper = 1e6 # \"big\": TODO relate with f(λ)\n",
    "    end\n",
    "\n",
    "    if haskey(options, :method)\n",
    "        method = pop!(options, :method)\n",
    "    else\n",
    "        method = Optim.Brent()\n",
    "    end\n",
    "\n",
    "    # initialization\n",
    "\n",
    "    for i in 3:length(λ)\n",
    "        λ1, λ2, λ3 = λ[i], λ[i-1], λ[i-2]\n",
    "        f_1(λ) = ρ(ℓ - λ1 * a, X) + λ1 * b\n",
    "        f_2(λ) = ρ(ℓ - λ2 * a, X) + λ2 * b\n",
    "        f_3(λ) = ρ(ℓ - λ3 * a, X) + λ3 * b\n",
    "\n",
    "        while (!(f_1(λ) <= f_2(λ) && f_2(λ) <= f_3(λ)))\n",
    "            #TODO make exponential growth\n",
    "        end\n",
    "\n",
    "        λi, λj = 0, 0 #TODO Generate two samples, such that λi < λj\n",
    "        f⁻ij(λ) = ((f(λj) - f(λi))/(λj - λi))(λj - λi) + f(λi)\n",
    "\n",
    "        sol_r⁻ = Optim.optimize(f⁻, lower, upper, method=method, options...)\n",
    "        fmin_r⁻, λmin_r⁻ = sol_r⁻.minimum, sol_r⁻.minimize\n",
    "        sol_r⁺ = Optim.optimize(f, lower, upper, method=method, options...)\n",
    "        fmin_r⁺, λmin_r⁺ = sol_r⁺.minimum, sol_r⁺.minimize\n",
    "        if (r⁺ - r⁻ < ε)\n",
    "            return Interval([r⁻, r⁺])\n",
    "        end\n",
    "    end"
   ]
  }
 ],
 "metadata": {
  "kernelspec": {
   "display_name": "Julia 1.2.0",
   "language": "julia",
   "name": "julia-1.2"
  },
  "language_info": {
   "file_extension": ".jl",
   "mimetype": "application/julia",
   "name": "julia",
   "version": "1.2.0"
  }
 },
 "nbformat": 4,
 "nbformat_minor": 2
}
