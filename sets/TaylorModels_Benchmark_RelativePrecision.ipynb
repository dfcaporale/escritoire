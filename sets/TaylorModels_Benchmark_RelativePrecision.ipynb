{
 "cells": [
  {
   "cell_type": "markdown",
   "metadata": {},
   "source": [
    "## TM Benchmarks Relative Precision Tests\n",
    "\n",
    "### Univariate cases\n",
    "\n",
    "- [sine](#sine)\n",
    "- [bspline0](#bspline0)\n",
    "- [bspline1](#bspline1)\n",
    "- [bspline2](#bspline2)\n",
    "- [bspline3](#bspline3)\n",
    "\n",
    "### Multivariate cases\n",
    "\n",
    "- [Himmilbeau](#Himmilbeau)\n",
    "- [Kepler1](#Kepler1)\n",
    "- [Kepler2](#Kepler2)\n",
    "- [Kepler3](#Kepler3)\n",
    "- [RigidBody1](#RigidBody1)\n",
    "- [RigidBody2](#RigidBody2)\n",
    "\n",
    "\n",
    "### Final results\n",
    "\n",
    "See the table in the [Results](#Results) section."
   ]
  },
  {
   "cell_type": "markdown",
   "metadata": {},
   "source": [
    "## Setup"
   ]
  },
  {
   "cell_type": "code",
   "execution_count": 39,
   "metadata": {},
   "outputs": [],
   "source": [
    "# dependencies\n",
    "using SumOfSquares, DynamicPolynomials, SemialgebraicSets, MosekTools, SDPA\n",
    "using Plots\n",
    "using TaylorModels\n",
    "using AffineArithmetic"
   ]
  },
  {
   "cell_type": "code",
   "execution_count": 40,
   "metadata": {},
   "outputs": [
    {
     "data": {
      "text/plain": [
       "Dict{Any,Any} with 0 entries"
      ]
     },
     "execution_count": 40,
     "metadata": {},
     "output_type": "execute_result"
    }
   ],
   "source": [
    "# domains\n",
    "a = Interval(-4.5, -0.3)\n",
    "b = Interval(0.4, 0.9)\n",
    "c = Interval(3.8, 7.8)\n",
    "d = Interval(8.0, 10.0)\n",
    "e = Interval(-10.0, 8.0)\n",
    "f = Interval(1.0, 2.0)\n",
    "\n",
    "# fix the order for the series expansions\n",
    "ord = 2\n",
    "\n",
    "REF = Dict()\n",
    "RELPREC = Dict()"
   ]
  },
  {
   "cell_type": "markdown",
   "metadata": {},
   "source": [
    "## Appendix I"
   ]
  },
  {
   "cell_type": "code",
   "execution_count": 41,
   "metadata": {},
   "outputs": [
    {
     "data": {
      "text/plain": [
       "relative_precision (generic function with 1 method)"
      ]
     },
     "execution_count": 41,
     "metadata": {},
     "output_type": "execute_result"
    }
   ],
   "source": [
    "# This function measures the relative precision of the result in a more informative way than\n",
    "# taking the scalar overestimation because it evaluates the precision of the lower and the\n",
    "# upper range bounds separately, see Eq. (20) in [1].\n",
    "function relative_precision(x, x_ref)\n",
    "    x_low, x_high = inf(x), sup(x)\n",
    "    x_ref_low, x_ref_high = inf(x_ref), sup(x_ref)\n",
    "    rel_low = -(x_low - x_ref_low) / (x_ref_high - x_ref_low)\n",
    "    rel_high = (x_high - x_ref_high) / (x_ref_high - x_ref_low)\n",
    "    return 100 * Interval(rel_low, rel_high)\n",
    "end"
   ]
  },
  {
   "cell_type": "markdown",
   "metadata": {},
   "source": [
    "## Appendix II"
   ]
  },
  {
   "cell_type": "code",
   "execution_count": 42,
   "metadata": {},
   "outputs": [
    {
     "name": "stderr",
     "output_type": "stream",
     "text": [
      "WARNING: redefining constant available_algorithms\n"
     ]
    }
   ],
   "source": [
    "const available_algorithms = [\"AA\", \"IA\", \"TM\", \"TM_NORM\", \"SDP\", \"ZOO\"];"
   ]
  },
  {
   "cell_type": "code",
   "execution_count": 43,
   "metadata": {},
   "outputs": [
    {
     "data": {
      "text/plain": [
       "bounds (generic function with 1 method)"
      ]
     },
     "execution_count": 43,
     "metadata": {},
     "output_type": "execute_result"
    }
   ],
   "source": [
    "# This function returns an overapproximation of the range of `f`\n",
    "# using different methods\n",
    "function bounds(f::Function, dom::Union{Interval, IntervalBox}; algorithm=\"ZOO\", order=2)::Interval\n",
    "\n",
    "    numvars = length(dom)\n",
    "    if algorithm == \"IA\"\n",
    "        bnd = _bounds_IA(f, dom)\n",
    "    elseif algorithm == \"TM\"\n",
    "        bnd = _bounds_TM(f, dom, order)\n",
    "    elseif algorithm == \"TM_NORM\"\n",
    "        bnd = _bounds_TM_NORM(f, dom, order)\n",
    "    elseif algorithm == \"AA\"\n",
    "        bnd = _bounds_AA(f, dom)\n",
    "    elseif algorithm == \"SDP\"\n",
    "        bnd = _bounds_SDP(f, dom, order)\n",
    "    elseif algorithm == \"ZOO\"\n",
    "        algos = setdiff(available_algorithms, [\"ZOO\", \"SDP\"])\n",
    "        bnd_all = [bounds(f, dom, algorithm=a, order=order) for a in algos]\n",
    "        bnd = reduce(∩, bnd_all)\n",
    "    else\n",
    "        error(\"algorithm $algorithm unknown\")\n",
    "    end\n",
    "    return bnd\n",
    "end"
   ]
  },
  {
   "cell_type": "code",
   "execution_count": 44,
   "metadata": {},
   "outputs": [
    {
     "data": {
      "text/plain": [
       "_bounds_TM_NORM (generic function with 2 methods)"
      ]
     },
     "execution_count": 44,
     "metadata": {},
     "output_type": "execute_result"
    }
   ],
   "source": [
    "# interval arithmetic substitution\n",
    "function _bounds_IA(f, dom)\n",
    "    return f(dom...)\n",
    "end\n",
    "\n",
    "# affine arithmetic substitution\n",
    "function _bounds_AA(f::Function, dom::Interval)\n",
    "    x = AFF(dom, 1, 1)\n",
    "    return interval(f(x))\n",
    "end\n",
    "\n",
    "# affine arithmetic in N variables\n",
    "function _bounds_AA(f::Function, dom::IntervalBox{N}) where {N}\n",
    "    x = [AFF(dom[i], N, i) for i in 1:N]\n",
    "    return interval(f(x...))\n",
    "end\n",
    "\n",
    "# taylor model in one variable\n",
    "function _bounds_TM(f::Function, dom::Interval, order::Int)\n",
    "    x0 = Interval(mid(dom))\n",
    "    x = TaylorModel1(order, x0, dom)\n",
    "    return evaluate(f(x), dom - x0)\n",
    "end\n",
    "\n",
    "# normalized taylor model in one variable\n",
    "function _bounds_TM_NORM(f::Function, dom::Interval, order::Int)\n",
    "    x0 = Interval(mid(dom))\n",
    "    x = TaylorModel1(order, x0, dom)\n",
    "    xnorm = normalize_taylor(x.pol, dom - x0, true)\n",
    "    xnormTM = TaylorModel1(xnorm, 0..0, 0..0, -1..1)\n",
    "    return evaluate(f(xnormTM), -1..1)\n",
    "end\n",
    "\n",
    "# taylor model in N variables\n",
    "function _bounds_TM(f::Function, dom::IntervalBox{N}, order) where {N}\n",
    "    x0 = mid(dom)\n",
    "    set_variables(Float64, \"x\", order=2order, numvars=N)\n",
    "    x = [TaylorModelN(i, ord, IntervalBox(x0), dom) for i=1:N]\n",
    "    return evaluate(f(x...), dom - x0)\n",
    "end\n",
    "\n",
    "# normalized taylor model in N variables\n",
    "function _bounds_TM_NORM(f::Function, dom::IntervalBox{N}, order::Int) where {N}\n",
    "    x0 = mid(dom)\n",
    "    set_variables(Float64, \"x\", order=2order, numvars=N)\n",
    "\n",
    "    zeroBox = IntervalBox(0..0, N)\n",
    "    symBox = IntervalBox(-1..1, N)\n",
    "    \n",
    "    x = [TaylorModelN(i, ord, IntervalBox(x0), dom) for i=1:N]\n",
    "    xnorm = [normalize_taylor(xi.pol, dom - x0, true) for xi in x]\n",
    "    xnormTM = [TaylorModelN(xi_norm, 0..0, zeroBox, symBox) for xi_norm in xnorm]\n",
    "    return evaluate(f(xnormTM...), symBox)\n",
    "end"
   ]
  },
  {
   "cell_type": "code",
   "execution_count": 45,
   "metadata": {},
   "outputs": [
    {
     "data": {
      "text/plain": [
       "_bounds_SDP (generic function with 2 methods)"
      ]
     },
     "execution_count": 45,
     "metadata": {},
     "output_type": "execute_result"
    }
   ],
   "source": [
    "function new_sos(backend, verbose)\n",
    "    if backend == \"Mosek\"\n",
    "        model = SOSModel(with_optimizer(Mosek.Optimizer, QUIET=!verbose))\n",
    "    elseif backend == \"SDPA\"\n",
    "        model = SOSModel(with_optimizer(SDPA.Optimizer))\n",
    "    else\n",
    "        error(\"backend $backend not supported\")\n",
    "    end\n",
    "    return model\n",
    "end\n",
    "\n",
    "# to get runtime:\n",
    "# MOI.get(model, MOI.SolveTime())\n",
    "function _bounds_SDP(f::Function, dom::Interval, order::Int; backend=\"Mosek\", verbose=false)\n",
    "\n",
    "    # polynomial variables\n",
    "    @polyvar x\n",
    "    p = f(x)\n",
    "\n",
    "    # box constraints\n",
    "    B = @set inf(dom) <= x && x <= sup(dom)\n",
    "\n",
    "    # ============\n",
    "    # Upper bound\n",
    "    # ============ \n",
    "    model = new_sos(backend, verbose)\n",
    "    @variable(model, γ) # JuMP decision variable\n",
    "    @constraint(model, p <= γ, domain=B, maxdegree=order)\n",
    "    @objective(model, Min, γ)\n",
    "    optimize!(model)\n",
    "    upper_bound = objective_value(model)\n",
    "\n",
    "    # ============\n",
    "    # Lower bound\n",
    "    # ============\n",
    "    model = new_sos(backend, verbose)\n",
    "    @variable(model, γ) # JuMP decision variable\n",
    "    @constraint(model, p >= γ, domain=B, maxdegree=order)\n",
    "    @objective(model, Max, γ)\n",
    "    optimize!(model)\n",
    "    lower_bound = objective_value(model)\n",
    "\n",
    "    return Interval(lower_bound, upper_bound)\n",
    "\n",
    "end\n",
    "\n",
    "function _bounds_SDP(f::Function, dom::IntervalBox{N}, order::Int; backend=\"Mosek\", verbose=false) where {N}\n",
    "    \n",
    "    # polynomial variables\n",
    "    @polyvar x[1:N]\n",
    "    p = f(x...)\n",
    "\n",
    "    # box constraints\n",
    "    Bi =[@set inf(dom[i]) <= x[i] && x[i] <= sup(dom[i]) for i in 1:N]\n",
    "    B = reduce(intersect, Bi)\n",
    "\n",
    "    # ============\n",
    "    # Upper bound\n",
    "    # ============ \n",
    "    model = new_sos(backend, verbose)\n",
    "    @variable(model, γ) # JuMP decision variable\n",
    "    @constraint(model, p <= γ, domain=B, maxdegree=order)\n",
    "    @objective(model, Min, γ)\n",
    "    optimize!(model)\n",
    "    upper_bound = objective_value(model)\n",
    "\n",
    "    # ============\n",
    "    # Lower bound\n",
    "    # ============\n",
    "    model = new_sos(backend, verbose)\n",
    "    @variable(model, γ) # JuMP decision variable\n",
    "    @constraint(model, p >= γ, domain=B, maxdegree=order)\n",
    "    @objective(model, Max, γ)\n",
    "    optimize!(model)\n",
    "    lower_bound = objective_value(model)\n",
    "\n",
    "    return Interval(lower_bound, upper_bound)\n",
    "end\n",
    "\n",
    "#=\n",
    "for a in available_algorithms\n",
    "    try\n",
    "        bnd = bounds(sin, dom, algorithm=a)\n",
    "        println(\"algorithm = $a, bnd = $bnd\")\n",
    "    catch\n",
    "        continue\n",
    "    end\n",
    "end\n",
    "=#"
   ]
  },
  {
   "cell_type": "markdown",
   "metadata": {},
   "source": [
    "## sine"
   ]
  },
  {
   "cell_type": "code",
   "execution_count": 46,
   "metadata": {},
   "outputs": [
    {
     "name": "stdout",
     "output_type": "stream",
     "text": [
      "REF[model_name] = Interval(min_bound, max_bound) = [-1, 0.977531]\n"
     ]
    },
    {
     "data": {
      "image/svg+xml": [
       "<?xml version=\"1.0\" encoding=\"utf-8\"?>\n",
       "<svg xmlns=\"http://www.w3.org/2000/svg\" xmlns:xlink=\"http://www.w3.org/1999/xlink\" width=\"600\" height=\"400\" viewBox=\"0 0 2400 1600\">\n",
       "<defs>\n",
       "  <clipPath id=\"clip0800\">\n",
       "    <rect x=\"0\" y=\"0\" width=\"2400\" height=\"1600\"/>\n",
       "  </clipPath>\n",
       "</defs>\n",
       "<polygon clip-path=\"url(#clip0800)\" points=\"\n",
       "0,1600 2400,1600 2400,0 0,0 \n",
       "  \" fill=\"#ffffff\" fill-rule=\"evenodd\" fill-opacity=\"1\"/>\n",
       "<defs>\n",
       "  <clipPath id=\"clip0801\">\n",
       "    <rect x=\"480\" y=\"0\" width=\"1681\" height=\"1600\"/>\n",
       "  </clipPath>\n",
       "</defs>\n",
       "<polygon clip-path=\"url(#clip0800)\" points=\"\n",
       "189.504,1503.47 2321.26,1503.47 2321.26,47.2441 189.504,47.2441 \n",
       "  \" fill=\"#ffffff\" fill-rule=\"evenodd\" fill-opacity=\"1\"/>\n",
       "<defs>\n",
       "  <clipPath id=\"clip0802\">\n",
       "    <rect x=\"189\" y=\"47\" width=\"2133\" height=\"1457\"/>\n",
       "  </clipPath>\n",
       "</defs>\n",
       "<polyline clip-path=\"url(#clip0802)\" style=\"stroke:#000000; stroke-width:2; stroke-opacity:0.1; fill:none\" points=\"\n",
       "  489.252,1503.47 489.252,47.2441 \n",
       "  \"/>\n",
       "<polyline clip-path=\"url(#clip0802)\" style=\"stroke:#000000; stroke-width:2; stroke-opacity:0.1; fill:none\" points=\"\n",
       "  968.083,1503.47 968.083,47.2441 \n",
       "  \"/>\n",
       "<polyline clip-path=\"url(#clip0802)\" style=\"stroke:#000000; stroke-width:2; stroke-opacity:0.1; fill:none\" points=\"\n",
       "  1446.91,1503.47 1446.91,47.2441 \n",
       "  \"/>\n",
       "<polyline clip-path=\"url(#clip0802)\" style=\"stroke:#000000; stroke-width:2; stroke-opacity:0.1; fill:none\" points=\"\n",
       "  1925.75,1503.47 1925.75,47.2441 \n",
       "  \"/>\n",
       "<polyline clip-path=\"url(#clip0802)\" style=\"stroke:#000000; stroke-width:2; stroke-opacity:0.1; fill:none\" points=\"\n",
       "  189.504,1462.26 2321.26,1462.26 \n",
       "  \"/>\n",
       "<polyline clip-path=\"url(#clip0802)\" style=\"stroke:#000000; stroke-width:2; stroke-opacity:0.1; fill:none\" points=\"\n",
       "  189.504,1114.91 2321.26,1114.91 \n",
       "  \"/>\n",
       "<polyline clip-path=\"url(#clip0802)\" style=\"stroke:#000000; stroke-width:2; stroke-opacity:0.1; fill:none\" points=\"\n",
       "  189.504,767.554 2321.26,767.554 \n",
       "  \"/>\n",
       "<polyline clip-path=\"url(#clip0802)\" style=\"stroke:#000000; stroke-width:2; stroke-opacity:0.1; fill:none\" points=\"\n",
       "  189.504,420.201 2321.26,420.201 \n",
       "  \"/>\n",
       "<polyline clip-path=\"url(#clip0802)\" style=\"stroke:#000000; stroke-width:2; stroke-opacity:0.1; fill:none\" points=\"\n",
       "  189.504,72.8482 2321.26,72.8482 \n",
       "  \"/>\n",
       "<polyline clip-path=\"url(#clip0800)\" style=\"stroke:#000000; stroke-width:4; stroke-opacity:1; fill:none\" points=\"\n",
       "  189.504,1503.47 2321.26,1503.47 \n",
       "  \"/>\n",
       "<polyline clip-path=\"url(#clip0800)\" style=\"stroke:#000000; stroke-width:4; stroke-opacity:1; fill:none\" points=\"\n",
       "  189.504,1503.47 189.504,47.2441 \n",
       "  \"/>\n",
       "<polyline clip-path=\"url(#clip0800)\" style=\"stroke:#000000; stroke-width:4; stroke-opacity:1; fill:none\" points=\"\n",
       "  489.252,1503.47 489.252,1481.63 \n",
       "  \"/>\n",
       "<polyline clip-path=\"url(#clip0800)\" style=\"stroke:#000000; stroke-width:4; stroke-opacity:1; fill:none\" points=\"\n",
       "  968.083,1503.47 968.083,1481.63 \n",
       "  \"/>\n",
       "<polyline clip-path=\"url(#clip0800)\" style=\"stroke:#000000; stroke-width:4; stroke-opacity:1; fill:none\" points=\"\n",
       "  1446.91,1503.47 1446.91,1481.63 \n",
       "  \"/>\n",
       "<polyline clip-path=\"url(#clip0800)\" style=\"stroke:#000000; stroke-width:4; stroke-opacity:1; fill:none\" points=\"\n",
       "  1925.75,1503.47 1925.75,1481.63 \n",
       "  \"/>\n",
       "<polyline clip-path=\"url(#clip0800)\" style=\"stroke:#000000; stroke-width:4; stroke-opacity:1; fill:none\" points=\"\n",
       "  189.504,1462.26 221.48,1462.26 \n",
       "  \"/>\n",
       "<polyline clip-path=\"url(#clip0800)\" style=\"stroke:#000000; stroke-width:4; stroke-opacity:1; fill:none\" points=\"\n",
       "  189.504,1114.91 221.48,1114.91 \n",
       "  \"/>\n",
       "<polyline clip-path=\"url(#clip0800)\" style=\"stroke:#000000; stroke-width:4; stroke-opacity:1; fill:none\" points=\"\n",
       "  189.504,767.554 221.48,767.554 \n",
       "  \"/>\n",
       "<polyline clip-path=\"url(#clip0800)\" style=\"stroke:#000000; stroke-width:4; stroke-opacity:1; fill:none\" points=\"\n",
       "  189.504,420.201 221.48,420.201 \n",
       "  \"/>\n",
       "<polyline clip-path=\"url(#clip0800)\" style=\"stroke:#000000; stroke-width:4; stroke-opacity:1; fill:none\" points=\"\n",
       "  189.504,72.8482 221.48,72.8482 \n",
       "  \"/>\n",
       "<g clip-path=\"url(#clip0800)\">\n",
       "<text style=\"fill:#000000; fill-opacity:1; font-family:Arial,Helvetica Neue,Helvetica,sans-serif; font-size:48px; text-anchor:middle;\" transform=\"rotate(0, 489.252, 1557.47)\" x=\"489.252\" y=\"1557.47\">-4</text>\n",
       "</g>\n",
       "<g clip-path=\"url(#clip0800)\">\n",
       "<text style=\"fill:#000000; fill-opacity:1; font-family:Arial,Helvetica Neue,Helvetica,sans-serif; font-size:48px; text-anchor:middle;\" transform=\"rotate(0, 968.083, 1557.47)\" x=\"968.083\" y=\"1557.47\">-3</text>\n",
       "</g>\n",
       "<g clip-path=\"url(#clip0800)\">\n",
       "<text style=\"fill:#000000; fill-opacity:1; font-family:Arial,Helvetica Neue,Helvetica,sans-serif; font-size:48px; text-anchor:middle;\" transform=\"rotate(0, 1446.91, 1557.47)\" x=\"1446.91\" y=\"1557.47\">-2</text>\n",
       "</g>\n",
       "<g clip-path=\"url(#clip0800)\">\n",
       "<text style=\"fill:#000000; fill-opacity:1; font-family:Arial,Helvetica Neue,Helvetica,sans-serif; font-size:48px; text-anchor:middle;\" transform=\"rotate(0, 1925.75, 1557.47)\" x=\"1925.75\" y=\"1557.47\">-1</text>\n",
       "</g>\n",
       "<g clip-path=\"url(#clip0800)\">\n",
       "<text style=\"fill:#000000; fill-opacity:1; font-family:Arial,Helvetica Neue,Helvetica,sans-serif; font-size:48px; text-anchor:end;\" transform=\"rotate(0, 165.504, 1479.76)\" x=\"165.504\" y=\"1479.76\">-1.0</text>\n",
       "</g>\n",
       "<g clip-path=\"url(#clip0800)\">\n",
       "<text style=\"fill:#000000; fill-opacity:1; font-family:Arial,Helvetica Neue,Helvetica,sans-serif; font-size:48px; text-anchor:end;\" transform=\"rotate(0, 165.504, 1132.41)\" x=\"165.504\" y=\"1132.41\">-0.5</text>\n",
       "</g>\n",
       "<g clip-path=\"url(#clip0800)\">\n",
       "<text style=\"fill:#000000; fill-opacity:1; font-family:Arial,Helvetica Neue,Helvetica,sans-serif; font-size:48px; text-anchor:end;\" transform=\"rotate(0, 165.504, 785.054)\" x=\"165.504\" y=\"785.054\">0.0</text>\n",
       "</g>\n",
       "<g clip-path=\"url(#clip0800)\">\n",
       "<text style=\"fill:#000000; fill-opacity:1; font-family:Arial,Helvetica Neue,Helvetica,sans-serif; font-size:48px; text-anchor:end;\" transform=\"rotate(0, 165.504, 437.701)\" x=\"165.504\" y=\"437.701\">0.5</text>\n",
       "</g>\n",
       "<g clip-path=\"url(#clip0800)\">\n",
       "<text style=\"fill:#000000; fill-opacity:1; font-family:Arial,Helvetica Neue,Helvetica,sans-serif; font-size:48px; text-anchor:end;\" transform=\"rotate(0, 165.504, 90.3482)\" x=\"165.504\" y=\"90.3482\">1.0</text>\n",
       "</g>\n",
       "<polyline clip-path=\"url(#clip0802)\" style=\"stroke:#009af9; stroke-width:6; stroke-opacity:1; fill:none\" points=\"\n",
       "  249.837,88.4582 297.72,106.471 345.603,131.088 393.486,162.065 441.369,199.092 489.252,241.799 537.135,289.759 585.019,342.493 632.902,399.474 680.785,460.133 \n",
       "  728.668,523.863 776.551,590.028 824.434,657.968 872.317,727.002 920.2,796.441 968.083,865.591 1015.97,933.762 1063.85,1000.27 1111.73,1064.46 1159.62,1125.68 \n",
       "  1207.5,1183.32 1255.38,1236.8 1303.27,1285.6 1351.15,1329.22 1399.03,1367.23 1446.91,1399.25 1494.8,1424.95 1542.68,1444.09 1590.56,1456.47 1638.45,1461.96 \n",
       "  1686.33,1460.52 1734.21,1452.15 1782.1,1436.94 1829.98,1415.05 1877.86,1386.68 1925.75,1352.13 1973.63,1311.74 2021.51,1265.91 2069.39,1215.1 2117.28,1159.82 \n",
       "  2165.16,1100.61 2213.04,1038.09 2260.93,972.854 \n",
       "  \"/>\n",
       "<polyline clip-path=\"url(#clip0802)\" style=\"stroke:#ff0000; stroke-width:4; stroke-opacity:1; fill:none\" stroke-dasharray=\"16, 10\" points=\"\n",
       "  249.837,1462.26 297.72,1462.26 345.603,1462.26 393.486,1462.26 441.369,1462.26 489.252,1462.26 537.135,1462.26 585.019,1462.26 632.902,1462.26 680.785,1462.26 \n",
       "  728.668,1462.26 776.551,1462.26 824.434,1462.26 872.317,1462.26 920.2,1462.26 968.083,1462.26 1015.97,1462.26 1063.85,1462.26 1111.73,1462.26 1159.62,1462.26 \n",
       "  1207.5,1462.26 1255.38,1462.26 1303.27,1462.26 1351.15,1462.26 1399.03,1462.26 1446.91,1462.26 1494.8,1462.26 1542.68,1462.26 1590.56,1462.26 1638.45,1462.26 \n",
       "  1686.33,1462.26 1734.21,1462.26 1782.1,1462.26 1829.98,1462.26 1877.86,1462.26 1925.75,1462.26 1973.63,1462.26 2021.51,1462.26 2069.39,1462.26 2117.28,1462.26 \n",
       "  2165.16,1462.26 2213.04,1462.26 2260.93,1462.26 \n",
       "  \"/>\n",
       "<polyline clip-path=\"url(#clip0802)\" style=\"stroke:#ff0000; stroke-width:4; stroke-opacity:1; fill:none\" stroke-dasharray=\"16, 10\" points=\"\n",
       "  249.837,88.4582 297.72,88.4582 345.603,88.4582 393.486,88.4582 441.369,88.4582 489.252,88.4582 537.135,88.4582 585.019,88.4582 632.902,88.4582 680.785,88.4582 \n",
       "  728.668,88.4582 776.551,88.4582 824.434,88.4582 872.317,88.4582 920.2,88.4582 968.083,88.4582 1015.97,88.4582 1063.85,88.4582 1111.73,88.4582 1159.62,88.4582 \n",
       "  1207.5,88.4582 1255.38,88.4582 1303.27,88.4582 1351.15,88.4582 1399.03,88.4582 1446.91,88.4582 1494.8,88.4582 1542.68,88.4582 1590.56,88.4582 1638.45,88.4582 \n",
       "  1686.33,88.4582 1734.21,88.4582 1782.1,88.4582 1829.98,88.4582 1877.86,88.4582 1925.75,88.4582 1973.63,88.4582 2021.51,88.4582 2069.39,88.4582 2117.28,88.4582 \n",
       "  2165.16,88.4582 2213.04,88.4582 2260.93,88.4582 \n",
       "  \"/>\n",
       "<polygon clip-path=\"url(#clip0800)\" points=\"\n",
       "1947.74,251.724 2249.26,251.724 2249.26,130.764 1947.74,130.764 \n",
       "  \" fill=\"#ffffff\" fill-rule=\"evenodd\" fill-opacity=\"1\"/>\n",
       "<polyline clip-path=\"url(#clip0800)\" style=\"stroke:#000000; stroke-width:4; stroke-opacity:1; fill:none\" points=\"\n",
       "  1947.74,251.724 2249.26,251.724 2249.26,130.764 1947.74,130.764 1947.74,251.724 \n",
       "  \"/>\n",
       "<polyline clip-path=\"url(#clip0800)\" style=\"stroke:#009af9; stroke-width:6; stroke-opacity:1; fill:none\" points=\"\n",
       "  1971.74,191.244 2115.74,191.244 \n",
       "  \"/>\n",
       "<g clip-path=\"url(#clip0800)\">\n",
       "<text style=\"fill:#000000; fill-opacity:1; font-family:Arial,Helvetica Neue,Helvetica,sans-serif; font-size:48px; text-anchor:start;\" transform=\"rotate(0, 2139.74, 208.744)\" x=\"2139.74\" y=\"208.744\">sin</text>\n",
       "</g>\n",
       "</svg>\n"
      ]
     },
     "execution_count": 46,
     "metadata": {},
     "output_type": "execute_result"
    }
   ],
   "source": [
    "model_name = \"sin\"\n",
    "dom = a\n",
    "\n",
    "min_bound = -1.0\n",
    "max_bound = sin(inf(a));\n",
    "@show REF[model_name] = Interval(min_bound, max_bound)\n",
    "\n",
    "plot(x -> sin(x), inf(dom):0.1:sup(dom), lw=1.5, lab=model_name, legend=:topright)\n",
    "plot!(x -> min_bound, inf(dom):0.1:sup(dom), color=:red, linestyle=:dash, lab=\"\")\n",
    "plot!(x -> max_bound, inf(dom):0.1:sup(dom), color=:red, linestyle=:dash, lab=\"\")"
   ]
  },
  {
   "cell_type": "code",
   "execution_count": 47,
   "metadata": {},
   "outputs": [
    {
     "name": "stdout",
     "output_type": "stream",
     "text": [
      "bnd = bounds(sin, dom, algorithm=\"IA\") = [-1, 0.977531]\n",
      "bnd = bounds(sin, dom, algorithm=\"TM\") = [-5.25689, 3.90596]\n",
      "bnd = bounds(sin, dom, algorithm=\"TM_NORM\") = [-3.76749, 3.90596]\n"
     ]
    }
   ],
   "source": [
    "# using interval arithmetic substitution\n",
    "@show bnd = bounds(sin, dom, algorithm=\"IA\")\n",
    "RELPREC[model_name, \"IA\"] = relative_precision(bnd, REF[model_name])\n",
    "\n",
    "# using Taylor model substitution\n",
    "@show bnd = bounds(sin, dom, algorithm=\"TM\")\n",
    "RELPREC[model_name, \"TM\"] = relative_precision(bnd, REF[model_name])\n",
    "\n",
    "# using normalized Taylor model substitution\n",
    "@show bnd = bounds(sin, dom, algorithm=\"TM_NORM\")\n",
    "RELPREC[model_name, \"TM_NORM\"] = relative_precision(bnd, REF[model_name]);\n",
    "\n",
    "# affine arithmetic and SDP are not available for sin(x)"
   ]
  },
  {
   "cell_type": "markdown",
   "metadata": {},
   "source": [
    "## bspline0"
   ]
  },
  {
   "cell_type": "code",
   "execution_count": 48,
   "metadata": {},
   "outputs": [
    {
     "name": "stdout",
     "output_type": "stream",
     "text": [
      "REF[model_name] = Interval(min_bound, max_bound) = [0.366166, 27.7292]\n"
     ]
    },
    {
     "data": {
      "image/svg+xml": [
       "<?xml version=\"1.0\" encoding=\"utf-8\"?>\n",
       "<svg xmlns=\"http://www.w3.org/2000/svg\" xmlns:xlink=\"http://www.w3.org/1999/xlink\" width=\"600\" height=\"400\" viewBox=\"0 0 2400 1600\">\n",
       "<defs>\n",
       "  <clipPath id=\"clip1200\">\n",
       "    <rect x=\"0\" y=\"0\" width=\"2400\" height=\"1600\"/>\n",
       "  </clipPath>\n",
       "</defs>\n",
       "<polygon clip-path=\"url(#clip1200)\" points=\"\n",
       "0,1600 2400,1600 2400,0 0,0 \n",
       "  \" fill=\"#ffffff\" fill-rule=\"evenodd\" fill-opacity=\"1\"/>\n",
       "<defs>\n",
       "  <clipPath id=\"clip1201\">\n",
       "    <rect x=\"480\" y=\"0\" width=\"1681\" height=\"1600\"/>\n",
       "  </clipPath>\n",
       "</defs>\n",
       "<polygon clip-path=\"url(#clip1200)\" points=\"\n",
       "148.013,1503.47 2321.26,1503.47 2321.26,47.2441 148.013,47.2441 \n",
       "  \" fill=\"#ffffff\" fill-rule=\"evenodd\" fill-opacity=\"1\"/>\n",
       "<defs>\n",
       "  <clipPath id=\"clip1202\">\n",
       "    <rect x=\"148\" y=\"47\" width=\"2174\" height=\"1457\"/>\n",
       "  </clipPath>\n",
       "</defs>\n",
       "<polyline clip-path=\"url(#clip1202)\" style=\"stroke:#000000; stroke-width:2; stroke-opacity:0.1; fill:none\" points=\"\n",
       "  453.595,1503.47 453.595,47.2441 \n",
       "  \"/>\n",
       "<polyline clip-path=\"url(#clip1202)\" style=\"stroke:#000000; stroke-width:2; stroke-opacity:0.1; fill:none\" points=\"\n",
       "  941.746,1503.47 941.746,47.2441 \n",
       "  \"/>\n",
       "<polyline clip-path=\"url(#clip1202)\" style=\"stroke:#000000; stroke-width:2; stroke-opacity:0.1; fill:none\" points=\"\n",
       "  1429.9,1503.47 1429.9,47.2441 \n",
       "  \"/>\n",
       "<polyline clip-path=\"url(#clip1202)\" style=\"stroke:#000000; stroke-width:2; stroke-opacity:0.1; fill:none\" points=\"\n",
       "  1918.05,1503.47 1918.05,47.2441 \n",
       "  \"/>\n",
       "<polyline clip-path=\"url(#clip1202)\" style=\"stroke:#000000; stroke-width:2; stroke-opacity:0.1; fill:none\" points=\"\n",
       "  148.013,1480.64 2321.26,1480.64 \n",
       "  \"/>\n",
       "<polyline clip-path=\"url(#clip1202)\" style=\"stroke:#000000; stroke-width:2; stroke-opacity:0.1; fill:none\" points=\"\n",
       "  148.013,1229.61 2321.26,1229.61 \n",
       "  \"/>\n",
       "<polyline clip-path=\"url(#clip1202)\" style=\"stroke:#000000; stroke-width:2; stroke-opacity:0.1; fill:none\" points=\"\n",
       "  148.013,978.579 2321.26,978.579 \n",
       "  \"/>\n",
       "<polyline clip-path=\"url(#clip1202)\" style=\"stroke:#000000; stroke-width:2; stroke-opacity:0.1; fill:none\" points=\"\n",
       "  148.013,727.546 2321.26,727.546 \n",
       "  \"/>\n",
       "<polyline clip-path=\"url(#clip1202)\" style=\"stroke:#000000; stroke-width:2; stroke-opacity:0.1; fill:none\" points=\"\n",
       "  148.013,476.513 2321.26,476.513 \n",
       "  \"/>\n",
       "<polyline clip-path=\"url(#clip1202)\" style=\"stroke:#000000; stroke-width:2; stroke-opacity:0.1; fill:none\" points=\"\n",
       "  148.013,225.48 2321.26,225.48 \n",
       "  \"/>\n",
       "<polyline clip-path=\"url(#clip1200)\" style=\"stroke:#000000; stroke-width:4; stroke-opacity:1; fill:none\" points=\"\n",
       "  148.013,1503.47 2321.26,1503.47 \n",
       "  \"/>\n",
       "<polyline clip-path=\"url(#clip1200)\" style=\"stroke:#000000; stroke-width:4; stroke-opacity:1; fill:none\" points=\"\n",
       "  148.013,1503.47 148.013,47.2441 \n",
       "  \"/>\n",
       "<polyline clip-path=\"url(#clip1200)\" style=\"stroke:#000000; stroke-width:4; stroke-opacity:1; fill:none\" points=\"\n",
       "  453.595,1503.47 453.595,1481.63 \n",
       "  \"/>\n",
       "<polyline clip-path=\"url(#clip1200)\" style=\"stroke:#000000; stroke-width:4; stroke-opacity:1; fill:none\" points=\"\n",
       "  941.746,1503.47 941.746,1481.63 \n",
       "  \"/>\n",
       "<polyline clip-path=\"url(#clip1200)\" style=\"stroke:#000000; stroke-width:4; stroke-opacity:1; fill:none\" points=\"\n",
       "  1429.9,1503.47 1429.9,1481.63 \n",
       "  \"/>\n",
       "<polyline clip-path=\"url(#clip1200)\" style=\"stroke:#000000; stroke-width:4; stroke-opacity:1; fill:none\" points=\"\n",
       "  1918.05,1503.47 1918.05,1481.63 \n",
       "  \"/>\n",
       "<polyline clip-path=\"url(#clip1200)\" style=\"stroke:#000000; stroke-width:4; stroke-opacity:1; fill:none\" points=\"\n",
       "  148.013,1480.64 180.612,1480.64 \n",
       "  \"/>\n",
       "<polyline clip-path=\"url(#clip1200)\" style=\"stroke:#000000; stroke-width:4; stroke-opacity:1; fill:none\" points=\"\n",
       "  148.013,1229.61 180.612,1229.61 \n",
       "  \"/>\n",
       "<polyline clip-path=\"url(#clip1200)\" style=\"stroke:#000000; stroke-width:4; stroke-opacity:1; fill:none\" points=\"\n",
       "  148.013,978.579 180.612,978.579 \n",
       "  \"/>\n",
       "<polyline clip-path=\"url(#clip1200)\" style=\"stroke:#000000; stroke-width:4; stroke-opacity:1; fill:none\" points=\"\n",
       "  148.013,727.546 180.612,727.546 \n",
       "  \"/>\n",
       "<polyline clip-path=\"url(#clip1200)\" style=\"stroke:#000000; stroke-width:4; stroke-opacity:1; fill:none\" points=\"\n",
       "  148.013,476.513 180.612,476.513 \n",
       "  \"/>\n",
       "<polyline clip-path=\"url(#clip1200)\" style=\"stroke:#000000; stroke-width:4; stroke-opacity:1; fill:none\" points=\"\n",
       "  148.013,225.48 180.612,225.48 \n",
       "  \"/>\n",
       "<g clip-path=\"url(#clip1200)\">\n",
       "<text style=\"fill:#000000; fill-opacity:1; font-family:Arial,Helvetica Neue,Helvetica,sans-serif; font-size:48px; text-anchor:middle;\" transform=\"rotate(0, 453.595, 1557.47)\" x=\"453.595\" y=\"1557.47\">-4</text>\n",
       "</g>\n",
       "<g clip-path=\"url(#clip1200)\">\n",
       "<text style=\"fill:#000000; fill-opacity:1; font-family:Arial,Helvetica Neue,Helvetica,sans-serif; font-size:48px; text-anchor:middle;\" transform=\"rotate(0, 941.746, 1557.47)\" x=\"941.746\" y=\"1557.47\">-3</text>\n",
       "</g>\n",
       "<g clip-path=\"url(#clip1200)\">\n",
       "<text style=\"fill:#000000; fill-opacity:1; font-family:Arial,Helvetica Neue,Helvetica,sans-serif; font-size:48px; text-anchor:middle;\" transform=\"rotate(0, 1429.9, 1557.47)\" x=\"1429.9\" y=\"1557.47\">-2</text>\n",
       "</g>\n",
       "<g clip-path=\"url(#clip1200)\">\n",
       "<text style=\"fill:#000000; fill-opacity:1; font-family:Arial,Helvetica Neue,Helvetica,sans-serif; font-size:48px; text-anchor:middle;\" transform=\"rotate(0, 1918.05, 1557.47)\" x=\"1918.05\" y=\"1557.47\">-1</text>\n",
       "</g>\n",
       "<g clip-path=\"url(#clip1200)\">\n",
       "<text style=\"fill:#000000; fill-opacity:1; font-family:Arial,Helvetica Neue,Helvetica,sans-serif; font-size:48px; text-anchor:end;\" transform=\"rotate(0, 124.013, 1498.14)\" x=\"124.013\" y=\"1498.14\">0</text>\n",
       "</g>\n",
       "<g clip-path=\"url(#clip1200)\">\n",
       "<text style=\"fill:#000000; fill-opacity:1; font-family:Arial,Helvetica Neue,Helvetica,sans-serif; font-size:48px; text-anchor:end;\" transform=\"rotate(0, 124.013, 1247.11)\" x=\"124.013\" y=\"1247.11\">5</text>\n",
       "</g>\n",
       "<g clip-path=\"url(#clip1200)\">\n",
       "<text style=\"fill:#000000; fill-opacity:1; font-family:Arial,Helvetica Neue,Helvetica,sans-serif; font-size:48px; text-anchor:end;\" transform=\"rotate(0, 124.013, 996.079)\" x=\"124.013\" y=\"996.079\">10</text>\n",
       "</g>\n",
       "<g clip-path=\"url(#clip1200)\">\n",
       "<text style=\"fill:#000000; fill-opacity:1; font-family:Arial,Helvetica Neue,Helvetica,sans-serif; font-size:48px; text-anchor:end;\" transform=\"rotate(0, 124.013, 745.046)\" x=\"124.013\" y=\"745.046\">15</text>\n",
       "</g>\n",
       "<g clip-path=\"url(#clip1200)\">\n",
       "<text style=\"fill:#000000; fill-opacity:1; font-family:Arial,Helvetica Neue,Helvetica,sans-serif; font-size:48px; text-anchor:end;\" transform=\"rotate(0, 124.013, 494.013)\" x=\"124.013\" y=\"494.013\">20</text>\n",
       "</g>\n",
       "<g clip-path=\"url(#clip1200)\">\n",
       "<text style=\"fill:#000000; fill-opacity:1; font-family:Arial,Helvetica Neue,Helvetica,sans-serif; font-size:48px; text-anchor:end;\" transform=\"rotate(0, 124.013, 242.98)\" x=\"124.013\" y=\"242.98\">25</text>\n",
       "</g>\n",
       "<polyline clip-path=\"url(#clip1202)\" style=\"stroke:#009af9; stroke-width:6; stroke-opacity:1; fill:none\" points=\"\n",
       "  209.52,88.4582 258.335,163.023 307.15,234.877 355.965,304.07 404.78,370.653 453.595,434.674 502.41,496.186 551.225,555.237 600.04,611.878 648.856,666.16 \n",
       "  697.671,718.132 746.486,767.845 795.301,815.349 844.116,860.694 892.931,903.93 941.746,945.108 990.561,984.277 1039.38,1021.49 1088.19,1056.79 1137.01,1090.24 \n",
       "  1185.82,1121.88 1234.64,1151.76 1283.45,1179.93 1332.27,1206.45 1381.08,1231.36 1429.9,1254.72 1478.71,1276.56 1527.53,1296.96 1576.34,1315.94 1625.16,1333.57 \n",
       "  1673.97,1349.9 1722.79,1364.97 1771.6,1378.83 1820.42,1391.54 1869.23,1403.15 1918.05,1413.7 1966.86,1423.25 2015.68,1431.84 2064.49,1439.53 2113.31,1446.37 \n",
       "  2162.12,1452.4 2210.94,1457.68 2259.75,1462.26 \n",
       "  \"/>\n",
       "<polyline clip-path=\"url(#clip1202)\" style=\"stroke:#ff0000; stroke-width:4; stroke-opacity:1; fill:none\" stroke-dasharray=\"16, 10\" points=\"\n",
       "  209.52,1462.26 258.335,1462.26 307.15,1462.26 355.965,1462.26 404.78,1462.26 453.595,1462.26 502.41,1462.26 551.225,1462.26 600.04,1462.26 648.856,1462.26 \n",
       "  697.671,1462.26 746.486,1462.26 795.301,1462.26 844.116,1462.26 892.931,1462.26 941.746,1462.26 990.561,1462.26 1039.38,1462.26 1088.19,1462.26 1137.01,1462.26 \n",
       "  1185.82,1462.26 1234.64,1462.26 1283.45,1462.26 1332.27,1462.26 1381.08,1462.26 1429.9,1462.26 1478.71,1462.26 1527.53,1462.26 1576.34,1462.26 1625.16,1462.26 \n",
       "  1673.97,1462.26 1722.79,1462.26 1771.6,1462.26 1820.42,1462.26 1869.23,1462.26 1918.05,1462.26 1966.86,1462.26 2015.68,1462.26 2064.49,1462.26 2113.31,1462.26 \n",
       "  2162.12,1462.26 2210.94,1462.26 2259.75,1462.26 \n",
       "  \"/>\n",
       "<polyline clip-path=\"url(#clip1202)\" style=\"stroke:#ff0000; stroke-width:4; stroke-opacity:1; fill:none\" stroke-dasharray=\"16, 10\" points=\"\n",
       "  209.52,88.4582 258.335,88.4582 307.15,88.4582 355.965,88.4582 404.78,88.4582 453.595,88.4582 502.41,88.4582 551.225,88.4582 600.04,88.4582 648.856,88.4582 \n",
       "  697.671,88.4582 746.486,88.4582 795.301,88.4582 844.116,88.4582 892.931,88.4582 941.746,88.4582 990.561,88.4582 1039.38,88.4582 1088.19,88.4582 1137.01,88.4582 \n",
       "  1185.82,88.4582 1234.64,88.4582 1283.45,88.4582 1332.27,88.4582 1381.08,88.4582 1429.9,88.4582 1478.71,88.4582 1527.53,88.4582 1576.34,88.4582 1625.16,88.4582 \n",
       "  1673.97,88.4582 1722.79,88.4582 1771.6,88.4582 1820.42,88.4582 1869.23,88.4582 1918.05,88.4582 1966.86,88.4582 2015.68,88.4582 2064.49,88.4582 2113.31,88.4582 \n",
       "  2162.12,88.4582 2210.94,88.4582 2259.75,88.4582 \n",
       "  \"/>\n",
       "<polygon clip-path=\"url(#clip1200)\" points=\"\n",
       "1830.01,251.724 2249.26,251.724 2249.26,130.764 1830.01,130.764 \n",
       "  \" fill=\"#ffffff\" fill-rule=\"evenodd\" fill-opacity=\"1\"/>\n",
       "<polyline clip-path=\"url(#clip1200)\" style=\"stroke:#000000; stroke-width:4; stroke-opacity:1; fill:none\" points=\"\n",
       "  1830.01,251.724 2249.26,251.724 2249.26,130.764 1830.01,130.764 1830.01,251.724 \n",
       "  \"/>\n",
       "<polyline clip-path=\"url(#clip1200)\" style=\"stroke:#009af9; stroke-width:6; stroke-opacity:1; fill:none\" points=\"\n",
       "  1854.01,191.244 1998.01,191.244 \n",
       "  \"/>\n",
       "<g clip-path=\"url(#clip1200)\">\n",
       "<text style=\"fill:#000000; fill-opacity:1; font-family:Arial,Helvetica Neue,Helvetica,sans-serif; font-size:48px; text-anchor:start;\" transform=\"rotate(0, 2022.01, 208.744)\" x=\"2022.01\" y=\"208.744\">bspline0</text>\n",
       "</g>\n",
       "</svg>\n"
      ]
     },
     "execution_count": 48,
     "metadata": {},
     "output_type": "execute_result"
    }
   ],
   "source": [
    "model_name = \"bspline0\"\n",
    "dom = a\n",
    "\n",
    "bspline0(x) = (1 - x) * (1 - x) * (1 - x) / 6.0\n",
    "\n",
    "# evaluation at the extreme points\n",
    "min_bound, max_bound = bspline0(sup(a)), bspline0(inf(a))\n",
    "@show REF[model_name] = Interval(min_bound, max_bound)\n",
    "\n",
    "plot(x -> bspline0(x), inf(dom):0.1:sup(dom), lw=1.5, lab=model_name)\n",
    "plot!(x -> min_bound, inf(dom):0.1:sup(dom), color=:red, linestyle=:dash, lab=\"\")\n",
    "plot!(x -> max_bound, inf(dom):0.1:sup(dom), color=:red, linestyle=:dash, lab=\"\")"
   ]
  },
  {
   "cell_type": "code",
   "execution_count": 49,
   "metadata": {},
   "outputs": [
    {
     "name": "stdout",
     "output_type": "stream",
     "text": [
      "bnd = bounds(bspline0, dom, algorithm=\"IA\") = [0.366166, 27.7292]\n",
      "bnd = bounds(bspline0, dom, algorithm=\"TM\") = [-14.6279, 27.7292]\n",
      "bnd = bounds(bspline0, dom, algorithm=\"TM_NORM\") = [-7.13084, 27.7292]\n",
      "bnd = bounds(bspline0, dom, algorithm=\"AA\") = [0.366166, 27.7292]\n",
      "bnd = bounds(bspline0, dom, algorithm=\"SDP\", order=5) = [0.366166, 27.7292]\n",
      "bnd = bounds(bspline0, dom, algorithm=\"ZOO\") = [0.366166, 27.7292]\n"
     ]
    }
   ],
   "source": [
    "# using interval arithmetic substitution\n",
    "@show bnd = bounds(bspline0, dom, algorithm=\"IA\")\n",
    "RELPREC[model_name, \"IA\"] = relative_precision(bnd, REF[model_name])\n",
    "\n",
    "# using Taylor model substitution\n",
    "@show bnd = bounds(bspline0, dom, algorithm=\"TM\")\n",
    "RELPREC[model_name, \"TM\"] = relative_precision(bnd, REF[model_name])\n",
    "\n",
    "# using normalized Taylor model substitution\n",
    "@show bnd = bounds(bspline0, dom, algorithm=\"TM_NORM\")\n",
    "RELPREC[model_name, \"TM_NORM\"] = relative_precision(bnd, REF[model_name])\n",
    "\n",
    "# using affine arithmetic\n",
    "@show bnd = bounds(bspline0, dom, algorithm=\"AA\")\n",
    "RELPREC[model_name, \"AA\"] = relative_precision(bnd, REF[model_name])\n",
    "\n",
    "# using SDP\n",
    "@show bnd = bounds(bspline0, dom, algorithm=\"SDP\", order=5)\n",
    "RELPREC[model_name, \"SDP\"] = relative_precision(bnd, REF[model_name])\n",
    "\n",
    "@show bnd = bounds(bspline0, dom, algorithm=\"ZOO\")\n",
    "RELPREC[model_name, \"ZOO\"] = relative_precision(bnd, REF[model_name]);"
   ]
  },
  {
   "cell_type": "markdown",
   "metadata": {},
   "source": [
    "## bspline1"
   ]
  },
  {
   "cell_type": "code",
   "execution_count": 50,
   "metadata": {},
   "outputs": [
    {
     "name": "stdout",
     "output_type": "stream",
     "text": [
      "REF[model_name] = Interval(min_bound, max_bound) = [-65.1459, 0.563167]\n"
     ]
    },
    {
     "data": {
      "image/svg+xml": [
       "<?xml version=\"1.0\" encoding=\"utf-8\"?>\n",
       "<svg xmlns=\"http://www.w3.org/2000/svg\" xmlns:xlink=\"http://www.w3.org/1999/xlink\" width=\"600\" height=\"400\" viewBox=\"0 0 2400 1600\">\n",
       "<defs>\n",
       "  <clipPath id=\"clip1600\">\n",
       "    <rect x=\"0\" y=\"0\" width=\"2400\" height=\"1600\"/>\n",
       "  </clipPath>\n",
       "</defs>\n",
       "<polygon clip-path=\"url(#clip1600)\" points=\"\n",
       "0,1600 2400,1600 2400,0 0,0 \n",
       "  \" fill=\"#ffffff\" fill-rule=\"evenodd\" fill-opacity=\"1\"/>\n",
       "<defs>\n",
       "  <clipPath id=\"clip1601\">\n",
       "    <rect x=\"480\" y=\"0\" width=\"1681\" height=\"1600\"/>\n",
       "  </clipPath>\n",
       "</defs>\n",
       "<polygon clip-path=\"url(#clip1600)\" points=\"\n",
       "176.123,1503.47 2321.26,1503.47 2321.26,47.2441 176.123,47.2441 \n",
       "  \" fill=\"#ffffff\" fill-rule=\"evenodd\" fill-opacity=\"1\"/>\n",
       "<defs>\n",
       "  <clipPath id=\"clip1602\">\n",
       "    <rect x=\"176\" y=\"47\" width=\"2146\" height=\"1457\"/>\n",
       "  </clipPath>\n",
       "</defs>\n",
       "<polyline clip-path=\"url(#clip1602)\" style=\"stroke:#000000; stroke-width:2; stroke-opacity:0.1; fill:none\" points=\"\n",
       "  477.753,1503.47 477.753,47.2441 \n",
       "  \"/>\n",
       "<polyline clip-path=\"url(#clip1602)\" style=\"stroke:#000000; stroke-width:2; stroke-opacity:0.1; fill:none\" points=\"\n",
       "  959.589,1503.47 959.589,47.2441 \n",
       "  \"/>\n",
       "<polyline clip-path=\"url(#clip1602)\" style=\"stroke:#000000; stroke-width:2; stroke-opacity:0.1; fill:none\" points=\"\n",
       "  1441.43,1503.47 1441.43,47.2441 \n",
       "  \"/>\n",
       "<polyline clip-path=\"url(#clip1602)\" style=\"stroke:#000000; stroke-width:2; stroke-opacity:0.1; fill:none\" points=\"\n",
       "  1923.26,1503.47 1923.26,47.2441 \n",
       "  \"/>\n",
       "<polyline clip-path=\"url(#clip1602)\" style=\"stroke:#000000; stroke-width:2; stroke-opacity:0.1; fill:none\" points=\"\n",
       "  176.123,1354.67 2321.26,1354.67 \n",
       "  \"/>\n",
       "<polyline clip-path=\"url(#clip1602)\" style=\"stroke:#000000; stroke-width:2; stroke-opacity:0.1; fill:none\" points=\"\n",
       "  176.123,1145.6 2321.26,1145.6 \n",
       "  \"/>\n",
       "<polyline clip-path=\"url(#clip1602)\" style=\"stroke:#000000; stroke-width:2; stroke-opacity:0.1; fill:none\" points=\"\n",
       "  176.123,936.527 2321.26,936.527 \n",
       "  \"/>\n",
       "<polyline clip-path=\"url(#clip1602)\" style=\"stroke:#000000; stroke-width:2; stroke-opacity:0.1; fill:none\" points=\"\n",
       "  176.123,727.454 2321.26,727.454 \n",
       "  \"/>\n",
       "<polyline clip-path=\"url(#clip1602)\" style=\"stroke:#000000; stroke-width:2; stroke-opacity:0.1; fill:none\" points=\"\n",
       "  176.123,518.38 2321.26,518.38 \n",
       "  \"/>\n",
       "<polyline clip-path=\"url(#clip1602)\" style=\"stroke:#000000; stroke-width:2; stroke-opacity:0.1; fill:none\" points=\"\n",
       "  176.123,309.306 2321.26,309.306 \n",
       "  \"/>\n",
       "<polyline clip-path=\"url(#clip1602)\" style=\"stroke:#000000; stroke-width:2; stroke-opacity:0.1; fill:none\" points=\"\n",
       "  176.123,100.233 2321.26,100.233 \n",
       "  \"/>\n",
       "<polyline clip-path=\"url(#clip1600)\" style=\"stroke:#000000; stroke-width:4; stroke-opacity:1; fill:none\" points=\"\n",
       "  176.123,1503.47 2321.26,1503.47 \n",
       "  \"/>\n",
       "<polyline clip-path=\"url(#clip1600)\" style=\"stroke:#000000; stroke-width:4; stroke-opacity:1; fill:none\" points=\"\n",
       "  176.123,1503.47 176.123,47.2441 \n",
       "  \"/>\n",
       "<polyline clip-path=\"url(#clip1600)\" style=\"stroke:#000000; stroke-width:4; stroke-opacity:1; fill:none\" points=\"\n",
       "  477.753,1503.47 477.753,1481.63 \n",
       "  \"/>\n",
       "<polyline clip-path=\"url(#clip1600)\" style=\"stroke:#000000; stroke-width:4; stroke-opacity:1; fill:none\" points=\"\n",
       "  959.589,1503.47 959.589,1481.63 \n",
       "  \"/>\n",
       "<polyline clip-path=\"url(#clip1600)\" style=\"stroke:#000000; stroke-width:4; stroke-opacity:1; fill:none\" points=\"\n",
       "  1441.43,1503.47 1441.43,1481.63 \n",
       "  \"/>\n",
       "<polyline clip-path=\"url(#clip1600)\" style=\"stroke:#000000; stroke-width:4; stroke-opacity:1; fill:none\" points=\"\n",
       "  1923.26,1503.47 1923.26,1481.63 \n",
       "  \"/>\n",
       "<polyline clip-path=\"url(#clip1600)\" style=\"stroke:#000000; stroke-width:4; stroke-opacity:1; fill:none\" points=\"\n",
       "  176.123,1354.67 208.3,1354.67 \n",
       "  \"/>\n",
       "<polyline clip-path=\"url(#clip1600)\" style=\"stroke:#000000; stroke-width:4; stroke-opacity:1; fill:none\" points=\"\n",
       "  176.123,1145.6 208.3,1145.6 \n",
       "  \"/>\n",
       "<polyline clip-path=\"url(#clip1600)\" style=\"stroke:#000000; stroke-width:4; stroke-opacity:1; fill:none\" points=\"\n",
       "  176.123,936.527 208.3,936.527 \n",
       "  \"/>\n",
       "<polyline clip-path=\"url(#clip1600)\" style=\"stroke:#000000; stroke-width:4; stroke-opacity:1; fill:none\" points=\"\n",
       "  176.123,727.454 208.3,727.454 \n",
       "  \"/>\n",
       "<polyline clip-path=\"url(#clip1600)\" style=\"stroke:#000000; stroke-width:4; stroke-opacity:1; fill:none\" points=\"\n",
       "  176.123,518.38 208.3,518.38 \n",
       "  \"/>\n",
       "<polyline clip-path=\"url(#clip1600)\" style=\"stroke:#000000; stroke-width:4; stroke-opacity:1; fill:none\" points=\"\n",
       "  176.123,309.306 208.3,309.306 \n",
       "  \"/>\n",
       "<polyline clip-path=\"url(#clip1600)\" style=\"stroke:#000000; stroke-width:4; stroke-opacity:1; fill:none\" points=\"\n",
       "  176.123,100.233 208.3,100.233 \n",
       "  \"/>\n",
       "<g clip-path=\"url(#clip1600)\">\n",
       "<text style=\"fill:#000000; fill-opacity:1; font-family:Arial,Helvetica Neue,Helvetica,sans-serif; font-size:48px; text-anchor:middle;\" transform=\"rotate(0, 477.753, 1557.47)\" x=\"477.753\" y=\"1557.47\">-4</text>\n",
       "</g>\n",
       "<g clip-path=\"url(#clip1600)\">\n",
       "<text style=\"fill:#000000; fill-opacity:1; font-family:Arial,Helvetica Neue,Helvetica,sans-serif; font-size:48px; text-anchor:middle;\" transform=\"rotate(0, 959.589, 1557.47)\" x=\"959.589\" y=\"1557.47\">-3</text>\n",
       "</g>\n",
       "<g clip-path=\"url(#clip1600)\">\n",
       "<text style=\"fill:#000000; fill-opacity:1; font-family:Arial,Helvetica Neue,Helvetica,sans-serif; font-size:48px; text-anchor:middle;\" transform=\"rotate(0, 1441.43, 1557.47)\" x=\"1441.43\" y=\"1557.47\">-2</text>\n",
       "</g>\n",
       "<g clip-path=\"url(#clip1600)\">\n",
       "<text style=\"fill:#000000; fill-opacity:1; font-family:Arial,Helvetica Neue,Helvetica,sans-serif; font-size:48px; text-anchor:middle;\" transform=\"rotate(0, 1923.26, 1557.47)\" x=\"1923.26\" y=\"1557.47\">-1</text>\n",
       "</g>\n",
       "<g clip-path=\"url(#clip1600)\">\n",
       "<text style=\"fill:#000000; fill-opacity:1; font-family:Arial,Helvetica Neue,Helvetica,sans-serif; font-size:48px; text-anchor:end;\" transform=\"rotate(0, 152.123, 1372.17)\" x=\"152.123\" y=\"1372.17\">-60</text>\n",
       "</g>\n",
       "<g clip-path=\"url(#clip1600)\">\n",
       "<text style=\"fill:#000000; fill-opacity:1; font-family:Arial,Helvetica Neue,Helvetica,sans-serif; font-size:48px; text-anchor:end;\" transform=\"rotate(0, 152.123, 1163.1)\" x=\"152.123\" y=\"1163.1\">-50</text>\n",
       "</g>\n",
       "<g clip-path=\"url(#clip1600)\">\n",
       "<text style=\"fill:#000000; fill-opacity:1; font-family:Arial,Helvetica Neue,Helvetica,sans-serif; font-size:48px; text-anchor:end;\" transform=\"rotate(0, 152.123, 954.027)\" x=\"152.123\" y=\"954.027\">-40</text>\n",
       "</g>\n",
       "<g clip-path=\"url(#clip1600)\">\n",
       "<text style=\"fill:#000000; fill-opacity:1; font-family:Arial,Helvetica Neue,Helvetica,sans-serif; font-size:48px; text-anchor:end;\" transform=\"rotate(0, 152.123, 744.954)\" x=\"152.123\" y=\"744.954\">-30</text>\n",
       "</g>\n",
       "<g clip-path=\"url(#clip1600)\">\n",
       "<text style=\"fill:#000000; fill-opacity:1; font-family:Arial,Helvetica Neue,Helvetica,sans-serif; font-size:48px; text-anchor:end;\" transform=\"rotate(0, 152.123, 535.88)\" x=\"152.123\" y=\"535.88\">-20</text>\n",
       "</g>\n",
       "<g clip-path=\"url(#clip1600)\">\n",
       "<text style=\"fill:#000000; fill-opacity:1; font-family:Arial,Helvetica Neue,Helvetica,sans-serif; font-size:48px; text-anchor:end;\" transform=\"rotate(0, 152.123, 326.806)\" x=\"152.123\" y=\"326.806\">-10</text>\n",
       "</g>\n",
       "<g clip-path=\"url(#clip1600)\">\n",
       "<text style=\"fill:#000000; fill-opacity:1; font-family:Arial,Helvetica Neue,Helvetica,sans-serif; font-size:48px; text-anchor:end;\" transform=\"rotate(0, 152.123, 117.733)\" x=\"152.123\" y=\"117.733\">0</text>\n",
       "</g>\n",
       "<polyline clip-path=\"url(#clip1602)\" style=\"stroke:#009af9; stroke-width:6; stroke-opacity:1; fill:none\" points=\"\n",
       "  236.834,1462.26 285.018,1381.55 333.202,1304.01 381.385,1229.59 429.569,1158.23 477.753,1089.85 525.936,1024.4 574.12,961.811 622.304,902.027 670.487,844.981 \n",
       "  718.671,790.611 766.855,738.855 815.038,689.65 863.222,642.932 911.406,598.64 959.589,556.71 1007.77,517.08 1055.96,479.687 1104.14,444.469 1152.32,411.362 \n",
       "  1200.51,380.304 1248.69,351.232 1296.88,324.084 1345.06,298.797 1393.24,275.307 1441.43,253.553 1489.61,233.472 1537.79,215 1585.98,198.076 1634.16,182.635 \n",
       "  1682.34,168.617 1730.53,155.958 1778.71,144.594 1826.9,134.465 1875.08,125.506 1923.26,117.655 1971.45,110.85 2019.63,105.027 2067.81,100.124 2116,96.0789 \n",
       "  2164.18,92.8278 2212.36,90.3085 2260.55,88.4582 \n",
       "  \"/>\n",
       "<polyline clip-path=\"url(#clip1602)\" style=\"stroke:#ff0000; stroke-width:4; stroke-opacity:1; fill:none\" stroke-dasharray=\"16, 10\" points=\"\n",
       "  236.834,1462.26 285.018,1462.26 333.202,1462.26 381.385,1462.26 429.569,1462.26 477.753,1462.26 525.936,1462.26 574.12,1462.26 622.304,1462.26 670.487,1462.26 \n",
       "  718.671,1462.26 766.855,1462.26 815.038,1462.26 863.222,1462.26 911.406,1462.26 959.589,1462.26 1007.77,1462.26 1055.96,1462.26 1104.14,1462.26 1152.32,1462.26 \n",
       "  1200.51,1462.26 1248.69,1462.26 1296.88,1462.26 1345.06,1462.26 1393.24,1462.26 1441.43,1462.26 1489.61,1462.26 1537.79,1462.26 1585.98,1462.26 1634.16,1462.26 \n",
       "  1682.34,1462.26 1730.53,1462.26 1778.71,1462.26 1826.9,1462.26 1875.08,1462.26 1923.26,1462.26 1971.45,1462.26 2019.63,1462.26 2067.81,1462.26 2116,1462.26 \n",
       "  2164.18,1462.26 2212.36,1462.26 2260.55,1462.26 \n",
       "  \"/>\n",
       "<polyline clip-path=\"url(#clip1602)\" style=\"stroke:#ff0000; stroke-width:4; stroke-opacity:1; fill:none\" stroke-dasharray=\"16, 10\" points=\"\n",
       "  236.834,88.4582 285.018,88.4582 333.202,88.4582 381.385,88.4582 429.569,88.4582 477.753,88.4582 525.936,88.4582 574.12,88.4582 622.304,88.4582 670.487,88.4582 \n",
       "  718.671,88.4582 766.855,88.4582 815.038,88.4582 863.222,88.4582 911.406,88.4582 959.589,88.4582 1007.77,88.4582 1055.96,88.4582 1104.14,88.4582 1152.32,88.4582 \n",
       "  1200.51,88.4582 1248.69,88.4582 1296.88,88.4582 1345.06,88.4582 1393.24,88.4582 1441.43,88.4582 1489.61,88.4582 1537.79,88.4582 1585.98,88.4582 1634.16,88.4582 \n",
       "  1682.34,88.4582 1730.53,88.4582 1778.71,88.4582 1826.9,88.4582 1875.08,88.4582 1923.26,88.4582 1971.45,88.4582 2019.63,88.4582 2067.81,88.4582 2116,88.4582 \n",
       "  2164.18,88.4582 2212.36,88.4582 2260.55,88.4582 \n",
       "  \"/>\n",
       "<polygon clip-path=\"url(#clip1600)\" points=\"\n",
       "1830.01,1359.47 2249.26,1359.47 2249.26,1238.51 1830.01,1238.51 \n",
       "  \" fill=\"#ffffff\" fill-rule=\"evenodd\" fill-opacity=\"1\"/>\n",
       "<polyline clip-path=\"url(#clip1600)\" style=\"stroke:#000000; stroke-width:4; stroke-opacity:1; fill:none\" points=\"\n",
       "  1830.01,1359.47 2249.26,1359.47 2249.26,1238.51 1830.01,1238.51 1830.01,1359.47 \n",
       "  \"/>\n",
       "<polyline clip-path=\"url(#clip1600)\" style=\"stroke:#009af9; stroke-width:6; stroke-opacity:1; fill:none\" points=\"\n",
       "  1854.01,1298.99 1998.01,1298.99 \n",
       "  \"/>\n",
       "<g clip-path=\"url(#clip1600)\">\n",
       "<text style=\"fill:#000000; fill-opacity:1; font-family:Arial,Helvetica Neue,Helvetica,sans-serif; font-size:48px; text-anchor:start;\" transform=\"rotate(0, 2022.01, 1316.49)\" x=\"2022.01\" y=\"1316.49\">bspline1</text>\n",
       "</g>\n",
       "</svg>\n"
      ]
     },
     "execution_count": 50,
     "metadata": {},
     "output_type": "execute_result"
    }
   ],
   "source": [
    "model_name = \"bspline1\"\n",
    "dom = a\n",
    "\n",
    "bspline1(x) = (3*x*x*x - 6*x*x + 4) / 6.0\n",
    "\n",
    "# evaluation at the extreme points\n",
    "min_bound, max_bound = bspline1(inf(a)), bspline1(sup(a))\n",
    "@show REF[model_name] = Interval(min_bound, max_bound)\n",
    "\n",
    "plot(x -> bspline1(x), inf(dom):0.1:sup(dom), lw=1.5, lab=model_name, legend=:bottomright)\n",
    "plot!(x -> min_bound, inf(dom):0.1:sup(dom), color=:red, linestyle=:dash, lab=\"\")\n",
    "plot!(x -> max_bound, inf(dom):0.1:sup(dom), color=:red, linestyle=:dash, lab=\"\")"
   ]
  },
  {
   "cell_type": "code",
   "execution_count": 51,
   "metadata": {},
   "outputs": [
    {
     "name": "stdout",
     "output_type": "stream",
     "text": [
      "bnd = bounds(bspline1, dom, algorithm=\"IA\") = [-65.1459, 0.563167]\n",
      "bnd = bounds(bspline1, dom, algorithm=\"TM\") = [-65.1459, 41.1352]\n",
      "bnd = bounds(bspline1, dom, algorithm=\"TM_NORM\") = [-65.1459, 20.8492]\n",
      "bnd = bounds(bspline1, dom, algorithm=\"AA\") = [-55.8849, 0.563167]\n",
      "bnd = bounds(bspline1, dom, algorithm=\"SDP\", order=5) = [-65.1459, 0.563167]\n",
      "bnd = bounds(bspline1, dom, algorithm=\"ZOO\") = [-55.8849, 0.563167]\n"
     ]
    }
   ],
   "source": [
    "# using interval arithmetic substitution\n",
    "@show bnd = bounds(bspline1, dom, algorithm=\"IA\")\n",
    "RELPREC[model_name, \"IA\"] = relative_precision(bnd, REF[model_name])\n",
    "\n",
    "# using Taylor model substitution\n",
    "@show bnd = bounds(bspline1, dom, algorithm=\"TM\")\n",
    "RELPREC[model_name, \"TM\"] = relative_precision(bnd, REF[model_name])\n",
    "\n",
    "# using normalized Taylor model substitution\n",
    "@show bnd = bounds(bspline1, dom, algorithm=\"TM_NORM\")\n",
    "RELPREC[model_name, \"TM_NORM\"] = relative_precision(bnd, REF[model_name])\n",
    "\n",
    "# using affine arithmetic\n",
    "@show bnd = bounds(bspline1, dom, algorithm=\"AA\")\n",
    "RELPREC[model_name, \"AA\"] = relative_precision(bnd, REF[model_name])\n",
    "\n",
    "# using SDP\n",
    "@show bnd = bounds(bspline1, dom, algorithm=\"SDP\", order=5)\n",
    "RELPREC[model_name, \"SDP\"] = relative_precision(bnd, REF[model_name])\n",
    "\n",
    "@show bnd = bounds(bspline1, dom, algorithm=\"ZOO\")\n",
    "RELPREC[model_name, \"ZOO\"] = relative_precision(bnd, REF[model_name]);"
   ]
  },
  {
   "cell_type": "markdown",
   "metadata": {},
   "source": [
    "## bspline2"
   ]
  },
  {
   "cell_type": "code",
   "execution_count": 52,
   "metadata": {},
   "outputs": [
    {
     "name": "stdout",
     "output_type": "stream",
     "text": [
      "REF[model_name] = Interval(min_bound, max_bound) = [0.0751666, 53.6042]\n"
     ]
    },
    {
     "data": {
      "image/svg+xml": [
       "<?xml version=\"1.0\" encoding=\"utf-8\"?>\n",
       "<svg xmlns=\"http://www.w3.org/2000/svg\" xmlns:xlink=\"http://www.w3.org/1999/xlink\" width=\"600\" height=\"400\" viewBox=\"0 0 2400 1600\">\n",
       "<defs>\n",
       "  <clipPath id=\"clip2000\">\n",
       "    <rect x=\"0\" y=\"0\" width=\"2400\" height=\"1600\"/>\n",
       "  </clipPath>\n",
       "</defs>\n",
       "<polygon clip-path=\"url(#clip2000)\" points=\"\n",
       "0,1600 2400,1600 2400,0 0,0 \n",
       "  \" fill=\"#ffffff\" fill-rule=\"evenodd\" fill-opacity=\"1\"/>\n",
       "<defs>\n",
       "  <clipPath id=\"clip2001\">\n",
       "    <rect x=\"480\" y=\"0\" width=\"1681\" height=\"1600\"/>\n",
       "  </clipPath>\n",
       "</defs>\n",
       "<polygon clip-path=\"url(#clip2000)\" points=\"\n",
       "148.013,1503.47 2321.26,1503.47 2321.26,47.2441 148.013,47.2441 \n",
       "  \" fill=\"#ffffff\" fill-rule=\"evenodd\" fill-opacity=\"1\"/>\n",
       "<defs>\n",
       "  <clipPath id=\"clip2002\">\n",
       "    <rect x=\"148\" y=\"47\" width=\"2174\" height=\"1457\"/>\n",
       "  </clipPath>\n",
       "</defs>\n",
       "<polyline clip-path=\"url(#clip2002)\" style=\"stroke:#000000; stroke-width:2; stroke-opacity:0.1; fill:none\" points=\"\n",
       "  453.595,1503.47 453.595,47.2441 \n",
       "  \"/>\n",
       "<polyline clip-path=\"url(#clip2002)\" style=\"stroke:#000000; stroke-width:2; stroke-opacity:0.1; fill:none\" points=\"\n",
       "  941.746,1503.47 941.746,47.2441 \n",
       "  \"/>\n",
       "<polyline clip-path=\"url(#clip2002)\" style=\"stroke:#000000; stroke-width:2; stroke-opacity:0.1; fill:none\" points=\"\n",
       "  1429.9,1503.47 1429.9,47.2441 \n",
       "  \"/>\n",
       "<polyline clip-path=\"url(#clip2002)\" style=\"stroke:#000000; stroke-width:2; stroke-opacity:0.1; fill:none\" points=\"\n",
       "  1918.05,1503.47 1918.05,47.2441 \n",
       "  \"/>\n",
       "<polyline clip-path=\"url(#clip2002)\" style=\"stroke:#000000; stroke-width:2; stroke-opacity:0.1; fill:none\" points=\"\n",
       "  148.013,1464.19 2321.26,1464.19 \n",
       "  \"/>\n",
       "<polyline clip-path=\"url(#clip2002)\" style=\"stroke:#000000; stroke-width:2; stroke-opacity:0.1; fill:none\" points=\"\n",
       "  148.013,1207.54 2321.26,1207.54 \n",
       "  \"/>\n",
       "<polyline clip-path=\"url(#clip2002)\" style=\"stroke:#000000; stroke-width:2; stroke-opacity:0.1; fill:none\" points=\"\n",
       "  148.013,950.897 2321.26,950.897 \n",
       "  \"/>\n",
       "<polyline clip-path=\"url(#clip2002)\" style=\"stroke:#000000; stroke-width:2; stroke-opacity:0.1; fill:none\" points=\"\n",
       "  148.013,694.251 2321.26,694.251 \n",
       "  \"/>\n",
       "<polyline clip-path=\"url(#clip2002)\" style=\"stroke:#000000; stroke-width:2; stroke-opacity:0.1; fill:none\" points=\"\n",
       "  148.013,437.604 2321.26,437.604 \n",
       "  \"/>\n",
       "<polyline clip-path=\"url(#clip2002)\" style=\"stroke:#000000; stroke-width:2; stroke-opacity:0.1; fill:none\" points=\"\n",
       "  148.013,180.958 2321.26,180.958 \n",
       "  \"/>\n",
       "<polyline clip-path=\"url(#clip2000)\" style=\"stroke:#000000; stroke-width:4; stroke-opacity:1; fill:none\" points=\"\n",
       "  148.013,1503.47 2321.26,1503.47 \n",
       "  \"/>\n",
       "<polyline clip-path=\"url(#clip2000)\" style=\"stroke:#000000; stroke-width:4; stroke-opacity:1; fill:none\" points=\"\n",
       "  148.013,1503.47 148.013,47.2441 \n",
       "  \"/>\n",
       "<polyline clip-path=\"url(#clip2000)\" style=\"stroke:#000000; stroke-width:4; stroke-opacity:1; fill:none\" points=\"\n",
       "  453.595,1503.47 453.595,1481.63 \n",
       "  \"/>\n",
       "<polyline clip-path=\"url(#clip2000)\" style=\"stroke:#000000; stroke-width:4; stroke-opacity:1; fill:none\" points=\"\n",
       "  941.746,1503.47 941.746,1481.63 \n",
       "  \"/>\n",
       "<polyline clip-path=\"url(#clip2000)\" style=\"stroke:#000000; stroke-width:4; stroke-opacity:1; fill:none\" points=\"\n",
       "  1429.9,1503.47 1429.9,1481.63 \n",
       "  \"/>\n",
       "<polyline clip-path=\"url(#clip2000)\" style=\"stroke:#000000; stroke-width:4; stroke-opacity:1; fill:none\" points=\"\n",
       "  1918.05,1503.47 1918.05,1481.63 \n",
       "  \"/>\n",
       "<polyline clip-path=\"url(#clip2000)\" style=\"stroke:#000000; stroke-width:4; stroke-opacity:1; fill:none\" points=\"\n",
       "  148.013,1464.19 180.612,1464.19 \n",
       "  \"/>\n",
       "<polyline clip-path=\"url(#clip2000)\" style=\"stroke:#000000; stroke-width:4; stroke-opacity:1; fill:none\" points=\"\n",
       "  148.013,1207.54 180.612,1207.54 \n",
       "  \"/>\n",
       "<polyline clip-path=\"url(#clip2000)\" style=\"stroke:#000000; stroke-width:4; stroke-opacity:1; fill:none\" points=\"\n",
       "  148.013,950.897 180.612,950.897 \n",
       "  \"/>\n",
       "<polyline clip-path=\"url(#clip2000)\" style=\"stroke:#000000; stroke-width:4; stroke-opacity:1; fill:none\" points=\"\n",
       "  148.013,694.251 180.612,694.251 \n",
       "  \"/>\n",
       "<polyline clip-path=\"url(#clip2000)\" style=\"stroke:#000000; stroke-width:4; stroke-opacity:1; fill:none\" points=\"\n",
       "  148.013,437.604 180.612,437.604 \n",
       "  \"/>\n",
       "<polyline clip-path=\"url(#clip2000)\" style=\"stroke:#000000; stroke-width:4; stroke-opacity:1; fill:none\" points=\"\n",
       "  148.013,180.958 180.612,180.958 \n",
       "  \"/>\n",
       "<g clip-path=\"url(#clip2000)\">\n",
       "<text style=\"fill:#000000; fill-opacity:1; font-family:Arial,Helvetica Neue,Helvetica,sans-serif; font-size:48px; text-anchor:middle;\" transform=\"rotate(0, 453.595, 1557.47)\" x=\"453.595\" y=\"1557.47\">-4</text>\n",
       "</g>\n",
       "<g clip-path=\"url(#clip2000)\">\n",
       "<text style=\"fill:#000000; fill-opacity:1; font-family:Arial,Helvetica Neue,Helvetica,sans-serif; font-size:48px; text-anchor:middle;\" transform=\"rotate(0, 941.746, 1557.47)\" x=\"941.746\" y=\"1557.47\">-3</text>\n",
       "</g>\n",
       "<g clip-path=\"url(#clip2000)\">\n",
       "<text style=\"fill:#000000; fill-opacity:1; font-family:Arial,Helvetica Neue,Helvetica,sans-serif; font-size:48px; text-anchor:middle;\" transform=\"rotate(0, 1429.9, 1557.47)\" x=\"1429.9\" y=\"1557.47\">-2</text>\n",
       "</g>\n",
       "<g clip-path=\"url(#clip2000)\">\n",
       "<text style=\"fill:#000000; fill-opacity:1; font-family:Arial,Helvetica Neue,Helvetica,sans-serif; font-size:48px; text-anchor:middle;\" transform=\"rotate(0, 1918.05, 1557.47)\" x=\"1918.05\" y=\"1557.47\">-1</text>\n",
       "</g>\n",
       "<g clip-path=\"url(#clip2000)\">\n",
       "<text style=\"fill:#000000; fill-opacity:1; font-family:Arial,Helvetica Neue,Helvetica,sans-serif; font-size:48px; text-anchor:end;\" transform=\"rotate(0, 124.013, 1481.69)\" x=\"124.013\" y=\"1481.69\">0</text>\n",
       "</g>\n",
       "<g clip-path=\"url(#clip2000)\">\n",
       "<text style=\"fill:#000000; fill-opacity:1; font-family:Arial,Helvetica Neue,Helvetica,sans-serif; font-size:48px; text-anchor:end;\" transform=\"rotate(0, 124.013, 1225.04)\" x=\"124.013\" y=\"1225.04\">10</text>\n",
       "</g>\n",
       "<g clip-path=\"url(#clip2000)\">\n",
       "<text style=\"fill:#000000; fill-opacity:1; font-family:Arial,Helvetica Neue,Helvetica,sans-serif; font-size:48px; text-anchor:end;\" transform=\"rotate(0, 124.013, 968.397)\" x=\"124.013\" y=\"968.397\">20</text>\n",
       "</g>\n",
       "<g clip-path=\"url(#clip2000)\">\n",
       "<text style=\"fill:#000000; fill-opacity:1; font-family:Arial,Helvetica Neue,Helvetica,sans-serif; font-size:48px; text-anchor:end;\" transform=\"rotate(0, 124.013, 711.751)\" x=\"124.013\" y=\"711.751\">30</text>\n",
       "</g>\n",
       "<g clip-path=\"url(#clip2000)\">\n",
       "<text style=\"fill:#000000; fill-opacity:1; font-family:Arial,Helvetica Neue,Helvetica,sans-serif; font-size:48px; text-anchor:end;\" transform=\"rotate(0, 124.013, 455.104)\" x=\"124.013\" y=\"455.104\">40</text>\n",
       "</g>\n",
       "<g clip-path=\"url(#clip2000)\">\n",
       "<text style=\"fill:#000000; fill-opacity:1; font-family:Arial,Helvetica Neue,Helvetica,sans-serif; font-size:48px; text-anchor:end;\" transform=\"rotate(0, 124.013, 198.458)\" x=\"124.013\" y=\"198.458\">50</text>\n",
       "</g>\n",
       "<polyline clip-path=\"url(#clip2002)\" style=\"stroke:#009af9; stroke-width:6; stroke-opacity:1; fill:none\" points=\"\n",
       "  209.52,88.4582 258.335,174.833 307.15,257.562 355.965,336.725 404.78,412.397 453.595,484.656 502.41,553.578 551.225,619.241 600.04,681.722 648.856,741.097 \n",
       "  697.671,797.444 746.486,850.839 795.301,901.36 844.116,949.083 892.931,994.086 941.746,1036.45 990.561,1076.24 1039.38,1113.54 1088.19,1148.43 1137.01,1180.99 \n",
       "  1185.82,1211.29 1234.64,1239.4 1283.45,1265.41 1332.27,1289.4 1381.08,1311.43 1429.9,1331.59 1478.71,1349.95 1527.53,1366.6 1576.34,1381.6 1625.16,1395.03 \n",
       "  1673.97,1406.98 1722.79,1417.51 1771.6,1426.72 1820.42,1434.66 1869.23,1441.42 1918.05,1447.08 1966.86,1451.71 2015.68,1455.4 2064.49,1458.21 2113.31,1460.22 \n",
       "  2162.12,1461.52 2210.94,1462.17 2259.75,1462.26 \n",
       "  \"/>\n",
       "<polyline clip-path=\"url(#clip2002)\" style=\"stroke:#ff0000; stroke-width:4; stroke-opacity:1; fill:none\" stroke-dasharray=\"16, 10\" points=\"\n",
       "  209.52,1462.26 258.335,1462.26 307.15,1462.26 355.965,1462.26 404.78,1462.26 453.595,1462.26 502.41,1462.26 551.225,1462.26 600.04,1462.26 648.856,1462.26 \n",
       "  697.671,1462.26 746.486,1462.26 795.301,1462.26 844.116,1462.26 892.931,1462.26 941.746,1462.26 990.561,1462.26 1039.38,1462.26 1088.19,1462.26 1137.01,1462.26 \n",
       "  1185.82,1462.26 1234.64,1462.26 1283.45,1462.26 1332.27,1462.26 1381.08,1462.26 1429.9,1462.26 1478.71,1462.26 1527.53,1462.26 1576.34,1462.26 1625.16,1462.26 \n",
       "  1673.97,1462.26 1722.79,1462.26 1771.6,1462.26 1820.42,1462.26 1869.23,1462.26 1918.05,1462.26 1966.86,1462.26 2015.68,1462.26 2064.49,1462.26 2113.31,1462.26 \n",
       "  2162.12,1462.26 2210.94,1462.26 2259.75,1462.26 \n",
       "  \"/>\n",
       "<polyline clip-path=\"url(#clip2002)\" style=\"stroke:#ff0000; stroke-width:4; stroke-opacity:1; fill:none\" stroke-dasharray=\"16, 10\" points=\"\n",
       "  209.52,88.4582 258.335,88.4582 307.15,88.4582 355.965,88.4582 404.78,88.4582 453.595,88.4582 502.41,88.4582 551.225,88.4582 600.04,88.4582 648.856,88.4582 \n",
       "  697.671,88.4582 746.486,88.4582 795.301,88.4582 844.116,88.4582 892.931,88.4582 941.746,88.4582 990.561,88.4582 1039.38,88.4582 1088.19,88.4582 1137.01,88.4582 \n",
       "  1185.82,88.4582 1234.64,88.4582 1283.45,88.4582 1332.27,88.4582 1381.08,88.4582 1429.9,88.4582 1478.71,88.4582 1527.53,88.4582 1576.34,88.4582 1625.16,88.4582 \n",
       "  1673.97,88.4582 1722.79,88.4582 1771.6,88.4582 1820.42,88.4582 1869.23,88.4582 1918.05,88.4582 1966.86,88.4582 2015.68,88.4582 2064.49,88.4582 2113.31,88.4582 \n",
       "  2162.12,88.4582 2210.94,88.4582 2259.75,88.4582 \n",
       "  \"/>\n",
       "<polygon clip-path=\"url(#clip2000)\" points=\"\n",
       "1830.01,1359.47 2249.26,1359.47 2249.26,1238.51 1830.01,1238.51 \n",
       "  \" fill=\"#ffffff\" fill-rule=\"evenodd\" fill-opacity=\"1\"/>\n",
       "<polyline clip-path=\"url(#clip2000)\" style=\"stroke:#000000; stroke-width:4; stroke-opacity:1; fill:none\" points=\"\n",
       "  1830.01,1359.47 2249.26,1359.47 2249.26,1238.51 1830.01,1238.51 1830.01,1359.47 \n",
       "  \"/>\n",
       "<polyline clip-path=\"url(#clip2000)\" style=\"stroke:#009af9; stroke-width:6; stroke-opacity:1; fill:none\" points=\"\n",
       "  1854.01,1298.99 1998.01,1298.99 \n",
       "  \"/>\n",
       "<g clip-path=\"url(#clip2000)\">\n",
       "<text style=\"fill:#000000; fill-opacity:1; font-family:Arial,Helvetica Neue,Helvetica,sans-serif; font-size:48px; text-anchor:start;\" transform=\"rotate(0, 2022.01, 1316.49)\" x=\"2022.01\" y=\"1316.49\">bspline2</text>\n",
       "</g>\n",
       "</svg>\n"
      ]
     },
     "execution_count": 52,
     "metadata": {},
     "output_type": "execute_result"
    }
   ],
   "source": [
    "model_name = \"bspline2\"\n",
    "dom = a\n",
    "\n",
    "bspline2(x) = (-3*x*x*x  + 3*x*x + 3*x + 1) / 6.0\n",
    "\n",
    "# evaluation at the extreme points\n",
    "min_bound, max_bound = bspline2(sup(a)),bspline2(inf(a))\n",
    "@show REF[model_name] = Interval(min_bound, max_bound)\n",
    "\n",
    "plot(x -> bspline2(x), inf(dom):0.1:sup(dom), lw=1.5, lab=model_name, legend=:bottomright)\n",
    "plot!(x -> min_bound, inf(dom):0.1:sup(dom), color=:red, linestyle=:dash, lab=\"\")\n",
    "plot!(x -> max_bound, inf(dom):0.1:sup(dom), color=:red, linestyle=:dash, lab=\"\")"
   ]
  },
  {
   "cell_type": "code",
   "execution_count": 53,
   "metadata": {},
   "outputs": [
    {
     "name": "stdout",
     "output_type": "stream",
     "text": [
      "bnd = bounds(bspline2, dom, algorithm=\"IA\") = [-2.02484, 55.7042]\n",
      "bnd = bounds(bspline2, dom, algorithm=\"TM\") = [-36.0869, 53.6042]\n",
      "bnd = bounds(bspline2, dom, algorithm=\"TM_NORM\") = [-18.0059, 53.6042]\n",
      "bnd = bounds(bspline2, dom, algorithm=\"AA\") = [-2.02484, 44.3432]\n",
      "bnd = bounds(bspline2, dom, algorithm=\"SDP\", order=5) = [0.074074, 53.6042]\n",
      "bnd = bounds(bspline2, dom, algorithm=\"ZOO\") = [-2.02484, 44.3432]\n"
     ]
    }
   ],
   "source": [
    "# using interval arithmetic substitution\n",
    "@show bnd = bounds(bspline2, dom, algorithm=\"IA\")\n",
    "RELPREC[model_name, \"IA\"] = relative_precision(bnd, REF[model_name])\n",
    "\n",
    "# using Taylor model substitution\n",
    "@show bnd = bounds(bspline2, dom, algorithm=\"TM\")\n",
    "RELPREC[model_name, \"TM\"] = relative_precision(bnd, REF[model_name])\n",
    "\n",
    "# using normalized Taylor model substitution\n",
    "@show bnd = bounds(bspline2, dom, algorithm=\"TM_NORM\")\n",
    "RELPREC[model_name, \"TM_NORM\"] = relative_precision(bnd, REF[model_name])\n",
    "\n",
    "# using affine arithmetic\n",
    "@show bnd = bounds(bspline2, dom, algorithm=\"AA\")\n",
    "RELPREC[model_name, \"AA\"] = relative_precision(bnd, REF[model_name])\n",
    "\n",
    "# using SDP\n",
    "@show bnd = bounds(bspline2, dom, algorithm=\"SDP\", order=5)\n",
    "RELPREC[model_name, \"SDP\"] = relative_precision(bnd, REF[model_name])\n",
    "\n",
    "@show bnd = bounds(bspline2, dom, algorithm=\"ZOO\")\n",
    "RELPREC[model_name, \"ZOO\"] = relative_precision(bnd, REF[model_name]);"
   ]
  },
  {
   "cell_type": "markdown",
   "metadata": {},
   "source": [
    "## bspline3"
   ]
  },
  {
   "cell_type": "code",
   "execution_count": 54,
   "metadata": {},
   "outputs": [
    {
     "name": "stdout",
     "output_type": "stream",
     "text": [
      "REF[model_name] = Interval(min_bound, max_bound) = [0.00449999, 15.1875]\n"
     ]
    },
    {
     "data": {
      "image/svg+xml": [
       "<?xml version=\"1.0\" encoding=\"utf-8\"?>\n",
       "<svg xmlns=\"http://www.w3.org/2000/svg\" xmlns:xlink=\"http://www.w3.org/1999/xlink\" width=\"600\" height=\"400\" viewBox=\"0 0 2400 1600\">\n",
       "<defs>\n",
       "  <clipPath id=\"clip2400\">\n",
       "    <rect x=\"0\" y=\"0\" width=\"2400\" height=\"1600\"/>\n",
       "  </clipPath>\n",
       "</defs>\n",
       "<polygon clip-path=\"url(#clip2400)\" points=\"\n",
       "0,1600 2400,1600 2400,0 0,0 \n",
       "  \" fill=\"#ffffff\" fill-rule=\"evenodd\" fill-opacity=\"1\"/>\n",
       "<defs>\n",
       "  <clipPath id=\"clip2401\">\n",
       "    <rect x=\"480\" y=\"0\" width=\"1681\" height=\"1600\"/>\n",
       "  </clipPath>\n",
       "</defs>\n",
       "<polygon clip-path=\"url(#clip2400)\" points=\"\n",
       "148.013,1503.47 2321.26,1503.47 2321.26,47.2441 148.013,47.2441 \n",
       "  \" fill=\"#ffffff\" fill-rule=\"evenodd\" fill-opacity=\"1\"/>\n",
       "<defs>\n",
       "  <clipPath id=\"clip2402\">\n",
       "    <rect x=\"148\" y=\"47\" width=\"2174\" height=\"1457\"/>\n",
       "  </clipPath>\n",
       "</defs>\n",
       "<polyline clip-path=\"url(#clip2402)\" style=\"stroke:#000000; stroke-width:2; stroke-opacity:0.1; fill:none\" points=\"\n",
       "  453.595,1503.47 453.595,47.2441 \n",
       "  \"/>\n",
       "<polyline clip-path=\"url(#clip2402)\" style=\"stroke:#000000; stroke-width:2; stroke-opacity:0.1; fill:none\" points=\"\n",
       "  941.746,1503.47 941.746,47.2441 \n",
       "  \"/>\n",
       "<polyline clip-path=\"url(#clip2402)\" style=\"stroke:#000000; stroke-width:2; stroke-opacity:0.1; fill:none\" points=\"\n",
       "  1429.9,1503.47 1429.9,47.2441 \n",
       "  \"/>\n",
       "<polyline clip-path=\"url(#clip2402)\" style=\"stroke:#000000; stroke-width:2; stroke-opacity:0.1; fill:none\" points=\"\n",
       "  1918.05,1503.47 1918.05,47.2441 \n",
       "  \"/>\n",
       "<polyline clip-path=\"url(#clip2402)\" style=\"stroke:#000000; stroke-width:2; stroke-opacity:0.1; fill:none\" points=\"\n",
       "  148.013,1462.67 2321.26,1462.67 \n",
       "  \"/>\n",
       "<polyline clip-path=\"url(#clip2402)\" style=\"stroke:#000000; stroke-width:2; stroke-opacity:0.1; fill:none\" points=\"\n",
       "  148.013,1010.25 2321.26,1010.25 \n",
       "  \"/>\n",
       "<polyline clip-path=\"url(#clip2402)\" style=\"stroke:#000000; stroke-width:2; stroke-opacity:0.1; fill:none\" points=\"\n",
       "  148.013,557.838 2321.26,557.838 \n",
       "  \"/>\n",
       "<polyline clip-path=\"url(#clip2402)\" style=\"stroke:#000000; stroke-width:2; stroke-opacity:0.1; fill:none\" points=\"\n",
       "  148.013,105.424 2321.26,105.424 \n",
       "  \"/>\n",
       "<polyline clip-path=\"url(#clip2400)\" style=\"stroke:#000000; stroke-width:4; stroke-opacity:1; fill:none\" points=\"\n",
       "  148.013,1503.47 2321.26,1503.47 \n",
       "  \"/>\n",
       "<polyline clip-path=\"url(#clip2400)\" style=\"stroke:#000000; stroke-width:4; stroke-opacity:1; fill:none\" points=\"\n",
       "  148.013,1503.47 148.013,47.2441 \n",
       "  \"/>\n",
       "<polyline clip-path=\"url(#clip2400)\" style=\"stroke:#000000; stroke-width:4; stroke-opacity:1; fill:none\" points=\"\n",
       "  453.595,1503.47 453.595,1481.63 \n",
       "  \"/>\n",
       "<polyline clip-path=\"url(#clip2400)\" style=\"stroke:#000000; stroke-width:4; stroke-opacity:1; fill:none\" points=\"\n",
       "  941.746,1503.47 941.746,1481.63 \n",
       "  \"/>\n",
       "<polyline clip-path=\"url(#clip2400)\" style=\"stroke:#000000; stroke-width:4; stroke-opacity:1; fill:none\" points=\"\n",
       "  1429.9,1503.47 1429.9,1481.63 \n",
       "  \"/>\n",
       "<polyline clip-path=\"url(#clip2400)\" style=\"stroke:#000000; stroke-width:4; stroke-opacity:1; fill:none\" points=\"\n",
       "  1918.05,1503.47 1918.05,1481.63 \n",
       "  \"/>\n",
       "<polyline clip-path=\"url(#clip2400)\" style=\"stroke:#000000; stroke-width:4; stroke-opacity:1; fill:none\" points=\"\n",
       "  148.013,1462.67 180.612,1462.67 \n",
       "  \"/>\n",
       "<polyline clip-path=\"url(#clip2400)\" style=\"stroke:#000000; stroke-width:4; stroke-opacity:1; fill:none\" points=\"\n",
       "  148.013,1010.25 180.612,1010.25 \n",
       "  \"/>\n",
       "<polyline clip-path=\"url(#clip2400)\" style=\"stroke:#000000; stroke-width:4; stroke-opacity:1; fill:none\" points=\"\n",
       "  148.013,557.838 180.612,557.838 \n",
       "  \"/>\n",
       "<polyline clip-path=\"url(#clip2400)\" style=\"stroke:#000000; stroke-width:4; stroke-opacity:1; fill:none\" points=\"\n",
       "  148.013,105.424 180.612,105.424 \n",
       "  \"/>\n",
       "<g clip-path=\"url(#clip2400)\">\n",
       "<text style=\"fill:#000000; fill-opacity:1; font-family:Arial,Helvetica Neue,Helvetica,sans-serif; font-size:48px; text-anchor:middle;\" transform=\"rotate(0, 453.595, 1557.47)\" x=\"453.595\" y=\"1557.47\">-4</text>\n",
       "</g>\n",
       "<g clip-path=\"url(#clip2400)\">\n",
       "<text style=\"fill:#000000; fill-opacity:1; font-family:Arial,Helvetica Neue,Helvetica,sans-serif; font-size:48px; text-anchor:middle;\" transform=\"rotate(0, 941.746, 1557.47)\" x=\"941.746\" y=\"1557.47\">-3</text>\n",
       "</g>\n",
       "<g clip-path=\"url(#clip2400)\">\n",
       "<text style=\"fill:#000000; fill-opacity:1; font-family:Arial,Helvetica Neue,Helvetica,sans-serif; font-size:48px; text-anchor:middle;\" transform=\"rotate(0, 1429.9, 1557.47)\" x=\"1429.9\" y=\"1557.47\">-2</text>\n",
       "</g>\n",
       "<g clip-path=\"url(#clip2400)\">\n",
       "<text style=\"fill:#000000; fill-opacity:1; font-family:Arial,Helvetica Neue,Helvetica,sans-serif; font-size:48px; text-anchor:middle;\" transform=\"rotate(0, 1918.05, 1557.47)\" x=\"1918.05\" y=\"1557.47\">-1</text>\n",
       "</g>\n",
       "<g clip-path=\"url(#clip2400)\">\n",
       "<text style=\"fill:#000000; fill-opacity:1; font-family:Arial,Helvetica Neue,Helvetica,sans-serif; font-size:48px; text-anchor:end;\" transform=\"rotate(0, 124.013, 1480.17)\" x=\"124.013\" y=\"1480.17\">0</text>\n",
       "</g>\n",
       "<g clip-path=\"url(#clip2400)\">\n",
       "<text style=\"fill:#000000; fill-opacity:1; font-family:Arial,Helvetica Neue,Helvetica,sans-serif; font-size:48px; text-anchor:end;\" transform=\"rotate(0, 124.013, 1027.75)\" x=\"124.013\" y=\"1027.75\">5</text>\n",
       "</g>\n",
       "<g clip-path=\"url(#clip2400)\">\n",
       "<text style=\"fill:#000000; fill-opacity:1; font-family:Arial,Helvetica Neue,Helvetica,sans-serif; font-size:48px; text-anchor:end;\" transform=\"rotate(0, 124.013, 575.338)\" x=\"124.013\" y=\"575.338\">10</text>\n",
       "</g>\n",
       "<g clip-path=\"url(#clip2400)\">\n",
       "<text style=\"fill:#000000; fill-opacity:1; font-family:Arial,Helvetica Neue,Helvetica,sans-serif; font-size:48px; text-anchor:end;\" transform=\"rotate(0, 124.013, 122.924)\" x=\"124.013\" y=\"122.924\">15</text>\n",
       "</g>\n",
       "<polyline clip-path=\"url(#clip2402)\" style=\"stroke:#009af9; stroke-width:6; stroke-opacity:1; fill:none\" points=\"\n",
       "  209.52,88.4582 258.335,178.051 307.15,263.663 355.965,345.384 404.78,423.305 453.595,497.516 502.41,568.108 551.225,635.171 600.04,698.796 648.856,759.072 \n",
       "  697.671,816.092 746.486,869.944 795.301,920.72 844.116,968.51 892.931,1013.4 941.746,1055.49 990.561,1094.87 1039.38,1131.62 1088.19,1165.84 1137.01,1197.61 \n",
       "  1185.82,1227.04 1234.64,1254.2 1283.45,1279.18 1332.27,1302.09 1381.08,1323.01 1429.9,1342.02 1478.71,1359.23 1527.53,1374.72 1576.34,1388.58 1625.16,1400.9 \n",
       "  1673.97,1411.77 1722.79,1421.29 1771.6,1429.54 1820.42,1436.61 1869.23,1442.6 1918.05,1447.59 1966.86,1451.67 2015.68,1454.95 2064.49,1457.5 2113.31,1459.41 \n",
       "  2162.12,1460.78 2210.94,1461.7 2259.75,1462.26 \n",
       "  \"/>\n",
       "<polyline clip-path=\"url(#clip2402)\" style=\"stroke:#ff0000; stroke-width:4; stroke-opacity:1; fill:none\" stroke-dasharray=\"16, 10\" points=\"\n",
       "  209.52,1462.26 258.335,1462.26 307.15,1462.26 355.965,1462.26 404.78,1462.26 453.595,1462.26 502.41,1462.26 551.225,1462.26 600.04,1462.26 648.856,1462.26 \n",
       "  697.671,1462.26 746.486,1462.26 795.301,1462.26 844.116,1462.26 892.931,1462.26 941.746,1462.26 990.561,1462.26 1039.38,1462.26 1088.19,1462.26 1137.01,1462.26 \n",
       "  1185.82,1462.26 1234.64,1462.26 1283.45,1462.26 1332.27,1462.26 1381.08,1462.26 1429.9,1462.26 1478.71,1462.26 1527.53,1462.26 1576.34,1462.26 1625.16,1462.26 \n",
       "  1673.97,1462.26 1722.79,1462.26 1771.6,1462.26 1820.42,1462.26 1869.23,1462.26 1918.05,1462.26 1966.86,1462.26 2015.68,1462.26 2064.49,1462.26 2113.31,1462.26 \n",
       "  2162.12,1462.26 2210.94,1462.26 2259.75,1462.26 \n",
       "  \"/>\n",
       "<polyline clip-path=\"url(#clip2402)\" style=\"stroke:#ff0000; stroke-width:4; stroke-opacity:1; fill:none\" stroke-dasharray=\"16, 10\" points=\"\n",
       "  209.52,88.4582 258.335,88.4582 307.15,88.4582 355.965,88.4582 404.78,88.4582 453.595,88.4582 502.41,88.4582 551.225,88.4582 600.04,88.4582 648.856,88.4582 \n",
       "  697.671,88.4582 746.486,88.4582 795.301,88.4582 844.116,88.4582 892.931,88.4582 941.746,88.4582 990.561,88.4582 1039.38,88.4582 1088.19,88.4582 1137.01,88.4582 \n",
       "  1185.82,88.4582 1234.64,88.4582 1283.45,88.4582 1332.27,88.4582 1381.08,88.4582 1429.9,88.4582 1478.71,88.4582 1527.53,88.4582 1576.34,88.4582 1625.16,88.4582 \n",
       "  1673.97,88.4582 1722.79,88.4582 1771.6,88.4582 1820.42,88.4582 1869.23,88.4582 1918.05,88.4582 1966.86,88.4582 2015.68,88.4582 2064.49,88.4582 2113.31,88.4582 \n",
       "  2162.12,88.4582 2210.94,88.4582 2259.75,88.4582 \n",
       "  \"/>\n",
       "<polygon clip-path=\"url(#clip2400)\" points=\"\n",
       "1830.01,1359.47 2249.26,1359.47 2249.26,1238.51 1830.01,1238.51 \n",
       "  \" fill=\"#ffffff\" fill-rule=\"evenodd\" fill-opacity=\"1\"/>\n",
       "<polyline clip-path=\"url(#clip2400)\" style=\"stroke:#000000; stroke-width:4; stroke-opacity:1; fill:none\" points=\"\n",
       "  1830.01,1359.47 2249.26,1359.47 2249.26,1238.51 1830.01,1238.51 1830.01,1359.47 \n",
       "  \"/>\n",
       "<polyline clip-path=\"url(#clip2400)\" style=\"stroke:#009af9; stroke-width:6; stroke-opacity:1; fill:none\" points=\"\n",
       "  1854.01,1298.99 1998.01,1298.99 \n",
       "  \"/>\n",
       "<g clip-path=\"url(#clip2400)\">\n",
       "<text style=\"fill:#000000; fill-opacity:1; font-family:Arial,Helvetica Neue,Helvetica,sans-serif; font-size:48px; text-anchor:start;\" transform=\"rotate(0, 2022.01, 1316.49)\" x=\"2022.01\" y=\"1316.49\">bspline3</text>\n",
       "</g>\n",
       "</svg>\n"
      ]
     },
     "execution_count": 54,
     "metadata": {},
     "output_type": "execute_result"
    }
   ],
   "source": [
    "model_name = \"bspline3\"\n",
    "dom = a\n",
    "\n",
    "bspline3(x) = -x*x*x / 6.0\n",
    "\n",
    "# evaluation at the extreme points\n",
    "min_bound, max_bound = bspline3(sup(a)), bspline3(inf(a))\n",
    "@show REF[model_name] = Interval(min_bound, max_bound)\n",
    "\n",
    "plot(x -> bspline3(x), inf(dom):0.1:sup(dom), lw=1.5, lab=model_name, legend=:bottomright)\n",
    "plot!(x -> min_bound, inf(dom):0.1:sup(dom), color=:red, linestyle=:dash, lab=\"\")\n",
    "plot!(x -> max_bound, inf(dom):0.1:sup(dom), color=:red, linestyle=:dash, lab=\"\")"
   ]
  },
  {
   "cell_type": "code",
   "execution_count": 55,
   "metadata": {},
   "outputs": [
    {
     "name": "stdout",
     "output_type": "stream",
     "text": [
      "bnd = bounds(bspline3, dom, algorithm=\"IA\") = [0.00449999, 15.1875]\n",
      "bnd = bounds(bspline3, dom, algorithm=\"TM\") = [-10.5796, 15.1876]\n",
      "bnd = bounds(bspline3, dom, algorithm=\"TM_NORM\") = [-5.28751, 15.1876]\n",
      "bnd = bounds(bspline3, dom, algorithm=\"AA\") = [0.00449999, 12.1006]\n",
      "bnd = bounds(bspline3, dom, algorithm=\"SDP\", order=5) = [0.00450004, 15.1875]\n",
      "bnd = bounds(bspline3, dom, algorithm=\"ZOO\") = [0.00449999, 12.1006]\n"
     ]
    }
   ],
   "source": [
    "# using interval arithmetic substitution\n",
    "@show bnd = bounds(bspline3, dom, algorithm=\"IA\")\n",
    "RELPREC[model_name, \"IA\"] = relative_precision(bnd, REF[model_name])\n",
    "\n",
    "# using Taylor model substitution\n",
    "@show bnd = bounds(bspline3, dom, algorithm=\"TM\")\n",
    "RELPREC[model_name, \"TM\"] = relative_precision(bnd, REF[model_name])\n",
    "\n",
    "# using normalized Taylor model substitution\n",
    "@show bnd = bounds(bspline3, dom, algorithm=\"TM_NORM\")\n",
    "RELPREC[model_name, \"TM_NORM\"] = relative_precision(bnd, REF[model_name])\n",
    "\n",
    "# using affine arithmetic\n",
    "@show bnd = bounds(bspline3, dom, algorithm=\"AA\")\n",
    "RELPREC[model_name, \"AA\"] = relative_precision(bnd, REF[model_name])\n",
    "\n",
    "# using SDP\n",
    "@show bnd = bounds(bspline3, dom, algorithm=\"SDP\", order=5)\n",
    "RELPREC[model_name, \"SDP\"] = relative_precision(bnd, REF[model_name])\n",
    "\n",
    "@show bnd = bounds(bspline3, dom, algorithm=\"ZOO\")\n",
    "RELPREC[model_name, \"ZOO\"] = relative_precision(bnd, REF[model_name]);"
   ]
  },
  {
   "cell_type": "code",
   "execution_count": 56,
   "metadata": {},
   "outputs": [
    {
     "data": {
      "text/plain": [
       "15.1875"
      ]
     },
     "execution_count": 56,
     "metadata": {},
     "output_type": "execute_result"
    }
   ],
   "source": [
    "4.5^3/6.0"
   ]
  },
  {
   "cell_type": "code",
   "execution_count": 57,
   "metadata": {},
   "outputs": [
    {
     "data": {
      "text/plain": [
       "[0.00449999, 12.1006]"
      ]
     },
     "execution_count": 57,
     "metadata": {},
     "output_type": "execute_result"
    }
   ],
   "source": [
    "dom = Interval(-4.5, -0.3)\n",
    "x = AFF(dom, 1, 1)\n",
    "interval(-x*x*x/6.0) # ??"
   ]
  },
  {
   "cell_type": "markdown",
   "metadata": {},
   "source": [
    "## Himmilbeau"
   ]
  },
  {
   "cell_type": "code",
   "execution_count": 58,
   "metadata": {},
   "outputs": [
    {
     "name": "stdout",
     "output_type": "stream",
     "text": [
      "REF[model_name] = bounds(himmilbeau, dom, algorithm=\"SDP\", order=6) = [85.4683, 221.734]\n"
     ]
    },
    {
     "data": {
      "text/plain": [
       "[85.4683, 221.734]"
      ]
     },
     "execution_count": 58,
     "metadata": {},
     "output_type": "execute_result"
    }
   ],
   "source": [
    "model_name = \"himmilbeau\"\n",
    "dom = a × b\n",
    "\n",
    "himmilbeau(x1, x2) = (x1*x1 + x2 - 11)*(x1 * x1 + x2 - 11) + (x1 + x2*x2 - 7)*(x1 + x2*x2 - 7)\n",
    "\n",
    "# the reference value is obtained with SDP\n",
    "@show REF[model_name] = bounds(himmilbeau, dom, algorithm=\"SDP\", order=6)"
   ]
  },
  {
   "cell_type": "code",
   "execution_count": 59,
   "metadata": {},
   "outputs": [
    {
     "name": "stdout",
     "output_type": "stream",
     "text": [
      "bnd = bounds(himmilbeau, dom, algorithm=\"IA\") = [-64.5565, 239.056]\n",
      "bnd = bounds(himmilbeau, dom, algorithm=\"TM\") = [-57.3385, 344.697]\n",
      "bnd = bounds(himmilbeau, dom, algorithm=\"TM_NORM\") = [-57.3385, 344.697]\n",
      "bnd = bounds(himmilbeau, dom, algorithm=\"AA\") = [31.4802, 239.056]\n",
      "bnd = bounds(himmilbeau, dom, algorithm=\"ZOO\") = [31.4802, 239.056]\n"
     ]
    }
   ],
   "source": [
    "# using interval arithmetic substitution\n",
    "@show bnd = bounds(himmilbeau, dom, algorithm=\"IA\")\n",
    "RELPREC[model_name, \"IA\"] = relative_precision(bnd, REF[model_name])\n",
    "\n",
    "# using Taylor model substitution\n",
    "@show bnd = bounds(himmilbeau, dom, algorithm=\"TM\")\n",
    "RELPREC[model_name, \"TM\"] = relative_precision(bnd, REF[model_name])\n",
    "\n",
    "# using normalized Taylor model substitution\n",
    "@show bnd = bounds(himmilbeau, dom, algorithm=\"TM_NORM\")\n",
    "RELPREC[model_name, \"TM_NORM\"] = relative_precision(bnd, REF[model_name])\n",
    "\n",
    "# using affine arithmetic\n",
    "@show bnd = bounds(himmilbeau, dom, algorithm=\"AA\")\n",
    "RELPREC[model_name, \"AA\"] = relative_precision(bnd, REF[model_name])\n",
    "\n",
    "@show bnd = bounds(himmilbeau, dom, algorithm=\"ZOO\")\n",
    "RELPREC[model_name, \"ZOO\"] = relative_precision(bnd, REF[model_name]);"
   ]
  },
  {
   "cell_type": "markdown",
   "metadata": {},
   "source": [
    "## Kepler1"
   ]
  },
  {
   "cell_type": "code",
   "execution_count": 60,
   "metadata": {},
   "outputs": [
    {
     "name": "stdout",
     "output_type": "stream",
     "text": [
      "REF[model_name] = bounds(kepler1, dom, algorithm=\"SDP\", order=6) = [-5.25594, 7.32137]\n"
     ]
    },
    {
     "data": {
      "text/plain": [
       "[-5.25594, 7.32137]"
      ]
     },
     "execution_count": 60,
     "metadata": {},
     "output_type": "execute_result"
    }
   ],
   "source": [
    "model_name = \"kepler1\"\n",
    "dom = a × b × c × d × e × f\n",
    "\n",
    "kepler1(x1, x2, x3, x4, x5, x6) = x2 * x5 + x3 * x6 - x2 * x3 - x5 * x6 + x1 * (-x1 + x2 + x3 - x4 + x5 + x6)\n",
    "\n",
    "# the reference value is obtained with SDP\n",
    "@show REF[model_name] = bounds(kepler1, dom, algorithm=\"SDP\", order=6)"
   ]
  },
  {
   "cell_type": "code",
   "execution_count": 61,
   "metadata": {},
   "outputs": [
    {
     "name": "stdout",
     "output_type": "stream",
     "text": [
      "bnd = bounds(kepler1, dom, algorithm=\"IA\") = [-96.6201, 106.531]\n",
      "bnd = bounds(kepler1, dom, algorithm=\"TM\") = [-79.5201, 84.9901]\n",
      "bnd = bounds(kepler1, dom, algorithm=\"TM_NORM\") = [-79.5201, 84.9901]\n",
      "bnd = bounds(kepler1, dom, algorithm=\"AA\") = [-75.3201, 80.7901]\n",
      "bnd = bounds(kepler1, dom, algorithm=\"ZOO\") = [-75.3201, 80.7901]\n"
     ]
    }
   ],
   "source": [
    "# using interval arithmetic substitution\n",
    "@show bnd = bounds(kepler1, dom, algorithm=\"IA\")\n",
    "RELPREC[model_name, \"IA\"] = relative_precision(bnd, REF[model_name])\n",
    "\n",
    "# using Taylor model substitution\n",
    "@show bnd = bounds(kepler1, dom, algorithm=\"TM\")\n",
    "RELPREC[model_name, \"TM\"] = relative_precision(bnd, REF[model_name])\n",
    "\n",
    "# using normalized Taylor model substitution\n",
    "@show bnd = bounds(kepler1, dom, algorithm=\"TM_NORM\")\n",
    "RELPREC[model_name, \"TM_NORM\"] = relative_precision(bnd, REF[model_name])\n",
    "\n",
    "# using affine arithmetic\n",
    "@show bnd = bounds(kepler1, dom, algorithm=\"AA\")\n",
    "RELPREC[model_name, \"AA\"] = relative_precision(bnd, REF[model_name])\n",
    "\n",
    "@show bnd = bounds(kepler1, dom, algorithm=\"ZOO\")\n",
    "RELPREC[model_name, \"ZOO\"] = relative_precision(bnd, REF[model_name]);"
   ]
  },
  {
   "cell_type": "markdown",
   "metadata": {},
   "source": [
    "## Kepler2"
   ]
  },
  {
   "cell_type": "code",
   "execution_count": 62,
   "metadata": {},
   "outputs": [
    {
     "name": "stdout",
     "output_type": "stream",
     "text": [
      "REF[model_name] = bounds(kepler2, dom, algorithm=\"SDP\", order=6) = [-195.37, 78.367]\n"
     ]
    },
    {
     "data": {
      "text/plain": [
       "[-195.37, 78.367]"
      ]
     },
     "execution_count": 62,
     "metadata": {},
     "output_type": "execute_result"
    }
   ],
   "source": [
    "model_name = \"kepler1\"\n",
    "dom = a × b × c × d\n",
    "\n",
    "kepler2(x1, x2, x3, x4) = x1 * x4 * (-x1 + x2 + x3 - x4) + x2 * (x1 - x2 + x3 + x4) +\n",
    "                          x3 * (x1 + x2 - x3 + x4) -x2 * x3 * x4 - x1 * x3 - x1 * x2 - x4\n",
    "\n",
    "# the reference value is obtained with SDP\n",
    "@show REF[model_name] = bounds(kepler2, dom, algorithm=\"SDP\", order=6)"
   ]
  },
  {
   "cell_type": "code",
   "execution_count": 63,
   "metadata": {},
   "outputs": [
    {
     "name": "stdout",
     "output_type": "stream",
     "text": [
      "bnd = bounds(kepler2, dom, algorithm=\"IA\") = [-340.801, 334.921]\n",
      "bnd = bounds(kepler2, dom, algorithm=\"TM\") = [-267.041, 209.363]\n",
      "bnd = bounds(kepler2, dom, algorithm=\"TM_NORM\") = [-267.041, 209.363]\n",
      "bnd = bounds(kepler2, dom, algorithm=\"AA\") = [-241.441, 183.763]\n",
      "bnd = bounds(kepler2, dom, algorithm=\"ZOO\") = [-241.441, 183.763]\n"
     ]
    }
   ],
   "source": [
    "# using interval arithmetic substitution\n",
    "@show bnd = bounds(kepler2, dom, algorithm=\"IA\")\n",
    "RELPREC[model_name, \"IA\"] = relative_precision(bnd, REF[model_name])\n",
    "\n",
    "# using Taylor model substitution\n",
    "@show bnd = bounds(kepler2, dom, algorithm=\"TM\")\n",
    "RELPREC[model_name, \"TM\"] = relative_precision(bnd, REF[model_name])\n",
    "\n",
    "# using normalized Taylor model substitution\n",
    "@show bnd = bounds(kepler2, dom, algorithm=\"TM_NORM\")\n",
    "RELPREC[model_name, \"TM_NORM\"] = relative_precision(bnd, REF[model_name])\n",
    "\n",
    "# using affine arithmetic\n",
    "@show bnd = bounds(kepler2, dom, algorithm=\"AA\")\n",
    "RELPREC[model_name, \"AA\"] = relative_precision(bnd, REF[model_name])\n",
    "\n",
    "@show bnd = bounds(kepler2, dom, algorithm=\"ZOO\")\n",
    "RELPREC[model_name, \"ZOO\"] = relative_precision(bnd, REF[model_name]);"
   ]
  },
  {
   "cell_type": "markdown",
   "metadata": {},
   "source": [
    "## Kepler3"
   ]
  },
  {
   "cell_type": "code",
   "execution_count": 64,
   "metadata": {},
   "outputs": [
    {
     "name": "stdout",
     "output_type": "stream",
     "text": [
      "REF[model_name] = bounds(kepler3, dom, algorithm=\"SDP\", order=6) = [-309.849, 17.9821]\n"
     ]
    },
    {
     "data": {
      "text/plain": [
       "[-309.849, 17.9821]"
      ]
     },
     "execution_count": 64,
     "metadata": {},
     "output_type": "execute_result"
    }
   ],
   "source": [
    "model_name = \"kepler3\"\n",
    "dom = a × b × c × d × e × f\n",
    "\n",
    "kepler3(x1, x2, x3, x4, x5, x6) = x1 * x4 * (-x1 + x2 + x3 - x4 + x5 + x6) +\n",
    "                                  x2 * x5 * (x1 - x2 + x3 + x4 - x5 + x6) + x3 * x6 * (x1 + x2 - x3 + x4 + x5 - x6) -\n",
    "                                  x2 * x3 * x4 -x1* x3* x5 - x1 * x2 * x6 - x4 * x5 * x6\n",
    "\n",
    "# the reference value is obtained with SDP\n",
    "@show REF[model_name] = bounds(kepler3, dom, algorithm=\"SDP\", order=6)"
   ]
  },
  {
   "cell_type": "code",
   "execution_count": 65,
   "metadata": {},
   "outputs": [
    {
     "name": "stdout",
     "output_type": "stream",
     "text": [
      "bnd = bounds(kepler3, dom, algorithm=\"IA\") = [-1775.03, 1554.05]\n",
      "bnd = bounds(kepler3, dom, algorithm=\"TM\") = [-851.528, 638.266]\n",
      "bnd = bounds(kepler3, dom, algorithm=\"TM_NORM\") = [-851.528, 638.266]\n",
      "bnd = bounds(kepler3, dom, algorithm=\"AA\") = [-953.646, 740.383]\n",
      "bnd = bounds(kepler3, dom, algorithm=\"ZOO\") = [-851.528, 638.266]\n"
     ]
    }
   ],
   "source": [
    "# using interval arithmetic substitution\n",
    "@show bnd = bounds(kepler3, dom, algorithm=\"IA\")\n",
    "RELPREC[model_name, \"IA\"] = relative_precision(bnd, REF[model_name])\n",
    "\n",
    "# using Taylor model substitution\n",
    "@show bnd = bounds(kepler3, dom, algorithm=\"TM\")\n",
    "RELPREC[model_name, \"TM\"] = relative_precision(bnd, REF[model_name])\n",
    "\n",
    "# using normalized Taylor model substitution\n",
    "@show bnd = bounds(kepler3, dom, algorithm=\"TM_NORM\")\n",
    "RELPREC[model_name, \"TM_NORM\"] = relative_precision(bnd, REF[model_name])\n",
    "\n",
    "# using affine arithmetic\n",
    "@show bnd = bounds(kepler3, dom, algorithm=\"AA\")\n",
    "RELPREC[model_name, \"AA\"] = relative_precision(bnd, REF[model_name])\n",
    "\n",
    "@show bnd = bounds(kepler3, dom, algorithm=\"ZOO\")\n",
    "RELPREC[model_name, \"ZOO\"] = relative_precision(bnd, REF[model_name]);"
   ]
  },
  {
   "cell_type": "markdown",
   "metadata": {},
   "source": [
    "## RigidBody1"
   ]
  },
  {
   "cell_type": "code",
   "execution_count": 66,
   "metadata": {},
   "outputs": [
    {
     "name": "stdout",
     "output_type": "stream",
     "text": [
      "REF[model_name] = bounds(rigidbody1, dom, algorithm=\"SDP\", order=6) = [-20.7866, -0.540012]\n"
     ]
    },
    {
     "data": {
      "text/plain": [
       "[-20.7866, -0.540012]"
      ]
     },
     "execution_count": 66,
     "metadata": {},
     "output_type": "execute_result"
    }
   ],
   "source": [
    "model_name = \"rigidbody1\"\n",
    "dom = a × b × c\n",
    "\n",
    "rigidbody1(x1, x2, x3) = -x1*x2 - 2*x2*x3 - x1 - x3\n",
    "\n",
    "# the reference value is obtained with SDP\n",
    "@show REF[model_name] = bounds(rigidbody1, dom, algorithm=\"SDP\", order=6)"
   ]
  },
  {
   "cell_type": "code",
   "execution_count": 67,
   "metadata": {},
   "outputs": [
    {
     "name": "stdout",
     "output_type": "stream",
     "text": [
      "bnd = bounds(rigidbody1, dom, algorithm=\"IA\") = [-21.4201, 1.71001]\n",
      "bnd = bounds(rigidbody1, dom, algorithm=\"TM\") = [-21.2701, 2.51001]\n",
      "bnd = bounds(rigidbody1, dom, algorithm=\"TM_NORM\") = [-21.2701, 2.51001]\n",
      "bnd = bounds(rigidbody1, dom, algorithm=\"AA\") = [-21.2701, 1.71001]\n",
      "bnd = bounds(rigidbody1, dom, algorithm=\"ZOO\") = [-21.2701, 1.71001]\n"
     ]
    }
   ],
   "source": [
    "# using interval arithmetic substitution\n",
    "@show bnd = bounds(rigidbody1, dom, algorithm=\"IA\")\n",
    "RELPREC[model_name, \"IA\"] = relative_precision(bnd, REF[model_name])\n",
    "\n",
    "# using Taylor model substitution\n",
    "@show bnd = bounds(rigidbody1, dom, algorithm=\"TM\")\n",
    "RELPREC[model_name, \"TM\"] = relative_precision(bnd, REF[model_name])\n",
    "\n",
    "# using normalized Taylor model substitution\n",
    "@show bnd = bounds(rigidbody1, dom, algorithm=\"TM_NORM\")\n",
    "RELPREC[model_name, \"TM_NORM\"] = relative_precision(bnd, REF[model_name])\n",
    "\n",
    "# using affine arithmetic\n",
    "@show bnd = bounds(rigidbody1, dom, algorithm=\"AA\")\n",
    "RELPREC[model_name, \"AA\"] = relative_precision(bnd, REF[model_name])\n",
    "\n",
    "@show bnd = bounds(rigidbody1, dom, algorithm=\"ZOO\")\n",
    "RELPREC[model_name, \"ZOO\"] = relative_precision(bnd, REF[model_name]);"
   ]
  },
  {
   "cell_type": "markdown",
   "metadata": {},
   "source": [
    "## RigidBody2"
   ]
  },
  {
   "cell_type": "code",
   "execution_count": 68,
   "metadata": {},
   "outputs": [
    {
     "name": "stdout",
     "output_type": "stream",
     "text": [
      "REF[model_name] = bounds(rigidbody2, dom, algorithm=\"SDP\", order=6) = [68.8113, 359.986]\n"
     ]
    },
    {
     "data": {
      "text/plain": [
       "[68.8113, 359.986]"
      ]
     },
     "execution_count": 68,
     "metadata": {},
     "output_type": "execute_result"
    }
   ],
   "source": [
    "model_name = \"rigidbody1\"\n",
    "dom = a × b × c\n",
    "\n",
    "rigidbody2(x1, x2, x3) = 2*(x1*x2*x3) + (3*x3*x3) - x2*(x1*x2*x3) + (3*x3*x3) - x2\n",
    "\n",
    "# the reference value is obtained with SDP\n",
    "@show REF[model_name] = bounds(rigidbody2, dom, algorithm=\"SDP\", order=6)"
   ]
  },
  {
   "cell_type": "code",
   "execution_count": 69,
   "metadata": {},
   "outputs": [
    {
     "name": "stdout",
     "output_type": "stream",
     "text": [
      "bnd = bounds(rigidbody2, dom, algorithm=\"IA\") = [22.7423, 392.16]\n",
      "bnd = bounds(rigidbody2, dom, algorithm=\"TM\") = [29.1674, 373.653]\n",
      "bnd = bounds(rigidbody2, dom, algorithm=\"TM_NORM\") = [29.1674, 373.653]\n",
      "bnd = bounds(rigidbody2, dom, algorithm=\"AA\") = [35.1014, 379.719]\n",
      "bnd = bounds(rigidbody2, dom, algorithm=\"ZOO\") = [35.1014, 373.653]\n"
     ]
    }
   ],
   "source": [
    "# using interval arithmetic substitution\n",
    "@show bnd = bounds(rigidbody2, dom, algorithm=\"IA\")\n",
    "RELPREC[model_name, \"IA\"] = relative_precision(bnd, REF[model_name])\n",
    "\n",
    "# using Taylor model substitution\n",
    "@show bnd = bounds(rigidbody2, dom, algorithm=\"TM\")\n",
    "RELPREC[model_name, \"TM\"] = relative_precision(bnd, REF[model_name])\n",
    "\n",
    "# using normalized Taylor model substitution\n",
    "@show bnd = bounds(rigidbody2, dom, algorithm=\"TM_NORM\")\n",
    "RELPREC[model_name, \"TM_NORM\"] = relative_precision(bnd, REF[model_name])\n",
    "\n",
    "# using affine arithmetic\n",
    "@show bnd = bounds(rigidbody2, dom, algorithm=\"AA\")\n",
    "RELPREC[model_name, \"AA\"] = relative_precision(bnd, REF[model_name])\n",
    "\n",
    "@show bnd = bounds(rigidbody2, dom, algorithm=\"ZOO\")\n",
    "RELPREC[model_name, \"ZOO\"] = relative_precision(bnd, REF[model_name]);"
   ]
  },
  {
   "cell_type": "markdown",
   "metadata": {},
   "source": [
    "## Results"
   ]
  },
  {
   "cell_type": "code",
   "execution_count": 70,
   "metadata": {},
   "outputs": [
    {
     "name": "stdout",
     "output_type": "stream",
     "text": [
      "(\"rigidbody1\", \"IA\")[15.8217, 11.0496]\n",
      "(\"bspline2\", \"TM\")[67.5559, 5.3096e-14]\n",
      "(\"bspline1\", \"SDP\")[-1.15939e-05, -1.98379e-09]\n",
      "(\"bspline0\", \"IA\")[1.21721e-15, 0]\n",
      "(\"bspline2\", \"SDP\")[0.00204111, -2.23053e-07]\n",
      "(\"sin\", \"TM_NORM\")[139.946, 148.086]\n",
      "(\"bspline1\", \"AA\")[-14.094, 1.68961e-16]\n",
      "(\"kepler3\", \"TM\")[165.231, 189.209]\n",
      "(\"kepler3\", \"AA\")[196.38, 220.358]\n",
      "(\"bspline1\", \"TM\")[6.48808e-14, 61.745]\n",
      "(\"bspline2\", \"IA\")[3.9231, 3.92311]\n",
      "(\"bspline2\", \"AA\")[3.9231, -17.3009]\n",
      "(\"bspline1\", \"IA\")[2.16269e-14, 1.68961e-16]\n",
      "(\"kepler1\", \"TM_NORM\")[26.1821, 47.8546]\n",
      "(\"kepler1\", \"TM\")[26.1821, 47.8546]\n",
      "(\"rigidbody1\", \"ZOO\")[11.5772, 4.69384]\n",
      "(\"bspline0\", \"ZOO\")[1.21721e-15, 0]\n",
      "(\"kepler1\", \"IA\")[53.1277, 93.7226]\n",
      "(\"bspline3\", \"SDP\")[-3.22607e-07, -8.56928e-07]\n",
      "(\"himmilbeau\", \"TM\")[104.8, 90.2373]\n",
      "(\"rigidbody1\", \"AA\")[11.5772, 6.77713]\n",
      "(\"kepler1\", \"AA\")[16.8301, 38.5026]\n",
      "(\"rigidbody1\", \"TM_NORM\")[13.6151, 4.69384]\n",
      "(\"himmilbeau\", \"TM_NORM\")[104.8, 90.2373]\n",
      "(\"kepler3\", \"ZOO\")[165.231, 189.209]\n",
      "(\"bspline3\", \"AA\")[5.71271e-18, -20.3319]\n",
      "(\"bspline1\", \"ZOO\")[-14.094, 1.68961e-16]\n",
      "(\"himmilbeau\", \"AA\")[39.6197, 12.7118]\n",
      "(\"kepler1\", \"ZOO\")[16.8301, 38.5026]\n",
      "(\"bspline3\", \"ZOO\")[5.71271e-18, -20.3319]\n",
      "(\"sin\", \"IA\")[-0, 5.6142e-15]\n",
      "(\"bspline3\", \"TM\")[69.7095, 3.5099e-14]\n",
      "(\"bspline2\", \"ZOO\")[3.9231, -17.3009]\n",
      "(\"himmilbeau\", \"IA\")[110.097, 12.7118]\n",
      "(\"kepler3\", \"IA\")[446.929, 468.553]\n",
      "(\"rigidbody1\", \"TM\")[13.6151, 4.69384]\n",
      "(\"bspline0\", \"AA\")[1.21721e-15, 0]\n",
      "(\"bspline3\", \"IA\")[5.71271e-18, 0]\n",
      "(\"bspline0\", \"SDP\")[1.27756e-08, -5.04612e-06]\n",
      "(\"bspline3\", \"TM_NORM\")[34.8547, 3.5099e-14]\n",
      "(\"kepler3\", \"TM_NORM\")[165.231, 189.209]\n",
      "(\"bspline2\", \"TM_NORM\")[33.7779, 5.3096e-14]\n",
      "(\"sin\", \"TM\")[215.262, 148.086]\n",
      "(\"bspline0\", \"TM\")[54.7966, 3.8951e-14]\n",
      "(\"bspline1\", \"TM_NORM\")[6.48808e-14, 30.8725]\n",
      "(\"himmilbeau\", \"ZOO\")[39.6197, 12.7118]\n",
      "(\"bspline0\", \"TM_NORM\")[27.3983, 2.59673e-14]\n"
     ]
    }
   ],
   "source": [
    "for k in keys(RELPREC)\n",
    "    println(k, RELPREC[k])\n",
    "end"
   ]
  }
 ],
 "metadata": {
  "@webio": {
   "lastCommId": null,
   "lastKernelId": null
  },
  "kernelspec": {
   "display_name": "Julia 1.1.0-rc2",
   "language": "julia",
   "name": "julia-1.1"
  },
  "language_info": {
   "file_extension": ".jl",
   "mimetype": "application/julia",
   "name": "julia",
   "version": "1.1.0"
  }
 },
 "nbformat": 4,
 "nbformat_minor": 2
}
