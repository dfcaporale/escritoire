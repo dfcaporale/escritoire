{
 "cells": [
  {
   "cell_type": "code",
   "execution_count": 303,
   "metadata": {},
   "outputs": [],
   "source": [
    "# dependencies\n",
    "using SumOfSquares, DynamicPolynomials, SemialgebraicSets, MosekTools, SDPA\n",
    "using Plots\n",
    "using TaylorModels\n",
    "using AffineArithmetic"
   ]
  },
  {
   "cell_type": "code",
   "execution_count": 314,
   "metadata": {},
   "outputs": [
    {
     "data": {
      "text/plain": [
       "Dict{Any,Any} with 0 entries"
      ]
     },
     "execution_count": 314,
     "metadata": {},
     "output_type": "execute_result"
    }
   ],
   "source": [
    "# domains\n",
    "a = Interval(-4.5, -0.3)\n",
    "b = Interval(0.4, 0.9)\n",
    "c = Interval(3.8, 7.8)\n",
    "d = Interval(8.0, 10.0)\n",
    "e = Interval(-10.0, 8.0)\n",
    "f = Interval(1.0, 2.0)\n",
    "\n",
    "REF = Dict()\n",
    "RELPREC = Dict()"
   ]
  },
  {
   "cell_type": "code",
   "execution_count": 315,
   "metadata": {},
   "outputs": [
    {
     "data": {
      "text/plain": [
       "relative_precision (generic function with 1 method)"
      ]
     },
     "execution_count": 315,
     "metadata": {},
     "output_type": "execute_result"
    }
   ],
   "source": [
    "# This function measures the relative precision of the result in a more informative way than\n",
    "# taking the scalar overestimation because it evaluates the precision of the lower and the\n",
    "# upper range bounds separately, see Eq. (20) in [1].\n",
    "function relative_precision(x, x_ref)\n",
    "    x_low, x_high = inf(x), sup(x)\n",
    "    x_ref_low, x_ref_high = inf(x_ref), sup(x_ref)\n",
    "    rel_low = -(x_low - x_ref_low) / (x_ref_high - x_ref_low)\n",
    "    rel_high = (x_high - x_ref_high) / (x_ref_high - x_ref_low)\n",
    "    return 100 * Interval(rel_low, rel_high)\n",
    "end"
   ]
  },
  {
   "cell_type": "markdown",
   "metadata": {},
   "source": [
    "## sine"
   ]
  },
  {
   "cell_type": "code",
   "execution_count": 316,
   "metadata": {},
   "outputs": [
    {
     "data": {
      "text/plain": [
       "[-1, 0.977531]"
      ]
     },
     "execution_count": 316,
     "metadata": {},
     "output_type": "execute_result"
    }
   ],
   "source": [
    "model_name = \"sin\"\n",
    "min_bound = -1.0\n",
    "max_bound = sin(inf(a));\n",
    "REF[model_name] = Interval(min_bound, max_bound)"
   ]
  },
  {
   "cell_type": "code",
   "execution_count": 317,
   "metadata": {
    "scrolled": true
   },
   "outputs": [
    {
     "data": {
      "image/svg+xml": [
       "<?xml version=\"1.0\" encoding=\"utf-8\"?>\n",
       "<svg xmlns=\"http://www.w3.org/2000/svg\" xmlns:xlink=\"http://www.w3.org/1999/xlink\" width=\"600\" height=\"400\" viewBox=\"0 0 2400 1600\">\n",
       "<defs>\n",
       "  <clipPath id=\"clip3500\">\n",
       "    <rect x=\"0\" y=\"0\" width=\"2400\" height=\"1600\"/>\n",
       "  </clipPath>\n",
       "</defs>\n",
       "<polygon clip-path=\"url(#clip3500)\" points=\"\n",
       "0,1600 2400,1600 2400,0 0,0 \n",
       "  \" fill=\"#ffffff\" fill-rule=\"evenodd\" fill-opacity=\"1\"/>\n",
       "<defs>\n",
       "  <clipPath id=\"clip3501\">\n",
       "    <rect x=\"480\" y=\"0\" width=\"1681\" height=\"1600\"/>\n",
       "  </clipPath>\n",
       "</defs>\n",
       "<polygon clip-path=\"url(#clip3500)\" points=\"\n",
       "189.504,1503.47 2321.26,1503.47 2321.26,47.2441 189.504,47.2441 \n",
       "  \" fill=\"#ffffff\" fill-rule=\"evenodd\" fill-opacity=\"1\"/>\n",
       "<defs>\n",
       "  <clipPath id=\"clip3502\">\n",
       "    <rect x=\"189\" y=\"47\" width=\"2133\" height=\"1457\"/>\n",
       "  </clipPath>\n",
       "</defs>\n",
       "<polyline clip-path=\"url(#clip3502)\" style=\"stroke:#000000; stroke-width:2; stroke-opacity:0.1; fill:none\" points=\"\n",
       "  489.252,1503.47 489.252,47.2441 \n",
       "  \"/>\n",
       "<polyline clip-path=\"url(#clip3502)\" style=\"stroke:#000000; stroke-width:2; stroke-opacity:0.1; fill:none\" points=\"\n",
       "  968.083,1503.47 968.083,47.2441 \n",
       "  \"/>\n",
       "<polyline clip-path=\"url(#clip3502)\" style=\"stroke:#000000; stroke-width:2; stroke-opacity:0.1; fill:none\" points=\"\n",
       "  1446.91,1503.47 1446.91,47.2441 \n",
       "  \"/>\n",
       "<polyline clip-path=\"url(#clip3502)\" style=\"stroke:#000000; stroke-width:2; stroke-opacity:0.1; fill:none\" points=\"\n",
       "  1925.75,1503.47 1925.75,47.2441 \n",
       "  \"/>\n",
       "<polyline clip-path=\"url(#clip3502)\" style=\"stroke:#000000; stroke-width:2; stroke-opacity:0.1; fill:none\" points=\"\n",
       "  189.504,1462.26 2321.26,1462.26 \n",
       "  \"/>\n",
       "<polyline clip-path=\"url(#clip3502)\" style=\"stroke:#000000; stroke-width:2; stroke-opacity:0.1; fill:none\" points=\"\n",
       "  189.504,1114.91 2321.26,1114.91 \n",
       "  \"/>\n",
       "<polyline clip-path=\"url(#clip3502)\" style=\"stroke:#000000; stroke-width:2; stroke-opacity:0.1; fill:none\" points=\"\n",
       "  189.504,767.554 2321.26,767.554 \n",
       "  \"/>\n",
       "<polyline clip-path=\"url(#clip3502)\" style=\"stroke:#000000; stroke-width:2; stroke-opacity:0.1; fill:none\" points=\"\n",
       "  189.504,420.201 2321.26,420.201 \n",
       "  \"/>\n",
       "<polyline clip-path=\"url(#clip3502)\" style=\"stroke:#000000; stroke-width:2; stroke-opacity:0.1; fill:none\" points=\"\n",
       "  189.504,72.8482 2321.26,72.8482 \n",
       "  \"/>\n",
       "<polyline clip-path=\"url(#clip3500)\" style=\"stroke:#000000; stroke-width:4; stroke-opacity:1; fill:none\" points=\"\n",
       "  189.504,1503.47 2321.26,1503.47 \n",
       "  \"/>\n",
       "<polyline clip-path=\"url(#clip3500)\" style=\"stroke:#000000; stroke-width:4; stroke-opacity:1; fill:none\" points=\"\n",
       "  189.504,1503.47 189.504,47.2441 \n",
       "  \"/>\n",
       "<polyline clip-path=\"url(#clip3500)\" style=\"stroke:#000000; stroke-width:4; stroke-opacity:1; fill:none\" points=\"\n",
       "  489.252,1503.47 489.252,1481.63 \n",
       "  \"/>\n",
       "<polyline clip-path=\"url(#clip3500)\" style=\"stroke:#000000; stroke-width:4; stroke-opacity:1; fill:none\" points=\"\n",
       "  968.083,1503.47 968.083,1481.63 \n",
       "  \"/>\n",
       "<polyline clip-path=\"url(#clip3500)\" style=\"stroke:#000000; stroke-width:4; stroke-opacity:1; fill:none\" points=\"\n",
       "  1446.91,1503.47 1446.91,1481.63 \n",
       "  \"/>\n",
       "<polyline clip-path=\"url(#clip3500)\" style=\"stroke:#000000; stroke-width:4; stroke-opacity:1; fill:none\" points=\"\n",
       "  1925.75,1503.47 1925.75,1481.63 \n",
       "  \"/>\n",
       "<polyline clip-path=\"url(#clip3500)\" style=\"stroke:#000000; stroke-width:4; stroke-opacity:1; fill:none\" points=\"\n",
       "  189.504,1462.26 221.48,1462.26 \n",
       "  \"/>\n",
       "<polyline clip-path=\"url(#clip3500)\" style=\"stroke:#000000; stroke-width:4; stroke-opacity:1; fill:none\" points=\"\n",
       "  189.504,1114.91 221.48,1114.91 \n",
       "  \"/>\n",
       "<polyline clip-path=\"url(#clip3500)\" style=\"stroke:#000000; stroke-width:4; stroke-opacity:1; fill:none\" points=\"\n",
       "  189.504,767.554 221.48,767.554 \n",
       "  \"/>\n",
       "<polyline clip-path=\"url(#clip3500)\" style=\"stroke:#000000; stroke-width:4; stroke-opacity:1; fill:none\" points=\"\n",
       "  189.504,420.201 221.48,420.201 \n",
       "  \"/>\n",
       "<polyline clip-path=\"url(#clip3500)\" style=\"stroke:#000000; stroke-width:4; stroke-opacity:1; fill:none\" points=\"\n",
       "  189.504,72.8482 221.48,72.8482 \n",
       "  \"/>\n",
       "<g clip-path=\"url(#clip3500)\">\n",
       "<text style=\"fill:#000000; fill-opacity:1; font-family:Arial,Helvetica Neue,Helvetica,sans-serif; font-size:48px; text-anchor:middle;\" transform=\"rotate(0, 489.252, 1557.47)\" x=\"489.252\" y=\"1557.47\">-4</text>\n",
       "</g>\n",
       "<g clip-path=\"url(#clip3500)\">\n",
       "<text style=\"fill:#000000; fill-opacity:1; font-family:Arial,Helvetica Neue,Helvetica,sans-serif; font-size:48px; text-anchor:middle;\" transform=\"rotate(0, 968.083, 1557.47)\" x=\"968.083\" y=\"1557.47\">-3</text>\n",
       "</g>\n",
       "<g clip-path=\"url(#clip3500)\">\n",
       "<text style=\"fill:#000000; fill-opacity:1; font-family:Arial,Helvetica Neue,Helvetica,sans-serif; font-size:48px; text-anchor:middle;\" transform=\"rotate(0, 1446.91, 1557.47)\" x=\"1446.91\" y=\"1557.47\">-2</text>\n",
       "</g>\n",
       "<g clip-path=\"url(#clip3500)\">\n",
       "<text style=\"fill:#000000; fill-opacity:1; font-family:Arial,Helvetica Neue,Helvetica,sans-serif; font-size:48px; text-anchor:middle;\" transform=\"rotate(0, 1925.75, 1557.47)\" x=\"1925.75\" y=\"1557.47\">-1</text>\n",
       "</g>\n",
       "<g clip-path=\"url(#clip3500)\">\n",
       "<text style=\"fill:#000000; fill-opacity:1; font-family:Arial,Helvetica Neue,Helvetica,sans-serif; font-size:48px; text-anchor:end;\" transform=\"rotate(0, 165.504, 1479.76)\" x=\"165.504\" y=\"1479.76\">-1.0</text>\n",
       "</g>\n",
       "<g clip-path=\"url(#clip3500)\">\n",
       "<text style=\"fill:#000000; fill-opacity:1; font-family:Arial,Helvetica Neue,Helvetica,sans-serif; font-size:48px; text-anchor:end;\" transform=\"rotate(0, 165.504, 1132.41)\" x=\"165.504\" y=\"1132.41\">-0.5</text>\n",
       "</g>\n",
       "<g clip-path=\"url(#clip3500)\">\n",
       "<text style=\"fill:#000000; fill-opacity:1; font-family:Arial,Helvetica Neue,Helvetica,sans-serif; font-size:48px; text-anchor:end;\" transform=\"rotate(0, 165.504, 785.054)\" x=\"165.504\" y=\"785.054\">0.0</text>\n",
       "</g>\n",
       "<g clip-path=\"url(#clip3500)\">\n",
       "<text style=\"fill:#000000; fill-opacity:1; font-family:Arial,Helvetica Neue,Helvetica,sans-serif; font-size:48px; text-anchor:end;\" transform=\"rotate(0, 165.504, 437.701)\" x=\"165.504\" y=\"437.701\">0.5</text>\n",
       "</g>\n",
       "<g clip-path=\"url(#clip3500)\">\n",
       "<text style=\"fill:#000000; fill-opacity:1; font-family:Arial,Helvetica Neue,Helvetica,sans-serif; font-size:48px; text-anchor:end;\" transform=\"rotate(0, 165.504, 90.3482)\" x=\"165.504\" y=\"90.3482\">1.0</text>\n",
       "</g>\n",
       "<polyline clip-path=\"url(#clip3502)\" style=\"stroke:#009af9; stroke-width:6; stroke-opacity:1; fill:none\" points=\"\n",
       "  249.837,88.4582 297.72,106.471 345.603,131.088 393.486,162.065 441.369,199.092 489.252,241.799 537.135,289.759 585.019,342.493 632.902,399.474 680.785,460.133 \n",
       "  728.668,523.863 776.551,590.028 824.434,657.968 872.317,727.002 920.2,796.441 968.083,865.591 1015.97,933.762 1063.85,1000.27 1111.73,1064.46 1159.62,1125.68 \n",
       "  1207.5,1183.32 1255.38,1236.8 1303.27,1285.6 1351.15,1329.22 1399.03,1367.23 1446.91,1399.25 1494.8,1424.95 1542.68,1444.09 1590.56,1456.47 1638.45,1461.96 \n",
       "  1686.33,1460.52 1734.21,1452.15 1782.1,1436.94 1829.98,1415.05 1877.86,1386.68 1925.75,1352.13 1973.63,1311.74 2021.51,1265.91 2069.39,1215.1 2117.28,1159.82 \n",
       "  2165.16,1100.61 2213.04,1038.09 2260.93,972.854 \n",
       "  \"/>\n",
       "<polyline clip-path=\"url(#clip3502)\" style=\"stroke:#ff0000; stroke-width:4; stroke-opacity:1; fill:none\" stroke-dasharray=\"16, 10\" points=\"\n",
       "  249.837,1462.26 297.72,1462.26 345.603,1462.26 393.486,1462.26 441.369,1462.26 489.252,1462.26 537.135,1462.26 585.019,1462.26 632.902,1462.26 680.785,1462.26 \n",
       "  728.668,1462.26 776.551,1462.26 824.434,1462.26 872.317,1462.26 920.2,1462.26 968.083,1462.26 1015.97,1462.26 1063.85,1462.26 1111.73,1462.26 1159.62,1462.26 \n",
       "  1207.5,1462.26 1255.38,1462.26 1303.27,1462.26 1351.15,1462.26 1399.03,1462.26 1446.91,1462.26 1494.8,1462.26 1542.68,1462.26 1590.56,1462.26 1638.45,1462.26 \n",
       "  1686.33,1462.26 1734.21,1462.26 1782.1,1462.26 1829.98,1462.26 1877.86,1462.26 1925.75,1462.26 1973.63,1462.26 2021.51,1462.26 2069.39,1462.26 2117.28,1462.26 \n",
       "  2165.16,1462.26 2213.04,1462.26 2260.93,1462.26 \n",
       "  \"/>\n",
       "<polyline clip-path=\"url(#clip3502)\" style=\"stroke:#ff0000; stroke-width:4; stroke-opacity:1; fill:none\" stroke-dasharray=\"16, 10\" points=\"\n",
       "  249.837,88.4582 297.72,88.4582 345.603,88.4582 393.486,88.4582 441.369,88.4582 489.252,88.4582 537.135,88.4582 585.019,88.4582 632.902,88.4582 680.785,88.4582 \n",
       "  728.668,88.4582 776.551,88.4582 824.434,88.4582 872.317,88.4582 920.2,88.4582 968.083,88.4582 1015.97,88.4582 1063.85,88.4582 1111.73,88.4582 1159.62,88.4582 \n",
       "  1207.5,88.4582 1255.38,88.4582 1303.27,88.4582 1351.15,88.4582 1399.03,88.4582 1446.91,88.4582 1494.8,88.4582 1542.68,88.4582 1590.56,88.4582 1638.45,88.4582 \n",
       "  1686.33,88.4582 1734.21,88.4582 1782.1,88.4582 1829.98,88.4582 1877.86,88.4582 1925.75,88.4582 1973.63,88.4582 2021.51,88.4582 2069.39,88.4582 2117.28,88.4582 \n",
       "  2165.16,88.4582 2213.04,88.4582 2260.93,88.4582 \n",
       "  \"/>\n",
       "<polygon clip-path=\"url(#clip3500)\" points=\"\n",
       "1947.74,251.724 2249.26,251.724 2249.26,130.764 1947.74,130.764 \n",
       "  \" fill=\"#ffffff\" fill-rule=\"evenodd\" fill-opacity=\"1\"/>\n",
       "<polyline clip-path=\"url(#clip3500)\" style=\"stroke:#000000; stroke-width:4; stroke-opacity:1; fill:none\" points=\"\n",
       "  1947.74,251.724 2249.26,251.724 2249.26,130.764 1947.74,130.764 1947.74,251.724 \n",
       "  \"/>\n",
       "<polyline clip-path=\"url(#clip3500)\" style=\"stroke:#009af9; stroke-width:6; stroke-opacity:1; fill:none\" points=\"\n",
       "  1971.74,191.244 2115.74,191.244 \n",
       "  \"/>\n",
       "<g clip-path=\"url(#clip3500)\">\n",
       "<text style=\"fill:#000000; fill-opacity:1; font-family:Arial,Helvetica Neue,Helvetica,sans-serif; font-size:48px; text-anchor:start;\" transform=\"rotate(0, 2139.74, 208.744)\" x=\"2139.74\" y=\"208.744\">sin</text>\n",
       "</g>\n",
       "</svg>\n"
      ]
     },
     "execution_count": 317,
     "metadata": {},
     "output_type": "execute_result"
    }
   ],
   "source": [
    "dom = a\n",
    "plot(x -> sin(x), inf(dom):0.1:sup(dom), lw=1.5, lab=model_name)\n",
    "plot!(x -> min_bound, inf(dom):0.1:sup(dom), color=:red, linestyle=:dash, lab=\"\")\n",
    "plot!(x -> max_bound, inf(dom):0.1:sup(dom), color=:red, linestyle=:dash, lab=\"\")"
   ]
  },
  {
   "cell_type": "code",
   "execution_count": 318,
   "metadata": {},
   "outputs": [
    {
     "name": "stdout",
     "output_type": "stream",
     "text": [
      "res = sin(dom) = [-1, 0.977531]\n"
     ]
    },
    {
     "data": {
      "text/plain": [
       "[-0, 5.6142e-15]"
      ]
     },
     "execution_count": 318,
     "metadata": {},
     "output_type": "execute_result"
    }
   ],
   "source": [
    "# using interval arithmetic substitution\n",
    "@show res = sin(dom)\n",
    "RELPREC[model_name, \"IA\"] = relative_precision(res, REF[model_name])"
   ]
  },
  {
   "cell_type": "code",
   "execution_count": 319,
   "metadata": {},
   "outputs": [
    {
     "name": "stdout",
     "output_type": "stream",
     "text": [
      "res = evaluate(sin(xord), dom - x0) = [-3.64351, 3.64351]\n"
     ]
    },
    {
     "data": {
      "text/plain": [
       "[133.676, 134.814]"
      ]
     },
     "execution_count": 319,
     "metadata": {},
     "output_type": "execute_result"
    }
   ],
   "source": [
    "# using Taylor model substitution\n",
    "ord = 2\n",
    "x0 = Interval(mid(dom))\n",
    "x = TaylorModel1(ord, x0, dom)\n",
    "@show res = evaluate(sin(xord), dom - x0)\n",
    "RELPREC[model_name, \"TM\"] = relative_precision(res, REF[model_name])"
   ]
  },
  {
   "cell_type": "code",
   "execution_count": 320,
   "metadata": {},
   "outputs": [
    {
     "name": "stdout",
     "output_type": "stream",
     "text": [
      "res = evaluate(sin(xnormTM), -1 .. 1) = [-3.76749, 3.90596]\n"
     ]
    },
    {
     "data": {
      "text/plain": [
       "[139.946, 148.086]"
      ]
     },
     "execution_count": 320,
     "metadata": {},
     "output_type": "execute_result"
    }
   ],
   "source": [
    "# using normalized taylor model substitution\n",
    "xnorm = normalize_taylor(x.pol, dom - x0, true)\n",
    "xnormTM = TaylorModel1(xnorm, 0..0, 0..0, -1..1)\n",
    "@show res = evaluate(sin(xnormTM), -1..1)\n",
    "RELPREC[model_name, \"normalized TM\"] = relative_precision(res, REF[model_name])"
   ]
  },
  {
   "cell_type": "code",
   "execution_count": 321,
   "metadata": {},
   "outputs": [
    {
     "ename": "MethodError",
     "evalue": "MethodError: no method matching sin(::AFF{1,Float64})\nClosest candidates are:\n  sin(!Matched::Float16) at math.jl:1018\n  sin(!Matched::Complex{Float16}) at math.jl:1019\n  sin(!Matched::Missing) at math.jl:1070\n  ...",
     "output_type": "error",
     "traceback": [
      "MethodError: no method matching sin(::AFF{1,Float64})\nClosest candidates are:\n  sin(!Matched::Float16) at math.jl:1018\n  sin(!Matched::Complex{Float16}) at math.jl:1019\n  sin(!Matched::Missing) at math.jl:1070\n  ...",
      "",
      "Stacktrace:",
      " [1] top-level scope at show.jl:555",
      " [2] top-level scope at In[321]:3"
     ]
    }
   ],
   "source": [
    "# using affine arithmetic\n",
    "x = AFF(dom, 1, 1)\n",
    "@show res = interval(sin(x))\n",
    "RELPREC[model_name, \"AA\"] = relative_precision(REF[model_name], res)"
   ]
  },
  {
   "cell_type": "code",
   "execution_count": 322,
   "metadata": {},
   "outputs": [
    {
     "data": {
      "text/plain": [
       "Dict{Any,Any} with 3 entries:\n",
       "  (\"sin\", \"IA\")            => [-0, 5.6142e-15]\n",
       "  (\"sin\", \"TM\")            => [133.676, 134.814]\n",
       "  (\"sin\", \"normalized TM\") => [139.946, 148.086]"
      ]
     },
     "execution_count": 322,
     "metadata": {},
     "output_type": "execute_result"
    }
   ],
   "source": [
    "RELPREC"
   ]
  },
  {
   "cell_type": "markdown",
   "metadata": {},
   "source": [
    "## bspline0"
   ]
  },
  {
   "cell_type": "code",
   "execution_count": 3,
   "metadata": {},
   "outputs": [
    {
     "data": {
      "text/plain": [
       "(0.3661667079981748, 27.729158794649457)"
      ]
     },
     "execution_count": 3,
     "metadata": {},
     "output_type": "execute_result"
    }
   ],
   "source": [
    "# =============\n",
    "# upper bound\n",
    "# =============\n",
    "\n",
    "model_name = \"bspline0\"\n",
    "# model = SOSModel(with_optimizer(SDPA.Optimizer))\n",
    "model = SOSModel(with_optimizer(Mosek.Optimizer, QUIET=true))\n",
    "k = 10\n",
    "@polyvar x\n",
    "p = (1 - x) * (1 - x) * (1 - x) / 6.0\n",
    "dom = a\n",
    "@variable(model, γ)\n",
    "S = @set inf(dom) <= x && x <= sup(dom)\n",
    "@constraint(model, p <= γ, domain=S, maxdegree=k)\n",
    "@objective(model, Min, γ)\n",
    "optimize!(model)\n",
    "max_bound = objective_value(model)\n",
    "\n",
    "# =============\n",
    "# lower bound\n",
    "# =============\n",
    "\n",
    "#model = SOSModel(with_optimizer(SDPA.Optimizer))\n",
    "model = SOSModel(with_optimizer(Mosek.Optimizer, QUIET=true))\n",
    "@variable(model, γ)\n",
    "S = @set inf(dom) <= x && x <= sup(dom)\n",
    "@constraint(model, p >= γ, domain=S, maxdegree=k)\n",
    "@objective(model, Max, γ)\n",
    "optimize!(model)\n",
    "min_bound = objective_value(model)\n",
    "REF[model_name] = (min_bound, max_bound)"
   ]
  },
  {
   "cell_type": "code",
   "execution_count": 4,
   "metadata": {},
   "outputs": [
    {
     "data": {
      "text/plain": [
       "0.0045778751373291016"
      ]
     },
     "execution_count": 4,
     "metadata": {},
     "output_type": "execute_result"
    }
   ],
   "source": [
    "MOI.get(model, MOI.SolveTime())"
   ]
  },
  {
   "cell_type": "code",
   "execution_count": 31,
   "metadata": {},
   "outputs": [
    {
     "data": {
      "image/svg+xml": [
       "<?xml version=\"1.0\" encoding=\"utf-8\"?>\n",
       "<svg xmlns=\"http://www.w3.org/2000/svg\" xmlns:xlink=\"http://www.w3.org/1999/xlink\" width=\"600\" height=\"400\" viewBox=\"0 0 2400 1600\">\n",
       "<defs>\n",
       "  <clipPath id=\"clip5900\">\n",
       "    <rect x=\"0\" y=\"0\" width=\"2400\" height=\"1600\"/>\n",
       "  </clipPath>\n",
       "</defs>\n",
       "<polygon clip-path=\"url(#clip5900)\" points=\"\n",
       "0,1600 2400,1600 2400,0 0,0 \n",
       "  \" fill=\"#ffffff\" fill-rule=\"evenodd\" fill-opacity=\"1\"/>\n",
       "<defs>\n",
       "  <clipPath id=\"clip5901\">\n",
       "    <rect x=\"480\" y=\"0\" width=\"1681\" height=\"1600\"/>\n",
       "  </clipPath>\n",
       "</defs>\n",
       "<polygon clip-path=\"url(#clip5900)\" points=\"\n",
       "148.013,1503.47 2321.26,1503.47 2321.26,47.2441 148.013,47.2441 \n",
       "  \" fill=\"#ffffff\" fill-rule=\"evenodd\" fill-opacity=\"1\"/>\n",
       "<defs>\n",
       "  <clipPath id=\"clip5902\">\n",
       "    <rect x=\"148\" y=\"47\" width=\"2174\" height=\"1457\"/>\n",
       "  </clipPath>\n",
       "</defs>\n",
       "<polyline clip-path=\"url(#clip5902)\" style=\"stroke:#000000; stroke-width:2; stroke-opacity:0.1; fill:none\" points=\"\n",
       "  453.595,1503.47 453.595,47.2441 \n",
       "  \"/>\n",
       "<polyline clip-path=\"url(#clip5902)\" style=\"stroke:#000000; stroke-width:2; stroke-opacity:0.1; fill:none\" points=\"\n",
       "  941.746,1503.47 941.746,47.2441 \n",
       "  \"/>\n",
       "<polyline clip-path=\"url(#clip5902)\" style=\"stroke:#000000; stroke-width:2; stroke-opacity:0.1; fill:none\" points=\"\n",
       "  1429.9,1503.47 1429.9,47.2441 \n",
       "  \"/>\n",
       "<polyline clip-path=\"url(#clip5902)\" style=\"stroke:#000000; stroke-width:2; stroke-opacity:0.1; fill:none\" points=\"\n",
       "  1918.05,1503.47 1918.05,47.2441 \n",
       "  \"/>\n",
       "<polyline clip-path=\"url(#clip5902)\" style=\"stroke:#000000; stroke-width:2; stroke-opacity:0.1; fill:none\" points=\"\n",
       "  148.013,1480.64 2321.26,1480.64 \n",
       "  \"/>\n",
       "<polyline clip-path=\"url(#clip5902)\" style=\"stroke:#000000; stroke-width:2; stroke-opacity:0.1; fill:none\" points=\"\n",
       "  148.013,1229.61 2321.26,1229.61 \n",
       "  \"/>\n",
       "<polyline clip-path=\"url(#clip5902)\" style=\"stroke:#000000; stroke-width:2; stroke-opacity:0.1; fill:none\" points=\"\n",
       "  148.013,978.579 2321.26,978.579 \n",
       "  \"/>\n",
       "<polyline clip-path=\"url(#clip5902)\" style=\"stroke:#000000; stroke-width:2; stroke-opacity:0.1; fill:none\" points=\"\n",
       "  148.013,727.546 2321.26,727.546 \n",
       "  \"/>\n",
       "<polyline clip-path=\"url(#clip5902)\" style=\"stroke:#000000; stroke-width:2; stroke-opacity:0.1; fill:none\" points=\"\n",
       "  148.013,476.513 2321.26,476.513 \n",
       "  \"/>\n",
       "<polyline clip-path=\"url(#clip5902)\" style=\"stroke:#000000; stroke-width:2; stroke-opacity:0.1; fill:none\" points=\"\n",
       "  148.013,225.48 2321.26,225.48 \n",
       "  \"/>\n",
       "<polyline clip-path=\"url(#clip5900)\" style=\"stroke:#000000; stroke-width:4; stroke-opacity:1; fill:none\" points=\"\n",
       "  148.013,1503.47 2321.26,1503.47 \n",
       "  \"/>\n",
       "<polyline clip-path=\"url(#clip5900)\" style=\"stroke:#000000; stroke-width:4; stroke-opacity:1; fill:none\" points=\"\n",
       "  148.013,1503.47 148.013,47.2441 \n",
       "  \"/>\n",
       "<polyline clip-path=\"url(#clip5900)\" style=\"stroke:#000000; stroke-width:4; stroke-opacity:1; fill:none\" points=\"\n",
       "  453.595,1503.47 453.595,1481.63 \n",
       "  \"/>\n",
       "<polyline clip-path=\"url(#clip5900)\" style=\"stroke:#000000; stroke-width:4; stroke-opacity:1; fill:none\" points=\"\n",
       "  941.746,1503.47 941.746,1481.63 \n",
       "  \"/>\n",
       "<polyline clip-path=\"url(#clip5900)\" style=\"stroke:#000000; stroke-width:4; stroke-opacity:1; fill:none\" points=\"\n",
       "  1429.9,1503.47 1429.9,1481.63 \n",
       "  \"/>\n",
       "<polyline clip-path=\"url(#clip5900)\" style=\"stroke:#000000; stroke-width:4; stroke-opacity:1; fill:none\" points=\"\n",
       "  1918.05,1503.47 1918.05,1481.63 \n",
       "  \"/>\n",
       "<polyline clip-path=\"url(#clip5900)\" style=\"stroke:#000000; stroke-width:4; stroke-opacity:1; fill:none\" points=\"\n",
       "  148.013,1480.64 180.612,1480.64 \n",
       "  \"/>\n",
       "<polyline clip-path=\"url(#clip5900)\" style=\"stroke:#000000; stroke-width:4; stroke-opacity:1; fill:none\" points=\"\n",
       "  148.013,1229.61 180.612,1229.61 \n",
       "  \"/>\n",
       "<polyline clip-path=\"url(#clip5900)\" style=\"stroke:#000000; stroke-width:4; stroke-opacity:1; fill:none\" points=\"\n",
       "  148.013,978.579 180.612,978.579 \n",
       "  \"/>\n",
       "<polyline clip-path=\"url(#clip5900)\" style=\"stroke:#000000; stroke-width:4; stroke-opacity:1; fill:none\" points=\"\n",
       "  148.013,727.546 180.612,727.546 \n",
       "  \"/>\n",
       "<polyline clip-path=\"url(#clip5900)\" style=\"stroke:#000000; stroke-width:4; stroke-opacity:1; fill:none\" points=\"\n",
       "  148.013,476.513 180.612,476.513 \n",
       "  \"/>\n",
       "<polyline clip-path=\"url(#clip5900)\" style=\"stroke:#000000; stroke-width:4; stroke-opacity:1; fill:none\" points=\"\n",
       "  148.013,225.48 180.612,225.48 \n",
       "  \"/>\n",
       "<g clip-path=\"url(#clip5900)\">\n",
       "<text style=\"fill:#000000; fill-opacity:1; font-family:Arial,Helvetica Neue,Helvetica,sans-serif; font-size:48px; text-anchor:middle;\" transform=\"rotate(0, 453.595, 1557.47)\" x=\"453.595\" y=\"1557.47\">-4</text>\n",
       "</g>\n",
       "<g clip-path=\"url(#clip5900)\">\n",
       "<text style=\"fill:#000000; fill-opacity:1; font-family:Arial,Helvetica Neue,Helvetica,sans-serif; font-size:48px; text-anchor:middle;\" transform=\"rotate(0, 941.746, 1557.47)\" x=\"941.746\" y=\"1557.47\">-3</text>\n",
       "</g>\n",
       "<g clip-path=\"url(#clip5900)\">\n",
       "<text style=\"fill:#000000; fill-opacity:1; font-family:Arial,Helvetica Neue,Helvetica,sans-serif; font-size:48px; text-anchor:middle;\" transform=\"rotate(0, 1429.9, 1557.47)\" x=\"1429.9\" y=\"1557.47\">-2</text>\n",
       "</g>\n",
       "<g clip-path=\"url(#clip5900)\">\n",
       "<text style=\"fill:#000000; fill-opacity:1; font-family:Arial,Helvetica Neue,Helvetica,sans-serif; font-size:48px; text-anchor:middle;\" transform=\"rotate(0, 1918.05, 1557.47)\" x=\"1918.05\" y=\"1557.47\">-1</text>\n",
       "</g>\n",
       "<g clip-path=\"url(#clip5900)\">\n",
       "<text style=\"fill:#000000; fill-opacity:1; font-family:Arial,Helvetica Neue,Helvetica,sans-serif; font-size:48px; text-anchor:end;\" transform=\"rotate(0, 124.013, 1498.14)\" x=\"124.013\" y=\"1498.14\">0</text>\n",
       "</g>\n",
       "<g clip-path=\"url(#clip5900)\">\n",
       "<text style=\"fill:#000000; fill-opacity:1; font-family:Arial,Helvetica Neue,Helvetica,sans-serif; font-size:48px; text-anchor:end;\" transform=\"rotate(0, 124.013, 1247.11)\" x=\"124.013\" y=\"1247.11\">5</text>\n",
       "</g>\n",
       "<g clip-path=\"url(#clip5900)\">\n",
       "<text style=\"fill:#000000; fill-opacity:1; font-family:Arial,Helvetica Neue,Helvetica,sans-serif; font-size:48px; text-anchor:end;\" transform=\"rotate(0, 124.013, 996.079)\" x=\"124.013\" y=\"996.079\">10</text>\n",
       "</g>\n",
       "<g clip-path=\"url(#clip5900)\">\n",
       "<text style=\"fill:#000000; fill-opacity:1; font-family:Arial,Helvetica Neue,Helvetica,sans-serif; font-size:48px; text-anchor:end;\" transform=\"rotate(0, 124.013, 745.046)\" x=\"124.013\" y=\"745.046\">15</text>\n",
       "</g>\n",
       "<g clip-path=\"url(#clip5900)\">\n",
       "<text style=\"fill:#000000; fill-opacity:1; font-family:Arial,Helvetica Neue,Helvetica,sans-serif; font-size:48px; text-anchor:end;\" transform=\"rotate(0, 124.013, 494.013)\" x=\"124.013\" y=\"494.013\">20</text>\n",
       "</g>\n",
       "<g clip-path=\"url(#clip5900)\">\n",
       "<text style=\"fill:#000000; fill-opacity:1; font-family:Arial,Helvetica Neue,Helvetica,sans-serif; font-size:48px; text-anchor:end;\" transform=\"rotate(0, 124.013, 242.98)\" x=\"124.013\" y=\"242.98\">25</text>\n",
       "</g>\n",
       "<polyline clip-path=\"url(#clip5902)\" style=\"stroke:#009af9; stroke-width:6; stroke-opacity:1; fill:none\" points=\"\n",
       "  209.52,88.4582 258.335,163.023 307.15,234.877 355.965,304.07 404.78,370.653 453.595,434.674 502.41,496.186 551.225,555.237 600.04,611.878 648.856,666.16 \n",
       "  697.671,718.132 746.486,767.845 795.301,815.349 844.116,860.694 892.931,903.93 941.746,945.108 990.561,984.277 1039.38,1021.49 1088.19,1056.79 1137.01,1090.24 \n",
       "  1185.82,1121.88 1234.64,1151.76 1283.45,1179.93 1332.27,1206.45 1381.08,1231.36 1429.9,1254.72 1478.71,1276.56 1527.53,1296.96 1576.34,1315.94 1625.16,1333.57 \n",
       "  1673.97,1349.9 1722.79,1364.97 1771.6,1378.83 1820.42,1391.54 1869.23,1403.15 1918.05,1413.7 1966.86,1423.25 2015.68,1431.84 2064.49,1439.53 2113.31,1446.37 \n",
       "  2162.12,1452.4 2210.94,1457.68 2259.75,1462.26 \n",
       "  \"/>\n",
       "<polyline clip-path=\"url(#clip5902)\" style=\"stroke:#ff0000; stroke-width:4; stroke-opacity:1; fill:none\" stroke-dasharray=\"16, 10\" points=\"\n",
       "  209.52,1462.26 258.335,1462.26 307.15,1462.26 355.965,1462.26 404.78,1462.26 453.595,1462.26 502.41,1462.26 551.225,1462.26 600.04,1462.26 648.856,1462.26 \n",
       "  697.671,1462.26 746.486,1462.26 795.301,1462.26 844.116,1462.26 892.931,1462.26 941.746,1462.26 990.561,1462.26 1039.38,1462.26 1088.19,1462.26 1137.01,1462.26 \n",
       "  1185.82,1462.26 1234.64,1462.26 1283.45,1462.26 1332.27,1462.26 1381.08,1462.26 1429.9,1462.26 1478.71,1462.26 1527.53,1462.26 1576.34,1462.26 1625.16,1462.26 \n",
       "  1673.97,1462.26 1722.79,1462.26 1771.6,1462.26 1820.42,1462.26 1869.23,1462.26 1918.05,1462.26 1966.86,1462.26 2015.68,1462.26 2064.49,1462.26 2113.31,1462.26 \n",
       "  2162.12,1462.26 2210.94,1462.26 2259.75,1462.26 \n",
       "  \"/>\n",
       "<polyline clip-path=\"url(#clip5902)\" style=\"stroke:#ff0000; stroke-width:4; stroke-opacity:1; fill:none\" stroke-dasharray=\"16, 10\" points=\"\n",
       "  209.52,88.4586 258.335,88.4586 307.15,88.4586 355.965,88.4586 404.78,88.4586 453.595,88.4586 502.41,88.4586 551.225,88.4586 600.04,88.4586 648.856,88.4586 \n",
       "  697.671,88.4586 746.486,88.4586 795.301,88.4586 844.116,88.4586 892.931,88.4586 941.746,88.4586 990.561,88.4586 1039.38,88.4586 1088.19,88.4586 1137.01,88.4586 \n",
       "  1185.82,88.4586 1234.64,88.4586 1283.45,88.4586 1332.27,88.4586 1381.08,88.4586 1429.9,88.4586 1478.71,88.4586 1527.53,88.4586 1576.34,88.4586 1625.16,88.4586 \n",
       "  1673.97,88.4586 1722.79,88.4586 1771.6,88.4586 1820.42,88.4586 1869.23,88.4586 1918.05,88.4586 1966.86,88.4586 2015.68,88.4586 2064.49,88.4586 2113.31,88.4586 \n",
       "  2162.12,88.4586 2210.94,88.4586 2259.75,88.4586 \n",
       "  \"/>\n",
       "<polygon clip-path=\"url(#clip5900)\" points=\"\n",
       "1830.01,372.684 2249.26,372.684 2249.26,130.764 1830.01,130.764 \n",
       "  \" fill=\"#ffffff\" fill-rule=\"evenodd\" fill-opacity=\"1\"/>\n",
       "<polyline clip-path=\"url(#clip5900)\" style=\"stroke:#000000; stroke-width:4; stroke-opacity:1; fill:none\" points=\"\n",
       "  1830.01,372.684 2249.26,372.684 2249.26,130.764 1830.01,130.764 1830.01,372.684 \n",
       "  \"/>\n",
       "<polyline clip-path=\"url(#clip5900)\" style=\"stroke:#009af9; stroke-width:6; stroke-opacity:1; fill:none\" points=\"\n",
       "  1854.01,191.244 1998.01,191.244 \n",
       "  \"/>\n",
       "<g clip-path=\"url(#clip5900)\">\n",
       "<text style=\"fill:#000000; fill-opacity:1; font-family:Arial,Helvetica Neue,Helvetica,sans-serif; font-size:48px; text-anchor:start;\" transform=\"rotate(0, 2022.01, 208.744)\" x=\"2022.01\" y=\"208.744\">bspline0</text>\n",
       "</g>\n",
       "<polyline clip-path=\"url(#clip5900)\" style=\"stroke:#ff0000; stroke-width:4; stroke-opacity:1; fill:none\" stroke-dasharray=\"16, 10\" points=\"\n",
       "  1854.01,251.724 1998.01,251.724 \n",
       "  \"/>\n",
       "<g clip-path=\"url(#clip5900)\">\n",
       "<text style=\"fill:#000000; fill-opacity:1; font-family:Arial,Helvetica Neue,Helvetica,sans-serif; font-size:48px; text-anchor:start;\" transform=\"rotate(0, 2022.01, 269.224)\" x=\"2022.01\" y=\"269.224\">y2</text>\n",
       "</g>\n",
       "<polyline clip-path=\"url(#clip5900)\" style=\"stroke:#ff0000; stroke-width:4; stroke-opacity:1; fill:none\" stroke-dasharray=\"16, 10\" points=\"\n",
       "  1854.01,312.204 1998.01,312.204 \n",
       "  \"/>\n",
       "<g clip-path=\"url(#clip5900)\">\n",
       "<text style=\"fill:#000000; fill-opacity:1; font-family:Arial,Helvetica Neue,Helvetica,sans-serif; font-size:48px; text-anchor:start;\" transform=\"rotate(0, 2022.01, 329.704)\" x=\"2022.01\" y=\"329.704\">y3</text>\n",
       "</g>\n",
       "</svg>\n"
      ]
     },
     "execution_count": 31,
     "metadata": {},
     "output_type": "execute_result"
    }
   ],
   "source": [
    "plot(x -> p(x), inf(dom):0.1:sup(dom), lw=1.5, lab=model_name)\n",
    "plot!(x -> min_bound, inf(dom):0.1:sup(dom), color=:red, linestyle=:dash)\n",
    "plot!(x -> max_bound, inf(dom):0.1:sup(dom), color=:red, linestyle=:dash)"
   ]
  },
  {
   "cell_type": "code",
   "execution_count": 52,
   "metadata": {},
   "outputs": [
    {
     "data": {
      "text/plain": [
       "[-4.5, -0.299999]"
      ]
     },
     "execution_count": 52,
     "metadata": {},
     "output_type": "execute_result"
    }
   ],
   "source": [
    "a"
   ]
  },
  {
   "cell_type": "code",
   "execution_count": 6,
   "metadata": {},
   "outputs": [
    {
     "data": {
      "text/plain": [
       "(0.36616666666666675, 27.729166666666668)"
      ]
     },
     "execution_count": 6,
     "metadata": {},
     "output_type": "execute_result"
    }
   ],
   "source": [
    "# evaluation at the extreme points\n",
    "bspline0(x) = (1 - x) * (1 - x) * (1 - x) / 6.0\n",
    "bspline0(sup(a)), bspline0(inf(a))"
   ]
  },
  {
   "cell_type": "code",
   "execution_count": 56,
   "metadata": {},
   "outputs": [
    {
     "data": {
      "text/plain": [
       " 1.0 t + [0, 0]"
      ]
     },
     "execution_count": 56,
     "metadata": {},
     "output_type": "execute_result"
    }
   ],
   "source": [
    "ord = 2\n",
    "dom = a\n",
    "\n",
    "y = TaylorModel1(ord, Interval(mid(dom)), dom)\n",
    "\n",
    "xord = TaylorModel1(Taylor1(ord)+mid(dom), 0..0, Interval(mid(dom)), dom)\n",
    "x2ord = TaylorModel1(Taylor1(2ord), 0..0, Interval(mid(dom)), dom)"
   ]
  },
  {
   "cell_type": "code",
   "execution_count": 63,
   "metadata": {},
   "outputs": [
    {
     "data": {
      "text/plain": [
       "[-14.6279, 27.7292]"
      ]
     },
     "execution_count": 63,
     "metadata": {},
     "output_type": "execute_result"
    }
   ],
   "source": [
    "evaluate(bspline0(y), dom - mid(dom))"
   ]
  },
  {
   "cell_type": "code",
   "execution_count": 54,
   "metadata": {},
   "outputs": [
    {
     "data": {
      "text/plain": [
       "[-2.4, -2.39999]"
      ]
     },
     "execution_count": 54,
     "metadata": {},
     "output_type": "execute_result"
    }
   ],
   "source": [
    "evaluate(xord, Interval(mid(dom)))"
   ]
  },
  {
   "cell_type": "code",
   "execution_count": 53,
   "metadata": {},
   "outputs": [
    {
     "data": {
      "text/plain": [
       " 0.16666666666666666 - 0.5 t + 0.5 t² - 0.16666666666666666 t³ + [0, 0]"
      ]
     },
     "execution_count": 53,
     "metadata": {},
     "output_type": "execute_result"
    }
   ],
   "source": [
    "bspline0(x2ord)"
   ]
  },
  {
   "cell_type": "code",
   "execution_count": 55,
   "metadata": {},
   "outputs": [
    {
     "data": {
      "text/plain": [
       "[-14.6279, 27.7292]"
      ]
     },
     "execution_count": 55,
     "metadata": {},
     "output_type": "execute_result"
    }
   ],
   "source": [
    "evaluate(bspline0(x), dom - mid(dom))"
   ]
  },
  {
   "cell_type": "code",
   "execution_count": 24,
   "metadata": {},
   "outputs": [
    {
     "data": {
      "text/plain": [
       "[-4.63184, 4.96517]"
      ]
     },
     "execution_count": 24,
     "metadata": {},
     "output_type": "execute_result"
    }
   ],
   "source": [
    "evaluate(bspline0(x2ord), dom - mid(dom)) # wrong on the right"
   ]
  },
  {
   "cell_type": "code",
   "execution_count": 22,
   "metadata": {},
   "outputs": [
    {
     "data": {
      "text/plain": [
       "[-1.18184, 14.0852]"
      ]
     },
     "execution_count": 22,
     "metadata": {},
     "output_type": "execute_result"
    }
   ],
   "source": [
    "evaluate(bspline0(x), dom) # wrong on the right"
   ]
  },
  {
   "cell_type": "code",
   "execution_count": 26,
   "metadata": {},
   "outputs": [
    {
     "data": {
      "text/plain": [
       "[0.366166, 27.7292]"
      ]
     },
     "execution_count": 26,
     "metadata": {},
     "output_type": "execute_result"
    }
   ],
   "source": [
    "evaluate(bspline0(x2ord), dom) # ok"
   ]
  },
  {
   "cell_type": "code",
   "execution_count": 30,
   "metadata": {},
   "outputs": [
    {
     "data": {
      "text/plain": [
       "[3.61816, 28.9652]"
      ]
     },
     "execution_count": 30,
     "metadata": {},
     "output_type": "execute_result"
    }
   ],
   "source": [
    "evaluate(bspline0(x), dom+mid(dom)) # wrong on the left"
   ]
  },
  {
   "cell_type": "code",
   "execution_count": null,
   "metadata": {},
   "outputs": [],
   "source": []
  },
  {
   "cell_type": "markdown",
   "metadata": {},
   "source": [
    "## bspline1"
   ]
  },
  {
   "cell_type": "code",
   "execution_count": 131,
   "metadata": {},
   "outputs": [
    {
     "data": {
      "text/plain": [
       "(-65.14582571514087, 0.5631666653631329)"
      ]
     },
     "execution_count": 131,
     "metadata": {},
     "output_type": "execute_result"
    }
   ],
   "source": [
    "# =============\n",
    "# upper bound\n",
    "# =============\n",
    "\n",
    "model_name = \"bspline1\"\n",
    "#model = SOSModel(with_optimizer(SDPA.Optimizer))\n",
    "model = SOSModel(with_optimizer(Mosek.Optimizer, QUIET=true))\n",
    "k = 5\n",
    "@polyvar x\n",
    "p = (3*x*x*x - 6*x*x + 4) / 6.0\n",
    "dom = a\n",
    "@variable(model, γ)\n",
    "S = @set inf(dom) <= x && x <= sup(dom)\n",
    "@constraint(model, p <= γ, domain=S, maxdegree=k)\n",
    "@objective(model, Min, γ)\n",
    "optimize!(model)\n",
    "max_bound = objective_value(model)\n",
    "\n",
    "# =============\n",
    "# lower bound\n",
    "# =============\n",
    "\n",
    "#model = SOSModel(with_optimizer(SDPA.Optimizer))\n",
    "model = SOSModel(with_optimizer(Mosek.Optimizer, QUIET=true))\n",
    "@variable(model, γ)\n",
    "S = @set inf(dom) <= x && x <= sup(dom)\n",
    "@constraint(model, p >= γ, domain=S, maxdegree=k)\n",
    "@objective(model, Max, γ)\n",
    "model\n",
    "optimize!(model)\n",
    "min_bound = objective_value(model)\n",
    "REF[model_name] = (min_bound, max_bound)"
   ]
  },
  {
   "cell_type": "code",
   "execution_count": 132,
   "metadata": {},
   "outputs": [
    {
     "data": {
      "text/plain": [
       "0.0020368099212646484"
      ]
     },
     "execution_count": 132,
     "metadata": {},
     "output_type": "execute_result"
    }
   ],
   "source": [
    "MOI.get(model, MOI.SolveTime())"
   ]
  },
  {
   "cell_type": "code",
   "execution_count": 133,
   "metadata": {},
   "outputs": [
    {
     "data": {
      "image/svg+xml": [
       "<?xml version=\"1.0\" encoding=\"utf-8\"?>\n",
       "<svg xmlns=\"http://www.w3.org/2000/svg\" xmlns:xlink=\"http://www.w3.org/1999/xlink\" width=\"600\" height=\"400\" viewBox=\"0 0 2400 1600\">\n",
       "<defs>\n",
       "  <clipPath id=\"clip9100\">\n",
       "    <rect x=\"0\" y=\"0\" width=\"2400\" height=\"1600\"/>\n",
       "  </clipPath>\n",
       "</defs>\n",
       "<polygon clip-path=\"url(#clip9100)\" points=\"\n",
       "0,1600 2400,1600 2400,0 0,0 \n",
       "  \" fill=\"#ffffff\" fill-rule=\"evenodd\" fill-opacity=\"1\"/>\n",
       "<defs>\n",
       "  <clipPath id=\"clip9101\">\n",
       "    <rect x=\"480\" y=\"0\" width=\"1681\" height=\"1600\"/>\n",
       "  </clipPath>\n",
       "</defs>\n",
       "<polygon clip-path=\"url(#clip9100)\" points=\"\n",
       "176.123,1503.47 2321.26,1503.47 2321.26,47.2441 176.123,47.2441 \n",
       "  \" fill=\"#ffffff\" fill-rule=\"evenodd\" fill-opacity=\"1\"/>\n",
       "<defs>\n",
       "  <clipPath id=\"clip9102\">\n",
       "    <rect x=\"176\" y=\"47\" width=\"2146\" height=\"1457\"/>\n",
       "  </clipPath>\n",
       "</defs>\n",
       "<polyline clip-path=\"url(#clip9102)\" style=\"stroke:#000000; stroke-width:2; stroke-opacity:0.1; fill:none\" points=\"\n",
       "  477.753,1503.47 477.753,47.2441 \n",
       "  \"/>\n",
       "<polyline clip-path=\"url(#clip9102)\" style=\"stroke:#000000; stroke-width:2; stroke-opacity:0.1; fill:none\" points=\"\n",
       "  959.589,1503.47 959.589,47.2441 \n",
       "  \"/>\n",
       "<polyline clip-path=\"url(#clip9102)\" style=\"stroke:#000000; stroke-width:2; stroke-opacity:0.1; fill:none\" points=\"\n",
       "  1441.43,1503.47 1441.43,47.2441 \n",
       "  \"/>\n",
       "<polyline clip-path=\"url(#clip9102)\" style=\"stroke:#000000; stroke-width:2; stroke-opacity:0.1; fill:none\" points=\"\n",
       "  1923.26,1503.47 1923.26,47.2441 \n",
       "  \"/>\n",
       "<polyline clip-path=\"url(#clip9102)\" style=\"stroke:#000000; stroke-width:2; stroke-opacity:0.1; fill:none\" points=\"\n",
       "  176.123,1354.67 2321.26,1354.67 \n",
       "  \"/>\n",
       "<polyline clip-path=\"url(#clip9102)\" style=\"stroke:#000000; stroke-width:2; stroke-opacity:0.1; fill:none\" points=\"\n",
       "  176.123,1145.6 2321.26,1145.6 \n",
       "  \"/>\n",
       "<polyline clip-path=\"url(#clip9102)\" style=\"stroke:#000000; stroke-width:2; stroke-opacity:0.1; fill:none\" points=\"\n",
       "  176.123,936.527 2321.26,936.527 \n",
       "  \"/>\n",
       "<polyline clip-path=\"url(#clip9102)\" style=\"stroke:#000000; stroke-width:2; stroke-opacity:0.1; fill:none\" points=\"\n",
       "  176.123,727.454 2321.26,727.454 \n",
       "  \"/>\n",
       "<polyline clip-path=\"url(#clip9102)\" style=\"stroke:#000000; stroke-width:2; stroke-opacity:0.1; fill:none\" points=\"\n",
       "  176.123,518.38 2321.26,518.38 \n",
       "  \"/>\n",
       "<polyline clip-path=\"url(#clip9102)\" style=\"stroke:#000000; stroke-width:2; stroke-opacity:0.1; fill:none\" points=\"\n",
       "  176.123,309.306 2321.26,309.306 \n",
       "  \"/>\n",
       "<polyline clip-path=\"url(#clip9102)\" style=\"stroke:#000000; stroke-width:2; stroke-opacity:0.1; fill:none\" points=\"\n",
       "  176.123,100.233 2321.26,100.233 \n",
       "  \"/>\n",
       "<polyline clip-path=\"url(#clip9100)\" style=\"stroke:#000000; stroke-width:4; stroke-opacity:1; fill:none\" points=\"\n",
       "  176.123,1503.47 2321.26,1503.47 \n",
       "  \"/>\n",
       "<polyline clip-path=\"url(#clip9100)\" style=\"stroke:#000000; stroke-width:4; stroke-opacity:1; fill:none\" points=\"\n",
       "  176.123,1503.47 176.123,47.2441 \n",
       "  \"/>\n",
       "<polyline clip-path=\"url(#clip9100)\" style=\"stroke:#000000; stroke-width:4; stroke-opacity:1; fill:none\" points=\"\n",
       "  477.753,1503.47 477.753,1481.63 \n",
       "  \"/>\n",
       "<polyline clip-path=\"url(#clip9100)\" style=\"stroke:#000000; stroke-width:4; stroke-opacity:1; fill:none\" points=\"\n",
       "  959.589,1503.47 959.589,1481.63 \n",
       "  \"/>\n",
       "<polyline clip-path=\"url(#clip9100)\" style=\"stroke:#000000; stroke-width:4; stroke-opacity:1; fill:none\" points=\"\n",
       "  1441.43,1503.47 1441.43,1481.63 \n",
       "  \"/>\n",
       "<polyline clip-path=\"url(#clip9100)\" style=\"stroke:#000000; stroke-width:4; stroke-opacity:1; fill:none\" points=\"\n",
       "  1923.26,1503.47 1923.26,1481.63 \n",
       "  \"/>\n",
       "<polyline clip-path=\"url(#clip9100)\" style=\"stroke:#000000; stroke-width:4; stroke-opacity:1; fill:none\" points=\"\n",
       "  176.123,1354.67 208.3,1354.67 \n",
       "  \"/>\n",
       "<polyline clip-path=\"url(#clip9100)\" style=\"stroke:#000000; stroke-width:4; stroke-opacity:1; fill:none\" points=\"\n",
       "  176.123,1145.6 208.3,1145.6 \n",
       "  \"/>\n",
       "<polyline clip-path=\"url(#clip9100)\" style=\"stroke:#000000; stroke-width:4; stroke-opacity:1; fill:none\" points=\"\n",
       "  176.123,936.527 208.3,936.527 \n",
       "  \"/>\n",
       "<polyline clip-path=\"url(#clip9100)\" style=\"stroke:#000000; stroke-width:4; stroke-opacity:1; fill:none\" points=\"\n",
       "  176.123,727.454 208.3,727.454 \n",
       "  \"/>\n",
       "<polyline clip-path=\"url(#clip9100)\" style=\"stroke:#000000; stroke-width:4; stroke-opacity:1; fill:none\" points=\"\n",
       "  176.123,518.38 208.3,518.38 \n",
       "  \"/>\n",
       "<polyline clip-path=\"url(#clip9100)\" style=\"stroke:#000000; stroke-width:4; stroke-opacity:1; fill:none\" points=\"\n",
       "  176.123,309.306 208.3,309.306 \n",
       "  \"/>\n",
       "<polyline clip-path=\"url(#clip9100)\" style=\"stroke:#000000; stroke-width:4; stroke-opacity:1; fill:none\" points=\"\n",
       "  176.123,100.233 208.3,100.233 \n",
       "  \"/>\n",
       "<g clip-path=\"url(#clip9100)\">\n",
       "<text style=\"fill:#000000; fill-opacity:1; font-family:Arial,Helvetica Neue,Helvetica,sans-serif; font-size:48px; text-anchor:middle;\" transform=\"rotate(0, 477.753, 1557.47)\" x=\"477.753\" y=\"1557.47\">-4</text>\n",
       "</g>\n",
       "<g clip-path=\"url(#clip9100)\">\n",
       "<text style=\"fill:#000000; fill-opacity:1; font-family:Arial,Helvetica Neue,Helvetica,sans-serif; font-size:48px; text-anchor:middle;\" transform=\"rotate(0, 959.589, 1557.47)\" x=\"959.589\" y=\"1557.47\">-3</text>\n",
       "</g>\n",
       "<g clip-path=\"url(#clip9100)\">\n",
       "<text style=\"fill:#000000; fill-opacity:1; font-family:Arial,Helvetica Neue,Helvetica,sans-serif; font-size:48px; text-anchor:middle;\" transform=\"rotate(0, 1441.43, 1557.47)\" x=\"1441.43\" y=\"1557.47\">-2</text>\n",
       "</g>\n",
       "<g clip-path=\"url(#clip9100)\">\n",
       "<text style=\"fill:#000000; fill-opacity:1; font-family:Arial,Helvetica Neue,Helvetica,sans-serif; font-size:48px; text-anchor:middle;\" transform=\"rotate(0, 1923.26, 1557.47)\" x=\"1923.26\" y=\"1557.47\">-1</text>\n",
       "</g>\n",
       "<g clip-path=\"url(#clip9100)\">\n",
       "<text style=\"fill:#000000; fill-opacity:1; font-family:Arial,Helvetica Neue,Helvetica,sans-serif; font-size:48px; text-anchor:end;\" transform=\"rotate(0, 152.123, 1372.17)\" x=\"152.123\" y=\"1372.17\">-60</text>\n",
       "</g>\n",
       "<g clip-path=\"url(#clip9100)\">\n",
       "<text style=\"fill:#000000; fill-opacity:1; font-family:Arial,Helvetica Neue,Helvetica,sans-serif; font-size:48px; text-anchor:end;\" transform=\"rotate(0, 152.123, 1163.1)\" x=\"152.123\" y=\"1163.1\">-50</text>\n",
       "</g>\n",
       "<g clip-path=\"url(#clip9100)\">\n",
       "<text style=\"fill:#000000; fill-opacity:1; font-family:Arial,Helvetica Neue,Helvetica,sans-serif; font-size:48px; text-anchor:end;\" transform=\"rotate(0, 152.123, 954.027)\" x=\"152.123\" y=\"954.027\">-40</text>\n",
       "</g>\n",
       "<g clip-path=\"url(#clip9100)\">\n",
       "<text style=\"fill:#000000; fill-opacity:1; font-family:Arial,Helvetica Neue,Helvetica,sans-serif; font-size:48px; text-anchor:end;\" transform=\"rotate(0, 152.123, 744.954)\" x=\"152.123\" y=\"744.954\">-30</text>\n",
       "</g>\n",
       "<g clip-path=\"url(#clip9100)\">\n",
       "<text style=\"fill:#000000; fill-opacity:1; font-family:Arial,Helvetica Neue,Helvetica,sans-serif; font-size:48px; text-anchor:end;\" transform=\"rotate(0, 152.123, 535.88)\" x=\"152.123\" y=\"535.88\">-20</text>\n",
       "</g>\n",
       "<g clip-path=\"url(#clip9100)\">\n",
       "<text style=\"fill:#000000; fill-opacity:1; font-family:Arial,Helvetica Neue,Helvetica,sans-serif; font-size:48px; text-anchor:end;\" transform=\"rotate(0, 152.123, 326.806)\" x=\"152.123\" y=\"326.806\">-10</text>\n",
       "</g>\n",
       "<g clip-path=\"url(#clip9100)\">\n",
       "<text style=\"fill:#000000; fill-opacity:1; font-family:Arial,Helvetica Neue,Helvetica,sans-serif; font-size:48px; text-anchor:end;\" transform=\"rotate(0, 152.123, 117.733)\" x=\"152.123\" y=\"117.733\">0</text>\n",
       "</g>\n",
       "<polyline clip-path=\"url(#clip9102)\" style=\"stroke:#009af9; stroke-width:6; stroke-opacity:1; fill:none\" points=\"\n",
       "  236.834,1462.26 285.018,1381.55 333.202,1304.01 381.385,1229.59 429.569,1158.23 477.753,1089.85 525.936,1024.4 574.12,961.811 622.304,902.027 670.487,844.981 \n",
       "  718.671,790.611 766.855,738.855 815.038,689.65 863.222,642.932 911.406,598.64 959.589,556.71 1007.77,517.08 1055.96,479.687 1104.14,444.469 1152.32,411.362 \n",
       "  1200.51,380.304 1248.69,351.232 1296.88,324.084 1345.06,298.797 1393.24,275.307 1441.43,253.553 1489.61,233.472 1537.79,215 1585.98,198.076 1634.16,182.635 \n",
       "  1682.34,168.617 1730.53,155.958 1778.71,144.594 1826.9,134.465 1875.08,125.506 1923.26,117.655 1971.45,110.85 2019.63,105.027 2067.81,100.124 2116,96.0789 \n",
       "  2164.18,92.8278 2212.36,90.3085 2260.55,88.4582 \n",
       "  \"/>\n",
       "<polyline clip-path=\"url(#clip9102)\" style=\"stroke:#ff0000; stroke-width:4; stroke-opacity:1; fill:none\" stroke-dasharray=\"16, 10\" points=\"\n",
       "  236.834,1462.26 285.018,1462.26 333.202,1462.26 381.385,1462.26 429.569,1462.26 477.753,1462.26 525.936,1462.26 574.12,1462.26 622.304,1462.26 670.487,1462.26 \n",
       "  718.671,1462.26 766.855,1462.26 815.038,1462.26 863.222,1462.26 911.406,1462.26 959.589,1462.26 1007.77,1462.26 1055.96,1462.26 1104.14,1462.26 1152.32,1462.26 \n",
       "  1200.51,1462.26 1248.69,1462.26 1296.88,1462.26 1345.06,1462.26 1393.24,1462.26 1441.43,1462.26 1489.61,1462.26 1537.79,1462.26 1585.98,1462.26 1634.16,1462.26 \n",
       "  1682.34,1462.26 1730.53,1462.26 1778.71,1462.26 1826.9,1462.26 1875.08,1462.26 1923.26,1462.26 1971.45,1462.26 2019.63,1462.26 2067.81,1462.26 2116,1462.26 \n",
       "  2164.18,1462.26 2212.36,1462.26 2260.55,1462.26 \n",
       "  \"/>\n",
       "<polyline clip-path=\"url(#clip9102)\" style=\"stroke:#ff0000; stroke-width:4; stroke-opacity:1; fill:none\" stroke-dasharray=\"16, 10\" points=\"\n",
       "  236.834,88.4582 285.018,88.4582 333.202,88.4582 381.385,88.4582 429.569,88.4582 477.753,88.4582 525.936,88.4582 574.12,88.4582 622.304,88.4582 670.487,88.4582 \n",
       "  718.671,88.4582 766.855,88.4582 815.038,88.4582 863.222,88.4582 911.406,88.4582 959.589,88.4582 1007.77,88.4582 1055.96,88.4582 1104.14,88.4582 1152.32,88.4582 \n",
       "  1200.51,88.4582 1248.69,88.4582 1296.88,88.4582 1345.06,88.4582 1393.24,88.4582 1441.43,88.4582 1489.61,88.4582 1537.79,88.4582 1585.98,88.4582 1634.16,88.4582 \n",
       "  1682.34,88.4582 1730.53,88.4582 1778.71,88.4582 1826.9,88.4582 1875.08,88.4582 1923.26,88.4582 1971.45,88.4582 2019.63,88.4582 2067.81,88.4582 2116,88.4582 \n",
       "  2164.18,88.4582 2212.36,88.4582 2260.55,88.4582 \n",
       "  \"/>\n",
       "<polygon clip-path=\"url(#clip9100)\" points=\"\n",
       "1830.01,1359.47 2249.26,1359.47 2249.26,1117.55 1830.01,1117.55 \n",
       "  \" fill=\"#ffffff\" fill-rule=\"evenodd\" fill-opacity=\"1\"/>\n",
       "<polyline clip-path=\"url(#clip9100)\" style=\"stroke:#000000; stroke-width:4; stroke-opacity:1; fill:none\" points=\"\n",
       "  1830.01,1359.47 2249.26,1359.47 2249.26,1117.55 1830.01,1117.55 1830.01,1359.47 \n",
       "  \"/>\n",
       "<polyline clip-path=\"url(#clip9100)\" style=\"stroke:#009af9; stroke-width:6; stroke-opacity:1; fill:none\" points=\"\n",
       "  1854.01,1178.03 1998.01,1178.03 \n",
       "  \"/>\n",
       "<g clip-path=\"url(#clip9100)\">\n",
       "<text style=\"fill:#000000; fill-opacity:1; font-family:Arial,Helvetica Neue,Helvetica,sans-serif; font-size:48px; text-anchor:start;\" transform=\"rotate(0, 2022.01, 1195.53)\" x=\"2022.01\" y=\"1195.53\">bspline1</text>\n",
       "</g>\n",
       "<polyline clip-path=\"url(#clip9100)\" style=\"stroke:#ff0000; stroke-width:4; stroke-opacity:1; fill:none\" stroke-dasharray=\"16, 10\" points=\"\n",
       "  1854.01,1238.51 1998.01,1238.51 \n",
       "  \"/>\n",
       "<g clip-path=\"url(#clip9100)\">\n",
       "<text style=\"fill:#000000; fill-opacity:1; font-family:Arial,Helvetica Neue,Helvetica,sans-serif; font-size:48px; text-anchor:start;\" transform=\"rotate(0, 2022.01, 1256.01)\" x=\"2022.01\" y=\"1256.01\">y2</text>\n",
       "</g>\n",
       "<polyline clip-path=\"url(#clip9100)\" style=\"stroke:#ff0000; stroke-width:4; stroke-opacity:1; fill:none\" stroke-dasharray=\"16, 10\" points=\"\n",
       "  1854.01,1298.99 1998.01,1298.99 \n",
       "  \"/>\n",
       "<g clip-path=\"url(#clip9100)\">\n",
       "<text style=\"fill:#000000; fill-opacity:1; font-family:Arial,Helvetica Neue,Helvetica,sans-serif; font-size:48px; text-anchor:start;\" transform=\"rotate(0, 2022.01, 1316.49)\" x=\"2022.01\" y=\"1316.49\">y3</text>\n",
       "</g>\n",
       "</svg>\n"
      ]
     },
     "execution_count": 133,
     "metadata": {},
     "output_type": "execute_result"
    }
   ],
   "source": [
    "plot(x -> p(x), inf(dom):0.1:sup(dom), lw=1.5, lab=model_name, legend=:bottomright)\n",
    "plot!(x -> min_bound, inf(dom):0.1:sup(dom), color=:red, linestyle=:dash)\n",
    "plot!(x -> max_bound, inf(dom):0.1:sup(dom), color=:red, linestyle=:dash)"
   ]
  },
  {
   "cell_type": "code",
   "execution_count": 177,
   "metadata": {},
   "outputs": [
    {
     "data": {
      "text/plain": [
       "(-65.14583333333333, 0.5631666666666667)"
      ]
     },
     "execution_count": 177,
     "metadata": {},
     "output_type": "execute_result"
    }
   ],
   "source": [
    "# evaluation at the extreme points\n",
    "bspline1(x) = (3*x*x*x - 6*x*x + 4) / 6.0\n",
    "bspline1(inf(a)), bspline1(sup(a))"
   ]
  },
  {
   "cell_type": "code",
   "execution_count": 215,
   "metadata": {},
   "outputs": [
    {
     "data": {
      "text/plain": [
       "[-4.5, -0.299999]"
      ]
     },
     "execution_count": 215,
     "metadata": {},
     "output_type": "execute_result"
    }
   ],
   "source": [
    "a"
   ]
  },
  {
   "cell_type": "code",
   "execution_count": 206,
   "metadata": {},
   "outputs": [
    {
     "data": {
      "text/plain": [
       " [-2.4, -2.39999] + [1, 1] t + [0, 0]"
      ]
     },
     "execution_count": 206,
     "metadata": {},
     "output_type": "execute_result"
    }
   ],
   "source": [
    "ord = 2\n",
    "dom = a\n",
    "x0 = Interval(mid(dom))\n",
    "y = TaylorModel1(ord, x0, dom)"
   ]
  },
  {
   "cell_type": "code",
   "execution_count": 207,
   "metadata": {},
   "outputs": [
    {
     "data": {
      "text/plain": [
       "[-65.1459, 41.1352]"
      ]
     },
     "execution_count": 207,
     "metadata": {},
     "output_type": "execute_result"
    }
   ],
   "source": [
    "evaluate(bspline1(y), dom - x0) # taylor model substitution"
   ]
  },
  {
   "cell_type": "code",
   "execution_count": 208,
   "metadata": {},
   "outputs": [
    {
     "data": {
      "text/plain": [
       "[-65.1459, 0.563167]"
      ]
     },
     "execution_count": 208,
     "metadata": {},
     "output_type": "execute_result"
    }
   ],
   "source": [
    "bspline1(dom...) # interval substitution"
   ]
  },
  {
   "cell_type": "code",
   "execution_count": 223,
   "metadata": {},
   "outputs": [
    {
     "data": {
      "text/plain": [
       "[-65.1459, 20.8492]"
      ]
     },
     "execution_count": 223,
     "metadata": {},
     "output_type": "execute_result"
    }
   ],
   "source": [
    "# normalize and evaluate\n",
    "ynorm = normalize_taylor(y.pol, dom - x0, true)\n",
    "ynormTM = TaylorModel1(ynorm, 0..0, 0..0, -1..1)\n",
    "evaluate(bspline1(ynormTM), -1..1)    # taylor model with substitution"
   ]
  },
  {
   "cell_type": "code",
   "execution_count": 224,
   "metadata": {},
   "outputs": [
    {
     "data": {
      "text/plain": [
       "([-4.5, -0.299999], [-4.5, -0.299999])"
      ]
     },
     "execution_count": 224,
     "metadata": {},
     "output_type": "execute_result"
    }
   ],
   "source": [
    "ynorm(-1..1), ynormTM(-1..1)"
   ]
  },
  {
   "cell_type": "markdown",
   "metadata": {},
   "source": [
    "---"
   ]
  },
  {
   "cell_type": "code",
   "execution_count": 236,
   "metadata": {},
   "outputs": [
    {
     "data": {
      "text/plain": [
       "[-19.5834, 4.98667]"
      ]
     },
     "execution_count": 236,
     "metadata": {},
     "output_type": "execute_result"
    }
   ],
   "source": [
    "x1 = Taylor1(2)\n",
    "evaluate(normalize_taylor(bspline1(x1), dom, true), -1..1)"
   ]
  },
  {
   "cell_type": "code",
   "execution_count": null,
   "metadata": {},
   "outputs": [],
   "source": []
  },
  {
   "cell_type": "code",
   "execution_count": null,
   "metadata": {},
   "outputs": [],
   "source": []
  },
  {
   "cell_type": "markdown",
   "metadata": {},
   "source": [
    "## bspline2"
   ]
  },
  {
   "cell_type": "code",
   "execution_count": 19,
   "metadata": {},
   "outputs": [
    {
     "data": {
      "text/plain": [
       "(0.07407409110429998, 53.60416638772985)"
      ]
     },
     "execution_count": 19,
     "metadata": {},
     "output_type": "execute_result"
    }
   ],
   "source": [
    "# =============\n",
    "# upper bound\n",
    "# =============\n",
    "\n",
    "model_name = \"bspline2\"\n",
    "#model = SOSModel(with_optimizer(SDPA.Optimizer))\n",
    "model = SOSModel(with_optimizer(Mosek.Optimizer, QUIET=true))\n",
    "k = 6\n",
    "@polyvar x\n",
    "p = (-3*x*x*x  + 3*x*x + 3*x + 1) / 6.0\n",
    "dom = a\n",
    "@variable(model, γ)\n",
    "S = @set inf(dom) <= x && x <= sup(dom)\n",
    "@constraint(model, p <= γ, domain=S, maxdegree=k)\n",
    "@objective(model, Min, γ)\n",
    "optimize!(model)\n",
    "max_bound = objective_value(model)\n",
    "\n",
    "# =============\n",
    "# lower bound\n",
    "# =============\n",
    "\n",
    "#model = SOSModel(with_optimizer(SDPA.Optimizer))\n",
    "model = SOSModel(with_optimizer(Mosek.Optimizer, QUIET=true))\n",
    "@variable(model, γ)\n",
    "S = @set inf(dom) <= x && x <= sup(dom)\n",
    "@constraint(model, p >= γ, domain=S, maxdegree=k)\n",
    "@objective(model, Max, γ)\n",
    "optimize!(model)\n",
    "min_bound = objective_value(model)\n",
    "REF[model_name] = (min_bound, max_bound)"
   ]
  },
  {
   "cell_type": "code",
   "execution_count": 15,
   "metadata": {},
   "outputs": [
    {
     "data": {
      "image/svg+xml": [
       "<?xml version=\"1.0\" encoding=\"utf-8\"?>\n",
       "<svg xmlns=\"http://www.w3.org/2000/svg\" xmlns:xlink=\"http://www.w3.org/1999/xlink\" width=\"600\" height=\"400\" viewBox=\"0 0 2400 1600\">\n",
       "<defs>\n",
       "  <clipPath id=\"clip5700\">\n",
       "    <rect x=\"0\" y=\"0\" width=\"2400\" height=\"1600\"/>\n",
       "  </clipPath>\n",
       "</defs>\n",
       "<polygon clip-path=\"url(#clip5700)\" points=\"\n",
       "0,1600 2400,1600 2400,0 0,0 \n",
       "  \" fill=\"#ffffff\" fill-rule=\"evenodd\" fill-opacity=\"1\"/>\n",
       "<defs>\n",
       "  <clipPath id=\"clip5701\">\n",
       "    <rect x=\"480\" y=\"0\" width=\"1681\" height=\"1600\"/>\n",
       "  </clipPath>\n",
       "</defs>\n",
       "<polygon clip-path=\"url(#clip5700)\" points=\"\n",
       "148.013,1503.47 2321.26,1503.47 2321.26,47.2441 148.013,47.2441 \n",
       "  \" fill=\"#ffffff\" fill-rule=\"evenodd\" fill-opacity=\"1\"/>\n",
       "<defs>\n",
       "  <clipPath id=\"clip5702\">\n",
       "    <rect x=\"148\" y=\"47\" width=\"2174\" height=\"1457\"/>\n",
       "  </clipPath>\n",
       "</defs>\n",
       "<polyline clip-path=\"url(#clip5702)\" style=\"stroke:#000000; stroke-width:2; stroke-opacity:0.1; fill:none\" points=\"\n",
       "  453.595,1503.47 453.595,47.2441 \n",
       "  \"/>\n",
       "<polyline clip-path=\"url(#clip5702)\" style=\"stroke:#000000; stroke-width:2; stroke-opacity:0.1; fill:none\" points=\"\n",
       "  941.746,1503.47 941.746,47.2441 \n",
       "  \"/>\n",
       "<polyline clip-path=\"url(#clip5702)\" style=\"stroke:#000000; stroke-width:2; stroke-opacity:0.1; fill:none\" points=\"\n",
       "  1429.9,1503.47 1429.9,47.2441 \n",
       "  \"/>\n",
       "<polyline clip-path=\"url(#clip5702)\" style=\"stroke:#000000; stroke-width:2; stroke-opacity:0.1; fill:none\" points=\"\n",
       "  1918.05,1503.47 1918.05,47.2441 \n",
       "  \"/>\n",
       "<polyline clip-path=\"url(#clip5702)\" style=\"stroke:#000000; stroke-width:2; stroke-opacity:0.1; fill:none\" points=\"\n",
       "  148.013,1464.16 2321.26,1464.16 \n",
       "  \"/>\n",
       "<polyline clip-path=\"url(#clip5702)\" style=\"stroke:#000000; stroke-width:2; stroke-opacity:0.1; fill:none\" points=\"\n",
       "  148.013,1207.52 2321.26,1207.52 \n",
       "  \"/>\n",
       "<polyline clip-path=\"url(#clip5702)\" style=\"stroke:#000000; stroke-width:2; stroke-opacity:0.1; fill:none\" points=\"\n",
       "  148.013,950.879 2321.26,950.879 \n",
       "  \"/>\n",
       "<polyline clip-path=\"url(#clip5702)\" style=\"stroke:#000000; stroke-width:2; stroke-opacity:0.1; fill:none\" points=\"\n",
       "  148.013,694.238 2321.26,694.238 \n",
       "  \"/>\n",
       "<polyline clip-path=\"url(#clip5702)\" style=\"stroke:#000000; stroke-width:2; stroke-opacity:0.1; fill:none\" points=\"\n",
       "  148.013,437.597 2321.26,437.597 \n",
       "  \"/>\n",
       "<polyline clip-path=\"url(#clip5702)\" style=\"stroke:#000000; stroke-width:2; stroke-opacity:0.1; fill:none\" points=\"\n",
       "  148.013,180.956 2321.26,180.956 \n",
       "  \"/>\n",
       "<polyline clip-path=\"url(#clip5700)\" style=\"stroke:#000000; stroke-width:4; stroke-opacity:1; fill:none\" points=\"\n",
       "  148.013,1503.47 2321.26,1503.47 \n",
       "  \"/>\n",
       "<polyline clip-path=\"url(#clip5700)\" style=\"stroke:#000000; stroke-width:4; stroke-opacity:1; fill:none\" points=\"\n",
       "  148.013,1503.47 148.013,47.2441 \n",
       "  \"/>\n",
       "<polyline clip-path=\"url(#clip5700)\" style=\"stroke:#000000; stroke-width:4; stroke-opacity:1; fill:none\" points=\"\n",
       "  453.595,1503.47 453.595,1481.63 \n",
       "  \"/>\n",
       "<polyline clip-path=\"url(#clip5700)\" style=\"stroke:#000000; stroke-width:4; stroke-opacity:1; fill:none\" points=\"\n",
       "  941.746,1503.47 941.746,1481.63 \n",
       "  \"/>\n",
       "<polyline clip-path=\"url(#clip5700)\" style=\"stroke:#000000; stroke-width:4; stroke-opacity:1; fill:none\" points=\"\n",
       "  1429.9,1503.47 1429.9,1481.63 \n",
       "  \"/>\n",
       "<polyline clip-path=\"url(#clip5700)\" style=\"stroke:#000000; stroke-width:4; stroke-opacity:1; fill:none\" points=\"\n",
       "  1918.05,1503.47 1918.05,1481.63 \n",
       "  \"/>\n",
       "<polyline clip-path=\"url(#clip5700)\" style=\"stroke:#000000; stroke-width:4; stroke-opacity:1; fill:none\" points=\"\n",
       "  148.013,1464.16 180.612,1464.16 \n",
       "  \"/>\n",
       "<polyline clip-path=\"url(#clip5700)\" style=\"stroke:#000000; stroke-width:4; stroke-opacity:1; fill:none\" points=\"\n",
       "  148.013,1207.52 180.612,1207.52 \n",
       "  \"/>\n",
       "<polyline clip-path=\"url(#clip5700)\" style=\"stroke:#000000; stroke-width:4; stroke-opacity:1; fill:none\" points=\"\n",
       "  148.013,950.879 180.612,950.879 \n",
       "  \"/>\n",
       "<polyline clip-path=\"url(#clip5700)\" style=\"stroke:#000000; stroke-width:4; stroke-opacity:1; fill:none\" points=\"\n",
       "  148.013,694.238 180.612,694.238 \n",
       "  \"/>\n",
       "<polyline clip-path=\"url(#clip5700)\" style=\"stroke:#000000; stroke-width:4; stroke-opacity:1; fill:none\" points=\"\n",
       "  148.013,437.597 180.612,437.597 \n",
       "  \"/>\n",
       "<polyline clip-path=\"url(#clip5700)\" style=\"stroke:#000000; stroke-width:4; stroke-opacity:1; fill:none\" points=\"\n",
       "  148.013,180.956 180.612,180.956 \n",
       "  \"/>\n",
       "<g clip-path=\"url(#clip5700)\">\n",
       "<text style=\"fill:#000000; fill-opacity:1; font-family:Arial,Helvetica Neue,Helvetica,sans-serif; font-size:48px; text-anchor:middle;\" transform=\"rotate(0, 453.595, 1557.47)\" x=\"453.595\" y=\"1557.47\">-4</text>\n",
       "</g>\n",
       "<g clip-path=\"url(#clip5700)\">\n",
       "<text style=\"fill:#000000; fill-opacity:1; font-family:Arial,Helvetica Neue,Helvetica,sans-serif; font-size:48px; text-anchor:middle;\" transform=\"rotate(0, 941.746, 1557.47)\" x=\"941.746\" y=\"1557.47\">-3</text>\n",
       "</g>\n",
       "<g clip-path=\"url(#clip5700)\">\n",
       "<text style=\"fill:#000000; fill-opacity:1; font-family:Arial,Helvetica Neue,Helvetica,sans-serif; font-size:48px; text-anchor:middle;\" transform=\"rotate(0, 1429.9, 1557.47)\" x=\"1429.9\" y=\"1557.47\">-2</text>\n",
       "</g>\n",
       "<g clip-path=\"url(#clip5700)\">\n",
       "<text style=\"fill:#000000; fill-opacity:1; font-family:Arial,Helvetica Neue,Helvetica,sans-serif; font-size:48px; text-anchor:middle;\" transform=\"rotate(0, 1918.05, 1557.47)\" x=\"1918.05\" y=\"1557.47\">-1</text>\n",
       "</g>\n",
       "<g clip-path=\"url(#clip5700)\">\n",
       "<text style=\"fill:#000000; fill-opacity:1; font-family:Arial,Helvetica Neue,Helvetica,sans-serif; font-size:48px; text-anchor:end;\" transform=\"rotate(0, 124.013, 1481.66)\" x=\"124.013\" y=\"1481.66\">0</text>\n",
       "</g>\n",
       "<g clip-path=\"url(#clip5700)\">\n",
       "<text style=\"fill:#000000; fill-opacity:1; font-family:Arial,Helvetica Neue,Helvetica,sans-serif; font-size:48px; text-anchor:end;\" transform=\"rotate(0, 124.013, 1225.02)\" x=\"124.013\" y=\"1225.02\">10</text>\n",
       "</g>\n",
       "<g clip-path=\"url(#clip5700)\">\n",
       "<text style=\"fill:#000000; fill-opacity:1; font-family:Arial,Helvetica Neue,Helvetica,sans-serif; font-size:48px; text-anchor:end;\" transform=\"rotate(0, 124.013, 968.379)\" x=\"124.013\" y=\"968.379\">20</text>\n",
       "</g>\n",
       "<g clip-path=\"url(#clip5700)\">\n",
       "<text style=\"fill:#000000; fill-opacity:1; font-family:Arial,Helvetica Neue,Helvetica,sans-serif; font-size:48px; text-anchor:end;\" transform=\"rotate(0, 124.013, 711.738)\" x=\"124.013\" y=\"711.738\">30</text>\n",
       "</g>\n",
       "<g clip-path=\"url(#clip5700)\">\n",
       "<text style=\"fill:#000000; fill-opacity:1; font-family:Arial,Helvetica Neue,Helvetica,sans-serif; font-size:48px; text-anchor:end;\" transform=\"rotate(0, 124.013, 455.097)\" x=\"124.013\" y=\"455.097\">40</text>\n",
       "</g>\n",
       "<g clip-path=\"url(#clip5700)\">\n",
       "<text style=\"fill:#000000; fill-opacity:1; font-family:Arial,Helvetica Neue,Helvetica,sans-serif; font-size:48px; text-anchor:end;\" transform=\"rotate(0, 124.013, 198.456)\" x=\"124.013\" y=\"198.456\">50</text>\n",
       "</g>\n",
       "<polyline clip-path=\"url(#clip5702)\" style=\"stroke:#009af9; stroke-width:6; stroke-opacity:1; fill:none\" points=\"\n",
       "  209.52,88.4582 258.335,174.831 307.15,257.559 355.965,336.72 404.78,412.391 453.595,484.648 502.41,553.569 551.225,619.231 600.04,681.71 648.856,741.084 \n",
       "  697.671,797.429 746.486,850.824 795.301,901.343 844.116,949.066 892.931,994.068 941.746,1036.43 990.561,1076.22 1039.38,1113.52 1088.19,1148.41 1137.01,1180.97 \n",
       "  1185.82,1211.26 1234.64,1239.38 1283.45,1265.39 1332.27,1289.37 1381.08,1311.4 1429.9,1331.56 1478.71,1349.93 1527.53,1366.57 1576.34,1381.57 1625.16,1395.01 \n",
       "  1673.97,1406.95 1722.79,1417.49 1771.6,1426.69 1820.42,1434.63 1869.23,1441.39 1918.05,1447.05 1966.86,1451.68 2015.68,1455.37 2064.49,1458.18 2113.31,1460.19 \n",
       "  2162.12,1461.49 2210.94,1462.14 2259.75,1462.23 \n",
       "  \"/>\n",
       "<polyline clip-path=\"url(#clip5702)\" style=\"stroke:#ff0000; stroke-width:4; stroke-opacity:1; fill:none\" stroke-dasharray=\"16, 10\" points=\"\n",
       "  209.52,1462.26 258.335,1462.26 307.15,1462.26 355.965,1462.26 404.78,1462.26 453.595,1462.26 502.41,1462.26 551.225,1462.26 600.04,1462.26 648.856,1462.26 \n",
       "  697.671,1462.26 746.486,1462.26 795.301,1462.26 844.116,1462.26 892.931,1462.26 941.746,1462.26 990.561,1462.26 1039.38,1462.26 1088.19,1462.26 1137.01,1462.26 \n",
       "  1185.82,1462.26 1234.64,1462.26 1283.45,1462.26 1332.27,1462.26 1381.08,1462.26 1429.9,1462.26 1478.71,1462.26 1527.53,1462.26 1576.34,1462.26 1625.16,1462.26 \n",
       "  1673.97,1462.26 1722.79,1462.26 1771.6,1462.26 1820.42,1462.26 1869.23,1462.26 1918.05,1462.26 1966.86,1462.26 2015.68,1462.26 2064.49,1462.26 2113.31,1462.26 \n",
       "  2162.12,1462.26 2210.94,1462.26 2259.75,1462.26 \n",
       "  \"/>\n",
       "<polyline clip-path=\"url(#clip5702)\" style=\"stroke:#ff0000; stroke-width:4; stroke-opacity:1; fill:none\" stroke-dasharray=\"16, 10\" points=\"\n",
       "  209.52,88.4582 258.335,88.4582 307.15,88.4582 355.965,88.4582 404.78,88.4582 453.595,88.4582 502.41,88.4582 551.225,88.4582 600.04,88.4582 648.856,88.4582 \n",
       "  697.671,88.4582 746.486,88.4582 795.301,88.4582 844.116,88.4582 892.931,88.4582 941.746,88.4582 990.561,88.4582 1039.38,88.4582 1088.19,88.4582 1137.01,88.4582 \n",
       "  1185.82,88.4582 1234.64,88.4582 1283.45,88.4582 1332.27,88.4582 1381.08,88.4582 1429.9,88.4582 1478.71,88.4582 1527.53,88.4582 1576.34,88.4582 1625.16,88.4582 \n",
       "  1673.97,88.4582 1722.79,88.4582 1771.6,88.4582 1820.42,88.4582 1869.23,88.4582 1918.05,88.4582 1966.86,88.4582 2015.68,88.4582 2064.49,88.4582 2113.31,88.4582 \n",
       "  2162.12,88.4582 2210.94,88.4582 2259.75,88.4582 \n",
       "  \"/>\n",
       "<polygon clip-path=\"url(#clip5700)\" points=\"\n",
       "1830.01,1359.47 2249.26,1359.47 2249.26,1117.55 1830.01,1117.55 \n",
       "  \" fill=\"#ffffff\" fill-rule=\"evenodd\" fill-opacity=\"1\"/>\n",
       "<polyline clip-path=\"url(#clip5700)\" style=\"stroke:#000000; stroke-width:4; stroke-opacity:1; fill:none\" points=\"\n",
       "  1830.01,1359.47 2249.26,1359.47 2249.26,1117.55 1830.01,1117.55 1830.01,1359.47 \n",
       "  \"/>\n",
       "<polyline clip-path=\"url(#clip5700)\" style=\"stroke:#009af9; stroke-width:6; stroke-opacity:1; fill:none\" points=\"\n",
       "  1854.01,1178.03 1998.01,1178.03 \n",
       "  \"/>\n",
       "<g clip-path=\"url(#clip5700)\">\n",
       "<text style=\"fill:#000000; fill-opacity:1; font-family:Arial,Helvetica Neue,Helvetica,sans-serif; font-size:48px; text-anchor:start;\" transform=\"rotate(0, 2022.01, 1195.53)\" x=\"2022.01\" y=\"1195.53\">bspline2</text>\n",
       "</g>\n",
       "<polyline clip-path=\"url(#clip5700)\" style=\"stroke:#ff0000; stroke-width:4; stroke-opacity:1; fill:none\" stroke-dasharray=\"16, 10\" points=\"\n",
       "  1854.01,1238.51 1998.01,1238.51 \n",
       "  \"/>\n",
       "<g clip-path=\"url(#clip5700)\">\n",
       "<text style=\"fill:#000000; fill-opacity:1; font-family:Arial,Helvetica Neue,Helvetica,sans-serif; font-size:48px; text-anchor:start;\" transform=\"rotate(0, 2022.01, 1256.01)\" x=\"2022.01\" y=\"1256.01\">y2</text>\n",
       "</g>\n",
       "<polyline clip-path=\"url(#clip5700)\" style=\"stroke:#ff0000; stroke-width:4; stroke-opacity:1; fill:none\" stroke-dasharray=\"16, 10\" points=\"\n",
       "  1854.01,1298.99 1998.01,1298.99 \n",
       "  \"/>\n",
       "<g clip-path=\"url(#clip5700)\">\n",
       "<text style=\"fill:#000000; fill-opacity:1; font-family:Arial,Helvetica Neue,Helvetica,sans-serif; font-size:48px; text-anchor:start;\" transform=\"rotate(0, 2022.01, 1316.49)\" x=\"2022.01\" y=\"1316.49\">y3</text>\n",
       "</g>\n",
       "</svg>\n"
      ]
     },
     "execution_count": 15,
     "metadata": {},
     "output_type": "execute_result"
    }
   ],
   "source": [
    "plot(x -> p(x), inf(dom):0.1:sup(dom), lw=1.5, lab=model_name, legend=:bottomright)\n",
    "plot!(x -> min_bound, inf(dom):0.1:sup(dom), color=:red, linestyle=:dash)\n",
    "plot!(x -> max_bound, inf(dom):0.1:sup(dom), color=:red, linestyle=:dash)"
   ]
  },
  {
   "cell_type": "code",
   "execution_count": 17,
   "metadata": {},
   "outputs": [
    {
     "data": {
      "text/plain": [
       "(0.07516666666666667, 53.604166666666664)"
      ]
     },
     "execution_count": 17,
     "metadata": {},
     "output_type": "execute_result"
    }
   ],
   "source": [
    "# evaluation at the extreme points\n",
    "bspline2(x) = (-3*x*x*x  + 3*x*x + 3*x + 1) / 6.0\n",
    "bspline2(sup(a)), bspline2(inf(a))"
   ]
  },
  {
   "cell_type": "markdown",
   "metadata": {},
   "source": [
    "## bspline3"
   ]
  },
  {
   "cell_type": "code",
   "execution_count": 20,
   "metadata": {},
   "outputs": [
    {
     "data": {
      "text/plain": [
       "(0.004500048981347225, 15.18749986989248)"
      ]
     },
     "execution_count": 20,
     "metadata": {},
     "output_type": "execute_result"
    }
   ],
   "source": [
    "# =============\n",
    "# upper bound\n",
    "# =============\n",
    "\n",
    "model_name = \"bspline3\"\n",
    "#model = SOSModel(with_optimizer(SDPA.Optimizer))\n",
    "model = SOSModel(with_optimizer(Mosek.Optimizer, QUIET=true))\n",
    "k = 5\n",
    "@polyvar x\n",
    "p = -x*x*x / 6.0\n",
    "dom = a\n",
    "@variable(model, γ)\n",
    "S = @set inf(dom) <= x && x <= sup(dom)\n",
    "@constraint(model, p <= γ, domain=S, maxdegree=k)\n",
    "@objective(model, Min, γ)\n",
    "optimize!(model)\n",
    "max_bound = objective_value(model)\n",
    "\n",
    "# =============\n",
    "# lower bound\n",
    "# =============\n",
    "\n",
    "#model = SOSModel(with_optimizer(SDPA.Optimizer))\n",
    "model = SOSModel(with_optimizer(Mosek.Optimizer, QUIET=true))\n",
    "@variable(model, γ)\n",
    "S = @set inf(dom) <= x && x <= sup(dom)\n",
    "@constraint(model, p >= γ, domain=S, maxdegree=k)\n",
    "@objective(model, Max, γ)\n",
    "optimize!(model)\n",
    "min_bound = objective_value(model)\n",
    "REF[model_name] = (min_bound, max_bound)"
   ]
  },
  {
   "cell_type": "code",
   "execution_count": 21,
   "metadata": {},
   "outputs": [
    {
     "data": {
      "image/svg+xml": [
       "<?xml version=\"1.0\" encoding=\"utf-8\"?>\n",
       "<svg xmlns=\"http://www.w3.org/2000/svg\" xmlns:xlink=\"http://www.w3.org/1999/xlink\" width=\"600\" height=\"400\" viewBox=\"0 0 2400 1600\">\n",
       "<defs>\n",
       "  <clipPath id=\"clip6100\">\n",
       "    <rect x=\"0\" y=\"0\" width=\"2400\" height=\"1600\"/>\n",
       "  </clipPath>\n",
       "</defs>\n",
       "<polygon clip-path=\"url(#clip6100)\" points=\"\n",
       "0,1600 2400,1600 2400,0 0,0 \n",
       "  \" fill=\"#ffffff\" fill-rule=\"evenodd\" fill-opacity=\"1\"/>\n",
       "<defs>\n",
       "  <clipPath id=\"clip6101\">\n",
       "    <rect x=\"480\" y=\"0\" width=\"1681\" height=\"1600\"/>\n",
       "  </clipPath>\n",
       "</defs>\n",
       "<polygon clip-path=\"url(#clip6100)\" points=\"\n",
       "148.013,1503.47 2321.26,1503.47 2321.26,47.2441 148.013,47.2441 \n",
       "  \" fill=\"#ffffff\" fill-rule=\"evenodd\" fill-opacity=\"1\"/>\n",
       "<defs>\n",
       "  <clipPath id=\"clip6102\">\n",
       "    <rect x=\"148\" y=\"47\" width=\"2174\" height=\"1457\"/>\n",
       "  </clipPath>\n",
       "</defs>\n",
       "<polyline clip-path=\"url(#clip6102)\" style=\"stroke:#000000; stroke-width:2; stroke-opacity:0.1; fill:none\" points=\"\n",
       "  453.595,1503.47 453.595,47.2441 \n",
       "  \"/>\n",
       "<polyline clip-path=\"url(#clip6102)\" style=\"stroke:#000000; stroke-width:2; stroke-opacity:0.1; fill:none\" points=\"\n",
       "  941.746,1503.47 941.746,47.2441 \n",
       "  \"/>\n",
       "<polyline clip-path=\"url(#clip6102)\" style=\"stroke:#000000; stroke-width:2; stroke-opacity:0.1; fill:none\" points=\"\n",
       "  1429.9,1503.47 1429.9,47.2441 \n",
       "  \"/>\n",
       "<polyline clip-path=\"url(#clip6102)\" style=\"stroke:#000000; stroke-width:2; stroke-opacity:0.1; fill:none\" points=\"\n",
       "  1918.05,1503.47 1918.05,47.2441 \n",
       "  \"/>\n",
       "<polyline clip-path=\"url(#clip6102)\" style=\"stroke:#000000; stroke-width:2; stroke-opacity:0.1; fill:none\" points=\"\n",
       "  148.013,1462.67 2321.26,1462.67 \n",
       "  \"/>\n",
       "<polyline clip-path=\"url(#clip6102)\" style=\"stroke:#000000; stroke-width:2; stroke-opacity:0.1; fill:none\" points=\"\n",
       "  148.013,1010.25 2321.26,1010.25 \n",
       "  \"/>\n",
       "<polyline clip-path=\"url(#clip6102)\" style=\"stroke:#000000; stroke-width:2; stroke-opacity:0.1; fill:none\" points=\"\n",
       "  148.013,557.838 2321.26,557.838 \n",
       "  \"/>\n",
       "<polyline clip-path=\"url(#clip6102)\" style=\"stroke:#000000; stroke-width:2; stroke-opacity:0.1; fill:none\" points=\"\n",
       "  148.013,105.424 2321.26,105.424 \n",
       "  \"/>\n",
       "<polyline clip-path=\"url(#clip6100)\" style=\"stroke:#000000; stroke-width:4; stroke-opacity:1; fill:none\" points=\"\n",
       "  148.013,1503.47 2321.26,1503.47 \n",
       "  \"/>\n",
       "<polyline clip-path=\"url(#clip6100)\" style=\"stroke:#000000; stroke-width:4; stroke-opacity:1; fill:none\" points=\"\n",
       "  148.013,1503.47 148.013,47.2441 \n",
       "  \"/>\n",
       "<polyline clip-path=\"url(#clip6100)\" style=\"stroke:#000000; stroke-width:4; stroke-opacity:1; fill:none\" points=\"\n",
       "  453.595,1503.47 453.595,1481.63 \n",
       "  \"/>\n",
       "<polyline clip-path=\"url(#clip6100)\" style=\"stroke:#000000; stroke-width:4; stroke-opacity:1; fill:none\" points=\"\n",
       "  941.746,1503.47 941.746,1481.63 \n",
       "  \"/>\n",
       "<polyline clip-path=\"url(#clip6100)\" style=\"stroke:#000000; stroke-width:4; stroke-opacity:1; fill:none\" points=\"\n",
       "  1429.9,1503.47 1429.9,1481.63 \n",
       "  \"/>\n",
       "<polyline clip-path=\"url(#clip6100)\" style=\"stroke:#000000; stroke-width:4; stroke-opacity:1; fill:none\" points=\"\n",
       "  1918.05,1503.47 1918.05,1481.63 \n",
       "  \"/>\n",
       "<polyline clip-path=\"url(#clip6100)\" style=\"stroke:#000000; stroke-width:4; stroke-opacity:1; fill:none\" points=\"\n",
       "  148.013,1462.67 180.612,1462.67 \n",
       "  \"/>\n",
       "<polyline clip-path=\"url(#clip6100)\" style=\"stroke:#000000; stroke-width:4; stroke-opacity:1; fill:none\" points=\"\n",
       "  148.013,1010.25 180.612,1010.25 \n",
       "  \"/>\n",
       "<polyline clip-path=\"url(#clip6100)\" style=\"stroke:#000000; stroke-width:4; stroke-opacity:1; fill:none\" points=\"\n",
       "  148.013,557.838 180.612,557.838 \n",
       "  \"/>\n",
       "<polyline clip-path=\"url(#clip6100)\" style=\"stroke:#000000; stroke-width:4; stroke-opacity:1; fill:none\" points=\"\n",
       "  148.013,105.424 180.612,105.424 \n",
       "  \"/>\n",
       "<g clip-path=\"url(#clip6100)\">\n",
       "<text style=\"fill:#000000; fill-opacity:1; font-family:Arial,Helvetica Neue,Helvetica,sans-serif; font-size:48px; text-anchor:middle;\" transform=\"rotate(0, 453.595, 1557.47)\" x=\"453.595\" y=\"1557.47\">-4</text>\n",
       "</g>\n",
       "<g clip-path=\"url(#clip6100)\">\n",
       "<text style=\"fill:#000000; fill-opacity:1; font-family:Arial,Helvetica Neue,Helvetica,sans-serif; font-size:48px; text-anchor:middle;\" transform=\"rotate(0, 941.746, 1557.47)\" x=\"941.746\" y=\"1557.47\">-3</text>\n",
       "</g>\n",
       "<g clip-path=\"url(#clip6100)\">\n",
       "<text style=\"fill:#000000; fill-opacity:1; font-family:Arial,Helvetica Neue,Helvetica,sans-serif; font-size:48px; text-anchor:middle;\" transform=\"rotate(0, 1429.9, 1557.47)\" x=\"1429.9\" y=\"1557.47\">-2</text>\n",
       "</g>\n",
       "<g clip-path=\"url(#clip6100)\">\n",
       "<text style=\"fill:#000000; fill-opacity:1; font-family:Arial,Helvetica Neue,Helvetica,sans-serif; font-size:48px; text-anchor:middle;\" transform=\"rotate(0, 1918.05, 1557.47)\" x=\"1918.05\" y=\"1557.47\">-1</text>\n",
       "</g>\n",
       "<g clip-path=\"url(#clip6100)\">\n",
       "<text style=\"fill:#000000; fill-opacity:1; font-family:Arial,Helvetica Neue,Helvetica,sans-serif; font-size:48px; text-anchor:end;\" transform=\"rotate(0, 124.013, 1480.17)\" x=\"124.013\" y=\"1480.17\">0</text>\n",
       "</g>\n",
       "<g clip-path=\"url(#clip6100)\">\n",
       "<text style=\"fill:#000000; fill-opacity:1; font-family:Arial,Helvetica Neue,Helvetica,sans-serif; font-size:48px; text-anchor:end;\" transform=\"rotate(0, 124.013, 1027.75)\" x=\"124.013\" y=\"1027.75\">5</text>\n",
       "</g>\n",
       "<g clip-path=\"url(#clip6100)\">\n",
       "<text style=\"fill:#000000; fill-opacity:1; font-family:Arial,Helvetica Neue,Helvetica,sans-serif; font-size:48px; text-anchor:end;\" transform=\"rotate(0, 124.013, 575.338)\" x=\"124.013\" y=\"575.338\">10</text>\n",
       "</g>\n",
       "<g clip-path=\"url(#clip6100)\">\n",
       "<text style=\"fill:#000000; fill-opacity:1; font-family:Arial,Helvetica Neue,Helvetica,sans-serif; font-size:48px; text-anchor:end;\" transform=\"rotate(0, 124.013, 122.924)\" x=\"124.013\" y=\"122.924\">15</text>\n",
       "</g>\n",
       "<polyline clip-path=\"url(#clip6102)\" style=\"stroke:#009af9; stroke-width:6; stroke-opacity:1; fill:none\" points=\"\n",
       "  209.52,88.4582 258.335,178.051 307.15,263.663 355.965,345.384 404.78,423.305 453.595,497.516 502.41,568.108 551.225,635.171 600.04,698.796 648.856,759.072 \n",
       "  697.671,816.092 746.486,869.944 795.301,920.72 844.116,968.51 892.931,1013.4 941.746,1055.49 990.561,1094.87 1039.38,1131.62 1088.19,1165.84 1137.01,1197.61 \n",
       "  1185.82,1227.04 1234.64,1254.2 1283.45,1279.18 1332.27,1302.09 1381.08,1323.01 1429.9,1342.02 1478.71,1359.23 1527.53,1374.72 1576.34,1388.58 1625.16,1400.9 \n",
       "  1673.97,1411.77 1722.79,1421.29 1771.6,1429.54 1820.42,1436.61 1869.23,1442.6 1918.05,1447.59 1966.86,1451.67 2015.68,1454.95 2064.49,1457.5 2113.31,1459.41 \n",
       "  2162.12,1460.78 2210.94,1461.7 2259.75,1462.26 \n",
       "  \"/>\n",
       "<polyline clip-path=\"url(#clip6102)\" style=\"stroke:#ff0000; stroke-width:4; stroke-opacity:1; fill:none\" stroke-dasharray=\"16, 10\" points=\"\n",
       "  209.52,1462.26 258.335,1462.26 307.15,1462.26 355.965,1462.26 404.78,1462.26 453.595,1462.26 502.41,1462.26 551.225,1462.26 600.04,1462.26 648.856,1462.26 \n",
       "  697.671,1462.26 746.486,1462.26 795.301,1462.26 844.116,1462.26 892.931,1462.26 941.746,1462.26 990.561,1462.26 1039.38,1462.26 1088.19,1462.26 1137.01,1462.26 \n",
       "  1185.82,1462.26 1234.64,1462.26 1283.45,1462.26 1332.27,1462.26 1381.08,1462.26 1429.9,1462.26 1478.71,1462.26 1527.53,1462.26 1576.34,1462.26 1625.16,1462.26 \n",
       "  1673.97,1462.26 1722.79,1462.26 1771.6,1462.26 1820.42,1462.26 1869.23,1462.26 1918.05,1462.26 1966.86,1462.26 2015.68,1462.26 2064.49,1462.26 2113.31,1462.26 \n",
       "  2162.12,1462.26 2210.94,1462.26 2259.75,1462.26 \n",
       "  \"/>\n",
       "<polyline clip-path=\"url(#clip6102)\" style=\"stroke:#ff0000; stroke-width:4; stroke-opacity:1; fill:none\" stroke-dasharray=\"16, 10\" points=\"\n",
       "  209.52,88.4582 258.335,88.4582 307.15,88.4582 355.965,88.4582 404.78,88.4582 453.595,88.4582 502.41,88.4582 551.225,88.4582 600.04,88.4582 648.856,88.4582 \n",
       "  697.671,88.4582 746.486,88.4582 795.301,88.4582 844.116,88.4582 892.931,88.4582 941.746,88.4582 990.561,88.4582 1039.38,88.4582 1088.19,88.4582 1137.01,88.4582 \n",
       "  1185.82,88.4582 1234.64,88.4582 1283.45,88.4582 1332.27,88.4582 1381.08,88.4582 1429.9,88.4582 1478.71,88.4582 1527.53,88.4582 1576.34,88.4582 1625.16,88.4582 \n",
       "  1673.97,88.4582 1722.79,88.4582 1771.6,88.4582 1820.42,88.4582 1869.23,88.4582 1918.05,88.4582 1966.86,88.4582 2015.68,88.4582 2064.49,88.4582 2113.31,88.4582 \n",
       "  2162.12,88.4582 2210.94,88.4582 2259.75,88.4582 \n",
       "  \"/>\n",
       "<polygon clip-path=\"url(#clip6100)\" points=\"\n",
       "1830.01,1359.47 2249.26,1359.47 2249.26,1117.55 1830.01,1117.55 \n",
       "  \" fill=\"#ffffff\" fill-rule=\"evenodd\" fill-opacity=\"1\"/>\n",
       "<polyline clip-path=\"url(#clip6100)\" style=\"stroke:#000000; stroke-width:4; stroke-opacity:1; fill:none\" points=\"\n",
       "  1830.01,1359.47 2249.26,1359.47 2249.26,1117.55 1830.01,1117.55 1830.01,1359.47 \n",
       "  \"/>\n",
       "<polyline clip-path=\"url(#clip6100)\" style=\"stroke:#009af9; stroke-width:6; stroke-opacity:1; fill:none\" points=\"\n",
       "  1854.01,1178.03 1998.01,1178.03 \n",
       "  \"/>\n",
       "<g clip-path=\"url(#clip6100)\">\n",
       "<text style=\"fill:#000000; fill-opacity:1; font-family:Arial,Helvetica Neue,Helvetica,sans-serif; font-size:48px; text-anchor:start;\" transform=\"rotate(0, 2022.01, 1195.53)\" x=\"2022.01\" y=\"1195.53\">bspline3</text>\n",
       "</g>\n",
       "<polyline clip-path=\"url(#clip6100)\" style=\"stroke:#ff0000; stroke-width:4; stroke-opacity:1; fill:none\" stroke-dasharray=\"16, 10\" points=\"\n",
       "  1854.01,1238.51 1998.01,1238.51 \n",
       "  \"/>\n",
       "<g clip-path=\"url(#clip6100)\">\n",
       "<text style=\"fill:#000000; fill-opacity:1; font-family:Arial,Helvetica Neue,Helvetica,sans-serif; font-size:48px; text-anchor:start;\" transform=\"rotate(0, 2022.01, 1256.01)\" x=\"2022.01\" y=\"1256.01\">y2</text>\n",
       "</g>\n",
       "<polyline clip-path=\"url(#clip6100)\" style=\"stroke:#ff0000; stroke-width:4; stroke-opacity:1; fill:none\" stroke-dasharray=\"16, 10\" points=\"\n",
       "  1854.01,1298.99 1998.01,1298.99 \n",
       "  \"/>\n",
       "<g clip-path=\"url(#clip6100)\">\n",
       "<text style=\"fill:#000000; fill-opacity:1; font-family:Arial,Helvetica Neue,Helvetica,sans-serif; font-size:48px; text-anchor:start;\" transform=\"rotate(0, 2022.01, 1316.49)\" x=\"2022.01\" y=\"1316.49\">y3</text>\n",
       "</g>\n",
       "</svg>\n"
      ]
     },
     "execution_count": 21,
     "metadata": {},
     "output_type": "execute_result"
    }
   ],
   "source": [
    "plot(x -> p(x), inf(dom):0.1:sup(dom), lw=1.5, lab=model_name, legend=:bottomright)\n",
    "plot!(x -> min_bound, inf(dom):0.1:sup(dom), color=:red, linestyle=:dash)\n",
    "plot!(x -> max_bound, inf(dom):0.1:sup(dom), color=:red, linestyle=:dash)"
   ]
  },
  {
   "cell_type": "code",
   "execution_count": 22,
   "metadata": {},
   "outputs": [
    {
     "data": {
      "text/plain": [
       "(0.0045, 15.1875)"
      ]
     },
     "execution_count": 22,
     "metadata": {},
     "output_type": "execute_result"
    }
   ],
   "source": [
    "# evaluation at the extreme points\n",
    "bspline3(x) = -x*x*x / 6.0\n",
    "bspline3(sup(a)), bspline3(inf(a))"
   ]
  },
  {
   "cell_type": "markdown",
   "metadata": {},
   "source": [
    "## Himmilbeau"
   ]
  },
  {
   "cell_type": "code",
   "execution_count": 64,
   "metadata": {},
   "outputs": [
    {
     "data": {
      "text/plain": [
       "(85.46830677734748, 221.7338939301446)"
      ]
     },
     "execution_count": 64,
     "metadata": {},
     "output_type": "execute_result"
    }
   ],
   "source": [
    "# =============\n",
    "# upper bound\n",
    "# =============\n",
    "\n",
    "model_name = \"himmilbeau\"\n",
    "#model = SOSModel(with_optimizer(SDPA.Optimizer))\n",
    "model = SOSModel(with_optimizer(Mosek.Optimizer, QUIET=true))\n",
    "k = 6\n",
    "@polyvar x1 x2\n",
    "p = (x1*x1 + x2 - 11)*(x1 * x1 + x2 - 11) + (x1 + x2*x2 - 7)*(x1 + x2*x2 - 7)\n",
    "dom = a × b\n",
    "@variable(model, γ)\n",
    "S = @set inf(a) <= x1 && x1 <= sup(a) &&\n",
    "         inf(b) <= x2 && x2 <= sup(b)\n",
    "@constraint(model, p <= γ, domain=S, maxdegree=k)\n",
    "@objective(model, Min, γ)\n",
    "optimize!(model)\n",
    "max_bound = objective_value(model)\n",
    "\n",
    "# =============\n",
    "# lower bound\n",
    "# =============\n",
    "\n",
    "#model = SOSModel(with_optimizer(SDPA.Optimizer))\n",
    "model = SOSModel(with_optimizer(Mosek.Optimizer, QUIET=true))\n",
    "@variable(model, γ)\n",
    "@constraint(model, p >= γ, domain=S, maxdegree=k)\n",
    "@objective(model, Max, γ)\n",
    "optimize!(model)\n",
    "min_bound = objective_value(model)\n",
    "REF[model_name] = (min_bound, max_bound)"
   ]
  },
  {
   "cell_type": "code",
   "execution_count": 66,
   "metadata": {},
   "outputs": [
    {
     "data": {
      "text/plain": [
       "ff (generic function with 1 method)"
      ]
     },
     "execution_count": 66,
     "metadata": {},
     "output_type": "execute_result"
    }
   ],
   "source": [
    "ff(x1, x2) = (x1*x1 + x2 - 11)*(x1 * x1 + x2 - 11) + (x1 + x2*x2 - 7)*(x1 + x2*x2 - 7)"
   ]
  },
  {
   "cell_type": "code",
   "execution_count": 92,
   "metadata": {},
   "outputs": [
    {
     "data": {
      "text/plain": [
       "[-57.3385, 344.697]"
      ]
     },
     "execution_count": 92,
     "metadata": {},
     "output_type": "execute_result"
    }
   ],
   "source": [
    "himmilbeau(x1, x2) = (x1*x1 + x2 - 11)*(x1 * x1 + x2 - 11) + (x1 + x2*x2 - 7)*(x1 + x2*x2 - 7)\n",
    "\n",
    "dom = a×b\n",
    "ord = 2\n",
    "numvars = 2\n",
    "\n",
    "set_variables(Float64, \"x\", order=2ord, numvars=2)\n",
    "x = [TaylorModelN(i, ord, IntervalBox(mid(dom)), dom) for i=1:numvars]\n",
    "\n",
    "evaluate(himmilbeau(vars...), dom-mid(dom)) # this is Taylor model evaluation"
   ]
  },
  {
   "cell_type": "code",
   "execution_count": 98,
   "metadata": {},
   "outputs": [
    {
     "data": {
      "text/plain": [
       "[-64.5565, 239.056]"
      ]
     },
     "execution_count": 98,
     "metadata": {},
     "output_type": "execute_result"
    }
   ],
   "source": [
    "himmilbeau(dom...) # this is an Interval evaluation"
   ]
  },
  {
   "cell_type": "code",
   "execution_count": 99,
   "metadata": {},
   "outputs": [],
   "source": [
    "# normalized Taylor model\n"
   ]
  },
  {
   "cell_type": "code",
   "execution_count": null,
   "metadata": {},
   "outputs": [],
   "source": [
    "# ======================\n",
    "# Normalization\n",
    "# ======================\n",
    "symmetric_domain(dom::Interval) = Interval(-1, 1)\n",
    "symmetric_domain(dom::IntervalBox) = IntervalBox(-1..1, length(dom))\n",
    "\n",
    "# Helper function to evaluate after normalization\n",
    "function normalize_and_evaluate(p, dom)\n",
    "    dom_sym = symmetric_domain(dom)\n",
    "    evaluate(normalize_taylor(p, dom, true), dom_sym)\n",
    "end"
   ]
  },
  {
   "cell_type": "code",
   "execution_count": 130,
   "metadata": {},
   "outputs": [
    {
     "ename": "UndefVarError",
     "evalue": "UndefVarError: bspline1 not defined",
     "output_type": "error",
     "traceback": [
      "UndefVarError: bspline1 not defined",
      "",
      "Stacktrace:",
      " [1] top-level scope at In[130]:1"
     ]
    }
   ],
   "source": [
    "bspline1()"
   ]
  },
  {
   "cell_type": "code",
   "execution_count": 125,
   "metadata": {},
   "outputs": [
    {
     "data": {
      "text/plain": [
       "[-0.110721, 1.5469]"
      ]
     },
     "execution_count": 125,
     "metadata": {},
     "output_type": "execute_result"
    }
   ],
   "source": [
    "dom = Interval(0, pi/2)\n",
    "x0 = Interval(mid(dom))\n",
    "y = TaylorModel1(2, x0, dom)\n",
    "tm = sin(y)\n",
    "evaluate(tm, dom - x0) # taylor model substitution"
   ]
  },
  {
   "cell_type": "code",
   "execution_count": 126,
   "metadata": {},
   "outputs": [
    {
     "data": {
      "text/plain": [
       "[0, 1]"
      ]
     },
     "execution_count": 126,
     "metadata": {},
     "output_type": "execute_result"
    }
   ],
   "source": [
    "sin(dom) # interval substitution"
   ]
  },
  {
   "cell_type": "code",
   "execution_count": 127,
   "metadata": {},
   "outputs": [
    {
     "data": {
      "text/plain": [
       " [0.707106, 0.707107] + [0.55536, 0.555361] t + [-0.21809, -0.218089] t² + [-0.0443777, 0.0663431]"
      ]
     },
     "execution_count": 127,
     "metadata": {},
     "output_type": "execute_result"
    }
   ],
   "source": [
    "ynorm = normalize_taylor(y.pol, dom - x0, true)\n",
    "tmnorm = sin(TaylorModel1(ynorm, 0..0, 0..0, -1..1))"
   ]
  },
  {
   "cell_type": "code",
   "execution_count": 129,
   "metadata": {},
   "outputs": [
    {
     "data": {
      "text/plain": [
       "[-0.110721, 1.32882]"
      ]
     },
     "execution_count": 129,
     "metadata": {},
     "output_type": "execute_result"
    }
   ],
   "source": [
    "evaluate(tmnorm, -1..1)"
   ]
  },
  {
   "cell_type": "code",
   "execution_count": null,
   "metadata": {},
   "outputs": [],
   "source": []
  },
  {
   "cell_type": "markdown",
   "metadata": {},
   "source": [
    "## Kepler1"
   ]
  },
  {
   "cell_type": "code",
   "execution_count": 92,
   "metadata": {},
   "outputs": [
    {
     "data": {
      "text/plain": [
       "(-5.255935494810441, 7.321362422825775)"
      ]
     },
     "execution_count": 92,
     "metadata": {},
     "output_type": "execute_result"
    }
   ],
   "source": [
    "# =============\n",
    "# upper bound\n",
    "# =============\n",
    "\n",
    "model_name = \"kepler1\"\n",
    "#model = SOSModel(with_optimizer(SDPA.Optimizer))\n",
    "model = SOSModel(with_optimizer(Mosek.Optimizer, QUIET=true))\n",
    "k = 6\n",
    "@polyvar x1 x2 x3 x4 x5 x6\n",
    "p = x2 * x5 + x3 * x6 - x2 * x3 - x5 * x6 + x1 * (-x1 + x2 + x3 - x4 + x5 + x6)\n",
    "dom = a × b × c × d × e × f\n",
    "@variable(model, γ)\n",
    "S = @set inf(a) <= x1 && x1 <= sup(a) &&\n",
    "         inf(b) <= x2 && x2 <= sup(b) &&\n",
    "         inf(c) <= x3 && x3 <= sup(c) &&\n",
    "         inf(d) <= x4 && x4 <= sup(d) &&\n",
    "         inf(e) <= x5 && x5 <= sup(e) &&\n",
    "         inf(f) <= x6 && x6 <= sup(f)\n",
    "\n",
    "@constraint(model, p <= γ, domain=S, maxdegree=k)\n",
    "@objective(model, Min, γ)\n",
    "optimize!(model)\n",
    "max_bound = objective_value(model)\n",
    "\n",
    "# =============\n",
    "# lower bound\n",
    "# =============\n",
    "\n",
    "#model = SOSModel(with_optimizer(SDPA.Optimizer))\n",
    "model = SOSModel(with_optimizer(Mosek.Optimizer, QUIET=true))\n",
    "@variable(model, γ)\n",
    "@constraint(model, p >= γ, domain=S, maxdegree=k)\n",
    "@objective(model, Max, γ)\n",
    "optimize!(model)\n",
    "min_bound = objective_value(model)\n",
    "REF[model_name] = (min_bound, max_bound)"
   ]
  },
  {
   "cell_type": "markdown",
   "metadata": {},
   "source": [
    "## Kepler2"
   ]
  },
  {
   "cell_type": "code",
   "execution_count": 94,
   "metadata": {},
   "outputs": [
    {
     "data": {
      "text/plain": [
       "(-195.36974909125482, 78.3669520644375)"
      ]
     },
     "execution_count": 94,
     "metadata": {},
     "output_type": "execute_result"
    }
   ],
   "source": [
    "# =============\n",
    "# upper bound\n",
    "# =============\n",
    "\n",
    "model_name = \"kepler2\"\n",
    "#model = SOSModel(with_optimizer(SDPA.Optimizer))\n",
    "model = SOSModel(with_optimizer(Mosek.Optimizer, QUIET=true))\n",
    "k = 6\n",
    "@polyvar x1 x2 x3 x4\n",
    "p = x1 * x4 * (-x1 + x2 + x3 - x4) + x2 * (x1 - x2 + x3 + x4) +\n",
    "    x3 * (x1 + x2 - x3 + x4) -x2 * x3 * x4 - x1 * x3 - x1 * x2 - x4\n",
    "dom = a × b × c × d\n",
    "@variable(model, γ)\n",
    "S = @set inf(a) <= x1 && x1 <= sup(a) &&\n",
    "         inf(b) <= x2 && x2 <= sup(b) &&\n",
    "         inf(c) <= x3 && x3 <= sup(c) &&\n",
    "         inf(d) <= x4 && x4 <= sup(d)\n",
    "@constraint(model, p <= γ, domain=S, maxdegree=k)\n",
    "@objective(model, Min, γ)\n",
    "optimize!(model)\n",
    "max_bound = objective_value(model)\n",
    "\n",
    "# =============\n",
    "# lower bound\n",
    "# =============\n",
    "\n",
    "#model = SOSModel(with_optimizer(SDPA.Optimizer))\n",
    "model = SOSModel(with_optimizer(Mosek.Optimizer, QUIET=true))\n",
    "@variable(model, γ)\n",
    "@constraint(model, p >= γ, domain=S, maxdegree=k)\n",
    "@objective(model, Max, γ)\n",
    "optimize!(model)\n",
    "min_bound = objective_value(model)\n",
    "REF[model_name] = (min_bound, max_bound)"
   ]
  },
  {
   "cell_type": "markdown",
   "metadata": {},
   "source": [
    "## Kepler3"
   ]
  },
  {
   "cell_type": "code",
   "execution_count": 95,
   "metadata": {},
   "outputs": [
    {
     "data": {
      "text/plain": [
       "(-309.8484155131222, 17.982082401462407)"
      ]
     },
     "execution_count": 95,
     "metadata": {},
     "output_type": "execute_result"
    }
   ],
   "source": [
    "# =============\n",
    "# upper bound\n",
    "# =============\n",
    "\n",
    "model_name = \"kepler3\"\n",
    "#model = SOSModel(with_optimizer(SDPA.Optimizer))\n",
    "model = SOSModel(with_optimizer(Mosek.Optimizer, QUIET=true))\n",
    "k = 6\n",
    "@polyvar x1 x2 x3 x4 x5 x6\n",
    "p =  x1 * x4 * (-x1 + x2 + x3 - x4 + x5 + x6) +\n",
    "     x2 * x5 * (x1 - x2 + x3 + x4 - x5 + x6) +x3* x6 * (x1 + x2 - x3 + x4 + x5 - x6) -\n",
    "     x2 * x3 * x4 -x1* x3* x5 - x1 * x2 * x6 - x4 * x5 * x6\n",
    "dom = a × b × c × d × e × f\n",
    "@variable(model, γ)\n",
    "S = @set inf(a) <= x1 && x1 <= sup(a) &&\n",
    "         inf(b) <= x2 && x2 <= sup(b) &&\n",
    "         inf(c) <= x3 && x3 <= sup(c) &&\n",
    "         inf(d) <= x4 && x4 <= sup(d) &&\n",
    "         inf(e) <= x5 && x5 <= sup(e) &&\n",
    "         inf(f) <= x6 && x6 <= sup(f)\n",
    "@constraint(model, p <= γ, domain=S, maxdegree=k)\n",
    "@objective(model, Min, γ)\n",
    "optimize!(model)\n",
    "max_bound = objective_value(model)\n",
    "\n",
    "# =============\n",
    "# lower bound\n",
    "# =============\n",
    "\n",
    "#model = SOSModel(with_optimizer(SDPA.Optimizer))\n",
    "model = SOSModel(with_optimizer(Mosek.Optimizer, QUIET=true))\n",
    "@variable(model, γ)\n",
    "@constraint(model, p >= γ, domain=S, maxdegree=k)\n",
    "@objective(model, Max, γ)\n",
    "optimize!(model)\n",
    "min_bound = objective_value(model)\n",
    "REF[model_name] = (min_bound, max_bound)"
   ]
  },
  {
   "cell_type": "markdown",
   "metadata": {},
   "source": [
    "## RigidBody1"
   ]
  },
  {
   "cell_type": "code",
   "execution_count": 97,
   "metadata": {},
   "outputs": [
    {
     "data": {
      "text/plain": [
       "(-20.786552979420335, -0.540012836551535)"
      ]
     },
     "execution_count": 97,
     "metadata": {},
     "output_type": "execute_result"
    }
   ],
   "source": [
    "# =============\n",
    "# upper bound\n",
    "# =============\n",
    "\n",
    "model_name = \"rigidbody1\"\n",
    "#model = SOSModel(with_optimizer(SDPA.Optimizer))\n",
    "model = SOSModel(with_optimizer(Mosek.Optimizer, QUIET=true))\n",
    "k = 6\n",
    "@polyvar x1 x2 x3\n",
    "p = -x1*x2 - 2*x2*x3 - x1 - x3\n",
    "dom = a × b × c\n",
    "@variable(model, γ)\n",
    "S = @set inf(a) <= x1 && x1 <= sup(a) &&\n",
    "         inf(b) <= x2 && x2 <= sup(b) &&\n",
    "         inf(c) <= x3 && x3 <= sup(c)\n",
    "@constraint(model, p <= γ, domain=S, maxdegree=k)\n",
    "@objective(model, Min, γ)\n",
    "optimize!(model)\n",
    "max_bound = objective_value(model)\n",
    "\n",
    "# =============\n",
    "# lower bound\n",
    "# =============\n",
    "\n",
    "#model = SOSModel(with_optimizer(SDPA.Optimizer))\n",
    "model = SOSModel(with_optimizer(Mosek.Optimizer, QUIET=true))\n",
    "@variable(model, γ)\n",
    "@constraint(model, p >= γ, domain=S, maxdegree=k)\n",
    "@objective(model, Max, γ)\n",
    "optimize!(model)\n",
    "min_bound = objective_value(model)\n",
    "REF[model_name] = (min_bound, max_bound)"
   ]
  },
  {
   "cell_type": "markdown",
   "metadata": {},
   "source": [
    "## RigidBody2"
   ]
  },
  {
   "cell_type": "code",
   "execution_count": 98,
   "metadata": {
    "scrolled": true
   },
   "outputs": [
    {
     "data": {
      "text/plain": [
       "(68.81138021006673, 359.98566570476504)"
      ]
     },
     "execution_count": 98,
     "metadata": {},
     "output_type": "execute_result"
    }
   ],
   "source": [
    "# =============\n",
    "# upper bound\n",
    "# =============\n",
    "\n",
    "model_name = \"rigidbody2\"\n",
    "#model = SOSModel(with_optimizer(SDPA.Optimizer))\n",
    "model = SOSModel(with_optimizer(Mosek.Optimizer, QUIET=true))\n",
    "k = 6\n",
    "@polyvar x1 x2 x3\n",
    "p = 2*(x1*x2*x3) + (3*x3*x3) - x2*(x1*x2*x3) + (3*x3*x3) - x2\n",
    "dom = a × b × c\n",
    "@variable(model, γ)\n",
    "S = @set inf(a) <= x1 && x1 <= sup(a) &&\n",
    "         inf(b) <= x2 && x2 <= sup(b) &&\n",
    "         inf(c) <= x3 && x3 <= sup(c)\n",
    "@constraint(model, p <= γ, domain=S, maxdegree=k)\n",
    "@objective(model, Min, γ)\n",
    "optimize!(model)\n",
    "max_bound = objective_value(model)\n",
    "\n",
    "# =============\n",
    "# lower bound\n",
    "# =============\n",
    "\n",
    "#model = SOSModel(with_optimizer(SDPA.Optimizer))\n",
    "model = SOSModel(with_optimizer(Mosek.Optimizer, QUIET=true))\n",
    "@variable(model, γ)\n",
    "@constraint(model, p >= γ, domain=S, maxdegree=k)\n",
    "@objective(model, Max, γ)\n",
    "optimize!(model)\n",
    "min_bound = objective_value(model)\n",
    "REF[model_name] = (min_bound, max_bound)"
   ]
  },
  {
   "cell_type": "markdown",
   "metadata": {},
   "source": [
    "## Results"
   ]
  },
  {
   "cell_type": "code",
   "execution_count": 115,
   "metadata": {},
   "outputs": [
    {
     "name": "stdout",
     "output_type": "stream",
     "text": [
      "bspline1 : (-65.14582571514087, 0.5631666653631329)\n",
      "himmilbeau : (85.46830677734748, 221.7338939301446)\n",
      "bspline3 : (0.004500048981347225, 15.18749986989248)\n",
      "rigidbody1 : (-20.786552979420335, -0.540012836551535)\n",
      "rigidbody2 : (68.81138021006673, 359.98566570476504)\n",
      "bspline2 : (0.07407407744904644, 53.60416654726812)\n",
      "kepler1 : (-5.255935494810441, 7.321362422825775)\n",
      "bspline0 : (0.36616666317087393, 27.729165285894855)\n",
      "kepler3 : (-309.8484155131222, 17.982082401462407)\n",
      "kepler2 : (-195.36974909125482, 78.3669520644375)\n"
     ]
    }
   ],
   "source": [
    "[println(string(k), \" : \", REF[k]) for k in keys(REF)];"
   ]
  },
  {
   "cell_type": "code",
   "execution_count": null,
   "metadata": {},
   "outputs": [],
   "source": []
  }
 ],
 "metadata": {
  "@webio": {
   "lastCommId": null,
   "lastKernelId": null
  },
  "kernelspec": {
   "display_name": "Julia 1.1.0-rc2",
   "language": "julia",
   "name": "julia-1.1"
  },
  "language_info": {
   "file_extension": ".jl",
   "mimetype": "application/julia",
   "name": "julia",
   "version": "1.1.0"
  }
 },
 "nbformat": 4,
 "nbformat_minor": 2
}
