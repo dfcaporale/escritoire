{
 "cells": [
  {
   "cell_type": "markdown",
   "metadata": {},
   "source": [
    "References:\n",
    "\n",
    "- https://github.com/JuliaReach/LazySets.jl/issues/1476"
   ]
  },
  {
   "cell_type": "markdown",
   "metadata": {},
   "source": [
    "## Two dimensions"
   ]
  },
  {
   "cell_type": "code",
   "execution_count": 1,
   "metadata": {},
   "outputs": [],
   "source": [
    "using LazySets, Plots"
   ]
  },
  {
   "cell_type": "code",
   "execution_count": 21,
   "metadata": {},
   "outputs": [
    {
     "data": {
      "text/plain": [
       "HPolygon{Float64}(HalfSpace{Float64,VN} where VN<:AbstractArray{Float64,1}[HalfSpace{Float64,Array{Float64,1}}([1.0, 0.0], 0.2), HalfSpace{Float64,Array{Float64,1}}([0.0, 1.0], 0.2), HalfSpace{Float64,Array{Float64,1}}([-1.0, 0.0], 0.2), HalfSpace{Float64,Array{Float64,1}}([0.0, -1.0], 0.2)])"
      ]
     },
     "execution_count": 21,
     "metadata": {},
     "output_type": "execute_result"
    }
   ],
   "source": [
    "using LazySets.Approximations\n",
    "\n",
    "n = 2\n",
    "A = [Matrix{Float64}(I, n,n); -Matrix{Float64}(I, n,n)]\n",
    "b = 0.1*ones(size(A,1))\n",
    "hPoly = HPolyhedron(A, b)\n",
    "minkowSum = hPoly ⊕ hPoly\n",
    "oa = overapproximate(minkowSum, 1e-3)"
   ]
  },
  {
   "cell_type": "code",
   "execution_count": 22,
   "metadata": {},
   "outputs": [
    {
     "data": {
      "image/svg+xml": [
       "<?xml version=\"1.0\" encoding=\"utf-8\"?>\n",
       "<svg xmlns=\"http://www.w3.org/2000/svg\" xmlns:xlink=\"http://www.w3.org/1999/xlink\" width=\"600\" height=\"400\" viewBox=\"0 0 2400 1600\">\n",
       "<defs>\n",
       "  <clipPath id=\"clip5800\">\n",
       "    <rect x=\"0\" y=\"0\" width=\"2400\" height=\"1600\"/>\n",
       "  </clipPath>\n",
       "</defs>\n",
       "<polygon clip-path=\"url(#clip5800)\" points=\"\n",
       "0,1600 2400,1600 2400,0 0,0 \n",
       "  \" fill=\"#ffffff\" fill-rule=\"evenodd\" fill-opacity=\"1\"/>\n",
       "<defs>\n",
       "  <clipPath id=\"clip5801\">\n",
       "    <rect x=\"480\" y=\"0\" width=\"1681\" height=\"1600\"/>\n",
       "  </clipPath>\n",
       "</defs>\n",
       "<polygon clip-path=\"url(#clip5800)\" points=\"\n",
       "189.504,1503.47 2321.26,1503.47 2321.26,47.2441 189.504,47.2441 \n",
       "  \" fill=\"#ffffff\" fill-rule=\"evenodd\" fill-opacity=\"1\"/>\n",
       "<defs>\n",
       "  <clipPath id=\"clip5802\">\n",
       "    <rect x=\"189\" y=\"47\" width=\"2133\" height=\"1457\"/>\n",
       "  </clipPath>\n",
       "</defs>\n",
       "<polyline clip-path=\"url(#clip5802)\" style=\"stroke:#000000; stroke-width:2; stroke-opacity:0.1; fill:none\" points=\"\n",
       "  249.837,1503.47 249.837,47.2441 \n",
       "  \"/>\n",
       "<polyline clip-path=\"url(#clip5802)\" style=\"stroke:#000000; stroke-width:2; stroke-opacity:0.1; fill:none\" points=\"\n",
       "  752.609,1503.47 752.609,47.2441 \n",
       "  \"/>\n",
       "<polyline clip-path=\"url(#clip5802)\" style=\"stroke:#000000; stroke-width:2; stroke-opacity:0.1; fill:none\" points=\"\n",
       "  1255.38,1503.47 1255.38,47.2441 \n",
       "  \"/>\n",
       "<polyline clip-path=\"url(#clip5802)\" style=\"stroke:#000000; stroke-width:2; stroke-opacity:0.1; fill:none\" points=\"\n",
       "  1758.15,1503.47 1758.15,47.2441 \n",
       "  \"/>\n",
       "<polyline clip-path=\"url(#clip5802)\" style=\"stroke:#000000; stroke-width:2; stroke-opacity:0.1; fill:none\" points=\"\n",
       "  2260.93,1503.47 2260.93,47.2441 \n",
       "  \"/>\n",
       "<polyline clip-path=\"url(#clip5802)\" style=\"stroke:#000000; stroke-width:2; stroke-opacity:0.1; fill:none\" points=\"\n",
       "  189.504,1462.26 2321.26,1462.26 \n",
       "  \"/>\n",
       "<polyline clip-path=\"url(#clip5802)\" style=\"stroke:#000000; stroke-width:2; stroke-opacity:0.1; fill:none\" points=\"\n",
       "  189.504,1118.81 2321.26,1118.81 \n",
       "  \"/>\n",
       "<polyline clip-path=\"url(#clip5802)\" style=\"stroke:#000000; stroke-width:2; stroke-opacity:0.1; fill:none\" points=\"\n",
       "  189.504,775.359 2321.26,775.359 \n",
       "  \"/>\n",
       "<polyline clip-path=\"url(#clip5802)\" style=\"stroke:#000000; stroke-width:2; stroke-opacity:0.1; fill:none\" points=\"\n",
       "  189.504,431.909 2321.26,431.909 \n",
       "  \"/>\n",
       "<polyline clip-path=\"url(#clip5802)\" style=\"stroke:#000000; stroke-width:2; stroke-opacity:0.1; fill:none\" points=\"\n",
       "  189.504,88.4582 2321.26,88.4582 \n",
       "  \"/>\n",
       "<polyline clip-path=\"url(#clip5800)\" style=\"stroke:#000000; stroke-width:4; stroke-opacity:1; fill:none\" points=\"\n",
       "  189.504,1503.47 2321.26,1503.47 \n",
       "  \"/>\n",
       "<polyline clip-path=\"url(#clip5800)\" style=\"stroke:#000000; stroke-width:4; stroke-opacity:1; fill:none\" points=\"\n",
       "  189.504,1503.47 189.504,47.2441 \n",
       "  \"/>\n",
       "<polyline clip-path=\"url(#clip5800)\" style=\"stroke:#000000; stroke-width:4; stroke-opacity:1; fill:none\" points=\"\n",
       "  249.837,1503.47 249.837,1481.63 \n",
       "  \"/>\n",
       "<polyline clip-path=\"url(#clip5800)\" style=\"stroke:#000000; stroke-width:4; stroke-opacity:1; fill:none\" points=\"\n",
       "  752.609,1503.47 752.609,1481.63 \n",
       "  \"/>\n",
       "<polyline clip-path=\"url(#clip5800)\" style=\"stroke:#000000; stroke-width:4; stroke-opacity:1; fill:none\" points=\"\n",
       "  1255.38,1503.47 1255.38,1481.63 \n",
       "  \"/>\n",
       "<polyline clip-path=\"url(#clip5800)\" style=\"stroke:#000000; stroke-width:4; stroke-opacity:1; fill:none\" points=\"\n",
       "  1758.15,1503.47 1758.15,1481.63 \n",
       "  \"/>\n",
       "<polyline clip-path=\"url(#clip5800)\" style=\"stroke:#000000; stroke-width:4; stroke-opacity:1; fill:none\" points=\"\n",
       "  2260.93,1503.47 2260.93,1481.63 \n",
       "  \"/>\n",
       "<polyline clip-path=\"url(#clip5800)\" style=\"stroke:#000000; stroke-width:4; stroke-opacity:1; fill:none\" points=\"\n",
       "  189.504,1462.26 221.48,1462.26 \n",
       "  \"/>\n",
       "<polyline clip-path=\"url(#clip5800)\" style=\"stroke:#000000; stroke-width:4; stroke-opacity:1; fill:none\" points=\"\n",
       "  189.504,1118.81 221.48,1118.81 \n",
       "  \"/>\n",
       "<polyline clip-path=\"url(#clip5800)\" style=\"stroke:#000000; stroke-width:4; stroke-opacity:1; fill:none\" points=\"\n",
       "  189.504,775.359 221.48,775.359 \n",
       "  \"/>\n",
       "<polyline clip-path=\"url(#clip5800)\" style=\"stroke:#000000; stroke-width:4; stroke-opacity:1; fill:none\" points=\"\n",
       "  189.504,431.909 221.48,431.909 \n",
       "  \"/>\n",
       "<polyline clip-path=\"url(#clip5800)\" style=\"stroke:#000000; stroke-width:4; stroke-opacity:1; fill:none\" points=\"\n",
       "  189.504,88.4582 221.48,88.4582 \n",
       "  \"/>\n",
       "<g clip-path=\"url(#clip5800)\">\n",
       "<text style=\"fill:#000000; fill-opacity:1; font-family:Arial,Helvetica Neue,Helvetica,sans-serif; font-size:48px; text-anchor:middle;\" transform=\"rotate(0, 249.837, 1557.47)\" x=\"249.837\" y=\"1557.47\">-0.2</text>\n",
       "</g>\n",
       "<g clip-path=\"url(#clip5800)\">\n",
       "<text style=\"fill:#000000; fill-opacity:1; font-family:Arial,Helvetica Neue,Helvetica,sans-serif; font-size:48px; text-anchor:middle;\" transform=\"rotate(0, 752.609, 1557.47)\" x=\"752.609\" y=\"1557.47\">-0.1</text>\n",
       "</g>\n",
       "<g clip-path=\"url(#clip5800)\">\n",
       "<text style=\"fill:#000000; fill-opacity:1; font-family:Arial,Helvetica Neue,Helvetica,sans-serif; font-size:48px; text-anchor:middle;\" transform=\"rotate(0, 1255.38, 1557.47)\" x=\"1255.38\" y=\"1557.47\">0.0</text>\n",
       "</g>\n",
       "<g clip-path=\"url(#clip5800)\">\n",
       "<text style=\"fill:#000000; fill-opacity:1; font-family:Arial,Helvetica Neue,Helvetica,sans-serif; font-size:48px; text-anchor:middle;\" transform=\"rotate(0, 1758.15, 1557.47)\" x=\"1758.15\" y=\"1557.47\">0.1</text>\n",
       "</g>\n",
       "<g clip-path=\"url(#clip5800)\">\n",
       "<text style=\"fill:#000000; fill-opacity:1; font-family:Arial,Helvetica Neue,Helvetica,sans-serif; font-size:48px; text-anchor:middle;\" transform=\"rotate(0, 2260.93, 1557.47)\" x=\"2260.93\" y=\"1557.47\">0.2</text>\n",
       "</g>\n",
       "<g clip-path=\"url(#clip5800)\">\n",
       "<text style=\"fill:#000000; fill-opacity:1; font-family:Arial,Helvetica Neue,Helvetica,sans-serif; font-size:48px; text-anchor:end;\" transform=\"rotate(0, 165.504, 1479.76)\" x=\"165.504\" y=\"1479.76\">-0.2</text>\n",
       "</g>\n",
       "<g clip-path=\"url(#clip5800)\">\n",
       "<text style=\"fill:#000000; fill-opacity:1; font-family:Arial,Helvetica Neue,Helvetica,sans-serif; font-size:48px; text-anchor:end;\" transform=\"rotate(0, 165.504, 1136.31)\" x=\"165.504\" y=\"1136.31\">-0.1</text>\n",
       "</g>\n",
       "<g clip-path=\"url(#clip5800)\">\n",
       "<text style=\"fill:#000000; fill-opacity:1; font-family:Arial,Helvetica Neue,Helvetica,sans-serif; font-size:48px; text-anchor:end;\" transform=\"rotate(0, 165.504, 792.859)\" x=\"165.504\" y=\"792.859\">0.0</text>\n",
       "</g>\n",
       "<g clip-path=\"url(#clip5800)\">\n",
       "<text style=\"fill:#000000; fill-opacity:1; font-family:Arial,Helvetica Neue,Helvetica,sans-serif; font-size:48px; text-anchor:end;\" transform=\"rotate(0, 165.504, 449.409)\" x=\"165.504\" y=\"449.409\">0.1</text>\n",
       "</g>\n",
       "<g clip-path=\"url(#clip5800)\">\n",
       "<text style=\"fill:#000000; fill-opacity:1; font-family:Arial,Helvetica Neue,Helvetica,sans-serif; font-size:48px; text-anchor:end;\" transform=\"rotate(0, 165.504, 105.958)\" x=\"165.504\" y=\"105.958\">0.2</text>\n",
       "</g>\n",
       "<polygon clip-path=\"url(#clip5802)\" points=\"\n",
       "1758.15,431.909 752.609,431.909 752.609,1118.81 1758.15,1118.81 1758.15,431.909 1758.15,431.909 \n",
       "  \" fill=\"#009af9\" fill-rule=\"evenodd\" fill-opacity=\"0.5\"/>\n",
       "<polyline clip-path=\"url(#clip5802)\" style=\"stroke:#000000; stroke-width:4; stroke-opacity:0.5; fill:none\" points=\"\n",
       "  1758.15,431.909 752.609,431.909 752.609,1118.81 1758.15,1118.81 1758.15,431.909 \n",
       "  \"/>\n",
       "<polygon clip-path=\"url(#clip5802)\" points=\"\n",
       "2260.93,88.4582 249.837,88.4582 249.837,1462.26 2260.93,1462.26 2260.93,88.4582 2260.93,88.4582 \n",
       "  \" fill=\"#e26f46\" fill-rule=\"evenodd\" fill-opacity=\"0.5\"/>\n",
       "<polyline clip-path=\"url(#clip5802)\" style=\"stroke:#000000; stroke-width:4; stroke-opacity:0.5; fill:none\" points=\"\n",
       "  2260.93,88.4582 249.837,88.4582 249.837,1462.26 2260.93,1462.26 2260.93,88.4582 \n",
       "  \"/>\n",
       "<polygon clip-path=\"url(#clip5802)\" points=\"\n",
       "2260.93,88.4582 249.837,88.4582 249.837,1462.26 2260.93,1462.26 2260.93,88.4582 2260.93,88.4582 \n",
       "  \" fill=\"#3da44d\" fill-rule=\"evenodd\" fill-opacity=\"0.5\"/>\n",
       "<polyline clip-path=\"url(#clip5802)\" style=\"stroke:#000000; stroke-width:4; stroke-opacity:0.5; fill:none\" points=\"\n",
       "  2260.93,88.4582 249.837,88.4582 249.837,1462.26 2260.93,1462.26 2260.93,88.4582 \n",
       "  \"/>\n",
       "</svg>\n"
      ]
     },
     "execution_count": 22,
     "metadata": {},
     "output_type": "execute_result"
    }
   ],
   "source": [
    "plot(hPoly1)\n",
    "plot!(minkowSum)\n",
    "plot!(oa)"
   ]
  },
  {
   "cell_type": "markdown",
   "metadata": {},
   "source": [
    "## Three dimensions"
   ]
  },
  {
   "cell_type": "markdown",
   "metadata": {},
   "source": [
    "We do not support epsilon-close approximation at the moment (see LazySets#969). However, if one is not interested in controlling the approximation error in Hausdorff distance (this is what we call epsilon-close approximation), the calculation of above can be handled in higher dims as well using template directions."
   ]
  },
  {
   "cell_type": "code",
   "execution_count": 27,
   "metadata": {},
   "outputs": [
    {
     "data": {
      "text/plain": [
       "HPolytope{Float64}(HalfSpace{Float64,VN} where VN<:AbstractArray{Float64,1}[HalfSpace{Float64,Array{Float64,1}}([0.0, 0.0, 1.0], 0.2), HalfSpace{Float64,Array{Float64,1}}([0.0, 0.0, -1.0], 0.2), HalfSpace{Float64,Array{Float64,1}}([0.34202, 0.0, 0.939693], 0.256343), HalfSpace{Float64,Array{Float64,1}}([0.642788, 0.0, 0.766044], 0.281766), HalfSpace{Float64,Array{Float64,1}}([0.866025, 0.0, 0.5], 0.273205), HalfSpace{Float64,Array{Float64,1}}([0.984808, 0.0, 0.173648], 0.231691), HalfSpace{Float64,Array{Float64,1}}([0.984808, 0.0, -0.173648], 0.231691), HalfSpace{Float64,Array{Float64,1}}([0.866025, 0.0, -0.5], 0.273205), HalfSpace{Float64,Array{Float64,1}}([0.642788, 0.0, -0.766044], 0.281766), HalfSpace{Float64,Array{Float64,1}}([0.34202, 0.0, -0.939693], 0.256343)  …  HalfSpace{Float64,Array{Float64,1}}([0.111619, -0.633022, -0.766044], 0.302137), HalfSpace{Float64,Array{Float64,1}}([0.0593912, -0.336824, -0.939693], 0.267182), HalfSpace{Float64,Array{Float64,1}}([0.262003, -0.219846, 0.939693], 0.284308), HalfSpace{Float64,Array{Float64,1}}([0.492404, -0.413176, 0.766044], 0.334325), HalfSpace{Float64,Array{Float64,1}}([0.663414, -0.55667, 0.5], 0.344017), HalfSpace{Float64,Array{Float64,1}}([0.754407, -0.633022, 0.173648], 0.312215), HalfSpace{Float64,Array{Float64,1}}([0.754407, -0.633022, -0.173648], 0.312215), HalfSpace{Float64,Array{Float64,1}}([0.663414, -0.55667, -0.5], 0.344017), HalfSpace{Float64,Array{Float64,1}}([0.492404, -0.413176, -0.766044], 0.334325), HalfSpace{Float64,Array{Float64,1}}([0.262003, -0.219846, -0.939693], 0.284308)])"
      ]
     },
     "execution_count": 27,
     "metadata": {},
     "output_type": "execute_result"
    }
   ],
   "source": [
    "n = 3\n",
    "A = [Matrix{Float64}(I, n,n); -Matrix{Float64}(I, n,n)]\n",
    "b = 0.1*ones(size(A,1))\n",
    "hPoly = HPolytope(A, b)\n",
    "minkowSum = hPoly ⊕ hPoly \n",
    "dirs = SphericalDirections(10, 10)\n",
    "oa = overapproximate(minkowSum, dirs)"
   ]
  },
  {
   "cell_type": "code",
   "execution_count": 39,
   "metadata": {},
   "outputs": [],
   "source": [
    "using Polyhedra, CDDLib\n",
    "using Makie: mesh, mesh!\n",
    "using AbstractPlotting: Automatic\n",
    "using Polyhedra: Mesh"
   ]
  },
  {
   "cell_type": "code",
   "execution_count": 54,
   "metadata": {},
   "outputs": [
    {
     "data": {
      "image/png": "[encoded data removed]",
      "text/plain": [
       "Scene (960px, 540px):\n",
       "events:\n",
       "    window_area: GeometryTypes.HyperRectangle{2,Int64}([0, 0], [0, 0])\n",
       "    window_dpi: 100.0\n",
       "    window_open: false\n",
       "    mousebuttons: Set(AbstractPlotting.Mouse.Button[])\n",
       "    mouseposition: (0.0, 0.0)\n",
       "    mousedrag: notpressed\n",
       "    scroll: (0.0, 0.0)\n",
       "    keyboardbuttons: Set(AbstractPlotting.Keyboard.Button[])\n",
       "    unicode_input: Char[]\n",
       "    dropped_files: String[]\n",
       "    hasfocus: false\n",
       "    entered_window: false\n",
       "plots:\n",
       "   *Axis3D{...}\n",
       "   *Mesh{...}\n",
       "   *Mesh{...}\n",
       "subscenes:"
      ]
     },
     "execution_count": 54,
     "metadata": {},
     "output_type": "execute_result"
    }
   ],
   "source": [
    "P_poly = polyhedron(oa, backend=CDDLib.Library())\n",
    "P_poly_mesh = Mesh(P_poly)\n",
    "mesh(P_poly_mesh, alpha=1.0, color=:blue, colormap=:viridis, colorrange=Automatic(), interpolate=false,\n",
    "linewidth=1, overdraw=false, shading=true, transparency=true, visible=true)\n",
    "\n",
    "mesh!(Mesh(polyhedron(hPoly, backend=CDDLib.Library())), alpha=1.0, color=:red, colormap=:viridis, colorrange=Automatic(), interpolate=false,\n",
    "linewidth=1, overdraw=false, shading=true, transparency=true, visible=true)"
   ]
  },
  {
   "cell_type": "markdown",
   "metadata": {},
   "source": [
    "## LazySets v1.14 + Polyhedra v0.5.2"
   ]
  },
  {
   "cell_type": "code",
   "execution_count": 221,
   "metadata": {},
   "outputs": [
    {
     "data": {
      "text/plain": [
       "f1476 (generic function with 2 methods)"
      ]
     },
     "execution_count": 221,
     "metadata": {},
     "output_type": "execute_result"
    }
   ],
   "source": [
    "using LazySets, Polyhedra, Random\n",
    "\n",
    "function f1476(n, backend=Polyhedra.default_library(n, Float64))\n",
    "    rng = MersenneTwister(n)\n",
    "    \n",
    "    P = convert(HPolytope, rand(Hyperrectangle, dim=n))\n",
    "    # P = rand(HPolytope, dim=n, rng=rng) # slow for high dims\n",
    "\n",
    "    A = rand(rng, n, n)\n",
    "    AP = linear_map(A, P)\n",
    "    minkowski_sum(AP, P, backend=backend) # concrete M-sum\n",
    "end"
   ]
  },
  {
   "cell_type": "code",
   "execution_count": 226,
   "metadata": {},
   "outputs": [
    {
     "name": "stdout",
     "output_type": "stream",
     "text": [
      "  0.001282 seconds (5.16 k allocations: 281.656 KiB)\n",
      "  0.008583 seconds (33.59 k allocations: 2.646 MiB)\n",
      "  0.071435 seconds (114.23 k allocations: 11.288 MiB, 18.36% gc time)\n",
      "  0.590093 seconds (421.88 k allocations: 73.879 MiB, 6.07% gc time)\n"
     ]
    }
   ],
   "source": [
    "res_default_library = []\n",
    "for n in 2:5\n",
    "    @time f1476(n)\n",
    "    push!(res_default_library, f1476(n))\n",
    "end"
   ]
  },
  {
   "cell_type": "code",
   "execution_count": 227,
   "metadata": {},
   "outputs": [
    {
     "name": "stdout",
     "output_type": "stream",
     "text": [
      "  0.000853 seconds (719 allocations: 56.922 KiB)\n",
      "  0.007092 seconds (2.74 k allocations: 155.313 KiB)\n",
      "  0.109957 seconds (8.35 k allocations: 438.922 KiB)\n",
      "  2.761628 seconds (29.99 k allocations: 1.513 MiB)\n"
     ]
    }
   ],
   "source": [
    "using CDDLib\n",
    "\n",
    "res_cddlib = []\n",
    "for n in 2:5\n",
    "    lib = CDDLib.Library()\n",
    "    @time f1476(n, lib)\n",
    "    push!(res_cddlib, f1476(n, lib))\n",
    "end"
   ]
  },
  {
   "cell_type": "markdown",
   "metadata": {},
   "source": [
    "## Overapproximation with random directions"
   ]
  },
  {
   "cell_type": "markdown",
   "metadata": {},
   "source": [
    "In https://github.com/JuliaReach/LazySets.jl/pull/1503 we added uniform sampling of balls and spheres. This method can be used to overapproximate convex sets. Examples are presented next."
   ]
  },
  {
   "cell_type": "code",
   "execution_count": 1,
   "metadata": {},
   "outputs": [
    {
     "name": "stderr",
     "output_type": "stream",
     "text": [
      "┌ Info: Recompiling stale cache file /Users/forets/.julia/compiled/v1.1/LazySets/NjrGc.ji for LazySets [b4f0291d-fe17-52bc-9479-3d1a343d9043]\n",
      "└ @ Base loading.jl:1184\n",
      "┌ Warning: Package LazySets does not have CDDLib in its dependencies:\n",
      "│ - If you have LazySets checked out for development and have\n",
      "│   added CDDLib as a dependency but haven't updated your primary\n",
      "│   environment's manifest file, try `Pkg.resolve()`.\n",
      "│ - Otherwise you may need to report an issue with LazySets\n",
      "└ Loading CDDLib into LazySets from project dependency, future warnings for LazySets are suppressed.\n"
     ]
    }
   ],
   "source": [
    "using LazySets, Polyhedra, Random, Plots\n",
    "using LazySets.Approximations\n",
    "import Distributions # required for LazySets.sample\n",
    "\n",
    "using LazySets: _sample_unit_nsphere_muller!"
   ]
  },
  {
   "cell_type": "code",
   "execution_count": 2,
   "metadata": {},
   "outputs": [
    {
     "data": {
      "text/plain": [
       "data1476 (generic function with 2 methods)"
      ]
     },
     "execution_count": 2,
     "metadata": {},
     "output_type": "execute_result"
    }
   ],
   "source": [
    "using Random\n",
    "\n",
    "function data1476(n, backend=Polyhedra.default_library(n, Float64))\n",
    "    rng = MersenneTwister(n)\n",
    "    P = convert(HPolytope, rand(Hyperrectangle, dim=n))\n",
    "    A = rand(rng, n, n)\n",
    "    P, A\n",
    "    # AP = linear_map(A, P)\n",
    "    # minkowski_sum(AP, P, backend=backend) # concrete M-sum\n",
    "end"
   ]
  },
  {
   "cell_type": "code",
   "execution_count": 3,
   "metadata": {},
   "outputs": [
    {
     "data": {
      "text/plain": [
       "(HPolytope{Float64}(LazySets.HalfSpace{Float64,VN} where VN<:AbstractArray{Float64,1}[HalfSpace{Float64,SingleEntryVector{Float64}}([1.0, 0.0], 0.863383), HalfSpace{Float64,SingleEntryVector{Float64}}([0.0, 1.0], 2.24162), HalfSpace{Float64,Array{Float64,1}}([-1.0, -0.0], 0.23343), HalfSpace{Float64,Array{Float64,1}}([-0.0, -1.0], -1.01436)]), [0.366796 0.210256; 0.523879 0.819338])"
      ]
     },
     "execution_count": 3,
     "metadata": {},
     "output_type": "execute_result"
    }
   ],
   "source": [
    "n = 2 # dimension\n",
    "P, A = data1476(n)"
   ]
  },
  {
   "cell_type": "code",
   "execution_count": 27,
   "metadata": {},
   "outputs": [],
   "source": [
    "function LazySets.Approximations.overapproximate(X::LazySet{N}, dirs::Vector{Vector{N}}) where {N}\n",
    "    halfspaces = Vector{LinearConstraint{N}}()\n",
    "    sizehint!(halfspaces, length(dirs))\n",
    "    H = HPolytope(halfspaces)\n",
    "    for d in dirs\n",
    "        addconstraint!(H, LinearConstraint(d, ρ(d, X)))\n",
    "    end\n",
    "    return H\n",
    "end"
   ]
  },
  {
   "cell_type": "code",
   "execution_count": 28,
   "metadata": {},
   "outputs": [],
   "source": [
    "# uniformly sample the n-sphere\n",
    "nsamples = 100\n",
    "dirs = Vector{Vector{Float64}}(undef, nsamples)\n",
    "_sample_unit_nsphere_muller!(dirs, n, nsamples);"
   ]
  },
  {
   "cell_type": "code",
   "execution_count": 29,
   "metadata": {},
   "outputs": [
    {
     "data": {
      "image/svg+xml": [
       "<?xml version=\"1.0\" encoding=\"utf-8\"?>\n",
       "<svg xmlns=\"http://www.w3.org/2000/svg\" xmlns:xlink=\"http://www.w3.org/1999/xlink\" width=\"600\" height=\"400\" viewBox=\"0 0 2400 1600\">\n",
       "<defs>\n",
       "  <clipPath id=\"clip2700\">\n",
       "    <rect x=\"0\" y=\"0\" width=\"2400\" height=\"1600\"/>\n",
       "  </clipPath>\n",
       "</defs>\n",
       "<polygon clip-path=\"url(#clip2700)\" points=\"\n",
       "0,1600 2400,1600 2400,0 0,0 \n",
       "  \" fill=\"#ffffff\" fill-rule=\"evenodd\" fill-opacity=\"1\"/>\n",
       "<defs>\n",
       "  <clipPath id=\"clip2701\">\n",
       "    <rect x=\"480\" y=\"0\" width=\"1681\" height=\"1600\"/>\n",
       "  </clipPath>\n",
       "</defs>\n",
       "<polygon clip-path=\"url(#clip2700)\" points=\"\n",
       "527.267,1503.47 1983.5,1503.47 1983.5,47.2441 527.267,47.2441 \n",
       "  \" fill=\"#ffffff\" fill-rule=\"evenodd\" fill-opacity=\"1\"/>\n",
       "<defs>\n",
       "  <clipPath id=\"clip2702\">\n",
       "    <rect x=\"527\" y=\"47\" width=\"1457\" height=\"1457\"/>\n",
       "  </clipPath>\n",
       "</defs>\n",
       "<polyline clip-path=\"url(#clip2702)\" style=\"stroke:#000000; stroke-width:2; stroke-opacity:0.1; fill:none\" points=\"\n",
       "  568.481,1503.47 568.481,47.2441 \n",
       "  \"/>\n",
       "<polyline clip-path=\"url(#clip2702)\" style=\"stroke:#000000; stroke-width:2; stroke-opacity:0.1; fill:none\" points=\"\n",
       "  911.931,1503.47 911.931,47.2441 \n",
       "  \"/>\n",
       "<polyline clip-path=\"url(#clip2702)\" style=\"stroke:#000000; stroke-width:2; stroke-opacity:0.1; fill:none\" points=\"\n",
       "  1255.38,1503.47 1255.38,47.2441 \n",
       "  \"/>\n",
       "<polyline clip-path=\"url(#clip2702)\" style=\"stroke:#000000; stroke-width:2; stroke-opacity:0.1; fill:none\" points=\"\n",
       "  1598.83,1503.47 1598.83,47.2441 \n",
       "  \"/>\n",
       "<polyline clip-path=\"url(#clip2702)\" style=\"stroke:#000000; stroke-width:2; stroke-opacity:0.1; fill:none\" points=\"\n",
       "  1942.28,1503.47 1942.28,47.2441 \n",
       "  \"/>\n",
       "<polyline clip-path=\"url(#clip2702)\" style=\"stroke:#000000; stroke-width:2; stroke-opacity:0.1; fill:none\" points=\"\n",
       "  527.267,1462.26 1983.5,1462.26 \n",
       "  \"/>\n",
       "<polyline clip-path=\"url(#clip2702)\" style=\"stroke:#000000; stroke-width:2; stroke-opacity:0.1; fill:none\" points=\"\n",
       "  527.267,1118.81 1983.5,1118.81 \n",
       "  \"/>\n",
       "<polyline clip-path=\"url(#clip2702)\" style=\"stroke:#000000; stroke-width:2; stroke-opacity:0.1; fill:none\" points=\"\n",
       "  527.267,775.359 1983.5,775.359 \n",
       "  \"/>\n",
       "<polyline clip-path=\"url(#clip2702)\" style=\"stroke:#000000; stroke-width:2; stroke-opacity:0.1; fill:none\" points=\"\n",
       "  527.267,431.909 1983.5,431.909 \n",
       "  \"/>\n",
       "<polyline clip-path=\"url(#clip2702)\" style=\"stroke:#000000; stroke-width:2; stroke-opacity:0.1; fill:none\" points=\"\n",
       "  527.267,88.4582 1983.5,88.4582 \n",
       "  \"/>\n",
       "<polyline clip-path=\"url(#clip2700)\" style=\"stroke:#000000; stroke-width:4; stroke-opacity:1; fill:none\" points=\"\n",
       "  527.267,1503.47 1983.5,1503.47 \n",
       "  \"/>\n",
       "<polyline clip-path=\"url(#clip2700)\" style=\"stroke:#000000; stroke-width:4; stroke-opacity:1; fill:none\" points=\"\n",
       "  527.267,1503.47 527.267,47.2441 \n",
       "  \"/>\n",
       "<polyline clip-path=\"url(#clip2700)\" style=\"stroke:#000000; stroke-width:4; stroke-opacity:1; fill:none\" points=\"\n",
       "  568.481,1503.47 568.481,1481.63 \n",
       "  \"/>\n",
       "<polyline clip-path=\"url(#clip2700)\" style=\"stroke:#000000; stroke-width:4; stroke-opacity:1; fill:none\" points=\"\n",
       "  911.931,1503.47 911.931,1481.63 \n",
       "  \"/>\n",
       "<polyline clip-path=\"url(#clip2700)\" style=\"stroke:#000000; stroke-width:4; stroke-opacity:1; fill:none\" points=\"\n",
       "  1255.38,1503.47 1255.38,1481.63 \n",
       "  \"/>\n",
       "<polyline clip-path=\"url(#clip2700)\" style=\"stroke:#000000; stroke-width:4; stroke-opacity:1; fill:none\" points=\"\n",
       "  1598.83,1503.47 1598.83,1481.63 \n",
       "  \"/>\n",
       "<polyline clip-path=\"url(#clip2700)\" style=\"stroke:#000000; stroke-width:4; stroke-opacity:1; fill:none\" points=\"\n",
       "  1942.28,1503.47 1942.28,1481.63 \n",
       "  \"/>\n",
       "<polyline clip-path=\"url(#clip2700)\" style=\"stroke:#000000; stroke-width:4; stroke-opacity:1; fill:none\" points=\"\n",
       "  527.267,1462.26 549.11,1462.26 \n",
       "  \"/>\n",
       "<polyline clip-path=\"url(#clip2700)\" style=\"stroke:#000000; stroke-width:4; stroke-opacity:1; fill:none\" points=\"\n",
       "  527.267,1118.81 549.11,1118.81 \n",
       "  \"/>\n",
       "<polyline clip-path=\"url(#clip2700)\" style=\"stroke:#000000; stroke-width:4; stroke-opacity:1; fill:none\" points=\"\n",
       "  527.267,775.359 549.11,775.359 \n",
       "  \"/>\n",
       "<polyline clip-path=\"url(#clip2700)\" style=\"stroke:#000000; stroke-width:4; stroke-opacity:1; fill:none\" points=\"\n",
       "  527.267,431.909 549.11,431.909 \n",
       "  \"/>\n",
       "<polyline clip-path=\"url(#clip2700)\" style=\"stroke:#000000; stroke-width:4; stroke-opacity:1; fill:none\" points=\"\n",
       "  527.267,88.4582 549.11,88.4582 \n",
       "  \"/>\n",
       "<g clip-path=\"url(#clip2700)\">\n",
       "<text style=\"fill:#000000; fill-opacity:1; font-family:Arial,Helvetica Neue,Helvetica,sans-serif; font-size:48px; text-anchor:middle;\" transform=\"rotate(0, 568.481, 1557.47)\" x=\"568.481\" y=\"1557.47\">-1.0</text>\n",
       "</g>\n",
       "<g clip-path=\"url(#clip2700)\">\n",
       "<text style=\"fill:#000000; fill-opacity:1; font-family:Arial,Helvetica Neue,Helvetica,sans-serif; font-size:48px; text-anchor:middle;\" transform=\"rotate(0, 911.931, 1557.47)\" x=\"911.931\" y=\"1557.47\">-0.5</text>\n",
       "</g>\n",
       "<g clip-path=\"url(#clip2700)\">\n",
       "<text style=\"fill:#000000; fill-opacity:1; font-family:Arial,Helvetica Neue,Helvetica,sans-serif; font-size:48px; text-anchor:middle;\" transform=\"rotate(0, 1255.38, 1557.47)\" x=\"1255.38\" y=\"1557.47\">0.0</text>\n",
       "</g>\n",
       "<g clip-path=\"url(#clip2700)\">\n",
       "<text style=\"fill:#000000; fill-opacity:1; font-family:Arial,Helvetica Neue,Helvetica,sans-serif; font-size:48px; text-anchor:middle;\" transform=\"rotate(0, 1598.83, 1557.47)\" x=\"1598.83\" y=\"1557.47\">0.5</text>\n",
       "</g>\n",
       "<g clip-path=\"url(#clip2700)\">\n",
       "<text style=\"fill:#000000; fill-opacity:1; font-family:Arial,Helvetica Neue,Helvetica,sans-serif; font-size:48px; text-anchor:middle;\" transform=\"rotate(0, 1942.28, 1557.47)\" x=\"1942.28\" y=\"1557.47\">1.0</text>\n",
       "</g>\n",
       "<g clip-path=\"url(#clip2700)\">\n",
       "<text style=\"fill:#000000; fill-opacity:1; font-family:Arial,Helvetica Neue,Helvetica,sans-serif; font-size:48px; text-anchor:end;\" transform=\"rotate(0, 503.267, 1479.76)\" x=\"503.267\" y=\"1479.76\">-1.0</text>\n",
       "</g>\n",
       "<g clip-path=\"url(#clip2700)\">\n",
       "<text style=\"fill:#000000; fill-opacity:1; font-family:Arial,Helvetica Neue,Helvetica,sans-serif; font-size:48px; text-anchor:end;\" transform=\"rotate(0, 503.267, 1136.31)\" x=\"503.267\" y=\"1136.31\">-0.5</text>\n",
       "</g>\n",
       "<g clip-path=\"url(#clip2700)\">\n",
       "<text style=\"fill:#000000; fill-opacity:1; font-family:Arial,Helvetica Neue,Helvetica,sans-serif; font-size:48px; text-anchor:end;\" transform=\"rotate(0, 503.267, 792.859)\" x=\"503.267\" y=\"792.859\">0.0</text>\n",
       "</g>\n",
       "<g clip-path=\"url(#clip2700)\">\n",
       "<text style=\"fill:#000000; fill-opacity:1; font-family:Arial,Helvetica Neue,Helvetica,sans-serif; font-size:48px; text-anchor:end;\" transform=\"rotate(0, 503.267, 449.409)\" x=\"503.267\" y=\"449.409\">0.5</text>\n",
       "</g>\n",
       "<g clip-path=\"url(#clip2700)\">\n",
       "<text style=\"fill:#000000; fill-opacity:1; font-family:Arial,Helvetica Neue,Helvetica,sans-serif; font-size:48px; text-anchor:end;\" transform=\"rotate(0, 503.267, 105.958)\" x=\"503.267\" y=\"105.958\">1.0</text>\n",
       "</g>\n",
       "<polygon clip-path=\"url(#clip2702)\" points=\"\n",
       "568.481,792.222 570.136,825.906 573.441,859.469 578.39,892.829 584.969,925.906 593.164,958.62 602.953,990.893 614.315,1022.65 627.221,1053.8 641.64,1084.29 \n",
       "  657.538,1114.03 674.876,1142.96 693.613,1171 713.703,1198.09 735.098,1224.16 757.746,1249.15 781.593,1273 806.582,1295.64 832.651,1317.04 859.739,1337.13 \n",
       "  887.781,1355.87 916.708,1373.2 946.45,1389.1 976.937,1403.52 1008.1,1416.43 1039.85,1427.79 1072.12,1437.58 1104.84,1445.77 1137.91,1452.35 1171.27,1457.3 \n",
       "  1204.84,1460.61 1238.52,1462.26 1272.24,1462.26 1305.93,1460.61 1339.49,1457.3 1372.85,1452.35 1405.93,1445.77 1438.64,1437.58 1470.92,1427.79 1502.67,1416.43 \n",
       "  1533.83,1403.52 1564.31,1389.1 1594.06,1373.2 1622.98,1355.87 1651.02,1337.13 1678.11,1317.04 1704.18,1295.64 1729.17,1273 1753.02,1249.15 1775.67,1224.16 \n",
       "  1797.06,1198.09 1817.15,1171 1835.89,1142.96 1853.23,1114.03 1869.12,1084.29 1883.54,1053.8 1896.45,1022.65 1907.81,990.893 1917.6,958.62 1925.79,925.906 \n",
       "  1932.37,892.829 1937.32,859.469 1940.63,825.906 1942.28,792.222 1942.28,758.497 1940.63,724.813 1937.32,691.25 1932.37,657.89 1925.79,624.813 1917.6,592.099 \n",
       "  1907.81,559.826 1896.45,528.073 1883.54,496.915 1869.12,466.428 1853.23,436.685 1835.89,407.758 1817.15,379.717 1797.06,352.629 1775.67,326.559 1753.02,301.57 \n",
       "  1729.17,277.723 1704.18,255.075 1678.11,233.68 1651.02,213.59 1622.98,194.854 1594.06,177.516 1564.31,161.618 1533.83,147.198 1502.67,134.292 1470.92,122.931 \n",
       "  1438.64,113.141 1405.93,104.946 1372.85,98.3671 1339.49,93.4186 1305.93,90.113 1272.24,88.4582 1238.52,88.4582 1204.84,90.113 1171.27,93.4186 1137.91,98.3671 \n",
       "  1104.84,104.946 1072.12,113.141 1039.85,122.931 1008.1,134.292 976.937,147.198 946.45,161.618 916.708,177.516 887.781,194.854 859.739,213.59 832.651,233.68 \n",
       "  806.582,255.075 781.593,277.723 757.746,301.57 735.098,326.559 713.703,352.629 693.613,379.717 674.876,407.758 657.538,436.685 641.64,466.428 627.221,496.915 \n",
       "  614.315,528.073 602.953,559.826 593.164,592.099 584.969,624.813 578.39,657.89 573.441,691.25 570.136,724.813 568.481,758.497 568.481,792.222 568.481,792.222 \n",
       "  \n",
       "  \" fill=\"#009af9\" fill-rule=\"evenodd\" fill-opacity=\"0.5\"/>\n",
       "<polyline clip-path=\"url(#clip2702)\" style=\"stroke:#000000; stroke-width:4; stroke-opacity:0.5; fill:none\" points=\"\n",
       "  568.481,792.222 570.136,825.906 573.441,859.469 578.39,892.829 584.969,925.906 593.164,958.62 602.953,990.893 614.315,1022.65 627.221,1053.8 641.64,1084.29 \n",
       "  657.538,1114.03 674.876,1142.96 693.613,1171 713.703,1198.09 735.098,1224.16 757.746,1249.15 781.593,1273 806.582,1295.64 832.651,1317.04 859.739,1337.13 \n",
       "  887.781,1355.87 916.708,1373.2 946.45,1389.1 976.937,1403.52 1008.1,1416.43 1039.85,1427.79 1072.12,1437.58 1104.84,1445.77 1137.91,1452.35 1171.27,1457.3 \n",
       "  1204.84,1460.61 1238.52,1462.26 1272.24,1462.26 1305.93,1460.61 1339.49,1457.3 1372.85,1452.35 1405.93,1445.77 1438.64,1437.58 1470.92,1427.79 1502.67,1416.43 \n",
       "  1533.83,1403.52 1564.31,1389.1 1594.06,1373.2 1622.98,1355.87 1651.02,1337.13 1678.11,1317.04 1704.18,1295.64 1729.17,1273 1753.02,1249.15 1775.67,1224.16 \n",
       "  1797.06,1198.09 1817.15,1171 1835.89,1142.96 1853.23,1114.03 1869.12,1084.29 1883.54,1053.8 1896.45,1022.65 1907.81,990.893 1917.6,958.62 1925.79,925.906 \n",
       "  1932.37,892.829 1937.32,859.469 1940.63,825.906 1942.28,792.222 1942.28,758.497 1940.63,724.813 1937.32,691.25 1932.37,657.89 1925.79,624.813 1917.6,592.099 \n",
       "  1907.81,559.826 1896.45,528.073 1883.54,496.915 1869.12,466.428 1853.23,436.685 1835.89,407.758 1817.15,379.717 1797.06,352.629 1775.67,326.559 1753.02,301.57 \n",
       "  1729.17,277.723 1704.18,255.075 1678.11,233.68 1651.02,213.59 1622.98,194.854 1594.06,177.516 1564.31,161.618 1533.83,147.198 1502.67,134.292 1470.92,122.931 \n",
       "  1438.64,113.141 1405.93,104.946 1372.85,98.3671 1339.49,93.4186 1305.93,90.113 1272.24,88.4582 1238.52,88.4582 1204.84,90.113 1171.27,93.4186 1137.91,98.3671 \n",
       "  1104.84,104.946 1072.12,113.141 1039.85,122.931 1008.1,134.292 976.937,147.198 946.45,161.618 916.708,177.516 887.781,194.854 859.739,213.59 832.651,233.68 \n",
       "  806.582,255.075 781.593,277.723 757.746,301.57 735.098,326.559 713.703,352.629 693.613,379.717 674.876,407.758 657.538,436.685 641.64,466.428 627.221,496.915 \n",
       "  614.315,528.073 602.953,559.826 593.164,592.099 584.969,624.813 578.39,657.89 573.441,691.25 570.136,724.813 568.481,758.497 568.481,792.222 \n",
       "  \n",
       "  \"/>\n",
       "<circle clip-path=\"url(#clip2702)\" style=\"fill:#000000; stroke:none; fill-opacity:0.5\" cx=\"574.606\" cy=\"866.889\" r=\"18\"/>\n",
       "<circle clip-path=\"url(#clip2702)\" style=\"fill:#e26f46; stroke:none; fill-opacity:0.5\" cx=\"574.606\" cy=\"866.889\" r=\"14\"/>\n",
       "<circle clip-path=\"url(#clip2702)\" style=\"fill:#000000; stroke:none; fill-opacity:0.5\" cx=\"605.35\" cy=\"997.376\" r=\"18\"/>\n",
       "<circle clip-path=\"url(#clip2702)\" style=\"fill:#3da44d; stroke:none; fill-opacity:0.5\" cx=\"605.35\" cy=\"997.376\" r=\"14\"/>\n",
       "<circle clip-path=\"url(#clip2702)\" style=\"fill:#000000; stroke:none; fill-opacity:0.5\" cx=\"1554.46\" cy=\"156.985\" r=\"18\"/>\n",
       "<circle clip-path=\"url(#clip2702)\" style=\"fill:#c271d2; stroke:none; fill-opacity:0.5\" cx=\"1554.46\" cy=\"156.985\" r=\"14\"/>\n",
       "<circle clip-path=\"url(#clip2702)\" style=\"fill:#000000; stroke:none; fill-opacity:0.5\" cx=\"1376.5\" cy=\"1451.5\" r=\"18\"/>\n",
       "<circle clip-path=\"url(#clip2702)\" style=\"fill:#ac8d18; stroke:none; fill-opacity:0.5\" cx=\"1376.5\" cy=\"1451.5\" r=\"14\"/>\n",
       "<circle clip-path=\"url(#clip2702)\" style=\"fill:#000000; stroke:none; fill-opacity:0.5\" cx=\"971.292\" cy=\"1400.76\" r=\"18\"/>\n",
       "<circle clip-path=\"url(#clip2702)\" style=\"fill:#00a9ad; stroke:none; fill-opacity:0.5\" cx=\"971.292\" cy=\"1400.76\" r=\"14\"/>\n",
       "<circle clip-path=\"url(#clip2702)\" style=\"fill:#000000; stroke:none; fill-opacity:0.5\" cx=\"1942.12\" cy=\"790.316\" r=\"18\"/>\n",
       "<circle clip-path=\"url(#clip2702)\" style=\"fill:#ed5d92; stroke:none; fill-opacity:0.5\" cx=\"1942.12\" cy=\"790.316\" r=\"14\"/>\n",
       "<circle clip-path=\"url(#clip2702)\" style=\"fill:#000000; stroke:none; fill-opacity:0.5\" cx=\"913.255\" cy=\"179.723\" r=\"18\"/>\n",
       "<circle clip-path=\"url(#clip2702)\" style=\"fill:#c68125; stroke:none; fill-opacity:0.5\" cx=\"913.255\" cy=\"179.723\" r=\"14\"/>\n",
       "<circle clip-path=\"url(#clip2702)\" style=\"fill:#000000; stroke:none; fill-opacity:0.5\" cx=\"1916.48\" cy=\"588.847\" r=\"18\"/>\n",
       "<circle clip-path=\"url(#clip2702)\" style=\"fill:#00a98d; stroke:none; fill-opacity:0.5\" cx=\"1916.48\" cy=\"588.847\" r=\"14\"/>\n",
       "<circle clip-path=\"url(#clip2702)\" style=\"fill:#000000; stroke:none; fill-opacity:0.5\" cx=\"1469.14\" cy=\"1428.16\" r=\"18\"/>\n",
       "<circle clip-path=\"url(#clip2702)\" style=\"fill:#8e971d; stroke:none; fill-opacity:0.5\" cx=\"1469.14\" cy=\"1428.16\" r=\"14\"/>\n",
       "<circle clip-path=\"url(#clip2702)\" style=\"fill:#000000; stroke:none; fill-opacity:0.5\" cx=\"1739.93\" cy=\"288.481\" r=\"18\"/>\n",
       "<circle clip-path=\"url(#clip2702)\" style=\"fill:#00a8cb; stroke:none; fill-opacity:0.5\" cx=\"1739.93\" cy=\"288.481\" r=\"14\"/>\n",
       "<circle clip-path=\"url(#clip2702)\" style=\"fill:#000000; stroke:none; fill-opacity:0.5\" cx=\"1315.3\" cy=\"1459.64\" r=\"18\"/>\n",
       "<circle clip-path=\"url(#clip2702)\" style=\"fill:#9b7fe8; stroke:none; fill-opacity:0.5\" cx=\"1315.3\" cy=\"1459.64\" r=\"14\"/>\n",
       "<circle clip-path=\"url(#clip2702)\" style=\"fill:#000000; stroke:none; fill-opacity:0.5\" cx=\"1919.99\" cy=\"601.772\" r=\"18\"/>\n",
       "<circle clip-path=\"url(#clip2702)\" style=\"fill:#608cf6; stroke:none; fill-opacity:0.5\" cx=\"1919.99\" cy=\"601.772\" r=\"14\"/>\n",
       "<circle clip-path=\"url(#clip2702)\" style=\"fill:#000000; stroke:none; fill-opacity:0.5\" cx=\"1736.61\" cy=\"1265.52\" r=\"18\"/>\n",
       "<circle clip-path=\"url(#clip2702)\" style=\"fill:#f05f73; stroke:none; fill-opacity:0.5\" cx=\"1736.61\" cy=\"1265.52\" r=\"14\"/>\n",
       "<circle clip-path=\"url(#clip2702)\" style=\"fill:#000000; stroke:none; fill-opacity:0.5\" cx=\"792.203\" cy=\"268.113\" r=\"18\"/>\n",
       "<circle clip-path=\"url(#clip2702)\" style=\"fill:#dd64b5; stroke:none; fill-opacity:0.5\" cx=\"792.203\" cy=\"268.113\" r=\"14\"/>\n",
       "<circle clip-path=\"url(#clip2702)\" style=\"fill:#000000; stroke:none; fill-opacity:0.5\" cx=\"1496.81\" cy=\"132.283\" r=\"18\"/>\n",
       "<circle clip-path=\"url(#clip2702)\" style=\"fill:#6b9e32; stroke:none; fill-opacity:0.5\" cx=\"1496.81\" cy=\"132.283\" r=\"14\"/>\n",
       "<circle clip-path=\"url(#clip2702)\" style=\"fill:#000000; stroke:none; fill-opacity:0.5\" cx=\"583.754\" cy=\"631.315\" r=\"18\"/>\n",
       "<circle clip-path=\"url(#clip2702)\" style=\"fill:#718c69; stroke:none; fill-opacity:0.5\" cx=\"583.754\" cy=\"631.315\" r=\"14\"/>\n",
       "<circle clip-path=\"url(#clip2702)\" style=\"fill:#000000; stroke:none; fill-opacity:0.5\" cx=\"1183.42\" cy=\"92.2378\" r=\"18\"/>\n",
       "<circle clip-path=\"url(#clip2702)\" style=\"fill:#47988b; stroke:none; fill-opacity:0.5\" cx=\"1183.42\" cy=\"92.2378\" r=\"14\"/>\n",
       "<circle clip-path=\"url(#clip2702)\" style=\"fill:#000000; stroke:none; fill-opacity:0.5\" cx=\"1305.1\" cy=\"1460.46\" r=\"18\"/>\n",
       "<circle clip-path=\"url(#clip2702)\" style=\"fill:#1ea68c; stroke:none; fill-opacity:0.5\" cx=\"1305.1\" cy=\"1460.46\" r=\"14\"/>\n",
       "<circle clip-path=\"url(#clip2702)\" style=\"fill:#000000; stroke:none; fill-opacity:0.5\" cx=\"1443.55\" cy=\"114.735\" r=\"18\"/>\n",
       "<circle clip-path=\"url(#clip2702)\" style=\"fill:#af78dd; stroke:none; fill-opacity:0.5\" cx=\"1443.55\" cy=\"114.735\" r=\"14\"/>\n",
       "<circle clip-path=\"url(#clip2702)\" style=\"fill:#000000; stroke:none; fill-opacity:0.5\" cx=\"1035.08\" cy=\"124.743\" r=\"18\"/>\n",
       "<circle clip-path=\"url(#clip2702)\" style=\"fill:#868d87; stroke:none; fill-opacity:0.5\" cx=\"1035.08\" cy=\"124.743\" r=\"14\"/>\n",
       "<circle clip-path=\"url(#clip2702)\" style=\"fill:#000000; stroke:none; fill-opacity:0.5\" cx=\"1653.61\" cy=\"1335.04\" r=\"18\"/>\n",
       "<circle clip-path=\"url(#clip2702)\" style=\"fill:#47a065; stroke:none; fill-opacity:0.5\" cx=\"1653.61\" cy=\"1335.04\" r=\"14\"/>\n",
       "<circle clip-path=\"url(#clip2702)\" style=\"fill:#000000; stroke:none; fill-opacity:0.5\" cx=\"770.794\" cy=\"288.525\" r=\"18\"/>\n",
       "<circle clip-path=\"url(#clip2702)\" style=\"fill:#7683af; stroke:none; fill-opacity:0.5\" cx=\"770.794\" cy=\"288.525\" r=\"14\"/>\n",
       "<circle clip-path=\"url(#clip2702)\" style=\"fill:#000000; stroke:none; fill-opacity:0.5\" cx=\"1274.31\" cy=\"88.7191\" r=\"18\"/>\n",
       "<circle clip-path=\"url(#clip2702)\" style=\"fill:#b08086; stroke:none; fill-opacity:0.5\" cx=\"1274.31\" cy=\"88.7191\" r=\"14\"/>\n",
       "<circle clip-path=\"url(#clip2702)\" style=\"fill:#000000; stroke:none; fill-opacity:0.5\" cx=\"1692.37\" cy=\"245.386\" r=\"18\"/>\n",
       "<circle clip-path=\"url(#clip2702)\" style=\"fill:#309ac1; stroke:none; fill-opacity:0.5\" cx=\"1692.37\" cy=\"245.386\" r=\"14\"/>\n",
       "<circle clip-path=\"url(#clip2702)\" style=\"fill:#000000; stroke:none; fill-opacity:0.5\" cx=\"580.707\" cy=\"904.385\" r=\"18\"/>\n",
       "<circle clip-path=\"url(#clip2702)\" style=\"fill:#788490; stroke:none; fill-opacity:0.5\" cx=\"580.707\" cy=\"904.385\" r=\"14\"/>\n",
       "<circle clip-path=\"url(#clip2702)\" style=\"fill:#000000; stroke:none; fill-opacity:0.5\" cx=\"628.119\" cy=\"1055.31\" r=\"18\"/>\n",
       "<circle clip-path=\"url(#clip2702)\" style=\"fill:#e561a4; stroke:none; fill-opacity:0.5\" cx=\"628.119\" cy=\"1055.31\" r=\"14\"/>\n",
       "<circle clip-path=\"url(#clip2702)\" style=\"fill:#000000; stroke:none; fill-opacity:0.5\" cx=\"1942.14\" cy=\"761.36\" r=\"18\"/>\n",
       "<circle clip-path=\"url(#clip2702)\" style=\"fill:#99902c; stroke:none; fill-opacity:0.5\" cx=\"1942.14\" cy=\"761.36\" r=\"14\"/>\n",
       "<circle clip-path=\"url(#clip2702)\" style=\"fill:#000000; stroke:none; fill-opacity:0.5\" cx=\"793.779\" cy=\"266.678\" r=\"18\"/>\n",
       "<circle clip-path=\"url(#clip2702)\" style=\"fill:#389a7b; stroke:none; fill-opacity:0.5\" cx=\"793.779\" cy=\"266.678\" r=\"14\"/>\n",
       "<circle clip-path=\"url(#clip2702)\" style=\"fill:#000000; stroke:none; fill-opacity:0.5\" cx=\"585.823\" cy=\"928.736\" r=\"18\"/>\n",
       "<circle clip-path=\"url(#clip2702)\" style=\"fill:#d968a2; stroke:none; fill-opacity:0.5\" cx=\"585.823\" cy=\"928.736\" r=\"14\"/>\n",
       "<circle clip-path=\"url(#clip2702)\" style=\"fill:#000000; stroke:none; fill-opacity:0.5\" cx=\"1917.05\" cy=\"959.816\" r=\"18\"/>\n",
       "<circle clip-path=\"url(#clip2702)\" style=\"fill:#009af9; stroke:none; fill-opacity:0.5\" cx=\"1917.05\" cy=\"959.816\" r=\"14\"/>\n",
       "<circle clip-path=\"url(#clip2702)\" style=\"fill:#000000; stroke:none; fill-opacity:0.5\" cx=\"1830.54\" cy=\"399.825\" r=\"18\"/>\n",
       "<circle clip-path=\"url(#clip2702)\" style=\"fill:#e26f46; stroke:none; fill-opacity:0.5\" cx=\"1830.54\" cy=\"399.825\" r=\"14\"/>\n",
       "<circle clip-path=\"url(#clip2702)\" style=\"fill:#000000; stroke:none; fill-opacity:0.5\" cx=\"819.38\" cy=\"244.572\" r=\"18\"/>\n",
       "<circle clip-path=\"url(#clip2702)\" style=\"fill:#3da44d; stroke:none; fill-opacity:0.5\" cx=\"819.38\" cy=\"244.572\" r=\"14\"/>\n",
       "<circle clip-path=\"url(#clip2702)\" style=\"fill:#000000; stroke:none; fill-opacity:0.5\" cx=\"1728.36\" cy=\"1273.48\" r=\"18\"/>\n",
       "<circle clip-path=\"url(#clip2702)\" style=\"fill:#c271d2; stroke:none; fill-opacity:0.5\" cx=\"1728.36\" cy=\"1273.48\" r=\"14\"/>\n",
       "<circle clip-path=\"url(#clip2702)\" style=\"fill:#000000; stroke:none; fill-opacity:0.5\" cx=\"599.664\" cy=\"979.973\" r=\"18\"/>\n",
       "<circle clip-path=\"url(#clip2702)\" style=\"fill:#ac8d18; stroke:none; fill-opacity:0.5\" cx=\"599.664\" cy=\"979.973\" r=\"14\"/>\n",
       "<circle clip-path=\"url(#clip2702)\" style=\"fill:#000000; stroke:none; fill-opacity:0.5\" cx=\"1928.46\" cy=\"912.461\" r=\"18\"/>\n",
       "<circle clip-path=\"url(#clip2702)\" style=\"fill:#00a9ad; stroke:none; fill-opacity:0.5\" cx=\"1928.46\" cy=\"912.461\" r=\"14\"/>\n",
       "<circle clip-path=\"url(#clip2702)\" style=\"fill:#000000; stroke:none; fill-opacity:0.5\" cx=\"583.562\" cy=\"918.507\" r=\"18\"/>\n",
       "<circle clip-path=\"url(#clip2702)\" style=\"fill:#ed5d92; stroke:none; fill-opacity:0.5\" cx=\"583.562\" cy=\"918.507\" r=\"14\"/>\n",
       "<circle clip-path=\"url(#clip2702)\" style=\"fill:#000000; stroke:none; fill-opacity:0.5\" cx=\"636.836\" cy=\"476.638\" r=\"18\"/>\n",
       "<circle clip-path=\"url(#clip2702)\" style=\"fill:#c68125; stroke:none; fill-opacity:0.5\" cx=\"636.836\" cy=\"476.638\" r=\"14\"/>\n",
       "<circle clip-path=\"url(#clip2702)\" style=\"fill:#000000; stroke:none; fill-opacity:0.5\" cx=\"873.653\" cy=\"1346.43\" r=\"18\"/>\n",
       "<circle clip-path=\"url(#clip2702)\" style=\"fill:#00a98d; stroke:none; fill-opacity:0.5\" cx=\"873.653\" cy=\"1346.43\" r=\"14\"/>\n",
       "<circle clip-path=\"url(#clip2702)\" style=\"fill:#000000; stroke:none; fill-opacity:0.5\" cx=\"909.9\" cy=\"1369.06\" r=\"18\"/>\n",
       "<circle clip-path=\"url(#clip2702)\" style=\"fill:#8e971d; stroke:none; fill-opacity:0.5\" cx=\"909.9\" cy=\"1369.06\" r=\"14\"/>\n",
       "<circle clip-path=\"url(#clip2702)\" style=\"fill:#000000; stroke:none; fill-opacity:0.5\" cx=\"1763.94\" cy=\"313.624\" r=\"18\"/>\n",
       "<circle clip-path=\"url(#clip2702)\" style=\"fill:#00a8cb; stroke:none; fill-opacity:0.5\" cx=\"1763.94\" cy=\"313.624\" r=\"14\"/>\n",
       "<circle clip-path=\"url(#clip2702)\" style=\"fill:#000000; stroke:none; fill-opacity:0.5\" cx=\"984.096\" cy=\"1406.42\" r=\"18\"/>\n",
       "<circle clip-path=\"url(#clip2702)\" style=\"fill:#9b7fe8; stroke:none; fill-opacity:0.5\" cx=\"984.096\" cy=\"1406.42\" r=\"14\"/>\n",
       "<circle clip-path=\"url(#clip2702)\" style=\"fill:#000000; stroke:none; fill-opacity:0.5\" cx=\"1876.73\" cy=\"482.51\" r=\"18\"/>\n",
       "<circle clip-path=\"url(#clip2702)\" style=\"fill:#608cf6; stroke:none; fill-opacity:0.5\" cx=\"1876.73\" cy=\"482.51\" r=\"14\"/>\n",
       "<circle clip-path=\"url(#clip2702)\" style=\"fill:#000000; stroke:none; fill-opacity:0.5\" cx=\"772.495\" cy=\"286.838\" r=\"18\"/>\n",
       "<circle clip-path=\"url(#clip2702)\" style=\"fill:#f05f73; stroke:none; fill-opacity:0.5\" cx=\"772.495\" cy=\"286.838\" r=\"14\"/>\n",
       "<circle clip-path=\"url(#clip2702)\" style=\"fill:#000000; stroke:none; fill-opacity:0.5\" cx=\"1687.27\" cy=\"1309.5\" r=\"18\"/>\n",
       "<circle clip-path=\"url(#clip2702)\" style=\"fill:#dd64b5; stroke:none; fill-opacity:0.5\" cx=\"1687.27\" cy=\"1309.5\" r=\"14\"/>\n",
       "<circle clip-path=\"url(#clip2702)\" style=\"fill:#000000; stroke:none; fill-opacity:0.5\" cx=\"1469.29\" cy=\"1428.11\" r=\"18\"/>\n",
       "<circle clip-path=\"url(#clip2702)\" style=\"fill:#6b9e32; stroke:none; fill-opacity:0.5\" cx=\"1469.29\" cy=\"1428.11\" r=\"14\"/>\n",
       "<circle clip-path=\"url(#clip2702)\" style=\"fill:#000000; stroke:none; fill-opacity:0.5\" cx=\"1859.96\" cy=\"1101.42\" r=\"18\"/>\n",
       "<circle clip-path=\"url(#clip2702)\" style=\"fill:#718c69; stroke:none; fill-opacity:0.5\" cx=\"1859.96\" cy=\"1101.42\" r=\"14\"/>\n",
       "<circle clip-path=\"url(#clip2702)\" style=\"fill:#000000; stroke:none; fill-opacity:0.5\" cx=\"1793.3\" cy=\"1202.54\" r=\"18\"/>\n",
       "<circle clip-path=\"url(#clip2702)\" style=\"fill:#47988b; stroke:none; fill-opacity:0.5\" cx=\"1793.3\" cy=\"1202.54\" r=\"14\"/>\n",
       "<circle clip-path=\"url(#clip2702)\" style=\"fill:#000000; stroke:none; fill-opacity:0.5\" cx=\"1197.35\" cy=\"90.9141\" r=\"18\"/>\n",
       "<circle clip-path=\"url(#clip2702)\" style=\"fill:#1ea68c; stroke:none; fill-opacity:0.5\" cx=\"1197.35\" cy=\"90.9141\" r=\"14\"/>\n",
       "<circle clip-path=\"url(#clip2702)\" style=\"fill:#000000; stroke:none; fill-opacity:0.5\" cx=\"589.919\" cy=\"605.087\" r=\"18\"/>\n",
       "<circle clip-path=\"url(#clip2702)\" style=\"fill:#af78dd; stroke:none; fill-opacity:0.5\" cx=\"589.919\" cy=\"605.087\" r=\"14\"/>\n",
       "<circle clip-path=\"url(#clip2702)\" style=\"fill:#000000; stroke:none; fill-opacity:0.5\" cx=\"1570.29\" cy=\"164.898\" r=\"18\"/>\n",
       "<circle clip-path=\"url(#clip2702)\" style=\"fill:#868d87; stroke:none; fill-opacity:0.5\" cx=\"1570.29\" cy=\"164.898\" r=\"14\"/>\n",
       "<circle clip-path=\"url(#clip2702)\" style=\"fill:#000000; stroke:none; fill-opacity:0.5\" cx=\"1440.9\" cy=\"1436.74\" r=\"18\"/>\n",
       "<circle clip-path=\"url(#clip2702)\" style=\"fill:#47a065; stroke:none; fill-opacity:0.5\" cx=\"1440.9\" cy=\"1436.74\" r=\"14\"/>\n",
       "<circle clip-path=\"url(#clip2702)\" style=\"fill:#000000; stroke:none; fill-opacity:0.5\" cx=\"1418.56\" cy=\"1442.6\" r=\"18\"/>\n",
       "<circle clip-path=\"url(#clip2702)\" style=\"fill:#7683af; stroke:none; fill-opacity:0.5\" cx=\"1418.56\" cy=\"1442.6\" r=\"14\"/>\n",
       "<circle clip-path=\"url(#clip2702)\" style=\"fill:#000000; stroke:none; fill-opacity:0.5\" cx=\"571\" cy=\"834.139\" r=\"18\"/>\n",
       "<circle clip-path=\"url(#clip2702)\" style=\"fill:#b08086; stroke:none; fill-opacity:0.5\" cx=\"571\" cy=\"834.139\" r=\"14\"/>\n",
       "<circle clip-path=\"url(#clip2702)\" style=\"fill:#000000; stroke:none; fill-opacity:0.5\" cx=\"1488.28\" cy=\"129.145\" r=\"18\"/>\n",
       "<circle clip-path=\"url(#clip2702)\" style=\"fill:#309ac1; stroke:none; fill-opacity:0.5\" cx=\"1488.28\" cy=\"129.145\" r=\"14\"/>\n",
       "<circle clip-path=\"url(#clip2702)\" style=\"fill:#000000; stroke:none; fill-opacity:0.5\" cx=\"1940.71\" cy=\"728.856\" r=\"18\"/>\n",
       "<circle clip-path=\"url(#clip2702)\" style=\"fill:#788490; stroke:none; fill-opacity:0.5\" cx=\"1940.71\" cy=\"728.856\" r=\"14\"/>\n",
       "<circle clip-path=\"url(#clip2702)\" style=\"fill:#000000; stroke:none; fill-opacity:0.5\" cx=\"1731.21\" cy=\"1270.76\" r=\"18\"/>\n",
       "<circle clip-path=\"url(#clip2702)\" style=\"fill:#e561a4; stroke:none; fill-opacity:0.5\" cx=\"1731.21\" cy=\"1270.76\" r=\"14\"/>\n",
       "<circle clip-path=\"url(#clip2702)\" style=\"fill:#000000; stroke:none; fill-opacity:0.5\" cx=\"1329.98\" cy=\"92.5205\" r=\"18\"/>\n",
       "<circle clip-path=\"url(#clip2702)\" style=\"fill:#99902c; stroke:none; fill-opacity:0.5\" cx=\"1329.98\" cy=\"92.5205\" r=\"14\"/>\n",
       "<circle clip-path=\"url(#clip2702)\" style=\"fill:#000000; stroke:none; fill-opacity:0.5\" cx=\"1941.04\" cy=\"816.727\" r=\"18\"/>\n",
       "<circle clip-path=\"url(#clip2702)\" style=\"fill:#389a7b; stroke:none; fill-opacity:0.5\" cx=\"1941.04\" cy=\"816.727\" r=\"14\"/>\n",
       "<circle clip-path=\"url(#clip2702)\" style=\"fill:#000000; stroke:none; fill-opacity:0.5\" cx=\"980.785\" cy=\"145.733\" r=\"18\"/>\n",
       "<circle clip-path=\"url(#clip2702)\" style=\"fill:#d968a2; stroke:none; fill-opacity:0.5\" cx=\"980.785\" cy=\"145.733\" r=\"14\"/>\n",
       "<circle clip-path=\"url(#clip2702)\" style=\"fill:#000000; stroke:none; fill-opacity:0.5\" cx=\"1705.03\" cy=\"256.084\" r=\"18\"/>\n",
       "<circle clip-path=\"url(#clip2702)\" style=\"fill:#009af9; stroke:none; fill-opacity:0.5\" cx=\"1705.03\" cy=\"256.084\" r=\"14\"/>\n",
       "<circle clip-path=\"url(#clip2702)\" style=\"fill:#000000; stroke:none; fill-opacity:0.5\" cx=\"1941.8\" cy=\"749.712\" r=\"18\"/>\n",
       "<circle clip-path=\"url(#clip2702)\" style=\"fill:#e26f46; stroke:none; fill-opacity:0.5\" cx=\"1941.8\" cy=\"749.712\" r=\"14\"/>\n",
       "<circle clip-path=\"url(#clip2702)\" style=\"fill:#000000; stroke:none; fill-opacity:0.5\" cx=\"1683.57\" cy=\"238.251\" r=\"18\"/>\n",
       "<circle clip-path=\"url(#clip2702)\" style=\"fill:#3da44d; stroke:none; fill-opacity:0.5\" cx=\"1683.57\" cy=\"238.251\" r=\"14\"/>\n",
       "<circle clip-path=\"url(#clip2702)\" style=\"fill:#000000; stroke:none; fill-opacity:0.5\" cx=\"1312.71\" cy=\"90.8545\" r=\"18\"/>\n",
       "<circle clip-path=\"url(#clip2702)\" style=\"fill:#c271d2; stroke:none; fill-opacity:0.5\" cx=\"1312.71\" cy=\"90.8545\" r=\"14\"/>\n",
       "<circle clip-path=\"url(#clip2702)\" style=\"fill:#000000; stroke:none; fill-opacity:0.5\" cx=\"667.413\" cy=\"420.217\" r=\"18\"/>\n",
       "<circle clip-path=\"url(#clip2702)\" style=\"fill:#ac8d18; stroke:none; fill-opacity:0.5\" cx=\"667.413\" cy=\"420.217\" r=\"14\"/>\n",
       "<circle clip-path=\"url(#clip2702)\" style=\"fill:#000000; stroke:none; fill-opacity:0.5\" cx=\"752.541\" cy=\"1243.32\" r=\"18\"/>\n",
       "<circle clip-path=\"url(#clip2702)\" style=\"fill:#00a9ad; stroke:none; fill-opacity:0.5\" cx=\"752.541\" cy=\"1243.32\" r=\"14\"/>\n",
       "<circle clip-path=\"url(#clip2702)\" style=\"fill:#000000; stroke:none; fill-opacity:0.5\" cx=\"775.018\" cy=\"1266.36\" r=\"18\"/>\n",
       "<circle clip-path=\"url(#clip2702)\" style=\"fill:#ed5d92; stroke:none; fill-opacity:0.5\" cx=\"775.018\" cy=\"1266.36\" r=\"14\"/>\n",
       "<circle clip-path=\"url(#clip2702)\" style=\"fill:#000000; stroke:none; fill-opacity:0.5\" cx=\"1825.64\" cy=\"1158.29\" r=\"18\"/>\n",
       "<circle clip-path=\"url(#clip2702)\" style=\"fill:#c68125; stroke:none; fill-opacity:0.5\" cx=\"1825.64\" cy=\"1158.29\" r=\"14\"/>\n",
       "<circle clip-path=\"url(#clip2702)\" style=\"fill:#000000; stroke:none; fill-opacity:0.5\" cx=\"1193.01\" cy=\"91.2956\" r=\"18\"/>\n",
       "<circle clip-path=\"url(#clip2702)\" style=\"fill:#00a98d; stroke:none; fill-opacity:0.5\" cx=\"1193.01\" cy=\"91.2956\" r=\"14\"/>\n",
       "<circle clip-path=\"url(#clip2702)\" style=\"fill:#000000; stroke:none; fill-opacity:0.5\" cx=\"1628.48\" cy=\"198.615\" r=\"18\"/>\n",
       "<circle clip-path=\"url(#clip2702)\" style=\"fill:#8e971d; stroke:none; fill-opacity:0.5\" cx=\"1628.48\" cy=\"198.615\" r=\"14\"/>\n",
       "<circle clip-path=\"url(#clip2702)\" style=\"fill:#000000; stroke:none; fill-opacity:0.5\" cx=\"1375.85\" cy=\"99.1037\" r=\"18\"/>\n",
       "<circle clip-path=\"url(#clip2702)\" style=\"fill:#00a8cb; stroke:none; fill-opacity:0.5\" cx=\"1375.85\" cy=\"99.1037\" r=\"14\"/>\n",
       "<circle clip-path=\"url(#clip2702)\" style=\"fill:#000000; stroke:none; fill-opacity:0.5\" cx=\"642.04\" cy=\"466.095\" r=\"18\"/>\n",
       "<circle clip-path=\"url(#clip2702)\" style=\"fill:#9b7fe8; stroke:none; fill-opacity:0.5\" cx=\"642.04\" cy=\"466.095\" r=\"14\"/>\n",
       "<circle clip-path=\"url(#clip2702)\" style=\"fill:#000000; stroke:none; fill-opacity:0.5\" cx=\"1941.14\" cy=\"815.013\" r=\"18\"/>\n",
       "<circle clip-path=\"url(#clip2702)\" style=\"fill:#608cf6; stroke:none; fill-opacity:0.5\" cx=\"1941.14\" cy=\"815.013\" r=\"14\"/>\n",
       "<circle clip-path=\"url(#clip2702)\" style=\"fill:#000000; stroke:none; fill-opacity:0.5\" cx=\"1942.07\" cy=\"758.277\" r=\"18\"/>\n",
       "<circle clip-path=\"url(#clip2702)\" style=\"fill:#f05f73; stroke:none; fill-opacity:0.5\" cx=\"1942.07\" cy=\"758.277\" r=\"14\"/>\n",
       "<circle clip-path=\"url(#clip2702)\" style=\"fill:#000000; stroke:none; fill-opacity:0.5\" cx=\"1888.16\" cy=\"508.115\" r=\"18\"/>\n",
       "<circle clip-path=\"url(#clip2702)\" style=\"fill:#dd64b5; stroke:none; fill-opacity:0.5\" cx=\"1888.16\" cy=\"508.115\" r=\"14\"/>\n",
       "<circle clip-path=\"url(#clip2702)\" style=\"fill:#000000; stroke:none; fill-opacity:0.5\" cx=\"1825.41\" cy=\"1158.64\" r=\"18\"/>\n",
       "<circle clip-path=\"url(#clip2702)\" style=\"fill:#6b9e32; stroke:none; fill-opacity:0.5\" cx=\"1825.41\" cy=\"1158.64\" r=\"14\"/>\n",
       "<circle clip-path=\"url(#clip2702)\" style=\"fill:#000000; stroke:none; fill-opacity:0.5\" cx=\"1080.56\" cy=\"111.077\" r=\"18\"/>\n",
       "<circle clip-path=\"url(#clip2702)\" style=\"fill:#718c69; stroke:none; fill-opacity:0.5\" cx=\"1080.56\" cy=\"111.077\" r=\"14\"/>\n",
       "<circle clip-path=\"url(#clip2702)\" style=\"fill:#000000; stroke:none; fill-opacity:0.5\" cx=\"888.258\" cy=\"194.796\" r=\"18\"/>\n",
       "<circle clip-path=\"url(#clip2702)\" style=\"fill:#47988b; stroke:none; fill-opacity:0.5\" cx=\"888.258\" cy=\"194.796\" r=\"14\"/>\n",
       "<circle clip-path=\"url(#clip2702)\" style=\"fill:#000000; stroke:none; fill-opacity:0.5\" cx=\"1932.5\" cy=\"659.831\" r=\"18\"/>\n",
       "<circle clip-path=\"url(#clip2702)\" style=\"fill:#1ea68c; stroke:none; fill-opacity:0.5\" cx=\"1932.5\" cy=\"659.831\" r=\"14\"/>\n",
       "<circle clip-path=\"url(#clip2702)\" style=\"fill:#000000; stroke:none; fill-opacity:0.5\" cx=\"1076.28\" cy=\"112.219\" r=\"18\"/>\n",
       "<circle clip-path=\"url(#clip2702)\" style=\"fill:#af78dd; stroke:none; fill-opacity:0.5\" cx=\"1076.28\" cy=\"112.219\" r=\"14\"/>\n",
       "<circle clip-path=\"url(#clip2702)\" style=\"fill:#000000; stroke:none; fill-opacity:0.5\" cx=\"1938.05\" cy=\"851.545\" r=\"18\"/>\n",
       "<circle clip-path=\"url(#clip2702)\" style=\"fill:#868d87; stroke:none; fill-opacity:0.5\" cx=\"1938.05\" cy=\"851.545\" r=\"14\"/>\n",
       "<circle clip-path=\"url(#clip2702)\" style=\"fill:#000000; stroke:none; fill-opacity:0.5\" cx=\"1768.94\" cy=\"319.184\" r=\"18\"/>\n",
       "<circle clip-path=\"url(#clip2702)\" style=\"fill:#47a065; stroke:none; fill-opacity:0.5\" cx=\"1768.94\" cy=\"319.184\" r=\"14\"/>\n",
       "<circle clip-path=\"url(#clip2702)\" style=\"fill:#000000; stroke:none; fill-opacity:0.5\" cx=\"1039.62\" cy=\"1427.49\" r=\"18\"/>\n",
       "<circle clip-path=\"url(#clip2702)\" style=\"fill:#7683af; stroke:none; fill-opacity:0.5\" cx=\"1039.62\" cy=\"1427.49\" r=\"14\"/>\n",
       "<circle clip-path=\"url(#clip2702)\" style=\"fill:#000000; stroke:none; fill-opacity:0.5\" cx=\"1215.33\" cy=\"1461.09\" r=\"18\"/>\n",
       "<circle clip-path=\"url(#clip2702)\" style=\"fill:#b08086; stroke:none; fill-opacity:0.5\" cx=\"1215.33\" cy=\"1461.09\" r=\"14\"/>\n",
       "<circle clip-path=\"url(#clip2702)\" style=\"fill:#000000; stroke:none; fill-opacity:0.5\" cx=\"1777.02\" cy=\"328.446\" r=\"18\"/>\n",
       "<circle clip-path=\"url(#clip2702)\" style=\"fill:#309ac1; stroke:none; fill-opacity:0.5\" cx=\"1777.02\" cy=\"328.446\" r=\"14\"/>\n",
       "<circle clip-path=\"url(#clip2702)\" style=\"fill:#000000; stroke:none; fill-opacity:0.5\" cx=\"1775.29\" cy=\"1224.28\" r=\"18\"/>\n",
       "<circle clip-path=\"url(#clip2702)\" style=\"fill:#788490; stroke:none; fill-opacity:0.5\" cx=\"1775.29\" cy=\"1224.28\" r=\"14\"/>\n",
       "<circle clip-path=\"url(#clip2702)\" style=\"fill:#000000; stroke:none; fill-opacity:0.5\" cx=\"807.957\" cy=\"254.164\" r=\"18\"/>\n",
       "<circle clip-path=\"url(#clip2702)\" style=\"fill:#e561a4; stroke:none; fill-opacity:0.5\" cx=\"807.957\" cy=\"254.164\" r=\"14\"/>\n",
       "<circle clip-path=\"url(#clip2702)\" style=\"fill:#000000; stroke:none; fill-opacity:0.5\" cx=\"1930.05\" cy=\"904.423\" r=\"18\"/>\n",
       "<circle clip-path=\"url(#clip2702)\" style=\"fill:#99902c; stroke:none; fill-opacity:0.5\" cx=\"1930.05\" cy=\"904.423\" r=\"14\"/>\n",
       "<circle clip-path=\"url(#clip2702)\" style=\"fill:#000000; stroke:none; fill-opacity:0.5\" cx=\"1941.51\" cy=\"742.818\" r=\"18\"/>\n",
       "<circle clip-path=\"url(#clip2702)\" style=\"fill:#389a7b; stroke:none; fill-opacity:0.5\" cx=\"1941.51\" cy=\"742.818\" r=\"14\"/>\n",
       "<circle clip-path=\"url(#clip2702)\" style=\"fill:#000000; stroke:none; fill-opacity:0.5\" cx=\"1117.14\" cy=\"1448.21\" r=\"18\"/>\n",
       "<circle clip-path=\"url(#clip2702)\" style=\"fill:#d968a2; stroke:none; fill-opacity:0.5\" cx=\"1117.14\" cy=\"1448.21\" r=\"14\"/>\n",
       "<circle clip-path=\"url(#clip2702)\" style=\"fill:#000000; stroke:none; fill-opacity:0.5\" cx=\"912.637\" cy=\"1370.64\" r=\"18\"/>\n",
       "<circle clip-path=\"url(#clip2702)\" style=\"fill:#009af9; stroke:none; fill-opacity:0.5\" cx=\"912.637\" cy=\"1370.64\" r=\"14\"/>\n",
       "<circle clip-path=\"url(#clip2702)\" style=\"fill:#000000; stroke:none; fill-opacity:0.5\" cx=\"1638.33\" cy=\"205.113\" r=\"18\"/>\n",
       "<circle clip-path=\"url(#clip2702)\" style=\"fill:#e26f46; stroke:none; fill-opacity:0.5\" cx=\"1638.33\" cy=\"205.113\" r=\"14\"/>\n",
       "<circle clip-path=\"url(#clip2702)\" style=\"fill:#000000; stroke:none; fill-opacity:0.5\" cx=\"1523.77\" cy=\"1407.66\" r=\"18\"/>\n",
       "<circle clip-path=\"url(#clip2702)\" style=\"fill:#3da44d; stroke:none; fill-opacity:0.5\" cx=\"1523.77\" cy=\"1407.66\" r=\"14\"/>\n",
       "<circle clip-path=\"url(#clip2702)\" style=\"fill:#000000; stroke:none; fill-opacity:0.5\" cx=\"1766.02\" cy=\"1234.79\" r=\"18\"/>\n",
       "<circle clip-path=\"url(#clip2702)\" style=\"fill:#c271d2; stroke:none; fill-opacity:0.5\" cx=\"1766.02\" cy=\"1234.79\" r=\"14\"/>\n",
       "<circle clip-path=\"url(#clip2702)\" style=\"fill:#000000; stroke:none; fill-opacity:0.5\" cx=\"832.994\" cy=\"1317.04\" r=\"18\"/>\n",
       "<circle clip-path=\"url(#clip2702)\" style=\"fill:#ac8d18; stroke:none; fill-opacity:0.5\" cx=\"832.994\" cy=\"1317.04\" r=\"14\"/>\n",
       "<circle clip-path=\"url(#clip2702)\" style=\"fill:#000000; stroke:none; fill-opacity:0.5\" cx=\"1927.2\" cy=\"632.222\" r=\"18\"/>\n",
       "<circle clip-path=\"url(#clip2702)\" style=\"fill:#00a9ad; stroke:none; fill-opacity:0.5\" cx=\"1927.2\" cy=\"632.222\" r=\"14\"/>\n",
       "<circle clip-path=\"url(#clip2702)\" style=\"fill:#000000; stroke:none; fill-opacity:0.5\" cx=\"1333.56\" cy=\"92.921\" r=\"18\"/>\n",
       "<circle clip-path=\"url(#clip2702)\" style=\"fill:#ed5d92; stroke:none; fill-opacity:0.5\" cx=\"1333.56\" cy=\"92.921\" r=\"14\"/>\n",
       "<circle clip-path=\"url(#clip2702)\" style=\"fill:#000000; stroke:none; fill-opacity:0.5\" cx=\"1194.41\" cy=\"91.1693\" r=\"18\"/>\n",
       "<circle clip-path=\"url(#clip2702)\" style=\"fill:#c68125; stroke:none; fill-opacity:0.5\" cx=\"1194.41\" cy=\"91.1693\" r=\"14\"/>\n",
       "<circle clip-path=\"url(#clip2702)\" style=\"fill:#000000; stroke:none; fill-opacity:0.5\" cx=\"644.729\" cy=\"460.818\" r=\"18\"/>\n",
       "<circle clip-path=\"url(#clip2702)\" style=\"fill:#00a98d; stroke:none; fill-opacity:0.5\" cx=\"644.729\" cy=\"460.818\" r=\"14\"/>\n",
       "<circle clip-path=\"url(#clip2702)\" style=\"fill:#000000; stroke:none; fill-opacity:0.5\" cx=\"760.032\" cy=\"1251.24\" r=\"18\"/>\n",
       "<circle clip-path=\"url(#clip2702)\" style=\"fill:#8e971d; stroke:none; fill-opacity:0.5\" cx=\"760.032\" cy=\"1251.24\" r=\"14\"/>\n",
       "<circle clip-path=\"url(#clip2702)\" style=\"fill:#000000; stroke:none; fill-opacity:0.5\" cx=\"1298.93\" cy=\"1460.88\" r=\"18\"/>\n",
       "<circle clip-path=\"url(#clip2702)\" style=\"fill:#00a8cb; stroke:none; fill-opacity:0.5\" cx=\"1298.93\" cy=\"1460.88\" r=\"14\"/>\n",
       "</svg>\n"
      ]
     },
     "execution_count": 29,
     "metadata": {},
     "output_type": "execute_result"
    }
   ],
   "source": [
    "plot(Ball2(zeros(2), 1.0))\n",
    "plot!([Singleton(di) for di in dirs], ratio=1)"
   ]
  },
  {
   "cell_type": "code",
   "execution_count": 30,
   "metadata": {},
   "outputs": [
    {
     "data": {
      "text/plain": [
       "MinkowskiSum{Float64,LinearMap{Float64,HPolytope{Float64},Float64,Array{Float64,2}},HPolytope{Float64}}(LinearMap{Float64,HPolytope{Float64},Float64,Array{Float64,2}}([0.366796 0.210256; 0.523879 0.819338], HPolytope{Float64}(LazySets.HalfSpace{Float64,VN} where VN<:AbstractArray{Float64,1}[HalfSpace{Float64,SingleEntryVector{Float64}}([1.0, 0.0], -0.036154), HalfSpace{Float64,SingleEntryVector{Float64}}([0.0, 1.0], 2.45657), HalfSpace{Float64,Array{Float64,1}}([-1.0, -0.0], 0.0545443), HalfSpace{Float64,Array{Float64,1}}([-0.0, -1.0], -1.152)])), HPolytope{Float64}(LazySets.HalfSpace{Float64,VN} where VN<:AbstractArray{Float64,1}[HalfSpace{Float64,SingleEntryVector{Float64}}([1.0, 0.0], -0.036154), HalfSpace{Float64,SingleEntryVector{Float64}}([0.0, 1.0], 2.45657), HalfSpace{Float64,Array{Float64,1}}([-1.0, -0.0], 0.0545443), HalfSpace{Float64,Array{Float64,1}}([-0.0, -1.0], -1.152)]))"
      ]
     },
     "execution_count": 30,
     "metadata": {},
     "output_type": "execute_result"
    }
   ],
   "source": [
    "# the set that we'd like to approximate\n",
    "X = A * P ⊕ P"
   ]
  },
  {
   "cell_type": "code",
   "execution_count": 31,
   "metadata": {},
   "outputs": [],
   "source": [
    "Xoa = overapproximate(X, dirs);"
   ]
  },
  {
   "cell_type": "code",
   "execution_count": 45,
   "metadata": {},
   "outputs": [
    {
     "data": {
      "image/svg+xml": [
       "<?xml version=\"1.0\" encoding=\"utf-8\"?>\n",
       "<svg xmlns=\"http://www.w3.org/2000/svg\" xmlns:xlink=\"http://www.w3.org/1999/xlink\" width=\"600\" height=\"400\" viewBox=\"0 0 2400 1600\">\n",
       "<defs>\n",
       "  <clipPath id=\"clip7100\">\n",
       "    <rect x=\"0\" y=\"0\" width=\"2400\" height=\"1600\"/>\n",
       "  </clipPath>\n",
       "</defs>\n",
       "<polygon clip-path=\"url(#clip7100)\" points=\"\n",
       "0,1600 2400,1600 2400,0 0,0 \n",
       "  \" fill=\"#ffffff\" fill-rule=\"evenodd\" fill-opacity=\"1\"/>\n",
       "<defs>\n",
       "  <clipPath id=\"clip7101\">\n",
       "    <rect x=\"480\" y=\"0\" width=\"1681\" height=\"1600\"/>\n",
       "  </clipPath>\n",
       "</defs>\n",
       "<polygon clip-path=\"url(#clip7100)\" points=\"\n",
       "161.394,1503.47 2321.26,1503.47 2321.26,47.2441 161.394,47.2441 \n",
       "  \" fill=\"#ffffff\" fill-rule=\"evenodd\" fill-opacity=\"1\"/>\n",
       "<defs>\n",
       "  <clipPath id=\"clip7102\">\n",
       "    <rect x=\"161\" y=\"47\" width=\"2161\" height=\"1457\"/>\n",
       "  </clipPath>\n",
       "</defs>\n",
       "<polyline clip-path=\"url(#clip7102)\" style=\"stroke:#000000; stroke-width:2; stroke-opacity:0.1; fill:none\" points=\"\n",
       "  286.481,1503.47 286.481,47.2441 \n",
       "  \"/>\n",
       "<polyline clip-path=\"url(#clip7102)\" style=\"stroke:#000000; stroke-width:2; stroke-opacity:0.1; fill:none\" points=\"\n",
       "  804.728,1503.47 804.728,47.2441 \n",
       "  \"/>\n",
       "<polyline clip-path=\"url(#clip7102)\" style=\"stroke:#000000; stroke-width:2; stroke-opacity:0.1; fill:none\" points=\"\n",
       "  1322.98,1503.47 1322.98,47.2441 \n",
       "  \"/>\n",
       "<polyline clip-path=\"url(#clip7102)\" style=\"stroke:#000000; stroke-width:2; stroke-opacity:0.1; fill:none\" points=\"\n",
       "  1841.22,1503.47 1841.22,47.2441 \n",
       "  \"/>\n",
       "<polyline clip-path=\"url(#clip7102)\" style=\"stroke:#000000; stroke-width:2; stroke-opacity:0.1; fill:none\" points=\"\n",
       "  161.394,1500.73 2321.26,1500.73 \n",
       "  \"/>\n",
       "<polyline clip-path=\"url(#clip7102)\" style=\"stroke:#000000; stroke-width:2; stroke-opacity:0.1; fill:none\" points=\"\n",
       "  161.394,1212.6 2321.26,1212.6 \n",
       "  \"/>\n",
       "<polyline clip-path=\"url(#clip7102)\" style=\"stroke:#000000; stroke-width:2; stroke-opacity:0.1; fill:none\" points=\"\n",
       "  161.394,924.474 2321.26,924.474 \n",
       "  \"/>\n",
       "<polyline clip-path=\"url(#clip7102)\" style=\"stroke:#000000; stroke-width:2; stroke-opacity:0.1; fill:none\" points=\"\n",
       "  161.394,636.348 2321.26,636.348 \n",
       "  \"/>\n",
       "<polyline clip-path=\"url(#clip7102)\" style=\"stroke:#000000; stroke-width:2; stroke-opacity:0.1; fill:none\" points=\"\n",
       "  161.394,348.222 2321.26,348.222 \n",
       "  \"/>\n",
       "<polyline clip-path=\"url(#clip7102)\" style=\"stroke:#000000; stroke-width:2; stroke-opacity:0.1; fill:none\" points=\"\n",
       "  161.394,60.096 2321.26,60.096 \n",
       "  \"/>\n",
       "<polyline clip-path=\"url(#clip7100)\" style=\"stroke:#000000; stroke-width:4; stroke-opacity:1; fill:none\" points=\"\n",
       "  161.394,1503.47 2321.26,1503.47 \n",
       "  \"/>\n",
       "<polyline clip-path=\"url(#clip7100)\" style=\"stroke:#000000; stroke-width:4; stroke-opacity:1; fill:none\" points=\"\n",
       "  161.394,1503.47 161.394,47.2441 \n",
       "  \"/>\n",
       "<polyline clip-path=\"url(#clip7100)\" style=\"stroke:#000000; stroke-width:4; stroke-opacity:1; fill:none\" points=\"\n",
       "  286.481,1503.47 286.481,1481.63 \n",
       "  \"/>\n",
       "<polyline clip-path=\"url(#clip7100)\" style=\"stroke:#000000; stroke-width:4; stroke-opacity:1; fill:none\" points=\"\n",
       "  804.728,1503.47 804.728,1481.63 \n",
       "  \"/>\n",
       "<polyline clip-path=\"url(#clip7100)\" style=\"stroke:#000000; stroke-width:4; stroke-opacity:1; fill:none\" points=\"\n",
       "  1322.98,1503.47 1322.98,1481.63 \n",
       "  \"/>\n",
       "<polyline clip-path=\"url(#clip7100)\" style=\"stroke:#000000; stroke-width:4; stroke-opacity:1; fill:none\" points=\"\n",
       "  1841.22,1503.47 1841.22,1481.63 \n",
       "  \"/>\n",
       "<polyline clip-path=\"url(#clip7100)\" style=\"stroke:#000000; stroke-width:4; stroke-opacity:1; fill:none\" points=\"\n",
       "  161.394,1500.73 193.792,1500.73 \n",
       "  \"/>\n",
       "<polyline clip-path=\"url(#clip7100)\" style=\"stroke:#000000; stroke-width:4; stroke-opacity:1; fill:none\" points=\"\n",
       "  161.394,1212.6 193.792,1212.6 \n",
       "  \"/>\n",
       "<polyline clip-path=\"url(#clip7100)\" style=\"stroke:#000000; stroke-width:4; stroke-opacity:1; fill:none\" points=\"\n",
       "  161.394,924.474 193.792,924.474 \n",
       "  \"/>\n",
       "<polyline clip-path=\"url(#clip7100)\" style=\"stroke:#000000; stroke-width:4; stroke-opacity:1; fill:none\" points=\"\n",
       "  161.394,636.348 193.792,636.348 \n",
       "  \"/>\n",
       "<polyline clip-path=\"url(#clip7100)\" style=\"stroke:#000000; stroke-width:4; stroke-opacity:1; fill:none\" points=\"\n",
       "  161.394,348.222 193.792,348.222 \n",
       "  \"/>\n",
       "<polyline clip-path=\"url(#clip7100)\" style=\"stroke:#000000; stroke-width:4; stroke-opacity:1; fill:none\" points=\"\n",
       "  161.394,60.096 193.792,60.096 \n",
       "  \"/>\n",
       "<g clip-path=\"url(#clip7100)\">\n",
       "<text style=\"fill:#000000; fill-opacity:1; font-family:Arial,Helvetica Neue,Helvetica,sans-serif; font-size:48px; text-anchor:middle;\" transform=\"rotate(0, 286.481, 1557.47)\" x=\"286.481\" y=\"1557.47\">0.1</text>\n",
       "</g>\n",
       "<g clip-path=\"url(#clip7100)\">\n",
       "<text style=\"fill:#000000; fill-opacity:1; font-family:Arial,Helvetica Neue,Helvetica,sans-serif; font-size:48px; text-anchor:middle;\" transform=\"rotate(0, 804.728, 1557.47)\" x=\"804.728\" y=\"1557.47\">0.2</text>\n",
       "</g>\n",
       "<g clip-path=\"url(#clip7100)\">\n",
       "<text style=\"fill:#000000; fill-opacity:1; font-family:Arial,Helvetica Neue,Helvetica,sans-serif; font-size:48px; text-anchor:middle;\" transform=\"rotate(0, 1322.98, 1557.47)\" x=\"1322.98\" y=\"1557.47\">0.3</text>\n",
       "</g>\n",
       "<g clip-path=\"url(#clip7100)\">\n",
       "<text style=\"fill:#000000; fill-opacity:1; font-family:Arial,Helvetica Neue,Helvetica,sans-serif; font-size:48px; text-anchor:middle;\" transform=\"rotate(0, 1841.22, 1557.47)\" x=\"1841.22\" y=\"1557.47\">0.4</text>\n",
       "</g>\n",
       "<g clip-path=\"url(#clip7100)\">\n",
       "<text style=\"fill:#000000; fill-opacity:1; font-family:Arial,Helvetica Neue,Helvetica,sans-serif; font-size:48px; text-anchor:end;\" transform=\"rotate(0, 137.394, 1518.23)\" x=\"137.394\" y=\"1518.23\">2.0</text>\n",
       "</g>\n",
       "<g clip-path=\"url(#clip7100)\">\n",
       "<text style=\"fill:#000000; fill-opacity:1; font-family:Arial,Helvetica Neue,Helvetica,sans-serif; font-size:48px; text-anchor:end;\" transform=\"rotate(0, 137.394, 1230.1)\" x=\"137.394\" y=\"1230.1\">2.5</text>\n",
       "</g>\n",
       "<g clip-path=\"url(#clip7100)\">\n",
       "<text style=\"fill:#000000; fill-opacity:1; font-family:Arial,Helvetica Neue,Helvetica,sans-serif; font-size:48px; text-anchor:end;\" transform=\"rotate(0, 137.394, 941.974)\" x=\"137.394\" y=\"941.974\">3.0</text>\n",
       "</g>\n",
       "<g clip-path=\"url(#clip7100)\">\n",
       "<text style=\"fill:#000000; fill-opacity:1; font-family:Arial,Helvetica Neue,Helvetica,sans-serif; font-size:48px; text-anchor:end;\" transform=\"rotate(0, 137.394, 653.848)\" x=\"137.394\" y=\"653.848\">3.5</text>\n",
       "</g>\n",
       "<g clip-path=\"url(#clip7100)\">\n",
       "<text style=\"fill:#000000; fill-opacity:1; font-family:Arial,Helvetica Neue,Helvetica,sans-serif; font-size:48px; text-anchor:end;\" transform=\"rotate(0, 137.394, 365.722)\" x=\"137.394\" y=\"365.722\">4.0</text>\n",
       "</g>\n",
       "<g clip-path=\"url(#clip7100)\">\n",
       "<text style=\"fill:#000000; fill-opacity:1; font-family:Arial,Helvetica Neue,Helvetica,sans-serif; font-size:48px; text-anchor:end;\" transform=\"rotate(0, 137.394, 77.596)\" x=\"137.394\" y=\"77.596\">4.5</text>\n",
       "</g>\n",
       "<polygon clip-path=\"url(#clip7102)\" points=\"\n",
       "637.156,710.177 637.156,1461.94 732.462,1461.94 767.421,1456.39 767.421,1456.39 2188.94,840.44 2188.94,88.6787 2093.64,88.6787 2058.68,94.2304 2058.68,94.2304 \n",
       "  637.156,710.177 637.156,710.177 637.156,710.177 \n",
       "  \" fill=\"#ff0000\" fill-rule=\"evenodd\" fill-opacity=\"0.2\"/>\n",
       "<polyline clip-path=\"url(#clip7102)\" style=\"stroke:#000000; stroke-width:4; stroke-opacity:0.2; fill:none\" points=\"\n",
       "  637.156,710.177 637.156,1461.94 732.462,1461.94 767.421,1456.39 767.421,1456.39 2188.94,840.44 2188.94,88.6787 2093.64,88.6787 2058.68,94.2304 2058.68,94.2304 \n",
       "  637.156,710.177 637.156,710.177 \n",
       "  \"/>\n",
       "<polygon clip-path=\"url(#clip7102)\" points=\"\n",
       "222.522,925.144 637.156,1461.94 686.811,1462.26 732.462,1461.94 741.502,1460.67 767.421,1456.39 1855.96,1022.21 2188.94,840.44 2260.13,476.993 2188.94,88.6787 \n",
       "  2117.02,88.4582 2093.64,88.6787 2081.6,90.011 2058.68,94.2304 2049.89,96.2549 637.156,710.177 222.522,925.144 222.522,925.144 \n",
       "  \" fill=\"#0000ff\" fill-rule=\"evenodd\" fill-opacity=\"0.2\"/>\n",
       "<polyline clip-path=\"url(#clip7102)\" style=\"stroke:#000000; stroke-width:4; stroke-opacity:0.2; fill:none\" points=\"\n",
       "  222.522,925.144 637.156,1461.94 686.811,1462.26 732.462,1461.94 741.502,1460.67 767.421,1456.39 1855.96,1022.21 2188.94,840.44 2260.13,476.993 2188.94,88.6787 \n",
       "  2117.02,88.4582 2093.64,88.6787 2081.6,90.011 2058.68,94.2304 2049.89,96.2549 637.156,710.177 222.522,925.144 \n",
       "  \"/>\n",
       "<polygon clip-path=\"url(#clip7100)\" points=\"\n",
       "233.394,312.204 845.227,312.204 845.227,130.764 233.394,130.764 \n",
       "  \" fill=\"#ffffff\" fill-rule=\"evenodd\" fill-opacity=\"1\"/>\n",
       "<polyline clip-path=\"url(#clip7100)\" style=\"stroke:#000000; stroke-width:4; stroke-opacity:1; fill:none\" points=\"\n",
       "  233.394,312.204 845.227,312.204 845.227,130.764 233.394,130.764 233.394,312.204 \n",
       "  \"/>\n",
       "<polygon clip-path=\"url(#clip7100)\" points=\"\n",
       "257.394,215.436 401.394,215.436 401.394,167.052 257.394,167.052 257.394,215.436 \n",
       "  \" fill=\"#ff0000\" fill-rule=\"evenodd\" fill-opacity=\"0.2\"/>\n",
       "<polyline clip-path=\"url(#clip7100)\" style=\"stroke:#000000; stroke-width:4; stroke-opacity:1; fill:none\" points=\"\n",
       "  257.394,215.436 401.394,215.436 401.394,167.052 257.394,167.052 257.394,215.436 \n",
       "  \"/>\n",
       "<g clip-path=\"url(#clip7100)\">\n",
       "<text style=\"fill:#000000; fill-opacity:1; font-family:Arial,Helvetica Neue,Helvetica,sans-serif; font-size:48px; text-anchor:start;\" transform=\"rotate(0, 425.394, 208.744)\" x=\"425.394\" y=\"208.744\">A*P + P</text>\n",
       "</g>\n",
       "<polygon clip-path=\"url(#clip7100)\" points=\"\n",
       "257.394,275.916 401.394,275.916 401.394,227.532 257.394,227.532 257.394,275.916 \n",
       "  \" fill=\"#0000ff\" fill-rule=\"evenodd\" fill-opacity=\"0.2\"/>\n",
       "<polyline clip-path=\"url(#clip7100)\" style=\"stroke:#000000; stroke-width:4; stroke-opacity:1; fill:none\" points=\"\n",
       "  257.394,275.916 401.394,275.916 401.394,227.532 257.394,227.532 257.394,275.916 \n",
       "  \"/>\n",
       "<g clip-path=\"url(#clip7100)\">\n",
       "<text style=\"fill:#000000; fill-opacity:1; font-family:Arial,Helvetica Neue,Helvetica,sans-serif; font-size:48px; text-anchor:start;\" transform=\"rotate(0, 425.394, 269.224)\" x=\"425.394\" y=\"269.224\">oa (100 samples)</text>\n",
       "</g>\n",
       "</svg>\n"
      ]
     },
     "execution_count": 45,
     "metadata": {},
     "output_type": "execute_result"
    }
   ],
   "source": [
    "plot(X, color=:red, alpha=.2, lab=\"A*P + P\")\n",
    "plot!(Xoa, color=:blue, alpha=.2, lab=\"oa (100 samples)\", legend=:topleft)"
   ]
  },
  {
   "cell_type": "markdown",
   "metadata": {},
   "source": [
    "Adding more samples can be used to refine the set:"
   ]
  },
  {
   "cell_type": "code",
   "execution_count": 46,
   "metadata": {},
   "outputs": [
    {
     "data": {
      "text/plain": [
       "refine (generic function with 1 method)"
      ]
     },
     "execution_count": 46,
     "metadata": {},
     "output_type": "execute_result"
    }
   ],
   "source": [
    "function refine(X, nsamples)\n",
    "    n = LazySets.dim(X)\n",
    "    dirs = Vector{Vector{Float64}}(undef, nsamples)\n",
    "    _sample_unit_nsphere_muller!(dirs, n, nsamples)\n",
    "    overapproximate(X, dirs)\n",
    "end"
   ]
  },
  {
   "cell_type": "code",
   "execution_count": 47,
   "metadata": {},
   "outputs": [
    {
     "data": {
      "image/svg+xml": [
       "<?xml version=\"1.0\" encoding=\"utf-8\"?>\n",
       "<svg xmlns=\"http://www.w3.org/2000/svg\" xmlns:xlink=\"http://www.w3.org/1999/xlink\" width=\"600\" height=\"400\" viewBox=\"0 0 2400 1600\">\n",
       "<defs>\n",
       "  <clipPath id=\"clip7500\">\n",
       "    <rect x=\"0\" y=\"0\" width=\"2400\" height=\"1600\"/>\n",
       "  </clipPath>\n",
       "</defs>\n",
       "<polygon clip-path=\"url(#clip7500)\" points=\"\n",
       "0,1600 2400,1600 2400,0 0,0 \n",
       "  \" fill=\"#ffffff\" fill-rule=\"evenodd\" fill-opacity=\"1\"/>\n",
       "<defs>\n",
       "  <clipPath id=\"clip7501\">\n",
       "    <rect x=\"480\" y=\"0\" width=\"1681\" height=\"1600\"/>\n",
       "  </clipPath>\n",
       "</defs>\n",
       "<polygon clip-path=\"url(#clip7500)\" points=\"\n",
       "161.394,1503.47 2321.26,1503.47 2321.26,47.2441 161.394,47.2441 \n",
       "  \" fill=\"#ffffff\" fill-rule=\"evenodd\" fill-opacity=\"1\"/>\n",
       "<defs>\n",
       "  <clipPath id=\"clip7502\">\n",
       "    <rect x=\"161\" y=\"47\" width=\"2161\" height=\"1457\"/>\n",
       "  </clipPath>\n",
       "</defs>\n",
       "<polyline clip-path=\"url(#clip7502)\" style=\"stroke:#000000; stroke-width:2; stroke-opacity:0.1; fill:none\" points=\"\n",
       "  286.481,1503.47 286.481,47.2441 \n",
       "  \"/>\n",
       "<polyline clip-path=\"url(#clip7502)\" style=\"stroke:#000000; stroke-width:2; stroke-opacity:0.1; fill:none\" points=\"\n",
       "  804.728,1503.47 804.728,47.2441 \n",
       "  \"/>\n",
       "<polyline clip-path=\"url(#clip7502)\" style=\"stroke:#000000; stroke-width:2; stroke-opacity:0.1; fill:none\" points=\"\n",
       "  1322.98,1503.47 1322.98,47.2441 \n",
       "  \"/>\n",
       "<polyline clip-path=\"url(#clip7502)\" style=\"stroke:#000000; stroke-width:2; stroke-opacity:0.1; fill:none\" points=\"\n",
       "  1841.22,1503.47 1841.22,47.2441 \n",
       "  \"/>\n",
       "<polyline clip-path=\"url(#clip7502)\" style=\"stroke:#000000; stroke-width:2; stroke-opacity:0.1; fill:none\" points=\"\n",
       "  161.394,1500.73 2321.26,1500.73 \n",
       "  \"/>\n",
       "<polyline clip-path=\"url(#clip7502)\" style=\"stroke:#000000; stroke-width:2; stroke-opacity:0.1; fill:none\" points=\"\n",
       "  161.394,1212.6 2321.26,1212.6 \n",
       "  \"/>\n",
       "<polyline clip-path=\"url(#clip7502)\" style=\"stroke:#000000; stroke-width:2; stroke-opacity:0.1; fill:none\" points=\"\n",
       "  161.394,924.474 2321.26,924.474 \n",
       "  \"/>\n",
       "<polyline clip-path=\"url(#clip7502)\" style=\"stroke:#000000; stroke-width:2; stroke-opacity:0.1; fill:none\" points=\"\n",
       "  161.394,636.348 2321.26,636.348 \n",
       "  \"/>\n",
       "<polyline clip-path=\"url(#clip7502)\" style=\"stroke:#000000; stroke-width:2; stroke-opacity:0.1; fill:none\" points=\"\n",
       "  161.394,348.222 2321.26,348.222 \n",
       "  \"/>\n",
       "<polyline clip-path=\"url(#clip7502)\" style=\"stroke:#000000; stroke-width:2; stroke-opacity:0.1; fill:none\" points=\"\n",
       "  161.394,60.096 2321.26,60.096 \n",
       "  \"/>\n",
       "<polyline clip-path=\"url(#clip7500)\" style=\"stroke:#000000; stroke-width:4; stroke-opacity:1; fill:none\" points=\"\n",
       "  161.394,1503.47 2321.26,1503.47 \n",
       "  \"/>\n",
       "<polyline clip-path=\"url(#clip7500)\" style=\"stroke:#000000; stroke-width:4; stroke-opacity:1; fill:none\" points=\"\n",
       "  161.394,1503.47 161.394,47.2441 \n",
       "  \"/>\n",
       "<polyline clip-path=\"url(#clip7500)\" style=\"stroke:#000000; stroke-width:4; stroke-opacity:1; fill:none\" points=\"\n",
       "  286.481,1503.47 286.481,1481.63 \n",
       "  \"/>\n",
       "<polyline clip-path=\"url(#clip7500)\" style=\"stroke:#000000; stroke-width:4; stroke-opacity:1; fill:none\" points=\"\n",
       "  804.728,1503.47 804.728,1481.63 \n",
       "  \"/>\n",
       "<polyline clip-path=\"url(#clip7500)\" style=\"stroke:#000000; stroke-width:4; stroke-opacity:1; fill:none\" points=\"\n",
       "  1322.98,1503.47 1322.98,1481.63 \n",
       "  \"/>\n",
       "<polyline clip-path=\"url(#clip7500)\" style=\"stroke:#000000; stroke-width:4; stroke-opacity:1; fill:none\" points=\"\n",
       "  1841.22,1503.47 1841.22,1481.63 \n",
       "  \"/>\n",
       "<polyline clip-path=\"url(#clip7500)\" style=\"stroke:#000000; stroke-width:4; stroke-opacity:1; fill:none\" points=\"\n",
       "  161.394,1500.73 193.792,1500.73 \n",
       "  \"/>\n",
       "<polyline clip-path=\"url(#clip7500)\" style=\"stroke:#000000; stroke-width:4; stroke-opacity:1; fill:none\" points=\"\n",
       "  161.394,1212.6 193.792,1212.6 \n",
       "  \"/>\n",
       "<polyline clip-path=\"url(#clip7500)\" style=\"stroke:#000000; stroke-width:4; stroke-opacity:1; fill:none\" points=\"\n",
       "  161.394,924.474 193.792,924.474 \n",
       "  \"/>\n",
       "<polyline clip-path=\"url(#clip7500)\" style=\"stroke:#000000; stroke-width:4; stroke-opacity:1; fill:none\" points=\"\n",
       "  161.394,636.348 193.792,636.348 \n",
       "  \"/>\n",
       "<polyline clip-path=\"url(#clip7500)\" style=\"stroke:#000000; stroke-width:4; stroke-opacity:1; fill:none\" points=\"\n",
       "  161.394,348.222 193.792,348.222 \n",
       "  \"/>\n",
       "<polyline clip-path=\"url(#clip7500)\" style=\"stroke:#000000; stroke-width:4; stroke-opacity:1; fill:none\" points=\"\n",
       "  161.394,60.096 193.792,60.096 \n",
       "  \"/>\n",
       "<g clip-path=\"url(#clip7500)\">\n",
       "<text style=\"fill:#000000; fill-opacity:1; font-family:Arial,Helvetica Neue,Helvetica,sans-serif; font-size:48px; text-anchor:middle;\" transform=\"rotate(0, 286.481, 1557.47)\" x=\"286.481\" y=\"1557.47\">0.1</text>\n",
       "</g>\n",
       "<g clip-path=\"url(#clip7500)\">\n",
       "<text style=\"fill:#000000; fill-opacity:1; font-family:Arial,Helvetica Neue,Helvetica,sans-serif; font-size:48px; text-anchor:middle;\" transform=\"rotate(0, 804.728, 1557.47)\" x=\"804.728\" y=\"1557.47\">0.2</text>\n",
       "</g>\n",
       "<g clip-path=\"url(#clip7500)\">\n",
       "<text style=\"fill:#000000; fill-opacity:1; font-family:Arial,Helvetica Neue,Helvetica,sans-serif; font-size:48px; text-anchor:middle;\" transform=\"rotate(0, 1322.98, 1557.47)\" x=\"1322.98\" y=\"1557.47\">0.3</text>\n",
       "</g>\n",
       "<g clip-path=\"url(#clip7500)\">\n",
       "<text style=\"fill:#000000; fill-opacity:1; font-family:Arial,Helvetica Neue,Helvetica,sans-serif; font-size:48px; text-anchor:middle;\" transform=\"rotate(0, 1841.22, 1557.47)\" x=\"1841.22\" y=\"1557.47\">0.4</text>\n",
       "</g>\n",
       "<g clip-path=\"url(#clip7500)\">\n",
       "<text style=\"fill:#000000; fill-opacity:1; font-family:Arial,Helvetica Neue,Helvetica,sans-serif; font-size:48px; text-anchor:end;\" transform=\"rotate(0, 137.394, 1518.23)\" x=\"137.394\" y=\"1518.23\">2.0</text>\n",
       "</g>\n",
       "<g clip-path=\"url(#clip7500)\">\n",
       "<text style=\"fill:#000000; fill-opacity:1; font-family:Arial,Helvetica Neue,Helvetica,sans-serif; font-size:48px; text-anchor:end;\" transform=\"rotate(0, 137.394, 1230.1)\" x=\"137.394\" y=\"1230.1\">2.5</text>\n",
       "</g>\n",
       "<g clip-path=\"url(#clip7500)\">\n",
       "<text style=\"fill:#000000; fill-opacity:1; font-family:Arial,Helvetica Neue,Helvetica,sans-serif; font-size:48px; text-anchor:end;\" transform=\"rotate(0, 137.394, 941.974)\" x=\"137.394\" y=\"941.974\">3.0</text>\n",
       "</g>\n",
       "<g clip-path=\"url(#clip7500)\">\n",
       "<text style=\"fill:#000000; fill-opacity:1; font-family:Arial,Helvetica Neue,Helvetica,sans-serif; font-size:48px; text-anchor:end;\" transform=\"rotate(0, 137.394, 653.848)\" x=\"137.394\" y=\"653.848\">3.5</text>\n",
       "</g>\n",
       "<g clip-path=\"url(#clip7500)\">\n",
       "<text style=\"fill:#000000; fill-opacity:1; font-family:Arial,Helvetica Neue,Helvetica,sans-serif; font-size:48px; text-anchor:end;\" transform=\"rotate(0, 137.394, 365.722)\" x=\"137.394\" y=\"365.722\">4.0</text>\n",
       "</g>\n",
       "<g clip-path=\"url(#clip7500)\">\n",
       "<text style=\"fill:#000000; fill-opacity:1; font-family:Arial,Helvetica Neue,Helvetica,sans-serif; font-size:48px; text-anchor:end;\" transform=\"rotate(0, 137.394, 77.596)\" x=\"137.394\" y=\"77.596\">4.5</text>\n",
       "</g>\n",
       "<polygon clip-path=\"url(#clip7502)\" points=\"\n",
       "637.156,710.177 637.156,1461.94 732.462,1461.94 767.421,1456.39 767.421,1456.39 2188.94,840.44 2188.94,88.6787 2093.64,88.6787 2058.68,94.2304 2058.68,94.2304 \n",
       "  637.156,710.177 637.156,710.177 637.156,710.177 \n",
       "  \" fill=\"#ff0000\" fill-rule=\"evenodd\" fill-opacity=\"0.2\"/>\n",
       "<polyline clip-path=\"url(#clip7502)\" style=\"stroke:#000000; stroke-width:4; stroke-opacity:0.2; fill:none\" points=\"\n",
       "  637.156,710.177 637.156,1461.94 732.462,1461.94 767.421,1456.39 767.421,1456.39 2188.94,840.44 2188.94,88.6787 2093.64,88.6787 2058.68,94.2304 2058.68,94.2304 \n",
       "  637.156,710.177 637.156,710.177 \n",
       "  \"/>\n",
       "<polygon clip-path=\"url(#clip7502)\" points=\"\n",
       "222.522,925.144 637.156,1461.94 686.811,1462.26 732.462,1461.94 741.502,1460.67 767.421,1456.39 1855.96,1022.21 2188.94,840.44 2260.13,476.993 2188.94,88.6787 \n",
       "  2117.02,88.4582 2093.64,88.6787 2081.6,90.011 2058.68,94.2304 2049.89,96.2549 637.156,710.177 222.522,925.144 222.522,925.144 \n",
       "  \" fill=\"#0000ff\" fill-rule=\"evenodd\" fill-opacity=\"0.2\"/>\n",
       "<polyline clip-path=\"url(#clip7502)\" style=\"stroke:#000000; stroke-width:4; stroke-opacity:0.2; fill:none\" points=\"\n",
       "  222.522,925.144 637.156,1461.94 686.811,1462.26 732.462,1461.94 741.502,1460.67 767.421,1456.39 1855.96,1022.21 2188.94,840.44 2260.13,476.993 2188.94,88.6787 \n",
       "  2117.02,88.4582 2093.64,88.6787 2081.6,90.011 2058.68,94.2304 2049.89,96.2549 637.156,710.177 222.522,925.144 \n",
       "  \"/>\n",
       "<polygon clip-path=\"url(#clip7502)\" points=\"\n",
       "618.965,795.317 637.156,1461.94 648.967,1461.96 732.462,1461.94 749.195,1459.39 767.421,1456.39 1566.13,1136.84 2188.94,840.44 2201.95,648.305 2188.94,88.6787 \n",
       "  2135.55,88.651 2093.64,88.6787 2069.38,92.5038 2058.68,94.2304 1723.3,221.389 637.156,710.177 618.965,795.317 618.965,795.317 \n",
       "  \" fill=\"#3da44d\" fill-rule=\"evenodd\" fill-opacity=\"0.5\"/>\n",
       "<polyline clip-path=\"url(#clip7502)\" style=\"stroke:#000000; stroke-width:4; stroke-opacity:0.5; fill:none\" points=\"\n",
       "  618.965,795.317 637.156,1461.94 648.967,1461.96 732.462,1461.94 749.195,1459.39 767.421,1456.39 1566.13,1136.84 2188.94,840.44 2201.95,648.305 2188.94,88.6787 \n",
       "  2135.55,88.651 2093.64,88.6787 2069.38,92.5038 2058.68,94.2304 1723.3,221.389 637.156,710.177 618.965,795.317 \n",
       "  \"/>\n",
       "<polygon clip-path=\"url(#clip7500)\" points=\"\n",
       "233.394,372.684 845.227,372.684 845.227,130.764 233.394,130.764 \n",
       "  \" fill=\"#ffffff\" fill-rule=\"evenodd\" fill-opacity=\"1\"/>\n",
       "<polyline clip-path=\"url(#clip7500)\" style=\"stroke:#000000; stroke-width:4; stroke-opacity:1; fill:none\" points=\"\n",
       "  233.394,372.684 845.227,372.684 845.227,130.764 233.394,130.764 233.394,372.684 \n",
       "  \"/>\n",
       "<polygon clip-path=\"url(#clip7500)\" points=\"\n",
       "257.394,215.436 401.394,215.436 401.394,167.052 257.394,167.052 257.394,215.436 \n",
       "  \" fill=\"#ff0000\" fill-rule=\"evenodd\" fill-opacity=\"0.2\"/>\n",
       "<polyline clip-path=\"url(#clip7500)\" style=\"stroke:#000000; stroke-width:4; stroke-opacity:1; fill:none\" points=\"\n",
       "  257.394,215.436 401.394,215.436 401.394,167.052 257.394,167.052 257.394,215.436 \n",
       "  \"/>\n",
       "<g clip-path=\"url(#clip7500)\">\n",
       "<text style=\"fill:#000000; fill-opacity:1; font-family:Arial,Helvetica Neue,Helvetica,sans-serif; font-size:48px; text-anchor:start;\" transform=\"rotate(0, 425.394, 208.744)\" x=\"425.394\" y=\"208.744\">A*P + P</text>\n",
       "</g>\n",
       "<polygon clip-path=\"url(#clip7500)\" points=\"\n",
       "257.394,275.916 401.394,275.916 401.394,227.532 257.394,227.532 257.394,275.916 \n",
       "  \" fill=\"#0000ff\" fill-rule=\"evenodd\" fill-opacity=\"0.2\"/>\n",
       "<polyline clip-path=\"url(#clip7500)\" style=\"stroke:#000000; stroke-width:4; stroke-opacity:1; fill:none\" points=\"\n",
       "  257.394,275.916 401.394,275.916 401.394,227.532 257.394,227.532 257.394,275.916 \n",
       "  \"/>\n",
       "<g clip-path=\"url(#clip7500)\">\n",
       "<text style=\"fill:#000000; fill-opacity:1; font-family:Arial,Helvetica Neue,Helvetica,sans-serif; font-size:48px; text-anchor:start;\" transform=\"rotate(0, 425.394, 269.224)\" x=\"425.394\" y=\"269.224\">oa (100 samples)</text>\n",
       "</g>\n",
       "<polygon clip-path=\"url(#clip7500)\" points=\"\n",
       "257.394,336.396 401.394,336.396 401.394,288.012 257.394,288.012 257.394,336.396 \n",
       "  \" fill=\"#3da44d\" fill-rule=\"evenodd\" fill-opacity=\"0.5\"/>\n",
       "<polyline clip-path=\"url(#clip7500)\" style=\"stroke:#000000; stroke-width:4; stroke-opacity:1; fill:none\" points=\"\n",
       "  257.394,336.396 401.394,336.396 401.394,288.012 257.394,288.012 257.394,336.396 \n",
       "  \"/>\n",
       "<g clip-path=\"url(#clip7500)\">\n",
       "<text style=\"fill:#000000; fill-opacity:1; font-family:Arial,Helvetica Neue,Helvetica,sans-serif; font-size:48px; text-anchor:start;\" transform=\"rotate(0, 425.394, 329.704)\" x=\"425.394\" y=\"329.704\">oa (500 samples)</text>\n",
       "</g>\n",
       "</svg>\n"
      ]
     },
     "execution_count": 47,
     "metadata": {},
     "output_type": "execute_result"
    }
   ],
   "source": [
    "plot!(refine(X, 500), lab=\"oa (500 samples)\")"
   ]
  },
  {
   "cell_type": "code",
   "execution_count": 87,
   "metadata": {},
   "outputs": [
    {
     "data": {
      "text/plain": [
       "test_refine (generic function with 2 methods)"
      ]
     },
     "execution_count": 87,
     "metadata": {},
     "output_type": "execute_result"
    }
   ],
   "source": [
    "# test in higher dimensions: refine and remove redundant constraints (optional)\n",
    "function test_refine(n, k, remove_constraints=true)\n",
    "    P, A = data1476(n)\n",
    "    X = A * P ⊕ P\n",
    "    res = Vector{HPolytope{Float64}}()\n",
    "    for nsamples in k\n",
    "        @time begin \n",
    "            Xoa = refine(X, nsamples)\n",
    "            if remove_constraints\n",
    "                remove_redundant_constraints!(Xoa)\n",
    "            end\n",
    "        end\n",
    "        push!(res, Xoa)\n",
    "    end\n",
    "    return res\n",
    "end"
   ]
  },
  {
   "cell_type": "code",
   "execution_count": 89,
   "metadata": {},
   "outputs": [
    {
     "name": "stdout",
     "output_type": "stream",
     "text": [
      "  0.000520 seconds (646 allocations: 41.344 KiB)\n",
      "  0.002141 seconds (3.19 k allocations: 239.156 KiB)\n",
      "  0.040591 seconds (41.04 k allocations: 6.657 MiB, 7.34% gc time)\n",
      "  3.200264 seconds (1.81 M allocations: 502.997 MiB, 3.50% gc time)\n"
     ]
    }
   ],
   "source": [
    "res = test_refine(8, [2, 10, 100, 1000], true);"
   ]
  },
  {
   "cell_type": "code",
   "execution_count": 93,
   "metadata": {},
   "outputs": [
    {
     "name": "stdout",
     "output_type": "stream",
     "text": [
      "  0.000363 seconds (492 allocations: 30.203 KiB)\n",
      "  0.001470 seconds (2.44 k allocations: 148.813 KiB)\n",
      "  0.009939 seconds (24.31 k allocations: 1.449 MiB)\n",
      "  0.135759 seconds (243.01 k allocations: 14.481 MiB, 3.74% gc time)\n"
     ]
    }
   ],
   "source": [
    "# refine without removing redundant constraints\n",
    "res = test_refine(8, [2, 10, 100, 1000], false);"
   ]
  },
  {
   "cell_type": "markdown",
   "metadata": {},
   "source": [
    "## Minkowski sum in H-representation"
   ]
  },
  {
   "cell_type": "markdown",
   "metadata": {},
   "source": [
    "We consider an approach that can be found in [Minkowski addition of convex polytopes](https://pdfs.semanticscholar.org/7492/2769a31a4d6695f3ada51b05134f77b4fe5b.pdf) by Michal Kvasnica."
   ]
  },
  {
   "cell_type": "code",
   "execution_count": 94,
   "metadata": {},
   "outputs": [],
   "source": [
    "using LazySets, Polyhedra, Random, CDDLib"
   ]
  },
  {
   "cell_type": "code",
   "execution_count": 184,
   "metadata": {},
   "outputs": [],
   "source": [
    "n = 2\n",
    "P = linear_map(rand(n, n), convert(HPolytope, rand(Hyperrectangle, dim=n)));\n",
    "Q = linear_map(rand(n, n), convert(HPolytope, rand(Hyperrectangle, dim=n)));"
   ]
  },
  {
   "cell_type": "code",
   "execution_count": 209,
   "metadata": {},
   "outputs": [
    {
     "data": {
      "image/svg+xml": [
       "<?xml version=\"1.0\" encoding=\"utf-8\"?>\n",
       "<svg xmlns=\"http://www.w3.org/2000/svg\" xmlns:xlink=\"http://www.w3.org/1999/xlink\" width=\"600\" height=\"400\" viewBox=\"0 0 2400 1600\">\n",
       "<defs>\n",
       "  <clipPath id=\"clip7900\">\n",
       "    <rect x=\"0\" y=\"0\" width=\"2400\" height=\"1600\"/>\n",
       "  </clipPath>\n",
       "</defs>\n",
       "<polygon clip-path=\"url(#clip7900)\" points=\"\n",
       "0,1600 2400,1600 2400,0 0,0 \n",
       "  \" fill=\"#ffffff\" fill-rule=\"evenodd\" fill-opacity=\"1\"/>\n",
       "<defs>\n",
       "  <clipPath id=\"clip7901\">\n",
       "    <rect x=\"480\" y=\"0\" width=\"1681\" height=\"1600\"/>\n",
       "  </clipPath>\n",
       "</defs>\n",
       "<polygon clip-path=\"url(#clip7900)\" points=\"\n",
       "189.504,1503.47 2321.26,1503.47 2321.26,47.2441 189.504,47.2441 \n",
       "  \" fill=\"#ffffff\" fill-rule=\"evenodd\" fill-opacity=\"1\"/>\n",
       "<defs>\n",
       "  <clipPath id=\"clip7902\">\n",
       "    <rect x=\"189\" y=\"47\" width=\"2133\" height=\"1457\"/>\n",
       "  </clipPath>\n",
       "</defs>\n",
       "<polyline clip-path=\"url(#clip7902)\" style=\"stroke:#000000; stroke-width:2; stroke-opacity:0.1; fill:none\" points=\"\n",
       "  548.702,1503.47 548.702,47.2441 \n",
       "  \"/>\n",
       "<polyline clip-path=\"url(#clip7902)\" style=\"stroke:#000000; stroke-width:2; stroke-opacity:0.1; fill:none\" points=\"\n",
       "  1082.82,1503.47 1082.82,47.2441 \n",
       "  \"/>\n",
       "<polyline clip-path=\"url(#clip7902)\" style=\"stroke:#000000; stroke-width:2; stroke-opacity:0.1; fill:none\" points=\"\n",
       "  1616.94,1503.47 1616.94,47.2441 \n",
       "  \"/>\n",
       "<polyline clip-path=\"url(#clip7902)\" style=\"stroke:#000000; stroke-width:2; stroke-opacity:0.1; fill:none\" points=\"\n",
       "  2151.05,1503.47 2151.05,47.2441 \n",
       "  \"/>\n",
       "<polyline clip-path=\"url(#clip7902)\" style=\"stroke:#000000; stroke-width:2; stroke-opacity:0.1; fill:none\" points=\"\n",
       "  189.504,1400.65 2321.26,1400.65 \n",
       "  \"/>\n",
       "<polyline clip-path=\"url(#clip7902)\" style=\"stroke:#000000; stroke-width:2; stroke-opacity:0.1; fill:none\" points=\"\n",
       "  189.504,1126.64 2321.26,1126.64 \n",
       "  \"/>\n",
       "<polyline clip-path=\"url(#clip7902)\" style=\"stroke:#000000; stroke-width:2; stroke-opacity:0.1; fill:none\" points=\"\n",
       "  189.504,852.624 2321.26,852.624 \n",
       "  \"/>\n",
       "<polyline clip-path=\"url(#clip7902)\" style=\"stroke:#000000; stroke-width:2; stroke-opacity:0.1; fill:none\" points=\"\n",
       "  189.504,578.612 2321.26,578.612 \n",
       "  \"/>\n",
       "<polyline clip-path=\"url(#clip7902)\" style=\"stroke:#000000; stroke-width:2; stroke-opacity:0.1; fill:none\" points=\"\n",
       "  189.504,304.599 2321.26,304.599 \n",
       "  \"/>\n",
       "<polyline clip-path=\"url(#clip7900)\" style=\"stroke:#000000; stroke-width:4; stroke-opacity:1; fill:none\" points=\"\n",
       "  189.504,1503.47 2321.26,1503.47 \n",
       "  \"/>\n",
       "<polyline clip-path=\"url(#clip7900)\" style=\"stroke:#000000; stroke-width:4; stroke-opacity:1; fill:none\" points=\"\n",
       "  189.504,1503.47 189.504,47.2441 \n",
       "  \"/>\n",
       "<polyline clip-path=\"url(#clip7900)\" style=\"stroke:#000000; stroke-width:4; stroke-opacity:1; fill:none\" points=\"\n",
       "  548.702,1503.47 548.702,1481.63 \n",
       "  \"/>\n",
       "<polyline clip-path=\"url(#clip7900)\" style=\"stroke:#000000; stroke-width:4; stroke-opacity:1; fill:none\" points=\"\n",
       "  1082.82,1503.47 1082.82,1481.63 \n",
       "  \"/>\n",
       "<polyline clip-path=\"url(#clip7900)\" style=\"stroke:#000000; stroke-width:4; stroke-opacity:1; fill:none\" points=\"\n",
       "  1616.94,1503.47 1616.94,1481.63 \n",
       "  \"/>\n",
       "<polyline clip-path=\"url(#clip7900)\" style=\"stroke:#000000; stroke-width:4; stroke-opacity:1; fill:none\" points=\"\n",
       "  2151.05,1503.47 2151.05,1481.63 \n",
       "  \"/>\n",
       "<polyline clip-path=\"url(#clip7900)\" style=\"stroke:#000000; stroke-width:4; stroke-opacity:1; fill:none\" points=\"\n",
       "  189.504,1400.65 221.48,1400.65 \n",
       "  \"/>\n",
       "<polyline clip-path=\"url(#clip7900)\" style=\"stroke:#000000; stroke-width:4; stroke-opacity:1; fill:none\" points=\"\n",
       "  189.504,1126.64 221.48,1126.64 \n",
       "  \"/>\n",
       "<polyline clip-path=\"url(#clip7900)\" style=\"stroke:#000000; stroke-width:4; stroke-opacity:1; fill:none\" points=\"\n",
       "  189.504,852.624 221.48,852.624 \n",
       "  \"/>\n",
       "<polyline clip-path=\"url(#clip7900)\" style=\"stroke:#000000; stroke-width:4; stroke-opacity:1; fill:none\" points=\"\n",
       "  189.504,578.612 221.48,578.612 \n",
       "  \"/>\n",
       "<polyline clip-path=\"url(#clip7900)\" style=\"stroke:#000000; stroke-width:4; stroke-opacity:1; fill:none\" points=\"\n",
       "  189.504,304.599 221.48,304.599 \n",
       "  \"/>\n",
       "<g clip-path=\"url(#clip7900)\">\n",
       "<text style=\"fill:#000000; fill-opacity:1; font-family:Arial,Helvetica Neue,Helvetica,sans-serif; font-size:48px; text-anchor:middle;\" transform=\"rotate(0, 548.702, 1557.47)\" x=\"548.702\" y=\"1557.47\">-1</text>\n",
       "</g>\n",
       "<g clip-path=\"url(#clip7900)\">\n",
       "<text style=\"fill:#000000; fill-opacity:1; font-family:Arial,Helvetica Neue,Helvetica,sans-serif; font-size:48px; text-anchor:middle;\" transform=\"rotate(0, 1082.82, 1557.47)\" x=\"1082.82\" y=\"1557.47\">0</text>\n",
       "</g>\n",
       "<g clip-path=\"url(#clip7900)\">\n",
       "<text style=\"fill:#000000; fill-opacity:1; font-family:Arial,Helvetica Neue,Helvetica,sans-serif; font-size:48px; text-anchor:middle;\" transform=\"rotate(0, 1616.94, 1557.47)\" x=\"1616.94\" y=\"1557.47\">1</text>\n",
       "</g>\n",
       "<g clip-path=\"url(#clip7900)\">\n",
       "<text style=\"fill:#000000; fill-opacity:1; font-family:Arial,Helvetica Neue,Helvetica,sans-serif; font-size:48px; text-anchor:middle;\" transform=\"rotate(0, 2151.05, 1557.47)\" x=\"2151.05\" y=\"1557.47\">2</text>\n",
       "</g>\n",
       "<g clip-path=\"url(#clip7900)\">\n",
       "<text style=\"fill:#000000; fill-opacity:1; font-family:Arial,Helvetica Neue,Helvetica,sans-serif; font-size:48px; text-anchor:end;\" transform=\"rotate(0, 165.504, 1418.15)\" x=\"165.504\" y=\"1418.15\">-0.5</text>\n",
       "</g>\n",
       "<g clip-path=\"url(#clip7900)\">\n",
       "<text style=\"fill:#000000; fill-opacity:1; font-family:Arial,Helvetica Neue,Helvetica,sans-serif; font-size:48px; text-anchor:end;\" transform=\"rotate(0, 165.504, 1144.14)\" x=\"165.504\" y=\"1144.14\">0.0</text>\n",
       "</g>\n",
       "<g clip-path=\"url(#clip7900)\">\n",
       "<text style=\"fill:#000000; fill-opacity:1; font-family:Arial,Helvetica Neue,Helvetica,sans-serif; font-size:48px; text-anchor:end;\" transform=\"rotate(0, 165.504, 870.124)\" x=\"165.504\" y=\"870.124\">0.5</text>\n",
       "</g>\n",
       "<g clip-path=\"url(#clip7900)\">\n",
       "<text style=\"fill:#000000; fill-opacity:1; font-family:Arial,Helvetica Neue,Helvetica,sans-serif; font-size:48px; text-anchor:end;\" transform=\"rotate(0, 165.504, 596.112)\" x=\"165.504\" y=\"596.112\">1.0</text>\n",
       "</g>\n",
       "<g clip-path=\"url(#clip7900)\">\n",
       "<text style=\"fill:#000000; fill-opacity:1; font-family:Arial,Helvetica Neue,Helvetica,sans-serif; font-size:48px; text-anchor:end;\" transform=\"rotate(0, 165.504, 322.099)\" x=\"165.504\" y=\"322.099\">1.5</text>\n",
       "</g>\n",
       "<polygon clip-path=\"url(#clip7902)\" points=\"\n",
       "776.802,976.135 249.837,1462.26 290.381,1458.43 817.346,972.3 776.802,976.135 776.802,976.135 \n",
       "  \" fill=\"#009af9\" fill-rule=\"evenodd\" fill-opacity=\"0.5\"/>\n",
       "<polyline clip-path=\"url(#clip7902)\" style=\"stroke:#000000; stroke-width:4; stroke-opacity:0.5; fill:none\" points=\"\n",
       "  776.802,976.135 249.837,1462.26 290.381,1458.43 817.346,972.3 776.802,976.135 \n",
       "  \"/>\n",
       "<polygon clip-path=\"url(#clip7902)\" points=\"\n",
       "2051.61,208.351 1950.47,319.861 2159.79,199.969 2260.93,88.4582 2051.61,208.351 2051.61,208.351 \n",
       "  \" fill=\"#e26f46\" fill-rule=\"evenodd\" fill-opacity=\"0.5\"/>\n",
       "<polyline clip-path=\"url(#clip7902)\" style=\"stroke:#000000; stroke-width:4; stroke-opacity:0.5; fill:none\" points=\"\n",
       "  2051.61,208.351 1950.47,319.861 2159.79,199.969 2260.93,88.4582 2051.61,208.351 \n",
       "  \"/>\n",
       "</svg>\n"
      ]
     },
     "execution_count": 209,
     "metadata": {},
     "output_type": "execute_result"
    }
   ],
   "source": [
    "plot([P, Q])"
   ]
  },
  {
   "cell_type": "code",
   "execution_count": 210,
   "metadata": {},
   "outputs": [
    {
     "data": {
      "text/plain": [
       "([-1.51935 2.72166; 2.62109 -2.4392; 1.51935 -2.72166; -2.62109 2.4392], [1.80467, 1.16054, -1.53858, -0.666978])"
      ]
     },
     "execution_count": 210,
     "metadata": {},
     "output_type": "execute_result"
    }
   ],
   "source": [
    "A, b = tosimplehrep(P)\n",
    "C, d = tosimplehrep(Q)"
   ]
  },
  {
   "cell_type": "code",
   "execution_count": 211,
   "metadata": {},
   "outputs": [
    {
     "data": {
      "text/plain": [
       "8×4 Array{Float64,2}:\n",
       "  0.0       0.0       2.13557   -2.37526\n",
       "  0.0       0.0      -0.466973   5.06557\n",
       "  0.0       0.0      -2.13557    2.37526\n",
       "  0.0       0.0       0.466973  -5.06557\n",
       " -1.51935   2.72166   1.51935   -2.72166\n",
       "  2.62109  -2.4392   -2.62109    2.4392 \n",
       "  1.51935  -2.72166  -1.51935    2.72166\n",
       " -2.62109   2.4392    2.62109   -2.4392 "
      ]
     },
     "execution_count": 211,
     "metadata": {},
     "output_type": "execute_result"
    }
   ],
   "source": [
    "E = [zeros(size(A, 1), size(C, 2)) A; C -C]"
   ]
  },
  {
   "cell_type": "code",
   "execution_count": 212,
   "metadata": {},
   "outputs": [
    {
     "data": {
      "text/plain": [
       "8-element Array{Float64,1}:\n",
       " -1.7303725062801112\n",
       "  1.6586860343207308\n",
       "  1.8758603943079377\n",
       "  2.374008177971125 \n",
       "  1.8046728168057604\n",
       "  1.1605385639086714\n",
       " -1.5385767466333928\n",
       " -0.6669782531374271"
      ]
     },
     "execution_count": 212,
     "metadata": {},
     "output_type": "execute_result"
    }
   ],
   "source": [
    "f = [b; d]"
   ]
  },
  {
   "cell_type": "code",
   "execution_count": 213,
   "metadata": {},
   "outputs": [
    {
     "data": {
      "text/plain": [
       "HPolytope{Float64}(LazySets.HalfSpace{Float64,VN} where VN<:AbstractArray{Float64,1}[HalfSpace{Float64,Array{Float64,1}}([0.0, 0.0, 2.13557, -2.37526], -1.73037), HalfSpace{Float64,Array{Float64,1}}([0.0, 0.0, -0.466973, 5.06557], 1.65869), HalfSpace{Float64,Array{Float64,1}}([0.0, 0.0, -2.13557, 2.37526], 1.87586), HalfSpace{Float64,Array{Float64,1}}([0.0, 0.0, 0.466973, -5.06557], 2.37401), HalfSpace{Float64,Array{Float64,1}}([-1.51935, 2.72166, 1.51935, -2.72166], 1.80467), HalfSpace{Float64,Array{Float64,1}}([2.62109, -2.4392, -2.62109, 2.4392], 1.16054), HalfSpace{Float64,Array{Float64,1}}([1.51935, -2.72166, -1.51935, 2.72166], -1.53858), HalfSpace{Float64,Array{Float64,1}}([-2.62109, 2.4392, 2.62109, -2.4392], -0.666978)])"
      ]
     },
     "execution_count": 213,
     "metadata": {},
     "output_type": "execute_result"
    }
   ],
   "source": [
    "PQ_2n = HPolytope(E, f)"
   ]
  },
  {
   "cell_type": "code",
   "execution_count": 214,
   "metadata": {},
   "outputs": [
    {
     "data": {
      "text/plain": [
       "Polyhedron CDDLib.Polyhedron{Float64}:\n",
       "8-element iterator of Polyhedra.HalfSpace{Float64,Array{Float64,1}}:\n",
       " HalfSpace([0.0, 0.0, 2.13557, -2.37526], -1.7303725062801112)\n",
       " HalfSpace([0.0, 0.0, -0.466973, 5.06557], 1.6586860343207308)\n",
       " HalfSpace([0.0, 0.0, -2.13557, 2.37526], 1.8758603943079377)\n",
       " HalfSpace([0.0, 0.0, 0.466973, -5.06557], 2.374008177971125)\n",
       " HalfSpace([-1.51935, 2.72166, 1.51935, -2.72166], 1.8046728168057604)\n",
       " HalfSpace([2.62109, -2.4392, -2.62109, 2.4392], 1.1605385639086714)\n",
       " HalfSpace([1.51935, -2.72166, -1.51935, 2.72166], -1.5385767466333928)\n",
       " HalfSpace([-2.62109, 2.4392, 2.62109, -2.4392], -0.6669782531374271)"
      ]
     },
     "execution_count": 214,
     "metadata": {},
     "output_type": "execute_result"
    }
   ],
   "source": [
    "backend = CDDLib.Library()\n",
    "_PQ_2n = polyhedron(PQ_2n, backend=backend)"
   ]
  },
  {
   "cell_type": "code",
   "execution_count": 215,
   "metadata": {},
   "outputs": [
    {
     "data": {
      "text/plain": [
       "Polyhedron CDDLib.Polyhedron{Float64}:\n",
       "40-element iterator of Polyhedra.HalfSpace{Float64,Array{Float64,1}}:\n",
       " HalfSpace([0.0, 0.0], 1.0)\n",
       " HalfSpace([0.0, 0.0], 1.0)\n",
       " HalfSpace([-0.0, -0.0], 1.0)\n",
       " HalfSpace([-0.0, -0.0], 1.0)\n",
       " HalfSpace([3.16114, -2.94177], -1.0)\n",
       " HalfSpace([1.48233, -1.6487], -1.0)\n",
       " HalfSpace([7.18914, -5.18558], 1.0)\n",
       " HalfSpace([3.63119, -3.37921], -1.0)\n",
       " HalfSpace([-0.0, -0.0], 1.0)\n",
       " HalfSpace([1.67189, -1.85953], -1.0)\n",
       " HalfSpace([0.0, 0.0], 1.0)\n",
       " HalfSpace([1.0, -1.79133], -1.3654263635879653)\n",
       " HalfSpace([-1.0, 1.79133], 3.076365743890262)\n",
       " HalfSpace([-1.07457, 1.0], 1.5860749893117199)\n",
       " HalfSpace([-1.36025, 1.26586], 1.0)\n",
       " HalfSpace([-15.4059, -0.0], -1.0)\n",
       " HalfSpace([2.35564, -2.19218], 1.0)\n",
       " HalfSpace([1.0, -1.44667], -1.0376440186048443)\n",
       " HalfSpace([-1.0, 10.8477], 29.691164520761607)\n",
       " HalfSpace([-0.0, 1.84731e-16], 1.0)\n",
       " HalfSpace([-1.28848, 1.19907], 1.0)\n",
       " HalfSpace([1.0, -10.8477], -7.066147501828203)\n",
       " HalfSpace([1.70042, -3.04602], -1.0)\n",
       " HalfSpace([1.0, -1.79133], -1.4117743156950862)\n",
       " HalfSpace([-0.0, -0.0], 1.0)\n",
       " HalfSpace([1.0, -10.8477], -1.466060651473498)\n",
       "  ⋮"
      ]
     },
     "execution_count": 215,
     "metadata": {},
     "output_type": "execute_result"
    }
   ],
   "source": [
    "W = eliminate(_PQ_2n, 3:4, FourierMotzkin())"
   ]
  },
  {
   "cell_type": "code",
   "execution_count": 216,
   "metadata": {},
   "outputs": [],
   "source": [
    "Wpoly = HPolytope(W);"
   ]
  },
  {
   "cell_type": "code",
   "execution_count": 217,
   "metadata": {},
   "outputs": [
    {
     "data": {
      "text/plain": [
       "40"
      ]
     },
     "execution_count": 217,
     "metadata": {},
     "output_type": "execute_result"
    }
   ],
   "source": [
    "length(constraints_list(Wpoly))"
   ]
  },
  {
   "cell_type": "code",
   "execution_count": 218,
   "metadata": {},
   "outputs": [
    {
     "data": {
      "text/plain": [
       "true"
      ]
     },
     "execution_count": 218,
     "metadata": {},
     "output_type": "execute_result"
    }
   ],
   "source": [
    "remove_redundant_constraints!(Wpoly)"
   ]
  },
  {
   "cell_type": "code",
   "execution_count": 219,
   "metadata": {},
   "outputs": [
    {
     "data": {
      "text/plain": [
       "12"
      ]
     },
     "execution_count": 219,
     "metadata": {},
     "output_type": "execute_result"
    }
   ],
   "source": [
    "length(constraints_list(Wpoly))"
   ]
  },
  {
   "cell_type": "code",
   "execution_count": 220,
   "metadata": {},
   "outputs": [
    {
     "data": {
      "image/svg+xml": [
       "<?xml version=\"1.0\" encoding=\"utf-8\"?>\n",
       "<svg xmlns=\"http://www.w3.org/2000/svg\" xmlns:xlink=\"http://www.w3.org/1999/xlink\" width=\"600\" height=\"400\" viewBox=\"0 0 2400 1600\">\n",
       "<defs>\n",
       "  <clipPath id=\"clip8300\">\n",
       "    <rect x=\"0\" y=\"0\" width=\"2400\" height=\"1600\"/>\n",
       "  </clipPath>\n",
       "</defs>\n",
       "<polygon clip-path=\"url(#clip8300)\" points=\"\n",
       "0,1600 2400,1600 2400,0 0,0 \n",
       "  \" fill=\"#ffffff\" fill-rule=\"evenodd\" fill-opacity=\"1\"/>\n",
       "<defs>\n",
       "  <clipPath id=\"clip8301\">\n",
       "    <rect x=\"480\" y=\"0\" width=\"1681\" height=\"1600\"/>\n",
       "  </clipPath>\n",
       "</defs>\n",
       "<polygon clip-path=\"url(#clip8300)\" points=\"\n",
       "189.504,1503.47 2321.26,1503.47 2321.26,47.2441 189.504,47.2441 \n",
       "  \" fill=\"#ffffff\" fill-rule=\"evenodd\" fill-opacity=\"1\"/>\n",
       "<defs>\n",
       "  <clipPath id=\"clip8302\">\n",
       "    <rect x=\"189\" y=\"47\" width=\"2133\" height=\"1457\"/>\n",
       "  </clipPath>\n",
       "</defs>\n",
       "<polyline clip-path=\"url(#clip8302)\" style=\"stroke:#000000; stroke-width:2; stroke-opacity:0.1; fill:none\" points=\"\n",
       "  548.702,1503.47 548.702,47.2441 \n",
       "  \"/>\n",
       "<polyline clip-path=\"url(#clip8302)\" style=\"stroke:#000000; stroke-width:2; stroke-opacity:0.1; fill:none\" points=\"\n",
       "  1082.82,1503.47 1082.82,47.2441 \n",
       "  \"/>\n",
       "<polyline clip-path=\"url(#clip8302)\" style=\"stroke:#000000; stroke-width:2; stroke-opacity:0.1; fill:none\" points=\"\n",
       "  1616.94,1503.47 1616.94,47.2441 \n",
       "  \"/>\n",
       "<polyline clip-path=\"url(#clip8302)\" style=\"stroke:#000000; stroke-width:2; stroke-opacity:0.1; fill:none\" points=\"\n",
       "  2151.05,1503.47 2151.05,47.2441 \n",
       "  \"/>\n",
       "<polyline clip-path=\"url(#clip8302)\" style=\"stroke:#000000; stroke-width:2; stroke-opacity:0.1; fill:none\" points=\"\n",
       "  189.504,1406.87 2321.26,1406.87 \n",
       "  \"/>\n",
       "<polyline clip-path=\"url(#clip8302)\" style=\"stroke:#000000; stroke-width:2; stroke-opacity:0.1; fill:none\" points=\"\n",
       "  189.504,1160.53 2321.26,1160.53 \n",
       "  \"/>\n",
       "<polyline clip-path=\"url(#clip8302)\" style=\"stroke:#000000; stroke-width:2; stroke-opacity:0.1; fill:none\" points=\"\n",
       "  189.504,914.196 2321.26,914.196 \n",
       "  \"/>\n",
       "<polyline clip-path=\"url(#clip8302)\" style=\"stroke:#000000; stroke-width:2; stroke-opacity:0.1; fill:none\" points=\"\n",
       "  189.504,667.857 2321.26,667.857 \n",
       "  \"/>\n",
       "<polyline clip-path=\"url(#clip8302)\" style=\"stroke:#000000; stroke-width:2; stroke-opacity:0.1; fill:none\" points=\"\n",
       "  189.504,421.519 2321.26,421.519 \n",
       "  \"/>\n",
       "<polyline clip-path=\"url(#clip8302)\" style=\"stroke:#000000; stroke-width:2; stroke-opacity:0.1; fill:none\" points=\"\n",
       "  189.504,175.181 2321.26,175.181 \n",
       "  \"/>\n",
       "<polyline clip-path=\"url(#clip8300)\" style=\"stroke:#000000; stroke-width:4; stroke-opacity:1; fill:none\" points=\"\n",
       "  189.504,1503.47 2321.26,1503.47 \n",
       "  \"/>\n",
       "<polyline clip-path=\"url(#clip8300)\" style=\"stroke:#000000; stroke-width:4; stroke-opacity:1; fill:none\" points=\"\n",
       "  189.504,1503.47 189.504,47.2441 \n",
       "  \"/>\n",
       "<polyline clip-path=\"url(#clip8300)\" style=\"stroke:#000000; stroke-width:4; stroke-opacity:1; fill:none\" points=\"\n",
       "  548.702,1503.47 548.702,1481.63 \n",
       "  \"/>\n",
       "<polyline clip-path=\"url(#clip8300)\" style=\"stroke:#000000; stroke-width:4; stroke-opacity:1; fill:none\" points=\"\n",
       "  1082.82,1503.47 1082.82,1481.63 \n",
       "  \"/>\n",
       "<polyline clip-path=\"url(#clip8300)\" style=\"stroke:#000000; stroke-width:4; stroke-opacity:1; fill:none\" points=\"\n",
       "  1616.94,1503.47 1616.94,1481.63 \n",
       "  \"/>\n",
       "<polyline clip-path=\"url(#clip8300)\" style=\"stroke:#000000; stroke-width:4; stroke-opacity:1; fill:none\" points=\"\n",
       "  2151.05,1503.47 2151.05,1481.63 \n",
       "  \"/>\n",
       "<polyline clip-path=\"url(#clip8300)\" style=\"stroke:#000000; stroke-width:4; stroke-opacity:1; fill:none\" points=\"\n",
       "  189.504,1406.87 221.48,1406.87 \n",
       "  \"/>\n",
       "<polyline clip-path=\"url(#clip8300)\" style=\"stroke:#000000; stroke-width:4; stroke-opacity:1; fill:none\" points=\"\n",
       "  189.504,1160.53 221.48,1160.53 \n",
       "  \"/>\n",
       "<polyline clip-path=\"url(#clip8300)\" style=\"stroke:#000000; stroke-width:4; stroke-opacity:1; fill:none\" points=\"\n",
       "  189.504,914.196 221.48,914.196 \n",
       "  \"/>\n",
       "<polyline clip-path=\"url(#clip8300)\" style=\"stroke:#000000; stroke-width:4; stroke-opacity:1; fill:none\" points=\"\n",
       "  189.504,667.857 221.48,667.857 \n",
       "  \"/>\n",
       "<polyline clip-path=\"url(#clip8300)\" style=\"stroke:#000000; stroke-width:4; stroke-opacity:1; fill:none\" points=\"\n",
       "  189.504,421.519 221.48,421.519 \n",
       "  \"/>\n",
       "<polyline clip-path=\"url(#clip8300)\" style=\"stroke:#000000; stroke-width:4; stroke-opacity:1; fill:none\" points=\"\n",
       "  189.504,175.181 221.48,175.181 \n",
       "  \"/>\n",
       "<g clip-path=\"url(#clip8300)\">\n",
       "<text style=\"fill:#000000; fill-opacity:1; font-family:Arial,Helvetica Neue,Helvetica,sans-serif; font-size:48px; text-anchor:middle;\" transform=\"rotate(0, 548.702, 1557.47)\" x=\"548.702\" y=\"1557.47\">-1</text>\n",
       "</g>\n",
       "<g clip-path=\"url(#clip8300)\">\n",
       "<text style=\"fill:#000000; fill-opacity:1; font-family:Arial,Helvetica Neue,Helvetica,sans-serif; font-size:48px; text-anchor:middle;\" transform=\"rotate(0, 1082.82, 1557.47)\" x=\"1082.82\" y=\"1557.47\">0</text>\n",
       "</g>\n",
       "<g clip-path=\"url(#clip8300)\">\n",
       "<text style=\"fill:#000000; fill-opacity:1; font-family:Arial,Helvetica Neue,Helvetica,sans-serif; font-size:48px; text-anchor:middle;\" transform=\"rotate(0, 1616.94, 1557.47)\" x=\"1616.94\" y=\"1557.47\">1</text>\n",
       "</g>\n",
       "<g clip-path=\"url(#clip8300)\">\n",
       "<text style=\"fill:#000000; fill-opacity:1; font-family:Arial,Helvetica Neue,Helvetica,sans-serif; font-size:48px; text-anchor:middle;\" transform=\"rotate(0, 2151.05, 1557.47)\" x=\"2151.05\" y=\"1557.47\">2</text>\n",
       "</g>\n",
       "<g clip-path=\"url(#clip8300)\">\n",
       "<text style=\"fill:#000000; fill-opacity:1; font-family:Arial,Helvetica Neue,Helvetica,sans-serif; font-size:48px; text-anchor:end;\" transform=\"rotate(0, 165.504, 1424.37)\" x=\"165.504\" y=\"1424.37\">-0.5</text>\n",
       "</g>\n",
       "<g clip-path=\"url(#clip8300)\">\n",
       "<text style=\"fill:#000000; fill-opacity:1; font-family:Arial,Helvetica Neue,Helvetica,sans-serif; font-size:48px; text-anchor:end;\" transform=\"rotate(0, 165.504, 1178.03)\" x=\"165.504\" y=\"1178.03\">0.0</text>\n",
       "</g>\n",
       "<g clip-path=\"url(#clip8300)\">\n",
       "<text style=\"fill:#000000; fill-opacity:1; font-family:Arial,Helvetica Neue,Helvetica,sans-serif; font-size:48px; text-anchor:end;\" transform=\"rotate(0, 165.504, 931.696)\" x=\"165.504\" y=\"931.696\">0.5</text>\n",
       "</g>\n",
       "<g clip-path=\"url(#clip8300)\">\n",
       "<text style=\"fill:#000000; fill-opacity:1; font-family:Arial,Helvetica Neue,Helvetica,sans-serif; font-size:48px; text-anchor:end;\" transform=\"rotate(0, 165.504, 685.357)\" x=\"165.504\" y=\"685.357\">1.0</text>\n",
       "</g>\n",
       "<g clip-path=\"url(#clip8300)\">\n",
       "<text style=\"fill:#000000; fill-opacity:1; font-family:Arial,Helvetica Neue,Helvetica,sans-serif; font-size:48px; text-anchor:end;\" transform=\"rotate(0, 165.504, 439.019)\" x=\"165.504\" y=\"439.019\">1.5</text>\n",
       "</g>\n",
       "<g clip-path=\"url(#clip8300)\">\n",
       "<text style=\"fill:#000000; fill-opacity:1; font-family:Arial,Helvetica Neue,Helvetica,sans-serif; font-size:48px; text-anchor:end;\" transform=\"rotate(0, 165.504, 192.681)\" x=\"165.504\" y=\"192.681\">2.0</text>\n",
       "</g>\n",
       "<polygon clip-path=\"url(#clip8302)\" points=\"\n",
       "776.802,1025.23 249.837,1462.26 290.381,1458.81 817.346,1021.78 776.802,1025.23 776.802,1025.23 \n",
       "  \" fill=\"#009af9\" fill-rule=\"evenodd\" fill-opacity=\"0.5\"/>\n",
       "<polyline clip-path=\"url(#clip8302)\" style=\"stroke:#000000; stroke-width:4; stroke-opacity:0.5; fill:none\" points=\"\n",
       "  776.802,1025.23 249.837,1462.26 290.381,1458.81 817.346,1021.78 776.802,1025.23 \n",
       "  \"/>\n",
       "<polygon clip-path=\"url(#clip8302)\" points=\"\n",
       "2051.61,334.992 1950.47,435.24 2159.79,327.456 2260.93,227.208 2051.61,334.992 2051.61,334.992 \n",
       "  \" fill=\"#e26f46\" fill-rule=\"evenodd\" fill-opacity=\"0.5\"/>\n",
       "<polyline clip-path=\"url(#clip8302)\" style=\"stroke:#000000; stroke-width:4; stroke-opacity:0.5; fill:none\" points=\"\n",
       "  2051.61,334.992 1950.47,435.24 2159.79,327.456 2260.93,227.208 2051.61,334.992 \n",
       "  \"/>\n",
       "<polygon clip-path=\"url(#clip8302)\" points=\"\n",
       "1117.49,736.967 1158.03,733.519 1367.35,625.735 1894.32,188.706 1995.45,88.4582 1954.91,91.9058 1745.59,199.69 1218.63,636.719 1117.49,736.967 1117.49,736.967 \n",
       "  \n",
       "  \" fill=\"#3da44d\" fill-rule=\"evenodd\" fill-opacity=\"0.5\"/>\n",
       "<polyline clip-path=\"url(#clip8302)\" style=\"stroke:#000000; stroke-width:4; stroke-opacity:0.5; fill:none\" points=\"\n",
       "  1117.49,736.967 1158.03,733.519 1367.35,625.735 1894.32,188.706 1995.45,88.4582 1954.91,91.9058 1745.59,199.69 1218.63,636.719 1117.49,736.967 \n",
       "  \n",
       "  \"/>\n",
       "<polygon clip-path=\"url(#clip8302)\" points=\"\n",
       "1117.49,736.967 1117.49,736.967 1158.03,733.519 1158.03,733.519 1367.35,625.735 1367.35,625.735 1894.32,188.706 1995.45,88.4582 1995.45,88.4582 1954.91,91.9058 \n",
       "  1954.91,91.9058 1745.59,199.69 1745.59,199.69 1218.63,636.719 1117.49,736.967 1117.49,736.967 \n",
       "  \" fill=\"#c271d2\" fill-rule=\"evenodd\" fill-opacity=\"0.5\"/>\n",
       "<polyline clip-path=\"url(#clip8302)\" style=\"stroke:#000000; stroke-width:4; stroke-opacity:0.5; fill:none\" points=\"\n",
       "  1117.49,736.967 1117.49,736.967 1158.03,733.519 1158.03,733.519 1367.35,625.735 1367.35,625.735 1894.32,188.706 1995.45,88.4582 1954.91,91.9058 \n",
       "  1954.91,91.9058 1745.59,199.69 1745.59,199.69 1218.63,636.719 1117.49,736.967 \n",
       "  \"/>\n",
       "<polygon clip-path=\"url(#clip8300)\" points=\"\n",
       "261.504,312.204 913.481,312.204 913.481,130.764 261.504,130.764 \n",
       "  \" fill=\"#ffffff\" fill-rule=\"evenodd\" fill-opacity=\"1\"/>\n",
       "<polyline clip-path=\"url(#clip8300)\" style=\"stroke:#000000; stroke-width:4; stroke-opacity:1; fill:none\" points=\"\n",
       "  261.504,312.204 913.481,312.204 913.481,130.764 261.504,130.764 261.504,312.204 \n",
       "  \"/>\n",
       "<polygon clip-path=\"url(#clip8300)\" points=\"\n",
       "285.504,215.436 429.504,215.436 429.504,167.052 285.504,167.052 285.504,215.436 \n",
       "  \" fill=\"#3da44d\" fill-rule=\"evenodd\" fill-opacity=\"0.5\"/>\n",
       "<polyline clip-path=\"url(#clip8300)\" style=\"stroke:#000000; stroke-width:4; stroke-opacity:1; fill:none\" points=\"\n",
       "  285.504,215.436 429.504,215.436 429.504,167.052 285.504,167.052 285.504,215.436 \n",
       "  \"/>\n",
       "<g clip-path=\"url(#clip8300)\">\n",
       "<text style=\"fill:#000000; fill-opacity:1; font-family:Arial,Helvetica Neue,Helvetica,sans-serif; font-size:48px; text-anchor:start;\" transform=\"rotate(0, 453.504, 208.744)\" x=\"453.504\" y=\"208.744\">FourierMotzkin</text>\n",
       "</g>\n",
       "<polygon clip-path=\"url(#clip8300)\" points=\"\n",
       "285.504,275.916 429.504,275.916 429.504,227.532 285.504,227.532 285.504,275.916 \n",
       "  \" fill=\"#c271d2\" fill-rule=\"evenodd\" fill-opacity=\"0.5\"/>\n",
       "<polyline clip-path=\"url(#clip8300)\" style=\"stroke:#000000; stroke-width:4; stroke-opacity:1; fill:none\" points=\"\n",
       "  285.504,275.916 429.504,275.916 429.504,227.532 285.504,227.532 285.504,275.916 \n",
       "  \"/>\n",
       "<g clip-path=\"url(#clip8300)\">\n",
       "<text style=\"fill:#000000; fill-opacity:1; font-family:Arial,Helvetica Neue,Helvetica,sans-serif; font-size:48px; text-anchor:start;\" transform=\"rotate(0, 453.504, 269.224)\" x=\"453.504\" y=\"269.224\">Iterative refinement</text>\n",
       "</g>\n",
       "</svg>\n"
      ]
     },
     "execution_count": 220,
     "metadata": {},
     "output_type": "execute_result"
    }
   ],
   "source": [
    "plot!(Wpoly, lab=\"FourierMotzkin\")\n",
    "plot!(P ⊕ Q, lab=\"Iterative refinement\", legend=:topleft)"
   ]
  },
  {
   "cell_type": "markdown",
   "metadata": {},
   "source": [
    "### Test\n",
    "\n",
    "For the implementation see PR https://github.com/JuliaReach/LazySets.jl/pull/1508."
   ]
  },
  {
   "cell_type": "code",
   "execution_count": 46,
   "metadata": {},
   "outputs": [
    {
     "data": {
      "text/plain": [
       "minkowski_sum (generic function with 4 methods)"
      ]
     },
     "execution_count": 46,
     "metadata": {},
     "output_type": "execute_result"
    }
   ],
   "source": [
    "using LazySets, Polyhedra, CDDLib\n",
    "\n",
    "function minkowski_sum(P, Q;\n",
    "                       backend=CDDLib.Library(),\n",
    "                       algorithm=Polyhedra.BlockElimination(),\n",
    "                       prune=true)\n",
    "\n",
    "    \n",
    "    A, b = tosimplehrep(constraints_list(P))\n",
    "    C, d = tosimplehrep(constraints_list(Q))\n",
    "    mP, nP = size(A)\n",
    "    mQ, nQ = size(C)\n",
    "    E = [zeros(Float64, mP, nQ) A; C -C]\n",
    "    f = [b; d]\n",
    "    PQ = HPolytope(E, f)\n",
    "    PQ_cdd = polyhedron(PQ, backend=backend)\n",
    "    W = Polyhedra.eliminate(PQ_cdd, nP+1:2nP, algorithm)\n",
    "    W = HPolytope(W)\n",
    "    if prune\n",
    "        remove_redundant_constraints!(W)\n",
    "    end\n",
    "    return W\n",
    "end"
   ]
  },
  {
   "cell_type": "code",
   "execution_count": 51,
   "metadata": {},
   "outputs": [
    {
     "name": "stdout",
     "output_type": "stream",
     "text": [
      "  0.010841 seconds (11.99 k allocations: 780.802 KiB)\n"
     ]
    },
    {
     "data": {
      "text/plain": [
       "HPolytope{Float64}(LazySets.HalfSpace{Float64,VN} where VN<:AbstractArray{Float64,1}[HalfSpace{Float64,Array{Float64,1}}([1.0, -0.0, -0.0, -0.0, -0.0, -0.0, -0.0, -0.0], 0.352863), HalfSpace{Float64,Array{Float64,1}}([-1.0, -0.0, -0.0, -0.0, -0.0, -0.0, -0.0, -0.0], 2.25524), HalfSpace{Float64,Array{Float64,1}}([-0.0, 1.0, -0.0, -0.0, -0.0, -0.0, -0.0, -0.0], 2.56554), HalfSpace{Float64,Array{Float64,1}}([-0.0, -1.0, -0.0, -0.0, -0.0, -0.0, -0.0, -0.0], 0.179867), HalfSpace{Float64,Array{Float64,1}}([-0.0, -0.0, 1.0, -0.0, -0.0, -0.0, -0.0, -0.0], 2.90416), HalfSpace{Float64,Array{Float64,1}}([-0.0, -0.0, -1.0, -0.0, -0.0, -0.0, -0.0, -0.0], 2.63717), HalfSpace{Float64,Array{Float64,1}}([-0.0, -0.0, -0.0, 1.0, -0.0, -0.0, -0.0, -0.0], 4.47749), HalfSpace{Float64,Array{Float64,1}}([-0.0, -0.0, -0.0, -1.0, -0.0, -0.0, -0.0, -0.0], 1.25237), HalfSpace{Float64,Array{Float64,1}}([-0.0, -0.0, -0.0, -0.0, 1.0, -0.0, -0.0, -0.0], 1.43796), HalfSpace{Float64,Array{Float64,1}}([-0.0, -0.0, -0.0, -0.0, -1.0, -0.0, -0.0, -0.0], -0.139076), HalfSpace{Float64,Array{Float64,1}}([-0.0, -0.0, -0.0, -0.0, -0.0, 1.0, -0.0, -0.0], 1.44535), HalfSpace{Float64,Array{Float64,1}}([-0.0, -0.0, -0.0, -0.0, -0.0, -1.0, -0.0, -0.0], -0.438684), HalfSpace{Float64,Array{Float64,1}}([-0.0, -0.0, -0.0, -0.0, -0.0, -0.0, 1.0, -0.0], 1.24167), HalfSpace{Float64,Array{Float64,1}}([-0.0, -0.0, -0.0, -0.0, -0.0, -0.0, -1.0, -0.0], 6.54499), HalfSpace{Float64,Array{Float64,1}}([-0.0, -0.0, -0.0, -0.0, -0.0, -0.0, -0.0, 1.0], 1.83163), HalfSpace{Float64,Array{Float64,1}}([-0.0, -0.0, -0.0, -0.0, -0.0, -0.0, -0.0, -1.0], 4.74815)])"
      ]
     },
     "execution_count": 51,
     "metadata": {},
     "output_type": "execute_result"
    }
   ],
   "source": [
    "@time minkowski_sum(rand(Hyperrectangle, dim=8), rand(Hyperrectangle, dim=8), algorithm=BlockElimination())"
   ]
  },
  {
   "cell_type": "code",
   "execution_count": 52,
   "metadata": {},
   "outputs": [
    {
     "name": "stdout",
     "output_type": "stream",
     "text": [
      "  0.002218 seconds (4.97 k allocations: 396.008 KiB)\n"
     ]
    },
    {
     "data": {
      "text/plain": [
       "HPolytope{Float64}(LazySets.HalfSpace{Float64,VN} where VN<:AbstractArray{Float64,1}[HalfSpace{Float64,Array{Float64,1}}([-0.0, -0.0, -0.0, -0.0, -0.0, -0.0, -0.0, -1.0], 1.07981), HalfSpace{Float64,Array{Float64,1}}([0.0, 0.0, 0.0, 0.0, 0.0, 0.0, 0.0, 1.0], 4.66565), HalfSpace{Float64,Array{Float64,1}}([-0.0, -0.0, -0.0, -0.0, -0.0, -0.0, -1.0, -0.0], 1.86501), HalfSpace{Float64,Array{Float64,1}}([0.0, 0.0, 0.0, 0.0, 0.0, 0.0, 3.19175, 0.0], -1.0), HalfSpace{Float64,Array{Float64,1}}([-0.0, -0.0, -0.0, -0.0, -0.0, -1.0, -0.0, -0.0], 5.32162), HalfSpace{Float64,Array{Float64,1}}([0.0, 0.0, 0.0, 0.0, 0.0, 1.0, 0.0, 0.0], 2.55597), HalfSpace{Float64,Array{Float64,1}}([-0.0, -0.0, -0.0, -0.0, -1.0, -0.0, -0.0, -0.0], 5.72924), HalfSpace{Float64,Array{Float64,1}}([0.0, 0.0, 0.0, 0.0, 1.12011, 0.0, 0.0, 0.0], 1.0), HalfSpace{Float64,Array{Float64,1}}([-0.0, -0.0, -0.0, -1.0, -0.0, -0.0, -0.0, -0.0], 3.37606), HalfSpace{Float64,Array{Float64,1}}([0.0, 0.0, 0.0, 5.4002, 0.0, 0.0, 0.0, 0.0], -1.0), HalfSpace{Float64,Array{Float64,1}}([-0.0, -0.0, -1.0, -0.0, -0.0, -0.0, -0.0, -0.0], 2.70731), HalfSpace{Float64,Array{Float64,1}}([0.0, 0.0, 14.793, 0.0, 0.0, 0.0, 0.0, 0.0], -1.0), HalfSpace{Float64,Array{Float64,1}}([-0.0, -1.0, -0.0, -0.0, -0.0, -0.0, -0.0, -0.0], 3.50292), HalfSpace{Float64,Array{Float64,1}}([0.0, 1.0, 0.0, 0.0, 0.0, 0.0, 0.0, 0.0], 5.23677), HalfSpace{Float64,Array{Float64,1}}([-1.0, -0.0, -0.0, -0.0, -0.0, -0.0, -0.0, -0.0], 3.82102), HalfSpace{Float64,Array{Float64,1}}([2.84546, 0.0, 0.0, 0.0, 0.0, 0.0, 0.0, 0.0], -1.0)])"
      ]
     },
     "execution_count": 52,
     "metadata": {},
     "output_type": "execute_result"
    }
   ],
   "source": [
    "@time minkowski_sum(rand(Hyperrectangle, dim=8), rand(Hyperrectangle, dim=8), algorithm=FourierMotzkin())"
   ]
  },
  {
   "cell_type": "code",
   "execution_count": 55,
   "metadata": {},
   "outputs": [
    {
     "data": {
      "text/plain": [
       "test_msum_hrep (generic function with 3 methods)"
      ]
     },
     "execution_count": 55,
     "metadata": {},
     "output_type": "execute_result"
    }
   ],
   "source": [
    "function test_msum_hrep(n; prune=true, algorithm=BlockElimination())\n",
    "    P, A = data1476(n)\n",
    "    res = Vector{HPolytope{Float64}}()\n",
    "    @time begin \n",
    "        X = minkowski_sum(A * P, P, algorithm=algorithm) # concrete M-sum in Hrep\n",
    "        if prune\n",
    "            remove_redundant_constraints!(X)\n",
    "        end\n",
    "    end\n",
    "    return res\n",
    "end"
   ]
  },
  {
   "cell_type": "code",
   "execution_count": 57,
   "metadata": {},
   "outputs": [
    {
     "name": "stdout",
     "output_type": "stream",
     "text": [
      "  0.079692 seconds (66.89 k allocations: 7.518 MiB, 21.00% gc time)\n"
     ]
    }
   ],
   "source": [
    "res = test_msum_hrep(4, prune=true, algorithm=BlockElimination());"
   ]
  },
  {
   "cell_type": "code",
   "execution_count": 60,
   "metadata": {},
   "outputs": [],
   "source": [
    "# res = test_msum_hrep(4, prune=true, algorithm=FourierMotzkin()); # slow"
   ]
  },
  {
   "cell_type": "code",
   "execution_count": 64,
   "metadata": {},
   "outputs": [
    {
     "name": "stdout",
     "output_type": "stream",
     "text": [
      "  0.699060 seconds (421.64 k allocations: 85.241 MiB, 6.32% gc time)\n"
     ]
    }
   ],
   "source": [
    "res = test_msum_hrep(5, prune=true, algorithm=BlockElimination());"
   ]
  },
  {
   "cell_type": "code",
   "execution_count": 61,
   "metadata": {},
   "outputs": [
    {
     "name": "stdout",
     "output_type": "stream",
     "text": [
      " 22.340963 seconds (8.74 M allocations: 1.326 GiB, 1.72% gc time)\n"
     ]
    }
   ],
   "source": [
    "res = test_msum_hrep(6, prune=true, algorithm=BlockElimination());"
   ]
  },
  {
   "cell_type": "code",
   "execution_count": 62,
   "metadata": {},
   "outputs": [
    {
     "name": "stdout",
     "output_type": "stream",
     "text": [
      "143.632793 seconds (139.52 M allocations: 21.234 GiB, 3.29% gc time)\n"
     ]
    }
   ],
   "source": [
    "res = test_msum_hrep(7, prune=true, algorithm=BlockElimination());"
   ]
  },
  {
   "cell_type": "code",
   "execution_count": 66,
   "metadata": {},
   "outputs": [
    {
     "ename": "InterruptException",
     "evalue": "InterruptException:",
     "output_type": "error",
     "traceback": [
      "InterruptException:",
      "",
      "Stacktrace:",
      " [1] Type at ./boot.jl:402 [inlined]",
      " [2] Type at ./boot.jl:411 [inlined]",
      " [3] zeros at ./array.jl:452 [inlined]",
      " [4] zeros at ./array.jl:449 [inlined]",
      " [5] Dict{Any,Any}() at ./dict.jl:91",
      " [6] Type at ./dict.jl:118 [inlined]",
      " [7] solvelp(::GLPKMathProgInterface.GLPKInterfaceLP.GLPKMathProgModelLP) at /Users/forets/.julia/packages/MathProgBase/rVlFR/src/HighLevelInterface/linprog.jl:80",
      " [8] linprog at /Users/forets/.julia/packages/MathProgBase/rVlFR/src/HighLevelInterface/linprog.jl:107 [inlined]",
      " [9] #remove_redundant_constraints!#18(::GLPKMathProgInterface.GLPKInterfaceLP.GLPKSolverLP, ::Function, ::Array{LazySets.HalfSpace{Float64,VN} where VN<:AbstractArray{Float64,1},1}) at /Users/forets/.julia/dev/LazySets/src/AbstractPolyhedron_functions.jl:158",
      " [10] #remove_redundant_constraints! at ./none:0 [inlined]",
      " [11] #remove_redundant_constraints!#71 at /Users/forets/.julia/dev/LazySets/src/HPolyhedron.jl:388 [inlined]",
      " [12] remove_redundant_constraints!(::HPolytope{Float64}) at /Users/forets/.julia/dev/LazySets/src/HPolyhedron.jl:388",
      " [13] #minkowski_sum#5(::CDDLib.Library, ::BlockElimination, ::Bool, ::Function, ::LinearMap{Float64,HPolytope{Float64},Float64,Array{Float64,2}}, ::HPolytope{Float64}) at ./In[46]:20",
      " [14] #minkowski_sum at ./none:0 [inlined]",
      " [15] macro expansion at ./In[55]:5 [inlined]",
      " [16] macro expansion at ./util.jl:156 [inlined]",
      " [17] #test_msum_hrep#7(::Bool, ::BlockElimination, ::Function, ::Int64) at ./In[55]:4",
      " [18] (::getfield(Main, Symbol(\"#kw##test_msum_hrep\")))(::NamedTuple{(:prune, :algorithm),Tuple{Bool,BlockElimination}}, ::typeof(test_msum_hrep), ::Int64) at ./none:0",
      " [19] top-level scope at In[66]:1"
     ]
    }
   ],
   "source": [
    "res = test_msum_hrep(8, prune=true, algorithm=BlockElimination()); # slow"
   ]
  }
 ],
 "metadata": {
  "@webio": {
   "lastCommId": null,
   "lastKernelId": null
  },
  "kernelspec": {
   "display_name": "Julia 1.1.0-rc2",
   "language": "julia",
   "name": "julia-1.1"
  },
  "language_info": {
   "file_extension": ".jl",
   "mimetype": "application/julia",
   "name": "julia",
   "version": "1.1.0"
  }
 },
 "nbformat": 4,
 "nbformat_minor": 2
}
