{
 "cells": [
  {
   "cell_type": "code",
   "execution_count": 3,
   "metadata": {},
   "outputs": [],
   "source": [
    "using Revise, LazySets, BenchmarkTools, SparseArrays"
   ]
  },
  {
   "cell_type": "code",
   "execution_count": 128,
   "metadata": {},
   "outputs": [
    {
     "data": {
      "text/plain": [
       "100-element SparseVector{Float64,Int64} with 2 stored entries:\n",
       "  [1  ]  =  1.0\n",
       "  [3  ]  =  1.0"
      ]
     },
     "execution_count": 128,
     "metadata": {},
     "output_type": "execute_result"
    }
   ],
   "source": [
    "N = Float64\n",
    "n = 100\n",
    "cpa = CartesianProductArray([BallInf(zeros(N, 1), N(1)) for _ in 1:n])\n",
    "dd = zeros(N, n); dd[1] = N(1); dd[3] = N(1)\n",
    "ds = sparsevec([1, 3], N[1, 1], n)"
   ]
  },
  {
   "cell_type": "code",
   "execution_count": 10,
   "metadata": {},
   "outputs": [
    {
     "name": "stdout",
     "output_type": "stream",
     "text": [
      "  2.632 μs (100 allocations: 9.38 KiB)\n",
      "  5.312 μs (300 allocations: 18.81 KiB)\n",
      "  162.706 ns (8 allocations: 640 bytes)\n"
     ]
    },
    {
     "data": {
      "text/plain": [
       "2.0"
      ]
     },
     "execution_count": 10,
     "metadata": {},
     "output_type": "execute_result"
    }
   ],
   "source": [
    "@btime ρ($dd, $cpa)\n",
    "@btime ρ($ds, $cpa)  # master\n",
    "@btime ρ_1729($ds, $cpa)  # schillic/1729"
   ]
  },
  {
   "cell_type": "code",
   "execution_count": 11,
   "metadata": {},
   "outputs": [
    {
     "data": {
      "text/plain": [
       "4-element SparseVector{Float64,Int64} with 2 stored entries:\n",
       "  [1]  =  1.0\n",
       "  [3]  =  1.0"
      ]
     },
     "execution_count": 11,
     "metadata": {},
     "output_type": "execute_result"
    }
   ],
   "source": [
    "n = 4\n",
    "cpa = CartesianProductArray([BallInf(zeros(N, 1), N(1)) for _ in 1:n])\n",
    "dd = zeros(N, n); dd[1] = N(1); dd[3] = N(1)\n",
    "ds = sparsevec([1, 3], N[1, 1], n);"
   ]
  },
  {
   "cell_type": "code",
   "execution_count": 12,
   "metadata": {},
   "outputs": [
    {
     "name": "stdout",
     "output_type": "stream",
     "text": [
      "  110.427 ns (4 allocations: 384 bytes)\n",
      "  227.469 ns (12 allocations: 832 bytes)\n",
      "  161.528 ns (8 allocations: 640 bytes)\n"
     ]
    },
    {
     "data": {
      "text/plain": [
       "2.0"
      ]
     },
     "execution_count": 12,
     "metadata": {},
     "output_type": "execute_result"
    }
   ],
   "source": [
    "@btime ρ($dd, $cpa)\n",
    "@btime ρ($ds, $cpa)  # master\n",
    "@btime ρ_1729($ds, $cpa)  # schillic/1729"
   ]
  },
  {
   "cell_type": "code",
   "execution_count": 50,
   "metadata": {},
   "outputs": [],
   "source": [
    "d = sprandn(10, 1, 0.2)[:]\n",
    "cpa = CartesianProductArray([rand(Hyperrectangle, dim=2) for _ in 1:5]);"
   ]
  },
  {
   "cell_type": "code",
   "execution_count": 51,
   "metadata": {},
   "outputs": [
    {
     "data": {
      "text/plain": [
       "-2.2455338704757626"
      ]
     },
     "execution_count": 51,
     "metadata": {},
     "output_type": "execute_result"
    }
   ],
   "source": [
    "ρ(d, cpa)"
   ]
  },
  {
   "cell_type": "code",
   "execution_count": 52,
   "metadata": {},
   "outputs": [
    {
     "data": {
      "text/plain": [
       "-2.2455338704757626"
      ]
     },
     "execution_count": 52,
     "metadata": {},
     "output_type": "execute_result"
    }
   ],
   "source": [
    "ρ_1729(d, cpa)"
   ]
  },
  {
   "cell_type": "code",
   "execution_count": 53,
   "metadata": {},
   "outputs": [
    {
     "name": "stdout",
     "output_type": "stream",
     "text": [
      "  291.853 ns (15 allocations: 1.00 KiB)\n"
     ]
    },
    {
     "data": {
      "text/plain": [
       "-2.2455338704757626"
      ]
     },
     "execution_count": 53,
     "metadata": {},
     "output_type": "execute_result"
    }
   ],
   "source": [
    "@btime ρ($d, $cpa)"
   ]
  },
  {
   "cell_type": "code",
   "execution_count": 54,
   "metadata": {},
   "outputs": [
    {
     "name": "stdout",
     "output_type": "stream",
     "text": [
      "  169.510 ns (8 allocations: 672 bytes)\n"
     ]
    },
    {
     "data": {
      "text/plain": [
       "-2.2455338704757626"
      ]
     },
     "execution_count": 54,
     "metadata": {},
     "output_type": "execute_result"
    }
   ],
   "source": [
    "@btime ρ_1729($d, $cpa)"
   ]
  },
  {
   "cell_type": "code",
   "execution_count": 55,
   "metadata": {},
   "outputs": [
    {
     "data": {
      "text/plain": [
       "10-element SparseVector{Float64,Int64} with 3 stored entries:\n",
       "  [2 ]  =  0.995627\n",
       "  [3 ]  =  -0.932751\n",
       "  [4 ]  =  1.49306"
      ]
     },
     "execution_count": 55,
     "metadata": {},
     "output_type": "execute_result"
    }
   ],
   "source": [
    "d"
   ]
  },
  {
   "cell_type": "code",
   "execution_count": 57,
   "metadata": {},
   "outputs": [
    {
     "data": {
      "text/plain": [
       "([2, 3, 4], [0.9956265124250439, -0.9327508849583663, 1.4930602425207065])"
      ]
     },
     "execution_count": 57,
     "metadata": {},
     "output_type": "execute_result"
    }
   ],
   "source": [
    "indices, _ = findnz(d)"
   ]
  },
  {
   "cell_type": "code",
   "execution_count": 58,
   "metadata": {},
   "outputs": [
    {
     "data": {
      "text/plain": [
       "2"
      ]
     },
     "execution_count": 58,
     "metadata": {},
     "output_type": "execute_result"
    }
   ],
   "source": [
    "next_idx = 1\n",
    "next_dim = indices[next_idx]"
   ]
  },
  {
   "cell_type": "code",
   "execution_count": 59,
   "metadata": {},
   "outputs": [
    {
     "data": {
      "text/plain": [
       "3"
      ]
     },
     "execution_count": 59,
     "metadata": {},
     "output_type": "execute_result"
    }
   ],
   "source": [
    "m = length(indices)"
   ]
  },
  {
   "cell_type": "code",
   "execution_count": 62,
   "metadata": {},
   "outputs": [
    {
     "data": {
      "text/plain": [
       "1"
      ]
     },
     "execution_count": 62,
     "metadata": {},
     "output_type": "execute_result"
    }
   ],
   "source": [
    "i0 = 1 # index of starting block"
   ]
  },
  {
   "cell_type": "code",
   "execution_count": 63,
   "metadata": {},
   "outputs": [
    {
     "data": {
      "text/plain": [
       "2"
      ]
     },
     "execution_count": 63,
     "metadata": {},
     "output_type": "execute_result"
    }
   ],
   "source": [
    "i1 = i0 + dim(cpa.array[1]) - 1 # index of final index"
   ]
  },
  {
   "cell_type": "markdown",
   "metadata": {},
   "source": [
    "## support function"
   ]
  },
  {
   "cell_type": "code",
   "execution_count": 7,
   "metadata": {},
   "outputs": [
    {
     "data": {
      "text/plain": [
       "ρ_1729 (generic function with 1 method)"
      ]
     },
     "execution_count": 7,
     "metadata": {},
     "output_type": "execute_result"
    }
   ],
   "source": [
    "# faster version for sparse vectors\n",
    "function ρ_1729(d::AbstractSparseVector{N}, cpa::CartesianProductArray{N}) where {N<:Real}\n",
    "    sfun = zero(N)\n",
    "    indices, _ = SparseArrays.findnz(d)\n",
    "    if isempty(indices)\n",
    "        # direction is the zero vector\n",
    "        return sfun\n",
    "    end\n",
    "    next_idx = 1\n",
    "    next_dim = indices[next_idx]\n",
    "    m = length(indices)\n",
    "    i0 = 1\n",
    "    for Xi in cpa.array\n",
    "        i1 = i0 + dim(Xi) - 1\n",
    "        if next_dim <= i1\n",
    "            # there is a non-zero entry in this block\n",
    "            sfun += ρ(d[i0:i1], Xi)\n",
    "\n",
    "            # find next index outside the current block\n",
    "            next_idx += 1\n",
    "            while next_idx <= m && indices[next_idx] <= i1\n",
    "                next_idx += 1\n",
    "            end\n",
    "            if next_idx > m\n",
    "                # no more non-zero entries\n",
    "                break\n",
    "            end\n",
    "            next_dim = indices[next_idx]\n",
    "        end\n",
    "        i0 = i1 + 1\n",
    "    end\n",
    "    return sfun\n",
    "end"
   ]
  },
  {
   "cell_type": "code",
   "execution_count": null,
   "metadata": {},
   "outputs": [],
   "source": [
    "function ρ_master(d::AbstractVector{N}, cpa::CartesianProductArray{N}) where {N<:Real}\n",
    "    sfun = zero(N)\n",
    "    i0 = 1\n",
    "    for Xi in cpa.array\n",
    "        i1 = i0 + dim(Xi) - 1\n",
    "        sfun += ρ(d[i0:i1], Xi)\n",
    "        i0 = i1 + 1\n",
    "    end\n",
    "    return sfun\n",
    "end"
   ]
  },
  {
   "cell_type": "markdown",
   "metadata": {},
   "source": [
    "## support vector"
   ]
  },
  {
   "cell_type": "code",
   "execution_count": 8,
   "metadata": {},
   "outputs": [
    {
     "data": {
      "text/plain": [
       "σ_1729 (generic function with 1 method)"
      ]
     },
     "execution_count": 8,
     "metadata": {},
     "output_type": "execute_result"
    }
   ],
   "source": [
    "# faster version for sparse vectors\n",
    "function σ_1729(d::AbstractSparseVector{N}, cpa::CartesianProductArray{N}\n",
    "          ) where {N<:Real}\n",
    "    svec = similar(d)\n",
    "    indices, _ = SparseArrays.findnz(d)\n",
    "    if isempty(indices)\n",
    "        # direction is the zero vector\n",
    "        return an_element(cpa)\n",
    "    end\n",
    "    next_idx = 1\n",
    "    next_dim = indices[next_idx]\n",
    "    m = length(indices)\n",
    "    i0 = 1\n",
    "    for Xi in cpa.array\n",
    "        i1 = i0 + dim(Xi) - 1\n",
    "        if next_dim <= i1\n",
    "            # there is a non-zero entry in this block\n",
    "            svec[i0:i1] = σ(d[i0:i1], Xi)\n",
    "\n",
    "            # find next index outside the current block\n",
    "            next_idx += 1\n",
    "            while next_idx <= m && indices[next_idx] <= i1\n",
    "                next_idx += 1\n",
    "            end\n",
    "            if next_idx <= m\n",
    "                next_dim = indices[next_idx]\n",
    "            end\n",
    "        else\n",
    "            svec[i0:i1] = an_element(Xi)\n",
    "        end\n",
    "        i0 = i1 + 1\n",
    "    end\n",
    "    return svec\n",
    "end"
   ]
  },
  {
   "cell_type": "markdown",
   "metadata": {},
   "source": [
    "## single entries"
   ]
  },
  {
   "cell_type": "code",
   "execution_count": 129,
   "metadata": {},
   "outputs": [],
   "source": [
    "using LazySets: SingleEntryVector\n",
    "\n",
    "dse = SingleEntryVector(100, 100, 2.0)\n",
    "dsp = sparsevec([100], [2.0], 100)\n",
    "cpa = CartesianProductArray([rand(Hyperrectangle, dim=2) for _ in 1:50]);"
   ]
  },
  {
   "cell_type": "code",
   "execution_count": 130,
   "metadata": {},
   "outputs": [
    {
     "data": {
      "text/plain": [
       "100"
      ]
     },
     "execution_count": 130,
     "metadata": {},
     "output_type": "execute_result"
    }
   ],
   "source": [
    "dse.i"
   ]
  },
  {
   "cell_type": "code",
   "execution_count": 131,
   "metadata": {},
   "outputs": [
    {
     "data": {
      "text/plain": [
       "ρ_single_entry (generic function with 1 method)"
      ]
     },
     "execution_count": 131,
     "metadata": {},
     "output_type": "execute_result"
    }
   ],
   "source": [
    "function ρ_single_entry(d::SingleEntryVector{N}, cpa::CartesianProductArray{N}) where {N}\n",
    "    i0 = 1\n",
    "    idx = d.i\n",
    "    for Xi in cpa.array\n",
    "        i1 = i0 + dim(Xi) - 1\n",
    "        if i0 <= idx && idx <= i1\n",
    "            return ρ(@view(d[i0:i1]), Xi)\n",
    "        end\n",
    "        i0 = i1 + 1\n",
    "    end\n",
    "    return sfun  \n",
    "endusing LazySets: SingleEntryVector\n",
    "\n",
    "dse = SingleEntryVector(100, 100, 2.0)\n",
    "dsp = sparsevec([100], [2.0], 100)\n",
    "cpa = CartesianProductArray([rand(Hyperrectangle, dim=2) for _ in 1:50]);"
   ]
  },
  {
   "cell_type": "code",
   "execution_count": 138,
   "metadata": {},
   "outputs": [],
   "source": [
    "using LazySets: SingleEntryVector\n",
    "\n",
    "dse = SingleEntryVector(1, 100, 2.0)\n",
    "dsp = sparsevec([1], [2.0], 100)\n",
    "cpa = CartesianProductArray([rand(Hyperrectangle, dim=2) for _ in 1:50]);"
   ]
  },
  {
   "cell_type": "code",
   "execution_count": 139,
   "metadata": {},
   "outputs": [
    {
     "name": "stdout",
     "output_type": "stream",
     "text": [
      "  13.776 ns (1 allocation: 16 bytes)\n",
      "  113.257 ns (5 allocations: 416 bytes)\n"
     ]
    },
    {
     "data": {
      "text/plain": [
       "-0.5162752710697882"
      ]
     },
     "execution_count": 139,
     "metadata": {},
     "output_type": "execute_result"
    }
   ],
   "source": [
    "@btime ρ_single_entry($dse, $cpa)\n",
    "@btime ρ_1729($dsp, $cpa)"
   ]
  },
  {
   "cell_type": "code",
   "execution_count": null,
   "metadata": {},
   "outputs": [],
   "source": []
  },
  {
   "cell_type": "code",
   "execution_count": null,
   "metadata": {},
   "outputs": [],
   "source": []
  }
 ],
 "metadata": {
  "kernelspec": {
   "display_name": "Julia 1.2.0",
   "language": "julia",
   "name": "julia-1.2"
  },
  "language_info": {
   "file_extension": ".jl",
   "mimetype": "application/julia",
   "name": "julia",
   "version": "1.2.0"
  }
 },
 "nbformat": 4,
 "nbformat_minor": 2
}
