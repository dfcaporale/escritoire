{
 "cells": [
  {
   "cell_type": "code",
   "execution_count": 2,
   "metadata": {},
   "outputs": [
    {
     "name": "stderr",
     "output_type": "stream",
     "text": [
      "┌ Info: Recompiling stale cache file /home/mforets/.julia/compiled/v1.2/LazySets/NjrGc.ji for LazySets [b4f0291d-fe17-52bc-9479-3d1a343d9043]\n",
      "└ @ Base loading.jl:1240\n"
     ]
    }
   ],
   "source": [
    "using Revise, LazySets, BenchmarkTools"
   ]
  },
  {
   "cell_type": "code",
   "execution_count": null,
   "metadata": {},
   "outputs": [],
   "source": [
    "convert_id(::Type{T}, x::T) where {T<:LazySet} = x"
   ]
  },
  {
   "cell_type": "code",
   "execution_count": null,
   "metadata": {},
   "outputs": [],
   "source": [
    "A = rand(Interval)\n",
    "\n",
    "@btime convert(Interval, $A)\n",
    "@btime convert_id(Interval, $A)\n",
    "@btime convert_id(Interval{Float64}, $A)"
   ]
  },
  {
   "cell_type": "code",
   "execution_count": null,
   "metadata": {},
   "outputs": [],
   "source": [
    "B = rand(Hyperrectangle)\n",
    "\n",
    "@btime convert(Hyperrectangle, $B)\n",
    "@btime convert_id(Hyperrectangle{Float64}, $B)\n",
    "@btime convert_id(Hyperrectangle{Float64, Vector{Float64}, Vector{Float64}}, $B)"
   ]
  },
  {
   "cell_type": "code",
   "execution_count": null,
   "metadata": {},
   "outputs": [],
   "source": [
    "using SparseArrays"
   ]
  },
  {
   "cell_type": "code",
   "execution_count": null,
   "metadata": {},
   "outputs": [],
   "source": [
    "convert(Hyperrectangle{Float64, SparseVector{Float64,Int64}, SparseVector{Float64,Int64}}, B)"
   ]
  },
  {
   "cell_type": "code",
   "execution_count": null,
   "metadata": {},
   "outputs": [],
   "source": [
    "convert_id(Hyperrectangle{Float64, SparseVector{Float64,Int64}, SparseVector{Float64,Int64}}, B)"
   ]
  },
  {
   "cell_type": "code",
   "execution_count": null,
   "metadata": {},
   "outputs": [],
   "source": [
    "Base.convert(::Type{T}, x::T) where {T<:LazySet} = x\n",
    "\n",
    "A = rand(Interval)\n",
    "\n",
    "@btime convert(Interval, $A)\n",
    "@btime convert(Interval{Float64}, $A)\n",
    "\n",
    "B = rand(Hyperrectangle)\n",
    "\n",
    "@btime convert(Hyperrectangle, $B)\n",
    "@btime convert(Hyperrectangle{Float64}, $B)\n",
    "@btime convert(Hyperrectangle{Float64, Vector{Float64}, Vector{Float64}}, $B)"
   ]
  },
  {
   "cell_type": "code",
   "execution_count": null,
   "metadata": {},
   "outputs": [],
   "source": [
    "convert(Interval, A)"
   ]
  },
  {
   "cell_type": "markdown",
   "metadata": {},
   "source": [
    "---"
   ]
  },
  {
   "cell_type": "code",
   "execution_count": 3,
   "metadata": {},
   "outputs": [],
   "source": [
    "for T in subtypes(LazySet, true)\n",
    "    @eval begin\n",
    "        Base.convert(::Type{$T}, X::$T) = X\n",
    "    end\n",
    "end"
   ]
  },
  {
   "cell_type": "code",
   "execution_count": 4,
   "metadata": {},
   "outputs": [
    {
     "name": "stdout",
     "output_type": "stream",
     "text": [
      "  0.017 ns (0 allocations: 0 bytes)\n",
      "  0.017 ns (0 allocations: 0 bytes)\n",
      "  1.240 ns (0 allocations: 0 bytes)\n",
      "  1.239 ns (0 allocations: 0 bytes)\n",
      "  1.239 ns (0 allocations: 0 bytes)\n"
     ]
    },
    {
     "data": {
      "text/plain": [
       "Hyperrectangle{Float64,Array{Float64,1},Array{Float64,1}}([-0.534391093220673, 0.004744638237222732], [0.6424626930882074, 0.9016088921216777])"
      ]
     },
     "execution_count": 4,
     "metadata": {},
     "output_type": "execute_result"
    }
   ],
   "source": [
    "A = rand(Interval)\n",
    "\n",
    "@btime convert(Interval, $A)\n",
    "@btime convert(Interval{Float64}, $A)\n",
    "\n",
    "B = rand(Hyperrectangle)\n",
    "\n",
    "@btime convert(Hyperrectangle, $B)\n",
    "@btime convert(Hyperrectangle{Float64}, $B)\n",
    "@btime convert(Hyperrectangle{Float64, Vector{Float64}, Vector{Float64}}, $B)"
   ]
  },
  {
   "cell_type": "code",
   "execution_count": 6,
   "metadata": {},
   "outputs": [
    {
     "data": {
      "text/plain": [
       "LinearMap{Float64,BallInf{Float64},Float64,Array{Float64,2}}([0.9249280534918156 0.06715607249945821; 0.15745310319358663 0.8032462120992412], BallInf{Float64}([-1.0079719571828718, -0.9203145615366538], 1.3128805889182138))"
      ]
     },
     "execution_count": 6,
     "metadata": {},
     "output_type": "execute_result"
    }
   ],
   "source": [
    "convert(LinearMap, rand(2, 2) * rand(BallInf))"
   ]
  },
  {
   "cell_type": "code",
   "execution_count": 7,
   "metadata": {},
   "outputs": [
    {
     "data": {
      "text/plain": [
       "LinearMap{Float64,BallInf{Float64},Float64,Array{Float64,2}}([0.5946146411570421 0.9160368487477293; 0.40028415253526917 0.6646410216604313], BallInf{Float64}([0.13685149335916344, -0.49239283025886765], 1.1056082213529037))"
      ]
     },
     "execution_count": 7,
     "metadata": {},
     "output_type": "execute_result"
    }
   ],
   "source": [
    "convert(LinearMap{Float64,BallInf{Float64},Float64,Array{Float64,2}}, rand(2, 2) * rand(BallInf))"
   ]
  },
  {
   "cell_type": "code",
   "execution_count": 8,
   "metadata": {},
   "outputs": [
    {
     "ename": "MethodError",
     "evalue": "MethodError: Cannot `convert` an object of type LinearMap{Float64,BallInf{Float64},Float64,Array{Float64,2}} to an object of type LinearMap{Float32,BallInf{Float32},Float32,Array{Float32,2}}\nClosest candidates are:\n  convert(::Type{T}, !Matched::T) where T at essentials.jl:167",
     "output_type": "error",
     "traceback": [
      "MethodError: Cannot `convert` an object of type LinearMap{Float64,BallInf{Float64},Float64,Array{Float64,2}} to an object of type LinearMap{Float32,BallInf{Float32},Float32,Array{Float32,2}}\nClosest candidates are:\n  convert(::Type{T}, !Matched::T) where T at essentials.jl:167",
      "",
      "Stacktrace:",
      " [1] top-level scope at In[8]:1"
     ]
    }
   ],
   "source": [
    "convert(LinearMap{Float32,BallInf{Float32},Float32,Array{Float32,2}}, rand(2, 2) * rand(BallInf))"
   ]
  }
 ],
 "metadata": {
  "kernelspec": {
   "display_name": "Julia 1.2.0",
   "language": "julia",
   "name": "julia-1.2"
  },
  "language_info": {
   "file_extension": ".jl",
   "mimetype": "application/julia",
   "name": "julia",
   "version": "1.2.0"
  }
 },
 "nbformat": 4,
 "nbformat_minor": 2
}
