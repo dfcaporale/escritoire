{
 "cells": [
  {
   "cell_type": "code",
   "execution_count": 2,
   "metadata": {},
   "outputs": [
    {
     "name": "stderr",
     "output_type": "stream",
     "text": [
      "┌ Info: Precompiling ReachabilityAnalysis [1e97bd63-91d1-579d-8e8d-501d2b57c93f]\n",
      "└ @ Base loading.jl:1273\n"
     ]
    }
   ],
   "source": [
    "using Revise, ReachabilityAnalysis"
   ]
  },
  {
   "cell_type": "code",
   "execution_count": 3,
   "metadata": {},
   "outputs": [
    {
     "data": {
      "text/plain": [
       "InitialValueProblem{LinearContinuousSystem{Float64,IdentityMultiple{Float64}},IntervalArithmetic.Interval{Float64}}(LinearContinuousSystem{Float64,IdentityMultiple{Float64}}([-1.0]), [0, 1])"
      ]
     },
     "execution_count": 3,
     "metadata": {},
     "output_type": "execute_result"
    }
   ],
   "source": [
    "p = @ivp(x' = -x, x(0) ∈ 0..1)"
   ]
  },
  {
   "cell_type": "code",
   "execution_count": 4,
   "metadata": {},
   "outputs": [
    {
     "ename": "UndefVarError",
     "evalue": "UndefVarError: X not defined",
     "output_type": "error",
     "traceback": [
      "UndefVarError: X not defined",
      "",
      "Stacktrace:",
      " [1] #post#44(::Base.Iterators.Pairs{Symbol,Tuple{Float64,Float64},Tuple{Symbol},NamedTuple{(:tspan,),Tuple{Tuple{Float64,Float64}}}}, ::typeof(ReachabilityAnalysis.post), ::GLGM06, ::InitialValueProblem{LinearContinuousSystem{Float64,IdentityMultiple{Float64}},IntervalArithmetic.Interval{Float64}}, ::Tuple{Float64,Float64}) at /home/mforets/.julia/dev/ReachabilityAnalysis/src/Algorithms/GLGM06/post.jl:27",
      " [2] #post at ./none:0 [inlined]",
      " [3] #solve#45(::Base.Iterators.Pairs{Symbol,Tuple{Float64,Float64},Tuple{Symbol},NamedTuple{(:tspan,),Tuple{Tuple{Float64,Float64}}}}, ::typeof(solve), ::InitialValueProblem{LinearContinuousSystem{Float64,IdentityMultiple{Float64}},IntervalArithmetic.Interval{Float64}}) at /home/mforets/.julia/dev/ReachabilityAnalysis/src/Continuous/solve.jl:13",
      " [4] (::ReachabilityAnalysis.var\"#kw##solve\")(::NamedTuple{(:tspan,),Tuple{Tuple{Float64,Float64}}}, ::typeof(solve), ::InitialValueProblem{LinearContinuousSystem{Float64,IdentityMultiple{Float64}},IntervalArithmetic.Interval{Float64}}) at ./none:0",
      " [5] top-level scope at In[4]:1"
     ]
    }
   ],
   "source": [
    "sol = solve(p, tspan=(0.0, 1.0));"
   ]
  },
  {
   "cell_type": "code",
   "execution_count": null,
   "metadata": {},
   "outputs": [],
   "source": [
    "sol = solve(p, T=1.0)"
   ]
  }
 ],
 "metadata": {
  "kernelspec": {
   "display_name": "Julia 1.3.1",
   "language": "julia",
   "name": "julia-1.3"
  },
  "language_info": {
   "file_extension": ".jl",
   "mimetype": "application/julia",
   "name": "julia",
   "version": "1.3.1"
  }
 },
 "nbformat": 4,
 "nbformat_minor": 2
}
