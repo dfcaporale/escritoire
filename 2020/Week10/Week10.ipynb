{
 "cells": [
  {
   "cell_type": "markdown",
   "metadata": {},
   "source": [
    "## Zonotope type parameters"
   ]
  },
  {
   "cell_type": "code",
   "execution_count": 3,
   "metadata": {},
   "outputs": [],
   "source": [
    "using Revise, LazySets, BenchmarkTools"
   ]
  },
  {
   "cell_type": "code",
   "execution_count": 2,
   "metadata": {},
   "outputs": [
    {
     "data": {
      "text/plain": [
       "2-element Array{Float64,1}:\n",
       " 0.484108963306799\n",
       " 0.679992862194166"
      ]
     },
     "execution_count": 2,
     "metadata": {},
     "output_type": "execute_result"
    }
   ],
   "source": [
    "c = rand(2)"
   ]
  },
  {
   "cell_type": "code",
   "execution_count": 3,
   "metadata": {},
   "outputs": [],
   "source": [
    "gl = [rand(2) for _ in 1:100];"
   ]
  },
  {
   "cell_type": "code",
   "execution_count": 11,
   "metadata": {},
   "outputs": [
    {
     "name": "stdout",
     "output_type": "stream",
     "text": [
      "  711.659 ns (2 allocations: 1.80 KiB)\n",
      "  628.181 ns (2 allocations: 1.80 KiB)\n"
     ]
    }
   ],
   "source": [
    "@btime Zonotope($c, $gl);\n",
    "@btime Zonotope($c, $gl, remove_zero_generators=false);"
   ]
  },
  {
   "cell_type": "code",
   "execution_count": 10,
   "metadata": {},
   "outputs": [
    {
     "name": "stdout",
     "output_type": "stream",
     "text": [
      "  709.309 ns (2 allocations: 1.80 KiB)\n",
      "  586.228 ns (2 allocations: 1.80 KiB)\n"
     ]
    }
   ],
   "source": [
    "@btime LazySets.Zonotope2($c, $gl);\n",
    "@btime LazySets.Zonotope2($c, $gl, remove_zero_generators=false);"
   ]
  },
  {
   "cell_type": "code",
   "execution_count": 4,
   "metadata": {},
   "outputs": [],
   "source": [
    "N = Float64\n",
    "using Test"
   ]
  },
  {
   "cell_type": "code",
   "execution_count": null,
   "metadata": {},
   "outputs": [],
   "source": [
    "# constructor from center and list of generators\n",
    "function Zonotope(center::VN, generators_list::AbstractVector{VN};\n",
    "                  remove_zero_generators::Bool=true) where {N<:Real, VN<:AbstractVector{N}}\n",
    "    n = length(center)\n",
    "    p = length(generators_list)\n",
    "    G = Matrix{N}(undef, n, p) # TODO: generalize type, see #2040\n",
    "    if remove_zero_generators\n",
    "        for (i, gi) in enumerate(generators_list)\n",
    "            iszero(gi) && continue\n",
    "            @inbounds G[:, i] = gi\n",
    "        end\n",
    "    else\n",
    "        for (i, gi) in enumerate(generators_list)\n",
    "            @inbounds G[:, i] = gi\n",
    "        end\n",
    "    end\n",
    "    return Zonotope(center, G; remove_zero_generators=false)\n",
    "end"
   ]
  },
  {
   "cell_type": "code",
   "execution_count": 5,
   "metadata": {},
   "outputs": [
    {
     "data": {
      "text/plain": [
       "\u001b[32m\u001b[1mTest Passed\u001b[22m\u001b[39m"
      ]
     },
     "execution_count": 5,
     "metadata": {},
     "output_type": "execute_result"
    }
   ],
   "source": [
    "# conversion from zonotopic sets\n",
    "Z = Zonotope(N[0, 0], hcat(N[1, 1]))\n",
    "@test Z == convert(Zonotope, Z) && Z == togrep(Z)"
   ]
  },
  {
   "cell_type": "code",
   "execution_count": 6,
   "metadata": {},
   "outputs": [
    {
     "data": {
      "text/plain": [
       "Singleton{Float64,Array{Float64,1}}([0.0, 0.0])"
      ]
     },
     "execution_count": 6,
     "metadata": {},
     "output_type": "execute_result"
    }
   ],
   "source": [
    "AZ = Singleton(N[0, 0])"
   ]
  },
  {
   "cell_type": "code",
   "execution_count": 7,
   "metadata": {},
   "outputs": [
    {
     "data": {
      "text/plain": [
       "Zonotope{Float64,Array{Float64,1},Array{Float64,2}}([0.0, 0.0], Array{Float64}(undef,2,0))"
      ]
     },
     "execution_count": 7,
     "metadata": {},
     "output_type": "execute_result"
    }
   ],
   "source": [
    "Z = Zonotope(center(AZ), genmat(AZ))"
   ]
  },
  {
   "cell_type": "code",
   "execution_count": 9,
   "metadata": {},
   "outputs": [
    {
     "data": {
      "text/plain": [
       "Zonotope{Float64,Array{Float64,1},SubArray{Float64,2,LinearAlgebra.Diagonal{Float64,Array{Float64,1}},Tuple{Base.Slice{Base.OneTo{Int64}},Array{Int64,1}},false}}([0.0, 0.0], )"
      ]
     },
     "execution_count": 9,
     "metadata": {},
     "output_type": "execute_result"
    }
   ],
   "source": [
    "Z = convert(Zonotope, AZ)"
   ]
  },
  {
   "cell_type": "code",
   "execution_count": 71,
   "metadata": {},
   "outputs": [],
   "source": [
    "using LinearAlgebra"
   ]
  },
  {
   "cell_type": "code",
   "execution_count": 89,
   "metadata": {},
   "outputs": [
    {
     "data": {
      "text/plain": [
       "Zonotope{Float64,Array{Float64,1},Diagonal{Float64,Array{Float64,1}}}([0.0, 0.0], [0.0 0.0; 0.0 0.0])"
      ]
     },
     "execution_count": 89,
     "metadata": {},
     "output_type": "execute_result"
    }
   ],
   "source": [
    "Zonotope(center(AZ), Diagonal(radius_hyperrectangle(AZ)), remove_zero_generators=false)"
   ]
  },
  {
   "cell_type": "code",
   "execution_count": 91,
   "metadata": {},
   "outputs": [
    {
     "data": {
      "text/plain": [
       "Zonotope{Float64,Array{Float64,1},Diagonal{Float64,Array{Float64,1}}}([0.0, 0.0], )"
      ]
     },
     "execution_count": 91,
     "metadata": {},
     "output_type": "execute_result"
    }
   ],
   "source": [
    "z = Zonotope(center(AZ), Diagonal(radius_hyperrectangle(AZ)), remove_zero_generators=true)"
   ]
  },
  {
   "cell_type": "code",
   "execution_count": 11,
   "metadata": {},
   "outputs": [
    {
     "data": {
      "text/plain": [
       "(2, 0)"
      ]
     },
     "execution_count": 11,
     "metadata": {},
     "output_type": "execute_result"
    }
   ],
   "source": [
    "size(Z.generators)"
   ]
  },
  {
   "cell_type": "code",
   "execution_count": 26,
   "metadata": {},
   "outputs": [
    {
     "data": {
      "text/html": [
       "linear_map(M::<b>AbstractArray{N,2}</b>, Z::<b>AbstractZonotope{N}</b>)<i> where N<:Real</i> in LazySets at <a href=\"https://github.com/JuliaReach/LazySets.jl/tree/3f6be551694025a50e97d0f8414c41dd5af373d7//src/Interfaces/AbstractZonotope.jl#L339\" target=\"_blank\">/home/mforets/.julia/dev/LazySets/src/Interfaces/AbstractZonotope.jl:339</a>"
      ],
      "text/plain": [
       "linear_map(M::AbstractArray{N,2}, Z::AbstractZonotope{N}) where N<:Real in LazySets at /home/mforets/.julia/dev/LazySets/src/Interfaces/AbstractZonotope.jl:339"
      ]
     },
     "execution_count": 26,
     "metadata": {},
     "output_type": "execute_result"
    }
   ],
   "source": [
    "@which linear_map(rand(2, 2), rand(Zonotope))"
   ]
  },
  {
   "cell_type": "code",
   "execution_count": 95,
   "metadata": {},
   "outputs": [
    {
     "data": {
      "text/plain": [
       "5×5 Diagonal{Float64,Array{Float64,1}}:\n",
       " 1.0   ⋅    ⋅    ⋅    ⋅ \n",
       "  ⋅   0.0   ⋅    ⋅    ⋅ \n",
       "  ⋅    ⋅   2.0   ⋅    ⋅ \n",
       "  ⋅    ⋅    ⋅   0.0   ⋅ \n",
       "  ⋅    ⋅    ⋅    ⋅   5.0"
      ]
     },
     "execution_count": 95,
     "metadata": {},
     "output_type": "execute_result"
    }
   ],
   "source": [
    "D = Diagonal([1.0, 0.0, 2.0, 0.0, 5.0])"
   ]
  },
  {
   "cell_type": "code",
   "execution_count": 88,
   "metadata": {},
   "outputs": [
    {
     "data": {
      "text/plain": [
       "3×3 Diagonal{Float64,Array{Float64,1}}:\n",
       " 1.0   ⋅    ⋅ \n",
       "  ⋅   2.0   ⋅ \n",
       "  ⋅    ⋅   5.0"
      ]
     },
     "execution_count": 88,
     "metadata": {},
     "output_type": "execute_result"
    }
   ],
   "source": [
    "Diagonal(filter(!iszero, diag(D)))"
   ]
  },
  {
   "cell_type": "code",
   "execution_count": 57,
   "metadata": {},
   "outputs": [
    {
     "data": {
      "text/plain": [
       "linear_map! (generic function with 1 method)"
      ]
     },
     "execution_count": 57,
     "metadata": {},
     "output_type": "execute_result"
    }
   ],
   "source": [
    "function linear_map!(M, Z)\n",
    "    c = Z.center\n",
    "    G = Z.generators\n",
    "    G .= G .* Z.generators\n",
    "    c .= M * c\n",
    "    return Z\n",
    "end"
   ]
  },
  {
   "cell_type": "code",
   "execution_count": 58,
   "metadata": {},
   "outputs": [
    {
     "data": {
      "text/plain": [
       "Zonotope{Float64,Array{Float64,1},Array{Float64,2}}([1.8432068642298516, -0.2960448163188926], [-1.283912338361676 1.3225614346747865 -1.3740480994924142; 0.4147715750289514 0.679237803471378 -1.7122468464832161])"
      ]
     },
     "execution_count": 58,
     "metadata": {},
     "output_type": "execute_result"
    }
   ],
   "source": [
    "M = rand(2, 2)\n",
    "\n",
    "Z = rand(Zonotope, dim=2)"
   ]
  },
  {
   "cell_type": "code",
   "execution_count": 59,
   "metadata": {},
   "outputs": [
    {
     "data": {
      "text/plain": [
       "Zonotope{Float64,Array{Float64,1},Array{Float64,2}}([1.034779572209615, 0.17748935844720737], [1.6484308925973468 1.7491687484890295 1.8880081797187156; 0.17203545945199705 0.4613639936646223 2.9317892632917184])"
      ]
     },
     "execution_count": 59,
     "metadata": {},
     "output_type": "execute_result"
    }
   ],
   "source": [
    "linear_map!(M, Z)"
   ]
  },
  {
   "cell_type": "code",
   "execution_count": 60,
   "metadata": {},
   "outputs": [
    {
     "data": {
      "text/plain": [
       "Zonotope{Float64,Array{Float64,1},Array{Float64,2}}([1.034779572209615, 0.17748935844720737], [1.6484308925973468 1.7491687484890295 1.8880081797187156; 0.17203545945199705 0.4613639936646223 2.9317892632917184])"
      ]
     },
     "execution_count": 60,
     "metadata": {},
     "output_type": "execute_result"
    }
   ],
   "source": [
    "Z"
   ]
  },
  {
   "cell_type": "code",
   "execution_count": 61,
   "metadata": {},
   "outputs": [
    {
     "name": "stdout",
     "output_type": "stream",
     "text": [
      "  352.144 ns (8 allocations: 672 bytes)\n"
     ]
    },
    {
     "data": {
      "text/plain": [
       "Zonotope{Float64,Array{Float64,1},Array{Float64,2}}([0.6800617840512672, 0.23436819435034925], [1.0514227753233543 1.1960988689130492 1.9930518806817368; 0.32995673510992274 0.45941567116059934 1.4499266254450625])"
      ]
     },
     "execution_count": 61,
     "metadata": {},
     "output_type": "execute_result"
    }
   ],
   "source": [
    "@btime linear_map($M, $Z)"
   ]
  },
  {
   "cell_type": "code",
   "execution_count": 62,
   "metadata": {},
   "outputs": [
    {
     "name": "stdout",
     "output_type": "stream",
     "text": [
      "  178.879 ns (1 allocation: 96 bytes)\n"
     ]
    },
    {
     "data": {
      "text/plain": [
       "Zonotope{Float64,Array{Float64,1},Array{Float64,2}}([5.0e-324, 0.0], [Inf Inf Inf; 0.0 0.0 Inf])"
      ]
     },
     "execution_count": 62,
     "metadata": {},
     "output_type": "execute_result"
    }
   ],
   "source": []
  },
  {
   "cell_type": "code",
   "execution_count": 18,
   "metadata": {},
   "outputs": [
    {
     "ename": "MethodError",
     "evalue": "MethodError: Cannot `convert` an object of type SubArray{Float64,2,LinearAlgebra.Diagonal{Float64,Array{Float64,1}},Tuple{Base.Slice{Base.OneTo{Int64}},Array{Int64,1}},false} to an object of type LinearAlgebra.Diagonal{Float64,Array{Float64,1}}\nClosest candidates are:\n  convert(::Type{#s627} where #s627<:LinearAlgebra.Diagonal, !Matched::Union{LinearAlgebra.AbstractTriangular, LinearAlgebra.Bidiagonal, LinearAlgebra.Diagonal, LinearAlgebra.SymTridiagonal, LinearAlgebra.Tridiagonal}) at /buildworker/worker/package_linux64/build/usr/share/julia/stdlib/v1.3/LinearAlgebra/src/special.jl:69\n  convert(::Type{T}, !Matched::T) where T<:AbstractArray at abstractarray.jl:14\n  convert(::Type{T}, !Matched::LinearAlgebra.Factorization) where T<:AbstractArray at /buildworker/worker/package_linux64/build/usr/share/julia/stdlib/v1.3/LinearAlgebra/src/factorization.jl:53\n  ...",
     "output_type": "error",
     "traceback": [
      "MethodError: Cannot `convert` an object of type SubArray{Float64,2,LinearAlgebra.Diagonal{Float64,Array{Float64,1}},Tuple{Base.Slice{Base.OneTo{Int64}},Array{Int64,1}},false} to an object of type LinearAlgebra.Diagonal{Float64,Array{Float64,1}}\nClosest candidates are:\n  convert(::Type{#s627} where #s627<:LinearAlgebra.Diagonal, !Matched::Union{LinearAlgebra.AbstractTriangular, LinearAlgebra.Bidiagonal, LinearAlgebra.Diagonal, LinearAlgebra.SymTridiagonal, LinearAlgebra.Tridiagonal}) at /buildworker/worker/package_linux64/build/usr/share/julia/stdlib/v1.3/LinearAlgebra/src/special.jl:69\n  convert(::Type{T}, !Matched::T) where T<:AbstractArray at abstractarray.jl:14\n  convert(::Type{T}, !Matched::LinearAlgebra.Factorization) where T<:AbstractArray at /buildworker/worker/package_linux64/build/usr/share/julia/stdlib/v1.3/LinearAlgebra/src/factorization.jl:53\n  ...",
      "",
      "Stacktrace:",
      " [1] (::LazySets.var\"#Zonotope#170#171\")(::Bool, ::Type{Zonotope}, ::Array{Float64,1}, ::LinearAlgebra.Diagonal{Float64,Array{Float64,1}}) at /home/mforets/.julia/dev/LazySets/src/Sets/Zonotope.jl:102",
      " [2] convert at /home/mforets/.julia/dev/LazySets/src/Sets/Zonotope.jl:96 [inlined]",
      " [3] togrep(::Singleton{Float64,Array{Float64,1}}) at /home/mforets/.julia/dev/LazySets/src/Interfaces/AbstractZonotope.jl:171",
      " [4] top-level scope at In[18]:1"
     ]
    }
   ],
   "source": [
    "convert(Zonotope, AZ) == togrep(AZ) == Z"
   ]
  },
  {
   "cell_type": "code",
   "execution_count": 9,
   "metadata": {},
   "outputs": [
    {
     "data": {
      "text/plain": [
       "Zonotope{Float64,Array{Float64,1},Array{Float64,2}}([0.0, 0.0], [-1.0; -1.0])"
      ]
     },
     "execution_count": 9,
     "metadata": {},
     "output_type": "execute_result"
    }
   ],
   "source": [
    "togrep(AZ)"
   ]
  },
  {
   "cell_type": "code",
   "execution_count": 3,
   "metadata": {},
   "outputs": [
    {
     "name": "stdout",
     "output_type": "stream",
     "text": [
      "\u001b[91m\u001b[1mError During Test\u001b[22m\u001b[39m at \u001b[39m\u001b[1mIn[3]:8\u001b[22m\n",
      "  Test threw exception\n",
      "  Expression: convert(Zonotope, AZ) == togrep(AZ) == Z\n",
      "  MethodError: Cannot `convert` an object of type SubArray{Float64,2,LinearAlgebra.Diagonal{Float64,Array{Float64,1}},Tuple{Base.Slice{Base.OneTo{Int64}},Array{Int64,1}},false} to an object of type LinearAlgebra.Diagonal{Float64,Array{Float64,1}}\n",
      "  Closest candidates are:\n",
      "    convert(::Type{#s627} where #s627<:LinearAlgebra.Diagonal, !Matched::Union{LinearAlgebra.AbstractTriangular, LinearAlgebra.Bidiagonal, LinearAlgebra.Diagonal, LinearAlgebra.SymTridiagonal, LinearAlgebra.Tridiagonal}) at /buildworker/worker/package_linux64/build/usr/share/julia/stdlib/v1.3/LinearAlgebra/src/special.jl:69\n",
      "    convert(::Type{T}, !Matched::T) where T<:AbstractArray at abstractarray.jl:14\n",
      "    convert(::Type{T}, !Matched::LinearAlgebra.Factorization) where T<:AbstractArray at /buildworker/worker/package_linux64/build/usr/share/julia/stdlib/v1.3/LinearAlgebra/src/factorization.jl:53\n",
      "    ...\n",
      "  Stacktrace:\n",
      "   [1] (::LazySets.var\"#Zonotope#170#171\")(::Bool, ::Type{Zonotope}, ::Array{Float64,1}, ::LinearAlgebra.Diagonal{Float64,Array{Float64,1}}) at /home/mforets/.julia/dev/LazySets/src/Sets/Zonotope.jl:102\n",
      "   [2] Zonotope at /home/mforets/.julia/dev/LazySets/src/Sets/Zonotope.jl:96 [inlined]\n",
      "   [3] convert(::Type{Zonotope}, ::Singleton{Float64,Array{Float64,1}}) at /home/mforets/.julia/dev/LazySets/src/convert.jl:259\n",
      "   [4] top-level scope at ./In[3]:8\n",
      "   [5] eval at ./boot.jl:330 [inlined]\n",
      "   [6] softscope_include_string(::Module, ::String, ::String) at /home/mforets/.julia/packages/SoftGlobalScope/cSbw5/src/SoftGlobalScope.jl:218\n",
      "   [7] execute_request(::ZMQ.Socket, ::IJulia.Msg) at /home/mforets/.julia/packages/IJulia/F1GUo/src/execute_request.jl:67\n",
      "   [8] #invokelatest#1 at ./essentials.jl:709 [inlined]\n",
      "   [9] invokelatest at ./essentials.jl:708 [inlined]\n",
      "   [10] eventloop(::ZMQ.Socket) at /home/mforets/.julia/packages/IJulia/F1GUo/src/eventloop.jl:8\n",
      "   [11] (::IJulia.var\"#15#18\")() at ./task.jl:333\n",
      "  \n"
     ]
    },
    {
     "ename": "Test.FallbackTestSetException",
     "evalue": "There was an error during testing",
     "output_type": "error",
     "traceback": [
      "There was an error during testing",
      "",
      "Stacktrace:",
      " [1] record(::Test.FallbackTestSet, ::Test.Error) at /buildworker/worker/package_linux64/build/usr/share/julia/stdlib/v1.3/Test/src/Test.jl:730",
      " [2] do_test(::Test.Threw, ::Expr) at /buildworker/worker/package_linux64/build/usr/share/julia/stdlib/v1.3/Test/src/Test.jl:519",
      " [3] top-level scope at ./In[3]:8"
     ]
    }
   ],
   "source": [
    ")\n",
    "for AZ in [,\n",
    "           ,\n",
    "           ]\n",
    "    Z = Zonotope(center(AZ), genmat(AZ))\n",
    "    @test convert(Zonotope, AZ) == togrep(AZ) == Z\n",
    "end"
   ]
  },
  {
   "cell_type": "code",
   "execution_count": 12,
   "metadata": {},
   "outputs": [
    {
     "data": {
      "text/plain": [
       "Zonotope{Float64,Array{Float64,1},Array{Float64,2}}([-0.5945119887867256], [0.5073766335601305])"
      ]
     },
     "execution_count": 12,
     "metadata": {},
     "output_type": "execute_result"
    }
   ],
   "source": [
    "Z = rand(Zonotope, dim=1)"
   ]
  },
  {
   "cell_type": "code",
   "execution_count": 14,
   "metadata": {},
   "outputs": [
    {
     "ename": "MethodError",
     "evalue": "MethodError: Cannot `convert` an object of type CartesianProduct{Float64,Zonotope{Float64,Array{Float64,1},Array{Float64,2}},Zonotope{Float64,Array{Float64,1},Array{Float64,2}}} to an object of type Zonotope\nClosest candidates are:\n  convert(::Type{Zonotope}, !Matched::Zonotope) at /home/mforets/.julia/dev/LazySets/src/convert.jl:8\n  convert(::Type{Zonotope}, !Matched::AbstractHyperrectangle) at /home/mforets/.julia/dev/LazySets/src/convert.jl:259\n  convert(::Type{Zonotope}, !Matched::AbstractZonotope) at /home/mforets/.julia/dev/LazySets/src/convert.jl:277\n  ...",
     "output_type": "error",
     "traceback": [
      "MethodError: Cannot `convert` an object of type CartesianProduct{Float64,Zonotope{Float64,Array{Float64,1},Array{Float64,2}},Zonotope{Float64,Array{Float64,1},Array{Float64,2}}} to an object of type Zonotope\nClosest candidates are:\n  convert(::Type{Zonotope}, !Matched::Zonotope) at /home/mforets/.julia/dev/LazySets/src/convert.jl:8\n  convert(::Type{Zonotope}, !Matched::AbstractHyperrectangle) at /home/mforets/.julia/dev/LazySets/src/convert.jl:259\n  convert(::Type{Zonotope}, !Matched::AbstractZonotope) at /home/mforets/.julia/dev/LazySets/src/convert.jl:277\n  ...",
      "",
      "Stacktrace:",
      " [1] top-level scope at In[14]:1"
     ]
    }
   ],
   "source": [
    "convert(Zonotope, CartesianProduct(Z, Z))"
   ]
  },
  {
   "cell_type": "markdown",
   "metadata": {},
   "source": [
    "-----"
   ]
  },
  {
   "cell_type": "markdown",
   "metadata": {},
   "source": [
    "## Contextual dispatch for LazySets"
   ]
  },
  {
   "cell_type": "code",
   "execution_count": 1,
   "metadata": {},
   "outputs": [],
   "source": [
    "using Revise, LazySets, Cassette"
   ]
  },
  {
   "cell_type": "code",
   "execution_count": 2,
   "metadata": {},
   "outputs": [],
   "source": [
    "using IntervalArithmetic"
   ]
  },
  {
   "cell_type": "code",
   "execution_count": 5,
   "metadata": {},
   "outputs": [
    {
     "data": {
      "text/plain": [
       "fast_powers (generic function with 1 method)"
      ]
     },
     "execution_count": 5,
     "metadata": {},
     "output_type": "execute_result"
    }
   ],
   "source": [
    "Cassette.@context FastPowersCtx\n",
    "const fast_powers_ctx = Cassette.disablehooks(FastPowersCtx())\n",
    "\n",
    "Cassette.overdub(::FastPowersCtx, ::typeof(^), a, b) = pow(a,b)\n",
    "\n",
    "fast_powers(f) = Cassette.overdub(fast_powers_ctx, f)"
   ]
  },
  {
   "cell_type": "code",
   "execution_count": null,
   "metadata": {},
   "outputs": [],
   "source": [
    "x = 1.1..2.2\n",
    "\n",
    "fast_powers() do\n",
    "    x^10\n",
    "end"
   ]
  },
  {
   "cell_type": "code",
   "execution_count": 3,
   "metadata": {},
   "outputs": [
    {
     "data": {
      "text/plain": [
       "concrete_minkowski_sum (generic function with 1 method)"
      ]
     },
     "execution_count": 3,
     "metadata": {},
     "output_type": "execute_result"
    }
   ],
   "source": [
    "Cassette.@context ConcreteMinkowskiSumCtx\n",
    "const concrete_minkowski_sum_ctx = Cassette.disablehooks(ConcreteMinkowskiSumCtx())\n",
    "\n",
    "Cassette.overdub(::ConcreteMinkowskiSumCtx, ::typeof(+), X::LazySet, Y::LazySet) = LazySets.minkowski_sum(X, Y)\n",
    "\n",
    "concrete_minkowski_sum(f) = Cassette.overdub(concrete_minkowski_sum_ctx, f)"
   ]
  },
  {
   "cell_type": "code",
   "execution_count": 4,
   "metadata": {},
   "outputs": [
    {
     "data": {
      "text/plain": [
       "VPolygon{Float64,Array{Float64,1}}(Array{Float64,1}[[-1.2691334565275214, -0.48447000232930226], [0.510488725170398, -1.3091771831391357], [2.8987858485690015, -0.07897111469423757], [0.26669087799980895, 0.00974954916428128], [-1.2503489390753801, -0.22090437985566158]])"
      ]
     },
     "execution_count": 4,
     "metadata": {},
     "output_type": "execute_result"
    }
   ],
   "source": [
    "rand(VPolygon)"
   ]
  },
  {
   "cell_type": "code",
   "execution_count": 5,
   "metadata": {},
   "outputs": [
    {
     "data": {
      "text/plain": [
       "(VPolygon{Float64,Array{Float64,1}}(Array{Float64,1}[[-2.891440369388445, 1.4974603483262503], [-2.7543914518160597, 1.0140102595539866], [-2.5160881915505673, 0.4341350873182388], [-1.8326871410944174, 0.2791562864595338], [-1.079324190333, 0.10959707549124292], [-0.5694666832207753, 0.02057642325639991], [0.9206192553020137, -0.18229943741611468], [0.690459131394798, 2.615053718175048], [-2.7090118148649993, 1.78797518892204]]), VPolygon{Float64,Array{Float64,1}}(Array{Float64,1}[[-1.189781063361007, 0.3256034667025641], [-1.1096833678107179, -0.10857070931184043], [-0.31982477529339226, -0.1128606495006116], [1.2135756215119895, -0.07501254151744109], [1.976518461380786, 0.5415029398039025], [2.6540623347530286, 1.3375271945122025], [2.331710899144571, 1.832837203302411], [1.3363698904893284, 2.455481645789108], [0.5346946762643379, 2.4834604152834245], [-1.0131794158530185, 1.0799080389885327]]))"
      ]
     },
     "execution_count": 5,
     "metadata": {},
     "output_type": "execute_result"
    }
   ],
   "source": [
    "X, Y = rand(VPolygon), rand(VPolygon)"
   ]
  },
  {
   "cell_type": "code",
   "execution_count": 8,
   "metadata": {},
   "outputs": [
    {
     "data": {
      "text/plain": [
       "VPolygon{Float64,Array{Float64,1}}(Array{Float64,1}[[-4.387680426840783, 2.877203090673391], [-4.283301797865001, 1.5507669112713376], [-3.9294882548776684, 0.8879575633444368], [-2.524702191615023, -0.14636097004875492], [-1.447040692798065, -0.9102765557832327], [0.20823843174975198, -0.9152521796801377], [1.136630841164405, 0.48342955996494014], [1.645940898358691, 4.089699959892178], [1.6947413906818083, 6.17891182543696], [0.7595128744755058, 6.1592565854212875], [0.4767658258169887, 6.1454747613879785], [-1.0890240595361564, 5.984550698130458], [-1.9375600696326338, 5.818248887894724], [-2.324908858873632, 5.710810870780604], [-4.328494218525235, 3.3047586914009837]])"
      ]
     },
     "execution_count": 8,
     "metadata": {},
     "output_type": "execute_result"
    }
   ],
   "source": [
    "concrete_minkowski_sum() do\n",
    "    X, Y = rand(VPolygon), rand(VPolygon)\n",
    "    X + Y\n",
    "end"
   ]
  },
  {
   "cell_type": "code",
   "execution_count": 9,
   "metadata": {},
   "outputs": [
    {
     "data": {
      "text/plain": [
       "MinkowskiSum{Float64,VPolygon{Float64,Array{Float64,1}},VPolygon{Float64,Array{Float64,1}}}(VPolygon{Float64,Array{Float64,1}}(Array{Float64,1}[[-2.891440369388445, 1.4974603483262503], [-2.7543914518160597, 1.0140102595539866], [-2.5160881915505673, 0.4341350873182388], [-1.8326871410944174, 0.2791562864595338], [-1.079324190333, 0.10959707549124292], [-0.5694666832207753, 0.02057642325639991], [0.9206192553020137, -0.18229943741611468], [0.690459131394798, 2.615053718175048], [-2.7090118148649993, 1.78797518892204]]), VPolygon{Float64,Array{Float64,1}}(Array{Float64,1}[[-1.189781063361007, 0.3256034667025641], [-1.1096833678107179, -0.10857070931184043], [-0.31982477529339226, -0.1128606495006116], [1.2135756215119895, -0.07501254151744109], [1.976518461380786, 0.5415029398039025], [2.6540623347530286, 1.3375271945122025], [2.331710899144571, 1.832837203302411], [1.3363698904893284, 2.455481645789108], [0.5346946762643379, 2.4834604152834245], [-1.0131794158530185, 1.0799080389885327]]))"
      ]
     },
     "execution_count": 9,
     "metadata": {},
     "output_type": "execute_result"
    }
   ],
   "source": [
    "X + Y"
   ]
  },
  {
   "cell_type": "markdown",
   "metadata": {},
   "source": [
    "## Faster concrete SIH for hyperrectangular sets"
   ]
  },
  {
   "cell_type": "code",
   "execution_count": 1,
   "metadata": {},
   "outputs": [
    {
     "name": "stderr",
     "output_type": "stream",
     "text": [
      "┌ Info: Precompiling LazySets [b4f0291d-fe17-52bc-9479-3d1a343d9043]\n",
      "└ @ Base loading.jl:1273\n"
     ]
    }
   ],
   "source": [
    "using Revise, LazySets, BenchmarkTools"
   ]
  },
  {
   "cell_type": "code",
   "execution_count": 16,
   "metadata": {},
   "outputs": [
    {
     "data": {
      "text/plain": [
       "Hr (generic function with 1 method)"
      ]
     },
     "execution_count": 16,
     "metadata": {},
     "output_type": "execute_result"
    }
   ],
   "source": [
    "Hr(i) = rand(Hyperrectangle, dim=i)"
   ]
  },
  {
   "cell_type": "code",
   "execution_count": 6,
   "metadata": {},
   "outputs": [
    {
     "name": "stdout",
     "output_type": "stream",
     "text": [
      "  158.812 ns (6 allocations: 512 bytes)\n"
     ]
    },
    {
     "data": {
      "text/plain": [
       "Hyperrectangle{Float64,Array{Float64,1},Array{Float64,1}}([0.0, 0.0], [0.72019121237743, 1.7018467228811314])"
      ]
     },
     "execution_count": 6,
     "metadata": {},
     "output_type": "execute_result"
    }
   ],
   "source": [
    "H2 = \n",
    "@btime symmetric_interval_hull($H[2])"
   ]
  },
  {
   "cell_type": "code",
   "execution_count": 7,
   "metadata": {},
   "outputs": [
    {
     "data": {
      "text/plain": [
       "_box_approximation_symmetric_2D (generic function with 1 method)"
      ]
     },
     "execution_count": 7,
     "metadata": {},
     "output_type": "execute_result"
    }
   ],
   "source": [
    "# 2D hyperrectangle specialization\n",
    "function _box_approximation_symmetric_2D(H::Hyperrectangle{N}) where {N}\n",
    "    @inbounds begin\n",
    "        # the hyperrectangle is seen as the cartesian product [v₁⁻, v₁⁺] x [v₂⁻, v₂⁺]\n",
    "        v₁⁺ = abs(H.center[1] + H.radius[1])\n",
    "        v₁⁻ = abs(H.center[1] - H.radius[1])\n",
    "        v₂⁺ = abs(H.center[2] + H.radius[2])\n",
    "        v₂⁻ = abs(H.center[2] - H.radius[2])\n",
    "    end\n",
    "    r₁ = max(v₁⁺, v₁⁻)\n",
    "    r₂ = max(v₂⁺, v₂⁻)\n",
    "    return Hyperrectangle(zeros(N, 2), [r₁, r₂])\n",
    "end"
   ]
  },
  {
   "cell_type": "code",
   "execution_count": 10,
   "metadata": {},
   "outputs": [
    {
     "data": {
      "text/plain": [
       "_box_approximation_symmetric (generic function with 1 method)"
      ]
     },
     "execution_count": 10,
     "metadata": {},
     "output_type": "execute_result"
    }
   ],
   "source": [
    "function _box_approximation_symmetric(H::Hyperrectangle{N}) where {N<:Real}\n",
    "    n = dim(H)\n",
    "    r = Vector{N}(undef, n)\n",
    "    @inbounds for i in 1:n\n",
    "        v⁺ = abs(H.center[i] + H.radius[i])\n",
    "        v⁻ = abs(H.center[i] - H.radius[i])\n",
    "        r[i] = max(v⁺, v⁻)\n",
    "    end\n",
    "    return Hyperrectangle(zeros(N, n), r)\n",
    "end"
   ]
  },
  {
   "cell_type": "code",
   "execution_count": 62,
   "metadata": {},
   "outputs": [
    {
     "name": "stdout",
     "output_type": "stream",
     "text": [
      "  160.102 ns (6 allocations: 512 bytes)\n",
      "  58.570 ns (3 allocations: 224 bytes)\n",
      "  61.320 ns (3 allocations: 224 bytes)\n",
      "  59.018 ns (3 allocations: 224 bytes)\n"
     ]
    },
    {
     "data": {
      "text/plain": [
       "Hyperrectangle{Float64,Array{Float64,1},Array{Float64,1}}([0.0, 0.0], [0.2364712197239693, 1.8782676583558344])"
      ]
     },
     "execution_count": 62,
     "metadata": {},
     "output_type": "execute_result"
    }
   ],
   "source": [
    "H2 = Hr(2)\n",
    "@btime symmetric_interval_hull($H2)\n",
    "@btime _box_approximation_symmetric_2D($H2)\n",
    "@btime _box_approximation_symmetric($H2)\n",
    "@btime _box_approximation_symmetric_opt($H2)"
   ]
  },
  {
   "cell_type": "code",
   "execution_count": 63,
   "metadata": {},
   "outputs": [
    {
     "name": "stdout",
     "output_type": "stream",
     "text": [
      "  177.038 ns (6 allocations: 592 bytes)\n",
      "  64.369 ns (3 allocations: 256 bytes)\n",
      "  60.445 ns (3 allocations: 256 bytes)\n"
     ]
    },
    {
     "data": {
      "text/plain": [
       "Hyperrectangle{Float64,Array{Float64,1},Array{Float64,1}}([0.0, 0.0, 0.0], [2.3250612382360627, 1.292439198398232, 0.8485957973177538])"
      ]
     },
     "execution_count": 63,
     "metadata": {},
     "output_type": "execute_result"
    }
   ],
   "source": [
    "H3 = Hr(3)\n",
    "@btime symmetric_interval_hull($H3)\n",
    "@btime _box_approximation_symmetric($H3)\n",
    "@btime _box_approximation_symmetric_opt($H3)"
   ]
  },
  {
   "cell_type": "code",
   "execution_count": 64,
   "metadata": {},
   "outputs": [
    {
     "name": "stdout",
     "output_type": "stream",
     "text": [
      "  361.190 ns (6 allocations: 832 bytes)\n",
      "  74.784 ns (3 allocations: 352 bytes)\n",
      "  68.651 ns (3 allocations: 352 bytes)\n"
     ]
    },
    {
     "data": {
      "text/plain": [
       "Hyperrectangle{Float64,Array{Float64,1},Array{Float64,1}}([0.0, 0.0, 0.0, 0.0, 0.0, 0.0, 0.0, 0.0, 0.0, 0.0], [3.255075464243002, 0.8029571415635, 2.0394287791695196, 1.6496181132295298, 1.7924275314952194, 1.0931244296656248, 0.4199639544549816, 1.6561390010081418, 3.870178311676268, 2.599469197022899])"
      ]
     },
     "execution_count": 64,
     "metadata": {},
     "output_type": "execute_result"
    }
   ],
   "source": [
    "H10 = Hr(10)\n",
    "@btime symmetric_interval_hull($H10)\n",
    "@btime _box_approximation_symmetric($H10)\n",
    "@btime _box_approximation_symmetric_opt($H10)"
   ]
  },
  {
   "cell_type": "code",
   "execution_count": 65,
   "metadata": {},
   "outputs": [
    {
     "name": "stdout",
     "output_type": "stream",
     "text": [
      "  1.258 μs (6 allocations: 1.20 KiB)\n",
      "  86.183 ns (3 allocations: 512 bytes)\n",
      "  80.939 ns (3 allocations: 512 bytes)\n"
     ]
    },
    {
     "data": {
      "text/plain": [
       "Hyperrectangle{Float64,Array{Float64,1},Array{Float64,1}}([0.0, 0.0, 0.0, 0.0, 0.0, 0.0, 0.0, 0.0, 0.0, 0.0, 0.0, 0.0, 0.0, 0.0, 0.0, 0.0, 0.0, 0.0, 0.0, 0.0], [1.738511945940129, 1.870078985039739, 0.2953967823033481, 2.8286643289711835, 2.1331375693352777, 0.9331694169289881, 2.3515487921631104, 0.8417973553082323, 1.308921184871655, 2.570528871173411, 1.0770894986438315, 1.276363009372954, 1.2527656605159057, 1.8737706669481047, 1.8052063872937967, 0.5011182354965008, 1.584200191977605, 0.8919888736305867, 0.6390723342286688, 2.107198784222291])"
      ]
     },
     "execution_count": 65,
     "metadata": {},
     "output_type": "execute_result"
    }
   ],
   "source": [
    "H20 = Hr(20)\n",
    "@btime symmetric_interval_hull($H20)\n",
    "@btime _box_approximation_symmetric($H20)\n",
    "@btime _box_approximation_symmetric_opt($H20)"
   ]
  },
  {
   "cell_type": "code",
   "execution_count": 66,
   "metadata": {},
   "outputs": [
    {
     "name": "stdout",
     "output_type": "stream",
     "text": [
      "  5.850 μs (6 allocations: 2.45 KiB)\n",
      "  125.612 ns (3 allocations: 1.00 KiB)\n",
      "  105.455 ns (3 allocations: 1.00 KiB)\n"
     ]
    },
    {
     "data": {
      "text/plain": [
       "Hyperrectangle{Float64,Array{Float64,1},Array{Float64,1}}([0.0, 0.0, 0.0, 0.0, 0.0, 0.0, 0.0, 0.0, 0.0, 0.0  …  0.0, 0.0, 0.0, 0.0, 0.0, 0.0, 0.0, 0.0, 0.0, 0.0], [1.6644341581566633, 0.9802657433825532, 0.7155431064413443, 3.0201874798683654, 0.7553461817654328, 1.4327753723997776, 2.368518664301826, 1.85184137958683, 1.6798082684625029, 3.2194671224181954  …  1.133534142987648, 0.9510429945098636, 0.601728718851374, 1.7326886650226352, 0.6991854456349893, 0.43172557483792623, 1.2510793513923935, 0.6607820782224891, 0.8303417763757892, 2.186855308660239])"
      ]
     },
     "execution_count": 66,
     "metadata": {},
     "output_type": "execute_result"
    }
   ],
   "source": [
    "H50 = Hr(50)\n",
    "@btime symmetric_interval_hull($H50)\n",
    "@btime _box_approximation_symmetric($H50)\n",
    "@btime _box_approximation_symmetric_opt($H50)"
   ]
  },
  {
   "cell_type": "code",
   "execution_count": 57,
   "metadata": {},
   "outputs": [
    {
     "data": {
      "text/plain": [
       "0.20833333333333334"
      ]
     },
     "execution_count": 57,
     "metadata": {},
     "output_type": "execute_result"
    }
   ],
   "source": [
    "(120 - 95) / 120"
   ]
  },
  {
   "cell_type": "code",
   "execution_count": 67,
   "metadata": {},
   "outputs": [
    {
     "name": "stdout",
     "output_type": "stream",
     "text": [
      "  18.546 μs (6 allocations: 4.41 KiB)\n",
      "  199.607 ns (3 allocations: 1.78 KiB)\n",
      "  158.845 ns (3 allocations: 1.78 KiB)\n"
     ]
    },
    {
     "data": {
      "text/plain": [
       "Hyperrectangle{Float64,Array{Float64,1},Array{Float64,1}}([0.0, 0.0, 0.0, 0.0, 0.0, 0.0, 0.0, 0.0, 0.0, 0.0  …  0.0, 0.0, 0.0, 0.0, 0.0, 0.0, 0.0, 0.0, 0.0, 0.0], [0.881977556914849, 1.955366396009818, 2.8105443151352514, 2.0553168404892492, 1.7345672454230254, 1.5045051820213835, 1.9588190733711932, 2.3674037481792203, 0.6298959225709992, 0.4576553980756949  …  1.1594449120527675, 0.8287620890489426, 0.48158772672307004, 3.444171740249841, 1.6879815825979203, 3.1289944955452915, 1.7187581397638683, 0.8743181086681919, 1.8029836794861513, 0.5432977099788707])"
      ]
     },
     "execution_count": 67,
     "metadata": {},
     "output_type": "execute_result"
    }
   ],
   "source": [
    "H100 = Hr(100)\n",
    "@btime symmetric_interval_hull($H100)\n",
    "@btime _box_approximation_symmetric($H100)\n",
    "@btime _box_approximation_symmetric_opt($H100)"
   ]
  },
  {
   "cell_type": "code",
   "execution_count": 68,
   "metadata": {},
   "outputs": [
    {
     "name": "stdout",
     "output_type": "stream",
     "text": [
      "  373.383 μs (6 allocations: 20.34 KiB)\n",
      "  985.300 ns (3 allocations: 8.16 KiB)\n",
      "  870.297 ns (3 allocations: 8.16 KiB)\n"
     ]
    },
    {
     "data": {
      "text/plain": [
       "Hyperrectangle{Float64,Array{Float64,1},Array{Float64,1}}([0.0, 0.0, 0.0, 0.0, 0.0, 0.0, 0.0, 0.0, 0.0, 0.0  …  0.0, 0.0, 0.0, 0.0, 0.0, 0.0, 0.0, 0.0, 0.0, 0.0], [0.680811913485442, 1.5462037343739223, 3.5131368472475417, 3.298206684911397, 1.057794288288392, 0.8866684488213761, 2.312005698628509, 1.5255134778796533, 1.044273091091599, 2.2502784036584056  …  0.23712697005438108, 1.290823260390312, 1.5113645812452494, 1.7222677788916143, 1.9112174649547895, 1.19421816259284, 0.5604751227944353, 0.9750277223289734, 1.6419330996283812, 0.7453368821025871])"
      ]
     },
     "execution_count": 68,
     "metadata": {},
     "output_type": "execute_result"
    }
   ],
   "source": [
    "H500 = Hr(500)\n",
    "@btime symmetric_interval_hull($H500)\n",
    "@btime _box_approximation_symmetric($H500)\n",
    "@btime _box_approximation_symmetric_opt($H500)"
   ]
  },
  {
   "cell_type": "code",
   "execution_count": 59,
   "metadata": {},
   "outputs": [
    {
     "data": {
      "text/plain": [
       "0.21621621621621623"
      ]
     },
     "execution_count": 59,
     "metadata": {},
     "output_type": "execute_result"
    }
   ],
   "source": [
    "(185 - 145) / 185"
   ]
  },
  {
   "cell_type": "code",
   "execution_count": 25,
   "metadata": {},
   "outputs": [
    {
     "data": {
      "text/plain": [
       "true"
      ]
     },
     "execution_count": 25,
     "metadata": {},
     "output_type": "execute_result"
    }
   ],
   "source": [
    "symmetric_interval_hull(H100) == _box_approximation_symmetric(H100)"
   ]
  },
  {
   "cell_type": "code",
   "execution_count": null,
   "metadata": {},
   "outputs": [],
   "source": []
  },
  {
   "cell_type": "markdown",
   "metadata": {},
   "source": [
    "can we make this faster doing the math..?"
   ]
  },
  {
   "cell_type": "code",
   "execution_count": 60,
   "metadata": {},
   "outputs": [
    {
     "data": {
      "text/plain": [
       "_box_approximation_symmetric_opt (generic function with 1 method)"
      ]
     },
     "execution_count": 60,
     "metadata": {},
     "output_type": "execute_result"
    }
   ],
   "source": [
    "@inline function _absmax_interval(c::N, r::N) where {N}\n",
    "    if c >= zero(N)\n",
    "        m = c + r\n",
    "    else\n",
    "        m = -c + r\n",
    "    end\n",
    "    return m\n",
    "end\n",
    "\n",
    "function _box_approximation_symmetric_2D_opt(H::Hyperrectangle{N}) where {N}\n",
    "    r₁ = _absmax_interval(H.center[1], H.radius[1])\n",
    "    r₂ = _absmax_interval(H.center[2], H.radius[2])\n",
    "    return Hyperrectangle(zeros(N, 2), [r₁, r₂])\n",
    "end\n",
    "\n",
    "function _box_approximation_symmetric_opt(H::Hyperrectangle{N}) where {N<:Real}\n",
    "    n = dim(H)\n",
    "    r = Vector{N}(undef, n)\n",
    "    @inbounds for i in 1:n\n",
    "        r[i] = _absmax_interval(H.center[i], H.radius[i])\n",
    "    end\n",
    "    return Hyperrectangle(zeros(N, n), r)\n",
    "end"
   ]
  },
  {
   "cell_type": "code",
   "execution_count": 61,
   "metadata": {},
   "outputs": [
    {
     "data": {
      "text/plain": [
       "Hyperrectangle{Float64,Array{Float64,1},Array{Float64,1}}([-0.9074174474655423, 0.6789619152386245], [0.342485177453982, 0.2258403534129026])"
      ]
     },
     "execution_count": 61,
     "metadata": {},
     "output_type": "execute_result"
    }
   ],
   "source": [
    "H2"
   ]
  },
  {
   "cell_type": "code",
   "execution_count": 30,
   "metadata": {},
   "outputs": [
    {
     "name": "stdout",
     "output_type": "stream",
     "text": [
      "  55.050 ns (3 allocations: 224 bytes)\n"
     ]
    },
    {
     "data": {
      "text/plain": [
       "Hyperrectangle{Float64,Array{Float64,1},Array{Float64,1}}([0.0, 0.0], [2.43338502503247, 1.80443774883788])"
      ]
     },
     "execution_count": 30,
     "metadata": {},
     "output_type": "execute_result"
    }
   ],
   "source": [
    "@btime _box_approximation_symmetric_2D($H2)"
   ]
  },
  {
   "cell_type": "code",
   "execution_count": 31,
   "metadata": {},
   "outputs": [
    {
     "data": {
      "text/plain": [
       "2-element Array{Float64,1}:\n",
       " 1.196705611351988 \n",
       " 1.1910866133870228"
      ]
     },
     "execution_count": 31,
     "metadata": {},
     "output_type": "execute_result"
    }
   ],
   "source": [
    "H2.center"
   ]
  },
  {
   "cell_type": "code",
   "execution_count": 32,
   "metadata": {},
   "outputs": [
    {
     "data": {
      "text/plain": [
       "2-element Array{Float64,1}:\n",
       " 1.236679413680482 \n",
       " 0.6133511354508572"
      ]
     },
     "execution_count": 32,
     "metadata": {},
     "output_type": "execute_result"
    }
   ],
   "source": [
    "H2.radius"
   ]
  },
  {
   "cell_type": "code",
   "execution_count": 43,
   "metadata": {},
   "outputs": [
    {
     "name": "stdout",
     "output_type": "stream",
     "text": [
      "  53.765 ns (3 allocations: 224 bytes)\n"
     ]
    },
    {
     "data": {
      "text/plain": [
       "Hyperrectangle{Float64,Array{Float64,1},Array{Float64,1}}([0.0, 0.0], [2.43338502503247, 1.80443774883788])"
      ]
     },
     "execution_count": 43,
     "metadata": {},
     "output_type": "execute_result"
    }
   ],
   "source": [
    "@btime _box_approximation_symmetric_2D_opt($H2)"
   ]
  },
  {
   "cell_type": "code",
   "execution_count": 38,
   "metadata": {},
   "outputs": [
    {
     "data": {
      "text/plain": [
       "1.196705611351988"
      ]
     },
     "execution_count": 38,
     "metadata": {},
     "output_type": "execute_result"
    }
   ],
   "source": [
    "c = H2.center[1]"
   ]
  },
  {
   "cell_type": "code",
   "execution_count": 39,
   "metadata": {},
   "outputs": [
    {
     "data": {
      "text/plain": [
       "1.236679413680482"
      ]
     },
     "execution_count": 39,
     "metadata": {},
     "output_type": "execute_result"
    }
   ],
   "source": [
    "r = H2.radius[1]"
   ]
  },
  {
   "cell_type": "code",
   "execution_count": 49,
   "metadata": {},
   "outputs": [
    {
     "name": "stdout",
     "output_type": "stream",
     "text": [
      "  5.636 μs (6 allocations: 2.45 KiB)\n",
      "  118.548 ns (3 allocations: 1.00 KiB)\n",
      "  94.900 ns (3 allocations: 1.00 KiB)\n"
     ]
    },
    {
     "data": {
      "text/plain": [
       "Hyperrectangle{Float64,Array{Float64,1},Array{Float64,1}}([0.0, 0.0, 0.0, 0.0, 0.0, 0.0, 0.0, 0.0, 0.0, 0.0  …  0.0, 0.0, 0.0, 0.0, 0.0, 0.0, 0.0, 0.0, 0.0, 0.0], [0.9666203297477394, 1.8058815004017976, 1.4592472830152543, 1.2830140312704679, 3.5882924561726464, 1.6821816358458805, 2.598411076771309, 2.8601467024551193, 1.7514792999959394, 4.6061877414632395  …  2.248284040204947, 2.092520646282453, 1.2607303040224784, 2.2165315432187915, 2.5534624350641257, 0.8160513638221383, 1.3986604417345982, 0.9825834776104627, 2.2000074097304627, 1.5943497356243361])"
      ]
     },
     "execution_count": 49,
     "metadata": {},
     "output_type": "execute_result"
    }
   ],
   "source": [
    "H50 = Hr(50)\n",
    "@btime symmetric_interval_hull($H50)\n",
    "@btime _box_approximation_symmetric($H50)\n",
    "@btime _box_approximation_symmetric_opt($H50)"
   ]
  },
  {
   "cell_type": "code",
   "execution_count": 50,
   "metadata": {},
   "outputs": [
    {
     "data": {
      "text/plain": [
       "true"
      ]
     },
     "execution_count": 50,
     "metadata": {},
     "output_type": "execute_result"
    }
   ],
   "source": [
    "symmetric_interval_hull(H50) == _box_approximation_symmetric_opt(H50)"
   ]
  },
  {
   "cell_type": "markdown",
   "metadata": {},
   "source": [
    "## Similar type and matrix type"
   ]
  },
  {
   "cell_type": "code",
   "execution_count": 1,
   "metadata": {},
   "outputs": [],
   "source": [
    "using Revise, LazySets, SparseArrays, LinearAlgebra"
   ]
  },
  {
   "cell_type": "code",
   "execution_count": 3,
   "metadata": {},
   "outputs": [
    {
     "data": {
      "text/plain": [
       "_matrix_type (generic function with 3 methods)"
      ]
     },
     "execution_count": 3,
     "metadata": {},
     "output_type": "execute_result"
    }
   ],
   "source": [
    "_vector_type(::Type{<:AbstractSparseArray{T}}) where T = SparseVector{T, Int}\n",
    "_vector_type(VT::Type{<:AbstractVector{T}}) where T = VT\n",
    "_vector_type(::Type{<:AbstractMatrix{T}}) where T = Vector{T}\n",
    "\n",
    "_matrix_type(::Type{<:AbstractVector{T}}) where T = Matrix{T}\n",
    "_matrix_type(MT::Type{<:AbstractMatrix{T}}) where T = MT\n",
    "_matrix_type(::Type{<:AbstractSparseVector{T}}) where T = SparseMatrixCSC{T, Int}"
   ]
  },
  {
   "cell_type": "code",
   "execution_count": 13,
   "metadata": {},
   "outputs": [],
   "source": [
    "# sparse\n",
    "vec = sprand(10, 0.5)\n",
    "mat = sprandn(10, 10, 0.5)\n",
    "\n",
    "@assert _vector_type(typeof(vec)) == SparseVector{Float64, Int}\n",
    "@assert _matrix_type(typeof(vec)) == SparseMatrixCSC{Float64,Int64}\n",
    "\n",
    "@assert _vector_type(typeof(mat)) == SparseVector{Float64, Int}\n",
    "@assert _matrix_type(typeof(mat)) == SparseMatrixCSC{Float64,Int64}"
   ]
  },
  {
   "cell_type": "code",
   "execution_count": 26,
   "metadata": {},
   "outputs": [
    {
     "name": "stdout",
     "output_type": "stream",
     "text": [
      "search: \u001b[0m\u001b[1mS\u001b[22m\u001b[0m\u001b[1mp\u001b[22m\u001b[0m\u001b[1ma\u001b[22m\u001b[0m\u001b[1mr\u001b[22m\u001b[0m\u001b[1ms\u001b[22m\u001b[0m\u001b[1me\u001b[22m\u001b[0m\u001b[1mV\u001b[22m\u001b[0m\u001b[1me\u001b[22m\u001b[0m\u001b[1mc\u001b[22m\u001b[0m\u001b[1mt\u001b[22m\u001b[0m\u001b[1mo\u001b[22m\u001b[0m\u001b[1mr\u001b[22m Ab\u001b[0m\u001b[1ms\u001b[22mtractS\u001b[0m\u001b[1mp\u001b[22m\u001b[0m\u001b[1ma\u001b[22m\u001b[0m\u001b[1mr\u001b[22m\u001b[0m\u001b[1ms\u001b[22m\u001b[0m\u001b[1me\u001b[22m\u001b[0m\u001b[1mV\u001b[22m\u001b[0m\u001b[1me\u001b[22m\u001b[0m\u001b[1mc\u001b[22m\u001b[0m\u001b[1mt\u001b[22m\u001b[0m\u001b[1mo\u001b[22m\u001b[0m\u001b[1mr\u001b[22m \u001b[0m\u001b[1ms\u001b[22m\u001b[0m\u001b[1mp\u001b[22m\u001b[0m\u001b[1ma\u001b[22m\u001b[0m\u001b[1mr\u001b[22m\u001b[0m\u001b[1ms\u001b[22m\u001b[0m\u001b[1me\u001b[22m\u001b[0m\u001b[1mv\u001b[22m\u001b[0m\u001b[1me\u001b[22m\u001b[0m\u001b[1mc\u001b[22m\n",
      "\n"
     ]
    },
    {
     "data": {
      "text/latex": [
       "\\begin{verbatim}\n",
       "SparseVector{Tv,Ti<:Integer} <: AbstractSparseVector{Tv,Ti}\n",
       "\\end{verbatim}\n",
       "Vector type for storing sparse vectors.\n",
       "\n"
      ],
      "text/markdown": [
       "```\n",
       "SparseVector{Tv,Ti<:Integer} <: AbstractSparseVector{Tv,Ti}\n",
       "```\n",
       "\n",
       "Vector type for storing sparse vectors.\n"
      ],
      "text/plain": [
       "\u001b[36m  SparseVector{Tv,Ti<:Integer} <: AbstractSparseVector{Tv,Ti}\u001b[39m\n",
       "\n",
       "  Vector type for storing sparse vectors."
      ]
     },
     "execution_count": 26,
     "metadata": {},
     "output_type": "execute_result"
    }
   ],
   "source": [
    "?SparseVector"
   ]
  },
  {
   "cell_type": "code",
   "execution_count": 33,
   "metadata": {},
   "outputs": [
    {
     "data": {
      "text/plain": [
       "3-element Array{Float64,1}:\n",
       " 1.0\n",
       " 0.0\n",
       " 3.0"
      ]
     },
     "execution_count": 33,
     "metadata": {},
     "output_type": "execute_result"
    }
   ],
   "source": [
    "Vector(sparsevec([1, 3], Float64[1, 3], 3))"
   ]
  },
  {
   "cell_type": "code",
   "execution_count": 31,
   "metadata": {},
   "outputs": [
    {
     "data": {
      "text/plain": [
       "3×3 Array{Float64,2}:\n",
       " 1.0  0.0  0.0\n",
       " 0.0  0.0  0.0\n",
       " 0.0  0.0  3.0"
      ]
     },
     "execution_count": 31,
     "metadata": {},
     "output_type": "execute_result"
    }
   ],
   "source": [
    "Matrix(sparse([1, 3], [1, 3], [1.0, 3.0], 3, 3))"
   ]
  },
  {
   "cell_type": "code",
   "execution_count": 35,
   "metadata": {},
   "outputs": [
    {
     "data": {
      "text/plain": [
       "Float64"
      ]
     },
     "execution_count": 35,
     "metadata": {},
     "output_type": "execute_result"
    }
   ],
   "source": [
    "N = Float64"
   ]
  },
  {
   "cell_type": "code",
   "execution_count": 36,
   "metadata": {},
   "outputs": [
    {
     "data": {
      "text/plain": [
       "3×3 Array{Float64,2}:\n",
       " 1.0  0.0  0.0\n",
       " 0.0  0.0  0.0\n",
       " 0.0  0.0  3.0"
      ]
     },
     "execution_count": 36,
     "metadata": {},
     "output_type": "execute_result"
    }
   ],
   "source": [
    "        vec = N[1, 0, 3]\n",
    "        mat = N[1 0 0; 0 0 0; 0 0 3]"
   ]
  },
  {
   "cell_type": "code",
   "execution_count": 14,
   "metadata": {},
   "outputs": [],
   "source": [
    "# dense\n",
    "vec = rand(10)\n",
    "mat = rand(10, 10)\n",
    "\n",
    "@assert _vector_type(typeof(vec)) == Vector{Float64}\n",
    "@assert _matrix_type(typeof(vec)) == Matrix{Float64}\n",
    "\n",
    "@assert _vector_type(typeof(mat)) == Vector{Float64}\n",
    "@assert _matrix_type(typeof(mat)) == Matrix{Float64}"
   ]
  },
  {
   "cell_type": "code",
   "execution_count": 20,
   "metadata": {},
   "outputs": [],
   "source": [
    "# diagonal\n",
    "mat = Diagonal([1.0, 2.0])\n",
    "\n",
    "@assert _vector_type(typeof(mat)) == Vector{Float64}\n",
    "@assert _matrix_type(typeof(mat)) == Diagonal{Float64,Array{Float64,1}}"
   ]
  },
  {
   "cell_type": "code",
   "execution_count": 21,
   "metadata": {},
   "outputs": [
    {
     "data": {
      "text/plain": [
       "IdentityMultiple{Int64} of value 4 and order 2"
      ]
     },
     "execution_count": 21,
     "metadata": {},
     "output_type": "execute_result"
    }
   ],
   "source": [
    "# other: identity multiple\n",
    "using MathematicalSystems\n",
    "\n",
    "mat = I(4, 2)\n",
    "\n",
    "@assert _vector_type(typeof(mat)) == Vector{Float64}\n",
    "@assert _matrix_type(typeof(mat)) == IdentityMultiple{Int64}"
   ]
  },
  {
   "cell_type": "code",
   "execution_count": 23,
   "metadata": {},
   "outputs": [
    {
     "data": {
      "text/plain": [
       "IdentityMultiple{Int64}"
      ]
     },
     "execution_count": 23,
     "metadata": {},
     "output_type": "execute_result"
    }
   ],
   "source": [
    "_matrix_type(typeof(mat))"
   ]
  },
  {
   "cell_type": "code",
   "execution_count": 23,
   "metadata": {},
   "outputs": [
    {
     "data": {
      "text/plain": [
       "5-element Array{Float64,1}:\n",
       " 0.5944166819672283 \n",
       " 0.36046656032222146\n",
       " 0.593524092088755  \n",
       " 0.5686452729365896 \n",
       " 0.18513535329913444"
      ]
     },
     "execution_count": 23,
     "metadata": {},
     "output_type": "execute_result"
    }
   ],
   "source": [
    "t = rand(5)"
   ]
  },
  {
   "cell_type": "code",
   "execution_count": 24,
   "metadata": {},
   "outputs": [
    {
     "data": {
      "text/plain": [
       "Array{Float64,1}"
      ]
     },
     "execution_count": 24,
     "metadata": {},
     "output_type": "execute_result"
    }
   ],
   "source": [
    "_vector_type(typeof(t))"
   ]
  },
  {
   "cell_type": "code",
   "execution_count": 30,
   "metadata": {},
   "outputs": [
    {
     "data": {
      "text/plain": [
       "2×2 Array{Float64,2}:\n",
       " 0.879689  0.048161\n",
       " 0.569673  0.65067 "
      ]
     },
     "execution_count": 30,
     "metadata": {},
     "output_type": "execute_result"
    }
   ],
   "source": [
    "t = rand(2, 2)"
   ]
  },
  {
   "cell_type": "code",
   "execution_count": 34,
   "metadata": {},
   "outputs": [
    {
     "data": {
      "text/plain": [
       "Array{Float64,2}"
      ]
     },
     "execution_count": 34,
     "metadata": {},
     "output_type": "execute_result"
    }
   ],
   "source": [
    "_matrix_type(typeof(t))"
   ]
  },
  {
   "cell_type": "code",
   "execution_count": 35,
   "metadata": {},
   "outputs": [
    {
     "data": {
      "text/plain": [
       "IdentityMultiple{Int64} of value 4 and order 2"
      ]
     },
     "execution_count": 35,
     "metadata": {},
     "output_type": "execute_result"
    }
   ],
   "source": []
  },
  {
   "cell_type": "code",
   "execution_count": 28,
   "metadata": {},
   "outputs": [
    {
     "data": {
      "text/plain": [
       "Array{Int64,1}"
      ]
     },
     "execution_count": 28,
     "metadata": {},
     "output_type": "execute_result"
    }
   ],
   "source": [
    "_vector_type(typeof(y))"
   ]
  },
  {
   "cell_type": "code",
   "execution_count": 36,
   "metadata": {},
   "outputs": [
    {
     "data": {
      "text/plain": [
       "Array{Int64,2}"
      ]
     },
     "execution_count": 36,
     "metadata": {},
     "output_type": "execute_result"
    }
   ],
   "source": [
    "_matrix_type(typeof(y))"
   ]
  },
  {
   "cell_type": "code",
   "execution_count": null,
   "metadata": {},
   "outputs": [],
   "source": [
    "## Zonotope"
   ]
  }
 ],
 "metadata": {
  "kernelspec": {
   "display_name": "Julia 1.3.1",
   "language": "julia",
   "name": "julia-1.3"
  },
  "language_info": {
   "file_extension": ".jl",
   "mimetype": "application/julia",
   "name": "julia",
   "version": "1.3.1"
  }
 },
 "nbformat": 4,
 "nbformat_minor": 2
}
