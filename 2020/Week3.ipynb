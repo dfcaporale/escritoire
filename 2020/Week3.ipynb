{
 "cells": [
  {
   "cell_type": "code",
   "execution_count": null,
   "metadata": {},
   "outputs": [],
   "source": [
    "using Revise, RangeEnclosures"
   ]
  },
  {
   "cell_type": "markdown",
   "metadata": {},
   "source": [
    "## Add support for polynomials as the input"
   ]
  },
  {
   "cell_type": "code",
   "execution_count": null,
   "metadata": {},
   "outputs": [],
   "source": [
    "using DynamicPolynomials, IntervalArithmetic\n",
    "\n",
    "@polyvar x y"
   ]
  },
  {
   "cell_type": "code",
   "execution_count": null,
   "metadata": {},
   "outputs": [],
   "source": [
    "box = IntervalBox(-1..1, 2)"
   ]
  },
  {
   "cell_type": "code",
   "execution_count": null,
   "metadata": {},
   "outputs": [],
   "source": [
    "p = x^2 + 2y^2 + 3x*y"
   ]
  },
  {
   "cell_type": "code",
   "execution_count": null,
   "metadata": {},
   "outputs": [],
   "source": [
    "p([1, 2])"
   ]
  },
  {
   "cell_type": "code",
   "execution_count": null,
   "metadata": {},
   "outputs": [],
   "source": [
    "p(box...)"
   ]
  },
  {
   "cell_type": "code",
   "execution_count": null,
   "metadata": {},
   "outputs": [],
   "source": [
    "enclose(p, box)"
   ]
  },
  {
   "cell_type": "code",
   "execution_count": null,
   "metadata": {},
   "outputs": [],
   "source": [
    "@test enclose(p, box) ≈ Interval(-3.0, 6.0)"
   ]
  },
  {
   "cell_type": "code",
   "execution_count": null,
   "metadata": {},
   "outputs": [],
   "source": [
    "\n",
    "p = x^2 + 2y^2 + 3x*y\n",
    "println(p([1,2]))   # 15\n",
    "println(p(box))     # MethodError: no method matching (::Polynomial{true,Int64})(::IntervalBox{2,Float64})"
   ]
  },
  {
   "cell_type": "code",
   "execution_count": null,
   "metadata": {},
   "outputs": [],
   "source": [
    "using RangeEnclosures\n",
    "\n",
    "\n",
    "f(x) = (x - 0.2)*(x - 0.8)\n",
    "\n",
    "int = 0..1\n",
    "\n",
    "enclose(f, int)  # [-0.640001, 0.160001]"
   ]
  },
  {
   "cell_type": "code",
   "execution_count": null,
   "metadata": {},
   "outputs": [],
   "source": [
    "using Plots"
   ]
  },
  {
   "cell_type": "code",
   "execution_count": null,
   "metadata": {},
   "outputs": [],
   "source": [
    "plot(f, xlims=(0, 1))"
   ]
  },
  {
   "cell_type": "code",
   "execution_count": null,
   "metadata": {},
   "outputs": [],
   "source": [
    "enclose(f, int)\n",
    "bisect(int)"
   ]
  },
  {
   "cell_type": "code",
   "execution_count": null,
   "metadata": {},
   "outputs": [],
   "source": [
    "using "
   ]
  },
  {
   "cell_type": "code",
   "execution_count": null,
   "metadata": {},
   "outputs": [],
   "source": []
  },
  {
   "cell_type": "markdown",
   "metadata": {},
   "source": [
    "## Range using taylor models"
   ]
  },
  {
   "cell_type": "code",
   "execution_count": null,
   "metadata": {},
   "outputs": [],
   "source": [
    "using TaylorModels\n",
    "\n",
    "int = -1.0..1.0\n",
    "x0 = mid(int)\n",
    "f(x) = 3x^2 + 2x + 5\n",
    "tm = TaylorModel1(1, x0, int)\n",
    "ftm = f(tm)\n",
    "left = ftm.pol(int.lo - x0) + ftm.rem\n",
    "right = ftm.pol(int.hi - x0) + ftm.rem\n",
    "bounds = union(left,right)\n",
    "lower_bound = inf(bounds)\n",
    "upper_bound = sup(bounds)"
   ]
  },
  {
   "cell_type": "code",
   "execution_count": null,
   "metadata": {},
   "outputs": [],
   "source": [
    "lower_bound, upper_bound"
   ]
  },
  {
   "cell_type": "code",
   "execution_count": null,
   "metadata": {},
   "outputs": [],
   "source": [
    "enclose(f, int, :TaylorModels)"
   ]
  },
  {
   "cell_type": "code",
   "execution_count": null,
   "metadata": {},
   "outputs": [],
   "source": [
    "enclose(x -> x^2-2x+1, -1..1, :BranchAndBound)"
   ]
  },
  {
   "cell_type": "code",
   "execution_count": null,
   "metadata": {},
   "outputs": [],
   "source": []
  },
  {
   "cell_type": "markdown",
   "metadata": {},
   "source": [
    "## Using Branch and Prune"
   ]
  },
  {
   "cell_type": "code",
   "execution_count": null,
   "metadata": {},
   "outputs": [],
   "source": [
    "using BranchAndPrune, DynamicPolynomials, Plots\n",
    "using Revise, RangeEnclosures"
   ]
  },
  {
   "cell_type": "code",
   "execution_count": null,
   "metadata": {},
   "outputs": [],
   "source": [
    "f(x) = (x - 0.2)*(x - 0.8)\n",
    "int = 0..1\n",
    "enclose(f, int)"
   ]
  },
  {
   "cell_type": "code",
   "execution_count": null,
   "metadata": {},
   "outputs": [],
   "source": [
    "plot(f, xlims=(0, 1))"
   ]
  },
  {
   "cell_type": "code",
   "execution_count": null,
   "metadata": {},
   "outputs": [],
   "source": [
    "plot(x -> 0.0)"
   ]
  },
  {
   "cell_type": "code",
   "execution_count": null,
   "metadata": {},
   "outputs": [],
   "source": [
    "struct MonotoneSearch <: AbstractDepthFirstSearch{Interval{Float64}}\n",
    "    f::Function\n",
    "    initial::Interval\n",
    "    tol::Float64\n",
    "    algorithm::Symbol\n",
    "end\n",
    "\n",
    "# multivariate case\n",
    "\n",
    "#=\n",
    "struct MonotoneSearch{N} <: AbstractDepthFirstSearch{IntervalBox{N, Float64}}\n",
    "    f::Function\n",
    "    initial::IntervalBox{N, Float64}\n",
    "    tol::Float64\n",
    "    algorithm::Symbol=:IntervalArithmetic\n",
    "end\n",
    "=#"
   ]
  },
  {
   "cell_type": "code",
   "execution_count": null,
   "metadata": {},
   "outputs": [],
   "source": [
    "struct MonotoneSearchND{N} <: AbstractDepthFirstSearch{IntervalBox{N, Float64}}\n",
    "    f::Function\n",
    "    initial::IntervalBox{N, Float64}\n",
    "    tol::Float64\n",
    "    algorithm::Symbol\n",
    "end"
   ]
  },
  {
   "cell_type": "code",
   "execution_count": null,
   "metadata": {},
   "outputs": [],
   "source": [
    "function BranchAndPrune.process(search::MonotoneSearch, interval)\n",
    "    y = enclose(search.f, interval, search.algorithm)\n",
    "\n",
    "    if is_monotonic(y) # sign doesn't change\n",
    "        return :store, interval\n",
    "    elseif diam(y) < search.tol\n",
    "        return :discard, interval\n",
    "    else\n",
    "        return :bisect, interval\n",
    "    end\n",
    "end"
   ]
  },
  {
   "cell_type": "code",
   "execution_count": null,
   "metadata": {},
   "outputs": [],
   "source": [
    "BranchAndPrune.bisect(::MonotoneSearch, interval) = bisect(interval)\n",
    "\n",
    "is_monotonic(x::Interval) = inf(x)*sup(x) > 0"
   ]
  },
  {
   "cell_type": "code",
   "execution_count": null,
   "metadata": {},
   "outputs": [],
   "source": [
    "# tol = 1/256\n",
    "#alg = :IntervalArithmetic\n",
    "#search = MonotoneSearch(f, int, tol, alg)\n",
    "#postsearch = ZeroSearch(region, IB, tol/2)"
   ]
  },
  {
   "cell_type": "code",
   "execution_count": null,
   "metadata": {
    "scrolled": true
   },
   "outputs": [],
   "source": [
    "function run_search(f, interval; tol=1/256, alg=:IntervalArithmetic)\n",
    "    search = MonotoneSearch(f, interval, tol, alg)\n",
    "\n",
    "    local endtree = nothing\n",
    "\n",
    "    for working_tree in search\n",
    "        endtree = working_tree\n",
    "    end\n",
    "\n",
    "    return endtree\n",
    "end"
   ]
  },
  {
   "cell_type": "code",
   "execution_count": null,
   "metadata": {},
   "outputs": [],
   "source": [
    "tree = run_search(f, int)"
   ]
  },
  {
   "cell_type": "code",
   "execution_count": null,
   "metadata": {},
   "outputs": [],
   "source": [
    "all(is_monotonic(enclose(f, x)) for x in data(tree))"
   ]
  },
  {
   "cell_type": "code",
   "execution_count": null,
   "metadata": {},
   "outputs": [],
   "source": [
    "length(data(tree))"
   ]
  },
  {
   "cell_type": "code",
   "execution_count": null,
   "metadata": {},
   "outputs": [],
   "source": [
    "is_monotonic(enclose(f, int))"
   ]
  },
  {
   "cell_type": "code",
   "execution_count": null,
   "metadata": {},
   "outputs": [],
   "source": [
    "for x in data(tree_outer)\n",
    "    y = enclose(f, x)\n",
    "    println(is_monotonic(y))\n",
    "end"
   ]
  },
  {
   "cell_type": "code",
   "execution_count": null,
   "metadata": {},
   "outputs": [],
   "source": [
    "union(data(tree_outer)[1], data(tree_outer)[2])"
   ]
  },
  {
   "cell_type": "code",
   "execution_count": null,
   "metadata": {},
   "outputs": [],
   "source": [
    "data(tree_outer)[1]"
   ]
  },
  {
   "cell_type": "code",
   "execution_count": null,
   "metadata": {},
   "outputs": [],
   "source": [
    "data(tree_outer)[2]"
   ]
  },
  {
   "cell_type": "code",
   "execution_count": null,
   "metadata": {},
   "outputs": [],
   "source": [
    "setdiff(int, data(tree_outer)[1])"
   ]
  },
  {
   "cell_type": "code",
   "execution_count": null,
   "metadata": {},
   "outputs": [],
   "source": [
    "data(tree_outer)"
   ]
  },
  {
   "cell_type": "markdown",
   "metadata": {},
   "source": [
    "### Multivariate case"
   ]
  },
  {
   "cell_type": "code",
   "execution_count": null,
   "metadata": {},
   "outputs": [],
   "source": [
    "@polyvar x y\n",
    "box = IntervalBox(-1..1,2)\n",
    "\n",
    "p = x^2 + 2y^2 + 3x*y"
   ]
  },
  {
   "cell_type": "code",
   "execution_count": null,
   "metadata": {},
   "outputs": [],
   "source": [
    "using MultivariatePolynomials"
   ]
  },
  {
   "cell_type": "code",
   "execution_count": null,
   "metadata": {},
   "outputs": [],
   "source": [
    "@which enclose(p, box, :SumOfSquares)"
   ]
  },
  {
   "cell_type": "code",
   "execution_count": null,
   "metadata": {},
   "outputs": [],
   "source": [
    "f(x...) = p(variables(p) => x)"
   ]
  },
  {
   "cell_type": "code",
   "execution_count": null,
   "metadata": {},
   "outputs": [],
   "source": [
    "enclose(f, box)"
   ]
  },
  {
   "cell_type": "code",
   "execution_count": null,
   "metadata": {},
   "outputs": [],
   "source": [
    "function f(p::AbstractPolynomialLike, x)\n",
    "    return p(variables(p) => x)\n",
    "end"
   ]
  },
  {
   "cell_type": "code",
   "execution_count": null,
   "metadata": {},
   "outputs": [],
   "source": [
    "f(p, (1.0, 2.0))"
   ]
  },
  {
   "cell_type": "code",
   "execution_count": null,
   "metadata": {},
   "outputs": [],
   "source": [
    "subs(p, x=>1.0, y=>2.0)"
   ]
  },
  {
   "cell_type": "markdown",
   "metadata": {},
   "source": [
    "----"
   ]
  },
  {
   "cell_type": "code",
   "execution_count": null,
   "metadata": {},
   "outputs": [],
   "source": [
    "using IntervalArithmetic"
   ]
  },
  {
   "cell_type": "code",
   "execution_count": null,
   "metadata": {},
   "outputs": [],
   "source": [
    "dom = IntervalBox(-10..10, 2)"
   ]
  },
  {
   "cell_type": "code",
   "execution_count": null,
   "metadata": {},
   "outputs": [],
   "source": [
    "f(a, b) = a + b * b"
   ]
  },
  {
   "cell_type": "code",
   "execution_count": null,
   "metadata": {},
   "outputs": [],
   "source": [
    "f(dom...)"
   ]
  },
  {
   "cell_type": "code",
   "execution_count": null,
   "metadata": {},
   "outputs": [],
   "source": [
    "using DynamicPolynomials\n",
    "\n",
    "@polyvar x y"
   ]
  },
  {
   "cell_type": "code",
   "execution_count": null,
   "metadata": {},
   "outputs": [],
   "source": [
    "h = x + y * y"
   ]
  },
  {
   "cell_type": "code",
   "execution_count": null,
   "metadata": {},
   "outputs": [],
   "source": [
    "hf(a) = h(variables(h) => a)\n",
    "hf(a...) = h(variables(h) => a)"
   ]
  },
  {
   "cell_type": "code",
   "execution_count": null,
   "metadata": {},
   "outputs": [],
   "source": [
    "using IntervalArithmetic"
   ]
  },
  {
   "cell_type": "code",
   "execution_count": null,
   "metadata": {},
   "outputs": [],
   "source": [
    "dom = IntervalBox(-10 .. 10, 2)"
   ]
  },
  {
   "cell_type": "code",
   "execution_count": null,
   "metadata": {},
   "outputs": [],
   "source": [
    "hf(dom...)"
   ]
  },
  {
   "cell_type": "code",
   "execution_count": null,
   "metadata": {},
   "outputs": [],
   "source": [
    "hf(dom[1], dom[2])"
   ]
  },
  {
   "cell_type": "code",
   "execution_count": null,
   "metadata": {},
   "outputs": [],
   "source": [
    "tf = (t1, t2) -> (t1 + t2 * t2)\n",
    "tf(dom...)"
   ]
  },
  {
   "cell_type": "code",
   "execution_count": null,
   "metadata": {},
   "outputs": [],
   "source": [
    "Interval(-10, 10) + Interval(-10, 10) * Interval(-10, 10)"
   ]
  },
  {
   "cell_type": "code",
   "execution_count": null,
   "metadata": {},
   "outputs": [],
   "source": [
    "function my_func(vars...)\n",
    "    returnh(variables(h) => (1.0, 2.0))"
   ]
  },
  {
   "cell_type": "code",
   "execution_count": null,
   "metadata": {},
   "outputs": [],
   "source": [
    "w(z) = h(variables(h) => z)"
   ]
  },
  {
   "cell_type": "code",
   "execution_count": null,
   "metadata": {},
   "outputs": [],
   "source": [
    "h(variables(h) => (1.2, 0.4))"
   ]
  },
  {
   "cell_type": "code",
   "execution_count": null,
   "metadata": {},
   "outputs": [],
   "source": [
    "f(1.2, 0.4)"
   ]
  },
  {
   "cell_type": "code",
   "execution_count": null,
   "metadata": {},
   "outputs": [],
   "source": [
    "fh(1.0, 0.0)"
   ]
  },
  {
   "cell_type": "code",
   "execution_count": null,
   "metadata": {},
   "outputs": [],
   "source": [
    "f.(dom...)"
   ]
  },
  {
   "cell_type": "code",
   "execution_count": null,
   "metadata": {},
   "outputs": [],
   "source": [
    "g(x, y) = (x + 2y - 7)^2 + (2x + y - 5)^2\n",
    "\n",
    "res = enclose(g, dom, :IntervalArithmetic)"
   ]
  },
  {
   "cell_type": "code",
   "execution_count": null,
   "metadata": {},
   "outputs": [],
   "source": [
    "@polyvar x y\n",
    "p = (x + 2y - 7)^2 + (2x + y - 5)^2\n",
    "res = enclose(p, dom, :IntervalArithmetic)"
   ]
  },
  {
   "cell_type": "code",
   "execution_count": null,
   "metadata": {},
   "outputs": [],
   "source": [
    "f(x, y) = 5*x*x + 8*x*y + 5*y*y - 34*x - 38*y + 74"
   ]
  },
  {
   "cell_type": "code",
   "execution_count": null,
   "metadata": {},
   "outputs": [],
   "source": [
    "res = enclose(f, dom, :IntervalArithmetic)"
   ]
  },
  {
   "cell_type": "code",
   "execution_count": null,
   "metadata": {},
   "outputs": [],
   "source": [
    "enclose((a, b) -> b*b, dom)"
   ]
  },
  {
   "cell_type": "code",
   "execution_count": null,
   "metadata": {},
   "outputs": [],
   "source": [
    "enclose(x + y*y, dom)"
   ]
  },
  {
   "cell_type": "code",
   "execution_count": null,
   "metadata": {},
   "outputs": [],
   "source": [
    "h(x...) = p(variables(p) => x)"
   ]
  },
  {
   "cell_type": "code",
   "execution_count": null,
   "metadata": {},
   "outputs": [],
   "source": [
    "enclose(h, dom)"
   ]
  },
  {
   "cell_type": "code",
   "execution_count": null,
   "metadata": {},
   "outputs": [],
   "source": [
    "@testset \"Multivariate example from the Quickstart Guide\" begin\n",
    "    g(x, y) = (x + 2y - 7)^2 + (2x + y - 5)^2\n",
    "    dom = IntervalBox(-10..10, 2)\n",
    "\n",
    "    x = enclose(g, dom, :IntervalArithmetic)\n",
    "    xref = Interval(0, 2594)\n",
    "    r = relative_precision(x, xref)\n",
    "    @test inf(r) ≤ 1e-5 && sup(r) ≤ 1e-5\n",
    "end\n",
    "\n",
    "@testset \"Test multivariate polynomial input\" begin\n",
    "    @polyvar x y\n",
    "    p = (x + 2y - 7)^2 + (2x + y - 5)^2\n",
    "    dom = IntervalBox(-10..10, 2)\n",
    "\n",
    "    x = enclose(p, dom)\n",
    "    xref = Interval(-1446, 2594)\n",
    "    r = relative_precision(x, xref)\n",
    "    @test inf(r) ≤ 1e-5 && sup(r) ≤ 1e-5\n",
    "    # Note: DynamicPolynomials automatically expands p, and evaluation using\n",
    "    # interval arithmetic gives a worser left bound than the factored expression.\n",
    "end\n"
   ]
  },
  {
   "cell_type": "markdown",
   "metadata": {},
   "source": [
    "## Branch and bound to estimate the range"
   ]
  },
  {
   "cell_type": "markdown",
   "metadata": {},
   "source": [
    "Idea:\n",
    "\n",
    "-Se dan como entrada una funcion y una region de busqueda. Para simplificar, consideremos el caso unidimensinoal en primer lugar.\n",
    "\n",
    "- En el objeto de busqueda, guardo el maximo y minimo encontrados hasta el momento.\n",
    "\n",
    "- Descarto aquellos intervalos tales que:\n",
    "    - cuyo valor infimo es mayor que el minimo obtenido hasta hora,\n",
    "    - cuyo valor maximo es menor que el maximo obtenido hasta ahora"
   ]
  },
  {
   "cell_type": "code",
   "execution_count": 1,
   "metadata": {},
   "outputs": [
    {
     "name": "stderr",
     "output_type": "stream",
     "text": [
      "┌ Info: Recompiling stale cache file /home/mforets/.julia/compiled/v1.2/DynamicPolynomials/tepBk.ji for DynamicPolynomials [7c1d4256-1411-5781-91ec-d7bc3513ac07]\n",
      "└ @ Base loading.jl:1240\n",
      "┌ Info: Recompiling stale cache file /home/mforets/.julia/compiled/v1.2/Plots/ld3vC.ji for Plots [91a5bcdd-55d7-5caf-9e0b-520d859cae80]\n",
      "└ @ Base loading.jl:1240\n",
      "┌ Info: Recompiling stale cache file /home/mforets/.julia/compiled/v1.2/Revise/M1Qoh.ji for Revise [295af30f-e4ad-537b-8983-00126c2a3abe]\n",
      "└ @ Base loading.jl:1240\n",
      "┌ Info: Recompiling stale cache file /home/mforets/.julia/compiled/v1.2/RangeEnclosures/kxbI0.ji for RangeEnclosures [1b4d18b6-9e5d-11e9-236c-f792b01831f8]\n",
      "└ @ Base loading.jl:1240\n"
     ]
    }
   ],
   "source": [
    "using BranchAndPrune, DynamicPolynomials, Plots\n",
    "using Revise, RangeEnclosures"
   ]
  },
  {
   "cell_type": "code",
   "execution_count": 4,
   "metadata": {},
   "outputs": [],
   "source": [
    "struct RangeBound1DSearch{T} <: AbstractDepthFirstSearch{Interval{T}}\n",
    "    f::Function\n",
    "    initial::Interval{T}\n",
    "    tol::T\n",
    "    algorithm::Symbol\n",
    "    infimum::T # mejor cota inferior hasta ahora\n",
    "    supremum::T # mejor cota superior hasta ahora\n",
    "end"
   ]
  },
  {
   "cell_type": "code",
   "execution_count": 3,
   "metadata": {},
   "outputs": [],
   "source": [
    "function BranchAndPrune.process(search::RangeBound1DSearch, interval)\n",
    "    y = enclose(search.f, interval, search.algorithm)\n",
    "\n",
    "    if inf(y) > search.infimum # mejoro la cota inferior\n",
    "        return :store, interval\n",
    "    elseif sup(y) < search.supremum # mejoro la cota superior\n",
    "        return :store, interval\n",
    "    elseif inf(y) > search.infimum && sup(y)\n",
    "        diam(y) < search.tol\n",
    "        return :discard, interval\n",
    "    else\n",
    "        return :bisect, interval\n",
    "    end\n",
    "end"
   ]
  },
  {
   "cell_type": "code",
   "execution_count": 11,
   "metadata": {},
   "outputs": [
    {
     "data": {
      "image/svg+xml": [
       "<?xml version=\"1.0\" encoding=\"utf-8\"?>\n",
       "<svg xmlns=\"http://www.w3.org/2000/svg\" xmlns:xlink=\"http://www.w3.org/1999/xlink\" width=\"600\" height=\"400\" viewBox=\"0 0 2400 1600\">\n",
       "<defs>\n",
       "  <clipPath id=\"clip1600\">\n",
       "    <rect x=\"0\" y=\"0\" width=\"2400\" height=\"1600\"/>\n",
       "  </clipPath>\n",
       "</defs>\n",
       "<path clip-path=\"url(#clip1600)\" d=\"\n",
       "M0 1600 L2400 1600 L2400 0 L0 0  Z\n",
       "  \" fill=\"#ffffff\" fill-rule=\"evenodd\" fill-opacity=\"1\"/>\n",
       "<defs>\n",
       "  <clipPath id=\"clip1601\">\n",
       "    <rect x=\"480\" y=\"0\" width=\"1681\" height=\"1600\"/>\n",
       "  </clipPath>\n",
       "</defs>\n",
       "<path clip-path=\"url(#clip1600)\" d=\"\n",
       "M140.517 1487.47 L2352.76 1487.47 L2352.76 47.2441 L140.517 47.2441  Z\n",
       "  \" fill=\"#ffffff\" fill-rule=\"evenodd\" fill-opacity=\"1\"/>\n",
       "<defs>\n",
       "  <clipPath id=\"clip1602\">\n",
       "    <rect x=\"140\" y=\"47\" width=\"2213\" height=\"1441\"/>\n",
       "  </clipPath>\n",
       "</defs>\n",
       "<polyline clip-path=\"url(#clip1602)\" style=\"stroke:#000000; stroke-width:2; stroke-opacity:0.1; fill:none\" points=\"\n",
       "  140.517,1487.47 140.517,47.2441 \n",
       "  \"/>\n",
       "<polyline clip-path=\"url(#clip1602)\" style=\"stroke:#000000; stroke-width:2; stroke-opacity:0.1; fill:none\" points=\"\n",
       "  877.93,1487.47 877.93,47.2441 \n",
       "  \"/>\n",
       "<polyline clip-path=\"url(#clip1602)\" style=\"stroke:#000000; stroke-width:2; stroke-opacity:0.1; fill:none\" points=\"\n",
       "  1615.34,1487.47 1615.34,47.2441 \n",
       "  \"/>\n",
       "<polyline clip-path=\"url(#clip1602)\" style=\"stroke:#000000; stroke-width:2; stroke-opacity:0.1; fill:none\" points=\"\n",
       "  2352.76,1487.47 2352.76,47.2441 \n",
       "  \"/>\n",
       "<polyline clip-path=\"url(#clip1602)\" style=\"stroke:#000000; stroke-width:2; stroke-opacity:0.1; fill:none\" points=\"\n",
       "  140.517,1407.03 2352.76,1407.03 \n",
       "  \"/>\n",
       "<polyline clip-path=\"url(#clip1602)\" style=\"stroke:#000000; stroke-width:2; stroke-opacity:0.1; fill:none\" points=\"\n",
       "  140.517,1168.96 2352.76,1168.96 \n",
       "  \"/>\n",
       "<polyline clip-path=\"url(#clip1602)\" style=\"stroke:#000000; stroke-width:2; stroke-opacity:0.1; fill:none\" points=\"\n",
       "  140.517,930.887 2352.76,930.887 \n",
       "  \"/>\n",
       "<polyline clip-path=\"url(#clip1602)\" style=\"stroke:#000000; stroke-width:2; stroke-opacity:0.1; fill:none\" points=\"\n",
       "  140.517,692.813 2352.76,692.813 \n",
       "  \"/>\n",
       "<polyline clip-path=\"url(#clip1602)\" style=\"stroke:#000000; stroke-width:2; stroke-opacity:0.1; fill:none\" points=\"\n",
       "  140.517,454.739 2352.76,454.739 \n",
       "  \"/>\n",
       "<polyline clip-path=\"url(#clip1602)\" style=\"stroke:#000000; stroke-width:2; stroke-opacity:0.1; fill:none\" points=\"\n",
       "  140.517,216.665 2352.76,216.665 \n",
       "  \"/>\n",
       "<polyline clip-path=\"url(#clip1600)\" style=\"stroke:#000000; stroke-width:4; stroke-opacity:1; fill:none\" points=\"\n",
       "  140.517,1487.47 2352.76,1487.47 \n",
       "  \"/>\n",
       "<polyline clip-path=\"url(#clip1600)\" style=\"stroke:#000000; stroke-width:4; stroke-opacity:1; fill:none\" points=\"\n",
       "  140.517,1487.47 140.517,47.2441 \n",
       "  \"/>\n",
       "<polyline clip-path=\"url(#clip1600)\" style=\"stroke:#000000; stroke-width:4; stroke-opacity:1; fill:none\" points=\"\n",
       "  140.517,1487.47 140.517,1470.19 \n",
       "  \"/>\n",
       "<polyline clip-path=\"url(#clip1600)\" style=\"stroke:#000000; stroke-width:4; stroke-opacity:1; fill:none\" points=\"\n",
       "  877.93,1487.47 877.93,1470.19 \n",
       "  \"/>\n",
       "<polyline clip-path=\"url(#clip1600)\" style=\"stroke:#000000; stroke-width:4; stroke-opacity:1; fill:none\" points=\"\n",
       "  1615.34,1487.47 1615.34,1470.19 \n",
       "  \"/>\n",
       "<polyline clip-path=\"url(#clip1600)\" style=\"stroke:#000000; stroke-width:4; stroke-opacity:1; fill:none\" points=\"\n",
       "  2352.76,1487.47 2352.76,1470.19 \n",
       "  \"/>\n",
       "<polyline clip-path=\"url(#clip1600)\" style=\"stroke:#000000; stroke-width:4; stroke-opacity:1; fill:none\" points=\"\n",
       "  140.517,1407.03 167.064,1407.03 \n",
       "  \"/>\n",
       "<polyline clip-path=\"url(#clip1600)\" style=\"stroke:#000000; stroke-width:4; stroke-opacity:1; fill:none\" points=\"\n",
       "  140.517,1168.96 167.064,1168.96 \n",
       "  \"/>\n",
       "<polyline clip-path=\"url(#clip1600)\" style=\"stroke:#000000; stroke-width:4; stroke-opacity:1; fill:none\" points=\"\n",
       "  140.517,930.887 167.064,930.887 \n",
       "  \"/>\n",
       "<polyline clip-path=\"url(#clip1600)\" style=\"stroke:#000000; stroke-width:4; stroke-opacity:1; fill:none\" points=\"\n",
       "  140.517,692.813 167.064,692.813 \n",
       "  \"/>\n",
       "<polyline clip-path=\"url(#clip1600)\" style=\"stroke:#000000; stroke-width:4; stroke-opacity:1; fill:none\" points=\"\n",
       "  140.517,454.739 167.064,454.739 \n",
       "  \"/>\n",
       "<polyline clip-path=\"url(#clip1600)\" style=\"stroke:#000000; stroke-width:4; stroke-opacity:1; fill:none\" points=\"\n",
       "  140.517,216.665 167.064,216.665 \n",
       "  \"/>\n",
       "<g clip-path=\"url(#clip1600)\">\n",
       "<text style=\"fill:#000000; fill-opacity:1; font-family:Arial,Helvetica Neue,Helvetica,sans-serif; font-size:48px; text-anchor:middle;\" transform=\"rotate(0, 140.517, 1541.47)\" x=\"140.517\" y=\"1541.47\">1</text>\n",
       "</g>\n",
       "<g clip-path=\"url(#clip1600)\">\n",
       "<text style=\"fill:#000000; fill-opacity:1; font-family:Arial,Helvetica Neue,Helvetica,sans-serif; font-size:48px; text-anchor:middle;\" transform=\"rotate(0, 877.93, 1541.47)\" x=\"877.93\" y=\"1541.47\">2</text>\n",
       "</g>\n",
       "<g clip-path=\"url(#clip1600)\">\n",
       "<text style=\"fill:#000000; fill-opacity:1; font-family:Arial,Helvetica Neue,Helvetica,sans-serif; font-size:48px; text-anchor:middle;\" transform=\"rotate(0, 1615.34, 1541.47)\" x=\"1615.34\" y=\"1541.47\">3</text>\n",
       "</g>\n",
       "<g clip-path=\"url(#clip1600)\">\n",
       "<text style=\"fill:#000000; fill-opacity:1; font-family:Arial,Helvetica Neue,Helvetica,sans-serif; font-size:48px; text-anchor:middle;\" transform=\"rotate(0, 2352.76, 1541.47)\" x=\"2352.76\" y=\"1541.47\">4</text>\n",
       "</g>\n",
       "<g clip-path=\"url(#clip1600)\">\n",
       "<text style=\"fill:#000000; fill-opacity:1; font-family:Arial,Helvetica Neue,Helvetica,sans-serif; font-size:48px; text-anchor:end;\" transform=\"rotate(0, 116.517, 1424.53)\" x=\"116.517\" y=\"1424.53\">5</text>\n",
       "</g>\n",
       "<g clip-path=\"url(#clip1600)\">\n",
       "<text style=\"fill:#000000; fill-opacity:1; font-family:Arial,Helvetica Neue,Helvetica,sans-serif; font-size:48px; text-anchor:end;\" transform=\"rotate(0, 116.517, 1186.46)\" x=\"116.517\" y=\"1186.46\">6</text>\n",
       "</g>\n",
       "<g clip-path=\"url(#clip1600)\">\n",
       "<text style=\"fill:#000000; fill-opacity:1; font-family:Arial,Helvetica Neue,Helvetica,sans-serif; font-size:48px; text-anchor:end;\" transform=\"rotate(0, 116.517, 948.387)\" x=\"116.517\" y=\"948.387\">7</text>\n",
       "</g>\n",
       "<g clip-path=\"url(#clip1600)\">\n",
       "<text style=\"fill:#000000; fill-opacity:1; font-family:Arial,Helvetica Neue,Helvetica,sans-serif; font-size:48px; text-anchor:end;\" transform=\"rotate(0, 116.517, 710.313)\" x=\"116.517\" y=\"710.313\">8</text>\n",
       "</g>\n",
       "<g clip-path=\"url(#clip1600)\">\n",
       "<text style=\"fill:#000000; fill-opacity:1; font-family:Arial,Helvetica Neue,Helvetica,sans-serif; font-size:48px; text-anchor:end;\" transform=\"rotate(0, 116.517, 472.239)\" x=\"116.517\" y=\"472.239\">9</text>\n",
       "</g>\n",
       "<g clip-path=\"url(#clip1600)\">\n",
       "<text style=\"fill:#000000; fill-opacity:1; font-family:Arial,Helvetica Neue,Helvetica,sans-serif; font-size:48px; text-anchor:end;\" transform=\"rotate(0, 116.517, 234.165)\" x=\"116.517\" y=\"234.165\">10</text>\n",
       "</g>\n",
       "<polyline clip-path=\"url(#clip1602)\" style=\"stroke:#009af9; stroke-width:4; stroke-opacity:1; fill:none\" points=\"\n",
       "  140.517,1446.71 162.121,1415.43 361.884,1136.91 481.934,980.149 583.434,854.774 693.692,726.783 795.339,617.02 904.317,508.846 1030.58,396.803 1142.78,310.123 \n",
       "  1241.18,244.785 1348.45,185.607 1456.37,139.49 1516.02,120.041 1575.68,105.057 1632.44,95.06 1689.2,89.3272 1748.22,88.0053 1807.24,91.5332 1856.92,98.3521 \n",
       "  1906.6,108.767 1967.26,126.463 2027.91,149.76 2084.93,176.886 2141.95,209.188 2233.29,272.003 2324.64,348.839 2338.7,361.938 2352.76,375.381 \n",
       "  \"/>\n",
       "</svg>\n"
      ]
     },
     "execution_count": 11,
     "metadata": {},
     "output_type": "execute_result"
    }
   ],
   "source": [
    "f(x) = -x^3/6 + 5x\n",
    "\n",
    "dom = Interval(1, 4)\n",
    "\n",
    "plot(f, xlims = (1, 4), lab=\"\")"
   ]
  },
  {
   "cell_type": "code",
   "execution_count": 12,
   "metadata": {},
   "outputs": [
    {
     "data": {
      "text/plain": [
       "[-5.66667, 19.8334]"
      ]
     },
     "execution_count": 12,
     "metadata": {},
     "output_type": "execute_result"
    }
   ],
   "source": [
    "enclose(f, 1 .. 4)"
   ]
  },
  {
   "cell_type": "code",
   "execution_count": 13,
   "metadata": {},
   "outputs": [
    {
     "data": {
      "image/svg+xml": [
       "<?xml version=\"1.0\" encoding=\"utf-8\"?>\n",
       "<svg xmlns=\"http://www.w3.org/2000/svg\" xmlns:xlink=\"http://www.w3.org/1999/xlink\" width=\"600\" height=\"400\" viewBox=\"0 0 2400 1600\">\n",
       "<defs>\n",
       "  <clipPath id=\"clip2000\">\n",
       "    <rect x=\"0\" y=\"0\" width=\"2400\" height=\"1600\"/>\n",
       "  </clipPath>\n",
       "</defs>\n",
       "<path clip-path=\"url(#clip2000)\" d=\"\n",
       "M0 1600 L2400 1600 L2400 0 L0 0  Z\n",
       "  \" fill=\"#ffffff\" fill-rule=\"evenodd\" fill-opacity=\"1\"/>\n",
       "<defs>\n",
       "  <clipPath id=\"clip2001\">\n",
       "    <rect x=\"480\" y=\"0\" width=\"1681\" height=\"1600\"/>\n",
       "  </clipPath>\n",
       "</defs>\n",
       "<path clip-path=\"url(#clip2000)\" d=\"\n",
       "M141.865 1487.47 L2352.76 1487.47 L2352.76 47.2441 L141.865 47.2441  Z\n",
       "  \" fill=\"#ffffff\" fill-rule=\"evenodd\" fill-opacity=\"1\"/>\n",
       "<defs>\n",
       "  <clipPath id=\"clip2002\">\n",
       "    <rect x=\"141\" y=\"47\" width=\"2212\" height=\"1441\"/>\n",
       "  </clipPath>\n",
       "</defs>\n",
       "<polyline clip-path=\"url(#clip2002)\" style=\"stroke:#000000; stroke-width:2; stroke-opacity:0.1; fill:none\" points=\"\n",
       "  141.865,1487.47 141.865,47.2441 \n",
       "  \"/>\n",
       "<polyline clip-path=\"url(#clip2002)\" style=\"stroke:#000000; stroke-width:2; stroke-opacity:0.1; fill:none\" points=\"\n",
       "  878.828,1487.47 878.828,47.2441 \n",
       "  \"/>\n",
       "<polyline clip-path=\"url(#clip2002)\" style=\"stroke:#000000; stroke-width:2; stroke-opacity:0.1; fill:none\" points=\"\n",
       "  1615.79,1487.47 1615.79,47.2441 \n",
       "  \"/>\n",
       "<polyline clip-path=\"url(#clip2002)\" style=\"stroke:#000000; stroke-width:2; stroke-opacity:0.1; fill:none\" points=\"\n",
       "  2352.76,1487.47 2352.76,47.2441 \n",
       "  \"/>\n",
       "<polyline clip-path=\"url(#clip2002)\" style=\"stroke:#000000; stroke-width:2; stroke-opacity:0.1; fill:none\" points=\"\n",
       "  141.865,1411.19 2352.76,1411.19 \n",
       "  \"/>\n",
       "<polyline clip-path=\"url(#clip2002)\" style=\"stroke:#000000; stroke-width:2; stroke-opacity:0.1; fill:none\" points=\"\n",
       "  141.865,1144.78 2352.76,1144.78 \n",
       "  \"/>\n",
       "<polyline clip-path=\"url(#clip2002)\" style=\"stroke:#000000; stroke-width:2; stroke-opacity:0.1; fill:none\" points=\"\n",
       "  141.865,878.366 2352.76,878.366 \n",
       "  \"/>\n",
       "<polyline clip-path=\"url(#clip2002)\" style=\"stroke:#000000; stroke-width:2; stroke-opacity:0.1; fill:none\" points=\"\n",
       "  141.865,611.954 2352.76,611.954 \n",
       "  \"/>\n",
       "<polyline clip-path=\"url(#clip2002)\" style=\"stroke:#000000; stroke-width:2; stroke-opacity:0.1; fill:none\" points=\"\n",
       "  141.865,345.541 2352.76,345.541 \n",
       "  \"/>\n",
       "<polyline clip-path=\"url(#clip2002)\" style=\"stroke:#000000; stroke-width:2; stroke-opacity:0.1; fill:none\" points=\"\n",
       "  141.865,79.1285 2352.76,79.1285 \n",
       "  \"/>\n",
       "<polyline clip-path=\"url(#clip2000)\" style=\"stroke:#000000; stroke-width:4; stroke-opacity:1; fill:none\" points=\"\n",
       "  141.865,1487.47 2352.76,1487.47 \n",
       "  \"/>\n",
       "<polyline clip-path=\"url(#clip2000)\" style=\"stroke:#000000; stroke-width:4; stroke-opacity:1; fill:none\" points=\"\n",
       "  141.865,1487.47 141.865,47.2441 \n",
       "  \"/>\n",
       "<polyline clip-path=\"url(#clip2000)\" style=\"stroke:#000000; stroke-width:4; stroke-opacity:1; fill:none\" points=\"\n",
       "  141.865,1487.47 141.865,1470.19 \n",
       "  \"/>\n",
       "<polyline clip-path=\"url(#clip2000)\" style=\"stroke:#000000; stroke-width:4; stroke-opacity:1; fill:none\" points=\"\n",
       "  878.828,1487.47 878.828,1470.19 \n",
       "  \"/>\n",
       "<polyline clip-path=\"url(#clip2000)\" style=\"stroke:#000000; stroke-width:4; stroke-opacity:1; fill:none\" points=\"\n",
       "  1615.79,1487.47 1615.79,1470.19 \n",
       "  \"/>\n",
       "<polyline clip-path=\"url(#clip2000)\" style=\"stroke:#000000; stroke-width:4; stroke-opacity:1; fill:none\" points=\"\n",
       "  2352.76,1487.47 2352.76,1470.19 \n",
       "  \"/>\n",
       "<polyline clip-path=\"url(#clip2000)\" style=\"stroke:#000000; stroke-width:4; stroke-opacity:1; fill:none\" points=\"\n",
       "  141.865,1411.19 168.395,1411.19 \n",
       "  \"/>\n",
       "<polyline clip-path=\"url(#clip2000)\" style=\"stroke:#000000; stroke-width:4; stroke-opacity:1; fill:none\" points=\"\n",
       "  141.865,1144.78 168.395,1144.78 \n",
       "  \"/>\n",
       "<polyline clip-path=\"url(#clip2000)\" style=\"stroke:#000000; stroke-width:4; stroke-opacity:1; fill:none\" points=\"\n",
       "  141.865,878.366 168.395,878.366 \n",
       "  \"/>\n",
       "<polyline clip-path=\"url(#clip2000)\" style=\"stroke:#000000; stroke-width:4; stroke-opacity:1; fill:none\" points=\"\n",
       "  141.865,611.954 168.395,611.954 \n",
       "  \"/>\n",
       "<polyline clip-path=\"url(#clip2000)\" style=\"stroke:#000000; stroke-width:4; stroke-opacity:1; fill:none\" points=\"\n",
       "  141.865,345.541 168.395,345.541 \n",
       "  \"/>\n",
       "<polyline clip-path=\"url(#clip2000)\" style=\"stroke:#000000; stroke-width:4; stroke-opacity:1; fill:none\" points=\"\n",
       "  141.865,79.1285 168.395,79.1285 \n",
       "  \"/>\n",
       "<g clip-path=\"url(#clip2000)\">\n",
       "<text style=\"fill:#000000; fill-opacity:1; font-family:Arial,Helvetica Neue,Helvetica,sans-serif; font-size:48px; text-anchor:middle;\" transform=\"rotate(0, 141.865, 1541.47)\" x=\"141.865\" y=\"1541.47\">1</text>\n",
       "</g>\n",
       "<g clip-path=\"url(#clip2000)\">\n",
       "<text style=\"fill:#000000; fill-opacity:1; font-family:Arial,Helvetica Neue,Helvetica,sans-serif; font-size:48px; text-anchor:middle;\" transform=\"rotate(0, 878.828, 1541.47)\" x=\"878.828\" y=\"1541.47\">2</text>\n",
       "</g>\n",
       "<g clip-path=\"url(#clip2000)\">\n",
       "<text style=\"fill:#000000; fill-opacity:1; font-family:Arial,Helvetica Neue,Helvetica,sans-serif; font-size:48px; text-anchor:middle;\" transform=\"rotate(0, 1615.79, 1541.47)\" x=\"1615.79\" y=\"1541.47\">3</text>\n",
       "</g>\n",
       "<g clip-path=\"url(#clip2000)\">\n",
       "<text style=\"fill:#000000; fill-opacity:1; font-family:Arial,Helvetica Neue,Helvetica,sans-serif; font-size:48px; text-anchor:middle;\" transform=\"rotate(0, 2352.76, 1541.47)\" x=\"2352.76\" y=\"1541.47\">4</text>\n",
       "</g>\n",
       "<g clip-path=\"url(#clip2000)\">\n",
       "<text style=\"fill:#000000; fill-opacity:1; font-family:Arial,Helvetica Neue,Helvetica,sans-serif; font-size:48px; text-anchor:end;\" transform=\"rotate(0, 117.865, 1428.69)\" x=\"117.865\" y=\"1428.69\">-5</text>\n",
       "</g>\n",
       "<g clip-path=\"url(#clip2000)\">\n",
       "<text style=\"fill:#000000; fill-opacity:1; font-family:Arial,Helvetica Neue,Helvetica,sans-serif; font-size:48px; text-anchor:end;\" transform=\"rotate(0, 117.865, 1162.28)\" x=\"117.865\" y=\"1162.28\">0</text>\n",
       "</g>\n",
       "<g clip-path=\"url(#clip2000)\">\n",
       "<text style=\"fill:#000000; fill-opacity:1; font-family:Arial,Helvetica Neue,Helvetica,sans-serif; font-size:48px; text-anchor:end;\" transform=\"rotate(0, 117.865, 895.866)\" x=\"117.865\" y=\"895.866\">5</text>\n",
       "</g>\n",
       "<g clip-path=\"url(#clip2000)\">\n",
       "<text style=\"fill:#000000; fill-opacity:1; font-family:Arial,Helvetica Neue,Helvetica,sans-serif; font-size:48px; text-anchor:end;\" transform=\"rotate(0, 117.865, 629.454)\" x=\"117.865\" y=\"629.454\">10</text>\n",
       "</g>\n",
       "<g clip-path=\"url(#clip2000)\">\n",
       "<text style=\"fill:#000000; fill-opacity:1; font-family:Arial,Helvetica Neue,Helvetica,sans-serif; font-size:48px; text-anchor:end;\" transform=\"rotate(0, 117.865, 363.041)\" x=\"117.865\" y=\"363.041\">15</text>\n",
       "</g>\n",
       "<g clip-path=\"url(#clip2000)\">\n",
       "<text style=\"fill:#000000; fill-opacity:1; font-family:Arial,Helvetica Neue,Helvetica,sans-serif; font-size:48px; text-anchor:end;\" transform=\"rotate(0, 117.865, 96.6285)\" x=\"117.865\" y=\"96.6285\">20</text>\n",
       "</g>\n",
       "<polyline clip-path=\"url(#clip2002)\" style=\"stroke:#009af9; stroke-width:4; stroke-opacity:1; fill:none\" points=\"\n",
       "  141.865,887.247 163.456,880.245 363.097,817.91 483.073,782.827 584.512,754.767 694.702,726.122 796.288,701.556 905.199,677.346 1031.38,652.27 1143.52,632.87 \n",
       "  1241.85,618.247 1349.07,605.003 1456.91,594.682 1516.53,590.329 1576.15,586.975 1632.88,584.738 1689.61,583.455 1748.59,583.159 1807.57,583.949 1857.22,585.475 \n",
       "  1906.87,587.806 1967.49,591.766 2028.11,596.98 2085.09,603.051 2142.08,610.28 2233.37,624.339 2324.66,641.535 2338.71,644.467 2352.76,647.475 \n",
       "  \"/>\n",
       "<polyline clip-path=\"url(#clip2002)\" style=\"stroke:#ff0000; stroke-width:4; stroke-opacity:1; fill:none\" points=\"\n",
       "  141.865,1446.71 163.456,1446.71 363.097,1446.71 483.073,1446.71 584.512,1446.71 694.702,1446.71 796.288,1446.71 905.199,1446.71 1031.38,1446.71 1143.52,1446.71 \n",
       "  1241.85,1446.71 1349.07,1446.71 1456.91,1446.71 1576.15,1446.71 1689.61,1446.71 1807.57,1446.71 1906.87,1446.71 2028.11,1446.71 2142.08,1446.71 2324.66,1446.71 \n",
       "  2352.76,1446.71 \n",
       "  \"/>\n",
       "<polyline clip-path=\"url(#clip2002)\" style=\"stroke:#ff0000; stroke-width:4; stroke-opacity:1; fill:none\" points=\"\n",
       "  141.865,88.0053 163.456,88.0053 363.097,88.0053 483.073,88.0053 584.512,88.0053 694.702,88.0053 796.288,88.0053 905.199,88.0053 1031.38,88.0053 1143.52,88.0053 \n",
       "  1241.85,88.0053 1349.07,88.0053 1456.91,88.0053 1576.15,88.0053 1689.61,88.0053 1807.57,88.0053 1906.87,88.0053 2028.11,88.0053 2142.08,88.0053 2324.66,88.0053 \n",
       "  2352.76,88.0053 \n",
       "  \"/>\n",
       "</svg>\n"
      ]
     },
     "execution_count": 13,
     "metadata": {},
     "output_type": "execute_result"
    }
   ],
   "source": [
    "plot!(x -> -5.66667, color=\"red\", lab=\"\")\n",
    "plot!(x -> 19.8334, color=\"red\", lab=\"\")"
   ]
  },
  {
   "cell_type": "code",
   "execution_count": 15,
   "metadata": {},
   "outputs": [
    {
     "data": {
      "text/plain": [
       "([1, 2.48829], [2.48828, 4])"
      ]
     },
     "execution_count": 15,
     "metadata": {},
     "output_type": "execute_result"
    }
   ],
   "source": [
    "dom = 1 .. 4\n",
    "x = bisect(dom)"
   ]
  },
  {
   "cell_type": "code",
   "execution_count": 17,
   "metadata": {},
   "outputs": [
    {
     "data": {
      "text/plain": [
       "[2.43228, 12.2748]"
      ]
     },
     "execution_count": 17,
     "metadata": {},
     "output_type": "execute_result"
    }
   ],
   "source": [
    "enclose(f, x[1])"
   ]
  },
  {
   "cell_type": "code",
   "execution_count": 18,
   "metadata": {},
   "outputs": [
    {
     "data": {
      "text/plain": [
       "[1.77473, 17.4323]"
      ]
     },
     "execution_count": 18,
     "metadata": {},
     "output_type": "execute_result"
    }
   ],
   "source": [
    "enclose(f, x[2])"
   ]
  },
  {
   "cell_type": "code",
   "execution_count": 33,
   "metadata": {},
   "outputs": [
    {
     "data": {
      "text/plain": [
       "([2.43228, 12.2748], [1.77473, 17.4323])"
      ]
     },
     "execution_count": 33,
     "metadata": {},
     "output_type": "execute_result"
    }
   ],
   "source": [
    "e = enclose.(f, x)"
   ]
  },
  {
   "cell_type": "code",
   "execution_count": 34,
   "metadata": {},
   "outputs": [
    {
     "data": {
      "text/plain": [
       "[1.77473, 17.4323]"
      ]
     },
     "execution_count": 34,
     "metadata": {},
     "output_type": "execute_result"
    }
   ],
   "source": [
    "union(e[1], e[2])"
   ]
  },
  {
   "cell_type": "code",
   "execution_count": 35,
   "metadata": {},
   "outputs": [
    {
     "data": {
      "text/plain": [
       "[1.77473, 17.4323]"
      ]
     },
     "execution_count": 35,
     "metadata": {},
     "output_type": "execute_result"
    }
   ],
   "source": [
    "# SPLATTING\n",
    "union(e...)"
   ]
  },
  {
   "cell_type": "code",
   "execution_count": 28,
   "metadata": {},
   "outputs": [
    {
     "data": {
      "text/plain": [
       "Tuple{Interval{Float64},Interval{Float64}}"
      ]
     },
     "execution_count": 28,
     "metadata": {},
     "output_type": "execute_result"
    }
   ],
   "source": [
    "typeof(ans)"
   ]
  },
  {
   "cell_type": "code",
   "execution_count": 21,
   "metadata": {},
   "outputs": [
    {
     "data": {
      "text/plain": [
       "[1.77473, 17.4323]"
      ]
     },
     "execution_count": 21,
     "metadata": {},
     "output_type": "execute_result"
    }
   ],
   "source": [
    "union(enclose(f, x[1]), enclose(f, x[2]))"
   ]
  },
  {
   "cell_type": "code",
   "execution_count": 66,
   "metadata": {},
   "outputs": [
    {
     "data": {
      "text/plain": [
       "enclose_binary (generic function with 1 method)"
      ]
     },
     "execution_count": 66,
     "metadata": {},
     "output_type": "execute_result"
    }
   ],
   "source": [
    "function enclose_binary(f, dom; kmax=3, tol=1e-3)\n",
    "    y = enclose(f, dom)\n",
    "    yinf, ysup = inf(y), sup(y)\n",
    "\n",
    "    x = bisect(dom)\n",
    "    ynew = union(enclose.(f, x)...)\n",
    "\n",
    "    ynew_inf, ynew_sup = inf(ynew), sup(ynew)\n",
    "\n",
    "    no_cambia_inf = abs(yinf - ynew_inf) < tol\n",
    "    no_cambia_sup = abs(ysup - ynew_sup) < tol\n",
    "    no_cambia_ninguno = (no_cambia_inf && no_cambia_sup)\n",
    "\n",
    "    empeora_inf = ynew_inf < yinf\n",
    "    empeora_sup = ynew_sup > ysup\n",
    "    empeoran_ambos = empeora_inf && empeora_sup\n",
    "\n",
    "    if kmax == 0 || no_cambia_ninguno || empeoran_ambos\n",
    "        return Interval(yinf, ysup)\n",
    "    end\n",
    "\n",
    "    yinf = max(yinf, ynew_inf) # mejoro al ysup\n",
    "    ysup = min(ysup, ynew_sup)  # mejoro al ysup\n",
    "\n",
    "    e1 = enclose_binary(f, x[1], kmax=kmax-1)\n",
    "    e2 = enclose_binary(f, x[2], kmax=kmax-1)\n",
    "    return Interval(max(inf(e1), inf(e2)), min(sup(e1), sup(e2)))\n",
    "end"
   ]
  },
  {
   "cell_type": "code",
   "execution_count": 67,
   "metadata": {},
   "outputs": [
    {
     "data": {
      "text/plain": [
       "[8.64219, 6.66474]"
      ]
     },
     "execution_count": 67,
     "metadata": {},
     "output_type": "execute_result"
    }
   ],
   "source": [
    "enclose_binary(f, dom)"
   ]
  },
  {
   "cell_type": "code",
   "execution_count": null,
   "metadata": {},
   "outputs": [],
   "source": [
    "function enclose_binary(f, dom; kmax=3, tol=1e-3)\n",
    "    y = enclose(f, dom)\n",
    "    yinf, ysup = inf(y), sup(y)\n",
    "\n",
    "    x = bisect(dom)\n",
    "    ynew = union(enclose.(f, x)...)\n",
    "\n",
    "    ynew_inf, ynew_sup = inf(ynew), sup(ynew)\n",
    "\n",
    "    no_cambia_inf = abs(yinf - ynew_inf) < tol\n",
    "    no_cambia_sup = abs(ysup - ynew_sup) < tol\n",
    "    no_cambia_ninguno = (no_cambia_inf && no_cambia_sup)\n",
    "\n",
    "    empeora_inf = ynew_inf < yinf\n",
    "    empeora_sup = ynew_sup > ysup\n",
    "    empeoran_ambos = empeora_inf && empeora_sup\n",
    "\n",
    "    if kmax == 0 || no_cambia_ninguno || empeoran_ambos\n",
    "        return Interval(yinf, ysup)\n",
    "    end\n",
    "\n",
    "    yinf = max(yinf, ynew_inf) # mejoro al ysup\n",
    "    ysup = min(ysup, ynew_sup)  # mejoro al ysup\n",
    "\n",
    "    e1 = enclose_binary(f, x[1], kmax=kmax-1)\n",
    "    e2 = enclose_binary(f, x[2], kmax=kmax-1)\n",
    "    return Interval(max(inf(e1), inf(e2)), min(sup(e1), sup(e2)))\n",
    "end"
   ]
  },
  {
   "cell_type": "code",
   "execution_count": null,
   "metadata": {},
   "outputs": [],
   "source": [
    "function max_binary(f, dom; maxiter=3, tol=1e-3)\n",
    "    y = enclose(f, dom)\n",
    "    ysup = sup(y)\n",
    "    \n",
    "    k = 0\n",
    "    while k < maxiter\n",
    "        x = bisect(dom)\n",
    "        ynew_left = enclose(f, x[1])\n",
    "        ynew_right = enclose(f, x[2])\n",
    "        ynew_best = min(sup(ynew_left), sup(ynew_right))\n",
    "\n",
    "        # no mejoro\n",
    "        abs(ysup - ynew_best) < tol && break\n",
    "        \n",
    "        \n",
    "    end\n",
    "    return ysup\n",
    "end"
   ]
  },
  {
   "cell_type": "code",
   "execution_count": null,
   "metadata": {},
   "outputs": [],
   "source": [
    "BranchAndPrune.bisect(::MonotoneSearch, interval) = bisect(interval)\n",
    "\n",
    "is_monotonic(x::Interval) = inf(x)*sup(x) > 0"
   ]
  },
  {
   "cell_type": "code",
   "execution_count": null,
   "metadata": {},
   "outputs": [],
   "source": [
    "function run_search(f, interval; tol=1/256, alg=:IntervalArithmetic)\n",
    "    search = MonotoneSearch(f, interval, tol, alg)\n",
    "\n",
    "    local endtree = nothing\n",
    "\n",
    "    for working_tree in search\n",
    "        endtree = working_tree\n",
    "    end\n",
    "\n",
    "    return endtree\n",
    "end"
   ]
  },
  {
   "cell_type": "code",
   "execution_count": null,
   "metadata": {},
   "outputs": [],
   "source": [
    "tree = run_search(f, int)"
   ]
  },
  {
   "cell_type": "code",
   "execution_count": null,
   "metadata": {},
   "outputs": [],
   "source": []
  },
  {
   "cell_type": "markdown",
   "metadata": {},
   "source": [
    "## Modeling toolkit"
   ]
  },
  {
   "cell_type": "code",
   "execution_count": 6,
   "metadata": {},
   "outputs": [
    {
     "name": "stderr",
     "output_type": "stream",
     "text": [
      "┌ Info: Recompiling stale cache file /home/mforets/.julia/compiled/v1.2/ModelingToolkit/Qmdqu.ji for ModelingToolkit [961ee093-0014-501f-94e3-6117800e7a78]\n",
      "└ @ Base loading.jl:1240\n"
     ]
    }
   ],
   "source": [
    "using ModelingToolkit"
   ]
  },
  {
   "cell_type": "code",
   "execution_count": 7,
   "metadata": {},
   "outputs": [
    {
     "data": {
      "text/plain": [
       "(x, y)"
      ]
     },
     "execution_count": 7,
     "metadata": {},
     "output_type": "execute_result"
    }
   ],
   "source": [
    "@variables x y"
   ]
  },
  {
   "cell_type": "code",
   "execution_count": 15,
   "metadata": {},
   "outputs": [
    {
     "data": {
      "text/plain": [
       "((0 < x) | (0 == x)) & ((x + y < 1) | (x + y == 1))"
      ]
     },
     "execution_count": 15,
     "metadata": {},
     "output_type": "execute_result"
    }
   ],
   "source": [
    "expr = (x ≥ 0) & (x + y <= 1)"
   ]
  },
  {
   "cell_type": "code",
   "execution_count": 25,
   "metadata": {},
   "outputs": [
    {
     "data": {
      "text/plain": [
       "(Operation[x₁, x₂, x₃, x₄, x₅, x₆, x₇, x₈, x₉, x₁₀],)"
      ]
     },
     "execution_count": 25,
     "metadata": {},
     "output_type": "execute_result"
    }
   ],
   "source": [
    "@variables x[1:10]"
   ]
  },
  {
   "cell_type": "code",
   "execution_count": 34,
   "metadata": {},
   "outputs": [
    {
     "data": {
      "text/plain": [
       "x₁ * x₂ - x₂ * x₁"
      ]
     },
     "execution_count": 34,
     "metadata": {},
     "output_type": "execute_result"
    }
   ],
   "source": [
    "expr = x[1] * x[2] - x[2]*x[1]"
   ]
  },
  {
   "cell_type": "code",
   "execution_count": 35,
   "metadata": {},
   "outputs": [
    {
     "data": {
      "text/plain": [
       ":(x₁ * x₂ - x₂ * x₁)"
      ]
     },
     "execution_count": 35,
     "metadata": {},
     "output_type": "execute_result"
    }
   ],
   "source": [
    "simplified_expr(expr)"
   ]
  },
  {
   "cell_type": "code",
   "execution_count": 39,
   "metadata": {},
   "outputs": [
    {
     "name": "stdout",
     "output_type": "stream",
     "text": [
      "search: \u001b[0m\u001b[1ms\u001b[22m\u001b[0m\u001b[1mi\u001b[22m\u001b[0m\u001b[1mm\u001b[22m\u001b[0m\u001b[1mp\u001b[22m\u001b[0m\u001b[1ml\u001b[22m\u001b[0m\u001b[1mi\u001b[22m\u001b[0m\u001b[1mf\u001b[22m\u001b[0m\u001b[1mi\u001b[22m\u001b[0m\u001b[1me\u001b[22m\u001b[0m\u001b[1md\u001b[22m\u001b[0m\u001b[1m_\u001b[22m\u001b[0m\u001b[1me\u001b[22m\u001b[0m\u001b[1mx\u001b[22m\u001b[0m\u001b[1mp\u001b[22m\u001b[0m\u001b[1mr\u001b[22m\n",
      "\n"
     ]
    },
    {
     "data": {
      "text/latex": [
       "No documentation found.\n",
       "\n",
       "\\texttt{ModelingToolkit.simplified\\_expr} is a \\texttt{Function}.\n",
       "\n",
       "\\begin{verbatim}\n",
       "# 3 methods for generic function \"simplified_expr\":\n",
       "[1] simplified_expr(eq::Equation) in ModelingToolkit at /home/mforets/.julia/packages/ModelingToolkit/jCiX6/src/direct.jl:33\n",
       "[2] simplified_expr(c::ModelingToolkit.Constant) in ModelingToolkit at /home/mforets/.julia/packages/ModelingToolkit/jCiX6/src/direct.jl:29\n",
       "[3] simplified_expr(O::Operation) in ModelingToolkit at /home/mforets/.julia/packages/ModelingToolkit/jCiX6/src/direct.jl:17\n",
       "\\end{verbatim}\n"
      ],
      "text/markdown": [
       "No documentation found.\n",
       "\n",
       "`ModelingToolkit.simplified_expr` is a `Function`.\n",
       "\n",
       "```\n",
       "# 3 methods for generic function \"simplified_expr\":\n",
       "[1] simplified_expr(eq::Equation) in ModelingToolkit at /home/mforets/.julia/packages/ModelingToolkit/jCiX6/src/direct.jl:33\n",
       "[2] simplified_expr(c::ModelingToolkit.Constant) in ModelingToolkit at /home/mforets/.julia/packages/ModelingToolkit/jCiX6/src/direct.jl:29\n",
       "[3] simplified_expr(O::Operation) in ModelingToolkit at /home/mforets/.julia/packages/ModelingToolkit/jCiX6/src/direct.jl:17\n",
       "```\n"
      ],
      "text/plain": [
       "  No documentation found.\n",
       "\n",
       "  \u001b[36mModelingToolkit.simplified_expr\u001b[39m is a \u001b[36mFunction\u001b[39m.\n",
       "\n",
       "\u001b[36m  # 3 methods for generic function \"simplified_expr\":\u001b[39m\n",
       "\u001b[36m  [1] simplified_expr(eq::Equation) in ModelingToolkit at /home/mforets/.julia/packages/ModelingToolkit/jCiX6/src/direct.jl:33\u001b[39m\n",
       "\u001b[36m  [2] simplified_expr(c::ModelingToolkit.Constant) in ModelingToolkit at /home/mforets/.julia/packages/ModelingToolkit/jCiX6/src/direct.jl:29\u001b[39m\n",
       "\u001b[36m  [3] simplified_expr(O::Operation) in ModelingToolkit at /home/mforets/.julia/packages/ModelingToolkit/jCiX6/src/direct.jl:17\u001b[39m"
      ]
     },
     "execution_count": 39,
     "metadata": {},
     "output_type": "execute_result"
    }
   ],
   "source": [
    "?simplified_expr"
   ]
  },
  {
   "cell_type": "markdown",
   "metadata": {},
   "source": [
    "## TaylorSeries tests"
   ]
  },
  {
   "cell_type": "code",
   "execution_count": 4,
   "metadata": {},
   "outputs": [
    {
     "name": "stdout",
     "output_type": "stream",
     "text": [
      "Running Fateman with order 20...\n"
     ]
    },
    {
     "name": "stderr",
     "output_type": "stream",
     "text": [
      "WARNING: redefining constant x\n",
      "WARNING: redefining constant y\n",
      "WARNING: redefining constant z\n",
      "WARNING: redefining constant w\n"
     ]
    },
    {
     "name": "stdout",
     "output_type": "stream",
     "text": [
      "Running fateman1\n",
      "  2.291712 seconds (1.62 k allocations: 18.456 MiB, 0.25% gc time)\n",
      "\tAverage time of 5 runs: 2.1707496014\n",
      "\tMinimum time of 5 runs: 2.040555202\n",
      "Running fateman2\n",
      "  1.055866 seconds (1.35 k allocations: 14.296 MiB, 0.18% gc time)\n",
      "\tAverage time of 5 runs: 1.090959429\n",
      "\tMinimum time of 5 runs: 1.029898807\n",
      "Running fateman3\n",
      "  2.210042 seconds (3.64 k allocations: 64.430 MiB, 0.15% gc time)\n",
      "\tAverage time of 5 runs: 2.1546272096\n",
      "\tMinimum time of 5 runs: 2.053515894\n",
      "Running fateman4\n",
      "  1.277975 seconds (3.37 k allocations: 60.269 MiB, 0.15% gc time)\n",
      "\tAverage time of 5 runs: 1.084736899\n",
      "\tMinimum time of 5 runs: 1.045711443\n",
      "Done.\n"
     ]
    }
   ],
   "source": [
    "using TaylorSeries, Test\n",
    "\n",
    "const order = 20\n",
    "const x, y, z, w = set_variables(Int128, \"x\", numvars=4, order=2order)\n",
    "\n",
    "function fateman1(degree::Int)\n",
    "    T = Int128\n",
    "    oneH = convert(HomogeneousPolynomial{T},1)#HomogeneousPolynomial(one(T), 0)\n",
    "    # s = 1 + x + y + z + w\n",
    "    s = TaylorN( [oneH, HomogeneousPolynomial([one(T),one(T),one(T),one(T)],1)], degree )\n",
    "    s = s^degree\n",
    "    # s is converted to order 2*ndeg\n",
    "    s = TaylorN(s.coeffs, 2*degree)\n",
    "\n",
    "    s * ( s+1 )\n",
    "end\n",
    "\n",
    "function fateman2(degree::Int)\n",
    "    T = Int128\n",
    "    oneH = convert(HomogeneousPolynomial{T},1)#HomogeneousPolynomial(one(T), 0)\n",
    "    # s = 1 + x + y + z + w\n",
    "    s = TaylorN( [oneH, HomogeneousPolynomial([one(T),one(T),one(T),one(T)],1)], degree )\n",
    "    s = s^degree\n",
    "    # s is converted to order 2*ndeg\n",
    "    s = TaylorN(s.coeffs, 2*degree)\n",
    "    return s^2 + s\n",
    "end\n",
    "\n",
    "function fateman3(degree::Int)\n",
    "    s = x + y + z + w + 1\n",
    "    s = s^degree\n",
    "    s * (s+1)\n",
    "end\n",
    "\n",
    "function fateman4(degree::Int)\n",
    "    s = x + y + z + w + 1\n",
    "    s = s^degree\n",
    "    s^2 + s\n",
    "end\n",
    "\n",
    "function run_fateman(N)\n",
    "    results = Any[]\n",
    "    nn = 5\n",
    "    for f in (fateman1, fateman2, fateman3, fateman4)\n",
    "        f(0)\n",
    "        println(\"Running $f\")\n",
    "        @time result = f(N)\n",
    "        # push!(results, result) # This may take a lot of memory\n",
    "        t = Inf\n",
    "        tav = 0.0\n",
    "        for i = 1:nn\n",
    "            ti = @elapsed f(N)\n",
    "            tav += ti\n",
    "            t = min(t,ti)\n",
    "        end\n",
    "        println(\"\\tAverage time of $nn runs: \", tav/nn)\n",
    "        println(\"\\tMinimum time of $nn runs: \", t)\n",
    "    end\n",
    "    results\n",
    "end\n",
    "\n",
    "\n",
    "println(\"Running Fateman with order $order...\")\n",
    "\n",
    "results = run_fateman(order)\n",
    "\n",
    "println(\"Done.\")\n",
    "\n",
    "# @assert results[1] == results[2] == results[3] == results[4]"
   ]
  },
  {
   "cell_type": "code",
   "execution_count": 3,
   "metadata": {},
   "outputs": [
    {
     "data": {
      "text/plain": [
       "0-element Array{Any,1}"
      ]
     },
     "execution_count": 3,
     "metadata": {},
     "output_type": "execute_result"
    }
   ],
   "source": [
    "results"
   ]
  },
  {
   "cell_type": "code",
   "execution_count": 2,
   "metadata": {},
   "outputs": [
    {
     "ename": "BoundsError",
     "evalue": "BoundsError: attempt to access 0-element Array{Any,1} at index [2]",
     "output_type": "error",
     "traceback": [
      "BoundsError: attempt to access 0-element Array{Any,1} at index [2]",
      "",
      "Stacktrace:",
      " [1] getindex(::Array{Any,1}, ::Int64) at ./array.jl:728",
      " [2] top-level scope at In[2]:1"
     ]
    }
   ],
   "source": [
    "@assert results[1] == results[2] == results[3] == results[4]"
   ]
  },
  {
   "cell_type": "code",
   "execution_count": 1,
   "metadata": {},
   "outputs": [
    {
     "data": {
      "text/plain": [
       "pos (generic function with 1 method)"
      ]
     },
     "execution_count": 1,
     "metadata": {},
     "output_type": "execute_result"
    }
   ],
   "source": [
    "pos(x) = x < 0 ? 0 : x"
   ]
  },
  {
   "cell_type": "code",
   "execution_count": 2,
   "metadata": {},
   "outputs": [
    {
     "name": "stdout",
     "output_type": "stream",
     "text": [
      "Variables\n",
      "  #self#\u001b[36m::Core.Compiler.Const(pos, false)\u001b[39m\n",
      "  x\u001b[36m::Float64\u001b[39m\n",
      "\n",
      "Body\u001b[91m\u001b[1m::Union{Float64, Int64}\u001b[22m\u001b[39m\n",
      "\u001b[90m1 ─\u001b[39m %1 = (x < 0)\u001b[36m::Bool\u001b[39m\n",
      "\u001b[90m└──\u001b[39m      goto #3 if not %1\n",
      "\u001b[90m2 ─\u001b[39m      return 0\n",
      "\u001b[90m3 ─\u001b[39m      return x\n"
     ]
    }
   ],
   "source": [
    "@code_warntype pos(1.0)"
   ]
  },
  {
   "cell_type": "code",
   "execution_count": 3,
   "metadata": {},
   "outputs": [
    {
     "data": {
      "text/plain": [
       "pos_stable (generic function with 1 method)"
      ]
     },
     "execution_count": 3,
     "metadata": {},
     "output_type": "execute_result"
    }
   ],
   "source": [
    "pos_stable(x) = x < 0 ? zero(x) : x"
   ]
  },
  {
   "cell_type": "code",
   "execution_count": 4,
   "metadata": {},
   "outputs": [
    {
     "name": "stdout",
     "output_type": "stream",
     "text": [
      "Variables\n",
      "  #self#\u001b[36m::Core.Compiler.Const(pos_stable, false)\u001b[39m\n",
      "  x\u001b[36m::Float64\u001b[39m\n",
      "\n",
      "Body\u001b[36m::Float64\u001b[39m\n",
      "\u001b[90m1 ─\u001b[39m %1 = (x < 0)\u001b[36m::Bool\u001b[39m\n",
      "\u001b[90m└──\u001b[39m      goto #3 if not %1\n",
      "\u001b[90m2 ─\u001b[39m %3 = Main.zero(x)\u001b[36m::Core.Compiler.Const(0.0, false)\u001b[39m\n",
      "\u001b[90m└──\u001b[39m      return %3\n",
      "\u001b[90m3 ─\u001b[39m      return x\n"
     ]
    }
   ],
   "source": [
    "@code_warntype pos_stable(1.0)"
   ]
  },
  {
   "cell_type": "code",
   "execution_count": 12,
   "metadata": {},
   "outputs": [
    {
     "name": "stdout",
     "output_type": "stream",
     "text": [
      "Variables\n",
      "  #self#\u001b[36m::Core.Compiler.Const(f, false)\u001b[39m\n",
      "  x\u001b[36m::Float64\u001b[39m\n",
      "  y\u001b[36m::Float64\u001b[39m\n",
      "\n",
      "Body\u001b[36m::Float64\u001b[39m\n",
      "\u001b[90m1 ─\u001b[39m %1 = (x + y)\u001b[36m::Float64\u001b[39m\n",
      "\u001b[90m│  \u001b[39m %2 = (%1 - 1.0)\u001b[36m::Float64\u001b[39m\n",
      "\u001b[90m└──\u001b[39m      return %2\n"
     ]
    }
   ],
   "source": [
    "f(x, y) = x + y - 1.0\n",
    "\n",
    "@code_warntype f(1.0, 2.0)"
   ]
  },
  {
   "cell_type": "code",
   "execution_count": 13,
   "metadata": {},
   "outputs": [],
   "source": [
    "using BenchmarkTools"
   ]
  },
  {
   "cell_type": "code",
   "execution_count": 14,
   "metadata": {},
   "outputs": [],
   "source": [
    "x = [rand() for _ in 1:1000];"
   ]
  },
  {
   "cell_type": "code",
   "execution_count": 22,
   "metadata": {},
   "outputs": [
    {
     "data": {
      "text/plain": [
       "g (generic function with 1 method)"
      ]
     },
     "execution_count": 22,
     "metadata": {},
     "output_type": "execute_result"
    }
   ],
   "source": [
    "# g(x) = [pos(xi) for xi in x]; # pos.(x)\n",
    "g(x) = pos.(x)"
   ]
  },
  {
   "cell_type": "code",
   "execution_count": 23,
   "metadata": {},
   "outputs": [
    {
     "name": "stdout",
     "output_type": "stream",
     "text": [
      "  1.300 μs (6 allocations: 8.05 KiB)\n"
     ]
    }
   ],
   "source": [
    "@btime g($x);"
   ]
  },
  {
   "cell_type": "code",
   "execution_count": 24,
   "metadata": {},
   "outputs": [
    {
     "data": {
      "text/plain": [
       "g_stable (generic function with 1 method)"
      ]
     },
     "execution_count": 24,
     "metadata": {},
     "output_type": "execute_result"
    }
   ],
   "source": [
    "#g_stable(x) = [pos_stable(xi) for xi in x]; # pos_stable.(x)\n",
    "g_stable(x) = pos_stable.(x)"
   ]
  },
  {
   "cell_type": "code",
   "execution_count": 25,
   "metadata": {},
   "outputs": [
    {
     "name": "stdout",
     "output_type": "stream",
     "text": [
      "  423.056 ns (1 allocation: 7.94 KiB)\n"
     ]
    }
   ],
   "source": [
    "@btime g_stable($x);"
   ]
  },
  {
   "cell_type": "code",
   "execution_count": null,
   "metadata": {},
   "outputs": [],
   "source": []
  }
 ],
 "metadata": {
  "kernelspec": {
   "display_name": "Julia 1.2.0",
   "language": "julia",
   "name": "julia-1.2"
  },
  "language_info": {
   "file_extension": ".jl",
   "mimetype": "application/julia",
   "name": "julia",
   "version": "1.2.0"
  }
 },
 "nbformat": 4,
 "nbformat_minor": 2
}
