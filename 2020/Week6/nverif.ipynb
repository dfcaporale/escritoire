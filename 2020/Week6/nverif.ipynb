{
 "cells": [
  {
   "cell_type": "markdown",
   "metadata": {},
   "source": [
    "## Initialization"
   ]
  },
  {
   "cell_type": "code",
   "execution_count": 1,
   "metadata": {},
   "outputs": [
    {
     "name": "stderr",
     "output_type": "stream",
     "text": [
      "┌ Info: Recompiling stale cache file /home/mforets/.julia/compiled/v1.2/NeuralVerification/sJvOT.ji for NeuralVerification [146f25fa-00e7-11e9-3ae5-fdbac6e12fa7]\n",
      "└ @ Base loading.jl:1240\n"
     ]
    }
   ],
   "source": [
    "using Revise, LazySets, NeuralVerification\n",
    "using NeuralVerification: ReLU, Id\n",
    "using Plots\n",
    "using BenchmarkTools"
   ]
  },
  {
   "cell_type": "markdown",
   "metadata": {},
   "source": [
    "## Small nnet"
   ]
  },
  {
   "cell_type": "code",
   "execution_count": 2,
   "metadata": {},
   "outputs": [
    {
     "data": {
      "text/plain": [
       "Network(NeuralVerification.Layer[NeuralVerification.Layer{ReLU,Float64}([1.0; 1.0], [1.5, 1.5], ReLU()), NeuralVerification.Layer{ReLU,Float64}([2.0 2.0; 2.0 2.0], [2.5, 2.5], ReLU()), NeuralVerification.Layer{ReLU,Float64}([-3.0 -3.0], [3.5], ReLU())])"
      ]
     },
     "execution_count": 2,
     "metadata": {},
     "output_type": "execute_result"
    }
   ],
   "source": [
    "const path = \"/home/mforets/.julia/dev/NeuralVerification\"\n",
    "\n",
    "small_nnet_file = path * \"/examples/networks/small_nnet_id.nnet\"\n",
    "\n",
    "small_nnet = read_nnet(small_nnet_file, last_layer_activation = ReLU())"
   ]
  },
  {
   "cell_type": "code",
   "execution_count": 3,
   "metadata": {},
   "outputs": [
    {
     "data": {
      "text/plain": [
       "Hyperrectangle{Float64,Array{Float64,1},Array{Float64,1}}([-7.5], [2.5])"
      ]
     },
     "execution_count": 3,
     "metadata": {},
     "output_type": "execute_result"
    }
   ],
   "source": [
    "# The input set is always [-0.9:0.9]\n",
    "in_hyper  = Hyperrectangle(low = [-0.9], high = [0.9])\n",
    "in_hpoly  = convert(HPolytope, in_hyper)\n",
    "\n",
    "# superset of the output\n",
    "out_superset    = Hyperrectangle(low = [-10.0], high = [10.0])\n",
    "# includes points in the output region\n",
    "out_overlapping = Hyperrectangle(low = [-10.0], high = [-5.0])"
   ]
  },
  {
   "cell_type": "code",
   "execution_count": 4,
   "metadata": {},
   "outputs": [
    {
     "data": {
      "text/plain": [
       "Problem{HPolytope{Float64},HPolytope{Float64}}(Network(NeuralVerification.Layer[NeuralVerification.Layer{ReLU,Float64}([1.0; 1.0], [1.5, 1.5], ReLU()), NeuralVerification.Layer{ReLU,Float64}([2.0 2.0; 2.0 2.0], [2.5, 2.5], ReLU()), NeuralVerification.Layer{ReLU,Float64}([-3.0 -3.0], [3.5], ReLU())]), HPolytope{Float64}(HalfSpace{Float64,VN} where VN<:AbstractArray{Float64,1}[HalfSpace{Float64,LazySets.Arrays.SingleEntryVector{Float64}}([1.0], 0.9), HalfSpace{Float64,LazySets.Arrays.SingleEntryVector{Float64}}([-1.0], 0.9)]), HPolytope{Float64}(HalfSpace{Float64,VN} where VN<:AbstractArray{Float64,1}[HalfSpace{Float64,LazySets.Arrays.SingleEntryVector{Float64}}([1.0], 10.0), HalfSpace{Float64,LazySets.Arrays.SingleEntryVector{Float64}}([-1.0], 10.0)]))"
      ]
     },
     "execution_count": 4,
     "metadata": {},
     "output_type": "execute_result"
    }
   ],
   "source": [
    "# Group 1\n",
    "problem_holds = Problem(small_nnet, in_hpoly, convert(HPolytope, out_superset))"
   ]
  },
  {
   "cell_type": "code",
   "execution_count": 5,
   "metadata": {},
   "outputs": [
    {
     "data": {
      "text/plain": [
       "Problem{HPolytope{Float64},HPolytope{Float64}}(Network(NeuralVerification.Layer[NeuralVerification.Layer{ReLU,Float64}([1.0; 1.0], [1.5, 1.5], ReLU()), NeuralVerification.Layer{ReLU,Float64}([2.0 2.0; 2.0 2.0], [2.5, 2.5], ReLU()), NeuralVerification.Layer{ReLU,Float64}([-3.0 -3.0], [3.5], ReLU())]), HPolytope{Float64}(HalfSpace{Float64,VN} where VN<:AbstractArray{Float64,1}[HalfSpace{Float64,LazySets.Arrays.SingleEntryVector{Float64}}([1.0], 0.9), HalfSpace{Float64,LazySets.Arrays.SingleEntryVector{Float64}}([-1.0], 0.9)]), HPolytope{Float64}(HalfSpace{Float64,VN} where VN<:AbstractArray{Float64,1}[HalfSpace{Float64,LazySets.Arrays.SingleEntryVector{Float64}}([1.0], -5.0), HalfSpace{Float64,LazySets.Arrays.SingleEntryVector{Float64}}([-1.0], 10.0)]))"
      ]
     },
     "execution_count": 5,
     "metadata": {},
     "output_type": "execute_result"
    }
   ],
   "source": [
    "problem_violated = Problem(small_nnet, in_hpoly, convert(HPolytope, out_overlapping))"
   ]
  },
  {
   "cell_type": "code",
   "execution_count": 6,
   "metadata": {},
   "outputs": [
    {
     "name": "stderr",
     "output_type": "stream",
     "text": [
      "┌ Info: MaxSens overapproximates HPolytope input sets as Hyperrectangles.\n",
      "└ @ NeuralVerification /home/mforets/.julia/dev/NeuralVerification/src/reachability/maxSens.jl:91\n"
     ]
    },
    {
     "data": {
      "text/plain": [
       "ReachabilityResult(:holds, Hyperrectangle{Float64,Array{Float64,1},Array{Float64,1}}[])"
      ]
     },
     "execution_count": 6,
     "metadata": {},
     "output_type": "execute_result"
    }
   ],
   "source": [
    "holds = solve(MaxSens(resolution = 0.6), problem_holds)"
   ]
  },
  {
   "cell_type": "code",
   "execution_count": 14,
   "metadata": {},
   "outputs": [
    {
     "name": "stdout",
     "output_type": "stream",
     "text": [
      " = = enter = = \n",
      "typeof(M) = Array{Float64,2}\n",
      "typeof(P) = HPolytope{Float64}\n",
      "typeof(P.constraints[1]) = HalfSpace{Float64,Array{Float64,1}}\n",
      "typeof(Ax_leq_b) = Array{Polyhedra.HalfSpace{Float64,Array{Float64,1}},1}\n",
      "typeof(y_eq_Mx) = Array{Polyhedra.HyperPlane{Float64,Array{Float64,1}},1}\n",
      " = = end = =\n",
      " = = enter = = \n",
      "typeof(M) = Array{Float64,2}\n",
      "typeof(P) = HPolytope{Float64}\n",
      "typeof(P.constraints[1]) = HalfSpace{Float64,Array{Float64,1}}\n",
      "typeof(Ax_leq_b) = Array{Polyhedra.HalfSpace{Float64,Array{Float64,1}},1}\n",
      "typeof(y_eq_Mx) = Array{Polyhedra.HyperPlane{Float64,Array{Float64,1}},1}\n",
      " = = end = =\n",
      " = = enter = = \n",
      "typeof(M) = Array{Float64,2}\n",
      "typeof(P) = HPolytope{Float64}\n",
      "typeof(P.constraints[1]) = HalfSpace{Float64,SparseArrays.SparseVector{Float64,Int64}}\n",
      "typeof(Ax_leq_b) = Array{Polyhedra.HalfSpace{Float64,Array{Float64,1}},1}\n",
      "typeof(y_eq_Mx) = Array{Polyhedra.HyperPlane{Float64,Array{Float64,1}},1}\n",
      " = = end = =\n"
     ]
    },
    {
     "data": {
      "text/plain": [
       "ReachabilityResult(:holds, HPolytope[])"
      ]
     },
     "execution_count": 14,
     "metadata": {},
     "output_type": "execute_result"
    }
   ],
   "source": [
    "holds = solve(ExactReach(), problem_holds)"
   ]
  },
  {
   "cell_type": "markdown",
   "metadata": {},
   "source": [
    "# Debug. . ."
   ]
  },
  {
   "cell_type": "code",
   "execution_count": 11,
   "metadata": {},
   "outputs": [
    {
     "data": {
      "text/plain": [
       "forward_layer2 (generic function with 3 methods)"
      ]
     },
     "execution_count": 11,
     "metadata": {},
     "output_type": "execute_result"
    }
   ],
   "source": [
    "using NeuralVerification: Layer, forward_partition\n",
    "\n",
    "function solve2(solver::ExactReach, problem::Problem)\n",
    "    reach = forward_network2(solver, problem.network, problem.input)\n",
    "    return check_inclusion(reach, problem.output)\n",
    "end\n",
    "\n",
    "function forward_network2(solver, nnet::Network, input::AbstractPolytope)\n",
    "    reach = input\n",
    "    for layer in nnet.layers\n",
    "        reach = forward_layer2(solver, layer, reach)\n",
    "    end\n",
    "    return reach\n",
    "end\n",
    "\n",
    "forward_layer2(solver::ExactReach, layer::Layer, input) = forward_layer2(solver, layer, convert(HPolytope, input))\n",
    "\n",
    "function forward_layer2(solver::ExactReach, layer::Layer, input::HPolytope)\n",
    "    input = NeuralVerification.affine_map(layer, input)\n",
    "    return forward_partition(layer.activation, input)\n",
    "end\n",
    "\n",
    "function forward_layer2(solver::ExactReach, layer::Layer, input::Vector{HPolytope})\n",
    "    output = Vector{HPolytope}(undef, 0)\n",
    "\n",
    "    for i in 1:length(input)\n",
    "        input[i] = NeuralVerification.affine_map(layer, input[i])\n",
    "        append!(output, forward_partition(layer.activation, input[i]))\n",
    "    end\n",
    "    return output\n",
    "end"
   ]
  },
  {
   "cell_type": "code",
   "execution_count": 12,
   "metadata": {},
   "outputs": [
    {
     "data": {
      "text/plain": [
       "ExactReach()"
      ]
     },
     "execution_count": 12,
     "metadata": {},
     "output_type": "execute_result"
    }
   ],
   "source": [
    "# prepare data\n",
    "solver = ExactReach()"
   ]
  },
  {
   "cell_type": "code",
   "execution_count": 13,
   "metadata": {},
   "outputs": [
    {
     "data": {
      "text/plain": [
       "Network(Layer[Layer{ReLU,Float64}([1.0; 1.0], [1.5, 1.5], ReLU()), Layer{ReLU,Float64}([2.0 2.0; 2.0 2.0], [2.5, 2.5], ReLU()), Layer{ReLU,Float64}([-3.0 -3.0], [3.5], ReLU())])"
      ]
     },
     "execution_count": 13,
     "metadata": {},
     "output_type": "execute_result"
    }
   ],
   "source": [
    "nnet = problem_holds.network"
   ]
  },
  {
   "cell_type": "code",
   "execution_count": 14,
   "metadata": {},
   "outputs": [
    {
     "data": {
      "text/plain": [
       "2-element Array{HalfSpace{Float64,VN} where VN<:AbstractArray{Float64,1},1}:\n",
       " HalfSpace{Float64,LazySets.Arrays.SingleEntryVector{Float64}}([1.0], 0.9) \n",
       " HalfSpace{Float64,LazySets.Arrays.SingleEntryVector{Float64}}([-1.0], 0.9)"
      ]
     },
     "execution_count": 14,
     "metadata": {},
     "output_type": "execute_result"
    }
   ],
   "source": [
    "input = problem_holds.input\n",
    "input.constraints"
   ]
  },
  {
   "cell_type": "code",
   "execution_count": 15,
   "metadata": {},
   "outputs": [
    {
     "data": {
      "text/plain": [
       "2-element Array{HalfSpace{Float64,VN} where VN<:AbstractArray{Float64,1},1}:\n",
       " HalfSpace{Float64,LazySets.Arrays.SingleEntryVector{Float64}}([1.0], 10.0) \n",
       " HalfSpace{Float64,LazySets.Arrays.SingleEntryVector{Float64}}([-1.0], 10.0)"
      ]
     },
     "execution_count": 15,
     "metadata": {},
     "output_type": "execute_result"
    }
   ],
   "source": [
    "output = problem_holds.output\n",
    "output.constraints"
   ]
  },
  {
   "cell_type": "code",
   "execution_count": 17,
   "metadata": {},
   "outputs": [
    {
     "data": {
      "text/plain": [
       "3-element Array{Layer,1}:\n",
       " Layer{ReLU,Float64}([1.0; 1.0], [1.5, 1.5], ReLU())        \n",
       " Layer{ReLU,Float64}([2.0 2.0; 2.0 2.0], [2.5, 2.5], ReLU())\n",
       " Layer{ReLU,Float64}([-3.0 -3.0], [3.5], ReLU())            "
      ]
     },
     "execution_count": 17,
     "metadata": {},
     "output_type": "execute_result"
    }
   ],
   "source": [
    "nnet.layers"
   ]
  },
  {
   "cell_type": "code",
   "execution_count": 18,
   "metadata": {},
   "outputs": [
    {
     "data": {
      "text/plain": [
       "Layer{ReLU,Float64}([1.0; 1.0], [1.5, 1.5], ReLU())"
      ]
     },
     "execution_count": 18,
     "metadata": {},
     "output_type": "execute_result"
    }
   ],
   "source": [
    "layer = nnet.layers[1]"
   ]
  },
  {
   "cell_type": "code",
   "execution_count": 24,
   "metadata": {},
   "outputs": [
    {
     "data": {
      "text/plain": [
       "1×2 Array{Float64,2}:\n",
       " -3.0  -3.0"
      ]
     },
     "execution_count": 24,
     "metadata": {},
     "output_type": "execute_result"
    }
   ],
   "source": [
    "nnet.layers[3].weights"
   ]
  },
  {
   "cell_type": "code",
   "execution_count": 187,
   "metadata": {},
   "outputs": [
    {
     "data": {
      "text/plain": [
       "HPolytope{Float64}(HalfSpace{Float64,VN} where VN<:AbstractArray{Float64,1}[HalfSpace{Float64,Array{Float64,1}}([1.7999999999999998, 1.7999999999999998], 8.639999999999999), HalfSpace{Float64,Array{Float64,1}}([-1.7999999999999998, 1.7999999999999998], 0.0), HalfSpace{Float64,Array{Float64,1}}([-1.7999999999999998, -1.7999999999999998], -2.1599999999999997), HalfSpace{Float64,Array{Float64,1}}([1.7999999999999998, -1.7999999999999998], -0.0)])"
      ]
     },
     "execution_count": 187,
     "metadata": {},
     "output_type": "execute_result"
    }
   ],
   "source": [
    "v1 = linear_map(layer.weights, input) # this returns a vpolytope\n",
    "# we should use followed by a translation, or directly let affine_map work with algorithm...\n",
    "# translate(linear_map(layer.weights, input, algorithm=\"lift\"), layer.bias)\n",
    "# affine_map(layer.weights, input, layer.bias, algorithm=\"lift\") # ??\n",
    "\n",
    "# this is done in NeuralVerification: and then converted back to hrep\n",
    "# NeuralVerification.translate(layer.bias, NeuralVerification.linear_map(layer.weights, input))\n",
    "v1 = translate(v1, layer.bias)\n",
    "h1 = convert(HPolytope, v1)"
   ]
  },
  {
   "cell_type": "code",
   "execution_count": 190,
   "metadata": {},
   "outputs": [
    {
     "name": "stdout",
     "output_type": "stream",
     "text": [
      "typeof(a) = Array{HPolytope,1}\n"
     ]
    },
    {
     "data": {
      "text/plain": [
       "6-element Array{HalfSpace{Float64,VN} where VN<:AbstractArray{Float64,1},1}:\n",
       " HalfSpace{Float64,Array{Float64,1}}([1.7999999999999998, 1.7999999999999998], 8.639999999999999)    \n",
       " HalfSpace{Float64,Array{Float64,1}}([-1.7999999999999998, 1.7999999999999998], 0.0)                 \n",
       " HalfSpace{Float64,Array{Float64,1}}([-1.7999999999999998, -1.7999999999999998], -2.1599999999999997)\n",
       " HalfSpace{Float64,Array{Float64,1}}([1.7999999999999998, -1.7999999999999998], -0.0)                \n",
       " HalfSpace{Float64,Array{Float64,1}}([-1.0, 0.0], 0.0)                                               \n",
       " HalfSpace{Float64,Array{Float64,1}}([0.0, -1.0], 0.0)                                               "
      ]
     },
     "execution_count": 190,
     "metadata": {},
     "output_type": "execute_result"
    }
   ],
   "source": [
    "# the function forward_partition does the same as \n",
    "# LazySets.to_union_of_projections\n",
    "a = forward_partition(layer.activation, h1)\n",
    "@show typeof(a)\n",
    "a[1].constraints"
   ]
  },
  {
   "cell_type": "code",
   "execution_count": 184,
   "metadata": {},
   "outputs": [
    {
     "data": {
      "text/plain": [
       "4-element Array{HalfSpace{Float64,VN} where VN<:AbstractArray{Float64,1},1}:\n",
       " HalfSpace{Float64,Array{Float64,1}}([1.7999999999999998, 1.7999999999999998], 8.639999999999999)    \n",
       " HalfSpace{Float64,Array{Float64,1}}([-1.7999999999999998, 1.7999999999999998], 0.0)                 \n",
       " HalfSpace{Float64,Array{Float64,1}}([-1.7999999999999998, -1.7999999999999998], -2.1599999999999997)\n",
       " HalfSpace{Float64,Array{Float64,1}}([1.7999999999999998, -1.7999999999999998], -0.0)                "
      ]
     },
     "execution_count": 184,
     "metadata": {},
     "output_type": "execute_result"
    }
   ],
   "source": [
    "a2 = LazySets.to_union_of_projections(Rectification(h1))\n",
    "a2.constraints"
   ]
  },
  {
   "cell_type": "code",
   "execution_count": 126,
   "metadata": {},
   "outputs": [
    {
     "data": {
      "image/svg+xml": [
       "<?xml version=\"1.0\" encoding=\"utf-8\"?>\n",
       "<svg xmlns=\"http://www.w3.org/2000/svg\" xmlns:xlink=\"http://www.w3.org/1999/xlink\" width=\"600\" height=\"400\" viewBox=\"0 0 2400 1600\">\n",
       "<defs>\n",
       "  <clipPath id=\"clip3900\">\n",
       "    <rect x=\"0\" y=\"0\" width=\"2400\" height=\"1600\"/>\n",
       "  </clipPath>\n",
       "</defs>\n",
       "<path clip-path=\"url(#clip3900)\" d=\"\n",
       "M0 1600 L2400 1600 L2400 0 L0 0  Z\n",
       "  \" fill=\"#ffffff\" fill-rule=\"evenodd\" fill-opacity=\"1\"/>\n",
       "<defs>\n",
       "  <clipPath id=\"clip3901\">\n",
       "    <rect x=\"480\" y=\"0\" width=\"1681\" height=\"1600\"/>\n",
       "  </clipPath>\n",
       "</defs>\n",
       "<path clip-path=\"url(#clip3900)\" d=\"\n",
       "M180.66 1487.47 L2352.76 1487.47 L2352.76 47.2441 L180.66 47.2441  Z\n",
       "  \" fill=\"#ffffff\" fill-rule=\"evenodd\" fill-opacity=\"1\"/>\n",
       "<defs>\n",
       "  <clipPath id=\"clip3902\">\n",
       "    <rect x=\"180\" y=\"47\" width=\"2173\" height=\"1441\"/>\n",
       "  </clipPath>\n",
       "</defs>\n",
       "<polyline clip-path=\"url(#clip3902)\" style=\"stroke:#000000; stroke-width:2; stroke-opacity:0.1; fill:none\" points=\"\n",
       "  412.897,1487.47 412.897,47.2441 \n",
       "  \"/>\n",
       "<polyline clip-path=\"url(#clip3902)\" style=\"stroke:#000000; stroke-width:2; stroke-opacity:0.1; fill:none\" points=\"\n",
       "  697.501,1487.47 697.501,47.2441 \n",
       "  \"/>\n",
       "<polyline clip-path=\"url(#clip3902)\" style=\"stroke:#000000; stroke-width:2; stroke-opacity:0.1; fill:none\" points=\"\n",
       "  982.104,1487.47 982.104,47.2441 \n",
       "  \"/>\n",
       "<polyline clip-path=\"url(#clip3902)\" style=\"stroke:#000000; stroke-width:2; stroke-opacity:0.1; fill:none\" points=\"\n",
       "  1266.71,1487.47 1266.71,47.2441 \n",
       "  \"/>\n",
       "<polyline clip-path=\"url(#clip3902)\" style=\"stroke:#000000; stroke-width:2; stroke-opacity:0.1; fill:none\" points=\"\n",
       "  1551.31,1487.47 1551.31,47.2441 \n",
       "  \"/>\n",
       "<polyline clip-path=\"url(#clip3902)\" style=\"stroke:#000000; stroke-width:2; stroke-opacity:0.1; fill:none\" points=\"\n",
       "  1835.92,1487.47 1835.92,47.2441 \n",
       "  \"/>\n",
       "<polyline clip-path=\"url(#clip3902)\" style=\"stroke:#000000; stroke-width:2; stroke-opacity:0.1; fill:none\" points=\"\n",
       "  2120.52,1487.47 2120.52,47.2441 \n",
       "  \"/>\n",
       "<polyline clip-path=\"url(#clip3902)\" style=\"stroke:#000000; stroke-width:2; stroke-opacity:0.1; fill:none\" points=\"\n",
       "  180.66,1333.49 2352.76,1333.49 \n",
       "  \"/>\n",
       "<polyline clip-path=\"url(#clip3902)\" style=\"stroke:#000000; stroke-width:2; stroke-opacity:0.1; fill:none\" points=\"\n",
       "  180.66,1144.78 2352.76,1144.78 \n",
       "  \"/>\n",
       "<polyline clip-path=\"url(#clip3902)\" style=\"stroke:#000000; stroke-width:2; stroke-opacity:0.1; fill:none\" points=\"\n",
       "  180.66,956.069 2352.76,956.069 \n",
       "  \"/>\n",
       "<polyline clip-path=\"url(#clip3902)\" style=\"stroke:#000000; stroke-width:2; stroke-opacity:0.1; fill:none\" points=\"\n",
       "  180.66,767.359 2352.76,767.359 \n",
       "  \"/>\n",
       "<polyline clip-path=\"url(#clip3902)\" style=\"stroke:#000000; stroke-width:2; stroke-opacity:0.1; fill:none\" points=\"\n",
       "  180.66,578.65 2352.76,578.65 \n",
       "  \"/>\n",
       "<polyline clip-path=\"url(#clip3902)\" style=\"stroke:#000000; stroke-width:2; stroke-opacity:0.1; fill:none\" points=\"\n",
       "  180.66,389.94 2352.76,389.94 \n",
       "  \"/>\n",
       "<polyline clip-path=\"url(#clip3902)\" style=\"stroke:#000000; stroke-width:2; stroke-opacity:0.1; fill:none\" points=\"\n",
       "  180.66,201.231 2352.76,201.231 \n",
       "  \"/>\n",
       "<polyline clip-path=\"url(#clip3900)\" style=\"stroke:#000000; stroke-width:4; stroke-opacity:1; fill:none\" points=\"\n",
       "  180.66,1487.47 2352.76,1487.47 \n",
       "  \"/>\n",
       "<polyline clip-path=\"url(#clip3900)\" style=\"stroke:#000000; stroke-width:4; stroke-opacity:1; fill:none\" points=\"\n",
       "  180.66,1487.47 180.66,47.2441 \n",
       "  \"/>\n",
       "<polyline clip-path=\"url(#clip3900)\" style=\"stroke:#000000; stroke-width:4; stroke-opacity:1; fill:none\" points=\"\n",
       "  412.897,1487.47 412.897,1470.19 \n",
       "  \"/>\n",
       "<polyline clip-path=\"url(#clip3900)\" style=\"stroke:#000000; stroke-width:4; stroke-opacity:1; fill:none\" points=\"\n",
       "  697.501,1487.47 697.501,1470.19 \n",
       "  \"/>\n",
       "<polyline clip-path=\"url(#clip3900)\" style=\"stroke:#000000; stroke-width:4; stroke-opacity:1; fill:none\" points=\"\n",
       "  982.104,1487.47 982.104,1470.19 \n",
       "  \"/>\n",
       "<polyline clip-path=\"url(#clip3900)\" style=\"stroke:#000000; stroke-width:4; stroke-opacity:1; fill:none\" points=\"\n",
       "  1266.71,1487.47 1266.71,1470.19 \n",
       "  \"/>\n",
       "<polyline clip-path=\"url(#clip3900)\" style=\"stroke:#000000; stroke-width:4; stroke-opacity:1; fill:none\" points=\"\n",
       "  1551.31,1487.47 1551.31,1470.19 \n",
       "  \"/>\n",
       "<polyline clip-path=\"url(#clip3900)\" style=\"stroke:#000000; stroke-width:4; stroke-opacity:1; fill:none\" points=\"\n",
       "  1835.92,1487.47 1835.92,1470.19 \n",
       "  \"/>\n",
       "<polyline clip-path=\"url(#clip3900)\" style=\"stroke:#000000; stroke-width:4; stroke-opacity:1; fill:none\" points=\"\n",
       "  2120.52,1487.47 2120.52,1470.19 \n",
       "  \"/>\n",
       "<polyline clip-path=\"url(#clip3900)\" style=\"stroke:#000000; stroke-width:4; stroke-opacity:1; fill:none\" points=\"\n",
       "  180.66,1333.49 206.725,1333.49 \n",
       "  \"/>\n",
       "<polyline clip-path=\"url(#clip3900)\" style=\"stroke:#000000; stroke-width:4; stroke-opacity:1; fill:none\" points=\"\n",
       "  180.66,1144.78 206.725,1144.78 \n",
       "  \"/>\n",
       "<polyline clip-path=\"url(#clip3900)\" style=\"stroke:#000000; stroke-width:4; stroke-opacity:1; fill:none\" points=\"\n",
       "  180.66,956.069 206.725,956.069 \n",
       "  \"/>\n",
       "<polyline clip-path=\"url(#clip3900)\" style=\"stroke:#000000; stroke-width:4; stroke-opacity:1; fill:none\" points=\"\n",
       "  180.66,767.359 206.725,767.359 \n",
       "  \"/>\n",
       "<polyline clip-path=\"url(#clip3900)\" style=\"stroke:#000000; stroke-width:4; stroke-opacity:1; fill:none\" points=\"\n",
       "  180.66,578.65 206.725,578.65 \n",
       "  \"/>\n",
       "<polyline clip-path=\"url(#clip3900)\" style=\"stroke:#000000; stroke-width:4; stroke-opacity:1; fill:none\" points=\"\n",
       "  180.66,389.94 206.725,389.94 \n",
       "  \"/>\n",
       "<polyline clip-path=\"url(#clip3900)\" style=\"stroke:#000000; stroke-width:4; stroke-opacity:1; fill:none\" points=\"\n",
       "  180.66,201.231 206.725,201.231 \n",
       "  \"/>\n",
       "<g clip-path=\"url(#clip3900)\">\n",
       "<text style=\"fill:#000000; fill-opacity:1; font-family:Arial,Helvetica Neue,Helvetica,sans-serif; font-size:48px; text-anchor:middle;\" transform=\"rotate(0, 412.897, 1541.47)\" x=\"412.897\" y=\"1541.47\">0.75</text>\n",
       "</g>\n",
       "<g clip-path=\"url(#clip3900)\">\n",
       "<text style=\"fill:#000000; fill-opacity:1; font-family:Arial,Helvetica Neue,Helvetica,sans-serif; font-size:48px; text-anchor:middle;\" transform=\"rotate(0, 697.501, 1541.47)\" x=\"697.501\" y=\"1541.47\">1.00</text>\n",
       "</g>\n",
       "<g clip-path=\"url(#clip3900)\">\n",
       "<text style=\"fill:#000000; fill-opacity:1; font-family:Arial,Helvetica Neue,Helvetica,sans-serif; font-size:48px; text-anchor:middle;\" transform=\"rotate(0, 982.104, 1541.47)\" x=\"982.104\" y=\"1541.47\">1.25</text>\n",
       "</g>\n",
       "<g clip-path=\"url(#clip3900)\">\n",
       "<text style=\"fill:#000000; fill-opacity:1; font-family:Arial,Helvetica Neue,Helvetica,sans-serif; font-size:48px; text-anchor:middle;\" transform=\"rotate(0, 1266.71, 1541.47)\" x=\"1266.71\" y=\"1541.47\">1.50</text>\n",
       "</g>\n",
       "<g clip-path=\"url(#clip3900)\">\n",
       "<text style=\"fill:#000000; fill-opacity:1; font-family:Arial,Helvetica Neue,Helvetica,sans-serif; font-size:48px; text-anchor:middle;\" transform=\"rotate(0, 1551.31, 1541.47)\" x=\"1551.31\" y=\"1541.47\">1.75</text>\n",
       "</g>\n",
       "<g clip-path=\"url(#clip3900)\">\n",
       "<text style=\"fill:#000000; fill-opacity:1; font-family:Arial,Helvetica Neue,Helvetica,sans-serif; font-size:48px; text-anchor:middle;\" transform=\"rotate(0, 1835.92, 1541.47)\" x=\"1835.92\" y=\"1541.47\">2.00</text>\n",
       "</g>\n",
       "<g clip-path=\"url(#clip3900)\">\n",
       "<text style=\"fill:#000000; fill-opacity:1; font-family:Arial,Helvetica Neue,Helvetica,sans-serif; font-size:48px; text-anchor:middle;\" transform=\"rotate(0, 2120.52, 1541.47)\" x=\"2120.52\" y=\"1541.47\">2.25</text>\n",
       "</g>\n",
       "<g clip-path=\"url(#clip3900)\">\n",
       "<text style=\"fill:#000000; fill-opacity:1; font-family:Arial,Helvetica Neue,Helvetica,sans-serif; font-size:48px; text-anchor:end;\" transform=\"rotate(0, 156.66, 1350.99)\" x=\"156.66\" y=\"1350.99\">0.75</text>\n",
       "</g>\n",
       "<g clip-path=\"url(#clip3900)\">\n",
       "<text style=\"fill:#000000; fill-opacity:1; font-family:Arial,Helvetica Neue,Helvetica,sans-serif; font-size:48px; text-anchor:end;\" transform=\"rotate(0, 156.66, 1162.28)\" x=\"156.66\" y=\"1162.28\">1.00</text>\n",
       "</g>\n",
       "<g clip-path=\"url(#clip3900)\">\n",
       "<text style=\"fill:#000000; fill-opacity:1; font-family:Arial,Helvetica Neue,Helvetica,sans-serif; font-size:48px; text-anchor:end;\" transform=\"rotate(0, 156.66, 973.569)\" x=\"156.66\" y=\"973.569\">1.25</text>\n",
       "</g>\n",
       "<g clip-path=\"url(#clip3900)\">\n",
       "<text style=\"fill:#000000; fill-opacity:1; font-family:Arial,Helvetica Neue,Helvetica,sans-serif; font-size:48px; text-anchor:end;\" transform=\"rotate(0, 156.66, 784.859)\" x=\"156.66\" y=\"784.859\">1.50</text>\n",
       "</g>\n",
       "<g clip-path=\"url(#clip3900)\">\n",
       "<text style=\"fill:#000000; fill-opacity:1; font-family:Arial,Helvetica Neue,Helvetica,sans-serif; font-size:48px; text-anchor:end;\" transform=\"rotate(0, 156.66, 596.15)\" x=\"156.66\" y=\"596.15\">1.75</text>\n",
       "</g>\n",
       "<g clip-path=\"url(#clip3900)\">\n",
       "<text style=\"fill:#000000; fill-opacity:1; font-family:Arial,Helvetica Neue,Helvetica,sans-serif; font-size:48px; text-anchor:end;\" transform=\"rotate(0, 156.66, 407.44)\" x=\"156.66\" y=\"407.44\">2.00</text>\n",
       "</g>\n",
       "<g clip-path=\"url(#clip3900)\">\n",
       "<text style=\"fill:#000000; fill-opacity:1; font-family:Arial,Helvetica Neue,Helvetica,sans-serif; font-size:48px; text-anchor:end;\" transform=\"rotate(0, 156.66, 218.731)\" x=\"156.66\" y=\"218.731\">2.25</text>\n",
       "</g>\n",
       "<path clip-path=\"url(#clip3902)\" d=\"\n",
       "M242.135 1446.71 L2291.28 88.0053 L242.135 1446.71 L242.135 1446.71  Z\n",
       "  \" fill=\"#009af9\" fill-rule=\"evenodd\" fill-opacity=\"0.5\"/>\n",
       "<polyline clip-path=\"url(#clip3902)\" style=\"stroke:#000000; stroke-width:4; stroke-opacity:0.5; fill:none\" points=\"\n",
       "  242.135,1446.71 2291.28,88.0053 242.135,1446.71 \n",
       "  \"/>\n",
       "</svg>\n"
      ]
     },
     "execution_count": 126,
     "metadata": {},
     "output_type": "execute_result"
    }
   ],
   "source": [
    "plot(a[1])"
   ]
  },
  {
   "cell_type": "code",
   "execution_count": 127,
   "metadata": {},
   "outputs": [
    {
     "data": {
      "image/svg+xml": [
       "<?xml version=\"1.0\" encoding=\"utf-8\"?>\n",
       "<svg xmlns=\"http://www.w3.org/2000/svg\" xmlns:xlink=\"http://www.w3.org/1999/xlink\" width=\"600\" height=\"400\" viewBox=\"0 0 2400 1600\">\n",
       "<defs>\n",
       "  <clipPath id=\"clip4300\">\n",
       "    <rect x=\"0\" y=\"0\" width=\"2400\" height=\"1600\"/>\n",
       "  </clipPath>\n",
       "</defs>\n",
       "<path clip-path=\"url(#clip4300)\" d=\"\n",
       "M0 1600 L2400 1600 L2400 0 L0 0  Z\n",
       "  \" fill=\"#ffffff\" fill-rule=\"evenodd\" fill-opacity=\"1\"/>\n",
       "<defs>\n",
       "  <clipPath id=\"clip4301\">\n",
       "    <rect x=\"480\" y=\"0\" width=\"1681\" height=\"1600\"/>\n",
       "  </clipPath>\n",
       "</defs>\n",
       "<path clip-path=\"url(#clip4300)\" d=\"\n",
       "M180.66 1487.47 L2352.76 1487.47 L2352.76 47.2441 L180.66 47.2441  Z\n",
       "  \" fill=\"#ffffff\" fill-rule=\"evenodd\" fill-opacity=\"1\"/>\n",
       "<defs>\n",
       "  <clipPath id=\"clip4302\">\n",
       "    <rect x=\"180\" y=\"47\" width=\"2173\" height=\"1441\"/>\n",
       "  </clipPath>\n",
       "</defs>\n",
       "<polyline clip-path=\"url(#clip4302)\" style=\"stroke:#000000; stroke-width:2; stroke-opacity:0.1; fill:none\" points=\"\n",
       "  412.897,1487.47 412.897,47.2441 \n",
       "  \"/>\n",
       "<polyline clip-path=\"url(#clip4302)\" style=\"stroke:#000000; stroke-width:2; stroke-opacity:0.1; fill:none\" points=\"\n",
       "  697.501,1487.47 697.501,47.2441 \n",
       "  \"/>\n",
       "<polyline clip-path=\"url(#clip4302)\" style=\"stroke:#000000; stroke-width:2; stroke-opacity:0.1; fill:none\" points=\"\n",
       "  982.104,1487.47 982.104,47.2441 \n",
       "  \"/>\n",
       "<polyline clip-path=\"url(#clip4302)\" style=\"stroke:#000000; stroke-width:2; stroke-opacity:0.1; fill:none\" points=\"\n",
       "  1266.71,1487.47 1266.71,47.2441 \n",
       "  \"/>\n",
       "<polyline clip-path=\"url(#clip4302)\" style=\"stroke:#000000; stroke-width:2; stroke-opacity:0.1; fill:none\" points=\"\n",
       "  1551.31,1487.47 1551.31,47.2441 \n",
       "  \"/>\n",
       "<polyline clip-path=\"url(#clip4302)\" style=\"stroke:#000000; stroke-width:2; stroke-opacity:0.1; fill:none\" points=\"\n",
       "  1835.92,1487.47 1835.92,47.2441 \n",
       "  \"/>\n",
       "<polyline clip-path=\"url(#clip4302)\" style=\"stroke:#000000; stroke-width:2; stroke-opacity:0.1; fill:none\" points=\"\n",
       "  2120.52,1487.47 2120.52,47.2441 \n",
       "  \"/>\n",
       "<polyline clip-path=\"url(#clip4302)\" style=\"stroke:#000000; stroke-width:2; stroke-opacity:0.1; fill:none\" points=\"\n",
       "  180.66,1333.49 2352.76,1333.49 \n",
       "  \"/>\n",
       "<polyline clip-path=\"url(#clip4302)\" style=\"stroke:#000000; stroke-width:2; stroke-opacity:0.1; fill:none\" points=\"\n",
       "  180.66,1144.78 2352.76,1144.78 \n",
       "  \"/>\n",
       "<polyline clip-path=\"url(#clip4302)\" style=\"stroke:#000000; stroke-width:2; stroke-opacity:0.1; fill:none\" points=\"\n",
       "  180.66,956.069 2352.76,956.069 \n",
       "  \"/>\n",
       "<polyline clip-path=\"url(#clip4302)\" style=\"stroke:#000000; stroke-width:2; stroke-opacity:0.1; fill:none\" points=\"\n",
       "  180.66,767.359 2352.76,767.359 \n",
       "  \"/>\n",
       "<polyline clip-path=\"url(#clip4302)\" style=\"stroke:#000000; stroke-width:2; stroke-opacity:0.1; fill:none\" points=\"\n",
       "  180.66,578.65 2352.76,578.65 \n",
       "  \"/>\n",
       "<polyline clip-path=\"url(#clip4302)\" style=\"stroke:#000000; stroke-width:2; stroke-opacity:0.1; fill:none\" points=\"\n",
       "  180.66,389.94 2352.76,389.94 \n",
       "  \"/>\n",
       "<polyline clip-path=\"url(#clip4302)\" style=\"stroke:#000000; stroke-width:2; stroke-opacity:0.1; fill:none\" points=\"\n",
       "  180.66,201.231 2352.76,201.231 \n",
       "  \"/>\n",
       "<polyline clip-path=\"url(#clip4300)\" style=\"stroke:#000000; stroke-width:4; stroke-opacity:1; fill:none\" points=\"\n",
       "  180.66,1487.47 2352.76,1487.47 \n",
       "  \"/>\n",
       "<polyline clip-path=\"url(#clip4300)\" style=\"stroke:#000000; stroke-width:4; stroke-opacity:1; fill:none\" points=\"\n",
       "  180.66,1487.47 180.66,47.2441 \n",
       "  \"/>\n",
       "<polyline clip-path=\"url(#clip4300)\" style=\"stroke:#000000; stroke-width:4; stroke-opacity:1; fill:none\" points=\"\n",
       "  412.897,1487.47 412.897,1470.19 \n",
       "  \"/>\n",
       "<polyline clip-path=\"url(#clip4300)\" style=\"stroke:#000000; stroke-width:4; stroke-opacity:1; fill:none\" points=\"\n",
       "  697.501,1487.47 697.501,1470.19 \n",
       "  \"/>\n",
       "<polyline clip-path=\"url(#clip4300)\" style=\"stroke:#000000; stroke-width:4; stroke-opacity:1; fill:none\" points=\"\n",
       "  982.104,1487.47 982.104,1470.19 \n",
       "  \"/>\n",
       "<polyline clip-path=\"url(#clip4300)\" style=\"stroke:#000000; stroke-width:4; stroke-opacity:1; fill:none\" points=\"\n",
       "  1266.71,1487.47 1266.71,1470.19 \n",
       "  \"/>\n",
       "<polyline clip-path=\"url(#clip4300)\" style=\"stroke:#000000; stroke-width:4; stroke-opacity:1; fill:none\" points=\"\n",
       "  1551.31,1487.47 1551.31,1470.19 \n",
       "  \"/>\n",
       "<polyline clip-path=\"url(#clip4300)\" style=\"stroke:#000000; stroke-width:4; stroke-opacity:1; fill:none\" points=\"\n",
       "  1835.92,1487.47 1835.92,1470.19 \n",
       "  \"/>\n",
       "<polyline clip-path=\"url(#clip4300)\" style=\"stroke:#000000; stroke-width:4; stroke-opacity:1; fill:none\" points=\"\n",
       "  2120.52,1487.47 2120.52,1470.19 \n",
       "  \"/>\n",
       "<polyline clip-path=\"url(#clip4300)\" style=\"stroke:#000000; stroke-width:4; stroke-opacity:1; fill:none\" points=\"\n",
       "  180.66,1333.49 206.725,1333.49 \n",
       "  \"/>\n",
       "<polyline clip-path=\"url(#clip4300)\" style=\"stroke:#000000; stroke-width:4; stroke-opacity:1; fill:none\" points=\"\n",
       "  180.66,1144.78 206.725,1144.78 \n",
       "  \"/>\n",
       "<polyline clip-path=\"url(#clip4300)\" style=\"stroke:#000000; stroke-width:4; stroke-opacity:1; fill:none\" points=\"\n",
       "  180.66,956.069 206.725,956.069 \n",
       "  \"/>\n",
       "<polyline clip-path=\"url(#clip4300)\" style=\"stroke:#000000; stroke-width:4; stroke-opacity:1; fill:none\" points=\"\n",
       "  180.66,767.359 206.725,767.359 \n",
       "  \"/>\n",
       "<polyline clip-path=\"url(#clip4300)\" style=\"stroke:#000000; stroke-width:4; stroke-opacity:1; fill:none\" points=\"\n",
       "  180.66,578.65 206.725,578.65 \n",
       "  \"/>\n",
       "<polyline clip-path=\"url(#clip4300)\" style=\"stroke:#000000; stroke-width:4; stroke-opacity:1; fill:none\" points=\"\n",
       "  180.66,389.94 206.725,389.94 \n",
       "  \"/>\n",
       "<polyline clip-path=\"url(#clip4300)\" style=\"stroke:#000000; stroke-width:4; stroke-opacity:1; fill:none\" points=\"\n",
       "  180.66,201.231 206.725,201.231 \n",
       "  \"/>\n",
       "<g clip-path=\"url(#clip4300)\">\n",
       "<text style=\"fill:#000000; fill-opacity:1; font-family:Arial,Helvetica Neue,Helvetica,sans-serif; font-size:48px; text-anchor:middle;\" transform=\"rotate(0, 412.897, 1541.47)\" x=\"412.897\" y=\"1541.47\">0.75</text>\n",
       "</g>\n",
       "<g clip-path=\"url(#clip4300)\">\n",
       "<text style=\"fill:#000000; fill-opacity:1; font-family:Arial,Helvetica Neue,Helvetica,sans-serif; font-size:48px; text-anchor:middle;\" transform=\"rotate(0, 697.501, 1541.47)\" x=\"697.501\" y=\"1541.47\">1.00</text>\n",
       "</g>\n",
       "<g clip-path=\"url(#clip4300)\">\n",
       "<text style=\"fill:#000000; fill-opacity:1; font-family:Arial,Helvetica Neue,Helvetica,sans-serif; font-size:48px; text-anchor:middle;\" transform=\"rotate(0, 982.104, 1541.47)\" x=\"982.104\" y=\"1541.47\">1.25</text>\n",
       "</g>\n",
       "<g clip-path=\"url(#clip4300)\">\n",
       "<text style=\"fill:#000000; fill-opacity:1; font-family:Arial,Helvetica Neue,Helvetica,sans-serif; font-size:48px; text-anchor:middle;\" transform=\"rotate(0, 1266.71, 1541.47)\" x=\"1266.71\" y=\"1541.47\">1.50</text>\n",
       "</g>\n",
       "<g clip-path=\"url(#clip4300)\">\n",
       "<text style=\"fill:#000000; fill-opacity:1; font-family:Arial,Helvetica Neue,Helvetica,sans-serif; font-size:48px; text-anchor:middle;\" transform=\"rotate(0, 1551.31, 1541.47)\" x=\"1551.31\" y=\"1541.47\">1.75</text>\n",
       "</g>\n",
       "<g clip-path=\"url(#clip4300)\">\n",
       "<text style=\"fill:#000000; fill-opacity:1; font-family:Arial,Helvetica Neue,Helvetica,sans-serif; font-size:48px; text-anchor:middle;\" transform=\"rotate(0, 1835.92, 1541.47)\" x=\"1835.92\" y=\"1541.47\">2.00</text>\n",
       "</g>\n",
       "<g clip-path=\"url(#clip4300)\">\n",
       "<text style=\"fill:#000000; fill-opacity:1; font-family:Arial,Helvetica Neue,Helvetica,sans-serif; font-size:48px; text-anchor:middle;\" transform=\"rotate(0, 2120.52, 1541.47)\" x=\"2120.52\" y=\"1541.47\">2.25</text>\n",
       "</g>\n",
       "<g clip-path=\"url(#clip4300)\">\n",
       "<text style=\"fill:#000000; fill-opacity:1; font-family:Arial,Helvetica Neue,Helvetica,sans-serif; font-size:48px; text-anchor:end;\" transform=\"rotate(0, 156.66, 1350.99)\" x=\"156.66\" y=\"1350.99\">0.75</text>\n",
       "</g>\n",
       "<g clip-path=\"url(#clip4300)\">\n",
       "<text style=\"fill:#000000; fill-opacity:1; font-family:Arial,Helvetica Neue,Helvetica,sans-serif; font-size:48px; text-anchor:end;\" transform=\"rotate(0, 156.66, 1162.28)\" x=\"156.66\" y=\"1162.28\">1.00</text>\n",
       "</g>\n",
       "<g clip-path=\"url(#clip4300)\">\n",
       "<text style=\"fill:#000000; fill-opacity:1; font-family:Arial,Helvetica Neue,Helvetica,sans-serif; font-size:48px; text-anchor:end;\" transform=\"rotate(0, 156.66, 973.569)\" x=\"156.66\" y=\"973.569\">1.25</text>\n",
       "</g>\n",
       "<g clip-path=\"url(#clip4300)\">\n",
       "<text style=\"fill:#000000; fill-opacity:1; font-family:Arial,Helvetica Neue,Helvetica,sans-serif; font-size:48px; text-anchor:end;\" transform=\"rotate(0, 156.66, 784.859)\" x=\"156.66\" y=\"784.859\">1.50</text>\n",
       "</g>\n",
       "<g clip-path=\"url(#clip4300)\">\n",
       "<text style=\"fill:#000000; fill-opacity:1; font-family:Arial,Helvetica Neue,Helvetica,sans-serif; font-size:48px; text-anchor:end;\" transform=\"rotate(0, 156.66, 596.15)\" x=\"156.66\" y=\"596.15\">1.75</text>\n",
       "</g>\n",
       "<g clip-path=\"url(#clip4300)\">\n",
       "<text style=\"fill:#000000; fill-opacity:1; font-family:Arial,Helvetica Neue,Helvetica,sans-serif; font-size:48px; text-anchor:end;\" transform=\"rotate(0, 156.66, 407.44)\" x=\"156.66\" y=\"407.44\">2.00</text>\n",
       "</g>\n",
       "<g clip-path=\"url(#clip4300)\">\n",
       "<text style=\"fill:#000000; fill-opacity:1; font-family:Arial,Helvetica Neue,Helvetica,sans-serif; font-size:48px; text-anchor:end;\" transform=\"rotate(0, 156.66, 218.731)\" x=\"156.66\" y=\"218.731\">2.25</text>\n",
       "</g>\n",
       "<path clip-path=\"url(#clip4302)\" d=\"\n",
       "M242.135 1446.71 L2291.28 88.0053 L242.135 1446.71 L242.135 1446.71  Z\n",
       "  \" fill=\"#009af9\" fill-rule=\"evenodd\" fill-opacity=\"0.5\"/>\n",
       "<polyline clip-path=\"url(#clip4302)\" style=\"stroke:#000000; stroke-width:4; stroke-opacity:0.5; fill:none\" points=\"\n",
       "  242.135,1446.71 2291.28,88.0053 242.135,1446.71 \n",
       "  \"/>\n",
       "</svg>\n"
      ]
     },
     "execution_count": 127,
     "metadata": {},
     "output_type": "execute_result"
    }
   ],
   "source": [
    "plot(a2)"
   ]
  },
  {
   "cell_type": "code",
   "execution_count": 129,
   "metadata": {},
   "outputs": [
    {
     "data": {
      "text/plain": [
       "true"
      ]
     },
     "execution_count": 129,
     "metadata": {},
     "output_type": "execute_result"
    }
   ],
   "source": [
    "# the sets are the same\n",
    "a[1] ⊆ a2 && a2 ⊆ a[1]"
   ]
  },
  {
   "cell_type": "markdown",
   "metadata": {},
   "source": [
    "so the LazySets version removes redundancies."
   ]
  },
  {
   "cell_type": "code",
   "execution_count": 131,
   "metadata": {},
   "outputs": [
    {
     "data": {
      "text/plain": [
       "4-element Array{HalfSpace{Float64,VN} where VN<:AbstractArray{Float64,1},1}:\n",
       " HalfSpace{Float64,Array{Float64,1}}([1.7999999999999998, 1.7999999999999998], 8.639999999999999)    \n",
       " HalfSpace{Float64,Array{Float64,1}}([-1.7999999999999998, 1.7999999999999998], 0.0)                 \n",
       " HalfSpace{Float64,Array{Float64,1}}([-1.7999999999999998, -1.7999999999999998], -2.1599999999999997)\n",
       " HalfSpace{Float64,Array{Float64,1}}([1.7999999999999998, -1.7999999999999998], -0.0)                "
      ]
     },
     "execution_count": 131,
     "metadata": {},
     "output_type": "execute_result"
    }
   ],
   "source": [
    "remove_redundant_constraints(a[1]).constraints"
   ]
  },
  {
   "cell_type": "code",
   "execution_count": 133,
   "metadata": {},
   "outputs": [
    {
     "name": "stdout",
     "output_type": "stream",
     "text": [
      "  26.828 μs (135 allocations: 8.73 KiB)\n"
     ]
    },
    {
     "data": {
      "text/plain": [
       "HPolytope{Float64}(HalfSpace{Float64,VN} where VN<:AbstractArray{Float64,1}[HalfSpace{Float64,Array{Float64,1}}([1.7999999999999998, 1.7999999999999998], 8.639999999999999), HalfSpace{Float64,Array{Float64,1}}([-1.7999999999999998, 1.7999999999999998], 0.0), HalfSpace{Float64,Array{Float64,1}}([-1.7999999999999998, -1.7999999999999998], -2.1599999999999997), HalfSpace{Float64,Array{Float64,1}}([1.7999999999999998, -1.7999999999999998], -0.0)])"
      ]
     },
     "execution_count": 133,
     "metadata": {},
     "output_type": "execute_result"
    }
   ],
   "source": [
    "@btime LazySets.to_union_of_projections(Rectification($h1))"
   ]
  },
  {
   "cell_type": "code",
   "execution_count": 134,
   "metadata": {},
   "outputs": [
    {
     "name": "stdout",
     "output_type": "stream",
     "text": [
      "  88.295 μs (632 allocations: 40.88 KiB)\n"
     ]
    },
    {
     "data": {
      "text/plain": [
       "1-element Array{HPolytope,1}:\n",
       " HPolytope{Float64}(HalfSpace{Float64,VN} where VN<:AbstractArray{Float64,1}[HalfSpace{Float64,Array{Float64,1}}([1.7999999999999998, 1.7999999999999998], 8.639999999999999), HalfSpace{Float64,Array{Float64,1}}([-1.7999999999999998, 1.7999999999999998], 0.0), HalfSpace{Float64,Array{Float64,1}}([-1.7999999999999998, -1.7999999999999998], -2.1599999999999997), HalfSpace{Float64,Array{Float64,1}}([1.7999999999999998, -1.7999999999999998], -0.0), HalfSpace{Float64,Array{Float64,1}}([-1.0, 0.0], 0.0), HalfSpace{Float64,Array{Float64,1}}([0.0, -1.0], 0.0)])"
      ]
     },
     "execution_count": 134,
     "metadata": {},
     "output_type": "execute_result"
    }
   ],
   "source": [
    "@btime forward_partition($layer.activation, $h1)"
   ]
  },
  {
   "cell_type": "code",
   "execution_count": 186,
   "metadata": {},
   "outputs": [
    {
     "name": "stdout",
     "output_type": "stream",
     "text": [
      "  101.378 μs (592 allocations: 37.13 KiB)\n",
      "  6.622 ms (112825 allocations: 7.02 MiB)\n"
     ]
    }
   ],
   "source": [
    "htest = rand(HPolytope, dim=3);\n",
    "@btime LazySets.to_union_of_projections(Rectification($htest))\n",
    "@btime forward_partition($layer.activation, $htest);"
   ]
  },
  {
   "cell_type": "code",
   "execution_count": 142,
   "metadata": {},
   "outputs": [],
   "source": [
    "x = LazySets.to_union_of_projections(Rectification(htest));"
   ]
  },
  {
   "cell_type": "code",
   "execution_count": 157,
   "metadata": {},
   "outputs": [],
   "source": [
    "y = forward_partition(layer.activation, htest);\n",
    "yu = UnionSetArray(convert(Vector{HPolytope{Float64}}, y));"
   ]
  },
  {
   "cell_type": "code",
   "execution_count": 174,
   "metadata": {},
   "outputs": [
    {
     "data": {
      "text/plain": [
       "UnionSetArray{Float64,LinearMap{Float64,S,NM,MAT} where MAT<:AbstractArray{NM,2} where NM where S<:LazySet{Float64}}"
      ]
     },
     "execution_count": 174,
     "metadata": {},
     "output_type": "execute_result"
    }
   ],
   "source": [
    "typeof(x) # note that to_union_of_projection takes lazy linear maps, this explains why it is much\n",
    "# cheaper than forward_partition, which applies a concrete linear map"
   ]
  },
  {
   "cell_type": "code",
   "execution_count": 160,
   "metadata": {},
   "outputs": [
    {
     "ename": "MethodError",
     "evalue": "MethodError: no method matching length(::UnionSetArray{Float64,HPolytope{Float64}})\nClosest candidates are:\n  length(!Matched::Core.SimpleVector) at essentials.jl:597\n  length(!Matched::Base.MethodList) at reflection.jl:819\n  length(!Matched::Core.MethodTable) at reflection.jl:893\n  ...",
     "output_type": "error",
     "traceback": [
      "MethodError: no method matching length(::UnionSetArray{Float64,HPolytope{Float64}})\nClosest candidates are:\n  length(!Matched::Core.SimpleVector) at essentials.jl:597\n  length(!Matched::Base.MethodList) at reflection.jl:819\n  length(!Matched::Core.MethodTable) at reflection.jl:893\n  ...",
      "",
      "Stacktrace:",
      " [1] issubset(::UnionSetArray{Float64,LinearMap{Float64,S,NM,MAT} where MAT<:AbstractArray{NM,2} where NM where S<:LazySet{Float64}}, ::UnionSetArray{Float64,HPolytope{Float64}}) at ./abstractset.jl:234",
      " [2] top-level scope at In[160]:1"
     ]
    }
   ],
   "source": [
    "x ⊆ yu"
   ]
  },
  {
   "cell_type": "code",
   "execution_count": 171,
   "metadata": {},
   "outputs": [
    {
     "ename": "MethodError",
     "evalue": "MethodError: no method matching length(::UnionSetArray{Float64,HPolygon{Float64}})\nClosest candidates are:\n  length(!Matched::Core.SimpleVector) at essentials.jl:597\n  length(!Matched::Base.MethodList) at reflection.jl:819\n  length(!Matched::Core.MethodTable) at reflection.jl:893\n  ...",
     "output_type": "error",
     "traceback": [
      "MethodError: no method matching length(::UnionSetArray{Float64,HPolygon{Float64}})\nClosest candidates are:\n  length(!Matched::Core.SimpleVector) at essentials.jl:597\n  length(!Matched::Base.MethodList) at reflection.jl:819\n  length(!Matched::Core.MethodTable) at reflection.jl:893\n  ...",
      "",
      "Stacktrace:",
      " [1] issubset(::UnionSetArray{Float64,HPolygon{Float64}}, ::UnionSetArray{Float64,HPolygon{Float64}}) at ./abstractset.jl:234",
      " [2] top-level scope at In[171]:3"
     ]
    }
   ],
   "source": [
    "a = UnionSetArray([rand(HPolygon) for _ in 1:3])\n",
    "b = UnionSetArray([rand(HPolygon) for _ in 1:3]);\n",
    "a ⊆ b"
   ]
  },
  {
   "cell_type": "code",
   "execution_count": 172,
   "metadata": {},
   "outputs": [
    {
     "data": {
      "text/plain": [
       "3-element Array{HPolygon{Float64},1}:\n",
       " HPolygon{Float64}(HalfSpace{Float64,VN} where VN<:AbstractArray{Float64,1}[HalfSpace{Float64,Array{Float64,1}}([2.438846333746284, 0.6022830958190889], 1.0529603950535134), HalfSpace{Float64,Array{Float64,1}}([1.4575593666326343, 0.445113246994651], 0.8136677040382049), HalfSpace{Float64,Array{Float64,1}}([-0.44213426567835734, 1.1798759728035995], 4.516401975383073), HalfSpace{Float64,Array{Float64,1}}([-1.4109598159683434, 0.4302527895751094], 3.806342064463771), HalfSpace{Float64,Array{Float64,1}}([-1.332299385267191, -0.9721680875949463], 1.1551216876131014), HalfSpace{Float64,Array{Float64,1}}([-0.7955871974147848, -1.2035645353093998], 0.41745026384500905), HalfSpace{Float64,Array{Float64,1}}([0.08457496394975839, -0.48179248228810256], 0.17419836196379443)])                                                                                                                                                                                                                                                                                                            \n",
       " HPolygon{Float64}(HalfSpace{Float64,VN} where VN<:AbstractArray{Float64,1}[HalfSpace{Float64,Array{Float64,1}}([0.08462594302200888, 0.7294022129802685], 2.7687195210847904), HalfSpace{Float64,Array{Float64,1}}([-0.2675316674374195, 0.20942747691788877], 0.7571318801834708), HalfSpace{Float64,Array{Float64,1}}([-0.595230691055463, 0.14824249240704912], 0.5683214091236496), HalfSpace{Float64,Array{Float64,1}}([-0.3620894306964133, -0.2273952099223095], -0.580983439258622), HalfSpace{Float64,Array{Float64,1}}([-0.5779640153675307, -0.47896714088236847], -1.2238570913079894), HalfSpace{Float64,Array{Float64,1}}([0.48414325453308904, -0.18828430142645242], -0.1408556089406723), HalfSpace{Float64,Array{Float64,1}}([1.2340466070017286, -0.19242553007407603], 0.3488353522330574)])                                                                                                                                                                                                                                                                                                   \n",
       " HPolygon{Float64}(HalfSpace{Float64,VN} where VN<:AbstractArray{Float64,1}[HalfSpace{Float64,Array{Float64,1}}([0.02470957713399713, 0.19939963614093115], 0.6777392887292246), HalfSpace{Float64,Array{Float64,1}}([-0.4920293257738604, 1.6549735832654207], 3.390899060927313), HalfSpace{Float64,Array{Float64,1}}([-1.7138827363949907, 1.3267534155142382], 0.6733576341240859), HalfSpace{Float64,Array{Float64,1}}([-1.4300305299296991, 0.9667563616668375], 0.4502120289887481), HalfSpace{Float64,Array{Float64,1}}([0.060186908385398974, -0.9084548353047989], 0.5313853230879747), HalfSpace{Float64,Array{Float64,1}}([0.08086218862525874, -0.8030288192846683], 0.4742789163715927), HalfSpace{Float64,Array{Float64,1}}([0.12343442694464302, -1.178551853196839], 0.7006732558984163), HalfSpace{Float64,Array{Float64,1}}([0.8359412795670981, -0.9126957458428051], 2.1317557229716146), HalfSpace{Float64,Array{Float64,1}}([1.1160024728585083, -0.2013384210280611], 3.320163925509552), HalfSpace{Float64,Array{Float64,1}}([1.394805738583646, -0.1438133219302551], 4.320220440953226)])"
      ]
     },
     "execution_count": 172,
     "metadata": {},
     "output_type": "execute_result"
    }
   ],
   "source": [
    "array(a)"
   ]
  },
  {
   "cell_type": "code",
   "execution_count": 170,
   "metadata": {},
   "outputs": [
    {
     "data": {
      "text/html": [
       "issubset(l, r) in Base at <a href=\"https://github.com/JuliaLang/julia/tree/c6da87ff4bc7a855e217856757ad3413cf6d1f79/base/abstractset.jl#L233\" target=\"_blank\">abstractset.jl:233</a>"
      ],
      "text/plain": [
       "issubset(l, r) in Base at abstractset.jl:233"
      ]
     },
     "execution_count": 170,
     "metadata": {},
     "output_type": "execute_result"
    }
   ],
   "source": [
    "@which a ⊆ b"
   ]
  },
  {
   "cell_type": "code",
   "execution_count": null,
   "metadata": {},
   "outputs": [],
   "source": []
  },
  {
   "cell_type": "code",
   "execution_count": null,
   "metadata": {},
   "outputs": [],
   "source": [
    "forward_partition(layer.activation, z)"
   ]
  },
  {
   "cell_type": "code",
   "execution_count": 192,
   "metadata": {},
   "outputs": [
    {
     "ename": "AssertionError",
     "evalue": "AssertionError: a half-space needs a non-zero normal vector",
     "output_type": "error",
     "traceback": [
      "AssertionError: a half-space needs a non-zero normal vector",
      "",
      "Stacktrace:",
      " [1] macro expansion at /home/mforets/.julia/dev/LazySets/src/Assertions/Assertions.jl:23 [inlined]",
      " [2] HalfSpace{Float64,Array{Float64,1}}(::Array{Float64,1}, ::Float64) at /home/mforets/.julia/dev/LazySets/src/Sets/HalfSpace.jl:36",
      " [3] HalfSpace(::Array{Float64,1}, ::Float64) at /home/mforets/.julia/dev/LazySets/src/Sets/HalfSpace.jl:45",
      " [4] #_linear_map_hrep_helper#32(::Nothing, ::typeof(LazySets._linear_map_hrep_helper), ::Array{Float64,2}, ::HPolytope{Float64}, ::Bool) at /home/mforets/.julia/dev/LazySets/src/Interfaces/AbstractPolyhedron_functions.jl:480",
      " [5] #_linear_map_hrep_helper at /home/mforets/.julia/dev/LazySets/src/Interfaces/AbstractPolyhedron_functions.jl:0 [inlined]",
      " [6] #_linear_map_hrep#90 at /home/mforets/.julia/dev/LazySets/src/Sets/HPolytope.jl:136 [inlined]",
      " [7] _linear_map_hrep at /home/mforets/.julia/dev/LazySets/src/Sets/HPolytope.jl:136 [inlined]",
      " [8] #linear_map#29(::Nothing, ::Bool, ::Float64, ::Nothing, ::typeof(linear_map), ::Array{Float64,2}, ::HPolytope{Float64}) at /home/mforets/.julia/dev/LazySets/src/Interfaces/AbstractPolyhedron_functions.jl:426",
      " [9] linear_map at /home/mforets/.julia/dev/LazySets/src/Interfaces/AbstractPolyhedron_functions.jl:388 [inlined]",
      " [10] affine_map(::Layer{ReLU,Float64}, ::HPolytope{Float64}) at /home/mforets/.julia/dev/NeuralVerification/src/utils/util.jl:309",
      " [11] forward_layer2(::ExactReach, ::Layer{ReLU,Float64}, ::Array{HPolytope,1}) at ./In[191]:27",
      " [12] forward_network2(::ExactReach, ::Network, ::HPolytope{Float64}) at ./In[191]:11",
      " [13] solve2(::ExactReach, ::Problem{HPolytope{Float64},HPolytope{Float64}}) at ./In[191]:4",
      " [14] top-level scope at In[192]:1"
     ]
    }
   ],
   "source": [
    "holds = solve2(ExactReach(), problem_holds)"
   ]
  },
  {
   "cell_type": "code",
   "execution_count": 202,
   "metadata": {},
   "outputs": [
    {
     "ename": "AssertionError",
     "evalue": "AssertionError: a half-space needs a non-zero normal vector",
     "output_type": "error",
     "traceback": [
      "AssertionError: a half-space needs a non-zero normal vector",
      "",
      "Stacktrace:",
      " [1] macro expansion at /home/mforets/.julia/dev/LazySets/src/Assertions/Assertions.jl:23 [inlined]",
      " [2] HalfSpace{Float64,Array{Float64,1}}(::Array{Float64,1}, ::Float64) at /home/mforets/.julia/dev/LazySets/src/Sets/HalfSpace.jl:36",
      " [3] HalfSpace(::Array{Float64,1}, ::Float64) at /home/mforets/.julia/dev/LazySets/src/Sets/HalfSpace.jl:45",
      " [4] #_linear_map_hrep_helper#32(::Nothing, ::typeof(LazySets._linear_map_hrep_helper), ::Array{Float64,2}, ::HPolytope{Float64}, ::Bool) at /home/mforets/.julia/dev/LazySets/src/Interfaces/AbstractPolyhedron_functions.jl:480",
      " [5] #_linear_map_hrep_helper at /home/mforets/.julia/dev/LazySets/src/Interfaces/AbstractPolyhedron_functions.jl:0 [inlined]",
      " [6] #_linear_map_hrep#90 at /home/mforets/.julia/dev/LazySets/src/Sets/HPolytope.jl:136 [inlined]",
      " [7] _linear_map_hrep at /home/mforets/.julia/dev/LazySets/src/Sets/HPolytope.jl:136 [inlined]",
      " [8] #linear_map#29(::Nothing, ::Bool, ::Float64, ::Nothing, ::typeof(linear_map), ::Array{Float64,2}, ::HPolytope{Float64}) at /home/mforets/.julia/dev/LazySets/src/Interfaces/AbstractPolyhedron_functions.jl:426",
      " [9] linear_map at /home/mforets/.julia/dev/LazySets/src/Interfaces/AbstractPolyhedron_functions.jl:388 [inlined]",
      " [10] affine_map(::Layer{ReLU,Float64}, ::HPolytope{Float64}) at /home/mforets/.julia/dev/NeuralVerification/src/utils/util.jl:309",
      " [11] top-level scope at In[202]:16"
     ]
    }
   ],
   "source": [
    "input = problem_holds.input\n",
    "nnet = problem_holds.network\n",
    "\n",
    "# layer 1\n",
    "layer = nnet.layers[1]\n",
    "tmp = NeuralVerification.affine_map(layer, input)\n",
    "out1 = forward_partition(layer.activation, tmp)[1]\n",
    "\n",
    "# layer 2\n",
    "layer = nnet.layers[2]\n",
    "tmp = NeuralVerification.affine_map(layer, out1)\n",
    "out2 = forward_partition(layer.activation, tmp)[1]\n",
    "\n",
    "# layer 3\n",
    "layer = nnet.layers[3]\n",
    "tmp = NeuralVerification.affine_map(layer, out2)\n",
    "out3 = forward_partition(layer.activation, tmp)[1]"
   ]
  },
  {
   "cell_type": "code",
   "execution_count": 207,
   "metadata": {},
   "outputs": [
    {
     "data": {
      "text/plain": [
       "Layer{ReLU,Float64}([-3.0 -3.0], [3.5], ReLU())"
      ]
     },
     "execution_count": 207,
     "metadata": {},
     "output_type": "execute_result"
    }
   ],
   "source": [
    "layer = nnet.layers[3]"
   ]
  },
  {
   "cell_type": "code",
   "execution_count": 26,
   "metadata": {},
   "outputs": [
    {
     "data": {
      "text/plain": [
       "2×1 Array{Float64,2}:\n",
       " 1.0\n",
       " 1.0"
      ]
     },
     "execution_count": 26,
     "metadata": {},
     "output_type": "execute_result"
    }
   ],
   "source": [
    "nnet.layers[1].weights # linear map con \"lift\""
   ]
  },
  {
   "cell_type": "code",
   "execution_count": 30,
   "metadata": {},
   "outputs": [
    {
     "data": {
      "text/plain": [
       "2×2 Array{Float64,2}:\n",
       " 2.0  2.0\n",
       " 2.0  2.0"
      ]
     },
     "execution_count": 30,
     "metadata": {},
     "output_type": "execute_result"
    }
   ],
   "source": [
    "nnet.layers[2].weights # linear map con \"projection\""
   ]
  },
  {
   "cell_type": "markdown",
   "metadata": {},
   "source": [
    "## Prueba con zonotope"
   ]
  },
  {
   "cell_type": "code",
   "execution_count": 42,
   "metadata": {},
   "outputs": [
    {
     "data": {
      "text/plain": [
       "Zonotope{Float64}([0.0], [0.9])"
      ]
     },
     "execution_count": 42,
     "metadata": {},
     "output_type": "execute_result"
    }
   ],
   "source": [
    "Zin = convert(Zonotope, in_hyper)"
   ]
  },
  {
   "cell_type": "code",
   "execution_count": 48,
   "metadata": {},
   "outputs": [
    {
     "data": {
      "text/plain": [
       "Zonotope{Float64}([1.5, 1.5], [0.9; 0.9])"
      ]
     },
     "execution_count": 48,
     "metadata": {},
     "output_type": "execute_result"
    }
   ],
   "source": [
    "# aplico la primer layer\n",
    "layer = nnet.layers[1]\n",
    "Ẑ = affine_map(layer.weights, Zin, layer.bias)"
   ]
  },
  {
   "cell_type": "code",
   "execution_count": 53,
   "metadata": {},
   "outputs": [
    {
     "name": "stdout",
     "output_type": "stream",
     "text": [
      "  216.156 μs (3068 allocations: 204.63 KiB)\n"
     ]
    },
    {
     "data": {
      "text/plain": [
       "HPolytope{Float64}(HalfSpace{Float64,VN} where VN<:AbstractArray{Float64,1}[HalfSpace{Float64,Array{Float64,1}}([-0.2562158884172226, 0.25621588841722254], -1.1417779029739671e-17), HalfSpace{Float64,Array{Float64,1}}([0.2562158884172226, -0.25621588841722254], 1.1417779029739671e-17), HalfSpace{Float64,Array{Float64,1}}([0.14705882352941174, 0.14705882352941177], 0.7058823529411765), HalfSpace{Float64,Array{Float64,1}}([-0.17521271831616655, -0.17521271831616658], -0.21025526197939987)])"
      ]
     },
     "execution_count": 53,
     "metadata": {},
     "output_type": "execute_result"
    }
   ],
   "source": [
    "@btime convert($HPolytope, $Ẑ)"
   ]
  },
  {
   "cell_type": "code",
   "execution_count": 55,
   "metadata": {},
   "outputs": [
    {
     "data": {
      "text/plain": [
       "1-element Array{HPolytope,1}:\n",
       " HPolytope{Float64}(HalfSpace{Float64,VN} where VN<:AbstractArray{Float64,1}[HalfSpace{Float64,Array{Float64,1}}([-0.2562158884172226, 0.25621588841722254], -1.1417779029739671e-17), HalfSpace{Float64,Array{Float64,1}}([0.2562158884172226, -0.25621588841722254], 1.1417779029739671e-17), HalfSpace{Float64,Array{Float64,1}}([0.14705882352941174, 0.14705882352941177], 0.7058823529411765), HalfSpace{Float64,Array{Float64,1}}([-0.17521271831616655, -0.17521271831616658], -0.21025526197939987), HalfSpace{Float64,Array{Float64,1}}([-1.0, 0.0], 0.0), HalfSpace{Float64,Array{Float64,1}}([0.0, -1.0], 0.0)])"
      ]
     },
     "execution_count": 55,
     "metadata": {},
     "output_type": "execute_result"
    }
   ],
   "source": [
    "# aplico ReLu\n",
    "Z1 = forward_partition(layer.activation, convert(HPolytope, Ẑ))"
   ]
  },
  {
   "cell_type": "code",
   "execution_count": 45,
   "metadata": {},
   "outputs": [],
   "source": [
    "using Plots"
   ]
  },
  {
   "cell_type": "code",
   "execution_count": 56,
   "metadata": {},
   "outputs": [
    {
     "data": {
      "image/svg+xml": [
       "<?xml version=\"1.0\" encoding=\"utf-8\"?>\n",
       "<svg xmlns=\"http://www.w3.org/2000/svg\" xmlns:xlink=\"http://www.w3.org/1999/xlink\" width=\"600\" height=\"400\" viewBox=\"0 0 2400 1600\">\n",
       "<defs>\n",
       "  <clipPath id=\"clip1100\">\n",
       "    <rect x=\"0\" y=\"0\" width=\"2400\" height=\"1600\"/>\n",
       "  </clipPath>\n",
       "</defs>\n",
       "<path clip-path=\"url(#clip1100)\" d=\"\n",
       "M0 1600 L2400 1600 L2400 0 L0 0  Z\n",
       "  \" fill=\"#ffffff\" fill-rule=\"evenodd\" fill-opacity=\"1\"/>\n",
       "<defs>\n",
       "  <clipPath id=\"clip1101\">\n",
       "    <rect x=\"480\" y=\"0\" width=\"1681\" height=\"1600\"/>\n",
       "  </clipPath>\n",
       "</defs>\n",
       "<path clip-path=\"url(#clip1100)\" d=\"\n",
       "M153.898 1487.47 L2352.76 1487.47 L2352.76 47.2441 L153.898 47.2441  Z\n",
       "  \" fill=\"#ffffff\" fill-rule=\"evenodd\" fill-opacity=\"1\"/>\n",
       "<defs>\n",
       "  <clipPath id=\"clip1102\">\n",
       "    <rect x=\"153\" y=\"47\" width=\"2200\" height=\"1441\"/>\n",
       "  </clipPath>\n",
       "</defs>\n",
       "<polyline clip-path=\"url(#clip1102)\" style=\"stroke:#000000; stroke-width:2; stroke-opacity:0.1; fill:none\" points=\"\n",
       "  638.281,1487.47 638.281,47.2441 \n",
       "  \"/>\n",
       "<polyline clip-path=\"url(#clip1102)\" style=\"stroke:#000000; stroke-width:2; stroke-opacity:0.1; fill:none\" points=\"\n",
       "  1124.23,1487.47 1124.23,47.2441 \n",
       "  \"/>\n",
       "<polyline clip-path=\"url(#clip1102)\" style=\"stroke:#000000; stroke-width:2; stroke-opacity:0.1; fill:none\" points=\"\n",
       "  1610.19,1487.47 1610.19,47.2441 \n",
       "  \"/>\n",
       "<polyline clip-path=\"url(#clip1102)\" style=\"stroke:#000000; stroke-width:2; stroke-opacity:0.1; fill:none\" points=\"\n",
       "  2096.14,1487.47 2096.14,47.2441 \n",
       "  \"/>\n",
       "<polyline clip-path=\"url(#clip1102)\" style=\"stroke:#000000; stroke-width:2; stroke-opacity:0.1; fill:none\" points=\"\n",
       "  153.898,1446.71 2352.76,1446.71 \n",
       "  \"/>\n",
       "<polyline clip-path=\"url(#clip1102)\" style=\"stroke:#000000; stroke-width:2; stroke-opacity:0.1; fill:none\" points=\"\n",
       "  153.898,1163.65 2352.76,1163.65 \n",
       "  \"/>\n",
       "<polyline clip-path=\"url(#clip1102)\" style=\"stroke:#000000; stroke-width:2; stroke-opacity:0.1; fill:none\" points=\"\n",
       "  153.898,880.585 2352.76,880.585 \n",
       "  \"/>\n",
       "<polyline clip-path=\"url(#clip1102)\" style=\"stroke:#000000; stroke-width:2; stroke-opacity:0.1; fill:none\" points=\"\n",
       "  153.898,597.521 2352.76,597.521 \n",
       "  \"/>\n",
       "<polyline clip-path=\"url(#clip1102)\" style=\"stroke:#000000; stroke-width:2; stroke-opacity:0.1; fill:none\" points=\"\n",
       "  153.898,314.457 2352.76,314.457 \n",
       "  \"/>\n",
       "<polyline clip-path=\"url(#clip1100)\" style=\"stroke:#000000; stroke-width:4; stroke-opacity:1; fill:none\" points=\"\n",
       "  153.898,1487.47 2352.76,1487.47 \n",
       "  \"/>\n",
       "<polyline clip-path=\"url(#clip1100)\" style=\"stroke:#000000; stroke-width:4; stroke-opacity:1; fill:none\" points=\"\n",
       "  153.898,1487.47 153.898,47.2441 \n",
       "  \"/>\n",
       "<polyline clip-path=\"url(#clip1100)\" style=\"stroke:#000000; stroke-width:4; stroke-opacity:1; fill:none\" points=\"\n",
       "  638.281,1487.47 638.281,1470.19 \n",
       "  \"/>\n",
       "<polyline clip-path=\"url(#clip1100)\" style=\"stroke:#000000; stroke-width:4; stroke-opacity:1; fill:none\" points=\"\n",
       "  1124.23,1487.47 1124.23,1470.19 \n",
       "  \"/>\n",
       "<polyline clip-path=\"url(#clip1100)\" style=\"stroke:#000000; stroke-width:4; stroke-opacity:1; fill:none\" points=\"\n",
       "  1610.19,1487.47 1610.19,1470.19 \n",
       "  \"/>\n",
       "<polyline clip-path=\"url(#clip1100)\" style=\"stroke:#000000; stroke-width:4; stroke-opacity:1; fill:none\" points=\"\n",
       "  2096.14,1487.47 2096.14,1470.19 \n",
       "  \"/>\n",
       "<polyline clip-path=\"url(#clip1100)\" style=\"stroke:#000000; stroke-width:4; stroke-opacity:1; fill:none\" points=\"\n",
       "  153.898,1446.71 180.284,1446.71 \n",
       "  \"/>\n",
       "<polyline clip-path=\"url(#clip1100)\" style=\"stroke:#000000; stroke-width:4; stroke-opacity:1; fill:none\" points=\"\n",
       "  153.898,1163.65 180.284,1163.65 \n",
       "  \"/>\n",
       "<polyline clip-path=\"url(#clip1100)\" style=\"stroke:#000000; stroke-width:4; stroke-opacity:1; fill:none\" points=\"\n",
       "  153.898,880.585 180.284,880.585 \n",
       "  \"/>\n",
       "<polyline clip-path=\"url(#clip1100)\" style=\"stroke:#000000; stroke-width:4; stroke-opacity:1; fill:none\" points=\"\n",
       "  153.898,597.521 180.284,597.521 \n",
       "  \"/>\n",
       "<polyline clip-path=\"url(#clip1100)\" style=\"stroke:#000000; stroke-width:4; stroke-opacity:1; fill:none\" points=\"\n",
       "  153.898,314.457 180.284,314.457 \n",
       "  \"/>\n",
       "<g clip-path=\"url(#clip1100)\">\n",
       "<text style=\"fill:#000000; fill-opacity:1; font-family:Arial,Helvetica Neue,Helvetica,sans-serif; font-size:48px; text-anchor:middle;\" transform=\"rotate(0, 638.281, 1541.47)\" x=\"638.281\" y=\"1541.47\">-1</text>\n",
       "</g>\n",
       "<g clip-path=\"url(#clip1100)\">\n",
       "<text style=\"fill:#000000; fill-opacity:1; font-family:Arial,Helvetica Neue,Helvetica,sans-serif; font-size:48px; text-anchor:middle;\" transform=\"rotate(0, 1124.23, 1541.47)\" x=\"1124.23\" y=\"1541.47\">0</text>\n",
       "</g>\n",
       "<g clip-path=\"url(#clip1100)\">\n",
       "<text style=\"fill:#000000; fill-opacity:1; font-family:Arial,Helvetica Neue,Helvetica,sans-serif; font-size:48px; text-anchor:middle;\" transform=\"rotate(0, 1610.19, 1541.47)\" x=\"1610.19\" y=\"1541.47\">1</text>\n",
       "</g>\n",
       "<g clip-path=\"url(#clip1100)\">\n",
       "<text style=\"fill:#000000; fill-opacity:1; font-family:Arial,Helvetica Neue,Helvetica,sans-serif; font-size:48px; text-anchor:middle;\" transform=\"rotate(0, 2096.14, 1541.47)\" x=\"2096.14\" y=\"1541.47\">2</text>\n",
       "</g>\n",
       "<g clip-path=\"url(#clip1100)\">\n",
       "<text style=\"fill:#000000; fill-opacity:1; font-family:Arial,Helvetica Neue,Helvetica,sans-serif; font-size:48px; text-anchor:end;\" transform=\"rotate(0, 129.898, 1464.21)\" x=\"129.898\" y=\"1464.21\">0.0</text>\n",
       "</g>\n",
       "<g clip-path=\"url(#clip1100)\">\n",
       "<text style=\"fill:#000000; fill-opacity:1; font-family:Arial,Helvetica Neue,Helvetica,sans-serif; font-size:48px; text-anchor:end;\" transform=\"rotate(0, 129.898, 1181.15)\" x=\"129.898\" y=\"1181.15\">0.5</text>\n",
       "</g>\n",
       "<g clip-path=\"url(#clip1100)\">\n",
       "<text style=\"fill:#000000; fill-opacity:1; font-family:Arial,Helvetica Neue,Helvetica,sans-serif; font-size:48px; text-anchor:end;\" transform=\"rotate(0, 129.898, 898.085)\" x=\"129.898\" y=\"898.085\">1.0</text>\n",
       "</g>\n",
       "<g clip-path=\"url(#clip1100)\">\n",
       "<text style=\"fill:#000000; fill-opacity:1; font-family:Arial,Helvetica Neue,Helvetica,sans-serif; font-size:48px; text-anchor:end;\" transform=\"rotate(0, 129.898, 615.021)\" x=\"129.898\" y=\"615.021\">1.5</text>\n",
       "</g>\n",
       "<g clip-path=\"url(#clip1100)\">\n",
       "<text style=\"fill:#000000; fill-opacity:1; font-family:Arial,Helvetica Neue,Helvetica,sans-serif; font-size:48px; text-anchor:end;\" transform=\"rotate(0, 129.898, 331.957)\" x=\"129.898\" y=\"331.957\">2.0</text>\n",
       "</g>\n",
       "<polyline clip-path=\"url(#clip1102)\" style=\"stroke:#009af9; stroke-width:4; stroke-opacity:1; fill:none\" points=\"\n",
       "  216.13,1446.71 490.293,1446.71 \n",
       "  \"/>\n",
       "<path clip-path=\"url(#clip1102)\" d=\"\n",
       "M2290.52 88.0053 L1415.81 1107.04 L2290.52 88.0053 L2290.52 88.0053  Z\n",
       "  \" fill=\"#e26f46\" fill-rule=\"evenodd\" fill-opacity=\"0.5\"/>\n",
       "<polyline clip-path=\"url(#clip1102)\" style=\"stroke:#000000; stroke-width:4; stroke-opacity:0.5; fill:none\" points=\"\n",
       "  2290.52,88.0053 1415.81,1107.04 2290.52,88.0053 \n",
       "  \"/>\n",
       "<path clip-path=\"url(#clip1102)\" d=\"\n",
       "M1415.81 1107.04 L2290.52 88.0053 L1415.81 1107.04 L1415.81 1107.04  Z\n",
       "  \" fill=\"#3da44d\" fill-rule=\"evenodd\" fill-opacity=\"0.5\"/>\n",
       "<polyline clip-path=\"url(#clip1102)\" style=\"stroke:#000000; stroke-width:4; stroke-opacity:0.5; fill:none\" points=\"\n",
       "  1415.81,1107.04 2290.52,88.0053 1415.81,1107.04 \n",
       "  \"/>\n",
       "<path clip-path=\"url(#clip1100)\" d=\"\n",
       "M1931.06 372.684 L2280.76 372.684 L2280.76 130.764 L1931.06 130.764  Z\n",
       "  \" fill=\"#ffffff\" fill-rule=\"evenodd\" fill-opacity=\"1\"/>\n",
       "<polyline clip-path=\"url(#clip1100)\" style=\"stroke:#000000; stroke-width:4; stroke-opacity:1; fill:none\" points=\"\n",
       "  1931.06,372.684 2280.76,372.684 2280.76,130.764 1931.06,130.764 1931.06,372.684 \n",
       "  \"/>\n",
       "<polyline clip-path=\"url(#clip1100)\" style=\"stroke:#009af9; stroke-width:4; stroke-opacity:1; fill:none\" points=\"\n",
       "  1955.06,191.244 2099.06,191.244 \n",
       "  \"/>\n",
       "<g clip-path=\"url(#clip1100)\">\n",
       "<text style=\"fill:#000000; fill-opacity:1; font-family:Arial,Helvetica Neue,Helvetica,sans-serif; font-size:48px; text-anchor:start;\" transform=\"rotate(0, 2123.06, 208.744)\" x=\"2123.06\" y=\"208.744\">Z</text>\n",
       "</g>\n",
       "<path clip-path=\"url(#clip1100)\" d=\"\n",
       "M1955.06 275.916 L2099.06 275.916 L2099.06 227.532 L1955.06 227.532 L1955.06 275.916  Z\n",
       "  \" fill=\"#e26f46\" fill-rule=\"evenodd\" fill-opacity=\"0.5\"/>\n",
       "<polyline clip-path=\"url(#clip1100)\" style=\"stroke:#000000; stroke-width:4; stroke-opacity:1; fill:none\" points=\"\n",
       "  1955.06,275.916 2099.06,275.916 2099.06,227.532 1955.06,227.532 1955.06,275.916 \n",
       "  \"/>\n",
       "<g clip-path=\"url(#clip1100)\">\n",
       "<text style=\"fill:#000000; fill-opacity:1; font-family:Arial,Helvetica Neue,Helvetica,sans-serif; font-size:48px; text-anchor:start;\" transform=\"rotate(0, 2123.06, 269.224)\" x=\"2123.06\" y=\"269.224\">Zhat</text>\n",
       "</g>\n",
       "<path clip-path=\"url(#clip1100)\" d=\"\n",
       "M1955.06 336.396 L2099.06 336.396 L2099.06 288.012 L1955.06 288.012 L1955.06 336.396  Z\n",
       "  \" fill=\"#3da44d\" fill-rule=\"evenodd\" fill-opacity=\"0.5\"/>\n",
       "<polyline clip-path=\"url(#clip1100)\" style=\"stroke:#000000; stroke-width:4; stroke-opacity:1; fill:none\" points=\"\n",
       "  1955.06,336.396 2099.06,336.396 2099.06,288.012 1955.06,288.012 1955.06,336.396 \n",
       "  \"/>\n",
       "<g clip-path=\"url(#clip1100)\">\n",
       "<text style=\"fill:#000000; fill-opacity:1; font-family:Arial,Helvetica Neue,Helvetica,sans-serif; font-size:48px; text-anchor:start;\" transform=\"rotate(0, 2123.06, 329.704)\" x=\"2123.06\" y=\"329.704\">Z1[1]</text>\n",
       "</g>\n",
       "</svg>\n"
      ]
     },
     "execution_count": 56,
     "metadata": {},
     "output_type": "execute_result"
    }
   ],
   "source": [
    "plot(Z, lab=\"Z\")\n",
    "plot!(Ẑ, lab=\"Zhat\")\n",
    "plot!(Z1[1], lab=\"Z1[1]\")"
   ]
  },
  {
   "cell_type": "code",
   "execution_count": 60,
   "metadata": {},
   "outputs": [
    {
     "data": {
      "text/plain": [
       "true"
      ]
     },
     "execution_count": 60,
     "metadata": {},
     "output_type": "execute_result"
    }
   ],
   "source": [
    "Z1[1] ⊆ Ẑ && Ẑ ⊆ Z1[1]\n",
    "#isequivalent(Z1[1], Ẑ)"
   ]
  },
  {
   "cell_type": "code",
   "execution_count": 61,
   "metadata": {},
   "outputs": [
    {
     "data": {
      "text/plain": [
       "1-element Array{VPolygon{Float64,Array{Float64,1}},1}:\n",
       " VPolygon{Float64,Array{Float64,1}}(Array{Float64,1}[[4.8999999999999995, 4.8999999999999995], [12.100000000000001, 12.100000000000001]])"
      ]
     },
     "execution_count": 61,
     "metadata": {},
     "output_type": "execute_result"
    }
   ],
   "source": [
    "# aplico la segunda layer a todos los elementos en Z1\n",
    "layer = nnet.layers[2]\n",
    "Ẑ1 = [affine_map(layer.weights, Z1[i], layer.bias) for i in eachindex(Z1)]"
   ]
  },
  {
   "cell_type": "code",
   "execution_count": 65,
   "metadata": {},
   "outputs": [
    {
     "ename": "MethodError",
     "evalue": "MethodError: Cannot `convert` an object of type HPolytope{Float64} to an object of type Zonotope\nClosest candidates are:\n  convert(::Type{Zonotope}, !Matched::Zonotope) at /home/mforets/.julia/dev/LazySets/src/convert.jl:8\n  convert(::Type{Zonotope}, !Matched::AbstractHyperrectangle) at /home/mforets/.julia/dev/LazySets/src/convert.jl:259\n  convert(::Type{Zonotope}, !Matched::CartesianProduct{N<:Real,Zonotope{N<:Real},Zonotope{N<:Real}}) where N<:Real at /home/mforets/.julia/dev/LazySets/src/convert.jl:687\n  ...",
     "output_type": "error",
     "traceback": [
      "MethodError: Cannot `convert` an object of type HPolytope{Float64} to an object of type Zonotope\nClosest candidates are:\n  convert(::Type{Zonotope}, !Matched::Zonotope) at /home/mforets/.julia/dev/LazySets/src/convert.jl:8\n  convert(::Type{Zonotope}, !Matched::AbstractHyperrectangle) at /home/mforets/.julia/dev/LazySets/src/convert.jl:259\n  convert(::Type{Zonotope}, !Matched::CartesianProduct{N<:Real,Zonotope{N<:Real},Zonotope{N<:Real}}) where N<:Real at /home/mforets/.julia/dev/LazySets/src/convert.jl:687\n  ...",
      "",
      "Stacktrace:",
      " [1] top-level scope at In[65]:1"
     ]
    }
   ],
   "source": [
    "convert(Zonotope, Z1[1])"
   ]
  },
  {
   "cell_type": "code",
   "execution_count": 67,
   "metadata": {},
   "outputs": [
    {
     "data": {
      "text/plain": [
       "HPolytope{Float64}(HalfSpace{Float64,VN} where VN<:AbstractArray{Float64,1}[HalfSpace{Float64,Array{Float64,1}}([-0.2562158884172226, 0.25621588841722254], -1.1417779029739671e-17), HalfSpace{Float64,Array{Float64,1}}([0.2562158884172226, -0.25621588841722254], 1.1417779029739671e-17), HalfSpace{Float64,Array{Float64,1}}([0.14705882352941174, 0.14705882352941177], 0.7058823529411765), HalfSpace{Float64,Array{Float64,1}}([-0.17521271831616655, -0.17521271831616658], -0.21025526197939987), HalfSpace{Float64,Array{Float64,1}}([-1.0, 0.0], 0.0), HalfSpace{Float64,Array{Float64,1}}([0.0, -1.0], 0.0)])"
      ]
     },
     "execution_count": 67,
     "metadata": {},
     "output_type": "execute_result"
    }
   ],
   "source": [
    "Z1[1]"
   ]
  },
  {
   "cell_type": "code",
   "execution_count": 68,
   "metadata": {},
   "outputs": [
    {
     "ename": "MethodError",
     "evalue": "MethodError: no method matching overapproximate(::HPolytope{Float64}, ::Type{Zonotope})\nClosest candidates are:\n  overapproximate(::ST<:LazySet{N<:Real}, !Matched::Type{#s74} where #s74<:HPolygon) where {N<:Real, ST<:LazySet{N}} at /home/mforets/.julia/dev/LazySets/src/Approximations/overapproximate.jl:54\n  overapproximate(::ST<:LazySet{N<:Real}, !Matched::Type{#s59} where #s59<:HPolygon, !Matched::Real) where {N<:Real, ST<:LazySet{N}} at /home/mforets/.julia/dev/LazySets/src/Approximations/overapproximate.jl:54\n  overapproximate(::LazySet{N<:Real}, !Matched::Type{#s95} where #s95<:BallInf) where N<:Real at /home/mforets/.julia/dev/LazySets/src/Approximations/overapproximate.jl:275\n  ...",
     "output_type": "error",
     "traceback": [
      "MethodError: no method matching overapproximate(::HPolytope{Float64}, ::Type{Zonotope})\nClosest candidates are:\n  overapproximate(::ST<:LazySet{N<:Real}, !Matched::Type{#s74} where #s74<:HPolygon) where {N<:Real, ST<:LazySet{N}} at /home/mforets/.julia/dev/LazySets/src/Approximations/overapproximate.jl:54\n  overapproximate(::ST<:LazySet{N<:Real}, !Matched::Type{#s59} where #s59<:HPolygon, !Matched::Real) where {N<:Real, ST<:LazySet{N}} at /home/mforets/.julia/dev/LazySets/src/Approximations/overapproximate.jl:54\n  overapproximate(::LazySet{N<:Real}, !Matched::Type{#s95} where #s95<:BallInf) where N<:Real at /home/mforets/.julia/dev/LazySets/src/Approximations/overapproximate.jl:275\n  ...",
      "",
      "Stacktrace:",
      " [1] top-level scope at In[68]:1"
     ]
    }
   ],
   "source": [
    "overapproximate(Z1[1], Zonotope)"
   ]
  },
  {
   "cell_type": "code",
   "execution_count": 69,
   "metadata": {},
   "outputs": [
    {
     "ename": "MethodError",
     "evalue": "MethodError: Cannot `convert` an object of type HPolytope{Float64} to an object of type Zonotope\nClosest candidates are:\n  convert(::Type{Zonotope}, !Matched::Zonotope) at /home/mforets/.julia/dev/LazySets/src/convert.jl:8\n  convert(::Type{Zonotope}, !Matched::AbstractHyperrectangle) at /home/mforets/.julia/dev/LazySets/src/convert.jl:259\n  convert(::Type{Zonotope}, !Matched::CartesianProduct{N<:Real,Zonotope{N<:Real},Zonotope{N<:Real}}) where N<:Real at /home/mforets/.julia/dev/LazySets/src/convert.jl:687\n  ...",
     "output_type": "error",
     "traceback": [
      "MethodError: Cannot `convert` an object of type HPolytope{Float64} to an object of type Zonotope\nClosest candidates are:\n  convert(::Type{Zonotope}, !Matched::Zonotope) at /home/mforets/.julia/dev/LazySets/src/convert.jl:8\n  convert(::Type{Zonotope}, !Matched::AbstractHyperrectangle) at /home/mforets/.julia/dev/LazySets/src/convert.jl:259\n  convert(::Type{Zonotope}, !Matched::CartesianProduct{N<:Real,Zonotope{N<:Real},Zonotope{N<:Real}}) where N<:Real at /home/mforets/.julia/dev/LazySets/src/convert.jl:687\n  ...",
      "",
      "Stacktrace:",
      " [1] top-level scope at In[69]:1"
     ]
    }
   ],
   "source": [
    "convert(Zonotope, Z1[1])"
   ]
  },
  {
   "cell_type": "code",
   "execution_count": 212,
   "metadata": {},
   "outputs": [
    {
     "ename": "AssertionError",
     "evalue": "AssertionError: a half-space needs a non-zero normal vector",
     "output_type": "error",
     "traceback": [
      "AssertionError: a half-space needs a non-zero normal vector",
      "",
      "Stacktrace:",
      " [1] macro expansion at /home/mforets/.julia/dev/LazySets/src/Assertions/Assertions.jl:23 [inlined]",
      " [2] HalfSpace{Float64,Array{Float64,1}}(::Array{Float64,1}, ::Float64) at /home/mforets/.julia/dev/LazySets/src/Sets/HalfSpace.jl:36",
      " [3] HalfSpace(::Array{Float64,1}, ::Float64) at /home/mforets/.julia/dev/LazySets/src/Sets/HalfSpace.jl:45",
      " [4] #_linear_map_hrep_helper#32(::Nothing, ::typeof(LazySets._linear_map_hrep_helper), ::Array{Float64,2}, ::HPolytope{Float64}, ::Bool) at /home/mforets/.julia/dev/LazySets/src/Interfaces/AbstractPolyhedron_functions.jl:480",
      " [5] #_linear_map_hrep_helper at /home/mforets/.julia/dev/LazySets/src/Interfaces/AbstractPolyhedron_functions.jl:0 [inlined]",
      " [6] #_linear_map_hrep#90 at /home/mforets/.julia/dev/LazySets/src/Sets/HPolytope.jl:136 [inlined]",
      " [7] _linear_map_hrep at /home/mforets/.julia/dev/LazySets/src/Sets/HPolytope.jl:136 [inlined]",
      " [8] #linear_map#29(::Nothing, ::Bool, ::Float64, ::Nothing, ::typeof(linear_map), ::Array{Float64,2}, ::HPolytope{Float64}) at /home/mforets/.julia/dev/LazySets/src/Interfaces/AbstractPolyhedron_functions.jl:426",
      " [9] linear_map at /home/mforets/.julia/dev/LazySets/src/Interfaces/AbstractPolyhedron_functions.jl:388 [inlined]",
      " [10] affine_map(::Layer{ReLU,Float64}, ::HPolytope{Float64}) at /home/mforets/.julia/dev/NeuralVerification/src/utils/util.jl:309",
      " [11] top-level scope at In[212]:1"
     ]
    }
   ],
   "source": [
    "NeuralVerification.affine_map(layer, out2)"
   ]
  },
  {
   "cell_type": "code",
   "execution_count": 221,
   "metadata": {},
   "outputs": [
    {
     "data": {
      "text/plain": [
       "Interval{Float64,IntervalArithmetic.Interval{Float64}}([-72.6, -29.3999])"
      ]
     },
     "execution_count": 221,
     "metadata": {},
     "output_type": "execute_result"
    }
   ],
   "source": [
    "v1 = linear_map(layer.weights, out2, algorithm=\"vrep\")"
   ]
  },
  {
   "cell_type": "code",
   "execution_count": 222,
   "metadata": {},
   "outputs": [
    {
     "data": {
      "text/plain": [
       "HPolytope{Float64}(HalfSpace{Float64,VN} where VN<:AbstractArray{Float64,1}[HalfSpace{Float64,LazySets.Arrays.SingleEntryVector{Float64}}([1.0], -29.399999999999995), HalfSpace{Float64,LazySets.Arrays.SingleEntryVector{Float64}}([-1.0], 72.6)])"
      ]
     },
     "execution_count": 222,
     "metadata": {},
     "output_type": "execute_result"
    }
   ],
   "source": [
    "convert(HPolytope, ans)"
   ]
  },
  {
   "cell_type": "code",
   "execution_count": null,
   "metadata": {},
   "outputs": [],
   "source": [
    "# this returns a vpolytope\n",
    "# we should use followed by a translation, or directly let affine_map work with algorithm...\n",
    "# translate(linear_map(layer.weights, input, algorithm=\"lift\"), layer.bias)\n",
    "# affine_map(layer.weights, input, layer.bias, algorithm=\"lift\") # ??\n",
    "\n",
    "# this is done in NeuralVerification: and then converted back to hrep\n",
    "# NeuralVerification.translate(layer.bias, NeuralVerification.linear_map(layer.weights, input))\n",
    "v1 = translate(v1, layer.bias)\n",
    "h1 = convert(HPolytope, v1)"
   ]
  },
  {
   "cell_type": "markdown",
   "metadata": {},
   "source": [
    "---"
   ]
  },
  {
   "cell_type": "code",
   "execution_count": null,
   "metadata": {},
   "outputs": [],
   "source": [
    "\n",
    "\n",
    "\n",
    "\n",
    "\n",
    "\n",
    "    @testset \"Group 2, 3, 4, 6\" begin\n",
    "\n",
    "        problem_holds    = Problem(small_nnet, in_hyper, HPolytope([HalfSpace([1.], 10.)]))     # y < 10.0\n",
    "        problem_violated = Problem(small_nnet, in_hyper, HPolytope([HalfSpace([-1.], -20.)]))     # y > 20.0\n",
    "\n",
    "        group2 = [NSVerify(), MIPVerify(), ILP()]\n",
    "        group3 = [ConvDual(), Duality()]\n",
    "        group4 = [FastLin(), FastLip()]\n",
    "        group6 = [Reluplex(), Planet()]\n",
    "\n",
    "        for solver in [group2; group3; group4; group6]\n",
    "            holds    = solve(solver, problem_holds)\n",
    "            violated = solve(solver, problem_violated)\n",
    "\n",
    "            @testset \"$(typeof(solver))\" begin\n",
    "                @test holds.status    ∈ (:holds, :unknown)\n",
    "                @test violated.status ∈ (:violated, :unknown)\n",
    "            end\n",
    "        end\n",
    "    end\n",
    "\n",
    "    @testset \"Group 5\" begin\n",
    "        problem_holds    = Problem(small_nnet, in_hyper, out_superset)\n",
    "        problem_violated = Problem(small_nnet, in_hyper, out_overlapping)\n",
    "\n",
    "        for solver in [ReluVal(max_iter = 10), DLV(), Sherlock(ϵ = 0.5), BaB()]\n",
    "            holds    = solve(solver, problem_holds)\n",
    "            violated = solve(solver, problem_violated)\n",
    "\n",
    "            @testset \"$(typeof(solver))\" begin\n",
    "                @test holds.status    ∈ (:holds, :unknown)\n",
    "                @test violated.status ∈ (:violated, :unknown)\n",
    "            end\n",
    "        end\n",
    "    end\n",
    "\n",
    "    @testset \"Certify\" begin\n",
    "        ### Certify - only works for single hidden layer\n",
    "        tiny_nnet = read_nnet(\"$(@__DIR__)/../examples/networks/tiny_nnet.nnet\")\n",
    "        solver_certify = Certify()\n",
    "        in_set  = Hyperrectangle([2.0], [.5])\n",
    "        out_set = HPolytope(ones(1,1), [2.5])\n",
    "        problem_certify = Problem(tiny_nnet, in_set, out_set)\n",
    "        @test @no_error solve(solver_certify, problem_certify)\n",
    "    end\n",
    "end"
   ]
  },
  {
   "cell_type": "code",
   "execution_count": 9,
   "metadata": {},
   "outputs": [
    {
     "name": "stderr",
     "output_type": "stream",
     "text": [
      "┌ Info: MaxSens overapproximates HPolytope input sets as Hyperrectangles.\n",
      "└ @ NeuralVerification /home/mforets/.julia/dev/NeuralVerification/src/reachability/maxSens.jl:91\n",
      "┌ Info: MaxSens overapproximates HPolytope input sets as Hyperrectangles.\n",
      "└ @ NeuralVerification /home/mforets/.julia/dev/NeuralVerification/src/reachability/maxSens.jl:91\n"
     ]
    },
    {
     "ename": "AssertionError",
     "evalue": "AssertionError: a half-space needs a non-zero normal vector",
     "output_type": "error",
     "traceback": [
      "AssertionError: a half-space needs a non-zero normal vector",
      "",
      "Stacktrace:",
      " [1] macro expansion at /home/mforets/.julia/dev/LazySets/src/Assertions/Assertions.jl:23 [inlined]",
      " [2] HalfSpace{Float64,Array{Float64,1}}(::Array{Float64,1}, ::Float64) at /home/mforets/.julia/dev/LazySets/src/Sets/HalfSpace.jl:36",
      " [3] HalfSpace(::Array{Float64,1}, ::Float64) at /home/mforets/.julia/dev/LazySets/src/Sets/HalfSpace.jl:45",
      " [4] #_linear_map_hrep_helper#32(::Nothing, ::typeof(LazySets._linear_map_hrep_helper), ::Array{Float64,2}, ::HPolytope{Float64}, ::Bool) at /home/mforets/.julia/dev/LazySets/src/Interfaces/AbstractPolyhedron_functions.jl:480",
      " [5] #_linear_map_hrep_helper at /home/mforets/.julia/dev/LazySets/src/Interfaces/AbstractPolyhedron_functions.jl:0 [inlined]",
      " [6] #_linear_map_hrep#90 at /home/mforets/.julia/dev/LazySets/src/Sets/HPolytope.jl:136 [inlined]",
      " [7] _linear_map_hrep at /home/mforets/.julia/dev/LazySets/src/Sets/HPolytope.jl:136 [inlined]",
      " [8] #linear_map#29(::Nothing, ::Bool, ::Float64, ::Nothing, ::typeof(linear_map), ::Array{Float64,2}, ::HPolytope{Float64}) at /home/mforets/.julia/dev/LazySets/src/Interfaces/AbstractPolyhedron_functions.jl:426",
      " [9] linear_map at /home/mforets/.julia/dev/LazySets/src/Interfaces/AbstractPolyhedron_functions.jl:388 [inlined]",
      " [10] affine_map(::NeuralVerification.Layer{ReLU,Float64}, ::HPolytope{Float64}) at /home/mforets/.julia/dev/NeuralVerification/src/utils/util.jl:309",
      " [11] forward_layer(::ExactReach, ::NeuralVerification.Layer{ReLU,Float64}, ::Array{HPolytope,1}) at /home/mforets/.julia/dev/NeuralVerification/src/reachability/exactReach.jl:38",
      " [12] forward_network(::ExactReach, ::Network, ::HPolytope{Float64}) at /home/mforets/.julia/dev/NeuralVerification/src/reachability/utils/reachability.jl:9",
      " [13] solve(::ExactReach, ::Problem{HPolytope{Float64},HPolytope{Float64}}) at /home/mforets/.julia/dev/NeuralVerification/src/reachability/exactReach.jl:28",
      " [14] top-level scope at ./In[9]:2"
     ]
    }
   ],
   "source": [
    "for solver in [MaxSens(resolution = 0.6), ExactReach(), Ai2()]\n",
    "    holds    = solve(solver, problem_holds)\n",
    "    violated = solve(solver, problem_violated)\n",
    "\n",
    "    @assert holds.status    ∈ (:holds, :unknown)\n",
    "    @assert violated.status ∈ (:violated, :unknown)\n",
    "end"
   ]
  },
  {
   "cell_type": "markdown",
   "metadata": {},
   "source": [
    "# MNIST Examples\n",
    "\n",
    "Ref: file `test/runtime1.jl`."
   ]
  },
  {
   "cell_type": "code",
   "execution_count": 54,
   "metadata": {},
   "outputs": [
    {
     "data": {
      "text/plain": [
       "\"/home/mforets/.julia/dev/NeuralVerification/examples/networks/mnist4.nnet\""
      ]
     },
     "execution_count": 54,
     "metadata": {},
     "output_type": "execute_result"
    }
   ],
   "source": [
    "# ExactReach, ai2, maxSens\n",
    "\n",
    "using Revise, LazySets, NeuralVerification\n",
    "using NeuralVerification: ReLU, Id\n",
    "using Plots\n",
    "using BenchmarkTools\n",
    "\n",
    "using NeuralVerification, LazySets, Test, LinearAlgebra\n",
    "import NeuralVerification: ReLU, Id\n",
    "\n",
    "# comment to re-enable assertion checks\n",
    "LazySets.deactivate_assertions()\n",
    "LazySets.Assertions.deactivate_assertions(NeuralVerification)\n",
    "\n",
    "macro no_error(ex)\n",
    "    quote\n",
    "        try $(esc(ex))\n",
    "            true\n",
    "        catch\n",
    "            false\n",
    "        end\n",
    "    end\n",
    "end\n",
    "\n",
    "const path = \"/home/mforets/.julia/dev/NeuralVerification\"\n",
    "\n",
    "small_nnet_file = path * \"/examples/networks/small_nnet_id.nnet\"\n",
    "small_nnet = read_nnet(small_nnet_file, last_layer_activation = ReLU())\n",
    "small_nnet_file = path * \"/examples/networks/small_nnet.nnet\"\n",
    "small_nnet_id_file = path * \"/examples/networks/small_nnet_id.nnet\"\n",
    "mnist1_file = path * \"/examples/networks/mnist1.nnet\"\n",
    "mnist2_file = path * \"/examples/networks/mnist2.nnet\"\n",
    "mnist3_file = path * \"/examples/networks/mnist3.nnet\"\n",
    "mnist4_file = path * \"/examples/networks/mnist4.nnet\""
   ]
  },
  {
   "cell_type": "code",
   "execution_count": 55,
   "metadata": {},
   "outputs": [],
   "source": [
    "small_nnet  = read_nnet(small_nnet_file, last_layer_activation = ReLU())\n",
    "small_nnet_id  = read_nnet(small_nnet_id_file, last_layer_activation = Id())\n",
    "\n",
    "mnist1 = read_nnet(mnist1_file, last_layer_activation = Id())\n",
    "mnist2 = read_nnet(mnist2_file, last_layer_activation = Id())\n",
    "mnist3 = read_nnet(mnist3_file, last_layer_activation = Id())\n",
    "mnist4 = read_nnet(mnist4_file, last_layer_activation = Id());"
   ]
  },
  {
   "cell_type": "markdown",
   "metadata": {},
   "source": [
    "# SMALL NNET"
   ]
  },
  {
   "cell_type": "code",
   "execution_count": 56,
   "metadata": {},
   "outputs": [
    {
     "name": "stdout",
     "output_type": "stream",
     "text": [
      "###### Problem type - input:HPolytope, output:HPolytope ######\n",
      "###### Network: small_nnet, problem: holds              ######\n",
      "ExactReach - small_nnet\n",
      " - Time: 0.845044358 s\n",
      " - Output: \n",
      "ReachabilityResult(:holds, HPolytope[])\n",
      "\n",
      "Ai2 - small_nnet\n",
      " - Time: 0.036791328 s\n",
      " - Output: \n",
      "ReachabilityResult(:holds, HPolytope{Float64}[])\n",
      "\n",
      "MaxSens - small_nnet\n",
      " - Time: 0.334099259 s\n",
      " - Output: \n",
      "ReachabilityResult(:holds, Hyperrectangle{Float64,Array{Float64,1},Array{Float64,1}}[])\n",
      "\n",
      "###### Problem type - input:HPolytope, output:HPolytope ######\n"
     ]
    },
    {
     "name": "stderr",
     "output_type": "stream",
     "text": [
      "┌ Info: MaxSens overapproximates HPolytope input sets as Hyperrectangles.\n",
      "└ @ NeuralVerification /home/mforets/.julia/dev/NeuralVerification/src/reachability/maxSens.jl:91\n"
     ]
    }
   ],
   "source": [
    "println(\"###### Problem type - input:HPolytope, output:HPolytope ######\")\n",
    "println(\"###### Network: small_nnet, problem: holds              ######\")\n",
    "\n",
    "in_hyper  = Hyperrectangle(low = [-0.9], high = [0.9])\n",
    "in_hpoly  = convert(HPolytope, in_hyper)\n",
    "out_superset    = Hyperrectangle(low = [30.0], high = [80.0])\n",
    "\n",
    "problem_holds    = Problem(small_nnet, in_hpoly, convert(HPolytope, out_superset))\n",
    "\n",
    "solver = ExactReach()\n",
    "println(\"ExactReach - small_nnet\")\n",
    "timed_result =@timed solve(solver, problem_holds)\n",
    "println(\" - Time: \" * string(timed_result[2]) * \" s\")\n",
    "println(\" - Output: \")\n",
    "println(timed_result[1])\n",
    "println(\"\")\n",
    "\n",
    "solver = Ai2()\n",
    "println(\"Ai2 - small_nnet\")\n",
    "timed_result =@timed solve(solver, problem_holds)\n",
    "println(\" - Time: \" * string(timed_result[2]) * \" s\")\n",
    "println(\" - Output: \")\n",
    "println(timed_result[1])\n",
    "println(\"\")\n",
    "\n",
    "solver = MaxSens(resolution = 0.6)\n",
    "println(\"MaxSens - small_nnet\")\n",
    "timed_result =@timed solve(solver, problem_holds)\n",
    "println(\" - Time: \" * string(timed_result[2]) * \" s\")\n",
    "println(\" - Output: \")\n",
    "println(timed_result[1])\n",
    "println(\"\")\n",
    "\n",
    "println(\"###### Problem type - input:HPolytope, output:HPolytope ######\")"
   ]
  },
  {
   "cell_type": "markdown",
   "metadata": {},
   "source": [
    "# MNIST 1"
   ]
  },
  {
   "cell_type": "code",
   "execution_count": 57,
   "metadata": {},
   "outputs": [
    {
     "name": "stdout",
     "output_type": "stream",
     "text": [
      "\n",
      "\n",
      "\n",
      "###### Network: mnist1                                  ######\n",
      "\n",
      "\n",
      "\n"
     ]
    }
   ],
   "source": [
    "# entry 23 in MNIST datset\n",
    "input_center = [0.0,0,0,0,0,0,0,0,0,0,0,0,0,0,0,0,0,0,0,0,0,0,0,0,0,0,0,0,0,0,0,0,0,0,0,0,0,0,0,0,0,0,0,0,0,0,0,0,0,0,0,0,0,0,0,0,0,0,0,0,0,0,0,0,0,0,0,0,0,0,0,0,0,0,0,0,0,0,0,0,0,0,0,0,0,0,0,0,0,0,0,0,0,0,0,0,0,0,0,0,0,0,0,0,0,0,0,0,0,0,0,0,0,0,0,0,0,0,0,0,0,0,0,0,0,0,0,0,0,0,0,0,0,0,0,0,0,0,0,0,0,0,0,0,0,0,0,0,0,0,0,0,0,0,0,0,0,0,121,254,136,0,0,0,0,0,0,0,0,0,0,0,0,0,0,0,0,0,0,0,0,0,0,0,0,13,230,253,248,99,0,0,0,0,0,0,0,0,0,0,0,0,0,0,0,0,0,0,0,0,0,0,4,118,253,253,225,42,0,0,0,0,0,0,0,0,0,0,0,0,0,0,0,0,0,0,0,0,0,0,61,253,253,253,74,0,0,0,0,0,0,0,0,0,0,0,0,0,0,0,0,0,0,0,0,0,0,32,206,253,253,186,9,0,0,0,0,0,0,0,0,0,0,0,0,0,0,0,0,0,0,0,0,0,0,211,253,253,239,69,0,0,0,0,0,0,0,0,0,0,0,0,0,0,0,0,0,0,0,0,0,0,0,254,253,253,133,0,0,0,0,0,0,0,0,0,0,0,0,0,0,0,0,0,0,0,0,0,0,0,142,255,253,186,8,0,0,0,0,0,0,0,0,0,0,0,0,0,0,0,0,0,0,0,0,0,0,149,229,254,207,21,0,0,0,0,0,0,0,0,0,0,0,0,0,0,0,0,0,0,0,0,0,0,54,229,253,254,105,0,0,0,0,0,0,0,0,0,0,0,0,0,0,0,0,0,0,0,0,0,0,0,152,254,254,213,26,0,0,0,0,0,0,0,0,0,0,0,0,0,0,0,0,0,0,0,0,0,0,112,251,253,253,26,0,0,0,0,0,0,0,0,0,0,0,0,0,0,0,0,0,0,0,0,0,0,29,212,253,250,149,0,0,0,0,0,0,0,0,0,0,0,0,0,0,0,0,0,0,0,0,0,0,36,214,253,253,137,0,0,0,0,0,0,0,0,0,0,0,0,0,0,0,0,0,0,0,0,0,0,0,75,253,253,253,59,0,0,0,0,0,0,0,0,0,0,0,0,0,0,0,0,0,0,0,0,0,0,0,93,253,253,189,17,0,0,0,0,0,0,0,0,0,0,0,0,0,0,0,0,0,0,0,0,0,0,0,224,253,253,84,0,0,0,0,0,0,0,0,0,0,0,0,0,0,0,0,0,0,0,0,0,0,0,43,235,253,126,1,0,0,0,0,0,0,0,0,0,0,0,0,0,0,0,0,0,0,0,0,0,0,0,99,248,253,119,0,0,0,0,0,0,0,0,0,0,0,0,0,0,0,0,0,0,0,0,0,0,0,0,0,225,235,49,0,0,0,0,0,0,0,0,0,0,0,0,0,0,0,0,0,0,0,0,0,0,0,0,0,0,0,0,0,0,0,0,0,0,0,0,0,0,0,0,0,0,0,0,0,0,0,0,0,0,0,0,0,0,0,0,0,0,0,0,0,0,0,0,0,0,0,0,0,0,0,0,0,0,0,0,0,0,0,0,0,0,0,0,0,0,0,0,0,0,0,0,0,0,0,0,0,0,0,0]\n",
    "output_center = [-1311.1257826380004,4633.767704436501,-654.0718535670002,-1325.349417307,1175.2361184373997,-1897.8607293569007,-470.3405972940001,830.8337987382,-377.7467076115001,572.3674015264198]\n",
    "\n",
    "in_epsilon = 1.0 #0-255\n",
    "out_epsilon = 10.0 #logit domain\n",
    "\n",
    "input_low = input_center .- in_epsilon\n",
    "input_high = input_center .+ in_epsilon\n",
    "\n",
    "output_low = output_center .- out_epsilon\n",
    "output_high = output_center .+ out_epsilon\n",
    "\n",
    "inputSet = Hyperrectangle(low=input_low, high=input_high)\n",
    "outputSet = Hyperrectangle(low=output_low, high=output_high)\n",
    "\n",
    "problem_mnist = Problem(mnist1, convert(HPolytope, inputSet), convert(HPolytope, outputSet))\n",
    "\n",
    "## MNIST1 ##\n",
    "print(\"\\n\\n\\n\")\n",
    "println(\"###### Network: mnist1                                  ######\")\n",
    "print(\"\\n\\n\\n\")\n"
   ]
  },
  {
   "cell_type": "markdown",
   "metadata": {},
   "source": [
    "### Problem size"
   ]
  },
  {
   "cell_type": "code",
   "execution_count": 58,
   "metadata": {},
   "outputs": [],
   "source": [
    "h0 = problem_mnist.input;"
   ]
  },
  {
   "cell_type": "code",
   "execution_count": 59,
   "metadata": {},
   "outputs": [
    {
     "data": {
      "text/plain": [
       "784"
      ]
     },
     "execution_count": 59,
     "metadata": {},
     "output_type": "execute_result"
    }
   ],
   "source": [
    "dim(h0)"
   ]
  },
  {
   "cell_type": "code",
   "execution_count": 60,
   "metadata": {},
   "outputs": [],
   "source": [
    "hout = problem_mnist.output;"
   ]
  },
  {
   "cell_type": "code",
   "execution_count": 61,
   "metadata": {},
   "outputs": [
    {
     "data": {
      "text/plain": [
       "10"
      ]
     },
     "execution_count": 61,
     "metadata": {},
     "output_type": "execute_result"
    }
   ],
   "source": [
    "dim(hout)"
   ]
  },
  {
   "cell_type": "code",
   "execution_count": null,
   "metadata": {},
   "outputs": [],
   "source": []
  },
  {
   "cell_type": "code",
   "execution_count": 62,
   "metadata": {},
   "outputs": [
    {
     "data": {
      "text/plain": [
       "2-element Array{NeuralVerification.Layer,1}:\n",
       " NeuralVerification.Layer{ReLU,Float64}([-0.0145822 -0.10073 … 0.0317891 -0.121057; 0.0927983 0.0378668 … -0.170367 0.0468094; … ; 0.106251 -0.0527935 … -0.152655 -0.159538; -0.0353035 0.107237 … -0.15136 -0.11534], [0.250202, -0.0460057, 0.197282, 0.206724, 0.19505, 0.123348, 0.195402, 0.195682, 0.270503, 0.0789479  …  0.00734778, 0.195026, 0.139418, 0.188492, 0.36361, -0.0787834, 0.209898, 0.276816, 0.103367, 0.239872], ReLU())\n",
       " NeuralVerification.Layer{Id,Float64}([-0.048196 0.0694253 … -0.147897 -0.0522713; -0.165646 0.0419264 … -0.0298784 0.308652; … ; -0.0234716 0.233258 … -0.0833671 0.0769656; 0.253074 0.0652968 … -0.0465979 0.124504], [0.0894416, 0.23172, 0.113948, 0.0927643, 0.180114, 0.294576, 0.107671, 0.216698, -0.0553405, 0.108553], Id())                                                                                                          "
      ]
     },
     "execution_count": 62,
     "metadata": {},
     "output_type": "execute_result"
    }
   ],
   "source": [
    "lay = problem_mnist.network.layers"
   ]
  },
  {
   "cell_type": "code",
   "execution_count": 63,
   "metadata": {},
   "outputs": [
    {
     "data": {
      "text/plain": [
       "(25, 784)"
      ]
     },
     "execution_count": 63,
     "metadata": {},
     "output_type": "execute_result"
    }
   ],
   "source": [
    "size(lay[1].weights)"
   ]
  },
  {
   "cell_type": "code",
   "execution_count": 64,
   "metadata": {},
   "outputs": [
    {
     "data": {
      "text/plain": [
       "(10, 25)"
      ]
     },
     "execution_count": 64,
     "metadata": {},
     "output_type": "execute_result"
    }
   ],
   "source": [
    "size(lay[2].weights)"
   ]
  },
  {
   "cell_type": "code",
   "execution_count": 65,
   "metadata": {},
   "outputs": [],
   "source": [
    "# times out\n",
    "#@time x = linear_map(lay[1].weights, h0, algorithm=\"elimination\");"
   ]
  },
  {
   "cell_type": "code",
   "execution_count": 66,
   "metadata": {},
   "outputs": [],
   "source": [
    "# prueba haciendo el calculo de forma lazy"
   ]
  },
  {
   "cell_type": "code",
   "execution_count": 67,
   "metadata": {
    "scrolled": true
   },
   "outputs": [
    {
     "data": {
      "text/plain": [
       "25"
      ]
     },
     "execution_count": 67,
     "metadata": {},
     "output_type": "execute_result"
    }
   ],
   "source": [
    "h1 = lay[1].weights * h0 ⊕ lay[1].bias;\n",
    "dim(h1)"
   ]
  },
  {
   "cell_type": "code",
   "execution_count": 68,
   "metadata": {},
   "outputs": [
    {
     "name": "stdout",
     "output_type": "stream",
     "text": [
      "  65.734 ms (12671 allocations: 9.77 MiB)\n"
     ]
    },
    {
     "data": {
      "text/plain": [
       "6555.235218337957"
      ]
     },
     "execution_count": 68,
     "metadata": {},
     "output_type": "execute_result"
    }
   ],
   "source": [
    "# test single support-vector evaluation\n",
    "v = rand(25)\n",
    "@btime ρ($v, $h1) \n",
    "#   62.960 ms (12671 allocations: 9.77 MiB)"
   ]
  },
  {
   "cell_type": "code",
   "execution_count": 69,
   "metadata": {},
   "outputs": [
    {
     "data": {
      "text/plain": [
       "20"
      ]
     },
     "execution_count": 69,
     "metadata": {},
     "output_type": "execute_result"
    }
   ],
   "source": [
    "# number of constraints in the output\n",
    "length(hout.constraints)"
   ]
  },
  {
   "cell_type": "code",
   "execution_count": 70,
   "metadata": {},
   "outputs": [
    {
     "data": {
      "text/plain": [
       "ReLU()"
      ]
     },
     "execution_count": 70,
     "metadata": {},
     "output_type": "execute_result"
    }
   ],
   "source": [
    "lay[1].activation"
   ]
  },
  {
   "cell_type": "code",
   "execution_count": 71,
   "metadata": {},
   "outputs": [],
   "source": [
    "# apply the lazy rectification to the lazy set"
   ]
  },
  {
   "cell_type": "code",
   "execution_count": 72,
   "metadata": {},
   "outputs": [],
   "source": [
    "Rh1 = Rectification(h1);"
   ]
  },
  {
   "cell_type": "code",
   "execution_count": 73,
   "metadata": {},
   "outputs": [
    {
     "data": {
      "text/plain": [
       "25"
      ]
     },
     "execution_count": 73,
     "metadata": {},
     "output_type": "execute_result"
    }
   ],
   "source": [
    "dim(Rh1)"
   ]
  },
  {
   "cell_type": "code",
   "execution_count": 74,
   "metadata": {},
   "outputs": [],
   "source": [
    "using Optim # required to evaluate the support function of a Rectification, better error message required\n",
    "# currently it gives UndefVarError: _line_search not defined"
   ]
  },
  {
   "cell_type": "code",
   "execution_count": 75,
   "metadata": {},
   "outputs": [
    {
     "data": {
      "text/plain": [
       "false"
      ]
     },
     "execution_count": 75,
     "metadata": {},
     "output_type": "execute_result"
    }
   ],
   "source": [
    "Rh1.cache.use_support_vector"
   ]
  },
  {
   "cell_type": "code",
   "execution_count": 76,
   "metadata": {},
   "outputs": [],
   "source": [
    "# ρ(v, Rh1) #times out -- why?"
   ]
  },
  {
   "cell_type": "code",
   "execution_count": null,
   "metadata": {},
   "outputs": [],
   "source": [
    ")"
   ]
  },
  {
   "cell_type": "code",
   "execution_count": 77,
   "metadata": {},
   "outputs": [
    {
     "data": {
      "text/plain": [
       "25"
      ]
     },
     "execution_count": 77,
     "metadata": {},
     "output_type": "execute_result"
    }
   ],
   "source": [
    "h1 = lay[1].weights * h0 ⊕ lay[1].bias;\n",
    "dim(h1)"
   ]
  },
  {
   "cell_type": "code",
   "execution_count": 78,
   "metadata": {},
   "outputs": [],
   "source": [
    "z0 = convert(Zonotope, inputSet);"
   ]
  },
  {
   "cell_type": "code",
   "execution_count": 130,
   "metadata": {},
   "outputs": [
    {
     "data": {
      "text/plain": [
       "Zonotope{Float64}([339.974109148, 804.7896889100001, -120.93643818999996, 159.70175620000003, 26.19222235999995, 1580.6718794500002, 690.7373682659999, 1086.72936922, 1152.303486986, 754.8417245400001  …  595.205993736, 398.84354348999994, 1746.50328544, -337.6511418299998, -332.14377932, 621.3071805300001, 157.88175538, 796.44674758, 493.220777666, 1033.8942424680001], [-0.0145822 -0.10073 … 0.0317891 -0.121057; 0.0927983 0.0378668 … -0.170367 0.0468094; … ; 0.106251 -0.0527935 … -0.152655 -0.159538; -0.0353035 0.107237 … -0.15136 -0.11534])"
      ]
     },
     "execution_count": 130,
     "metadata": {},
     "output_type": "execute_result"
    }
   ],
   "source": [
    "# this works fine\n",
    "z1 = LazySets.affine_map(lay[1].weights, z0, lay[1].bias)"
   ]
  },
  {
   "cell_type": "code",
   "execution_count": 135,
   "metadata": {},
   "outputs": [
    {
     "data": {
      "text/plain": [
       "7759.024274278777"
      ]
     },
     "execution_count": 135,
     "metadata": {},
     "output_type": "execute_result"
    }
   ],
   "source": [
    "ρ(v, rectify(box_approximation(z1)))"
   ]
  },
  {
   "cell_type": "code",
   "execution_count": 83,
   "metadata": {},
   "outputs": [
    {
     "ename": "InterruptException",
     "evalue": "InterruptException:",
     "output_type": "error",
     "traceback": [
      "InterruptException:",
      "",
      "Stacktrace:",
      " [1] Type at /buildworker/worker/package_linux64/build/usr/share/julia/stdlib/v1.2/LinearAlgebra/src/lu.jl:13 [inlined]",
      " [2] #lu!#118(::Bool, ::typeof(lu!), ::Array{Float64,2}, ::Val{true}) at /buildworker/worker/package_linux64/build/usr/share/julia/stdlib/v1.2/LinearAlgebra/src/lu.jl:42",
      " [3] #lu! at ./none:0 [inlined]",
      " [4] #lu#122 at /buildworker/worker/package_linux64/build/usr/share/julia/stdlib/v1.2/LinearAlgebra/src/lu.jl:142 [inlined]",
      " [5] #lu at ./none:0 [inlined] (repeats 2 times)",
      " [6] det(::SubArray{Float64,2,Array{Float64,2},Tuple{Array{Int64,1},Array{Int64,1}},false}) at /buildworker/worker/package_linux64/build/usr/share/julia/stdlib/v1.2/LinearAlgebra/src/generic.jl:1345",
      " [7] cross_product(::SubArray{Float64,2,Array{Float64,2},Tuple{Base.Slice{Base.OneTo{Int64}},Array{Int64,1}},false}) at /home/mforets/.julia/dev/LazySets/src/Arrays/matrix_operations.jl:132",
      " [8] #constraints_list#330(::Bool, ::typeof(constraints_list), ::Zonotope{Float64}) at /home/mforets/.julia/dev/LazySets/src/Interfaces/AbstractZonotope.jl:464",
      " [9] constraints_list(::Zonotope{Float64}) at /home/mforets/.julia/dev/LazySets/src/Interfaces/AbstractZonotope.jl:436",
      " [10] top-level scope at In[83]:1"
     ]
    }
   ],
   "source": [
    "constraints_list(z1);"
   ]
  },
  {
   "cell_type": "code",
   "execution_count": 89,
   "metadata": {},
   "outputs": [
    {
     "data": {
      "text/plain": [
       "784"
      ]
     },
     "execution_count": 89,
     "metadata": {},
     "output_type": "execute_result"
    }
   ],
   "source": [
    "dim(z0)"
   ]
  },
  {
   "cell_type": "code",
   "execution_count": 91,
   "metadata": {},
   "outputs": [],
   "source": [
    "using OwnTime, Profile"
   ]
  },
  {
   "cell_type": "code",
   "execution_count": 158,
   "metadata": {},
   "outputs": [],
   "source": [
    "ztest = rand(Zonotope, dim=8)\n",
    "\n",
    "Profile.clear()\n",
    "@profile constraints_list(ztest);"
   ]
  },
  {
   "cell_type": "code",
   "execution_count": 159,
   "metadata": {},
   "outputs": [],
   "source": [
    "yy = constraints_list(ztest);"
   ]
  },
  {
   "cell_type": "code",
   "execution_count": 160,
   "metadata": {},
   "outputs": [
    {
     "data": {
      "text/plain": [
       "22880"
      ]
     },
     "execution_count": 160,
     "metadata": {},
     "output_type": "execute_result"
    }
   ],
   "source": [
    "length(yy)"
   ]
  },
  {
   "cell_type": "code",
   "execution_count": 161,
   "metadata": {},
   "outputs": [
    {
     "ename": "InterruptException",
     "evalue": "InterruptException:",
     "output_type": "error",
     "traceback": [
      "InterruptException:",
      "",
      "Stacktrace:",
      " [1] Type at ./boot.jl:404 [inlined]",
      " [2] Type at ./boot.jl:413 [inlined]",
      " [3] zeros at ./array.jl:445 [inlined]",
      " [4] zeros at ./array.jl:441 [inlined]",
      " [5] Dict{Any,Any}() at ./dict.jl:90",
      " [6] Type at ./dict.jl:117 [inlined]",
      " [7] solvelp(::GLPKMathProgInterface.GLPKInterfaceLP.GLPKMathProgModelLP) at /home/mforets/.julia/packages/MathProgBase/rVlFR/src/HighLevelInterface/linprog.jl:80",
      " [8] linprog at /home/mforets/.julia/packages/MathProgBase/rVlFR/src/HighLevelInterface/linprog.jl:107 [inlined]",
      " [9] #remove_redundant_constraints!#26(::GLPKMathProgInterface.GLPKInterfaceLP.GLPKSolverLP, ::typeof(remove_redundant_constraints!), ::Array{HalfSpace{Float64,Array{Float64,1}},1}) at /home/mforets/.julia/dev/LazySets/src/Interfaces/AbstractPolyhedron_functions.jl:214",
      " [10] remove_redundant_constraints!(::Array{HalfSpace{Float64,Array{Float64,1}},1}) at /home/mforets/.julia/dev/LazySets/src/Interfaces/AbstractPolyhedron_functions.jl:203",
      " [11] top-level scope at In[161]:1"
     ]
    }
   ],
   "source": [
    "remove_redundant_constraints!(yy)"
   ]
  },
  {
   "cell_type": "code",
   "execution_count": 162,
   "metadata": {},
   "outputs": [
    {
     "data": {
      "text/plain": [
       "22880"
      ]
     },
     "execution_count": 162,
     "metadata": {},
     "output_type": "execute_result"
    }
   ],
   "source": [
    "length(yy)"
   ]
  },
  {
   "cell_type": "code",
   "execution_count": 113,
   "metadata": {},
   "outputs": [
    {
     "data": {
      "text/plain": [
       " [1]  67% => #lu!#118(::Bool, ::typeof(lu!), ::Array{Float64,2}, ::Val{true}) at lapack.jl:550\n",
       " [2]  33% => _array_for at boot.jl:404 [inlined]\n"
      ]
     },
     "execution_count": 113,
     "metadata": {},
     "output_type": "execute_result"
    }
   ],
   "source": [
    "owntime()"
   ]
  },
  {
   "cell_type": "code",
   "execution_count": 114,
   "metadata": {},
   "outputs": [
    {
     "data": {
      "text/plain": [
       " [1] 100% => constraints_list(::Zonotope{Float64}) at AbstractZonotope.jl:436\n",
       " [2] 100% => execute_request(::ZMQ.Socket, ::IJulia.Msg) at execute_request.jl:67\n",
       " [3] 100% => #constraints_list#330(::Bool, ::typeof(constraints_list), ::Zonotope{Float64}) at AbstractZonotope.jl:464\n",
       " [4] 100% => eventloop(::ZMQ.Socket) at eventloop.jl:28\n",
       " [5] 100% => eval at boot.jl:330 [inlined]\n",
       " [6] 100% => invokelatest at essentials.jl:789 [inlined]\n",
       " [7] 100% => eventloop(::ZMQ.Socket) at eventloop.jl:8\n",
       " [8] 100% => (::getfield(IJulia, Symbol(\"##15#18\")))() at task.jl:268\n",
       " [9] 100% => softscope_include_string(::Module, ::String, ::String) at SoftGlobalScope.jl:218\n",
       "[10] 100% => #invokelatest#1 at essentials.jl:790 [inlined]\n",
       "[11]  67% => #lu#122 at lu.jl:142 [inlined]\n",
       "[12]  67% => #lu at none:0 [inlined]\n",
       "[13]  67% => det(::SubArray{Float64,2,Array{Float64,2},Tuple{Array{Int64,1},Array{Int64,1}},false}) at generic.jl:1345\n",
       "[14]  67% => cross_product(::SubArray{Float64,2,Array{Float64,2},Tuple{Base.Slice{Base.OneTo{Int64}},Array{Int64,1}},false}) at matrix_operations.jl:132\n",
       "[15]  67% => #lu!#118(::Bool, ::typeof(lu!), ::Array{Float64,2}, ::Val{true}) at lapack.jl:550\n",
       "[16]  67% => #lu! at none:0 [inlined]\n",
       "[17]  33% => _maybe_reindex at subarray.jl:179 [inlined]\n",
       "[18]  33% => unsafe_view at subarray.jl:172 [inlined]\n",
       "[19]  33% => view at subarray.jl:158 [inlined]\n",
       "[20]  33% => collect at multidimensional.jl:571 [inlined]\n",
       "[21]  33% => ensure_indexable at multidimensional.jl:627 [inlined]\n",
       "[22]  33% => cross_product(::SubArray{Float64,2,Array{Float64,2},Tuple{Base.Slice{Base.OneTo{Int64}},Array{Int64,1}},false}) at matrix_operations.jl:131\n",
       "[23]  33% => _maybe_reindex at subarray.jl:173 [inlined]\n",
       "[24]  33% => _maybe_reindex at subarray.jl:183 [inlined]\n",
       "[25]  33% => _array_for at boot.jl:404 [inlined]\n",
       "[26]  33% => Type at subarray.jl:22 [inlined]\n",
       "[27]  33% => collect(::Base.Generator{Base.LogicalIndex{Int64,BitArray{1}},getfield(Base, Symbol(\"##407#408\"))}) at array.jl:611\n"
      ]
     },
     "execution_count": 114,
     "metadata": {},
     "output_type": "execute_result"
    }
   ],
   "source": [
    "totaltime()"
   ]
  },
  {
   "cell_type": "code",
   "execution_count": null,
   "metadata": {},
   "outputs": [],
   "source": [
    "# TIMES OUT\n",
    "solver = ExactReach()\n",
    "print(\"ExactReach - mnist1\")\n",
    "timed_result =@timed solve(solver, problem_mnist)\n",
    "print(\" - Time: \" * string(timed_result[2]) * \" s\")\n",
    "print(\" - Output: \")\n",
    "print(timed_result[1])\n",
    "\n",
    "# TIMES OUT\n",
    "solver = Ai2()\n",
    "print(\"Ai2 - mnist1\")\n",
    "timed_result =@timed solve(solver, problem_mnist)\n",
    "print(\" - Time: \" * string(timed_result[2]) * \" s\")\n",
    "print(\" - Output: \")\n",
    "print(timed_result[1])\n",
    "\n",
    "solver = MaxSens(resolution = 0.6)\n",
    "print(\"MaxSens - mnist1\")\n",
    "#@time solve(solver, problem_hyperrectangle_hyperrectangle_small)\n",
    "timed_result =@timed solve(solver, problem_mnist)\n",
    "print(\" - Time: \" * string(timed_result[2]) * \" s\")\n",
    "print(\" - Output: \")\n",
    "print(timed_result[1])"
   ]
  },
  {
   "cell_type": "markdown",
   "metadata": {},
   "source": [
    "# Other"
   ]
  },
  {
   "cell_type": "code",
   "execution_count": null,
   "metadata": {},
   "outputs": [],
   "source": [
    "## MNIST2 ##\n",
    "problem_mnist2 = Problem(mnist2, convert(HPolytope, inputSet), convert(HPolytope, outputSet))\n",
    "print(\"\\n\\n\\n\")\n",
    "println(\"###### Network: mnist2                                  ######\")\n",
    "print(\"\\n\\n\\n\")\n",
    "# TIMES OUT\n",
    "#solver = ExactReach()\n",
    "#print(\"ExactReach - mnist1\")\n",
    "#timed_result =@timed solve(solver, problem_mnist2)\n",
    "#print(\" - Time: \" * string(timed_result[2]) * \" s\")\n",
    "#print(\" - Output: \")\n",
    "#print(timed_result[1])\n",
    "\n",
    "# TIMES OUT\n",
    "#solver = Ai2()\n",
    "#print(\"Ai2 - mnist1\")\n",
    "#timed_result =@timed solve(solver, problem_mnist2)\n",
    "#print(\" - Time: \" * string(timed_result[2]) * \" s\")\n",
    "#print(\" - Output: \")\n",
    "#print(timed_result[1])\n",
    "\n",
    "solver = MaxSens(resolution = 0.6)\n",
    "print(\"MaxSens - mnist2\")\n",
    "timed_result =@timed solve(solver, problem_mnist2)\n",
    "print(\" - Time: \" * string(timed_result[2]) * \" s\")\n",
    "print(\" - Output: \")\n",
    "print(timed_result[1])\n",
    "\n",
    "\n",
    "## MNIST3 ##\n",
    "problem_mnist3 = Problem(mnist3, convert(HPolytope, inputSet), convert(HPolytope, outputSet))\n",
    "print(\"\\n\\n\\n\")\n",
    "println(\"###### Network: mnist3                                  ######\")\n",
    "print(\"\\n\\n\\n\")\n",
    "# TIMES OUT\n",
    "#solver = ExactReach()\n",
    "#print(\"ExactReach - mnist1\")\n",
    "#timed_result =@timed solve(solver, problem_mnist3)\n",
    "#print(\" - Time: \" * string(timed_result[2]) * \" s\")\n",
    "#print(\" - Output: \")\n",
    "#print(timed_result[1])\n",
    "\n",
    "# TIMES OUT\n",
    "#solver = Ai2()\n",
    "#print(\"Ai2 - mnist1\")\n",
    "#timed_result =@timed solve(solver, problem_mnist3)\n",
    "#print(\" - Time: \" * string(timed_result[2]) * \" s\")\n",
    "#print(\" - Output: \")\n",
    "#print(timed_result[1])\n",
    "\n",
    "solver = MaxSens(resolution = 0.6)\n",
    "print(\"MaxSens - mnist3\")\n",
    "timed_result =@timed solve(solver, problem_mnist3)\n",
    "print(\" - Time: \" * string(timed_result[2]) * \" s\")\n",
    "print(\" - Output: \")\n",
    "print(timed_result[1])\n",
    "\n",
    "\n",
    "## MNIST4 ##\n",
    "problem_mnist4 = Problem(mnist4, convert(HPolytope, inputSet), convert(HPolytope, outputSet))\n",
    "print(\"\\n\\n\\n\")\n",
    "println(\"###### Network: mnist4                                  ######\")\n",
    "print(\"\\n\\n\\n\")\n",
    "\n",
    "# TIMES OUT\n",
    "\n",
    "#solver = ExactReach()\n",
    "#print(\"ExactReach - mnist1\")\n",
    "#timed_result =@timed solve(solver, problem_mnist4)\n",
    "#print(\" - Time: \" * string(timed_result[2]) * \" s\")\n",
    "#print(\" - Output: \")\n",
    "#print(timed_result[1])\n",
    "\n",
    "# TIMES OUT\n",
    "\n",
    "#solver = Ai2()\n",
    "#print(\"Ai2 - mnist1\")\n",
    "#timed_result =@timed solve(solver, problem_mnist4)\n",
    "#print(\" - Time: \" * string(timed_result[2]) * \" s\")\n",
    "#print(\" - Output: \")\n",
    "#print(timed_result[1])\n",
    "\n",
    "solver = MaxSens(resolution = 0.6)\n",
    "print(\"MaxSens - mnist4\")\n",
    "timed_result =@timed solve(solver, problem_mnist4)\n",
    "print(\" - Time: \" * string(timed_result[2]) * \" s\")\n",
    "print(\" - Output: \")\n",
    "print(timed_result[1])\n",
    "\n",
    "# ACAS\n",
    "print(\"\\n\\n\\n\")\n",
    "println(\"###### Problem type - input:HPolytope, output:HPolytope ######\")\n",
    "print(\"\\n\\n\\n\")\n",
    "println(\"###### Network: acas                                    ######\")\n",
    "print(\"\\n\\n\\n\")\n",
    "\n",
    "#acas_file = \"$(@__DIR__)/../examples/networks/ACASXU_run2a_1_1_tiny_4.nnet\"\n",
    "acas_file = \"$(@__DIR__)/../examples/networks/ACASXU_run2a_4_5_batch_2000.nnet\"\n",
    "#ACASXU_run2a_4_5_batch_2000.nnet\n",
    "\n",
    "acas_nnet = read_nnet(acas_file, last_layer_activation = Id())\n",
    "\n",
    "# ACAS PROPERTY 10 - modified\n",
    "# Original input range:\n",
    "# LOWER BOUND: array([[ 0.21466922,  0.11140846, -0.4999999 ,  0.3920202 ,  0.15      ]])\n",
    "# UPPER BOUND: array([[ 0.58819589,  0.4999999 , -0.49840835,  0.66474747,  0.65      ]])\n",
    "A0 = Matrix{Float64}(I, 5, 5)\n",
    "A1 = -Matrix{Float64}(I, 5, 5)\n",
    "A = vcat(A0, A1)\n",
    "\n",
    "\n",
    "#b_lower = [0.21466922, 0.11140846, -0.4999999, 0.52838384, 0.4]\n",
    "#b_upper = [0.58819589, 0.4999999 , -0.4999999, 0.52838384, 0.4]\n",
    "\n",
    "#b_lower = [ 0.21466922,  0.11140846, -0.4999999 ,  0.3920202 ,  0.15      ]\n",
    "#b_upper = [ 0.58819589,  0.4999999 , -0.49840835,  0.66474747,  0.65      ]\n",
    "\n",
    "#b_lower = [ 0.21466922,  0.11140846, -0.4999999 ,  0.3920202 ,  0.20      ]\n",
    "#b_upper = [ 0.58819589,  0.4999999 , -0.49840835,  0.66474747,  0.65      ]\n",
    "\n",
    "b_lower = [ 0.21466922,  0.11140846, -0.4999999 ,  0.3920202 ,  0.4      ]\n",
    "b_upper = [ 0.58819589,  0.4999999 , -0.49840835,  0.66474747,  0.4      ]\n",
    "\n",
    "\n",
    "in_hyper  = Hyperrectangle(low = b_lower, high = b_upper)\n",
    "inputSet = convert(HPolytope, in_hyper)\n",
    "\n",
    "#inputSet = HPolytope(A, b)\n",
    "\n",
    "\n",
    "A = Matrix(undef, 2, 1)\n",
    "A = [1.0, 0.0, 0.0, 0.0, -1.0]'\n",
    "b = [0.0]\n",
    "outputSet = HPolytope(A, b)\n",
    "\n",
    "problem_polytope_polytope_acas = Problem(acas_nnet, inputSet, outputSet)\n",
    "\n",
    "# TIMES OUT\n",
    "\n",
    "#solver = ExactReach()\n",
    "#print(\"\\nExactReach - ACAS\")\n",
    "#timed_result = @timed solve(solver, problem_polytope_polytope_acas)\n",
    "#print(\" - Time: \" * string(timed_result[2]) * \" s\")\n",
    "#print(\" - Output: \")\n",
    "#print(timed_result[1])\n",
    "#println(\"\")\n",
    "\n",
    "# TIMES OUT\n",
    "\n",
    "#solver = Ai2()\n",
    "#print(\"\\nAi2 - ACAS\")\n",
    "#timed_result = @timed solve(solver, problem_polytope_polytope_acas)\n",
    "#print(\" - Time: \" * string(timed_result[2]) * \" s\")\n",
    "#print(\" - Output: \")\n",
    "#print(timed_result[1])\n",
    "#println(\"\")\n",
    "\n",
    "solver = MaxSens(1.0, false)\n",
    "println(\"MaxSens - ACAS\")\n",
    "timed_result = @timed solve(solver, problem_polytope_polytope_acas)\n",
    "println(\" - Time: \" * string(timed_result[2]) * \" s\")\n",
    "println(\" - Output: \")\n",
    "println(timed_result[1])\n",
    "println(\"\")\n"
   ]
  }
 ],
 "metadata": {
  "kernelspec": {
   "display_name": "Julia 1.2.0",
   "language": "julia",
   "name": "julia-1.2"
  },
  "language_info": {
   "file_extension": ".jl",
   "mimetype": "application/julia",
   "name": "julia",
   "version": "1.2.0"
  }
 },
 "nbformat": 4,
 "nbformat_minor": 2
}
