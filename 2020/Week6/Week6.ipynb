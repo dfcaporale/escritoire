{
 "cells": [
  {
   "cell_type": "markdown",
   "metadata": {},
   "source": [
    "## Neural network analysis"
   ]
  },
  {
   "cell_type": "markdown",
   "metadata": {},
   "source": [
    "- https://arxiv.org/pdf/1811.01828.pdf"
   ]
  },
  {
   "cell_type": "markdown",
   "metadata": {},
   "source": [
    "https://github.com/Verisig/verisig"
   ]
  },
  {
   "cell_type": "markdown",
   "metadata": {},
   "source": [
    "# Refactor boundnedness check for HPolygon #1925"
   ]
  },
  {
   "cell_type": "code",
   "execution_count": 3,
   "metadata": {},
   "outputs": [],
   "source": [
    "using Revise, LazySets, BenchmarkTools"
   ]
  },
  {
   "cell_type": "code",
   "execution_count": 10,
   "metadata": {},
   "outputs": [
    {
     "data": {
      "text/plain": [
       "HPolygon{Float64}(HalfSpace{Float64,VN} where VN<:AbstractArray{Float64,1}[HalfSpace{Float64,Array{Float64,1}}([0.6159515349391558, 0.9983466409322888], 1.974736518100653), HalfSpace{Float64,Array{Float64,1}}([0.6033188947195148, 1.0995724074013542], 1.9501545526062711), HalfSpace{Float64,Array{Float64,1}}([0.35796318499727564, 1.1356103005597236], 1.5118034051414222), HalfSpace{Float64,Array{Float64,1}}([-1.8766998630881957, 0.8716420566547223], -0.47215852850328266), HalfSpace{Float64,Array{Float64,1}}([-0.38636220314186276, 0.14083680482846916], -0.06690986753953217), HalfSpace{Float64,Array{Float64,1}}([-0.16447862623133958, -0.810507596440426], 0.9908130392940367), HalfSpace{Float64,Array{Float64,1}}([0.061075810475338166, -2.8121520144125585], 3.7895289339842164), HalfSpace{Float64,Array{Float64,1}}([0.7892312673301136, -0.6233485995235735], 3.4533001233615033)])"
      ]
     },
     "execution_count": 10,
     "metadata": {},
     "output_type": "execute_result"
    }
   ],
   "source": [
    "P = rand(HPolygon)"
   ]
  },
  {
   "cell_type": "code",
   "execution_count": 11,
   "metadata": {},
   "outputs": [
    {
     "data": {
      "text/plain": [
       "true"
      ]
     },
     "execution_count": 11,
     "metadata": {},
     "output_type": "execute_result"
    }
   ],
   "source": [
    "isbounded(P, false)"
   ]
  },
  {
   "cell_type": "code",
   "execution_count": 12,
   "metadata": {},
   "outputs": [
    {
     "name": "stdout",
     "output_type": "stream",
     "text": [
      "  52.567 μs (310 allocations: 20.11 KiB)\n"
     ]
    },
    {
     "data": {
      "text/plain": [
       "true"
      ]
     },
     "execution_count": 12,
     "metadata": {},
     "output_type": "execute_result"
    }
   ],
   "source": [
    "@btime isbounded($P, false) # master"
   ]
  },
  {
   "cell_type": "code",
   "execution_count": 13,
   "metadata": {},
   "outputs": [
    {
     "name": "stdout",
     "output_type": "stream",
     "text": [
      "  3.140 μs (76 allocations: 3.63 KiB)\n"
     ]
    },
    {
     "data": {
      "text/plain": [
       "true"
      ]
     },
     "execution_count": 13,
     "metadata": {},
     "output_type": "execute_result"
    }
   ],
   "source": [
    "@btime LazySets.isbounded_unit_dimensions($P) # master"
   ]
  },
  {
   "cell_type": "code",
   "execution_count": 14,
   "metadata": {},
   "outputs": [
    {
     "name": "stdout",
     "output_type": "stream",
     "text": [
      "  3.123 μs (76 allocations: 3.63 KiB)\n"
     ]
    },
    {
     "data": {
      "text/plain": [
       "true"
      ]
     },
     "execution_count": 14,
     "metadata": {},
     "output_type": "execute_result"
    }
   ],
   "source": [
    "@btime isbounded($P, false) # this branch"
   ]
  },
  {
   "cell_type": "code",
   "execution_count": 20,
   "metadata": {},
   "outputs": [
    {
     "data": {
      "text/plain": [
       "isbounded_unit_dimensions_v2 (generic function with 1 method)"
      ]
     },
     "execution_count": 20,
     "metadata": {},
     "output_type": "execute_result"
    }
   ],
   "source": [
    "using LazySets.Arrays: SingleEntryVector\n",
    "\n",
    "function isbounded_unit_dimensions_v2(S::LazySet{N}) where {N<:Real}\n",
    "    n = dim(S)\n",
    "    @inbounds for i in 1:n\n",
    "        d = SingleEntryVector(i, n, one(N))\n",
    "        isinf(ρ(d, S)) && return false\n",
    "\n",
    "        d = SingleEntryVector(i, n, -one(N))\n",
    "        isinf(ρ(d, S)) && return false\n",
    "    end\n",
    "    return true\n",
    "end"
   ]
  },
  {
   "cell_type": "code",
   "execution_count": 23,
   "metadata": {},
   "outputs": [
    {
     "data": {
      "text/plain": [
       "isbounded_unit_dimensions_v1 (generic function with 1 method)"
      ]
     },
     "execution_count": 23,
     "metadata": {},
     "output_type": "execute_result"
    }
   ],
   "source": [
    "function isbounded_unit_dimensions_v1(S::LazySet{N}) where {N<:Real}\n",
    "    n = dim(S)\n",
    "    @inbounds for i in 1:n\n",
    "        for o in [one(N), -one(N)]\n",
    "            d = SingleEntryVector(i, n, o)\n",
    "            if ρ(d, S) == N(Inf)\n",
    "                return false\n",
    "            end\n",
    "        end\n",
    "    end\n",
    "    return true\n",
    "end"
   ]
  },
  {
   "cell_type": "code",
   "execution_count": 22,
   "metadata": {},
   "outputs": [
    {
     "name": "stdout",
     "output_type": "stream",
     "text": [
      "  3.082 μs (74 allocations: 3.44 KiB)\n"
     ]
    },
    {
     "data": {
      "text/plain": [
       "true"
      ]
     },
     "execution_count": 22,
     "metadata": {},
     "output_type": "execute_result"
    }
   ],
   "source": [
    "@btime isbounded_unit_dimensions_v2($P)"
   ]
  },
  {
   "cell_type": "code",
   "execution_count": 24,
   "metadata": {},
   "outputs": [
    {
     "name": "stdout",
     "output_type": "stream",
     "text": [
      "  3.131 μs (76 allocations: 3.63 KiB)\n"
     ]
    },
    {
     "data": {
      "text/plain": [
       "true"
      ]
     },
     "execution_count": 24,
     "metadata": {},
     "output_type": "execute_result"
    }
   ],
   "source": [
    "@btime isbounded_unit_dimensions_v1($P)"
   ]
  },
  {
   "cell_type": "code",
   "execution_count": 25,
   "metadata": {},
   "outputs": [
    {
     "data": {
      "text/plain": [
       "0.01564995209198337"
      ]
     },
     "execution_count": 25,
     "metadata": {},
     "output_type": "execute_result"
    }
   ],
   "source": [
    "(3.131 - 3.082) / 3.131"
   ]
  },
  {
   "cell_type": "markdown",
   "metadata": {},
   "source": [
    "# Symbolic M^k for interval matrices"
   ]
  },
  {
   "cell_type": "markdown",
   "metadata": {},
   "source": [
    "https://github.com/JuliaReach/IntervalMatrices.jl/issues/94#issuecomment-580273358"
   ]
  },
  {
   "cell_type": "code",
   "execution_count": 82,
   "metadata": {},
   "outputs": [
    {
     "data": {
      "text/plain": [
       "power (generic function with 1 method)"
      ]
     },
     "execution_count": 82,
     "metadata": {},
     "output_type": "execute_result"
    }
   ],
   "source": [
    "# self-contained example\n",
    "using BenchmarkTools\n",
    "using SymEngine, RangeEnclosures, IntervalMatrices\n",
    "using MacroTools: postwalk\n",
    "using MultivariatePolynomials\n",
    "\n",
    "subidx(i) = join(Char.(0x2080 .+ convert.(UInt16, digits(i)[end:-1:1])))\n",
    "\n",
    "function symbolic_matrix(n; name=\"M\")\n",
    "    M = Matrix{SymEngine.Basic}(undef, n, n)\n",
    "    for i in 1:n, j in 1:n\n",
    "        M[i, j] = name * subidx(i) * subidx(j)\n",
    "    end\n",
    "    return M\n",
    "end\n",
    "\n",
    "# overload to avoid conflict later\n",
    "function MultivariatePolynomials.subs(ex, imat; name=\"M\")\n",
    "    n = size(imat, 1) # imat assumed square\n",
    "    for i in 1:n, j in 1:n\n",
    "        name_ij = Symbol(name * subidx(i) * subidx(j))\n",
    "        ex == name_ij && return imat[i, j]\n",
    "    end\n",
    "    return ex\n",
    "end\n",
    "\n",
    "Msym_eval(Msym, M, k) = [postwalk(ex -> subs(ex, M), convert(Expr, m)) for m in Msym]\n",
    "\n",
    "function power(M, k)\n",
    "    @assert size(M, 1) == size(M, 2)\n",
    "    Msym = symbolic_matrix(size(M, 1))\n",
    "    X = Msym_eval(Msym^k, M, k)\n",
    "    return eval.(X)\n",
    "end"
   ]
  },
  {
   "cell_type": "code",
   "execution_count": 83,
   "metadata": {},
   "outputs": [
    {
     "data": {
      "text/plain": [
       "4×4 IntervalMatrix{Float64,Interval{Float64},Array{Interval{Float64},2}}:\n",
       " [-0.993268, -0.12098]  [-1.79339, 0.485787]   …  [-0.26355, 0.503887]  \n",
       " [-0.355202, 1.71295]   [-1.74568, 0.973153]      [-0.492513, 0.139944] \n",
       " [-1.68302, -0.115787]   [0.0355031, 2.16938]     [-0.43891, 0.0136085] \n",
       "  [0.674376, 2.54803]   [-0.0569787, 2.07937]     [-0.276957, -0.159762]"
      ]
     },
     "execution_count": 83,
     "metadata": {},
     "output_type": "execute_result"
    }
   ],
   "source": [
    "M = rand(IntervalMatrix, 4)"
   ]
  },
  {
   "cell_type": "code",
   "execution_count": 84,
   "metadata": {},
   "outputs": [
    {
     "name": "stdout",
     "output_type": "stream",
     "text": [
      "  5.226 μs (24 allocations: 2.25 KiB)\n"
     ]
    },
    {
     "data": {
      "text/plain": [
       "4×4 IntervalMatrix{Float64,Interval{Float64},Array{Interval{Float64},2}}:\n",
       " [-1.45208e+06, 1.45987e+06]  …  [-507304, 505598]\n",
       " [-1.36008e+06, 1.3783e+06]      [-475590, 476888]\n",
       " [-1.63931e+06, 1.64233e+06]     [-571773, 569209]\n",
       " [-1.30071e+06, 1.3169e+06]      [-459956, 450070]"
      ]
     },
     "execution_count": 84,
     "metadata": {},
     "output_type": "execute_result"
    }
   ],
   "source": [
    "@btime $M^10"
   ]
  },
  {
   "cell_type": "code",
   "execution_count": 38,
   "metadata": {},
   "outputs": [
    {
     "name": "stdout",
     "output_type": "stream",
     "text": [
      "  1.169 s (13693012 allocations: 915.52 MiB)\n"
     ]
    },
    {
     "data": {
      "text/plain": [
       "4×4 Array{Interval{Float64},2}:\n",
       " [-1.68754e+06, 2.48541e+06]  …  [-1.39364e+06, 1.0238e+06] \n",
       " [-3.39132e+06, 2.46625e+06]     [-1.46627e+06, 1.90157e+06]\n",
       " [-1.79911e+06, 3.2219e+06]      [-1.80649e+06, 1.12452e+06]\n",
       " [-2.62918e+06, 1.80662e+06]     [-1.08363e+06, 1.47422e+06]"
      ]
     },
     "execution_count": 38,
     "metadata": {},
     "output_type": "execute_result"
    }
   ],
   "source": [
    "@btime power($M, 11)"
   ]
  },
  {
   "cell_type": "code",
   "execution_count": 40,
   "metadata": {
    "scrolled": true
   },
   "outputs": [
    {
     "name": "stdout",
     "output_type": "stream",
     "text": [
      " 11.246716 seconds (106.56 M allocations: 6.953 GiB, 15.21% gc time)\n"
     ]
    },
    {
     "data": {
      "text/plain": [
       "4×4 Array{Interval{Float64},2}:\n",
       " [-1.68632e+13, 2.1259e+13]   …  [-1.19202e+13, 1.0023e+13] \n",
       " [-2.90071e+13, 2.32918e+13]     [-1.38196e+13, 1.62647e+13]\n",
       " [-1.89977e+13, 2.75568e+13]     [-1.54515e+13, 1.15174e+13]\n",
       " [-2.24881e+13, 1.77235e+13]     [-1.05339e+13, 1.26094e+13]"
      ]
     },
     "execution_count": 40,
     "metadata": {},
     "output_type": "execute_result"
    }
   ],
   "source": [
    "@time power(M, 20)"
   ]
  },
  {
   "cell_type": "code",
   "execution_count": 43,
   "metadata": {},
   "outputs": [],
   "source": [
    "s = symbolic_matrix(10)^10;"
   ]
  },
  {
   "cell_type": "code",
   "execution_count": 46,
   "metadata": {},
   "outputs": [
    {
     "data": {
      "text/plain": [
       "(M₁₁*M₁₂ + M₁₁₀*M₁₀₂ + M₁₆*M₆₂ + M₁₇*M₇₂ + M₂₂*M₁₂ + M₃₂*M₁₃ + M₄₂*M₁₄ + M₅₂*M₁₅ + M₈₂*M₁₈ + M₉₂*M₁₉)*(((M₁₀₁*M₂₁₀ + M₂₁*M₁₁ + M₂₂*M₂₁ + M₂₆*M₆₁ + M₂₇*M₇₁ + M₃₁*M₂₃ + M₄₁*M₂₄ + M₅₁*M₂₅ + M₈₁*M₂₈ + M₉₁*M₂₉)*(M₁₂*M₇₁ + M₂₂*M₇₂ + M₃₂*M₇₃ + M₄₂*M₇₄ + M₅₂*M₇₅ + M₇₁₀*M₁₀₂ + M₇₂*M₇₇ + M₇₆*M₆₂ + M₈₂*M₇₈ + M₉₂*M₇₉) + (M₁₀₁*M₃₁₀ + M₃₁*M₁₁ + M₃₁*M₃₃ + M₃₂*M₂₁ + M₃₅*M₅₁ + M₃₆*M₆₁ + M₃₇*M₇₁ + M₃₈*M₈₁ + M₄₁*M₃₄ + M₉₁*M₃₉)*(M₁₃*M₇₁ + M₂₃*M₇₂ + M₃₃*M₇₃ + M₄₃*M₇₄ + M₅₃*M₇₅ + M₇₁₀*M₁₀₃ + M₇₃*M₇₇ + M₇₆*M₆₃ + M₈₃*M₇₈ + M₉₃*M₇₉) + (M₁₀₁*M₅₁₀ + M₃₁*M₅₃ + M₄₁*M₅₄ + M₅₁*M₁₁ + M₅₂*M₂₁ + M₅₅*M₅₁ + M₅₆*M₆₁ + M₅₇*M₇₁ + M₈₁*M₅₈ + M₉₁*M₅₉)*(M₁₅*M₇₁ + M₂₅*M₇₂ + M₃₅*M₇₃ + M₄₅*M₇₄ + M₅₅*M₇₅ + M₇₁₀*M₁₀₅ + M₇₆*M₆₅ + M₇₇*M₇₅ + M₈₅*M₇₈ + M₉₅*M₇₉) + (M₁₀₁*M₈₁₀ + M₃₁*M₈₃ + M₄₁*M₈₄ + M₈₁*M₁₁ + M₈₁*M₈₈ + M₈₂*M₂₁ + M₈₅*M₅₁ + M₈₆*M₆₁ + M₈₇*M₇₁ + M₉₁*M₈₉)*(M₁₈*M₇₁ + M₂₈*M₇₂ + M₃₈*M₇₃ + M₄₈*M₇₄ + M₅₈*M₇₅ + M₇₁₀*M₁₀₈ + M₇₆*M₆₈ + M₇₈*M₇₇ + M₈₈*M₇₈ + M₉₈*M₇₉) + (M₁₀₁*M₁₁ + M₁₀₁₀*M₁₀₁ + M₁₀₂*M₂₁ + M₁₀₃*M₃₁ + M₁₀₄*M₄₁ + M₁₀₅*M₅₁ + M₁₀₆*M₆₁ + M₁₀₇*M₇₁ + M₁₀₈*M₈₁ + M₁₀₉*M₉₁)*(M₁₀₁₀*M₇₁₀ + M₁₁₀*M₇₁ + M₂₁₀*M₇₂ + M₃₁₀*M₇₃ + M₄₁₀*M₇₄ + M₅₁₀*M₇₅ + M₆₁₀*M₇₆ + M₇₁₀*M₇₇ + M₈₁₀*M₇₈ + M₉₁₀*M₇₉) + (M₁₁₀*M₁₀₁ + M₁₆*M₆₁ + M₁₇*M₇₁ + M₂₁*M₁₂ + M₃₁*M₁₃ + M₄₁*M₁₄ + M₅₁*M₁₅ + M₈₁*M₁₈ + M₉₁*M₁₉ + M₁₁^2)*(M₁₁*M₇₁ + M₂₁*M₇₂ + M₃₁*M₇₃ + M₄₁*M₇₄ + M₅₁*M₇₅ + M₇₁*M₇₇ + M₇₁₀*M₁₀₁ + M₇₆*M₆₁ + M₈₁*M₇₈ + M₉₁*M₇₉) + (M₁₁*M₆₁ + M₂₁*M₆₂ + M₃₁*M₆₃ + M₄₁*M₆₄ + M₅₁*M₆₅ + M₆₁*M₆₆ + M₆₁₀*M₁₀₁ + M₇₁*M₆₇ + M₈₁*M₆₈ + M₉₁*M₆₉)*(M₁₆*M₇₁ + M₂₆*M₇₂ + M₃₆*M₇₃ + M₄₆*M₇₄ + M₅₆*M₇₅ + M₇₁₀*M₁₀₆ + M₇₆*M₆₆ + M₇₇*M₇₆ + M₈₆*M₇₈ + M₉₆*M₇₉) + (M₄₁*M₁₁ + M₄₁*M₄₄ + M₄₁₀*M₁₀₁ + M₄₂*M₂₁ + M₄₃*M₃₁ + M₄₅*M₅₁ + M₄₆*M₆₁ + M₄₇*M₇₁ + M₄₈*M₈₁ + M₉₁*M₄₉)*(M₁₄*M₇₁ + M₂₄*M₇₂ + M₃₄*M₇₃ + M₄₄*M₇₄ + M₅₄*M₇₅ + M₇₁₀*M₁₀₄ + M₇₄*M₇₇ + M₇₆*M₆₄ + M₈₄*M₇₈ + M₉₄*M₇₉) + (M₉₁*M₁₁ + M₉₁*M₉₉ + M₉₁₀*M₁₀₁ + M₉₂*M₂₁ + M₉₃*M₃₁ + M₉₄*M₄₁ + M₉₅*M₅₁ + M₉₆*M₆₁ + M₉₇*M₇₁ + M₉₈*M₈₁)*(M₁₉*M₇₁ + M₂₉*M₇₂ + M₃₉*M₇₃ + M₄₉*M₇₄ + M₅₉*M₇₅ + M₇₁₀*M₁₀₉ + M₇₆*M₆₉ + M₇₇*M₇₉ + M₈₉*M₇₈ + M₉₉*M₇₉) + (M₁₇*M₇₁ + M₂₇*M₇₂ + M₃₇*M₇₃ + M₄₇*M₇₄ + M₅₇*M₇₅ + M₇₁₀*M₁₀₇ + M₇₆*M₆₇ + M₈₇*M₇₈ + M₉₇*M₇₉ + M₇₇^2)*(M₁₁*M₇₁ + M₂₁*M₇₂ + M₃₁*M₇₃ + M₄₁*M₇₄ + M₅₁*M₇₅ + M₇₁*M₇₇ + M₇₁₀*M₁₀₁ + M₇₆*M₆₁ + M₈₁*M₇₈ + M₉₁*M₇₉))*((M₁₀₁*M₂₁₀ + M₂₁*M₁₁ + M₂₂*M₂₁ + M₂₆*M₆₁ + M₂₇*M₇₁ + M₃₁*M₂₃ + M₄₁*M₂₄ + M₅₁*M₂₅ + M₈₁*M₂₈ + M₉₁*M₂₉)*(M₁₁*M₁₇ + M₁₁₀*M₁₀₇ + M₁₆*M₆₇ + M₁₇*M₇₇ + M₂₇*M₁₂ + M₃₇*M₁₃ + M₄₇*M₁₄ + M₅₇*M₁₅ + M₈₇*M₁₈ + M₉₇*M₁₉) + (M₁₀₃*M₂₁₀ + M₂₁*M₁₃ + M₂₂*M₂₃ + M₂₆*M₆₃ + M₂₇*M₇₃ + M₃₃*M₂₃ + M₄₃*M₂₄ + M₅₃*M₂₅ + M₈₃*M₂₈ + M₉₃*M₂₉)*(M₁₀₇*M₃₁₀ + M₃₁*M₁₇ + M₃₂*M₂₇ + M₃₃*M₃₇ + M₃₅*M₅₇ + M₃₆*M₆₇ + M₃₇*M₇₇ + M₃₈*M₈₇ + M₄₇*M₃₄ + M₉₇*M₃₉) + (M₁₀₅*M₂₁₀ + M₂₁*M₁₅ + M₂₂*M₂₅ + M₂₆*M₆₅ + M₂₇*M₇₅ + M₃₅*M₂₃ + M₄₅*M₂₄ + M₅₅*M₂₅ + M₈₅*M₂₈ + M₉₅*M₂₉)*(M₁₀₇*M₅₁₀ + M₃₇*M₅₃ + M₄₇*M₅₄ + M₅₁*M₁₇ + M₅₂*M₂₇ + M₅₅*M₅₇ + M₅₆*M₆₇ + M₅₇*M₇₇ + M₈₇*M₅₈ + M₉₇*M₅₉) + (M₁₀₇*M₂₁₀ + M₂₁*M₁₇ + M₂₂*M₂₇ + M₂₆*M₆₇ + M₂₇*M₇₇ + M₃₇*M₂₃ + M₄₇*M₂₄ + M₅₇*M₂₅ + M₈₇*M₂₈ + M₉₇*M₂₉)*(M₁₀₂*M₂₁₀ + M₂₁*M₁₂ + M₂₆*M₆₂ + M₂₇*M₇₂ + M₃₂*M₂₃ + M₄₂*M₂₄ + M₅₂*M₂₅ + M₈₂*M₂₈ + M₉₂*M₂₉ + M₂₂^2) + (M₁₀₇*M₂₁₀ + M₂₁*M₁₇ + M₂₂*M₂₇ + M₂₆*M₆₇ + M₂₇*M₇₇ + M₃₇*M₂₃ + M₄₇*M₂₄ + M₅₇*M₂₅ + M₈₇*M₂₈ + M₉₇*M₂₉)*(M₁₇*M₇₁ + M₂₇*M₇₂ + M₃₇*M₇₃ + M₄₇*M₇₄ + M₅₇*M₇₅ + M₇₁₀*M₁₀₇ + M₇₆*M₆₇ + M₈₇*M₇₈ + M₉₇*M₇₉ + M₇₇^2) + (M₁₀₈*M₂₁₀ + M₂₁*M₁₈ + M₂₂*M₂₈ + M₂₆*M₆₈ + M₂₇*M₇₈ + M₃₈*M₂₃ + M₄₈*M₂₄ + M₅₈*M₂₅ + M₈₈*M₂₈ + M₉₈*M₂₉)*(M₁₀₇*M₈₁₀ + M₃₇*M₈₃ + M₄₇*M₈₄ + M₈₁*M₁₇ + M₈₂*M₂₇ + M₈₅*M₅₇ + M₈₆*M₆₇ + M₈₇*M₇₇ + M₈₇*M₈₈ + M₉₇*M₈₉) + (M₁₀₉*M₂₁₀ + M₂₁*M₁₉ + M₂₂*M₂₉ + M₂₆*M₆₉ + M₂₇*M₇₉ + M₃₉*M₂₃ + M₄₉*M₂₄ + M₅₉*M₂₅ + M₈₉*M₂₈ + M₉₉*M₂₉)*(M₉₁*M₁₇ + M₉₁₀*M₁₀₇ + M₉₂*M₂₇ + M₉₃*M₃₇ + M₉₄*M₄₇ + M₉₅*M₅₇ + M₉₆*M₆₇ + M₉₇*M₇₇ + M₉₇*M₉₉ + M₉₈*M₈₇) + (M₁₀₁₀*M₂₁₀ + M₁₁₀*M₂₁ + M₂₁₀*M₂₂ + M₃₁₀*M₂₃ + M₄₁₀*M₂₄ + M₅₁₀*M₂₅ + M₆₁₀*M₂₆ + M₇₁₀*M₂₇ + M₈₁₀*M₂₈ + M₉₁₀*M₂₉)*(M₁₀₁*M₁₇ + M₁₀₁₀*M₁₀₇ + M₁₀₂*M₂₇ + M₁₀₃*M₃₇ + M₁₀₄*M₄₇ + M₁₀₅*M₅₇ + M₁₀₆*M₆₇ + M₁₀₇*M₇₇ + M₁₀₈*M₈₇ + M₁₀₉*M₉₇) + (M₁₇*M₆₁ + M₂₇*M₆₂ + M₃₇*M₆₃ + M₄₇*M₆₄ + M₅₇*M₆₅ + M₆₁₀*M₁₀₇ + M₆₆*M₆₇ + M₇₇*M₆₇ + M₈₇*M₆₈ + M₉₇*M₆₉)*(M₁₀₆*M₂₁₀ + M₂₁*M₁₆ + M₂₂*M₂₆ + M₂₆*M₆₆ + M₂₇*M₇₆ + M₃₆*M₂₃ + M₄₆*M₂₄ + M₅₆*M₂₅ + M₈₆*M₂₈ + M₉₆*M₂₉) + (M₄₁*M₁₇ + M₄₁₀*M₁₀₇ + M₄₂*M₂₇ + M₄₃*M₃₇ + M₄₄*M₄₇ + M₄₅*M₅₇ + M₄₆*M₆₇ + M₄₇*M₇₇ + M₄₈*M₈₇ + M₉₇*M₄₉)*(M₁₀₄*M₂₁₀ + M₂₁*M₁₄ + M₂₂*M₂₄ + M₂₆*M₆₄ + M₂₇*M₇₄ + M₃₄*M₂₃ + M₄₄*M₂₄ + M₅₄*M₂₅ + M₈₄*M₂₈ + M₉₄*M₂₉)) + ((M₁₀₁*M₂₁₀ + M₂₁*M₁₁ + M₂₂*M₂₁ + M₂₆*M₆₁ + M₂₇*M₇₁ + M₃₁*M₂₃ + M₄₁*M₂₄ + M₅₁*M₂₅ + M₈₁*M₂₈ + M₉₁*M₂₉)*(M₁₀₂*M₂₁₀ + M₂₁*M₁₂ + M₂₆*M₆₂ + M₂₇*M₇₂ + M₃₂*M₂₃ + M₄₂*M₂₄ + M₅₂*M₂₅ + M₈₂*M₂₈ + M₉₂*M₂₉ + M₂₂^2) + (M₁₀₁*M₂₁₀ + M₂₁*M₁₁ + M₂₂*M₂₁ + M₂₆*M₆₁ + M₂₇*M₇₁ + M₃₁*M₂₃ + M₄₁*M₂₄ + M₅₁*M₂₅ + M₈₁*M₂₈ + M₉₁*M₂₉)*(M₁₁₀*M₁₀₁ + M₁₆*M₆₁ + M₁₇*M₇₁ + M₂₁*M₁₂ + M₃₁*M₁₃ + M₄₁*M₁₄ + M₅₁*M₁₅ + M₈₁*M₁₈ + M₉₁*M₁₉ + M₁₁^2) + (M₁₀₃*M₂₁₀ + M₂₁*M₁₃ + M₂₂*M₂₃ + M₂₆*M₆₃ + M₂₇*M₇₃ + M₃₃*M₂₃ + M₄₃*M₂₄ + M₅₃*M₂₅ + M₈₃*M₂₈ + M₉₃*M₂₉)*(M₁₀₁*M₃₁₀ + M₃₁*M₁₁ + M₃₁*M₃₃ + M₃₂*M₂₁ + M₃₅*M₅₁ + M₃₆*M₆₁ + M₃₇*M₇₁ + M₃₈*M₈₁ + M₄₁*M₃₄ + M₉₁*M₃₉) + (M₁₀₅*M₂₁₀ + M₂₁*M₁₅ + M₂₂*M₂₅ + M₂₆*M₆₅ + M₂₇*M₇₅ + M₃₅*M₂₃ + M₄₅*M₂₄ + M₅₅*M₂₅ + M₈₅*M₂₈ + M₉₅*M₂₉)*(M₁₀₁*M₅₁₀ + M₃₁*M₅₃ + M₄₁*M₅₄ + M₅₁*M₁₁ + M₅₂*M₂₁ + M₅₅*M₅₁ + M₅₆*M₆₁ + M₅₇*M₇₁ + M₈₁*M₅₈ + M₉₁*M₅₉) + (M₁₀₇*M₂₁₀ + M₂₁*M₁₇ + M₂₂*M₂₇ + M₂₆*M₆₇ + M₂₇*M₇₇ + M₃₇*M₂₃ + M₄₇*M₂₄ + M₅₇*M₂₅ + M₈₇*M₂₈ + M₉₇*M₂₉)*(M₁₁*M₇₁ + M₂₁*M₇₂ + M₃₁*M₇₃ + M₄₁*M₇₄ + M₅₁*M₇₅ + M₇₁*M₇₇ + M₇₁₀*M₁₀₁ + M₇₆*M₆₁ + M₈₁*M₇₈ + M₉₁*M₇₉) + (M₁₀₈*M₂₁₀ + M₂₁*M₁₈ + M₂₂*M₂₈ + M₂₆*M₆₈ + M₂₇*M₇₈ + M₃₈*M₂₃ + M₄₈*M₂₄ + M₅₈*M₂₅ + M₈₈*M₂₈ + M₉₈*M₂₉)*(M₁₀₁*M₈₁₀ + M₃₁*M₈₃ + M₄₁*M₈₄ + M₈₁*M₁₁ + M₈₁*M₈₈ + M₈₂*M₂₁ + M₈₅*M₅₁ + M₈₆*M₆₁ + M₈₇*M₇₁ + M₉₁*M₈₉) + (M₁₀₉*M₂₁₀ + M₂₁*M₁₉ + M₂₂*M₂₉ + M₂₆*M₆₉ + M₂₇*M₇₉ + M₃₉*M₂₃ + M₄₉*M₂₄ + M₅₉*M₂₅ + M₈₉*M₂₈ + M₉₉*M₂₉)*(M₉₁*M₁₁ + M₉₁*M₉₉ + M₉₁₀*M₁₀₁ + M₉₂*M₂₁ + M₉₃*M₃₁ + M₉₄*M₄₁ + M₉₅*M₅₁ + M₉₆*M₆₁ + M₉₇*M₇₁ + M₉₈*M₈₁) + (M₁₀₁₀*M₂₁₀ + M₁₁₀*M₂₁ + M₂₁₀*M₂₂ + M₃₁₀*M₂₃ + M₄₁₀*M₂₄ + M₅₁₀*M₂₅ + M₆₁₀*M₂₆ + M₇₁₀*M₂₇ + M₈₁₀*M₂₈ + M₉₁₀*M₂₉)*(M₁₀₁*M₁₁ + M₁₀₁₀*M₁₀₁ + M₁₀₂*M₂₁ + M₁₀₃*M₃₁ + M₁₀₄*M₄₁ + M₁₀₅*M₅₁ + M₁₀₆*M₆₁ + M₁₀₇*M₇₁ + M₁₀₈*M₈₁ + M₁₀₉*M₉₁) + (M₁₁*M₆₁ + M₂₁*M₆₂ + M₃₁*M₆₃ + M₄₁*M₆₄ + M₅₁*M₆₅ + M₆₁*M₆₆ + M₆₁₀*M₁₀₁ + M₇₁*M₆₇ + M₈₁*M₆₈ + M₉₁*M₆₉)*(M₁₀₆*M₂₁₀ + M₂₁*M₁₆ + M₂₂*M₂₆ + M₂₆*M₆₆ + M₂₇*M₇₆ + M₃₆*M₂₃ + M₄₆*M₂₄ + M₅₆*M₂₅ + M₈₆*M₂₈ + M₉₆*M₂₉) + (M₄₁*M₁₁ + M₄₁*M₄₄ + M₄₁₀*M₁₀₁ + M₄₂*M₂₁ + M₄₃*M₃₁ + M₄₅*M₅₁ + M₄₆*M₆₁ + M₄₇*M₇₁ + M₄₈*M₈₁ + M₉₁*M₄₉)*(M₁₀₄*M₂₁₀ + M₂₁*M₁₄ + M₂₂*M₂₄ + M₂₆*M₆₄ + M₂₇*M₇₄ + M₃₄*M₂₃ + M₄₄*M₂₄ + M₅₄*M₂₅ + M₈₄*M₂₈ + M₉₄*M₂₉))*((M₁₀₁*M₂₁₀ + M₂₁*M₁₁ + M₂₂*M₂₁ + M₂₆*M₆₁ + M₂₇*M₇₁ + M₃₁*M₂₃ + M₄₁*M₂₄ + M₅₁*M₂₅ + M₈₁*M₂₈ + M₉₁*M₂₉)*(M₁₁*M₁₂ + M₁₁₀*M₁₀₂ + M₁₆*M₆₂ + M₁₇*M₇₂ + M₂₂*M₁₂ + M₃₂*M₁₃ + M₄₂*M₁₄ + M₅₂*M₁₅ + M₈₂*M₁₈ + M₉₂*M₁₉) + (M₁₀₁*M₃₁₀ + M₃₁*M₁₁ + M₃₁*M₃₃ + M₃₂*M₂₁ + M₃₅*M₅₁ + M₃₆*M₆₁ + M₃₇*M₇₁ + M₃₈*M₈₁ + M₄₁*M₃₄ + M₉₁*M₃₉)*(M₁₁*M₁₃ + M₁₁₀*M₁₀₃ + M₁₆*M₆₃ + M₁₇*M₇₃ + M₂₃*M₁₂ + M₃₃*M₁₃ + M₄₃*M₁₄ + M₅₃*M₁₅ + M₈₃*M₁₈ + M₉₃*M₁₉) + (M₁₀₁*M₅₁₀ + M₃₁*M₅₃ + M₄₁*M₅₄ + M₅₁*M₁₁ + M₅₂*M₂₁ + M₅₅*M₅₁ + M₅₆*M₆₁ + M₅₇*M₇₁ + M₈₁*M₅₈ + M₉₁*M₅₉)*(M₁₁*M₁₅ + M₁₁₀*M₁₀₅ + M₁₆*M₆₅ + M₁₇*M₇₅ + M₂₅*M₁₂ + M₃₅*M₁₃ + M₄₅*M₁₄ + M₅₅*M₁₅ + M₈₅*M₁₈ + M₉₅*M₁₉) + (M₁₀₁*M₈₁₀ + M₃₁*M₈₃ + M₄₁*M₈₄ + M₈₁*M₁₁ + M₈₁*M₈₈ + M₈₂*M₂₁ + M₈₅*M₅₁ + M₈₆*M₆₁ + M₈₇*M₇₁ + M₉₁*M₈₉)*(M₁₁*M₁₈ + M₁₁₀*M₁₀₈ + M₁₆*M₆₈ + M₁₇*M₇₈ + M₂₈*M₁₂ + M₃₈*M₁₃ + M₄₈*M₁₄ + M₅₈*M₁₅ + M₈₈*M₁₈ + M₉₈*M₁₉) + (M₁₁*M₁₇ + M₁₁₀*M₁₀₇ + M₁₆*M₆₇ + M₁₇*M₇₇ + M₂₇*M₁₂ + M₃₇*M₁₃ + M₄₇*M₁₄ + M₅₇*M₁₅ + M₈₇*M₁₈ + M₉₇*M₁₉)*(M₁₁*M₇₁ + M₂₁*M₇₂ + M₃₁*M₇₃ + M₄₁*M₇₄ + M₅₁*M₇₅ + M₇₁*M₇₇ + M₇₁₀*M₁₀₁ + M₇₆*M₆₁ + M₈₁*M₇₈ + M₉₁*M₇₉) + (M₁₁*M₁₉ + M₁₁₀*M₁₀₉ + M₁₆*M₆₉ + M₁₇*M₇₉ + M₂₉*M₁₂ + M₃₉*M₁₃ + M₄₉*M₁₄ + M₅₉*M₁₅ + M₈₉*M₁₈ + M₉₉*M₁₉)*(M₉₁*M₁₁ + M₉₁*M₉₉ + M₉₁₀*M₁₀₁ + M₉₂*M₂₁ + M₉₃*M₃₁ + M₉₄*M₄₁ + M₉₅*M₅₁ + M₉₆*M₆₁ + M₉₇*M₇₁ + M₉₈*M₈₁) + (M₁₀₁₀*M₁₁₀ + M₁₁₀*M₁₁ + M₂₁₀*M₁₂ + M₃₁₀*M₁₃ + M₄₁₀*M₁₄ + M₅₁₀*M₁₅ + M₆₁₀*M₁₆ + M₇₁₀*M₁₇ + M₈₁₀*M₁₈ + M₉₁₀*M₁₉)*(M₁₀₁*M₁₁ + M₁₀₁₀*M₁₀₁ + M₁₀₂*M₂₁ + M₁₀₃*M₃₁ + M₁₀₄*M₄₁ + M₁₀₅*M₅₁ + M₁₀₆*M₆₁ + M₁₀₇*M₇₁ + M₁₀₈*M₈₁ + M₁₀₉*M₉₁) + (M₁₁*M₆₁ + M₂₁*M₆₂ + M₃₁*M₆₃ + M₄₁*M₆₄ + M₅₁*M₆₅ + M₆₁*M₆₆ + M₆₁₀*M₁₀₁ + M₇₁*M₆₇ + M₈₁*M₆₈ + M₉₁*M₆₉)*(M₁₁*M₁₆ + M₁₁₀*M₁₀₆ + M₁₆*M₆₆ + M₁₇*M₇₆ + M₂₆*M₁₂ + M₃₆*M₁₃ + M₄₆*M₁₄ + M₅₆*M₁₅ + M₈₆*M₁₈ + M₉₆*M₁₉) + (M₄₁*M₁₁ + M₄₁*M₄₄ + M₄₁₀*M₁₀₁ + M₄₂*M₂₁ + M₄₃*M₃₁ + M₄₅*M₅₁ + M₄₆*M₆₁ + M₄₇*M₇₁ + M₄₈*M₈₁ + M₉₁*M₄₉)*(M₁₁*M₁₄ + M₁₁₀*M₁₀₄ + M₁₆*M₆₄ + M₁₇*M₇₄ + M₂₄*M₁₂ + M₃₄*M₁₃ + M₄₄*M₁₄ + M₅₄*M₁₅ + M₈₄*M₁₈ + M₉₄*M₁₉) + (M₁₁₀*M₁₀₁ + M₁₆*M₆₁ + M₁₇*M₇₁ + M₂₁*M₁₂ + M₃₁*M₁₃ + M₄₁*M₁₄ + M₅₁*M₁₅ + M₈₁*M₁₈ + M₉₁*M₁₉ + M₁₁^2)^2) + ((M₁₀₁*M₂₁₀ + M₂₁*M₁₁ + M₂₂*M₂₁ + M₂₆*M₆₁ + M₂₇*M₇₁ + M₃₁*M₂₃ + M₄₁*M₂₄ + M₅₁*M₂₅ + M₈₁*M₂₈ + M₉₁*M₂₉)*(M₁₁*M₁₂ + M₁₁₀*M₁₀₂ + M₁₆*M₆₂ + M₁₇*M₇₂ + M₂₂*M₁₂ + M₃₂*M₁₃ + M₄₂*M₁₄ + M₅₂*M₁₅ + M₈₂*M₁₈ + M₉₂*M₁₉) + (M₁₀₃*M₂₁₀ + M₂₁*M₁₃ + M₂₂*M₂₃ + M₂₆*M₆₃ + M₂₇*M₇₃ + M₃₃*M₂₃ + M₄₃*M₂₄ + M₅₃*M₂₅ + M₈₃*M₂₈ + M₉₃*M₂₉)*(M₁₀₂*M₃₁₀ + M₃₁*M₁₂ + M₃₂*M₂₂ + M₃₂*M₃₃ + M₃₅*M₅₂ + M₃₆*M₆₂ + M₃₇*M₇₂ + M₃₈*M₈₂ + M₄₂*M₃₄ + M₉₂*M₃₉) + (M₁₀₅*M₂₁₀ + M₂₁*M₁₅ + M₂₂*M₂₅ + M₂₆*M₆₅ + M₂₇*M₇₅ + M₃₅*M₂₃ + M₄₅*M₂₄ + M₅₅*M₂₅ + M₈₅*M₂₈ + M₉₅*M₂₉)*(M₁₀₂*M₅₁₀ + M₃₂*M₅₃ + M₄₂*M₅₄ + M₅₁*M₁₂ + M₅₂*M₂₂ + M₅₅*M₅₂ + M₅₆*M₆₂ + M₅₇*M₇₂ + M₈₂*M₅₈ + M₉₂*M₅₉) + (M₁₀₇*M₂₁₀ + M₂₁*M₁₇ + M₂₂*M₂₇ + M₂₆*M₆₇ + M₂₇*M₇₇ + M₃₇*M₂₃ + M₄₇*M₂₄ + M₅₇*M₂₅ + M₈₇*M₂₈ + M₉₇*M₂₉)*(M₁₂*M₇₁ + M₂₂*M₇₂ + M₃₂*M₇₃ + M₄₂*M₇₄ + M₅₂*M₇₅ + M₇₁₀*M₁₀₂ + M₇₂*M₇₇ + M₇₆*M₆₂ + M₈₂*M₇₈ + M₉₂*M₇₉) + (M₁₀₈*M₂₁₀ + M₂₁*M₁₈ + M₂₂*M₂₈ + M₂₆*M₆₈ + M₂₇*M₇₈ + M₃₈*M₂₃ + M₄₈*M₂₄ + M₅₈*M₂₅ + M₈₈*M₂₈ + M₉₈*M₂₉)*(M₁₀₂*M₈₁₀ + M₃₂*M₈₃ + M₄₂*M₈₄ + M₈₁*M₁₂ + M₈₂*M₂₂ + M₈₂*M₈₈ + M₈₅*M₅₂ + M₈₆*M₆₂ + M₈₇*M₇₂ + M₉₂*M₈₉) + (M₁₀₉*M₂₁₀ + M₂₁*M₁₉ + M₂₂*M₂₉ + M₂₆*M₆₉ + M₂₇*M₇₉ + M₃₉*M₂₃ + M₄₉*M₂₄ + M₅₉*M₂₅ + M₈₉*M₂₈ + M₉₉*M₂₉)*(M₉₁*M₁₂ + M₉₁₀*M₁₀₂ + M₉₂*M₂₂ + M₉₃*M₃₂ + M₉₄*M₄₂ + M₉₅*M₅₂ + M₉₆*M₆₂ + M₉₇*M₇₂ + M₉₈*M₈₂ + M₉₉*M₉₂) + (M₁₀₁₀*M₂₁₀ + M₁₁₀*M₂₁ + M₂₁₀*M₂₂ + M₃₁₀*M₂₃ + M₄₁₀*M₂₄ + M₅₁₀*M₂₅ + M₆₁₀*M₂₆ + M₇₁₀*M₂₇ + M₈₁₀*M₂₈ + M₉₁₀*M₂₉)*(M₁₀₁*M₁₂ + M₁₀₁₀*M₁₀₂ + M₁₀₂*M₂₂ + M₁₀₃*M₃₂ + M₁₀₄*M₄₂ + M₁₀₅*M₅₂ + M₁₀₆*M₆₂ + M₁₀₇*M₇₂ + M₁₀₈*M₈₂ + M₁₀₉*M₉₂) + (M₁₂*M₆₁ + M₂₂*M₆₂ + M₃₂*M₆₃ + M₄₂*M₆₄ + M₅₂*M₆₅ + M₆₁₀*M₁₀₂ + M₆₂*M₆₆ + M₇₂*M₆₇ + M₈₂*M₆₈ + M₉₂*M₆₉)*(M₁₀₆*M₂₁₀ + M₂₁*M₁₆ + M₂₂*M₂₆ + M₂₆*M₆₆ + M₂₇*M₇₆ + M₃₆*M₂₃ + M₄₆*M₂₄ + M₅₆*M₂₅ + M₈₆*M₂₈ + M₉₆*M₂₉) + (M₄₁*M₁₂ + M₄₁₀*M₁₀₂ + M₄₂*M₂₂ + M₄₂*M₄₄ + M₄₃*M₃₂ + M₄₅*M₅₂ + M₄₆*M₆₂ + M₄₇*M₇₂ + M₄₈*M₈₂ + M₉₂*M₄₉)*(M₁₀₄*M₂₁₀ + M₂₁*M₁₄ + M₂₂*M₂₄ + M₂₆*M₆₄ + M₂₇*M₇₄ + M₃₄*M₂₃ + M₄₄*M₂₄ + M₅₄*M₂₅ + M₈₄*M₂₈ + M₉₄*M₂₉) + (M₁₀₂*M₂₁₀ + M₂₁*M₁₂ + M₂₆*M₆₂ + M₂₇*M₇₂ + M₃₂*M₂₃ + M₄₂*M₂₄ + M₅₂*M₂₅ + M₈₂*M₂₈ + M₉₂*M₂₉ + M₂₂^2)^2)*((M₁₀₁*M₂₁₀ + M₂₁*M₁₁ + M₂₂*M₂₁ + M₂₆*M₆₁ + M₂₇*M₇₁ + M₃₁*M₂₃ + M₄₁*M₂₄ + M₅₁*M₂₅ + M₈₁*M₂₈ + M₉₁*M₂₉)*(M₁₀₂*M₂₁₀ + M₂₁*M₁₂ + M₂₆*M₆₂ + M₂₇*M₇₂ + M₃₂*M₂₃ + M₄₂*M₂₄ + M₅₂*M₂₅ + M₈₂*M₂₈ + M₉₂*M₂₉ + M₂₂^2) + (M₁₀₁*M₂₁₀ + M₂₁*M₁₁ + M₂₂*M₂₁ + M₂₆*M₆₁ + M₂₇*M₇₁ + M₃₁*M₂₃ + M₄₁*M₂₄ + M₅₁*M₂₅ + M₈₁*M₂₈ + M₉₁*M₂₉)*(M₁₁₀*M₁₀₁ + M₁₆*M₆₁ + M₁₇*M₇₁ + M₂₁*M₁₂ + M₃₁*M₁₃ + M₄₁*M₁₄ + M₅₁*M₁₅ + M₈₁*M₁₈ + M₉₁*M₁₉ + M₁₁^2) + (M₁₀₃*M₂₁₀ + M₂₁*M₁₃ + M₂₂*M₂₃ + M₂₆*M₆₃ + M₂₇*M₇₃ + M₃₃*M₂₃ + M₄₃*M₂₄ + M₅₃*M₂₅ + M₈₃*M₂₈ + M₉₃*M₂₉)*(M₁₀₁*M₃₁₀ + M₃₁*M₁₁ + M₃₁*M₃₃ + M₃₂*M₂₁ + M₃₅*M₅₁ + M₃₆*M₆₁ + M₃₇*M₇₁ + M₃₈*M₈₁ + M₄₁*M₃₄ + M₉₁*M₃₉) + (M₁₀₅*M₂₁₀ + M₂₁*M₁₅ + M₂₂*M₂₅ + M₂₆*M₆₅ + M₂₇*M₇₅ + M₃₅*M₂₃ + M₄₅*M₂₄ + M₅₅*M₂₅ + M₈₅*M₂₈ + M₉₅*M₂₉)*(M₁₀₁*M₅₁₀ + M₃₁*M₅₃ + M₄₁*M₅₄ + M₅₁*M₁₁ + M₅₂*M₂₁ + M₅₅*M₅₁ + M₅₆*M₆₁ + M₅₇*M₇₁ + M₈₁*M₅₈ + M₉₁*M₅₉) + (M₁₀₇*M₂₁₀ + M₂₁*M₁₇ + M₂₂*M₂₇ + M₂₆*M₆₇ + M₂₇*M₇₇ + M₃₇*M₂₃ + M₄₇*M₂₄ + M₅₇*M₂₅ + M₈₇*M₂₈ + M₉₇*M₂₉)*(M₁₁*M₇₁ + M₂₁*M₇₂ + M₃₁*M₇₃ + M₄₁*M₇₄ + M₅₁*M₇₅ + M₇₁*M₇₇ + M₇₁₀*M₁₀₁ + M₇₆*M₆₁ + M₈₁*M₇₈ + M₉₁*M₇₉) + (M₁₀₈*M₂₁₀ + M₂₁*M₁₈ + M₂₂*M₂₈ + M₂₆*M₆₈ + M₂₇*M₇₈ + M₃₈*M₂₃ + M₄₈*M₂₄ + M₅₈*M₂₅ + M₈₈*M₂₈ + M₉₈*M₂₉)*(M₁₀₁*M₈₁₀ + M₃₁*M₈₃ + M₄₁*M₈₄ + M₈₁*M₁₁ + M₈₁*M₈₈ + M₈₂*M₂₁ + M₈₅*M₅₁ + M₈₆*M₆₁ + M₈₇*M₇₁ + M₉₁*M₈₉) + (M₁₀₉*M₂₁₀ + M₂₁*M₁₉ + M₂₂*M₂₉ + M₂₆*M₆₉ + M₂₇*M₇₉ + M₃₉*M₂₃ + M₄₉*M₂₄ + M₅₉*M₂₅ + M₈₉*M₂₈ + M₉₉*M₂₉)*(M₉₁*M₁₁ + M₉₁*M₉₉ + M₉₁₀*M₁₀₁ + M₉₂*M₂₁ + M₉₃*M₃₁ + M₉₄*M₄₁ + M₉₅*M₅₁ + M₉₆*M₆₁ + M₉₇*M₇₁ + M₉₈*M₈₁) + (M₁₀₁₀*M₂₁₀ + M₁₁₀*M₂₁ + M₂₁₀*M₂₂ + M₃₁₀*M₂₃ + M₄₁₀*M₂₄ + M₅₁₀*M₂₅ + M₆₁₀*M₂₆ + M₇₁₀*M₂₇ + M₈₁₀*M₂₈ + M₉₁₀*M₂₉)*(M₁₀₁*M₁₁ + M₁₀₁₀*M₁₀₁ + M₁₀₂*M₂₁ + M₁₀₃*M₃₁ + M₁₀₄*M₄₁ + M₁₀₅*M₅₁ + M₁₀₆*M₆₁ + M₁₀₇*M₇₁ + M₁₀₈*M₈₁ + M₁₀₉*M₉₁) + (M₁₁*M₆₁ + M₂₁*M₆₂ + M₃₁*M₆₃ + M₄₁*M₆₄ + M₅₁*M₆₅ + M₆₁*M₆₆ + M₆₁₀*M₁₀₁ + M₇₁*M₆₇ + M₈₁*M₆₈ + M₉₁*M₆₉)*(M₁₀₆*M₂₁₀ + M₂₁*M₁₆ + M₂₂*M₂₆ + M₂₆*M₆₆ + M₂₇*M₇₆ + M₃₆*M₂₃ + M₄₆*M₂₄ + M₅₆*M₂₅ + M₈₆*M₂₈ + M₉₆*M₂₉) + (M₄₁*M₁₁ + M₄₁*M₄₄ + M₄₁₀*M₁₀₁ + M₄₂*M₂₁ + M₄₃*M₃₁ + M₄₅*M₅₁ + M₄₆*M₆₁ + M₄₇*M₇₁ + M₄₈*M₈₁ + M₉₁*M₄₉)*(M₁₀₄*M₂₁₀ + M₂₁*M₁₄ + M₂₂*M₂₄ + M₂₆*M₆₄ + M₂₇*M₇₄ + M₃₄*M₂₃ + M₄₄*M₂₄ + M₅₄*M₂₅ + M₈₄*M₂₈ + M₉₄*M₂₉)) + ((M₁₀₁*M₂₁₀ + M₂₁*M₁₁ + M₂₂*M₂₁ + M₂₆*M₆₁ + M₂₇*M₇₁ + M₃₁*M₂₃ + M₄₁*M₂₄ + M₅₁*M₂₅ + M₈₁*M₂₈ + M₉₁*M₂₉)*(M₁₁*M₁₃ + M₁₁₀*M₁₀₃ + M₁₆*M₆₃ + M₁₇*M₇₃ + M₂₃*M₁₂ + M₃₃*M₁₃ + M₄₃*M₁₄ + M₅₃*M₁₅ + M₈₃*M₁₈ + M₉₃*M₁₉) + (M₁₀₃*M₂₁₀ + M₂₁*M₁₃ + M₂₂*M₂₃ + M₂₆*M₆₃ + M₂₇*M₇₃ + M₃₃*M₂₃ + M₄₃*M₂₄ + M₅₃*M₂₅ + M₈₃*M₂₈ + M₉₃*M₂₉)*(M₁₀₂*M₂₁₀ + M₂₁*M₁₂ + M₂₆*M₆₂ + M₂₇*M₇₂ + M₃₂*M₂₃ + M₄₂*M₂₄ + M₅₂*M₂₅ + M₈₂*M₂₈ + M₉₂*M₂₉ + M₂₂^2) + (M₁₀₃*M₂₁₀ + M₂₁*M₁₃ + M₂₂*M₂₃ + M₂₆*M₆₃ + M₂₇*M₇₃ + M₃₃*M₂₃ + M₄₃*M₂₄ + M₅₃*M₂₅ + M₈₃*M₂₈ + M₉₃*M₂₉)*(M₁₀₃*M₃₁₀ + M₃₁*M₁₃ + M₃₂*M₂₃ + M₃₅*M₅₃ + M₃₆*M₆₃ + M₃₇*M₇₃ + M₃₈*M₈₃ + M₄₃*M₃₄ + M₉₃*M₃₉ + M₃₃^2) + (M₁₀₅*M₂₁₀ + M₂₁*M₁₅ + M₂₂*M₂₅ + M₂₆*M₆₅ + M₂₇*M₇₅ + M₃₅*M₂₃ + M₄₅*M₂₄ + M₅₅*M₂₅ + M₈₅*M₂₈ + M₉₅*M₂₉)*(M₁₀₃*M₅₁₀ + M₃₃*M₅₃ + M₄₃*M₅₄ + M₅₁*M₁₃ + M₅₂*M₂₃ + M₅₅*M₅₃ + M₅₆*M₆₃ + M₅₇*M₇₃ + M₈₃*M₅₈ + M₉₃*M₅₉) + (M₁₀₇*M₂₁₀ + M₂₁*M₁₇ + M₂₂*M₂₇ + M₂₆*M₆₇ + M₂₇*M₇₇ + M₃₇*M₂₃ + M₄₇*M₂₄ + M₅₇*M₂₅ + M₈₇*M₂₈ + M₉₇*M₂₉)*(M₁₃*M₇₁ + M₂₃*M₇₂ + M₃₃*M₇₃ + M₄₃*M₇₄ + M₅₃*M₇₅ + M₇₁₀*M₁₀₃ + M₇₃*M₇₇ + M₇₆*M₆₃ + M₈₃*M₇₈ + M₉₃*M₇₉) + (M₁₀₈*M₂₁₀ + M₂₁*M₁₈ + M₂₂*M₂₈ + M₂₆*M₆₈ + M₂₇*M₇₈ + M₃₈*M₂₃ + M₄₈*M₂₄ + M₅₈*M₂₅ + M₈₈*M₂₈ + M₉₈*M₂₉)*(M₁₀₃*M₈₁₀ + M₃₃*M₈₃ + M₄₃*M₈₄ + M₈₁*M₁₃ + M₈₂*M₂₃ + M₈₃*M₈₈ + M₈₅*M₅₃ + M₈₆*M₆₃ + M₈₇*M₇₃ + M₉₃*M₈₉) + (M₁₀₉*M₂₁₀ + M₂₁*M₁₉ + M₂₂*M₂₉ + M₂₆*M₆₉ + M₂₇*M₇₉ + M₃₉*M₂₃ + M₄₉*M₂₄ + M₅₉*M₂₅ + M₈₉*M₂₈ + M₉₉*M₂₉)*(M₉₁*M₁₃ + M₉₁₀*M₁₀₃ + M₉₂*M₂₃ + M₉₃*M₃₃ + M₉₄*M₄₃ + M₉₅*M₅₃ + M₉₆*M₆₃ + M₉₇*M₇₃ + M₉₈*M₈₃ + M₉₉*M₉₃) + (M₁₀₁₀*M₂₁₀ + M₁₁₀*M₂₁ + M₂₁₀*M₂₂ + M₃₁₀*M₂₃ + M₄₁₀*M₂₄ + M₅₁₀*M₂₅ + M₆₁₀*M₂₆ + M₇₁₀*M₂₇ + M₈₁₀*M₂₈ + M₉₁₀*M₂₉)*(M₁₀₁*M₁₃ + M₁₀₁₀*M₁₀₃ + M₁₀₂*M₂₃ + M₁₀₃*M₃₃ + M₁₀₄*M₄₃ + M₁₀₅*M₅₃ + M₁₀₆*M₆₃ + M₁₀₇*M₇₃ + M₁₀₈*M₈₃ + M₁₀₉*M₉₃) + (M₁₃*M₆₁ + M₂₃*M₆₂ + M₃₃*M₆₃ + M₄₃*M₆₄ + M₅₃*M₆₅ + M₆₁₀*M₁₀₃ + M₆₃*M₆₆ + M₇₃*M₆₇ + M₈₃*M₆₈ + M₉₃*M₆₉)*(M₁₀₆*M₂₁₀ + M₂₁*M₁₆ + M₂₂*M₂₆ + M₂₆*M₆₆ + M₂₇*M₇₆ + M₃₆*M₂₃ + M₄₆*M₂₄ + M₅₆*M₂₅ + M₈₆*M₂₈ + M₉₆*M₂₉) + (M₄₁*M₁₃ + M₄₁₀*M₁₀₃ + M₄₂*M₂₃ + M₄₃*M₃₃ + M₄₄*M₄₃ + M₄₅*M₅₃ + M₄₆*M₆₃ + M₄₇*M₇₃ + M₄₈*M₈₃ + M₉₃*M₄₉)*(M₁₀₄*M₂₁₀ + M₂₁*M₁₄ + M₂₂*M₂₄ + M₂₆*M₆₄ + M₂₇*M₇₄ + M₃₄*M₂₃ + M₄₄*M₂₄ + M₅₄*M₂₅ + M₈₄*M₂₈ + M₉₄*M₂₉))*((M₁₀₁*M₂₁₀ + M₂₁*M₁₁ + M₂₂*M₂₁ + M₂₆*M₆₁ + M₂₇*M₇₁ + M₃₁*M₂₃ + M₄₁*M₂₄ + M₅₁*M₂₅ + M₈₁*M₂₈ + M₉₁*M₂₉)*(M₁₀₂*M₃₁₀ + M₃₁*M₁₂ + M₃₂*M₂₂ + M₃₂*M₃₃ + M₃₅*M₅₂ + M₃₆*M₆₂ + M₃₇*M₇₂ + M₃₈*M₈₂ + M₄₂*M₃₄ + M₉₂*M₃₉) + (M₁₀₁*M₃₁₀ + M₃₁*M₁₁ + M₃₁*M₃₃ + M₃₂*M₂₁ + M₃₅*M₅₁ + M₃₆*M₆₁ + M₃₇*M₇₁ + M₃₈*M₈₁ + M₄₁*M₃₄ + M₉₁*M₃₉)*(M₁₀₃*M₃₁₀ + M₃₁*M₁₃ + M₃₂*M₂₃ + M₃₅*M₅₃ + M₃₆*M₆₃ + M₃₇*M₇₃ + M₃₈*M₈₃ + M₄₃*M₃₄ + M₉₃*M₃₉ + M₃₃^2) + (M₁₀₁*M₃₁₀ + M₃₁*M₁₁ + M₃₁*M₃₃ + M₃₂*M₂₁ + M₃₅*M₅₁ + M₃₆*M₆₁ + M₃₇*M₇₁ + M₃₈*M₈₁ + M₄₁*M₃₄ + M₉₁*M₃₉)*(M₁₁₀*M₁₀₁ + M₁₆*M₆₁ + M₁₇*M₇₁ + M₂₁*M₁₂ + M₃₁*M₁₃ + M₄₁*M₁₄ + M₅₁*M₁₅ + M₈₁*M₁₈ + M₉₁*M₁₉ + M₁₁^2) + (M₁₀₁*M₅₁₀ + M₃₁*M₅₃ + M₄₁*M₅₄ + M₅₁*M₁₁ + M₅₂*M₂₁ + M₅₅*M₅₁ + M₅₆*M₆₁ + M₅₇*M₇₁ + M₈₁*M₅₈ + M₉₁*M₅₉)*(M₁₀₅*M₃₁₀ + M₃₁*M₁₅ + M₃₂*M₂₅ + M₃₅*M₃₃ + M₃₅*M₅₅ + M₃₆*M₆₅ + M₃₇*M₇₅ + M₃₈*M₈₅ + M₄₅*M₃₄ + M₉₅*M₃₉) + (M₁₀₁*M₈₁₀ + M₃₁*M₈₃ + M₄₁*M₈₄ + M₈₁*M₁₁ + M₈₁*M₈₈ + M₈₂*M₂₁ + M₈₅*M₅₁ + M₈₆*M₆₁ + M₈₇*M₇₁ + M₉₁*M₈₉)*(M₁₀₈*M₃₁₀ + M₃₁*M₁₈ + M₃₂*M₂₈ + M₃₃*M₃₈ + M₃₅*M₅₈ + M₃₆*M₆₈ + M₃₇*M₇₈ + M₃₈*M₈₈ + M₄₈*M₃₄ + M₉₈*M₃₉) + (M₁₀₇*M₃₁₀ + M₃₁*M₁₇ + M₃₂*M₂₇ + M₃₃*M₃₇ + M₃₅*M₅₇ + M₃₆*M₆₇ + M₃₇*M₇₇ + M₃₈*M₈₇ + M₄₇*M₃₄ + M₉₇*M₃₉)*(M₁₁*M₇₁ + M₂₁*M₇₂ + M₃₁*M₇₃ + M₄₁*M₇₄ + M₅₁*M₇₅ + M₇₁*M₇₇ + M₇₁₀*M₁₀₁ + M₇₆*M₆₁ + M₈₁*M₇₈ + M₉₁*M₇₉) + (M₁₀₉*M₃₁₀ + M₃₁*M₁₉ + M₃₂*M₂₉ + M₃₃*M₃₉ + M₃₅*M₅₉ + M₃₆*M₆₉ + M₃₇*M₇₉ + M₃₈*M₈₉ + M₄₉*M₃₄ + M₉₉*M₃₉)*(M₉₁*M₁₁ + M₉₁*M₉₉ + M₉₁₀*M₁₀₁ + M₉₂*M₂₁ + M₉₃*M₃₁ + M₉₄*M₄₁ + M₉₅*M₅₁ + M₉₆*M₆₁ + M₉₇*M₇₁ + M₉₈*M₈₁) + (M₁₀₁₀*M₃₁₀ + M₁₁₀*M₃₁ + M₂₁₀*M₃₂ + M₃₁₀*M₃₃ + M₄₁₀*M₃₄ + M₅₁₀*M₃₅ + M₆₁₀*M₃₆ + M₇₁₀*M₃₇ + M₈₁₀*M₃₈ + M₉₁₀*M₃₉)*(M₁₀₁*M₁₁ + M₁₀₁₀*M₁₀₁ + M₁₀₂*M₂₁ + M₁₀₃*M₃₁ + M₁₀₄*M₄₁ + M₁₀₅*M₅₁ + M₁₀₆*M₆₁ + M₁₀₇*M₇₁ + M₁₀₈*M₈₁ + M₁₀₉*M₉₁) + (M₁₁*M₆₁ + M₂₁*M₆₂ + M₃₁*M₆₃ + M₄₁*M₆₄ + M₅₁*M₆₅ + M₆₁*M₆₆ + M₆₁₀*M₁₀₁ + M₇₁*M₆₇ + M₈₁*M₆₈ + M₉₁*M₆₉)*(M₁₀₆*M₃₁₀ + M₃₁*M₁₆ + M₃₂*M₂₆ + M₃₅*M₅₆ + M₃₆*M₃₃ + M₃₆*M₆₆ + M₃₇*M₇₆ + M₃₈*M₈₆ + M₄₆*M₃₄ + M₉₆*M₃₉) + (M₄₁*M₁₁ + M₄₁*M₄₄ + M₄₁₀*M₁₀₁ + M₄₂*M₂₁ + M₄₃*M₃₁ + M₄₅*M₅₁ + M₄₆*M₆₁ + M₄₇*M₇₁ + M₄₈*M₈₁ + M₉₁*M₄₉)*(M₁₀₄*M₃₁₀ + M₃₁*M₁₄ + M₃₂*M₂₄ + M₃₃*M₃₄ + M₃₅*M₅₄ + M₃₆*M₆₄ + M₃₇*M₇₄ + M₃₈*M₈₄ + M₄₄*M₃₄ + M₉₄*M₃₉)) + ((M₁₀₁*M₂₁₀ + M₂₁*M₁₁ + M₂₂*M₂₁ + M₂₆*M₆₁ + M₂₇*M₇₁ + M₃₁*M₂₃ + M₄₁*M₂₄ + M₅₁*M₂₅ + M₈₁*M₂₈ + M₉₁*M₂₉)*(M₁₁*M₁₈ + M₁₁₀*M₁₀₈ + M₁₆*M₆₈ + M₁₇*M₇₈ + M₂₈*M₁₂ + M₃₈*M₁₃ + M₄₈*M₁₄ + M₅₈*M₁₅ + M₈₈*M₁₈ + M₉₈*M₁₉) + (M₁₀₃*M₂₁₀ + M₂₁*M₁₃ + M₂₂*M₂₃ + M₂₆*M₆₃ + M₂₇*M₇₃ + M₃₃*M₂₃ + M₄₃*M₂₄ + M₅₃*M₂₅ + M₈₃*M₂₈ + M₉₃*M₂₉)*(M₁₀₈*M₃₁₀ + M₃₁*M₁₈ + M₃₂*M₂₈ + M₃₃*M₃₈ + M₃₅*M₅₈ + M₃₆*M₆₈ + M₃₇*M₇₈ + M₃₈*M₈₈ + M₄₈*M₃₄ + M₉₈*M₃₉) + (M₁₀₅*M₂₁₀ + M₂₁*M₁₅ + M₂₂*M₂₅ + M₂₆*M₆₅ + M₂₇*M₇₅ + M₃₅*M₂₃ + M₄₅*M₂₄ + M₅₅*M₂₅ + M₈₅*M₂₈ + M₉₅*M₂₉)*(M₁₀₈*M₅₁₀ + M₃₈*M₅₃ + M₄₈*M₅₄ + M₅₁*M₁₈ + M₅₂*M₂₈ + M₅₅*M₅₈ + M₅₆*M₆₈ + M₅₇*M₇₈ + M₈₈*M₅₈ + M₉₈*M₅₉) + (M₁₀₇*M₂₁₀ + M₂₁*M₁₇ + M₂₂*M₂₇ + M₂₆*M₆₇ + M₂₇*M₇₇ + M₃₇*M₂₃ + M₄₇*M₂₄ + M₅₇*M₂₅ + M₈₇*M₂₈ + M₉₇*M₂₉)*(M₁₈*M₇₁ + M₂₈*M₇₂ + M₃₈*M₇₃ + M₄₈*M₇₄ + M₅₈*M₇₅ + M₇₁₀*M₁₀₈ + M₇₆*M₆₈ + M₇₈*M₇₇ + M₈₈*M₇₈ + M₉₈*M₇₉) + (M₁₀₈*M₂₁₀ + M₂₁*M₁₈ + M₂₂*M₂₈ + M₂₆*M₆₈ + M₂₇*M₇₈ + M₃₈*M₂₃ + M₄₈*M₂₄ + M₅₈*M₂₅ + M₈₈*M₂₈ + M₉₈*M₂₉)*(M₁₀₂*M₂₁₀ + M₂₁*M₁₂ + M₂₆*M₆₂ + M₂₇*M₇₂ + M₃₂*M₂₃ + M₄₂*M₂₄ + M₅₂*M₂₅ + M₈₂*M₂₈ + M₉₂*M₂₉ + M₂₂^2) + (M₁₀₈*M₂₁₀ + M₂₁*M₁₈ + M₂₂*M₂₈ + M₂₆*M₆₈ + M₂₇*M₇₈ + M₃₈*M₂₃ + M₄₈*M₂₄ + M₅₈*M₂₅ + M₈₈*M₂₈ + M₉₈*M₂₉)*(M₁₀₈*M₈₁₀ + M₃₈*M₈₃ + M₄₈*M₈₄ + M₈₁*M₁₈ + M₈₂*M₂₈ + M₈₅*M₅₈ + M₈₆*M₆₈ + M₈₇*M₇₈ + M₉₈*M₈₉ + M₈₈^2) + (M₁₀₉*M₂₁₀ + M₂₁*M₁₉ + M₂₂*M₂₉ + M₂₆*M₆₉ + M₂₇*M₇₉ + M₃₉*M₂₃ + M₄₉*M₂₄ + M₅₉*M₂₅ + M₈₉*M₂₈ + M₉₉*M₂₉)*(M₉₁*M₁₈ + M₉₁₀*M₁₀₈ + M₉₂*M₂₈ + M₉₃*M₃₈ + M₉₄*M₄₈ + M₉₅*M₅₈ + M₉₆*M₆₈ + M₉₇*M₇₈ + M₉₈*M₈₈ + M₉₈*M₉₉) + (M₁₀₁₀*M₂₁₀ + M₁₁₀*M₂₁ + M₂₁₀*M₂₂ + M₃₁₀*M₂₃ + M₄₁₀*M₂₄ + M₅₁₀*M₂₅ + M₆₁₀*M₂₆ + M₇₁₀*M₂₇ + M₈₁₀*M₂₈ + M₉₁₀*M₂₉)*(M₁₀₁*M₁₈ + M₁₀₁₀*M₁₀₈ + M₁₀₂*M₂₈ + M₁₀₃*M₃₈ + M₁₀₄*M₄₈ + M₁₀₅*M₅₈ + M₁₀₆*M₆₈ + M₁₀₇*M₇₈ + M₁₀₈*M₈₈ + M₁₀₉*M₉₈) + (M₁₈*M₆₁ + M₂₈*M₆₂ + M₃₈*M₆₃ + M₄₈*M₆₄ + M₅₈*M₆₅ + M₆₁₀*M₁₀₈ + M₆₆*M₆₈ + M₇₈*M₆₇ + M₈₈*M₆₈ + M₉₈*M₆₉)*(M₁₀₆*M₂₁₀ + M₂₁*M₁₆ + M₂₂*M₂₆ + M₂₆*M₆₆ + M₂₇*M₇₆ + M₃₆*M₂₃ + M₄₆*M₂₄ + M₅₆*M₂₅ + M₈₆*M₂₈ + M₉₆*M₂₉) + (M₄₁*M₁₈ + M₄₁₀*M₁₀₈ + M₄₂*M₂₈ + M₄₃*M₃₈ + M₄₄*M₄₈ + M₄₅*M₅₈ + M₄₆*M₆₈ + M₄₇*M₇₈ + M₄₈*M₈₈ + M₉₈*M₄₉)*(M₁₀₄*M₂₁₀ + M₂₁*M₁₄ + M₂₂*M₂₄ + M₂₆*M₆₄ + M₂₇*M₇₄ + M₃₄*M₂₃ + M₄₄*M₂₄ + M₅₄*M₂₅ + M₈₄*M₂₈ + M₉₄*M₂₉))*((M₁₀₁*M₂₁₀ + M₂₁*M₁₁ + M₂₂*M₂₁ + M₂₆*M₆₁ + M₂₇*M₇₁ + M₃₁*M₂₃ + M₄₁*M₂₄ + M₅₁*M₂₅ + M₈₁*M₂₈ + M₉₁*M₂₉)*(M₁₀₂*M₈₁₀ + M₃₂*M₈₃ + M₄₂*M₈₄ + M₈₁*M₁₂ + M₈₂*M₂₂ + M₈₂*M₈₈ + M₈₅*M₅₂ + M₈₆*M₆₂ + M₈₇*M₇₂ + M₉₂*M₈₉) + (M₁₀₁*M₅₁₀ + M₃₁*M₅₃ + M₄₁*M₅₄ + M₅₁*M₁₁ + M₅₂*M₂₁ + M₅₅*M₅₁ + M₅₆*M₆₁ + M₅₇*M₇₁ + M₈₁*M₅₈ + M₉₁*M₅₉)*(M₁₀₅*M₈₁₀ + M₃₅*M₈₃ + M₄₅*M₈₄ + M₈₁*M₁₅ + M₈₂*M₂₅ + M₈₅*M₅₅ + M₈₆*M₆₅ + M₈₇*M₇₅ + M₈₈*M₈₅ + M₉₅*M₈₉) + (M₁₀₁*M₈₁₀ + M₃₁*M₈₃ + M₄₁*M₈₄ + M₈₁*M₁₁ + M₈₁*M₈₈ + M₈₂*M₂₁ + M₈₅*M₅₁ + M₈₆*M₆₁ + M₈₇*M₇₁ + M₉₁*M₈₉)*(M₁₀₈*M₈₁₀ + M₃₈*M₈₃ + M₄₈*M₈₄ + M₈₁*M₁₈ + M₈₂*M₂₈ + M₈₅*M₅₈ + M₈₆*M₆₈ + M₈₇*M₇₈ + M₉₈*M₈₉ + M₈₈^2) + (M₁₀₁*M₈₁₀ + M₃₁*M₈₃ + M₄₁*M₈₄ + M₈₁*M₁₁ + M₈₁*M₈₈ + M₈₂*M₂₁ + M₈₅*M₅₁ + M₈₆*M₆₁ + M₈₇*M₇₁ + M₉₁*M₈₉)*(M₁₁₀*M₁₀₁ + M₁₆*M₆₁ + M₁₇*M₇₁ + M₂₁*M₁₂ + M₃₁*M₁₃ + M₄₁*M₁₄ + M₅₁*M₁₅ + M₈₁*M₁₈ + M₉₁*M₁₉ + M₁₁^2) + (M₁₀₃*M₈₁₀ + M₃₃*M₈₃ + M₄₃*M₈₄ + M₈₁*M₁₃ + M₈₂*M₂₃ + M₈₃*M₈₈ + M₈₅*M₅₃ + M₈₆*M₆₃ + M₈₇*M₇₃ + M₉₃*M₈₉)*(M₁₀₁*M₃₁₀ + M₃₁*M₁₁ + M₃₁*M₃₃ + M₃₂*M₂₁ + M₃₅*M₅₁ + M₃₆*M₆₁ + M₃₇*M₇₁ + M₃₈*M₈₁ + M₄₁*M₃₄ + M₉₁*M₃₉) + (M₁₀₇*M₈₁₀ + M₃₇*M₈₃ + M₄₇*M₈₄ + M₈₁*M₁₇ + M₈₂*M₂₇ + M₈₅*M₅₇ + M₈₆*M₆₇ + M₈₇*M₇₇ + M₈₇*M₈₈ + M₉₇*M₈₉)*(M₁₁*M₇₁ + M₂₁*M₇₂ + M₃₁*M₇₃ + M₄₁*M₇₄ + M₅₁*M₇₅ + M₇₁*M₇₇ + M₇₁₀*M₁₀₁ + M₇₆*M₆₁ + M₈₁*M₇₈ + M₉₁*M₇₉) + (M₁₀₉*M₈₁₀ + M₃₉*M₈₃ + M₄₉*M₈₄ + M₈₁*M₁₉ + M₈₂*M₂₉ + M₈₅*M₅₉ + M₈₆*M₆₉ + M₈₇*M₇₉ + M₈₉*M₈₈ + M₉₉*M₈₉)*(M₉₁*M₁₁ + M₉₁*M₉₉ + M₉₁₀*M₁₀₁ + M₉₂*M₂₁ + M₉₃*M₃₁ + M₉₄*M₄₁ + M₉₅*M₅₁ + M₉₆*M₆₁ + M₉₇*M₇₁ + M₉₈*M₈₁) + (M₁₀₁₀*M₈₁₀ + M₁₁₀*M₈₁ + M₂₁₀*M₈₂ + M₃₁₀*M₈₃ + M₄₁₀*M₈₄ + M₅₁₀*M₈₅ + M₆₁₀*M₈₆ + M₇₁₀*M₈₇ + M₈₁₀*M₈₈ + M₉₁₀*M₈₉)*(M₁₀₁*M₁₁ + M₁₀₁₀*M₁₀₁ + M₁₀₂*M₂₁ + M₁₀₃*M₃₁ + M₁₀₄*M₄₁ + M₁₀₅*M₅₁ + M₁₀₆*M₆₁ + M₁₀₇*M₇₁ + M₁₀₈*M₈₁ + M₁₀₉*M₉₁) + (M₁₁*M₆₁ + M₂₁*M₆₂ + M₃₁*M₆₃ + M₄₁*M₆₄ + M₅₁*M₆₅ + M₆₁*M₆₆ + M₆₁₀*M₁₀₁ + M₇₁*M₆₇ + M₈₁*M₆₈ + M₉₁*M₆₉)*(M₁₀₆*M₈₁₀ + M₃₆*M₈₃ + M₄₆*M₈₄ + M₈₁*M₁₆ + M₈₂*M₂₆ + M₈₅*M₅₆ + M₈₆*M₆₆ + M₈₇*M₇₆ + M₈₈*M₈₆ + M₉₆*M₈₉) + (M₄₁*M₁₁ + M₄₁*M₄₄ + M₄₁₀*M₁₀₁ + M₄₂*M₂₁ + M₄₃*M₃₁ + M₄₅*M₅₁ + M₄₆*M₆₁ + M₄₇*M₇₁ + M₄₈*M₈₁ + M₉₁*M₄₉)*(M₁₀₄*M₈₁₀ + M₃₄*M₈₃ + M₄₄*M₈₄ + M₈₁*M₁₄ + M₈₂*M₂₄ + M₈₄*M₈₈ + M₈₅*M₅₄ + M₈₆*M₆₄ + M₈₇*M₇₄ + M₉₄*M₈₉)) + ((M₁₀₁*M₂₁₀ + M₂₁*M₁₁ + M₂₂*M₂₁ + M₂₆*M₆₁ + M₂₇*M₇₁ + M₃₁*M₂₃ + M₄₁*M₂₄ + M₅₁*M₂₅ + M₈₁*M₂₈ + M₉₁*M₂₉)*(M₁₀₂*M₅₁₀ + M₃₂*M₅₃ + M₄₂*M₅₄ + M₅₁*M₁₂ + M₅₂*M₂₂ + M₅₅*M₅₂ + M₅₆*M₆₂ + M₅₇*M₇₂ + M₈₂*M₅₈ + M₉₂*M₅₉) + (M₁₀₁*M₅₁₀ + M₃₁*M₅₃ + M₄₁*M₅₄ + M₅₁*M₁₁ + M₅₂*M₂₁ + M₅₅*M₅₁ + M₅₆*M₆₁ + M₅₇*M₇₁ + M₈₁*M₅₈ + M₉₁*M₅₉)*(M₁₀₅*M₅₁₀ + M₃₅*M₅₃ + M₄₅*M₅₄ + M₅₁*M₁₅ + M₅₂*M₂₅ + M₅₆*M₆₅ + M₅₇*M₇₅ + M₈₅*M₅₈ + M₉₅*M₅₉ + M₅₅^2) + (M₁₀₁*M₅₁₀ + M₃₁*M₅₃ + M₄₁*M₅₄ + M₅₁*M₁₁ + M₅₂*M₂₁ + M₅₅*M₅₁ + M₅₆*M₆₁ + M₅₇*M₇₁ + M₈₁*M₅₈ + M₉₁*M₅₉)*(M₁₁₀*M₁₀₁ + M₁₆*M₆₁ + M₁₇*M₇₁ + M₂₁*M₁₂ + M₃₁*M₁₃ + M₄₁*M₁₄ + M₅₁*M₁₅ + M₈₁*M₁₈ + M₉₁*M₁₉ + M₁₁^2) + (M₁₀₃*M₅₁₀ + M₃₃*M₅₃ + M₄₃*M₅₄ + M₅₁*M₁₃ + M₅₂*M₂₃ + M₅₅*M₅₃ + M₅₆*M₆₃ + M₅₇*M₇₃ + M₈₃*M₅₈ + M₉₃*M₅₉)*(M₁₀₁*M₃₁₀ + M₃₁*M₁₁ + M₃₁*M₃₃ + M₃₂*M₂₁ + M₃₅*M₅₁ + M₃₆*M₆₁ + M₃₇*M₇₁ + M₃₈*M₈₁ + M₄₁*M₃₄ + M₉₁*M₃₉) + (M₁₀₇*M₅₁₀ + M₃₇*M₅₃ + M₄₇*M₅₄ + M₅₁*M₁₇ + M₅₂*M₂₇ + M₅₅*M₅₇ + M₅₆*M₆₇ + M₅₇*M₇₇ + M₈₇*M₅₈ + M₉₇*M₅₉)*(M₁₁*M₇₁ + M₂₁*M₇₂ + M₃₁*M₇₃ + M₄₁*M₇₄ + M₅₁*M₇₅ + M₇₁*M₇₇ + M₇₁₀*M₁₀₁ + M₇₆*M₆₁ + M₈₁*M₇₈ + M₉₁*M₇₉) + (M₁₀₈*M₅₁₀ + M₃₈*M₅₃ + M₄₈*M₅₄ + M₅₁*M₁₈ + M₅₂*M₂₈ + M₅₅*M₅₈ + M₅₆*M₆₈ + M₅₇*M₇₈ + M₈₈*M₅₈ + M₉₈*M₅₉)*(M₁₀₁*M₈₁₀ + M₃₁*M₈₃ + M₄₁*M₈₄ + M₈₁*M₁₁ + M₈₁*M₈₈ + M₈₂*M₂₁ + M₈₅*M₅₁ + M₈₆*M₆₁ + M₈₇*M₇₁ + M₉₁*M₈₉) + (M₁₀₉*M₅₁₀ + M₃₉*M₅₃ + M₄₉*M₅₄ + M₅₁*M₁₉ + M₅₂*M₂₉ + M₅₅*M₅₉ + M₅₆*M₆₉ + M₅₇*M₇₉ + M₈₉*M₅₈ + M₉₉*M₅₉)*(M₉₁*M₁₁ + M₉₁*M₉₉ + M₉₁₀*M₁₀₁ + M₉₂*M₂₁ + M₉₃*M₃₁ + M₉₄*M₄₁ + M₉₅*M₅₁ + M₉₆*M₆₁ + M₉₇*M₇₁ + M₉₈*M₈₁) + (M₁₀₁₀*M₅₁₀ + M₁₁₀*M₅₁ + M₂₁₀*M₅₂ + M₃₁₀*M₅₃ + M₄₁₀*M₅₄ + M₅₁₀*M₅₅ + M₆₁₀*M₅₆ + M₇₁₀*M₅₇ + M₈₁₀*M₅₈ + M₉₁₀*M₅₉)*(M₁₀₁*M₁₁ + M₁₀₁₀*M₁₀₁ + M₁₀₂*M₂₁ + M₁₀₃*M₃₁ + M₁₀₄*M₄₁ + M₁₀₅*M₅₁ + M₁₀₆*M₆₁ + M₁₀₇*M₇₁ + M₁₀₈*M₈₁ + M₁₀₉*M₉₁) + (M₁₁*M₆₁ + M₂₁*M₆₂ + M₃₁*M₆₃ + M₄₁*M₆₄ + M₅₁*M₆₅ + M₆₁*M₆₆ + M₆₁₀*M₁₀₁ + M₇₁*M₆₇ + M₈₁*M₆₈ + M₉₁*M₆₉)*(M₁₀₆*M₅₁₀ + M₃₆*M₅₃ + M₄₆*M₅₄ + M₅₁*M₁₆ + M₅₂*M₂₆ + M₅₆*M₅₅ + M₅₆*M₆₆ + M₅₇*M₇₆ + M₈₆*M₅₈ + M₉₆*M₅₉) + (M₄₁*M₁₁ + M₄₁*M₄₄ + M₄₁₀*M₁₀₁ + M₄₂*M₂₁ + M₄₃*M₃₁ + M₄₅*M₅₁ + M₄₆*M₆₁ + M₄₇*M₇₁ + M₄₈*M₈₁ + M₉₁*M₄₉)*(M₁₀₄*M₅₁₀ + M₃₄*M₅₃ + M₄₄*M₅₄ + M₅₁*M₁₄ + M₅₂*M₂₄ + M₅₅*M₅₄ + M₅₆*M₆₄ + M₅₇*M₇₄ + M₈₄*M₅₈ + M₉₄*M₅₉))*((M₁₀₁*M₂₁₀ + M₂₁*M₁₁ + M₂₂*M₂₁ + M₂₆*M₆₁ + M₂₇*M₇₁ + M₃₁*M₂₃ + M₄₁*M₂₄ + M₅₁*M₂₅ + M₈₁*M₂₈ + M₉₁*M₂₉)*(M₁₁*M₁₅ + M₁₁₀*M₁₀₅ + M₁₆*M₆₅ + M₁₇*M₇₅ + M₂₅*M₁₂ + M₃₅*M₁₃ + M₄₅*M₁₄ + M₅₅*M₁₅ + M₈₅*M₁₈ + M₉₅*M₁₉) + (M₁₀₃*M₂₁₀ + M₂₁*M₁₃ + M₂₂*M₂₃ + M₂₆*M₆₃ + M₂₇*M₇₃ + M₃₃*M₂₃ + M₄₃*M₂₄ + M₅₃*M₂₅ + M₈₃*M₂₈ + M₉₃*M₂₉)*(M₁₀₅*M₃₁₀ + M₃₁*M₁₅ + M₃₂*M₂₅ + M₃₅*M₃₃ + M₃₅*M₅₅ + M₃₆*M₆₅ + M₃₇*M₇₅ + M₃₈*M₈₅ + M₄₅*M₃₄ + M₉₅*M₃₉) + (M₁₀₅*M₂₁₀ + M₂₁*M₁₅ + M₂₂*M₂₅ + M₂₆*M₆₅ + M₂₇*M₇₅ + M₃₅*M₂₃ + M₄₅*M₂₄ + M₅₅*M₂₅ + M₈₅*M₂₈ + M₉₅*M₂₉)*(M₁₀₂*M₂₁₀ + M₂₁*M₁₂ + M₂₆*M₆₂ + M₂₇*M₇₂ + M₃₂*M₂₃ + M₄₂*M₂₄ + M₅₂*M₂₅ + M₈₂*M₂₈ + M₉₂*M₂₉ + M₂₂^2) + (M₁₀₅*M₂₁₀ + M₂₁*M₁₅ + M₂₂*M₂₅ + M₂₆*M₆₅ + M₂₇*M₇₅ + M₃₅*M₂₃ + M₄₅*M₂₄ + M₅₅*M₂₅ + M₈₅*M₂₈ + M₉₅*M₂₉)*(M₁₀₅*M₅₁₀ + M₃₅*M₅₃ + M₄₅*M₅₄ + M₅₁*M₁₅ + M₅₂*M₂₅ + M₅₆*M₆₅ + M₅₇*M₇₅ + M₈₅*M₅₈ + M₉₅*M₅₉ + M₅₅^2) + (M₁₀₇*M₂₁₀ + M₂₁*M₁₇ + M₂₂*M₂₇ + M₂₆*M₆₇ + M₂₇*M₇₇ + M₃₇*M₂₃ + M₄₇*M₂₄ + M₅₇*M₂₅ + M₈₇*M₂₈ + M₉₇*M₂₉)*(M₁₅*M₇₁ + M₂₅*M₇₂ + M₃₅*M₇₃ + M₄₅*M₇₄ + M₅₅*M₇₅ + M₇₁₀*M₁₀₅ + M₇₆*M₆₅ + M₇₇*M₇₅ + M₈₅*M₇₈ + M₉₅*M₇₉) + (M₁₀₈*M₂₁₀ + M₂₁*M₁₈ + M₂₂*M₂₈ + M₂₆*M₆₈ + M₂₇*M₇₈ + M₃₈*M₂₃ + M₄₈*M₂₄ + M₅₈*M₂₅ + M₈₈*M₂₈ + M₉₈*M₂₉)*(M₁₀₅*M₈₁₀ + M₃₅*M₈₃ + M₄₅*M₈₄ + M₈₁*M₁₅ + M₈₂*M₂₅ + M₈₅*M₅₅ + M₈₆*M₆₅ + M₈₇*M₇₅ + M₈₈*M₈₅ + M₉₅*M₈₉) + (M₁₀₉*M₂₁₀ + M₂₁*M₁₉ + M₂₂*M₂₉ + M₂₆*M₆₉ + M₂₇*M₇₉ + M₃₉*M₂₃ + M₄₉*M₂₄ + M₅₉*M₂₅ + M₈₉*M₂₈ + M₉₉*M₂₉)*(M₉₁*M₁₅ + M₉₁₀*M₁₀₅ + M₉₂*M₂₅ + M₉₃*M₃₅ + M₉₄*M₄₅ + M₉₅*M₅₅ + M₉₆*M₆₅ + M₉₇*M₇₅ + M₉₈*M₈₅ + M₉₉*M₉₅) + (M₁₀₁₀*M₂₁₀ + M₁₁₀*M₂₁ + M₂₁₀*M₂₂ + M₃₁₀*M₂₃ + M₄₁₀*M₂₄ + M₅₁₀*M₂₅ + M₆₁₀*M₂₆ + M₇₁₀*M₂₇ + M₈₁₀*M₂₈ + M₉₁₀*M₂₉)*(M₁₀₁*M₁₅ + M₁₀₁₀*M₁₀₅ + M₁₀₂*M₂₅ + M₁₀₃*M₃₅ + M₁₀₄*M₄₅ + M₁₀₅*M₅₅ + M₁₀₆*M₆₅ + M₁₀₇*M₇₅ + M₁₀₈*M₈₅ + M₁₀₉*M₉₅) + (M₁₅*M₆₁ + M₂₅*M₆₂ + M₃₅*M₆₃ + M₄₅*M₆₄ + M₅₅*M₆₅ + M₆₁₀*M₁₀₅ + M₆₅*M₆₆ + M₇₅*M₆₇ + M₈₅*M₆₈ + M₉₅*M₆₉)*(M₁₀₆*M₂₁₀ + M₂₁*M₁₆ + M₂₂*M₂₆ + M₂₆*M₆₆ + M₂₇*M₇₆ + M₃₆*M₂₃ + M₄₆*M₂₄ + M₅₆*M₂₅ + M₈₆*M₂₈ + M₉₆*M₂₉) + (M₄₁*M₁₅ + M₄₁₀*M₁₀₅ + M₄₂*M₂₅ + M₄₃*M₃₅ + M₄₅*M₄₄ + M₄₅*M₅₅ + M₄₆*M₆₅ + M₄₇*M₇₅ + M₄₈*M₈₅ + M₉₅*M₄₉)*(M₁₀₄*M₂₁₀ + M₂₁*M₁₄ + M₂₂*M₂₄ + M₂₆*M₆₄ + M₂₇*M₇₄ + M₃₄*M₂₃ + M₄₄*M₂₄ + M₅₄*M₂₅ + M₈₄*M₂₈ + M₉₄*M₂₉)) + ((M₁₀₁*M₂₁₀ + M₂₁*M₁₁ + M₂₂*M₂₁ + M₂₆*M₆₁ + M₂₇*M₇₁ + M₃₁*M₂₃ + M₄₁*M₂₄ + M₅₁*M₂₅ + M₈₁*M₂₈ + M₉₁*M₂₉)*(M₁₁*M₁₉ + M₁₁₀*M₁₀₉ + M₁₆*M₆₉ + M₁₇*M₇₉ + M₂₉*M₁₂ + M₃₉*M₁₃ + M₄₉*M₁₄ + M₅₉*M₁₅ + M₈₉*M₁₈ + M₉₉*M₁₉) + (M₁₀₃*M₂₁₀ + M₂₁*M₁₃ + M₂₂*M₂₃ + M₂₆*M₆₃ + M₂₇*M₇₃ + M₃₃*M₂₃ + M₄₃*M₂₄ + M₅₃*M₂₅ + M₈₃*M₂₈ + M₉₃*M₂₉)*(M₁₀₉*M₃₁₀ + M₃₁*M₁₉ + M₃₂*M₂₉ + M₃₃*M₃₉ + M₃₅*M₅₉ + M₃₆*M₆₉ + M₃₇*M₇₉ + M₃₈*M₈₉ + M₄₉*M₃₄ + M₉₉*M₃₉) + (M₁₀₅*M₂₁₀ + M₂₁*M₁₅ + M₂₂*M₂₅ + M₂₆*M₆₅ + M₂₇*M₇₅ + M₃₅*M₂₃ + M₄₅*M₂₄ + M₅₅*M₂₅ + M₈₅*M₂₈ + M₉₅*M₂₉)*(M₁₀₉*M₅₁₀ + M₃₉*M₅₃ + M₄₉*M₅₄ + M₅₁*M₁₉ + M₅₂*M₂₉ + M₅₅*M₅₉ + M₅₆*M₆₉ + M₅₇*M₇₉ + M₈₉*M₅₈ + M₉₉*M₅₉) + (M₁₀₇*M₂₁₀ + M₂₁*M₁₇ + M₂₂*M₂₇ + M₂₆*M₆₇ + M₂₇*M₇₇ + M₃₇*M₂₃ + M₄₇*M₂₄ + M₅₇*M₂₅ + M₈₇*M₂₈ + M₉₇*M₂₉)*(M₁₉*M₇₁ + M₂₉*M₇₂ + M₃₉*M₇₃ + M₄₉*M₇₄ + M₅₉*M₇₅ + M₇₁₀*M₁₀₉ + M₇₆*M₆₉ + M₇₇*M₇₉ + M₈₉*M₇₈ + M₉₉*M₇₉) + (M₁₀₈*M₂₁₀ + M₂₁*M₁₈ + M₂₂*M₂₈ + M₂₆*M₆₈ + M₂₇*M₇₈ + M₃₈*M₂₃ + M₄₈*M₂₄ + M₅₈*M₂₅ + M₈₈*M₂₈ + M₉₈*M₂₉)*(M₁₀₉*M₈₁₀ + M₃₉*M₈₃ + M₄₉*M₈₄ + M₈₁*M₁₉ + M₈₂*M₂₉ + M₈₅*M₅₉ + M₈₆*M₆₉ + M₈₇*M₇₉ + M₈₉*M₈₈ + M₉₉*M₈₉) + (M₁₀₉*M₂₁₀ + M₂₁*M₁₉ + M₂₂*M₂₉ + M₂₆*M₆₉ + M₂₇*M₇₉ + M₃₉*M₂₃ + M₄₉*M₂₄ + M₅₉*M₂₅ + M₈₉*M₂₈ + M₉₉*M₂₉)*(M₁₀₂*M₂₁₀ + M₂₁*M₁₂ + M₂₆*M₆₂ + M₂₇*M₇₂ + M₃₂*M₂₃ + M₄₂*M₂₄ + M₅₂*M₂₅ + M₈₂*M₂₈ + M₉₂*M₂₉ + M₂₂^2) + (M₁₀₉*M₂₁₀ + M₂₁*M₁₉ + M₂₂*M₂₉ + M₂₆*M₆₉ + M₂₇*M₇₉ + M₃₉*M₂₃ + M₄₉*M₂₄ + M₅₉*M₂₅ + M₈₉*M₂₈ + M₉₉*M₂₉)*(M₉₁*M₁₉ + M₉₁₀*M₁₀₉ + M₉₂*M₂₉ + M₉₃*M₃₉ + M₉₄*M₄₉ + M₉₅*M₅₉ + M₉₆*M₆₉ + M₉₇*M₇₉ + M₉₈*M₈₉ + M₉₉^2) + (M₁₀₁₀*M₂₁₀ + M₁₁₀*M₂₁ + M₂₁₀*M₂₂ + M₃₁₀*M₂₃ + M₄₁₀*M₂₄ + M₅₁₀*M₂₅ + M₆₁₀*M₂₆ + M₇₁₀*M₂₇ + M₈₁₀*M₂₈ + M₉₁₀*M₂₉)*(M₁₀₁*M₁₉ + M₁₀₁₀*M₁₀₉ + M₁₀₂*M₂₉ + M₁₀₃*M₃₉ + M₁₀₄*M₄₉ + M₁₀₅*M₅₉ + M₁₀₆*M₆₉ + M₁₀₇*M₇₉ + M₁₀₈*M₈₉ + M₁₀₉*M₉₉) + (M₁₉*M₆₁ + M₂₉*M₆₂ + M₃₉*M₆₃ + M₄₉*M₆₄ + M₅₉*M₆₅ + M₆₁₀*M₁₀₉ + M₆₉*M₆₆ + M₇₉*M₆₇ + M₈₉*M₆₈ + M₉₉*M₆₉)*(M₁₀₆*M₂₁₀ + M₂₁*M₁₆ + M₂₂*M₂₆ + M₂₆*M₆₆ + M₂₇*M₇₆ + M₃₆*M₂₃ + M₄₆*M₂₄ + M₅₆*M₂₅ + M₈₆*M₂₈ + M₉₆*M₂₉) + (M₄₁*M₁₉ + M₄₁₀*M₁₀₉ + M₄₂*M₂₉ + M₄₃*M₃₉ + M₄₄*M₄₉ + M₄₅*M₅₉ + M₄₆*M₆₉ + M₄₇*M₇₉ + M₄₈*M₈₉ + M₉₉*M₄₉)*(M₁₀₄*M₂₁₀ + M₂₁*M₁₄ + M₂₂*M₂₄ + M₂₆*M₆₄ + M₂₇*M₇₄ + M₃₄*M₂₃ + M₄₄*M₂₄ + M₅₄*M₂₅ + M₈₄*M₂₈ + M₉₄*M₂₉))*((M₁₀₁*M₂₁₀ + M₂₁*M₁₁ + M₂₂*M₂₁ + M₂₆*M₆₁ + M₂₇*M₇₁ + M₃₁*M₂₃ + M₄₁*M₂₄ + M₅₁*M₂₅ + M₈₁*M₂₈ + M₉₁*M₂₉)*(M₉₁*M₁₂ + M₉₁₀*M₁₀₂ + M₉₂*M₂₂ + M₉₃*M₃₂ + M₉₄*M₄₂ + M₉₅*M₅₂ + M₉₆*M₆₂ + M₉₇*M₇₂ + M₉₈*M₈₂ + M₉₉*M₉₂) + (M₁₀₁*M₃₁₀ + M₃₁*M₁₁ + M₃₁*M₃₃ + M₃₂*M₂₁ + M₃₅*M₅₁ + M₃₆*M₆₁ + M₃₇*M₇₁ + M₃₈*M₈₁ + M₄₁*M₃₄ + M₉₁*M₃₉)*(M₉₁*M₁₃ + M₉₁₀*M₁₀₃ + M₉₂*M₂₃ + M₉₃*M₃₃ + M₉₄*M₄₃ + M₉₅*M₅₃ + M₉₆*M₆₃ + M₉₇*M₇₃ + M₉₈*M₈₃ + M₉₉*M₉₃) + (M₁₀₁*M₅₁₀ + M₃₁*M₅₃ + M₄₁*M₅₄ + M₅₁*M₁₁ + M₅₂*M₂₁ + M₅₅*M₅₁ + M₅₆*M₆₁ + M₅₇*M₇₁ + M₈₁*M₅₈ + M₉₁*M₅₉)*(M₉₁*M₁₅ + M₉₁₀*M₁₀₅ + M₉₂*M₂₅ + M₉₃*M₃₅ + M₉₄*M₄₅ + M₉₅*M₅₅ + M₉₆*M₆₅ + M₉₇*M₇₅ + M₉₈*M₈₅ + M₉₉*M₉₅) + (M₁₀₁*M₈₁₀ + M₃₁*M₈₃ + M₄₁*M₈₄ + M₈₁*M₁₁ + M₈₁*M₈₈ + M₈₂*M₂₁ + M₈₅*M₅₁ + M₈₆*M₆₁ + M₈₇*M₇₁ + M₉₁*M₈₉)*(M₉₁*M₁₈ + M₉₁₀*M₁₀₈ + M₉₂*M₂₈ + M₉₃*M₃₈ + M₉₄*M₄₈ + M₉₅*M₅₈ + M₉₆*M₆₈ + M₉₇*M₇₈ + M₉₈*M₈₈ + M₉₈*M₉₉) + (M₁₁₀*M₁₀₁ + M₁₆*M₆₁ + M₁₇*M₇₁ + M₂₁*M₁₂ + M₃₁*M₁₃ + M₄₁*M₁₄ + M₅₁*M₁₅ + M₈₁*M₁₈ + M₉₁*M₁₉ + M₁₁^2)*(M₉₁*M₁₁ + M₉₁*M₉₉ + M₉₁₀*M₁₀₁ + M₉₂*M₂₁ + M₉₃*M₃₁ + M₉₄*M₄₁ + M₉₅*M₅₁ + M₉₆*M₆₁ + M₉₇*M₇₁ + M₉₈*M₈₁) + (M₁₀₁₀*M₉₁₀ + M₁₁₀*M₉₁ + M₂₁₀*M₉₂ + M₃₁₀*M₉₃ + M₄₁₀*M₉₄ + M₅₁₀*M₉₅ + M₆₁₀*M₉₆ + M₇₁₀*M₉₇ + M₈₁₀*M₉₈ + M₉₁₀*M₉₉)*(M₁₀₁*M₁₁ + M₁₀₁₀*M₁₀₁ + M₁₀₂*M₂₁ + M₁₀₃*M₃₁ + M₁₀₄*M₄₁ + M₁₀₅*M₅₁ + M₁₀₆*M₆₁ + M₁₀₇*M₇₁ + M₁₀₈*M₈₁ + M₁₀₉*M₉₁) + (M₁₁*M₆₁ + M₂₁*M₆₂ + M₃₁*M₆₃ + M₄₁*M₆₄ + M₅₁*M₆₅ + M₆₁*M₆₆ + M₆₁₀*M₁₀₁ + M₇₁*M₆₇ + M₈₁*M₆₈ + M₉₁*M₆₉)*(M₉₁*M₁₆ + M₉₁₀*M₁₀₆ + M₉₂*M₂₆ + M₉₃*M₃₆ + M₉₄*M₄₆ + M₉₅*M₅₆ + M₉₆*M₆₆ + M₉₆*M₉₉ + M₉₇*M₇₆ + M₉₈*M₈₆) + (M₄₁*M₁₁ + M₄₁*M₄₄ + M₄₁₀*M₁₀₁ + M₄₂*M₂₁ + M₄₃*M₃₁ + M₄₅*M₅₁ + M₄₆*M₆₁ + M₄₇*M₇₁ + M₄₈*M₈₁ + M₉₁*M₄₉)*(M₉₁*M₁₄ + M₉₁₀*M₁₀₄ + M₉₂*M₂₄ + M₉₃*M₃₄ + M₉₄*M₄₄ + M₉₅*M₅₄ + M₉₆*M₆₄ + M₉₇*M₇₄ + M₉₈*M₈₄ + M₉₉*M₉₄) + (M₉₁*M₁₇ + M₉₁₀*M₁₀₇ + M₉₂*M₂₇ + M₉₃*M₃₇ + M₉₄*M₄₇ + M₉₅*M₅₇ + M₉₆*M₆₇ + M₉₇*M₇₇ + M₉₇*M₉₉ + M₉₈*M₈₇)*(M₁₁*M₇₁ + M₂₁*M₇₂ + M₃₁*M₇₃ + M₄₁*M₇₄ + M₅₁*M₇₅ + M₇₁*M₇₇ + M₇₁₀*M₁₀₁ + M₇₆*M₆₁ + M₈₁*M₇₈ + M₉₁*M₇₉) + (M₉₁*M₁₉ + M₉₁₀*M₁₀₉ + M₉₂*M₂₉ + M₉₃*M₃₉ + M₉₄*M₄₉ + M₉₅*M₅₉ + M₉₆*M₆₉ + M₉₇*M₇₉ + M₉₈*M₈₉ + M₉₉^2)*(M₉₁*M₁₁ + M₉₁*M₉₉ + M₉₁₀*M₁₀₁ + M₉₂*M₂₁ + M₉₃*M₃₁ + M₉₄*M₄₁ + M₉₅*M₅₁ + M₉₆*M₆₁ + M₉₇*M₇₁ + M₉₈*M₈₁)) + ((M₁₀₁₀*M₆₁₀ + M₁₁₀*M₆₁ + M₂₁₀*M₆₂ + M₃₁₀*M₆₃ + M₄₁₀*M₆₄ + M₅₁₀*M₆₅ + M₆₁₀*M₆₆ + M₇₁₀*M₆₇ + M₈₁₀*M₆₈ + M₉₁₀*M₆₉)*(M₁₀₁*M₁₁ + M₁₀₁₀*M₁₀₁ + M₁₀₂*M₂₁ + M₁₀₃*M₃₁ + M₁₀₄*M₄₁ + M₁₀₅*M₅₁ + M₁₀₆*M₆₁ + M₁₀₇*M₇₁ + M₁₀₈*M₈₁ + M₁₀₉*M₉₁) + (M₁₁*M₆₁ + M₂₁*M₆₂ + M₃₁*M₆₃ + M₄₁*M₆₄ + M₅₁*M₆₅ + M₆₁*M₆₆ + M₆₁₀*M₁₀₁ + M₇₁*M₆₇ + M₈₁*M₆₈ + M₉₁*M₆₉)*(M₁₁₀*M₁₀₁ + M₁₆*M₆₁ + M₁₇*M₇₁ + M₂₁*M₁₂ + M₃₁*M₁₃ + M₄₁*M₁₄ + M₅₁*M₁₅ + M₈₁*M₁₈ + M₉₁*M₁₉ + M₁₁^2) + (M₁₁*M₆₁ + M₂₁*M₆₂ + M₃₁*M₆₃ + M₄₁*M₆₄ + M₅₁*M₆₅ + M₆₁*M₆₆ + M₆₁₀*M₁₀₁ + M₇₁*M₆₇ + M₈₁*M₆₈ + M₉₁*M₆₉)*(M₁₆*M₆₁ + M₂₆*M₆₂ + M₃₆*M₆₃ + M₄₆*M₆₄ + M₅₆*M₆₅ + M₆₁₀*M₁₀₆ + M₇₆*M₆₇ + M₈₆*M₆₈ + M₉₆*M₆₉ + M₆₆^2) + (M₁₂*M₆₁ + M₂₂*M₆₂ + M₃₂*M₆₃ + M₄₂*M₆₄ + M₅₂*M₆₅ + M₆₁₀*M₁₀₂ + M₆₂*M₆₆ + M₇₂*M₆₇ + M₈₂*M₆₈ + M₉₂*M₆₉)*(M₁₀₁*M₂₁₀ + M₂₁*M₁₁ + M₂₂*M₂₁ + M₂₆*M₆₁ + M₂₇*M₇₁ + M₃₁*M₂₃ + M₄₁*M₂₄ + M₅₁*M₂₅ + M₈₁*M₂₈ + M₉₁*M₂₉) + (M₁₃*M₆₁ + M₂₃*M₆₂ + M₃₃*M₆₃ + M₄₃*M₆₄ + M₅₃*M₆₅ + M₆₁₀*M₁₀₃ + M₆₃*M₆₆ + M₇₃*M₆₇ + M₈₃*M₆₈ + M₉₃*M₆₉)*(M₁₀₁*M₃₁₀ + M₃₁*M₁₁ + M₃₁*M₃₃ + M₃₂*M₂₁ + M₃₅*M₅₁ + M₃₆*M₆₁ + M₃₇*M₇₁ + M₃₈*M₈₁ + M₄₁*M₃₄ + M₉₁*M₃₉) + (M₁₄*M₆₁ + M₂₄*M₆₂ + M₃₄*M₆₃ + M₄₄*M₆₄ + M₅₄*M₆₅ + M₆₁₀*M₁₀₄ + M₆₄*M₆₆ + M₇₄*M₆₇ + M₈₄*M₆₈ + M₉₄*M₆₉)*(M₄₁*M₁₁ + M₄₁*M₄₄ + M₄₁₀*M₁₀₁ + M₄₂*M₂₁ + M₄₃*M₃₁ + M₄₅*M₅₁ + M₄₆*M₆₁ + M₄₇*M₇₁ + M₄₈*M₈₁ + M₉₁*M₄₉) + (M₁₅*M₆₁ + M₂₅*M₆₂ + M₃₅*M₆₃ + M₄₅*M₆₄ + M₅₅*M₆₅ + M₆₁₀*M₁₀₅ + M₆₅*M₆₆ + M₇₅*M₆₇ + M₈₅*M₆₈ + M₉₅*M₆₉)*(M₁₀₁*M₅₁₀ + M₃₁*M₅₃ + M₄₁*M₅₄ + M₅₁*M₁₁ + M₅₂*M₂₁ + M₅₅*M₅₁ + M₅₆*M₆₁ + M₅₇*M₇₁ + M₈₁*M₅₈ + M₉₁*M₅₉) + (M₁₇*M₆₁ + M₂₇*M₆₂ + M₃₇*M₆₃ + M₄₇*M₆₄ + M₅₇*M₆₅ + M₆₁₀*M₁₀₇ + M₆₆*M₆₇ + M₇₇*M₆₇ + M₈₇*M₆₈ + M₉₇*M₆₉)*(M₁₁*M₇₁ + M₂₁*M₇₂ + M₃₁*M₇₃ + M₄₁*M₇₄ + M₅₁*M₇₅ + M₇₁*M₇₇ + M₇₁₀*M₁₀₁ + M₇₆*M₆₁ + M₈₁*M₇₈ + M₉₁*M₇₉) + (M₁₈*M₆₁ + M₂₈*M₆₂ + M₃₈*M₆₃ + M₄₈*M₆₄ + M₅₈*M₆₅ + M₆₁₀*M₁₀₈ + M₆₆*M₆₈ + M₇₈*M₆₇ + M₈₈*M₆₈ + M₉₈*M₆₉)*(M₁₀₁*M₈₁₀ + M₃₁*M₈₃ + M₄₁*M₈₄ + M₈₁*M₁₁ + M₈₁*M₈₈ + M₈₂*M₂₁ + M₈₅*M₅₁ + M₈₆*M₆₁ + M₈₇*M₇₁ + M₉₁*M₈₉) + (M₁₉*M₆₁ + M₂₉*M₆₂ + M₃₉*M₆₃ + M₄₉*M₆₄ + M₅₉*M₆₅ + M₆₁₀*M₁₀₉ + M₆₉*M₆₆ + M₇₉*M₆₇ + M₈₉*M₆₈ + M₉₉*M₆₉)*(M₉₁*M₁₁ + M₉₁*M₉₉ + M₉₁₀*M₁₀₁ + M₉₂*M₂₁ + M₉₃*M₃₁ + M₉₄*M₄₁ + M₉₅*M₅₁ + M₉₆*M₆₁ + M₉₇*M₇₁ + M₉₈*M₈₁))*((M₁₀₁*M₂₁₀ + M₂₁*M₁₁ + M₂₂*M₂₁ + M₂₆*M₆₁ + M₂₇*M₇₁ + M₃₁*M₂₃ + M₄₁*M₂₄ + M₅₁*M₂₅ + M₈₁*M₂₈ + M₉₁*M₂₉)*(M₁₁*M₁₆ + M₁₁₀*M₁₀₆ + M₁₆*M₆₆ + M₁₇*M₇₆ + M₂₆*M₁₂ + M₃₆*M₁₃ + M₄₆*M₁₄ + M₅₆*M₁₅ + M₈₆*M₁₈ + M₉₆*M₁₉) + (M₁₀₃*M₂₁₀ + M₂₁*M₁₃ + M₂₂*M₂₃ + M₂₆*M₆₃ + M₂₇*M₇₃ + M₃₃*M₂₃ + M₄₃*M₂₄ + M₅₃*M₂₅ + M₈₃*M₂₈ + M₉₃*M₂₉)*(M₁₀₆*M₃₁₀ + M₃₁*M₁₆ + M₃₂*M₂₆ + M₃₅*M₅₆ + M₃₆*M₃₃ + M₃₆*M₆₆ + M₃₇*M₇₆ + M₃₈*M₈₆ + M₄₆*M₃₄ + M₉₆*M₃₉) + (M₁₀₅*M₂₁₀ + M₂₁*M₁₅ + M₂₂*M₂₅ + M₂₆*M₆₅ + M₂₇*M₇₅ + M₃₅*M₂₃ + M₄₅*M₂₄ + M₅₅*M₂₅ + M₈₅*M₂₈ + M₉₅*M₂₉)*(M₁₀₆*M₅₁₀ + M₃₆*M₅₃ + M₄₆*M₅₄ + M₅₁*M₁₆ + M₅₂*M₂₆ + M₅₆*M₅₅ + M₅₆*M₆₆ + M₅₇*M₇₆ + M₈₆*M₅₈ + M₉₆*M₅₉) + (M₁₀₆*M₂₁₀ + M₂₁*M₁₆ + M₂₂*M₂₆ + M₂₆*M₆₆ + M₂₇*M₇₆ + M₃₆*M₂₃ + M₄₆*M₂₄ + M₅₆*M₂₅ + M₈₆*M₂₈ + M₉₆*M₂₉)*(M₁₀₂*M₂₁₀ + M₂₁*M₁₂ + M₂₆*M₆₂ + M₂₇*M₇₂ + M₃₂*M₂₃ + M₄₂*M₂₄ + M₅₂*M₂₅ + M₈₂*M₂₈ + M₉₂*M₂₉ + M₂₂^2) + (M₁₀₇*M₂₁₀ + M₂₁*M₁₇ + M₂₂*M₂₇ + M₂₆*M₆₇ + M₂₇*M₇₇ + M₃₇*M₂₃ + M₄₇*M₂₄ + M₅₇*M₂₅ + M₈₇*M₂₈ + M₉₇*M₂₉)*(M₁₆*M₇₁ + M₂₆*M₇₂ + M₃₆*M₇₃ + M₄₆*M₇₄ + M₅₆*M₇₅ + M₇₁₀*M₁₀₆ + M₇₆*M₆₆ + M₇₇*M₇₆ + M₈₆*M₇₈ + M₉₆*M₇₉) + (M₁₀₈*M₂₁₀ + M₂₁*M₁₈ + M₂₂*M₂₈ + M₂₆*M₆₈ + M₂₇*M₇₈ + M₃₈*M₂₃ + M₄₈*M₂₄ + M₅₈*M₂₅ + M₈₈*M₂₈ + M₉₈*M₂₉)*(M₁₀₆*M₈₁₀ + M₃₆*M₈₃ + M₄₆*M₈₄ + M₈₁*M₁₆ + M₈₂*M₂₆ + M₈₅*M₅₆ + M₈₆*M₆₆ + M₈₇*M₇₆ + M₈₈*M₈₆ + M₉₆*M₈₉) + (M₁₀₉*M₂₁₀ + M₂₁*M₁₉ + M₂₂*M₂₉ + M₂₆*M₆₉ + M₂₇*M₇₉ + M₃₉*M₂₃ + M₄₉*M₂₄ + M₅₉*M₂₅ + M₈₉*M₂₈ + M₉₉*M₂₉)*(M₉₁*M₁₆ + M₉₁₀*M₁₀₆ + M₉₂*M₂₆ + M₉₃*M₃₆ + M₉₄*M₄₆ + M₉₅*M₅₆ + M₉₆*M₆₆ + M₉₆*M₉₉ + M₉₇*M₇₆ + M₉₈*M₈₆) + (M₁₀₁₀*M₂₁₀ + M₁₁₀*M₂₁ + M₂₁₀*M₂₂ + M₃₁₀*M₂₃ + M₄₁₀*M₂₄ + M₅₁₀*M₂₅ + M₆₁₀*M₂₆ + M₇₁₀*M₂₇ + M₈₁₀*M₂₈ + M₉₁₀*M₂₉)*(M₁₀₁*M₁₆ + M₁₀₁₀*M₁₀₆ + M₁₀₂*M₂₆ + M₁₀₃*M₃₆ + M₁₀₄*M₄₆ + M₁₀₅*M₅₆ + M₁₀₆*M₆₆ + M₁₀₇*M₇₆ + M₁₀₈*M₈₆ + M₁₀₉*M₉₆) + (M₁₆*M₆₁ + M₂₆*M₆₂ + M₃₆*M₆₃ + M₄₆*M₆₄ + M₅₆*M₆₅ + M₆₁₀*M₁₀₆ + M₇₆*M₆₇ + M₈₆*M₆₈ + M₉₆*M₆₉ + M₆₆^2)*(M₁₀₆*M₂₁₀ + M₂₁*M₁₆ + M₂₂*M₂₆ + M₂₆*M₆₆ + M₂₇*M₇₆ + M₃₆*M₂₃ + M₄₆*M₂₄ + M₅₆*M₂₅ + M₈₆*M₂₈ + M₉₆*M₂₉) + (M₄₁*M₁₆ + M₄₁₀*M₁₀₆ + M₄₂*M₂₆ + M₄₃*M₃₆ + M₄₅*M₅₆ + M₄₆*M₄₄ + M₄₆*M₆₆ + M₄₇*M₇₆ + M₄₈*M₈₆ + M₉₆*M₄₉)*(M₁₀₄*M₂₁₀ + M₂₁*M₁₄ + M₂₂*M₂₄ + M₂₆*M₆₄ + M₂₇*M₇₄ + M₃₄*M₂₃ + M₄₄*M₂₄ + M₅₄*M₂₅ + M₈₄*M₂₈ + M₉₄*M₂₉)) + ((M₁₀₁*M₂₁₀ + M₂₁*M₁₁ + M₂₂*M₂₁ + M₂₆*M₆₁ + M₂₇*M₇₁ + M₃₁*M₂₃ + M₄₁*M₂₄ + M₅₁*M₂₅ + M₈₁*M₂₈ + M₉₁*M₂₉)*(M₁₀₁*M₁₂ + M₁₀₁₀*M₁₀₂ + M₁₀₂*M₂₂ + M₁₀₃*M₃₂ + M₁₀₄*M₄₂ + M₁₀₅*M₅₂ + M₁₀₆*M₆₂ + M₁₀₇*M₇₂ + M₁₀₈*M₈₂ + M₁₀₉*M₉₂) + (M₁₀₁*M₃₁₀ + M₃₁*M₁₁ + M₃₁*M₃₃ + M₃₂*M₂₁ + M₃₅*M₅₁ + M₃₆*M₆₁ + M₃₇*M₇₁ + M₃₈*M₈₁ + M₄₁*M₃₄ + M₉₁*M₃₉)*(M₁₀₁*M₁₃ + M₁₀₁₀*M₁₀₃ + M₁₀₂*M₂₃ + M₁₀₃*M₃₃ + M₁₀₄*M₄₃ + M₁₀₅*M₅₃ + M₁₀₆*M₆₃ + M₁₀₇*M₇₃ + M₁₀₈*M₈₃ + M₁₀₉*M₉₃) + (M₁₀₁*M₅₁₀ + M₃₁*M₅₃ + M₄₁*M₅₄ + M₅₁*M₁₁ + M₅₂*M₂₁ + M₅₅*M₅₁ + M₅₆*M₆₁ + M₅₇*M₇₁ + M₈₁*M₅₈ + M₉₁*M₅₉)*(M₁₀₁*M₁₅ + M₁₀₁₀*M₁₀₅ + M₁₀₂*M₂₅ + M₁₀₃*M₃₅ + M₁₀₄*M₄₅ + M₁₀₅*M₅₅ + M₁₀₆*M₆₅ + M₁₀₇*M₇₅ + M₁₀₈*M₈₅ + M₁₀₉*M₉₅) + (M₁₀₁*M₈₁₀ + M₃₁*M₈₃ + M₄₁*M₈₄ + M₈₁*M₁₁ + M₈₁*M₈₈ + M₈₂*M₂₁ + M₈₅*M₅₁ + M₈₆*M₆₁ + M₈₇*M₇₁ + M₉₁*M₈₉)*(M₁₀₁*M₁₈ + M₁₀₁₀*M₁₀₈ + M₁₀₂*M₂₈ + M₁₀₃*M₃₈ + M₁₀₄*M₄₈ + M₁₀₅*M₅₈ + M₁₀₆*M₆₈ + M₁₀₇*M₇₈ + M₁₀₈*M₈₈ + M₁₀₉*M₉₈) + (M₁₁₀*M₁₀₁ + M₁₆*M₆₁ + M₁₇*M₇₁ + M₂₁*M₁₂ + M₃₁*M₁₃ + M₄₁*M₁₄ + M₅₁*M₁₅ + M₈₁*M₁₈ + M₉₁*M₁₉ + M₁₁^2)*(M₁₀₁*M₁₁ + M₁₀₁₀*M₁₀₁ + M₁₀₂*M₂₁ + M₁₀₃*M₃₁ + M₁₀₄*M₄₁ + M₁₀₅*M₅₁ + M₁₀₆*M₆₁ + M₁₀₇*M₇₁ + M₁₀₈*M₈₁ + M₁₀₉*M₉₁) + (M₁₁*M₆₁ + M₂₁*M₆₂ + M₃₁*M₆₃ + M₄₁*M₆₄ + M₅₁*M₆₅ + M₆₁*M₆₆ + M₆₁₀*M₁₀₁ + M₇₁*M₆₇ + M₈₁*M₆₈ + M₉₁*M₆₉)*(M₁₀₁*M₁₆ + M₁₀₁₀*M₁₀₆ + M₁₀₂*M₂₆ + M₁₀₃*M₃₆ + M₁₀₄*M₄₆ + M₁₀₅*M₅₆ + M₁₀₆*M₆₆ + M₁₀₇*M₇₆ + M₁₀₈*M₈₆ + M₁₀₉*M₉₆) + (M₁₀₂*M₂₁₀ + M₁₀₃*M₃₁₀ + M₁₀₅*M₅₁₀ + M₁₀₈*M₈₁₀ + M₁₁₀*M₁₀₁ + M₄₁₀*M₁₀₄ + M₆₁₀*M₁₀₆ + M₇₁₀*M₁₀₇ + M₉₁₀*M₁₀₉ + M₁₀₁₀^2)*(M₁₀₁*M₁₁ + M₁₀₁₀*M₁₀₁ + M₁₀₂*M₂₁ + M₁₀₃*M₃₁ + M₁₀₄*M₄₁ + M₁₀₅*M₅₁ + M₁₀₆*M₆₁ + M₁₀₇*M₇₁ + M₁₀₈*M₈₁ + M₁₀₉*M₉₁) + (M₄₁*M₁₁ + M₄₁*M₄₄ + M₄₁₀*M₁₀₁ + M₄₂*M₂₁ + M₄₃*M₃₁ + M₄₅*M₅₁ + M₄₆*M₆₁ + M₄₇*M₇₁ + M₄₈*M₈₁ + M₉₁*M₄₉)*(M₁₀₁*M₁₄ + M₁₀₁₀*M₁₀₄ + M₁₀₂*M₂₄ + M₁₀₃*M₃₄ + M₁₀₄*M₄₄ + M₁₀₅*M₅₄ + M₁₀₆*M₆₄ + M₁₀₇*M₇₄ + M₁₀₈*M₈₄ + M₁₀₉*M₉₄) + (M₁₁*M₇₁ + M₂₁*M₇₂ + M₃₁*M₇₃ + M₄₁*M₇₄ + M₅₁*M₇₅ + M₇₁*M₇₇ + M₇₁₀*M₁₀₁ + M₇₆*M₆₁ + M₈₁*M₇₈ + M₉₁*M₇₉)*(M₁₀₁*M₁₇ + M₁₀₁₀*M₁₀₇ + M₁₀₂*M₂₇ + M₁₀₃*M₃₇ + M₁₀₄*M₄₇ + M₁₀₅*M₅₇ + M₁₀₆*M₆₇ + M₁₀₇*M₇₇ + M₁₀₈*M₈₇ + M₁₀₉*M₉₇) + (M₉₁*M₁₁ + M₉₁*M₉₉ + M₉₁₀*M₁₀₁ + M₉₂*M₂₁ + M₉₃*M₃₁ + M₉₄*M₄₁ + M₉₅*M₅₁ + M₉₆*M₆₁ + M₉₇*M₇₁ + M₉₈*M₈₁)*(M₁₀₁*M₁₉ + M₁₀₁₀*M₁₀₉ + M₁₀₂*M₂₉ + M₁₀₃*M₃₉ + M₁₀₄*M₄₉ + M₁₀₅*M₅₉ + M₁₀₆*M₆₉ + M₁₀₇*M₇₉ + M₁₀₈*M₈₉ + M₁₀₉*M₉₉))*((M₁₀₁*M₂₁₀ + M₂₁*M₁₁ + M₂₂*M₂₁ + M₂₆*M₆₁ + M₂₇*M₇₁ + M₃₁*M₂₃ + M₄₁*M₂₄ + M₅₁*M₂₅ + M₈₁*M₂₈ + M₉₁*M₂₉)*(M₁₀₁₀*M₁₁₀ + M₁₁₀*M₁₁ + M₂₁₀*M₁₂ + M₃₁₀*M₁₃ + M₄₁₀*M₁₄ + M₅₁₀*M₁₅ + M₆₁₀*M₁₆ + M₇₁₀*M₁₇ + M₈₁₀*M₁₈ + M₉₁₀*M₁₉) + (M₁₀₂*M₂₁₀ + M₂₁*M₁₂ + M₂₆*M₆₂ + M₂₇*M₇₂ + M₃₂*M₂₃ + M₄₂*M₂₄ + M₅₂*M₂₅ + M₈₂*M₂₈ + M₉₂*M₂₉ + M₂₂^2)*(M₁₀₁₀*M₂₁₀ + M₁₁₀*M₂₁ + M₂₁₀*M₂₂ + M₃₁₀*M₂₃ + M₄₁₀*M₂₄ + M₅₁₀*M₂₅ + M₆₁₀*M₂₆ + M₇₁₀*M₂₇ + M₈₁₀*M₂₈ + M₉₁₀*M₂₉) + (M₁₀₃*M₂₁₀ + M₂₁*M₁₃ + M₂₂*M₂₃ + M₂₆*M₆₃ + M₂₇*M₇₃ + M₃₃*M₂₃ + M₄₃*M₂₄ + M₅₃*M₂₅ + M₈₃*M₂₈ + M₉₃*M₂₉)*(M₁₀₁₀*M₃₁₀ + M₁₁₀*M₃₁ + M₂₁₀*M₃₂ + M₃₁₀*M₃₃ + M₄₁₀*M₃₄ + M₅₁₀*M₃₅ + M₆₁₀*M₃₆ + M₇₁₀*M₃₇ + M₈₁₀*M₃₈ + M₉₁₀*M₃₉) + (M₁₀₄*M₂₁₀ + M₂₁*M₁₄ + M₂₂*M₂₄ + M₂₆*M₆₄ + M₂₇*M₇₄ + M₃₄*M₂₃ + M₄₄*M₂₄ + M₅₄*M₂₅ + M₈₄*M₂₈ + M₉₄*M₂₉)*(M₁₀₁₀*M₄₁₀ + M₁₁₀*M₄₁ + M₂₁₀*M₄₂ + M₃₁₀*M₄₃ + M₄₁₀*M₄₄ + M₅₁₀*M₄₅ + M₆₁₀*M₄₆ + M₇₁₀*M₄₇ + M₈₁₀*M₄₈ + M₉₁₀*M₄₉) + (M₁₀₅*M₂₁₀ + M₂₁*M₁₅ + M₂₂*M₂₅ + M₂₆*M₆₅ + M₂₇*M₇₅ + M₃₅*M₂₃ + M₄₅*M₂₄ + M₅₅*M₂₅ + M₈₅*M₂₈ + M₉₅*M₂₉)*(M₁₀₁₀*M₅₁₀ + M₁₁₀*M₅₁ + M₂₁₀*M₅₂ + M₃₁₀*M₅₃ + M₄₁₀*M₅₄ + M₅₁₀*M₅₅ + M₆₁₀*M₅₆ + M₇₁₀*M₅₇ + M₈₁₀*M₅₈ + M₉₁₀*M₅₉) + (M₁₀₆*M₂₁₀ + M₂₁*M₁₆ + M₂₂*M₂₆ + M₂₆*M₆₆ + M₂₇*M₇₆ + M₃₆*M₂₃ + M₄₆*M₂₄ + M₅₆*M₂₅ + M₈₆*M₂₈ + M₉₆*M₂₉)*(M₁₀₁₀*M₆₁₀ + M₁₁₀*M₆₁ + M₂₁₀*M₆₂ + M₃₁₀*M₆₃ + M₄₁₀*M₆₄ + M₅₁₀*M₆₅ + M₆₁₀*M₆₆ + M₇₁₀*M₆₇ + M₈₁₀*M₆₈ + M₉₁₀*M₆₉) + (M₁₀₇*M₂₁₀ + M₂₁*M₁₇ + M₂₂*M₂₇ + M₂₆*M₆₇ + M₂₇*M₇₇ + M₃₇*M₂₃ + M₄₇*M₂₄ + M₅₇*M₂₅ + M₈₇*M₂₈ + M₉₇*M₂₉)*(M₁₀₁₀*M₇₁₀ + M₁₁₀*M₇₁ + M₂₁₀*M₇₂ + M₃₁₀*M₇₃ + M₄₁₀*M₇₄ + M₅₁₀*M₇₅ + M₆₁₀*M₇₆ + M₇₁₀*M₇₇ + M₈₁₀*M₇₈ + M₉₁₀*M₇₉) + (M₁₀₈*M₂₁₀ + M₂₁*M₁₈ + M₂₂*M₂₈ + M₂₆*M₆₈ + M₂₇*M₇₈ + M₃₈*M₂₃ + M₄₈*M₂₄ + M₅₈*M₂₅ + M₈₈*M₂₈ + M₉₈*M₂₉)*(M₁₀₁₀*M₈₁₀ + M₁₁₀*M₈₁ + M₂₁₀*M₈₂ + M₃₁₀*M₈₃ + M₄₁₀*M₈₄ + M₅₁₀*M₈₅ + M₆₁₀*M₈₆ + M₇₁₀*M₈₇ + M₈₁₀*M₈₈ + M₉₁₀*M₈₉) + (M₁₀₉*M₂₁₀ + M₂₁*M₁₉ + M₂₂*M₂₉ + M₂₆*M₆₉ + M₂₇*M₇₉ + M₃₉*M₂₃ + M₄₉*M₂₄ + M₅₉*M₂₅ + M₈₉*M₂₈ + M₉₉*M₂₉)*(M₁₀₁₀*M₉₁₀ + M₁₁₀*M₉₁ + M₂₁₀*M₉₂ + M₃₁₀*M₉₃ + M₄₁₀*M₉₄ + M₅₁₀*M₉₅ + M₆₁₀*M₉₆ + M₇₁₀*M₉₇ + M₈₁₀*M₉₈ + M₉₁₀*M₉₉) + (M₁₀₂*M₂₁₀ + M₁₀₃*M₃₁₀ + M₁₀₅*M₅₁₀ + M₁₀₈*M₈₁₀ + M₁₁₀*M₁₀₁ + M₄₁₀*M₁₀₄ + M₆₁₀*M₁₀₆ + M₇₁₀*M₁₀₇ + M₉₁₀*M₁₀₉ + M₁₀₁₀^2)*(M₁₀₁₀*M₂₁₀ + M₁₁₀*M₂₁ + M₂₁₀*M₂₂ + M₃₁₀*M₂₃ + M₄₁₀*M₂₄ + M₅₁₀*M₂₅ + M₆₁₀*M₂₆ + M₇₁₀*M₂₇ + M₈₁₀*M₂₈ + M₉₁₀*M₂₉)) + ((M₁₀₁*M₁₁ + M₁₀₁₀*M₁₀₁ + M₁₀₂*M₂₁ + M₁₀₃*M₃₁ + M₁₀₄*M₄₁ + M₁₀₅*M₅₁ + M₁₀₆*M₆₁ + M₁₀₇*M₇₁ + M₁₀₈*M₈₁ + M₁₀₉*M₉₁)*(M₁₀₁₀*M₄₁₀ + M₁₁₀*M₄₁ + M₂₁₀*M₄₂ + M₃₁₀*M₄₃ + M₄₁₀*M₄₄ + M₅₁₀*M₄₅ + M₆₁₀*M₄₆ + M₇₁₀*M₄₇ + M₈₁₀*M₄₈ + M₉₁₀*M₄₉) + (M₁₁*M₆₁ + M₂₁*M₆₂ + M₃₁*M₆₃ + M₄₁*M₆₄ + M₅₁*M₆₅ + M₆₁*M₆₆ + M₆₁₀*M₁₀₁ + M₇₁*M₆₇ + M₈₁*M₆₈ + M₉₁*M₆₉)*(M₄₁*M₁₆ + M₄₁₀*M₁₀₆ + M₄₂*M₂₆ + M₄₃*M₃₆ + M₄₅*M₅₆ + M₄₆*M₄₄ + M₄₆*M₆₆ + M₄₇*M₇₆ + M₄₈*M₈₆ + M₉₆*M₄₉) + (M₄₁*M₁₁ + M₄₁*M₄₄ + M₄₁₀*M₁₀₁ + M₄₂*M₂₁ + M₄₃*M₃₁ + M₄₅*M₅₁ + M₄₆*M₆₁ + M₄₇*M₇₁ + M₄₈*M₈₁ + M₉₁*M₄₉)*(M₁₁₀*M₁₀₁ + M₁₆*M₆₁ + M₁₇*M₇₁ + M₂₁*M₁₂ + M₃₁*M₁₃ + M₄₁*M₁₄ + M₅₁*M₁₅ + M₈₁*M₁₈ + M₉₁*M₁₉ + M₁₁^2) + (M₄₁*M₁₂ + M₄₁₀*M₁₀₂ + M₄₂*M₂₂ + M₄₂*M₄₄ + M₄₃*M₃₂ + M₄₅*M₅₂ + M₄₆*M₆₂ + M₄₇*M₇₂ + M₄₈*M₈₂ + M₉₂*M₄₉)*(M₁₀₁*M₂₁₀ + M₂₁*M₁₁ + M₂₂*M₂₁ + M₂₆*M₆₁ + M₂₇*M₇₁ + M₃₁*M₂₃ + M₄₁*M₂₄ + M₅₁*M₂₅ + M₈₁*M₂₈ + M₉₁*M₂₉) + (M₄₁*M₁₃ + M₄₁₀*M₁₀₃ + M₄₂*M₂₃ + M₄₃*M₃₃ + M₄₄*M₄₃ + M₄₅*M₅₃ + M₄₆*M₆₃ + M₄₇*M₇₃ + M₄₈*M₈₃ + M₉₃*M₄₉)*(M₁₀₁*M₃₁₀ + M₃₁*M₁₁ + M₃₁*M₃₃ + M₃₂*M₂₁ + M₃₅*M₅₁ + M₃₆*M₆₁ + M₃₇*M₇₁ + M₃₈*M₈₁ + M₄₁*M₃₄ + M₉₁*M₃₉) + (M₄₁*M₁₄ + M₄₁₀*M₁₀₄ + M₄₂*M₂₄ + M₄₃*M₃₄ + M₄₅*M₅₄ + M₄₆*M₆₄ + M₄₇*M₇₄ + M₄₈*M₈₄ + M₉₄*M₄₉ + M₄₄^2)*(M₄₁*M₁₁ + M₄₁*M₄₄ + M₄₁₀*M₁₀₁ + M₄₂*M₂₁ + M₄₃*M₃₁ + M₄₅*M₅₁ + M₄₆*M₆₁ + M₄₇*M₇₁ + M₄₈*M₈₁ + M₉₁*M₄₉) + (M₄₁*M₁₅ + M₄₁₀*M₁₀₅ + M₄₂*M₂₅ + M₄₃*M₃₅ + M₄₅*M₄₄ + M₄₅*M₅₅ + M₄₆*M₆₅ + M₄₇*M₇₅ + M₄₈*M₈₅ + M₉₅*M₄₉)*(M₁₀₁*M₅₁₀ + M₃₁*M₅₃ + M₄₁*M₅₄ + M₅₁*M₁₁ + M₅₂*M₂₁ + M₅₅*M₅₁ + M₅₆*M₆₁ + M₅₇*M₇₁ + M₈₁*M₅₈ + M₉₁*M₅₉) + (M₄₁*M₁₇ + M₄₁₀*M₁₀₇ + M₄₂*M₂₇ + M₄₃*M₃₇ + M₄₄*M₄₇ + M₄₅*M₅₇ + M₄₆*M₆₇ + M₄₇*M₇₇ + M₄₈*M₈₇ + M₉₇*M₄₉)*(M₁₁*M₇₁ + M₂₁*M₇₂ + M₃₁*M₇₃ + M₄₁*M₇₄ + M₅₁*M₇₅ + M₇₁*M₇₇ + M₇₁₀*M₁₀₁ + M₇₆*M₆₁ + M₈₁*M₇₈ + M₉₁*M₇₉) + (M₄₁*M₁₈ + M₄₁₀*M₁₀₈ + M₄₂*M₂₈ + M₄₃*M₃₈ + M₄₄*M₄₈ + M₄₅*M₅₈ + M₄₆*M₆₈ + M₄₇*M₇₈ + M₄₈*M₈₈ + M₉₈*M₄₉)*(M₁₀₁*M₈₁₀ + M₃₁*M₈₃ + M₄₁*M₈₄ + M₈₁*M₁₁ + M₈₁*M₈₈ + M₈₂*M₂₁ + M₈₅*M₅₁ + M₈₆*M₆₁ + M₈₇*M₇₁ + M₉₁*M₈₉) + (M₄₁*M₁₉ + M₄₁₀*M₁₀₉ + M₄₂*M₂₉ + M₄₃*M₃₉ + M₄₄*M₄₉ + M₄₅*M₅₉ + M₄₆*M₆₉ + M₄₇*M₇₉ + M₄₈*M₈₉ + M₉₉*M₄₉)*(M₉₁*M₁₁ + M₉₁*M₉₉ + M₉₁₀*M₁₀₁ + M₉₂*M₂₁ + M₉₃*M₃₁ + M₉₄*M₄₁ + M₉₅*M₅₁ + M₉₆*M₆₁ + M₉₇*M₇₁ + M₉₈*M₈₁))*((M₁₀₁*M₂₁₀ + M₂₁*M₁₁ + M₂₂*M₂₁ + M₂₆*M₆₁ + M₂₇*M₇₁ + M₃₁*M₂₃ + M₄₁*M₂₄ + M₅₁*M₂₅ + M₈₁*M₂₈ + M₉₁*M₂₉)*(M₁₁*M₁₄ + M₁₁₀*M₁₀₄ + M₁₆*M₆₄ + M₁₇*M₇₄ + M₂₄*M₁₂ + M₃₄*M₁₃ + M₄₄*M₁₄ + M₅₄*M₁₅ + M₈₄*M₁₈ + M₉₄*M₁₉) + (M₁₀₃*M₂₁₀ + M₂₁*M₁₃ + M₂₂*M₂₃ + M₂₆*M₆₃ + M₂₇*M₇₃ + M₃₃*M₂₃ + M₄₃*M₂₄ + M₅₃*M₂₅ + M₈₃*M₂₈ + M₉₃*M₂₉)*(M₁₀₄*M₃₁₀ + M₃₁*M₁₄ + M₃₂*M₂₄ + M₃₃*M₃₄ + M₃₅*M₅₄ + M₃₆*M₆₄ + M₃₇*M₇₄ + M₃₈*M₈₄ + M₄₄*M₃₄ + M₉₄*M₃₉) + (M₁₀₄*M₂₁₀ + M₂₁*M₁₄ + M₂₂*M₂₄ + M₂₆*M₆₄ + M₂₇*M₇₄ + M₃₄*M₂₃ + M₄₄*M₂₄ + M₅₄*M₂₅ + M₈₄*M₂₈ + M₉₄*M₂₉)*(M₁₀₂*M₂₁₀ + M₂₁*M₁₂ + M₂₆*M₆₂ + M₂₇*M₇₂ + M₃₂*M₂₃ + M₄₂*M₂₄ + M₅₂*M₂₅ + M₈₂*M₂₈ + M₉₂*M₂₉ + M₂₂^2) + (M₁₀₅*M₂₁₀ + M₂₁*M₁₅ + M₂₂*M₂₅ + M₂₆*M₆₅ + M₂₇*M₇₅ + M₃₅*M₂₃ + M₄₅*M₂₄ + M₅₅*M₂₅ + M₈₅*M₂₈ + M₉₅*M₂₉)*(M₁₀₄*M₅₁₀ + M₃₄*M₅₃ + M₄₄*M₅₄ + M₅₁*M₁₄ + M₅₂*M₂₄ + M₅₅*M₅₄ + M₅₆*M₆₄ + M₅₇*M₇₄ + M₈₄*M₅₈ + M₉₄*M₅₉) + (M₁₀₇*M₂₁₀ + M₂₁*M₁₇ + M₂₂*M₂₇ + M₂₆*M₆₇ + M₂₇*M₇₇ + M₃₇*M₂₃ + M₄₇*M₂₄ + M₅₇*M₂₅ + M₈₇*M₂₈ + M₉₇*M₂₉)*(M₁₄*M₇₁ + M₂₄*M₇₂ + M₃₄*M₇₃ + M₄₄*M₇₄ + M₅₄*M₇₅ + M₇₁₀*M₁₀₄ + M₇₄*M₇₇ + M₇₆*M₆₄ + M₈₄*M₇₈ + M₉₄*M₇₉) + (M₁₀₈*M₂₁₀ + M₂₁*M₁₈ + M₂₂*M₂₈ + M₂₆*M₆₈ + M₂₇*M₇₈ + M₃₈*M₂₃ + M₄₈*M₂₄ + M₅₈*M₂₅ + M₈₈*M₂₈ + M₉₈*M₂₉)*(M₁₀₄*M₈₁₀ + M₃₄*M₈₃ + M₄₄*M₈₄ + M₈₁*M₁₄ + M₈₂*M₂₄ + M₈₄*M₈₈ + M₈₅*M₅₄ + M₈₆*M₆₄ + M₈₇*M₇₄ + M₉₄*M₈₉) + (M₁₀₉*M₂₁₀ + M₂₁*M₁₉ + M₂₂*M₂₉ + M₂₆*M₆₉ + M₂₇*M₇₉ + M₃₉*M₂₃ + M₄₉*M₂₄ + M₅₉*M₂₅ + M₈₉*M₂₈ + M₉₉*M₂₉)*(M₉₁*M₁₄ + M₉₁₀*M₁₀₄ + M₉₂*M₂₄ + M₉₃*M₃₄ + M₉₄*M₄₄ + M₉₅*M₅₄ + M₉₆*M₆₄ + M₉₇*M₇₄ + M₉₈*M₈₄ + M₉₉*M₉₄) + (M₁₀₁₀*M₂₁₀ + M₁₁₀*M₂₁ + M₂₁₀*M₂₂ + M₃₁₀*M₂₃ + M₄₁₀*M₂₄ + M₅₁₀*M₂₅ + M₆₁₀*M₂₆ + M₇₁₀*M₂₇ + M₈₁₀*M₂₈ + M₉₁₀*M₂₉)*(M₁₀₁*M₁₄ + M₁₀₁₀*M₁₀₄ + M₁₀₂*M₂₄ + M₁₀₃*M₃₄ + M₁₀₄*M₄₄ + M₁₀₅*M₅₄ + M₁₀₆*M₆₄ + M₁₀₇*M₇₄ + M₁₀₈*M₈₄ + M₁₀₉*M₉₄) + (M₁₄*M₆₁ + M₂₄*M₆₂ + M₃₄*M₆₃ + M₄₄*M₆₄ + M₅₄*M₆₅ + M₆₁₀*M₁₀₄ + M₆₄*M₆₆ + M₇₄*M₆₇ + M₈₄*M₆₈ + M₉₄*M₆₉)*(M₁₀₆*M₂₁₀ + M₂₁*M₁₆ + M₂₂*M₂₆ + M₂₆*M₆₆ + M₂₇*M₇₆ + M₃₆*M₂₃ + M₄₆*M₂₄ + M₅₆*M₂₅ + M₈₆*M₂₈ + M₉₆*M₂₉) + (M₄₁*M₁₄ + M₄₁₀*M₁₀₄ + M₄₂*M₂₄ + M₄₃*M₃₄ + M₄₅*M₅₄ + M₄₆*M₆₄ + M₄₇*M₇₄ + M₄₈*M₈₄ + M₉₄*M₄₉ + M₄₄^2)*(M₁₀₄*M₂₁₀ + M₂₁*M₁₄ + M₂₂*M₂₄ + M₂₆*M₆₄ + M₂₇*M₇₄ + M₃₄*M₂₃ + M₄₄*M₂₄ + M₅₄*M₂₅ + M₈₄*M₂₈ + M₉₄*M₂₉))) + (M₁₁*M₁₃ + M₁₁₀*M₁₀₃ + M₁₆*M₆₃ + M₁₇*M₇₃ + M₂₃*M₁₂ + M₃₃*M₁₃ + M₄₃*M₁₄ + M₅₃*M₁₅ + M₈₃*M₁₈ + M₉₃*M₁₉)*(((M₁₀₁*M₂₁₀ + M₂₁*M₁₁ + M₂₂*M₂₁ + M₂₆*M₆₁ + M₂₇*M₇₁ + M₃₁*M₂₃ + M₄₁*M₂₄ + M₅₁*M₂₅ + M₈₁*M₂₈ + M₉₁*M₂₉)*(M₉₁*M₁₂ + M₉₁₀*M₁₀₂ + M₉₂*M₂₂ + M₉₃*M₃₂ + M₉₄*M₄₂ + M₉₅*M₅₂ + M₉₆*M₆₂ + M₉₇*M₇₂ + M₉₈*M₈₂ + M₉₉*M₉₂) + (M₁₀₁*M₃₁₀ + M₃₁*M₁₁ + M₃₁*M₃₃ + M₃₂*M₂₁ + M₃₅*M₅₁ + M₃₆*M₆₁ + M₃₇*M₇₁ + M₃₈*M₈₁ + M₄₁*M₃₄ + M₉₁*M₃₉)*(M₉₁*M₁₃ + M₉₁₀*M₁₀₃ + M₉₂*M₂₃ + M₉₃*M₃₃ + M₉₄*M₄₃ + M₉₅*M₅₃ + M₉₆*M₆₃ + M₉₇*M₇₃ + M₉₈*M₈₃ + M₉₉*M₉₃) + (M₁₀₁*M₅₁₀ + M₃₁*M₅₃ + M₄₁*M₅₄ + M₅₁*M₁₁ + M₅₂*M₂₁ + M₅₅*M₅₁ + M₅₆*M₆₁ + M₅₇*M₇₁ + M₈₁*M₅₈ + M₉₁*M₅₉)*(M₉₁*M₁₅ + M₉₁₀*M₁₀₅ + M₉₂*M₂₅ + M₉₃*M₃₅ + M₉₄*M₄₅ + M₉₅*M₅₅ + M₉₆*M₆₅ + M₉₇*M₇₅ + M₉₈*M₈₅ + M₉₉*M₉₅) + (M₁₀₁*M₈₁₀ + M₃₁*M₈₃ + M₄₁*M₈₄ + M₈₁*M₁₁ + M₈₁*M₈₈ + M₈₂*M₂₁ + M₈₅*M₅₁ + M₈₆*M₆₁ + M₈₇*M₇₁ + M₉₁*M₈₉)*(M₉₁*M₁₈ + M₉₁₀*M₁₀₈ + M₉₂*M₂₈ + M₉₃*M₃₈ + M₉₄*M₄₈ + M₉₅*M₅₈ + M₉₆*M₆₈ + M₉₇*M₇₈ + M₉₈*M₈₈ + M₉₈*M₉₉) + (M₁₁₀*M₁₀₁ + M₁₆*M₆₁ + M₁₇*M₇₁ + M₂₁*M₁₂ + M₃₁*M₁₃ + M₄₁*M₁₄ + M₅₁*M₁₅ + M₈₁*M₁₈ + M₉₁*M₁₉ + M₁₁^2)*(M₉₁*M₁₁ + M₉₁*M₉₉ + M₉₁₀*M₁₀₁ + M₉₂*M₂₁ + M₉₃*M₃₁ + M₉₄*M₄₁ + M₉₅*M₅₁ + M₉₆*M₆₁ + M₉₇*M₇₁ + M₉₈*M₈₁) + (M₁₀₁₀*M₉₁₀ + M₁₁₀*M₉₁ + M₂₁₀*M₉₂ + M₃₁₀*M₉₃ + M₄₁₀*M₉₄ + M₅₁₀*M₉₅ + M₆₁₀*M₉₆ + M₇₁₀*M₉₇ + M₈₁₀*M₉₈ + M₉₁₀*M₉₉)*(M₁₀₁*M₁₁ + M₁₀₁₀*M₁₀₁ + M₁₀₂*M₂₁ + M₁₀₃*M₃₁ + M₁₀₄*M₄₁ + M₁₀₅*M₅₁ + M₁₀₆*M₆₁ + M₁₀₇*M₇₁ + M₁₀₈*M₈₁ + M₁₀₉*M₉₁) + (M₁₁*M₆₁ + M₂₁*M₆₂ + M₃₁*M₆₃ + M₄₁*M₆₄ + M₅₁*M₆₅ + M₆₁*M₆₆ + M₆₁₀*M₁₀₁ + M₇₁*M₆₇ + M₈₁*M₆₈ + M₉₁*M₆₉)*(M₉₁*M₁₆ + M₉₁₀*M₁₀₆ + M₉₂*M₂₆ + M₉₃*M₃₆ + M₉₄*M₄₆ + M₉₅*M₅₆ + M₉₆*M₆₆ + M₉₆*M₉₉ + M₉₇*M₇₆ + M₉₈*M₈₆) + (M₄₁*M₁₁ + M₄₁*M₄₄ + M₄₁₀*M₁₀₁ + M₄₂*M₂₁ + M₄₃*M₃₁ + M₄₅*M₅₁ + M₄₆*M₆₁ + M₄₇*M₇₁ + M₄₈*M₈₁ + M₉₁*M₄₉)*(M₉₁*M₁₄ + M₉₁₀*M₁₀₄ + M₉₂*M₂₄ + M₉₃*M₃₄ + M₉₄*M₄₄ + M₉₅*M₅₄ + M₉₆*M₆₄ + M₉₇*M₇₄ + M₉₈*M₈₄ + M₉₉*M₉₄) + (M₉₁*M₁₇ + M₉₁₀*M₁₀₇ + M₉₂*M₂₇ + M₉₃*M₃₇ + M₉₄*M₄₇ + M₉₅*M₅₇ + M₉₆*M₆₇ + M₉₇*M₇₇ + M₉₇*M₉₉ + M₉₈*M₈₇)*(M₁₁*M₇₁ + M₂₁*M₇₂ + M₃₁*M₇₃ + M₄₁*M₇₄ + M₅₁*M₇₅ + M₇₁*M₇₇ + M₇₁₀*M₁₀₁ + M₇₆*M₆₁ + M₈₁*M₇₈ + M₉₁*M₇₉) + (M₉₁*M₁₉ + M₉₁₀*M₁₀₉ + M₉₂*M₂₉ + M₉₃*M₃₉ + M₉₄*M₄₉ + M₉₅*M₅₉ + M₉₆*M₆₉ + M₉₇*M₇₉ + M₉₈*M₈₉ + M₉₉^2)*(M₉₁*M₁₁ + M₉₁*M₉₉ + M₉₁₀*M₁₀₁ + M₉₂*M₂₁ + M₉₃*M₃₁ + M₉₄*M₄₁ + M₉₅*M₅₁ + M₉₆*M₆₁ + M₉₇*M₇₁ + M₉₈*M₈₁))*((M₁₀₁*M₃₁₀ + M₃₁*M₁₁ + M₃₁*M₃₃ + M₃₂*M₂₁ + M₃₅*M₅₁ + M₃₆*M₆₁ + M₃₇*M₇₁ + M₃₈*M₈₁ + M₄₁*M₃₄ + M₉₁*M₃₉)*(M₁₁*M₁₉ + M₁₁₀*M₁₀₉ + M₁₆*M₆₉ + M₁₇*M₇₉ + M₂₉*M₁₂ + M₃₉*M₁₃ + M₄₉*M₁₄ + M₅₉*M₁₅ + M₈₉*M₁₈ + M₉₉*M₁₉) + (M₁₀₇*M₃₁₀ + M₃₁*M₁₇ + M₃₂*M₂₇ + M₃₃*M₃₇ + M₃₅*M₅₇ + M₃₆*M₆₇ + M₃₇*M₇₇ + M₃₈*M₈₇ + M₄₇*M₃₄ + M₉₇*M₃₉)*(M₁₉*M₇₁ + M₂₉*M₇₂ + M₃₉*M₇₃ + M₄₉*M₇₄ + M₅₉*M₇₅ + M₇₁₀*M₁₀₉ + M₇₆*M₆₉ + M₇₇*M₇₉ + M₈₉*M₇₈ + M₉₉*M₇₉) + (M₁₀₉*M₂₁₀ + M₂₁*M₁₉ + M₂₂*M₂₉ + M₂₆*M₆₉ + M₂₇*M₇₉ + M₃₉*M₂₃ + M₄₉*M₂₄ + M₅₉*M₂₅ + M₈₉*M₂₈ + M₉₉*M₂₉)*(M₁₀₂*M₃₁₀ + M₃₁*M₁₂ + M₃₂*M₂₂ + M₃₂*M₃₃ + M₃₅*M₅₂ + M₃₆*M₆₂ + M₃₇*M₇₂ + M₃₈*M₈₂ + M₄₂*M₃₄ + M₉₂*M₃₉) + (M₁₀₉*M₃₁₀ + M₃₁*M₁₉ + M₃₂*M₂₉ + M₃₃*M₃₉ + M₃₅*M₅₉ + M₃₆*M₆₉ + M₃₇*M₇₉ + M₃₈*M₈₉ + M₄₉*M₃₄ + M₉₉*M₃₉)*(M₁₀₃*M₃₁₀ + M₃₁*M₁₃ + M₃₂*M₂₃ + M₃₅*M₅₃ + M₃₆*M₆₃ + M₃₇*M₇₃ + M₃₈*M₈₃ + M₄₃*M₃₄ + M₉₃*M₃₉ + M₃₃^2) + (M₁₀₉*M₃₁₀ + M₃₁*M₁₉ + M₃₂*M₂₉ + M₃₃*M₃₉ + M₃₅*M₅₉ + M₃₆*M₆₉ + M₃₇*M₇₉ + M₃₈*M₈₉ + M₄₉*M₃₄ + M₉₉*M₃₉)*(M₉₁*M₁₉ + M₉₁₀*M₁₀₉ + M₉₂*M₂₉ + M₉₃*M₃₉ + M₉₄*M₄₉ + M₉₅*M₅₉ + M₉₆*M₆₉ + M₉₇*M₇₉ + M₉₈*M₈₉ + M₉₉^2) + (M₁₀₉*M₅₁₀ + M₃₉*M₅₃ + M₄₉*M₅₄ + M₅₁*M₁₉ + M₅₂*M₂₉ + M₅₅*M₅₉ + M₅₆*M₆₉ + M₅₇*M₇₉ + M₈₉*M₅₈ + M₉₉*M₅₉)*(M₁₀₅*M₃₁₀ + M₃₁*M₁₅ + M₃₂*M₂₅ + M₃₅*M₃₃ + M₃₅*M₅₅ + M₃₆*M₆₅ + M₃₇*M₇₅ + M₃₈*M₈₅ + M₄₅*M₃₄ + M₉₅*M₃₉) + (M₁₀₉*M₈₁₀ + M₃₉*M₈₃ + M₄₉*M₈₄ + M₈₁*M₁₉ + M₈₂*M₂₉ + M₈₅*M₅₉ + M₈₆*M₆₉ + M₈₇*M₇₉ + M₈₉*M₈₈ + M₉₉*M₈₉)*(M₁₀₈*M₃₁₀ + M₃₁*M₁₈ + M₃₂*M₂₈ + M₃₃*M₃₈ + M₃₅*M₅₈ + M₃₆*M₆₈ + M₃₇*M₇₈ + M₃₈*M₈₈ + M₄₈*M₃₄ + M₉₈*M₃₉) + (M₁₀₁₀*M₃₁₀ + M₁₁₀*M₃₁ + M₂₁₀*M₃₂ + M₃₁₀*M₃₃ + M₄₁₀*M₃₄ + M₅₁₀*M₃₅ + M₆₁₀*M₃₆ + M₇₁₀*M₃₇ + M₈₁₀*M₃₈ + M₉₁₀*M₃₉)*(M₁₀₁*M₁₉ + M₁₀₁₀*M₁₀₉ + M₁₀₂*M₂₉ + M₁₀₃*M₃₉ + M₁₀₄*M₄₉ + M₁₀₅*M₅₉ + M₁₀₆*M₆₉ + M₁₀₇*M₇₉ + M₁₀₈*M₈₉ + M₁₀₉*M₉₉) + (M₁₉*M₆₁ + M₂₉*M₆₂ + M₃₉*M₆₃ + M₄₉*M₆₄ + M₅₉*M₆₅ + M₆₁₀*M₁₀₉ + M₆₉*M₆₆ + M₇₉*M₆₇ + M₈₉*M₆₈ + M₉₉*M₆₉)*(M₁₀₆*M₃₁₀ + M₃₁*M₁₆ + M₃₂*M₂₆ + M₃₅*M₅₆ + M₃₆*M₃₃ + M₃₆*M₆₆ + M₃₇*M₇₆ + M₃₈*M₈₆ + M₄₆*M₃₄ + M₉₆*M₃₉) + (M₄₁*M₁₉ + M₄₁₀*M₁₀₉ + M₄₂*M₂₉ + M₄₃*M₃₉ + M₄₄*M₄₉ + M₄₅*M₅₉ + M₄₆*M₆₉ + M₄₇*M₇₉ + M₄₈*M₈₉ + M₉₉*M₄₉)*(M₁₀₄*M₃₁₀ + M₃₁*M₁₄ + M₃₂*M₂₄ + M₃₃*M₃₄ + M₃₅*M₅₄ + M₃₆*M₆₄ + M₃₇*M₇₄ + M₃₈*M₈₄ + M₄₄*M₃₄ + M₉₄*M₃₉)) + ((M₁₀₁*M₂₁₀ + M₂₁*M₁₁ + M₂₂*M₂₁ + M₂₆*M₆₁ + M₂₇*M₇₁ + M₃₁*M₂₃ + M₄₁*M₂₄ + M₅₁*M₂₅ + M₈₁*M₂₈ + M₉₁*M₂₉)*(M₁₀₂*M₂₁₀ + M₂₁*M₁₂ + M₂₆*M₆₂ + M₂₇*M₇₂ + M₃₂*M₂₃ + M₄₂*M₂₄ + M₅₂*M₂₅ + M₈₂*M₂₈ + M₉₂*M₂₉ + M₂₂^2) + (M₁₀₁*M₂₁₀ + M₂₁*M₁₁ + M₂₂*M₂₁ + M₂₆*M₆₁ + M₂₇*M₇₁ + M₃₁*M₂₃ + M₄₁*M₂₄ + M₅₁*M₂₅ + M₈₁*M₂₈ + M₉₁*M₂₉)*(M₁₁₀*M₁₀₁ + M₁₆*M₆₁ + M₁₇*M₇₁ + M₂₁*M₁₂ + M₃₁*M₁₃ + M₄₁*M₁₄ + M₅₁*M₁₅ + M₈₁*M₁₈ + M₉₁*M₁₉ + M₁₁^2) + (M₁₀₃*M₂₁₀ + M₂₁*M₁₃ + M₂₂*M₂₃ + M₂₆*M₆₃ + M₂₇*M₇₃ + M₃₃*M₂₃ + M₄₃*M₂₄ + M₅₃*M₂₅ + M₈₃*M₂₈ + M₉₃*M₂₉)*(M₁₀₁*M₃₁₀ + M₃₁*M₁₁ + M₃₁*M₃₃ + M₃₂*M₂₁ + M₃₅*M₅₁ + M₃₆*M₆₁ + M₃₇*M₇₁ + M₃₈*M₈₁ + M₄₁*M₃₄ + M₉₁*M₃₉) + (M₁₀₅*M₂₁₀ + M₂₁*M₁₅ + M₂₂*M₂₅ + M₂₆*M₆₅ + M₂₇*M₇₅ + M₃₅*M₂₃ + M₄₅*M₂₄ + M₅₅*M₂₅ + M₈₅*M₂₈ + M₉₅*M₂₉)*(M₁₀₁*M₅₁₀ + M₃₁*M₅₃ + M₄₁*M₅₄ + M₅₁*M₁₁ + M₅₂*M₂₁ + M₅₅*M₅₁ + M₅₆*M₆₁ + M₅₇*M₇₁ + M₈₁*M₅₈ + M₉₁*M₅₉) + (M₁₀₇*M₂₁₀ + M₂₁*M₁₇ + M₂₂*M₂₇ + M₂₆*M₆₇ + M₂₇*M₇₇ + M₃₇*M₂₃ + M₄₇*M₂₄ + M₅₇*M₂₅ + M₈₇*M₂₈ + M₉₇*M₂₉)*(M₁₁*M₇₁ + M₂₁*M₇₂ + M₃₁*M₇₃ + M₄₁*M₇₄ + M₅₁*M₇₅ + M₇₁*M₇₇ + M₇₁₀*M₁₀₁ + M₇₆*M₆₁ + M₈₁*M₇₈ + M₉₁*M₇₉) + (M₁₀₈*M₂₁₀ + M₂₁*M₁₈ + M₂₂*M₂₈ + M₂₆*M₆₈ + M₂₇*M₇₈ + M₃₈*M₂₃ + M₄₈*M₂₄ + M₅₈*M₂₅ + M₈₈*M₂₈ + M₉₈*M₂₉)*(M₁₀₁*M₈₁₀ + M₃₁*M₈₃ + M₄₁*M₈₄ + M₈₁*M₁₁ + M₈₁*M₈₈ + M₈₂*M₂₁ + M₈₅*M₅₁ + M₈₆*M₆₁ + M₈₇*M₇₁ + M₉₁*M₈₉) + (M₁₀₉*M₂₁₀ + M₂₁*M₁₉ + M₂₂*M₂₉ + M₂₆*M₆₉ + M₂₇*M₇₉ + M₃₉*M₂₃ + M₄₉*M₂₄ + M₅₉*M₂₅ + M₈₉*M₂₈ + M₉₉*M₂₉)*(M₉₁*M₁₁ + M₉₁*M₉₉ + M₉₁₀*M₁₀₁ + M₉₂*M₂₁ + M₉₃*M₃₁ + M₉₄*M₄₁ + M₉₅*M₅₁ + M₉₆*M₆₁ + M₉₇*M₇₁ + M₉₈*M₈₁) + (M₁₀₁₀*M₂₁₀ + M₁₁₀*M₂₁ + M₂₁₀*M₂₂ + M₃₁₀*M₂₃ + M₄₁₀*M₂₄ + M₅₁₀*M₂₅ + M₆₁₀*M₂₆ + M₇₁₀*M₂₇ + M₈₁₀*M₂₈ + M₉₁₀*M₂₉)*(M₁₀₁*M₁₁ + M₁₀₁₀*M₁₀₁ + M₁₀₂*M₂₁ + M₁₀₃*M₃₁ + M₁₀₄*M₄₁ + M₁₀₅*M₅₁ + M₁₀₆*M₆₁ + M₁₀₇*M₇₁ + M₁₀₈*M₈₁ + M₁₀₉*M₉₁) + (M₁₁*M₆₁ + M₂₁*M₆₂ + M₃₁*M₆₃ + M₄₁*M₆₄ + M₅₁*M₆₅ + M₆₁*M₆₆ + M₆₁₀*M₁₀₁ + M₇₁*M₆₇ + M₈₁*M₆₈ + M₉₁*M₆₉)*(M₁₀₆*M₂₁₀ + M₂₁*M₁₆ + M₂₂*M₂₆ + M₂₆*M₆₆ + M₂₇*M₇₆ + M₃₆*M₂₃ + M₄₆*M₂₄ + M₅₆*M₂₅ + M₈₆*M₂₈ + M₉₆*M₂₉) + (M₄₁*M₁₁ + M₄₁*M₄₄ + M₄₁₀*M₁₀₁ + M₄₂*M₂₁ + M₄₃*M₃₁ + M₄₅*M₅₁ + M₄₆*M₆₁ + M₄₇*M₇₁ + M₄₈*M₈₁ + M₉₁*M₄₉)*(M₁₀₄*M₂₁₀ + M₂₁*M₁₄ + M₂₂*M₂₄ + M₂₆*M₆₄ + M₂₇*M₇₄ + M₃₄*M₂₃ + M₄₄*M₂₄ + M₅₄*M₂₅ + M₈₄*M₂₈ + M₉₄*M₂₉))*((M₁₀₁*M₃₁₀ + M₃₁*M₁₁ + M₃₁*M₃₃ + M₃₂*M₂₁ + M₃₅*M₅₁ + M₃₆*M₆₁ + M₃₇*M₇₁ + M₃₈*M₈₁ + M₄₁*M₃₄ + M₉₁*M₃₉)*(M₁₁*M₁₂ + M₁₁₀*M₁₀₂ + M₁₆*M₆₂ + M₁₇*M₇₂ + M₂₂*M₁₂ + M₃₂*M₁₃ + M₄₂*M₁₄ + M₅₂*M₁₅ + M₈₂*M₁₈ + M₉₂*M₁₉) + (M₁₀₂*M₃₁₀ + M₃₁*M₁₂ + M₃₂*M₂₂ + M₃₂*M₃₃ + M₃₅*M₅₂ + M₃₆*M₆₂ + M₃₇*M₇₂ + M₃₈*M₈₂ + M₄₂*M₃₄ + M₉₂*M₃₉)*(M₁₀₂*M₂₁₀ + M₂₁*M₁₂ + M₂₆*M₆₂ + M₂₇*M₇₂ + M₃₂*M₂₃ + M₄₂*M₂₄ + M₅₂*M₂₅ + M₈₂*M₂₈ + M₉₂*M₂₉ + M₂₂^2) + (M₁₀₂*M₃₁₀ + M₃₁*M₁₂ + M₃₂*M₂₂ + M₃₂*M₃₃ + M₃₅*M₅₂ + M₃₆*M₆₂ + M₃₇*M₇₂ + M₃₈*M₈₂ + M₄₂*M₃₄ + M₉₂*M₃₉)*(M₁₀₃*M₃₁₀ + M₃₁*M₁₃ + M₃₂*M₂₃ + M₃₅*M₅₃ + M₃₆*M₆₃ + M₃₇*M₇₃ + M₃₈*M₈₃ + M₄₃*M₃₄ + M₉₃*M₃₉ + M₃₃^2) + (M₁₀₂*M₅₁₀ + M₃₂*M₅₃ + M₄₂*M₅₄ + M₅₁*M₁₂ + M₅₂*M₂₂ + M₅₅*M₅₂ + M₅₆*M₆₂ + M₅₇*M₇₂ + M₈₂*M₅₈ + M₉₂*M₅₉)*(M₁₀₅*M₃₁₀ + M₃₁*M₁₅ + M₃₂*M₂₅ + M₃₅*M₃₃ + M₃₅*M₅₅ + M₃₆*M₆₅ + M₃₇*M₇₅ + M₃₈*M₈₅ + M₄₅*M₃₄ + M₉₅*M₃₉) + (M₁₀₂*M₈₁₀ + M₃₂*M₈₃ + M₄₂*M₈₄ + M₈₁*M₁₂ + M₈₂*M₂₂ + M₈₂*M₈₈ + M₈₅*M₅₂ + M₈₆*M₆₂ + M₈₇*M₇₂ + M₉₂*M₈₉)*(M₁₀₈*M₃₁₀ + M₃₁*M₁₈ + M₃₂*M₂₈ + M₃₃*M₃₈ + M₃₅*M₅₈ + M₃₆*M₆₈ + M₃₇*M₇₈ + M₃₈*M₈₈ + M₄₈*M₃₄ + M₉₈*M₃₉) + (M₁₀₇*M₃₁₀ + M₃₁*M₁₇ + M₃₂*M₂₇ + M₃₃*M₃₇ + M₃₅*M₅₇ + M₃₆*M₆₇ + M₃₇*M₇₇ + M₃₈*M₈₇ + M₄₇*M₃₄ + M₉₇*M₃₉)*(M₁₂*M₇₁ + M₂₂*M₇₂ + M₃₂*M₇₃ + M₄₂*M₇₄ + M₅₂*M₇₅ + M₇₁₀*M₁₀₂ + M₇₂*M₇₇ + M₇₆*M₆₂ + M₈₂*M₇₈ + M₉₂*M₇₉) + (M₁₀₉*M₃₁₀ + M₃₁*M₁₉ + M₃₂*M₂₉ + M₃₃*M₃₉ + M₃₅*M₅₉ + M₃₆*M₆₉ + M₃₇*M₇₉ + M₃₈*M₈₉ + M₄₉*M₃₄ + M₉₉*M₃₉)*(M₉₁*M₁₂ + M₉₁₀*M₁₀₂ + M₉₂*M₂₂ + M₉₃*M₃₂ + M₉₄*M₄₂ + M₉₅*M₅₂ + M₉₆*M₆₂ + M₉₇*M₇₂ + M₉₈*M₈₂ + M₉₉*M₉₂) + (M₁₀₁₀*M₃₁₀ + M₁₁₀*M₃₁ + M₂₁₀*M₃₂ + M₃₁₀*M₃₃ + M₄₁₀*M₃₄ + M₅₁₀*M₃₅ + M₆₁₀*M₃₆ + M₇₁₀*M₃₇ + M₈₁₀*M₃₈ + M₉₁₀*M₃₉)*(M₁₀₁*M₁₂ + M₁₀₁₀*M₁₀₂ + M₁₀₂*M₂₂ + M₁₀₃*M₃₂ + M₁₀₄*M₄₂ + M₁₀₅*M₅₂ + M₁₀₆*M₆₂ + M₁₀₇*M₇₂ + M₁₀₈*M₈₂ + M₁₀₉*M₉₂) + (M₁₂*M₆₁ + M₂₂*M₆₂ + M₃₂*M₆₃ + M₄₂*M₆₄ + M₅₂*M₆₅ + M₆₁₀*M₁₀₂ + M₆₂*M₆₆ + M₇₂*M₆₇ + M₈₂*M₆₈ + M₉₂*M₆₉)*(M₁₀₆*M₃₁₀ + M₃₁*M₁₆ + M₃₂*M₂₆ + M₃₅*M₅₆ + M₃₆*M₃₃ + M₃₆*M₆₆ + M₃₇*M₇₆ + M₃₈*M₈₆ + M₄₆*M₃₄ + M₉₆*M₃₉) + (M₄₁*M₁₂ + M₄₁₀*M₁₀₂ + M₄₂*M₂₂ + M₄₂*M₄₄ + M₄₃*M₃₂ + M₄₅*M₅₂ + M₄₆*M₆₂ + M₄₇*M₇₂ + M₄₈*M₈₂ + M₉₂*M₄₉)*(M₁₀₄*M₃₁₀ + M₃₁*M₁₄ + M₃₂*M₂₄ + M₃₃*M₃₄ + M₃₅*M₅₄ + M₃₆*M₆₄ + M₃₇*M₇₄ + M₃₈*M₈₄ + M₄₄*M₃₄ + M₉₄*M₃₉)) + ((M₁₀₁*M₃₁₀ + M₃₁*M₁₁ + M₃₁*M₃₃ + M₃₂*M₂₁ + M₃₅*M₅₁ + M₃₆*M₆₁ + M₃₇*M₇₁ + M₃₈*M₈₁ + M₄₁*M₃₄ + M₉₁*M₃₉)*(M₁₀₁₀*M₁₁₀ + M₁₁₀*M₁₁ + M₂₁₀*M₁₂ + M₃₁₀*M₁₃ + M₄₁₀*M₁₄ + M₅₁₀*M₁₅ + M₆₁₀*M₁₆ + M₇₁₀*M₁₇ + M₈₁₀*M₁₈ + M₉₁₀*M₁₉) + (M₁₀₂*M₃₁₀ + M₃₁*M₁₂ + M₃₂*M₂₂ + M₃₂*M₃₃ + M₃₅*M₅₂ + M₃₆*M₆₂ + M₃₇*M₇₂ + M₃₈*M₈₂ + M₄₂*M₃₄ + M₉₂*M₃₉)*(M₁₀₁₀*M₂₁₀ + M₁₁₀*M₂₁ + M₂₁₀*M₂₂ + M₃₁₀*M₂₃ + M₄₁₀*M₂₄ + M₅₁₀*M₂₅ + M₆₁₀*M₂₆ + M₇₁₀*M₂₇ + M₈₁₀*M₂₈ + M₉₁₀*M₂₉) + (M₁₀₃*M₃₁₀ + M₃₁*M₁₃ + M₃₂*M₂₃ + M₃₅*M₅₃ + M₃₆*M₆₃ + M₃₇*M₇₃ + M₃₈*M₈₃ + M₄₃*M₃₄ + M₉₃*M₃₉ + M₃₃^2)*(M₁₀₁₀*M₃₁₀ + M₁₁₀*M₃₁ + M₂₁₀*M₃₂ + M₃₁₀*M₃₃ + M₄₁₀*M₃₄ + M₅₁₀*M₃₅ + M₆₁₀*M₃₆ + M₇₁₀*M₃₇ + M₈₁₀*M₃₈ + M₉₁₀*M₃₉) + (M₁₀₄*M₃₁₀ + M₃₁*M₁₄ + M₃₂*M₂₄ + M₃₃*M₃₄ + M₃₅*M₅₄ + M₃₆*M₆₄ + M₃₇*M₇₄ + M₃₈*M₈₄ + M₄₄*M₃₄ + M₉₄*M₃₉)*(M₁₀₁₀*M₄₁₀ + M₁₁₀*M₄₁ + M₂₁₀*M₄₂ + M₃₁₀*M₄₃ + M₄₁₀*M₄₄ + M₅₁₀*M₄₅ + M₆₁₀*M₄₆ + M₇₁₀*M₄₇ + M₈₁₀*M₄₈ + M₉₁₀*M₄₉) + (M₁₀₅*M₃₁₀ + M₃₁*M₁₅ + M₃₂*M₂₅ + M₃₅*M₃₃ + M₃₅*M₅₅ + M₃₆*M₆₅ + M₃₇*M₇₅ + M₃₈*M₈₅ + M₄₅*M₃₄ + M₉₅*M₃₉)*(M₁₀₁₀*M₅₁₀ + M₁₁₀*M₅₁ + M₂₁₀*M₅₂ + M₃₁₀*M₅₃ + M₄₁₀*M₅₄ + M₅₁₀*M₅₅ + M₆₁₀*M₅₆ + M₇₁₀*M₅₇ + M₈₁₀*M₅₈ + M₉₁₀*M₅₉) + (M₁₀₆*M₃₁₀ + M₃₁*M₁₆ + M₃₂*M₂₆ + M₃₅*M₅₆ + M₃₆*M₃₃ + M₃₆*M₆₆ + M₃₇*M₇₆ + M₃₈*M₈₆ + M₄₆*M₃₄ + M₉₆*M₃₉)*(M₁₀₁₀*M₆₁₀ + M₁₁₀*M₆₁ + M₂₁₀*M₆₂ + M₃₁₀*M₆₃ + M₄₁₀*M₆₄ + M₅₁₀*M₆₅ + M₆₁₀*M₆₆ + M₇₁₀*M₆₇ + M₈₁₀*M₆₈ + M₉₁₀*M₆₉) + (M₁₀₇*M₃₁₀ + M₃₁*M₁₇ + M₃₂*M₂₇ + M₃₃*M₃₇ + M₃₅*M₅₇ + M₃₆*M₆₇ + M₃₇*M₇₇ + M₃₈*M₈₇ + M₄₇*M₃₄ + M₉₇*M₃₉)*(M₁₀₁₀*M₇₁₀ + M₁₁₀*M₇₁ + M₂₁₀*M₇₂ + M₃₁₀*M₇₃ + M₄₁₀*M₇₄ + M₅₁₀*M₇₅ + M₆₁₀*M₇₆ + M₇₁₀*M₇₇ + M₈₁₀*M₇₈ + M₉₁₀*M₇₉) + (M₁₀₈*M₃₁₀ + M₃₁*M₁₈ + M₃₂*M₂₈ + M₃₃*M₃₈ + M₃₅*M₅₈ + M₃₆*M₆₈ + M₃₇*M₇₈ + M₃₈*M₈₈ + M₄₈*M₃₄ + M₉₈*M₃₉)*(M₁₀₁₀*M₈₁₀ + M₁₁₀*M₈₁ + M₂₁₀*M₈₂ + M₃₁₀*M₈₃ + M₄₁₀*M₈₄ + M₅₁₀*M₈₅ + M₆₁₀*M₈₆ + M₇₁₀*M₈₇ + M₈₁₀*M₈₈ + M₉₁₀*M₈₉) + (M₁₀₉*M₃₁₀ + M₃₁*M₁₉ + M₃₂*M₂₉ + M₃₃*M₃₉ + M₃₅*M₅₉ + M₃₆*M₆₉ + M₃₇*M₇₉ + M₃₈*M₈₉ + M₄₉*M₃₄ + M₉₉*M₃₉)*(M₁₀₁₀*M₉₁₀ + M₁₁₀*M₉₁ + M₂₁₀*M₉₂ + M₃₁₀*M₉₃ + M₄₁₀*M₉₄ + M₅₁₀*M₉₅ + M₆₁₀*M₉₆ + M₇₁₀*M₉₇ + M₈₁₀*M₉₈ + M₉₁₀*M₉₉) + (M₁₀₂*M₂₁₀ + M₁₀₃*M₃₁₀ + M₁₀₅*M₅₁₀ + M₁₀₈*M₈₁₀ + M₁₁₀*M₁₀₁ + M₄₁₀*M₁₀₄ + M₆₁₀*M₁₀₆ + M₇₁₀*M₁₀₇ + M₉₁₀*M₁₀₉ + M₁₀₁₀^2)*(M₁₀₁₀*M₃₁₀ + M₁₁₀*M₃₁ + M₂₁₀*M₃₂ + M₃₁₀*M₃₃ + M₄₁₀*M₃₄ + M₅₁₀*M₃₅ + M₆₁₀*M₃₆ + M₇₁₀*M₃₇ + M₈₁₀*M₃₈ + M₉₁₀*M₃₉))*((M₁₀₁*M₂₁₀ + M₂₁*M₁₁ + M₂₂*M₂₁ + M₂₆*M₆₁ + M₂₇*M₇₁ + M₃₁*M₂₃ + M₄₁*M₂₄ + M₅₁*M₂₅ + M₈₁*M₂₈ + M₉₁*M₂₉)*(M₁₀₁*M₁₂ + M₁₀₁₀*M₁₀₂ + M₁₀₂*M₂₂ + M₁₀₃*M₃₂ + M₁₀₄*M₄₂ + M₁₀₅*M₅₂ + M₁₀₆*M₆₂ + M₁₀₇*M₇₂ + M₁₀₈*M₈₂ + M₁₀₉*M₉₂) + (M₁₀₁*M₃₁₀ + M₃₁*M₁₁ + M₃₁*M₃₃ + M₃₂*M₂₁ + M₃₅*M₅₁ + M₃₆*M₆₁ + M₃₇*M₇₁ + M₃₈*M₈₁ + M₄₁*M₃₄ + M₉₁*M₃₉)*(M₁₀₁*M₁₃ + M₁₀₁₀*M₁₀₃ + M₁₀₂*M₂₃ + M₁₀₃*M₃₃ + M₁₀₄*M₄₃ + M₁₀₅*M₅₃ + M₁₀₆*M₆₃ + M₁₀₇*M₇₃ + M₁₀₈*M₈₃ + M₁₀₉*M₉₃) + (M₁₀₁*M₅₁₀ + M₃₁*M₅₃ + M₄₁*M₅₄ + M₅₁*M₁₁ + M₅₂*M₂₁ + M₅₅*M₅₁ + M₅₆*M₆₁ + M₅₇*M₇₁ + M₈₁*M₅₈ + M₉₁*M₅₉)*(M₁₀₁*M₁₅ + M₁₀₁₀*M₁₀₅ + M₁₀₂*M₂₅ + M₁₀₃*M₃₅ + M₁₀₄*M₄₅ + M₁₀₅*M₅₅ + M₁₀₆*M₆₅ + M₁₀₇*M₇₅ + M₁₀₈*M₈₅ + M₁₀₉*M₉₅) + (M₁₀₁*M₈₁₀ + M₃₁*M₈₃ + M₄₁*M₈₄ + M₈₁*M₁₁ + M₈₁*M₈₈ + M₈₂*M₂₁ + M₈₅*M₅₁ + M₈₆*M₆₁ + M₈₇*M₇₁ + M₉₁*M₈₉)*(M₁₀₁*M₁₈ + M₁₀₁₀*M₁₀₈ + M₁₀₂*M₂₈ + M₁₀₃*M₃₈ + M₁₀₄*M₄₈ + M₁₀₅*M₅₈ + M₁₀₆*M₆₈ + M₁₀₇*M₇₈ + M₁₀₈*M₈₈ + M₁₀₉*M₉₈) + (M₁₁₀*M₁₀₁ + M₁₆*M₆₁ + M₁₇*M₇₁ + M₂₁*M₁₂ + M₃₁*M₁₃ + M₄₁*M₁₄ + M₅₁*M₁₅ + M₈₁*M₁₈ + M₉₁*M₁₉ + M₁₁^2)*(M₁₀₁*M₁₁ + M₁₀₁₀*M₁₀₁ + M₁₀₂*M₂₁ + M₁₀₃*M₃₁ + M₁₀₄*M₄₁ + M₁₀₅*M₅₁ + M₁₀₆*M₆₁ + M₁₀₇*M₇₁ + M₁₀₈*M₈₁ + M₁₀₉*M₉₁) + (M₁₁*M₆₁ + M₂₁*M₆₂ + M₃₁*M₆₃ + M₄₁*M₆₄ + M₅₁*M₆₅ + M₆₁*M₆₆ + M₆₁₀*M₁₀₁ + M₇₁*M₆₇ + M₈₁*M₆₈ + M₉₁*M₆₉)*(M₁₀₁*M₁₆ + M₁₀₁₀*M₁₀₆ + M₁₀₂*M₂₆ + M₁₀₃*M₃₆ + M₁₀₄*M₄₆ + M₁₀₅*M₅₆ + M₁₀₆*M₆₆ + M₁₀₇*M₇₆ + M₁₀₈*M₈₆ + M₁₀₉*M₉₆) + (M₁₀₂*M₂₁₀ + M₁₀₃*M₃₁₀ + M₁₀₅*M₅₁₀ + M₁₀₈*M₈₁₀ + M₁₁₀*M₁₀₁ + M₄₁₀*M₁₀₄ + M₆₁₀*M₁₀₆ + M₇₁₀*M₁₀₇ + M₉₁₀*M₁₀₉ + M₁₀₁₀^2)*(M₁₀₁*M₁₁ + M₁₀₁₀*M₁₀₁ + M₁₀₂*M₂₁ + M₁₀₃*M₃₁ + M₁₀₄*M₄₁ + M₁₀₅*M₅₁ + M₁₀₆*M₆₁ + M₁₀₇*M₇₁ + M₁₀₈*M₈₁ + M₁₀₉*M₉₁) + (M₄₁*M₁₁ + M₄₁*M₄₄ + M₄₁₀*M₁₀₁ + M₄₂*M₂₁ + M₄₃*M₃₁ + M₄₅*M₅₁ + M₄₆*M₆₁ + M₄₇*M₇₁ + M₄₈*M₈₁ + M₉₁*M₄₉)*(M₁₀₁*M₁₄ + M₁₀₁₀*M₁₀₄ + M₁₀₂*M₂₄ + M₁₀₃*M₃₄ + M₁₀₄*M₄₄ + M₁₀₅*M₅₄ + M₁₀₆*M₆₄ + M₁₀₇*M₇₄ + M₁₀₈*M₈₄ + M₁₀₉*M₉₄) + (M₁₁*M₇₁ + M₂₁*M₇₂ + M₃₁*M₇₃ + M₄₁*M₇₄ + M₅₁*M₇₅ + M₇₁*M₇₇ + M₇₁₀*M₁₀₁ + M₇₆*M₆₁ + M₈₁*M₇₈ + M₉₁*M₇₉)*(M₁₀₁*M₁₇ + M₁₀₁₀*M₁₀₇ + M₁₀₂*M₂₇ + M₁₀₃*M₃₇ + M₁₀₄*M₄₇ + M₁₀₅*M₅₇ + M₁₀₆*M₆₇ + M₁₀₇*M₇₇ + M₁₀₈*M₈₇ + M₁₀₉*M₉₇) + (M₉₁*M₁₁ + M₉₁*M₉₉ + M₉₁₀*M₁₀₁ + M₉₂*M₂₁ + M₉₃*M₃₁ + M₉₄*M₄₁ + M₉₅*M₅₁ + M₉₆*M₆₁ + M₉₇*M₇₁ + M₉₈*M₈₁)*(M₁₀₁*M₁₉ + M₁₀₁₀*M₁₀₉ + M₁₀₂*M₂₉ + M₁₀₃*M₃₉ + M₁₀₄*M₄₉ + M₁₀₅*M₅₉ + M₁₀₆*M₆₉ + M₁₀₇*M₇₉ + M₁₀₈*M₈₉ + M₁₀₉*M₉₉)) + ((M₁₀₁*M₂₁₀ + M₂₁*M₁₁ + M₂₂*M₂₁ + M₂₆*M₆₁ + M₂₇*M₇₁ + M₃₁*M₂₃ + M₄₁*M₂₄ + M₅₁*M₂₅ + M₈₁*M₂₈ + M₉₁*M₂₉)*(M₁₀₂*M₃₁₀ + M₃₁*M₁₂ + M₃₂*M₂₂ + M₃₂*M₃₃ + M₃₅*M₅₂ + M₃₆*M₆₂ + M₃₇*M₇₂ + M₃₈*M₈₂ + M₄₂*M₃₄ + M₉₂*M₃₉) + (M₁₀₁*M₃₁₀ + M₃₁*M₁₁ + M₃₁*M₃₃ + M₃₂*M₂₁ + M₃₅*M₅₁ + M₃₆*M₆₁ + M₃₇*M₇₁ + M₃₈*M₈₁ + M₄₁*M₃₄ + M₉₁*M₃₉)*(M₁₀₃*M₃₁₀ + M₃₁*M₁₃ + M₃₂*M₂₃ + M₃₅*M₅₃ + M₃₆*M₆₃ + M₃₇*M₇₃ + M₃₈*M₈₃ + M₄₃*M₃₄ + M₉₃*M₃₉ + M₃₃^2) + (M₁₀₁*M₃₁₀ + M₃₁*M₁₁ + M₃₁*M₃₃ + M₃₂*M₂₁ + M₃₅*M₅₁ + M₃₆*M₆₁ + M₃₇*M₇₁ + M₃₈*M₈₁ + M₄₁*M₃₄ + M₉₁*M₃₉)*(M₁₁₀*M₁₀₁ + M₁₆*M₆₁ + M₁₇*M₇₁ + M₂₁*M₁₂ + M₃₁*M₁₃ + M₄₁*M₁₄ + M₅₁*M₁₅ + M₈₁*M₁₈ + M₉₁*M₁₉ + M₁₁^2) + (M₁₀₁*M₅₁₀ + M₃₁*M₅₃ + M₄₁*M₅₄ + M₅₁*M₁₁ + M₅₂*M₂₁ + M₅₅*M₅₁ + M₅₆*M₆₁ + M₅₇*M₇₁ + M₈₁*M₅₈ + M₉₁*M₅₉)*(M₁₀₅*M₃₁₀ + M₃₁*M₁₅ + M₃₂*M₂₅ + M₃₅*M₃₃ + M₃₅*M₅₅ + M₃₆*M₆₅ + M₃₇*M₇₅ + M₃₈*M₈₅ + M₄₅*M₃₄ + M₉₅*M₃₉) + (M₁₀₁*M₈₁₀ + M₃₁*M₈₃ + M₄₁*M₈₄ + M₈₁*M₁₁ + M₈₁*M₈₈ + M₈₂*M₂₁ + M₈₅*M₅₁ + M₈₆*M₆₁ + M₈₇*M₇₁ + M₉₁*M₈₉)*(M₁₀₈*M₃₁₀ + M₃₁*M₁₈ + M₃₂*M₂₈ + M₃₃*M₃₈ + M₃₅*M₅₈ + M₃₆*M₆₈ + M₃₇*M₇₈ + M₃₈*M₈₈ + M₄₈*M₃₄ + M₉₈*M₃₉) + (M₁₀₇*M₃₁₀ + M₃₁*M₁₇ + M₃₂*M₂₇ + M₃₃*M₃₇ + M₃₅*M₅₇ + M₃₆*M₆₇ + M₃₇*M₇₇ + M₃₈*M₈₇ + M₄₇*M₃₄ + M₉₇*M₃₉)*(M₁₁*M₇₁ + M₂₁*M₇₂ + M₃₁*M₇₃ + M₄₁*M₇₄ + M₅₁*M₇₅ + M₇₁*M₇₇ + M₇₁₀*M₁₀₁ + M₇₆*M₆₁ + M₈₁*M₇₈ + M₉₁*M₇₉) + (M₁₀₉*M₃₁₀ + M₃₁*M₁₉ + M₃₂*M₂₉ + M₃₃*M₃₉ + M₃₅*M₅₉ + M₃₆*M₆₉ + M₃₇*M₇₉ + M₃₈*M₈₉ + M₄₉*M₃₄ + M₉₉*M₃₉)*(M₉₁*M₁₁ + M₉₁*M₉₉ + M₉₁₀*M₁₀₁ + M₉₂*M₂₁ + M₉₃*M₃₁ + M₉₄*M₄₁ + M₉₅*M₅₁ + M₉₆*M₆₁ + M₉₇*M₇₁ + M₉₈*M₈₁) + (M₁₀₁₀*M₃₁₀ + M₁₁₀*M₃₁ + M₂₁₀*M₃₂ + M₃₁₀*M₃₃ + M₄₁₀*M₃₄ + M₅₁₀*M₃₅ + M₆₁₀*M₃₆ + M₇₁₀*M₃₇ + M₈₁₀*M₃₈ + M₉₁₀*M₃₉)*(M₁₀₁*M₁₁ + M₁₀₁₀*M₁₀₁ + M₁₀₂*M₂₁ + M₁₀₃*M₃₁ + M₁₀₄*M₄₁ + M₁₀₅*M₅₁ + M₁₀₆*M₆₁ + M₁₀₇*M₇₁ + M₁₀₈*M₈₁ + M₁₀₉*M₉₁) + (M₁₁*M₆₁ + M₂₁*M₆₂ + M₃₁*M₆₃ + M₄₁*M₆₄ + M₅₁*M₆₅ + M₆₁*M₆₆ + M₆₁₀*M₁₀₁ + M₇₁*M₆₇ + M₈₁*M₆₈ + M₉₁*M₆₉)*(M₁₀₆*M₃₁₀ + M₃₁*M₁₆ + M₃₂*M₂₆ + M₃₅*M₅₆ + M₃₆*M₃₃ + M₃₆*M₆₆ + M₃₇*M₇₆ + M₃₈*M₈₆ + M₄₆*M₃₄ + M₉₆*M₃₉) + (M₄₁*M₁₁ + M₄₁*M₄₄ + M₄₁₀*M₁₀₁ + M₄₂*M₂₁ + M₄₃*M₃₁ + M₄₅*M₅₁ + M₄₆*M₆₁ + M₄₇*M₇₁ + M₄₈*M₈₁ + M₉₁*M₄₉)*(M₁₀₄*M₃₁₀ + M₃₁*M₁₄ + M₃₂*M₂₄ + M₃₃*M₃₄ + M₃₅*M₅₄ + M₃₆*M₆₄ + M₃₇*M₇₄ + M₃₈*M₈₄ + M₄₄*M₃₄ + M₉₄*M₃₉))*((M₁₀₁*M₂₁₀ + M₂₁*M₁₁ + M₂₂*M₂₁ + M₂₆*M₆₁ + M₂₇*M₇₁ + M₃₁*M₂₃ + M₄₁*M₂₄ + M₅₁*M₂₅ + M₈₁*M₂₈ + M₉₁*M₂₉)*(M₁₁*M₁₂ + M₁₁₀*M₁₀₂ + M₁₆*M₆₂ + M₁₇*M₇₂ + M₂₂*M₁₂ + M₃₂*M₁₃ + M₄₂*M₁₄ + M₅₂*M₁₅ + M₈₂*M₁₈ + M₉₂*M₁₉) + (M₁₀₁*M₃₁₀ + M₃₁*M₁₁ + M₃₁*M₃₃ + M₃₂*M₂₁ + M₃₅*M₅₁ + M₃₆*M₆₁ + M₃₇*M₇₁ + M₃₈*M₈₁ + M₄₁*M₃₄ + M₉₁*M₃₉)*(M₁₁*M₁₃ + M₁₁₀*M₁₀₃ + M₁₆*M₆₃ + M₁₇*M₇₃ + M₂₃*M₁₂ + M₃₃*M₁₃ + M₄₃*M₁₄ + M₅₃*M₁₅ + M₈₃*M₁₈ + M₉₃*M₁₉) + (M₁₀₁*M₅₁₀ + M₃₁*M₅₃ + M₄₁*M₅₄ + M₅₁*M₁₁ + M₅₂*M₂₁ + M₅₅*M₅₁ + M₅₆*M₆₁ + M₅₇*M₇₁ + M₈₁*M₅₈ + M₉₁*M₅₉)*(M₁₁*M₁₅ + M₁₁₀*M₁₀₅ + M₁₆*M₆₅ + M₁₇*M₇₅ + M₂₅*M₁₂ + M₃₅*M₁₃ + M₄₅*M₁₄ + M₅₅*M₁₅ + M₈₅*M₁₈ + M₉₅*M₁₉) + (M₁₀₁*M₈₁₀ + M₃₁*M₈₃ + M₄₁*M₈₄ + M₈₁*M₁₁ + M₈₁*M₈₈ + M₈₂*M₂₁ + M₈₅*M₅₁ + M₈₆*M₆₁ + M₈₇*M₇₁ + M₉₁*M₈₉)*(M₁₁*M₁₈ + M₁₁₀*M₁₀₈ + M₁₆*M₆₈ + M₁₇*M₇₈ + M₂₈*M₁₂ + M₃₈*M₁₃ + M₄₈*M₁₄ + M₅₈*M₁₅ + M₈₈*M₁₈ + M₉₈*M₁₉) + (M₁₁*M₁₇ + M₁₁₀*M₁₀₇ + M₁₆*M₆₇ + M₁₇*M₇₇ + M₂₇*M₁₂ + M₃₇*M₁₃ + M₄₇*M₁₄ + M₅₇*M₁₅ + M₈₇*M₁₈ + M₉₇*M₁₉)*(M₁₁*M₇₁ + M₂₁*M₇₂ + M₃₁*M₇₃ + M₄₁*M₇₄ + M₅₁*M₇₅ + M₇₁*M₇₇ + M₇₁₀*M₁₀₁ + M₇₆*M₆₁ + M₈₁*M₇₈ + M₉₁*M₇₉) + (M₁₁*M₁₉ + M₁₁₀*M₁₀₉ + M₁₆*M₆₉ + M₁₇*M₇₉ + M₂₉*M₁₂ + M₃₉*M₁₃ + M₄₉*M₁₄ + M₅₉*M₁₅ + M₈₉*M₁₈ + M₉₉*M₁₉)*(M₉₁*M₁₁ + M₉₁*M₉₉ + M₉₁₀*M₁₀₁ + M₉₂*M₂₁ + M₉₃*M₃₁ + M₉₄*M₄₁ + M₉₅*M₅₁ + M₉₆*M₆₁ + M₉₇*M₇₁ + M₉₈*M₈₁) + (M₁₀₁₀*M₁₁₀ + M₁₁₀*M₁₁ + M₂₁₀*M₁₂ + M₃₁₀*M₁₃ + M₄₁₀*M₁₄ + M₅₁₀*M₁₅ + M₆₁₀*M₁₆ + M₇₁₀*M₁₇ + M₈₁₀*M₁₈ + M₉₁₀*M₁₉)*(M₁₀₁*M₁₁ + M₁₀₁₀*M₁₀₁ + M₁₀₂*M₂₁ + M₁₀₃*M₃₁ + M₁₀₄*M₄₁ + M₁₀₅*M₅₁ + M₁₀₆*M₆₁ + M₁₀₇*M₇₁ + M₁₀₈*M₈₁ + M₁₀₉*M₉₁) + (M₁₁*M₆₁ + M₂₁*M₆₂ + M₃₁*M₆₃ + M₄₁*M₆₄ + M₅₁*M₆₅ + M₆₁*M₆₆ + M₆₁₀*M₁₀₁ + M₇₁*M₆₇ + M₈₁*M₆₈ + M₉₁*M₆₉)*(M₁₁*M₁₆ + M₁₁₀*M₁₀₆ + M₁₆*M₆₆ + M₁₇*M₇₆ + M₂₆*M₁₂ + M₃₆*M₁₃ + M₄₆*M₁₄ + M₅₆*M₁₅ + M₈₆*M₁₈ + M₉₆*M₁₉) + (M₄₁*M₁₁ + M₄₁*M₄₄ + M₄₁₀*M₁₀₁ + M₄₂*M₂₁ + M₄₃*M₃₁ + M₄₅*M₅₁ + M₄₆*M₆₁ + M₄₇*M₇₁ + M₄₈*M₈₁ + M₉₁*M₄₉)*(M₁₁*M₁₄ + M₁₁₀*M₁₀₄ + M₁₆*M₆₄ + M₁₇*M₇₄ + M₂₄*M₁₂ + M₃₄*M₁₃ + M₄₄*M₁₄ + M₅₄*M₁₅ + M₈₄*M₁₈ + M₉₄*M₁₉) + (M₁₁₀*M₁₀₁ + M₁₆*M₆₁ + M₁₇*M₇₁ + M₂₁*M₁₂ + M₃₁*M₁₃ + M₄₁*M₁₄ + M₅₁*M₁₅ + M₈₁*M₁₈ + M₉₁*M₁₉ + M₁₁^2)^2) + ((M₁₀₁*M₃₁₀ + M₃₁*M₁₁ + M₃₁*M₃₃ + M₃₂*M₂₁ + M₃₅*M₅₁ + M₃₆*M₆₁ + M₃₇*M₇₁ + M₃₈*M₈₁ + M₄₁*M₃₄ + M₉₁*M₃₉)*(M₁₁*M₁₃ + M₁₁₀*M₁₀₃ + M₁₆*M₆₃ + M₁₇*M₇₃ + M₂₃*M₁₂ + M₃₃*M₁₃ + M₄₃*M₁₄ + M₅₃*M₁₅ + M₈₃*M₁₈ + M₉₃*M₁₉) + (M₁₀₃*M₂₁₀ + M₂₁*M₁₃ + M₂₂*M₂₃ + M₂₆*M₆₃ + M₂₇*M₇₃ + M₃₃*M₂₃ + M₄₃*M₂₄ + M₅₃*M₂₅ + M₈₃*M₂₈ + M₉₃*M₂₉)*(M₁₀₂*M₃₁₀ + M₃₁*M₁₂ + M₃₂*M₂₂ + M₃₂*M₃₃ + M₃₅*M₅₂ + M₃₆*M₆₂ + M₃₇*M₇₂ + M₃₈*M₈₂ + M₄₂*M₃₄ + M₉₂*M₃₉) + (M₁₀₃*M₅₁₀ + M₃₃*M₅₃ + M₄₃*M₅₄ + M₅₁*M₁₃ + M₅₂*M₂₃ + M₅₅*M₅₃ + M₅₆*M₆₃ + M₅₇*M₇₃ + M₈₃*M₅₈ + M₉₃*M₅₉)*(M₁₀₅*M₃₁₀ + M₃₁*M₁₅ + M₃₂*M₂₅ + M₃₅*M₃₃ + M₃₅*M₅₅ + M₃₆*M₆₅ + M₃₇*M₇₅ + M₃₈*M₈₅ + M₄₅*M₃₄ + M₉₅*M₃₉) + (M₁₀₃*M₈₁₀ + M₃₃*M₈₃ + M₄₃*M₈₄ + M₈₁*M₁₃ + M₈₂*M₂₃ + M₈₃*M₈₈ + M₈₅*M₅₃ + M₈₆*M₆₃ + M₈₇*M₇₃ + M₉₃*M₈₉)*(M₁₀₈*M₃₁₀ + M₃₁*M₁₈ + M₃₂*M₂₈ + M₃₃*M₃₈ + M₃₅*M₅₈ + M₃₆*M₆₈ + M₃₇*M₇₈ + M₃₈*M₈₈ + M₄₈*M₃₄ + M₉₈*M₃₉) + (M₁₀₇*M₃₁₀ + M₃₁*M₁₇ + M₃₂*M₂₇ + M₃₃*M₃₇ + M₃₅*M₅₇ + M₃₆*M₆₇ + M₃₇*M₇₇ + M₃₈*M₈₇ + M₄₇*M₃₄ + M₉₇*M₃₉)*(M₁₃*M₇₁ + M₂₃*M₇₂ + M₃₃*M₇₃ + M₄₃*M₇₄ + M₅₃*M₇₅ + M₇₁₀*M₁₀₃ + M₇₃*M₇₇ + M₇₆*M₆₃ + M₈₃*M₇₈ + M₉₃*M₇₉) + (M₁₀₉*M₃₁₀ + M₃₁*M₁₉ + M₃₂*M₂₉ + M₃₃*M₃₉ + M₃₅*M₅₉ + M₃₆*M₆₉ + M₃₇*M₇₉ + M₃₈*M₈₉ + M₄₉*M₃₄ + M₉₉*M₃₉)*(M₉₁*M₁₃ + M₉₁₀*M₁₀₃ + M₉₂*M₂₃ + M₉₃*M₃₃ + M₉₄*M₄₃ + M₉₅*M₅₃ + M₉₆*M₆₃ + M₉₇*M₇₃ + M₉₈*M₈₃ + M₉₉*M₉₃) + (M₁₀₁₀*M₃₁₀ + M₁₁₀*M₃₁ + M₂₁₀*M₃₂ + M₃₁₀*M₃₃ + M₄₁₀*M₃₄ + M₅₁₀*M₃₅ + M₆₁₀*M₃₆ + M₇₁₀*M₃₇ + M₈₁₀*M₃₈ + M₉₁₀*M₃₉)*(M₁₀₁*M₁₃ + M₁₀₁₀*M₁₀₃ + M₁₀₂*M₂₃ + M₁₀₃*M₃₃ + M₁₀₄*M₄₃ + M₁₀₅*M₅₃ + M₁₀₆*M₆₃ + M₁₀₇*M₇₃ + M₁₀₈*M₈₃ + M₁₀₉*M₉₃) + (M₁₃*M₆₁ + M₂₃*M₆₂ + M₃₃*M₆₃ + M₄₃*M₆₄ + M₅₃*M₆₅ + M₆₁₀*M₁₀₃ + M₆₃*M₆₆ + M₇₃*M₆₇ + M₈₃*M₆₈ + M₉₃*M₆₉)*(M₁₀₆*M₃₁₀ + M₃₁*M₁₆ + M₃₂*M₂₆ + M₃₅*M₅₆ + M₃₆*M₃₃ + M₃₆*M₆₆ + M₃₇*M₇₆ + M₃₈*M₈₆ + M₄₆*M₃₄ + M₉₆*M₃₉) + (M₄₁*M₁₃ + M₄₁₀*M₁₀₃ + M₄₂*M₂₃ + M₄₃*M₃₃ + M₄₄*M₄₃ + M₄₅*M₅₃ + M₄₆*M₆₃ + M₄₇*M₇₃ + M₄₈*M₈₃ + M₉₃*M₄₉)*(M₁₀₄*M₃₁₀ + M₃₁*M₁₄ + M₃₂*M₂₄ + M₃₃*M₃₄ + M₃₅*M₅₄ + M₃₆*M₆₄ + M₃₇*M₇₄ + M₃₈*M₈₄ + M₄₄*M₃₄ + M₉₄*M₃₉) + (M₁₀₃*M₃₁₀ + M₃₁*M₁₃ + M₃₂*M₂₃ + M₃₅*M₅₃ + M₃₆*M₆₃ + M₃₇*M₇₃ + M₃₈*M₈₃ + M₄₃*M₃₄ + M₉₃*M₃₉ + M₃₃^2)^2)*((M₁₀₁*M₂₁₀ + M₂₁*M₁₁ + M₂₂*M₂₁ + M₂₆*M₆₁ + M₂₇*M₇₁ + M₃₁*M₂₃ + M₄₁*M₂₄ + M₅₁*M₂₅ + M₈₁*M₂₈ + M₉₁*M₂₉)*(M₁₀₂*M₃₁₀ + M₃₁*M₁₂ + M₃₂*M₂₂ + M₃₂*M₃₃ + M₃₅*M₅₂ + M₃₆*M₆₂ + M₃₇*M₇₂ + M₃₈*M₈₂ + M₄₂*M₃₄ + M₉₂*M₃₉) + (M₁₀₁*M₃₁₀ + M₃₁*M₁₁ + M₃₁*M₃₃ + M₃₂*M₂₁ + M₃₅*M₅₁ + M₃₆*M₆₁ + M₃₇*M₇₁ + M₃₈*M₈₁ + M₄₁*M₃₄ + M₉₁*M₃₉)*(M₁₀₃*M₃₁₀ + M₃₁*M₁₃ + M₃₂*M₂₃ + M₃₅*M₅₃ + M₃₆*M₆₃ + M₃₇*M₇₃ + M₃₈*M₈₃ + M₄₃*M₃₄ + M₉₃*M₃₉ + M₃₃^2) + (M₁₀₁*M₃₁₀ + M₃₁*M₁₁ + M₃₁*M₃₃ + M₃₂*M₂₁ + M₃₅*M₅₁ + M₃₆*M₆₁ + M₃₇*M₇₁ + M₃₈*M₈₁ + M₄₁*M₃₄ + M₉₁*M₃₉)*(M₁₁₀*M₁₀₁ + M₁₆*M₆₁ + M₁₇*M₇₁ + M₂₁*M₁₂ + M₃₁*M₁₃ + M₄₁*M₁₄ + M₅₁*M₁₅ + M₈₁*M₁₈ + M₉₁*M₁₉ + M₁₁^2) + (M₁₀₁*M₅₁₀ + M₃₁*M₅₃ + M₄₁*M₅₄ + M₅₁*M₁₁ + M₅₂*M₂₁ + M₅₅*M₅₁ + M₅₆*M₆₁ + M₅₇*M₇₁ + M₈₁*M₅₈ + M₉₁*M₅₉)*(M₁₀₅*M₃₁₀ + M₃₁*M₁₅ + M₃₂*M₂₅ + M₃₅*M₃₃ + M₃₅*M₅₅ + M₃₆*M₆₅ + M₃₇*M₇₅ + M₃₈*M₈₅ + M₄₅*M₃₄ + M₉₅*M₃₉) + (M₁₀₁*M₈₁₀ + M₃₁*M₈₃ + M₄₁*M₈₄ + M₈₁*M₁₁ + M₈₁*M₈₈ + M₈₂*M₂₁ + M₈₅*M₅₁ + M₈₆*M₆₁ + M₈₇*M₇₁ + M₉₁*M₈₉)*(M₁₀₈*M₃₁₀ + M₃₁*M₁₈ + M₃₂*M₂₈ + M₃₃*M₃₈ + M₃₅*M₅₈ + M₃₆*M₆₈ + M₃₇*M₇₈ + M₃₈*M₈₈ + M₄₈*M₃₄ + M₉₈*M₃₉) + (M₁₀₇*M₃₁₀ + M₃₁*M₁₇ + M₃₂*M₂₇ + M₃₃*M₃₇ + M₃₅*M₅₇ + M₃₆*M₆₇ + M₃₇*M₇₇ + M₃₈*M₈₇ + M₄₇*M₃₄ + M₉₇*M₃₉)*(M₁₁*M₇₁ + M₂₁*M₇₂ + M₃₁*M₇₃ + M₄₁*M₇₄ + M₅₁*M₇₅ + M₇₁*M₇₇ + M₇₁₀*M₁₀₁ + M₇₆*M₆₁ + M₈₁*M₇₈ + M₉₁*M₇₉) + (M₁₀₉*M₃₁₀ + M₃₁*M₁₉ + M₃₂*M₂₉ + M₃₃*M₃₉ + M₃₅*M₅₉ + M₃₆*M₆₉ + M₃₇*M₇₉ + M₃₈*M₈₉ + M₄₉*M₃₄ + M₉₉*M₃₉)*(M₉₁*M₁₁ + M₉₁*M₉₉ + M₉₁₀*M₁₀₁ + M₉₂*M₂₁ + M₉₃*M₃₁ + M₉₄*M₄₁ + M₉₅*M₅₁ + M₉₆*M₆₁ + M₉₇*M₇₁ + M₉₈*M₈₁) + (M₁₀₁₀*M₃₁₀ + M₁₁₀*M₃₁ + M₂₁₀*M₃₂ + M₃₁₀*M₃₃ + M₄₁₀*M₃₄ + M₅₁₀*M₃₅ + M₆₁₀*M₃₆ + M₇₁₀*M₃₇ + M₈₁₀*M₃₈ + M₉₁₀*M₃₉)*(M₁₀₁*M₁₁ + M₁₀₁₀*M₁₀₁ + M₁₀₂*M₂₁ + M₁₀₃*M₃₁ + M₁₀₄*M₄₁ + M₁₀₅*M₅₁ + M₁₀₆*M₆₁ + M₁₀₇*M₇₁ + M₁₀₈*M₈₁ + M₁₀₉*M₉₁) + (M₁₁*M₆₁ + M₂₁*M₆₂ + M₃₁*M₆₃ + M₄₁*M₆₄ + M₅₁*M₆₅ + M₆₁*M₆₆ + M₆₁₀*M₁₀₁ + M₇₁*M₆₇ + M₈₁*M₆₈ + M₉₁*M₆₉)*(M₁₀₆*M₃₁₀ + M₃₁*M₁₆ + M₃₂*M₂₆ + M₃₅*M₅₆ + M₃₆*M₃₃ + M₃₆*M₆₆ + M₃₇*M₇₆ + M₃₈*M₈₆ + M₄₆*M₃₄ + M₉₆*M₃₉) + (M₄₁*M₁₁ + M₄₁*M₄₄ + M₄₁₀*M₁₀₁ + M₄₂*M₂₁ + M₄₃*M₃₁ + M₄₅*M₅₁ + M₄₆*M₆₁ + M₄₇*M₇₁ + M₄₈*M₈₁ + M₉₁*M₄₉)*(M₁₀₄*M₃₁₀ + M₃₁*M₁₄ + M₃₂*M₂₄ + M₃₃*M₃₄ + M₃₅*M₅₄ + M₃₆*M₆₄ + M₃₇*M₇₄ + M₃₈*M₈₄ + M₄₄*M₃₄ + M₉₄*M₃₉)) + ((M₁₀₁*M₃₁₀ + M₃₁*M₁₁ + M₃₁*M₃₃ + M₃₂*M₂₁ + M₃₅*M₅₁ + M₃₆*M₆₁ + M₃₇*M₇₁ + M₃₈*M₈₁ + M₄₁*M₃₄ + M₉₁*M₃₉)*(M₁₁*M₁₆ + M₁₁₀*M₁₀₆ + M₁₆*M₆₆ + M₁₇*M₇₆ + M₂₆*M₁₂ + M₃₆*M₁₃ + M₄₆*M₁₄ + M₅₆*M₁₅ + M₈₆*M₁₈ + M₉₆*M₁₉) + (M₁₀₆*M₂₁₀ + M₂₁*M₁₆ + M₂₂*M₂₆ + M₂₆*M₆₆ + M₂₇*M₇₆ + M₃₆*M₂₃ + M₄₆*M₂₄ + M₅₆*M₂₅ + M₈₆*M₂₈ + M₉₆*M₂₉)*(M₁₀₂*M₃₁₀ + M₃₁*M₁₂ + M₃₂*M₂₂ + M₃₂*M₃₃ + M₃₅*M₅₂ + M₃₆*M₆₂ + M₃₇*M₇₂ + M₃₈*M₈₂ + M₄₂*M₃₄ + M₉₂*M₃₉) + (M₁₀₆*M₃₁₀ + M₃₁*M₁₆ + M₃₂*M₂₆ + M₃₅*M₅₆ + M₃₆*M₃₃ + M₃₆*M₆₆ + M₃₇*M₇₆ + M₃₈*M₈₆ + M₄₆*M₃₄ + M₉₆*M₃₉)*(M₁₀₃*M₃₁₀ + M₃₁*M₁₃ + M₃₂*M₂₃ + M₃₅*M₅₃ + M₃₆*M₆₃ + M₃₇*M₇₃ + M₃₈*M₈₃ + M₄₃*M₃₄ + M₉₃*M₃₉ + M₃₃^2) + (M₁₀₆*M₅₁₀ + M₃₆*M₅₃ + M₄₆*M₅₄ + M₅₁*M₁₆ + M₅₂*M₂₆ + M₅₆*M₅₅ + M₅₆*M₆₆ + M₅₇*M₇₆ + M₈₆*M₅₈ + M₉₆*M₅₉)*(M₁₀₅*M₃₁₀ + M₃₁*M₁₅ + M₃₂*M₂₅ + M₃₅*M₃₃ + M₃₅*M₅₅ + M₃₆*M₆₅ + M₃₇*M₇₅ + M₃₈*M₈₅ + M₄₅*M₃₄ + M₉₅*M₃₉) + (M₁₀₆*M₈₁₀ + M₃₆*M₈₃ + M₄₆*M₈₄ + M₈₁*M₁₆ + M₈₂*M₂₆ + M₈₅*M₅₆ + M₈₆*M₆₆ + M₈₇*M₇₆ + M₈₈*M₈₆ + M₉₆*M₈₉)*(M₁₀₈*M₃₁₀ + M₃₁*M₁₈ + M₃₂*M₂₈ + M₃₃*M₃₈ + M₃₅*M₅₈ + M₃₆*M₆₈ + M₃₇*M₇₈ + M₃₈*M₈₈ + M₄₈*M₃₄ + M₉₈*M₃₉) + (M₁₀₇*M₃₁₀ + M₃₁*M₁₇ + M₃₂*M₂₇ + M₃₃*M₃₇ + M₃₅*M₅₇ + M₃₆*M₆₇ + M₃₇*M₇₇ + M₃₈*M₈₇ + M₄₇*M₃₄ + M₉₇*M₃₉)*(M₁₆*M₇₁ + M₂₆*M₇₂ + M₃₆*M₇₃ + M₄₆*M₇₄ + M₅₆*M₇₅ + M₇₁₀*M₁₀₆ + M₇₆*M₆₆ + M₇₇*M₇₆ + M₈₆*M₇₈ + M₉₆*M₇₉) + (M₁₀₉*M₃₁₀ + M₃₁*M₁₉ + M₃₂*M₂₉ + M₃₃*M₃₉ + M₃₅*M₅₉ + M₃₆*M₆₉ + M₃₇*M₇₉ + M₃₈*M₈₉ + M₄₉*M₃₄ + M₉₉*M₃₉)*(M₉₁*M₁₆ + M₉₁₀*M₁₀₆ + M₉₂*M₂₆ + M₉₃*M₃₆ + M₉₄*M₄₆ + M₉₅*M₅₆ + M₉₆*M₆₆ + M₉₆*M₉₉ + M₉₇*M₇₆ + M₉₈*M₈₆) + (M₁₀₁₀*M₃₁₀ + M₁₁₀*M₃₁ + M₂₁₀*M₃₂ + M₃₁₀*M₃₃ + M₄₁₀*M₃₄ + M₅₁₀*M₃₅ + M₆₁₀*M₃₆ + M₇₁₀*M₃₇ + M₈₁₀*M₃₈ + M₉₁₀*M₃₉)*(M₁₀₁*M₁₆ + M₁₀₁₀*M₁₀₆ + M₁₀₂*M₂₆ + M₁₀₃*M₃₆ + M₁₀₄*M₄₆ + M₁₀₅*M₅₆ + M₁₀₆*M₆₆ + M₁₀₇*M₇₆ + M₁₀₈*M₈₆ + M₁₀₉*M₉₆) + (M₁₆*M₆₁ + M₂₆*M₆₂ + M₃₆*M₆₃ + M₄₆*M₆₄ + M₅₆*M₆₅ + M₆₁₀*M₁₀₆ + M₇₆*M₆₇ + M₈₆*M₆₈ + M₉₆*M₆₉ + M₆₆^2)*(M₁₀₆*M₃₁₀ + M₃₁*M₁₆ + M₃₂*M₂₆ + M₃₅*M₅₆ + M₃₆*M₃₃ + M₃₆*M₆₆ + M₃₇*M₇₆ + M₃₈*M₈₆ + M₄₆*M₃₄ + M₉₆*M₃₉) + (M₄₁*M₁₆ + M₄₁₀*M₁₀₆ + M₄₂*M₂₆ + M₄₃*M₃₆ + M₄₅*M₅₆ + M₄₆*M₄₄ + M₄₆*M₆₆ + M₄₇*M₇₆ + M₄₈*M₈₆ + M₉₆*M₄₉)*(M₁₀₄*M₃₁₀ + M₃₁*M₁₄ + M₃₂*M₂₄ + M₃₃*M₃₄ + M₃₅*M₅₄ + M₃₆*M₆₄ + M₃₇*M₇₄ + M₃₈*M₈₄ + M₄₄*M₃₄ + M₉₄*M₃₉))*((M₁₀₁₀*M₆₁₀ + M₁₁₀*M₆₁ + M₂₁₀*M₆₂ + M₃₁₀*M₆₃ + M₄₁₀*M₆₄ + M₅₁₀*M₆₅ + M₆₁₀*M₆₆ + M₇₁₀*M₆₇ + M₈₁₀*M₆₈ + M₉₁₀*M₆₉)*(M₁₀₁*M₁₁ + M₁₀₁₀*M₁₀₁ + M₁₀₂*M₂₁ + M₁₀₃*M₃₁ + M₁₀₄*M₄₁ + M₁₀₅*M₅₁ + M₁₀₆*M₆₁ + M₁₀₇*M₇₁ + M₁₀₈*M₈₁ + M₁₀₉*M₉₁) + (M₁₁*M₆₁ + M₂₁*M₆₂ + M₃₁*M₆₃ + M₄₁*M₆₄ + M₅₁*M₆₅ + M₆₁*M₆₆ + M₆₁₀*M₁₀₁ + M₇₁*M₆₇ + M₈₁*M₆₈ + M₉₁*M₆₉)*(M₁₁₀*M₁₀₁ + M₁₆*M₆₁ + M₁₇*M₇₁ + M₂₁*M₁₂ + M₃₁*M₁₃ + M₄₁*M₁₄ + M₅₁*M₁₅ + M₈₁*M₁₈ + M₉₁*M₁₉ + M₁₁^2) + (M₁₁*M₆₁ + M₂₁*M₆₂ + M₃₁*M₆₃ + M₄₁*M₆₄ + M₅₁*M₆₅ + M₆₁*M₆₆ + M₆₁₀*M₁₀₁ + M₇₁*M₆₇ + M₈₁*M₆₈ + M₉₁*M₆₉)*(M₁₆*M₆₁ + M₂₆*M₆₂ + M₃₆*M₆₃ + M₄₆*M₆₄ + M₅₆*M₆₅ + M₆₁₀*M₁₀₆ + M₇₆*M₆₇ + M₈₆*M₆₈ + M₉₆*M₆₉ + M₆₆^2) + (M₁₂*M₆₁ + M₂₂*M₆₂ + M₃₂*M₆₃ + M₄₂*M₆₄ + M₅₂*M₆₅ + M₆₁₀*M₁₀₂ + M₆₂*M₆₆ + M₇₂*M₆₇ + M₈₂*M₆₈ + M₉₂*M₆₉)*(M₁₀₁*M₂₁₀ + M₂₁*M₁₁ + M₂₂*M₂₁ + M₂₆*M₆₁ + M₂₇*M₇₁ + M₃₁*M₂₃ + M₄₁*M₂₄ + M₅₁*M₂₅ + M₈₁*M₂₈ + M₉₁*M₂₉) + (M₁₃*M₆₁ + M₂₃*M₆₂ + M₃₃*M₆₃ + M₄₃*M₆₄ + M₅₃*M₆₅ + M₆₁₀*M₁₀₃ + M₆₃*M₆₆ + M₇₃*M₆₇ + M₈₃*M₆₈ + M₉₃*M₆₉)*(M₁₀₁*M₃₁₀ + M₃₁*M₁₁ + M₃₁*M₃₃ + M₃₂*M₂₁ + M₃₅*M₅₁ + M₃₆*M₆₁ + M₃₇*M₇₁ + M₃₈*M₈₁ + M₄₁*M₃₄ + M₉₁*M₃₉) + (M₁₄*M₆₁ + M₂₄*M₆₂ + M₃₄*M₆₃ + M₄₄*M₆₄ + M₅₄*M₆₅ + M₆₁₀*M₁₀₄ + M₆₄*M₆₆ + M₇₄*M₆₇ + M₈₄*M₆₈ + M₉₄*M₆₉)*(M₄₁*M₁₁ + M₄₁*M₄₄ + M₄₁₀*M₁₀₁ + M₄₂*M₂₁ + M₄₃*M₃₁ + M₄₅*M₅₁ + M₄₆*M₆₁ + M₄₇*M₇₁ + M₄₈*M₈₁ + M₉₁*M₄₉) + (M₁₅*M₆₁ + M₂₅*M₆₂ + M₃₅*M₆₃ + M₄₅*M₆₄ + M₅₅*M₆₅ + M₆₁₀*M₁₀₅ + M₆₅*M₆₆ + M₇₅*M₆₇ + M₈₅*M₆₈ + M₉₅*M₆₉)*(M₁₀₁*M₅₁₀ + M₃₁*M₅₃ + M₄₁*M₅₄ + M₅₁*M₁₁ + M₅₂*M₂₁ + M₅₅*M₅₁ + M₅₆*M₆₁ + M₅₇*M₇₁ + M₈₁*M₅₈ + M₉₁*M₅₉) + (M₁₇*M₆₁ + M₂₇*M₆₂ + M₃₇*M₆₃ + M₄₇*M₆₄ + M₅₇*M₆₅ + M₆₁₀*M₁₀₇ + M₆₆*M₆₇ + M₇₇*M₆₇ + M₈₇*M₆₈ + M₉₇*M₆₉)*(M₁₁*M₇₁ + M₂₁*M₇₂ + M₃₁*M₇₃ + M₄₁*M₇₄ + M₅₁*M₇₅ + M₇₁*M₇₇ + M₇₁₀*M₁₀₁ + M₇₆*M₆₁ + M₈₁*M₇₈ + M₉₁*M₇₉) + (M₁₈*M₆₁ + M₂₈*M₆₂ + M₃₈*M₆₃ + M₄₈*M₆₄ + M₅₈*M₆₅ + M₆₁₀*M₁₀₈ + M₆₆*M₆₈ + M₇₈*M₆₇ + M₈₈*M₆₈ + M₉₈*M₆₉)*(M₁₀₁*M₈₁₀ + M₃₁*M₈₃ + M₄₁*M₈₄ + M₈₁*M₁₁ + M₈₁*M₈₈ + M₈₂*M₂₁ + M₈₅*M₅₁ + M₈₆*M₆₁ + M₈₇*M₇₁ + M₉₁*M₈₉) + (M₁₉*M₆₁ + M₂₉*M₆₂ + M₃₉*M₆₃ + M₄₉*M₆₄ + M₅₉*M₆₅ + M₆₁₀*M₁₀₉ + M₆₉*M₆₆ + M₇₉*M₆₇ + M₈₉*M₆₈ + M₉₉*M₆₉)*(M₉₁*M₁₁ + M₉₁*M₉₉ + M₉₁₀*M₁₀₁ + M₉₂*M₂₁ + M₉₃*M₃₁ + M₉₄*M₄₁ + M₉₅*M₅₁ + M₉₆*M₆₁ + M₉₇*M₇₁ + M₉₈*M₈₁)) + ((M₁₀₁*M₃₁₀ + M₃₁*M₁₁ + M₃₁*M₃₃ + M₃₂*M₂₁ + M₃₅*M₅₁ + M₃₆*M₆₁ + M₃₇*M₇₁ + M₃₈*M₈₁ + M₄₁*M₃₄ + M₉₁*M₃₉)*(M₁₁*M₁₇ + M₁₁₀*M₁₀₇ + M₁₆*M₆₇ + M₁₇*M₇₇ + M₂₇*M₁₂ + M₃₇*M₁₃ + M₄₇*M₁₄ + M₅₇*M₁₅ + M₈₇*M₁₈ + M₉₇*M₁₉) + (M₁₀₇*M₂₁₀ + M₂₁*M₁₇ + M₂₂*M₂₇ + M₂₆*M₆₇ + M₂₇*M₇₇ + M₃₇*M₂₃ + M₄₇*M₂₄ + M₅₇*M₂₅ + M₈₇*M₂₈ + M₉₇*M₂₉)*(M₁₀₂*M₃₁₀ + M₃₁*M₁₂ + M₃₂*M₂₂ + M₃₂*M₃₃ + M₃₅*M₅₂ + M₃₆*M₆₂ + M₃₇*M₇₂ + M₃₈*M₈₂ + M₄₂*M₃₄ + M₉₂*M₃₉) + (M₁₀₇*M₃₁₀ + M₃₁*M₁₇ + M₃₂*M₂₇ + M₃₃*M₃₇ + M₃₅*M₅₇ + M₃₆*M₆₇ + M₃₇*M₇₇ + M₃₈*M₈₇ + M₄₇*M₃₄ + M₉₇*M₃₉)*(M₁₀₃*M₃₁₀ + M₃₁*M₁₃ + M₃₂*M₂₃ + M₃₅*M₅₃ + M₃₆*M₆₃ + M₃₇*M₇₃ + M₃₈*M₈₃ + M₄₃*M₃₄ + M₉₃*M₃₉ + M₃₃^2) + (M₁₀₇*M₃₁₀ + M₃₁*M₁₇ + M₃₂*M₂₇ + M₃₃*M₃₇ + M₃₅*M₅₇ + M₃₆*M₆₇ + M₃₇*M₇₇ + M₃₈*M₈₇ + M₄₇*M₃₄ + M₉₇*M₃₉)*(M₁₇*M₇₁ + M₂₇*M₇₂ + M₃₇*M₇₃ + M₄₇*M₇₄ + M₅₇*M₇₅ + M₇₁₀*M₁₀₇ + M₇₆*M₆₇ + M₈₇*M₇₈ + M₉₇*M₇₉ + M₇₇^2) + (M₁₀₇*M₅₁₀ + M₃₇*M₅₃ + M₄₇*M₅₄ + M₅₁*M₁₇ + M₅₂*M₂₇ + M₅₅*M₅₇ + M₅₆*M₆₇ + M₅₇*M₇₇ + M₈₇*M₅₈ + M₉₇*M₅₉)*(M₁₀₅*M₃₁₀ + M₃₁*M₁₅ + M₃₂*M₂₅ + M₃₅*M₃₃ + M₃₅*M₅₅ + M₃₆*M₆₅ + M₃₇*M₇₅ + M₃₈*M₈₅ + M₄₅*M₃₄ + M₉₅*M₃₉) + (M₁₀₇*M₈₁₀ + M₃₇*M₈₃ + M₄₇*M₈₄ + M₈₁*M₁₇ + M₈₂*M₂₇ + M₈₅*M₅₇ + M₈₆*M₆₇ + M₈₇*M₇₇ + M₈₇*M₈₈ + M₉₇*M₈₉)*(M₁₀₈*M₃₁₀ + M₃₁*M₁₈ + M₃₂*M₂₈ + M₃₃*M₃₈ + M₃₅*M₅₈ + M₃₆*M₆₈ + M₃₇*M₇₈ + M₃₈*M₈₈ + M₄₈*M₃₄ + M₉₈*M₃₉) + (M₁₀₉*M₃₁₀ + M₃₁*M₁₉ + M₃₂*M₂₉ + M₃₃*M₃₉ + M₃₅*M₅₉ + M₃₆*M₆₉ + M₃₇*M₇₉ + M₃₈*M₈₉ + M₄₉*M₃₄ + M₉₉*M₃₉)*(M₉₁*M₁₇ + M₉₁₀*M₁₀₇ + M₉₂*M₂₇ + M₉₃*M₃₇ + M₉₄*M₄₇ + M₉₅*M₅₇ + M₉₆*M₆₇ + M₉₇*M₇₇ + M₉₇*M₉₉ + M₉₈*M₈₇) + (M₁₀₁₀*M₃₁₀ + M₁₁₀*M₃₁ + M₂₁₀*M₃₂ + M₃₁₀*M₃₃ + M₄₁₀*M₃₄ + M₅₁₀*M₃₅ + M₆₁₀*M₃₆ + M₇₁₀*M₃₇ + M₈₁₀*M₃₈ + M₉₁₀*M₃₉)*(M₁₀₁*M₁₇ + M₁₀₁₀*M₁₀₇ + M₁₀₂*M₂₇ + M₁₀₃*M₃₇ + M₁₀₄*M₄₇ + M₁₀₅*M₅₇ + M₁₀₆*M₆₇ + M₁₀₇*M₇₇ + M₁₀₈*M₈₇ + M₁₀₉*M₉₇) + (M₁₇*M₆₁ + M₂₇*M₆₂ + M₃₇*M₆₃ + M₄₇*M₆₄ + M₅₇*M₆₅ + M₆₁₀*M₁₀₇ + M₆₆*M₆₇ + M₇₇*M₆₇ + M₈₇*M₆₈ + M₉₇*M₆₉)*(M₁₀₆*M₃₁₀ + M₃₁*M₁₆ + M₃₂*M₂₆ + M₃₅*M₅₆ + M₃₆*M₃₃ + M₃₆*M₆₆ + M₃₇*M₇₆ + M₃₈*M₈₆ + M₄₆*M₃₄ + M₉₆*M₃₉) + (M₄₁*M₁₇ + M₄₁₀*M₁₀₇ + M₄₂*M₂₇ + M₄₃*M₃₇ + M₄₄*M₄₇ + M₄₅*M₅₇ + M₄₆*M₆₇ + M₄₇*M₇₇ + M₄₈*M₈₇ + M₉₇*M₄₉)*(M₁₀₄*M₃₁₀ + M₃₁*M₁₄ + M₃₂*M₂₄ + M₃₃*M₃₄ + M₃₅*M₅₄ + M₃₆*M₆₄ + M₃₇*M₇₄ + M₃₈*M₈₄ + M₄₄*M₃₄ + M₉₄*M₃₉))*((M₁₀₁*M₂₁₀ + M₂₁*M₁₁ + M₂₂*M₂₁ + M₂₆*M₆₁ + M₂₇*M₇₁ + M₃₁*M₂₃ + M₄₁*M₂₄ + M₅₁*M₂₅ + M₈₁*M₂₈ + M₉₁*M₂₉)*(M₁₂*M₇₁ + M₂₂*M₇₂ + M₃₂*M₇₃ + M₄₂*M₇₄ + M₅₂*M₇₅ + M₇₁₀*M₁₀₂ + M₇₂*M₇₇ + M₇₆*M₆₂ + M₈₂*M₇₈ + M₉₂*M₇₉) + (M₁₀₁*M₃₁₀ + M₃₁*M₁₁ + M₃₁*M₃₃ + M₃₂*M₂₁ + M₃₅*M₅₁ + M₃₆*M₆₁ + M₃₇*M₇₁ + M₃₈*M₈₁ + M₄₁*M₃₄ + M₉₁*M₃₉)*(M₁₃*M₇₁ + M₂₃*M₇₂ + M₃₃*M₇₃ + M₄₃*M₇₄ + M₅₃*M₇₅ + M₇₁₀*M₁₀₃ + M₇₃*M₇₇ + M₇₆*M₆₃ + M₈₃*M₇₈ + M₉₃*M₇₉) + (M₁₀₁*M₅₁₀ + M₃₁*M₅₃ + M₄₁*M₅₄ + M₅₁*M₁₁ + M₅₂*M₂₁ + M₅₅*M₅₁ + M₅₆*M₆₁ + M₅₇*M₇₁ + M₈₁*M₅₈ + M₉₁*M₅₉)*(M₁₅*M₇₁ + M₂₅*M₇₂ + M₃₅*M₇₃ + M₄₅*M₇₄ + M₅₅*M₇₅ + M₇₁₀*M₁₀₅ + M₇₆*M₆₅ + M₇₇*M₇₅ + M₈₅*M₇₈ + M₉₅*M₇₉) + (M₁₀₁*M₈₁₀ + M₃₁*M₈₃ + M₄₁*M₈₄ + M₈₁*M₁₁ + M₈₁*M₈₈ + M₈₂*M₂₁ + M₈₅*M₅₁ + M₈₆*M₆₁ + M₈₇*M₇₁ + M₉₁*M₈₉)*(M₁₈*M₇₁ + M₂₈*M₇₂ + M₃₈*M₇₃ + M₄₈*M₇₄ + M₅₈*M₇₅ + M₇₁₀*M₁₀₈ + M₇₆*M₆₈ + M₇₈*M₇₇ + M₈₈*M₇₈ + M₉₈*M₇₉) + (M₁₀₁*M₁₁ + M₁₀₁₀*M₁₀₁ + M₁₀₂*M₂₁ + M₁₀₃*M₃₁ + M₁₀₄*M₄₁ + M₁₀₅*M₅₁ + M₁₀₆*M₆₁ + M₁₀₇*M₇₁ + M₁₀₈*M₈₁ + M₁₀₉*M₉₁)*(M₁₀₁₀*M₇₁₀ + M₁₁₀*M₇₁ + M₂₁₀*M₇₂ + M₃₁₀*M₇₃ + M₄₁₀*M₇₄ + M₅₁₀*M₇₅ + M₆₁₀*M₇₆ + M₇₁₀*M₇₇ + M₈₁₀*M₇₈ + M₉₁₀*M₇₉) + (M₁₁₀*M₁₀₁ + M₁₆*M₆₁ + M₁₇*M₇₁ + M₂₁*M₁₂ + M₃₁*M₁₃ + M₄₁*M₁₄ + M₅₁*M₁₅ + M₈₁*M₁₈ + M₉₁*M₁₉ + M₁₁^2)*(M₁₁*M₇₁ + M₂₁*M₇₂ + M₃₁*M₇₃ + M₄₁*M₇₄ + M₅₁*M₇₅ + M₇₁*M₇₇ + M₇₁₀*M₁₀₁ + M₇₆*M₆₁ + M₈₁*M₇₈ + M₉₁*M₇₉) + (M₁₁*M₆₁ + M₂₁*M₆₂ + M₃₁*M₆₃ + M₄₁*M₆₄ + M₅₁*M₆₅ + M₆₁*M₆₆ + M₆₁₀*M₁₀₁ + M₇₁*M₆₇ + M₈₁*M₆₈ + M₉₁*M₆₉)*(M₁₆*M₇₁ + M₂₆*M₇₂ + M₃₆*M₇₃ + M₄₆*M₇₄ + M₅₆*M₇₅ + M₇₁₀*M₁₀₆ + M₇₆*M₆₆ + M₇₇*M₇₆ + M₈₆*M₇₈ + M₉₆*M₇₉) + (M₄₁*M₁₁ + M₄₁*M₄₄ + M₄₁₀*M₁₀₁ + M₄₂*M₂₁ + M₄₃*M₃₁ + M₄₅*M₅₁ + M₄₆*M₆₁ + M₄₇*M₇₁ + M₄₈*M₈₁ + M₉₁*M₄₉)*(M₁₄*M₇₁ + M₂₄*M₇₂ + M₃₄*M₇₃ + M₄₄*M₇₄ + M₅₄*M₇₅ + M₇₁₀*M₁₀₄ + M₇₄*M₇₇ + M₇₆*M₆₄ + M₈₄*M₇₈ + M₉₄*M₇₉) + (M₉₁*M₁₁ + M₉₁*M₉₉ + M₉₁₀*M₁₀₁ + M₉₂*M₂₁ + M₉₃*M₃₁ + M₉₄*M₄₁ + M₉₅*M₅₁ + M₉₆*M₆₁ + M₉₇*M₇₁ + M₉₈*M₈₁)*(M₁₉*M₇₁ + M₂₉*M₇₂ + M₃₉*M₇₃ + M₄₉*M₇₄ + M₅₉*M₇₅ + M₇₁₀*M₁₀₉ + M₇₆*M₆₉ + M₇₇*M₇₉ + M₈₉*M₇₈ + M₉₉*M₇₉) + (M₁₇*M₇₁ + M₂₇*M₇₂ + M₃₇*M₇₃ + M₄₇*M₇₄ + M₅₇*M₇₅ + M₇₁₀*M₁₀₇ + M₇₆*M₆₇ + M₈₇*M₇₈ + M₉₇*M₇₉ + M₇₇^2)*(M₁₁*M₇₁ + M₂₁*M₇₂ + M₃₁*M₇₃ + M₄₁*M₇₄ + M₅₁*M₇₅ + M₇₁*M₇₇ + M₇₁₀*M₁₀₁ + M₇₆*M₆₁ + M₈₁*M₇₈ + M₉₁*M₇₉)) + ((M₁₀₁*M₂₁₀ + M₂₁*M₁₁ + M₂₂*M₂₁ + M₂₆*M₆₁ + M₂₇*M₇₁ + M₃₁*M₂₃ + M₄₁*M₂₄ + M₅₁*M₂₅ + M₈₁*M₂₈ + M₉₁*M₂₉)*(M₁₀₂*M₅₁₀ + M₃₂*M₅₃ + M₄₂*M₅₄ + M₅₁*M₁₂ + M₅₂*M₂₂ + M₅₅*M₅₂ + M₅₆*M₆₂ + M₅₇*M₇₂ + M₈₂*M₅₈ + M₉₂*M₅₉) + (M₁₀₁*M₅₁₀ + M₃₁*M₅₃ + M₄₁*M₅₄ + M₅₁*M₁₁ + M₅₂*M₂₁ + M₅₅*M₅₁ + M₅₆*M₆₁ + M₅₇*M₇₁ + M₈₁*M₅₈ + M₉₁*M₅₉)*(M₁₀₅*M₅₁₀ + M₃₅*M₅₃ + M₄₅*M₅₄ + M₅₁*M₁₅ + M₅₂*M₂₅ + M₅₆*M₆₅ + M₅₇*M₇₅ + M₈₅*M₅₈ + M₉₅*M₅₉ + M₅₅^2) + (M₁₀₁*M₅₁₀ + M₃₁*M₅₃ + M₄₁*M₅₄ + M₅₁*M₁₁ + M₅₂*M₂₁ + M₅₅*M₅₁ + M₅₆*M₆₁ + M₅₇*M₇₁ + M₈₁*M₅₈ + M₉₁*M₅₉)*(M₁₁₀*M₁₀₁ + M₁₆*M₆₁ + M₁₇*M₇₁ + M₂₁*M₁₂ + M₃₁*M₁₃ + M₄₁*M₁₄ + M₅₁*M₁₅ + M₈₁*M₁₈ + M₉₁*M₁₉ + M₁₁^2) + (M₁₀₃*M₅₁₀ + M₃₃*M₅₃ + M₄₃*M₅₄ + M₅₁*M₁₃ + M₅₂*M₂₃ + M₅₅*M₅₃ + M₅₆*M₆₃ + M₅₇*M₇₃ + M₈₃*M₅₈ + M₉₃*M₅₉)*(M₁₀₁*M₃₁₀ + M₃₁*M₁₁ + M₃₁*M₃₃ + M₃₂*M₂₁ + M₃₅*M₅₁ + M₃₆*M₆₁ + M₃₇*M₇₁ + M₃₈*M₈₁ + M₄₁*M₃₄ + M₉₁*M₃₉) + (M₁₀₇*M₅₁₀ + M₃₇*M₅₃ + M₄₇*M₅₄ + M₅₁*M₁₇ + M₅₂*M₂₇ + M₅₅*M₅₇ + M₅₆*M₆₇ + M₅₇*M₇₇ + M₈₇*M₅₈ + M₉₇*M₅₉)*(M₁₁*M₇₁ + M₂₁*M₇₂ + M₃₁*M₇₃ + M₄₁*M₇₄ + M₅₁*M₇₅ + M₇₁*M₇₇ + M₇₁₀*M₁₀₁ + M₇₆*M₆₁ + M₈₁*M₇₈ + M₉₁*M₇₉) + (M₁₀₈*M₅₁₀ + M₃₈*M₅₃ + M₄₈*M₅₄ + M₅₁*M₁₈ + M₅₂*M₂₈ + M₅₅*M₅₈ + M₅₆*M₆₈ + M₅₇*M₇₈ + M₈₈*M₅₈ + M₉₈*M₅₉)*(M₁₀₁*M₈₁₀ + M₃₁*M₈₃ + M₄₁*M₈₄ + M₈₁*M₁₁ + M₈₁*M₈₈ + M₈₂*M₂₁ + M₈₅*M₅₁ + M₈₆*M₆₁ + M₈₇*M₇₁ + M₉₁*M₈₉) + (M₁₀₉*M₅₁₀ + M₃₉*M₅₃ + M₄₉*M₅₄ + M₅₁*M₁₉ + M₅₂*M₂₉ + M₅₅*M₅₉ + M₅₆*M₆₉ + M₅₇*M₇₉ + M₈₉*M₅₈ + M₉₉*M₅₉)*(M₉₁*M₁₁ + M₉₁*M₉₉ + M₉₁₀*M₁₀₁ + M₉₂*M₂₁ + M₉₃*M₃₁ + M₉₄*M₄₁ + M₉₅*M₅₁ + M₉₆*M₆₁ + M₉₇*M₇₁ + M₉₈*M₈₁) + (M₁₀₁₀*M₅₁₀ + M₁₁₀*M₅₁ + M₂₁₀*M₅₂ + M₃₁₀*M₅₃ + M₄₁₀*M₅₄ + M₅₁₀*M₅₅ + M₆₁₀*M₅₆ + M₇₁₀*M₅₇ + M₈₁₀*M₅₈ + M₉₁₀*M₅₉)*(M₁₀₁*M₁₁ + M₁₀₁₀*M₁₀₁ + M₁₀₂*M₂₁ + M₁₀₃*M₃₁ + M₁₀₄*M₄₁ + M₁₀₅*M₅₁ + M₁₀₆*M₆₁ + M₁₀₇*M₇₁ + M₁₀₈*M₈₁ + M₁₀₉*M₉₁) + (M₁₁*M₆₁ + M₂₁*M₆₂ + M₃₁*M₆₃ + M₄₁*M₆₄ + M₅₁*M₆₅ + M₆₁*M₆₆ + M₆₁₀*M₁₀₁ + M₇₁*M₆₇ + M₈₁*M₆₈ + M₉₁*M₆₉)*(M₁₀₆*M₅₁₀ + M₃₆*M₅₃ + M₄₆*M₅₄ + M₅₁*M₁₆ + M₅₂*M₂₆ + M₅₆*M₅₅ + M₅₆*M₆₆ + M₅₇*M₇₆ + M₈₆*M₅₈ + M₉₆*M₅₉) + (M₄₁*M₁₁ + M₄₁*M₄₄ + M₄₁₀*M₁₀₁ + M₄₂*M₂₁ + M₄₃*M₃₁ + M₄₅*M₅₁ + M₄₆*M₆₁ + M₄₇*M₇₁ + M₄₈*M₈₁ + M₉₁*M₄₉)*(M₁₀₄*M₅₁₀ + M₃₄*M₅₃ + M₄₄*M₅₄ + M₅₁*M₁₄ + M₅₂*M₂₄ + M₅₅*M₅₄ + M₅₆*M₆₄ + M₅₇*M₇₄ + M₈₄*M₅₈ + M₉₄*M₅₉))*((M₁₀₁*M₃₁₀ + M₃₁*M₁₁ + M₃₁*M₃₃ + M₃₂*M₂₁ + M₃₅*M₅₁ + M₃₆*M₆₁ + M₃₇*M₇₁ + M₃₈*M₈₁ + M₄₁*M₃₄ + M₉₁*M₃₉)*(M₁₁*M₁₅ + M₁₁₀*M₁₀₅ + M₁₆*M₆₅ + M₁₇*M₇₅ + M₂₅*M₁₂ + M₃₅*M₁₃ + M₄₅*M₁₄ + M₅₅*M₁₅ + M₈₅*M₁₈ + M₉₅*M₁₉) + (M₁₀₅*M₂₁₀ + M₂₁*M₁₅ + M₂₂*M₂₅ + M₂₆*M₆₅ + M₂₇*M₇₅ + M₃₅*M₂₃ + M₄₅*M₂₄ + M₅₅*M₂₅ + M₈₅*M₂₈ + M₉₅*M₂₉)*(M₁₀₂*M₃₁₀ + M₃₁*M₁₂ + M₃₂*M₂₂ + M₃₂*M₃₃ + M₃₅*M₅₂ + M₃₆*M₆₂ + M₃₇*M₇₂ + M₃₈*M₈₂ + M₄₂*M₃₄ + M₉₂*M₃₉) + (M₁₀₅*M₃₁₀ + M₃₁*M₁₅ + M₃₂*M₂₅ + M₃₅*M₃₃ + M₃₅*M₅₅ + M₃₆*M₆₅ + M₃₇*M₇₅ + M₃₈*M₈₅ + M₄₅*M₃₄ + M₉₅*M₃₉)*(M₁₀₃*M₃₁₀ + M₃₁*M₁₃ + M₃₂*M₂₃ + M₃₅*M₅₃ + M₃₆*M₆₃ + M₃₇*M₇₃ + M₃₈*M₈₃ + M₄₃*M₃₄ + M₉₃*M₃₉ + M₃₃^2) + (M₁₀₅*M₃₁₀ + M₃₁*M₁₅ + M₃₂*M₂₅ + M₃₅*M₃₃ + M₃₅*M₅₅ + M₃₆*M₆₅ + M₃₇*M₇₅ + M₃₈*M₈₅ + M₄₅*M₃₄ + M₉₅*M₃₉)*(M₁₀₅*M₅₁₀ + M₃₅*M₅₃ + M₄₅*M₅₄ + M₅₁*M₁₅ + M₅₂*M₂₅ + M₅₆*M₆₅ + M₅₇*M₇₅ + M₈₅*M₅₈ + M₉₅*M₅₉ + M₅₅^2) + (M₁₀₅*M₈₁₀ + M₃₅*M₈₃ + M₄₅*M₈₄ + M₈₁*M₁₅ + M₈₂*M₂₅ + M₈₅*M₅₅ + M₈₆*M₆₅ + M₈₇*M₇₅ + M₈₈*M₈₅ + M₉₅*M₈₉)*(M₁₀₈*M₃₁₀ + M₃₁*M₁₈ + M₃₂*M₂₈ + M₃₃*M₃₈ + M₃₅*M₅₈ + M₃₆*M₆₈ + M₃₇*M₇₈ + M₃₈*M₈₈ + M₄₈*M₃₄ + M₉₈*M₃₉) + (M₁₀₇*M₃₁₀ + M₃₁*M₁₇ + M₃₂*M₂₇ + M₃₃*M₃₇ + M₃₅*M₅₇ + M₃₆*M₆₇ + M₃₇*M₇₇ + M₃₈*M₈₇ + M₄₇*M₃₄ + M₉₇*M₃₉)*(M₁₅*M₇₁ + M₂₅*M₇₂ + M₃₅*M₇₃ + M₄₅*M₇₄ + M₅₅*M₇₅ + M₇₁₀*M₁₀₅ + M₇₆*M₆₅ + M₇₇*M₇₅ + M₈₅*M₇₈ + M₉₅*M₇₉) + (M₁₀₉*M₃₁₀ + M₃₁*M₁₉ + M₃₂*M₂₉ + M₃₃*M₃₉ + M₃₅*M₅₉ + M₃₆*M₆₉ + M₃₇*M₇₉ + M₃₈*M₈₉ + M₄₉*M₃₄ + M₉₉*M₃₉)*(M₉₁*M₁₅ + M₉₁₀*M₁₀₅ + M₉₂*M₂₅ + M₉₃*M₃₅ + M₉₄*M₄₅ + M₉₅*M₅₅ + M₉₆*M₆₅ + M₉₇*M₇₅ + M₉₈*M₈₅ + M₉₉*M₉₅) + (M₁₀₁₀*M₃₁₀ + M₁₁₀*M₃₁ + M₂₁₀*M₃₂ + M₃₁₀*M₃₃ + M₄₁₀*M₃₄ + M₅₁₀*M₃₅ + M₆₁₀*M₃₆ + M₇₁₀*M₃₇ + M₈₁₀*M₃₈ + M₉₁₀*M₃₉)*(M₁₀₁*M₁₅ + M₁₀₁₀*M₁₀₅ + M₁₀₂*M₂₅ + M₁₀₃*M₃₅ + M₁₀₄*M₄₅ + M₁₀₅*M₅₅ + M₁₀₆*M₆₅ + M₁₀₇*M₇₅ + M₁₀₈*M₈₅ + M₁₀₉*M₉₅) + (M₁₅*M₆₁ + M₂₅*M₆₂ + M₃₅*M₆₃ + M₄₅*M₆₄ + M₅₅*M₆₅ + M₆₁₀*M₁₀₅ + M₆₅*M₆₆ + M₇₅*M₆₇ + M₈₅*M₆₈ + M₉₅*M₆₉)*(M₁₀₆*M₃₁₀ + M₃₁*M₁₆ + M₃₂*M₂₆ + M₃₅*M₅₆ + M₃₆*M₃₃ + M₃₆*M₆₆ + M₃₇*M₇₆ + M₃₈*M₈₆ + M₄₆*M₃₄ + M₉₆*M₃₉) + (M₄₁*M₁₅ + M₄₁₀*M₁₀₅ + M₄₂*M₂₅ + M₄₃*M₃₅ + M₄₅*M₄₄ + M₄₅*M₅₅ + M₄₆*M₆₅ + M₄₇*M₇₅ + M₄₈*M₈₅ + M₉₅*M₄₉)*(M₁₀₄*M₃₁₀ + M₃₁*M₁₄ + M₃₂*M₂₄ + M₃₃*M₃₄ + M₃₅*M₅₄ + M₃₆*M₆₄ + M₃₇*M₇₄ + M₃₈*M₈₄ + M₄₄*M₃₄ + M₉₄*M₃₉)) + ((M₁₀₁*M₂₁₀ + M₂₁*M₁₁ + M₂₂*M₂₁ + M₂₆*M₆₁ + M₂₇*M₇₁ + M₃₁*M₂₃ + M₄₁*M₂₄ + M₅₁*M₂₅ + M₈₁*M₂₈ + M₉₁*M₂₉)*(M₁₀₂*M₈₁₀ + M₃₂*M₈₃ + M₄₂*M₈₄ + M₈₁*M₁₂ + M₈₂*M₂₂ + M₈₂*M₈₈ + M₈₅*M₅₂ + M₈₆*M₆₂ + M₈₇*M₇₂ + M₉₂*M₈₉) + (M₁₀₁*M₅₁₀ + M₃₁*M₅₃ + M₄₁*M₅₄ + M₅₁*M₁₁ + M₅₂*M₂₁ + M₅₅*M₅₁ + M₅₆*M₆₁ + M₅₇*M₇₁ + M₈₁*M₅₈ + M₉₁*M₅₉)*(M₁₀₅*M₈₁₀ + M₃₅*M₈₃ + M₄₅*M₈₄ + M₈₁*M₁₅ + M₈₂*M₂₅ + M₈₅*M₅₅ + M₈₆*M₆₅ + M₈₇*M₇₅ + M₈₈*M₈₅ + M₉₅*M₈₉) + (M₁₀₁*M₈₁₀ + M₃₁*M₈₃ + M₄₁*M₈₄ + M₈₁*M₁₁ + M₈₁*M₈₈ + M₈₂*M₂₁ + M₈₅*M₅₁ + M₈₆*M₆₁ + M₈₇*M₇₁ + M₉₁*M₈₉)*(M₁₀₈*M₈₁₀ + M₃₈*M₈₃ + M₄₈*M₈₄ + M₈₁*M₁₈ + M₈₂*M₂₈ + M₈₅*M₅₈ + M₈₆*M₆₈ + M₈₇*M₇₈ + M₉₈*M₈₉ + M₈₈^2) + (M₁₀₁*M₈₁₀ + M₃₁*M₈₃ + M₄₁*M₈₄ + M₈₁*M₁₁ + M₈₁*M₈₈ + M₈₂*M₂₁ + M₈₅*M₅₁ + M₈₆*M₆₁ + M₈₇*M₇₁ + M₉₁*M₈₉)*(M₁₁₀*M₁₀₁ + M₁₆*M₆₁ + M₁₇*M₇₁ + M₂₁*M₁₂ + M₃₁*M₁₃ + M₄₁*M₁₄ + M₅₁*M₁₅ + M₈₁*M₁₈ + M₉₁*M₁₉ + M₁₁^2) + (M₁₀₃*M₈₁₀ + M₃₃*M₈₃ + M₄₃*M₈₄ + M₈₁*M₁₃ + M₈₂*M₂₃ + M₈₃*M₈₈ + M₈₅*M₅₃ + M₈₆*M₆₃ + M₈₇*M₇₃ + M₉₃*M₈₉)*(M₁₀₁*M₃₁₀ + M₃₁*M₁₁ + M₃₁*M₃₃ + M₃₂*M₂₁ + M₃₅*M₅₁ + M₃₆*M₆₁ + M₃₇*M₇₁ + M₃₈*M₈₁ + M₄₁*M₃₄ + M₉₁*M₃₉) + (M₁₀₇*M₈₁₀ + M₃₇*M₈₃ + M₄₇*M₈₄ + M₈₁*M₁₇ + M₈₂*M₂₇ + M₈₅*M₅₇ + M₈₆*M₆₇ + M₈₇*M₇₇ + M₈₇*M₈₈ + M₉₇*M₈₉)*(M₁₁*M₇₁ + M₂₁*M₇₂ + M₃₁*M₇₃ + M₄₁*M₇₄ + M₅₁*M₇₅ + M₇₁*M₇₇ + M₇₁₀*M₁₀₁ + M₇₆*M₆₁ + M₈₁*M₇₈ + M₉₁*M₇₉) + (M₁₀₉*M₈₁₀ + M₃₉*M₈₃ + M₄₉*M₈₄ + M₈₁*M₁₉ + M₈₂*M₂₉ + M₈₅*M₅₉ + M₈₆*M₆₉ + M₈₇*M₇₉ + M₈₉*M₈₈ + M₉₉*M₈₉)*(M₉₁*M₁₁ + M₉₁*M₉₉ + M₉₁₀*M₁₀₁ + M₉₂*M₂₁ + M₉₃*M₃₁ + M₉₄*M₄₁ + M₉₅*M₅₁ + M₉₆*M₆₁ + M₉₇*M₇₁ + M₉₈*M₈₁) + (M₁₀₁₀*M₈₁₀ + M₁₁₀*M₈₁ + M₂₁₀*M₈₂ + M₃₁₀*M₈₃ + M₄₁₀*M₈₄ + M₅₁₀*M₈₅ + M₆₁₀*M₈₆ + M₇₁₀*M₈₇ + M₈₁₀*M₈₈ + M₉₁₀*M₈₉)*(M₁₀₁*M₁₁ + M₁₀₁₀*M₁₀₁ + M₁₀₂*M₂₁ + M₁₀₃*M₃₁ + M₁₀₄*M₄₁ + M₁₀₅*M₅₁ + M₁₀₆*M₆₁ + M₁₀₇*M₇₁ + M₁₀₈*M₈₁ + M₁₀₉*M₉₁) + (M₁₁*M₆₁ + M₂₁*M₆₂ + M₃₁*M₆₃ + M₄₁*M₆₄ + M₅₁*M₆₅ + M₆₁*M₆₆ + M₆₁₀*M₁₀₁ + M₇₁*M₆₇ + M₈₁*M₆₈ + M₉₁*M₆₉)*(M₁₀₆*M₈₁₀ + M₃₆*M₈₃ + M₄₆*M₈₄ + M₈₁*M₁₆ + M₈₂*M₂₆ + M₈₅*M₅₆ + M₈₆*M₆₆ + M₈₇*M₇₆ + M₈₈*M₈₆ + M₉₆*M₈₉) + (M₄₁*M₁₁ + M₄₁*M₄₄ + M₄₁₀*M₁₀₁ + M₄₂*M₂₁ + M₄₃*M₃₁ + M₄₅*M₅₁ + M₄₆*M₆₁ + M₄₇*M₇₁ + M₄₈*M₈₁ + M₉₁*M₄₉)*(M₁₀₄*M₈₁₀ + M₃₄*M₈₃ + M₄₄*M₈₄ + M₈₁*M₁₄ + M₈₂*M₂₄ + M₈₄*M₈₈ + M₈₅*M₅₄ + M₈₆*M₆₄ + M₈₇*M₇₄ + M₉₄*M₈₉))*((M₁₀₁*M₃₁₀ + M₃₁*M₁₁ + M₃₁*M₃₃ + M₃₂*M₂₁ + M₃₅*M₅₁ + M₃₆*M₆₁ + M₃₇*M₇₁ + M₃₈*M₈₁ + M₄₁*M₃₄ + M₉₁*M₃₉)*(M₁₁*M₁₈ + M₁₁₀*M₁₀₈ + M₁₆*M₆₈ + M₁₇*M₇₈ + M₂₈*M₁₂ + M₃₈*M₁₃ + M₄₈*M₁₄ + M₅₈*M₁₅ + M₈₈*M₁₈ + M₉₈*M₁₉) + (M₁₀₇*M₃₁₀ + M₃₁*M₁₇ + M₃₂*M₂₇ + M₃₃*M₃₇ + M₃₅*M₅₇ + M₃₆*M₆₇ + M₃₇*M₇₇ + M₃₈*M₈₇ + M₄₇*M₃₄ + M₉₇*M₃₉)*(M₁₈*M₇₁ + M₂₈*M₇₂ + M₃₈*M₇₃ + M₄₈*M₇₄ + M₅₈*M₇₅ + M₇₁₀*M₁₀₈ + M₇₆*M₆₈ + M₇₈*M₇₇ + M₈₈*M₇₈ + M₉₈*M₇₉) + (M₁₀₈*M₂₁₀ + M₂₁*M₁₈ + M₂₂*M₂₈ + M₂₆*M₆₈ + M₂₇*M₇₈ + M₃₈*M₂₃ + M₄₈*M₂₄ + M₅₈*M₂₅ + M₈₈*M₂₈ + M₉₈*M₂₉)*(M₁₀₂*M₃₁₀ + M₃₁*M₁₂ + M₃₂*M₂₂ + M₃₂*M₃₃ + M₃₅*M₅₂ + M₃₆*M₆₂ + M₃₇*M₇₂ + M₃₈*M₈₂ + M₄₂*M₃₄ + M₉₂*M₃₉) + (M₁₀₈*M₃₁₀ + M₃₁*M₁₈ + M₃₂*M₂₈ + M₃₃*M₃₈ + M₃₅*M₅₈ + M₃₆*M₆₈ + M₃₇*M₇₈ + M₃₈*M₈₈ + M₄₈*M₃₄ + M₉₈*M₃₉)*(M₁₀₃*M₃₁₀ + M₃₁*M₁₃ + M₃₂*M₂₃ + M₃₅*M₅₃ + M₃₆*M₆₃ + M₃₇*M₇₃ + M₃₈*M₈₃ + M₄₃*M₃₄ + M₉₃*M₃₉ + M₃₃^2) + (M₁₀₈*M₃₁₀ + M₃₁*M₁₈ + M₃₂*M₂₈ + M₃₃*M₃₈ + M₃₅*M₅₈ + M₃₆*M₆₈ + M₃₇*M₇₈ + M₃₈*M₈₈ + M₄₈*M₃₄ + M₉₈*M₃₉)*(M₁₀₈*M₈₁₀ + M₃₈*M₈₃ + M₄₈*M₈₄ + M₈₁*M₁₈ + M₈₂*M₂₈ + M₈₅*M₅₈ + M₈₆*M₆₈ + M₈₇*M₇₈ + M₉₈*M₈₉ + M₈₈^2) + (M₁₀₈*M₅₁₀ + M₃₈*M₅₃ + M₄₈*M₅₄ + M₅₁*M₁₈ + M₅₂*M₂₈ + M₅₅*M₅₈ + M₅₆*M₆₈ + M₅₇*M₇₈ + M₈₈*M₅₈ + M₉₈*M₅₉)*(M₁₀₅*M₃₁₀ + M₃₁*M₁₅ + M₃₂*M₂₅ + M₃₅*M₃₃ + M₃₅*M₅₅ + M₃₆*M₆₅ + M₃₇*M₇₅ + M₃₈*M₈₅ + M₄₅*M₃₄ + M₉₅*M₃₉) + (M₁₀₉*M₃₁₀ + M₃₁*M₁₉ + M₃₂*M₂₉ + M₃₃*M₃₉ + M₃₅*M₅₉ + M₃₆*M₆₉ + M₃₇*M₇₉ + M₃₈*M₈₉ + M₄₉*M₃₄ + M₉₉*M₃₉)*(M₉₁*M₁₈ + M₉₁₀*M₁₀₈ + M₉₂*M₂₈ + M₉₃*M₃₈ + M₉₄*M₄₈ + M₉₅*M₅₈ + M₉₆*M₆₈ + M₉₇*M₇₈ + M₉₈*M₈₈ + M₉₈*M₉₉) + (M₁₀₁₀*M₃₁₀ + M₁₁₀*M₃₁ + M₂₁₀*M₃₂ + M₃₁₀*M₃₃ + M₄₁₀*M₃₄ + M₅₁₀*M₃₅ + M₆₁₀*M₃₆ + M₇₁₀*M₃₇ + M₈₁₀*M₃₈ + M₉₁₀*M₃₉)*(M₁₀₁*M₁₈ + M₁₀₁₀*M₁₀₈ + M₁₀₂*M₂₈ + M₁₀₃*M₃₈ + M₁₀₄*M₄₈ + M₁₀₅*M₅₈ + M₁₀₆*M₆₈ + M₁₀₇*M₇₈ + M₁₀₈*M₈₈ + M₁₀₉*M₉₈) + (M₁₈*M₆₁ + M₂₈*M₆₂ + M₃₈*M₆₃ + M₄₈*M₆₄ + M₅₈*M₆₅ + M₆₁₀*M₁₀₈ + M₆₆*M₆₈ + M₇₈*M₆₇ + M₈₈*M₆₈ + M₉₈*M₆₉)*(M₁₀₆*M₃₁₀ + M₃₁*M₁₆ + M₃₂*M₂₆ + M₃₅*M₅₆ + M₃₆*M₃₃ + M₃₆*M₆₆ + M₃₇*M₇₆ + M₃₈*M₈₆ + M₄₆*M₃₄ + M₉₆*M₃₉) + (M₄₁*M₁₈ + M₄₁₀*M₁₀₈ + M₄₂*M₂₈ + M₄₃*M₃₈ + M₄₄*M₄₈ + M₄₅*M₅₈ + M₄₆*M₆₈ + M₄₇*M₇₈ + M₄₈*M₈₈ + M₉₈*M₄₉)*(M₁₀₄*M₃₁₀ + M₃₁*M₁₄ + M₃₂*M₂₄ + M₃₃*M₃₄ + M₃₅*M₅₄ + M₃₆*M₆₄ + M₃₇*M₇₄ + M₃₈*M₈₄ + M₄₄*M₃₄ + M₉₄*M₃₉)) + ((M₁₀₁*M₁₁ + M₁₀₁₀*M₁₀₁ + M₁₀₂*M₂₁ + M₁₀₃*M₃₁ + M₁₀₄*M₄₁ + M₁₀₅*M₅₁ + M₁₀₆*M₆₁ + M₁₀₇*M₇₁ + M₁₀₈*M₈₁ + M₁₀₉*M₉₁)*(M₁₀₁₀*M₄₁₀ + M₁₁₀*M₄₁ + M₂₁₀*M₄₂ + M₃₁₀*M₄₃ + M₄₁₀*M₄₄ + M₅₁₀*M₄₅ + M₆₁₀*M₄₆ + M₇₁₀*M₄₇ + M₈₁₀*M₄₈ + M₉₁₀*M₄₉) + (M₁₁*M₆₁ + M₂₁*M₆₂ + M₃₁*M₆₃ + M₄₁*M₆₄ + M₅₁*M₆₅ + M₆₁*M₆₆ + M₆₁₀*M₁₀₁ + M₇₁*M₆₇ + M₈₁*M₆₈ + M₉₁*M₆₉)*(M₄₁*M₁₆ + M₄₁₀*M₁₀₆ + M₄₂*M₂₆ + M₄₃*M₃₆ + M₄₅*M₅₆ + M₄₆*M₄₄ + M₄₆*M₆₆ + M₄₇*M₇₆ + M₄₈*M₈₆ + M₉₆*M₄₉) + (M₄₁*M₁₁ + M₄₁*M₄₄ + M₄₁₀*M₁₀₁ + M₄₂*M₂₁ + M₄₃*M₃₁ + M₄₅*M₅₁ + M₄₆*M₆₁ + M₄₇*M₇₁ + M₄₈*M₈₁ + M₉₁*M₄₉)*(M₁₁₀*M₁₀₁ + M₁₆*M₆₁ + M₁₇*M₇₁ + M₂₁*M₁₂ + M₃₁*M₁₃ + M₄₁*M₁₄ + M₅₁*M₁₅ + M₈₁*M₁₈ + M₉₁*M₁₉ + M₁₁^2) + (M₄₁*M₁₂ + M₄₁₀*M₁₀₂ + M₄₂*M₂₂ + M₄₂*M₄₄ + M₄₃*M₃₂ + M₄₅*M₅₂ + M₄₆*M₆₂ + M₄₇*M₇₂ + M₄₈*M₈₂ + M₉₂*M₄₉)*(M₁₀₁*M₂₁₀ + M₂₁*M₁₁ + M₂₂*M₂₁ + M₂₆*M₆₁ + M₂₇*M₇₁ + M₃₁*M₂₃ + M₄₁*M₂₄ + M₅₁*M₂₅ + M₈₁*M₂₈ + M₉₁*M₂₉) + (M₄₁*M₁₃ + M₄₁₀*M₁₀₃ + M₄₂*M₂₃ + M₄₃*M₃₃ + M₄₄*M₄₃ + M₄₅*M₅₃ + M₄₆*M₆₃ + M₄₇*M₇₃ + M₄₈*M₈₃ + M₉₃*M₄₉)*(M₁₀₁*M₃₁₀ + M₃₁*M₁₁ + M₃₁*M₃₃ + M₃₂*M₂₁ + M₃₅*M₅₁ + M₃₆*M₆₁ + M₃₇*M₇₁ + M₃₈*M₈₁ + M₄₁*M₃₄ + M₉₁*M₃₉) + (M₄₁*M₁₄ + M₄₁₀*M₁₀₄ + M₄₂*M₂₄ + M₄₃*M₃₄ + M₄₅*M₅₄ + M₄₆*M₆₄ + M₄₇*M₇₄ + M₄₈*M₈₄ + M₉₄*M₄₉ + M₄₄^2)*(M₄₁*M₁₁ + M₄₁*M₄₄ + M₄₁₀*M₁₀₁ + M₄₂*M₂₁ + M₄₃*M₃₁ + M₄₅*M₅₁ + M₄₆*M₆₁ + M₄₇*M₇₁ + M₄₈*M₈₁ + M₉₁*M₄₉) + (M₄₁*M₁₅ + M₄₁₀*M₁₀₅ + M₄₂*M₂₅ + M₄₃*M₃₅ + M₄₅*M₄₄ + M₄₅*M₅₅ + M₄₆*M₆₅ + M₄₇*M₇₅ + M₄₈*M₈₅ + M₉₅*M₄₉)*(M₁₀₁*M₅₁₀ + M₃₁*M₅₃ + M₄₁*M₅₄ + M₅₁*M₁₁ + M₅₂*M₂₁ + M₅₅*M₅₁ + M₅₆*M₆₁ + M₅₇*M₇₁ + M₈₁*M₅₈ + M₉₁*M₅₉) + (M₄₁*M₁₇ + M₄₁₀*M₁₀₇ + M₄₂*M₂₇ + M₄₃*M₃₇ + M₄₄*M₄₇ + M₄₅*M₅₇ + M₄₆*M₆₇ + M₄₇*M₇₇ + M₄₈*M₈₇ + M₉₇*M₄₉)*(M₁₁*M₇₁ + M₂₁*M₇₂ + M₃₁*M₇₃ + M₄₁*M₇₄ + M₅₁*M₇₅ + M₇₁*M₇₇ + M₇₁₀*M₁₀₁ + M₇₆*M₆₁ + M₈₁*M₇₈ + M₉₁*M₇₉) + (M₄₁*M₁₈ + M₄₁₀*M₁₀₈ + M₄₂*M₂₈ + M₄₃*M₃₈ + M₄₄*M₄₈ + M₄₅*M₅₈ + M₄₆*M₆₈ + M₄₇*M₇₈ + M₄₈*M₈₈ + M₉₈*M₄₉)*(M₁₀₁*M₈₁₀ + M₃₁*M₈₃ + M₄₁*M₈₄ + M₈₁*M₁₁ + M₈₁*M₈₈ + M₈₂*M₂₁ + M₈₅*M₅₁ + M₈₆*M₆₁ + M₈₇*M₇₁ + M₉₁*M₈₉) + (M₄₁*M₁₉ + M₄₁₀*M₁₀₉ + M₄₂*M₂₉ + M₄₃*M₃₉ + M₄₄*M₄₉ + M₄₅*M₅₉ + M₄₆*M₆₉ + M₄₇*M₇₉ + M₄₈*M₈₉ + M₉₉*M₄₉)*(M₉₁*M₁₁ + M₉₁*M₉₉ + M₉₁₀*M₁₀₁ + M₉₂*M₂₁ + M₉₃*M₃₁ + M₉₄*M₄₁ + M₉₅*M₅₁ + M₉₆*M₆₁ + M₉₇*M₇₁ + M₉₈*M₈₁))*((M₁₀₁*M₃₁₀ + M₃₁*M₁₁ + M₃₁*M₃₃ + M₃₂*M₂₁ + M₃₅*M₅₁ + M₃₆*M₆₁ + M₃₇*M₇₁ + M₃₈*M₈₁ + M₄₁*M₃₄ + M₉₁*M₃₉)*(M₁₁*M₁₄ + M₁₁₀*M₁₀₄ + M₁₆*M₆₄ + M₁₇*M₇₄ + M₂₄*M₁₂ + M₃₄*M₁₃ + M₄₄*M₁₄ + M₅₄*M₁₅ + M₈₄*M₁₈ + M₉₄*M₁₉) + (M₁₀₄*M₂₁₀ + M₂₁*M₁₄ + M₂₂*M₂₄ + M₂₆*M₆₄ + M₂₇*M₇₄ + M₃₄*M₂₃ + M₄₄*M₂₄ + M₅₄*M₂₅ + M₈₄*M₂₈ + M₉₄*M₂₉)*(M₁₀₂*M₃₁₀ + M₃₁*M₁₂ + M₃₂*M₂₂ + M₃₂*M₃₃ + M₃₅*M₅₂ + M₃₆*M₆₂ + M₃₇*M₇₂ + M₃₈*M₈₂ + M₄₂*M₃₄ + M₉₂*M₃₉) + (M₁₀₄*M₃₁₀ + M₃₁*M₁₄ + M₃₂*M₂₄ + M₃₃*M₃₄ + M₃₅*M₅₄ + M₃₆*M₆₄ + M₃₇*M₇₄ + M₃₈*M₈₄ + M₄₄*M₃₄ + M₉₄*M₃₉)*(M₁₀₃*M₃₁₀ + M₃₁*M₁₃ + M₃₂*M₂₃ + M₃₅*M₅₃ + M₃₆*M₆₃ + M₃₇*M₇₃ + M₃₈*M₈₃ + M₄₃*M₃₄ + M₉₃*M₃₉ + M₃₃^2) + (M₁₀₄*M₅₁₀ + M₃₄*M₅₃ + M₄₄*M₅₄ + M₅₁*M₁₄ + M₅₂*M₂₄ + M₅₅*M₅₄ + M₅₆*M₆₄ + M₅₇*M₇₄ + M₈₄*M₅₈ + M₉₄*M₅₉)*(M₁₀₅*M₃₁₀ + M₃₁*M₁₅ + M₃₂*M₂₅ + M₃₅*M₃₃ + M₃₅*M₅₅ + M₃₆*M₆₅ + M₃₇*M₇₅ + M₃₈*M₈₅ + M₄₅*M₃₄ + M₉₅*M₃₉) + (M₁₀₄*M₈₁₀ + M₃₄*M₈₃ + M₄₄*M₈₄ + M₈₁*M₁₄ + M₈₂*M₂₄ + M₈₄*M₈₈ + M₈₅*M₅₄ + M₈₆*M₆₄ + M₈₇*M₇₄ + M₉₄*M₈₉)*(M₁₀₈*M₃₁₀ + M₃₁*M₁₈ + M₃₂*M₂₈ + M₃₃*M₃₈ + M₃₅*M₅₈ + M₃₆*M₆₈ + M₃₇*M₇₈ + M₃₈*M₈₈ + M₄₈*M₃₄ + M₉₈*M₃₉) + (M₁₀₇*M₃₁₀ + M₃₁*M₁₇ + M₃₂*M₂₇ + M₃₃*M₃₇ + M₃₅*M₅₇ + M₃₆*M₆₇ + M₃₇*M₇₇ + M₃₈*M₈₇ + M₄₇*M₃₄ + M₉₇*M₃₉)*(M₁₄*M₇₁ + M₂₄*M₇₂ + M₃₄*M₇₃ + M₄₄*M₇₄ + M₅₄*M₇₅ + M₇₁₀*M₁₀₄ + M₇₄*M₇₇ + M₇₆*M₆₄ + M₈₄*M₇₈ + M₉₄*M₇₉) + (M₁₀₉*M₃₁₀ + M₃₁*M₁₉ + M₃₂*M₂₉ + M₃₃*M₃₉ + M₃₅*M₅₉ + M₃₆*M₆₉ + M₃₇*M₇₉ + M₃₈*M₈₉ + M₄₉*M₃₄ + M₉₉*M₃₉)*(M₉₁*M₁₄ + M₉₁₀*M₁₀₄ + M₉₂*M₂₄ + M₉₃*M₃₄ + M₉₄*M₄₄ + M₉₅*M₅₄ + M₉₆*M₆₄ + M₉₇*M₇₄ + M₉₈*M₈₄ + M₉₉*M₉₄) + (M₁₀₁₀*M₃₁₀ + M₁₁₀*M₃₁ + M₂₁₀*M₃₂ + M₃₁₀*M₃₃ + M₄₁₀*M₃₄ + M₅₁₀*M₃₅ + M₆₁₀*M₃₆ + M₇₁₀*M₃₇ + M₈₁₀*M₃₈ + M₉₁₀*M₃₉)*(M₁₀₁*M₁₄ + M₁₀₁₀*M₁₀₄ + M₁₀₂*M₂₄ + M₁₀₃*M₃₄ + M₁₀₄*M₄₄ + M₁₀₅*M₅₄ + M₁₀₆*M₆₄ + M₁₀₇*M₇₄ + M₁₀₈*M₈₄ + M₁₀₉*M₉₄) + (M₁₄*M₆₁ + M₂₄*M₆₂ + M₃₄*M₆₃ + M₄₄*M₆₄ + M₅₄*M₆₅ + M₆₁₀*M₁₀₄ + M₆₄*M₆₆ + M₇₄*M₆₇ + M₈₄*M₆₈ + M₉₄*M₆₉)*(M₁₀₆*M₃₁₀ + M₃₁*M₁₆ + M₃₂*M₂₆ + M₃₅*M₅₆ + M₃₆*M₃₃ + M₃₆*M₆₆ + M₃₇*M₇₆ + M₃₈*M₈₆ + M₄₆*M₃₄ + M₉₆*M₃₉) + (M₄₁*M₁₄ + M₄₁₀*M₁₀₄ + M₄₂*M₂₄ + M₄₃*M₃₄ + M₄₅*M₅₄ + M₄₆*M₆₄ + M₄₇*M₇₄ + M₄₈*M₈₄ + M₉₄*M₄₉ + M₄₄^2)*(M₁₀₄*M₃₁₀ + M₃₁*M₁₄ + M₃₂*M₂₄ + M₃₃*M₃₄ + M₃₅*M₅₄ + M₃₆*M₆₄ + M₃₇*M₇₄ + M₃₈*M₈₄ + M₄₄*M₃₄ + M₉₄*M₃₉))) + (M₁₁*M₁₅ + M₁₁₀*M₁₀₅ + M₁₆*M₆₅ + M₁₇*M₇₅ + M₂₅*M₁₂ + M₃₅*M₁₃ + M₄₅*M₁₄ + M₅₅*M₁₅ + M₈₅*M₁₈ + M₉₅*M₁₉)*(((M₁₀₁*M₂₁₀ + M₂₁*M₁₁ + M₂₂*M₂₁ + M₂₆*M₆₁ + M₂₇*M₇₁ + M₃₁*M₂₃ + M₄₁*M₂₄ + M₅₁*M₂₅ + M₈₁*M₂₈ + M₉₁*M₂₉)*(M₁₂*M₇₁ + M₂₂*M₇₂ + M₃₂*M₇₃ + M₄₂*M₇₄ + M₅₂*M₇₅ + M₇₁₀*M₁₀₂ + M₇₂*M₇₇ + M₇₆*M₆₂ + M₈₂*M₇₈ + M₉₂*M₇₉) + (M₁₀₁*M₃₁₀ + M₃₁*M₁₁ + M₃₁*M₃₃ + M₃₂*M₂₁ + M₃₅*M₅₁ + M₃₆*M₆₁ + M₃₇*M₇₁ + M₃₈*M₈₁ + M₄₁*M₃₄ + M₉₁*M₃₉)*(M₁₃*M₇₁ + M₂₃*M₇₂ + M₃₃*M₇₃ + M₄₃*M₇₄ + M₅₃*M₇₅ + M₇₁₀*M₁₀₃ + M₇₃*M₇₇ + M₇₆*M₆₃ + M₈₃*M₇₈ + M₉₃*M₇₉) + (M₁₀₁*M₅₁₀ + M₃₁*M₅₃ + M₄₁*M₅₄ + M₅₁*M₁₁ + M₅₂*M₂₁ + M₅₅*M₅₁ + M₅₆*M₆₁ + M₅₇*M₇₁ + M₈₁*M₅₈ + M₉₁*M₅₉)*(M₁₅*M₇₁ + M₂₅*M₇₂ + M₃₅*M₇₃ + M₄₅*M₇₄ + M₅₅*M₇₅ + M₇₁₀*M₁₀₅ + M₇₆*M₆₅ + M₇₇*M₇₅ + M₈₅*M₇₈ + M₉₅*M₇₉) + (M₁₀₁*M₈₁₀ + M₃₁*M₈₃ + M₄₁*M₈₄ + M₈₁*M₁₁ + M₈₁*M₈₈ + M₈₂*M₂₁ + M₈₅*M₅₁ + M₈₆*M₆₁ + M₈₇*M₇₁ + M₉₁*M₈₉)*(M₁₈*M₇₁ + M₂₈*M₇₂ + M₃₈*M₇₃ + M₄₈*M₇₄ + M₅₈*M₇₅ + M₇₁₀*M₁₀₈ + M₇₆*M₆₈ + M₇₈*M₇₇ + M₈₈*M₇₈ + M₉₈*M₇₉) + (M₁₀₁*M₁₁ + M₁₀₁₀*M₁₀₁ + M₁₀₂*M₂₁ + M₁₀₃*M₃₁ + M₁₀₄*M₄₁ + M₁₀₅*M₅₁ + M₁₀₆*M₆₁ + M₁₀₇*M₇₁ + M₁₀₈*M₈₁ + M₁₀₉*M₉₁)*(M₁₀₁₀*M₇₁₀ + M₁₁₀*M₇₁ + M₂₁₀*M₇₂ + M₃₁₀*M₇₃ + M₄₁₀*M₇₄ + M₅₁₀*M₇₅ + M₆₁₀*M₇₆ + M₇₁₀*M₇₇ + M₈₁₀*M₇₈ + M₉₁₀*M₇₉) + (M₁₁₀*M₁₀₁ + M₁₆*M₆₁ + M₁₇*M₇₁ + M₂₁*M₁₂ + M₃₁*M₁₃ + M₄₁*M₁₄ + M₅₁*M₁₅ + M₈₁*M₁₈ + M₉₁*M₁₉ + M₁₁^2)*(M₁₁*M₇₁ + M₂₁*M₇₂ + M₃₁*M₇₃ + M₄₁*M₇₄ + M₅₁*M₇₅ + M₇₁*M₇₇ + M₇₁₀*M₁₀₁ + M₇₆*M₆₁ + M₈₁*M₇₈ + M₉₁*M₇₉) + (M₁₁*M₆₁ + M₂₁*M₆₂ + M₃₁*M₆₃ + M₄₁*M₆₄ + M₅₁*M₆₅ + M₆₁*M₆₆ + M₆₁₀*M₁₀₁ + M₇₁*M₆₇ + M₈₁*M₆₈ + M₉₁*M₆₉)*(M₁₆*M₇₁ + M₂₆*M₇₂ + M₃₆*M₇₃ + M₄₆*M₇₄ + M₅₆*M₇₅ + M₇₁₀*M₁₀₆ + M₇₆*M₆₆ + M₇₇*M₇₆ + M₈₆*M₇₈ + M₉₆*M₇₉) + (M₄₁*M₁₁ + M₄₁*M₄₄ + M₄₁₀*M₁₀₁ + M₄₂*M₂₁ + M₄₃*M₃₁ + M₄₅*M₅₁ + M₄₆*M₆₁ + M₄₇*M₇₁ + M₄₈*M₈₁ + M₉₁*M₄₉)*(M₁₄*M₇₁ + M₂₄*M₇₂ + M₃₄*M₇₃ + M₄₄*M₇₄ + M₅₄*M₇₅ + M₇₁₀*M₁₀₄ + M₇₄*M₇₇ + M₇₆*M₆₄ + M₈₄*M₇₈ + M₉₄*M₇₉) + (M₉₁*M₁₁ + M₉₁*M₉₉ + M₉₁₀*M₁₀₁ + M₉₂*M₂₁ + M₉₃*M₃₁ + M₉₄*M₄₁ + M₉₅*M₅₁ + M₉₆*M₆₁ + M₉₇*M₇₁ + M₉₈*M₈₁)*(M₁₉*M₇₁ + M₂₉*M₇₂ + M₃₉*M₇₃ + M₄₉*M₇₄ + M₅₉*M₇₅ + M₇₁₀*M₁₀₉ + M₇₆*M₆₉ + M₇₇*M₇₉ + M₈₉*M₇₈ + M₉₉*M₇₉) + (M₁₇*M₇₁ + M₂₇*M₇₂ + M₃₇*M₇₃ + M₄₇*M₇₄ + M₅₇*M₇₅ + M₇₁₀*M₁₀₇ + M₇₆*M₆₇ + M₈₇*M₇₈ + M₉₇*M₇₉ + M₇₇^2)*(M₁₁*M₇₁ + M₂₁*M₇₂ + M₃₁*M₇₃ + M₄₁*M₇₄ + M₅₁*M₇₅ + M₇₁*M₇₇ + M₇₁₀*M₁₀₁ + M₇₆*M₆₁ + M₈₁*M₇₈ + M₉₁*M₇₉))*((M₁₀₁*M₅₁₀ + M₃₁*M₅₃ + M₄₁*M₅₄ + M₅₁*M₁₁ + M₅₂*M₂₁ + M₅₅*M₅₁ + M₅₆*M₆₁ + M₅₇*M₇₁ + M₈₁*M₅₈ + M₉₁*M₅₉)*(M₁₁*M₁₇ + M₁₁₀*M₁₀₇ + M₁₆*M₆₇ + M₁₇*M₇₇ + M₂₇*M₁₂ + M₃₇*M₁₃ + M₄₇*M₁₄ + M₅₇*M₁₅ + M₈₇*M₁₈ + M₉₇*M₁₉) + (M₁₀₃*M₅₁₀ + M₃₃*M₅₃ + M₄₃*M₅₄ + M₅₁*M₁₃ + M₅₂*M₂₃ + M₅₅*M₅₃ + M₅₆*M₆₃ + M₅₇*M₇₃ + M₈₃*M₅₈ + M₉₃*M₅₉)*(M₁₀₇*M₃₁₀ + M₃₁*M₁₇ + M₃₂*M₂₇ + M₃₃*M₃₇ + M₃₅*M₅₇ + M₃₆*M₆₇ + M₃₇*M₇₇ + M₃₈*M₈₇ + M₄₇*M₃₄ + M₉₇*M₃₉) + (M₁₀₇*M₂₁₀ + M₂₁*M₁₇ + M₂₂*M₂₇ + M₂₆*M₆₇ + M₂₇*M₇₇ + M₃₇*M₂₃ + M₄₇*M₂₄ + M₅₇*M₂₅ + M₈₇*M₂₈ + M₉₇*M₂₉)*(M₁₀₂*M₅₁₀ + M₃₂*M₅₃ + M₄₂*M₅₄ + M₅₁*M₁₂ + M₅₂*M₂₂ + M₅₅*M₅₂ + M₅₆*M₆₂ + M₅₇*M₇₂ + M₈₂*M₅₈ + M₉₂*M₅₉) + (M₁₀₇*M₅₁₀ + M₃₇*M₅₃ + M₄₇*M₅₄ + M₅₁*M₁₇ + M₅₂*M₂₇ + M₅₅*M₅₇ + M₅₆*M₆₇ + M₅₇*M₇₇ + M₈₇*M₅₈ + M₉₇*M₅₉)*(M₁₀₅*M₅₁₀ + M₃₅*M₅₃ + M₄₅*M₅₄ + M₅₁*M₁₅ + M₅₂*M₂₅ + M₅₆*M₆₅ + M₅₇*M₇₅ + M₈₅*M₅₈ + M₉₅*M₅₉ + M₅₅^2) + (M₁₀₇*M₅₁₀ + M₃₇*M₅₃ + M₄₇*M₅₄ + M₅₁*M₁₇ + M₅₂*M₂₇ + M₅₅*M₅₇ + M₅₆*M₆₇ + M₅₇*M₇₇ + M₈₇*M₅₈ + M₉₇*M₅₉)*(M₁₇*M₇₁ + M₂₇*M₇₂ + M₃₇*M₇₃ + M₄₇*M₇₄ + M₅₇*M₇₅ + M₇₁₀*M₁₀₇ + M₇₆*M₆₇ + M₈₇*M₇₈ + M₉₇*M₇₉ + M₇₇^2) + (M₁₀₈*M₅₁₀ + M₃₈*M₅₃ + M₄₈*M₅₄ + M₅₁*M₁₈ + M₅₂*M₂₈ + M₅₅*M₅₈ + M₅₆*M₆₈ + M₅₇*M₇₈ + M₈₈*M₅₈ + M₉₈*M₅₉)*(M₁₀₇*M₈₁₀ + M₃₇*M₈₃ + M₄₇*M₈₄ + M₈₁*M₁₇ + M₈₂*M₂₇ + M₈₅*M₅₇ + M₈₆*M₆₇ + M₈₇*M₇₇ + M₈₇*M₈₈ + M₉₇*M₈₉) + (M₁₀₉*M₅₁₀ + M₃₉*M₅₃ + M₄₉*M₅₄ + M₅₁*M₁₉ + M₅₂*M₂₉ + M₅₅*M₅₉ + M₅₆*M₆₉ + M₅₇*M₇₉ + M₈₉*M₅₈ + M₉₉*M₅₉)*(M₉₁*M₁₇ + M₉₁₀*M₁₀₇ + M₉₂*M₂₇ + M₉₃*M₃₇ + M₉₄*M₄₇ + M₉₅*M₅₇ + M₉₆*M₆₇ + M₉₇*M₇₇ + M₉₇*M₉₉ + M₉₈*M₈₇) + (M₁₀₁₀*M₅₁₀ + M₁₁₀*M₅₁ + M₂₁₀*M₅₂ + M₃₁₀*M₅₃ + M₄₁₀*M₅₄ + M₅₁₀*M₅₅ + M₆₁₀*M₅₆ + M₇₁₀*M₅₇ + M₈₁₀*M₅₈ + M₉₁₀*M₅₉)*(M₁₀₁*M₁₇ + M₁₀₁₀*M₁₀₇ + M₁₀₂*M₂₇ + M₁₀₃*M₃₇ + M₁₀₄*M₄₇ + M₁₀₅*M₅₇ + M₁₀₆*M₆₇ + M₁₀₇*M₇₇ + M₁₀₈*M₈₇ + M₁₀₉*M₉₇) + (M₁₇*M₆₁ + M₂₇*M₆₂ + M₃₇*M₆₃ + M₄₇*M₆₄ + M₅₇*M₆₅ + M₆₁₀*M₁₀₇ + M₆₆*M₆₇ + M₇₇*M₆₇ + M₈₇*M₆₈ + M₉₇*M₆₉)*(M₁₀₆*M₅₁₀ + M₃₆*M₅₃ + M₄₆*M₅₄ + M₅₁*M₁₆ + M₅₂*M₂₆ + M₅₆*M₅₅ + M₅₆*M₆₆ + M₅₇*M₇₆ + M₈₆*M₅₈ + M₉₆*M₅₉) + (M₄₁*M₁₇ + M₄₁₀*M₁₀₇ + M₄₂*M₂₇ + M₄₃*M₃₇ + M₄₄*M₄₇ + M₄₅*M₅₇ + M₄₆*M₆₇ + M₄₇*M₇₇ + M₄₈*M₈₇ + M₉₇*M₄₉)*(M₁₀₄*M₅₁₀ + M₃₄*M₅₃ + M₄₄*M₅₄ + M₅₁*M₁₄ + M₅₂*M₂₄ + M₅₅*M₅₄ + M₅₆*M₆₄ + M₅₇*M₇₄ + M₈₄*M₅₈ + M₉₄*M₅₉)) + ((M₁₀₁*M₂₁₀ + M₂₁*M₁₁ + M₂₂*M₂₁ + M₂₆*M₆₁ + M₂₇*M₇₁ + M₃₁*M₂₃ + M₄₁*M₂₄ + M₅₁*M₂₅ + M₈₁*M₂₈ + M₉₁*M₂₉)*(M₁₀₂*M₅₁₀ + M₃₂*M₅₃ + M₄₂*M₅₄ + M₅₁*M₁₂ + M₅₂*M₂₂ + M₅₅*M₅₂ + M₅₆*M₆₂ + M₅₇*M₇₂ + M₈₂*M₅₈ + M₉₂*M₅₉) + (M₁₀₁*M₅₁₀ + M₃₁*M₅₃ + M₄₁*M₅₄ + M₅₁*M₁₁ + M₅₂*M₂₁ + M₅₅*M₅₁ + M₅₆*M₆₁ + M₅₇*M₇₁ + M₈₁*M₅₈ + M₉₁*M₅₉)*(M₁₀₅*M₅₁₀ + M₃₅*M₅₃ + M₄₅*M₅₄ + M₅₁*M₁₅ + M₅₂*M₂₅ + M₅₆*M₆₅ + M₅₇*M₇₅ + M₈₅*M₅₈ + M₉₅*M₅₉ + M₅₅^2) + (M₁₀₁*M₅₁₀ + M₃₁*M₅₃ + M₄₁*M₅₄ + M₅₁*M₁₁ + M₅₂*M₂₁ + M₅₅*M₅₁ + M₅₆*M₆₁ + M₅₇*M₇₁ + M₈₁*M₅₈ + M₉₁*M₅₉)*(M₁₁₀*M₁₀₁ + M₁₆*M₆₁ + M₁₇*M₇₁ + M₂₁*M₁₂ + M₃₁*M₁₃ + M₄₁*M₁₄ + M₅₁*M₁₅ + M₈₁*M₁₈ + M₉₁*M₁₉ + M₁₁^2) + (M₁₀₃*M₅₁₀ + M₃₃*M₅₃ + M₄₃*M₅₄ + M₅₁*M₁₃ + M₅₂*M₂₃ + M₅₅*M₅₃ + M₅₆*M₆₃ + M₅₇*M₇₃ + M₈₃*M₅₈ + M₉₃*M₅₉)*(M₁₀₁*M₃₁₀ + M₃₁*M₁₁ + M₃₁*M₃₃ + M₃₂*M₂₁ + M₃₅*M₅₁ + M₃₆*M₆₁ + M₃₇*M₇₁ + M₃₈*M₈₁ + M₄₁*M₃₄ + M₉₁*M₃₉) + (M₁₀₇*M₅₁₀ + M₃₇*M₅₃ + M₄₇*M₅₄ + M₅₁*M₁₇ + M₅₂*M₂₇ + M₅₅*M₅₇ + M₅₆*M₆₇ + M₅₇*M₇₇ + M₈₇*M₅₈ + M₉₇*M₅₉)*(M₁₁*M₇₁ + M₂₁*M₇₂ + M₃₁*M₇₃ + M₄₁*M₇₄ + M₅₁*M₇₅ + M₇₁*M₇₇ + M₇₁₀*M₁₀₁ + M₇₆*M₆₁ + M₈₁*M₇₈ + M₉₁*M₇₉) + (M₁₀₈*M₅₁₀ + M₃₈*M₅₃ + M₄₈*M₅₄ + M₅₁*M₁₈ + M₅₂*M₂₈ + M₅₅*M₅₈ + M₅₆*M₆₈ + M₅₇*M₇₈ + M₈₈*M₅₈ + M₉₈*M₅₉)*(M₁₀₁*M₈₁₀ + M₃₁*M₈₃ + M₄₁*M₈₄ + M₈₁*M₁₁ + M₈₁*M₈₈ + M₈₂*M₂₁ + M₈₅*M₅₁ + M₈₆*M₆₁ + M₈₇*M₇₁ + M₉₁*M₈₉) + (M₁₀₉*M₅₁₀ + M₃₉*M₅₃ + M₄₉*M₅₄ + M₅₁*M₁₉ + M₅₂*M₂₉ + M₅₅*M₅₉ + M₅₆*M₆₉ + M₅₇*M₇₉ + M₈₉*M₅₈ + M₉₉*M₅₉)*(M₉₁*M₁₁ + M₉₁*M₉₉ + M₉₁₀*M₁₀₁ + M₉₂*M₂₁ + M₉₃*M₃₁ + M₉₄*M₄₁ + M₉₅*M₅₁ + M₉₆*M₆₁ + M₉₇*M₇₁ + M₉₈*M₈₁) + (M₁₀₁₀*M₅₁₀ + M₁₁₀*M₅₁ + M₂₁₀*M₅₂ + M₃₁₀*M₅₃ + M₄₁₀*M₅₄ + M₅₁₀*M₅₅ + M₆₁₀*M₅₆ + M₇₁₀*M₅₇ + M₈₁₀*M₅₈ + M₉₁₀*M₅₉)*(M₁₀₁*M₁₁ + M₁₀₁₀*M₁₀₁ + M₁₀₂*M₂₁ + M₁₀₃*M₃₁ + M₁₀₄*M₄₁ + M₁₀₅*M₅₁ + M₁₀₆*M₆₁ + M₁₀₇*M₇₁ + M₁₀₈*M₈₁ + M₁₀₉*M₉₁) + (M₁₁*M₆₁ + M₂₁*M₆₂ + M₃₁*M₆₃ + M₄₁*M₆₄ + M₅₁*M₆₅ + M₆₁*M₆₆ + M₆₁₀*M₁₀₁ + M₇₁*M₆₇ + M₈₁*M₆₈ + M₉₁*M₆₉)*(M₁₀₆*M₅₁₀ + M₃₆*M₅₃ + M₄₆*M₅₄ + M₅₁*M₁₆ + M₅₂*M₂₆ + M₅₆*M₅₅ + M₅₆*M₆₆ + M₅₇*M₇₆ + M₈₆*M₅₈ + M₉₆*M₅₉) + (M₄₁*M₁₁ + M₄₁*M₄₄ + M₄₁₀*M₁₀₁ + M₄₂*M₂₁ + M₄₃*M₃₁ + M₄₅*M₅₁ + M₄₆*M₆₁ + M₄₇*M₇₁ + M₄₈*M₈₁ + M₉₁*M₄₉)*(M₁₀₄*M₅₁₀ + M₃₄*M₅₃ + M₄₄*M₅₄ + M₅₁*M₁₄ + M₅₂*M₂₄ + M₅₅*M₅₄ + M₅₆*M₆₄ + M₅₇*M₇₄ + M₈₄*M₅₈ + M₉₄*M₅₉))*((M₁₀₁*M₂₁₀ + M₂₁*M₁₁ + M₂₂*M₂₁ + M₂₆*M₆₁ + M₂₇*M₇₁ + M₃₁*M₂₃ + M₄₁*M₂₄ + M₅₁*M₂₅ + M₈₁*M₂₈ + M₉₁*M₂₉)*(M₁₁*M₁₂ + M₁₁₀*M₁₀₂ + M₁₆*M₆₂ + M₁₇*M₇₂ + M₂₂*M₁₂ + M₃₂*M₁₃ + M₄₂*M₁₄ + M₅₂*M₁₅ + M₈₂*M₁₈ + M₉₂*M₁₉) + (M₁₀₁*M₃₁₀ + M₃₁*M₁₁ + M₃₁*M₃₃ + M₃₂*M₂₁ + M₃₅*M₅₁ + M₃₆*M₆₁ + M₃₇*M₇₁ + M₃₈*M₈₁ + M₄₁*M₃₄ + M₉₁*M₃₉)*(M₁₁*M₁₃ + M₁₁₀*M₁₀₃ + M₁₆*M₆₃ + M₁₇*M₇₃ + M₂₃*M₁₂ + M₃₃*M₁₃ + M₄₃*M₁₄ + M₅₃*M₁₅ + M₈₃*M₁₈ + M₉₃*M₁₉) + (M₁₀₁*M₅₁₀ + M₃₁*M₅₃ + M₄₁*M₅₄ + M₅₁*M₁₁ + M₅₂*M₂₁ + M₅₅*M₅₁ + M₅₆*M₆₁ + M₅₇*M₇₁ + M₈₁*M₅₈ + M₉₁*M₅₉)*(M₁₁*M₁₅ + M₁₁₀*M₁₀₅ + M₁₆*M₆₅ + M₁₇*M₇₅ + M₂₅*M₁₂ + M₃₅*M₁₃ + M₄₅*M₁₄ + M₅₅*M₁₅ + M₈₅*M₁₈ + M₉₅*M₁₉) + (M₁₀₁*M₈₁₀ + M₃₁*M₈₃ + M₄₁*M₈₄ + M₈₁*M₁₁ + M₈₁*M₈₈ + M₈₂*M₂₁ + M₈₅*M₅₁ + M₈₆*M₆₁ + M₈₇*M₇₁ + M₉₁*M₈₉)*(M₁₁*M₁₈ + M₁₁₀*M₁₀₈ + M₁₆*M₆₈ + M₁₇*M₇₈ + M₂₈*M₁₂ + M₃₈*M₁₃ + M₄₈*M₁₄ + M₅₈*M₁₅ + M₈₈*M₁₈ + M₉₈*M₁₉) + (M₁₁*M₁₇ + M₁₁₀*M₁₀₇ + M₁₆*M₆₇ + M₁₇*M₇₇ + M₂₇*M₁₂ + M₃₇*M₁₃ + M₄₇*M₁₄ + M₅₇*M₁₅ + M₈₇*M₁₈ + M₉₇*M₁₉)*(M₁₁*M₇₁ + M₂₁*M₇₂ + M₃₁*M₇₃ + M₄₁*M₇₄ + M₅₁*M₇₅ + M₇₁*M₇₇ + M₇₁₀*M₁₀₁ + M₇₆*M₆₁ + M₈₁*M₇₈ + M₉₁*M₇₉) + (M₁₁*M₁₉ + M₁₁₀*M₁₀₉ + M₁₆*M₆₉ + M₁₇*M₇₉ + M₂₉*M₁₂ + M₃₉*M₁₃ + M₄₉*M₁₄ + M₅₉*M₁₅ + M₈₉*M₁₈ + M₉₉*M₁₉)*(M₉₁*M₁₁ + M₉₁*M₉₉ + M₉₁₀*M₁₀₁ + M₉₂*M₂₁ + M₉₃*M₃₁ + M₉₄*M₄₁ + M₉₅*M₅₁ + M₉₆*M₆₁ + M₉₇*M₇₁ + M₉₈*M₈₁) + (M₁₀₁₀*M₁₁₀ + M₁₁₀*M₁₁ + M₂₁₀*M₁₂ + M₃₁₀*M₁₃ + M₄₁₀*M₁₄ + M₅₁₀*M₁₅ + M₆₁₀*M₁₆ + M₇₁₀*M₁₇ + M₈₁₀*M₁₈ + M₉₁₀*M₁₉)*(M₁₀₁*M₁₁ + M₁₀₁₀*M₁₀₁ + M₁₀₂*M₂₁ + M₁₀₃*M₃₁ + M₁₀₄*M₄₁ + M₁₀₅*M₅₁ + M₁₀₆*M₆₁ + M₁₀₇*M₇₁ + M₁₀₈*M₈₁ + M₁₀₉*M₉₁) + (M₁₁*M₆₁ + M₂₁*M₆₂ + M₃₁*M₆₃ + M₄₁*M₆₄ + M₅₁*M₆₅ + M₆₁*M₆₆ + M₆₁₀*M₁₀₁ + M₇₁*M₆₇ + M₈₁*M₆₈ + M₉₁*M₆₉)*(M₁₁*M₁₆ + M₁₁₀*M₁₀₆ + M₁₆*M₆₆ + M₁₇*M₇₆ + M₂₆*M₁₂ + M₃₆*M₁₃ + M₄₆*M₁₄ + M₅₆*M₁₅ + M₈₆*M₁₈ + M₉₆*M₁₉) + (M₄₁*M₁₁ + M₄₁*M₄₄ + M₄₁₀*M₁₀₁ + M₄₂*M₂₁ + M₄₃*M₃₁ + M₄₅*M₅₁ + M₄₆*M₆₁ + M₄₇*M₇₁ + M₄₈*M₈₁ + M₉₁*M₄₉)*(M₁₁*M₁₄ + M₁₁₀*M₁₀₄ + M₁₆*M₆₄ + M₁₇*M₇₄ + M₂₄*M₁₂ + M₃₄*M₁₃ + M₄₄*M₁₄ + M₅₄*M₁₅ + M₈₄*M₁₈ + M₉₄*M₁₉) + (M₁₁₀*M₁₀₁ + M₁₆*M₆₁ + M₁₇*M₇₁ + M₂₁*M₁₂ + M₃₁*M₁₃ + M₄₁*M₁₄ + M₅₁*M₁₅ + M₈₁*M₁₈ + M₉₁*M₁₉ + M₁₁^2)^2) + ((M₁₀₁*M₅₁₀ + M₃₁*M₅₃ + M₄₁*M₅₄ + M₅₁*M₁₁ + M₅₂*M₂₁ + M₅₅*M₅₁ + M₅₆*M₆₁ + M₅₇*M₇₁ + M₈₁*M₅₈ + M₉₁*M₅₉)*(M₁₁*M₁₂ + M₁₁₀*M₁₀₂ + M₁₆*M₆₂ + M₁₇*M₇₂ + M₂₂*M₁₂ + M₃₂*M₁₃ + M₄₂*M₁₄ + M₅₂*M₁₅ + M₈₂*M₁₈ + M₉₂*M₁₉) + (M₁₀₂*M₅₁₀ + M₃₂*M₅₃ + M₄₂*M₅₄ + M₅₁*M₁₂ + M₅₂*M₂₂ + M₅₅*M₅₂ + M₅₆*M₆₂ + M₅₇*M₇₂ + M₈₂*M₅₈ + M₉₂*M₅₉)*(M₁₀₂*M₂₁₀ + M₂₁*M₁₂ + M₂₆*M₆₂ + M₂₇*M₇₂ + M₃₂*M₂₃ + M₄₂*M₂₄ + M₅₂*M₂₅ + M₈₂*M₂₈ + M₉₂*M₂₉ + M₂₂^2) + (M₁₀₂*M₅₁₀ + M₃₂*M₅₃ + M₄₂*M₅₄ + M₅₁*M₁₂ + M₅₂*M₂₂ + M₅₅*M₅₂ + M₅₆*M₆₂ + M₅₇*M₇₂ + M₈₂*M₅₈ + M₉₂*M₅₉)*(M₁₀₅*M₅₁₀ + M₃₅*M₅₃ + M₄₅*M₅₄ + M₅₁*M₁₅ + M₅₂*M₂₅ + M₅₆*M₆₅ + M₅₇*M₇₅ + M₈₅*M₅₈ + M₉₅*M₅₉ + M₅₅^2) + (M₁₀₃*M₅₁₀ + M₃₃*M₅₃ + M₄₃*M₅₄ + M₅₁*M₁₃ + M₅₂*M₂₃ + M₅₅*M₅₃ + M₅₆*M₆₃ + M₅₇*M₇₃ + M₈₃*M₅₈ + M₉₃*M₅₉)*(M₁₀₂*M₃₁₀ + M₃₁*M₁₂ + M₃₂*M₂₂ + M₃₂*M₃₃ + M₃₅*M₅₂ + M₃₆*M₆₂ + M₃₇*M₇₂ + M₃₈*M₈₂ + M₄₂*M₃₄ + M₉₂*M₃₉) + (M₁₀₇*M₅₁₀ + M₃₇*M₅₃ + M₄₇*M₅₄ + M₅₁*M₁₇ + M₅₂*M₂₇ + M₅₅*M₅₇ + M₅₆*M₆₇ + M₅₇*M₇₇ + M₈₇*M₅₈ + M₉₇*M₅₉)*(M₁₂*M₇₁ + M₂₂*M₇₂ + M₃₂*M₇₃ + M₄₂*M₇₄ + M₅₂*M₇₅ + M₇₁₀*M₁₀₂ + M₇₂*M₇₇ + M₇₆*M₆₂ + M₈₂*M₇₈ + M₉₂*M₇₉) + (M₁₀₈*M₅₁₀ + M₃₈*M₅₃ + M₄₈*M₅₄ + M₅₁*M₁₈ + M₅₂*M₂₈ + M₅₅*M₅₈ + M₅₆*M₆₈ + M₅₇*M₇₈ + M₈₈*M₅₈ + M₉₈*M₅₉)*(M₁₀₂*M₈₁₀ + M₃₂*M₈₃ + M₄₂*M₈₄ + M₈₁*M₁₂ + M₈₂*M₂₂ + M₈₂*M₈₈ + M₈₅*M₅₂ + M₈₆*M₆₂ + M₈₇*M₇₂ + M₉₂*M₈₉) + (M₁₀₉*M₅₁₀ + M₃₉*M₅₃ + M₄₉*M₅₄ + M₅₁*M₁₉ + M₅₂*M₂₉ + M₅₅*M₅₉ + M₅₆*M₆₉ + M₅₇*M₇₉ + M₈₉*M₅₈ + M₉₉*M₅₉)*(M₉₁*M₁₂ + M₉₁₀*M₁₀₂ + M₉₂*M₂₂ + M₉₃*M₃₂ + M₉₄*M₄₂ + M₉₅*M₅₂ + M₉₆*M₆₂ + M₉₇*M₇₂ + M₉₈*M₈₂ + M₉₉*M₉₂) + (M₁₀₁₀*M₅₁₀ + M₁₁₀*M₅₁ + M₂₁₀*M₅₂ + M₃₁₀*M₅₃ + M₄₁₀*M₅₄ + M₅₁₀*M₅₅ + M₆₁₀*M₅₆ + M₇₁₀*M₅₇ + M₈₁₀*M₅₈ + M₉₁₀*M₅₉)*(M₁₀₁*M₁₂ + M₁₀₁₀*M₁₀₂ + M₁₀₂*M₂₂ + M₁₀₃*M₃₂ + M₁₀₄*M₄₂ + M₁₀₅*M₅₂ + M₁₀₆*M₆₂ + M₁₀₇*M₇₂ + M₁₀₈*M₈₂ + M₁₀₉*M₉₂) + (M₁₂*M₆₁ + M₂₂*M₆₂ + M₃₂*M₆₃ + M₄₂*M₆₄ + M₅₂*M₆₅ + M₆₁₀*M₁₀₂ + M₆₂*M₆₆ + M₇₂*M₆₇ + M₈₂*M₆₈ + M₉₂*M₆₉)*(M₁₀₆*M₅₁₀ + M₃₆*M₅₃ + M₄₆*M₅₄ + M₅₁*M₁₆ + M₅₂*M₂₆ + M₅₆*M₅₅ + M₅₆*M₆₆ + M₅₇*M₇₆ + M₈₆*M₅₈ + M₉₆*M₅₉) + (M₄₁*M₁₂ + M₄₁₀*M₁₀₂ + M₄₂*M₂₂ + M₄₂*M₄₄ + M₄₃*M₃₂ + M₄₅*M₅₂ + M₄₆*M₆₂ + M₄₇*M₇₂ + M₄₈*M₈₂ + M₉₂*M₄₉)*(M₁₀₄*M₅₁₀ + M₃₄*M₅₃ + M₄₄*M₅₄ + M₅₁*M₁₄ + M₅₂*M₂₄ + M₅₅*M₅₄ + M₅₆*M₆₄ + M₅₇*M₇₄ + M₈₄*M₅₈ + M₉₄*M₅₉))*((M₁₀₁*M₂₁₀ + M₂₁*M₁₁ + M₂₂*M₂₁ + M₂₆*M₆₁ + M₂₇*M₇₁ + M₃₁*M₂₃ + M₄₁*M₂₄ + M₅₁*M₂₅ + M₈₁*M₂₈ + M₉₁*M₂₉)*(M₁₀₂*M₂₁₀ + M₂₁*M₁₂ + M₂₆*M₆₂ + M₂₇*M₇₂ + M₃₂*M₂₃ + M₄₂*M₂₄ + M₅₂*M₂₅ + M₈₂*M₂₈ + M₉₂*M₂₉ + M₂₂^2) + (M₁₀₁*M₂₁₀ + M₂₁*M₁₁ + M₂₂*M₂₁ + M₂₆*M₆₁ + M₂₇*M₇₁ + M₃₁*M₂₃ + M₄₁*M₂₄ + M₅₁*M₂₅ + M₈₁*M₂₈ + M₉₁*M₂₉)*(M₁₁₀*M₁₀₁ + M₁₆*M₆₁ + M₁₇*M₇₁ + M₂₁*M₁₂ + M₃₁*M₁₃ + M₄₁*M₁₄ + M₅₁*M₁₅ + M₈₁*M₁₈ + M₉₁*M₁₉ + M₁₁^2) + (M₁₀₃*M₂₁₀ + M₂₁*M₁₃ + M₂₂*M₂₃ + M₂₆*M₆₃ + M₂₇*M₇₃ + M₃₃*M₂₃ + M₄₃*M₂₄ + M₅₃*M₂₅ + M₈₃*M₂₈ + M₉₃*M₂₉)*(M₁₀₁*M₃₁₀ + M₃₁*M₁₁ + M₃₁*M₃₃ + M₃₂*M₂₁ + M₃₅*M₅₁ + M₃₆*M₆₁ + M₃₇*M₇₁ + M₃₈*M₈₁ + M₄₁*M₃₄ + M₉₁*M₃₉) + (M₁₀₅*M₂₁₀ + M₂₁*M₁₅ + M₂₂*M₂₅ + M₂₆*M₆₅ + M₂₇*M₇₅ + M₃₅*M₂₃ + M₄₅*M₂₄ + M₅₅*M₂₅ + M₈₅*M₂₈ + M₉₅*M₂₉)*(M₁₀₁*M₅₁₀ + M₃₁*M₅₃ + M₄₁*M₅₄ + M₅₁*M₁₁ + M₅₂*M₂₁ + M₅₅*M₅₁ + M₅₆*M₆₁ + M₅₇*M₇₁ + M₈₁*M₅₈ + M₉₁*M₅₉) + (M₁₀₇*M₂₁₀ + M₂₁*M₁₇ + M₂₂*M₂₇ + M₂₆*M₆₇ + M₂₇*M₇₇ + M₃₇*M₂₃ + M₄₇*M₂₄ + M₅₇*M₂₅ + M₈₇*M₂₈ + M₉₇*M₂₉)*(M₁₁*M₇₁ + M₂₁*M₇₂ + M₃₁*M₇₃ + M₄₁*M₇₄ + M₅₁*M₇₅ + M₇₁*M₇₇ + M₇₁₀*M₁₀₁ + M₇₆*M₆₁ + M₈₁*M₇₈ + M₉₁*M₇₉) + (M₁₀₈*M₂₁₀ + M₂₁*M₁₈ + M₂₂*M₂₈ + M₂₆*M₆₈ + M₂₇*M₇₈ + M₃₈*M₂₃ + M₄₈*M₂₄ + M₅₈*M₂₅ + M₈₈*M₂₈ + M₉₈*M₂₉)*(M₁₀₁*M₈₁₀ + M₃₁*M₈₃ + M₄₁*M₈₄ + M₈₁*M₁₁ + M₈₁*M₈₈ + M₈₂*M₂₁ + M₈₅*M₅₁ + M₈₆*M₆₁ + M₈₇*M₇₁ + M₉₁*M₈₉) + (M₁₀₉*M₂₁₀ + M₂₁*M₁₉ + M₂₂*M₂₉ + M₂₆*M₆₉ + M₂₇*M₇₉ + M₃₉*M₂₃ + M₄₉*M₂₄ + M₅₉*M₂₅ + M₈₉*M₂₈ + M₉₉*M₂₉)*(M₉₁*M₁₁ + M₉₁*M₉₉ + M₉₁₀*M₁₀₁ + M₉₂*M₂₁ + M₉₃*M₃₁ + M₉₄*M₄₁ + M₉₅*M₅₁ + M₉₆*M₆₁ + M₉₇*M₇₁ + M₉₈*M₈₁) + (M₁₀₁₀*M₂₁₀ + M₁₁₀*M₂₁ + M₂₁₀*M₂₂ + M₃₁₀*M₂₃ + M₄₁₀*M₂₄ + M₅₁₀*M₂₅ + M₆₁₀*M₂₆ + M₇₁₀*M₂₇ + M₈₁₀*M₂₈ + M₉₁₀*M₂₉)*(M₁₀₁*M₁₁ + M₁₀₁₀*M₁₀₁ + M₁₀₂*M₂₁ + M₁₀₃*M₃₁ + M₁₀₄*M₄₁ + M₁₀₅*M₅₁ + M₁₀₆*M₆₁ + M₁₀₇*M₇₁ + M₁₀₈*M₈₁ + M₁₀₉*M₉₁) + (M₁₁*M₆₁ + M₂₁*M₆₂ + M₃₁*M₆₃ + M₄₁*M₆₄ + M₅₁*M₆₅ + M₆₁*M₆₆ + M₆₁₀*M₁₀₁ + M₇₁*M₆₇ + M₈₁*M₆₈ + M₉₁*M₆₉)*(M₁₀₆*M₂₁₀ + M₂₁*M₁₆ + M₂₂*M₂₆ + M₂₆*M₆₆ + M₂₇*M₇₆ + M₃₆*M₂₃ + M₄₆*M₂₄ + M₅₆*M₂₅ + M₈₆*M₂₈ + M₉₆*M₂₉) + (M₄₁*M₁₁ + M₄₁*M₄₄ + M₄₁₀*M₁₀₁ + M₄₂*M₂₁ + M₄₃*M₃₁ + M₄₅*M₅₁ + M₄₆*M₆₁ + M₄₇*M₇₁ + M₄₈*M₈₁ + M₉₁*M₄₉)*(M₁₀₄*M₂₁₀ + M₂₁*M₁₄ + M₂₂*M₂₄ + M₂₆*M₆₄ + M₂₇*M₇₄ + M₃₄*M₂₃ + M₄₄*M₂₄ + M₅₄*M₂₅ + M₈₄*M₂₈ + M₉₄*M₂₉)) + ((M₁₀₁*M₅₁₀ + M₃₁*M₅₃ + M₄₁*M₅₄ + M₅₁*M₁₁ + M₅₂*M₂₁ + M₅₅*M₅₁ + M₅₆*M₆₁ + M₅₇*M₇₁ + M₈₁*M₅₈ + M₉₁*M₅₉)*(M₁₁*M₁₃ + M₁₁₀*M₁₀₃ + M₁₆*M₆₃ + M₁₇*M₇₃ + M₂₃*M₁₂ + M₃₃*M₁₃ + M₄₃*M₁₄ + M₅₃*M₁₅ + M₈₃*M₁₈ + M₉₃*M₁₉) + (M₁₀₃*M₂₁₀ + M₂₁*M₁₃ + M₂₂*M₂₃ + M₂₆*M₆₃ + M₂₇*M₇₃ + M₃₃*M₂₃ + M₄₃*M₂₄ + M₅₃*M₂₅ + M₈₃*M₂₈ + M₉₃*M₂₉)*(M₁₀₂*M₅₁₀ + M₃₂*M₅₃ + M₄₂*M₅₄ + M₅₁*M₁₂ + M₅₂*M₂₂ + M₅₅*M₅₂ + M₅₆*M₆₂ + M₅₇*M₇₂ + M₈₂*M₅₈ + M₉₂*M₅₉) + (M₁₀₃*M₅₁₀ + M₃₃*M₅₃ + M₄₃*M₅₄ + M₅₁*M₁₃ + M₅₂*M₂₃ + M₅₅*M₅₃ + M₅₆*M₆₃ + M₅₇*M₇₃ + M₈₃*M₅₈ + M₉₃*M₅₉)*(M₁₀₃*M₃₁₀ + M₃₁*M₁₃ + M₃₂*M₂₃ + M₃₅*M₅₃ + M₃₆*M₆₃ + M₃₇*M₇₃ + M₃₈*M₈₃ + M₄₃*M₃₄ + M₉₃*M₃₉ + M₃₃^2) + (M₁₀₃*M₅₁₀ + M₃₃*M₅₃ + M₄₃*M₅₄ + M₅₁*M₁₃ + M₅₂*M₂₃ + M₅₅*M₅₃ + M₅₆*M₆₃ + M₅₇*M₇₃ + M₈₃*M₅₈ + M₉₃*M₅₉)*(M₁₀₅*M₅₁₀ + M₃₅*M₅₃ + M₄₅*M₅₄ + M₅₁*M₁₅ + M₅₂*M₂₅ + M₅₆*M₆₅ + M₅₇*M₇₅ + M₈₅*M₅₈ + M₉₅*M₅₉ + M₅₅^2) + (M₁₀₇*M₅₁₀ + M₃₇*M₅₃ + M₄₇*M₅₄ + M₅₁*M₁₇ + M₅₂*M₂₇ + M₅₅*M₅₇ + M₅₆*M₆₇ + M₅₇*M₇₇ + M₈₇*M₅₈ + M₉₇*M₅₉)*(M₁₃*M₇₁ + M₂₃*M₇₂ + M₃₃*M₇₃ + M₄₃*M₇₄ + M₅₃*M₇₅ + M₇₁₀*M₁₀₃ + M₇₃*M₇₇ + M₇₆*M₆₃ + M₈₃*M₇₈ + M₉₃*M₇₉) + (M₁₀₈*M₅₁₀ + M₃₈*M₅₃ + M₄₈*M₅₄ + M₅₁*M₁₈ + M₅₂*M₂₈ + M₅₅*M₅₈ + M₅₆*M₆₈ + M₅₇*M₇₈ + M₈₈*M₅₈ + M₉₈*M₅₉)*(M₁₀₃*M₈₁₀ + M₃₃*M₈₃ + M₄₃*M₈₄ + M₈₁*M₁₃ + M₈₂*M₂₃ + M₈₃*M₈₈ + M₈₅*M₅₃ + M₈₆*M₆₃ + M₈₇*M₇₃ + M₉₃*M₈₉) + (M₁₀₉*M₅₁₀ + M₃₉*M₅₃ + M₄₉*M₅₄ + M₅₁*M₁₉ + M₅₂*M₂₉ + M₅₅*M₅₉ + M₅₆*M₆₉ + M₅₇*M₇₉ + M₈₉*M₅₈ + M₉₉*M₅₉)*(M₉₁*M₁₃ + M₉₁₀*M₁₀₃ + M₉₂*M₂₃ + M₉₃*M₃₃ + M₉₄*M₄₃ + M₉₅*M₅₃ + M₉₆*M₆₃ + M₉₇*M₇₃ + M₉₈*M₈₃ + M₉₉*M₉₃) + (M₁₀₁₀*M₅₁₀ + M₁₁₀*M₅₁ + M₂₁₀*M₅₂ + M₃₁₀*M₅₃ + M₄₁₀*M₅₄ + M₅₁₀*M₅₅ + M₆₁₀*M₅₆ + M₇₁₀*M₅₇ + M₈₁₀*M₅₈ + M₉₁₀*M₅₉)*(M₁₀₁*M₁₃ + M₁₀₁₀*M₁₀₃ + M₁₀₂*M₂₃ + M₁₀₃*M₃₃ + M₁₀₄*M₄₃ + M₁₀₅*M₅₃ + M₁₀₆*M₆₃ + M₁₀₇*M₇₃ + M₁₀₈*M₈₃ + M₁₀₉*M₉₃) + (M₁₃*M₆₁ + M₂₃*M₆₂ + M₃₃*M₆₃ + M₄₃*M₆₄ + M₅₃*M₆₅ + M₆₁₀*M₁₀₃ + M₆₃*M₆₆ + M₇₃*M₆₇ + M₈₃*M₆₈ + M₉₃*M₆₉)*(M₁₀₆*M₅₁₀ + M₃₆*M₅₃ + M₄₆*M₅₄ + M₅₁*M₁₆ + M₅₂*M₂₆ + M₅₆*M₅₅ + M₅₆*M₆₆ + M₅₇*M₇₆ + M₈₆*M₅₈ + M₉₆*M₅₉) + (M₄₁*M₁₃ + M₄₁₀*M₁₀₃ + M₄₂*M₂₃ + M₄₃*M₃₃ + M₄₄*M₄₃ + M₄₅*M₅₃ + M₄₆*M₆₃ + M₄₇*M₇₃ + M₄₈*M₈₃ + M₉₃*M₄₉)*(M₁₀₄*M₅₁₀ + M₃₄*M₅₃ + M₄₄*M₅₄ + M₅₁*M₁₄ + M₅₂*M₂₄ + M₅₅*M₅₄ + M₅₆*M₆₄ + M₅₇*M₇₄ + M₈₄*M₅₈ + M₉₄*M₅₉))*((M₁₀₁*M₂₁₀ + M₂₁*M₁₁ + M₂₂*M₂₁ + M₂₆*M₆₁ + M₂₇*M₇₁ + M₃₁*M₂₃ + M₄₁*M₂₄ + M₅₁*M₂₅ + M₈₁*M₂₈ + M₉₁*M₂₉)*(M₁₀₂*M₃₁₀ + M₃₁*M₁₂ + M₃₂*M₂₂ + M₃₂*M₃₃ + M₃₅*M₅₂ + M₃₆*M₆₂ + M₃₇*M₇₂ + M₃₈*M₈₂ + M₄₂*M₃₄ + M₉₂*M₃₉) + (M₁₀₁*M₃₁₀ + M₃₁*M₁₁ + M₃₁*M₃₃ + M₃₂*M₂₁ + M₃₅*M₅₁ + M₃₆*M₆₁ + M₃₇*M₇₁ + M₃₈*M₈₁ + M₄₁*M₃₄ + M₉₁*M₃₉)*(M₁₀₃*M₃₁₀ + M₃₁*M₁₃ + M₃₂*M₂₃ + M₃₅*M₅₃ + M₃₆*M₆₃ + M₃₇*M₇₃ + M₃₈*M₈₃ + M₄₃*M₃₄ + M₉₃*M₃₉ + M₃₃^2) + (M₁₀₁*M₃₁₀ + M₃₁*M₁₁ + M₃₁*M₃₃ + M₃₂*M₂₁ + M₃₅*M₅₁ + M₃₆*M₆₁ + M₃₇*M₇₁ + M₃₈*M₈₁ + M₄₁*M₃₄ + M₉₁*M₃₉)*(M₁₁₀*M₁₀₁ + M₁₆*M₆₁ + M₁₇*M₇₁ + M₂₁*M₁₂ + M₃₁*M₁₃ + M₄₁*M₁₄ + M₅₁*M₁₅ + M₈₁*M₁₈ + M₉₁*M₁₉ + M₁₁^2) + (M₁₀₁*M₅₁₀ + M₃₁*M₅₃ + M₄₁*M₅₄ + M₅₁*M₁₁ + M₅₂*M₂₁ + M₅₅*M₅₁ + M₅₆*M₆₁ + M₅₇*M₇₁ + M₈₁*M₅₈ + M₉₁*M₅₉)*(M₁₀₅*M₃₁₀ + M₃₁*M₁₅ + M₃₂*M₂₅ + M₃₅*M₃₃ + M₃₅*M₅₅ + M₃₆*M₆₅ + M₃₇*M₇₅ + M₃₈*M₈₅ + M₄₅*M₃₄ + M₉₅*M₃₉) + (M₁₀₁*M₈₁₀ + M₃₁*M₈₃ + M₄₁*M₈₄ + M₈₁*M₁₁ + M₈₁*M₈₈ + M₈₂*M₂₁ + M₈₅*M₅₁ + M₈₆*M₆₁ + M₈₇*M₇₁ + M₉₁*M₈₉)*(M₁₀₈*M₃₁₀ + M₃₁*M₁₈ + M₃₂*M₂₈ + M₃₃*M₃₈ + M₃₅*M₅₈ + M₃₆*M₆₈ + M₃₇*M₇₈ + M₃₈*M₈₈ + M₄₈*M₃₄ + M₉₈*M₃₉) + (M₁₀₇*M₃₁₀ + M₃₁*M₁₇ + M₃₂*M₂₇ + M₃₃*M₃₇ + M₃₅*M₅₇ + M₃₆*M₆₇ + M₃₇*M₇₇ + M₃₈*M₈₇ + M₄₇*M₃₄ + M₉₇*M₃₉)*(M₁₁*M₇₁ + M₂₁*M₇₂ + M₃₁*M₇₃ + M₄₁*M₇₄ + M₅₁*M₇₅ + M₇₁*M₇₇ + M₇₁₀*M₁₀₁ + M₇₆*M₆₁ + M₈₁*M₇₈ + M₉₁*M₇₉) + (M₁₀₉*M₃₁₀ + M₃₁*M₁₉ + M₃₂*M₂₉ + M₃₃*M₃₉ + M₃₅*M₅₉ + M₃₆*M₆₉ + M₃₇*M₇₉ + M₃₈*M₈₉ + M₄₉*M₃₄ + M₉₉*M₃₉)*(M₉₁*M₁₁ + M₉₁*M₉₉ + M₉₁₀*M₁₀₁ + M₉₂*M₂₁ + M₉₃*M₃₁ + M₉₄*M₄₁ + M₉₅*M₅₁ + M₉₆*M₆₁ + M₉₇*M₇₁ + M₉₈*M₈₁) + (M₁₀₁₀*M₃₁₀ + M₁₁₀*M₃₁ + M₂₁₀*M₃₂ + M₃₁₀*M₃₃ + M₄₁₀*M₃₄ + M₅₁₀*M₃₅ + M₆₁₀*M₃₆ + M₇₁₀*M₃₇ + M₈₁₀*M₃₈ + M₉₁₀*M₃₉)*(M₁₀₁*M₁₁ + M₁₀₁₀*M₁₀₁ + M₁₀₂*M₂₁ + M₁₀₃*M₃₁ + M₁₀₄*M₄₁ + M₁₀₅*M₅₁ + M₁₀₆*M₆₁ + M₁₀₇*M₇₁ + M₁₀₈*M₈₁ + M₁₀₉*M₉₁) + (M₁₁*M₆₁ + M₂₁*M₆₂ + M₃₁*M₆₃ + M₄₁*M₆₄ + M₅₁*M₆₅ + M₆₁*M₆₆ + M₆₁₀*M₁₀₁ + M₇₁*M₆₇ + M₈₁*M₆₈ + M₉₁*M₆₉)*(M₁₀₆*M₃₁₀ + M₃₁*M₁₆ + M₃₂*M₂₆ + M₃₅*M₅₆ + M₃₆*M₃₃ + M₃₆*M₆₆ + M₃₇*M₇₆ + M₃₈*M₈₆ + M₄₆*M₃₄ + M₉₆*M₃₉) + (M₄₁*M₁₁ + M₄₁*M₄₄ + M₄₁₀*M₁₀₁ + M₄₂*M₂₁ + M₄₃*M₃₁ + M₄₅*M₅₁ + M₄₆*M₆₁ + M₄₇*M₇₁ + M₄₈*M₈₁ + M₉₁*M₄₉)*(M₁₀₄*M₃₁₀ + M₃₁*M₁₄ + M₃₂*M₂₄ + M₃₃*M₃₄ + M₃₅*M₅₄ + M₃₆*M₆₄ + M₃₇*M₇₄ + M₃₈*M₈₄ + M₄₄*M₃₄ + M₉₄*M₃₉)) + ((M₁₀₁*M₅₁₀ + M₃₁*M₅₃ + M₄₁*M₅₄ + M₅₁*M₁₁ + M₅₂*M₂₁ + M₅₅*M₅₁ + M₅₆*M₆₁ + M₅₇*M₇₁ + M₈₁*M₅₈ + M₉₁*M₅₉)*(M₁₁*M₁₅ + M₁₁₀*M₁₀₅ + M₁₆*M₆₅ + M₁₇*M₇₅ + M₂₅*M₁₂ + M₃₅*M₁₃ + M₄₅*M₁₄ + M₅₅*M₁₅ + M₈₅*M₁₈ + M₉₅*M₁₉) + (M₁₀₃*M₅₁₀ + M₃₃*M₅₃ + M₄₃*M₅₄ + M₅₁*M₁₃ + M₅₂*M₂₃ + M₅₅*M₅₃ + M₅₆*M₆₃ + M₅₇*M₇₃ + M₈₃*M₅₈ + M₉₃*M₅₉)*(M₁₀₅*M₃₁₀ + M₃₁*M₁₅ + M₃₂*M₂₅ + M₃₅*M₃₃ + M₃₅*M₅₅ + M₃₆*M₆₅ + M₃₇*M₇₅ + M₃₈*M₈₅ + M₄₅*M₃₄ + M₉₅*M₃₉) + (M₁₀₅*M₂₁₀ + M₂₁*M₁₅ + M₂₂*M₂₅ + M₂₆*M₆₅ + M₂₇*M₇₅ + M₃₅*M₂₃ + M₄₅*M₂₄ + M₅₅*M₂₅ + M₈₅*M₂₈ + M₉₅*M₂₉)*(M₁₀₂*M₅₁₀ + M₃₂*M₅₃ + M₄₂*M₅₄ + M₅₁*M₁₂ + M₅₂*M₂₂ + M₅₅*M₅₂ + M₅₆*M₆₂ + M₅₇*M₇₂ + M₈₂*M₅₈ + M₉₂*M₅₉) + (M₁₀₇*M₅₁₀ + M₃₇*M₅₃ + M₄₇*M₅₄ + M₅₁*M₁₇ + M₅₂*M₂₇ + M₅₅*M₅₇ + M₅₆*M₆₇ + M₅₇*M₇₇ + M₈₇*M₅₈ + M₉₇*M₅₉)*(M₁₅*M₇₁ + M₂₅*M₇₂ + M₃₅*M₇₃ + M₄₅*M₇₄ + M₅₅*M₇₅ + M₇₁₀*M₁₀₅ + M₇₆*M₆₅ + M₇₇*M₇₅ + M₈₅*M₇₈ + M₉₅*M₇₉) + (M₁₀₈*M₅₁₀ + M₃₈*M₅₃ + M₄₈*M₅₄ + M₅₁*M₁₈ + M₅₂*M₂₈ + M₅₅*M₅₈ + M₅₆*M₆₈ + M₅₇*M₇₈ + M₈₈*M₅₈ + M₉₈*M₅₉)*(M₁₀₅*M₈₁₀ + M₃₅*M₈₃ + M₄₅*M₈₄ + M₈₁*M₁₅ + M₈₂*M₂₅ + M₈₅*M₅₅ + M₈₆*M₆₅ + M₈₇*M₇₅ + M₈₈*M₈₅ + M₉₅*M₈₉) + (M₁₀₉*M₅₁₀ + M₃₉*M₅₃ + M₄₉*M₅₄ + M₅₁*M₁₉ + M₅₂*M₂₉ + M₅₅*M₅₉ + M₅₆*M₆₉ + M₅₇*M₇₉ + M₈₉*M₅₈ + M₉₉*M₅₉)*(M₉₁*M₁₅ + M₉₁₀*M₁₀₅ + M₉₂*M₂₅ + M₉₃*M₃₅ + M₉₄*M₄₅ + M₉₅*M₅₅ + M₉₆*M₆₅ + M₉₇*M₇₅ + M₉₈*M₈₅ + M₉₉*M₉₅) + (M₁₀₁₀*M₅₁₀ + M₁₁₀*M₅₁ + M₂₁₀*M₅₂ + M₃₁₀*M₅₃ + M₄₁₀*M₅₄ + M₅₁₀*M₅₅ + M₆₁₀*M₅₆ + M₇₁₀*M₅₇ + M₈₁₀*M₅₈ + M₉₁₀*M₅₉)*(M₁₀₁*M₁₅ + M₁₀₁₀*M₁₀₅ + M₁₀₂*M₂₅ + M₁₀₃*M₃₅ + M₁₀₄*M₄₅ + M₁₀₅*M₅₅ + M₁₀₆*M₆₅ + M₁₀₇*M₇₅ + M₁₀₈*M₈₅ + M₁₀₉*M₉₅) + (M₁₅*M₆₁ + M₂₅*M₆₂ + M₃₅*M₆₃ + M₄₅*M₆₄ + M₅₅*M₆₅ + M₆₁₀*M₁₀₅ + M₆₅*M₆₆ + M₇₅*M₆₇ + M₈₅*M₆₈ + M₉₅*M₆₉)*(M₁₀₆*M₅₁₀ + M₃₆*M₅₃ + M₄₆*M₅₄ + M₅₁*M₁₆ + M₅₂*M₂₆ + M₅₆*M₅₅ + M₅₆*M₆₆ + M₅₇*M₇₆ + M₈₆*M₅₈ + M₉₆*M₅₉) + (M₄₁*M₁₅ + M₄₁₀*M₁₀₅ + M₄₂*M₂₅ + M₄₃*M₃₅ + M₄₅*M₄₄ + M₄₅*M₅₅ + M₄₆*M₆₅ + M₄₇*M₇₅ + M₄₈*M₈₅ + M₉₅*M₄₉)*(M₁₀₄*M₅₁₀ + M₃₄*M₅₃ + M₄₄*M₅₄ + M₅₁*M₁₄ + M₅₂*M₂₄ + M₅₅*M₅₄ + M₅₆*M₆₄ + M₅₇*M₇₄ + M₈₄*M₅₈ + M₉₄*M₅₉) + (M₁₀₅*M₅₁₀ + M₃₅*M₅₃ + M₄₅*M₅₄ + M₅₁*M₁₅ + M₅₂*M₂₅ + M₅₆*M₆₅ + M₅₇*M₇₅ + M₈₅*M₅₈ + M₉₅*M₅₉ + M₅₅^2)^2)*((M₁₀₁*M₂₁₀ + M₂₁*M₁₁ + M₂₂*M₂₁ + M₂₆*M₆₁ + M₂₇*M₇₁ + M₃₁*M₂₃ + M₄₁*M₂₄ + M₅₁*M₂₅ + M₈₁*M₂₈ + M₉₁*M₂₉)*(M₁₀₂*M₅₁₀ + M₃₂*M₅₃ + M₄₂*M₅₄ + M₅₁*M₁₂ + M₅₂*M₂₂ + M₅₅*M₅₂ + M₅₆*M₆₂ + M₅₇*M₇₂ + M₈₂*M₅₈ + M₉₂*M₅₉) + (M₁₀₁*M₅₁₀ + M₃₁*M₅₃ + M₄₁*M₅₄ + M₅₁*M₁₁ + M₅₂*M₂₁ + M₅₅*M₅₁ + M₅₆*M₆₁ + M₅₇*M₇₁ + M₈₁*M₅₈ + M₉₁*M₅₉)*(M₁₀₅*M₅₁₀ + M₃₅*M₅₃ + M₄₅*M₅₄ + M₅₁*M₁₅ + M₅₂*M₂₅ + M₅₆*M₆₅ + M₅₇*M₇₅ + M₈₅*M₅₈ + M₉₅*M₅₉ + M₅₅^2) + (M₁₀₁*M₅₁₀ + M₃₁*M₅₃ + M₄₁*M₅₄ + M₅₁*M₁₁ + M₅₂*M₂₁ + M₅₅*M₅₁ + M₅₆*M₆₁ + M₅₇*M₇₁ + M₈₁*M₅₈ + M₉₁*M₅₉)*(M₁₁₀*M₁₀₁ + M₁₆*M₆₁ + M₁₇*M₇₁ + M₂₁*M₁₂ + M₃₁*M₁₃ + M₄₁*M₁₄ + M₅₁*M₁₅ + M₈₁*M₁₈ + M₉₁*M₁₉ + M₁₁^2) + (M₁₀₃*M₅₁₀ + M₃₃*M₅₃ + M₄₃*M₅₄ + M₅₁*M₁₃ + M₅₂*M₂₃ + M₅₅*M₅₃ + M₅₆*M₆₃ + M₅₇*M₇₃ + M₈₃*M₅₈ + M₉₃*M₅₉)*(M₁₀₁*M₃₁₀ + M₃₁*M₁₁ + M₃₁*M₃₃ + M₃₂*M₂₁ + M₃₅*M₅₁ + M₃₆*M₆₁ + M₃₇*M₇₁ + M₃₈*M₈₁ + M₄₁*M₃₄ + M₉₁*M₃₉) + (M₁₀₇*M₅₁₀ + M₃₇*M₅₃ + M₄₇*M₅₄ + M₅₁*M₁₇ + M₅₂*M₂₇ + M₅₅*M₅₇ + M₅₆*M₆₇ + M₅₇*M₇₇ + M₈₇*M₅₈ + M₉₇*M₅₉)*(M₁₁*M₇₁ + M₂₁*M₇₂ + M₃₁*M₇₃ + M₄₁*M₇₄ + M₅₁*M₇₅ + M₇₁*M₇₇ + M₇₁₀*M₁₀₁ + M₇₆*M₆₁ + M₈₁*M₇₈ + M₉₁*M₇₉) + (M₁₀₈*M₅₁₀ + M₃₈*M₅₃ + M₄₈*M₅₄ + M₅₁*M₁₈ + M₅₂*M₂₈ + M₅₅*M₅₈ + M₅₆*M₆₈ + M₅₇*M₇₈ + M₈₈*M₅₈ + M₉₈*M₅₉)*(M₁₀₁*M₈₁₀ + M₃₁*M₈₃ + M₄₁*M₈₄ + M₈₁*M₁₁ + M₈₁*M₈₈ + M₈₂*M₂₁ + M₈₅*M₅₁ + M₈₆*M₆₁ + M₈₇*M₇₁ + M₉₁*M₈₉) + (M₁₀₉*M₅₁₀ + M₃₉*M₅₃ + M₄₉*M₅₄ + M₅₁*M₁₉ + M₅₂*M₂₉ + M₅₅*M₅₉ + M₅₆*M₆₉ + M₅₇*M₇₉ + M₈₉*M₅₈ + M₉₉*M₅₉)*(M₉₁*M₁₁ + M₉₁*M₉₉ + M₉₁₀*M₁₀₁ + M₉₂*M₂₁ + M₉₃*M₃₁ + M₉₄*M₄₁ + M₉₅*M₅₁ + M₉₆*M₆₁ + M₉₇*M₇₁ + M₉₈*M₈₁) + (M₁₀₁₀*M₅₁₀ + M₁₁₀*M₅₁ + M₂₁₀*M₅₂ + M₃₁₀*M₅₃ + M₄₁₀*M₅₄ + M₅₁₀*M₅₅ + M₆₁₀*M₅₆ + M₇₁₀*M₅₇ + M₈₁₀*M₅₈ + M₉₁₀*M₅₉)*(M₁₀₁*M₁₁ + M₁₀₁₀*M₁₀₁ + M₁₀₂*M₂₁ + M₁₀₃*M₃₁ + M₁₀₄*M₄₁ + M₁₀₅*M₅₁ + M₁₀₆*M₆₁ + M₁₀₇*M₇₁ + M₁₀₈*M₈₁ + M₁₀₉*M₉₁) + (M₁₁*M₆₁ + M₂₁*M₆₂ + M₃₁*M₆₃ + M₄₁*M₆₄ + M₅₁*M₆₅ + M₆₁*M₆₆ + M₆₁₀*M₁₀₁ + M₇₁*M₆₇ + M₈₁*M₆₈ + M₉₁*M₆₉)*(M₁₀₆*M₅₁₀ + M₃₆*M₅₃ + M₄₆*M₅₄ + M₅₁*M₁₆ + M₅₂*M₂₆ + M₅₆*M₅₅ + M₅₆*M₆₆ + M₅₇*M₇₆ + M₈₆*M₅₈ + M₉₆*M₅₉) + (M₄₁*M₁₁ + M₄₁*M₄₄ + M₄₁₀*M₁₀₁ + M₄₂*M₂₁ + M₄₃*M₃₁ + M₄₅*M₅₁ + M₄₆*M₆₁ + M₄₇*M₇₁ + M₄₈*M₈₁ + M₉₁*M₄₉)*(M₁₀₄*M₅₁₀ + M₃₄*M₅₃ + M₄₄*M₅₄ + M₅₁*M₁₄ + M₅₂*M₂₄ + M₅₅*M₅₄ + M₅₆*M₆₄ + M₅₇*M₇₄ + M₈₄*M₅₈ + M₉₄*M₅₉)) + ((M₁₀₁*M₅₁₀ + M₃₁*M₅₃ + M₄₁*M₅₄ + M₅₁*M₁₁ + M₅₂*M₂₁ + M₅₅*M₅₁ + M₅₆*M₆₁ + M₅₇*M₇₁ + M₈₁*M₅₈ + M₉₁*M₅₉)*(M₁₁*M₁₈ + M₁₁₀*M₁₀₈ + M₁₆*M₆₈ + M₁₇*M₇₈ + M₂₈*M₁₂ + M₃₈*M₁₃ + M₄₈*M₁₄ + M₅₈*M₁₅ + M₈₈*M₁₈ + M₉₈*M₁₉) + (M₁₀₃*M₅₁₀ + M₃₃*M₅₃ + M₄₃*M₅₄ + M₅₁*M₁₃ + M₅₂*M₂₃ + M₅₅*M₅₃ + M₅₆*M₆₃ + M₅₇*M₇₃ + M₈₃*M₅₈ + M₉₃*M₅₉)*(M₁₀₈*M₃₁₀ + M₃₁*M₁₈ + M₃₂*M₂₈ + M₃₃*M₃₈ + M₃₅*M₅₈ + M₃₆*M₆₈ + M₃₇*M₇₈ + M₃₈*M₈₈ + M₄₈*M₃₄ + M₉₈*M₃₉) + (M₁₀₇*M₅₁₀ + M₃₇*M₅₃ + M₄₇*M₅₄ + M₅₁*M₁₇ + M₅₂*M₂₇ + M₅₅*M₅₇ + M₅₆*M₆₇ + M₅₇*M₇₇ + M₈₇*M₅₈ + M₉₇*M₅₉)*(M₁₈*M₇₁ + M₂₈*M₇₂ + M₃₈*M₇₃ + M₄₈*M₇₄ + M₅₈*M₇₅ + M₇₁₀*M₁₀₈ + M₇₆*M₆₈ + M₇₈*M₇₇ + M₈₈*M₇₈ + M₉₈*M₇₉) + (M₁₀₈*M₂₁₀ + M₂₁*M₁₈ + M₂₂*M₂₈ + M₂₆*M₆₈ + M₂₇*M₇₈ + M₃₈*M₂₃ + M₄₈*M₂₄ + M₅₈*M₂₅ + M₈₈*M₂₈ + M₉₈*M₂₉)*(M₁₀₂*M₅₁₀ + M₃₂*M₅₃ + M₄₂*M₅₄ + M₅₁*M₁₂ + M₅₂*M₂₂ + M₅₅*M₅₂ + M₅₆*M₆₂ + M₅₇*M₇₂ + M₈₂*M₅₈ + M₉₂*M₅₉) + (M₁₀₈*M₅₁₀ + M₃₈*M₅₃ + M₄₈*M₅₄ + M₅₁*M₁₈ + M₅₂*M₂₈ + M₅₅*M₅₈ + M₅₆*M₆₈ + M₅₇*M₇₈ + M₈₈*M₅₈ + M₉₈*M₅₉)*(M₁₀₅*M₅₁₀ + M₃₅*M₅₃ + M₄₅*M₅₄ + M₅₁*M₁₅ + M₅₂*M₂₅ + M₅₆*M₆₅ + M₅₇*M₇₅ + M₈₅*M₅₈ + M₉₅*M₅₉ + M₅₅^2) + (M₁₀₈*M₅₁₀ + M₃₈*M₅₃ + M₄₈*M₅₄ + M₅₁*M₁₈ + M₅₂*M₂₈ + M₅₅*M₅₈ + M₅₆*M₆₈ + M₅₇*M₇₈ + M₈₈*M₅₈ + M₉₈*M₅₉)*(M₁₀₈*M₈₁₀ + M₃₈*M₈₃ + M₄₈*M₈₄ + M₈₁*M₁₈ + M₈₂*M₂₈ + M₈₅*M₅₈ + M₈₆*M₆₈ + M₈₇*M₇₈ + M₉₈*M₈₉ + M₈₈^2) + (M₁₀₉*M₅₁₀ + M₃₉*M₅₃ + M₄₉*M₅₄ + M₅₁*M₁₉ + M₅₂*M₂₉ + M₅₅*M₅₉ + M₅₆*M₆₉ + M₅₇*M₇₉ + M₈₉*M₅₈ + M₉₉*M₅₉)*(M₉₁*M₁₈ + M₉₁₀*M₁₀₈ + M₉₂*M₂₈ + M₉₃*M₃₈ + M₉₄*M₄₈ + M₉₅*M₅₈ + M₉₆*M₆₈ + M₉₇*M₇₈ + M₉₈*M₈₈ + M₉₈*M₉₉) + (M₁₀₁₀*M₅₁₀ + M₁₁₀*M₅₁ + M₂₁₀*M₅₂ + M₃₁₀*M₅₃ + M₄₁₀*M₅₄ + M₅₁₀*M₅₅ + M₆₁₀*M₅₆ + M₇₁₀*M₅₇ + M₈₁₀*M₅₈ + M₉₁₀*M₅₉)*(M₁₀₁*M₁₈ + M₁₀₁₀*M₁₀₈ + M₁₀₂*M₂₈ + M₁₀₃*M₃₈ + M₁₀₄*M₄₈ + M₁₀₅*M₅₈ + M₁₀₆*M₆₈ + M₁₀₇*M₇₈ + M₁₀₈*M₈₈ + M₁₀₉*M₉₈) + (M₁₈*M₆₁ + M₂₈*M₆₂ + M₃₈*M₆₃ + M₄₈*M₆₄ + M₅₈*M₆₅ + M₆₁₀*M₁₀₈ + M₆₆*M₆₈ + M₇₈*M₆₇ + M₈₈*M₆₈ + M₉₈*M₆₉)*(M₁₀₆*M₅₁₀ + M₃₆*M₅₃ + M₄₆*M₅₄ + M₅₁*M₁₆ + M₅₂*M₂₆ + M₅₆*M₅₅ + M₅₆*M₆₆ + M₅₇*M₇₆ + M₈₆*M₅₈ + M₉₆*M₅₉) + (M₄₁*M₁₈ + M₄₁₀*M₁₀₈ + M₄₂*M₂₈ + M₄₃*M₃₈ + M₄₄*M₄₈ + M₄₅*M₅₈ + M₄₆*M₆₈ + M₄₇*M₇₈ + M₄₈*M₈₈ + M₉₈*M₄₉)*(M₁₀₄*M₅₁₀ + M₃₄*M₅₃ + M₄₄*M₅₄ + M₅₁*M₁₄ + M₅₂*M₂₄ + M₅₅*M₅₄ + M₅₆*M₆₄ + M₅₇*M₇₄ + M₈₄*M₅₈ + M₉₄*M₅₉))*((M₁₀₁*M₂₁₀ + M₂₁*M₁₁ + M₂₂*M₂₁ + M₂₆*M₆₁ + M₂₇*M₇₁ + M₃₁*M₂₃ + M₄₁*M₂₄ + M₅₁*M₂₅ + M₈₁*M₂₈ + M₉₁*M₂₉)*(M₁₀₂*M₈₁₀ + M₃₂*M₈₃ + M₄₂*M₈₄ + M₈₁*M₁₂ + M₈₂*M₂₂ + M₈₂*M₈₈ + M₈₅*M₅₂ + M₈₆*M₆₂ + M₈₇*M₇₂ + M₉₂*M₈₉) + (M₁₀₁*M₅₁₀ + M₃₁*M₅₃ + M₄₁*M₅₄ + M₅₁*M₁₁ + M₅₂*M₂₁ + M₅₅*M₅₁ + M₅₆*M₆₁ + M₅₇*M₇₁ + M₈₁*M₅₈ + M₉₁*M₅₉)*(M₁₀₅*M₈₁₀ + M₃₅*M₈₃ + M₄₅*M₈₄ + M₈₁*M₁₅ + M₈₂*M₂₅ + M₈₅*M₅₅ + M₈₆*M₆₅ + M₈₇*M₇₅ + M₈₈*M₈₅ + M₉₅*M₈₉) + (M₁₀₁*M₈₁₀ + M₃₁*M₈₃ + M₄₁*M₈₄ + M₈₁*M₁₁ + M₈₁*M₈₈ + M₈₂*M₂₁ + M₈₅*M₅₁ + M₈₆*M₆₁ + M₈₇*M₇₁ + M₉₁*M₈₉)*(M₁₀₈*M₈₁₀ + M₃₈*M₈₃ + M₄₈*M₈₄ + M₈₁*M₁₈ + M₈₂*M₂₈ + M₈₅*M₅₈ + M₈₆*M₆₈ + M₈₇*M₇₈ + M₉₈*M₈₉ + M₈₈^2) + (M₁₀₁*M₈₁₀ + M₃₁*M₈₃ + M₄₁*M₈₄ + M₈₁*M₁₁ + M₈₁*M₈₈ + M₈₂*M₂₁ + M₈₅*M₅₁ + M₈₆*M₆₁ + M₈₇*M₇₁ + M₉₁*M₈₉)*(M₁₁₀*M₁₀₁ + M₁₆*M₆₁ + M₁₇*M₇₁ + M₂₁*M₁₂ + M₃₁*M₁₃ + M₄₁*M₁₄ + M₅₁*M₁₅ + M₈₁*M₁₈ + M₉₁*M₁₉ + M₁₁^2) + (M₁₀₃*M₈₁₀ + M₃₃*M₈₃ + M₄₃*M₈₄ + M₈₁*M₁₃ + M₈₂*M₂₃ + M₈₃*M₈₈ + M₈₅*M₅₃ + M₈₆*M₆₃ + M₈₇*M₇₃ + M₉₃*M₈₉)*(M₁₀₁*M₃₁₀ + M₃₁*M₁₁ + M₃₁*M₃₃ + M₃₂*M₂₁ + M₃₅*M₅₁ + M₃₆*M₆₁ + M₃₇*M₇₁ + M₃₈*M₈₁ + M₄₁*M₃₄ + M₉₁*M₃₉) + (M₁₀₇*M₈₁₀ + M₃₇*M₈₃ + M₄₇*M₈₄ + M₈₁*M₁₇ + M₈₂*M₂₇ + M₈₅*M₅₇ + M₈₆*M₆₇ + M₈₇*M₇₇ + M₈₇*M₈₈ + M₉₇*M₈₉)*(M₁₁*M₇₁ + M₂₁*M₇₂ + M₃₁*M₇₃ + M₄₁*M₇₄ + M₅₁*M₇₅ + M₇₁*M₇₇ + M₇₁₀*M₁₀₁ + M₇₆*M₆₁ + M₈₁*M₇₈ + M₉₁*M₇₉) + (M₁₀₉*M₈₁₀ + M₃₉*M₈₃ + M₄₉*M₈₄ + M₈₁*M₁₉ + M₈₂*M₂₉ + M₈₅*M₅₉ + M₈₆*M₆₉ + M₈₇*M₇₉ + M₈₉*M₈₈ + M₉₉*M₈₉)*(M₉₁*M₁₁ + M₉₁*M₉₉ + M₉₁₀*M₁₀₁ + M₉₂*M₂₁ + M₉₃*M₃₁ + M₉₄*M₄₁ + M₉₅*M₅₁ + M₉₆*M₆₁ + M₉₇*M₇₁ + M₉₈*M₈₁) + (M₁₀₁₀*M₈₁₀ + M₁₁₀*M₈₁ + M₂₁₀*M₈₂ + M₃₁₀*M₈₃ + M₄₁₀*M₈₄ + M₅₁₀*M₈₅ + M₆₁₀*M₈₆ + M₇₁₀*M₈₇ + M₈₁₀*M₈₈ + M₉₁₀*M₈₉)*(M₁₀₁*M₁₁ + M₁₀₁₀*M₁₀₁ + M₁₀₂*M₂₁ + M₁₀₃*M₃₁ + M₁₀₄*M₄₁ + M₁₀₅*M₅₁ + M₁₀₆*M₆₁ + M₁₀₇*M₇₁ + M₁₀₈*M₈₁ + M₁₀₉*M₉₁) + (M₁₁*M₆₁ + M₂₁*M₆₂ + M₃₁*M₆₃ + M₄₁*M₆₄ + M₅₁*M₆₅ + M₆₁*M₆₆ + M₆₁₀*M₁₀₁ + M₇₁*M₆₇ + M₈₁*M₆₈ + M₉₁*M₆₉)*(M₁₀₆*M₈₁₀ + M₃₆*M₈₃ + M₄₆*M₈₄ + M₈₁*M₁₆ + M₈₂*M₂₆ + M₈₅*M₅₆ + M₈₆*M₆₆ + M₈₇*M₇₆ + M₈₈*M₈₆ + M₉₆*M₈₉) + (M₄₁*M₁₁ + M₄₁*M₄₄ + M₄₁₀*M₁₀₁ + M₄₂*M₂₁ + M₄₃*M₃₁ + M₄₅*M₅₁ + M₄₆*M₆₁ + M₄₇*M₇₁ + M₄₈*M₈₁ + M₉₁*M₄₉)*(M₁₀₄*M₈₁₀ + M₃₄*M₈₃ + M₄₄*M₈₄ + M₈₁*M₁₄ + M₈₂*M₂₄ + M₈₄*M₈₈ + M₈₅*M₅₄ + M₈₆*M₆₄ + M₈₇*M₇₄ + M₉₄*M₈₉)) + ((M₁₀₁*M₅₁₀ + M₃₁*M₅₃ + M₄₁*M₅₄ + M₅₁*M₁₁ + M₅₂*M₂₁ + M₅₅*M₅₁ + M₅₆*M₆₁ + M₅₇*M₇₁ + M₈₁*M₅₈ + M₉₁*M₅₉)*(M₁₁*M₁₉ + M₁₁₀*M₁₀₉ + M₁₆*M₆₉ + M₁₇*M₇₉ + M₂₉*M₁₂ + M₃₉*M₁₃ + M₄₉*M₁₄ + M₅₉*M₁₅ + M₈₉*M₁₈ + M₉₉*M₁₉) + (M₁₀₃*M₅₁₀ + M₃₃*M₅₃ + M₄₃*M₅₄ + M₅₁*M₁₃ + M₅₂*M₂₃ + M₅₅*M₅₃ + M₅₆*M₆₃ + M₅₇*M₇₃ + M₈₃*M₅₈ + M₉₃*M₅₉)*(M₁₀₉*M₃₁₀ + M₃₁*M₁₉ + M₃₂*M₂₉ + M₃₃*M₃₉ + M₃₅*M₅₉ + M₃₆*M₆₉ + M₃₇*M₇₉ + M₃₈*M₈₉ + M₄₉*M₃₄ + M₉₉*M₃₉) + (M₁₀₇*M₅₁₀ + M₃₇*M₅₃ + M₄₇*M₅₄ + M₅₁*M₁₇ + M₅₂*M₂₇ + M₅₅*M₅₇ + M₅₆*M₆₇ + M₅₇*M₇₇ + M₈₇*M₅₈ + M₉₇*M₅₉)*(M₁₉*M₇₁ + M₂₉*M₇₂ + M₃₉*M₇₃ + M₄₉*M₇₄ + M₅₉*M₇₅ + M₇₁₀*M₁₀₉ + M₇₆*M₆₉ + M₇₇*M₇₉ + M₈₉*M₇₈ + M₉₉*M₇₉) + (M₁₀₈*M₅₁₀ + M₃₈*M₅₃ + M₄₈*M₅₄ + M₅₁*M₁₈ + M₅₂*M₂₈ + M₅₅*M₅₈ + M₅₆*M₆₈ + M₅₇*M₇₈ + M₈₈*M₅₈ + M₉₈*M₅₉)*(M₁₀₉*M₈₁₀ + M₃₉*M₈₃ + M₄₉*M₈₄ + M₈₁*M₁₉ + M₈₂*M₂₉ + M₈₅*M₅₉ + M₈₆*M₆₉ + M₈₇*M₇₉ + M₈₉*M₈₈ + M₉₉*M₈₉) + (M₁₀₉*M₂₁₀ + M₂₁*M₁₉ + M₂₂*M₂₉ + M₂₆*M₆₉ + M₂₇*M₇₉ + M₃₉*M₂₃ + M₄₉*M₂₄ + M₅₉*M₂₅ + M₈₉*M₂₈ + M₉₉*M₂₉)*(M₁₀₂*M₅₁₀ + M₃₂*M₅₃ + M₄₂*M₅₄ + M₅₁*M₁₂ + M₅₂*M₂₂ + M₅₅*M₅₂ + M₅₆*M₆₂ + M₅₇*M₇₂ + M₈₂*M₅₈ + M₉₂*M₅₉) + (M₁₀₉*M₅₁₀ + M₃₉*M₅₃ + M₄₉*M₅₄ + M₅₁*M₁₉ + M₅₂*M₂₉ + M₅₅*M₅₉ + M₅₆*M₆₉ + M₅₇*M₇₉ + M₈₉*M₅₈ + M₉₉*M₅₉)*(M₁₀₅*M₅₁₀ + M₃₅*M₅₃ + M₄₅*M₅₄ + M₅₁*M₁₅ + M₅₂*M₂₅ + M₅₆*M₆₅ + M₅₇*M₇₅ + M₈₅*M₅₈ + M₉₅*M₅₉ + M₅₅^2) + (M₁₀₉*M₅₁₀ + M₃₉*M₅₃ + M₄₉*M₅₄ + M₅₁*M₁₉ + M₅₂*M₂₉ + M₅₅*M₅₉ + M₅₆*M₆₉ + M₅₇*M₇₉ + M₈₉*M₅₈ + M₉₉*M₅₉)*(M₉₁*M₁₉ + M₉₁₀*M₁₀₉ + M₉₂*M₂₉ + M₉₃*M₃₉ + M₉₄*M₄₉ + M₉₅*M₅₉ + M₉₆*M₆₉ + M₉₇*M₇₉ + M₉₈*M₈₉ + M₉₉^2) + (M₁₀₁₀*M₅₁₀ + M₁₁₀*M₅₁ + M₂₁₀*M₅₂ + M₃₁₀*M₅₃ + M₄₁₀*M₅₄ + M₅₁₀*M₅₅ + M₆₁₀*M₅₆ + M₇₁₀*M₅₇ + M₈₁₀*M₅₈ + M₉₁₀*M₅₉)*(M₁₀₁*M₁₉ + M₁₀₁₀*M₁₀₉ + M₁₀₂*M₂₉ + M₁₀₃*M₃₉ + M₁₀₄*M₄₉ + M₁₀₅*M₅₉ + M₁₀₆*M₆₉ + M₁₀₇*M₇₉ + M₁₀₈*M₈₉ + M₁₀₉*M₉₉) + (M₁₉*M₆₁ + M₂₉*M₆₂ + M₃₉*M₆₃ + M₄₉*M₆₄ + M₅₉*M₆₅ + M₆₁₀*M₁₀₉ + M₆₉*M₆₆ + M₇₉*M₆₇ + M₈₉*M₆₈ + M₉₉*M₆₉)*(M₁₀₆*M₅₁₀ + M₃₆*M₅₃ + M₄₆*M₅₄ + M₅₁*M₁₆ + M₅₂*M₂₆ + M₅₆*M₅₅ + M₅₆*M₆₆ + M₅₇*M₇₆ + M₈₆*M₅₈ + M₉₆*M₅₉) + (M₄₁*M₁₉ + M₄₁₀*M₁₀₉ + M₄₂*M₂₉ + M₄₃*M₃₉ + M₄₄*M₄₉ + M₄₅*M₅₉ + M₄₆*M₆₉ + M₄₇*M₇₉ + M₄₈*M₈₉ + M₉₉*M₄₉)*(M₁₀₄*M₅₁₀ + M₃₄*M₅₃ + M₄₄*M₅₄ + M₅₁*M₁₄ + M₅₂*M₂₄ + M₅₅*M₅₄ + M₅₆*M₆₄ + M₅₇*M₇₄ + M₈₄*M₅₈ + M₉₄*M₅₉))*((M₁₀₁*M₂₁₀ + M₂₁*M₁₁ + M₂₂*M₂₁ + M₂₆*M₆₁ + M₂₇*M₇₁ + M₃₁*M₂₃ + M₄₁*M₂₄ + M₅₁*M₂₅ + M₈₁*M₂₈ + M₉₁*M₂₉)*(M₉₁*M₁₂ + M₉₁₀*M₁₀₂ + M₉₂*M₂₂ + M₉₃*M₃₂ + M₉₄*M₄₂ + M₉₅*M₅₂ + M₉₆*M₆₂ + M₉₇*M₇₂ + M₉₈*M₈₂ + M₉₉*M₉₂) + (M₁₀₁*M₃₁₀ + M₃₁*M₁₁ + M₃₁*M₃₃ + M₃₂*M₂₁ + M₃₅*M₅₁ + M₃₆*M₆₁ + M₃₇*M₇₁ + M₃₈*M₈₁ + M₄₁*M₃₄ + M₉₁*M₃₉)*(M₉₁*M₁₃ + M₉₁₀*M₁₀₃ + M₉₂*M₂₃ + M₉₃*M₃₃ + M₉₄*M₄₃ + M₉₅*M₅₃ + M₉₆*M₆₃ + M₉₇*M₇₃ + M₉₈*M₈₃ + M₉₉*M₉₃) + (M₁₀₁*M₅₁₀ + M₃₁*M₅₃ + M₄₁*M₅₄ + M₅₁*M₁₁ + M₅₂*M₂₁ + M₅₅*M₅₁ + M₅₆*M₆₁ + M₅₇*M₇₁ + M₈₁*M₅₈ + M₉₁*M₅₉)*(M₉₁*M₁₅ + M₉₁₀*M₁₀₅ + M₉₂*M₂₅ + M₉₃*M₃₅ + M₉₄*M₄₅ + M₉₅*M₅₅ + M₉₆*M₆₅ + M₉₇*M₇₅ + M₉₈*M₈₅ + M₉₉*M₉₅) + (M₁₀₁*M₈₁₀ + M₃₁*M₈₃ + M₄₁*M₈₄ + M₈₁*M₁₁ + M₈₁*M₈₈ + M₈₂*M₂₁ + M₈₅*M₅₁ + M₈₆*M₆₁ + M₈₇*M₇₁ + M₉₁*M₈₉)*(M₉₁*M₁₈ + M₉₁₀*M₁₀₈ + M₉₂*M₂₈ + M₉₃*M₃₈ + M₉₄*M₄₈ + M₉₅*M₅₈ + M₉₆*M₆₈ + M₉₇*M₇₈ + M₉₈*M₈₈ + M₉₈*M₉₉) + (M₁₁₀*M₁₀₁ + M₁₆*M₆₁ + M₁₇*M₇₁ + M₂₁*M₁₂ + M₃₁*M₁₃ + M₄₁*M₁₄ + M₅₁*M₁₅ + M₈₁*M₁₈ + M₉₁*M₁₉ + M₁₁^2)*(M₉₁*M₁₁ + M₉₁*M₉₉ + M₉₁₀*M₁₀₁ + M₉₂*M₂₁ + M₉₃*M₃₁ + M₉₄*M₄₁ + M₉₅*M₅₁ + M₉₆*M₆₁ + M₉₇*M₇₁ + M₉₈*M₈₁) + (M₁₀₁₀*M₉₁₀ + M₁₁₀*M₉₁ + M₂₁₀*M₉₂ + M₃₁₀*M₉₃ + M₄₁₀*M₉₄ + M₅₁₀*M₉₅ + M₆₁₀*M₉₆ + M₇₁₀*M₉₇ + M₈₁₀*M₉₈ + M₉₁₀*M₉₉)*(M₁₀₁*M₁₁ + M₁₀₁₀*M₁₀₁ + M₁₀₂*M₂₁ + M₁₀₃*M₃₁ + M₁₀₄*M₄₁ + M₁₀₅*M₅₁ + M₁₀₆*M₆₁ + M₁₀₇*M₇₁ + M₁₀₈*M₈₁ + M₁₀₉*M₉₁) + (M₁₁*M₆₁ + M₂₁*M₆₂ + M₃₁*M₆₃ + M₄₁*M₆₄ + M₅₁*M₆₅ + M₆₁*M₆₆ + M₆₁₀*M₁₀₁ + M₇₁*M₆₇ + M₈₁*M₆₈ + M₉₁*M₆₉)*(M₉₁*M₁₆ + M₉₁₀*M₁₀₆ + M₉₂*M₂₆ + M₉₃*M₃₆ + M₉₄*M₄₆ + M₉₅*M₅₆ + M₉₆*M₆₆ + M₉₆*M₉₉ + M₉₇*M₇₆ + M₉₈*M₈₆) + (M₄₁*M₁₁ + M₄₁*M₄₄ + M₄₁₀*M₁₀₁ + M₄₂*M₂₁ + M₄₃*M₃₁ + M₄₅*M₅₁ + M₄₆*M₆₁ + M₄₇*M₇₁ + M₄₈*M₈₁ + M₉₁*M₄₉)*(M₉₁*M₁₄ + M₉₁₀*M₁₀₄ + M₉₂*M₂₄ + M₉₃*M₃₄ + M₉₄*M₄₄ + M₉₅*M₅₄ + M₉₆*M₆₄ + M₉₇*M₇₄ + M₉₈*M₈₄ + M₉₉*M₉₄) + (M₉₁*M₁₇ + M₉₁₀*M₁₀₇ + M₉₂*M₂₇ + M₉₃*M₃₇ + M₉₄*M₄₇ + M₉₅*M₅₇ + M₉₆*M₆₇ + M₉₇*M₇₇ + M₉₇*M₉₉ + M₉₈*M₈₇)*(M₁₁*M₇₁ + M₂₁*M₇₂ + M₃₁*M₇₃ + M₄₁*M₇₄ + M₅₁*M₇₅ + M₇₁*M₇₇ + M₇₁₀*M₁₀₁ + M₇₆*M₆₁ + M₈₁*M₇₈ + M₉₁*M₇₉) + (M₉₁*M₁₉ + M₉₁₀*M₁₀₉ + M₉₂*M₂₉ + M₉₃*M₃₉ + M₉₄*M₄₉ + M₉₅*M₅₉ + M₉₆*M₆₉ + M₉₇*M₇₉ + M₉₈*M₈₉ + M₉₉^2)*(M₉₁*M₁₁ + M₉₁*M₉₉ + M₉₁₀*M₁₀₁ + M₉₂*M₂₁ + M₉₃*M₃₁ + M₉₄*M₄₁ + M₉₅*M₅₁ + M₉₆*M₆₁ + M₉₇*M₇₁ + M₉₈*M₈₁)) + ((M₁₀₁₀*M₆₁₀ + M₁₁₀*M₆₁ + M₂₁₀*M₆₂ + M₃₁₀*M₆₃ + M₄₁₀*M₆₄ + M₅₁₀*M₆₅ + M₆₁₀*M₆₆ + M₇₁₀*M₆₇ + M₈₁₀*M₆₈ + M₉₁₀*M₆₉)*(M₁₀₁*M₁₁ + M₁₀₁₀*M₁₀₁ + M₁₀₂*M₂₁ + M₁₀₃*M₃₁ + M₁₀₄*M₄₁ + M₁₀₅*M₅₁ + M₁₀₆*M₆₁ + M₁₀₇*M₇₁ + M₁₀₈*M₈₁ + M₁₀₉*M₉₁) + (M₁₁*M₆₁ + M₂₁*M₆₂ + M₃₁*M₆₃ + M₄₁*M₆₄ + M₅₁*M₆₅ + M₆₁*M₆₆ + M₆₁₀*M₁₀₁ + M₇₁*M₆₇ + M₈₁*M₆₈ + M₉₁*M₆₉)*(M₁₁₀*M₁₀₁ + M₁₆*M₆₁ + M₁₇*M₇₁ + M₂₁*M₁₂ + M₃₁*M₁₃ + M₄₁*M₁₄ + M₅₁*M₁₅ + M₈₁*M₁₈ + M₉₁*M₁₉ + M₁₁^2) + (M₁₁*M₆₁ + M₂₁*M₆₂ + M₃₁*M₆₃ + M₄₁*M₆₄ + M₅₁*M₆₅ + M₆₁*M₆₆ + M₆₁₀*M₁₀₁ + M₇₁*M₆₇ + M₈₁*M₆₈ + M₉₁*M₆₉)*(M₁₆*M₆₁ + M₂₆*M₆₂ + M₃₆*M₆₃ + M₄₆*M₆₄ + M₅₆*M₆₅ + M₆₁₀*M₁₀₆ + M₇₆*M₆₇ + M₈₆*M₆₈ + M₉₆*M₆₉ + M₆₆^2) + (M₁₂*M₆₁ + M₂₂*M₆₂ + M₃₂*M₆₃ + M₄₂*M₆₄ + M₅₂*M₆₅ + M₆₁₀*M₁₀₂ + M₆₂*M₆₆ + M₇₂*M₆₇ + M₈₂*M₆₈ + M₉₂*M₆₉)*(M₁₀₁*M₂₁₀ + M₂₁*M₁₁ + M₂₂*M₂₁ + M₂₆*M₆₁ + M₂₇*M₇₁ + M₃₁*M₂₃ + M₄₁*M₂₄ + M₅₁*M₂₅ + M₈₁*M₂₈ + M₉₁*M₂₉) + (M₁₃*M₆₁ + M₂₃*M₆₂ + M₃₃*M₆₃ + M₄₃*M₆₄ + M₅₃*M₆₅ + M₆₁₀*M₁₀₃ + M₆₃*M₆₆ + M₇₃*M₆₇ + M₈₃*M₆₈ + M₉₃*M₆₉)*(M₁₀₁*M₃₁₀ + M₃₁*M₁₁ + M₃₁*M₃₃ + M₃₂*M₂₁ + M₃₅*M₅₁ + M₃₆*M₆₁ + M₃₇*M₇₁ + M₃₈*M₈₁ + M₄₁*M₃₄ + M₉₁*M₃₉) + (M₁₄*M₆₁ + M₂₄*M₆₂ + M₃₄*M₆₃ + M₄₄*M₆₄ + M₅₄*M₆₅ + M₆₁₀*M₁₀₄ + M₆₄*M₆₆ + M₇₄*M₆₇ + M₈₄*M₆₈ + M₉₄*M₆₉)*(M₄₁*M₁₁ + M₄₁*M₄₄ + M₄₁₀*M₁₀₁ + M₄₂*M₂₁ + M₄₃*M₃₁ + M₄₅*M₅₁ + M₄₆*M₆₁ + M₄₇*M₇₁ + M₄₈*M₈₁ + M₉₁*M₄₉) + (M₁₅*M₆₁ + M₂₅*M₆₂ + M₃₅*M₆₃ + M₄₅*M₆₄ + M₅₅*M₆₅ + M₆₁₀*M₁₀₅ + M₆₅*M₆₆ + M₇₅*M₆₇ + M₈₅*M₆₈ + M₉₅*M₆₉)*(M₁₀₁*M₅₁₀ + M₃₁*M₅₃ + M₄₁*M₅₄ + M₅₁*M₁₁ + M₅₂*M₂₁ + M₅₅*M₅₁ + M₅₆*M₆₁ + M₅₇*M₇₁ + M₈₁*M₅₈ + M₉₁*M₅₉) + (M₁₇*M₆₁ + M₂₇*M₆₂ + M₃₇*M₆₃ + M₄₇*M₆₄ + M₅₇*M₆₅ + M₆₁₀*M₁₀₇ + M₆₆*M₆₇ + M₇₇*M₆₇ + M₈₇*M₆₈ + M₉₇*M₆₉)*(M₁₁*M₇₁ + M₂₁*M₇₂ + M₃₁*M₇₃ + M₄₁*M₇₄ + M₅₁*M₇₅ + M₇₁*M₇₇ + M₇₁₀*M₁₀₁ + M₇₆*M₆₁ + M₈₁*M₇₈ + M₉₁*M₇₉) + (M₁₈*M₆₁ + M₂₈*M₆₂ + M₃₈*M₆₃ + M₄₈*M₆₄ + M₅₈*M₆₅ + M₆₁₀*M₁₀₈ + M₆₆*M₆₈ + M₇₈*M₆₇ + M₈₈*M₆₈ + M₉₈*M₆₉)*(M₁₀₁*M₈₁₀ + M₃₁*M₈₃ + M₄₁*M₈₄ + M₈₁*M₁₁ + M₈₁*M₈₈ + M₈₂*M₂₁ + M₈₅*M₅₁ + M₈₆*M₆₁ + M₈₇*M₇₁ + M₉₁*M₈₉) + (M₁₉*M₆₁ + M₂₉*M₆₂ + M₃₉*M₆₃ + M₄₉*M₆₄ + M₅₉*M₆₅ + M₆₁₀*M₁₀₉ + M₆₉*M₆₆ + M₇₉*M₆₇ + M₈₉*M₆₈ + M₉₉*M₆₉)*(M₉₁*M₁₁ + M₉₁*M₉₉ + M₉₁₀*M₁₀₁ + M₉₂*M₂₁ + M₉₃*M₃₁ + M₉₄*M₄₁ + M₉₅*M₅₁ + M₉₆*M₆₁ + M₉₇*M₇₁ + M₉₈*M₈₁))*((M₁₀₁*M₅₁₀ + M₃₁*M₅₃ + M₄₁*M₅₄ + M₅₁*M₁₁ + M₅₂*M₂₁ + M₅₅*M₅₁ + M₅₆*M₆₁ + M₅₇*M₇₁ + M₈₁*M₅₈ + M₉₁*M₅₉)*(M₁₁*M₁₆ + M₁₁₀*M₁₀₆ + M₁₆*M₆₆ + M₁₇*M₇₆ + M₂₆*M₁₂ + M₃₆*M₁₃ + M₄₆*M₁₄ + M₅₆*M₁₅ + M₈₆*M₁₈ + M₉₆*M₁₉) + (M₁₀₃*M₅₁₀ + M₃₃*M₅₃ + M₄₃*M₅₄ + M₅₁*M₁₃ + M₅₂*M₂₃ + M₅₅*M₅₃ + M₅₆*M₆₃ + M₅₇*M₇₃ + M₈₃*M₅₈ + M₉₃*M₅₉)*(M₁₀₆*M₃₁₀ + M₃₁*M₁₆ + M₃₂*M₂₆ + M₃₅*M₅₆ + M₃₆*M₃₃ + M₃₆*M₆₆ + M₃₇*M₇₆ + M₃₈*M₈₆ + M₄₆*M₃₄ + M₉₆*M₃₉) + (M₁₀₆*M₂₁₀ + M₂₁*M₁₆ + M₂₂*M₂₆ + M₂₆*M₆₆ + M₂₇*M₇₆ + M₃₆*M₂₃ + M₄₆*M₂₄ + M₅₆*M₂₅ + M₈₆*M₂₈ + M₉₆*M₂₉)*(M₁₀₂*M₅₁₀ + M₃₂*M₅₃ + M₄₂*M₅₄ + M₅₁*M₁₂ + M₅₂*M₂₂ + M₅₅*M₅₂ + M₅₆*M₆₂ + M₅₇*M₇₂ + M₈₂*M₅₈ + M₉₂*M₅₉) + (M₁₀₆*M₅₁₀ + M₃₆*M₅₃ + M₄₆*M₅₄ + M₅₁*M₁₆ + M₅₂*M₂₆ + M₅₆*M₅₅ + M₅₆*M₆₆ + M₅₇*M₇₆ + M₈₆*M₅₈ + M₉₆*M₅₉)*(M₁₀₅*M₅₁₀ + M₃₅*M₅₃ + M₄₅*M₅₄ + M₅₁*M₁₅ + M₅₂*M₂₅ + M₅₆*M₆₅ + M₅₇*M₇₅ + M₈₅*M₅₈ + M₉₅*M₅₉ + M₅₅^2) + (M₁₀₇*M₅₁₀ + M₃₇*M₅₃ + M₄₇*M₅₄ + M₅₁*M₁₇ + M₅₂*M₂₇ + M₅₅*M₅₇ + M₅₆*M₆₇ + M₅₇*M₇₇ + M₈₇*M₅₈ + M₉₇*M₅₉)*(M₁₆*M₇₁ + M₂₆*M₇₂ + M₃₆*M₇₃ + M₄₆*M₇₄ + M₅₆*M₇₅ + M₇₁₀*M₁₀₆ + M₇₆*M₆₆ + M₇₇*M₇₆ + M₈₆*M₇₈ + M₉₆*M₇₉) + (M₁₀₈*M₅₁₀ + M₃₈*M₅₃ + M₄₈*M₅₄ + M₅₁*M₁₈ + M₅₂*M₂₈ + M₅₅*M₅₈ + M₅₆*M₆₈ + M₅₇*M₇₈ + M₈₈*M₅₈ + M₉₈*M₅₉)*(M₁₀₆*M₈₁₀ + M₃₆*M₈₃ + M₄₆*M₈₄ + M₈₁*M₁₆ + M₈₂*M₂₆ + M₈₅*M₅₆ + M₈₆*M₆₆ + M₈₇*M₇₆ + M₈₈*M₈₆ + M₉₆*M₈₉) + (M₁₀₉*M₅₁₀ + M₃₉*M₅₃ + M₄₉*M₅₄ + M₅₁*M₁₉ + M₅₂*M₂₉ + M₅₅*M₅₉ + M₅₆*M₆₉ + M₅₇*M₇₉ + M₈₉*M₅₈ + M₉₉*M₅₉)*(M₉₁*M₁₆ + M₉₁₀*M₁₀₆ + M₉₂*M₂₆ + M₉₃*M₃₆ + M₉₄*M₄₆ + M₉₅*M₅₆ + M₉₆*M₆₆ + M₉₆*M₉₉ + M₉₇*M₇₆ + M₉₈*M₈₆) + (M₁₀₁₀*M₅₁₀ + M₁₁₀*M₅₁ + M₂₁₀*M₅₂ + M₃₁₀*M₅₃ + M₄₁₀*M₅₄ + M₅₁₀*M₅₅ + M₆₁₀*M₅₆ + M₇₁₀*M₅₇ + M₈₁₀*M₅₈ + M₉₁₀*M₅₉)*(M₁₀₁*M₁₆ + M₁₀₁₀*M₁₀₆ + M₁₀₂*M₂₆ + M₁₀₃*M₃₆ + M₁₀₄*M₄₆ + M₁₀₅*M₅₆ + M₁₀₆*M₆₆ + M₁₀₇*M₇₆ + M₁₀₈*M₈₆ + M₁₀₉*M₉₆) + (M₁₆*M₆₁ + M₂₆*M₆₂ + M₃₆*M₆₃ + M₄₆*M₆₄ + M₅₆*M₆₅ + M₆₁₀*M₁₀₆ + M₇₆*M₆₇ + M₈₆*M₆₈ + M₉₆*M₆₉ + M₆₆^2)*(M₁₀₆*M₅₁₀ + M₃₆*M₅₃ + M₄₆*M₅₄ + M₅₁*M₁₆ + M₅₂*M₂₆ + M₅₆*M₅₅ + M₅₆*M₆₆ + M₅₇*M₇₆ + M₈₆*M₅₈ + M₉₆*M₅₉) + (M₄₁*M₁₆ + M₄₁₀*M₁₀₆ + M₄₂*M₂₆ + M₄₃*M₃₆ + M₄₅*M₅₆ + M₄₆*M₄₄ + M₄₆*M₆₆ + M₄₇*M₇₆ + M₄₈*M₈₆ + M₉₆*M₄₉)*(M₁₀₄*M₅₁₀ + M₃₄*M₅₃ + M₄₄*M₅₄ + M₅₁*M₁₄ + M₅₂*M₂₄ + M₅₅*M₅₄ + M₅₆*M₆₄ + M₅₇*M₇₄ + M₈₄*M₅₈ + M₉₄*M₅₉)) + ((M₁₀₁*M₂₁₀ + M₂₁*M₁₁ + M₂₂*M₂₁ + M₂₆*M₆₁ + M₂₇*M₇₁ + M₃₁*M₂₃ + M₄₁*M₂₄ + M₅₁*M₂₅ + M₈₁*M₂₈ + M₉₁*M₂₉)*(M₁₀₁*M₁₂ + M₁₀₁₀*M₁₀₂ + M₁₀₂*M₂₂ + M₁₀₃*M₃₂ + M₁₀₄*M₄₂ + M₁₀₅*M₅₂ + M₁₀₆*M₆₂ + M₁₀₇*M₇₂ + M₁₀₈*M₈₂ + M₁₀₉*M₉₂) + (M₁₀₁*M₃₁₀ + M₃₁*M₁₁ + M₃₁*M₃₃ + M₃₂*M₂₁ + M₃₅*M₅₁ + M₃₆*M₆₁ + M₃₇*M₇₁ + M₃₈*M₈₁ + M₄₁*M₃₄ + M₉₁*M₃₉)*(M₁₀₁*M₁₃ + M₁₀₁₀*M₁₀₃ + M₁₀₂*M₂₃ + M₁₀₃*M₃₃ + M₁₀₄*M₄₃ + M₁₀₅*M₅₃ + M₁₀₆*M₆₃ + M₁₀₇*M₇₃ + M₁₀₈*M₈₃ + M₁₀₉*M₉₃) + (M₁₀₁*M₅₁₀ + M₃₁*M₅₃ + M₄₁*M₅₄ + M₅₁*M₁₁ + M₅₂*M₂₁ + M₅₅*M₅₁ + M₅₆*M₆₁ + M₅₇*M₇₁ + M₈₁*M₅₈ + M₉₁*M₅₉)*(M₁₀₁*M₁₅ + M₁₀₁₀*M₁₀₅ + M₁₀₂*M₂₅ + M₁₀₃*M₃₅ + M₁₀₄*M₄₅ + M₁₀₅*M₅₅ + M₁₀₆*M₆₅ + M₁₀₇*M₇₅ + M₁₀₈*M₈₅ + M₁₀₉*M₉₅) + (M₁₀₁*M₈₁₀ + M₃₁*M₈₃ + M₄₁*M₈₄ + M₈₁*M₁₁ + M₈₁*M₈₈ + M₈₂*M₂₁ + M₈₅*M₅₁ + M₈₆*M₆₁ + M₈₇*M₇₁ + M₉₁*M₈₉)*(M₁₀₁*M₁₈ + M₁₀₁₀*M₁₀₈ + M₁₀₂*M₂₈ + M₁₀₃*M₃₈ + M₁₀₄*M₄₈ + M₁₀₅*M₅₈ + M₁₀₆*M₆₈ + M₁₀₇*M₇₈ + M₁₀₈*M₈₈ + M₁₀₉*M₉₈) + (M₁₁₀*M₁₀₁ + M₁₆*M₆₁ + M₁₇*M₇₁ + M₂₁*M₁₂ + M₃₁*M₁₃ + M₄₁*M₁₄ + M₅₁*M₁₅ + M₈₁*M₁₈ + M₉₁*M₁₉ + M₁₁^2)*(M₁₀₁*M₁₁ + M₁₀₁₀*M₁₀₁ + M₁₀₂*M₂₁ + M₁₀₃*M₃₁ + M₁₀₄*M₄₁ + M₁₀₅*M₅₁ + M₁₀₆*M₆₁ + M₁₀₇*M₇₁ + M₁₀₈*M₈₁ + M₁₀₉*M₉₁) + (M₁₁*M₆₁ + M₂₁*M₆₂ + M₃₁*M₆₃ + M₄₁*M₆₄ + M₅₁*M₆₅ + M₆₁*M₆₆ + M₆₁₀*M₁₀₁ + M₇₁*M₆₇ + M₈₁*M₆₈ + M₉₁*M₆₉)*(M₁₀₁*M₁₆ + M₁₀₁₀*M₁₀₆ + M₁₀₂*M₂₆ + M₁₀₃*M₃₆ + M₁₀₄*M₄₆ + M₁₀₅*M₅₆ + M₁₀₆*M₆₆ + M₁₀₇*M₇₆ + M₁₀₈*M₈₆ + M₁₀₉*M₉₆) + (M₁₀₂*M₂₁₀ + M₁₀₃*M₃₁₀ + M₁₀₅*M₅₁₀ + M₁₀₈*M₈₁₀ + M₁₁₀*M₁₀₁ + M₄₁₀*M₁₀₄ + M₆₁₀*M₁₀₆ + M₇₁₀*M₁₀₇ + M₉₁₀*M₁₀₉ + M₁₀₁₀^2)*(M₁₀₁*M₁₁ + M₁₀₁₀*M₁₀₁ + M₁₀₂*M₂₁ + M₁₀₃*M₃₁ + M₁₀₄*M₄₁ + M₁₀₅*M₅₁ + M₁₀₆*M₆₁ + M₁₀₇*M₇₁ + M₁₀₈*M₈₁ + M₁₀₉*M₉₁) + (M₄₁*M₁₁ + M₄₁*M₄₄ + M₄₁₀*M₁₀₁ + M₄₂*M₂₁ + M₄₃*M₃₁ + M₄₅*M₅₁ + M₄₆*M₆₁ + M₄₇*M₇₁ + M₄₈*M₈₁ + M₉₁*M₄₉)*(M₁₀₁*M₁₄ + M₁₀₁₀*M₁₀₄ + M₁₀₂*M₂₄ + M₁₀₃*M₃₄ + M₁₀₄*M₄₄ + M₁₀₅*M₅₄ + M₁₀₆*M₆₄ + M₁₀₇*M₇₄ + M₁₀₈*M₈₄ + M₁₀₉*M₉₄) + (M₁₁*M₇₁ + M₂₁*M₇₂ + M₃₁*M₇₃ + M₄₁*M₇₄ + M₅₁*M₇₅ + M₇₁*M₇₇ + M₇₁₀*M₁₀₁ + M₇₆*M₆₁ + M₈₁*M₇₈ + M₉₁*M₇₉)*(M₁₀₁*M₁₇ + M₁₀₁₀*M₁₀₇ + M₁₀₂*M₂₇ + M₁₀₃*M₃₇ + M₁₀₄*M₄₇ + M₁₀₅*M₅₇ + M₁₀₆*M₆₇ + M₁₀₇*M₇₇ + M₁₀₈*M₈₇ + M₁₀₉*M₉₇) + (M₉₁*M₁₁ + M₉₁*M₉₉ + M₉₁₀*M₁₀₁ + M₉₂*M₂₁ + M₉₃*M₃₁ + M₉₄*M₄₁ + M₉₅*M₅₁ + M₉₆*M₆₁ + M₉₇*M₇₁ + M₉₈*M₈₁)*(M₁₀₁*M₁₉ + M₁₀₁₀*M₁₀₉ + M₁₀₂*M₂₉ + M₁₀₃*M₃₉ + M₁₀₄*M₄₉ + M₁₀₅*M₅₉ + M₁₀₆*M₆₉ + M₁₀₇*M₇₉ + M₁₀₈*M₈₉ + M₁₀₉*M₉₉))*((M₁₀₁*M₅₁₀ + M₃₁*M₅₃ + M₄₁*M₅₄ + M₅₁*M₁₁ + M₅₂*M₂₁ + M₅₅*M₅₁ + M₅₆*M₆₁ + M₅₇*M₇₁ + M₈₁*M₅₈ + M₉₁*M₅₉)*(M₁₀₁₀*M₁₁₀ + M₁₁₀*M₁₁ + M₂₁₀*M₁₂ + M₃₁₀*M₁₃ + M₄₁₀*M₁₄ + M₅₁₀*M₁₅ + M₆₁₀*M₁₆ + M₇₁₀*M₁₇ + M₈₁₀*M₁₈ + M₉₁₀*M₁₉) + (M₁₀₂*M₅₁₀ + M₃₂*M₅₃ + M₄₂*M₅₄ + M₅₁*M₁₂ + M₅₂*M₂₂ + M₅₅*M₅₂ + M₅₆*M₆₂ + M₅₇*M₇₂ + M₈₂*M₅₈ + M₉₂*M₅₉)*(M₁₀₁₀*M₂₁₀ + M₁₁₀*M₂₁ + M₂₁₀*M₂₂ + M₃₁₀*M₂₃ + M₄₁₀*M₂₄ + M₅₁₀*M₂₅ + M₆₁₀*M₂₆ + M₇₁₀*M₂₇ + M₈₁₀*M₂₈ + M₉₁₀*M₂₉) + (M₁₀₃*M₅₁₀ + M₃₃*M₅₃ + M₄₃*M₅₄ + M₅₁*M₁₃ + M₅₂*M₂₃ + M₅₅*M₅₃ + M₅₆*M₆₃ + M₅₇*M₇₃ + M₈₃*M₅₈ + M₉₃*M₅₉)*(M₁₀₁₀*M₃₁₀ + M₁₁₀*M₃₁ + M₂₁₀*M₃₂ + M₃₁₀*M₃₃ + M₄₁₀*M₃₄ + M₅₁₀*M₃₅ + M₆₁₀*M₃₆ + M₇₁₀*M₃₇ + M₈₁₀*M₃₈ + M₉₁₀*M₃₉) + (M₁₀₄*M₅₁₀ + M₃₄*M₅₃ + M₄₄*M₅₄ + M₅₁*M₁₄ + M₅₂*M₂₄ + M₅₅*M₅₄ + M₅₆*M₆₄ + M₅₇*M₇₄ + M₈₄*M₅₈ + M₉₄*M₅₉)*(M₁₀₁₀*M₄₁₀ + M₁₁₀*M₄₁ + M₂₁₀*M₄₂ + M₃₁₀*M₄₃ + M₄₁₀*M₄₄ + M₅₁₀*M₄₅ + M₆₁₀*M₄₆ + M₇₁₀*M₄₇ + M₈₁₀*M₄₈ + M₉₁₀*M₄₉) + (M₁₀₅*M₅₁₀ + M₃₅*M₅₃ + M₄₅*M₅₄ + M₅₁*M₁₅ + M₅₂*M₂₅ + M₅₆*M₆₅ + M₅₇*M₇₅ + M₈₅*M₅₈ + M₉₅*M₅₉ + M₅₅^2)*(M₁₀₁₀*M₅₁₀ + M₁₁₀*M₅₁ + M₂₁₀*M₅₂ + M₃₁₀*M₅₃ + M₄₁₀*M₅₄ + M₅₁₀*M₅₅ + M₆₁₀*M₅₆ + M₇₁₀*M₅₇ + M₈₁₀*M₅₈ + M₉₁₀*M₅₉) + (M₁₀₆*M₅₁₀ + M₃₆*M₅₃ + M₄₆*M₅₄ + M₅₁*M₁₆ + M₅₂*M₂₆ + M₅₆*M₅₅ + M₅₆*M₆₆ + M₅₇*M₇₆ + M₈₆*M₅₈ + M₉₆*M₅₉)*(M₁₀₁₀*M₆₁₀ + M₁₁₀*M₆₁ + M₂₁₀*M₆₂ + M₃₁₀*M₆₃ + M₄₁₀*M₆₄ + M₅₁₀*M₆₅ + M₆₁₀*M₆₆ + M₇₁₀*M₆₇ + M₈₁₀*M₆₈ + M₉₁₀*M₆₉) + (M₁₀₇*M₅₁₀ + M₃₇*M₅₃ + M₄₇*M₅₄ + M₅₁*M₁₇ + M₅₂*M₂₇ + M₅₅*M₅₇ + M₅₆*M₆₇ + M₅₇*M₇₇ + M₈₇*M₅₈ + M₉₇*M₅₉)*(M₁₀₁₀*M₇₁₀ + M₁₁₀*M₇₁ + M₂₁₀*M₇₂ + M₃₁₀*M₇₃ + M₄₁₀*M₇₄ + M₅₁₀*M₇₅ + M₆₁₀*M₇₆ + M₇₁₀*M₇₇ + M₈₁₀*M₇₈ + M₉₁₀*M₇₉) + (M₁₀₈*M₅₁₀ + M₃₈*M₅₃ + M₄₈*M₅₄ + M₅₁*M₁₈ + M₅₂*M₂₈ + M₅₅*M₅₈ + M₅₆*M₆₈ + M₅₇*M₇₈ + M₈₈*M₅₈ + M₉₈*M₅₉)*(M₁₀₁₀*M₈₁₀ + M₁₁₀*M₈₁ + M₂₁₀*M₈₂ + M₃₁₀*M₈₃ + M₄₁₀*M₈₄ + M₅₁₀*M₈₅ + M₆₁₀*M₈₆ + M₇₁₀*M₈₇ + M₈₁₀*M₈₈ + M₉₁₀*M₈₉) + (M₁₀₉*M₅₁₀ + M₃₉*M₅₃ + M₄₉*M₅₄ + M₅₁*M₁₉ + M₅₂*M₂₉ + M₅₅*M₅₉ + M₅₆*M₆₉ + M₅₇*M₇₉ + M₈₉*M₅₈ + M₉₉*M₅₉)*(M₁₀₁₀*M₉₁₀ + M₁₁₀*M₉₁ + M₂₁₀*M₉₂ + M₃₁₀*M₉₃ + M₄₁₀*M₉₄ + M₅₁₀*M₉₅ + M₆₁₀*M₉₆ + M₇₁₀*M₉₇ + M₈₁₀*M₉₈ + M₉₁₀*M₉₉) + (M₁₀₂*M₂₁₀ + M₁₀₃*M₃₁₀ + M₁₀₅*M₅₁₀ + M₁₀₈*M₈₁₀ + M₁₁₀*M₁₀₁ + M₄₁₀*M₁₀₄ + M₆₁₀*M₁₀₆ + M₇₁₀*M₁₀₇ + M₉₁₀*M₁₀₉ + M₁₀₁₀^2)*(M₁₀₁₀*M₅₁₀ + M₁₁₀*M₅₁ + M₂₁₀*M₅₂ + M₃₁₀*M₅₃ + M₄₁₀*M₅₄ + M₅₁₀*M₅₅ + M₆₁₀*M₅₆ + M₇₁₀*M₅₇ + M₈₁₀*M₅₈ + M₉₁₀*M₅₉)) + ((M₁₀₁*M₁₁ + M₁₀₁₀*M₁₀₁ + M₁₀₂*M₂₁ + M₁₀₃*M₃₁ + M₁₀₄*M₄₁ + M₁₀₅*M₅₁ + M₁₀₆*M₆₁ + M₁₀₇*M₇₁ + M₁₀₈*M₈₁ + M₁₀₉*M₉₁)*(M₁₀₁₀*M₄₁₀ + M₁₁₀*M₄₁ + M₂₁₀*M₄₂ + M₃₁₀*M₄₃ + M₄₁₀*M₄₄ + M₅₁₀*M₄₅ + M₆₁₀*M₄₆ + M₇₁₀*M₄₇ + M₈₁₀*M₄₈ + M₉₁₀*M₄₉) + (M₁₁*M₆₁ + M₂₁*M₆₂ + M₃₁*M₆₃ + M₄₁*M₆₄ + M₅₁*M₆₅ + M₆₁*M₆₆ + M₆₁₀*M₁₀₁ + M₇₁*M₆₇ + M₈₁*M₆₈ + M₉₁*M₆₉)*(M₄₁*M₁₆ + M₄₁₀*M₁₀₆ + M₄₂*M₂₆ + M₄₃*M₃₆ + M₄₅*M₅₆ + M₄₆*M₄₄ + M₄₆*M₆₆ + M₄₇*M₇₆ + M₄₈*M₈₆ + M₉₆*M₄₉) + (M₄₁*M₁₁ + M₄₁*M₄₄ + M₄₁₀*M₁₀₁ + M₄₂*M₂₁ + M₄₃*M₃₁ + M₄₅*M₅₁ + M₄₆*M₆₁ + M₄₇*M₇₁ + M₄₈*M₈₁ + M₉₁*M₄₉)*(M₁₁₀*M₁₀₁ + M₁₆*M₆₁ + M₁₇*M₇₁ + M₂₁*M₁₂ + M₃₁*M₁₃ + M₄₁*M₁₄ + M₅₁*M₁₅ + M₈₁*M₁₈ + M₉₁*M₁₉ + M₁₁^2) + (M₄₁*M₁₂ + M₄₁₀*M₁₀₂ + M₄₂*M₂₂ + M₄₂*M₄₄ + M₄₃*M₃₂ + M₄₅*M₅₂ + M₄₆*M₆₂ + M₄₇*M₇₂ + M₄₈*M₈₂ + M₉₂*M₄₉)*(M₁₀₁*M₂₁₀ + M₂₁*M₁₁ + M₂₂*M₂₁ + M₂₆*M₆₁ + M₂₇*M₇₁ + M₃₁*M₂₃ + M₄₁*M₂₄ + M₅₁*M₂₅ + M₈₁*M₂₈ + M₉₁*M₂₉) + (M₄₁*M₁₃ + M₄₁₀*M₁₀₃ + M₄₂*M₂₃ + M₄₃*M₃₃ + M₄₄*M₄₃ + M₄₅*M₅₃ + M₄₆*M₆₃ + M₄₇*M₇₃ + M₄₈*M₈₃ + M₉₃*M₄₉)*(M₁₀₁*M₃₁₀ + M₃₁*M₁₁ + M₃₁*M₃₃ + M₃₂*M₂₁ + M₃₅*M₅₁ + M₃₆*M₆₁ + M₃₇*M₇₁ + M₃₈*M₈₁ + M₄₁*M₃₄ + M₉₁*M₃₉) + (M₄₁*M₁₄ + M₄₁₀*M₁₀₄ + M₄₂*M₂₄ + M₄₃*M₃₄ + M₄₅*M₅₄ + M₄₆*M₆₄ + M₄₇*M₇₄ + M₄₈*M₈₄ + M₉₄*M₄₉ + M₄₄^2)*(M₄₁*M₁₁ + M₄₁*M₄₄ + M₄₁₀*M₁₀₁ + M₄₂*M₂₁ + M₄₃*M₃₁ + M₄₅*M₅₁ + M₄₆*M₆₁ + M₄₇*M₇₁ + M₄₈*M₈₁ + M₉₁*M₄₉) + (M₄₁*M₁₅ + M₄₁₀*M₁₀₅ + M₄₂*M₂₅ + M₄₃*M₃₅ + M₄₅*M₄₄ + M₄₅*M₅₅ + M₄₆*M₆₅ + M₄₇*M₇₅ + M₄₈*M₈₅ + M₉₅*M₄₉)*(M₁₀₁*M₅₁₀ + M₃₁*M₅₃ + M₄₁*M₅₄ + M₅₁*M₁₁ + M₅₂*M₂₁ + M₅₅*M₅₁ + M₅₆*M₆₁ + M₅₇*M₇₁ + M₈₁*M₅₈ + M₉₁*M₅₉) + (M₄₁*M₁₇ + M₄₁₀*M₁₀₇ + M₄₂*M₂₇ + M₄₃*M₃₇ + M₄₄*M₄₇ + M₄₅*M₅₇ + M₄₆*M₆₇ + M₄₇*M₇₇ + M₄₈*M₈₇ + M₉₇*M₄₉)*(M₁₁*M₇₁ + M₂₁*M₇₂ + M₃₁*M₇₃ + M₄₁*M₇₄ + M₅₁*M₇₅ + M₇₁*M₇₇ + M₇₁₀*M₁₀₁ + M₇₆*M₆₁ + M₈₁*M₇₈ + M₉₁*M₇₉) + (M₄₁*M₁₈ + M₄₁₀*M₁₀₈ + M₄₂*M₂₈ + M₄₃*M₃₈ + M₄₄*M₄₈ + M₄₅*M₅₈ + M₄₆*M₆₈ + M₄₇*M₇₈ + M₄₈*M₈₈ + M₉₈*M₄₉)*(M₁₀₁*M₈₁₀ + M₃₁*M₈₃ + M₄₁*M₈₄ + M₈₁*M₁₁ + M₈₁*M₈₈ + M₈₂*M₂₁ + M₈₅*M₅₁ + M₈₆*M₆₁ + M₈₇*M₇₁ + M₉₁*M₈₉) + (M₄₁*M₁₉ + M₄₁₀*M₁₀₉ + M₄₂*M₂₉ + M₄₃*M₃₉ + M₄₄*M₄₉ + M₄₅*M₅₉ + M₄₆*M₆₉ + M₄₇*M₇₉ + M₄₈*M₈₉ + M₉₉*M₄₉)*(M₉₁*M₁₁ + M₉₁*M₉₉ + M₉₁₀*M₁₀₁ + M₉₂*M₂₁ + M₉₃*M₃₁ + M₉₄*M₄₁ + M₉₅*M₅₁ + M₉₆*M₆₁ + M₉₇*M₇₁ + M₉₈*M₈₁))*((M₁₀₁*M₅₁₀ + M₃₁*M₅₃ + M₄₁*M₅₄ + M₅₁*M₁₁ + M₅₂*M₂₁ + M₅₅*M₅₁ + M₅₆*M₆₁ + M₅₇*M₇₁ + M₈₁*M₅₈ + M₉₁*M₅₉)*(M₁₁*M₁₄ + M₁₁₀*M₁₀₄ + M₁₆*M₆₄ + M₁₇*M₇₄ + M₂₄*M₁₂ + M₃₄*M₁₃ + M₄₄*M₁₄ + M₅₄*M₁₅ + M₈₄*M₁₈ + M₉₄*M₁₉) + (M₁₀₃*M₅₁₀ + M₃₃*M₅₃ + M₄₃*M₅₄ + M₅₁*M₁₃ + M₅₂*M₂₃ + M₅₅*M₅₃ + M₅₆*M₆₃ + M₅₇*M₇₃ + M₈₃*M₅₈ + M₉₃*M₅₉)*(M₁₀₄*M₃₁₀ + M₃₁*M₁₄ + M₃₂*M₂₄ + M₃₃*M₃₄ + M₃₅*M₅₄ + M₃₆*M₆₄ + M₃₇*M₇₄ + M₃₈*M₈₄ + M₄₄*M₃₄ + M₉₄*M₃₉) + (M₁₀₄*M₂₁₀ + M₂₁*M₁₄ + M₂₂*M₂₄ + M₂₆*M₆₄ + M₂₇*M₇₄ + M₃₄*M₂₃ + M₄₄*M₂₄ + M₅₄*M₂₅ + M₈₄*M₂₈ + M₉₄*M₂₉)*(M₁₀₂*M₅₁₀ + M₃₂*M₅₃ + M₄₂*M₅₄ + M₅₁*M₁₂ + M₅₂*M₂₂ + M₅₅*M₅₂ + M₅₆*M₆₂ + M₅₇*M₇₂ + M₈₂*M₅₈ + M₉₂*M₅₉) + (M₁₀₄*M₅₁₀ + M₃₄*M₅₃ + M₄₄*M₅₄ + M₅₁*M₁₄ + M₅₂*M₂₄ + M₅₅*M₅₄ + M₅₆*M₆₄ + M₅₇*M₇₄ + M₈₄*M₅₈ + M₉₄*M₅₉)*(M₁₀₅*M₅₁₀ + M₃₅*M₅₃ + M₄₅*M₅₄ + M₅₁*M₁₅ + M₅₂*M₂₅ + M₅₆*M₆₅ + M₅₇*M₇₅ + M₈₅*M₅₈ + M₉₅*M₅₉ + M₅₅^2) + (M₁₀₇*M₅₁₀ + M₃₇*M₅₃ + M₄₇*M₅₄ + M₅₁*M₁₇ + M₅₂*M₂₇ + M₅₅*M₅₇ + M₅₆*M₆₇ + M₅₇*M₇₇ + M₈₇*M₅₈ + M₉₇*M₅₉)*(M₁₄*M₇₁ + M₂₄*M₇₂ + M₃₄*M₇₃ + M₄₄*M₇₄ + M₅₄*M₇₅ + M₇₁₀*M₁₀₄ + M₇₄*M₇₇ + M₇₆*M₆₄ + M₈₄*M₇₈ + M₉₄*M₇₉) + (M₁₀₈*M₅₁₀ + M₃₈*M₅₃ + M₄₈*M₅₄ + M₅₁*M₁₈ + M₅₂*M₂₈ + M₅₅*M₅₈ + M₅₆*M₆₈ + M₅₇*M₇₈ + M₈₈*M₅₈ + M₉₈*M₅₉)*(M₁₀₄*M₈₁₀ + M₃₄*M₈₃ + M₄₄*M₈₄ + M₈₁*M₁₄ + M₈₂*M₂₄ + M₈₄*M₈₈ + M₈₅*M₅₄ + M₈₆*M₆₄ + M₈₇*M₇₄ + M₉₄*M₈₉) + (M₁₀₉*M₅₁₀ + M₃₉*M₅₃ + M₄₉*M₅₄ + M₅₁*M₁₉ + M₅₂*M₂₉ + M₅₅*M₅₉ + M₅₆*M₆₉ + M₅₇*M₇₉ + M₈₉*M₅₈ + M₉₉*M₅₉)*(M₉₁*M₁₄ + M₉₁₀*M₁₀₄ + M₉₂*M₂₄ + M₉₃*M₃₄ + M₉₄*M₄₄ + M₉₅*M₅₄ + M₉₆*M₆₄ + M₉₇*M₇₄ + M₉₈*M₈₄ + M₉₉*M₉₄) + (M₁₀₁₀*M₅₁₀ + M₁₁₀*M₅₁ + M₂₁₀*M₅₂ + M₃₁₀*M₅₃ + M₄₁₀*M₅₄ + M₅₁₀*M₅₅ + M₆₁₀*M₅₆ + M₇₁₀*M₅₇ + M₈₁₀*M₅₈ + M₉₁₀*M₅₉)*(M₁₀₁*M₁₄ + M₁₀₁₀*M₁₀₄ + M₁₀₂*M₂₄ + M₁₀₃*M₃₄ + M₁₀₄*M₄₄ + M₁₀₅*M₅₄ + M₁₀₆*M₆₄ + M₁₀₇*M₇₄ + M₁₀₈*M₈₄ + M₁₀₉*M₉₄) + (M₁₄*M₆₁ + M₂₄*M₆₂ + M₃₄*M₆₃ + M₄₄*M₆₄ + M₅₄*M₆₅ + M₆₁₀*M₁₀₄ + M₆₄*M₆₆ + M₇₄*M₆₇ + M₈₄*M₆₈ + M₉₄*M₆₉)*(M₁₀₆*M₅₁₀ + M₃₆*M₅₃ + M₄₆*M₅₄ + M₅₁*M₁₆ + M₅₂*M₂₆ + M₅₆*M₅₅ + M₅₆*M₆₆ + M₅₇*M₇₆ + M₈₆*M₅₈ + M₉₆*M₅₉) + (M₄₁*M₁₄ + M₄₁₀*M₁₀₄ + M₄₂*M₂₄ + M₄₃*M₃₄ + M₄₅*M₅₄ + M₄₆*M₆₄ + M₄₇*M₇₄ + M₄₈*M₈₄ + M₉₄*M₄₉ + M₄₄^2)*(M₁₀₄*M₅₁₀ + M₃₄*M₅₃ + M₄₄*M₅₄ + M₅₁*M₁₄ + M₅₂*M₂₄ + M₅₅*M₅₄ + M₅₆*M₆₄ + M₅₇*M₇₄ + M₈₄*M₅₈ + M₉₄*M₅₉))) + (M₁₁*M₁₆ + M₁₁₀*M₁₀₆ + M₁₆*M₆₆ + M₁₇*M₇₆ + M₂₆*M₁₂ + M₃₆*M₁₃ + M₄₆*M₁₄ + M₅₆*M₁₅ + M₈₆*M₁₈ + M₉₆*M₁₉)*(((M₁₀₁*M₂₁₀ + M₂₁*M₁₁ + M₂₂*M₂₁ + M₂₆*M₆₁ + M₂₇*M₇₁ + M₃₁*M₂₃ + M₄₁*M₂₄ + M₅₁*M₂₅ + M₈₁*M₂₈ + M₉₁*M₂₉)*(M₁₀₂*M₅₁₀ + M₃₂*M₅₃ + M₄₂*M₅₄ + M₅₁*M₁₂ + M₅₂*M₂₂ + M₅₅*M₅₂ + M₅₆*M₆₂ + M₅₇*M₇₂ + M₈₂*M₅₈ + M₉₂*M₅₉) + (M₁₀₁*M₅₁₀ + M₃₁*M₅₃ + M₄₁*M₅₄ + M₅₁*M₁₁ + M₅₂*M₂₁ + M₅₅*M₅₁ + M₅₆*M₆₁ + M₅₇*M₇₁ + M₈₁*M₅₈ + M₉₁*M₅₉)*(M₁₀₅*M₅₁₀ + M₃₅*M₅₃ + M₄₅*M₅₄ + M₅₁*M₁₅ + M₅₂*M₂₅ + M₅₆*M₆₅ + M₅₇*M₇₅ + M₈₅*M₅₈ + M₉₅*M₅₉ + M₅₅^2) + (M₁₀₁*M₅₁₀ + M₃₁*M₅₃ + M₄₁*M₅₄ + M₅₁*M₁₁ + M₅₂*M₂₁ + M₅₅*M₅₁ + M₅₆*M₆₁ + M₅₇*M₇₁ + M₈₁*M₅₈ + M₉₁*M₅₉)*(M₁₁₀*M₁₀₁ + M₁₆*M₆₁ + M₁₇*M₇₁ + M₂₁*M₁₂ + M₃₁*M₁₃ + M₄₁*M₁₄ + M₅₁*M₁₅ + M₈₁*M₁₈ + M₉₁*M₁₉ + M₁₁^2) + (M₁₀₃*M₅₁₀ + M₃₃*M₅₃ + M₄₃*M₅₄ + M₅₁*M₁₃ + M₅₂*M₂₃ + M₅₅*M₅₃ + M₅₆*M₆₃ + M₅₇*M₇₃ + M₈₃*M₅₈ + M₉₃*M₅₉)*(M₁₀₁*M₃₁₀ + M₃₁*M₁₁ + M₃₁*M₃₃ + M₃₂*M₂₁ + M₃₅*M₅₁ + M₃₆*M₆₁ + M₃₇*M₇₁ + M₃₈*M₈₁ + M₄₁*M₃₄ + M₉₁*M₃₉) + (M₁₀₇*M₅₁₀ + M₃₇*M₅₃ + M₄₇*M₅₄ + M₅₁*M₁₇ + M₅₂*M₂₇ + M₅₅*M₅₇ + M₅₆*M₆₇ + M₅₇*M₇₇ + M₈₇*M₅₈ + M₉₇*M₅₉)*(M₁₁*M₇₁ + M₂₁*M₇₂ + M₃₁*M₇₃ + M₄₁*M₇₄ + M₅₁*M₇₅ + M₇₁*M₇₇ + M₇₁₀*M₁₀₁ + M₇₆*M₆₁ + M₈₁*M₇₈ + M₉₁*M₇₉) + (M₁₀₈*M₅₁₀ + M₃₈*M₅₃ + M₄₈*M₅₄ + M₅₁*M₁₈ + M₅₂*M₂₈ + M₅₅*M₅₈ + M₅₆*M₆₈ + M₅₇*M₇₈ + M₈₈*M₅₈ + M₉₈*M₅₉)*(M₁₀₁*M₈₁₀ + M₃₁*M₈₃ + M₄₁*M₈₄ + M₈₁*M₁₁ + M₈₁*M₈₈ + M₈₂*M₂₁ + M₈₅*M₅₁ + M₈₆*M₆₁ + M₈₇*M₇₁ + M₉₁*M₈₉) + (M₁₀₉*M₅₁₀ + M₃₉*M₅₃ + M₄₉*M₅₄ + M₅₁*M₁₉ + M₅₂*M₂₉ + M₅₅*M₅₉ + M₅₆*M₆₉ + M₅₇*M₇₉ + M₈₉*M₅₈ + M₉₉*M₅₉)*(M₉₁*M₁₁ + M₉₁*M₉₉ + M₉₁₀*M₁₀₁ + M₉₂*M₂₁ + M₉₃*M₃₁ + M₉₄*M₄₁ + M₉₅*M₅₁ + M₉₆*M₆₁ + M₉₇*M₇₁ + M₉₈*M₈₁) + (M₁₀₁₀*M₅₁₀ + M₁₁₀*M₅₁ + M₂₁₀*M₅₂ + M₃₁₀*M₅₃ + M₄₁₀*M₅₄ + M₅₁₀*M₅₅ + M₆₁₀*M₅₆ + M₇₁₀*M₅₇ + M₈₁₀*M₅₈ + M₉₁₀*M₅₉)*(M₁₀₁*M₁₁ + M₁₀₁₀*M₁₀₁ + M₁₀₂*M₂₁ + M₁₀₃*M₃₁ + M₁₀₄*M₄₁ + M₁₀₅*M₅₁ + M₁₀₆*M₆₁ + M₁₀₇*M₇₁ + M₁₀₈*M₈₁ + M₁₀₉*M₉₁) + (M₁₁*M₆₁ + M₂₁*M₆₂ + M₃₁*M₆₃ + M₄₁*M₆₄ + M₅₁*M₆₅ + M₆₁*M₆₆ + M₆₁₀*M₁₀₁ + M₇₁*M₆₇ + M₈₁*M₆₈ + M₉₁*M₆₉)*(M₁₀₆*M₅₁₀ + M₃₆*M₅₃ + M₄₆*M₅₄ + M₅₁*M₁₆ + M₅₂*M₂₆ + M₅₆*M₅₅ + M₅₆*M₆₆ + M₅₇*M₇₆ + M₈₆*M₅₈ + M₉₆*M₅₉) + (M₄₁*M₁₁ + M₄₁*M₄₄ + M₄₁₀*M₁₀₁ + M₄₂*M₂₁ + M₄₃*M₃₁ + M₄₅*M₅₁ + M₄₆*M₆₁ + M₄₇*M₇₁ + M₄₈*M₈₁ + M₉₁*M₄₉)*(M₁₀₄*M₅₁₀ + M₃₄*M₅₃ + M₄₄*M₅₄ + M₅₁*M₁₄ + M₅₂*M₂₄ + M₅₅*M₅₄ + M₅₆*M₆₄ + M₅₇*M₇₄ + M₈₄*M₅₈ + M₉₄*M₅₉))*((M₁₀₁₀*M₆₁₀ + M₁₁₀*M₆₁ + M₂₁₀*M₆₂ + M₃₁₀*M₆₃ + M₄₁₀*M₆₄ + M₅₁₀*M₆₅ + M₆₁₀*M₆₆ + M₇₁₀*M₆₇ + M₈₁₀*M₆₈ + M₉₁₀*M₆₉)*(M₁₀₁*M₁₅ + M₁₀₁₀*M₁₀₅ + M₁₀₂*M₂₅ + M₁₀₃*M₃₅ + M₁₀₄*M₄₅ + M₁₀₅*M₅₅ + M₁₀₆*M₆₅ + M₁₀₇*M₇₅ + M₁₀₈*M₈₅ + M₁₀₉*M₉₅) + (M₁₁*M₆₁ + M₂₁*M₆₂ + M₃₁*M₆₃ + M₄₁*M₆₄ + M₅₁*M₆₅ + M₆₁*M₆₆ + M₆₁₀*M₁₀₁ + M₇₁*M₆₇ + M₈₁*M₆₈ + M₉₁*M₆₉)*(M₁₁*M₁₅ + M₁₁₀*M₁₀₅ + M₁₆*M₆₅ + M₁₇*M₇₅ + M₂₅*M₁₂ + M₃₅*M₁₃ + M₄₅*M₁₄ + M₅₅*M₁₅ + M₈₅*M₁₈ + M₉₅*M₁₉) + (M₁₂*M₆₁ + M₂₂*M₆₂ + M₃₂*M₆₃ + M₄₂*M₆₄ + M₅₂*M₆₅ + M₆₁₀*M₁₀₂ + M₆₂*M₆₆ + M₇₂*M₆₇ + M₈₂*M₆₈ + M₉₂*M₆₉)*(M₁₀₅*M₂₁₀ + M₂₁*M₁₅ + M₂₂*M₂₅ + M₂₆*M₆₅ + M₂₇*M₇₅ + M₃₅*M₂₃ + M₄₅*M₂₄ + M₅₅*M₂₅ + M₈₅*M₂₈ + M₉₅*M₂₉) + (M₁₃*M₆₁ + M₂₃*M₆₂ + M₃₃*M₆₃ + M₄₃*M₆₄ + M₅₃*M₆₅ + M₆₁₀*M₁₀₃ + M₆₃*M₆₆ + M₇₃*M₆₇ + M₈₃*M₆₈ + M₉₃*M₆₉)*(M₁₀₅*M₃₁₀ + M₃₁*M₁₅ + M₃₂*M₂₅ + M₃₅*M₃₃ + M₃₅*M₅₅ + M₃₆*M₆₅ + M₃₇*M₇₅ + M₃₈*M₈₅ + M₄₅*M₃₄ + M₉₅*M₃₉) + (M₁₄*M₆₁ + M₂₄*M₆₂ + M₃₄*M₆₃ + M₄₄*M₆₄ + M₅₄*M₆₅ + M₆₁₀*M₁₀₄ + M₆₄*M₆₆ + M₇₄*M₆₇ + M₈₄*M₆₈ + M₉₄*M₆₉)*(M₄₁*M₁₅ + M₄₁₀*M₁₀₅ + M₄₂*M₂₅ + M₄₃*M₃₅ + M₄₅*M₄₄ + M₄₅*M₅₅ + M₄₆*M₆₅ + M₄₇*M₇₅ + M₄₈*M₈₅ + M₉₅*M₄₉) + (M₁₅*M₆₁ + M₂₅*M₆₂ + M₃₅*M₆₃ + M₄₅*M₆₄ + M₅₅*M₆₅ + M₆₁₀*M₁₀₅ + M₆₅*M₆₆ + M₇₅*M₆₇ + M₈₅*M₆₈ + M₉₅*M₆₉)*(M₁₀₅*M₅₁₀ + M₃₅*M₅₃ + M₄₅*M₅₄ + M₅₁*M₁₅ + M₅₂*M₂₅ + M₅₆*M₆₅ + M₅₇*M₇₅ + M₈₅*M₅₈ + M₉₅*M₅₉ + M₅₅^2) + (M₁₅*M₆₁ + M₂₅*M₆₂ + M₃₅*M₆₃ + M₄₅*M₆₄ + M₅₅*M₆₅ + M₆₁₀*M₁₀₅ + M₆₅*M₆₆ + M₇₅*M₆₇ + M₈₅*M₆₈ + M₉₅*M₆₉)*(M₁₆*M₆₁ + M₂₆*M₆₂ + M₃₆*M₆₃ + M₄₆*M₆₄ + M₅₆*M₆₅ + M₆₁₀*M₁₀₆ + M₇₆*M₆₇ + M₈₆*M₆₈ + M₉₆*M₆₉ + M₆₆^2) + (M₁₇*M₆₁ + M₂₇*M₆₂ + M₃₇*M₆₃ + M₄₇*M₆₄ + M₅₇*M₆₅ + M₆₁₀*M₁₀₇ + M₆₆*M₆₇ + M₇₇*M₆₇ + M₈₇*M₆₈ + M₉₇*M₆₉)*(M₁₅*M₇₁ + M₂₅*M₇₂ + M₃₅*M₇₃ + M₄₅*M₇₄ + M₅₅*M₇₅ + M₇₁₀*M₁₀₅ + M₇₆*M₆₅ + M₇₇*M₇₅ + M₈₅*M₇₈ + M₉₅*M₇₉) + (M₁₈*M₆₁ + M₂₈*M₆₂ + M₃₈*M₆₃ + M₄₈*M₆₄ + M₅₈*M₆₅ + M₆₁₀*M₁₀₈ + M₆₆*M₆₈ + M₇₈*M₆₇ + M₈₈*M₆₈ + M₉₈*M₆₉)*(M₁₀₅*M₈₁₀ + M₃₅*M₈₃ + M₄₅*M₈₄ + M₈₁*M₁₅ + M₈₂*M₂₅ + M₈₅*M₅₅ + M₈₆*M₆₅ + M₈₇*M₇₅ + M₈₈*M₈₅ + M₉₅*M₈₉) + (M₁₉*M₆₁ + M₂₉*M₆₂ + M₃₉*M₆₃ + M₄₉*M₆₄ + M₅₉*M₆₅ + M₆₁₀*M₁₀₉ + M₆₉*M₆₆ + M₇₉*M₆₇ + M₈₉*M₆₈ + M₉₉*M₆₉)*(M₉₁*M₁₅ + M₉₁₀*M₁₀₅ + M₉₂*M₂₅ + M₉₃*M₃₅ + M₉₄*M₄₅ + M₉₅*M₅₅ + M₉₆*M₆₅ + M₉₇*M₇₅ + M₉₈*M₈₅ + M₉₉*M₉₅)) + ((M₁₀₁₀*M₆₁₀ + M₁₁₀*M₆₁ + M₂₁₀*M₆₂ + M₃₁₀*M₆₃ + M₄₁₀*M₆₄ + M₅₁₀*M₆₅ + M₆₁₀*M₆₆ + M₇₁₀*M₆₇ + M₈₁₀*M₆₈ + M₉₁₀*M₆₉)*(M₁₀₁*M₁₂ + M₁₀₁₀*M₁₀₂ + M₁₀₂*M₂₂ + M₁₀₃*M₃₂ + M₁₀₄*M₄₂ + M₁₀₅*M₅₂ + M₁₀₆*M₆₂ + M₁₀₇*M₇₂ + M₁₀₈*M₈₂ + M₁₀₉*M₉₂) + (M₁₁*M₆₁ + M₂₁*M₆₂ + M₃₁*M₆₃ + M₄₁*M₆₄ + M₅₁*M₆₅ + M₆₁*M₆₆ + M₆₁₀*M₁₀₁ + M₇₁*M₆₇ + M₈₁*M₆₈ + M₉₁*M₆₉)*(M₁₁*M₁₂ + M₁₁₀*M₁₀₂ + M₁₆*M₆₂ + M₁₇*M₇₂ + M₂₂*M₁₂ + M₃₂*M₁₃ + M₄₂*M₁₄ + M₅₂*M₁₅ + M₈₂*M₁₈ + M₉₂*M₁₉) + (M₁₂*M₆₁ + M₂₂*M₆₂ + M₃₂*M₆₃ + M₄₂*M₆₄ + M₅₂*M₆₅ + M₆₁₀*M₁₀₂ + M₆₂*M₆₆ + M₇₂*M₆₇ + M₈₂*M₆₈ + M₉₂*M₆₉)*(M₁₀₂*M₂₁₀ + M₂₁*M₁₂ + M₂₆*M₆₂ + M₂₇*M₇₂ + M₃₂*M₂₃ + M₄₂*M₂₄ + M₅₂*M₂₅ + M₈₂*M₂₈ + M₉₂*M₂₉ + M₂₂^2) + (M₁₂*M₆₁ + M₂₂*M₆₂ + M₃₂*M₆₃ + M₄₂*M₆₄ + M₅₂*M₆₅ + M₆₁₀*M₁₀₂ + M₆₂*M₆₆ + M₇₂*M₆₇ + M₈₂*M₆₈ + M₉₂*M₆₉)*(M₁₆*M₆₁ + M₂₆*M₆₂ + M₃₆*M₆₃ + M₄₆*M₆₄ + M₅₆*M₆₅ + M₆₁₀*M₁₀₆ + M₇₆*M₆₇ + M₈₆*M₆₈ + M₉₆*M₆₉ + M₆₆^2) + (M₁₃*M₆₁ + M₂₃*M₆₂ + M₃₃*M₆₃ + M₄₃*M₆₄ + M₅₃*M₆₅ + M₆₁₀*M₁₀₃ + M₆₃*M₆₆ + M₇₃*M₆₇ + M₈₃*M₆₈ + M₉₃*M₆₉)*(M₁₀₂*M₃₁₀ + M₃₁*M₁₂ + M₃₂*M₂₂ + M₃₂*M₃₃ + M₃₅*M₅₂ + M₃₆*M₆₂ + M₃₇*M₇₂ + M₃₈*M₈₂ + M₄₂*M₃₄ + M₉₂*M₃₉) + (M₁₄*M₆₁ + M₂₄*M₆₂ + M₃₄*M₆₃ + M₄₄*M₆₄ + M₅₄*M₆₅ + M₆₁₀*M₁₀₄ + M₆₄*M₆₆ + M₇₄*M₆₇ + M₈₄*M₆₈ + M₉₄*M₆₉)*(M₄₁*M₁₂ + M₄₁₀*M₁₀₂ + M₄₂*M₂₂ + M₄₂*M₄₄ + M₄₃*M₃₂ + M₄₅*M₅₂ + M₄₆*M₆₂ + M₄₇*M₇₂ + M₄₈*M₈₂ + M₉₂*M₄₉) + (M₁₅*M₆₁ + M₂₅*M₆₂ + M₃₅*M₆₃ + M₄₅*M₆₄ + M₅₅*M₆₅ + M₆₁₀*M₁₀₅ + M₆₅*M₆₆ + M₇₅*M₆₇ + M₈₅*M₆₈ + M₉₅*M₆₉)*(M₁₀₂*M₅₁₀ + M₃₂*M₅₃ + M₄₂*M₅₄ + M₅₁*M₁₂ + M₅₂*M₂₂ + M₅₅*M₅₂ + M₅₆*M₆₂ + M₅₇*M₇₂ + M₈₂*M₅₈ + M₉₂*M₅₉) + (M₁₇*M₆₁ + M₂₇*M₆₂ + M₃₇*M₆₃ + M₄₇*M₆₄ + M₅₇*M₆₅ + M₆₁₀*M₁₀₇ + M₆₆*M₆₇ + M₇₇*M₆₇ + M₈₇*M₆₈ + M₉₇*M₆₉)*(M₁₂*M₇₁ + M₂₂*M₇₂ + M₃₂*M₇₃ + M₄₂*M₇₄ + M₅₂*M₇₅ + M₇₁₀*M₁₀₂ + M₇₂*M₇₇ + M₇₆*M₆₂ + M₈₂*M₇₈ + M₉₂*M₇₉) + (M₁₈*M₆₁ + M₂₈*M₆₂ + M₃₈*M₆₃ + M₄₈*M₆₄ + M₅₈*M₆₅ + M₆₁₀*M₁₀₈ + M₆₆*M₆₈ + M₇₈*M₆₇ + M₈₈*M₆₈ + M₉₈*M₆₉)*(M₁₀₂*M₈₁₀ + M₃₂*M₈₃ + M₄₂*M₈₄ + M₈₁*M₁₂ + M₈₂*M₂₂ + M₈₂*M₈₈ + M₈₅*M₅₂ + M₈₆*M₆₂ + M₈₇*M₇₂ + M₉₂*M₈₉) + (M₁₉*M₆₁ + M₂₉*M₆₂ + M₃₉*M₆₃ + M₄₉*M₆₄ + M₅₉*M₆₅ + M₆₁₀*M₁₀₉ + M₆₉*M₆₆ + M₇₉*M₆₇ + M₈₉*M₆₈ + M₉₉*M₆₉)*(M₉₁*M₁₂ + M₉₁₀*M₁₀₂ + M₉₂*M₂₂ + M₉₃*M₃₂ + M₉₄*M₄₂ + M₉₅*M₅₂ + M₉₆*M₆₂ + M₉₇*M₇₂ + M₉₈*M₈₂ + M₉₉*M₉₂))*((M₁₀₁*M₂₁₀ + M₂₁*M₁₁ + M₂₂*M₂₁ + M₂₆*M₆₁ + M₂₇*M₇₁ + M₃₁*M₂₃ + M₄₁*M₂₄ + M₅₁*M₂₅ + M₈₁*M₂₈ + M₉₁*M₂₉)*(M₁₀₂*M₂₁₀ + M₂₁*M₁₂ + M₂₆*M₆₂ + M₂₇*M₇₂ + M₃₂*M₂₃ + M₄₂*M₂₄ + M₅₂*M₂₅ + M₈₂*M₂₈ + M₉₂*M₂₉ + M₂₂^2) + (M₁₀₁*M₂₁₀ + M₂₁*M₁₁ + M₂₂*M₂₁ + M₂₆*M₆₁ + M₂₇*M₇₁ + M₃₁*M₂₃ + M₄₁*M₂₄ + M₅₁*M₂₅ + M₈₁*M₂₈ + M₉₁*M₂₉)*(M₁₁₀*M₁₀₁ + M₁₆*M₆₁ + M₁₇*M₇₁ + M₂₁*M₁₂ + M₃₁*M₁₃ + M₄₁*M₁₄ + M₅₁*M₁₅ + M₈₁*M₁₈ + M₉₁*M₁₉ + M₁₁^2) + (M₁₀₃*M₂₁₀ + M₂₁*M₁₃ + M₂₂*M₂₃ + M₂₆*M₆₃ + M₂₇*M₇₃ + M₃₃*M₂₃ + M₄₃*M₂₄ + M₅₃*M₂₅ + M₈₃*M₂₈ + M₉₃*M₂₉)*(M₁₀₁*M₃₁₀ + M₃₁*M₁₁ + M₃₁*M₃₃ + M₃₂*M₂₁ + M₃₅*M₅₁ + M₃₆*M₆₁ + M₃₇*M₇₁ + M₃₈*M₈₁ + M₄₁*M₃₄ + M₉₁*M₃₉) + (M₁₀₅*M₂₁₀ + M₂₁*M₁₅ + M₂₂*M₂₅ + M₂₆*M₆₅ + M₂₇*M₇₅ + M₃₅*M₂₃ + M₄₅*M₂₄ + M₅₅*M₂₅ + M₈₅*M₂₈ + M₉₅*M₂₉)*(M₁₀₁*M₅₁₀ + M₃₁*M₅₃ + M₄₁*M₅₄ + M₅₁*M₁₁ + M₅₂*M₂₁ + M₅₅*M₅₁ + M₅₆*M₆₁ + M₅₇*M₇₁ + M₈₁*M₅₈ + M₉₁*M₅₉) + (M₁₀₇*M₂₁₀ + M₂₁*M₁₇ + M₂₂*M₂₇ + M₂₆*M₆₇ + M₂₇*M₇₇ + M₃₇*M₂₃ + M₄₇*M₂₄ + M₅₇*M₂₅ + M₈₇*M₂₈ + M₉₇*M₂₉)*(M₁₁*M₇₁ + M₂₁*M₇₂ + M₃₁*M₇₃ + M₄₁*M₇₄ + M₅₁*M₇₅ + M₇₁*M₇₇ + M₇₁₀*M₁₀₁ + M₇₆*M₆₁ + M₈₁*M₇₈ + M₉₁*M₇₉) + (M₁₀₈*M₂₁₀ + M₂₁*M₁₈ + M₂₂*M₂₈ + M₂₆*M₆₈ + M₂₇*M₇₈ + M₃₈*M₂₃ + M₄₈*M₂₄ + M₅₈*M₂₅ + M₈₈*M₂₈ + M₉₈*M₂₉)*(M₁₀₁*M₈₁₀ + M₃₁*M₈₃ + M₄₁*M₈₄ + M₈₁*M₁₁ + M₈₁*M₈₈ + M₈₂*M₂₁ + M₈₅*M₅₁ + M₈₆*M₆₁ + M₈₇*M₇₁ + M₉₁*M₈₉) + (M₁₀₉*M₂₁₀ + M₂₁*M₁₉ + M₂₂*M₂₉ + M₂₆*M₆₉ + M₂₇*M₇₉ + M₃₉*M₂₃ + M₄₉*M₂₄ + M₅₉*M₂₅ + M₈₉*M₂₈ + M₉₉*M₂₉)*(M₉₁*M₁₁ + M₉₁*M₉₉ + M₉₁₀*M₁₀₁ + M₉₂*M₂₁ + M₉₃*M₃₁ + M₉₄*M₄₁ + M₉₅*M₅₁ + M₉₆*M₆₁ + M₉₇*M₇₁ + M₉₈*M₈₁) + (M₁₀₁₀*M₂₁₀ + M₁₁₀*M₂₁ + M₂₁₀*M₂₂ + M₃₁₀*M₂₃ + M₄₁₀*M₂₄ + M₅₁₀*M₂₅ + M₆₁₀*M₂₆ + M₇₁₀*M₂₇ + M₈₁₀*M₂₈ + M₉₁₀*M₂₉)*(M₁₀₁*M₁₁ + M₁₀₁₀*M₁₀₁ + M₁₀₂*M₂₁ + M₁₀₃*M₃₁ + M₁₀₄*M₄₁ + M₁₀₅*M₅₁ + M₁₀₆*M₆₁ + M₁₀₇*M₇₁ + M₁₀₈*M₈₁ + M₁₀₉*M₉₁) + (M₁₁*M₆₁ + M₂₁*M₆₂ + M₃₁*M₆₃ + M₄₁*M₆₄ + M₅₁*M₆₅ + M₆₁*M₆₆ + M₆₁₀*M₁₀₁ + M₇₁*M₆₇ + M₈₁*M₆₈ + M₉₁*M₆₉)*(M₁₀₆*M₂₁₀ + M₂₁*M₁₆ + M₂₂*M₂₆ + M₂₆*M₆₆ + M₂₇*M₇₆ + M₃₆*M₂₃ + M₄₆*M₂₄ + M₅₆*M₂₅ + M₈₆*M₂₈ + M₉₆*M₂₉) + (M₄₁*M₁₁ + M₄₁*M₄₄ + M₄₁₀*M₁₀₁ + M₄₂*M₂₁ + M₄₃*M₃₁ + M₄₅*M₅₁ + M₄₆*M₆₁ + M₄₇*M₇₁ + M₄₈*M₈₁ + M₉₁*M₄₉)*(M₁₀₄*M₂₁₀ + M₂₁*M₁₄ + M₂₂*M₂₄ + M₂₆*M₆₄ + M₂₇*M₇₄ + M₃₄*M₂₃ + M₄₄*M₂₄ + M₅₄*M₂₅ + M₈₄*M₂₈ + M₉₄*M₂₉)) + ((M₁₀₁₀*M₆₁₀ + M₁₁₀*M₆₁ + M₂₁₀*M₆₂ + M₃₁₀*M₆₃ + M₄₁₀*M₆₄ + M₅₁₀*M₆₅ + M₆₁₀*M₆₆ + M₇₁₀*M₆₇ + M₈₁₀*M₆₈ + M₉₁₀*M₆₉)*(M₁₀₁*M₁₁ + M₁₀₁₀*M₁₀₁ + M₁₀₂*M₂₁ + M₁₀₃*M₃₁ + M₁₀₄*M₄₁ + M₁₀₅*M₅₁ + M₁₀₆*M₆₁ + M₁₀₇*M₇₁ + M₁₀₈*M₈₁ + M₁₀₉*M₉₁) + (M₁₁*M₆₁ + M₂₁*M₆₂ + M₃₁*M₆₃ + M₄₁*M₆₄ + M₅₁*M₆₅ + M₆₁*M₆₆ + M₆₁₀*M₁₀₁ + M₇₁*M₆₇ + M₈₁*M₆₈ + M₉₁*M₆₉)*(M₁₁₀*M₁₀₁ + M₁₆*M₆₁ + M₁₇*M₇₁ + M₂₁*M₁₂ + M₃₁*M₁₃ + M₄₁*M₁₄ + M₅₁*M₁₅ + M₈₁*M₁₈ + M₉₁*M₁₉ + M₁₁^2) + (M₁₁*M₆₁ + M₂₁*M₆₂ + M₃₁*M₆₃ + M₄₁*M₆₄ + M₅₁*M₆₅ + M₆₁*M₆₆ + M₆₁₀*M₁₀₁ + M₇₁*M₆₇ + M₈₁*M₆₈ + M₉₁*M₆₉)*(M₁₆*M₆₁ + M₂₆*M₆₂ + M₃₆*M₆₃ + M₄₆*M₆₄ + M₅₆*M₆₅ + M₆₁₀*M₁₀₆ + M₇₆*M₆₇ + M₈₆*M₆₈ + M₉₆*M₆₉ + M₆₆^2) + (M₁₂*M₆₁ + M₂₂*M₆₂ + M₃₂*M₆₃ + M₄₂*M₆₄ + M₅₂*M₆₅ + M₆₁₀*M₁₀₂ + M₆₂*M₆₆ + M₇₂*M₆₇ + M₈₂*M₆₈ + M₉₂*M₆₉)*(M₁₀₁*M₂₁₀ + M₂₁*M₁₁ + M₂₂*M₂₁ + M₂₆*M₆₁ + M₂₇*M₇₁ + M₃₁*M₂₃ + M₄₁*M₂₄ + M₅₁*M₂₅ + M₈₁*M₂₈ + M₉₁*M₂₉) + (M₁₃*M₆₁ + M₂₃*M₆₂ + M₃₃*M₆₃ + M₄₃*M₆₄ + M₅₃*M₆₅ + M₆₁₀*M₁₀₃ + M₆₃*M₆₆ + M₇₃*M₆₇ + M₈₃*M₆₈ + M₉₃*M₆₉)*(M₁₀₁*M₃₁₀ + M₃₁*M₁₁ + M₃₁*M₃₃ + M₃₂*M₂₁ + M₃₅*M₅₁ + M₃₆*M₆₁ + M₃₇*M₇₁ + M₃₈*M₈₁ + M₄₁*M₃₄ + M₉₁*M₃₉) + (M₁₄*M₆₁ + M₂₄*M₆₂ + M₃₄*M₆₃ + M₄₄*M₆₄ + M₅₄*M₆₅ + M₆₁₀*M₁₀₄ + M₆₄*M₆₆ + M₇₄*M₆₇ + M₈₄*M₆₈ + M₉₄*M₆₉)*(M₄₁*M₁₁ + M₄₁*M₄₄ + M₄₁₀*M₁₀₁ + M₄₂*M₂₁ + M₄₃*M₃₁ + M₄₅*M₅₁ + M₄₆*M₆₁ + M₄₇*M₇₁ + M₄₈*M₈₁ + M₉₁*M₄₉) + (M₁₅*M₆₁ + M₂₅*M₆₂ + M₃₅*M₆₃ + M₄₅*M₆₄ + M₅₅*M₆₅ + M₆₁₀*M₁₀₅ + M₆₅*M₆₆ + M₇₅*M₆₇ + M₈₅*M₆₈ + M₉₅*M₆₉)*(M₁₀₁*M₅₁₀ + M₃₁*M₅₃ + M₄₁*M₅₄ + M₅₁*M₁₁ + M₅₂*M₂₁ + M₅₅*M₅₁ + M₅₆*M₆₁ + M₅₇*M₇₁ + M₈₁*M₅₈ + M₉₁*M₅₉) + (M₁₇*M₆₁ + M₂₇*M₆₂ + M₃₇*M₆₃ + M₄₇*M₆₄ + M₅₇*M₆₅ + M₆₁₀*M₁₀₇ + M₆₆*M₆₇ + M₇₇*M₆₇ + M₈₇*M₆₈ + M₉₇*M₆₉)*(M₁₁*M₇₁ + M₂₁*M₇₂ + M₃₁*M₇₃ + M₄₁*M₇₄ + M₅₁*M₇₅ + M₇₁*M₇₇ + M₇₁₀*M₁₀₁ + M₇₆*M₆₁ + M₈₁*M₇₈ + M₉₁*M₇₉) + (M₁₈*M₆₁ + M₂₈*M₆₂ + M₃₈*M₆₃ + M₄₈*M₆₄ + M₅₈*M₆₅ + M₆₁₀*M₁₀₈ + M₆₆*M₆₈ + M₇₈*M₆₇ + M₈₈*M₆₈ + M₉₈*M₆₉)*(M₁₀₁*M₈₁₀ + M₃₁*M₈₃ + M₄₁*M₈₄ + M₈₁*M₁₁ + M₈₁*M₈₈ + M₈₂*M₂₁ + M₈₅*M₅₁ + M₈₆*M₆₁ + M₈₇*M₇₁ + M₉₁*M₈₉) + (M₁₉*M₆₁ + M₂₉*M₆₂ + M₃₉*M₆₃ + M₄₉*M₆₄ + M₅₉*M₆₅ + M₆₁₀*M₁₀₉ + M₆₉*M₆₆ + M₇₉*M₆₇ + M₈₉*M₆₈ + M₉₉*M₆₉)*(M₉₁*M₁₁ + M₉₁*M₉₉ + M₉₁₀*M₁₀₁ + M₉₂*M₂₁ + M₉₃*M₃₁ + M₉₄*M₄₁ + M₉₅*M₅₁ + M₉₆*M₆₁ + M₉₇*M₇₁ + M₉₈*M₈₁))*((M₁₀₁*M₂₁₀ + M₂₁*M₁₁ + M₂₂*M₂₁ + M₂₆*M₆₁ + M₂₇*M₇₁ + M₃₁*M₂₃ + M₄₁*M₂₄ + M₅₁*M₂₅ + M₈₁*M₂₈ + M₉₁*M₂₉)*(M₁₁*M₁₂ + M₁₁₀*M₁₀₂ + M₁₆*M₆₂ + M₁₇*M₇₂ + M₂₂*M₁₂ + M₃₂*M₁₃ + M₄₂*M₁₄ + M₅₂*M₁₅ + M₈₂*M₁₈ + M₉₂*M₁₉) + (M₁₀₁*M₃₁₀ + M₃₁*M₁₁ + M₃₁*M₃₃ + M₃₂*M₂₁ + M₃₅*M₅₁ + M₃₆*M₆₁ + M₃₇*M₇₁ + M₃₈*M₈₁ + M₄₁*M₃₄ + M₉₁*M₃₉)*(M₁₁*M₁₃ + M₁₁₀*M₁₀₃ + M₁₆*M₆₃ + M₁₇*M₇₃ + M₂₃*M₁₂ + M₃₃*M₁₃ + M₄₃*M₁₄ + M₅₃*M₁₅ + M₈₃*M₁₈ + M₉₃*M₁₉) + (M₁₀₁*M₅₁₀ + M₃₁*M₅₃ + M₄₁*M₅₄ + M₅₁*M₁₁ + M₅₂*M₂₁ + M₅₅*M₅₁ + M₅₆*M₆₁ + M₅₇*M₇₁ + M₈₁*M₅₈ + M₉₁*M₅₉)*(M₁₁*M₁₅ + M₁₁₀*M₁₀₅ + M₁₆*M₆₅ + M₁₇*M₇₅ + M₂₅*M₁₂ + M₃₅*M₁₃ + M₄₅*M₁₄ + M₅₅*M₁₅ + M₈₅*M₁₈ + M₉₅*M₁₉) + (M₁₀₁*M₈₁₀ + M₃₁*M₈₃ + M₄₁*M₈₄ + M₈₁*M₁₁ + M₈₁*M₈₈ + M₈₂*M₂₁ + M₈₅*M₅₁ + M₈₆*M₆₁ + M₈₇*M₇₁ + M₉₁*M₈₉)*(M₁₁*M₁₈ + M₁₁₀*M₁₀₈ + M₁₆*M₆₈ + M₁₇*M₇₈ + M₂₈*M₁₂ + M₃₈*M₁₃ + M₄₈*M₁₄ + M₅₈*M₁₅ + M₈₈*M₁₈ + M₉₈*M₁₉) + (M₁₁*M₁₇ + M₁₁₀*M₁₀₇ + M₁₆*M₆₇ + M₁₇*M₇₇ + M₂₇*M₁₂ + M₃₇*M₁₃ + M₄₇*M₁₄ + M₅₇*M₁₅ + M₈₇*M₁₈ + M₉₇*M₁₉)*(M₁₁*M₇₁ + M₂₁*M₇₂ + M₃₁*M₇₃ + M₄₁*M₇₄ + M₅₁*M₇₅ + M₇₁*M₇₇ + M₇₁₀*M₁₀₁ + M₇₆*M₆₁ + M₈₁*M₇₈ + M₉₁*M₇₉) + (M₁₁*M₁₉ + M₁₁₀*M₁₀₉ + M₁₆*M₆₉ + M₁₇*M₇₉ + M₂₉*M₁₂ + M₃₉*M₁₃ + M₄₉*M₁₄ + M₅₉*M₁₅ + M₈₉*M₁₈ + M₉₉*M₁₉)*(M₉₁*M₁₁ + M₉₁*M₉₉ + M₉₁₀*M₁₀₁ + M₉₂*M₂₁ + M₉₃*M₃₁ + M₉₄*M₄₁ + M₉₅*M₅₁ + M₉₆*M₆₁ + M₉₇*M₇₁ + M₉₈*M₈₁) + (M₁₀₁₀*M₁₁₀ + M₁₁₀*M₁₁ + M₂₁₀*M₁₂ + M₃₁₀*M₁₃ + M₄₁₀*M₁₄ + M₅₁₀*M₁₅ + M₆₁₀*M₁₆ + M₇₁₀*M₁₇ + M₈₁₀*M₁₈ + M₉₁₀*M₁₉)*(M₁₀₁*M₁₁ + M₁₀₁₀*M₁₀₁ + M₁₀₂*M₂₁ + M₁₀₃*M₃₁ + M₁₀₄*M₄₁ + M₁₀₅*M₅₁ + M₁₀₆*M₆₁ + M₁₀₇*M₇₁ + M₁₀₈*M₈₁ + M₁₀₉*M₉₁) + (M₁₁*M₆₁ + M₂₁*M₆₂ + M₃₁*M₆₃ + M₄₁*M₆₄ + M₅₁*M₆₅ + M₆₁*M₆₆ + M₆₁₀*M₁₀₁ + M₇₁*M₆₇ + M₈₁*M₆₈ + M₉₁*M₆₉)*(M₁₁*M₁₆ + M₁₁₀*M₁₀₆ + M₁₆*M₆₆ + M₁₇*M₇₆ + M₂₆*M₁₂ + M₃₆*M₁₃ + M₄₆*M₁₄ + M₅₆*M₁₅ + M₈₆*M₁₈ + M₉₆*M₁₉) + (M₄₁*M₁₁ + M₄₁*M₄₄ + M₄₁₀*M₁₀₁ + M₄₂*M₂₁ + M₄₃*M₃₁ + M₄₅*M₅₁ + M₄₆*M₆₁ + M₄₇*M₇₁ + M₄₈*M₈₁ + M₉₁*M₄₉)*(M₁₁*M₁₄ + M₁₁₀*M₁₀₄ + M₁₆*M₆₄ + M₁₇*M₇₄ + M₂₄*M₁₂ + M₃₄*M₁₃ + M₄₄*M₁₄ + M₅₄*M₁₅ + M₈₄*M₁₈ + M₉₄*M₁₉) + (M₁₁₀*M₁₀₁ + M₁₆*M₆₁ + M₁₇*M₇₁ + M₂₁*M₁₂ + M₃₁*M₁₃ + M₄₁*M₁₄ + M₅₁*M₁₅ + M₈₁*M₁₈ + M₉₁*M₁₉ + M₁₁^2)^2) + ((M₁₀₁₀*M₆₁₀ + M₁₁₀*M₆₁ + M₂₁₀*M₆₂ + M₃₁₀*M₆₃ + M₄₁₀*M₆₄ + M₅₁₀*M₆₅ + M₆₁₀*M₆₆ + M₇₁₀*M₆₇ + M₈₁₀*M₆₈ + M₉₁₀*M₆₉)*(M₁₀₁*M₁₁ + M₁₀₁₀*M₁₀₁ + M₁₀₂*M₂₁ + M₁₀₃*M₃₁ + M₁₀₄*M₄₁ + M₁₀₅*M₅₁ + M₁₀₆*M₆₁ + M₁₀₇*M₇₁ + M₁₀₈*M₈₁ + M₁₀₉*M₉₁) + (M₁₁*M₆₁ + M₂₁*M₆₂ + M₃₁*M₆₃ + M₄₁*M₆₄ + M₅₁*M₆₅ + M₆₁*M₆₆ + M₆₁₀*M₁₀₁ + M₇₁*M₆₇ + M₈₁*M₆₈ + M₉₁*M₆₉)*(M₁₁₀*M₁₀₁ + M₁₆*M₆₁ + M₁₇*M₇₁ + M₂₁*M₁₂ + M₃₁*M₁₃ + M₄₁*M₁₄ + M₅₁*M₁₅ + M₈₁*M₁₈ + M₉₁*M₁₉ + M₁₁^2) + (M₁₁*M₆₁ + M₂₁*M₆₂ + M₃₁*M₆₃ + M₄₁*M₆₄ + M₅₁*M₆₅ + M₆₁*M₆₆ + M₆₁₀*M₁₀₁ + M₇₁*M₆₇ + M₈₁*M₆₈ + M₉₁*M₆₉)*(M₁₆*M₆₁ + M₂₆*M₆₂ + M₃₆*M₆₃ + M₄₆*M₆₄ + M₅₆*M₆₅ + M₆₁₀*M₁₀₆ + M₇₆*M₆₇ + M₈₆*M₆₈ + M₉₆*M₆₉ + M₆₆^2) + (M₁₂*M₆₁ + M₂₂*M₆₂ + M₃₂*M₆₃ + M₄₂*M₆₄ + M₅₂*M₆₅ + M₆₁₀*M₁₀₂ + M₆₂*M₆₆ + M₇₂*M₆₇ + M₈₂*M₆₈ + M₉₂*M₆₉)*(M₁₀₁*M₂₁₀ + M₂₁*M₁₁ + M₂₂*M₂₁ + M₂₆*M₆₁ + M₂₇*M₇₁ + M₃₁*M₂₃ + M₄₁*M₂₄ + M₅₁*M₂₅ + M₈₁*M₂₈ + M₉₁*M₂₉) + (M₁₃*M₆₁ + M₂₃*M₆₂ + M₃₃*M₆₃ + M₄₃*M₆₄ + M₅₃*M₆₅ + M₆₁₀*M₁₀₃ + M₆₃*M₆₆ + M₇₃*M₆₇ + M₈₃*M₆₈ + M₉₃*M₆₉)*(M₁₀₁*M₃₁₀ + M₃₁*M₁₁ + M₃₁*M₃₃ + M₃₂*M₂₁ + M₃₅*M₅₁ + M₃₆*M₆₁ + M₃₇*M₇₁ + M₃₈*M₈₁ + M₄₁*M₃₄ + M₉₁*M₃₉) + (M₁₄*M₆₁ + M₂₄*M₆₂ + M₃₄*M₆₃ + M₄₄*M₆₄ + M₅₄*M₆₅ + M₆₁₀*M₁₀₄ + M₆₄*M₆₆ + M₇₄*M₆₇ + M₈₄*M₆₈ + M₉₄*M₆₉)*(M₄₁*M₁₁ + M₄₁*M₄₄ + M₄₁₀*M₁₀₁ + M₄₂*M₂₁ + M₄₃*M₃₁ + M₄₅*M₅₁ + M₄₆*M₆₁ + M₄₇*M₇₁ + M₄₈*M₈₁ + M₉₁*M₄₉) + (M₁₅*M₆₁ + M₂₅*M₆₂ + M₃₅*M₆₃ + M₄₅*M₆₄ + M₅₅*M₆₅ + M₆₁₀*M₁₀₅ + M₆₅*M₆₆ + M₇₅*M₆₇ + M₈₅*M₆₈ + M₉₅*M₆₉)*(M₁₀₁*M₅₁₀ + M₃₁*M₅₃ + M₄₁*M₅₄ + M₅₁*M₁₁ + M₅₂*M₂₁ + M₅₅*M₅₁ + M₅₆*M₆₁ + M₅₇*M₇₁ + M₈₁*M₅₈ + M₉₁*M₅₉) + (M₁₇*M₆₁ + M₂₇*M₆₂ + M₃₇*M₆₃ + M₄₇*M₆₄ + M₅₇*M₆₅ + M₆₁₀*M₁₀₇ + M₆₆*M₆₇ + M₇₇*M₆₇ + M₈₇*M₆₈ + M₉₇*M₆₉)*(M₁₁*M₇₁ + M₂₁*M₇₂ + M₃₁*M₇₃ + M₄₁*M₇₄ + M₅₁*M₇₅ + M₇₁*M₇₇ + M₇₁₀*M₁₀₁ + M₇₆*M₆₁ + M₈₁*M₇₈ + M₉₁*M₇₉) + (M₁₈*M₆₁ + M₂₈*M₆₂ + M₃₈*M₆₃ + M₄₈*M₆₄ + M₅₈*M₆₅ + M₆₁₀*M₁₀₈ + M₆₆*M₆₈ + M₇₈*M₆₇ + M₈₈*M₆₈ + M₉₈*M₆₉)*(M₁₀₁*M₈₁₀ + M₃₁*M₈₃ + M₄₁*M₈₄ + M₈₁*M₁₁ + M₈₁*M₈₈ + M₈₂*M₂₁ + M₈₅*M₅₁ + M₈₆*M₆₁ + M₈₇*M₇₁ + M₉₁*M₈₉) + (M₁₉*M₆₁ + M₂₉*M₆₂ + M₃₉*M₆₃ + M₄₉*M₆₄ + M₅₉*M₆₅ + M₆₁₀*M₁₀₉ + M₆₉*M₆₆ + M₇₉*M₆₇ + M₈₉*M₆₈ + M₉₉*M₆₉)*(M₉₁*M₁₁ + M₉₁*M₉₉ + M₉₁₀*M₁₀₁ + M₉₂*M₂₁ + M₉₃*M₃₁ + M₉₄*M₄₁ + M₉₅*M₅₁ + M₉₆*M₆₁ + M₉₇*M₇₁ + M₉₈*M₈₁))*((M₁₀₁₀*M₆₁₀ + M₁₁₀*M₆₁ + M₂₁₀*M₆₂ + M₃₁₀*M₆₃ + M₄₁₀*M₆₄ + M₅₁₀*M₆₅ + M₆₁₀*M₆₆ + M₇₁₀*M₆₇ + M₈₁₀*M₆₈ + M₉₁₀*M₆₉)*(M₁₀₁*M₁₆ + M₁₀₁₀*M₁₀₆ + M₁₀₂*M₂₆ + M₁₀₃*M₃₆ + M₁₀₄*M₄₆ + M₁₀₅*M₅₆ + M₁₀₆*M₆₆ + M₁₀₇*M₇₆ + M₁₀₈*M₈₆ + M₁₀₉*M₉₆) + (M₁₁*M₆₁ + M₂₁*M₆₂ + M₃₁*M₆₃ + M₄₁*M₆₄ + M₅₁*M₆₅ + M₆₁*M₆₆ + M₆₁₀*M₁₀₁ + M₇₁*M₆₇ + M₈₁*M₆₈ + M₉₁*M₆₉)*(M₁₁*M₁₆ + M₁₁₀*M₁₀₆ + M₁₆*M₆₆ + M₁₇*M₇₆ + M₂₆*M₁₂ + M₃₆*M₁₃ + M₄₆*M₁₄ + M₅₆*M₁₅ + M₈₆*M₁₈ + M₉₆*M₁₉) + (M₁₂*M₆₁ + M₂₂*M₆₂ + M₃₂*M₆₃ + M₄₂*M₆₄ + M₅₂*M₆₅ + M₆₁₀*M₁₀₂ + M₆₂*M₆₆ + M₇₂*M₆₇ + M₈₂*M₆₈ + M₉₂*M₆₉)*(M₁₀₆*M₂₁₀ + M₂₁*M₁₆ + M₂₂*M₂₆ + M₂₆*M₆₆ + M₂₇*M₇₆ + M₃₆*M₂₃ + M₄₆*M₂₄ + M₅₆*M₂₅ + M₈₆*M₂₈ + M₉₆*M₂₉) + (M₁₃*M₆₁ + M₂₃*M₆₂ + M₃₃*M₆₃ + M₄₃*M₆₄ + M₅₃*M₆₅ + M₆₁₀*M₁₀₃ + M₆₃*M₆₆ + M₇₃*M₆₇ + M₈₃*M₆₈ + M₉₃*M₆₉)*(M₁₀₆*M₃₁₀ + M₃₁*M₁₆ + M₃₂*M₂₆ + M₃₅*M₅₆ + M₃₆*M₃₃ + M₃₆*M₆₆ + M₃₇*M₇₆ + M₃₈*M₈₆ + M₄₆*M₃₄ + M₉₆*M₃₉) + (M₁₄*M₆₁ + M₂₄*M₆₂ + M₃₄*M₆₃ + M₄₄*M₆₄ + M₅₄*M₆₅ + M₆₁₀*M₁₀₄ + M₆₄*M₆₆ + M₇₄*M₆₇ + M₈₄*M₆₈ + M₉₄*M₆₉)*(M₄₁*M₁₆ + M₄₁₀*M₁₀₆ + M₄₂*M₂₆ + M₄₃*M₃₆ + M₄₅*M₅₆ + M₄₆*M₄₄ + M₄₆*M₆₆ + M₄₇*M₇₆ + M₄₈*M₈₆ + M₉₆*M₄₉) + (M₁₅*M₆₁ + M₂₅*M₆₂ + M₃₅*M₆₃ + M₄₅*M₆₄ + M₅₅*M₆₅ + M₆₁₀*M₁₀₅ + M₆₅*M₆₆ + M₇₅*M₆₇ + M₈₅*M₆₈ + M₉₅*M₆₉)*(M₁₀₆*M₅₁₀ + M₃₆*M₅₃ + M₄₆*M₅₄ + M₅₁*M₁₆ + M₅₂*M₂₆ + M₅₆*M₅₅ + M₅₆*M₆₆ + M₅₇*M₇₆ + M₈₆*M₅₈ + M₉₆*M₅₉) + (M₁₇*M₆₁ + M₂₇*M₆₂ + M₃₇*M₆₃ + M₄₇*M₆₄ + M₅₇*M₆₅ + M₆₁₀*M₁₀₇ + M₆₆*M₆₇ + M₇₇*M₆₇ + M₈₇*M₆₈ + M₉₇*M₆₉)*(M₁₆*M₇₁ + M₂₆*M₇₂ + M₃₆*M₇₃ + M₄₆*M₇₄ + M₅₆*M₇₅ + M₇₁₀*M₁₀₆ + M₇₆*M₆₆ + M₇₇*M₇₆ + M₈₆*M₇₈ + M₉₆*M₇₉) + (M₁₈*M₆₁ + M₂₈*M₆₂ + M₃₈*M₆₃ + M₄₈*M₆₄ + M₅₈*M₆₅ + M₆₁₀*M₁₀₈ + M₆₆*M₆₈ + M₇₈*M₆₇ + M₈₈*M₆₈ + M₉₈*M₆₉)*(M₁₀₆*M₈₁₀ + M₃₆*M₈₃ + M₄₆*M₈₄ + M₈₁*M₁₆ + M₈₂*M₂₆ + M₈₅*M₅₆ + M₈₆*M₆₆ + M₈₇*M₇₆ + M₈₈*M₈₆ + M₉₆*M₈₉) + (M₁₉*M₆₁ + M₂₉*M₆₂ + M₃₉*M₆₃ + M₄₉*M₆₄ + M₅₉*M₆₅ + M₆₁₀*M₁₀₉ + M₆₉*M₆₆ + M₇₉*M₆₇ + M₈₉*M₆₈ + M₉₉*M₆₉)*(M₉₁*M₁₆ + M₉₁₀*M₁₀₆ + M₉₂*M₂₆ + M₉₃*M₃₆ + M₉₄*M₄₆ + M₉₅*M₅₆ + M₉₆*M₆₆ + M₉₆*M₉₉ + M₉₇*M₇₆ + M₉₈*M₈₆) + (M₁₆*M₆₁ + M₂₆*M₆₂ + M₃₆*M₆₃ + M₄₆*M₆₄ + M₅₆*M₆₅ + M₆₁₀*M₁₀₆ + M₇₆*M₆₇ + M₈₆*M₆₈ + M₉₆*M₆₉ + M₆₆^2)^2) + ((M₁₀₁₀*M₆₁₀ + M₁₁₀*M₆₁ + M₂₁₀*M₆₂ + M₃₁₀*M₆₃ + M₄₁₀*M₆₄ + M₅₁₀*M₆₅ + M₆₁₀*M₆₆ + M₇₁₀*M₆₇ + M₈₁₀*M₆₈ + M₉₁₀*M₆₉)*(M₁₀₁*M₁₃ + M₁₀₁₀*M₁₀₃ + M₁₀₂*M₂₃ + M₁₀₃*M₃₃ + M₁₀₄*M₄₃ + M₁₀₅*M₅₃ + M₁₀₆*M₆₃ + M₁₀₇*M₇₃ + M₁₀₈*M₈₃ + M₁₀₉*M₉₃) + (M₁₁*M₆₁ + M₂₁*M₆₂ + M₃₁*M₆₃ + M₄₁*M₆₄ + M₅₁*M₆₅ + M₆₁*M₆₆ + M₆₁₀*M₁₀₁ + M₇₁*M₆₇ + M₈₁*M₆₈ + M₉₁*M₆₉)*(M₁₁*M₁₃ + M₁₁₀*M₁₀₃ + M₁₆*M₆₃ + M₁₇*M₇₃ + M₂₃*M₁₂ + M₃₃*M₁₃ + M₄₃*M₁₄ + M₅₃*M₁₅ + M₈₃*M₁₈ + M₉₃*M₁₉) + (M₁₂*M₆₁ + M₂₂*M₆₂ + M₃₂*M₆₃ + M₄₂*M₆₄ + M₅₂*M₆₅ + M₆₁₀*M₁₀₂ + M₆₂*M₆₆ + M₇₂*M₆₇ + M₈₂*M₆₈ + M₉₂*M₆₉)*(M₁₀₃*M₂₁₀ + M₂₁*M₁₃ + M₂₂*M₂₃ + M₂₆*M₆₃ + M₂₇*M₇₃ + M₃₃*M₂₃ + M₄₃*M₂₄ + M₅₃*M₂₅ + M₈₃*M₂₈ + M₉₃*M₂₉) + (M₁₃*M₆₁ + M₂₃*M₆₂ + M₃₃*M₆₃ + M₄₃*M₆₄ + M₅₃*M₆₅ + M₆₁₀*M₁₀₃ + M₆₃*M₆₆ + M₇₃*M₆₇ + M₈₃*M₆₈ + M₉₃*M₆₉)*(M₁₀₃*M₃₁₀ + M₃₁*M₁₃ + M₃₂*M₂₃ + M₃₅*M₅₃ + M₃₆*M₆₃ + M₃₇*M₇₃ + M₃₈*M₈₃ + M₄₃*M₃₄ + M₉₃*M₃₉ + M₃₃^2) + (M₁₃*M₆₁ + M₂₃*M₆₂ + M₃₃*M₆₃ + M₄₃*M₆₄ + M₅₃*M₆₅ + M₆₁₀*M₁₀₃ + M₆₃*M₆₆ + M₇₃*M₆₇ + M₈₃*M₆₈ + M₉₃*M₆₉)*(M₁₆*M₆₁ + M₂₆*M₆₂ + M₃₆*M₆₃ + M₄₆*M₆₄ + M₅₆*M₆₅ + M₆₁₀*M₁₀₆ + M₇₆*M₆₇ + M₈₆*M₆₈ + M₉₆*M₆₉ + M₆₆^2) + (M₁₄*M₆₁ + M₂₄*M₆₂ + M₃₄*M₆₃ + M₄₄*M₆₄ + M₅₄*M₆₅ + M₆₁₀*M₁₀₄ + M₆₄*M₆₆ + M₇₄*M₆₇ + M₈₄*M₆₈ + M₉₄*M₆₉)*(M₄₁*M₁₃ + M₄₁₀*M₁₀₃ + M₄₂*M₂₃ + M₄₃*M₃₃ + M₄₄*M₄₃ + M₄₅*M₅₃ + M₄₆*M₆₃ + M₄₇*M₇₃ + M₄₈*M₈₃ + M₉₃*M₄₉) + (M₁₅*M₆₁ + M₂₅*M₆₂ + M₃₅*M₆₃ + M₄₅*M₆₄ + M₅₅*M₆₅ + M₆₁₀*M₁₀₅ + M₆₅*M₆₆ + M₇₅*M₆₇ + M₈₅*M₆₈ + M₉₅*M₆₉)*(M₁₀₃*M₅₁₀ + M₃₃*M₅₃ + M₄₃*M₅₄ + M₅₁*M₁₃ + M₅₂*M₂₃ + M₅₅*M₅₃ + M₅₆*M₆₃ + M₅₇*M₇₃ + M₈₃*M₅₈ + M₉₃*M₅₉) + (M₁₇*M₆₁ + M₂₇*M₆₂ + M₃₇*M₆₃ + M₄₇*M₆₄ + M₅₇*M₆₅ + M₆₁₀*M₁₀₇ + M₆₆*M₆₇ + M₇₇*M₆₇ + M₈₇*M₆₈ + M₉₇*M₆₉)*(M₁₃*M₇₁ + M₂₃*M₇₂ + M₃₃*M₇₃ + M₄₃*M₇₄ + M₅₃*M₇₅ + M₇₁₀*M₁₀₃ + M₇₃*M₇₇ + M₇₆*M₆₃ + M₈₃*M₇₈ + M₉₃*M₇₉) + (M₁₈*M₆₁ + M₂₈*M₆₂ + M₃₈*M₆₃ + M₄₈*M₆₄ + M₅₈*M₆₅ + M₆₁₀*M₁₀₈ + M₆₆*M₆₈ + M₇₈*M₆₇ + M₈₈*M₆₈ + M₉₈*M₆₉)*(M₁₀₃*M₈₁₀ + M₃₃*M₈₃ + M₄₃*M₈₄ + M₈₁*M₁₃ + M₈₂*M₂₃ + M₈₃*M₈₈ + M₈₅*M₅₃ + M₈₆*M₆₃ + M₈₇*M₇₃ + M₉₃*M₈₉) + (M₁₉*M₆₁ + M₂₉*M₆₂ + M₃₉*M₆₃ + M₄₉*M₆₄ + M₅₉*M₆₅ + M₆₁₀*M₁₀₉ + M₆₉*M₆₆ + M₇₉*M₆₇ + M₈₉*M₆₈ + M₉₉*M₆₉)*(M₉₁*M₁₃ + M₉₁₀*M₁₀₃ + M₉₂*M₂₃ + M₉₃*M₃₃ + M₉₄*M₄₃ + M₉₅*M₅₃ + M₉₆*M₆₃ + M₉₇*M₇₃ + M₉₈*M₈₃ + M₉₉*M₉₃))*((M₁₀₁*M₂₁₀ + M₂₁*M₁₁ + M₂₂*M₂₁ + M₂₆*M₆₁ + M₂₇*M₇₁ + M₃₁*M₂₃ + M₄₁*M₂₄ + M₅₁*M₂₅ + M₈₁*M₂₈ + M₉₁*M₂₉)*(M₁₀₂*M₃₁₀ + M₃₁*M₁₂ + M₃₂*M₂₂ + M₃₂*M₃₃ + M₃₅*M₅₂ + M₃₆*M₆₂ + M₃₇*M₇₂ + M₃₈*M₈₂ + M₄₂*M₃₄ + M₉₂*M₃₉) + (M₁₀₁*M₃₁₀ + M₃₁*M₁₁ + M₃₁*M₃₃ + M₃₂*M₂₁ + M₃₅*M₅₁ + M₃₆*M₆₁ + M₃₇*M₇₁ + M₃₈*M₈₁ + M₄₁*M₃₄ + M₉₁*M₃₉)*(M₁₀₃*M₃₁₀ + M₃₁*M₁₃ + M₃₂*M₂₃ + M₃₅*M₅₃ + M₃₆*M₆₃ + M₃₇*M₇₃ + M₃₈*M₈₃ + M₄₃*M₃₄ + M₉₃*M₃₉ + M₃₃^2) + (M₁₀₁*M₃₁₀ + M₃₁*M₁₁ + M₃₁*M₃₃ + M₃₂*M₂₁ + M₃₅*M₅₁ + M₃₆*M₆₁ + M₃₇*M₇₁ + M₃₈*M₈₁ + M₄₁*M₃₄ + M₉₁*M₃₉)*(M₁₁₀*M₁₀₁ + M₁₆*M₆₁ + M₁₇*M₇₁ + M₂₁*M₁₂ + M₃₁*M₁₃ + M₄₁*M₁₄ + M₅₁*M₁₅ + M₈₁*M₁₈ + M₉₁*M₁₉ + M₁₁^2) + (M₁₀₁*M₅₁₀ + M₃₁*M₅₃ + M₄₁*M₅₄ + M₅₁*M₁₁ + M₅₂*M₂₁ + M₅₅*M₅₁ + M₅₆*M₆₁ + M₅₇*M₇₁ + M₈₁*M₅₈ + M₉₁*M₅₉)*(M₁₀₅*M₃₁₀ + M₃₁*M₁₅ + M₃₂*M₂₅ + M₃₅*M₃₃ + M₃₅*M₅₅ + M₃₆*M₆₅ + M₃₇*M₇₅ + M₃₈*M₈₅ + M₄₅*M₃₄ + M₉₅*M₃₉) + (M₁₀₁*M₈₁₀ + M₃₁*M₈₃ + M₄₁*M₈₄ + M₈₁*M₁₁ + M₈₁*M₈₈ + M₈₂*M₂₁ + M₈₅*M₅₁ + M₈₆*M₆₁ + M₈₇*M₇₁ + M₉₁*M₈₉)*(M₁₀₈*M₃₁₀ + M₃₁*M₁₈ + M₃₂*M₂₈ + M₃₃*M₃₈ + M₃₅*M₅₈ + M₃₆*M₆₈ + M₃₇*M₇₈ + M₃₈*M₈₈ + M₄₈*M₃₄ + M₉₈*M₃₉) + (M₁₀₇*M₃₁₀ + M₃₁*M₁₇ + M₃₂*M₂₇ + M₃₃*M₃₇ + M₃₅*M₅₇ + M₃₆*M₆₇ + M₃₇*M₇₇ + M₃₈*M₈₇ + M₄₇*M₃₄ + M₉₇*M₃₉)*(M₁₁*M₇₁ + M₂₁*M₇₂ + M₃₁*M₇₃ + M₄₁*M₇₄ + M₅₁*M₇₅ + M₇₁*M₇₇ + M₇₁₀*M₁₀₁ + M₇₆*M₆₁ + M₈₁*M₇₈ + M₉₁*M₇₉) + (M₁₀₉*M₃₁₀ + M₃₁*M₁₉ + M₃₂*M₂₉ + M₃₃*M₃₉ + M₃₅*M₅₉ + M₃₆*M₆₉ + M₃₇*M₇₉ + M₃₈*M₈₉ + M₄₉*M₃₄ + M₉₉*M₃₉)*(M₉₁*M₁₁ + M₉₁*M₉₉ + M₉₁₀*M₁₀₁ + M₉₂*M₂₁ + M₉₃*M₃₁ + M₉₄*M₄₁ + M₉₅*M₅₁ + M₉₆*M₆₁ + M₉₇*M₇₁ + M₉₈*M₈₁) + (M₁₀₁₀*M₃₁₀ + M₁₁₀*M₃₁ + M₂₁₀*M₃₂ + M₃₁₀*M₃₃ + M₄₁₀*M₃₄ + M₅₁₀*M₃₅ + M₆₁₀*M₃₆ + M₇₁₀*M₃₇ + M₈₁₀*M₃₈ + M₉₁₀*M₃₉)*(M₁₀₁*M₁₁ + M₁₀₁₀*M₁₀₁ + M₁₀₂*M₂₁ + M₁₀₃*M₃₁ + M₁₀₄*M₄₁ + M₁₀₅*M₅₁ + M₁₀₆*M₆₁ + M₁₀₇*M₇₁ + M₁₀₈*M₈₁ + M₁₀₉*M₉₁) + (M₁₁*M₆₁ + M₂₁*M₆₂ + M₃₁*M₆₃ + M₄₁*M₆₄ + M₅₁*M₆₅ + M₆₁*M₆₆ + M₆₁₀*M₁₀₁ + M₇₁*M₆₇ + M₈₁*M₆₈ + M₉₁*M₆₉)*(M₁₀₆*M₃₁₀ + M₃₁*M₁₆ + M₃₂*M₂₆ + M₃₅*M₅₆ + M₃₆*M₃₃ + M₃₆*M₆₆ + M₃₇*M₇₆ + M₃₈*M₈₆ + M₄₆*M₃₄ + M₉₆*M₃₉) + (M₄₁*M₁₁ + M₄₁*M₄₄ + M₄₁₀*M₁₀₁ + M₄₂*M₂₁ + M₄₃*M₃₁ + M₄₅*M₅₁ + M₄₆*M₆₁ + M₄₇*M₇₁ + M₄₈*M₈₁ + M₉₁*M₄₉)*(M₁₀₄*M₃₁₀ + M₃₁*M₁₄ + M₃₂*M₂₄ + M₃₃*M₃₄ + M₃₅*M₅₄ + M₃₆*M₆₄ + M₃₇*M₇₄ + M₃₈*M₈₄ + M₄₄*M₃₄ + M₉₄*M₃₉)) + ((M₁₀₁₀*M₆₁₀ + M₁₁₀*M₆₁ + M₂₁₀*M₆₂ + M₃₁₀*M₆₃ + M₄₁₀*M₆₄ + M₅₁₀*M₆₅ + M₆₁₀*M₆₆ + M₇₁₀*M₆₇ + M₈₁₀*M₆₈ + M₉₁₀*M₆₉)*(M₁₀₁*M₁₇ + M₁₀₁₀*M₁₀₇ + M₁₀₂*M₂₇ + M₁₀₃*M₃₇ + M₁₀₄*M₄₇ + M₁₀₅*M₅₇ + M₁₀₆*M₆₇ + M₁₀₇*M₇₇ + M₁₀₈*M₈₇ + M₁₀₉*M₉₇) + (M₁₁*M₆₁ + M₂₁*M₆₂ + M₃₁*M₆₃ + M₄₁*M₆₄ + M₅₁*M₆₅ + M₆₁*M₆₆ + M₆₁₀*M₁₀₁ + M₇₁*M₆₇ + M₈₁*M₆₈ + M₉₁*M₆₉)*(M₁₁*M₁₇ + M₁₁₀*M₁₀₇ + M₁₆*M₆₇ + M₁₇*M₇₇ + M₂₇*M₁₂ + M₃₇*M₁₃ + M₄₇*M₁₄ + M₅₇*M₁₅ + M₈₇*M₁₈ + M₉₇*M₁₉) + (M₁₂*M₆₁ + M₂₂*M₆₂ + M₃₂*M₆₃ + M₄₂*M₆₄ + M₅₂*M₆₅ + M₆₁₀*M₁₀₂ + M₆₂*M₆₆ + M₇₂*M₆₇ + M₈₂*M₆₈ + M₉₂*M₆₉)*(M₁₀₇*M₂₁₀ + M₂₁*M₁₇ + M₂₂*M₂₇ + M₂₆*M₆₇ + M₂₇*M₇₇ + M₃₇*M₂₃ + M₄₇*M₂₄ + M₅₇*M₂₅ + M₈₇*M₂₈ + M₉₇*M₂₉) + (M₁₃*M₆₁ + M₂₃*M₆₂ + M₃₃*M₆₃ + M₄₃*M₆₄ + M₅₃*M₆₅ + M₆₁₀*M₁₀₃ + M₆₃*M₆₆ + M₇₃*M₆₇ + M₈₃*M₆₈ + M₉₃*M₆₉)*(M₁₀₇*M₃₁₀ + M₃₁*M₁₇ + M₃₂*M₂₇ + M₃₃*M₃₇ + M₃₅*M₅₇ + M₃₆*M₆₇ + M₃₇*M₇₇ + M₃₈*M₈₇ + M₄₇*M₃₄ + M₉₇*M₃₉) + (M₁₄*M₆₁ + M₂₄*M₆₂ + M₃₄*M₆₃ + M₄₄*M₆₄ + M₅₄*M₆₅ + M₆₁₀*M₁₀₄ + M₆₄*M₆₆ + M₇₄*M₆₇ + M₈₄*M₆₈ + M₉₄*M₆₉)*(M₄₁*M₁₇ + M₄₁₀*M₁₀₇ + M₄₂*M₂₇ + M₄₃*M₃₇ + M₄₄*M₄₇ + M₄₅*M₅₇ + M₄₆*M₆₇ + M₄₇*M₇₇ + M₄₈*M₈₇ + M₉₇*M₄₉) + (M₁₅*M₆₁ + M₂₅*M₆₂ + M₃₅*M₆₃ + M₄₅*M₆₄ + M₅₅*M₆₅ + M₆₁₀*M₁₀₅ + M₆₅*M₆₆ + M₇₅*M₆₇ + M₈₅*M₆₈ + M₉₅*M₆₉)*(M₁₀₇*M₅₁₀ + M₃₇*M₅₃ + M₄₇*M₅₄ + M₅₁*M₁₇ + M₅₂*M₂₇ + M₅₅*M₅₇ + M₅₆*M₆₇ + M₅₇*M₇₇ + M₈₇*M₅₈ + M₉₇*M₅₉) + (M₁₇*M₆₁ + M₂₇*M₆₂ + M₃₇*M₆₃ + M₄₇*M₆₄ + M₅₇*M₆₅ + M₆₁₀*M₁₀₇ + M₆₆*M₆₇ + M₇₇*M₆₇ + M₈₇*M₆₈ + M₉₇*M₆₉)*(M₁₆*M₆₁ + M₂₆*M₆₂ + M₃₆*M₆₃ + M₄₆*M₆₄ + M₅₆*M₆₅ + M₆₁₀*M₁₀₆ + M₇₆*M₆₇ + M₈₆*M₆₈ + M₉₆*M₆₉ + M₆₆^2) + (M₁₇*M₆₁ + M₂₇*M₆₂ + M₃₇*M₆₃ + M₄₇*M₆₄ + M₅₇*M₆₅ + M₆₁₀*M₁₀₇ + M₆₆*M₆₇ + M₇₇*M₆₇ + M₈₇*M₆₈ + M₉₇*M₆₉)*(M₁₇*M₇₁ + M₂₇*M₇₂ + M₃₇*M₇₃ + M₄₇*M₇₄ + M₅₇*M₇₅ + M₇₁₀*M₁₀₇ + M₇₆*M₆₇ + M₈₇*M₇₈ + M₉₇*M₇₉ + M₇₇^2) + (M₁₈*M₆₁ + M₂₈*M₆₂ + M₃₈*M₆₃ + M₄₈*M₆₄ + M₅₈*M₆₅ + M₆₁₀*M₁₀₈ + M₆₆*M₆₈ + M₇₈*M₆₇ + M₈₈*M₆₈ + M₉₈*M₆₉)*(M₁₀₇*M₈₁₀ + M₃₇*M₈₃ + M₄₇*M₈₄ + M₈₁*M₁₇ + M₈₂*M₂₇ + M₈₅*M₅₇ + M₈₆*M₆₇ + M₈₇*M₇₇ + M₈₇*M₈₈ + M₉₇*M₈₉) + (M₁₉*M₆₁ + M₂₉*M₆₂ + M₃₉*M₆₃ + M₄₉*M₆₄ + M₅₉*M₆₅ + M₆₁₀*M₁₀₉ + M₆₉*M₆₆ + M₇₉*M₆₇ + M₈₉*M₆₈ + M₉₉*M₆₉)*(M₉₁*M₁₇ + M₉₁₀*M₁₀₇ + M₉₂*M₂₇ + M₉₃*M₃₇ + M₉₄*M₄₇ + M₉₅*M₅₇ + M₉₆*M₆₇ + M₉₇*M₇₇ + M₉₇*M₉₉ + M₉₈*M₈₇))*((M₁₀₁*M₂₁₀ + M₂₁*M₁₁ + M₂₂*M₂₁ + M₂₆*M₆₁ + M₂₇*M₇₁ + M₃₁*M₂₃ + M₄₁*M₂₄ + M₅₁*M₂₅ + M₈₁*M₂₈ + M₉₁*M₂₉)*(M₁₂*M₇₁ + M₂₂*M₇₂ + M₃₂*M₇₃ + M₄₂*M₇₄ + M₅₂*M₇₅ + M₇₁₀*M₁₀₂ + M₇₂*M₇₇ + M₇₆*M₆₂ + M₈₂*M₇₈ + M₉₂*M₇₉) + (M₁₀₁*M₃₁₀ + M₃₁*M₁₁ + M₃₁*M₃₃ + M₃₂*M₂₁ + M₃₅*M₅₁ + M₃₆*M₆₁ + M₃₇*M₇₁ + M₃₈*M₈₁ + M₄₁*M₃₄ + M₉₁*M₃₉)*(M₁₃*M₇₁ + M₂₃*M₇₂ + M₃₃*M₇₃ + M₄₃*M₇₄ + M₅₃*M₇₅ + M₇₁₀*M₁₀₃ + M₇₃*M₇₇ + M₇₆*M₆₃ + M₈₃*M₇₈ + M₉₃*M₇₉) + (M₁₀₁*M₅₁₀ + M₃₁*M₅₃ + M₄₁*M₅₄ + M₅₁*M₁₁ + M₅₂*M₂₁ + M₅₅*M₅₁ + M₅₆*M₆₁ + M₅₇*M₇₁ + M₈₁*M₅₈ + M₉₁*M₅₉)*(M₁₅*M₇₁ + M₂₅*M₇₂ + M₃₅*M₇₃ + M₄₅*M₇₄ + M₅₅*M₇₅ + M₇₁₀*M₁₀₅ + M₇₆*M₆₅ + M₇₇*M₇₅ + M₈₅*M₇₈ + M₉₅*M₇₉) + (M₁₀₁*M₈₁₀ + M₃₁*M₈₃ + M₄₁*M₈₄ + M₈₁*M₁₁ + M₈₁*M₈₈ + M₈₂*M₂₁ + M₈₅*M₅₁ + M₈₆*M₆₁ + M₈₇*M₇₁ + M₉₁*M₈₉)*(M₁₈*M₇₁ + M₂₈*M₇₂ + M₃₈*M₇₃ + M₄₈*M₇₄ + M₅₈*M₇₅ + M₇₁₀*M₁₀₈ + M₇₆*M₆₈ + M₇₈*M₇₇ + M₈₈*M₇₈ + M₉₈*M₇₉) + (M₁₀₁*M₁₁ + M₁₀₁₀*M₁₀₁ + M₁₀₂*M₂₁ + M₁₀₃*M₃₁ + M₁₀₄*M₄₁ + M₁₀₅*M₅₁ + M₁₀₆*M₆₁ + M₁₀₇*M₇₁ + M₁₀₈*M₈₁ + M₁₀₉*M₉₁)*(M₁₀₁₀*M₇₁₀ + M₁₁₀*M₇₁ + M₂₁₀*M₇₂ + M₃₁₀*M₇₃ + M₄₁₀*M₇₄ + M₅₁₀*M₇₅ + M₆₁₀*M₇₆ + M₇₁₀*M₇₇ + M₈₁₀*M₇₈ + M₉₁₀*M₇₉) + (M₁₁₀*M₁₀₁ + M₁₆*M₆₁ + M₁₇*M₇₁ + M₂₁*M₁₂ + M₃₁*M₁₃ + M₄₁*M₁₄ + M₅₁*M₁₅ + M₈₁*M₁₈ + M₉₁*M₁₉ + M₁₁^2)*(M₁₁*M₇₁ + M₂₁*M₇₂ + M₃₁*M₇₃ + M₄₁*M₇₄ + M₅₁*M₇₅ + M₇₁*M₇₇ + M₇₁₀*M₁₀₁ + M₇₆*M₆₁ + M₈₁*M₇₈ + M₉₁*M₇₉) + (M₁₁*M₆₁ + M₂₁*M₆₂ + M₃₁*M₆₃ + M₄₁*M₆₄ + M₅₁*M₆₅ + M₆₁*M₆₆ + M₆₁₀*M₁₀₁ + M₇₁*M₆₇ + M₈₁*M₆₈ + M₉₁*M₆₉)*(M₁₆*M₇₁ + M₂₆*M₇₂ + M₃₆*M₇₃ + M₄₆*M₇₄ + M₅₆*M₇₅ + M₇₁₀*M₁₀₆ + M₇₆*M₆₆ + M₇₇*M₇₆ + M₈₆*M₇₈ + M₉₆*M₇₉) + (M₄₁*M₁₁ + M₄₁*M₄₄ + M₄₁₀*M₁₀₁ + M₄₂*M₂₁ + M₄₃*M₃₁ + M₄₅*M₅₁ + M₄₆*M₆₁ + M₄₇*M₇₁ + M₄₈*M₈₁ + M₉₁*M₄₉)*(M₁₄*M₇₁ + M₂₄*M₇₂ + M₃₄*M₇₃ + M₄₄*M₇₄ + M₅₄*M₇₅ + M₇₁₀*M₁₀₄ + M₇₄*M₇₇ + M₇₆*M₆₄ + M₈₄*M₇₈ + M₉₄*M₇₉) + (M₉₁*M₁₁ + M₉₁*M₉₉ + M₉₁₀*M₁₀₁ + M₉₂*M₂₁ + M₉₃*M₃₁ + M₉₄*M₄₁ + M₉₅*M₅₁ + M₉₆*M₆₁ + M₉₇*M₇₁ + M₉₈*M₈₁)*(M₁₉*M₇₁ + M₂₉*M₇₂ + M₃₉*M₇₃ + M₄₉*M₇₄ + M₅₉*M₇₅ + M₇₁₀*M₁₀₉ + M₇₆*M₆₉ + M₇₇*M₇₉ + M₈₉*M₇₈ + M₉₉*M₇₉) + (M₁₇*M₇₁ + M₂₇*M₇₂ + M₃₇*M₇₃ + M₄₇*M₇₄ + M₅₇*M₇₅ + M₇₁₀*M₁₀₇ + M₇₆*M₆₇ + M₈₇*M₇₈ + M₉₇*M₇₉ + M₇₇^2)*(M₁₁*M₇₁ + M₂₁*M₇₂ + M₃₁*M₇₃ + M₄₁*M₇₄ + M₅₁*M₇₅ + M₇₁*M₇₇ + M₇₁₀*M₁₀₁ + M₇₆*M₆₁ + M₈₁*M₇₈ + M₉₁*M₇₉)) + ((M₁₀₁₀*M₆₁₀ + M₁₁₀*M₆₁ + M₂₁₀*M₆₂ + M₃₁₀*M₆₃ + M₄₁₀*M₆₄ + M₅₁₀*M₆₅ + M₆₁₀*M₆₆ + M₇₁₀*M₆₇ + M₈₁₀*M₆₈ + M₉₁₀*M₆₉)*(M₁₀₁*M₁₈ + M₁₀₁₀*M₁₀₈ + M₁₀₂*M₂₈ + M₁₀₃*M₃₈ + M₁₀₄*M₄₈ + M₁₀₅*M₅₈ + M₁₀₆*M₆₈ + M₁₀₇*M₇₈ + M₁₀₈*M₈₈ + M₁₀₉*M₉₈) + (M₁₁*M₆₁ + M₂₁*M₆₂ + M₃₁*M₆₃ + M₄₁*M₆₄ + M₅₁*M₆₅ + M₆₁*M₆₆ + M₆₁₀*M₁₀₁ + M₇₁*M₆₇ + M₈₁*M₆₈ + M₉₁*M₆₉)*(M₁₁*M₁₈ + M₁₁₀*M₁₀₈ + M₁₆*M₆₈ + M₁₇*M₇₈ + M₂₈*M₁₂ + M₃₈*M₁₃ + M₄₈*M₁₄ + M₅₈*M₁₅ + M₈₈*M₁₈ + M₉₈*M₁₉) + (M₁₂*M₆₁ + M₂₂*M₆₂ + M₃₂*M₆₃ + M₄₂*M₆₄ + M₅₂*M₆₅ + M₆₁₀*M₁₀₂ + M₆₂*M₆₆ + M₇₂*M₆₇ + M₈₂*M₆₈ + M₉₂*M₆₉)*(M₁₀₈*M₂₁₀ + M₂₁*M₁₈ + M₂₂*M₂₈ + M₂₆*M₆₈ + M₂₇*M₇₈ + M₃₈*M₂₃ + M₄₈*M₂₄ + M₅₈*M₂₅ + M₈₈*M₂₈ + M₉₈*M₂₉) + (M₁₃*M₆₁ + M₂₃*M₆₂ + M₃₃*M₆₃ + M₄₃*M₆₄ + M₅₃*M₆₅ + M₆₁₀*M₁₀₃ + M₆₃*M₆₆ + M₇₃*M₆₇ + M₈₃*M₆₈ + M₉₃*M₆₉)*(M₁₀₈*M₃₁₀ + M₃₁*M₁₈ + M₃₂*M₂₈ + M₃₃*M₃₈ + M₃₅*M₅₈ + M₃₆*M₆₈ + M₃₇*M₇₈ + M₃₈*M₈₈ + M₄₈*M₃₄ + M₉₈*M₃₉) + (M₁₄*M₆₁ + M₂₄*M₆₂ + M₃₄*M₆₃ + M₄₄*M₆₄ + M₅₄*M₆₅ + M₆₁₀*M₁₀₄ + M₆₄*M₆₆ + M₇₄*M₆₇ + M₈₄*M₆₈ + M₉₄*M₆₉)*(M₄₁*M₁₈ + M₄₁₀*M₁₀₈ + M₄₂*M₂₈ + M₄₃*M₃₈ + M₄₄*M₄₈ + M₄₅*M₅₈ + M₄₆*M₆₈ + M₄₇*M₇₈ + M₄₈*M₈₈ + M₉₈*M₄₉) + (M₁₅*M₆₁ + M₂₅*M₆₂ + M₃₅*M₆₃ + M₄₅*M₆₄ + M₅₅*M₆₅ + M₆₁₀*M₁₀₅ + M₆₅*M₆₆ + M₇₅*M₆₇ + M₈₅*M₆₈ + M₉₅*M₆₉)*(M₁₀₈*M₅₁₀ + M₃₈*M₅₃ + M₄₈*M₅₄ + M₅₁*M₁₈ + M₅₂*M₂₈ + M₅₅*M₅₈ + M₅₆*M₆₈ + M₅₇*M₇₈ + M₈₈*M₅₈ + M₉₈*M₅₉) + (M₁₇*M₆₁ + M₂₇*M₆₂ + M₃₇*M₆₃ + M₄₇*M₆₄ + M₅₇*M₆₅ + M₆₁₀*M₁₀₇ + M₆₆*M₆₇ + M₇₇*M₆₇ + M₈₇*M₆₈ + M₉₇*M₆₉)*(M₁₈*M₇₁ + M₂₈*M₇₂ + M₃₈*M₇₃ + M₄₈*M₇₄ + M₅₈*M₇₅ + M₇₁₀*M₁₀₈ + M₇₆*M₆₈ + M₇₈*M₇₇ + M₈₈*M₇₈ + M₉₈*M₇₉) + (M₁₈*M₆₁ + M₂₈*M₆₂ + M₃₈*M₆₃ + M₄₈*M₆₄ + M₅₈*M₆₅ + M₆₁₀*M₁₀₈ + M₆₆*M₆₈ + M₇₈*M₆₇ + M₈₈*M₆₈ + M₉₈*M₆₉)*(M₁₀₈*M₈₁₀ + M₃₈*M₈₃ + M₄₈*M₈₄ + M₈₁*M₁₈ + M₈₂*M₂₈ + M₈₅*M₅₈ + M₈₆*M₆₈ + M₈₇*M₇₈ + M₉₈*M₈₉ + M₈₈^2) + (M₁₈*M₆₁ + M₂₈*M₆₂ + M₃₈*M₆₃ + M₄₈*M₆₄ + M₅₈*M₆₅ + M₆₁₀*M₁₀₈ + M₆₆*M₆₈ + M₇₈*M₆₇ + M₈₈*M₆₈ + M₉₈*M₆₉)*(M₁₆*M₆₁ + M₂₆*M₆₂ + M₃₆*M₆₃ + M₄₆*M₆₄ + M₅₆*M₆₅ + M₆₁₀*M₁₀₆ + M₇₆*M₆₇ + M₈₆*M₆₈ + M₉₆*M₆₉ + M₆₆^2) + (M₁₉*M₆₁ + M₂₉*M₆₂ + M₃₉*M₆₃ + M₄₉*M₆₄ + M₅₉*M₆₅ + M₆₁₀*M₁₀₉ + M₆₉*M₆₆ + M₇₉*M₆₇ + M₈₉*M₆₈ + M₉₉*M₆₉)*(M₉₁*M₁₈ + M₉₁₀*M₁₀₈ + M₉₂*M₂₈ + M₉₃*M₃₈ + M₉₄*M₄₈ + M₉₅*M₅₈ + M₉₆*M₆₈ + M₉₇*M₇₈ + M₉₈*M₈₈ + M₉₈*M₉₉))*((M₁₀₁*M₂₁₀ + M₂₁*M₁₁ + M₂₂*M₂₁ + M₂₆*M₆₁ + M₂₇*M₇₁ + M₃₁*M₂₃ + M₄₁*M₂₄ + M₅₁*M₂₅ + M₈₁*M₂₈ + M₉₁*M₂₉)*(M₁₀₂*M₈₁₀ + M₃₂*M₈₃ + M₄₂*M₈₄ + M₈₁*M₁₂ + M₈₂*M₂₂ + M₈₂*M₈₈ + M₈₅*M₅₂ + M₈₆*M₆₂ + M₈₇*M₇₂ + M₉₂*M₈₉) + (M₁₀₁*M₅₁₀ + M₃₁*M₅₃ + M₄₁*M₅₄ + M₅₁*M₁₁ + M₅₂*M₂₁ + M₅₅*M₅₁ + M₅₆*M₆₁ + M₅₇*M₇₁ + M₈₁*M₅₈ + M₉₁*M₅₉)*(M₁₀₅*M₈₁₀ + M₃₅*M₈₃ + M₄₅*M₈₄ + M₈₁*M₁₅ + M₈₂*M₂₅ + M₈₅*M₅₅ + M₈₆*M₆₅ + M₈₇*M₇₅ + M₈₈*M₈₅ + M₉₅*M₈₉) + (M₁₀₁*M₈₁₀ + M₃₁*M₈₃ + M₄₁*M₈₄ + M₈₁*M₁₁ + M₈₁*M₈₈ + M₈₂*M₂₁ + M₈₅*M₅₁ + M₈₆*M₆₁ + M₈₇*M₇₁ + M₉₁*M₈₉)*(M₁₀₈*M₈₁₀ + M₃₈*M₈₃ + M₄₈*M₈₄ + M₈₁*M₁₈ + M₈₂*M₂₈ + M₈₅*M₅₈ + M₈₆*M₆₈ + M₈₇*M₇₈ + M₉₈*M₈₉ + M₈₈^2) + (M₁₀₁*M₈₁₀ + M₃₁*M₈₃ + M₄₁*M₈₄ + M₈₁*M₁₁ + M₈₁*M₈₈ + M₈₂*M₂₁ + M₈₅*M₅₁ + M₈₆*M₆₁ + M₈₇*M₇₁ + M₉₁*M₈₉)*(M₁₁₀*M₁₀₁ + M₁₆*M₆₁ + M₁₇*M₇₁ + M₂₁*M₁₂ + M₃₁*M₁₃ + M₄₁*M₁₄ + M₅₁*M₁₅ + M₈₁*M₁₈ + M₉₁*M₁₉ + M₁₁^2) + (M₁₀₃*M₈₁₀ + M₃₃*M₈₃ + M₄₃*M₈₄ + M₈₁*M₁₃ + M₈₂*M₂₃ + M₈₃*M₈₈ + M₈₅*M₅₃ + M₈₆*M₆₃ + M₈₇*M₇₃ + M₉₃*M₈₉)*(M₁₀₁*M₃₁₀ + M₃₁*M₁₁ + M₃₁*M₃₃ + M₃₂*M₂₁ + M₃₅*M₅₁ + M₃₆*M₆₁ + M₃₇*M₇₁ + M₃₈*M₈₁ + M₄₁*M₃₄ + M₉₁*M₃₉) + (M₁₀₇*M₈₁₀ + M₃₇*M₈₃ + M₄₇*M₈₄ + M₈₁*M₁₇ + M₈₂*M₂₇ + M₈₅*M₅₇ + M₈₆*M₆₇ + M₈₇*M₇₇ + M₈₇*M₈₈ + M₉₇*M₈₉)*(M₁₁*M₇₁ + M₂₁*M₇₂ + M₃₁*M₇₃ + M₄₁*M₇₄ + M₅₁*M₇₅ + M₇₁*M₇₇ + M₇₁₀*M₁₀₁ + M₇₆*M₆₁ + M₈₁*M₇₈ + M₉₁*M₇₉) + (M₁₀₉*M₈₁₀ + M₃₉*M₈₃ + M₄₉*M₈₄ + M₈₁*M₁₉ + M₈₂*M₂₉ + M₈₅*M₅₉ + M₈₆*M₆₉ + M₈₇*M₇₉ + M₈₉*M₈₈ + M₉₉*M₈₉)*(M₉₁*M₁₁ + M₉₁*M₉₉ + M₉₁₀*M₁₀₁ + M₉₂*M₂₁ + M₉₃*M₃₁ + M₉₄*M₄₁ + M₉₅*M₅₁ + M₉₆*M₆₁ + M₉₇*M₇₁ + M₉₈*M₈₁) + (M₁₀₁₀*M₈₁₀ + M₁₁₀*M₈₁ + M₂₁₀*M₈₂ + M₃₁₀*M₈₃ + M₄₁₀*M₈₄ + M₅₁₀*M₈₅ + M₆₁₀*M₈₆ + M₇₁₀*M₈₇ + M₈₁₀*M₈₈ + M₉₁₀*M₈₉)*(M₁₀₁*M₁₁ + M₁₀₁₀*M₁₀₁ + M₁₀₂*M₂₁ + M₁₀₃*M₃₁ + M₁₀₄*M₄₁ + M₁₀₅*M₅₁ + M₁₀₆*M₆₁ + M₁₀₇*M₇₁ + M₁₀₈*M₈₁ + M₁₀₉*M₉₁) + (M₁₁*M₆₁ + M₂₁*M₆₂ + M₃₁*M₆₃ + M₄₁*M₆₄ + M₅₁*M₆₅ + M₆₁*M₆₆ + M₆₁₀*M₁₀₁ + M₇₁*M₆₇ + M₈₁*M₆₈ + M₉₁*M₆₉)*(M₁₀₆*M₈₁₀ + M₃₆*M₈₃ + M₄₆*M₈₄ + M₈₁*M₁₆ + M₈₂*M₂₆ + M₈₅*M₅₆ + M₈₆*M₆₆ + M₈₇*M₇₆ + M₈₈*M₈₆ + M₉₆*M₈₉) + (M₄₁*M₁₁ + M₄₁*M₄₄ + M₄₁₀*M₁₀₁ + M₄₂*M₂₁ + M₄₃*M₃₁ + M₄₅*M₅₁ + M₄₆*M₆₁ + M₄₇*M₇₁ + M₄₈*M₈₁ + M₉₁*M₄₉)*(M₁₀₄*M₈₁₀ + M₃₄*M₈₃ + M₄₄*M₈₄ + M₈₁*M₁₄ + M₈₂*M₂₄ + M₈₄*M₈₈ + M₈₅*M₅₄ + M₈₆*M₆₄ + M₈₇*M₇₄ + M₉₄*M₈₉)) + ((M₁₀₁₀*M₆₁₀ + M₁₁₀*M₆₁ + M₂₁₀*M₆₂ + M₃₁₀*M₆₃ + M₄₁₀*M₆₄ + M₅₁₀*M₆₅ + M₆₁₀*M₆₆ + M₇₁₀*M₆₇ + M₈₁₀*M₆₈ + M₉₁₀*M₆₉)*(M₁₀₁*M₁₉ + M₁₀₁₀*M₁₀₉ + M₁₀₂*M₂₉ + M₁₀₃*M₃₉ + M₁₀₄*M₄₉ + M₁₀₅*M₅₉ + M₁₀₆*M₆₉ + M₁₀₇*M₇₉ + M₁₀₈*M₈₉ + M₁₀₉*M₉₉) + (M₁₁*M₆₁ + M₂₁*M₆₂ + M₃₁*M₆₃ + M₄₁*M₆₄ + M₅₁*M₆₅ + M₆₁*M₆₆ + M₆₁₀*M₁₀₁ + M₇₁*M₆₇ + M₈₁*M₆₈ + M₉₁*M₆₉)*(M₁₁*M₁₉ + M₁₁₀*M₁₀₉ + M₁₆*M₆₉ + M₁₇*M₇₉ + M₂₉*M₁₂ + M₃₉*M₁₃ + M₄₉*M₁₄ + M₅₉*M₁₅ + M₈₉*M₁₈ + M₉₉*M₁₉) + (M₁₂*M₆₁ + M₂₂*M₆₂ + M₃₂*M₆₃ + M₄₂*M₆₄ + M₅₂*M₆₅ + M₆₁₀*M₁₀₂ + M₆₂*M₆₆ + M₇₂*M₆₇ + M₈₂*M₆₈ + M₉₂*M₆₉)*(M₁₀₉*M₂₁₀ + M₂₁*M₁₉ + M₂₂*M₂₉ + M₂₆*M₆₉ + M₂₇*M₇₉ + M₃₉*M₂₃ + M₄₉*M₂₄ + M₅₉*M₂₅ + M₈₉*M₂₈ + M₉₉*M₂₉) + (M₁₃*M₆₁ + M₂₃*M₆₂ + M₃₃*M₆₃ + M₄₃*M₆₄ + M₅₃*M₆₅ + M₆₁₀*M₁₀₃ + M₆₃*M₆₆ + M₇₃*M₆₇ + M₈₃*M₆₈ + M₉₃*M₆₉)*(M₁₀₉*M₃₁₀ + M₃₁*M₁₉ + M₃₂*M₂₉ + M₃₃*M₃₉ + M₃₅*M₅₉ + M₃₆*M₆₉ + M₃₇*M₇₉ + M₃₈*M₈₉ + M₄₉*M₃₄ + M₉₉*M₃₉) + (M₁₄*M₆₁ + M₂₄*M₆₂ + M₃₄*M₆₃ + M₄₄*M₆₄ + M₅₄*M₆₅ + M₆₁₀*M₁₀₄ + M₆₄*M₆₆ + M₇₄*M₆₇ + M₈₄*M₆₈ + M₉₄*M₆₉)*(M₄₁*M₁₉ + M₄₁₀*M₁₀₉ + M₄₂*M₂₉ + M₄₃*M₃₉ + M₄₄*M₄₉ + M₄₅*M₅₉ + M₄₆*M₆₉ + M₄₇*M₇₉ + M₄₈*M₈₉ + M₉₉*M₄₉) + (M₁₅*M₆₁ + M₂₅*M₆₂ + M₃₅*M₆₃ + M₄₅*M₆₄ + M₅₅*M₆₅ + M₆₁₀*M₁₀₅ + M₆₅*M₆₆ + M₇₅*M₆₇ + M₈₅*M₆₈ + M₉₅*M₆₉)*(M₁₀₉*M₅₁₀ + M₃₉*M₅₃ + M₄₉*M₅₄ + M₅₁*M₁₉ + M₅₂*M₂₉ + M₅₅*M₅₉ + M₅₆*M₆₉ + M₅₇*M₇₉ + M₈₉*M₅₈ + M₉₉*M₅₉) + (M₁₇*M₆₁ + M₂₇*M₆₂ + M₃₇*M₆₃ + M₄₇*M₆₄ + M₅₇*M₆₅ + M₆₁₀*M₁₀₇ + M₆₆*M₆₇ + M₇₇*M₆₇ + M₈₇*M₆₈ + M₉₇*M₆₉)*(M₁₉*M₇₁ + M₂₉*M₇₂ + M₃₉*M₇₃ + M₄₉*M₇₄ + M₅₉*M₇₅ + M₇₁₀*M₁₀₉ + M₇₆*M₆₉ + M₇₇*M₇₉ + M₈₉*M₇₈ + M₉₉*M₇₉) + (M₁₈*M₆₁ + M₂₈*M₆₂ + M₃₈*M₆₃ + M₄₈*M₆₄ + M₅₈*M₆₅ + M₆₁₀*M₁₀₈ + M₆₆*M₆₈ + M₇₈*M₆₇ + M₈₈*M₆₈ + M₉₈*M₆₉)*(M₁₀₉*M₈₁₀ + M₃₉*M₈₃ + M₄₉*M₈₄ + M₈₁*M₁₉ + M₈₂*M₂₉ + M₈₅*M₅₉ + M₈₆*M₆₉ + M₈₇*M₇₉ + M₈₉*M₈₈ + M₉₉*M₈₉) + (M₁₉*M₆₁ + M₂₉*M₆₂ + M₃₉*M₆₃ + M₄₉*M₆₄ + M₅₉*M₆₅ + M₆₁₀*M₁₀₉ + M₆₉*M₆₆ + M₇₉*M₆₇ + M₈₉*M₆₈ + M₉₉*M₆₉)*(M₁₆*M₆₁ + M₂₆*M₆₂ + M₃₆*M₆₃ + M₄₆*M₆₄ + M₅₆*M₆₅ + M₆₁₀*M₁₀₆ + M₇₆*M₆₇ + M₈₆*M₆₈ + M₉₆*M₆₉ + M₆₆^2) + (M₁₉*M₆₁ + M₂₉*M₆₂ + M₃₉*M₆₃ + M₄₉*M₆₄ + M₅₉*M₆₅ + M₆₁₀*M₁₀₉ + M₆₉*M₆₆ + M₇₉*M₆₇ + M₈₉*M₆₈ + M₉₉*M₆₉)*(M₉₁*M₁₉ + M₉₁₀*M₁₀₉ + M₉₂*M₂₉ + M₉₃*M₃₉ + M₉₄*M₄₉ + M₉₅*M₅₉ + M₉₆*M₆₉ + M₉₇*M₇₉ + M₉₈*M₈₉ + M₉₉^2))*((M₁₀₁*M₂₁₀ + M₂₁*M₁₁ + M₂₂*M₂₁ + M₂₆*M₆₁ + M₂₇*M₇₁ + M₃₁*M₂₃ + M₄₁*M₂₄ + M₅₁*M₂₅ + M₈₁*M₂₈ + M₉₁*M₂₉)*(M₉₁*M₁₂ + M₉₁₀*M₁₀₂ + M₉₂*M₂₂ + M₉₃*M₃₂ + M₉₄*M₄₂ + M₉₅*M₅₂ + M₉₆*M₆₂ + M₉₇*M₇₂ + M₉₈*M₈₂ + M₉₉*M₉₂) + (M₁₀₁*M₃₁₀ + M₃₁*M₁₁ + M₃₁*M₃₃ + M₃₂*M₂₁ + M₃₅*M₅₁ + M₃₆*M₆₁ + M₃₇*M₇₁ + M₃₈*M₈₁ + M₄₁*M₃₄ + M₉₁*M₃₉)*(M₉₁*M₁₃ + M₉₁₀*M₁₀₃ + M₉₂*M₂₃ + M₉₃*M₃₃ + M₉₄*M₄₃ + M₉₅*M₅₃ + M₉₆*M₆₃ + M₉₇*M₇₃ + M₉₈*M₈₃ + M₉₉*M₉₃) + (M₁₀₁*M₅₁₀ + M₃₁*M₅₃ + M₄₁*M₅₄ + M₅₁*M₁₁ + M₅₂*M₂₁ + M₅₅*M₅₁ + M₅₆*M₆₁ + M₅₇*M₇₁ + M₈₁*M₅₈ + M₉₁*M₅₉)*(M₉₁*M₁₅ + M₉₁₀*M₁₀₅ + M₉₂*M₂₅ + M₉₃*M₃₅ + M₉₄*M₄₅ + M₉₅*M₅₅ + M₉₆*M₆₅ + M₉₇*M₇₅ + M₉₈*M₈₅ + M₉₉*M₉₅) + (M₁₀₁*M₈₁₀ + M₃₁*M₈₃ + M₄₁*M₈₄ + M₈₁*M₁₁ + M₈₁*M₈₈ + M₈₂*M₂₁ + M₈₅*M₅₁ + M₈₆*M₆₁ + M₈₇*M₇₁ + M₉₁*M₈₉)*(M₉₁*M₁₈ + M₉₁₀*M₁₀₈ + M₉₂*M₂₈ + M₉₃*M₃₈ + M₉₄*M₄₈ + M₉₅*M₅₈ + M₉₆*M₆₈ + M₉₇*M₇₈ + M₉₈*M₈₈ + M₉₈*M₉₉) + (M₁₁₀*M₁₀₁ + M₁₆*M₆₁ + M₁₇*M₇₁ + M₂₁*M₁₂ + M₃₁*M₁₃ + M₄₁*M₁₄ + M₅₁*M₁₅ + M₈₁*M₁₈ + M₉₁*M₁₉ + M₁₁^2)*(M₉₁*M₁₁ + M₉₁*M₉₉ + M₉₁₀*M₁₀₁ + M₉₂*M₂₁ + M₉₃*M₃₁ + M₉₄*M₄₁ + M₉₅*M₅₁ + M₉₆*M₆₁ + M₉₇*M₇₁ + M₉₈*M₈₁) + (M₁₀₁₀*M₉₁₀ + M₁₁₀*M₉₁ + M₂₁₀*M₉₂ + M₃₁₀*M₉₃ + M₄₁₀*M₉₄ + M₅₁₀*M₉₅ + M₆₁₀*M₉₆ + M₇₁₀*M₉₇ + M₈₁₀*M₉₈ + M₉₁₀*M₉₉)*(M₁₀₁*M₁₁ + M₁₀₁₀*M₁₀₁ + M₁₀₂*M₂₁ + M₁₀₃*M₃₁ + M₁₀₄*M₄₁ + M₁₀₅*M₅₁ + M₁₀₆*M₆₁ + M₁₀₇*M₇₁ + M₁₀₈*M₈₁ + M₁₀₉*M₉₁) + (M₁₁*M₆₁ + M₂₁*M₆₂ + M₃₁*M₆₃ + M₄₁*M₆₄ + M₅₁*M₆₅ + M₆₁*M₆₆ + M₆₁₀*M₁₀₁ + M₇₁*M₆₇ + M₈₁*M₆₈ + M₉₁*M₆₉)*(M₉₁*M₁₆ + M₉₁₀*M₁₀₆ + M₉₂*M₂₆ + M₉₃*M₃₆ + M₉₄*M₄₆ + M₉₅*M₅₆ + M₉₆*M₆₆ + M₉₆*M₉₉ + M₉₇*M₇₆ + M₉₈*M₈₆) + (M₄₁*M₁₁ + M₄₁*M₄₄ + M₄₁₀*M₁₀₁ + M₄₂*M₂₁ + M₄₃*M₃₁ + M₄₅*M₅₁ + M₄₆*M₆₁ + M₄₇*M₇₁ + M₄₈*M₈₁ + M₉₁*M₄₉)*(M₉₁*M₁₄ + M₉₁₀*M₁₀₄ + M₉₂*M₂₄ + M₉₃*M₃₄ + M₉₄*M₄₄ + M₉₅*M₅₄ + M₉₆*M₆₄ + M₉₇*M₇₄ + M₉₈*M₈₄ + M₉₉*M₉₄) + (M₉₁*M₁₇ + M₉₁₀*M₁₀₇ + M₉₂*M₂₇ + M₉₃*M₃₇ + M₉₄*M₄₇ + M₉₅*M₅₇ + M₉₆*M₆₇ + M₉₇*M₇₇ + M₉₇*M₉₉ + M₉₈*M₈₇)*(M₁₁*M₇₁ + M₂₁*M₇₂ + M₃₁*M₇₃ + M₄₁*M₇₄ + M₅₁*M₇₅ + M₇₁*M₇₇ + M₇₁₀*M₁₀₁ + M₇₆*M₆₁ + M₈₁*M₇₈ + M₉₁*M₇₉) + (M₉₁*M₁₉ + M₉₁₀*M₁₀₉ + M₉₂*M₂₉ + M₉₃*M₃₉ + M₉₄*M₄₉ + M₉₅*M₅₉ + M₉₆*M₆₉ + M₉₇*M₇₉ + M₉₈*M₈₉ + M₉₉^2)*(M₉₁*M₁₁ + M₉₁*M₉₉ + M₉₁₀*M₁₀₁ + M₉₂*M₂₁ + M₉₃*M₃₁ + M₉₄*M₄₁ + M₉₅*M₅₁ + M₉₆*M₆₁ + M₉₇*M₇₁ + M₉₈*M₈₁)) + ((M₁₀₁*M₂₁₀ + M₂₁*M₁₁ + M₂₂*M₂₁ + M₂₆*M₆₁ + M₂₇*M₇₁ + M₃₁*M₂₃ + M₄₁*M₂₄ + M₅₁*M₂₅ + M₈₁*M₂₈ + M₉₁*M₂₉)*(M₁₀₁*M₁₂ + M₁₀₁₀*M₁₀₂ + M₁₀₂*M₂₂ + M₁₀₃*M₃₂ + M₁₀₄*M₄₂ + M₁₀₅*M₅₂ + M₁₀₆*M₆₂ + M₁₀₇*M₇₂ + M₁₀₈*M₈₂ + M₁₀₉*M₉₂) + (M₁₀₁*M₃₁₀ + M₃₁*M₁₁ + M₃₁*M₃₃ + M₃₂*M₂₁ + M₃₅*M₅₁ + M₃₆*M₆₁ + M₃₇*M₇₁ + M₃₈*M₈₁ + M₄₁*M₃₄ + M₉₁*M₃₉)*(M₁₀₁*M₁₃ + M₁₀₁₀*M₁₀₃ + M₁₀₂*M₂₃ + M₁₀₃*M₃₃ + M₁₀₄*M₄₃ + M₁₀₅*M₅₃ + M₁₀₆*M₆₃ + M₁₀₇*M₇₃ + M₁₀₈*M₈₃ + M₁₀₉*M₉₃) + (M₁₀₁*M₅₁₀ + M₃₁*M₅₃ + M₄₁*M₅₄ + M₅₁*M₁₁ + M₅₂*M₂₁ + M₅₅*M₅₁ + M₅₆*M₆₁ + M₅₇*M₇₁ + M₈₁*M₅₈ + M₉₁*M₅₉)*(M₁₀₁*M₁₅ + M₁₀₁₀*M₁₀₅ + M₁₀₂*M₂₅ + M₁₀₃*M₃₅ + M₁₀₄*M₄₅ + M₁₀₅*M₅₅ + M₁₀₆*M₆₅ + M₁₀₇*M₇₅ + M₁₀₈*M₈₅ + M₁₀₉*M₉₅) + (M₁₀₁*M₈₁₀ + M₃₁*M₈₃ + M₄₁*M₈₄ + M₈₁*M₁₁ + M₈₁*M₈₈ + M₈₂*M₂₁ + M₈₅*M₅₁ + M₈₆*M₆₁ + M₈₇*M₇₁ + M₉₁*M₈₉)*(M₁₀₁*M₁₈ + M₁₀₁₀*M₁₀₈ + M₁₀₂*M₂₈ + M₁₀₃*M₃₈ + M₁₀₄*M₄₈ + M₁₀₅*M₅₈ + M₁₀₆*M₆₈ + M₁₀₇*M₇₈ + M₁₀₈*M₈₈ + M₁₀₉*M₉₈) + (M₁₁₀*M₁₀₁ + M₁₆*M₆₁ + M₁₇*M₇₁ + M₂₁*M₁₂ + M₃₁*M₁₃ + M₄₁*M₁₄ + M₅₁*M₁₅ + M₈₁*M₁₈ + M₉₁*M₁₉ + M₁₁^2)*(M₁₀₁*M₁₁ + M₁₀₁₀*M₁₀₁ + M₁₀₂*M₂₁ + M₁₀₃*M₃₁ + M₁₀₄*M₄₁ + M₁₀₅*M₅₁ + M₁₀₆*M₆₁ + M₁₀₇*M₇₁ + M₁₀₈*M₈₁ + M₁₀₉*M₉₁) + (M₁₁*M₆₁ + M₂₁*M₆₂ + M₃₁*M₆₃ + M₄₁*M₆₄ + M₅₁*M₆₅ + M₆₁*M₆₆ + M₆₁₀*M₁₀₁ + M₇₁*M₆₇ + M₈₁*M₆₈ + M₉₁*M₆₉)*(M₁₀₁*M₁₆ + M₁₀₁₀*M₁₀₆ + M₁₀₂*M₂₆ + M₁₀₃*M₃₆ + M₁₀₄*M₄₆ + M₁₀₅*M₅₆ + M₁₀₆*M₆₆ + M₁₀₇*M₇₆ + M₁₀₈*M₈₆ + M₁₀₉*M₉₆) + (M₁₀₂*M₂₁₀ + M₁₀₃*M₃₁₀ + M₁₀₅*M₅₁₀ + M₁₀₈*M₈₁₀ + M₁₁₀*M₁₀₁ + M₄₁₀*M₁₀₄ + M₆₁₀*M₁₀₆ + M₇₁₀*M₁₀₇ + M₉₁₀*M₁₀₉ + M₁₀₁₀^2)*(M₁₀₁*M₁₁ + M₁₀₁₀*M₁₀₁ + M₁₀₂*M₂₁ + M₁₀₃*M₃₁ + M₁₀₄*M₄₁ + M₁₀₅*M₅₁ + M₁₀₆*M₆₁ + M₁₀₇*M₇₁ + M₁₀₈*M₈₁ + M₁₀₉*M₉₁) + (M₄₁*M₁₁ + M₄₁*M₄₄ + M₄₁₀*M₁₀₁ + M₄₂*M₂₁ + M₄₃*M₃₁ + M₄₅*M₅₁ + M₄₆*M₆₁ + M₄₇*M₇₁ + M₄₈*M₈₁ + M₉₁*M₄₉)*(M₁₀₁*M₁₄ + M₁₀₁₀*M₁₀₄ + M₁₀₂*M₂₄ + M₁₀₃*M₃₄ + M₁₀₄*M₄₄ + M₁₀₅*M₅₄ + M₁₀₆*M₆₄ + M₁₀₇*M₇₄ + M₁₀₈*M₈₄ + M₁₀₉*M₉₄) + (M₁₁*M₇₁ + M₂₁*M₇₂ + M₃₁*M₇₃ + M₄₁*M₇₄ + M₅₁*M₇₅ + M₇₁*M₇₇ + M₇₁₀*M₁₀₁ + M₇₆*M₆₁ + M₈₁*M₇₈ + M₉₁*M₇₉)*(M₁₀₁*M₁₇ + M₁₀₁₀*M₁₀₇ + M₁₀₂*M₂₇ + M₁₀₃*M₃₇ + M₁₀₄*M₄₇ + M₁₀₅*M₅₇ + M₁₀₆*M₆₇ + M₁₀₇*M₇₇ + M₁₀₈*M₈₇ + M₁₀₉*M₉₇) + (M₉₁*M₁₁ + M₉₁*M₉₉ + M₉₁₀*M₁₀₁ + M₉₂*M₂₁ + M₉₃*M₃₁ + M₉₄*M₄₁ + M₉₅*M₅₁ + M₉₆*M₆₁ + M₉₇*M₇₁ + M₉₈*M₈₁)*(M₁₀₁*M₁₉ + M₁₀₁₀*M₁₀₉ + M₁₀₂*M₂₉ + M₁₀₃*M₃₉ + M₁₀₄*M₄₉ + M₁₀₅*M₅₉ + M₁₀₆*M₆₉ + M₁₀₇*M₇₉ + M₁₀₈*M₈₉ + M₁₀₉*M₉₉))*((M₁₁*M₆₁ + M₂₁*M₆₂ + M₃₁*M₆₃ + M₄₁*M₆₄ + M₅₁*M₆₅ + M₆₁*M₆₆ + M₆₁₀*M₁₀₁ + M₇₁*M₆₇ + M₈₁*M₆₈ + M₉₁*M₆₉)*(M₁₀₁₀*M₁₁₀ + M₁₁₀*M₁₁ + M₂₁₀*M₁₂ + M₃₁₀*M₁₃ + M₄₁₀*M₁₄ + M₅₁₀*M₁₅ + M₆₁₀*M₁₆ + M₇₁₀*M₁₇ + M₈₁₀*M₁₈ + M₉₁₀*M₁₉) + (M₁₂*M₆₁ + M₂₂*M₆₂ + M₃₂*M₆₃ + M₄₂*M₆₄ + M₅₂*M₆₅ + M₆₁₀*M₁₀₂ + M₆₂*M₆₆ + M₇₂*M₆₇ + M₈₂*M₆₈ + M₉₂*M₆₉)*(M₁₀₁₀*M₂₁₀ + M₁₁₀*M₂₁ + M₂₁₀*M₂₂ + M₃₁₀*M₂₃ + M₄₁₀*M₂₄ + M₅₁₀*M₂₅ + M₆₁₀*M₂₆ + M₇₁₀*M₂₇ + M₈₁₀*M₂₈ + M₉₁₀*M₂₉) + (M₁₃*M₆₁ + M₂₃*M₆₂ + M₃₃*M₆₃ + M₄₃*M₆₄ + M₅₃*M₆₅ + M₆₁₀*M₁₀₃ + M₆₃*M₆₆ + M₇₃*M₆₇ + M₈₃*M₆₈ + M₉₃*M₆₉)*(M₁₀₁₀*M₃₁₀ + M₁₁₀*M₃₁ + M₂₁₀*M₃₂ + M₃₁₀*M₃₃ + M₄₁₀*M₃₄ + M₅₁₀*M₃₅ + M₆₁₀*M₃₆ + M₇₁₀*M₃₇ + M₈₁₀*M₃₈ + M₉₁₀*M₃₉) + (M₁₄*M₆₁ + M₂₄*M₆₂ + M₃₄*M₆₃ + M₄₄*M₆₄ + M₅₄*M₆₅ + M₆₁₀*M₁₀₄ + M₆₄*M₆₆ + M₇₄*M₆₇ + M₈₄*M₆₈ + M₉₄*M₆₉)*(M₁₀₁₀*M₄₁₀ + M₁₁₀*M₄₁ + M₂₁₀*M₄₂ + M₃₁₀*M₄₃ + M₄₁₀*M₄₄ + M₅₁₀*M₄₅ + M₆₁₀*M₄₆ + M₇₁₀*M₄₇ + M₈₁₀*M₄₈ + M₉₁₀*M₄₉) + (M₁₅*M₆₁ + M₂₅*M₆₂ + M₃₅*M₆₃ + M₄₅*M₆₄ + M₅₅*M₆₅ + M₆₁₀*M₁₀₅ + M₆₅*M₆₆ + M₇₅*M₆₇ + M₈₅*M₆₈ + M₉₅*M₆₉)*(M₁₀₁₀*M₅₁₀ + M₁₁₀*M₅₁ + M₂₁₀*M₅₂ + M₃₁₀*M₅₃ + M₄₁₀*M₅₄ + M₅₁₀*M₅₅ + M₆₁₀*M₅₆ + M₇₁₀*M₅₇ + M₈₁₀*M₅₈ + M₉₁₀*M₅₉) + (M₁₀₂*M₂₁₀ + M₁₀₃*M₃₁₀ + M₁₀₅*M₅₁₀ + M₁₀₈*M₈₁₀ + M₁₁₀*M₁₀₁ + M₄₁₀*M₁₀₄ + M₆₁₀*M₁₀₆ + M₇₁₀*M₁₀₇ + M₉₁₀*M₁₀₉ + M₁₀₁₀^2)*(M₁₀₁₀*M₆₁₀ + M₁₁₀*M₆₁ + M₂₁₀*M₆₂ + M₃₁₀*M₆₃ + M₄₁₀*M₆₄ + M₅₁₀*M₆₅ + M₆₁₀*M₆₆ + M₇₁₀*M₆₇ + M₈₁₀*M₆₈ + M₉₁₀*M₆₉) + (M₁₆*M₆₁ + M₂₆*M₆₂ + M₃₆*M₆₃ + M₄₆*M₆₄ + M₅₆*M₆₅ + M₆₁₀*M₁₀₆ + M₇₆*M₆₇ + M₈₆*M₆₈ + M₉₆*M₆₉ + M₆₆^2)*(M₁₀₁₀*M₆₁₀ + M₁₁₀*M₆₁ + M₂₁₀*M₆₂ + M₃₁₀*M₆₃ + M₄₁₀*M₆₄ + M₅₁₀*M₆₅ + M₆₁₀*M₆₆ + M₇₁₀*M₆₇ + M₈₁₀*M₆₈ + M₉₁₀*M₆₉) + (M₁₇*M₆₁ + M₂₇*M₆₂ + M₃₇*M₆₃ + M₄₇*M₆₄ + M₅₇*M₆₅ + M₆₁₀*M₁₀₇ + M₆₆*M₆₇ + M₇₇*M₆₇ + M₈₇*M₆₈ + M₉₇*M₆₉)*(M₁₀₁₀*M₇₁₀ + M₁₁₀*M₇₁ + M₂₁₀*M₇₂ + M₃₁₀*M₇₃ + M₄₁₀*M₇₄ + M₅₁₀*M₇₅ + M₆₁₀*M₇₆ + M₇₁₀*M₇₇ + M₈₁₀*M₇₈ + M₉₁₀*M₇₉) + (M₁₈*M₆₁ + M₂₈*M₆₂ + M₃₈*M₆₃ + M₄₈*M₆₄ + M₅₈*M₆₅ + M₆₁₀*M₁₀₈ + M₆₆*M₆₈ + M₇₈*M₆₇ + M₈₈*M₆₈ + M₉₈*M₆₉)*(M₁₀₁₀*M₈₁₀ + M₁₁₀*M₈₁ + M₂₁₀*M₈₂ + M₃₁₀*M₈₃ + M₄₁₀*M₈₄ + M₅₁₀*M₈₅ + M₆₁₀*M₈₆ + M₇₁₀*M₈₇ + M₈₁₀*M₈₈ + M₉₁₀*M₈₉) + (M₁₉*M₆₁ + M₂₉*M₆₂ + M₃₉*M₆₃ + M₄₉*M₆₄ + M₅₉*M₆₅ + M₆₁₀*M₁₀₉ + M₆₉*M₆₆ + M₇₉*M₆₇ + M₈₉*M₆₈ + M₉₉*M₆₉)*(M₁₀₁₀*M₉₁₀ + M₁₁₀*M₉₁ + M₂₁₀*M₉₂ + M₃₁₀*M₉₃ + M₄₁₀*M₉₄ + M₅₁₀*M₉₅ + M₆₁₀*M₉₆ + M₇₁₀*M₉₇ + M₈₁₀*M₉₈ + M₉₁₀*M₉₉)) + ((M₁₀₁*M₁₁ + M₁₀₁₀*M₁₀₁ + M₁₀₂*M₂₁ + M₁₀₃*M₃₁ + M₁₀₄*M₄₁ + M₁₀₅*M₅₁ + M₁₀₆*M₆₁ + M₁₀₇*M₇₁ + M₁₀₈*M₈₁ + M₁₀₉*M₉₁)*(M₁₀₁₀*M₄₁₀ + M₁₁₀*M₄₁ + M₂₁₀*M₄₂ + M₃₁₀*M₄₃ + M₄₁₀*M₄₄ + M₅₁₀*M₄₅ + M₆₁₀*M₄₆ + M₇₁₀*M₄₇ + M₈₁₀*M₄₈ + M₉₁₀*M₄₉) + (M₁₁*M₆₁ + M₂₁*M₆₂ + M₃₁*M₆₃ + M₄₁*M₆₄ + M₅₁*M₆₅ + M₆₁*M₆₆ + M₆₁₀*M₁₀₁ + M₇₁*M₆₇ + M₈₁*M₆₈ + M₉₁*M₆₉)*(M₄₁*M₁₆ + M₄₁₀*M₁₀₆ + M₄₂*M₂₆ + M₄₃*M₃₆ + M₄₅*M₅₆ + M₄₆*M₄₄ + M₄₆*M₆₆ + M₄₇*M₇₆ + M₄₈*M₈₆ + M₉₆*M₄₉) + (M₄₁*M₁₁ + M₄₁*M₄₄ + M₄₁₀*M₁₀₁ + M₄₂*M₂₁ + M₄₃*M₃₁ + M₄₅*M₅₁ + M₄₆*M₆₁ + M₄₇*M₇₁ + M₄₈*M₈₁ + M₉₁*M₄₉)*(M₁₁₀*M₁₀₁ + M₁₆*M₆₁ + M₁₇*M₇₁ + M₂₁*M₁₂ + M₃₁*M₁₃ + M₄₁*M₁₄ + M₅₁*M₁₅ + M₈₁*M₁₈ + M₉₁*M₁₉ + M₁₁^2) + (M₄₁*M₁₂ + M₄₁₀*M₁₀₂ + M₄₂*M₂₂ + M₄₂*M₄₄ + M₄₃*M₃₂ + M₄₅*M₅₂ + M₄₆*M₆₂ + M₄₇*M₇₂ + M₄₈*M₈₂ + M₉₂*M₄₉)*(M₁₀₁*M₂₁₀ + M₂₁*M₁₁ + M₂₂*M₂₁ + M₂₆*M₆₁ + M₂₇*M₇₁ + M₃₁*M₂₃ + M₄₁*M₂₄ + M₅₁*M₂₅ + M₈₁*M₂₈ + M₉₁*M₂₉) + (M₄₁*M₁₃ + M₄₁₀*M₁₀₃ + M₄₂*M₂₃ + M₄₃*M₃₃ + M₄₄*M₄₃ + M₄₅*M₅₃ + M₄₆*M₆₃ + M₄₇*M₇₃ + M₄₈*M₈₃ + M₉₃*M₄₉)*(M₁₀₁*M₃₁₀ + M₃₁*M₁₁ + M₃₁*M₃₃ + M₃₂*M₂₁ + M₃₅*M₅₁ + M₃₆*M₆₁ + M₃₇*M₇₁ + M₃₈*M₈₁ + M₄₁*M₃₄ + M₉₁*M₃₉) + (M₄₁*M₁₄ + M₄₁₀*M₁₀₄ + M₄₂*M₂₄ + M₄₃*M₃₄ + M₄₅*M₅₄ + M₄₆*M₆₄ + M₄₇*M₇₄ + M₄₈*M₈₄ + M₉₄*M₄₉ + M₄₄^2)*(M₄₁*M₁₁ + M₄₁*M₄₄ + M₄₁₀*M₁₀₁ + M₄₂*M₂₁ + M₄₃*M₃₁ + M₄₅*M₅₁ + M₄₆*M₆₁ + M₄₇*M₇₁ + M₄₈*M₈₁ + M₉₁*M₄₉) + (M₄₁*M₁₅ + M₄₁₀*M₁₀₅ + M₄₂*M₂₅ + M₄₃*M₃₅ + M₄₅*M₄₄ + M₄₅*M₅₅ + M₄₆*M₆₅ + M₄₇*M₇₅ + M₄₈*M₈₅ + M₉₅*M₄₉)*(M₁₀₁*M₅₁₀ + M₃₁*M₅₃ + M₄₁*M₅₄ + M₅₁*M₁₁ + M₅₂*M₂₁ + M₅₅*M₅₁ + M₅₆*M₆₁ + M₅₇*M₇₁ + M₈₁*M₅₈ + M₉₁*M₅₉) + (M₄₁*M₁₇ + M₄₁₀*M₁₀₇ + M₄₂*M₂₇ + M₄₃*M₃₇ + M₄₄*M₄₇ + M₄₅*M₅₇ + M₄₆*M₆₇ + M₄₇*M₇₇ + M₄₈*M₈₇ + M₉₇*M₄₉)*(M₁₁*M₇₁ + M₂₁*M₇₂ + M₃₁*M₇₃ + M₄₁*M₇₄ + M₅₁*M₇₅ + M₇₁*M₇₇ + M₇₁₀*M₁₀₁ + M₇₆*M₆₁ + M₈₁*M₇₈ + M₉₁*M₇₉) + (M₄₁*M₁₈ + M₄₁₀*M₁₀₈ + M₄₂*M₂₈ + M₄₃*M₃₈ + M₄₄*M₄₈ + M₄₅*M₅₈ + M₄₆*M₆₈ + M₄₇*M₇₈ + M₄₈*M₈₈ + M₉₈*M₄₉)*(M₁₀₁*M₈₁₀ + M₃₁*M₈₃ + M₄₁*M₈₄ + M₈₁*M₁₁ + M₈₁*M₈₈ + M₈₂*M₂₁ + M₈₅*M₅₁ + M₈₆*M₆₁ + M₈₇*M₇₁ + M₉₁*M₈₉) + (M₄₁*M₁₉ + M₄₁₀*M₁₀₉ + M₄₂*M₂₉ + M₄₃*M₃₉ + M₄₄*M₄₉ + M₄₅*M₅₉ + M₄₆*M₆₉ + M₄₇*M₇₉ + M₄₈*M₈₉ + M₉₉*M₄₉)*(M₉₁*M₁₁ + M₉₁*M₉₉ + M₉₁₀*M₁₀₁ + M₉₂*M₂₁ + M₉₃*M₃₁ + M₉₄*M₄₁ + M₉₅*M₅₁ + M₉₆*M₆₁ + M₉₇*M₇₁ + M₉₈*M₈₁))*((M₁₀₁₀*M₆₁₀ + M₁₁₀*M₆₁ + M₂₁₀*M₆₂ + M₃₁₀*M₆₃ + M₄₁₀*M₆₄ + M₅₁₀*M₆₅ + M₆₁₀*M₆₆ + M₇₁₀*M₆₇ + M₈₁₀*M₆₈ + M₉₁₀*M₆₉)*(M₁₀₁*M₁₄ + M₁₀₁₀*M₁₀₄ + M₁₀₂*M₂₄ + M₁₀₃*M₃₄ + M₁₀₄*M₄₄ + M₁₀₅*M₅₄ + M₁₀₆*M₆₄ + M₁₀₇*M₇₄ + M₁₀₈*M₈₄ + M₁₀₉*M₉₄) + (M₁₁*M₆₁ + M₂₁*M₆₂ + M₃₁*M₆₃ + M₄₁*M₆₄ + M₅₁*M₆₅ + M₆₁*M₆₆ + M₆₁₀*M₁₀₁ + M₇₁*M₆₇ + M₈₁*M₆₈ + M₉₁*M₆₉)*(M₁₁*M₁₄ + M₁₁₀*M₁₀₄ + M₁₆*M₆₄ + M₁₇*M₇₄ + M₂₄*M₁₂ + M₃₄*M₁₃ + M₄₄*M₁₄ + M₅₄*M₁₅ + M₈₄*M₁₈ + M₉₄*M₁₉) + (M₁₂*M₆₁ + M₂₂*M₆₂ + M₃₂*M₆₃ + M₄₂*M₆₄ + M₅₂*M₆₅ + M₆₁₀*M₁₀₂ + M₆₂*M₆₆ + M₇₂*M₆₇ + M₈₂*M₆₈ + M₉₂*M₆₉)*(M₁₀₄*M₂₁₀ + M₂₁*M₁₄ + M₂₂*M₂₄ + M₂₆*M₆₄ + M₂₇*M₇₄ + M₃₄*M₂₃ + M₄₄*M₂₄ + M₅₄*M₂₅ + M₈₄*M₂₈ + M₉₄*M₂₉) + (M₁₃*M₆₁ + M₂₃*M₆₂ + M₃₃*M₆₃ + M₄₃*M₆₄ + M₅₃*M₆₅ + M₆₁₀*M₁₀₃ + M₆₃*M₆₆ + M₇₃*M₆₇ + M₈₃*M₆₈ + M₉₃*M₆₉)*(M₁₀₄*M₃₁₀ + M₃₁*M₁₄ + M₃₂*M₂₄ + M₃₃*M₃₄ + M₃₅*M₅₄ + M₃₆*M₆₄ + M₃₇*M₇₄ + M₃₈*M₈₄ + M₄₄*M₃₄ + M₉₄*M₃₉) + (M₁₄*M₆₁ + M₂₄*M₆₂ + M₃₄*M₆₃ + M₄₄*M₆₄ + M₅₄*M₆₅ + M₆₁₀*M₁₀₄ + M₆₄*M₆₆ + M₇₄*M₆₇ + M₈₄*M₆₈ + M₉₄*M₆₉)*(M₁₆*M₆₁ + M₂₆*M₆₂ + M₃₆*M₆₃ + M₄₆*M₆₄ + M₅₆*M₆₅ + M₆₁₀*M₁₀₆ + M₇₆*M₆₇ + M₈₆*M₆₈ + M₉₆*M₆₉ + M₆₆^2) + (M₁₅*M₆₁ + M₂₅*M₆₂ + M₃₅*M₆₃ + M₄₅*M₆₄ + M₅₅*M₆₅ + M₆₁₀*M₁₀₅ + M₆₅*M₆₆ + M₇₅*M₆₇ + M₈₅*M₆₈ + M₉₅*M₆₉)*(M₁₀₄*M₅₁₀ + M₃₄*M₅₃ + M₄₄*M₅₄ + M₅₁*M₁₄ + M₅₂*M₂₄ + M₅₅*M₅₄ + M₅₆*M₆₄ + M₅₇*M₇₄ + M₈₄*M₅₈ + M₉₄*M₅₉) + (M₁₇*M₆₁ + M₂₇*M₆₂ + M₃₇*M₆₃ + M₄₇*M₆₄ + M₅₇*M₆₅ + M₆₁₀*M₁₀₇ + M₆₆*M₆₇ + M₇₇*M₆₇ + M₈₇*M₆₈ + M₉₇*M₆₉)*(M₁₄*M₇₁ + M₂₄*M₇₂ + M₃₄*M₇₃ + M₄₄*M₇₄ + M₅₄*M₇₅ + M₇₁₀*M₁₀₄ + M₇₄*M₇₇ + M₇₆*M₆₄ + M₈₄*M₇₈ + M₉₄*M₇₉) + (M₁₈*M₆₁ + M₂₈*M₆₂ + M₃₈*M₆₃ + M₄₈*M₆₄ + M₅₈*M₆₅ + M₆₁₀*M₁₀₈ + M₆₆*M₆₈ + M₇₈*M₆₇ + M₈₈*M₆₈ + M₉₈*M₆₉)*(M₁₀₄*M₈₁₀ + M₃₄*M₈₃ + M₄₄*M₈₄ + M₈₁*M₁₄ + M₈₂*M₂₄ + M₈₄*M₈₈ + M₈₅*M₅₄ + M₈₆*M₆₄ + M₈₇*M₇₄ + M₉₄*M₈₉) + (M₁₉*M₆₁ + M₂₉*M₆₂ + M₃₉*M₆₃ + M₄₉*M₆₄ + M₅₉*M₆₅ + M₆₁₀*M₁₀₉ + M₆₉*M₆₆ + M₇₉*M₆₇ + M₈₉*M₆₈ + M₉₉*M₆₉)*(M₉₁*M₁₄ + M₉₁₀*M₁₀₄ + M₉₂*M₂₄ + M₉₃*M₃₄ + M₉₄*M₄₄ + M₉₅*M₅₄ + M₉₆*M₆₄ + M₉₇*M₇₄ + M₉₈*M₈₄ + M₉₉*M₉₄) + (M₄₁*M₁₄ + M₄₁₀*M₁₀₄ + M₄₂*M₂₄ + M₄₃*M₃₄ + M₄₅*M₅₄ + M₄₆*M₆₄ + M₄₇*M₇₄ + M₄₈*M₈₄ + M₉₄*M₄₉ + M₄₄^2)*(M₁₄*M₆₁ + M₂₄*M₆₂ + M₃₄*M₆₃ + M₄₄*M₆₄ + M₅₄*M₆₅ + M₆₁₀*M₁₀₄ + M₆₄*M₆₆ + M₇₄*M₆₇ + M₈₄*M₆₈ + M₉₄*M₆₉))) + (M₁₁*M₁₈ + M₁₁₀*M₁₀₈ + M₁₆*M₆₈ + M₁₇*M₇₈ + M₂₈*M₁₂ + M₃₈*M₁₃ + M₄₈*M₁₄ + M₅₈*M₁₅ + M₈₈*M₁₈ + M₉₈*M₁₉)*(((M₁₀₁*M₂₁₀ + M₂₁*M₁₁ + M₂₂*M₂₁ + M₂₆*M₆₁ + M₂₇*M₇₁ + M₃₁*M₂₃ + M₄₁*M₂₄ + M₅₁*M₂₅ + M₈₁*M₂₈ + M₉₁*M₂₉)*(M₉₁*M₁₂ + M₉₁₀*M₁₀₂ + M₉₂*M₂₂ + M₉₃*M₃₂ + M₉₄*M₄₂ + M₉₅*M₅₂ + M₉₆*M₆₂ + M₉₇*M₇₂ + M₉₈*M₈₂ + M₉₉*M₉₂) + (M₁₀₁*M₃₁₀ + M₃₁*M₁₁ + M₃₁*M₃₃ + M₃₂*M₂₁ + M₃₅*M₅₁ + M₃₆*M₆₁ + M₃₇*M₇₁ + M₃₈*M₈₁ + M₄₁*M₃₄ + M₉₁*M₃₉)*(M₉₁*M₁₃ + M₉₁₀*M₁₀₃ + M₉₂*M₂₃ + M₉₃*M₃₃ + M₉₄*M₄₃ + M₉₅*M₅₃ + M₉₆*M₆₃ + M₉₇*M₇₃ + M₉₈*M₈₃ + M₉₉*M₉₃) + (M₁₀₁*M₅₁₀ + M₃₁*M₅₃ + M₄₁*M₅₄ + M₅₁*M₁₁ + M₅₂*M₂₁ + M₅₅*M₅₁ + M₅₆*M₆₁ + M₅₇*M₇₁ + M₈₁*M₅₈ + M₉₁*M₅₉)*(M₉₁*M₁₅ + M₉₁₀*M₁₀₅ + M₉₂*M₂₅ + M₉₃*M₃₅ + M₉₄*M₄₅ + M₉₅*M₅₅ + M₉₆*M₆₅ + M₉₇*M₇₅ + M₉₈*M₈₅ + M₉₉*M₉₅) + (M₁₀₁*M₈₁₀ + M₃₁*M₈₃ + M₄₁*M₈₄ + M₈₁*M₁₁ + M₈₁*M₈₈ + M₈₂*M₂₁ + M₈₅*M₅₁ + M₈₆*M₆₁ + M₈₇*M₇₁ + M₉₁*M₈₉)*(M₉₁*M₁₈ + M₉₁₀*M₁₀₈ + M₉₂*M₂₈ + M₉₃*M₃₈ + M₉₄*M₄₈ + M₉₅*M₅₈ + M₉₆*M₆₈ + M₉₇*M₇₈ + M₉₈*M₈₈ + M₉₈*M₉₉) + (M₁₁₀*M₁₀₁ + M₁₆*M₆₁ + M₁₇*M₇₁ + M₂₁*M₁₂ + M₃₁*M₁₃ + M₄₁*M₁₄ + M₅₁*M₁₅ + M₈₁*M₁₈ + M₉₁*M₁₉ + M₁₁^2)*(M₉₁*M₁₁ + M₉₁*M₉₉ + M₉₁₀*M₁₀₁ + M₉₂*M₂₁ + M₉₃*M₃₁ + M₉₄*M₄₁ + M₉₅*M₅₁ + M₉₆*M₆₁ + M₉₇*M₇₁ + M₉₈*M₈₁) + (M₁₀₁₀*M₉₁₀ + M₁₁₀*M₉₁ + M₂₁₀*M₉₂ + M₃₁₀*M₉₃ + M₄₁₀*M₉₄ + M₅₁₀*M₉₅ + M₆₁₀*M₉₆ + M₇₁₀*M₉₇ + M₈₁₀*M₉₈ + M₉₁₀*M₉₉)*(M₁₀₁*M₁₁ + M₁₀₁₀*M₁₀₁ + M₁₀₂*M₂₁ + M₁₀₃*M₃₁ + M₁₀₄*M₄₁ + M₁₀₅*M₅₁ + M₁₀₆*M₆₁ + M₁₀₇*M₇₁ + M₁₀₈*M₈₁ + M₁₀₉*M₉₁) + (M₁₁*M₆₁ + M₂₁*M₆₂ + M₃₁*M₆₃ + M₄₁*M₆₄ + M₅₁*M₆₅ + M₆₁*M₆₆ + M₆₁₀*M₁₀₁ + M₇₁*M₆₇ + M₈₁*M₆₈ + M₉₁*M₆₉)*(M₉₁*M₁₆ + M₉₁₀*M₁₀₆ + M₉₂*M₂₆ + M₉₃*M₃₆ + M₉₄*M₄₆ + M₉₅*M₅₆ + M₉₆*M₆₆ + M₉₆*M₉₉ + M₉₇*M₇₆ + M₉₈*M₈₆) + (M₄₁*M₁₁ + M₄₁*M₄₄ + M₄₁₀*M₁₀₁ + M₄₂*M₂₁ + M₄₃*M₃₁ + M₄₅*M₅₁ + M₄₆*M₆₁ + M₄₇*M₇₁ + M₄₈*M₈₁ + M₉₁*M₄₉)*(M₉₁*M₁₄ + M₉₁₀*M₁₀₄ + M₉₂*M₂₄ + M₉₃*M₃₄ + M₉₄*M₄₄ + M₉₅*M₅₄ + M₉₆*M₆₄ + M₉₇*M₇₄ + M₉₈*M₈₄ + M₉₉*M₉₄) + (M₉₁*M₁₇ + M₉₁₀*M₁₀₇ + M₉₂*M₂₇ + M₉₃*M₃₇ + M₉₄*M₄₇ + M₉₅*M₅₇ + M₉₆*M₆₇ + M₉₇*M₇₇ + M₉₇*M₉₉ + M₉₈*M₈₇)*(M₁₁*M₇₁ + M₂₁*M₇₂ + M₃₁*M₇₃ + M₄₁*M₇₄ + M₅₁*M₇₅ + M₇₁*M₇₇ + M₇₁₀*M₁₀₁ + M₇₆*M₆₁ + M₈₁*M₇₈ + M₉₁*M₇₉) + (M₉₁*M₁₉ + M₉₁₀*M₁₀₉ + M₉₂*M₂₉ + M₉₃*M₃₉ + M₉₄*M₄₉ + M₉₅*M₅₉ + M₉₆*M₆₉ + M₉₇*M₇₉ + M₉₈*M₈₉ + M₉₉^2)*(M₉₁*M₁₁ + M₉₁*M₉₉ + M₉₁₀*M₁₀₁ + M₉₂*M₂₁ + M₉₃*M₃₁ + M₉₄*M₄₁ + M₉₅*M₅₁ + M₉₆*M₆₁ + M₉₇*M₇₁ + M₉₈*M₈₁))*((M₁₀₁*M₈₁₀ + M₃₁*M₈₃ + M₄₁*M₈₄ + M₈₁*M₁₁ + M₈₁*M₈₈ + M₈₂*M₂₁ + M₈₅*M₅₁ + M₈₆*M₆₁ + M₈₇*M₇₁ + M₉₁*M₈₉)*(M₁₁*M₁₉ + M₁₁₀*M₁₀₉ + M₁₆*M₆₉ + M₁₇*M₇₉ + M₂₉*M₁₂ + M₃₉*M₁₃ + M₄₉*M₁₄ + M₅₉*M₁₅ + M₈₉*M₁₈ + M₉₉*M₁₉) + (M₁₀₃*M₈₁₀ + M₃₃*M₈₃ + M₄₃*M₈₄ + M₈₁*M₁₃ + M₈₂*M₂₃ + M₈₃*M₈₈ + M₈₅*M₅₃ + M₈₆*M₆₃ + M₈₇*M₇₃ + M₉₃*M₈₉)*(M₁₀₉*M₃₁₀ + M₃₁*M₁₉ + M₃₂*M₂₉ + M₃₃*M₃₉ + M₃₅*M₅₉ + M₃₆*M₆₉ + M₃₇*M₇₉ + M₃₈*M₈₉ + M₄₉*M₃₄ + M₉₉*M₃₉) + (M₁₀₇*M₈₁₀ + M₃₇*M₈₃ + M₄₇*M₈₄ + M₈₁*M₁₇ + M₈₂*M₂₇ + M₈₅*M₅₇ + M₈₆*M₆₇ + M₈₇*M₇₇ + M₈₇*M₈₈ + M₉₇*M₈₉)*(M₁₉*M₇₁ + M₂₉*M₇₂ + M₃₉*M₇₃ + M₄₉*M₇₄ + M₅₉*M₇₅ + M₇₁₀*M₁₀₉ + M₇₆*M₆₉ + M₇₇*M₇₉ + M₈₉*M₇₈ + M₉₉*M₇₉) + (M₁₀₉*M₂₁₀ + M₂₁*M₁₉ + M₂₂*M₂₉ + M₂₆*M₆₉ + M₂₇*M₇₉ + M₃₉*M₂₃ + M₄₉*M₂₄ + M₅₉*M₂₅ + M₈₉*M₂₈ + M₉₉*M₂₉)*(M₁₀₂*M₈₁₀ + M₃₂*M₈₃ + M₄₂*M₈₄ + M₈₁*M₁₂ + M₈₂*M₂₂ + M₈₂*M₈₈ + M₈₅*M₅₂ + M₈₆*M₆₂ + M₈₇*M₇₂ + M₉₂*M₈₉) + (M₁₀₉*M₅₁₀ + M₃₉*M₅₃ + M₄₉*M₅₄ + M₅₁*M₁₉ + M₅₂*M₂₉ + M₅₅*M₅₉ + M₅₆*M₆₉ + M₅₇*M₇₉ + M₈₉*M₅₈ + M₉₉*M₅₉)*(M₁₀₅*M₈₁₀ + M₃₅*M₈₃ + M₄₅*M₈₄ + M₈₁*M₁₅ + M₈₂*M₂₅ + M₈₅*M₅₅ + M₈₆*M₆₅ + M₈₇*M₇₅ + M₈₈*M₈₅ + M₉₅*M₈₉) + (M₁₀₉*M₈₁₀ + M₃₉*M₈₃ + M₄₉*M₈₄ + M₈₁*M₁₉ + M₈₂*M₂₉ + M₈₅*M₅₉ + M₈₆*M₆₉ + M₈₇*M₇₉ + M₈₉*M₈₈ + M₉₉*M₈₉)*(M₁₀₈*M₈₁₀ + M₃₈*M₈₃ + M₄₈*M₈₄ + M₈₁*M₁₈ + M₈₂*M₂₈ + M₈₅*M₅₈ + M₈₆*M₆₈ + M₈₇*M₇₈ + M₉₈*M₈₉ + M₈₈^2) + (M₁₀₉*M₈₁₀ + M₃₉*M₈₃ + M₄₉*M₈₄ + M₈₁*M₁₉ + M₈₂*M₂₉ + M₈₅*M₅₉ + M₈₆*M₆₉ + M₈₇*M₇₉ + M₈₉*M₈₈ + M₉₉*M₈₉)*(M₉₁*M₁₉ + M₉₁₀*M₁₀₉ + M₉₂*M₂₉ + M₉₃*M₃₉ + M₉₄*M₄₉ + M₉₅*M₅₉ + M₉₆*M₆₉ + M₉₇*M₇₉ + M₉₈*M₈₉ + M₉₉^2) + (M₁₀₁₀*M₈₁₀ + M₁₁₀*M₈₁ + M₂₁₀*M₈₂ + M₃₁₀*M₈₃ + M₄₁₀*M₈₄ + M₅₁₀*M₈₅ + M₆₁₀*M₈₆ + M₇₁₀*M₈₇ + M₈₁₀*M₈₈ + M₉₁₀*M₈₉)*(M₁₀₁*M₁₉ + M₁₀₁₀*M₁₀₉ + M₁₀₂*M₂₉ + M₁₀₃*M₃₉ + M₁₀₄*M₄₉ + M₁₀₅*M₅₉ + M₁₀₆*M₆₉ + M₁₀₇*M₇₉ + M₁₀₈*M₈₉ + M₁₀₉*M₉₉) + (M₁₉*M₆₁ + M₂₉*M₆₂ + M₃₉*M₆₃ + M₄₉*M₆₄ + M₅₉*M₆₅ + M₆₁₀*M₁₀₉ + M₆₉*M₆₆ + M₇₉*M₆₇ + M₈₉*M₆₈ + M₉₉*M₆₉)*(M₁₀₆*M₈₁₀ + M₃₆*M₈₃ + M₄₆*M₈₄ + M₈₁*M₁₆ + M₈₂*M₂₆ + M₈₅*M₅₆ + M₈₆*M₆₆ + M₈₇*M₇₆ + M₈₈*M₈₆ + M₉₆*M₈₉) + (M₄₁*M₁₉ + M₄₁₀*M₁₀₉ + M₄₂*M₂₉ + M₄₃*M₃₉ + M₄₄*M₄₉ + M₄₅*M₅₉ + M₄₆*M₆₉ + M₄₇*M₇₉ + M₄₈*M₈₉ + M₉₉*M₄₉)*(M₁₀₄*M₈₁₀ + M₃₄*M₈₃ + M₄₄*M₈₄ + M₈₁*M₁₄ + M₈₂*M₂₄ + M₈₄*M₈₈ + M₈₅*M₅₄ + M₈₆*M₆₄ + M₈₇*M₇₄ + M₉₄*M₈₉)) + ((M₁₀₁*M₂₁₀ + M₂₁*M₁₁ + M₂₂*M₂₁ + M₂₆*M₆₁ + M₂₇*M₇₁ + M₃₁*M₂₃ + M₄₁*M₂₄ + M₅₁*M₂₅ + M₈₁*M₂₈ + M₉₁*M₂₉)*(M₁₀₂*M₂₁₀ + M₂₁*M₁₂ + M₂₆*M₆₂ + M₂₇*M₇₂ + M₃₂*M₂₃ + M₄₂*M₂₄ + M₅₂*M₂₅ + M₈₂*M₂₈ + M₉₂*M₂₉ + M₂₂^2) + (M₁₀₁*M₂₁₀ + M₂₁*M₁₁ + M₂₂*M₂₁ + M₂₆*M₆₁ + M₂₇*M₇₁ + M₃₁*M₂₃ + M₄₁*M₂₄ + M₅₁*M₂₅ + M₈₁*M₂₈ + M₉₁*M₂₉)*(M₁₁₀*M₁₀₁ + M₁₆*M₆₁ + M₁₇*M₇₁ + M₂₁*M₁₂ + M₃₁*M₁₃ + M₄₁*M₁₄ + M₅₁*M₁₅ + M₈₁*M₁₈ + M₉₁*M₁₉ + M₁₁^2) + (M₁₀₃*M₂₁₀ + M₂₁*M₁₃ + M₂₂*M₂₃ + M₂₆*M₆₃ + M₂₇*M₇₃ + M₃₃*M₂₃ + M₄₃*M₂₄ + M₅₃*M₂₅ + M₈₃*M₂₈ + M₉₃*M₂₉)*(M₁₀₁*M₃₁₀ + M₃₁*M₁₁ + M₃₁*M₃₃ + M₃₂*M₂₁ + M₃₅*M₅₁ + M₃₆*M₆₁ + M₃₇*M₇₁ + M₃₈*M₈₁ + M₄₁*M₃₄ + M₉₁*M₃₉) + (M₁₀₅*M₂₁₀ + M₂₁*M₁₅ + M₂₂*M₂₅ + M₂₆*M₆₅ + M₂₇*M₇₅ + M₃₅*M₂₃ + M₄₅*M₂₄ + M₅₅*M₂₅ + M₈₅*M₂₈ + M₉₅*M₂₉)*(M₁₀₁*M₅₁₀ + M₃₁*M₅₃ + M₄₁*M₅₄ + M₅₁*M₁₁ + M₅₂*M₂₁ + M₅₅*M₅₁ + M₅₆*M₆₁ + M₅₇*M₇₁ + M₈₁*M₅₈ + M₉₁*M₅₉) + (M₁₀₇*M₂₁₀ + M₂₁*M₁₇ + M₂₂*M₂₇ + M₂₆*M₆₇ + M₂₇*M₇₇ + M₃₇*M₂₃ + M₄₇*M₂₄ + M₅₇*M₂₅ + M₈₇*M₂₈ + M₉₇*M₂₉)*(M₁₁*M₇₁ + M₂₁*M₇₂ + M₃₁*M₇₃ + M₄₁*M₇₄ + M₅₁*M₇₅ + M₇₁*M₇₇ + M₇₁₀*M₁₀₁ + M₇₆*M₆₁ + M₈₁*M₇₈ + M₉₁*M₇₉) + (M₁₀₈*M₂₁₀ + M₂₁*M₁₈ + M₂₂*M₂₈ + M₂₆*M₆₈ + M₂₇*M₇₈ + M₃₈*M₂₃ + M₄₈*M₂₄ + M₅₈*M₂₅ + M₈₈*M₂₈ + M₉₈*M₂₉)*(M₁₀₁*M₈₁₀ + M₃₁*M₈₃ + M₄₁*M₈₄ + M₈₁*M₁₁ + M₈₁*M₈₈ + M₈₂*M₂₁ + M₈₅*M₅₁ + M₈₆*M₆₁ + M₈₇*M₇₁ + M₉₁*M₈₉) + (M₁₀₉*M₂₁₀ + M₂₁*M₁₉ + M₂₂*M₂₉ + M₂₆*M₆₉ + M₂₇*M₇₉ + M₃₉*M₂₃ + M₄₉*M₂₄ + M₅₉*M₂₅ + M₈₉*M₂₈ + M₉₉*M₂₉)*(M₉₁*M₁₁ + M₉₁*M₉₉ + M₉₁₀*M₁₀₁ + M₉₂*M₂₁ + M₉₃*M₃₁ + M₉₄*M₄₁ + M₉₅*M₅₁ + M₉₆*M₆₁ + M₉₇*M₇₁ + M₉₈*M₈₁) + (M₁₀₁₀*M₂₁₀ + M₁₁₀*M₂₁ + M₂₁₀*M₂₂ + M₃₁₀*M₂₃ + M₄₁₀*M₂₄ + M₅₁₀*M₂₅ + M₆₁₀*M₂₆ + M₇₁₀*M₂₇ + M₈₁₀*M₂₈ + M₉₁₀*M₂₉)*(M₁₀₁*M₁₁ + M₁₀₁₀*M₁₀₁ + M₁₀₂*M₂₁ + M₁₀₃*M₃₁ + M₁₀₄*M₄₁ + M₁₀₅*M₅₁ + M₁₀₆*M₆₁ + M₁₀₇*M₇₁ + M₁₀₈*M₈₁ + M₁₀₉*M₉₁) + (M₁₁*M₆₁ + M₂₁*M₆₂ + M₃₁*M₆₃ + M₄₁*M₆₄ + M₅₁*M₆₅ + M₆₁*M₆₆ + M₆₁₀*M₁₀₁ + M₇₁*M₆₇ + M₈₁*M₆₈ + M₉₁*M₆₉)*(M₁₀₆*M₂₁₀ + M₂₁*M₁₆ + M₂₂*M₂₆ + M₂₆*M₆₆ + M₂₇*M₇₆ + M₃₆*M₂₃ + M₄₆*M₂₄ + M₅₆*M₂₅ + M₈₆*M₂₈ + M₉₆*M₂₉) + (M₄₁*M₁₁ + M₄₁*M₄₄ + M₄₁₀*M₁₀₁ + M₄₂*M₂₁ + M₄₃*M₃₁ + M₄₅*M₅₁ + M₄₆*M₆₁ + M₄₇*M₇₁ + M₄₈*M₈₁ + M₉₁*M₄₉)*(M₁₀₄*M₂₁₀ + M₂₁*M₁₄ + M₂₂*M₂₄ + M₂₆*M₆₄ + M₂₇*M₇₄ + M₃₄*M₂₃ + M₄₄*M₂₄ + M₅₄*M₂₅ + M₈₄*M₂₈ + M₉₄*M₂₉))*((M₁₀₁*M₈₁₀ + M₃₁*M₈₃ + M₄₁*M₈₄ + M₈₁*M₁₁ + M₈₁*M₈₈ + M₈₂*M₂₁ + M₈₅*M₅₁ + M₈₆*M₆₁ + M₈₇*M₇₁ + M₉₁*M₈₉)*(M₁₁*M₁₂ + M₁₁₀*M₁₀₂ + M₁₆*M₆₂ + M₁₇*M₇₂ + M₂₂*M₁₂ + M₃₂*M₁₃ + M₄₂*M₁₄ + M₅₂*M₁₅ + M₈₂*M₁₈ + M₉₂*M₁₉) + (M₁₀₂*M₅₁₀ + M₃₂*M₅₃ + M₄₂*M₅₄ + M₅₁*M₁₂ + M₅₂*M₂₂ + M₅₅*M₅₂ + M₅₆*M₆₂ + M₅₇*M₇₂ + M₈₂*M₅₈ + M₉₂*M₅₉)*(M₁₀₅*M₈₁₀ + M₃₅*M₈₃ + M₄₅*M₈₄ + M₈₁*M₁₅ + M₈₂*M₂₅ + M₈₅*M₅₅ + M₈₆*M₆₅ + M₈₇*M₇₅ + M₈₈*M₈₅ + M₉₅*M₈₉) + (M₁₀₂*M₈₁₀ + M₃₂*M₈₃ + M₄₂*M₈₄ + M₈₁*M₁₂ + M₈₂*M₂₂ + M₈₂*M₈₈ + M₈₅*M₅₂ + M₈₆*M₆₂ + M₈₇*M₇₂ + M₉₂*M₈₉)*(M₁₀₂*M₂₁₀ + M₂₁*M₁₂ + M₂₆*M₆₂ + M₂₇*M₇₂ + M₃₂*M₂₃ + M₄₂*M₂₄ + M₅₂*M₂₅ + M₈₂*M₂₈ + M₉₂*M₂₉ + M₂₂^2) + (M₁₀₂*M₈₁₀ + M₃₂*M₈₃ + M₄₂*M₈₄ + M₈₁*M₁₂ + M₈₂*M₂₂ + M₈₂*M₈₈ + M₈₅*M₅₂ + M₈₆*M₆₂ + M₈₇*M₇₂ + M₉₂*M₈₉)*(M₁₀₈*M₈₁₀ + M₃₈*M₈₃ + M₄₈*M₈₄ + M₈₁*M₁₈ + M₈₂*M₂₈ + M₈₅*M₅₈ + M₈₆*M₆₈ + M₈₇*M₇₈ + M₉₈*M₈₉ + M₈₈^2) + (M₁₀₃*M₈₁₀ + M₃₃*M₈₃ + M₄₃*M₈₄ + M₈₁*M₁₃ + M₈₂*M₂₃ + M₈₃*M₈₈ + M₈₅*M₅₃ + M₈₆*M₆₃ + M₈₇*M₇₃ + M₉₃*M₈₉)*(M₁₀₂*M₃₁₀ + M₃₁*M₁₂ + M₃₂*M₂₂ + M₃₂*M₃₃ + M₃₅*M₅₂ + M₃₆*M₆₂ + M₃₇*M₇₂ + M₃₈*M₈₂ + M₄₂*M₃₄ + M₉₂*M₃₉) + (M₁₀₇*M₈₁₀ + M₃₇*M₈₃ + M₄₇*M₈₄ + M₈₁*M₁₇ + M₈₂*M₂₇ + M₈₅*M₅₇ + M₈₆*M₆₇ + M₈₇*M₇₇ + M₈₇*M₈₈ + M₉₇*M₈₉)*(M₁₂*M₇₁ + M₂₂*M₇₂ + M₃₂*M₇₃ + M₄₂*M₇₄ + M₅₂*M₇₅ + M₇₁₀*M₁₀₂ + M₇₂*M₇₇ + M₇₆*M₆₂ + M₈₂*M₇₈ + M₉₂*M₇₉) + (M₁₀₉*M₈₁₀ + M₃₉*M₈₃ + M₄₉*M₈₄ + M₈₁*M₁₉ + M₈₂*M₂₉ + M₈₅*M₅₉ + M₈₆*M₆₉ + M₈₇*M₇₉ + M₈₉*M₈₈ + M₉₉*M₈₉)*(M₉₁*M₁₂ + M₉₁₀*M₁₀₂ + M₉₂*M₂₂ + M₉₃*M₃₂ + M₉₄*M₄₂ + M₉₅*M₅₂ + M₉₆*M₆₂ + M₉₇*M₇₂ + M₉₈*M₈₂ + M₉₉*M₉₂) + (M₁₀₁₀*M₈₁₀ + M₁₁₀*M₈₁ + M₂₁₀*M₈₂ + M₃₁₀*M₈₃ + M₄₁₀*M₈₄ + M₅₁₀*M₈₅ + M₆₁₀*M₈₆ + M₇₁₀*M₈₇ + M₈₁₀*M₈₈ + M₉₁₀*M₈₉)*(M₁₀₁*M₁₂ + M₁₀₁₀*M₁₀₂ + M₁₀₂*M₂₂ + M₁₀₃*M₃₂ + M₁₀₄*M₄₂ + M₁₀₅*M₅₂ + M₁₀₆*M₆₂ + M₁₀₇*M₇₂ + M₁₀₈*M₈₂ + M₁₀₉*M₉₂) + (M₁₂*M₆₁ + M₂₂*M₆₂ + M₃₂*M₆₃ + M₄₂*M₆₄ + M₅₂*M₆₅ + M₆₁₀*M₁₀₂ + M₆₂*M₆₆ + M₇₂*M₆₇ + M₈₂*M₆₈ + M₉₂*M₆₉)*(M₁₀₆*M₈₁₀ + M₃₆*M₈₃ + M₄₆*M₈₄ + M₈₁*M₁₆ + M₈₂*M₂₆ + M₈₅*M₅₆ + M₈₆*M₆₆ + M₈₇*M₇₆ + M₈₈*M₈₆ + M₉₆*M₈₉) + (M₄₁*M₁₂ + M₄₁₀*M₁₀₂ + M₄₂*M₂₂ + M₄₂*M₄₄ + M₄₃*M₃₂ + M₄₅*M₅₂ + M₄₆*M₆₂ + M₄₇*M₇₂ + M₄₈*M₈₂ + M₉₂*M₄₉)*(M₁₀₄*M₈₁₀ + M₃₄*M₈₃ + M₄₄*M₈₄ + M₈₁*M₁₄ + M₈₂*M₂₄ + M₈₄*M₈₈ + M₈₅*M₅₄ + M₈₆*M₆₄ + M₈₇*M₇₄ + M₉₄*M₈₉)) + ((M₁₀₁*M₂₁₀ + M₂₁*M₁₁ + M₂₂*M₂₁ + M₂₆*M₆₁ + M₂₇*M₇₁ + M₃₁*M₂₃ + M₄₁*M₂₄ + M₅₁*M₂₅ + M₈₁*M₂₈ + M₉₁*M₂₉)*(M₁₀₂*M₅₁₀ + M₃₂*M₅₃ + M₄₂*M₅₄ + M₅₁*M₁₂ + M₅₂*M₂₂ + M₅₅*M₅₂ + M₅₆*M₆₂ + M₅₇*M₇₂ + M₈₂*M₅₈ + M₉₂*M₅₉) + (M₁₀₁*M₅₁₀ + M₃₁*M₅₃ + M₄₁*M₅₄ + M₅₁*M₁₁ + M₅₂*M₂₁ + M₅₅*M₅₁ + M₅₆*M₆₁ + M₅₇*M₇₁ + M₈₁*M₅₈ + M₉₁*M₅₉)*(M₁₀₅*M₅₁₀ + M₃₅*M₅₃ + M₄₅*M₅₄ + M₅₁*M₁₅ + M₅₂*M₂₅ + M₅₆*M₆₅ + M₅₇*M₇₅ + M₈₅*M₅₈ + M₉₅*M₅₉ + M₅₅^2) + (M₁₀₁*M₅₁₀ + M₃₁*M₅₃ + M₄₁*M₅₄ + M₅₁*M₁₁ + M₅₂*M₂₁ + M₅₅*M₅₁ + M₅₆*M₆₁ + M₅₇*M₇₁ + M₈₁*M₅₈ + M₉₁*M₅₉)*(M₁₁₀*M₁₀₁ + M₁₆*M₆₁ + M₁₇*M₇₁ + M₂₁*M₁₂ + M₃₁*M₁₃ + M₄₁*M₁₄ + M₅₁*M₁₅ + M₈₁*M₁₈ + M₉₁*M₁₉ + M₁₁^2) + (M₁₀₃*M₅₁₀ + M₃₃*M₅₃ + M₄₃*M₅₄ + M₅₁*M₁₃ + M₅₂*M₂₃ + M₅₅*M₅₃ + M₅₆*M₆₃ + M₅₇*M₇₃ + M₈₃*M₅₈ + M₉₃*M₅₉)*(M₁₀₁*M₃₁₀ + M₃₁*M₁₁ + M₃₁*M₃₃ + M₃₂*M₂₁ + M₃₅*M₅₁ + M₃₆*M₆₁ + M₃₇*M₇₁ + M₃₈*M₈₁ + M₄₁*M₃₄ + M₉₁*M₃₉) + (M₁₀₇*M₅₁₀ + M₃₇*M₅₃ + M₄₇*M₅₄ + M₅₁*M₁₇ + M₅₂*M₂₇ + M₅₅*M₅₇ + M₅₆*M₆₇ + M₅₇*M₇₇ + M₈₇*M₅₈ + M₉₇*M₅₉)*(M₁₁*M₇₁ + M₂₁*M₇₂ + M₃₁*M₇₃ + M₄₁*M₇₄ + M₅₁*M₇₅ + M₇₁*M₇₇ + M₇₁₀*M₁₀₁ + M₇₆*M₆₁ + M₈₁*M₇₈ + M₉₁*M₇₉) + (M₁₀₈*M₅₁₀ + M₃₈*M₅₃ + M₄₈*M₅₄ + M₅₁*M₁₈ + M₅₂*M₂₈ + M₅₅*M₅₈ + M₅₆*M₆₈ + M₅₇*M₇₈ + M₈₈*M₅₈ + M₉₈*M₅₉)*(M₁₀₁*M₈₁₀ + M₃₁*M₈₃ + M₄₁*M₈₄ + M₈₁*M₁₁ + M₈₁*M₈₈ + M₈₂*M₂₁ + M₈₅*M₅₁ + M₈₆*M₆₁ + M₈₇*M₇₁ + M₉₁*M₈₉) + (M₁₀₉*M₅₁₀ + M₃₉*M₅₃ + M₄₉*M₅₄ + M₅₁*M₁₉ + M₅₂*M₂₉ + M₅₅*M₅₉ + M₅₆*M₆₉ + M₅₇*M₇₉ + M₈₉*M₅₈ + M₉₉*M₅₉)*(M₉₁*M₁₁ + M₉₁*M₉₉ + M₉₁₀*M₁₀₁ + M₉₂*M₂₁ + M₉₃*M₃₁ + M₉₄*M₄₁ + M₉₅*M₅₁ + M₉₆*M₆₁ + M₉₇*M₇₁ + M₉₈*M₈₁) + (M₁₀₁₀*M₅₁₀ + M₁₁₀*M₅₁ + M₂₁₀*M₅₂ + M₃₁₀*M₅₃ + M₄₁₀*M₅₄ + M₅₁₀*M₅₅ + M₆₁₀*M₅₆ + M₇₁₀*M₅₇ + M₈₁₀*M₅₈ + M₉₁₀*M₅₉)*(M₁₀₁*M₁₁ + M₁₀₁₀*M₁₀₁ + M₁₀₂*M₂₁ + M₁₀₃*M₃₁ + M₁₀₄*M₄₁ + M₁₀₅*M₅₁ + M₁₀₆*M₆₁ + M₁₀₇*M₇₁ + M₁₀₈*M₈₁ + M₁₀₉*M₉₁) + (M₁₁*M₆₁ + M₂₁*M₆₂ + M₃₁*M₆₃ + M₄₁*M₆₄ + M₅₁*M₆₅ + M₆₁*M₆₆ + M₆₁₀*M₁₀₁ + M₇₁*M₆₇ + M₈₁*M₆₈ + M₉₁*M₆₉)*(M₁₀₆*M₅₁₀ + M₃₆*M₅₃ + M₄₆*M₅₄ + M₅₁*M₁₆ + M₅₂*M₂₆ + M₅₆*M₅₅ + M₅₆*M₆₆ + M₅₇*M₇₆ + M₈₆*M₅₈ + M₉₆*M₅₉) + (M₄₁*M₁₁ + M₄₁*M₄₄ + M₄₁₀*M₁₀₁ + M₄₂*M₂₁ + M₄₃*M₃₁ + M₄₅*M₅₁ + M₄₆*M₆₁ + M₄₇*M₇₁ + M₄₈*M₈₁ + M₉₁*M₄₉)*(M₁₀₄*M₅₁₀ + M₃₄*M₅₃ + M₄₄*M₅₄ + M₅₁*M₁₄ + M₅₂*M₂₄ + M₅₅*M₅₄ + M₅₆*M₆₄ + M₅₇*M₇₄ + M₈₄*M₅₈ + M₉₄*M₅₉))*((M₁₀₁*M₈₁₀ + M₃₁*M₈₃ + M₄₁*M₈₄ + M₈₁*M₁₁ + M₈₁*M₈₈ + M₈₂*M₂₁ + M₈₅*M₅₁ + M₈₆*M₆₁ + M₈₇*M₇₁ + M₉₁*M₈₉)*(M₁₁*M₁₅ + M₁₁₀*M₁₀₅ + M₁₆*M₆₅ + M₁₇*M₇₅ + M₂₅*M₁₂ + M₃₅*M₁₃ + M₄₅*M₁₄ + M₅₅*M₁₅ + M₈₅*M₁₈ + M₉₅*M₁₉) + (M₁₀₃*M₈₁₀ + M₃₃*M₈₃ + M₄₃*M₈₄ + M₈₁*M₁₃ + M₈₂*M₂₃ + M₈₃*M₈₈ + M₈₅*M₅₃ + M₈₆*M₆₃ + M₈₇*M₇₃ + M₉₃*M₈₉)*(M₁₀₅*M₃₁₀ + M₃₁*M₁₅ + M₃₂*M₂₅ + M₃₅*M₃₃ + M₃₅*M₅₅ + M₃₆*M₆₅ + M₃₇*M₇₅ + M₃₈*M₈₅ + M₄₅*M₃₄ + M₉₅*M₃₉) + (M₁₀₅*M₂₁₀ + M₂₁*M₁₅ + M₂₂*M₂₅ + M₂₆*M₆₅ + M₂₇*M₇₅ + M₃₅*M₂₃ + M₄₅*M₂₄ + M₅₅*M₂₅ + M₈₅*M₂₈ + M₉₅*M₂₉)*(M₁₀₂*M₈₁₀ + M₃₂*M₈₃ + M₄₂*M₈₄ + M₈₁*M₁₂ + M₈₂*M₂₂ + M₈₂*M₈₈ + M₈₅*M₅₂ + M₈₆*M₆₂ + M₈₇*M₇₂ + M₉₂*M₈₉) + (M₁₀₅*M₈₁₀ + M₃₅*M₈₃ + M₄₅*M₈₄ + M₈₁*M₁₅ + M₈₂*M₂₅ + M₈₅*M₅₅ + M₈₆*M₆₅ + M₈₇*M₇₅ + M₈₈*M₈₅ + M₉₅*M₈₉)*(M₁₀₅*M₅₁₀ + M₃₅*M₅₃ + M₄₅*M₅₄ + M₅₁*M₁₅ + M₅₂*M₂₅ + M₅₆*M₆₅ + M₅₇*M₇₅ + M₈₅*M₅₈ + M₉₅*M₅₉ + M₅₅^2) + (M₁₀₅*M₈₁₀ + M₃₅*M₈₃ + M₄₅*M₈₄ + M₈₁*M₁₅ + M₈₂*M₂₅ + M₈₅*M₅₅ + M₈₆*M₆₅ + M₈₇*M₇₅ + M₈₈*M₈₅ + M₉₅*M₈₉)*(M₁₀₈*M₈₁₀ + M₃₈*M₈₃ + M₄₈*M₈₄ + M₈₁*M₁₈ + M₈₂*M₂₈ + M₈₅*M₅₈ + M₈₆*M₆₈ + M₈₇*M₇₈ + M₉₈*M₈₉ + M₈₈^2) + (M₁₀₇*M₈₁₀ + M₃₇*M₈₃ + M₄₇*M₈₄ + M₈₁*M₁₇ + M₈₂*M₂₇ + M₈₅*M₅₇ + M₈₆*M₆₇ + M₈₇*M₇₇ + M₈₇*M₈₈ + M₉₇*M₈₉)*(M₁₅*M₇₁ + M₂₅*M₇₂ + M₃₅*M₇₃ + M₄₅*M₇₄ + M₅₅*M₇₅ + M₇₁₀*M₁₀₅ + M₇₆*M₆₅ + M₇₇*M₇₅ + M₈₅*M₇₈ + M₉₅*M₇₉) + (M₁₀₉*M₈₁₀ + M₃₉*M₈₃ + M₄₉*M₈₄ + M₈₁*M₁₉ + M₈₂*M₂₉ + M₈₅*M₅₉ + M₈₆*M₆₉ + M₈₇*M₇₉ + M₈₉*M₈₈ + M₉₉*M₈₉)*(M₉₁*M₁₅ + M₉₁₀*M₁₀₅ + M₉₂*M₂₅ + M₉₃*M₃₅ + M₉₄*M₄₅ + M₉₅*M₅₅ + M₉₆*M₆₅ + M₉₇*M₇₅ + M₉₈*M₈₅ + M₉₉*M₉₅) + (M₁₀₁₀*M₈₁₀ + M₁₁₀*M₈₁ + M₂₁₀*M₈₂ + M₃₁₀*M₈₃ + M₄₁₀*M₈₄ + M₅₁₀*M₈₅ + M₆₁₀*M₈₆ + M₇₁₀*M₈₇ + M₈₁₀*M₈₈ + M₉₁₀*M₈₉)*(M₁₀₁*M₁₅ + M₁₀₁₀*M₁₀₅ + M₁₀₂*M₂₅ + M₁₀₃*M₃₅ + M₁₀₄*M₄₅ + M₁₀₅*M₅₅ + M₁₀₆*M₆₅ + M₁₀₇*M₇₅ + M₁₀₈*M₈₅ + M₁₀₉*M₉₅) + (M₁₅*M₆₁ + M₂₅*M₆₂ + M₃₅*M₆₃ + M₄₅*M₆₄ + M₅₅*M₆₅ + M₆₁₀*M₁₀₅ + M₆₅*M₆₆ + M₇₅*M₆₇ + M₈₅*M₆₈ + M₉₅*M₆₉)*(M₁₀₆*M₈₁₀ + M₃₆*M₈₃ + M₄₆*M₈₄ + M₈₁*M₁₆ + M₈₂*M₂₆ + M₈₅*M₅₆ + M₈₆*M₆₆ + M₈₇*M₇₆ + M₈₈*M₈₆ + M₉₆*M₈₉) + (M₄₁*M₁₅ + M₄₁₀*M₁₀₅ + M₄₂*M₂₅ + M₄₃*M₃₅ + M₄₅*M₄₄ + M₄₅*M₅₅ + M₄₆*M₆₅ + M₄₇*M₇₅ + M₄₈*M₈₅ + M₉₅*M₄₉)*(M₁₀₄*M₈₁₀ + M₃₄*M₈₃ + M₄₄*M₈₄ + M₈₁*M₁₄ + M₈₂*M₂₄ + M₈₄*M₈₈ + M₈₅*M₅₄ + M₈₆*M₆₄ + M₈₇*M₇₄ + M₉₄*M₈₉)) + ((M₁₀₁*M₂₁₀ + M₂₁*M₁₁ + M₂₂*M₂₁ + M₂₆*M₆₁ + M₂₇*M₇₁ + M₃₁*M₂₃ + M₄₁*M₂₄ + M₅₁*M₂₅ + M₈₁*M₂₈ + M₉₁*M₂₉)*(M₁₀₂*M₈₁₀ + M₃₂*M₈₃ + M₄₂*M₈₄ + M₈₁*M₁₂ + M₈₂*M₂₂ + M₈₂*M₈₈ + M₈₅*M₅₂ + M₈₆*M₆₂ + M₈₇*M₇₂ + M₉₂*M₈₉) + (M₁₀₁*M₅₁₀ + M₃₁*M₅₃ + M₄₁*M₅₄ + M₅₁*M₁₁ + M₅₂*M₂₁ + M₅₅*M₅₁ + M₅₆*M₆₁ + M₅₇*M₇₁ + M₈₁*M₅₈ + M₉₁*M₅₉)*(M₁₀₅*M₈₁₀ + M₃₅*M₈₃ + M₄₅*M₈₄ + M₈₁*M₁₅ + M₈₂*M₂₅ + M₈₅*M₅₅ + M₈₆*M₆₅ + M₈₇*M₇₅ + M₈₈*M₈₅ + M₉₅*M₈₉) + (M₁₀₁*M₈₁₀ + M₃₁*M₈₃ + M₄₁*M₈₄ + M₈₁*M₁₁ + M₈₁*M₈₈ + M₈₂*M₂₁ + M₈₅*M₅₁ + M₈₆*M₆₁ + M₈₇*M₇₁ + M₉₁*M₈₉)*(M₁₀₈*M₈₁₀ + M₃₈*M₈₃ + M₄₈*M₈₄ + M₈₁*M₁₈ + M₈₂*M₂₈ + M₈₅*M₅₈ + M₈₆*M₆₈ + M₈₇*M₇₈ + M₉₈*M₈₉ + M₈₈^2) + (M₁₀₁*M₈₁₀ + M₃₁*M₈₃ + M₄₁*M₈₄ + M₈₁*M₁₁ + M₈₁*M₈₈ + M₈₂*M₂₁ + M₈₅*M₅₁ + M₈₆*M₆₁ + M₈₇*M₇₁ + M₉₁*M₈₉)*(M₁₁₀*M₁₀₁ + M₁₆*M₆₁ + M₁₇*M₇₁ + M₂₁*M₁₂ + M₃₁*M₁₃ + M₄₁*M₁₄ + M₅₁*M₁₅ + M₈₁*M₁₈ + M₉₁*M₁₉ + M₁₁^2) + (M₁₀₃*M₈₁₀ + M₃₃*M₈₃ + M₄₃*M₈₄ + M₈₁*M₁₃ + M₈₂*M₂₃ + M₈₃*M₈₈ + M₈₅*M₅₃ + M₈₆*M₆₃ + M₈₇*M₇₃ + M₉₃*M₈₉)*(M₁₀₁*M₃₁₀ + M₃₁*M₁₁ + M₃₁*M₃₃ + M₃₂*M₂₁ + M₃₅*M₅₁ + M₃₆*M₆₁ + M₃₇*M₇₁ + M₃₈*M₈₁ + M₄₁*M₃₄ + M₉₁*M₃₉) + (M₁₀₇*M₈₁₀ + M₃₇*M₈₃ + M₄₇*M₈₄ + M₈₁*M₁₇ + M₈₂*M₂₇ + M₈₅*M₅₇ + M₈₆*M₆₇ + M₈₇*M₇₇ + M₈₇*M₈₈ + M₉₇*M₈₉)*(M₁₁*M₇₁ + M₂₁*M₇₂ + M₃₁*M₇₃ + M₄₁*M₇₄ + M₅₁*M₇₅ + M₇₁*M₇₇ + M₇₁₀*M₁₀₁ + M₇₆*M₆₁ + M₈₁*M₇₈ + M₉₁*M₇₉) + (M₁₀₉*M₈₁₀ + M₃₉*M₈₃ + M₄₉*M₈₄ + M₈₁*M₁₉ + M₈₂*M₂₉ + M₈₅*M₅₉ + M₈₆*M₆₉ + M₈₇*M₇₉ + M₈₉*M₈₈ + M₉₉*M₈₉)*(M₉₁*M₁₁ + M₉₁*M₉₉ + M₉₁₀*M₁₀₁ + M₉₂*M₂₁ + M₉₃*M₃₁ + M₉₄*M₄₁ + M₉₅*M₅₁ + M₉₆*M₆₁ + M₉₇*M₇₁ + M₉₈*M₈₁) + (M₁₀₁₀*M₈₁₀ + M₁₁₀*M₈₁ + M₂₁₀*M₈₂ + M₃₁₀*M₈₃ + M₄₁₀*M₈₄ + M₅₁₀*M₈₅ + M₆₁₀*M₈₆ + M₇₁₀*M₈₇ + M₈₁₀*M₈₈ + M₉₁₀*M₈₉)*(M₁₀₁*M₁₁ + M₁₀₁₀*M₁₀₁ + M₁₀₂*M₂₁ + M₁₀₃*M₃₁ + M₁₀₄*M₄₁ + M₁₀₅*M₅₁ + M₁₀₆*M₆₁ + M₁₀₇*M₇₁ + M₁₀₈*M₈₁ + M₁₀₉*M₉₁) + (M₁₁*M₆₁ + M₂₁*M₆₂ + M₃₁*M₆₃ + M₄₁*M₆₄ + M₅₁*M₆₅ + M₆₁*M₆₆ + M₆₁₀*M₁₀₁ + M₇₁*M₆₇ + M₈₁*M₆₈ + M₉₁*M₆₉)*(M₁₀₆*M₈₁₀ + M₃₆*M₈₃ + M₄₆*M₈₄ + M₈₁*M₁₆ + M₈₂*M₂₆ + M₈₅*M₅₆ + M₈₆*M₆₆ + M₈₇*M₇₆ + M₈₈*M₈₆ + M₉₆*M₈₉) + (M₄₁*M₁₁ + M₄₁*M₄₄ + M₄₁₀*M₁₀₁ + M₄₂*M₂₁ + M₄₃*M₃₁ + M₄₅*M₅₁ + M₄₆*M₆₁ + M₄₇*M₇₁ + M₄₈*M₈₁ + M₉₁*M₄₉)*(M₁₀₄*M₈₁₀ + M₃₄*M₈₃ + M₄₄*M₈₄ + M₈₁*M₁₄ + M₈₂*M₂₄ + M₈₄*M₈₈ + M₈₅*M₅₄ + M₈₆*M₆₄ + M₈₇*M₇₄ + M₉₄*M₈₉))*((M₁₀₁*M₂₁₀ + M₂₁*M₁₁ + M₂₂*M₂₁ + M₂₆*M₆₁ + M₂₇*M₇₁ + M₃₁*M₂₃ + M₄₁*M₂₄ + M₅₁*M₂₅ + M₈₁*M₂₈ + M₉₁*M₂₉)*(M₁₁*M₁₂ + M₁₁₀*M₁₀₂ + M₁₆*M₆₂ + M₁₇*M₇₂ + M₂₂*M₁₂ + M₃₂*M₁₃ + M₄₂*M₁₄ + M₅₂*M₁₅ + M₈₂*M₁₈ + M₉₂*M₁₉) + (M₁₀₁*M₃₁₀ + M₃₁*M₁₁ + M₃₁*M₃₃ + M₃₂*M₂₁ + M₃₅*M₅₁ + M₃₆*M₆₁ + M₃₇*M₇₁ + M₃₈*M₈₁ + M₄₁*M₃₄ + M₉₁*M₃₉)*(M₁₁*M₁₃ + M₁₁₀*M₁₀₃ + M₁₆*M₆₃ + M₁₇*M₇₃ + M₂₃*M₁₂ + M₃₃*M₁₃ + M₄₃*M₁₄ + M₅₃*M₁₅ + M₈₃*M₁₈ + M₉₃*M₁₉) + (M₁₀₁*M₅₁₀ + M₃₁*M₅₃ + M₄₁*M₅₄ + M₅₁*M₁₁ + M₅₂*M₂₁ + M₅₅*M₅₁ + M₅₆*M₆₁ + M₅₇*M₇₁ + M₈₁*M₅₈ + M₉₁*M₅₉)*(M₁₁*M₁₅ + M₁₁₀*M₁₀₅ + M₁₆*M₆₅ + M₁₇*M₇₅ + M₂₅*M₁₂ + M₃₅*M₁₃ + M₄₅*M₁₄ + M₅₅*M₁₅ + M₈₅*M₁₈ + M₉₅*M₁₉) + (M₁₀₁*M₈₁₀ + M₃₁*M₈₃ + M₄₁*M₈₄ + M₈₁*M₁₁ + M₈₁*M₈₈ + M₈₂*M₂₁ + M₈₅*M₅₁ + M₈₆*M₆₁ + M₈₇*M₇₁ + M₉₁*M₈₉)*(M₁₁*M₁₈ + M₁₁₀*M₁₀₈ + M₁₆*M₆₈ + M₁₇*M₇₈ + M₂₈*M₁₂ + M₃₈*M₁₃ + M₄₈*M₁₄ + M₅₈*M₁₅ + M₈₈*M₁₈ + M₉₈*M₁₉) + (M₁₁*M₁₇ + M₁₁₀*M₁₀₇ + M₁₆*M₆₇ + M₁₇*M₇₇ + M₂₇*M₁₂ + M₃₇*M₁₃ + M₄₇*M₁₄ + M₅₇*M₁₅ + M₈₇*M₁₈ + M₉₇*M₁₉)*(M₁₁*M₇₁ + M₂₁*M₇₂ + M₃₁*M₇₃ + M₄₁*M₇₄ + M₅₁*M₇₅ + M₇₁*M₇₇ + M₇₁₀*M₁₀₁ + M₇₆*M₆₁ + M₈₁*M₇₈ + M₉₁*M₇₉) + (M₁₁*M₁₉ + M₁₁₀*M₁₀₉ + M₁₆*M₆₉ + M₁₇*M₇₉ + M₂₉*M₁₂ + M₃₉*M₁₃ + M₄₉*M₁₄ + M₅₉*M₁₅ + M₈₉*M₁₈ + M₉₉*M₁₉)*(M₉₁*M₁₁ + M₉₁*M₉₉ + M₉₁₀*M₁₀₁ + M₉₂*M₂₁ + M₉₃*M₃₁ + M₉₄*M₄₁ + M₉₅*M₅₁ + M₉₆*M₆₁ + M₉₇*M₇₁ + M₉₈*M₈₁) + (M₁₀₁₀*M₁₁₀ + M₁₁₀*M₁₁ + M₂₁₀*M₁₂ + M₃₁₀*M₁₃ + M₄₁₀*M₁₄ + M₅₁₀*M₁₅ + M₆₁₀*M₁₆ + M₇₁₀*M₁₇ + M₈₁₀*M₁₈ + M₉₁₀*M₁₉)*(M₁₀₁*M₁₁ + M₁₀₁₀*M₁₀₁ + M₁₀₂*M₂₁ + M₁₀₃*M₃₁ + M₁₀₄*M₄₁ + M₁₀₅*M₅₁ + M₁₀₆*M₆₁ + M₁₀₇*M₇₁ + M₁₀₈*M₈₁ + M₁₀₉*M₉₁) + (M₁₁*M₆₁ + M₂₁*M₆₂ + M₃₁*M₆₃ + M₄₁*M₆₄ + M₅₁*M₆₅ + M₆₁*M₆₆ + M₆₁₀*M₁₀₁ + M₇₁*M₆₇ + M₈₁*M₆₈ + M₉₁*M₆₉)*(M₁₁*M₁₆ + M₁₁₀*M₁₀₆ + M₁₆*M₆₆ + M₁₇*M₇₆ + M₂₆*M₁₂ + M₃₆*M₁₃ + M₄₆*M₁₄ + M₅₆*M₁₅ + M₈₆*M₁₈ + M₉₆*M₁₉) + (M₄₁*M₁₁ + M₄₁*M₄₄ + M₄₁₀*M₁₀₁ + M₄₂*M₂₁ + M₄₃*M₃₁ + M₄₅*M₅₁ + M₄₆*M₆₁ + M₄₇*M₇₁ + M₄₈*M₈₁ + M₉₁*M₄₉)*(M₁₁*M₁₄ + M₁₁₀*M₁₀₄ + M₁₆*M₆₄ + M₁₇*M₇₄ + M₂₄*M₁₂ + M₃₄*M₁₃ + M₄₄*M₁₄ + M₅₄*M₁₅ + M₈₄*M₁₈ + M₉₄*M₁₉) + (M₁₁₀*M₁₀₁ + M₁₆*M₆₁ + M₁₇*M₇₁ + M₂₁*M₁₂ + M₃₁*M₁₃ + M₄₁*M₁₄ + M₅₁*M₁₅ + M₈₁*M₁₈ + M₉₁*M₁₉ + M₁₁^2)^2) + ((M₁₀₁*M₈₁₀ + M₃₁*M₈₃ + M₄₁*M₈₄ + M₈₁*M₁₁ + M₈₁*M₈₈ + M₈₂*M₂₁ + M₈₅*M₅₁ + M₈₆*M₆₁ + M₈₇*M₇₁ + M₉₁*M₈₉)*(M₁₁*M₁₃ + M₁₁₀*M₁₀₃ + M₁₆*M₆₃ + M₁₇*M₇₃ + M₂₃*M₁₂ + M₃₃*M₁₃ + M₄₃*M₁₄ + M₅₃*M₁₅ + M₈₃*M₁₈ + M₉₃*M₁₉) + (M₁₀₃*M₂₁₀ + M₂₁*M₁₃ + M₂₂*M₂₃ + M₂₆*M₆₃ + M₂₇*M₇₃ + M₃₃*M₂₃ + M₄₃*M₂₄ + M₅₃*M₂₅ + M₈₃*M₂₈ + M₉₃*M₂₉)*(M₁₀₂*M₈₁₀ + M₃₂*M₈₃ + M₄₂*M₈₄ + M₈₁*M₁₂ + M₈₂*M₂₂ + M₈₂*M₈₈ + M₈₅*M₅₂ + M₈₆*M₆₂ + M₈₇*M₇₂ + M₉₂*M₈₉) + (M₁₀₃*M₅₁₀ + M₃₃*M₅₃ + M₄₃*M₅₄ + M₅₁*M₁₃ + M₅₂*M₂₃ + M₅₅*M₅₃ + M₅₆*M₆₃ + M₅₇*M₇₃ + M₈₃*M₅₈ + M₉₃*M₅₉)*(M₁₀₅*M₈₁₀ + M₃₅*M₈₃ + M₄₅*M₈₄ + M₈₁*M₁₅ + M₈₂*M₂₅ + M₈₅*M₅₅ + M₈₆*M₆₅ + M₈₇*M₇₅ + M₈₈*M₈₅ + M₉₅*M₈₉) + (M₁₀₃*M₈₁₀ + M₃₃*M₈₃ + M₄₃*M₈₄ + M₈₁*M₁₃ + M₈₂*M₂₃ + M₈₃*M₈₈ + M₈₅*M₅₃ + M₈₆*M₆₃ + M₈₇*M₇₃ + M₉₃*M₈₉)*(M₁₀₃*M₃₁₀ + M₃₁*M₁₃ + M₃₂*M₂₃ + M₃₅*M₅₃ + M₃₆*M₆₃ + M₃₇*M₇₃ + M₃₈*M₈₃ + M₄₃*M₃₄ + M₉₃*M₃₉ + M₃₃^2) + (M₁₀₃*M₈₁₀ + M₃₃*M₈₃ + M₄₃*M₈₄ + M₈₁*M₁₃ + M₈₂*M₂₃ + M₈₃*M₈₈ + M₈₅*M₅₃ + M₈₆*M₆₃ + M₈₇*M₇₃ + M₉₃*M₈₉)*(M₁₀₈*M₈₁₀ + M₃₈*M₈₃ + M₄₈*M₈₄ + M₈₁*M₁₈ + M₈₂*M₂₈ + M₈₅*M₅₈ + M₈₆*M₆₈ + M₈₇*M₇₈ + M₉₈*M₈₉ + M₈₈^2) + (M₁₀₇*M₈₁₀ + M₃₇*M₈₃ + M₄₇*M₈₄ + M₈₁*M₁₇ + M₈₂*M₂₇ + M₈₅*M₅₇ + M₈₆*M₆₇ + M₈₇*M₇₇ + M₈₇*M₈₈ + M₉₇*M₈₉)*(M₁₃*M₇₁ + M₂₃*M₇₂ + M₃₃*M₇₃ + M₄₃*M₇₄ + M₅₃*M₇₅ + M₇₁₀*M₁₀₃ + M₇₃*M₇₇ + M₇₆*M₆₃ + M₈₃*M₇₈ + M₉₃*M₇₉) + (M₁₀₉*M₈₁₀ + M₃₉*M₈₃ + M₄₉*M₈₄ + M₈₁*M₁₉ + M₈₂*M₂₉ + M₈₅*M₅₉ + M₈₆*M₆₉ + M₈₇*M₇₉ + M₈₉*M₈₈ + M₉₉*M₈₉)*(M₉₁*M₁₃ + M₉₁₀*M₁₀₃ + M₉₂*M₂₃ + M₉₃*M₃₃ + M₉₄*M₄₃ + M₉₅*M₅₃ + M₉₆*M₆₃ + M₉₇*M₇₃ + M₉₈*M₈₃ + M₉₉*M₉₃) + (M₁₀₁₀*M₈₁₀ + M₁₁₀*M₈₁ + M₂₁₀*M₈₂ + M₃₁₀*M₈₃ + M₄₁₀*M₈₄ + M₅₁₀*M₈₅ + M₆₁₀*M₈₆ + M₇₁₀*M₈₇ + M₈₁₀*M₈₈ + M₉₁₀*M₈₉)*(M₁₀₁*M₁₃ + M₁₀₁₀*M₁₀₃ + M₁₀₂*M₂₃ + M₁₀₃*M₃₃ + M₁₀₄*M₄₃ + M₁₀₅*M₅₃ + M₁₀₆*M₆₃ + M₁₀₇*M₇₃ + M₁₀₈*M₈₃ + M₁₀₉*M₉₃) + (M₁₃*M₆₁ + M₂₃*M₆₂ + M₃₃*M₆₃ + M₄₃*M₆₄ + M₅₃*M₆₅ + M₆₁₀*M₁₀₃ + M₆₃*M₆₆ + M₇₃*M₆₇ + M₈₃*M₆₈ + M₉₃*M₆₉)*(M₁₀₆*M₈₁₀ + M₃₆*M₈₃ + M₄₆*M₈₄ + M₈₁*M₁₆ + M₈₂*M₂₆ + M₈₅*M₅₆ + M₈₆*M₆₆ + M₈₇*M₇₆ + M₈₈*M₈₆ + M₉₆*M₈₉) + (M₄₁*M₁₃ + M₄₁₀*M₁₀₃ + M₄₂*M₂₃ + M₄₃*M₃₃ + M₄₄*M₄₃ + M₄₅*M₅₃ + M₄₆*M₆₃ + M₄₇*M₇₃ + M₄₈*M₈₃ + M₉₃*M₄₉)*(M₁₀₄*M₈₁₀ + M₃₄*M₈₃ + M₄₄*M₈₄ + M₈₁*M₁₄ + M₈₂*M₂₄ + M₈₄*M₈₈ + M₈₅*M₅₄ + M₈₆*M₆₄ + M₈₇*M₇₄ + M₉₄*M₈₉))*((M₁₀₁*M₂₁₀ + M₂₁*M₁₁ + M₂₂*M₂₁ + M₂₆*M₆₁ + M₂₇*M₇₁ + M₃₁*M₂₃ + M₄₁*M₂₄ + M₅₁*M₂₅ + M₈₁*M₂₈ + M₉₁*M₂₉)*(M₁₀₂*M₃₁₀ + M₃₁*M₁₂ + M₃₂*M₂₂ + M₃₂*M₃₃ + M₃₅*M₅₂ + M₃₆*M₆₂ + M₃₇*M₇₂ + M₃₈*M₈₂ + M₄₂*M₃₄ + M₉₂*M₃₉) + (M₁₀₁*M₃₁₀ + M₃₁*M₁₁ + M₃₁*M₃₃ + M₃₂*M₂₁ + M₃₅*M₅₁ + M₃₆*M₆₁ + M₃₇*M₇₁ + M₃₈*M₈₁ + M₄₁*M₃₄ + M₉₁*M₃₉)*(M₁₀₃*M₃₁₀ + M₃₁*M₁₃ + M₃₂*M₂₃ + M₃₅*M₅₃ + M₃₆*M₆₃ + M₃₇*M₇₃ + M₃₈*M₈₃ + M₄₃*M₃₄ + M₉₃*M₃₉ + M₃₃^2) + (M₁₀₁*M₃₁₀ + M₃₁*M₁₁ + M₃₁*M₃₃ + M₃₂*M₂₁ + M₃₅*M₅₁ + M₃₆*M₆₁ + M₃₇*M₇₁ + M₃₈*M₈₁ + M₄₁*M₃₄ + M₉₁*M₃₉)*(M₁₁₀*M₁₀₁ + M₁₆*M₆₁ + M₁₇*M₇₁ + M₂₁*M₁₂ + M₃₁*M₁₃ + M₄₁*M₁₄ + M₅₁*M₁₅ + M₈₁*M₁₈ + M₉₁*M₁₉ + M₁₁^2) + (M₁₀₁*M₅₁₀ + M₃₁*M₅₃ + M₄₁*M₅₄ + M₅₁*M₁₁ + M₅₂*M₂₁ + M₅₅*M₅₁ + M₅₆*M₆₁ + M₅₇*M₇₁ + M₈₁*M₅₈ + M₉₁*M₅₉)*(M₁₀₅*M₃₁₀ + M₃₁*M₁₅ + M₃₂*M₂₅ + M₃₅*M₃₃ + M₃₅*M₅₅ + M₃₆*M₆₅ + M₃₇*M₇₅ + M₃₈*M₈₅ + M₄₅*M₃₄ + M₉₅*M₃₉) + (M₁₀₁*M₈₁₀ + M₃₁*M₈₃ + M₄₁*M₈₄ + M₈₁*M₁₁ + M₈₁*M₈₈ + M₈₂*M₂₁ + M₈₅*M₅₁ + M₈₆*M₆₁ + M₈₇*M₇₁ + M₉₁*M₈₉)*(M₁₀₈*M₃₁₀ + M₃₁*M₁₈ + M₃₂*M₂₈ + M₃₃*M₃₈ + M₃₅*M₅₈ + M₃₆*M₆₈ + M₃₇*M₇₈ + M₃₈*M₈₈ + M₄₈*M₃₄ + M₉₈*M₃₉) + (M₁₀₇*M₃₁₀ + M₃₁*M₁₇ + M₃₂*M₂₇ + M₃₃*M₃₇ + M₃₅*M₅₇ + M₃₆*M₆₇ + M₃₇*M₇₇ + M₃₈*M₈₇ + M₄₇*M₃₄ + M₉₇*M₃₉)*(M₁₁*M₇₁ + M₂₁*M₇₂ + M₃₁*M₇₃ + M₄₁*M₇₄ + M₅₁*M₇₅ + M₇₁*M₇₇ + M₇₁₀*M₁₀₁ + M₇₆*M₆₁ + M₈₁*M₇₈ + M₉₁*M₇₉) + (M₁₀₉*M₃₁₀ + M₃₁*M₁₉ + M₃₂*M₂₉ + M₃₃*M₃₉ + M₃₅*M₅₉ + M₃₆*M₆₉ + M₃₇*M₇₉ + M₃₈*M₈₉ + M₄₉*M₃₄ + M₉₉*M₃₉)*(M₉₁*M₁₁ + M₉₁*M₉₉ + M₉₁₀*M₁₀₁ + M₉₂*M₂₁ + M₉₃*M₃₁ + M₉₄*M₄₁ + M₉₅*M₅₁ + M₉₆*M₆₁ + M₉₇*M₇₁ + M₉₈*M₈₁) + (M₁₀₁₀*M₃₁₀ + M₁₁₀*M₃₁ + M₂₁₀*M₃₂ + M₃₁₀*M₃₃ + M₄₁₀*M₃₄ + M₅₁₀*M₃₅ + M₆₁₀*M₃₆ + M₇₁₀*M₃₇ + M₈₁₀*M₃₈ + M₉₁₀*M₃₉)*(M₁₀₁*M₁₁ + M₁₀₁₀*M₁₀₁ + M₁₀₂*M₂₁ + M₁₀₃*M₃₁ + M₁₀₄*M₄₁ + M₁₀₅*M₅₁ + M₁₀₆*M₆₁ + M₁₀₇*M₇₁ + M₁₀₈*M₈₁ + M₁₀₉*M₉₁) + (M₁₁*M₆₁ + M₂₁*M₆₂ + M₃₁*M₆₃ + M₄₁*M₆₄ + M₅₁*M₆₅ + M₆₁*M₆₆ + M₆₁₀*M₁₀₁ + M₇₁*M₆₇ + M₈₁*M₆₈ + M₉₁*M₆₉)*(M₁₀₆*M₃₁₀ + M₃₁*M₁₆ + M₃₂*M₂₆ + M₃₅*M₅₆ + M₃₆*M₃₃ + M₃₆*M₆₆ + M₃₇*M₇₆ + M₃₈*M₈₆ + M₄₆*M₃₄ + M₉₆*M₃₉) + (M₄₁*M₁₁ + M₄₁*M₄₄ + M₄₁₀*M₁₀₁ + M₄₂*M₂₁ + M₄₃*M₃₁ + M₄₅*M₅₁ + M₄₆*M₆₁ + M₄₇*M₇₁ + M₄₈*M₈₁ + M₉₁*M₄₉)*(M₁₀₄*M₃₁₀ + M₃₁*M₁₄ + M₃₂*M₂₄ + M₃₃*M₃₄ + M₃₅*M₅₄ + M₃₆*M₆₄ + M₃₇*M₇₄ + M₃₈*M₈₄ + M₄₄*M₃₄ + M₉₄*M₃₉)) + ((M₁₀₁*M₈₁₀ + M₃₁*M₈₃ + M₄₁*M₈₄ + M₈₁*M₁₁ + M₈₁*M₈₈ + M₈₂*M₂₁ + M₈₅*M₅₁ + M₈₆*M₆₁ + M₈₇*M₇₁ + M₉₁*M₈₉)*(M₁₁*M₁₇ + M₁₁₀*M₁₀₇ + M₁₆*M₆₇ + M₁₇*M₇₇ + M₂₇*M₁₂ + M₃₇*M₁₃ + M₄₇*M₁₄ + M₅₇*M₁₅ + M₈₇*M₁₈ + M₉₇*M₁₉) + (M₁₀₃*M₈₁₀ + M₃₃*M₈₃ + M₄₃*M₈₄ + M₈₁*M₁₃ + M₈₂*M₂₃ + M₈₃*M₈₈ + M₈₅*M₅₃ + M₈₆*M₆₃ + M₈₇*M₇₃ + M₉₃*M₈₉)*(M₁₀₇*M₃₁₀ + M₃₁*M₁₇ + M₃₂*M₂₇ + M₃₃*M₃₇ + M₃₅*M₅₇ + M₃₆*M₆₇ + M₃₇*M₇₇ + M₃₈*M₈₇ + M₄₇*M₃₄ + M₉₇*M₃₉) + (M₁₀₇*M₂₁₀ + M₂₁*M₁₇ + M₂₂*M₂₇ + M₂₆*M₆₇ + M₂₇*M₇₇ + M₃₇*M₂₃ + M₄₇*M₂₄ + M₅₇*M₂₅ + M₈₇*M₂₈ + M₉₇*M₂₉)*(M₁₀₂*M₈₁₀ + M₃₂*M₈₃ + M₄₂*M₈₄ + M₈₁*M₁₂ + M₈₂*M₂₂ + M₈₂*M₈₈ + M₈₅*M₅₂ + M₈₆*M₆₂ + M₈₇*M₇₂ + M₉₂*M₈₉) + (M₁₀₇*M₅₁₀ + M₃₇*M₅₃ + M₄₇*M₅₄ + M₅₁*M₁₇ + M₅₂*M₂₇ + M₅₅*M₅₇ + M₅₆*M₆₇ + M₅₇*M₇₇ + M₈₇*M₅₈ + M₉₇*M₅₉)*(M₁₀₅*M₈₁₀ + M₃₅*M₈₃ + M₄₅*M₈₄ + M₈₁*M₁₅ + M₈₂*M₂₅ + M₈₅*M₅₅ + M₈₆*M₆₅ + M₈₇*M₇₅ + M₈₈*M₈₅ + M₉₅*M₈₉) + (M₁₀₇*M₈₁₀ + M₃₇*M₈₃ + M₄₇*M₈₄ + M₈₁*M₁₇ + M₈₂*M₂₇ + M₈₅*M₅₇ + M₈₆*M₆₇ + M₈₇*M₇₇ + M₈₇*M₈₈ + M₉₇*M₈₉)*(M₁₀₈*M₈₁₀ + M₃₈*M₈₃ + M₄₈*M₈₄ + M₈₁*M₁₈ + M₈₂*M₂₈ + M₈₅*M₅₈ + M₈₆*M₆₈ + M₈₇*M₇₈ + M₉₈*M₈₉ + M₈₈^2) + (M₁₀₇*M₈₁₀ + M₃₇*M₈₃ + M₄₇*M₈₄ + M₈₁*M₁₇ + M₈₂*M₂₇ + M₈₅*M₅₇ + M₈₆*M₆₇ + M₈₇*M₇₇ + M₈₇*M₈₈ + M₉₇*M₈₉)*(M₁₇*M₇₁ + M₂₇*M₇₂ + M₃₇*M₇₃ + M₄₇*M₇₄ + M₅₇*M₇₅ + M₇₁₀*M₁₀₇ + M₇₆*M₆₇ + M₈₇*M₇₈ + M₉₇*M₇₉ + M₇₇^2) + (M₁₀₉*M₈₁₀ + M₃₉*M₈₃ + M₄₉*M₈₄ + M₈₁*M₁₉ + M₈₂*M₂₉ + M₈₅*M₅₉ + M₈₆*M₆₉ + M₈₇*M₇₉ + M₈₉*M₈₈ + M₉₉*M₈₉)*(M₉₁*M₁₇ + M₉₁₀*M₁₀₇ + M₉₂*M₂₇ + M₉₃*M₃₇ + M₉₄*M₄₇ + M₉₅*M₅₇ + M₉₆*M₆₇ + M₉₇*M₇₇ + M₉₇*M₉₉ + M₉₈*M₈₇) + (M₁₀₁₀*M₈₁₀ + M₁₁₀*M₈₁ + M₂₁₀*M₈₂ + M₃₁₀*M₈₃ + M₄₁₀*M₈₄ + M₅₁₀*M₈₅ + M₆₁₀*M₈₆ + M₇₁₀*M₈₇ + M₈₁₀*M₈₈ + M₉₁₀*M₈₉)*(M₁₀₁*M₁₇ + M₁₀₁₀*M₁₀₇ + M₁₀₂*M₂₇ + M₁₀₃*M₃₇ + M₁₀₄*M₄₇ + M₁₀₅*M₅₇ + M₁₀₆*M₆₇ + M₁₀₇*M₇₇ + M₁₀₈*M₈₇ + M₁₀₉*M₉₇) + (M₁₇*M₆₁ + M₂₇*M₆₂ + M₃₇*M₆₃ + M₄₇*M₆₄ + M₅₇*M₆₅ + M₆₁₀*M₁₀₇ + M₆₆*M₆₇ + M₇₇*M₆₇ + M₈₇*M₆₈ + M₉₇*M₆₉)*(M₁₀₆*M₈₁₀ + M₃₆*M₈₃ + M₄₆*M₈₄ + M₈₁*M₁₆ + M₈₂*M₂₆ + M₈₅*M₅₆ + M₈₆*M₆₆ + M₈₇*M₇₆ + M₈₈*M₈₆ + M₉₆*M₈₉) + (M₄₁*M₁₇ + M₄₁₀*M₁₀₇ + M₄₂*M₂₇ + M₄₃*M₃₇ + M₄₄*M₄₇ + M₄₅*M₅₇ + M₄₆*M₆₇ + M₄₇*M₇₇ + M₄₈*M₈₇ + M₉₇*M₄₉)*(M₁₀₄*M₈₁₀ + M₃₄*M₈₃ + M₄₄*M₈₄ + M₈₁*M₁₄ + M₈₂*M₂₄ + M₈₄*M₈₈ + M₈₅*M₅₄ + M₈₆*M₆₄ + M₈₇*M₇₄ + M₉₄*M₈₉))*((M₁₀₁*M₂₁₀ + M₂₁*M₁₁ + M₂₂*M₂₁ + M₂₆*M₆₁ + M₂₇*M₇₁ + M₃₁*M₂₃ + M₄₁*M₂₄ + M₅₁*M₂₅ + M₈₁*M₂₈ + M₉₁*M₂₉)*(M₁₂*M₇₁ + M₂₂*M₇₂ + M₃₂*M₇₃ + M₄₂*M₇₄ + M₅₂*M₇₅ + M₇₁₀*M₁₀₂ + M₇₂*M₇₇ + M₇₆*M₆₂ + M₈₂*M₇₈ + M₉₂*M₇₉) + (M₁₀₁*M₃₁₀ + M₃₁*M₁₁ + M₃₁*M₃₃ + M₃₂*M₂₁ + M₃₅*M₅₁ + M₃₆*M₆₁ + M₃₇*M₇₁ + M₃₈*M₈₁ + M₄₁*M₃₄ + M₉₁*M₃₉)*(M₁₃*M₇₁ + M₂₃*M₇₂ + M₃₃*M₇₃ + M₄₃*M₇₄ + M₅₃*M₇₅ + M₇₁₀*M₁₀₃ + M₇₃*M₇₇ + M₇₆*M₆₃ + M₈₃*M₇₈ + M₉₃*M₇₉) + (M₁₀₁*M₅₁₀ + M₃₁*M₅₃ + M₄₁*M₅₄ + M₅₁*M₁₁ + M₅₂*M₂₁ + M₅₅*M₅₁ + M₅₆*M₆₁ + M₅₇*M₇₁ + M₈₁*M₅₈ + M₉₁*M₅₉)*(M₁₅*M₇₁ + M₂₅*M₇₂ + M₃₅*M₇₃ + M₄₅*M₇₄ + M₅₅*M₇₅ + M₇₁₀*M₁₀₅ + M₇₆*M₆₅ + M₇₇*M₇₅ + M₈₅*M₇₈ + M₉₅*M₇₉) + (M₁₀₁*M₈₁₀ + M₃₁*M₈₃ + M₄₁*M₈₄ + M₈₁*M₁₁ + M₈₁*M₈₈ + M₈₂*M₂₁ + M₈₅*M₅₁ + M₈₆*M₆₁ + M₈₇*M₇₁ + M₉₁*M₈₉)*(M₁₈*M₇₁ + M₂₈*M₇₂ + M₃₈*M₇₃ + M₄₈*M₇₄ + M₅₈*M₇₅ + M₇₁₀*M₁₀₈ + M₇₆*M₆₈ + M₇₈*M₇₇ + M₈₈*M₇₈ + M₉₈*M₇₉) + (M₁₀₁*M₁₁ + M₁₀₁₀*M₁₀₁ + M₁₀₂*M₂₁ + M₁₀₃*M₃₁ + M₁₀₄*M₄₁ + M₁₀₅*M₅₁ + M₁₀₆*M₆₁ + M₁₀₇*M₇₁ + M₁₀₈*M₈₁ + M₁₀₉*M₉₁)*(M₁₀₁₀*M₇₁₀ + M₁₁₀*M₇₁ + M₂₁₀*M₇₂ + M₃₁₀*M₇₃ + M₄₁₀*M₇₄ + M₅₁₀*M₇₅ + M₆₁₀*M₇₆ + M₇₁₀*M₇₇ + M₈₁₀*M₇₈ + M₉₁₀*M₇₉) + (M₁₁₀*M₁₀₁ + M₁₆*M₆₁ + M₁₇*M₇₁ + M₂₁*M₁₂ + M₃₁*M₁₃ + M₄₁*M₁₄ + M₅₁*M₁₅ + M₈₁*M₁₈ + M₉₁*M₁₉ + M₁₁^2)*(M₁₁*M₇₁ + M₂₁*M₇₂ + M₃₁*M₇₃ + M₄₁*M₇₄ + M₅₁*M₇₅ + M₇₁*M₇₇ + M₇₁₀*M₁₀₁ + M₇₆*M₆₁ + M₈₁*M₇₈ + M₉₁*M₇₉) + (M₁₁*M₆₁ + M₂₁*M₆₂ + M₃₁*M₆₃ + M₄₁*M₆₄ + M₅₁*M₆₅ + M₆₁*M₆₆ + M₆₁₀*M₁₀₁ + M₇₁*M₆₇ + M₈₁*M₆₈ + M₉₁*M₆₉)*(M₁₆*M₇₁ + M₂₆*M₇₂ + M₃₆*M₇₃ + M₄₆*M₇₄ + M₅₆*M₇₅ + M₇₁₀*M₁₀₆ + M₇₆*M₆₆ + M₇₇*M₇₆ + M₈₆*M₇₈ + M₉₆*M₇₉) + (M₄₁*M₁₁ + M₄₁*M₄₄ + M₄₁₀*M₁₀₁ + M₄₂*M₂₁ + M₄₃*M₃₁ + M₄₅*M₅₁ + M₄₆*M₆₁ + M₄₇*M₇₁ + M₄₈*M₈₁ + M₉₁*M₄₉)*(M₁₄*M₇₁ + M₂₄*M₇₂ + M₃₄*M₇₃ + M₄₄*M₇₄ + M₅₄*M₇₅ + M₇₁₀*M₁₀₄ + M₇₄*M₇₇ + M₇₆*M₆₄ + M₈₄*M₇₈ + M₉₄*M₇₉) + (M₉₁*M₁₁ + M₉₁*M₉₉ + M₉₁₀*M₁₀₁ + M₉₂*M₂₁ + M₉₃*M₃₁ + M₉₄*M₄₁ + M₉₅*M₅₁ + M₉₆*M₆₁ + M₉₇*M₇₁ + M₉₈*M₈₁)*(M₁₉*M₇₁ + M₂₉*M₇₂ + M₃₉*M₇₃ + M₄₉*M₇₄ + M₅₉*M₇₅ + M₇₁₀*M₁₀₉ + M₇₆*M₆₉ + M₇₇*M₇₉ + M₈₉*M₇₈ + M₉₉*M₇₉) + (M₁₇*M₇₁ + M₂₇*M₇₂ + M₃₇*M₇₃ + M₄₇*M₇₄ + M₅₇*M₇₅ + M₇₁₀*M₁₀₇ + M₇₆*M₆₇ + M₈₇*M₇₈ + M₉₇*M₇₉ + M₇₇^2)*(M₁₁*M₇₁ + M₂₁*M₇₂ + M₃₁*M₇₃ + M₄₁*M₇₄ + M₅₁*M₇₅ + M₇₁*M₇₇ + M₇₁₀*M₁₀₁ + M₇₆*M₆₁ + M₈₁*M₇₈ + M₉₁*M₇₉)) + ((M₁₀₁*M₈₁₀ + M₃₁*M₈₃ + M₄₁*M₈₄ + M₈₁*M₁₁ + M₈₁*M₈₈ + M₈₂*M₂₁ + M₈₅*M₅₁ + M₈₆*M₆₁ + M₈₇*M₇₁ + M₉₁*M₈₉)*(M₁₁*M₁₈ + M₁₁₀*M₁₀₈ + M₁₆*M₆₈ + M₁₇*M₇₈ + M₂₈*M₁₂ + M₃₈*M₁₃ + M₄₈*M₁₄ + M₅₈*M₁₅ + M₈₈*M₁₈ + M₉₈*M₁₉) + (M₁₀₃*M₈₁₀ + M₃₃*M₈₃ + M₄₃*M₈₄ + M₈₁*M₁₃ + M₈₂*M₂₃ + M₈₃*M₈₈ + M₈₅*M₅₃ + M₈₆*M₆₃ + M₈₇*M₇₃ + M₉₃*M₈₉)*(M₁₀₈*M₃₁₀ + M₃₁*M₁₈ + M₃₂*M₂₈ + M₃₃*M₃₈ + M₃₅*M₅₈ + M₃₆*M₆₈ + M₃₇*M₇₈ + M₃₈*M₈₈ + M₄₈*M₃₄ + M₉₈*M₃₉) + (M₁₀₇*M₈₁₀ + M₃₇*M₈₃ + M₄₇*M₈₄ + M₈₁*M₁₇ + M₈₂*M₂₇ + M₈₅*M₅₇ + M₈₆*M₆₇ + M₈₇*M₇₇ + M₈₇*M₈₈ + M₉₇*M₈₉)*(M₁₈*M₇₁ + M₂₈*M₇₂ + M₃₈*M₇₃ + M₄₈*M₇₄ + M₅₈*M₇₅ + M₇₁₀*M₁₀₈ + M₇₆*M₆₈ + M₇₈*M₇₇ + M₈₈*M₇₈ + M₉₈*M₇₉) + (M₁₀₈*M₂₁₀ + M₂₁*M₁₈ + M₂₂*M₂₈ + M₂₆*M₆₈ + M₂₇*M₇₈ + M₃₈*M₂₃ + M₄₈*M₂₄ + M₅₈*M₂₅ + M₈₈*M₂₈ + M₉₈*M₂₉)*(M₁₀₂*M₈₁₀ + M₃₂*M₈₃ + M₄₂*M₈₄ + M₈₁*M₁₂ + M₈₂*M₂₂ + M₈₂*M₈₈ + M₈₅*M₅₂ + M₈₆*M₆₂ + M₈₇*M₇₂ + M₉₂*M₈₉) + (M₁₀₈*M₅₁₀ + M₃₈*M₅₃ + M₄₈*M₅₄ + M₅₁*M₁₈ + M₅₂*M₂₈ + M₅₅*M₅₈ + M₅₆*M₆₈ + M₅₇*M₇₈ + M₈₈*M₅₈ + M₉₈*M₅₉)*(M₁₀₅*M₈₁₀ + M₃₅*M₈₃ + M₄₅*M₈₄ + M₈₁*M₁₅ + M₈₂*M₂₅ + M₈₅*M₅₅ + M₈₆*M₆₅ + M₈₇*M₇₅ + M₈₈*M₈₅ + M₉₅*M₈₉) + (M₁₀₉*M₈₁₀ + M₃₉*M₈₃ + M₄₉*M₈₄ + M₈₁*M₁₉ + M₈₂*M₂₉ + M₈₅*M₅₉ + M₈₆*M₆₉ + M₈₇*M₇₉ + M₈₉*M₈₈ + M₉₉*M₈₉)*(M₉₁*M₁₈ + M₉₁₀*M₁₀₈ + M₉₂*M₂₈ + M₉₃*M₃₈ + M₉₄*M₄₈ + M₉₅*M₅₈ + M₉₆*M₆₈ + M₉₇*M₇₈ + M₉₈*M₈₈ + M₉₈*M₉₉) + (M₁₀₁₀*M₈₁₀ + M₁₁₀*M₈₁ + M₂₁₀*M₈₂ + M₃₁₀*M₈₃ + M₄₁₀*M₈₄ + M₅₁₀*M₈₅ + M₆₁₀*M₈₆ + M₇₁₀*M₈₇ + M₈₁₀*M₈₈ + M₉₁₀*M₈₉)*(M₁₀₁*M₁₈ + M₁₀₁₀*M₁₀₈ + M₁₀₂*M₂₈ + M₁₀₃*M₃₈ + M₁₀₄*M₄₈ + M₁₀₅*M₅₈ + M₁₀₆*M₆₈ + M₁₀₇*M₇₈ + M₁₀₈*M₈₈ + M₁₀₉*M₉₈) + (M₁₈*M₆₁ + M₂₈*M₆₂ + M₃₈*M₆₃ + M₄₈*M₆₄ + M₅₈*M₆₅ + M₆₁₀*M₁₀₈ + M₆₆*M₆₈ + M₇₈*M₆₇ + M₈₈*M₆₈ + M₉₈*M₆₉)*(M₁₀₆*M₈₁₀ + M₃₆*M₈₃ + M₄₆*M₈₄ + M₈₁*M₁₆ + M₈₂*M₂₆ + M₈₅*M₅₆ + M₈₆*M₆₆ + M₈₇*M₇₆ + M₈₈*M₈₆ + M₉₆*M₈₉) + (M₄₁*M₁₈ + M₄₁₀*M₁₀₈ + M₄₂*M₂₈ + M₄₃*M₃₈ + M₄₄*M₄₈ + M₄₅*M₅₈ + M₄₆*M₆₈ + M₄₇*M₇₈ + M₄₈*M₈₈ + M₉₈*M₄₉)*(M₁₀₄*M₈₁₀ + M₃₄*M₈₃ + M₄₄*M₈₄ + M₈₁*M₁₄ + M₈₂*M₂₄ + M₈₄*M₈₈ + M₈₅*M₅₄ + M₈₆*M₆₄ + M₈₇*M₇₄ + M₉₄*M₈₉) + (M₁₀₈*M₈₁₀ + M₃₈*M₈₃ + M₄₈*M₈₄ + M₈₁*M₁₈ + M₈₂*M₂₈ + M₈₅*M₅₈ + M₈₆*M₆₈ + M₈₇*M₇₈ + M₉₈*M₈₉ + M₈₈^2)^2)*((M₁₀₁*M₂₁₀ + M₂₁*M₁₁ + M₂₂*M₂₁ + M₂₆*M₆₁ + M₂₇*M₇₁ + M₃₁*M₂₃ + M₄₁*M₂₄ + M₅₁*M₂₅ + M₈₁*M₂₈ + M₉₁*M₂₉)*(M₁₀₂*M₈₁₀ + M₃₂*M₈₃ + M₄₂*M₈₄ + M₈₁*M₁₂ + M₈₂*M₂₂ + M₈₂*M₈₈ + M₈₅*M₅₂ + M₈₆*M₆₂ + M₈₇*M₇₂ + M₉₂*M₈₉) + (M₁₀₁*M₅₁₀ + M₃₁*M₅₃ + M₄₁*M₅₄ + M₅₁*M₁₁ + M₅₂*M₂₁ + M₅₅*M₅₁ + M₅₆*M₆₁ + M₅₇*M₇₁ + M₈₁*M₅₈ + M₉₁*M₅₉)*(M₁₀₅*M₈₁₀ + M₃₅*M₈₃ + M₄₅*M₈₄ + M₈₁*M₁₅ + M₈₂*M₂₅ + M₈₅*M₅₅ + M₈₆*M₆₅ + M₈₇*M₇₅ + M₈₈*M₈₅ + M₉₅*M₈₉) + (M₁₀₁*M₈₁₀ + M₃₁*M₈₃ + M₄₁*M₈₄ + M₈₁*M₁₁ + M₈₁*M₈₈ + M₈₂*M₂₁ + M₈₅*M₅₁ + M₈₆*M₆₁ + M₈₇*M₇₁ + M₉₁*M₈₉)*(M₁₀₈*M₈₁₀ + M₃₈*M₈₃ + M₄₈*M₈₄ + M₈₁*M₁₈ + M₈₂*M₂₈ + M₈₅*M₅₈ + M₈₆*M₆₈ + M₈₇*M₇₈ + M₉₈*M₈₉ + M₈₈^2) + (M₁₀₁*M₈₁₀ + M₃₁*M₈₃ + M₄₁*M₈₄ + M₈₁*M₁₁ + M₈₁*M₈₈ + M₈₂*M₂₁ + M₈₅*M₅₁ + M₈₆*M₆₁ + M₈₇*M₇₁ + M₉₁*M₈₉)*(M₁₁₀*M₁₀₁ + M₁₆*M₆₁ + M₁₇*M₇₁ + M₂₁*M₁₂ + M₃₁*M₁₃ + M₄₁*M₁₄ + M₅₁*M₁₅ + M₈₁*M₁₈ + M₉₁*M₁₉ + M₁₁^2) + (M₁₀₃*M₈₁₀ + M₃₃*M₈₃ + M₄₃*M₈₄ + M₈₁*M₁₃ + M₈₂*M₂₃ + M₈₃*M₈₈ + M₈₅*M₅₃ + M₈₆*M₆₃ + M₈₇*M₇₃ + M₉₃*M₈₉)*(M₁₀₁*M₃₁₀ + M₃₁*M₁₁ + M₃₁*M₃₃ + M₃₂*M₂₁ + M₃₅*M₅₁ + M₃₆*M₆₁ + M₃₇*M₇₁ + M₃₈*M₈₁ + M₄₁*M₃₄ + M₉₁*M₃₉) + (M₁₀₇*M₈₁₀ + M₃₇*M₈₃ + M₄₇*M₈₄ + M₈₁*M₁₇ + M₈₂*M₂₇ + M₈₅*M₅₇ + M₈₆*M₆₇ + M₈₇*M₇₇ + M₈₇*M₈₈ + M₉₇*M₈₉)*(M₁₁*M₇₁ + M₂₁*M₇₂ + M₃₁*M₇₃ + M₄₁*M₇₄ + M₅₁*M₇₅ + M₇₁*M₇₇ + M₇₁₀*M₁₀₁ + M₇₆*M₆₁ + M₈₁*M₇₈ + M₉₁*M₇₉) + (M₁₀₉*M₈₁₀ + M₃₉*M₈₃ + M₄₉*M₈₄ + M₈₁*M₁₉ + M₈₂*M₂₉ + M₈₅*M₅₉ + M₈₆*M₆₉ + M₈₇*M₇₉ + M₈₉*M₈₈ + M₉₉*M₈₉)*(M₉₁*M₁₁ + M₉₁*M₉₉ + M₉₁₀*M₁₀₁ + M₉₂*M₂₁ + M₉₃*M₃₁ + M₉₄*M₄₁ + M₉₅*M₅₁ + M₉₆*M₆₁ + M₉₇*M₇₁ + M₉₈*M₈₁) + (M₁₀₁₀*M₈₁₀ + M₁₁₀*M₈₁ + M₂₁₀*M₈₂ + M₃₁₀*M₈₃ + M₄₁₀*M₈₄ + M₅₁₀*M₈₅ + M₆₁₀*M₈₆ + M₇₁₀*M₈₇ + M₈₁₀*M₈₈ + M₉₁₀*M₈₉)*(M₁₀₁*M₁₁ + M₁₀₁₀*M₁₀₁ + M₁₀₂*M₂₁ + M₁₀₃*M₃₁ + M₁₀₄*M₄₁ + M₁₀₅*M₅₁ + M₁₀₆*M₆₁ + M₁₀₇*M₇₁ + M₁₀₈*M₈₁ + M₁₀₉*M₉₁) + (M₁₁*M₆₁ + M₂₁*M₆₂ + M₃₁*M₆₃ + M₄₁*M₆₄ + M₅₁*M₆₅ + M₆₁*M₆₆ + M₆₁₀*M₁₀₁ + M₇₁*M₆₇ + M₈₁*M₆₈ + M₉₁*M₆₉)*(M₁₀₆*M₈₁₀ + M₃₆*M₈₃ + M₄₆*M₈₄ + M₈₁*M₁₆ + M₈₂*M₂₆ + M₈₅*M₅₆ + M₈₆*M₆₆ + M₈₇*M₇₆ + M₈₈*M₈₆ + M₉₆*M₈₉) + (M₄₁*M₁₁ + M₄₁*M₄₄ + M₄₁₀*M₁₀₁ + M₄₂*M₂₁ + M₄₃*M₃₁ + M₄₅*M₅₁ + M₄₆*M₆₁ + M₄₇*M₇₁ + M₄₈*M₈₁ + M₉₁*M₄₉)*(M₁₀₄*M₈₁₀ + M₃₄*M₈₃ + M₄₄*M₈₄ + M₈₁*M₁₄ + M₈₂*M₂₄ + M₈₄*M₈₈ + M₈₅*M₅₄ + M₈₆*M₆₄ + M₈₇*M₇₄ + M₉₄*M₈₉)) + ((M₁₀₁₀*M₆₁₀ + M₁₁₀*M₆₁ + M₂₁₀*M₆₂ + M₃₁₀*M₆₃ + M₄₁₀*M₆₄ + M₅₁₀*M₆₅ + M₆₁₀*M₆₆ + M₇₁₀*M₆₇ + M₈₁₀*M₆₈ + M₉₁₀*M₆₉)*(M₁₀₁*M₁₁ + M₁₀₁₀*M₁₀₁ + M₁₀₂*M₂₁ + M₁₀₃*M₃₁ + M₁₀₄*M₄₁ + M₁₀₅*M₅₁ + M₁₀₆*M₆₁ + M₁₀₇*M₇₁ + M₁₀₈*M₈₁ + M₁₀₉*M₉₁) + (M₁₁*M₆₁ + M₂₁*M₆₂ + M₃₁*M₆₃ + M₄₁*M₆₄ + M₅₁*M₆₅ + M₆₁*M₆₆ + M₆₁₀*M₁₀₁ + M₇₁*M₆₇ + M₈₁*M₆₈ + M₉₁*M₆₉)*(M₁₁₀*M₁₀₁ + M₁₆*M₆₁ + M₁₇*M₇₁ + M₂₁*M₁₂ + M₃₁*M₁₃ + M₄₁*M₁₄ + M₅₁*M₁₅ + M₈₁*M₁₈ + M₉₁*M₁₉ + M₁₁^2) + (M₁₁*M₆₁ + M₂₁*M₆₂ + M₃₁*M₆₃ + M₄₁*M₆₄ + M₅₁*M₆₅ + M₆₁*M₆₆ + M₆₁₀*M₁₀₁ + M₇₁*M₆₇ + M₈₁*M₆₈ + M₉₁*M₆₉)*(M₁₆*M₆₁ + M₂₆*M₆₂ + M₃₆*M₆₃ + M₄₆*M₆₄ + M₅₆*M₆₅ + M₆₁₀*M₁₀₆ + M₇₆*M₆₇ + M₈₆*M₆₈ + M₉₆*M₆₉ + M₆₆^2) + (M₁₂*M₆₁ + M₂₂*M₆₂ + M₃₂*M₆₃ + M₄₂*M₆₄ + M₅₂*M₆₅ + M₆₁₀*M₁₀₂ + M₆₂*M₆₆ + M₇₂*M₆₇ + M₈₂*M₆₈ + M₉₂*M₆₉)*(M₁₀₁*M₂₁₀ + M₂₁*M₁₁ + M₂₂*M₂₁ + M₂₆*M₆₁ + M₂₇*M₇₁ + M₃₁*M₂₃ + M₄₁*M₂₄ + M₅₁*M₂₅ + M₈₁*M₂₈ + M₉₁*M₂₉) + (M₁₃*M₆₁ + M₂₃*M₆₂ + M₃₃*M₆₃ + M₄₃*M₆₄ + M₅₃*M₆₅ + M₆₁₀*M₁₀₃ + M₆₃*M₆₆ + M₇₃*M₆₇ + M₈₃*M₆₈ + M₉₃*M₆₉)*(M₁₀₁*M₃₁₀ + M₃₁*M₁₁ + M₃₁*M₃₃ + M₃₂*M₂₁ + M₃₅*M₅₁ + M₃₆*M₆₁ + M₃₇*M₇₁ + M₃₈*M₈₁ + M₄₁*M₃₄ + M₉₁*M₃₉) + (M₁₄*M₆₁ + M₂₄*M₆₂ + M₃₄*M₆₃ + M₄₄*M₆₄ + M₅₄*M₆₅ + M₆₁₀*M₁₀₄ + M₆₄*M₆₆ + M₇₄*M₆₇ + M₈₄*M₆₈ + M₉₄*M₆₉)*(M₄₁*M₁₁ + M₄₁*M₄₄ + M₄₁₀*M₁₀₁ + M₄₂*M₂₁ + M₄₃*M₃₁ + M₄₅*M₅₁ + M₄₆*M₆₁ + M₄₇*M₇₁ + M₄₈*M₈₁ + M₉₁*M₄₉) + (M₁₅*M₆₁ + M₂₅*M₆₂ + M₃₅*M₆₃ + M₄₅*M₆₄ + M₅₅*M₆₅ + M₆₁₀*M₁₀₅ + M₆₅*M₆₆ + M₇₅*M₆₇ + M₈₅*M₆₈ + M₉₅*M₆₉)*(M₁₀₁*M₅₁₀ + M₃₁*M₅₃ + M₄₁*M₅₄ + M₅₁*M₁₁ + M₅₂*M₂₁ + M₅₅*M₅₁ + M₅₆*M₆₁ + M₅₇*M₇₁ + M₈₁*M₅₈ + M₉₁*M₅₉) + (M₁₇*M₆₁ + M₂₇*M₆₂ + M₃₇*M₆₃ + M₄₇*M₆₄ + M₅₇*M₆₅ + M₆₁₀*M₁₀₇ + M₆₆*M₆₇ + M₇₇*M₆₇ + M₈₇*M₆₈ + M₉₇*M₆₉)*(M₁₁*M₇₁ + M₂₁*M₇₂ + M₃₁*M₇₃ + M₄₁*M₇₄ + M₅₁*M₇₅ + M₇₁*M₇₇ + M₇₁₀*M₁₀₁ + M₇₆*M₆₁ + M₈₁*M₇₈ + M₉₁*M₇₉) + (M₁₈*M₆₁ + M₂₈*M₆₂ + M₃₈*M₆₃ + M₄₈*M₆₄ + M₅₈*M₆₅ + M₆₁₀*M₁₀₈ + M₆₆*M₆₈ + M₇₈*M₆₇ + M₈₈*M₆₈ + M₉₈*M₆₉)*(M₁₀₁*M₈₁₀ + M₃₁*M₈₃ + M₄₁*M₈₄ + M₈₁*M₁₁ + M₈₁*M₈₈ + M₈₂*M₂₁ + M₈₅*M₅₁ + M₈₆*M₆₁ + M₈₇*M₇₁ + M₉₁*M₈₉) + (M₁₉*M₆₁ + M₂₉*M₆₂ + M₃₉*M₆₃ + M₄₉*M₆₄ + M₅₉*M₆₅ + M₆₁₀*M₁₀₉ + M₆₉*M₆₆ + M₇₉*M₆₇ + M₈₉*M₆₈ + M₉₉*M₆₉)*(M₉₁*M₁₁ + M₉₁*M₉₉ + M₉₁₀*M₁₀₁ + M₉₂*M₂₁ + M₉₃*M₃₁ + M₉₄*M₄₁ + M₉₅*M₅₁ + M₉₆*M₆₁ + M₉₇*M₇₁ + M₉₈*M₈₁))*((M₁₀₁*M₈₁₀ + M₃₁*M₈₃ + M₄₁*M₈₄ + M₈₁*M₁₁ + M₈₁*M₈₈ + M₈₂*M₂₁ + M₈₅*M₅₁ + M₈₆*M₆₁ + M₈₇*M₇₁ + M₉₁*M₈₉)*(M₁₁*M₁₆ + M₁₁₀*M₁₀₆ + M₁₆*M₆₆ + M₁₇*M₇₆ + M₂₆*M₁₂ + M₃₆*M₁₃ + M₄₆*M₁₄ + M₅₆*M₁₅ + M₈₆*M₁₈ + M₉₆*M₁₉) + (M₁₀₃*M₈₁₀ + M₃₃*M₈₃ + M₄₃*M₈₄ + M₈₁*M₁₃ + M₈₂*M₂₃ + M₈₃*M₈₈ + M₈₅*M₅₃ + M₈₆*M₆₃ + M₈₇*M₇₃ + M₉₃*M₈₉)*(M₁₀₆*M₃₁₀ + M₃₁*M₁₆ + M₃₂*M₂₆ + M₃₅*M₅₆ + M₃₆*M₃₃ + M₃₆*M₆₆ + M₃₇*M₇₆ + M₃₈*M₈₆ + M₄₆*M₃₄ + M₉₆*M₃₉) + (M₁₀₆*M₂₁₀ + M₂₁*M₁₆ + M₂₂*M₂₆ + M₂₆*M₆₆ + M₂₇*M₇₆ + M₃₆*M₂₃ + M₄₆*M₂₄ + M₅₆*M₂₅ + M₈₆*M₂₈ + M₉₆*M₂₉)*(M₁₀₂*M₈₁₀ + M₃₂*M₈₃ + M₄₂*M₈₄ + M₈₁*M₁₂ + M₈₂*M₂₂ + M₈₂*M₈₈ + M₈₅*M₅₂ + M₈₆*M₆₂ + M₈₇*M₇₂ + M₉₂*M₈₉) + (M₁₀₆*M₅₁₀ + M₃₆*M₅₃ + M₄₆*M₅₄ + M₅₁*M₁₆ + M₅₂*M₂₆ + M₅₆*M₅₅ + M₅₆*M₆₆ + M₅₇*M₇₆ + M₈₆*M₅₈ + M₉₆*M₅₉)*(M₁₀₅*M₈₁₀ + M₃₅*M₈₃ + M₄₅*M₈₄ + M₈₁*M₁₅ + M₈₂*M₂₅ + M₈₅*M₅₅ + M₈₆*M₆₅ + M₈₇*M₇₅ + M₈₈*M₈₅ + M₉₅*M₈₉) + (M₁₀₆*M₈₁₀ + M₃₆*M₈₃ + M₄₆*M₈₄ + M₈₁*M₁₆ + M₈₂*M₂₆ + M₈₅*M₅₆ + M₈₆*M₆₆ + M₈₇*M₇₆ + M₈₈*M₈₆ + M₉₆*M₈₉)*(M₁₀₈*M₈₁₀ + M₃₈*M₈₃ + M₄₈*M₈₄ + M₈₁*M₁₈ + M₈₂*M₂₈ + M₈₅*M₅₈ + M₈₆*M₆₈ + M₈₇*M₇₈ + M₉₈*M₈₉ + M₈₈^2) + (M₁₀₇*M₈₁₀ + M₃₇*M₈₃ + M₄₇*M₈₄ + M₈₁*M₁₇ + M₈₂*M₂₇ + M₈₅*M₅₇ + M₈₆*M₆₇ + M₈₇*M₇₇ + M₈₇*M₈₈ + M₉₇*M₈₉)*(M₁₆*M₇₁ + M₂₆*M₇₂ + M₃₆*M₇₃ + M₄₆*M₇₄ + M₅₆*M₇₅ + M₇₁₀*M₁₀₆ + M₇₆*M₆₆ + M₇₇*M₇₆ + M₈₆*M₇₈ + M₉₆*M₇₉) + (M₁₀₉*M₈₁₀ + M₃₉*M₈₃ + M₄₉*M₈₄ + M₈₁*M₁₉ + M₈₂*M₂₉ + M₈₅*M₅₉ + M₈₆*M₆₉ + M₈₇*M₇₉ + M₈₉*M₈₈ + M₉₉*M₈₉)*(M₉₁*M₁₆ + M₉₁₀*M₁₀₆ + M₉₂*M₂₆ + M₉₃*M₃₆ + M₉₄*M₄₆ + M₉₅*M₅₆ + M₉₆*M₆₆ + M₉₆*M₉₉ + M₉₇*M₇₆ + M₉₈*M₈₆) + (M₁₀₁₀*M₈₁₀ + M₁₁₀*M₈₁ + M₂₁₀*M₈₂ + M₃₁₀*M₈₃ + M₄₁₀*M₈₄ + M₅₁₀*M₈₅ + M₆₁₀*M₈₆ + M₇₁₀*M₈₇ + M₈₁₀*M₈₈ + M₉₁₀*M₈₉)*(M₁₀₁*M₁₆ + M₁₀₁₀*M₁₀₆ + M₁₀₂*M₂₆ + M₁₀₃*M₃₆ + M₁₀₄*M₄₆ + M₁₀₅*M₅₆ + M₁₀₆*M₆₆ + M₁₀₇*M₇₆ + M₁₀₈*M₈₆ + M₁₀₉*M₉₆) + (M₁₆*M₆₁ + M₂₆*M₆₂ + M₃₆*M₆₃ + M₄₆*M₆₄ + M₅₆*M₆₅ + M₆₁₀*M₁₀₆ + M₇₆*M₆₇ + M₈₆*M₆₈ + M₉₆*M₆₉ + M₆₆^2)*(M₁₀₆*M₈₁₀ + M₃₆*M₈₃ + M₄₆*M₈₄ + M₈₁*M₁₆ + M₈₂*M₂₆ + M₈₅*M₅₆ + M₈₆*M₆₆ + M₈₇*M₇₆ + M₈₈*M₈₆ + M₉₆*M₈₉) + (M₄₁*M₁₆ + M₄₁₀*M₁₀₆ + M₄₂*M₂₆ + M₄₃*M₃₆ + M₄₅*M₅₆ + M₄₆*M₄₄ + M₄₆*M₆₆ + M₄₇*M₇₆ + M₄₈*M₈₆ + M₉₆*M₄₉)*(M₁₀₄*M₈₁₀ + M₃₄*M₈₃ + M₄₄*M₈₄ + M₈₁*M₁₄ + M₈₂*M₂₄ + M₈₄*M₈₈ + M₈₅*M₅₄ + M₈₆*M₆₄ + M₈₇*M₇₄ + M₉₄*M₈₉)) + ((M₁₀₁*M₂₁₀ + M₂₁*M₁₁ + M₂₂*M₂₁ + M₂₆*M₆₁ + M₂₇*M₇₁ + M₃₁*M₂₃ + M₄₁*M₂₄ + M₅₁*M₂₅ + M₈₁*M₂₈ + M₉₁*M₂₉)*(M₁₀₁*M₁₂ + M₁₀₁₀*M₁₀₂ + M₁₀₂*M₂₂ + M₁₀₃*M₃₂ + M₁₀₄*M₄₂ + M₁₀₅*M₅₂ + M₁₀₆*M₆₂ + M₁₀₇*M₇₂ + M₁₀₈*M₈₂ + M₁₀₉*M₉₂) + (M₁₀₁*M₃₁₀ + M₃₁*M₁₁ + M₃₁*M₃₃ + M₃₂*M₂₁ + M₃₅*M₅₁ + M₃₆*M₆₁ + M₃₇*M₇₁ + M₃₈*M₈₁ + M₄₁*M₃₄ + M₉₁*M₃₉)*(M₁₀₁*M₁₃ + M₁₀₁₀*M₁₀₃ + M₁₀₂*M₂₃ + M₁₀₃*M₃₃ + M₁₀₄*M₄₃ + M₁₀₅*M₅₃ + M₁₀₆*M₆₃ + M₁₀₇*M₇₃ + M₁₀₈*M₈₃ + M₁₀₉*M₉₃) + (M₁₀₁*M₅₁₀ + M₃₁*M₅₃ + M₄₁*M₅₄ + M₅₁*M₁₁ + M₅₂*M₂₁ + M₅₅*M₅₁ + M₅₆*M₆₁ + M₅₇*M₇₁ + M₈₁*M₅₈ + M₉₁*M₅₉)*(M₁₀₁*M₁₅ + M₁₀₁₀*M₁₀₅ + M₁₀₂*M₂₅ + M₁₀₃*M₃₅ + M₁₀₄*M₄₅ + M₁₀₅*M₅₅ + M₁₀₆*M₆₅ + M₁₀₇*M₇₅ + M₁₀₈*M₈₅ + M₁₀₉*M₉₅) + (M₁₀₁*M₈₁₀ + M₃₁*M₈₃ + M₄₁*M₈₄ + M₈₁*M₁₁ + M₈₁*M₈₈ + M₈₂*M₂₁ + M₈₅*M₅₁ + M₈₆*M₆₁ + M₈₇*M₇₁ + M₉₁*M₈₉)*(M₁₀₁*M₁₈ + M₁₀₁₀*M₁₀₈ + M₁₀₂*M₂₈ + M₁₀₃*M₃₈ + M₁₀₄*M₄₈ + M₁₀₅*M₅₈ + M₁₀₆*M₆₈ + M₁₀₇*M₇₈ + M₁₀₈*M₈₈ + M₁₀₉*M₉₈) + (M₁₁₀*M₁₀₁ + M₁₆*M₆₁ + M₁₇*M₇₁ + M₂₁*M₁₂ + M₃₁*M₁₃ + M₄₁*M₁₄ + M₅₁*M₁₅ + M₈₁*M₁₈ + M₉₁*M₁₉ + M₁₁^2)*(M₁₀₁*M₁₁ + M₁₀₁₀*M₁₀₁ + M₁₀₂*M₂₁ + M₁₀₃*M₃₁ + M₁₀₄*M₄₁ + M₁₀₅*M₅₁ + M₁₀₆*M₆₁ + M₁₀₇*M₇₁ + M₁₀₈*M₈₁ + M₁₀₉*M₉₁) + (M₁₁*M₆₁ + M₂₁*M₆₂ + M₃₁*M₆₃ + M₄₁*M₆₄ + M₅₁*M₆₅ + M₆₁*M₆₆ + M₆₁₀*M₁₀₁ + M₇₁*M₆₇ + M₈₁*M₆₈ + M₉₁*M₆₉)*(M₁₀₁*M₁₆ + M₁₀₁₀*M₁₀₆ + M₁₀₂*M₂₆ + M₁₀₃*M₃₆ + M₁₀₄*M₄₆ + M₁₀₅*M₅₆ + M₁₀₆*M₆₆ + M₁₀₇*M₇₆ + M₁₀₈*M₈₆ + M₁₀₉*M₉₆) + (M₁₀₂*M₂₁₀ + M₁₀₃*M₃₁₀ + M₁₀₅*M₅₁₀ + M₁₀₈*M₈₁₀ + M₁₁₀*M₁₀₁ + M₄₁₀*M₁₀₄ + M₆₁₀*M₁₀₆ + M₇₁₀*M₁₀₇ + M₉₁₀*M₁₀₉ + M₁₀₁₀^2)*(M₁₀₁*M₁₁ + M₁₀₁₀*M₁₀₁ + M₁₀₂*M₂₁ + M₁₀₃*M₃₁ + M₁₀₄*M₄₁ + M₁₀₅*M₅₁ + M₁₀₆*M₆₁ + M₁₀₇*M₇₁ + M₁₀₈*M₈₁ + M₁₀₉*M₉₁) + (M₄₁*M₁₁ + M₄₁*M₄₄ + M₄₁₀*M₁₀₁ + M₄₂*M₂₁ + M₄₃*M₃₁ + M₄₅*M₅₁ + M₄₆*M₆₁ + M₄₇*M₇₁ + M₄₈*M₈₁ + M₉₁*M₄₉)*(M₁₀₁*M₁₄ + M₁₀₁₀*M₁₀₄ + M₁₀₂*M₂₄ + M₁₀₃*M₃₄ + M₁₀₄*M₄₄ + M₁₀₅*M₅₄ + M₁₀₆*M₆₄ + M₁₀₇*M₇₄ + M₁₀₈*M₈₄ + M₁₀₉*M₉₄) + (M₁₁*M₇₁ + M₂₁*M₇₂ + M₃₁*M₇₃ + M₄₁*M₇₄ + M₅₁*M₇₅ + M₇₁*M₇₇ + M₇₁₀*M₁₀₁ + M₇₆*M₆₁ + M₈₁*M₇₈ + M₉₁*M₇₉)*(M₁₀₁*M₁₇ + M₁₀₁₀*M₁₀₇ + M₁₀₂*M₂₇ + M₁₀₃*M₃₇ + M₁₀₄*M₄₇ + M₁₀₅*M₅₇ + M₁₀₆*M₆₇ + M₁₀₇*M₇₇ + M₁₀₈*M₈₇ + M₁₀₉*M₉₇) + (M₉₁*M₁₁ + M₉₁*M₉₉ + M₉₁₀*M₁₀₁ + M₉₂*M₂₁ + M₉₃*M₃₁ + M₉₄*M₄₁ + M₉₅*M₅₁ + M₉₆*M₆₁ + M₉₇*M₇₁ + M₉₈*M₈₁)*(M₁₀₁*M₁₉ + M₁₀₁₀*M₁₀₉ + M₁₀₂*M₂₉ + M₁₀₃*M₃₉ + M₁₀₄*M₄₉ + M₁₀₅*M₅₉ + M₁₀₆*M₆₉ + M₁₀₇*M₇₉ + M₁₀₈*M₈₉ + M₁₀₉*M₉₉))*((M₁₀₁*M₈₁₀ + M₃₁*M₈₃ + M₄₁*M₈₄ + M₈₁*M₁₁ + M₈₁*M₈₈ + M₈₂*M₂₁ + M₈₅*M₅₁ + M₈₆*M₆₁ + M₈₇*M₇₁ + M₉₁*M₈₉)*(M₁₀₁₀*M₁₁₀ + M₁₁₀*M₁₁ + M₂₁₀*M₁₂ + M₃₁₀*M₁₃ + M₄₁₀*M₁₄ + M₅₁₀*M₁₅ + M₆₁₀*M₁₆ + M₇₁₀*M₁₇ + M₈₁₀*M₁₈ + M₉₁₀*M₁₉) + (M₁₀₂*M₈₁₀ + M₃₂*M₈₃ + M₄₂*M₈₄ + M₈₁*M₁₂ + M₈₂*M₂₂ + M₈₂*M₈₈ + M₈₅*M₅₂ + M₈₆*M₆₂ + M₈₇*M₇₂ + M₉₂*M₈₉)*(M₁₀₁₀*M₂₁₀ + M₁₁₀*M₂₁ + M₂₁₀*M₂₂ + M₃₁₀*M₂₃ + M₄₁₀*M₂₄ + M₅₁₀*M₂₅ + M₆₁₀*M₂₆ + M₇₁₀*M₂₇ + M₈₁₀*M₂₈ + M₉₁₀*M₂₉) + (M₁₀₃*M₈₁₀ + M₃₃*M₈₃ + M₄₃*M₈₄ + M₈₁*M₁₃ + M₈₂*M₂₃ + M₈₃*M₈₈ + M₈₅*M₅₃ + M₈₆*M₆₃ + M₈₇*M₇₃ + M₉₃*M₈₉)*(M₁₀₁₀*M₃₁₀ + M₁₁₀*M₃₁ + M₂₁₀*M₃₂ + M₃₁₀*M₃₃ + M₄₁₀*M₃₄ + M₅₁₀*M₃₅ + M₆₁₀*M₃₆ + M₇₁₀*M₃₇ + M₈₁₀*M₃₈ + M₉₁₀*M₃₉) + (M₁₀₄*M₈₁₀ + M₃₄*M₈₃ + M₄₄*M₈₄ + M₈₁*M₁₄ + M₈₂*M₂₄ + M₈₄*M₈₈ + M₈₅*M₅₄ + M₈₆*M₆₄ + M₈₇*M₇₄ + M₉₄*M₈₉)*(M₁₀₁₀*M₄₁₀ + M₁₁₀*M₄₁ + M₂₁₀*M₄₂ + M₃₁₀*M₄₃ + M₄₁₀*M₄₄ + M₅₁₀*M₄₅ + M₆₁₀*M₄₆ + M₇₁₀*M₄₇ + M₈₁₀*M₄₈ + M₉₁₀*M₄₉) + (M₁₀₅*M₈₁₀ + M₃₅*M₈₃ + M₄₅*M₈₄ + M₈₁*M₁₅ + M₈₂*M₂₅ + M₈₅*M₅₅ + M₈₆*M₆₅ + M₈₇*M₇₅ + M₈₈*M₈₅ + M₉₅*M₈₉)*(M₁₀₁₀*M₅₁₀ + M₁₁₀*M₅₁ + M₂₁₀*M₅₂ + M₃₁₀*M₅₃ + M₄₁₀*M₅₄ + M₅₁₀*M₅₅ + M₆₁₀*M₅₆ + M₇₁₀*M₅₇ + M₈₁₀*M₅₈ + M₉₁₀*M₅₉) + (M₁₀₆*M₈₁₀ + M₃₆*M₈₃ + M₄₆*M₈₄ + M₈₁*M₁₆ + M₈₂*M₂₆ + M₈₅*M₅₆ + M₈₆*M₆₆ + M₈₇*M₇₆ + M₈₈*M₈₆ + M₉₆*M₈₉)*(M₁₀₁₀*M₆₁₀ + M₁₁₀*M₆₁ + M₂₁₀*M₆₂ + M₃₁₀*M₆₃ + M₄₁₀*M₆₄ + M₅₁₀*M₆₅ + M₆₁₀*M₆₆ + M₇₁₀*M₆₇ + M₈₁₀*M₆₈ + M₉₁₀*M₆₉) + (M₁₀₇*M₈₁₀ + M₃₇*M₈₃ + M₄₇*M₈₄ + M₈₁*M₁₇ + M₈₂*M₂₇ + M₈₅*M₅₇ + M₈₆*M₆₇ + M₈₇*M₇₇ + M₈₇*M₈₈ + M₉₇*M₈₉)*(M₁₀₁₀*M₇₁₀ + M₁₁₀*M₇₁ + M₂₁₀*M₇₂ + M₃₁₀*M₇₃ + M₄₁₀*M₇₄ + M₅₁₀*M₇₅ + M₆₁₀*M₇₆ + M₇₁₀*M₇₇ + M₈₁₀*M₇₈ + M₉₁₀*M₇₉) + (M₁₀₈*M₈₁₀ + M₃₈*M₈₃ + M₄₈*M₈₄ + M₈₁*M₁₈ + M₈₂*M₂₈ + M₈₅*M₅₈ + M₈₆*M₆₈ + M₈₇*M₇₈ + M₉₈*M₈₉ + M₈₈^2)*(M₁₀₁₀*M₈₁₀ + M₁₁₀*M₈₁ + M₂₁₀*M₈₂ + M₃₁₀*M₈₃ + M₄₁₀*M₈₄ + M₅₁₀*M₈₅ + M₆₁₀*M₈₆ + M₇₁₀*M₈₇ + M₈₁₀*M₈₈ + M₉₁₀*M₈₉) + (M₁₀₉*M₈₁₀ + M₃₉*M₈₃ + M₄₉*M₈₄ + M₈₁*M₁₉ + M₈₂*M₂₉ + M₈₅*M₅₉ + M₈₆*M₆₉ + M₈₇*M₇₉ + M₈₉*M₈₈ + M₉₉*M₈₉)*(M₁₀₁₀*M₉₁₀ + M₁₁₀*M₉₁ + M₂₁₀*M₉₂ + M₃₁₀*M₉₃ + M₄₁₀*M₉₄ + M₅₁₀*M₉₅ + M₆₁₀*M₉₆ + M₇₁₀*M₉₇ + M₈₁₀*M₉₈ + M₉₁₀*M₉₉) + (M₁₀₂*M₂₁₀ + M₁₀₃*M₃₁₀ + M₁₀₅*M₅₁₀ + M₁₀₈*M₈₁₀ + M₁₁₀*M₁₀₁ + M₄₁₀*M₁₀₄ + M₆₁₀*M₁₀₆ + M₇₁₀*M₁₀₇ + M₉₁₀*M₁₀₉ + M₁₀₁₀^2)*(M₁₀₁₀*M₈₁₀ + M₁₁₀*M₈₁ + M₂₁₀*M₈₂ + M₃₁₀*M₈₃ + M₄₁₀*M₈₄ + M₅₁₀*M₈₅ + M₆₁₀*M₈₆ + M₇₁₀*M₈₇ + M₈₁₀*M₈₈ + M₉₁₀*M₈₉)) + ((M₁₀₁*M₁₁ + M₁₀₁₀*M₁₀₁ + M₁₀₂*M₂₁ + M₁₀₃*M₃₁ + M₁₀₄*M₄₁ + M₁₀₅*M₅₁ + M₁₀₆*M₆₁ + M₁₀₇*M₇₁ + M₁₀₈*M₈₁ + M₁₀₉*M₉₁)*(M₁₀₁₀*M₄₁₀ + M₁₁₀*M₄₁ + M₂₁₀*M₄₂ + M₃₁₀*M₄₃ + M₄₁₀*M₄₄ + M₅₁₀*M₄₅ + M₆₁₀*M₄₆ + M₇₁₀*M₄₇ + M₈₁₀*M₄₈ + M₉₁₀*M₄₉) + (M₁₁*M₆₁ + M₂₁*M₆₂ + M₃₁*M₆₃ + M₄₁*M₆₄ + M₅₁*M₆₅ + M₆₁*M₆₆ + M₆₁₀*M₁₀₁ + M₇₁*M₆₇ + M₈₁*M₆₈ + M₉₁*M₆₉)*(M₄₁*M₁₆ + M₄₁₀*M₁₀₆ + M₄₂*M₂₆ + M₄₃*M₃₆ + M₄₅*M₅₆ + M₄₆*M₄₄ + M₄₆*M₆₆ + M₄₇*M₇₆ + M₄₈*M₈₆ + M₉₆*M₄₉) + (M₄₁*M₁₁ + M₄₁*M₄₄ + M₄₁₀*M₁₀₁ + M₄₂*M₂₁ + M₄₃*M₃₁ + M₄₅*M₅₁ + M₄₆*M₆₁ + M₄₇*M₇₁ + M₄₈*M₈₁ + M₉₁*M₄₉)*(M₁₁₀*M₁₀₁ + M₁₆*M₆₁ + M₁₇*M₇₁ + M₂₁*M₁₂ + M₃₁*M₁₃ + M₄₁*M₁₄ + M₅₁*M₁₅ + M₈₁*M₁₈ + M₉₁*M₁₉ + M₁₁^2) + (M₄₁*M₁₂ + M₄₁₀*M₁₀₂ + M₄₂*M₂₂ + M₄₂*M₄₄ + M₄₃*M₃₂ + M₄₅*M₅₂ + M₄₆*M₆₂ + M₄₇*M₇₂ + M₄₈*M₈₂ + M₉₂*M₄₉)*(M₁₀₁*M₂₁₀ + M₂₁*M₁₁ + M₂₂*M₂₁ + M₂₆*M₆₁ + M₂₇*M₇₁ + M₃₁*M₂₃ + M₄₁*M₂₄ + M₅₁*M₂₅ + M₈₁*M₂₈ + M₉₁*M₂₉) + (M₄₁*M₁₃ + M₄₁₀*M₁₀₃ + M₄₂*M₂₃ + M₄₃*M₃₃ + M₄₄*M₄₃ + M₄₅*M₅₃ + M₄₆*M₆₃ + M₄₇*M₇₃ + M₄₈*M₈₃ + M₉₃*M₄₉)*(M₁₀₁*M₃₁₀ + M₃₁*M₁₁ + M₃₁*M₃₃ + M₃₂*M₂₁ + M₃₅*M₅₁ + M₃₆*M₆₁ + M₃₇*M₇₁ + M₃₈*M₈₁ + M₄₁*M₃₄ + M₉₁*M₃₉) + (M₄₁*M₁₄ + M₄₁₀*M₁₀₄ + M₄₂*M₂₄ + M₄₃*M₃₄ + M₄₅*M₅₄ + M₄₆*M₆₄ + M₄₇*M₇₄ + M₄₈*M₈₄ + M₉₄*M₄₉ + M₄₄^2)*(M₄₁*M₁₁ + M₄₁*M₄₄ + M₄₁₀*M₁₀₁ + M₄₂*M₂₁ + M₄₃*M₃₁ + M₄₅*M₅₁ + M₄₆*M₆₁ + M₄₇*M₇₁ + M₄₈*M₈₁ + M₉₁*M₄₉) + (M₄₁*M₁₅ + M₄₁₀*M₁₀₅ + M₄₂*M₂₅ + M₄₃*M₃₅ + M₄₅*M₄₄ + M₄₅*M₅₅ + M₄₆*M₆₅ + M₄₇*M₇₅ + M₄₈*M₈₅ + M₉₅*M₄₉)*(M₁₀₁*M₅₁₀ + M₃₁*M₅₃ + M₄₁*M₅₄ + M₅₁*M₁₁ + M₅₂*M₂₁ + M₅₅*M₅₁ + M₅₆*M₆₁ + M₅₇*M₇₁ + M₈₁*M₅₈ + M₉₁*M₅₉) + (M₄₁*M₁₇ + M₄₁₀*M₁₀₇ + M₄₂*M₂₇ + M₄₃*M₃₇ + M₄₄*M₄₇ + M₄₅*M₅₇ + M₄₆*M₆₇ + M₄₇*M₇₇ + M₄₈*M₈₇ + M₉₇*M₄₉)*(M₁₁*M₇₁ + M₂₁*M₇₂ + M₃₁*M₇₃ + M₄₁*M₇₄ + M₅₁*M₇₅ + M₇₁*M₇₇ + M₇₁₀*M₁₀₁ + M₇₆*M₆₁ + M₈₁*M₇₈ + M₉₁*M₇₉) + (M₄₁*M₁₈ + M₄₁₀*M₁₀₈ + M₄₂*M₂₈ + M₄₃*M₃₈ + M₄₄*M₄₈ + M₄₅*M₅₈ + M₄₆*M₆₈ + M₄₇*M₇₈ + M₄₈*M₈₈ + M₉₈*M₄₉)*(M₁₀₁*M₈₁₀ + M₃₁*M₈₃ + M₄₁*M₈₄ + M₈₁*M₁₁ + M₈₁*M₈₈ + M₈₂*M₂₁ + M₈₅*M₅₁ + M₈₆*M₆₁ + M₈₇*M₇₁ + M₉₁*M₈₉) + (M₄₁*M₁₉ + M₄₁₀*M₁₀₉ + M₄₂*M₂₉ + M₄₃*M₃₉ + M₄₄*M₄₉ + M₄₅*M₅₉ + M₄₆*M₆₉ + M₄₇*M₇₉ + M₄₈*M₈₉ + M₉₉*M₄₉)*(M₉₁*M₁₁ + M₉₁*M₉₉ + M₉₁₀*M₁₀₁ + M₉₂*M₂₁ + M₉₃*M₃₁ + M₉₄*M₄₁ + M₉₅*M₅₁ + M₉₆*M₆₁ + M₉₇*M₇₁ + M₉₈*M₈₁))*((M₁₀₁*M₈₁₀ + M₃₁*M₈₃ + M₄₁*M₈₄ + M₈₁*M₁₁ + M₈₁*M₈₈ + M₈₂*M₂₁ + M₈₅*M₅₁ + M₈₆*M₆₁ + M₈₇*M₇₁ + M₉₁*M₈₉)*(M₁₁*M₁₄ + M₁₁₀*M₁₀₄ + M₁₆*M₆₄ + M₁₇*M₇₄ + M₂₄*M₁₂ + M₃₄*M₁₃ + M₄₄*M₁₄ + M₅₄*M₁₅ + M₈₄*M₁₈ + M₉₄*M₁₉) + (M₁₀₃*M₈₁₀ + M₃₃*M₈₃ + M₄₃*M₈₄ + M₈₁*M₁₃ + M₈₂*M₂₃ + M₈₃*M₈₈ + M₈₅*M₅₃ + M₈₆*M₆₃ + M₈₇*M₇₃ + M₉₃*M₈₉)*(M₁₀₄*M₃₁₀ + M₃₁*M₁₄ + M₃₂*M₂₄ + M₃₃*M₃₄ + M₃₅*M₅₄ + M₃₆*M₆₄ + M₃₇*M₇₄ + M₃₈*M₈₄ + M₄₄*M₃₄ + M₉₄*M₃₉) + (M₁₀₄*M₂₁₀ + M₂₁*M₁₄ + M₂₂*M₂₄ + M₂₆*M₆₄ + M₂₇*M₇₄ + M₃₄*M₂₃ + M₄₄*M₂₄ + M₅₄*M₂₅ + M₈₄*M₂₈ + M₉₄*M₂₉)*(M₁₀₂*M₈₁₀ + M₃₂*M₈₃ + M₄₂*M₈₄ + M₈₁*M₁₂ + M₈₂*M₂₂ + M₈₂*M₈₈ + M₈₅*M₅₂ + M₈₆*M₆₂ + M₈₇*M₇₂ + M₉₂*M₈₉) + (M₁₀₄*M₅₁₀ + M₃₄*M₅₃ + M₄₄*M₅₄ + M₅₁*M₁₄ + M₅₂*M₂₄ + M₅₅*M₅₄ + M₅₆*M₆₄ + M₅₇*M₇₄ + M₈₄*M₅₈ + M₉₄*M₅₉)*(M₁₀₅*M₈₁₀ + M₃₅*M₈₃ + M₄₅*M₈₄ + M₈₁*M₁₅ + M₈₂*M₂₅ + M₈₅*M₅₅ + M₈₆*M₆₅ + M₈₇*M₇₅ + M₈₈*M₈₅ + M₉₅*M₈₉) + (M₁₀₄*M₈₁₀ + M₃₄*M₈₃ + M₄₄*M₈₄ + M₈₁*M₁₄ + M₈₂*M₂₄ + M₈₄*M₈₈ + M₈₅*M₅₄ + M₈₆*M₆₄ + M₈₇*M₇₄ + M₉₄*M₈₉)*(M₁₀₈*M₈₁₀ + M₃₈*M₈₃ + M₄₈*M₈₄ + M₈₁*M₁₈ + M₈₂*M₂₈ + M₈₅*M₅₈ + M₈₆*M₆₈ + M₈₇*M₇₈ + M₉₈*M₈₉ + M₈₈^2) + (M₁₀₇*M₈₁₀ + M₃₇*M₈₃ + M₄₇*M₈₄ + M₈₁*M₁₇ + M₈₂*M₂₇ + M₈₅*M₅₇ + M₈₆*M₆₇ + M₈₇*M₇₇ + M₈₇*M₈₈ + M₉₇*M₈₉)*(M₁₄*M₇₁ + M₂₄*M₇₂ + M₃₄*M₇₃ + M₄₄*M₇₄ + M₅₄*M₇₅ + M₇₁₀*M₁₀₄ + M₇₄*M₇₇ + M₇₆*M₆₄ + M₈₄*M₇₈ + M₉₄*M₇₉) + (M₁₀₉*M₈₁₀ + M₃₉*M₈₃ + M₄₉*M₈₄ + M₈₁*M₁₉ + M₈₂*M₂₉ + M₈₅*M₅₉ + M₈₆*M₆₉ + M₈₇*M₇₉ + M₈₉*M₈₈ + M₉₉*M₈₉)*(M₉₁*M₁₄ + M₉₁₀*M₁₀₄ + M₉₂*M₂₄ + M₉₃*M₃₄ + M₉₄*M₄₄ + M₉₅*M₅₄ + M₉₆*M₆₄ + M₉₇*M₇₄ + M₉₈*M₈₄ + M₉₉*M₉₄) + (M₁₀₁₀*M₈₁₀ + M₁₁₀*M₈₁ + M₂₁₀*M₈₂ + M₃₁₀*M₈₃ + M₄₁₀*M₈₄ + M₅₁₀*M₈₅ + M₆₁₀*M₈₆ + M₇₁₀*M₈₇ + M₈₁₀*M₈₈ + M₉₁₀*M₈₉)*(M₁₀₁*M₁₄ + M₁₀₁₀*M₁₀₄ + M₁₀₂*M₂₄ + M₁₀₃*M₃₄ + M₁₀₄*M₄₄ + M₁₀₅*M₅₄ + M₁₀₆*M₆₄ + M₁₀₇*M₇₄ + M₁₀₈*M₈₄ + M₁₀₉*M₉₄) + (M₁₄*M₆₁ + M₂₄*M₆₂ + M₃₄*M₆₃ + M₄₄*M₆₄ + M₅₄*M₆₅ + M₆₁₀*M₁₀₄ + M₆₄*M₆₆ + M₇₄*M₆₇ + M₈₄*M₆₈ + M₉₄*M₆₉)*(M₁₀₆*M₈₁₀ + M₃₆*M₈₃ + M₄₆*M₈₄ + M₈₁*M₁₆ + M₈₂*M₂₆ + M₈₅*M₅₆ + M₈₆*M₆₆ + M₈₇*M₇₆ + M₈₈*M₈₆ + M₉₆*M₈₉) + (M₄₁*M₁₄ + M₄₁₀*M₁₀₄ + M₄₂*M₂₄ + M₄₃*M₃₄ + M₄₅*M₅₄ + M₄₆*M₆₄ + M₄₇*M₇₄ + M₄₈*M₈₄ + M₉₄*M₄₉ + M₄₄^2)*(M₁₀₄*M₈₁₀ + M₃₄*M₈₃ + M₄₄*M₈₄ + M₈₁*M₁₄ + M₈₂*M₂₄ + M₈₄*M₈₈ + M₈₅*M₅₄ + M₈₆*M₆₄ + M₈₇*M₇₄ + M₉₄*M₈₉))) + (M₁₁*M₁₉ + M₁₁₀*M₁₀₉ + M₁₆*M₆₉ + M₁₇*M₇₉ + M₂₉*M₁₂ + M₃₉*M₁₃ + M₄₉*M₁₄ + M₅₉*M₁₅ + M₈₉*M₁₈ + M₉₉*M₁₉)*(((M₁₀₁*M₂₁₀ + M₂₁*M₁₁ + M₂₂*M₂₁ + M₂₆*M₆₁ + M₂₇*M₇₁ + M₃₁*M₂₃ + M₄₁*M₂₄ + M₅₁*M₂₅ + M₈₁*M₂₈ + M₉₁*M₂₉)*(M₉₁*M₁₂ + M₉₁₀*M₁₀₂ + M₉₂*M₂₂ + M₉₃*M₃₂ + M₉₄*M₄₂ + M₉₅*M₅₂ + M₉₆*M₆₂ + M₉₇*M₇₂ + M₉₈*M₈₂ + M₉₉*M₉₂) + (M₁₀₁*M₃₁₀ + M₃₁*M₁₁ + M₃₁*M₃₃ + M₃₂*M₂₁ + M₃₅*M₅₁ + M₃₆*M₆₁ + M₃₇*M₇₁ + M₃₈*M₈₁ + M₄₁*M₃₄ + M₉₁*M₃₉)*(M₉₁*M₁₃ + M₉₁₀*M₁₀₃ + M₉₂*M₂₃ + M₉₃*M₃₃ + M₉₄*M₄₃ + M₉₅*M₅₃ + M₉₆*M₆₃ + M₉₇*M₇₃ + M₉₈*M₈₃ + M₉₉*M₉₃) + (M₁₀₁*M₅₁₀ + M₃₁*M₅₃ + M₄₁*M₅₄ + M₅₁*M₁₁ + M₅₂*M₂₁ + M₅₅*M₅₁ + M₅₆*M₆₁ + M₅₇*M₇₁ + M₈₁*M₅₈ + M₉₁*M₅₉)*(M₉₁*M₁₅ + M₉₁₀*M₁₀₅ + M₉₂*M₂₅ + M₉₃*M₃₅ + M₉₄*M₄₅ + M₉₅*M₅₅ + M₉₆*M₆₅ + M₉₇*M₇₅ + M₉₈*M₈₅ + M₉₉*M₉₅) + (M₁₀₁*M₈₁₀ + M₃₁*M₈₃ + M₄₁*M₈₄ + M₈₁*M₁₁ + M₈₁*M₈₈ + M₈₂*M₂₁ + M₈₅*M₅₁ + M₈₆*M₆₁ + M₈₇*M₇₁ + M₉₁*M₈₉)*(M₉₁*M₁₈ + M₉₁₀*M₁₀₈ + M₉₂*M₂₈ + M₉₃*M₃₈ + M₉₄*M₄₈ + M₉₅*M₅₈ + M₉₆*M₆₈ + M₉₇*M₇₈ + M₉₈*M₈₈ + M₉₈*M₉₉) + (M₁₁₀*M₁₀₁ + M₁₆*M₆₁ + M₁₇*M₇₁ + M₂₁*M₁₂ + M₃₁*M₁₃ + M₄₁*M₁₄ + M₅₁*M₁₅ + M₈₁*M₁₈ + M₉₁*M₁₉ + M₁₁^2)*(M₉₁*M₁₁ + M₉₁*M₉₉ + M₉₁₀*M₁₀₁ + M₉₂*M₂₁ + M₉₃*M₃₁ + M₉₄*M₄₁ + M₉₅*M₅₁ + M₉₆*M₆₁ + M₉₇*M₇₁ + M₉₈*M₈₁) + (M₁₀₁₀*M₉₁₀ + M₁₁₀*M₉₁ + M₂₁₀*M₉₂ + M₃₁₀*M₉₃ + M₄₁₀*M₉₄ + M₅₁₀*M₉₅ + M₆₁₀*M₉₆ + M₇₁₀*M₉₇ + M₈₁₀*M₉₈ + M₉₁₀*M₉₉)*(M₁₀₁*M₁₁ + M₁₀₁₀*M₁₀₁ + M₁₀₂*M₂₁ + M₁₀₃*M₃₁ + M₁₀₄*M₄₁ + M₁₀₅*M₅₁ + M₁₀₆*M₆₁ + M₁₀₇*M₇₁ + M₁₀₈*M₈₁ + M₁₀₉*M₉₁) + (M₁₁*M₆₁ + M₂₁*M₆₂ + M₃₁*M₆₃ + M₄₁*M₆₄ + M₅₁*M₆₅ + M₆₁*M₆₆ + M₆₁₀*M₁₀₁ + M₇₁*M₆₇ + M₈₁*M₆₈ + M₉₁*M₆₉)*(M₉₁*M₁₆ + M₉₁₀*M₁₀₆ + M₉₂*M₂₆ + M₉₃*M₃₆ + M₉₄*M₄₆ + M₉₅*M₅₆ + M₉₆*M₆₆ + M₉₆*M₉₉ + M₉₇*M₇₆ + M₉₈*M₈₆) + (M₄₁*M₁₁ + M₄₁*M₄₄ + M₄₁₀*M₁₀₁ + M₄₂*M₂₁ + M₄₃*M₃₁ + M₄₅*M₅₁ + M₄₆*M₆₁ + M₄₇*M₇₁ + M₄₈*M₈₁ + M₉₁*M₄₉)*(M₉₁*M₁₄ + M₉₁₀*M₁₀₄ + M₉₂*M₂₄ + M₉₃*M₃₄ + M₉₄*M₄₄ + M₉₅*M₅₄ + M₉₆*M₆₄ + M₉₇*M₇₄ + M₉₈*M₈₄ + M₉₉*M₉₄) + (M₉₁*M₁₇ + M₉₁₀*M₁₀₇ + M₉₂*M₂₇ + M₉₃*M₃₇ + M₉₄*M₄₇ + M₉₅*M₅₇ + M₉₆*M₆₇ + M₉₇*M₇₇ + M₉₇*M₉₉ + M₉₈*M₈₇)*(M₁₁*M₇₁ + M₂₁*M₇₂ + M₃₁*M₇₃ + M₄₁*M₇₄ + M₅₁*M₇₅ + M₇₁*M₇₇ + M₇₁₀*M₁₀₁ + M₇₆*M₆₁ + M₈₁*M₇₈ + M₉₁*M₇₉) + (M₉₁*M₁₉ + M₉₁₀*M₁₀₉ + M₉₂*M₂₉ + M₉₃*M₃₉ + M₉₄*M₄₉ + M₉₅*M₅₉ + M₉₆*M₆₉ + M₉₇*M₇₉ + M₉₈*M₈₉ + M₉₉^2)*(M₉₁*M₁₁ + M₉₁*M₉₉ + M₉₁₀*M₁₀₁ + M₉₂*M₂₁ + M₉₃*M₃₁ + M₉₄*M₄₁ + M₉₅*M₅₁ + M₉₆*M₆₁ + M₉₇*M₇₁ + M₉₈*M₈₁))*((M₁₀₁*M₂₁₀ + M₂₁*M₁₁ + M₂₂*M₂₁ + M₂₆*M₆₁ + M₂₇*M₇₁ + M₃₁*M₂₃ + M₄₁*M₂₄ + M₅₁*M₂₅ + M₈₁*M₂₈ + M₉₁*M₂₉)*(M₁₁*M₁₂ + M₁₁₀*M₁₀₂ + M₁₆*M₆₂ + M₁₇*M₇₂ + M₂₂*M₁₂ + M₃₂*M₁₃ + M₄₂*M₁₄ + M₅₂*M₁₅ + M₈₂*M₁₈ + M₉₂*M₁₉) + (M₁₀₁*M₃₁₀ + M₃₁*M₁₁ + M₃₁*M₃₃ + M₃₂*M₂₁ + M₃₅*M₅₁ + M₃₆*M₆₁ + M₃₇*M₇₁ + M₃₈*M₈₁ + M₄₁*M₃₄ + M₉₁*M₃₉)*(M₁₁*M₁₃ + M₁₁₀*M₁₀₃ + M₁₆*M₆₃ + M₁₇*M₇₃ + M₂₃*M₁₂ + M₃₃*M₁₃ + M₄₃*M₁₄ + M₅₃*M₁₅ + M₈₃*M₁₈ + M₉₃*M₁₉) + (M₁₀₁*M₅₁₀ + M₃₁*M₅₃ + M₄₁*M₅₄ + M₅₁*M₁₁ + M₅₂*M₂₁ + M₅₅*M₅₁ + M₅₆*M₆₁ + M₅₇*M₇₁ + M₈₁*M₅₈ + M₉₁*M₅₉)*(M₁₁*M₁₅ + M₁₁₀*M₁₀₅ + M₁₆*M₆₅ + M₁₇*M₇₅ + M₂₅*M₁₂ + M₃₅*M₁₃ + M₄₅*M₁₄ + M₅₅*M₁₅ + M₈₅*M₁₈ + M₉₅*M₁₉) + (M₁₀₁*M₈₁₀ + M₃₁*M₈₃ + M₄₁*M₈₄ + M₈₁*M₁₁ + M₈₁*M₈₈ + M₈₂*M₂₁ + M₈₅*M₅₁ + M₈₆*M₆₁ + M₈₇*M₇₁ + M₉₁*M₈₉)*(M₁₁*M₁₈ + M₁₁₀*M₁₀₈ + M₁₆*M₆₈ + M₁₇*M₇₈ + M₂₈*M₁₂ + M₃₈*M₁₃ + M₄₈*M₁₄ + M₅₈*M₁₅ + M₈₈*M₁₈ + M₉₈*M₁₉) + (M₁₁*M₁₇ + M₁₁₀*M₁₀₇ + M₁₆*M₆₇ + M₁₇*M₇₇ + M₂₇*M₁₂ + M₃₇*M₁₃ + M₄₇*M₁₄ + M₅₇*M₁₅ + M₈₇*M₁₈ + M₉₇*M₁₉)*(M₁₁*M₇₁ + M₂₁*M₇₂ + M₃₁*M₇₃ + M₄₁*M₇₄ + M₅₁*M₇₅ + M₇₁*M₇₇ + M₇₁₀*M₁₀₁ + M₇₆*M₆₁ + M₈₁*M₇₈ + M₉₁*M₇₉) + (M₁₁*M₁₉ + M₁₁₀*M₁₀₉ + M₁₆*M₆₉ + M₁₇*M₇₉ + M₂₉*M₁₂ + M₃₉*M₁₃ + M₄₉*M₁₄ + M₅₉*M₁₅ + M₈₉*M₁₈ + M₉₉*M₁₉)*(M₉₁*M₁₁ + M₉₁*M₉₉ + M₉₁₀*M₁₀₁ + M₉₂*M₂₁ + M₉₃*M₃₁ + M₉₄*M₄₁ + M₉₅*M₅₁ + M₉₆*M₆₁ + M₉₇*M₇₁ + M₉₈*M₈₁) + (M₁₀₁₀*M₁₁₀ + M₁₁₀*M₁₁ + M₂₁₀*M₁₂ + M₃₁₀*M₁₃ + M₄₁₀*M₁₄ + M₅₁₀*M₁₅ + M₆₁₀*M₁₆ + M₇₁₀*M₁₇ + M₈₁₀*M₁₈ + M₉₁₀*M₁₉)*(M₁₀₁*M₁₁ + M₁₀₁₀*M₁₀₁ + M₁₀₂*M₂₁ + M₁₀₃*M₃₁ + M₁₀₄*M₄₁ + M₁₀₅*M₅₁ + M₁₀₆*M₆₁ + M₁₀₇*M₇₁ + M₁₀₈*M₈₁ + M₁₀₉*M₉₁) + (M₁₁*M₆₁ + M₂₁*M₆₂ + M₃₁*M₆₃ + M₄₁*M₆₄ + M₅₁*M₆₅ + M₆₁*M₆₆ + M₆₁₀*M₁₀₁ + M₇₁*M₆₇ + M₈₁*M₆₈ + M₉₁*M₆₉)*(M₁₁*M₁₆ + M₁₁₀*M₁₀₆ + M₁₆*M₆₆ + M₁₇*M₇₆ + M₂₆*M₁₂ + M₃₆*M₁₃ + M₄₆*M₁₄ + M₅₆*M₁₅ + M₈₆*M₁₈ + M₉₆*M₁₉) + (M₄₁*M₁₁ + M₄₁*M₄₄ + M₄₁₀*M₁₀₁ + M₄₂*M₂₁ + M₄₃*M₃₁ + M₄₅*M₅₁ + M₄₆*M₆₁ + M₄₇*M₇₁ + M₄₈*M₈₁ + M₉₁*M₄₉)*(M₁₁*M₁₄ + M₁₁₀*M₁₀₄ + M₁₆*M₆₄ + M₁₇*M₇₄ + M₂₄*M₁₂ + M₃₄*M₁₃ + M₄₄*M₁₄ + M₅₄*M₁₅ + M₈₄*M₁₈ + M₉₄*M₁₉) + (M₁₁₀*M₁₀₁ + M₁₆*M₆₁ + M₁₇*M₇₁ + M₂₁*M₁₂ + M₃₁*M₁₃ + M₄₁*M₁₄ + M₅₁*M₁₅ + M₈₁*M₁₈ + M₉₁*M₁₉ + M₁₁^2)^2) + ((M₁₀₃*M₂₁₀ + M₂₁*M₁₃ + M₂₂*M₂₃ + M₂₆*M₆₃ + M₂₇*M₇₃ + M₃₃*M₂₃ + M₄₃*M₂₄ + M₅₃*M₂₅ + M₈₃*M₂₈ + M₉₃*M₂₉)*(M₉₁*M₁₂ + M₉₁₀*M₁₀₂ + M₉₂*M₂₂ + M₉₃*M₃₂ + M₉₄*M₄₂ + M₉₅*M₅₂ + M₉₆*M₆₂ + M₉₇*M₇₂ + M₉₈*M₈₂ + M₉₉*M₉₂) + (M₁₀₃*M₃₁₀ + M₃₁*M₁₃ + M₃₂*M₂₃ + M₃₅*M₅₃ + M₃₆*M₆₃ + M₃₇*M₇₃ + M₃₈*M₈₃ + M₄₃*M₃₄ + M₉₃*M₃₉ + M₃₃^2)*(M₉₁*M₁₃ + M₉₁₀*M₁₀₃ + M₉₂*M₂₃ + M₉₃*M₃₃ + M₉₄*M₄₃ + M₉₅*M₅₃ + M₉₆*M₆₃ + M₉₇*M₇₃ + M₉₈*M₈₃ + M₉₉*M₉₃) + (M₁₀₃*M₅₁₀ + M₃₃*M₅₃ + M₄₃*M₅₄ + M₅₁*M₁₃ + M₅₂*M₂₃ + M₅₅*M₅₃ + M₅₆*M₆₃ + M₅₇*M₇₃ + M₈₃*M₅₈ + M₉₃*M₅₉)*(M₉₁*M₁₅ + M₉₁₀*M₁₀₅ + M₉₂*M₂₅ + M₉₃*M₃₅ + M₉₄*M₄₅ + M₉₅*M₅₅ + M₉₆*M₆₅ + M₉₇*M₇₅ + M₉₈*M₈₅ + M₉₉*M₉₅) + (M₁₀₃*M₈₁₀ + M₃₃*M₈₃ + M₄₃*M₈₄ + M₈₁*M₁₃ + M₈₂*M₂₃ + M₈₃*M₈₈ + M₈₅*M₅₃ + M₈₆*M₆₃ + M₈₇*M₇₃ + M₉₃*M₈₉)*(M₉₁*M₁₈ + M₉₁₀*M₁₀₈ + M₉₂*M₂₈ + M₉₃*M₃₈ + M₉₄*M₄₈ + M₉₅*M₅₈ + M₉₆*M₆₈ + M₉₇*M₇₈ + M₉₈*M₈₈ + M₉₈*M₉₉) + (M₁₁*M₁₃ + M₁₁₀*M₁₀₃ + M₁₆*M₆₃ + M₁₇*M₇₃ + M₂₃*M₁₂ + M₃₃*M₁₃ + M₄₃*M₁₄ + M₅₃*M₁₅ + M₈₃*M₁₈ + M₉₃*M₁₉)*(M₉₁*M₁₁ + M₉₁*M₉₉ + M₉₁₀*M₁₀₁ + M₉₂*M₂₁ + M₉₃*M₃₁ + M₉₄*M₄₁ + M₉₅*M₅₁ + M₉₆*M₆₁ + M₉₇*M₇₁ + M₉₈*M₈₁) + (M₁₀₁₀*M₉₁₀ + M₁₁₀*M₉₁ + M₂₁₀*M₉₂ + M₃₁₀*M₉₃ + M₄₁₀*M₉₄ + M₅₁₀*M₉₅ + M₆₁₀*M₉₆ + M₇₁₀*M₉₇ + M₈₁₀*M₉₈ + M₉₁₀*M₉₉)*(M₁₀₁*M₁₃ + M₁₀₁₀*M₁₀₃ + M₁₀₂*M₂₃ + M₁₀₃*M₃₃ + M₁₀₄*M₄₃ + M₁₀₅*M₅₃ + M₁₀₆*M₆₃ + M₁₀₇*M₇₃ + M₁₀₈*M₈₃ + M₁₀₉*M₉₃) + (M₁₃*M₆₁ + M₂₃*M₆₂ + M₃₃*M₆₃ + M₄₃*M₆₄ + M₅₃*M₆₅ + M₆₁₀*M₁₀₃ + M₆₃*M₆₆ + M₇₃*M₆₇ + M₈₃*M₆₈ + M₉₃*M₆₉)*(M₉₁*M₁₆ + M₉₁₀*M₁₀₆ + M₉₂*M₂₆ + M₉₃*M₃₆ + M₉₄*M₄₆ + M₉₅*M₅₆ + M₉₆*M₆₆ + M₉₆*M₉₉ + M₉₇*M₇₆ + M₉₈*M₈₆) + (M₉₁*M₁₇ + M₉₁₀*M₁₀₇ + M₉₂*M₂₇ + M₉₃*M₃₇ + M₉₄*M₄₇ + M₉₅*M₅₇ + M₉₆*M₆₇ + M₉₇*M₇₇ + M₉₇*M₉₉ + M₉₈*M₈₇)*(M₁₃*M₇₁ + M₂₃*M₇₂ + M₃₃*M₇₃ + M₄₃*M₇₄ + M₅₃*M₇₅ + M₇₁₀*M₁₀₃ + M₇₃*M₇₇ + M₇₆*M₆₃ + M₈₃*M₇₈ + M₉₃*M₇₉) + (M₉₁*M₁₉ + M₉₁₀*M₁₀₉ + M₉₂*M₂₉ + M₉₃*M₃₉ + M₉₄*M₄₉ + M₉₅*M₅₉ + M₉₆*M₆₉ + M₉₇*M₇₉ + M₉₈*M₈₉ + M₉₉^2)*(M₉₁*M₁₃ + M₉₁₀*M₁₀₃ + M₉₂*M₂₃ + M₉₃*M₃₃ + M₉₄*M₄₃ + M₉₅*M₅₃ + M₉₆*M₆₃ + M₉₇*M₇₃ + M₉₈*M₈₃ + M₉₉*M₉₃) + (M₄₁*M₁₃ + M₄₁₀*M₁₀₃ + M₄₂*M₂₃ + M₄₃*M₃₃ + M₄₄*M₄₃ + M₄₅*M₅₃ + M₄₆*M₆₃ + M₄₇*M₇₃ + M₄₈*M₈₃ + M₉₃*M₄₉)*(M₉₁*M₁₄ + M₉₁₀*M₁₀₄ + M₉₂*M₂₄ + M₉₃*M₃₄ + M₉₄*M₄₄ + M₉₅*M₅₄ + M₉₆*M₆₄ + M₉₇*M₇₄ + M₉₈*M₈₄ + M₉₉*M₉₄))*((M₁₀₁*M₂₁₀ + M₂₁*M₁₁ + M₂₂*M₂₁ + M₂₆*M₆₁ + M₂₇*M₇₁ + M₃₁*M₂₃ + M₄₁*M₂₄ + M₅₁*M₂₅ + M₈₁*M₂₈ + M₉₁*M₂₉)*(M₁₀₂*M₃₁₀ + M₃₁*M₁₂ + M₃₂*M₂₂ + M₃₂*M₃₃ + M₃₅*M₅₂ + M₃₆*M₆₂ + M₃₇*M₇₂ + M₃₈*M₈₂ + M₄₂*M₃₄ + M₉₂*M₃₉) + (M₁₀₁*M₃₁₀ + M₃₁*M₁₁ + M₃₁*M₃₃ + M₃₂*M₂₁ + M₃₅*M₅₁ + M₃₆*M₆₁ + M₃₇*M₇₁ + M₃₈*M₈₁ + M₄₁*M₃₄ + M₉₁*M₃₉)*(M₁₀₃*M₃₁₀ + M₃₁*M₁₃ + M₃₂*M₂₃ + M₃₅*M₅₃ + M₃₆*M₆₃ + M₃₇*M₇₃ + M₃₈*M₈₃ + M₄₃*M₃₄ + M₉₃*M₃₉ + M₃₃^2) + (M₁₀₁*M₃₁₀ + M₃₁*M₁₁ + M₃₁*M₃₃ + M₃₂*M₂₁ + M₃₅*M₅₁ + M₃₆*M₆₁ + M₃₇*M₇₁ + M₃₈*M₈₁ + M₄₁*M₃₄ + M₉₁*M₃₉)*(M₁₁₀*M₁₀₁ + M₁₆*M₆₁ + M₁₇*M₇₁ + M₂₁*M₁₂ + M₃₁*M₁₃ + M₄₁*M₁₄ + M₅₁*M₁₅ + M₈₁*M₁₈ + M₉₁*M₁₉ + M₁₁^2) + (M₁₀₁*M₅₁₀ + M₃₁*M₅₃ + M₄₁*M₅₄ + M₅₁*M₁₁ + M₅₂*M₂₁ + M₅₅*M₅₁ + M₅₆*M₆₁ + M₅₇*M₇₁ + M₈₁*M₅₈ + M₉₁*M₅₉)*(M₁₀₅*M₃₁₀ + M₃₁*M₁₅ + M₃₂*M₂₅ + M₃₅*M₃₃ + M₃₅*M₅₅ + M₃₆*M₆₅ + M₃₇*M₇₅ + M₃₈*M₈₅ + M₄₅*M₃₄ + M₉₅*M₃₉) + (M₁₀₁*M₈₁₀ + M₃₁*M₈₃ + M₄₁*M₈₄ + M₈₁*M₁₁ + M₈₁*M₈₈ + M₈₂*M₂₁ + M₈₅*M₅₁ + M₈₆*M₆₁ + M₈₇*M₇₁ + M₉₁*M₈₉)*(M₁₀₈*M₃₁₀ + M₃₁*M₁₈ + M₃₂*M₂₈ + M₃₃*M₃₈ + M₃₅*M₅₈ + M₃₆*M₆₈ + M₃₇*M₇₈ + M₃₈*M₈₈ + M₄₈*M₃₄ + M₉₈*M₃₉) + (M₁₀₇*M₃₁₀ + M₃₁*M₁₇ + M₃₂*M₂₇ + M₃₃*M₃₇ + M₃₅*M₅₇ + M₃₆*M₆₇ + M₃₇*M₇₇ + M₃₈*M₈₇ + M₄₇*M₃₄ + M₉₇*M₃₉)*(M₁₁*M₇₁ + M₂₁*M₇₂ + M₃₁*M₇₃ + M₄₁*M₇₄ + M₅₁*M₇₅ + M₇₁*M₇₇ + M₇₁₀*M₁₀₁ + M₇₆*M₆₁ + M₈₁*M₇₈ + M₉₁*M₇₉) + (M₁₀₉*M₃₁₀ + M₃₁*M₁₉ + M₃₂*M₂₉ + M₃₃*M₃₉ + M₃₅*M₅₉ + M₃₆*M₆₉ + M₃₇*M₇₉ + M₃₈*M₈₉ + M₄₉*M₃₄ + M₉₉*M₃₉)*(M₉₁*M₁₁ + M₉₁*M₉₉ + M₉₁₀*M₁₀₁ + M₉₂*M₂₁ + M₉₃*M₃₁ + M₉₄*M₄₁ + M₉₅*M₅₁ + M₉₆*M₆₁ + M₉₇*M₇₁ + M₉₈*M₈₁) + (M₁₀₁₀*M₃₁₀ + M₁₁₀*M₃₁ + M₂₁₀*M₃₂ + M₃₁₀*M₃₃ + M₄₁₀*M₃₄ + M₅₁₀*M₃₅ + M₆₁₀*M₃₆ + M₇₁₀*M₃₇ + M₈₁₀*M₃₈ + M₉₁₀*M₃₉)*(M₁₀₁*M₁₁ + M₁₀₁₀*M₁₀₁ + M₁₀₂*M₂₁ + M₁₀₃*M₃₁ + M₁₀₄*M₄₁ + M₁₀₅*M₅₁ + M₁₀₆*M₆₁ + M₁₀₇*M₇₁ + M₁₀₈*M₈₁ + M₁₀₉*M₉₁) + (M₁₁*M₆₁ + M₂₁*M₆₂ + M₃₁*M₆₃ + M₄₁*M₆₄ + M₅₁*M₆₅ + M₆₁*M₆₆ + M₆₁₀*M₁₀₁ + M₇₁*M₆₇ + M₈₁*M₆₈ + M₉₁*M₆₉)*(M₁₀₆*M₃₁₀ + M₃₁*M₁₆ + M₃₂*M₂₆ + M₃₅*M₅₆ + M₃₆*M₃₃ + M₃₆*M₆₆ + M₃₇*M₇₆ + M₃₈*M₈₆ + M₄₆*M₃₄ + M₉₆*M₃₉) + (M₄₁*M₁₁ + M₄₁*M₄₄ + M₄₁₀*M₁₀₁ + M₄₂*M₂₁ + M₄₃*M₃₁ + M₄₅*M₅₁ + M₄₆*M₆₁ + M₄₇*M₇₁ + M₄₈*M₈₁ + M₉₁*M₄₉)*(M₁₀₄*M₃₁₀ + M₃₁*M₁₄ + M₃₂*M₂₄ + M₃₃*M₃₄ + M₃₅*M₅₄ + M₃₆*M₆₄ + M₃₇*M₇₄ + M₃₈*M₈₄ + M₄₄*M₃₄ + M₉₄*M₃₉)) + ((M₁₀₁*M₂₁₀ + M₂₁*M₁₁ + M₂₂*M₂₁ + M₂₆*M₆₁ + M₂₇*M₇₁ + M₃₁*M₂₃ + M₄₁*M₂₄ + M₅₁*M₂₅ + M₈₁*M₂₈ + M₉₁*M₂₉)*(M₁₂*M₇₁ + M₂₂*M₇₂ + M₃₂*M₇₃ + M₄₂*M₇₄ + M₅₂*M₇₅ + M₇₁₀*M₁₀₂ + M₇₂*M₇₇ + M₇₆*M₆₂ + M₈₂*M₇₈ + M₉₂*M₇₉) + (M₁₀₁*M₃₁₀ + M₃₁*M₁₁ + M₃₁*M₃₃ + M₃₂*M₂₁ + M₃₅*M₅₁ + M₃₆*M₆₁ + M₃₇*M₇₁ + M₃₈*M₈₁ + M₄₁*M₃₄ + M₉₁*M₃₉)*(M₁₃*M₇₁ + M₂₃*M₇₂ + M₃₃*M₇₃ + M₄₃*M₇₄ + M₅₃*M₇₅ + M₇₁₀*M₁₀₃ + M₇₃*M₇₇ + M₇₆*M₆₃ + M₈₃*M₇₈ + M₉₃*M₇₉) + (M₁₀₁*M₅₁₀ + M₃₁*M₅₃ + M₄₁*M₅₄ + M₅₁*M₁₁ + M₅₂*M₂₁ + M₅₅*M₅₁ + M₅₆*M₆₁ + M₅₇*M₇₁ + M₈₁*M₅₈ + M₉₁*M₅₉)*(M₁₅*M₇₁ + M₂₅*M₇₂ + M₃₅*M₇₃ + M₄₅*M₇₄ + M₅₅*M₇₅ + M₇₁₀*M₁₀₅ + M₇₆*M₆₅ + M₇₇*M₇₅ + M₈₅*M₇₈ + M₉₅*M₇₉) + (M₁₀₁*M₈₁₀ + M₃₁*M₈₃ + M₄₁*M₈₄ + M₈₁*M₁₁ + M₈₁*M₈₈ + M₈₂*M₂₁ + M₈₅*M₅₁ + M₈₆*M₆₁ + M₈₇*M₇₁ + M₉₁*M₈₉)*(M₁₈*M₇₁ + M₂₈*M₇₂ + M₃₈*M₇₃ + M₄₈*M₇₄ + M₅₈*M₇₅ + M₇₁₀*M₁₀₈ + M₇₆*M₆₈ + M₇₈*M₇₇ + M₈₈*M₇₈ + M₉₈*M₇₉) + (M₁₀₁*M₁₁ + M₁₀₁₀*M₁₀₁ + M₁₀₂*M₂₁ + M₁₀₃*M₃₁ + M₁₀₄*M₄₁ + M₁₀₅*M₅₁ + M₁₀₆*M₆₁ + M₁₀₇*M₇₁ + M₁₀₈*M₈₁ + M₁₀₉*M₉₁)*(M₁₀₁₀*M₇₁₀ + M₁₁₀*M₇₁ + M₂₁₀*M₇₂ + M₃₁₀*M₇₃ + M₄₁₀*M₇₄ + M₅₁₀*M₇₅ + M₆₁₀*M₇₆ + M₇₁₀*M₇₇ + M₈₁₀*M₇₈ + M₉₁₀*M₇₉) + (M₁₁₀*M₁₀₁ + M₁₆*M₆₁ + M₁₇*M₇₁ + M₂₁*M₁₂ + M₃₁*M₁₃ + M₄₁*M₁₄ + M₅₁*M₁₅ + M₈₁*M₁₈ + M₉₁*M₁₉ + M₁₁^2)*(M₁₁*M₇₁ + M₂₁*M₇₂ + M₃₁*M₇₃ + M₄₁*M₇₄ + M₅₁*M₇₅ + M₇₁*M₇₇ + M₇₁₀*M₁₀₁ + M₇₆*M₆₁ + M₈₁*M₇₈ + M₉₁*M₇₉) + (M₁₁*M₆₁ + M₂₁*M₆₂ + M₃₁*M₆₃ + M₄₁*M₆₄ + M₅₁*M₆₅ + M₆₁*M₆₆ + M₆₁₀*M₁₀₁ + M₇₁*M₆₇ + M₈₁*M₆₈ + M₉₁*M₆₉)*(M₁₆*M₇₁ + M₂₆*M₇₂ + M₃₆*M₇₃ + M₄₆*M₇₄ + M₅₆*M₇₅ + M₇₁₀*M₁₀₆ + M₇₆*M₆₆ + M₇₇*M₇₆ + M₈₆*M₇₈ + M₉₆*M₇₉) + (M₄₁*M₁₁ + M₄₁*M₄₄ + M₄₁₀*M₁₀₁ + M₄₂*M₂₁ + M₄₃*M₃₁ + M₄₅*M₅₁ + M₄₆*M₆₁ + M₄₇*M₇₁ + M₄₈*M₈₁ + M₉₁*M₄₉)*(M₁₄*M₇₁ + M₂₄*M₇₂ + M₃₄*M₇₃ + M₄₄*M₇₄ + M₅₄*M₇₅ + M₇₁₀*M₁₀₄ + M₇₄*M₇₇ + M₇₆*M₆₄ + M₈₄*M₇₈ + M₉₄*M₇₉) + (M₉₁*M₁₁ + M₉₁*M₉₉ + M₉₁₀*M₁₀₁ + M₉₂*M₂₁ + M₉₃*M₃₁ + M₉₄*M₄₁ + M₉₅*M₅₁ + M₉₆*M₆₁ + M₉₇*M₇₁ + M₉₈*M₈₁)*(M₁₉*M₇₁ + M₂₉*M₇₂ + M₃₉*M₇₃ + M₄₉*M₇₄ + M₅₉*M₇₅ + M₇₁₀*M₁₀₉ + M₇₆*M₆₉ + M₇₇*M₇₉ + M₈₉*M₇₈ + M₉₉*M₇₉) + (M₁₇*M₇₁ + M₂₇*M₇₂ + M₃₇*M₇₃ + M₄₇*M₇₄ + M₅₇*M₇₅ + M₇₁₀*M₁₀₇ + M₇₆*M₆₇ + M₈₇*M₇₈ + M₉₇*M₇₉ + M₇₇^2)*(M₁₁*M₇₁ + M₂₁*M₇₂ + M₃₁*M₇₃ + M₄₁*M₇₄ + M₅₁*M₇₅ + M₇₁*M₇₇ + M₇₁₀*M₁₀₁ + M₇₆*M₆₁ + M₈₁*M₇₈ + M₉₁*M₇₉))*((M₁₀₇*M₂₁₀ + M₂₁*M₁₇ + M₂₂*M₂₇ + M₂₆*M₆₇ + M₂₇*M₇₇ + M₃₇*M₂₃ + M₄₇*M₂₄ + M₅₇*M₂₅ + M₈₇*M₂₈ + M₉₇*M₂₉)*(M₉₁*M₁₂ + M₉₁₀*M₁₀₂ + M₉₂*M₂₂ + M₉₃*M₃₂ + M₉₄*M₄₂ + M₉₅*M₅₂ + M₉₆*M₆₂ + M₉₇*M₇₂ + M₉₈*M₈₂ + M₉₉*M₉₂) + (M₁₀₇*M₃₁₀ + M₃₁*M₁₇ + M₃₂*M₂₇ + M₃₃*M₃₇ + M₃₅*M₅₇ + M₃₆*M₆₇ + M₃₇*M₇₇ + M₃₈*M₈₇ + M₄₇*M₃₄ + M₉₇*M₃₉)*(M₉₁*M₁₃ + M₉₁₀*M₁₀₃ + M₉₂*M₂₃ + M₉₃*M₃₃ + M₉₄*M₄₃ + M₉₅*M₅₃ + M₉₆*M₆₃ + M₉₇*M₇₃ + M₉₈*M₈₃ + M₉₉*M₉₃) + (M₁₀₇*M₅₁₀ + M₃₇*M₅₃ + M₄₇*M₅₄ + M₅₁*M₁₇ + M₅₂*M₂₇ + M₅₅*M₅₇ + M₅₆*M₆₇ + M₅₇*M₇₇ + M₈₇*M₅₈ + M₉₇*M₅₉)*(M₉₁*M₁₅ + M₉₁₀*M₁₀₅ + M₉₂*M₂₅ + M₉₃*M₃₅ + M₉₄*M₄₅ + M₉₅*M₅₅ + M₉₆*M₆₅ + M₉₇*M₇₅ + M₉₈*M₈₅ + M₉₉*M₉₅) + (M₁₀₇*M₈₁₀ + M₃₇*M₈₃ + M₄₇*M₈₄ + M₈₁*M₁₇ + M₈₂*M₂₇ + M₈₅*M₅₇ + M₈₆*M₆₇ + M₈₇*M₇₇ + M₈₇*M₈₈ + M₉₇*M₈₉)*(M₉₁*M₁₈ + M₉₁₀*M₁₀₈ + M₉₂*M₂₈ + M₉₃*M₃₈ + M₉₄*M₄₈ + M₉₅*M₅₈ + M₉₆*M₆₈ + M₉₇*M₇₈ + M₉₈*M₈₈ + M₉₈*M₉₉) + (M₁₁*M₁₇ + M₁₁₀*M₁₀₇ + M₁₆*M₆₇ + M₁₇*M₇₇ + M₂₇*M₁₂ + M₃₇*M₁₃ + M₄₇*M₁₄ + M₅₇*M₁₅ + M₈₇*M₁₈ + M₉₇*M₁₉)*(M₉₁*M₁₁ + M₉₁*M₉₉ + M₉₁₀*M₁₀₁ + M₉₂*M₂₁ + M₉₃*M₃₁ + M₉₄*M₄₁ + M₉₅*M₅₁ + M₉₆*M₆₁ + M₉₇*M₇₁ + M₉₈*M₈₁) + (M₁₀₁₀*M₉₁₀ + M₁₁₀*M₉₁ + M₂₁₀*M₉₂ + M₃₁₀*M₉₃ + M₄₁₀*M₉₄ + M₅₁₀*M₉₅ + M₆₁₀*M₉₆ + M₇₁₀*M₉₇ + M₈₁₀*M₉₈ + M₉₁₀*M₉₉)*(M₁₀₁*M₁₇ + M₁₀₁₀*M₁₀₇ + M₁₀₂*M₂₇ + M₁₀₃*M₃₇ + M₁₀₄*M₄₇ + M₁₀₅*M₅₇ + M₁₀₆*M₆₇ + M₁₀₇*M₇₇ + M₁₀₈*M₈₇ + M₁₀₉*M₉₇) + (M₁₇*M₆₁ + M₂₇*M₆₂ + M₃₇*M₆₃ + M₄₇*M₆₄ + M₅₇*M₆₅ + M₆₁₀*M₁₀₇ + M₆₆*M₆₇ + M₇₇*M₆₇ + M₈₇*M₆₈ + M₉₇*M₆₉)*(M₉₁*M₁₆ + M₉₁₀*M₁₀₆ + M₉₂*M₂₆ + M₉₃*M₃₆ + M₉₄*M₄₆ + M₉₅*M₅₆ + M₉₆*M₆₆ + M₉₆*M₉₉ + M₉₇*M₇₆ + M₉₈*M₈₆) + (M₉₁*M₁₉ + M₉₁₀*M₁₀₉ + M₉₂*M₂₉ + M₉₃*M₃₉ + M₉₄*M₄₉ + M₉₅*M₅₉ + M₉₆*M₆₉ + M₉₇*M₇₉ + M₉₈*M₈₉ + M₉₉^2)*(M₉₁*M₁₇ + M₉₁₀*M₁₀₇ + M₉₂*M₂₇ + M₉₃*M₃₇ + M₉₄*M₄₇ + M₉₅*M₅₇ + M₉₆*M₆₇ + M₉₇*M₇₇ + M₉₇*M₉₉ + M₉₈*M₈₇) + (M₄₁*M₁₇ + M₄₁₀*M₁₀₇ + M₄₂*M₂₇ + M₄₃*M₃₇ + M₄₄*M₄₇ + M₄₅*M₅₇ + M₄₆*M₆₇ + M₄₇*M₇₇ + M₄₈*M₈₇ + M₉₇*M₄₉)*(M₉₁*M₁₄ + M₉₁₀*M₁₀₄ + M₉₂*M₂₄ + M₉₃*M₃₄ + M₉₄*M₄₄ + M₉₅*M₅₄ + M₉₆*M₆₄ + M₉₇*M₇₄ + M₉₈*M₈₄ + M₉₉*M₉₄) + (M₁₇*M₇₁ + M₂₇*M₇₂ + M₃₇*M₇₃ + M₄₇*M₇₄ + M₅₇*M₇₅ + M₇₁₀*M₁₀₇ + M₇₆*M₆₇ + M₈₇*M₇₈ + M₉₇*M₇₉ + M₇₇^2)*(M₉₁*M₁₇ + M₉₁₀*M₁₀₇ + M₉₂*M₂₇ + M₉₃*M₃₇ + M₉₄*M₄₇ + M₉₅*M₅₇ + M₉₆*M₆₇ + M₉₇*M₇₇ + M₉₇*M₉₉ + M₉₈*M₈₇)) + ((M₁₀₈*M₂₁₀ + M₂₁*M₁₈ + M₂₂*M₂₈ + M₂₆*M₆₈ + M₂₇*M₇₈ + M₃₈*M₂₃ + M₄₈*M₂₄ + M₅₈*M₂₅ + M₈₈*M₂₈ + M₉₈*M₂₉)*(M₉₁*M₁₂ + M₉₁₀*M₁₀₂ + M₉₂*M₂₂ + M₉₃*M₃₂ + M₉₄*M₄₂ + M₉₅*M₅₂ + M₉₆*M₆₂ + M₉₇*M₇₂ + M₉₈*M₈₂ + M₉₉*M₉₂) + (M₁₀₈*M₃₁₀ + M₃₁*M₁₈ + M₃₂*M₂₈ + M₃₃*M₃₈ + M₃₅*M₅₈ + M₃₆*M₆₈ + M₃₇*M₇₈ + M₃₈*M₈₈ + M₄₈*M₃₄ + M₉₈*M₃₉)*(M₉₁*M₁₃ + M₉₁₀*M₁₀₃ + M₉₂*M₂₃ + M₉₃*M₃₃ + M₉₄*M₄₃ + M₉₅*M₅₃ + M₉₆*M₆₃ + M₉₇*M₇₃ + M₉₈*M₈₃ + M₉₉*M₉₃) + (M₁₀₈*M₅₁₀ + M₃₈*M₅₃ + M₄₈*M₅₄ + M₅₁*M₁₈ + M₅₂*M₂₈ + M₅₅*M₅₈ + M₅₆*M₆₈ + M₅₇*M₇₈ + M₈₈*M₅₈ + M₉₈*M₅₉)*(M₉₁*M₁₅ + M₉₁₀*M₁₀₅ + M₉₂*M₂₅ + M₉₃*M₃₅ + M₉₄*M₄₅ + M₉₅*M₅₅ + M₉₆*M₆₅ + M₉₇*M₇₅ + M₉₈*M₈₅ + M₉₉*M₉₅) + (M₁₀₈*M₈₁₀ + M₃₈*M₈₃ + M₄₈*M₈₄ + M₈₁*M₁₈ + M₈₂*M₂₈ + M₈₅*M₅₈ + M₈₆*M₆₈ + M₈₇*M₇₈ + M₉₈*M₈₉ + M₈₈^2)*(M₉₁*M₁₈ + M₉₁₀*M₁₀₈ + M₉₂*M₂₈ + M₉₃*M₃₈ + M₉₄*M₄₈ + M₉₅*M₅₈ + M₉₆*M₆₈ + M₉₇*M₇₈ + M₉₈*M₈₈ + M₉₈*M₉₉) + (M₁₁*M₁₈ + M₁₁₀*M₁₀₈ + M₁₆*M₆₈ + M₁₇*M₇₈ + M₂₈*M₁₂ + M₃₈*M₁₃ + M₄₈*M₁₄ + M₅₈*M₁₅ + M₈₈*M₁₈ + M₉₈*M₁₉)*(M₉₁*M₁₁ + M₉₁*M₉₉ + M₉₁₀*M₁₀₁ + M₉₂*M₂₁ + M₉₃*M₃₁ + M₉₄*M₄₁ + M₉₅*M₅₁ + M₉₆*M₆₁ + M₉₇*M₇₁ + M₉₈*M₈₁) + (M₁₀₁₀*M₉₁₀ + M₁₁₀*M₉₁ + M₂₁₀*M₉₂ + M₃₁₀*M₉₃ + M₄₁₀*M₉₄ + M₅₁₀*M₉₅ + M₆₁₀*M₉₆ + M₇₁₀*M₉₇ + M₈₁₀*M₉₈ + M₉₁₀*M₉₉)*(M₁₀₁*M₁₈ + M₁₀₁₀*M₁₀₈ + M₁₀₂*M₂₈ + M₁₀₃*M₃₈ + M₁₀₄*M₄₈ + M₁₀₅*M₅₈ + M₁₀₆*M₆₈ + M₁₀₇*M₇₈ + M₁₀₈*M₈₈ + M₁₀₉*M₉₈) + (M₁₈*M₆₁ + M₂₈*M₆₂ + M₃₈*M₆₃ + M₄₈*M₆₄ + M₅₈*M₆₅ + M₆₁₀*M₁₀₈ + M₆₆*M₆₈ + M₇₈*M₆₇ + M₈₈*M₆₈ + M₉₈*M₆₉)*(M₉₁*M₁₆ + M₉₁₀*M₁₀₆ + M₉₂*M₂₆ + M₉₃*M₃₆ + M₉₄*M₄₆ + M₉₅*M₅₆ + M₉₆*M₆₆ + M₉₆*M₉₉ + M₉₇*M₇₆ + M₉₈*M₈₆) + (M₉₁*M₁₇ + M₉₁₀*M₁₀₇ + M₉₂*M₂₇ + M₉₃*M₃₇ + M₉₄*M₄₇ + M₉₅*M₅₇ + M₉₆*M₆₇ + M₉₇*M₇₇ + M₉₇*M₉₉ + M₉₈*M₈₇)*(M₁₈*M₇₁ + M₂₈*M₇₂ + M₃₈*M₇₃ + M₄₈*M₇₄ + M₅₈*M₇₅ + M₇₁₀*M₁₀₈ + M₇₆*M₆₈ + M₇₈*M₇₇ + M₈₈*M₇₈ + M₉₈*M₇₉) + (M₉₁*M₁₉ + M₉₁₀*M₁₀₉ + M₉₂*M₂₉ + M₉₃*M₃₉ + M₉₄*M₄₉ + M₉₅*M₅₉ + M₉₆*M₆₉ + M₉₇*M₇₉ + M₉₈*M₈₉ + M₉₉^2)*(M₉₁*M₁₈ + M₉₁₀*M₁₀₈ + M₉₂*M₂₈ + M₉₃*M₃₈ + M₉₄*M₄₈ + M₉₅*M₅₈ + M₉₆*M₆₈ + M₉₇*M₇₈ + M₉₈*M₈₈ + M₉₈*M₉₉) + (M₄₁*M₁₈ + M₄₁₀*M₁₀₈ + M₄₂*M₂₈ + M₄₃*M₃₈ + M₄₄*M₄₈ + M₄₅*M₅₈ + M₄₆*M₆₈ + M₄₇*M₇₈ + M₄₈*M₈₈ + M₉₈*M₄₉)*(M₉₁*M₁₄ + M₉₁₀*M₁₀₄ + M₉₂*M₂₄ + M₉₃*M₃₄ + M₉₄*M₄₄ + M₉₅*M₅₄ + M₉₆*M₆₄ + M₉₇*M₇₄ + M₉₈*M₈₄ + M₉₉*M₉₄))*((M₁₀₁*M₂₁₀ + M₂₁*M₁₁ + M₂₂*M₂₁ + M₂₆*M₆₁ + M₂₇*M₇₁ + M₃₁*M₂₃ + M₄₁*M₂₄ + M₅₁*M₂₅ + M₈₁*M₂₈ + M₉₁*M₂₉)*(M₁₀₂*M₈₁₀ + M₃₂*M₈₃ + M₄₂*M₈₄ + M₈₁*M₁₂ + M₈₂*M₂₂ + M₈₂*M₈₈ + M₈₅*M₅₂ + M₈₆*M₆₂ + M₈₇*M₇₂ + M₉₂*M₈₉) + (M₁₀₁*M₅₁₀ + M₃₁*M₅₃ + M₄₁*M₅₄ + M₅₁*M₁₁ + M₅₂*M₂₁ + M₅₅*M₅₁ + M₅₆*M₆₁ + M₅₇*M₇₁ + M₈₁*M₅₈ + M₉₁*M₅₉)*(M₁₀₅*M₈₁₀ + M₃₅*M₈₃ + M₄₅*M₈₄ + M₈₁*M₁₅ + M₈₂*M₂₅ + M₈₅*M₅₅ + M₈₆*M₆₅ + M₈₇*M₇₅ + M₈₈*M₈₅ + M₉₅*M₈₉) + (M₁₀₁*M₈₁₀ + M₃₁*M₈₃ + M₄₁*M₈₄ + M₈₁*M₁₁ + M₈₁*M₈₈ + M₈₂*M₂₁ + M₈₅*M₅₁ + M₈₆*M₆₁ + M₈₇*M₇₁ + M₉₁*M₈₉)*(M₁₀₈*M₈₁₀ + M₃₈*M₈₃ + M₄₈*M₈₄ + M₈₁*M₁₈ + M₈₂*M₂₈ + M₈₅*M₅₈ + M₈₆*M₆₈ + M₈₇*M₇₈ + M₉₈*M₈₉ + M₈₈^2) + (M₁₀₁*M₈₁₀ + M₃₁*M₈₃ + M₄₁*M₈₄ + M₈₁*M₁₁ + M₈₁*M₈₈ + M₈₂*M₂₁ + M₈₅*M₅₁ + M₈₆*M₆₁ + M₈₇*M₇₁ + M₉₁*M₈₉)*(M₁₁₀*M₁₀₁ + M₁₆*M₆₁ + M₁₇*M₇₁ + M₂₁*M₁₂ + M₃₁*M₁₃ + M₄₁*M₁₄ + M₅₁*M₁₅ + M₈₁*M₁₈ + M₉₁*M₁₉ + M₁₁^2) + (M₁₀₃*M₈₁₀ + M₃₃*M₈₃ + M₄₃*M₈₄ + M₈₁*M₁₃ + M₈₂*M₂₃ + M₈₃*M₈₈ + M₈₅*M₅₃ + M₈₆*M₆₃ + M₈₇*M₇₃ + M₉₃*M₈₉)*(M₁₀₁*M₃₁₀ + M₃₁*M₁₁ + M₃₁*M₃₃ + M₃₂*M₂₁ + M₃₅*M₅₁ + M₃₆*M₆₁ + M₃₇*M₇₁ + M₃₈*M₈₁ + M₄₁*M₃₄ + M₉₁*M₃₉) + (M₁₀₇*M₈₁₀ + M₃₇*M₈₃ + M₄₇*M₈₄ + M₈₁*M₁₇ + M₈₂*M₂₇ + M₈₅*M₅₇ + M₈₆*M₆₇ + M₈₇*M₇₇ + M₈₇*M₈₈ + M₉₇*M₈₉)*(M₁₁*M₇₁ + M₂₁*M₇₂ + M₃₁*M₇₃ + M₄₁*M₇₄ + M₅₁*M₇₅ + M₇₁*M₇₇ + M₇₁₀*M₁₀₁ + M₇₆*M₆₁ + M₈₁*M₇₈ + M₉₁*M₇₉) + (M₁₀₉*M₈₁₀ + M₃₉*M₈₃ + M₄₉*M₈₄ + M₈₁*M₁₉ + M₈₂*M₂₉ + M₈₅*M₅₉ + M₈₆*M₆₉ + M₈₇*M₇₉ + M₈₉*M₈₈ + M₉₉*M₈₉)*(M₉₁*M₁₁ + M₉₁*M₉₉ + M₉₁₀*M₁₀₁ + M₉₂*M₂₁ + M₉₃*M₃₁ + M₉₄*M₄₁ + M₉₅*M₅₁ + M₉₆*M₆₁ + M₉₇*M₇₁ + M₉₈*M₈₁) + (M₁₀₁₀*M₈₁₀ + M₁₁₀*M₈₁ + M₂₁₀*M₈₂ + M₃₁₀*M₈₃ + M₄₁₀*M₈₄ + M₅₁₀*M₈₅ + M₆₁₀*M₈₆ + M₇₁₀*M₈₇ + M₈₁₀*M₈₈ + M₉₁₀*M₈₉)*(M₁₀₁*M₁₁ + M₁₀₁₀*M₁₀₁ + M₁₀₂*M₂₁ + M₁₀₃*M₃₁ + M₁₀₄*M₄₁ + M₁₀₅*M₅₁ + M₁₀₆*M₆₁ + M₁₀₇*M₇₁ + M₁₀₈*M₈₁ + M₁₀₉*M₉₁) + (M₁₁*M₆₁ + M₂₁*M₆₂ + M₃₁*M₆₃ + M₄₁*M₆₄ + M₅₁*M₆₅ + M₆₁*M₆₆ + M₆₁₀*M₁₀₁ + M₇₁*M₆₇ + M₈₁*M₆₈ + M₉₁*M₆₉)*(M₁₀₆*M₈₁₀ + M₃₆*M₈₃ + M₄₆*M₈₄ + M₈₁*M₁₆ + M₈₂*M₂₆ + M₈₅*M₅₆ + M₈₆*M₆₆ + M₈₇*M₇₆ + M₈₈*M₈₆ + M₉₆*M₈₉) + (M₄₁*M₁₁ + M₄₁*M₄₄ + M₄₁₀*M₁₀₁ + M₄₂*M₂₁ + M₄₃*M₃₁ + M₄₅*M₅₁ + M₄₆*M₆₁ + M₄₇*M₇₁ + M₄₈*M₈₁ + M₉₁*M₄₉)*(M₁₀₄*M₈₁₀ + M₃₄*M₈₃ + M₄₄*M₈₄ + M₈₁*M₁₄ + M₈₂*M₂₄ + M₈₄*M₈₈ + M₈₅*M₅₄ + M₈₆*M₆₄ + M₈₇*M₇₄ + M₉₄*M₈₉)) + ((M₁₀₁*M₂₁₀ + M₂₁*M₁₁ + M₂₂*M₂₁ + M₂₆*M₆₁ + M₂₇*M₇₁ + M₃₁*M₂₃ + M₄₁*M₂₄ + M₅₁*M₂₅ + M₈₁*M₂₈ + M₉₁*M₂₉)*(M₁₀₂*M₂₁₀ + M₂₁*M₁₂ + M₂₆*M₆₂ + M₂₇*M₇₂ + M₃₂*M₂₃ + M₄₂*M₂₄ + M₅₂*M₂₅ + M₈₂*M₂₈ + M₉₂*M₂₉ + M₂₂^2) + (M₁₀₁*M₂₁₀ + M₂₁*M₁₁ + M₂₂*M₂₁ + M₂₆*M₆₁ + M₂₇*M₇₁ + M₃₁*M₂₃ + M₄₁*M₂₄ + M₅₁*M₂₅ + M₈₁*M₂₈ + M₉₁*M₂₉)*(M₁₁₀*M₁₀₁ + M₁₆*M₆₁ + M₁₇*M₇₁ + M₂₁*M₁₂ + M₃₁*M₁₃ + M₄₁*M₁₄ + M₅₁*M₁₅ + M₈₁*M₁₈ + M₉₁*M₁₉ + M₁₁^2) + (M₁₀₃*M₂₁₀ + M₂₁*M₁₃ + M₂₂*M₂₃ + M₂₆*M₆₃ + M₂₇*M₇₃ + M₃₃*M₂₃ + M₄₃*M₂₄ + M₅₃*M₂₅ + M₈₃*M₂₈ + M₉₃*M₂₉)*(M₁₀₁*M₃₁₀ + M₃₁*M₁₁ + M₃₁*M₃₃ + M₃₂*M₂₁ + M₃₅*M₅₁ + M₃₆*M₆₁ + M₃₇*M₇₁ + M₃₈*M₈₁ + M₄₁*M₃₄ + M₉₁*M₃₉) + (M₁₀₅*M₂₁₀ + M₂₁*M₁₅ + M₂₂*M₂₅ + M₂₆*M₆₅ + M₂₇*M₇₅ + M₃₅*M₂₃ + M₄₅*M₂₄ + M₅₅*M₂₅ + M₈₅*M₂₈ + M₉₅*M₂₉)*(M₁₀₁*M₅₁₀ + M₃₁*M₅₃ + M₄₁*M₅₄ + M₅₁*M₁₁ + M₅₂*M₂₁ + M₅₅*M₅₁ + M₅₆*M₆₁ + M₅₇*M₇₁ + M₈₁*M₅₈ + M₉₁*M₅₉) + (M₁₀₇*M₂₁₀ + M₂₁*M₁₇ + M₂₂*M₂₇ + M₂₆*M₆₇ + M₂₇*M₇₇ + M₃₇*M₂₃ + M₄₇*M₂₄ + M₅₇*M₂₅ + M₈₇*M₂₈ + M₉₇*M₂₉)*(M₁₁*M₇₁ + M₂₁*M₇₂ + M₃₁*M₇₃ + M₄₁*M₇₄ + M₅₁*M₇₅ + M₇₁*M₇₇ + M₇₁₀*M₁₀₁ + M₇₆*M₆₁ + M₈₁*M₇₈ + M₉₁*M₇₉) + (M₁₀₈*M₂₁₀ + M₂₁*M₁₈ + M₂₂*M₂₈ + M₂₆*M₆₈ + M₂₇*M₇₈ + M₃₈*M₂₃ + M₄₈*M₂₄ + M₅₈*M₂₅ + M₈₈*M₂₈ + M₉₈*M₂₉)*(M₁₀₁*M₈₁₀ + M₃₁*M₈₃ + M₄₁*M₈₄ + M₈₁*M₁₁ + M₈₁*M₈₈ + M₈₂*M₂₁ + M₈₅*M₅₁ + M₈₆*M₆₁ + M₈₇*M₇₁ + M₉₁*M₈₉) + (M₁₀₉*M₂₁₀ + M₂₁*M₁₉ + M₂₂*M₂₉ + M₂₆*M₆₉ + M₂₇*M₇₉ + M₃₉*M₂₃ + M₄₉*M₂₄ + M₅₉*M₂₅ + M₈₉*M₂₈ + M₉₉*M₂₉)*(M₉₁*M₁₁ + M₉₁*M₉₉ + M₉₁₀*M₁₀₁ + M₉₂*M₂₁ + M₉₃*M₃₁ + M₉₄*M₄₁ + M₉₅*M₅₁ + M₉₆*M₆₁ + M₉₇*M₇₁ + M₉₈*M₈₁) + (M₁₀₁₀*M₂₁₀ + M₁₁₀*M₂₁ + M₂₁₀*M₂₂ + M₃₁₀*M₂₃ + M₄₁₀*M₂₄ + M₅₁₀*M₂₅ + M₆₁₀*M₂₆ + M₇₁₀*M₂₇ + M₈₁₀*M₂₈ + M₉₁₀*M₂₉)*(M₁₀₁*M₁₁ + M₁₀₁₀*M₁₀₁ + M₁₀₂*M₂₁ + M₁₀₃*M₃₁ + M₁₀₄*M₄₁ + M₁₀₅*M₅₁ + M₁₀₆*M₆₁ + M₁₀₇*M₇₁ + M₁₀₈*M₈₁ + M₁₀₉*M₉₁) + (M₁₁*M₆₁ + M₂₁*M₆₂ + M₃₁*M₆₃ + M₄₁*M₆₄ + M₅₁*M₆₅ + M₆₁*M₆₆ + M₆₁₀*M₁₀₁ + M₇₁*M₆₇ + M₈₁*M₆₈ + M₉₁*M₆₉)*(M₁₀₆*M₂₁₀ + M₂₁*M₁₆ + M₂₂*M₂₆ + M₂₆*M₆₆ + M₂₇*M₇₆ + M₃₆*M₂₃ + M₄₆*M₂₄ + M₅₆*M₂₅ + M₈₆*M₂₈ + M₉₆*M₂₉) + (M₄₁*M₁₁ + M₄₁*M₄₄ + M₄₁₀*M₁₀₁ + M₄₂*M₂₁ + M₄₃*M₃₁ + M₄₅*M₅₁ + M₄₆*M₆₁ + M₄₇*M₇₁ + M₄₈*M₈₁ + M₉₁*M₄₉)*(M₁₀₄*M₂₁₀ + M₂₁*M₁₄ + M₂₂*M₂₄ + M₂₆*M₆₄ + M₂₇*M₇₄ + M₃₄*M₂₃ + M₄₄*M₂₄ + M₅₄*M₂₅ + M₈₄*M₂₈ + M₉₄*M₂₉))*((M₁₀₂*M₂₁₀ + M₂₁*M₁₂ + M₂₆*M₆₂ + M₂₇*M₇₂ + M₃₂*M₂₃ + M₄₂*M₂₄ + M₅₂*M₂₅ + M₈₂*M₂₈ + M₉₂*M₂₉ + M₂₂^2)*(M₉₁*M₁₂ + M₉₁₀*M₁₀₂ + M₉₂*M₂₂ + M₉₃*M₃₂ + M₉₄*M₄₂ + M₉₅*M₅₂ + M₉₆*M₆₂ + M₉₇*M₇₂ + M₉₈*M₈₂ + M₉₉*M₉₂) + (M₁₀₂*M₃₁₀ + M₃₁*M₁₂ + M₃₂*M₂₂ + M₃₂*M₃₃ + M₃₅*M₅₂ + M₃₆*M₆₂ + M₃₇*M₇₂ + M₃₈*M₈₂ + M₄₂*M₃₄ + M₉₂*M₃₉)*(M₉₁*M₁₃ + M₉₁₀*M₁₀₃ + M₉₂*M₂₃ + M₉₃*M₃₃ + M₉₄*M₄₃ + M₉₅*M₅₃ + M₉₆*M₆₃ + M₉₇*M₇₃ + M₉₈*M₈₃ + M₉₉*M₉₃) + (M₁₀₂*M₅₁₀ + M₃₂*M₅₃ + M₄₂*M₅₄ + M₅₁*M₁₂ + M₅₂*M₂₂ + M₅₅*M₅₂ + M₅₆*M₆₂ + M₅₇*M₇₂ + M₈₂*M₅₈ + M₉₂*M₅₉)*(M₉₁*M₁₅ + M₉₁₀*M₁₀₅ + M₉₂*M₂₅ + M₉₃*M₃₅ + M₉₄*M₄₅ + M₉₅*M₅₅ + M₉₆*M₆₅ + M₉₇*M₇₅ + M₉₈*M₈₅ + M₉₉*M₉₅) + (M₁₀₂*M₈₁₀ + M₃₂*M₈₃ + M₄₂*M₈₄ + M₈₁*M₁₂ + M₈₂*M₂₂ + M₈₂*M₈₈ + M₈₅*M₅₂ + M₈₆*M₆₂ + M₈₇*M₇₂ + M₉₂*M₈₉)*(M₉₁*M₁₈ + M₉₁₀*M₁₀₈ + M₉₂*M₂₈ + M₉₃*M₃₈ + M₉₄*M₄₈ + M₉₅*M₅₈ + M₉₆*M₆₈ + M₉₇*M₇₈ + M₉₈*M₈₈ + M₉₈*M₉₉) + (M₁₁*M₁₂ + M₁₁₀*M₁₀₂ + M₁₆*M₆₂ + M₁₇*M₇₂ + M₂₂*M₁₂ + M₃₂*M₁₃ + M₄₂*M₁₄ + M₅₂*M₁₅ + M₈₂*M₁₈ + M₉₂*M₁₉)*(M₉₁*M₁₁ + M₉₁*M₉₉ + M₉₁₀*M₁₀₁ + M₉₂*M₂₁ + M₉₃*M₃₁ + M₉₄*M₄₁ + M₉₅*M₅₁ + M₉₆*M₆₁ + M₉₇*M₇₁ + M₉₈*M₈₁) + (M₁₀₁₀*M₉₁₀ + M₁₁₀*M₉₁ + M₂₁₀*M₉₂ + M₃₁₀*M₉₃ + M₄₁₀*M₉₄ + M₅₁₀*M₉₅ + M₆₁₀*M₉₆ + M₇₁₀*M₉₇ + M₈₁₀*M₉₈ + M₉₁₀*M₉₉)*(M₁₀₁*M₁₂ + M₁₀₁₀*M₁₀₂ + M₁₀₂*M₂₂ + M₁₀₃*M₃₂ + M₁₀₄*M₄₂ + M₁₀₅*M₅₂ + M₁₀₆*M₆₂ + M₁₀₇*M₇₂ + M₁₀₈*M₈₂ + M₁₀₉*M₉₂) + (M₁₂*M₆₁ + M₂₂*M₆₂ + M₃₂*M₆₃ + M₄₂*M₆₄ + M₅₂*M₆₅ + M₆₁₀*M₁₀₂ + M₆₂*M₆₆ + M₇₂*M₆₇ + M₈₂*M₆₈ + M₉₂*M₆₉)*(M₉₁*M₁₆ + M₉₁₀*M₁₀₆ + M₉₂*M₂₆ + M₉₃*M₃₆ + M₉₄*M₄₆ + M₉₅*M₅₆ + M₉₆*M₆₆ + M₉₆*M₉₉ + M₉₇*M₇₆ + M₉₈*M₈₆) + (M₉₁*M₁₇ + M₉₁₀*M₁₀₇ + M₉₂*M₂₇ + M₉₃*M₃₇ + M₉₄*M₄₇ + M₉₅*M₅₇ + M₉₆*M₆₇ + M₉₇*M₇₇ + M₉₇*M₉₉ + M₉₈*M₈₇)*(M₁₂*M₇₁ + M₂₂*M₇₂ + M₃₂*M₇₃ + M₄₂*M₇₄ + M₅₂*M₇₅ + M₇₁₀*M₁₀₂ + M₇₂*M₇₇ + M₇₆*M₆₂ + M₈₂*M₇₈ + M₉₂*M₇₉) + (M₉₁*M₁₉ + M₉₁₀*M₁₀₉ + M₉₂*M₂₉ + M₉₃*M₃₉ + M₉₄*M₄₉ + M₉₅*M₅₉ + M₉₆*M₆₉ + M₉₇*M₇₉ + M₉₈*M₈₉ + M₉₉^2)*(M₉₁*M₁₂ + M₉₁₀*M₁₀₂ + M₉₂*M₂₂ + M₉₃*M₃₂ + M₉₄*M₄₂ + M₉₅*M₅₂ + M₉₆*M₆₂ + M₉₇*M₇₂ + M₉₈*M₈₂ + M₉₉*M₉₂) + (M₄₁*M₁₂ + M₄₁₀*M₁₀₂ + M₄₂*M₂₂ + M₄₂*M₄₄ + M₄₃*M₃₂ + M₄₅*M₅₂ + M₄₆*M₆₂ + M₄₇*M₇₂ + M₄₈*M₈₂ + M₉₂*M₄₉)*(M₉₁*M₁₄ + M₉₁₀*M₁₀₄ + M₉₂*M₂₄ + M₉₃*M₃₄ + M₉₄*M₄₄ + M₉₅*M₅₄ + M₉₆*M₆₄ + M₉₇*M₇₄ + M₉₈*M₈₄ + M₉₉*M₉₄)) + ((M₁₀₉*M₂₁₀ + M₂₁*M₁₉ + M₂₂*M₂₉ + M₂₆*M₆₉ + M₂₇*M₇₉ + M₃₉*M₂₃ + M₄₉*M₂₄ + M₅₉*M₂₅ + M₈₉*M₂₈ + M₉₉*M₂₉)*(M₉₁*M₁₂ + M₉₁₀*M₁₀₂ + M₉₂*M₂₂ + M₉₃*M₃₂ + M₉₄*M₄₂ + M₉₅*M₅₂ + M₉₆*M₆₂ + M₉₇*M₇₂ + M₉₈*M₈₂ + M₉₉*M₉₂) + (M₁₀₉*M₃₁₀ + M₃₁*M₁₉ + M₃₂*M₂₉ + M₃₃*M₃₉ + M₃₅*M₅₉ + M₃₆*M₆₉ + M₃₇*M₇₉ + M₃₈*M₈₉ + M₄₉*M₃₄ + M₉₉*M₃₉)*(M₉₁*M₁₃ + M₉₁₀*M₁₀₃ + M₉₂*M₂₃ + M₉₃*M₃₃ + M₉₄*M₄₃ + M₉₅*M₅₃ + M₉₆*M₆₃ + M₉₇*M₇₃ + M₉₈*M₈₃ + M₉₉*M₉₃) + (M₁₀₉*M₅₁₀ + M₃₉*M₅₃ + M₄₉*M₅₄ + M₅₁*M₁₉ + M₅₂*M₂₉ + M₅₅*M₅₉ + M₅₆*M₆₉ + M₅₇*M₇₉ + M₈₉*M₅₈ + M₉₉*M₅₉)*(M₉₁*M₁₅ + M₉₁₀*M₁₀₅ + M₉₂*M₂₅ + M₉₃*M₃₅ + M₉₄*M₄₅ + M₉₅*M₅₅ + M₉₆*M₆₅ + M₉₇*M₇₅ + M₉₈*M₈₅ + M₉₉*M₉₅) + (M₁₀₉*M₈₁₀ + M₃₉*M₈₃ + M₄₉*M₈₄ + M₈₁*M₁₉ + M₈₂*M₂₉ + M₈₅*M₅₉ + M₈₆*M₆₉ + M₈₇*M₇₉ + M₈₉*M₈₈ + M₉₉*M₈₉)*(M₉₁*M₁₈ + M₉₁₀*M₁₀₈ + M₉₂*M₂₈ + M₉₃*M₃₈ + M₉₄*M₄₈ + M₉₅*M₅₈ + M₉₆*M₆₈ + M₉₇*M₇₈ + M₉₈*M₈₈ + M₉₈*M₉₉) + (M₁₁*M₁₉ + M₁₁₀*M₁₀₉ + M₁₆*M₆₉ + M₁₇*M₇₉ + M₂₉*M₁₂ + M₃₉*M₁₃ + M₄₉*M₁₄ + M₅₉*M₁₅ + M₈₉*M₁₈ + M₉₉*M₁₉)*(M₉₁*M₁₁ + M₉₁*M₉₉ + M₉₁₀*M₁₀₁ + M₉₂*M₂₁ + M₉₃*M₃₁ + M₉₄*M₄₁ + M₉₅*M₅₁ + M₉₆*M₆₁ + M₉₇*M₇₁ + M₉₈*M₈₁) + (M₁₀₁₀*M₉₁₀ + M₁₁₀*M₉₁ + M₂₁₀*M₉₂ + M₃₁₀*M₉₃ + M₄₁₀*M₉₄ + M₅₁₀*M₉₅ + M₆₁₀*M₉₆ + M₇₁₀*M₉₇ + M₈₁₀*M₉₈ + M₉₁₀*M₉₉)*(M₁₀₁*M₁₉ + M₁₀₁₀*M₁₀₉ + M₁₀₂*M₂₉ + M₁₀₃*M₃₉ + M₁₀₄*M₄₉ + M₁₀₅*M₅₉ + M₁₀₆*M₆₉ + M₁₀₇*M₇₉ + M₁₀₈*M₈₉ + M₁₀₉*M₉₉) + (M₁₉*M₆₁ + M₂₉*M₆₂ + M₃₉*M₆₃ + M₄₉*M₆₄ + M₅₉*M₆₅ + M₆₁₀*M₁₀₉ + M₆₉*M₆₆ + M₇₉*M₆₇ + M₈₉*M₆₈ + M₉₉*M₆₉)*(M₉₁*M₁₆ + M₉₁₀*M₁₀₆ + M₉₂*M₂₆ + M₉₃*M₃₆ + M₉₄*M₄₆ + M₉₅*M₅₆ + M₉₆*M₆₆ + M₉₆*M₉₉ + M₉₇*M₇₆ + M₉₈*M₈₆) + (M₉₁*M₁₇ + M₉₁₀*M₁₀₇ + M₉₂*M₂₇ + M₉₃*M₃₇ + M₉₄*M₄₇ + M₉₅*M₅₇ + M₉₆*M₆₇ + M₉₇*M₇₇ + M₉₇*M₉₉ + M₉₈*M₈₇)*(M₁₉*M₇₁ + M₂₉*M₇₂ + M₃₉*M₇₃ + M₄₉*M₇₄ + M₅₉*M₇₅ + M₇₁₀*M₁₀₉ + M₇₆*M₆₉ + M₇₇*M₇₉ + M₈₉*M₇₈ + M₉₉*M₇₉) + (M₄₁*M₁₉ + M₄₁₀*M₁₀₉ + M₄₂*M₂₉ + M₄₃*M₃₉ + M₄₄*M₄₉ + M₄₅*M₅₉ + M₄₆*M₆₉ + M₄₇*M₇₉ + M₄₈*M₈₉ + M₉₉*M₄₉)*(M₉₁*M₁₄ + M₉₁₀*M₁₀₄ + M₉₂*M₂₄ + M₉₃*M₃₄ + M₉₄*M₄₄ + M₉₅*M₅₄ + M₉₆*M₆₄ + M₉₇*M₇₄ + M₉₈*M₈₄ + M₉₉*M₉₄) + (M₉₁*M₁₉ + M₉₁₀*M₁₀₉ + M₉₂*M₂₉ + M₉₃*M₃₉ + M₉₄*M₄₉ + M₉₅*M₅₉ + M₉₆*M₆₉ + M₉₇*M₇₉ + M₉₈*M₈₉ + M₉₉^2)^2)*((M₁₀₁*M₂₁₀ + M₂₁*M₁₁ + M₂₂*M₂₁ + M₂₆*M₆₁ + M₂₇*M₇₁ + M₃₁*M₂₃ + M₄₁*M₂₄ + M₅₁*M₂₅ + M₈₁*M₂₈ + M₉₁*M₂₉)*(M₉₁*M₁₂ + M₉₁₀*M₁₀₂ + M₉₂*M₂₂ + M₉₃*M₃₂ + M₉₄*M₄₂ + M₉₅*M₅₂ + M₉₆*M₆₂ + M₉₇*M₇₂ + M₉₈*M₈₂ + M₉₉*M₉₂) + (M₁₀₁*M₃₁₀ + M₃₁*M₁₁ + M₃₁*M₃₃ + M₃₂*M₂₁ + M₃₅*M₅₁ + M₃₆*M₆₁ + M₃₇*M₇₁ + M₃₈*M₈₁ + M₄₁*M₃₄ + M₉₁*M₃₉)*(M₉₁*M₁₃ + M₉₁₀*M₁₀₃ + M₉₂*M₂₃ + M₉₃*M₃₃ + M₉₄*M₄₃ + M₉₅*M₅₃ + M₉₆*M₆₃ + M₉₇*M₇₃ + M₉₈*M₈₃ + M₉₉*M₉₃) + (M₁₀₁*M₅₁₀ + M₃₁*M₅₃ + M₄₁*M₅₄ + M₅₁*M₁₁ + M₅₂*M₂₁ + M₅₅*M₅₁ + M₅₆*M₆₁ + M₅₇*M₇₁ + M₈₁*M₅₈ + M₉₁*M₅₉)*(M₉₁*M₁₅ + M₉₁₀*M₁₀₅ + M₉₂*M₂₅ + M₉₃*M₃₅ + M₉₄*M₄₅ + M₉₅*M₅₅ + M₉₆*M₆₅ + M₉₇*M₇₅ + M₉₈*M₈₅ + M₉₉*M₉₅) + (M₁₀₁*M₈₁₀ + M₃₁*M₈₃ + M₄₁*M₈₄ + M₈₁*M₁₁ + M₈₁*M₈₈ + M₈₂*M₂₁ + M₈₅*M₅₁ + M₈₆*M₆₁ + M₈₇*M₇₁ + M₉₁*M₈₉)*(M₉₁*M₁₈ + M₉₁₀*M₁₀₈ + M₉₂*M₂₈ + M₉₃*M₃₈ + M₉₄*M₄₈ + M₉₅*M₅₈ + M₉₆*M₆₈ + M₉₇*M₇₈ + M₉₈*M₈₈ + M₉₈*M₉₉) + (M₁₁₀*M₁₀₁ + M₁₆*M₆₁ + M₁₇*M₇₁ + M₂₁*M₁₂ + M₃₁*M₁₃ + M₄₁*M₁₄ + M₅₁*M₁₅ + M₈₁*M₁₈ + M₉₁*M₁₉ + M₁₁^2)*(M₉₁*M₁₁ + M₉₁*M₉₉ + M₉₁₀*M₁₀₁ + M₉₂*M₂₁ + M₉₃*M₃₁ + M₉₄*M₄₁ + M₉₅*M₅₁ + M₉₆*M₆₁ + M₉₇*M₇₁ + M₉₈*M₈₁) + (M₁₀₁₀*M₉₁₀ + M₁₁₀*M₉₁ + M₂₁₀*M₉₂ + M₃₁₀*M₉₃ + M₄₁₀*M₉₄ + M₅₁₀*M₉₅ + M₆₁₀*M₉₆ + M₇₁₀*M₉₇ + M₈₁₀*M₉₈ + M₉₁₀*M₉₉)*(M₁₀₁*M₁₁ + M₁₀₁₀*M₁₀₁ + M₁₀₂*M₂₁ + M₁₀₃*M₃₁ + M₁₀₄*M₄₁ + M₁₀₅*M₅₁ + M₁₀₆*M₆₁ + M₁₀₇*M₇₁ + M₁₀₈*M₈₁ + M₁₀₉*M₉₁) + (M₁₁*M₆₁ + M₂₁*M₆₂ + M₃₁*M₆₃ + M₄₁*M₆₄ + M₅₁*M₆₅ + M₆₁*M₆₆ + M₆₁₀*M₁₀₁ + M₇₁*M₆₇ + M₈₁*M₆₈ + M₉₁*M₆₉)*(M₉₁*M₁₆ + M₉₁₀*M₁₀₆ + M₉₂*M₂₆ + M₉₃*M₃₆ + M₉₄*M₄₆ + M₉₅*M₅₆ + M₉₆*M₆₆ + M₉₆*M₉₉ + M₉₇*M₇₆ + M₉₈*M₈₆) + (M₄₁*M₁₁ + M₄₁*M₄₄ + M₄₁₀*M₁₀₁ + M₄₂*M₂₁ + M₄₃*M₃₁ + M₄₅*M₅₁ + M₄₆*M₆₁ + M₄₇*M₇₁ + M₄₈*M₈₁ + M₉₁*M₄₉)*(M₉₁*M₁₄ + M₉₁₀*M₁₀₄ + M₉₂*M₂₄ + M₉₃*M₃₄ + M₉₄*M₄₄ + M₉₅*M₅₄ + M₉₆*M₆₄ + M₉₇*M₇₄ + M₉₈*M₈₄ + M₉₉*M₉₄) + (M₉₁*M₁₇ + M₉₁₀*M₁₀₇ + M₉₂*M₂₇ + M₉₃*M₃₇ + M₉₄*M₄₇ + M₉₅*M₅₇ + M₉₆*M₆₇ + M₉₇*M₇₇ + M₉₇*M₉₉ + M₉₈*M₈₇)*(M₁₁*M₇₁ + M₂₁*M₇₂ + M₃₁*M₇₃ + M₄₁*M₇₄ + M₅₁*M₇₅ + M₇₁*M₇₇ + M₇₁₀*M₁₀₁ + M₇₆*M₆₁ + M₈₁*M₇₈ + M₉₁*M₇₉) + (M₉₁*M₁₉ + M₉₁₀*M₁₀₉ + M₉₂*M₂₉ + M₉₃*M₃₉ + M₉₄*M₄₉ + M₉₅*M₅₉ + M₉₆*M₆₉ + M₉₇*M₇₉ + M₉₈*M₈₉ + M₉₉^2)*(M₉₁*M₁₁ + M₉₁*M₉₉ + M₉₁₀*M₁₀₁ + M₉₂*M₂₁ + M₉₃*M₃₁ + M₉₄*M₄₁ + M₉₅*M₅₁ + M₉₆*M₆₁ + M₉₇*M₇₁ + M₉₈*M₈₁)) + ((M₁₀₁*M₂₁₀ + M₂₁*M₁₁ + M₂₂*M₂₁ + M₂₆*M₆₁ + M₂₇*M₇₁ + M₃₁*M₂₃ + M₄₁*M₂₄ + M₅₁*M₂₅ + M₈₁*M₂₈ + M₉₁*M₂₉)*(M₁₀₂*M₅₁₀ + M₃₂*M₅₃ + M₄₂*M₅₄ + M₅₁*M₁₂ + M₅₂*M₂₂ + M₅₅*M₅₂ + M₅₆*M₆₂ + M₅₇*M₇₂ + M₈₂*M₅₈ + M₉₂*M₅₉) + (M₁₀₁*M₅₁₀ + M₃₁*M₅₃ + M₄₁*M₅₄ + M₅₁*M₁₁ + M₅₂*M₂₁ + M₅₅*M₅₁ + M₅₆*M₆₁ + M₅₇*M₇₁ + M₈₁*M₅₈ + M₉₁*M₅₉)*(M₁₀₅*M₅₁₀ + M₃₅*M₅₃ + M₄₅*M₅₄ + M₅₁*M₁₅ + M₅₂*M₂₅ + M₅₆*M₆₅ + M₅₇*M₇₅ + M₈₅*M₅₈ + M₉₅*M₅₉ + M₅₅^2) + (M₁₀₁*M₅₁₀ + M₃₁*M₅₃ + M₄₁*M₅₄ + M₅₁*M₁₁ + M₅₂*M₂₁ + M₅₅*M₅₁ + M₅₆*M₆₁ + M₅₇*M₇₁ + M₈₁*M₅₈ + M₉₁*M₅₉)*(M₁₁₀*M₁₀₁ + M₁₆*M₆₁ + M₁₇*M₇₁ + M₂₁*M₁₂ + M₃₁*M₁₃ + M₄₁*M₁₄ + M₅₁*M₁₅ + M₈₁*M₁₈ + M₉₁*M₁₉ + M₁₁^2) + (M₁₀₃*M₅₁₀ + M₃₃*M₅₃ + M₄₃*M₅₄ + M₅₁*M₁₃ + M₅₂*M₂₃ + M₅₅*M₅₃ + M₅₆*M₆₃ + M₅₇*M₇₃ + M₈₃*M₅₈ + M₉₃*M₅₉)*(M₁₀₁*M₃₁₀ + M₃₁*M₁₁ + M₃₁*M₃₃ + M₃₂*M₂₁ + M₃₅*M₅₁ + M₃₆*M₆₁ + M₃₇*M₇₁ + M₃₈*M₈₁ + M₄₁*M₃₄ + M₉₁*M₃₉) + (M₁₀₇*M₅₁₀ + M₃₇*M₅₃ + M₄₇*M₅₄ + M₅₁*M₁₇ + M₅₂*M₂₇ + M₅₅*M₅₇ + M₅₆*M₆₇ + M₅₇*M₇₇ + M₈₇*M₅₈ + M₉₇*M₅₉)*(M₁₁*M₇₁ + M₂₁*M₇₂ + M₃₁*M₇₃ + M₄₁*M₇₄ + M₅₁*M₇₅ + M₇₁*M₇₇ + M₇₁₀*M₁₀₁ + M₇₆*M₆₁ + M₈₁*M₇₈ + M₉₁*M₇₉) + (M₁₀₈*M₅₁₀ + M₃₈*M₅₃ + M₄₈*M₅₄ + M₅₁*M₁₈ + M₅₂*M₂₈ + M₅₅*M₅₈ + M₅₆*M₆₈ + M₅₇*M₇₈ + M₈₈*M₅₈ + M₉₈*M₅₉)*(M₁₀₁*M₈₁₀ + M₃₁*M₈₃ + M₄₁*M₈₄ + M₈₁*M₁₁ + M₈₁*M₈₈ + M₈₂*M₂₁ + M₈₅*M₅₁ + M₈₆*M₆₁ + M₈₇*M₇₁ + M₉₁*M₈₉) + (M₁₀₉*M₅₁₀ + M₃₉*M₅₃ + M₄₉*M₅₄ + M₅₁*M₁₉ + M₅₂*M₂₉ + M₅₅*M₅₉ + M₅₆*M₆₉ + M₅₇*M₇₉ + M₈₉*M₅₈ + M₉₉*M₅₉)*(M₉₁*M₁₁ + M₉₁*M₉₉ + M₉₁₀*M₁₀₁ + M₉₂*M₂₁ + M₉₃*M₃₁ + M₉₄*M₄₁ + M₉₅*M₅₁ + M₉₆*M₆₁ + M₉₇*M₇₁ + M₉₈*M₈₁) + (M₁₀₁₀*M₅₁₀ + M₁₁₀*M₅₁ + M₂₁₀*M₅₂ + M₃₁₀*M₅₃ + M₄₁₀*M₅₄ + M₅₁₀*M₅₅ + M₆₁₀*M₅₆ + M₇₁₀*M₅₇ + M₈₁₀*M₅₈ + M₉₁₀*M₅₉)*(M₁₀₁*M₁₁ + M₁₀₁₀*M₁₀₁ + M₁₀₂*M₂₁ + M₁₀₃*M₃₁ + M₁₀₄*M₄₁ + M₁₀₅*M₅₁ + M₁₀₆*M₆₁ + M₁₀₇*M₇₁ + M₁₀₈*M₈₁ + M₁₀₉*M₉₁) + (M₁₁*M₆₁ + M₂₁*M₆₂ + M₃₁*M₆₃ + M₄₁*M₆₄ + M₅₁*M₆₅ + M₆₁*M₆₆ + M₆₁₀*M₁₀₁ + M₇₁*M₆₇ + M₈₁*M₆₈ + M₉₁*M₆₉)*(M₁₀₆*M₅₁₀ + M₃₆*M₅₃ + M₄₆*M₅₄ + M₅₁*M₁₆ + M₅₂*M₂₆ + M₅₆*M₅₅ + M₅₆*M₆₆ + M₅₇*M₇₆ + M₈₆*M₅₈ + M₉₆*M₅₉) + (M₄₁*M₁₁ + M₄₁*M₄₄ + M₄₁₀*M₁₀₁ + M₄₂*M₂₁ + M₄₃*M₃₁ + M₄₅*M₅₁ + M₄₆*M₆₁ + M₄₇*M₇₁ + M₄₈*M₈₁ + M₉₁*M₄₉)*(M₁₀₄*M₅₁₀ + M₃₄*M₅₃ + M₄₄*M₅₄ + M₅₁*M₁₄ + M₅₂*M₂₄ + M₅₅*M₅₄ + M₅₆*M₆₄ + M₅₇*M₇₄ + M₈₄*M₅₈ + M₉₄*M₅₉))*((M₁₀₅*M₂₁₀ + M₂₁*M₁₅ + M₂₂*M₂₅ + M₂₆*M₆₅ + M₂₇*M₇₅ + M₃₅*M₂₃ + M₄₅*M₂₄ + M₅₅*M₂₅ + M₈₅*M₂₈ + M₉₅*M₂₉)*(M₉₁*M₁₂ + M₉₁₀*M₁₀₂ + M₉₂*M₂₂ + M₉₃*M₃₂ + M₉₄*M₄₂ + M₉₅*M₅₂ + M₉₆*M₆₂ + M₉₇*M₇₂ + M₉₈*M₈₂ + M₉₉*M₉₂) + (M₁₀₅*M₃₁₀ + M₃₁*M₁₅ + M₃₂*M₂₅ + M₃₅*M₃₃ + M₃₅*M₅₅ + M₃₆*M₆₅ + M₃₇*M₇₅ + M₃₈*M₈₅ + M₄₅*M₃₄ + M₉₅*M₃₉)*(M₉₁*M₁₃ + M₉₁₀*M₁₀₃ + M₉₂*M₂₃ + M₉₃*M₃₃ + M₉₄*M₄₃ + M₉₅*M₅₃ + M₉₆*M₆₃ + M₉₇*M₇₃ + M₉₈*M₈₃ + M₉₉*M₉₃) + (M₁₀₅*M₅₁₀ + M₃₅*M₅₃ + M₄₅*M₅₄ + M₅₁*M₁₅ + M₅₂*M₂₅ + M₅₆*M₆₅ + M₅₇*M₇₅ + M₈₅*M₅₈ + M₉₅*M₅₉ + M₅₅^2)*(M₉₁*M₁₅ + M₉₁₀*M₁₀₅ + M₉₂*M₂₅ + M₉₃*M₃₅ + M₉₄*M₄₅ + M₉₅*M₅₅ + M₉₆*M₆₅ + M₉₇*M₇₅ + M₉₈*M₈₅ + M₉₉*M₉₅) + (M₁₀₅*M₈₁₀ + M₃₅*M₈₃ + M₄₅*M₈₄ + M₈₁*M₁₅ + M₈₂*M₂₅ + M₈₅*M₅₅ + M₈₆*M₆₅ + M₈₇*M₇₅ + M₈₈*M₈₅ + M₉₅*M₈₉)*(M₉₁*M₁₈ + M₉₁₀*M₁₀₈ + M₉₂*M₂₈ + M₉₃*M₃₈ + M₉₄*M₄₈ + M₉₅*M₅₈ + M₉₆*M₆₈ + M₉₇*M₇₈ + M₉₈*M₈₈ + M₉₈*M₉₉) + (M₁₁*M₁₅ + M₁₁₀*M₁₀₅ + M₁₆*M₆₅ + M₁₇*M₇₅ + M₂₅*M₁₂ + M₃₅*M₁₃ + M₄₅*M₁₄ + M₅₅*M₁₅ + M₈₅*M₁₈ + M₉₅*M₁₉)*(M₉₁*M₁₁ + M₉₁*M₉₉ + M₉₁₀*M₁₀₁ + M₉₂*M₂₁ + M₉₃*M₃₁ + M₉₄*M₄₁ + M₉₅*M₅₁ + M₉₆*M₆₁ + M₉₇*M₇₁ + M₉₈*M₈₁) + (M₁₀₁₀*M₉₁₀ + M₁₁₀*M₉₁ + M₂₁₀*M₉₂ + M₃₁₀*M₉₃ + M₄₁₀*M₉₄ + M₅₁₀*M₉₅ + M₆₁₀*M₉₆ + M₇₁₀*M₉₇ + M₈₁₀*M₉₈ + M₉₁₀*M₉₉)*(M₁₀₁*M₁₅ + M₁₀₁₀*M₁₀₅ + M₁₀₂*M₂₅ + M₁₀₃*M₃₅ + M₁₀₄*M₄₅ + M₁₀₅*M₅₅ + M₁₀₆*M₆₅ + M₁₀₇*M₇₅ + M₁₀₈*M₈₅ + M₁₀₉*M₉₅) + (M₁₅*M₆₁ + M₂₅*M₆₂ + M₃₅*M₆₃ + M₄₅*M₆₄ + M₅₅*M₆₅ + M₆₁₀*M₁₀₅ + M₆₅*M₆₆ + M₇₅*M₆₇ + M₈₅*M₆₈ + M₉₅*M₆₉)*(M₉₁*M₁₆ + M₉₁₀*M₁₀₆ + M₉₂*M₂₆ + M₉₃*M₃₆ + M₉₄*M₄₆ + M₉₅*M₅₆ + M₉₆*M₆₆ + M₉₆*M₉₉ + M₉₇*M₇₆ + M₉₈*M₈₆) + (M₉₁*M₁₇ + M₉₁₀*M₁₀₇ + M₉₂*M₂₇ + M₉₃*M₃₇ + M₉₄*M₄₇ + M₉₅*M₅₇ + M₉₆*M₆₇ + M₉₇*M₇₇ + M₉₇*M₉₉ + M₉₈*M₈₇)*(M₁₅*M₇₁ + M₂₅*M₇₂ + M₃₅*M₇₃ + M₄₅*M₇₄ + M₅₅*M₇₅ + M₇₁₀*M₁₀₅ + M₇₆*M₆₅ + M₇₇*M₇₅ + M₈₅*M₇₈ + M₉₅*M₇₉) + (M₉₁*M₁₉ + M₉₁₀*M₁₀₉ + M₉₂*M₂₉ + M₉₃*M₃₉ + M₉₄*M₄₉ + M₉₅*M₅₉ + M₉₆*M₆₉ + M₉₇*M₇₉ + M₉₈*M₈₉ + M₉₉^2)*(M₉₁*M₁₅ + M₉₁₀*M₁₀₅ + M₉₂*M₂₅ + M₉₃*M₃₅ + M₉₄*M₄₅ + M₉₅*M₅₅ + M₉₆*M₆₅ + M₉₇*M₇₅ + M₉₈*M₈₅ + M₉₉*M₉₅) + (M₄₁*M₁₅ + M₄₁₀*M₁₀₅ + M₄₂*M₂₅ + M₄₃*M₃₅ + M₄₅*M₄₄ + M₄₅*M₅₅ + M₄₆*M₆₅ + M₄₇*M₇₅ + M₄₈*M₈₅ + M₉₅*M₄₉)*(M₉₁*M₁₄ + M₉₁₀*M₁₀₄ + M₉₂*M₂₄ + M₉₃*M₃₄ + M₉₄*M₄₄ + M₉₅*M₅₄ + M₉₆*M₆₄ + M₉₇*M₇₄ + M₉₈*M₈₄ + M₉₉*M₉₄)) + ((M₁₀₁₀*M₆₁₀ + M₁₁₀*M₆₁ + M₂₁₀*M₆₂ + M₃₁₀*M₆₃ + M₄₁₀*M₆₄ + M₅₁₀*M₆₅ + M₆₁₀*M₆₆ + M₇₁₀*M₆₇ + M₈₁₀*M₆₈ + M₉₁₀*M₆₉)*(M₉₁*M₁₆ + M₉₁₀*M₁₀₆ + M₉₂*M₂₆ + M₉₃*M₃₆ + M₉₄*M₄₆ + M₉₅*M₅₆ + M₉₆*M₆₆ + M₉₆*M₉₉ + M₉₇*M₇₆ + M₉₈*M₈₆) + (M₁₀₂*M₂₁₀ + M₁₀₃*M₃₁₀ + M₁₀₅*M₅₁₀ + M₁₀₈*M₈₁₀ + M₁₁₀*M₁₀₁ + M₄₁₀*M₁₀₄ + M₆₁₀*M₁₀₆ + M₇₁₀*M₁₀₇ + M₉₁₀*M₁₀₉ + M₁₀₁₀^2)*(M₁₀₁₀*M₉₁₀ + M₁₁₀*M₉₁ + M₂₁₀*M₉₂ + M₃₁₀*M₉₃ + M₄₁₀*M₉₄ + M₅₁₀*M₉₅ + M₆₁₀*M₉₆ + M₇₁₀*M₉₇ + M₈₁₀*M₉₈ + M₉₁₀*M₉₉) + (M₉₁*M₁₁ + M₉₁*M₉₉ + M₉₁₀*M₁₀₁ + M₉₂*M₂₁ + M₉₃*M₃₁ + M₉₄*M₄₁ + M₉₅*M₅₁ + M₉₆*M₆₁ + M₉₇*M₇₁ + M₉₈*M₈₁)*(M₁₀₁₀*M₁₁₀ + M₁₁₀*M₁₁ + M₂₁₀*M₁₂ + M₃₁₀*M₁₃ + M₄₁₀*M₁₄ + M₅₁₀*M₁₅ + M₆₁₀*M₁₆ + M₇₁₀*M₁₇ + M₈₁₀*M₁₈ + M₉₁₀*M₁₉) + (M₉₁*M₁₂ + M₉₁₀*M₁₀₂ + M₉₂*M₂₂ + M₉₃*M₃₂ + M₉₄*M₄₂ + M₉₅*M₅₂ + M₉₆*M₆₂ + M₉₇*M₇₂ + M₉₈*M₈₂ + M₉₉*M₉₂)*(M₁₀₁₀*M₂₁₀ + M₁₁₀*M₂₁ + M₂₁₀*M₂₂ + M₃₁₀*M₂₃ + M₄₁₀*M₂₄ + M₅₁₀*M₂₅ + M₆₁₀*M₂₆ + M₇₁₀*M₂₇ + M₈₁₀*M₂₈ + M₉₁₀*M₂₉) + (M₉₁*M₁₃ + M₉₁₀*M₁₀₃ + M₉₂*M₂₃ + M₉₃*M₃₃ + M₉₄*M₄₃ + M₉₅*M₅₃ + M₉₆*M₆₃ + M₉₇*M₇₃ + M₉₈*M₈₃ + M₉₉*M₉₃)*(M₁₀₁₀*M₃₁₀ + M₁₁₀*M₃₁ + M₂₁₀*M₃₂ + M₃₁₀*M₃₃ + M₄₁₀*M₃₄ + M₅₁₀*M₃₅ + M₆₁₀*M₃₆ + M₇₁₀*M₃₇ + M₈₁₀*M₃₈ + M₉₁₀*M₃₉) + (M₉₁*M₁₄ + M₉₁₀*M₁₀₄ + M₉₂*M₂₄ + M₉₃*M₃₄ + M₉₄*M₄₄ + M₉₅*M₅₄ + M₉₆*M₆₄ + M₉₇*M₇₄ + M₉₈*M₈₄ + M₉₉*M₉₄)*(M₁₀₁₀*M₄₁₀ + M₁₁₀*M₄₁ + M₂₁₀*M₄₂ + M₃₁₀*M₄₃ + M₄₁₀*M₄₄ + M₅₁₀*M₄₅ + M₆₁₀*M₄₆ + M₇₁₀*M₄₇ + M₈₁₀*M₄₈ + M₉₁₀*M₄₉) + (M₉₁*M₁₅ + M₉₁₀*M₁₀₅ + M₉₂*M₂₅ + M₉₃*M₃₅ + M₉₄*M₄₅ + M₉₅*M₅₅ + M₉₆*M₆₅ + M₉₇*M₇₅ + M₉₈*M₈₅ + M₉₉*M₉₅)*(M₁₀₁₀*M₅₁₀ + M₁₁₀*M₅₁ + M₂₁₀*M₅₂ + M₃₁₀*M₅₃ + M₄₁₀*M₅₄ + M₅₁₀*M₅₅ + M₆₁₀*M₅₆ + M₇₁₀*M₅₇ + M₈₁₀*M₅₈ + M₉₁₀*M₅₉) + (M₉₁*M₁₇ + M₉₁₀*M₁₀₇ + M₉₂*M₂₇ + M₉₃*M₃₇ + M₉₄*M₄₇ + M₉₅*M₅₇ + M₉₆*M₆₇ + M₉₇*M₇₇ + M₉₇*M₉₉ + M₉₈*M₈₇)*(M₁₀₁₀*M₇₁₀ + M₁₁₀*M₇₁ + M₂₁₀*M₇₂ + M₃₁₀*M₇₃ + M₄₁₀*M₇₄ + M₅₁₀*M₇₅ + M₆₁₀*M₇₆ + M₇₁₀*M₇₇ + M₈₁₀*M₇₈ + M₉₁₀*M₇₉) + (M₉₁*M₁₈ + M₉₁₀*M₁₀₈ + M₉₂*M₂₈ + M₉₃*M₃₈ + M₉₄*M₄₈ + M₉₅*M₅₈ + M₉₆*M₆₈ + M₉₇*M₇₈ + M₉₈*M₈₈ + M₉₈*M₉₉)*(M₁₀₁₀*M₈₁₀ + M₁₁₀*M₈₁ + M₂₁₀*M₈₂ + M₃₁₀*M₈₃ + M₄₁₀*M₈₄ + M₅₁₀*M₈₅ + M₆₁₀*M₈₆ + M₇₁₀*M₈₇ + M₈₁₀*M₈₈ + M₉₁₀*M₈₉) + (M₉₁*M₁₉ + M₉₁₀*M₁₀₉ + M₉₂*M₂₉ + M₉₃*M₃₉ + M₉₄*M₄₉ + M₉₅*M₅₉ + M₉₆*M₆₉ + M₉₇*M₇₉ + M₉₈*M₈₉ + M₉₉^2)*(M₁₀₁₀*M₉₁₀ + M₁₁₀*M₉₁ + M₂₁₀*M₉₂ + M₃₁₀*M₉₃ + M₄₁₀*M₉₄ + M₅₁₀*M₉₅ + M₆₁₀*M₉₆ + M₇₁₀*M₉₇ + M₈₁₀*M₉₈ + M₉₁₀*M₉₉))*((M₁₀₁*M₂₁₀ + M₂₁*M₁₁ + M₂₂*M₂₁ + M₂₆*M₆₁ + M₂₇*M₇₁ + M₃₁*M₂₃ + M₄₁*M₂₄ + M₅₁*M₂₅ + M₈₁*M₂₈ + M₉₁*M₂₉)*(M₁₀₁*M₁₂ + M₁₀₁₀*M₁₀₂ + M₁₀₂*M₂₂ + M₁₀₃*M₃₂ + M₁₀₄*M₄₂ + M₁₀₅*M₅₂ + M₁₀₆*M₆₂ + M₁₀₇*M₇₂ + M₁₀₈*M₈₂ + M₁₀₉*M₉₂) + (M₁₀₁*M₃₁₀ + M₃₁*M₁₁ + M₃₁*M₃₃ + M₃₂*M₂₁ + M₃₅*M₅₁ + M₃₆*M₆₁ + M₃₇*M₇₁ + M₃₈*M₈₁ + M₄₁*M₃₄ + M₉₁*M₃₉)*(M₁₀₁*M₁₃ + M₁₀₁₀*M₁₀₃ + M₁₀₂*M₂₃ + M₁₀₃*M₃₃ + M₁₀₄*M₄₃ + M₁₀₅*M₅₃ + M₁₀₆*M₆₃ + M₁₀₇*M₇₃ + M₁₀₈*M₈₃ + M₁₀₉*M₉₃) + (M₁₀₁*M₅₁₀ + M₃₁*M₅₃ + M₄₁*M₅₄ + M₅₁*M₁₁ + M₅₂*M₂₁ + M₅₅*M₅₁ + M₅₆*M₆₁ + M₅₇*M₇₁ + M₈₁*M₅₈ + M₉₁*M₅₉)*(M₁₀₁*M₁₅ + M₁₀₁₀*M₁₀₅ + M₁₀₂*M₂₅ + M₁₀₃*M₃₅ + M₁₀₄*M₄₅ + M₁₀₅*M₅₅ + M₁₀₆*M₆₅ + M₁₀₇*M₇₅ + M₁₀₈*M₈₅ + M₁₀₉*M₉₅) + (M₁₀₁*M₈₁₀ + M₃₁*M₈₃ + M₄₁*M₈₄ + M₈₁*M₁₁ + M₈₁*M₈₈ + M₈₂*M₂₁ + M₈₅*M₅₁ + M₈₆*M₆₁ + M₈₇*M₇₁ + M₉₁*M₈₉)*(M₁₀₁*M₁₈ + M₁₀₁₀*M₁₀₈ + M₁₀₂*M₂₈ + M₁₀₃*M₃₈ + M₁₀₄*M₄₈ + M₁₀₅*M₅₈ + M₁₀₆*M₆₈ + M₁₀₇*M₇₈ + M₁₀₈*M₈₈ + M₁₀₉*M₉₈) + (M₁₁₀*M₁₀₁ + M₁₆*M₆₁ + M₁₇*M₇₁ + M₂₁*M₁₂ + M₃₁*M₁₃ + M₄₁*M₁₄ + M₅₁*M₁₅ + M₈₁*M₁₈ + M₉₁*M₁₉ + M₁₁^2)*(M₁₀₁*M₁₁ + M₁₀₁₀*M₁₀₁ + M₁₀₂*M₂₁ + M₁₀₃*M₃₁ + M₁₀₄*M₄₁ + M₁₀₅*M₅₁ + M₁₀₆*M₆₁ + M₁₀₇*M₇₁ + M₁₀₈*M₈₁ + M₁₀₉*M₉₁) + (M₁₁*M₆₁ + M₂₁*M₆₂ + M₃₁*M₆₃ + M₄₁*M₆₄ + M₅₁*M₆₅ + M₆₁*M₆₆ + M₆₁₀*M₁₀₁ + M₇₁*M₆₇ + M₈₁*M₆₈ + M₉₁*M₆₉)*(M₁₀₁*M₁₆ + M₁₀₁₀*M₁₀₆ + M₁₀₂*M₂₆ + M₁₀₃*M₃₆ + M₁₀₄*M₄₆ + M₁₀₅*M₅₆ + M₁₀₆*M₆₆ + M₁₀₇*M₇₆ + M₁₀₈*M₈₆ + M₁₀₉*M₉₆) + (M₁₀₂*M₂₁₀ + M₁₀₃*M₃₁₀ + M₁₀₅*M₅₁₀ + M₁₀₈*M₈₁₀ + M₁₁₀*M₁₀₁ + M₄₁₀*M₁₀₄ + M₆₁₀*M₁₀₆ + M₇₁₀*M₁₀₇ + M₉₁₀*M₁₀₉ + M₁₀₁₀^2)*(M₁₀₁*M₁₁ + M₁₀₁₀*M₁₀₁ + M₁₀₂*M₂₁ + M₁₀₃*M₃₁ + M₁₀₄*M₄₁ + M₁₀₅*M₅₁ + M₁₀₆*M₆₁ + M₁₀₇*M₇₁ + M₁₀₈*M₈₁ + M₁₀₉*M₉₁) + (M₄₁*M₁₁ + M₄₁*M₄₄ + M₄₁₀*M₁₀₁ + M₄₂*M₂₁ + M₄₃*M₃₁ + M₄₅*M₅₁ + M₄₆*M₆₁ + M₄₇*M₇₁ + M₄₈*M₈₁ + M₉₁*M₄₉)*(M₁₀₁*M₁₄ + M₁₀₁₀*M₁₀₄ + M₁₀₂*M₂₄ + M₁₀₃*M₃₄ + M₁₀₄*M₄₄ + M₁₀₅*M₅₄ + M₁₀₆*M₆₄ + M₁₀₇*M₇₄ + M₁₀₈*M₈₄ + M₁₀₉*M₉₄) + (M₁₁*M₇₁ + M₂₁*M₇₂ + M₃₁*M₇₃ + M₄₁*M₇₄ + M₅₁*M₇₅ + M₇₁*M₇₇ + M₇₁₀*M₁₀₁ + M₇₆*M₆₁ + M₈₁*M₇₈ + M₉₁*M₇₉)*(M₁₀₁*M₁₇ + M₁₀₁₀*M₁₀₇ + M₁₀₂*M₂₇ + M₁₀₃*M₃₇ + M₁₀₄*M₄₇ + M₁₀₅*M₅₇ + M₁₀₆*M₆₇ + M₁₀₇*M₇₇ + M₁₀₈*M₈₇ + M₁₀₉*M₉₇) + (M₉₁*M₁₁ + M₉₁*M₉₉ + M₉₁₀*M₁₀₁ + M₉₂*M₂₁ + M₉₃*M₃₁ + M₉₄*M₄₁ + M₉₅*M₅₁ + M₉₆*M₆₁ + M₉₇*M₇₁ + M₉₈*M₈₁)*(M₁₀₁*M₁₉ + M₁₀₁₀*M₁₀₉ + M₁₀₂*M₂₉ + M₁₀₃*M₃₉ + M₁₀₄*M₄₉ + M₁₀₅*M₅₉ + M₁₀₆*M₆₉ + M₁₀₇*M₇₉ + M₁₀₈*M₈₉ + M₁₀₉*M₉₉)) + ((M₁₀₁₀*M₆₁₀ + M₁₁₀*M₆₁ + M₂₁₀*M₆₂ + M₃₁₀*M₆₃ + M₄₁₀*M₆₄ + M₅₁₀*M₆₅ + M₆₁₀*M₆₆ + M₇₁₀*M₆₇ + M₈₁₀*M₆₈ + M₉₁₀*M₆₉)*(M₁₀₁*M₁₁ + M₁₀₁₀*M₁₀₁ + M₁₀₂*M₂₁ + M₁₀₃*M₃₁ + M₁₀₄*M₄₁ + M₁₀₅*M₅₁ + M₁₀₆*M₆₁ + M₁₀₇*M₇₁ + M₁₀₈*M₈₁ + M₁₀₉*M₉₁) + (M₁₁*M₆₁ + M₂₁*M₆₂ + M₃₁*M₆₃ + M₄₁*M₆₄ + M₅₁*M₆₅ + M₆₁*M₆₆ + M₆₁₀*M₁₀₁ + M₇₁*M₆₇ + M₈₁*M₆₈ + M₉₁*M₆₉)*(M₁₁₀*M₁₀₁ + M₁₆*M₆₁ + M₁₇*M₇₁ + M₂₁*M₁₂ + M₃₁*M₁₃ + M₄₁*M₁₄ + M₅₁*M₁₅ + M₈₁*M₁₈ + M₉₁*M₁₉ + M₁₁^2) + (M₁₁*M₆₁ + M₂₁*M₆₂ + M₃₁*M₆₃ + M₄₁*M₆₄ + M₅₁*M₆₅ + M₆₁*M₆₆ + M₆₁₀*M₁₀₁ + M₇₁*M₆₇ + M₈₁*M₆₈ + M₉₁*M₆₉)*(M₁₆*M₆₁ + M₂₆*M₆₂ + M₃₆*M₆₃ + M₄₆*M₆₄ + M₅₆*M₆₅ + M₆₁₀*M₁₀₆ + M₇₆*M₆₇ + M₈₆*M₆₈ + M₉₆*M₆₉ + M₆₆^2) + (M₁₂*M₆₁ + M₂₂*M₆₂ + M₃₂*M₆₃ + M₄₂*M₆₄ + M₅₂*M₆₅ + M₆₁₀*M₁₀₂ + M₆₂*M₆₆ + M₇₂*M₆₇ + M₈₂*M₆₈ + M₉₂*M₆₉)*(M₁₀₁*M₂₁₀ + M₂₁*M₁₁ + M₂₂*M₂₁ + M₂₆*M₆₁ + M₂₇*M₇₁ + M₃₁*M₂₃ + M₄₁*M₂₄ + M₅₁*M₂₅ + M₈₁*M₂₈ + M₉₁*M₂₉) + (M₁₃*M₆₁ + M₂₃*M₆₂ + M₃₃*M₆₃ + M₄₃*M₆₄ + M₅₃*M₆₅ + M₆₁₀*M₁₀₃ + M₆₃*M₆₆ + M₇₃*M₆₇ + M₈₃*M₆₈ + M₉₃*M₆₉)*(M₁₀₁*M₃₁₀ + M₃₁*M₁₁ + M₃₁*M₃₃ + M₃₂*M₂₁ + M₃₅*M₅₁ + M₃₆*M₆₁ + M₃₇*M₇₁ + M₃₈*M₈₁ + M₄₁*M₃₄ + M₉₁*M₃₉) + (M₁₄*M₆₁ + M₂₄*M₆₂ + M₃₄*M₆₃ + M₄₄*M₆₄ + M₅₄*M₆₅ + M₆₁₀*M₁₀₄ + M₆₄*M₆₆ + M₇₄*M₆₇ + M₈₄*M₆₈ + M₉₄*M₆₉)*(M₄₁*M₁₁ + M₄₁*M₄₄ + M₄₁₀*M₁₀₁ + M₄₂*M₂₁ + M₄₃*M₃₁ + M₄₅*M₅₁ + M₄₆*M₆₁ + M₄₇*M₇₁ + M₄₈*M₈₁ + M₉₁*M₄₉) + (M₁₅*M₆₁ + M₂₅*M₆₂ + M₃₅*M₆₃ + M₄₅*M₆₄ + M₅₅*M₆₅ + M₆₁₀*M₁₀₅ + M₆₅*M₆₆ + M₇₅*M₆₇ + M₈₅*M₆₈ + M₉₅*M₆₉)*(M₁₀₁*M₅₁₀ + M₃₁*M₅₃ + M₄₁*M₅₄ + M₅₁*M₁₁ + M₅₂*M₂₁ + M₅₅*M₅₁ + M₅₆*M₆₁ + M₅₇*M₇₁ + M₈₁*M₅₈ + M₉₁*M₅₉) + (M₁₇*M₆₁ + M₂₇*M₆₂ + M₃₇*M₆₃ + M₄₇*M₆₄ + M₅₇*M₆₅ + M₆₁₀*M₁₀₇ + M₆₆*M₆₇ + M₇₇*M₆₇ + M₈₇*M₆₈ + M₉₇*M₆₉)*(M₁₁*M₇₁ + M₂₁*M₇₂ + M₃₁*M₇₃ + M₄₁*M₇₄ + M₅₁*M₇₅ + M₇₁*M₇₇ + M₇₁₀*M₁₀₁ + M₇₆*M₆₁ + M₈₁*M₇₈ + M₉₁*M₇₉) + (M₁₈*M₆₁ + M₂₈*M₆₂ + M₃₈*M₆₃ + M₄₈*M₆₄ + M₅₈*M₆₅ + M₆₁₀*M₁₀₈ + M₆₆*M₆₈ + M₇₈*M₆₇ + M₈₈*M₆₈ + M₉₈*M₆₉)*(M₁₀₁*M₈₁₀ + M₃₁*M₈₃ + M₄₁*M₈₄ + M₈₁*M₁₁ + M₈₁*M₈₈ + M₈₂*M₂₁ + M₈₅*M₅₁ + M₈₆*M₆₁ + M₈₇*M₇₁ + M₉₁*M₈₉) + (M₁₉*M₆₁ + M₂₉*M₆₂ + M₃₉*M₆₃ + M₄₉*M₆₄ + M₅₉*M₆₅ + M₆₁₀*M₁₀₉ + M₆₉*M₆₆ + M₇₉*M₆₇ + M₈₉*M₆₈ + M₉₉*M₆₉)*(M₉₁*M₁₁ + M₉₁*M₉₉ + M₉₁₀*M₁₀₁ + M₉₂*M₂₁ + M₉₃*M₃₁ + M₉₄*M₄₁ + M₉₅*M₅₁ + M₉₆*M₆₁ + M₉₇*M₇₁ + M₉₈*M₈₁))*((M₁₀₆*M₂₁₀ + M₂₁*M₁₆ + M₂₂*M₂₆ + M₂₆*M₆₆ + M₂₇*M₇₆ + M₃₆*M₂₃ + M₄₆*M₂₄ + M₅₆*M₂₅ + M₈₆*M₂₈ + M₉₆*M₂₉)*(M₉₁*M₁₂ + M₉₁₀*M₁₀₂ + M₉₂*M₂₂ + M₉₃*M₃₂ + M₉₄*M₄₂ + M₉₅*M₅₂ + M₉₆*M₆₂ + M₉₇*M₇₂ + M₉₈*M₈₂ + M₉₉*M₉₂) + (M₁₀₆*M₃₁₀ + M₃₁*M₁₆ + M₃₂*M₂₆ + M₃₅*M₅₆ + M₃₆*M₃₃ + M₃₆*M₆₆ + M₃₇*M₇₆ + M₃₈*M₈₆ + M₄₆*M₃₄ + M₉₆*M₃₉)*(M₉₁*M₁₃ + M₉₁₀*M₁₀₃ + M₉₂*M₂₃ + M₉₃*M₃₃ + M₉₄*M₄₃ + M₉₅*M₅₃ + M₉₆*M₆₃ + M₉₇*M₇₃ + M₉₈*M₈₃ + M₉₉*M₉₃) + (M₁₀₆*M₅₁₀ + M₃₆*M₅₃ + M₄₆*M₅₄ + M₅₁*M₁₆ + M₅₂*M₂₆ + M₅₆*M₅₅ + M₅₆*M₆₆ + M₅₇*M₇₆ + M₈₆*M₅₈ + M₉₆*M₅₉)*(M₉₁*M₁₅ + M₉₁₀*M₁₀₅ + M₉₂*M₂₅ + M₉₃*M₃₅ + M₉₄*M₄₅ + M₉₅*M₅₅ + M₉₆*M₆₅ + M₉₇*M₇₅ + M₉₈*M₈₅ + M₉₉*M₉₅) + (M₁₀₆*M₈₁₀ + M₃₆*M₈₃ + M₄₆*M₈₄ + M₈₁*M₁₆ + M₈₂*M₂₆ + M₈₅*M₅₆ + M₈₆*M₆₆ + M₈₇*M₇₆ + M₈₈*M₈₆ + M₉₆*M₈₉)*(M₉₁*M₁₈ + M₉₁₀*M₁₀₈ + M₉₂*M₂₈ + M₉₃*M₃₈ + M₉₄*M₄₈ + M₉₅*M₅₈ + M₉₆*M₆₈ + M₉₇*M₇₈ + M₉₈*M₈₈ + M₉₈*M₉₉) + (M₁₁*M₁₆ + M₁₁₀*M₁₀₆ + M₁₆*M₆₆ + M₁₇*M₇₆ + M₂₆*M₁₂ + M₃₆*M₁₃ + M₄₆*M₁₄ + M₅₆*M₁₅ + M₈₆*M₁₈ + M₉₆*M₁₉)*(M₉₁*M₁₁ + M₉₁*M₉₉ + M₉₁₀*M₁₀₁ + M₉₂*M₂₁ + M₉₃*M₃₁ + M₉₄*M₄₁ + M₉₅*M₅₁ + M₉₆*M₆₁ + M₉₇*M₇₁ + M₉₈*M₈₁) + (M₁₀₁₀*M₉₁₀ + M₁₁₀*M₉₁ + M₂₁₀*M₉₂ + M₃₁₀*M₉₃ + M₄₁₀*M₉₄ + M₅₁₀*M₉₅ + M₆₁₀*M₉₆ + M₇₁₀*M₉₇ + M₈₁₀*M₉₈ + M₉₁₀*M₉₉)*(M₁₀₁*M₁₆ + M₁₀₁₀*M₁₀₆ + M₁₀₂*M₂₆ + M₁₀₃*M₃₆ + M₁₀₄*M₄₆ + M₁₀₅*M₅₆ + M₁₀₆*M₆₆ + M₁₀₇*M₇₆ + M₁₀₈*M₈₆ + M₁₀₉*M₉₆) + (M₁₆*M₆₁ + M₂₆*M₆₂ + M₃₆*M₆₃ + M₄₆*M₆₄ + M₅₆*M₆₅ + M₆₁₀*M₁₀₆ + M₇₆*M₆₇ + M₈₆*M₆₈ + M₉₆*M₆₉ + M₆₆^2)*(M₉₁*M₁₆ + M₉₁₀*M₁₀₆ + M₉₂*M₂₆ + M₉₃*M₃₆ + M₉₄*M₄₆ + M₉₅*M₅₆ + M₉₆*M₆₆ + M₉₆*M₉₉ + M₉₇*M₇₆ + M₉₈*M₈₆) + (M₉₁*M₁₇ + M₉₁₀*M₁₀₇ + M₉₂*M₂₇ + M₉₃*M₃₇ + M₉₄*M₄₇ + M₉₅*M₅₇ + M₉₆*M₆₇ + M₉₇*M₇₇ + M₉₇*M₉₉ + M₉₈*M₈₇)*(M₁₆*M₇₁ + M₂₆*M₇₂ + M₃₆*M₇₃ + M₄₆*M₇₄ + M₅₆*M₇₅ + M₇₁₀*M₁₀₆ + M₇₆*M₆₆ + M₇₇*M₇₆ + M₈₆*M₇₈ + M₉₆*M₇₉) + (M₉₁*M₁₉ + M₉₁₀*M₁₀₉ + M₉₂*M₂₉ + M₉₃*M₃₉ + M₉₄*M₄₉ + M₉₅*M₅₉ + M₉₆*M₆₉ + M₉₇*M₇₉ + M₉₈*M₈₉ + M₉₉^2)*(M₉₁*M₁₆ + M₉₁₀*M₁₀₆ + M₉₂*M₂₆ + M₉₃*M₃₆ + M₉₄*M₄₆ + M₉₅*M₅₆ + M₉₆*M₆₆ + M₉₆*M₉₉ + M₉₇*M₇₆ + M₉₈*M₈₆) + (M₄₁*M₁₆ + M₄₁₀*M₁₀₆ + M₄₂*M₂₆ + M₄₃*M₃₆ + M₄₅*M₅₆ + M₄₆*M₄₄ + M₄₆*M₆₆ + M₄₇*M₇₆ + M₄₈*M₈₆ + M₉₆*M₄₉)*(M₉₁*M₁₄ + M₉₁₀*M₁₀₄ + M₉₂*M₂₄ + M₉₃*M₃₄ + M₉₄*M₄₄ + M₉₅*M₅₄ + M₉₆*M₆₄ + M₉₇*M₇₄ + M₉₈*M₈₄ + M₉₉*M₉₄)) + ((M₁₀₁*M₁₁ + M₁₀₁₀*M₁₀₁ + M₁₀₂*M₂₁ + M₁₀₃*M₃₁ + M₁₀₄*M₄₁ + M₁₀₅*M₅₁ + M₁₀₆*M₆₁ + M₁₀₇*M₇₁ + M₁₀₈*M₈₁ + M₁₀₉*M₉₁)*(M₁₀₁₀*M₄₁₀ + M₁₁₀*M₄₁ + M₂₁₀*M₄₂ + M₃₁₀*M₄₃ + M₄₁₀*M₄₄ + M₅₁₀*M₄₅ + M₆₁₀*M₄₆ + M₇₁₀*M₄₇ + M₈₁₀*M₄₈ + M₉₁₀*M₄₉) + (M₁₁*M₆₁ + M₂₁*M₆₂ + M₃₁*M₆₃ + M₄₁*M₆₄ + M₅₁*M₆₅ + M₆₁*M₆₆ + M₆₁₀*M₁₀₁ + M₇₁*M₆₇ + M₈₁*M₆₈ + M₉₁*M₆₉)*(M₄₁*M₁₆ + M₄₁₀*M₁₀₆ + M₄₂*M₂₆ + M₄₃*M₃₆ + M₄₅*M₅₆ + M₄₆*M₄₄ + M₄₆*M₆₆ + M₄₇*M₇₆ + M₄₈*M₈₆ + M₉₆*M₄₉) + (M₄₁*M₁₁ + M₄₁*M₄₄ + M₄₁₀*M₁₀₁ + M₄₂*M₂₁ + M₄₃*M₃₁ + M₄₅*M₅₁ + M₄₆*M₆₁ + M₄₇*M₇₁ + M₄₈*M₈₁ + M₉₁*M₄₉)*(M₁₁₀*M₁₀₁ + M₁₆*M₆₁ + M₁₇*M₇₁ + M₂₁*M₁₂ + M₃₁*M₁₃ + M₄₁*M₁₄ + M₅₁*M₁₅ + M₈₁*M₁₈ + M₉₁*M₁₉ + M₁₁^2) + (M₄₁*M₁₂ + M₄₁₀*M₁₀₂ + M₄₂*M₂₂ + M₄₂*M₄₄ + M₄₃*M₃₂ + M₄₅*M₅₂ + M₄₆*M₆₂ + M₄₇*M₇₂ + M₄₈*M₈₂ + M₉₂*M₄₉)*(M₁₀₁*M₂₁₀ + M₂₁*M₁₁ + M₂₂*M₂₁ + M₂₆*M₆₁ + M₂₇*M₇₁ + M₃₁*M₂₃ + M₄₁*M₂₄ + M₅₁*M₂₅ + M₈₁*M₂₈ + M₉₁*M₂₉) + (M₄₁*M₁₃ + M₄₁₀*M₁₀₃ + M₄₂*M₂₃ + M₄₃*M₃₃ + M₄₄*M₄₃ + M₄₅*M₅₃ + M₄₆*M₆₃ + M₄₇*M₇₃ + M₄₈*M₈₃ + M₉₃*M₄₉)*(M₁₀₁*M₃₁₀ + M₃₁*M₁₁ + M₃₁*M₃₃ + M₃₂*M₂₁ + M₃₅*M₅₁ + M₃₆*M₆₁ + M₃₇*M₇₁ + M₃₈*M₈₁ + M₄₁*M₃₄ + M₉₁*M₃₉) + (M₄₁*M₁₄ + M₄₁₀*M₁₀₄ + M₄₂*M₂₄ + M₄₃*M₃₄ + M₄₅*M₅₄ + M₄₆*M₆₄ + M₄₇*M₇₄ + M₄₈*M₈₄ + M₉₄*M₄₉ + M₄₄^2)*(M₄₁*M₁₁ + M₄₁*M₄₄ + M₄₁₀*M₁₀₁ + M₄₂*M₂₁ + M₄₃*M₃₁ + M₄₅*M₅₁ + M₄₆*M₆₁ + M₄₇*M₇₁ + M₄₈*M₈₁ + M₉₁*M₄₉) + (M₄₁*M₁₅ + M₄₁₀*M₁₀₅ + M₄₂*M₂₅ + M₄₃*M₃₅ + M₄₅*M₄₄ + M₄₅*M₅₅ + M₄₆*M₆₅ + M₄₇*M₇₅ + M₄₈*M₈₅ + M₉₅*M₄₉)*(M₁₀₁*M₅₁₀ + M₃₁*M₅₃ + M₄₁*M₅₄ + M₅₁*M₁₁ + M₅₂*M₂₁ + M₅₅*M₅₁ + M₅₆*M₆₁ + M₅₇*M₇₁ + M₈₁*M₅₈ + M₉₁*M₅₉) + (M₄₁*M₁₇ + M₄₁₀*M₁₀₇ + M₄₂*M₂₇ + M₄₃*M₃₇ + M₄₄*M₄₇ + M₄₅*M₅₇ + M₄₆*M₆₇ + M₄₇*M₇₇ + M₄₈*M₈₇ + M₉₇*M₄₉)*(M₁₁*M₇₁ + M₂₁*M₇₂ + M₃₁*M₇₃ + M₄₁*M₇₄ + M₅₁*M₇₅ + M₇₁*M₇₇ + M₇₁₀*M₁₀₁ + M₇₆*M₆₁ + M₈₁*M₇₈ + M₉₁*M₇₉) + (M₄₁*M₁₈ + M₄₁₀*M₁₀₈ + M₄₂*M₂₈ + M₄₃*M₃₈ + M₄₄*M₄₈ + M₄₅*M₅₈ + M₄₆*M₆₈ + M₄₇*M₇₈ + M₄₈*M₈₈ + M₉₈*M₄₉)*(M₁₀₁*M₈₁₀ + M₃₁*M₈₃ + M₄₁*M₈₄ + M₈₁*M₁₁ + M₈₁*M₈₈ + M₈₂*M₂₁ + M₈₅*M₅₁ + M₈₆*M₆₁ + M₈₇*M₇₁ + M₉₁*M₈₉) + (M₄₁*M₁₉ + M₄₁₀*M₁₀₉ + M₄₂*M₂₉ + M₄₃*M₃₉ + M₄₄*M₄₉ + M₄₅*M₅₉ + M₄₆*M₆₉ + M₄₇*M₇₉ + M₄₈*M₈₉ + M₉₉*M₄₉)*(M₉₁*M₁₁ + M₉₁*M₉₉ + M₉₁₀*M₁₀₁ + M₉₂*M₂₁ + M₉₃*M₃₁ + M₉₄*M₄₁ + M₉₅*M₅₁ + M₉₆*M₆₁ + M₉₇*M₇₁ + M₉₈*M₈₁))*((M₁₀₄*M₂₁₀ + M₂₁*M₁₄ + M₂₂*M₂₄ + M₂₆*M₆₄ + M₂₇*M₇₄ + M₃₄*M₂₃ + M₄₄*M₂₄ + M₅₄*M₂₅ + M₈₄*M₂₈ + M₉₄*M₂₉)*(M₉₁*M₁₂ + M₉₁₀*M₁₀₂ + M₉₂*M₂₂ + M₉₃*M₃₂ + M₉₄*M₄₂ + M₉₅*M₅₂ + M₉₆*M₆₂ + M₉₇*M₇₂ + M₉₈*M₈₂ + M₉₉*M₉₂) + (M₁₀₄*M₃₁₀ + M₃₁*M₁₄ + M₃₂*M₂₄ + M₃₃*M₃₄ + M₃₅*M₅₄ + M₃₆*M₆₄ + M₃₇*M₇₄ + M₃₈*M₈₄ + M₄₄*M₃₄ + M₉₄*M₃₉)*(M₉₁*M₁₃ + M₉₁₀*M₁₀₃ + M₉₂*M₂₃ + M₉₃*M₃₃ + M₉₄*M₄₃ + M₉₅*M₅₃ + M₉₆*M₆₃ + M₉₇*M₇₃ + M₉₈*M₈₃ + M₉₉*M₉₃) + (M₁₀₄*M₅₁₀ + M₃₄*M₅₃ + M₄₄*M₅₄ + M₅₁*M₁₄ + M₅₂*M₂₄ + M₅₅*M₅₄ + M₅₆*M₆₄ + M₅₇*M₇₄ + M₈₄*M₅₈ + M₉₄*M₅₉)*(M₉₁*M₁₅ + M₉₁₀*M₁₀₅ + M₉₂*M₂₅ + M₉₃*M₃₅ + M₉₄*M₄₅ + M₉₅*M₅₅ + M₉₆*M₆₅ + M₉₇*M₇₅ + M₉₈*M₈₅ + M₉₉*M₉₅) + (M₁₀₄*M₈₁₀ + M₃₄*M₈₃ + M₄₄*M₈₄ + M₈₁*M₁₄ + M₈₂*M₂₄ + M₈₄*M₈₈ + M₈₅*M₅₄ + M₈₆*M₆₄ + M₈₇*M₇₄ + M₉₄*M₈₉)*(M₉₁*M₁₈ + M₉₁₀*M₁₀₈ + M₉₂*M₂₈ + M₉₃*M₃₈ + M₉₄*M₄₈ + M₉₅*M₅₈ + M₉₆*M₆₈ + M₉₇*M₇₈ + M₉₈*M₈₈ + M₉₈*M₉₉) + (M₁₁*M₁₄ + M₁₁₀*M₁₀₄ + M₁₆*M₆₄ + M₁₇*M₇₄ + M₂₄*M₁₂ + M₃₄*M₁₃ + M₄₄*M₁₄ + M₅₄*M₁₅ + M₈₄*M₁₈ + M₉₄*M₁₉)*(M₉₁*M₁₁ + M₉₁*M₉₉ + M₉₁₀*M₁₀₁ + M₉₂*M₂₁ + M₉₃*M₃₁ + M₉₄*M₄₁ + M₉₅*M₅₁ + M₉₆*M₆₁ + M₉₇*M₇₁ + M₉₈*M₈₁) + (M₁₀₁₀*M₉₁₀ + M₁₁₀*M₉₁ + M₂₁₀*M₉₂ + M₃₁₀*M₉₃ + M₄₁₀*M₉₄ + M₅₁₀*M₉₅ + M₆₁₀*M₉₆ + M₇₁₀*M₉₇ + M₈₁₀*M₉₈ + M₉₁₀*M₉₉)*(M₁₀₁*M₁₄ + M₁₀₁₀*M₁₀₄ + M₁₀₂*M₂₄ + M₁₀₃*M₃₄ + M₁₀₄*M₄₄ + M₁₀₅*M₅₄ + M₁₀₆*M₆₄ + M₁₀₇*M₇₄ + M₁₀₈*M₈₄ + M₁₀₉*M₉₄) + (M₁₄*M₆₁ + M₂₄*M₆₂ + M₃₄*M₆₃ + M₄₄*M₆₄ + M₅₄*M₆₅ + M₆₁₀*M₁₀₄ + M₆₄*M₆₆ + M₇₄*M₆₇ + M₈₄*M₆₈ + M₉₄*M₆₉)*(M₉₁*M₁₆ + M₉₁₀*M₁₀₆ + M₉₂*M₂₆ + M₉₃*M₃₆ + M₉₄*M₄₆ + M₉₅*M₅₆ + M₉₆*M₆₆ + M₉₆*M₉₉ + M₉₇*M₇₆ + M₉₈*M₈₆) + (M₉₁*M₁₇ + M₉₁₀*M₁₀₇ + M₉₂*M₂₇ + M₉₃*M₃₇ + M₉₄*M₄₇ + M₉₅*M₅₇ + M₉₆*M₆₇ + M₉₇*M₇₇ + M₉₇*M₉₉ + M₉₈*M₈₇)*(M₁₄*M₇₁ + M₂₄*M₇₂ + M₃₄*M₇₃ + M₄₄*M₇₄ + M₅₄*M₇₅ + M₇₁₀*M₁₀₄ + M₇₄*M₇₇ + M₇₆*M₆₄ + M₈₄*M₇₈ + M₉₄*M₇₉) + (M₉₁*M₁₉ + M₉₁₀*M₁₀₉ + M₉₂*M₂₉ + M₉₃*M₃₉ + M₉₄*M₄₉ + M₉₅*M₅₉ + M₉₆*M₆₉ + M₉₇*M₇₉ + M₉₈*M₈₉ + M₉₉^2)*(M₉₁*M₁₄ + M₉₁₀*M₁₀₄ + M₉₂*M₂₄ + M₉₃*M₃₄ + M₉₄*M₄₄ + M₉₅*M₅₄ + M₉₆*M₆₄ + M₉₇*M₇₄ + M₉₈*M₈₄ + M₉₉*M₉₄) + (M₄₁*M₁₄ + M₄₁₀*M₁₀₄ + M₄₂*M₂₄ + M₄₃*M₃₄ + M₄₅*M₅₄ + M₄₆*M₆₄ + M₄₇*M₇₄ + M₄₈*M₈₄ + M₉₄*M₄₉ + M₄₄^2)*(M₉₁*M₁₄ + M₉₁₀*M₁₀₄ + M₉₂*M₂₄ + M₉₃*M₃₄ + M₉₄*M₄₄ + M₉₅*M₅₄ + M₉₆*M₆₄ + M₉₇*M₇₄ + M₉₈*M₈₄ + M₉₉*M₉₄))) + (((M₁₀₃*M₂₁₀ + M₂₁*M₁₃ + M₂₂*M₂₃ + M₂₆*M₆₃ + M₂₇*M₇₃ + M₃₃*M₂₃ + M₄₃*M₂₄ + M₅₃*M₂₅ + M₈₃*M₂₈ + M₉₃*M₂₉)*(M₁₂*M₇₁ + M₂₂*M₇₂ + M₃₂*M₇₃ + M₄₂*M₇₄ + M₅₂*M₇₅ + M₇₁₀*M₁₀₂ + M₇₂*M₇₇ + M₇₆*M₆₂ + M₈₂*M₇₈ + M₉₂*M₇₉) + (M₁₀₃*M₃₁₀ + M₃₁*M₁₃ + M₃₂*M₂₃ + M₃₅*M₅₃ + M₃₆*M₆₃ + M₃₇*M₇₃ + M₃₈*M₈₃ + M₄₃*M₃₄ + M₉₃*M₃₉ + M₃₃^2)*(M₁₃*M₇₁ + M₂₃*M₇₂ + M₃₃*M₇₃ + M₄₃*M₇₄ + M₅₃*M₇₅ + M₇₁₀*M₁₀₃ + M₇₃*M₇₇ + M₇₆*M₆₃ + M₈₃*M₇₈ + M₉₃*M₇₉) + (M₁₀₃*M₅₁₀ + M₃₃*M₅₃ + M₄₃*M₅₄ + M₅₁*M₁₃ + M₅₂*M₂₃ + M₅₅*M₅₃ + M₅₆*M₆₃ + M₅₇*M₇₃ + M₈₃*M₅₈ + M₉₃*M₅₉)*(M₁₅*M₇₁ + M₂₅*M₇₂ + M₃₅*M₇₃ + M₄₅*M₇₄ + M₅₅*M₇₅ + M₇₁₀*M₁₀₅ + M₇₆*M₆₅ + M₇₇*M₇₅ + M₈₅*M₇₈ + M₉₅*M₇₉) + (M₁₀₃*M₈₁₀ + M₃₃*M₈₃ + M₄₃*M₈₄ + M₈₁*M₁₃ + M₈₂*M₂₃ + M₈₃*M₈₈ + M₈₅*M₅₃ + M₈₆*M₆₃ + M₈₇*M₇₃ + M₉₃*M₈₉)*(M₁₈*M₇₁ + M₂₈*M₇₂ + M₃₈*M₇₃ + M₄₈*M₇₄ + M₅₈*M₇₅ + M₇₁₀*M₁₀₈ + M₇₆*M₆₈ + M₇₈*M₇₇ + M₈₈*M₇₈ + M₉₈*M₇₉) + (M₁₀₁*M₁₃ + M₁₀₁₀*M₁₀₃ + M₁₀₂*M₂₃ + M₁₀₃*M₃₃ + M₁₀₄*M₄₃ + M₁₀₅*M₅₃ + M₁₀₆*M₆₃ + M₁₀₇*M₇₃ + M₁₀₈*M₈₃ + M₁₀₉*M₉₃)*(M₁₀₁₀*M₇₁₀ + M₁₁₀*M₇₁ + M₂₁₀*M₇₂ + M₃₁₀*M₇₃ + M₄₁₀*M₇₄ + M₅₁₀*M₇₅ + M₆₁₀*M₇₆ + M₇₁₀*M₇₇ + M₈₁₀*M₇₈ + M₉₁₀*M₇₉) + (M₁₁*M₁₃ + M₁₁₀*M₁₀₃ + M₁₆*M₆₃ + M₁₇*M₇₃ + M₂₃*M₁₂ + M₃₃*M₁₃ + M₄₃*M₁₄ + M₅₃*M₁₅ + M₈₃*M₁₈ + M₉₃*M₁₉)*(M₁₁*M₇₁ + M₂₁*M₇₂ + M₃₁*M₇₃ + M₄₁*M₇₄ + M₅₁*M₇₅ + M₇₁*M₇₇ + M₇₁₀*M₁₀₁ + M₇₆*M₆₁ + M₈₁*M₇₈ + M₉₁*M₇₉) + (M₁₃*M₆₁ + M₂₃*M₆₂ + M₃₃*M₆₃ + M₄₃*M₆₄ + M₅₃*M₆₅ + M₆₁₀*M₁₀₃ + M₆₃*M₆₆ + M₇₃*M₆₇ + M₈₃*M₆₈ + M₉₃*M₆₉)*(M₁₆*M₇₁ + M₂₆*M₇₂ + M₃₆*M₇₃ + M₄₆*M₇₄ + M₅₆*M₇₅ + M₇₁₀*M₁₀₆ + M₇₆*M₆₆ + M₇₇*M₇₆ + M₈₆*M₇₈ + M₉₆*M₇₉) + (M₉₁*M₁₃ + M₉₁₀*M₁₀₃ + M₉₂*M₂₃ + M₉₃*M₃₃ + M₉₄*M₄₃ + M₉₅*M₅₃ + M₉₆*M₆₃ + M₉₇*M₇₃ + M₉₈*M₈₃ + M₉₉*M₉₃)*(M₁₉*M₇₁ + M₂₉*M₇₂ + M₃₉*M₇₃ + M₄₉*M₇₄ + M₅₉*M₇₅ + M₇₁₀*M₁₀₉ + M₇₆*M₆₉ + M₇₇*M₇₉ + M₈₉*M₇₈ + M₉₉*M₇₉) + (M₄₁*M₁₃ + M₄₁₀*M₁₀₃ + M₄₂*M₂₃ + M₄₃*M₃₃ + M₄₄*M₄₃ + M₄₅*M₅₃ + M₄₆*M₆₃ + M₄₇*M₇₃ + M₄₈*M₈₃ + M₉₃*M₄₉)*(M₁₄*M₇₁ + M₂₄*M₇₂ + M₃₄*M₇₃ + M₄₄*M₇₄ + M₅₄*M₇₅ + M₇₁₀*M₁₀₄ + M₇₄*M₇₇ + M₇₆*M₆₄ + M₈₄*M₇₈ + M₉₄*M₇₉) + (M₁₇*M₇₁ + M₂₇*M₇₂ + M₃₇*M₇₃ + M₄₇*M₇₄ + M₅₇*M₇₅ + M₇₁₀*M₁₀₇ + M₇₆*M₆₇ + M₈₇*M₇₈ + M₉₇*M₇₉ + M₇₇^2)*(M₁₃*M₇₁ + M₂₃*M₇₂ + M₃₃*M₇₃ + M₄₃*M₇₄ + M₅₃*M₇₅ + M₇₁₀*M₁₀₃ + M₇₃*M₇₇ + M₇₆*M₆₃ + M₈₃*M₇₈ + M₉₃*M₇₉))*((M₁₀₁*M₂₁₀ + M₂₁*M₁₁ + M₂₂*M₂₁ + M₂₆*M₆₁ + M₂₇*M₇₁ + M₃₁*M₂₃ + M₄₁*M₂₄ + M₅₁*M₂₅ + M₈₁*M₂₈ + M₉₁*M₂₉)*(M₁₀₂*M₃₁₀ + M₃₁*M₁₂ + M₃₂*M₂₂ + M₃₂*M₃₃ + M₃₅*M₅₂ + M₃₆*M₆₂ + M₃₇*M₇₂ + M₃₈*M₈₂ + M₄₂*M₃₄ + M₉₂*M₃₉) + (M₁₀₁*M₃₁₀ + M₃₁*M₁₁ + M₃₁*M₃₃ + M₃₂*M₂₁ + M₃₅*M₅₁ + M₃₆*M₆₁ + M₃₇*M₇₁ + M₃₈*M₈₁ + M₄₁*M₃₄ + M₉₁*M₃₉)*(M₁₀₃*M₃₁₀ + M₃₁*M₁₃ + M₃₂*M₂₃ + M₃₅*M₅₃ + M₃₆*M₆₃ + M₃₇*M₇₃ + M₃₈*M₈₃ + M₄₃*M₃₄ + M₉₃*M₃₉ + M₃₃^2) + (M₁₀₁*M₃₁₀ + M₃₁*M₁₁ + M₃₁*M₃₃ + M₃₂*M₂₁ + M₃₅*M₅₁ + M₃₆*M₆₁ + M₃₇*M₇₁ + M₃₈*M₈₁ + M₄₁*M₃₄ + M₉₁*M₃₉)*(M₁₁₀*M₁₀₁ + M₁₆*M₆₁ + M₁₇*M₇₁ + M₂₁*M₁₂ + M₃₁*M₁₃ + M₄₁*M₁₄ + M₅₁*M₁₅ + M₈₁*M₁₈ + M₉₁*M₁₉ + M₁₁^2) + (M₁₀₁*M₅₁₀ + M₃₁*M₅₃ + M₄₁*M₅₄ + M₅₁*M₁₁ + M₅₂*M₂₁ + M₅₅*M₅₁ + M₅₆*M₆₁ + M₅₇*M₇₁ + M₈₁*M₅₈ + M₉₁*M₅₉)*(M₁₀₅*M₃₁₀ + M₃₁*M₁₅ + M₃₂*M₂₅ + M₃₅*M₃₃ + M₃₅*M₅₅ + M₃₆*M₆₅ + M₃₇*M₇₅ + M₃₈*M₈₅ + M₄₅*M₃₄ + M₉₅*M₃₉) + (M₁₀₁*M₈₁₀ + M₃₁*M₈₃ + M₄₁*M₈₄ + M₈₁*M₁₁ + M₈₁*M₈₈ + M₈₂*M₂₁ + M₈₅*M₅₁ + M₈₆*M₆₁ + M₈₇*M₇₁ + M₉₁*M₈₉)*(M₁₀₈*M₃₁₀ + M₃₁*M₁₈ + M₃₂*M₂₈ + M₃₃*M₃₈ + M₃₅*M₅₈ + M₃₆*M₆₈ + M₃₇*M₇₈ + M₃₈*M₈₈ + M₄₈*M₃₄ + M₉₈*M₃₉) + (M₁₀₇*M₃₁₀ + M₃₁*M₁₇ + M₃₂*M₂₇ + M₃₃*M₃₇ + M₃₅*M₅₇ + M₃₆*M₆₇ + M₃₇*M₇₇ + M₃₈*M₈₇ + M₄₇*M₃₄ + M₉₇*M₃₉)*(M₁₁*M₇₁ + M₂₁*M₇₂ + M₃₁*M₇₃ + M₄₁*M₇₄ + M₅₁*M₇₅ + M₇₁*M₇₇ + M₇₁₀*M₁₀₁ + M₇₆*M₆₁ + M₈₁*M₇₈ + M₉₁*M₇₉) + (M₁₀₉*M₃₁₀ + M₃₁*M₁₉ + M₃₂*M₂₉ + M₃₃*M₃₉ + M₃₅*M₅₉ + M₃₆*M₆₉ + M₃₇*M₇₉ + M₃₈*M₈₉ + M₄₉*M₃₄ + M₉₉*M₃₉)*(M₉₁*M₁₁ + M₉₁*M₉₉ + M₉₁₀*M₁₀₁ + M₉₂*M₂₁ + M₉₃*M₃₁ + M₉₄*M₄₁ + M₉₅*M₅₁ + M₉₆*M₆₁ + M₉₇*M₇₁ + M₉₈*M₈₁) + (M₁₀₁₀*M₃₁₀ + M₁₁₀*M₃₁ + M₂₁₀*M₃₂ + M₃₁₀*M₃₃ + M₄₁₀*M₃₄ + M₅₁₀*M₃₅ + M₆₁₀*M₃₆ + M₇₁₀*M₃₇ + M₈₁₀*M₃₈ + M₉₁₀*M₃₉)*(M₁₀₁*M₁₁ + M₁₀₁₀*M₁₀₁ + M₁₀₂*M₂₁ + M₁₀₃*M₃₁ + M₁₀₄*M₄₁ + M₁₀₅*M₅₁ + M₁₀₆*M₆₁ + M₁₀₇*M₇₁ + M₁₀₈*M₈₁ + M₁₀₉*M₉₁) + (M₁₁*M₆₁ + M₂₁*M₆₂ + M₃₁*M₆₃ + M₄₁*M₆₄ + M₅₁*M₆₅ + M₆₁*M₆₆ + M₆₁₀*M₁₀₁ + M₇₁*M₆₇ + M₈₁*M₆₈ + M₉₁*M₆₉)*(M₁₀₆*M₃₁₀ + M₃₁*M₁₆ + M₃₂*M₂₆ + M₃₅*M₅₆ + M₃₆*M₃₃ + M₃₆*M₆₆ + M₃₇*M₇₆ + M₃₈*M₈₆ + M₄₆*M₃₄ + M₉₆*M₃₉) + (M₄₁*M₁₁ + M₄₁*M₄₄ + M₄₁₀*M₁₀₁ + M₄₂*M₂₁ + M₄₃*M₃₁ + M₄₅*M₅₁ + M₄₆*M₆₁ + M₄₇*M₇₁ + M₄₈*M₈₁ + M₉₁*M₄₉)*(M₁₀₄*M₃₁₀ + M₃₁*M₁₄ + M₃₂*M₂₄ + M₃₃*M₃₄ + M₃₅*M₅₄ + M₃₆*M₆₄ + M₃₇*M₇₄ + M₃₈*M₈₄ + M₄₄*M₃₄ + M₉₄*M₃₉)) + ((M₁₀₁*M₂₁₀ + M₂₁*M₁₁ + M₂₂*M₂₁ + M₂₆*M₆₁ + M₂₇*M₇₁ + M₃₁*M₂₃ + M₄₁*M₂₄ + M₅₁*M₂₅ + M₈₁*M₂₈ + M₉₁*M₂₉)*(M₁₂*M₇₁ + M₂₂*M₇₂ + M₃₂*M₇₃ + M₄₂*M₇₄ + M₅₂*M₇₅ + M₇₁₀*M₁₀₂ + M₇₂*M₇₇ + M₇₆*M₆₂ + M₈₂*M₇₈ + M₉₂*M₇₉) + (M₁₀₁*M₃₁₀ + M₃₁*M₁₁ + M₃₁*M₃₃ + M₃₂*M₂₁ + M₃₅*M₅₁ + M₃₆*M₆₁ + M₃₇*M₇₁ + M₃₈*M₈₁ + M₄₁*M₃₄ + M₉₁*M₃₉)*(M₁₃*M₇₁ + M₂₃*M₇₂ + M₃₃*M₇₃ + M₄₃*M₇₄ + M₅₃*M₇₅ + M₇₁₀*M₁₀₃ + M₇₃*M₇₇ + M₇₆*M₆₃ + M₈₃*M₇₈ + M₉₃*M₇₉) + (M₁₀₁*M₅₁₀ + M₃₁*M₅₃ + M₄₁*M₅₄ + M₅₁*M₁₁ + M₅₂*M₂₁ + M₅₅*M₅₁ + M₅₆*M₆₁ + M₅₇*M₇₁ + M₈₁*M₅₈ + M₉₁*M₅₉)*(M₁₅*M₇₁ + M₂₅*M₇₂ + M₃₅*M₇₃ + M₄₅*M₇₄ + M₅₅*M₇₅ + M₇₁₀*M₁₀₅ + M₇₆*M₆₅ + M₇₇*M₇₅ + M₈₅*M₇₈ + M₉₅*M₇₉) + (M₁₀₁*M₈₁₀ + M₃₁*M₈₃ + M₄₁*M₈₄ + M₈₁*M₁₁ + M₈₁*M₈₈ + M₈₂*M₂₁ + M₈₅*M₅₁ + M₈₆*M₆₁ + M₈₇*M₇₁ + M₉₁*M₈₉)*(M₁₈*M₇₁ + M₂₈*M₇₂ + M₃₈*M₇₃ + M₄₈*M₇₄ + M₅₈*M₇₅ + M₇₁₀*M₁₀₈ + M₇₆*M₆₈ + M₇₈*M₇₇ + M₈₈*M₇₈ + M₉₈*M₇₉) + (M₁₀₁*M₁₁ + M₁₀₁₀*M₁₀₁ + M₁₀₂*M₂₁ + M₁₀₃*M₃₁ + M₁₀₄*M₄₁ + M₁₀₅*M₅₁ + M₁₀₆*M₆₁ + M₁₀₇*M₇₁ + M₁₀₈*M₈₁ + M₁₀₉*M₉₁)*(M₁₀₁₀*M₇₁₀ + M₁₁₀*M₇₁ + M₂₁₀*M₇₂ + M₃₁₀*M₇₃ + M₄₁₀*M₇₄ + M₅₁₀*M₇₅ + M₆₁₀*M₇₆ + M₇₁₀*M₇₇ + M₈₁₀*M₇₈ + M₉₁₀*M₇₉) + (M₁₁₀*M₁₀₁ + M₁₆*M₆₁ + M₁₇*M₇₁ + M₂₁*M₁₂ + M₃₁*M₁₃ + M₄₁*M₁₄ + M₅₁*M₁₅ + M₈₁*M₁₈ + M₉₁*M₁₉ + M₁₁^2)*(M₁₁*M₇₁ + M₂₁*M₇₂ + M₃₁*M₇₃ + M₄₁*M₇₄ + M₅₁*M₇₅ + M₇₁*M₇₇ + M₇₁₀*M₁₀₁ + M₇₆*M₆₁ + M₈₁*M₇₈ + M₉₁*M₇₉) + (M₁₁*M₆₁ + M₂₁*M₆₂ + M₃₁*M₆₃ + M₄₁*M₆₄ + M₅₁*M₆₅ + M₆₁*M₆₆ + M₆₁₀*M₁₀₁ + M₇₁*M₆₇ + M₈₁*M₆₈ + M₉₁*M₆₉)*(M₁₆*M₇₁ + M₂₆*M₇₂ + M₃₆*M₇₃ + M₄₆*M₇₄ + M₅₆*M₇₅ + M₇₁₀*M₁₀₆ + M₇₆*M₆₆ + M₇₇*M₇₆ + M₈₆*M₇₈ + M₉₆*M₇₉) + (M₄₁*M₁₁ + M₄₁*M₄₄ + M₄₁₀*M₁₀₁ + M₄₂*M₂₁ + M₄₃*M₃₁ + M₄₅*M₅₁ + M₄₆*M₆₁ + M₄₇*M₇₁ + M₄₈*M₈₁ + M₉₁*M₄₉)*(M₁₄*M₇₁ + M₂₄*M₇₂ + M₃₄*M₇₃ + M₄₄*M₇₄ + M₅₄*M₇₅ + M₇₁₀*M₁₀₄ + M₇₄*M₇₇ + M₇₆*M₆₄ + M₈₄*M₇₈ + M₉₄*M₇₉) + (M₉₁*M₁₁ + M₉₁*M₉₉ + M₉₁₀*M₁₀₁ + M₉₂*M₂₁ + M₉₃*M₃₁ + M₉₄*M₄₁ + M₉₅*M₅₁ + M₉₆*M₆₁ + M₉₇*M₇₁ + M₉₈*M₈₁)*(M₁₉*M₇₁ + M₂₉*M₇₂ + M₃₉*M₇₃ + M₄₉*M₇₄ + M₅₉*M₇₅ + M₇₁₀*M₁₀₉ + M₇₆*M₆₉ + M₇₇*M₇₉ + M₈₉*M₇₈ + M₉₉*M₇₉) + (M₁₇*M₇₁ + M₂₇*M₇₂ + M₃₇*M₇₃ + M₄₇*M₇₄ + M₅₇*M₇₅ + M₇₁₀*M₁₀₇ + M₇₆*M₆₇ + M₈₇*M₇₈ + M₉₇*M₇₉ + M₇₇^2)*(M₁₁*M₇₁ + M₂₁*M₇₂ + M₃₁*M₇₃ + M₄₁*M₇₄ + M₅₁*M₇₅ + M₇₁*M₇₇ + M₇₁₀*M₁₀₁ + M₇₆*M₆₁ + M₈₁*M₇₈ + M₉₁*M₇₉))*((M₁₀₁*M₁₇ + M₁₀₁₀*M₁₀₇ + M₁₀₂*M₂₇ + M₁₀₃*M₃₇ + M₁₀₄*M₄₇ + M₁₀₅*M₅₇ + M₁₀₆*M₆₇ + M₁₀₇*M₇₇ + M₁₀₈*M₈₇ + M₁₀₉*M₉₇)*(M₁₀₁₀*M₇₁₀ + M₁₁₀*M₇₁ + M₂₁₀*M₇₂ + M₃₁₀*M₇₃ + M₄₁₀*M₇₄ + M₅₁₀*M₇₅ + M₆₁₀*M₇₆ + M₇₁₀*M₇₇ + M₈₁₀*M₇₈ + M₉₁₀*M₇₉) + (M₁₀₇*M₂₁₀ + M₂₁*M₁₇ + M₂₂*M₂₇ + M₂₆*M₆₇ + M₂₇*M₇₇ + M₃₇*M₂₃ + M₄₇*M₂₄ + M₅₇*M₂₅ + M₈₇*M₂₈ + M₉₇*M₂₉)*(M₁₂*M₇₁ + M₂₂*M₇₂ + M₃₂*M₇₃ + M₄₂*M₇₄ + M₅₂*M₇₅ + M₇₁₀*M₁₀₂ + M₇₂*M₇₇ + M₇₆*M₆₂ + M₈₂*M₇₈ + M₉₂*M₇₉) + (M₁₀₇*M₃₁₀ + M₃₁*M₁₇ + M₃₂*M₂₇ + M₃₃*M₃₇ + M₃₅*M₅₇ + M₃₆*M₆₇ + M₃₇*M₇₇ + M₃₈*M₈₇ + M₄₇*M₃₄ + M₉₇*M₃₉)*(M₁₃*M₇₁ + M₂₃*M₇₂ + M₃₃*M₇₃ + M₄₃*M₇₄ + M₅₃*M₇₅ + M₇₁₀*M₁₀₃ + M₇₃*M₇₇ + M₇₆*M₆₃ + M₈₃*M₇₈ + M₉₃*M₇₉) + (M₁₀₇*M₅₁₀ + M₃₇*M₅₃ + M₄₇*M₅₄ + M₅₁*M₁₇ + M₅₂*M₂₇ + M₅₅*M₅₇ + M₅₆*M₆₇ + M₅₇*M₇₇ + M₈₇*M₅₈ + M₉₇*M₅₉)*(M₁₅*M₇₁ + M₂₅*M₇₂ + M₃₅*M₇₃ + M₄₅*M₇₄ + M₅₅*M₇₅ + M₇₁₀*M₁₀₅ + M₇₆*M₆₅ + M₇₇*M₇₅ + M₈₅*M₇₈ + M₉₅*M₇₉) + (M₁₀₇*M₈₁₀ + M₃₇*M₈₃ + M₄₇*M₈₄ + M₈₁*M₁₇ + M₈₂*M₂₇ + M₈₅*M₅₇ + M₈₆*M₆₇ + M₈₇*M₇₇ + M₈₇*M₈₈ + M₉₇*M₈₉)*(M₁₈*M₇₁ + M₂₈*M₇₂ + M₃₈*M₇₃ + M₄₈*M₇₄ + M₅₈*M₇₅ + M₇₁₀*M₁₀₈ + M₇₆*M₆₈ + M₇₈*M₇₇ + M₈₈*M₇₈ + M₉₈*M₇₉) + (M₁₁*M₁₇ + M₁₁₀*M₁₀₇ + M₁₆*M₆₇ + M₁₇*M₇₇ + M₂₇*M₁₂ + M₃₇*M₁₃ + M₄₇*M₁₄ + M₅₇*M₁₅ + M₈₇*M₁₈ + M₉₇*M₁₉)*(M₁₁*M₇₁ + M₂₁*M₇₂ + M₃₁*M₇₃ + M₄₁*M₇₄ + M₅₁*M₇₅ + M₇₁*M₇₇ + M₇₁₀*M₁₀₁ + M₇₆*M₆₁ + M₈₁*M₇₈ + M₉₁*M₇₉) + (M₁₇*M₆₁ + M₂₇*M₆₂ + M₃₇*M₆₃ + M₄₇*M₆₄ + M₅₇*M₆₅ + M₆₁₀*M₁₀₇ + M₆₆*M₆₇ + M₇₇*M₆₇ + M₈₇*M₆₈ + M₉₇*M₆₉)*(M₁₆*M₇₁ + M₂₆*M₇₂ + M₃₆*M₇₃ + M₄₆*M₇₄ + M₅₆*M₇₅ + M₇₁₀*M₁₀₆ + M₇₆*M₆₆ + M₇₇*M₇₆ + M₈₆*M₇₈ + M₉₆*M₇₉) + (M₉₁*M₁₇ + M₉₁₀*M₁₀₇ + M₉₂*M₂₇ + M₉₃*M₃₇ + M₉₄*M₄₇ + M₉₅*M₅₇ + M₉₆*M₆₇ + M₉₇*M₇₇ + M₉₇*M₉₉ + M₉₈*M₈₇)*(M₁₉*M₇₁ + M₂₉*M₇₂ + M₃₉*M₇₃ + M₄₉*M₇₄ + M₅₉*M₇₅ + M₇₁₀*M₁₀₉ + M₇₆*M₆₉ + M₇₇*M₇₉ + M₈₉*M₇₈ + M₉₉*M₇₉) + (M₄₁*M₁₇ + M₄₁₀*M₁₀₇ + M₄₂*M₂₇ + M₄₃*M₃₇ + M₄₄*M₄₇ + M₄₅*M₅₇ + M₄₆*M₆₇ + M₄₇*M₇₇ + M₄₈*M₈₇ + M₉₇*M₄₉)*(M₁₄*M₇₁ + M₂₄*M₇₂ + M₃₄*M₇₃ + M₄₄*M₇₄ + M₅₄*M₇₅ + M₇₁₀*M₁₀₄ + M₇₄*M₇₇ + M₇₆*M₆₄ + M₈₄*M₇₈ + M₉₄*M₇₉) + (M₁₇*M₇₁ + M₂₇*M₇₂ + M₃₇*M₇₃ + M₄₇*M₇₄ + M₅₇*M₇₅ + M₇₁₀*M₁₀₇ + M₇₆*M₆₇ + M₈₇*M₇₈ + M₉₇*M₇₉ + M₇₇^2)^2) + ((M₁₀₁*M₂₁₀ + M₂₁*M₁₁ + M₂₂*M₂₁ + M₂₆*M₆₁ + M₂₇*M₇₁ + M₃₁*M₂₃ + M₄₁*M₂₄ + M₅₁*M₂₅ + M₈₁*M₂₈ + M₉₁*M₂₉)*(M₁₂*M₇₁ + M₂₂*M₇₂ + M₃₂*M₇₃ + M₄₂*M₇₄ + M₅₂*M₇₅ + M₇₁₀*M₁₀₂ + M₇₂*M₇₇ + M₇₆*M₆₂ + M₈₂*M₇₈ + M₉₂*M₇₉) + (M₁₀₁*M₃₁₀ + M₃₁*M₁₁ + M₃₁*M₃₃ + M₃₂*M₂₁ + M₃₅*M₅₁ + M₃₆*M₆₁ + M₃₇*M₇₁ + M₃₈*M₈₁ + M₄₁*M₃₄ + M₉₁*M₃₉)*(M₁₃*M₇₁ + M₂₃*M₇₂ + M₃₃*M₇₃ + M₄₃*M₇₄ + M₅₃*M₇₅ + M₇₁₀*M₁₀₃ + M₇₃*M₇₇ + M₇₆*M₆₃ + M₈₃*M₇₈ + M₉₃*M₇₉) + (M₁₀₁*M₅₁₀ + M₃₁*M₅₃ + M₄₁*M₅₄ + M₅₁*M₁₁ + M₅₂*M₂₁ + M₅₅*M₅₁ + M₅₆*M₆₁ + M₅₇*M₇₁ + M₈₁*M₅₈ + M₉₁*M₅₉)*(M₁₅*M₇₁ + M₂₅*M₇₂ + M₃₅*M₇₃ + M₄₅*M₇₄ + M₅₅*M₇₅ + M₇₁₀*M₁₀₅ + M₇₆*M₆₅ + M₇₇*M₇₅ + M₈₅*M₇₈ + M₉₅*M₇₉) + (M₁₀₁*M₈₁₀ + M₃₁*M₈₃ + M₄₁*M₈₄ + M₈₁*M₁₁ + M₈₁*M₈₈ + M₈₂*M₂₁ + M₈₅*M₅₁ + M₈₆*M₆₁ + M₈₇*M₇₁ + M₉₁*M₈₉)*(M₁₈*M₇₁ + M₂₈*M₇₂ + M₃₈*M₇₃ + M₄₈*M₇₄ + M₅₈*M₇₅ + M₇₁₀*M₁₀₈ + M₇₆*M₆₈ + M₇₈*M₇₇ + M₈₈*M₇₈ + M₉₈*M₇₉) + (M₁₀₁*M₁₁ + M₁₀₁₀*M₁₀₁ + M₁₀₂*M₂₁ + M₁₀₃*M₃₁ + M₁₀₄*M₄₁ + M₁₀₅*M₅₁ + M₁₀₆*M₆₁ + M₁₀₇*M₇₁ + M₁₀₈*M₈₁ + M₁₀₉*M₉₁)*(M₁₀₁₀*M₇₁₀ + M₁₁₀*M₇₁ + M₂₁₀*M₇₂ + M₃₁₀*M₇₃ + M₄₁₀*M₇₄ + M₅₁₀*M₇₅ + M₆₁₀*M₇₆ + M₇₁₀*M₇₇ + M₈₁₀*M₇₈ + M₉₁₀*M₇₉) + (M₁₁₀*M₁₀₁ + M₁₆*M₆₁ + M₁₇*M₇₁ + M₂₁*M₁₂ + M₃₁*M₁₃ + M₄₁*M₁₄ + M₅₁*M₁₅ + M₈₁*M₁₈ + M₉₁*M₁₉ + M₁₁^2)*(M₁₁*M₇₁ + M₂₁*M₇₂ + M₃₁*M₇₃ + M₄₁*M₇₄ + M₅₁*M₇₅ + M₇₁*M₇₇ + M₇₁₀*M₁₀₁ + M₇₆*M₆₁ + M₈₁*M₇₈ + M₉₁*M₇₉) + (M₁₁*M₆₁ + M₂₁*M₆₂ + M₃₁*M₆₃ + M₄₁*M₆₄ + M₅₁*M₆₅ + M₆₁*M₆₆ + M₆₁₀*M₁₀₁ + M₇₁*M₆₇ + M₈₁*M₆₈ + M₉₁*M₆₉)*(M₁₆*M₇₁ + M₂₆*M₇₂ + M₃₆*M₇₃ + M₄₆*M₇₄ + M₅₆*M₇₅ + M₇₁₀*M₁₀₆ + M₇₆*M₆₆ + M₇₇*M₇₆ + M₈₆*M₇₈ + M₉₆*M₇₉) + (M₄₁*M₁₁ + M₄₁*M₄₄ + M₄₁₀*M₁₀₁ + M₄₂*M₂₁ + M₄₃*M₃₁ + M₄₅*M₅₁ + M₄₆*M₆₁ + M₄₇*M₇₁ + M₄₈*M₈₁ + M₉₁*M₄₉)*(M₁₄*M₇₁ + M₂₄*M₇₂ + M₃₄*M₇₃ + M₄₄*M₇₄ + M₅₄*M₇₅ + M₇₁₀*M₁₀₄ + M₇₄*M₇₇ + M₇₆*M₆₄ + M₈₄*M₇₈ + M₉₄*M₇₉) + (M₉₁*M₁₁ + M₉₁*M₉₉ + M₉₁₀*M₁₀₁ + M₉₂*M₂₁ + M₉₃*M₃₁ + M₉₄*M₄₁ + M₉₅*M₅₁ + M₉₆*M₆₁ + M₉₇*M₇₁ + M₉₈*M₈₁)*(M₁₉*M₇₁ + M₂₉*M₇₂ + M₃₉*M₇₃ + M₄₉*M₇₄ + M₅₉*M₇₅ + M₇₁₀*M₁₀₉ + M₇₆*M₆₉ + M₇₇*M₇₉ + M₈₉*M₇₈ + M₉₉*M₇₉) + (M₁₇*M₇₁ + M₂₇*M₇₂ + M₃₇*M₇₃ + M₄₇*M₇₄ + M₅₇*M₇₅ + M₇₁₀*M₁₀₇ + M₇₆*M₆₇ + M₈₇*M₇₈ + M₉₇*M₇₉ + M₇₇^2)*(M₁₁*M₇₁ + M₂₁*M₇₂ + M₃₁*M₇₃ + M₄₁*M₇₄ + M₅₁*M₇₅ + M₇₁*M₇₇ + M₇₁₀*M₁₀₁ + M₇₆*M₆₁ + M₈₁*M₇₈ + M₉₁*M₇₉))*((M₁₀₁*M₂₁₀ + M₂₁*M₁₁ + M₂₂*M₂₁ + M₂₆*M₆₁ + M₂₇*M₇₁ + M₃₁*M₂₃ + M₄₁*M₂₄ + M₅₁*M₂₅ + M₈₁*M₂₈ + M₉₁*M₂₉)*(M₁₁*M₁₂ + M₁₁₀*M₁₀₂ + M₁₆*M₆₂ + M₁₇*M₇₂ + M₂₂*M₁₂ + M₃₂*M₁₃ + M₄₂*M₁₄ + M₅₂*M₁₅ + M₈₂*M₁₈ + M₉₂*M₁₉) + (M₁₀₁*M₃₁₀ + M₃₁*M₁₁ + M₃₁*M₃₃ + M₃₂*M₂₁ + M₃₅*M₅₁ + M₃₆*M₆₁ + M₃₇*M₇₁ + M₃₈*M₈₁ + M₄₁*M₃₄ + M₉₁*M₃₉)*(M₁₁*M₁₃ + M₁₁₀*M₁₀₃ + M₁₆*M₆₃ + M₁₇*M₇₃ + M₂₃*M₁₂ + M₃₃*M₁₃ + M₄₃*M₁₄ + M₅₃*M₁₅ + M₈₃*M₁₈ + M₉₃*M₁₉) + (M₁₀₁*M₅₁₀ + M₃₁*M₅₃ + M₄₁*M₅₄ + M₅₁*M₁₁ + M₅₂*M₂₁ + M₅₅*M₅₁ + M₅₆*M₆₁ + M₅₇*M₇₁ + M₈₁*M₅₈ + M₉₁*M₅₉)*(M₁₁*M₁₅ + M₁₁₀*M₁₀₅ + M₁₆*M₆₅ + M₁₇*M₇₅ + M₂₅*M₁₂ + M₃₅*M₁₃ + M₄₅*M₁₄ + M₅₅*M₁₅ + M₈₅*M₁₈ + M₉₅*M₁₉) + (M₁₀₁*M₈₁₀ + M₃₁*M₈₃ + M₄₁*M₈₄ + M₈₁*M₁₁ + M₈₁*M₈₈ + M₈₂*M₂₁ + M₈₅*M₅₁ + M₈₆*M₆₁ + M₈₇*M₇₁ + M₉₁*M₈₉)*(M₁₁*M₁₈ + M₁₁₀*M₁₀₈ + M₁₆*M₆₈ + M₁₇*M₇₈ + M₂₈*M₁₂ + M₃₈*M₁₃ + M₄₈*M₁₄ + M₅₈*M₁₅ + M₈₈*M₁₈ + M₉₈*M₁₉) + (M₁₁*M₁₇ + M₁₁₀*M₁₀₇ + M₁₆*M₆₇ + M₁₇*M₇₇ + M₂₇*M₁₂ + M₃₇*M₁₃ + M₄₇*M₁₄ + M₅₇*M₁₅ + M₈₇*M₁₈ + M₉₇*M₁₉)*(M₁₁*M₇₁ + M₂₁*M₇₂ + M₃₁*M₇₃ + M₄₁*M₇₄ + M₅₁*M₇₅ + M₇₁*M₇₇ + M₇₁₀*M₁₀₁ + M₇₆*M₆₁ + M₈₁*M₇₈ + M₉₁*M₇₉) + (M₁₁*M₁₉ + M₁₁₀*M₁₀₉ + M₁₆*M₆₉ + M₁₇*M₇₉ + M₂₉*M₁₂ + M₃₉*M₁₃ + M₄₉*M₁₄ + M₅₉*M₁₅ + M₈₉*M₁₈ + M₉₉*M₁₉)*(M₉₁*M₁₁ + M₉₁*M₉₉ + M₉₁₀*M₁₀₁ + M₉₂*M₂₁ + M₉₃*M₃₁ + M₉₄*M₄₁ + M₉₅*M₅₁ + M₉₆*M₆₁ + M₉₇*M₇₁ + M₉₈*M₈₁) + (M₁₀₁₀*M₁₁₀ + M₁₁₀*M₁₁ + M₂₁₀*M₁₂ + M₃₁₀*M₁₃ + M₄₁₀*M₁₄ + M₅₁₀*M₁₅ + M₆₁₀*M₁₆ + M₇₁₀*M₁₇ + M₈₁₀*M₁₈ + M₉₁₀*M₁₉)*(M₁₀₁*M₁₁ + M₁₀₁₀*M₁₀₁ + M₁₀₂*M₂₁ + M₁₀₃*M₃₁ + M₁₀₄*M₄₁ + M₁₀₅*M₅₁ + M₁₀₆*M₆₁ + M₁₀₇*M₇₁ + M₁₀₈*M₈₁ + M₁₀₉*M₉₁) + (M₁₁*M₆₁ + M₂₁*M₆₂ + M₃₁*M₆₃ + M₄₁*M₆₄ + M₅₁*M₆₅ + M₆₁*M₆₆ + M₆₁₀*M₁₀₁ + M₇₁*M₆₇ + M₈₁*M₆₈ + M₉₁*M₆₉)*(M₁₁*M₁₆ + M₁₁₀*M₁₀₆ + M₁₆*M₆₆ + M₁₇*M₇₆ + M₂₆*M₁₂ + M₃₆*M₁₃ + M₄₆*M₁₄ + M₅₆*M₁₅ + M₈₆*M₁₈ + M₉₆*M₁₉) + (M₄₁*M₁₁ + M₄₁*M₄₄ + M₄₁₀*M₁₀₁ + M₄₂*M₂₁ + M₄₃*M₃₁ + M₄₅*M₅₁ + M₄₆*M₆₁ + M₄₇*M₇₁ + M₄₈*M₈₁ + M₉₁*M₄₉)*(M₁₁*M₁₄ + M₁₁₀*M₁₀₄ + M₁₆*M₆₄ + M₁₇*M₇₄ + M₂₄*M₁₂ + M₃₄*M₁₃ + M₄₄*M₁₄ + M₅₄*M₁₅ + M₈₄*M₁₈ + M₉₄*M₁₉) + (M₁₁₀*M₁₀₁ + M₁₆*M₆₁ + M₁₇*M₇₁ + M₂₁*M₁₂ + M₃₁*M₁₃ + M₄₁*M₁₄ + M₅₁*M₁₅ + M₈₁*M₁₈ + M₉₁*M₁₉ + M₁₁^2)^2) + ((M₁₀₂*M₂₁₀ + M₂₁*M₁₂ + M₂₆*M₆₂ + M₂₇*M₇₂ + M₃₂*M₂₃ + M₄₂*M₂₄ + M₅₂*M₂₅ + M₈₂*M₂₈ + M₉₂*M₂₉ + M₂₂^2)*(M₁₂*M₇₁ + M₂₂*M₇₂ + M₃₂*M₇₃ + M₄₂*M₇₄ + M₅₂*M₇₅ + M₇₁₀*M₁₀₂ + M₇₂*M₇₇ + M₇₆*M₆₂ + M₈₂*M₇₈ + M₉₂*M₇₉) + (M₁₀₂*M₃₁₀ + M₃₁*M₁₂ + M₃₂*M₂₂ + M₃₂*M₃₃ + M₃₅*M₅₂ + M₃₆*M₆₂ + M₃₇*M₇₂ + M₃₈*M₈₂ + M₄₂*M₃₄ + M₉₂*M₃₉)*(M₁₃*M₇₁ + M₂₃*M₇₂ + M₃₃*M₇₃ + M₄₃*M₇₄ + M₅₃*M₇₅ + M₇₁₀*M₁₀₃ + M₇₃*M₇₇ + M₇₆*M₆₃ + M₈₃*M₇₈ + M₉₃*M₇₉) + (M₁₀₂*M₅₁₀ + M₃₂*M₅₃ + M₄₂*M₅₄ + M₅₁*M₁₂ + M₅₂*M₂₂ + M₅₅*M₅₂ + M₅₆*M₆₂ + M₅₇*M₇₂ + M₈₂*M₅₈ + M₉₂*M₅₉)*(M₁₅*M₇₁ + M₂₅*M₇₂ + M₃₅*M₇₃ + M₄₅*M₇₄ + M₅₅*M₇₅ + M₇₁₀*M₁₀₅ + M₇₆*M₆₅ + M₇₇*M₇₅ + M₈₅*M₇₈ + M₉₅*M₇₉) + (M₁₀₂*M₈₁₀ + M₃₂*M₈₃ + M₄₂*M₈₄ + M₈₁*M₁₂ + M₈₂*M₂₂ + M₈₂*M₈₈ + M₈₅*M₅₂ + M₈₆*M₆₂ + M₈₇*M₇₂ + M₉₂*M₈₉)*(M₁₈*M₇₁ + M₂₈*M₇₂ + M₃₈*M₇₃ + M₄₈*M₇₄ + M₅₈*M₇₅ + M₇₁₀*M₁₀₈ + M₇₆*M₆₈ + M₇₈*M₇₇ + M₈₈*M₇₈ + M₉₈*M₇₉) + (M₁₀₁*M₁₂ + M₁₀₁₀*M₁₀₂ + M₁₀₂*M₂₂ + M₁₀₃*M₃₂ + M₁₀₄*M₄₂ + M₁₀₅*M₅₂ + M₁₀₆*M₆₂ + M₁₀₇*M₇₂ + M₁₀₈*M₈₂ + M₁₀₉*M₉₂)*(M₁₀₁₀*M₇₁₀ + M₁₁₀*M₇₁ + M₂₁₀*M₇₂ + M₃₁₀*M₇₃ + M₄₁₀*M₇₄ + M₅₁₀*M₇₅ + M₆₁₀*M₇₆ + M₇₁₀*M₇₇ + M₈₁₀*M₇₈ + M₉₁₀*M₇₉) + (M₁₁*M₁₂ + M₁₁₀*M₁₀₂ + M₁₆*M₆₂ + M₁₇*M₇₂ + M₂₂*M₁₂ + M₃₂*M₁₃ + M₄₂*M₁₄ + M₅₂*M₁₅ + M₈₂*M₁₈ + M₉₂*M₁₉)*(M₁₁*M₇₁ + M₂₁*M₇₂ + M₃₁*M₇₃ + M₄₁*M₇₄ + M₅₁*M₇₅ + M₇₁*M₇₇ + M₇₁₀*M₁₀₁ + M₇₆*M₆₁ + M₈₁*M₇₈ + M₉₁*M₇₉) + (M₁₂*M₆₁ + M₂₂*M₆₂ + M₃₂*M₆₃ + M₄₂*M₆₄ + M₅₂*M₆₅ + M₆₁₀*M₁₀₂ + M₆₂*M₆₆ + M₇₂*M₆₇ + M₈₂*M₆₈ + M₉₂*M₆₉)*(M₁₆*M₇₁ + M₂₆*M₇₂ + M₃₆*M₇₃ + M₄₆*M₇₄ + M₅₆*M₇₅ + M₇₁₀*M₁₀₆ + M₇₆*M₆₆ + M₇₇*M₇₆ + M₈₆*M₇₈ + M₉₆*M₇₉) + (M₉₁*M₁₂ + M₉₁₀*M₁₀₂ + M₉₂*M₂₂ + M₉₃*M₃₂ + M₉₄*M₄₂ + M₉₅*M₅₂ + M₉₆*M₆₂ + M₉₇*M₇₂ + M₉₈*M₈₂ + M₉₉*M₉₂)*(M₁₉*M₇₁ + M₂₉*M₇₂ + M₃₉*M₇₃ + M₄₉*M₇₄ + M₅₉*M₇₅ + M₇₁₀*M₁₀₉ + M₇₆*M₆₉ + M₇₇*M₇₉ + M₈₉*M₇₈ + M₉₉*M₇₉) + (M₄₁*M₁₂ + M₄₁₀*M₁₀₂ + M₄₂*M₂₂ + M₄₂*M₄₄ + M₄₃*M₃₂ + M₄₅*M₅₂ + M₄₆*M₆₂ + M₄₇*M₇₂ + M₄₈*M₈₂ + M₉₂*M₄₉)*(M₁₄*M₇₁ + M₂₄*M₇₂ + M₃₄*M₇₃ + M₄₄*M₇₄ + M₅₄*M₇₅ + M₇₁₀*M₁₀₄ + M₇₄*M₇₇ + M₇₆*M₆₄ + M₈₄*M₇₈ + M₉₄*M₇₉) + (M₁₇*M₇₁ + M₂₇*M₇₂ + M₃₇*M₇₃ + M₄₇*M₇₄ + M₅₇*M₇₅ + M₇₁₀*M₁₀₇ + M₇₆*M₆₇ + M₈₇*M₇₈ + M₉₇*M₇₉ + M₇₇^2)*(M₁₂*M₇₁ + M₂₂*M₇₂ + M₃₂*M₇₃ + M₄₂*M₇₄ + M₅₂*M₇₅ + M₇₁₀*M₁₀₂ + M₇₂*M₇₇ + M₇₆*M₆₂ + M₈₂*M₇₈ + M₉₂*M₇₉))*((M₁₀₁*M₂₁₀ + M₂₁*M₁₁ + M₂₂*M₂₁ + M₂₆*M₆₁ + M₂₇*M₇₁ + M₃₁*M₂₃ + M₄₁*M₂₄ + M₅₁*M₂₅ + M₈₁*M₂₈ + M₉₁*M₂₉)*(M₁₀₂*M₂₁₀ + M₂₁*M₁₂ + M₂₆*M₆₂ + M₂₇*M₇₂ + M₃₂*M₂₃ + M₄₂*M₂₄ + M₅₂*M₂₅ + M₈₂*M₂₈ + M₉₂*M₂₉ + M₂₂^2) + (M₁₀₁*M₂₁₀ + M₂₁*M₁₁ + M₂₂*M₂₁ + M₂₆*M₆₁ + M₂₇*M₇₁ + M₃₁*M₂₃ + M₄₁*M₂₄ + M₅₁*M₂₅ + M₈₁*M₂₈ + M₉₁*M₂₉)*(M₁₁₀*M₁₀₁ + M₁₆*M₆₁ + M₁₇*M₇₁ + M₂₁*M₁₂ + M₃₁*M₁₃ + M₄₁*M₁₄ + M₅₁*M₁₅ + M₈₁*M₁₈ + M₉₁*M₁₉ + M₁₁^2) + (M₁₀₃*M₂₁₀ + M₂₁*M₁₃ + M₂₂*M₂₃ + M₂₆*M₆₃ + M₂₇*M₇₃ + M₃₃*M₂₃ + M₄₃*M₂₄ + M₅₃*M₂₅ + M₈₃*M₂₈ + M₉₃*M₂₉)*(M₁₀₁*M₃₁₀ + M₃₁*M₁₁ + M₃₁*M₃₃ + M₃₂*M₂₁ + M₃₅*M₅₁ + M₃₆*M₆₁ + M₃₇*M₇₁ + M₃₈*M₈₁ + M₄₁*M₃₄ + M₉₁*M₃₉) + (M₁₀₅*M₂₁₀ + M₂₁*M₁₅ + M₂₂*M₂₅ + M₂₆*M₆₅ + M₂₇*M₇₅ + M₃₅*M₂₃ + M₄₅*M₂₄ + M₅₅*M₂₅ + M₈₅*M₂₈ + M₉₅*M₂₉)*(M₁₀₁*M₅₁₀ + M₃₁*M₅₃ + M₄₁*M₅₄ + M₅₁*M₁₁ + M₅₂*M₂₁ + M₅₅*M₅₁ + M₅₆*M₆₁ + M₅₇*M₇₁ + M₈₁*M₅₈ + M₉₁*M₅₉) + (M₁₀₇*M₂₁₀ + M₂₁*M₁₇ + M₂₂*M₂₇ + M₂₆*M₆₇ + M₂₇*M₇₇ + M₃₇*M₂₃ + M₄₇*M₂₄ + M₅₇*M₂₅ + M₈₇*M₂₈ + M₉₇*M₂₉)*(M₁₁*M₇₁ + M₂₁*M₇₂ + M₃₁*M₇₃ + M₄₁*M₇₄ + M₅₁*M₇₅ + M₇₁*M₇₇ + M₇₁₀*M₁₀₁ + M₇₆*M₆₁ + M₈₁*M₇₈ + M₉₁*M₇₉) + (M₁₀₈*M₂₁₀ + M₂₁*M₁₈ + M₂₂*M₂₈ + M₂₆*M₆₈ + M₂₇*M₇₈ + M₃₈*M₂₃ + M₄₈*M₂₄ + M₅₈*M₂₅ + M₈₈*M₂₈ + M₉₈*M₂₉)*(M₁₀₁*M₈₁₀ + M₃₁*M₈₃ + M₄₁*M₈₄ + M₈₁*M₁₁ + M₈₁*M₈₈ + M₈₂*M₂₁ + M₈₅*M₅₁ + M₈₆*M₆₁ + M₈₇*M₇₁ + M₉₁*M₈₉) + (M₁₀₉*M₂₁₀ + M₂₁*M₁₉ + M₂₂*M₂₉ + M₂₆*M₆₉ + M₂₇*M₇₉ + M₃₉*M₂₃ + M₄₉*M₂₄ + M₅₉*M₂₅ + M₈₉*M₂₈ + M₉₉*M₂₉)*(M₉₁*M₁₁ + M₉₁*M₉₉ + M₉₁₀*M₁₀₁ + M₉₂*M₂₁ + M₉₃*M₃₁ + M₉₄*M₄₁ + M₉₅*M₅₁ + M₉₆*M₆₁ + M₉₇*M₇₁ + M₉₈*M₈₁) + (M₁₀₁₀*M₂₁₀ + M₁₁₀*M₂₁ + M₂₁₀*M₂₂ + M₃₁₀*M₂₃ + M₄₁₀*M₂₄ + M₅₁₀*M₂₅ + M₆₁₀*M₂₆ + M₇₁₀*M₂₇ + M₈₁₀*M₂₈ + M₉₁₀*M₂₉)*(M₁₀₁*M₁₁ + M₁₀₁₀*M₁₀₁ + M₁₀₂*M₂₁ + M₁₀₃*M₃₁ + M₁₀₄*M₄₁ + M₁₀₅*M₅₁ + M₁₀₆*M₆₁ + M₁₀₇*M₇₁ + M₁₀₈*M₈₁ + M₁₀₉*M₉₁) + (M₁₁*M₆₁ + M₂₁*M₆₂ + M₃₁*M₆₃ + M₄₁*M₆₄ + M₅₁*M₆₅ + M₆₁*M₆₆ + M₆₁₀*M₁₀₁ + M₇₁*M₆₇ + M₈₁*M₆₈ + M₉₁*M₆₉)*(M₁₀₆*M₂₁₀ + M₂₁*M₁₆ + M₂₂*M₂₆ + M₂₆*M₆₆ + M₂₇*M₇₆ + M₃₆*M₂₃ + M₄₆*M₂₄ + M₅₆*M₂₅ + M₈₆*M₂₈ + M₉₆*M₂₉) + (M₄₁*M₁₁ + M₄₁*M₄₄ + M₄₁₀*M₁₀₁ + M₄₂*M₂₁ + M₄₃*M₃₁ + M₄₅*M₅₁ + M₄₆*M₆₁ + M₄₇*M₇₁ + M₄₈*M₈₁ + M₉₁*M₄₉)*(M₁₀₄*M₂₁₀ + M₂₁*M₁₄ + M₂₂*M₂₄ + M₂₆*M₆₄ + M₂₇*M₇₄ + M₃₄*M₂₃ + M₄₄*M₂₄ + M₅₄*M₂₅ + M₈₄*M₂₈ + M₉₄*M₂₉)) + ((M₁₀₁*M₁₈ + M₁₀₁₀*M₁₀₈ + M₁₀₂*M₂₈ + M₁₀₃*M₃₈ + M₁₀₄*M₄₈ + M₁₀₅*M₅₈ + M₁₀₆*M₆₈ + M₁₀₇*M₇₈ + M₁₀₈*M₈₈ + M₁₀₉*M₉₈)*(M₁₀₁₀*M₇₁₀ + M₁₁₀*M₇₁ + M₂₁₀*M₇₂ + M₃₁₀*M₇₃ + M₄₁₀*M₇₄ + M₅₁₀*M₇₅ + M₆₁₀*M₇₆ + M₇₁₀*M₇₇ + M₈₁₀*M₇₈ + M₉₁₀*M₇₉) + (M₁₀₈*M₂₁₀ + M₂₁*M₁₈ + M₂₂*M₂₈ + M₂₆*M₆₈ + M₂₇*M₇₈ + M₃₈*M₂₃ + M₄₈*M₂₄ + M₅₈*M₂₅ + M₈₈*M₂₈ + M₉₈*M₂₉)*(M₁₂*M₇₁ + M₂₂*M₇₂ + M₃₂*M₇₃ + M₄₂*M₇₄ + M₅₂*M₇₅ + M₇₁₀*M₁₀₂ + M₇₂*M₇₇ + M₇₆*M₆₂ + M₈₂*M₇₈ + M₉₂*M₇₉) + (M₁₀₈*M₃₁₀ + M₃₁*M₁₈ + M₃₂*M₂₈ + M₃₃*M₃₈ + M₃₅*M₅₈ + M₃₆*M₆₈ + M₃₇*M₇₈ + M₃₈*M₈₈ + M₄₈*M₃₄ + M₉₈*M₃₉)*(M₁₃*M₇₁ + M₂₃*M₇₂ + M₃₃*M₇₃ + M₄₃*M₇₄ + M₅₃*M₇₅ + M₇₁₀*M₁₀₃ + M₇₃*M₇₇ + M₇₆*M₆₃ + M₈₃*M₇₈ + M₉₃*M₇₉) + (M₁₀₈*M₅₁₀ + M₃₈*M₅₃ + M₄₈*M₅₄ + M₅₁*M₁₈ + M₅₂*M₂₈ + M₅₅*M₅₈ + M₅₆*M₆₈ + M₅₇*M₇₈ + M₈₈*M₅₈ + M₉₈*M₅₉)*(M₁₅*M₇₁ + M₂₅*M₇₂ + M₃₅*M₇₃ + M₄₅*M₇₄ + M₅₅*M₇₅ + M₇₁₀*M₁₀₅ + M₇₆*M₆₅ + M₇₇*M₇₅ + M₈₅*M₇₈ + M₉₅*M₇₉) + (M₁₀₈*M₈₁₀ + M₃₈*M₈₃ + M₄₈*M₈₄ + M₈₁*M₁₈ + M₈₂*M₂₈ + M₈₅*M₅₈ + M₈₆*M₆₈ + M₈₇*M₇₈ + M₉₈*M₈₉ + M₈₈^2)*(M₁₈*M₇₁ + M₂₈*M₇₂ + M₃₈*M₇₃ + M₄₈*M₇₄ + M₅₈*M₇₅ + M₇₁₀*M₁₀₈ + M₇₆*M₆₈ + M₇₈*M₇₇ + M₈₈*M₇₈ + M₉₈*M₇₉) + (M₁₁*M₁₈ + M₁₁₀*M₁₀₈ + M₁₆*M₆₈ + M₁₇*M₇₈ + M₂₈*M₁₂ + M₃₈*M₁₃ + M₄₈*M₁₄ + M₅₈*M₁₅ + M₈₈*M₁₈ + M₉₈*M₁₉)*(M₁₁*M₇₁ + M₂₁*M₇₂ + M₃₁*M₇₃ + M₄₁*M₇₄ + M₅₁*M₇₅ + M₇₁*M₇₇ + M₇₁₀*M₁₀₁ + M₇₆*M₆₁ + M₈₁*M₇₈ + M₉₁*M₇₉) + (M₁₈*M₆₁ + M₂₈*M₆₂ + M₃₈*M₆₃ + M₄₈*M₆₄ + M₅₈*M₆₅ + M₆₁₀*M₁₀₈ + M₆₆*M₆₈ + M₇₈*M₆₇ + M₈₈*M₆₈ + M₉₈*M₆₉)*(M₁₆*M₇₁ + M₂₆*M₇₂ + M₃₆*M₇₃ + M₄₆*M₇₄ + M₅₆*M₇₅ + M₇₁₀*M₁₀₆ + M₇₆*M₆₆ + M₇₇*M₇₆ + M₈₆*M₇₈ + M₉₆*M₇₉) + (M₉₁*M₁₈ + M₉₁₀*M₁₀₈ + M₉₂*M₂₈ + M₉₃*M₃₈ + M₉₄*M₄₈ + M₉₅*M₅₈ + M₉₆*M₆₈ + M₉₇*M₇₈ + M₉₈*M₈₈ + M₉₈*M₉₉)*(M₁₉*M₇₁ + M₂₉*M₇₂ + M₃₉*M₇₃ + M₄₉*M₇₄ + M₅₉*M₇₅ + M₇₁₀*M₁₀₉ + M₇₆*M₆₉ + M₇₇*M₇₉ + M₈₉*M₇₈ + M₉₉*M₇₉) + (M₁₇*M₇₁ + M₂₇*M₇₂ + M₃₇*M₇₃ + M₄₇*M₇₄ + M₅₇*M₇₅ + M₇₁₀*M₁₀₇ + M₇₆*M₆₇ + M₈₇*M₇₈ + M₉₇*M₇₉ + M₇₇^2)*(M₁₈*M₇₁ + M₂₈*M₇₂ + M₃₈*M₇₃ + M₄₈*M₇₄ + M₅₈*M₇₅ + M₇₁₀*M₁₀₈ + M₇₆*M₆₈ + M₇₈*M₇₇ + M₈₈*M₇₈ + M₉₈*M₇₉) + (M₄₁*M₁₈ + M₄₁₀*M₁₀₈ + M₄₂*M₂₈ + M₄₃*M₃₈ + M₄₄*M₄₈ + M₄₅*M₅₈ + M₄₆*M₆₈ + M₄₇*M₇₈ + M₄₈*M₈₈ + M₉₈*M₄₉)*(M₁₄*M₇₁ + M₂₄*M₇₂ + M₃₄*M₇₃ + M₄₄*M₇₄ + M₅₄*M₇₅ + M₇₁₀*M₁₀₄ + M₇₄*M₇₇ + M₇₆*M₆₄ + M₈₄*M₇₈ + M₉₄*M₇₉))*((M₁₀₁*M₂₁₀ + M₂₁*M₁₁ + M₂₂*M₂₁ + M₂₆*M₆₁ + M₂₇*M₇₁ + M₃₁*M₂₃ + M₄₁*M₂₄ + M₅₁*M₂₅ + M₈₁*M₂₈ + M₉₁*M₂₉)*(M₁₀₂*M₈₁₀ + M₃₂*M₈₃ + M₄₂*M₈₄ + M₈₁*M₁₂ + M₈₂*M₂₂ + M₈₂*M₈₈ + M₈₅*M₅₂ + M₈₆*M₆₂ + M₈₇*M₇₂ + M₉₂*M₈₉) + (M₁₀₁*M₅₁₀ + M₃₁*M₅₃ + M₄₁*M₅₄ + M₅₁*M₁₁ + M₅₂*M₂₁ + M₅₅*M₅₁ + M₅₆*M₆₁ + M₅₇*M₇₁ + M₈₁*M₅₈ + M₉₁*M₅₉)*(M₁₀₅*M₈₁₀ + M₃₅*M₈₃ + M₄₅*M₈₄ + M₈₁*M₁₅ + M₈₂*M₂₅ + M₈₅*M₅₅ + M₈₆*M₆₅ + M₈₇*M₇₅ + M₈₈*M₈₅ + M₉₅*M₈₉) + (M₁₀₁*M₈₁₀ + M₃₁*M₈₃ + M₄₁*M₈₄ + M₈₁*M₁₁ + M₈₁*M₈₈ + M₈₂*M₂₁ + M₈₅*M₅₁ + M₈₆*M₆₁ + M₈₇*M₇₁ + M₉₁*M₈₉)*(M₁₀₈*M₈₁₀ + M₃₈*M₈₃ + M₄₈*M₈₄ + M₈₁*M₁₈ + M₈₂*M₂₈ + M₈₅*M₅₈ + M₈₆*M₆₈ + M₈₇*M₇₈ + M₉₈*M₈₉ + M₈₈^2) + (M₁₀₁*M₈₁₀ + M₃₁*M₈₃ + M₄₁*M₈₄ + M₈₁*M₁₁ + M₈₁*M₈₈ + M₈₂*M₂₁ + M₈₅*M₅₁ + M₈₆*M₆₁ + M₈₇*M₇₁ + M₉₁*M₈₉)*(M₁₁₀*M₁₀₁ + M₁₆*M₆₁ + M₁₇*M₇₁ + M₂₁*M₁₂ + M₃₁*M₁₃ + M₄₁*M₁₄ + M₅₁*M₁₅ + M₈₁*M₁₈ + M₉₁*M₁₉ + M₁₁^2) + (M₁₀₃*M₈₁₀ + M₃₃*M₈₃ + M₄₃*M₈₄ + M₈₁*M₁₃ + M₈₂*M₂₃ + M₈₃*M₈₈ + M₈₅*M₅₃ + M₈₆*M₆₃ + M₈₇*M₇₃ + M₉₃*M₈₉)*(M₁₀₁*M₃₁₀ + M₃₁*M₁₁ + M₃₁*M₃₃ + M₃₂*M₂₁ + M₃₅*M₅₁ + M₃₆*M₆₁ + M₃₇*M₇₁ + M₃₈*M₈₁ + M₄₁*M₃₄ + M₉₁*M₃₉) + (M₁₀₇*M₈₁₀ + M₃₇*M₈₃ + M₄₇*M₈₄ + M₈₁*M₁₇ + M₈₂*M₂₇ + M₈₅*M₅₇ + M₈₆*M₆₇ + M₈₇*M₇₇ + M₈₇*M₈₈ + M₉₇*M₈₉)*(M₁₁*M₇₁ + M₂₁*M₇₂ + M₃₁*M₇₃ + M₄₁*M₇₄ + M₅₁*M₇₅ + M₇₁*M₇₇ + M₇₁₀*M₁₀₁ + M₇₆*M₆₁ + M₈₁*M₇₈ + M₉₁*M₇₉) + (M₁₀₉*M₈₁₀ + M₃₉*M₈₃ + M₄₉*M₈₄ + M₈₁*M₁₉ + M₈₂*M₂₉ + M₈₅*M₅₉ + M₈₆*M₆₉ + M₈₇*M₇₉ + M₈₉*M₈₈ + M₉₉*M₈₉)*(M₉₁*M₁₁ + M₉₁*M₉₉ + M₉₁₀*M₁₀₁ + M₉₂*M₂₁ + M₉₃*M₃₁ + M₉₄*M₄₁ + M₉₅*M₅₁ + M₉₆*M₆₁ + M₉₇*M₇₁ + M₉₈*M₈₁) + (M₁₀₁₀*M₈₁₀ + M₁₁₀*M₈₁ + M₂₁₀*M₈₂ + M₃₁₀*M₈₃ + M₄₁₀*M₈₄ + M₅₁₀*M₈₅ + M₆₁₀*M₈₆ + M₇₁₀*M₈₇ + M₈₁₀*M₈₈ + M₉₁₀*M₈₉)*(M₁₀₁*M₁₁ + M₁₀₁₀*M₁₀₁ + M₁₀₂*M₂₁ + M₁₀₃*M₃₁ + M₁₀₄*M₄₁ + M₁₀₅*M₅₁ + M₁₀₆*M₆₁ + M₁₀₇*M₇₁ + M₁₀₈*M₈₁ + M₁₀₉*M₉₁) + (M₁₁*M₆₁ + M₂₁*M₆₂ + M₃₁*M₆₃ + M₄₁*M₆₄ + M₅₁*M₆₅ + M₆₁*M₆₆ + M₆₁₀*M₁₀₁ + M₇₁*M₆₇ + M₈₁*M₆₈ + M₉₁*M₆₉)*(M₁₀₆*M₈₁₀ + M₃₆*M₈₃ + M₄₆*M₈₄ + M₈₁*M₁₆ + M₈₂*M₂₆ + M₈₅*M₅₆ + M₈₆*M₆₆ + M₈₇*M₇₆ + M₈₈*M₈₆ + M₉₆*M₈₉) + (M₄₁*M₁₁ + M₄₁*M₄₄ + M₄₁₀*M₁₀₁ + M₄₂*M₂₁ + M₄₃*M₃₁ + M₄₅*M₅₁ + M₄₆*M₆₁ + M₄₇*M₇₁ + M₄₈*M₈₁ + M₉₁*M₄₉)*(M₁₀₄*M₈₁₀ + M₃₄*M₈₃ + M₄₄*M₈₄ + M₈₁*M₁₄ + M₈₂*M₂₄ + M₈₄*M₈₈ + M₈₅*M₅₄ + M₈₆*M₆₄ + M₈₇*M₇₄ + M₉₄*M₈₉)) + ((M₁₀₁*M₁₉ + M₁₀₁₀*M₁₀₉ + M₁₀₂*M₂₉ + M₁₀₃*M₃₉ + M₁₀₄*M₄₉ + M₁₀₅*M₅₉ + M₁₀₆*M₆₉ + M₁₀₇*M₇₉ + M₁₀₈*M₈₉ + M₁₀₉*M₉₉)*(M₁₀₁₀*M₇₁₀ + M₁₁₀*M₇₁ + M₂₁₀*M₇₂ + M₃₁₀*M₇₃ + M₄₁₀*M₇₄ + M₅₁₀*M₇₅ + M₆₁₀*M₇₆ + M₇₁₀*M₇₇ + M₈₁₀*M₇₈ + M₉₁₀*M₇₉) + (M₁₀₉*M₂₁₀ + M₂₁*M₁₉ + M₂₂*M₂₉ + M₂₆*M₆₉ + M₂₇*M₇₉ + M₃₉*M₂₃ + M₄₉*M₂₄ + M₅₉*M₂₅ + M₈₉*M₂₈ + M₉₉*M₂₉)*(M₁₂*M₇₁ + M₂₂*M₇₂ + M₃₂*M₇₃ + M₄₂*M₇₄ + M₅₂*M₇₅ + M₇₁₀*M₁₀₂ + M₇₂*M₇₇ + M₇₆*M₆₂ + M₈₂*M₇₈ + M₉₂*M₇₉) + (M₁₀₉*M₃₁₀ + M₃₁*M₁₉ + M₃₂*M₂₉ + M₃₃*M₃₉ + M₃₅*M₅₉ + M₃₆*M₆₉ + M₃₇*M₇₉ + M₃₈*M₈₉ + M₄₉*M₃₄ + M₉₉*M₃₉)*(M₁₃*M₇₁ + M₂₃*M₇₂ + M₃₃*M₇₃ + M₄₃*M₇₄ + M₅₃*M₇₅ + M₇₁₀*M₁₀₃ + M₇₃*M₇₇ + M₇₆*M₆₃ + M₈₃*M₇₈ + M₉₃*M₇₉) + (M₁₀₉*M₅₁₀ + M₃₉*M₅₃ + M₄₉*M₅₄ + M₅₁*M₁₉ + M₅₂*M₂₉ + M₅₅*M₅₉ + M₅₆*M₆₉ + M₅₇*M₇₉ + M₈₉*M₅₈ + M₉₉*M₅₉)*(M₁₅*M₇₁ + M₂₅*M₇₂ + M₃₅*M₇₃ + M₄₅*M₇₄ + M₅₅*M₇₅ + M₇₁₀*M₁₀₅ + M₇₆*M₆₅ + M₇₇*M₇₅ + M₈₅*M₇₈ + M₉₅*M₇₉) + (M₁₀₉*M₈₁₀ + M₃₉*M₈₃ + M₄₉*M₈₄ + M₈₁*M₁₉ + M₈₂*M₂₉ + M₈₅*M₅₉ + M₈₆*M₆₉ + M₈₇*M₇₉ + M₈₉*M₈₈ + M₉₉*M₈₉)*(M₁₈*M₇₁ + M₂₈*M₇₂ + M₃₈*M₇₃ + M₄₈*M₇₄ + M₅₈*M₇₅ + M₇₁₀*M₁₀₈ + M₇₆*M₆₈ + M₇₈*M₇₇ + M₈₈*M₇₈ + M₉₈*M₇₉) + (M₁₁*M₁₉ + M₁₁₀*M₁₀₉ + M₁₆*M₆₉ + M₁₇*M₇₉ + M₂₉*M₁₂ + M₃₉*M₁₃ + M₄₉*M₁₄ + M₅₉*M₁₅ + M₈₉*M₁₈ + M₉₉*M₁₉)*(M₁₁*M₇₁ + M₂₁*M₇₂ + M₃₁*M₇₃ + M₄₁*M₇₄ + M₅₁*M₇₅ + M₇₁*M₇₇ + M₇₁₀*M₁₀₁ + M₇₆*M₆₁ + M₈₁*M₇₈ + M₉₁*M₇₉) + (M₁₉*M₆₁ + M₂₉*M₆₂ + M₃₉*M₆₃ + M₄₉*M₆₄ + M₅₉*M₆₅ + M₆₁₀*M₁₀₉ + M₆₉*M₆₆ + M₇₉*M₆₇ + M₈₉*M₆₈ + M₉₉*M₆₉)*(M₁₆*M₇₁ + M₂₆*M₇₂ + M₃₆*M₇₃ + M₄₆*M₇₄ + M₅₆*M₇₅ + M₇₁₀*M₁₀₆ + M₇₆*M₆₆ + M₇₇*M₇₆ + M₈₆*M₇₈ + M₉₆*M₇₉) + (M₉₁*M₁₉ + M₉₁₀*M₁₀₉ + M₉₂*M₂₉ + M₉₃*M₃₉ + M₉₄*M₄₉ + M₉₅*M₅₉ + M₉₆*M₆₉ + M₉₇*M₇₉ + M₉₈*M₈₉ + M₉₉^2)*(M₁₉*M₇₁ + M₂₉*M₇₂ + M₃₉*M₇₃ + M₄₉*M₇₄ + M₅₉*M₇₅ + M₇₁₀*M₁₀₉ + M₇₆*M₆₉ + M₇₇*M₇₉ + M₈₉*M₇₈ + M₉₉*M₇₉) + (M₁₇*M₇₁ + M₂₇*M₇₂ + M₃₇*M₇₃ + M₄₇*M₇₄ + M₅₇*M₇₅ + M₇₁₀*M₁₀₇ + M₇₆*M₆₇ + M₈₇*M₇₈ + M₉₇*M₇₉ + M₇₇^2)*(M₁₉*M₇₁ + M₂₉*M₇₂ + M₃₉*M₇₃ + M₄₉*M₇₄ + M₅₉*M₇₅ + M₇₁₀*M₁₀₉ + M₇₆*M₆₉ + M₇₇*M₇₉ + M₈₉*M₇₈ + M₉₉*M₇₉) + (M₄₁*M₁₉ + M₄₁₀*M₁₀₉ + M₄₂*M₂₉ + M₄₃*M₃₉ + M₄₄*M₄₉ + M₄₅*M₅₉ + M₄₆*M₆₉ + M₄₇*M₇₉ + M₄₈*M₈₉ + M₉₉*M₄₉)*(M₁₄*M₇₁ + M₂₄*M₇₂ + M₃₄*M₇₃ + M₄₄*M₇₄ + M₅₄*M₇₅ + M₇₁₀*M₁₀₄ + M₇₄*M₇₇ + M₇₆*M₆₄ + M₈₄*M₇₈ + M₉₄*M₇₉))*((M₁₀₁*M₂₁₀ + M₂₁*M₁₁ + M₂₂*M₂₁ + M₂₆*M₆₁ + M₂₇*M₇₁ + M₃₁*M₂₃ + M₄₁*M₂₄ + M₅₁*M₂₅ + M₈₁*M₂₈ + M₉₁*M₂₉)*(M₉₁*M₁₂ + M₉₁₀*M₁₀₂ + M₉₂*M₂₂ + M₉₃*M₃₂ + M₉₄*M₄₂ + M₉₅*M₅₂ + M₉₆*M₆₂ + M₉₇*M₇₂ + M₉₈*M₈₂ + M₉₉*M₉₂) + (M₁₀₁*M₃₁₀ + M₃₁*M₁₁ + M₃₁*M₃₃ + M₃₂*M₂₁ + M₃₅*M₅₁ + M₃₆*M₆₁ + M₃₇*M₇₁ + M₃₈*M₈₁ + M₄₁*M₃₄ + M₉₁*M₃₉)*(M₉₁*M₁₃ + M₉₁₀*M₁₀₃ + M₉₂*M₂₃ + M₉₃*M₃₃ + M₉₄*M₄₃ + M₉₅*M₅₃ + M₉₆*M₆₃ + M₉₇*M₇₃ + M₉₈*M₈₃ + M₉₉*M₉₃) + (M₁₀₁*M₅₁₀ + M₃₁*M₅₃ + M₄₁*M₅₄ + M₅₁*M₁₁ + M₅₂*M₂₁ + M₅₅*M₅₁ + M₅₆*M₆₁ + M₅₇*M₇₁ + M₈₁*M₅₈ + M₉₁*M₅₉)*(M₉₁*M₁₅ + M₉₁₀*M₁₀₅ + M₉₂*M₂₅ + M₉₃*M₃₅ + M₉₄*M₄₅ + M₉₅*M₅₅ + M₉₆*M₆₅ + M₉₇*M₇₅ + M₉₈*M₈₅ + M₉₉*M₉₅) + (M₁₀₁*M₈₁₀ + M₃₁*M₈₃ + M₄₁*M₈₄ + M₈₁*M₁₁ + M₈₁*M₈₈ + M₈₂*M₂₁ + M₈₅*M₅₁ + M₈₆*M₆₁ + M₈₇*M₇₁ + M₉₁*M₈₉)*(M₉₁*M₁₈ + M₉₁₀*M₁₀₈ + M₉₂*M₂₈ + M₉₃*M₃₈ + M₉₄*M₄₈ + M₉₅*M₅₈ + M₉₆*M₆₈ + M₉₇*M₇₈ + M₉₈*M₈₈ + M₉₈*M₉₉) + (M₁₁₀*M₁₀₁ + M₁₆*M₆₁ + M₁₇*M₇₁ + M₂₁*M₁₂ + M₃₁*M₁₃ + M₄₁*M₁₄ + M₅₁*M₁₅ + M₈₁*M₁₈ + M₉₁*M₁₉ + M₁₁^2)*(M₉₁*M₁₁ + M₉₁*M₉₉ + M₉₁₀*M₁₀₁ + M₉₂*M₂₁ + M₉₃*M₃₁ + M₉₄*M₄₁ + M₉₅*M₅₁ + M₉₆*M₆₁ + M₉₇*M₇₁ + M₉₈*M₈₁) + (M₁₀₁₀*M₉₁₀ + M₁₁₀*M₉₁ + M₂₁₀*M₉₂ + M₃₁₀*M₉₃ + M₄₁₀*M₉₄ + M₅₁₀*M₉₅ + M₆₁₀*M₉₆ + M₇₁₀*M₉₇ + M₈₁₀*M₉₈ + M₉₁₀*M₉₉)*(M₁₀₁*M₁₁ + M₁₀₁₀*M₁₀₁ + M₁₀₂*M₂₁ + M₁₀₃*M₃₁ + M₁₀₄*M₄₁ + M₁₀₅*M₅₁ + M₁₀₆*M₆₁ + M₁₀₇*M₇₁ + M₁₀₈*M₈₁ + M₁₀₉*M₉₁) + (M₁₁*M₆₁ + M₂₁*M₆₂ + M₃₁*M₆₃ + M₄₁*M₆₄ + M₅₁*M₆₅ + M₆₁*M₆₆ + M₆₁₀*M₁₀₁ + M₇₁*M₆₇ + M₈₁*M₆₈ + M₉₁*M₆₉)*(M₉₁*M₁₆ + M₉₁₀*M₁₀₆ + M₉₂*M₂₆ + M₉₃*M₃₆ + M₉₄*M₄₆ + M₉₅*M₅₆ + M₉₆*M₆₆ + M₉₆*M₉₉ + M₉₇*M₇₆ + M₉₈*M₈₆) + (M₄₁*M₁₁ + M₄₁*M₄₄ + M₄₁₀*M₁₀₁ + M₄₂*M₂₁ + M₄₃*M₃₁ + M₄₅*M₅₁ + M₄₆*M₆₁ + M₄₇*M₇₁ + M₄₈*M₈₁ + M₉₁*M₄₉)*(M₉₁*M₁₄ + M₉₁₀*M₁₀₄ + M₉₂*M₂₄ + M₉₃*M₃₄ + M₉₄*M₄₄ + M₉₅*M₅₄ + M₉₆*M₆₄ + M₉₇*M₇₄ + M₉₈*M₈₄ + M₉₉*M₉₄) + (M₉₁*M₁₇ + M₉₁₀*M₁₀₇ + M₉₂*M₂₇ + M₉₃*M₃₇ + M₉₄*M₄₇ + M₉₅*M₅₇ + M₉₆*M₆₇ + M₉₇*M₇₇ + M₉₇*M₉₉ + M₉₈*M₈₇)*(M₁₁*M₇₁ + M₂₁*M₇₂ + M₃₁*M₇₃ + M₄₁*M₇₄ + M₅₁*M₇₅ + M₇₁*M₇₇ + M₇₁₀*M₁₀₁ + M₇₆*M₆₁ + M₈₁*M₇₈ + M₉₁*M₇₉) + (M₉₁*M₁₉ + M₉₁₀*M₁₀₉ + M₉₂*M₂₉ + M₉₃*M₃₉ + M₉₄*M₄₉ + M₉₅*M₅₉ + M₉₆*M₆₉ + M₉₇*M₇₉ + M₉₈*M₈₉ + M₉₉^2)*(M₉₁*M₁₁ + M₉₁*M₉₉ + M₉₁₀*M₁₀₁ + M₉₂*M₂₁ + M₉₃*M₃₁ + M₉₄*M₄₁ + M₉₅*M₅₁ + M₉₆*M₆₁ + M₉₇*M₇₁ + M₉₈*M₈₁)) + ((M₁₀₁*M₂₁₀ + M₂₁*M₁₁ + M₂₂*M₂₁ + M₂₆*M₆₁ + M₂₇*M₇₁ + M₃₁*M₂₃ + M₄₁*M₂₄ + M₅₁*M₂₅ + M₈₁*M₂₈ + M₉₁*M₂₉)*(M₁₀₂*M₅₁₀ + M₃₂*M₅₃ + M₄₂*M₅₄ + M₅₁*M₁₂ + M₅₂*M₂₂ + M₅₅*M₅₂ + M₅₆*M₆₂ + M₅₇*M₇₂ + M₈₂*M₅₈ + M₉₂*M₅₉) + (M₁₀₁*M₅₁₀ + M₃₁*M₅₃ + M₄₁*M₅₄ + M₅₁*M₁₁ + M₅₂*M₂₁ + M₅₅*M₅₁ + M₅₆*M₆₁ + M₅₇*M₇₁ + M₈₁*M₅₈ + M₉₁*M₅₉)*(M₁₀₅*M₅₁₀ + M₃₅*M₅₃ + M₄₅*M₅₄ + M₅₁*M₁₅ + M₅₂*M₂₅ + M₅₆*M₆₅ + M₅₇*M₇₅ + M₈₅*M₅₈ + M₉₅*M₅₉ + M₅₅^2) + (M₁₀₁*M₅₁₀ + M₃₁*M₅₃ + M₄₁*M₅₄ + M₅₁*M₁₁ + M₅₂*M₂₁ + M₅₅*M₅₁ + M₅₆*M₆₁ + M₅₇*M₇₁ + M₈₁*M₅₈ + M₉₁*M₅₉)*(M₁₁₀*M₁₀₁ + M₁₆*M₆₁ + M₁₇*M₇₁ + M₂₁*M₁₂ + M₃₁*M₁₃ + M₄₁*M₁₄ + M₅₁*M₁₅ + M₈₁*M₁₈ + M₉₁*M₁₉ + M₁₁^2) + (M₁₀₃*M₅₁₀ + M₃₃*M₅₃ + M₄₃*M₅₄ + M₅₁*M₁₃ + M₅₂*M₂₃ + M₅₅*M₅₃ + M₅₆*M₆₃ + M₅₇*M₇₃ + M₈₃*M₅₈ + M₉₃*M₅₉)*(M₁₀₁*M₃₁₀ + M₃₁*M₁₁ + M₃₁*M₃₃ + M₃₂*M₂₁ + M₃₅*M₅₁ + M₃₆*M₆₁ + M₃₇*M₇₁ + M₃₈*M₈₁ + M₄₁*M₃₄ + M₉₁*M₃₉) + (M₁₀₇*M₅₁₀ + M₃₇*M₅₃ + M₄₇*M₅₄ + M₅₁*M₁₇ + M₅₂*M₂₇ + M₅₅*M₅₇ + M₅₆*M₆₇ + M₅₇*M₇₇ + M₈₇*M₅₈ + M₉₇*M₅₉)*(M₁₁*M₇₁ + M₂₁*M₇₂ + M₃₁*M₇₃ + M₄₁*M₇₄ + M₅₁*M₇₅ + M₇₁*M₇₇ + M₇₁₀*M₁₀₁ + M₇₆*M₆₁ + M₈₁*M₇₈ + M₉₁*M₇₉) + (M₁₀₈*M₅₁₀ + M₃₈*M₅₃ + M₄₈*M₅₄ + M₅₁*M₁₈ + M₅₂*M₂₈ + M₅₅*M₅₈ + M₅₆*M₆₈ + M₅₇*M₇₈ + M₈₈*M₅₈ + M₉₈*M₅₉)*(M₁₀₁*M₈₁₀ + M₃₁*M₈₃ + M₄₁*M₈₄ + M₈₁*M₁₁ + M₈₁*M₈₈ + M₈₂*M₂₁ + M₈₅*M₅₁ + M₈₆*M₆₁ + M₈₇*M₇₁ + M₉₁*M₈₉) + (M₁₀₉*M₅₁₀ + M₃₉*M₅₃ + M₄₉*M₅₄ + M₅₁*M₁₉ + M₅₂*M₂₉ + M₅₅*M₅₉ + M₅₆*M₆₉ + M₅₇*M₇₉ + M₈₉*M₅₈ + M₉₉*M₅₉)*(M₉₁*M₁₁ + M₉₁*M₉₉ + M₉₁₀*M₁₀₁ + M₉₂*M₂₁ + M₉₃*M₃₁ + M₉₄*M₄₁ + M₉₅*M₅₁ + M₉₆*M₆₁ + M₉₇*M₇₁ + M₉₈*M₈₁) + (M₁₀₁₀*M₅₁₀ + M₁₁₀*M₅₁ + M₂₁₀*M₅₂ + M₃₁₀*M₅₃ + M₄₁₀*M₅₄ + M₅₁₀*M₅₅ + M₆₁₀*M₅₆ + M₇₁₀*M₅₇ + M₈₁₀*M₅₈ + M₉₁₀*M₅₉)*(M₁₀₁*M₁₁ + M₁₀₁₀*M₁₀₁ + M₁₀₂*M₂₁ + M₁₀₃*M₃₁ + M₁₀₄*M₄₁ + M₁₀₅*M₅₁ + M₁₀₆*M₆₁ + M₁₀₇*M₇₁ + M₁₀₈*M₈₁ + M₁₀₉*M₉₁) + (M₁₁*M₆₁ + M₂₁*M₆₂ + M₃₁*M₆₃ + M₄₁*M₆₄ + M₅₁*M₆₅ + M₆₁*M₆₆ + M₆₁₀*M₁₀₁ + M₇₁*M₆₇ + M₈₁*M₆₈ + M₉₁*M₆₉)*(M₁₀₆*M₅₁₀ + M₃₆*M₅₃ + M₄₆*M₅₄ + M₅₁*M₁₆ + M₅₂*M₂₆ + M₅₆*M₅₅ + M₅₆*M₆₆ + M₅₇*M₇₆ + M₈₆*M₅₈ + M₉₆*M₅₉) + (M₄₁*M₁₁ + M₄₁*M₄₄ + M₄₁₀*M₁₀₁ + M₄₂*M₂₁ + M₄₃*M₃₁ + M₄₅*M₅₁ + M₄₆*M₆₁ + M₄₇*M₇₁ + M₄₈*M₈₁ + M₉₁*M₄₉)*(M₁₀₄*M₅₁₀ + M₃₄*M₅₃ + M₄₄*M₅₄ + M₅₁*M₁₄ + M₅₂*M₂₄ + M₅₅*M₅₄ + M₅₆*M₆₄ + M₅₇*M₇₄ + M₈₄*M₅₈ + M₉₄*M₅₉))*((M₁₀₅*M₂₁₀ + M₂₁*M₁₅ + M₂₂*M₂₅ + M₂₆*M₆₅ + M₂₇*M₇₅ + M₃₅*M₂₃ + M₄₅*M₂₄ + M₅₅*M₂₅ + M₈₅*M₂₈ + M₉₅*M₂₉)*(M₁₂*M₇₁ + M₂₂*M₇₂ + M₃₂*M₇₃ + M₄₂*M₇₄ + M₅₂*M₇₅ + M₇₁₀*M₁₀₂ + M₇₂*M₇₇ + M₇₆*M₆₂ + M₈₂*M₇₈ + M₉₂*M₇₉) + (M₁₀₅*M₃₁₀ + M₃₁*M₁₅ + M₃₂*M₂₅ + M₃₅*M₃₃ + M₃₅*M₅₅ + M₃₆*M₆₅ + M₃₇*M₇₅ + M₃₈*M₈₅ + M₄₅*M₃₄ + M₉₅*M₃₉)*(M₁₃*M₇₁ + M₂₃*M₇₂ + M₃₃*M₇₃ + M₄₃*M₇₄ + M₅₃*M₇₅ + M₇₁₀*M₁₀₃ + M₇₃*M₇₇ + M₇₆*M₆₃ + M₈₃*M₇₈ + M₉₃*M₇₉) + (M₁₀₅*M₅₁₀ + M₃₅*M₅₃ + M₄₅*M₅₄ + M₅₁*M₁₅ + M₅₂*M₂₅ + M₅₆*M₆₅ + M₅₇*M₇₅ + M₈₅*M₅₈ + M₉₅*M₅₉ + M₅₅^2)*(M₁₅*M₇₁ + M₂₅*M₇₂ + M₃₅*M₇₃ + M₄₅*M₇₄ + M₅₅*M₇₅ + M₇₁₀*M₁₀₅ + M₇₆*M₆₅ + M₇₇*M₇₅ + M₈₅*M₇₈ + M₉₅*M₇₉) + (M₁₀₁*M₁₅ + M₁₀₁₀*M₁₀₅ + M₁₀₂*M₂₅ + M₁₀₃*M₃₅ + M₁₀₄*M₄₅ + M₁₀₅*M₅₅ + M₁₀₆*M₆₅ + M₁₀₇*M₇₅ + M₁₀₈*M₈₅ + M₁₀₉*M₉₅)*(M₁₀₁₀*M₇₁₀ + M₁₁₀*M₇₁ + M₂₁₀*M₇₂ + M₃₁₀*M₇₃ + M₄₁₀*M₇₄ + M₅₁₀*M₇₅ + M₆₁₀*M₇₆ + M₇₁₀*M₇₇ + M₈₁₀*M₇₈ + M₉₁₀*M₇₉) + (M₁₀₅*M₈₁₀ + M₃₅*M₈₃ + M₄₅*M₈₄ + M₈₁*M₁₅ + M₈₂*M₂₅ + M₈₅*M₅₅ + M₈₆*M₆₅ + M₈₇*M₇₅ + M₈₈*M₈₅ + M₉₅*M₈₉)*(M₁₈*M₇₁ + M₂₈*M₇₂ + M₃₈*M₇₃ + M₄₈*M₇₄ + M₅₈*M₇₅ + M₇₁₀*M₁₀₈ + M₇₆*M₆₈ + M₇₈*M₇₇ + M₈₈*M₇₈ + M₉₈*M₇₉) + (M₁₁*M₁₅ + M₁₁₀*M₁₀₅ + M₁₆*M₆₅ + M₁₇*M₇₅ + M₂₅*M₁₂ + M₃₅*M₁₃ + M₄₅*M₁₄ + M₅₅*M₁₅ + M₈₅*M₁₈ + M₉₅*M₁₉)*(M₁₁*M₇₁ + M₂₁*M₇₂ + M₃₁*M₇₃ + M₄₁*M₇₄ + M₅₁*M₇₅ + M₇₁*M₇₇ + M₇₁₀*M₁₀₁ + M₇₆*M₆₁ + M₈₁*M₇₈ + M₉₁*M₇₉) + (M₁₅*M₆₁ + M₂₅*M₆₂ + M₃₅*M₆₃ + M₄₅*M₆₄ + M₅₅*M₆₅ + M₆₁₀*M₁₀₅ + M₆₅*M₆₆ + M₇₅*M₆₇ + M₈₅*M₆₈ + M₉₅*M₆₉)*(M₁₆*M₇₁ + M₂₆*M₇₂ + M₃₆*M₇₃ + M₄₆*M₇₄ + M₅₆*M₇₅ + M₇₁₀*M₁₀₆ + M₇₆*M₆₆ + M₇₇*M₇₆ + M₈₆*M₇₈ + M₉₆*M₇₉) + (M₉₁*M₁₅ + M₉₁₀*M₁₀₅ + M₉₂*M₂₅ + M₉₃*M₃₅ + M₉₄*M₄₅ + M₉₅*M₅₅ + M₉₆*M₆₅ + M₉₇*M₇₅ + M₉₈*M₈₅ + M₉₉*M₉₅)*(M₁₉*M₇₁ + M₂₉*M₇₂ + M₃₉*M₇₃ + M₄₉*M₇₄ + M₅₉*M₇₅ + M₇₁₀*M₁₀₉ + M₇₆*M₆₉ + M₇₇*M₇₉ + M₈₉*M₇₈ + M₉₉*M₇₉) + (M₄₁*M₁₅ + M₄₁₀*M₁₀₅ + M₄₂*M₂₅ + M₄₃*M₃₅ + M₄₅*M₄₄ + M₄₅*M₅₅ + M₄₆*M₆₅ + M₄₇*M₇₅ + M₄₈*M₈₅ + M₉₅*M₄₉)*(M₁₄*M₇₁ + M₂₄*M₇₂ + M₃₄*M₇₃ + M₄₄*M₇₄ + M₅₄*M₇₅ + M₇₁₀*M₁₀₄ + M₇₄*M₇₇ + M₇₆*M₆₄ + M₈₄*M₇₈ + M₉₄*M₇₉) + (M₁₇*M₇₁ + M₂₇*M₇₂ + M₃₇*M₇₃ + M₄₇*M₇₄ + M₅₇*M₇₅ + M₇₁₀*M₁₀₇ + M₇₆*M₆₇ + M₈₇*M₇₈ + M₉₇*M₇₉ + M₇₇^2)*(M₁₅*M₇₁ + M₂₅*M₇₂ + M₃₅*M₇₃ + M₄₅*M₇₄ + M₅₅*M₇₅ + M₇₁₀*M₁₀₅ + M₇₆*M₆₅ + M₇₇*M₇₅ + M₈₅*M₇₈ + M₉₅*M₇₉)) + ((M₁₀₁₀*M₆₁₀ + M₁₁₀*M₆₁ + M₂₁₀*M₆₂ + M₃₁₀*M₆₃ + M₄₁₀*M₆₄ + M₅₁₀*M₆₅ + M₆₁₀*M₆₆ + M₇₁₀*M₆₇ + M₈₁₀*M₆₈ + M₉₁₀*M₆₉)*(M₁₀₁*M₁₁ + M₁₀₁₀*M₁₀₁ + M₁₀₂*M₂₁ + M₁₀₃*M₃₁ + M₁₀₄*M₄₁ + M₁₀₅*M₅₁ + M₁₀₆*M₆₁ + M₁₀₇*M₇₁ + M₁₀₈*M₈₁ + M₁₀₉*M₉₁) + (M₁₁*M₆₁ + M₂₁*M₆₂ + M₃₁*M₆₃ + M₄₁*M₆₄ + M₅₁*M₆₅ + M₆₁*M₆₆ + M₆₁₀*M₁₀₁ + M₇₁*M₆₇ + M₈₁*M₆₈ + M₉₁*M₆₉)*(M₁₁₀*M₁₀₁ + M₁₆*M₆₁ + M₁₇*M₇₁ + M₂₁*M₁₂ + M₃₁*M₁₃ + M₄₁*M₁₄ + M₅₁*M₁₅ + M₈₁*M₁₈ + M₉₁*M₁₉ + M₁₁^2) + (M₁₁*M₆₁ + M₂₁*M₆₂ + M₃₁*M₆₃ + M₄₁*M₆₄ + M₅₁*M₆₅ + M₆₁*M₆₆ + M₆₁₀*M₁₀₁ + M₇₁*M₆₇ + M₈₁*M₆₈ + M₉₁*M₆₉)*(M₁₆*M₆₁ + M₂₆*M₆₂ + M₃₆*M₆₃ + M₄₆*M₆₄ + M₅₆*M₆₅ + M₆₁₀*M₁₀₆ + M₇₆*M₆₇ + M₈₆*M₆₈ + M₉₆*M₆₉ + M₆₆^2) + (M₁₂*M₆₁ + M₂₂*M₆₂ + M₃₂*M₆₃ + M₄₂*M₆₄ + M₅₂*M₆₅ + M₆₁₀*M₁₀₂ + M₆₂*M₆₆ + M₇₂*M₆₇ + M₈₂*M₆₈ + M₉₂*M₆₉)*(M₁₀₁*M₂₁₀ + M₂₁*M₁₁ + M₂₂*M₂₁ + M₂₆*M₆₁ + M₂₇*M₇₁ + M₃₁*M₂₃ + M₄₁*M₂₄ + M₅₁*M₂₅ + M₈₁*M₂₈ + M₉₁*M₂₉) + (M₁₃*M₆₁ + M₂₃*M₆₂ + M₃₃*M₆₃ + M₄₃*M₆₄ + M₅₃*M₆₅ + M₆₁₀*M₁₀₃ + M₆₃*M₆₆ + M₇₃*M₆₇ + M₈₃*M₆₈ + M₉₃*M₆₉)*(M₁₀₁*M₃₁₀ + M₃₁*M₁₁ + M₃₁*M₃₃ + M₃₂*M₂₁ + M₃₅*M₅₁ + M₃₆*M₆₁ + M₃₇*M₇₁ + M₃₈*M₈₁ + M₄₁*M₃₄ + M₉₁*M₃₉) + (M₁₄*M₆₁ + M₂₄*M₆₂ + M₃₄*M₆₃ + M₄₄*M₆₄ + M₅₄*M₆₅ + M₆₁₀*M₁₀₄ + M₆₄*M₆₆ + M₇₄*M₆₇ + M₈₄*M₆₈ + M₉₄*M₆₉)*(M₄₁*M₁₁ + M₄₁*M₄₄ + M₄₁₀*M₁₀₁ + M₄₂*M₂₁ + M₄₃*M₃₁ + M₄₅*M₅₁ + M₄₆*M₆₁ + M₄₇*M₇₁ + M₄₈*M₈₁ + M₉₁*M₄₉) + (M₁₅*M₆₁ + M₂₅*M₆₂ + M₃₅*M₆₃ + M₄₅*M₆₄ + M₅₅*M₆₅ + M₆₁₀*M₁₀₅ + M₆₅*M₆₆ + M₇₅*M₆₇ + M₈₅*M₆₈ + M₉₅*M₆₉)*(M₁₀₁*M₅₁₀ + M₃₁*M₅₃ + M₄₁*M₅₄ + M₅₁*M₁₁ + M₅₂*M₂₁ + M₅₅*M₅₁ + M₅₆*M₆₁ + M₅₇*M₇₁ + M₈₁*M₅₈ + M₉₁*M₅₉) + (M₁₇*M₆₁ + M₂₇*M₆₂ + M₃₇*M₆₃ + M₄₇*M₆₄ + M₅₇*M₆₅ + M₆₁₀*M₁₀₇ + M₆₆*M₆₇ + M₇₇*M₆₇ + M₈₇*M₆₈ + M₉₇*M₆₉)*(M₁₁*M₇₁ + M₂₁*M₇₂ + M₃₁*M₇₃ + M₄₁*M₇₄ + M₅₁*M₇₅ + M₇₁*M₇₇ + M₇₁₀*M₁₀₁ + M₇₆*M₆₁ + M₈₁*M₇₈ + M₉₁*M₇₉) + (M₁₈*M₆₁ + M₂₈*M₆₂ + M₃₈*M₆₃ + M₄₈*M₆₄ + M₅₈*M₆₅ + M₆₁₀*M₁₀₈ + M₆₆*M₆₈ + M₇₈*M₆₇ + M₈₈*M₆₈ + M₉₈*M₆₉)*(M₁₀₁*M₈₁₀ + M₃₁*M₈₃ + M₄₁*M₈₄ + M₈₁*M₁₁ + M₈₁*M₈₈ + M₈₂*M₂₁ + M₈₅*M₅₁ + M₈₆*M₆₁ + M₈₇*M₇₁ + M₉₁*M₈₉) + (M₁₉*M₆₁ + M₂₉*M₆₂ + M₃₉*M₆₃ + M₄₉*M₆₄ + M₅₉*M₆₅ + M₆₁₀*M₁₀₉ + M₆₉*M₆₆ + M₇₉*M₆₇ + M₈₉*M₆₈ + M₉₉*M₆₉)*(M₉₁*M₁₁ + M₉₁*M₉₉ + M₉₁₀*M₁₀₁ + M₉₂*M₂₁ + M₉₃*M₃₁ + M₉₄*M₄₁ + M₉₅*M₅₁ + M₉₆*M₆₁ + M₉₇*M₇₁ + M₉₈*M₈₁))*((M₁₀₁*M₁₆ + M₁₀₁₀*M₁₀₆ + M₁₀₂*M₂₆ + M₁₀₃*M₃₆ + M₁₀₄*M₄₆ + M₁₀₅*M₅₆ + M₁₀₆*M₆₆ + M₁₀₇*M₇₆ + M₁₀₈*M₈₆ + M₁₀₉*M₉₆)*(M₁₀₁₀*M₇₁₀ + M₁₁₀*M₇₁ + M₂₁₀*M₇₂ + M₃₁₀*M₇₃ + M₄₁₀*M₇₄ + M₅₁₀*M₇₅ + M₆₁₀*M₇₆ + M₇₁₀*M₇₇ + M₈₁₀*M₇₈ + M₉₁₀*M₇₉) + (M₁₀₆*M₂₁₀ + M₂₁*M₁₆ + M₂₂*M₂₆ + M₂₆*M₆₆ + M₂₇*M₇₆ + M₃₆*M₂₃ + M₄₆*M₂₄ + M₅₆*M₂₅ + M₈₆*M₂₈ + M₉₆*M₂₉)*(M₁₂*M₇₁ + M₂₂*M₇₂ + M₃₂*M₇₃ + M₄₂*M₇₄ + M₅₂*M₇₅ + M₇₁₀*M₁₀₂ + M₇₂*M₇₇ + M₇₆*M₆₂ + M₈₂*M₇₈ + M₉₂*M₇₉) + (M₁₀₆*M₃₁₀ + M₃₁*M₁₆ + M₃₂*M₂₆ + M₃₅*M₅₆ + M₃₆*M₃₃ + M₃₆*M₆₆ + M₃₇*M₇₆ + M₃₈*M₈₆ + M₄₆*M₃₄ + M₉₆*M₃₉)*(M₁₃*M₇₁ + M₂₃*M₇₂ + M₃₃*M₇₃ + M₄₃*M₇₄ + M₅₃*M₇₅ + M₇₁₀*M₁₀₃ + M₇₃*M₇₇ + M₇₆*M₆₃ + M₈₃*M₇₈ + M₉₃*M₇₉) + (M₁₀₆*M₅₁₀ + M₃₆*M₅₃ + M₄₆*M₅₄ + M₅₁*M₁₆ + M₅₂*M₂₆ + M₅₆*M₅₅ + M₅₆*M₆₆ + M₅₇*M₇₆ + M₈₆*M₅₈ + M₉₆*M₅₉)*(M₁₅*M₇₁ + M₂₅*M₇₂ + M₃₅*M₇₃ + M₄₅*M₇₄ + M₅₅*M₇₅ + M₇₁₀*M₁₀₅ + M₇₆*M₆₅ + M₇₇*M₇₅ + M₈₅*M₇₈ + M₉₅*M₇₉) + (M₁₀₆*M₈₁₀ + M₃₆*M₈₃ + M₄₆*M₈₄ + M₈₁*M₁₆ + M₈₂*M₂₆ + M₈₅*M₅₆ + M₈₆*M₆₆ + M₈₇*M₇₆ + M₈₈*M₈₆ + M₉₆*M₈₉)*(M₁₈*M₇₁ + M₂₈*M₇₂ + M₃₈*M₇₃ + M₄₈*M₇₄ + M₅₈*M₇₅ + M₇₁₀*M₁₀₈ + M₇₆*M₆₈ + M₇₈*M₇₇ + M₈₈*M₇₈ + M₉₈*M₇₉) + (M₁₁*M₁₆ + M₁₁₀*M₁₀₆ + M₁₆*M₆₆ + M₁₇*M₇₆ + M₂₆*M₁₂ + M₃₆*M₁₃ + M₄₆*M₁₄ + M₅₆*M₁₅ + M₈₆*M₁₈ + M₉₆*M₁₉)*(M₁₁*M₇₁ + M₂₁*M₇₂ + M₃₁*M₇₃ + M₄₁*M₇₄ + M₅₁*M₇₅ + M₇₁*M₇₇ + M₇₁₀*M₁₀₁ + M₇₆*M₆₁ + M₈₁*M₇₈ + M₉₁*M₇₉) + (M₁₆*M₆₁ + M₂₆*M₆₂ + M₃₆*M₆₃ + M₄₆*M₆₄ + M₅₆*M₆₅ + M₆₁₀*M₁₀₆ + M₇₆*M₆₇ + M₈₆*M₆₈ + M₉₆*M₆₉ + M₆₆^2)*(M₁₆*M₇₁ + M₂₆*M₇₂ + M₃₆*M₇₃ + M₄₆*M₇₄ + M₅₆*M₇₅ + M₇₁₀*M₁₀₆ + M₇₆*M₆₆ + M₇₇*M₇₆ + M₈₆*M₇₈ + M₉₆*M₇₉) + (M₉₁*M₁₆ + M₉₁₀*M₁₀₆ + M₉₂*M₂₆ + M₉₃*M₃₆ + M₉₄*M₄₆ + M₉₅*M₅₆ + M₉₆*M₆₆ + M₉₆*M₉₉ + M₉₇*M₇₆ + M₉₈*M₈₆)*(M₁₉*M₇₁ + M₂₉*M₇₂ + M₃₉*M₇₃ + M₄₉*M₇₄ + M₅₉*M₇₅ + M₇₁₀*M₁₀₉ + M₇₆*M₆₉ + M₇₇*M₇₉ + M₈₉*M₇₈ + M₉₉*M₇₉) + (M₄₁*M₁₆ + M₄₁₀*M₁₀₆ + M₄₂*M₂₆ + M₄₃*M₃₆ + M₄₅*M₅₆ + M₄₆*M₄₄ + M₄₆*M₆₆ + M₄₇*M₇₆ + M₄₈*M₈₆ + M₉₆*M₄₉)*(M₁₄*M₇₁ + M₂₄*M₇₂ + M₃₄*M₇₃ + M₄₄*M₇₄ + M₅₄*M₇₅ + M₇₁₀*M₁₀₄ + M₇₄*M₇₇ + M₇₆*M₆₄ + M₈₄*M₇₈ + M₉₄*M₇₉) + (M₁₇*M₇₁ + M₂₇*M₇₂ + M₃₇*M₇₃ + M₄₇*M₇₄ + M₅₇*M₇₅ + M₇₁₀*M₁₀₇ + M₇₆*M₆₇ + M₈₇*M₇₈ + M₉₇*M₇₉ + M₇₇^2)*(M₁₆*M₇₁ + M₂₆*M₇₂ + M₃₆*M₇₃ + M₄₆*M₇₄ + M₅₆*M₇₅ + M₇₁₀*M₁₀₆ + M₇₆*M₆₆ + M₇₇*M₇₆ + M₈₆*M₇₈ + M₉₆*M₇₉)) + ((M₁₀₁*M₂₁₀ + M₂₁*M₁₁ + M₂₂*M₂₁ + M₂₆*M₆₁ + M₂₇*M₇₁ + M₃₁*M₂₃ + M₄₁*M₂₄ + M₅₁*M₂₅ + M₈₁*M₂₈ + M₉₁*M₂₉)*(M₁₀₁*M₁₂ + M₁₀₁₀*M₁₀₂ + M₁₀₂*M₂₂ + M₁₀₃*M₃₂ + M₁₀₄*M₄₂ + M₁₀₅*M₅₂ + M₁₀₆*M₆₂ + M₁₀₇*M₇₂ + M₁₀₈*M₈₂ + M₁₀₉*M₉₂) + (M₁₀₁*M₃₁₀ + M₃₁*M₁₁ + M₃₁*M₃₃ + M₃₂*M₂₁ + M₃₅*M₅₁ + M₃₆*M₆₁ + M₃₇*M₇₁ + M₃₈*M₈₁ + M₄₁*M₃₄ + M₉₁*M₃₉)*(M₁₀₁*M₁₃ + M₁₀₁₀*M₁₀₃ + M₁₀₂*M₂₃ + M₁₀₃*M₃₃ + M₁₀₄*M₄₃ + M₁₀₅*M₅₃ + M₁₀₆*M₆₃ + M₁₀₇*M₇₃ + M₁₀₈*M₈₃ + M₁₀₉*M₉₃) + (M₁₀₁*M₅₁₀ + M₃₁*M₅₃ + M₄₁*M₅₄ + M₅₁*M₁₁ + M₅₂*M₂₁ + M₅₅*M₅₁ + M₅₆*M₆₁ + M₅₇*M₇₁ + M₈₁*M₅₈ + M₉₁*M₅₉)*(M₁₀₁*M₁₅ + M₁₀₁₀*M₁₀₅ + M₁₀₂*M₂₅ + M₁₀₃*M₃₅ + M₁₀₄*M₄₅ + M₁₀₅*M₅₅ + M₁₀₆*M₆₅ + M₁₀₇*M₇₅ + M₁₀₈*M₈₅ + M₁₀₉*M₉₅) + (M₁₀₁*M₈₁₀ + M₃₁*M₈₃ + M₄₁*M₈₄ + M₈₁*M₁₁ + M₈₁*M₈₈ + M₈₂*M₂₁ + M₈₅*M₅₁ + M₈₆*M₆₁ + M₈₇*M₇₁ + M₉₁*M₈₉)*(M₁₀₁*M₁₈ + M₁₀₁₀*M₁₀₈ + M₁₀₂*M₂₈ + M₁₀₃*M₃₈ + M₁₀₄*M₄₈ + M₁₀₅*M₅₈ + M₁₀₆*M₆₈ + M₁₀₇*M₇₈ + M₁₀₈*M₈₈ + M₁₀₉*M₉₈) + (M₁₁₀*M₁₀₁ + M₁₆*M₆₁ + M₁₇*M₇₁ + M₂₁*M₁₂ + M₃₁*M₁₃ + M₄₁*M₁₄ + M₅₁*M₁₅ + M₈₁*M₁₈ + M₉₁*M₁₉ + M₁₁^2)*(M₁₀₁*M₁₁ + M₁₀₁₀*M₁₀₁ + M₁₀₂*M₂₁ + M₁₀₃*M₃₁ + M₁₀₄*M₄₁ + M₁₀₅*M₅₁ + M₁₀₆*M₆₁ + M₁₀₇*M₇₁ + M₁₀₈*M₈₁ + M₁₀₉*M₉₁) + (M₁₁*M₆₁ + M₂₁*M₆₂ + M₃₁*M₆₃ + M₄₁*M₆₄ + M₅₁*M₆₅ + M₆₁*M₆₆ + M₆₁₀*M₁₀₁ + M₇₁*M₆₇ + M₈₁*M₆₈ + M₉₁*M₆₉)*(M₁₀₁*M₁₆ + M₁₀₁₀*M₁₀₆ + M₁₀₂*M₂₆ + M₁₀₃*M₃₆ + M₁₀₄*M₄₆ + M₁₀₅*M₅₆ + M₁₀₆*M₆₆ + M₁₀₇*M₇₆ + M₁₀₈*M₈₆ + M₁₀₉*M₉₆) + (M₁₀₂*M₂₁₀ + M₁₀₃*M₃₁₀ + M₁₀₅*M₅₁₀ + M₁₀₈*M₈₁₀ + M₁₁₀*M₁₀₁ + M₄₁₀*M₁₀₄ + M₆₁₀*M₁₀₆ + M₇₁₀*M₁₀₇ + M₉₁₀*M₁₀₉ + M₁₀₁₀^2)*(M₁₀₁*M₁₁ + M₁₀₁₀*M₁₀₁ + M₁₀₂*M₂₁ + M₁₀₃*M₃₁ + M₁₀₄*M₄₁ + M₁₀₅*M₅₁ + M₁₀₆*M₆₁ + M₁₀₇*M₇₁ + M₁₀₈*M₈₁ + M₁₀₉*M₉₁) + (M₄₁*M₁₁ + M₄₁*M₄₄ + M₄₁₀*M₁₀₁ + M₄₂*M₂₁ + M₄₃*M₃₁ + M₄₅*M₅₁ + M₄₆*M₆₁ + M₄₇*M₇₁ + M₄₈*M₈₁ + M₉₁*M₄₉)*(M₁₀₁*M₁₄ + M₁₀₁₀*M₁₀₄ + M₁₀₂*M₂₄ + M₁₀₃*M₃₄ + M₁₀₄*M₄₄ + M₁₀₅*M₅₄ + M₁₀₆*M₆₄ + M₁₀₇*M₇₄ + M₁₀₈*M₈₄ + M₁₀₉*M₉₄) + (M₁₁*M₇₁ + M₂₁*M₇₂ + M₃₁*M₇₃ + M₄₁*M₇₄ + M₅₁*M₇₅ + M₇₁*M₇₇ + M₇₁₀*M₁₀₁ + M₇₆*M₆₁ + M₈₁*M₇₈ + M₉₁*M₇₉)*(M₁₀₁*M₁₇ + M₁₀₁₀*M₁₀₇ + M₁₀₂*M₂₇ + M₁₀₃*M₃₇ + M₁₀₄*M₄₇ + M₁₀₅*M₅₇ + M₁₀₆*M₆₇ + M₁₀₇*M₇₇ + M₁₀₈*M₈₇ + M₁₀₉*M₉₇) + (M₉₁*M₁₁ + M₉₁*M₉₉ + M₉₁₀*M₁₀₁ + M₉₂*M₂₁ + M₉₃*M₃₁ + M₉₄*M₄₁ + M₉₅*M₅₁ + M₉₆*M₆₁ + M₉₇*M₇₁ + M₉₈*M₈₁)*(M₁₀₁*M₁₉ + M₁₀₁₀*M₁₀₉ + M₁₀₂*M₂₉ + M₁₀₃*M₃₉ + M₁₀₄*M₄₉ + M₁₀₅*M₅₉ + M₁₀₆*M₆₉ + M₁₀₇*M₇₉ + M₁₀₈*M₈₉ + M₁₀₉*M₉₉))*((M₁₀₁₀*M₁₁₀ + M₁₁₀*M₁₁ + M₂₁₀*M₁₂ + M₃₁₀*M₁₃ + M₄₁₀*M₁₄ + M₅₁₀*M₁₅ + M₆₁₀*M₁₆ + M₇₁₀*M₁₇ + M₈₁₀*M₁₈ + M₉₁₀*M₁₉)*(M₁₁*M₇₁ + M₂₁*M₇₂ + M₃₁*M₇₃ + M₄₁*M₇₄ + M₅₁*M₇₅ + M₇₁*M₇₇ + M₇₁₀*M₁₀₁ + M₇₆*M₆₁ + M₈₁*M₇₈ + M₉₁*M₇₉) + (M₁₀₁₀*M₂₁₀ + M₁₁₀*M₂₁ + M₂₁₀*M₂₂ + M₃₁₀*M₂₃ + M₄₁₀*M₂₄ + M₅₁₀*M₂₅ + M₆₁₀*M₂₆ + M₇₁₀*M₂₇ + M₈₁₀*M₂₈ + M₉₁₀*M₂₉)*(M₁₂*M₇₁ + M₂₂*M₇₂ + M₃₂*M₇₃ + M₄₂*M₇₄ + M₅₂*M₇₅ + M₇₁₀*M₁₀₂ + M₇₂*M₇₇ + M₇₆*M₆₂ + M₈₂*M₇₈ + M₉₂*M₇₉) + (M₁₀₁₀*M₃₁₀ + M₁₁₀*M₃₁ + M₂₁₀*M₃₂ + M₃₁₀*M₃₃ + M₄₁₀*M₃₄ + M₅₁₀*M₃₅ + M₆₁₀*M₃₆ + M₇₁₀*M₃₇ + M₈₁₀*M₃₈ + M₉₁₀*M₃₉)*(M₁₃*M₇₁ + M₂₃*M₇₂ + M₃₃*M₇₃ + M₄₃*M₇₄ + M₅₃*M₇₅ + M₇₁₀*M₁₀₃ + M₇₃*M₇₇ + M₇₆*M₆₃ + M₈₃*M₇₈ + M₉₃*M₇₉) + (M₁₀₁₀*M₅₁₀ + M₁₁₀*M₅₁ + M₂₁₀*M₅₂ + M₃₁₀*M₅₃ + M₄₁₀*M₅₄ + M₅₁₀*M₅₅ + M₆₁₀*M₅₆ + M₇₁₀*M₅₇ + M₈₁₀*M₅₈ + M₉₁₀*M₅₉)*(M₁₅*M₇₁ + M₂₅*M₇₂ + M₃₅*M₇₃ + M₄₅*M₇₄ + M₅₅*M₇₅ + M₇₁₀*M₁₀₅ + M₇₆*M₆₅ + M₇₇*M₇₅ + M₈₅*M₇₈ + M₉₅*M₇₉) + (M₁₀₁₀*M₆₁₀ + M₁₁₀*M₆₁ + M₂₁₀*M₆₂ + M₃₁₀*M₆₃ + M₄₁₀*M₆₄ + M₅₁₀*M₆₅ + M₆₁₀*M₆₆ + M₇₁₀*M₆₇ + M₈₁₀*M₆₈ + M₉₁₀*M₆₉)*(M₁₆*M₇₁ + M₂₆*M₇₂ + M₃₆*M₇₃ + M₄₆*M₇₄ + M₅₆*M₇₅ + M₇₁₀*M₁₀₆ + M₇₆*M₆₆ + M₇₇*M₇₆ + M₈₆*M₇₈ + M₉₆*M₇₉) + (M₁₀₁₀*M₈₁₀ + M₁₁₀*M₈₁ + M₂₁₀*M₈₂ + M₃₁₀*M₈₃ + M₄₁₀*M₈₄ + M₅₁₀*M₈₅ + M₆₁₀*M₈₆ + M₇₁₀*M₈₇ + M₈₁₀*M₈₈ + M₉₁₀*M₈₉)*(M₁₈*M₇₁ + M₂₈*M₇₂ + M₃₈*M₇₃ + M₄₈*M₇₄ + M₅₈*M₇₅ + M₇₁₀*M₁₀₈ + M₇₆*M₆₈ + M₇₈*M₇₇ + M₈₈*M₇₈ + M₉₈*M₇₉) + (M₁₀₁₀*M₉₁₀ + M₁₁₀*M₉₁ + M₂₁₀*M₉₂ + M₃₁₀*M₉₃ + M₄₁₀*M₉₄ + M₅₁₀*M₉₅ + M₆₁₀*M₉₆ + M₇₁₀*M₉₇ + M₈₁₀*M₉₈ + M₉₁₀*M₉₉)*(M₁₉*M₇₁ + M₂₉*M₇₂ + M₃₉*M₇₃ + M₄₉*M₇₄ + M₅₉*M₇₅ + M₇₁₀*M₁₀₉ + M₇₆*M₆₉ + M₇₇*M₇₉ + M₈₉*M₇₈ + M₉₉*M₇₉) + (M₁₀₂*M₂₁₀ + M₁₀₃*M₃₁₀ + M₁₀₅*M₅₁₀ + M₁₀₈*M₈₁₀ + M₁₁₀*M₁₀₁ + M₄₁₀*M₁₀₄ + M₆₁₀*M₁₀₆ + M₇₁₀*M₁₀₇ + M₉₁₀*M₁₀₉ + M₁₀₁₀^2)*(M₁₀₁₀*M₇₁₀ + M₁₁₀*M₇₁ + M₂₁₀*M₇₂ + M₃₁₀*M₇₃ + M₄₁₀*M₇₄ + M₅₁₀*M₇₅ + M₆₁₀*M₇₆ + M₇₁₀*M₇₇ + M₈₁₀*M₇₈ + M₉₁₀*M₇₉) + (M₁₄*M₇₁ + M₂₄*M₇₂ + M₃₄*M₇₃ + M₄₄*M₇₄ + M₅₄*M₇₅ + M₇₁₀*M₁₀₄ + M₇₄*M₇₇ + M₇₆*M₆₄ + M₈₄*M₇₈ + M₉₄*M₇₉)*(M₁₀₁₀*M₄₁₀ + M₁₁₀*M₄₁ + M₂₁₀*M₄₂ + M₃₁₀*M₄₃ + M₄₁₀*M₄₄ + M₅₁₀*M₄₅ + M₆₁₀*M₄₆ + M₇₁₀*M₄₇ + M₈₁₀*M₄₈ + M₉₁₀*M₄₉) + (M₁₇*M₇₁ + M₂₇*M₇₂ + M₃₇*M₇₃ + M₄₇*M₇₄ + M₅₇*M₇₅ + M₇₁₀*M₁₀₇ + M₇₆*M₆₇ + M₈₇*M₇₈ + M₉₇*M₇₉ + M₇₇^2)*(M₁₀₁₀*M₇₁₀ + M₁₁₀*M₇₁ + M₂₁₀*M₇₂ + M₃₁₀*M₇₃ + M₄₁₀*M₇₄ + M₅₁₀*M₇₅ + M₆₁₀*M₇₆ + M₇₁₀*M₇₇ + M₈₁₀*M₇₈ + M₉₁₀*M₇₉)) + ((M₁₀₁*M₁₁ + M₁₀₁₀*M₁₀₁ + M₁₀₂*M₂₁ + M₁₀₃*M₃₁ + M₁₀₄*M₄₁ + M₁₀₅*M₅₁ + M₁₀₆*M₆₁ + M₁₀₇*M₇₁ + M₁₀₈*M₈₁ + M₁₀₉*M₉₁)*(M₁₀₁₀*M₄₁₀ + M₁₁₀*M₄₁ + M₂₁₀*M₄₂ + M₃₁₀*M₄₃ + M₄₁₀*M₄₄ + M₅₁₀*M₄₅ + M₆₁₀*M₄₆ + M₇₁₀*M₄₇ + M₈₁₀*M₄₈ + M₉₁₀*M₄₉) + (M₁₁*M₆₁ + M₂₁*M₆₂ + M₃₁*M₆₃ + M₄₁*M₆₄ + M₅₁*M₆₅ + M₆₁*M₆₆ + M₆₁₀*M₁₀₁ + M₇₁*M₆₇ + M₈₁*M₆₈ + M₉₁*M₆₉)*(M₄₁*M₁₆ + M₄₁₀*M₁₀₆ + M₄₂*M₂₆ + M₄₃*M₃₆ + M₄₅*M₅₆ + M₄₆*M₄₄ + M₄₆*M₆₆ + M₄₇*M₇₆ + M₄₈*M₈₆ + M₉₆*M₄₉) + (M₄₁*M₁₁ + M₄₁*M₄₄ + M₄₁₀*M₁₀₁ + M₄₂*M₂₁ + M₄₃*M₃₁ + M₄₅*M₅₁ + M₄₆*M₆₁ + M₄₇*M₇₁ + M₄₈*M₈₁ + M₉₁*M₄₉)*(M₁₁₀*M₁₀₁ + M₁₆*M₆₁ + M₁₇*M₇₁ + M₂₁*M₁₂ + M₃₁*M₁₃ + M₄₁*M₁₄ + M₅₁*M₁₅ + M₈₁*M₁₈ + M₉₁*M₁₉ + M₁₁^2) + (M₄₁*M₁₂ + M₄₁₀*M₁₀₂ + M₄₂*M₂₂ + M₄₂*M₄₄ + M₄₃*M₃₂ + M₄₅*M₅₂ + M₄₆*M₆₂ + M₄₇*M₇₂ + M₄₈*M₈₂ + M₉₂*M₄₉)*(M₁₀₁*M₂₁₀ + M₂₁*M₁₁ + M₂₂*M₂₁ + M₂₆*M₆₁ + M₂₇*M₇₁ + M₃₁*M₂₃ + M₄₁*M₂₄ + M₅₁*M₂₅ + M₈₁*M₂₈ + M₉₁*M₂₉) + (M₄₁*M₁₃ + M₄₁₀*M₁₀₃ + M₄₂*M₂₃ + M₄₃*M₃₃ + M₄₄*M₄₃ + M₄₅*M₅₃ + M₄₆*M₆₃ + M₄₇*M₇₃ + M₄₈*M₈₃ + M₉₃*M₄₉)*(M₁₀₁*M₃₁₀ + M₃₁*M₁₁ + M₃₁*M₃₃ + M₃₂*M₂₁ + M₃₅*M₅₁ + M₃₆*M₆₁ + M₃₇*M₇₁ + M₃₈*M₈₁ + M₄₁*M₃₄ + M₉₁*M₃₉) + (M₄₁*M₁₄ + M₄₁₀*M₁₀₄ + M₄₂*M₂₄ + M₄₃*M₃₄ + M₄₅*M₅₄ + M₄₆*M₆₄ + M₄₇*M₇₄ + M₄₈*M₈₄ + M₉₄*M₄₉ + M₄₄^2)*(M₄₁*M₁₁ + M₄₁*M₄₄ + M₄₁₀*M₁₀₁ + M₄₂*M₂₁ + M₄₃*M₃₁ + M₄₅*M₅₁ + M₄₆*M₆₁ + M₄₇*M₇₁ + M₄₈*M₈₁ + M₉₁*M₄₉) + (M₄₁*M₁₅ + M₄₁₀*M₁₀₅ + M₄₂*M₂₅ + M₄₃*M₃₅ + M₄₅*M₄₄ + M₄₅*M₅₅ + M₄₆*M₆₅ + M₄₇*M₇₅ + M₄₈*M₈₅ + M₉₅*M₄₉)*(M₁₀₁*M₅₁₀ + M₃₁*M₅₃ + M₄₁*M₅₄ + M₅₁*M₁₁ + M₅₂*M₂₁ + M₅₅*M₅₁ + M₅₆*M₆₁ + M₅₇*M₇₁ + M₈₁*M₅₈ + M₉₁*M₅₉) + (M₄₁*M₁₇ + M₄₁₀*M₁₀₇ + M₄₂*M₂₇ + M₄₃*M₃₇ + M₄₄*M₄₇ + M₄₅*M₅₇ + M₄₆*M₆₇ + M₄₇*M₇₇ + M₄₈*M₈₇ + M₉₇*M₄₉)*(M₁₁*M₇₁ + M₂₁*M₇₂ + M₃₁*M₇₃ + M₄₁*M₇₄ + M₅₁*M₇₅ + M₇₁*M₇₇ + M₇₁₀*M₁₀₁ + M₇₆*M₆₁ + M₈₁*M₇₈ + M₉₁*M₇₉) + (M₄₁*M₁₈ + M₄₁₀*M₁₀₈ + M₄₂*M₂₈ + M₄₃*M₃₈ + M₄₄*M₄₈ + M₄₅*M₅₈ + M₄₆*M₆₈ + M₄₇*M₇₈ + M₄₈*M₈₈ + M₉₈*M₄₉)*(M₁₀₁*M₈₁₀ + M₃₁*M₈₃ + M₄₁*M₈₄ + M₈₁*M₁₁ + M₈₁*M₈₈ + M₈₂*M₂₁ + M₈₅*M₅₁ + M₈₆*M₆₁ + M₈₇*M₇₁ + M₉₁*M₈₉) + (M₄₁*M₁₉ + M₄₁₀*M₁₀₉ + M₄₂*M₂₉ + M₄₃*M₃₉ + M₄₄*M₄₉ + M₄₅*M₅₉ + M₄₆*M₆₉ + M₄₇*M₇₉ + M₄₈*M₈₉ + M₉₉*M₄₉)*(M₉₁*M₁₁ + M₉₁*M₉₉ + M₉₁₀*M₁₀₁ + M₉₂*M₂₁ + M₉₃*M₃₁ + M₉₄*M₄₁ + M₉₅*M₅₁ + M₉₆*M₆₁ + M₉₇*M₇₁ + M₉₈*M₈₁))*((M₁₀₄*M₂₁₀ + M₂₁*M₁₄ + M₂₂*M₂₄ + M₂₆*M₆₄ + M₂₇*M₇₄ + M₃₄*M₂₃ + M₄₄*M₂₄ + M₅₄*M₂₅ + M₈₄*M₂₈ + M₉₄*M₂₉)*(M₁₂*M₇₁ + M₂₂*M₇₂ + M₃₂*M₇₃ + M₄₂*M₇₄ + M₅₂*M₇₅ + M₇₁₀*M₁₀₂ + M₇₂*M₇₇ + M₇₆*M₆₂ + M₈₂*M₇₈ + M₉₂*M₇₉) + (M₁₀₄*M₃₁₀ + M₃₁*M₁₄ + M₃₂*M₂₄ + M₃₃*M₃₄ + M₃₅*M₅₄ + M₃₆*M₆₄ + M₃₇*M₇₄ + M₃₈*M₈₄ + M₄₄*M₃₄ + M₉₄*M₃₉)*(M₁₃*M₇₁ + M₂₃*M₇₂ + M₃₃*M₇₃ + M₄₃*M₇₄ + M₅₃*M₇₅ + M₇₁₀*M₁₀₃ + M₇₃*M₇₇ + M₇₆*M₆₃ + M₈₃*M₇₈ + M₉₃*M₇₉) + (M₁₀₄*M₅₁₀ + M₃₄*M₅₃ + M₄₄*M₅₄ + M₅₁*M₁₄ + M₅₂*M₂₄ + M₅₅*M₅₄ + M₅₆*M₆₄ + M₅₇*M₇₄ + M₈₄*M₅₈ + M₉₄*M₅₉)*(M₁₅*M₇₁ + M₂₅*M₇₂ + M₃₅*M₇₃ + M₄₅*M₇₄ + M₅₅*M₇₅ + M₇₁₀*M₁₀₅ + M₇₆*M₆₅ + M₇₇*M₇₅ + M₈₅*M₇₈ + M₉₅*M₇₉) + (M₁₀₄*M₈₁₀ + M₃₄*M₈₃ + M₄₄*M₈₄ + M₈₁*M₁₄ + M₈₂*M₂₄ + M₈₄*M₈₈ + M₈₅*M₅₄ + M₈₆*M₆₄ + M₈₇*M₇₄ + M₉₄*M₈₉)*(M₁₈*M₇₁ + M₂₈*M₇₂ + M₃₈*M₇₃ + M₄₈*M₇₄ + M₅₈*M₇₅ + M₇₁₀*M₁₀₈ + M₇₆*M₆₈ + M₇₈*M₇₇ + M₈₈*M₇₈ + M₉₈*M₇₉) + (M₁₀₁*M₁₄ + M₁₀₁₀*M₁₀₄ + M₁₀₂*M₂₄ + M₁₀₃*M₃₄ + M₁₀₄*M₄₄ + M₁₀₅*M₅₄ + M₁₀₆*M₆₄ + M₁₀₇*M₇₄ + M₁₀₈*M₈₄ + M₁₀₉*M₉₄)*(M₁₀₁₀*M₇₁₀ + M₁₁₀*M₇₁ + M₂₁₀*M₇₂ + M₃₁₀*M₇₃ + M₄₁₀*M₇₄ + M₅₁₀*M₇₅ + M₆₁₀*M₇₆ + M₇₁₀*M₇₇ + M₈₁₀*M₇₈ + M₉₁₀*M₇₉) + (M₁₁*M₁₄ + M₁₁₀*M₁₀₄ + M₁₆*M₆₄ + M₁₇*M₇₄ + M₂₄*M₁₂ + M₃₄*M₁₃ + M₄₄*M₁₄ + M₅₄*M₁₅ + M₈₄*M₁₈ + M₉₄*M₁₉)*(M₁₁*M₇₁ + M₂₁*M₇₂ + M₃₁*M₇₃ + M₄₁*M₇₄ + M₅₁*M₇₅ + M₇₁*M₇₇ + M₇₁₀*M₁₀₁ + M₇₆*M₆₁ + M₈₁*M₇₈ + M₉₁*M₇₉) + (M₁₄*M₆₁ + M₂₄*M₆₂ + M₃₄*M₆₃ + M₄₄*M₆₄ + M₅₄*M₆₅ + M₆₁₀*M₁₀₄ + M₆₄*M₆₆ + M₇₄*M₆₇ + M₈₄*M₆₈ + M₉₄*M₆₉)*(M₁₆*M₇₁ + M₂₆*M₇₂ + M₃₆*M₇₃ + M₄₆*M₇₄ + M₅₆*M₇₅ + M₇₁₀*M₁₀₆ + M₇₆*M₆₆ + M₇₇*M₇₆ + M₈₆*M₇₈ + M₉₆*M₇₉) + (M₉₁*M₁₄ + M₉₁₀*M₁₀₄ + M₉₂*M₂₄ + M₉₃*M₃₄ + M₉₄*M₄₄ + M₉₅*M₅₄ + M₉₆*M₆₄ + M₉₇*M₇₄ + M₉₈*M₈₄ + M₉₉*M₉₄)*(M₁₉*M₇₁ + M₂₉*M₇₂ + M₃₉*M₇₃ + M₄₉*M₇₄ + M₅₉*M₇₅ + M₇₁₀*M₁₀₉ + M₇₆*M₆₉ + M₇₇*M₇₉ + M₈₉*M₇₈ + M₉₉*M₇₉) + (M₄₁*M₁₄ + M₄₁₀*M₁₀₄ + M₄₂*M₂₄ + M₄₃*M₃₄ + M₄₅*M₅₄ + M₄₆*M₆₄ + M₄₇*M₇₄ + M₄₈*M₈₄ + M₉₄*M₄₉ + M₄₄^2)*(M₁₄*M₇₁ + M₂₄*M₇₂ + M₃₄*M₇₃ + M₄₄*M₇₄ + M₅₄*M₇₅ + M₇₁₀*M₁₀₄ + M₇₄*M₇₇ + M₇₆*M₆₄ + M₈₄*M₇₈ + M₉₄*M₇₉) + (M₁₇*M₇₁ + M₂₇*M₇₂ + M₃₇*M₇₃ + M₄₇*M₇₄ + M₅₇*M₇₅ + M₇₁₀*M₁₀₇ + M₇₆*M₆₇ + M₈₇*M₇₈ + M₉₇*M₇₉ + M₇₇^2)*(M₁₄*M₇₁ + M₂₄*M₇₂ + M₃₄*M₇₃ + M₄₄*M₇₄ + M₅₄*M₇₅ + M₇₁₀*M₁₀₄ + M₇₄*M₇₇ + M₇₆*M₆₄ + M₈₄*M₇₈ + M₉₄*M₇₉)))*(M₁₁*M₁₇ + M₁₁₀*M₁₀₇ + M₁₆*M₆₇ + M₁₇*M₇₇ + M₂₇*M₁₂ + M₃₇*M₁₃ + M₄₇*M₁₄ + M₅₇*M₁₅ + M₈₇*M₁₈ + M₉₇*M₁₉) + (((M₁₀₁*M₂₁₀ + M₂₁*M₁₁ + M₂₂*M₂₁ + M₂₆*M₆₁ + M₂₇*M₇₁ + M₃₁*M₂₃ + M₄₁*M₂₄ + M₅₁*M₂₅ + M₈₁*M₂₈ + M₉₁*M₂₉)*(M₁₂*M₇₁ + M₂₂*M₇₂ + M₃₂*M₇₃ + M₄₂*M₇₄ + M₅₂*M₇₅ + M₇₁₀*M₁₀₂ + M₇₂*M₇₇ + M₇₆*M₆₂ + M₈₂*M₇₈ + M₉₂*M₇₉) + (M₁₀₁*M₃₁₀ + M₃₁*M₁₁ + M₃₁*M₃₃ + M₃₂*M₂₁ + M₃₅*M₅₁ + M₃₆*M₆₁ + M₃₇*M₇₁ + M₃₈*M₈₁ + M₄₁*M₃₄ + M₉₁*M₃₉)*(M₁₃*M₇₁ + M₂₃*M₇₂ + M₃₃*M₇₃ + M₄₃*M₇₄ + M₅₃*M₇₅ + M₇₁₀*M₁₀₃ + M₇₃*M₇₇ + M₇₆*M₆₃ + M₈₃*M₇₈ + M₉₃*M₇₉) + (M₁₀₁*M₅₁₀ + M₃₁*M₅₃ + M₄₁*M₅₄ + M₅₁*M₁₁ + M₅₂*M₂₁ + M₅₅*M₅₁ + M₅₆*M₆₁ + M₅₇*M₇₁ + M₈₁*M₅₈ + M₉₁*M₅₉)*(M₁₅*M₇₁ + M₂₅*M₇₂ + M₃₅*M₇₃ + M₄₅*M₇₄ + M₅₅*M₇₅ + M₇₁₀*M₁₀₅ + M₇₆*M₆₅ + M₇₇*M₇₅ + M₈₅*M₇₈ + M₉₅*M₇₉) + (M₁₀₁*M₈₁₀ + M₃₁*M₈₃ + M₄₁*M₈₄ + M₈₁*M₁₁ + M₈₁*M₈₈ + M₈₂*M₂₁ + M₈₅*M₅₁ + M₈₆*M₆₁ + M₈₇*M₇₁ + M₉₁*M₈₉)*(M₁₈*M₇₁ + M₂₈*M₇₂ + M₃₈*M₇₃ + M₄₈*M₇₄ + M₅₈*M₇₅ + M₇₁₀*M₁₀₈ + M₇₆*M₆₈ + M₇₈*M₇₇ + M₈₈*M₇₈ + M₉₈*M₇₉) + (M₁₀₁*M₁₁ + M₁₀₁₀*M₁₀₁ + M₁₀₂*M₂₁ + M₁₀₃*M₃₁ + M₁₀₄*M₄₁ + M₁₀₅*M₅₁ + M₁₀₆*M₆₁ + M₁₀₇*M₇₁ + M₁₀₈*M₈₁ + M₁₀₉*M₉₁)*(M₁₀₁₀*M₇₁₀ + M₁₁₀*M₇₁ + M₂₁₀*M₇₂ + M₃₁₀*M₇₃ + M₄₁₀*M₇₄ + M₅₁₀*M₇₅ + M₆₁₀*M₇₆ + M₇₁₀*M₇₇ + M₈₁₀*M₇₈ + M₉₁₀*M₇₉) + (M₁₁₀*M₁₀₁ + M₁₆*M₆₁ + M₁₇*M₇₁ + M₂₁*M₁₂ + M₃₁*M₁₃ + M₄₁*M₁₄ + M₅₁*M₁₅ + M₈₁*M₁₈ + M₉₁*M₁₉ + M₁₁^2)*(M₁₁*M₇₁ + M₂₁*M₇₂ + M₃₁*M₇₃ + M₄₁*M₇₄ + M₅₁*M₇₅ + M₇₁*M₇₇ + M₇₁₀*M₁₀₁ + M₇₆*M₆₁ + M₈₁*M₇₈ + M₉₁*M₇₉) + (M₁₁*M₆₁ + M₂₁*M₆₂ + M₃₁*M₆₃ + M₄₁*M₆₄ + M₅₁*M₆₅ + M₆₁*M₆₆ + M₆₁₀*M₁₀₁ + M₇₁*M₆₇ + M₈₁*M₆₈ + M₉₁*M₆₉)*(M₁₆*M₇₁ + M₂₆*M₇₂ + M₃₆*M₇₃ + M₄₆*M₇₄ + M₅₆*M₇₅ + M₇₁₀*M₁₀₆ + M₇₆*M₆₆ + M₇₇*M₇₆ + M₈₆*M₇₈ + M₉₆*M₇₉) + (M₄₁*M₁₁ + M₄₁*M₄₄ + M₄₁₀*M₁₀₁ + M₄₂*M₂₁ + M₄₃*M₃₁ + M₄₅*M₅₁ + M₄₆*M₆₁ + M₄₇*M₇₁ + M₄₈*M₈₁ + M₉₁*M₄₉)*(M₁₄*M₇₁ + M₂₄*M₇₂ + M₃₄*M₇₃ + M₄₄*M₇₄ + M₅₄*M₇₅ + M₇₁₀*M₁₀₄ + M₇₄*M₇₇ + M₇₆*M₆₄ + M₈₄*M₇₈ + M₉₄*M₇₉) + (M₉₁*M₁₁ + M₉₁*M₉₉ + M₉₁₀*M₁₀₁ + M₉₂*M₂₁ + M₉₃*M₃₁ + M₉₄*M₄₁ + M₉₅*M₅₁ + M₉₆*M₆₁ + M₉₇*M₇₁ + M₉₈*M₈₁)*(M₁₉*M₇₁ + M₂₉*M₇₂ + M₃₉*M₇₃ + M₄₉*M₇₄ + M₅₉*M₇₅ + M₇₁₀*M₁₀₉ + M₇₆*M₆₉ + M₇₇*M₇₉ + M₈₉*M₇₈ + M₉₉*M₇₉) + (M₁₇*M₇₁ + M₂₇*M₇₂ + M₃₇*M₇₃ + M₄₇*M₇₄ + M₅₇*M₇₅ + M₇₁₀*M₁₀₇ + M₇₆*M₆₇ + M₈₇*M₇₈ + M₉₇*M₇₉ + M₇₇^2)*(M₁₁*M₇₁ + M₂₁*M₇₂ + M₃₁*M₇₃ + M₄₁*M₇₄ + M₅₁*M₇₅ + M₇₁*M₇₇ + M₇₁₀*M₁₀₁ + M₇₆*M₆₁ + M₈₁*M₇₈ + M₉₁*M₇₉))*((M₁₀₇*M₂₁₀ + M₂₁*M₁₇ + M₂₂*M₂₇ + M₂₆*M₆₇ + M₂₇*M₇₇ + M₃₇*M₂₃ + M₄₇*M₂₄ + M₅₇*M₂₅ + M₈₇*M₂₈ + M₉₇*M₂₉)*(M₁₁*M₁₂ + M₁₁₀*M₁₀₂ + M₁₆*M₆₂ + M₁₇*M₇₂ + M₂₂*M₁₂ + M₃₂*M₁₃ + M₄₂*M₁₄ + M₅₂*M₁₅ + M₈₂*M₁₈ + M₉₂*M₁₉) + (M₁₀₇*M₃₁₀ + M₃₁*M₁₇ + M₃₂*M₂₇ + M₃₃*M₃₇ + M₃₅*M₅₇ + M₃₆*M₆₇ + M₃₇*M₇₇ + M₃₈*M₈₇ + M₄₇*M₃₄ + M₉₇*M₃₉)*(M₁₁*M₁₃ + M₁₁₀*M₁₀₃ + M₁₆*M₆₃ + M₁₇*M₇₃ + M₂₃*M₁₂ + M₃₃*M₁₃ + M₄₃*M₁₄ + M₅₃*M₁₅ + M₈₃*M₁₈ + M₉₃*M₁₉) + (M₁₀₇*M₅₁₀ + M₃₇*M₅₃ + M₄₇*M₅₄ + M₅₁*M₁₇ + M₅₂*M₂₇ + M₅₅*M₅₇ + M₅₆*M₆₇ + M₅₇*M₇₇ + M₈₇*M₅₈ + M₉₇*M₅₉)*(M₁₁*M₁₅ + M₁₁₀*M₁₀₅ + M₁₆*M₆₅ + M₁₇*M₇₅ + M₂₅*M₁₂ + M₃₅*M₁₃ + M₄₅*M₁₄ + M₅₅*M₁₅ + M₈₅*M₁₈ + M₉₅*M₁₉) + (M₁₀₇*M₈₁₀ + M₃₇*M₈₃ + M₄₇*M₈₄ + M₈₁*M₁₇ + M₈₂*M₂₇ + M₈₅*M₅₇ + M₈₆*M₆₇ + M₈₇*M₇₇ + M₈₇*M₈₈ + M₉₇*M₈₉)*(M₁₁*M₁₈ + M₁₁₀*M₁₀₈ + M₁₆*M₆₈ + M₁₇*M₇₈ + M₂₈*M₁₂ + M₃₈*M₁₃ + M₄₈*M₁₄ + M₅₈*M₁₅ + M₈₈*M₁₈ + M₉₈*M₁₉) + (M₁₁*M₁₇ + M₁₁₀*M₁₀₇ + M₁₆*M₆₇ + M₁₇*M₇₇ + M₂₇*M₁₂ + M₃₇*M₁₃ + M₄₇*M₁₄ + M₅₇*M₁₅ + M₈₇*M₁₈ + M₉₇*M₁₉)*(M₁₁₀*M₁₀₁ + M₁₆*M₆₁ + M₁₇*M₇₁ + M₂₁*M₁₂ + M₃₁*M₁₃ + M₄₁*M₁₄ + M₅₁*M₁₅ + M₈₁*M₁₈ + M₉₁*M₁₉ + M₁₁^2) + (M₁₁*M₁₇ + M₁₁₀*M₁₀₇ + M₁₆*M₆₇ + M₁₇*M₇₇ + M₂₇*M₁₂ + M₃₇*M₁₃ + M₄₇*M₁₄ + M₅₇*M₁₅ + M₈₇*M₁₈ + M₉₇*M₁₉)*(M₁₇*M₇₁ + M₂₇*M₇₂ + M₃₇*M₇₃ + M₄₇*M₇₄ + M₅₇*M₇₅ + M₇₁₀*M₁₀₇ + M₇₆*M₆₇ + M₈₇*M₇₈ + M₉₇*M₇₉ + M₇₇^2) + (M₁₁*M₁₉ + M₁₁₀*M₁₀₉ + M₁₆*M₆₉ + M₁₇*M₇₉ + M₂₉*M₁₂ + M₃₉*M₁₃ + M₄₉*M₁₄ + M₅₉*M₁₅ + M₈₉*M₁₈ + M₉₉*M₁₉)*(M₉₁*M₁₇ + M₉₁₀*M₁₀₇ + M₉₂*M₂₇ + M₉₃*M₃₇ + M₉₄*M₄₇ + M₉₅*M₅₇ + M₉₆*M₆₇ + M₉₇*M₇₇ + M₉₇*M₉₉ + M₉₈*M₈₇) + (M₁₀₁₀*M₁₁₀ + M₁₁₀*M₁₁ + M₂₁₀*M₁₂ + M₃₁₀*M₁₃ + M₄₁₀*M₁₄ + M₅₁₀*M₁₅ + M₆₁₀*M₁₆ + M₇₁₀*M₁₇ + M₈₁₀*M₁₈ + M₉₁₀*M₁₉)*(M₁₀₁*M₁₇ + M₁₀₁₀*M₁₀₇ + M₁₀₂*M₂₇ + M₁₀₃*M₃₇ + M₁₀₄*M₄₇ + M₁₀₅*M₅₇ + M₁₀₆*M₆₇ + M₁₀₇*M₇₇ + M₁₀₈*M₈₇ + M₁₀₉*M₉₇) + (M₁₇*M₆₁ + M₂₇*M₆₂ + M₃₇*M₆₃ + M₄₇*M₆₄ + M₅₇*M₆₅ + M₆₁₀*M₁₀₇ + M₆₆*M₆₇ + M₇₇*M₆₇ + M₈₇*M₆₈ + M₉₇*M₆₉)*(M₁₁*M₁₆ + M₁₁₀*M₁₀₆ + M₁₆*M₆₆ + M₁₇*M₇₆ + M₂₆*M₁₂ + M₃₆*M₁₃ + M₄₆*M₁₄ + M₅₆*M₁₅ + M₈₆*M₁₈ + M₉₆*M₁₉) + (M₄₁*M₁₇ + M₄₁₀*M₁₀₇ + M₄₂*M₂₇ + M₄₃*M₃₇ + M₄₄*M₄₇ + M₄₅*M₅₇ + M₄₆*M₆₇ + M₄₇*M₇₇ + M₄₈*M₈₇ + M₉₇*M₄₉)*(M₁₁*M₁₄ + M₁₁₀*M₁₀₄ + M₁₆*M₆₄ + M₁₇*M₇₄ + M₂₄*M₁₂ + M₃₄*M₁₃ + M₄₄*M₁₄ + M₅₄*M₁₅ + M₈₄*M₁₈ + M₉₄*M₁₉)) + ((M₁₀₁*M₂₁₀ + M₂₁*M₁₁ + M₂₂*M₂₁ + M₂₆*M₆₁ + M₂₇*M₇₁ + M₃₁*M₂₃ + M₄₁*M₂₄ + M₅₁*M₂₅ + M₈₁*M₂₈ + M₉₁*M₂₉)*(M₁₀₂*M₅₁₀ + M₃₂*M₅₃ + M₄₂*M₅₄ + M₅₁*M₁₂ + M₅₂*M₂₂ + M₅₅*M₅₂ + M₅₆*M₆₂ + M₅₇*M₇₂ + M₈₂*M₅₈ + M₉₂*M₅₉) + (M₁₀₁*M₅₁₀ + M₃₁*M₅₃ + M₄₁*M₅₄ + M₅₁*M₁₁ + M₅₂*M₂₁ + M₅₅*M₅₁ + M₅₆*M₆₁ + M₅₇*M₇₁ + M₈₁*M₅₈ + M₉₁*M₅₉)*(M₁₀₅*M₅₁₀ + M₃₅*M₅₃ + M₄₅*M₅₄ + M₅₁*M₁₅ + M₅₂*M₂₅ + M₅₆*M₆₅ + M₅₇*M₇₅ + M₈₅*M₅₈ + M₉₅*M₅₉ + M₅₅^2) + (M₁₀₁*M₅₁₀ + M₃₁*M₅₃ + M₄₁*M₅₄ + M₅₁*M₁₁ + M₅₂*M₂₁ + M₅₅*M₅₁ + M₅₆*M₆₁ + M₅₇*M₇₁ + M₈₁*M₅₈ + M₉₁*M₅₉)*(M₁₁₀*M₁₀₁ + M₁₆*M₆₁ + M₁₇*M₇₁ + M₂₁*M₁₂ + M₃₁*M₁₃ + M₄₁*M₁₄ + M₅₁*M₁₅ + M₈₁*M₁₈ + M₉₁*M₁₉ + M₁₁^2) + (M₁₀₃*M₅₁₀ + M₃₃*M₅₃ + M₄₃*M₅₄ + M₅₁*M₁₃ + M₅₂*M₂₃ + M₅₅*M₅₃ + M₅₆*M₆₃ + M₅₇*M₇₃ + M₈₃*M₅₈ + M₉₃*M₅₉)*(M₁₀₁*M₃₁₀ + M₃₁*M₁₁ + M₃₁*M₃₃ + M₃₂*M₂₁ + M₃₅*M₅₁ + M₃₆*M₆₁ + M₃₇*M₇₁ + M₃₈*M₈₁ + M₄₁*M₃₄ + M₉₁*M₃₉) + (M₁₀₇*M₅₁₀ + M₃₇*M₅₃ + M₄₇*M₅₄ + M₅₁*M₁₇ + M₅₂*M₂₇ + M₅₅*M₅₇ + M₅₆*M₆₇ + M₅₇*M₇₇ + M₈₇*M₅₈ + M₉₇*M₅₉)*(M₁₁*M₇₁ + M₂₁*M₇₂ + M₃₁*M₇₃ + M₄₁*M₇₄ + M₅₁*M₇₅ + M₇₁*M₇₇ + M₇₁₀*M₁₀₁ + M₇₆*M₆₁ + M₈₁*M₇₈ + M₉₁*M₇₉) + (M₁₀₈*M₅₁₀ + M₃₈*M₅₃ + M₄₈*M₅₄ + M₅₁*M₁₈ + M₅₂*M₂₈ + M₅₅*M₅₈ + M₅₆*M₆₈ + M₅₇*M₇₈ + M₈₈*M₅₈ + M₉₈*M₅₉)*(M₁₀₁*M₈₁₀ + M₃₁*M₈₃ + M₄₁*M₈₄ + M₈₁*M₁₁ + M₈₁*M₈₈ + M₈₂*M₂₁ + M₈₅*M₅₁ + M₈₆*M₆₁ + M₈₇*M₇₁ + M₉₁*M₈₉) + (M₁₀₉*M₅₁₀ + M₃₉*M₅₃ + M₄₉*M₅₄ + M₅₁*M₁₉ + M₅₂*M₂₉ + M₅₅*M₅₉ + M₅₆*M₆₉ + M₅₇*M₇₉ + M₈₉*M₅₈ + M₉₉*M₅₉)*(M₉₁*M₁₁ + M₉₁*M₉₉ + M₉₁₀*M₁₀₁ + M₉₂*M₂₁ + M₉₃*M₃₁ + M₉₄*M₄₁ + M₉₅*M₅₁ + M₉₆*M₆₁ + M₉₇*M₇₁ + M₉₈*M₈₁) + (M₁₀₁₀*M₅₁₀ + M₁₁₀*M₅₁ + M₂₁₀*M₅₂ + M₃₁₀*M₅₃ + M₄₁₀*M₅₄ + M₅₁₀*M₅₅ + M₆₁₀*M₅₆ + M₇₁₀*M₅₇ + M₈₁₀*M₅₈ + M₉₁₀*M₅₉)*(M₁₀₁*M₁₁ + M₁₀₁₀*M₁₀₁ + M₁₀₂*M₂₁ + M₁₀₃*M₃₁ + M₁₀₄*M₄₁ + M₁₀₅*M₅₁ + M₁₀₆*M₆₁ + M₁₀₇*M₇₁ + M₁₀₈*M₈₁ + M₁₀₉*M₉₁) + (M₁₁*M₆₁ + M₂₁*M₆₂ + M₃₁*M₆₃ + M₄₁*M₆₄ + M₅₁*M₆₅ + M₆₁*M₆₆ + M₆₁₀*M₁₀₁ + M₇₁*M₆₇ + M₈₁*M₆₈ + M₉₁*M₆₉)*(M₁₀₆*M₅₁₀ + M₃₆*M₅₃ + M₄₆*M₅₄ + M₅₁*M₁₆ + M₅₂*M₂₆ + M₅₆*M₅₅ + M₅₆*M₆₆ + M₅₇*M₇₆ + M₈₆*M₅₈ + M₉₆*M₅₉) + (M₄₁*M₁₁ + M₄₁*M₄₄ + M₄₁₀*M₁₀₁ + M₄₂*M₂₁ + M₄₃*M₃₁ + M₄₅*M₅₁ + M₄₆*M₆₁ + M₄₇*M₇₁ + M₄₈*M₈₁ + M₉₁*M₄₉)*(M₁₀₄*M₅₁₀ + M₃₄*M₅₃ + M₄₄*M₅₄ + M₅₁*M₁₄ + M₅₂*M₂₄ + M₅₅*M₅₄ + M₅₆*M₆₄ + M₅₇*M₇₄ + M₈₄*M₅₈ + M₉₄*M₅₉))*((M₁₀₅*M₂₁₀ + M₂₁*M₁₅ + M₂₂*M₂₅ + M₂₆*M₆₅ + M₂₇*M₇₅ + M₃₅*M₂₃ + M₄₅*M₂₄ + M₅₅*M₂₅ + M₈₅*M₂₈ + M₉₅*M₂₉)*(M₁₁*M₁₂ + M₁₁₀*M₁₀₂ + M₁₆*M₆₂ + M₁₇*M₇₂ + M₂₂*M₁₂ + M₃₂*M₁₃ + M₄₂*M₁₄ + M₅₂*M₁₅ + M₈₂*M₁₈ + M₉₂*M₁₉) + (M₁₀₅*M₃₁₀ + M₃₁*M₁₅ + M₃₂*M₂₅ + M₃₅*M₃₃ + M₃₅*M₅₅ + M₃₆*M₆₅ + M₃₇*M₇₅ + M₃₈*M₈₅ + M₄₅*M₃₄ + M₉₅*M₃₉)*(M₁₁*M₁₃ + M₁₁₀*M₁₀₃ + M₁₆*M₆₃ + M₁₇*M₇₃ + M₂₃*M₁₂ + M₃₃*M₁₃ + M₄₃*M₁₄ + M₅₃*M₁₅ + M₈₃*M₁₈ + M₉₃*M₁₉) + (M₁₀₅*M₈₁₀ + M₃₅*M₈₃ + M₄₅*M₈₄ + M₈₁*M₁₅ + M₈₂*M₂₅ + M₈₅*M₅₅ + M₈₆*M₆₅ + M₈₇*M₇₅ + M₈₈*M₈₅ + M₉₅*M₈₉)*(M₁₁*M₁₈ + M₁₁₀*M₁₀₈ + M₁₆*M₆₈ + M₁₇*M₇₈ + M₂₈*M₁₂ + M₃₈*M₁₃ + M₄₈*M₁₄ + M₅₈*M₁₅ + M₈₈*M₁₈ + M₉₈*M₁₉) + (M₁₁*M₁₅ + M₁₁₀*M₁₀₅ + M₁₆*M₆₅ + M₁₇*M₇₅ + M₂₅*M₁₂ + M₃₅*M₁₃ + M₄₅*M₁₄ + M₅₅*M₁₅ + M₈₅*M₁₈ + M₉₅*M₁₉)*(M₁₀₅*M₅₁₀ + M₃₅*M₅₃ + M₄₅*M₅₄ + M₅₁*M₁₅ + M₅₂*M₂₅ + M₅₆*M₆₅ + M₅₇*M₇₅ + M₈₅*M₅₈ + M₉₅*M₅₉ + M₅₅^2) + (M₁₁*M₁₅ + M₁₁₀*M₁₀₅ + M₁₆*M₆₅ + M₁₇*M₇₅ + M₂₅*M₁₂ + M₃₅*M₁₃ + M₄₅*M₁₄ + M₅₅*M₁₅ + M₈₅*M₁₈ + M₉₅*M₁₉)*(M₁₁₀*M₁₀₁ + M₁₆*M₆₁ + M₁₇*M₇₁ + M₂₁*M₁₂ + M₃₁*M₁₃ + M₄₁*M₁₄ + M₅₁*M₁₅ + M₈₁*M₁₈ + M₉₁*M₁₉ + M₁₁^2) + (M₁₁*M₁₇ + M₁₁₀*M₁₀₇ + M₁₆*M₆₇ + M₁₇*M₇₇ + M₂₇*M₁₂ + M₃₇*M₁₃ + M₄₇*M₁₄ + M₅₇*M₁₅ + M₈₇*M₁₈ + M₉₇*M₁₉)*(M₁₅*M₇₁ + M₂₅*M₇₂ + M₃₅*M₇₃ + M₄₅*M₇₄ + M₅₅*M₇₅ + M₇₁₀*M₁₀₅ + M₇₆*M₆₅ + M₇₇*M₇₅ + M₈₅*M₇₈ + M₉₅*M₇₉) + (M₁₁*M₁₉ + M₁₁₀*M₁₀₉ + M₁₆*M₆₉ + M₁₇*M₇₉ + M₂₉*M₁₂ + M₃₉*M₁₃ + M₄₉*M₁₄ + M₅₉*M₁₅ + M₈₉*M₁₈ + M₉₉*M₁₉)*(M₉₁*M₁₅ + M₉₁₀*M₁₀₅ + M₉₂*M₂₅ + M₉₃*M₃₅ + M₉₄*M₄₅ + M₉₅*M₅₅ + M₉₆*M₆₅ + M₉₇*M₇₅ + M₉₈*M₈₅ + M₉₉*M₉₅) + (M₁₀₁₀*M₁₁₀ + M₁₁₀*M₁₁ + M₂₁₀*M₁₂ + M₃₁₀*M₁₃ + M₄₁₀*M₁₄ + M₅₁₀*M₁₅ + M₆₁₀*M₁₆ + M₇₁₀*M₁₇ + M₈₁₀*M₁₈ + M₉₁₀*M₁₉)*(M₁₀₁*M₁₅ + M₁₀₁₀*M₁₀₅ + M₁₀₂*M₂₅ + M₁₀₃*M₃₅ + M₁₀₄*M₄₅ + M₁₀₅*M₅₅ + M₁₀₆*M₆₅ + M₁₀₇*M₇₅ + M₁₀₈*M₈₅ + M₁₀₉*M₉₅) + (M₁₅*M₆₁ + M₂₅*M₆₂ + M₃₅*M₆₃ + M₄₅*M₆₄ + M₅₅*M₆₅ + M₆₁₀*M₁₀₅ + M₆₅*M₆₆ + M₇₅*M₆₇ + M₈₅*M₆₈ + M₉₅*M₆₉)*(M₁₁*M₁₆ + M₁₁₀*M₁₀₆ + M₁₆*M₆₆ + M₁₇*M₇₆ + M₂₆*M₁₂ + M₃₆*M₁₃ + M₄₆*M₁₄ + M₅₆*M₁₅ + M₈₆*M₁₈ + M₉₆*M₁₉) + (M₄₁*M₁₅ + M₄₁₀*M₁₀₅ + M₄₂*M₂₅ + M₄₃*M₃₅ + M₄₅*M₄₄ + M₄₅*M₅₅ + M₄₆*M₆₅ + M₄₇*M₇₅ + M₄₈*M₈₅ + M₉₅*M₄₉)*(M₁₁*M₁₄ + M₁₁₀*M₁₀₄ + M₁₆*M₆₄ + M₁₇*M₇₄ + M₂₄*M₁₂ + M₃₄*M₁₃ + M₄₄*M₁₄ + M₅₄*M₁₅ + M₈₄*M₁₈ + M₉₄*M₁₉)) + ((M₁₀₂*M₃₁₀ + M₃₁*M₁₂ + M₃₂*M₂₂ + M₃₂*M₃₃ + M₃₅*M₅₂ + M₃₆*M₆₂ + M₃₇*M₇₂ + M₃₈*M₈₂ + M₄₂*M₃₄ + M₉₂*M₃₉)*(M₁₁*M₁₃ + M₁₁₀*M₁₀₃ + M₁₆*M₆₃ + M₁₇*M₇₃ + M₂₃*M₁₂ + M₃₃*M₁₃ + M₄₃*M₁₄ + M₅₃*M₁₅ + M₈₃*M₁₈ + M₉₃*M₁₉) + (M₁₀₂*M₅₁₀ + M₃₂*M₅₃ + M₄₂*M₅₄ + M₅₁*M₁₂ + M₅₂*M₂₂ + M₅₅*M₅₂ + M₅₆*M₆₂ + M₅₇*M₇₂ + M₈₂*M₅₈ + M₉₂*M₅₉)*(M₁₁*M₁₅ + M₁₁₀*M₁₀₅ + M₁₆*M₆₅ + M₁₇*M₇₅ + M₂₅*M₁₂ + M₃₅*M₁₃ + M₄₅*M₁₄ + M₅₅*M₁₅ + M₈₅*M₁₈ + M₉₅*M₁₉) + (M₁₀₂*M₈₁₀ + M₃₂*M₈₃ + M₄₂*M₈₄ + M₈₁*M₁₂ + M₈₂*M₂₂ + M₈₂*M₈₈ + M₈₅*M₅₂ + M₈₆*M₆₂ + M₈₇*M₇₂ + M₉₂*M₈₉)*(M₁₁*M₁₈ + M₁₁₀*M₁₀₈ + M₁₆*M₆₈ + M₁₇*M₇₈ + M₂₈*M₁₂ + M₃₈*M₁₃ + M₄₈*M₁₄ + M₅₈*M₁₅ + M₈₈*M₁₈ + M₉₈*M₁₉) + (M₁₁*M₁₂ + M₁₁₀*M₁₀₂ + M₁₆*M₆₂ + M₁₇*M₇₂ + M₂₂*M₁₂ + M₃₂*M₁₃ + M₄₂*M₁₄ + M₅₂*M₁₅ + M₈₂*M₁₈ + M₉₂*M₁₉)*(M₁₀₂*M₂₁₀ + M₂₁*M₁₂ + M₂₆*M₆₂ + M₂₇*M₇₂ + M₃₂*M₂₃ + M₄₂*M₂₄ + M₅₂*M₂₅ + M₈₂*M₂₈ + M₉₂*M₂₉ + M₂₂^2) + (M₁₁*M₁₂ + M₁₁₀*M₁₀₂ + M₁₆*M₆₂ + M₁₇*M₇₂ + M₂₂*M₁₂ + M₃₂*M₁₃ + M₄₂*M₁₄ + M₅₂*M₁₅ + M₈₂*M₁₈ + M₉₂*M₁₉)*(M₁₁₀*M₁₀₁ + M₁₆*M₆₁ + M₁₇*M₇₁ + M₂₁*M₁₂ + M₃₁*M₁₃ + M₄₁*M₁₄ + M₅₁*M₁₅ + M₈₁*M₁₈ + M₉₁*M₁₉ + M₁₁^2) + (M₁₁*M₁₇ + M₁₁₀*M₁₀₇ + M₁₆*M₆₇ + M₁₇*M₇₇ + M₂₇*M₁₂ + M₃₇*M₁₃ + M₄₇*M₁₄ + M₅₇*M₁₅ + M₈₇*M₁₈ + M₉₇*M₁₉)*(M₁₂*M₇₁ + M₂₂*M₇₂ + M₃₂*M₇₃ + M₄₂*M₇₄ + M₅₂*M₇₅ + M₇₁₀*M₁₀₂ + M₇₂*M₇₇ + M₇₆*M₆₂ + M₈₂*M₇₈ + M₉₂*M₇₉) + (M₁₁*M₁₉ + M₁₁₀*M₁₀₉ + M₁₆*M₆₉ + M₁₇*M₇₉ + M₂₉*M₁₂ + M₃₉*M₁₃ + M₄₉*M₁₄ + M₅₉*M₁₅ + M₈₉*M₁₈ + M₉₉*M₁₉)*(M₉₁*M₁₂ + M₉₁₀*M₁₀₂ + M₉₂*M₂₂ + M₉₃*M₃₂ + M₉₄*M₄₂ + M₉₅*M₅₂ + M₉₆*M₆₂ + M₉₇*M₇₂ + M₉₈*M₈₂ + M₉₉*M₉₂) + (M₁₀₁₀*M₁₁₀ + M₁₁₀*M₁₁ + M₂₁₀*M₁₂ + M₃₁₀*M₁₃ + M₄₁₀*M₁₄ + M₅₁₀*M₁₅ + M₆₁₀*M₁₆ + M₇₁₀*M₁₇ + M₈₁₀*M₁₈ + M₉₁₀*M₁₉)*(M₁₀₁*M₁₂ + M₁₀₁₀*M₁₀₂ + M₁₀₂*M₂₂ + M₁₀₃*M₃₂ + M₁₀₄*M₄₂ + M₁₀₅*M₅₂ + M₁₀₆*M₆₂ + M₁₀₇*M₇₂ + M₁₀₈*M₈₂ + M₁₀₉*M₉₂) + (M₁₂*M₆₁ + M₂₂*M₆₂ + M₃₂*M₆₃ + M₄₂*M₆₄ + M₅₂*M₆₅ + M₆₁₀*M₁₀₂ + M₆₂*M₆₆ + M₇₂*M₆₇ + M₈₂*M₆₈ + M₉₂*M₆₉)*(M₁₁*M₁₆ + M₁₁₀*M₁₀₆ + M₁₆*M₆₆ + M₁₇*M₇₆ + M₂₆*M₁₂ + M₃₆*M₁₃ + M₄₆*M₁₄ + M₅₆*M₁₅ + M₈₆*M₁₈ + M₉₆*M₁₉) + (M₄₁*M₁₂ + M₄₁₀*M₁₀₂ + M₄₂*M₂₂ + M₄₂*M₄₄ + M₄₃*M₃₂ + M₄₅*M₅₂ + M₄₆*M₆₂ + M₄₇*M₇₂ + M₄₈*M₈₂ + M₉₂*M₄₉)*(M₁₁*M₁₄ + M₁₁₀*M₁₀₄ + M₁₆*M₆₄ + M₁₇*M₇₄ + M₂₄*M₁₂ + M₃₄*M₁₃ + M₄₄*M₁₄ + M₅₄*M₁₅ + M₈₄*M₁₈ + M₉₄*M₁₉))*((M₁₀₁*M₂₁₀ + M₂₁*M₁₁ + M₂₂*M₂₁ + M₂₆*M₆₁ + M₂₇*M₇₁ + M₃₁*M₂₃ + M₄₁*M₂₄ + M₅₁*M₂₅ + M₈₁*M₂₈ + M₉₁*M₂₉)*(M₁₀₂*M₂₁₀ + M₂₁*M₁₂ + M₂₆*M₆₂ + M₂₇*M₇₂ + M₃₂*M₂₃ + M₄₂*M₂₄ + M₅₂*M₂₅ + M₈₂*M₂₈ + M₉₂*M₂₉ + M₂₂^2) + (M₁₀₁*M₂₁₀ + M₂₁*M₁₁ + M₂₂*M₂₁ + M₂₆*M₆₁ + M₂₇*M₇₁ + M₃₁*M₂₃ + M₄₁*M₂₄ + M₅₁*M₂₅ + M₈₁*M₂₈ + M₉₁*M₂₉)*(M₁₁₀*M₁₀₁ + M₁₆*M₆₁ + M₁₇*M₇₁ + M₂₁*M₁₂ + M₃₁*M₁₃ + M₄₁*M₁₄ + M₅₁*M₁₅ + M₈₁*M₁₈ + M₉₁*M₁₉ + M₁₁^2) + (M₁₀₃*M₂₁₀ + M₂₁*M₁₃ + M₂₂*M₂₃ + M₂₆*M₆₃ + M₂₇*M₇₃ + M₃₃*M₂₃ + M₄₃*M₂₄ + M₅₃*M₂₅ + M₈₃*M₂₈ + M₉₃*M₂₉)*(M₁₀₁*M₃₁₀ + M₃₁*M₁₁ + M₃₁*M₃₃ + M₃₂*M₂₁ + M₃₅*M₅₁ + M₃₆*M₆₁ + M₃₇*M₇₁ + M₃₈*M₈₁ + M₄₁*M₃₄ + M₉₁*M₃₉) + (M₁₀₅*M₂₁₀ + M₂₁*M₁₅ + M₂₂*M₂₅ + M₂₆*M₆₅ + M₂₇*M₇₅ + M₃₅*M₂₃ + M₄₅*M₂₄ + M₅₅*M₂₅ + M₈₅*M₂₈ + M₉₅*M₂₉)*(M₁₀₁*M₅₁₀ + M₃₁*M₅₃ + M₄₁*M₅₄ + M₅₁*M₁₁ + M₅₂*M₂₁ + M₅₅*M₅₁ + M₅₆*M₆₁ + M₅₇*M₇₁ + M₈₁*M₅₈ + M₉₁*M₅₉) + (M₁₀₇*M₂₁₀ + M₂₁*M₁₇ + M₂₂*M₂₇ + M₂₆*M₆₇ + M₂₇*M₇₇ + M₃₇*M₂₃ + M₄₇*M₂₄ + M₅₇*M₂₅ + M₈₇*M₂₈ + M₉₇*M₂₉)*(M₁₁*M₇₁ + M₂₁*M₇₂ + M₃₁*M₇₃ + M₄₁*M₇₄ + M₅₁*M₇₅ + M₇₁*M₇₇ + M₇₁₀*M₁₀₁ + M₇₆*M₆₁ + M₈₁*M₇₈ + M₉₁*M₇₉) + (M₁₀₈*M₂₁₀ + M₂₁*M₁₈ + M₂₂*M₂₈ + M₂₆*M₆₈ + M₂₇*M₇₈ + M₃₈*M₂₃ + M₄₈*M₂₄ + M₅₈*M₂₅ + M₈₈*M₂₈ + M₉₈*M₂₉)*(M₁₀₁*M₈₁₀ + M₃₁*M₈₃ + M₄₁*M₈₄ + M₈₁*M₁₁ + M₈₁*M₈₈ + M₈₂*M₂₁ + M₈₅*M₅₁ + M₈₆*M₆₁ + M₈₇*M₇₁ + M₉₁*M₈₉) + (M₁₀₉*M₂₁₀ + M₂₁*M₁₉ + M₂₂*M₂₉ + M₂₆*M₆₉ + M₂₇*M₇₉ + M₃₉*M₂₃ + M₄₉*M₂₄ + M₅₉*M₂₅ + M₈₉*M₂₈ + M₉₉*M₂₉)*(M₉₁*M₁₁ + M₉₁*M₉₉ + M₉₁₀*M₁₀₁ + M₉₂*M₂₁ + M₉₃*M₃₁ + M₉₄*M₄₁ + M₉₅*M₅₁ + M₉₆*M₆₁ + M₉₇*M₇₁ + M₉₈*M₈₁) + (M₁₀₁₀*M₂₁₀ + M₁₁₀*M₂₁ + M₂₁₀*M₂₂ + M₃₁₀*M₂₃ + M₄₁₀*M₂₄ + M₅₁₀*M₂₅ + M₆₁₀*M₂₆ + M₇₁₀*M₂₇ + M₈₁₀*M₂₈ + M₉₁₀*M₂₉)*(M₁₀₁*M₁₁ + M₁₀₁₀*M₁₀₁ + M₁₀₂*M₂₁ + M₁₀₃*M₃₁ + M₁₀₄*M₄₁ + M₁₀₅*M₅₁ + M₁₀₆*M₆₁ + M₁₀₇*M₇₁ + M₁₀₈*M₈₁ + M₁₀₉*M₉₁) + (M₁₁*M₆₁ + M₂₁*M₆₂ + M₃₁*M₆₃ + M₄₁*M₆₄ + M₅₁*M₆₅ + M₆₁*M₆₆ + M₆₁₀*M₁₀₁ + M₇₁*M₆₇ + M₈₁*M₆₈ + M₉₁*M₆₉)*(M₁₀₆*M₂₁₀ + M₂₁*M₁₆ + M₂₂*M₂₆ + M₂₆*M₆₆ + M₂₇*M₇₆ + M₃₆*M₂₃ + M₄₆*M₂₄ + M₅₆*M₂₅ + M₈₆*M₂₈ + M₉₆*M₂₉) + (M₄₁*M₁₁ + M₄₁*M₄₄ + M₄₁₀*M₁₀₁ + M₄₂*M₂₁ + M₄₃*M₃₁ + M₄₅*M₅₁ + M₄₆*M₆₁ + M₄₇*M₇₁ + M₄₈*M₈₁ + M₉₁*M₄₉)*(M₁₀₄*M₂₁₀ + M₂₁*M₁₄ + M₂₂*M₂₄ + M₂₆*M₆₄ + M₂₇*M₇₄ + M₃₄*M₂₃ + M₄₄*M₂₄ + M₅₄*M₂₅ + M₈₄*M₂₈ + M₉₄*M₂₉)) + ((M₁₀₃*M₂₁₀ + M₂₁*M₁₃ + M₂₂*M₂₃ + M₂₆*M₆₃ + M₂₇*M₇₃ + M₃₃*M₂₃ + M₄₃*M₂₄ + M₅₃*M₂₅ + M₈₃*M₂₈ + M₉₃*M₂₉)*(M₁₁*M₁₂ + M₁₁₀*M₁₀₂ + M₁₆*M₆₂ + M₁₇*M₇₂ + M₂₂*M₁₂ + M₃₂*M₁₃ + M₄₂*M₁₄ + M₅₂*M₁₅ + M₈₂*M₁₈ + M₉₂*M₁₉) + (M₁₀₃*M₅₁₀ + M₃₃*M₅₃ + M₄₃*M₅₄ + M₅₁*M₁₃ + M₅₂*M₂₃ + M₅₅*M₅₃ + M₅₆*M₆₃ + M₅₇*M₇₃ + M₈₃*M₅₈ + M₉₃*M₅₉)*(M₁₁*M₁₅ + M₁₁₀*M₁₀₅ + M₁₆*M₆₅ + M₁₇*M₇₅ + M₂₅*M₁₂ + M₃₅*M₁₃ + M₄₅*M₁₄ + M₅₅*M₁₅ + M₈₅*M₁₈ + M₉₅*M₁₉) + (M₁₀₃*M₈₁₀ + M₃₃*M₈₃ + M₄₃*M₈₄ + M₈₁*M₁₃ + M₈₂*M₂₃ + M₈₃*M₈₈ + M₈₅*M₅₃ + M₈₆*M₆₃ + M₈₇*M₇₃ + M₉₃*M₈₉)*(M₁₁*M₁₈ + M₁₁₀*M₁₀₈ + M₁₆*M₆₈ + M₁₇*M₇₈ + M₂₈*M₁₂ + M₃₈*M₁₃ + M₄₈*M₁₄ + M₅₈*M₁₅ + M₈₈*M₁₈ + M₉₈*M₁₉) + (M₁₁*M₁₃ + M₁₁₀*M₁₀₃ + M₁₆*M₆₃ + M₁₇*M₇₃ + M₂₃*M₁₂ + M₃₃*M₁₃ + M₄₃*M₁₄ + M₅₃*M₁₅ + M₈₃*M₁₈ + M₉₃*M₁₉)*(M₁₀₃*M₃₁₀ + M₃₁*M₁₃ + M₃₂*M₂₃ + M₃₅*M₅₃ + M₃₆*M₆₃ + M₃₇*M₇₃ + M₃₈*M₈₃ + M₄₃*M₃₄ + M₉₃*M₃₉ + M₃₃^2) + (M₁₁*M₁₃ + M₁₁₀*M₁₀₃ + M₁₆*M₆₃ + M₁₇*M₇₃ + M₂₃*M₁₂ + M₃₃*M₁₃ + M₄₃*M₁₄ + M₅₃*M₁₅ + M₈₃*M₁₈ + M₉₃*M₁₉)*(M₁₁₀*M₁₀₁ + M₁₆*M₆₁ + M₁₇*M₇₁ + M₂₁*M₁₂ + M₃₁*M₁₃ + M₄₁*M₁₄ + M₅₁*M₁₅ + M₈₁*M₁₈ + M₉₁*M₁₉ + M₁₁^2) + (M₁₁*M₁₇ + M₁₁₀*M₁₀₇ + M₁₆*M₆₇ + M₁₇*M₇₇ + M₂₇*M₁₂ + M₃₇*M₁₃ + M₄₇*M₁₄ + M₅₇*M₁₅ + M₈₇*M₁₈ + M₉₇*M₁₉)*(M₁₃*M₇₁ + M₂₃*M₇₂ + M₃₃*M₇₃ + M₄₃*M₇₄ + M₅₃*M₇₅ + M₇₁₀*M₁₀₃ + M₇₃*M₇₇ + M₇₆*M₆₃ + M₈₃*M₇₈ + M₉₃*M₇₉) + (M₁₁*M₁₉ + M₁₁₀*M₁₀₉ + M₁₆*M₆₉ + M₁₇*M₇₉ + M₂₉*M₁₂ + M₃₉*M₁₃ + M₄₉*M₁₄ + M₅₉*M₁₅ + M₈₉*M₁₈ + M₉₉*M₁₉)*(M₉₁*M₁₃ + M₉₁₀*M₁₀₃ + M₉₂*M₂₃ + M₉₃*M₃₃ + M₉₄*M₄₃ + M₉₅*M₅₃ + M₉₆*M₆₃ + M₉₇*M₇₃ + M₉₈*M₈₃ + M₉₉*M₉₃) + (M₁₀₁₀*M₁₁₀ + M₁₁₀*M₁₁ + M₂₁₀*M₁₂ + M₃₁₀*M₁₃ + M₄₁₀*M₁₄ + M₅₁₀*M₁₅ + M₆₁₀*M₁₆ + M₇₁₀*M₁₇ + M₈₁₀*M₁₈ + M₉₁₀*M₁₉)*(M₁₀₁*M₁₃ + M₁₀₁₀*M₁₀₃ + M₁₀₂*M₂₃ + M₁₀₃*M₃₃ + M₁₀₄*M₄₃ + M₁₀₅*M₅₃ + M₁₀₆*M₆₃ + M₁₀₇*M₇₃ + M₁₀₈*M₈₃ + M₁₀₉*M₉₃) + (M₁₃*M₆₁ + M₂₃*M₆₂ + M₃₃*M₆₃ + M₄₃*M₆₄ + M₅₃*M₆₅ + M₆₁₀*M₁₀₃ + M₆₃*M₆₆ + M₇₃*M₆₇ + M₈₃*M₆₈ + M₉₃*M₆₉)*(M₁₁*M₁₆ + M₁₁₀*M₁₀₆ + M₁₆*M₆₆ + M₁₇*M₇₆ + M₂₆*M₁₂ + M₃₆*M₁₃ + M₄₆*M₁₄ + M₅₆*M₁₅ + M₈₆*M₁₈ + M₉₆*M₁₉) + (M₄₁*M₁₃ + M₄₁₀*M₁₀₃ + M₄₂*M₂₃ + M₄₃*M₃₃ + M₄₄*M₄₃ + M₄₅*M₅₃ + M₄₆*M₆₃ + M₄₇*M₇₃ + M₄₈*M₈₃ + M₉₃*M₄₉)*(M₁₁*M₁₄ + M₁₁₀*M₁₀₄ + M₁₆*M₆₄ + M₁₇*M₇₄ + M₂₄*M₁₂ + M₃₄*M₁₃ + M₄₄*M₁₄ + M₅₄*M₁₅ + M₈₄*M₁₈ + M₉₄*M₁₉))*((M₁₀₁*M₂₁₀ + M₂₁*M₁₁ + M₂₂*M₂₁ + M₂₆*M₆₁ + M₂₇*M₇₁ + M₃₁*M₂₃ + M₄₁*M₂₄ + M₅₁*M₂₅ + M₈₁*M₂₈ + M₉₁*M₂₉)*(M₁₀₂*M₃₁₀ + M₃₁*M₁₂ + M₃₂*M₂₂ + M₃₂*M₃₃ + M₃₅*M₅₂ + M₃₆*M₆₂ + M₃₇*M₇₂ + M₃₈*M₈₂ + M₄₂*M₃₄ + M₉₂*M₃₉) + (M₁₀₁*M₃₁₀ + M₃₁*M₁₁ + M₃₁*M₃₃ + M₃₂*M₂₁ + M₃₅*M₅₁ + M₃₆*M₆₁ + M₃₇*M₇₁ + M₃₈*M₈₁ + M₄₁*M₃₄ + M₉₁*M₃₉)*(M₁₀₃*M₃₁₀ + M₃₁*M₁₃ + M₃₂*M₂₃ + M₃₅*M₅₃ + M₃₆*M₆₃ + M₃₇*M₇₃ + M₃₈*M₈₃ + M₄₃*M₃₄ + M₉₃*M₃₉ + M₃₃^2) + (M₁₀₁*M₃₁₀ + M₃₁*M₁₁ + M₃₁*M₃₃ + M₃₂*M₂₁ + M₃₅*M₅₁ + M₃₆*M₆₁ + M₃₇*M₇₁ + M₃₈*M₈₁ + M₄₁*M₃₄ + M₉₁*M₃₉)*(M₁₁₀*M₁₀₁ + M₁₆*M₆₁ + M₁₇*M₇₁ + M₂₁*M₁₂ + M₃₁*M₁₃ + M₄₁*M₁₄ + M₅₁*M₁₅ + M₈₁*M₁₈ + M₉₁*M₁₉ + M₁₁^2) + (M₁₀₁*M₅₁₀ + M₃₁*M₅₃ + M₄₁*M₅₄ + M₅₁*M₁₁ + M₅₂*M₂₁ + M₅₅*M₅₁ + M₅₆*M₆₁ + M₅₇*M₇₁ + M₈₁*M₅₈ + M₉₁*M₅₉)*(M₁₀₅*M₃₁₀ + M₃₁*M₁₅ + M₃₂*M₂₅ + M₃₅*M₃₃ + M₃₅*M₅₅ + M₃₆*M₆₅ + M₃₇*M₇₅ + M₃₈*M₈₅ + M₄₅*M₃₄ + M₉₅*M₃₉) + (M₁₀₁*M₈₁₀ + M₃₁*M₈₃ + M₄₁*M₈₄ + M₈₁*M₁₁ + M₈₁*M₈₈ + M₈₂*M₂₁ + M₈₅*M₅₁ + M₈₆*M₆₁ + M₈₇*M₇₁ + M₉₁*M₈₉)*(M₁₀₈*M₃₁₀ + M₃₁*M₁₈ + M₃₂*M₂₈ + M₃₃*M₃₈ + M₃₅*M₅₈ + M₃₆*M₆₈ + M₃₇*M₇₈ + M₃₈*M₈₈ + M₄₈*M₃₄ + M₉₈*M₃₉) + (M₁₀₇*M₃₁₀ + M₃₁*M₁₇ + M₃₂*M₂₇ + M₃₃*M₃₇ + M₃₅*M₅₇ + M₃₆*M₆₇ + M₃₇*M₇₇ + M₃₈*M₈₇ + M₄₇*M₃₄ + M₉₇*M₃₉)*(M₁₁*M₇₁ + M₂₁*M₇₂ + M₃₁*M₇₃ + M₄₁*M₇₄ + M₅₁*M₇₅ + M₇₁*M₇₇ + M₇₁₀*M₁₀₁ + M₇₆*M₆₁ + M₈₁*M₇₈ + M₉₁*M₇₉) + (M₁₀₉*M₃₁₀ + M₃₁*M₁₉ + M₃₂*M₂₉ + M₃₃*M₃₉ + M₃₅*M₅₉ + M₃₆*M₆₉ + M₃₇*M₇₉ + M₃₈*M₈₉ + M₄₉*M₃₄ + M₉₉*M₃₉)*(M₉₁*M₁₁ + M₉₁*M₉₉ + M₉₁₀*M₁₀₁ + M₉₂*M₂₁ + M₉₃*M₃₁ + M₉₄*M₄₁ + M₉₅*M₅₁ + M₉₆*M₆₁ + M₉₇*M₇₁ + M₉₈*M₈₁) + (M₁₀₁₀*M₃₁₀ + M₁₁₀*M₃₁ + M₂₁₀*M₃₂ + M₃₁₀*M₃₃ + M₄₁₀*M₃₄ + M₅₁₀*M₃₅ + M₆₁₀*M₃₆ + M₇₁₀*M₃₇ + M₈₁₀*M₃₈ + M₉₁₀*M₃₉)*(M₁₀₁*M₁₁ + M₁₀₁₀*M₁₀₁ + M₁₀₂*M₂₁ + M₁₀₃*M₃₁ + M₁₀₄*M₄₁ + M₁₀₅*M₅₁ + M₁₀₆*M₆₁ + M₁₀₇*M₇₁ + M₁₀₈*M₈₁ + M₁₀₉*M₉₁) + (M₁₁*M₆₁ + M₂₁*M₆₂ + M₃₁*M₆₃ + M₄₁*M₆₄ + M₅₁*M₆₅ + M₆₁*M₆₆ + M₆₁₀*M₁₀₁ + M₇₁*M₆₇ + M₈₁*M₆₈ + M₉₁*M₆₉)*(M₁₀₆*M₃₁₀ + M₃₁*M₁₆ + M₃₂*M₂₆ + M₃₅*M₅₆ + M₃₆*M₃₃ + M₃₆*M₆₆ + M₃₇*M₇₆ + M₃₈*M₈₆ + M₄₆*M₃₄ + M₉₆*M₃₉) + (M₄₁*M₁₁ + M₄₁*M₄₄ + M₄₁₀*M₁₀₁ + M₄₂*M₂₁ + M₄₃*M₃₁ + M₄₅*M₅₁ + M₄₆*M₆₁ + M₄₇*M₇₁ + M₄₈*M₈₁ + M₉₁*M₄₉)*(M₁₀₄*M₃₁₀ + M₃₁*M₁₄ + M₃₂*M₂₄ + M₃₃*M₃₄ + M₃₅*M₅₄ + M₃₆*M₆₄ + M₃₇*M₇₄ + M₃₈*M₈₄ + M₄₄*M₃₄ + M₉₄*M₃₉)) + ((M₁₀₆*M₂₁₀ + M₂₁*M₁₆ + M₂₂*M₂₆ + M₂₆*M₆₆ + M₂₇*M₇₆ + M₃₆*M₂₃ + M₄₆*M₂₄ + M₅₆*M₂₅ + M₈₆*M₂₈ + M₉₆*M₂₉)*(M₁₁*M₁₂ + M₁₁₀*M₁₀₂ + M₁₆*M₆₂ + M₁₇*M₇₂ + M₂₂*M₁₂ + M₃₂*M₁₃ + M₄₂*M₁₄ + M₅₂*M₁₅ + M₈₂*M₁₈ + M₉₂*M₁₉) + (M₁₀₆*M₃₁₀ + M₃₁*M₁₆ + M₃₂*M₂₆ + M₃₅*M₅₆ + M₃₆*M₃₃ + M₃₆*M₆₆ + M₃₇*M₇₆ + M₃₈*M₈₆ + M₄₆*M₃₄ + M₉₆*M₃₉)*(M₁₁*M₁₃ + M₁₁₀*M₁₀₃ + M₁₆*M₆₃ + M₁₇*M₇₃ + M₂₃*M₁₂ + M₃₃*M₁₃ + M₄₃*M₁₄ + M₅₃*M₁₅ + M₈₃*M₁₈ + M₉₃*M₁₉) + (M₁₀₆*M₅₁₀ + M₃₆*M₅₃ + M₄₆*M₅₄ + M₅₁*M₁₆ + M₅₂*M₂₆ + M₅₆*M₅₅ + M₅₆*M₆₆ + M₅₇*M₇₆ + M₈₆*M₅₈ + M₉₆*M₅₉)*(M₁₁*M₁₅ + M₁₁₀*M₁₀₅ + M₁₆*M₆₅ + M₁₇*M₇₅ + M₂₅*M₁₂ + M₃₅*M₁₃ + M₄₅*M₁₄ + M₅₅*M₁₅ + M₈₅*M₁₈ + M₉₅*M₁₉) + (M₁₀₆*M₈₁₀ + M₃₆*M₈₃ + M₄₆*M₈₄ + M₈₁*M₁₆ + M₈₂*M₂₆ + M₈₅*M₅₆ + M₈₆*M₆₆ + M₈₇*M₇₆ + M₈₈*M₈₆ + M₉₆*M₈₉)*(M₁₁*M₁₈ + M₁₁₀*M₁₀₈ + M₁₆*M₆₈ + M₁₇*M₇₈ + M₂₈*M₁₂ + M₃₈*M₁₃ + M₄₈*M₁₄ + M₅₈*M₁₅ + M₈₈*M₁₈ + M₉₈*M₁₉) + (M₁₁*M₁₆ + M₁₁₀*M₁₀₆ + M₁₆*M₆₆ + M₁₇*M₇₆ + M₂₆*M₁₂ + M₃₆*M₁₃ + M₄₆*M₁₄ + M₅₆*M₁₅ + M₈₆*M₁₈ + M₉₆*M₁₉)*(M₁₁₀*M₁₀₁ + M₁₆*M₆₁ + M₁₇*M₇₁ + M₂₁*M₁₂ + M₃₁*M₁₃ + M₄₁*M₁₄ + M₅₁*M₁₅ + M₈₁*M₁₈ + M₉₁*M₁₉ + M₁₁^2) + (M₁₁*M₁₇ + M₁₁₀*M₁₀₇ + M₁₆*M₆₇ + M₁₇*M₇₇ + M₂₇*M₁₂ + M₃₇*M₁₃ + M₄₇*M₁₄ + M₅₇*M₁₅ + M₈₇*M₁₈ + M₉₇*M₁₉)*(M₁₆*M₇₁ + M₂₆*M₇₂ + M₃₆*M₇₃ + M₄₆*M₇₄ + M₅₆*M₇₅ + M₇₁₀*M₁₀₆ + M₇₆*M₆₆ + M₇₇*M₇₆ + M₈₆*M₇₈ + M₉₆*M₇₉) + (M₁₁*M₁₉ + M₁₁₀*M₁₀₉ + M₁₆*M₆₉ + M₁₇*M₇₉ + M₂₉*M₁₂ + M₃₉*M₁₃ + M₄₉*M₁₄ + M₅₉*M₁₅ + M₈₉*M₁₈ + M₉₉*M₁₉)*(M₉₁*M₁₆ + M₉₁₀*M₁₀₆ + M₉₂*M₂₆ + M₉₃*M₃₆ + M₉₄*M₄₆ + M₉₅*M₅₆ + M₉₆*M₆₆ + M₉₆*M₉₉ + M₉₇*M₇₆ + M₉₈*M₈₆) + (M₁₀₁₀*M₁₁₀ + M₁₁₀*M₁₁ + M₂₁₀*M₁₂ + M₃₁₀*M₁₃ + M₄₁₀*M₁₄ + M₅₁₀*M₁₅ + M₆₁₀*M₁₆ + M₇₁₀*M₁₇ + M₈₁₀*M₁₈ + M₉₁₀*M₁₉)*(M₁₀₁*M₁₆ + M₁₀₁₀*M₁₀₆ + M₁₀₂*M₂₆ + M₁₀₃*M₃₆ + M₁₀₄*M₄₆ + M₁₀₅*M₅₆ + M₁₀₆*M₆₆ + M₁₀₇*M₇₆ + M₁₀₈*M₈₆ + M₁₀₉*M₉₆) + (M₁₆*M₆₁ + M₂₆*M₆₂ + M₃₆*M₆₃ + M₄₆*M₆₄ + M₅₆*M₆₅ + M₆₁₀*M₁₀₆ + M₇₆*M₆₇ + M₈₆*M₆₈ + M₉₆*M₆₉ + M₆₆^2)*(M₁₁*M₁₆ + M₁₁₀*M₁₀₆ + M₁₆*M₆₆ + M₁₇*M₇₆ + M₂₆*M₁₂ + M₃₆*M₁₃ + M₄₆*M₁₄ + M₅₆*M₁₅ + M₈₆*M₁₈ + M₉₆*M₁₉) + (M₄₁*M₁₆ + M₄₁₀*M₁₀₆ + M₄₂*M₂₆ + M₄₃*M₃₆ + M₄₅*M₅₆ + M₄₆*M₄₄ + M₄₆*M₆₆ + M₄₇*M₇₆ + M₄₈*M₈₆ + M₉₆*M₄₉)*(M₁₁*M₁₄ + M₁₁₀*M₁₀₄ + M₁₆*M₆₄ + M₁₇*M₇₄ + M₂₄*M₁₂ + M₃₄*M₁₃ + M₄₄*M₁₄ + M₅₄*M₁₅ + M₈₄*M₁₈ + M₉₄*M₁₉))*((M₁₀₁₀*M₆₁₀ + M₁₁₀*M₆₁ + M₂₁₀*M₆₂ + M₃₁₀*M₆₃ + M₄₁₀*M₆₄ + M₅₁₀*M₆₅ + M₆₁₀*M₆₆ + M₇₁₀*M₆₇ + M₈₁₀*M₆₈ + M₉₁₀*M₆₉)*(M₁₀₁*M₁₁ + M₁₀₁₀*M₁₀₁ + M₁₀₂*M₂₁ + M₁₀₃*M₃₁ + M₁₀₄*M₄₁ + M₁₀₅*M₅₁ + M₁₀₆*M₆₁ + M₁₀₇*M₇₁ + M₁₀₈*M₈₁ + M₁₀₉*M₉₁) + (M₁₁*M₆₁ + M₂₁*M₆₂ + M₃₁*M₆₃ + M₄₁*M₆₄ + M₅₁*M₆₅ + M₆₁*M₆₆ + M₆₁₀*M₁₀₁ + M₇₁*M₆₇ + M₈₁*M₆₈ + M₉₁*M₆₉)*(M₁₁₀*M₁₀₁ + M₁₆*M₆₁ + M₁₇*M₇₁ + M₂₁*M₁₂ + M₃₁*M₁₃ + M₄₁*M₁₄ + M₅₁*M₁₅ + M₈₁*M₁₈ + M₉₁*M₁₉ + M₁₁^2) + (M₁₁*M₆₁ + M₂₁*M₆₂ + M₃₁*M₆₃ + M₄₁*M₆₄ + M₅₁*M₆₅ + M₆₁*M₆₆ + M₆₁₀*M₁₀₁ + M₇₁*M₆₇ + M₈₁*M₆₈ + M₉₁*M₆₉)*(M₁₆*M₆₁ + M₂₆*M₆₂ + M₃₆*M₆₃ + M₄₆*M₆₄ + M₅₆*M₆₅ + M₆₁₀*M₁₀₆ + M₇₆*M₆₇ + M₈₆*M₆₈ + M₉₆*M₆₉ + M₆₆^2) + (M₁₂*M₆₁ + M₂₂*M₆₂ + M₃₂*M₆₃ + M₄₂*M₆₄ + M₅₂*M₆₅ + M₆₁₀*M₁₀₂ + M₆₂*M₆₆ + M₇₂*M₆₇ + M₈₂*M₆₈ + M₉₂*M₆₉)*(M₁₀₁*M₂₁₀ + M₂₁*M₁₁ + M₂₂*M₂₁ + M₂₆*M₆₁ + M₂₇*M₇₁ + M₃₁*M₂₃ + M₄₁*M₂₄ + M₅₁*M₂₅ + M₈₁*M₂₈ + M₉₁*M₂₉) + (M₁₃*M₆₁ + M₂₃*M₆₂ + M₃₃*M₆₃ + M₄₃*M₆₄ + M₅₃*M₆₅ + M₆₁₀*M₁₀₃ + M₆₃*M₆₆ + M₇₃*M₆₇ + M₈₃*M₆₈ + M₉₃*M₆₉)*(M₁₀₁*M₃₁₀ + M₃₁*M₁₁ + M₃₁*M₃₃ + M₃₂*M₂₁ + M₃₅*M₅₁ + M₃₆*M₆₁ + M₃₇*M₇₁ + M₃₈*M₈₁ + M₄₁*M₃₄ + M₉₁*M₃₉) + (M₁₄*M₆₁ + M₂₄*M₆₂ + M₃₄*M₆₃ + M₄₄*M₆₄ + M₅₄*M₆₅ + M₆₁₀*M₁₀₄ + M₆₄*M₆₆ + M₇₄*M₆₇ + M₈₄*M₆₈ + M₉₄*M₆₉)*(M₄₁*M₁₁ + M₄₁*M₄₄ + M₄₁₀*M₁₀₁ + M₄₂*M₂₁ + M₄₃*M₃₁ + M₄₅*M₅₁ + M₄₆*M₆₁ + M₄₇*M₇₁ + M₄₈*M₈₁ + M₉₁*M₄₉) + (M₁₅*M₆₁ + M₂₅*M₆₂ + M₃₅*M₆₃ + M₄₅*M₆₄ + M₅₅*M₆₅ + M₆₁₀*M₁₀₅ + M₆₅*M₆₆ + M₇₅*M₆₇ + M₈₅*M₆₈ + M₉₅*M₆₉)*(M₁₀₁*M₅₁₀ + M₃₁*M₅₃ + M₄₁*M₅₄ + M₅₁*M₁₁ + M₅₂*M₂₁ + M₅₅*M₅₁ + M₅₆*M₆₁ + M₅₇*M₇₁ + M₈₁*M₅₈ + M₉₁*M₅₉) + (M₁₇*M₆₁ + M₂₇*M₆₂ + M₃₇*M₆₃ + M₄₇*M₆₄ + M₅₇*M₆₅ + M₆₁₀*M₁₀₇ + M₆₆*M₆₇ + M₇₇*M₆₇ + M₈₇*M₆₈ + M₉₇*M₆₉)*(M₁₁*M₇₁ + M₂₁*M₇₂ + M₃₁*M₇₃ + M₄₁*M₇₄ + M₅₁*M₇₅ + M₇₁*M₇₇ + M₇₁₀*M₁₀₁ + M₇₆*M₆₁ + M₈₁*M₇₈ + M₉₁*M₇₉) + (M₁₈*M₆₁ + M₂₈*M₆₂ + M₃₈*M₆₃ + M₄₈*M₆₄ + M₅₈*M₆₅ + M₆₁₀*M₁₀₈ + M₆₆*M₆₈ + M₇₈*M₆₇ + M₈₈*M₆₈ + M₉₈*M₆₉)*(M₁₀₁*M₈₁₀ + M₃₁*M₈₃ + M₄₁*M₈₄ + M₈₁*M₁₁ + M₈₁*M₈₈ + M₈₂*M₂₁ + M₈₅*M₅₁ + M₈₆*M₆₁ + M₈₇*M₇₁ + M₉₁*M₈₉) + (M₁₉*M₆₁ + M₂₉*M₆₂ + M₃₉*M₆₃ + M₄₉*M₆₄ + M₅₉*M₆₅ + M₆₁₀*M₁₀₉ + M₆₉*M₆₆ + M₇₉*M₆₇ + M₈₉*M₆₈ + M₉₉*M₆₉)*(M₉₁*M₁₁ + M₉₁*M₉₉ + M₉₁₀*M₁₀₁ + M₉₂*M₂₁ + M₉₃*M₃₁ + M₉₄*M₄₁ + M₉₅*M₅₁ + M₉₆*M₆₁ + M₉₇*M₇₁ + M₉₈*M₈₁)) + ((M₁₀₉*M₂₁₀ + M₂₁*M₁₉ + M₂₂*M₂₉ + M₂₆*M₆₉ + M₂₇*M₇₉ + M₃₉*M₂₃ + M₄₉*M₂₄ + M₅₉*M₂₅ + M₈₉*M₂₈ + M₉₉*M₂₉)*(M₁₁*M₁₂ + M₁₁₀*M₁₀₂ + M₁₆*M₆₂ + M₁₇*M₇₂ + M₂₂*M₁₂ + M₃₂*M₁₃ + M₄₂*M₁₄ + M₅₂*M₁₅ + M₈₂*M₁₈ + M₉₂*M₁₉) + (M₁₀₉*M₃₁₀ + M₃₁*M₁₉ + M₃₂*M₂₉ + M₃₃*M₃₉ + M₃₅*M₅₉ + M₃₆*M₆₉ + M₃₇*M₇₉ + M₃₈*M₈₉ + M₄₉*M₃₄ + M₉₉*M₃₉)*(M₁₁*M₁₃ + M₁₁₀*M₁₀₃ + M₁₆*M₆₃ + M₁₇*M₇₃ + M₂₃*M₁₂ + M₃₃*M₁₃ + M₄₃*M₁₄ + M₅₃*M₁₅ + M₈₃*M₁₈ + M₉₃*M₁₉) + (M₁₀₉*M₅₁₀ + M₃₉*M₅₃ + M₄₉*M₅₄ + M₅₁*M₁₉ + M₅₂*M₂₉ + M₅₅*M₅₉ + M₅₆*M₆₉ + M₅₇*M₇₉ + M₈₉*M₅₈ + M₉₉*M₅₉)*(M₁₁*M₁₅ + M₁₁₀*M₁₀₅ + M₁₆*M₆₅ + M₁₇*M₇₅ + M₂₅*M₁₂ + M₃₅*M₁₃ + M₄₅*M₁₄ + M₅₅*M₁₅ + M₈₅*M₁₈ + M₉₅*M₁₉) + (M₁₀₉*M₈₁₀ + M₃₉*M₈₃ + M₄₉*M₈₄ + M₈₁*M₁₉ + M₈₂*M₂₉ + M₈₅*M₅₉ + M₈₆*M₆₉ + M₈₇*M₇₉ + M₈₉*M₈₈ + M₉₉*M₈₉)*(M₁₁*M₁₈ + M₁₁₀*M₁₀₈ + M₁₆*M₆₈ + M₁₇*M₇₈ + M₂₈*M₁₂ + M₃₈*M₁₃ + M₄₈*M₁₄ + M₅₈*M₁₅ + M₈₈*M₁₈ + M₉₈*M₁₉) + (M₁₁*M₁₇ + M₁₁₀*M₁₀₇ + M₁₆*M₆₇ + M₁₇*M₇₇ + M₂₇*M₁₂ + M₃₇*M₁₃ + M₄₇*M₁₄ + M₅₇*M₁₅ + M₈₇*M₁₈ + M₉₇*M₁₉)*(M₁₉*M₇₁ + M₂₉*M₇₂ + M₃₉*M₇₃ + M₄₉*M₇₄ + M₅₉*M₇₅ + M₇₁₀*M₁₀₉ + M₇₆*M₆₉ + M₇₇*M₇₉ + M₈₉*M₇₈ + M₉₉*M₇₉) + (M₁₁*M₁₉ + M₁₁₀*M₁₀₉ + M₁₆*M₆₉ + M₁₇*M₇₉ + M₂₉*M₁₂ + M₃₉*M₁₃ + M₄₉*M₁₄ + M₅₉*M₁₅ + M₈₉*M₁₈ + M₉₉*M₁₉)*(M₁₁₀*M₁₀₁ + M₁₆*M₆₁ + M₁₇*M₇₁ + M₂₁*M₁₂ + M₃₁*M₁₃ + M₄₁*M₁₄ + M₅₁*M₁₅ + M₈₁*M₁₈ + M₉₁*M₁₉ + M₁₁^2) + (M₁₁*M₁₉ + M₁₁₀*M₁₀₉ + M₁₆*M₆₉ + M₁₇*M₇₉ + M₂₉*M₁₂ + M₃₉*M₁₃ + M₄₉*M₁₄ + M₅₉*M₁₅ + M₈₉*M₁₈ + M₉₉*M₁₉)*(M₉₁*M₁₉ + M₉₁₀*M₁₀₉ + M₉₂*M₂₉ + M₉₃*M₃₉ + M₉₄*M₄₉ + M₉₅*M₅₉ + M₉₆*M₆₉ + M₉₇*M₇₉ + M₉₈*M₈₉ + M₉₉^2) + (M₁₀₁₀*M₁₁₀ + M₁₁₀*M₁₁ + M₂₁₀*M₁₂ + M₃₁₀*M₁₃ + M₄₁₀*M₁₄ + M₅₁₀*M₁₅ + M₆₁₀*M₁₆ + M₇₁₀*M₁₇ + M₈₁₀*M₁₈ + M₉₁₀*M₁₉)*(M₁₀₁*M₁₉ + M₁₀₁₀*M₁₀₉ + M₁₀₂*M₂₉ + M₁₀₃*M₃₉ + M₁₀₄*M₄₉ + M₁₀₅*M₅₉ + M₁₀₆*M₆₉ + M₁₀₇*M₇₉ + M₁₀₈*M₈₉ + M₁₀₉*M₉₉) + (M₁₉*M₆₁ + M₂₉*M₆₂ + M₃₉*M₆₃ + M₄₉*M₆₄ + M₅₉*M₆₅ + M₆₁₀*M₁₀₉ + M₆₉*M₆₆ + M₇₉*M₆₇ + M₈₉*M₆₈ + M₉₉*M₆₉)*(M₁₁*M₁₆ + M₁₁₀*M₁₀₆ + M₁₆*M₆₆ + M₁₇*M₇₆ + M₂₆*M₁₂ + M₃₆*M₁₃ + M₄₆*M₁₄ + M₅₆*M₁₅ + M₈₆*M₁₈ + M₉₆*M₁₉) + (M₄₁*M₁₉ + M₄₁₀*M₁₀₉ + M₄₂*M₂₉ + M₄₃*M₃₉ + M₄₄*M₄₉ + M₄₅*M₅₉ + M₄₆*M₆₉ + M₄₇*M₇₉ + M₄₈*M₈₉ + M₉₉*M₄₉)*(M₁₁*M₁₄ + M₁₁₀*M₁₀₄ + M₁₆*M₆₄ + M₁₇*M₇₄ + M₂₄*M₁₂ + M₃₄*M₁₃ + M₄₄*M₁₄ + M₅₄*M₁₅ + M₈₄*M₁₈ + M₉₄*M₁₉))*((M₁₀₁*M₂₁₀ + M₂₁*M₁₁ + M₂₂*M₂₁ + M₂₆*M₆₁ + M₂₇*M₇₁ + M₃₁*M₂₃ + M₄₁*M₂₄ + M₅₁*M₂₅ + M₈₁*M₂₈ + M₉₁*M₂₉)*(M₉₁*M₁₂ + M₉₁₀*M₁₀₂ + M₉₂*M₂₂ + M₉₃*M₃₂ + M₉₄*M₄₂ + M₉₅*M₅₂ + M₉₆*M₆₂ + M₉₇*M₇₂ + M₉₈*M₈₂ + M₉₉*M₉₂) + (M₁₀₁*M₃₁₀ + M₃₁*M₁₁ + M₃₁*M₃₃ + M₃₂*M₂₁ + M₃₅*M₅₁ + M₃₆*M₆₁ + M₃₇*M₇₁ + M₃₈*M₈₁ + M₄₁*M₃₄ + M₉₁*M₃₉)*(M₉₁*M₁₃ + M₉₁₀*M₁₀₃ + M₉₂*M₂₃ + M₉₃*M₃₃ + M₉₄*M₄₃ + M₉₅*M₅₃ + M₉₆*M₆₃ + M₉₇*M₇₃ + M₉₈*M₈₃ + M₉₉*M₉₃) + (M₁₀₁*M₅₁₀ + M₃₁*M₅₃ + M₄₁*M₅₄ + M₅₁*M₁₁ + M₅₂*M₂₁ + M₅₅*M₅₁ + M₅₆*M₆₁ + M₅₇*M₇₁ + M₈₁*M₅₈ + M₉₁*M₅₉)*(M₉₁*M₁₅ + M₉₁₀*M₁₀₅ + M₉₂*M₂₅ + M₉₃*M₃₅ + M₉₄*M₄₅ + M₉₅*M₅₅ + M₉₆*M₆₅ + M₉₇*M₇₅ + M₉₈*M₈₅ + M₉₉*M₉₅) + (M₁₀₁*M₈₁₀ + M₃₁*M₈₃ + M₄₁*M₈₄ + M₈₁*M₁₁ + M₈₁*M₈₈ + M₈₂*M₂₁ + M₈₅*M₅₁ + M₈₆*M₆₁ + M₈₇*M₇₁ + M₉₁*M₈₉)*(M₉₁*M₁₈ + M₉₁₀*M₁₀₈ + M₉₂*M₂₈ + M₉₃*M₃₈ + M₉₄*M₄₈ + M₉₅*M₅₈ + M₉₆*M₆₈ + M₉₇*M₇₈ + M₉₈*M₈₈ + M₉₈*M₉₉) + (M₁₁₀*M₁₀₁ + M₁₆*M₆₁ + M₁₇*M₇₁ + M₂₁*M₁₂ + M₃₁*M₁₃ + M₄₁*M₁₄ + M₅₁*M₁₅ + M₈₁*M₁₈ + M₉₁*M₁₉ + M₁₁^2)*(M₉₁*M₁₁ + M₉₁*M₉₉ + M₉₁₀*M₁₀₁ + M₉₂*M₂₁ + M₉₃*M₃₁ + M₉₄*M₄₁ + M₉₅*M₅₁ + M₉₆*M₆₁ + M₉₇*M₇₁ + M₉₈*M₈₁) + (M₁₀₁₀*M₉₁₀ + M₁₁₀*M₉₁ + M₂₁₀*M₉₂ + M₃₁₀*M₉₃ + M₄₁₀*M₉₄ + M₅₁₀*M₉₅ + M₆₁₀*M₉₆ + M₇₁₀*M₉₇ + M₈₁₀*M₉₈ + M₉₁₀*M₉₉)*(M₁₀₁*M₁₁ + M₁₀₁₀*M₁₀₁ + M₁₀₂*M₂₁ + M₁₀₃*M₃₁ + M₁₀₄*M₄₁ + M₁₀₅*M₅₁ + M₁₀₆*M₆₁ + M₁₀₇*M₇₁ + M₁₀₈*M₈₁ + M₁₀₉*M₉₁) + (M₁₁*M₆₁ + M₂₁*M₆₂ + M₃₁*M₆₃ + M₄₁*M₆₄ + M₅₁*M₆₅ + M₆₁*M₆₆ + M₆₁₀*M₁₀₁ + M₇₁*M₆₇ + M₈₁*M₆₈ + M₉₁*M₆₉)*(M₉₁*M₁₆ + M₉₁₀*M₁₀₆ + M₉₂*M₂₆ + M₉₃*M₃₆ + M₉₄*M₄₆ + M₉₅*M₅₆ + M₉₆*M₆₆ + M₉₆*M₉₉ + M₉₇*M₇₆ + M₉₈*M₈₆) + (M₄₁*M₁₁ + M₄₁*M₄₄ + M₄₁₀*M₁₀₁ + M₄₂*M₂₁ + M₄₃*M₃₁ + M₄₅*M₅₁ + M₄₆*M₆₁ + M₄₇*M₇₁ + M₄₈*M₈₁ + M₉₁*M₄₉)*(M₉₁*M₁₄ + M₉₁₀*M₁₀₄ + M₉₂*M₂₄ + M₉₃*M₃₄ + M₉₄*M₄₄ + M₉₅*M₅₄ + M₉₆*M₆₄ + M₉₇*M₇₄ + M₉₈*M₈₄ + M₉₉*M₉₄) + (M₉₁*M₁₇ + M₉₁₀*M₁₀₇ + M₉₂*M₂₇ + M₉₃*M₃₇ + M₉₄*M₄₇ + M₉₅*M₅₇ + M₉₆*M₆₇ + M₉₇*M₇₇ + M₉₇*M₉₉ + M₉₈*M₈₇)*(M₁₁*M₇₁ + M₂₁*M₇₂ + M₃₁*M₇₃ + M₄₁*M₇₄ + M₅₁*M₇₅ + M₇₁*M₇₇ + M₇₁₀*M₁₀₁ + M₇₆*M₆₁ + M₈₁*M₇₈ + M₉₁*M₇₉) + (M₉₁*M₁₉ + M₉₁₀*M₁₀₉ + M₉₂*M₂₉ + M₉₃*M₃₉ + M₉₄*M₄₉ + M₉₅*M₅₉ + M₉₆*M₆₉ + M₉₇*M₇₉ + M₉₈*M₈₉ + M₉₉^2)*(M₉₁*M₁₁ + M₉₁*M₉₉ + M₉₁₀*M₁₀₁ + M₉₂*M₂₁ + M₉₃*M₃₁ + M₉₄*M₄₁ + M₉₅*M₅₁ + M₉₆*M₆₁ + M₉₇*M₇₁ + M₉₈*M₈₁)) + ((M₁₀₁*M₂₁₀ + M₂₁*M₁₁ + M₂₂*M₂₁ + M₂₆*M₆₁ + M₂₇*M₇₁ + M₃₁*M₂₃ + M₄₁*M₂₄ + M₅₁*M₂₅ + M₈₁*M₂₈ + M₉₁*M₂₉)*(M₁₀₂*M₈₁₀ + M₃₂*M₈₃ + M₄₂*M₈₄ + M₈₁*M₁₂ + M₈₂*M₂₂ + M₈₂*M₈₈ + M₈₅*M₅₂ + M₈₆*M₆₂ + M₈₇*M₇₂ + M₉₂*M₈₉) + (M₁₀₁*M₅₁₀ + M₃₁*M₅₃ + M₄₁*M₅₄ + M₅₁*M₁₁ + M₅₂*M₂₁ + M₅₅*M₅₁ + M₅₆*M₆₁ + M₅₇*M₇₁ + M₈₁*M₅₈ + M₉₁*M₅₉)*(M₁₀₅*M₈₁₀ + M₃₅*M₈₃ + M₄₅*M₈₄ + M₈₁*M₁₅ + M₈₂*M₂₅ + M₈₅*M₅₅ + M₈₆*M₆₅ + M₈₇*M₇₅ + M₈₈*M₈₅ + M₉₅*M₈₉) + (M₁₀₁*M₈₁₀ + M₃₁*M₈₃ + M₄₁*M₈₄ + M₈₁*M₁₁ + M₈₁*M₈₈ + M₈₂*M₂₁ + M₈₅*M₅₁ + M₈₆*M₆₁ + M₈₇*M₇₁ + M₉₁*M₈₉)*(M₁₀₈*M₈₁₀ + M₃₈*M₈₃ + M₄₈*M₈₄ + M₈₁*M₁₈ + M₈₂*M₂₈ + M₈₅*M₅₈ + M₈₆*M₆₈ + M₈₇*M₇₈ + M₉₈*M₈₉ + M₈₈^2) + (M₁₀₁*M₈₁₀ + M₃₁*M₈₃ + M₄₁*M₈₄ + M₈₁*M₁₁ + M₈₁*M₈₈ + M₈₂*M₂₁ + M₈₅*M₅₁ + M₈₆*M₆₁ + M₈₇*M₇₁ + M₉₁*M₈₉)*(M₁₁₀*M₁₀₁ + M₁₆*M₆₁ + M₁₇*M₇₁ + M₂₁*M₁₂ + M₃₁*M₁₃ + M₄₁*M₁₄ + M₅₁*M₁₅ + M₈₁*M₁₈ + M₉₁*M₁₉ + M₁₁^2) + (M₁₀₃*M₈₁₀ + M₃₃*M₈₃ + M₄₃*M₈₄ + M₈₁*M₁₃ + M₈₂*M₂₃ + M₈₃*M₈₈ + M₈₅*M₅₃ + M₈₆*M₆₃ + M₈₇*M₇₃ + M₉₃*M₈₉)*(M₁₀₁*M₃₁₀ + M₃₁*M₁₁ + M₃₁*M₃₃ + M₃₂*M₂₁ + M₃₅*M₅₁ + M₃₆*M₆₁ + M₃₇*M₇₁ + M₃₈*M₈₁ + M₄₁*M₃₄ + M₉₁*M₃₉) + (M₁₀₇*M₈₁₀ + M₃₇*M₈₃ + M₄₇*M₈₄ + M₈₁*M₁₇ + M₈₂*M₂₇ + M₈₅*M₅₇ + M₈₆*M₆₇ + M₈₇*M₇₇ + M₈₇*M₈₈ + M₉₇*M₈₉)*(M₁₁*M₇₁ + M₂₁*M₇₂ + M₃₁*M₇₃ + M₄₁*M₇₄ + M₅₁*M₇₅ + M₇₁*M₇₇ + M₇₁₀*M₁₀₁ + M₇₆*M₆₁ + M₈₁*M₇₈ + M₉₁*M₇₉) + (M₁₀₉*M₈₁₀ + M₃₉*M₈₃ + M₄₉*M₈₄ + M₈₁*M₁₉ + M₈₂*M₂₉ + M₈₅*M₅₉ + M₈₆*M₆₉ + M₈₇*M₇₉ + M₈₉*M₈₈ + M₉₉*M₈₉)*(M₉₁*M₁₁ + M₉₁*M₉₉ + M₉₁₀*M₁₀₁ + M₉₂*M₂₁ + M₉₃*M₃₁ + M₉₄*M₄₁ + M₉₅*M₅₁ + M₉₆*M₆₁ + M₉₇*M₇₁ + M₉₈*M₈₁) + (M₁₀₁₀*M₈₁₀ + M₁₁₀*M₈₁ + M₂₁₀*M₈₂ + M₃₁₀*M₈₃ + M₄₁₀*M₈₄ + M₅₁₀*M₈₅ + M₆₁₀*M₈₆ + M₇₁₀*M₈₇ + M₈₁₀*M₈₈ + M₉₁₀*M₈₉)*(M₁₀₁*M₁₁ + M₁₀₁₀*M₁₀₁ + M₁₀₂*M₂₁ + M₁₀₃*M₃₁ + M₁₀₄*M₄₁ + M₁₀₅*M₅₁ + M₁₀₆*M₆₁ + M₁₀₇*M₇₁ + M₁₀₈*M₈₁ + M₁₀₉*M₉₁) + (M₁₁*M₆₁ + M₂₁*M₆₂ + M₃₁*M₆₃ + M₄₁*M₆₄ + M₅₁*M₆₅ + M₆₁*M₆₆ + M₆₁₀*M₁₀₁ + M₇₁*M₆₇ + M₈₁*M₆₈ + M₉₁*M₆₉)*(M₁₀₆*M₈₁₀ + M₃₆*M₈₃ + M₄₆*M₈₄ + M₈₁*M₁₆ + M₈₂*M₂₆ + M₈₅*M₅₆ + M₈₆*M₆₆ + M₈₇*M₇₆ + M₈₈*M₈₆ + M₉₆*M₈₉) + (M₄₁*M₁₁ + M₄₁*M₄₄ + M₄₁₀*M₁₀₁ + M₄₂*M₂₁ + M₄₃*M₃₁ + M₄₅*M₅₁ + M₄₆*M₆₁ + M₄₇*M₇₁ + M₄₈*M₈₁ + M₉₁*M₄₉)*(M₁₀₄*M₈₁₀ + M₃₄*M₈₃ + M₄₄*M₈₄ + M₈₁*M₁₄ + M₈₂*M₂₄ + M₈₄*M₈₈ + M₈₅*M₅₄ + M₈₆*M₆₄ + M₈₇*M₇₄ + M₉₄*M₈₉))*((M₁₀₈*M₂₁₀ + M₂₁*M₁₈ + M₂₂*M₂₈ + M₂₆*M₆₈ + M₂₇*M₇₈ + M₃₈*M₂₃ + M₄₈*M₂₄ + M₅₈*M₂₅ + M₈₈*M₂₈ + M₉₈*M₂₉)*(M₁₁*M₁₂ + M₁₁₀*M₁₀₂ + M₁₆*M₆₂ + M₁₇*M₇₂ + M₂₂*M₁₂ + M₃₂*M₁₃ + M₄₂*M₁₄ + M₅₂*M₁₅ + M₈₂*M₁₈ + M₉₂*M₁₉) + (M₁₀₈*M₃₁₀ + M₃₁*M₁₈ + M₃₂*M₂₈ + M₃₃*M₃₈ + M₃₅*M₅₈ + M₃₆*M₆₈ + M₃₇*M₇₈ + M₃₈*M₈₈ + M₄₈*M₃₄ + M₉₈*M₃₉)*(M₁₁*M₁₃ + M₁₁₀*M₁₀₃ + M₁₆*M₆₃ + M₁₇*M₇₃ + M₂₃*M₁₂ + M₃₃*M₁₃ + M₄₃*M₁₄ + M₅₃*M₁₅ + M₈₃*M₁₈ + M₉₃*M₁₉) + (M₁₀₈*M₅₁₀ + M₃₈*M₅₃ + M₄₈*M₅₄ + M₅₁*M₁₈ + M₅₂*M₂₈ + M₅₅*M₅₈ + M₅₆*M₆₈ + M₅₇*M₇₈ + M₈₈*M₅₈ + M₉₈*M₅₉)*(M₁₁*M₁₅ + M₁₁₀*M₁₀₅ + M₁₆*M₆₅ + M₁₇*M₇₅ + M₂₅*M₁₂ + M₃₅*M₁₃ + M₄₅*M₁₄ + M₅₅*M₁₅ + M₈₅*M₁₈ + M₉₅*M₁₉) + (M₁₁*M₁₇ + M₁₁₀*M₁₀₇ + M₁₆*M₆₇ + M₁₇*M₇₇ + M₂₇*M₁₂ + M₃₇*M₁₃ + M₄₇*M₁₄ + M₅₇*M₁₅ + M₈₇*M₁₈ + M₉₇*M₁₉)*(M₁₈*M₇₁ + M₂₈*M₇₂ + M₃₈*M₇₃ + M₄₈*M₇₄ + M₅₈*M₇₅ + M₇₁₀*M₁₀₈ + M₇₆*M₆₈ + M₇₈*M₇₇ + M₈₈*M₇₈ + M₉₈*M₇₉) + (M₁₁*M₁₈ + M₁₁₀*M₁₀₈ + M₁₆*M₆₈ + M₁₇*M₇₈ + M₂₈*M₁₂ + M₃₈*M₁₃ + M₄₈*M₁₄ + M₅₈*M₁₅ + M₈₈*M₁₈ + M₉₈*M₁₉)*(M₁₀₈*M₈₁₀ + M₃₈*M₈₃ + M₄₈*M₈₄ + M₈₁*M₁₈ + M₈₂*M₂₈ + M₈₅*M₅₈ + M₈₆*M₆₈ + M₈₇*M₇₈ + M₉₈*M₈₉ + M₈₈^2) + (M₁₁*M₁₈ + M₁₁₀*M₁₀₈ + M₁₆*M₆₈ + M₁₇*M₇₈ + M₂₈*M₁₂ + M₃₈*M₁₃ + M₄₈*M₁₄ + M₅₈*M₁₅ + M₈₈*M₁₈ + M₉₈*M₁₉)*(M₁₁₀*M₁₀₁ + M₁₆*M₆₁ + M₁₇*M₇₁ + M₂₁*M₁₂ + M₃₁*M₁₃ + M₄₁*M₁₄ + M₅₁*M₁₅ + M₈₁*M₁₈ + M₉₁*M₁₉ + M₁₁^2) + (M₁₁*M₁₉ + M₁₁₀*M₁₀₉ + M₁₆*M₆₉ + M₁₇*M₇₉ + M₂₉*M₁₂ + M₃₉*M₁₃ + M₄₉*M₁₄ + M₅₉*M₁₅ + M₈₉*M₁₈ + M₉₉*M₁₉)*(M₉₁*M₁₈ + M₉₁₀*M₁₀₈ + M₉₂*M₂₈ + M₉₃*M₃₈ + M₉₄*M₄₈ + M₉₅*M₅₈ + M₉₆*M₆₈ + M₉₇*M₇₈ + M₉₈*M₈₈ + M₉₈*M₉₉) + (M₁₀₁₀*M₁₁₀ + M₁₁₀*M₁₁ + M₂₁₀*M₁₂ + M₃₁₀*M₁₃ + M₄₁₀*M₁₄ + M₅₁₀*M₁₅ + M₆₁₀*M₁₆ + M₇₁₀*M₁₇ + M₈₁₀*M₁₈ + M₉₁₀*M₁₉)*(M₁₀₁*M₁₈ + M₁₀₁₀*M₁₀₈ + M₁₀₂*M₂₈ + M₁₀₃*M₃₈ + M₁₀₄*M₄₈ + M₁₀₅*M₅₈ + M₁₀₆*M₆₈ + M₁₀₇*M₇₈ + M₁₀₈*M₈₈ + M₁₀₉*M₉₈) + (M₁₈*M₆₁ + M₂₈*M₆₂ + M₃₈*M₆₃ + M₄₈*M₆₄ + M₅₈*M₆₅ + M₆₁₀*M₁₀₈ + M₆₆*M₆₈ + M₇₈*M₆₇ + M₈₈*M₆₈ + M₉₈*M₆₉)*(M₁₁*M₁₆ + M₁₁₀*M₁₀₆ + M₁₆*M₆₆ + M₁₇*M₇₆ + M₂₆*M₁₂ + M₃₆*M₁₃ + M₄₆*M₁₄ + M₅₆*M₁₅ + M₈₆*M₁₈ + M₉₆*M₁₉) + (M₄₁*M₁₈ + M₄₁₀*M₁₀₈ + M₄₂*M₂₈ + M₄₃*M₃₈ + M₄₄*M₄₈ + M₄₅*M₅₈ + M₄₆*M₆₈ + M₄₇*M₇₈ + M₄₈*M₈₈ + M₉₈*M₄₉)*(M₁₁*M₁₄ + M₁₁₀*M₁₀₄ + M₁₆*M₆₄ + M₁₇*M₇₄ + M₂₄*M₁₂ + M₃₄*M₁₃ + M₄₄*M₁₄ + M₅₄*M₁₅ + M₈₄*M₁₈ + M₉₄*M₁₉)) + ((M₁₀₁*M₂₁₀ + M₂₁*M₁₁ + M₂₂*M₂₁ + M₂₆*M₆₁ + M₂₇*M₇₁ + M₃₁*M₂₃ + M₄₁*M₂₄ + M₅₁*M₂₅ + M₈₁*M₂₈ + M₉₁*M₂₉)*(M₁₀₁*M₁₂ + M₁₀₁₀*M₁₀₂ + M₁₀₂*M₂₂ + M₁₀₃*M₃₂ + M₁₀₄*M₄₂ + M₁₀₅*M₅₂ + M₁₀₆*M₆₂ + M₁₀₇*M₇₂ + M₁₀₈*M₈₂ + M₁₀₉*M₉₂) + (M₁₀₁*M₃₁₀ + M₃₁*M₁₁ + M₃₁*M₃₃ + M₃₂*M₂₁ + M₃₅*M₅₁ + M₃₆*M₆₁ + M₃₇*M₇₁ + M₃₈*M₈₁ + M₄₁*M₃₄ + M₉₁*M₃₉)*(M₁₀₁*M₁₃ + M₁₀₁₀*M₁₀₃ + M₁₀₂*M₂₃ + M₁₀₃*M₃₃ + M₁₀₄*M₄₃ + M₁₀₅*M₅₃ + M₁₀₆*M₆₃ + M₁₀₇*M₇₃ + M₁₀₈*M₈₃ + M₁₀₉*M₉₃) + (M₁₀₁*M₅₁₀ + M₃₁*M₅₃ + M₄₁*M₅₄ + M₅₁*M₁₁ + M₅₂*M₂₁ + M₅₅*M₅₁ + M₅₆*M₆₁ + M₅₇*M₇₁ + M₈₁*M₅₈ + M₉₁*M₅₉)*(M₁₀₁*M₁₅ + M₁₀₁₀*M₁₀₅ + M₁₀₂*M₂₅ + M₁₀₃*M₃₅ + M₁₀₄*M₄₅ + M₁₀₅*M₅₅ + M₁₀₆*M₆₅ + M₁₀₇*M₇₅ + M₁₀₈*M₈₅ + M₁₀₉*M₉₅) + (M₁₀₁*M₈₁₀ + M₃₁*M₈₃ + M₄₁*M₈₄ + M₈₁*M₁₁ + M₈₁*M₈₈ + M₈₂*M₂₁ + M₈₅*M₅₁ + M₈₆*M₆₁ + M₈₇*M₇₁ + M₉₁*M₈₉)*(M₁₀₁*M₁₈ + M₁₀₁₀*M₁₀₈ + M₁₀₂*M₂₈ + M₁₀₃*M₃₈ + M₁₀₄*M₄₈ + M₁₀₅*M₅₈ + M₁₀₆*M₆₈ + M₁₀₇*M₇₈ + M₁₀₈*M₈₈ + M₁₀₉*M₉₈) + (M₁₁₀*M₁₀₁ + M₁₆*M₆₁ + M₁₇*M₇₁ + M₂₁*M₁₂ + M₃₁*M₁₃ + M₄₁*M₁₄ + M₅₁*M₁₅ + M₈₁*M₁₈ + M₉₁*M₁₉ + M₁₁^2)*(M₁₀₁*M₁₁ + M₁₀₁₀*M₁₀₁ + M₁₀₂*M₂₁ + M₁₀₃*M₃₁ + M₁₀₄*M₄₁ + M₁₀₅*M₅₁ + M₁₀₆*M₆₁ + M₁₀₇*M₇₁ + M₁₀₈*M₈₁ + M₁₀₉*M₉₁) + (M₁₁*M₆₁ + M₂₁*M₆₂ + M₃₁*M₆₃ + M₄₁*M₆₄ + M₅₁*M₆₅ + M₆₁*M₆₆ + M₆₁₀*M₁₀₁ + M₇₁*M₆₇ + M₈₁*M₆₈ + M₉₁*M₆₉)*(M₁₀₁*M₁₆ + M₁₀₁₀*M₁₀₆ + M₁₀₂*M₂₆ + M₁₀₃*M₃₆ + M₁₀₄*M₄₆ + M₁₀₅*M₅₆ + M₁₀₆*M₆₆ + M₁₀₇*M₇₆ + M₁₀₈*M₈₆ + M₁₀₉*M₉₆) + (M₁₀₂*M₂₁₀ + M₁₀₃*M₃₁₀ + M₁₀₅*M₅₁₀ + M₁₀₈*M₈₁₀ + M₁₁₀*M₁₀₁ + M₄₁₀*M₁₀₄ + M₆₁₀*M₁₀₆ + M₇₁₀*M₁₀₇ + M₉₁₀*M₁₀₉ + M₁₀₁₀^2)*(M₁₀₁*M₁₁ + M₁₀₁₀*M₁₀₁ + M₁₀₂*M₂₁ + M₁₀₃*M₃₁ + M₁₀₄*M₄₁ + M₁₀₅*M₅₁ + M₁₀₆*M₆₁ + M₁₀₇*M₇₁ + M₁₀₈*M₈₁ + M₁₀₉*M₉₁) + (M₄₁*M₁₁ + M₄₁*M₄₄ + M₄₁₀*M₁₀₁ + M₄₂*M₂₁ + M₄₃*M₃₁ + M₄₅*M₅₁ + M₄₆*M₆₁ + M₄₇*M₇₁ + M₄₈*M₈₁ + M₉₁*M₄₉)*(M₁₀₁*M₁₄ + M₁₀₁₀*M₁₀₄ + M₁₀₂*M₂₄ + M₁₀₃*M₃₄ + M₁₀₄*M₄₄ + M₁₀₅*M₅₄ + M₁₀₆*M₆₄ + M₁₀₇*M₇₄ + M₁₀₈*M₈₄ + M₁₀₉*M₉₄) + (M₁₁*M₇₁ + M₂₁*M₇₂ + M₃₁*M₇₃ + M₄₁*M₇₄ + M₅₁*M₇₅ + M₇₁*M₇₇ + M₇₁₀*M₁₀₁ + M₇₆*M₆₁ + M₈₁*M₇₈ + M₉₁*M₇₉)*(M₁₀₁*M₁₇ + M₁₀₁₀*M₁₀₇ + M₁₀₂*M₂₇ + M₁₀₃*M₃₇ + M₁₀₄*M₄₇ + M₁₀₅*M₅₇ + M₁₀₆*M₆₇ + M₁₀₇*M₇₇ + M₁₀₈*M₈₇ + M₁₀₉*M₉₇) + (M₉₁*M₁₁ + M₉₁*M₉₉ + M₉₁₀*M₁₀₁ + M₉₂*M₂₁ + M₉₃*M₃₁ + M₉₄*M₄₁ + M₉₅*M₅₁ + M₉₆*M₆₁ + M₉₇*M₇₁ + M₉₈*M₈₁)*(M₁₀₁*M₁₉ + M₁₀₁₀*M₁₀₉ + M₁₀₂*M₂₉ + M₁₀₃*M₃₉ + M₁₀₄*M₄₉ + M₁₀₅*M₅₉ + M₁₀₆*M₆₉ + M₁₀₇*M₇₉ + M₁₀₈*M₈₉ + M₁₀₉*M₉₉))*((M₁₁₀*M₁₀₁ + M₁₆*M₆₁ + M₁₇*M₇₁ + M₂₁*M₁₂ + M₃₁*M₁₃ + M₄₁*M₁₄ + M₅₁*M₁₅ + M₈₁*M₁₈ + M₉₁*M₁₉ + M₁₁^2)*(M₁₀₁₀*M₁₁₀ + M₁₁₀*M₁₁ + M₂₁₀*M₁₂ + M₃₁₀*M₁₃ + M₄₁₀*M₁₄ + M₅₁₀*M₁₅ + M₆₁₀*M₁₆ + M₇₁₀*M₁₇ + M₈₁₀*M₁₈ + M₉₁₀*M₁₉) + (M₁₁*M₁₂ + M₁₁₀*M₁₀₂ + M₁₆*M₆₂ + M₁₇*M₇₂ + M₂₂*M₁₂ + M₃₂*M₁₃ + M₄₂*M₁₄ + M₅₂*M₁₅ + M₈₂*M₁₈ + M₉₂*M₁₉)*(M₁₀₁₀*M₂₁₀ + M₁₁₀*M₂₁ + M₂₁₀*M₂₂ + M₃₁₀*M₂₃ + M₄₁₀*M₂₄ + M₅₁₀*M₂₅ + M₆₁₀*M₂₆ + M₇₁₀*M₂₇ + M₈₁₀*M₂₈ + M₉₁₀*M₂₉) + (M₁₁*M₁₃ + M₁₁₀*M₁₀₃ + M₁₆*M₆₃ + M₁₇*M₇₃ + M₂₃*M₁₂ + M₃₃*M₁₃ + M₄₃*M₁₄ + M₅₃*M₁₅ + M₈₃*M₁₈ + M₉₃*M₁₉)*(M₁₀₁₀*M₃₁₀ + M₁₁₀*M₃₁ + M₂₁₀*M₃₂ + M₃₁₀*M₃₃ + M₄₁₀*M₃₄ + M₅₁₀*M₃₅ + M₆₁₀*M₃₆ + M₇₁₀*M₃₇ + M₈₁₀*M₃₈ + M₉₁₀*M₃₉) + (M₁₁*M₁₄ + M₁₁₀*M₁₀₄ + M₁₆*M₆₄ + M₁₇*M₇₄ + M₂₄*M₁₂ + M₃₄*M₁₃ + M₄₄*M₁₄ + M₅₄*M₁₅ + M₈₄*M₁₈ + M₉₄*M₁₉)*(M₁₀₁₀*M₄₁₀ + M₁₁₀*M₄₁ + M₂₁₀*M₄₂ + M₃₁₀*M₄₃ + M₄₁₀*M₄₄ + M₅₁₀*M₄₅ + M₆₁₀*M₄₆ + M₇₁₀*M₄₇ + M₈₁₀*M₄₈ + M₉₁₀*M₄₉) + (M₁₁*M₁₅ + M₁₁₀*M₁₀₅ + M₁₆*M₆₅ + M₁₇*M₇₅ + M₂₅*M₁₂ + M₃₅*M₁₃ + M₄₅*M₁₄ + M₅₅*M₁₅ + M₈₅*M₁₈ + M₉₅*M₁₉)*(M₁₀₁₀*M₅₁₀ + M₁₁₀*M₅₁ + M₂₁₀*M₅₂ + M₃₁₀*M₅₃ + M₄₁₀*M₅₄ + M₅₁₀*M₅₅ + M₆₁₀*M₅₆ + M₇₁₀*M₅₇ + M₈₁₀*M₅₈ + M₉₁₀*M₅₉) + (M₁₁*M₁₆ + M₁₁₀*M₁₀₆ + M₁₆*M₆₆ + M₁₇*M₇₆ + M₂₆*M₁₂ + M₃₆*M₁₃ + M₄₆*M₁₄ + M₅₆*M₁₅ + M₈₆*M₁₈ + M₉₆*M₁₉)*(M₁₀₁₀*M₆₁₀ + M₁₁₀*M₆₁ + M₂₁₀*M₆₂ + M₃₁₀*M₆₃ + M₄₁₀*M₆₄ + M₅₁₀*M₆₅ + M₆₁₀*M₆₆ + M₇₁₀*M₆₇ + M₈₁₀*M₆₈ + M₉₁₀*M₆₉) + (M₁₁*M₁₇ + M₁₁₀*M₁₀₇ + M₁₆*M₆₇ + M₁₇*M₇₇ + M₂₇*M₁₂ + M₃₇*M₁₃ + M₄₇*M₁₄ + M₅₇*M₁₅ + M₈₇*M₁₈ + M₉₇*M₁₉)*(M₁₀₁₀*M₇₁₀ + M₁₁₀*M₇₁ + M₂₁₀*M₇₂ + M₃₁₀*M₇₃ + M₄₁₀*M₇₄ + M₅₁₀*M₇₅ + M₆₁₀*M₇₆ + M₇₁₀*M₇₇ + M₈₁₀*M₇₈ + M₉₁₀*M₇₉) + (M₁₁*M₁₈ + M₁₁₀*M₁₀₈ + M₁₆*M₆₈ + M₁₇*M₇₈ + M₂₈*M₁₂ + M₃₈*M₁₃ + M₄₈*M₁₄ + M₅₈*M₁₅ + M₈₈*M₁₈ + M₉₈*M₁₉)*(M₁₀₁₀*M₈₁₀ + M₁₁₀*M₈₁ + M₂₁₀*M₈₂ + M₃₁₀*M₈₃ + M₄₁₀*M₈₄ + M₅₁₀*M₈₅ + M₆₁₀*M₈₆ + M₇₁₀*M₈₇ + M₈₁₀*M₈₈ + M₉₁₀*M₈₉) + (M₁₁*M₁₉ + M₁₁₀*M₁₀₉ + M₁₆*M₆₉ + M₁₇*M₇₉ + M₂₉*M₁₂ + M₃₉*M₁₃ + M₄₉*M₁₄ + M₅₉*M₁₅ + M₈₉*M₁₈ + M₉₉*M₁₉)*(M₁₀₁₀*M₉₁₀ + M₁₁₀*M₉₁ + M₂₁₀*M₉₂ + M₃₁₀*M₉₃ + M₄₁₀*M₉₄ + M₅₁₀*M₉₅ + M₆₁₀*M₉₆ + M₇₁₀*M₉₇ + M₈₁₀*M₉₈ + M₉₁₀*M₉₉) + (M₁₀₂*M₂₁₀ + M₁₀₃*M₃₁₀ + M₁₀₅*M₅₁₀ + M₁₀₈*M₈₁₀ + M₁₁₀*M₁₀₁ + M₄₁₀*M₁₀₄ + M₆₁₀*M₁₀₆ + M₇₁₀*M₁₀₇ + M₉₁₀*M₁₀₉ + M₁₀₁₀^2)*(M₁₀₁₀*M₁₁₀ + M₁₁₀*M₁₁ + M₂₁₀*M₁₂ + M₃₁₀*M₁₃ + M₄₁₀*M₁₄ + M₅₁₀*M₁₅ + M₆₁₀*M₁₆ + M₇₁₀*M₁₇ + M₈₁₀*M₁₈ + M₉₁₀*M₁₉)) + ((M₁₀₁*M₁₁ + M₁₀₁₀*M₁₀₁ + M₁₀₂*M₂₁ + M₁₀₃*M₃₁ + M₁₀₄*M₄₁ + M₁₀₅*M₅₁ + M₁₀₆*M₆₁ + M₁₀₇*M₇₁ + M₁₀₈*M₈₁ + M₁₀₉*M₉₁)*(M₁₀₁₀*M₄₁₀ + M₁₁₀*M₄₁ + M₂₁₀*M₄₂ + M₃₁₀*M₄₃ + M₄₁₀*M₄₄ + M₅₁₀*M₄₅ + M₆₁₀*M₄₆ + M₇₁₀*M₄₇ + M₈₁₀*M₄₈ + M₉₁₀*M₄₉) + (M₁₁*M₆₁ + M₂₁*M₆₂ + M₃₁*M₆₃ + M₄₁*M₆₄ + M₅₁*M₆₅ + M₆₁*M₆₆ + M₆₁₀*M₁₀₁ + M₇₁*M₆₇ + M₈₁*M₆₈ + M₉₁*M₆₉)*(M₄₁*M₁₆ + M₄₁₀*M₁₀₆ + M₄₂*M₂₆ + M₄₃*M₃₆ + M₄₅*M₅₆ + M₄₆*M₄₄ + M₄₆*M₆₆ + M₄₇*M₇₆ + M₄₈*M₈₆ + M₉₆*M₄₉) + (M₄₁*M₁₁ + M₄₁*M₄₄ + M₄₁₀*M₁₀₁ + M₄₂*M₂₁ + M₄₃*M₃₁ + M₄₅*M₅₁ + M₄₆*M₆₁ + M₄₇*M₇₁ + M₄₈*M₈₁ + M₉₁*M₄₉)*(M₁₁₀*M₁₀₁ + M₁₆*M₆₁ + M₁₇*M₇₁ + M₂₁*M₁₂ + M₃₁*M₁₃ + M₄₁*M₁₄ + M₅₁*M₁₅ + M₈₁*M₁₈ + M₉₁*M₁₉ + M₁₁^2) + (M₄₁*M₁₂ + M₄₁₀*M₁₀₂ + M₄₂*M₂₂ + M₄₂*M₄₄ + M₄₃*M₃₂ + M₄₅*M₅₂ + M₄₆*M₆₂ + M₄₇*M₇₂ + M₄₈*M₈₂ + M₉₂*M₄₉)*(M₁₀₁*M₂₁₀ + M₂₁*M₁₁ + M₂₂*M₂₁ + M₂₆*M₆₁ + M₂₇*M₇₁ + M₃₁*M₂₃ + M₄₁*M₂₄ + M₅₁*M₂₅ + M₈₁*M₂₈ + M₉₁*M₂₉) + (M₄₁*M₁₃ + M₄₁₀*M₁₀₃ + M₄₂*M₂₃ + M₄₃*M₃₃ + M₄₄*M₄₃ + M₄₅*M₅₃ + M₄₆*M₆₃ + M₄₇*M₇₃ + M₄₈*M₈₃ + M₉₃*M₄₉)*(M₁₀₁*M₃₁₀ + M₃₁*M₁₁ + M₃₁*M₃₃ + M₃₂*M₂₁ + M₃₅*M₅₁ + M₃₆*M₆₁ + M₃₇*M₇₁ + M₃₈*M₈₁ + M₄₁*M₃₄ + M₉₁*M₃₉) + (M₄₁*M₁₄ + M₄₁₀*M₁₀₄ + M₄₂*M₂₄ + M₄₃*M₃₄ + M₄₅*M₅₄ + M₄₆*M₆₄ + M₄₇*M₇₄ + M₄₈*M₈₄ + M₉₄*M₄₉ + M₄₄^2)*(M₄₁*M₁₁ + M₄₁*M₄₄ + M₄₁₀*M₁₀₁ + M₄₂*M₂₁ + M₄₃*M₃₁ + M₄₅*M₅₁ + M₄₆*M₆₁ + M₄₇*M₇₁ + M₄₈*M₈₁ + M₉₁*M₄₉) + (M₄₁*M₁₅ + M₄₁₀*M₁₀₅ + M₄₂*M₂₅ + M₄₃*M₃₅ + M₄₅*M₄₄ + M₄₅*M₅₅ + M₄₆*M₆₅ + M₄₇*M₇₅ + M₄₈*M₈₅ + M₉₅*M₄₉)*(M₁₀₁*M₅₁₀ + M₃₁*M₅₃ + M₄₁*M₅₄ + M₅₁*M₁₁ + M₅₂*M₂₁ + M₅₅*M₅₁ + M₅₆*M₆₁ + M₅₇*M₇₁ + M₈₁*M₅₈ + M₉₁*M₅₉) + (M₄₁*M₁₇ + M₄₁₀*M₁₀₇ + M₄₂*M₂₇ + M₄₃*M₃₇ + M₄₄*M₄₇ + M₄₅*M₅₇ + M₄₆*M₆₇ + M₄₇*M₇₇ + M₄₈*M₈₇ + M₉₇*M₄₉)*(M₁₁*M₇₁ + M₂₁*M₇₂ + M₃₁*M₇₃ + M₄₁*M₇₄ + M₅₁*M₇₅ + M₇₁*M₇₇ + M₇₁₀*M₁₀₁ + M₇₆*M₆₁ + M₈₁*M₇₈ + M₉₁*M₇₉) + (M₄₁*M₁₈ + M₄₁₀*M₁₀₈ + M₄₂*M₂₈ + M₄₃*M₃₈ + M₄₄*M₄₈ + M₄₅*M₅₈ + M₄₆*M₆₈ + M₄₇*M₇₈ + M₄₈*M₈₈ + M₉₈*M₄₉)*(M₁₀₁*M₈₁₀ + M₃₁*M₈₃ + M₄₁*M₈₄ + M₈₁*M₁₁ + M₈₁*M₈₈ + M₈₂*M₂₁ + M₈₅*M₅₁ + M₈₆*M₆₁ + M₈₇*M₇₁ + M₉₁*M₈₉) + (M₄₁*M₁₉ + M₄₁₀*M₁₀₉ + M₄₂*M₂₉ + M₄₃*M₃₉ + M₄₄*M₄₉ + M₄₅*M₅₉ + M₄₆*M₆₉ + M₄₇*M₇₉ + M₄₈*M₈₉ + M₉₉*M₄₉)*(M₉₁*M₁₁ + M₉₁*M₉₉ + M₉₁₀*M₁₀₁ + M₉₂*M₂₁ + M₉₃*M₃₁ + M₉₄*M₄₁ + M₉₅*M₅₁ + M₉₆*M₆₁ + M₉₇*M₇₁ + M₉₈*M₈₁))*((M₁₀₄*M₂₁₀ + M₂₁*M₁₄ + M₂₂*M₂₄ + M₂₆*M₆₄ + M₂₇*M₇₄ + M₃₄*M₂₃ + M₄₄*M₂₄ + M₅₄*M₂₅ + M₈₄*M₂₈ + M₉₄*M₂₉)*(M₁₁*M₁₂ + M₁₁₀*M₁₀₂ + M₁₆*M₆₂ + M₁₇*M₇₂ + M₂₂*M₁₂ + M₃₂*M₁₃ + M₄₂*M₁₄ + M₅₂*M₁₅ + M₈₂*M₁₈ + M₉₂*M₁₉) + (M₁₀₄*M₃₁₀ + M₃₁*M₁₄ + M₃₂*M₂₄ + M₃₃*M₃₄ + M₃₅*M₅₄ + M₃₆*M₆₄ + M₃₇*M₇₄ + M₃₈*M₈₄ + M₄₄*M₃₄ + M₉₄*M₃₉)*(M₁₁*M₁₃ + M₁₁₀*M₁₀₃ + M₁₆*M₆₃ + M₁₇*M₇₃ + M₂₃*M₁₂ + M₃₃*M₁₃ + M₄₃*M₁₄ + M₅₃*M₁₅ + M₈₃*M₁₈ + M₉₃*M₁₉) + (M₁₀₄*M₅₁₀ + M₃₄*M₅₃ + M₄₄*M₅₄ + M₅₁*M₁₄ + M₅₂*M₂₄ + M₅₅*M₅₄ + M₅₆*M₆₄ + M₅₇*M₇₄ + M₈₄*M₅₈ + M₉₄*M₅₉)*(M₁₁*M₁₅ + M₁₁₀*M₁₀₅ + M₁₆*M₆₅ + M₁₇*M₇₅ + M₂₅*M₁₂ + M₃₅*M₁₃ + M₄₅*M₁₄ + M₅₅*M₁₅ + M₈₅*M₁₈ + M₉₅*M₁₉) + (M₁₀₄*M₈₁₀ + M₃₄*M₈₃ + M₄₄*M₈₄ + M₈₁*M₁₄ + M₈₂*M₂₄ + M₈₄*M₈₈ + M₈₅*M₅₄ + M₈₆*M₆₄ + M₈₇*M₇₄ + M₉₄*M₈₉)*(M₁₁*M₁₈ + M₁₁₀*M₁₀₈ + M₁₆*M₆₈ + M₁₇*M₇₈ + M₂₈*M₁₂ + M₃₈*M₁₃ + M₄₈*M₁₄ + M₅₈*M₁₅ + M₈₈*M₁₈ + M₉₈*M₁₉) + (M₁₁*M₁₄ + M₁₁₀*M₁₀₄ + M₁₆*M₆₄ + M₁₇*M₇₄ + M₂₄*M₁₂ + M₃₄*M₁₃ + M₄₄*M₁₄ + M₅₄*M₁₅ + M₈₄*M₁₈ + M₉₄*M₁₉)*(M₁₁₀*M₁₀₁ + M₁₆*M₆₁ + M₁₇*M₇₁ + M₂₁*M₁₂ + M₃₁*M₁₃ + M₄₁*M₁₄ + M₅₁*M₁₅ + M₈₁*M₁₈ + M₉₁*M₁₉ + M₁₁^2) + (M₁₁*M₁₇ + M₁₁₀*M₁₀₇ + M₁₆*M₆₇ + M₁₇*M₇₇ + M₂₇*M₁₂ + M₃₇*M₁₃ + M₄₇*M₁₄ + M₅₇*M₁₅ + M₈₇*M₁₈ + M₉₇*M₁₉)*(M₁₄*M₇₁ + M₂₄*M₇₂ + M₃₄*M₇₃ + M₄₄*M₇₄ + M₅₄*M₇₅ + M₇₁₀*M₁₀₄ + M₇₄*M₇₇ + M₇₆*M₆₄ + M₈₄*M₇₈ + M₉₄*M₇₉) + (M₁₁*M₁₉ + M₁₁₀*M₁₀₉ + M₁₆*M₆₉ + M₁₇*M₇₉ + M₂₉*M₁₂ + M₃₉*M₁₃ + M₄₉*M₁₄ + M₅₉*M₁₅ + M₈₉*M₁₈ + M₉₉*M₁₉)*(M₉₁*M₁₄ + M₉₁₀*M₁₀₄ + M₉₂*M₂₄ + M₉₃*M₃₄ + M₉₄*M₄₄ + M₉₅*M₅₄ + M₉₆*M₆₄ + M₉₇*M₇₄ + M₉₈*M₈₄ + M₉₉*M₉₄) + (M₁₀₁₀*M₁₁₀ + M₁₁₀*M₁₁ + M₂₁₀*M₁₂ + M₃₁₀*M₁₃ + M₄₁₀*M₁₄ + M₅₁₀*M₁₅ + M₆₁₀*M₁₆ + M₇₁₀*M₁₇ + M₈₁₀*M₁₈ + M₉₁₀*M₁₉)*(M₁₀₁*M₁₄ + M₁₀₁₀*M₁₀₄ + M₁₀₂*M₂₄ + M₁₀₃*M₃₄ + M₁₀₄*M₄₄ + M₁₀₅*M₅₄ + M₁₀₆*M₆₄ + M₁₀₇*M₇₄ + M₁₀₈*M₈₄ + M₁₀₉*M₉₄) + (M₁₄*M₆₁ + M₂₄*M₆₂ + M₃₄*M₆₃ + M₄₄*M₆₄ + M₅₄*M₆₅ + M₆₁₀*M₁₀₄ + M₆₄*M₆₆ + M₇₄*M₆₇ + M₈₄*M₆₈ + M₉₄*M₆₉)*(M₁₁*M₁₆ + M₁₁₀*M₁₀₆ + M₁₆*M₆₆ + M₁₇*M₇₆ + M₂₆*M₁₂ + M₃₆*M₁₃ + M₄₆*M₁₄ + M₅₆*M₁₅ + M₈₆*M₁₈ + M₉₆*M₁₉) + (M₄₁*M₁₄ + M₄₁₀*M₁₀₄ + M₄₂*M₂₄ + M₄₃*M₃₄ + M₄₅*M₅₄ + M₄₆*M₆₄ + M₄₇*M₇₄ + M₄₈*M₈₄ + M₉₄*M₄₉ + M₄₄^2)*(M₁₁*M₁₄ + M₁₁₀*M₁₀₄ + M₁₆*M₆₄ + M₁₇*M₇₄ + M₂₄*M₁₂ + M₃₄*M₁₃ + M₄₄*M₁₄ + M₅₄*M₁₅ + M₈₄*M₁₈ + M₉₄*M₁₉)) + ((M₁₀₁*M₂₁₀ + M₂₁*M₁₁ + M₂₂*M₂₁ + M₂₆*M₆₁ + M₂₇*M₇₁ + M₃₁*M₂₃ + M₄₁*M₂₄ + M₅₁*M₂₅ + M₈₁*M₂₈ + M₉₁*M₂₉)*(M₁₁*M₁₂ + M₁₁₀*M₁₀₂ + M₁₆*M₆₂ + M₁₇*M₇₂ + M₂₂*M₁₂ + M₃₂*M₁₃ + M₄₂*M₁₄ + M₅₂*M₁₅ + M₈₂*M₁₈ + M₉₂*M₁₉) + (M₁₀₁*M₃₁₀ + M₃₁*M₁₁ + M₃₁*M₃₃ + M₃₂*M₂₁ + M₃₅*M₅₁ + M₃₆*M₆₁ + M₃₇*M₇₁ + M₃₈*M₈₁ + M₄₁*M₃₄ + M₉₁*M₃₉)*(M₁₁*M₁₃ + M₁₁₀*M₁₀₃ + M₁₆*M₆₃ + M₁₇*M₇₃ + M₂₃*M₁₂ + M₃₃*M₁₃ + M₄₃*M₁₄ + M₅₃*M₁₅ + M₈₃*M₁₈ + M₉₃*M₁₉) + (M₁₀₁*M₅₁₀ + M₃₁*M₅₃ + M₄₁*M₅₄ + M₅₁*M₁₁ + M₅₂*M₂₁ + M₅₅*M₅₁ + M₅₆*M₆₁ + M₅₇*M₇₁ + M₈₁*M₅₈ + M₉₁*M₅₉)*(M₁₁*M₁₅ + M₁₁₀*M₁₀₅ + M₁₆*M₆₅ + M₁₇*M₇₅ + M₂₅*M₁₂ + M₃₅*M₁₃ + M₄₅*M₁₄ + M₅₅*M₁₅ + M₈₅*M₁₈ + M₉₅*M₁₉) + (M₁₀₁*M₈₁₀ + M₃₁*M₈₃ + M₄₁*M₈₄ + M₈₁*M₁₁ + M₈₁*M₈₈ + M₈₂*M₂₁ + M₈₅*M₅₁ + M₈₆*M₆₁ + M₈₇*M₇₁ + M₉₁*M₈₉)*(M₁₁*M₁₈ + M₁₁₀*M₁₀₈ + M₁₆*M₆₈ + M₁₇*M₇₈ + M₂₈*M₁₂ + M₃₈*M₁₃ + M₄₈*M₁₄ + M₅₈*M₁₅ + M₈₈*M₁₈ + M₉₈*M₁₉) + (M₁₁*M₁₇ + M₁₁₀*M₁₀₇ + M₁₆*M₆₇ + M₁₇*M₇₇ + M₂₇*M₁₂ + M₃₇*M₁₃ + M₄₇*M₁₄ + M₅₇*M₁₅ + M₈₇*M₁₈ + M₉₇*M₁₉)*(M₁₁*M₇₁ + M₂₁*M₇₂ + M₃₁*M₇₃ + M₄₁*M₇₄ + M₅₁*M₇₅ + M₇₁*M₇₇ + M₇₁₀*M₁₀₁ + M₇₆*M₆₁ + M₈₁*M₇₈ + M₉₁*M₇₉) + (M₁₁*M₁₉ + M₁₁₀*M₁₀₉ + M₁₆*M₆₉ + M₁₇*M₇₉ + M₂₉*M₁₂ + M₃₉*M₁₃ + M₄₉*M₁₄ + M₅₉*M₁₅ + M₈₉*M₁₈ + M₉₉*M₁₉)*(M₉₁*M₁₁ + M₉₁*M₉₉ + M₉₁₀*M₁₀₁ + M₉₂*M₂₁ + M₉₃*M₃₁ + M₉₄*M₄₁ + M₉₅*M₅₁ + M₉₆*M₆₁ + M₉₇*M₇₁ + M₉₈*M₈₁) + (M₁₀₁₀*M₁₁₀ + M₁₁₀*M₁₁ + M₂₁₀*M₁₂ + M₃₁₀*M₁₃ + M₄₁₀*M₁₄ + M₅₁₀*M₁₅ + M₆₁₀*M₁₆ + M₇₁₀*M₁₇ + M₈₁₀*M₁₈ + M₉₁₀*M₁₉)*(M₁₀₁*M₁₁ + M₁₀₁₀*M₁₀₁ + M₁₀₂*M₂₁ + M₁₀₃*M₃₁ + M₁₀₄*M₄₁ + M₁₀₅*M₅₁ + M₁₀₆*M₆₁ + M₁₀₇*M₇₁ + M₁₀₈*M₈₁ + M₁₀₉*M₉₁) + (M₁₁*M₆₁ + M₂₁*M₆₂ + M₃₁*M₆₃ + M₄₁*M₆₄ + M₅₁*M₆₅ + M₆₁*M₆₆ + M₆₁₀*M₁₀₁ + M₇₁*M₆₇ + M₈₁*M₆₈ + M₉₁*M₆₉)*(M₁₁*M₁₆ + M₁₁₀*M₁₀₆ + M₁₆*M₆₆ + M₁₇*M₇₆ + M₂₆*M₁₂ + M₃₆*M₁₃ + M₄₆*M₁₄ + M₅₆*M₁₅ + M₈₆*M₁₈ + M₉₆*M₁₉) + (M₄₁*M₁₁ + M₄₁*M₄₄ + M₄₁₀*M₁₀₁ + M₄₂*M₂₁ + M₄₃*M₃₁ + M₄₅*M₅₁ + M₄₆*M₆₁ + M₄₇*M₇₁ + M₄₈*M₈₁ + M₉₁*M₄₉)*(M₁₁*M₁₄ + M₁₁₀*M₁₀₄ + M₁₆*M₆₄ + M₁₇*M₇₄ + M₂₄*M₁₂ + M₃₄*M₁₃ + M₄₄*M₁₄ + M₅₄*M₁₅ + M₈₄*M₁₈ + M₉₄*M₁₉) + (M₁₁₀*M₁₀₁ + M₁₆*M₆₁ + M₁₇*M₇₁ + M₂₁*M₁₂ + M₃₁*M₁₃ + M₄₁*M₁₄ + M₅₁*M₁₅ + M₈₁*M₁₈ + M₉₁*M₁₉ + M₁₁^2)^2)^2)*(M₁₁₀*M₁₀₁ + M₁₆*M₆₁ + M₁₇*M₇₁ + M₂₁*M₁₂ + M₃₁*M₁₃ + M₄₁*M₁₄ + M₅₁*M₁₅ + M₈₁*M₁₈ + M₉₁*M₁₉ + M₁₁^2) + (((M₁₀₁*M₂₁₀ + M₂₁*M₁₁ + M₂₂*M₂₁ + M₂₆*M₆₁ + M₂₇*M₇₁ + M₃₁*M₂₃ + M₄₁*M₂₄ + M₅₁*M₂₅ + M₈₁*M₂₈ + M₉₁*M₂₉)*(M₁₂*M₇₁ + M₂₂*M₇₂ + M₃₂*M₇₃ + M₄₂*M₇₄ + M₅₂*M₇₅ + M₇₁₀*M₁₀₂ + M₇₂*M₇₇ + M₇₆*M₆₂ + M₈₂*M₇₈ + M₉₂*M₇₉) + (M₁₀₁*M₃₁₀ + M₃₁*M₁₁ + M₃₁*M₃₃ + M₃₂*M₂₁ + M₃₅*M₅₁ + M₃₆*M₆₁ + M₃₇*M₇₁ + M₃₈*M₈₁ + M₄₁*M₃₄ + M₉₁*M₃₉)*(M₁₃*M₇₁ + M₂₃*M₇₂ + M₃₃*M₇₃ + M₄₃*M₇₄ + M₅₃*M₇₅ + M₇₁₀*M₁₀₃ + M₇₃*M₇₇ + M₇₆*M₆₃ + M₈₃*M₇₈ + M₉₃*M₇₉) + (M₁₀₁*M₅₁₀ + M₃₁*M₅₃ + M₄₁*M₅₄ + M₅₁*M₁₁ + M₅₂*M₂₁ + M₅₅*M₅₁ + M₅₆*M₆₁ + M₅₇*M₇₁ + M₈₁*M₅₈ + M₉₁*M₅₉)*(M₁₅*M₇₁ + M₂₅*M₇₂ + M₃₅*M₇₃ + M₄₅*M₇₄ + M₅₅*M₇₅ + M₇₁₀*M₁₀₅ + M₇₆*M₆₅ + M₇₇*M₇₅ + M₈₅*M₇₈ + M₉₅*M₇₉) + (M₁₀₁*M₈₁₀ + M₃₁*M₈₃ + M₄₁*M₈₄ + M₈₁*M₁₁ + M₈₁*M₈₈ + M₈₂*M₂₁ + M₈₅*M₅₁ + M₈₆*M₆₁ + M₈₇*M₇₁ + M₉₁*M₈₉)*(M₁₈*M₇₁ + M₂₈*M₇₂ + M₃₈*M₇₃ + M₄₈*M₇₄ + M₅₈*M₇₅ + M₇₁₀*M₁₀₈ + M₇₆*M₆₈ + M₇₈*M₇₇ + M₈₈*M₇₈ + M₉₈*M₇₉) + (M₁₀₁*M₁₁ + M₁₀₁₀*M₁₀₁ + M₁₀₂*M₂₁ + M₁₀₃*M₃₁ + M₁₀₄*M₄₁ + M₁₀₅*M₅₁ + M₁₀₆*M₆₁ + M₁₀₇*M₇₁ + M₁₀₈*M₈₁ + M₁₀₉*M₉₁)*(M₁₀₁₀*M₇₁₀ + M₁₁₀*M₇₁ + M₂₁₀*M₇₂ + M₃₁₀*M₇₃ + M₄₁₀*M₇₄ + M₅₁₀*M₇₅ + M₆₁₀*M₇₆ + M₇₁₀*M₇₇ + M₈₁₀*M₇₈ + M₉₁₀*M₇₉) + (M₁₁₀*M₁₀₁ + M₁₆*M₆₁ + M₁₇*M₇₁ + M₂₁*M₁₂ + M₃₁*M₁₃ + M₄₁*M₁₄ + M₅₁*M₁₅ + M₈₁*M₁₈ + M₉₁*M₁₉ + M₁₁^2)*(M₁₁*M₇₁ + M₂₁*M₇₂ + M₃₁*M₇₃ + M₄₁*M₇₄ + M₅₁*M₇₅ + M₇₁*M₇₇ + M₇₁₀*M₁₀₁ + M₇₆*M₆₁ + M₈₁*M₇₈ + M₉₁*M₇₉) + (M₁₁*M₆₁ + M₂₁*M₆₂ + M₃₁*M₆₃ + M₄₁*M₆₄ + M₅₁*M₆₅ + M₆₁*M₆₆ + M₆₁₀*M₁₀₁ + M₇₁*M₆₇ + M₈₁*M₆₈ + M₉₁*M₆₉)*(M₁₆*M₇₁ + M₂₆*M₇₂ + M₃₆*M₇₃ + M₄₆*M₇₄ + M₅₆*M₇₅ + M₇₁₀*M₁₀₆ + M₇₆*M₆₆ + M₇₇*M₇₆ + M₈₆*M₇₈ + M₉₆*M₇₉) + (M₄₁*M₁₁ + M₄₁*M₄₄ + M₄₁₀*M₁₀₁ + M₄₂*M₂₁ + M₄₃*M₃₁ + M₄₅*M₅₁ + M₄₆*M₆₁ + M₄₇*M₇₁ + M₄₈*M₈₁ + M₉₁*M₄₉)*(M₁₄*M₇₁ + M₂₄*M₇₂ + M₃₄*M₇₃ + M₄₄*M₇₄ + M₅₄*M₇₅ + M₇₁₀*M₁₀₄ + M₇₄*M₇₇ + M₇₆*M₆₄ + M₈₄*M₇₈ + M₉₄*M₇₉) + (M₉₁*M₁₁ + M₉₁*M₉₉ + M₉₁₀*M₁₀₁ + M₉₂*M₂₁ + M₉₃*M₃₁ + M₉₄*M₄₁ + M₉₅*M₅₁ + M₉₆*M₆₁ + M₉₇*M₇₁ + M₉₈*M₈₁)*(M₁₉*M₇₁ + M₂₉*M₇₂ + M₃₉*M₇₃ + M₄₉*M₇₄ + M₅₉*M₇₅ + M₇₁₀*M₁₀₉ + M₇₆*M₆₉ + M₇₇*M₇₉ + M₈₉*M₇₈ + M₉₉*M₇₉) + (M₁₇*M₇₁ + M₂₇*M₇₂ + M₃₇*M₇₃ + M₄₇*M₇₄ + M₅₇*M₇₅ + M₇₁₀*M₁₀₇ + M₇₆*M₆₇ + M₈₇*M₇₈ + M₉₇*M₇₉ + M₇₇^2)*(M₁₁*M₇₁ + M₂₁*M₇₂ + M₃₁*M₇₃ + M₄₁*M₇₄ + M₅₁*M₇₅ + M₇₁*M₇₇ + M₇₁₀*M₁₀₁ + M₇₆*M₆₁ + M₈₁*M₇₈ + M₉₁*M₇₉))*((M₁₀₇*M₂₁₀ + M₂₁*M₁₇ + M₂₂*M₂₇ + M₂₆*M₆₇ + M₂₇*M₇₇ + M₃₇*M₂₃ + M₄₇*M₂₄ + M₅₇*M₂₅ + M₈₇*M₂₈ + M₉₇*M₂₉)*(M₁₀₁*M₁₂ + M₁₀₁₀*M₁₀₂ + M₁₀₂*M₂₂ + M₁₀₃*M₃₂ + M₁₀₄*M₄₂ + M₁₀₅*M₅₂ + M₁₀₆*M₆₂ + M₁₀₇*M₇₂ + M₁₀₈*M₈₂ + M₁₀₉*M₉₂) + (M₁₀₇*M₃₁₀ + M₃₁*M₁₇ + M₃₂*M₂₇ + M₃₃*M₃₇ + M₃₅*M₅₇ + M₃₆*M₆₇ + M₃₇*M₇₇ + M₃₈*M₈₇ + M₄₇*M₃₄ + M₉₇*M₃₉)*(M₁₀₁*M₁₃ + M₁₀₁₀*M₁₀₃ + M₁₀₂*M₂₃ + M₁₀₃*M₃₃ + M₁₀₄*M₄₃ + M₁₀₅*M₅₃ + M₁₀₆*M₆₃ + M₁₀₇*M₇₃ + M₁₀₈*M₈₃ + M₁₀₉*M₉₃) + (M₁₀₇*M₅₁₀ + M₃₇*M₅₃ + M₄₇*M₅₄ + M₅₁*M₁₇ + M₅₂*M₂₇ + M₅₅*M₅₇ + M₅₆*M₆₇ + M₅₇*M₇₇ + M₈₇*M₅₈ + M₉₇*M₅₉)*(M₁₀₁*M₁₅ + M₁₀₁₀*M₁₀₅ + M₁₀₂*M₂₅ + M₁₀₃*M₃₅ + M₁₀₄*M₄₅ + M₁₀₅*M₅₅ + M₁₀₆*M₆₅ + M₁₀₇*M₇₅ + M₁₀₈*M₈₅ + M₁₀₉*M₉₅) + (M₁₀₇*M₈₁₀ + M₃₇*M₈₃ + M₄₇*M₈₄ + M₈₁*M₁₇ + M₈₂*M₂₇ + M₈₅*M₅₇ + M₈₆*M₆₇ + M₈₇*M₇₇ + M₈₇*M₈₈ + M₉₇*M₈₉)*(M₁₀₁*M₁₈ + M₁₀₁₀*M₁₀₈ + M₁₀₂*M₂₈ + M₁₀₃*M₃₈ + M₁₀₄*M₄₈ + M₁₀₅*M₅₈ + M₁₀₆*M₆₈ + M₁₀₇*M₇₈ + M₁₀₈*M₈₈ + M₁₀₉*M₉₈) + (M₁₁*M₁₇ + M₁₁₀*M₁₀₇ + M₁₆*M₆₇ + M₁₇*M₇₇ + M₂₇*M₁₂ + M₃₇*M₁₃ + M₄₇*M₁₄ + M₅₇*M₁₅ + M₈₇*M₁₈ + M₉₇*M₁₉)*(M₁₀₁*M₁₁ + M₁₀₁₀*M₁₀₁ + M₁₀₂*M₂₁ + M₁₀₃*M₃₁ + M₁₀₄*M₄₁ + M₁₀₅*M₅₁ + M₁₀₆*M₆₁ + M₁₀₇*M₇₁ + M₁₀₈*M₈₁ + M₁₀₉*M₉₁) + (M₁₀₂*M₂₁₀ + M₁₀₃*M₃₁₀ + M₁₀₅*M₅₁₀ + M₁₀₈*M₈₁₀ + M₁₁₀*M₁₀₁ + M₄₁₀*M₁₀₄ + M₆₁₀*M₁₀₆ + M₇₁₀*M₁₀₇ + M₉₁₀*M₁₀₉ + M₁₀₁₀^2)*(M₁₀₁*M₁₇ + M₁₀₁₀*M₁₀₇ + M₁₀₂*M₂₇ + M₁₀₃*M₃₇ + M₁₀₄*M₄₇ + M₁₀₅*M₅₇ + M₁₀₆*M₆₇ + M₁₀₇*M₇₇ + M₁₀₈*M₈₇ + M₁₀₉*M₉₇) + (M₁₇*M₆₁ + M₂₇*M₆₂ + M₃₇*M₆₃ + M₄₇*M₆₄ + M₅₇*M₆₅ + M₆₁₀*M₁₀₇ + M₆₆*M₆₇ + M₇₇*M₆₇ + M₈₇*M₆₈ + M₉₇*M₆₉)*(M₁₀₁*M₁₆ + M₁₀₁₀*M₁₀₆ + M₁₀₂*M₂₆ + M₁₀₃*M₃₆ + M₁₀₄*M₄₆ + M₁₀₅*M₅₆ + M₁₀₆*M₆₆ + M₁₀₇*M₇₆ + M₁₀₈*M₈₆ + M₁₀₉*M₉₆) + (M₉₁*M₁₇ + M₉₁₀*M₁₀₇ + M₉₂*M₂₇ + M₉₃*M₃₇ + M₉₄*M₄₇ + M₉₅*M₅₇ + M₉₆*M₆₇ + M₉₇*M₇₇ + M₉₇*M₉₉ + M₉₈*M₈₇)*(M₁₀₁*M₁₉ + M₁₀₁₀*M₁₀₉ + M₁₀₂*M₂₉ + M₁₀₃*M₃₉ + M₁₀₄*M₄₉ + M₁₀₅*M₅₉ + M₁₀₆*M₆₉ + M₁₀₇*M₇₉ + M₁₀₈*M₈₉ + M₁₀₉*M₉₉) + (M₄₁*M₁₇ + M₄₁₀*M₁₀₇ + M₄₂*M₂₇ + M₄₃*M₃₇ + M₄₄*M₄₇ + M₄₅*M₅₇ + M₄₆*M₆₇ + M₄₇*M₇₇ + M₄₈*M₈₇ + M₉₇*M₄₉)*(M₁₀₁*M₁₄ + M₁₀₁₀*M₁₀₄ + M₁₀₂*M₂₄ + M₁₀₃*M₃₄ + M₁₀₄*M₄₄ + M₁₀₅*M₅₄ + M₁₀₆*M₆₄ + M₁₀₇*M₇₄ + M₁₀₈*M₈₄ + M₁₀₉*M₉₄) + (M₁₇*M₇₁ + M₂₇*M₇₂ + M₃₇*M₇₃ + M₄₇*M₇₄ + M₅₇*M₇₅ + M₇₁₀*M₁₀₇ + M₇₆*M₆₇ + M₈₇*M₇₈ + M₉₇*M₇₉ + M₇₇^2)*(M₁₀₁*M₁₇ + M₁₀₁₀*M₁₀₇ + M₁₀₂*M₂₇ + M₁₀₃*M₃₇ + M₁₀₄*M₄₇ + M₁₀₅*M₅₇ + M₁₀₆*M₆₇ + M₁₀₇*M₇₇ + M₁₀₈*M₈₇ + M₁₀₉*M₉₇)) + ((M₁₀₁*M₂₁₀ + M₂₁*M₁₁ + M₂₂*M₂₁ + M₂₆*M₆₁ + M₂₇*M₇₁ + M₃₁*M₂₃ + M₄₁*M₂₄ + M₅₁*M₂₅ + M₈₁*M₂₈ + M₉₁*M₂₉)*(M₁₀₂*M₂₁₀ + M₂₁*M₁₂ + M₂₆*M₆₂ + M₂₇*M₇₂ + M₃₂*M₂₃ + M₄₂*M₂₄ + M₅₂*M₂₅ + M₈₂*M₂₈ + M₉₂*M₂₉ + M₂₂^2) + (M₁₀₁*M₂₁₀ + M₂₁*M₁₁ + M₂₂*M₂₁ + M₂₆*M₆₁ + M₂₇*M₇₁ + M₃₁*M₂₃ + M₄₁*M₂₄ + M₅₁*M₂₅ + M₈₁*M₂₈ + M₉₁*M₂₉)*(M₁₁₀*M₁₀₁ + M₁₆*M₆₁ + M₁₇*M₇₁ + M₂₁*M₁₂ + M₃₁*M₁₃ + M₄₁*M₁₄ + M₅₁*M₁₅ + M₈₁*M₁₈ + M₉₁*M₁₉ + M₁₁^2) + (M₁₀₃*M₂₁₀ + M₂₁*M₁₃ + M₂₂*M₂₃ + M₂₆*M₆₃ + M₂₇*M₇₃ + M₃₃*M₂₃ + M₄₃*M₂₄ + M₅₃*M₂₅ + M₈₃*M₂₈ + M₉₃*M₂₉)*(M₁₀₁*M₃₁₀ + M₃₁*M₁₁ + M₃₁*M₃₃ + M₃₂*M₂₁ + M₃₅*M₅₁ + M₃₆*M₆₁ + M₃₇*M₇₁ + M₃₈*M₈₁ + M₄₁*M₃₄ + M₉₁*M₃₉) + (M₁₀₅*M₂₁₀ + M₂₁*M₁₅ + M₂₂*M₂₅ + M₂₆*M₆₅ + M₂₇*M₇₅ + M₃₅*M₂₃ + M₄₅*M₂₄ + M₅₅*M₂₅ + M₈₅*M₂₈ + M₉₅*M₂₉)*(M₁₀₁*M₅₁₀ + M₃₁*M₅₃ + M₄₁*M₅₄ + M₅₁*M₁₁ + M₅₂*M₂₁ + M₅₅*M₅₁ + M₅₆*M₆₁ + M₅₇*M₇₁ + M₈₁*M₅₈ + M₉₁*M₅₉) + (M₁₀₇*M₂₁₀ + M₂₁*M₁₇ + M₂₂*M₂₇ + M₂₆*M₆₇ + M₂₇*M₇₇ + M₃₇*M₂₃ + M₄₇*M₂₄ + M₅₇*M₂₅ + M₈₇*M₂₈ + M₉₇*M₂₉)*(M₁₁*M₇₁ + M₂₁*M₇₂ + M₃₁*M₇₃ + M₄₁*M₇₄ + M₅₁*M₇₅ + M₇₁*M₇₇ + M₇₁₀*M₁₀₁ + M₇₆*M₆₁ + M₈₁*M₇₈ + M₉₁*M₇₉) + (M₁₀₈*M₂₁₀ + M₂₁*M₁₈ + M₂₂*M₂₈ + M₂₆*M₆₈ + M₂₇*M₇₈ + M₃₈*M₂₃ + M₄₈*M₂₄ + M₅₈*M₂₅ + M₈₈*M₂₈ + M₉₈*M₂₉)*(M₁₀₁*M₈₁₀ + M₃₁*M₈₃ + M₄₁*M₈₄ + M₈₁*M₁₁ + M₈₁*M₈₈ + M₈₂*M₂₁ + M₈₅*M₅₁ + M₈₆*M₆₁ + M₈₇*M₇₁ + M₉₁*M₈₉) + (M₁₀₉*M₂₁₀ + M₂₁*M₁₉ + M₂₂*M₂₉ + M₂₆*M₆₉ + M₂₇*M₇₉ + M₃₉*M₂₃ + M₄₉*M₂₄ + M₅₉*M₂₅ + M₈₉*M₂₈ + M₉₉*M₂₉)*(M₉₁*M₁₁ + M₉₁*M₉₉ + M₉₁₀*M₁₀₁ + M₉₂*M₂₁ + M₉₃*M₃₁ + M₉₄*M₄₁ + M₉₅*M₅₁ + M₉₆*M₆₁ + M₉₇*M₇₁ + M₉₈*M₈₁) + (M₁₀₁₀*M₂₁₀ + M₁₁₀*M₂₁ + M₂₁₀*M₂₂ + M₃₁₀*M₂₃ + M₄₁₀*M₂₄ + M₅₁₀*M₂₅ + M₆₁₀*M₂₆ + M₇₁₀*M₂₇ + M₈₁₀*M₂₈ + M₉₁₀*M₂₉)*(M₁₀₁*M₁₁ + M₁₀₁₀*M₁₀₁ + M₁₀₂*M₂₁ + M₁₀₃*M₃₁ + M₁₀₄*M₄₁ + M₁₀₅*M₅₁ + M₁₀₆*M₆₁ + M₁₀₇*M₇₁ + M₁₀₈*M₈₁ + M₁₀₉*M₉₁) + (M₁₁*M₆₁ + M₂₁*M₆₂ + M₃₁*M₆₃ + M₄₁*M₆₄ + M₅₁*M₆₅ + M₆₁*M₆₆ + M₆₁₀*M₁₀₁ + M₇₁*M₆₇ + M₈₁*M₆₈ + M₉₁*M₆₉)*(M₁₀₆*M₂₁₀ + M₂₁*M₁₆ + M₂₂*M₂₆ + M₂₆*M₆₆ + M₂₇*M₇₆ + M₃₆*M₂₃ + M₄₆*M₂₄ + M₅₆*M₂₅ + M₈₆*M₂₈ + M₉₆*M₂₉) + (M₄₁*M₁₁ + M₄₁*M₄₄ + M₄₁₀*M₁₀₁ + M₄₂*M₂₁ + M₄₃*M₃₁ + M₄₅*M₅₁ + M₄₆*M₆₁ + M₄₇*M₇₁ + M₄₈*M₈₁ + M₉₁*M₄₉)*(M₁₀₄*M₂₁₀ + M₂₁*M₁₄ + M₂₂*M₂₄ + M₂₆*M₆₄ + M₂₇*M₇₄ + M₃₄*M₂₃ + M₄₄*M₂₄ + M₅₄*M₂₅ + M₈₄*M₂₈ + M₉₄*M₂₉))*((M₁₀₂*M₂₁₀ + M₂₁*M₁₂ + M₂₆*M₆₂ + M₂₇*M₇₂ + M₃₂*M₂₃ + M₄₂*M₂₄ + M₅₂*M₂₅ + M₈₂*M₂₈ + M₉₂*M₂₉ + M₂₂^2)*(M₁₀₁*M₁₂ + M₁₀₁₀*M₁₀₂ + M₁₀₂*M₂₂ + M₁₀₃*M₃₂ + M₁₀₄*M₄₂ + M₁₀₅*M₅₂ + M₁₀₆*M₆₂ + M₁₀₇*M₇₂ + M₁₀₈*M₈₂ + M₁₀₉*M₉₂) + (M₁₀₂*M₃₁₀ + M₃₁*M₁₂ + M₃₂*M₂₂ + M₃₂*M₃₃ + M₃₅*M₅₂ + M₃₆*M₆₂ + M₃₇*M₇₂ + M₃₈*M₈₂ + M₄₂*M₃₄ + M₉₂*M₃₉)*(M₁₀₁*M₁₃ + M₁₀₁₀*M₁₀₃ + M₁₀₂*M₂₃ + M₁₀₃*M₃₃ + M₁₀₄*M₄₃ + M₁₀₅*M₅₃ + M₁₀₆*M₆₃ + M₁₀₇*M₇₃ + M₁₀₈*M₈₃ + M₁₀₉*M₉₃) + (M₁₀₂*M₅₁₀ + M₃₂*M₅₃ + M₄₂*M₅₄ + M₅₁*M₁₂ + M₅₂*M₂₂ + M₅₅*M₅₂ + M₅₆*M₆₂ + M₅₇*M₇₂ + M₈₂*M₅₈ + M₉₂*M₅₉)*(M₁₀₁*M₁₅ + M₁₀₁₀*M₁₀₅ + M₁₀₂*M₂₅ + M₁₀₃*M₃₅ + M₁₀₄*M₄₅ + M₁₀₅*M₅₅ + M₁₀₆*M₆₅ + M₁₀₇*M₇₅ + M₁₀₈*M₈₅ + M₁₀₉*M₉₅) + (M₁₀₂*M₈₁₀ + M₃₂*M₈₃ + M₄₂*M₈₄ + M₈₁*M₁₂ + M₈₂*M₂₂ + M₈₂*M₈₈ + M₈₅*M₅₂ + M₈₆*M₆₂ + M₈₇*M₇₂ + M₉₂*M₈₉)*(M₁₀₁*M₁₈ + M₁₀₁₀*M₁₀₈ + M₁₀₂*M₂₈ + M₁₀₃*M₃₈ + M₁₀₄*M₄₈ + M₁₀₅*M₅₈ + M₁₀₆*M₆₈ + M₁₀₇*M₇₈ + M₁₀₈*M₈₈ + M₁₀₉*M₉₈) + (M₁₁*M₁₂ + M₁₁₀*M₁₀₂ + M₁₆*M₆₂ + M₁₇*M₇₂ + M₂₂*M₁₂ + M₃₂*M₁₃ + M₄₂*M₁₄ + M₅₂*M₁₅ + M₈₂*M₁₈ + M₉₂*M₁₉)*(M₁₀₁*M₁₁ + M₁₀₁₀*M₁₀₁ + M₁₀₂*M₂₁ + M₁₀₃*M₃₁ + M₁₀₄*M₄₁ + M₁₀₅*M₅₁ + M₁₀₆*M₆₁ + M₁₀₇*M₇₁ + M₁₀₈*M₈₁ + M₁₀₉*M₉₁) + (M₁₂*M₆₁ + M₂₂*M₆₂ + M₃₂*M₆₃ + M₄₂*M₆₄ + M₅₂*M₆₅ + M₆₁₀*M₁₀₂ + M₆₂*M₆₆ + M₇₂*M₆₇ + M₈₂*M₆₈ + M₉₂*M₆₉)*(M₁₀₁*M₁₆ + M₁₀₁₀*M₁₀₆ + M₁₀₂*M₂₆ + M₁₀₃*M₃₆ + M₁₀₄*M₄₆ + M₁₀₅*M₅₆ + M₁₀₆*M₆₆ + M₁₀₇*M₇₆ + M₁₀₈*M₈₆ + M₁₀₉*M₉₆) + (M₁₀₂*M₂₁₀ + M₁₀₃*M₃₁₀ + M₁₀₅*M₅₁₀ + M₁₀₈*M₈₁₀ + M₁₁₀*M₁₀₁ + M₄₁₀*M₁₀₄ + M₆₁₀*M₁₀₆ + M₇₁₀*M₁₀₇ + M₉₁₀*M₁₀₉ + M₁₀₁₀^2)*(M₁₀₁*M₁₂ + M₁₀₁₀*M₁₀₂ + M₁₀₂*M₂₂ + M₁₀₃*M₃₂ + M₁₀₄*M₄₂ + M₁₀₅*M₅₂ + M₁₀₆*M₆₂ + M₁₀₇*M₇₂ + M₁₀₈*M₈₂ + M₁₀₉*M₉₂) + (M₉₁*M₁₂ + M₉₁₀*M₁₀₂ + M₉₂*M₂₂ + M₉₃*M₃₂ + M₉₄*M₄₂ + M₉₅*M₅₂ + M₉₆*M₆₂ + M₉₇*M₇₂ + M₉₈*M₈₂ + M₉₉*M₉₂)*(M₁₀₁*M₁₉ + M₁₀₁₀*M₁₀₉ + M₁₀₂*M₂₉ + M₁₀₃*M₃₉ + M₁₀₄*M₄₉ + M₁₀₅*M₅₉ + M₁₀₆*M₆₉ + M₁₀₇*M₇₉ + M₁₀₈*M₈₉ + M₁₀₉*M₉₉) + (M₄₁*M₁₂ + M₄₁₀*M₁₀₂ + M₄₂*M₂₂ + M₄₂*M₄₄ + M₄₃*M₃₂ + M₄₅*M₅₂ + M₄₆*M₆₂ + M₄₇*M₇₂ + M₄₈*M₈₂ + M₉₂*M₄₉)*(M₁₀₁*M₁₄ + M₁₀₁₀*M₁₀₄ + M₁₀₂*M₂₄ + M₁₀₃*M₃₄ + M₁₀₄*M₄₄ + M₁₀₅*M₅₄ + M₁₀₆*M₆₄ + M₁₀₇*M₇₄ + M₁₀₈*M₈₄ + M₁₀₉*M₉₄) + (M₁₂*M₇₁ + M₂₂*M₇₂ + M₃₂*M₇₃ + M₄₂*M₇₄ + M₅₂*M₇₅ + M₇₁₀*M₁₀₂ + M₇₂*M₇₇ + M₇₆*M₆₂ + M₈₂*M₇₈ + M₉₂*M₇₉)*(M₁₀₁*M₁₇ + M₁₀₁₀*M₁₀₇ + M₁₀₂*M₂₇ + M₁₀₃*M₃₇ + M₁₀₄*M₄₇ + M₁₀₅*M₅₇ + M₁₀₆*M₆₇ + M₁₀₇*M₇₇ + M₁₀₈*M₈₇ + M₁₀₉*M₉₇)) + ((M₁₀₁*M₂₁₀ + M₂₁*M₁₁ + M₂₂*M₂₁ + M₂₆*M₆₁ + M₂₇*M₇₁ + M₃₁*M₂₃ + M₄₁*M₂₄ + M₅₁*M₂₅ + M₈₁*M₂₈ + M₉₁*M₂₉)*(M₁₀₂*M₅₁₀ + M₃₂*M₅₃ + M₄₂*M₅₄ + M₅₁*M₁₂ + M₅₂*M₂₂ + M₅₅*M₅₂ + M₅₆*M₆₂ + M₅₇*M₇₂ + M₈₂*M₅₈ + M₉₂*M₅₉) + (M₁₀₁*M₅₁₀ + M₃₁*M₅₃ + M₄₁*M₅₄ + M₅₁*M₁₁ + M₅₂*M₂₁ + M₅₅*M₅₁ + M₅₆*M₆₁ + M₅₇*M₇₁ + M₈₁*M₅₈ + M₉₁*M₅₉)*(M₁₀₅*M₅₁₀ + M₃₅*M₅₃ + M₄₅*M₅₄ + M₅₁*M₁₅ + M₅₂*M₂₅ + M₅₆*M₆₅ + M₅₇*M₇₅ + M₈₅*M₅₈ + M₉₅*M₅₉ + M₅₅^2) + (M₁₀₁*M₅₁₀ + M₃₁*M₅₃ + M₄₁*M₅₄ + M₅₁*M₁₁ + M₅₂*M₂₁ + M₅₅*M₅₁ + M₅₆*M₆₁ + M₅₇*M₇₁ + M₈₁*M₅₈ + M₉₁*M₅₉)*(M₁₁₀*M₁₀₁ + M₁₆*M₆₁ + M₁₇*M₇₁ + M₂₁*M₁₂ + M₃₁*M₁₃ + M₄₁*M₁₄ + M₅₁*M₁₅ + M₈₁*M₁₈ + M₉₁*M₁₉ + M₁₁^2) + (M₁₀₃*M₅₁₀ + M₃₃*M₅₃ + M₄₃*M₅₄ + M₅₁*M₁₃ + M₅₂*M₂₃ + M₅₅*M₅₃ + M₅₆*M₆₃ + M₅₇*M₇₃ + M₈₃*M₅₈ + M₉₃*M₅₉)*(M₁₀₁*M₃₁₀ + M₃₁*M₁₁ + M₃₁*M₃₃ + M₃₂*M₂₁ + M₃₅*M₅₁ + M₃₆*M₆₁ + M₃₇*M₇₁ + M₃₈*M₈₁ + M₄₁*M₃₄ + M₉₁*M₃₉) + (M₁₀₇*M₅₁₀ + M₃₇*M₅₃ + M₄₇*M₅₄ + M₅₁*M₁₇ + M₅₂*M₂₇ + M₅₅*M₅₇ + M₅₆*M₆₇ + M₅₇*M₇₇ + M₈₇*M₅₈ + M₉₇*M₅₉)*(M₁₁*M₇₁ + M₂₁*M₇₂ + M₃₁*M₇₃ + M₄₁*M₇₄ + M₅₁*M₇₅ + M₇₁*M₇₇ + M₇₁₀*M₁₀₁ + M₇₆*M₆₁ + M₈₁*M₇₈ + M₉₁*M₇₉) + (M₁₀₈*M₅₁₀ + M₃₈*M₅₃ + M₄₈*M₅₄ + M₅₁*M₁₈ + M₅₂*M₂₈ + M₅₅*M₅₈ + M₅₆*M₆₈ + M₅₇*M₇₈ + M₈₈*M₅₈ + M₉₈*M₅₉)*(M₁₀₁*M₈₁₀ + M₃₁*M₈₃ + M₄₁*M₈₄ + M₈₁*M₁₁ + M₈₁*M₈₈ + M₈₂*M₂₁ + M₈₅*M₅₁ + M₈₆*M₆₁ + M₈₇*M₇₁ + M₉₁*M₈₉) + (M₁₀₉*M₅₁₀ + M₃₉*M₅₃ + M₄₉*M₅₄ + M₅₁*M₁₉ + M₅₂*M₂₉ + M₅₅*M₅₉ + M₅₆*M₆₉ + M₅₇*M₇₉ + M₈₉*M₅₈ + M₉₉*M₅₉)*(M₉₁*M₁₁ + M₉₁*M₉₉ + M₉₁₀*M₁₀₁ + M₉₂*M₂₁ + M₉₃*M₃₁ + M₉₄*M₄₁ + M₉₅*M₅₁ + M₉₆*M₆₁ + M₉₇*M₇₁ + M₉₈*M₈₁) + (M₁₀₁₀*M₅₁₀ + M₁₁₀*M₅₁ + M₂₁₀*M₅₂ + M₃₁₀*M₅₃ + M₄₁₀*M₅₄ + M₅₁₀*M₅₅ + M₆₁₀*M₅₆ + M₇₁₀*M₅₇ + M₈₁₀*M₅₈ + M₉₁₀*M₅₉)*(M₁₀₁*M₁₁ + M₁₀₁₀*M₁₀₁ + M₁₀₂*M₂₁ + M₁₀₃*M₃₁ + M₁₀₄*M₄₁ + M₁₀₅*M₅₁ + M₁₀₆*M₆₁ + M₁₀₇*M₇₁ + M₁₀₈*M₈₁ + M₁₀₉*M₉₁) + (M₁₁*M₆₁ + M₂₁*M₆₂ + M₃₁*M₆₃ + M₄₁*M₆₄ + M₅₁*M₆₅ + M₆₁*M₆₆ + M₆₁₀*M₁₀₁ + M₇₁*M₆₇ + M₈₁*M₆₈ + M₉₁*M₆₉)*(M₁₀₆*M₅₁₀ + M₃₆*M₅₃ + M₄₆*M₅₄ + M₅₁*M₁₆ + M₅₂*M₂₆ + M₅₆*M₅₅ + M₅₆*M₆₆ + M₅₇*M₇₆ + M₈₆*M₅₈ + M₉₆*M₅₉) + (M₄₁*M₁₁ + M₄₁*M₄₄ + M₄₁₀*M₁₀₁ + M₄₂*M₂₁ + M₄₃*M₃₁ + M₄₅*M₅₁ + M₄₆*M₆₁ + M₄₇*M₇₁ + M₄₈*M₈₁ + M₉₁*M₄₉)*(M₁₀₄*M₅₁₀ + M₃₄*M₅₃ + M₄₄*M₅₄ + M₅₁*M₁₄ + M₅₂*M₂₄ + M₅₅*M₅₄ + M₅₆*M₆₄ + M₅₇*M₇₄ + M₈₄*M₅₈ + M₉₄*M₅₉))*((M₁₀₅*M₂₁₀ + M₂₁*M₁₅ + M₂₂*M₂₅ + M₂₆*M₆₅ + M₂₇*M₇₅ + M₃₅*M₂₃ + M₄₅*M₂₄ + M₅₅*M₂₅ + M₈₅*M₂₈ + M₉₅*M₂₉)*(M₁₀₁*M₁₂ + M₁₀₁₀*M₁₀₂ + M₁₀₂*M₂₂ + M₁₀₃*M₃₂ + M₁₀₄*M₄₂ + M₁₀₅*M₅₂ + M₁₀₆*M₆₂ + M₁₀₇*M₇₂ + M₁₀₈*M₈₂ + M₁₀₉*M₉₂) + (M₁₀₅*M₃₁₀ + M₃₁*M₁₅ + M₃₂*M₂₅ + M₃₅*M₃₃ + M₃₅*M₅₅ + M₃₆*M₆₅ + M₃₇*M₇₅ + M₃₈*M₈₅ + M₄₅*M₃₄ + M₉₅*M₃₉)*(M₁₀₁*M₁₃ + M₁₀₁₀*M₁₀₃ + M₁₀₂*M₂₃ + M₁₀₃*M₃₃ + M₁₀₄*M₄₃ + M₁₀₅*M₅₃ + M₁₀₆*M₆₃ + M₁₀₇*M₇₃ + M₁₀₈*M₈₃ + M₁₀₉*M₉₃) + (M₁₀₅*M₅₁₀ + M₃₅*M₅₃ + M₄₅*M₅₄ + M₅₁*M₁₅ + M₅₂*M₂₅ + M₅₆*M₆₅ + M₅₇*M₇₅ + M₈₅*M₅₈ + M₉₅*M₅₉ + M₅₅^2)*(M₁₀₁*M₁₅ + M₁₀₁₀*M₁₀₅ + M₁₀₂*M₂₅ + M₁₀₃*M₃₅ + M₁₀₄*M₄₅ + M₁₀₅*M₅₅ + M₁₀₆*M₆₅ + M₁₀₇*M₇₅ + M₁₀₈*M₈₅ + M₁₀₉*M₉₅) + (M₁₀₅*M₈₁₀ + M₃₅*M₈₃ + M₄₅*M₈₄ + M₈₁*M₁₅ + M₈₂*M₂₅ + M₈₅*M₅₅ + M₈₆*M₆₅ + M₈₇*M₇₅ + M₈₈*M₈₅ + M₉₅*M₈₉)*(M₁₀₁*M₁₈ + M₁₀₁₀*M₁₀₈ + M₁₀₂*M₂₈ + M₁₀₃*M₃₈ + M₁₀₄*M₄₈ + M₁₀₅*M₅₈ + M₁₀₆*M₆₈ + M₁₀₇*M₇₈ + M₁₀₈*M₈₈ + M₁₀₉*M₉₈) + (M₁₁*M₁₅ + M₁₁₀*M₁₀₅ + M₁₆*M₆₅ + M₁₇*M₇₅ + M₂₅*M₁₂ + M₃₅*M₁₃ + M₄₅*M₁₄ + M₅₅*M₁₅ + M₈₅*M₁₈ + M₉₅*M₁₉)*(M₁₀₁*M₁₁ + M₁₀₁₀*M₁₀₁ + M₁₀₂*M₂₁ + M₁₀₃*M₃₁ + M₁₀₄*M₄₁ + M₁₀₅*M₅₁ + M₁₀₆*M₆₁ + M₁₀₇*M₇₁ + M₁₀₈*M₈₁ + M₁₀₉*M₉₁) + (M₁₅*M₆₁ + M₂₅*M₆₂ + M₃₅*M₆₃ + M₄₅*M₆₄ + M₅₅*M₆₅ + M₆₁₀*M₁₀₅ + M₆₅*M₆₆ + M₇₅*M₆₇ + M₈₅*M₆₈ + M₉₅*M₆₉)*(M₁₀₁*M₁₆ + M₁₀₁₀*M₁₀₆ + M₁₀₂*M₂₆ + M₁₀₃*M₃₆ + M₁₀₄*M₄₆ + M₁₀₅*M₅₆ + M₁₀₆*M₆₆ + M₁₀₇*M₇₆ + M₁₀₈*M₈₆ + M₁₀₉*M₉₆) + (M₁₀₂*M₂₁₀ + M₁₀₃*M₃₁₀ + M₁₀₅*M₅₁₀ + M₁₀₈*M₈₁₀ + M₁₁₀*M₁₀₁ + M₄₁₀*M₁₀₄ + M₆₁₀*M₁₀₆ + M₇₁₀*M₁₀₇ + M₉₁₀*M₁₀₉ + M₁₀₁₀^2)*(M₁₀₁*M₁₅ + M₁₀₁₀*M₁₀₅ + M₁₀₂*M₂₅ + M₁₀₃*M₃₅ + M₁₀₄*M₄₅ + M₁₀₅*M₅₅ + M₁₀₆*M₆₅ + M₁₀₇*M₇₅ + M₁₀₈*M₈₅ + M₁₀₉*M₉₅) + (M₉₁*M₁₅ + M₉₁₀*M₁₀₅ + M₉₂*M₂₅ + M₉₃*M₃₅ + M₉₄*M₄₅ + M₉₅*M₅₅ + M₉₆*M₆₅ + M₉₇*M₇₅ + M₉₈*M₈₅ + M₉₉*M₉₅)*(M₁₀₁*M₁₉ + M₁₀₁₀*M₁₀₉ + M₁₀₂*M₂₉ + M₁₀₃*M₃₉ + M₁₀₄*M₄₉ + M₁₀₅*M₅₉ + M₁₀₆*M₆₉ + M₁₀₇*M₇₉ + M₁₀₈*M₈₉ + M₁₀₉*M₉₉) + (M₄₁*M₁₅ + M₄₁₀*M₁₀₅ + M₄₂*M₂₅ + M₄₃*M₃₅ + M₄₅*M₄₄ + M₄₅*M₅₅ + M₄₆*M₆₅ + M₄₇*M₇₅ + M₄₈*M₈₅ + M₉₅*M₄₉)*(M₁₀₁*M₁₄ + M₁₀₁₀*M₁₀₄ + M₁₀₂*M₂₄ + M₁₀₃*M₃₄ + M₁₀₄*M₄₄ + M₁₀₅*M₅₄ + M₁₀₆*M₆₄ + M₁₀₇*M₇₄ + M₁₀₈*M₈₄ + M₁₀₉*M₉₄) + (M₁₅*M₇₁ + M₂₅*M₇₂ + M₃₅*M₇₃ + M₄₅*M₇₄ + M₅₅*M₇₅ + M₇₁₀*M₁₀₅ + M₇₆*M₆₅ + M₇₇*M₇₅ + M₈₅*M₇₈ + M₉₅*M₇₉)*(M₁₀₁*M₁₇ + M₁₀₁₀*M₁₀₇ + M₁₀₂*M₂₇ + M₁₀₃*M₃₇ + M₁₀₄*M₄₇ + M₁₀₅*M₅₇ + M₁₀₆*M₆₇ + M₁₀₇*M₇₇ + M₁₀₈*M₈₇ + M₁₀₉*M₉₇)) + ((M₁₀₉*M₂₁₀ + M₂₁*M₁₉ + M₂₂*M₂₉ + M₂₆*M₆₉ + M₂₇*M₇₉ + M₃₉*M₂₃ + M₄₉*M₂₄ + M₅₉*M₂₅ + M₈₉*M₂₈ + M₉₉*M₂₉)*(M₁₀₁*M₁₂ + M₁₀₁₀*M₁₀₂ + M₁₀₂*M₂₂ + M₁₀₃*M₃₂ + M₁₀₄*M₄₂ + M₁₀₅*M₅₂ + M₁₀₆*M₆₂ + M₁₀₇*M₇₂ + M₁₀₈*M₈₂ + M₁₀₉*M₉₂) + (M₁₀₉*M₃₁₀ + M₃₁*M₁₉ + M₃₂*M₂₉ + M₃₃*M₃₉ + M₃₅*M₅₉ + M₃₆*M₆₉ + M₃₇*M₇₉ + M₃₈*M₈₉ + M₄₉*M₃₄ + M₉₉*M₃₉)*(M₁₀₁*M₁₃ + M₁₀₁₀*M₁₀₃ + M₁₀₂*M₂₃ + M₁₀₃*M₃₃ + M₁₀₄*M₄₃ + M₁₀₅*M₅₃ + M₁₀₆*M₆₃ + M₁₀₇*M₇₃ + M₁₀₈*M₈₃ + M₁₀₉*M₉₃) + (M₁₀₉*M₅₁₀ + M₃₉*M₅₃ + M₄₉*M₅₄ + M₅₁*M₁₉ + M₅₂*M₂₉ + M₅₅*M₅₉ + M₅₆*M₆₉ + M₅₇*M₇₉ + M₈₉*M₅₈ + M₉₉*M₅₉)*(M₁₀₁*M₁₅ + M₁₀₁₀*M₁₀₅ + M₁₀₂*M₂₅ + M₁₀₃*M₃₅ + M₁₀₄*M₄₅ + M₁₀₅*M₅₅ + M₁₀₆*M₆₅ + M₁₀₇*M₇₅ + M₁₀₈*M₈₅ + M₁₀₉*M₉₅) + (M₁₀₉*M₈₁₀ + M₃₉*M₈₃ + M₄₉*M₈₄ + M₈₁*M₁₉ + M₈₂*M₂₉ + M₈₅*M₅₉ + M₈₆*M₆₉ + M₈₇*M₇₉ + M₈₉*M₈₈ + M₉₉*M₈₉)*(M₁₀₁*M₁₈ + M₁₀₁₀*M₁₀₈ + M₁₀₂*M₂₈ + M₁₀₃*M₃₈ + M₁₀₄*M₄₈ + M₁₀₅*M₅₈ + M₁₀₆*M₆₈ + M₁₀₇*M₇₈ + M₁₀₈*M₈₈ + M₁₀₉*M₉₈) + (M₁₁*M₁₉ + M₁₁₀*M₁₀₉ + M₁₆*M₆₉ + M₁₇*M₇₉ + M₂₉*M₁₂ + M₃₉*M₁₃ + M₄₉*M₁₄ + M₅₉*M₁₅ + M₈₉*M₁₈ + M₉₉*M₁₉)*(M₁₀₁*M₁₁ + M₁₀₁₀*M₁₀₁ + M₁₀₂*M₂₁ + M₁₀₃*M₃₁ + M₁₀₄*M₄₁ + M₁₀₅*M₅₁ + M₁₀₆*M₆₁ + M₁₀₇*M₇₁ + M₁₀₈*M₈₁ + M₁₀₉*M₉₁) + (M₁₀₂*M₂₁₀ + M₁₀₃*M₃₁₀ + M₁₀₅*M₅₁₀ + M₁₀₈*M₈₁₀ + M₁₁₀*M₁₀₁ + M₄₁₀*M₁₀₄ + M₆₁₀*M₁₀₆ + M₇₁₀*M₁₀₇ + M₉₁₀*M₁₀₉ + M₁₀₁₀^2)*(M₁₀₁*M₁₉ + M₁₀₁₀*M₁₀₉ + M₁₀₂*M₂₉ + M₁₀₃*M₃₉ + M₁₀₄*M₄₉ + M₁₀₅*M₅₉ + M₁₀₆*M₆₉ + M₁₀₇*M₇₉ + M₁₀₈*M₈₉ + M₁₀₉*M₉₉) + (M₁₉*M₆₁ + M₂₉*M₆₂ + M₃₉*M₆₃ + M₄₉*M₆₄ + M₅₉*M₆₅ + M₆₁₀*M₁₀₉ + M₆₉*M₆₆ + M₇₉*M₆₇ + M₈₉*M₆₈ + M₉₉*M₆₉)*(M₁₀₁*M₁₆ + M₁₀₁₀*M₁₀₆ + M₁₀₂*M₂₆ + M₁₀₃*M₃₆ + M₁₀₄*M₄₆ + M₁₀₅*M₅₆ + M₁₀₆*M₆₆ + M₁₀₇*M₇₆ + M₁₀₈*M₈₆ + M₁₀₉*M₉₆) + (M₉₁*M₁₉ + M₉₁₀*M₁₀₉ + M₉₂*M₂₉ + M₉₃*M₃₉ + M₉₄*M₄₉ + M₉₅*M₅₉ + M₉₆*M₆₉ + M₉₇*M₇₉ + M₉₈*M₈₉ + M₉₉^2)*(M₁₀₁*M₁₉ + M₁₀₁₀*M₁₀₉ + M₁₀₂*M₂₉ + M₁₀₃*M₃₉ + M₁₀₄*M₄₉ + M₁₀₅*M₅₉ + M₁₀₆*M₆₉ + M₁₀₇*M₇₉ + M₁₀₈*M₈₉ + M₁₀₉*M₉₉) + (M₄₁*M₁₉ + M₄₁₀*M₁₀₉ + M₄₂*M₂₉ + M₄₃*M₃₉ + M₄₄*M₄₉ + M₄₅*M₅₉ + M₄₆*M₆₉ + M₄₇*M₇₉ + M₄₈*M₈₉ + M₉₉*M₄₉)*(M₁₀₁*M₁₄ + M₁₀₁₀*M₁₀₄ + M₁₀₂*M₂₄ + M₁₀₃*M₃₄ + M₁₀₄*M₄₄ + M₁₀₅*M₅₄ + M₁₀₆*M₆₄ + M₁₀₇*M₇₄ + M₁₀₈*M₈₄ + M₁₀₉*M₉₄) + (M₁₉*M₇₁ + M₂₉*M₇₂ + M₃₉*M₇₃ + M₄₉*M₇₄ + M₅₉*M₇₅ + M₇₁₀*M₁₀₉ + M₇₆*M₆₉ + M₇₇*M₇₉ + M₈₉*M₇₈ + M₉₉*M₇₉)*(M₁₀₁*M₁₇ + M₁₀₁₀*M₁₀₇ + M₁₀₂*M₂₇ + M₁₀₃*M₃₇ + M₁₀₄*M₄₇ + M₁₀₅*M₅₇ + M₁₀₆*M₆₇ + M₁₀₇*M₇₇ + M₁₀₈*M₈₇ + M₁₀₉*M₉₇))*((M₁₀₁*M₂₁₀ + M₂₁*M₁₁ + M₂₂*M₂₁ + M₂₆*M₆₁ + M₂₇*M₇₁ + M₃₁*M₂₃ + M₄₁*M₂₄ + M₅₁*M₂₅ + M₈₁*M₂₈ + M₉₁*M₂₉)*(M₉₁*M₁₂ + M₉₁₀*M₁₀₂ + M₉₂*M₂₂ + M₉₃*M₃₂ + M₉₄*M₄₂ + M₉₅*M₅₂ + M₉₆*M₆₂ + M₉₇*M₇₂ + M₉₈*M₈₂ + M₉₉*M₉₂) + (M₁₀₁*M₃₁₀ + M₃₁*M₁₁ + M₃₁*M₃₃ + M₃₂*M₂₁ + M₃₅*M₅₁ + M₃₆*M₆₁ + M₃₇*M₇₁ + M₃₈*M₈₁ + M₄₁*M₃₄ + M₉₁*M₃₉)*(M₉₁*M₁₃ + M₉₁₀*M₁₀₃ + M₉₂*M₂₃ + M₉₃*M₃₃ + M₉₄*M₄₃ + M₉₅*M₅₃ + M₉₆*M₆₃ + M₉₇*M₇₃ + M₉₈*M₈₃ + M₉₉*M₉₃) + (M₁₀₁*M₅₁₀ + M₃₁*M₅₃ + M₄₁*M₅₄ + M₅₁*M₁₁ + M₅₂*M₂₁ + M₅₅*M₅₁ + M₅₆*M₆₁ + M₅₇*M₇₁ + M₈₁*M₅₈ + M₉₁*M₅₉)*(M₉₁*M₁₅ + M₉₁₀*M₁₀₅ + M₉₂*M₂₅ + M₉₃*M₃₅ + M₉₄*M₄₅ + M₉₅*M₅₅ + M₉₆*M₆₅ + M₉₇*M₇₅ + M₉₈*M₈₅ + M₉₉*M₉₅) + (M₁₀₁*M₈₁₀ + M₃₁*M₈₃ + M₄₁*M₈₄ + M₈₁*M₁₁ + M₈₁*M₈₈ + M₈₂*M₂₁ + M₈₅*M₅₁ + M₈₆*M₆₁ + M₈₇*M₇₁ + M₉₁*M₈₉)*(M₉₁*M₁₈ + M₉₁₀*M₁₀₈ + M₉₂*M₂₈ + M₉₃*M₃₈ + M₉₄*M₄₈ + M₉₅*M₅₈ + M₉₆*M₆₈ + M₉₇*M₇₈ + M₉₈*M₈₈ + M₉₈*M₉₉) + (M₁₁₀*M₁₀₁ + M₁₆*M₆₁ + M₁₇*M₇₁ + M₂₁*M₁₂ + M₃₁*M₁₃ + M₄₁*M₁₄ + M₅₁*M₁₅ + M₈₁*M₁₈ + M₉₁*M₁₉ + M₁₁^2)*(M₉₁*M₁₁ + M₉₁*M₉₉ + M₉₁₀*M₁₀₁ + M₉₂*M₂₁ + M₉₃*M₃₁ + M₉₄*M₄₁ + M₉₅*M₅₁ + M₉₆*M₆₁ + M₉₇*M₇₁ + M₉₈*M₈₁) + (M₁₀₁₀*M₉₁₀ + M₁₁₀*M₉₁ + M₂₁₀*M₉₂ + M₃₁₀*M₉₃ + M₄₁₀*M₉₄ + M₅₁₀*M₉₅ + M₆₁₀*M₉₆ + M₇₁₀*M₉₇ + M₈₁₀*M₉₈ + M₉₁₀*M₉₉)*(M₁₀₁*M₁₁ + M₁₀₁₀*M₁₀₁ + M₁₀₂*M₂₁ + M₁₀₃*M₃₁ + M₁₀₄*M₄₁ + M₁₀₅*M₅₁ + M₁₀₆*M₆₁ + M₁₀₇*M₇₁ + M₁₀₈*M₈₁ + M₁₀₉*M₉₁) + (M₁₁*M₆₁ + M₂₁*M₆₂ + M₃₁*M₆₃ + M₄₁*M₆₄ + M₅₁*M₆₅ + M₆₁*M₆₆ + M₆₁₀*M₁₀₁ + M₇₁*M₆₇ + M₈₁*M₆₈ + M₉₁*M₆₉)*(M₉₁*M₁₆ + M₉₁₀*M₁₀₆ + M₉₂*M₂₆ + M₉₃*M₃₆ + M₉₄*M₄₆ + M₉₅*M₅₆ + M₉₆*M₆₆ + M₉₆*M₉₉ + M₉₇*M₇₆ + M₉₈*M₈₆) + (M₄₁*M₁₁ + M₄₁*M₄₄ + M₄₁₀*M₁₀₁ + M₄₂*M₂₁ + M₄₃*M₃₁ + M₄₅*M₅₁ + M₄₆*M₆₁ + M₄₇*M₇₁ + M₄₈*M₈₁ + M₉₁*M₄₉)*(M₉₁*M₁₄ + M₉₁₀*M₁₀₄ + M₉₂*M₂₄ + M₉₃*M₃₄ + M₉₄*M₄₄ + M₉₅*M₅₄ + M₉₆*M₆₄ + M₉₇*M₇₄ + M₉₈*M₈₄ + M₉₉*M₉₄) + (M₉₁*M₁₇ + M₉₁₀*M₁₀₇ + M₉₂*M₂₇ + M₉₃*M₃₇ + M₉₄*M₄₇ + M₉₅*M₅₇ + M₉₆*M₆₇ + M₉₇*M₇₇ + M₉₇*M₉₉ + M₉₈*M₈₇)*(M₁₁*M₇₁ + M₂₁*M₇₂ + M₃₁*M₇₃ + M₄₁*M₇₄ + M₅₁*M₇₅ + M₇₁*M₇₇ + M₇₁₀*M₁₀₁ + M₇₆*M₆₁ + M₈₁*M₇₈ + M₉₁*M₇₉) + (M₉₁*M₁₉ + M₉₁₀*M₁₀₉ + M₉₂*M₂₉ + M₉₃*M₃₉ + M₉₄*M₄₉ + M₉₅*M₅₉ + M₉₆*M₆₉ + M₉₇*M₇₉ + M₉₈*M₈₉ + M₉₉^2)*(M₉₁*M₁₁ + M₉₁*M₉₉ + M₉₁₀*M₁₀₁ + M₉₂*M₂₁ + M₉₃*M₃₁ + M₉₄*M₄₁ + M₉₅*M₅₁ + M₉₆*M₆₁ + M₉₇*M₇₁ + M₉₈*M₈₁)) + ((M₁₀₁₀*M₆₁₀ + M₁₁₀*M₆₁ + M₂₁₀*M₆₂ + M₃₁₀*M₆₃ + M₄₁₀*M₆₄ + M₅₁₀*M₆₅ + M₆₁₀*M₆₆ + M₇₁₀*M₆₇ + M₈₁₀*M₆₈ + M₉₁₀*M₆₉)*(M₁₀₁*M₁₁ + M₁₀₁₀*M₁₀₁ + M₁₀₂*M₂₁ + M₁₀₃*M₃₁ + M₁₀₄*M₄₁ + M₁₀₅*M₅₁ + M₁₀₆*M₆₁ + M₁₀₇*M₇₁ + M₁₀₈*M₈₁ + M₁₀₉*M₉₁) + (M₁₁*M₆₁ + M₂₁*M₆₂ + M₃₁*M₆₃ + M₄₁*M₆₄ + M₅₁*M₆₅ + M₆₁*M₆₆ + M₆₁₀*M₁₀₁ + M₇₁*M₆₇ + M₈₁*M₆₈ + M₉₁*M₆₉)*(M₁₁₀*M₁₀₁ + M₁₆*M₆₁ + M₁₇*M₇₁ + M₂₁*M₁₂ + M₃₁*M₁₃ + M₄₁*M₁₄ + M₅₁*M₁₅ + M₈₁*M₁₈ + M₉₁*M₁₉ + M₁₁^2) + (M₁₁*M₆₁ + M₂₁*M₆₂ + M₃₁*M₆₃ + M₄₁*M₆₄ + M₅₁*M₆₅ + M₆₁*M₆₆ + M₆₁₀*M₁₀₁ + M₇₁*M₆₇ + M₈₁*M₆₈ + M₉₁*M₆₉)*(M₁₆*M₆₁ + M₂₆*M₆₂ + M₃₆*M₆₃ + M₄₆*M₆₄ + M₅₆*M₆₅ + M₆₁₀*M₁₀₆ + M₇₆*M₆₇ + M₈₆*M₆₈ + M₉₆*M₆₉ + M₆₆^2) + (M₁₂*M₆₁ + M₂₂*M₆₂ + M₃₂*M₆₃ + M₄₂*M₆₄ + M₅₂*M₆₅ + M₆₁₀*M₁₀₂ + M₆₂*M₆₆ + M₇₂*M₆₇ + M₈₂*M₆₈ + M₉₂*M₆₉)*(M₁₀₁*M₂₁₀ + M₂₁*M₁₁ + M₂₂*M₂₁ + M₂₆*M₆₁ + M₂₇*M₇₁ + M₃₁*M₂₃ + M₄₁*M₂₄ + M₅₁*M₂₅ + M₈₁*M₂₈ + M₉₁*M₂₉) + (M₁₃*M₆₁ + M₂₃*M₆₂ + M₃₃*M₆₃ + M₄₃*M₆₄ + M₅₃*M₆₅ + M₆₁₀*M₁₀₃ + M₆₃*M₆₆ + M₇₃*M₆₇ + M₈₃*M₆₈ + M₉₃*M₆₉)*(M₁₀₁*M₃₁₀ + M₃₁*M₁₁ + M₃₁*M₃₃ + M₃₂*M₂₁ + M₃₅*M₅₁ + M₃₆*M₆₁ + M₃₇*M₇₁ + M₃₈*M₈₁ + M₄₁*M₃₄ + M₉₁*M₃₉) + (M₁₄*M₆₁ + M₂₄*M₆₂ + M₃₄*M₆₃ + M₄₄*M₆₄ + M₅₄*M₆₅ + M₆₁₀*M₁₀₄ + M₆₄*M₆₆ + M₇₄*M₆₇ + M₈₄*M₆₈ + M₉₄*M₆₉)*(M₄₁*M₁₁ + M₄₁*M₄₄ + M₄₁₀*M₁₀₁ + M₄₂*M₂₁ + M₄₃*M₃₁ + M₄₅*M₅₁ + M₄₆*M₆₁ + M₄₇*M₇₁ + M₄₈*M₈₁ + M₉₁*M₄₉) + (M₁₅*M₆₁ + M₂₅*M₆₂ + M₃₅*M₆₃ + M₄₅*M₆₄ + M₅₅*M₆₅ + M₆₁₀*M₁₀₅ + M₆₅*M₆₆ + M₇₅*M₆₇ + M₈₅*M₆₈ + M₉₅*M₆₉)*(M₁₀₁*M₅₁₀ + M₃₁*M₅₃ + M₄₁*M₅₄ + M₅₁*M₁₁ + M₅₂*M₂₁ + M₅₅*M₅₁ + M₅₆*M₆₁ + M₅₇*M₇₁ + M₈₁*M₅₈ + M₉₁*M₅₉) + (M₁₇*M₆₁ + M₂₇*M₆₂ + M₃₇*M₆₃ + M₄₇*M₆₄ + M₅₇*M₆₅ + M₆₁₀*M₁₀₇ + M₆₆*M₆₇ + M₇₇*M₆₇ + M₈₇*M₆₈ + M₉₇*M₆₉)*(M₁₁*M₇₁ + M₂₁*M₇₂ + M₃₁*M₇₃ + M₄₁*M₇₄ + M₅₁*M₇₅ + M₇₁*M₇₇ + M₇₁₀*M₁₀₁ + M₇₆*M₆₁ + M₈₁*M₇₈ + M₉₁*M₇₉) + (M₁₈*M₆₁ + M₂₈*M₆₂ + M₃₈*M₆₃ + M₄₈*M₆₄ + M₅₈*M₆₅ + M₆₁₀*M₁₀₈ + M₆₆*M₆₈ + M₇₈*M₆₇ + M₈₈*M₆₈ + M₉₈*M₆₉)*(M₁₀₁*M₈₁₀ + M₃₁*M₈₃ + M₄₁*M₈₄ + M₈₁*M₁₁ + M₈₁*M₈₈ + M₈₂*M₂₁ + M₈₅*M₅₁ + M₈₆*M₆₁ + M₈₇*M₇₁ + M₉₁*M₈₉) + (M₁₉*M₆₁ + M₂₉*M₆₂ + M₃₉*M₆₃ + M₄₉*M₆₄ + M₅₉*M₆₅ + M₆₁₀*M₁₀₉ + M₆₉*M₆₆ + M₇₉*M₆₇ + M₈₉*M₆₈ + M₉₉*M₆₉)*(M₉₁*M₁₁ + M₉₁*M₉₉ + M₉₁₀*M₁₀₁ + M₉₂*M₂₁ + M₉₃*M₃₁ + M₉₄*M₄₁ + M₉₅*M₅₁ + M₉₆*M₆₁ + M₉₇*M₇₁ + M₉₈*M₈₁))*((M₁₀₆*M₂₁₀ + M₂₁*M₁₆ + M₂₂*M₂₆ + M₂₆*M₆₆ + M₂₇*M₇₆ + M₃₆*M₂₃ + M₄₆*M₂₄ + M₅₆*M₂₅ + M₈₆*M₂₈ + M₉₆*M₂₉)*(M₁₀₁*M₁₂ + M₁₀₁₀*M₁₀₂ + M₁₀₂*M₂₂ + M₁₀₃*M₃₂ + M₁₀₄*M₄₂ + M₁₀₅*M₅₂ + M₁₀₆*M₆₂ + M₁₀₇*M₇₂ + M₁₀₈*M₈₂ + M₁₀₉*M₉₂) + (M₁₀₆*M₃₁₀ + M₃₁*M₁₆ + M₃₂*M₂₆ + M₃₅*M₅₆ + M₃₆*M₃₃ + M₃₆*M₆₆ + M₃₇*M₇₆ + M₃₈*M₈₆ + M₄₆*M₃₄ + M₉₆*M₃₉)*(M₁₀₁*M₁₃ + M₁₀₁₀*M₁₀₃ + M₁₀₂*M₂₃ + M₁₀₃*M₃₃ + M₁₀₄*M₄₃ + M₁₀₅*M₅₃ + M₁₀₆*M₆₃ + M₁₀₇*M₇₃ + M₁₀₈*M₈₃ + M₁₀₉*M₉₃) + (M₁₀₆*M₅₁₀ + M₃₆*M₅₃ + M₄₆*M₅₄ + M₅₁*M₁₆ + M₅₂*M₂₆ + M₅₆*M₅₅ + M₅₆*M₆₆ + M₅₇*M₇₆ + M₈₆*M₅₈ + M₉₆*M₅₉)*(M₁₀₁*M₁₅ + M₁₀₁₀*M₁₀₅ + M₁₀₂*M₂₅ + M₁₀₃*M₃₅ + M₁₀₄*M₄₅ + M₁₀₅*M₅₅ + M₁₀₆*M₆₅ + M₁₀₇*M₇₅ + M₁₀₈*M₈₅ + M₁₀₉*M₉₅) + (M₁₀₆*M₈₁₀ + M₃₆*M₈₃ + M₄₆*M₈₄ + M₈₁*M₁₆ + M₈₂*M₂₆ + M₈₅*M₅₆ + M₈₆*M₆₆ + M₈₇*M₇₆ + M₈₈*M₈₆ + M₉₆*M₈₉)*(M₁₀₁*M₁₈ + M₁₀₁₀*M₁₀₈ + M₁₀₂*M₂₈ + M₁₀₃*M₃₈ + M₁₀₄*M₄₈ + M₁₀₅*M₅₈ + M₁₀₆*M₆₈ + M₁₀₇*M₇₈ + M₁₀₈*M₈₈ + M₁₀₉*M₉₈) + (M₁₁*M₁₆ + M₁₁₀*M₁₀₆ + M₁₆*M₆₆ + M₁₇*M₇₆ + M₂₆*M₁₂ + M₃₆*M₁₃ + M₄₆*M₁₄ + M₅₆*M₁₅ + M₈₆*M₁₈ + M₉₆*M₁₉)*(M₁₀₁*M₁₁ + M₁₀₁₀*M₁₀₁ + M₁₀₂*M₂₁ + M₁₀₃*M₃₁ + M₁₀₄*M₄₁ + M₁₀₅*M₅₁ + M₁₀₆*M₆₁ + M₁₀₇*M₇₁ + M₁₀₈*M₈₁ + M₁₀₉*M₉₁) + (M₁₀₂*M₂₁₀ + M₁₀₃*M₃₁₀ + M₁₀₅*M₅₁₀ + M₁₀₈*M₈₁₀ + M₁₁₀*M₁₀₁ + M₄₁₀*M₁₀₄ + M₆₁₀*M₁₀₆ + M₇₁₀*M₁₀₇ + M₉₁₀*M₁₀₉ + M₁₀₁₀^2)*(M₁₀₁*M₁₆ + M₁₀₁₀*M₁₀₆ + M₁₀₂*M₂₆ + M₁₀₃*M₃₆ + M₁₀₄*M₄₆ + M₁₀₅*M₅₆ + M₁₀₆*M₆₆ + M₁₀₇*M₇₆ + M₁₀₈*M₈₆ + M₁₀₉*M₉₆) + (M₁₆*M₆₁ + M₂₆*M₆₂ + M₃₆*M₆₃ + M₄₆*M₆₄ + M₅₆*M₆₅ + M₆₁₀*M₁₀₆ + M₇₆*M₆₇ + M₈₆*M₆₈ + M₉₆*M₆₉ + M₆₆^2)*(M₁₀₁*M₁₆ + M₁₀₁₀*M₁₀₆ + M₁₀₂*M₂₆ + M₁₀₃*M₃₆ + M₁₀₄*M₄₆ + M₁₀₅*M₅₆ + M₁₀₆*M₆₆ + M₁₀₇*M₇₆ + M₁₀₈*M₈₆ + M₁₀₉*M₉₆) + (M₉₁*M₁₆ + M₉₁₀*M₁₀₆ + M₉₂*M₂₆ + M₉₃*M₃₆ + M₉₄*M₄₆ + M₉₅*M₅₆ + M₉₆*M₆₆ + M₉₆*M₉₉ + M₉₇*M₇₆ + M₉₈*M₈₆)*(M₁₀₁*M₁₉ + M₁₀₁₀*M₁₀₉ + M₁₀₂*M₂₉ + M₁₀₃*M₃₉ + M₁₀₄*M₄₉ + M₁₀₅*M₅₉ + M₁₀₆*M₆₉ + M₁₀₇*M₇₉ + M₁₀₈*M₈₉ + M₁₀₉*M₉₉) + (M₄₁*M₁₆ + M₄₁₀*M₁₀₆ + M₄₂*M₂₆ + M₄₃*M₃₆ + M₄₅*M₅₆ + M₄₆*M₄₄ + M₄₆*M₆₆ + M₄₇*M₇₆ + M₄₈*M₈₆ + M₉₆*M₄₉)*(M₁₀₁*M₁₄ + M₁₀₁₀*M₁₀₄ + M₁₀₂*M₂₄ + M₁₀₃*M₃₄ + M₁₀₄*M₄₄ + M₁₀₅*M₅₄ + M₁₀₆*M₆₄ + M₁₀₇*M₇₄ + M₁₀₈*M₈₄ + M₁₀₉*M₉₄) + (M₁₆*M₇₁ + M₂₆*M₇₂ + M₃₆*M₇₃ + M₄₆*M₇₄ + M₅₆*M₇₅ + M₇₁₀*M₁₀₆ + M₇₆*M₆₆ + M₇₇*M₇₆ + M₈₆*M₇₈ + M₉₆*M₇₉)*(M₁₀₁*M₁₇ + M₁₀₁₀*M₁₀₇ + M₁₀₂*M₂₇ + M₁₀₃*M₃₇ + M₁₀₄*M₄₇ + M₁₀₅*M₅₇ + M₁₀₆*M₆₇ + M₁₀₇*M₇₇ + M₁₀₈*M₈₇ + M₁₀₉*M₉₇)) + ((M₁₀₁*M₂₁₀ + M₂₁*M₁₁ + M₂₂*M₂₁ + M₂₆*M₆₁ + M₂₇*M₇₁ + M₃₁*M₂₃ + M₄₁*M₂₄ + M₅₁*M₂₅ + M₈₁*M₂₈ + M₉₁*M₂₉)*(M₁₀₁*M₁₂ + M₁₀₁₀*M₁₀₂ + M₁₀₂*M₂₂ + M₁₀₃*M₃₂ + M₁₀₄*M₄₂ + M₁₀₅*M₅₂ + M₁₀₆*M₆₂ + M₁₀₇*M₇₂ + M₁₀₈*M₈₂ + M₁₀₉*M₉₂) + (M₁₀₁*M₃₁₀ + M₃₁*M₁₁ + M₃₁*M₃₃ + M₃₂*M₂₁ + M₃₅*M₅₁ + M₃₆*M₆₁ + M₃₇*M₇₁ + M₃₈*M₈₁ + M₄₁*M₃₄ + M₉₁*M₃₉)*(M₁₀₁*M₁₃ + M₁₀₁₀*M₁₀₃ + M₁₀₂*M₂₃ + M₁₀₃*M₃₃ + M₁₀₄*M₄₃ + M₁₀₅*M₅₃ + M₁₀₆*M₆₃ + M₁₀₇*M₇₃ + M₁₀₈*M₈₃ + M₁₀₉*M₉₃) + (M₁₀₁*M₅₁₀ + M₃₁*M₅₃ + M₄₁*M₅₄ + M₅₁*M₁₁ + M₅₂*M₂₁ + M₅₅*M₅₁ + M₅₆*M₆₁ + M₅₇*M₇₁ + M₈₁*M₅₈ + M₉₁*M₅₉)*(M₁₀₁*M₁₅ + M₁₀₁₀*M₁₀₅ + M₁₀₂*M₂₅ + M₁₀₃*M₃₅ + M₁₀₄*M₄₅ + M₁₀₅*M₅₅ + M₁₀₆*M₆₅ + M₁₀₇*M₇₅ + M₁₀₈*M₈₅ + M₁₀₉*M₉₅) + (M₁₀₁*M₈₁₀ + M₃₁*M₈₃ + M₄₁*M₈₄ + M₈₁*M₁₁ + M₈₁*M₈₈ + M₈₂*M₂₁ + M₈₅*M₅₁ + M₈₆*M₆₁ + M₈₇*M₇₁ + M₉₁*M₈₉)*(M₁₀₁*M₁₈ + M₁₀₁₀*M₁₀₈ + M₁₀₂*M₂₈ + M₁₀₃*M₃₈ + M₁₀₄*M₄₈ + M₁₀₅*M₅₈ + M₁₀₆*M₆₈ + M₁₀₇*M₇₈ + M₁₀₈*M₈₈ + M₁₀₉*M₉₈) + (M₁₁₀*M₁₀₁ + M₁₆*M₆₁ + M₁₇*M₇₁ + M₂₁*M₁₂ + M₃₁*M₁₃ + M₄₁*M₁₄ + M₅₁*M₁₅ + M₈₁*M₁₈ + M₉₁*M₁₉ + M₁₁^2)*(M₁₀₁*M₁₁ + M₁₀₁₀*M₁₀₁ + M₁₀₂*M₂₁ + M₁₀₃*M₃₁ + M₁₀₄*M₄₁ + M₁₀₅*M₅₁ + M₁₀₆*M₆₁ + M₁₀₇*M₇₁ + M₁₀₈*M₈₁ + M₁₀₉*M₉₁) + (M₁₁*M₆₁ + M₂₁*M₆₂ + M₃₁*M₆₃ + M₄₁*M₆₄ + M₅₁*M₆₅ + M₆₁*M₆₆ + M₆₁₀*M₁₀₁ + M₇₁*M₆₇ + M₈₁*M₆₈ + M₉₁*M₆₉)*(M₁₀₁*M₁₆ + M₁₀₁₀*M₁₀₆ + M₁₀₂*M₂₆ + M₁₀₃*M₃₆ + M₁₀₄*M₄₆ + M₁₀₅*M₅₆ + M₁₀₆*M₆₆ + M₁₀₇*M₇₆ + M₁₀₈*M₈₆ + M₁₀₉*M₉₆) + (M₁₀₂*M₂₁₀ + M₁₀₃*M₃₁₀ + M₁₀₅*M₅₁₀ + M₁₀₈*M₈₁₀ + M₁₁₀*M₁₀₁ + M₄₁₀*M₁₀₄ + M₆₁₀*M₁₀₆ + M₇₁₀*M₁₀₇ + M₉₁₀*M₁₀₉ + M₁₀₁₀^2)*(M₁₀₁*M₁₁ + M₁₀₁₀*M₁₀₁ + M₁₀₂*M₂₁ + M₁₀₃*M₃₁ + M₁₀₄*M₄₁ + M₁₀₅*M₅₁ + M₁₀₆*M₆₁ + M₁₀₇*M₇₁ + M₁₀₈*M₈₁ + M₁₀₉*M₉₁) + (M₄₁*M₁₁ + M₄₁*M₄₄ + M₄₁₀*M₁₀₁ + M₄₂*M₂₁ + M₄₃*M₃₁ + M₄₅*M₅₁ + M₄₆*M₆₁ + M₄₇*M₇₁ + M₄₈*M₈₁ + M₉₁*M₄₉)*(M₁₀₁*M₁₄ + M₁₀₁₀*M₁₀₄ + M₁₀₂*M₂₄ + M₁₀₃*M₃₄ + M₁₀₄*M₄₄ + M₁₀₅*M₅₄ + M₁₀₆*M₆₄ + M₁₀₇*M₇₄ + M₁₀₈*M₈₄ + M₁₀₉*M₉₄) + (M₁₁*M₇₁ + M₂₁*M₇₂ + M₃₁*M₇₃ + M₄₁*M₇₄ + M₅₁*M₇₅ + M₇₁*M₇₇ + M₇₁₀*M₁₀₁ + M₇₆*M₆₁ + M₈₁*M₇₈ + M₉₁*M₇₉)*(M₁₀₁*M₁₇ + M₁₀₁₀*M₁₀₇ + M₁₀₂*M₂₇ + M₁₀₃*M₃₇ + M₁₀₄*M₄₇ + M₁₀₅*M₅₇ + M₁₀₆*M₆₇ + M₁₀₇*M₇₇ + M₁₀₈*M₈₇ + M₁₀₉*M₉₇) + (M₉₁*M₁₁ + M₉₁*M₉₉ + M₉₁₀*M₁₀₁ + M₉₂*M₂₁ + M₉₃*M₃₁ + M₉₄*M₄₁ + M₉₅*M₅₁ + M₉₆*M₆₁ + M₉₇*M₇₁ + M₉₈*M₈₁)*(M₁₀₁*M₁₉ + M₁₀₁₀*M₁₀₉ + M₁₀₂*M₂₉ + M₁₀₃*M₃₉ + M₁₀₄*M₄₉ + M₁₀₅*M₅₉ + M₁₀₆*M₆₉ + M₁₀₇*M₇₉ + M₁₀₈*M₈₉ + M₁₀₉*M₉₉))*((M₁₀₁*M₂₁₀ + M₂₁*M₁₁ + M₂₂*M₂₁ + M₂₆*M₆₁ + M₂₇*M₇₁ + M₃₁*M₂₃ + M₄₁*M₂₄ + M₅₁*M₂₅ + M₈₁*M₂₈ + M₉₁*M₂₉)*(M₁₁*M₁₂ + M₁₁₀*M₁₀₂ + M₁₆*M₆₂ + M₁₇*M₇₂ + M₂₂*M₁₂ + M₃₂*M₁₃ + M₄₂*M₁₄ + M₅₂*M₁₅ + M₈₂*M₁₈ + M₉₂*M₁₉) + (M₁₀₁*M₃₁₀ + M₃₁*M₁₁ + M₃₁*M₃₃ + M₃₂*M₂₁ + M₃₅*M₅₁ + M₃₆*M₆₁ + M₃₇*M₇₁ + M₃₈*M₈₁ + M₄₁*M₃₄ + M₉₁*M₃₉)*(M₁₁*M₁₃ + M₁₁₀*M₁₀₃ + M₁₆*M₆₃ + M₁₇*M₇₃ + M₂₃*M₁₂ + M₃₃*M₁₃ + M₄₃*M₁₄ + M₅₃*M₁₅ + M₈₃*M₁₈ + M₉₃*M₁₉) + (M₁₀₁*M₅₁₀ + M₃₁*M₅₃ + M₄₁*M₅₄ + M₅₁*M₁₁ + M₅₂*M₂₁ + M₅₅*M₅₁ + M₅₆*M₆₁ + M₅₇*M₇₁ + M₈₁*M₅₈ + M₉₁*M₅₉)*(M₁₁*M₁₅ + M₁₁₀*M₁₀₅ + M₁₆*M₆₅ + M₁₇*M₇₅ + M₂₅*M₁₂ + M₃₅*M₁₃ + M₄₅*M₁₄ + M₅₅*M₁₅ + M₈₅*M₁₈ + M₉₅*M₁₉) + (M₁₀₁*M₈₁₀ + M₃₁*M₈₃ + M₄₁*M₈₄ + M₈₁*M₁₁ + M₈₁*M₈₈ + M₈₂*M₂₁ + M₈₅*M₅₁ + M₈₆*M₆₁ + M₈₇*M₇₁ + M₉₁*M₈₉)*(M₁₁*M₁₈ + M₁₁₀*M₁₀₈ + M₁₆*M₆₈ + M₁₇*M₇₈ + M₂₈*M₁₂ + M₃₈*M₁₃ + M₄₈*M₁₄ + M₅₈*M₁₅ + M₈₈*M₁₈ + M₉₈*M₁₉) + (M₁₁*M₁₇ + M₁₁₀*M₁₀₇ + M₁₆*M₆₇ + M₁₇*M₇₇ + M₂₇*M₁₂ + M₃₇*M₁₃ + M₄₇*M₁₄ + M₅₇*M₁₅ + M₈₇*M₁₈ + M₉₇*M₁₉)*(M₁₁*M₇₁ + M₂₁*M₇₂ + M₃₁*M₇₃ + M₄₁*M₇₄ + M₅₁*M₇₅ + M₇₁*M₇₇ + M₇₁₀*M₁₀₁ + M₇₆*M₆₁ + M₈₁*M₇₈ + M₉₁*M₇₉) + (M₁₁*M₁₉ + M₁₁₀*M₁₀₉ + M₁₆*M₆₉ + M₁₇*M₇₉ + M₂₉*M₁₂ + M₃₉*M₁₃ + M₄₉*M₁₄ + M₅₉*M₁₅ + M₈₉*M₁₈ + M₉₉*M₁₉)*(M₉₁*M₁₁ + M₉₁*M₉₉ + M₉₁₀*M₁₀₁ + M₉₂*M₂₁ + M₉₃*M₃₁ + M₉₄*M₄₁ + M₉₅*M₅₁ + M₉₆*M₆₁ + M₉₇*M₇₁ + M₉₈*M₈₁) + (M₁₀₁₀*M₁₁₀ + M₁₁₀*M₁₁ + M₂₁₀*M₁₂ + M₃₁₀*M₁₃ + M₄₁₀*M₁₄ + M₅₁₀*M₁₅ + M₆₁₀*M₁₆ + M₇₁₀*M₁₇ + M₈₁₀*M₁₈ + M₉₁₀*M₁₉)*(M₁₀₁*M₁₁ + M₁₀₁₀*M₁₀₁ + M₁₀₂*M₂₁ + M₁₀₃*M₃₁ + M₁₀₄*M₄₁ + M₁₀₅*M₅₁ + M₁₀₆*M₆₁ + M₁₀₇*M₇₁ + M₁₀₈*M₈₁ + M₁₀₉*M₉₁) + (M₁₁*M₆₁ + M₂₁*M₆₂ + M₃₁*M₆₃ + M₄₁*M₆₄ + M₅₁*M₆₅ + M₆₁*M₆₆ + M₆₁₀*M₁₀₁ + M₇₁*M₆₇ + M₈₁*M₆₈ + M₉₁*M₆₉)*(M₁₁*M₁₆ + M₁₁₀*M₁₀₆ + M₁₆*M₆₆ + M₁₇*M₇₆ + M₂₆*M₁₂ + M₃₆*M₁₃ + M₄₆*M₁₄ + M₅₆*M₁₅ + M₈₆*M₁₈ + M₉₆*M₁₉) + (M₄₁*M₁₁ + M₄₁*M₄₄ + M₄₁₀*M₁₀₁ + M₄₂*M₂₁ + M₄₃*M₃₁ + M₄₅*M₅₁ + M₄₆*M₆₁ + M₄₇*M₇₁ + M₄₈*M₈₁ + M₉₁*M₄₉)*(M₁₁*M₁₄ + M₁₁₀*M₁₀₄ + M₁₆*M₆₄ + M₁₇*M₇₄ + M₂₄*M₁₂ + M₃₄*M₁₃ + M₄₄*M₁₄ + M₅₄*M₁₅ + M₈₄*M₁₈ + M₉₄*M₁₉) + (M₁₁₀*M₁₀₁ + M₁₆*M₆₁ + M₁₇*M₇₁ + M₂₁*M₁₂ + M₃₁*M₁₃ + M₄₁*M₁₄ + M₅₁*M₁₅ + M₈₁*M₁₈ + M₉₁*M₁₉ + M₁₁^2)^2) + ((M₁₀₁*M₂₁₀ + M₂₁*M₁₁ + M₂₂*M₂₁ + M₂₆*M₆₁ + M₂₇*M₇₁ + M₃₁*M₂₃ + M₄₁*M₂₄ + M₅₁*M₂₅ + M₈₁*M₂₈ + M₉₁*M₂₉)*(M₁₀₁*M₁₂ + M₁₀₁₀*M₁₀₂ + M₁₀₂*M₂₂ + M₁₀₃*M₃₂ + M₁₀₄*M₄₂ + M₁₀₅*M₅₂ + M₁₀₆*M₆₂ + M₁₀₇*M₇₂ + M₁₀₈*M₈₂ + M₁₀₉*M₉₂) + (M₁₀₁*M₃₁₀ + M₃₁*M₁₁ + M₃₁*M₃₃ + M₃₂*M₂₁ + M₃₅*M₅₁ + M₃₆*M₆₁ + M₃₇*M₇₁ + M₃₈*M₈₁ + M₄₁*M₃₄ + M₉₁*M₃₉)*(M₁₀₁*M₁₃ + M₁₀₁₀*M₁₀₃ + M₁₀₂*M₂₃ + M₁₀₃*M₃₃ + M₁₀₄*M₄₃ + M₁₀₅*M₅₃ + M₁₀₆*M₆₃ + M₁₀₇*M₇₃ + M₁₀₈*M₈₃ + M₁₀₉*M₉₃) + (M₁₀₁*M₅₁₀ + M₃₁*M₅₃ + M₄₁*M₅₄ + M₅₁*M₁₁ + M₅₂*M₂₁ + M₅₅*M₅₁ + M₅₆*M₆₁ + M₅₇*M₇₁ + M₈₁*M₅₈ + M₉₁*M₅₉)*(M₁₀₁*M₁₅ + M₁₀₁₀*M₁₀₅ + M₁₀₂*M₂₅ + M₁₀₃*M₃₅ + M₁₀₄*M₄₅ + M₁₀₅*M₅₅ + M₁₀₆*M₆₅ + M₁₀₇*M₇₅ + M₁₀₈*M₈₅ + M₁₀₉*M₉₅) + (M₁₀₁*M₈₁₀ + M₃₁*M₈₃ + M₄₁*M₈₄ + M₈₁*M₁₁ + M₈₁*M₈₈ + M₈₂*M₂₁ + M₈₅*M₅₁ + M₈₆*M₆₁ + M₈₇*M₇₁ + M₉₁*M₈₉)*(M₁₀₁*M₁₈ + M₁₀₁₀*M₁₀₈ + M₁₀₂*M₂₈ + M₁₀₃*M₃₈ + M₁₀₄*M₄₈ + M₁₀₅*M₅₈ + M₁₀₆*M₆₈ + M₁₀₇*M₇₈ + M₁₀₈*M₈₈ + M₁₀₉*M₉₈) + (M₁₁₀*M₁₀₁ + M₁₆*M₆₁ + M₁₇*M₇₁ + M₂₁*M₁₂ + M₃₁*M₁₃ + M₄₁*M₁₄ + M₅₁*M₁₅ + M₈₁*M₁₈ + M₉₁*M₁₉ + M₁₁^2)*(M₁₀₁*M₁₁ + M₁₀₁₀*M₁₀₁ + M₁₀₂*M₂₁ + M₁₀₃*M₃₁ + M₁₀₄*M₄₁ + M₁₀₅*M₅₁ + M₁₀₆*M₆₁ + M₁₀₇*M₇₁ + M₁₀₈*M₈₁ + M₁₀₉*M₉₁) + (M₁₁*M₆₁ + M₂₁*M₆₂ + M₃₁*M₆₃ + M₄₁*M₆₄ + M₅₁*M₆₅ + M₆₁*M₆₆ + M₆₁₀*M₁₀₁ + M₇₁*M₆₇ + M₈₁*M₆₈ + M₉₁*M₆₉)*(M₁₀₁*M₁₆ + M₁₀₁₀*M₁₀₆ + M₁₀₂*M₂₆ + M₁₀₃*M₃₆ + M₁₀₄*M₄₆ + M₁₀₅*M₅₆ + M₁₀₆*M₆₆ + M₁₀₇*M₇₆ + M₁₀₈*M₈₆ + M₁₀₉*M₉₆) + (M₁₀₂*M₂₁₀ + M₁₀₃*M₃₁₀ + M₁₀₅*M₅₁₀ + M₁₀₈*M₈₁₀ + M₁₁₀*M₁₀₁ + M₄₁₀*M₁₀₄ + M₆₁₀*M₁₀₆ + M₇₁₀*M₁₀₇ + M₉₁₀*M₁₀₉ + M₁₀₁₀^2)*(M₁₀₁*M₁₁ + M₁₀₁₀*M₁₀₁ + M₁₀₂*M₂₁ + M₁₀₃*M₃₁ + M₁₀₄*M₄₁ + M₁₀₅*M₅₁ + M₁₀₆*M₆₁ + M₁₀₇*M₇₁ + M₁₀₈*M₈₁ + M₁₀₉*M₉₁) + (M₄₁*M₁₁ + M₄₁*M₄₄ + M₄₁₀*M₁₀₁ + M₄₂*M₂₁ + M₄₃*M₃₁ + M₄₅*M₅₁ + M₄₆*M₆₁ + M₄₇*M₇₁ + M₄₈*M₈₁ + M₉₁*M₄₉)*(M₁₀₁*M₁₄ + M₁₀₁₀*M₁₀₄ + M₁₀₂*M₂₄ + M₁₀₃*M₃₄ + M₁₀₄*M₄₄ + M₁₀₅*M₅₄ + M₁₀₆*M₆₄ + M₁₀₇*M₇₄ + M₁₀₈*M₈₄ + M₁₀₉*M₉₄) + (M₁₁*M₇₁ + M₂₁*M₇₂ + M₃₁*M₇₃ + M₄₁*M₇₄ + M₅₁*M₇₅ + M₇₁*M₇₇ + M₇₁₀*M₁₀₁ + M₇₆*M₆₁ + M₈₁*M₇₈ + M₉₁*M₇₉)*(M₁₀₁*M₁₇ + M₁₀₁₀*M₁₀₇ + M₁₀₂*M₂₇ + M₁₀₃*M₃₇ + M₁₀₄*M₄₇ + M₁₀₅*M₅₇ + M₁₀₆*M₆₇ + M₁₀₇*M₇₇ + M₁₀₈*M₈₇ + M₁₀₉*M₉₇) + (M₉₁*M₁₁ + M₉₁*M₉₉ + M₉₁₀*M₁₀₁ + M₉₂*M₂₁ + M₉₃*M₃₁ + M₉₄*M₄₁ + M₉₅*M₅₁ + M₉₆*M₆₁ + M₉₇*M₇₁ + M₉₈*M₈₁)*(M₁₀₁*M₁₉ + M₁₀₁₀*M₁₀₉ + M₁₀₂*M₂₉ + M₁₀₃*M₃₉ + M₁₀₄*M₄₉ + M₁₀₅*M₅₉ + M₁₀₆*M₆₉ + M₁₀₇*M₇₉ + M₁₀₈*M₈₉ + M₁₀₉*M₉₉))*((M₁₀₁*M₁₄ + M₁₀₁₀*M₁₀₄ + M₁₀₂*M₂₄ + M₁₀₃*M₃₄ + M₁₀₄*M₄₄ + M₁₀₅*M₅₄ + M₁₀₆*M₆₄ + M₁₀₇*M₇₄ + M₁₀₈*M₈₄ + M₁₀₉*M₉₄)*(M₁₀₁₀*M₄₁₀ + M₁₁₀*M₄₁ + M₂₁₀*M₄₂ + M₃₁₀*M₄₃ + M₄₁₀*M₄₄ + M₅₁₀*M₄₅ + M₆₁₀*M₄₆ + M₇₁₀*M₄₇ + M₈₁₀*M₄₈ + M₉₁₀*M₄₉) + (M₁₀₁*M₁₇ + M₁₀₁₀*M₁₀₇ + M₁₀₂*M₂₇ + M₁₀₃*M₃₇ + M₁₀₄*M₄₇ + M₁₀₅*M₅₇ + M₁₀₆*M₆₇ + M₁₀₇*M₇₇ + M₁₀₈*M₈₇ + M₁₀₉*M₉₇)*(M₁₀₁₀*M₇₁₀ + M₁₁₀*M₇₁ + M₂₁₀*M₇₂ + M₃₁₀*M₇₃ + M₄₁₀*M₇₄ + M₅₁₀*M₇₅ + M₆₁₀*M₇₆ + M₇₁₀*M₇₇ + M₈₁₀*M₇₈ + M₉₁₀*M₇₉) + (M₁₀₁₀*M₁₁₀ + M₁₁₀*M₁₁ + M₂₁₀*M₁₂ + M₃₁₀*M₁₃ + M₄₁₀*M₁₄ + M₅₁₀*M₁₅ + M₆₁₀*M₁₆ + M₇₁₀*M₁₇ + M₈₁₀*M₁₈ + M₉₁₀*M₁₉)*(M₁₀₁*M₁₁ + M₁₀₁₀*M₁₀₁ + M₁₀₂*M₂₁ + M₁₀₃*M₃₁ + M₁₀₄*M₄₁ + M₁₀₅*M₅₁ + M₁₀₆*M₆₁ + M₁₀₇*M₇₁ + M₁₀₈*M₈₁ + M₁₀₉*M₉₁) + (M₁₀₁₀*M₂₁₀ + M₁₁₀*M₂₁ + M₂₁₀*M₂₂ + M₃₁₀*M₂₃ + M₄₁₀*M₂₄ + M₅₁₀*M₂₅ + M₆₁₀*M₂₆ + M₇₁₀*M₂₇ + M₈₁₀*M₂₈ + M₉₁₀*M₂₉)*(M₁₀₁*M₁₂ + M₁₀₁₀*M₁₀₂ + M₁₀₂*M₂₂ + M₁₀₃*M₃₂ + M₁₀₄*M₄₂ + M₁₀₅*M₅₂ + M₁₀₆*M₆₂ + M₁₀₇*M₇₂ + M₁₀₈*M₈₂ + M₁₀₉*M₉₂) + (M₁₀₁₀*M₃₁₀ + M₁₁₀*M₃₁ + M₂₁₀*M₃₂ + M₃₁₀*M₃₃ + M₄₁₀*M₃₄ + M₅₁₀*M₃₅ + M₆₁₀*M₃₆ + M₇₁₀*M₃₇ + M₈₁₀*M₃₈ + M₉₁₀*M₃₉)*(M₁₀₁*M₁₃ + M₁₀₁₀*M₁₀₃ + M₁₀₂*M₂₃ + M₁₀₃*M₃₃ + M₁₀₄*M₄₃ + M₁₀₅*M₅₃ + M₁₀₆*M₆₃ + M₁₀₇*M₇₃ + M₁₀₈*M₈₃ + M₁₀₉*M₉₃) + (M₁₀₁₀*M₅₁₀ + M₁₁₀*M₅₁ + M₂₁₀*M₅₂ + M₃₁₀*M₅₃ + M₄₁₀*M₅₄ + M₅₁₀*M₅₅ + M₆₁₀*M₅₆ + M₇₁₀*M₅₇ + M₈₁₀*M₅₈ + M₉₁₀*M₅₉)*(M₁₀₁*M₁₅ + M₁₀₁₀*M₁₀₅ + M₁₀₂*M₂₅ + M₁₀₃*M₃₅ + M₁₀₄*M₄₅ + M₁₀₅*M₅₅ + M₁₀₆*M₆₅ + M₁₀₇*M₇₅ + M₁₀₈*M₈₅ + M₁₀₉*M₉₅) + (M₁₀₁₀*M₆₁₀ + M₁₁₀*M₆₁ + M₂₁₀*M₆₂ + M₃₁₀*M₆₃ + M₄₁₀*M₆₄ + M₅₁₀*M₆₅ + M₆₁₀*M₆₆ + M₇₁₀*M₆₇ + M₈₁₀*M₆₈ + M₉₁₀*M₆₉)*(M₁₀₁*M₁₆ + M₁₀₁₀*M₁₀₆ + M₁₀₂*M₂₆ + M₁₀₃*M₃₆ + M₁₀₄*M₄₆ + M₁₀₅*M₅₆ + M₁₀₆*M₆₆ + M₁₀₇*M₇₆ + M₁₀₈*M₈₆ + M₁₀₉*M₉₆) + (M₁₀₁₀*M₈₁₀ + M₁₁₀*M₈₁ + M₂₁₀*M₈₂ + M₃₁₀*M₈₃ + M₄₁₀*M₈₄ + M₅₁₀*M₈₅ + M₆₁₀*M₈₆ + M₇₁₀*M₈₇ + M₈₁₀*M₈₈ + M₉₁₀*M₈₉)*(M₁₀₁*M₁₈ + M₁₀₁₀*M₁₀₈ + M₁₀₂*M₂₈ + M₁₀₃*M₃₈ + M₁₀₄*M₄₈ + M₁₀₅*M₅₈ + M₁₀₆*M₆₈ + M₁₀₇*M₇₈ + M₁₀₈*M₈₈ + M₁₀₉*M₉₈) + (M₁₀₁₀*M₉₁₀ + M₁₁₀*M₉₁ + M₂₁₀*M₉₂ + M₃₁₀*M₉₃ + M₄₁₀*M₉₄ + M₅₁₀*M₉₅ + M₆₁₀*M₉₆ + M₇₁₀*M₉₇ + M₈₁₀*M₉₈ + M₉₁₀*M₉₉)*(M₁₀₁*M₁₉ + M₁₀₁₀*M₁₀₉ + M₁₀₂*M₂₉ + M₁₀₃*M₃₉ + M₁₀₄*M₄₉ + M₁₀₅*M₅₉ + M₁₀₆*M₆₉ + M₁₀₇*M₇₉ + M₁₀₈*M₈₉ + M₁₀₉*M₉₉) + (M₁₀₂*M₂₁₀ + M₁₀₃*M₃₁₀ + M₁₀₅*M₅₁₀ + M₁₀₈*M₈₁₀ + M₁₁₀*M₁₀₁ + M₄₁₀*M₁₀₄ + M₆₁₀*M₁₀₆ + M₇₁₀*M₁₀₇ + M₉₁₀*M₁₀₉ + M₁₀₁₀^2)^2) + ((M₁₀₃*M₂₁₀ + M₂₁*M₁₃ + M₂₂*M₂₃ + M₂₆*M₆₃ + M₂₇*M₇₃ + M₃₃*M₂₃ + M₄₃*M₂₄ + M₅₃*M₂₅ + M₈₃*M₂₈ + M₉₃*M₂₉)*(M₁₀₁*M₁₂ + M₁₀₁₀*M₁₀₂ + M₁₀₂*M₂₂ + M₁₀₃*M₃₂ + M₁₀₄*M₄₂ + M₁₀₅*M₅₂ + M₁₀₆*M₆₂ + M₁₀₇*M₇₂ + M₁₀₈*M₈₂ + M₁₀₉*M₉₂) + (M₁₀₃*M₃₁₀ + M₃₁*M₁₃ + M₃₂*M₂₃ + M₃₅*M₅₃ + M₃₆*M₆₃ + M₃₇*M₇₃ + M₃₈*M₈₃ + M₄₃*M₃₄ + M₉₃*M₃₉ + M₃₃^2)*(M₁₀₁*M₁₃ + M₁₀₁₀*M₁₀₃ + M₁₀₂*M₂₃ + M₁₀₃*M₃₃ + M₁₀₄*M₄₃ + M₁₀₅*M₅₃ + M₁₀₆*M₆₃ + M₁₀₇*M₇₃ + M₁₀₈*M₈₃ + M₁₀₉*M₉₃) + (M₁₀₃*M₅₁₀ + M₃₃*M₅₃ + M₄₃*M₅₄ + M₅₁*M₁₃ + M₅₂*M₂₃ + M₅₅*M₅₃ + M₅₆*M₆₃ + M₅₇*M₇₃ + M₈₃*M₅₈ + M₉₃*M₅₉)*(M₁₀₁*M₁₅ + M₁₀₁₀*M₁₀₅ + M₁₀₂*M₂₅ + M₁₀₃*M₃₅ + M₁₀₄*M₄₅ + M₁₀₅*M₅₅ + M₁₀₆*M₆₅ + M₁₀₇*M₇₅ + M₁₀₈*M₈₅ + M₁₀₉*M₉₅) + (M₁₀₃*M₈₁₀ + M₃₃*M₈₃ + M₄₃*M₈₄ + M₈₁*M₁₃ + M₈₂*M₂₃ + M₈₃*M₈₈ + M₈₅*M₅₃ + M₈₆*M₆₃ + M₈₇*M₇₃ + M₉₃*M₈₉)*(M₁₀₁*M₁₈ + M₁₀₁₀*M₁₀₈ + M₁₀₂*M₂₈ + M₁₀₃*M₃₈ + M₁₀₄*M₄₈ + M₁₀₅*M₅₈ + M₁₀₆*M₆₈ + M₁₀₇*M₇₈ + M₁₀₈*M₈₈ + M₁₀₉*M₉₈) + (M₁₁*M₁₃ + M₁₁₀*M₁₀₃ + M₁₆*M₆₃ + M₁₇*M₇₃ + M₂₃*M₁₂ + M₃₃*M₁₃ + M₄₃*M₁₄ + M₅₃*M₁₅ + M₈₃*M₁₈ + M₉₃*M₁₉)*(M₁₀₁*M₁₁ + M₁₀₁₀*M₁₀₁ + M₁₀₂*M₂₁ + M₁₀₃*M₃₁ + M₁₀₄*M₄₁ + M₁₀₅*M₅₁ + M₁₀₆*M₆₁ + M₁₀₇*M₇₁ + M₁₀₈*M₈₁ + M₁₀₉*M₉₁) + (M₁₃*M₆₁ + M₂₃*M₆₂ + M₃₃*M₆₃ + M₄₃*M₆₄ + M₅₃*M₆₅ + M₆₁₀*M₁₀₃ + M₆₃*M₆₆ + M₇₃*M₆₇ + M₈₃*M₆₈ + M₉₃*M₆₉)*(M₁₀₁*M₁₆ + M₁₀₁₀*M₁₀₆ + M₁₀₂*M₂₆ + M₁₀₃*M₃₆ + M₁₀₄*M₄₆ + M₁₀₅*M₅₆ + M₁₀₆*M₆₆ + M₁₀₇*M₇₆ + M₁₀₈*M₈₆ + M₁₀₉*M₉₆) + (M₁₀₂*M₂₁₀ + M₁₀₃*M₃₁₀ + M₁₀₅*M₅₁₀ + M₁₀₈*M₈₁₀ + M₁₁₀*M₁₀₁ + M₄₁₀*M₁₀₄ + M₆₁₀*M₁₀₆ + M₇₁₀*M₁₀₇ + M₉₁₀*M₁₀₉ + M₁₀₁₀^2)*(M₁₀₁*M₁₃ + M₁₀₁₀*M₁₀₃ + M₁₀₂*M₂₃ + M₁₀₃*M₃₃ + M₁₀₄*M₄₃ + M₁₀₅*M₅₃ + M₁₀₆*M₆₃ + M₁₀₇*M₇₃ + M₁₀₈*M₈₃ + M₁₀₉*M₉₃) + (M₉₁*M₁₃ + M₉₁₀*M₁₀₃ + M₉₂*M₂₃ + M₉₃*M₃₃ + M₉₄*M₄₃ + M₉₅*M₅₃ + M₉₆*M₆₃ + M₉₇*M₇₃ + M₉₈*M₈₃ + M₉₉*M₉₃)*(M₁₀₁*M₁₉ + M₁₀₁₀*M₁₀₉ + M₁₀₂*M₂₉ + M₁₀₃*M₃₉ + M₁₀₄*M₄₉ + M₁₀₅*M₅₉ + M₁₀₆*M₆₉ + M₁₀₇*M₇₉ + M₁₀₈*M₈₉ + M₁₀₉*M₉₉) + (M₄₁*M₁₃ + M₄₁₀*M₁₀₃ + M₄₂*M₂₃ + M₄₃*M₃₃ + M₄₄*M₄₃ + M₄₅*M₅₃ + M₄₆*M₆₃ + M₄₇*M₇₃ + M₄₈*M₈₃ + M₉₃*M₄₉)*(M₁₀₁*M₁₄ + M₁₀₁₀*M₁₀₄ + M₁₀₂*M₂₄ + M₁₀₃*M₃₄ + M₁₀₄*M₄₄ + M₁₀₅*M₅₄ + M₁₀₆*M₆₄ + M₁₀₇*M₇₄ + M₁₀₈*M₈₄ + M₁₀₉*M₉₄) + (M₁₃*M₇₁ + M₂₃*M₇₂ + M₃₃*M₇₃ + M₄₃*M₇₄ + M₅₃*M₇₅ + M₇₁₀*M₁₀₃ + M₇₃*M₇₇ + M₇₆*M₆₃ + M₈₃*M₇₈ + M₉₃*M₇₉)*(M₁₀₁*M₁₇ + M₁₀₁₀*M₁₀₇ + M₁₀₂*M₂₇ + M₁₀₃*M₃₇ + M₁₀₄*M₄₇ + M₁₀₅*M₅₇ + M₁₀₆*M₆₇ + M₁₀₇*M₇₇ + M₁₀₈*M₈₇ + M₁₀₉*M₉₇))*((M₁₀₁*M₂₁₀ + M₂₁*M₁₁ + M₂₂*M₂₁ + M₂₆*M₆₁ + M₂₇*M₇₁ + M₃₁*M₂₃ + M₄₁*M₂₄ + M₅₁*M₂₅ + M₈₁*M₂₈ + M₉₁*M₂₉)*(M₁₀₂*M₃₁₀ + M₃₁*M₁₂ + M₃₂*M₂₂ + M₃₂*M₃₃ + M₃₅*M₅₂ + M₃₆*M₆₂ + M₃₇*M₇₂ + M₃₈*M₈₂ + M₄₂*M₃₄ + M₉₂*M₃₉) + (M₁₀₁*M₃₁₀ + M₃₁*M₁₁ + M₃₁*M₃₃ + M₃₂*M₂₁ + M₃₅*M₅₁ + M₃₆*M₆₁ + M₃₇*M₇₁ + M₃₈*M₈₁ + M₄₁*M₃₄ + M₉₁*M₃₉)*(M₁₀₃*M₃₁₀ + M₃₁*M₁₃ + M₃₂*M₂₃ + M₃₅*M₅₃ + M₃₆*M₆₃ + M₃₇*M₇₃ + M₃₈*M₈₃ + M₄₃*M₃₄ + M₉₃*M₃₉ + M₃₃^2) + (M₁₀₁*M₃₁₀ + M₃₁*M₁₁ + M₃₁*M₃₃ + M₃₂*M₂₁ + M₃₅*M₅₁ + M₃₆*M₆₁ + M₃₇*M₇₁ + M₃₈*M₈₁ + M₄₁*M₃₄ + M₉₁*M₃₉)*(M₁₁₀*M₁₀₁ + M₁₆*M₆₁ + M₁₇*M₇₁ + M₂₁*M₁₂ + M₃₁*M₁₃ + M₄₁*M₁₄ + M₅₁*M₁₅ + M₈₁*M₁₈ + M₉₁*M₁₉ + M₁₁^2) + (M₁₀₁*M₅₁₀ + M₃₁*M₅₃ + M₄₁*M₅₄ + M₅₁*M₁₁ + M₅₂*M₂₁ + M₅₅*M₅₁ + M₅₆*M₆₁ + M₅₇*M₇₁ + M₈₁*M₅₈ + M₉₁*M₅₉)*(M₁₀₅*M₃₁₀ + M₃₁*M₁₅ + M₃₂*M₂₅ + M₃₅*M₃₃ + M₃₅*M₅₅ + M₃₆*M₆₅ + M₃₇*M₇₅ + M₃₈*M₈₅ + M₄₅*M₃₄ + M₉₅*M₃₉) + (M₁₀₁*M₈₁₀ + M₃₁*M₈₃ + M₄₁*M₈₄ + M₈₁*M₁₁ + M₈₁*M₈₈ + M₈₂*M₂₁ + M₈₅*M₅₁ + M₈₆*M₆₁ + M₈₇*M₇₁ + M₉₁*M₈₉)*(M₁₀₈*M₃₁₀ + M₃₁*M₁₈ + M₃₂*M₂₈ + M₃₃*M₃₈ + M₃₅*M₅₈ + M₃₆*M₆₈ + M₃₇*M₇₈ + M₃₈*M₈₈ + M₄₈*M₃₄ + M₉₈*M₃₉) + (M₁₀₇*M₃₁₀ + M₃₁*M₁₇ + M₃₂*M₂₇ + M₃₃*M₃₇ + M₃₅*M₅₇ + M₃₆*M₆₇ + M₃₇*M₇₇ + M₃₈*M₈₇ + M₄₇*M₃₄ + M₉₇*M₃₉)*(M₁₁*M₇₁ + M₂₁*M₇₂ + M₃₁*M₇₃ + M₄₁*M₇₄ + M₅₁*M₇₅ + M₇₁*M₇₇ + M₇₁₀*M₁₀₁ + M₇₆*M₆₁ + M₈₁*M₇₈ + M₉₁*M₇₉) + (M₁₀₉*M₃₁₀ + M₃₁*M₁₉ + M₃₂*M₂₉ + M₃₃*M₃₉ + M₃₅*M₅₉ + M₃₆*M₆₉ + M₃₇*M₇₉ + M₃₈*M₈₉ + M₄₉*M₃₄ + M₉₉*M₃₉)*(M₉₁*M₁₁ + M₉₁*M₉₉ + M₉₁₀*M₁₀₁ + M₉₂*M₂₁ + M₉₃*M₃₁ + M₉₄*M₄₁ + M₉₅*M₅₁ + M₉₆*M₆₁ + M₉₇*M₇₁ + M₉₈*M₈₁) + (M₁₀₁₀*M₃₁₀ + M₁₁₀*M₃₁ + M₂₁₀*M₃₂ + M₃₁₀*M₃₃ + M₄₁₀*M₃₄ + M₅₁₀*M₃₅ + M₆₁₀*M₃₆ + M₇₁₀*M₃₇ + M₈₁₀*M₃₈ + M₉₁₀*M₃₉)*(M₁₀₁*M₁₁ + M₁₀₁₀*M₁₀₁ + M₁₀₂*M₂₁ + M₁₀₃*M₃₁ + M₁₀₄*M₄₁ + M₁₀₅*M₅₁ + M₁₀₆*M₆₁ + M₁₀₇*M₇₁ + M₁₀₈*M₈₁ + M₁₀₉*M₉₁) + (M₁₁*M₆₁ + M₂₁*M₆₂ + M₃₁*M₆₃ + M₄₁*M₆₄ + M₅₁*M₆₅ + M₆₁*M₆₆ + M₆₁₀*M₁₀₁ + M₇₁*M₆₇ + M₈₁*M₆₈ + M₉₁*M₆₉)*(M₁₀₆*M₃₁₀ + M₃₁*M₁₆ + M₃₂*M₂₆ + M₃₅*M₅₆ + M₃₆*M₃₃ + M₃₆*M₆₆ + M₃₇*M₇₆ + M₃₈*M₈₆ + M₄₆*M₃₄ + M₉₆*M₃₉) + (M₄₁*M₁₁ + M₄₁*M₄₄ + M₄₁₀*M₁₀₁ + M₄₂*M₂₁ + M₄₃*M₃₁ + M₄₅*M₅₁ + M₄₆*M₆₁ + M₄₇*M₇₁ + M₄₈*M₈₁ + M₉₁*M₄₉)*(M₁₀₄*M₃₁₀ + M₃₁*M₁₄ + M₃₂*M₂₄ + M₃₃*M₃₄ + M₃₅*M₅₄ + M₃₆*M₆₄ + M₃₇*M₇₄ + M₃₈*M₈₄ + M₄₄*M₃₄ + M₉₄*M₃₉)) + ((M₁₀₈*M₂₁₀ + M₂₁*M₁₈ + M₂₂*M₂₈ + M₂₆*M₆₈ + M₂₇*M₇₈ + M₃₈*M₂₃ + M₄₈*M₂₄ + M₅₈*M₂₅ + M₈₈*M₂₈ + M₉₈*M₂₉)*(M₁₀₁*M₁₂ + M₁₀₁₀*M₁₀₂ + M₁₀₂*M₂₂ + M₁₀₃*M₃₂ + M₁₀₄*M₄₂ + M₁₀₅*M₅₂ + M₁₀₆*M₆₂ + M₁₀₇*M₇₂ + M₁₀₈*M₈₂ + M₁₀₉*M₉₂) + (M₁₀₈*M₃₁₀ + M₃₁*M₁₈ + M₃₂*M₂₈ + M₃₃*M₃₈ + M₃₅*M₅₈ + M₃₆*M₆₈ + M₃₇*M₇₈ + M₃₈*M₈₈ + M₄₈*M₃₄ + M₉₈*M₃₉)*(M₁₀₁*M₁₃ + M₁₀₁₀*M₁₀₃ + M₁₀₂*M₂₃ + M₁₀₃*M₃₃ + M₁₀₄*M₄₃ + M₁₀₅*M₅₃ + M₁₀₆*M₆₃ + M₁₀₇*M₇₃ + M₁₀₈*M₈₃ + M₁₀₉*M₉₃) + (M₁₀₈*M₅₁₀ + M₃₈*M₅₃ + M₄₈*M₅₄ + M₅₁*M₁₈ + M₅₂*M₂₈ + M₅₅*M₅₈ + M₅₆*M₆₈ + M₅₇*M₇₈ + M₈₈*M₅₈ + M₉₈*M₅₉)*(M₁₀₁*M₁₅ + M₁₀₁₀*M₁₀₅ + M₁₀₂*M₂₅ + M₁₀₃*M₃₅ + M₁₀₄*M₄₅ + M₁₀₅*M₅₅ + M₁₀₆*M₆₅ + M₁₀₇*M₇₅ + M₁₀₈*M₈₅ + M₁₀₉*M₉₅) + (M₁₀₈*M₈₁₀ + M₃₈*M₈₃ + M₄₈*M₈₄ + M₈₁*M₁₈ + M₈₂*M₂₈ + M₈₅*M₅₈ + M₈₆*M₆₈ + M₈₇*M₇₈ + M₉₈*M₈₉ + M₈₈^2)*(M₁₀₁*M₁₈ + M₁₀₁₀*M₁₀₈ + M₁₀₂*M₂₈ + M₁₀₃*M₃₈ + M₁₀₄*M₄₈ + M₁₀₅*M₅₈ + M₁₀₆*M₆₈ + M₁₀₇*M₇₈ + M₁₀₈*M₈₈ + M₁₀₉*M₉₈) + (M₁₁*M₁₈ + M₁₁₀*M₁₀₈ + M₁₆*M₆₈ + M₁₇*M₇₈ + M₂₈*M₁₂ + M₃₈*M₁₃ + M₄₈*M₁₄ + M₅₈*M₁₅ + M₈₈*M₁₈ + M₉₈*M₁₉)*(M₁₀₁*M₁₁ + M₁₀₁₀*M₁₀₁ + M₁₀₂*M₂₁ + M₁₀₃*M₃₁ + M₁₀₄*M₄₁ + M₁₀₅*M₅₁ + M₁₀₆*M₆₁ + M₁₀₇*M₇₁ + M₁₀₈*M₈₁ + M₁₀₉*M₉₁) + (M₁₀₂*M₂₁₀ + M₁₀₃*M₃₁₀ + M₁₀₅*M₅₁₀ + M₁₀₈*M₈₁₀ + M₁₁₀*M₁₀₁ + M₄₁₀*M₁₀₄ + M₆₁₀*M₁₀₆ + M₇₁₀*M₁₀₇ + M₉₁₀*M₁₀₉ + M₁₀₁₀^2)*(M₁₀₁*M₁₈ + M₁₀₁₀*M₁₀₈ + M₁₀₂*M₂₈ + M₁₀₃*M₃₈ + M₁₀₄*M₄₈ + M₁₀₅*M₅₈ + M₁₀₆*M₆₈ + M₁₀₇*M₇₈ + M₁₀₈*M₈₈ + M₁₀₉*M₉₈) + (M₁₈*M₆₁ + M₂₈*M₆₂ + M₃₈*M₆₃ + M₄₈*M₆₄ + M₅₈*M₆₅ + M₆₁₀*M₁₀₈ + M₆₆*M₆₈ + M₇₈*M₆₇ + M₈₈*M₆₈ + M₉₈*M₆₉)*(M₁₀₁*M₁₆ + M₁₀₁₀*M₁₀₆ + M₁₀₂*M₂₆ + M₁₀₃*M₃₆ + M₁₀₄*M₄₆ + M₁₀₅*M₅₆ + M₁₀₆*M₆₆ + M₁₀₇*M₇₆ + M₁₀₈*M₈₆ + M₁₀₉*M₉₆) + (M₉₁*M₁₈ + M₉₁₀*M₁₀₈ + M₉₂*M₂₈ + M₉₃*M₃₈ + M₉₄*M₄₈ + M₉₅*M₅₈ + M₉₆*M₆₈ + M₉₇*M₇₈ + M₉₈*M₈₈ + M₉₈*M₉₉)*(M₁₀₁*M₁₉ + M₁₀₁₀*M₁₀₉ + M₁₀₂*M₂₉ + M₁₀₃*M₃₉ + M₁₀₄*M₄₉ + M₁₀₅*M₅₉ + M₁₀₆*M₆₉ + M₁₀₇*M₇₉ + M₁₀₈*M₈₉ + M₁₀₉*M₉₉) + (M₄₁*M₁₈ + M₄₁₀*M₁₀₈ + M₄₂*M₂₈ + M₄₃*M₃₈ + M₄₄*M₄₈ + M₄₅*M₅₈ + M₄₆*M₆₈ + M₄₇*M₇₈ + M₄₈*M₈₈ + M₉₈*M₄₉)*(M₁₀₁*M₁₄ + M₁₀₁₀*M₁₀₄ + M₁₀₂*M₂₄ + M₁₀₃*M₃₄ + M₁₀₄*M₄₄ + M₁₀₅*M₅₄ + M₁₀₆*M₆₄ + M₁₀₇*M₇₄ + M₁₀₈*M₈₄ + M₁₀₉*M₉₄) + (M₁₈*M₇₁ + M₂₈*M₇₂ + M₃₈*M₇₃ + M₄₈*M₇₄ + M₅₈*M₇₅ + M₇₁₀*M₁₀₈ + M₇₆*M₆₈ + M₇₈*M₇₇ + M₈₈*M₇₈ + M₉₈*M₇₉)*(M₁₀₁*M₁₇ + M₁₀₁₀*M₁₀₇ + M₁₀₂*M₂₇ + M₁₀₃*M₃₇ + M₁₀₄*M₄₇ + M₁₀₅*M₅₇ + M₁₀₆*M₆₇ + M₁₀₇*M₇₇ + M₁₀₈*M₈₇ + M₁₀₉*M₉₇))*((M₁₀₁*M₂₁₀ + M₂₁*M₁₁ + M₂₂*M₂₁ + M₂₆*M₆₁ + M₂₇*M₇₁ + M₃₁*M₂₃ + M₄₁*M₂₄ + M₅₁*M₂₅ + M₈₁*M₂₈ + M₉₁*M₂₉)*(M₁₀₂*M₈₁₀ + M₃₂*M₈₃ + M₄₂*M₈₄ + M₈₁*M₁₂ + M₈₂*M₂₂ + M₈₂*M₈₈ + M₈₅*M₅₂ + M₈₆*M₆₂ + M₈₇*M₇₂ + M₉₂*M₈₉) + (M₁₀₁*M₅₁₀ + M₃₁*M₅₃ + M₄₁*M₅₄ + M₅₁*M₁₁ + M₅₂*M₂₁ + M₅₅*M₅₁ + M₅₆*M₆₁ + M₅₇*M₇₁ + M₈₁*M₅₈ + M₉₁*M₅₉)*(M₁₀₅*M₈₁₀ + M₃₅*M₈₃ + M₄₅*M₈₄ + M₈₁*M₁₅ + M₈₂*M₂₅ + M₈₅*M₅₅ + M₈₆*M₆₅ + M₈₇*M₇₅ + M₈₈*M₈₅ + M₉₅*M₈₉) + (M₁₀₁*M₈₁₀ + M₃₁*M₈₃ + M₄₁*M₈₄ + M₈₁*M₁₁ + M₈₁*M₈₈ + M₈₂*M₂₁ + M₈₅*M₅₁ + M₈₆*M₆₁ + M₈₇*M₇₁ + M₉₁*M₈₉)*(M₁₀₈*M₈₁₀ + M₃₈*M₈₃ + M₄₈*M₈₄ + M₈₁*M₁₈ + M₈₂*M₂₈ + M₈₅*M₅₈ + M₈₆*M₆₈ + M₈₇*M₇₈ + M₉₈*M₈₉ + M₈₈^2) + (M₁₀₁*M₈₁₀ + M₃₁*M₈₃ + M₄₁*M₈₄ + M₈₁*M₁₁ + M₈₁*M₈₈ + M₈₂*M₂₁ + M₈₅*M₅₁ + M₈₆*M₆₁ + M₈₇*M₇₁ + M₉₁*M₈₉)*(M₁₁₀*M₁₀₁ + M₁₆*M₆₁ + M₁₇*M₇₁ + M₂₁*M₁₂ + M₃₁*M₁₃ + M₄₁*M₁₄ + M₅₁*M₁₅ + M₈₁*M₁₈ + M₉₁*M₁₉ + M₁₁^2) + (M₁₀₃*M₈₁₀ + M₃₃*M₈₃ + M₄₃*M₈₄ + M₈₁*M₁₃ + M₈₂*M₂₃ + M₈₃*M₈₈ + M₈₅*M₅₃ + M₈₆*M₆₃ + M₈₇*M₇₃ + M₉₃*M₈₉)*(M₁₀₁*M₃₁₀ + M₃₁*M₁₁ + M₃₁*M₃₃ + M₃₂*M₂₁ + M₃₅*M₅₁ + M₃₆*M₆₁ + M₃₇*M₇₁ + M₃₈*M₈₁ + M₄₁*M₃₄ + M₉₁*M₃₉) + (M₁₀₇*M₈₁₀ + M₃₇*M₈₃ + M₄₇*M₈₄ + M₈₁*M₁₇ + M₈₂*M₂₇ + M₈₅*M₅₇ + M₈₆*M₆₇ + M₈₇*M₇₇ + M₈₇*M₈₈ + M₉₇*M₈₉)*(M₁₁*M₇₁ + M₂₁*M₇₂ + M₃₁*M₇₃ + M₄₁*M₇₄ + M₅₁*M₇₅ + M₇₁*M₇₇ + M₇₁₀*M₁₀₁ + M₇₆*M₆₁ + M₈₁*M₇₈ + M₉₁*M₇₉) + (M₁₀₉*M₈₁₀ + M₃₉*M₈₃ + M₄₉*M₈₄ + M₈₁*M₁₉ + M₈₂*M₂₉ + M₈₅*M₅₉ + M₈₆*M₆₉ + M₈₇*M₇₉ + M₈₉*M₈₈ + M₉₉*M₈₉)*(M₉₁*M₁₁ + M₉₁*M₉₉ + M₉₁₀*M₁₀₁ + M₉₂*M₂₁ + M₉₃*M₃₁ + M₉₄*M₄₁ + M₉₅*M₅₁ + M₉₆*M₆₁ + M₉₇*M₇₁ + M₉₈*M₈₁) + (M₁₀₁₀*M₈₁₀ + M₁₁₀*M₈₁ + M₂₁₀*M₈₂ + M₃₁₀*M₈₃ + M₄₁₀*M₈₄ + M₅₁₀*M₈₅ + M₆₁₀*M₈₆ + M₇₁₀*M₈₇ + M₈₁₀*M₈₈ + M₉₁₀*M₈₉)*(M₁₀₁*M₁₁ + M₁₀₁₀*M₁₀₁ + M₁₀₂*M₂₁ + M₁₀₃*M₃₁ + M₁₀₄*M₄₁ + M₁₀₅*M₅₁ + M₁₀₆*M₆₁ + M₁₀₇*M₇₁ + M₁₀₈*M₈₁ + M₁₀₉*M₉₁) + (M₁₁*M₆₁ + M₂₁*M₆₂ + M₃₁*M₆₃ + M₄₁*M₆₄ + M₅₁*M₆₅ + M₆₁*M₆₆ + M₆₁₀*M₁₀₁ + M₇₁*M₆₇ + M₈₁*M₆₈ + M₉₁*M₆₉)*(M₁₀₆*M₈₁₀ + M₃₆*M₈₃ + M₄₆*M₈₄ + M₈₁*M₁₆ + M₈₂*M₂₆ + M₈₅*M₅₆ + M₈₆*M₆₆ + M₈₇*M₇₆ + M₈₈*M₈₆ + M₉₆*M₈₉) + (M₄₁*M₁₁ + M₄₁*M₄₄ + M₄₁₀*M₁₀₁ + M₄₂*M₂₁ + M₄₃*M₃₁ + M₄₅*M₅₁ + M₄₆*M₆₁ + M₄₇*M₇₁ + M₄₈*M₈₁ + M₉₁*M₄₉)*(M₁₀₄*M₈₁₀ + M₃₄*M₈₃ + M₄₄*M₈₄ + M₈₁*M₁₄ + M₈₂*M₂₄ + M₈₄*M₈₈ + M₈₅*M₅₄ + M₈₆*M₆₄ + M₈₇*M₇₄ + M₉₄*M₈₉)) + ((M₁₀₁*M₁₁ + M₁₀₁₀*M₁₀₁ + M₁₀₂*M₂₁ + M₁₀₃*M₃₁ + M₁₀₄*M₄₁ + M₁₀₅*M₅₁ + M₁₀₆*M₆₁ + M₁₀₇*M₇₁ + M₁₀₈*M₈₁ + M₁₀₉*M₉₁)*(M₁₀₁₀*M₄₁₀ + M₁₁₀*M₄₁ + M₂₁₀*M₄₂ + M₃₁₀*M₄₃ + M₄₁₀*M₄₄ + M₅₁₀*M₄₅ + M₆₁₀*M₄₆ + M₇₁₀*M₄₇ + M₈₁₀*M₄₈ + M₉₁₀*M₄₉) + (M₁₁*M₆₁ + M₂₁*M₆₂ + M₃₁*M₆₃ + M₄₁*M₆₄ + M₅₁*M₆₅ + M₆₁*M₆₆ + M₆₁₀*M₁₀₁ + M₇₁*M₆₇ + M₈₁*M₆₈ + M₉₁*M₆₉)*(M₄₁*M₁₆ + M₄₁₀*M₁₀₆ + M₄₂*M₂₆ + M₄₃*M₃₆ + M₄₅*M₅₆ + M₄₆*M₄₄ + M₄₆*M₆₆ + M₄₇*M₇₆ + M₄₈*M₈₆ + M₉₆*M₄₉) + (M₄₁*M₁₁ + M₄₁*M₄₄ + M₄₁₀*M₁₀₁ + M₄₂*M₂₁ + M₄₃*M₃₁ + M₄₅*M₅₁ + M₄₆*M₆₁ + M₄₇*M₇₁ + M₄₈*M₈₁ + M₉₁*M₄₉)*(M₁₁₀*M₁₀₁ + M₁₆*M₆₁ + M₁₇*M₇₁ + M₂₁*M₁₂ + M₃₁*M₁₃ + M₄₁*M₁₄ + M₅₁*M₁₅ + M₈₁*M₁₈ + M₉₁*M₁₉ + M₁₁^2) + (M₄₁*M₁₂ + M₄₁₀*M₁₀₂ + M₄₂*M₂₂ + M₄₂*M₄₄ + M₄₃*M₃₂ + M₄₅*M₅₂ + M₄₆*M₆₂ + M₄₇*M₇₂ + M₄₈*M₈₂ + M₉₂*M₄₉)*(M₁₀₁*M₂₁₀ + M₂₁*M₁₁ + M₂₂*M₂₁ + M₂₆*M₆₁ + M₂₇*M₇₁ + M₃₁*M₂₃ + M₄₁*M₂₄ + M₅₁*M₂₅ + M₈₁*M₂₈ + M₉₁*M₂₉) + (M₄₁*M₁₃ + M₄₁₀*M₁₀₃ + M₄₂*M₂₃ + M₄₃*M₃₃ + M₄₄*M₄₃ + M₄₅*M₅₃ + M₄₆*M₆₃ + M₄₇*M₇₃ + M₄₈*M₈₃ + M₉₃*M₄₉)*(M₁₀₁*M₃₁₀ + M₃₁*M₁₁ + M₃₁*M₃₃ + M₃₂*M₂₁ + M₃₅*M₅₁ + M₃₆*M₆₁ + M₃₇*M₇₁ + M₃₈*M₈₁ + M₄₁*M₃₄ + M₉₁*M₃₉) + (M₄₁*M₁₄ + M₄₁₀*M₁₀₄ + M₄₂*M₂₄ + M₄₃*M₃₄ + M₄₅*M₅₄ + M₄₆*M₆₄ + M₄₇*M₇₄ + M₄₈*M₈₄ + M₉₄*M₄₉ + M₄₄^2)*(M₄₁*M₁₁ + M₄₁*M₄₄ + M₄₁₀*M₁₀₁ + M₄₂*M₂₁ + M₄₃*M₃₁ + M₄₅*M₅₁ + M₄₆*M₆₁ + M₄₇*M₇₁ + M₄₈*M₈₁ + M₉₁*M₄₉) + (M₄₁*M₁₅ + M₄₁₀*M₁₀₅ + M₄₂*M₂₅ + M₄₃*M₃₅ + M₄₅*M₄₄ + M₄₅*M₅₅ + M₄₆*M₆₅ + M₄₇*M₇₅ + M₄₈*M₈₅ + M₉₅*M₄₉)*(M₁₀₁*M₅₁₀ + M₃₁*M₅₃ + M₄₁*M₅₄ + M₅₁*M₁₁ + M₅₂*M₂₁ + M₅₅*M₅₁ + M₅₆*M₆₁ + M₅₇*M₇₁ + M₈₁*M₅₈ + M₉₁*M₅₉) + (M₄₁*M₁₇ + M₄₁₀*M₁₀₇ + M₄₂*M₂₇ + M₄₃*M₃₇ + M₄₄*M₄₇ + M₄₅*M₅₇ + M₄₆*M₆₇ + M₄₇*M₇₇ + M₄₈*M₈₇ + M₉₇*M₄₉)*(M₁₁*M₇₁ + M₂₁*M₇₂ + M₃₁*M₇₃ + M₄₁*M₇₄ + M₅₁*M₇₅ + M₇₁*M₇₇ + M₇₁₀*M₁₀₁ + M₇₆*M₆₁ + M₈₁*M₇₈ + M₉₁*M₇₉) + (M₄₁*M₁₈ + M₄₁₀*M₁₀₈ + M₄₂*M₂₈ + M₄₃*M₃₈ + M₄₄*M₄₈ + M₄₅*M₅₈ + M₄₆*M₆₈ + M₄₇*M₇₈ + M₄₈*M₈₈ + M₉₈*M₄₉)*(M₁₀₁*M₈₁₀ + M₃₁*M₈₃ + M₄₁*M₈₄ + M₈₁*M₁₁ + M₈₁*M₈₈ + M₈₂*M₂₁ + M₈₅*M₅₁ + M₈₆*M₆₁ + M₈₇*M₇₁ + M₉₁*M₈₉) + (M₄₁*M₁₉ + M₄₁₀*M₁₀₉ + M₄₂*M₂₉ + M₄₃*M₃₉ + M₄₄*M₄₉ + M₄₅*M₅₉ + M₄₆*M₆₉ + M₄₇*M₇₉ + M₄₈*M₈₉ + M₉₉*M₄₉)*(M₉₁*M₁₁ + M₉₁*M₉₉ + M₉₁₀*M₁₀₁ + M₉₂*M₂₁ + M₉₃*M₃₁ + M₉₄*M₄₁ + M₉₅*M₅₁ + M₉₆*M₆₁ + M₉₇*M₇₁ + M₉₈*M₈₁))*((M₁₀₄*M₂₁₀ + M₂₁*M₁₄ + M₂₂*M₂₄ + M₂₆*M₆₄ + M₂₇*M₇₄ + M₃₄*M₂₃ + M₄₄*M₂₄ + M₅₄*M₂₅ + M₈₄*M₂₈ + M₉₄*M₂₉)*(M₁₀₁*M₁₂ + M₁₀₁₀*M₁₀₂ + M₁₀₂*M₂₂ + M₁₀₃*M₃₂ + M₁₀₄*M₄₂ + M₁₀₅*M₅₂ + M₁₀₆*M₆₂ + M₁₀₇*M₇₂ + M₁₀₈*M₈₂ + M₁₀₉*M₉₂) + (M₁₀₄*M₃₁₀ + M₃₁*M₁₄ + M₃₂*M₂₄ + M₃₃*M₃₄ + M₃₅*M₅₄ + M₃₆*M₆₄ + M₃₇*M₇₄ + M₃₈*M₈₄ + M₄₄*M₃₄ + M₉₄*M₃₉)*(M₁₀₁*M₁₃ + M₁₀₁₀*M₁₀₃ + M₁₀₂*M₂₃ + M₁₀₃*M₃₃ + M₁₀₄*M₄₃ + M₁₀₅*M₅₃ + M₁₀₆*M₆₃ + M₁₀₇*M₇₃ + M₁₀₈*M₈₃ + M₁₀₉*M₉₃) + (M₁₀₄*M₅₁₀ + M₃₄*M₅₃ + M₄₄*M₅₄ + M₅₁*M₁₄ + M₅₂*M₂₄ + M₅₅*M₅₄ + M₅₆*M₆₄ + M₅₇*M₇₄ + M₈₄*M₅₈ + M₉₄*M₅₉)*(M₁₀₁*M₁₅ + M₁₀₁₀*M₁₀₅ + M₁₀₂*M₂₅ + M₁₀₃*M₃₅ + M₁₀₄*M₄₅ + M₁₀₅*M₅₅ + M₁₀₆*M₆₅ + M₁₀₇*M₇₅ + M₁₀₈*M₈₅ + M₁₀₉*M₉₅) + (M₁₀₄*M₈₁₀ + M₃₄*M₈₃ + M₄₄*M₈₄ + M₈₁*M₁₄ + M₈₂*M₂₄ + M₈₄*M₈₈ + M₈₅*M₅₄ + M₈₆*M₆₄ + M₈₇*M₇₄ + M₉₄*M₈₉)*(M₁₀₁*M₁₈ + M₁₀₁₀*M₁₀₈ + M₁₀₂*M₂₈ + M₁₀₃*M₃₈ + M₁₀₄*M₄₈ + M₁₀₅*M₅₈ + M₁₀₆*M₆₈ + M₁₀₇*M₇₈ + M₁₀₈*M₈₈ + M₁₀₉*M₉₈) + (M₁₁*M₁₄ + M₁₁₀*M₁₀₄ + M₁₆*M₆₄ + M₁₇*M₇₄ + M₂₄*M₁₂ + M₃₄*M₁₃ + M₄₄*M₁₄ + M₅₄*M₁₅ + M₈₄*M₁₈ + M₉₄*M₁₉)*(M₁₀₁*M₁₁ + M₁₀₁₀*M₁₀₁ + M₁₀₂*M₂₁ + M₁₀₃*M₃₁ + M₁₀₄*M₄₁ + M₁₀₅*M₅₁ + M₁₀₆*M₆₁ + M₁₀₇*M₇₁ + M₁₀₈*M₈₁ + M₁₀₉*M₉₁) + (M₁₄*M₆₁ + M₂₄*M₆₂ + M₃₄*M₆₃ + M₄₄*M₆₄ + M₅₄*M₆₅ + M₆₁₀*M₁₀₄ + M₆₄*M₆₆ + M₇₄*M₆₇ + M₈₄*M₆₈ + M₉₄*M₆₉)*(M₁₀₁*M₁₆ + M₁₀₁₀*M₁₀₆ + M₁₀₂*M₂₆ + M₁₀₃*M₃₆ + M₁₀₄*M₄₆ + M₁₀₅*M₅₆ + M₁₀₆*M₆₆ + M₁₀₇*M₇₆ + M₁₀₈*M₈₆ + M₁₀₉*M₉₆) + (M₁₀₂*M₂₁₀ + M₁₀₃*M₃₁₀ + M₁₀₅*M₅₁₀ + M₁₀₈*M₈₁₀ + M₁₁₀*M₁₀₁ + M₄₁₀*M₁₀₄ + M₆₁₀*M₁₀₆ + M₇₁₀*M₁₀₇ + M₉₁₀*M₁₀₉ + M₁₀₁₀^2)*(M₁₀₁*M₁₄ + M₁₀₁₀*M₁₀₄ + M₁₀₂*M₂₄ + M₁₀₃*M₃₄ + M₁₀₄*M₄₄ + M₁₀₅*M₅₄ + M₁₀₆*M₆₄ + M₁₀₇*M₇₄ + M₁₀₈*M₈₄ + M₁₀₉*M₉₄) + (M₉₁*M₁₄ + M₉₁₀*M₁₀₄ + M₉₂*M₂₄ + M₉₃*M₃₄ + M₉₄*M₄₄ + M₉₅*M₅₄ + M₉₆*M₆₄ + M₉₇*M₇₄ + M₉₈*M₈₄ + M₉₉*M₉₄)*(M₁₀₁*M₁₉ + M₁₀₁₀*M₁₀₉ + M₁₀₂*M₂₉ + M₁₀₃*M₃₉ + M₁₀₄*M₄₉ + M₁₀₅*M₅₉ + M₁₀₆*M₆₉ + M₁₀₇*M₇₉ + M₁₀₈*M₈₉ + M₁₀₉*M₉₉) + (M₄₁*M₁₄ + M₄₁₀*M₁₀₄ + M₄₂*M₂₄ + M₄₃*M₃₄ + M₄₅*M₅₄ + M₄₆*M₆₄ + M₄₇*M₇₄ + M₄₈*M₈₄ + M₉₄*M₄₉ + M₄₄^2)*(M₁₀₁*M₁₄ + M₁₀₁₀*M₁₀₄ + M₁₀₂*M₂₄ + M₁₀₃*M₃₄ + M₁₀₄*M₄₄ + M₁₀₅*M₅₄ + M₁₀₆*M₆₄ + M₁₀₇*M₇₄ + M₁₀₈*M₈₄ + M₁₀₉*M₉₄) + (M₁₄*M₇₁ + M₂₄*M₇₂ + M₃₄*M₇₃ + M₄₄*M₇₄ + M₅₄*M₇₅ + M₇₁₀*M₁₀₄ + M₇₄*M₇₇ + M₇₆*M₆₄ + M₈₄*M₇₈ + M₉₄*M₇₉)*(M₁₀₁*M₁₇ + M₁₀₁₀*M₁₀₇ + M₁₀₂*M₂₇ + M₁₀₃*M₃₇ + M₁₀₄*M₄₇ + M₁₀₅*M₅₇ + M₁₀₆*M₆₇ + M₁₀₇*M₇₇ + M₁₀₈*M₈₇ + M₁₀₉*M₉₇)))*(M₁₀₁₀*M₁₁₀ + M₁₁₀*M₁₁ + M₂₁₀*M₁₂ + M₃₁₀*M₁₃ + M₄₁₀*M₁₄ + M₅₁₀*M₁₅ + M₆₁₀*M₁₆ + M₇₁₀*M₁₇ + M₈₁₀*M₁₈ + M₉₁₀*M₁₉) + (((M₁₀₁*M₂₁₀ + M₂₁*M₁₁ + M₂₂*M₂₁ + M₂₆*M₆₁ + M₂₇*M₇₁ + M₃₁*M₂₃ + M₄₁*M₂₄ + M₅₁*M₂₅ + M₈₁*M₂₈ + M₉₁*M₂₉)*(M₁₂*M₇₁ + M₂₂*M₇₂ + M₃₂*M₇₃ + M₄₂*M₇₄ + M₅₂*M₇₅ + M₇₁₀*M₁₀₂ + M₇₂*M₇₇ + M₇₆*M₆₂ + M₈₂*M₇₈ + M₉₂*M₇₉) + (M₁₀₁*M₃₁₀ + M₃₁*M₁₁ + M₃₁*M₃₃ + M₃₂*M₂₁ + M₃₅*M₅₁ + M₃₆*M₆₁ + M₃₇*M₇₁ + M₃₈*M₈₁ + M₄₁*M₃₄ + M₉₁*M₃₉)*(M₁₃*M₇₁ + M₂₃*M₇₂ + M₃₃*M₇₃ + M₄₃*M₇₄ + M₅₃*M₇₅ + M₇₁₀*M₁₀₃ + M₇₃*M₇₇ + M₇₆*M₆₃ + M₈₃*M₇₈ + M₉₃*M₇₉) + (M₁₀₁*M₅₁₀ + M₃₁*M₅₃ + M₄₁*M₅₄ + M₅₁*M₁₁ + M₅₂*M₂₁ + M₅₅*M₅₁ + M₅₆*M₆₁ + M₅₇*M₇₁ + M₈₁*M₅₈ + M₉₁*M₅₉)*(M₁₅*M₇₁ + M₂₅*M₇₂ + M₃₅*M₇₃ + M₄₅*M₇₄ + M₅₅*M₇₅ + M₇₁₀*M₁₀₅ + M₇₆*M₆₅ + M₇₇*M₇₅ + M₈₅*M₇₈ + M₉₅*M₇₉) + (M₁₀₁*M₈₁₀ + M₃₁*M₈₃ + M₄₁*M₈₄ + M₈₁*M₁₁ + M₈₁*M₈₈ + M₈₂*M₂₁ + M₈₅*M₅₁ + M₈₆*M₆₁ + M₈₇*M₇₁ + M₉₁*M₈₉)*(M₁₈*M₇₁ + M₂₈*M₇₂ + M₃₈*M₇₃ + M₄₈*M₇₄ + M₅₈*M₇₅ + M₇₁₀*M₁₀₈ + M₇₆*M₆₈ + M₇₈*M₇₇ + M₈₈*M₇₈ + M₉₈*M₇₉) + (M₁₀₁*M₁₁ + M₁₀₁₀*M₁₀₁ + M₁₀₂*M₂₁ + M₁₀₃*M₃₁ + M₁₀₄*M₄₁ + M₁₀₅*M₅₁ + M₁₀₆*M₆₁ + M₁₀₇*M₇₁ + M₁₀₈*M₈₁ + M₁₀₉*M₉₁)*(M₁₀₁₀*M₇₁₀ + M₁₁₀*M₇₁ + M₂₁₀*M₇₂ + M₃₁₀*M₇₃ + M₄₁₀*M₇₄ + M₅₁₀*M₇₅ + M₆₁₀*M₇₆ + M₇₁₀*M₇₇ + M₈₁₀*M₇₈ + M₉₁₀*M₇₉) + (M₁₁₀*M₁₀₁ + M₁₆*M₆₁ + M₁₇*M₇₁ + M₂₁*M₁₂ + M₃₁*M₁₃ + M₄₁*M₁₄ + M₅₁*M₁₅ + M₈₁*M₁₈ + M₉₁*M₁₉ + M₁₁^2)*(M₁₁*M₇₁ + M₂₁*M₇₂ + M₃₁*M₇₃ + M₄₁*M₇₄ + M₅₁*M₇₅ + M₇₁*M₇₇ + M₇₁₀*M₁₀₁ + M₇₆*M₆₁ + M₈₁*M₇₈ + M₉₁*M₇₉) + (M₁₁*M₆₁ + M₂₁*M₆₂ + M₃₁*M₆₃ + M₄₁*M₆₄ + M₅₁*M₆₅ + M₆₁*M₆₆ + M₆₁₀*M₁₀₁ + M₇₁*M₆₇ + M₈₁*M₆₈ + M₉₁*M₆₉)*(M₁₆*M₇₁ + M₂₆*M₇₂ + M₃₆*M₇₃ + M₄₆*M₇₄ + M₅₆*M₇₅ + M₇₁₀*M₁₀₆ + M₇₆*M₆₆ + M₇₇*M₇₆ + M₈₆*M₇₈ + M₉₆*M₇₉) + (M₄₁*M₁₁ + M₄₁*M₄₄ + M₄₁₀*M₁₀₁ + M₄₂*M₂₁ + M₄₃*M₃₁ + M₄₅*M₅₁ + M₄₆*M₆₁ + M₄₇*M₇₁ + M₄₈*M₈₁ + M₉₁*M₄₉)*(M₁₄*M₇₁ + M₂₄*M₇₂ + M₃₄*M₇₃ + M₄₄*M₇₄ + M₅₄*M₇₅ + M₇₁₀*M₁₀₄ + M₇₄*M₇₇ + M₇₆*M₆₄ + M₈₄*M₇₈ + M₉₄*M₇₉) + (M₉₁*M₁₁ + M₉₁*M₉₉ + M₉₁₀*M₁₀₁ + M₉₂*M₂₁ + M₉₃*M₃₁ + M₉₄*M₄₁ + M₉₅*M₅₁ + M₉₆*M₆₁ + M₉₇*M₇₁ + M₉₈*M₈₁)*(M₁₉*M₇₁ + M₂₉*M₇₂ + M₃₉*M₇₃ + M₄₉*M₇₄ + M₅₉*M₇₅ + M₇₁₀*M₁₀₉ + M₇₆*M₆₉ + M₇₇*M₇₉ + M₈₉*M₇₈ + M₉₉*M₇₉) + (M₁₇*M₇₁ + M₂₇*M₇₂ + M₃₇*M₇₃ + M₄₇*M₇₄ + M₅₇*M₇₅ + M₇₁₀*M₁₀₇ + M₇₆*M₆₇ + M₈₇*M₇₈ + M₉₇*M₇₉ + M₇₇^2)*(M₁₁*M₇₁ + M₂₁*M₇₂ + M₃₁*M₇₃ + M₄₁*M₇₄ + M₅₁*M₇₅ + M₇₁*M₇₇ + M₇₁₀*M₁₀₁ + M₇₆*M₆₁ + M₈₁*M₇₈ + M₉₁*M₇₉))*((M₁₀₁*M₁₇ + M₁₀₁₀*M₁₀₇ + M₁₀₂*M₂₇ + M₁₀₃*M₃₇ + M₁₀₄*M₄₇ + M₁₀₅*M₅₇ + M₁₀₆*M₆₇ + M₁₀₇*M₇₇ + M₁₀₈*M₈₇ + M₁₀₉*M₉₇)*(M₁₀₁₀*M₄₁₀ + M₁₁₀*M₄₁ + M₂₁₀*M₄₂ + M₃₁₀*M₄₃ + M₄₁₀*M₄₄ + M₅₁₀*M₄₅ + M₆₁₀*M₄₆ + M₇₁₀*M₄₇ + M₈₁₀*M₄₈ + M₉₁₀*M₄₉) + (M₁₇*M₆₁ + M₂₇*M₆₂ + M₃₇*M₆₃ + M₄₇*M₆₄ + M₅₇*M₆₅ + M₆₁₀*M₁₀₇ + M₆₆*M₆₇ + M₇₇*M₆₇ + M₈₇*M₆₈ + M₉₇*M₆₉)*(M₄₁*M₁₆ + M₄₁₀*M₁₀₆ + M₄₂*M₂₆ + M₄₃*M₃₆ + M₄₅*M₅₆ + M₄₆*M₄₄ + M₄₆*M₆₆ + M₄₇*M₇₆ + M₄₈*M₈₆ + M₉₆*M₄₉) + (M₄₁*M₁₁ + M₄₁*M₄₄ + M₄₁₀*M₁₀₁ + M₄₂*M₂₁ + M₄₃*M₃₁ + M₄₅*M₅₁ + M₄₆*M₆₁ + M₄₇*M₇₁ + M₄₈*M₈₁ + M₉₁*M₄₉)*(M₁₁*M₁₇ + M₁₁₀*M₁₀₇ + M₁₆*M₆₇ + M₁₇*M₇₇ + M₂₇*M₁₂ + M₃₇*M₁₃ + M₄₇*M₁₄ + M₅₇*M₁₅ + M₈₇*M₁₈ + M₉₇*M₁₉) + (M₄₁*M₁₂ + M₄₁₀*M₁₀₂ + M₄₂*M₂₂ + M₄₂*M₄₄ + M₄₃*M₃₂ + M₄₅*M₅₂ + M₄₆*M₆₂ + M₄₇*M₇₂ + M₄₈*M₈₂ + M₉₂*M₄₉)*(M₁₀₇*M₂₁₀ + M₂₁*M₁₇ + M₂₂*M₂₇ + M₂₆*M₆₇ + M₂₇*M₇₇ + M₃₇*M₂₃ + M₄₇*M₂₄ + M₅₇*M₂₅ + M₈₇*M₂₈ + M₉₇*M₂₉) + (M₄₁*M₁₃ + M₄₁₀*M₁₀₃ + M₄₂*M₂₃ + M₄₃*M₃₃ + M₄₄*M₄₃ + M₄₅*M₅₃ + M₄₆*M₆₃ + M₄₇*M₇₃ + M₄₈*M₈₃ + M₉₃*M₄₉)*(M₁₀₇*M₃₁₀ + M₃₁*M₁₇ + M₃₂*M₂₇ + M₃₃*M₃₇ + M₃₅*M₅₇ + M₃₆*M₆₇ + M₃₇*M₇₇ + M₃₈*M₈₇ + M₄₇*M₃₄ + M₉₇*M₃₉) + (M₄₁*M₁₄ + M₄₁₀*M₁₀₄ + M₄₂*M₂₄ + M₄₃*M₃₄ + M₄₅*M₅₄ + M₄₆*M₆₄ + M₄₇*M₇₄ + M₄₈*M₈₄ + M₉₄*M₄₉ + M₄₄^2)*(M₄₁*M₁₇ + M₄₁₀*M₁₀₇ + M₄₂*M₂₇ + M₄₃*M₃₇ + M₄₄*M₄₇ + M₄₅*M₅₇ + M₄₆*M₆₇ + M₄₇*M₇₇ + M₄₈*M₈₇ + M₉₇*M₄₉) + (M₄₁*M₁₅ + M₄₁₀*M₁₀₅ + M₄₂*M₂₅ + M₄₃*M₃₅ + M₄₅*M₄₄ + M₄₅*M₅₅ + M₄₆*M₆₅ + M₄₇*M₇₅ + M₄₈*M₈₅ + M₉₅*M₄₉)*(M₁₀₇*M₅₁₀ + M₃₇*M₅₃ + M₄₇*M₅₄ + M₅₁*M₁₇ + M₅₂*M₂₇ + M₅₅*M₅₇ + M₅₆*M₆₇ + M₅₇*M₇₇ + M₈₇*M₅₈ + M₉₇*M₅₉) + (M₄₁*M₁₇ + M₄₁₀*M₁₀₇ + M₄₂*M₂₇ + M₄₃*M₃₇ + M₄₄*M₄₇ + M₄₅*M₅₇ + M₄₆*M₆₇ + M₄₇*M₇₇ + M₄₈*M₈₇ + M₉₇*M₄₉)*(M₁₇*M₇₁ + M₂₇*M₇₂ + M₃₇*M₇₃ + M₄₇*M₇₄ + M₅₇*M₇₅ + M₇₁₀*M₁₀₇ + M₇₆*M₆₇ + M₈₇*M₇₈ + M₉₇*M₇₉ + M₇₇^2) + (M₄₁*M₁₈ + M₄₁₀*M₁₀₈ + M₄₂*M₂₈ + M₄₃*M₃₈ + M₄₄*M₄₈ + M₄₅*M₅₈ + M₄₆*M₆₈ + M₄₇*M₇₈ + M₄₈*M₈₈ + M₉₈*M₄₉)*(M₁₀₇*M₈₁₀ + M₃₇*M₈₃ + M₄₇*M₈₄ + M₈₁*M₁₇ + M₈₂*M₂₇ + M₈₅*M₅₇ + M₈₆*M₆₇ + M₈₇*M₇₇ + M₈₇*M₈₈ + M₉₇*M₈₉) + (M₄₁*M₁₉ + M₄₁₀*M₁₀₉ + M₄₂*M₂₉ + M₄₃*M₃₉ + M₄₄*M₄₉ + M₄₅*M₅₉ + M₄₆*M₆₉ + M₄₇*M₇₉ + M₄₈*M₈₉ + M₉₉*M₄₉)*(M₉₁*M₁₇ + M₉₁₀*M₁₀₇ + M₉₂*M₂₇ + M₉₃*M₃₇ + M₉₄*M₄₇ + M₉₅*M₅₇ + M₉₆*M₆₇ + M₉₇*M₇₇ + M₉₇*M₉₉ + M₉₈*M₈₇)) + ((M₁₀₁*M₂₁₀ + M₂₁*M₁₁ + M₂₂*M₂₁ + M₂₆*M₆₁ + M₂₇*M₇₁ + M₃₁*M₂₃ + M₄₁*M₂₄ + M₅₁*M₂₅ + M₈₁*M₂₈ + M₉₁*M₂₉)*(M₁₀₂*M₂₁₀ + M₂₁*M₁₂ + M₂₆*M₆₂ + M₂₇*M₇₂ + M₃₂*M₂₃ + M₄₂*M₂₄ + M₅₂*M₂₅ + M₈₂*M₂₈ + M₉₂*M₂₉ + M₂₂^2) + (M₁₀₁*M₂₁₀ + M₂₁*M₁₁ + M₂₂*M₂₁ + M₂₆*M₆₁ + M₂₇*M₇₁ + M₃₁*M₂₃ + M₄₁*M₂₄ + M₅₁*M₂₅ + M₈₁*M₂₈ + M₉₁*M₂₉)*(M₁₁₀*M₁₀₁ + M₁₆*M₆₁ + M₁₇*M₇₁ + M₂₁*M₁₂ + M₃₁*M₁₃ + M₄₁*M₁₄ + M₅₁*M₁₅ + M₈₁*M₁₈ + M₉₁*M₁₉ + M₁₁^2) + (M₁₀₃*M₂₁₀ + M₂₁*M₁₃ + M₂₂*M₂₃ + M₂₆*M₆₃ + M₂₇*M₇₃ + M₃₃*M₂₃ + M₄₃*M₂₄ + M₅₃*M₂₅ + M₈₃*M₂₈ + M₉₃*M₂₉)*(M₁₀₁*M₃₁₀ + M₃₁*M₁₁ + M₃₁*M₃₃ + M₃₂*M₂₁ + M₃₅*M₅₁ + M₃₆*M₆₁ + M₃₇*M₇₁ + M₃₈*M₈₁ + M₄₁*M₃₄ + M₉₁*M₃₉) + (M₁₀₅*M₂₁₀ + M₂₁*M₁₅ + M₂₂*M₂₅ + M₂₆*M₆₅ + M₂₇*M₇₅ + M₃₅*M₂₃ + M₄₅*M₂₄ + M₅₅*M₂₅ + M₈₅*M₂₈ + M₉₅*M₂₉)*(M₁₀₁*M₅₁₀ + M₃₁*M₅₃ + M₄₁*M₅₄ + M₅₁*M₁₁ + M₅₂*M₂₁ + M₅₅*M₅₁ + M₅₆*M₆₁ + M₅₇*M₇₁ + M₈₁*M₅₈ + M₉₁*M₅₉) + (M₁₀₇*M₂₁₀ + M₂₁*M₁₇ + M₂₂*M₂₇ + M₂₆*M₆₇ + M₂₇*M₇₇ + M₃₇*M₂₃ + M₄₇*M₂₄ + M₅₇*M₂₅ + M₈₇*M₂₈ + M₉₇*M₂₉)*(M₁₁*M₇₁ + M₂₁*M₇₂ + M₃₁*M₇₃ + M₄₁*M₇₄ + M₅₁*M₇₅ + M₇₁*M₇₇ + M₇₁₀*M₁₀₁ + M₇₆*M₆₁ + M₈₁*M₇₈ + M₉₁*M₇₉) + (M₁₀₈*M₂₁₀ + M₂₁*M₁₈ + M₂₂*M₂₈ + M₂₆*M₆₈ + M₂₇*M₇₈ + M₃₈*M₂₃ + M₄₈*M₂₄ + M₅₈*M₂₅ + M₈₈*M₂₈ + M₉₈*M₂₉)*(M₁₀₁*M₈₁₀ + M₃₁*M₈₃ + M₄₁*M₈₄ + M₈₁*M₁₁ + M₈₁*M₈₈ + M₈₂*M₂₁ + M₈₅*M₅₁ + M₈₆*M₆₁ + M₈₇*M₇₁ + M₉₁*M₈₉) + (M₁₀₉*M₂₁₀ + M₂₁*M₁₉ + M₂₂*M₂₉ + M₂₆*M₆₉ + M₂₇*M₇₉ + M₃₉*M₂₃ + M₄₉*M₂₄ + M₅₉*M₂₅ + M₈₉*M₂₈ + M₉₉*M₂₉)*(M₉₁*M₁₁ + M₉₁*M₉₉ + M₉₁₀*M₁₀₁ + M₉₂*M₂₁ + M₉₃*M₃₁ + M₉₄*M₄₁ + M₉₅*M₅₁ + M₉₆*M₆₁ + M₉₇*M₇₁ + M₉₈*M₈₁) + (M₁₀₁₀*M₂₁₀ + M₁₁₀*M₂₁ + M₂₁₀*M₂₂ + M₃₁₀*M₂₃ + M₄₁₀*M₂₄ + M₅₁₀*M₂₅ + M₆₁₀*M₂₆ + M₇₁₀*M₂₇ + M₈₁₀*M₂₈ + M₉₁₀*M₂₉)*(M₁₀₁*M₁₁ + M₁₀₁₀*M₁₀₁ + M₁₀₂*M₂₁ + M₁₀₃*M₃₁ + M₁₀₄*M₄₁ + M₁₀₅*M₅₁ + M₁₀₆*M₆₁ + M₁₀₇*M₇₁ + M₁₀₈*M₈₁ + M₁₀₉*M₉₁) + (M₁₁*M₆₁ + M₂₁*M₆₂ + M₃₁*M₆₃ + M₄₁*M₆₄ + M₅₁*M₆₅ + M₆₁*M₆₆ + M₆₁₀*M₁₀₁ + M₇₁*M₆₇ + M₈₁*M₆₈ + M₉₁*M₆₉)*(M₁₀₆*M₂₁₀ + M₂₁*M₁₆ + M₂₂*M₂₆ + M₂₆*M₆₆ + M₂₇*M₇₆ + M₃₆*M₂₃ + M₄₆*M₂₄ + M₅₆*M₂₅ + M₈₆*M₂₈ + M₉₆*M₂₉) + (M₄₁*M₁₁ + M₄₁*M₄₄ + M₄₁₀*M₁₀₁ + M₄₂*M₂₁ + M₄₃*M₃₁ + M₄₅*M₅₁ + M₄₆*M₆₁ + M₄₇*M₇₁ + M₄₈*M₈₁ + M₉₁*M₄₉)*(M₁₀₄*M₂₁₀ + M₂₁*M₁₄ + M₂₂*M₂₄ + M₂₆*M₆₄ + M₂₇*M₇₄ + M₃₄*M₂₃ + M₄₄*M₂₄ + M₅₄*M₂₅ + M₈₄*M₂₈ + M₉₄*M₂₉))*((M₁₀₁*M₁₂ + M₁₀₁₀*M₁₀₂ + M₁₀₂*M₂₂ + M₁₀₃*M₃₂ + M₁₀₄*M₄₂ + M₁₀₅*M₅₂ + M₁₀₆*M₆₂ + M₁₀₇*M₇₂ + M₁₀₈*M₈₂ + M₁₀₉*M₉₂)*(M₁₀₁₀*M₄₁₀ + M₁₁₀*M₄₁ + M₂₁₀*M₄₂ + M₃₁₀*M₄₃ + M₄₁₀*M₄₄ + M₅₁₀*M₄₅ + M₆₁₀*M₄₆ + M₇₁₀*M₄₇ + M₈₁₀*M₄₈ + M₉₁₀*M₄₉) + (M₁₂*M₆₁ + M₂₂*M₆₂ + M₃₂*M₆₃ + M₄₂*M₆₄ + M₅₂*M₆₅ + M₆₁₀*M₁₀₂ + M₆₂*M₆₆ + M₇₂*M₆₇ + M₈₂*M₆₈ + M₉₂*M₆₉)*(M₄₁*M₁₆ + M₄₁₀*M₁₀₆ + M₄₂*M₂₆ + M₄₃*M₃₆ + M₄₅*M₅₆ + M₄₆*M₄₄ + M₄₆*M₆₆ + M₄₇*M₇₆ + M₄₈*M₈₆ + M₉₆*M₄₉) + (M₄₁*M₁₁ + M₄₁*M₄₄ + M₄₁₀*M₁₀₁ + M₄₂*M₂₁ + M₄₃*M₃₁ + M₄₅*M₅₁ + M₄₆*M₆₁ + M₄₇*M₇₁ + M₄₈*M₈₁ + M₉₁*M₄₉)*(M₁₁*M₁₂ + M₁₁₀*M₁₀₂ + M₁₆*M₆₂ + M₁₇*M₇₂ + M₂₂*M₁₂ + M₃₂*M₁₃ + M₄₂*M₁₄ + M₅₂*M₁₅ + M₈₂*M₁₈ + M₉₂*M₁₉) + (M₄₁*M₁₂ + M₄₁₀*M₁₀₂ + M₄₂*M₂₂ + M₄₂*M₄₄ + M₄₃*M₃₂ + M₄₅*M₅₂ + M₄₆*M₆₂ + M₄₇*M₇₂ + M₄₈*M₈₂ + M₉₂*M₄₉)*(M₁₀₂*M₂₁₀ + M₂₁*M₁₂ + M₂₆*M₆₂ + M₂₇*M₇₂ + M₃₂*M₂₃ + M₄₂*M₂₄ + M₅₂*M₂₅ + M₈₂*M₂₈ + M₉₂*M₂₉ + M₂₂^2) + (M₄₁*M₁₃ + M₄₁₀*M₁₀₃ + M₄₂*M₂₃ + M₄₃*M₃₃ + M₄₄*M₄₃ + M₄₅*M₅₃ + M₄₆*M₆₃ + M₄₇*M₇₃ + M₄₈*M₈₃ + M₉₃*M₄₉)*(M₁₀₂*M₃₁₀ + M₃₁*M₁₂ + M₃₂*M₂₂ + M₃₂*M₃₃ + M₃₅*M₅₂ + M₃₆*M₆₂ + M₃₇*M₇₂ + M₃₈*M₈₂ + M₄₂*M₃₄ + M₉₂*M₃₉) + (M₄₁*M₁₄ + M₄₁₀*M₁₀₄ + M₄₂*M₂₄ + M₄₃*M₃₄ + M₄₅*M₅₄ + M₄₆*M₆₄ + M₄₇*M₇₄ + M₄₈*M₈₄ + M₉₄*M₄₉ + M₄₄^2)*(M₄₁*M₁₂ + M₄₁₀*M₁₀₂ + M₄₂*M₂₂ + M₄₂*M₄₄ + M₄₃*M₃₂ + M₄₅*M₅₂ + M₄₆*M₆₂ + M₄₇*M₇₂ + M₄₈*M₈₂ + M₉₂*M₄₉) + (M₄₁*M₁₅ + M₄₁₀*M₁₀₅ + M₄₂*M₂₅ + M₄₃*M₃₅ + M₄₅*M₄₄ + M₄₅*M₅₅ + M₄₆*M₆₅ + M₄₇*M₇₅ + M₄₈*M₈₅ + M₉₅*M₄₉)*(M₁₀₂*M₅₁₀ + M₃₂*M₅₃ + M₄₂*M₅₄ + M₅₁*M₁₂ + M₅₂*M₂₂ + M₅₅*M₅₂ + M₅₆*M₆₂ + M₅₇*M₇₂ + M₈₂*M₅₈ + M₉₂*M₅₉) + (M₄₁*M₁₇ + M₄₁₀*M₁₀₇ + M₄₂*M₂₇ + M₄₃*M₃₇ + M₄₄*M₄₇ + M₄₅*M₅₇ + M₄₆*M₆₇ + M₄₇*M₇₇ + M₄₈*M₈₇ + M₉₇*M₄₉)*(M₁₂*M₇₁ + M₂₂*M₇₂ + M₃₂*M₇₃ + M₄₂*M₇₄ + M₅₂*M₇₅ + M₇₁₀*M₁₀₂ + M₇₂*M₇₇ + M₇₆*M₆₂ + M₈₂*M₇₈ + M₉₂*M₇₉) + (M₄₁*M₁₈ + M₄₁₀*M₁₀₈ + M₄₂*M₂₈ + M₄₃*M₃₈ + M₄₄*M₄₈ + M₄₅*M₅₈ + M₄₆*M₆₈ + M₄₇*M₇₈ + M₄₈*M₈₈ + M₉₈*M₄₉)*(M₁₀₂*M₈₁₀ + M₃₂*M₈₃ + M₄₂*M₈₄ + M₈₁*M₁₂ + M₈₂*M₂₂ + M₈₂*M₈₈ + M₈₅*M₅₂ + M₈₆*M₆₂ + M₈₇*M₇₂ + M₉₂*M₈₉) + (M₄₁*M₁₉ + M₄₁₀*M₁₀₉ + M₄₂*M₂₉ + M₄₃*M₃₉ + M₄₄*M₄₉ + M₄₅*M₅₉ + M₄₆*M₆₉ + M₄₇*M₇₉ + M₄₈*M₈₉ + M₉₉*M₄₉)*(M₉₁*M₁₂ + M₉₁₀*M₁₀₂ + M₉₂*M₂₂ + M₉₃*M₃₂ + M₉₄*M₄₂ + M₉₅*M₅₂ + M₉₆*M₆₂ + M₉₇*M₇₂ + M₉₈*M₈₂ + M₉₉*M₉₂)) + ((M₁₀₁*M₂₁₀ + M₂₁*M₁₁ + M₂₂*M₂₁ + M₂₆*M₆₁ + M₂₇*M₇₁ + M₃₁*M₂₃ + M₄₁*M₂₄ + M₅₁*M₂₅ + M₈₁*M₂₈ + M₉₁*M₂₉)*(M₁₀₂*M₃₁₀ + M₃₁*M₁₂ + M₃₂*M₂₂ + M₃₂*M₃₃ + M₃₅*M₅₂ + M₃₆*M₆₂ + M₃₇*M₇₂ + M₃₈*M₈₂ + M₄₂*M₃₄ + M₉₂*M₃₉) + (M₁₀₁*M₃₁₀ + M₃₁*M₁₁ + M₃₁*M₃₃ + M₃₂*M₂₁ + M₃₅*M₅₁ + M₃₆*M₆₁ + M₃₇*M₇₁ + M₃₈*M₈₁ + M₄₁*M₃₄ + M₉₁*M₃₉)*(M₁₀₃*M₃₁₀ + M₃₁*M₁₃ + M₃₂*M₂₃ + M₃₅*M₅₃ + M₃₆*M₆₃ + M₃₇*M₇₃ + M₃₈*M₈₃ + M₄₃*M₃₄ + M₉₃*M₃₉ + M₃₃^2) + (M₁₀₁*M₃₁₀ + M₃₁*M₁₁ + M₃₁*M₃₃ + M₃₂*M₂₁ + M₃₅*M₅₁ + M₃₆*M₆₁ + M₃₇*M₇₁ + M₃₈*M₈₁ + M₄₁*M₃₄ + M₉₁*M₃₉)*(M₁₁₀*M₁₀₁ + M₁₆*M₆₁ + M₁₇*M₇₁ + M₂₁*M₁₂ + M₃₁*M₁₃ + M₄₁*M₁₄ + M₅₁*M₁₅ + M₈₁*M₁₈ + M₉₁*M₁₉ + M₁₁^2) + (M₁₀₁*M₅₁₀ + M₃₁*M₅₃ + M₄₁*M₅₄ + M₅₁*M₁₁ + M₅₂*M₂₁ + M₅₅*M₅₁ + M₅₆*M₆₁ + M₅₇*M₇₁ + M₈₁*M₅₈ + M₉₁*M₅₉)*(M₁₀₅*M₃₁₀ + M₃₁*M₁₅ + M₃₂*M₂₅ + M₃₅*M₃₃ + M₃₅*M₅₅ + M₃₆*M₆₅ + M₃₇*M₇₅ + M₃₈*M₈₅ + M₄₅*M₃₄ + M₉₅*M₃₉) + (M₁₀₁*M₈₁₀ + M₃₁*M₈₃ + M₄₁*M₈₄ + M₈₁*M₁₁ + M₈₁*M₈₈ + M₈₂*M₂₁ + M₈₅*M₅₁ + M₈₆*M₆₁ + M₈₇*M₇₁ + M₉₁*M₈₉)*(M₁₀₈*M₃₁₀ + M₃₁*M₁₈ + M₃₂*M₂₈ + M₃₃*M₃₈ + M₃₅*M₅₈ + M₃₆*M₆₈ + M₃₇*M₇₈ + M₃₈*M₈₈ + M₄₈*M₃₄ + M₉₈*M₃₉) + (M₁₀₇*M₃₁₀ + M₃₁*M₁₇ + M₃₂*M₂₇ + M₃₃*M₃₇ + M₃₅*M₅₇ + M₃₆*M₆₇ + M₃₇*M₇₇ + M₃₈*M₈₇ + M₄₇*M₃₄ + M₉₇*M₃₉)*(M₁₁*M₇₁ + M₂₁*M₇₂ + M₃₁*M₇₃ + M₄₁*M₇₄ + M₅₁*M₇₅ + M₇₁*M₇₇ + M₇₁₀*M₁₀₁ + M₇₆*M₆₁ + M₈₁*M₇₈ + M₉₁*M₇₉) + (M₁₀₉*M₃₁₀ + M₃₁*M₁₉ + M₃₂*M₂₉ + M₃₃*M₃₉ + M₃₅*M₅₉ + M₃₆*M₆₉ + M₃₇*M₇₉ + M₃₈*M₈₉ + M₄₉*M₃₄ + M₉₉*M₃₉)*(M₉₁*M₁₁ + M₉₁*M₉₉ + M₉₁₀*M₁₀₁ + M₉₂*M₂₁ + M₉₃*M₃₁ + M₉₄*M₄₁ + M₉₅*M₅₁ + M₉₆*M₆₁ + M₉₇*M₇₁ + M₉₈*M₈₁) + (M₁₀₁₀*M₃₁₀ + M₁₁₀*M₃₁ + M₂₁₀*M₃₂ + M₃₁₀*M₃₃ + M₄₁₀*M₃₄ + M₅₁₀*M₃₅ + M₆₁₀*M₃₆ + M₇₁₀*M₃₇ + M₈₁₀*M₃₈ + M₉₁₀*M₃₉)*(M₁₀₁*M₁₁ + M₁₀₁₀*M₁₀₁ + M₁₀₂*M₂₁ + M₁₀₃*M₃₁ + M₁₀₄*M₄₁ + M₁₀₅*M₅₁ + M₁₀₆*M₆₁ + M₁₀₇*M₇₁ + M₁₀₈*M₈₁ + M₁₀₉*M₉₁) + (M₁₁*M₆₁ + M₂₁*M₆₂ + M₃₁*M₆₃ + M₄₁*M₆₄ + M₅₁*M₆₅ + M₆₁*M₆₆ + M₆₁₀*M₁₀₁ + M₇₁*M₆₇ + M₈₁*M₆₈ + M₉₁*M₆₉)*(M₁₀₆*M₃₁₀ + M₃₁*M₁₆ + M₃₂*M₂₆ + M₃₅*M₅₆ + M₃₆*M₃₃ + M₃₆*M₆₆ + M₃₇*M₇₆ + M₃₈*M₈₆ + M₄₆*M₃₄ + M₉₆*M₃₉) + (M₄₁*M₁₁ + M₄₁*M₄₄ + M₄₁₀*M₁₀₁ + M₄₂*M₂₁ + M₄₃*M₃₁ + M₄₅*M₅₁ + M₄₆*M₆₁ + M₄₇*M₇₁ + M₄₈*M₈₁ + M₉₁*M₄₉)*(M₁₀₄*M₃₁₀ + M₃₁*M₁₄ + M₃₂*M₂₄ + M₃₃*M₃₄ + M₃₅*M₅₄ + M₃₆*M₆₄ + M₃₇*M₇₄ + M₃₈*M₈₄ + M₄₄*M₃₄ + M₉₄*M₃₉))*((M₁₀₁*M₁₃ + M₁₀₁₀*M₁₀₃ + M₁₀₂*M₂₃ + M₁₀₃*M₃₃ + M₁₀₄*M₄₃ + M₁₀₅*M₅₃ + M₁₀₆*M₆₃ + M₁₀₇*M₇₃ + M₁₀₈*M₈₃ + M₁₀₉*M₉₃)*(M₁₀₁₀*M₄₁₀ + M₁₁₀*M₄₁ + M₂₁₀*M₄₂ + M₃₁₀*M₄₃ + M₄₁₀*M₄₄ + M₅₁₀*M₄₅ + M₆₁₀*M₄₆ + M₇₁₀*M₄₇ + M₈₁₀*M₄₈ + M₉₁₀*M₄₉) + (M₁₃*M₆₁ + M₂₃*M₆₂ + M₃₃*M₆₃ + M₄₃*M₆₄ + M₅₃*M₆₅ + M₆₁₀*M₁₀₃ + M₆₃*M₆₆ + M₇₃*M₆₇ + M₈₃*M₆₈ + M₉₃*M₆₉)*(M₄₁*M₁₆ + M₄₁₀*M₁₀₆ + M₄₂*M₂₆ + M₄₃*M₃₆ + M₄₅*M₅₆ + M₄₆*M₄₄ + M₄₆*M₆₆ + M₄₇*M₇₆ + M₄₈*M₈₆ + M₉₆*M₄₉) + (M₄₁*M₁₁ + M₄₁*M₄₄ + M₄₁₀*M₁₀₁ + M₄₂*M₂₁ + M₄₃*M₃₁ + M₄₅*M₅₁ + M₄₆*M₆₁ + M₄₇*M₇₁ + M₄₈*M₈₁ + M₉₁*M₄₉)*(M₁₁*M₁₃ + M₁₁₀*M₁₀₃ + M₁₆*M₆₃ + M₁₇*M₇₃ + M₂₃*M₁₂ + M₃₃*M₁₃ + M₄₃*M₁₄ + M₅₃*M₁₅ + M₈₃*M₁₈ + M₉₃*M₁₉) + (M₄₁*M₁₂ + M₄₁₀*M₁₀₂ + M₄₂*M₂₂ + M₄₂*M₄₄ + M₄₃*M₃₂ + M₄₅*M₅₂ + M₄₆*M₆₂ + M₄₇*M₇₂ + M₄₈*M₈₂ + M₉₂*M₄₉)*(M₁₀₃*M₂₁₀ + M₂₁*M₁₃ + M₂₂*M₂₃ + M₂₆*M₆₃ + M₂₇*M₇₃ + M₃₃*M₂₃ + M₄₃*M₂₄ + M₅₃*M₂₅ + M₈₃*M₂₈ + M₉₃*M₂₉) + (M₄₁*M₁₃ + M₄₁₀*M₁₀₃ + M₄₂*M₂₃ + M₄₃*M₃₃ + M₄₄*M₄₃ + M₄₅*M₅₃ + M₄₆*M₆₃ + M₄₇*M₇₃ + M₄₈*M₈₃ + M₉₃*M₄₉)*(M₁₀₃*M₃₁₀ + M₃₁*M₁₃ + M₃₂*M₂₃ + M₃₅*M₅₃ + M₃₆*M₆₃ + M₃₇*M₇₃ + M₃₈*M₈₃ + M₄₃*M₃₄ + M₉₃*M₃₉ + M₃₃^2) + (M₄₁*M₁₄ + M₄₁₀*M₁₀₄ + M₄₂*M₂₄ + M₄₃*M₃₄ + M₄₅*M₅₄ + M₄₆*M₆₄ + M₄₇*M₇₄ + M₄₈*M₈₄ + M₉₄*M₄₉ + M₄₄^2)*(M₄₁*M₁₃ + M₄₁₀*M₁₀₃ + M₄₂*M₂₃ + M₄₃*M₃₃ + M₄₄*M₄₃ + M₄₅*M₅₃ + M₄₆*M₆₃ + M₄₇*M₇₃ + M₄₈*M₈₃ + M₉₃*M₄₉) + (M₄₁*M₁₅ + M₄₁₀*M₁₀₅ + M₄₂*M₂₅ + M₄₃*M₃₅ + M₄₅*M₄₄ + M₄₅*M₅₅ + M₄₆*M₆₅ + M₄₇*M₇₅ + M₄₈*M₈₅ + M₉₅*M₄₉)*(M₁₀₃*M₅₁₀ + M₃₃*M₅₃ + M₄₃*M₅₄ + M₅₁*M₁₃ + M₅₂*M₂₃ + M₅₅*M₅₃ + M₅₆*M₆₃ + M₅₇*M₇₃ + M₈₃*M₅₈ + M₉₃*M₅₉) + (M₄₁*M₁₇ + M₄₁₀*M₁₀₇ + M₄₂*M₂₇ + M₄₃*M₃₇ + M₄₄*M₄₇ + M₄₅*M₅₇ + M₄₆*M₆₇ + M₄₇*M₇₇ + M₄₈*M₈₇ + M₉₇*M₄₉)*(M₁₃*M₇₁ + M₂₃*M₇₂ + M₃₃*M₇₃ + M₄₃*M₇₄ + M₅₃*M₇₅ + M₇₁₀*M₁₀₃ + M₇₃*M₇₇ + M₇₆*M₆₃ + M₈₃*M₇₈ + M₉₃*M₇₉) + (M₄₁*M₁₈ + M₄₁₀*M₁₀₈ + M₄₂*M₂₈ + M₄₃*M₃₈ + M₄₄*M₄₈ + M₄₅*M₅₈ + M₄₆*M₆₈ + M₄₇*M₇₈ + M₄₈*M₈₈ + M₉₈*M₄₉)*(M₁₀₃*M₈₁₀ + M₃₃*M₈₃ + M₄₃*M₈₄ + M₈₁*M₁₃ + M₈₂*M₂₃ + M₈₃*M₈₈ + M₈₅*M₅₃ + M₈₆*M₆₃ + M₈₇*M₇₃ + M₉₃*M₈₉) + (M₄₁*M₁₉ + M₄₁₀*M₁₀₉ + M₄₂*M₂₉ + M₄₃*M₃₉ + M₄₄*M₄₉ + M₄₅*M₅₉ + M₄₆*M₆₉ + M₄₇*M₇₉ + M₄₈*M₈₉ + M₉₉*M₄₉)*(M₉₁*M₁₃ + M₉₁₀*M₁₀₃ + M₉₂*M₂₃ + M₉₃*M₃₃ + M₉₄*M₄₃ + M₉₅*M₅₃ + M₉₆*M₆₃ + M₉₇*M₇₃ + M₉₈*M₈₃ + M₉₉*M₉₃)) + ((M₁₀₁*M₂₁₀ + M₂₁*M₁₁ + M₂₂*M₂₁ + M₂₆*M₆₁ + M₂₇*M₇₁ + M₃₁*M₂₃ + M₄₁*M₂₄ + M₅₁*M₂₅ + M₈₁*M₂₈ + M₉₁*M₂₉)*(M₁₀₂*M₅₁₀ + M₃₂*M₅₃ + M₄₂*M₅₄ + M₅₁*M₁₂ + M₅₂*M₂₂ + M₅₅*M₅₂ + M₅₆*M₆₂ + M₅₇*M₇₂ + M₈₂*M₅₈ + M₉₂*M₅₉) + (M₁₀₁*M₅₁₀ + M₃₁*M₅₃ + M₄₁*M₅₄ + M₅₁*M₁₁ + M₅₂*M₂₁ + M₅₅*M₅₁ + M₅₆*M₆₁ + M₅₇*M₇₁ + M₈₁*M₅₈ + M₉₁*M₅₉)*(M₁₀₅*M₅₁₀ + M₃₅*M₅₃ + M₄₅*M₅₄ + M₅₁*M₁₅ + M₅₂*M₂₅ + M₅₆*M₆₅ + M₅₇*M₇₅ + M₈₅*M₅₈ + M₉₅*M₅₉ + M₅₅^2) + (M₁₀₁*M₅₁₀ + M₃₁*M₅₃ + M₄₁*M₅₄ + M₅₁*M₁₁ + M₅₂*M₂₁ + M₅₅*M₅₁ + M₅₆*M₆₁ + M₅₇*M₇₁ + M₈₁*M₅₈ + M₉₁*M₅₉)*(M₁₁₀*M₁₀₁ + M₁₆*M₆₁ + M₁₇*M₇₁ + M₂₁*M₁₂ + M₃₁*M₁₃ + M₄₁*M₁₄ + M₅₁*M₁₅ + M₈₁*M₁₈ + M₉₁*M₁₉ + M₁₁^2) + (M₁₀₃*M₅₁₀ + M₃₃*M₅₃ + M₄₃*M₅₄ + M₅₁*M₁₃ + M₅₂*M₂₃ + M₅₅*M₅₃ + M₅₆*M₆₃ + M₅₇*M₇₃ + M₈₃*M₅₈ + M₉₃*M₅₉)*(M₁₀₁*M₃₁₀ + M₃₁*M₁₁ + M₃₁*M₃₃ + M₃₂*M₂₁ + M₃₅*M₅₁ + M₃₆*M₆₁ + M₃₇*M₇₁ + M₃₈*M₈₁ + M₄₁*M₃₄ + M₉₁*M₃₉) + (M₁₀₇*M₅₁₀ + M₃₇*M₅₃ + M₄₇*M₅₄ + M₅₁*M₁₇ + M₅₂*M₂₇ + M₅₅*M₅₇ + M₅₆*M₆₇ + M₅₇*M₇₇ + M₈₇*M₅₈ + M₉₇*M₅₉)*(M₁₁*M₇₁ + M₂₁*M₇₂ + M₃₁*M₇₃ + M₄₁*M₇₄ + M₅₁*M₇₅ + M₇₁*M₇₇ + M₇₁₀*M₁₀₁ + M₇₆*M₆₁ + M₈₁*M₇₈ + M₉₁*M₇₉) + (M₁₀₈*M₅₁₀ + M₃₈*M₅₃ + M₄₈*M₅₄ + M₅₁*M₁₈ + M₅₂*M₂₈ + M₅₅*M₅₈ + M₅₆*M₆₈ + M₅₇*M₇₈ + M₈₈*M₅₈ + M₉₈*M₅₉)*(M₁₀₁*M₈₁₀ + M₃₁*M₈₃ + M₄₁*M₈₄ + M₈₁*M₁₁ + M₈₁*M₈₈ + M₈₂*M₂₁ + M₈₅*M₅₁ + M₈₆*M₆₁ + M₈₇*M₇₁ + M₉₁*M₈₉) + (M₁₀₉*M₅₁₀ + M₃₉*M₅₃ + M₄₉*M₅₄ + M₅₁*M₁₉ + M₅₂*M₂₉ + M₅₅*M₅₉ + M₅₆*M₆₉ + M₅₇*M₇₉ + M₈₉*M₅₈ + M₉₉*M₅₉)*(M₉₁*M₁₁ + M₉₁*M₉₉ + M₉₁₀*M₁₀₁ + M₉₂*M₂₁ + M₉₃*M₃₁ + M₉₄*M₄₁ + M₉₅*M₅₁ + M₉₆*M₆₁ + M₉₇*M₇₁ + M₉₈*M₈₁) + (M₁₀₁₀*M₅₁₀ + M₁₁₀*M₅₁ + M₂₁₀*M₅₂ + M₃₁₀*M₅₃ + M₄₁₀*M₅₄ + M₅₁₀*M₅₅ + M₆₁₀*M₅₆ + M₇₁₀*M₅₇ + M₈₁₀*M₅₈ + M₉₁₀*M₅₉)*(M₁₀₁*M₁₁ + M₁₀₁₀*M₁₀₁ + M₁₀₂*M₂₁ + M₁₀₃*M₃₁ + M₁₀₄*M₄₁ + M₁₀₅*M₅₁ + M₁₀₆*M₆₁ + M₁₀₇*M₇₁ + M₁₀₈*M₈₁ + M₁₀₉*M₉₁) + (M₁₁*M₆₁ + M₂₁*M₆₂ + M₃₁*M₆₃ + M₄₁*M₆₄ + M₅₁*M₆₅ + M₆₁*M₆₆ + M₆₁₀*M₁₀₁ + M₇₁*M₆₇ + M₈₁*M₆₈ + M₉₁*M₆₉)*(M₁₀₆*M₅₁₀ + M₃₆*M₅₃ + M₄₆*M₅₄ + M₅₁*M₁₆ + M₅₂*M₂₆ + M₅₆*M₅₅ + M₅₆*M₆₆ + M₅₇*M₇₆ + M₈₆*M₅₈ + M₉₆*M₅₉) + (M₄₁*M₁₁ + M₄₁*M₄₄ + M₄₁₀*M₁₀₁ + M₄₂*M₂₁ + M₄₃*M₃₁ + M₄₅*M₅₁ + M₄₆*M₆₁ + M₄₇*M₇₁ + M₄₈*M₈₁ + M₉₁*M₄₉)*(M₁₀₄*M₅₁₀ + M₃₄*M₅₃ + M₄₄*M₅₄ + M₅₁*M₁₄ + M₅₂*M₂₄ + M₅₅*M₅₄ + M₅₆*M₆₄ + M₅₇*M₇₄ + M₈₄*M₅₈ + M₉₄*M₅₉))*((M₁₀₁*M₁₅ + M₁₀₁₀*M₁₀₅ + M₁₀₂*M₂₅ + M₁₀₃*M₃₅ + M₁₀₄*M₄₅ + M₁₀₅*M₅₅ + M₁₀₆*M₆₅ + M₁₀₇*M₇₅ + M₁₀₈*M₈₅ + M₁₀₉*M₉₅)*(M₁₀₁₀*M₄₁₀ + M₁₁₀*M₄₁ + M₂₁₀*M₄₂ + M₃₁₀*M₄₃ + M₄₁₀*M₄₄ + M₅₁₀*M₄₅ + M₆₁₀*M₄₆ + M₇₁₀*M₄₇ + M₈₁₀*M₄₈ + M₉₁₀*M₄₉) + (M₁₅*M₆₁ + M₂₅*M₆₂ + M₃₅*M₆₃ + M₄₅*M₆₄ + M₅₅*M₆₅ + M₆₁₀*M₁₀₅ + M₆₅*M₆₆ + M₇₅*M₆₇ + M₈₅*M₆₈ + M₉₅*M₆₉)*(M₄₁*M₁₆ + M₄₁₀*M₁₀₆ + M₄₂*M₂₆ + M₄₃*M₃₆ + M₄₅*M₅₆ + M₄₆*M₄₄ + M₄₆*M₆₆ + M₄₇*M₇₆ + M₄₈*M₈₆ + M₉₆*M₄₉) + (M₄₁*M₁₁ + M₄₁*M₄₄ + M₄₁₀*M₁₀₁ + M₄₂*M₂₁ + M₄₃*M₃₁ + M₄₅*M₅₁ + M₄₆*M₆₁ + M₄₇*M₇₁ + M₄₈*M₈₁ + M₉₁*M₄₉)*(M₁₁*M₁₅ + M₁₁₀*M₁₀₅ + M₁₆*M₆₅ + M₁₇*M₇₅ + M₂₅*M₁₂ + M₃₅*M₁₃ + M₄₅*M₁₄ + M₅₅*M₁₅ + M₈₅*M₁₈ + M₉₅*M₁₉) + (M₄₁*M₁₂ + M₄₁₀*M₁₀₂ + M₄₂*M₂₂ + M₄₂*M₄₄ + M₄₃*M₃₂ + M₄₅*M₅₂ + M₄₆*M₆₂ + M₄₇*M₇₂ + M₄₈*M₈₂ + M₉₂*M₄₉)*(M₁₀₅*M₂₁₀ + M₂₁*M₁₅ + M₂₂*M₂₅ + M₂₆*M₆₅ + M₂₇*M₇₅ + M₃₅*M₂₃ + M₄₅*M₂₄ + M₅₅*M₂₅ + M₈₅*M₂₈ + M₉₅*M₂₉) + (M₄₁*M₁₃ + M₄₁₀*M₁₀₃ + M₄₂*M₂₃ + M₄₃*M₃₃ + M₄₄*M₄₃ + M₄₅*M₅₃ + M₄₆*M₆₃ + M₄₇*M₇₃ + M₄₈*M₈₃ + M₉₃*M₄₉)*(M₁₀₅*M₃₁₀ + M₃₁*M₁₅ + M₃₂*M₂₅ + M₃₅*M₃₃ + M₃₅*M₅₅ + M₃₆*M₆₅ + M₃₇*M₇₅ + M₃₈*M₈₅ + M₄₅*M₃₄ + M₉₅*M₃₉) + (M₄₁*M₁₄ + M₄₁₀*M₁₀₄ + M₄₂*M₂₄ + M₄₃*M₃₄ + M₄₅*M₅₄ + M₄₆*M₆₄ + M₄₇*M₇₄ + M₄₈*M₈₄ + M₉₄*M₄₉ + M₄₄^2)*(M₄₁*M₁₅ + M₄₁₀*M₁₀₅ + M₄₂*M₂₅ + M₄₃*M₃₅ + M₄₅*M₄₄ + M₄₅*M₅₅ + M₄₆*M₆₅ + M₄₇*M₇₅ + M₄₈*M₈₅ + M₉₅*M₄₉) + (M₄₁*M₁₅ + M₄₁₀*M₁₀₅ + M₄₂*M₂₅ + M₄₃*M₃₅ + M₄₅*M₄₄ + M₄₅*M₅₅ + M₄₆*M₆₅ + M₄₇*M₇₅ + M₄₈*M₈₅ + M₉₅*M₄₉)*(M₁₀₅*M₅₁₀ + M₃₅*M₅₃ + M₄₅*M₅₄ + M₅₁*M₁₅ + M₅₂*M₂₅ + M₅₆*M₆₅ + M₅₇*M₇₅ + M₈₅*M₅₈ + M₉₅*M₅₉ + M₅₅^2) + (M₄₁*M₁₇ + M₄₁₀*M₁₀₇ + M₄₂*M₂₇ + M₄₃*M₃₇ + M₄₄*M₄₇ + M₄₅*M₅₇ + M₄₆*M₆₇ + M₄₇*M₇₇ + M₄₈*M₈₇ + M₉₇*M₄₉)*(M₁₅*M₇₁ + M₂₅*M₇₂ + M₃₅*M₇₃ + M₄₅*M₇₄ + M₅₅*M₇₅ + M₇₁₀*M₁₀₅ + M₇₆*M₆₅ + M₇₇*M₇₅ + M₈₅*M₇₈ + M₉₅*M₇₉) + (M₄₁*M₁₈ + M₄₁₀*M₁₀₈ + M₄₂*M₂₈ + M₄₃*M₃₈ + M₄₄*M₄₈ + M₄₅*M₅₈ + M₄₆*M₆₈ + M₄₇*M₇₈ + M₄₈*M₈₈ + M₉₈*M₄₉)*(M₁₀₅*M₈₁₀ + M₃₅*M₈₃ + M₄₅*M₈₄ + M₈₁*M₁₅ + M₈₂*M₂₅ + M₈₅*M₅₅ + M₈₆*M₆₅ + M₈₇*M₇₅ + M₈₈*M₈₅ + M₉₅*M₈₉) + (M₄₁*M₁₉ + M₄₁₀*M₁₀₉ + M₄₂*M₂₉ + M₄₃*M₃₉ + M₄₄*M₄₉ + M₄₅*M₅₉ + M₄₆*M₆₉ + M₄₇*M₇₉ + M₄₈*M₈₉ + M₉₉*M₄₉)*(M₉₁*M₁₅ + M₉₁₀*M₁₀₅ + M₉₂*M₂₅ + M₉₃*M₃₅ + M₉₄*M₄₅ + M₉₅*M₅₅ + M₉₆*M₆₅ + M₉₇*M₇₅ + M₉₈*M₈₅ + M₉₉*M₉₅)) + ((M₁₀₁*M₂₁₀ + M₂₁*M₁₁ + M₂₂*M₂₁ + M₂₆*M₆₁ + M₂₇*M₇₁ + M₃₁*M₂₃ + M₄₁*M₂₄ + M₅₁*M₂₅ + M₈₁*M₂₈ + M₉₁*M₂₉)*(M₁₀₁*M₁₂ + M₁₀₁₀*M₁₀₂ + M₁₀₂*M₂₂ + M₁₀₃*M₃₂ + M₁₀₄*M₄₂ + M₁₀₅*M₅₂ + M₁₀₆*M₆₂ + M₁₀₇*M₇₂ + M₁₀₈*M₈₂ + M₁₀₉*M₉₂) + (M₁₀₁*M₃₁₀ + M₃₁*M₁₁ + M₃₁*M₃₃ + M₃₂*M₂₁ + M₃₅*M₅₁ + M₃₆*M₆₁ + M₃₇*M₇₁ + M₃₈*M₈₁ + M₄₁*M₃₄ + M₉₁*M₃₉)*(M₁₀₁*M₁₃ + M₁₀₁₀*M₁₀₃ + M₁₀₂*M₂₃ + M₁₀₃*M₃₃ + M₁₀₄*M₄₃ + M₁₀₅*M₅₃ + M₁₀₆*M₆₃ + M₁₀₇*M₇₃ + M₁₀₈*M₈₃ + M₁₀₉*M₉₃) + (M₁₀₁*M₅₁₀ + M₃₁*M₅₃ + M₄₁*M₅₄ + M₅₁*M₁₁ + M₅₂*M₂₁ + M₅₅*M₅₁ + M₅₆*M₆₁ + M₅₇*M₇₁ + M₈₁*M₅₈ + M₉₁*M₅₉)*(M₁₀₁*M₁₅ + M₁₀₁₀*M₁₀₅ + M₁₀₂*M₂₅ + M₁₀₃*M₃₅ + M₁₀₄*M₄₅ + M₁₀₅*M₅₅ + M₁₀₆*M₆₅ + M₁₀₇*M₇₅ + M₁₀₈*M₈₅ + M₁₀₉*M₉₅) + (M₁₀₁*M₈₁₀ + M₃₁*M₈₃ + M₄₁*M₈₄ + M₈₁*M₁₁ + M₈₁*M₈₈ + M₈₂*M₂₁ + M₈₅*M₅₁ + M₈₆*M₆₁ + M₈₇*M₇₁ + M₉₁*M₈₉)*(M₁₀₁*M₁₈ + M₁₀₁₀*M₁₀₈ + M₁₀₂*M₂₈ + M₁₀₃*M₃₈ + M₁₀₄*M₄₈ + M₁₀₅*M₅₈ + M₁₀₆*M₆₈ + M₁₀₇*M₇₈ + M₁₀₈*M₈₈ + M₁₀₉*M₉₈) + (M₁₁₀*M₁₀₁ + M₁₆*M₆₁ + M₁₇*M₇₁ + M₂₁*M₁₂ + M₃₁*M₁₃ + M₄₁*M₁₄ + M₅₁*M₁₅ + M₈₁*M₁₈ + M₉₁*M₁₉ + M₁₁^2)*(M₁₀₁*M₁₁ + M₁₀₁₀*M₁₀₁ + M₁₀₂*M₂₁ + M₁₀₃*M₃₁ + M₁₀₄*M₄₁ + M₁₀₅*M₅₁ + M₁₀₆*M₆₁ + M₁₀₇*M₇₁ + M₁₀₈*M₈₁ + M₁₀₉*M₉₁) + (M₁₁*M₆₁ + M₂₁*M₆₂ + M₃₁*M₆₃ + M₄₁*M₆₄ + M₅₁*M₆₅ + M₆₁*M₆₆ + M₆₁₀*M₁₀₁ + M₇₁*M₆₇ + M₈₁*M₆₈ + M₉₁*M₆₉)*(M₁₀₁*M₁₆ + M₁₀₁₀*M₁₀₆ + M₁₀₂*M₂₆ + M₁₀₃*M₃₆ + M₁₀₄*M₄₆ + M₁₀₅*M₅₆ + M₁₀₆*M₆₆ + M₁₀₇*M₇₆ + M₁₀₈*M₈₆ + M₁₀₉*M₉₆) + (M₁₀₂*M₂₁₀ + M₁₀₃*M₃₁₀ + M₁₀₅*M₅₁₀ + M₁₀₈*M₈₁₀ + M₁₁₀*M₁₀₁ + M₄₁₀*M₁₀₄ + M₆₁₀*M₁₀₆ + M₇₁₀*M₁₀₇ + M₉₁₀*M₁₀₉ + M₁₀₁₀^2)*(M₁₀₁*M₁₁ + M₁₀₁₀*M₁₀₁ + M₁₀₂*M₂₁ + M₁₀₃*M₃₁ + M₁₀₄*M₄₁ + M₁₀₅*M₅₁ + M₁₀₆*M₆₁ + M₁₀₇*M₇₁ + M₁₀₈*M₈₁ + M₁₀₉*M₉₁) + (M₄₁*M₁₁ + M₄₁*M₄₄ + M₄₁₀*M₁₀₁ + M₄₂*M₂₁ + M₄₃*M₃₁ + M₄₅*M₅₁ + M₄₆*M₆₁ + M₄₇*M₇₁ + M₄₈*M₈₁ + M₉₁*M₄₉)*(M₁₀₁*M₁₄ + M₁₀₁₀*M₁₀₄ + M₁₀₂*M₂₄ + M₁₀₃*M₃₄ + M₁₀₄*M₄₄ + M₁₀₅*M₅₄ + M₁₀₆*M₆₄ + M₁₀₇*M₇₄ + M₁₀₈*M₈₄ + M₁₀₉*M₉₄) + (M₁₁*M₇₁ + M₂₁*M₇₂ + M₃₁*M₇₃ + M₄₁*M₇₄ + M₅₁*M₇₅ + M₇₁*M₇₇ + M₇₁₀*M₁₀₁ + M₇₆*M₆₁ + M₈₁*M₇₈ + M₉₁*M₇₉)*(M₁₀₁*M₁₇ + M₁₀₁₀*M₁₀₇ + M₁₀₂*M₂₇ + M₁₀₃*M₃₇ + M₁₀₄*M₄₇ + M₁₀₅*M₅₇ + M₁₀₆*M₆₇ + M₁₀₇*M₇₇ + M₁₀₈*M₈₇ + M₁₀₉*M₉₇) + (M₉₁*M₁₁ + M₉₁*M₉₉ + M₉₁₀*M₁₀₁ + M₉₂*M₂₁ + M₉₃*M₃₁ + M₉₄*M₄₁ + M₉₅*M₅₁ + M₉₆*M₆₁ + M₉₇*M₇₁ + M₉₈*M₈₁)*(M₁₀₁*M₁₉ + M₁₀₁₀*M₁₀₉ + M₁₀₂*M₂₉ + M₁₀₃*M₃₉ + M₁₀₄*M₄₉ + M₁₀₅*M₅₉ + M₁₀₆*M₆₉ + M₁₀₇*M₇₉ + M₁₀₈*M₈₉ + M₁₀₉*M₉₉))*((M₁₀₂*M₂₁₀ + M₁₀₃*M₃₁₀ + M₁₀₅*M₅₁₀ + M₁₀₈*M₈₁₀ + M₁₁₀*M₁₀₁ + M₄₁₀*M₁₀₄ + M₆₁₀*M₁₀₆ + M₇₁₀*M₁₀₇ + M₉₁₀*M₁₀₉ + M₁₀₁₀^2)*(M₁₀₁₀*M₄₁₀ + M₁₁₀*M₄₁ + M₂₁₀*M₄₂ + M₃₁₀*M₄₃ + M₄₁₀*M₄₄ + M₅₁₀*M₄₅ + M₆₁₀*M₄₆ + M₇₁₀*M₄₇ + M₈₁₀*M₄₈ + M₉₁₀*M₄₉) + (M₄₁*M₁₁ + M₄₁*M₄₄ + M₄₁₀*M₁₀₁ + M₄₂*M₂₁ + M₄₃*M₃₁ + M₄₅*M₅₁ + M₄₆*M₆₁ + M₄₇*M₇₁ + M₄₈*M₈₁ + M₉₁*M₄₉)*(M₁₀₁₀*M₁₁₀ + M₁₁₀*M₁₁ + M₂₁₀*M₁₂ + M₃₁₀*M₁₃ + M₄₁₀*M₁₄ + M₅₁₀*M₁₅ + M₆₁₀*M₁₆ + M₇₁₀*M₁₇ + M₈₁₀*M₁₈ + M₉₁₀*M₁₉) + (M₄₁*M₁₂ + M₄₁₀*M₁₀₂ + M₄₂*M₂₂ + M₄₂*M₄₄ + M₄₃*M₃₂ + M₄₅*M₅₂ + M₄₆*M₆₂ + M₄₇*M₇₂ + M₄₈*M₈₂ + M₉₂*M₄₉)*(M₁₀₁₀*M₂₁₀ + M₁₁₀*M₂₁ + M₂₁₀*M₂₂ + M₃₁₀*M₂₃ + M₄₁₀*M₂₄ + M₅₁₀*M₂₅ + M₆₁₀*M₂₆ + M₇₁₀*M₂₇ + M₈₁₀*M₂₈ + M₉₁₀*M₂₉) + (M₄₁*M₁₃ + M₄₁₀*M₁₀₃ + M₄₂*M₂₃ + M₄₃*M₃₃ + M₄₄*M₄₃ + M₄₅*M₅₃ + M₄₆*M₆₃ + M₄₇*M₇₃ + M₄₈*M₈₃ + M₉₃*M₄₉)*(M₁₀₁₀*M₃₁₀ + M₁₁₀*M₃₁ + M₂₁₀*M₃₂ + M₃₁₀*M₃₃ + M₄₁₀*M₃₄ + M₅₁₀*M₃₅ + M₆₁₀*M₃₆ + M₇₁₀*M₃₇ + M₈₁₀*M₃₈ + M₉₁₀*M₃₉) + (M₄₁*M₁₄ + M₄₁₀*M₁₀₄ + M₄₂*M₂₄ + M₄₃*M₃₄ + M₄₅*M₅₄ + M₄₆*M₆₄ + M₄₇*M₇₄ + M₄₈*M₈₄ + M₉₄*M₄₉ + M₄₄^2)*(M₁₀₁₀*M₄₁₀ + M₁₁₀*M₄₁ + M₂₁₀*M₄₂ + M₃₁₀*M₄₃ + M₄₁₀*M₄₄ + M₅₁₀*M₄₅ + M₆₁₀*M₄₆ + M₇₁₀*M₄₇ + M₈₁₀*M₄₈ + M₉₁₀*M₄₉) + (M₄₁*M₁₅ + M₄₁₀*M₁₀₅ + M₄₂*M₂₅ + M₄₃*M₃₅ + M₄₅*M₄₄ + M₄₅*M₅₅ + M₄₆*M₆₅ + M₄₇*M₇₅ + M₄₈*M₈₅ + M₉₅*M₄₉)*(M₁₀₁₀*M₅₁₀ + M₁₁₀*M₅₁ + M₂₁₀*M₅₂ + M₃₁₀*M₅₃ + M₄₁₀*M₅₄ + M₅₁₀*M₅₅ + M₆₁₀*M₅₆ + M₇₁₀*M₅₇ + M₈₁₀*M₅₈ + M₉₁₀*M₅₉) + (M₄₁*M₁₆ + M₄₁₀*M₁₀₆ + M₄₂*M₂₆ + M₄₃*M₃₆ + M₄₅*M₅₆ + M₄₆*M₄₄ + M₄₆*M₆₆ + M₄₇*M₇₆ + M₄₈*M₈₆ + M₉₆*M₄₉)*(M₁₀₁₀*M₆₁₀ + M₁₁₀*M₆₁ + M₂₁₀*M₆₂ + M₃₁₀*M₆₃ + M₄₁₀*M₆₄ + M₅₁₀*M₆₅ + M₆₁₀*M₆₆ + M₇₁₀*M₆₇ + M₈₁₀*M₆₈ + M₉₁₀*M₆₉) + (M₄₁*M₁₇ + M₄₁₀*M₁₀₇ + M₄₂*M₂₇ + M₄₃*M₃₇ + M₄₄*M₄₇ + M₄₅*M₅₇ + M₄₆*M₆₇ + M₄₇*M₇₇ + M₄₈*M₈₇ + M₉₇*M₄₉)*(M₁₀₁₀*M₇₁₀ + M₁₁₀*M₇₁ + M₂₁₀*M₇₂ + M₃₁₀*M₇₃ + M₄₁₀*M₇₄ + M₅₁₀*M₇₅ + M₆₁₀*M₇₆ + M₇₁₀*M₇₇ + M₈₁₀*M₇₈ + M₉₁₀*M₇₉) + (M₄₁*M₁₈ + M₄₁₀*M₁₀₈ + M₄₂*M₂₈ + M₄₃*M₃₈ + M₄₄*M₄₈ + M₄₅*M₅₈ + M₄₆*M₆₈ + M₄₇*M₇₈ + M₄₈*M₈₈ + M₉₈*M₄₉)*(M₁₀₁₀*M₈₁₀ + M₁₁₀*M₈₁ + M₂₁₀*M₈₂ + M₃₁₀*M₈₃ + M₄₁₀*M₈₄ + M₅₁₀*M₈₅ + M₆₁₀*M₈₆ + M₇₁₀*M₈₇ + M₈₁₀*M₈₈ + M₉₁₀*M₈₉) + (M₄₁*M₁₉ + M₄₁₀*M₁₀₉ + M₄₂*M₂₉ + M₄₃*M₃₉ + M₄₄*M₄₉ + M₄₅*M₅₉ + M₄₆*M₆₉ + M₄₇*M₇₉ + M₄₈*M₈₉ + M₉₉*M₄₉)*(M₁₀₁₀*M₉₁₀ + M₁₁₀*M₉₁ + M₂₁₀*M₉₂ + M₃₁₀*M₉₃ + M₄₁₀*M₉₄ + M₅₁₀*M₉₅ + M₆₁₀*M₉₆ + M₇₁₀*M₉₇ + M₈₁₀*M₉₈ + M₉₁₀*M₉₉)) + ((M₁₀₁*M₁₉ + M₁₀₁₀*M₁₀₉ + M₁₀₂*M₂₉ + M₁₀₃*M₃₉ + M₁₀₄*M₄₉ + M₁₀₅*M₅₉ + M₁₀₆*M₆₉ + M₁₀₇*M₇₉ + M₁₀₈*M₈₉ + M₁₀₉*M₉₉)*(M₁₀₁₀*M₄₁₀ + M₁₁₀*M₄₁ + M₂₁₀*M₄₂ + M₃₁₀*M₄₃ + M₄₁₀*M₄₄ + M₅₁₀*M₄₅ + M₆₁₀*M₄₆ + M₇₁₀*M₄₇ + M₈₁₀*M₄₈ + M₉₁₀*M₄₉) + (M₁₉*M₆₁ + M₂₉*M₆₂ + M₃₉*M₆₃ + M₄₉*M₆₄ + M₅₉*M₆₅ + M₆₁₀*M₁₀₉ + M₆₉*M₆₆ + M₇₉*M₆₇ + M₈₉*M₆₈ + M₉₉*M₆₉)*(M₄₁*M₁₆ + M₄₁₀*M₁₀₆ + M₄₂*M₂₆ + M₄₃*M₃₆ + M₄₅*M₅₆ + M₄₆*M₄₄ + M₄₆*M₆₆ + M₄₇*M₇₆ + M₄₈*M₈₆ + M₉₆*M₄₉) + (M₄₁*M₁₁ + M₄₁*M₄₄ + M₄₁₀*M₁₀₁ + M₄₂*M₂₁ + M₄₃*M₃₁ + M₄₅*M₅₁ + M₄₆*M₆₁ + M₄₇*M₇₁ + M₄₈*M₈₁ + M₉₁*M₄₉)*(M₁₁*M₁₉ + M₁₁₀*M₁₀₉ + M₁₆*M₆₉ + M₁₇*M₇₉ + M₂₉*M₁₂ + M₃₉*M₁₃ + M₄₉*M₁₄ + M₅₉*M₁₅ + M₈₉*M₁₈ + M₉₉*M₁₉) + (M₄₁*M₁₂ + M₄₁₀*M₁₀₂ + M₄₂*M₂₂ + M₄₂*M₄₄ + M₄₃*M₃₂ + M₄₅*M₅₂ + M₄₆*M₆₂ + M₄₇*M₇₂ + M₄₈*M₈₂ + M₉₂*M₄₉)*(M₁₀₉*M₂₁₀ + M₂₁*M₁₉ + M₂₂*M₂₉ + M₂₆*M₆₉ + M₂₇*M₇₉ + M₃₉*M₂₃ + M₄₉*M₂₄ + M₅₉*M₂₅ + M₈₉*M₂₈ + M₉₉*M₂₉) + (M₄₁*M₁₃ + M₄₁₀*M₁₀₃ + M₄₂*M₂₃ + M₄₃*M₃₃ + M₄₄*M₄₃ + M₄₅*M₅₃ + M₄₆*M₆₃ + M₄₇*M₇₃ + M₄₈*M₈₃ + M₉₃*M₄₉)*(M₁₀₉*M₃₁₀ + M₃₁*M₁₉ + M₃₂*M₂₉ + M₃₃*M₃₉ + M₃₅*M₅₉ + M₃₆*M₆₉ + M₃₇*M₇₉ + M₃₈*M₈₉ + M₄₉*M₃₄ + M₉₉*M₃₉) + (M₄₁*M₁₄ + M₄₁₀*M₁₀₄ + M₄₂*M₂₄ + M₄₃*M₃₄ + M₄₅*M₅₄ + M₄₆*M₆₄ + M₄₇*M₇₄ + M₄₈*M₈₄ + M₉₄*M₄₉ + M₄₄^2)*(M₄₁*M₁₉ + M₄₁₀*M₁₀₉ + M₄₂*M₂₉ + M₄₃*M₃₉ + M₄₄*M₄₉ + M₄₅*M₅₉ + M₄₆*M₆₉ + M₄₇*M₇₉ + M₄₈*M₈₉ + M₉₉*M₄₉) + (M₄₁*M₁₅ + M₄₁₀*M₁₀₅ + M₄₂*M₂₅ + M₄₃*M₃₅ + M₄₅*M₄₄ + M₄₅*M₅₅ + M₄₆*M₆₅ + M₄₇*M₇₅ + M₄₈*M₈₅ + M₉₅*M₄₉)*(M₁₀₉*M₅₁₀ + M₃₉*M₅₃ + M₄₉*M₅₄ + M₅₁*M₁₉ + M₅₂*M₂₉ + M₅₅*M₅₉ + M₅₆*M₆₉ + M₅₇*M₇₉ + M₈₉*M₅₈ + M₉₉*M₅₉) + (M₄₁*M₁₇ + M₄₁₀*M₁₀₇ + M₄₂*M₂₇ + M₄₃*M₃₇ + M₄₄*M₄₇ + M₄₅*M₅₇ + M₄₆*M₆₇ + M₄₇*M₇₇ + M₄₈*M₈₇ + M₉₇*M₄₉)*(M₁₉*M₇₁ + M₂₉*M₇₂ + M₃₉*M₇₃ + M₄₉*M₇₄ + M₅₉*M₇₅ + M₇₁₀*M₁₀₉ + M₇₆*M₆₉ + M₇₇*M₇₉ + M₈₉*M₇₈ + M₉₉*M₇₉) + (M₄₁*M₁₈ + M₄₁₀*M₁₀₈ + M₄₂*M₂₈ + M₄₃*M₃₈ + M₄₄*M₄₈ + M₄₅*M₅₈ + M₄₆*M₆₈ + M₄₇*M₇₈ + M₄₈*M₈₈ + M₉₈*M₄₉)*(M₁₀₉*M₈₁₀ + M₃₉*M₈₃ + M₄₉*M₈₄ + M₈₁*M₁₉ + M₈₂*M₂₉ + M₈₅*M₅₉ + M₈₆*M₆₉ + M₈₇*M₇₉ + M₈₉*M₈₈ + M₉₉*M₈₉) + (M₄₁*M₁₉ + M₄₁₀*M₁₀₉ + M₄₂*M₂₉ + M₄₃*M₃₉ + M₄₄*M₄₉ + M₄₅*M₅₉ + M₄₆*M₆₉ + M₄₇*M₇₉ + M₄₈*M₈₉ + M₉₉*M₄₉)*(M₉₁*M₁₉ + M₉₁₀*M₁₀₉ + M₉₂*M₂₉ + M₉₃*M₃₉ + M₉₄*M₄₉ + M₉₅*M₅₉ + M₉₆*M₆₉ + M₉₇*M₇₉ + M₉₈*M₈₉ + M₉₉^2))*((M₁₀₁*M₂₁₀ + M₂₁*M₁₁ + M₂₂*M₂₁ + M₂₆*M₆₁ + M₂₇*M₇₁ + M₃₁*M₂₃ + M₄₁*M₂₄ + M₅₁*M₂₅ + M₈₁*M₂₈ + M₉₁*M₂₉)*(M₉₁*M₁₂ + M₉₁₀*M₁₀₂ + M₉₂*M₂₂ + M₉₃*M₃₂ + M₉₄*M₄₂ + M₉₅*M₅₂ + M₉₆*M₆₂ + M₉₇*M₇₂ + M₉₈*M₈₂ + M₉₉*M₉₂) + (M₁₀₁*M₃₁₀ + M₃₁*M₁₁ + M₃₁*M₃₃ + M₃₂*M₂₁ + M₃₅*M₅₁ + M₃₆*M₆₁ + M₃₇*M₇₁ + M₃₈*M₈₁ + M₄₁*M₃₄ + M₉₁*M₃₉)*(M₉₁*M₁₃ + M₉₁₀*M₁₀₃ + M₉₂*M₂₃ + M₉₃*M₃₃ + M₉₄*M₄₃ + M₉₅*M₅₃ + M₉₆*M₆₃ + M₉₇*M₇₃ + M₉₈*M₈₃ + M₉₉*M₉₃) + (M₁₀₁*M₅₁₀ + M₃₁*M₅₃ + M₄₁*M₅₄ + M₅₁*M₁₁ + M₅₂*M₂₁ + M₅₅*M₅₁ + M₅₆*M₆₁ + M₅₇*M₇₁ + M₈₁*M₅₈ + M₉₁*M₅₉)*(M₉₁*M₁₅ + M₉₁₀*M₁₀₅ + M₉₂*M₂₅ + M₉₃*M₃₅ + M₉₄*M₄₅ + M₉₅*M₅₅ + M₉₆*M₆₅ + M₉₇*M₇₅ + M₉₈*M₈₅ + M₉₉*M₉₅) + (M₁₀₁*M₈₁₀ + M₃₁*M₈₃ + M₄₁*M₈₄ + M₈₁*M₁₁ + M₈₁*M₈₈ + M₈₂*M₂₁ + M₈₅*M₅₁ + M₈₆*M₆₁ + M₈₇*M₇₁ + M₉₁*M₈₉)*(M₉₁*M₁₈ + M₉₁₀*M₁₀₈ + M₉₂*M₂₈ + M₉₃*M₃₈ + M₉₄*M₄₈ + M₉₅*M₅₈ + M₉₆*M₆₈ + M₉₇*M₇₈ + M₉₈*M₈₈ + M₉₈*M₉₉) + (M₁₁₀*M₁₀₁ + M₁₆*M₆₁ + M₁₇*M₇₁ + M₂₁*M₁₂ + M₃₁*M₁₃ + M₄₁*M₁₄ + M₅₁*M₁₅ + M₈₁*M₁₈ + M₉₁*M₁₉ + M₁₁^2)*(M₉₁*M₁₁ + M₉₁*M₉₉ + M₉₁₀*M₁₀₁ + M₉₂*M₂₁ + M₉₃*M₃₁ + M₉₄*M₄₁ + M₉₅*M₅₁ + M₉₆*M₆₁ + M₉₇*M₇₁ + M₉₈*M₈₁) + (M₁₀₁₀*M₉₁₀ + M₁₁₀*M₉₁ + M₂₁₀*M₉₂ + M₃₁₀*M₉₃ + M₄₁₀*M₉₄ + M₅₁₀*M₉₅ + M₆₁₀*M₉₆ + M₇₁₀*M₉₇ + M₈₁₀*M₉₈ + M₉₁₀*M₉₉)*(M₁₀₁*M₁₁ + M₁₀₁₀*M₁₀₁ + M₁₀₂*M₂₁ + M₁₀₃*M₃₁ + M₁₀₄*M₄₁ + M₁₀₅*M₅₁ + M₁₀₆*M₆₁ + M₁₀₇*M₇₁ + M₁₀₈*M₈₁ + M₁₀₉*M₉₁) + (M₁₁*M₆₁ + M₂₁*M₆₂ + M₃₁*M₆₃ + M₄₁*M₆₄ + M₅₁*M₆₅ + M₆₁*M₆₆ + M₆₁₀*M₁₀₁ + M₇₁*M₆₇ + M₈₁*M₆₈ + M₉₁*M₆₉)*(M₉₁*M₁₆ + M₉₁₀*M₁₀₆ + M₉₂*M₂₆ + M₉₃*M₃₆ + M₉₄*M₄₆ + M₉₅*M₅₆ + M₉₆*M₆₆ + M₉₆*M₉₉ + M₉₇*M₇₆ + M₉₈*M₈₆) + (M₄₁*M₁₁ + M₄₁*M₄₄ + M₄₁₀*M₁₀₁ + M₄₂*M₂₁ + M₄₃*M₃₁ + M₄₅*M₅₁ + M₄₆*M₆₁ + M₄₇*M₇₁ + M₄₈*M₈₁ + M₉₁*M₄₉)*(M₉₁*M₁₄ + M₉₁₀*M₁₀₄ + M₉₂*M₂₄ + M₉₃*M₃₄ + M₉₄*M₄₄ + M₉₅*M₅₄ + M₉₆*M₆₄ + M₉₇*M₇₄ + M₉₈*M₈₄ + M₉₉*M₉₄) + (M₉₁*M₁₇ + M₉₁₀*M₁₀₇ + M₉₂*M₂₇ + M₉₃*M₃₇ + M₉₄*M₄₇ + M₉₅*M₅₇ + M₉₆*M₆₇ + M₉₇*M₇₇ + M₉₇*M₉₉ + M₉₈*M₈₇)*(M₁₁*M₇₁ + M₂₁*M₇₂ + M₃₁*M₇₃ + M₄₁*M₇₄ + M₅₁*M₇₅ + M₇₁*M₇₇ + M₇₁₀*M₁₀₁ + M₇₆*M₆₁ + M₈₁*M₇₈ + M₉₁*M₇₉) + (M₉₁*M₁₉ + M₉₁₀*M₁₀₉ + M₉₂*M₂₉ + M₉₃*M₃₉ + M₉₄*M₄₉ + M₉₅*M₅₉ + M₉₆*M₆₉ + M₉₇*M₇₉ + M₉₈*M₈₉ + M₉₉^2)*(M₉₁*M₁₁ + M₉₁*M₉₉ + M₉₁₀*M₁₀₁ + M₉₂*M₂₁ + M₉₃*M₃₁ + M₉₄*M₄₁ + M₉₅*M₅₁ + M₉₆*M₆₁ + M₉₇*M₇₁ + M₉₈*M₈₁)) + ((M₁₀₁*M₁₁ + M₁₀₁₀*M₁₀₁ + M₁₀₂*M₂₁ + M₁₀₃*M₃₁ + M₁₀₄*M₄₁ + M₁₀₅*M₅₁ + M₁₀₆*M₆₁ + M₁₀₇*M₇₁ + M₁₀₈*M₈₁ + M₁₀₉*M₉₁)*(M₁₀₁₀*M₄₁₀ + M₁₁₀*M₄₁ + M₂₁₀*M₄₂ + M₃₁₀*M₄₃ + M₄₁₀*M₄₄ + M₅₁₀*M₄₅ + M₆₁₀*M₄₆ + M₇₁₀*M₄₇ + M₈₁₀*M₄₈ + M₉₁₀*M₄₉) + (M₁₁*M₆₁ + M₂₁*M₆₂ + M₃₁*M₆₃ + M₄₁*M₆₄ + M₅₁*M₆₅ + M₆₁*M₆₆ + M₆₁₀*M₁₀₁ + M₇₁*M₆₇ + M₈₁*M₆₈ + M₉₁*M₆₉)*(M₄₁*M₁₆ + M₄₁₀*M₁₀₆ + M₄₂*M₂₆ + M₄₃*M₃₆ + M₄₅*M₅₆ + M₄₆*M₄₄ + M₄₆*M₆₆ + M₄₇*M₇₆ + M₄₈*M₈₆ + M₉₆*M₄₉) + (M₄₁*M₁₁ + M₄₁*M₄₄ + M₄₁₀*M₁₀₁ + M₄₂*M₂₁ + M₄₃*M₃₁ + M₄₅*M₅₁ + M₄₆*M₆₁ + M₄₇*M₇₁ + M₄₈*M₈₁ + M₉₁*M₄₉)*(M₁₁₀*M₁₀₁ + M₁₆*M₆₁ + M₁₇*M₇₁ + M₂₁*M₁₂ + M₃₁*M₁₃ + M₄₁*M₁₄ + M₅₁*M₁₅ + M₈₁*M₁₈ + M₉₁*M₁₉ + M₁₁^2) + (M₄₁*M₁₂ + M₄₁₀*M₁₀₂ + M₄₂*M₂₂ + M₄₂*M₄₄ + M₄₃*M₃₂ + M₄₅*M₅₂ + M₄₆*M₆₂ + M₄₇*M₇₂ + M₄₈*M₈₂ + M₉₂*M₄₉)*(M₁₀₁*M₂₁₀ + M₂₁*M₁₁ + M₂₂*M₂₁ + M₂₆*M₆₁ + M₂₇*M₇₁ + M₃₁*M₂₃ + M₄₁*M₂₄ + M₅₁*M₂₅ + M₈₁*M₂₈ + M₉₁*M₂₉) + (M₄₁*M₁₃ + M₄₁₀*M₁₀₃ + M₄₂*M₂₃ + M₄₃*M₃₃ + M₄₄*M₄₃ + M₄₅*M₅₃ + M₄₆*M₆₃ + M₄₇*M₇₃ + M₄₈*M₈₃ + M₉₃*M₄₉)*(M₁₀₁*M₃₁₀ + M₃₁*M₁₁ + M₃₁*M₃₃ + M₃₂*M₂₁ + M₃₅*M₅₁ + M₃₆*M₆₁ + M₃₇*M₇₁ + M₃₈*M₈₁ + M₄₁*M₃₄ + M₉₁*M₃₉) + (M₄₁*M₁₄ + M₄₁₀*M₁₀₄ + M₄₂*M₂₄ + M₄₃*M₃₄ + M₄₅*M₅₄ + M₄₆*M₆₄ + M₄₇*M₇₄ + M₄₈*M₈₄ + M₉₄*M₄₉ + M₄₄^2)*(M₄₁*M₁₁ + M₄₁*M₄₄ + M₄₁₀*M₁₀₁ + M₄₂*M₂₁ + M₄₃*M₃₁ + M₄₅*M₅₁ + M₄₆*M₆₁ + M₄₇*M₇₁ + M₄₈*M₈₁ + M₉₁*M₄₉) + (M₄₁*M₁₅ + M₄₁₀*M₁₀₅ + M₄₂*M₂₅ + M₄₃*M₃₅ + M₄₅*M₄₄ + M₄₅*M₅₅ + M₄₆*M₆₅ + M₄₇*M₇₅ + M₄₈*M₈₅ + M₉₅*M₄₉)*(M₁₀₁*M₅₁₀ + M₃₁*M₅₃ + M₄₁*M₅₄ + M₅₁*M₁₁ + M₅₂*M₂₁ + M₅₅*M₅₁ + M₅₆*M₆₁ + M₅₇*M₇₁ + M₈₁*M₅₈ + M₉₁*M₅₉) + (M₄₁*M₁₇ + M₄₁₀*M₁₀₇ + M₄₂*M₂₇ + M₄₃*M₃₇ + M₄₄*M₄₇ + M₄₅*M₅₇ + M₄₆*M₆₇ + M₄₇*M₇₇ + M₄₈*M₈₇ + M₉₇*M₄₉)*(M₁₁*M₇₁ + M₂₁*M₇₂ + M₃₁*M₇₃ + M₄₁*M₇₄ + M₅₁*M₇₅ + M₇₁*M₇₇ + M₇₁₀*M₁₀₁ + M₇₆*M₆₁ + M₈₁*M₇₈ + M₉₁*M₇₉) + (M₄₁*M₁₈ + M₄₁₀*M₁₀₈ + M₄₂*M₂₈ + M₄₃*M₃₈ + M₄₄*M₄₈ + M₄₅*M₅₈ + M₄₆*M₆₈ + M₄₇*M₇₈ + M₄₈*M₈₈ + M₉₈*M₄₉)*(M₁₀₁*M₈₁₀ + M₃₁*M₈₃ + M₄₁*M₈₄ + M₈₁*M₁₁ + M₈₁*M₈₈ + M₈₂*M₂₁ + M₈₅*M₅₁ + M₈₆*M₆₁ + M₈₇*M₇₁ + M₉₁*M₈₉) + (M₄₁*M₁₉ + M₄₁₀*M₁₀₉ + M₄₂*M₂₉ + M₄₃*M₃₉ + M₄₄*M₄₉ + M₄₅*M₅₉ + M₄₆*M₆₉ + M₄₇*M₇₉ + M₄₈*M₈₉ + M₉₉*M₄₉)*(M₉₁*M₁₁ + M₉₁*M₉₉ + M₉₁₀*M₁₀₁ + M₉₂*M₂₁ + M₉₃*M₃₁ + M₉₄*M₄₁ + M₉₅*M₅₁ + M₉₆*M₆₁ + M₉₇*M₇₁ + M₉₈*M₈₁))*((M₁₀₁*M₂₁₀ + M₂₁*M₁₁ + M₂₂*M₂₁ + M₂₆*M₆₁ + M₂₇*M₇₁ + M₃₁*M₂₃ + M₄₁*M₂₄ + M₅₁*M₂₅ + M₈₁*M₂₈ + M₉₁*M₂₉)*(M₁₁*M₁₂ + M₁₁₀*M₁₀₂ + M₁₆*M₆₂ + M₁₇*M₇₂ + M₂₂*M₁₂ + M₃₂*M₁₃ + M₄₂*M₁₄ + M₅₂*M₁₅ + M₈₂*M₁₈ + M₉₂*M₁₉) + (M₁₀₁*M₃₁₀ + M₃₁*M₁₁ + M₃₁*M₃₃ + M₃₂*M₂₁ + M₃₅*M₅₁ + M₃₆*M₆₁ + M₃₇*M₇₁ + M₃₈*M₈₁ + M₄₁*M₃₄ + M₉₁*M₃₉)*(M₁₁*M₁₃ + M₁₁₀*M₁₀₃ + M₁₆*M₆₃ + M₁₇*M₇₃ + M₂₃*M₁₂ + M₃₃*M₁₃ + M₄₃*M₁₄ + M₅₃*M₁₅ + M₈₃*M₁₈ + M₉₃*M₁₉) + (M₁₀₁*M₅₁₀ + M₃₁*M₅₃ + M₄₁*M₅₄ + M₅₁*M₁₁ + M₅₂*M₂₁ + M₅₅*M₅₁ + M₅₆*M₆₁ + M₅₇*M₇₁ + M₈₁*M₅₈ + M₉₁*M₅₉)*(M₁₁*M₁₅ + M₁₁₀*M₁₀₅ + M₁₆*M₆₅ + M₁₇*M₇₅ + M₂₅*M₁₂ + M₃₅*M₁₃ + M₄₅*M₁₄ + M₅₅*M₁₅ + M₈₅*M₁₈ + M₉₅*M₁₉) + (M₁₀₁*M₈₁₀ + M₃₁*M₈₃ + M₄₁*M₈₄ + M₈₁*M₁₁ + M₈₁*M₈₈ + M₈₂*M₂₁ + M₈₅*M₅₁ + M₈₆*M₆₁ + M₈₇*M₇₁ + M₉₁*M₈₉)*(M₁₁*M₁₈ + M₁₁₀*M₁₀₈ + M₁₆*M₆₈ + M₁₇*M₇₈ + M₂₈*M₁₂ + M₃₈*M₁₃ + M₄₈*M₁₄ + M₅₈*M₁₅ + M₈₈*M₁₈ + M₉₈*M₁₉) + (M₁₁*M₁₇ + M₁₁₀*M₁₀₇ + M₁₆*M₆₇ + M₁₇*M₇₇ + M₂₇*M₁₂ + M₃₇*M₁₃ + M₄₇*M₁₄ + M₅₇*M₁₅ + M₈₇*M₁₈ + M₉₇*M₁₉)*(M₁₁*M₇₁ + M₂₁*M₇₂ + M₃₁*M₇₃ + M₄₁*M₇₄ + M₅₁*M₇₅ + M₇₁*M₇₇ + M₇₁₀*M₁₀₁ + M₇₆*M₆₁ + M₈₁*M₇₈ + M₉₁*M₇₉) + (M₁₁*M₁₉ + M₁₁₀*M₁₀₉ + M₁₆*M₆₉ + M₁₇*M₇₉ + M₂₉*M₁₂ + M₃₉*M₁₃ + M₄₉*M₁₄ + M₅₉*M₁₅ + M₈₉*M₁₈ + M₉₉*M₁₉)*(M₉₁*M₁₁ + M₉₁*M₉₉ + M₉₁₀*M₁₀₁ + M₉₂*M₂₁ + M₉₃*M₃₁ + M₉₄*M₄₁ + M₉₅*M₅₁ + M₉₆*M₆₁ + M₉₇*M₇₁ + M₉₈*M₈₁) + (M₁₀₁₀*M₁₁₀ + M₁₁₀*M₁₁ + M₂₁₀*M₁₂ + M₃₁₀*M₁₃ + M₄₁₀*M₁₄ + M₅₁₀*M₁₅ + M₆₁₀*M₁₆ + M₇₁₀*M₁₇ + M₈₁₀*M₁₈ + M₉₁₀*M₁₉)*(M₁₀₁*M₁₁ + M₁₀₁₀*M₁₀₁ + M₁₀₂*M₂₁ + M₁₀₃*M₃₁ + M₁₀₄*M₄₁ + M₁₀₅*M₅₁ + M₁₀₆*M₆₁ + M₁₀₇*M₇₁ + M₁₀₈*M₈₁ + M₁₀₉*M₉₁) + (M₁₁*M₆₁ + M₂₁*M₆₂ + M₃₁*M₆₃ + M₄₁*M₆₄ + M₅₁*M₆₅ + M₆₁*M₆₆ + M₆₁₀*M₁₀₁ + M₇₁*M₆₇ + M₈₁*M₆₈ + M₉₁*M₆₉)*(M₁₁*M₁₆ + M₁₁₀*M₁₀₆ + M₁₆*M₆₆ + M₁₇*M₇₆ + M₂₆*M₁₂ + M₃₆*M₁₃ + M₄₆*M₁₄ + M₅₆*M₁₅ + M₈₆*M₁₈ + M₉₆*M₁₉) + (M₄₁*M₁₁ + M₄₁*M₄₄ + M₄₁₀*M₁₀₁ + M₄₂*M₂₁ + M₄₃*M₃₁ + M₄₅*M₅₁ + M₄₆*M₆₁ + M₄₇*M₇₁ + M₄₈*M₈₁ + M₉₁*M₄₉)*(M₁₁*M₁₄ + M₁₁₀*M₁₀₄ + M₁₆*M₆₄ + M₁₇*M₇₄ + M₂₄*M₁₂ + M₃₄*M₁₃ + M₄₄*M₁₄ + M₅₄*M₁₅ + M₈₄*M₁₈ + M₉₄*M₁₉) + (M₁₁₀*M₁₀₁ + M₁₆*M₆₁ + M₁₇*M₇₁ + M₂₁*M₁₂ + M₃₁*M₁₃ + M₄₁*M₁₄ + M₅₁*M₁₅ + M₈₁*M₁₈ + M₉₁*M₁₉ + M₁₁^2)^2) + ((M₁₀₁*M₁₁ + M₁₀₁₀*M₁₀₁ + M₁₀₂*M₂₁ + M₁₀₃*M₃₁ + M₁₀₄*M₄₁ + M₁₀₅*M₅₁ + M₁₀₆*M₆₁ + M₁₀₇*M₇₁ + M₁₀₈*M₈₁ + M₁₀₉*M₉₁)*(M₁₀₁₀*M₄₁₀ + M₁₁₀*M₄₁ + M₂₁₀*M₄₂ + M₃₁₀*M₄₃ + M₄₁₀*M₄₄ + M₅₁₀*M₄₅ + M₆₁₀*M₄₆ + M₇₁₀*M₄₇ + M₈₁₀*M₄₈ + M₉₁₀*M₄₉) + (M₁₁*M₆₁ + M₂₁*M₆₂ + M₃₁*M₆₃ + M₄₁*M₆₄ + M₅₁*M₆₅ + M₆₁*M₆₆ + M₆₁₀*M₁₀₁ + M₇₁*M₆₇ + M₈₁*M₆₈ + M₉₁*M₆₉)*(M₄₁*M₁₆ + M₄₁₀*M₁₀₆ + M₄₂*M₂₆ + M₄₃*M₃₆ + M₄₅*M₅₆ + M₄₆*M₄₄ + M₄₆*M₆₆ + M₄₇*M₇₆ + M₄₈*M₈₆ + M₉₆*M₄₉) + (M₄₁*M₁₁ + M₄₁*M₄₄ + M₄₁₀*M₁₀₁ + M₄₂*M₂₁ + M₄₃*M₃₁ + M₄₅*M₅₁ + M₄₆*M₆₁ + M₄₇*M₇₁ + M₄₈*M₈₁ + M₉₁*M₄₉)*(M₁₁₀*M₁₀₁ + M₁₆*M₆₁ + M₁₇*M₇₁ + M₂₁*M₁₂ + M₃₁*M₁₃ + M₄₁*M₁₄ + M₅₁*M₁₅ + M₈₁*M₁₈ + M₉₁*M₁₉ + M₁₁^2) + (M₄₁*M₁₂ + M₄₁₀*M₁₀₂ + M₄₂*M₂₂ + M₄₂*M₄₄ + M₄₃*M₃₂ + M₄₅*M₅₂ + M₄₆*M₆₂ + M₄₇*M₇₂ + M₄₈*M₈₂ + M₉₂*M₄₉)*(M₁₀₁*M₂₁₀ + M₂₁*M₁₁ + M₂₂*M₂₁ + M₂₆*M₆₁ + M₂₇*M₇₁ + M₃₁*M₂₃ + M₄₁*M₂₄ + M₅₁*M₂₅ + M₈₁*M₂₈ + M₉₁*M₂₉) + (M₄₁*M₁₃ + M₄₁₀*M₁₀₃ + M₄₂*M₂₃ + M₄₃*M₃₃ + M₄₄*M₄₃ + M₄₅*M₅₃ + M₄₆*M₆₃ + M₄₇*M₇₃ + M₄₈*M₈₃ + M₉₃*M₄₉)*(M₁₀₁*M₃₁₀ + M₃₁*M₁₁ + M₃₁*M₃₃ + M₃₂*M₂₁ + M₃₅*M₅₁ + M₃₆*M₆₁ + M₃₇*M₇₁ + M₃₈*M₈₁ + M₄₁*M₃₄ + M₉₁*M₃₉) + (M₄₁*M₁₄ + M₄₁₀*M₁₀₄ + M₄₂*M₂₄ + M₄₃*M₃₄ + M₄₅*M₅₄ + M₄₆*M₆₄ + M₄₇*M₇₄ + M₄₈*M₈₄ + M₉₄*M₄₉ + M₄₄^2)*(M₄₁*M₁₁ + M₄₁*M₄₄ + M₄₁₀*M₁₀₁ + M₄₂*M₂₁ + M₄₃*M₃₁ + M₄₅*M₅₁ + M₄₆*M₆₁ + M₄₇*M₇₁ + M₄₈*M₈₁ + M₉₁*M₄₉) + (M₄₁*M₁₅ + M₄₁₀*M₁₀₅ + M₄₂*M₂₅ + M₄₃*M₃₅ + M₄₅*M₄₄ + M₄₅*M₅₅ + M₄₆*M₆₅ + M₄₇*M₇₅ + M₄₈*M₈₅ + M₉₅*M₄₉)*(M₁₀₁*M₅₁₀ + M₃₁*M₅₃ + M₄₁*M₅₄ + M₅₁*M₁₁ + M₅₂*M₂₁ + M₅₅*M₅₁ + M₅₆*M₆₁ + M₅₇*M₇₁ + M₈₁*M₅₈ + M₉₁*M₅₉) + (M₄₁*M₁₇ + M₄₁₀*M₁₀₇ + M₄₂*M₂₇ + M₄₃*M₃₇ + M₄₄*M₄₇ + M₄₅*M₅₇ + M₄₆*M₆₇ + M₄₇*M₇₇ + M₄₈*M₈₇ + M₉₇*M₄₉)*(M₁₁*M₇₁ + M₂₁*M₇₂ + M₃₁*M₇₃ + M₄₁*M₇₄ + M₅₁*M₇₅ + M₇₁*M₇₇ + M₇₁₀*M₁₀₁ + M₇₆*M₆₁ + M₈₁*M₇₈ + M₉₁*M₇₉) + (M₄₁*M₁₈ + M₄₁₀*M₁₀₈ + M₄₂*M₂₈ + M₄₃*M₃₈ + M₄₄*M₄₈ + M₄₅*M₅₈ + M₄₆*M₆₈ + M₄₇*M₇₈ + M₄₈*M₈₈ + M₉₈*M₄₉)*(M₁₀₁*M₈₁₀ + M₃₁*M₈₃ + M₄₁*M₈₄ + M₈₁*M₁₁ + M₈₁*M₈₈ + M₈₂*M₂₁ + M₈₅*M₅₁ + M₈₆*M₆₁ + M₈₇*M₇₁ + M₉₁*M₈₉) + (M₄₁*M₁₉ + M₄₁₀*M₁₀₉ + M₄₂*M₂₉ + M₄₃*M₃₉ + M₄₄*M₄₉ + M₄₅*M₅₉ + M₄₆*M₆₉ + M₄₇*M₇₉ + M₄₈*M₈₉ + M₉₉*M₄₉)*(M₉₁*M₁₁ + M₉₁*M₉₉ + M₉₁₀*M₁₀₁ + M₉₂*M₂₁ + M₉₃*M₃₁ + M₉₄*M₄₁ + M₉₅*M₅₁ + M₉₆*M₆₁ + M₉₇*M₇₁ + M₉₈*M₈₁))*((M₁₀₁*M₁₄ + M₁₀₁₀*M₁₀₄ + M₁₀₂*M₂₄ + M₁₀₃*M₃₄ + M₁₀₄*M₄₄ + M₁₀₅*M₅₄ + M₁₀₆*M₆₄ + M₁₀₇*M₇₄ + M₁₀₈*M₈₄ + M₁₀₉*M₉₄)*(M₁₀₁₀*M₄₁₀ + M₁₁₀*M₄₁ + M₂₁₀*M₄₂ + M₃₁₀*M₄₃ + M₄₁₀*M₄₄ + M₅₁₀*M₄₅ + M₆₁₀*M₄₆ + M₇₁₀*M₄₇ + M₈₁₀*M₄₈ + M₉₁₀*M₄₉) + (M₁₄*M₆₁ + M₂₄*M₆₂ + M₃₄*M₆₃ + M₄₄*M₆₄ + M₅₄*M₆₅ + M₆₁₀*M₁₀₄ + M₆₄*M₆₆ + M₇₄*M₆₇ + M₈₄*M₆₈ + M₉₄*M₆₉)*(M₄₁*M₁₆ + M₄₁₀*M₁₀₆ + M₄₂*M₂₆ + M₄₃*M₃₆ + M₄₅*M₅₆ + M₄₆*M₄₄ + M₄₆*M₆₆ + M₄₇*M₇₆ + M₄₈*M₈₆ + M₉₆*M₄₉) + (M₄₁*M₁₁ + M₄₁*M₄₄ + M₄₁₀*M₁₀₁ + M₄₂*M₂₁ + M₄₃*M₃₁ + M₄₅*M₅₁ + M₄₆*M₆₁ + M₄₇*M₇₁ + M₄₈*M₈₁ + M₉₁*M₄₉)*(M₁₁*M₁₄ + M₁₁₀*M₁₀₄ + M₁₆*M₆₄ + M₁₇*M₇₄ + M₂₄*M₁₂ + M₃₄*M₁₃ + M₄₄*M₁₄ + M₅₄*M₁₅ + M₈₄*M₁₈ + M₉₄*M₁₉) + (M₄₁*M₁₂ + M₄₁₀*M₁₀₂ + M₄₂*M₂₂ + M₄₂*M₄₄ + M₄₃*M₃₂ + M₄₅*M₅₂ + M₄₆*M₆₂ + M₄₇*M₇₂ + M₄₈*M₈₂ + M₉₂*M₄₉)*(M₁₀₄*M₂₁₀ + M₂₁*M₁₄ + M₂₂*M₂₄ + M₂₆*M₆₄ + M₂₇*M₇₄ + M₃₄*M₂₃ + M₄₄*M₂₄ + M₅₄*M₂₅ + M₈₄*M₂₈ + M₉₄*M₂₉) + (M₄₁*M₁₃ + M₄₁₀*M₁₀₃ + M₄₂*M₂₃ + M₄₃*M₃₃ + M₄₄*M₄₃ + M₄₅*M₅₃ + M₄₆*M₆₃ + M₄₇*M₇₃ + M₄₈*M₈₃ + M₉₃*M₄₉)*(M₁₀₄*M₃₁₀ + M₃₁*M₁₄ + M₃₂*M₂₄ + M₃₃*M₃₄ + M₃₅*M₅₄ + M₃₆*M₆₄ + M₃₇*M₇₄ + M₃₈*M₈₄ + M₄₄*M₃₄ + M₉₄*M₃₉) + (M₄₁*M₁₅ + M₄₁₀*M₁₀₅ + M₄₂*M₂₅ + M₄₃*M₃₅ + M₄₅*M₄₄ + M₄₅*M₅₅ + M₄₆*M₆₅ + M₄₇*M₇₅ + M₄₈*M₈₅ + M₉₅*M₄₉)*(M₁₀₄*M₅₁₀ + M₃₄*M₅₃ + M₄₄*M₅₄ + M₅₁*M₁₄ + M₅₂*M₂₄ + M₅₅*M₅₄ + M₅₆*M₆₄ + M₅₇*M₇₄ + M₈₄*M₅₈ + M₉₄*M₅₉) + (M₄₁*M₁₇ + M₄₁₀*M₁₀₇ + M₄₂*M₂₇ + M₄₃*M₃₇ + M₄₄*M₄₇ + M₄₅*M₅₇ + M₄₆*M₆₇ + M₄₇*M₇₇ + M₄₈*M₈₇ + M₉₇*M₄₉)*(M₁₄*M₇₁ + M₂₄*M₇₂ + M₃₄*M₇₃ + M₄₄*M₇₄ + M₅₄*M₇₅ + M₇₁₀*M₁₀₄ + M₇₄*M₇₇ + M₇₆*M₆₄ + M₈₄*M₇₈ + M₉₄*M₇₉) + (M₄₁*M₁₈ + M₄₁₀*M₁₀₈ + M₄₂*M₂₈ + M₄₃*M₃₈ + M₄₄*M₄₈ + M₄₅*M₅₈ + M₄₆*M₆₈ + M₄₇*M₇₈ + M₄₈*M₈₈ + M₉₈*M₄₉)*(M₁₀₄*M₈₁₀ + M₃₄*M₈₃ + M₄₄*M₈₄ + M₈₁*M₁₄ + M₈₂*M₂₄ + M₈₄*M₈₈ + M₈₅*M₅₄ + M₈₆*M₆₄ + M₈₇*M₇₄ + M₉₄*M₈₉) + (M₄₁*M₁₉ + M₄₁₀*M₁₀₉ + M₄₂*M₂₉ + M₄₃*M₃₉ + M₄₄*M₄₉ + M₄₅*M₅₉ + M₄₆*M₆₉ + M₄₇*M₇₉ + M₄₈*M₈₉ + M₉₉*M₄₉)*(M₉₁*M₁₄ + M₉₁₀*M₁₀₄ + M₉₂*M₂₄ + M₉₃*M₃₄ + M₉₄*M₄₄ + M₉₅*M₅₄ + M₉₆*M₆₄ + M₉₇*M₇₄ + M₉₈*M₈₄ + M₉₉*M₉₄) + (M₄₁*M₁₄ + M₄₁₀*M₁₀₄ + M₄₂*M₂₄ + M₄₃*M₃₄ + M₄₅*M₅₄ + M₄₆*M₆₄ + M₄₇*M₇₄ + M₄₈*M₈₄ + M₉₄*M₄₉ + M₄₄^2)^2) + ((M₁₀₁*M₁₆ + M₁₀₁₀*M₁₀₆ + M₁₀₂*M₂₆ + M₁₀₃*M₃₆ + M₁₀₄*M₄₆ + M₁₀₅*M₅₆ + M₁₀₆*M₆₆ + M₁₀₇*M₇₆ + M₁₀₈*M₈₆ + M₁₀₉*M₉₆)*(M₁₀₁₀*M₄₁₀ + M₁₁₀*M₄₁ + M₂₁₀*M₄₂ + M₃₁₀*M₄₃ + M₄₁₀*M₄₄ + M₅₁₀*M₄₅ + M₆₁₀*M₄₆ + M₇₁₀*M₄₇ + M₈₁₀*M₄₈ + M₉₁₀*M₄₉) + (M₁₆*M₆₁ + M₂₆*M₆₂ + M₃₆*M₆₃ + M₄₆*M₆₄ + M₅₆*M₆₅ + M₆₁₀*M₁₀₆ + M₇₆*M₆₇ + M₈₆*M₆₈ + M₉₆*M₆₉ + M₆₆^2)*(M₄₁*M₁₆ + M₄₁₀*M₁₀₆ + M₄₂*M₂₆ + M₄₃*M₃₆ + M₄₅*M₅₆ + M₄₆*M₄₄ + M₄₆*M₆₆ + M₄₇*M₇₆ + M₄₈*M₈₆ + M₉₆*M₄₉) + (M₄₁*M₁₁ + M₄₁*M₄₄ + M₄₁₀*M₁₀₁ + M₄₂*M₂₁ + M₄₃*M₃₁ + M₄₅*M₅₁ + M₄₆*M₆₁ + M₄₇*M₇₁ + M₄₈*M₈₁ + M₉₁*M₄₉)*(M₁₁*M₁₆ + M₁₁₀*M₁₀₆ + M₁₆*M₆₆ + M₁₇*M₇₆ + M₂₆*M₁₂ + M₃₆*M₁₃ + M₄₆*M₁₄ + M₅₆*M₁₅ + M₈₆*M₁₈ + M₉₆*M₁₉) + (M₄₁*M₁₂ + M₄₁₀*M₁₀₂ + M₄₂*M₂₂ + M₄₂*M₄₄ + M₄₃*M₃₂ + M₄₅*M₅₂ + M₄₆*M₆₂ + M₄₇*M₇₂ + M₄₈*M₈₂ + M₉₂*M₄₉)*(M₁₀₆*M₂₁₀ + M₂₁*M₁₆ + M₂₂*M₂₆ + M₂₆*M₆₆ + M₂₇*M₇₆ + M₃₆*M₂₃ + M₄₆*M₂₄ + M₅₆*M₂₅ + M₈₆*M₂₈ + M₉₆*M₂₉) + (M₄₁*M₁₃ + M₄₁₀*M₁₀₃ + M₄₂*M₂₃ + M₄₃*M₃₃ + M₄₄*M₄₃ + M₄₅*M₅₃ + M₄₆*M₆₃ + M₄₇*M₇₃ + M₄₈*M₈₃ + M₉₃*M₄₉)*(M₁₀₆*M₃₁₀ + M₃₁*M₁₆ + M₃₂*M₂₆ + M₃₅*M₅₆ + M₃₆*M₃₃ + M₃₆*M₆₆ + M₃₇*M₇₆ + M₃₈*M₈₆ + M₄₆*M₃₄ + M₉₆*M₃₉) + (M₄₁*M₁₄ + M₄₁₀*M₁₀₄ + M₄₂*M₂₄ + M₄₃*M₃₄ + M₄₅*M₅₄ + M₄₆*M₆₄ + M₄₇*M₇₄ + M₄₈*M₈₄ + M₉₄*M₄₉ + M₄₄^2)*(M₄₁*M₁₆ + M₄₁₀*M₁₀₆ + M₄₂*M₂₆ + M₄₃*M₃₆ + M₄₅*M₅₆ + M₄₆*M₄₄ + M₄₆*M₆₆ + M₄₇*M₇₆ + M₄₈*M₈₆ + M₉₆*M₄₉) + (M₄₁*M₁₅ + M₄₁₀*M₁₀₅ + M₄₂*M₂₅ + M₄₃*M₃₅ + M₄₅*M₄₄ + M₄₅*M₅₅ + M₄₆*M₆₅ + M₄₇*M₇₅ + M₄₈*M₈₅ + M₉₅*M₄₉)*(M₁₀₆*M₅₁₀ + M₃₆*M₅₃ + M₄₆*M₅₄ + M₅₁*M₁₆ + M₅₂*M₂₆ + M₅₆*M₅₅ + M₅₆*M₆₆ + M₅₇*M₇₆ + M₈₆*M₅₈ + M₉₆*M₅₉) + (M₄₁*M₁₇ + M₄₁₀*M₁₀₇ + M₄₂*M₂₇ + M₄₃*M₃₇ + M₄₄*M₄₇ + M₄₅*M₅₇ + M₄₆*M₆₇ + M₄₇*M₇₇ + M₄₈*M₈₇ + M₉₇*M₄₉)*(M₁₆*M₇₁ + M₂₆*M₇₂ + M₃₆*M₇₃ + M₄₆*M₇₄ + M₅₆*M₇₅ + M₇₁₀*M₁₀₆ + M₇₆*M₆₆ + M₇₇*M₇₆ + M₈₆*M₇₈ + M₉₆*M₇₉) + (M₄₁*M₁₈ + M₄₁₀*M₁₀₈ + M₄₂*M₂₈ + M₄₃*M₃₈ + M₄₄*M₄₈ + M₄₅*M₅₈ + M₄₆*M₆₈ + M₄₇*M₇₈ + M₄₈*M₈₈ + M₉₈*M₄₉)*(M₁₀₆*M₈₁₀ + M₃₆*M₈₃ + M₄₆*M₈₄ + M₈₁*M₁₆ + M₈₂*M₂₆ + M₈₅*M₅₆ + M₈₆*M₆₆ + M₈₇*M₇₆ + M₈₈*M₈₆ + M₉₆*M₈₉) + (M₄₁*M₁₉ + M₄₁₀*M₁₀₉ + M₄₂*M₂₉ + M₄₃*M₃₉ + M₄₄*M₄₉ + M₄₅*M₅₉ + M₄₆*M₆₉ + M₄₇*M₇₉ + M₄₈*M₈₉ + M₉₉*M₄₉)*(M₉₁*M₁₆ + M₉₁₀*M₁₀₆ + M₉₂*M₂₆ + M₉₃*M₃₆ + M₉₄*M₄₆ + M₉₅*M₅₆ + M₉₆*M₆₆ + M₉₆*M₉₉ + M₉₇*M₇₆ + M₉₈*M₈₆))*((M₁₀₁₀*M₆₁₀ + M₁₁₀*M₆₁ + M₂₁₀*M₆₂ + M₃₁₀*M₆₃ + M₄₁₀*M₆₄ + M₅₁₀*M₆₅ + M₆₁₀*M₆₆ + M₇₁₀*M₆₇ + M₈₁₀*M₆₈ + M₉₁₀*M₆₉)*(M₁₀₁*M₁₁ + M₁₀₁₀*M₁₀₁ + M₁₀₂*M₂₁ + M₁₀₃*M₃₁ + M₁₀₄*M₄₁ + M₁₀₅*M₅₁ + M₁₀₆*M₆₁ + M₁₀₇*M₇₁ + M₁₀₈*M₈₁ + M₁₀₉*M₉₁) + (M₁₁*M₆₁ + M₂₁*M₆₂ + M₃₁*M₆₃ + M₄₁*M₆₄ + M₅₁*M₆₅ + M₆₁*M₆₆ + M₆₁₀*M₁₀₁ + M₇₁*M₆₇ + M₈₁*M₆₈ + M₉₁*M₆₉)*(M₁₁₀*M₁₀₁ + M₁₆*M₆₁ + M₁₇*M₇₁ + M₂₁*M₁₂ + M₃₁*M₁₃ + M₄₁*M₁₄ + M₅₁*M₁₅ + M₈₁*M₁₈ + M₉₁*M₁₉ + M₁₁^2) + (M₁₁*M₆₁ + M₂₁*M₆₂ + M₃₁*M₆₃ + M₄₁*M₆₄ + M₅₁*M₆₅ + M₆₁*M₆₆ + M₆₁₀*M₁₀₁ + M₇₁*M₆₇ + M₈₁*M₆₈ + M₉₁*M₆₉)*(M₁₆*M₆₁ + M₂₆*M₆₂ + M₃₆*M₆₃ + M₄₆*M₆₄ + M₅₆*M₆₅ + M₆₁₀*M₁₀₆ + M₇₆*M₆₇ + M₈₆*M₆₈ + M₉₆*M₆₉ + M₆₆^2) + (M₁₂*M₆₁ + M₂₂*M₆₂ + M₃₂*M₆₃ + M₄₂*M₆₄ + M₅₂*M₆₅ + M₆₁₀*M₁₀₂ + M₆₂*M₆₆ + M₇₂*M₆₇ + M₈₂*M₆₈ + M₉₂*M₆₉)*(M₁₀₁*M₂₁₀ + M₂₁*M₁₁ + M₂₂*M₂₁ + M₂₆*M₆₁ + M₂₇*M₇₁ + M₃₁*M₂₃ + M₄₁*M₂₄ + M₅₁*M₂₅ + M₈₁*M₂₈ + M₉₁*M₂₉) + (M₁₃*M₆₁ + M₂₃*M₆₂ + M₃₃*M₆₃ + M₄₃*M₆₄ + M₅₃*M₆₅ + M₆₁₀*M₁₀₃ + M₆₃*M₆₆ + M₇₃*M₆₇ + M₈₃*M₆₈ + M₉₃*M₆₉)*(M₁₀₁*M₃₁₀ + M₃₁*M₁₁ + M₃₁*M₃₃ + M₃₂*M₂₁ + M₃₅*M₅₁ + M₃₆*M₆₁ + M₃₇*M₇₁ + M₃₈*M₈₁ + M₄₁*M₃₄ + M₉₁*M₃₉) + (M₁₄*M₆₁ + M₂₄*M₆₂ + M₃₄*M₆₃ + M₄₄*M₆₄ + M₅₄*M₆₅ + M₆₁₀*M₁₀₄ + M₆₄*M₆₆ + M₇₄*M₆₇ + M₈₄*M₆₈ + M₉₄*M₆₉)*(M₄₁*M₁₁ + M₄₁*M₄₄ + M₄₁₀*M₁₀₁ + M₄₂*M₂₁ + M₄₃*M₃₁ + M₄₅*M₅₁ + M₄₆*M₆₁ + M₄₇*M₇₁ + M₄₈*M₈₁ + M₉₁*M₄₉) + (M₁₅*M₆₁ + M₂₅*M₆₂ + M₃₅*M₆₃ + M₄₅*M₆₄ + M₅₅*M₆₅ + M₆₁₀*M₁₀₅ + M₆₅*M₆₆ + M₇₅*M₆₇ + M₈₅*M₆₈ + M₉₅*M₆₉)*(M₁₀₁*M₅₁₀ + M₃₁*M₅₃ + M₄₁*M₅₄ + M₅₁*M₁₁ + M₅₂*M₂₁ + M₅₅*M₅₁ + M₅₆*M₆₁ + M₅₇*M₇₁ + M₈₁*M₅₈ + M₉₁*M₅₉) + (M₁₇*M₆₁ + M₂₇*M₆₂ + M₃₇*M₆₃ + M₄₇*M₆₄ + M₅₇*M₆₅ + M₆₁₀*M₁₀₇ + M₆₆*M₆₇ + M₇₇*M₆₇ + M₈₇*M₆₈ + M₉₇*M₆₉)*(M₁₁*M₇₁ + M₂₁*M₇₂ + M₃₁*M₇₃ + M₄₁*M₇₄ + M₅₁*M₇₅ + M₇₁*M₇₇ + M₇₁₀*M₁₀₁ + M₇₆*M₆₁ + M₈₁*M₇₈ + M₉₁*M₇₉) + (M₁₈*M₆₁ + M₂₈*M₆₂ + M₃₈*M₆₃ + M₄₈*M₆₄ + M₅₈*M₆₅ + M₆₁₀*M₁₀₈ + M₆₆*M₆₈ + M₇₈*M₆₇ + M₈₈*M₆₈ + M₉₈*M₆₉)*(M₁₀₁*M₈₁₀ + M₃₁*M₈₃ + M₄₁*M₈₄ + M₈₁*M₁₁ + M₈₁*M₈₈ + M₈₂*M₂₁ + M₈₅*M₅₁ + M₈₆*M₆₁ + M₈₇*M₇₁ + M₉₁*M₈₉) + (M₁₉*M₆₁ + M₂₉*M₆₂ + M₃₉*M₆₃ + M₄₉*M₆₄ + M₅₉*M₆₅ + M₆₁₀*M₁₀₉ + M₆₉*M₆₆ + M₇₉*M₆₇ + M₈₉*M₆₈ + M₉₉*M₆₉)*(M₉₁*M₁₁ + M₉₁*M₉₉ + M₉₁₀*M₁₀₁ + M₉₂*M₂₁ + M₉₃*M₃₁ + M₉₄*M₄₁ + M₉₅*M₅₁ + M₉₆*M₆₁ + M₉₇*M₇₁ + M₉₈*M₈₁)) + ((M₁₀₁*M₁₈ + M₁₀₁₀*M₁₀₈ + M₁₀₂*M₂₈ + M₁₀₃*M₃₈ + M₁₀₄*M₄₈ + M₁₀₅*M₅₈ + M₁₀₆*M₆₈ + M₁₀₇*M₇₈ + M₁₀₈*M₈₈ + M₁₀₉*M₉₈)*(M₁₀₁₀*M₄₁₀ + M₁₁₀*M₄₁ + M₂₁₀*M₄₂ + M₃₁₀*M₄₃ + M₄₁₀*M₄₄ + M₅₁₀*M₄₅ + M₆₁₀*M₄₆ + M₇₁₀*M₄₇ + M₈₁₀*M₄₈ + M₉₁₀*M₄₉) + (M₁₈*M₆₁ + M₂₈*M₆₂ + M₃₈*M₆₃ + M₄₈*M₆₄ + M₅₈*M₆₅ + M₆₁₀*M₁₀₈ + M₆₆*M₆₈ + M₇₈*M₆₇ + M₈₈*M₆₈ + M₉₈*M₆₉)*(M₄₁*M₁₆ + M₄₁₀*M₁₀₆ + M₄₂*M₂₆ + M₄₃*M₃₆ + M₄₅*M₅₆ + M₄₆*M₄₄ + M₄₆*M₆₆ + M₄₇*M₇₆ + M₄₈*M₈₆ + M₉₆*M₄₉) + (M₄₁*M₁₁ + M₄₁*M₄₄ + M₄₁₀*M₁₀₁ + M₄₂*M₂₁ + M₄₃*M₃₁ + M₄₅*M₅₁ + M₄₆*M₆₁ + M₄₇*M₇₁ + M₄₈*M₈₁ + M₉₁*M₄₉)*(M₁₁*M₁₈ + M₁₁₀*M₁₀₈ + M₁₆*M₆₈ + M₁₇*M₇₈ + M₂₈*M₁₂ + M₃₈*M₁₃ + M₄₈*M₁₄ + M₅₈*M₁₅ + M₈₈*M₁₈ + M₉₈*M₁₉) + (M₄₁*M₁₂ + M₄₁₀*M₁₀₂ + M₄₂*M₂₂ + M₄₂*M₄₄ + M₄₃*M₃₂ + M₄₅*M₅₂ + M₄₆*M₆₂ + M₄₇*M₇₂ + M₄₈*M₈₂ + M₉₂*M₄₉)*(M₁₀₈*M₂₁₀ + M₂₁*M₁₈ + M₂₂*M₂₈ + M₂₆*M₆₈ + M₂₇*M₇₈ + M₃₈*M₂₃ + M₄₈*M₂₄ + M₅₈*M₂₅ + M₈₈*M₂₈ + M₉₈*M₂₉) + (M₄₁*M₁₃ + M₄₁₀*M₁₀₃ + M₄₂*M₂₃ + M₄₃*M₃₃ + M₄₄*M₄₃ + M₄₅*M₅₃ + M₄₆*M₆₃ + M₄₇*M₇₃ + M₄₈*M₈₃ + M₉₃*M₄₉)*(M₁₀₈*M₃₁₀ + M₃₁*M₁₈ + M₃₂*M₂₈ + M₃₃*M₃₈ + M₃₅*M₅₈ + M₃₆*M₆₈ + M₃₇*M₇₈ + M₃₈*M₈₈ + M₄₈*M₃₄ + M₉₈*M₃₉) + (M₄₁*M₁₄ + M₄₁₀*M₁₀₄ + M₄₂*M₂₄ + M₄₃*M₃₄ + M₄₅*M₅₄ + M₄₆*M₆₄ + M₄₇*M₇₄ + M₄₈*M₈₄ + M₉₄*M₄₉ + M₄₄^2)*(M₄₁*M₁₈ + M₄₁₀*M₁₀₈ + M₄₂*M₂₈ + M₄₃*M₃₈ + M₄₄*M₄₈ + M₄₅*M₅₈ + M₄₆*M₆₈ + M₄₇*M₇₈ + M₄₈*M₈₈ + M₉₈*M₄₉) + (M₄₁*M₁₅ + M₄₁₀*M₁₀₅ + M₄₂*M₂₅ + M₄₃*M₃₅ + M₄₅*M₄₄ + M₄₅*M₅₅ + M₄₆*M₆₅ + M₄₇*M₇₅ + M₄₈*M₈₅ + M₉₅*M₄₉)*(M₁₀₈*M₅₁₀ + M₃₈*M₅₃ + M₄₈*M₅₄ + M₅₁*M₁₈ + M₅₂*M₂₈ + M₅₅*M₅₈ + M₅₆*M₆₈ + M₅₇*M₇₈ + M₈₈*M₅₈ + M₉₈*M₅₉) + (M₄₁*M₁₇ + M₄₁₀*M₁₀₇ + M₄₂*M₂₇ + M₄₃*M₃₇ + M₄₄*M₄₇ + M₄₅*M₅₇ + M₄₆*M₆₇ + M₄₇*M₇₇ + M₄₈*M₈₇ + M₉₇*M₄₉)*(M₁₈*M₇₁ + M₂₈*M₇₂ + M₃₈*M₇₃ + M₄₈*M₇₄ + M₅₈*M₇₅ + M₇₁₀*M₁₀₈ + M₇₆*M₆₈ + M₇₈*M₇₇ + M₈₈*M₇₈ + M₉₈*M₇₉) + (M₄₁*M₁₈ + M₄₁₀*M₁₀₈ + M₄₂*M₂₈ + M₄₃*M₃₈ + M₄₄*M₄₈ + M₄₅*M₅₈ + M₄₆*M₆₈ + M₄₇*M₇₈ + M₄₈*M₈₈ + M₉₈*M₄₉)*(M₁₀₈*M₈₁₀ + M₃₈*M₈₃ + M₄₈*M₈₄ + M₈₁*M₁₈ + M₈₂*M₂₈ + M₈₅*M₅₈ + M₈₆*M₆₈ + M₈₇*M₇₈ + M₉₈*M₈₉ + M₈₈^2) + (M₄₁*M₁₉ + M₄₁₀*M₁₀₉ + M₄₂*M₂₉ + M₄₃*M₃₉ + M₄₄*M₄₉ + M₄₅*M₅₉ + M₄₆*M₆₉ + M₄₇*M₇₉ + M₄₈*M₈₉ + M₉₉*M₄₉)*(M₉₁*M₁₈ + M₉₁₀*M₁₀₈ + M₉₂*M₂₈ + M₉₃*M₃₈ + M₉₄*M₄₈ + M₉₅*M₅₈ + M₉₆*M₆₈ + M₉₇*M₇₈ + M₉₈*M₈₈ + M₉₈*M₉₉))*((M₁₀₁*M₂₁₀ + M₂₁*M₁₁ + M₂₂*M₂₁ + M₂₆*M₆₁ + M₂₇*M₇₁ + M₃₁*M₂₃ + M₄₁*M₂₄ + M₅₁*M₂₅ + M₈₁*M₂₈ + M₉₁*M₂₉)*(M₁₀₂*M₈₁₀ + M₃₂*M₈₃ + M₄₂*M₈₄ + M₈₁*M₁₂ + M₈₂*M₂₂ + M₈₂*M₈₈ + M₈₅*M₅₂ + M₈₆*M₆₂ + M₈₇*M₇₂ + M₉₂*M₈₉) + (M₁₀₁*M₅₁₀ + M₃₁*M₅₃ + M₄₁*M₅₄ + M₅₁*M₁₁ + M₅₂*M₂₁ + M₅₅*M₅₁ + M₅₆*M₆₁ + M₅₇*M₇₁ + M₈₁*M₅₈ + M₉₁*M₅₉)*(M₁₀₅*M₈₁₀ + M₃₅*M₈₃ + M₄₅*M₈₄ + M₈₁*M₁₅ + M₈₂*M₂₅ + M₈₅*M₅₅ + M₈₆*M₆₅ + M₈₇*M₇₅ + M₈₈*M₈₅ + M₉₅*M₈₉) + (M₁₀₁*M₈₁₀ + M₃₁*M₈₃ + M₄₁*M₈₄ + M₈₁*M₁₁ + M₈₁*M₈₈ + M₈₂*M₂₁ + M₈₅*M₅₁ + M₈₆*M₆₁ + M₈₇*M₇₁ + M₉₁*M₈₉)*(M₁₀₈*M₈₁₀ + M₃₈*M₈₃ + M₄₈*M₈₄ + M₈₁*M₁₈ + M₈₂*M₂₈ + M₈₅*M₅₈ + M₈₆*M₆₈ + M₈₇*M₇₈ + M₉₈*M₈₉ + M₈₈^2) + (M₁₀₁*M₈₁₀ + M₃₁*M₈₃ + M₄₁*M₈₄ + M₈₁*M₁₁ + M₈₁*M₈₈ + M₈₂*M₂₁ + M₈₅*M₅₁ + M₈₆*M₆₁ + M₈₇*M₇₁ + M₉₁*M₈₉)*(M₁₁₀*M₁₀₁ + M₁₆*M₆₁ + M₁₇*M₇₁ + M₂₁*M₁₂ + M₃₁*M₁₃ + M₄₁*M₁₄ + M₅₁*M₁₅ + M₈₁*M₁₈ + M₉₁*M₁₉ + M₁₁^2) + (M₁₀₃*M₈₁₀ + M₃₃*M₈₃ + M₄₃*M₈₄ + M₈₁*M₁₃ + M₈₂*M₂₃ + M₈₃*M₈₈ + M₈₅*M₅₃ + M₈₆*M₆₃ + M₈₇*M₇₃ + M₉₃*M₈₉)*(M₁₀₁*M₃₁₀ + M₃₁*M₁₁ + M₃₁*M₃₃ + M₃₂*M₂₁ + M₃₅*M₅₁ + M₃₆*M₆₁ + M₃₇*M₇₁ + M₃₈*M₈₁ + M₄₁*M₃₄ + M₉₁*M₃₉) + (M₁₀₇*M₈₁₀ + M₃₇*M₈₃ + M₄₇*M₈₄ + M₈₁*M₁₇ + M₈₂*M₂₇ + M₈₅*M₅₇ + M₈₆*M₆₇ + M₈₇*M₇₇ + M₈₇*M₈₈ + M₉₇*M₈₉)*(M₁₁*M₇₁ + M₂₁*M₇₂ + M₃₁*M₇₃ + M₄₁*M₇₄ + M₅₁*M₇₅ + M₇₁*M₇₇ + M₇₁₀*M₁₀₁ + M₇₆*M₆₁ + M₈₁*M₇₈ + M₉₁*M₇₉) + (M₁₀₉*M₈₁₀ + M₃₉*M₈₃ + M₄₉*M₈₄ + M₈₁*M₁₉ + M₈₂*M₂₉ + M₈₅*M₅₉ + M₈₆*M₆₉ + M₈₇*M₇₉ + M₈₉*M₈₈ + M₉₉*M₈₉)*(M₉₁*M₁₁ + M₉₁*M₉₉ + M₉₁₀*M₁₀₁ + M₉₂*M₂₁ + M₉₃*M₃₁ + M₉₄*M₄₁ + M₉₅*M₅₁ + M₉₆*M₆₁ + M₉₇*M₇₁ + M₉₈*M₈₁) + (M₁₀₁₀*M₈₁₀ + M₁₁₀*M₈₁ + M₂₁₀*M₈₂ + M₃₁₀*M₈₃ + M₄₁₀*M₈₄ + M₅₁₀*M₈₅ + M₆₁₀*M₈₆ + M₇₁₀*M₈₇ + M₈₁₀*M₈₈ + M₉₁₀*M₈₉)*(M₁₀₁*M₁₁ + M₁₀₁₀*M₁₀₁ + M₁₀₂*M₂₁ + M₁₀₃*M₃₁ + M₁₀₄*M₄₁ + M₁₀₅*M₅₁ + M₁₀₆*M₆₁ + M₁₀₇*M₇₁ + M₁₀₈*M₈₁ + M₁₀₉*M₉₁) + (M₁₁*M₆₁ + M₂₁*M₆₂ + M₃₁*M₆₃ + M₄₁*M₆₄ + M₅₁*M₆₅ + M₆₁*M₆₆ + M₆₁₀*M₁₀₁ + M₇₁*M₆₇ + M₈₁*M₆₈ + M₉₁*M₆₉)*(M₁₀₆*M₈₁₀ + M₃₆*M₈₃ + M₄₆*M₈₄ + M₈₁*M₁₆ + M₈₂*M₂₆ + M₈₅*M₅₆ + M₈₆*M₆₆ + M₈₇*M₇₆ + M₈₈*M₈₆ + M₉₆*M₈₉) + (M₄₁*M₁₁ + M₄₁*M₄₄ + M₄₁₀*M₁₀₁ + M₄₂*M₂₁ + M₄₃*M₃₁ + M₄₅*M₅₁ + M₄₆*M₆₁ + M₄₇*M₇₁ + M₄₈*M₈₁ + M₉₁*M₄₉)*(M₁₀₄*M₈₁₀ + M₃₄*M₈₃ + M₄₄*M₈₄ + M₈₁*M₁₄ + M₈₂*M₂₄ + M₈₄*M₈₈ + M₈₅*M₅₄ + M₈₆*M₆₄ + M₈₇*M₇₄ + M₉₄*M₈₉)))*(M₁₁*M₁₄ + M₁₁₀*M₁₀₄ + M₁₆*M₆₄ + M₁₇*M₇₄ + M₂₄*M₁₂ + M₃₄*M₁₃ + M₄₄*M₁₄ + M₅₄*M₁₅ + M₈₄*M₁₈ + M₉₄*M₁₉)"
      ]
     },
     "execution_count": 46,
     "metadata": {},
     "output_type": "execute_result"
    }
   ],
   "source": [
    "s[1, 1]"
   ]
  },
  {
   "cell_type": "code",
   "execution_count": 175,
   "metadata": {},
   "outputs": [
    {
     "data": {
      "text/plain": [
       "2×2 Array{IntervalArithmetic.Interval{Float64},2}:\n",
       " [1, 1]  [1, 1]\n",
       " [1, 1]  [1, 1]"
      ]
     },
     "execution_count": 175,
     "metadata": {},
     "output_type": "execute_result"
    }
   ],
   "source": [
    "import IntervalArithmetic\n",
    "const IA = IntervalArithmetic\n",
    "\n",
    "M = [IA.Interval(1) IA.Interval(1); IA.Interval(1) IA.Interval(1)]"
   ]
  },
  {
   "cell_type": "code",
   "execution_count": 176,
   "metadata": {},
   "outputs": [
    {
     "data": {
      "text/plain": [
       "2×2 Array{IntervalArithmetic.Interval{Float64},2}:\n",
       " [2, 2]  [2, 2]\n",
       " [2, 2]  [2, 2]"
      ]
     },
     "execution_count": 176,
     "metadata": {},
     "output_type": "execute_result"
    }
   ],
   "source": [
    "power(M, 2)"
   ]
  },
  {
   "cell_type": "code",
   "execution_count": 177,
   "metadata": {},
   "outputs": [
    {
     "data": {
      "text/plain": [
       "2×2 Array{IntervalArithmetic.Interval{Float64},2}:\n",
       " [2, 2]  [2, 2]\n",
       " [2, 2]  [2, 2]"
      ]
     },
     "execution_count": 177,
     "metadata": {},
     "output_type": "execute_result"
    }
   ],
   "source": [
    "M * M"
   ]
  },
  {
   "cell_type": "code",
   "execution_count": 178,
   "metadata": {},
   "outputs": [
    {
     "data": {
      "text/plain": [
       "2×2 Array{IntervalArithmetic.Interval{Float64},2}:\n",
       " [4, 4]  [4, 4]\n",
       " [4, 4]  [4, 4]"
      ]
     },
     "execution_count": 178,
     "metadata": {},
     "output_type": "execute_result"
    }
   ],
   "source": [
    "M * M * M"
   ]
  },
  {
   "cell_type": "code",
   "execution_count": 179,
   "metadata": {},
   "outputs": [
    {
     "data": {
      "text/plain": [
       "2×2 Array{IntervalArithmetic.Interval{Float64},2}:\n",
       " [4, 4]  [4, 4]\n",
       " [4, 4]  [4, 4]"
      ]
     },
     "execution_count": 179,
     "metadata": {},
     "output_type": "execute_result"
    }
   ],
   "source": [
    "power(M, 3)"
   ]
  },
  {
   "cell_type": "code",
   "execution_count": 168,
   "metadata": {},
   "outputs": [
    {
     "data": {
      "text/plain": [
       "2×2 Array{Basic,2}:\n",
       " M₁₁  M₁₂\n",
       " M₂₁  M₂₂"
      ]
     },
     "execution_count": 168,
     "metadata": {},
     "output_type": "execute_result"
    }
   ],
   "source": [
    "symbolic_matrix(2)"
   ]
  },
  {
   "cell_type": "code",
   "execution_count": 171,
   "metadata": {},
   "outputs": [
    {
     "data": {
      "text/plain": [
       "2×2 Array{IntervalArithmetic.Interval{Float64},2}:\n",
       " [1, 1]  [1, 1]\n",
       " [1, 1]  [1, 1]"
      ]
     },
     "execution_count": 171,
     "metadata": {},
     "output_type": "execute_result"
    }
   ],
   "source": [
    "M"
   ]
  },
  {
   "cell_type": "code",
   "execution_count": 174,
   "metadata": {},
   "outputs": [
    {
     "data": {
      "text/plain": [
       "10×10 Array{Expr,2}:\n",
       " :([-0.459084, 0.516727] * 1)    …  :([-1.73115, 0.755393] * 1) \n",
       " :([-0.497811, -0.0734267] * 1)     :([-0.103678, 0.850543] * 1)\n",
       " :([-1.71571, -0.367095] * 1)       :([-0.684736, 0.615602] * 1)\n",
       " :([-1.02058, -0.264541] * 1)       :([-1.47594, -0.521112] * 1)\n",
       " :([-1.57144, 0.779662] * 1)        :([-1.79572, -1.06507] * 1) \n",
       " :([-0.807405, 0.410766] * 1)    …  :([-1.44449, -0.68528] * 1) \n",
       " :([0.32996, 1.36626] * 1)          :([-2.20128, 1.96994] * 1)  \n",
       " :([-0.652974, 0.662499] * 1)       :([0.293158, 0.942785] * 1) \n",
       " :([-0.369247, -0.0909085] * 1)     :([0.108084, 2.34153] * 1)  \n",
       " :([-2.00558, -1.86023] * 1)        :([-1.53641, -0.159813] * 1)"
      ]
     },
     "execution_count": 174,
     "metadata": {},
     "output_type": "execute_result"
    }
   ],
   "source": [
    "Msym = symbolic_matrix(size(M, 1))\n",
    "X = Msym_eval(Msym, M, 2)\n",
    "#eval.(X)"
   ]
  },
  {
   "cell_type": "markdown",
   "metadata": {},
   "source": [
    "## Using DynamicPolynomials"
   ]
  },
  {
   "cell_type": "code",
   "execution_count": 1,
   "metadata": {},
   "outputs": [],
   "source": [
    "using DynamicPolynomials"
   ]
  },
  {
   "cell_type": "code",
   "execution_count": 4,
   "metadata": {},
   "outputs": [
    {
     "data": {
      "text/latex": [
       "$$ x $$"
      ],
      "text/plain": [
       "x"
      ]
     },
     "execution_count": 4,
     "metadata": {},
     "output_type": "execute_result"
    }
   ],
   "source": [
    "@polyvar x y\n",
    "p = 3x^2*y + x + 2y + 1\n",
    "p(x => 2, y => 1)\n",
    "subs(p, x => 2, y => 1)\n",
    "subs(p, y => x*y^2 + 1)\n",
    "q = x"
   ]
  },
  {
   "cell_type": "code",
   "execution_count": 10,
   "metadata": {},
   "outputs": [
    {
     "name": "stdout",
     "output_type": "stream",
     "text": [
      "typeof(p) = Polynomial{true,Int64}\n",
      "typeof(q) = PolyVar{true}\n"
     ]
    },
    {
     "data": {
      "text/plain": [
       "PolyVar{true}"
      ]
     },
     "execution_count": 10,
     "metadata": {},
     "output_type": "execute_result"
    }
   ],
   "source": [
    "@show typeof(p)\n",
    "@show typeof(q)"
   ]
  },
  {
   "cell_type": "code",
   "execution_count": 5,
   "metadata": {},
   "outputs": [
    {
     "data": {
      "text/latex": [
       "$$ 1.0 $$"
      ],
      "text/plain": [
       "1.0"
      ]
     },
     "execution_count": 5,
     "metadata": {},
     "output_type": "execute_result"
    }
   ],
   "source": [
    "subs(q, (x, y) => (1.0, 2.0))"
   ]
  },
  {
   "cell_type": "code",
   "execution_count": 7,
   "metadata": {},
   "outputs": [],
   "source": [
    "using IntervalMatrices"
   ]
  },
  {
   "cell_type": "code",
   "execution_count": 8,
   "metadata": {},
   "outputs": [
    {
     "data": {
      "text/plain": [
       "2×2 IntervalMatrix{Float64,Interval{Float64},Array{Interval{Float64},2}}:\n",
       " [-0.712703, -0.097526]  [-1.85231, -0.867406]\n",
       "  [0.230998, 0.513421]   [-1.11416, 1.27316]  "
      ]
     },
     "execution_count": 8,
     "metadata": {},
     "output_type": "execute_result"
    }
   ],
   "source": [
    "M1 = rand(IntervalMatrix, 2)"
   ]
  },
  {
   "cell_type": "code",
   "execution_count": 9,
   "metadata": {},
   "outputs": [
    {
     "data": {
      "text/plain": [
       "(PolyVar{true}[M₁₋₁ M₁₋₂; M₂₋₁ M₂₋₂],)"
      ]
     },
     "execution_count": 9,
     "metadata": {},
     "output_type": "execute_result"
    }
   ],
   "source": [
    "@polyvar M[1:2, 1:2]"
   ]
  },
  {
   "cell_type": "code",
   "execution_count": 11,
   "metadata": {},
   "outputs": [
    {
     "data": {
      "text/latex": [
       "$$ M_{1,1} $$"
      ],
      "text/plain": [
       "M₁₋₁"
      ]
     },
     "execution_count": 11,
     "metadata": {},
     "output_type": "execute_result"
    }
   ],
   "source": [
    "x11 = M[1, 1]"
   ]
  },
  {
   "cell_type": "code",
   "execution_count": 12,
   "metadata": {},
   "outputs": [
    {
     "name": "stdout",
     "output_type": "stream",
     "text": [
      "typeof(x11) = PolyVar{true}\n"
     ]
    },
    {
     "data": {
      "text/plain": [
       "PolyVar{true}"
      ]
     },
     "execution_count": 12,
     "metadata": {},
     "output_type": "execute_result"
    }
   ],
   "source": [
    "@show typeof(x11)"
   ]
  },
  {
   "cell_type": "code",
   "execution_count": 15,
   "metadata": {},
   "outputs": [
    {
     "data": {
      "text/plain": [
       "4-element Array{PolyVar{true},1}:\n",
       " M₁₋₁\n",
       " M₂₋₁\n",
       " M₁₋₂\n",
       " M₂₋₂"
      ]
     },
     "execution_count": 15,
     "metadata": {},
     "output_type": "execute_result"
    }
   ],
   "source": [
    "vars = vec(M) # column-major"
   ]
  },
  {
   "cell_type": "code",
   "execution_count": 17,
   "metadata": {},
   "outputs": [
    {
     "data": {
      "text/latex": [
       "$$ [-0.712703, -0.097526] $$"
      ],
      "text/plain": [
       "[-0.712703, -0.097526]"
      ]
     },
     "execution_count": 17,
     "metadata": {},
     "output_type": "execute_result"
    }
   ],
   "source": [
    "subs(x11, vars => (M1[1, 1], M1[2, 1], M1[1, 2], M1[2, 2]))"
   ]
  },
  {
   "cell_type": "code",
   "execution_count": 18,
   "metadata": {},
   "outputs": [
    {
     "data": {
      "text/plain": [
       "4-element reshape(::IntervalMatrix{Float64,Interval{Float64},Array{Interval{Float64},2}}, 4) with eltype Interval{Float64}:\n",
       " [-0.712703, -0.097526]\n",
       "  [0.230998, 0.513421] \n",
       " [-1.85231, -0.867406] \n",
       " [-1.11416, 1.27316]   "
      ]
     },
     "execution_count": 18,
     "metadata": {},
     "output_type": "execute_result"
    }
   ],
   "source": [
    "vec(M1)"
   ]
  },
  {
   "cell_type": "code",
   "execution_count": 45,
   "metadata": {},
   "outputs": [
    {
     "data": {
      "text/plain": [
       "2×2 Array{Polynomial{true,Interval{Float64}},2}:\n",
       " [-352.484, 352.895]  [-899.685, 898.902]\n",
       " [-249.157, 249.374]  [-631.895, 632.608]"
      ]
     },
     "execution_count": 45,
     "metadata": {},
     "output_type": "execute_result"
    }
   ],
   "source": [
    "map(x -> subs(x, vars => vec(M1)), M^10)"
   ]
  },
  {
   "cell_type": "code",
   "execution_count": 44,
   "metadata": {},
   "outputs": [
    {
     "data": {
      "text/plain": [
       "2×2 IntervalMatrix{Float64,Interval{Float64},Array{Interval{Float64},2}}:\n",
       " [-67125.3, 68540.1]  [-178530, 177656]\n",
       " [-51414.7, 50548]    [-133642, 134695]"
      ]
     },
     "execution_count": 44,
     "metadata": {},
     "output_type": "execute_result"
    }
   ],
   "source": [
    "M1^20"
   ]
  },
  {
   "cell_type": "code",
   "execution_count": 48,
   "metadata": {},
   "outputs": [
    {
     "data": {
      "text/latex": [
       "$$ M_{1,1}^{4} + 3M_{1,1}^{2}M_{2,1}M_{1,2} + 2M_{1,1}M_{2,1}M_{1,2}M_{2,2} + M_{2,1}^{2}M_{1,2}^{2} + M_{2,1}M_{1,2}M_{2,2}^{2} $$"
      ],
      "text/plain": [
       "M₁₋₁⁴ + 3M₁₋₁²M₂₋₁M₁₋₂ + 2M₁₋₁M₂₋₁M₁₋₂M₂₋₂ + M₂₋₁²M₁₋₂² + M₂₋₁M₁₋₂M₂₋₂²"
      ]
     },
     "execution_count": 48,
     "metadata": {},
     "output_type": "execute_result"
    }
   ],
   "source": [
    "(M^4)[1, 1]"
   ]
  },
  {
   "cell_type": "code",
   "execution_count": 51,
   "metadata": {},
   "outputs": [
    {
     "data": {
      "text/plain": [
       "2×2 Array{Basic,2}:\n",
       " M₁₁  M₁₂\n",
       " M₂₁  M₂₂"
      ]
     },
     "execution_count": 51,
     "metadata": {},
     "output_type": "execute_result"
    }
   ],
   "source": [
    "Msym2 = symbolic_matrix(2)"
   ]
  },
  {
   "cell_type": "code",
   "execution_count": 55,
   "metadata": {},
   "outputs": [
    {
     "data": {
      "text/plain": [
       "(M₂₁*M₁₁ + M₂₂*M₂₁)*(M₁₁*M₁₂ + M₂₂*M₁₂) + (M₂₁*M₁₂ + M₁₁^2)^2"
      ]
     },
     "execution_count": 55,
     "metadata": {},
     "output_type": "execute_result"
    }
   ],
   "source": [
    "(Msym2^4)[1, 1]"
   ]
  },
  {
   "cell_type": "code",
   "execution_count": 54,
   "metadata": {},
   "outputs": [],
   "source": [
    "using RangeEnclosures"
   ]
  },
  {
   "cell_type": "code",
   "execution_count": 56,
   "metadata": {},
   "outputs": [
    {
     "data": {
      "text/plain": [
       "f2 (generic function with 1 method)"
      ]
     },
     "execution_count": 56,
     "metadata": {},
     "output_type": "execute_result"
    }
   ],
   "source": [
    "f1(a, b, c, d) = (a+b)*(c+d)\n",
    "f2(a, b, c, d) = a*c + a*d + b*c + b*d"
   ]
  },
  {
   "cell_type": "code",
   "execution_count": 67,
   "metadata": {},
   "outputs": [
    {
     "name": "stdout",
     "output_type": "stream",
     "text": [
      "f1(vec(m)...) = [-5118.81, 274.585]\n",
      "f2(vec(m)...) = [-7846.5, 4264.12]\n"
     ]
    },
    {
     "data": {
      "text/plain": [
       "[-7846.5, 4264.12]"
      ]
     },
     "execution_count": 67,
     "metadata": {},
     "output_type": "execute_result"
    }
   ],
   "source": [
    "m = rand(IntervalMatrix, 2) * 100.\n",
    "@show f1(vec(m)...)\n",
    "@show f2(vec(m)...)"
   ]
  },
  {
   "cell_type": "code",
   "execution_count": 3,
   "metadata": {},
   "outputs": [],
   "source": [
    "using DynamicPolynomials"
   ]
  },
  {
   "cell_type": "code",
   "execution_count": 7,
   "metadata": {},
   "outputs": [
    {
     "data": {
      "text/plain": [
       "power_poly (generic function with 1 method)"
      ]
     },
     "execution_count": 7,
     "metadata": {},
     "output_type": "execute_result"
    }
   ],
   "source": [
    "# this function is fast, but it is not accurate because the polynomials are expanded..\n",
    "function power_poly(M::IntervalMatrix, k::Int)\n",
    "    n = size(M, 1)\n",
    "    @polyvar Msym[1:n, 1:n]\n",
    "    vars = vec(Msym) # symbolic variables, column-major\n",
    "    Msym_k = Msym^k # symbolic matrix multiplication\n",
    "    Mk = map(x -> subs(x, vars => vec(M)), Msym_k) # substitution of the intervals\n",
    "    return Mk\n",
    "end"
   ]
  },
  {
   "cell_type": "code",
   "execution_count": 8,
   "metadata": {},
   "outputs": [],
   "source": [
    "using IntervalMatrices"
   ]
  },
  {
   "cell_type": "code",
   "execution_count": 15,
   "metadata": {},
   "outputs": [
    {
     "data": {
      "text/plain": [
       "4×4 IntervalMatrix{Float64,Interval{Float64},Array{Interval{Float64},2}}:\n",
       " [-2.06418, 0.28004]     [0.133538, 0.184282]  …  [-1.65346, 0.620197]\n",
       " [-0.486594, 1.99605]   [-0.0623921, 1.38228]      [0.172319, 1.73795]\n",
       "  [0.0286521, 2.00274]   [0.470935, 0.63278]      [-1.98736, 1.5724]  \n",
       " [-0.835215, 0.41693]    [0.343641, 1.92403]      [-1.53953, 0.752324]"
      ]
     },
     "execution_count": 15,
     "metadata": {},
     "output_type": "execute_result"
    }
   ],
   "source": [
    "M1 = rand(IntervalMatrix, 4)"
   ]
  },
  {
   "cell_type": "code",
   "execution_count": 16,
   "metadata": {},
   "outputs": [
    {
     "data": {
      "text/plain": [
       "4×4 Array{Polynomial{true,Interval{Float64}},2}:\n",
       " [-1148.85, 975.212]  [-653.279, 725.053]  …  [-1299.1, 1108.56] \n",
       " [-1181.01, 1333.07]  [-819.645, 804.817]     [-1358.01, 1525.81]\n",
       " [-1262.22, 1300.77]  [-820.799, 820.509]     [-1405.01, 1429.12]\n",
       " [-1226.93, 1032.57]  [-666.814, 778.77]      [-1356.2, 1183.74] "
      ]
     },
     "execution_count": 16,
     "metadata": {},
     "output_type": "execute_result"
    }
   ],
   "source": [
    "power_poly(M1, 5)"
   ]
  },
  {
   "cell_type": "code",
   "execution_count": 17,
   "metadata": {},
   "outputs": [
    {
     "data": {
      "text/plain": [
       "4×4 IntervalMatrix{Float64,Interval{Float64},Array{Interval{Float64},2}}:\n",
       " [-917.559, 724.522]  [-502.431, 547.46]   …  [-1089.61, 828.373]\n",
       " [-910.449, 1074.81]  [-617.34, 635.531]      [-1056.38, 1264.53]\n",
       " [-928.45, 936.839]   [-587.213, 590.796]     [-1116.77, 1115.86]\n",
       " [-981.2, 754.851]    [-504.325, 580.29]      [-1141.95, 884.749]"
      ]
     },
     "execution_count": 17,
     "metadata": {},
     "output_type": "execute_result"
    }
   ],
   "source": [
    "M1^5"
   ]
  },
  {
   "cell_type": "code",
   "execution_count": null,
   "metadata": {},
   "outputs": [],
   "source": []
  },
  {
   "cell_type": "code",
   "execution_count": 18,
   "metadata": {},
   "outputs": [
    {
     "data": {
      "text/plain": [
       "(PolyVar{true}[M₁₋₁ M₁₋₂; M₂₋₁ M₂₋₂],)"
      ]
     },
     "execution_count": 18,
     "metadata": {},
     "output_type": "execute_result"
    }
   ],
   "source": [
    "@polyvar M[1:2, 1:2]"
   ]
  },
  {
   "cell_type": "code",
   "execution_count": 19,
   "metadata": {},
   "outputs": [
    {
     "data": {
      "text/plain": [
       "2×2 Array{Polynomial{true,Int64},2}:\n",
       " M₁₋₁³ + 2M₁₋₁M₂₋₁M₁₋₂ + M₂₋₁M₁₋₂M₂₋₂              …  M₁₋₁²M₁₋₂ + M₁₋₁M₁₋₂M₂₋₂ + M₂₋₁M₁₋₂² + M₁₋₂M₂₋₂²\n",
       " M₁₋₁²M₂₋₁ + M₁₋₁M₂₋₁M₂₋₂ + M₂₋₁²M₁₋₂ + M₂₋₁M₂₋₂²     M₁₋₁M₂₋₁M₁₋₂ + 2M₂₋₁M₁₋₂M₂₋₂ + M₂₋₂³            "
      ]
     },
     "execution_count": 19,
     "metadata": {},
     "output_type": "execute_result"
    }
   ],
   "source": [
    "M^3"
   ]
  },
  {
   "cell_type": "code",
   "execution_count": 112,
   "metadata": {},
   "outputs": [
    {
     "data": {
      "text/plain": [
       "2×2 Array{Basic,2}:\n",
       " (M₂₁*M₁₂ + M₁₁^2)*M₁₁ + (M₂₁*M₁₁ + M₂₂*M₂₁)*M₁₂  …  (M₁₁*M₁₂ + M₂₂*M₁₂)*M₁₁ + (M₂₁*M₁₂ + M₂₂^2)*M₁₂\n",
       " (M₂₁*M₁₂ + M₁₁^2)*M₂₁ + (M₂₁*M₁₁ + M₂₂*M₂₁)*M₂₂     (M₁₁*M₁₂ + M₂₂*M₁₂)*M₂₁ + (M₂₁*M₁₂ + M₂₂^2)*M₂₂"
      ]
     },
     "execution_count": 112,
     "metadata": {},
     "output_type": "execute_result"
    }
   ],
   "source": [
    "using SymEngine\n",
    "\n",
    "M = convert(Matrix{SymEngine.Basic}, [\"M₁₁\" \"M₁₂\"; \"M₂₁\" \"M₂₂\"])\n",
    "M^3"
   ]
  },
  {
   "cell_type": "code",
   "execution_count": 118,
   "metadata": {},
   "outputs": [
    {
     "data": {
      "text/plain": [
       "4×4 IntervalMatrix{Float64,Interval{Float64},Array{Interval{Float64},2}}:\n",
       "  [0.849004, 1.50965]  [-0.546152, 2.06405]   …  [-0.55587, 0.433497]  \n",
       "  [0.928679, 1.82312]  [-1.78799, -0.102206]     [-1.84175, 0.495191]  \n",
       " [-0.497742, 1.84193]   [0.350327, 1.32886]      [-0.633314, 0.034128] \n",
       " [-0.489613, 1.40617]  [-1.3845, 1.23307]        [-0.519603, -0.489382]"
      ]
     },
     "execution_count": 118,
     "metadata": {},
     "output_type": "execute_result"
    }
   ],
   "source": [
    "M = rand(IntervalMatrix, 4)"
   ]
  },
  {
   "cell_type": "code",
   "execution_count": 119,
   "metadata": {},
   "outputs": [
    {
     "data": {
      "text/plain": [
       "4×4 Array{Polynomial{true,Interval{Float64}},2}:\n",
       " [-1510.03, 1478.83]  [-1519.28, 1611.71]  …  [-867.099, 918.234]\n",
       " [-1305.15, 1377.49]  [-1507.4, 1304.16]      [-852.506, 755.951]\n",
       " [-1085.53, 1039.61]  [-1109.47, 1113.5]      [-621.779, 645.877]\n",
       " [-1169.95, 1186.09]  [-1245.61, 1184.96]     [-698.03, 674.458] "
      ]
     },
     "execution_count": 119,
     "metadata": {},
     "output_type": "execute_result"
    }
   ],
   "source": [
    "power_poly(M, 5)"
   ]
  },
  {
   "cell_type": "code",
   "execution_count": 120,
   "metadata": {},
   "outputs": [
    {
     "data": {
      "text/plain": [
       "4×4 IntervalMatrix{Float64,Interval{Float64},Array{Interval{Float64},2}}:\n",
       " [-1078.01, 1021.95]   [-1177.75, 1312.44]   …  [-674.571, 734.126]\n",
       "  [-880.018, 1009.2]   [-1291.71, 972.591]      [-718.419, 550.861]\n",
       "  [-744.809, 700.458]   [-883.578, 839.827]     [-476.614, 491.062]\n",
       "  [-706.803, 759.691]   [-942.293, 840.31]      [-533.817, 474.388]"
      ]
     },
     "execution_count": 120,
     "metadata": {},
     "output_type": "execute_result"
    }
   ],
   "source": [
    "M^5"
   ]
  },
  {
   "cell_type": "code",
   "execution_count": 122,
   "metadata": {},
   "outputs": [
    {
     "data": {
      "text/plain": [
       "4×4 Array{Interval{Float64},2}:\n",
       " [-1002.48, 1014.5]    [-1106.93, 1306.34]   …  [-670.278, 733.826]\n",
       "  [-787.329, 1009.2]   [-1290.5, 914.789]       [-718.419, 523.977]\n",
       "  [-650.697, 700.458]   [-839.796, 838.435]     [-476.614, 480.982]\n",
       "  [-636.449, 756.222]   [-939.826, 837.471]     [-531.82, 467.042] "
      ]
     },
     "execution_count": 122,
     "metadata": {},
     "output_type": "execute_result"
    }
   ],
   "source": [
    "power(M, 5)"
   ]
  },
  {
   "cell_type": "markdown",
   "metadata": {},
   "source": [
    "Now we try to use a custom `enclosure` method."
   ]
  },
  {
   "cell_type": "code",
   "execution_count": 216,
   "metadata": {},
   "outputs": [
    {
     "data": {
      "text/plain": [
       "2×2 IntervalMatrix{Float64,Interval{Float64},Array{Interval{Float64},2}}:\n",
       " [-1.40078, -1.37391]     [0.0107497, 0.111812]\n",
       " [-0.762167, -0.0171388]  [0.846548, 1.26318]  "
      ]
     },
     "execution_count": 216,
     "metadata": {},
     "output_type": "execute_result"
    }
   ],
   "source": [
    "M1 = rand(IntervalMatrix, 2)"
   ]
  },
  {
   "cell_type": "code",
   "execution_count": 218,
   "metadata": {},
   "outputs": [
    {
     "data": {
      "text/latex": [
       "$$ M_{1,1}^{2} + M_{2,1}M_{1,2} $$"
      ],
      "text/plain": [
       "M₁₋₁² + M₂₋₁M₁₋₂"
      ]
     },
     "execution_count": 218,
     "metadata": {},
     "output_type": "execute_result"
    }
   ],
   "source": [
    "n = size(M1, 1)\n",
    "@polyvar M[1:n, 1:n]\n",
    "vars = vec(M) # symbolic variables, column-major\n",
    "M_k = M^2 # symbolic matrix multiplication\n",
    "\n",
    "first(M_k)"
   ]
  },
  {
   "cell_type": "code",
   "execution_count": 158,
   "metadata": {},
   "outputs": [
    {
     "data": {
      "text/plain": [
       "g (generic function with 2 methods)"
      ]
     },
     "execution_count": 158,
     "metadata": {},
     "output_type": "execute_result"
    }
   ],
   "source": [
    "g(y...) = map(x -> subs(x, vars => y), M_k) # substitution of the intervals"
   ]
  },
  {
   "cell_type": "code",
   "execution_count": 159,
   "metadata": {},
   "outputs": [
    {
     "data": {
      "text/plain": [
       "4×4 Array{Polynomial{true,Interval{Float64}},2}:\n",
       " [-198.441, 205.685]  [-191.579, 177.677]  …  [-232.208, 249.958]\n",
       " [-210.237, 214.553]  [-205.626, 195.826]     [-235.144, 277.387]\n",
       " [-371.056, 360.264]  [-334.639, 364.397]     [-492.446, 386.658]\n",
       " [-185.137, 170.358]  [-180.435, 160.059]     [-208.805, 220.849]"
      ]
     },
     "execution_count": 159,
     "metadata": {},
     "output_type": "execute_result"
    }
   ],
   "source": [
    "g(vec(M1))"
   ]
  },
  {
   "cell_type": "code",
   "execution_count": 160,
   "metadata": {},
   "outputs": [
    {
     "data": {
      "text/plain": [
       "4×4 Array{Polynomial{true,Interval{Float64}},2}:\n",
       " [-192.643, 201.562]  [-187.706, 170.888]  …  [-225.493, 243.125]\n",
       " [-209.948, 211.549]  [-204.051, 189.616]     [-231.594, 276.034]\n",
       " [-364.744, 354.939]  [-330.018, 359.872]     [-488.959, 375.559]\n",
       " [-182.609, 166.966]  [-174.87, 157.914]      [-205.66, 216.483] "
      ]
     },
     "execution_count": 160,
     "metadata": {},
     "output_type": "execute_result"
    }
   ],
   "source": [
    "enclose(g, IntervalBox(vec(M1)), :IntervalArithmetic)"
   ]
  },
  {
   "cell_type": "code",
   "execution_count": 161,
   "metadata": {},
   "outputs": [
    {
     "data": {
      "text/plain": [
       "4×4 IntervalMatrix{Float64,Interval{Float64},Array{Interval{Float64},2}}:\n",
       " [-114.147, 134.769]  [-164.796, 139.332]  …  [-180.581, 209.896]\n",
       " [-131.528, 144.432]  [-174.002, 163.789]     [-186.378, 240.498]\n",
       " [-261.472, 227.391]  [-277.128, 310.477]     [-429.317, 287.814]\n",
       " [-122.724, 111.873]  [-156.787, 131.159]     [-169.925, 186.545]"
      ]
     },
     "execution_count": 161,
     "metadata": {},
     "output_type": "execute_result"
    }
   ],
   "source": [
    "M1^5"
   ]
  },
  {
   "cell_type": "code",
   "execution_count": 162,
   "metadata": {},
   "outputs": [
    {
     "data": {
      "text/plain": [
       "4×4 Array{Interval{Float64},2}:\n",
       " [-109.348, 134.769]  [-164.796, 135.29]   …  [-180.581, 205.903]\n",
       " [-131.528, 138.896]  [-174.002, 158.906]     [-179.267, 240.498]\n",
       " [-255.318, 227.391]  [-270.603, 310.477]     [-429.317, 270.095]\n",
       " [-122.724, 107.632]  [-156.787, 131.159]     [-168.616, 174.126]"
      ]
     },
     "execution_count": 162,
     "metadata": {},
     "output_type": "execute_result"
    }
   ],
   "source": [
    "power(M1, 5)"
   ]
  },
  {
   "cell_type": "code",
   "execution_count": 183,
   "metadata": {},
   "outputs": [],
   "source": [
    "# required \n",
    "MultivariatePolynomials.coefficienttype(::Type{Interval{Float64}}) = Interval{Float64}\n",
    "MultivariatePolynomials.coefficienttype(::Type{AFF{16,Float64}}) = AFF{16,Float64}\n",
    "Base.zero(::Type{AFF{16,Float64}}) = "
   ]
  },
  {
   "cell_type": "code",
   "execution_count": 186,
   "metadata": {},
   "outputs": [
    {
     "name": "stdout",
     "output_type": "stream",
     "text": [
      "search: \u001b[0m\u001b[1mA\u001b[22m\u001b[0m\u001b[1mF\u001b[22m\u001b[0m\u001b[1mF\u001b[22m \u001b[0m\u001b[1mA\u001b[22m\u001b[0m\u001b[1mf\u001b[22m\u001b[0m\u001b[1mf\u001b[22mine \u001b[0m\u001b[1mA\u001b[22m\u001b[0m\u001b[1mf\u001b[22m\u001b[0m\u001b[1mf\u001b[22mExpr \u001b[0m\u001b[1mA\u001b[22m\u001b[0m\u001b[1mf\u001b[22m\u001b[0m\u001b[1mf\u001b[22mineArithmetic reset_\u001b[0m\u001b[1ma\u001b[22m\u001b[0m\u001b[1mf\u001b[22m\u001b[0m\u001b[1mf\u001b[22mine_index Generic\u001b[0m\u001b[1mA\u001b[22m\u001b[0m\u001b[1mf\u001b[22m\u001b[0m\u001b[1mf\u001b[22mExpr\n",
      "\n"
     ]
    },
    {
     "data": {
      "text/latex": [
       "Affine form with center \\texttt{c}, affine components \\texttt{γ} and error \\texttt{Δ}.\n",
       "\n",
       "Variant where Δ is an interval\n",
       "\n",
       "\\rule{\\textwidth}{1pt}\n",
       "Make an \\texttt{AF} based on an interval, which is number \\texttt{i} of \\texttt{n} total variables.\n",
       "\n"
      ],
      "text/markdown": [
       "Affine form with center `c`, affine components `γ` and error `Δ`.\n",
       "\n",
       "Variant where Δ is an interval\n",
       "\n",
       "---\n",
       "\n",
       "Make an `AF` based on an interval, which is number `i` of `n` total variables.\n"
      ],
      "text/plain": [
       "  Affine form with center \u001b[36mc\u001b[39m, affine components \u001b[36mγ\u001b[39m and error \u001b[36mΔ\u001b[39m.\n",
       "\n",
       "  Variant where Δ is an interval\n",
       "\n",
       "  ────────────────────────────────────────────────────────────────────────────\n",
       "\n",
       "  Make an \u001b[36mAF\u001b[39m based on an interval, which is number \u001b[36mi\u001b[39m of \u001b[36mn\u001b[39m total variables."
      ]
     },
     "execution_count": 186,
     "metadata": {},
     "output_type": "execute_result"
    }
   ],
   "source": [
    "AFF()"
   ]
  },
  {
   "cell_type": "code",
   "execution_count": 166,
   "metadata": {},
   "outputs": [
    {
     "data": {
      "text/plain": [
       "h (generic function with 1 method)"
      ]
     },
     "execution_count": 166,
     "metadata": {},
     "output_type": "execute_result"
    }
   ],
   "source": [
    "h(y...) = subs(M_k[1, 1], vars => y)"
   ]
  },
  {
   "cell_type": "code",
   "execution_count": 203,
   "metadata": {},
   "outputs": [
    {
     "data": {
      "text/plain": [
       "hh (generic function with 2 methods)"
      ]
     },
     "execution_count": 203,
     "metadata": {},
     "output_type": "execute_result"
    }
   ],
   "source": [
    "function hh(y...)\n",
    "    ans = subs(M_k[1, 1], vars => y)\n",
    "    return M\n",
    "end"
   ]
  },
  {
   "cell_type": "code",
   "execution_count": 179,
   "metadata": {},
   "outputs": [
    {
     "name": "stderr",
     "output_type": "stream",
     "text": [
      "┌ Info: Recompiling stale cache file /home/mforets/.julia/compiled/v1.2/AffineArithmetic/vTkSy.ji for AffineArithmetic [2e89c364-fad6-56cb-99bd-ebadcd2cf8d2]\n",
      "└ @ Base loading.jl:1240\n"
     ]
    }
   ],
   "source": [
    "using AffineArithmetic"
   ]
  },
  {
   "cell_type": "code",
   "execution_count": 198,
   "metadata": {},
   "outputs": [
    {
     "name": "stdout",
     "output_type": "stream",
     "text": [
      "Polynomial{true,Interval{Float64}}\n"
     ]
    },
    {
     "data": {
      "text/latex": [
       "$$ [-192.643, 201.562] $$"
      ],
      "text/plain": [
       "[-192.643, 201.562]"
      ]
     },
     "execution_count": 198,
     "metadata": {},
     "output_type": "execute_result"
    }
   ],
   "source": [
    "x = hh(IntervalBox(vec(M1))...)"
   ]
  },
  {
   "cell_type": "code",
   "execution_count": 213,
   "metadata": {},
   "outputs": [
    {
     "ename": "MethodError",
     "evalue": "MethodError: no method matching zero(::Type{AFF{16,Float64}})\nClosest candidates are:\n  zero(!Matched::Type{Missing}) at missing.jl:82\n  zero(!Matched::Type{LibGit2.GitHash}) at /buildworker/worker/package_linux64/build/usr/share/julia/stdlib/v1.2/LibGit2/src/oid.jl:220\n  zero(!Matched::Type{Pkg.Resolve.VersionWeights.VersionWeight}) at /buildworker/worker/package_linux64/build/usr/share/julia/stdlib/v1.2/Pkg/src/resolve/VersionWeights.jl:19\n  ...",
     "output_type": "error",
     "traceback": [
      "MethodError: no method matching zero(::Type{AFF{16,Float64}})\nClosest candidates are:\n  zero(!Matched::Type{Missing}) at missing.jl:82\n  zero(!Matched::Type{LibGit2.GitHash}) at /buildworker/worker/package_linux64/build/usr/share/julia/stdlib/v1.2/LibGit2/src/oid.jl:220\n  zero(!Matched::Type{Pkg.Resolve.VersionWeights.VersionWeight}) at /buildworker/worker/package_linux64/build/usr/share/julia/stdlib/v1.2/Pkg/src/resolve/VersionWeights.jl:19\n  ...",
      "",
      "Stacktrace:",
      " [1] promote_operation(::typeof(*), ::Type, ::Type) at /home/mforets/.julia/packages/MutableArithmetics/hS4h3/src/interface.jl:21",
      " [2] _subs(::MultivariatePolynomials.Subs, ::Polynomial{true,Int64}, ::Array{AFF{16,Float64},1}) at /home/mforets/.julia/packages/DynamicPolynomials/xbijQ/src/subs.jl:89",
      " [3] substitute(::MultivariatePolynomials.Subs, ::Polynomial{true,Int64}, ::Tuple{Pair{Array{PolyVar{true},1},NTuple{16,AFF{16,Float64}}}}) at /home/mforets/.julia/packages/DynamicPolynomials/xbijQ/src/subs.jl:98",
      " [4] subs(::Polynomial{true,Int64}, ::Pair{Array{PolyVar{true},1},NTuple{16,AFF{16,Float64}}}) at /home/mforets/.julia/packages/MultivariatePolynomials/Mpv8c/src/substitution.jl:113",
      " [5] hh(::AFF{16,Float64}, ::AFF{16,Float64}, ::Vararg{AFF{16,Float64},N} where N) at ./In[203]:2",
      " [6] _enclose_AffineArithmetic(::Function, ::IntervalBox{16,Float64}) at /home/mforets/.julia/dev/RangeEnclosures/src/affine.jl:42",
      " [7] enclose_AffineArithmetic at /home/mforets/.julia/dev/RangeEnclosures/src/affine.jl:30 [inlined]",
      " [8] #enclose#32(::Base.Iterators.Pairs{Union{},Union{},Tuple{},NamedTuple{(),Tuple{}}}, ::typeof(enclose), ::Function, ::IntervalBox{16,Float64}, ::Symbol) at /home/mforets/.julia/dev/RangeEnclosures/src/enclose.jl:113",
      " [9] enclose(::Function, ::IntervalBox{16,Float64}, ::Symbol) at /home/mforets/.julia/dev/RangeEnclosures/src/enclose.jl:60",
      " [10] top-level scope at In[213]:1"
     ]
    }
   ],
   "source": [
    "enclose(hh, IntervalBox(vec(M1)), :AffineArithmetic)"
   ]
  },
  {
   "cell_type": "code",
   "execution_count": 222,
   "metadata": {},
   "outputs": [
    {
     "data": {
      "text/plain": [
       "2×2 Array{Polynomial{true,Int64},2}:\n",
       " M₁₋₁² + M₂₋₁M₁₋₂     M₁₋₁M₁₋₂ + M₁₋₂M₂₋₂\n",
       " M₁₋₁M₂₋₁ + M₂₋₁M₂₋₂  M₂₋₁M₁₋₂ + M₂₋₂²   "
      ]
     },
     "execution_count": 222,
     "metadata": {},
     "output_type": "execute_result"
    }
   ],
   "source": [
    "M_k"
   ]
  },
  {
   "cell_type": "code",
   "execution_count": 221,
   "metadata": {},
   "outputs": [
    {
     "data": {
      "text/plain": [
       "2×2 Array{PolyVar{true},2}:\n",
       " M₁₋₁  M₁₋₂\n",
       " M₂₋₁  M₂₋₂"
      ]
     },
     "execution_count": 221,
     "metadata": {},
     "output_type": "execute_result"
    }
   ],
   "source": [
    "M"
   ]
  },
  {
   "cell_type": "code",
   "execution_count": 223,
   "metadata": {},
   "outputs": [
    {
     "data": {
      "text/plain": [
       "2×2 IntervalMatrix{Float64,Interval{Float64},Array{Interval{Float64},2}}:\n",
       " [-1.40078, -1.37391]     [0.0107497, 0.111812]\n",
       " [-0.762167, -0.0171388]  [0.846548, 1.26318]  "
      ]
     },
     "execution_count": 223,
     "metadata": {},
     "output_type": "execute_result"
    }
   ],
   "source": [
    "M1"
   ]
  },
  {
   "cell_type": "code",
   "execution_count": 228,
   "metadata": {},
   "outputs": [
    {
     "data": {
      "text/plain": [
       "2×2 IntervalMatrix{Float64,Interval{Float64},Array{Interval{Float64},2}}:\n",
       "  [1.80243, 1.96198]   [-0.147523, 0.12647]\n",
       " [-0.939206, 1.05312]   [0.631424, 1.59544]"
      ]
     },
     "execution_count": 228,
     "metadata": {},
     "output_type": "execute_result"
    }
   ],
   "source": [
    "M1 * M1"
   ]
  },
  {
   "cell_type": "code",
   "execution_count": 236,
   "metadata": {},
   "outputs": [
    {
     "data": {
      "text/plain": [
       "Float64"
      ]
     },
     "execution_count": 236,
     "metadata": {},
     "output_type": "execute_result"
    }
   ],
   "source": [
    "typeof(subs(M_k[1,1], vars=>(1.0, 1.0, 2.0, 3.0)).a[1])"
   ]
  },
  {
   "cell_type": "code",
   "execution_count": 242,
   "metadata": {},
   "outputs": [
    {
     "data": {
      "text/plain": [
       "[1.80243, 1.96198]"
      ]
     },
     "execution_count": 242,
     "metadata": {},
     "output_type": "execute_result"
    }
   ],
   "source": [
    "enclose((y...) -> subs(M_k[1, 1], vars => y).a[1], IntervalBox(vec(M1)), :IntervalArithmetic)"
   ]
  },
  {
   "cell_type": "code",
   "execution_count": 245,
   "metadata": {},
   "outputs": [
    {
     "ename": "InterruptException",
     "evalue": "InterruptException:",
     "output_type": "error",
     "traceback": [
      "InterruptException:",
      "",
      "Stacktrace:",
      " [1] heaping(::Array{Tuple{IntervalBox{4,Float64},Float64},1}, ::Function) at /home/mforets/.julia/packages/IntervalOptimisation/ROc9V/src/HeapedVectors.jl:28",
      " [2] filter_elements!(::IntervalOptimisation.HeapedVectors.HeapedVector{Tuple{IntervalBox{4,Float64},Float64},getfield(IntervalOptimisation, Symbol(\"##2#3\"))}, ::Tuple{IntervalBox{4,Float64},Float64}) at /home/mforets/.julia/packages/IntervalOptimisation/ROc9V/src/HeapedVectors.jl:102",
      " [3] #minimise#1(::Type, ::Float64, ::typeof(IntervalOptimisation.minimise), ::getfield(RangeEnclosures, Symbol(\"##2#3\")){getfield(Main, Symbol(\"##82#83\"))}, ::IntervalBox{4,Float64}) at /home/mforets/.julia/packages/IntervalOptimisation/ROc9V/src/optimise.jl:47",
      " [4] (::getfield(IntervalOptimisation, Symbol(\"#kw##minimise\")))(::NamedTuple{(:structure, :tol),Tuple{UnionAll,Float64}}, ::typeof(IntervalOptimisation.minimise), ::Function, ::IntervalBox{4,Float64}) at ./none:0",
      " [5] _range_and_optimisers at /home/mforets/.julia/dev/RangeEnclosures/src/intervals.jl:85 [inlined]",
      " [6] #range_and_optimisers#1 at /home/mforets/.julia/dev/RangeEnclosures/src/intervals.jl:76 [inlined]",
      " [7] (::getfield(RangeEnclosures, Symbol(\"#kw##range_and_optimisers\")))(::NamedTuple{(:structure, :tol),Tuple{UnionAll,Float64}}, ::typeof(RangeEnclosures.range_and_optimisers), ::Function, ::IntervalBox{4,Float64}) at ./none:0",
      " [8] #enclose_IntervalOptimisation#4(::Type, ::Float64, ::typeof(RangeEnclosures.enclose_IntervalOptimisation), ::Function, ::IntervalBox{4,Float64}) at /home/mforets/.julia/dev/RangeEnclosures/src/intervals.jl:126",
      " [9] #enclose_IntervalOptimisation at ./none:0 [inlined]",
      " [10] #enclose#32(::Base.Iterators.Pairs{Union{},Union{},Tuple{},NamedTuple{(),Tuple{}}}, ::typeof(enclose), ::Function, ::IntervalBox{4,Float64}, ::Symbol) at /home/mforets/.julia/dev/RangeEnclosures/src/enclose.jl:79",
      " [11] enclose(::Function, ::IntervalBox{4,Float64}, ::Symbol) at /home/mforets/.julia/dev/RangeEnclosures/src/enclose.jl:60",
      " [12] top-level scope at In[245]:1"
     ]
    }
   ],
   "source": [
    "enclose((y...) -> subs(M_k[1, 1], vars => y).a[1], IntervalBox(vec(M1)), :IntervalOptimisation)"
   ]
  },
  {
   "cell_type": "code",
   "execution_count": 246,
   "metadata": {},
   "outputs": [
    {
     "ename": "MethodError",
     "evalue": "MethodError: no method matching one(::Type{Any})\nClosest candidates are:\n  one(::Type{Union{Missing, T}}) where T at missing.jl:84\n  one(!Matched::Type{Missing}) at missing.jl:82\n  one(!Matched::BitArray{2}) at bitarray.jl:400\n  ...",
     "output_type": "error",
     "traceback": [
      "MethodError: no method matching one(::Type{Any})\nClosest candidates are:\n  one(::Type{Union{Missing, T}}) where T at missing.jl:84\n  one(!Matched::Type{Missing}) at missing.jl:82\n  one(!Matched::BitArray{2}) at bitarray.jl:400\n  ...",
      "",
      "Stacktrace:",
      " [1] one(::Type{Any}) at ./missing.jl:84",
      " [2] convert(::Type{Term{true,Any}}, ::Monomial{true}) at /home/mforets/.julia/packages/DynamicPolynomials/xbijQ/src/term.jl:17",
      " [3] convert(::Type{Term{true,Any}}, ::PolyVar{true}) at /home/mforets/.julia/packages/DynamicPolynomials/xbijQ/src/term.jl:23",
      " [4] setindex!(::Array{Term{true,Any},1}, ::PolyVar{true}, ::Int64) at ./array.jl:766",
      " [5] copyto!(::Array{Term{true,Any},1}, ::Int64, ::Array{PolyVar{true},1}, ::Int64, ::Int64) at ./abstractarray.jl:842",
      " [6] _subsmap(::MultivariatePolynomials.Subs, ::Array{PolyVar{true},1}, ::Tuple{Pair{Array{PolyVar{true},1},NTuple{4,AFF{4,Float64}}}}) at ./array.jl:895",
      " [7] subsmap(::MultivariatePolynomials.Subs, ::Array{PolyVar{true},1}, ::Tuple{Pair{Array{PolyVar{true},1},NTuple{4,AFF{4,Float64}}}}) at /home/mforets/.julia/packages/DynamicPolynomials/xbijQ/src/subs.jl:59",
      " [8] substitute(::MultivariatePolynomials.Subs, ::Polynomial{true,Int64}, ::Tuple{Pair{Array{PolyVar{true},1},NTuple{4,AFF{4,Float64}}}}) at /home/mforets/.julia/packages/DynamicPolynomials/xbijQ/src/subs.jl:98",
      " [9] subs(::Polynomial{true,Int64}, ::Pair{Array{PolyVar{true},1},NTuple{4,AFF{4,Float64}}}) at /home/mforets/.julia/packages/MultivariatePolynomials/Mpv8c/src/substitution.jl:113",
      " [10] (::getfield(Main, Symbol(\"##84#85\")))(::AFF{4,Float64}, ::Vararg{AFF{4,Float64},N} where N) at ./In[246]:1",
      " [11] _enclose_AffineArithmetic(::Function, ::IntervalBox{4,Float64}) at /home/mforets/.julia/dev/RangeEnclosures/src/affine.jl:42",
      " [12] enclose_AffineArithmetic at /home/mforets/.julia/dev/RangeEnclosures/src/affine.jl:30 [inlined]",
      " [13] #enclose#32(::Base.Iterators.Pairs{Union{},Union{},Tuple{},NamedTuple{(),Tuple{}}}, ::typeof(enclose), ::Function, ::IntervalBox{4,Float64}, ::Symbol) at /home/mforets/.julia/dev/RangeEnclosures/src/enclose.jl:113",
      " [14] enclose(::Function, ::IntervalBox{4,Float64}, ::Symbol) at /home/mforets/.julia/dev/RangeEnclosures/src/enclose.jl:60",
      " [15] top-level scope at In[246]:1"
     ]
    }
   ],
   "source": [
    "enclose((y...) -> subs(M_k[1, 1], vars => y).a[1], IntervalBox(vec(M1)), :AffineArithmetic)"
   ]
  },
  {
   "cell_type": "code",
   "execution_count": 265,
   "metadata": {},
   "outputs": [
    {
     "ename": "MethodError",
     "evalue": "MethodError: no method matching (::getfield(Main, Symbol(\"##108#109\")))(::TaylorModels.TaylorModelN{4,Interval{Float64},Float64}, ::TaylorModels.TaylorModelN{4,Interval{Float64},Float64}, ::TaylorModels.TaylorModelN{4,Interval{Float64},Float64}, ::TaylorModels.TaylorModelN{4,Interval{Float64},Float64})\nClosest candidates are:\n  #108(::Any) at In[265]:2",
     "output_type": "error",
     "traceback": [
      "MethodError: no method matching (::getfield(Main, Symbol(\"##108#109\")))(::TaylorModels.TaylorModelN{4,Interval{Float64},Float64}, ::TaylorModels.TaylorModelN{4,Interval{Float64},Float64}, ::TaylorModels.TaylorModelN{4,Interval{Float64},Float64}, ::TaylorModels.TaylorModelN{4,Interval{Float64},Float64})\nClosest candidates are:\n  #108(::Any) at In[265]:2",
      "",
      "Stacktrace:",
      " [1] _enclose_TaylorModels_norm(::Function, ::IntervalBox{4,Float64}, ::Int64) at /home/mforets/.julia/dev/RangeEnclosures/src/taylormodels.jl:82",
      " [2] #enclose_TaylorModels#5 at /home/mforets/.julia/dev/RangeEnclosures/src/taylormodels.jl:41 [inlined]",
      " [3] #enclose_TaylorModels at ./none:0 [inlined]",
      " [4] #enclose#32(::Base.Iterators.Pairs{Union{},Union{},Tuple{},NamedTuple{(),Tuple{}}}, ::typeof(enclose), ::Function, ::IntervalBox{4,Float64}, ::Symbol) at /home/mforets/.julia/dev/RangeEnclosures/src/enclose.jl:87",
      " [5] enclose(::Function, ::IntervalBox{4,Float64}, ::Symbol) at /home/mforets/.julia/dev/RangeEnclosures/src/enclose.jl:60",
      " [6] top-level scope at In[265]:2"
     ]
    }
   ],
   "source": [
    "ttt(y) = y -> subs(M_k[1, 1], vars => y).a[1]\n",
    "enclose(x -> ttt(x...), IntervalBox(vec(M1)), :TaylorModels)"
   ]
  },
  {
   "cell_type": "code",
   "execution_count": 266,
   "metadata": {},
   "outputs": [
    {
     "data": {
      "text/plain": [
       "#110 (generic function with 1 method)"
      ]
     },
     "execution_count": 266,
     "metadata": {},
     "output_type": "execute_result"
    }
   ],
   "source": [
    "func2 = y -> subs(M_k[1, 1], vars => y).a[1]"
   ]
  },
  {
   "cell_type": "code",
   "execution_count": 270,
   "metadata": {},
   "outputs": [
    {
     "data": {
      "text/plain": [
       "0.9626987464579029"
      ]
     },
     "execution_count": 270,
     "metadata": {},
     "output_type": "execute_result"
    }
   ],
   "source": [
    "func2(rand(5))"
   ]
  },
  {
   "cell_type": "code",
   "execution_count": 271,
   "metadata": {},
   "outputs": [
    {
     "ename": "MethodError",
     "evalue": "MethodError: no method matching (::getfield(Main, Symbol(\"##110#111\")))(::TaylorModels.TaylorModelN{4,Interval{Float64},Float64}, ::TaylorModels.TaylorModelN{4,Interval{Float64},Float64}, ::TaylorModels.TaylorModelN{4,Interval{Float64},Float64}, ::TaylorModels.TaylorModelN{4,Interval{Float64},Float64})\nClosest candidates are:\n  #110(::Any) at In[266]:1",
     "output_type": "error",
     "traceback": [
      "MethodError: no method matching (::getfield(Main, Symbol(\"##110#111\")))(::TaylorModels.TaylorModelN{4,Interval{Float64},Float64}, ::TaylorModels.TaylorModelN{4,Interval{Float64},Float64}, ::TaylorModels.TaylorModelN{4,Interval{Float64},Float64}, ::TaylorModels.TaylorModelN{4,Interval{Float64},Float64})\nClosest candidates are:\n  #110(::Any) at In[266]:1",
      "",
      "Stacktrace:",
      " [1] _enclose_TaylorModels_norm(::Function, ::IntervalBox{4,Float64}, ::Int64) at /home/mforets/.julia/dev/RangeEnclosures/src/taylormodels.jl:82",
      " [2] #enclose_TaylorModels#5 at /home/mforets/.julia/dev/RangeEnclosures/src/taylormodels.jl:41 [inlined]",
      " [3] #enclose_TaylorModels at ./none:0 [inlined]",
      " [4] #enclose#32(::Base.Iterators.Pairs{Union{},Union{},Tuple{},NamedTuple{(),Tuple{}}}, ::typeof(enclose), ::Function, ::IntervalBox{4,Float64}, ::Symbol) at /home/mforets/.julia/dev/RangeEnclosures/src/enclose.jl:87",
      " [5] enclose(::Function, ::IntervalBox{4,Float64}, ::Symbol) at /home/mforets/.julia/dev/RangeEnclosures/src/enclose.jl:60",
      " [6] top-level scope at In[271]:1"
     ]
    }
   ],
   "source": [
    "enclose(func2, IntervalBox(vec(M1)), :TaylorModels)"
   ]
  },
  {
   "cell_type": "code",
   "execution_count": 272,
   "metadata": {},
   "outputs": [
    {
     "data": {
      "text/plain": [
       "0.4320403902346658"
      ]
     },
     "execution_count": 272,
     "metadata": {},
     "output_type": "execute_result"
    }
   ],
   "source": [
    "func2(rand(4))"
   ]
  },
  {
   "cell_type": "code",
   "execution_count": 278,
   "metadata": {},
   "outputs": [
    {
     "data": {
      "text/plain": [
       "4-element Array{TaylorN{Float64},1}:\n",
       "  1.0 x₁ + 𝒪(‖x‖²¹)\n",
       "  1.0 x₂ + 𝒪(‖x‖²¹)\n",
       "  1.0 x₃ + 𝒪(‖x‖²¹)\n",
       "  1.0 x₄ + 𝒪(‖x‖²¹)"
      ]
     },
     "execution_count": 278,
     "metadata": {},
     "output_type": "execute_result"
    }
   ],
   "source": [
    "using TaylorModels\n",
    "\n",
    "using RangeEnclosures: zeroBox, symBox\n",
    "\n",
    "order = 10\n",
    "N = 4\n",
    "dom = IntervalBox(vec(M1))\n",
    "x0 = mid(dom)\n",
    "set_variables(Float64, \"x\", order=2order, numvars=N)"
   ]
  },
  {
   "cell_type": "code",
   "execution_count": 279,
   "metadata": {},
   "outputs": [
    {
     "data": {
      "text/plain": [
       "[-1, 1] × [-1, 1] × [-1, 1] × [-1, 1]"
      ]
     },
     "execution_count": 279,
     "metadata": {},
     "output_type": "execute_result"
    }
   ],
   "source": [
    "zBoxN = zeroBox(N)\n",
    "sBoxN = symBox(N)"
   ]
  },
  {
   "cell_type": "code",
   "execution_count": 280,
   "metadata": {},
   "outputs": [
    {
     "data": {
      "text/plain": [
       "4-element Array{TaylorModelN{4,Interval{Float64},Float64},1}:\n",
       "    [-1.38735, -1.38734] + [1, 1] x₁ + [0, 0]\n",
       "  [-0.389653, -0.389652] + [1, 1] x₂ + [0, 0]\n",
       "  [0.0612808, 0.0612809] + [1, 1] x₃ + [0, 0]\n",
       "      [1.05486, 1.05487] + [1, 1] x₄ + [0, 0]"
      ]
     },
     "execution_count": 280,
     "metadata": {},
     "output_type": "execute_result"
    }
   ],
   "source": [
    "x = [TaylorModelN(i, order, IntervalBox(x0), dom) for i=1:N]"
   ]
  },
  {
   "cell_type": "code",
   "execution_count": 281,
   "metadata": {},
   "outputs": [
    {
     "data": {
      "text/plain": [
       "4-element Array{TaylorN{Interval{Float64}},1}:\n",
       "   [-1.38735, -1.38734] + [0.0134256, 0.0134257] x₁ + 𝒪(‖x‖¹¹)\n",
       "   [-0.389653, -0.389652] + [0.372513, 0.372514] x₂ + 𝒪(‖x‖¹¹)\n",
       "  [0.0612808, 0.0612809] + [0.050531, 0.0505311] x₃ + 𝒪(‖x‖¹¹)\n",
       "       [1.05486, 1.05487] + [0.208315, 0.208316] x₄ + 𝒪(‖x‖¹¹)"
      ]
     },
     "execution_count": 281,
     "metadata": {},
     "output_type": "execute_result"
    }
   ],
   "source": [
    "xnorm = [normalize_taylor(xi.pol, dom - x0, true) for xi in x]"
   ]
  },
  {
   "cell_type": "code",
   "execution_count": 282,
   "metadata": {},
   "outputs": [
    {
     "data": {
      "text/plain": [
       "4-element Array{TaylorModelN{4,Interval{Float64},Float64},1}:\n",
       "   [-1.38735, -1.38734] + [0.0134256, 0.0134257] x₁ + [0, 0]\n",
       "   [-0.389653, -0.389652] + [0.372513, 0.372514] x₂ + [0, 0]\n",
       "  [0.0612808, 0.0612809] + [0.050531, 0.0505311] x₃ + [0, 0]\n",
       "       [1.05486, 1.05487] + [0.208315, 0.208316] x₄ + [0, 0]"
      ]
     },
     "execution_count": 282,
     "metadata": {},
     "output_type": "execute_result"
    }
   ],
   "source": [
    "xnormTM = [TaylorModelN(xi_norm, 0..0, zBoxN, sBoxN) for xi_norm in xnorm]"
   ]
  },
  {
   "cell_type": "code",
   "execution_count": 283,
   "metadata": {},
   "outputs": [
    {
     "ename": "MethodError",
     "evalue": "MethodError: no method matching f(::TaylorModelN{4,Interval{Float64},Float64}, ::TaylorModelN{4,Interval{Float64},Float64}, ::TaylorModelN{4,Interval{Float64},Float64}, ::TaylorModelN{4,Interval{Float64},Float64})\nClosest candidates are:\n  f(::Any) at In[132]:1",
     "output_type": "error",
     "traceback": [
      "MethodError: no method matching f(::TaylorModelN{4,Interval{Float64},Float64}, ::TaylorModelN{4,Interval{Float64},Float64}, ::TaylorModelN{4,Interval{Float64},Float64}, ::TaylorModelN{4,Interval{Float64},Float64})\nClosest candidates are:\n  f(::Any) at In[132]:1",
      "",
      "Stacktrace:",
      " [1] top-level scope at In[283]:1"
     ]
    }
   ],
   "source": [
    "evaluate(f(xnormTM...), sBoxN)"
   ]
  },
  {
   "cell_type": "code",
   "execution_count": 291,
   "metadata": {},
   "outputs": [
    {
     "ename": "MethodError",
     "evalue": "MethodError: no method matching (::getfield(Main, Symbol(\"##110#111\")))(::TaylorModelN{4,Interval{Float64},Float64}, ::TaylorModelN{4,Interval{Float64},Float64}, ::TaylorModelN{4,Interval{Float64},Float64}, ::TaylorModelN{4,Interval{Float64},Float64})\nClosest candidates are:\n  #110(::Any) at In[266]:1",
     "output_type": "error",
     "traceback": [
      "MethodError: no method matching (::getfield(Main, Symbol(\"##110#111\")))(::TaylorModelN{4,Interval{Float64},Float64}, ::TaylorModelN{4,Interval{Float64},Float64}, ::TaylorModelN{4,Interval{Float64},Float64}, ::TaylorModelN{4,Interval{Float64},Float64})\nClosest candidates are:\n  #110(::Any) at In[266]:1",
      "",
      "Stacktrace:",
      " [1] top-level scope at In[291]:1"
     ]
    }
   ],
   "source": [
    "func2(xnormTM...)"
   ]
  },
  {
   "cell_type": "code",
   "execution_count": 293,
   "metadata": {},
   "outputs": [
    {
     "data": {
      "text/latex": [
       "$$ M_{1,1}^{2} + M_{2,1}M_{1,2} $$"
      ],
      "text/plain": [
       "M₁₋₁² + M₂₋₁M₁₋₂"
      ]
     },
     "execution_count": 293,
     "metadata": {},
     "output_type": "execute_result"
    }
   ],
   "source": [
    "M_k[1, 1]"
   ]
  },
  {
   "cell_type": "code",
   "execution_count": 294,
   "metadata": {},
   "outputs": [
    {
     "data": {
      "text/plain": [
       "Polynomial{true,Int64}"
      ]
     },
     "execution_count": 294,
     "metadata": {},
     "output_type": "execute_result"
    }
   ],
   "source": [
    "typeof(ans)"
   ]
  },
  {
   "cell_type": "code",
   "execution_count": 296,
   "metadata": {},
   "outputs": [
    {
     "data": {
      "text/plain": [
       "4-element Array{PolyVar{true},1}:\n",
       " M₁₋₁\n",
       " M₂₋₁\n",
       " M₁₋₂\n",
       " M₂₋₂"
      ]
     },
     "execution_count": 296,
     "metadata": {},
     "output_type": "execute_result"
    }
   ],
   "source": [
    "vars"
   ]
  },
  {
   "cell_type": "code",
   "execution_count": 297,
   "metadata": {},
   "outputs": [
    {
     "data": {
      "text/plain": [
       "4-element Array{TaylorModelN{4,Interval{Float64},Float64},1}:\n",
       "   [-1.38735, -1.38734] + [0.0134256, 0.0134257] x₁ + [0, 0]\n",
       "   [-0.389653, -0.389652] + [0.372513, 0.372514] x₂ + [0, 0]\n",
       "  [0.0612808, 0.0612809] + [0.050531, 0.0505311] x₃ + [0, 0]\n",
       "       [1.05486, 1.05487] + [0.208315, 0.208316] x₄ + [0, 0]"
      ]
     },
     "execution_count": 297,
     "metadata": {},
     "output_type": "execute_result"
    }
   ],
   "source": [
    "xnormTM"
   ]
  },
  {
   "cell_type": "code",
   "execution_count": 295,
   "metadata": {},
   "outputs": [
    {
     "data": {
      "text/plain": [
       "0.942222914079472"
      ]
     },
     "execution_count": 295,
     "metadata": {},
     "output_type": "execute_result"
    }
   ],
   "source": [
    "subs(M_k[1, 1], vars => rand(4)).a[1]"
   ]
  },
  {
   "cell_type": "code",
   "execution_count": 298,
   "metadata": {},
   "outputs": [
    {
     "ename": "TypeError",
     "evalue": "TypeError: in typeassert, expected Term{true,Number}, got Term{true,TaylorModelN{4,Interval{Float64},Float64}}",
     "output_type": "error",
     "traceback": [
      "TypeError: in typeassert, expected Term{true,Number}, got Term{true,TaylorModelN{4,Interval{Float64},Float64}}",
      "",
      "Stacktrace:",
      " [1] setindex!(::Array{Term{true,Number},1}, ::TaylorModelN{4,Interval{Float64},Float64}, ::Int64) at ./array.jl:766",
      " [2] fillmap! at /home/mforets/.julia/packages/DynamicPolynomials/xbijQ/src/subs.jl:13 [inlined]",
      " [3] fillmap!(::Array{Term{true,Number},1}, ::Array{PolyVar{true},1}, ::Pair{Array{PolyVar{true},1},Array{TaylorModelN{4,Interval{Float64},Float64},1}}) at /home/mforets/.julia/packages/DynamicPolynomials/xbijQ/src/subs.jl:18",
      " [4] _subsmap(::MultivariatePolynomials.Subs, ::Array{PolyVar{true},1}, ::Tuple{Pair{Array{PolyVar{true},1},Array{TaylorModelN{4,Interval{Float64},Float64},1}}}) at /home/mforets/.julia/packages/DynamicPolynomials/xbijQ/src/subs.jl:48",
      " [5] substitute at /home/mforets/.julia/packages/DynamicPolynomials/xbijQ/src/subs.jl:52 [inlined]",
      " [6] subs(::Polynomial{true,Int64}, ::Pair{Array{PolyVar{true},1},Array{TaylorModelN{4,Interval{Float64},Float64},1}}) at /home/mforets/.julia/packages/MultivariatePolynomials/Mpv8c/src/substitution.jl:113",
      " [7] top-level scope at In[298]:1"
     ]
    }
   ],
   "source": [
    "subs(M_k[1, 1], vars => xnormTM).a[1]"
   ]
  },
  {
   "cell_type": "code",
   "execution_count": 244,
   "metadata": {},
   "outputs": [
    {
     "ename": "UndefVarError",
     "evalue": "UndefVarError: SDPA not defined",
     "output_type": "error",
     "traceback": [
      "UndefVarError: SDPA not defined",
      "",
      "Stacktrace:",
      " [1] #enclose#32(::Base.Iterators.Pairs{Union{},Union{},Tuple{},NamedTuple{(),Tuple{}}}, ::typeof(enclose), ::Function, ::IntervalBox{4,Float64}, ::Symbol) at /home/mforets/.julia/dev/RangeEnclosures/src/enclose.jl:102",
      " [2] enclose(::Function, ::IntervalBox{4,Float64}, ::Symbol) at /home/mforets/.julia/dev/RangeEnclosures/src/enclose.jl:60",
      " [3] top-level scope at In[244]:1"
     ]
    }
   ],
   "source": [
    "enclose((y...) -> subs(M_k[1, 1], vars => y).a[1], IntervalBox(vec(M1)), :)"
   ]
  },
  {
   "cell_type": "markdown",
   "metadata": {},
   "source": [
    "## Using lambdify"
   ]
  },
  {
   "cell_type": "code",
   "execution_count": null,
   "metadata": {},
   "outputs": [],
   "source": []
  },
  {
   "cell_type": "markdown",
   "metadata": {},
   "source": [
    "## Substitution with SymEngine"
   ]
  },
  {
   "cell_type": "markdown",
   "metadata": {},
   "source": [
    "Hello,\n",
    "\n",
    "I currently encounter a problem using the subs function. When I run the following code,\n",
    "\n",
    "```\n",
    "@vars z\n",
    "subs(z^3+z^2+z,z^3,3)\n",
    "```\n",
    "\n",
    "I get 3 + z + 3^(2/3) instead of either 3 + 3^(2/3) + 3^(1/3) or 3 + z^2 + z. Is there any trick to get the latter as output ?\n",
    "\n",
    "Thanks in advance,"
   ]
  },
  {
   "cell_type": "code",
   "execution_count": 18,
   "metadata": {},
   "outputs": [
    {
     "data": {
      "text/plain": [
       "3 + z + 3^(2/3)"
      ]
     },
     "execution_count": 18,
     "metadata": {},
     "output_type": "execute_result"
    }
   ],
   "source": [
    "using SymEngine\n",
    "\n",
    "@vars z y\n",
    "\n",
    "subs(z^3+z^2+z, z^3=>y, y=>3)"
   ]
  },
  {
   "cell_type": "code",
   "execution_count": 20,
   "metadata": {},
   "outputs": [
    {
     "data": {
      "text/plain": [
       "3 + z"
      ]
     },
     "execution_count": 20,
     "metadata": {},
     "output_type": "execute_result"
    }
   ],
   "source": [
    "subs(z^2+z, z^2=>y, y=>3)"
   ]
  },
  {
   "cell_type": "code",
   "execution_count": 24,
   "metadata": {},
   "outputs": [
    {
     "data": {
      "text/plain": [
       "5-element Array{Basic,1}:\n",
       "           2*z\n",
       "         3 + z\n",
       " z + 3*sqrt(3)\n",
       "         9 + z\n",
       " z + 9*sqrt(3)"
      ]
     },
     "execution_count": 24,
     "metadata": {},
     "output_type": "execute_result"
    }
   ],
   "source": [
    "[subs(z^i + z, z^2=>y, y=>3) for i in 1:5]"
   ]
  },
  {
   "cell_type": "code",
   "execution_count": 102,
   "metadata": {},
   "outputs": [
    {
     "data": {
      "text/plain": [
       "z + z^2 + z^3"
      ]
     },
     "execution_count": 102,
     "metadata": {},
     "output_type": "execute_result"
    }
   ],
   "source": [
    "using SymEngine, Espresso\n",
    "\n",
    "@vars z\n",
    "poly = z^3+z^2+z"
   ]
  },
  {
   "cell_type": "code",
   "execution_count": 57,
   "metadata": {},
   "outputs": [
    {
     "data": {
      "text/plain": [
       ":(1 + z + z ^ 2 + z ^ 3)"
      ]
     },
     "execution_count": 57,
     "metadata": {},
     "output_type": "execute_result"
    }
   ],
   "source": [
    "expr = convert(Expr, poly)"
   ]
  },
  {
   "cell_type": "code",
   "execution_count": 92,
   "metadata": {},
   "outputs": [
    {
     "data": {
      "text/plain": [
       "true"
      ]
     },
     "execution_count": 92,
     "metadata": {},
     "output_type": "execute_result"
    }
   ],
   "source": [
    "using MacroTools\n",
    "\n",
    "@capture(:(z^3 + 1), r_ + 1)"
   ]
  },
  {
   "cell_type": "code",
   "execution_count": 101,
   "metadata": {},
   "outputs": [
    {
     "data": {
      "text/plain": [
       ":(1 + z + z ^ 2 + 3)"
      ]
     },
     "execution_count": 101,
     "metadata": {},
     "output_type": "execute_result"
    }
   ],
   "source": [
    "using Espresso\n",
    "\n",
    "ex = convert(Expr, poly)\n",
    "Espresso.subs(ex, Dict(:(z^3)=>3))"
   ]
  },
  {
   "cell_type": "code",
   "execution_count": 13,
   "metadata": {},
   "outputs": [
    {
     "data": {
      "text/plain": [
       "6.52233339335931"
      ]
     },
     "execution_count": 13,
     "metadata": {},
     "output_type": "execute_result"
    }
   ],
   "source": [
    "@vars z\n",
    "subs(z^3+z^2+z,z,cbrt(3))"
   ]
  },
  {
   "cell_type": "code",
   "execution_count": 8,
   "metadata": {},
   "outputs": [
    {
     "data": {
      "text/latex": [
       "\\begin{verbatim}\n",
       "subs\n",
       "\\end{verbatim}\n",
       "Substitute values into a symbolic expression.\n",
       "\n",
       "Examples\n",
       "\n",
       "\\begin{verbatim}\n",
       "@vars x y\n",
       "ex = x^2 + y^2\n",
       "subs(ex, x, 1) # 1 + y^2\n",
       "subs(ex, (x, 1)) # 1 + y^2\n",
       "subs(ex, (x, 1), (y,x)) # 1 + x^2, values are substituted left to right.\n",
       "subs(ex, x=>1)  # alternate to subs(x, (x,1))\n",
       "subs(ex, x=>1, y=>1) # ditto\n",
       "\\end{verbatim}\n"
      ],
      "text/markdown": [
       "```\n",
       "subs\n",
       "```\n",
       "\n",
       "Substitute values into a symbolic expression.\n",
       "\n",
       "Examples\n",
       "\n",
       "```\n",
       "@vars x y\n",
       "ex = x^2 + y^2\n",
       "subs(ex, x, 1) # 1 + y^2\n",
       "subs(ex, (x, 1)) # 1 + y^2\n",
       "subs(ex, (x, 1), (y,x)) # 1 + x^2, values are substituted left to right.\n",
       "subs(ex, x=>1)  # alternate to subs(x, (x,1))\n",
       "subs(ex, x=>1, y=>1) # ditto\n",
       "```\n"
      ],
      "text/plain": [
       "\u001b[36m  subs\u001b[39m\n",
       "\n",
       "  Substitute values into a symbolic expression.\n",
       "\n",
       "  Examples\n",
       "\n",
       "\u001b[36m  @vars x y\u001b[39m\n",
       "\u001b[36m  ex = x^2 + y^2\u001b[39m\n",
       "\u001b[36m  subs(ex, x, 1) # 1 + y^2\u001b[39m\n",
       "\u001b[36m  subs(ex, (x, 1)) # 1 + y^2\u001b[39m\n",
       "\u001b[36m  subs(ex, (x, 1), (y,x)) # 1 + x^2, values are substituted left to right.\u001b[39m\n",
       "\u001b[36m  subs(ex, x=>1)  # alternate to subs(x, (x,1))\u001b[39m\n",
       "\u001b[36m  subs(ex, x=>1, y=>1) # ditto\u001b[39m"
      ]
     },
     "execution_count": 8,
     "metadata": {},
     "output_type": "execute_result"
    }
   ],
   "source": [
    "?SymEngine.subs"
   ]
  },
  {
   "cell_type": "code",
   "execution_count": 103,
   "metadata": {},
   "outputs": [
    {
     "data": {
      "text/plain": [
       "ExGraph\n",
       "  ExNode{input}(x = x | 3.0)\n",
       "  ExNode{input}(y = y | 2.0)\n",
       "  ExNode{constant}(tmp371 = 2 | 2)\n",
       "  ExNode{call}(tmp372 = x ^ tmp371 | 9.0)\n",
       "  ExNode{constant}(tmp373 = 2 | 2)\n",
       "  ExNode{call}(tmp374 = x ^ tmp373 | 9.0)\n",
       "  ExNode{call}(tmp375 = y + tmp374 | 11.0)\n",
       "  ExNode{call}(z = tmp372 * tmp375 | 99.0)\n"
      ]
     },
     "execution_count": 103,
     "metadata": {},
     "output_type": "execute_result"
    }
   ],
   "source": [
    "ex = :(z = x ^ 2 * (y + x ^ 2))\n",
    "g = ExGraph(ex; x=3.0, y=2.0);     # `x` and `y` are example values from which ExGraphs learns types of these vars\n",
    "evaluate!(g)                       # evaluate all expressions to fill values of intermediate nodes\n",
    "g"
   ]
  },
  {
   "cell_type": "code",
   "execution_count": 106,
   "metadata": {},
   "outputs": [
    {
     "data": {
      "text/plain": [
       "ExGraph\n",
       "  ExNode{input}(x = x | 3.0)\n",
       "  ExNode{input}(y = y | 2.0)\n",
       "  ExNode{constant}(tmp371 = 2 | 2)\n",
       "  ExNode{call}(tmp372 = x ^ tmp371 | 9.0)\n",
       "  ExNode{constant}(tmp373 = 2 | 2)\n",
       "  ExNode{call}(tmp374 = x ^ tmp373 | 9.0)\n",
       "  ExNode{call}(tmp375 = y + tmp374 | 11.0)\n",
       "  ExNode{call}(z = tmp372 * tmp375 | 99.0)\n"
      ]
     },
     "execution_count": 106,
     "metadata": {},
     "output_type": "execute_result"
    }
   ],
   "source": [
    "g"
   ]
  },
  {
   "cell_type": "markdown",
   "metadata": {},
   "source": [
    "# Inconsistency in linear_map between vrep and division algorithm\n",
    "#1928"
   ]
  },
  {
   "cell_type": "markdown",
   "metadata": {},
   "source": [
    "https://github.com/JuliaReach/LazySets.jl/issues/1928"
   ]
  },
  {
   "cell_type": "code",
   "execution_count": 1,
   "metadata": {},
   "outputs": [
    {
     "name": "stderr",
     "output_type": "stream",
     "text": [
      "┌ Info: Recompiling stale cache file /home/mforets/.julia/compiled/v1.2/LazySets/NjrGc.ji for LazySets [b4f0291d-fe17-52bc-9479-3d1a343d9043]\n",
      "└ @ Base loading.jl:1240\n"
     ]
    }
   ],
   "source": [
    "using Revise, LazySets, Polyhedra, CDDLib, LinearAlgebra\n",
    "using LazySets: dim"
   ]
  },
  {
   "cell_type": "code",
   "execution_count": 2,
   "metadata": {},
   "outputs": [
    {
     "name": "stdout",
     "output_type": "stream",
     "text": [
      "isempty(H) = false\n",
      "vertices_list(H) = Array{Float64,1}[[1.0, 1.0, 0.0], [0.0, 1.0, 0.0], [1.0, 0.5, 0.0], [0.0, 0.5, 0.0]]\n",
      "vertices_list(MH) = Array{Float64,1}[[0.5, 0.5], [2.0, 2.0]]\n",
      "isempty(P) = false\n",
      "vertices_list(P) = Array{Float64,1}[[1.0, 1.0, 0.0], [0.0, 1.0, 0.0], [1.0, 0.5, 0.0], [0.0, 0.5, 0.0]]\n",
      "isempty(MP_div) = true\n",
      "isempty(MP_vrep) = false\n",
      "vertices_list(MP_vrep) = Array{Float64,1}[[0.5, 0.5], [2.0, 2.0]]\n"
     ]
    },
    {
     "data": {
      "text/plain": [
       "2-element Array{Array{Float64,1},1}:\n",
       " [0.5, 0.5]\n",
       " [2.0, 2.0]"
      ]
     },
     "execution_count": 2,
     "metadata": {},
     "output_type": "execute_result"
    }
   ],
   "source": [
    "H = Hyperrectangle(low=[0, 0.5, 0], high=[1, 1, 0.]) # 3D\n",
    "@show isempty(H)\n",
    "@show vertices_list(H)\n",
    "\n",
    "M = ones(2, 3)\n",
    "\n",
    "MH = linear_map(M, H)\n",
    "\n",
    "@show vertices_list(MH);\n",
    "\n",
    "P = convert(HPolytope, H)\n",
    "@show isempty(P)\n",
    "@show vertices_list(P)\n",
    "\n",
    "MP_div = linear_map(M, P, algorithm=\"division\")\n",
    "@show isempty(MP_div) # should give false!\n",
    "\n",
    "MP_vrep = linear_map(M, P, algorithm=\"vrep\")\n",
    "@show isempty(MP_vrep)\n",
    "@show vertices_list(MP_vrep)"
   ]
  },
  {
   "cell_type": "code",
   "execution_count": 3,
   "metadata": {},
   "outputs": [],
   "source": [
    "using CDDLib\n",
    "\n",
    "# see the def of P and M from my previous comment\n",
    "id_out = Matrix(1.0I, size(M, 1), size(M, 1))\n",
    "Ax_leq_b = [Polyhedra.HalfSpace(vcat(zeros(2), c.a), c.b) for c in constraints_list(P)]\n",
    "y_eq_Mx = [Polyhedra.HyperPlane(vcat(-id_out[i, :], M[i, :]), 0.0) for i in 1:size(M, 1)];"
   ]
  },
  {
   "cell_type": "code",
   "execution_count": 4,
   "metadata": {},
   "outputs": [
    {
     "data": {
      "text/plain": [
       "H-representation Polyhedra.Intersection{Float64,Array{Float64,1},Int64}:\n",
       "2-element iterator of HyperPlane{Float64,Array{Float64,1}}:\n",
       " HyperPlane([-1.0, -0.0, 1.0, 1.0, 1.0], 0.0)\n",
       " HyperPlane([-0.0, -1.0, 1.0, 1.0, 1.0], 0.0),\n",
       "6-element iterator of Polyhedra.HalfSpace{Float64,Array{Float64,1}}:\n",
       " HalfSpace([0.0, 0.0, 1.0, 0.0, 0.0], 1.0)\n",
       " HalfSpace([0.0, 0.0, 0.0, 1.0, 0.0], 1.0)\n",
       " HalfSpace([0.0, 0.0, 0.0, 0.0, 1.0], 0.0)\n",
       " HalfSpace([0.0, 0.0, -1.0, 0.0, 0.0], -0.0)\n",
       " HalfSpace([0.0, 0.0, 0.0, -1.0, 0.0], -0.5)\n",
       " HalfSpace([0.0, 0.0, 0.0, 0.0, -1.0], -0.0)"
      ]
     },
     "execution_count": 4,
     "metadata": {},
     "output_type": "execute_result"
    }
   ],
   "source": [
    " Phrep = Polyhedra.hrep(y_eq_Mx, Ax_leq_b)"
   ]
  },
  {
   "cell_type": "code",
   "execution_count": 5,
   "metadata": {},
   "outputs": [
    {
     "data": {
      "text/plain": [
       "Polyhedron CDDLib.Polyhedron{Float64}:\n",
       "2-element iterator of HyperPlane{Float64,Array{Float64,1}}:\n",
       " HyperPlane([-1.0, -0.0, 1.0, 1.0, 1.0], 0.0)\n",
       " HyperPlane([-0.0, -1.0, 1.0, 1.0, 1.0], 0.0),\n",
       "6-element iterator of Polyhedra.HalfSpace{Float64,Array{Float64,1}}:\n",
       " HalfSpace([0.0, 0.0, 1.0, 0.0, 0.0], 1.0)\n",
       " HalfSpace([0.0, 0.0, 0.0, 1.0, 0.0], 1.0)\n",
       " HalfSpace([0.0, 0.0, 0.0, 0.0, 1.0], 0.0)\n",
       " HalfSpace([0.0, 0.0, -1.0, 0.0, 0.0], -0.0)\n",
       " HalfSpace([0.0, 0.0, 0.0, -1.0, 0.0], -0.5)\n",
       " HalfSpace([0.0, 0.0, 0.0, 0.0, -1.0], -0.0)"
      ]
     },
     "execution_count": 5,
     "metadata": {},
     "output_type": "execute_result"
    }
   ],
   "source": [
    "Phrep_cdd = polyhedron(Phrep, CDDLib.Library(:float))"
   ]
  },
  {
   "cell_type": "code",
   "execution_count": 6,
   "metadata": {},
   "outputs": [
    {
     "data": {
      "text/plain": [
       "Polyhedron CDDLib.Polyhedron{Float64}:\n",
       "1-element iterator of HyperPlane{Float64,Array{Float64,1}}:\n",
       " HyperPlane([1.0, -1.0], 0.0),\n",
       "5-element iterator of Polyhedra.HalfSpace{Float64,Array{Float64,1}}:\n",
       " HalfSpace([-0.0, -0.0], 1.0)\n",
       " HalfSpace([1.0, -0.0], 2.0)\n",
       " HalfSpace([-1.0, -0.0], -0.5)\n",
       " HalfSpace([-0.0, -0.0], 0.5)\n",
       " HalfSpace([-0.0, -0.0], 0.0)"
      ]
     },
     "execution_count": 6,
     "metadata": {},
     "output_type": "execute_result"
    }
   ],
   "source": [
    "Peli_block = Polyhedra.eliminate(Phrep_cdd, 3:5, Polyhedra.BlockElimination())"
   ]
  },
  {
   "cell_type": "code",
   "execution_count": 7,
   "metadata": {},
   "outputs": [
    {
     "data": {
      "text/plain": [
       "H-representation CDDInequalityMatrix{Float64,Float64}:\n",
       "1-element iterator of HyperPlane{Float64,Array{Float64,1}}:\n",
       " HyperPlane([1.0, -1.0], 0.0),\n",
       "3-element iterator of Polyhedra.HalfSpace{Float64,Array{Float64,1}}:\n",
       " HalfSpace([-0.0, 0.0], 1.0)\n",
       " HalfSpace([0.5, 0.5], 2.0)\n",
       " HalfSpace([-0.5, -0.5], -0.5)"
      ]
     },
     "execution_count": 7,
     "metadata": {},
     "output_type": "execute_result"
    }
   ],
   "source": [
    " Peli_block = Polyhedra.removeduplicates(hrep(Peli_block))"
   ]
  },
  {
   "cell_type": "markdown",
   "metadata": {},
   "source": [
    "### Case m > n"
   ]
  },
  {
   "cell_type": "code",
   "execution_count": 8,
   "metadata": {},
   "outputs": [
    {
     "data": {
      "text/plain": [
       "3"
      ]
     },
     "execution_count": 8,
     "metadata": {},
     "output_type": "execute_result"
    }
   ],
   "source": [
    "dim(H)"
   ]
  },
  {
   "cell_type": "code",
   "execution_count": 9,
   "metadata": {},
   "outputs": [
    {
     "data": {
      "text/plain": [
       "5×3 Array{Float64,2}:\n",
       " 0.489326  0.767608  0.668907\n",
       " 0.126863  0.829185  0.674583\n",
       " 0.202264  0.892016  0.77413 \n",
       " 0.354163  0.276443  0.72368 \n",
       " 0.197969  0.82449   0.337168"
      ]
     },
     "execution_count": 9,
     "metadata": {},
     "output_type": "execute_result"
    }
   ],
   "source": [
    "M = rand(5, 3)"
   ]
  },
  {
   "cell_type": "code",
   "execution_count": 10,
   "metadata": {},
   "outputs": [
    {
     "data": {
      "text/plain": [
       "3"
      ]
     },
     "execution_count": 10,
     "metadata": {},
     "output_type": "execute_result"
    }
   ],
   "source": [
    "rank(M)"
   ]
  },
  {
   "cell_type": "code",
   "execution_count": 11,
   "metadata": {},
   "outputs": [
    {
     "data": {
      "text/plain": [
       "VPolytope{Float64}(Array{Float64,1}[[1.2569337551808557, 0.9560482187389823, 1.0942798890114949, 0.6306064956364668, 1.0224594963764189], [0.7676077771209942, 0.8291853417366579, 0.8920161215663114, 0.276443305977512, 0.8244904191998399], [0.8731298666203586, 0.5414555478706533, 0.6482718282283392, 0.49238484264771076, 0.6102142867764989], [0.3838038885604971, 0.41459267086832896, 0.4460080607831557, 0.138221652988756, 0.41224520959991995]])"
      ]
     },
     "execution_count": 11,
     "metadata": {},
     "output_type": "execute_result"
    }
   ],
   "source": [
    "linear_map(M, P, algorithm=\"vrep\")"
   ]
  },
  {
   "cell_type": "code",
   "execution_count": 12,
   "metadata": {},
   "outputs": [
    {
     "data": {
      "text/plain": [
       "5×3 Array{Float64,2}:\n",
       " 0.489326  0.767608  0.668907\n",
       " 0.126863  0.829185  0.674583\n",
       " 0.202264  0.892016  0.77413 \n",
       " 0.354163  0.276443  0.72368 \n",
       " 0.197969  0.82449   0.337168"
      ]
     },
     "execution_count": 12,
     "metadata": {},
     "output_type": "execute_result"
    }
   ],
   "source": [
    "M"
   ]
  },
  {
   "cell_type": "code",
   "execution_count": 13,
   "metadata": {},
   "outputs": [],
   "source": [
    "m, n = size(M)\n",
    "r = rank(M)\n",
    "@assert m > n\n",
    "@assert r == n"
   ]
  },
  {
   "cell_type": "code",
   "execution_count": 14,
   "metadata": {},
   "outputs": [
    {
     "data": {
      "text/plain": [
       "5×2 Array{Float64,2}:\n",
       " 1.0  0.0\n",
       " 0.0  1.0\n",
       " 0.0  0.0\n",
       " 0.0  0.0\n",
       " 0.0  0.0"
      ]
     },
     "execution_count": 14,
     "metadata": {},
     "output_type": "execute_result"
    }
   ],
   "source": [
    "Id_ext = Matrix([Diagonal(ones(m-n)); zeros(n, m-n)])"
   ]
  },
  {
   "cell_type": "code",
   "execution_count": 15,
   "metadata": {},
   "outputs": [
    {
     "data": {
      "text/plain": [
       "5×3 Array{Float64,2}:\n",
       " 0.489326  0.767608  0.668907\n",
       " 0.126863  0.829185  0.674583\n",
       " 0.202264  0.892016  0.77413 \n",
       " 0.354163  0.276443  0.72368 \n",
       " 0.197969  0.82449   0.337168"
      ]
     },
     "execution_count": 15,
     "metadata": {},
     "output_type": "execute_result"
    }
   ],
   "source": [
    "M"
   ]
  },
  {
   "cell_type": "code",
   "execution_count": 16,
   "metadata": {},
   "outputs": [
    {
     "data": {
      "text/plain": [
       "5×5 Array{Float64,2}:\n",
       " 0.489326  0.767608  0.668907  1.0  0.0\n",
       " 0.126863  0.829185  0.674583  0.0  1.0\n",
       " 0.202264  0.892016  0.77413   0.0  0.0\n",
       " 0.354163  0.276443  0.72368   0.0  0.0\n",
       " 0.197969  0.82449   0.337168  0.0  0.0"
      ]
     },
     "execution_count": 16,
     "metadata": {},
     "output_type": "execute_result"
    }
   ],
   "source": [
    "Mext = hcat(M, Id_ext)"
   ]
  },
  {
   "cell_type": "code",
   "execution_count": 17,
   "metadata": {},
   "outputs": [],
   "source": [
    "using LazySets.Arrays"
   ]
  },
  {
   "cell_type": "code",
   "execution_count": 18,
   "metadata": {},
   "outputs": [
    {
     "data": {
      "text/plain": [
       "true"
      ]
     },
     "execution_count": 18,
     "metadata": {},
     "output_type": "execute_result"
    }
   ],
   "source": [
    "isinvertible(Mext)"
   ]
  },
  {
   "cell_type": "code",
   "execution_count": 19,
   "metadata": {},
   "outputs": [],
   "source": [
    "id_out = Matrix(1.0I, m-n, m-n)\n",
    "\n",
    "# append zeros to the existing constraints, in the last m-n coordinates\n",
    "cext = [LazySets.HalfSpace(vcat(c.a, zeros(m-n)), c.b) for c in constraints_list(P)]\n",
    "\n",
    "# fix the last m-n coordinates to zero\n",
    "cext = vcat(cext, [LazySets.HalfSpace(vcat(zeros(n), id_out[i, :]), 0.0) for i in 1:(m-n)],\n",
    "                  [LazySets.HalfSpace(vcat(zeros(n), -id_out[i, :]), 0.0) for i in 1:(m-n)])\n",
    "\n",
    "Pext = HPolytope(cext);"
   ]
  },
  {
   "cell_type": "code",
   "execution_count": 20,
   "metadata": {},
   "outputs": [
    {
     "data": {
      "text/plain": [
       "5×5 Array{Float64,2}:\n",
       " 0.489326  0.767608  0.668907  1.0  0.0\n",
       " 0.126863  0.829185  0.674583  0.0  1.0\n",
       " 0.202264  0.892016  0.77413   0.0  0.0\n",
       " 0.354163  0.276443  0.72368   0.0  0.0\n",
       " 0.197969  0.82449   0.337168  0.0  0.0"
      ]
     },
     "execution_count": 20,
     "metadata": {},
     "output_type": "execute_result"
    }
   ],
   "source": [
    "Mext"
   ]
  },
  {
   "cell_type": "code",
   "execution_count": 21,
   "metadata": {},
   "outputs": [
    {
     "data": {
      "text/plain": [
       "HPolytope{Float64}(LazySets.HalfSpace{Float64,VN} where VN<:AbstractArray{Float64,1}[LazySets.HalfSpace{Float64,Array{Float64,1}}([0.0, -8.881784197001252e-16, -4.881809323685728, 3.272617087111273, 4.184353695375888], 1.0), LazySets.HalfSpace{Float64,Array{Float64,1}}([-2.220446049250313e-16, 1.3877787807814457e-16, 0.23129850706982447, -0.8247581849527279, 1.2391616182409606], 1.0), LazySets.HalfSpace{Float64,Array{Float64,1}}([-4.440892098500626e-16, 0.0, 2.300764280362159, 0.09528853729520836, -2.52114598286773], 0.0), LazySets.HalfSpace{Float64,Array{Float64,1}}([0.0, 8.881784197001252e-16, 4.881809323685728, -3.272617087111273, -4.184353695375888], -0.0), LazySets.HalfSpace{Float64,Array{Float64,1}}([2.220446049250313e-16, -1.3877787807814457e-16, -0.23129850706982447, 0.8247581849527279, -1.2391616182409606], -0.5), LazySets.HalfSpace{Float64,Array{Float64,1}}([4.440892098500626e-16, 0.0, -2.300764280362159, -0.09528853729520836, 2.52114598286773], -0.0), LazySets.HalfSpace{Float64,Array{Float64,1}}([0.9999999999999998, 1.1102230246251565e-16, 0.6722532366789024, -1.0320248889805375, -1.3122919377315474], 0.0), LazySets.HalfSpace{Float64,Array{Float64,1}}([1.1102230246251565e-16, 0.9999999999999999, -1.124525318617965, 0.20442375555142023, 0.1423883043892977], 0.0), LazySets.HalfSpace{Float64,Array{Float64,1}}([-0.9999999999999998, -1.1102230246251565e-16, -0.6722532366789024, 1.0320248889805375, 1.3122919377315474], 0.0), LazySets.HalfSpace{Float64,Array{Float64,1}}([-1.1102230246251565e-16, -0.9999999999999999, 1.124525318617965, -0.20442375555142023, -0.1423883043892977], 0.0)])"
      ]
     },
     "execution_count": 21,
     "metadata": {},
     "output_type": "execute_result"
    }
   ],
   "source": [
    "Q = linear_map(Mext, Pext, algorithm=\"inverse\")"
   ]
  },
  {
   "cell_type": "code",
   "execution_count": 22,
   "metadata": {},
   "outputs": [
    {
     "data": {
      "text/plain": [
       "4-element Array{Array{Float64,1},1}:\n",
       " [1.0, 1.0, 0.0, 0.0, 0.0]\n",
       " [0.0, 1.0, 0.0, 0.0, 0.0]\n",
       " [1.0, 0.5, 0.0, 0.0, 0.0]\n",
       " [0.0, 0.5, 0.0, 0.0, 0.0]"
      ]
     },
     "execution_count": 22,
     "metadata": {},
     "output_type": "execute_result"
    }
   ],
   "source": [
    "vertices_list(Pext)"
   ]
  },
  {
   "cell_type": "code",
   "execution_count": 23,
   "metadata": {},
   "outputs": [
    {
     "data": {
      "text/plain": [
       "4-element Array{Array{Float64,1},1}:\n",
       " [1.2569337551808557, 0.9560482187389823, 1.0942798890114949, 0.6306064956364668, 1.0224594963764189] \n",
       " [0.7676077771209942, 0.8291853417366579, 0.8920161215663114, 0.276443305977512, 0.8244904191998399]  \n",
       " [0.8731298666203586, 0.5414555478706533, 0.6482718282283392, 0.49238484264771076, 0.6102142867764989]\n",
       " [0.3838038885604971, 0.41459267086832896, 0.4460080607831557, 0.138221652988756, 0.41224520959991995]"
      ]
     },
     "execution_count": 23,
     "metadata": {},
     "output_type": "execute_result"
    }
   ],
   "source": [
    "vertices_list(Mext * Pext)"
   ]
  },
  {
   "cell_type": "code",
   "execution_count": 24,
   "metadata": {},
   "outputs": [
    {
     "data": {
      "text/plain": [
       "4-element Array{Array{Float64,1},1}:\n",
       " [1.2569337551808557, 0.9560482187389823, 1.0942798890114949, 0.6306064956364669, 1.022459496376419]   \n",
       " [0.7676077771209944, 0.8291853417366579, 0.8920161215663114, 0.2764433059775121, 0.8244904191998401]  \n",
       " [0.8731298666203585, 0.5414555478706533, 0.6482718282283392, 0.4923848426477108, 0.610214286776499]   \n",
       " [0.38380388856049735, 0.4145926708683292, 0.44600806078315586, 0.1382216529887561, 0.4122452095999203]"
      ]
     },
     "execution_count": 24,
     "metadata": {},
     "output_type": "execute_result"
    }
   ],
   "source": [
    "vertices_list(linear_map(Mext, Pext))"
   ]
  },
  {
   "cell_type": "code",
   "execution_count": 25,
   "metadata": {},
   "outputs": [
    {
     "data": {
      "text/plain": [
       "4-element Array{Array{Float64,1},1}:\n",
       " [1.2569337551808557, 0.9560482187389823, 1.0942798890114949, 0.6306064956364668, 1.0224594963764189] \n",
       " [0.7676077771209942, 0.8291853417366579, 0.8920161215663114, 0.276443305977512, 0.8244904191998399]  \n",
       " [0.8731298666203586, 0.5414555478706533, 0.6482718282283392, 0.49238484264771076, 0.6102142867764989]\n",
       " [0.3838038885604971, 0.41459267086832896, 0.4460080607831557, 0.138221652988756, 0.41224520959991995]"
      ]
     },
     "execution_count": 25,
     "metadata": {},
     "output_type": "execute_result"
    }
   ],
   "source": [
    "vertices_list(linear_map(Mext, Pext, algorithm=\"vrep\"))"
   ]
  },
  {
   "cell_type": "code",
   "execution_count": 26,
   "metadata": {},
   "outputs": [
    {
     "data": {
      "text/plain": [
       "4-element Array{Array{Float64,1},1}:\n",
       " [1.2569337551808557, 0.9560482187389823, 1.0942798890114949, 0.6306064956364669, 1.022459496376419]   \n",
       " [0.7676077771209944, 0.8291853417366579, 0.8920161215663114, 0.2764433059775121, 0.8244904191998401]  \n",
       " [0.8731298666203585, 0.5414555478706533, 0.6482718282283392, 0.4923848426477108, 0.610214286776499]   \n",
       " [0.38380388856049735, 0.4145926708683292, 0.44600806078315586, 0.1382216529887561, 0.4122452095999203]"
      ]
     },
     "execution_count": 26,
     "metadata": {},
     "output_type": "execute_result"
    }
   ],
   "source": [
    "vertices_list(linear_map(Mext, Pext, algorithm=\"inverse\"))"
   ]
  },
  {
   "cell_type": "code",
   "execution_count": 27,
   "metadata": {},
   "outputs": [
    {
     "data": {
      "text/plain": [
       "4-element Array{Array{Float64,1},1}:\n",
       " [1.2569337551808566, 0.9560482187389823, 1.0942798890114949, 0.6306064956364673, 1.0224594963764195]   \n",
       " [0.7676077771209947, 0.8291853417366579, 0.8920161215663116, 0.2764433059775123, 0.8244904191998405]   \n",
       " [0.8731298666203594, 0.5414555478706535, 0.6482718282283393, 0.4923848426477112, 0.6102142867764995]   \n",
       " [0.38380388856049735, 0.41459267086832896, 0.4460080607831558, 0.13822165298875616, 0.4122452095999202]"
      ]
     },
     "execution_count": 27,
     "metadata": {},
     "output_type": "execute_result"
    }
   ],
   "source": [
    "vertices_list(linear_map(Mext, Pext, algorithm=\"division\"))"
   ]
  },
  {
   "cell_type": "code",
   "execution_count": 28,
   "metadata": {},
   "outputs": [
    {
     "data": {
      "text/plain": [
       "false"
      ]
     },
     "execution_count": 28,
     "metadata": {},
     "output_type": "execute_result"
    }
   ],
   "source": [
    "zeros(3) ∈ P"
   ]
  },
  {
   "cell_type": "code",
   "execution_count": 29,
   "metadata": {},
   "outputs": [
    {
     "data": {
      "text/plain": [
       "4-element Array{Array{Float64,1},1}:\n",
       " [20.00923300110145, 166.60189756805653, -172.572377765032, 15.139713563727828, 0.0]                    \n",
       " [16.371047843591466, 138.8445810948705, -143.8203276739012, 12.386930327435104, 0.0]                   \n",
       " [19.625429112540953, 166.1873048971882, -173.01838582581516, 15.001491910739071, -0.41224520959991967] \n",
       " [15.987243955030971, 138.42998842400218, -144.26633573468436, 12.248708674446348, -0.41224520959991817]"
      ]
     },
     "execution_count": 29,
     "metadata": {},
     "output_type": "execute_result"
    }
   ],
   "source": [
    "vertices_list(linear_map(M, P, algorithm=\"division\")) # wrong, should give an error (M is not invertible)"
   ]
  },
  {
   "cell_type": "code",
   "execution_count": 30,
   "metadata": {},
   "outputs": [
    {
     "ename": "ArgumentError",
     "evalue": "ArgumentError: algorithm \"inverse\" requires an invertible matrix",
     "output_type": "error",
     "traceback": [
      "ArgumentError: algorithm \"inverse\" requires an invertible matrix",
      "",
      "Stacktrace:",
      " [1] #linear_map#29(::String, ::Bool, ::Float64, ::Nothing, ::typeof(linear_map), ::Array{Float64,2}, ::HPolytope{Float64}) at /home/mforets/.julia/dev/LazySets/src/Interfaces/AbstractPolyhedron_functions.jl:410",
      " [2] (::getfield(LazySets, Symbol(\"#kw##linear_map\")))(::NamedTuple{(:algorithm,),Tuple{String}}, ::typeof(linear_map), ::Array{Float64,2}, ::HPolytope{Float64}) at ./none:0",
      " [3] top-level scope at In[30]:1"
     ]
    }
   ],
   "source": [
    "vertices_list(linear_map(M, P, algorithm=\"inverse\")) # correct, gives an error"
   ]
  },
  {
   "cell_type": "code",
   "execution_count": 31,
   "metadata": {},
   "outputs": [
    {
     "data": {
      "text/plain": [
       "4-element Array{Array{Float64,1},1}:\n",
       " [1.2569337551808557, 0.9560482187389823, 1.0942798890114949, 0.6306064956364668, 1.0224594963764189] \n",
       " [0.7676077771209942, 0.8291853417366579, 0.8920161215663114, 0.276443305977512, 0.8244904191998399]  \n",
       " [0.8731298666203586, 0.5414555478706533, 0.6482718282283392, 0.49238484264771076, 0.6102142867764989]\n",
       " [0.3838038885604971, 0.41459267086832896, 0.4460080607831557, 0.138221652988756, 0.41224520959991995]"
      ]
     },
     "execution_count": 31,
     "metadata": {},
     "output_type": "execute_result"
    }
   ],
   "source": [
    "vertices_list(linear_map(M, P, algorithm=\"vrep\")) # correct"
   ]
  },
  {
   "cell_type": "code",
   "execution_count": 32,
   "metadata": {},
   "outputs": [],
   "source": [
    "using BenchmarkTools"
   ]
  },
  {
   "cell_type": "code",
   "execution_count": 33,
   "metadata": {},
   "outputs": [
    {
     "name": "stdout",
     "output_type": "stream",
     "text": [
      "  267.738 μs (3575 allocations: 207.25 KiB)\n"
     ]
    },
    {
     "data": {
      "text/plain": [
       "4-element Array{Array{Float64,1},1}:\n",
       " [1.2569337551808557, 0.9560482187389823, 1.0942798890114949, 0.6306064956364668, 1.0224594963764189] \n",
       " [0.7676077771209942, 0.8291853417366579, 0.8920161215663114, 0.276443305977512, 0.8244904191998399]  \n",
       " [0.8731298666203586, 0.5414555478706533, 0.6482718282283392, 0.49238484264771076, 0.6102142867764989]\n",
       " [0.3838038885604971, 0.41459267086832896, 0.4460080607831557, 0.138221652988756, 0.41224520959991995]"
      ]
     },
     "execution_count": 33,
     "metadata": {},
     "output_type": "execute_result"
    }
   ],
   "source": [
    "@btime vertices_list(linear_map($M, $P, algorithm=\"vrep\"))"
   ]
  },
  {
   "cell_type": "code",
   "execution_count": 34,
   "metadata": {},
   "outputs": [
    {
     "name": "stdout",
     "output_type": "stream",
     "text": [
      "  266.629 μs (3575 allocations: 207.25 KiB)\n"
     ]
    },
    {
     "data": {
      "text/plain": [
       "VPolytope{Float64}(Array{Float64,1}[[1.2569337551808557, 0.9560482187389823, 1.0942798890114949, 0.6306064956364668, 1.0224594963764189], [0.7676077771209942, 0.8291853417366579, 0.8920161215663114, 0.276443305977512, 0.8244904191998399], [0.8731298666203586, 0.5414555478706533, 0.6482718282283392, 0.49238484264771076, 0.6102142867764989], [0.3838038885604971, 0.41459267086832896, 0.4460080607831557, 0.138221652988756, 0.41224520959991995]])"
      ]
     },
     "execution_count": 34,
     "metadata": {},
     "output_type": "execute_result"
    }
   ],
   "source": [
    "@btime linear_map($M, $P, algorithm=\"vrep\")"
   ]
  },
  {
   "cell_type": "code",
   "execution_count": null,
   "metadata": {},
   "outputs": [],
   "source": []
  },
  {
   "cell_type": "code",
   "execution_count": 35,
   "metadata": {},
   "outputs": [
    {
     "data": {
      "text/plain": [
       "_linear_map_hrep_proj (generic function with 1 method)"
      ]
     },
     "execution_count": 35,
     "metadata": {},
     "output_type": "execute_result"
    }
   ],
   "source": [
    "# see discussion in LazySets #1928\n",
    "# if P : Ax <= b and y = Mx, we consider the vector z = [y, x], write the equalities and the inequalities,\n",
    "# and then eliminate the last x variables (there are length(x) in total) using Polyhedra.eliminate calls\n",
    "# to a backend library such as CDDLib in this case:\n",
    "function _linear_map_hrep_proj(M, P)\n",
    "    m, n = size(M)\n",
    "    @assert dim(P) == n\n",
    "    d = abs(m-n) # if d ≠ 0, better use LazySets.linear_map(M, P, algorithm=\"inverse\") \n",
    "    id_m = Matrix(1.0I, m, m)\n",
    "\n",
    "    # extend the polytope putting the y variables first\n",
    "    Ax_leq_b = [Polyhedra.HalfSpace(vcat(zeros(m), c.a), c.b) for c in constraints_list(P)]\n",
    "    y_eq_Mx = [Polyhedra.HyperPlane(vcat(-id_m[i, :], M[i, :]), 0.0) for i in 1:m]\n",
    "    \n",
    "    Phrep = Polyhedra.hrep(y_eq_Mx, Ax_leq_b)\n",
    "    Phrep_cdd = polyhedron(Phrep, CDDLib.Library(:float))\n",
    "    Peli_block = Polyhedra.eliminate(Phrep_cdd, (m+1):(m+n), Polyhedra.BlockElimination())\n",
    "    Peli_block = Polyhedra.removeduplicates(hrep(Peli_block))\n",
    "\n",
    "    return HPolytope(Peli_block)\n",
    "end"
   ]
  },
  {
   "cell_type": "code",
   "execution_count": 36,
   "metadata": {},
   "outputs": [
    {
     "name": "stdout",
     "output_type": "stream",
     "text": [
      "  264.749 μs (1873 allocations: 129.38 KiB)\n"
     ]
    }
   ],
   "source": [
    "# performance check\n",
    "@btime _linear_map_hrep_proj($M, $P);"
   ]
  },
  {
   "cell_type": "code",
   "execution_count": 37,
   "metadata": {},
   "outputs": [
    {
     "name": "stdout",
     "output_type": "stream",
     "text": [
      "  266.589 μs (3576 allocations: 207.27 KiB)\n"
     ]
    },
    {
     "data": {
      "text/plain": [
       "VPolytope{Float64}(Array{Float64,1}[[1.2569337551808557, 0.9560482187389823, 1.0942798890114949, 0.6306064956364668, 1.0224594963764189], [0.7676077771209942, 0.8291853417366579, 0.8920161215663114, 0.276443305977512, 0.8244904191998399], [0.8731298666203586, 0.5414555478706533, 0.6482718282283392, 0.49238484264771076, 0.6102142867764989], [0.3838038885604971, 0.41459267086832896, 0.4460080607831557, 0.138221652988756, 0.41224520959991995]])"
      ]
     },
     "execution_count": 37,
     "metadata": {},
     "output_type": "execute_result"
    }
   ],
   "source": [
    "@btime linear_map(M, P, algorithm=\"vrep\")"
   ]
  },
  {
   "cell_type": "code",
   "execution_count": 38,
   "metadata": {},
   "outputs": [
    {
     "name": "stdout",
     "output_type": "stream",
     "text": [
      "v1 ⊆ v2 && v2 ⊆ v1 = true\n"
     ]
    },
    {
     "data": {
      "text/plain": [
       "true"
      ]
     },
     "execution_count": 38,
     "metadata": {},
     "output_type": "execute_result"
    }
   ],
   "source": [
    "# sanity check\n",
    "v1 = tovrep(_linear_map_hrep_proj(M, P))\n",
    "v2 = linear_map(M, P, algorithm=\"vrep\")\n",
    "@show v1 ⊆ v2 && v2 ⊆ v1"
   ]
  },
  {
   "cell_type": "code",
   "execution_count": 40,
   "metadata": {},
   "outputs": [
    {
     "data": {
      "text/plain": [
       "_linear_map_hrep_lift (generic function with 1 method)"
      ]
     },
     "execution_count": 40,
     "metadata": {},
     "output_type": "execute_result"
    }
   ],
   "source": [
    "# see discussion in LazySets #1928\n",
    "function _linear_map_hrep_lift(M, P)\n",
    "    m, n = size(M)\n",
    "    r = rank(M)\n",
    "    @assert m > n\n",
    "    @assert r == n\n",
    "    \n",
    "    # we extend the linear map to an mxm matrix with identity in the last m-n columns\n",
    "    Id_ext = Matrix([Diagonal(ones(m-n)); zeros(n, m-n)])\n",
    "    Mext = hcat(M, Id_ext)\n",
    "    \n",
    "    id_out = Matrix(1.0I, m-n, m-n)\n",
    "\n",
    "    # append zeros to the existing constraints, in the last m-n coordinates\n",
    "    cext = [LazySets.HalfSpace(vcat(c.a, zeros(m-n)), c.b) for c in constraints_list(P)]\n",
    "\n",
    "    # now fix the last m-n coordinates to zero\n",
    "    cext = vcat(cext, [LazySets.HalfSpace(vcat(zeros(n), id_out[i, :]), 0.0) for i in 1:(m-n)],\n",
    "                      [LazySets.HalfSpace(vcat(zeros(n), -id_out[i, :]), 0.0) for i in 1:(m-n)])\n",
    "\n",
    "    Pext = HPolytope(cext)\n",
    "\n",
    "    # now Mext is invertible and we can apply the linear with inverse function\n",
    "    MP = linear_map(Mext, Pext, algorithm=\"inverse\")\n",
    "    return MP\n",
    "end"
   ]
  },
  {
   "cell_type": "code",
   "execution_count": 41,
   "metadata": {},
   "outputs": [
    {
     "name": "stdout",
     "output_type": "stream",
     "text": [
      "  12.112 μs (168 allocations: 18.81 KiB)\n"
     ]
    }
   ],
   "source": [
    "# performance check\n",
    "@btime _linear_map_hrep_lift($M, $P);"
   ]
  },
  {
   "cell_type": "code",
   "execution_count": 42,
   "metadata": {},
   "outputs": [
    {
     "name": "stdout",
     "output_type": "stream",
     "text": [
      "  266.628 μs (3576 allocations: 207.27 KiB)\n"
     ]
    },
    {
     "data": {
      "text/plain": [
       "VPolytope{Float64}(Array{Float64,1}[[1.2569337551808557, 0.9560482187389823, 1.0942798890114949, 0.6306064956364668, 1.0224594963764189], [0.7676077771209942, 0.8291853417366579, 0.8920161215663114, 0.276443305977512, 0.8244904191998399], [0.8731298666203586, 0.5414555478706533, 0.6482718282283392, 0.49238484264771076, 0.6102142867764989], [0.3838038885604971, 0.41459267086832896, 0.4460080607831557, 0.138221652988756, 0.41224520959991995]])"
      ]
     },
     "execution_count": 42,
     "metadata": {},
     "output_type": "execute_result"
    }
   ],
   "source": [
    "@btime linear_map(M, P, algorithm=\"vrep\")"
   ]
  },
  {
   "cell_type": "code",
   "execution_count": 47,
   "metadata": {},
   "outputs": [
    {
     "data": {
      "text/plain": [
       "22.166666666666668"
      ]
     },
     "execution_count": 47,
     "metadata": {},
     "output_type": "execute_result"
    }
   ],
   "source": [
    "266/12"
   ]
  },
  {
   "cell_type": "code",
   "execution_count": 49,
   "metadata": {},
   "outputs": [
    {
     "data": {
      "text/plain": [
       "(5, 3)"
      ]
     },
     "execution_count": 49,
     "metadata": {},
     "output_type": "execute_result"
    }
   ],
   "source": [
    "size(M)"
   ]
  },
  {
   "cell_type": "code",
   "execution_count": 50,
   "metadata": {},
   "outputs": [
    {
     "data": {
      "text/plain": [
       "3"
      ]
     },
     "execution_count": 50,
     "metadata": {},
     "output_type": "execute_result"
    }
   ],
   "source": [
    "dim(P)"
   ]
  },
  {
   "cell_type": "code",
   "execution_count": 44,
   "metadata": {},
   "outputs": [
    {
     "name": "stdout",
     "output_type": "stream",
     "text": [
      "v1 ⊆ v2 && v2 ⊆ v1 = true\n"
     ]
    },
    {
     "data": {
      "text/plain": [
       "true"
      ]
     },
     "execution_count": 44,
     "metadata": {},
     "output_type": "execute_result"
    }
   ],
   "source": [
    "# sanity check\n",
    "v1 = tovrep(_linear_map_hrep_lift(M, P))\n",
    "v2 = linear_map(M, P, algorithm=\"vrep\")\n",
    "@show v1 ⊆ v2 && v2 ⊆ v1"
   ]
  },
  {
   "cell_type": "code",
   "execution_count": 45,
   "metadata": {},
   "outputs": [
    {
     "data": {
      "text/plain": [
       "HPolytope{Float64}(LazySets.HalfSpace{Float64,VN} where VN<:AbstractArray{Float64,1}[LazySets.HalfSpace{Float64,Array{Float64,1}}([0.0, -8.881784197001252e-16, -4.881809323685728, 3.272617087111273, 4.184353695375888], 1.0), LazySets.HalfSpace{Float64,Array{Float64,1}}([-2.220446049250313e-16, 1.3877787807814457e-16, 0.23129850706982447, -0.8247581849527279, 1.2391616182409606], 1.0), LazySets.HalfSpace{Float64,Array{Float64,1}}([-4.440892098500626e-16, 0.0, 2.300764280362159, 0.09528853729520836, -2.52114598286773], 0.0), LazySets.HalfSpace{Float64,Array{Float64,1}}([0.0, 8.881784197001252e-16, 4.881809323685728, -3.272617087111273, -4.184353695375888], -0.0), LazySets.HalfSpace{Float64,Array{Float64,1}}([2.220446049250313e-16, -1.3877787807814457e-16, -0.23129850706982447, 0.8247581849527279, -1.2391616182409606], -0.5), LazySets.HalfSpace{Float64,Array{Float64,1}}([4.440892098500626e-16, 0.0, -2.300764280362159, -0.09528853729520836, 2.52114598286773], -0.0), LazySets.HalfSpace{Float64,Array{Float64,1}}([0.9999999999999998, 1.1102230246251565e-16, 0.6722532366789024, -1.0320248889805375, -1.3122919377315474], 0.0), LazySets.HalfSpace{Float64,Array{Float64,1}}([1.1102230246251565e-16, 0.9999999999999999, -1.124525318617965, 0.20442375555142023, 0.1423883043892977], 0.0), LazySets.HalfSpace{Float64,Array{Float64,1}}([-0.9999999999999998, -1.1102230246251565e-16, -0.6722532366789024, 1.0320248889805375, 1.3122919377315474], 0.0), LazySets.HalfSpace{Float64,Array{Float64,1}}([-1.1102230246251565e-16, -0.9999999999999999, 1.124525318617965, -0.20442375555142023, -0.1423883043892977], 0.0)])"
      ]
     },
     "execution_count": 45,
     "metadata": {},
     "output_type": "execute_result"
    }
   ],
   "source": [
    "_linear_map_hrep_lift(M, P)"
   ]
  },
  {
   "cell_type": "code",
   "execution_count": 56,
   "metadata": {},
   "outputs": [],
   "source": [
    "P = rand(HPolytope, dim=4);\n",
    "M = rand(8, 4);"
   ]
  },
  {
   "cell_type": "code",
   "execution_count": 59,
   "metadata": {},
   "outputs": [
    {
     "name": "stdout",
     "output_type": "stream",
     "text": [
      "  468.625 ms (9302313 allocations: 548.02 MiB)\n"
     ]
    },
    {
     "data": {
      "text/plain": [
       "VPolytope{Float64}(Array{Float64,1}[[0.8584287284649224, 0.43610793876701215, 1.1579257323935486, 0.5294981611125507, 1.2242350877481192, 0.4858241467778547, 0.5299025780360251, 0.8167128976902374], [0.7736039108635099, 0.3740476271267728, 0.6107352777666155, 0.7205788424827382, 0.7935884586832731, 0.6750826806139948, 0.17081692960687034, 0.4989176571239061], [0.808005837676803, 0.31717751762538443, 0.6170804079319718, 0.6656944940906986, 0.8452590131982162, 0.7141409619271011, 0.24220630146153993, 0.5963406195457237], [0.6994684319703348, 0.49660159991656366, 0.5970616464609858, 0.8388535389515257, 0.6822394251122521, 0.590912848918039, 0.01697423064839776, 0.2889730800793904], [0.6191041241693319, 0.19847115435308296, 0.2437171866981122, 0.59864580434787, 0.5120528293499366, 0.6587235963392547, 0.16738792252212037, 0.432119407434251], [0.6825434141524587, 0.4756317905745095, 0.5554923517445184, 0.8240122015765001, 0.6511986843562176, 0.5897613862325941, 0.017876133854279108, 0.28314874113933075], [0.22189613602967562, 0.3960373520831766, 0.18248672816878453, 0.6000159889022956, 0.11984721768884898, 0.18826040645228664, -0.16868020411833162, -0.14742695533108374], [0.6491503561824478, 0.5009481299216133, 0.5588623030641647, 0.8304898512790451, 0.6203839528443614, 0.546145536305482, -0.016107642180674175, 0.22761437699572706], [-3.883129940470648, -1.6398447604766424, -2.5572673541977364, -3.802003115494104, -4.10238393325972, -3.2858903433584965, -3.8225927747062443, -4.205609368544881], [-0.7459808880770811, -0.12623532120323505, 0.29651411489684387, -1.018564472496009, -0.4020366197032159, -0.9513435973971528, -1.2248008418117509, -1.0517266587848106]  …  [-1.0795460050388945, -0.9581838587460971, -1.058971133940415, -1.4897283956983487, -1.1120482401361422, -0.8035984230596223, -0.24572262427403269, -0.47961200485658084], [-1.176701643923027, -1.0198378863285775, -1.1384602336842233, -1.604877040491756, -1.2205311419500537, -0.8747563377827258, -0.3572526699891032, -0.5842772054633176], [-1.193677169811428, -1.0306103906666813, -1.1523489722694944, -1.624996395612625, -1.239485824656501, -0.8871894094749131, -0.3767397651295984, -0.6025648400558222], [-1.0754475959914507, -0.9555830480535052, -1.0556179693757537, -1.4848709705088032, -1.1074720023449693, -0.8005967008245791, -0.24101784590326403, -0.4751968127993228], [-1.0434328093406668, -0.9352667744755128, -1.0294246717083284, -1.4469271173415745, -1.0717246489569447, -0.7771487004353099, -0.2042663957586317, -0.4407074706914259], [-1.114138551052039, -0.9801359534524695, -1.0872734576347747, -1.5307274034668805, -1.1506738908522327, -0.8289344042494948, -0.28543321938265, -0.5168783520243617], [-1.0317116928583412, -0.9278286674629016, -1.019834893823346, -1.433035276436539, -1.0586369811374994, -0.7685640190242438, -0.19081111233792947, -0.4280803805703821], [-1.082422166044485, -0.9600090426675549, -1.061324300999768, -1.493137215256382, -1.1152597294079338, -0.8057049566784262, -0.24902432011095843, -0.48271047625860153], [-2.7498289225900434, -0.6569100211655059, -0.46346582626020594, -2.8709902301982906, -2.185182672091197, -3.000717454711493, -2.6497130119817225, -3.0031604042207487], [-1.1970735036938969, -1.0327656712584656, -1.1551277252667245, -1.6290217228949555, -1.243278133155842, -0.8896769237309619, -0.38063859465226835, -0.6062236906507918]])"
      ]
     },
     "execution_count": 59,
     "metadata": {},
     "output_type": "execute_result"
    }
   ],
   "source": [
    "@btime linear_map($M, $P, algorithm=\"vrep\");"
   ]
  },
  {
   "cell_type": "code",
   "execution_count": 60,
   "metadata": {},
   "outputs": [
    {
     "name": "stdout",
     "output_type": "stream",
     "text": [
      "  28.198 μs (482 allocations: 45.25 KiB)\n"
     ]
    }
   ],
   "source": [
    "@btime _linear_map_hrep_lift($M, $P);"
   ]
  },
  {
   "cell_type": "code",
   "execution_count": 61,
   "metadata": {},
   "outputs": [
    {
     "data": {
      "text/plain": [
       "16714.285714285714"
      ]
     },
     "execution_count": 61,
     "metadata": {},
     "output_type": "execute_result"
    }
   ],
   "source": [
    "468e-3 / 28e-6"
   ]
  },
  {
   "cell_type": "code",
   "execution_count": 63,
   "metadata": {},
   "outputs": [
    {
     "name": "stdout",
     "output_type": "stream",
     "text": [
      "  7.499 ms (35507 allocations: 3.24 MiB)\n"
     ]
    },
    {
     "data": {
      "text/plain": [
       "HPolytope{Float64}(LazySets.HalfSpace{Float64,VN} where VN<:AbstractArray{Float64,1}[LazySets.HalfSpace{Float64,Array{Float64,1}}([-0.9014815377117815, -3.192322004990111, 1.9985328609837612, 2.032371705218291, -1.0, -0.0, -0.0, -0.0], 0.0), LazySets.HalfSpace{Float64,Array{Float64,1}}([2.7846467949643445, 2.684257055578964, -1.763438595198389, -1.9514544549681212, -0.0, -1.0, -0.0, -0.0], 0.0), LazySets.HalfSpace{Float64,Array{Float64,1}}([-12.19288763030646, -22.98500588209988, 10.782336880255073, 16.11984032901728, -0.0, -0.0, -1.0, -0.0], 0.0), LazySets.HalfSpace{Float64,Array{Float64,1}}([-6.125965260669085, -13.394986552303418, 6.1854216054268205, 8.979858569378784, -0.0, -0.0, -0.0, -1.0], 0.0), LazySets.HalfSpace{Float64,Array{Float64,1}}([0.9014815377117815, 3.192322004990111, -1.9985328609837612, -2.032371705218291, 1.0, 0.0, 0.0, 0.0], -0.0), LazySets.HalfSpace{Float64,Array{Float64,1}}([-2.7846467949643445, -2.684257055578964, 1.763438595198389, 1.9514544549681212, 0.0, 1.0, 0.0, 0.0], -0.0), LazySets.HalfSpace{Float64,Array{Float64,1}}([12.19288763030646, 22.98500588209988, -10.782336880255073, -16.11984032901728, 0.0, 0.0, 1.0, 0.0], -0.0), LazySets.HalfSpace{Float64,Array{Float64,1}}([6.125965260669085, 13.394986552303418, -6.1854216054268205, -8.979858569378784, 0.0, 0.0, 0.0, 1.0], -0.0), LazySets.HalfSpace{Float64,Array{Float64,1}}([0.49244532007101116, -0.08893132647634563, 0.4478243334419239, -0.10502627039221511, -0.6643499474997322, 0.08750509004929974, 0.0023741657780197746, 0.0013922520111863252], 0.07846837088880541), LazySets.HalfSpace{Float64,Array{Float64,1}}([0.46965431830207366, -0.10468385179137993, 0.3498226565834172, -0.07657485868160785, -0.620454908259689, 0.08236904425957942, 0.002527532114477785, 0.0013219657150040885], 0.04695184351951697)  …  LazySets.HalfSpace{Float64,Array{Float64,1}}([8.244981613741729, -6.709091406851743, -20.253632569333472, 9.569787532801694, -4.458417618763135, 0.9383135656906788, 0.13415802856871709, 0.017800333148332424], 9.511611506011555), LazySets.HalfSpace{Float64,Array{Float64,1}}([-0.16065187106381365, -0.6878799409574065, -3.9986288198332467, 1.6184755908932775, 1.338609044974221, -0.11190202165113168, 0.012396942423470496, -0.0012328501433836484], 1.3164479245796668), LazySets.HalfSpace{Float64,Array{Float64,1}}([-0.2740622279175881, -0.1648888361124604, -0.8343120744615243, 0.1416823494182031, 0.8492148899527023, -0.07514774463654042, 0.0008319863865037889, -0.00070504165392569], 0.24245518276602376), LazySets.HalfSpace{Float64,Array{Float64,1}}([-0.6523721289882354, 0.026088631166295152, -1.184869851914335, 0.40980275030288393, 0.9943521254695451, -0.1261067649269451, -0.001150641834558094, -0.001996707017324162], 0.3326788361315452), LazySets.HalfSpace{Float64,Array{Float64,1}}([-0.4792914117353511, 0.08997326018085941, -0.39952648225485526, 0.08229150171025196, 0.64283980663925, -0.08466588871075469, -0.0024311739344494315, -0.0013417606212062889], 0.08611064622759693), LazySets.HalfSpace{Float64,Array{Float64,1}}([-0.27032298887754175, -0.0756726778349644, -0.26888227515903396, -0.11214299599431787, 0.642207141710257, -0.060075847644637886, -0.0010787099827362474, -0.0005547366602002592], 0.15077827099454458), LazySets.HalfSpace{Float64,Array{Float64,1}}([-0.07405816832382565, -0.32004492915168536, -0.6910215006659786, -0.05193445256545326, 0.8410245974031859, -0.05110115192680331, 0.002063244353483291, 5.1929590576657995e-5], 0.3010241255598146), LazySets.HalfSpace{Float64,Array{Float64,1}}([0.159397191542513, -0.9966572358621811, -0.023257122821287057, -1.3616927638574148, 1.1639884510308451, -0.025286084985900723, 0.002205975850739719, 0.002085069227221396], 1.6568266242454661), LazySets.HalfSpace{Float64,Array{Float64,1}}([-0.47270106003164014, 0.08820274480258895, -0.3819930916819209, 0.07207203647870979, 0.6351093697133087, -0.08342382970601935, -0.002436117122481667, -0.0013159360988695273], 0.08493674170224254), LazySets.HalfSpace{Float64,Array{Float64,1}}([-0.3699173730174736, 0.024274686604644154, -0.2868712565212534, -0.018649050271465458, 0.5958393216906485, -0.0693546508345672, -0.0018919043584307205, -0.0009436261610723712], 0.1017022860015245)])"
      ]
     },
     "execution_count": 63,
     "metadata": {},
     "output_type": "execute_result"
    }
   ],
   "source": [
    "@btime _linear_map_hrep_proj($M, $P)"
   ]
  },
  {
   "cell_type": "code",
   "execution_count": 64,
   "metadata": {},
   "outputs": [
    {
     "data": {
      "text/plain": [
       "285.7142857142857"
      ]
     },
     "execution_count": 64,
     "metadata": {},
     "output_type": "execute_result"
    }
   ],
   "source": [
    "8e-3 / 28e-6"
   ]
  },
  {
   "cell_type": "code",
   "execution_count": 108,
   "metadata": {},
   "outputs": [],
   "source": [
    "P = convert(HPolytope, rand(Hyperrectangle, dim=2))\n",
    "P = rand(HPolytope, dim=6)\n",
    "M = rand(6,6);"
   ]
  },
  {
   "cell_type": "code",
   "execution_count": 101,
   "metadata": {},
   "outputs": [
    {
     "data": {
      "text/plain": [
       "true"
      ]
     },
     "execution_count": 101,
     "metadata": {},
     "output_type": "execute_result"
    }
   ],
   "source": [
    "isinvertible(M)"
   ]
  },
  {
   "cell_type": "code",
   "execution_count": 109,
   "metadata": {},
   "outputs": [
    {
     "name": "stdout",
     "output_type": "stream",
     "text": [
      "  9.284 μs (90 allocations: 11.44 KiB)\n"
     ]
    }
   ],
   "source": [
    "@btime linear_map($M, $P, algorithm=\"inverse\");"
   ]
  },
  {
   "cell_type": "code",
   "execution_count": 110,
   "metadata": {},
   "outputs": [
    {
     "name": "stdout",
     "output_type": "stream",
     "text": [
      "  10.505 μs (107 allocations: 10.77 KiB)\n"
     ]
    }
   ],
   "source": [
    "@btime linear_map($M, $P, algorithm=\"division\");"
   ]
  },
  {
   "cell_type": "code",
   "execution_count": 90,
   "metadata": {},
   "outputs": [
    {
     "data": {
      "text/plain": [
       "0.298581832119586"
      ]
     },
     "execution_count": 90,
     "metadata": {},
     "output_type": "execute_result"
    }
   ],
   "source": [
    "(2.609 - 1.830)/2.609"
   ]
  },
  {
   "cell_type": "markdown",
   "metadata": {},
   "source": [
    "## Generalization of the lift"
   ]
  },
  {
   "cell_type": "markdown",
   "metadata": {},
   "source": [
    "https://math.stackexchange.com/questions/2817168/can-a-non-invertible-matrix-be-extended-to-an-invertible-one"
   ]
  },
  {
   "cell_type": "markdown",
   "metadata": {},
   "source": [
    "Let $M_{m\\times n}$.\n",
    "\n",
    "$$\n",
    "M^e_{(m+n)\\times (m+n)} =\n",
    "\\begin{pmatrix}\n",
    "     M_{m\\times n} & I_{m\\times m} \\\\ I_{n\\times n} & 0_{n\\times m}\n",
    "\\end{pmatrix}\n",
    "$$\n",
    "\n",
    "$$\n",
    "inv(M^e_{(m+n)\\times (m+n)}) =\n",
    "\\begin{pmatrix}\n",
    "     0_{n\\times m} & I_{n\\times n} \\\\ I_{m\\times m} & -M_{n\\times m}\n",
    "\\end{pmatrix}\n",
    "$$"
   ]
  },
  {
   "cell_type": "code",
   "execution_count": 113,
   "metadata": {},
   "outputs": [
    {
     "data": {
      "text/plain": [
       "2×4 Array{Float64,2}:\n",
       " 0.830139  0.506439  0.0784163  0.185765\n",
       " 0.157628  0.472082  0.0554617  0.943656"
      ]
     },
     "execution_count": 113,
     "metadata": {},
     "output_type": "execute_result"
    }
   ],
   "source": [
    "m, n = 2, 4\n",
    "M = rand(m, n)"
   ]
  },
  {
   "cell_type": "code",
   "execution_count": 115,
   "metadata": {},
   "outputs": [
    {
     "data": {
      "text/plain": [
       "6×6 Array{Float64,2}:\n",
       " 0.830139  0.506439  0.0784163  0.185765  1.0  0.0\n",
       " 0.157628  0.472082  0.0554617  0.943656  0.0  1.0\n",
       " 1.0       0.0       0.0        0.0       0.0  0.0\n",
       " 0.0       1.0       0.0        0.0       0.0  0.0\n",
       " 0.0       0.0       1.0        0.0       0.0  0.0\n",
       " 0.0       0.0       0.0        1.0       0.0  0.0"
      ]
     },
     "execution_count": 115,
     "metadata": {},
     "output_type": "execute_result"
    }
   ],
   "source": [
    "Mext = [M Matrix(1.0I, m, m); Matrix(1.0I, n, n) zeros(n, m)]"
   ]
  },
  {
   "cell_type": "code",
   "execution_count": 116,
   "metadata": {},
   "outputs": [
    {
     "data": {
      "text/plain": [
       "6×6 Array{Float64,2}:\n",
       " 0.0  0.0   1.0        0.0        0.0         0.0     \n",
       " 0.0  0.0   0.0        1.0        0.0         0.0     \n",
       " 0.0  0.0   0.0        0.0        1.0         0.0     \n",
       " 0.0  0.0   0.0        0.0        0.0         1.0     \n",
       " 1.0  0.0  -0.830139  -0.506439  -0.0784163  -0.185765\n",
       " 0.0  1.0  -0.157628  -0.472082  -0.0554617  -0.943656"
      ]
     },
     "execution_count": 116,
     "metadata": {},
     "output_type": "execute_result"
    }
   ],
   "source": [
    "inv_Mext = [zeros(n, m) Matrix(1.0I, n, n); Matrix(1.0I, m, m) -M]"
   ]
  },
  {
   "cell_type": "code",
   "execution_count": 117,
   "metadata": {},
   "outputs": [
    {
     "data": {
      "text/plain": [
       "6×6 Array{Float64,2}:\n",
       " 1.0  0.0  0.0  0.0  0.0  0.0\n",
       " 0.0  1.0  0.0  0.0  0.0  0.0\n",
       " 0.0  0.0  1.0  0.0  0.0  0.0\n",
       " 0.0  0.0  0.0  1.0  0.0  0.0\n",
       " 0.0  0.0  0.0  0.0  1.0  0.0\n",
       " 0.0  0.0  0.0  0.0  0.0  1.0"
      ]
     },
     "execution_count": 117,
     "metadata": {},
     "output_type": "execute_result"
    }
   ],
   "source": [
    "Mext * inv_Mext"
   ]
  },
  {
   "cell_type": "code",
   "execution_count": 118,
   "metadata": {},
   "outputs": [
    {
     "data": {
      "text/plain": [
       "6×6 Array{Float64,2}:\n",
       " 1.0  0.0  0.0  0.0  0.0  0.0\n",
       " 0.0  1.0  0.0  0.0  0.0  0.0\n",
       " 0.0  0.0  1.0  0.0  0.0  0.0\n",
       " 0.0  0.0  0.0  1.0  0.0  0.0\n",
       " 0.0  0.0  0.0  0.0  1.0  0.0\n",
       " 0.0  0.0  0.0  0.0  0.0  1.0"
      ]
     },
     "execution_count": 118,
     "metadata": {},
     "output_type": "execute_result"
    }
   ],
   "source": [
    "inv_Mext * Mext"
   ]
  },
  {
   "cell_type": "code",
   "execution_count": 244,
   "metadata": {},
   "outputs": [
    {
     "data": {
      "text/plain": [
       "_linear_map_hrep_lift_v2 (generic function with 1 method)"
      ]
     },
     "execution_count": 244,
     "metadata": {},
     "output_type": "execute_result"
    }
   ],
   "source": [
    "# see discussion in LazySets #1928\n",
    "function _linear_map_hrep_lift_v2(M, P)\n",
    "    m, n = size(M)\n",
    "    \n",
    "    Mext = [M Matrix(1.0I, m, m); Matrix(1.0I, n, n) zeros(n, m)]\n",
    "    \n",
    "    id_out = Matrix(1.0I, m, m)\n",
    "\n",
    "    # append zeros to the existing constraints, in the last m coordinates\n",
    "    cext = [LazySets.HalfSpace(vcat(c.a, zeros(m)), c.b) for c in constraints_list(P)]\n",
    "\n",
    "    # now fix the last m coordinates to zero\n",
    "    cext = vcat(cext, [LazySets.HalfSpace(vcat(zeros(n), id_out[i, :]), 0.0) for i in 1:m],\n",
    "                      [LazySets.HalfSpace(vcat(zeros(n), -id_out[i, :]), 0.0) for i in 1:m])\n",
    "\n",
    "    Pext = HPolytope(cext)\n",
    "\n",
    "    # the inverse of Mext is known and we can apply the linear with inverse function\n",
    "    Mext_inv = [zeros(n, m) Matrix(1.0I, n, n); Matrix(1.0I, m, m) -M]\n",
    "    MP = linear_map(Mext, Pext, inverse=Mext_inv, algorithm=\"inverse\")\n",
    "    \n",
    "    return MP\n",
    "    # only keep the first m coordinates\n",
    "    #return HPolytope([LazySets.HalfSpace(c.a[1:m], c.b) for c in constraints_list(MP) if !iszero(c.a[1:m])])\n",
    "end"
   ]
  },
  {
   "cell_type": "code",
   "execution_count": 258,
   "metadata": {},
   "outputs": [],
   "source": [
    "P = rand(HPolytope, dim=4);"
   ]
  },
  {
   "cell_type": "code",
   "execution_count": 259,
   "metadata": {},
   "outputs": [
    {
     "data": {
      "text/plain": [
       "2×4 Array{Float64,2}:\n",
       " 0.924443   0.721131  0.918632  0.917156\n",
       " 0.0203537  0.709373  0.145303  0.922856"
      ]
     },
     "execution_count": 259,
     "metadata": {},
     "output_type": "execute_result"
    }
   ],
   "source": [
    "M = rand(2, 4)"
   ]
  },
  {
   "cell_type": "code",
   "execution_count": 260,
   "metadata": {},
   "outputs": [],
   "source": [
    "Pout = _linear_map_hrep_lift_v2(M, P);"
   ]
  },
  {
   "cell_type": "code",
   "execution_count": 261,
   "metadata": {},
   "outputs": [
    {
     "data": {
      "text/plain": [
       "4-element Array{Array{Float64,1},1}:\n",
       " [-0.5238640966240138, -0.05152274825463088]\n",
       " [2.2443407351102795, 0.240166006770957]    \n",
       " [5.118606963490539, 2.2680092723942944]    \n",
       " [1.2720908778041924, 1.3441883967425725]   "
      ]
     },
     "execution_count": 261,
     "metadata": {},
     "output_type": "execute_result"
    }
   ],
   "source": [
    "convex_hull([v[1:2] for v in vertices_list(Pout)])"
   ]
  },
  {
   "cell_type": "code",
   "execution_count": 262,
   "metadata": {},
   "outputs": [
    {
     "data": {
      "text/plain": [
       "4-element Array{Array{Float64,1},1}:\n",
       " [-0.5238640966237547, -0.05152274825452914]\n",
       " [2.2443407351103435, 0.24016600677100108]  \n",
       " [5.118606963491523, 2.268009272394667]     \n",
       " [1.2720908778045135, 1.3441883967427615]   "
      ]
     },
     "execution_count": 262,
     "metadata": {},
     "output_type": "execute_result"
    }
   ],
   "source": [
    "vertices_list(linear_map(M, P, algorithm=\"vrep\"))"
   ]
  },
  {
   "cell_type": "code",
   "execution_count": 252,
   "metadata": {},
   "outputs": [
    {
     "data": {
      "text/plain": [
       "LazySets.HalfSpace{Float64,Array{Float64,1}}([0.0, 0.0, -0.06311734884135688, -0.06017436160322959, 0.1864869467424986], 0.1088599839373961)"
      ]
     },
     "execution_count": 252,
     "metadata": {},
     "output_type": "execute_result"
    }
   ],
   "source": [
    "Pout.constraints[1]"
   ]
  },
  {
   "cell_type": "code",
   "execution_count": 270,
   "metadata": {},
   "outputs": [
    {
     "data": {
      "text/plain": [
       "VPolygon{Float64,Array{Float64,1}}(Array{Float64,1}[[-0.5238640966240138, -0.05152274825463088], [2.2443407351102795, 0.240166006770957], [5.118606963490539, 2.2680092723942944], [1.2720908778041924, 1.3441883967425725]])"
      ]
     },
     "execution_count": 270,
     "metadata": {},
     "output_type": "execute_result"
    }
   ],
   "source": [
    "linear_map([1.0 0.0 0.0 0.0 0.0 0.0; 0.0 1.0 0.0 0.0 0.0 0.0], Pout, algorithm=\"vrep\")"
   ]
  },
  {
   "cell_type": "code",
   "execution_count": 267,
   "metadata": {},
   "outputs": [
    {
     "data": {
      "text/plain": [
       "2×6 Array{Float64,2}:\n",
       " 1.0  0.0  0.0  0.0  0.0  0.0\n",
       " 0.0  1.0  0.0  0.0  0.0  0.0"
      ]
     },
     "execution_count": 267,
     "metadata": {},
     "output_type": "execute_result"
    }
   ],
   "source": [
    "[1.0 0.0 0.0 0.0 0.0 0.0; 0.0 1.0 0.0 0.0 0.0 0.0]"
   ]
  },
  {
   "cell_type": "markdown",
   "metadata": {},
   "source": [
    "## Extension using QR"
   ]
  },
  {
   "cell_type": "code",
   "execution_count": 271,
   "metadata": {},
   "outputs": [
    {
     "data": {
      "text/plain": [
       "5×3 Array{Float64,2}:\n",
       " 0.710071  0.478913  0.479142\n",
       " 0.330047  0.40024   0.813866\n",
       " 0.582121  0.257866  0.669767\n",
       " 0.927018  0.329415  0.594451\n",
       " 0.566253  0.247981  0.915959"
      ]
     },
     "execution_count": 271,
     "metadata": {},
     "output_type": "execute_result"
    }
   ],
   "source": [
    "A = rand(5, 3)"
   ]
  },
  {
   "cell_type": "code",
   "execution_count": 272,
   "metadata": {},
   "outputs": [],
   "source": [
    "using LinearAlgebra"
   ]
  },
  {
   "cell_type": "code",
   "execution_count": 273,
   "metadata": {},
   "outputs": [
    {
     "data": {
      "text/plain": [
       "3"
      ]
     },
     "execution_count": 273,
     "metadata": {},
     "output_type": "execute_result"
    }
   ],
   "source": [
    "rank(A)"
   ]
  },
  {
   "cell_type": "code",
   "execution_count": 278,
   "metadata": {},
   "outputs": [
    {
     "data": {
      "text/plain": [
       "LinearAlgebra.QRCompactWY{Float64,Array{Float64,2}}\n",
       "Q factor:\n",
       "5×5 LinearAlgebra.QRCompactWYQ{Float64,Array{Float64,2}}:\n",
       " -0.486304  -0.408398   0.590838  -0.447177   0.218316 \n",
       " -0.226038  -0.778725  -0.31998    0.47447   -0.122411 \n",
       " -0.398675   0.111912  -0.238821  -0.372533  -0.795435 \n",
       " -0.634884   0.447518   0.218271   0.589441   0.0395771\n",
       " -0.387808   0.118329  -0.666217  -0.297806   0.550518 \n",
       "R factor:\n",
       "3×3 Array{Float64,2}:\n",
       " -1.46014  -0.731481  -1.41662 \n",
       "  0.0      -0.301644  -0.380091\n",
       "  0.0       0.0       -0.617756"
      ]
     },
     "execution_count": 278,
     "metadata": {},
     "output_type": "execute_result"
    }
   ],
   "source": [
    "Q, R = qr(A)"
   ]
  },
  {
   "cell_type": "code",
   "execution_count": 279,
   "metadata": {},
   "outputs": [
    {
     "data": {
      "text/plain": [
       "5×3 Array{Float64,2}:\n",
       " 0.710071  0.478913  0.479142\n",
       " 0.330047  0.40024   0.813866\n",
       " 0.582121  0.257866  0.669767\n",
       " 0.927018  0.329415  0.594451\n",
       " 0.566253  0.247981  0.915959"
      ]
     },
     "execution_count": 279,
     "metadata": {},
     "output_type": "execute_result"
    }
   ],
   "source": [
    "Q * R"
   ]
  },
  {
   "cell_type": "code",
   "execution_count": 282,
   "metadata": {},
   "outputs": [
    {
     "data": {
      "text/plain": [
       "5×3 Array{Float64,2}:\n",
       " 0.710071  0.478913  0.479142\n",
       " 0.330047  0.40024   0.813866\n",
       " 0.582121  0.257866  0.669767\n",
       " 0.927018  0.329415  0.594451\n",
       " 0.566253  0.247981  0.915959"
      ]
     },
     "execution_count": 282,
     "metadata": {},
     "output_type": "execute_result"
    }
   ],
   "source": [
    "Q * R"
   ]
  },
  {
   "cell_type": "code",
   "execution_count": 283,
   "metadata": {},
   "outputs": [
    {
     "data": {
      "text/plain": [
       "5×5 LinearAlgebra.QRCompactWYQ{Float64,Array{Float64,2}}:\n",
       " -0.486304  -0.408398   0.590838  -0.447177   0.218316 \n",
       " -0.226038  -0.778725  -0.31998    0.47447   -0.122411 \n",
       " -0.398675   0.111912  -0.238821  -0.372533  -0.795435 \n",
       " -0.634884   0.447518   0.218271   0.589441   0.0395771\n",
       " -0.387808   0.118329  -0.666217  -0.297806   0.550518 "
      ]
     },
     "execution_count": 283,
     "metadata": {},
     "output_type": "execute_result"
    }
   ],
   "source": [
    "Q"
   ]
  },
  {
   "cell_type": "code",
   "execution_count": 284,
   "metadata": {},
   "outputs": [
    {
     "data": {
      "text/plain": [
       "3×3 Array{Float64,2}:\n",
       " -1.46014  -0.731481  -1.41662 \n",
       "  0.0      -0.301644  -0.380091\n",
       "  0.0       0.0       -0.617756"
      ]
     },
     "execution_count": 284,
     "metadata": {},
     "output_type": "execute_result"
    }
   ],
   "source": [
    "R"
   ]
  },
  {
   "cell_type": "code",
   "execution_count": 285,
   "metadata": {},
   "outputs": [
    {
     "data": {
      "text/plain": [
       "5×3 Array{Float64,2}:\n",
       " -0.486304  -0.408398   0.590838\n",
       " -0.226038  -0.778725  -0.31998 \n",
       " -0.398675   0.111912  -0.238821\n",
       " -0.634884   0.447518   0.218271\n",
       " -0.387808   0.118329  -0.666217"
      ]
     },
     "execution_count": 285,
     "metadata": {},
     "output_type": "execute_result"
    }
   ],
   "source": [
    "Matrix(Q)"
   ]
  },
  {
   "cell_type": "code",
   "execution_count": 289,
   "metadata": {},
   "outputs": [
    {
     "data": {
      "text/plain": [
       "5×3 Array{Float64,2}:\n",
       " -0.486304  -0.408398   0.590838\n",
       " -0.226038  -0.778725  -0.31998 \n",
       " -0.398675   0.111912  -0.238821\n",
       " -0.634884   0.447518   0.218271\n",
       " -0.387808   0.118329  -0.666217"
      ]
     },
     "execution_count": 289,
     "metadata": {},
     "output_type": "execute_result"
    }
   ],
   "source": [
    "Qm = Matrix(Q)"
   ]
  },
  {
   "cell_type": "code",
   "execution_count": 292,
   "metadata": {},
   "outputs": [
    {
     "data": {
      "text/plain": [
       "5×2 Array{Float64,2}:\n",
       " -0.131908   -0.537914\n",
       "  0.147217   -0.622846\n",
       " -0.107989   -0.641448\n",
       " -0.311378   -0.716559\n",
       " -0.0486015  -0.800481"
      ]
     },
     "execution_count": 292,
     "metadata": {},
     "output_type": "execute_result"
    }
   ],
   "source": [
    "A * Qm[4:5, :]'"
   ]
  },
  {
   "cell_type": "code",
   "execution_count": 293,
   "metadata": {},
   "outputs": [
    {
     "data": {
      "text/plain": [
       "5-element Array{Float64,1}:\n",
       " 0.7100710794441842 \n",
       " 0.33004687248954534\n",
       " 0.5821205236880644 \n",
       " 0.9270177313481347 \n",
       " 0.5662525399951128 "
      ]
     },
     "execution_count": 293,
     "metadata": {},
     "output_type": "execute_result"
    }
   ],
   "source": [
    "a1 = A[:, 1]"
   ]
  },
  {
   "cell_type": "code",
   "execution_count": 294,
   "metadata": {},
   "outputs": [
    {
     "data": {
      "text/plain": [
       "5-element Array{Float64,1}:\n",
       " -0.4270812117112601\n",
       " -0.2332595384205638\n",
       " -1.1809363243695792\n",
       "  0.3927824993837701\n",
       " -0.5884750849340681"
      ]
     },
     "execution_count": 294,
     "metadata": {},
     "output_type": "execute_result"
    }
   ],
   "source": [
    "Q * a1"
   ]
  },
  {
   "cell_type": "code",
   "execution_count": 305,
   "metadata": {},
   "outputs": [
    {
     "data": {
      "text/plain": [
       "5-element Array{Float64,1}:\n",
       " -1.4166165912323658    \n",
       " -0.3800911873872108    \n",
       " -0.6177559594241335    \n",
       "  1.1102230246251565e-16\n",
       "  1.1102230246251565e-16"
      ]
     },
     "execution_count": 305,
     "metadata": {},
     "output_type": "execute_result"
    }
   ],
   "source": [
    "Q' * A[:, 3]"
   ]
  },
  {
   "cell_type": "code",
   "execution_count": 308,
   "metadata": {},
   "outputs": [
    {
     "data": {
      "text/plain": [
       "5×5 Adjoint{Float64,LinearAlgebra.QRCompactWYQ{Float64,Array{Float64,2}}}:\n",
       " -0.486304  -0.226038  -0.398675  -0.634884   -0.387808\n",
       " -0.408398  -0.778725   0.111912   0.447518    0.118329\n",
       "  0.590838  -0.31998   -0.238821   0.218271   -0.666217\n",
       " -0.447177   0.47447   -0.372533   0.589441   -0.297806\n",
       "  0.218316  -0.122411  -0.795435   0.0395771   0.550518"
      ]
     },
     "execution_count": 308,
     "metadata": {},
     "output_type": "execute_result"
    }
   ],
   "source": [
    "Q'"
   ]
  },
  {
   "cell_type": "code",
   "execution_count": 309,
   "metadata": {},
   "outputs": [
    {
     "data": {
      "text/plain": [
       "5×3 Array{Float64,2}:\n",
       " -0.486304  -0.408398   0.590838\n",
       " -0.226038  -0.778725  -0.31998 \n",
       " -0.398675   0.111912  -0.238821\n",
       " -0.634884   0.447518   0.218271\n",
       " -0.387808   0.118329  -0.666217"
      ]
     },
     "execution_count": 309,
     "metadata": {},
     "output_type": "execute_result"
    }
   ],
   "source": [
    "Qm"
   ]
  },
  {
   "cell_type": "code",
   "execution_count": 310,
   "metadata": {},
   "outputs": [
    {
     "data": {
      "text/plain": [
       "5×3 Array{Float64,2}:\n",
       " -0.427081  -0.337166  -0.235523\n",
       " -0.23326   -0.3765    -0.786469\n",
       " -1.18094   -0.527693  -1.20993 \n",
       "  0.392782   0.13533    0.592856\n",
       " -0.588475  -0.271745  -0.208501"
      ]
     },
     "execution_count": 310,
     "metadata": {},
     "output_type": "execute_result"
    }
   ],
   "source": [
    "Q * A"
   ]
  },
  {
   "cell_type": "code",
   "execution_count": 312,
   "metadata": {},
   "outputs": [
    {
     "data": {
      "text/plain": [
       "5×5 Array{Float64,2}:\n",
       " -0.257803    -0.686761  -0.343921  -0.131908   -0.537914\n",
       "  0.156902    -0.646701  -0.281158   0.147217   -0.622846\n",
       "  0.00732392  -0.5467    -0.363173  -0.107989   -0.641448\n",
       " -0.234121    -0.656278  -0.474681  -0.311378   -0.716559\n",
       "  0.164537    -0.614192  -0.416749  -0.0486015  -0.800481"
      ]
     },
     "execution_count": 312,
     "metadata": {},
     "output_type": "execute_result"
    }
   ],
   "source": [
    "A * Q'"
   ]
  },
  {
   "cell_type": "code",
   "execution_count": 313,
   "metadata": {},
   "outputs": [
    {
     "data": {
      "text/plain": [
       "5×3 Array{Float64,2}:\n",
       " -1.46014      -0.731481     -1.41662    \n",
       "  5.55112e-17  -0.301644     -0.380091   \n",
       " -5.55112e-16  -1.11022e-16  -0.617756   \n",
       "  1.11022e-16   0.0           1.11022e-16\n",
       " -3.33067e-16  -5.55112e-17   1.11022e-16"
      ]
     },
     "execution_count": 313,
     "metadata": {},
     "output_type": "execute_result"
    }
   ],
   "source": [
    "Q' * A"
   ]
  },
  {
   "cell_type": "code",
   "execution_count": 316,
   "metadata": {},
   "outputs": [
    {
     "data": {
      "text/plain": [
       "5×3 Array{Float64,2}:\n",
       " -1.46014      -0.731481     -1.41662    \n",
       "  4.63162e-17  -0.301644     -0.380091   \n",
       " -2.85432e-16  -1.2122e-16   -0.617756   \n",
       "  1.67941e-16   2.67891e-17   1.32073e-16\n",
       " -1.45078e-17  -2.73795e-17   4.75897e-17"
      ]
     },
     "execution_count": 316,
     "metadata": {},
     "output_type": "execute_result"
    }
   ],
   "source": [
    "Matrix(Q') * A"
   ]
  },
  {
   "cell_type": "code",
   "execution_count": 319,
   "metadata": {},
   "outputs": [
    {
     "data": {
      "text/plain": [
       "5-element Array{Float64,1}:\n",
       " -0.4471770565152565 \n",
       "  0.47447031404774787\n",
       " -0.3725329301877762 \n",
       "  0.5894414579132832 \n",
       " -0.29780628742952225"
      ]
     },
     "execution_count": 319,
     "metadata": {},
     "output_type": "execute_result"
    }
   ],
   "source": [
    "q1 = Matrix(Q')[4, :]"
   ]
  },
  {
   "cell_type": "code",
   "execution_count": 325,
   "metadata": {},
   "outputs": [
    {
     "data": {
      "text/plain": [
       "3×3 Array{Float64,2}:\n",
       " -1.46014  -0.731481  -1.41662 \n",
       "  0.0      -0.301644  -0.380091\n",
       "  0.0       0.0       -0.617756"
      ]
     },
     "execution_count": 325,
     "metadata": {},
     "output_type": "execute_result"
    }
   ],
   "source": [
    "R"
   ]
  },
  {
   "cell_type": "code",
   "execution_count": 322,
   "metadata": {},
   "outputs": [
    {
     "data": {
      "text/plain": [
       "5×3 Array{Float64,2}:\n",
       " 0.710071  0.478913  0.479142\n",
       " 0.330047  0.40024   0.813866\n",
       " 0.582121  0.257866  0.669767\n",
       " 0.927018  0.329415  0.594451\n",
       " 0.566253  0.247981  0.915959"
      ]
     },
     "execution_count": 322,
     "metadata": {},
     "output_type": "execute_result"
    }
   ],
   "source": [
    "A"
   ]
  },
  {
   "cell_type": "code",
   "execution_count": 324,
   "metadata": {},
   "outputs": [
    {
     "data": {
      "text/plain": [
       "1×3 Adjoint{Float64,Array{Float64,1}}:\n",
       " 1.11022e-16  4.16334e-17  5.55112e-17"
      ]
     },
     "execution_count": 324,
     "metadata": {},
     "output_type": "execute_result"
    }
   ],
   "source": [
    "q1' * A"
   ]
  },
  {
   "cell_type": "code",
   "execution_count": 327,
   "metadata": {},
   "outputs": [
    {
     "data": {
      "text/plain": [
       "(5, 5)"
      ]
     },
     "execution_count": 327,
     "metadata": {},
     "output_type": "execute_result"
    }
   ],
   "source": [
    "size(Q)"
   ]
  },
  {
   "cell_type": "code",
   "execution_count": 399,
   "metadata": {},
   "outputs": [
    {
     "data": {
      "text/plain": [
       "extend (generic function with 1 method)"
      ]
     },
     "execution_count": 399,
     "metadata": {},
     "output_type": "execute_result"
    }
   ],
   "source": [
    "function extend(M)\n",
    "    Q, R = qr(M)\n",
    "    a = iszero(R) ? 1 : size(R, 1)+1\n",
    "    b = size(Q, 1)\n",
    "    ext = Matrix(Q')[a:b, :]\n",
    "    Mext = hcat(M, ext')\n",
    "    return Mext\n",
    "end"
   ]
  },
  {
   "cell_type": "code",
   "execution_count": 460,
   "metadata": {},
   "outputs": [
    {
     "data": {
      "text/plain": [
       "5×4 Array{Float64,2}:\n",
       " 0.18459   0.990444  0.514058   0.36918 \n",
       " 0.346679  0.899818  0.0919997  0.693359\n",
       " 0.838223  0.233413  0.436089   1.67645 \n",
       " 0.728239  0.979405  0.640922   1.45648 \n",
       " 0.326964  0.190715  0.337279   0.653929"
      ]
     },
     "execution_count": 460,
     "metadata": {},
     "output_type": "execute_result"
    }
   ],
   "source": [
    "m = rand(5,3)\n",
    "M = hcat(m, 2*m[:, 1])"
   ]
  },
  {
   "cell_type": "code",
   "execution_count": 461,
   "metadata": {},
   "outputs": [
    {
     "data": {
      "text/plain": [
       "3"
      ]
     },
     "execution_count": 461,
     "metadata": {},
     "output_type": "execute_result"
    }
   ],
   "source": [
    "rank(M)"
   ]
  },
  {
   "cell_type": "code",
   "execution_count": 462,
   "metadata": {},
   "outputs": [
    {
     "data": {
      "text/plain": [
       "5×5 Array{Float64,2}:\n",
       " 0.18459   0.990444  0.514058   0.36918   -0.33183  \n",
       " 0.346679  0.899818  0.0919997  0.693359   0.212451 \n",
       " 0.838223  0.233413  0.436089   1.67645   -0.401772 \n",
       " 0.728239  0.979405  0.640922   1.45648    0.0758447\n",
       " 0.326964  0.190715  0.337279   0.653929   0.823153 "
      ]
     },
     "execution_count": 462,
     "metadata": {},
     "output_type": "execute_result"
    }
   ],
   "source": [
    "Mext = extend(M)"
   ]
  },
  {
   "cell_type": "code",
   "execution_count": 463,
   "metadata": {},
   "outputs": [
    {
     "data": {
      "text/plain": [
       "4"
      ]
     },
     "execution_count": 463,
     "metadata": {},
     "output_type": "execute_result"
    }
   ],
   "source": [
    "rank(Mext)"
   ]
  },
  {
   "cell_type": "code",
   "execution_count": 469,
   "metadata": {},
   "outputs": [],
   "source": [
    "using SparseArrays"
   ]
  },
  {
   "cell_type": "code",
   "execution_count": 474,
   "metadata": {},
   "outputs": [],
   "source": [
    "M = sprandn(6, 1, 0.3);"
   ]
  },
  {
   "cell_type": "code",
   "execution_count": 475,
   "metadata": {},
   "outputs": [
    {
     "data": {
      "text/plain": [
       "1"
      ]
     },
     "execution_count": 475,
     "metadata": {},
     "output_type": "execute_result"
    }
   ],
   "source": [
    "rank(M)"
   ]
  },
  {
   "cell_type": "code",
   "execution_count": 476,
   "metadata": {},
   "outputs": [
    {
     "data": {
      "text/plain": [
       "6"
      ]
     },
     "execution_count": 476,
     "metadata": {},
     "output_type": "execute_result"
    }
   ],
   "source": [
    "rank(extend(Matrix(M)))"
   ]
  },
  {
   "cell_type": "code",
   "execution_count": 477,
   "metadata": {},
   "outputs": [
    {
     "data": {
      "text/plain": [
       "LinearAlgebra.QRCompactWY{Float64,Array{Float64,2}}\n",
       "Q factor:\n",
       "6×6 LinearAlgebra.QRCompactWYQ{Float64,Array{Float64,2}}:\n",
       " 0.0        0.397433   0.0   0.903805   0.158692   0.0\n",
       " 0.397433   0.842047   0.0  -0.359202  -0.0630695  0.0\n",
       " 0.0        0.0        1.0   0.0        0.0        0.0\n",
       " 0.903805  -0.359202   0.0   0.183136  -0.143427   0.0\n",
       " 0.158692  -0.0630695  0.0  -0.143427   0.974817   0.0\n",
       " 0.0        0.0        0.0   0.0        0.0        1.0\n",
       "R factor:\n",
       "1×1 Array{Float64,2}:\n",
       " -1.6181299591837748"
      ]
     },
     "execution_count": 477,
     "metadata": {},
     "output_type": "execute_result"
    }
   ],
   "source": [
    "Q, R = qr(Matrix(M))"
   ]
  },
  {
   "cell_type": "code",
   "execution_count": 494,
   "metadata": {},
   "outputs": [
    {
     "data": {
      "text/plain": [
       "LinearAlgebra.QRCompactWY{Float64,Array{Float64,2}}\n",
       "Q factor:\n",
       "5×5 LinearAlgebra.QRCompactWYQ{Float64,Array{Float64,2}}:\n",
       " -0.763954   0.257102  -0.28777    -0.304602   -0.417945 \n",
       " -0.258458  -0.780809   0.0199516  -0.46947     0.320527 \n",
       " -0.27016    0.101493   0.953805   -0.0321398  -0.0770511\n",
       " -0.425049  -0.362887  -0.0548304   0.82735    -0.0115205\n",
       " -0.309711   0.426906  -0.0635664   0.0357078   0.846472 \n",
       "R factor:\n",
       "2×2 Array{Float64,2}:\n",
       " -1.30566  -1.19759 \n",
       "  0.0      -0.772038"
      ]
     },
     "execution_count": 494,
     "metadata": {},
     "output_type": "execute_result"
    }
   ],
   "source": [
    "M = rand(5, 2)\n",
    "Q, R = qr(M)"
   ]
  },
  {
   "cell_type": "code",
   "execution_count": 495,
   "metadata": {},
   "outputs": [
    {
     "data": {
      "text/plain": [
       "3"
      ]
     },
     "execution_count": 495,
     "metadata": {},
     "output_type": "execute_result"
    }
   ],
   "source": [
    "a = size(R, 2) + 1"
   ]
  },
  {
   "cell_type": "code",
   "execution_count": 496,
   "metadata": {},
   "outputs": [
    {
     "data": {
      "text/plain": [
       "5"
      ]
     },
     "execution_count": 496,
     "metadata": {},
     "output_type": "execute_result"
    }
   ],
   "source": [
    "b = size(Q, 1)"
   ]
  },
  {
   "cell_type": "code",
   "execution_count": 497,
   "metadata": {},
   "outputs": [
    {
     "data": {
      "text/plain": [
       "5×5 Array{Float64,2}:\n",
       " -0.763954  -0.258458   -0.27016    -0.425049   -0.309711 \n",
       "  0.257102  -0.780809    0.101493   -0.362887    0.426906 \n",
       " -0.28777    0.0199516   0.953805   -0.0548304  -0.0635664\n",
       " -0.304602  -0.46947    -0.0321398   0.82735     0.0357078\n",
       " -0.417945   0.320527   -0.0770511  -0.0115205   0.846472 "
      ]
     },
     "execution_count": 497,
     "metadata": {},
     "output_type": "execute_result"
    }
   ],
   "source": [
    "Matrix(Q')"
   ]
  },
  {
   "cell_type": "code",
   "execution_count": 646,
   "metadata": {},
   "outputs": [
    {
     "name": "stdout",
     "output_type": "stream",
     "text": [
      "rank(M) = 4\n",
      "rank(Mext) = 7\n"
     ]
    },
    {
     "data": {
      "text/plain": [
       "7×7 Array{Float64,2}:\n",
       "  0.157115  -0.829711    0.176625    …  -0.517393   0.611982   0.409179 \n",
       " -0.128649   0.971191   -1.63917         0.263766   0.350514  -0.161872 \n",
       " -0.207224   0.768506   -0.177402       -0.330586  -0.385159   0.790722 \n",
       "  0.314955  -0.288246    1.27072         0.780566  -0.363338  -0.715371 \n",
       " -0.598788  -0.413799    0.00409532      0.534236  -0.187058   0.280156 \n",
       " -0.598358   0.356505    0.233497    …  -0.022523   0.632264  -0.0654498\n",
       "  0.221328  -0.0021093  -0.397409        0.390497   0.182227   0.45555  "
      ]
     },
     "execution_count": 646,
     "metadata": {},
     "output_type": "execute_result"
    }
   ],
   "source": [
    "M = rand(7, 4)\n",
    "@show rank(M)\n",
    "m, n = size(M)\n",
    "Q, R = qr(M)\n",
    "Q2 = Matrix(Q')[(n+1):m, :]\n",
    "Mext = hcat(M, Q2')\n",
    "@show rank(Mext)\n",
    "inv_Mext = vcat(inv(R) * Q', Q2)"
   ]
  },
  {
   "cell_type": "code",
   "execution_count": 647,
   "metadata": {},
   "outputs": [
    {
     "data": {
      "text/plain": [
       "7×4 Array{Float64,2}:\n",
       " 0.866409    0.574404  0.491696  0.870269\n",
       " 0.00584593  0.339578  0.664685  0.465188\n",
       " 0.772301    0.256527  0.758439  0.949192\n",
       " 0.909763    0.724919  0.593944  0.736363\n",
       " 0.471371    0.656251  0.336002  0.952464\n",
       " 0.963311    0.568444  0.138212  0.56008 \n",
       " 0.726248    0.162609  0.906965  0.389025"
      ]
     },
     "execution_count": 647,
     "metadata": {},
     "output_type": "execute_result"
    }
   ],
   "source": [
    "M"
   ]
  },
  {
   "cell_type": "code",
   "execution_count": 648,
   "metadata": {},
   "outputs": [
    {
     "data": {
      "text/plain": [
       "7×7 Array{Float64,2}:\n",
       "  0.157115  -0.829711    0.176625    …  -0.517393   0.611982   0.409179 \n",
       " -0.128649   0.971191   -1.63917         0.263766   0.350514  -0.161872 \n",
       " -0.207224   0.768506   -0.177402       -0.330586  -0.385159   0.790722 \n",
       "  0.314955  -0.288246    1.27072         0.780566  -0.363338  -0.715371 \n",
       " -0.598788  -0.413799    0.00409532      0.534236  -0.187058   0.280156 \n",
       " -0.598358   0.356505    0.233497    …  -0.022523   0.632264  -0.0654498\n",
       "  0.221328  -0.0021093  -0.397409        0.390497   0.182227   0.45555  "
      ]
     },
     "execution_count": 648,
     "metadata": {},
     "output_type": "execute_result"
    }
   ],
   "source": [
    "inv(Mext)"
   ]
  },
  {
   "cell_type": "code",
   "execution_count": 649,
   "metadata": {},
   "outputs": [
    {
     "data": {
      "text/plain": [
       "7×7 Array{Float64,2}:\n",
       "  0.157115  -0.829711    0.176625    …  -0.517393   0.611982   0.409179 \n",
       " -0.128649   0.971191   -1.63917         0.263766   0.350514  -0.161872 \n",
       " -0.207224   0.768506   -0.177402       -0.330586  -0.385159   0.790722 \n",
       "  0.314955  -0.288246    1.27072         0.780566  -0.363338  -0.715371 \n",
       " -0.598788  -0.413799    0.00409532      0.534236  -0.187058   0.280156 \n",
       " -0.598358   0.356505    0.233497    …  -0.022523   0.632264  -0.0654498\n",
       "  0.221328  -0.0021093  -0.397409        0.390497   0.182227   0.45555  "
      ]
     },
     "execution_count": 649,
     "metadata": {},
     "output_type": "execute_result"
    }
   ],
   "source": [
    "inv_Mext"
   ]
  },
  {
   "cell_type": "code",
   "execution_count": 650,
   "metadata": {},
   "outputs": [
    {
     "data": {
      "text/plain": [
       "9.561668562259607e-16"
      ]
     },
     "execution_count": 650,
     "metadata": {},
     "output_type": "execute_result"
    }
   ],
   "source": [
    "opnorm(Mext * inv_Mext - I)"
   ]
  },
  {
   "cell_type": "code",
   "execution_count": 651,
   "metadata": {},
   "outputs": [
    {
     "data": {
      "text/plain": [
       "8.61033711578544e-16"
      ]
     },
     "execution_count": 651,
     "metadata": {},
     "output_type": "execute_result"
    }
   ],
   "source": [
    "opnorm(inv_Mext * Mext - I)"
   ]
  },
  {
   "cell_type": "code",
   "execution_count": 663,
   "metadata": {},
   "outputs": [
    {
     "data": {
      "text/plain": [
       "_linear_map_hrep_lift_v3 (generic function with 1 method)"
      ]
     },
     "execution_count": 663,
     "metadata": {},
     "output_type": "execute_result"
    }
   ],
   "source": [
    "using LinearAlgebra\n",
    "\n",
    "# we assume that size(M, 1) >= size(M, 2)\n",
    "# we assume that rank(M) = size(M, 2)\n",
    "# it holds that Q2 * M = 0; Q2 is the null space of M\n",
    "# this function also returns the inverse of the extended matrix Mext,\n",
    "# because it is readily available from the QR decomposition\n",
    "function _extend_orthogonal(M)\n",
    "    m, n = size(M)\n",
    "    Q, R = qr(M)\n",
    "    Q2 = Matrix(Q')[(n+1):m, :]\n",
    "    Mext = hcat(M, Q2')\n",
    "    inv_Mext = vcat(inv(R) * Q', Q2)\n",
    "    return Mext, inv_Mext\n",
    "end\n",
    "\n",
    "# final version. the check can be made optional..\n",
    "function extend2(M)\n",
    "    m, n = size(M)\n",
    "    @assert rank(M) == n && m > n\n",
    "\n",
    "    Q, R = qr(M)\n",
    "    Q2 = Q[:, (n + 1):end]\n",
    "    Mext = hcat(M, Q2)\n",
    "    inv_Mext = vcat(inv(R) * Q', Q2')\n",
    "    return Mext, inv_Mext\n",
    "end\n",
    "\n",
    "function _linear_map_hrep_lift_v3(M, P)\n",
    "    m, n = size(M)\n",
    "    r = rank(M)\n",
    "    @assert m > n\n",
    "    @assert r == n\n",
    "    \n",
    "    # we extend M to an invertible m x m matrix by appending m-n columns\n",
    "    # orthogonal to the column space of M\n",
    "    Mext, inv_Mext = _extend_orthogonal(M)\n",
    "\n",
    "    # append zeros to the existing constraints, in the last m-n coordinates\n",
    "    cext = [LazySets.HalfSpace(vcat(c.a, zeros(m-n)), c.b) for c in constraints_list(P)]\n",
    "\n",
    "    # now fix the last m-n coordinates to zero\n",
    "    id_out = Matrix(1.0I, m-n, m-n)\n",
    "    cext = vcat(cext, [LazySets.HalfSpace(vcat(zeros(n), id_out[i, :]), 0.0) for i in 1:(m-n)],\n",
    "                      [LazySets.HalfSpace(vcat(zeros(n), -id_out[i, :]), 0.0) for i in 1:(m-n)])\n",
    "\n",
    "    Pext = HPolytope(cext)\n",
    "\n",
    "    # now Mext is invertible and we can apply the linear with inverse function\n",
    "    MP = linear_map(Mext, Pext, algorithm=\"inverse\")\n",
    "    return MP\n",
    "end"
   ]
  },
  {
   "cell_type": "code",
   "execution_count": 671,
   "metadata": {},
   "outputs": [
    {
     "data": {
      "text/plain": [
       "5×3 Array{Float64,2}:\n",
       " 0.872137   0.728485  0.617654 \n",
       " 0.0607614  0.848517  0.0209029\n",
       " 0.93249    0.946171  0.282096 \n",
       " 0.861927   0.708566  0.472554 \n",
       " 0.560566   0.141609  0.116406 "
      ]
     },
     "execution_count": 671,
     "metadata": {},
     "output_type": "execute_result"
    }
   ],
   "source": [
    "M  = rand(5, 3)"
   ]
  },
  {
   "cell_type": "code",
   "execution_count": 677,
   "metadata": {},
   "outputs": [
    {
     "name": "stdout",
     "output_type": "stream",
     "text": [
      "  21.532 μs (96 allocations: 11.53 KiB)\n"
     ]
    }
   ],
   "source": [
    "@btime Mext, inv_Mext = _extend_orthogonal($M);"
   ]
  },
  {
   "cell_type": "code",
   "execution_count": 678,
   "metadata": {},
   "outputs": [
    {
     "name": "stdout",
     "output_type": "stream",
     "text": [
      "  13.343 μs (57 allocations: 8.30 KiB)\n"
     ]
    }
   ],
   "source": [
    "@btime Mext2, inv_Mext2 = extend2($M);"
   ]
  },
  {
   "cell_type": "code",
   "execution_count": 674,
   "metadata": {},
   "outputs": [
    {
     "data": {
      "text/plain": [
       "true"
      ]
     },
     "execution_count": 674,
     "metadata": {},
     "output_type": "execute_result"
    }
   ],
   "source": [
    "Mext == Mext2"
   ]
  },
  {
   "cell_type": "code",
   "execution_count": 675,
   "metadata": {},
   "outputs": [
    {
     "data": {
      "text/plain": [
       "true"
      ]
     },
     "execution_count": 675,
     "metadata": {},
     "output_type": "execute_result"
    }
   ],
   "source": [
    "inv_Mext == inv_Mext2"
   ]
  },
  {
   "cell_type": "code",
   "execution_count": 676,
   "metadata": {},
   "outputs": [
    {
     "data": {
      "text/plain": [
       "5×5 Array{Float64,2}:\n",
       "  1.0          -2.1474e-16   -1.55092e-16   3.75872e-17   2.22793e-17\n",
       "  3.50602e-17   1.0          -2.61602e-17   8.07603e-18   4.26609e-17\n",
       " -3.14687e-16  -1.64938e-16   1.0          -1.09674e-16  -7.20909e-17\n",
       " -2.39969e-16  -1.30702e-16  -5.41625e-17   1.0          -1.12914e-16\n",
       " -6.09874e-17  -1.28503e-17  -1.65798e-17  -2.96476e-17   1.0        "
      ]
     },
     "execution_count": 676,
     "metadata": {},
     "output_type": "execute_result"
    }
   ],
   "source": []
  },
  {
   "cell_type": "markdown",
   "metadata": {},
   "source": [
    "# Advance with RA"
   ]
  },
  {
   "cell_type": "code",
   "execution_count": 1,
   "metadata": {},
   "outputs": [
    {
     "name": "stderr",
     "output_type": "stream",
     "text": [
      "┌ Info: Recompiling stale cache file /home/mforets/.julia/compiled/v1.2/ReachabilityAnalysis/fYI0z.ji for ReachabilityAnalysis [1e97bd63-91d1-579d-8e8d-501d2b57c93f]\n",
      "└ @ Base loading.jl:1240\n"
     ]
    }
   ],
   "source": [
    "using Revise, ReachabilityAnalysis"
   ]
  },
  {
   "cell_type": "code",
   "execution_count": 3,
   "metadata": {},
   "outputs": [
    {
     "data": {
      "text/plain": [
       "InitialValueProblem{LinearContinuousSystem{Float64,Array{Float64,2}},Translation{Float64,Array{Float64,1},BallInf{Float64}}}(LinearContinuousSystem{Float64,Array{Float64,2}}([0.0 1.0; -1.0 0.0]), Translation{Float64,Array{Float64,1},BallInf{Float64}}(BallInf{Float64}([0.0, 0.0], 0.001), [1.0, 0.0]))"
      ]
     },
     "execution_count": 3,
     "metadata": {},
     "output_type": "execute_result"
    }
   ],
   "source": [
    "A = \n",
    "S = @system(x' = Ax)\n",
    "P = InitialValueProblem(S, [1.0, 0.0] ⊕ BallInf(zeros(2), 0.001))\n",
    "# P = @ivp(x' = Ax, x ∈ [1.0, 0.0] ⊕ BallInf(zeros(2), 0.001))\n",
    "# function rotation!(dx, x, p, t)\n",
    "#     dx[1] = x[2]\n",
    "#     dx[2] = -x[1]\n",
    "# end\n",
    "# @ivp(x' = rotation!, x ∈ [1.0, 0.0] ⊕ BallInf(zeros(2), 0.001))"
   ]
  },
  {
   "cell_type": "code",
   "execution_count": null,
   "metadata": {},
   "outputs": [],
   "source": [
    "solve(P)"
   ]
  }
 ],
 "metadata": {
  "kernelspec": {
   "display_name": "Julia 1.2.0",
   "language": "julia",
   "name": "julia-1.2"
  },
  "language_info": {
   "file_extension": ".jl",
   "mimetype": "application/julia",
   "name": "julia",
   "version": "1.2.0"
  }
 },
 "nbformat": 4,
 "nbformat_minor": 2
}
