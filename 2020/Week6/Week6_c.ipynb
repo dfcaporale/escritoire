{
 "cells": [
  {
   "cell_type": "markdown",
   "metadata": {},
   "source": [
    "# Transforming SymEngine expressions into functions"
   ]
  },
  {
   "cell_type": "markdown",
   "metadata": {},
   "source": [
    "https://discourse.julialang.org/t/creating-julia-function-from-a-symbolic-expression-using-symengine/21476"
   ]
  },
  {
   "cell_type": "code",
   "execution_count": 62,
   "metadata": {},
   "outputs": [
    {
     "data": {
      "text/plain": [
       "power3 (generic function with 1 method)"
      ]
     },
     "execution_count": 62,
     "metadata": {},
     "output_type": "execute_result"
    }
   ],
   "source": [
    "using IntervalMatrices\n",
    "using SymEngine\n",
    "using MacroTools: postwalk\n",
    "\n",
    "subidx(i) = join(Char.(0x2080 .+ convert.(UInt16, digits(i)[end:-1:1])))\n",
    "\n",
    "function symbolic_matrix(n; name=\"M\")\n",
    "    M = Matrix{SymEngine.Basic}(undef, n, n)\n",
    "    for i in 1:n, j in 1:n\n",
    "        M[i, j] = name * subidx(i) * subidx(j)\n",
    "    end\n",
    "    return M\n",
    "end\n",
    "\n",
    "function subs(ex, imat; name=\"M\")\n",
    "    n = size(imat, 1) # imat assumed square\n",
    "    for i in 1:n, j in 1:n\n",
    "        name_ij = Symbol(name * subidx(i) * subidx(j))\n",
    "        ex == name_ij && return imat[i, j]\n",
    "    end\n",
    "    return ex\n",
    "end\n",
    "\n",
    "Msym_eval(Msym, M, k) = [postwalk(ex -> subs(ex, M), convert(Expr, m)) for m in Msym]\n",
    "\n",
    "# this version gives a more accurate result than just M^k because lots of intermediate\n",
    "# interval evaluations are saved. however, it is very bad in terms of performance because\n",
    "# the expression tree is consdered for each term..\n",
    "function power(M, k)\n",
    "    n = size(M, 1)\n",
    "    @assert n == size(M, 2)\n",
    "    Msym = symbolic_matrix(n)\n",
    "    X = Msym_eval(Msym^k, M, k)\n",
    "    Mᵏ = eval.(X)\n",
    "    return Mᵏ\n",
    "end\n",
    "\n",
    "using SymEngine: toString\n",
    "\n",
    "# this works but it is slow\n",
    "# it has been reported here: \n",
    "# https://discourse.julialang.org/t/creating-julia-function-from-a-symbolic-expression-using-symengine/21476\n",
    "# using lambify2 didn't help, it gives world age issues (see below)\n",
    "function power2(M, k)\n",
    "    n = size(M, 1)\n",
    "    @assert n == size(M, 2)\n",
    "    Msym = symbolic_matrix(n)\n",
    "    Msymᵏ = Msym^k\n",
    "    vars = Tuple(Msym)\n",
    "    Msym_callable = map(x -> lambdify(x, vars), Msymᵏ)\n",
    "    vals = Tuple(M)\n",
    "    Mᵏ = map(Mij-> Mij(vals...), Msym_callable)\n",
    "    return Mᵏ\n",
    "end\n",
    "\n",
    "#lambdify2(ex, vars=free_symbols(ex)) = eval(Expr(:function, Expr(:call, gensym(), map(Symbol,vars)...),\n",
    "#                                       convert(Expr, ex)))\n",
    "#=\n",
    "MethodError: no method matching ##371(::Interval{Float64}, ::Interval{Float64}, ::Interval{Float64}, ::Interval{Float64})\n",
    "The applicable method may be too new: running in world age 26092, while current world is 26096.\n",
    "Closest candidates are:\n",
    "  ##371(::Any, ::Any, ::Any, ::Any) at none:0 (method too new to be called from this world context.)\n",
    "=#\n",
    "lambdify3(ex, vars=free_symbols(ex)) = eval(Meta.parse(\"ex(x)=\"*SymEngine.toString(ex...)))\n",
    "\n",
    "function power3(M, k)\n",
    "    n = size(M, 1)\n",
    "    @assert n == size(M, 2)\n",
    "    Msym = symbolic_matrix(n)\n",
    "    vars = Tuple(Msym)\n",
    "    Msymᵏ = Msym^k\n",
    "    \n",
    "    vars_str = toString.(vec(Msym))\n",
    "    vars_str_concat = vars_str[1] * \", \" * vars_str[2] * \", \" * vars_str[3] * \", \" * vars_str[4]\n",
    "\n",
    "    # create callable entries\n",
    "    Msymᵏ_callable = []\n",
    "    for j in 1:n, i in 1:n\n",
    "        push!(Msymᵏ_callable, eval(Meta.parse(\"M$i$j(\"* vars_str_concat * \") = \" * SymEngine.toString(Msymᵏ[i, j]))))\n",
    "    end\n",
    "\n",
    "    # evaluate them\n",
    "    vals = Tuple(M)\n",
    "    Mᵏ = map(Mij-> Mij(vals...), Msymᵏ_callable)\n",
    "    Mᵏ = reshape(Mᵏ, n, n)\n",
    "    return Mᵏ\n",
    "end"
   ]
  },
  {
   "cell_type": "code",
   "execution_count": 115,
   "metadata": {},
   "outputs": [
    {
     "name": "stdout",
     "output_type": "stream",
     "text": [
      "  0.069640 seconds (280.31 k allocations: 17.813 MiB, 5.68% gc time)\n"
     ]
    },
    {
     "data": {
      "text/plain": [
       "2×2 Array{Interval{Float64},2}:\n",
       " [-1.55487e+06, 2.60516e+06]  [-1.42804e+06, 4.62419e+06]\n",
       " [-1.53971e+06, 2.1323e+06]   [-1.75444e+06, 3.78486e+06]"
      ]
     },
     "execution_count": 115,
     "metadata": {},
     "output_type": "execute_result"
    }
   ],
   "source": [
    "@time power(M, 10)"
   ]
  },
  {
   "cell_type": "code",
   "execution_count": 118,
   "metadata": {},
   "outputs": [
    {
     "name": "stdout",
     "output_type": "stream",
     "text": [
      " 13.895185 seconds (14.31 M allocations: 520.146 MiB, 3.61% gc time)\n"
     ]
    },
    {
     "data": {
      "text/plain": [
       "2×2 Array{Interval{Float64},2}:\n",
       " [-1.55487e+06, 2.60516e+06]  [-1.42804e+06, 4.62419e+06]\n",
       " [-1.53971e+06, 2.1323e+06]   [-1.75444e+06, 3.78486e+06]"
      ]
     },
     "execution_count": 118,
     "metadata": {},
     "output_type": "execute_result"
    }
   ],
   "source": [
    "@time power3(M, 10)"
   ]
  },
  {
   "cell_type": "code",
   "execution_count": 71,
   "metadata": {},
   "outputs": [
    {
     "data": {
      "text/plain": [
       "2×2 Array{Basic,2}:\n",
       "   M₂₁*M₁₂ + M₁₁^2  M₁₁*M₁₂ + M₂₂*M₁₂\n",
       " M₂₁*M₁₁ + M₂₂*M₂₁    M₂₁*M₁₂ + M₂₂^2"
      ]
     },
     "execution_count": 71,
     "metadata": {},
     "output_type": "execute_result"
    }
   ],
   "source": [
    "M = rand(IntervalMatrix, 2)\n",
    "k = 2\n",
    "n = 2\n",
    "\n",
    "Msym = symbolic_matrix(n)\n",
    "vars = Tuple(Msym)\n",
    "Msymᵏ = Msym^k"
   ]
  },
  {
   "cell_type": "code",
   "execution_count": 84,
   "metadata": {},
   "outputs": [],
   "source": [
    "fff = []\n",
    "for j in 1:n, i in 1:n\n",
    "    push!(fff, eval(Meta.parse(\"M$i$j(\"* vars_str_concat * \") = \" * SymEngine.toString(Msymᵏ[i, j]))))\n",
    "end"
   ]
  },
  {
   "cell_type": "code",
   "execution_count": 87,
   "metadata": {},
   "outputs": [
    {
     "data": {
      "text/plain": [
       "M21 (generic function with 1 method)"
      ]
     },
     "execution_count": 87,
     "metadata": {},
     "output_type": "execute_result"
    }
   ],
   "source": [
    "fff[2]"
   ]
  },
  {
   "cell_type": "code",
   "execution_count": 79,
   "metadata": {},
   "outputs": [
    {
     "data": {
      "text/plain": [
       "[22, 22]"
      ]
     },
     "execution_count": 79,
     "metadata": {},
     "output_type": "execute_result"
    }
   ],
   "source": [
    "M22(Interval(1), Interval(2), Interval(3), Interval(4))"
   ]
  },
  {
   "cell_type": "code",
   "execution_count": 81,
   "metadata": {},
   "outputs": [
    {
     "data": {
      "text/plain": [
       "M22 (generic function with 1 method)"
      ]
     },
     "execution_count": 81,
     "metadata": {},
     "output_type": "execute_result"
    }
   ],
   "source": [
    "M22"
   ]
  },
  {
   "cell_type": "code",
   "execution_count": null,
   "metadata": {},
   "outputs": [],
   "source": [
    "for j in 1:n, i in 1:n\n",
    "    \n",
    "end"
   ]
  },
  {
   "cell_type": "code",
   "execution_count": 25,
   "metadata": {},
   "outputs": [
    {
     "data": {
      "text/plain": [
       "2×2 Array{typeof(ex),2}:\n",
       " ex  ex\n",
       " ex  ex"
      ]
     },
     "execution_count": 25,
     "metadata": {},
     "output_type": "execute_result"
    }
   ],
   "source": [
    "Msym_callable = map(x -> lambdify3(x, vars), M^2)"
   ]
  },
  {
   "cell_type": "code",
   "execution_count": 57,
   "metadata": {},
   "outputs": [
    {
     "data": {
      "text/plain": [
       "4-element Array{String,1}:\n",
       " \"M₁₁\"\n",
       " \"M₂₁\"\n",
       " \"M₁₂\"\n",
       " \"M₂₂\""
      ]
     },
     "execution_count": 57,
     "metadata": {},
     "output_type": "execute_result"
    }
   ],
   "source": [
    "vars_str = toString.(vec(M))"
   ]
  },
  {
   "cell_type": "code",
   "execution_count": 59,
   "metadata": {},
   "outputs": [
    {
     "data": {
      "text/plain": [
       "\"M₁₁, M₂₁, M₁₂, M₂₂\""
      ]
     },
     "execution_count": 59,
     "metadata": {},
     "output_type": "execute_result"
    }
   ],
   "source": [
    "vars_str_concat = vars_str[1] * \", \" * vars_str[2] * \", \" * vars_str[3] * \", \" * vars_str[4]"
   ]
  },
  {
   "cell_type": "code",
   "execution_count": 38,
   "metadata": {},
   "outputs": [
    {
     "data": {
      "text/plain": [
       "tt (generic function with 1 method)"
      ]
     },
     "execution_count": 38,
     "metadata": {},
     "output_type": "execute_result"
    }
   ],
   "source": [
    "eval(Meta.parse(\"tt(x)=\" * toString(M[1, 1])))"
   ]
  },
  {
   "cell_type": "code",
   "execution_count": 61,
   "metadata": {},
   "outputs": [
    {
     "data": {
      "text/plain": [
       "myFunc (generic function with 1 method)"
      ]
     },
     "execution_count": 61,
     "metadata": {},
     "output_type": "execute_result"
    }
   ],
   "source": [
    "eval(Meta.parse(\"myFunc(\" * vars_str_concat * \") = \" * SymEngine.toString(M[1, 1])))"
   ]
  },
  {
   "cell_type": "code",
   "execution_count": 64,
   "metadata": {},
   "outputs": [
    {
     "data": {
      "text/plain": [
       "[-0.754373, 0.114535]"
      ]
     },
     "execution_count": 64,
     "metadata": {},
     "output_type": "execute_result"
    }
   ],
   "source": [
    "myFunc(vec(M1)...)"
   ]
  },
  {
   "cell_type": "code",
   "execution_count": 30,
   "metadata": {},
   "outputs": [
    {
     "ename": "UndefVarError",
     "evalue": "UndefVarError: M₂₁ not defined",
     "output_type": "error",
     "traceback": [
      "UndefVarError: M₂₁ not defined",
      "",
      "Stacktrace:",
      " [1] ex(::NTuple{4,Float64}) at ./none:1",
      " [2] top-level scope at In[30]:1"
     ]
    }
   ],
   "source": [
    "Msym_callable[1, 1]((1.0, 1.0, 2.0, 1.0))"
   ]
  },
  {
   "cell_type": "code",
   "execution_count": 14,
   "metadata": {},
   "outputs": [
    {
     "data": {
      "text/plain": [
       "2×2 Array{Basic,2}:\n",
       " M₁₁  M₁₂\n",
       " M₂₁  M₂₂"
      ]
     },
     "execution_count": 14,
     "metadata": {},
     "output_type": "execute_result"
    }
   ],
   "source": [
    "M = symbolic_matrix(2)"
   ]
  },
  {
   "cell_type": "code",
   "execution_count": 15,
   "metadata": {},
   "outputs": [
    {
     "data": {
      "text/plain": [
       "2×2 IntervalMatrix{Float64,Interval{Float64},Array{Interval{Float64},2}}:\n",
       " [-0.754373, 0.114535]  [-0.34586, 0.340555] \n",
       " [-1.35401, 0.556095]   [-0.262811, 0.720356]"
      ]
     },
     "execution_count": 15,
     "metadata": {},
     "output_type": "execute_result"
    }
   ],
   "source": [
    "M1 = rand(IntervalMatrix, 2)"
   ]
  },
  {
   "cell_type": "code",
   "execution_count": 16,
   "metadata": {},
   "outputs": [
    {
     "ename": "MethodError",
     "evalue": "MethodError: no method matching ex(::Interval{Float64}, ::Interval{Float64}, ::Interval{Float64}, ::Interval{Float64})\nClosest candidates are:\n  ex(::Any) at none:1 (method too new to be called from this world context.)",
     "output_type": "error",
     "traceback": [
      "MethodError: no method matching ex(::Interval{Float64}, ::Interval{Float64}, ::Interval{Float64}, ::Interval{Float64})\nClosest candidates are:\n  ex(::Any) at none:1 (method too new to be called from this world context.)",
      "",
      "Stacktrace:",
      " [1] (::getfield(Main, Symbol(\"##40#42\")){NTuple{4,Interval{Float64}}})(::Function) at ./In[13]:46",
      " [2] iterate at ./generator.jl:47 [inlined]",
      " [3] _collect at ./array.jl:619 [inlined]",
      " [4] collect_similar(::Array{typeof(ex),2}, ::Base.Generator{Array{typeof(ex),2},getfield(Main, Symbol(\"##40#42\")){NTuple{4,Interval{Float64}}}}) at ./array.jl:548",
      " [5] map(::Function, ::Array{typeof(ex),2}) at ./abstractarray.jl:2073",
      " [6] power2(::IntervalMatrix{Float64,Interval{Float64},Array{Interval{Float64},2}}, ::Int64) at ./In[13]:46",
      " [7] top-level scope at In[16]:1"
     ]
    }
   ],
   "source": [
    "power2(M1, 2)"
   ]
  },
  {
   "cell_type": "code",
   "execution_count": 18,
   "metadata": {},
   "outputs": [
    {
     "data": {
      "text/plain": [
       "2×2 Array{Basic,2}:\n",
       "   M₂₁*M₁₂ + M₁₁^2  M₁₁*M₁₂ + M₂₂*M₁₂\n",
       " M₂₁*M₁₁ + M₂₂*M₂₁    M₂₁*M₁₂ + M₂₂^2"
      ]
     },
     "execution_count": 18,
     "metadata": {},
     "output_type": "execute_result"
    }
   ],
   "source": [
    "M * M"
   ]
  },
  {
   "cell_type": "code",
   "execution_count": 66,
   "metadata": {},
   "outputs": [
    {
     "data": {
      "text/plain": [
       "g (generic function with 1 method)"
      ]
     },
     "execution_count": 66,
     "metadata": {},
     "output_type": "execute_result"
    }
   ],
   "source": [
    "g(k) = map(x -> lambdify(x, vec(M)), M^k)"
   ]
  },
  {
   "cell_type": "code",
   "execution_count": 68,
   "metadata": {},
   "outputs": [
    {
     "data": {
      "text/plain": [
       "2×2 Array{getfield(SymEngine, Symbol(\"##28#29\")),2}:\n",
       " ##28#29{###484}(##484)  ##28#29{###486}(##486)\n",
       " ##28#29{###485}(##485)  ##28#29{###487}(##487)"
      ]
     },
     "execution_count": 68,
     "metadata": {},
     "output_type": "execute_result"
    }
   ],
   "source": [
    "g(2)"
   ]
  },
  {
   "cell_type": "code",
   "execution_count": 69,
   "metadata": {},
   "outputs": [
    {
     "data": {
      "text/plain": [
       "[0.223956, 2.02615]"
      ]
     },
     "execution_count": 69,
     "metadata": {},
     "output_type": "execute_result"
    }
   ],
   "source": [
    "g(2)[1, 1](vec(M1)...)"
   ]
  },
  {
   "cell_type": "code",
   "execution_count": 75,
   "metadata": {},
   "outputs": [
    {
     "data": {
      "text/plain": [
       "M₂₁*M₁₂ + M₁₁^2"
      ]
     },
     "execution_count": 75,
     "metadata": {},
     "output_type": "execute_result"
    }
   ],
   "source": [
    "(M * M)[1, 1]"
   ]
  },
  {
   "cell_type": "code",
   "execution_count": 77,
   "metadata": {},
   "outputs": [
    {
     "data": {
      "text/plain": [
       "M₂₁*M₁₂ + M₁₁^2"
      ]
     },
     "execution_count": 77,
     "metadata": {},
     "output_type": "execute_result"
    }
   ],
   "source": [
    "M[2, 1] * M[1, 2] + M[1, 1]^2"
   ]
  },
  {
   "cell_type": "code",
   "execution_count": 78,
   "metadata": {},
   "outputs": [
    {
     "data": {
      "text/plain": [
       "[0.223956, 2.02615]"
      ]
     },
     "execution_count": 78,
     "metadata": {},
     "output_type": "execute_result"
    }
   ],
   "source": [
    "M1[2, 1] * M1[1, 2] + M1[1, 1]^2"
   ]
  },
  {
   "cell_type": "code",
   "execution_count": 82,
   "metadata": {},
   "outputs": [
    {
     "data": {
      "text/plain": [
       "[-0.611018, 2.02615]"
      ]
     },
     "execution_count": 82,
     "metadata": {},
     "output_type": "execute_result"
    }
   ],
   "source": [
    "M1[2, 1] * M1[1, 2] + M1[1, 1] * M1[1, 1] # la diferencia es que usar ^ es mejor"
   ]
  },
  {
   "cell_type": "code",
   "execution_count": 80,
   "metadata": {},
   "outputs": [
    {
     "data": {
      "text/plain": [
       "2×2 IntervalMatrix{Float64,Interval{Float64},Array{Interval{Float64},2}}:\n",
       " [-0.611018, 2.02615]  [-0.659428, 0.937166]\n",
       " [-1.46068, 2.09986]    [0.227325, 1.32085] "
      ]
     },
     "execution_count": 80,
     "metadata": {},
     "output_type": "execute_result"
    }
   ],
   "source": [
    "M1 * M1"
   ]
  },
  {
   "cell_type": "code",
   "execution_count": 89,
   "metadata": {},
   "outputs": [
    {
     "data": {
      "text/plain": [
       "2×2 Array{Interval{Float64},2}:\n",
       "  [-76.7823, 183.854]  [-67.387, 95.769]  \n",
       " [-149.267, 214.585]   [-65.8416, 111.778]"
      ]
     },
     "execution_count": 89,
     "metadata": {},
     "output_type": "execute_result"
    }
   ],
   "source": [
    "map(q -> q(vec(M1)...), g(10))"
   ]
  },
  {
   "cell_type": "code",
   "execution_count": 86,
   "metadata": {},
   "outputs": [
    {
     "data": {
      "text/plain": [
       "2×2 IntervalMatrix{Float64,Interval{Float64},Array{Interval{Float64},2}}:\n",
       " [-109.056, 183.854]  [-67.387, 95.769]  \n",
       " [-149.267, 214.585]  [-72.3784, 111.778]"
      ]
     },
     "execution_count": 86,
     "metadata": {},
     "output_type": "execute_result"
    }
   ],
   "source": [
    "M1^10"
   ]
  },
  {
   "cell_type": "code",
   "execution_count": 62,
   "metadata": {},
   "outputs": [
    {
     "data": {
      "text/plain": [
       "2×2 IntervalMatrix{Float64,Interval{Float64},Array{Interval{Float64},2}}:\n",
       " [-0.866816, 0.963267]  [-0.700112, -0.257882] \n",
       " [-1.56871, -0.868445]  [-0.471779, -0.0580359]"
      ]
     },
     "execution_count": 62,
     "metadata": {},
     "output_type": "execute_result"
    }
   ],
   "source": [
    "M1"
   ]
  },
  {
   "cell_type": "code",
   "execution_count": 83,
   "metadata": {},
   "outputs": [
    {
     "data": {
      "text/plain": [
       "2×2 IntervalMatrix{Float64,Interval{Float64},Array{Interval{Float64},2}}:\n",
       " [-0.611018, 2.02615]  [-0.659428, 0.937166]\n",
       " [-1.46068, 2.09986]    [0.227325, 1.32085] "
      ]
     },
     "execution_count": 83,
     "metadata": {},
     "output_type": "execute_result"
    }
   ],
   "source": [
    "M1^2"
   ]
  },
  {
   "cell_type": "code",
   "execution_count": 91,
   "metadata": {},
   "outputs": [
    {
     "data": {
      "text/plain": [
       "2×2 Array{Interval{Float64},2}:\n",
       "  [-76.7823, 183.854]  [-67.387, 95.769]  \n",
       " [-149.267, 214.585]   [-65.8416, 111.778]"
      ]
     },
     "execution_count": 91,
     "metadata": {},
     "output_type": "execute_result"
    }
   ],
   "source": [
    "power(M1, 10)"
   ]
  },
  {
   "cell_type": "code",
   "execution_count": 96,
   "metadata": {},
   "outputs": [
    {
     "data": {
      "text/plain": [
       "2×2 IntervalMatrix{Float64,Interval{Float64},Array{Interval{Float64},2}}:\n",
       " [-0.234543, 0.676057]   [0.150208, 0.681045]\n",
       "  [0.0248801, 1.0225]   [-0.847483, 1.86767] "
      ]
     },
     "execution_count": 96,
     "metadata": {},
     "output_type": "execute_result"
    }
   ],
   "source": [
    "M1"
   ]
  },
  {
   "cell_type": "code",
   "execution_count": 96,
   "metadata": {},
   "outputs": [
    {
     "name": "stdout",
     "output_type": "stream",
     "text": [
      "  0.167249 seconds (281.08 k allocations: 14.620 MiB, 3.49% gc time)\n"
     ]
    },
    {
     "data": {
      "text/plain": [
       "2×2 Array{Interval{Float64},2}:\n",
       " [-0.461112, 1.03738]  [-0.506048, 0.506228]\n",
       " [-1.39487, 1.42201]   [-0.461112, 0.987208]"
      ]
     },
     "execution_count": 96,
     "metadata": {},
     "output_type": "execute_result"
    }
   ],
   "source": [
    "@time power(M1, 2)"
   ]
  },
  {
   "cell_type": "code",
   "execution_count": 97,
   "metadata": {},
   "outputs": [
    {
     "name": "stdout",
     "output_type": "stream",
     "text": [
      "  0.232383 seconds (446.45 k allocations: 21.823 MiB, 2.14% gc time)\n"
     ]
    },
    {
     "data": {
      "text/plain": [
       "2×2 Array{Interval{Float64},2}:\n",
       " [-0.461112, 1.03738]  [-0.506048, 0.506228]\n",
       " [-1.39487, 1.42201]   [-0.461112, 0.987208]"
      ]
     },
     "execution_count": 97,
     "metadata": {},
     "output_type": "execute_result"
    }
   ],
   "source": [
    "@time power2(M1, 2)"
   ]
  },
  {
   "cell_type": "code",
   "execution_count": 98,
   "metadata": {},
   "outputs": [
    {
     "name": "stdout",
     "output_type": "stream",
     "text": [
      "  0.091020 seconds (90.56 k allocations: 3.727 MiB)\n"
     ]
    },
    {
     "data": {
      "text/plain": [
       "4-element Array{Interval{Float64},1}:\n",
       " [-0.215565, 2.43122]\n",
       " [-0.96053, 1.33022] \n",
       "  [0.290226, 2.88476]\n",
       "  [0.710786, 3.16717]"
      ]
     },
     "execution_count": 98,
     "metadata": {},
     "output_type": "execute_result"
    }
   ],
   "source": [
    "@time power3(M, 2)"
   ]
  },
  {
   "cell_type": "code",
   "execution_count": 102,
   "metadata": {},
   "outputs": [
    {
     "data": {
      "text/plain": [
       "4-element Array{Interval{Float64},1}:\n",
       " [-577.491, 1030.79]\n",
       " [-609.014, 843.411]\n",
       " [-448.284, 1829.06]\n",
       " [-641.404, 1497.41]"
      ]
     },
     "execution_count": 102,
     "metadata": {},
     "output_type": "execute_result"
    }
   ],
   "source": [
    "power3(M, 10)"
   ]
  },
  {
   "cell_type": "code",
   "execution_count": 101,
   "metadata": {},
   "outputs": [
    {
     "data": {
      "text/plain": [
       "2×2 Array{Interval{Float64},2}:\n",
       " [-577.491, 1030.79]  [-448.284, 1829.06]\n",
       " [-609.014, 843.411]  [-641.404, 1497.41]"
      ]
     },
     "execution_count": 101,
     "metadata": {},
     "output_type": "execute_result"
    }
   ],
   "source": [
    "reshape(power3(M, 10), 2, 2)"
   ]
  },
  {
   "cell_type": "markdown",
   "metadata": {},
   "source": [
    "# Using TaylorSeries"
   ]
  },
  {
   "cell_type": "code",
   "execution_count": 30,
   "metadata": {},
   "outputs": [],
   "source": [
    "using TaylorSeries, IntervalMatrices"
   ]
  },
  {
   "cell_type": "code",
   "execution_count": 126,
   "metadata": {},
   "outputs": [
    {
     "data": {
      "text/plain": [
       "2×2 IntervalMatrix{Float64,Interval{Float64},Array{Interval{Float64},2}}:\n",
       "  [0.133024, 1.42048]  [-1.48836, 0.56276] \n",
       " [-1.57208, 0.247856]   [0.130534, 1.84444]"
      ]
     },
     "execution_count": 126,
     "metadata": {},
     "output_type": "execute_result"
    }
   ],
   "source": [
    "M1 = rand(IntervalMatrix, 2)"
   ]
  },
  {
   "cell_type": "code",
   "execution_count": 127,
   "metadata": {},
   "outputs": [],
   "source": [
    "#vars = set_variables(Interval{Float64}, \"M\", numvars=4, order=30);\n",
    "vars = set_variables(Float64, \"M\", numvars=4, order=30);"
   ]
  },
  {
   "cell_type": "code",
   "execution_count": 128,
   "metadata": {},
   "outputs": [
    {
     "data": {
      "text/plain": [
       "2×2 Array{TaylorN{Float64},2}:\n",
       "  1.0 M₁ + 𝒪(‖x‖³¹)   1.0 M₂ + 𝒪(‖x‖³¹)\n",
       "  1.0 M₃ + 𝒪(‖x‖³¹)   1.0 M₄ + 𝒪(‖x‖³¹)"
      ]
     },
     "execution_count": 128,
     "metadata": {},
     "output_type": "execute_result"
    }
   ],
   "source": [
    "M = [vars[1] vars[2]; vars[3] vars[4]]"
   ]
  },
  {
   "cell_type": "code",
   "execution_count": 136,
   "metadata": {},
   "outputs": [
    {
     "data": {
      "text/plain": [
       "[-2557.93, 45147.4]"
      ]
     },
     "execution_count": 136,
     "metadata": {},
     "output_type": "execute_result"
    }
   ],
   "source": [
    "evaluate((M^10)[1, 1], vec(M1))"
   ]
  },
  {
   "cell_type": "code",
   "execution_count": 134,
   "metadata": {},
   "outputs": [
    {
     "data": {
      "text/plain": [
       "[-0.867007, 4.35756]"
      ]
     },
     "execution_count": 134,
     "metadata": {},
     "output_type": "execute_result"
    }
   ],
   "source": [
    "(M1*M1)[1, 1]"
   ]
  },
  {
   "cell_type": "code",
   "execution_count": 137,
   "metadata": {},
   "outputs": [
    {
     "data": {
      "text/plain": [
       "2×2 Array{Interval{Float64},2}:\n",
       " [-13891, 45147.4]           [-50436.3, 19070.4]\n",
       "        [-53273.5, 10768.6]  [-15222.4, 59514.4]"
      ]
     },
     "execution_count": 137,
     "metadata": {},
     "output_type": "execute_result"
    }
   ],
   "source": [
    "power(M1, 10)"
   ]
  },
  {
   "cell_type": "code",
   "execution_count": 72,
   "metadata": {},
   "outputs": [],
   "source": [
    "M10 = M^10;"
   ]
  },
  {
   "cell_type": "code",
   "execution_count": 74,
   "metadata": {},
   "outputs": [],
   "source": [
    "M1 = rand(IntervalMatrix, 2);"
   ]
  },
  {
   "cell_type": "code",
   "execution_count": 75,
   "metadata": {},
   "outputs": [
    {
     "data": {
      "text/plain": [
       "[4.7838e+06, 4.78381e+06]"
      ]
     },
     "execution_count": 75,
     "metadata": {},
     "output_type": "execute_result"
    }
   ],
   "source": [
    "evaluate(M10[1, 1], [1.0, 2.0, 3.0, 4.0])"
   ]
  },
  {
   "cell_type": "code",
   "execution_count": 41,
   "metadata": {},
   "outputs": [
    {
     "data": {
      "text/plain": [
       "[-13.4182, 19.8009]"
      ]
     },
     "execution_count": 41,
     "metadata": {},
     "output_type": "execute_result"
    }
   ],
   "source": [
    "evaluate(M10[1, 1], vec(M1))"
   ]
  },
  {
   "cell_type": "code",
   "execution_count": 43,
   "metadata": {},
   "outputs": [
    {
     "data": {
      "text/plain": [
       "[-14.5554, 14.5198]"
      ]
     },
     "execution_count": 43,
     "metadata": {},
     "output_type": "execute_result"
    }
   ],
   "source": [
    "(M1^10)[1, 1]"
   ]
  },
  {
   "cell_type": "code",
   "execution_count": 170,
   "metadata": {},
   "outputs": [
    {
     "data": {
      "text/plain": [
       "power4 (generic function with 1 method)"
      ]
     },
     "execution_count": 170,
     "metadata": {},
     "output_type": "execute_result"
    }
   ],
   "source": [
    "function power4(M, k)\n",
    "    n = size(M, 1)\n",
    "    @assert n == size(M, 2)\n",
    "\n",
    "    # the order should be sufficiently high (>= k ?)\n",
    "    \n",
    "    vars = set_variables(\"M\", numvars=n^2, order=k+1) # coeffs are float\n",
    "    #vars = set_variables(Interval{Float64}, \"M\", numvars=n^2, order=k+1) # coeffs are intervals\n",
    "    \n",
    "    Msym = reshape(vars, n, n)\n",
    "    Msymᵏ = Msym^k\n",
    "\n",
    "    vals = vec(M)\n",
    "    Mᵏ = map(Mij -> evaluate(Mij, vals), Msymᵏ)\n",
    "    \n",
    "    return Mᵏ\n",
    "end"
   ]
  },
  {
   "cell_type": "code",
   "execution_count": 100,
   "metadata": {},
   "outputs": [
    {
     "data": {
      "text/plain": [
       "2×2 IntervalMatrix{Float64,Interval{Float64},Array{Interval{Float64},2}}:\n",
       " [-0.706496, -0.292591]  [0.0637538, 0.979007]\n",
       "  [0.190738, 0.89017]    [0.377551, 2.38851]  "
      ]
     },
     "execution_count": 100,
     "metadata": {},
     "output_type": "execute_result"
    }
   ],
   "source": [
    "M1"
   ]
  },
  {
   "cell_type": "code",
   "execution_count": 101,
   "metadata": {},
   "outputs": [
    {
     "data": {
      "text/plain": [
       "2×2 Array{Interval{Float64},2}:\n",
       "  [0.09777, 1.37062]   [-0.667594, 2.31972]\n",
       " [-0.556888, 2.07037]   [0.154705, 6.57645]"
      ]
     },
     "execution_count": 101,
     "metadata": {},
     "output_type": "execute_result"
    }
   ],
   "source": [
    "power4(M1, 2)"
   ]
  },
  {
   "cell_type": "code",
   "execution_count": 107,
   "metadata": {},
   "outputs": [
    {
     "ename": "AssertionError",
     "evalue": "AssertionError: order ≤ get_order() && lencoef ≤ num_coeffs",
     "output_type": "error",
     "traceback": [
      "AssertionError: order ≤ get_order() && lencoef ≤ num_coeffs",
      "",
      "Stacktrace:",
      " [1] resize_coeffsHP!(::Array{Interval{Float64},1}, ::Int64) at /home/mforets/.julia/packages/TaylorSeries/rTEMS/src/auxiliary.jl:39",
      " [2] macro expansion at /home/mforets/.julia/packages/TaylorSeries/rTEMS/src/constructors.jl:96 [inlined]",
      " [3] macro expansion at ./simdloop.jl:77 [inlined]",
      " [4] zeros(::HomogeneousPolynomial{Interval{Float64}}, ::Int64) at /home/mforets/.julia/packages/TaylorSeries/rTEMS/src/arithmetic.jl:48",
      " [5] TaylorN{Interval{Float64}}(::Array{HomogeneousPolynomial{Interval{Float64}},1}, ::Int64) at /home/mforets/.julia/packages/TaylorSeries/rTEMS/src/arithmetic.jl:54",
      " [6] Type at /home/mforets/.julia/packages/TaylorSeries/rTEMS/src/constructors.jl:171 [inlined]",
      " [7] TaylorN(::HomogeneousPolynomial{Interval{Float64}}, ::Int64) at /home/mforets/.julia/packages/TaylorSeries/rTEMS/src/constructors.jl:175",
      " [8] *(::TaylorN{Interval{Float64}}, ::TaylorN{Interval{Float64}}) at /home/mforets/.julia/packages/TaylorSeries/rTEMS/src/arithmetic.jl:264",
      " [9] matmul2x2!(::Array{TaylorN{Interval{Float64}},2}, ::Char, ::Char, ::Array{TaylorN{Interval{Float64}},2}, ::Array{TaylorN{Interval{Float64}},2}) at /buildworker/worker/package_linux64/build/usr/share/julia/stdlib/v1.2/LinearAlgebra/src/matmul.jl:792",
      " [10] generic_matmatmul!(::Array{TaylorN{Interval{Float64}},2}, ::Char, ::Char, ::Array{TaylorN{Interval{Float64}},2}, ::Array{TaylorN{Interval{Float64}},2}) at /buildworker/worker/package_linux64/build/usr/share/julia/stdlib/v1.2/LinearAlgebra/src/matmul.jl:579",
      " [11] mul! at /buildworker/worker/package_linux64/build/usr/share/julia/stdlib/v1.2/LinearAlgebra/src/matmul.jl:176 [inlined]",
      " [12] *(::Array{TaylorN{Interval{Float64}},2}, ::Array{TaylorN{Interval{Float64}},2}) at /buildworker/worker/package_linux64/build/usr/share/julia/stdlib/v1.2/LinearAlgebra/src/matmul.jl:143",
      " [13] top-level scope at In[107]:1"
     ]
    }
   ],
   "source": []
  },
  {
   "cell_type": "code",
   "execution_count": 148,
   "metadata": {},
   "outputs": [
    {
     "data": {
      "text/plain": [
       "4×4 IntervalMatrix{Float64,Interval{Float64},Array{Interval{Float64},2}}:\n",
       " [-0.87559, -0.544873]    [0.00564368, 0.723806]  …  [-1.44069, 0.692388] \n",
       " [-0.209292, 0.983093]   [-0.212949, 0.499019]        [0.541998, 2.04747] \n",
       " [-0.271004, -0.169206]  [-0.48511, 0.241644]        [-1.77807, 0.155637] \n",
       "  [1.08192, 2.25097]     [-0.941258, -0.0850188]     [-1.98761, -0.978445]"
      ]
     },
     "execution_count": 148,
     "metadata": {},
     "output_type": "execute_result"
    }
   ],
   "source": [
    "M1 = rand(IntervalMatrix, 4)"
   ]
  },
  {
   "cell_type": "code",
   "execution_count": 161,
   "metadata": {},
   "outputs": [
    {
     "name": "stdout",
     "output_type": "stream",
     "text": [
      "  0.167815 seconds (1.76 M allocations: 117.401 MiB, 11.05% gc time)\n"
     ]
    },
    {
     "data": {
      "text/plain": [
       "4×4 Array{Interval{Float64},2}:\n",
       " [-492.021, 505.052]  [-287.967, 281.671]  …  [-571.821, 816.928]\n",
       " [-365.218, 464.079]  [-264.769, 220.174]     [-618.709, 488.785]\n",
       " [-429.105, 374.359]  [-217.951, 248.477]     [-465.468, 622.849]\n",
       " [-796.099, 544.992]  [-321.434, 461.372]     [-957.546, 938.641]"
      ]
     },
     "execution_count": 161,
     "metadata": {},
     "output_type": "execute_result"
    }
   ],
   "source": [
    "@time power(M1, 5)"
   ]
  },
  {
   "cell_type": "code",
   "execution_count": 162,
   "metadata": {},
   "outputs": [
    {
     "name": "stdout",
     "output_type": "stream",
     "text": [
      "  0.289164 seconds (943.99 k allocations: 648.964 MiB, 14.13% gc time)\n"
     ]
    },
    {
     "data": {
      "text/plain": [
       "4×4 Array{Interval{Float64},2}:\n",
       " [-667.419, 639.79]   [-375.194, 409.248]  …   [-877.456, 1106.53]\n",
       " [-446.234, 526.3]    [-317.758, 276.425]      [-862.574, 679.32] \n",
       " [-495.931, 441.971]  [-272.3, 303.099]        [-640.677, 849.931]\n",
       " [-900.944, 648.923]  [-427.766, 522.825]     [-1248.05, 1206.07] "
      ]
     },
     "execution_count": 162,
     "metadata": {},
     "output_type": "execute_result"
    }
   ],
   "source": [
    "@time power4(M1, 5)"
   ]
  },
  {
   "cell_type": "code",
   "execution_count": 167,
   "metadata": {},
   "outputs": [
    {
     "ename": "InterruptException",
     "evalue": "InterruptException:",
     "output_type": "error",
     "traceback": [
      "InterruptException:",
      "",
      "Stacktrace:",
      " [1] macro expansion at /home/mforets/.julia/packages/TaylorSeries/rTEMS/src/constructors.jl:97 [inlined]",
      " [2] macro expansion at ./simdloop.jl:77 [inlined]",
      " [3] zeros(::HomogeneousPolynomial{Interval{Float64}}, ::Int64) at /home/mforets/.julia/packages/TaylorSeries/rTEMS/src/arithmetic.jl:48",
      " [4] TaylorN{Interval{Float64}}(::Array{HomogeneousPolynomial{Interval{Float64}},1}, ::Int64) at /home/mforets/.julia/packages/TaylorSeries/rTEMS/src/arithmetic.jl:54",
      " [5] Type at /home/mforets/.julia/packages/TaylorSeries/rTEMS/src/constructors.jl:171 [inlined]",
      " [6] TaylorN(::HomogeneousPolynomial{Interval{Float64}}, ::Int64) at /home/mforets/.julia/packages/TaylorSeries/rTEMS/src/constructors.jl:175",
      " [7] *(::TaylorN{Interval{Float64}}, ::TaylorN{Interval{Float64}}) at /home/mforets/.julia/packages/TaylorSeries/rTEMS/src/arithmetic.jl:264",
      " [8] _generic_matmatmul!(::Array{TaylorN{Interval{Float64}},2}, ::Char, ::Char, ::Array{TaylorN{Interval{Float64}},2}, ::Array{TaylorN{Interval{Float64}},2}) at /buildworker/worker/package_linux64/build/usr/share/julia/stdlib/v1.2/LinearAlgebra/src/matmul.jl:667",
      " [9] generic_matmatmul!(::Array{TaylorN{Interval{Float64}},2}, ::Char, ::Char, ::Array{TaylorN{Interval{Float64}},2}, ::Array{TaylorN{Interval{Float64}},2}) at /buildworker/worker/package_linux64/build/usr/share/julia/stdlib/v1.2/LinearAlgebra/src/matmul.jl:584",
      " [10] * at /buildworker/worker/package_linux64/build/usr/share/julia/stdlib/v1.2/LinearAlgebra/src/matmul.jl:176 [inlined]",
      " [11] power_by_squaring(::Array{TaylorN{Interval{Float64}},2}, ::Int64) at ./intfuncs.jl:202",
      " [12] ^ at /buildworker/worker/package_linux64/build/usr/share/julia/stdlib/v1.2/LinearAlgebra/src/dense.jl:364 [inlined]",
      " [13] power4(::IntervalMatrix{Float64,Interval{Float64},Array{Interval{Float64},2}}, ::Int64) at ./In[163]:11",
      " [14] top-level scope at util.jl:156",
      " [15] top-level scope at In[167]:1"
     ]
    }
   ],
   "source": [
    "@time power4(M1, 8)"
   ]
  },
  {
   "cell_type": "code",
   "execution_count": 173,
   "metadata": {},
   "outputs": [],
   "source": [
    "using BenchmarkTools"
   ]
  },
  {
   "cell_type": "code",
   "execution_count": 176,
   "metadata": {},
   "outputs": [
    {
     "data": {
      "text/plain": [
       "2×2 IntervalMatrix{Float64,Interval{Float64},Array{Interval{Float64},2}}:\n",
       " [-0.348735, -0.00446299]  [-2.00009, 0.403893]\n",
       " [-2.67661, 0.237629]      [-0.358738, 1.96379]"
      ]
     },
     "execution_count": 176,
     "metadata": {},
     "output_type": "execute_result"
    }
   ],
   "source": [
    "M1 = rand(IntervalMatrix, 2)"
   ]
  },
  {
   "cell_type": "code",
   "execution_count": 181,
   "metadata": {},
   "outputs": [
    {
     "name": "stdout",
     "output_type": "stream",
     "text": [
      "  1.736 ms (9875 allocations: 640.95 KiB)\n"
     ]
    },
    {
     "data": {
      "text/plain": [
       "2×2 Array{Interval{Float64},2}:\n",
       "  [-7.95888, 51.6993]  [-59.7474, 21.8903] \n",
       " [-78.4055, 27.8079]    [-7.95888, 106.546]"
      ]
     },
     "execution_count": 181,
     "metadata": {},
     "output_type": "execute_result"
    }
   ],
   "source": [
    "@btime power($M1, 4)"
   ]
  },
  {
   "cell_type": "code",
   "execution_count": 185,
   "metadata": {},
   "outputs": [
    {
     "name": "stdout",
     "output_type": "stream",
     "text": [
      "  176.546 μs (4471 allocations: 246.99 KiB)\n"
     ]
    },
    {
     "data": {
      "text/plain": [
       "2×2 Array{Interval{Float64},2}:\n",
       " [-11.8961, 52.7535]  [-58.9023, 21.0803]\n",
       " [-79.5365, 26.9885]  [-19.9713, 107.6]  "
      ]
     },
     "execution_count": 185,
     "metadata": {},
     "output_type": "execute_result"
    }
   ],
   "source": [
    "@btime power4($M1, 4)"
   ]
  },
  {
   "cell_type": "code",
   "execution_count": 183,
   "metadata": {},
   "outputs": [
    {
     "name": "stdout",
     "output_type": "stream",
     "text": [
      "  10.921 ms (78404 allocations: 4.98 MiB)\n"
     ]
    },
    {
     "data": {
      "text/plain": [
       "2×2 Array{Interval{Float64},2}:\n",
       " [-27892, 90762]     [-117012, 42870.7]        \n",
       " [-153552, 54459.8]          [-35831.5, 198175]"
      ]
     },
     "execution_count": 183,
     "metadata": {},
     "output_type": "execute_result"
    }
   ],
   "source": [
    "@btime power($M1, 10)"
   ]
  },
  {
   "cell_type": "code",
   "execution_count": 184,
   "metadata": {},
   "outputs": [
    {
     "name": "stdout",
     "output_type": "stream",
     "text": [
      "  1.224 ms (20083 allocations: 1.76 MiB)\n"
     ]
    },
    {
     "data": {
      "text/plain": [
       "2×2 Array{Interval{Float64},2}:\n",
       "         [-34890.7, 93058.6]  [-115634, 42072]\n",
       " [-155225, 57504.5]           [-53331, 200012]"
      ]
     },
     "execution_count": 184,
     "metadata": {},
     "output_type": "execute_result"
    }
   ],
   "source": [
    "@btime power4($M1, 10)"
   ]
  },
  {
   "cell_type": "code",
   "execution_count": 186,
   "metadata": {},
   "outputs": [
    {
     "data": {
      "text/plain": [
       "2×2 Array{Interval{Float64},2}:\n",
       " [-2.61366e+07, 5.07907e+07]  [-6.4509e+07, 2.88482e+07] \n",
       " [-8.63974e+07, 3.87699e+07]  [-4.34392e+07, 1.08748e+08]"
      ]
     },
     "execution_count": 186,
     "metadata": {},
     "output_type": "execute_result"
    }
   ],
   "source": [
    "power4(M1, 15)"
   ]
  },
  {
   "cell_type": "markdown",
   "metadata": {},
   "source": [
    "## Using DynamicPolynomials"
   ]
  },
  {
   "cell_type": "code",
   "execution_count": 187,
   "metadata": {},
   "outputs": [
    {
     "name": "stderr",
     "output_type": "stream",
     "text": [
      "┌ Info: Recompiling stale cache file /home/mforets/.julia/compiled/v1.2/DynamicPolynomials/tepBk.ji for DynamicPolynomials [7c1d4256-1411-5781-91ec-d7bc3513ac07]\n",
      "└ @ Base loading.jl:1240\n"
     ]
    },
    {
     "data": {
      "text/plain": [
       "power_poly (generic function with 1 method)"
      ]
     },
     "execution_count": 187,
     "metadata": {},
     "output_type": "execute_result"
    }
   ],
   "source": [
    "using DynamicPolynomials\n",
    "\n",
    "# this version is as fast as M^k where M is an inteval, but it is not accurate. the reason is that \n",
    "# DynamicPolynomials expands the symbolic polynomial products \n",
    "function power_poly(M::IntervalMatrix, k::Int)\n",
    "    n = size(M, 1)\n",
    "    @polyvar Msym[1:n, 1:n]\n",
    "    vars = vec(Msym) # symbolic variables, column-major\n",
    "    Msym_k = Msym^k # symbolic matrix multiplication << can we \"hold\" this product?\n",
    "    Mk = map(x -> subs(x, vars => vec(M)), Msym_k) # substitution of the intervals\n",
    "    return Mk\n",
    "end"
   ]
  },
  {
   "cell_type": "code",
   "execution_count": 194,
   "metadata": {},
   "outputs": [
    {
     "data": {
      "text/plain": [
       "2"
      ]
     },
     "execution_count": 194,
     "metadata": {},
     "output_type": "execute_result"
    }
   ],
   "source": [
    "M = rand(IntervalMatrix, 2)\n",
    "k = 2"
   ]
  },
  {
   "cell_type": "code",
   "execution_count": 198,
   "metadata": {},
   "outputs": [
    {
     "ename": "MethodError",
     "evalue": "MethodError: no method matching size(::Pair{Array{PolyVar{true},1},Base.ReshapedArray{Interval{Float64},1,IntervalMatrix{Float64,Interval{Float64},Array{Interval{Float64},2}},Tuple{}}}, ::Int64)\nClosest candidates are:\n  size(!Matched::BitArray{1}, ::Integer) at bitarray.jl:81\n  size(!Matched::Tuple, ::Integer) at tuple.jl:22\n  size(!Matched::Number, ::Integer) at number.jl:63\n  ...",
     "output_type": "error",
     "traceback": [
      "MethodError: no method matching size(::Pair{Array{PolyVar{true},1},Base.ReshapedArray{Interval{Float64},1,IntervalMatrix{Float64,Interval{Float64},Array{Interval{Float64},2}},Tuple{}}}, ::Int64)\nClosest candidates are:\n  size(!Matched::BitArray{1}, ::Integer) at bitarray.jl:81\n  size(!Matched::Tuple, ::Integer) at tuple.jl:22\n  size(!Matched::Number, ::Integer) at number.jl:63\n  ...",
      "",
      "Stacktrace:",
      " [1] #subs#30(::String, ::typeof(subs), ::Polynomial{true,Int64}, ::Pair{Array{PolyVar{true},1},Base.ReshapedArray{Interval{Float64},1,IntervalMatrix{Float64,Interval{Float64},Array{Interval{Float64},2}},Tuple{}}}) at ./In[62]:16",
      " [2] subs(::Polynomial{true,Int64}, ::Pair{Array{PolyVar{true},1},Base.ReshapedArray{Interval{Float64},1,IntervalMatrix{Float64,Interval{Float64},Array{Interval{Float64},2}},Tuple{}}}) at ./In[62]:16",
      " [3] (::getfield(Main, Symbol(\"##69#70\")))(::Polynomial{true,Int64}) at ./In[198]:5",
      " [4] iterate at ./generator.jl:47 [inlined]",
      " [5] _collect at ./array.jl:619 [inlined]",
      " [6] collect_similar(::Array{Polynomial{true,Int64},2}, ::Base.Generator{Array{Polynomial{true,Int64},2},getfield(Main, Symbol(\"##69#70\"))}) at ./array.jl:548",
      " [7] map(::Function, ::Array{Polynomial{true,Int64},2}) at ./abstractarray.jl:2073",
      " [8] top-level scope at In[198]:5"
     ]
    }
   ],
   "source": [
    "n = size(M, 1)\n",
    "@polyvar Msym[1:n, 1:n]\n",
    "vars = vec(Msym) # symbolic variables, column-major\n",
    "Msym_k = Msym^k # symbolic matrix multiplication << can we \"hold\" this product?\n",
    "Mk = map(x -> subs(x, vars => vec(M)), Msym_k) # substitution of the intervals"
   ]
  },
  {
   "cell_type": "code",
   "execution_count": 209,
   "metadata": {},
   "outputs": [
    {
     "data": {
      "text/plain": [
       "4-element Array{PolyVar{true},1}:\n",
       " Msym₁₋₁\n",
       " Msym₂₋₁\n",
       " Msym₁₋₂\n",
       " Msym₂₋₂"
      ]
     },
     "execution_count": 209,
     "metadata": {},
     "output_type": "execute_result"
    }
   ],
   "source": [
    "vars = vec(Msym)"
   ]
  },
  {
   "cell_type": "code",
   "execution_count": 210,
   "metadata": {},
   "outputs": [
    {
     "ename": "MethodError",
     "evalue": "MethodError: no method matching size(::Pair{Array{PolyVar{true},1},Array{Interval{Float64},1}}, ::Int64)\nClosest candidates are:\n  size(!Matched::BitArray{1}, ::Integer) at bitarray.jl:81\n  size(!Matched::Tuple, ::Integer) at tuple.jl:22\n  size(!Matched::Number, ::Integer) at number.jl:63\n  ...",
     "output_type": "error",
     "traceback": [
      "MethodError: no method matching size(::Pair{Array{PolyVar{true},1},Array{Interval{Float64},1}}, ::Int64)\nClosest candidates are:\n  size(!Matched::BitArray{1}, ::Integer) at bitarray.jl:81\n  size(!Matched::Tuple, ::Integer) at tuple.jl:22\n  size(!Matched::Number, ::Integer) at number.jl:63\n  ...",
      "",
      "Stacktrace:",
      " [1] #subs#30(::String, ::typeof(subs), ::Polynomial{true,Int64}, ::Pair{Array{PolyVar{true},1},Array{Interval{Float64},1}}) at ./In[62]:16",
      " [2] subs(::Polynomial{true,Int64}, ::Pair{Array{PolyVar{true},1},Array{Interval{Float64},1}}) at ./In[62]:16",
      " [3] top-level scope at In[210]:1"
     ]
    }
   ],
   "source": [
    "subs(Msym_k[1, 1], vars => Vector(vec(M1)))"
   ]
  },
  {
   "cell_type": "code",
   "execution_count": 189,
   "metadata": {},
   "outputs": [
    {
     "ename": "MethodError",
     "evalue": "MethodError: no method matching size(::Pair{Array{PolyVar{true},1},Base.ReshapedArray{Interval{Float64},1,IntervalMatrix{Float64,Interval{Float64},Array{Interval{Float64},2}},Tuple{}}}, ::Int64)\nClosest candidates are:\n  size(!Matched::BitArray{1}, ::Integer) at bitarray.jl:81\n  size(!Matched::Tuple, ::Integer) at tuple.jl:22\n  size(!Matched::Number, ::Integer) at number.jl:63\n  ...",
     "output_type": "error",
     "traceback": [
      "MethodError: no method matching size(::Pair{Array{PolyVar{true},1},Base.ReshapedArray{Interval{Float64},1,IntervalMatrix{Float64,Interval{Float64},Array{Interval{Float64},2}},Tuple{}}}, ::Int64)\nClosest candidates are:\n  size(!Matched::BitArray{1}, ::Integer) at bitarray.jl:81\n  size(!Matched::Tuple, ::Integer) at tuple.jl:22\n  size(!Matched::Number, ::Integer) at number.jl:63\n  ...",
      "",
      "Stacktrace:",
      " [1] #subs#30(::String, ::typeof(subs), ::Polynomial{true,Int64}, ::Pair{Array{PolyVar{true},1},Base.ReshapedArray{Interval{Float64},1,IntervalMatrix{Float64,Interval{Float64},Array{Interval{Float64},2}},Tuple{}}}) at ./In[62]:16",
      " [2] subs(::Polynomial{true,Int64}, ::Pair{Array{PolyVar{true},1},Base.ReshapedArray{Interval{Float64},1,IntervalMatrix{Float64,Interval{Float64},Array{Interval{Float64},2}},Tuple{}}}) at ./In[62]:16",
      " [3] (::getfield(Main, Symbol(\"##65#66\")){IntervalMatrix{Float64,Interval{Float64},Array{Interval{Float64},2}},Array{PolyVar{true},1}})(::Polynomial{true,Int64}) at ./In[187]:10",
      " [4] iterate at ./generator.jl:47 [inlined]",
      " [5] _collect at ./array.jl:619 [inlined]",
      " [6] collect_similar at ./array.jl:548 [inlined]",
      " [7] map at ./abstractarray.jl:2073 [inlined]",
      " [8] power_poly(::IntervalMatrix{Float64,Interval{Float64},Array{Interval{Float64},2}}, ::Int64) at ./In[187]:10",
      " [9] top-level scope at In[189]:1"
     ]
    }
   ],
   "source": [
    "power_poly(M1, 10)"
   ]
  },
  {
   "cell_type": "code",
   "execution_count": null,
   "metadata": {},
   "outputs": [],
   "source": [
    "@btime power_poly"
   ]
  },
  {
   "cell_type": "code",
   "execution_count": null,
   "metadata": {},
   "outputs": [],
   "source": []
  },
  {
   "cell_type": "markdown",
   "metadata": {},
   "source": [
    "# Changing powers to exp"
   ]
  },
  {
   "cell_type": "markdown",
   "metadata": {},
   "source": [
    "1) Input: interval matrix M of order n, integer k >= 1, and truncation order p\n",
    "\n",
    "2) Output: the sequence {Q, Q2, ..., Qk} such that Qi is an overapproximation of (exp(M))^i for each i = 1, ..., k"
   ]
  },
  {
   "cell_type": "markdown",
   "metadata": {},
   "source": [
    "Algorithm 1"
   ]
  },
  {
   "cell_type": "markdown",
   "metadata": {},
   "source": [
    "```\n",
    "Q <- exp_oa(M, p)\n",
    "Q2 <- Q * Q\n",
    "Q3 <- Q * Q2\n",
    "...\n",
    "Qk <- Q * Q_{k-1}\n",
    "```"
   ]
  },
  {
   "cell_type": "markdown",
   "metadata": {},
   "source": [
    "Algorithm 2"
   ]
  },
  {
   "cell_type": "markdown",
   "metadata": {},
   "source": [
    "```\n",
    "Q <- exp_oa(M, p)\n",
    "Q2 <- exp_oa(2*M, p)\n",
    "...\n",
    "Qk <- exp_oa(k*M, p)\n",
    "```"
   ]
  },
  {
   "cell_type": "markdown",
   "metadata": {},
   "source": [
    "---"
   ]
  },
  {
   "cell_type": "markdown",
   "metadata": {},
   "source": [
    "We implement Algorithm 2 next."
   ]
  },
  {
   "cell_type": "code",
   "execution_count": 31,
   "metadata": {},
   "outputs": [],
   "source": [
    "using BenchmarkTools\n",
    "using Revise, IntervalMatrices"
   ]
  },
  {
   "cell_type": "code",
   "execution_count": 19,
   "metadata": {},
   "outputs": [
    {
     "data": {
      "text/plain": [
       "pexp2 (generic function with 1 method)"
      ]
     },
     "execution_count": 19,
     "metadata": {},
     "output_type": "execute_result"
    }
   ],
   "source": [
    "# return exp(M), exp(2M), ..., exp(kM) with overapproximation of order p\n",
    "function pexp2(M, k, p)\n",
    "    out = Vector{IntervalMatrix{Float64}}(undef, k)\n",
    "    for i in 1:k\n",
    "        out[i] = exp_overapproximation(i*M, 1.0, p)\n",
    "    end\n",
    "    return out\n",
    "end"
   ]
  },
  {
   "cell_type": "markdown",
   "metadata": {},
   "source": [
    "Let's compare with a naive form of Algorithm 1, where the powers of intervals are taken as if they were dense matrices."
   ]
  },
  {
   "cell_type": "code",
   "execution_count": 32,
   "metadata": {},
   "outputs": [
    {
     "data": {
      "text/plain": [
       "pexp1 (generic function with 1 method)"
      ]
     },
     "execution_count": 32,
     "metadata": {},
     "output_type": "execute_result"
    }
   ],
   "source": [
    "function pexp1(M, k, p)\n",
    "    out = Vector{IntervalMatrix{Float64}}(undef, k)\n",
    "    phi1 = exp_overapproximation(M, 1.0, p)\n",
    "    out[1] = copy(phi1)\n",
    "    for i in 2:k\n",
    "        out[i] = out[i-1] * phi1\n",
    "    end\n",
    "    return out\n",
    "end"
   ]
  },
  {
   "cell_type": "markdown",
   "metadata": {},
   "source": [
    "### Test"
   ]
  },
  {
   "cell_type": "code",
   "execution_count": 145,
   "metadata": {},
   "outputs": [
    {
     "data": {
      "text/plain": [
       "40×40 IntervalMatrix{Float64,Interval{Float64},Array{Interval{Float64},2}}:\n",
       " [-0.173159, 0.113827]      …  [-0.0239861, 0.115224]  \n",
       " [-0.0019215, 0.148086]        [-0.0493541, 0.0639193] \n",
       "  [0.0425522, 0.0689519]       [-0.111356, -0.0328481] \n",
       " [-0.200982, -0.0328199]       [-0.139579, 0.12546]    \n",
       " [-0.160794, -0.000903328]      [0.0311427, 0.105935]  \n",
       " [-0.098791, 0.0597009]     …   [0.0420112, 0.143352]  \n",
       " [-0.0196645, 0.275741]        [-0.0564964, 0.0498044] \n",
       " [-0.108853, 0.0575663]        [-0.123532, 0.0110838]  \n",
       " [-0.092545, 0.000252951]       [0.0960279, 0.102825]  \n",
       " [-0.0668071, 0.0216959]       [-0.216341, -0.0512607] \n",
       " [-0.162773, -0.0354169]    …   [0.00425128, 0.196969] \n",
       " [-0.0878364, -0.022894]       [-0.0608379, 0.208074]  \n",
       " [-0.0700484, 0.133077]        [-0.11197, 0.139085]    \n",
       "   ⋮                        ⋱                          \n",
       "  [0.0727462, 0.0774259]       [-0.0921877, 0.0871373] \n",
       " [-0.10507, 0.221231]          [-0.130604, -0.111618]  \n",
       " [-0.054951, 0.0369961]     …  [-0.0890538, 0.143119]  \n",
       " [-0.0300116, 0.0895911]       [-0.161163, -0.0112425] \n",
       " [-0.138634, -0.0621573]       [-0.201432, -0.0732478] \n",
       " [-0.060652, 0.00743434]       [-0.0622166, 0.00517838]\n",
       " [-0.15337, -0.0883676]        [-0.11358, -0.0672787]  \n",
       " [-0.143036, 0.121997]      …   [0.0420132, 0.0476607] \n",
       " [-0.179035, 0.033999]         [-0.139668, 0.0416477]  \n",
       " [-0.220922, 0.0378273]        [-0.0355597, -0.0312797]\n",
       " [-0.0726661, 0.0980891]       [-0.0351632, 0.0640086] \n",
       " [-0.0766907, -0.0537857]      [-0.0899976, -0.0191097]"
      ]
     },
     "execution_count": 145,
     "metadata": {},
     "output_type": "execute_result"
    }
   ],
   "source": [
    "M = rand(IntervalMatrix, 40) * 0.1"
   ]
  },
  {
   "cell_type": "code",
   "execution_count": 148,
   "metadata": {},
   "outputs": [
    {
     "name": "stdout",
     "output_type": "stream",
     "text": [
      "  0.370830 seconds (1.46 k allocations: 6.462 MiB)\n"
     ]
    }
   ],
   "source": [
    "@time out1 = pexp1(M, 100, 30);"
   ]
  },
  {
   "cell_type": "code",
   "execution_count": 146,
   "metadata": {},
   "outputs": [
    {
     "name": "stdout",
     "output_type": "stream",
     "text": [
      " 13.798987 seconds (57.37 k allocations: 408.562 MiB, 0.24% gc time)\n"
     ]
    }
   ],
   "source": [
    "@time out2 = pexp2(M, 100, 30);"
   ]
  },
  {
   "cell_type": "code",
   "execution_count": 155,
   "metadata": {},
   "outputs": [
    {
     "data": {
      "text/plain": [
       "[-1.08212e+24, 1.08212e+24]"
      ]
     },
     "execution_count": 155,
     "metadata": {},
     "output_type": "execute_result"
    }
   ],
   "source": [
    "out1[5][1, 1]"
   ]
  },
  {
   "cell_type": "code",
   "execution_count": 152,
   "metadata": {},
   "outputs": [
    {
     "data": {
      "text/plain": [
       "[-3.75895e+196, 3.75895e+196]"
      ]
     },
     "execution_count": 152,
     "metadata": {},
     "output_type": "execute_result"
    }
   ],
   "source": [
    "out2[end][1, 1]"
   ]
  },
  {
   "cell_type": "code",
   "execution_count": 128,
   "metadata": {},
   "outputs": [
    {
     "data": {
      "text/plain": [
       "4×4 IntervalMatrix{Float64,Interval{Float64},Array{Interval{Float64},2}}:\n",
       "  [0.846621, 1.07392]     …  [-0.0952449, 0.0607917]\n",
       " [-0.0455161, 0.0490107]     [-0.167436, 0.0829671] \n",
       " [-0.159921, 0.0308832]      [-0.0471625, 0.101086] \n",
       " [-0.0488102, 0.0477423]      [0.88971, 1.02042]    "
      ]
     },
     "execution_count": 128,
     "metadata": {},
     "output_type": "execute_result"
    }
   ],
   "source": [
    "out1[1]"
   ]
  },
  {
   "cell_type": "code",
   "execution_count": 129,
   "metadata": {},
   "outputs": [
    {
     "data": {
      "text/plain": [
       "4×4 IntervalMatrix{Float64,Interval{Float64},Array{Interval{Float64},2}}:\n",
       "  [0.846621, 1.07392]     …  [-0.0952449, 0.0607917]\n",
       " [-0.0455161, 0.0490107]     [-0.167436, 0.0829671] \n",
       " [-0.159921, 0.0308832]      [-0.0471625, 0.101086] \n",
       " [-0.0488102, 0.0477423]      [0.88971, 1.02042]    "
      ]
     },
     "execution_count": 129,
     "metadata": {},
     "output_type": "execute_result"
    }
   ],
   "source": [
    "out2[1]"
   ]
  },
  {
   "cell_type": "code",
   "execution_count": 130,
   "metadata": {},
   "outputs": [
    {
     "data": {
      "text/plain": [
       "4×4 IntervalMatrix{Float64,Interval{Float64},Array{Interval{Float64},2}}:\n",
       "  [0.685072, 1.19588]    [-0.559099, -0.0417085]  …  [-0.236701, 0.177821]\n",
       " [-0.111827, 0.139412]    [0.660913, 1.24785]        [-0.375751, 0.187764]\n",
       " [-0.367969, 0.0793805]  [-0.191226, 0.298916]       [-0.13129, 0.249365] \n",
       " [-0.145427, 0.111953]   [-0.0225697, 0.230179]       [0.760428, 1.07809] "
      ]
     },
     "execution_count": 130,
     "metadata": {},
     "output_type": "execute_result"
    }
   ],
   "source": [
    "out1[2]"
   ]
  },
  {
   "cell_type": "code",
   "execution_count": 131,
   "metadata": {},
   "outputs": [
    {
     "data": {
      "text/plain": [
       "4×4 IntervalMatrix{Float64,Interval{Float64},Array{Interval{Float64},2}}:\n",
       "  [0.67165, 1.20071]     [-0.572507, -0.0154382]  …  [-0.253585, 0.186078]\n",
       " [-0.122137, 0.143756]    [0.648252, 1.25635]        [-0.384809, 0.196241]\n",
       " [-0.370156, 0.0873174]  [-0.203323, 0.299602]       [-0.135754, 0.252503]\n",
       " [-0.147659, 0.122127]   [-0.036567, 0.237018]        [0.75199, 1.08547]  "
      ]
     },
     "execution_count": 131,
     "metadata": {},
     "output_type": "execute_result"
    }
   ],
   "source": [
    "out2[2]"
   ]
  },
  {
   "cell_type": "code",
   "execution_count": 132,
   "metadata": {},
   "outputs": [
    {
     "data": {
      "text/plain": [
       "4×4 IntervalMatrix{Float64,Interval{Float64},Array{Interval{Float64},2}}:\n",
       "  [0.498957, 1.3847]    [-0.974183, -0.012191]  …  [-0.44191, 0.374526] \n",
       " [-0.207093, 0.292722]   [0.443099, 1.45231]       [-0.645778, 0.324508]\n",
       " [-0.648069, 0.155665]  [-0.35455, 0.599156]       [-0.273371, 0.465088]\n",
       " [-0.305982, 0.199724]  [-0.0914398, 0.446493]      [0.601786, 1.18786] "
      ]
     },
     "execution_count": 132,
     "metadata": {},
     "output_type": "execute_result"
    }
   ],
   "source": [
    "out1[3]"
   ]
  },
  {
   "cell_type": "code",
   "execution_count": 133,
   "metadata": {},
   "outputs": [
    {
     "data": {
      "text/plain": [
       "4×4 IntervalMatrix{Float64,Interval{Float64},Array{Interval{Float64},2}}:\n",
       "  [0.437279, 1.41383]   [-1.03797, 0.107389]   …  [-0.519792, 0.415745]\n",
       " [-0.25732, 0.315041]    [0.384145, 1.49463]      [-0.687255, 0.368618]\n",
       " [-0.659323, 0.193761]  [-0.408671, 0.605324]     [-0.295731, 0.4841]  \n",
       " [-0.320246, 0.247937]  [-0.154346, 0.478671]      [0.559887, 1.22333] "
      ]
     },
     "execution_count": 133,
     "metadata": {},
     "output_type": "execute_result"
    }
   ],
   "source": [
    "out2[3]"
   ]
  },
  {
   "cell_type": "code",
   "execution_count": 134,
   "metadata": {},
   "outputs": [
    {
     "data": {
      "text/plain": [
       "4×4 IntervalMatrix{Float64,Interval{Float64},Array{Interval{Float64},2}}:\n",
       "  [-7.19539, 9.59238]  [-14.0893, 7.80281]   …  [-8.13595, 10.0302]\n",
       "  [-4.21488, 8.6107]    [-9.9608, 9.14884]      [-9.58146, 5.55632]\n",
       " [-10.7401, 4.82381]    [-8.15425, 14.6714]     [-8.27474, 9.38061]\n",
       "  [-7.59119, 3.90841]   [-5.38982, 10.6257]     [-5.08521, 7.34588]"
      ]
     },
     "execution_count": 134,
     "metadata": {},
     "output_type": "execute_result"
    }
   ],
   "source": [
    "out1[10]"
   ]
  },
  {
   "cell_type": "code",
   "execution_count": 135,
   "metadata": {},
   "outputs": [
    {
     "data": {
      "text/plain": [
       "4×4 IntervalMatrix{Float64,Interval{Float64},Array{Interval{Float64},2}}:\n",
       " [-40.1939, 42.3004]  [-57.9744, 54.1517]  …  [-46.8402, 46.2157]\n",
       " [-35.9377, 37.2392]  [-48.5049, 49.6182]     [-42.3154, 39.9235]\n",
       " [-37.3024, 34.2569]  [-47.0701, 49.4001]     [-39.1526, 40.183] \n",
       " [-34.9855, 33.7607]  [-44.8888, 47.057]      [-37.0285, 39.0208]"
      ]
     },
     "execution_count": 135,
     "metadata": {},
     "output_type": "execute_result"
    }
   ],
   "source": [
    "out2[10]"
   ]
  },
  {
   "cell_type": "code",
   "execution_count": 136,
   "metadata": {},
   "outputs": [
    {
     "data": {
      "text/plain": [
       "4×4 IntervalMatrix{Float64,Interval{Float64},Array{Interval{Float64},2}}:\n",
       " [-9.5126e+07, 9.51711e+07]   …  [-1.03181e+08, 1.03189e+08]\n",
       " [-7.91068e+07, 7.91048e+07]     [-8.58217e+07, 8.57523e+07]\n",
       " [-9.31189e+07, 9.30657e+07]     [-1.00923e+08, 1.00987e+08]\n",
       " [-6.66761e+07, 6.66397e+07]     [-7.22629e+07, 7.23126e+07]"
      ]
     },
     "execution_count": 136,
     "metadata": {},
     "output_type": "execute_result"
    }
   ],
   "source": [
    "out1[end]"
   ]
  },
  {
   "cell_type": "code",
   "execution_count": 137,
   "metadata": {},
   "outputs": [
    {
     "data": {
      "text/plain": [
       "4×4 IntervalMatrix{Float64,Interval{Float64},Array{Interval{Float64},2}}:\n",
       " [-1.70538e+22, 1.70538e+22]  …  [-1.89204e+22, 1.89204e+22]\n",
       " [-1.64003e+22, 1.64003e+22]     [-1.81953e+22, 1.81953e+22]\n",
       " [-1.62182e+22, 1.62182e+22]     [-1.79933e+22, 1.79933e+22]\n",
       " [-1.60717e+22, 1.60717e+22]     [-1.78307e+22, 1.78307e+22]"
      ]
     },
     "execution_count": 137,
     "metadata": {},
     "output_type": "execute_result"
    }
   ],
   "source": [
    "out2[end]"
   ]
  },
  {
   "cell_type": "code",
   "execution_count": null,
   "metadata": {},
   "outputs": [],
   "source": []
  },
  {
   "cell_type": "code",
   "execution_count": null,
   "metadata": {},
   "outputs": [],
   "source": []
  },
  {
   "cell_type": "code",
   "execution_count": null,
   "metadata": {},
   "outputs": [],
   "source": []
  },
  {
   "cell_type": "code",
   "execution_count": null,
   "metadata": {},
   "outputs": [],
   "source": []
  },
  {
   "cell_type": "code",
   "execution_count": null,
   "metadata": {},
   "outputs": [],
   "source": []
  },
  {
   "cell_type": "code",
   "execution_count": null,
   "metadata": {},
   "outputs": [],
   "source": []
  },
  {
   "cell_type": "code",
   "execution_count": null,
   "metadata": {},
   "outputs": [],
   "source": []
  },
  {
   "cell_type": "code",
   "execution_count": null,
   "metadata": {},
   "outputs": [],
   "source": []
  },
  {
   "cell_type": "code",
   "execution_count": null,
   "metadata": {},
   "outputs": [],
   "source": []
  },
  {
   "cell_type": "code",
   "execution_count": null,
   "metadata": {},
   "outputs": [],
   "source": []
  },
  {
   "cell_type": "code",
   "execution_count": null,
   "metadata": {},
   "outputs": [],
   "source": []
  },
  {
   "cell_type": "code",
   "execution_count": null,
   "metadata": {},
   "outputs": [],
   "source": []
  },
  {
   "cell_type": "code",
   "execution_count": null,
   "metadata": {},
   "outputs": [],
   "source": []
  }
 ],
 "metadata": {
  "kernelspec": {
   "display_name": "Julia 1.2.0",
   "language": "julia",
   "name": "julia-1.2"
  },
  "language_info": {
   "file_extension": ".jl",
   "mimetype": "application/julia",
   "name": "julia",
   "version": "1.2.0"
  }
 },
 "nbformat": 4,
 "nbformat_minor": 2
}
