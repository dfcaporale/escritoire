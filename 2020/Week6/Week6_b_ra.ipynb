{
 "cells": [
  {
   "cell_type": "markdown",
   "metadata": {},
   "source": [
    "## LazySets: dispatch"
   ]
  },
  {
   "cell_type": "markdown",
   "metadata": {},
   "source": [
    "- Check if subset check for pairs of HPolytope and VPolytope are used correctly."
   ]
  },
  {
   "cell_type": "markdown",
   "metadata": {},
   "source": [
    "## Continue with RA"
   ]
  },
  {
   "cell_type": "code",
   "execution_count": 1,
   "metadata": {},
   "outputs": [
    {
     "name": "stderr",
     "output_type": "stream",
     "text": [
      "┌ Info: Recompiling stale cache file /home/mforets/.julia/compiled/v1.2/ReachabilityAnalysis/fYI0z.ji for ReachabilityAnalysis [1e97bd63-91d1-579d-8e8d-501d2b57c93f]\n",
      "└ @ Base loading.jl:1240\n"
     ]
    }
   ],
   "source": [
    "using Revise, ReachabilityAnalysis"
   ]
  },
  {
   "cell_type": "code",
   "execution_count": 2,
   "metadata": {},
   "outputs": [
    {
     "data": {
      "text/plain": [
       "InitialValueProblem{LinearContinuousSystem{Float64,Array{Float64,2}},Translation{Float64,Array{Float64,1},BallInf{Float64}}}(LinearContinuousSystem{Float64,Array{Float64,2}}([1.0 0.0; 0.0 -1.0]), Translation{Float64,Array{Float64,1},BallInf{Float64}}(BallInf{Float64}([0.0, 0.0], 0.001), [1.0, 0.0]))"
      ]
     },
     "execution_count": 2,
     "metadata": {},
     "output_type": "execute_result"
    }
   ],
   "source": [
    "A = [1.0 0.0; 0.0 -1.0] # rotating\n",
    "S = @system(x' = Ax)\n",
    "P = InitialValueProblem(S, [1.0, 0.0] ⊕ BallInf(zeros(2), 0.001))\n",
    "\n",
    "# P = @ivp(x' = Ax, x ∈ [1.0, 0.0] ⊕ BallInf(zeros(2), 0.001))\n",
    "# function rotation!(dx, x, p, t)\n",
    "#     dx[1] = x[2]\n",
    "#     dx[2] = -x[1]\n",
    "# end\n",
    "# @ivp(x' = rotation!, x ∈ [1.0, 0.0] ⊕ BallInf(zeros(2), 0.001))"
   ]
  },
  {
   "cell_type": "code",
   "execution_count": 3,
   "metadata": {},
   "outputs": [
    {
     "ename": "MethodError",
     "evalue": "MethodError: no method matching _get_time_span(::Pair{Symbol,Float64})\nClosest candidates are:\n  _get_time_span(; kwargs...) at /home/mforets/.julia/dev/ReachabilityAnalysis/src/solve.jl:57",
     "output_type": "error",
     "traceback": [
      "MethodError: no method matching _get_time_span(::Pair{Symbol,Float64})\nClosest candidates are:\n  _get_time_span(; kwargs...) at /home/mforets/.julia/dev/ReachabilityAnalysis/src/solve.jl:57",
      "",
      "Stacktrace:",
      " [1] #solve#46(::Base.Iterators.Pairs{Symbol,Float64,Tuple{Symbol},NamedTuple{(:T,),Tuple{Float64}}}, ::typeof(solve), ::InitialValueProblem{LinearContinuousSystem{Float64,Array{Float64,2}},Translation{Float64,Array{Float64,1},BallInf{Float64}}}) at /home/mforets/.julia/dev/ReachabilityAnalysis/src/solve.jl:39",
      " [2] (::getfield(ReachabilityAnalysis, Symbol(\"#kw##solve\")))(::NamedTuple{(:T,),Tuple{Float64}}, ::typeof(solve), ::InitialValueProblem{LinearContinuousSystem{Float64,Array{Float64,2}},Translation{Float64,Array{Float64,1},BallInf{Float64}}}) at ./none:0",
      " [3] top-level scope at In[3]:1"
     ]
    }
   ],
   "source": [
    "solve(P, T=1.0)"
   ]
  },
  {
   "cell_type": "code",
   "execution_count": null,
   "metadata": {},
   "outputs": [],
   "source": []
  }
 ],
 "metadata": {
  "kernelspec": {
   "display_name": "Julia 1.2.0",
   "language": "julia",
   "name": "julia-1.2"
  },
  "language_info": {
   "file_extension": ".jl",
   "mimetype": "application/julia",
   "name": "julia",
   "version": "1.2.0"
  }
 },
 "nbformat": 4,
 "nbformat_minor": 2
}
