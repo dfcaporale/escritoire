{
 "cells": [
  {
   "cell_type": "markdown",
   "metadata": {},
   "source": [
    "## Faster opnorm for IntervalMatrix"
   ]
  },
  {
   "cell_type": "markdown",
   "metadata": {},
   "source": [
    "https://github.com/JuliaReach/IntervalMatrices.jl/pull/125"
   ]
  },
  {
   "cell_type": "code",
   "execution_count": 27,
   "metadata": {},
   "outputs": [],
   "source": [
    "using Revise, LazySets, IntervalMatrices, LinearAlgebra\n",
    "using BenchmarkTools"
   ]
  },
  {
   "cell_type": "code",
   "execution_count": 22,
   "metadata": {},
   "outputs": [
    {
     "data": {
      "text/plain": [
       "opnorm1 (generic function with 2 methods)"
      ]
     },
     "execution_count": 22,
     "metadata": {},
     "output_type": "execute_result"
    }
   ],
   "source": [
    "#   26.181 μs (8 allocations: 234.64 KiB)\n",
    "function opnorm1(A::IntervalMatrix, p::Real=Inf)\n",
    "    if p == Inf || p == 1\n",
    "        return LinearAlgebra.opnorm(max.(abs.(inf(A)), abs.(sup(A))), p)\n",
    "    else\n",
    "        error(\"the interval matrix norm for this value of p=$p is not implemented\")\n",
    "    end\n",
    "end"
   ]
  },
  {
   "cell_type": "code",
   "execution_count": 23,
   "metadata": {},
   "outputs": [
    {
     "data": {
      "text/plain": [
       "opnorm2b (generic function with 2 methods)"
      ]
     },
     "execution_count": 23,
     "metadata": {},
     "output_type": "execute_result"
    }
   ],
   "source": [
    "#   26.080 μs (8 allocations: 234.64 KiB)\n",
    "function opnorm2(A::IntervalMatrix, p::Real=Inf)\n",
    "    if p == Inf || p == 1\n",
    "        return LinearAlgebra.opnorm(max.((-).(inf(A)), sup(A)), p)\n",
    "    else\n",
    "        error(\"the interval matrix norm for this value of p=$p is not implemented\")\n",
    "    end\n",
    "end\n",
    "\n",
    "#   33.279 μs (10 allocations: 312.84 KiB)\n",
    "function opnorm2b(A::IntervalMatrix, p::Real=Inf)\n",
    "    if p == Inf || p == 1\n",
    "        return LinearAlgebra.opnorm(max.(-inf(A), sup(A)), p)\n",
    "    else\n",
    "        error(\"the interval matrix norm for this value of p=$p is not implemented\")\n",
    "    end\n",
    "end"
   ]
  },
  {
   "cell_type": "code",
   "execution_count": 154,
   "metadata": {},
   "outputs": [
    {
     "data": {
      "text/plain": [
       "_opnorm_inf_g (generic function with 1 method)"
      ]
     },
     "execution_count": 154,
     "metadata": {},
     "output_type": "execute_result"
    }
   ],
   "source": [
    "function opnorm3(A::IntervalMatrix, p::Real=Inf)\n",
    "    if p == Inf\n",
    "        return _opnorm_inf_a(A)\n",
    "    elseif p == 1\n",
    "        return _opnorm_1(A)\n",
    "    else\n",
    "        error(\"the interval matrix norm for this value of p=$p is not implemented\")\n",
    "    end\n",
    "end\n",
    "\n",
    "function _opnorm_1(A) end\n",
    "\n",
    "function _opnorm_inf_a(A::IntervalMatrix{N}) where {N}\n",
    "    res = zero(N)\n",
    "    m, n = size(A)\n",
    "    @inbounds @simd for i in 1:m\n",
    "        acc = zero(N)\n",
    "        for j in 1:m\n",
    "            x = A[i, j]\n",
    "            acc += max(-inf(x), sup(x))\n",
    "        end\n",
    "        if acc > res\n",
    "            res = acc\n",
    "        end\n",
    "    end\n",
    "    return res\n",
    "end\n",
    "\n",
    "function _opnorm_inf_b(A::IntervalMatrix{N}) where {N}\n",
    "    res = zero(N)\n",
    "    m, n = size(A)\n",
    "    @inbounds @simd for i in 1:m\n",
    "        acc = zero(N)\n",
    "        for j in 1:m\n",
    "            x = A[i, j]\n",
    "            acc += max(abs(inf(x)), abs(sup(x)))\n",
    "        end\n",
    "        if acc > res\n",
    "            res = acc\n",
    "        end\n",
    "    end\n",
    "    return res\n",
    "end\n",
    "\n",
    "function _opnorm_inf_c(A::IntervalMatrix{N}) where {N}\n",
    "    m, n = size(A)\n",
    "    acc = zeros(N, m)\n",
    "    @inbounds @simd for j in 1:m\n",
    "        for i in 1:n\n",
    "            x = A[i, j]\n",
    "            acc[i] += max(-inf(x), sup(x))\n",
    "        end\n",
    "    end\n",
    "    return maximum(acc)\n",
    "end\n",
    "\n",
    "function _opnorm_inf_d(A::IntervalMatrix{N}) where {N}\n",
    "    m, n = size(A)\n",
    "    acc = zeros(N, m)\n",
    "    @inbounds @simd for j in 1:m\n",
    "        for i in 1:n\n",
    "            x = A[i, j]\n",
    "            acc[i] += max(abs(inf(x)), abs(sup(x)))\n",
    "        end\n",
    "    end\n",
    "    return maximum(acc)\n",
    "end\n",
    "\n",
    "function _opnorm_inf_e(A::IntervalMatrix{N}) where {N}\n",
    "    m, n = size(A)\n",
    "    res = zero(N)\n",
    "    At = transpose(A)\n",
    "    @inbounds @simd for j in 1:m\n",
    "        acc = zero(N)\n",
    "        for i in 1:n\n",
    "            x = At[i, j]\n",
    "            acc += max(abs(inf(x)), abs(sup(x)))\n",
    "        end\n",
    "        if acc > res\n",
    "            res = acc\n",
    "        end\n",
    "    end\n",
    "    return res\n",
    "end\n",
    "\n",
    "function _opnorm_inf_f(A::IntervalMatrix{N}) where {N}\n",
    "    m, n = size(A)\n",
    "    res = zero(N)\n",
    "    At = transpose(A)\n",
    "    @inbounds @simd for j in 1:m\n",
    "        acc = zero(N)\n",
    "        for i in 1:n\n",
    "            x = At[i, j]\n",
    "            acc += max(-inf(x), sup(x))\n",
    "        end\n",
    "        if acc > res\n",
    "            res = acc\n",
    "        end\n",
    "    end\n",
    "    return res\n",
    "end\n",
    "\n",
    "function _opnorm_inf_g(A::IntervalMatrix{N}) where {N}\n",
    "    m, n = size(A)\n",
    "    res = zero(N)\n",
    "    At = transpose(A)\n",
    "    @inbounds @simd for j in 1:m\n",
    "        acc = zero(N)\n",
    "        for i in 1:n\n",
    "            x = At[i, j]\n",
    "            acc += max(abs(inf(x)), abs(sup(x)))\n",
    "            #acc += max(-inf(x), sup(x))\n",
    "        end\n",
    "        if acc > res\n",
    "            res = acc\n",
    "        end\n",
    "    end\n",
    "    return res\n",
    "end\n",
    "\n",
    "#=\n",
    "Results:\n",
    "  48.442 μs (0 allocations: 0 bytes)\n",
    "  18.663 μs (0 allocations: 0 bytes)\n",
    "  49.184 μs (1 allocation: 896 bytes)\n",
    "  20.629 μs (1 allocation: 896 bytes)\n",
    "  18.683 μs (0 allocations: 0 bytes) # best is version e\n",
    "  50.652 μs (0 allocations: 0 bytes)\n",
    "=#"
   ]
  },
  {
   "cell_type": "code",
   "execution_count": 138,
   "metadata": {},
   "outputs": [],
   "source": [
    "A = rand(IntervalMatrix, 100);"
   ]
  },
  {
   "cell_type": "code",
   "execution_count": 139,
   "metadata": {},
   "outputs": [
    {
     "data": {
      "text/plain": [
       "127.15752594236561"
      ]
     },
     "execution_count": 139,
     "metadata": {},
     "output_type": "execute_result"
    }
   ],
   "source": [
    "opnorm1(A)"
   ]
  },
  {
   "cell_type": "code",
   "execution_count": 140,
   "metadata": {},
   "outputs": [
    {
     "data": {
      "text/plain": [
       "127.15752594236561"
      ]
     },
     "execution_count": 140,
     "metadata": {},
     "output_type": "execute_result"
    }
   ],
   "source": [
    "opnorm2(A)"
   ]
  },
  {
   "cell_type": "code",
   "execution_count": 141,
   "metadata": {},
   "outputs": [
    {
     "data": {
      "text/plain": [
       "127.15752594236561"
      ]
     },
     "execution_count": 141,
     "metadata": {},
     "output_type": "execute_result"
    }
   ],
   "source": [
    "opnorm2b(A)"
   ]
  },
  {
   "cell_type": "code",
   "execution_count": 142,
   "metadata": {},
   "outputs": [
    {
     "name": "stdout",
     "output_type": "stream",
     "text": [
      "_opnorm_inf_a(A) = 127.15752594236561\n",
      "_opnorm_inf_b(A) = 127.15752594236561\n",
      "_opnorm_inf_c(A) = 127.15752594236561\n",
      "_opnorm_inf_d(A) = 127.15752594236561\n",
      "_opnorm_inf_e(A) = 127.15752594236561\n",
      "_opnorm_inf_f(A) = 127.15752594236561\n"
     ]
    },
    {
     "data": {
      "text/plain": [
       "127.15752594236561"
      ]
     },
     "execution_count": 142,
     "metadata": {},
     "output_type": "execute_result"
    }
   ],
   "source": [
    "@show _opnorm_inf_a(A)\n",
    "@show _opnorm_inf_b(A)\n",
    "@show _opnorm_inf_c(A)\n",
    "@show _opnorm_inf_d(A)\n",
    "@show _opnorm_inf_e(A)\n",
    "@show _opnorm_inf_f(A)"
   ]
  },
  {
   "cell_type": "code",
   "execution_count": 143,
   "metadata": {},
   "outputs": [
    {
     "name": "stdout",
     "output_type": "stream",
     "text": [
      "  26.181 μs (8 allocations: 234.64 KiB)\n"
     ]
    },
    {
     "data": {
      "text/plain": [
       "127.15752594236561"
      ]
     },
     "execution_count": 143,
     "metadata": {},
     "output_type": "execute_result"
    }
   ],
   "source": [
    "@btime opnorm1($A)"
   ]
  },
  {
   "cell_type": "code",
   "execution_count": 144,
   "metadata": {},
   "outputs": [
    {
     "name": "stdout",
     "output_type": "stream",
     "text": [
      "  26.080 μs (8 allocations: 234.64 KiB)\n"
     ]
    },
    {
     "data": {
      "text/plain": [
       "127.15752594236561"
      ]
     },
     "execution_count": 144,
     "metadata": {},
     "output_type": "execute_result"
    }
   ],
   "source": [
    "@btime opnorm2($A)"
   ]
  },
  {
   "cell_type": "code",
   "execution_count": 145,
   "metadata": {},
   "outputs": [
    {
     "name": "stdout",
     "output_type": "stream",
     "text": [
      "  33.279 μs (10 allocations: 312.84 KiB)\n"
     ]
    },
    {
     "data": {
      "text/plain": [
       "127.15752594236561"
      ]
     },
     "execution_count": 145,
     "metadata": {},
     "output_type": "execute_result"
    }
   ],
   "source": [
    "@btime opnorm2b($A)"
   ]
  },
  {
   "cell_type": "code",
   "execution_count": 146,
   "metadata": {},
   "outputs": [
    {
     "name": "stdout",
     "output_type": "stream",
     "text": [
      "  48.442 μs (0 allocations: 0 bytes)\n",
      "  18.663 μs (0 allocations: 0 bytes)\n",
      "  49.184 μs (1 allocation: 896 bytes)\n",
      "  20.629 μs (1 allocation: 896 bytes)\n",
      "  18.683 μs (0 allocations: 0 bytes)\n",
      "  50.652 μs (0 allocations: 0 bytes)\n"
     ]
    },
    {
     "data": {
      "text/plain": [
       "127.15752594236561"
      ]
     },
     "execution_count": 146,
     "metadata": {},
     "output_type": "execute_result"
    }
   ],
   "source": [
    "@btime _opnorm_inf_a($A)\n",
    "@btime _opnorm_inf_b($A)\n",
    "@btime _opnorm_inf_c($A)\n",
    "@btime _opnorm_inf_d($A)\n",
    "@btime _opnorm_inf_e($A) # fastest version\n",
    "@btime _opnorm_inf_f($A)"
   ]
  },
  {
   "cell_type": "code",
   "execution_count": 155,
   "metadata": {},
   "outputs": [
    {
     "name": "stdout",
     "output_type": "stream",
     "text": [
      "  18.817 μs (0 allocations: 0 bytes)\n"
     ]
    },
    {
     "data": {
      "text/plain": [
       "127.15752594236561"
      ]
     },
     "execution_count": 155,
     "metadata": {},
     "output_type": "execute_result"
    }
   ],
   "source": [
    "@btime _opnorm_inf_g($A)"
   ]
  },
  {
   "cell_type": "markdown",
   "metadata": {},
   "source": [
    "Result: `max(|inf(i)|, |sup(i)|) == max(-inf(i), sup(i))` for interval `i`"
   ]
  },
  {
   "cell_type": "code",
   "execution_count": 113,
   "metadata": {},
   "outputs": [
    {
     "data": {
      "text/plain": [
       "g (generic function with 1 method)"
      ]
     },
     "execution_count": 113,
     "metadata": {},
     "output_type": "execute_result"
    }
   ],
   "source": [
    "f(x) = max(abs(inf(x)), abs(sup(x)))\n",
    "g(x) = max(-inf(x), sup(x))"
   ]
  },
  {
   "cell_type": "code",
   "execution_count": 114,
   "metadata": {},
   "outputs": [],
   "source": [
    "x = [rand(IntervalMatrices.Interval) for _ in 1:1000];"
   ]
  },
  {
   "cell_type": "code",
   "execution_count": 115,
   "metadata": {},
   "outputs": [
    {
     "name": "stdout",
     "output_type": "stream",
     "text": [
      "  1.633 μs (1 allocation: 7.94 KiB)\n"
     ]
    }
   ],
   "source": [
    "@btime f.($x);"
   ]
  },
  {
   "cell_type": "code",
   "execution_count": 116,
   "metadata": {},
   "outputs": [
    {
     "name": "stdout",
     "output_type": "stream",
     "text": [
      "  1.019 μs (1 allocation: 7.94 KiB)\n"
     ]
    }
   ],
   "source": [
    "@btime g.($x);"
   ]
  },
  {
   "cell_type": "code",
   "execution_count": 147,
   "metadata": {},
   "outputs": [
    {
     "data": {
      "text/plain": [
       "28.461538461538456"
      ]
     },
     "execution_count": 147,
     "metadata": {},
     "output_type": "execute_result"
    }
   ],
   "source": [
    "(26 - 18.6)/26 * 100"
   ]
  },
  {
   "cell_type": "code",
   "execution_count": 149,
   "metadata": {},
   "outputs": [
    {
     "data": {
      "text/plain": [
       "0.38577594438716106"
      ]
     },
     "execution_count": 149,
     "metadata": {},
     "output_type": "execute_result"
    }
   ],
   "source": [
    "(26.181 - 26.080)/(26.181) * 100"
   ]
  },
  {
   "cell_type": "markdown",
   "metadata": {},
   "source": [
    "## Pull request"
   ]
  },
  {
   "cell_type": "code",
   "execution_count": 1,
   "metadata": {},
   "outputs": [
    {
     "name": "stderr",
     "output_type": "stream",
     "text": [
      "┌ Info: Recompiling stale cache file /home/mforets/.julia/compiled/v1.2/IntervalMatrices/VerWp.ji for IntervalMatrices [5c1f47dc-42dd-5697-8aaa-4d102d140ba9]\n",
      "└ @ Base loading.jl:1240\n"
     ]
    }
   ],
   "source": [
    "using Revise, IntervalMatrices, Test, BenchmarkTools"
   ]
  },
  {
   "cell_type": "code",
   "execution_count": 4,
   "metadata": {},
   "outputs": [
    {
     "data": {
      "text/plain": [
       "_opnorm_inf_e (generic function with 1 method)"
      ]
     },
     "execution_count": 4,
     "metadata": {},
     "output_type": "execute_result"
    }
   ],
   "source": [
    "# The operator norm in the infinity norm corresponds to the\n",
    "# maximum absolute value row-sum. Julia has column-major\n",
    "# ordering so for efficiency we iterate over the transpose of A.\n",
    "function _opnorm_inf_e(A::IntervalMatrix{N}) where {N}\n",
    "    m, n = size(A)\n",
    "    res = zero(N)\n",
    "    At = transpose(A)\n",
    "    @inbounds @simd for j in 1:m\n",
    "        acc = zero(N)\n",
    "        for i in 1:n\n",
    "            x = At[i, j]\n",
    "            acc += max(abs(inf(x)), abs(sup(x)))\n",
    "        end\n",
    "        if acc > res\n",
    "            res = acc\n",
    "        end\n",
    "    end\n",
    "    return res\n",
    "end"
   ]
  },
  {
   "cell_type": "code",
   "execution_count": 13,
   "metadata": {},
   "outputs": [
    {
     "data": {
      "text/plain": [
       "_opnorm_1_e_v2 (generic function with 1 method)"
      ]
     },
     "execution_count": 13,
     "metadata": {},
     "output_type": "execute_result"
    }
   ],
   "source": [
    "# The operator norm in the 1-norm corresponds to the\n",
    "# maximum absolute value column-sum.\n",
    "function _opnorm_1_e(A::IntervalMatrix{N}) where {N}\n",
    "    m, n = size(A)\n",
    "    res = zero(N)\n",
    "    @inbounds @simd for j in 1:m\n",
    "        acc = zero(N)\n",
    "        for i in 1:n\n",
    "            x = A[i, j]\n",
    "            acc += max(abs(inf(x)), abs(sup(x)))\n",
    "        end\n",
    "        if acc > res\n",
    "            res = acc\n",
    "        end\n",
    "    end\n",
    "    return res\n",
    "end\n",
    "\n",
    "function _opnorm_1_e_v2(A::IntervalMatrix{N}) where {N}\n",
    "    m, n = size(A)\n",
    "    res = zero(N)\n",
    "    @inbounds @simd for j in 1:m\n",
    "        acc = zero(N)\n",
    "        for i in 1:n\n",
    "            x = A[i, j]\n",
    "            acc += max(abs(inf(x)), abs(sup(x)))\n",
    "        end\n",
    "        (acc > res) && (res = acc)\n",
    "    end\n",
    "    return res\n",
    "end"
   ]
  },
  {
   "cell_type": "code",
   "execution_count": 2,
   "metadata": {},
   "outputs": [],
   "source": [
    "M = rand(IntervalMatrix, 100);"
   ]
  },
  {
   "cell_type": "code",
   "execution_count": 3,
   "metadata": {},
   "outputs": [
    {
     "data": {
      "text/plain": [
       "128.9128489817419"
      ]
     },
     "execution_count": 3,
     "metadata": {},
     "output_type": "execute_result"
    }
   ],
   "source": [
    "opnorm(M, Inf)"
   ]
  },
  {
   "cell_type": "code",
   "execution_count": 6,
   "metadata": {},
   "outputs": [
    {
     "name": "stdout",
     "output_type": "stream",
     "text": [
      "  23.559 μs (8 allocations: 234.64 KiB)\n"
     ]
    },
    {
     "data": {
      "text/plain": [
       "128.9128489817419"
      ]
     },
     "execution_count": 6,
     "metadata": {},
     "output_type": "execute_result"
    }
   ],
   "source": [
    "@btime opnorm($M, Inf)"
   ]
  },
  {
   "cell_type": "code",
   "execution_count": 7,
   "metadata": {},
   "outputs": [
    {
     "name": "stdout",
     "output_type": "stream",
     "text": [
      "  18.804 μs (0 allocations: 0 bytes)\n"
     ]
    },
    {
     "data": {
      "text/plain": [
       "128.9128489817419"
      ]
     },
     "execution_count": 7,
     "metadata": {},
     "output_type": "execute_result"
    }
   ],
   "source": [
    "@btime _opnorm_inf_e($M)"
   ]
  },
  {
   "cell_type": "code",
   "execution_count": 9,
   "metadata": {},
   "outputs": [
    {
     "name": "stdout",
     "output_type": "stream",
     "text": [
      "  24.221 μs (8 allocations: 234.64 KiB)\n"
     ]
    },
    {
     "data": {
      "text/plain": [
       "130.11834643451667"
      ]
     },
     "execution_count": 9,
     "metadata": {},
     "output_type": "execute_result"
    }
   ],
   "source": [
    "@btime opnorm($M, 1)"
   ]
  },
  {
   "cell_type": "code",
   "execution_count": 8,
   "metadata": {},
   "outputs": [
    {
     "name": "stdout",
     "output_type": "stream",
     "text": [
      "  17.752 μs (0 allocations: 0 bytes)\n"
     ]
    },
    {
     "data": {
      "text/plain": [
       "130.11834643451667"
      ]
     },
     "execution_count": 8,
     "metadata": {},
     "output_type": "execute_result"
    }
   ],
   "source": [
    "@btime _opnorm_1_e($M)"
   ]
  },
  {
   "cell_type": "code",
   "execution_count": 15,
   "metadata": {},
   "outputs": [
    {
     "name": "stdout",
     "output_type": "stream",
     "text": [
      "  17.887 μs (0 allocations: 0 bytes)\n"
     ]
    },
    {
     "data": {
      "text/plain": [
       "130.11834643451667"
      ]
     },
     "execution_count": 15,
     "metadata": {},
     "output_type": "execute_result"
    }
   ],
   "source": [
    "@btime _opnorm_1_e_v2($M)"
   ]
  },
  {
   "cell_type": "code",
   "execution_count": 29,
   "metadata": {},
   "outputs": [
    {
     "data": {
      "text/plain": [
       "3×3 IntervalMatrix{Float64,Interval{Float64},Array{Interval{Float64},2}}:\n",
       " [-0.584893, -0.246486]  [-0.101462, 0.981223]  [-1.23482, -0.0502436]\n",
       " [-0.144607, 0.789303]   [-0.271674, 1.92081]   [-0.989563, 0.0397058]\n",
       " [-1.43055, 1.16695]     [-1.253, -0.372325]     [0.488512, 0.695137] "
      ]
     },
     "execution_count": 29,
     "metadata": {},
     "output_type": "execute_result"
    }
   ],
   "source": [
    "M = rand(IntervalMatrix, 3)"
   ]
  },
  {
   "cell_type": "code",
   "execution_count": 32,
   "metadata": {},
   "outputs": [
    {
     "name": "stdout",
     "output_type": "stream",
     "text": [
      "  21.029 ns (0 allocations: 0 bytes)\n"
     ]
    },
    {
     "data": {
      "text/plain": [
       "4.155029632241096"
      ]
     },
     "execution_count": 32,
     "metadata": {},
     "output_type": "execute_result"
    }
   ],
   "source": [
    "@btime opnorm($M, 1)"
   ]
  },
  {
   "cell_type": "code",
   "execution_count": null,
   "metadata": {},
   "outputs": [],
   "source": [
    "using LinearAlgebra"
   ]
  },
  {
   "cell_type": "code",
   "execution_count": 30,
   "metadata": {},
   "outputs": [
    {
     "name": "stdout",
     "output_type": "stream",
     "text": [
      "  160.303 ns (6 allocations: 528 bytes)\n"
     ]
    },
    {
     "data": {
      "text/plain": [
       "4.155029632241096"
      ]
     },
     "execution_count": 30,
     "metadata": {},
     "output_type": "execute_result"
    }
   ],
   "source": [
    "@btime opnorm1($M, 1)"
   ]
  },
  {
   "cell_type": "code",
   "execution_count": 31,
   "metadata": {},
   "outputs": [
    {
     "name": "stdout",
     "output_type": "stream",
     "text": [
      "  120.207 ns (5 allocations: 512 bytes)\n"
     ]
    },
    {
     "data": {
      "text/plain": [
       "4.155029632241096"
      ]
     },
     "execution_count": 31,
     "metadata": {},
     "output_type": "execute_result"
    }
   ],
   "source": [
    "@btime opnorm2($M, 1)"
   ]
  },
  {
   "cell_type": "markdown",
   "metadata": {},
   "source": [
    "## See unit_halfspace.jl"
   ]
  },
  {
   "cell_type": "markdown",
   "metadata": {},
   "source": [
    "The following example produces an unexpected output (the commented test). I think that the result of the elimination should be `y = 0, x <= 0`."
   ]
  },
  {
   "cell_type": "code",
   "execution_count": 6,
   "metadata": {},
   "outputs": [
    {
     "data": {
      "text/plain": [
       "HalfSpace{Float64,Array{Float64,1}}([1.0, -1.0], 0.0)"
      ]
     },
     "execution_count": 6,
     "metadata": {},
     "output_type": "execute_result"
    }
   ],
   "source": [
    "using LazySets # mforets/refactor_linear_map_hrep\n",
    "using Polyhedra, CDDLib\n",
    "\n",
    "N = Float64\n",
    "H = HalfSpace(N[1, -1], N(0)) # x <= y"
   ]
  },
  {
   "cell_type": "code",
   "execution_count": 7,
   "metadata": {},
   "outputs": [
    {
     "data": {
      "text/plain": [
       "2×2 Array{Float64,2}:\n",
       " 1.0  0.0\n",
       " 0.0  0.0"
      ]
     },
     "execution_count": 7,
     "metadata": {},
     "output_type": "execute_result"
    }
   ],
   "source": [
    "M = N[1 0; 0 0] # project variable y -> 0, and identity on x, x -> x"
   ]
  },
  {
   "cell_type": "code",
   "execution_count": 9,
   "metadata": {},
   "outputs": [
    {
     "data": {
      "text/plain": [
       "2-element Array{HalfSpace{Float64,VN} where VN<:AbstractArray{Float64,1},1}:\n",
       " HalfSpace{Float64,Array{Float64,1}}([-0.0, -1.0], 0.0)\n",
       " HalfSpace{Float64,Array{Float64,1}}([0.0, 1.0], -0.0) "
      ]
     },
     "execution_count": 9,
     "metadata": {},
     "output_type": "execute_result"
    }
   ],
   "source": [
    "linear_map(M, H).constraints # this is y = 0, and x ∈ [-inf, inf]"
   ]
  },
  {
   "cell_type": "markdown",
   "metadata": {},
   "source": [
    "## Interval Matrix"
   ]
  },
  {
   "cell_type": "code",
   "execution_count": null,
   "metadata": {},
   "outputs": [],
   "source": []
  },
  {
   "cell_type": "markdown",
   "metadata": {},
   "source": [
    "## Elimination can't handle data with different array types"
   ]
  },
  {
   "cell_type": "code",
   "execution_count": null,
   "metadata": {},
   "outputs": [],
   "source": []
  },
  {
   "cell_type": "code",
   "execution_count": null,
   "metadata": {},
   "outputs": [],
   "source": []
  },
  {
   "cell_type": "markdown",
   "metadata": {},
   "source": [
    "# NVerif"
   ]
  },
  {
   "cell_type": "code",
   "execution_count": 7,
   "metadata": {},
   "outputs": [],
   "source": [
    "using Revise, LazySets, BenchmarkTools"
   ]
  },
  {
   "cell_type": "code",
   "execution_count": 8,
   "metadata": {},
   "outputs": [],
   "source": [
    "h = rand(Hyperrectangle, dim=5);\n",
    "p = convert(HPolytope, h);\n",
    "v = rand(5);"
   ]
  },
  {
   "cell_type": "code",
   "execution_count": 21,
   "metadata": {},
   "outputs": [
    {
     "name": "stdout",
     "output_type": "stream",
     "text": [
      "  1.283 μs (46 allocations: 2.06 KiB)\n"
     ]
    }
   ],
   "source": [
    "@btime y = translate($p, $v);"
   ]
  },
  {
   "cell_type": "code",
   "execution_count": 18,
   "metadata": {},
   "outputs": [
    {
     "data": {
      "text/plain": [
       "HPolytope{Float64}(HalfSpace{Float64,VN} where VN<:AbstractArray{Float64,1}[HalfSpace{Float64,Array{Float64,1}}([1.0, 0.0, 0.0, 0.0, 0.0], 1.0925021749226569), HalfSpace{Float64,Array{Float64,1}}([0.0, 1.0, 0.0, 0.0, 0.0], 1.085247820435545), HalfSpace{Float64,Array{Float64,1}}([0.0, 0.0, 1.0, 0.0, 0.0], 0.2378793282299262), HalfSpace{Float64,Array{Float64,1}}([0.0, 0.0, 0.0, 1.0, 0.0], 3.758010061500308), HalfSpace{Float64,Array{Float64,1}}([0.0, 0.0, 0.0, 0.0, 1.0], 1.3046230810839647), HalfSpace{Float64,Array{Float64,1}}([-1.0, 0.0, 0.0, 0.0, 0.0], -0.5384077723303445), HalfSpace{Float64,Array{Float64,1}}([0.0, -1.0, 0.0, 0.0, 0.0], -0.718445792008757), HalfSpace{Float64,Array{Float64,1}}([0.0, 0.0, -1.0, 0.0, 0.0], 0.7899252186764041), HalfSpace{Float64,Array{Float64,1}}([0.0, 0.0, 0.0, -1.0, 0.0], -1.7473476724551364), HalfSpace{Float64,Array{Float64,1}}([0.0, 0.0, 0.0, 0.0, -1.0], 0.9304067235918292)])"
      ]
     },
     "execution_count": 18,
     "metadata": {},
     "output_type": "execute_result"
    }
   ],
   "source": [
    "y = translate(p, v);\n",
    "y"
   ]
  },
  {
   "cell_type": "code",
   "execution_count": 20,
   "metadata": {},
   "outputs": [
    {
     "data": {
      "text/html": [
       "translate(P::<b>PT</b>, v::<b>AbstractArray{N,1}</b>)<i> where {N<:Real, PT<:Union{HPolyhedron{N}, HPolytope{N}}}</i> in LazySets at <a href=\"https://github.com/JuliaReach/LazySets.jl/tree/e0407aa3656ed675a2f3062dd64d808a1928c188//src/Sets/HPolyhedron.jl#L415\" target=\"_blank\">/home/mforets/.julia/dev/LazySets/src/Sets/HPolyhedron.jl:415</a>"
      ],
      "text/plain": [
       "translate(P::PT, v::AbstractArray{N,1}) where {N<:Real, PT<:Union{HPolyhedron{N}, HPolytope{N}}} in LazySets at /home/mforets/.julia/dev/LazySets/src/Sets/HPolyhedron.jl:415"
      ]
     },
     "execution_count": 20,
     "metadata": {},
     "output_type": "execute_result"
    }
   ],
   "source": [
    "@which translate(p, v)"
   ]
  },
  {
   "cell_type": "code",
   "execution_count": 16,
   "metadata": {},
   "outputs": [
    {
     "data": {
      "text/plain": [
       "translate0 (generic function with 1 method)"
      ]
     },
     "execution_count": 16,
     "metadata": {},
     "output_type": "execute_result"
    }
   ],
   "source": [
    "# from neural verif\n",
    "function translate0(v::Vector, H::HPolytope)\n",
    "    # translate each halfpsace according to:\n",
    "    # a⋅(x-v) ≤ b  ⟶  a⋅x ≤ b+a⋅v\n",
    "    C, d = tosimplehrep(H)\n",
    "    return HPolytope(C, d+C*v)\n",
    "end"
   ]
  },
  {
   "cell_type": "code",
   "execution_count": 19,
   "metadata": {},
   "outputs": [
    {
     "name": "stdout",
     "output_type": "stream",
     "text": [
      "  1.354 μs (60 allocations: 3.56 KiB)\n"
     ]
    },
    {
     "data": {
      "text/plain": [
       "HPolytope{Float64}(HalfSpace{Float64,VN} where VN<:AbstractArray{Float64,1}[HalfSpace{Float64,Array{Float64,1}}([1.0, 0.0, 0.0, 0.0, 0.0], 1.0925021749226569), HalfSpace{Float64,Array{Float64,1}}([0.0, 1.0, 0.0, 0.0, 0.0], 1.085247820435545), HalfSpace{Float64,Array{Float64,1}}([0.0, 0.0, 1.0, 0.0, 0.0], 0.2378793282299262), HalfSpace{Float64,Array{Float64,1}}([0.0, 0.0, 0.0, 1.0, 0.0], 3.758010061500308), HalfSpace{Float64,Array{Float64,1}}([0.0, 0.0, 0.0, 0.0, 1.0], 1.3046230810839647), HalfSpace{Float64,Array{Float64,1}}([-1.0, 0.0, 0.0, 0.0, 0.0], -0.5384077723303445), HalfSpace{Float64,Array{Float64,1}}([0.0, -1.0, 0.0, 0.0, 0.0], -0.718445792008757), HalfSpace{Float64,Array{Float64,1}}([0.0, 0.0, -1.0, 0.0, 0.0], 0.7899252186764041), HalfSpace{Float64,Array{Float64,1}}([0.0, 0.0, 0.0, -1.0, 0.0], -1.7473476724551364), HalfSpace{Float64,Array{Float64,1}}([0.0, 0.0, 0.0, 0.0, -1.0], 0.9304067235918292)])"
      ]
     },
     "execution_count": 19,
     "metadata": {},
     "output_type": "execute_result"
    }
   ],
   "source": [
    "@btime translate0($v, $p)"
   ]
  },
  {
   "cell_type": "code",
   "execution_count": 22,
   "metadata": {},
   "outputs": [
    {
     "data": {
      "text/plain": [
       "Hyperrectangle{Float64,Array{Float64,1},Array{Float64,1}}([0.5880491987203353, 0.8931753898170605, -0.5683002100948344, 1.7942350864249061, -0.07870194545014124], [0.2770472012961561, 0.18340101421339394, 0.5139022734531652, 1.0053311945225858, 1.117514902337897])"
      ]
     },
     "execution_count": 22,
     "metadata": {},
     "output_type": "execute_result"
    }
   ],
   "source": [
    "h"
   ]
  },
  {
   "cell_type": "code",
   "execution_count": 24,
   "metadata": {},
   "outputs": [
    {
     "data": {
      "text/plain": [
       "translate0 (generic function with 2 methods)"
      ]
     },
     "execution_count": 24,
     "metadata": {},
     "output_type": "execute_result"
    }
   ],
   "source": [
    "translate0(v::Vector, H::Hyperrectangle)  = Hyperrectangle(H.center .+ v, H.radius)"
   ]
  },
  {
   "cell_type": "code",
   "execution_count": 26,
   "metadata": {},
   "outputs": [
    {
     "name": "stdout",
     "output_type": "stream",
     "text": [
      "  40.763 ns (2 allocations: 160 bytes)\n"
     ]
    },
    {
     "data": {
      "text/plain": [
       "Hyperrectangle{Float64,Array{Float64,1},Array{Float64,1}}([0.8154549736265007, 0.901846806222151, -0.276022945223239, 2.752678866977722, 0.18710817874606772], [0.2770472012961561, 0.18340101421339394, 0.5139022734531652, 1.0053311945225858, 1.117514902337897])"
      ]
     },
     "execution_count": 26,
     "metadata": {},
     "output_type": "execute_result"
    }
   ],
   "source": [
    "@btime translate0($v, $h)"
   ]
  },
  {
   "cell_type": "code",
   "execution_count": 32,
   "metadata": {},
   "outputs": [
    {
     "name": "stdout",
     "output_type": "stream",
     "text": [
      "  33.859 ns (2 allocations: 160 bytes)\n"
     ]
    },
    {
     "data": {
      "text/plain": [
       "Hyperrectangle{Float64,Array{Float64,1},Array{Float64,1}}([0.8154549736265007, 0.901846806222151, -0.276022945223239, 2.752678866977722, 0.18710817874606772], [0.2770472012961561, 0.18340101421339394, 0.5139022734531652, 1.0053311945225858, 1.117514902337897])"
      ]
     },
     "execution_count": 32,
     "metadata": {},
     "output_type": "execute_result"
    }
   ],
   "source": [
    "@btime translate($h, $v)"
   ]
  },
  {
   "cell_type": "code",
   "execution_count": null,
   "metadata": {},
   "outputs": [],
   "source": [
    "#=\n",
    "# translate(v::Vector, H::Hyperrectangle)  = Hyperrectangle(H.center .+ v, H.radius)\n",
    "translate(v::Vector, V::AbstractPolytope) = tohrep(VPolytope([x+v for x in vertices_list(V)]))\n",
    "=#"
   ]
  },
  {
   "cell_type": "markdown",
   "metadata": {},
   "source": [
    "Both implementations are good:\n",
    "\n",
    "```julia\n",
    "function affine_map(layer::Layer, input::AbstractPolytope)\n",
    "    W, b = layer.weights, layer.bias\n",
    "    P = linear_map(W, input, algorithm=\"vrep\")\n",
    "    return tohrep(translate(P, b))\n",
    "end\n",
    "```\n",
    "\n",
    "```julia\n",
    "function affine_map(layer::Layer, input::AbstractPolytope)\n",
    "    W, b = layer.weights, layer.bias\n",
    "    P = affine_map(W, tovrep(input), b)\n",
    "    return tohrep(P)\n",
    "end\n",
    "```"
   ]
  },
  {
   "cell_type": "markdown",
   "metadata": {},
   "source": [
    "### Activating/deactivating assertions"
   ]
  },
  {
   "cell_type": "markdown",
   "metadata": {},
   "source": [
    "```julia\n",
    "using NeuralVerification, LazySets, GLPKMathProgInterface\n",
    "using Test\n",
    "\n",
    "# comment to re-enable assertion checks\n",
    "LazySets.deactivate_assertions()\n",
    "LazySets.Assertions.deactivate_assertions(NeuralVerification)\n",
    "```"
   ]
  },
  {
   "cell_type": "markdown",
   "metadata": {},
   "source": [
    "```julia\n",
    "[mforets@localhost LazySets]$ git diff\n",
    "diff --git a/src/Interfaces/AbstractPolyhedron_functions.jl b/src/Interfaces/AbstractPolyhedron_functions.jl\n",
    "index 9303f1d6..051f726d 100644\n",
    "--- a/src/Interfaces/AbstractPolyhedron_functions.jl\n",
    "+++ b/src/Interfaces/AbstractPolyhedron_functions.jl\n",
    "@@ -724,9 +724,15 @@ function _linear_map_hrep(M::AbstractMatrix{N}, P::AbstractPolyhedron{N},\n",
    "     method = algo.method\n",
    "\n",
    "\n",
    "     # extend the polytope storing the y variables first\n",
    "-    Ax_leq_b = [Polyhedra.HalfSpace(vcat(zeros(N, m), c.a), c.b) for c in constraints_list(P)]\n",
    "-    y_eq_Mx = [Polyhedra.HyperPlane(vcat(-id_m[i, :], M[i, :]), zero(N)) for i in 1:m]\n",
    "-\n",
    "+    Ax_leq_b = [Polyhedra.HalfSpace(Vector(vcat(zeros(N, m), c.a)), c.b) for c in constraints_list(P)]\n",
    "+    y_eq_Mx = [Polyhedra.HyperPlane(Vector(vcat(-id_m[i, :], M[i, :])), zero(N)) for i in 1:m]\n",
    "+    println(\" = = enter = = \")\n",
    "+    @show typeof(M)\n",
    "+    @show typeof(P)\n",
    "+    @show typeof(P.constraints[1])\n",
    "+    @show typeof(Ax_leq_b)\n",
    "+    @show typeof(y_eq_Mx)\n",
    "+    println(\" = = end = =\")\n",
    "     Phrep = Polyhedra.hrep(y_eq_Mx, Ax_leq_b)\n",
    "     Phrep_cdd = polyhedron(Phrep, backend)\n",
    "     Peli_block = Polyhedra.eliminate(Phrep_cdd, (m+1):(m+n), method)\n",
    "```"
   ]
  },
  {
   "cell_type": "markdown",
   "metadata": {},
   "source": [
    "## Interval matrix power (cont)"
   ]
  },
  {
   "cell_type": "code",
   "execution_count": 1,
   "metadata": {},
   "outputs": [
    {
     "name": "stderr",
     "output_type": "stream",
     "text": [
      "┌ Info: Recompiling stale cache file /home/mforets/.julia/compiled/v1.2/IntervalMatrices/VerWp.ji for IntervalMatrices [5c1f47dc-42dd-5697-8aaa-4d102d140ba9]\n",
      "└ @ Base loading.jl:1240\n"
     ]
    }
   ],
   "source": [
    "using Revise, IntervalMatrices, Test, BenchmarkTools"
   ]
  },
  {
   "cell_type": "code",
   "execution_count": 23,
   "metadata": {},
   "outputs": [
    {
     "data": {
      "text/plain": [
       "2×2 IntervalMatrix{Float64,Interval{Float64},Array{Interval{Float64},2}}:\n",
       " [2, 2]  [0, 0]\n",
       " [0, 0]  [3, 3]"
      ]
     },
     "execution_count": 23,
     "metadata": {},
     "output_type": "execute_result"
    }
   ],
   "source": [
    "B = IntervalMatrix([2.0±0 0.0±0; 0.0±0 3.0±0])"
   ]
  },
  {
   "cell_type": "code",
   "execution_count": 24,
   "metadata": {},
   "outputs": [
    {
     "data": {
      "text/plain": [
       "IntervalMatrixPower{Float64}(Interval{Float64}[[2, 2] [0, 0]; [0, 0] [3, 3]], Interval{Float64}[[2, 2] [0, 0]; [0, 0] [3, 3]], 1)"
      ]
     },
     "execution_count": 24,
     "metadata": {},
     "output_type": "execute_result"
    }
   ],
   "source": [
    "p = IntervalMatrixPower(B)"
   ]
  },
  {
   "cell_type": "code",
   "execution_count": 25,
   "metadata": {},
   "outputs": [],
   "source": [
    "for i in 1:20\n",
    "    increment!(p)\n",
    "end"
   ]
  },
  {
   "cell_type": "code",
   "execution_count": 26,
   "metadata": {},
   "outputs": [
    {
     "data": {
      "text/plain": [
       "2×2 IntervalMatrix{Float64,Interval{Float64},Array{Interval{Float64},2}}:\n",
       "     [2.09715e+06, 2.09716e+06]  [0, 0]                        \n",
       " [0, 0]                              [1.04603e+10, 1.04604e+10]"
      ]
     },
     "execution_count": 26,
     "metadata": {},
     "output_type": "execute_result"
    }
   ],
   "source": [
    "get(p)"
   ]
  },
  {
   "cell_type": "code",
   "execution_count": null,
   "metadata": {},
   "outputs": [],
   "source": [
    "julia> \n",
    "2×2 IntervalMatrix{Float64,Interval{Float64},Array{Interval{Float64},2}}:\n",
    " [2, 2]  [0, 0]\n",
    " [0, 0]  [3, 3]\n",
    "\n",
    "julia> C = [2.0 0.0; 0.0 3.0]\n",
    "2×2 Array{Float64,2}:\n",
    " 2.0  0.0\n",
    " 0.0  3.0\n",
    "\n",
    "julia> \n",
    "2×2 IntervalMatrix{Float64,Interval{Float64},Array{Interval{Float64},2}}:\n",
    "  [1.89999, 2.10001]    [-0.100001, 0.100001]\n",
    " [-0.100001, 0.100001]   [2.89999, 3.10001]  "
   ]
  },
  {
   "cell_type": "code",
   "execution_count": 28,
   "metadata": {},
   "outputs": [
    {
     "data": {
      "text/plain": [
       "2×2 IntervalMatrix{Float64,Interval{Float64},Array{Interval{Float64},2}}:\n",
       "  [1.89999, 2.10001]    [-0.100001, 0.100001]\n",
       " [-0.100001, 0.100001]   [2.89999, 3.10001]  "
      ]
     },
     "execution_count": 28,
     "metadata": {},
     "output_type": "execute_result"
    }
   ],
   "source": [
    "D = IntervalMatrix([2.0±0.1 0.0±0.1; 0.0±0.1 3.0±0.1])"
   ]
  },
  {
   "cell_type": "code",
   "execution_count": 77,
   "metadata": {},
   "outputs": [
    {
     "data": {
      "text/plain": [
       "IntervalMatrixPower{Float64}(Interval{Float64}[[-0.988596, 0.666005] [-2.04443, -1.49919] [0.755732, 1.97913]; [-0.691819, 0.949111] [0.510271, 0.671536] [-0.272319, 2.33641]; [0.760882, 1.41149] [-1.79644, 1.18148] [-1.419, 1.22011]], Interval{Float64}[[-0.988596, 0.666005] [-2.04443, -1.49919] [0.755732, 1.97913]; [-0.691819, 0.949111] [0.510271, 0.671536] [-0.272319, 2.33641]; [0.760882, 1.41149] [-1.79644, 1.18148] [-1.419, 1.22011]], 1)"
      ]
     },
     "execution_count": 77,
     "metadata": {},
     "output_type": "execute_result"
    }
   ],
   "source": [
    "D = rand(IntervalMatrix, 3)\n",
    "p = IntervalMatrixPower(D)"
   ]
  },
  {
   "cell_type": "code",
   "execution_count": 78,
   "metadata": {},
   "outputs": [
    {
     "data": {
      "text/plain": [
       "3×3 IntervalMatrix{Float64,Interval{Float64},Array{Interval{Float64},2}}:\n",
       " [-16241.4, 30680.4]  [-29201.1, 33451.1]  [-46174.6, 33206.5]\n",
       " [-19628.1, 20965.8]  [-16634.1, 22917.2]  [-31827.9, 29752.1]\n",
       " [-27525.9, 19993.3]  [-30084.9, 26631.1]  [-19112.4, 41949]  "
      ]
     },
     "execution_count": 78,
     "metadata": {},
     "output_type": "execute_result"
    }
   ],
   "source": [
    "p = IntervalMatrixPower(D)\n",
    "for i in 1:7\n",
    "    increment!(p)\n",
    "end\n",
    "get(p)"
   ]
  },
  {
   "cell_type": "code",
   "execution_count": 79,
   "metadata": {},
   "outputs": [
    {
     "data": {
      "text/plain": [
       "8"
      ]
     },
     "execution_count": 79,
     "metadata": {},
     "output_type": "execute_result"
    }
   ],
   "source": [
    "index(p)"
   ]
  },
  {
   "cell_type": "code",
   "execution_count": 80,
   "metadata": {},
   "outputs": [
    {
     "data": {
      "text/plain": [
       "3×3 IntervalMatrix{Float64,Interval{Float64},Array{Interval{Float64},2}}:\n",
       " [-24855.9, 31784.1]  [-36509.1, 36418.1]  [-50520, 42480.4]         \n",
       " [-22140.7, 24141]    [-27870.2, 29220]           [-37055.6, 36207.4]\n",
       " [-28623.6, 25474.5]  [-34528.9, 32058.3]         [-37974.6, 45755.3]"
      ]
     },
     "execution_count": 80,
     "metadata": {},
     "output_type": "execute_result"
    }
   ],
   "source": [
    "D^8"
   ]
  },
  {
   "cell_type": "code",
   "execution_count": null,
   "metadata": {},
   "outputs": [],
   "source": [
    "julia> D^16\n",
    "2×2 IntervalMatrix{Float64,Interval{Float64},Array{Interval{Float64},2}}:\n",
    " [-664454, 874628]                          [-7.49338e+06, 7.49338e+06]\n",
    "               [-7.49338e+06, 7.49338e+06]   [2.32098e+07, 7.58084e+07]"
   ]
  },
  {
   "cell_type": "code",
   "execution_count": 81,
   "metadata": {},
   "outputs": [
    {
     "data": {
      "text/plain": [
       "3×3 IntervalMatrix{Float64,Interval{Float64},Array{Interval{Float64},2}}:\n",
       " [-0.554135, 0.104259]   [0.70749, 1.29983]     [-0.807291, 1.27384] \n",
       " [-1.65039, -0.909366]  [-0.211832, 0.0715744]  [-0.0695552, 1.42866]\n",
       " [-0.18047, 0.17225]    [-1.27171, 0.615581]    [-0.944456, 0.986335]"
      ]
     },
     "execution_count": 81,
     "metadata": {},
     "output_type": "execute_result"
    }
   ],
   "source": [
    "M = rand(IntervalMatrix, 3)"
   ]
  },
  {
   "cell_type": "code",
   "execution_count": 82,
   "metadata": {},
   "outputs": [
    {
     "data": {
      "text/plain": [
       "3×3 IntervalMatrix{Float64,Interval{Float64},Array{Interval{Float64},2}}:\n",
       " [-2.90501, 6.19197]  [-7.48135, 3.01396]   [-9.82813, 6.9125] \n",
       " [-1.94722, 7.52009]  [-4.61229, 7.5766]   [-10.5825, 5.87088] \n",
       " [-4.48309, 3.68287]  [-4.64961, 6.0171]    [-6.18858, 7.48208]"
      ]
     },
     "execution_count": 82,
     "metadata": {},
     "output_type": "execute_result"
    }
   ],
   "source": [
    "square(M) * M"
   ]
  },
  {
   "cell_type": "code",
   "execution_count": 84,
   "metadata": {},
   "outputs": [
    {
     "data": {
      "text/plain": [
       "3×3 IntervalMatrix{Float64,Interval{Float64},Array{Interval{Float64},2}}:\n",
       " [-2.87263, 6.29718]  [-7.85806, 3.97288]  [-9.28589, 7.4433] \n",
       " [-2.03383, 7.42075]  [-4.61229, 7.5766]   [-8.88396, 7.05476]\n",
       " [-4.56732, 3.69517]  [-4.48972, 7.18176]  [-6.22096, 7.37686]"
      ]
     },
     "execution_count": 84,
     "metadata": {},
     "output_type": "execute_result"
    }
   ],
   "source": [
    "M * square(M)"
   ]
  },
  {
   "cell_type": "code",
   "execution_count": 85,
   "metadata": {},
   "outputs": [
    {
     "data": {
      "text/plain": [
       "3×3 IntervalMatrix{Float64,Interval{Float64},Array{Interval{Float64},2}}:\n",
       " [-2.9678, 6.27816]   [-7.95645, 3.01396]  [-10.1988, 7.26938]\n",
       " [-1.94722, 7.54511]  [-4.61337, 7.57981]  [-10.6042, 5.87088]\n",
       " [-4.62221, 3.92446]  [-4.66953, 7.21009]   [-7.16365, 8.2515]"
      ]
     },
     "execution_count": 85,
     "metadata": {},
     "output_type": "execute_result"
    }
   ],
   "source": [
    "(M*M)*M"
   ]
  },
  {
   "cell_type": "code",
   "execution_count": 86,
   "metadata": {},
   "outputs": [
    {
     "data": {
      "text/plain": [
       "3×3 IntervalMatrix{Float64,Interval{Float64},Array{Interval{Float64},2}}:\n",
       " [-2.87866, 6.3292]  [-7.92793, 3.97288]  [-10.6469, 7.4433]  \n",
       " [-2.05572, 7.5161]  [-4.66963, 7.57981]  [-10.734, 7.05476]  \n",
       " [-4.57727, 3.7056]  [-4.49905, 7.20104]   [-7.19655, 8.20046]"
      ]
     },
     "execution_count": 86,
     "metadata": {},
     "output_type": "execute_result"
    }
   ],
   "source": [
    "M^3"
   ]
  },
  {
   "cell_type": "markdown",
   "metadata": {},
   "source": [
    "## Transmission line"
   ]
  },
  {
   "cell_type": "code",
   "execution_count": 13,
   "metadata": {},
   "outputs": [
    {
     "data": {
      "text/plain": [
       "tline (generic function with 1 method)"
      ]
     },
     "execution_count": 13,
     "metadata": {},
     "output_type": "execute_result"
    }
   ],
   "source": [
    "using MathematicalSystems, LinearAlgebra, SparseArrays\n",
    "\n",
    "function tline(;η=2, R₀=1.00, Rd₀=10.0, L₀=1e-10, C₀=1e-13 * 4.00, scale=1e-9)\n",
    "    A₁₁ = zeros(η, η)\n",
    "    A₁₂ = Bidiagonal(fill(-1/C₀, η), fill(1/C₀, η-1), :U)\n",
    "    A₂₁ = Bidiagonal(fill(1/L₀, η), fill(-1/L₀, η-1), :L)\n",
    "    A₂₂ = Diagonal(vcat(-Rd₀/L₀, fill(-R₀/L₀, η-1)))\n",
    "    A  = [A₁₁ A₁₂; A₂₁ A₂₂] .* scale\n",
    "    return A\n",
    "end"
   ]
  },
  {
   "cell_type": "code",
   "execution_count": 18,
   "metadata": {},
   "outputs": [
    {
     "data": {
      "text/plain": [
       "4×4 SparseMatrixCSC{Float64,Int64} with 8 stored entries:\n",
       "  [3, 1]  =  10.0\n",
       "  [4, 1]  =  -10.0\n",
       "  [4, 2]  =  10.0\n",
       "  [1, 3]  =  -2500.0\n",
       "  [3, 3]  =  -100.0\n",
       "  [1, 4]  =  2500.0\n",
       "  [2, 4]  =  -2500.0\n",
       "  [4, 4]  =  -10.0"
      ]
     },
     "execution_count": 18,
     "metadata": {},
     "output_type": "execute_result"
    }
   ],
   "source": [
    "A = tline()"
   ]
  },
  {
   "cell_type": "code",
   "execution_count": 19,
   "metadata": {},
   "outputs": [],
   "source": [
    "using IntervalMatrices"
   ]
  },
  {
   "cell_type": "code",
   "execution_count": 23,
   "metadata": {},
   "outputs": [
    {
     "ename": "MethodError",
     "evalue": "MethodError: no method matching IntervalMatrix(::Array{Float64,2})\nClosest candidates are:\n  IntervalMatrix(::MT<:AbstractArray{T,2}, !Matched::MT<:AbstractArray{T,2}) where {T, MT<:AbstractArray{T,2}} at /home/mforets/.julia/dev/IntervalMatrices/src/matrix.jl:129\n  IntervalMatrix(!Matched::MT<:AbstractArray{IT<:Interval{T},2}) where {T, IT<:Interval{T}, MT<:AbstractArray{IT,2}} at /home/mforets/.julia/dev/IntervalMatrices/src/matrix.jl:71\n  IntervalMatrix(!Matched::UniformScaling{Interval{T}}, !Matched::Integer) where T at /home/mforets/.julia/dev/IntervalMatrices/src/matrix.jl:84\n  ...",
     "output_type": "error",
     "traceback": [
      "MethodError: no method matching IntervalMatrix(::Array{Float64,2})\nClosest candidates are:\n  IntervalMatrix(::MT<:AbstractArray{T,2}, !Matched::MT<:AbstractArray{T,2}) where {T, MT<:AbstractArray{T,2}} at /home/mforets/.julia/dev/IntervalMatrices/src/matrix.jl:129\n  IntervalMatrix(!Matched::MT<:AbstractArray{IT<:Interval{T},2}) where {T, IT<:Interval{T}, MT<:AbstractArray{IT,2}} at /home/mforets/.julia/dev/IntervalMatrices/src/matrix.jl:71\n  IntervalMatrix(!Matched::UniformScaling{Interval{T}}, !Matched::Integer) where T at /home/mforets/.julia/dev/IntervalMatrices/src/matrix.jl:84\n  ...",
      "",
      "Stacktrace:",
      " [1] top-level scope at In[23]:1"
     ]
    }
   ],
   "source": [
    "IntervalMatrix(Matrix(A))"
   ]
  },
  {
   "cell_type": "code",
   "execution_count": 37,
   "metadata": {},
   "outputs": [
    {
     "data": {
      "text/plain": [
       "4"
      ]
     },
     "execution_count": 37,
     "metadata": {},
     "output_type": "execute_result"
    }
   ],
   "source": [
    "# k = a^2 + b\n",
    "k = 13\n",
    "a = floor(Int, sqrt(k))\n",
    "b = k - a^2"
   ]
  },
  {
   "cell_type": "code",
   "execution_count": 38,
   "metadata": {},
   "outputs": [
    {
     "data": {
      "text/plain": [
       "3"
      ]
     },
     "execution_count": 38,
     "metadata": {},
     "output_type": "execute_result"
    }
   ],
   "source": [
    "a"
   ]
  },
  {
   "cell_type": "code",
   "execution_count": 39,
   "metadata": {},
   "outputs": [
    {
     "data": {
      "text/plain": [
       "4"
      ]
     },
     "execution_count": 39,
     "metadata": {},
     "output_type": "execute_result"
    }
   ],
   "source": [
    "b"
   ]
  },
  {
   "cell_type": "markdown",
   "metadata": {},
   "source": [
    "# MSys macros"
   ]
  },
  {
   "cell_type": "markdown",
   "metadata": {},
   "source": [
    "- https://github.com/JuliaReach/MathematicalSystems.jl/pull/155"
   ]
  },
  {
   "cell_type": "code",
   "execution_count": 1,
   "metadata": {},
   "outputs": [],
   "source": [
    "using Revise, MathematicalSystems"
   ]
  },
  {
   "cell_type": "code",
   "execution_count": 2,
   "metadata": {},
   "outputs": [],
   "source": [
    "A = rand(2, 2);\n",
    "B = rand(2, 1);"
   ]
  },
  {
   "cell_type": "code",
   "execution_count": 4,
   "metadata": {},
   "outputs": [
    {
     "ename": "ArgumentError",
     "evalue": "ArgumentError: input and noise variables have the same name `w`",
     "output_type": "error",
     "traceback": [
      "ArgumentError: input and noise variables have the same name `w`",
      "",
      "Stacktrace:",
      " [1] top-level scope at In[4]:1"
     ]
    }
   ],
   "source": [
    "@system(x⁺ = Ax + Bw + Dw, x ∈ X, w ∈ U1, w ∈ W1, noise=w, input=w)"
   ]
  },
  {
   "cell_type": "code",
   "execution_count": 14,
   "metadata": {},
   "outputs": [
    {
     "ename": "ArgumentError",
     "evalue": "ArgumentError: the entry (:A, :D) does not match a `MathematicalSystems.jl` structure",
     "output_type": "error",
     "traceback": [
      "ArgumentError: the entry (:A, :D) does not match a `MathematicalSystems.jl` structure",
      "",
      "Stacktrace:",
      " [1] top-level scope at In[14]:1"
     ]
    }
   ],
   "source": [
    "@system(x' = Ax + Bw, "
   ]
  },
  {
   "cell_type": "code",
   "execution_count": 10,
   "metadata": {},
   "outputs": [
    {
     "ename": "ArgumentError",
     "evalue": "ArgumentError: the entry (:A, :D) does not match a `MathematicalSystems.jl` structure",
     "output_type": "error",
     "traceback": [
      "ArgumentError: the entry (:A, :D) does not match a `MathematicalSystems.jl` structure",
      "",
      "Stacktrace:",
      " [1] top-level scope at In[10]:1"
     ]
    }
   ],
   "source": [
    "@system(x' = Ax + Bw)"
   ]
  },
  {
   "cell_type": "code",
   "execution_count": 15,
   "metadata": {},
   "outputs": [
    {
     "data": {
      "text/plain": [
       "LinearContinuousSystem{Float64,Array{Float64,2}}([0.9274312900638151 0.86384328799834; 0.8100434712797464 0.10382888327222162])"
      ]
     },
     "execution_count": 15,
     "metadata": {},
     "output_type": "execute_result"
    }
   ],
   "source": [
    "@system(u' = Au)"
   ]
  },
  {
   "cell_type": "code",
   "execution_count": 19,
   "metadata": {},
   "outputs": [
    {
     "data": {
      "text/plain": [
       "LinearControlContinuousSystem{Float64,Array{Float64,2},Array{Float64,2}}([0.9274312900638151 0.86384328799834; 0.8100434712797464 0.10382888327222162], [0.4692293797466649; 0.631866585230791])"
      ]
     },
     "execution_count": 19,
     "metadata": {},
     "output_type": "execute_result"
    }
   ],
   "source": [
    "@system(x' = Ax + Bu)"
   ]
  },
  {
   "cell_type": "code",
   "execution_count": 22,
   "metadata": {},
   "outputs": [
    {
     "data": {
      "text/plain": [
       "LinearControlContinuousSystem{Float64,Array{Float64,2},Array{Float64,2}}([0.9274312900638151 0.86384328799834; 0.8100434712797464 0.10382888327222162], [0.4692293797466649; 0.631866585230791])"
      ]
     },
     "execution_count": 22,
     "metadata": {},
     "output_type": "execute_result"
    }
   ],
   "source": [
    "@system(x' = Ax + Bw, input=w)"
   ]
  },
  {
   "cell_type": "code",
   "execution_count": 23,
   "metadata": {},
   "outputs": [
    {
     "data": {
      "text/plain": [
       "2×1 Array{Float64,2}:\n",
       " 0.06833206453281249\n",
       " 0.04503291267148146"
      ]
     },
     "execution_count": 23,
     "metadata": {},
     "output_type": "execute_result"
    }
   ],
   "source": [
    "D = rand(2, 1)"
   ]
  },
  {
   "cell_type": "code",
   "execution_count": 26,
   "metadata": {},
   "outputs": [
    {
     "ename": "ArgumentError",
     "evalue": "ArgumentError: the entry (:A, :B, :D) does not match a `MathematicalSystems.jl` structure",
     "output_type": "error",
     "traceback": [
      "ArgumentError: the entry (:A, :B, :D) does not match a `MathematicalSystems.jl` structure",
      "",
      "Stacktrace:",
      " [1] top-level scope at In[26]:1"
     ]
    }
   ],
   "source": [
    "@system(x' = Ax + Bu + Dw, input=u, noise=w)"
   ]
  },
  {
   "cell_type": "code",
   "execution_count": 46,
   "metadata": {},
   "outputs": [],
   "source": [
    "X = rand(2); U1 = rand(2); W1 = rand(2);"
   ]
  },
  {
   "cell_type": "code",
   "execution_count": 40,
   "metadata": {},
   "outputs": [
    {
     "ename": "LoadError",
     "evalue": "AssertionError: found more than one compatible system type",
     "output_type": "error",
     "traceback": [
      "AssertionError: found more than one compatible system type",
      "",
      "Stacktrace:",
      " [1] @system(::LineNumberNode, ::Module, ::Vararg{Any,N} where N) at /home/mforets/.julia/dev/MathematicalSystems/src/macros.jl:738"
     ]
    }
   ],
   "source": [
    "@system(x' = Ax + Bx, input=x)"
   ]
  },
  {
   "cell_type": "code",
   "execution_count": 36,
   "metadata": {},
   "outputs": [
    {
     "data": {
      "text/plain": [
       "2×2 Array{Float64,2}:\n",
       " 0.927431  0.863843\n",
       " 0.810043  0.103829"
      ]
     },
     "execution_count": 36,
     "metadata": {},
     "output_type": "execute_result"
    }
   ],
   "source": [
    "@system(x' = Ax + Bx, input=x)"
   ]
  },
  {
   "cell_type": "code",
   "execution_count": 37,
   "metadata": {},
   "outputs": [
    {
     "data": {
      "text/plain": [
       "2×1 Array{Float64,2}:\n",
       " 0.4692293797466649\n",
       " 0.631866585230791 "
      ]
     },
     "execution_count": 37,
     "metadata": {},
     "output_type": "execute_result"
    }
   ],
   "source": [
    "B"
   ]
  },
  {
   "cell_type": "markdown",
   "metadata": {},
   "source": [
    "## Extend @system for initial-value problems\n",
    "\n",
    "https://github.com/JuliaReach/MathematicalSystems.jl/issues/137"
   ]
  },
  {
   "cell_type": "code",
   "execution_count": 1,
   "metadata": {
    "scrolled": true
   },
   "outputs": [
    {
     "name": "stderr",
     "output_type": "stream",
     "text": [
      "┌ Info: Recompiling stale cache file /home/mforets/.julia/compiled/v1.2/MathematicalSystems/6oLdk.ji for MathematicalSystems [d14a8603-c872-5ed3-9ece-53e0e82e39da]\n",
      "└ @ Base loading.jl:1240\n"
     ]
    }
   ],
   "source": [
    "using Revise, MathematicalSystems, LazySets"
   ]
  },
  {
   "cell_type": "code",
   "execution_count": 2,
   "metadata": {},
   "outputs": [],
   "source": [
    "using MacroTools\n",
    "using MacroTools: @capture"
   ]
  },
  {
   "cell_type": "code",
   "execution_count": 3,
   "metadata": {},
   "outputs": [
    {
     "data": {
      "text/plain": [
       "true"
      ]
     },
     "execution_count": 3,
     "metadata": {},
     "output_type": "execute_result"
    }
   ],
   "source": [
    "ex = :(x(0) ∈ Interval(-1.0, 1.0))\n",
    "@capture(ex, x_(0) ∈ X0_)"
   ]
  },
  {
   "cell_type": "code",
   "execution_count": 4,
   "metadata": {},
   "outputs": [
    {
     "ename": "ArgumentError",
     "evalue": "ArgumentError: the initial state assignment, t(0), does not correspond to the state variable x",
     "output_type": "error",
     "traceback": [
      "ArgumentError: the initial state assignment, t(0), does not correspond to the state variable x",
      "",
      "Stacktrace:",
      " [1] top-level scope at In[4]:1"
     ]
    }
   ],
   "source": [
    "@system(x' = -x, t(0) ∈ Interval(-1.0, 1.0)) # OK"
   ]
  },
  {
   "cell_type": "code",
   "execution_count": 5,
   "metadata": {},
   "outputs": [
    {
     "data": {
      "text/plain": [
       "InitialValueProblem{LinearContinuousSystem{Int64,IdentityMultiple{Int64}},Interval{Float64,IntervalArithmetic.Interval{Float64}}}(LinearContinuousSystem{Int64,IdentityMultiple{Int64}}([-1]), Interval{Float64,IntervalArithmetic.Interval{Float64}}([-1, 1]))"
      ]
     },
     "execution_count": 5,
     "metadata": {},
     "output_type": "execute_result"
    }
   ],
   "source": [
    "@system(x' = -x, x(0) ∈ Interval(-1.0, 1.0))"
   ]
  },
  {
   "cell_type": "code",
   "execution_count": 65,
   "metadata": {},
   "outputs": [
    {
     "data": {
      "text/plain": [
       "\u001b[32m\u001b[1mTest Passed\u001b[22m\u001b[39m\n",
       "      Thrown: ArgumentError"
      ]
     },
     "execution_count": 65,
     "metadata": {},
     "output_type": "execute_result"
    }
   ],
   "source": [
    "# continuous ivp in floating-point\n",
    "s = IVP(LinearContinuousSystem(I(-1.0, 1)), Interval(-1, 1))\n",
    "@test @system(x' = -1.0x, x(0) ∈ Interval(-1, 1)) == s\n",
    "\n",
    "# similar for integers\n",
    "s = IVP(LinearDiscreteSystem(I(-1, 1)), [1])\n",
    "@test @system(x⁺ = -x, x(0) ∈ [1]) == s\n",
    "\n",
    "# initial state assignment doesn't match state variable\n",
    "@test_throws ArgumentError @system(x' = -x, t(0) ∈ Interval(-1.0, 1.0))"
   ]
  }
 ],
 "metadata": {
  "kernelspec": {
   "display_name": "Julia 1.2.0",
   "language": "julia",
   "name": "julia-1.2"
  },
  "language_info": {
   "file_extension": ".jl",
   "mimetype": "application/julia",
   "name": "julia",
   "version": "1.2.0"
  }
 },
 "nbformat": 4,
 "nbformat_minor": 2
}
