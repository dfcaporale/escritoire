{
 "cells": [
  {
   "cell_type": "markdown",
   "metadata": {},
   "source": [
    "## Faster opnorm for IntervalMatrix"
   ]
  },
  {
   "cell_type": "markdown",
   "metadata": {},
   "source": [
    "https://github.com/JuliaReach/IntervalMatrices.jl/pull/125"
   ]
  },
  {
   "cell_type": "code",
   "execution_count": 27,
   "metadata": {},
   "outputs": [],
   "source": [
    "using Revise, LazySets, IntervalMatrices, LinearAlgebra\n",
    "using BenchmarkTools"
   ]
  },
  {
   "cell_type": "code",
   "execution_count": 135,
   "metadata": {},
   "outputs": [
    {
     "data": {
      "text/plain": [
       "opnorm1 (generic function with 2 methods)"
      ]
     },
     "execution_count": 135,
     "metadata": {},
     "output_type": "execute_result"
    }
   ],
   "source": [
    "#   26.181 μs (8 allocations: 234.64 KiB)\n",
    "function opnorm1(A::IntervalMatrix, p::Real=Inf)\n",
    "    if p == Inf || p == 1\n",
    "        return LinearAlgebra.opnorm(max.(abs.(inf(A)), abs.(sup(A))), p)\n",
    "    else\n",
    "        error(\"the interval matrix norm for this value of p=$p is not implemented\")\n",
    "    end\n",
    "end"
   ]
  },
  {
   "cell_type": "code",
   "execution_count": 136,
   "metadata": {},
   "outputs": [
    {
     "data": {
      "text/plain": [
       "opnorm2b (generic function with 2 methods)"
      ]
     },
     "execution_count": 136,
     "metadata": {},
     "output_type": "execute_result"
    }
   ],
   "source": [
    "#   26.080 μs (8 allocations: 234.64 KiB)\n",
    "function opnorm2(A::IntervalMatrix, p::Real=Inf)\n",
    "    if p == Inf || p == 1\n",
    "        return LinearAlgebra.opnorm(max.((-).(inf(A)), sup(A)), p)\n",
    "    else\n",
    "        error(\"the interval matrix norm for this value of p=$p is not implemented\")\n",
    "    end\n",
    "end\n",
    "\n",
    "#   33.279 μs (10 allocations: 312.84 KiB)\n",
    "function opnorm2b(A::IntervalMatrix, p::Real=Inf)\n",
    "    if p == Inf || p == 1\n",
    "        return LinearAlgebra.opnorm(max.(-inf(A), sup(A)), p)\n",
    "    else\n",
    "        error(\"the interval matrix norm for this value of p=$p is not implemented\")\n",
    "    end\n",
    "end"
   ]
  },
  {
   "cell_type": "code",
   "execution_count": 137,
   "metadata": {},
   "outputs": [
    {
     "data": {
      "text/plain": [
       "_opnorm_inf_f (generic function with 1 method)"
      ]
     },
     "execution_count": 137,
     "metadata": {},
     "output_type": "execute_result"
    }
   ],
   "source": [
    "function opnorm3(A::IntervalMatrix, p::Real=Inf)\n",
    "    if p == Inf\n",
    "        return _opnorm_inf_a(A)\n",
    "    elseif p == 1\n",
    "        return _opnorm_1(A)\n",
    "    else\n",
    "        error(\"the interval matrix norm for this value of p=$p is not implemented\")\n",
    "    end\n",
    "end\n",
    "\n",
    "function _opnorm_1(A) end\n",
    "\n",
    "function _opnorm_inf_a(A::IntervalMatrix{N}) where {N}\n",
    "    res = zero(N)\n",
    "    m, n = size(A)\n",
    "    @inbounds @simd for i in 1:m\n",
    "        acc = zero(N)\n",
    "        for j in 1:m\n",
    "            x = A[i, j]\n",
    "            acc += max(-inf(x), sup(x))\n",
    "        end\n",
    "        if acc > res\n",
    "            res = acc\n",
    "        end\n",
    "    end\n",
    "    return res\n",
    "end\n",
    "\n",
    "function _opnorm_inf_b(A::IntervalMatrix{N}) where {N}\n",
    "    res = zero(N)\n",
    "    m, n = size(A)\n",
    "    @inbounds @simd for i in 1:m\n",
    "        acc = zero(N)\n",
    "        for j in 1:m\n",
    "            x = A[i, j]\n",
    "            acc += max(abs(inf(x)), abs(sup(x)))\n",
    "        end\n",
    "        if acc > res\n",
    "            res = acc\n",
    "        end\n",
    "    end\n",
    "    return res\n",
    "end\n",
    "\n",
    "function _opnorm_inf_c(A::IntervalMatrix{N}) where {N}\n",
    "    m, n = size(A)\n",
    "    acc = zeros(N, m)\n",
    "    @inbounds @simd for j in 1:m\n",
    "        for i in 1:n\n",
    "            x = A[i, j]\n",
    "            acc[i] += max(-inf(x), sup(x))\n",
    "        end\n",
    "    end\n",
    "    return maximum(acc)\n",
    "end\n",
    "\n",
    "function _opnorm_inf_d(A::IntervalMatrix{N}) where {N}\n",
    "    m, n = size(A)\n",
    "    acc = zeros(N, m)\n",
    "    @inbounds @simd for j in 1:m\n",
    "        for i in 1:n\n",
    "            x = A[i, j]\n",
    "            acc[i] += max(abs(inf(x)), abs(sup(x)))\n",
    "        end\n",
    "    end\n",
    "    return maximum(acc)\n",
    "end\n",
    "\n",
    "function _opnorm_inf_e(A::IntervalMatrix{N}) where {N}\n",
    "    m, n = size(A)\n",
    "    res = zero(N)\n",
    "    At = transpose(A)\n",
    "    @inbounds @simd for j in 1:m\n",
    "        acc = zero(N)\n",
    "        for i in 1:n\n",
    "            x = At[i, j]\n",
    "            acc += max(abs(inf(x)), abs(sup(x)))\n",
    "        end\n",
    "        if acc > res\n",
    "            res = acc\n",
    "        end\n",
    "    end\n",
    "    return res\n",
    "end\n",
    "\n",
    "function _opnorm_inf_f(A::IntervalMatrix{N}) where {N}\n",
    "    m, n = size(A)\n",
    "    res = zero(N)\n",
    "    At = transpose(A)\n",
    "    @inbounds @simd for j in 1:m\n",
    "        acc = zero(N)\n",
    "        for i in 1:n\n",
    "            x = At[i, j]\n",
    "            acc += max(-inf(x), sup(x))\n",
    "        end\n",
    "        if acc > res\n",
    "            res = acc\n",
    "        end\n",
    "    end\n",
    "    return res\n",
    "end\n",
    "\n",
    "#=\n",
    "Results:\n",
    "  48.442 μs (0 allocations: 0 bytes)\n",
    "  18.663 μs (0 allocations: 0 bytes)\n",
    "  49.184 μs (1 allocation: 896 bytes)\n",
    "  20.629 μs (1 allocation: 896 bytes)\n",
    "  18.683 μs (0 allocations: 0 bytes) # best is version e\n",
    "  50.652 μs (0 allocations: 0 bytes)\n",
    "=#"
   ]
  },
  {
   "cell_type": "code",
   "execution_count": 138,
   "metadata": {},
   "outputs": [],
   "source": [
    "A = rand(IntervalMatrix, 100);"
   ]
  },
  {
   "cell_type": "code",
   "execution_count": 139,
   "metadata": {},
   "outputs": [
    {
     "data": {
      "text/plain": [
       "127.15752594236561"
      ]
     },
     "execution_count": 139,
     "metadata": {},
     "output_type": "execute_result"
    }
   ],
   "source": [
    "opnorm1(A)"
   ]
  },
  {
   "cell_type": "code",
   "execution_count": 140,
   "metadata": {},
   "outputs": [
    {
     "data": {
      "text/plain": [
       "127.15752594236561"
      ]
     },
     "execution_count": 140,
     "metadata": {},
     "output_type": "execute_result"
    }
   ],
   "source": [
    "opnorm2(A)"
   ]
  },
  {
   "cell_type": "code",
   "execution_count": 141,
   "metadata": {},
   "outputs": [
    {
     "data": {
      "text/plain": [
       "127.15752594236561"
      ]
     },
     "execution_count": 141,
     "metadata": {},
     "output_type": "execute_result"
    }
   ],
   "source": [
    "opnorm2b(A)"
   ]
  },
  {
   "cell_type": "code",
   "execution_count": 142,
   "metadata": {},
   "outputs": [
    {
     "name": "stdout",
     "output_type": "stream",
     "text": [
      "_opnorm_inf_a(A) = 127.15752594236561\n",
      "_opnorm_inf_b(A) = 127.15752594236561\n",
      "_opnorm_inf_c(A) = 127.15752594236561\n",
      "_opnorm_inf_d(A) = 127.15752594236561\n",
      "_opnorm_inf_e(A) = 127.15752594236561\n",
      "_opnorm_inf_f(A) = 127.15752594236561\n"
     ]
    },
    {
     "data": {
      "text/plain": [
       "127.15752594236561"
      ]
     },
     "execution_count": 142,
     "metadata": {},
     "output_type": "execute_result"
    }
   ],
   "source": [
    "@show _opnorm_inf_a(A)\n",
    "@show _opnorm_inf_b(A)\n",
    "@show _opnorm_inf_c(A)\n",
    "@show _opnorm_inf_d(A)\n",
    "@show _opnorm_inf_e(A)\n",
    "@show _opnorm_inf_f(A)"
   ]
  },
  {
   "cell_type": "code",
   "execution_count": 143,
   "metadata": {},
   "outputs": [
    {
     "name": "stdout",
     "output_type": "stream",
     "text": [
      "  26.181 μs (8 allocations: 234.64 KiB)\n"
     ]
    },
    {
     "data": {
      "text/plain": [
       "127.15752594236561"
      ]
     },
     "execution_count": 143,
     "metadata": {},
     "output_type": "execute_result"
    }
   ],
   "source": [
    "@btime opnorm1($A)"
   ]
  },
  {
   "cell_type": "code",
   "execution_count": 144,
   "metadata": {},
   "outputs": [
    {
     "name": "stdout",
     "output_type": "stream",
     "text": [
      "  26.080 μs (8 allocations: 234.64 KiB)\n"
     ]
    },
    {
     "data": {
      "text/plain": [
       "127.15752594236561"
      ]
     },
     "execution_count": 144,
     "metadata": {},
     "output_type": "execute_result"
    }
   ],
   "source": [
    "@btime opnorm2($A)"
   ]
  },
  {
   "cell_type": "code",
   "execution_count": 145,
   "metadata": {},
   "outputs": [
    {
     "name": "stdout",
     "output_type": "stream",
     "text": [
      "  33.279 μs (10 allocations: 312.84 KiB)\n"
     ]
    },
    {
     "data": {
      "text/plain": [
       "127.15752594236561"
      ]
     },
     "execution_count": 145,
     "metadata": {},
     "output_type": "execute_result"
    }
   ],
   "source": [
    "@btime opnorm2b($A)"
   ]
  },
  {
   "cell_type": "code",
   "execution_count": 146,
   "metadata": {},
   "outputs": [
    {
     "name": "stdout",
     "output_type": "stream",
     "text": [
      "  48.442 μs (0 allocations: 0 bytes)\n",
      "  18.663 μs (0 allocations: 0 bytes)\n",
      "  49.184 μs (1 allocation: 896 bytes)\n",
      "  20.629 μs (1 allocation: 896 bytes)\n",
      "  18.683 μs (0 allocations: 0 bytes)\n",
      "  50.652 μs (0 allocations: 0 bytes)\n"
     ]
    },
    {
     "data": {
      "text/plain": [
       "127.15752594236561"
      ]
     },
     "execution_count": 146,
     "metadata": {},
     "output_type": "execute_result"
    }
   ],
   "source": [
    "@btime _opnorm_inf_a($A)\n",
    "@btime _opnorm_inf_b($A)\n",
    "@btime _opnorm_inf_c($A)\n",
    "@btime _opnorm_inf_d($A)\n",
    "@btime _opnorm_inf_e($A) # fastest version\n",
    "@btime _opnorm_inf_f($A)"
   ]
  },
  {
   "cell_type": "markdown",
   "metadata": {},
   "source": [
    "Result: `max(|inf(i)|, |sup(i)|) == max(-inf(i), sup(i))` for interval `i`"
   ]
  },
  {
   "cell_type": "code",
   "execution_count": 113,
   "metadata": {},
   "outputs": [
    {
     "data": {
      "text/plain": [
       "g (generic function with 1 method)"
      ]
     },
     "execution_count": 113,
     "metadata": {},
     "output_type": "execute_result"
    }
   ],
   "source": [
    "f(x) = max(abs(inf(x)), abs(sup(x)))\n",
    "g(x) = max(-inf(x), sup(x))"
   ]
  },
  {
   "cell_type": "code",
   "execution_count": 114,
   "metadata": {},
   "outputs": [],
   "source": [
    "x = [rand(IntervalMatrices.Interval) for _ in 1:1000];"
   ]
  },
  {
   "cell_type": "code",
   "execution_count": 115,
   "metadata": {},
   "outputs": [
    {
     "name": "stdout",
     "output_type": "stream",
     "text": [
      "  1.633 μs (1 allocation: 7.94 KiB)\n"
     ]
    }
   ],
   "source": [
    "@btime f.($x);"
   ]
  },
  {
   "cell_type": "code",
   "execution_count": 116,
   "metadata": {},
   "outputs": [
    {
     "name": "stdout",
     "output_type": "stream",
     "text": [
      "  1.019 μs (1 allocation: 7.94 KiB)\n"
     ]
    }
   ],
   "source": [
    "@btime g.($x);"
   ]
  },
  {
   "cell_type": "code",
   "execution_count": 147,
   "metadata": {},
   "outputs": [
    {
     "data": {
      "text/plain": [
       "28.461538461538456"
      ]
     },
     "execution_count": 147,
     "metadata": {},
     "output_type": "execute_result"
    }
   ],
   "source": [
    "(26 - 18.6)/26 * 100"
   ]
  },
  {
   "cell_type": "code",
   "execution_count": 149,
   "metadata": {},
   "outputs": [
    {
     "data": {
      "text/plain": [
       "0.38577594438716106"
      ]
     },
     "execution_count": 149,
     "metadata": {},
     "output_type": "execute_result"
    }
   ],
   "source": [
    "(26.181 - 26.080)/(26.181) * 100"
   ]
  },
  {
   "cell_type": "code",
   "execution_count": null,
   "metadata": {},
   "outputs": [],
   "source": []
  }
 ],
 "metadata": {
  "kernelspec": {
   "display_name": "Julia 1.2.0",
   "language": "julia",
   "name": "julia-1.2"
  },
  "language_info": {
   "file_extension": ".jl",
   "mimetype": "application/julia",
   "name": "julia",
   "version": "1.2.0"
  }
 },
 "nbformat": 4,
 "nbformat_minor": 2
}
