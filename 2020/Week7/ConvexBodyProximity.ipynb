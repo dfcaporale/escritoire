{
 "cells": [
  {
   "cell_type": "code",
   "execution_count": 4,
   "metadata": {},
   "outputs": [],
   "source": [
    "using Revise, LazySets, ConvexBodyProximityQueries, StaticArrays, Plots, BenchmarkTools, GeometryTypes"
   ]
  },
  {
   "cell_type": "markdown",
   "metadata": {},
   "source": [
    "From their README:\n",
    "\n",
    "If you want to use your custom convex objects, you can do so by extending the support function as:\n",
    "        \n",
    "```julia\n",
    "import ConvexBodyProximityQueries.support\n",
    "\n",
    "function ConvexBodyProximityQueries.support(obj::MyFancyShape, dir::SVector{N}) where {N}\n",
    "  # do something\n",
    "  return supporting_point::SVector{N}\n",
    "end\n",
    "```"
   ]
  },
  {
   "cell_type": "code",
   "execution_count": 5,
   "metadata": {},
   "outputs": [],
   "source": [
    "import ConvexBodyProximityQueries.support\n",
    "using LazySets\n",
    "\n",
    "function ConvexBodyProximityQueries.support(obj::LazySet{N}, dir::SVector{D, N}) where {D, N}\n",
    "    return LazySets.support_vector(dir, obj) |> SVector{D, N}\n",
    "end"
   ]
  },
  {
   "cell_type": "markdown",
   "metadata": {},
   "source": [
    "## Polygons in vertex representation"
   ]
  },
  {
   "cell_type": "markdown",
   "metadata": {},
   "source": [
    "### Large number of vertices"
   ]
  },
  {
   "cell_type": "code",
   "execution_count": 57,
   "metadata": {},
   "outputs": [
    {
     "data": {
      "text/plain": [
       "2-element SArray{Tuple{2},Float64,1,2} with indices SOneTo(2):\n",
       " 0.2107671636015256\n",
       " 0.2127510247989195"
      ]
     },
     "execution_count": 57,
     "metadata": {},
     "output_type": "execute_result"
    }
   ],
   "source": [
    "using StaticArrays\n",
    "\n",
    "polyA = @SMatrix rand(2, 8)\n",
    "polyB = @SMatrix(rand(2, 8)) .+ 1.5\n",
    "dir = @SVector(rand(2)) .- 0.5"
   ]
  },
  {
   "cell_type": "code",
   "execution_count": 58,
   "metadata": {},
   "outputs": [
    {
     "data": {
      "text/plain": [
       "([0.9771853591747877, 0.6794073433790953], [2.055333073672938, 1.5225231559224144])"
      ]
     },
     "execution_count": 58,
     "metadata": {},
     "output_type": "execute_result"
    }
   ],
   "source": [
    "closest_points(polyA, polyB, dir)"
   ]
  },
  {
   "cell_type": "code",
   "execution_count": 59,
   "metadata": {},
   "outputs": [
    {
     "name": "stdout",
     "output_type": "stream",
     "text": [
      "  149.463 ns (0 allocations: 0 bytes)\n",
      "  129.848 ns (0 allocations: 0 bytes)\n",
      "  124.271 ns (0 allocations: 0 bytes)\n",
      "  125.126 ns (0 allocations: 0 bytes)\n"
     ]
    },
    {
     "data": {
      "text/plain": [
       "false"
      ]
     },
     "execution_count": 59,
     "metadata": {},
     "output_type": "execute_result"
    }
   ],
   "source": [
    "@btime closest_points($polyA, $polyB, $dir)\n",
    "@btime minimum_distance($polyA, $polyB, $dir)\n",
    "@btime tolerance_verification($polyA, $polyB, $dir, $1.0)\n",
    "@btime collision_detection($polyA, $polyB, $dir)"
   ]
  },
  {
   "cell_type": "code",
   "execution_count": 60,
   "metadata": {},
   "outputs": [
    {
     "name": "stdout",
     "output_type": "stream",
     "text": [
      "  115.894 ns (0 allocations: 0 bytes)\n",
      "  93.653 ns (0 allocations: 0 bytes)\n",
      "  86.800 ns (0 allocations: 0 bytes)\n",
      "  85.332 ns (0 allocations: 0 bytes)\n"
     ]
    },
    {
     "data": {
      "text/plain": [
       "false"
      ]
     },
     "execution_count": 60,
     "metadata": {},
     "output_type": "execute_result"
    }
   ],
   "source": [
    "A = VPolygon([polyA[:, i] for i in 1:size(polyA, 2)])\n",
    "B = VPolygon([polyB[:, i] for i in 1:size(polyB, 2)])\n",
    "\n",
    "@btime closest_points($A, $B, $dir)\n",
    "@btime minimum_distance($A, $B, $dir)\n",
    "@btime tolerance_verification($A, $B, $dir, $1.0)\n",
    "@btime collision_detection($A, $B, $dir)"
   ]
  },
  {
   "cell_type": "code",
   "execution_count": 61,
   "metadata": {},
   "outputs": [
    {
     "data": {
      "text/plain": [
       "([0.9771853591747877, 0.6794073433790953], [2.055333073672938, 1.5225231559224144])"
      ]
     },
     "execution_count": 61,
     "metadata": {},
     "output_type": "execute_result"
    }
   ],
   "source": [
    "closest_points(A, B, dir)"
   ]
  },
  {
   "cell_type": "code",
   "execution_count": 81,
   "metadata": {},
   "outputs": [
    {
     "data": {
      "text/plain": [
       "HPolygon{Float64}(HalfSpace{Float64,VN} where VN<:AbstractArray{Float64,1}[HalfSpace{Float64,SArray{Tuple{2},Float64,1,2}}([0.5762311284312949, 0.00027556546356155565], 1.3814567698287792), HalfSpace{Float64,SArray{Tuple{2},Float64,1,2}}([-0.05095169360997476, 0.23561745420702884], 0.4564529157618334), HalfSpace{Float64,SArray{Tuple{2},Float64,1,2}}([-0.2136632693893432, 0.43081915307125773], 0.5742572095106495), HalfSpace{Float64,SArray{Tuple{2},Float64,1,2}}([-0.668302635987674, -0.3255434671437947], -1.8692319779539677), HalfSpace{Float64,SArray{Tuple{2},Float64,1,2}}([0.35668647055569713, -0.34116870559805346], 0.21367224551567943)])"
      ]
     },
     "execution_count": 81,
     "metadata": {},
     "output_type": "execute_result"
    }
   ],
   "source": [
    "Ah = tohrep(A)\n",
    "Ah = HPolygon([HalfSpace(SVector{2, Float64}(c.a), c.b) for c in constraints_list(Ah)])\n",
    "\n",
    "Bh = tohrep(B)\n",
    "Bh = HPolygon([HalfSpace(SVector{2, Float64}(c.a), c.b) for c in constraints_list(Bh)])"
   ]
  },
  {
   "cell_type": "code",
   "execution_count": 92,
   "metadata": {},
   "outputs": [
    {
     "data": {
      "text/plain": [
       "39-element Array{Type,1}:\n",
       " AffineMap              \n",
       " Ball1                  \n",
       " Ball2                  \n",
       " BallInf                \n",
       " Ballp                  \n",
       " Bloating               \n",
       " CachedMinkowskiSumArray\n",
       " CartesianProduct       \n",
       " CartesianProductArray  \n",
       " ConvexHull             \n",
       " ConvexHullArray        \n",
       " Ellipsoid              \n",
       " EmptySet               \n",
       " ⋮                      \n",
       " LinearMap              \n",
       " MinkowskiSum           \n",
       " MinkowskiSumArray      \n",
       " ResetMap               \n",
       " Singleton              \n",
       " SymmetricIntervalHull  \n",
       " Translation            \n",
       " Universe               \n",
       " VPolygon               \n",
       " VPolytope              \n",
       " ZeroSet                \n",
       " Zonotope               "
      ]
     },
     "execution_count": 92,
     "metadata": {},
     "output_type": "execute_result"
    }
   ],
   "source": [
    "subtypes(LazySet, true)"
   ]
  },
  {
   "cell_type": "code",
   "execution_count": 91,
   "metadata": {},
   "outputs": [
    {
     "name": "stdout",
     "output_type": "stream",
     "text": [
      "  366.406 ns (10 allocations: 384 bytes)\n"
     ]
    },
    {
     "data": {
      "text/plain": [
       "2-element SArray{Tuple{2},Float64,1,2} with indices SOneTo(2):\n",
       " 0.8506791949047251\n",
       " 0.8197542793966013"
      ]
     },
     "execution_count": 91,
     "metadata": {},
     "output_type": "execute_result"
    }
   ],
   "source": [
    "@btime σ($dir, $Ah, linear_search=true)"
   ]
  },
  {
   "cell_type": "code",
   "execution_count": 90,
   "metadata": {},
   "outputs": [
    {
     "name": "stdout",
     "output_type": "stream",
     "text": [
      "  493.387 ns (12 allocations: 448 bytes)\n"
     ]
    },
    {
     "data": {
      "text/plain": [
       "2-element SArray{Tuple{2},Float64,1,2} with indices SOneTo(2):\n",
       " 0.8506791949047251\n",
       " 0.8197542793966013"
      ]
     },
     "execution_count": 90,
     "metadata": {},
     "output_type": "execute_result"
    }
   ],
   "source": [
    "@btime σ($dir, $Ah, linear_search=false)"
   ]
  },
  {
   "cell_type": "code",
   "execution_count": 82,
   "metadata": {},
   "outputs": [
    {
     "name": "stdout",
     "output_type": "stream",
     "text": [
      "  6.716 μs (135 allocations: 5.69 KiB)\n",
      "  6.268 μs (127 allocations: 5.33 KiB)\n",
      "  6.197 μs (126 allocations: 5.30 KiB)\n",
      "  6.196 μs (125 allocations: 5.28 KiB)\n"
     ]
    },
    {
     "data": {
      "text/plain": [
       "false"
      ]
     },
     "execution_count": 82,
     "metadata": {},
     "output_type": "execute_result"
    }
   ],
   "source": [
    "@btime closest_points($Ah, $Bh, $dir)\n",
    "@btime minimum_distance($Ah, $Bh, $dir)\n",
    "@btime tolerance_verification($Ah, $Bh, $dir, $1.0)\n",
    "@btime collision_detection($Ah, $Bh, $dir)"
   ]
  },
  {
   "cell_type": "code",
   "execution_count": null,
   "metadata": {},
   "outputs": [],
   "source": []
  },
  {
   "cell_type": "code",
   "execution_count": null,
   "metadata": {},
   "outputs": [],
   "source": []
  },
  {
   "cell_type": "markdown",
   "metadata": {},
   "source": [
    "### Large number of vertices"
   ]
  },
  {
   "cell_type": "code",
   "execution_count": 16,
   "metadata": {},
   "outputs": [],
   "source": [
    "polyA = @SMatrix rand(2, 100)\n",
    "polyB = @SMatrix(rand(2, 100)) .+ 1.5\n",
    "dir = @SVector(rand(2)) .- 0.5;"
   ]
  },
  {
   "cell_type": "code",
   "execution_count": 17,
   "metadata": {},
   "outputs": [
    {
     "name": "stdout",
     "output_type": "stream",
     "text": [
      "  1.933 μs (0 allocations: 0 bytes)\n",
      "  1.932 μs (0 allocations: 0 bytes)\n",
      "  1.426 μs (0 allocations: 0 bytes)\n",
      "  1.421 μs (0 allocations: 0 bytes)\n"
     ]
    },
    {
     "data": {
      "text/plain": [
       "false"
      ]
     },
     "execution_count": 17,
     "metadata": {},
     "output_type": "execute_result"
    }
   ],
   "source": [
    "@btime closest_points($polyA, $polyB, $dir)\n",
    "@btime minimum_distance($polyA, $polyB, $dir)\n",
    "@btime tolerance_verification($polyA, $polyB, $dir, $1.0)\n",
    "@btime collision_detection($polyA, $polyB, $dir)"
   ]
  },
  {
   "cell_type": "code",
   "execution_count": 18,
   "metadata": {},
   "outputs": [
    {
     "name": "stdout",
     "output_type": "stream",
     "text": [
      "  367.424 ns (0 allocations: 0 bytes)\n",
      "  340.771 ns (0 allocations: 0 bytes)\n",
      "  240.108 ns (0 allocations: 0 bytes)\n",
      "  241.198 ns (0 allocations: 0 bytes)\n"
     ]
    },
    {
     "data": {
      "text/plain": [
       "false"
      ]
     },
     "execution_count": 18,
     "metadata": {},
     "output_type": "execute_result"
    }
   ],
   "source": [
    "A = VPolygon([polyA[:, i] for i in 1:size(polyA, 2)])\n",
    "B = VPolygon([polyB[:, i] for i in 1:size(polyB, 2)])\n",
    "\n",
    "@btime closest_points($A, $B, $dir)\n",
    "@btime minimum_distance($A, $B, $dir)\n",
    "@btime tolerance_verification($A, $B, $dir, $1.0)\n",
    "@btime collision_detection($A, $B, $dir)"
   ]
  },
  {
   "cell_type": "markdown",
   "metadata": {},
   "source": [
    "### Polygon in constraint representation"
   ]
  },
  {
   "cell_type": "code",
   "execution_count": 56,
   "metadata": {},
   "outputs": [
    {
     "ename": "MethodError",
     "evalue": "MethodError: no method matching tohrep(::Hyperrectangle{Float64,Array{Float64,1},Array{Float64,1}})\nClosest candidates are:\n  tohrep(!Matched::HPOLYGON<:AbstractHPolygon) where HPOLYGON<:AbstractHPolygon at /home/mforets/.julia/dev/LazySets/src/Interfaces/AbstractHPolygon.jl:81\n  tohrep(!Matched::Union{HPolyhedron{N<:Real}, HPolytope{N<:Real}}) where N<:Real at /home/mforets/.julia/dev/LazySets/src/Sets/HPolyhedron.jl:318\n  tohrep(!Matched::VPolygon{N<:Real,VN} where VN<:AbstractArray{N<:Real,1}) where N<:Real at /home/mforets/.julia/dev/LazySets/src/Sets/VPolygon.jl:170\n  ...",
     "output_type": "error",
     "traceback": [
      "MethodError: no method matching tohrep(::Hyperrectangle{Float64,Array{Float64,1},Array{Float64,1}})\nClosest candidates are:\n  tohrep(!Matched::HPOLYGON<:AbstractHPolygon) where HPOLYGON<:AbstractHPolygon at /home/mforets/.julia/dev/LazySets/src/Interfaces/AbstractHPolygon.jl:81\n  tohrep(!Matched::Union{HPolyhedron{N<:Real}, HPolytope{N<:Real}}) where N<:Real at /home/mforets/.julia/dev/LazySets/src/Sets/HPolyhedron.jl:318\n  tohrep(!Matched::VPolygon{N<:Real,VN} where VN<:AbstractArray{N<:Real,1}) where N<:Real at /home/mforets/.julia/dev/LazySets/src/Sets/VPolygon.jl:170\n  ...",
      "",
      "Stacktrace:",
      " [1] top-level scope at In[56]:1"
     ]
    }
   ],
   "source": [
    "tohrep(A)"
   ]
  },
  {
   "cell_type": "code",
   "execution_count": null,
   "metadata": {},
   "outputs": [],
   "source": []
  },
  {
   "cell_type": "markdown",
   "metadata": {},
   "source": [
    "# Using hyperrectangles"
   ]
  },
  {
   "cell_type": "code",
   "execution_count": 21,
   "metadata": {},
   "outputs": [],
   "source": [
    "import ConvexBodyProximityQueries.support\n",
    "using GeometryTypes: HyperSphere, HyperRectangle, HyperCube\n",
    "\n",
    "function ConvexBodyProximityQueries.support(sphere::HyperSphere{N, T}, dir::AbstractVector) where {N, T}\n",
    "    SVector{N}(sphere.center + sphere.r*normalize(dir, 2))\n",
    "end\n",
    "\n",
    "@generated function ConvexBodyProximityQueries.support(rect::HyperRectangle{N, T}, dir::AbstractVector) where {N, T}\n",
    "    exprs = Array{Expr}(undef, (N,))\n",
    "    for i = 1:N\n",
    "        exprs[i] = :(rect.widths[$i]*(dir[$i] ≥ 0.0 ? 1.0 : -1.0)/2.0 + rect.origin[$i])\n",
    "    end\n",
    "\n",
    "    return quote\n",
    "        Base.@_inline_meta\n",
    "        @inbounds elements = tuple($(exprs...))\n",
    "        @inbounds return SVector{N, T}(elements)\n",
    "    end\n",
    "end\n",
    "\n",
    "@generated function ConvexBodyProximityQueries.support(cube::HyperCube{N, T}, dir::AbstractVector) where {N, T}\n",
    "    exprs = Array{Expr}(undef, (N,))\n",
    "    for i = 1:N\n",
    "        exprs[i] = :(cube.width*(dir[$i] ≥ 0.0 ? 1.0 : -1.0)/2.0 + cube.origin[$i])\n",
    "    end\n",
    "\n",
    "    return quote\n",
    "        Base.@_inline_meta\n",
    "        @inbounds elements = tuple($(exprs...))\n",
    "        @inbounds return SVector{N, T}(elements)\n",
    "    end\n",
    "end"
   ]
  },
  {
   "cell_type": "code",
   "execution_count": 40,
   "metadata": {},
   "outputs": [
    {
     "data": {
      "text/plain": [
       "HyperRectangle{2,Float64}([3.0, 0.0], [1.0, 2.0])"
      ]
     },
     "execution_count": 40,
     "metadata": {},
     "output_type": "execute_result"
    }
   ],
   "source": [
    "dir = SVector{2}([1.0, 0.0])\n",
    "rA = HyperRectangle(Vec(0.0, 0.0), Vec(1.0, 2.0))\n",
    "rB = HyperRectangle(Vec(3.0, 0.0), Vec(1.0, 2.0))"
   ]
  },
  {
   "cell_type": "code",
   "execution_count": 41,
   "metadata": {},
   "outputs": [
    {
     "name": "stdout",
     "output_type": "stream",
     "text": [
      "  19.321 ns (0 allocations: 0 bytes)\n",
      "  13.499 ns (0 allocations: 0 bytes)\n",
      "  12.694 ns (0 allocations: 0 bytes)\n",
      "  12.254 ns (0 allocations: 0 bytes)\n"
     ]
    },
    {
     "data": {
      "text/plain": [
       "false"
      ]
     },
     "execution_count": 41,
     "metadata": {},
     "output_type": "execute_result"
    }
   ],
   "source": [
    "@btime closest_points($rA, $rB, $dir)\n",
    "@btime minimum_distance($rA, $rB, $dir)\n",
    "@btime tolerance_verification($rA, $rB, $dir, $1.0)\n",
    "@btime collision_detection($rA, $rB, $dir)"
   ]
  },
  {
   "cell_type": "code",
   "execution_count": 45,
   "metadata": {},
   "outputs": [
    {
     "data": {
      "text/plain": [
       "([0.0, 0.0], [0.0, 2.0], [1.0, 0.0], [1.0, 2.0])"
      ]
     },
     "execution_count": 45,
     "metadata": {},
     "output_type": "execute_result"
    }
   ],
   "source": [
    "vertices(rA)"
   ]
  },
  {
   "cell_type": "code",
   "execution_count": 42,
   "metadata": {},
   "outputs": [
    {
     "data": {
      "text/plain": [
       "([0.5, 1.0], [2.5, 1.0])"
      ]
     },
     "execution_count": 42,
     "metadata": {},
     "output_type": "execute_result"
    }
   ],
   "source": [
    "closest_points(rA, rB, dir)`"
   ]
  },
  {
   "cell_type": "code",
   "execution_count": 54,
   "metadata": {},
   "outputs": [
    {
     "data": {
      "text/plain": [
       "2.0"
      ]
     },
     "execution_count": 54,
     "metadata": {},
     "output_type": "execute_result"
    }
   ],
   "source": [
    "minimum_distance(A, B, dir)"
   ]
  },
  {
   "cell_type": "code",
   "execution_count": 55,
   "metadata": {},
   "outputs": [
    {
     "data": {
      "text/plain": [
       "2.0"
      ]
     },
     "execution_count": 55,
     "metadata": {},
     "output_type": "execute_result"
    }
   ],
   "source": [
    "minimum_distance(rA, rB, dir)"
   ]
  },
  {
   "cell_type": "code",
   "execution_count": 43,
   "metadata": {},
   "outputs": [
    {
     "name": "stdout",
     "output_type": "stream",
     "text": [
      "  18.587 ns (0 allocations: 0 bytes)\n",
      "  12.328 ns (0 allocations: 0 bytes)\n",
      "  11.734 ns (0 allocations: 0 bytes)\n",
      "  15.489 ns (0 allocations: 0 bytes)\n"
     ]
    },
    {
     "data": {
      "text/plain": [
       "false"
      ]
     },
     "execution_count": 43,
     "metadata": {},
     "output_type": "execute_result"
    }
   ],
   "source": [
    "oA = SVector(origin(rA))\n",
    "wA = SVector(widths(rA))\n",
    "A = Hyperrectangle(low=oA, high=oA+wA)\n",
    "\n",
    "oB= SVector(origin(rB))\n",
    "wB = SVector(widths(rB))\n",
    "B = Hyperrectangle(low=oB, high=oB+wB)\n",
    "\n",
    "@btime closest_points($A, $B, $dir)\n",
    "@btime minimum_distance($A, $B, $dir)\n",
    "@btime tolerance_verification($A, $B, $dir, $1.0)\n",
    "@btime collision_detection($A, $B, $dir)"
   ]
  },
  {
   "cell_type": "code",
   "execution_count": 48,
   "metadata": {},
   "outputs": [
    {
     "ename": "ErrorException",
     "evalue": "setindex!(::SArray{Tuple{2},Float64,1,2}, value, ::Int) is not defined.",
     "output_type": "error",
     "traceback": [
      "setindex!(::SArray{Tuple{2},Float64,1,2}, value, ::Int) is not defined.",
      "",
      "Stacktrace:",
      " [1] error(::String) at ./error.jl:33",
      " [2] setindex!(::SArray{Tuple{2},Float64,1,2}, ::Float64, ::Int64) at /home/mforets/.julia/packages/StaticArrays/1g9bq/src/indexing.jl:3",
      " [3] vertices_list(::Hyperrectangle{Float64,SArray{Tuple{2},Float64,1,2},SArray{Tuple{2},Float64,1,2}}) at /home/mforets/.julia/dev/LazySets/src/Interfaces/AbstractHyperrectangle.jl:197",
      " [4] top-level scope at In[48]:1"
     ]
    }
   ],
   "source": [
    "minimi"
   ]
  },
  {
   "cell_type": "code",
   "execution_count": 52,
   "metadata": {},
   "outputs": [
    {
     "data": {
      "text/plain": [
       "Hyperrectangle{Float64,Array{Float64,1},Array{Float64,1}}([0.5, 1.0], [0.5, 1.0])"
      ]
     },
     "execution_count": 52,
     "metadata": {},
     "output_type": "execute_result"
    }
   ],
   "source": [
    "A = Hyperrectangle(low=[0.0, 0.0], high=[1.0, 2.0])"
   ]
  },
  {
   "cell_type": "code",
   "execution_count": 53,
   "metadata": {},
   "outputs": [
    {
     "data": {
      "text/plain": [
       "4-element Array{Array{Float64,1},1}:\n",
       " [1.0, 2.0]\n",
       " [0.0, 2.0]\n",
       " [1.0, 0.0]\n",
       " [0.0, 0.0]"
      ]
     },
     "execution_count": 53,
     "metadata": {},
     "output_type": "execute_result"
    }
   ],
   "source": [
    "vertices_list(A)"
   ]
  },
  {
   "cell_type": "code",
   "execution_count": 44,
   "metadata": {},
   "outputs": [
    {
     "data": {
      "text/plain": [
       "([1.0, 2.0], [3.0, 2.0])"
      ]
     },
     "execution_count": 44,
     "metadata": {},
     "output_type": "execute_result"
    }
   ],
   "source": [
    "closest_points(A, B, dir)"
   ]
  },
  {
   "cell_type": "code",
   "execution_count": null,
   "metadata": {},
   "outputs": [],
   "source": [
    "function convert(::Type{Hyperrectangle}, X::HyperRectangle{D, N}) where {D, N}\n",
    "    o = origin(X)\n",
    "    w = widths(X)\n",
    "    return Hyperrectangle(low=o, high=o+w)\n",
    "end\n",
    "\n",
    "function convert(::Type{Hyperrectangle}, X::HyperCube{D, N}) where {D, N}\n",
    "    o = origin(X)\n",
    "    w = widths(X)\n",
    "    return Hyperrectangle(low=o, high=o+w)\n",
    "end"
   ]
  },
  {
   "cell_type": "code",
   "execution_count": null,
   "metadata": {},
   "outputs": [],
   "source": [
    "mA = @SMatrix(rand(2, 8))\n",
    "polyA = VPolygon([mA[:, i] for i in 1:8])\n",
    "\n",
    "mB = @SMatrix(rand(2, 8)) .+ 1.5\n",
    "polyB = VPolygon([mB[:, i] for i in 1:8])"
   ]
  },
  {
   "cell_type": "code",
   "execution_count": null,
   "metadata": {},
   "outputs": [],
   "source": [
    "@btime minimum_distance($X ⊕ $Y, $M*$Z, $dir)"
   ]
  },
  {
   "cell_type": "code",
   "execution_count": null,
   "metadata": {},
   "outputs": [],
   "source": [
    "v = rand(2)"
   ]
  },
  {
   "cell_type": "code",
   "execution_count": null,
   "metadata": {},
   "outputs": [],
   "source": [
    "X = rand(HPolygon)\n",
    "Y = rand(HPolygon)\n",
    "dir = @SVector(rand(2))"
   ]
  },
  {
   "cell_type": "code",
   "execution_count": null,
   "metadata": {},
   "outputs": [],
   "source": [
    "closest_points(X, Y, dir)"
   ]
  },
  {
   "cell_type": "code",
   "execution_count": null,
   "metadata": {},
   "outputs": [],
   "source": [
    "minimum_distance(X, Y, dir)"
   ]
  },
  {
   "cell_type": "code",
   "execution_count": null,
   "metadata": {},
   "outputs": [],
   "source": [
    "plot(X)\n",
    "plot!(Y)"
   ]
  },
  {
   "cell_type": "code",
   "execution_count": null,
   "metadata": {},
   "outputs": [],
   "source": [
    "@btime minimum_distance(rand(2, 2) * X, Y, dir)"
   ]
  },
  {
   "cell_type": "code",
   "execution_count": null,
   "metadata": {},
   "outputs": [],
   "source": []
  },
  {
   "cell_type": "code",
   "execution_count": null,
   "metadata": {},
   "outputs": [],
   "source": [
    "v = LazySets.support_vector(@SVector(rand(2)), Z1)"
   ]
  },
  {
   "cell_type": "code",
   "execution_count": null,
   "metadata": {},
   "outputs": [],
   "source": [
    "SVector{2, Float64}(v)"
   ]
  },
  {
   "cell_type": "code",
   "execution_count": null,
   "metadata": {},
   "outputs": [],
   "source": [
    "support(Z1, @SVector(rand(2)))"
   ]
  },
  {
   "cell_type": "code",
   "execution_count": null,
   "metadata": {},
   "outputs": [],
   "source": [
    "@btime closest_points($Z1, $Z2, $dir)"
   ]
  },
  {
   "cell_type": "markdown",
   "metadata": {},
   "source": [
    "----"
   ]
  },
  {
   "cell_type": "code",
   "execution_count": null,
   "metadata": {},
   "outputs": [],
   "source": [
    "mA = @SMatrix(rand(2, 8))\n",
    "polyA = VPolygon([mA[:, i] for i in 1:8])\n",
    "\n",
    "mB = @SMatrix(rand(2, 8)) .+ 1.5\n",
    "polyB = VPolygon([mB[:, i] for i in 1:8])"
   ]
  },
  {
   "cell_type": "code",
   "execution_count": null,
   "metadata": {},
   "outputs": [],
   "source": [
    "dir = @SVector(rand(2)) .- 0.5"
   ]
  },
  {
   "cell_type": "code",
   "execution_count": null,
   "metadata": {},
   "outputs": [],
   "source": [
    "# using the Library's default\n",
    "@btime closest_points($mA, $mB, $dir)\n",
    "@btime minimum_distance($mA, $mB, $dir)\n",
    "@btime tolerance_verification($mA, $mB, $dir, $1.0)\n",
    "@btime collision_detection($mA, $mB, $dir)"
   ]
  },
  {
   "cell_type": "code",
   "execution_count": null,
   "metadata": {},
   "outputs": [],
   "source": [
    "# using the LazySets VPolygon\n",
    "@btime closest_points($polyA, $polyB, $dir)\n",
    "@btime minimum_distance($polyA, $polyB, $dir)\n",
    "@btime tolerance_verification($polyA, $polyB, $dir, $1.0)\n",
    "@btime collision_detection($polyA, $polyB, $dir)"
   ]
  },
  {
   "cell_type": "markdown",
   "metadata": {},
   "source": [
    "## GeometryTypes"
   ]
  },
  {
   "cell_type": "code",
   "execution_count": null,
   "metadata": {},
   "outputs": [],
   "source": [
    "import Pkg; Pkg.add(\"GeometryTypes\")"
   ]
  },
  {
   "cell_type": "code",
   "execution_count": null,
   "metadata": {},
   "outputs": [],
   "source": [
    "import ConvexBodyProximityQueries.support\n",
    "using GeometryTypes: HyperSphere, HyperRectangle, HyperCube\n",
    "\n",
    "function ConvexBodyProximityQueries.support(sphere::HyperSphere{N, T}, dir::AbstractVector) where {N, T}\n",
    "    SVector{N}(sphere.center + sphere.r*normalize(dir, 2))\n",
    "end\n",
    "\n",
    "@generated function ConvexBodyProximityQueries.support(rect::HyperRectangle{N, T}, dir::AbstractVector) where {N, T}\n",
    "    exprs = Array{Expr}(undef, (N,))\n",
    "    for i = 1:N\n",
    "        exprs[i] = :(rect.widths[$i]*(dir[$i] ≥ 0.0 ? 1.0 : -1.0)/2.0 + rect.origin[$i])\n",
    "    end\n",
    "\n",
    "    return quote\n",
    "        Base.@_inline_meta\n",
    "        @inbounds elements = tuple($(exprs...))\n",
    "        @inbounds return SVector{N, T}(elements)\n",
    "    end\n",
    "end\n",
    "\n",
    "@generated function ConvexBodyProximityQueries.support(cube::HyperCube{N, T}, dir::AbstractVector) where {N, T}\n",
    "    exprs = Array{Expr}(undef, (N,))\n",
    "    for i = 1:N\n",
    "        exprs[i] = :(cube.width*(dir[$i] ≥ 0.0 ? 1.0 : -1.0)/2.0 + cube.origin[$i])\n",
    "    end\n",
    "\n",
    "    return quote\n",
    "        Base.@_inline_meta\n",
    "        @inbounds elements = tuple($(exprs...))\n",
    "        @inbounds return SVector{N, T}(elements)\n",
    "    end\n",
    "end"
   ]
  },
  {
   "cell_type": "code",
   "execution_count": null,
   "metadata": {},
   "outputs": [],
   "source": []
  },
  {
   "cell_type": "code",
   "execution_count": null,
   "metadata": {},
   "outputs": [],
   "source": [
    "# using the LazySets VPolygon\n",
    "@btime closest_points($polyA, $polyB, $dir)\n",
    "@btime minimum_distance($polyA, $polyB, $dir)\n",
    "@btime tolerance_verification($polyA, $polyB, $dir, $1.0)\n",
    "@btime collision_detection($polyA, $polyB, $dir)"
   ]
  },
  {
   "cell_type": "code",
   "execution_count": null,
   "metadata": {},
   "outputs": [],
   "source": [
    "    @testset \"rectangle\" begin\n",
    "\n",
    "        @test collision_detection(rectangleA, rectangleB, vec2) == false\n",
    "        @test all(ret[1] .≈ [0.5, 1.0])\n",
    "        @test all(ret[2] .≈ [2.5, 1.0])\n",
    "\n",
    "        rectangleA = HyperRectangle(Vec(0.0, 0.0), Vec(1.0, 2.0))\n",
    "        rectangleB = HyperRectangle(Vec(1.0, 0.0), Vec(1.0, 2.0))\n",
    "        ret = closest_points(rectangleA, rectangleB, vec2)\n",
    "        @test collision_detection(rectangleA, rectangleB, vec2) == true\n",
    "\n",
    "        rectangleA = HyperRectangle(Vec(0.0, 0.0), Vec(1.0, 2.0))\n",
    "        rectangleB = HyperRectangle(Vec(0.5, 0.0), Vec(1.0, 2.0))\n",
    "        ret = closest_points(rectangleA, rectangleB, vec2)\n",
    "        @test collision_detection(rectangleA, rectangleB, vec2) == true\n",
    "    end # rectangle"
   ]
  },
  {
   "cell_type": "code",
   "execution_count": null,
   "metadata": {},
   "outputs": [],
   "source": [
    "using GeometryTypes"
   ]
  },
  {
   "cell_type": "code",
   "execution_count": null,
   "metadata": {},
   "outputs": [],
   "source": [
    "HyperRectangle(Vec(0.0, 0.0), Vec(1.0, 2.0))"
   ]
  },
  {
   "cell_type": "code",
   "execution_count": null,
   "metadata": {},
   "outputs": [],
   "source": [
    "vec2 = SVector{2}([1.0, 0.0])\n",
    "rectangleA = HyperRectangle(Vec(0.0, 0.0), Vec(1.0, 2.0))\n",
    "rectangleB = HyperRectangle(Vec(3.0, 0.0), Vec(1.0, 2.0))"
   ]
  },
  {
   "cell_type": "code",
   "execution_count": null,
   "metadata": {},
   "outputs": [],
   "source": [
    "rectangleA.widths"
   ]
  },
  {
   "cell_type": "code",
   "execution_count": null,
   "metadata": {},
   "outputs": [],
   "source": [
    "@btime ret = closest_points($rectangleA, $rectangleB, $vec2)"
   ]
  },
  {
   "cell_type": "code",
   "execution_count": null,
   "metadata": {},
   "outputs": [],
   "source": [
    "h1 = Hyperrectangle([0.0, 0.0], [0.5, 1.0])\n",
    "h2 = Hyperrectangle([3.0, 0.0], [0.5, 1.0])"
   ]
  },
  {
   "cell_type": "code",
   "execution_count": null,
   "metadata": {},
   "outputs": [],
   "source": [
    "@btime ret = closest_points($h1, $h2, $vec2)"
   ]
  },
  {
   "cell_type": "code",
   "execution_count": null,
   "metadata": {},
   "outputs": [],
   "source": [
    "h1 = Hyperrectangle(@SVector([0.0, 0.0]), @SVector([0.5, 1.0]))\n",
    "h2 = Hyperrectangle(@SVector([3.0, 0.0]), @SVector([0.5, 1.0]))"
   ]
  },
  {
   "cell_type": "code",
   "execution_count": null,
   "metadata": {},
   "outputs": [],
   "source": [
    "@btime ret = closest_points($h1, $h2, $vec2)"
   ]
  },
  {
   "cell_type": "code",
   "execution_count": null,
   "metadata": {},
   "outputs": [],
   "source": [
    "GeometryTypes.Vec3f0(1.0)"
   ]
  },
  {
   "cell_type": "markdown",
   "metadata": {},
   "source": [
    "## Conversions"
   ]
  },
  {
   "cell_type": "code",
   "execution_count": null,
   "metadata": {},
   "outputs": [],
   "source": [
    "using Revise, LazySets, GeometryTypes, Test, BenchmarkTools"
   ]
  },
  {
   "cell_type": "code",
   "execution_count": null,
   "metadata": {},
   "outputs": [],
   "source": [
    "function f(::Type{Hyperrectangle}, X::HyperRectangle{D, N}) where {D, N}\n",
    "    o = origin(X)\n",
    "    w = widths(X)\n",
    "    return Hyperrectangle(low=o, high=o+w)\n",
    "end"
   ]
  },
  {
   "cell_type": "code",
   "execution_count": null,
   "metadata": {},
   "outputs": [],
   "source": [
    "r = HyperRectangle(Vec(0.0, 0.0), Vec(1.0, 2.0))"
   ]
  },
  {
   "cell_type": "code",
   "execution_count": null,
   "metadata": {},
   "outputs": [],
   "source": [
    "o = origin(r)"
   ]
  },
  {
   "cell_type": "code",
   "execution_count": null,
   "metadata": {},
   "outputs": [],
   "source": [
    "w = widths(r)"
   ]
  },
  {
   "cell_type": "code",
   "execution_count": null,
   "metadata": {},
   "outputs": [],
   "source": [
    "Hyperrectangle(low=o, high=o+w)"
   ]
  },
  {
   "cell_type": "code",
   "execution_count": null,
   "metadata": {},
   "outputs": [],
   "source": [
    "GeometryTypes.StaticArray{}"
   ]
  },
  {
   "cell_type": "code",
   "execution_count": null,
   "metadata": {},
   "outputs": [],
   "source": [
    "vcat(1)"
   ]
  },
  {
   "cell_type": "code",
   "execution_count": null,
   "metadata": {},
   "outputs": [],
   "source": [
    "hcat(1.0)"
   ]
  },
  {
   "cell_type": "code",
   "execution_count": null,
   "metadata": {},
   "outputs": [],
   "source": [
    "function"
   ]
  }
 ],
 "metadata": {
  "kernelspec": {
   "display_name": "Julia 1.2.0",
   "language": "julia",
   "name": "julia-1.2"
  },
  "language_info": {
   "file_extension": ".jl",
   "mimetype": "application/julia",
   "name": "julia",
   "version": "1.2.0"
  }
 },
 "nbformat": 4,
 "nbformat_minor": 2
}
