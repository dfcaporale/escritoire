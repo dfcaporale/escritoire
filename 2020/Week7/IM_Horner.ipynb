{
 "cells": [
  {
   "cell_type": "markdown",
   "metadata": {},
   "source": [
    "# Evaluation of the interval matrix exponential using Horner's method"
   ]
  },
  {
   "cell_type": "markdown",
   "metadata": {},
   "source": [
    "Reference:\n",
    "\n",
    "- https://www.mat.univie.ac.at/~neum/ms/intExp.pdf"
   ]
  },
  {
   "cell_type": "code",
   "execution_count": 1,
   "metadata": {},
   "outputs": [],
   "source": [
    "using Revise, IntervalMatrices\n",
    "using IntervalMatrices: _exp_remainder, _exp_remainder_series, scale_and_square\n",
    "\n",
    "using LinearAlgebra\n",
    "using LinearAlgebra: checksquare"
   ]
  },
  {
   "cell_type": "code",
   "execution_count": 2,
   "metadata": {},
   "outputs": [
    {
     "data": {
      "text/plain": [
       "H (generic function with 1 method)"
      ]
     },
     "execution_count": 2,
     "metadata": {},
     "output_type": "execute_result"
    }
   ],
   "source": [
    "# evaluate \n",
    "function H̃(K::Int, A::IntervalMatrix{T}) where {T}\n",
    "    @assert K >= 1\n",
    "    n = checksquare(A)\n",
    "    Iₙ = IntervalMatrix(Interval(1.0) * I, n)\n",
    "    out = Iₙ + A/K\n",
    "    while K > 1\n",
    "        K -= 1\n",
    "        out = Iₙ + A/K * out\n",
    "    end\n",
    "    return out\n",
    "end\n",
    "\n",
    "# remainder, see eq. (4.4) in the paper\n",
    "function R(K::Int, A::IntervalMatrix{T}) where {T}\n",
    "    return _exp_remainder(A, 1.0, K)\n",
    "    # NOTE: in the paper they use\n",
    "    #_exp_remainder_series(A, 1.0, K)\n",
    "    # but the former is more accurate\n",
    "end\n",
    "\n",
    "# cf. eq. (4.9) \n",
    "function H(K, A)\n",
    "    H̃(K, A) + R(K,A)\n",
    "end"
   ]
  },
  {
   "cell_type": "code",
   "execution_count": 3,
   "metadata": {},
   "outputs": [
    {
     "data": {
      "text/plain": [
       "S (generic function with 1 method)"
      ]
     },
     "execution_count": 3,
     "metadata": {},
     "output_type": "execute_result"
    }
   ],
   "source": [
    "function S(L, K, A)\n",
    "    # scaling\n",
    "    α = Interval(1/2)^L\n",
    "    As = A * α\n",
    "        \n",
    "    # taylor evaluation with remainder using Horner's method\n",
    "    T = H(K, As)\n",
    "\n",
    "    # squaring\n",
    "    out = copy(T)\n",
    "    for i in 1:L\n",
    "        out = square(out)\n",
    "    end\n",
    "    return out\n",
    "end"
   ]
  },
  {
   "cell_type": "code",
   "execution_count": null,
   "metadata": {},
   "outputs": [],
   "source": [
    "width(A::IntervalMatrix) = opnorm(diam.(A), Inf)"
   ]
  },
  {
   "cell_type": "markdown",
   "metadata": {},
   "source": [
    "## Test case"
   ]
  },
  {
   "cell_type": "code",
   "execution_count": 22,
   "metadata": {},
   "outputs": [
    {
     "data": {
      "text/plain": [
       "[3.99e-13, 4.01001e-13]"
      ]
     },
     "execution_count": 22,
     "metadata": {},
     "output_type": "execute_result"
    }
   ],
   "source": [
    "function tline(;η=2, R₀=1.00, Rd₀=10.0, L₀=1e-10, C₀=1e-13 * 4.00, scale=1e-9)\n",
    "    A₁₁ = zeros(η, η)\n",
    "    A₁₂ = Bidiagonal(fill(-1/C₀, η), fill(1/C₀, η-1), :U)\n",
    "    A₂₁ = Bidiagonal(fill(1/L₀, η), fill(-1/L₀, η-1), :L)\n",
    "    A₂₂ = Diagonal(vcat(-Rd₀/L₀, fill(-R₀/L₀, η-1)))\n",
    "    A  = [A₁₁ A₁₂; A₂₁ A₂₂] .* scale\n",
    "    return A\n",
    "end\n",
    "\n",
    "R₀_int = Interval(0.99, 1.01)\n",
    "Rd₀_int = Interval(9.9, 10.1)\n",
    "L₀_int = Interval(1e-10, 1e-10)\n",
    "C₀_int = Interval(3.99e-13, 4.01e-13)"
   ]
  },
  {
   "cell_type": "code",
   "execution_count": 27,
   "metadata": {},
   "outputs": [
    {
     "data": {
      "text/plain": [
       "4×4 IntervalMatrix{Float64,Interval{Float64},Array{Interval{Float64},2}}:\n",
       " [0, 0]                  [0, 0]                  …   [2493.76, 2506.27]   \n",
       " [0, 0]                  [0, 0]                     [-2506.27, -2493.76]  \n",
       "     [9.99999, 10.0001]  [0, 0]                     [0, 0]                \n",
       "   [-10.0001, -9.99999]      [9.99999, 10.0001]       [-10.1001, -9.89999]"
      ]
     },
     "execution_count": 27,
     "metadata": {},
     "output_type": "execute_result"
    }
   ],
   "source": [
    "# intervals of zero width\n",
    "#A = IntervalMatrix(Matrix(tline(η=2)))\n",
    "\n",
    "# intervals of non-zero width\n",
    "A = IntervalMatrix(Matrix(tline(η=2, R₀=R₀_int, Rd₀=Rd₀_int,L₀=L₀_int,C₀=C₀_int)))"
   ]
  },
  {
   "cell_type": "code",
   "execution_count": 28,
   "metadata": {},
   "outputs": [
    {
     "data": {
      "text/plain": [
       "4×4 IntervalMatrix{Float64,Interval{Float64},Array{Interval{Float64},2}}:\n",
       " [-6.11389e-06, 1.03058e-05]  …  [-0.000140555, 0.000170405]\n",
       " [-7.32309e-06, 4.97486e-06]     [-0.000113496, 0.000100246]\n",
       " [-3.24139e-07, 4.85592e-07]     [-6.7186e-06, 5.05224e-06] \n",
       " [-6.67091e-07, 5.50309e-07]     [-5.32997e-06, 9.31041e-06]"
      ]
     },
     "execution_count": 28,
     "metadata": {},
     "output_type": "execute_result"
    }
   ],
   "source": [
    "S(10, 10, A)"
   ]
  },
  {
   "cell_type": "code",
   "execution_count": 29,
   "metadata": {},
   "outputs": [
    {
     "data": {
      "text/plain": [
       "4×4 IntervalMatrix{Float64,Interval{Float64},Array{Interval{Float64},2}}:\n",
       " [-1.57836e+121, 1.57836e+121]  …  [-2.19892e+122, 2.19892e+122]\n",
       " [-1.57836e+121, 1.57836e+121]     [-2.19892e+122, 2.19892e+122]\n",
       " [-1.57836e+121, 1.57836e+121]     [-2.19892e+122, 2.19892e+122]\n",
       " [-1.57836e+121, 1.57836e+121]     [-2.19892e+122, 2.19892e+122]"
      ]
     },
     "execution_count": 29,
     "metadata": {},
     "output_type": "execute_result"
    }
   ],
   "source": [
    "exp_overapproximation(A, 1.0, 10)"
   ]
  },
  {
   "cell_type": "markdown",
   "metadata": {},
   "source": [
    "Note that the exp remainder of `A` bloats up; we *need* to do the scaling and squaring. "
   ]
  },
  {
   "cell_type": "code",
   "execution_count": 31,
   "metadata": {},
   "outputs": [
    {
     "data": {
      "text/plain": [
       "4×4 IntervalMatrix{Float64,Interval{Float64},Array{Interval{Float64},2}}:\n",
       " [-9.23394e-15, 9.23394e-15]  …  [-2.04953e-13, 2.04953e-13]\n",
       " [-9.23394e-15, 9.23394e-15]     [-2.04953e-13, 2.04953e-13]\n",
       " [-9.23394e-15, 9.23394e-15]     [-2.04953e-13, 2.04953e-13]\n",
       " [-9.23394e-15, 9.23394e-15]     [-2.04953e-13, 2.04953e-13]"
      ]
     },
     "execution_count": 31,
     "metadata": {},
     "output_type": "execute_result"
    }
   ],
   "source": [
    "_exp_remainder(A / 1000, 1.0, 10)"
   ]
  },
  {
   "cell_type": "code",
   "execution_count": 32,
   "metadata": {},
   "outputs": [
    {
     "data": {
      "text/plain": [
       "4×4 IntervalMatrix{Float64,Interval{Float64},Array{Interval{Float64},2}}:\n",
       " [-2.15941, 2.15941]  [-2.15941, 2.15941]  …  [-2.15941, 2.15941]\n",
       " [-2.15941, 2.15941]  [-2.15941, 2.15941]     [-2.15941, 2.15941]\n",
       " [-2.15941, 2.15941]  [-2.15941, 2.15941]     [-2.15941, 2.15941]\n",
       " [-2.15941, 2.15941]  [-2.15941, 2.15941]     [-2.15941, 2.15941]"
      ]
     },
     "execution_count": 32,
     "metadata": {},
     "output_type": "execute_result"
    }
   ],
   "source": [
    "_exp_remainder_series(A / 1000, 1.0, 10)"
   ]
  },
  {
   "cell_type": "code",
   "execution_count": 35,
   "metadata": {},
   "outputs": [
    {
     "data": {
      "text/plain": [
       "4×4 IntervalMatrix{Float64,Interval{Float64},Array{Interval{Float64},2}}:\n",
       " [-6.11389e-06, 1.03058e-05]  …  [-0.000140555, 0.000170405]\n",
       " [-7.32309e-06, 4.97486e-06]     [-0.000113496, 0.000100246]\n",
       " [-3.24139e-07, 4.85592e-07]     [-6.7186e-06, 5.05224e-06] \n",
       " [-6.67091e-07, 5.50309e-07]     [-5.32997e-06, 9.31041e-06]"
      ]
     },
     "execution_count": 35,
     "metadata": {},
     "output_type": "execute_result"
    }
   ],
   "source": [
    "S(10, 10, A)"
   ]
  },
  {
   "cell_type": "code",
   "execution_count": 36,
   "metadata": {},
   "outputs": [
    {
     "data": {
      "text/plain": [
       "4×4 IntervalMatrix{Float64,Interval{Float64},Array{Interval{Float64},2}}:\n",
       " [-1.57836e+121, 1.57836e+121]  …  [-2.19892e+122, 2.19892e+122]\n",
       " [-1.57836e+121, 1.57836e+121]     [-2.19892e+122, 2.19892e+122]\n",
       " [-1.57836e+121, 1.57836e+121]     [-2.19892e+122, 2.19892e+122]\n",
       " [-1.57836e+121, 1.57836e+121]     [-2.19892e+122, 2.19892e+122]"
      ]
     },
     "execution_count": 36,
     "metadata": {},
     "output_type": "execute_result"
    }
   ],
   "source": [
    "exp_overapproximation(A, 1.0, 10) # bloats, it doesn't scale and square"
   ]
  },
  {
   "cell_type": "code",
   "execution_count": 38,
   "metadata": {},
   "outputs": [
    {
     "data": {
      "text/plain": [
       "4×4 IntervalMatrix{Float64,Interval{Float64},Array{Interval{Float64},2}}:\n",
       " [-6.07126e-06, 1.02484e-05]  …  [-0.000139791, 0.000169407]\n",
       " [-7.28151e-06, 4.93998e-06]     [-0.000112824, 9.9691e-05] \n",
       " [-3.21743e-07, 4.82086e-07]     [-6.67145e-06, 5.01428e-06]\n",
       " [-6.62959e-07, 5.47146e-07]     [-5.29505e-06, 9.25511e-06]"
      ]
     },
     "execution_count": 38,
     "metadata": {},
     "output_type": "execute_result"
    }
   ],
   "source": [
    "scale_and_square(A, 10, 1.0, 10)"
   ]
  },
  {
   "cell_type": "markdown",
   "metadata": {},
   "source": [
    "## Case $\\eta = 4$"
   ]
  },
  {
   "cell_type": "code",
   "execution_count": 39,
   "metadata": {},
   "outputs": [
    {
     "data": {
      "text/plain": [
       "8×8 IntervalMatrix{Float64,Interval{Float64},Array{Interval{Float64},2}}:\n",
       " [0, 0]                  [0, 0]                  …  [0, 0]                \n",
       " [0, 0]                  [0, 0]                     [0, 0]                \n",
       " [0, 0]                  [0, 0]                      [2493.76, 2506.27]   \n",
       " [0, 0]                  [0, 0]                     [-2506.27, -2493.76]  \n",
       "     [9.99999, 10.0001]  [0, 0]                     [0, 0]                \n",
       "   [-10.0001, -9.99999]      [9.99999, 10.0001]  …  [0, 0]                \n",
       " [0, 0]                    [-10.0001, -9.99999]     [0, 0]                \n",
       " [0, 0]                  [0, 0]                       [-10.1001, -9.89999]"
      ]
     },
     "execution_count": 39,
     "metadata": {},
     "output_type": "execute_result"
    }
   ],
   "source": [
    "# intervals of zero width\n",
    "#A = IntervalMatrix(Matrix(tline(η=4)))\n",
    "\n",
    "# intervals of non-zero width\n",
    "A = IntervalMatrix(Matrix(tline(η=4, R₀=R₀_int, Rd₀=Rd₀_int,L₀=L₀_int,C₀=C₀_int)))"
   ]
  },
  {
   "cell_type": "code",
   "execution_count": 44,
   "metadata": {},
   "outputs": [
    {
     "data": {
      "text/plain": [
       "8×8 IntervalMatrix{Float64,Interval{Float64},Array{Interval{Float64},2}}:\n",
       " [-2.02691e+133, 2.02691e+133]  …  [-2.24465e+134, 2.24465e+134]\n",
       " [-2.02691e+133, 2.02691e+133]     [-2.24465e+134, 2.24465e+134]\n",
       " [-2.02691e+133, 2.02691e+133]     [-2.24465e+134, 2.24465e+134]\n",
       " [-2.02691e+133, 2.02691e+133]     [-2.24465e+134, 2.24465e+134]\n",
       " [-2.02691e+133, 2.02691e+133]     [-2.24465e+134, 2.24465e+134]\n",
       " [-2.02691e+133, 2.02691e+133]  …  [-2.24465e+134, 2.24465e+134]\n",
       " [-2.02691e+133, 2.02691e+133]     [-2.24465e+134, 2.24465e+134]\n",
       " [-2.02691e+133, 2.02691e+133]     [-2.24465e+134, 2.24465e+134]"
      ]
     },
     "execution_count": 44,
     "metadata": {},
     "output_type": "execute_result"
    }
   ],
   "source": [
    "H(10, A) + R(10, A) # bloats up without scale and square"
   ]
  },
  {
   "cell_type": "code",
   "execution_count": 68,
   "metadata": {},
   "outputs": [
    {
     "data": {
      "text/plain": [
       "8×8 IntervalMatrix{Float64,Interval{Float64},Array{Interval{Float64},2}}:\n",
       " [-386.933, 447.615]   [-519.92, 488.658]    …  [-7282.67, 7696]    \n",
       " [-523.296, 491.804]   [-480.655, 599.987]      [-8867.59, 8466.61] \n",
       " [-485.768, 503.823]   [-577.463, 541.683]      [-8158.17, 8552.05] \n",
       " [-341.293, 327.916]   [-365.861, 390.689]      [-5740.28, 5523.73] \n",
       "  [-17.6605, 18.9071]   [-21.6403, 20.2895]      [-305.874, 298.202]\n",
       "  [-32.152, 30.0271]    [-34.7302, 36.8044]  …   [-502.641, 519.921]\n",
       "  [-31.6749, 33.3511]   [-38.1801, 36.847]       [-545.639, 509.294]\n",
       "  [-29.9573, 28.3512]   [-32.7369, 34.2916]      [-407.663, 485.872]"
      ]
     },
     "execution_count": 68,
     "metadata": {},
     "output_type": "execute_result"
    }
   ],
   "source": [
    "S(40, 40, A)"
   ]
  },
  {
   "cell_type": "code",
   "execution_count": 51,
   "metadata": {},
   "outputs": [
    {
     "data": {
      "text/plain": [
       "73975.3662850389"
      ]
     },
     "execution_count": 51,
     "metadata": {},
     "output_type": "execute_result"
    }
   ],
   "source": [
    "width(ans)"
   ]
  },
  {
   "cell_type": "code",
   "execution_count": 70,
   "metadata": {},
   "outputs": [
    {
     "data": {
      "text/plain": [
       "8×8 IntervalMatrix{Float64,Interval{Float64},Array{Interval{Float64},2}}:\n",
       " [-379.131, 438.589]   [-509.451, 478.786]   …  [-7134.66, 7541.77] \n",
       " [-512.762, 481.871]   [-470.974, 587.936]      [-8690.32, 8294.93] \n",
       " [-475.941, 493.65]    [-565.819, 530.712]      [-7992.26, 8380.42] \n",
       " [-334.312, 321.207]   [-358.368, 382.715]      [-5623.52, 5409.93] \n",
       "  [-17.3013, 18.5273]   [-21.2065, 19.8767]      [-299.686, 292.179]\n",
       "  [-31.5086, 29.4171]   [-34.0261, 36.0695]  …   [-492.487, 509.443]\n",
       "  [-31.0318, 32.683]    [-37.417, 36.1001]       [-534.634, 498.965]\n",
       "  [-29.3557, 27.7739]   [-32.0715, 33.6045]      [-399.407, 476.048]"
      ]
     },
     "execution_count": 70,
     "metadata": {},
     "output_type": "execute_result"
    }
   ],
   "source": [
    "scale_and_square(A, 20, 1.0, 20)"
   ]
  },
  {
   "cell_type": "code",
   "execution_count": 53,
   "metadata": {},
   "outputs": [
    {
     "data": {
      "text/plain": [
       "81271.85570564584"
      ]
     },
     "execution_count": 53,
     "metadata": {},
     "output_type": "execute_result"
    }
   ],
   "source": [
    "width(ans)"
   ]
  },
  {
   "cell_type": "code",
   "execution_count": 49,
   "metadata": {},
   "outputs": [
    {
     "data": {
      "text/plain": [
       "width (generic function with 1 method)"
      ]
     },
     "execution_count": 49,
     "metadata": {},
     "output_type": "execute_result"
    }
   ],
   "source": []
  },
  {
   "cell_type": "code",
   "execution_count": null,
   "metadata": {},
   "outputs": [],
   "source": [
    "width()"
   ]
  }
 ],
 "metadata": {
  "kernelspec": {
   "display_name": "Julia 1.2.0",
   "language": "julia",
   "name": "julia-1.2"
  },
  "language_info": {
   "file_extension": ".jl",
   "mimetype": "application/julia",
   "name": "julia",
   "version": "1.2.0"
  }
 },
 "nbformat": 4,
 "nbformat_minor": 2
}
