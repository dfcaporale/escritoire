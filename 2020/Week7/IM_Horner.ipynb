{
 "cells": [
  {
   "cell_type": "markdown",
   "metadata": {},
   "source": [
    "# Evaluation of the interval matrix exponential using Horner's method"
   ]
  },
  {
   "cell_type": "markdown",
   "metadata": {},
   "source": [
    "Reference:\n",
    "\n",
    "- https://www.mat.univie.ac.at/~neum/ms/intExp.pdf"
   ]
  },
  {
   "cell_type": "code",
   "execution_count": 88,
   "metadata": {},
   "outputs": [],
   "source": [
    "using Revise, IntervalMatrices\n",
    "using IntervalMatrices: _exp_remainder, _exp_remainder_series, scale_and_square\n",
    "\n",
    "using LinearAlgebra\n",
    "using LinearAlgebra: checksquare"
   ]
  },
  {
   "cell_type": "code",
   "execution_count": 67,
   "metadata": {},
   "outputs": [
    {
     "data": {
      "text/plain": [
       "H (generic function with 1 method)"
      ]
     },
     "execution_count": 67,
     "metadata": {},
     "output_type": "execute_result"
    }
   ],
   "source": [
    "# evaluate \n",
    "function H̃(K::Int, A::IntervalMatrix{T}) where {T}\n",
    "    @assert K >= 1\n",
    "    n = checksquare(A)\n",
    "    Iₙ = IntervalMatrix(Interval(1.0) * I, n)\n",
    "    out = Iₙ + A/K\n",
    "    while K > 1\n",
    "        K -= 1\n",
    "        out = Iₙ + A/K * out\n",
    "    end\n",
    "    return out\n",
    "end\n",
    "\n",
    "# remainder, see eq. (4.4) in the paper\n",
    "function R(K::Int, A::IntervalMatrix{T}) where {T}\n",
    "    return _exp_remainder(A, 1.0, K)\n",
    "    # NOTE: in the paper they use\n",
    "    #_exp_remainder_series(A, 1.0, K)\n",
    "    # but the former is more accurate\n",
    "end\n",
    "\n",
    "# cf. eq. (4.9) \n",
    "function H(K, A)\n",
    "    H̃(K, A) + R(K,A)\n",
    "end"
   ]
  },
  {
   "cell_type": "code",
   "execution_count": 68,
   "metadata": {},
   "outputs": [
    {
     "data": {
      "text/plain": [
       "S (generic function with 1 method)"
      ]
     },
     "execution_count": 68,
     "metadata": {},
     "output_type": "execute_result"
    }
   ],
   "source": [
    "function S(L, K, A)\n",
    "    # scaling\n",
    "    α = Interval(1/2)^L\n",
    "    As = A * α\n",
    "        \n",
    "    # taylor evaluation with remainder using Horner's method\n",
    "    T = H(K, As)\n",
    "\n",
    "    # squaring\n",
    "    out = copy(T)\n",
    "    for i in 1:L\n",
    "        out = square(out)\n",
    "    end\n",
    "    return out\n",
    "end"
   ]
  },
  {
   "cell_type": "markdown",
   "metadata": {},
   "source": [
    "## Test case"
   ]
  },
  {
   "cell_type": "code",
   "execution_count": 13,
   "metadata": {},
   "outputs": [
    {
     "data": {
      "text/plain": [
       "tline (generic function with 1 method)"
      ]
     },
     "execution_count": 13,
     "metadata": {},
     "output_type": "execute_result"
    }
   ],
   "source": [
    "function tline(;η=2, R₀=1.00, Rd₀=10.0, L₀=1e-10, C₀=1e-13 * 4.00, scale=1e-9)\n",
    "    A₁₁ = zeros(η, η)\n",
    "    A₁₂ = Bidiagonal(fill(-1/C₀, η), fill(1/C₀, η-1), :U)\n",
    "    A₂₁ = Bidiagonal(fill(1/L₀, η), fill(-1/L₀, η-1), :L)\n",
    "    A₂₂ = Diagonal(vcat(-Rd₀/L₀, fill(-R₀/L₀, η-1)))\n",
    "    A  = [A₁₁ A₁₂; A₂₁ A₂₂] .* scale\n",
    "    return A\n",
    "end"
   ]
  },
  {
   "cell_type": "code",
   "execution_count": 73,
   "metadata": {},
   "outputs": [
    {
     "data": {
      "text/plain": [
       "4×4 IntervalMatrix{Float64,Interval{Float64},Array{Interval{Float64},2}}:\n",
       "  [5.51581e-08, 5.51582e-08]   …   [4.02887e-07, 4.02888e-07] \n",
       " [-3.80178e-08, -3.80177e-08]     [-1.68779e-07, -1.68778e-07]\n",
       "  [1.70663e-09, 1.70664e-09]      [-2.86534e-08, -2.86533e-08]\n",
       " [-1.61155e-09, -1.61154e-09]      [6.29109e-08, 6.2911e-08]  "
      ]
     },
     "execution_count": 73,
     "metadata": {},
     "output_type": "execute_result"
    }
   ],
   "source": [
    "S(10, 10, A)"
   ]
  },
  {
   "cell_type": "code",
   "execution_count": 74,
   "metadata": {},
   "outputs": [
    {
     "data": {
      "text/plain": [
       "4×4 IntervalMatrix{Float64,Interval{Float64},Array{Interval{Float64},2}}:\n",
       " [-8.52379e+120, 8.52379e+120]  …  [-1.18779e+122, 1.18779e+122]\n",
       " [-8.52379e+120, 8.52379e+120]     [-1.18779e+122, 1.18779e+122]\n",
       " [-8.52379e+120, 8.52379e+120]     [-1.18779e+122, 1.18779e+122]\n",
       " [-8.52379e+120, 8.52379e+120]     [-1.18779e+122, 1.18779e+122]"
      ]
     },
     "execution_count": 74,
     "metadata": {},
     "output_type": "execute_result"
    }
   ],
   "source": [
    "exp_overapproximation(A, 1.0, 10)"
   ]
  },
  {
   "cell_type": "code",
   "execution_count": 59,
   "metadata": {},
   "outputs": [
    {
     "data": {
      "text/plain": [
       "4×4 IntervalMatrix{Float64,Interval{Float64},Array{Interval{Float64},2}}:\n",
       "     [0, 0]    [0, 0]  [-2500, -2500]    [2500, 2500]\n",
       "     [0, 0]    [0, 0]          [0, 0]  [-2500, -2500]\n",
       "   [10, 10]    [0, 0]    [-100, -100]          [0, 0]\n",
       " [-10, -10]  [10, 10]          [0, 0]      [-10, -10]"
      ]
     },
     "execution_count": 59,
     "metadata": {},
     "output_type": "execute_result"
    }
   ],
   "source": [
    "A = IntervalMatrix(Matrix(tline(η=2)))"
   ]
  },
  {
   "cell_type": "markdown",
   "metadata": {},
   "source": [
    "Note that the exp remainder of `A` bloats up; we *need* to do the scaling and squaring. "
   ]
  },
  {
   "cell_type": "code",
   "execution_count": 75,
   "metadata": {},
   "outputs": [
    {
     "data": {
      "text/plain": [
       "4×4 IntervalMatrix{Float64,Interval{Float64},Array{Interval{Float64},2}}:\n",
       " [-9.82548e-15, 9.82548e-15]  …  [-2.01483e-13, 2.01483e-13]\n",
       " [-9.82548e-15, 9.82548e-15]     [-2.01483e-13, 2.01483e-13]\n",
       " [-9.82548e-15, 9.82548e-15]     [-2.01483e-13, 2.01483e-13]\n",
       " [-9.82548e-15, 9.82548e-15]     [-2.01483e-13, 2.01483e-13]"
      ]
     },
     "execution_count": 75,
     "metadata": {},
     "output_type": "execute_result"
    }
   ],
   "source": [
    "_exp_remainder(A / 1000, 1.0, 10)"
   ]
  },
  {
   "cell_type": "code",
   "execution_count": 76,
   "metadata": {},
   "outputs": [
    {
     "data": {
      "text/plain": [
       "4×4 IntervalMatrix{Float64,Interval{Float64},Array{Interval{Float64},2}}:\n",
       " [-2.097, 2.097]  [-2.097, 2.097]  [-2.097, 2.097]  [-2.097, 2.097]\n",
       " [-2.097, 2.097]  [-2.097, 2.097]  [-2.097, 2.097]  [-2.097, 2.097]\n",
       " [-2.097, 2.097]  [-2.097, 2.097]  [-2.097, 2.097]  [-2.097, 2.097]\n",
       " [-2.097, 2.097]  [-2.097, 2.097]  [-2.097, 2.097]  [-2.097, 2.097]"
      ]
     },
     "execution_count": 76,
     "metadata": {},
     "output_type": "execute_result"
    }
   ],
   "source": [
    "_exp_remainder_series(A / 1000, 1.0, 10)"
   ]
  },
  {
   "cell_type": "code",
   "execution_count": 77,
   "metadata": {},
   "outputs": [
    {
     "data": {
      "text/plain": [
       "4×4 IntervalMatrix{Float64,Interval{Float64},Array{Interval{Float64},2}}:\n",
       "     [0, 0]    [0, 0]  [-2500, -2500]    [2500, 2500]\n",
       "     [0, 0]    [0, 0]          [0, 0]  [-2500, -2500]\n",
       "   [10, 10]    [0, 0]    [-100, -100]          [0, 0]\n",
       " [-10, -10]  [10, 10]          [0, 0]      [-10, -10]"
      ]
     },
     "execution_count": 77,
     "metadata": {},
     "output_type": "execute_result"
    }
   ],
   "source": [
    "A"
   ]
  },
  {
   "cell_type": "code",
   "execution_count": 78,
   "metadata": {},
   "outputs": [
    {
     "data": {
      "text/plain": [
       "4×4 IntervalMatrix{Float64,Interval{Float64},Array{Interval{Float64},2}}:\n",
       "  [5.51581e-08, 5.51582e-08]   …   [4.02887e-07, 4.02888e-07] \n",
       " [-3.80178e-08, -3.80177e-08]     [-1.68779e-07, -1.68778e-07]\n",
       "  [1.70663e-09, 1.70664e-09]      [-2.86534e-08, -2.86533e-08]\n",
       " [-1.61155e-09, -1.61154e-09]      [6.29109e-08, 6.2911e-08]  "
      ]
     },
     "execution_count": 78,
     "metadata": {},
     "output_type": "execute_result"
    }
   ],
   "source": [
    "S(10, 10, A)"
   ]
  },
  {
   "cell_type": "code",
   "execution_count": 79,
   "metadata": {},
   "outputs": [
    {
     "data": {
      "text/plain": [
       "4×4 IntervalMatrix{Float64,Interval{Float64},Array{Interval{Float64},2}}:\n",
       " [-8.52379e+120, 8.52379e+120]  …  [-1.18779e+122, 1.18779e+122]\n",
       " [-8.52379e+120, 8.52379e+120]     [-1.18779e+122, 1.18779e+122]\n",
       " [-8.52379e+120, 8.52379e+120]     [-1.18779e+122, 1.18779e+122]\n",
       " [-8.52379e+120, 8.52379e+120]     [-1.18779e+122, 1.18779e+122]"
      ]
     },
     "execution_count": 79,
     "metadata": {},
     "output_type": "execute_result"
    }
   ],
   "source": [
    "exp_overapproximation(A, 1.0, 10) # bloats, it doesn't scale and square"
   ]
  },
  {
   "cell_type": "code",
   "execution_count": 84,
   "metadata": {},
   "outputs": [
    {
     "data": {
      "text/plain": [
       "4×4 IntervalMatrix{Float64,Interval{Float64},Array{Interval{Float64},2}}:\n",
       "  [5.51581e-08, 5.51582e-08]   …   [4.02887e-07, 4.02888e-07] \n",
       " [-3.80178e-08, -3.80177e-08]     [-1.68779e-07, -1.68778e-07]\n",
       "  [1.70663e-09, 1.70664e-09]      [-2.86534e-08, -2.86533e-08]\n",
       " [-1.61155e-09, -1.61154e-09]      [6.29109e-08, 6.2911e-08]  "
      ]
     },
     "execution_count": 84,
     "metadata": {},
     "output_type": "execute_result"
    }
   ],
   "source": [
    "IntervalMatrices.scale_and_square(A, 10, 1.0, 10)"
   ]
  },
  {
   "cell_type": "markdown",
   "metadata": {},
   "source": [
    "## Case $\\eta = 4$"
   ]
  },
  {
   "cell_type": "code",
   "execution_count": 96,
   "metadata": {},
   "outputs": [
    {
     "data": {
      "text/plain": [
       "8×8 IntervalMatrix{Float64,Interval{Float64},Array{Interval{Float64},2}}:\n",
       "     [0, 0]      [0, 0]      [0, 0]  …          [0, 0]          [0, 0]\n",
       "     [0, 0]      [0, 0]      [0, 0]       [2500, 2500]          [0, 0]\n",
       "     [0, 0]      [0, 0]      [0, 0]     [-2500, -2500]    [2500, 2500]\n",
       "     [0, 0]      [0, 0]      [0, 0]             [0, 0]  [-2500, -2500]\n",
       "   [10, 10]      [0, 0]      [0, 0]             [0, 0]          [0, 0]\n",
       " [-10, -10]    [10, 10]      [0, 0]  …          [0, 0]          [0, 0]\n",
       "     [0, 0]  [-10, -10]    [10, 10]         [-10, -10]          [0, 0]\n",
       "     [0, 0]      [0, 0]  [-10, -10]             [0, 0]      [-10, -10]"
      ]
     },
     "execution_count": 96,
     "metadata": {},
     "output_type": "execute_result"
    }
   ],
   "source": [
    "A = IntervalMatrix(Matrix(tline(η=4)))"
   ]
  },
  {
   "cell_type": "code",
   "execution_count": 97,
   "metadata": {},
   "outputs": [
    {
     "data": {
      "text/plain": [
       "8×8 IntervalMatrix{Float64,Interval{Float64},Array{Interval{Float64},2}}:\n",
       "  [6.77635e-05, 6.77636e-05]   …   [0.00229669, 0.0022967]    \n",
       " [-0.000140969, -0.000140968]     [-0.00332542, -0.00332541]  \n",
       "  [0.000133764, 0.000133765]       [0.00286481, 0.00286482]   \n",
       " [-5.40639e-05, -5.40638e-05]     [-0.00112233, -0.00112232]  \n",
       "  [5.30467e-06, 5.30468e-06]      [-2.55133e-05, -2.55132e-05]\n",
       " [-1.27463e-05, -1.27462e-05]  …   [0.000153128, 0.000153129] \n",
       "  [1.42201e-05, 1.42202e-05]      [-0.000199251, -0.00019925] \n",
       " [-9.18678e-06, -9.18676e-06]      [0.000137586, 0.000137587] "
      ]
     },
     "execution_count": 97,
     "metadata": {},
     "output_type": "execute_result"
    }
   ],
   "source": [
    "S(10, 10, A)"
   ]
  },
  {
   "cell_type": "code",
   "execution_count": 98,
   "metadata": {},
   "outputs": [
    {
     "data": {
      "text/plain": [
       "8×8 IntervalMatrix{Float64,Interval{Float64},Array{Interval{Float64},2}}:\n",
       "  [6.77635e-05, 6.77636e-05]   …   [0.00229669, 0.0022967]    \n",
       " [-0.000140969, -0.000140968]     [-0.00332542, -0.00332541]  \n",
       "  [0.000133764, 0.000133765]       [0.00286481, 0.00286482]   \n",
       " [-5.40639e-05, -5.40638e-05]     [-0.00112233, -0.00112232]  \n",
       "  [5.30467e-06, 5.30468e-06]      [-2.55133e-05, -2.55132e-05]\n",
       " [-1.27463e-05, -1.27462e-05]  …   [0.000153128, 0.000153129] \n",
       "  [1.42201e-05, 1.42202e-05]      [-0.000199251, -0.00019925] \n",
       " [-9.18678e-06, -9.18676e-06]      [0.000137586, 0.000137587] "
      ]
     },
     "execution_count": 98,
     "metadata": {},
     "output_type": "execute_result"
    }
   ],
   "source": [
    "scale_and_square(A, 10, 1.0, 10)"
   ]
  }
 ],
 "metadata": {
  "kernelspec": {
   "display_name": "Julia 1.2.0",
   "language": "julia",
   "name": "julia-1.2"
  },
  "language_info": {
   "file_extension": ".jl",
   "mimetype": "application/julia",
   "name": "julia",
   "version": "1.2.0"
  }
 },
 "nbformat": 4,
 "nbformat_minor": 2
}
