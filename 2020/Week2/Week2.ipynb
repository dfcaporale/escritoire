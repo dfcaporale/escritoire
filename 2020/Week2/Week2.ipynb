{
 "cells": [
  {
   "cell_type": "code",
   "execution_count": 1,
   "metadata": {},
   "outputs": [
    {
     "name": "stderr",
     "output_type": "stream",
     "text": [
      "┌ Info: Recompiling stale cache file /home/mforets/.julia/compiled/v1.2/LazySets/NjrGc.ji for LazySets [b4f0291d-fe17-52bc-9479-3d1a343d9043]\n",
      "└ @ Base loading.jl:1240\n"
     ]
    }
   ],
   "source": [
    "using BenchmarkTools, Test\n",
    "\n",
    "using Revise, LazySets\n",
    "using LazySets.Arrays"
   ]
  },
  {
   "cell_type": "markdown",
   "metadata": {},
   "source": [
    "## Removing output type annotations (#1840)"
   ]
  },
  {
   "cell_type": "code",
   "execution_count": 2,
   "metadata": {},
   "outputs": [
    {
     "data": {
      "text/plain": [
       "4-element Array{Interval{Float64,IntervalArithmetic.Interval{Float64}},1}:\n",
       " Interval{Float64,IntervalArithmetic.Interval{Float64}}([0.101965, 0.192478])  \n",
       " Interval{Float64,IntervalArithmetic.Interval{Float64}}([0.283072, 0.37474])   \n",
       " Interval{Float64,IntervalArithmetic.Interval{Float64}}([-0.171448, -0.116653])\n",
       " Interval{Float64,IntervalArithmetic.Interval{Float64}}([-1.13171, -0.138705]) "
      ]
     },
     "execution_count": 2,
     "metadata": {},
     "output_type": "execute_result"
    }
   ],
   "source": [
    "x = [rand(Interval) for _ in 1:4]"
   ]
  },
  {
   "cell_type": "code",
   "execution_count": 3,
   "metadata": {},
   "outputs": [
    {
     "data": {
      "text/plain": [
       "(Interval{Float64,IntervalArithmetic.Interval{Float64}}([0.101965, 0.192478]), Interval{Float64,IntervalArithmetic.Interval{Float64}}([0.283072, 0.37474]))"
      ]
     },
     "execution_count": 3,
     "metadata": {},
     "output_type": "execute_result"
    }
   ],
   "source": [
    "a, b = x[1], x[2]"
   ]
  },
  {
   "cell_type": "code",
   "execution_count": 8,
   "metadata": {},
   "outputs": [
    {
     "name": "stdout",
     "output_type": "stream",
     "text": [
      "  0.016 ns (0 allocations: 0 bytes)\n"
     ]
    },
    {
     "data": {
      "text/plain": [
       "EmptySet{Float64}()"
      ]
     },
     "execution_count": 8,
     "metadata": {},
     "output_type": "execute_result"
    }
   ],
   "source": [
    "@btime intersection($a, $b)"
   ]
  },
  {
   "cell_type": "code",
   "execution_count": 14,
   "metadata": {},
   "outputs": [
    {
     "data": {
      "text/plain": [
       "intersection_output_annotation (generic function with 1 method)"
      ]
     },
     "execution_count": 14,
     "metadata": {},
     "output_type": "execute_result"
    }
   ],
   "source": [
    "function intersection_no_output_annotation(x::Interval{N}, y::Interval{N}) where {N<:Real}\n",
    "    if min(y) > max(x) || min(x) > max(y)\n",
    "        return EmptySet{N}()\n",
    "    else\n",
    "        return Interval(max(min(x), min(y)), min(max(x), max(y)))\n",
    "    end\n",
    "end\n",
    "\n",
    "function intersection_output_annotation(x::Interval{N}, y::Interval{N})::Union{Interval{N}, EmptySet{N}} where {N<:Real}\n",
    "    if min(y) > max(x) || min(x) > max(y)\n",
    "        return EmptySet{N}()\n",
    "    else\n",
    "        return Interval(max(min(x), min(y)), min(max(x), max(y)))\n",
    "    end\n",
    "end"
   ]
  },
  {
   "cell_type": "code",
   "execution_count": 15,
   "metadata": {},
   "outputs": [
    {
     "name": "stdout",
     "output_type": "stream",
     "text": [
      "Variables\n",
      "  #self#\u001b[36m::Core.Compiler.Const(intersection_no_output_annotation, false)\u001b[39m\n",
      "  x\u001b[36m::Interval{Float64,IntervalArithmetic.Interval{Float64}}\u001b[39m\n",
      "  y\u001b[36m::Interval{Float64,IntervalArithmetic.Interval{Float64}}\u001b[39m\n",
      "  @_4\u001b[36m::Bool\u001b[39m\n",
      "\n",
      "Body\u001b[91m\u001b[1m::Union{EmptySet{Float64}, Interval{Float64,IntervalArithmetic.Interval{Float64}}}\u001b[22m\u001b[39m\n",
      "\u001b[90m1 ─\u001b[39m %1  = Main.min(y)\u001b[36m::Float64\u001b[39m\n",
      "\u001b[90m│  \u001b[39m %2  = Main.max(x)\u001b[36m::Float64\u001b[39m\n",
      "\u001b[90m│  \u001b[39m %3  = (%1 > %2)\u001b[36m::Bool\u001b[39m\n",
      "\u001b[90m└──\u001b[39m       goto #3 if not %3\n",
      "\u001b[90m2 ─\u001b[39m       (@_4 = %3)\n",
      "\u001b[90m└──\u001b[39m       goto #4\n",
      "\u001b[90m3 ─\u001b[39m %7  = Main.min(x)\u001b[36m::Float64\u001b[39m\n",
      "\u001b[90m│  \u001b[39m %8  = Main.max(y)\u001b[36m::Float64\u001b[39m\n",
      "\u001b[90m└──\u001b[39m       (@_4 = %7 > %8)\n",
      "\u001b[90m4 ┄\u001b[39m       goto #6 if not @_4\n",
      "\u001b[90m5 ─\u001b[39m %11 = Core.apply_type(Main.EmptySet, $(Expr(:static_parameter, 1)))\u001b[36m::Core.Compiler.Const(EmptySet{Float64}, false)\u001b[39m\n",
      "\u001b[90m│  \u001b[39m %12 = (%11)()\u001b[36m::Core.Compiler.Const(EmptySet{Float64}(), false)\u001b[39m\n",
      "\u001b[90m└──\u001b[39m       return %12\n",
      "\u001b[90m6 ─\u001b[39m %14 = Main.min(x)\u001b[36m::Float64\u001b[39m\n",
      "\u001b[90m│  \u001b[39m %15 = Main.min(y)\u001b[36m::Float64\u001b[39m\n",
      "\u001b[90m│  \u001b[39m %16 = Main.max(%14, %15)\u001b[36m::Float64\u001b[39m\n",
      "\u001b[90m│  \u001b[39m %17 = Main.max(x)\u001b[36m::Float64\u001b[39m\n",
      "\u001b[90m│  \u001b[39m %18 = Main.max(y)\u001b[36m::Float64\u001b[39m\n",
      "\u001b[90m│  \u001b[39m %19 = Main.min(%17, %18)\u001b[36m::Float64\u001b[39m\n",
      "\u001b[90m│  \u001b[39m %20 = Main.Interval(%16, %19)\u001b[36m::Interval{Float64,IntervalArithmetic.Interval{Float64}}\u001b[39m\n",
      "\u001b[90m└──\u001b[39m       return %20\n"
     ]
    }
   ],
   "source": [
    "@code_warntype intersection_no_output_annotation(a, b)"
   ]
  },
  {
   "cell_type": "code",
   "execution_count": 16,
   "metadata": {},
   "outputs": [
    {
     "name": "stdout",
     "output_type": "stream",
     "text": [
      "Variables\n",
      "  #self#\u001b[36m::Core.Compiler.Const(intersection_output_annotation, false)\u001b[39m\n",
      "  x\u001b[36m::Interval{Float64,IntervalArithmetic.Interval{Float64}}\u001b[39m\n",
      "  y\u001b[36m::Interval{Float64,IntervalArithmetic.Interval{Float64}}\u001b[39m\n",
      "  @_4\u001b[36m::Bool\u001b[39m\n",
      "\n",
      "Body\u001b[91m\u001b[1m::Union{EmptySet{Float64}, Interval{Float64,IntervalArithmetic.Interval{Float64}}}\u001b[22m\u001b[39m\n",
      "\u001b[90m1 ─\u001b[39m %1  = Core.apply_type(Main.Interval, $(Expr(:static_parameter, 1)))\u001b[36m::Core.Compiler.Const(Interval{Float64,IN} where IN<:IntervalArithmetic.AbstractInterval{Float64}, false)\u001b[39m\n",
      "\u001b[90m│  \u001b[39m %2  = Core.apply_type(Main.EmptySet, $(Expr(:static_parameter, 1)))\u001b[36m::Core.Compiler.Const(EmptySet{Float64}, false)\u001b[39m\n",
      "\u001b[90m│  \u001b[39m %3  = Core.apply_type(Main.Union, %1, %2)\u001b[36m::Core.Compiler.Const(Union{EmptySet{Float64}, Interval{Float64,IN} where IN<:IntervalArithmetic.AbstractInterval{Float64}}, false)\u001b[39m\n",
      "\u001b[90m│  \u001b[39m %4  = Main.min(y)\u001b[36m::Float64\u001b[39m\n",
      "\u001b[90m│  \u001b[39m %5  = Main.max(x)\u001b[36m::Float64\u001b[39m\n",
      "\u001b[90m│  \u001b[39m %6  = (%4 > %5)\u001b[36m::Bool\u001b[39m\n",
      "\u001b[90m└──\u001b[39m       goto #3 if not %6\n",
      "\u001b[90m2 ─\u001b[39m       (@_4 = %6)\n",
      "\u001b[90m└──\u001b[39m       goto #4\n",
      "\u001b[90m3 ─\u001b[39m %10 = Main.min(x)\u001b[36m::Float64\u001b[39m\n",
      "\u001b[90m│  \u001b[39m %11 = Main.max(y)\u001b[36m::Float64\u001b[39m\n",
      "\u001b[90m└──\u001b[39m       (@_4 = %10 > %11)\n",
      "\u001b[90m4 ┄\u001b[39m       goto #6 if not @_4\n",
      "\u001b[90m5 ─\u001b[39m %14 = Core.apply_type(Main.EmptySet, $(Expr(:static_parameter, 1)))\u001b[36m::Core.Compiler.Const(EmptySet{Float64}, false)\u001b[39m\n",
      "\u001b[90m│  \u001b[39m %15 = (%14)()\u001b[36m::Core.Compiler.Const(EmptySet{Float64}(), false)\u001b[39m\n",
      "\u001b[90m│  \u001b[39m %16 = Base.convert(%3, %15)\u001b[36m::Core.Compiler.Const(EmptySet{Float64}(), false)\u001b[39m\n",
      "\u001b[90m│  \u001b[39m %17 = Core.typeassert(%16, %3)\u001b[36m::Core.Compiler.Const(EmptySet{Float64}(), false)\u001b[39m\n",
      "\u001b[90m└──\u001b[39m       return %17\n",
      "\u001b[90m6 ─\u001b[39m %19 = Main.min(x)\u001b[36m::Float64\u001b[39m\n",
      "\u001b[90m│  \u001b[39m %20 = Main.min(y)\u001b[36m::Float64\u001b[39m\n",
      "\u001b[90m│  \u001b[39m %21 = Main.max(%19, %20)\u001b[36m::Float64\u001b[39m\n",
      "\u001b[90m│  \u001b[39m %22 = Main.max(x)\u001b[36m::Float64\u001b[39m\n",
      "\u001b[90m│  \u001b[39m %23 = Main.max(y)\u001b[36m::Float64\u001b[39m\n",
      "\u001b[90m│  \u001b[39m %24 = Main.min(%22, %23)\u001b[36m::Float64\u001b[39m\n",
      "\u001b[90m│  \u001b[39m %25 = Main.Interval(%21, %24)\u001b[36m::Interval{Float64,IntervalArithmetic.Interval{Float64}}\u001b[39m\n",
      "\u001b[90m│  \u001b[39m %26 = Base.convert(%3, %25)\u001b[36m::Interval{Float64,IntervalArithmetic.Interval{Float64}}\u001b[39m\n",
      "\u001b[90m│  \u001b[39m %27 = Core.typeassert(%26, %3)\u001b[36m::Interval{Float64,IntervalArithmetic.Interval{Float64}}\u001b[39m\n",
      "\u001b[90m└──\u001b[39m       return %27\n"
     ]
    }
   ],
   "source": [
    "@code_warntype intersection_output_annotation(a, b)"
   ]
  },
  {
   "cell_type": "markdown",
   "metadata": {},
   "source": [
    "## Revision of Ball1 (#1894)\n",
    "\n",
    "Loop invariant https://github.com/JuliaReach/LazySets.jl/pull/1894"
   ]
  },
  {
   "cell_type": "code",
   "execution_count": 4,
   "metadata": {},
   "outputs": [],
   "source": [
    "using LazySets: _leq, _geq"
   ]
  },
  {
   "cell_type": "code",
   "execution_count": 5,
   "metadata": {},
   "outputs": [
    {
     "data": {
      "text/plain": [
       "_in_failfast (generic function with 2 methods)"
      ]
     },
     "execution_count": 5,
     "metadata": {},
     "output_type": "execute_result"
    }
   ],
   "source": [
    "function _in_failfast(x::AbstractVector{N}, B::Ball1{N}, failfast::Bool=false) where {N<:Real}\n",
    "    @assert length(x) == dim(B) \"a $(length(x))-dimensional vector is \" *\n",
    "        \"incompatible with a $(dim(B))-dimensional set\"\n",
    "    sum = zero(N)\n",
    "    for (i, xi) in enumerate(x)\n",
    "        @inbounds sum += abs(B.center[i] - xi)\n",
    "        if failfast && !_leq(sum, B.radius)\n",
    "            return false\n",
    "        end\n",
    "    end\n",
    "    return _leq(sum, B.radius)\n",
    "end"
   ]
  },
  {
   "cell_type": "code",
   "execution_count": 6,
   "metadata": {},
   "outputs": [
    {
     "data": {
      "text/plain": [
       "_in_failfast_v2 (generic function with 2 methods)"
      ]
     },
     "execution_count": 6,
     "metadata": {},
     "output_type": "execute_result"
    }
   ],
   "source": [
    "function _in_failfast_v2(x::AbstractVector{N}, B::Ball1{N}, failfast::Bool=false) where {N<:Real}\n",
    "    @assert length(x) == dim(B) \"a $(length(x))-dimensional vector is \" *\n",
    "        \"incompatible with a $(dim(B))-dimensional set\"\n",
    "    sum = zero(N)\n",
    "    if failfast\n",
    "        @inbounds for (i, xi) in enumerate(x)\n",
    "            sum += abs(B.center[i] - xi)\n",
    "            !_leq(sum, B.radius) && return false\n",
    "        end\n",
    "    else\n",
    "        @inbounds for (i, xi) in enumerate(x)\n",
    "            sum += abs(B.center[i] - xi)\n",
    "        end\n",
    "    end\n",
    "    return _leq(sum, B.radius)\n",
    "end"
   ]
  },
  {
   "cell_type": "code",
   "execution_count": 7,
   "metadata": {},
   "outputs": [
    {
     "data": {
      "text/plain": [
       "_in_failfast_v3 (generic function with 1 method)"
      ]
     },
     "execution_count": 7,
     "metadata": {},
     "output_type": "execute_result"
    }
   ],
   "source": [
    "function _in_failfast_v3(x::AbstractVector{N}, B::Ball1{N}) where {N<:Real}\n",
    "    @assert length(x) == dim(B) \"a $(length(x))-dimensional vector is \" *\n",
    "        \"incompatible with a $(dim(B))-dimensional set\"\n",
    "    sum = mapreduce(abs, +, B.center .- x)\n",
    "    return _leq(sum, B.radius)\n",
    "end"
   ]
  },
  {
   "cell_type": "code",
   "execution_count": 8,
   "metadata": {},
   "outputs": [
    {
     "data": {
      "text/plain": [
       "_in_failfast_v4 (generic function with 1 method)"
      ]
     },
     "execution_count": 8,
     "metadata": {},
     "output_type": "execute_result"
    }
   ],
   "source": [
    "function _in_failfast_v4(x::AbstractVector{N}, B::Ball1{N}) where {N<:Real}\n",
    "    @assert length(x) == dim(B) \"a $(length(x))-dimensional vector is \" *\n",
    "        \"incompatible with a $(dim(B))-dimensional set\"\n",
    "    sum = zero(N)\n",
    "    @inbounds @simd for i in eachindex(x)\n",
    "        sum += abs(B.center[i] - x[i])\n",
    "    end\n",
    "    return _leq(sum, B.radius)\n",
    "end"
   ]
  },
  {
   "cell_type": "code",
   "execution_count": 26,
   "metadata": {},
   "outputs": [
    {
     "data": {
      "text/plain": [
       "_in_failfast_v5_true (generic function with 1 method)"
      ]
     },
     "execution_count": 26,
     "metadata": {},
     "output_type": "execute_result"
    }
   ],
   "source": [
    "#=\n",
    "function _in_failfast_v5(x::AbstractVector{N}, B::Ball1{N}, failfast::Bool=false) where {N<:Real}\n",
    "    @assert length(x) == dim(B) \"a $(length(x))-dimensional vector is \" *\n",
    "        \"incompatible with a $(dim(B))-dimensional set\"\n",
    "    sum = zero(N)\n",
    "    if failfast        \n",
    "        @inbounds @simd for i in eachindex(x)\n",
    "            sum += abs(B.center[i] - x[i])\n",
    "            !_leq(sum, B.radius) && return false\n",
    "        end\n",
    "    elseif failfast\n",
    "        @inbounds @simd for i in eachindex(x)\n",
    "            sum += abs(B.center[i] - x[i])\n",
    "        end\n",
    "    end\n",
    "    return _leq(sum, B.radius)\n",
    "end\n",
    "\n",
    "@inline function _in_failfast_v5_false(x::AbstractVector{N}, B::Ball1{N}, failfast::Bool=false) where {N<:Real}\n",
    "    @inbounds @simd for i in eachindex(x)\n",
    "        sum += abs(B.center[i] - x[i])\n",
    "    end\n",
    "    return sum\n",
    "end\n",
    "\n",
    "@inline function _in_failfast_v5_true(x::AbstractVector{N}, B::Ball1{N}, failfast::Bool=false) where {N<:Real}\n",
    "\n",
    "end\n",
    "=#"
   ]
  },
  {
   "cell_type": "code",
   "execution_count": 2,
   "metadata": {},
   "outputs": [
    {
     "name": "stderr",
     "output_type": "stream",
     "text": [
      "┌ Info: Precompiling LoopVectorization [bdcacae8-1622-11e9-2a5c-532679323890]\n",
      "└ @ Base loading.jl:1242\n"
     ]
    }
   ],
   "source": [
    "using LoopVectorization"
   ]
  },
  {
   "cell_type": "code",
   "execution_count": 18,
   "metadata": {},
   "outputs": [
    {
     "data": {
      "text/plain": [
       "_in_failfast_v6 (generic function with 1 method)"
      ]
     },
     "execution_count": 18,
     "metadata": {},
     "output_type": "execute_result"
    }
   ],
   "source": [
    "function _in_failfast_v6(x::AbstractVector{N}, B::Ball1{N}) where {N<:Real}\n",
    "    @assert length(x) == dim(B) \"a $(length(x))-dimensional vector is \" *\n",
    "        \"incompatible with a $(dim(B))-dimensional set\"\n",
    "    sum = zero(N)\n",
    "    c = B.center\n",
    "    @avx for i in eachindex(x)\n",
    "        sum += abs(c[i] - x[i])\n",
    "    end\n",
    "    return _leq(sum, B.radius)\n",
    "end"
   ]
  },
  {
   "cell_type": "code",
   "execution_count": 21,
   "metadata": {},
   "outputs": [
    {
     "name": "stdout",
     "output_type": "stream",
     "text": [
      "---\n",
      "  9.299 ns (0 allocations: 0 bytes)\n",
      "  14.429 ns (0 allocations: 0 bytes)\n",
      "#= In[21]:11 =# @btime(_in_failfast($(Expr(:$, :x)), $(Expr(:$, :B)), $(Expr(:$, true)))) = true\n",
      "  9.338 ns (0 allocations: 0 bytes)\n",
      "  12.964 ns (0 allocations: 0 bytes)\n",
      "  8.813 ns (0 allocations: 0 bytes)\n",
      "  34.471 ns (1 allocation: 160 bytes)\n",
      "  9.221 ns (0 allocations: 0 bytes)\n",
      "  9.610 ns (0 allocations: 0 bytes)\n",
      "---\n",
      "  9.306 ns (0 allocations: 0 bytes)\n",
      "  9.226 ns (0 allocations: 0 bytes)\n",
      "#= In[21]:11 =# @btime(_in_failfast($(Expr(:$, :x)), $(Expr(:$, :B)), $(Expr(:$, true)))) = false\n",
      "  15.793 ns (0 allocations: 0 bytes)\n",
      "  8.788 ns (0 allocations: 0 bytes)\n",
      "  14.068 ns (0 allocations: 0 bytes)\n",
      "  37.685 ns (1 allocation: 160 bytes)\n",
      "  15.034 ns (0 allocations: 0 bytes)\n",
      "  15.561 ns (0 allocations: 0 bytes)\n",
      "---\n",
      "  9.307 ns (0 allocations: 0 bytes)\n",
      "  17.523 ns (0 allocations: 0 bytes)\n",
      "#= In[21]:11 =# @btime(_in_failfast($(Expr(:$, :x)), $(Expr(:$, :B)), $(Expr(:$, true)))) = false\n",
      "  15.014 ns (0 allocations: 0 bytes)\n",
      "  16.513 ns (0 allocations: 0 bytes)\n",
      "  14.512 ns (0 allocations: 0 bytes)\n",
      "  37.825 ns (1 allocation: 160 bytes)\n",
      "  15.038 ns (0 allocations: 0 bytes)\n",
      "  15.545 ns (0 allocations: 0 bytes)\n"
     ]
    }
   ],
   "source": [
    "n = 10\n",
    "\n",
    "B = Ball1(zeros(n), 1.0)\n",
    "x_true = rand(n)*0.001\n",
    "x_false_best = vcat(2., rand(n-1)*0.001)\n",
    "x_false_worse = vcat(rand(n-1)*0.001, 2.)\n",
    "\n",
    "for x in [x_true, x_false_best, x_false_worse]\n",
    "    println(\"---\")\n",
    "    @btime in($x, $B)\n",
    "    @btime _in_failfast($x, $B, $true)\n",
    "    @btime _in_failfast($x, $B, $false)\n",
    "    @btime _in_failfast_v2($x, $B, $true)\n",
    "    @btime _in_failfast_v2($x, $B, $false)\n",
    "    @btime _in_failfast_v3($x, $B)\n",
    "    @btime _in_failfast_v4($x, $B)\n",
    "    #@btime _in_failfast_v5($x, $B, $true)\n",
    "    #@btime _in_failfast_v5($x, $B, $false)\n",
    "    @btime _in_failfast_v6($x, $B)\n",
    "end"
   ]
  },
  {
   "cell_type": "code",
   "execution_count": null,
   "metadata": {},
   "outputs": [],
   "source": []
  },
  {
   "cell_type": "markdown",
   "metadata": {},
   "source": [
    "## https://github.com/JuliaReach/LazySets.jl/pull/1880"
   ]
  },
  {
   "cell_type": "code",
   "execution_count": 8,
   "metadata": {},
   "outputs": [],
   "source": [
    "N = Float64"
   ]
  },
  {
   "cell_type": "code",
   "execution_count": 4,
   "metadata": {},
   "outputs": [
    {
     "data": {
      "text/plain": [
       "Hyperrectangle{Float64,Array{Float64,1},Array{Float64,1}}([1.0, 2.0, 3.0, 4.0, 5.0], [1.0, 0.0, 2.0, 0.0, 3.0])"
      ]
     },
     "execution_count": 4,
     "metadata": {},
     "output_type": "execute_result"
    }
   ],
   "source": [
    "h_flat = Hyperrectangle(N[1, 2, 3, 4, 5], N[1, 0, 2, 0, 3])"
   ]
  },
  {
   "cell_type": "code",
   "execution_count": 9,
   "metadata": {},
   "outputs": [
    {
     "data": {
      "text/plain": [
       "\u001b[32m\u001b[1mTest Passed\u001b[22m\u001b[39m"
      ]
     },
     "execution_count": 9,
     "metadata": {},
     "output_type": "execute_result"
    }
   ],
   "source": [
    "@test collect(generators(h_flat)) ==\n",
    "    [SingleEntryVector(1, 5, N(1)), SingleEntryVector(3, 5, N(2)),\n",
    "     SingleEntryVector(5, 5, N(3))]"
   ]
  },
  {
   "cell_type": "code",
   "execution_count": 10,
   "metadata": {},
   "outputs": [
    {
     "name": "stdout",
     "output_type": "stream",
     "text": [
      "\u001b[91m\u001b[1mTest Failed\u001b[22m\u001b[39m at \u001b[39m\u001b[1mIn[10]:1\u001b[22m\n",
      "  Expression: genmat(h_flat) == $(Expr(:typed_vcat, :N, :(1 0 0), :(0 0 0), :(0 2 0), :(0 0 0), :(0 0 3)))\n",
      "   Evaluated: \n",
      "  [1, 1]  =  1.0\n",
      "  [3, 3]  =  2.0\n",
      "  [5, 5]  =  3.0 == [1.0 0.0 0.0; 0.0 0.0 0.0; … ; 0.0 0.0 0.0; 0.0 0.0 3.0]\n"
     ]
    },
    {
     "ename": "Test.FallbackTestSetException",
     "evalue": "There was an error during testing",
     "output_type": "error",
     "traceback": [
      "There was an error during testing",
      "",
      "Stacktrace:",
      " [1] record(::Test.FallbackTestSet, ::Test.Fail) at /buildworker/worker/package_linux64/build/usr/share/julia/stdlib/v1.2/Test/src/Test.jl:737",
      " [2] do_test(::Test.Returned, ::Expr) at /buildworker/worker/package_linux64/build/usr/share/julia/stdlib/v1.2/Test/src/Test.jl:526",
      " [3] top-level scope at In[10]:1"
     ]
    }
   ],
   "source": [
    "@test genmat(h_flat) == N[1 0 0; 0 0 0; 0 2 0; 0 0 0; 0 0 3]"
   ]
  },
  {
   "cell_type": "code",
   "execution_count": 11,
   "metadata": {},
   "outputs": [
    {
     "data": {
      "text/plain": [
       "\u001b[32m\u001b[1mTest Passed\u001b[22m\u001b[39m"
      ]
     },
     "execution_count": 11,
     "metadata": {},
     "output_type": "execute_result"
    }
   ],
   "source": [
    "@test ngens(h_flat) == 3"
   ]
  },
  {
   "cell_type": "code",
   "execution_count": 12,
   "metadata": {},
   "outputs": [
    {
     "data": {
      "text/plain": [
       "5×5 SparseArrays.SparseMatrixCSC{Float64,Int64} with 3 stored entries:\n",
       "  [1, 1]  =  1.0\n",
       "  [3, 3]  =  2.0\n",
       "  [5, 5]  =  3.0"
      ]
     },
     "execution_count": 12,
     "metadata": {},
     "output_type": "execute_result"
    }
   ],
   "source": [
    "genmat(h_flat)"
   ]
  },
  {
   "cell_type": "markdown",
   "metadata": {},
   "source": [
    "## Faster constraints list of interval"
   ]
  },
  {
   "cell_type": "code",
   "execution_count": 2,
   "metadata": {},
   "outputs": [
    {
     "data": {
      "text/plain": [
       "Interval{Float64,IntervalArithmetic.Interval{Float64}}([0.34905, 0.837542])"
      ]
     },
     "execution_count": 2,
     "metadata": {},
     "output_type": "execute_result"
    }
   ],
   "source": [
    "x = rand(Interval)"
   ]
  },
  {
   "cell_type": "code",
   "execution_count": 3,
   "metadata": {},
   "outputs": [
    {
     "data": {
      "text/plain": [
       "\u001b[32m\u001b[1mTest Passed\u001b[22m\u001b[39m"
      ]
     },
     "execution_count": 3,
     "metadata": {},
     "output_type": "execute_result"
    }
   ],
   "source": [
    "import IntervalArithmetic\n",
    "\n",
    "N = Float64\n",
    "\n",
    "# random interval\n",
    "rand(Interval)\n",
    "\n",
    "# constructor from IntervalArithmetic.Interval\n",
    "x = Interval(IntervalArithmetic.Interval(N(0), N(1)))\n",
    "\n",
    "# constructor from a vector\n",
    "x = Interval(N[0, 1])\n",
    "\n",
    "# type-less constructor\n",
    "x = Interval(N(0), N(1))\n",
    "\n",
    "@test dim(x) == 1\n",
    "@test center(x) == N[0.5]\n",
    "@test min(x) == N(0) && max(x) == N(1)\n",
    "v = vertices_list(x)\n",
    "@test N[0] in v && N[1] in v\n",
    "# test interface method an_element and membership\n",
    "@test an_element(x) ∈ x\n",
    "# test containment\n",
    "@test x ⊆ x\n",
    "\n",
    "#x ⊆ N(0.2)*x\n",
    "#@which constraints_list(N(0.2)*x)\n",
    "#linear_map(hcat(N(0.2)...), x)\n",
    "#@test x ⊈ N(0.2) * x\n",
    "\n",
    "#=\n",
    "\n",
    "@test x ⊆ N(2) * x\n",
    "@test x ⊆ Interval(N(0), N(2))\n",
    "@test x ⊈ Interval(N(-1), N(0.5))\n",
    "=#"
   ]
  },
  {
   "cell_type": "code",
   "execution_count": 4,
   "metadata": {},
   "outputs": [
    {
     "data": {
      "text/html": [
       "constraints_list(H::<b>AbstractHyperrectangle{N}</b>)<i> where N<:Real</i> in LazySets at <a href=\"file:///home/mforets/.julia/dev/LazySets/src/Interfaces/AbstractHyperrectangle.jl\" target=\"_blank\">/home/mforets/.julia/dev/LazySets/src/Interfaces/AbstractHyperrectangle.jl:243</a>"
      ],
      "text/plain": [
       "constraints_list(H::AbstractHyperrectangle{N}) where N<:Real in LazySets at /home/mforets/.julia/dev/LazySets/src/Interfaces/AbstractHyperrectangle.jl:243"
      ]
     },
     "execution_count": 4,
     "metadata": {},
     "output_type": "execute_result"
    }
   ],
   "source": [
    "@which constraints_list(x)"
   ]
  },
  {
   "cell_type": "code",
   "execution_count": 65,
   "metadata": {},
   "outputs": [
    {
     "data": {
      "text/plain": [
       "constraints_list2 (generic function with 3 methods)"
      ]
     },
     "execution_count": 65,
     "metadata": {},
     "output_type": "execute_result"
    }
   ],
   "source": [
    "function constraints_list2(x::Interval{N}) where {N<:Real}\n",
    "    constraints = Vector{LinearConstraint{N, SingleEntryVector{N}}}(undef, 2)\n",
    "    e₁ = SingleEntryVector(1, 1, one(N))\n",
    "    constraints[1] = HalfSpace(e₁, max(x))\n",
    "    constraints[2] = HalfSpace(-e₁, -min(x))\n",
    "    return constraints\n",
    "end\n",
    "\n",
    "function constraints_list2(lm::LinearMap{N, IN}) where {N<:Real, IN<:Interval{N}}\n",
    "    constraints = Vector{LinearConstraint{N, SingleEntryVector{N}}}(undef, 2)\n",
    "    y = linear_map(lm.M[1, 1] * lm.X.dat) # existe?\n",
    "    e₁ = SingleEntryVector(1, 1, one(N))\n",
    "    constraints[1] = HalfSpace(e₁, max(y))\n",
    "    constraints[2] = HalfSpace(-e₁, -min(y))\n",
    "    return constraints\n",
    "end"
   ]
  },
  {
   "cell_type": "code",
   "execution_count": 60,
   "metadata": {},
   "outputs": [
    {
     "data": {
      "text/plain": [
       "Interval{Float64,IntervalArithmetic.Interval{Float64}}([-0.218559, 0.404922])"
      ]
     },
     "execution_count": 60,
     "metadata": {},
     "output_type": "execute_result"
    }
   ],
   "source": [
    "N = Float64\n",
    "\n",
    "M = hcat(N(0.2)...)\n",
    "x = rand(Interval)"
   ]
  },
  {
   "cell_type": "code",
   "execution_count": 82,
   "metadata": {},
   "outputs": [
    {
     "name": "stdout",
     "output_type": "stream",
     "text": [
      "  291.309 ns (12 allocations: 976 bytes)\n"
     ]
    },
    {
     "data": {
      "text/plain": [
       "Zonotope{Float64}([0.011293052659236686], [0.09570771886516959])"
      ]
     },
     "execution_count": 82,
     "metadata": {},
     "output_type": "execute_result"
    }
   ],
   "source": [
    "@btime linear_map($M, $x)"
   ]
  },
  {
   "cell_type": "code",
   "execution_count": 63,
   "metadata": {},
   "outputs": [
    {
     "name": "stdout",
     "output_type": "stream",
     "text": [
      "  34.973 ns (1 allocation: 144 bytes)\n"
     ]
    },
    {
     "data": {
      "text/plain": [
       "2-element Array{HalfSpace{Float64,SingleEntryVector{Float64}},1}:\n",
       " HalfSpace{Float64,SingleEntryVector{Float64}}([1.0], 0.4049218496653462)  \n",
       " HalfSpace{Float64,SingleEntryVector{Float64}}([-1.0], 0.21855808387635195)"
      ]
     },
     "execution_count": 63,
     "metadata": {},
     "output_type": "execute_result"
    }
   ],
   "source": [
    "lm = M * x\n",
    "@btime constraints_list($x)"
   ]
  },
  {
   "cell_type": "code",
   "execution_count": null,
   "metadata": {},
   "outputs": [],
   "source": [
    "lm = M * x\n",
    "@btime constraints_list2($lm)"
   ]
  },
  {
   "cell_type": "code",
   "execution_count": 81,
   "metadata": {},
   "outputs": [
    {
     "data": {
      "text/plain": [
       "2-element Array{Array{Float64,1},1}:\n",
       " [0.19488184317425938]\n",
       " [0.18018079474341364]"
      ]
     },
     "execution_count": 81,
     "metadata": {},
     "output_type": "execute_result"
    }
   ],
   "source": [
    "vertices_list(linear_map(M, x))"
   ]
  },
  {
   "cell_type": "code",
   "execution_count": 79,
   "metadata": {},
   "outputs": [
    {
     "name": "stdout",
     "output_type": "stream",
     "text": [
      "  12.956 ns (0 allocations: 0 bytes)\n"
     ]
    },
    {
     "data": {
      "text/plain": [
       "Interval{Float64,IntervalArithmetic.Interval{Float64}}([0.18018, 0.194882])"
      ]
     },
     "execution_count": 79,
     "metadata": {},
     "output_type": "execute_result"
    }
   ],
   "source": [
    "@btime linear_map2($M, $x)"
   ]
  },
  {
   "cell_type": "code",
   "execution_count": 76,
   "metadata": {},
   "outputs": [
    {
     "data": {
      "text/plain": [
       "linear_map2 (generic function with 2 methods)"
      ]
     },
     "execution_count": 76,
     "metadata": {},
     "output_type": "execute_result"
    }
   ],
   "source": [
    "function linear_map2(M::AbstractMatrix{N}, x::Interval{N}) where {N<:Real}\n",
    "    @assert size(M) == (1, 1) \"a linear map of size $(size(M)) \" *\n",
    "        \"cannot be applied to an interval\"\n",
    "\n",
    "    return Interval(M[1] * x.dat)\n",
    "end\n",
    "\n",
    "function linear_map2(α::Real, x::Interval{N}) where {N<:Real}\n",
    "    return Interval(α * x.dat)\n",
    "end"
   ]
  },
  {
   "cell_type": "code",
   "execution_count": 77,
   "metadata": {},
   "outputs": [
    {
     "data": {
      "text/plain": [
       "2-element Array{HalfSpace{Float64,SingleEntryVector{Float64}},1}:\n",
       " HalfSpace{Float64,SingleEntryVector{Float64}}([1.0], 0.1948818431742594)  \n",
       " HalfSpace{Float64,SingleEntryVector{Float64}}([-1.0], -0.1801807947434136)"
      ]
     },
     "execution_count": 77,
     "metadata": {},
     "output_type": "execute_result"
    }
   ],
   "source": [
    "constraints_list2(N(0.2) * x)"
   ]
  },
  {
   "cell_type": "code",
   "execution_count": 43,
   "metadata": {},
   "outputs": [
    {
     "data": {
      "text/plain": [
       "1-element SingleEntryVector{Float64}:\n",
       " 1.0"
      ]
     },
     "execution_count": 43,
     "metadata": {},
     "output_type": "execute_result"
    }
   ],
   "source": [
    "linear_map()"
   ]
  },
  {
   "cell_type": "code",
   "execution_count": 81,
   "metadata": {},
   "outputs": [
    {
     "name": "stdout",
     "output_type": "stream",
     "text": [
      "  46.839 ns (1 allocation: 144 bytes)\n"
     ]
    },
    {
     "data": {
      "text/plain": [
       "2-element Array{HalfSpace{Float64,SingleEntryVector{Float64}},1}:\n",
       " HalfSpace{Float64,SingleEntryVector{Float64}}([1.0], 0.08098436993306926)\n",
       " HalfSpace{Float64,SingleEntryVector{Float64}}([-1.0], 0.0437116167752704)"
      ]
     },
     "execution_count": 81,
     "metadata": {},
     "output_type": "execute_result"
    }
   ],
   "source": [
    "@btime constraints_list($lm)"
   ]
  },
  {
   "cell_type": "code",
   "execution_count": 77,
   "metadata": {},
   "outputs": [
    {
     "name": "stdout",
     "output_type": "stream",
     "text": [
      "  47.073 ns (1 allocation: 144 bytes)\n"
     ]
    },
    {
     "data": {
      "text/plain": [
       "2-element Array{HalfSpace{Float64,SingleEntryVector{Float64}},1}:\n",
       " HalfSpace{Float64,SingleEntryVector{Float64}}([1.0], 0.08098436993306926)\n",
       " HalfSpace{Float64,SingleEntryVector{Float64}}([-1.0], 0.0437116167752704)"
      ]
     },
     "execution_count": 77,
     "metadata": {},
     "output_type": "execute_result"
    }
   ],
   "source": [
    "@btime constraints_list($lm)"
   ]
  },
  {
   "cell_type": "code",
   "execution_count": 40,
   "metadata": {},
   "outputs": [
    {
     "data": {
      "text/plain": [
       "Interval{Float64,IntervalArithmetic.Interval{Float64}}([0.900903, 0.97441])"
      ]
     },
     "execution_count": 40,
     "metadata": {},
     "output_type": "execute_result"
    }
   ],
   "source": [
    "x = LazySets.rand(Interval)"
   ]
  },
  {
   "cell_type": "code",
   "execution_count": 41,
   "metadata": {},
   "outputs": [
    {
     "name": "stdout",
     "output_type": "stream",
     "text": [
      "  99.178 ns (4 allocations: 432 bytes)\n"
     ]
    },
    {
     "data": {
      "text/plain": [
       "2-element Array{HalfSpace{Float64,SingleEntryVector{Float64}},1}:\n",
       " HalfSpace{Float64,SingleEntryVector{Float64}}([1.0], 0.9744092158712969)  \n",
       " HalfSpace{Float64,SingleEntryVector{Float64}}([-1.0], -0.9009039737170681)"
      ]
     },
     "execution_count": 41,
     "metadata": {},
     "output_type": "execute_result"
    }
   ],
   "source": [
    "@btime constraints_list($x)"
   ]
  },
  {
   "cell_type": "code",
   "execution_count": 46,
   "metadata": {},
   "outputs": [
    {
     "name": "stdout",
     "output_type": "stream",
     "text": [
      "  35.006 ns (1 allocation: 144 bytes)\n"
     ]
    },
    {
     "data": {
      "text/plain": [
       "2-element Array{HalfSpace{Float64,SingleEntryVector{Float64}},1}:\n",
       " HalfSpace{Float64,SingleEntryVector{Float64}}([1.0], 0.9744092158712969)  \n",
       " HalfSpace{Float64,SingleEntryVector{Float64}}([-1.0], -0.9009039737170681)"
      ]
     },
     "execution_count": 46,
     "metadata": {},
     "output_type": "execute_result"
    }
   ],
   "source": [
    "@btime constraints_list2($x)"
   ]
  },
  {
   "cell_type": "markdown",
   "metadata": {},
   "source": [
    "## Some interval specializations (#1902, #1903, #1904, #1905)"
   ]
  },
  {
   "cell_type": "code",
   "execution_count": 1,
   "metadata": {},
   "outputs": [
    {
     "name": "stderr",
     "output_type": "stream",
     "text": [
      "┌ Info: Recompiling stale cache file /home/mforets/.julia/compiled/v1.2/LazySets/NjrGc.ji for LazySets [b4f0291d-fe17-52bc-9479-3d1a343d9043]\n",
      "└ @ Base loading.jl:1240\n"
     ]
    }
   ],
   "source": [
    "using BenchmarkTools\n",
    "using Revise, LazySets"
   ]
  },
  {
   "cell_type": "code",
   "execution_count": 2,
   "metadata": {},
   "outputs": [
    {
     "data": {
      "text/plain": [
       "Interval{Float64,IntervalArithmetic.Interval{Float64}}([0.191275, 0.39985])"
      ]
     },
     "execution_count": 2,
     "metadata": {},
     "output_type": "execute_result"
    }
   ],
   "source": [
    "x = rand(Interval)"
   ]
  },
  {
   "cell_type": "code",
   "execution_count": 3,
   "metadata": {},
   "outputs": [
    {
     "data": {
      "text/plain": [
       "1×1 Array{Float64,2}:\n",
       " 0.2"
      ]
     },
     "execution_count": 3,
     "metadata": {},
     "output_type": "execute_result"
    }
   ],
   "source": [
    "M = hcat(0.2...)"
   ]
  },
  {
   "cell_type": "code",
   "execution_count": 5,
   "metadata": {},
   "outputs": [
    {
     "name": "stdout",
     "output_type": "stream",
     "text": [
      "  49.486 ns (1 allocation: 144 bytes)\n"
     ]
    },
    {
     "data": {
      "text/plain": [
       "2-element Array{HalfSpace{Float64,LazySets.Arrays.SingleEntryVector{Float64}},1}:\n",
       " HalfSpace{Float64,LazySets.Arrays.SingleEntryVector{Float64}}([1.0], 0.07996995699017853)   \n",
       " HalfSpace{Float64,LazySets.Arrays.SingleEntryVector{Float64}}([-1.0], -0.038255126602414216)"
      ]
     },
     "execution_count": 5,
     "metadata": {},
     "output_type": "execute_result"
    }
   ],
   "source": [
    "lm = M * x\n",
    "@btime constraints_list($lm)"
   ]
  },
  {
   "cell_type": "code",
   "execution_count": 4,
   "metadata": {},
   "outputs": [
    {
     "name": "stdout",
     "output_type": "stream",
     "text": [
      "  13.203 ns (0 allocations: 0 bytes)\n"
     ]
    },
    {
     "data": {
      "text/plain": [
       "Interval{Float64,IntervalArithmetic.Interval{Float64}}([0.0382551, 0.07997])"
      ]
     },
     "execution_count": 4,
     "metadata": {},
     "output_type": "execute_result"
    }
   ],
   "source": [
    "@btime linear_map($M, $x)"
   ]
  },
  {
   "cell_type": "code",
   "execution_count": 17,
   "metadata": {},
   "outputs": [
    {
     "data": {
      "text/plain": [
       "1×1 Array{Float64,2}:\n",
       " 0.8369266396792854"
      ]
     },
     "execution_count": 17,
     "metadata": {},
     "output_type": "execute_result"
    }
   ],
   "source": [
    "M = rand(1, 1)"
   ]
  },
  {
   "cell_type": "code",
   "execution_count": 20,
   "metadata": {},
   "outputs": [
    {
     "name": "stdout",
     "output_type": "stream",
     "text": [
      "  9.291 ns (0 allocations: 0 bytes)\n"
     ]
    },
    {
     "data": {
      "text/plain": [
       "Interval{Float64,IntervalArithmetic.Interval{Float64}}([0.160083, 0.334645])"
      ]
     },
     "execution_count": 20,
     "metadata": {},
     "output_type": "execute_result"
    }
   ],
   "source": [
    "@btime LazySets._linear_map_interval($M, $x)"
   ]
  },
  {
   "cell_type": "code",
   "execution_count": 21,
   "metadata": {},
   "outputs": [
    {
     "name": "stdout",
     "output_type": "stream",
     "text": [
      "  13.368 ns (0 allocations: 0 bytes)\n"
     ]
    },
    {
     "data": {
      "text/plain": [
       "Interval{Float64,IntervalArithmetic.Interval{Float64}}([0.160083, 0.334645])"
      ]
     },
     "execution_count": 21,
     "metadata": {},
     "output_type": "execute_result"
    }
   ],
   "source": [
    "@btime LazySets.linear_map($M, $x)"
   ]
  },
  {
   "cell_type": "code",
   "execution_count": 13,
   "metadata": {},
   "outputs": [
    {
     "name": "stdout",
     "output_type": "stream",
     "text": [
      "Variables\n",
      "  #self#\u001b[36m::Core.Compiler.Const(LazySets._linear_map_interval, false)\u001b[39m\n",
      "  M\u001b[36m::Array{Float64,2}\u001b[39m\n",
      "  x\u001b[36m::Interval{Float64,IntervalArithmetic.Interval{Float64}}\u001b[39m\n",
      "  α\u001b[36m::Float64\u001b[39m\n",
      "\n",
      "Body\u001b[36m::Interval{Float64,IntervalArithmetic.Interval{Float64}}\u001b[39m\n",
      "\u001b[90m1 ─\u001b[39m      (α = Base.getindex(M, 1, 1))\n",
      "\u001b[90m│  \u001b[39m %2 = α\u001b[36m::Float64\u001b[39m\n",
      "\u001b[90m│  \u001b[39m %3 = Base.getproperty(x, :dat)\u001b[36m::IntervalArithmetic.Interval{Float64}\u001b[39m\n",
      "\u001b[90m│  \u001b[39m %4 = (%2 * %3)\u001b[36m::IntervalArithmetic.Interval{Float64}\u001b[39m\n",
      "\u001b[90m│  \u001b[39m %5 = LazySets.Interval(%4)\u001b[36m::Interval{Float64,IntervalArithmetic.Interval{Float64}}\u001b[39m\n",
      "\u001b[90m└──\u001b[39m      return %5\n"
     ]
    }
   ],
   "source": [
    "@code_warntype LazySets._linear_map_interval(M, x)"
   ]
  },
  {
   "cell_type": "code",
   "execution_count": 18,
   "metadata": {
    "scrolled": true
   },
   "outputs": [
    {
     "data": {
      "text/plain": [
       "linear_map2 (generic function with 1 method)"
      ]
     },
     "execution_count": 18,
     "metadata": {},
     "output_type": "execute_result"
    }
   ],
   "source": [
    "function linear_map2(M::AbstractMatrix{N}, x::Interval{N}) where {N<:Real}\n",
    "    @assert size(M) == (1, 1) \"a linear map of size $(size(M)) \" *\n",
    "        \"cannot be applied to an interval\"\n",
    "    α = M[1, 1]\n",
    "    return Interval(α * x.dat)\n",
    "end"
   ]
  },
  {
   "cell_type": "code",
   "execution_count": null,
   "metadata": {},
   "outputs": [],
   "source": [
    "@btime linear_map($M, $x)"
   ]
  },
  {
   "cell_type": "code",
   "execution_count": 22,
   "metadata": {},
   "outputs": [
    {
     "data": {
      "text/html": [
       "linear_map(M::<b>AbstractArray{N,2}</b>, Z::<b>AbstractZonotope{N}</b>)<i> where N<:Real</i> in LazySets at <a href=\"file:///home/mforets/.julia/dev/LazySets/src/Interfaces/AbstractZonotope.jl\" target=\"_blank\">/home/mforets/.julia/dev/LazySets/src/Interfaces/AbstractZonotope.jl:286</a>"
      ],
      "text/plain": [
       "linear_map(M::AbstractArray{N,2}, Z::AbstractZonotope{N}) where N<:Real in LazySets at /home/mforets/.julia/dev/LazySets/src/Interfaces/AbstractZonotope.jl:286"
      ]
     },
     "execution_count": 22,
     "metadata": {},
     "output_type": "execute_result"
    }
   ],
   "source": [
    "@which linear_map(M, x)"
   ]
  },
  {
   "cell_type": "code",
   "execution_count": 19,
   "metadata": {},
   "outputs": [
    {
     "name": "stdout",
     "output_type": "stream",
     "text": [
      "  13.365 ns (0 allocations: 0 bytes)\n"
     ]
    },
    {
     "data": {
      "text/plain": [
       "Interval{Float64,IntervalArithmetic.Interval{Float64}}([0.0997541, 0.200817])"
      ]
     },
     "execution_count": 19,
     "metadata": {},
     "output_type": "execute_result"
    }
   ],
   "source": [
    "@btime linear_map2($M, $x)"
   ]
  },
  {
   "cell_type": "code",
   "execution_count": 20,
   "metadata": {},
   "outputs": [
    {
     "data": {
      "text/plain": [
       "0.23076923076923078"
      ]
     },
     "execution_count": 20,
     "metadata": {},
     "output_type": "execute_result"
    }
   ],
   "source": [
    "(13 - 10) / 13."
   ]
  },
  {
   "cell_type": "code",
   "execution_count": 42,
   "metadata": {},
   "outputs": [
    {
     "data": {
      "text/plain": [
       "1×1 Array{Float64,2}:\n",
       " 0.25265552355874943"
      ]
     },
     "execution_count": 42,
     "metadata": {},
     "output_type": "execute_result"
    }
   ],
   "source": [
    "genmat(x)"
   ]
  },
  {
   "cell_type": "code",
   "execution_count": 184,
   "metadata": {},
   "outputs": [
    {
     "data": {
      "text/plain": [
       "linear_map4 (generic function with 1 method)"
      ]
     },
     "execution_count": 184,
     "metadata": {},
     "output_type": "execute_result"
    }
   ],
   "source": [
    "import IntervalArithmetic\n",
    "\n",
    "function linear_map3(M::AbstractMatrix{N}, x::Interval{N}) where {N<:Real}\n",
    "    @assert size(M, 2) == 1 \"a linear map of size $(size(M)) \" *\n",
    "        \"cannot be applied to an interval\"\n",
    "    nout = size(M, 1)\n",
    "    if nout == 1\n",
    "        α = M[1, 1]\n",
    "        return Interval(α * x.dat)\n",
    "    else\n",
    "        cx = IntervalArithmetic.mid(x.dat)\n",
    "        gx = cx - min(x)\n",
    "        c = Vector{N}(undef, nout)\n",
    "        gen = Matrix{N}(undef, nout, 1)\n",
    "        @inbounds for i in 1:nout\n",
    "            c[i] = M[i, 1] * cx\n",
    "            gen[i] = M[i, 1] * gx\n",
    "        end\n",
    "        return Zonotope(c, gen, remove_zero_generators=false)\n",
    "    end\n",
    "end\n",
    "\n",
    "function linear_map4(M::AbstractMatrix{N}, x::Interval{N}) where {N<:Real}\n",
    "    @assert size(M, 2) == 1 \"a linear map of size $(size(M)) \" *\n",
    "        \"cannot be applied to an interval\"\n",
    "    nout = size(M, 1)\n",
    "    if nout == 1\n",
    "        α = M[1, 1]\n",
    "        return Interval(α * x.dat)\n",
    "    else\n",
    "        cx = IntervalArithmetic.mid(x.dat)\n",
    "        gx = cx - min(x)\n",
    "        c = M[:, 1]\n",
    "        gen = copy(M)\n",
    "        scal!(nout, cx, c, 1)\n",
    "        scal!(nout, gx, gen, nout)\n",
    "        return Zonotope(c, gen, remove_zero_generators=false)\n",
    "    end\n",
    "end"
   ]
  },
  {
   "cell_type": "code",
   "execution_count": 182,
   "metadata": {},
   "outputs": [
    {
     "data": {
      "text/plain": [
       "(1, 3)"
      ]
     },
     "execution_count": 182,
     "metadata": {},
     "output_type": "execute_result"
    }
   ],
   "source": [
    "M = rand(3, 1)\n",
    "strides(M)"
   ]
  },
  {
   "cell_type": "code",
   "execution_count": null,
   "metadata": {},
   "outputs": [],
   "source": [
    "scal!(n, a, X, incx)"
   ]
  },
  {
   "cell_type": "code",
   "execution_count": 178,
   "metadata": {},
   "outputs": [],
   "source": [
    "using LinearAlgebra.BLAS"
   ]
  },
  {
   "cell_type": "code",
   "execution_count": 180,
   "metadata": {},
   "outputs": [
    {
     "name": "stdout",
     "output_type": "stream",
     "text": [
      "search: \u001b[0m\u001b[1ms\u001b[22m\u001b[0m\u001b[1mc\u001b[22m\u001b[0m\u001b[1ma\u001b[22m\u001b[0m\u001b[1ml\u001b[22m\u001b[0m\u001b[1m!\u001b[22m \u001b[0m\u001b[1ms\u001b[22m\u001b[0m\u001b[1mc\u001b[22m\u001b[0m\u001b[1ma\u001b[22m\u001b[0m\u001b[1ml\u001b[22me \u001b[0m\u001b[1ms\u001b[22m\u001b[0m\u001b[1mc\u001b[22m\u001b[0m\u001b[1ma\u001b[22m\u001b[0m\u001b[1ml\u001b[22m Uniform\u001b[0m\u001b[1mS\u001b[22m\u001b[0m\u001b[1mc\u001b[22m\u001b[0m\u001b[1ma\u001b[22m\u001b[0m\u001b[1ml\u001b[22ming @\u001b[0m\u001b[1ms\u001b[22mpe\u001b[0m\u001b[1mc\u001b[22mi\u001b[0m\u001b[1ma\u001b[22m\u001b[0m\u001b[1ml\u001b[22mize @no\u001b[0m\u001b[1ms\u001b[22mpe\u001b[0m\u001b[1mc\u001b[22mi\u001b[0m\u001b[1ma\u001b[22m\u001b[0m\u001b[1ml\u001b[22mize\n",
      "\n"
     ]
    },
    {
     "data": {
      "text/latex": [
       "\\begin{verbatim}\n",
       "scal!(n, a, X, incx)\n",
       "\\end{verbatim}\n",
       "Overwrite \\texttt{X} with \\texttt{a*X} for the first \\texttt{n} elements of array \\texttt{X} with stride \\texttt{incx}. Returns \\texttt{X}.\n",
       "\n"
      ],
      "text/markdown": [
       "```\n",
       "scal!(n, a, X, incx)\n",
       "```\n",
       "\n",
       "Overwrite `X` with `a*X` for the first `n` elements of array `X` with stride `incx`. Returns `X`.\n"
      ],
      "text/plain": [
       "\u001b[36m  scal!(n, a, X, incx)\u001b[39m\n",
       "\n",
       "  Overwrite \u001b[36mX\u001b[39m with \u001b[36ma*X\u001b[39m for the first \u001b[36mn\u001b[39m elements of array \u001b[36mX\u001b[39m with stride \u001b[36mincx\u001b[39m.\n",
       "  Returns \u001b[36mX\u001b[39m."
      ]
     },
     "execution_count": 180,
     "metadata": {},
     "output_type": "execute_result"
    }
   ],
   "source": [
    "scal!(, cx, )"
   ]
  },
  {
   "cell_type": "code",
   "execution_count": 93,
   "metadata": {},
   "outputs": [
    {
     "data": {
      "text/plain": [
       "1-element Array{Float64,1}:\n",
       " 0.4510716455013524"
      ]
     },
     "execution_count": 93,
     "metadata": {},
     "output_type": "execute_result"
    }
   ],
   "source": [
    "(high(x) - low(x))/2"
   ]
  },
  {
   "cell_type": "code",
   "execution_count": 51,
   "metadata": {},
   "outputs": [
    {
     "data": {
      "text/plain": [
       "2×2 Array{Float64,2}:\n",
       " 0.307817  0.023415\n",
       " 0.941367  0.352579"
      ]
     },
     "execution_count": 51,
     "metadata": {},
     "output_type": "execute_result"
    }
   ],
   "source": [
    "M = rand(2, 2)"
   ]
  },
  {
   "cell_type": "code",
   "execution_count": 54,
   "metadata": {},
   "outputs": [
    {
     "data": {
      "text/plain": [
       "2×2 Array{Float64,2}:\n",
       " 0.615634  0.0468301\n",
       " 1.88273   0.705159 "
      ]
     },
     "execution_count": 54,
     "metadata": {},
     "output_type": "execute_result"
    }
   ],
   "source": [
    "M .* 2.0"
   ]
  },
  {
   "cell_type": "code",
   "execution_count": 148,
   "metadata": {},
   "outputs": [
    {
     "data": {
      "text/plain": [
       "(1, 5)"
      ]
     },
     "execution_count": 148,
     "metadata": {},
     "output_type": "execute_result"
    }
   ],
   "source": [
    "A = fill(1, (5, 1));\n",
    "strides(A)"
   ]
  },
  {
   "cell_type": "code",
   "execution_count": 58,
   "metadata": {},
   "outputs": [
    {
     "name": "stdout",
     "output_type": "stream",
     "text": [
      "  0.016 ns (0 allocations: 0 bytes)\n"
     ]
    },
    {
     "data": {
      "text/plain": [
       "Interval{Float64,IntervalArithmetic.Interval{Float64}}([-0.0743651, 0.0150274])"
      ]
     },
     "execution_count": 58,
     "metadata": {},
     "output_type": "execute_result"
    }
   ],
   "source": [
    "α = 0.2\n",
    "@btime linear_map2($α, $x)"
   ]
  },
  {
   "cell_type": "code",
   "execution_count": 174,
   "metadata": {},
   "outputs": [
    {
     "name": "stdout",
     "output_type": "stream",
     "text": [
      "  84.611 ns (3 allocations: 256 bytes)\n"
     ]
    },
    {
     "data": {
      "text/plain": [
       "Zonotope{Float64}([-0.058094962263273306, -0.15356772174908628, -0.05060785596912751], [0.16791726216600072; 0.44387104128439536; 0.1462765838441631])"
      ]
     },
     "execution_count": 174,
     "metadata": {},
     "output_type": "execute_result"
    }
   ],
   "source": [
    "M = rand(3, 1)\n",
    "@btime linear_map3($M, $x)"
   ]
  },
  {
   "cell_type": "code",
   "execution_count": null,
   "metadata": {},
   "outputs": [],
   "source": [
    "M = rand(3, 1)\n",
    "@btime linear_map4($M, $x)"
   ]
  },
  {
   "cell_type": "code",
   "execution_count": 64,
   "metadata": {},
   "outputs": [],
   "source": [
    "xarray = [rand(Interval) for _ in 1:1000]\n",
    "Marray = [rand(1, 1) for _ in 1:1000];"
   ]
  },
  {
   "cell_type": "code",
   "execution_count": 60,
   "metadata": {},
   "outputs": [
    {
     "data": {
      "text/plain": [
       "Interval{Float64,IntervalArithmetic.Interval{Float64}}"
      ]
     },
     "execution_count": 60,
     "metadata": {},
     "output_type": "execute_result"
    }
   ],
   "source": [
    "giybeltype(xarray)\n",
    "\n",
    "mmmmmm"
   ]
  },
  {
   "cell_type": "code",
   "execution_count": 136,
   "metadata": {},
   "outputs": [
    {
     "data": {
      "text/plain": [
       "ftest3 (generic function with 1 method)"
      ]
     },
     "execution_count": 136,
     "metadata": {},
     "output_type": "execute_result"
    }
   ],
   "source": [
    "function ftest2(xarray, Marray)\n",
    "    m = length(xarray)\n",
    "    out = Vector{eltype(xarray)}(undef, m)\n",
    "    for i in 1:m\n",
    "        out[i] = linear_map2(Marray[i], xarray[i])\n",
    "    end\n",
    "    return out\n",
    "end\n",
    "\n",
    "function ftest3(xarray, Marray)\n",
    "    m = length(xarray)\n",
    "    out = Vector{eltype(xarray)}(undef, m)\n",
    "    for i in 1:m\n",
    "        out[i] = linear_map3(Marray[i], xarray[i])\n",
    "    end\n",
    "    return out\n",
    "end"
   ]
  },
  {
   "cell_type": "code",
   "execution_count": 137,
   "metadata": {},
   "outputs": [
    {
     "name": "stdout",
     "output_type": "stream",
     "text": [
      "  14.762 μs (1 allocation: 15.75 KiB)\n"
     ]
    }
   ],
   "source": [
    "@btime ftest2($xarray, $Marray);"
   ]
  },
  {
   "cell_type": "code",
   "execution_count": 138,
   "metadata": {},
   "outputs": [
    {
     "name": "stdout",
     "output_type": "stream",
     "text": [
      "  15.742 μs (1 allocation: 15.75 KiB)\n"
     ]
    }
   ],
   "source": [
    "@btime ftest3($xarray, $Marray);"
   ]
  },
  {
   "cell_type": "code",
   "execution_count": 133,
   "metadata": {},
   "outputs": [
    {
     "data": {
      "text/plain": [
       "3×1 Array{Float64,2}:\n",
       " 0.19694858201512666\n",
       " 0.643213909622034  \n",
       " 0.9632750616502088 "
      ]
     },
     "execution_count": 133,
     "metadata": {},
     "output_type": "execute_result"
    }
   ],
   "source": [
    "M = rand(3, 1)"
   ]
  },
  {
   "cell_type": "code",
   "execution_count": 135,
   "metadata": {},
   "outputs": [
    {
     "name": "stdout",
     "output_type": "stream",
     "text": [
      "Variables\n",
      "  #self#\u001b[36m::Core.Compiler.Const(linear_map2, false)\u001b[39m\n",
      "  M\u001b[36m::Array{Float64,2}\u001b[39m\n",
      "  x\u001b[36m::Interval{Float64,IntervalArithmetic.Interval{Float64}}\u001b[39m\n",
      "  α\u001b[36m::Float64\u001b[39m\n",
      "\n",
      "Body\u001b[36m::Interval{Float64,IntervalArithmetic.Interval{Float64}}\u001b[39m\n",
      "\u001b[90m1 ─\u001b[39m       Core.NewvarNode(:(α))\n",
      "\u001b[90m│  \u001b[39m %2  = Main.size(M)\u001b[36m::Tuple{Int64,Int64}\u001b[39m\n",
      "\u001b[90m│  \u001b[39m %3  = Core.tuple(1, 1)\u001b[36m::Core.Compiler.Const((1, 1), false)\u001b[39m\n",
      "\u001b[90m│  \u001b[39m %4  = (%2 == %3)\u001b[36m::Bool\u001b[39m\n",
      "\u001b[90m└──\u001b[39m       goto #3 if not %4\n",
      "\u001b[90m2 ─\u001b[39m       goto #4\n",
      "\u001b[90m3 ─\u001b[39m %7  = Base.getproperty(Base.Main, :Base)\u001b[91m\u001b[1m::Any\u001b[22m\u001b[39m\n",
      "\u001b[90m│  \u001b[39m %8  = Base.getproperty(%7, :string)\u001b[91m\u001b[1m::Any\u001b[22m\u001b[39m\n",
      "\u001b[90m│  \u001b[39m %9  = Main.size(M)\u001b[36m::Tuple{Int64,Int64}\u001b[39m\n",
      "\u001b[90m│  \u001b[39m %10 = Base.string(\"a linear map of size \", %9, \" \")\u001b[36m::String\u001b[39m\n",
      "\u001b[90m│  \u001b[39m %11 = (%10 * \"cannot be applied to an interval\")\u001b[36m::String\u001b[39m\n",
      "\u001b[90m│  \u001b[39m %12 = (%8)(%11)\u001b[91m\u001b[1m::Any\u001b[22m\u001b[39m\n",
      "\u001b[90m│  \u001b[39m %13 = Base.AssertionError(%12)\u001b[36m::AssertionError\u001b[39m\n",
      "\u001b[90m└──\u001b[39m       Base.throw(%13)\n",
      "\u001b[90m4 ┄\u001b[39m       (α = Base.getindex(M, 1, 1))\n",
      "\u001b[90m│  \u001b[39m %16 = α\u001b[36m::Float64\u001b[39m\n",
      "\u001b[90m│  \u001b[39m %17 = Base.getproperty(x, :dat)\u001b[36m::IntervalArithmetic.Interval{Float64}\u001b[39m\n",
      "\u001b[90m│  \u001b[39m %18 = (%16 * %17)\u001b[36m::IntervalArithmetic.Interval{Float64}\u001b[39m\n",
      "\u001b[90m│  \u001b[39m %19 = Main.Interval(%18)\u001b[36m::Interval{Float64,IntervalArithmetic.Interval{Float64}}\u001b[39m\n",
      "\u001b[90m└──\u001b[39m       return %19\n"
     ]
    }
   ],
   "source": [
    "@code_warntype linear_map2(M, x)"
   ]
  },
  {
   "cell_type": "code",
   "execution_count": 88,
   "metadata": {},
   "outputs": [
    {
     "name": "stdout",
     "output_type": "stream",
     "text": [
      "Variables\n",
      "  #self#\u001b[36m::Core.Compiler.Const(LazySets.genmat, false)\u001b[39m\n",
      "  H\u001b[36m::Interval{Float64,IntervalArithmetic.Interval{Float64}}\u001b[39m\n",
      "\n",
      "Body\u001b[91m\u001b[1m::Any\u001b[22m\u001b[39m\n",
      "\u001b[90m1 ─\u001b[39m %1 = LazySets.genmat_fallback(H)\u001b[91m\u001b[1m::Any\u001b[22m\u001b[39m\n",
      "\u001b[90m└──\u001b[39m      return %1\n"
     ]
    }
   ],
   "source": [
    "x = rand(Interval)\n",
    "\n",
    "@code_warntype genmat(x)"
   ]
  },
  {
   "cell_type": "code",
   "execution_count": 45,
   "metadata": {},
   "outputs": [
    {
     "name": "stdout",
     "output_type": "stream",
     "text": [
      "  633.599 ns (14 allocations: 1.03 KiB)\n"
     ]
    },
    {
     "data": {
      "text/plain": [
       "Zonotope{Float64}([0.11652764080795253, 0.3671650234020733, 0.3080553572195031], [0.039180617310919374; 0.12345356150804025; 0.1035788502891599])"
      ]
     },
     "execution_count": 45,
     "metadata": {},
     "output_type": "execute_result"
    }
   ],
   "source": [
    "@btime linear_map($M, $x)"
   ]
  },
  {
   "cell_type": "markdown",
   "metadata": {},
   "source": [
    "## Constraints list of the lazy linear map of an interval"
   ]
  },
  {
   "cell_type": "code",
   "execution_count": 6,
   "metadata": {},
   "outputs": [],
   "source": [
    "using BenchmarkTools\n",
    "using Revise, LazySets"
   ]
  },
  {
   "cell_type": "code",
   "execution_count": 2,
   "metadata": {},
   "outputs": [
    {
     "data": {
      "text/plain": [
       "Interval{Float64,IntervalArithmetic.Interval{Float64}}([-0.121519, 0.631573])"
      ]
     },
     "execution_count": 2,
     "metadata": {},
     "output_type": "execute_result"
    }
   ],
   "source": [
    "M = rand(1, 1)\n",
    "x = rand(Interval)"
   ]
  },
  {
   "cell_type": "code",
   "execution_count": 3,
   "metadata": {},
   "outputs": [
    {
     "data": {
      "text/plain": [
       "Interval{Float64,IntervalArithmetic.Interval{Float64}}([-0.0307416, 0.159775])"
      ]
     },
     "execution_count": 3,
     "metadata": {},
     "output_type": "execute_result"
    }
   ],
   "source": [
    "linear_map(M, x)"
   ]
  },
  {
   "cell_type": "code",
   "execution_count": 4,
   "metadata": {},
   "outputs": [
    {
     "data": {
      "text/plain": [
       "LinearMap{Float64,Interval{Float64,IntervalArithmetic.Interval{Float64}},Float64,Array{Float64,2}}([0.2529784452615631], Interval{Float64,IntervalArithmetic.Interval{Float64}}([-0.121519, 0.631573]))"
      ]
     },
     "execution_count": 4,
     "metadata": {},
     "output_type": "execute_result"
    }
   ],
   "source": [
    "lm = LinearMap(M, x)"
   ]
  },
  {
   "cell_type": "code",
   "execution_count": 5,
   "metadata": {},
   "outputs": [
    {
     "data": {
      "text/plain": [
       "2-element Array{HalfSpace{Float64,LazySets.Arrays.SingleEntryVector{Float64}},1}:\n",
       " HalfSpace{Float64,LazySets.Arrays.SingleEntryVector{Float64}}([1.0], 0.159774284299269)   \n",
       " HalfSpace{Float64,LazySets.Arrays.SingleEntryVector{Float64}}([-1.0], 0.03074151731426427)"
      ]
     },
     "execution_count": 5,
     "metadata": {},
     "output_type": "execute_result"
    }
   ],
   "source": [
    "constraints_list(lm)"
   ]
  },
  {
   "cell_type": "code",
   "execution_count": 7,
   "metadata": {},
   "outputs": [
    {
     "name": "stdout",
     "output_type": "stream",
     "text": [
      "  48.488 ns (1 allocation: 144 bytes)\n"
     ]
    },
    {
     "data": {
      "text/plain": [
       "2-element Array{HalfSpace{Float64,LazySets.Arrays.SingleEntryVector{Float64}},1}:\n",
       " HalfSpace{Float64,LazySets.Arrays.SingleEntryVector{Float64}}([1.0], 0.159774284299269)   \n",
       " HalfSpace{Float64,LazySets.Arrays.SingleEntryVector{Float64}}([-1.0], 0.03074151731426427)"
      ]
     },
     "execution_count": 7,
     "metadata": {},
     "output_type": "execute_result"
    }
   ],
   "source": [
    "@btime constraints_list($lm)"
   ]
  },
  {
   "cell_type": "code",
   "execution_count": 9,
   "metadata": {},
   "outputs": [
    {
     "name": "stdout",
     "output_type": "stream",
     "text": [
      "  38.289 ns (1 allocation: 144 bytes)\n"
     ]
    },
    {
     "data": {
      "text/plain": [
       "2-element Array{HalfSpace{Float64,LazySets.Arrays.SingleEntryVector{Float64}},1}:\n",
       " HalfSpace{Float64,LazySets.Arrays.SingleEntryVector{Float64}}([1.0], 0.6315727181186241) \n",
       " HalfSpace{Float64,LazySets.Arrays.SingleEntryVector{Float64}}([-1.0], 0.1215183265217697)"
      ]
     },
     "execution_count": 9,
     "metadata": {},
     "output_type": "execute_result"
    }
   ],
   "source": [
    "@btime constraints_list($x)"
   ]
  },
  {
   "cell_type": "code",
   "execution_count": 13,
   "metadata": {},
   "outputs": [
    {
     "name": "stderr",
     "output_type": "stream",
     "text": [
      "┌ Info: Recompiling stale cache file /home/mforets/.julia/compiled/v1.2/Polyhedra/17i4E.ji for Polyhedra [67491407-f73d-577b-9b50-8179a7c68029]\n",
      "└ @ Base loading.jl:1240\n",
      "WARNING: using Polyhedra.Line in module Main conflicts with an existing identifier.\n",
      "WARNING: using Polyhedra.Interval in module Main conflicts with an existing identifier.\n",
      "WARNING: using Polyhedra.HalfSpace in module Main conflicts with an existing identifier.\n"
     ]
    },
    {
     "data": {
      "text/plain": [
       "6-element Array{HalfSpace{Float64,VN} where VN<:AbstractArray{Float64,1},1}:\n",
       " HalfSpace{Float64,Array{Float64,1}}([0.0, -0.3415190547182963, 0.6584809452817035], -0.0)                                  \n",
       " HalfSpace{Float64,Array{Float64,1}}([-0.3265149953696854, 0.3380385937858283, 0.1753226449987087], -3.963039859995711e-17) \n",
       " HalfSpace{Float64,Array{Float64,1}}([-0.0, 0.3415190547182963, -0.6584809452817035], 0.0)                                  \n",
       " HalfSpace{Float64,Array{Float64,1}}([0.3265149953696854, -0.3380385937858283, -0.1753226449987087], 3.963039859995711e-17) \n",
       " HalfSpace{Float64,Array{Float64,1}}([0.3690135343185548, 0.28087907646907045, 0.14567704255257874], 0.3596824428903503)    \n",
       " HalfSpace{Float64,Array{Float64,1}}([-0.3664454675176457, -0.27892436163000006, -0.14466323589823807], 0.06872341256483284)"
      ]
     },
     "execution_count": 13,
     "metadata": {},
     "output_type": "execute_result"
    }
   ],
   "source": [
    "using Polyhedra"
   ]
  },
  {
   "cell_type": "code",
   "execution_count": 14,
   "metadata": {},
   "outputs": [
    {
     "data": {
      "text/plain": [
       "6-element Array{HalfSpace{Float64,VN} where VN<:AbstractArray{Float64,1},1}:\n",
       " HalfSpace{Float64,Array{Float64,1}}([0.0, -0.02520191276369132, 0.9747980872363086], -0.0)                                   \n",
       " HalfSpace{Float64,Array{Float64,1}}([-0.5301412888689088, 0.3106369069006847, 0.008031041844869925], 0.0)                    \n",
       " HalfSpace{Float64,Array{Float64,1}}([-0.0, 0.02520191276369132, -0.9747980872363086], 0.0)                                   \n",
       " HalfSpace{Float64,Array{Float64,1}}([0.5301412888689088, -0.3106369069006847, -0.008031041844869925], -0.0)                  \n",
       " HalfSpace{Float64,Array{Float64,1}}([0.21939999196824533, 0.3741838140975719, 0.009673949881465308], 0.14200786050244352)    \n",
       " HalfSpace{Float64,Array{Float64,1}}([-0.20816908264671352, -0.3550296452755285, -0.009178748159144802], 0.025924502078614315)"
      ]
     },
     "execution_count": 14,
     "metadata": {},
     "output_type": "execute_result"
    }
   ],
   "source": [
    "constraints_list(rand(3, 1) * x)"
   ]
  },
  {
   "cell_type": "markdown",
   "metadata": {},
   "source": [
    "## Unbounded polyhedra plots"
   ]
  },
  {
   "cell_type": "markdown",
   "metadata": {},
   "source": [
    "https://github.com/JuliaReach/LazySets.jl/issues/576"
   ]
  },
  {
   "cell_type": "code",
   "execution_count": 1,
   "metadata": {},
   "outputs": [],
   "source": [
    "using Polyhedra, Plots"
   ]
  },
  {
   "cell_type": "code",
   "execution_count": null,
   "metadata": {},
   "outputs": [],
   "source": []
  },
  {
   "cell_type": "markdown",
   "metadata": {},
   "source": [
    "# MathematicalSystems"
   ]
  },
  {
   "cell_type": "markdown",
   "metadata": {},
   "source": [
    "## Rename some map fields  (#128)"
   ]
  },
  {
   "cell_type": "code",
   "execution_count": null,
   "metadata": {},
   "outputs": [],
   "source": []
  },
  {
   "cell_type": "markdown",
   "metadata": {},
   "source": [
    "## System macro"
   ]
  },
  {
   "cell_type": "code",
   "execution_count": null,
   "metadata": {},
   "outputs": [],
   "source": [
    "using Revise, MathematicalSystems, LazySets"
   ]
  },
  {
   "cell_type": "code",
   "execution_count": 24,
   "metadata": {},
   "outputs": [
    {
     "data": {
      "text/plain": [
       "@f (macro with 2 methods)"
      ]
     },
     "execution_count": 24,
     "metadata": {},
     "output_type": "execute_result"
    }
   ],
   "source": [
    "macro f(expr)\n",
    "    println(expr.args[1])\n",
    "    println(expr.args[2])\n",
    "end"
   ]
  },
  {
   "cell_type": "code",
   "execution_count": 25,
   "metadata": {},
   "outputs": [
    {
     "name": "stdout",
     "output_type": "stream",
     "text": [
      "x'\n",
      "(A * x + c, x ∈ X)\n"
     ]
    }
   ],
   "source": [
    "@f x' = A*x + c, x ∈ X"
   ]
  },
  {
   "cell_type": "code",
   "execution_count": null,
   "metadata": {},
   "outputs": [],
   "source": []
  }
 ],
 "metadata": {
  "kernelspec": {
   "display_name": "Julia 1.2.0",
   "language": "julia",
   "name": "julia-1.2"
  },
  "language_info": {
   "file_extension": ".jl",
   "mimetype": "application/julia",
   "name": "julia",
   "version": "1.2.0"
  }
 },
 "nbformat": 4,
 "nbformat_minor": 2
}
