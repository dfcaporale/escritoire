{
 "cells": [
  {
   "cell_type": "markdown",
   "metadata": {},
   "source": [
    "# Transmission line model"
   ]
  },
  {
   "cell_type": "markdown",
   "metadata": {},
   "source": [
    "We consider the transmission line model used in  [AKS11]."
   ]
  },
  {
   "cell_type": "markdown",
   "metadata": {},
   "source": [
    "<img src=\"tline.png\" alt=\"Transmission line circuit\" style=\"width: 700px;\"/>"
   ]
  },
  {
   "cell_type": "markdown",
   "metadata": {},
   "source": [
    "## Mathematical model"
   ]
  },
  {
   "cell_type": "markdown",
   "metadata": {},
   "source": [
    "The pre-requisite to understand this model is any standard textbook on electrical circuits. The electrical elements law for resistors (R), inductors (L) and capaicitors (C) are studied, for instance, in [Chapter3, K15]."
   ]
  },
  {
   "cell_type": "markdown",
   "metadata": {},
   "source": [
    "Let's assume that the network consists of $\\eta > 2$ nodes. There are $\\eta$ dynamic equations for the capacitor voltages and $\\eta$ dynamic equations for the circuit currents. Therefore, the state vector can be represented as\n",
    "\n",
    "$$\n",
    "x = [U_1, U_2, \\ldots, U_\\eta, I_1, I_2, \\ldots, I_\\eta]^T,\n",
    "$$\n",
    "and the state dimension is $2\\eta$."
   ]
  },
  {
   "cell_type": "markdown",
   "metadata": {},
   "source": [
    "### First node"
   ]
  },
  {
   "cell_type": "markdown",
   "metadata": {},
   "source": [
    "When writing the equations for the voltages and currents, we should pay attention to the sign choices in the circuit, which are slighyly non-stadard ($U_1$'s positive terminal is at the bottom, etc. as indicated by the arrows)."
   ]
  },
  {
   "cell_type": "markdown",
   "metadata": {},
   "source": [
    "Let $R_d$ denote the driver resistance's current."
   ]
  },
  {
   "cell_type": "markdown",
   "metadata": {},
   "source": [
    "By Kirchhoff's voltage law,"
   ]
  },
  {
   "cell_type": "markdown",
   "metadata": {},
   "source": [
    "$$\n",
    "U_{in} = R_d I_1 + LI_1' - U_1,\n",
    "$$\n",
    "therefore\n",
    "$$\n",
    "\\boxed{I_1' = \\dfrac{U_{in} + U_1}{L} - \\dfrac{R_d}{L}I_1}.\n",
    "$$"
   ]
  },
  {
   "cell_type": "markdown",
   "metadata": {},
   "source": [
    "By Kirchhoff's current law, and if $I_{1, C}$ denotes the current through the capacitor $C$, connected to the first node,"
   ]
  },
  {
   "cell_type": "markdown",
   "metadata": {},
   "source": [
    "$I_1 = I_2 + I_{C, 1}$, and $I_{C, 1} = -CU_1'$, then\n",
    "\n",
    "$$\n",
    "\\boxed{U_1' = \\frac{I_2 - I_1}{C}}.\n",
    "$$"
   ]
  },
  {
   "cell_type": "markdown",
   "metadata": {},
   "source": [
    "### Other nodes"
   ]
  },
  {
   "cell_type": "markdown",
   "metadata": {},
   "source": [
    "Other node's equations are obtained in a similar fashion. For instance, for the second loop one has\n",
    "\n",
    "$$\n",
    "-U_1 = RI_2 + LI_2' - U_2 \\Rightarrow I_2' = \\dfrac{U_2-U_1}{L} - \\frac{R}{L}I_2\n",
    "$$\n",
    "for the current's equation, and \n",
    "$$\n",
    "I_{2, C} = I_2 - I_3,\\Rightarrow U_2' = \\frac{I_3 - I_2}{C}.\n",
    "$$\n",
    "for the voltage's equation"
   ]
  },
  {
   "cell_type": "markdown",
   "metadata": {},
   "source": [
    "Generalizing for arbitrary $l = 2, \\ldots, \\eta - 1$ is trivial and gives:"
   ]
  },
  {
   "cell_type": "markdown",
   "metadata": {},
   "source": [
    "$$\n",
    "\\boxed{I'_l = \\dfrac{U_l - U_{l-1}}{L} - \\frac{R}{L}I_l}.\n",
    "$$\n",
    "\n",
    "$$\n",
    "\\boxed{U'_l = \\dfrac{I_{l+1} - I_l}{C}}.\n",
    "$$"
   ]
  },
  {
   "cell_type": "markdown",
   "metadata": {},
   "source": [
    "### Last node"
   ]
  },
  {
   "cell_type": "markdown",
   "metadata": {},
   "source": [
    "The last node corresponds to the case $l = \\eta$"
   ]
  },
  {
   "cell_type": "markdown",
   "metadata": {},
   "source": [
    "$$\n",
    "\\boxed{I'_\\eta = \\dfrac{U_\\eta - U_{\\eta-1}}{L} - \\frac{R}{L}I_\\eta}.\n",
    "$$\n",
    "\n",
    "$$\n",
    "\\boxed{U'_{out} = - \\frac{I_{\\eta}}{C}}\n",
    "$$"
   ]
  },
  {
   "cell_type": "markdown",
   "metadata": {},
   "source": [
    "## References\n",
    "\n",
    "[AKS11] Althoff, Matthias, Bruce H. Krogh, and Olaf Stursberg. [Analyzing reachability of linear dynamic systems with parametric uncertainties.](http://www.i6.in.tum.de/Main/Publications/Althoff2011b.pdf). Modeling, Design, and Simulation of Systems with Uncertainties. Springer, Berlin, Heidelberg, 2011. 69-94.\n",
    "\n",
    "[K15] Kluever, Craig A. [Dynamic systems: modeling, simulation, and control.](https://www.wiley.com/en-us/Dynamic+Systems%3A+Modeling%2C+Simulation%2C+and+Control-p-9781118289457). John Wiley & Sons, 2015.."
   ]
  }
 ],
 "metadata": {
  "kernelspec": {
   "display_name": "Julia 1.2.0",
   "language": "julia",
   "name": "julia-1.2"
  },
  "language_info": {
   "file_extension": ".jl",
   "mimetype": "application/julia",
   "name": "julia",
   "version": "1.2.0"
  }
 },
 "nbformat": 4,
 "nbformat_minor": 2
}
