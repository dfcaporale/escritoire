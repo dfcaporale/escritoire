{
 "cells": [
  {
   "cell_type": "markdown",
   "metadata": {},
   "source": [
    "# Transmission line circuit"
   ]
  },
  {
   "cell_type": "markdown",
   "metadata": {},
   "source": [
    "We consider the transmission line model used in  [AKS11]. The RLC circuit of the transmission line is shown below."
   ]
  },
  {
   "cell_type": "markdown",
   "metadata": {},
   "source": [
    "<img src=\"tline.png\" alt=\"Transmission line circuit\" style=\"width: 700px;\"/>"
   ]
  },
  {
   "cell_type": "markdown",
   "metadata": {},
   "source": [
    "Here, $U_{in}$ is the voltage at the sending end, and $U_{out}$ is the voltage at the receiving end."
   ]
  },
  {
   "cell_type": "markdown",
   "metadata": {},
   "source": [
    "## Model description"
   ]
  },
  {
   "cell_type": "markdown",
   "metadata": {},
   "source": [
    "The pre-requisite to understand this model is any standard textbook on electrical circuits. The electrical elements law for resistors (R), inductors (L) and capaicitors (C) are studied, for instance, in [Chapter3, K15]."
   ]
  },
  {
   "cell_type": "markdown",
   "metadata": {},
   "source": [
    "Let's assume that the network consists of $\\eta > 2$ nodes. There are $\\eta$ dynamic equations for the capacitor voltages and $\\eta$ dynamic equations for the circuit currents. Therefore, the state vector can be represented as\n",
    "\n",
    "$$\n",
    "x = [U_1, U_2, \\ldots, U_\\eta, I_1, I_2, \\ldots, I_\\eta]^T,\n",
    "$$\n",
    "and the state dimension is $2\\eta$."
   ]
  },
  {
   "cell_type": "markdown",
   "metadata": {},
   "source": [
    "### First node"
   ]
  },
  {
   "cell_type": "markdown",
   "metadata": {},
   "source": [
    "When writing the equations for the voltages and currents, we should pay attention to the sign choices in the circuit, which are slighyly non-stadard ($U_1$'s positive terminal is at the bottom, etc. as indicated by the arrows)."
   ]
  },
  {
   "cell_type": "markdown",
   "metadata": {},
   "source": [
    "Let $R_d$ denote the driver resistance's current."
   ]
  },
  {
   "cell_type": "markdown",
   "metadata": {},
   "source": [
    "By Kirchhoff's voltage law,"
   ]
  },
  {
   "cell_type": "markdown",
   "metadata": {},
   "source": [
    "$$\n",
    "U_{in} = R_d I_1 + LI_1' - U_1,\n",
    "$$\n",
    "therefore\n",
    "$$\n",
    "\\boxed{I_1' = \\dfrac{U_{in} + U_1}{L} - \\dfrac{R_d}{L}I_1}.\n",
    "$$"
   ]
  },
  {
   "cell_type": "markdown",
   "metadata": {},
   "source": [
    "By Kirchhoff's current law, and if $I_{1, C}$ denotes the current through the capacitor $C$, connected to the first node,"
   ]
  },
  {
   "cell_type": "markdown",
   "metadata": {},
   "source": [
    "$I_1 = I_2 + I_{C, 1}$, and $I_{C, 1} = -CU_1'$, then\n",
    "\n",
    "$$\n",
    "\\boxed{U_1' = \\frac{I_2 - I_1}{C}}.\n",
    "$$"
   ]
  },
  {
   "cell_type": "markdown",
   "metadata": {},
   "source": [
    "### Other nodes"
   ]
  },
  {
   "cell_type": "markdown",
   "metadata": {},
   "source": [
    "Other node's equations are obtained in a similar fashion. For instance, for the second loop one has\n",
    "\n",
    "$$\n",
    "-U_1 = RI_2 + LI_2' - U_2 \\Rightarrow I_2' = \\dfrac{U_2-U_1}{L} - \\frac{R}{L}I_2\n",
    "$$\n",
    "for the current's equation, and \n",
    "$$\n",
    "I_{2, C} = I_2 - I_3,\\Rightarrow U_2' = \\frac{I_3 - I_2}{C}.\n",
    "$$\n",
    "for the voltage's equation"
   ]
  },
  {
   "cell_type": "markdown",
   "metadata": {},
   "source": [
    "Generalizing for arbitrary $l = 2, \\ldots, \\eta - 1$ is trivial and gives:"
   ]
  },
  {
   "cell_type": "markdown",
   "metadata": {},
   "source": [
    "$$\n",
    "\\boxed{I'_l = \\dfrac{U_l - U_{l-1}}{L} - \\frac{R}{L}I_l}.\n",
    "$$\n",
    "\n",
    "$$\n",
    "\\boxed{U'_l = \\dfrac{I_{l+1} - I_l}{C}}.\n",
    "$$"
   ]
  },
  {
   "cell_type": "markdown",
   "metadata": {},
   "source": [
    "### Last node"
   ]
  },
  {
   "cell_type": "markdown",
   "metadata": {},
   "source": [
    "The last node corresponds to the case $l = \\eta$"
   ]
  },
  {
   "cell_type": "markdown",
   "metadata": {},
   "source": [
    "$$\n",
    "\\boxed{I'_\\eta = \\dfrac{U_\\eta - U_{\\eta-1}}{L} - \\frac{R}{L}I_\\eta}.\n",
    "$$\n",
    "\n",
    "$$\n",
    "\\boxed{U'_{out} = U'_{out} = - \\frac{I_{\\eta}}{C}}\n",
    "$$"
   ]
  },
  {
   "cell_type": "markdown",
   "metadata": {},
   "source": [
    "### System of differential equations"
   ]
  },
  {
   "cell_type": "markdown",
   "metadata": {},
   "source": [
    "Recall that that the stateset is $\\mathbb{R}^{2\\eta}$, where the state variables are $x = [U_1, U_2, \\ldots, U_\\eta, I_1, I_2, \\ldots, I_\\eta]^T$. The system can be written as a block-diagonal system of linear ODEs, \n",
    "\n",
    "$$\n",
    "x'(t) = Ax(t) + BU_{in}(t),\n",
    "$$\n",
    "using the results in the previous section. There exist useful constructors in `Base.LinearAlgebra` to build matrix with special shape, such as diagonal and band matrices."
   ]
  },
  {
   "cell_type": "code",
   "execution_count": 1,
   "metadata": {},
   "outputs": [
    {
     "data": {
      "text/plain": [
       "tline (generic function with 1 method)"
      ]
     },
     "execution_count": 1,
     "metadata": {},
     "output_type": "execute_result"
    }
   ],
   "source": [
    "using MathematicalSystems, LinearAlgebra, SparseArrays\n",
    "\n",
    "function tline(;η=3, R=1.00, Rd=10.0, L=1e-10, C=1e-13 * 4.00)\n",
    "    A₁₁ = zeros(η, η)\n",
    "    A₁₂ = Bidiagonal(fill(-1/C, η), fill(1/C, η-1), :U)\n",
    "    A₂₁ = Diagonal(vcat(-Rd/L, fill(-R/L, η-1)))\n",
    "    A₂₂ = Bidiagonal(fill(1/L, η), fill(-1/L, η-1), :L)\n",
    "    A  = [A₁₁ A₁₂; A₂₁ A₂₂]\n",
    "    B = sparse([η+1], [1], one(eltype(A)), 2η, 1)\n",
    "    return A, B\n",
    "end"
   ]
  },
  {
   "cell_type": "markdown",
   "metadata": {},
   "source": [
    "For example, we can visualize the matrices for the case $\\eta = 3$ using `ModelingToolkit`:"
   ]
  },
  {
   "cell_type": "code",
   "execution_count": 2,
   "metadata": {},
   "outputs": [
    {
     "data": {
      "text/plain": [
       "6×6 Array{Expression,2}:\n",
       " Constant(0)  Constant(0)  Constant(0)       -1 / C        1 / C  Constant(0)\n",
       " Constant(0)  Constant(0)  Constant(0)  Constant(0)       -1 / C        1 / C\n",
       " Constant(0)  Constant(0)  Constant(0)  Constant(0)  Constant(0)       -1 / C\n",
       "     -Rd / L  Constant(0)  Constant(0)        1 / L  Constant(0)  Constant(0)\n",
       " Constant(0)       -R / L  Constant(0)       -1 / L        1 / L  Constant(0)\n",
       " Constant(0)  Constant(0)       -R / L  Constant(0)       -1 / L        1 / L"
      ]
     },
     "execution_count": 2,
     "metadata": {},
     "output_type": "execute_result"
    }
   ],
   "source": [
    "using ModelingToolkit\n",
    "\n",
    "@variables R Rd L C\n",
    "A, B = tline(R=R, Rd=Rd, L=L, C=C)\n",
    "Matrix(A)"
   ]
  },
  {
   "cell_type": "markdown",
   "metadata": {},
   "source": [
    "If we now use the default values,"
   ]
  },
  {
   "cell_type": "code",
   "execution_count": 4,
   "metadata": {},
   "outputs": [
    {
     "data": {
      "text/plain": [
       "6×6 Array{Float64,2}:\n",
       "  0.0      0.0      0.0     -2.5e12   2.5e12   0.0   \n",
       "  0.0      0.0      0.0      0.0     -2.5e12   2.5e12\n",
       "  0.0      0.0      0.0      0.0      0.0     -2.5e12\n",
       " -1.0e11   0.0      0.0      1.0e10   0.0      0.0   \n",
       "  0.0     -1.0e10   0.0     -1.0e10   1.0e10   0.0   \n",
       "  0.0      0.0     -1.0e10   0.0     -1.0e10   1.0e10"
      ]
     },
     "execution_count": 4,
     "metadata": {},
     "output_type": "execute_result"
    }
   ],
   "source": [
    "A, B = tline(η=3)\n",
    "Matrix(A)"
   ]
  },
  {
   "cell_type": "markdown",
   "metadata": {},
   "source": [
    "Notice that the matrix coefficients are big, and taking the matrix exponential would easily overflow, unless the time-step is of the order of `1e-10`."
   ]
  },
  {
   "cell_type": "markdown",
   "metadata": {},
   "source": [
    "Hence, it is convenient to rescale the system. Let $\\alpha > 0$ be a scaling factor, and let $\\tilde{x}(t) = x(\\alpha t)$. By the chain rule, \n",
    "\n",
    "$$\n",
    "\\tilde{x}'(t) = \\alpha x'(\\alpha t) = \\alpha A x(\\alpha t) + \\alpha B U_{in}(\\alpha t) = \\tilde{A} \\tilde{x}(t) + \\tilde{B} \\tilde{U}_{in}(t),\n",
    "$$\n",
    "where $\\tilde{A} := \\alpha A$ and $\\tilde{B} := \\alpha B$."
   ]
  },
  {
   "cell_type": "code",
   "execution_count": 13,
   "metadata": {},
   "outputs": [
    {
     "data": {
      "text/plain": [
       "scale! (generic function with 2 methods)"
      ]
     },
     "execution_count": 13,
     "metadata": {},
     "output_type": "execute_result"
    }
   ],
   "source": [
    "function scale!(s::LinearControlContinuousSystem, α=1.0)\n",
    "    s.A .*= α\n",
    "    s.B .*= α\n",
    "    return s\n",
    "end"
   ]
  },
  {
   "cell_type": "code",
   "execution_count": 21,
   "metadata": {},
   "outputs": [],
   "source": [
    "A, B = tline(η=3)\n",
    "s = LinearControlContinuousSystem(A, B)\n",
    "scale!(s, 1e-9);"
   ]
  },
  {
   "cell_type": "code",
   "execution_count": 19,
   "metadata": {},
   "outputs": [
    {
     "data": {
      "text/plain": [
       "6×6 Array{Float64,2}:\n",
       "   0.0   0.0   0.0  -250.0   250.0     0.0\n",
       "   0.0   0.0   0.0     0.0  -250.0   250.0\n",
       "   0.0   0.0   0.0     0.0     0.0  -250.0\n",
       " -10.0   0.0   0.0     1.0     0.0     0.0\n",
       "   0.0  -1.0   0.0    -1.0     1.0     0.0\n",
       "   0.0   0.0  -1.0     0.0    -1.0     1.0"
      ]
     },
     "execution_count": 19,
     "metadata": {},
     "output_type": "execute_result"
    }
   ],
   "source": [
    "Matrix(s.A)"
   ]
  },
  {
   "cell_type": "markdown",
   "metadata": {},
   "source": [
    "Note that under this transformation, the time horizon has to be transformed as well, through $\\tilde{T} = \\alpha T$."
   ]
  },
  {
   "cell_type": "markdown",
   "metadata": {},
   "source": [
    "## Reachability settings"
   ]
  },
  {
   "cell_type": "markdown",
   "metadata": {},
   "source": [
    "The transmission line parameters used in this model are displayed in the following table."
   ]
  },
  {
   "cell_type": "markdown",
   "metadata": {},
   "source": [
    "|resistance in [Ω] | driver resistance in [Ω] | Inductance in [H]| Capacitance in [F]|\n",
    "|------|-----|------|-----|\n",
    "|R = 1.00| Rdriver = 10.0| L = 1e−10 | C = 4e−13|"
   ]
  },
  {
   "cell_type": "markdown",
   "metadata": {},
   "source": [
    "The steady state is obtained by zeroing the left-hand side of the ODE, obtaining\n",
    "\n",
    "$$\n",
    "0 = x' = Ax_\\infty + Bu_0 \\Rightarrow x_\\infty = -A^{-1}B u_0 \n",
    "$$"
   ]
  },
  {
   "cell_type": "markdown",
   "metadata": {},
   "source": [
    "The initial set under consideration corresponds to the steady state for input voltages $U_{in, ss} := [-0.2, 0.2]$. Moreover, an uncertainty is added so taht the initial currents are also uncertain. The set of initial states is then"
   ]
  },
  {
   "cell_type": "markdown",
   "metadata": {},
   "source": [
    "$$\n",
    "x(0) \\in \\mathcal{X}_0 := -A^{-1} B  U_{in, ss} \\oplus □(0.001),\n",
    "$$\n",
    "where $□(ϵ)$ is the infinity-norm ball of center zero and radius $ϵ$."
   ]
  },
  {
   "cell_type": "markdown",
   "metadata": {},
   "source": [
    "The time horizon is $T = 0.7s$. For modeling, we consider the scaling parameter $\\alpha = 1e-9$."
   ]
  },
  {
   "cell_type": "code",
   "execution_count": 27,
   "metadata": {},
   "outputs": [
    {
     "data": {
      "text/plain": [
       "MinkowskiSum{Float64,LazySets.LinearMap{Float64,Interval{Float64,IntervalArithmetic.Interval{Float64}},Float64,Array{Float64,2}},BallInf{Float64}}(LazySets.LinearMap{Float64,Interval{Float64,IntervalArithmetic.Interval{Float64}},Float64,Array{Float64,2}}([1.0000000000000001e-11; 0.0; … ; 0.0; 0.0], Interval{Float64,IntervalArithmetic.Interval{Float64}}([-0.200001, 0.200001])), BallInf{Float64}([0.0, 0.0, 0.0, 0.0, 0.0, 0.0, 0.0, 0.0, 0.0, 0.0  …  0.0, 0.0, 0.0, 0.0, 0.0, 0.0, 0.0, 0.0, 0.0, 0.0], 0.001))"
      ]
     },
     "execution_count": 27,
     "metadata": {},
     "output_type": "execute_result"
    }
   ],
   "source": [
    "using LazySets\n",
    "\n",
    "η = 20 # order\n",
    "A, B = tline(η=η)\n",
    "s = LinearControlContinuousSystem(A, B)\n",
    "scale!(s, 1e-9);\n",
    "\n",
    "Uin_ss = Interval(-0.2, 0.2)\n",
    "□(ϵ) = BallInf(zeros(2η), ϵ)\n",
    "X0 = -inv(Matrix(A))*B*Uin_ss ⊕ □(0.001)"
   ]
  },
  {
   "cell_type": "markdown",
   "metadata": {},
   "source": [
    "Initially, the system is supposed to be in an \u000f-neighborhood\n",
    "(with \u000f = 0.01) of its steady state for an input voltage\n",
    "inside [−0.2; 0.2]. Then, at time t = 0, the input voltage is\n",
    "switched to a value in [0.99; 1.01]:\n",
    "I = −A\n",
    "−1\n",
    "b[−0.2; 0.2] ⊕ B\u000f U = [0.9; 1.1]"
   ]
  },
  {
   "cell_type": "markdown",
   "metadata": {},
   "source": [
    "We consider a scaling factor $\\alpha = 1e-9$. $T' = \\alpha "
   ]
  },
  {
   "cell_type": "markdown",
   "metadata": {},
   "source": [
    "The initial state of the system is determined by the steady state\n",
    "solution for input voltages Uin = u ∈ [−0.2,0.2] to which an uncertainty is added\n",
    "so that the initial currents are also uncertain: R(0) = −A\n",
    "−1bu + (0.001), where\n",
    "A, b are chosen as the matrix centers of A[z]\n",
    ", B[z]\n",
    ", and (0.001) is a box of edge\n",
    "length 2 · 0.001. At time t = 0, the input is changed to u ∈ [0.99,1.01] so that the\n",
    "step response of the output voltage Uout = Ul can be verified. For the modeling of\n",
    "the transmission line, 20 nodes have been used such that the system has 40 state\n",
    "variables. The reachable set of Uout is presented in Fig. 9 when computing with matrix zonotopes (dark gray) or interval matrices (light gray). It can be observed that\n",
    "the matrix zonotope computations are much tighter due to the consideration of the\n",
    "dependency of the R, L, and C values of each "
   ]
  },
  {
   "cell_type": "code",
   "execution_count": null,
   "metadata": {},
   "outputs": [],
   "source": [
    "α = 1e-10\n",
    "Ts = α*T\n",
    "\n",
    "O = Options(:T = Ts)\n",
    "\n",
    "A, B = tline(η=20)\n",
    "s = LinearControlContinuousSystem(A, B)\n",
    "scale!(s, α)"
   ]
  },
  {
   "cell_type": "markdown",
   "metadata": {},
   "source": [
    "## Results"
   ]
  },
  {
   "cell_type": "code",
   "execution_count": null,
   "metadata": {},
   "outputs": [],
   "source": []
  },
  {
   "cell_type": "markdown",
   "metadata": {},
   "source": [
    "## Parameter uncertainties"
   ]
  },
  {
   "cell_type": "code",
   "execution_count": null,
   "metadata": {},
   "outputs": [],
   "source": []
  },
  {
   "cell_type": "markdown",
   "metadata": {},
   "source": [
    "## References\n",
    "\n",
    "[AKS11] Althoff, Matthias, Bruce H. Krogh, and Olaf Stursberg. [Analyzing reachability of linear dynamic systems with parametric uncertainties.](http://www.i6.in.tum.de/Main/Publications/Althoff2011b.pdf). Modeling, Design, and Simulation of Systems with Uncertainties. Springer, Berlin, Heidelberg, 2011. 69-94.\n",
    "\n",
    "[K15] Kluever, Craig A. [Dynamic systems: modeling, simulation, and control.](https://www.wiley.com/en-us/Dynamic+Systems%3A+Modeling%2C+Simulation%2C+and+Control-p-9781118289457). John Wiley & Sons, 2015.\n",
    "\n",
    "[GLG08] Girard, Antoine, and Colas Le Guernic. [Efficient reachability analysis for linear systems using support functions.]() IFAC Proceedings Volumes 41.2 (2008): 8966-8971."
   ]
  },
  {
   "cell_type": "code",
   "execution_count": null,
   "metadata": {},
   "outputs": [],
   "source": []
  }
 ],
 "metadata": {
  "kernelspec": {
   "display_name": "Julia 1.2.0",
   "language": "julia",
   "name": "julia-1.2"
  },
  "language_info": {
   "file_extension": ".jl",
   "mimetype": "application/julia",
   "name": "julia",
   "version": "1.2.0"
  }
 },
 "nbformat": 4,
 "nbformat_minor": 2
}
