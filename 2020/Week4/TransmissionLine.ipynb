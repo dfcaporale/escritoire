{
 "cells": [
  {
   "cell_type": "markdown",
   "metadata": {},
   "source": [
    "# Transmission line circuit"
   ]
  },
  {
   "cell_type": "markdown",
   "metadata": {},
   "source": [
    "We consider the transmission line model used in  [AKS11]. The RLC circuit of the transmission line is shown below."
   ]
  },
  {
   "cell_type": "markdown",
   "metadata": {},
   "source": [
    "<img src=\"tline.png\" alt=\"Transmission line circuit\" style=\"width: 700px;\"/>"
   ]
  },
  {
   "cell_type": "markdown",
   "metadata": {},
   "source": [
    "Here, $U_{in}$ is the voltage at the sending end, and $U_{out}$ is the voltage at the receiving end."
   ]
  },
  {
   "cell_type": "markdown",
   "metadata": {},
   "source": [
    "## Model description"
   ]
  },
  {
   "cell_type": "markdown",
   "metadata": {},
   "source": [
    "The pre-requisite to understand this model is any standard textbook on electrical circuits. The electrical elements law for resistors (R), inductors (L) and capaicitors (C) are studied, for instance, in [Chapter3, K15]."
   ]
  },
  {
   "cell_type": "markdown",
   "metadata": {},
   "source": [
    "Let's assume that the network consists of $\\eta > 2$ nodes. There are $\\eta$ dynamic equations for the capacitor voltages and $\\eta$ dynamic equations for the circuit currents. Therefore, the state vector can be represented as\n",
    "\n",
    "$$\n",
    "x = [U_1, U_2, \\ldots, U_\\eta, I_1, I_2, \\ldots, I_\\eta]^T,\n",
    "$$\n",
    "and the state dimension is $2\\eta$."
   ]
  },
  {
   "cell_type": "markdown",
   "metadata": {},
   "source": [
    "### First node"
   ]
  },
  {
   "cell_type": "markdown",
   "metadata": {},
   "source": [
    "When writing the equations for the voltages and currents, we should pay attention to the sign choices in the circuit, which are slighyly non-stadard ($U_1$'s positive terminal is at the bottom, etc. as indicated by the arrows)."
   ]
  },
  {
   "cell_type": "markdown",
   "metadata": {},
   "source": [
    "Let $R_d$ denote the driver resistance's current."
   ]
  },
  {
   "cell_type": "markdown",
   "metadata": {},
   "source": [
    "By Kirchhoff's voltage law,"
   ]
  },
  {
   "cell_type": "markdown",
   "metadata": {},
   "source": [
    "$$\n",
    "U_{in} = R_d I_1 + LI_1' - U_1,\n",
    "$$\n",
    "therefore\n",
    "$$\n",
    "\\boxed{I_1' = \\dfrac{U_{in} + U_1}{L} - \\dfrac{R_d}{L}I_1}.\n",
    "$$"
   ]
  },
  {
   "cell_type": "markdown",
   "metadata": {},
   "source": [
    "By Kirchhoff's current law, and if $I_{1, C}$ denotes the current through the capacitor $C$, connected to the first node,"
   ]
  },
  {
   "cell_type": "markdown",
   "metadata": {},
   "source": [
    "$I_1 = I_2 + I_{C, 1}$, and $I_{C, 1} = -CU_1'$, then\n",
    "\n",
    "$$\n",
    "\\boxed{U_1' = \\frac{I_2 - I_1}{C}}.\n",
    "$$"
   ]
  },
  {
   "cell_type": "markdown",
   "metadata": {},
   "source": [
    "### Other nodes"
   ]
  },
  {
   "cell_type": "markdown",
   "metadata": {},
   "source": [
    "Other node's equations are obtained in a similar fashion. For instance, for the second loop one has\n",
    "\n",
    "$$\n",
    "-U_1 = RI_2 + LI_2' - U_2 \\Rightarrow I_2' = \\dfrac{U_2-U_1}{L} - \\frac{R}{L}I_2\n",
    "$$\n",
    "for the current's equation, and \n",
    "$$\n",
    "I_{2, C} = I_2 - I_3,\\Rightarrow U_2' = \\frac{I_3 - I_2}{C}.\n",
    "$$\n",
    "for the voltage's equation"
   ]
  },
  {
   "cell_type": "markdown",
   "metadata": {},
   "source": [
    "Generalizing for arbitrary $l = 2, \\ldots, \\eta - 1$ is trivial and gives:"
   ]
  },
  {
   "cell_type": "markdown",
   "metadata": {},
   "source": [
    "$$\n",
    "\\boxed{I'_l = \\dfrac{U_l - U_{l-1}}{L} - \\frac{R}{L}I_l}.\n",
    "$$\n",
    "\n",
    "$$\n",
    "\\boxed{U'_l = \\dfrac{I_{l+1} - I_l}{C}}.\n",
    "$$"
   ]
  },
  {
   "cell_type": "markdown",
   "metadata": {},
   "source": [
    "### Last node"
   ]
  },
  {
   "cell_type": "markdown",
   "metadata": {},
   "source": [
    "The last node corresponds to the case $l = \\eta$"
   ]
  },
  {
   "cell_type": "markdown",
   "metadata": {},
   "source": [
    "$$\n",
    "\\boxed{I'_\\eta = \\dfrac{U_\\eta - U_{\\eta-1}}{L} - \\frac{R}{L}I_\\eta}.\n",
    "$$\n",
    "\n",
    "$$\n",
    "\\boxed{U'_{out} = U'_{out} = - \\frac{I_{\\eta}}{C}}\n",
    "$$"
   ]
  },
  {
   "cell_type": "markdown",
   "metadata": {},
   "source": [
    "### System of differential equations"
   ]
  },
  {
   "cell_type": "markdown",
   "metadata": {},
   "source": [
    "Recall that that the stateset is $\\mathbb{R}^{2\\eta}$, where the state variables are $x = [U_1, U_2, \\ldots, U_\\eta, I_1, I_2, \\ldots, I_\\eta]^T$. The system can be written as a block-diagonal system of linear ODEs, \n",
    "\n",
    "$$\n",
    "x'(t) = Ax(t) + BU_{in}(t),\n",
    "$$\n",
    "using the results in the previous section.\n",
    "\n",
    "The coefficients matrix $A$ can be written as a block-diagonal matrix. There exist useful constructors in `Base.LinearAlgebra` that simplify building matrices with special shape, as in our case, such as diagonal and band matrices."
   ]
  },
  {
   "cell_type": "code",
   "execution_count": 1,
   "metadata": {},
   "outputs": [
    {
     "data": {
      "text/plain": [
       "tline (generic function with 1 method)"
      ]
     },
     "execution_count": 1,
     "metadata": {},
     "output_type": "execute_result"
    }
   ],
   "source": [
    "using MathematicalSystems, LinearAlgebra, SparseArrays\n",
    "\n",
    "function tline(;η=3, R=1.00, Rd=10.0, L=1e-10, C=1e-13 * 4.00)\n",
    "    A₁₁ = zeros(η, η)\n",
    "    A₁₂ = Bidiagonal(fill(-1/C, η), fill(1/C, η-1), :U)\n",
    "    A₂₁ = Bidiagonal(fill(1/L, η), fill(-1/L, η-1), :L)\n",
    "    A₂₂ = Diagonal(vcat(-Rd/L, fill(-R/L, η-1)))\n",
    "    A  = [A₁₁ A₁₂; A₂₁ A₂₂]\n",
    "    B = sparse([η+1], [1], 1/L, 2η, 1)\n",
    "    return A, B\n",
    "end"
   ]
  },
  {
   "cell_type": "markdown",
   "metadata": {},
   "source": [
    "We can visualize the matrices for the case $\\eta = 3$ using `ModelingToolkit`:"
   ]
  },
  {
   "cell_type": "code",
   "execution_count": 2,
   "metadata": {},
   "outputs": [
    {
     "data": {
      "text/plain": [
       "4×4 Array{Expression,2}:\n",
       " Constant(0)  Constant(0)       -1 / C        1 / C\n",
       " Constant(0)  Constant(0)  Constant(0)       -1 / C\n",
       "       1 / L  Constant(0)      -Rd / L  Constant(0)\n",
       "      -1 / L        1 / L  Constant(0)       -R / L"
      ]
     },
     "execution_count": 2,
     "metadata": {},
     "output_type": "execute_result"
    }
   ],
   "source": [
    "using ModelingToolkit\n",
    "\n",
    "@variables R Rd L C\n",
    "A, B = tline(η=2, R=R, Rd=Rd, L=L, C=C)\n",
    "Matrix(A)"
   ]
  },
  {
   "cell_type": "code",
   "execution_count": 3,
   "metadata": {},
   "outputs": [
    {
     "data": {
      "text/plain": [
       "4×1 Array{Operation,2}:\n",
       " identity(0)\n",
       " identity(0)\n",
       "       1 / L\n",
       " identity(0)"
      ]
     },
     "execution_count": 3,
     "metadata": {},
     "output_type": "execute_result"
    }
   ],
   "source": [
    "Matrix(B)"
   ]
  },
  {
   "cell_type": "markdown",
   "metadata": {},
   "source": [
    "If we now use the default values,"
   ]
  },
  {
   "cell_type": "code",
   "execution_count": 4,
   "metadata": {},
   "outputs": [
    {
     "data": {
      "text/plain": [
       "4×4 Array{Float64,2}:\n",
       "  0.0     0.0     -2.5e12   2.5e12\n",
       "  0.0     0.0      0.0     -2.5e12\n",
       "  1.0e10  0.0     -1.0e11   0.0   \n",
       " -1.0e10  1.0e10   0.0     -1.0e10"
      ]
     },
     "execution_count": 4,
     "metadata": {},
     "output_type": "execute_result"
    }
   ],
   "source": [
    "A, B = tline(η=2)\n",
    "s = LinearControlContinuousSystem(A, B)\n",
    "Matrix(A)"
   ]
  },
  {
   "cell_type": "code",
   "execution_count": 5,
   "metadata": {},
   "outputs": [
    {
     "data": {
      "text/plain": [
       "4×1 Array{Float64,2}:\n",
       " 0.0   \n",
       " 0.0   \n",
       " 1.0e10\n",
       " 0.0   "
      ]
     },
     "execution_count": 5,
     "metadata": {},
     "output_type": "execute_result"
    }
   ],
   "source": [
    "Matrix(B)"
   ]
  },
  {
   "cell_type": "markdown",
   "metadata": {},
   "source": [
    "Notice that the matrix coefficients are big, so we rescale the system in time."
   ]
  },
  {
   "cell_type": "markdown",
   "metadata": {},
   "source": [
    "Hence, it is convenient to rescale the system. Let $\\alpha > 0$ be a scaling factor, and let $\\tilde{x}(t) = x(\\alpha t)$. By the chain rule, \n",
    "\n",
    "$$\n",
    "\\tilde{x}'(t) = \\alpha x'(\\alpha t) = \\alpha A x(\\alpha t) + \\alpha B U_{in}(\\alpha t) = \\tilde{A} \\tilde{x}(t) + \\tilde{B} \\tilde{U}_{in}(t),\n",
    "$$\n",
    "where $\\tilde{A} := \\alpha A$ and $\\tilde{B} := \\alpha B$."
   ]
  },
  {
   "cell_type": "code",
   "execution_count": 6,
   "metadata": {},
   "outputs": [
    {
     "data": {
      "text/plain": [
       "scale! (generic function with 2 methods)"
      ]
     },
     "execution_count": 6,
     "metadata": {},
     "output_type": "execute_result"
    }
   ],
   "source": [
    "function scale!(s::AbstractContinuousSystem, α=1.0)\n",
    "    s.A .*= α\n",
    "    s.B .*= α\n",
    "    return s\n",
    "end"
   ]
  },
  {
   "cell_type": "code",
   "execution_count": 7,
   "metadata": {},
   "outputs": [],
   "source": [
    "scale!(s, 1e-9);"
   ]
  },
  {
   "cell_type": "code",
   "execution_count": 8,
   "metadata": {},
   "outputs": [
    {
     "data": {
      "text/plain": [
       "4×4 Array{Float64,2}:\n",
       "   0.0   0.0  -2500.0   2500.0\n",
       "   0.0   0.0      0.0  -2500.0\n",
       "  10.0   0.0   -100.0      0.0\n",
       " -10.0  10.0      0.0    -10.0"
      ]
     },
     "execution_count": 8,
     "metadata": {},
     "output_type": "execute_result"
    }
   ],
   "source": [
    "Matrix(s.A)"
   ]
  },
  {
   "cell_type": "code",
   "execution_count": 9,
   "metadata": {},
   "outputs": [
    {
     "data": {
      "text/plain": [
       "4×1 Array{Float64,2}:\n",
       "  0.0\n",
       "  0.0\n",
       " 10.0\n",
       "  0.0"
      ]
     },
     "execution_count": 9,
     "metadata": {},
     "output_type": "execute_result"
    }
   ],
   "source": [
    "Matrix(s.B)"
   ]
  },
  {
   "cell_type": "markdown",
   "metadata": {},
   "source": [
    "Note that under this transformation, the time horizon has to be transformed as well, through $\\tilde{T} = \\alpha T$."
   ]
  },
  {
   "cell_type": "markdown",
   "metadata": {},
   "source": [
    "## Reachability settings"
   ]
  },
  {
   "cell_type": "markdown",
   "metadata": {},
   "source": [
    "The transmission line parameters used in this model are displayed in the following table."
   ]
  },
  {
   "cell_type": "markdown",
   "metadata": {},
   "source": [
    "|resistance in [Ω] | driver resistance in [Ω] | Inductance in [H]| Capacitance in [F]|\n",
    "|------|-----|------|-----|\n",
    "|R = 1.00| Rdriver = 10.0| L = 1e−10 | C = 4e−13|"
   ]
  },
  {
   "cell_type": "markdown",
   "metadata": {},
   "source": [
    "The steady state is obtained by zeroing the left-hand side of the ODE, obtaining\n",
    "\n",
    "$$\n",
    "0 = x' = Ax_\\infty + Bu_0 \\Rightarrow x_\\infty = -A^{-1}B u_0 \n",
    "$$"
   ]
  },
  {
   "cell_type": "markdown",
   "metadata": {},
   "source": [
    "The initial set under consideration corresponds to the steady state for input voltages $U_{in, ss} := [-0.2, 0.2]$. Moreover, an uncertainty is added so that the initial currents are also uncertain. The set of initial states is then"
   ]
  },
  {
   "cell_type": "markdown",
   "metadata": {},
   "source": [
    "$$\n",
    "x(0) \\in \\mathcal{X}_0 := -A^{-1} B  U_{in, ss} \\oplus □(0.001),\n",
    "$$\n",
    "where $□(ϵ)$ is the infinity-norm ball of center zero and radius $ϵ$."
   ]
  },
  {
   "cell_type": "markdown",
   "metadata": {},
   "source": [
    "The time horizon is $T = 0.7s$. For modeling, we consider the scaling parameter $\\alpha = 1e-9$."
   ]
  },
  {
   "cell_type": "markdown",
   "metadata": {},
   "source": [
    "We study the step response to an input voltage $U_{in}(t)$, constant for $t \\in [0, T]$ over the domain $U_{in} = [0.99, 1.01]$."
   ]
  },
  {
   "cell_type": "markdown",
   "metadata": {},
   "source": [
    "We consider the case of $\\eta = 20$ nodes as in [AKS11], such that the system has $n = 40$ state variables."
   ]
  },
  {
   "cell_type": "code",
   "execution_count": 10,
   "metadata": {},
   "outputs": [],
   "source": [
    "using LazySets\n",
    "\n",
    "η = 20 # order\n",
    "n = 2η # state-space dimension\n",
    "A, B = tline(η=η)\n",
    "\n",
    "Uin_ss = Interval(-0.2, 0.2)\n",
    "□(ϵ) = BallInf(zeros(n), ϵ)\n",
    "X0 = -inv(Matrix(A))*B*Uin_ss ⊕ □(0.001)\n",
    "\n",
    "Uin = Interval(0.99, 1.01)\n",
    "s = ConstrainedLinearControlContinuousSystem(A, B, Universe(n), Uin)\n",
    "α = 1e-9 # scaling factor\n",
    "scale!(s, α);\n",
    "\n",
    "T = 0.7 * 1e-11 # time horizon\n",
    "P = InitialValueProblem(s, X0);"
   ]
  },
  {
   "cell_type": "markdown",
   "metadata": {},
   "source": [
    "## Results"
   ]
  },
  {
   "cell_type": "code",
   "execution_count": 11,
   "metadata": {},
   "outputs": [],
   "source": [
    "using Reachability, Plots\n",
    "using LazySets: LinearMap"
   ]
  },
  {
   "cell_type": "code",
   "execution_count": null,
   "metadata": {},
   "outputs": [],
   "source": [
    "sol = solve(P, Options(:T=>0.7), op=BFFPSV18(:δ=>0.001));"
   ]
  },
  {
   "cell_type": "code",
   "execution_count": null,
   "metadata": {},
   "outputs": [],
   "source": [
    "Uout = map(x -> -1.0 * project(x.rs.X, [η], LinearMap), sol.Xk)\n",
    "times = map(x -> Interval(x.rs.t_start, x.rs.t_end), sol.Xk)\n",
    "Uout_vs_t = [Δt × u for (Δt, u) in zip(times, Uout)];"
   ]
  },
  {
   "cell_type": "code",
   "execution_count": null,
   "metadata": {},
   "outputs": [],
   "source": [
    "fig_flowpipe_BFFPSV18 = plot(Uout_vs_t[1:1:end], color=:blue, xlab=\"t\", ylab=\"Uout\", alpha=.2)"
   ]
  },
  {
   "cell_type": "code",
   "execution_count": null,
   "metadata": {},
   "outputs": [],
   "source": [
    "fig_init = plot(Uout_vs_t[1:3], color=:blue)"
   ]
  },
  {
   "cell_type": "markdown",
   "metadata": {},
   "source": [
    "In the following paragraph we use another reachability algorithm, GLGM06."
   ]
  },
  {
   "cell_type": "code",
   "execution_count": null,
   "metadata": {},
   "outputs": [],
   "source": [
    "X0 = overapproximate(X0, Hyperrectangle)\n",
    "P = InitialValueProblem(s, X0);\n",
    "sol = solve(P, Options(:T=>0.7), op=GLGM06(:δ=>0.001, :max_order=>100));\n",
    "\n",
    "Uout = map(x -> -1.0 * project(x.X, [η], LinearMap), sol.Xk)\n",
    "times = map(x -> Interval(x.t_start, x.t_end), sol.Xk)\n",
    "Uout_vs_t = [Δt × u for (Δt, u) in zip(times, Uout)];\n",
    "\n",
    "plot(Uout_vs_t[1:1:end], color=:blue, xlab=\"t\", ylab=\"Uout\", alpha=0.2)"
   ]
  },
  {
   "cell_type": "markdown",
   "metadata": {},
   "source": [
    "## Parameter uncertainties"
   ]
  },
  {
   "cell_type": "code",
   "execution_count": null,
   "metadata": {},
   "outputs": [],
   "source": [
    "using IntervalMatrices\n",
    "import IntervalArithmetic\n",
    "const IA = IntervalArithmetic"
   ]
  },
  {
   "cell_type": "code",
   "execution_count": null,
   "metadata": {},
   "outputs": [],
   "source": [
    "Aint = IntervalMatrix([IA.Interval(x) for x in P.s.A])\n",
    "Bint = IntervalMatrix([IA.Interval(x) for x in P.s.B])\n",
    "Uin_int = ConstantInput(LazySets.Interval(0.99, 1.01))\n",
    "sint = ConstrainedLinearControlContinuousSystem(Aint, Bint, nothing, Uin_int)\n",
    "X0 = overapproximate(X0, Hyperrectangle) # for GLGM06\n",
    "Pint = InitialValueProblem(sint, X0);\n",
    "\n",
    "sol = solve(Pint, Options(:T=>0.7), op=ASB07(:δ=>0.001, :order_discretization=>10, :max_order=>100));\n",
    "# uses :discretization=>\"interval_matrix\"\n",
    "Uout = map(x -> -1.0 * project(x.X, [η], LinearMap), sol.Xk)\n",
    "times = map(x -> Interval(x.t_start, x.t_end), sol.Xk)\n",
    "Uout_vs_t = [Δt × u for (Δt, u) in zip(times, Uout)];"
   ]
  },
  {
   "cell_type": "code",
   "execution_count": null,
   "metadata": {},
   "outputs": [],
   "source": [
    "plot!(fig_flowpipe_BFFPSV18, Uout_vs_t[1:1:end], color=:red, xlab=\"t\", ylab=\"Uout\", alpha=.2)"
   ]
  },
  {
   "cell_type": "code",
   "execution_count": null,
   "metadata": {
    "scrolled": false
   },
   "outputs": [],
   "source": [
    "plot!(fig_init, Uout_vs_t[1:3], color=:red)"
   ]
  },
  {
   "cell_type": "markdown",
   "metadata": {},
   "source": [
    "## References\n",
    "\n",
    "[AKS11] Althoff, Matthias, Bruce H. Krogh, and Olaf Stursberg. [Analyzing reachability of linear dynamic systems with parametric uncertainties.](http://www.i6.in.tum.de/Main/Publications/Althoff2011b.pdf). Modeling, Design, and Simulation of Systems with Uncertainties. Springer, Berlin, Heidelberg, 2011. 69-94.\n",
    "\n",
    "[K15] Kluever, Craig A. [Dynamic systems: modeling, simulation, and control.](https://www.wiley.com/en-us/Dynamic+Systems%3A+Modeling%2C+Simulation%2C+and+Control-p-9781118289457). John Wiley & Sons, 2015.\n",
    "\n",
    "[GLG08] Girard, Antoine, and Colas Le Guernic. [Efficient reachability analysis for linear systems using support functions.]() IFAC Proceedings Volumes 41.2 (2008): 8966-8971."
   ]
  }
 ],
 "metadata": {
  "kernelspec": {
   "display_name": "Julia 1.2.0",
   "language": "julia",
   "name": "julia-1.2"
  },
  "language_info": {
   "file_extension": ".jl",
   "mimetype": "application/julia",
   "name": "julia",
   "version": "1.2.0"
  }
 },
 "nbformat": 4,
 "nbformat_minor": 2
}
