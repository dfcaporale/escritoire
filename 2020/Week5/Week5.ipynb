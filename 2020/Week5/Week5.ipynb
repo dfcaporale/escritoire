{
 "cells": [
  {
   "cell_type": "markdown",
   "metadata": {},
   "source": [
    "# Refactor polygon boundedness check ([LazySets#1925](https://github.com/JuliaReach/LazySets.jl/issues/1925))"
   ]
  },
  {
   "cell_type": "code",
   "execution_count": 1,
   "metadata": {},
   "outputs": [
    {
     "name": "stderr",
     "output_type": "stream",
     "text": [
      "┌ Info: Recompiling stale cache file /home/mforets/.julia/compiled/v1.2/ReachabilityAnalysis/fYI0z.ji for ReachabilityAnalysis [1e97bd63-91d1-579d-8e8d-501d2b57c93f]\n",
      "└ @ Base loading.jl:1240\n"
     ]
    }
   ],
   "source": [
    "using Revise, ReachabilityAnalysis"
   ]
  },
  {
   "cell_type": "code",
   "execution_count": null,
   "metadata": {},
   "outputs": [],
   "source": [
    "@system"
   ]
  },
  {
   "cell_type": "code",
   "execution_count": 3,
   "metadata": {},
   "outputs": [
    {
     "data": {
      "text/plain": [
       "HPolygon{Float64}(HalfSpace{Float64,VN} where VN<:AbstractArray{Float64,1}[HalfSpace{Float64,Array{Float64,1}}([1.261028856189669, 1.3878735112026346], 1.2919114867674186), HalfSpace{Float64,Array{Float64,1}}([0.13162348864246542, 0.46729639650253496], 0.6960427258834989), HalfSpace{Float64,Array{Float64,1}}([-0.2847803843054808, 0.502842596864258], 1.328225752651445), HalfSpace{Float64,Array{Float64,1}}([-1.5904476178889724, -1.09839250216917], 1.2166533887508149), HalfSpace{Float64,Array{Float64,1}}([-0.6061499025734981, -0.6318548474879431], 0.4643511951445736), HalfSpace{Float64,Array{Float64,1}}([1.0887255599358168, -0.6277651549123144], 0.2398672848766943)])"
      ]
     },
     "execution_count": 3,
     "metadata": {},
     "output_type": "execute_result"
    }
   ],
   "source": [
    "H = rand(HPolygon)"
   ]
  },
  {
   "cell_type": "code",
   "execution_count": 8,
   "metadata": {},
   "outputs": [],
   "source": [
    "using BenchmarkTools"
   ]
  },
  {
   "cell_type": "code",
   "execution_count": 9,
   "metadata": {},
   "outputs": [
    {
     "name": "stdout",
     "output_type": "stream",
     "text": [
      "  44.787 μs (286 allocations: 18.61 KiB)\n"
     ]
    },
    {
     "data": {
      "text/plain": [
       "true"
      ]
     },
     "execution_count": 9,
     "metadata": {},
     "output_type": "execute_result"
    }
   ],
   "source": [
    "@btime isbounded($H, false)"
   ]
  },
  {
   "cell_type": "code",
   "execution_count": 12,
   "metadata": {},
   "outputs": [
    {
     "data": {
      "text/plain": [
       "0.9"
      ]
     },
     "execution_count": 12,
     "metadata": {},
     "output_type": "execute_result"
    }
   ],
   "source": [
    "45e-6 * 20_000"
   ]
  },
  {
   "cell_type": "code",
   "execution_count": 10,
   "metadata": {},
   "outputs": [
    {
     "data": {
      "text/html": [
       "isbounded(P::<b>AbstractHPolygon</b>, use_type_assumption::<b>Bool</b>) in LazySets at <a href=\"https://github.com/JuliaReach/LazySets.jl/tree/ffe0320ab37a2cc7e06eaf461f04b8743554c4aa//src/Interfaces/AbstractHPolygon.jl#L576\" target=\"_blank\">/home/mforets/.julia/dev/LazySets/src/Interfaces/AbstractHPolygon.jl:576</a>"
      ],
      "text/plain": [
       "isbounded(P::AbstractHPolygon, use_type_assumption::Bool) in LazySets at /home/mforets/.julia/dev/LazySets/src/Interfaces/AbstractHPolygon.jl:576"
      ]
     },
     "execution_count": 10,
     "metadata": {},
     "output_type": "execute_result"
    }
   ],
   "source": [
    "@which isbounded(H, false)"
   ]
  },
  {
   "cell_type": "code",
   "execution_count": 17,
   "metadata": {},
   "outputs": [
    {
     "data": {
      "text/html": [
       "isbounded_unit_dimensions(S::<b>LazySet{N}</b>)<i> where N<:Real</i> in LazySets at <a href=\"https://github.com/JuliaReach/LazySets.jl/tree/ffe0320ab37a2cc7e06eaf461f04b8743554c4aa//src/Interfaces/LazySet.jl#L248\" target=\"_blank\">/home/mforets/.julia/dev/LazySets/src/Interfaces/LazySet.jl:248</a>"
      ],
      "text/plain": [
       "isbounded_unit_dimensions(S::LazySet{N}) where N<:Real in LazySets at /home/mforets/.julia/dev/LazySets/src/Interfaces/LazySet.jl:248"
      ]
     },
     "execution_count": 17,
     "metadata": {},
     "output_type": "execute_result"
    }
   ],
   "source": [
    "@which isbounded_unit_dimensions(HPolyhedron(H.constraints))"
   ]
  },
  {
   "cell_type": "code",
   "execution_count": 20,
   "metadata": {},
   "outputs": [
    {
     "data": {
      "text/plain": [
       "HPolygon{Float64}(HalfSpace{Float64,VN} where VN<:AbstractArray{Float64,1}[HalfSpace{Float64,Array{Float64,1}}([1.261028856189669, 1.3878735112026346], 1.2919114867674186), HalfSpace{Float64,Array{Float64,1}}([0.13162348864246542, 0.46729639650253496], 0.6960427258834989), HalfSpace{Float64,Array{Float64,1}}([-0.2847803843054808, 0.502842596864258], 1.328225752651445), HalfSpace{Float64,Array{Float64,1}}([-1.5904476178889724, -1.09839250216917], 1.2166533887508149), HalfSpace{Float64,Array{Float64,1}}([-0.6061499025734981, -0.6318548474879431], 0.4643511951445736), HalfSpace{Float64,Array{Float64,1}}([1.0887255599358168, -0.6277651549123144], 0.2398672848766943)])"
      ]
     },
     "execution_count": 20,
     "metadata": {},
     "output_type": "execute_result"
    }
   ],
   "source": [
    "H"
   ]
  },
  {
   "cell_type": "code",
   "execution_count": 19,
   "metadata": {},
   "outputs": [
    {
     "name": "stdout",
     "output_type": "stream",
     "text": [
      "  2.928 μs (72 allocations: 3.50 KiB)\n"
     ]
    },
    {
     "data": {
      "text/plain": [
       "true"
      ]
     },
     "execution_count": 19,
     "metadata": {},
     "output_type": "execute_result"
    }
   ],
   "source": [
    "@btime isbounded_unit_dimensions($H)"
   ]
  },
  {
   "cell_type": "markdown",
   "metadata": {},
   "source": [
    "# Add @ivp macro (MathematicalSystems#)"
   ]
  },
  {
   "cell_type": "code",
   "execution_count": 2,
   "metadata": {},
   "outputs": [],
   "source": [
    "using Revise, MathematicalSystems"
   ]
  },
  {
   "cell_type": "code",
   "execution_count": null,
   "metadata": {},
   "outputs": [],
   "source": []
  },
  {
   "cell_type": "markdown",
   "metadata": {},
   "source": [
    "# RA, linear"
   ]
  },
  {
   "cell_type": "code",
   "execution_count": 3,
   "metadata": {},
   "outputs": [
    {
     "name": "stderr",
     "output_type": "stream",
     "text": [
      "┌ Info: Recompiling stale cache file /home/mforets/.julia/compiled/v1.2/ReachabilityAnalysis/fYI0z.ji for ReachabilityAnalysis [1e97bd63-91d1-579d-8e8d-501d2b57c93f]\n",
      "└ @ Base loading.jl:1240\n"
     ]
    }
   ],
   "source": [
    "using Revise, ReachabilityAnalysis"
   ]
  },
  {
   "cell_type": "code",
   "execution_count": 4,
   "metadata": {},
   "outputs": [
    {
     "data": {
      "text/plain": [
       "InitialValueProblem{LinearContinuousSystem{Bool,IdentityMultiple{Bool}},Interval{Float64,IntervalArithmetic.Interval{Float64}}}(LinearContinuousSystem{Bool,IdentityMultiple{Bool}}(Bool[1]), Interval{Float64,IntervalArithmetic.Interval{Float64}}([0, 1]))"
      ]
     },
     "execution_count": 4,
     "metadata": {},
     "output_type": "execute_result"
    }
   ],
   "source": [
    "#P = @ivp(x' = x, x(0) ∈ Interval(0, 1))\n",
    "S = @system(x' = x)\n",
    "P = InitialValueProblem(S, Interval(0, 1))"
   ]
  },
  {
   "cell_type": "code",
   "execution_count": 5,
   "metadata": {},
   "outputs": [
    {
     "ename": "UndefVarError",
     "evalue": "UndefVarError: BFFPSV18 not defined",
     "output_type": "error",
     "traceback": [
      "UndefVarError: BFFPSV18 not defined",
      "",
      "Stacktrace:",
      " [1] default_continuous_post(::InitialValueProblem{LinearContinuousSystem{Bool,IdentityMultiple{Bool}},Interval{Float64,IntervalArithmetic.Interval{Float64}}}) at /home/mforets/.julia/dev/ReachabilityAnalysis/src/solve.jl:24",
      " [2] (::getfield(ReachabilityAnalysis, Symbol(\"#kw##solve\")))(::NamedTuple{(:T,),Tuple{Float64}}, ::typeof(solve), ::InitialValueProblem{LinearContinuousSystem{Bool,IdentityMultiple{Bool}},Interval{Float64,IntervalArithmetic.Interval{Float64}}}) at ./none:0",
      " [3] top-level scope at In[5]:1"
     ]
    }
   ],
   "source": [
    "solve(P, T=1.0)"
   ]
  },
  {
   "cell_type": "markdown",
   "metadata": {},
   "source": [
    "# Symbolic interval matrix power"
   ]
  },
  {
   "cell_type": "code",
   "execution_count": 1,
   "metadata": {},
   "outputs": [],
   "source": [
    "using Revise"
   ]
  },
  {
   "cell_type": "code",
   "execution_count": 3,
   "metadata": {},
   "outputs": [
    {
     "name": "stderr",
     "output_type": "stream",
     "text": [
      "┌ Info: Recompiling stale cache file /home/mforets/.julia/compiled/v1.2/ModelingToolkit/Qmdqu.ji for ModelingToolkit [961ee093-0014-501f-94e3-6117800e7a78]\n",
      "└ @ Base loading.jl:1240\n"
     ]
    }
   ],
   "source": [
    "using ModelingToolkit"
   ]
  },
  {
   "cell_type": "code",
   "execution_count": 4,
   "metadata": {},
   "outputs": [
    {
     "data": {
      "text/plain": [
       "(Operation[A₁̒₁ A₁̒₂; A₂̒₁ A₂̒₂],)"
      ]
     },
     "execution_count": 4,
     "metadata": {},
     "output_type": "execute_result"
    }
   ],
   "source": [
    "@variables A[1:2, 1:2]"
   ]
  },
  {
   "cell_type": "code",
   "execution_count": 9,
   "metadata": {},
   "outputs": [
    {
     "data": {
      "text/plain": [
       "2×2 Array{Operation,2}:\n",
       " A₁̒₁ * A₁̒₁ + A₁̒₂ * A₂̒₁  A₁̒₁ * A₁̒₂ + A₁̒₂ * A₂̒₂\n",
       " A₂̒₁ * A₁̒₁ + A₂̒₂ * A₂̒₁  A₂̒₁ * A₁̒₂ + A₂̒₂ * A₂̒₂"
      ]
     },
     "execution_count": 9,
     "metadata": {},
     "output_type": "execute_result"
    }
   ],
   "source": [
    "A2 = A * A"
   ]
  },
  {
   "cell_type": "code",
   "execution_count": 10,
   "metadata": {},
   "outputs": [
    {
     "data": {
      "text/plain": [
       "2×2 Array{Operation,2}:\n",
       " A₁̒₁ * A₁̒₁ + A₁̒₂ * A₂̒₁  A₁̒₁ * A₁̒₂ + A₁̒₂ * A₂̒₂\n",
       " A₂̒₁ * A₁̒₁ + A₂̒₂ * A₂̒₁  A₂̒₁ * A₁̒₂ + A₂̒₂ * A₂̒₂"
      ]
     },
     "execution_count": 10,
     "metadata": {},
     "output_type": "execute_result"
    }
   ],
   "source": [
    "A2"
   ]
  },
  {
   "cell_type": "code",
   "execution_count": 2,
   "metadata": {},
   "outputs": [],
   "source": [
    "using IntervalMatrices"
   ]
  },
  {
   "cell_type": "code",
   "execution_count": 3,
   "metadata": {},
   "outputs": [
    {
     "data": {
      "text/plain": [
       "2×2 IntervalMatrix{Float64,Interval{Float64},Array{Interval{Float64},2}}:\n",
       " [1, 1]    [0, 1]\n",
       " [1, 1]  [-1, -1]"
      ]
     },
     "execution_count": 3,
     "metadata": {},
     "output_type": "execute_result"
    }
   ],
   "source": [
    "A = [Interval(1, 1) Interval(0, 1); Interval(1, 1) Interval(-1, -1)] |> IntervalMatrix"
   ]
  },
  {
   "cell_type": "code",
   "execution_count": 4,
   "metadata": {},
   "outputs": [
    {
     "data": {
      "text/plain": [
       "2×2 IntervalMatrix{Float64,Interval{Float64},Array{Interval{Float64},2}}:\n",
       " [1, 2]  [0, 0]\n",
       " [0, 0]  [1, 2]"
      ]
     },
     "execution_count": 4,
     "metadata": {},
     "output_type": "execute_result"
    }
   ],
   "source": [
    "square(A)"
   ]
  },
  {
   "cell_type": "code",
   "execution_count": 5,
   "metadata": {},
   "outputs": [
    {
     "data": {
      "text/plain": [
       "2×2 IntervalMatrix{Float64,Interval{Float64},Array{Interval{Float64},2}}:\n",
       " [1, 2]  [-1, 1]\n",
       " [0, 0]   [1, 2]"
      ]
     },
     "execution_count": 5,
     "metadata": {},
     "output_type": "execute_result"
    }
   ],
   "source": [
    "A * A"
   ]
  },
  {
   "cell_type": "code",
   "execution_count": 6,
   "metadata": {},
   "outputs": [],
   "source": [
    "using SymEngine"
   ]
  },
  {
   "cell_type": "code",
   "execution_count": 70,
   "metadata": {},
   "outputs": [
    {
     "ename": "LoadError",
     "evalue": "AssertionError: @syms expected a list of symbols",
     "output_type": "error",
     "traceback": [
      "AssertionError: @syms expected a list of symbols",
      "",
      "Stacktrace:",
      " [1] @vars(::LineNumberNode, ::Module, ::Vararg{Any,N} where N) at /home/mforets/.julia/packages/SymEngine/RK5Ks/src/types.jl:164"
     ]
    }
   ],
   "source": [
    "@vars M[1:2]"
   ]
  },
  {
   "cell_type": "code",
   "execution_count": 60,
   "metadata": {},
   "outputs": [
    {
     "data": {
      "text/plain": [
       "2×2 Array{Basic,2}:\n",
       " a  b\n",
       " c  d"
      ]
     },
     "execution_count": 60,
     "metadata": {},
     "output_type": "execute_result"
    }
   ],
   "source": [
    "M = [a b; c d]"
   ]
  },
  {
   "cell_type": "code",
   "execution_count": 25,
   "metadata": {},
   "outputs": [
    {
     "data": {
      "text/plain": [
       "2×2 Array{Basic,2}:\n",
       " b*c + a^2  a*b + b*d\n",
       " a*c + c*d  b*c + d^2"
      ]
     },
     "execution_count": 25,
     "metadata": {},
     "output_type": "execute_result"
    }
   ],
   "source": [
    "M² = M * M"
   ]
  },
  {
   "cell_type": "code",
   "execution_count": 40,
   "metadata": {},
   "outputs": [
    {
     "data": {
      "text/plain": [
       "a*b + b*d"
      ]
     },
     "execution_count": 40,
     "metadata": {},
     "output_type": "execute_result"
    }
   ],
   "source": [
    "expr = M²[1, 2]"
   ]
  },
  {
   "cell_type": "code",
   "execution_count": 38,
   "metadata": {},
   "outputs": [
    {
     "data": {
      "text/plain": [
       "2×2 Array{Basic,2}:\n",
       " a*(b*c + a^2) + c*(a*b + b*d)  b*(b*c + a^2) + d*(a*b + b*d)\n",
       " a*(a*c + c*d) + c*(b*c + d^2)  b*(a*c + c*d) + d*(b*c + d^2)"
      ]
     },
     "execution_count": 38,
     "metadata": {},
     "output_type": "execute_result"
    }
   ],
   "source": [
    "M³ = M * M * M"
   ]
  },
  {
   "cell_type": "code",
   "execution_count": 56,
   "metadata": {},
   "outputs": [
    {
     "data": {
      "text/plain": [
       "a*(b*c + a^2) + c*(a*b + b*d)"
      ]
     },
     "execution_count": 56,
     "metadata": {},
     "output_type": "execute_result"
    }
   ],
   "source": [
    "expr = M³[1, 1]"
   ]
  },
  {
   "cell_type": "code",
   "execution_count": 57,
   "metadata": {},
   "outputs": [
    {
     "data": {
      "text/plain": [
       ":(c * (b * d + a * b) + a * (b * c + a ^ 2))"
      ]
     },
     "execution_count": 57,
     "metadata": {},
     "output_type": "execute_result"
    }
   ],
   "source": [
    "ex = convert(Expr, expr)"
   ]
  },
  {
   "cell_type": "markdown",
   "metadata": {},
   "source": [
    "Idea from: https://discourse.julialang.org/t/substitute-symbols-in-expression/23099"
   ]
  },
  {
   "cell_type": "code",
   "execution_count": 7,
   "metadata": {},
   "outputs": [
    {
     "ename": "UndefVarError",
     "evalue": "UndefVarError: ex not defined",
     "output_type": "error",
     "traceback": [
      "UndefVarError: ex not defined",
      "",
      "Stacktrace:",
      " [1] top-level scope at In[7]:17"
     ]
    }
   ],
   "source": [
    "using MacroTools: postwalk\n",
    "\n",
    "function matsubs(ex)\n",
    "    if ex == :a\n",
    "        return A[1, 1]\n",
    "    elseif ex == :b\n",
    "        return A[1, 2]\n",
    "    elseif ex == :c\n",
    "        return A[2, 1]\n",
    "    elseif ex == :d\n",
    "        return A[2, 2]\n",
    "    else\n",
    "        return ex\n",
    "    end\n",
    "end\n",
    "\n",
    "eval(postwalk(matsubs, ex))"
   ]
  },
  {
   "cell_type": "code",
   "execution_count": 72,
   "metadata": {},
   "outputs": [
    {
     "data": {
      "text/plain": [
       ":([0, 1] + [0, 1] ^ 2 + [0, 1] ^ 3)"
      ]
     },
     "execution_count": 72,
     "metadata": {},
     "output_type": "execute_result"
    }
   ],
   "source": [
    "using MacroTools: postwalk\n",
    "\n",
    "ex = :(x + x^2 + x^3)\n",
    "postwalk(ex -> ex == :x ? Interval(0, 1) : ex, ex)"
   ]
  },
  {
   "cell_type": "code",
   "execution_count": 73,
   "metadata": {},
   "outputs": [
    {
     "data": {
      "text/plain": [
       "[0, 3]"
      ]
     },
     "execution_count": 73,
     "metadata": {},
     "output_type": "execute_result"
    }
   ],
   "source": [
    "eval(ans)"
   ]
  },
  {
   "cell_type": "code",
   "execution_count": 59,
   "metadata": {},
   "outputs": [
    {
     "data": {
      "text/plain": [
       ":(c * (b * d + [0, 1]b) + [0, 1] * (b * c + [0, 1] ^ 2))"
      ]
     },
     "execution_count": 59,
     "metadata": {},
     "output_type": "execute_result"
    }
   ],
   "source": [
    "postwalk(ex -> ex == :a ? Interval(0, 1) : ex, ex)"
   ]
  },
  {
   "cell_type": "code",
   "execution_count": 33,
   "metadata": {},
   "outputs": [
    {
     "data": {
      "text/plain": [
       "4.0 + b*c"
      ]
     },
     "execution_count": 33,
     "metadata": {},
     "output_type": "execute_result"
    }
   ],
   "source": [
    "subs(M²[1, 1], a=> 2.0)"
   ]
  },
  {
   "cell_type": "code",
   "execution_count": 36,
   "metadata": {},
   "outputs": [
    {
     "ename": "StackOverflowError",
     "evalue": "StackOverflowError:",
     "output_type": "error",
     "traceback": [
      "StackOverflowError:",
      "",
      "Stacktrace:",
      " [1] Basic(::Interval{Float64}) at /home/mforets/.julia/packages/SymEngine/RK5Ks/src/types.jl:93",
      " [2] convert(::Type{Basic}, ::Interval{Float64}) at ./number.jl:7",
      " ... (the last 2 lines are repeated 39998 more times)",
      " [79999] Basic(::Interval{Float64}) at /home/mforets/.julia/packages/SymEngine/RK5Ks/src/types.jl:93"
     ]
    }
   ],
   "source": [
    "subs(M3[1, 1], a=>Interval(0, 1), b=>Interval(0, 1), c=>Interval(0, 1), d=>Interval(0, 1))"
   ]
  },
  {
   "cell_type": "code",
   "execution_count": 82,
   "metadata": {},
   "outputs": [],
   "source": [
    "using BenchmarkTools"
   ]
  },
  {
   "cell_type": "code",
   "execution_count": 85,
   "metadata": {},
   "outputs": [
    {
     "name": "stdout",
     "output_type": "stream",
     "text": [
      "  13.011 μs (64 allocations: 1.28 KiB)\n"
     ]
    },
    {
     "data": {
      "text/plain": [
       "2×2 Array{Basic,2}:\n",
       " (a*b + b*d)*(((a*c + c*d)*(b*c + a^2) + (a*c + c*d)*(b*c + d^2))*((a*b + b*d)*(a*c + c*d) + (b*c + a^2)^2) + ((a*c + c*d)*(b*c + a^2) + (a*c + c*d)*(b*c + d^2))*((a*b + b*d)*(a*c + c*d) + (b*c + d^2)^2)) + (b*c + a^2)*(((a*b + b*d)*(b*c + a^2) + (a*b + b*d)*(b*c + d^2))*((a*c + c*d)*(b*c + a^2) + (a*c + c*d)*(b*c + d^2)) + ((a*b + b*d)*(a*c + c*d) + (b*c + a^2)^2)^2)  …  (a*b + b*d)*(((a*b + b*d)*(b*c + a^2) + (a*b + b*d)*(b*c + d^2))*((a*c + c*d)*(b*c + a^2) + (a*c + c*d)*(b*c + d^2)) + ((a*b + b*d)*(a*c + c*d) + (b*c + d^2)^2)^2) + (((a*b + b*d)*(b*c + a^2) + (a*b + b*d)*(b*c + d^2))*((a*b + b*d)*(a*c + c*d) + (b*c + a^2)^2) + ((a*b + b*d)*(b*c + a^2) + (a*b + b*d)*(b*c + d^2))*((a*b + b*d)*(a*c + c*d) + (b*c + d^2)^2))*(b*c + a^2)\n",
       " (a*c + c*d)*(((a*b + b*d)*(b*c + a^2) + (a*b + b*d)*(b*c + d^2))*((a*c + c*d)*(b*c + a^2) + (a*c + c*d)*(b*c + d^2)) + ((a*b + b*d)*(a*c + c*d) + (b*c + a^2)^2)^2) + (((a*c + c*d)*(b*c + a^2) + (a*c + c*d)*(b*c + d^2))*((a*b + b*d)*(a*c + c*d) + (b*c + a^2)^2) + ((a*c + c*d)*(b*c + a^2) + (a*c + c*d)*(b*c + d^2))*((a*b + b*d)*(a*c + c*d) + (b*c + d^2)^2))*(b*c + d^2)     (a*c + c*d)*(((a*b + b*d)*(b*c + a^2) + (a*b + b*d)*(b*c + d^2))*((a*b + b*d)*(a*c + c*d) + (b*c + a^2)^2) + ((a*b + b*d)*(b*c + a^2) + (a*b + b*d)*(b*c + d^2))*((a*b + b*d)*(a*c + c*d) + (b*c + d^2)^2)) + (b*c + d^2)*(((a*b + b*d)*(b*c + a^2) + (a*b + b*d)*(b*c + d^2))*((a*c + c*d)*(b*c + a^2) + (a*c + c*d)*(b*c + d^2)) + ((a*b + b*d)*(a*c + c*d) + (b*c + d^2)^2)^2)"
      ]
     },
     "execution_count": 85,
     "metadata": {},
     "output_type": "execute_result"
    }
   ],
   "source": [
    "f(n) = M^n;\n",
    "\n",
    "@btime f(10)"
   ]
  },
  {
   "cell_type": "code",
   "execution_count": 86,
   "metadata": {},
   "outputs": [
    {
     "name": "stdout",
     "output_type": "stream",
     "text": [
      "  43.105 ns (1 allocation: 112 bytes)\n",
      "  3.289 μs (17 allocations: 336 bytes)\n",
      "  6.408 μs (30 allocations: 640 bytes)\n",
      "  6.638 μs (34 allocations: 672 bytes)\n",
      "  9.689 μs (47 allocations: 976 bytes)\n",
      "  9.722 μs (47 allocations: 976 bytes)\n",
      "  12.926 μs (60 allocations: 1.25 KiB)\n",
      "  10.483 μs (51 allocations: 1008 bytes)\n",
      "  13.045 μs (64 allocations: 1.28 KiB)\n",
      "  13.124 μs (64 allocations: 1.28 KiB)\n"
     ]
    }
   ],
   "source": [
    "[@btime f($i) for i in 1:10]"
   ]
  },
  {
   "cell_type": "code",
   "execution_count": 89,
   "metadata": {},
   "outputs": [
    {
     "data": {
      "text/plain": [
       "10×10 Array{Basic,2}:\n",
       " #undef  #undef  #undef  #undef  #undef  …  #undef  #undef  #undef  #undef\n",
       " #undef  #undef  #undef  #undef  #undef     #undef  #undef  #undef  #undef\n",
       " #undef  #undef  #undef  #undef  #undef     #undef  #undef  #undef  #undef\n",
       " #undef  #undef  #undef  #undef  #undef     #undef  #undef  #undef  #undef\n",
       " #undef  #undef  #undef  #undef  #undef     #undef  #undef  #undef  #undef\n",
       " #undef  #undef  #undef  #undef  #undef  …  #undef  #undef  #undef  #undef\n",
       " #undef  #undef  #undef  #undef  #undef     #undef  #undef  #undef  #undef\n",
       " #undef  #undef  #undef  #undef  #undef     #undef  #undef  #undef  #undef\n",
       " #undef  #undef  #undef  #undef  #undef     #undef  #undef  #undef  #undef\n",
       " #undef  #undef  #undef  #undef  #undef     #undef  #undef  #undef  #undef"
      ]
     },
     "execution_count": 89,
     "metadata": {},
     "output_type": "execute_result"
    }
   ],
   "source": [
    "n = 10\n",
    "Ms = Matrix{SymEngine.Basic}(undef, n, n)"
   ]
  },
  {
   "cell_type": "code",
   "execution_count": 8,
   "metadata": {},
   "outputs": [
    {
     "data": {
      "text/plain": [
       "subidx (generic function with 1 method)"
      ]
     },
     "execution_count": 8,
     "metadata": {},
     "output_type": "execute_result"
    }
   ],
   "source": [
    "subidx(i) = join(Char.(0x2080 .+ convert.(UInt16, digits(i)[end:-1:1])))"
   ]
  },
  {
   "cell_type": "code",
   "execution_count": 11,
   "metadata": {},
   "outputs": [
    {
     "data": {
      "text/plain": [
       "_symbolic_matrix (generic function with 1 method)"
      ]
     },
     "execution_count": 11,
     "metadata": {},
     "output_type": "execute_result"
    }
   ],
   "source": [
    "n = 2\n",
    "# create a new symbolic matrix of order n with name M\n",
    "# e.g. for order n = 2,\n",
    "# _symbolic_matrix(2)\n",
    "# 2×2 Array{Basic,2}:\n",
    "# M₁₁  M₁₂\n",
    "# M₂₁  M₂₂\n",
    "#\n",
    "function _symbolic_matrix(n; name=\"M\")\n",
    "    M = Matrix{SymEngine.Basic}(undef, n, n)\n",
    "    for i in 1:n, j in 1:n\n",
    "        M[i, j] = name * subidx(i) * subidx(j)\n",
    "    end\n",
    "    return M\n",
    "end"
   ]
  },
  {
   "cell_type": "code",
   "execution_count": 41,
   "metadata": {},
   "outputs": [
    {
     "data": {
      "text/plain": [
       "2×2 Array{Basic,2}:\n",
       " A₁₁  A₁₂\n",
       " A₂₁  A₂₂"
      ]
     },
     "execution_count": 41,
     "metadata": {},
     "output_type": "execute_result"
    }
   ],
   "source": [
    "Asym = _symbolic_matrix(2, name=\"A\")"
   ]
  },
  {
   "cell_type": "code",
   "execution_count": 40,
   "metadata": {},
   "outputs": [
    {
     "data": {
      "text/plain": [
       "2×2 IntervalMatrix{Float64,Interval{Float64},Array{Interval{Float64},2}}:\n",
       " [1, 1]    [0, 1]\n",
       " [1, 1]  [-1, -1]"
      ]
     },
     "execution_count": 40,
     "metadata": {},
     "output_type": "execute_result"
    }
   ],
   "source": [
    "A"
   ]
  },
  {
   "cell_type": "markdown",
   "metadata": {},
   "source": [
    "Now we would like to substitute the interval matrix `A` into the symbolic matrix `A` after taking some power."
   ]
  },
  {
   "cell_type": "code",
   "execution_count": 42,
   "metadata": {},
   "outputs": [
    {
     "data": {
      "text/plain": [
       "2×2 Array{Basic,2}:\n",
       "   A₁₂*A₂₁ + A₁₁^2  A₁₁*A₁₂ + A₁₂*A₂₂\n",
       " A₁₁*A₂₁ + A₂₂*A₂₁    A₁₂*A₂₁ + A₂₂^2"
      ]
     },
     "execution_count": 42,
     "metadata": {},
     "output_type": "execute_result"
    }
   ],
   "source": [
    "Asym² = Asym^2"
   ]
  },
  {
   "cell_type": "markdown",
   "metadata": {},
   "source": [
    "MacroTools to the rescue."
   ]
  },
  {
   "cell_type": "code",
   "execution_count": 23,
   "metadata": {},
   "outputs": [],
   "source": [
    "using MacroTools: postwalk"
   ]
  },
  {
   "cell_type": "code",
   "execution_count": 43,
   "metadata": {},
   "outputs": [
    {
     "data": {
      "text/plain": [
       "A₁₂*A₂₁ + A₁₁^2"
      ]
     },
     "execution_count": 43,
     "metadata": {},
     "output_type": "execute_result"
    }
   ],
   "source": [
    "Asym²_11 = Asym²[1, 1]"
   ]
  },
  {
   "cell_type": "code",
   "execution_count": 62,
   "metadata": {},
   "outputs": [
    {
     "data": {
      "text/plain": [
       ":(A₁₂ * A₂₁ + A₁₁ ^ 2)"
      ]
     },
     "execution_count": 62,
     "metadata": {},
     "output_type": "execute_result"
    }
   ],
   "source": [
    "ex = Asym²_11\n",
    "ex = convert(Expr, ex) # important (!)"
   ]
  },
  {
   "cell_type": "code",
   "execution_count": 87,
   "metadata": {},
   "outputs": [
    {
     "data": {
      "text/plain": [
       "subs (generic function with 2 methods)"
      ]
     },
     "execution_count": 87,
     "metadata": {},
     "output_type": "execute_result"
    }
   ],
   "source": [
    "function subs(ex, imat, n; name=\"M\")\n",
    "    #println(ex)\n",
    "    for i in 1:n, j in 1:n\n",
    "        name_ij = Symbol(name * subidx(i) * subidx(j))\n",
    "        if ex == name_ij\n",
    "            return imat[i, j]\n",
    "        end\n",
    "    end\n",
    "    return ex\n",
    "end"
   ]
  },
  {
   "cell_type": "code",
   "execution_count": 86,
   "metadata": {},
   "outputs": [
    {
     "name": "stdout",
     "output_type": "stream",
     "text": [
      "+\n",
      "*\n",
      "A₁₂\n",
      "A₂₁\n",
      "[0, 1] * [1, 1]\n",
      "^\n",
      "A₁₁\n",
      "2\n",
      "[1, 1] ^ 2\n",
      "[0, 1] * [1, 1] + [1, 1] ^ 2\n"
     ]
    },
    {
     "data": {
      "text/plain": [
       ":([0, 1] * [1, 1] + [1, 1] ^ 2)"
      ]
     },
     "execution_count": 86,
     "metadata": {},
     "output_type": "execute_result"
    }
   ],
   "source": [
    "postwalk(ex -> subs(ex, A, n, name=\"A\"), ex)"
   ]
  },
  {
   "cell_type": "code",
   "execution_count": 89,
   "metadata": {},
   "outputs": [
    {
     "data": {
      "text/plain": [
       ":([0, 1] * [1, 1] + [1, 1] ^ 2)"
      ]
     },
     "execution_count": 89,
     "metadata": {},
     "output_type": "execute_result"
    }
   ],
   "source": [
    "res = postwalk(ex -> subs(ex, A, n, name=\"A\"), ex)"
   ]
  },
  {
   "cell_type": "code",
   "execution_count": 90,
   "metadata": {},
   "outputs": [
    {
     "data": {
      "text/plain": [
       "[1, 2]"
      ]
     },
     "execution_count": 90,
     "metadata": {},
     "output_type": "execute_result"
    }
   ],
   "source": [
    "eval(res)"
   ]
  },
  {
   "cell_type": "code",
   "execution_count": 96,
   "metadata": {},
   "outputs": [
    {
     "data": {
      "text/plain": [
       ":x"
      ]
     },
     "execution_count": 96,
     "metadata": {},
     "output_type": "execute_result"
    }
   ],
   "source": [
    ":x"
   ]
  },
  {
   "cell_type": "markdown",
   "metadata": {},
   "source": [
    "See also:\n",
    "\n",
    "- https://github.com/chakravala/Reduce.jl"
   ]
  },
  {
   "cell_type": "markdown",
   "metadata": {},
   "source": [
    "## SUE for quadratic expansion"
   ]
  },
  {
   "cell_type": "markdown",
   "metadata": {},
   "source": [
    "https://github.com/JuliaReach/IntervalMatrices.jl/issues/90"
   ]
  },
  {
   "cell_type": "markdown",
   "metadata": {},
   "source": [
    "If we consider $\\alpha A + \\beta A^2$ for scalar coefficients $\\alpha$ and $\\beta$, the SUE formula generalizes what we have written for `quadratic_term` and for `square`. The picture below shores the result."
   ]
  },
  {
   "cell_type": "markdown",
   "metadata": {},
   "source": [
    "<img src=\"20200127_151926.jpg\" alt=\"SUE expression computation\" style=\"width: 700px;\"/>"
   ]
  },
  {
   "cell_type": "code",
   "execution_count": 33,
   "metadata": {},
   "outputs": [
    {
     "name": "stdout",
     "output_type": "stream",
     "text": [
      "\u001b[32m\u001b[1m  Updating\u001b[22m\u001b[39m git-repo `https://github.com/JuliaIntervals/IntervalArithmetic.jl.git`\n",
      "\u001b[?25l\u001b[2K\u001b[?25h\u001b[32m\u001b[1m Resolving\u001b[22m\u001b[39m package versions...\n",
      "\u001b[32m\u001b[1m  Updating\u001b[22m\u001b[39m `~/.julia/environments/v1.2/Project.toml`\n",
      " \u001b[90m [d1acc4aa]\u001b[39m\u001b[95m ↓ IntervalArithmetic v0.16.3 #master (https://github.com/JuliaIntervals/IntervalArithmetic.jl.git) ⇒ v0.16.2 #v0.16.2 (https://github.com/JuliaIntervals/IntervalArithmetic.jl.git)\u001b[39m\n",
      "\u001b[32m\u001b[1m  Updating\u001b[22m\u001b[39m `~/.julia/environments/v1.2/Manifest.toml`\n",
      " \u001b[90m [d1acc4aa]\u001b[39m\u001b[95m ↓ IntervalArithmetic v0.16.3 #master (https://github.com/JuliaIntervals/IntervalArithmetic.jl.git) ⇒ v0.16.2 #v0.16.2 (https://github.com/JuliaIntervals/IntervalArithmetic.jl.git)\u001b[39m\n"
     ]
    }
   ],
   "source": [
    "] add IntervalArithmetic#v0.16.2"
   ]
  },
  {
   "cell_type": "code",
   "execution_count": 1,
   "metadata": {},
   "outputs": [
    {
     "name": "stderr",
     "output_type": "stream",
     "text": [
      "┌ Info: Recompiling stale cache file /home/mforets/.julia/compiled/v1.2/IntervalMatrices/VerWp.ji for IntervalMatrices [5c1f47dc-42dd-5697-8aaa-4d102d140ba9]\n",
      "└ @ Base loading.jl:1240\n"
     ]
    }
   ],
   "source": [
    "using Revise, IntervalMatrices, BenchmarkTools"
   ]
  },
  {
   "cell_type": "code",
   "execution_count": 3,
   "metadata": {},
   "outputs": [
    {
     "name": "stdout",
     "output_type": "stream",
     "text": [
      "  3.511 μs (76 allocations: 2.94 KiB)\n"
     ]
    },
    {
     "data": {
      "text/plain": [
       "2×2 IntervalMatrix{Float64,Interval{Float64},Array{Interval{Float64},2}}:\n",
       " [0.670644, 2.87752]  [-1.66151, 1.47012]\n",
       " [0.104481, 1.40329]   [1.54601, 2.73823]"
      ]
     },
     "execution_count": 3,
     "metadata": {},
     "output_type": "execute_result"
    }
   ],
   "source": [
    "n = 2\n",
    "M = rand(IntervalMatrix, n, n)\n",
    "@btime square($M)"
   ]
  },
  {
   "cell_type": "code",
   "execution_count": 7,
   "metadata": {},
   "outputs": [
    {
     "name": "stdout",
     "output_type": "stream",
     "text": [
      "  189.864 ns (2 allocations: 160 bytes)\n"
     ]
    },
    {
     "data": {
      "text/plain": [
       "2×2 IntervalMatrix{Float64,Interval{Float64},Array{Interval{Float64},2}}:\n",
       " [0.670644, 2.87752]  [-1.66151, 1.47012]\n",
       " [0.104481, 1.40329]   [1.54601, 2.73823]"
      ]
     },
     "execution_count": 7,
     "metadata": {},
     "output_type": "execute_result"
    }
   ],
   "source": [
    "# initial implementation\n",
    "@btime quadratic_expansion($M, 0.0, 1.0)"
   ]
  },
  {
   "cell_type": "code",
   "execution_count": 8,
   "metadata": {},
   "outputs": [
    {
     "name": "stdout",
     "output_type": "stream",
     "text": [
      "  252.130 ns (2 allocations: 160 bytes)\n"
     ]
    },
    {
     "data": {
      "text/plain": [
       "2×2 IntervalMatrix{Float64,Interval{Float64},Array{Interval{Float64},2}}:\n",
       " [0.670644, 2.87752]  [-1.66151, 1.47012]\n",
       " [0.104481, 1.40329]   [1.54601, 2.73823]"
      ]
     },
     "execution_count": 8,
     "metadata": {},
     "output_type": "execute_result"
    }
   ],
   "source": [
    "# using combine\n",
    "@btime quadratic_expansion($M, 0.0, 1.0)"
   ]
  },
  {
   "cell_type": "code",
   "execution_count": 9,
   "metadata": {},
   "outputs": [
    {
     "data": {
      "text/plain": [
       "1.3227513227513226"
      ]
     },
     "execution_count": 9,
     "metadata": {},
     "output_type": "execute_result"
    }
   ],
   "source": [
    "250e-9 / 189e-9"
   ]
  },
  {
   "cell_type": "code",
   "execution_count": 6,
   "metadata": {},
   "outputs": [
    {
     "data": {
      "text/plain": [
       "2×2 BitArray{2}:\n",
       " 1  1\n",
       " 1  1"
      ]
     },
     "execution_count": 6,
     "metadata": {},
     "output_type": "execute_result"
    }
   ],
   "source": [
    "square(M) .≈ quadratic_expansion(M, 0.0, 1.0)"
   ]
  },
  {
   "cell_type": "code",
   "execution_count": 10,
   "metadata": {},
   "outputs": [
    {
     "data": {
      "text/plain": [
       "[-2.98092, 3.70507]"
      ]
     },
     "execution_count": 10,
     "metadata": {},
     "output_type": "execute_result"
    }
   ],
   "source": [
    "square(M)[1, 1]"
   ]
  },
  {
   "cell_type": "code",
   "execution_count": 11,
   "metadata": {},
   "outputs": [
    {
     "data": {
      "text/plain": [
       "[-3.69527, 3.70507]"
      ]
     },
     "execution_count": 11,
     "metadata": {},
     "output_type": "execute_result"
    }
   ],
   "source": [
    "quadratic_expansion(M, 0.0, 1.0)[1, 1]"
   ]
  },
  {
   "cell_type": "code",
   "execution_count": 15,
   "metadata": {},
   "outputs": [
    {
     "data": {
      "text/plain": [
       "[-0.714357, 1.32575]"
      ]
     },
     "execution_count": 15,
     "metadata": {},
     "output_type": "execute_result"
    }
   ],
   "source": [
    "M[1, 1] * M[1, 1]"
   ]
  },
  {
   "cell_type": "code",
   "execution_count": 14,
   "metadata": {},
   "outputs": [
    {
     "data": {
      "text/plain": [
       "[0, 1.32575]"
      ]
     },
     "execution_count": 14,
     "metadata": {},
     "output_type": "execute_result"
    }
   ],
   "source": [
    "M[1, 1]^2"
   ]
  },
  {
   "cell_type": "code",
   "execution_count": 16,
   "metadata": {},
   "outputs": [
    {
     "data": {
      "text/plain": [
       "[-0.620419, 1.15142]"
      ]
     },
     "execution_count": 16,
     "metadata": {},
     "output_type": "execute_result"
    }
   ],
   "source": [
    "M[1, 1]"
   ]
  },
  {
   "cell_type": "code",
   "execution_count": 3,
   "metadata": {},
   "outputs": [
    {
     "name": "stdout",
     "output_type": "stream",
     "text": [
      "  5.569 μs (119 allocations: 4.88 KiB)\n",
      "  615.316 ns (2 allocations: 240 bytes)\n"
     ]
    },
    {
     "data": {
      "text/plain": [
       "3×3 IntervalMatrix{Float64,Interval{Float64},Array{Interval{Float64},2}}:\n",
       " [-3.69527, 3.70507]   [0.647382, 5.8043]  [-1.62979, 4.76579] \n",
       " [-3.1649, 1.4932]     [1.40321, 3.02977]  [-0.719162, 2.57553]\n",
       " [-1.71061, 6.71739]  [-3.83558, 1.78861]  [-0.811522, 7.90614]"
      ]
     },
     "execution_count": 3,
     "metadata": {},
     "output_type": "execute_result"
    }
   ],
   "source": [
    "n = 3\n",
    "M = rand(IntervalMatrix, n, n)\n",
    "\n",
    "@btime square($M)\n",
    "@btime quadratic_expansion($M, 0.0, 1.0)"
   ]
  },
  {
   "cell_type": "code",
   "execution_count": 14,
   "metadata": {},
   "outputs": [
    {
     "name": "stdout",
     "output_type": "stream",
     "text": [
      "  5.505 μs (119 allocations: 4.88 KiB)\n",
      "  688.417 ns (2 allocations: 240 bytes)\n"
     ]
    },
    {
     "data": {
      "text/plain": [
       "3×3 IntervalMatrix{Float64,Interval{Float64},Array{Interval{Float64},2}}:\n",
       " [-2.11219, 1.51825]      [-0.997867, 2.81586]  [-1.76149, 0.719917]\n",
       " [-6.16308, 0.597035]     [-2.66268, 3.4297]    [-2.85342, 0.634418]\n",
       " [-0.000393768, 3.23073]  [-1.77136, 2.42684]   [-0.141062, 1.2453] "
      ]
     },
     "execution_count": 14,
     "metadata": {},
     "output_type": "execute_result"
    }
   ],
   "source": [
    "# using combine\n",
    "n = 3\n",
    "M = rand(IntervalMatrix, n, n)\n",
    "\n",
    "@btime square($M)\n",
    "@btime quadratic_expansion($M, 0.0, 1.0)"
   ]
  },
  {
   "cell_type": "code",
   "execution_count": 15,
   "metadata": {},
   "outputs": [
    {
     "data": {
      "text/plain": [
       "3×3 IntervalMatrix{Float64,Interval{Float64},Array{Interval{Float64},2}}:\n",
       " [-2.11219, 1.51825]      [-0.997867, 2.81586]  [-1.76149, 0.719917]\n",
       " [-6.16308, 0.597035]     [-2.66268, 3.4297]    [-2.85342, 0.634418]\n",
       " [-0.000393768, 3.23073]  [-1.77136, 2.42684]   [-0.141062, 1.2453] "
      ]
     },
     "execution_count": 15,
     "metadata": {},
     "output_type": "execute_result"
    }
   ],
   "source": [
    "square(M)"
   ]
  },
  {
   "cell_type": "code",
   "execution_count": 16,
   "metadata": {},
   "outputs": [
    {
     "data": {
      "text/plain": [
       "3×3 IntervalMatrix{Float64,Interval{Float64},Array{Interval{Float64},2}}:\n",
       " [-2.11219, 1.51825]      [-0.997867, 2.81586]  [-1.76149, 0.719917]\n",
       " [-6.16308, 0.597035]     [-2.66268, 3.4297]    [-2.85342, 0.634418]\n",
       " [-0.000393768, 3.23073]  [-1.77136, 2.42684]   [-0.141062, 1.2453] "
      ]
     },
     "execution_count": 16,
     "metadata": {},
     "output_type": "execute_result"
    }
   ],
   "source": [
    "quadratic_expansion(M, 0.0, 1.0)"
   ]
  },
  {
   "cell_type": "code",
   "execution_count": 31,
   "metadata": {},
   "outputs": [
    {
     "name": "stdout",
     "output_type": "stream",
     "text": [
      "  68.493 ns (0 allocations: 0 bytes)\n"
     ]
    },
    {
     "data": {
      "text/plain": [
       "[0, 1]"
      ]
     },
     "execution_count": 31,
     "metadata": {},
     "output_type": "execute_result"
    }
   ],
   "source": [
    "@noinline function f()\n",
    "    return pow(Interval(-1, 1), 10)\n",
    "end\n",
    "\n",
    "@btime f()"
   ]
  },
  {
   "cell_type": "code",
   "execution_count": null,
   "metadata": {},
   "outputs": [],
   "source": []
  },
  {
   "cell_type": "code",
   "execution_count": 22,
   "metadata": {},
   "outputs": [
    {
     "data": {
      "text/plain": [
       "[-1, 1]"
      ]
     },
     "execution_count": 22,
     "metadata": {},
     "output_type": "execute_result"
    }
   ],
   "source": [
    "Interval(-1, 1) * Interval(-1, 1)"
   ]
  },
  {
   "cell_type": "code",
   "execution_count": 11,
   "metadata": {},
   "outputs": [
    {
     "name": "stderr",
     "output_type": "stream",
     "text": [
      "┌ Info: Recompiling stale cache file /home/mforets/.julia/compiled/v1.2/IntervalMatrices/VerWp.ji for IntervalMatrices [5c1f47dc-42dd-5697-8aaa-4d102d140ba9]\n",
      "└ @ Base loading.jl:1240\n"
     ]
    }
   ],
   "source": [
    "using Revise, IntervalArithmetic\n",
    "using BenchmarkTools\n",
    "using IntervalMatrices"
   ]
  },
  {
   "cell_type": "code",
   "execution_count": 6,
   "metadata": {},
   "outputs": [
    {
     "name": "stdout",
     "output_type": "stream",
     "text": [
      "  947.348 ns (29 allocations: 1.25 KiB)\n"
     ]
    },
    {
     "data": {
      "text/plain": [
       "[0, 1]"
      ]
     },
     "execution_count": 6,
     "metadata": {},
     "output_type": "execute_result"
    }
   ],
   "source": [
    "f(x) = x^2\n",
    "y = Interval(0, 1)\n",
    "@btime f($y)"
   ]
  },
  {
   "cell_type": "code",
   "execution_count": 17,
   "metadata": {},
   "outputs": [
    {
     "data": {
      "text/plain": [
       "Wstar (generic function with 1 method)"
      ]
     },
     "execution_count": 17,
     "metadata": {},
     "output_type": "execute_result"
    }
   ],
   "source": [
    "Wstar(A, δ) = 1/2 * A * δ^2 + 1/2 * A^2 * δ^3"
   ]
  },
  {
   "cell_type": "code",
   "execution_count": 54,
   "metadata": {},
   "outputs": [
    {
     "data": {
      "text/plain": [
       "2×2 IntervalMatrix{Float64,Interval{Float64},Array{Interval{Float64},2}}:\n",
       " [-143.198, 51.5174]   [-52.0361, -47.4452]\n",
       " [-121.98, -21.5745]  [-105.322, 47.0649]  "
      ]
     },
     "execution_count": 54,
     "metadata": {},
     "output_type": "execute_result"
    }
   ],
   "source": [
    "A = rand(IntervalMatrix) * 100"
   ]
  },
  {
   "cell_type": "code",
   "execution_count": 55,
   "metadata": {},
   "outputs": [
    {
     "data": {
      "text/plain": [
       "2×2 IntervalMatrix{Float64,Interval{Float64},Array{Interval{Float64},2}}:\n",
       " [-0.0103367, 0.0160024]  [-0.00516672, 0.00409371]\n",
       " [-0.0121116, 0.0140785]  [-0.00723271, 0.0110732] "
      ]
     },
     "execution_count": 55,
     "metadata": {},
     "output_type": "execute_result"
    }
   ],
   "source": [
    "δ = 0.01\n",
    "Ws = Wstar(A, δ)"
   ]
  },
  {
   "cell_type": "code",
   "execution_count": 56,
   "metadata": {},
   "outputs": [
    {
     "data": {
      "text/plain": [
       "2×2 IntervalMatrix{Float64,Interval{Float64},Array{Interval{Float64},2}}:\n",
       " [-0.0103367, 0.00707657]  [-0.00516672, 0.00386417]\n",
       " [-0.0121116, 0.00905817]  [-0.00723271, 0.00663447]"
      ]
     },
     "execution_count": 56,
     "metadata": {},
     "output_type": "execute_result"
    }
   ],
   "source": [
    "Wqe = quadratic_expansion(A, 1/2*δ^2, 1/2*δ^3)"
   ]
  },
  {
   "cell_type": "code",
   "execution_count": 57,
   "metadata": {},
   "outputs": [
    {
     "data": {
      "text/plain": [
       "2×2 Array{Float64,2}:\n",
       " 0.00892577  0.000229537\n",
       " 0.00502027  0.00443872 "
      ]
     },
     "execution_count": 57,
     "metadata": {},
     "output_type": "execute_result"
    }
   ],
   "source": [
    "diam(Ws) - diam(Wqe)"
   ]
  },
  {
   "cell_type": "markdown",
   "metadata": {},
   "source": [
    "## Faster square"
   ]
  },
  {
   "cell_type": "code",
   "execution_count": 3,
   "metadata": {},
   "outputs": [],
   "source": [
    "using IntervalMatrices: square_v2"
   ]
  },
  {
   "cell_type": "code",
   "execution_count": 14,
   "metadata": {},
   "outputs": [
    {
     "name": "stdout",
     "output_type": "stream",
     "text": [
      "  3.366 μs (88 allocations: 3.89 KiB)\n"
     ]
    },
    {
     "data": {
      "text/plain": [
       "2×2 IntervalMatrix{Float64,Interval{Float64},Array{Interval{Float64},2}}:\n",
       "  [0.0409632, 4.74014]  [-1.66928, 5.37961]  \n",
       " [-1.49507, 4.81819]     [0.0409632, 5.80631]"
      ]
     },
     "execution_count": 14,
     "metadata": {},
     "output_type": "execute_result"
    }
   ],
   "source": [
    "n = 2\n",
    "M = rand(IntervalMatrix, n, n)\n",
    "@btime square($M)"
   ]
  },
  {
   "cell_type": "code",
   "execution_count": 15,
   "metadata": {},
   "outputs": [
    {
     "name": "stdout",
     "output_type": "stream",
     "text": [
      "  162.732 ns (2 allocations: 160 bytes)\n"
     ]
    },
    {
     "data": {
      "text/plain": [
       "2×2 IntervalMatrix{Float64,Interval{Float64},Array{Interval{Float64},2}}:\n",
       "  [0.0409632, 4.74014]  [-1.66928, 5.37961]  \n",
       " [-1.49507, 4.81819]     [0.0409632, 5.80631]"
      ]
     },
     "execution_count": 15,
     "metadata": {},
     "output_type": "execute_result"
    }
   ],
   "source": [
    "@btime square_v2($M)"
   ]
  },
  {
   "cell_type": "code",
   "execution_count": 16,
   "metadata": {},
   "outputs": [
    {
     "data": {
      "text/plain": [
       "0.0"
      ]
     },
     "execution_count": 16,
     "metadata": {},
     "output_type": "execute_result"
    }
   ],
   "source": [
    "opnorm(diam(square(M)) .- diam(square_v2(M)))"
   ]
  },
  {
   "cell_type": "code",
   "execution_count": null,
   "metadata": {},
   "outputs": [],
   "source": []
  }
 ],
 "metadata": {
  "kernelspec": {
   "display_name": "Julia 1.2.0",
   "language": "julia",
   "name": "julia-1.2"
  },
  "language_info": {
   "file_extension": ".jl",
   "mimetype": "application/julia",
   "name": "julia",
   "version": "1.2.0"
  }
 },
 "nbformat": 4,
 "nbformat_minor": 2
}
