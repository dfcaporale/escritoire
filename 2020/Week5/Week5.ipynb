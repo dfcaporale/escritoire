{
 "cells": [
  {
   "cell_type": "markdown",
   "metadata": {},
   "source": [
    "# Refactor polygon boundedness check ([LazySets#1925](https://github.com/JuliaReach/LazySets.jl/issues/1925))"
   ]
  },
  {
   "cell_type": "code",
   "execution_count": 1,
   "metadata": {},
   "outputs": [
    {
     "name": "stderr",
     "output_type": "stream",
     "text": [
      "┌ Info: Recompiling stale cache file /home/mforets/.julia/compiled/v1.2/ReachabilityAnalysis/fYI0z.ji for ReachabilityAnalysis [1e97bd63-91d1-579d-8e8d-501d2b57c93f]\n",
      "└ @ Base loading.jl:1240\n"
     ]
    }
   ],
   "source": [
    "using Revise, ReachabilityAnalysis"
   ]
  },
  {
   "cell_type": "code",
   "execution_count": null,
   "metadata": {},
   "outputs": [],
   "source": [
    "@system"
   ]
  },
  {
   "cell_type": "code",
   "execution_count": 3,
   "metadata": {},
   "outputs": [
    {
     "data": {
      "text/plain": [
       "HPolygon{Float64}(HalfSpace{Float64,VN} where VN<:AbstractArray{Float64,1}[HalfSpace{Float64,Array{Float64,1}}([1.261028856189669, 1.3878735112026346], 1.2919114867674186), HalfSpace{Float64,Array{Float64,1}}([0.13162348864246542, 0.46729639650253496], 0.6960427258834989), HalfSpace{Float64,Array{Float64,1}}([-0.2847803843054808, 0.502842596864258], 1.328225752651445), HalfSpace{Float64,Array{Float64,1}}([-1.5904476178889724, -1.09839250216917], 1.2166533887508149), HalfSpace{Float64,Array{Float64,1}}([-0.6061499025734981, -0.6318548474879431], 0.4643511951445736), HalfSpace{Float64,Array{Float64,1}}([1.0887255599358168, -0.6277651549123144], 0.2398672848766943)])"
      ]
     },
     "execution_count": 3,
     "metadata": {},
     "output_type": "execute_result"
    }
   ],
   "source": [
    "H = rand(HPolygon)"
   ]
  },
  {
   "cell_type": "code",
   "execution_count": 8,
   "metadata": {},
   "outputs": [],
   "source": [
    "using BenchmarkTools"
   ]
  },
  {
   "cell_type": "code",
   "execution_count": 9,
   "metadata": {},
   "outputs": [
    {
     "name": "stdout",
     "output_type": "stream",
     "text": [
      "  44.787 μs (286 allocations: 18.61 KiB)\n"
     ]
    },
    {
     "data": {
      "text/plain": [
       "true"
      ]
     },
     "execution_count": 9,
     "metadata": {},
     "output_type": "execute_result"
    }
   ],
   "source": [
    "@btime isbounded($H, false)"
   ]
  },
  {
   "cell_type": "code",
   "execution_count": 12,
   "metadata": {},
   "outputs": [
    {
     "data": {
      "text/plain": [
       "0.9"
      ]
     },
     "execution_count": 12,
     "metadata": {},
     "output_type": "execute_result"
    }
   ],
   "source": [
    "45e-6 * 20_000"
   ]
  },
  {
   "cell_type": "code",
   "execution_count": 10,
   "metadata": {},
   "outputs": [
    {
     "data": {
      "text/html": [
       "isbounded(P::<b>AbstractHPolygon</b>, use_type_assumption::<b>Bool</b>) in LazySets at <a href=\"https://github.com/JuliaReach/LazySets.jl/tree/ffe0320ab37a2cc7e06eaf461f04b8743554c4aa//src/Interfaces/AbstractHPolygon.jl#L576\" target=\"_blank\">/home/mforets/.julia/dev/LazySets/src/Interfaces/AbstractHPolygon.jl:576</a>"
      ],
      "text/plain": [
       "isbounded(P::AbstractHPolygon, use_type_assumption::Bool) in LazySets at /home/mforets/.julia/dev/LazySets/src/Interfaces/AbstractHPolygon.jl:576"
      ]
     },
     "execution_count": 10,
     "metadata": {},
     "output_type": "execute_result"
    }
   ],
   "source": [
    "@which isbounded(H, false)"
   ]
  },
  {
   "cell_type": "code",
   "execution_count": 17,
   "metadata": {},
   "outputs": [
    {
     "data": {
      "text/html": [
       "isbounded_unit_dimensions(S::<b>LazySet{N}</b>)<i> where N<:Real</i> in LazySets at <a href=\"https://github.com/JuliaReach/LazySets.jl/tree/ffe0320ab37a2cc7e06eaf461f04b8743554c4aa//src/Interfaces/LazySet.jl#L248\" target=\"_blank\">/home/mforets/.julia/dev/LazySets/src/Interfaces/LazySet.jl:248</a>"
      ],
      "text/plain": [
       "isbounded_unit_dimensions(S::LazySet{N}) where N<:Real in LazySets at /home/mforets/.julia/dev/LazySets/src/Interfaces/LazySet.jl:248"
      ]
     },
     "execution_count": 17,
     "metadata": {},
     "output_type": "execute_result"
    }
   ],
   "source": [
    "@which isbounded_unit_dimensions(HPolyhedron(H.constraints))"
   ]
  },
  {
   "cell_type": "code",
   "execution_count": 20,
   "metadata": {},
   "outputs": [
    {
     "data": {
      "text/plain": [
       "HPolygon{Float64}(HalfSpace{Float64,VN} where VN<:AbstractArray{Float64,1}[HalfSpace{Float64,Array{Float64,1}}([1.261028856189669, 1.3878735112026346], 1.2919114867674186), HalfSpace{Float64,Array{Float64,1}}([0.13162348864246542, 0.46729639650253496], 0.6960427258834989), HalfSpace{Float64,Array{Float64,1}}([-0.2847803843054808, 0.502842596864258], 1.328225752651445), HalfSpace{Float64,Array{Float64,1}}([-1.5904476178889724, -1.09839250216917], 1.2166533887508149), HalfSpace{Float64,Array{Float64,1}}([-0.6061499025734981, -0.6318548474879431], 0.4643511951445736), HalfSpace{Float64,Array{Float64,1}}([1.0887255599358168, -0.6277651549123144], 0.2398672848766943)])"
      ]
     },
     "execution_count": 20,
     "metadata": {},
     "output_type": "execute_result"
    }
   ],
   "source": [
    "H"
   ]
  },
  {
   "cell_type": "code",
   "execution_count": 19,
   "metadata": {},
   "outputs": [
    {
     "name": "stdout",
     "output_type": "stream",
     "text": [
      "  2.928 μs (72 allocations: 3.50 KiB)\n"
     ]
    },
    {
     "data": {
      "text/plain": [
       "true"
      ]
     },
     "execution_count": 19,
     "metadata": {},
     "output_type": "execute_result"
    }
   ],
   "source": [
    "@btime isbounded_unit_dimensions($H)"
   ]
  },
  {
   "cell_type": "markdown",
   "metadata": {},
   "source": [
    "# Add @ivp macro (MathematicalSystems#)"
   ]
  },
  {
   "cell_type": "code",
   "execution_count": 2,
   "metadata": {},
   "outputs": [],
   "source": [
    "using Revise, MathematicalSystems "
   ]
  },
  {
   "cell_type": "markdown",
   "metadata": {},
   "source": [
    "Ueli has proposed to overload the `@system` macro with the initial condition, eg.\n",
    "\n",
    "```julia\n",
    "    @system(x' = -ax, x(0) ∈ X0)\n",
    "```"
   ]
  },
  {
   "cell_type": "markdown",
   "metadata": {},
   "source": [
    "# RA, linear"
   ]
  },
  {
   "cell_type": "code",
   "execution_count": 3,
   "metadata": {},
   "outputs": [
    {
     "name": "stderr",
     "output_type": "stream",
     "text": [
      "┌ Info: Recompiling stale cache file /home/mforets/.julia/compiled/v1.2/ReachabilityAnalysis/fYI0z.ji for ReachabilityAnalysis [1e97bd63-91d1-579d-8e8d-501d2b57c93f]\n",
      "└ @ Base loading.jl:1240\n"
     ]
    }
   ],
   "source": [
    "using Revise, ReachabilityAnalysis"
   ]
  },
  {
   "cell_type": "code",
   "execution_count": 4,
   "metadata": {},
   "outputs": [
    {
     "data": {
      "text/plain": [
       "InitialValueProblem{LinearContinuousSystem{Bool,IdentityMultiple{Bool}},Interval{Float64,IntervalArithmetic.Interval{Float64}}}(LinearContinuousSystem{Bool,IdentityMultiple{Bool}}(Bool[1]), Interval{Float64,IntervalArithmetic.Interval{Float64}}([0, 1]))"
      ]
     },
     "execution_count": 4,
     "metadata": {},
     "output_type": "execute_result"
    }
   ],
   "source": [
    "#P = @ivp(x' = x, x(0) ∈ Interval(0, 1))\n",
    "S = @system(x' = x)\n",
    "P = InitialValueProblem(S, Interval(0, 1))"
   ]
  },
  {
   "cell_type": "code",
   "execution_count": 5,
   "metadata": {},
   "outputs": [
    {
     "ename": "UndefVarError",
     "evalue": "UndefVarError: BFFPSV18 not defined",
     "output_type": "error",
     "traceback": [
      "UndefVarError: BFFPSV18 not defined",
      "",
      "Stacktrace:",
      " [1] default_continuous_post(::InitialValueProblem{LinearContinuousSystem{Bool,IdentityMultiple{Bool}},Interval{Float64,IntervalArithmetic.Interval{Float64}}}) at /home/mforets/.julia/dev/ReachabilityAnalysis/src/solve.jl:24",
      " [2] (::getfield(ReachabilityAnalysis, Symbol(\"#kw##solve\")))(::NamedTuple{(:T,),Tuple{Float64}}, ::typeof(solve), ::InitialValueProblem{LinearContinuousSystem{Bool,IdentityMultiple{Bool}},Interval{Float64,IntervalArithmetic.Interval{Float64}}}) at ./none:0",
      " [3] top-level scope at In[5]:1"
     ]
    }
   ],
   "source": [
    "solve(P, T=1.0)"
   ]
  },
  {
   "cell_type": "markdown",
   "metadata": {},
   "source": [
    "# Symbolic interval matrix power"
   ]
  },
  {
   "cell_type": "code",
   "execution_count": 1,
   "metadata": {},
   "outputs": [],
   "source": [
    "using Revise"
   ]
  },
  {
   "cell_type": "code",
   "execution_count": 3,
   "metadata": {},
   "outputs": [
    {
     "name": "stderr",
     "output_type": "stream",
     "text": [
      "┌ Info: Recompiling stale cache file /home/mforets/.julia/compiled/v1.2/ModelingToolkit/Qmdqu.ji for ModelingToolkit [961ee093-0014-501f-94e3-6117800e7a78]\n",
      "└ @ Base loading.jl:1240\n"
     ]
    }
   ],
   "source": [
    "using ModelingToolkit"
   ]
  },
  {
   "cell_type": "code",
   "execution_count": 4,
   "metadata": {},
   "outputs": [
    {
     "data": {
      "text/plain": [
       "(Operation[A₁̒₁ A₁̒₂; A₂̒₁ A₂̒₂],)"
      ]
     },
     "execution_count": 4,
     "metadata": {},
     "output_type": "execute_result"
    }
   ],
   "source": [
    "@variables A[1:2, 1:2]"
   ]
  },
  {
   "cell_type": "code",
   "execution_count": 9,
   "metadata": {},
   "outputs": [
    {
     "data": {
      "text/plain": [
       "2×2 Array{Operation,2}:\n",
       " A₁̒₁ * A₁̒₁ + A₁̒₂ * A₂̒₁  A₁̒₁ * A₁̒₂ + A₁̒₂ * A₂̒₂\n",
       " A₂̒₁ * A₁̒₁ + A₂̒₂ * A₂̒₁  A₂̒₁ * A₁̒₂ + A₂̒₂ * A₂̒₂"
      ]
     },
     "execution_count": 9,
     "metadata": {},
     "output_type": "execute_result"
    }
   ],
   "source": [
    "A2 = A * A"
   ]
  },
  {
   "cell_type": "code",
   "execution_count": 10,
   "metadata": {},
   "outputs": [
    {
     "data": {
      "text/plain": [
       "2×2 Array{Operation,2}:\n",
       " A₁̒₁ * A₁̒₁ + A₁̒₂ * A₂̒₁  A₁̒₁ * A₁̒₂ + A₁̒₂ * A₂̒₂\n",
       " A₂̒₁ * A₁̒₁ + A₂̒₂ * A₂̒₁  A₂̒₁ * A₁̒₂ + A₂̒₂ * A₂̒₂"
      ]
     },
     "execution_count": 10,
     "metadata": {},
     "output_type": "execute_result"
    }
   ],
   "source": [
    "A2"
   ]
  },
  {
   "cell_type": "code",
   "execution_count": 2,
   "metadata": {},
   "outputs": [],
   "source": [
    "using IntervalMatrices"
   ]
  },
  {
   "cell_type": "code",
   "execution_count": 3,
   "metadata": {},
   "outputs": [
    {
     "data": {
      "text/plain": [
       "2×2 IntervalMatrix{Float64,Interval{Float64},Array{Interval{Float64},2}}:\n",
       " [1, 1]    [0, 1]\n",
       " [1, 1]  [-1, -1]"
      ]
     },
     "execution_count": 3,
     "metadata": {},
     "output_type": "execute_result"
    }
   ],
   "source": [
    "A = [Interval(1, 1) Interval(0, 1); Interval(1, 1) Interval(-1, -1)] |> IntervalMatrix"
   ]
  },
  {
   "cell_type": "code",
   "execution_count": 4,
   "metadata": {},
   "outputs": [
    {
     "data": {
      "text/plain": [
       "2×2 IntervalMatrix{Float64,Interval{Float64},Array{Interval{Float64},2}}:\n",
       " [1, 2]  [0, 0]\n",
       " [0, 0]  [1, 2]"
      ]
     },
     "execution_count": 4,
     "metadata": {},
     "output_type": "execute_result"
    }
   ],
   "source": [
    "square(A)"
   ]
  },
  {
   "cell_type": "code",
   "execution_count": 5,
   "metadata": {},
   "outputs": [
    {
     "data": {
      "text/plain": [
       "2×2 IntervalMatrix{Float64,Interval{Float64},Array{Interval{Float64},2}}:\n",
       " [1, 2]  [-1, 1]\n",
       " [0, 0]   [1, 2]"
      ]
     },
     "execution_count": 5,
     "metadata": {},
     "output_type": "execute_result"
    }
   ],
   "source": [
    "A * A"
   ]
  },
  {
   "cell_type": "code",
   "execution_count": 6,
   "metadata": {},
   "outputs": [],
   "source": [
    "using SymEngine"
   ]
  },
  {
   "cell_type": "code",
   "execution_count": 70,
   "metadata": {},
   "outputs": [
    {
     "ename": "LoadError",
     "evalue": "AssertionError: @syms expected a list of symbols",
     "output_type": "error",
     "traceback": [
      "AssertionError: @syms expected a list of symbols",
      "",
      "Stacktrace:",
      " [1] @vars(::LineNumberNode, ::Module, ::Vararg{Any,N} where N) at /home/mforets/.julia/packages/SymEngine/RK5Ks/src/types.jl:164"
     ]
    }
   ],
   "source": [
    "@vars M[1:2]"
   ]
  },
  {
   "cell_type": "code",
   "execution_count": 60,
   "metadata": {},
   "outputs": [
    {
     "data": {
      "text/plain": [
       "2×2 Array{Basic,2}:\n",
       " a  b\n",
       " c  d"
      ]
     },
     "execution_count": 60,
     "metadata": {},
     "output_type": "execute_result"
    }
   ],
   "source": [
    "M = [a b; c d]"
   ]
  },
  {
   "cell_type": "code",
   "execution_count": 25,
   "metadata": {},
   "outputs": [
    {
     "data": {
      "text/plain": [
       "2×2 Array{Basic,2}:\n",
       " b*c + a^2  a*b + b*d\n",
       " a*c + c*d  b*c + d^2"
      ]
     },
     "execution_count": 25,
     "metadata": {},
     "output_type": "execute_result"
    }
   ],
   "source": [
    "M² = M * M"
   ]
  },
  {
   "cell_type": "code",
   "execution_count": 40,
   "metadata": {},
   "outputs": [
    {
     "data": {
      "text/plain": [
       "a*b + b*d"
      ]
     },
     "execution_count": 40,
     "metadata": {},
     "output_type": "execute_result"
    }
   ],
   "source": [
    "expr = M²[1, 2]"
   ]
  },
  {
   "cell_type": "code",
   "execution_count": 38,
   "metadata": {},
   "outputs": [
    {
     "data": {
      "text/plain": [
       "2×2 Array{Basic,2}:\n",
       " a*(b*c + a^2) + c*(a*b + b*d)  b*(b*c + a^2) + d*(a*b + b*d)\n",
       " a*(a*c + c*d) + c*(b*c + d^2)  b*(a*c + c*d) + d*(b*c + d^2)"
      ]
     },
     "execution_count": 38,
     "metadata": {},
     "output_type": "execute_result"
    }
   ],
   "source": [
    "M³ = M * M * M"
   ]
  },
  {
   "cell_type": "code",
   "execution_count": 56,
   "metadata": {},
   "outputs": [
    {
     "data": {
      "text/plain": [
       "a*(b*c + a^2) + c*(a*b + b*d)"
      ]
     },
     "execution_count": 56,
     "metadata": {},
     "output_type": "execute_result"
    }
   ],
   "source": [
    "expr = M³[1, 1]"
   ]
  },
  {
   "cell_type": "code",
   "execution_count": 57,
   "metadata": {},
   "outputs": [
    {
     "data": {
      "text/plain": [
       ":(c * (b * d + a * b) + a * (b * c + a ^ 2))"
      ]
     },
     "execution_count": 57,
     "metadata": {},
     "output_type": "execute_result"
    }
   ],
   "source": [
    "ex = convert(Expr, expr)"
   ]
  },
  {
   "cell_type": "markdown",
   "metadata": {},
   "source": [
    "Idea from: https://discourse.julialang.org/t/substitute-symbols-in-expression/23099"
   ]
  },
  {
   "cell_type": "code",
   "execution_count": 7,
   "metadata": {},
   "outputs": [
    {
     "ename": "UndefVarError",
     "evalue": "UndefVarError: ex not defined",
     "output_type": "error",
     "traceback": [
      "UndefVarError: ex not defined",
      "",
      "Stacktrace:",
      " [1] top-level scope at In[7]:17"
     ]
    }
   ],
   "source": [
    "using MacroTools: postwalk\n",
    "\n",
    "function matsubs(ex)\n",
    "    if ex == :a\n",
    "        return A[1, 1]\n",
    "    elseif ex == :b\n",
    "        return A[1, 2]\n",
    "    elseif ex == :c\n",
    "        return A[2, 1]\n",
    "    elseif ex == :d\n",
    "        return A[2, 2]\n",
    "    else\n",
    "        return ex\n",
    "    end\n",
    "end\n",
    "\n",
    "eval(postwalk(matsubs, ex))"
   ]
  },
  {
   "cell_type": "code",
   "execution_count": 72,
   "metadata": {},
   "outputs": [
    {
     "data": {
      "text/plain": [
       ":([0, 1] + [0, 1] ^ 2 + [0, 1] ^ 3)"
      ]
     },
     "execution_count": 72,
     "metadata": {},
     "output_type": "execute_result"
    }
   ],
   "source": [
    "using MacroTools: postwalk\n",
    "\n",
    "ex = :(x + x^2 + x^3)\n",
    "postwalk(ex -> ex == :x ? Interval(0, 1) : ex, ex)"
   ]
  },
  {
   "cell_type": "code",
   "execution_count": 73,
   "metadata": {},
   "outputs": [
    {
     "data": {
      "text/plain": [
       "[0, 3]"
      ]
     },
     "execution_count": 73,
     "metadata": {},
     "output_type": "execute_result"
    }
   ],
   "source": [
    "eval(ans)"
   ]
  },
  {
   "cell_type": "code",
   "execution_count": 59,
   "metadata": {},
   "outputs": [
    {
     "data": {
      "text/plain": [
       ":(c * (b * d + [0, 1]b) + [0, 1] * (b * c + [0, 1] ^ 2))"
      ]
     },
     "execution_count": 59,
     "metadata": {},
     "output_type": "execute_result"
    }
   ],
   "source": [
    "postwalk(ex -> ex == :a ? Interval(0, 1) : ex, ex)"
   ]
  },
  {
   "cell_type": "code",
   "execution_count": 33,
   "metadata": {},
   "outputs": [
    {
     "data": {
      "text/plain": [
       "4.0 + b*c"
      ]
     },
     "execution_count": 33,
     "metadata": {},
     "output_type": "execute_result"
    }
   ],
   "source": [
    "subs(M²[1, 1], a=> 2.0)"
   ]
  },
  {
   "cell_type": "code",
   "execution_count": 36,
   "metadata": {},
   "outputs": [
    {
     "ename": "StackOverflowError",
     "evalue": "StackOverflowError:",
     "output_type": "error",
     "traceback": [
      "StackOverflowError:",
      "",
      "Stacktrace:",
      " [1] Basic(::Interval{Float64}) at /home/mforets/.julia/packages/SymEngine/RK5Ks/src/types.jl:93",
      " [2] convert(::Type{Basic}, ::Interval{Float64}) at ./number.jl:7",
      " ... (the last 2 lines are repeated 39998 more times)",
      " [79999] Basic(::Interval{Float64}) at /home/mforets/.julia/packages/SymEngine/RK5Ks/src/types.jl:93"
     ]
    }
   ],
   "source": [
    "subs(M3[1, 1], a=>Interval(0, 1), b=>Interval(0, 1), c=>Interval(0, 1), d=>Interval(0, 1))"
   ]
  },
  {
   "cell_type": "code",
   "execution_count": 82,
   "metadata": {},
   "outputs": [],
   "source": [
    "using BenchmarkTools"
   ]
  },
  {
   "cell_type": "code",
   "execution_count": 85,
   "metadata": {},
   "outputs": [
    {
     "name": "stdout",
     "output_type": "stream",
     "text": [
      "  13.011 μs (64 allocations: 1.28 KiB)\n"
     ]
    },
    {
     "data": {
      "text/plain": [
       "2×2 Array{Basic,2}:\n",
       " (a*b + b*d)*(((a*c + c*d)*(b*c + a^2) + (a*c + c*d)*(b*c + d^2))*((a*b + b*d)*(a*c + c*d) + (b*c + a^2)^2) + ((a*c + c*d)*(b*c + a^2) + (a*c + c*d)*(b*c + d^2))*((a*b + b*d)*(a*c + c*d) + (b*c + d^2)^2)) + (b*c + a^2)*(((a*b + b*d)*(b*c + a^2) + (a*b + b*d)*(b*c + d^2))*((a*c + c*d)*(b*c + a^2) + (a*c + c*d)*(b*c + d^2)) + ((a*b + b*d)*(a*c + c*d) + (b*c + a^2)^2)^2)  …  (a*b + b*d)*(((a*b + b*d)*(b*c + a^2) + (a*b + b*d)*(b*c + d^2))*((a*c + c*d)*(b*c + a^2) + (a*c + c*d)*(b*c + d^2)) + ((a*b + b*d)*(a*c + c*d) + (b*c + d^2)^2)^2) + (((a*b + b*d)*(b*c + a^2) + (a*b + b*d)*(b*c + d^2))*((a*b + b*d)*(a*c + c*d) + (b*c + a^2)^2) + ((a*b + b*d)*(b*c + a^2) + (a*b + b*d)*(b*c + d^2))*((a*b + b*d)*(a*c + c*d) + (b*c + d^2)^2))*(b*c + a^2)\n",
       " (a*c + c*d)*(((a*b + b*d)*(b*c + a^2) + (a*b + b*d)*(b*c + d^2))*((a*c + c*d)*(b*c + a^2) + (a*c + c*d)*(b*c + d^2)) + ((a*b + b*d)*(a*c + c*d) + (b*c + a^2)^2)^2) + (((a*c + c*d)*(b*c + a^2) + (a*c + c*d)*(b*c + d^2))*((a*b + b*d)*(a*c + c*d) + (b*c + a^2)^2) + ((a*c + c*d)*(b*c + a^2) + (a*c + c*d)*(b*c + d^2))*((a*b + b*d)*(a*c + c*d) + (b*c + d^2)^2))*(b*c + d^2)     (a*c + c*d)*(((a*b + b*d)*(b*c + a^2) + (a*b + b*d)*(b*c + d^2))*((a*b + b*d)*(a*c + c*d) + (b*c + a^2)^2) + ((a*b + b*d)*(b*c + a^2) + (a*b + b*d)*(b*c + d^2))*((a*b + b*d)*(a*c + c*d) + (b*c + d^2)^2)) + (b*c + d^2)*(((a*b + b*d)*(b*c + a^2) + (a*b + b*d)*(b*c + d^2))*((a*c + c*d)*(b*c + a^2) + (a*c + c*d)*(b*c + d^2)) + ((a*b + b*d)*(a*c + c*d) + (b*c + d^2)^2)^2)"
      ]
     },
     "execution_count": 85,
     "metadata": {},
     "output_type": "execute_result"
    }
   ],
   "source": [
    "f(n) = M^n;\n",
    "\n",
    "@btime f(10)"
   ]
  },
  {
   "cell_type": "code",
   "execution_count": 86,
   "metadata": {},
   "outputs": [
    {
     "name": "stdout",
     "output_type": "stream",
     "text": [
      "  43.105 ns (1 allocation: 112 bytes)\n",
      "  3.289 μs (17 allocations: 336 bytes)\n",
      "  6.408 μs (30 allocations: 640 bytes)\n",
      "  6.638 μs (34 allocations: 672 bytes)\n",
      "  9.689 μs (47 allocations: 976 bytes)\n",
      "  9.722 μs (47 allocations: 976 bytes)\n",
      "  12.926 μs (60 allocations: 1.25 KiB)\n",
      "  10.483 μs (51 allocations: 1008 bytes)\n",
      "  13.045 μs (64 allocations: 1.28 KiB)\n",
      "  13.124 μs (64 allocations: 1.28 KiB)\n"
     ]
    }
   ],
   "source": [
    "[@btime f($i) for i in 1:10]"
   ]
  },
  {
   "cell_type": "code",
   "execution_count": 89,
   "metadata": {},
   "outputs": [
    {
     "data": {
      "text/plain": [
       "10×10 Array{Basic,2}:\n",
       " #undef  #undef  #undef  #undef  #undef  …  #undef  #undef  #undef  #undef\n",
       " #undef  #undef  #undef  #undef  #undef     #undef  #undef  #undef  #undef\n",
       " #undef  #undef  #undef  #undef  #undef     #undef  #undef  #undef  #undef\n",
       " #undef  #undef  #undef  #undef  #undef     #undef  #undef  #undef  #undef\n",
       " #undef  #undef  #undef  #undef  #undef     #undef  #undef  #undef  #undef\n",
       " #undef  #undef  #undef  #undef  #undef  …  #undef  #undef  #undef  #undef\n",
       " #undef  #undef  #undef  #undef  #undef     #undef  #undef  #undef  #undef\n",
       " #undef  #undef  #undef  #undef  #undef     #undef  #undef  #undef  #undef\n",
       " #undef  #undef  #undef  #undef  #undef     #undef  #undef  #undef  #undef\n",
       " #undef  #undef  #undef  #undef  #undef     #undef  #undef  #undef  #undef"
      ]
     },
     "execution_count": 89,
     "metadata": {},
     "output_type": "execute_result"
    }
   ],
   "source": [
    "n = 10\n",
    "Ms = Matrix{SymEngine.Basic}(undef, n, n)"
   ]
  },
  {
   "cell_type": "code",
   "execution_count": 8,
   "metadata": {},
   "outputs": [
    {
     "data": {
      "text/plain": [
       "subidx (generic function with 1 method)"
      ]
     },
     "execution_count": 8,
     "metadata": {},
     "output_type": "execute_result"
    }
   ],
   "source": [
    "subidx(i) = join(Char.(0x2080 .+ convert.(UInt16, digits(i)[end:-1:1])))"
   ]
  },
  {
   "cell_type": "code",
   "execution_count": 11,
   "metadata": {},
   "outputs": [
    {
     "data": {
      "text/plain": [
       "_symbolic_matrix (generic function with 1 method)"
      ]
     },
     "execution_count": 11,
     "metadata": {},
     "output_type": "execute_result"
    }
   ],
   "source": [
    "n = 2\n",
    "# create a new symbolic matrix of order n with name M\n",
    "# e.g. for order n = 2,\n",
    "# _symbolic_matrix(2)\n",
    "# 2×2 Array{Basic,2}:\n",
    "# M₁₁  M₁₂\n",
    "# M₂₁  M₂₂\n",
    "#\n",
    "function _symbolic_matrix(n; name=\"M\")\n",
    "    M = Matrix{SymEngine.Basic}(undef, n, n)\n",
    "    for i in 1:n, j in 1:n\n",
    "        M[i, j] = name * subidx(i) * subidx(j)\n",
    "    end\n",
    "    return M\n",
    "end"
   ]
  },
  {
   "cell_type": "code",
   "execution_count": 41,
   "metadata": {},
   "outputs": [
    {
     "data": {
      "text/plain": [
       "2×2 Array{Basic,2}:\n",
       " A₁₁  A₁₂\n",
       " A₂₁  A₂₂"
      ]
     },
     "execution_count": 41,
     "metadata": {},
     "output_type": "execute_result"
    }
   ],
   "source": [
    "Asym = _symbolic_matrix(2, name=\"A\")"
   ]
  },
  {
   "cell_type": "code",
   "execution_count": 40,
   "metadata": {},
   "outputs": [
    {
     "data": {
      "text/plain": [
       "2×2 IntervalMatrix{Float64,Interval{Float64},Array{Interval{Float64},2}}:\n",
       " [1, 1]    [0, 1]\n",
       " [1, 1]  [-1, -1]"
      ]
     },
     "execution_count": 40,
     "metadata": {},
     "output_type": "execute_result"
    }
   ],
   "source": [
    "A"
   ]
  },
  {
   "cell_type": "markdown",
   "metadata": {},
   "source": [
    "Now we would like to substitute the interval matrix `A` into the symbolic matrix `A` after taking some power."
   ]
  },
  {
   "cell_type": "code",
   "execution_count": 42,
   "metadata": {},
   "outputs": [
    {
     "data": {
      "text/plain": [
       "2×2 Array{Basic,2}:\n",
       "   A₁₂*A₂₁ + A₁₁^2  A₁₁*A₁₂ + A₁₂*A₂₂\n",
       " A₁₁*A₂₁ + A₂₂*A₂₁    A₁₂*A₂₁ + A₂₂^2"
      ]
     },
     "execution_count": 42,
     "metadata": {},
     "output_type": "execute_result"
    }
   ],
   "source": [
    "Asym² = Asym^2"
   ]
  },
  {
   "cell_type": "markdown",
   "metadata": {},
   "source": [
    "MacroTools to the rescue."
   ]
  },
  {
   "cell_type": "code",
   "execution_count": 23,
   "metadata": {},
   "outputs": [],
   "source": [
    "using MacroTools: postwalk"
   ]
  },
  {
   "cell_type": "code",
   "execution_count": 43,
   "metadata": {},
   "outputs": [
    {
     "data": {
      "text/plain": [
       "A₁₂*A₂₁ + A₁₁^2"
      ]
     },
     "execution_count": 43,
     "metadata": {},
     "output_type": "execute_result"
    }
   ],
   "source": [
    "Asym²_11 = Asym²[1, 1]"
   ]
  },
  {
   "cell_type": "code",
   "execution_count": 62,
   "metadata": {},
   "outputs": [
    {
     "data": {
      "text/plain": [
       ":(A₁₂ * A₂₁ + A₁₁ ^ 2)"
      ]
     },
     "execution_count": 62,
     "metadata": {},
     "output_type": "execute_result"
    }
   ],
   "source": [
    "ex = Asym²_11\n",
    "ex = convert(Expr, ex) # important (!)"
   ]
  },
  {
   "cell_type": "code",
   "execution_count": 87,
   "metadata": {},
   "outputs": [
    {
     "data": {
      "text/plain": [
       "subs (generic function with 2 methods)"
      ]
     },
     "execution_count": 87,
     "metadata": {},
     "output_type": "execute_result"
    }
   ],
   "source": [
    "function subs(ex, imat, n; name=\"M\")\n",
    "    #println(ex)\n",
    "    for i in 1:n, j in 1:n\n",
    "        name_ij = Symbol(name * subidx(i) * subidx(j))\n",
    "        if ex == name_ij\n",
    "            return imat[i, j]\n",
    "        end\n",
    "    end\n",
    "    return ex\n",
    "end"
   ]
  },
  {
   "cell_type": "code",
   "execution_count": 86,
   "metadata": {},
   "outputs": [
    {
     "name": "stdout",
     "output_type": "stream",
     "text": [
      "+\n",
      "*\n",
      "A₁₂\n",
      "A₂₁\n",
      "[0, 1] * [1, 1]\n",
      "^\n",
      "A₁₁\n",
      "2\n",
      "[1, 1] ^ 2\n",
      "[0, 1] * [1, 1] + [1, 1] ^ 2\n"
     ]
    },
    {
     "data": {
      "text/plain": [
       ":([0, 1] * [1, 1] + [1, 1] ^ 2)"
      ]
     },
     "execution_count": 86,
     "metadata": {},
     "output_type": "execute_result"
    }
   ],
   "source": [
    "postwalk(ex -> subs(ex, A, n, name=\"A\"), ex)"
   ]
  },
  {
   "cell_type": "code",
   "execution_count": 89,
   "metadata": {},
   "outputs": [
    {
     "data": {
      "text/plain": [
       ":([0, 1] * [1, 1] + [1, 1] ^ 2)"
      ]
     },
     "execution_count": 89,
     "metadata": {},
     "output_type": "execute_result"
    }
   ],
   "source": [
    "res = postwalk(ex -> subs(ex, A, n, name=\"A\"), ex)"
   ]
  },
  {
   "cell_type": "code",
   "execution_count": 90,
   "metadata": {},
   "outputs": [
    {
     "data": {
      "text/plain": [
       "[1, 2]"
      ]
     },
     "execution_count": 90,
     "metadata": {},
     "output_type": "execute_result"
    }
   ],
   "source": [
    "eval(res)"
   ]
  },
  {
   "cell_type": "code",
   "execution_count": 96,
   "metadata": {},
   "outputs": [
    {
     "data": {
      "text/plain": [
       ":x"
      ]
     },
     "execution_count": 96,
     "metadata": {},
     "output_type": "execute_result"
    }
   ],
   "source": [
    ":x"
   ]
  },
  {
   "cell_type": "markdown",
   "metadata": {},
   "source": [
    "See also:\n",
    "\n",
    "- https://github.com/chakravala/Reduce.jl"
   ]
  },
  {
   "cell_type": "markdown",
   "metadata": {},
   "source": [
    "## SUE for quadratic expansion"
   ]
  },
  {
   "cell_type": "markdown",
   "metadata": {},
   "source": [
    "https://github.com/JuliaReach/IntervalMatrices.jl/issues/90"
   ]
  },
  {
   "cell_type": "markdown",
   "metadata": {},
   "source": [
    "If we consider $\\alpha A + \\beta A^2$ for scalar coefficients $\\alpha$ and $\\beta$, the SUE formula generalizes what we have written for `quadratic_term` and for `square`. The picture below shores the result."
   ]
  },
  {
   "cell_type": "markdown",
   "metadata": {},
   "source": [
    "<img src=\"20200127_151926.jpg\" alt=\"SUE expression computation\" style=\"width: 700px;\"/>"
   ]
  },
  {
   "cell_type": "code",
   "execution_count": 33,
   "metadata": {},
   "outputs": [
    {
     "name": "stdout",
     "output_type": "stream",
     "text": [
      "\u001b[32m\u001b[1m  Updating\u001b[22m\u001b[39m git-repo `https://github.com/JuliaIntervals/IntervalArithmetic.jl.git`\n",
      "\u001b[?25l\u001b[2K\u001b[?25h\u001b[32m\u001b[1m Resolving\u001b[22m\u001b[39m package versions...\n",
      "\u001b[32m\u001b[1m  Updating\u001b[22m\u001b[39m `~/.julia/environments/v1.2/Project.toml`\n",
      " \u001b[90m [d1acc4aa]\u001b[39m\u001b[95m ↓ IntervalArithmetic v0.16.3 #master (https://github.com/JuliaIntervals/IntervalArithmetic.jl.git) ⇒ v0.16.2 #v0.16.2 (https://github.com/JuliaIntervals/IntervalArithmetic.jl.git)\u001b[39m\n",
      "\u001b[32m\u001b[1m  Updating\u001b[22m\u001b[39m `~/.julia/environments/v1.2/Manifest.toml`\n",
      " \u001b[90m [d1acc4aa]\u001b[39m\u001b[95m ↓ IntervalArithmetic v0.16.3 #master (https://github.com/JuliaIntervals/IntervalArithmetic.jl.git) ⇒ v0.16.2 #v0.16.2 (https://github.com/JuliaIntervals/IntervalArithmetic.jl.git)\u001b[39m\n"
     ]
    }
   ],
   "source": [
    "] add IntervalArithmetic#v0.16.2"
   ]
  },
  {
   "cell_type": "code",
   "execution_count": 1,
   "metadata": {},
   "outputs": [
    {
     "name": "stderr",
     "output_type": "stream",
     "text": [
      "┌ Info: Recompiling stale cache file /home/mforets/.julia/compiled/v1.2/IntervalMatrices/VerWp.ji for IntervalMatrices [5c1f47dc-42dd-5697-8aaa-4d102d140ba9]\n",
      "└ @ Base loading.jl:1240\n"
     ]
    }
   ],
   "source": [
    "using Revise, IntervalMatrices, BenchmarkTools"
   ]
  },
  {
   "cell_type": "code",
   "execution_count": 3,
   "metadata": {},
   "outputs": [
    {
     "name": "stdout",
     "output_type": "stream",
     "text": [
      "  3.511 μs (76 allocations: 2.94 KiB)\n"
     ]
    },
    {
     "data": {
      "text/plain": [
       "2×2 IntervalMatrix{Float64,Interval{Float64},Array{Interval{Float64},2}}:\n",
       " [0.670644, 2.87752]  [-1.66151, 1.47012]\n",
       " [0.104481, 1.40329]   [1.54601, 2.73823]"
      ]
     },
     "execution_count": 3,
     "metadata": {},
     "output_type": "execute_result"
    }
   ],
   "source": [
    "n = 2\n",
    "M = rand(IntervalMatrix, n, n)\n",
    "@btime square($M)"
   ]
  },
  {
   "cell_type": "code",
   "execution_count": 7,
   "metadata": {},
   "outputs": [
    {
     "name": "stdout",
     "output_type": "stream",
     "text": [
      "  189.864 ns (2 allocations: 160 bytes)\n"
     ]
    },
    {
     "data": {
      "text/plain": [
       "2×2 IntervalMatrix{Float64,Interval{Float64},Array{Interval{Float64},2}}:\n",
       " [0.670644, 2.87752]  [-1.66151, 1.47012]\n",
       " [0.104481, 1.40329]   [1.54601, 2.73823]"
      ]
     },
     "execution_count": 7,
     "metadata": {},
     "output_type": "execute_result"
    }
   ],
   "source": [
    "# initial implementation\n",
    "@btime quadratic_expansion($M, 0.0, 1.0)"
   ]
  },
  {
   "cell_type": "code",
   "execution_count": 8,
   "metadata": {},
   "outputs": [
    {
     "name": "stdout",
     "output_type": "stream",
     "text": [
      "  252.130 ns (2 allocations: 160 bytes)\n"
     ]
    },
    {
     "data": {
      "text/plain": [
       "2×2 IntervalMatrix{Float64,Interval{Float64},Array{Interval{Float64},2}}:\n",
       " [0.670644, 2.87752]  [-1.66151, 1.47012]\n",
       " [0.104481, 1.40329]   [1.54601, 2.73823]"
      ]
     },
     "execution_count": 8,
     "metadata": {},
     "output_type": "execute_result"
    }
   ],
   "source": [
    "# using combine\n",
    "@btime quadratic_expansion($M, 0.0, 1.0)"
   ]
  },
  {
   "cell_type": "code",
   "execution_count": 9,
   "metadata": {},
   "outputs": [
    {
     "data": {
      "text/plain": [
       "1.3227513227513226"
      ]
     },
     "execution_count": 9,
     "metadata": {},
     "output_type": "execute_result"
    }
   ],
   "source": [
    "250e-9 / 189e-9"
   ]
  },
  {
   "cell_type": "code",
   "execution_count": 6,
   "metadata": {},
   "outputs": [
    {
     "data": {
      "text/plain": [
       "2×2 BitArray{2}:\n",
       " 1  1\n",
       " 1  1"
      ]
     },
     "execution_count": 6,
     "metadata": {},
     "output_type": "execute_result"
    }
   ],
   "source": [
    "square(M) .≈ quadratic_expansion(M, 0.0, 1.0)"
   ]
  },
  {
   "cell_type": "code",
   "execution_count": 10,
   "metadata": {},
   "outputs": [
    {
     "data": {
      "text/plain": [
       "[-2.98092, 3.70507]"
      ]
     },
     "execution_count": 10,
     "metadata": {},
     "output_type": "execute_result"
    }
   ],
   "source": [
    "square(M)[1, 1]"
   ]
  },
  {
   "cell_type": "code",
   "execution_count": 11,
   "metadata": {},
   "outputs": [
    {
     "data": {
      "text/plain": [
       "[-3.69527, 3.70507]"
      ]
     },
     "execution_count": 11,
     "metadata": {},
     "output_type": "execute_result"
    }
   ],
   "source": [
    "quadratic_expansion(M, 0.0, 1.0)[1, 1]"
   ]
  },
  {
   "cell_type": "code",
   "execution_count": 15,
   "metadata": {},
   "outputs": [
    {
     "data": {
      "text/plain": [
       "[-0.714357, 1.32575]"
      ]
     },
     "execution_count": 15,
     "metadata": {},
     "output_type": "execute_result"
    }
   ],
   "source": [
    "M[1, 1] * M[1, 1]"
   ]
  },
  {
   "cell_type": "code",
   "execution_count": 14,
   "metadata": {},
   "outputs": [
    {
     "data": {
      "text/plain": [
       "[0, 1.32575]"
      ]
     },
     "execution_count": 14,
     "metadata": {},
     "output_type": "execute_result"
    }
   ],
   "source": [
    "M[1, 1]^2"
   ]
  },
  {
   "cell_type": "code",
   "execution_count": 16,
   "metadata": {},
   "outputs": [
    {
     "data": {
      "text/plain": [
       "[-0.620419, 1.15142]"
      ]
     },
     "execution_count": 16,
     "metadata": {},
     "output_type": "execute_result"
    }
   ],
   "source": [
    "M[1, 1]"
   ]
  },
  {
   "cell_type": "code",
   "execution_count": 3,
   "metadata": {},
   "outputs": [
    {
     "name": "stdout",
     "output_type": "stream",
     "text": [
      "  5.569 μs (119 allocations: 4.88 KiB)\n",
      "  615.316 ns (2 allocations: 240 bytes)\n"
     ]
    },
    {
     "data": {
      "text/plain": [
       "3×3 IntervalMatrix{Float64,Interval{Float64},Array{Interval{Float64},2}}:\n",
       " [-3.69527, 3.70507]   [0.647382, 5.8043]  [-1.62979, 4.76579] \n",
       " [-3.1649, 1.4932]     [1.40321, 3.02977]  [-0.719162, 2.57553]\n",
       " [-1.71061, 6.71739]  [-3.83558, 1.78861]  [-0.811522, 7.90614]"
      ]
     },
     "execution_count": 3,
     "metadata": {},
     "output_type": "execute_result"
    }
   ],
   "source": [
    "n = 3\n",
    "M = rand(IntervalMatrix, n, n)\n",
    "\n",
    "@btime square($M)\n",
    "@btime quadratic_expansion($M, 0.0, 1.0)"
   ]
  },
  {
   "cell_type": "code",
   "execution_count": 14,
   "metadata": {},
   "outputs": [
    {
     "name": "stdout",
     "output_type": "stream",
     "text": [
      "  5.505 μs (119 allocations: 4.88 KiB)\n",
      "  688.417 ns (2 allocations: 240 bytes)\n"
     ]
    },
    {
     "data": {
      "text/plain": [
       "3×3 IntervalMatrix{Float64,Interval{Float64},Array{Interval{Float64},2}}:\n",
       " [-2.11219, 1.51825]      [-0.997867, 2.81586]  [-1.76149, 0.719917]\n",
       " [-6.16308, 0.597035]     [-2.66268, 3.4297]    [-2.85342, 0.634418]\n",
       " [-0.000393768, 3.23073]  [-1.77136, 2.42684]   [-0.141062, 1.2453] "
      ]
     },
     "execution_count": 14,
     "metadata": {},
     "output_type": "execute_result"
    }
   ],
   "source": [
    "# using combine\n",
    "n = 3\n",
    "M = rand(IntervalMatrix, n, n)\n",
    "\n",
    "@btime square($M)\n",
    "@btime quadratic_expansion($M, 0.0, 1.0)"
   ]
  },
  {
   "cell_type": "code",
   "execution_count": 15,
   "metadata": {},
   "outputs": [
    {
     "data": {
      "text/plain": [
       "3×3 IntervalMatrix{Float64,Interval{Float64},Array{Interval{Float64},2}}:\n",
       " [-2.11219, 1.51825]      [-0.997867, 2.81586]  [-1.76149, 0.719917]\n",
       " [-6.16308, 0.597035]     [-2.66268, 3.4297]    [-2.85342, 0.634418]\n",
       " [-0.000393768, 3.23073]  [-1.77136, 2.42684]   [-0.141062, 1.2453] "
      ]
     },
     "execution_count": 15,
     "metadata": {},
     "output_type": "execute_result"
    }
   ],
   "source": [
    "square(M)"
   ]
  },
  {
   "cell_type": "code",
   "execution_count": 16,
   "metadata": {},
   "outputs": [
    {
     "data": {
      "text/plain": [
       "3×3 IntervalMatrix{Float64,Interval{Float64},Array{Interval{Float64},2}}:\n",
       " [-2.11219, 1.51825]      [-0.997867, 2.81586]  [-1.76149, 0.719917]\n",
       " [-6.16308, 0.597035]     [-2.66268, 3.4297]    [-2.85342, 0.634418]\n",
       " [-0.000393768, 3.23073]  [-1.77136, 2.42684]   [-0.141062, 1.2453] "
      ]
     },
     "execution_count": 16,
     "metadata": {},
     "output_type": "execute_result"
    }
   ],
   "source": [
    "quadratic_expansion(M, 0.0, 1.0)"
   ]
  },
  {
   "cell_type": "code",
   "execution_count": 31,
   "metadata": {},
   "outputs": [
    {
     "name": "stdout",
     "output_type": "stream",
     "text": [
      "  68.493 ns (0 allocations: 0 bytes)\n"
     ]
    },
    {
     "data": {
      "text/plain": [
       "[0, 1]"
      ]
     },
     "execution_count": 31,
     "metadata": {},
     "output_type": "execute_result"
    }
   ],
   "source": [
    "@noinline function f()\n",
    "    return pow(Interval(-1, 1), 10)\n",
    "end\n",
    "\n",
    "@btime f()"
   ]
  },
  {
   "cell_type": "code",
   "execution_count": null,
   "metadata": {},
   "outputs": [],
   "source": []
  },
  {
   "cell_type": "code",
   "execution_count": 22,
   "metadata": {},
   "outputs": [
    {
     "data": {
      "text/plain": [
       "[-1, 1]"
      ]
     },
     "execution_count": 22,
     "metadata": {},
     "output_type": "execute_result"
    }
   ],
   "source": [
    "Interval(-1, 1) * Interval(-1, 1)"
   ]
  },
  {
   "cell_type": "code",
   "execution_count": 11,
   "metadata": {},
   "outputs": [
    {
     "name": "stderr",
     "output_type": "stream",
     "text": [
      "┌ Info: Recompiling stale cache file /home/mforets/.julia/compiled/v1.2/IntervalMatrices/VerWp.ji for IntervalMatrices [5c1f47dc-42dd-5697-8aaa-4d102d140ba9]\n",
      "└ @ Base loading.jl:1240\n"
     ]
    }
   ],
   "source": [
    "using Revise, IntervalArithmetic\n",
    "using BenchmarkTools\n",
    "using IntervalMatrices"
   ]
  },
  {
   "cell_type": "code",
   "execution_count": 6,
   "metadata": {},
   "outputs": [
    {
     "name": "stdout",
     "output_type": "stream",
     "text": [
      "  947.348 ns (29 allocations: 1.25 KiB)\n"
     ]
    },
    {
     "data": {
      "text/plain": [
       "[0, 1]"
      ]
     },
     "execution_count": 6,
     "metadata": {},
     "output_type": "execute_result"
    }
   ],
   "source": [
    "f(x) = x^2\n",
    "y = Interval(0, 1)\n",
    "@btime f($y)"
   ]
  },
  {
   "cell_type": "code",
   "execution_count": 17,
   "metadata": {},
   "outputs": [
    {
     "data": {
      "text/plain": [
       "Wstar (generic function with 1 method)"
      ]
     },
     "execution_count": 17,
     "metadata": {},
     "output_type": "execute_result"
    }
   ],
   "source": [
    "Wstar(A, δ) = 1/2 * A * δ^2 + 1/2 * A^2 * δ^3"
   ]
  },
  {
   "cell_type": "code",
   "execution_count": 54,
   "metadata": {},
   "outputs": [
    {
     "data": {
      "text/plain": [
       "2×2 IntervalMatrix{Float64,Interval{Float64},Array{Interval{Float64},2}}:\n",
       " [-143.198, 51.5174]   [-52.0361, -47.4452]\n",
       " [-121.98, -21.5745]  [-105.322, 47.0649]  "
      ]
     },
     "execution_count": 54,
     "metadata": {},
     "output_type": "execute_result"
    }
   ],
   "source": [
    "A = rand(IntervalMatrix) * 100"
   ]
  },
  {
   "cell_type": "code",
   "execution_count": 55,
   "metadata": {},
   "outputs": [
    {
     "data": {
      "text/plain": [
       "2×2 IntervalMatrix{Float64,Interval{Float64},Array{Interval{Float64},2}}:\n",
       " [-0.0103367, 0.0160024]  [-0.00516672, 0.00409371]\n",
       " [-0.0121116, 0.0140785]  [-0.00723271, 0.0110732] "
      ]
     },
     "execution_count": 55,
     "metadata": {},
     "output_type": "execute_result"
    }
   ],
   "source": [
    "δ = 0.01\n",
    "Ws = Wstar(A, δ)"
   ]
  },
  {
   "cell_type": "code",
   "execution_count": 56,
   "metadata": {},
   "outputs": [
    {
     "data": {
      "text/plain": [
       "2×2 IntervalMatrix{Float64,Interval{Float64},Array{Interval{Float64},2}}:\n",
       " [-0.0103367, 0.00707657]  [-0.00516672, 0.00386417]\n",
       " [-0.0121116, 0.00905817]  [-0.00723271, 0.00663447]"
      ]
     },
     "execution_count": 56,
     "metadata": {},
     "output_type": "execute_result"
    }
   ],
   "source": [
    "Wqe = quadratic_expansion(A, 1/2*δ^2, 1/2*δ^3)"
   ]
  },
  {
   "cell_type": "code",
   "execution_count": 57,
   "metadata": {},
   "outputs": [
    {
     "data": {
      "text/plain": [
       "2×2 Array{Float64,2}:\n",
       " 0.00892577  0.000229537\n",
       " 0.00502027  0.00443872 "
      ]
     },
     "execution_count": 57,
     "metadata": {},
     "output_type": "execute_result"
    }
   ],
   "source": [
    "diam(Ws) - diam(Wqe)"
   ]
  },
  {
   "cell_type": "markdown",
   "metadata": {},
   "source": [
    "## Faster square"
   ]
  },
  {
   "cell_type": "code",
   "execution_count": 3,
   "metadata": {},
   "outputs": [],
   "source": [
    "using IntervalMatrices: square_v2"
   ]
  },
  {
   "cell_type": "code",
   "execution_count": 14,
   "metadata": {},
   "outputs": [
    {
     "name": "stdout",
     "output_type": "stream",
     "text": [
      "  3.366 μs (88 allocations: 3.89 KiB)\n"
     ]
    },
    {
     "data": {
      "text/plain": [
       "2×2 IntervalMatrix{Float64,Interval{Float64},Array{Interval{Float64},2}}:\n",
       "  [0.0409632, 4.74014]  [-1.66928, 5.37961]  \n",
       " [-1.49507, 4.81819]     [0.0409632, 5.80631]"
      ]
     },
     "execution_count": 14,
     "metadata": {},
     "output_type": "execute_result"
    }
   ],
   "source": [
    "n = 2\n",
    "M = rand(IntervalMatrix, n, n)\n",
    "@btime square($M)"
   ]
  },
  {
   "cell_type": "code",
   "execution_count": 15,
   "metadata": {},
   "outputs": [
    {
     "name": "stdout",
     "output_type": "stream",
     "text": [
      "  162.732 ns (2 allocations: 160 bytes)\n"
     ]
    },
    {
     "data": {
      "text/plain": [
       "2×2 IntervalMatrix{Float64,Interval{Float64},Array{Interval{Float64},2}}:\n",
       "  [0.0409632, 4.74014]  [-1.66928, 5.37961]  \n",
       " [-1.49507, 4.81819]     [0.0409632, 5.80631]"
      ]
     },
     "execution_count": 15,
     "metadata": {},
     "output_type": "execute_result"
    }
   ],
   "source": [
    "@btime square_v2($M)"
   ]
  },
  {
   "cell_type": "code",
   "execution_count": 16,
   "metadata": {},
   "outputs": [
    {
     "data": {
      "text/plain": [
       "0.0"
      ]
     },
     "execution_count": 16,
     "metadata": {},
     "output_type": "execute_result"
    }
   ],
   "source": [
    "opnorm(diam(square(M)) .- diam(square_v2(M)))"
   ]
  },
  {
   "cell_type": "markdown",
   "metadata": {},
   "source": [
    "Most of the speedup comes from using `pow` instead of `^` in IntervalArithmetic. See https://github.com/JuliaIntervals/IntervalArithmetic.jl/pull/210#issuecomment-578943429"
   ]
  },
  {
   "cell_type": "markdown",
   "metadata": {},
   "source": [
    "# ProfileVega "
   ]
  },
  {
   "cell_type": "code",
   "execution_count": 62,
   "metadata": {},
   "outputs": [
    {
     "name": "stderr",
     "output_type": "stream",
     "text": [
      "┌ Info: Precompiling ProfileVega [4391764f-db79-4bd7-a4c6-f9062de4300e]\n",
      "└ @ Base loading.jl:1242\n",
      "WARN Can not resolve event source: window\n",
      "WARN Can not resolve event source: window\n"
     ]
    },
    {
     "data": {
      "application/vnd.vegalite.v3+json": {
       "data": {
        "values": [
         {
          "level": 0,
          "sf": "ip:0x0",
          "status": "Runtime dispatch",
          "x1": 1,
          "x2": 223.9
         },
         {
          "level": 1,
          "sf": "(::getfield(IJulia, Symbol(\"##15#18\")))() at task.jl:268",
          "status": "Default",
          "x1": 1,
          "x2": 205.9
         },
         {
          "level": 2,
          "sf": "eventloop(::ZMQ.Socket) at eventloop.jl:8",
          "status": "Default",
          "x1": 1,
          "x2": 205.9
         },
         {
          "level": 3,
          "sf": "invokelatest at essentials.jl:789 [inlined]",
          "status": "Default",
          "x1": 1,
          "x2": 205.9
         },
         {
          "level": 4,
          "sf": "#invokelatest#1 at essentials.jl:790 [inlined]",
          "status": "Runtime dispatch",
          "x1": 1,
          "x2": 205.9
         },
         {
          "level": 5,
          "sf": "execute_request(::ZMQ.Socket, ::IJulia.Msg) at execute_request.jl:67",
          "status": "Runtime dispatch",
          "x1": 1,
          "x2": 205.9
         },
         {
          "level": 6,
          "sf": "softscope_include_string(::Module, ::String, ::String) at SoftGlobalScope.jl:218",
          "status": "Default",
          "x1": 1,
          "x2": 205.9
         },
         {
          "level": 7,
          "sf": "eval at boot.jl:330 [inlined]",
          "status": "Runtime dispatch",
          "x1": 1,
          "x2": 205.9
         },
         {
          "level": 8,
          "sf": "typeinf_ext(::Core.MethodInstance, ::UInt64) at typeinfer.jl:599",
          "status": "Default",
          "x1": 1,
          "x2": 23.9
         },
         {
          "level": 9,
          "sf": "typeinf_ext(::Core.MethodInstance, ::Core.Compiler.Params) at typeinfer.jl:566",
          "status": "Default",
          "x1": 1,
          "x2": 1.9
         },
         {
          "level": 10,
          "sf": "Core.Compiler.InferenceState(::Core.Compiler.InferenceResult, ::Bool, ::Core.Compiler.Params) at inferencestate.jl:112",
          "status": "Default",
          "x1": 1,
          "x2": 1.9
         },
         {
          "level": 11,
          "sf": "retrieve_code_info at utilities.jl:108 [inlined]",
          "status": "Garbage collection",
          "x1": 1,
          "x2": 1.9
         },
         {
          "level": 9,
          "sf": "typeinf_ext(::Core.MethodInstance, ::Core.Compiler.Params) at typeinfer.jl:568",
          "status": "Default",
          "x1": 2,
          "x2": 23.9
         },
         {
          "level": 10,
          "sf": "typeinf(::Core.Compiler.InferenceState) at typeinfer.jl:12",
          "status": "Default",
          "x1": 2,
          "x2": 19.9
         },
         {
          "level": 11,
          "sf": "typeinf_nocycle(::Core.Compiler.InferenceState) at abstractinterpretation.jl:1230",
          "status": "Default",
          "x1": 2,
          "x2": 19.9
         },
         {
          "level": 12,
          "sf": "typeinf_local(::Core.Compiler.InferenceState) at abstractinterpretation.jl:1160",
          "status": "Default",
          "x1": 2,
          "x2": 16.9
         },
         {
          "level": 13,
          "sf": "abstract_eval(::Any, ::Array{Any,1}, ::Core.Compiler.InferenceState) at abstractinterpretation.jl:917",
          "status": "Default",
          "x1": 2,
          "x2": 16.9
         },
         {
          "level": 14,
          "sf": "abstract_eval_call(::Array{Any,1}, ::Array{Any,1}, ::Array{Any,1}, ::Core.Compiler.InferenceState) at abstractinterpretation.jl:847",
          "status": "Default",
          "x1": 2,
          "x2": 16.9
         },
         {
          "level": 15,
          "sf": "abstract_call(::Any, ::Array{Any,1}, ::Array{Any,1}, ::Array{Any,1}, ::Core.Compiler.InferenceState) at abstractinterpretation.jl:608",
          "status": "Default",
          "x1": 2,
          "x2": 16.9
         },
         {
          "level": 16,
          "sf": "abstract_call(::Any, ::Array{Any,1}, ::Array{Any,1}, ::Array{Any,1}, ::Core.Compiler.InferenceState, ::Int64) at abstractinterpretation.jl:818",
          "status": "Default",
          "x1": 2,
          "x2": 16.9
         },
         {
          "level": 17,
          "sf": "abstract_call_gf_by_type(::Any, ::Array{Any,1}, ::Any, ::Core.Compiler.InferenceState, ::Int64) at abstractinterpretation.jl:93",
          "status": "Default",
          "x1": 2,
          "x2": 7.9
         },
         {
          "level": 18,
          "sf": "abstract_call_method(::Method, ::Any, ::Core.SimpleVector, ::Bool, ::Core.Compiler.InferenceState) at abstractinterpretation.jl:376",
          "status": "Default",
          "x1": 2,
          "x2": 7.9
         },
         {
          "level": 19,
          "sf": "typeinf_edge(::Method, ::Any, ::Core.SimpleVector, ::Core.Compiler.InferenceState) at typeinfer.jl:482",
          "status": "Default",
          "x1": 2,
          "x2": 7.9
         },
         {
          "level": 20,
          "sf": "typeinf(::Core.Compiler.InferenceState) at typeinfer.jl:12",
          "status": "Default",
          "x1": 2,
          "x2": 7.9
         },
         {
          "level": 21,
          "sf": "typeinf_nocycle(::Core.Compiler.InferenceState) at abstractinterpretation.jl:1230",
          "status": "Default",
          "x1": 2,
          "x2": 7.9
         },
         {
          "level": 22,
          "sf": "typeinf_local(::Core.Compiler.InferenceState) at abstractinterpretation.jl:1174",
          "status": "Default",
          "x1": 2,
          "x2": 7.9
         },
         {
          "level": 23,
          "sf": "abstract_eval(::Any, ::Array{Any,1}, ::Core.Compiler.InferenceState) at abstractinterpretation.jl:917",
          "status": "Default",
          "x1": 2,
          "x2": 7.9
         },
         {
          "level": 24,
          "sf": "abstract_eval_call(::Array{Any,1}, ::Array{Any,1}, ::Array{Any,1}, ::Core.Compiler.InferenceState) at abstractinterpretation.jl:847",
          "status": "Default",
          "x1": 2,
          "x2": 7.9
         },
         {
          "level": 25,
          "sf": "abstract_call(::Any, ::Array{Any,1}, ::Array{Any,1}, ::Array{Any,1}, ::Core.Compiler.InferenceState) at abstractinterpretation.jl:608",
          "status": "Default",
          "x1": 2,
          "x2": 7.9
         },
         {
          "level": 26,
          "sf": "abstract_call(::Any, ::Array{Any,1}, ::Array{Any,1}, ::Array{Any,1}, ::Core.Compiler.InferenceState, ::Int64) at abstractinterpretation.jl:818",
          "status": "Default",
          "x1": 2,
          "x2": 7.9
         },
         {
          "level": 27,
          "sf": "abstract_call_gf_by_type(::Any, ::Array{Any,1}, ::Any, ::Core.Compiler.InferenceState, ::Int64) at abstractinterpretation.jl:93",
          "status": "Default",
          "x1": 2,
          "x2": 7.9
         },
         {
          "level": 28,
          "sf": "abstract_call_method(::Method, ::Any, ::Core.SimpleVector, ::Bool, ::Core.Compiler.InferenceState) at abstractinterpretation.jl:376",
          "status": "Default",
          "x1": 2,
          "x2": 7.9
         },
         {
          "level": 29,
          "sf": "typeinf_edge(::Method, ::Any, ::Core.SimpleVector, ::Core.Compiler.InferenceState) at typeinfer.jl:482",
          "status": "Default",
          "x1": 2,
          "x2": 7.9
         },
         {
          "level": 30,
          "sf": "typeinf(::Core.Compiler.InferenceState) at typeinfer.jl:12",
          "status": "Default",
          "x1": 2,
          "x2": 6.9
         },
         {
          "level": 31,
          "sf": "typeinf_nocycle(::Core.Compiler.InferenceState) at abstractinterpretation.jl:1230",
          "status": "Default",
          "x1": 2,
          "x2": 6.9
         },
         {
          "level": 32,
          "sf": "typeinf_local(::Core.Compiler.InferenceState) at abstractinterpretation.jl:1174",
          "status": "Default",
          "x1": 2,
          "x2": 6.9
         },
         {
          "level": 33,
          "sf": "abstract_eval(::Any, ::Array{Any,1}, ::Core.Compiler.InferenceState) at abstractinterpretation.jl:917",
          "status": "Default",
          "x1": 2,
          "x2": 6.9
         },
         {
          "level": 34,
          "sf": "abstract_eval_call(::Array{Any,1}, ::Array{Any,1}, ::Array{Any,1}, ::Core.Compiler.InferenceState) at abstractinterpretation.jl:847",
          "status": "Default",
          "x1": 2,
          "x2": 6.9
         },
         {
          "level": 35,
          "sf": "abstract_call(::Any, ::Array{Any,1}, ::Array{Any,1}, ::Array{Any,1}, ::Core.Compiler.InferenceState) at abstractinterpretation.jl:608",
          "status": "Default",
          "x1": 2,
          "x2": 6.9
         },
         {
          "level": 36,
          "sf": "abstract_call(::Any, ::Array{Any,1}, ::Array{Any,1}, ::Array{Any,1}, ::Core.Compiler.InferenceState, ::Int64) at abstractinterpretation.jl:818",
          "status": "Default",
          "x1": 2,
          "x2": 6.9
         },
         {
          "level": 37,
          "sf": "abstract_call_gf_by_type(::Any, ::Array{Any,1}, ::Any, ::Core.Compiler.InferenceState, ::Int64) at abstractinterpretation.jl:93",
          "status": "Default",
          "x1": 2,
          "x2": 6.9
         },
         {
          "level": 38,
          "sf": "abstract_call_method(::Method, ::Any, ::Core.SimpleVector, ::Bool, ::Core.Compiler.InferenceState) at abstractinterpretation.jl:376",
          "status": "Default",
          "x1": 2,
          "x2": 6.9
         },
         {
          "level": 39,
          "sf": "typeinf_edge(::Method, ::Any, ::Core.SimpleVector, ::Core.Compiler.InferenceState) at typeinfer.jl:482",
          "status": "Default",
          "x1": 2,
          "x2": 6.9
         },
         {
          "level": 40,
          "sf": "typeinf(::Core.Compiler.InferenceState) at typeinfer.jl:12",
          "status": "Default",
          "x1": 2,
          "x2": 6.9
         },
         {
          "level": 41,
          "sf": "typeinf_nocycle(::Core.Compiler.InferenceState) at abstractinterpretation.jl:1230",
          "status": "Default",
          "x1": 2,
          "x2": 6.9
         },
         {
          "level": 42,
          "sf": "typeinf_local(::Core.Compiler.InferenceState) at abstractinterpretation.jl:1174",
          "status": "Default",
          "x1": 2,
          "x2": 6.9
         },
         {
          "level": 43,
          "sf": "abstract_eval(::Any, ::Array{Any,1}, ::Core.Compiler.InferenceState) at abstractinterpretation.jl:917",
          "status": "Default",
          "x1": 2,
          "x2": 6.9
         },
         {
          "level": 44,
          "sf": "abstract_eval_call(::Array{Any,1}, ::Array{Any,1}, ::Array{Any,1}, ::Core.Compiler.InferenceState) at abstractinterpretation.jl:847",
          "status": "Default",
          "x1": 2,
          "x2": 6.9
         },
         {
          "level": 45,
          "sf": "abstract_call(::Any, ::Array{Any,1}, ::Array{Any,1}, ::Array{Any,1}, ::Core.Compiler.InferenceState) at abstractinterpretation.jl:608",
          "status": "Default",
          "x1": 2,
          "x2": 6.9
         },
         {
          "level": 46,
          "sf": "abstract_call(::Any, ::Array{Any,1}, ::Array{Any,1}, ::Array{Any,1}, ::Core.Compiler.InferenceState, ::Int64) at abstractinterpretation.jl:818",
          "status": "Default",
          "x1": 2,
          "x2": 6.9
         },
         {
          "level": 47,
          "sf": "abstract_call_gf_by_type(::Any, ::Array{Any,1}, ::Any, ::Core.Compiler.InferenceState, ::Int64) at abstractinterpretation.jl:93",
          "status": "Default",
          "x1": 2,
          "x2": 6.9
         },
         {
          "level": 48,
          "sf": "abstract_call_method(::Method, ::Any, ::Core.SimpleVector, ::Bool, ::Core.Compiler.InferenceState) at abstractinterpretation.jl:376",
          "status": "Default",
          "x1": 2,
          "x2": 6.9
         },
         {
          "level": 49,
          "sf": "typeinf_edge(::Method, ::Any, ::Core.SimpleVector, ::Core.Compiler.InferenceState) at typeinfer.jl:482",
          "status": "Default",
          "x1": 2,
          "x2": 6.9
         },
         {
          "level": 50,
          "sf": "typeinf(::Core.Compiler.InferenceState) at typeinfer.jl:12",
          "status": "Default",
          "x1": 2,
          "x2": 6.9
         },
         {
          "level": 51,
          "sf": "typeinf_nocycle(::Core.Compiler.InferenceState) at abstractinterpretation.jl:1230",
          "status": "Default",
          "x1": 2,
          "x2": 6.9
         },
         {
          "level": 52,
          "sf": "typeinf_local(::Core.Compiler.InferenceState) at abstractinterpretation.jl:1174",
          "status": "Default",
          "x1": 2,
          "x2": 6.9
         },
         {
          "level": 53,
          "sf": "abstract_eval(::Any, ::Array{Any,1}, ::Core.Compiler.InferenceState) at abstractinterpretation.jl:917",
          "status": "Default",
          "x1": 2,
          "x2": 6.9
         },
         {
          "level": 54,
          "sf": "abstract_eval_call(::Array{Any,1}, ::Array{Any,1}, ::Array{Any,1}, ::Core.Compiler.InferenceState) at abstractinterpretation.jl:847",
          "status": "Default",
          "x1": 2,
          "x2": 6.9
         },
         {
          "level": 55,
          "sf": "abstract_call(::Any, ::Array{Any,1}, ::Array{Any,1}, ::Array{Any,1}, ::Core.Compiler.InferenceState) at abstractinterpretation.jl:608",
          "status": "Default",
          "x1": 2,
          "x2": 6.9
         },
         {
          "level": 56,
          "sf": "abstract_call(::Any, ::Array{Any,1}, ::Array{Any,1}, ::Array{Any,1}, ::Core.Compiler.InferenceState, ::Int64) at abstractinterpretation.jl:818",
          "status": "Default",
          "x1": 2,
          "x2": 6.9
         },
         {
          "level": 57,
          "sf": "abstract_call_gf_by_type(::Any, ::Array{Any,1}, ::Any, ::Core.Compiler.InferenceState, ::Int64) at abstractinterpretation.jl:93",
          "status": "Default",
          "x1": 2,
          "x2": 6.9
         },
         {
          "level": 58,
          "sf": "abstract_call_method(::Method, ::Any, ::Core.SimpleVector, ::Bool, ::Core.Compiler.InferenceState) at abstractinterpretation.jl:376",
          "status": "Default",
          "x1": 2,
          "x2": 6.9
         },
         {
          "level": 59,
          "sf": "typeinf_edge(::Method, ::Any, ::Core.SimpleVector, ::Core.Compiler.InferenceState) at typeinfer.jl:482",
          "status": "Default",
          "x1": 2,
          "x2": 6.9
         },
         {
          "level": 60,
          "sf": "typeinf(::Core.Compiler.InferenceState) at typeinfer.jl:12",
          "status": "Default",
          "x1": 2,
          "x2": 6.9
         },
         {
          "level": 61,
          "sf": "typeinf_nocycle(::Core.Compiler.InferenceState) at abstractinterpretation.jl:1230",
          "status": "Default",
          "x1": 2,
          "x2": 6.9
         },
         {
          "level": 62,
          "sf": "typeinf_local(::Core.Compiler.InferenceState) at abstractinterpretation.jl:1174",
          "status": "Default",
          "x1": 2,
          "x2": 6.9
         },
         {
          "level": 63,
          "sf": "abstract_eval(::Any, ::Array{Any,1}, ::Core.Compiler.InferenceState) at abstractinterpretation.jl:917",
          "status": "Default",
          "x1": 2,
          "x2": 6.9
         },
         {
          "level": 64,
          "sf": "abstract_eval_call(::Array{Any,1}, ::Array{Any,1}, ::Array{Any,1}, ::Core.Compiler.InferenceState) at abstractinterpretation.jl:847",
          "status": "Default",
          "x1": 2,
          "x2": 6.9
         },
         {
          "level": 65,
          "sf": "abstract_call(::Any, ::Array{Any,1}, ::Array{Any,1}, ::Array{Any,1}, ::Core.Compiler.InferenceState) at abstractinterpretation.jl:608",
          "status": "Default",
          "x1": 2,
          "x2": 6.9
         },
         {
          "level": 66,
          "sf": "abstract_call(::Any, ::Array{Any,1}, ::Array{Any,1}, ::Array{Any,1}, ::Core.Compiler.InferenceState, ::Int64) at abstractinterpretation.jl:818",
          "status": "Default",
          "x1": 2,
          "x2": 6.9
         },
         {
          "level": 67,
          "sf": "abstract_call_gf_by_type(::Any, ::Array{Any,1}, ::Any, ::Core.Compiler.InferenceState, ::Int64) at abstractinterpretation.jl:93",
          "status": "Default",
          "x1": 2,
          "x2": 6.9
         },
         {
          "level": 68,
          "sf": "abstract_call_method(::Method, ::Any, ::Core.SimpleVector, ::Bool, ::Core.Compiler.InferenceState) at abstractinterpretation.jl:376",
          "status": "Default",
          "x1": 2,
          "x2": 6.9
         },
         {
          "level": 69,
          "sf": "typeinf_edge(::Method, ::Any, ::Core.SimpleVector, ::Core.Compiler.InferenceState) at typeinfer.jl:482",
          "status": "Default",
          "x1": 2,
          "x2": 6.9
         },
         {
          "level": 70,
          "sf": "typeinf(::Core.Compiler.InferenceState) at typeinfer.jl:12",
          "status": "Default",
          "x1": 2,
          "x2": 6.9
         },
         {
          "level": 71,
          "sf": "typeinf_nocycle(::Core.Compiler.InferenceState) at abstractinterpretation.jl:1230",
          "status": "Default",
          "x1": 2,
          "x2": 6.9
         },
         {
          "level": 72,
          "sf": "typeinf_local(::Core.Compiler.InferenceState) at abstractinterpretation.jl:1174",
          "status": "Default",
          "x1": 2,
          "x2": 6.9
         },
         {
          "level": 73,
          "sf": "abstract_eval(::Any, ::Array{Any,1}, ::Core.Compiler.InferenceState) at abstractinterpretation.jl:917",
          "status": "Default",
          "x1": 2,
          "x2": 6.9
         },
         {
          "level": 74,
          "sf": "abstract_eval_call(::Array{Any,1}, ::Array{Any,1}, ::Array{Any,1}, ::Core.Compiler.InferenceState) at abstractinterpretation.jl:847",
          "status": "Default",
          "x1": 2,
          "x2": 6.9
         },
         {
          "level": 75,
          "sf": "abstract_call(::Any, ::Array{Any,1}, ::Array{Any,1}, ::Array{Any,1}, ::Core.Compiler.InferenceState) at abstractinterpretation.jl:608",
          "status": "Default",
          "x1": 2,
          "x2": 6.9
         },
         {
          "level": 76,
          "sf": "abstract_call(::Any, ::Array{Any,1}, ::Array{Any,1}, ::Array{Any,1}, ::Core.Compiler.InferenceState, ::Int64) at abstractinterpretation.jl:818",
          "status": "Default",
          "x1": 2,
          "x2": 6.9
         },
         {
          "level": 77,
          "sf": "abstract_call_gf_by_type(::Any, ::Array{Any,1}, ::Any, ::Core.Compiler.InferenceState, ::Int64) at abstractinterpretation.jl:93",
          "status": "Default",
          "x1": 2,
          "x2": 6.9
         },
         {
          "level": 78,
          "sf": "abstract_call_method(::Method, ::Any, ::Core.SimpleVector, ::Bool, ::Core.Compiler.InferenceState) at abstractinterpretation.jl:376",
          "status": "Default",
          "x1": 2,
          "x2": 6.9
         },
         {
          "level": 79,
          "sf": "typeinf_edge(::Method, ::Any, ::Core.SimpleVector, ::Core.Compiler.InferenceState) at typeinfer.jl:482",
          "status": "Default",
          "x1": 2,
          "x2": 6.9
         },
         {
          "level": 80,
          "sf": "typeinf(::Core.Compiler.InferenceState) at typeinfer.jl:12",
          "status": "Default",
          "x1": 2,
          "x2": 6.9
         },
         {
          "level": 81,
          "sf": "typeinf_nocycle(::Core.Compiler.InferenceState) at abstractinterpretation.jl:1230",
          "status": "Default",
          "x1": 2,
          "x2": 6.9
         },
         {
          "level": 82,
          "sf": "typeinf_local(::Core.Compiler.InferenceState) at abstractinterpretation.jl:1174",
          "status": "Default",
          "x1": 2,
          "x2": 6.9
         },
         {
          "level": 83,
          "sf": "abstract_eval(::Any, ::Array{Any,1}, ::Core.Compiler.InferenceState) at abstractinterpretation.jl:917",
          "status": "Default",
          "x1": 2,
          "x2": 6.9
         },
         {
          "level": 84,
          "sf": "abstract_eval_call(::Array{Any,1}, ::Array{Any,1}, ::Array{Any,1}, ::Core.Compiler.InferenceState) at abstractinterpretation.jl:847",
          "status": "Default",
          "x1": 2,
          "x2": 6.9
         },
         {
          "level": 85,
          "sf": "abstract_call(::Any, ::Array{Any,1}, ::Array{Any,1}, ::Array{Any,1}, ::Core.Compiler.InferenceState) at abstractinterpretation.jl:608",
          "status": "Default",
          "x1": 2,
          "x2": 6.9
         },
         {
          "level": 86,
          "sf": "abstract_call(::Any, ::Array{Any,1}, ::Array{Any,1}, ::Array{Any,1}, ::Core.Compiler.InferenceState, ::Int64) at abstractinterpretation.jl:818",
          "status": "Default",
          "x1": 2,
          "x2": 6.9
         },
         {
          "level": 87,
          "sf": "abstract_call_gf_by_type(::Any, ::Array{Any,1}, ::Any, ::Core.Compiler.InferenceState, ::Int64) at abstractinterpretation.jl:93",
          "status": "Default",
          "x1": 2,
          "x2": 6.9
         },
         {
          "level": 88,
          "sf": "abstract_call_method(::Method, ::Any, ::Core.SimpleVector, ::Bool, ::Core.Compiler.InferenceState) at abstractinterpretation.jl:376",
          "status": "Default",
          "x1": 2,
          "x2": 6.9
         },
         {
          "level": 89,
          "sf": "typeinf_edge(::Method, ::Any, ::Core.SimpleVector, ::Core.Compiler.InferenceState) at typeinfer.jl:473",
          "status": "Default",
          "x1": 2,
          "x2": 2.9
         },
         {
          "level": 90,
          "sf": "Core.Compiler.InferenceState(::Core.Compiler.InferenceResult, ::Bool, ::Core.Compiler.Params) at inferencestate.jl:115",
          "status": "Default",
          "x1": 2,
          "x2": 2.9
         },
         {
          "level": 91,
          "sf": "Core.Compiler.InferenceState(::Core.Compiler.InferenceResult, ::Core.CodeInfo, ::Bool, ::Core.Compiler.Params) at inferencestate.jl:73",
          "status": "Default",
          "x1": 2,
          "x2": 2.9
         },
         {
          "level": 92,
          "sf": "find_ssavalue_uses(::Array{Any,1}, ::Int64) at utilities.jl:202",
          "status": "Default",
          "x1": 2,
          "x2": 2.9
         },
         {
          "level": 93,
          "sf": "find_ssavalue_uses(::Expr, ::Array{Core.Compiler.BitSet,1}, ::Int64) at utilities.jl:215",
          "status": "Default",
          "x1": 2,
          "x2": 2.9
         },
         {
          "level": 89,
          "sf": "typeinf_edge(::Method, ::Any, ::Core.SimpleVector, ::Core.Compiler.InferenceState) at typeinfer.jl:482",
          "status": "Default",
          "x1": 3,
          "x2": 6.9
         },
         {
          "level": 90,
          "sf": "typeinf(::Core.Compiler.InferenceState) at typeinfer.jl:12",
          "status": "Default",
          "x1": 3,
          "x2": 4.9
         },
         {
          "level": 91,
          "sf": "typeinf_nocycle(::Core.Compiler.InferenceState) at abstractinterpretation.jl:1230",
          "status": "Default",
          "x1": 3,
          "x2": 4.9
         },
         {
          "level": 92,
          "sf": "typeinf_local(::Core.Compiler.InferenceState) at abstractinterpretation.jl:1160",
          "status": "Default",
          "x1": 3,
          "x2": 3.9
         },
         {
          "level": 93,
          "sf": "abstract_eval(::Any, ::Array{Any,1}, ::Core.Compiler.InferenceState) at abstractinterpretation.jl:917",
          "status": "Default",
          "x1": 3,
          "x2": 3.9
         },
         {
          "level": 94,
          "sf": "abstract_eval_call(::Array{Any,1}, ::Array{Any,1}, ::Array{Any,1}, ::Core.Compiler.InferenceState) at abstractinterpretation.jl:847",
          "status": "Default",
          "x1": 3,
          "x2": 3.9
         },
         {
          "level": 95,
          "sf": "abstract_call(::Any, ::Array{Any,1}, ::Array{Any,1}, ::Array{Any,1}, ::Core.Compiler.InferenceState) at abstractinterpretation.jl:608",
          "status": "Default",
          "x1": 3,
          "x2": 3.9
         },
         {
          "level": 96,
          "sf": "abstract_call(::Any, ::Array{Any,1}, ::Array{Any,1}, ::Array{Any,1}, ::Core.Compiler.InferenceState, ::Int64) at abstractinterpretation.jl:818",
          "status": "Default",
          "x1": 3,
          "x2": 3.9
         },
         {
          "level": 97,
          "sf": "abstract_call_gf_by_type(::Any, ::Array{Any,1}, ::Any, ::Core.Compiler.InferenceState, ::Int64) at abstractinterpretation.jl:116",
          "status": "Default",
          "x1": 3,
          "x2": 3.9
         },
         {
          "level": 98,
          "sf": "abstract_call_method_with_const_args(::Any, ::Any, ::Array{Any,1}, ::Core.SimpleVector, ::Core.Compiler.InferenceState) at abstractinterpretation.jl:223",
          "status": "Default",
          "x1": 3,
          "x2": 3.9
         },
         {
          "level": 99,
          "sf": "typeinf(::Core.Compiler.InferenceState) at typeinfer.jl:33",
          "status": "Default",
          "x1": 3,
          "x2": 3.9
         },
         {
          "level": 100,
          "sf": "optimize(::Core.Compiler.OptimizationState, ::Any) at optimize.jl:169",
          "status": "Default",
          "x1": 3,
          "x2": 3.9
         },
         {
          "level": 101,
          "sf": "run_passes(::Core.CodeInfo, ::Int64, ::Core.Compiler.OptimizationState) at driver.jl:116",
          "status": "Default",
          "x1": 3,
          "x2": 3.9
         },
         {
          "level": 102,
          "sf": "ssa_inlining_pass! at inlining.jl:70 [inlined]",
          "status": "Default",
          "x1": 3,
          "x2": 3.9
         },
         {
          "level": 103,
          "sf": "assemble_inline_todo!(::Core.Compiler.IRCode, ::Core.Compiler.OptimizationState) at inlining.jl:1016",
          "status": "Runtime dispatch",
          "x1": 3,
          "x2": 3.9
         },
         {
          "level": 104,
          "sf": "analyze_method!(::Int64, ::Core.Compiler.Signature, ::Any, ::Core.SimpleVector, ::Method, ::Expr, ::Core.Compiler.OptimizationState, ::Bool, ::Nothing, ::Any) at inlining.jl:713",
          "status": "Default",
          "x1": 3,
          "x2": 3.9
         },
         {
          "level": 92,
          "sf": "typeinf_local(::Core.Compiler.InferenceState) at abstractinterpretation.jl:1174",
          "status": "Default",
          "x1": 4,
          "x2": 4.9
         },
         {
          "level": 93,
          "sf": "abstract_eval(::Any, ::Array{Any,1}, ::Core.Compiler.InferenceState) at abstractinterpretation.jl:917",
          "status": "Default",
          "x1": 4,
          "x2": 4.9
         },
         {
          "level": 94,
          "sf": "abstract_eval_call(::Array{Any,1}, ::Array{Any,1}, ::Array{Any,1}, ::Core.Compiler.InferenceState) at abstractinterpretation.jl:847",
          "status": "Default",
          "x1": 4,
          "x2": 4.9
         },
         {
          "level": 95,
          "sf": "abstract_call(::Any, ::Array{Any,1}, ::Array{Any,1}, ::Array{Any,1}, ::Core.Compiler.InferenceState) at abstractinterpretation.jl:608",
          "status": "Default",
          "x1": 4,
          "x2": 4.9
         },
         {
          "level": 96,
          "sf": "abstract_call(::Any, ::Array{Any,1}, ::Array{Any,1}, ::Array{Any,1}, ::Core.Compiler.InferenceState, ::Int64) at abstractinterpretation.jl:818",
          "status": "Default",
          "x1": 4,
          "x2": 4.9
         },
         {
          "level": 97,
          "sf": "abstract_call_gf_by_type(::Any, ::Array{Any,1}, ::Any, ::Core.Compiler.InferenceState, ::Int64) at abstractinterpretation.jl:116",
          "status": "Default",
          "x1": 4,
          "x2": 4.9
         },
         {
          "level": 98,
          "sf": "abstract_call_method_with_const_args(::Any, ::Any, ::Array{Any,1}, ::Core.SimpleVector, ::Core.Compiler.InferenceState) at abstractinterpretation.jl:223",
          "status": "Default",
          "x1": 4,
          "x2": 4.9
         },
         {
          "level": 99,
          "sf": "typeinf(::Core.Compiler.InferenceState) at typeinfer.jl:33",
          "status": "Default",
          "x1": 4,
          "x2": 4.9
         },
         {
          "level": 100,
          "sf": "optimize(::Core.Compiler.OptimizationState, ::Any) at optimize.jl:169",
          "status": "Default",
          "x1": 4,
          "x2": 4.9
         },
         {
          "level": 101,
          "sf": "run_passes(::Core.CodeInfo, ::Int64, ::Core.Compiler.OptimizationState) at driver.jl:127",
          "status": "Default",
          "x1": 4,
          "x2": 4.9
         },
         {
          "level": 102,
          "sf": "compact! at ir.jl:1296 [inlined]",
          "status": "Default",
          "x1": 4,
          "x2": 4.9
         },
         {
          "level": 103,
          "sf": "compact!(::Core.Compiler.IRCode, ::Bool) at ir.jl:1298",
          "status": "Default",
          "x1": 4,
          "x2": 4.9
         },
         {
          "level": 104,
          "sf": "foreach at abstractarray.jl:1920 [inlined]",
          "status": "Default",
          "x1": 4,
          "x2": 4.9
         },
         {
          "level": 105,
          "sf": "iterate(::Core.Compiler.IncrementalCompact, ::Tuple{Int64,Int64}) at ir.jl:1151",
          "status": "Default",
          "x1": 4,
          "x2": 4.9
         },
         {
          "level": 106,
          "sf": "process_node! at ir.jl:984 [inlined]",
          "status": "Default",
          "x1": 4,
          "x2": 4.9
         },
         {
          "level": 107,
          "sf": "process_node!(::Core.Compiler.IncrementalCompact, ::Array{Any,1}, ::Int64, ::Array{Any,1}, ::Array{Int64,1}, ::Array{Int64,1}, ::Any, ::Int64, ::Int64, ::Int64, ::Bool) at ir.jl:895",
          "status": "Default",
          "x1": 4,
          "x2": 4.9
         },
         {
          "level": 108,
          "sf": "setindex! at essentials.jl:455 [inlined]",
          "status": "Default",
          "x1": 4,
          "x2": 4.9
         },
         {
          "level": 90,
          "sf": "typeinf(::Core.Compiler.InferenceState) at typeinfer.jl:33",
          "status": "Default",
          "x1": 5,
          "x2": 5.9
         },
         {
          "level": 91,
          "sf": "optimize(::Core.Compiler.OptimizationState, ::Any) at optimize.jl:169",
          "status": "Default",
          "x1": 5,
          "x2": 5.9
         },
         {
          "level": 92,
          "sf": "run_passes(::Core.CodeInfo, ::Int64, ::Core.Compiler.OptimizationState) at driver.jl:116",
          "status": "Default",
          "x1": 5,
          "x2": 5.9
         },
         {
          "level": 93,
          "sf": "ssa_inlining_pass! at inlining.jl:70 [inlined]",
          "status": "Default",
          "x1": 5,
          "x2": 5.9
         },
         {
          "level": 94,
          "sf": "assemble_inline_todo!(::Core.Compiler.IRCode, ::Core.Compiler.OptimizationState) at inlining.jl:1016",
          "status": "Runtime dispatch",
          "x1": 5,
          "x2": 5.9
         },
         {
          "level": 95,
          "sf": "analyze_method!(::Int64, ::Core.Compiler.Signature, ::Any, ::Core.SimpleVector, ::Method, ::Expr, ::Core.Compiler.OptimizationState, ::Bool, ::Nothing, ::Any) at inlining.jl:717",
          "status": "Default",
          "x1": 5,
          "x2": 5.9
         },
         {
          "level": 96,
          "sf": "inflate_ir(::Core.CodeInfo, ::Core.MethodInstance) at legacy.jl:4",
          "status": "Default",
          "x1": 5,
          "x2": 5.9
         },
         {
          "level": 97,
          "sf": "sptypes_from_meth_instance(::Core.MethodInstance) at inferencestate.jl:129",
          "status": "Default",
          "x1": 5,
          "x2": 5.9
         },
         {
          "level": 98,
          "sf": "collect at array.jl:503 [inlined]",
          "status": "Default",
          "x1": 5,
          "x2": 5.9
         },
         {
          "level": 99,
          "sf": "_collect at array.jl:505 [inlined]",
          "status": "Default",
          "x1": 5,
          "x2": 5.9
         },
         {
          "level": 100,
          "sf": "copyto!(::Array{Any,1}, ::Core.SimpleVector) at abstractarray.jl:725",
          "status": "Default",
          "x1": 5,
          "x2": 5.9
         },
         {
          "level": 101,
          "sf": "setindex! at essentials.jl:455 [inlined]",
          "status": "Default",
          "x1": 5,
          "x2": 5.9
         },
         {
          "level": 90,
          "sf": "typeinf(::Core.Compiler.InferenceState) at typeinfer.jl:34",
          "status": "Default",
          "x1": 6,
          "x2": 6.9
         },
         {
          "level": 91,
          "sf": "finish at typeinfer.jl:168 [inlined]",
          "status": "Default",
          "x1": 6,
          "x2": 6.9
         },
         {
          "level": 92,
          "sf": "widen_all_consts!(::Core.CodeInfo) at typeinfer.jl:200",
          "status": "Runtime dispatch",
          "x1": 6,
          "x2": 6.9
         },
         {
          "level": 30,
          "sf": "typeinf(::Core.Compiler.InferenceState) at typeinfer.jl:33",
          "status": "Default",
          "x1": 7,
          "x2": 7.9
         },
         {
          "level": 31,
          "sf": "optimize(::Core.Compiler.OptimizationState, ::Any) at optimize.jl:169",
          "status": "Default",
          "x1": 7,
          "x2": 7.9
         },
         {
          "level": 32,
          "sf": "run_passes(::Core.CodeInfo, ::Int64, ::Core.Compiler.OptimizationState) at driver.jl:116",
          "status": "Default",
          "x1": 7,
          "x2": 7.9
         },
         {
          "level": 33,
          "sf": "ssa_inlining_pass! at inlining.jl:70 [inlined]",
          "status": "Default",
          "x1": 7,
          "x2": 7.9
         },
         {
          "level": 34,
          "sf": "assemble_inline_todo!(::Core.Compiler.IRCode, ::Core.Compiler.OptimizationState) at inlining.jl:1016",
          "status": "Runtime dispatch",
          "x1": 7,
          "x2": 7.9
         },
         {
          "level": 35,
          "sf": "analyze_method!(::Int64, ::Core.Compiler.Signature, ::Any, ::Core.SimpleVector, ::Method, ::Expr, ::Core.Compiler.OptimizationState, ::Bool, ::Nothing, ::Any) at inlining.jl:717",
          "status": "Default",
          "x1": 7,
          "x2": 7.9
         },
         {
          "level": 36,
          "sf": "inflate_ir(::Core.CodeInfo, ::Core.MethodInstance) at legacy.jl:6",
          "status": "Default",
          "x1": 7,
          "x2": 7.9
         },
         {
          "level": 37,
          "sf": "matching_cache_argtypes(::Core.MethodInstance, ::Nothing) at inferenceresult.jl:124",
          "status": "Default",
          "x1": 7,
          "x2": 7.9
         },
         {
          "level": 17,
          "sf": "abstract_call_gf_by_type(::Any, ::Array{Any,1}, ::Any, ::Core.Compiler.InferenceState, ::Int64) at abstractinterpretation.jl:116",
          "status": "Default",
          "x1": 8,
          "x2": 16.9
         },
         {
          "level": 18,
          "sf": "abstract_call_method_with_const_args(::Any, ::Any, ::Array{Any,1}, ::Core.SimpleVector, ::Core.Compiler.InferenceState) at abstractinterpretation.jl:223",
          "status": "Default",
          "x1": 8,
          "x2": 16.9
         },
         {
          "level": 19,
          "sf": "typeinf(::Core.Compiler.InferenceState) at typeinfer.jl:12",
          "status": "Default",
          "x1": 8,
          "x2": 16.9
         },
         {
          "level": 20,
          "sf": "typeinf_nocycle(::Core.Compiler.InferenceState) at abstractinterpretation.jl:1230",
          "status": "Default",
          "x1": 8,
          "x2": 16.9
         },
         {
          "level": 21,
          "sf": "typeinf_local(::Core.Compiler.InferenceState) at abstractinterpretation.jl:1174",
          "status": "Default",
          "x1": 8,
          "x2": 16.9
         },
         {
          "level": 22,
          "sf": "abstract_eval(::Any, ::Array{Any,1}, ::Core.Compiler.InferenceState) at abstractinterpretation.jl:917",
          "status": "Default",
          "x1": 8,
          "x2": 16.9
         },
         {
          "level": 23,
          "sf": "abstract_eval_call(::Array{Any,1}, ::Array{Any,1}, ::Array{Any,1}, ::Core.Compiler.InferenceState) at abstractinterpretation.jl:847",
          "status": "Default",
          "x1": 8,
          "x2": 16.9
         },
         {
          "level": 24,
          "sf": "abstract_call(::Any, ::Array{Any,1}, ::Array{Any,1}, ::Array{Any,1}, ::Core.Compiler.InferenceState) at abstractinterpretation.jl:608",
          "status": "Default",
          "x1": 8,
          "x2": 16.9
         },
         {
          "level": 25,
          "sf": "abstract_call(::Any, ::Array{Any,1}, ::Array{Any,1}, ::Array{Any,1}, ::Core.Compiler.InferenceState, ::Int64) at abstractinterpretation.jl:609",
          "status": "Default",
          "x1": 8,
          "x2": 11.9
         },
         {
          "level": 26,
          "sf": "abstract_apply(::Any, ::Array{Any,1}, ::Array{Any,1}, ::Core.Compiler.InferenceState, ::Int64) at abstractinterpretation.jl:561",
          "status": "Runtime dispatch",
          "x1": 8,
          "x2": 11.9
         },
         {
          "level": 27,
          "sf": "abstract_call(::Any, ::Nothing, ::Array{Any,1}, ::Array{Any,1}, ::Core.Compiler.InferenceState, ::Int64) at abstractinterpretation.jl:818",
          "status": "Default",
          "x1": 8,
          "x2": 11.9
         },
         {
          "level": 28,
          "sf": "abstract_call_gf_by_type(::Any, ::Array{Any,1}, ::Any, ::Core.Compiler.InferenceState, ::Int64) at abstractinterpretation.jl:22",
          "status": "Runtime dispatch",
          "x1": 8,
          "x2": 8.9
         },
         {
          "level": 28,
          "sf": "abstract_call_gf_by_type(::Any, ::Array{Any,1}, ::Any, ::Core.Compiler.InferenceState, ::Int64) at abstractinterpretation.jl:116",
          "status": "Default",
          "x1": 9,
          "x2": 11.9
         },
         {
          "level": 29,
          "sf": "abstract_call_method_with_const_args(::Any, ::Any, ::Array{Any,1}, ::Core.SimpleVector, ::Core.Compiler.InferenceState) at abstractinterpretation.jl:223",
          "status": "Default",
          "x1": 9,
          "x2": 11.9
         },
         {
          "level": 30,
          "sf": "typeinf(::Core.Compiler.InferenceState) at typeinfer.jl:12",
          "status": "Default",
          "x1": 9,
          "x2": 9.9
         },
         {
          "level": 31,
          "sf": "typeinf_nocycle(::Core.Compiler.InferenceState) at abstractinterpretation.jl:1230",
          "status": "Default",
          "x1": 9,
          "x2": 9.9
         },
         {
          "level": 32,
          "sf": "typeinf_local(::Core.Compiler.InferenceState) at abstractinterpretation.jl:1174",
          "status": "Default",
          "x1": 9,
          "x2": 9.9
         },
         {
          "level": 33,
          "sf": "abstract_eval(::Any, ::Array{Any,1}, ::Core.Compiler.InferenceState) at abstractinterpretation.jl:917",
          "status": "Default",
          "x1": 9,
          "x2": 9.9
         },
         {
          "level": 34,
          "sf": "abstract_eval_call(::Array{Any,1}, ::Array{Any,1}, ::Array{Any,1}, ::Core.Compiler.InferenceState) at abstractinterpretation.jl:847",
          "status": "Default",
          "x1": 9,
          "x2": 9.9
         },
         {
          "level": 35,
          "sf": "abstract_call(::Any, ::Array{Any,1}, ::Array{Any,1}, ::Array{Any,1}, ::Core.Compiler.InferenceState) at abstractinterpretation.jl:608",
          "status": "Default",
          "x1": 9,
          "x2": 9.9
         },
         {
          "level": 36,
          "sf": "abstract_call(::Any, ::Array{Any,1}, ::Array{Any,1}, ::Array{Any,1}, ::Core.Compiler.InferenceState, ::Int64) at abstractinterpretation.jl:609",
          "status": "Default",
          "x1": 9,
          "x2": 9.9
         },
         {
          "level": 37,
          "sf": "abstract_apply(::Any, ::Array{Any,1}, ::Array{Any,1}, ::Core.Compiler.InferenceState, ::Int64) at abstractinterpretation.jl:561",
          "status": "Runtime dispatch",
          "x1": 9,
          "x2": 9.9
         },
         {
          "level": 38,
          "sf": "abstract_call(::Any, ::Nothing, ::Array{Any,1}, ::Array{Any,1}, ::Core.Compiler.InferenceState, ::Int64) at abstractinterpretation.jl:818",
          "status": "Default",
          "x1": 9,
          "x2": 9.9
         },
         {
          "level": 39,
          "sf": "abstract_call_gf_by_type(::Any, ::Array{Any,1}, ::Any, ::Core.Compiler.InferenceState, ::Int64) at abstractinterpretation.jl:116",
          "status": "Default",
          "x1": 9,
          "x2": 9.9
         },
         {
          "level": 40,
          "sf": "abstract_call_method_with_const_args(::Any, ::Any, ::Array{Any,1}, ::Core.SimpleVector, ::Core.Compiler.InferenceState) at abstractinterpretation.jl:223",
          "status": "Default",
          "x1": 9,
          "x2": 9.9
         },
         {
          "level": 41,
          "sf": "typeinf(::Core.Compiler.InferenceState) at typeinfer.jl:12",
          "status": "Default",
          "x1": 9,
          "x2": 9.9
         },
         {
          "level": 42,
          "sf": "typeinf_nocycle(::Core.Compiler.InferenceState) at abstractinterpretation.jl:1230",
          "status": "Default",
          "x1": 9,
          "x2": 9.9
         },
         {
          "level": 43,
          "sf": "typeinf_local(::Core.Compiler.InferenceState) at abstractinterpretation.jl:1174",
          "status": "Default",
          "x1": 9,
          "x2": 9.9
         },
         {
          "level": 44,
          "sf": "abstract_eval(::Any, ::Array{Any,1}, ::Core.Compiler.InferenceState) at abstractinterpretation.jl:917",
          "status": "Default",
          "x1": 9,
          "x2": 9.9
         },
         {
          "level": 45,
          "sf": "abstract_eval_call(::Array{Any,1}, ::Array{Any,1}, ::Array{Any,1}, ::Core.Compiler.InferenceState) at abstractinterpretation.jl:847",
          "status": "Default",
          "x1": 9,
          "x2": 9.9
         },
         {
          "level": 46,
          "sf": "abstract_call(::Any, ::Array{Any,1}, ::Array{Any,1}, ::Array{Any,1}, ::Core.Compiler.InferenceState) at abstractinterpretation.jl:608",
          "status": "Default",
          "x1": 9,
          "x2": 9.9
         },
         {
          "level": 47,
          "sf": "abstract_call(::Any, ::Array{Any,1}, ::Array{Any,1}, ::Array{Any,1}, ::Core.Compiler.InferenceState, ::Int64) at abstractinterpretation.jl:811",
          "status": "Default",
          "x1": 9,
          "x2": 9.9
         },
         {
          "level": 48,
          "sf": "pure_eval_call(::Any, ::Array{Any,1}, ::Any, ::Core.Compiler.InferenceState) at abstractinterpretation.jl:586",
          "status": "Default",
          "x1": 9,
          "x2": 9.9
         },
         {
          "level": 49,
          "sf": "_methods_by_ftype at reflection.jl:808 [inlined]",
          "status": "Default",
          "x1": 9,
          "x2": 9.9
         },
         {
          "level": 30,
          "sf": "typeinf(::Core.Compiler.InferenceState) at typeinfer.jl:33",
          "status": "Default",
          "x1": 10,
          "x2": 10.9
         },
         {
          "level": 31,
          "sf": "optimize(::Core.Compiler.OptimizationState, ::Any) at optimize.jl:169",
          "status": "Default",
          "x1": 10,
          "x2": 10.9
         },
         {
          "level": 32,
          "sf": "run_passes(::Core.CodeInfo, ::Int64, ::Core.Compiler.OptimizationState) at driver.jl:116",
          "status": "Default",
          "x1": 10,
          "x2": 10.9
         },
         {
          "level": 33,
          "sf": "ssa_inlining_pass! at inlining.jl:70 [inlined]",
          "status": "Default",
          "x1": 10,
          "x2": 10.9
         },
         {
          "level": 34,
          "sf": "assemble_inline_todo!(::Core.Compiler.IRCode, ::Core.Compiler.OptimizationState) at inlining.jl:1016",
          "status": "Runtime dispatch",
          "x1": 10,
          "x2": 10.9
         },
         {
          "level": 35,
          "sf": "analyze_method!(::Int64, ::Core.Compiler.Signature, ::Any, ::Core.SimpleVector, ::Method, ::Expr, ::Core.Compiler.OptimizationState, ::Bool, ::Nothing, ::Any) at inlining.jl:713",
          "status": "Default",
          "x1": 10,
          "x2": 10.9
         },
         {
          "level": 30,
          "sf": "typeinf(::Core.Compiler.InferenceState) at typeinfer.jl:34",
          "status": "Default",
          "x1": 11,
          "x2": 11.9
         },
         {
          "level": 31,
          "sf": "finish at typeinfer.jl:168 [inlined]",
          "status": "Default",
          "x1": 11,
          "x2": 11.9
         },
         {
          "level": 32,
          "sf": "widen_all_consts!(::Core.CodeInfo) at typeinfer.jl:200",
          "status": "Runtime dispatch",
          "x1": 11,
          "x2": 11.9
         },
         {
          "level": 25,
          "sf": "abstract_call(::Any, ::Array{Any,1}, ::Array{Any,1}, ::Array{Any,1}, ::Core.Compiler.InferenceState, ::Int64) at abstractinterpretation.jl:818",
          "status": "Default",
          "x1": 12,
          "x2": 16.9
         },
         {
          "level": 26,
          "sf": "abstract_call_gf_by_type(::Any, ::Array{Any,1}, ::Any, ::Core.Compiler.InferenceState, ::Int64) at abstractinterpretation.jl:50",
          "status": "Default",
          "x1": 12,
          "x2": 12.9
         },
         {
          "level": 27,
          "sf": "_methods_by_ftype at reflection.jl:808 [inlined]",
          "status": "Default",
          "x1": 12,
          "x2": 12.9
         },
         {
          "level": 26,
          "sf": "abstract_call_gf_by_type(::Any, ::Array{Any,1}, ::Any, ::Core.Compiler.InferenceState, ::Int64) at abstractinterpretation.jl:116",
          "status": "Default",
          "x1": 13,
          "x2": 16.9
         },
         {
          "level": 27,
          "sf": "abstract_call_method_with_const_args(::Any, ::Any, ::Array{Any,1}, ::Core.SimpleVector, ::Core.Compiler.InferenceState) at abstractinterpretation.jl:223",
          "status": "Default",
          "x1": 13,
          "x2": 16.9
         },
         {
          "level": 28,
          "sf": "typeinf(::Core.Compiler.InferenceState) at typeinfer.jl:12",
          "status": "Default",
          "x1": 13,
          "x2": 16.9
         },
         {
          "level": 29,
          "sf": "typeinf_nocycle(::Core.Compiler.InferenceState) at abstractinterpretation.jl:1230",
          "status": "Default",
          "x1": 13,
          "x2": 16.9
         },
         {
          "level": 30,
          "sf": "typeinf_local(::Core.Compiler.InferenceState) at abstractinterpretation.jl:1174",
          "status": "Default",
          "x1": 13,
          "x2": 16.9
         },
         {
          "level": 31,
          "sf": "abstract_eval(::Any, ::Array{Any,1}, ::Core.Compiler.InferenceState) at abstractinterpretation.jl:917",
          "status": "Default",
          "x1": 13,
          "x2": 16.9
         },
         {
          "level": 32,
          "sf": "abstract_eval_call(::Array{Any,1}, ::Array{Any,1}, ::Array{Any,1}, ::Core.Compiler.InferenceState) at abstractinterpretation.jl:847",
          "status": "Default",
          "x1": 13,
          "x2": 16.9
         },
         {
          "level": 33,
          "sf": "abstract_call(::Any, ::Array{Any,1}, ::Array{Any,1}, ::Array{Any,1}, ::Core.Compiler.InferenceState) at abstractinterpretation.jl:608",
          "status": "Default",
          "x1": 13,
          "x2": 16.9
         },
         {
          "level": 34,
          "sf": "abstract_call(::Any, ::Array{Any,1}, ::Array{Any,1}, ::Array{Any,1}, ::Core.Compiler.InferenceState, ::Int64) at abstractinterpretation.jl:818",
          "status": "Default",
          "x1": 13,
          "x2": 16.9
         },
         {
          "level": 35,
          "sf": "abstract_call_gf_by_type(::Any, ::Array{Any,1}, ::Any, ::Core.Compiler.InferenceState, ::Int64) at abstractinterpretation.jl:116",
          "status": "Default",
          "x1": 13,
          "x2": 16.9
         },
         {
          "level": 36,
          "sf": "abstract_call_method_with_const_args(::Any, ::Any, ::Array{Any,1}, ::Core.SimpleVector, ::Core.Compiler.InferenceState) at abstractinterpretation.jl:223",
          "status": "Default",
          "x1": 13,
          "x2": 16.9
         },
         {
          "level": 37,
          "sf": "typeinf(::Core.Compiler.InferenceState) at typeinfer.jl:12",
          "status": "Default",
          "x1": 13,
          "x2": 16.9
         },
         {
          "level": 38,
          "sf": "typeinf_nocycle(::Core.Compiler.InferenceState) at abstractinterpretation.jl:1230",
          "status": "Default",
          "x1": 13,
          "x2": 16.9
         },
         {
          "level": 39,
          "sf": "typeinf_local(::Core.Compiler.InferenceState) at abstractinterpretation.jl:1174",
          "status": "Default",
          "x1": 13,
          "x2": 16.9
         },
         {
          "level": 40,
          "sf": "abstract_eval(::Any, ::Array{Any,1}, ::Core.Compiler.InferenceState) at abstractinterpretation.jl:917",
          "status": "Default",
          "x1": 13,
          "x2": 16.9
         },
         {
          "level": 41,
          "sf": "abstract_eval_call(::Array{Any,1}, ::Array{Any,1}, ::Array{Any,1}, ::Core.Compiler.InferenceState) at abstractinterpretation.jl:847",
          "status": "Default",
          "x1": 13,
          "x2": 16.9
         },
         {
          "level": 42,
          "sf": "abstract_call(::Any, ::Array{Any,1}, ::Array{Any,1}, ::Array{Any,1}, ::Core.Compiler.InferenceState) at abstractinterpretation.jl:608",
          "status": "Default",
          "x1": 13,
          "x2": 16.9
         },
         {
          "level": 43,
          "sf": "abstract_call(::Any, ::Array{Any,1}, ::Array{Any,1}, ::Array{Any,1}, ::Core.Compiler.InferenceState, ::Int64) at abstractinterpretation.jl:818",
          "status": "Default",
          "x1": 13,
          "x2": 16.9
         },
         {
          "level": 44,
          "sf": "abstract_call_gf_by_type(::Any, ::Array{Any,1}, ::Any, ::Core.Compiler.InferenceState, ::Int64) at abstractinterpretation.jl:50",
          "status": "Default",
          "x1": 13,
          "x2": 13.9
         },
         {
          "level": 45,
          "sf": "_methods_by_ftype at reflection.jl:808 [inlined]",
          "status": "Default",
          "x1": 13,
          "x2": 13.9
         },
         {
          "level": 44,
          "sf": "abstract_call_gf_by_type(::Any, ::Array{Any,1}, ::Any, ::Core.Compiler.InferenceState, ::Int64) at abstractinterpretation.jl:116",
          "status": "Default",
          "x1": 14,
          "x2": 16.9
         },
         {
          "level": 45,
          "sf": "abstract_call_method_with_const_args(::Any, ::Any, ::Array{Any,1}, ::Core.SimpleVector, ::Core.Compiler.InferenceState) at abstractinterpretation.jl:218",
          "status": "Default",
          "x1": 14,
          "x2": 14.9
         },
         {
          "level": 46,
          "sf": "Type at inferenceresult.jl:12 [inlined]",
          "status": "Default",
          "x1": 14,
          "x2": 14.9
         },
         {
          "level": 47,
          "sf": "matching_cache_argtypes(::Core.MethodInstance, ::Array{Any,1}) at inferenceresult.jl:43",
          "status": "Default",
          "x1": 14,
          "x2": 14.9
         },
         {
          "level": 48,
          "sf": "matching_cache_argtypes(::Core.MethodInstance, ::Nothing) at inferenceresult.jl:60",
          "status": "Runtime dispatch",
          "x1": 14,
          "x2": 14.9
         },
         {
          "level": 45,
          "sf": "abstract_call_method_with_const_args(::Any, ::Any, ::Array{Any,1}, ::Core.SimpleVector, ::Core.Compiler.InferenceState) at abstractinterpretation.jl:223",
          "status": "Default",
          "x1": 15,
          "x2": 16.9
         },
         {
          "level": 46,
          "sf": "typeinf(::Core.Compiler.InferenceState) at typeinfer.jl:12",
          "status": "Default",
          "x1": 15,
          "x2": 15.9
         },
         {
          "level": 47,
          "sf": "typeinf_nocycle(::Core.Compiler.InferenceState) at abstractinterpretation.jl:1230",
          "status": "Default",
          "x1": 15,
          "x2": 15.9
         },
         {
          "level": 48,
          "sf": "typeinf_local(::Core.Compiler.InferenceState) at abstractinterpretation.jl:1174",
          "status": "Default",
          "x1": 15,
          "x2": 15.9
         },
         {
          "level": 49,
          "sf": "abstract_eval(::Any, ::Array{Any,1}, ::Core.Compiler.InferenceState) at abstractinterpretation.jl:917",
          "status": "Default",
          "x1": 15,
          "x2": 15.9
         },
         {
          "level": 50,
          "sf": "abstract_eval_call(::Array{Any,1}, ::Array{Any,1}, ::Array{Any,1}, ::Core.Compiler.InferenceState) at abstractinterpretation.jl:847",
          "status": "Default",
          "x1": 15,
          "x2": 15.9
         },
         {
          "level": 51,
          "sf": "abstract_call(::Any, ::Array{Any,1}, ::Array{Any,1}, ::Array{Any,1}, ::Core.Compiler.InferenceState) at abstractinterpretation.jl:608",
          "status": "Default",
          "x1": 15,
          "x2": 15.9
         },
         {
          "level": 52,
          "sf": "abstract_call(::Any, ::Array{Any,1}, ::Array{Any,1}, ::Array{Any,1}, ::Core.Compiler.InferenceState, ::Int64) at abstractinterpretation.jl:818",
          "status": "Default",
          "x1": 15,
          "x2": 15.9
         },
         {
          "level": 53,
          "sf": "abstract_call_gf_by_type(::Any, ::Array{Any,1}, ::Any, ::Core.Compiler.InferenceState, ::Int64) at abstractinterpretation.jl:116",
          "status": "Default",
          "x1": 15,
          "x2": 15.9
         },
         {
          "level": 54,
          "sf": "abstract_call_method_with_const_args(::Any, ::Any, ::Array{Any,1}, ::Core.SimpleVector, ::Core.Compiler.InferenceState) at abstractinterpretation.jl:223",
          "status": "Default",
          "x1": 15,
          "x2": 15.9
         },
         {
          "level": 55,
          "sf": "typeinf(::Core.Compiler.InferenceState) at typeinfer.jl:33",
          "status": "Default",
          "x1": 15,
          "x2": 15.9
         },
         {
          "level": 56,
          "sf": "optimize(::Core.Compiler.OptimizationState, ::Any) at optimize.jl:169",
          "status": "Default",
          "x1": 15,
          "x2": 15.9
         },
         {
          "level": 57,
          "sf": "run_passes(::Core.CodeInfo, ::Int64, ::Core.Compiler.OptimizationState) at driver.jl:116",
          "status": "Default",
          "x1": 15,
          "x2": 15.9
         },
         {
          "level": 58,
          "sf": "ssa_inlining_pass! at inlining.jl:70 [inlined]",
          "status": "Default",
          "x1": 15,
          "x2": 15.9
         },
         {
          "level": 59,
          "sf": "assemble_inline_todo!(::Core.Compiler.IRCode, ::Core.Compiler.OptimizationState) at inlining.jl:978",
          "status": "Default",
          "x1": 15,
          "x2": 15.9
         },
         {
          "level": 60,
          "sf": "process_simple!(::Core.Compiler.IRCode, ::Int64, ::Core.Compiler.Params) at inlining.jl:932",
          "status": "Default",
          "x1": 15,
          "x2": 15.9
         },
         {
          "level": 61,
          "sf": "call_sig(::Core.Compiler.IRCode, ::Expr) at inlining.jl:864",
          "status": "Default",
          "x1": 15,
          "x2": 15.9
         },
         {
          "level": 46,
          "sf": "typeinf(::Core.Compiler.InferenceState) at typeinfer.jl:33",
          "status": "Default",
          "x1": 16,
          "x2": 16.9
         },
         {
          "level": 47,
          "sf": "optimize(::Core.Compiler.OptimizationState, ::Any) at optimize.jl:169",
          "status": "Default",
          "x1": 16,
          "x2": 16.9
         },
         {
          "level": 48,
          "sf": "run_passes(::Core.CodeInfo, ::Int64, ::Core.Compiler.OptimizationState) at driver.jl:116",
          "status": "Default",
          "x1": 16,
          "x2": 16.9
         },
         {
          "level": 49,
          "sf": "ssa_inlining_pass! at inlining.jl:73 [inlined]",
          "status": "Default",
          "x1": 16,
          "x2": 16.9
         },
         {
          "level": 50,
          "sf": "batch_inline!(::Array{Any,1}, ::Core.Compiler.IRCode, ::Array{Core.LineInfoNode,1}, ::Bool) at inlining.jl:548",
          "status": "Default",
          "x1": 16,
          "x2": 16.9
         },
         {
          "level": 51,
          "sf": "ir_inline_item!(::Core.Compiler.IncrementalCompact, ::Int64, ::Array{Any,1}, ::Array{Core.LineInfoNode,1}, ::Core.Compiler.InliningTodo, ::Symbol, ::Array{Tuple{Int64,Int64},1}) at inlining.jl:333",
          "status": "Default",
          "x1": 16,
          "x2": 16.9
         },
         {
          "level": 52,
          "sf": "setindex! at ir.jl:723 [inlined]",
          "status": "Default",
          "x1": 16,
          "x2": 16.9
         },
         {
          "level": 53,
          "sf": "setindex!(::Core.Compiler.IncrementalCompact, ::Any, ::Core.SSAValue) at ir.jl:711",
          "status": "Default",
          "x1": 16,
          "x2": 16.9
         },
         {
          "level": 54,
          "sf": "iterate(::Core.Compiler.UseRefIterator, ::Nothing) at ir.jl:392",
          "status": "Default",
          "x1": 16,
          "x2": 16.9
         },
         {
          "level": 12,
          "sf": "typeinf_local(::Core.Compiler.InferenceState) at abstractinterpretation.jl:1174",
          "status": "Default",
          "x1": 17,
          "x2": 19.9
         },
         {
          "level": 13,
          "sf": "abstract_eval(::Any, ::Array{Any,1}, ::Core.Compiler.InferenceState) at abstractinterpretation.jl:917",
          "status": "Default",
          "x1": 17,
          "x2": 19.9
         },
         {
          "level": 14,
          "sf": "abstract_eval_call(::Array{Any,1}, ::Array{Any,1}, ::Array{Any,1}, ::Core.Compiler.InferenceState) at abstractinterpretation.jl:847",
          "status": "Default",
          "x1": 17,
          "x2": 19.9
         },
         {
          "level": 15,
          "sf": "abstract_call(::Any, ::Array{Any,1}, ::Array{Any,1}, ::Array{Any,1}, ::Core.Compiler.InferenceState) at abstractinterpretation.jl:608",
          "status": "Default",
          "x1": 17,
          "x2": 19.9
         },
         {
          "level": 16,
          "sf": "abstract_call(::Any, ::Array{Any,1}, ::Array{Any,1}, ::Array{Any,1}, ::Core.Compiler.InferenceState, ::Int64) at abstractinterpretation.jl:818",
          "status": "Default",
          "x1": 17,
          "x2": 19.9
         },
         {
          "level": 17,
          "sf": "abstract_call_gf_by_type(::Any, ::Array{Any,1}, ::Any, ::Core.Compiler.InferenceState, ::Int64) at abstractinterpretation.jl:116",
          "status": "Default",
          "x1": 17,
          "x2": 19.9
         },
         {
          "level": 18,
          "sf": "abstract_call_method_with_const_args(::Any, ::Any, ::Array{Any,1}, ::Core.SimpleVector, ::Core.Compiler.InferenceState) at abstractinterpretation.jl:223",
          "status": "Default",
          "x1": 17,
          "x2": 19.9
         },
         {
          "level": 19,
          "sf": "typeinf(::Core.Compiler.InferenceState) at typeinfer.jl:12",
          "status": "Default",
          "x1": 17,
          "x2": 18.9
         },
         {
          "level": 20,
          "sf": "typeinf_nocycle(::Core.Compiler.InferenceState) at abstractinterpretation.jl:1230",
          "status": "Default",
          "x1": 17,
          "x2": 18.9
         },
         {
          "level": 21,
          "sf": "typeinf_local(::Core.Compiler.InferenceState) at abstractinterpretation.jl:1174",
          "status": "Default",
          "x1": 17,
          "x2": 18.9
         },
         {
          "level": 22,
          "sf": "abstract_eval(::Any, ::Array{Any,1}, ::Core.Compiler.InferenceState) at abstractinterpretation.jl:917",
          "status": "Default",
          "x1": 17,
          "x2": 18.9
         },
         {
          "level": 23,
          "sf": "abstract_eval_call(::Array{Any,1}, ::Array{Any,1}, ::Array{Any,1}, ::Core.Compiler.InferenceState) at abstractinterpretation.jl:847",
          "status": "Default",
          "x1": 17,
          "x2": 18.9
         },
         {
          "level": 24,
          "sf": "abstract_call(::Any, ::Array{Any,1}, ::Array{Any,1}, ::Array{Any,1}, ::Core.Compiler.InferenceState) at abstractinterpretation.jl:608",
          "status": "Default",
          "x1": 17,
          "x2": 18.9
         },
         {
          "level": 25,
          "sf": "abstract_call(::Any, ::Array{Any,1}, ::Array{Any,1}, ::Array{Any,1}, ::Core.Compiler.InferenceState, ::Int64) at abstractinterpretation.jl:818",
          "status": "Default",
          "x1": 17,
          "x2": 18.9
         },
         {
          "level": 26,
          "sf": "abstract_call_gf_by_type(::Any, ::Array{Any,1}, ::Any, ::Core.Compiler.InferenceState, ::Int64) at abstractinterpretation.jl:116",
          "status": "Default",
          "x1": 17,
          "x2": 18.9
         },
         {
          "level": 27,
          "sf": "abstract_call_method_with_const_args(::Any, ::Any, ::Array{Any,1}, ::Core.SimpleVector, ::Core.Compiler.InferenceState) at abstractinterpretation.jl:223",
          "status": "Default",
          "x1": 17,
          "x2": 18.9
         },
         {
          "level": 28,
          "sf": "typeinf(::Core.Compiler.InferenceState) at typeinfer.jl:12",
          "status": "Default",
          "x1": 17,
          "x2": 17.9
         },
         {
          "level": 29,
          "sf": "typeinf_nocycle(::Core.Compiler.InferenceState) at abstractinterpretation.jl:1230",
          "status": "Default",
          "x1": 17,
          "x2": 17.9
         },
         {
          "level": 30,
          "sf": "typeinf_local(::Core.Compiler.InferenceState) at abstractinterpretation.jl:1174",
          "status": "Default",
          "x1": 17,
          "x2": 17.9
         },
         {
          "level": 31,
          "sf": "abstract_eval(::Any, ::Array{Any,1}, ::Core.Compiler.InferenceState) at abstractinterpretation.jl:917",
          "status": "Default",
          "x1": 17,
          "x2": 17.9
         },
         {
          "level": 32,
          "sf": "abstract_eval_call(::Array{Any,1}, ::Array{Any,1}, ::Array{Any,1}, ::Core.Compiler.InferenceState) at abstractinterpretation.jl:847",
          "status": "Default",
          "x1": 17,
          "x2": 17.9
         },
         {
          "level": 33,
          "sf": "abstract_call(::Any, ::Array{Any,1}, ::Array{Any,1}, ::Array{Any,1}, ::Core.Compiler.InferenceState) at abstractinterpretation.jl:608",
          "status": "Default",
          "x1": 17,
          "x2": 17.9
         },
         {
          "level": 34,
          "sf": "abstract_call(::Any, ::Array{Any,1}, ::Array{Any,1}, ::Array{Any,1}, ::Core.Compiler.InferenceState, ::Int64) at abstractinterpretation.jl:818",
          "status": "Default",
          "x1": 17,
          "x2": 17.9
         },
         {
          "level": 35,
          "sf": "abstract_call_gf_by_type(::Any, ::Array{Any,1}, ::Any, ::Core.Compiler.InferenceState, ::Int64) at abstractinterpretation.jl:116",
          "status": "Default",
          "x1": 17,
          "x2": 17.9
         },
         {
          "level": 36,
          "sf": "abstract_call_method_with_const_args(::Any, ::Any, ::Array{Any,1}, ::Core.SimpleVector, ::Core.Compiler.InferenceState) at abstractinterpretation.jl:219",
          "status": "Default",
          "x1": 17,
          "x2": 17.9
         },
         {
          "level": 37,
          "sf": "Core.Compiler.InferenceState(::Core.Compiler.InferenceResult, ::Bool, ::Core.Compiler.Params) at inferencestate.jl:112",
          "status": "Default",
          "x1": 17,
          "x2": 17.9
         },
         {
          "level": 38,
          "sf": "retrieve_code_info at utilities.jl:108 [inlined]",
          "status": "Garbage collection",
          "x1": 17,
          "x2": 17.9
         },
         {
          "level": 28,
          "sf": "typeinf(::Core.Compiler.InferenceState) at typeinfer.jl:33",
          "status": "Default",
          "x1": 18,
          "x2": 18.9
         },
         {
          "level": 29,
          "sf": "optimize(::Core.Compiler.OptimizationState, ::Any) at optimize.jl:169",
          "status": "Default",
          "x1": 18,
          "x2": 18.9
         },
         {
          "level": 30,
          "sf": "run_passes(::Core.CodeInfo, ::Int64, ::Core.Compiler.OptimizationState) at driver.jl:115",
          "status": "Default",
          "x1": 18,
          "x2": 18.9
         },
         {
          "level": 31,
          "sf": "compact! at ir.jl:1296 [inlined]",
          "status": "Default",
          "x1": 18,
          "x2": 18.9
         },
         {
          "level": 32,
          "sf": "compact!(::Core.Compiler.IRCode, ::Bool) at ir.jl:1298",
          "status": "Default",
          "x1": 18,
          "x2": 18.9
         },
         {
          "level": 33,
          "sf": "foreach at abstractarray.jl:1920 [inlined]",
          "status": "Default",
          "x1": 18,
          "x2": 18.9
         },
         {
          "level": 34,
          "sf": "iterate(::Core.Compiler.IncrementalCompact, ::Tuple{Int64,Int64}) at ir.jl:1151",
          "status": "Default",
          "x1": 18,
          "x2": 18.9
         },
         {
          "level": 35,
          "sf": "process_node! at ir.jl:984 [inlined]",
          "status": "Default",
          "x1": 18,
          "x2": 18.9
         },
         {
          "level": 36,
          "sf": "process_node!(::Core.Compiler.IncrementalCompact, ::Array{Any,1}, ::Int64, ::Array{Any,1}, ::Array{Int64,1}, ::Array{Int64,1}, ::Any, ::Int64, ::Int64, ::Int64, ::Bool) at ir.jl:925",
          "status": "Default",
          "x1": 18,
          "x2": 18.9
         },
         {
          "level": 37,
          "sf": "renumber_ssa2!(::Any, ::Array{Any,1}, ::Array{Int64,1}, ::Array{Int64,1}, ::Int64, ::Bool) at ir.jl:813",
          "status": "Default",
          "x1": 18,
          "x2": 18.9
         },
         {
          "level": 19,
          "sf": "typeinf(::Core.Compiler.InferenceState) at typeinfer.jl:21",
          "status": "Default",
          "x1": 19,
          "x2": 19.9
         },
         {
          "level": 20,
          "sf": "finish at typeinfer.jl:153 [inlined]",
          "status": "Default",
          "x1": 19,
          "x2": 19.9
         },
         {
          "level": 21,
          "sf": "type_annotate!(::Core.Compiler.InferenceState) at typeinfer.jl:335",
          "status": "Default",
          "x1": 19,
          "x2": 19.9
         },
         {
          "level": 22,
          "sf": "annotate_slot_load!(::Expr, ::Array{Any,1}, ::Core.Compiler.InferenceState, ::Array{Bool,1}) at typeinfer.jl:228",
          "status": "Default",
          "x1": 19,
          "x2": 19.9
         },
         {
          "level": 10,
          "sf": "typeinf(::Core.Compiler.InferenceState) at typeinfer.jl:33",
          "status": "Default",
          "x1": 20,
          "x2": 22.9
         },
         {
          "level": 11,
          "sf": "optimize(::Core.Compiler.OptimizationState, ::Any) at optimize.jl:169",
          "status": "Default",
          "x1": 20,
          "x2": 22.9
         },
         {
          "level": 12,
          "sf": "run_passes(::Core.CodeInfo, ::Int64, ::Core.Compiler.OptimizationState) at driver.jl:116",
          "status": "Default",
          "x1": 20,
          "x2": 21.9
         },
         {
          "level": 13,
          "sf": "ssa_inlining_pass! at inlining.jl:70 [inlined]",
          "status": "Default",
          "x1": 20,
          "x2": 21.9
         },
         {
          "level": 14,
          "sf": "assemble_inline_todo!(::Core.Compiler.IRCode, ::Core.Compiler.OptimizationState) at inlining.jl:978",
          "status": "Default",
          "x1": 20,
          "x2": 20.9
         },
         {
          "level": 15,
          "sf": "process_simple!(::Core.Compiler.IRCode, ::Int64, ::Core.Compiler.Params) at inlining.jl:961",
          "status": "Default",
          "x1": 20,
          "x2": 20.9
         },
         {
          "level": 16,
          "sf": "with_atype(::Core.Compiler.Signature) at inlining.jl:17",
          "status": "Default",
          "x1": 20,
          "x2": 20.9
         },
         {
          "level": 17,
          "sf": "argtypes_to_type at typeutils.jl:46 [inlined]",
          "status": "Default",
          "x1": 20,
          "x2": 20.9
         },
         {
          "level": 18,
          "sf": "anymap(::typeof(Core.Compiler.widenconst), ::Array{Any,1}) at utilities.jl:39",
          "status": "Runtime dispatch",
          "x1": 20,
          "x2": 20.9
         },
         {
          "level": 19,
          "sf": "widenconst(::Core.Compiler.Const) at typelattice.jl:204",
          "status": "Default",
          "x1": 20,
          "x2": 20.9
         },
         {
          "level": 14,
          "sf": "assemble_inline_todo!(::Core.Compiler.IRCode, ::Core.Compiler.OptimizationState) at inlining.jl:1016",
          "status": "Runtime dispatch",
          "x1": 21,
          "x2": 21.9
         },
         {
          "level": 15,
          "sf": "analyze_method!(::Int64, ::Core.Compiler.Signature, ::Any, ::Core.SimpleVector, ::Method, ::Expr, ::Core.Compiler.OptimizationState, ::Bool, ::Nothing, ::Any) at inlining.jl:713",
          "status": "Default",
          "x1": 21,
          "x2": 21.9
         },
         {
          "level": 12,
          "sf": "run_passes(::Core.CodeInfo, ::Int64, ::Core.Compiler.OptimizationState) at driver.jl:121",
          "status": "Default",
          "x1": 22,
          "x2": 22.9
         },
         {
          "level": 13,
          "sf": "getfield_elim_pass!(::Core.Compiler.IRCode, ::Core.Compiler.DomTree) at passes.jl:543",
          "status": "Default",
          "x1": 22,
          "x2": 22.9
         },
         {
          "level": 14,
          "sf": "is_known_call(::Expr, ::Any, ::Core.Compiler.IncrementalCompact) at queries.jl:86",
          "status": "Default",
          "x1": 22,
          "x2": 22.9
         },
         {
          "level": 15,
          "sf": "compact_exprtype at queries.jl:72 [inlined]",
          "status": "Default",
          "x1": 22,
          "x2": 22.9
         },
         {
          "level": 10,
          "sf": "typeinf(::Core.Compiler.InferenceState) at typeinfer.jl:67",
          "status": "Default",
          "x1": 23,
          "x2": 23.9
         },
         {
          "level": 11,
          "sf": "cache_result(::Core.Compiler.InferenceResult, ::UInt64, ::UInt64) at typeinfer.jl:126",
          "status": "Default",
          "x1": 23,
          "x2": 23.9
         },
         {
          "level": 8,
          "sf": "profile_test(::Int64) at In[62]:3",
          "status": "Default",
          "x1": 74,
          "x2": 154.9
         },
         {
          "level": 9,
          "sf": "randn at normal.jl:190 [inlined]",
          "status": "Default",
          "x1": 74,
          "x2": 154.9
         },
         {
          "level": 10,
          "sf": "randn(::Random.MersenneTwister, ::Type{Float64}, ::Int64, ::Int64, ::Vararg{Int64,N} where N) at normal.jl:184",
          "status": "Runtime dispatch",
          "x1": 74,
          "x2": 154.9
         },
         {
          "level": 11,
          "sf": "Array{Float64,N} where N(::UndefInitializer, ::Int64, ::Int64, ::Int64) at boot.jl:420",
          "status": "Default",
          "x1": 74,
          "x2": 143.9
         },
         {
          "level": 12,
          "sf": "Type at boot.jl:408 [inlined]",
          "status": "Garbage collection",
          "x1": 74,
          "x2": 143.9
         },
         {
          "level": 11,
          "sf": "randn!(::Random.MersenneTwister, ::Array{Float64,3}) at normal.jl:173",
          "status": "Default",
          "x1": 144,
          "x2": 154.9
         },
         {
          "level": 12,
          "sf": "setindex! at array.jl:766 [inlined]",
          "status": "Default",
          "x1": 144,
          "x2": 144.9
         },
         {
          "level": 12,
          "sf": "randn(::Random.MersenneTwister, ::Type{Float64}) at normal.jl:167",
          "status": "Default",
          "x1": 145,
          "x2": 153.9
         },
         {
          "level": 13,
          "sf": "randn at normal.jl:40 [inlined]",
          "status": "Default",
          "x1": 145,
          "x2": 146.9
         },
         {
          "level": 14,
          "sf": "rand at Random.jl:230 [inlined]",
          "status": "Default",
          "x1": 145,
          "x2": 146.9
         },
         {
          "level": 15,
          "sf": "rand at generation.jl:119 [inlined]",
          "status": "Default",
          "x1": 145,
          "x2": 146.9
         },
         {
          "level": 16,
          "sf": "rand at Random.jl:230 [inlined]",
          "status": "Default",
          "x1": 145,
          "x2": 146.9
         },
         {
          "level": 17,
          "sf": "rand at RNGs.jl:314 [inlined]",
          "status": "Default",
          "x1": 145,
          "x2": 145.9
         },
         {
          "level": 18,
          "sf": "reserve_1 at RNGs.jl:189 [inlined]",
          "status": "Default",
          "x1": 145,
          "x2": 145.9
         },
         {
          "level": 19,
          "sf": "mt_empty at RNGs.jl:179 [inlined]",
          "status": "Default",
          "x1": 145,
          "x2": 145.9
         },
         {
          "level": 20,
          "sf": "getproperty at Base.jl:20 [inlined]",
          "status": "Default",
          "x1": 145,
          "x2": 145.9
         },
         {
          "level": 17,
          "sf": "rand at RNGs.jl:315 [inlined]",
          "status": "Default",
          "x1": 146,
          "x2": 146.9
         },
         {
          "level": 18,
          "sf": "rand_inbounds at RNGs.jl:310 [inlined]",
          "status": "Default",
          "x1": 146,
          "x2": 146.9
         },
         {
          "level": 19,
          "sf": "rand_inbounds at RNGs.jl:306 [inlined]",
          "status": "Default",
          "x1": 146,
          "x2": 146.9
         },
         {
          "level": 20,
          "sf": "mt_pop! at RNGs.jl:182 [inlined]",
          "status": "Default",
          "x1": 146,
          "x2": 146.9
         },
         {
          "level": 21,
          "sf": "getindex at array.jl:728 [inlined]",
          "status": "Default",
          "x1": 146,
          "x2": 146.9
         },
         {
          "level": 13,
          "sf": "randn at normal.jl:41 [inlined]",
          "status": "Default",
          "x1": 147,
          "x2": 147.9
         },
         {
          "level": 14,
          "sf": ">> at int.jl:444 [inlined]",
          "status": "Default",
          "x1": 147,
          "x2": 147.9
         },
         {
          "level": 15,
          "sf": ">> at int.jl:438 [inlined]",
          "status": "Default",
          "x1": 147,
          "x2": 147.9
         },
         {
          "level": 13,
          "sf": "randn at normal.jl:43 [inlined]",
          "status": "Default",
          "x1": 148,
          "x2": 149.9
         },
         {
          "level": 14,
          "sf": "* at promotion.jl:314 [inlined]",
          "status": "Default",
          "x1": 148,
          "x2": 149.9
         },
         {
          "level": 15,
          "sf": "* at float.jl:399 [inlined]",
          "status": "Default",
          "x1": 148,
          "x2": 148.9
         },
         {
          "level": 15,
          "sf": "promote at promotion.jl:284 [inlined]",
          "status": "Default",
          "x1": 149,
          "x2": 149.9
         },
         {
          "level": 16,
          "sf": "_promote at promotion.jl:261 [inlined]",
          "status": "Default",
          "x1": 149,
          "x2": 149.9
         },
         {
          "level": 17,
          "sf": "convert at number.jl:7 [inlined]",
          "status": "Default",
          "x1": 149,
          "x2": 149.9
         },
         {
          "level": 18,
          "sf": "Type at float.jl:60 [inlined]",
          "status": "Default",
          "x1": 149,
          "x2": 149.9
         },
         {
          "level": 8,
          "sf": "profile_test(::Int64) at In[62]:4",
          "status": "Default",
          "x1": 155,
          "x2": 157.9
         },
         {
          "level": 9,
          "sf": "maximum at reducedim.jl:652 [inlined]",
          "status": "Default",
          "x1": 155,
          "x2": 157.9
         },
         {
          "level": 10,
          "sf": "#maximum#562 at reducedim.jl:652 [inlined]",
          "status": "Default",
          "x1": 155,
          "x2": 157.9
         },
         {
          "level": 11,
          "sf": "_maximum at reducedim.jl:656 [inlined]",
          "status": "Default",
          "x1": 155,
          "x2": 157.9
         },
         {
          "level": 12,
          "sf": "_maximum at reducedim.jl:657 [inlined]",
          "status": "Default",
          "x1": 155,
          "x2": 157.9
         },
         {
          "level": 13,
          "sf": "mapreduce at reducedim.jl:307 [inlined]",
          "status": "Default",
          "x1": 155,
          "x2": 157.9
         },
         {
          "level": 14,
          "sf": "#mapreduce#555 at reducedim.jl:307 [inlined]",
          "status": "Default",
          "x1": 155,
          "x2": 157.9
         },
         {
          "level": 15,
          "sf": "_mapreduce_dim at reducedim.jl:312 [inlined]",
          "status": "Default",
          "x1": 155,
          "x2": 157.9
         },
         {
          "level": 16,
          "sf": "_mapreduce(::typeof(identity), ::typeof(max), ::IndexLinear, ::Array{Float64,3}) at reduce.jl:324",
          "status": "Default",
          "x1": 155,
          "x2": 157.9
         },
         {
          "level": 17,
          "sf": "mapreduce_impl(::typeof(identity), ::typeof(max), ::Array{Float64,3}, ::Int64, ::Int64) at reduce.jl:496",
          "status": "Default",
          "x1": 155,
          "x2": 157.9
         },
         {
          "level": 18,
          "sf": "_fast at reduce.jl:462 [inlined]",
          "status": "Default",
          "x1": 155,
          "x2": 157.9
         },
         {
          "level": 8,
          "sf": "profile_test(::Int64) at In[62]:5",
          "status": "Default",
          "x1": 158,
          "x2": 193.9
         },
         {
          "level": 9,
          "sf": "#mapslices at none:0 [inlined]",
          "status": "Default",
          "x1": 158,
          "x2": 193.9
         },
         {
          "level": 10,
          "sf": "#mapslices#111(::Int64, ::typeof(mapslices), ::typeof(sum), ::Array{Float64,3}) at abstractarray.jl:2030",
          "status": "Runtime dispatch",
          "x1": 158,
          "x2": 193.9
         },
         {
          "level": 11,
          "sf": "inner_mapslices!(::Bool, ::Base.Iterators.Drop{CartesianIndices{2,Tuple{Base.OneTo{Int64},Base.OneTo{Int64}}}}, ::Int64, ::Array{Any,1}, ::Array{Int64,1}, ::Array{Any,1}, ::Array{Float64,1}, ::Array{Float64,3}, ::typeof(sum), ::Array{Float64,3}) at abstractarray.jl:2038",
          "status": "Default",
          "x1": 158,
          "x2": 158.9
         },
         {
          "level": 12,
          "sf": "replace_tuples! at abstractarray.jl:2055 [inlined]",
          "status": "Default",
          "x1": 158,
          "x2": 158.9
         },
         {
          "level": 13,
          "sf": "setindex! at essentials.jl:455 [inlined]",
          "status": "Default",
          "x1": 158,
          "x2": 158.9
         },
         {
          "level": 11,
          "sf": "inner_mapslices!(::Bool, ::Base.Iterators.Drop{CartesianIndices{2,Tuple{Base.OneTo{Int64},Base.OneTo{Int64}}}}, ::Int64, ::Array{Any,1}, ::Array{Int64,1}, ::Array{Any,1}, ::Array{Float64,1}, ::Array{Float64,3}, ::typeof(sum), ::Array{Float64,3}) at abstractarray.jl:2039",
          "status": "Runtime dispatch",
          "x1": 159,
          "x2": 160.9
         },
         {
          "level": 12,
          "sf": "_unsafe_getindex!(::Array{Float64,1}, ::Array{Float64,3}, ::Int64, ::Base.Slice{Base.OneTo{Int64}}, ::Int64) at multidimensional.jl:690",
          "status": "Default",
          "x1": 159,
          "x2": 160.9
         },
         {
          "level": 13,
          "sf": "macro expansion at multidimensional.jl:694 [inlined]",
          "status": "Default",
          "x1": 159,
          "x2": 160.9
         },
         {
          "level": 14,
          "sf": "macro expansion at cartesian.jl:64 [inlined]",
          "status": "Default",
          "x1": 159,
          "x2": 160.9
         },
         {
          "level": 15,
          "sf": "macro expansion at multidimensional.jl:700 [inlined]",
          "status": "Default",
          "x1": 159,
          "x2": 160.9
         },
         {
          "level": 16,
          "sf": "iterate at range.jl:595 [inlined]",
          "status": "Default",
          "x1": 159,
          "x2": 160.9
         },
         {
          "level": 17,
          "sf": "== at promotion.jl:403 [inlined]",
          "status": "Default",
          "x1": 159,
          "x2": 160.9
         },
         {
          "level": 11,
          "sf": "inner_mapslices!(::Bool, ::Base.Iterators.Drop{CartesianIndices{2,Tuple{Base.OneTo{Int64},Base.OneTo{Int64}}}}, ::Int64, ::Array{Any,1}, ::Array{Int64,1}, ::Array{Any,1}, ::Array{Float64,1}, ::Array{Float64,3}, ::typeof(sum), ::Array{Float64,3}) at abstractarray.jl:2040",
          "status": "Runtime dispatch",
          "x1": 161,
          "x2": 193.9
         },
         {
          "level": 12,
          "sf": "concatenate_setindex!(::Array{Float64,3}, ::Float64, ::Int64, ::Vararg{Any,N} where N) at abstractarray.jl:2059",
          "status": "Runtime dispatch",
          "x1": 163,
          "x2": 193.9
         },
         {
          "level": 13,
          "sf": "dotview(::Array{Float64,3}, ::Int64, ::Base.OneTo{Int64}, ::Vararg{Any,N} where N) at broadcast.jl:1116",
          "status": "Garbage collection",
          "x1": 168,
          "x2": 188.9
         },
         {
          "level": 14,
          "sf": "maybeview(::Array{Float64,3}, ::Int64, ::Vararg{Any,N} where N) at views.jl:124",
          "status": "Default",
          "x1": 185,
          "x2": 188.9
         },
         {
          "level": 8,
          "sf": "profile_test(::Int64) at In[62]:7",
          "status": "Default",
          "x1": 194,
          "x2": 201.9
         },
         {
          "level": 9,
          "sf": "#mapslices at none:0 [inlined]",
          "status": "Default",
          "x1": 194,
          "x2": 201.9
         },
         {
          "level": 10,
          "sf": "#mapslices#111(::Int64, ::typeof(mapslices), ::typeof(sort), ::Array{Float64,2}) at abstractarray.jl:2021",
          "status": "Runtime dispatch",
          "x1": 194,
          "x2": 194.9
         },
         {
          "level": 10,
          "sf": "#mapslices#111(::Int64, ::typeof(mapslices), ::typeof(sort), ::Array{Float64,2}) at abstractarray.jl:2030",
          "status": "Runtime dispatch",
          "x1": 195,
          "x2": 201.9
         },
         {
          "level": 11,
          "sf": "inner_mapslices!(::Bool, ::Base.Iterators.Drop{CartesianIndices{1,Tuple{Base.OneTo{Int64}}}}, ::Int64, ::Array{Any,1}, ::Array{Int64,1}, ::Array{Any,1}, ::Array{Float64,1}, ::Array{Float64,2}, ::typeof(sort), ::Array{Float64,2}) at abstractarray.jl:2040",
          "status": "Runtime dispatch",
          "x1": 196,
          "x2": 201.9
         },
         {
          "level": 12,
          "sf": "sort at sort.jl:756 [inlined]",
          "status": "Default",
          "x1": 196,
          "x2": 200.9
         },
         {
          "level": 13,
          "sf": "#sort#8 at sort.jl:756 [inlined]",
          "status": "Default",
          "x1": 196,
          "x2": 200.9
         },
         {
          "level": 14,
          "sf": "copymutable at abstractarray.jl:899 [inlined]",
          "status": "Default",
          "x1": 196,
          "x2": 197.9
         },
         {
          "level": 15,
          "sf": "similar at boot.jl:404 [inlined]",
          "status": "Garbage collection",
          "x1": 196,
          "x2": 197.9
         },
         {
          "level": 14,
          "sf": "sort! at sort.jl:696 [inlined]",
          "status": "Default",
          "x1": 198,
          "x2": 200.9
         },
         {
          "level": 15,
          "sf": "#sort!#7 at sort.jl:708 [inlined]",
          "status": "Default",
          "x1": 198,
          "x2": 200.9
         },
         {
          "level": 16,
          "sf": "sort! at sort.jl:1137 [inlined]",
          "status": "Default",
          "x1": 198,
          "x2": 200.9
         },
         {
          "level": 17,
          "sf": "fpsort!(::Array{Float64,1}, ::Base.Sort.QuickSortAlg, ::Base.Order.ForwardOrdering) at sort.jl:1128",
          "status": "Default",
          "x1": 198,
          "x2": 200.9
         },
         {
          "level": 18,
          "sf": "sort!(::Array{Float64,1}, ::Int64, ::Int64, ::Base.Sort.QuickSortAlg, ::Base.Sort.Float.Left) at sort.jl:537",
          "status": "Default",
          "x1": 198,
          "x2": 199.9
         },
         {
          "level": 19,
          "sf": "partition!(::Array{Float64,1}, ::Int64, ::Int64, ::Base.Sort.Float.Left) at sort.jl:522",
          "status": "Default",
          "x1": 198,
          "x2": 198.9
         },
         {
          "level": 19,
          "sf": "partition!(::Array{Float64,1}, ::Int64, ::Int64, ::Base.Sort.Float.Left) at sort.jl:524",
          "status": "Default",
          "x1": 199,
          "x2": 199.9
         },
         {
          "level": 20,
          "sf": "setindex! at array.jl:766 [inlined]",
          "status": "Default",
          "x1": 199,
          "x2": 199.9
         },
         {
          "level": 18,
          "sf": "sort!(::Array{Float64,1}, ::Int64, ::Int64, ::Base.Sort.QuickSortAlg, ::Base.Sort.Float.Left) at sort.jl:542",
          "status": "Default",
          "x1": 200,
          "x2": 200.9
         },
         {
          "level": 19,
          "sf": "sort!(::Array{Float64,1}, ::Int64, ::Int64, ::Base.Sort.QuickSortAlg, ::Base.Sort.Float.Left) at sort.jl:537",
          "status": "Default",
          "x1": 200,
          "x2": 200.9
         },
         {
          "level": 20,
          "sf": "partition!(::Array{Float64,1}, ::Int64, ::Int64, ::Base.Sort.Float.Left) at sort.jl:521",
          "status": "Default",
          "x1": 200,
          "x2": 200.9
         },
         {
          "level": 8,
          "sf": "profile_test(::Int64) at In[62]:9",
          "status": "Default",
          "x1": 202,
          "x2": 202.9
         },
         {
          "level": 9,
          "sf": "materialize at broadcast.jl:798 [inlined]",
          "status": "Default",
          "x1": 202,
          "x2": 202.9
         },
         {
          "level": 10,
          "sf": "copy at broadcast.jl:818 [inlined]",
          "status": "Default",
          "x1": 202,
          "x2": 202.9
         },
         {
          "level": 11,
          "sf": "copyto! at broadcast.jl:842 [inlined]",
          "status": "Default",
          "x1": 202,
          "x2": 202.9
         },
         {
          "level": 12,
          "sf": "copyto! at broadcast.jl:887 [inlined]",
          "status": "Default",
          "x1": 202,
          "x2": 202.9
         },
         {
          "level": 13,
          "sf": "macro expansion at simdloop.jl:77 [inlined]",
          "status": "Default",
          "x1": 202,
          "x2": 202.9
         },
         {
          "level": 14,
          "sf": "macro expansion at broadcast.jl:888 [inlined]",
          "status": "Default",
          "x1": 202,
          "x2": 202.9
         },
         {
          "level": 15,
          "sf": "getindex at broadcast.jl:558 [inlined]",
          "status": "Default",
          "x1": 202,
          "x2": 202.9
         },
         {
          "level": 16,
          "sf": "_broadcast_getindex at broadcast.jl:597 [inlined]",
          "status": "Default",
          "x1": 202,
          "x2": 202.9
         },
         {
          "level": 17,
          "sf": "_getindex at broadcast.jl:621 [inlined]",
          "status": "Default",
          "x1": 202,
          "x2": 202.9
         },
         {
          "level": 18,
          "sf": "_broadcast_getindex at broadcast.jl:591 [inlined]",
          "status": "Default",
          "x1": 202,
          "x2": 202.9
         },
         {
          "level": 19,
          "sf": "getindex at multidimensional.jl:486 [inlined]",
          "status": "Default",
          "x1": 202,
          "x2": 202.9
         },
         {
          "level": 20,
          "sf": "getindex at array.jl:729 [inlined]",
          "status": "Default",
          "x1": 202,
          "x2": 202.9
         },
         {
          "level": 1,
          "sf": "randn(::Random.MersenneTwister, ::Type{Float64}) at normal.jl:167",
          "status": "Default",
          "x1": 213,
          "x2": 213.9
         }
        ]
       },
       "encoding": {
        "color": {
         "field": "status",
         "legend": {
          "orient": "bottom",
          "title": null
         },
         "type": "nominal"
        },
        "tooltip": {
         "field": "sf",
         "type": "nominal"
        },
        "x": {
         "axis": null,
         "field": "x1",
         "type": "quantitative"
        },
        "x2": {
         "field": "x2",
         "type": "quantitative"
        },
        "y": {
         "axis": null,
         "field": "level",
         "type": "quantitative"
        },
        "y2": {
         "field": "level2",
         "type": "quantitative"
        }
       },
       "height": 400,
       "mark": "rect",
       "selection": {
        "grid": {
         "bind": "scales",
         "type": "interval"
        }
       },
       "title": "Profile Results",
       "transform": [
        {
         "as": "level2",
         "calculate": "datum.level+0.9"
        }
       ],
       "width": 800
      },
      "image/png": "[encoded data removed]",
      "image/svg+xml": [
       "<svg class=\"marks\" width=\"810\" height=\"456\" viewBox=\"0 0 810 456\" version=\"1.1\" xmlns=\"http://www.w3.org/2000/svg\" xmlns:xlink=\"http://www.w3.org/1999/xlink\"><defs><clipPath id=\"clip1\"><rect x=\"0\" y=\"0\" width=\"800\" height=\"400\"></rect></clipPath></defs><g transform=\"translate(5,22)\"><g class=\"mark-group role-frame root\"><g transform=\"translate(0,0)\"><path class=\"background\" d=\"M0.5,0.5h800v400h-800Z\" style=\"fill: none; stroke: #ddd;\"></path><g><g class=\"mark-rect role-mark marks\" clip-path=\"url(#clip1)\"><path d=\"M3.3333333333333335,396.72727272727275h743v3.272727272727252h-743Z\" style=\"fill: #e45756;\"></path><path d=\"M3.3333333333333335,393.09090909090907h683v3.272727272727309h-683Z\" style=\"fill: #4c78a8;\"></path><path d=\"M3.3333333333333335,389.45454545454544h683v3.272727272727309h-683Z\" style=\"fill: #4c78a8;\"></path><path d=\"M3.3333333333333335,385.8181818181818h683v3.272727272727309h-683Z\" style=\"fill: #4c78a8;\"></path><path d=\"M3.3333333333333335,382.1818181818182h683v3.272727272727252h-683Z\" style=\"fill: #e45756;\"></path><path d=\"M3.3333333333333335,378.54545454545456h683v3.272727272727252h-683Z\" style=\"fill: #e45756;\"></path><path d=\"M3.3333333333333335,374.9090909090909h683v3.272727272727309h-683Z\" style=\"fill: #4c78a8;\"></path><path d=\"M3.3333333333333335,371.2727272727273h683v3.272727272727252h-683Z\" style=\"fill: #e45756;\"></path><path d=\"M3.3333333333333335,367.6363636363636h76.33333333333333v3.272727272727252h-76.33333333333333Z\" style=\"fill: #4c78a8;\"></path><path d=\"M3.3333333333333335,364h2.9999999999999987v3.272727272727309h-2.9999999999999987Z\" style=\"fill: #4c78a8;\"></path><path d=\"M3.3333333333333335,360.3636363636364h2.9999999999999987v3.272727272727252h-2.9999999999999987Z\" style=\"fill: #4c78a8;\"></path><path d=\"M3.3333333333333335,356.72727272727275h2.9999999999999987v3.272727272727252h-2.9999999999999987Z\" style=\"fill: #f58518;\"></path><path d=\"M6.666666666666667,364h72.99999999999999v3.272727272727309h-72.99999999999999Z\" style=\"fill: #4c78a8;\"></path><path d=\"M6.666666666666667,360.3636363636364h59.666666666666664v3.272727272727252h-59.666666666666664Z\" style=\"fill: #4c78a8;\"></path><path d=\"M6.666666666666667,356.72727272727275h59.666666666666664v3.272727272727252h-59.666666666666664Z\" style=\"fill: #4c78a8;\"></path><path d=\"M6.666666666666667,353.09090909090907h49.66666666666666v3.272727272727309h-49.66666666666666Z\" style=\"fill: #4c78a8;\"></path><path d=\"M6.666666666666667,349.45454545454544h49.66666666666666v3.272727272727309h-49.66666666666666Z\" style=\"fill: #4c78a8;\"></path><path d=\"M6.666666666666667,345.8181818181818h49.66666666666666v3.272727272727309h-49.66666666666666Z\" style=\"fill: #4c78a8;\"></path><path d=\"M6.666666666666667,342.1818181818182h49.66666666666666v3.272727272727252h-49.66666666666666Z\" style=\"fill: #4c78a8;\"></path><path d=\"M6.666666666666667,338.54545454545456h49.66666666666666v3.272727272727252h-49.66666666666666Z\" style=\"fill: #4c78a8;\"></path><path d=\"M6.666666666666667,334.90909090909093h19.666666666666668v3.272727272727252h-19.666666666666668Z\" style=\"fill: #4c78a8;\"></path><path d=\"M6.666666666666667,331.27272727272725h19.666666666666668v3.272727272727309h-19.666666666666668Z\" style=\"fill: #4c78a8;\"></path><path d=\"M6.666666666666667,327.6363636363636h19.666666666666668v3.272727272727309h-19.666666666666668Z\" style=\"fill: #4c78a8;\"></path><path d=\"M6.666666666666667,324h19.666666666666668v3.272727272727252h-19.666666666666668Z\" style=\"fill: #4c78a8;\"></path><path d=\"M6.666666666666667,320.3636363636364h19.666666666666668v3.272727272727252h-19.666666666666668Z\" style=\"fill: #4c78a8;\"></path><path d=\"M6.666666666666667,316.72727272727275h19.666666666666668v3.272727272727252h-19.666666666666668Z\" style=\"fill: #4c78a8;\"></path><path d=\"M6.666666666666667,313.09090909090907h19.666666666666668v3.272727272727309h-19.666666666666668Z\" style=\"fill: #4c78a8;\"></path><path d=\"M6.666666666666667,309.4545454545455h19.666666666666668v3.272727272727252h-19.666666666666668Z\" style=\"fill: #4c78a8;\"></path><path d=\"M6.666666666666667,305.8181818181818h19.666666666666668v3.272727272727252h-19.666666666666668Z\" style=\"fill: #4c78a8;\"></path><path d=\"M6.666666666666667,302.1818181818182h19.666666666666668v3.272727272727309h-19.666666666666668Z\" style=\"fill: #4c78a8;\"></path><path d=\"M6.666666666666667,298.54545454545456h19.666666666666668v3.272727272727252h-19.666666666666668Z\" style=\"fill: #4c78a8;\"></path><path d=\"M6.666666666666667,294.90909090909093h19.666666666666668v3.272727272727252h-19.666666666666668Z\" style=\"fill: #4c78a8;\"></path><path d=\"M6.666666666666667,291.2727272727273h19.666666666666668v3.272727272727195h-19.666666666666668Z\" style=\"fill: #4c78a8;\"></path><path d=\"M6.666666666666667,287.6363636363636h16.333333333333332v3.272727272727309h-16.333333333333332Z\" style=\"fill: #4c78a8;\"></path><path d=\"M6.666666666666667,284h16.333333333333332v3.272727272727309h-16.333333333333332Z\" style=\"fill: #4c78a8;\"></path><path d=\"M6.666666666666667,280.3636363636364h16.333333333333332v3.272727272727252h-16.333333333333332Z\" style=\"fill: #4c78a8;\"></path><path d=\"M6.666666666666667,276.72727272727275h16.333333333333332v3.272727272727252h-16.333333333333332Z\" style=\"fill: #4c78a8;\"></path><path d=\"M6.666666666666667,273.0909090909091h16.333333333333332v3.272727272727252h-16.333333333333332Z\" style=\"fill: #4c78a8;\"></path><path d=\"M6.666666666666667,269.45454545454544h16.333333333333332v3.272727272727309h-16.333333333333332Z\" style=\"fill: #4c78a8;\"></path><path d=\"M6.666666666666667,265.8181818181818h16.333333333333332v3.272727272727252h-16.333333333333332Z\" style=\"fill: #4c78a8;\"></path><path d=\"M6.666666666666667,262.1818181818182h16.333333333333332v3.272727272727252h-16.333333333333332Z\" style=\"fill: #4c78a8;\"></path><path d=\"M6.666666666666667,258.54545454545456h16.333333333333332v3.272727272727252h-16.333333333333332Z\" style=\"fill: #4c78a8;\"></path><path d=\"M6.666666666666667,254.90909090909088h16.333333333333332v3.272727272727309h-16.333333333333332Z\" style=\"fill: #4c78a8;\"></path><path d=\"M6.666666666666667,251.27272727272728h16.333333333333332v3.272727272727252h-16.333333333333332Z\" style=\"fill: #4c78a8;\"></path><path d=\"M6.666666666666667,247.63636363636365h16.333333333333332v3.2727272727272236h-16.333333333333332Z\" style=\"fill: #4c78a8;\"></path><path d=\"M6.666666666666667,244h16.333333333333332v3.272727272727252h-16.333333333333332Z\" style=\"fill: #4c78a8;\"></path><path d=\"M6.666666666666667,240.36363636363637h16.333333333333332v3.2727272727272805h-16.333333333333332Z\" style=\"fill: #4c78a8;\"></path><path d=\"M6.666666666666667,236.72727272727272h16.333333333333332v3.2727272727272805h-16.333333333333332Z\" style=\"fill: #4c78a8;\"></path><path d=\"M6.666666666666667,233.0909090909091h16.333333333333332v3.2727272727272236h-16.333333333333332Z\" style=\"fill: #4c78a8;\"></path><path d=\"M6.666666666666667,229.4545454545455h16.333333333333332v3.2727272727272236h-16.333333333333332Z\" style=\"fill: #4c78a8;\"></path><path d=\"M6.666666666666667,225.81818181818184h16.333333333333332v3.272727272727252h-16.333333333333332Z\" style=\"fill: #4c78a8;\"></path><path d=\"M6.666666666666667,222.18181818181816h16.333333333333332v3.2727272727273373h-16.333333333333332Z\" style=\"fill: #4c78a8;\"></path><path d=\"M6.666666666666667,218.54545454545456h16.333333333333332v3.272727272727252h-16.333333333333332Z\" style=\"fill: #4c78a8;\"></path><path d=\"M6.666666666666667,214.90909090909093h16.333333333333332v3.2727272727272236h-16.333333333333332Z\" style=\"fill: #4c78a8;\"></path><path d=\"M6.666666666666667,211.27272727272728h16.333333333333332v3.2727272727272805h-16.333333333333332Z\" style=\"fill: #4c78a8;\"></path><path d=\"M6.666666666666667,207.63636363636363h16.333333333333332v3.272727272727309h-16.333333333333332Z\" style=\"fill: #4c78a8;\"></path><path d=\"M6.666666666666667,204h16.333333333333332v3.2727272727272805h-16.333333333333332Z\" style=\"fill: #4c78a8;\"></path><path d=\"M6.666666666666667,200.36363636363637h16.333333333333332v3.272727272727252h-16.333333333333332Z\" style=\"fill: #4c78a8;\"></path><path d=\"M6.666666666666667,196.72727272727272h16.333333333333332v3.2727272727272805h-16.333333333333332Z\" style=\"fill: #4c78a8;\"></path><path d=\"M6.666666666666667,193.09090909090912h16.333333333333332v3.272727272727252h-16.333333333333332Z\" style=\"fill: #4c78a8;\"></path><path d=\"M6.666666666666667,189.45454545454544h16.333333333333332v3.2727272727272805h-16.333333333333332Z\" style=\"fill: #4c78a8;\"></path><path d=\"M6.666666666666667,185.81818181818184h16.333333333333332v3.2727272727272805h-16.333333333333332Z\" style=\"fill: #4c78a8;\"></path><path d=\"M6.666666666666667,182.1818181818182h16.333333333333332v3.272727272727252h-16.333333333333332Z\" style=\"fill: #4c78a8;\"></path><path d=\"M6.666666666666667,178.54545454545456h16.333333333333332v3.2727272727272805h-16.333333333333332Z\" style=\"fill: #4c78a8;\"></path><path d=\"M6.666666666666667,174.9090909090909h16.333333333333332v3.2727272727272805h-16.333333333333332Z\" style=\"fill: #4c78a8;\"></path><path d=\"M6.666666666666667,171.27272727272728h16.333333333333332v3.2727272727272805h-16.333333333333332Z\" style=\"fill: #4c78a8;\"></path><path d=\"M6.666666666666667,167.63636363636363h16.333333333333332v3.2727272727272805h-16.333333333333332Z\" style=\"fill: #4c78a8;\"></path><path d=\"M6.666666666666667,163.99999999999997h16.333333333333332v3.272727272727309h-16.333333333333332Z\" style=\"fill: #4c78a8;\"></path><path d=\"M6.666666666666667,160.36363636363635h16.333333333333332v3.2727272727272805h-16.333333333333332Z\" style=\"fill: #4c78a8;\"></path><path d=\"M6.666666666666667,156.7272727272727h16.333333333333332v3.272727272727309h-16.333333333333332Z\" style=\"fill: #4c78a8;\"></path><path d=\"M6.666666666666667,153.09090909090907h16.333333333333332v3.2727272727272805h-16.333333333333332Z\" style=\"fill: #4c78a8;\"></path><path d=\"M6.666666666666667,149.4545454545454h16.333333333333332v3.2727272727273373h-16.333333333333332Z\" style=\"fill: #4c78a8;\"></path><path d=\"M6.666666666666667,145.8181818181818h16.333333333333332v3.272727272727252h-16.333333333333332Z\" style=\"fill: #4c78a8;\"></path><path d=\"M6.666666666666667,142.18181818181813h16.333333333333332v3.2727272727273373h-16.333333333333332Z\" style=\"fill: #4c78a8;\"></path><path d=\"M6.666666666666667,138.54545454545453h16.333333333333332v3.2727272727272805h-16.333333333333332Z\" style=\"fill: #4c78a8;\"></path><path d=\"M6.666666666666667,134.90909090909088h16.333333333333332v3.272727272727309h-16.333333333333332Z\" style=\"fill: #4c78a8;\"></path><path d=\"M6.666666666666667,131.27272727272725h16.333333333333332v3.2727272727272805h-16.333333333333332Z\" style=\"fill: #4c78a8;\"></path><path d=\"M6.666666666666667,127.63636363636364h16.333333333333332v3.2727272727272663h-16.333333333333332Z\" style=\"fill: #4c78a8;\"></path><path d=\"M6.666666666666667,123.99999999999997h16.333333333333332v3.272727272727323h-16.333333333333332Z\" style=\"fill: #4c78a8;\"></path><path d=\"M6.666666666666667,120.36363636363636h16.333333333333332v3.2727272727272663h-16.333333333333332Z\" style=\"fill: #4c78a8;\"></path><path d=\"M6.666666666666667,116.7272727272727h16.333333333333332v3.272727272727309h-16.333333333333332Z\" style=\"fill: #4c78a8;\"></path><path d=\"M6.666666666666667,113.0909090909091h16.333333333333332v3.2727272727272663h-16.333333333333332Z\" style=\"fill: #4c78a8;\"></path><path d=\"M6.666666666666667,109.45454545454542h16.333333333333332v3.272727272727323h-16.333333333333332Z\" style=\"fill: #4c78a8;\"></path><path d=\"M6.666666666666667,105.81818181818181h16.333333333333332v3.2727272727272663h-16.333333333333332Z\" style=\"fill: #4c78a8;\"></path><path d=\"M6.666666666666667,102.18181818181816h16.333333333333332v3.272727272727309h-16.333333333333332Z\" style=\"fill: #4c78a8;\"></path><path d=\"M6.666666666666667,98.54545454545453h16.333333333333332v3.2727272727272805h-16.333333333333332Z\" style=\"fill: #4c78a8;\"></path><path d=\"M6.666666666666667,94.90909090909088h16.333333333333332v3.272727272727309h-16.333333333333332Z\" style=\"fill: #4c78a8;\"></path><path d=\"M6.666666666666667,91.27272727272727h16.333333333333332v3.2727272727272663h-16.333333333333332Z\" style=\"fill: #4c78a8;\"></path><path d=\"M6.666666666666667,87.6363636363636h16.333333333333332v3.272727272727323h-16.333333333333332Z\" style=\"fill: #4c78a8;\"></path><path d=\"M6.666666666666667,83.99999999999999h16.333333333333332v3.2727272727272663h-16.333333333333332Z\" style=\"fill: #4c78a8;\"></path><path d=\"M6.666666666666667,80.36363636363633h16.333333333333332v3.272727272727309h-16.333333333333332Z\" style=\"fill: #4c78a8;\"></path><path d=\"M6.666666666666667,76.7272727272727h16.333333333333332v3.2727272727272805h-16.333333333333332Z\" style=\"fill: #4c78a8;\"></path><path d=\"M6.666666666666667,73.09090909090905h2.999999999999999v3.272727272727323h-2.999999999999999Z\" style=\"fill: #4c78a8;\"></path><path d=\"M6.666666666666667,69.45454545454544h2.999999999999999v3.2727272727272663h-2.999999999999999Z\" style=\"fill: #4c78a8;\"></path><path d=\"M6.666666666666667,65.81818181818177h2.999999999999999v3.272727272727323h-2.999999999999999Z\" style=\"fill: #4c78a8;\"></path><path d=\"M6.666666666666667,62.18181818181816h2.999999999999999v3.272727272727323h-2.999999999999999Z\" style=\"fill: #4c78a8;\"></path><path d=\"M6.666666666666667,58.54545454545455h2.999999999999999v3.2727272727272663h-2.999999999999999Z\" style=\"fill: #4c78a8;\"></path><path d=\"M10,73.09090909090905h13v3.272727272727323h-13Z\" style=\"fill: #4c78a8;\"></path><path d=\"M10,69.45454545454544h6.333333333333336v3.2727272727272663h-6.333333333333336Z\" style=\"fill: #4c78a8;\"></path><path d=\"M10,65.81818181818177h6.333333333333336v3.272727272727323h-6.333333333333336Z\" style=\"fill: #4c78a8;\"></path><path d=\"M10,62.18181818181816h3v3.272727272727323h-3Z\" style=\"fill: #4c78a8;\"></path><path d=\"M10,58.54545454545455h3v3.2727272727272663h-3Z\" style=\"fill: #4c78a8;\"></path><path d=\"M10,54.909090909090885h3v3.272727272727316h-3Z\" style=\"fill: #4c78a8;\"></path><path d=\"M10,51.272727272727266h3v3.2727272727272734h-3Z\" style=\"fill: #4c78a8;\"></path><path d=\"M10,47.63636363636361h3v3.272727272727316h-3Z\" style=\"fill: #4c78a8;\"></path><path d=\"M10,43.99999999999999h3v3.2727272727272734h-3Z\" style=\"fill: #4c78a8;\"></path><path d=\"M10,40.36363636363633h3v3.272727272727323h-3Z\" style=\"fill: #4c78a8;\"></path><path d=\"M10,36.72727272727272h3v3.2727272727272734h-3Z\" style=\"fill: #4c78a8;\"></path><path d=\"M10,33.09090909090906h3v3.272727272727316h-3Z\" style=\"fill: #4c78a8;\"></path><path d=\"M10,29.454545454545446h3v3.2727272727272734h-3Z\" style=\"fill: #4c78a8;\"></path><path d=\"M10,25.818181818181785h3v3.272727272727316h-3Z\" style=\"fill: #4c78a8;\"></path><path d=\"M10,22.18181818181817h3v3.27272727272727h-3Z\" style=\"fill: #e45756;\"></path><path d=\"M10,18.54545454545451h3v3.272727272727316h-3Z\" style=\"fill: #4c78a8;\"></path><path d=\"M13.333333333333334,62.18181818181816h3.0000000000000018v3.272727272727323h-3.0000000000000018Z\" style=\"fill: #4c78a8;\"></path><path d=\"M13.333333333333334,58.54545454545455h3.0000000000000018v3.2727272727272663h-3.0000000000000018Z\" style=\"fill: #4c78a8;\"></path><path d=\"M13.333333333333334,54.909090909090885h3.0000000000000018v3.272727272727316h-3.0000000000000018Z\" style=\"fill: #4c78a8;\"></path><path d=\"M13.333333333333334,51.272727272727266h3.0000000000000018v3.2727272727272734h-3.0000000000000018Z\" style=\"fill: #4c78a8;\"></path><path d=\"M13.333333333333334,47.63636363636361h3.0000000000000018v3.272727272727316h-3.0000000000000018Z\" style=\"fill: #4c78a8;\"></path><path d=\"M13.333333333333334,43.99999999999999h3.0000000000000018v3.2727272727272734h-3.0000000000000018Z\" style=\"fill: #4c78a8;\"></path><path d=\"M13.333333333333334,40.36363636363633h3.0000000000000018v3.272727272727323h-3.0000000000000018Z\" style=\"fill: #4c78a8;\"></path><path d=\"M13.333333333333334,36.72727272727272h3.0000000000000018v3.2727272727272734h-3.0000000000000018Z\" style=\"fill: #4c78a8;\"></path><path d=\"M13.333333333333334,33.09090909090906h3.0000000000000018v3.272727272727316h-3.0000000000000018Z\" style=\"fill: #4c78a8;\"></path><path d=\"M13.333333333333334,29.454545454545446h3.0000000000000018v3.2727272727272734h-3.0000000000000018Z\" style=\"fill: #4c78a8;\"></path><path d=\"M13.333333333333334,25.818181818181785h3.0000000000000018v3.272727272727316h-3.0000000000000018Z\" style=\"fill: #4c78a8;\"></path><path d=\"M13.333333333333334,22.18181818181817h3.0000000000000018v3.27272727272727h-3.0000000000000018Z\" style=\"fill: #4c78a8;\"></path><path d=\"M13.333333333333334,18.54545454545451h3.0000000000000018v3.272727272727316h-3.0000000000000018Z\" style=\"fill: #4c78a8;\"></path><path d=\"M13.333333333333334,14.909090909090894h3.0000000000000018v3.2727272727272716h-3.0000000000000018Z\" style=\"fill: #4c78a8;\"></path><path d=\"M13.333333333333334,11.272727272727234h3.0000000000000018v3.272727272727316h-3.0000000000000018Z\" style=\"fill: #4c78a8;\"></path><path d=\"M13.333333333333334,7.636363636363619h3.0000000000000018v3.2727272727272716h-3.0000000000000018Z\" style=\"fill: #4c78a8;\"></path><path d=\"M13.333333333333334,3.999999999999959h3.0000000000000018v3.272727272727316h-3.0000000000000018Z\" style=\"fill: #4c78a8;\"></path><path d=\"M16.666666666666664,69.45454545454544h3.0000000000000036v3.2727272727272663h-3.0000000000000036Z\" style=\"fill: #4c78a8;\"></path><path d=\"M16.666666666666664,65.81818181818177h3.0000000000000036v3.272727272727323h-3.0000000000000036Z\" style=\"fill: #4c78a8;\"></path><path d=\"M16.666666666666664,62.18181818181816h3.0000000000000036v3.272727272727323h-3.0000000000000036Z\" style=\"fill: #4c78a8;\"></path><path d=\"M16.666666666666664,58.54545454545455h3.0000000000000036v3.2727272727272663h-3.0000000000000036Z\" style=\"fill: #4c78a8;\"></path><path d=\"M16.666666666666664,54.909090909090885h3.0000000000000036v3.272727272727316h-3.0000000000000036Z\" style=\"fill: #e45756;\"></path><path d=\"M16.666666666666664,51.272727272727266h3.0000000000000036v3.2727272727272734h-3.0000000000000036Z\" style=\"fill: #4c78a8;\"></path><path d=\"M16.666666666666664,47.63636363636361h3.0000000000000036v3.272727272727316h-3.0000000000000036Z\" style=\"fill: #4c78a8;\"></path><path d=\"M16.666666666666664,43.99999999999999h3.0000000000000036v3.2727272727272734h-3.0000000000000036Z\" style=\"fill: #4c78a8;\"></path><path d=\"M16.666666666666664,40.36363636363633h3.0000000000000036v3.272727272727323h-3.0000000000000036Z\" style=\"fill: #4c78a8;\"></path><path d=\"M16.666666666666664,36.72727272727272h3.0000000000000036v3.2727272727272734h-3.0000000000000036Z\" style=\"fill: #4c78a8;\"></path><path d=\"M16.666666666666664,33.09090909090906h3.0000000000000036v3.272727272727316h-3.0000000000000036Z\" style=\"fill: #4c78a8;\"></path><path d=\"M16.666666666666664,29.454545454545446h3.0000000000000036v3.2727272727272734h-3.0000000000000036Z\" style=\"fill: #4c78a8;\"></path><path d=\"M20,69.45454545454544h3v3.2727272727272663h-3Z\" style=\"fill: #4c78a8;\"></path><path d=\"M20,65.81818181818177h3v3.272727272727323h-3Z\" style=\"fill: #4c78a8;\"></path><path d=\"M20,62.18181818181816h3v3.272727272727323h-3Z\" style=\"fill: #e45756;\"></path><path d=\"M23.333333333333332,287.6363636363636h3.0000000000000036v3.272727272727309h-3.0000000000000036Z\" style=\"fill: #4c78a8;\"></path><path d=\"M23.333333333333332,284h3.0000000000000036v3.272727272727309h-3.0000000000000036Z\" style=\"fill: #4c78a8;\"></path><path d=\"M23.333333333333332,280.3636363636364h3.0000000000000036v3.272727272727252h-3.0000000000000036Z\" style=\"fill: #4c78a8;\"></path><path d=\"M23.333333333333332,276.72727272727275h3.0000000000000036v3.272727272727252h-3.0000000000000036Z\" style=\"fill: #4c78a8;\"></path><path d=\"M23.333333333333332,273.0909090909091h3.0000000000000036v3.272727272727252h-3.0000000000000036Z\" style=\"fill: #e45756;\"></path><path d=\"M23.333333333333332,269.45454545454544h3.0000000000000036v3.272727272727309h-3.0000000000000036Z\" style=\"fill: #4c78a8;\"></path><path d=\"M23.333333333333332,265.8181818181818h3.0000000000000036v3.272727272727252h-3.0000000000000036Z\" style=\"fill: #4c78a8;\"></path><path d=\"M23.333333333333332,262.1818181818182h3.0000000000000036v3.272727272727252h-3.0000000000000036Z\" style=\"fill: #4c78a8;\"></path><path d=\"M26.666666666666668,334.90909090909093h29.666666666666654v3.272727272727252h-29.666666666666654Z\" style=\"fill: #4c78a8;\"></path><path d=\"M26.666666666666668,331.27272727272725h29.666666666666654v3.272727272727309h-29.666666666666654Z\" style=\"fill: #4c78a8;\"></path><path d=\"M26.666666666666668,327.6363636363636h29.666666666666654v3.272727272727309h-29.666666666666654Z\" style=\"fill: #4c78a8;\"></path><path d=\"M26.666666666666668,324h29.666666666666654v3.272727272727252h-29.666666666666654Z\" style=\"fill: #4c78a8;\"></path><path d=\"M26.666666666666668,320.3636363636364h29.666666666666654v3.272727272727252h-29.666666666666654Z\" style=\"fill: #4c78a8;\"></path><path d=\"M26.666666666666668,316.72727272727275h29.666666666666654v3.272727272727252h-29.666666666666654Z\" style=\"fill: #4c78a8;\"></path><path d=\"M26.666666666666668,313.09090909090907h29.666666666666654v3.272727272727309h-29.666666666666654Z\" style=\"fill: #4c78a8;\"></path><path d=\"M26.666666666666668,309.4545454545455h29.666666666666654v3.272727272727252h-29.666666666666654Z\" style=\"fill: #4c78a8;\"></path><path d=\"M26.666666666666668,305.8181818181818h12.999999999999996v3.272727272727252h-12.999999999999996Z\" style=\"fill: #4c78a8;\"></path><path d=\"M26.666666666666668,302.1818181818182h12.999999999999996v3.272727272727309h-12.999999999999996Z\" style=\"fill: #e45756;\"></path><path d=\"M26.666666666666668,298.54545454545456h12.999999999999996v3.272727272727252h-12.999999999999996Z\" style=\"fill: #4c78a8;\"></path><path d=\"M26.666666666666668,294.90909090909093h3v3.272727272727252h-3Z\" style=\"fill: #e45756;\"></path><path d=\"M30,294.90909090909093h9.666666666666664v3.272727272727252h-9.666666666666664Z\" style=\"fill: #4c78a8;\"></path><path d=\"M30,291.2727272727273h9.666666666666664v3.272727272727195h-9.666666666666664Z\" style=\"fill: #4c78a8;\"></path><path d=\"M30,287.6363636363636h3v3.272727272727309h-3Z\" style=\"fill: #4c78a8;\"></path><path d=\"M30,284h3v3.272727272727309h-3Z\" style=\"fill: #4c78a8;\"></path><path d=\"M30,280.3636363636364h3v3.272727272727252h-3Z\" style=\"fill: #4c78a8;\"></path><path d=\"M30,276.72727272727275h3v3.272727272727252h-3Z\" style=\"fill: #4c78a8;\"></path><path d=\"M30,273.0909090909091h3v3.272727272727252h-3Z\" style=\"fill: #4c78a8;\"></path><path d=\"M30,269.45454545454544h3v3.272727272727309h-3Z\" style=\"fill: #4c78a8;\"></path><path d=\"M30,265.8181818181818h3v3.272727272727252h-3Z\" style=\"fill: #4c78a8;\"></path><path d=\"M30,262.1818181818182h3v3.272727272727252h-3Z\" style=\"fill: #e45756;\"></path><path d=\"M30,258.54545454545456h3v3.272727272727252h-3Z\" style=\"fill: #4c78a8;\"></path><path d=\"M30,254.90909090909088h3v3.272727272727309h-3Z\" style=\"fill: #4c78a8;\"></path><path d=\"M30,251.27272727272728h3v3.272727272727252h-3Z\" style=\"fill: #4c78a8;\"></path><path d=\"M30,247.63636363636365h3v3.2727272727272236h-3Z\" style=\"fill: #4c78a8;\"></path><path d=\"M30,244h3v3.272727272727252h-3Z\" style=\"fill: #4c78a8;\"></path><path d=\"M30,240.36363636363637h3v3.2727272727272805h-3Z\" style=\"fill: #4c78a8;\"></path><path d=\"M30,236.72727272727272h3v3.2727272727272805h-3Z\" style=\"fill: #4c78a8;\"></path><path d=\"M30,233.0909090909091h3v3.2727272727272236h-3Z\" style=\"fill: #4c78a8;\"></path><path d=\"M30,229.4545454545455h3v3.2727272727272236h-3Z\" style=\"fill: #4c78a8;\"></path><path d=\"M30,225.81818181818184h3v3.272727272727252h-3Z\" style=\"fill: #4c78a8;\"></path><path d=\"M30,222.18181818181816h3v3.2727272727273373h-3Z\" style=\"fill: #4c78a8;\"></path><path d=\"M30,218.54545454545456h3v3.272727272727252h-3Z\" style=\"fill: #4c78a8;\"></path><path d=\"M33.33333333333333,287.6363636363636h3.000000000000007v3.272727272727309h-3.000000000000007Z\" style=\"fill: #4c78a8;\"></path><path d=\"M33.33333333333333,284h3.000000000000007v3.272727272727309h-3.000000000000007Z\" style=\"fill: #4c78a8;\"></path><path d=\"M33.33333333333333,280.3636363636364h3.000000000000007v3.272727272727252h-3.000000000000007Z\" style=\"fill: #4c78a8;\"></path><path d=\"M33.33333333333333,276.72727272727275h3.000000000000007v3.272727272727252h-3.000000000000007Z\" style=\"fill: #4c78a8;\"></path><path d=\"M33.33333333333333,273.0909090909091h3.000000000000007v3.272727272727252h-3.000000000000007Z\" style=\"fill: #e45756;\"></path><path d=\"M33.33333333333333,269.45454545454544h3.000000000000007v3.272727272727309h-3.000000000000007Z\" style=\"fill: #4c78a8;\"></path><path d=\"M36.666666666666664,287.6363636363636h3v3.272727272727309h-3Z\" style=\"fill: #4c78a8;\"></path><path d=\"M36.666666666666664,284h3v3.272727272727309h-3Z\" style=\"fill: #4c78a8;\"></path><path d=\"M36.666666666666664,280.3636363636364h3v3.272727272727252h-3Z\" style=\"fill: #e45756;\"></path><path d=\"M40,305.8181818181818h16.33333333333332v3.272727272727252h-16.33333333333332Z\" style=\"fill: #4c78a8;\"></path><path d=\"M40,302.1818181818182h3v3.272727272727309h-3Z\" style=\"fill: #4c78a8;\"></path><path d=\"M40,298.54545454545456h3v3.272727272727252h-3Z\" style=\"fill: #4c78a8;\"></path><path d=\"M43.333333333333336,302.1818181818182h12.999999999999986v3.272727272727309h-12.999999999999986Z\" style=\"fill: #4c78a8;\"></path><path d=\"M43.333333333333336,298.54545454545456h12.999999999999986v3.272727272727252h-12.999999999999986Z\" style=\"fill: #4c78a8;\"></path><path d=\"M43.333333333333336,294.90909090909093h12.999999999999986v3.272727272727252h-12.999999999999986Z\" style=\"fill: #4c78a8;\"></path><path d=\"M43.333333333333336,291.2727272727273h12.999999999999986v3.272727272727195h-12.999999999999986Z\" style=\"fill: #4c78a8;\"></path><path d=\"M43.333333333333336,287.6363636363636h12.999999999999986v3.272727272727309h-12.999999999999986Z\" style=\"fill: #4c78a8;\"></path><path d=\"M43.333333333333336,284h12.999999999999986v3.272727272727309h-12.999999999999986Z\" style=\"fill: #4c78a8;\"></path><path d=\"M43.333333333333336,280.3636363636364h12.999999999999986v3.272727272727252h-12.999999999999986Z\" style=\"fill: #4c78a8;\"></path><path d=\"M43.333333333333336,276.72727272727275h12.999999999999986v3.272727272727252h-12.999999999999986Z\" style=\"fill: #4c78a8;\"></path><path d=\"M43.333333333333336,273.0909090909091h12.999999999999986v3.272727272727252h-12.999999999999986Z\" style=\"fill: #4c78a8;\"></path><path d=\"M43.333333333333336,269.45454545454544h12.999999999999986v3.272727272727309h-12.999999999999986Z\" style=\"fill: #4c78a8;\"></path><path d=\"M43.333333333333336,265.8181818181818h12.999999999999986v3.272727272727252h-12.999999999999986Z\" style=\"fill: #4c78a8;\"></path><path d=\"M43.333333333333336,262.1818181818182h12.999999999999986v3.272727272727252h-12.999999999999986Z\" style=\"fill: #4c78a8;\"></path><path d=\"M43.333333333333336,258.54545454545456h12.999999999999986v3.272727272727252h-12.999999999999986Z\" style=\"fill: #4c78a8;\"></path><path d=\"M43.333333333333336,254.90909090909088h12.999999999999986v3.272727272727309h-12.999999999999986Z\" style=\"fill: #4c78a8;\"></path><path d=\"M43.333333333333336,251.27272727272728h12.999999999999986v3.272727272727252h-12.999999999999986Z\" style=\"fill: #4c78a8;\"></path><path d=\"M43.333333333333336,247.63636363636365h12.999999999999986v3.2727272727272236h-12.999999999999986Z\" style=\"fill: #4c78a8;\"></path><path d=\"M43.333333333333336,244h12.999999999999986v3.272727272727252h-12.999999999999986Z\" style=\"fill: #4c78a8;\"></path><path d=\"M43.333333333333336,240.36363636363637h12.999999999999986v3.2727272727272805h-12.999999999999986Z\" style=\"fill: #4c78a8;\"></path><path d=\"M43.333333333333336,236.72727272727272h2.999999999999993v3.2727272727272805h-2.999999999999993Z\" style=\"fill: #4c78a8;\"></path><path d=\"M43.333333333333336,233.0909090909091h2.999999999999993v3.2727272727272236h-2.999999999999993Z\" style=\"fill: #4c78a8;\"></path><path d=\"M46.666666666666664,236.72727272727272h9.666666666666657v3.2727272727272805h-9.666666666666657Z\" style=\"fill: #4c78a8;\"></path><path d=\"M46.666666666666664,233.0909090909091h3.000000000000007v3.2727272727272236h-3.000000000000007Z\" style=\"fill: #4c78a8;\"></path><path d=\"M46.666666666666664,229.4545454545455h3.000000000000007v3.2727272727272236h-3.000000000000007Z\" style=\"fill: #4c78a8;\"></path><path d=\"M46.666666666666664,225.81818181818184h3.000000000000007v3.272727272727252h-3.000000000000007Z\" style=\"fill: #4c78a8;\"></path><path d=\"M46.666666666666664,222.18181818181816h3.000000000000007v3.2727272727273373h-3.000000000000007Z\" style=\"fill: #e45756;\"></path><path d=\"M50,233.0909090909091h6.3333333333333215v3.2727272727272236h-6.3333333333333215Z\" style=\"fill: #4c78a8;\"></path><path d=\"M50,229.4545454545455h3v3.2727272727272236h-3Z\" style=\"fill: #4c78a8;\"></path><path d=\"M50,225.81818181818184h3v3.272727272727252h-3Z\" style=\"fill: #4c78a8;\"></path><path d=\"M50,222.18181818181816h3v3.2727272727273373h-3Z\" style=\"fill: #4c78a8;\"></path><path d=\"M50,218.54545454545456h3v3.272727272727252h-3Z\" style=\"fill: #4c78a8;\"></path><path d=\"M50,214.90909090909093h3v3.2727272727272236h-3Z\" style=\"fill: #4c78a8;\"></path><path d=\"M50,211.27272727272728h3v3.2727272727272805h-3Z\" style=\"fill: #4c78a8;\"></path><path d=\"M50,207.63636363636363h3v3.272727272727309h-3Z\" style=\"fill: #4c78a8;\"></path><path d=\"M50,204h3v3.2727272727272805h-3Z\" style=\"fill: #4c78a8;\"></path><path d=\"M50,200.36363636363637h3v3.272727272727252h-3Z\" style=\"fill: #4c78a8;\"></path><path d=\"M50,196.72727272727272h3v3.2727272727272805h-3Z\" style=\"fill: #4c78a8;\"></path><path d=\"M50,193.09090909090912h3v3.272727272727252h-3Z\" style=\"fill: #4c78a8;\"></path><path d=\"M50,189.45454545454544h3v3.2727272727272805h-3Z\" style=\"fill: #4c78a8;\"></path><path d=\"M50,185.81818181818184h3v3.2727272727272805h-3Z\" style=\"fill: #4c78a8;\"></path><path d=\"M50,182.1818181818182h3v3.272727272727252h-3Z\" style=\"fill: #4c78a8;\"></path><path d=\"M50,178.54545454545456h3v3.2727272727272805h-3Z\" style=\"fill: #4c78a8;\"></path><path d=\"M50,174.9090909090909h3v3.2727272727272805h-3Z\" style=\"fill: #4c78a8;\"></path><path d=\"M53.333333333333336,229.4545454545455h2.999999999999986v3.2727272727272236h-2.999999999999986Z\" style=\"fill: #4c78a8;\"></path><path d=\"M53.333333333333336,225.81818181818184h2.999999999999986v3.272727272727252h-2.999999999999986Z\" style=\"fill: #4c78a8;\"></path><path d=\"M53.333333333333336,222.18181818181816h2.999999999999986v3.2727272727273373h-2.999999999999986Z\" style=\"fill: #4c78a8;\"></path><path d=\"M53.333333333333336,218.54545454545456h2.999999999999986v3.272727272727252h-2.999999999999986Z\" style=\"fill: #4c78a8;\"></path><path d=\"M53.333333333333336,214.90909090909093h2.999999999999986v3.2727272727272236h-2.999999999999986Z\" style=\"fill: #4c78a8;\"></path><path d=\"M53.333333333333336,211.27272727272728h2.999999999999986v3.2727272727272805h-2.999999999999986Z\" style=\"fill: #4c78a8;\"></path><path d=\"M53.333333333333336,207.63636363636363h2.999999999999986v3.272727272727309h-2.999999999999986Z\" style=\"fill: #4c78a8;\"></path><path d=\"M53.333333333333336,204h2.999999999999986v3.2727272727272805h-2.999999999999986Z\" style=\"fill: #4c78a8;\"></path><path d=\"M53.333333333333336,200.36363636363637h2.999999999999986v3.272727272727252h-2.999999999999986Z\" style=\"fill: #4c78a8;\"></path><path d=\"M56.666666666666664,353.09090909090907h9.666666666666664v3.272727272727309h-9.666666666666664Z\" style=\"fill: #4c78a8;\"></path><path d=\"M56.666666666666664,349.45454545454544h9.666666666666664v3.272727272727309h-9.666666666666664Z\" style=\"fill: #4c78a8;\"></path><path d=\"M56.666666666666664,345.8181818181818h9.666666666666664v3.272727272727309h-9.666666666666664Z\" style=\"fill: #4c78a8;\"></path><path d=\"M56.666666666666664,342.1818181818182h9.666666666666664v3.272727272727252h-9.666666666666664Z\" style=\"fill: #4c78a8;\"></path><path d=\"M56.666666666666664,338.54545454545456h9.666666666666664v3.272727272727252h-9.666666666666664Z\" style=\"fill: #4c78a8;\"></path><path d=\"M56.666666666666664,334.90909090909093h9.666666666666664v3.272727272727252h-9.666666666666664Z\" style=\"fill: #4c78a8;\"></path><path d=\"M56.666666666666664,331.27272727272725h9.666666666666664v3.272727272727309h-9.666666666666664Z\" style=\"fill: #4c78a8;\"></path><path d=\"M56.666666666666664,327.6363636363636h6.333333333333336v3.272727272727309h-6.333333333333336Z\" style=\"fill: #4c78a8;\"></path><path d=\"M56.666666666666664,324h6.333333333333336v3.272727272727252h-6.333333333333336Z\" style=\"fill: #4c78a8;\"></path><path d=\"M56.666666666666664,320.3636363636364h6.333333333333336v3.272727272727252h-6.333333333333336Z\" style=\"fill: #4c78a8;\"></path><path d=\"M56.666666666666664,316.72727272727275h6.333333333333336v3.272727272727252h-6.333333333333336Z\" style=\"fill: #4c78a8;\"></path><path d=\"M56.666666666666664,313.09090909090907h6.333333333333336v3.272727272727309h-6.333333333333336Z\" style=\"fill: #4c78a8;\"></path><path d=\"M56.666666666666664,309.4545454545455h6.333333333333336v3.272727272727252h-6.333333333333336Z\" style=\"fill: #4c78a8;\"></path><path d=\"M56.666666666666664,305.8181818181818h6.333333333333336v3.272727272727252h-6.333333333333336Z\" style=\"fill: #4c78a8;\"></path><path d=\"M56.666666666666664,302.1818181818182h6.333333333333336v3.272727272727309h-6.333333333333336Z\" style=\"fill: #4c78a8;\"></path><path d=\"M56.666666666666664,298.54545454545456h6.333333333333336v3.272727272727252h-6.333333333333336Z\" style=\"fill: #4c78a8;\"></path><path d=\"M56.666666666666664,294.90909090909093h2.999999999999993v3.272727272727252h-2.999999999999993Z\" style=\"fill: #4c78a8;\"></path><path d=\"M56.666666666666664,291.2727272727273h2.999999999999993v3.272727272727195h-2.999999999999993Z\" style=\"fill: #4c78a8;\"></path><path d=\"M56.666666666666664,287.6363636363636h2.999999999999993v3.272727272727309h-2.999999999999993Z\" style=\"fill: #4c78a8;\"></path><path d=\"M56.666666666666664,284h2.999999999999993v3.272727272727309h-2.999999999999993Z\" style=\"fill: #4c78a8;\"></path><path d=\"M56.666666666666664,280.3636363636364h2.999999999999993v3.272727272727252h-2.999999999999993Z\" style=\"fill: #4c78a8;\"></path><path d=\"M56.666666666666664,276.72727272727275h2.999999999999993v3.272727272727252h-2.999999999999993Z\" style=\"fill: #4c78a8;\"></path><path d=\"M56.666666666666664,273.0909090909091h2.999999999999993v3.272727272727252h-2.999999999999993Z\" style=\"fill: #4c78a8;\"></path><path d=\"M56.666666666666664,269.45454545454544h2.999999999999993v3.272727272727309h-2.999999999999993Z\" style=\"fill: #4c78a8;\"></path><path d=\"M56.666666666666664,265.8181818181818h2.999999999999993v3.272727272727252h-2.999999999999993Z\" style=\"fill: #4c78a8;\"></path><path d=\"M56.666666666666664,262.1818181818182h2.999999999999993v3.272727272727252h-2.999999999999993Z\" style=\"fill: #4c78a8;\"></path><path d=\"M56.666666666666664,258.54545454545456h2.999999999999993v3.272727272727252h-2.999999999999993Z\" style=\"fill: #f58518;\"></path><path d=\"M60,294.90909090909093h3v3.272727272727252h-3Z\" style=\"fill: #4c78a8;\"></path><path d=\"M60,291.2727272727273h3v3.272727272727195h-3Z\" style=\"fill: #4c78a8;\"></path><path d=\"M60,287.6363636363636h3v3.272727272727309h-3Z\" style=\"fill: #4c78a8;\"></path><path d=\"M60,284h3v3.272727272727309h-3Z\" style=\"fill: #4c78a8;\"></path><path d=\"M60,280.3636363636364h3v3.272727272727252h-3Z\" style=\"fill: #4c78a8;\"></path><path d=\"M60,276.72727272727275h3v3.272727272727252h-3Z\" style=\"fill: #4c78a8;\"></path><path d=\"M60,273.0909090909091h3v3.272727272727252h-3Z\" style=\"fill: #4c78a8;\"></path><path d=\"M60,269.45454545454544h3v3.272727272727309h-3Z\" style=\"fill: #4c78a8;\"></path><path d=\"M60,265.8181818181818h3v3.272727272727252h-3Z\" style=\"fill: #4c78a8;\"></path><path d=\"M60,262.1818181818182h3v3.272727272727252h-3Z\" style=\"fill: #4c78a8;\"></path><path d=\"M63.33333333333333,327.6363636363636h3v3.272727272727309h-3Z\" style=\"fill: #4c78a8;\"></path><path d=\"M63.33333333333333,324h3v3.272727272727252h-3Z\" style=\"fill: #4c78a8;\"></path><path d=\"M63.33333333333333,320.3636363636364h3v3.272727272727252h-3Z\" style=\"fill: #4c78a8;\"></path><path d=\"M63.33333333333333,316.72727272727275h3v3.272727272727252h-3Z\" style=\"fill: #4c78a8;\"></path><path d=\"M66.66666666666666,360.3636363636364h9.666666666666671v3.272727272727252h-9.666666666666671Z\" style=\"fill: #4c78a8;\"></path><path d=\"M66.66666666666666,356.72727272727275h9.666666666666671v3.272727272727252h-9.666666666666671Z\" style=\"fill: #4c78a8;\"></path><path d=\"M66.66666666666666,353.09090909090907h6.333333333333343v3.272727272727309h-6.333333333333343Z\" style=\"fill: #4c78a8;\"></path><path d=\"M66.66666666666666,349.45454545454544h6.333333333333343v3.272727272727309h-6.333333333333343Z\" style=\"fill: #4c78a8;\"></path><path d=\"M66.66666666666666,345.8181818181818h3.000000000000014v3.272727272727309h-3.000000000000014Z\" style=\"fill: #4c78a8;\"></path><path d=\"M66.66666666666666,342.1818181818182h3.000000000000014v3.272727272727252h-3.000000000000014Z\" style=\"fill: #4c78a8;\"></path><path d=\"M66.66666666666666,338.54545454545456h3.000000000000014v3.272727272727252h-3.000000000000014Z\" style=\"fill: #4c78a8;\"></path><path d=\"M66.66666666666666,334.90909090909093h3.000000000000014v3.272727272727252h-3.000000000000014Z\" style=\"fill: #4c78a8;\"></path><path d=\"M66.66666666666666,331.27272727272725h3.000000000000014v3.272727272727309h-3.000000000000014Z\" style=\"fill: #e45756;\"></path><path d=\"M66.66666666666666,327.6363636363636h3.000000000000014v3.272727272727309h-3.000000000000014Z\" style=\"fill: #4c78a8;\"></path><path d=\"M70,345.8181818181818h3v3.272727272727309h-3Z\" style=\"fill: #e45756;\"></path><path d=\"M70,342.1818181818182h3v3.272727272727252h-3Z\" style=\"fill: #4c78a8;\"></path><path d=\"M73.33333333333333,353.09090909090907h3v3.272727272727309h-3Z\" style=\"fill: #4c78a8;\"></path><path d=\"M73.33333333333333,349.45454545454544h3v3.272727272727309h-3Z\" style=\"fill: #4c78a8;\"></path><path d=\"M73.33333333333333,345.8181818181818h3v3.272727272727309h-3Z\" style=\"fill: #4c78a8;\"></path><path d=\"M73.33333333333333,342.1818181818182h3v3.272727272727252h-3Z\" style=\"fill: #4c78a8;\"></path><path d=\"M76.66666666666667,360.3636363636364h2.999999999999986v3.272727272727252h-2.999999999999986Z\" style=\"fill: #4c78a8;\"></path><path d=\"M76.66666666666667,356.72727272727275h2.999999999999986v3.272727272727252h-2.999999999999986Z\" style=\"fill: #4c78a8;\"></path><path d=\"M246.66666666666669,367.6363636363636h269.6666666666666v3.272727272727252h-269.6666666666666Z\" style=\"fill: #4c78a8;\"></path><path d=\"M246.66666666666669,364h269.6666666666666v3.272727272727309h-269.6666666666666Z\" style=\"fill: #4c78a8;\"></path><path d=\"M246.66666666666669,360.3636363636364h269.6666666666666v3.272727272727252h-269.6666666666666Z\" style=\"fill: #e45756;\"></path><path d=\"M246.66666666666669,356.72727272727275h233v3.272727272727252h-233Z\" style=\"fill: #4c78a8;\"></path><path d=\"M246.66666666666669,353.09090909090907h233v3.272727272727309h-233Z\" style=\"fill: #f58518;\"></path><path d=\"M480,356.72727272727275h36.33333333333326v3.272727272727252h-36.33333333333326Z\" style=\"fill: #4c78a8;\"></path><path d=\"M480,353.09090909090907h3v3.272727272727309h-3Z\" style=\"fill: #4c78a8;\"></path><path d=\"M483.3333333333333,353.09090909090907h29.666666666666686v3.272727272727309h-29.666666666666686Z\" style=\"fill: #4c78a8;\"></path><path d=\"M483.3333333333333,349.45454545454544h6.333333333333314v3.272727272727309h-6.333333333333314Z\" style=\"fill: #4c78a8;\"></path><path d=\"M483.3333333333333,345.8181818181818h6.333333333333314v3.272727272727309h-6.333333333333314Z\" style=\"fill: #4c78a8;\"></path><path d=\"M483.3333333333333,342.1818181818182h6.333333333333314v3.272727272727252h-6.333333333333314Z\" style=\"fill: #4c78a8;\"></path><path d=\"M483.3333333333333,338.54545454545456h6.333333333333314v3.272727272727252h-6.333333333333314Z\" style=\"fill: #4c78a8;\"></path><path d=\"M483.3333333333333,334.90909090909093h3v3.272727272727252h-3Z\" style=\"fill: #4c78a8;\"></path><path d=\"M483.3333333333333,331.27272727272725h3v3.272727272727309h-3Z\" style=\"fill: #4c78a8;\"></path><path d=\"M483.3333333333333,327.6363636363636h3v3.272727272727309h-3Z\" style=\"fill: #4c78a8;\"></path><path d=\"M483.3333333333333,324h3v3.272727272727252h-3Z\" style=\"fill: #4c78a8;\"></path><path d=\"M486.66666666666663,334.90909090909093h3v3.272727272727252h-3Z\" style=\"fill: #4c78a8;\"></path><path d=\"M486.66666666666663,331.27272727272725h3v3.272727272727309h-3Z\" style=\"fill: #4c78a8;\"></path><path d=\"M486.66666666666663,327.6363636363636h3v3.272727272727309h-3Z\" style=\"fill: #4c78a8;\"></path><path d=\"M486.66666666666663,324h3v3.272727272727252h-3Z\" style=\"fill: #4c78a8;\"></path><path d=\"M486.66666666666663,320.3636363636364h3v3.272727272727252h-3Z\" style=\"fill: #4c78a8;\"></path><path d=\"M490.00000000000006,349.45454545454544h3v3.272727272727309h-3Z\" style=\"fill: #4c78a8;\"></path><path d=\"M490.00000000000006,345.8181818181818h3v3.272727272727309h-3Z\" style=\"fill: #4c78a8;\"></path><path d=\"M490.00000000000006,342.1818181818182h3v3.272727272727252h-3Z\" style=\"fill: #4c78a8;\"></path><path d=\"M493.33333333333337,349.45454545454544h6.333333333333314v3.272727272727309h-6.333333333333314Z\" style=\"fill: #4c78a8;\"></path><path d=\"M493.33333333333337,345.8181818181818h6.333333333333314v3.272727272727309h-6.333333333333314Z\" style=\"fill: #4c78a8;\"></path><path d=\"M493.33333333333337,342.1818181818182h3v3.272727272727252h-3Z\" style=\"fill: #4c78a8;\"></path><path d=\"M496.6666666666667,342.1818181818182h3v3.272727272727252h-3Z\" style=\"fill: #4c78a8;\"></path><path d=\"M496.6666666666667,338.54545454545456h3v3.272727272727252h-3Z\" style=\"fill: #4c78a8;\"></path><path d=\"M496.6666666666667,334.90909090909093h3v3.272727272727252h-3Z\" style=\"fill: #4c78a8;\"></path><path d=\"M496.6666666666667,331.27272727272725h3v3.272727272727309h-3Z\" style=\"fill: #4c78a8;\"></path><path d=\"M516.6666666666667,367.6363636363636h9.666666666666629v3.272727272727252h-9.666666666666629Z\" style=\"fill: #4c78a8;\"></path><path d=\"M516.6666666666667,364h9.666666666666629v3.272727272727309h-9.666666666666629Z\" style=\"fill: #4c78a8;\"></path><path d=\"M516.6666666666667,360.3636363636364h9.666666666666629v3.272727272727252h-9.666666666666629Z\" style=\"fill: #4c78a8;\"></path><path d=\"M516.6666666666667,356.72727272727275h9.666666666666629v3.272727272727252h-9.666666666666629Z\" style=\"fill: #4c78a8;\"></path><path d=\"M516.6666666666667,353.09090909090907h9.666666666666629v3.272727272727309h-9.666666666666629Z\" style=\"fill: #4c78a8;\"></path><path d=\"M516.6666666666667,349.45454545454544h9.666666666666629v3.272727272727309h-9.666666666666629Z\" style=\"fill: #4c78a8;\"></path><path d=\"M516.6666666666667,345.8181818181818h9.666666666666629v3.272727272727309h-9.666666666666629Z\" style=\"fill: #4c78a8;\"></path><path d=\"M516.6666666666667,342.1818181818182h9.666666666666629v3.272727272727252h-9.666666666666629Z\" style=\"fill: #4c78a8;\"></path><path d=\"M516.6666666666667,338.54545454545456h9.666666666666629v3.272727272727252h-9.666666666666629Z\" style=\"fill: #4c78a8;\"></path><path d=\"M516.6666666666667,334.90909090909093h9.666666666666629v3.272727272727252h-9.666666666666629Z\" style=\"fill: #4c78a8;\"></path><path d=\"M516.6666666666667,331.27272727272725h9.666666666666629v3.272727272727309h-9.666666666666629Z\" style=\"fill: #4c78a8;\"></path><path d=\"M526.6666666666666,367.6363636363636h119.66666666666674v3.272727272727252h-119.66666666666674Z\" style=\"fill: #4c78a8;\"></path><path d=\"M526.6666666666666,364h119.66666666666674v3.272727272727309h-119.66666666666674Z\" style=\"fill: #4c78a8;\"></path><path d=\"M526.6666666666666,360.3636363636364h119.66666666666674v3.272727272727252h-119.66666666666674Z\" style=\"fill: #e45756;\"></path><path d=\"M526.6666666666666,356.72727272727275h3.0000000000001137v3.272727272727252h-3.0000000000001137Z\" style=\"fill: #4c78a8;\"></path><path d=\"M526.6666666666666,353.09090909090907h3.0000000000001137v3.272727272727309h-3.0000000000001137Z\" style=\"fill: #4c78a8;\"></path><path d=\"M526.6666666666666,349.45454545454544h3.0000000000001137v3.272727272727309h-3.0000000000001137Z\" style=\"fill: #4c78a8;\"></path><path d=\"M530,356.72727272727275h6.333333333333371v3.272727272727252h-6.333333333333371Z\" style=\"fill: #e45756;\"></path><path d=\"M530,353.09090909090907h6.333333333333371v3.272727272727309h-6.333333333333371Z\" style=\"fill: #4c78a8;\"></path><path d=\"M530,349.45454545454544h6.333333333333371v3.272727272727309h-6.333333333333371Z\" style=\"fill: #4c78a8;\"></path><path d=\"M530,345.8181818181818h6.333333333333371v3.272727272727309h-6.333333333333371Z\" style=\"fill: #4c78a8;\"></path><path d=\"M530,342.1818181818182h6.333333333333371v3.272727272727252h-6.333333333333371Z\" style=\"fill: #4c78a8;\"></path><path d=\"M530,338.54545454545456h6.333333333333371v3.272727272727252h-6.333333333333371Z\" style=\"fill: #4c78a8;\"></path><path d=\"M530,334.90909090909093h6.333333333333371v3.272727272727252h-6.333333333333371Z\" style=\"fill: #4c78a8;\"></path><path d=\"M536.6666666666666,356.72727272727275h109.66666666666674v3.272727272727252h-109.66666666666674Z\" style=\"fill: #e45756;\"></path><path d=\"M543.3333333333334,353.09090909090907h103v3.272727272727309h-103Z\" style=\"fill: #e45756;\"></path><path d=\"M560,349.45454545454544h69.66666666666674v3.272727272727309h-69.66666666666674Z\" style=\"fill: #f58518;\"></path><path d=\"M616.6666666666667,345.8181818181818h13v3.272727272727309h-13Z\" style=\"fill: #4c78a8;\"></path><path d=\"M646.6666666666666,367.6363636363636h26.33333333333337v3.272727272727252h-26.33333333333337Z\" style=\"fill: #4c78a8;\"></path><path d=\"M646.6666666666666,364h26.33333333333337v3.272727272727309h-26.33333333333337Z\" style=\"fill: #4c78a8;\"></path><path d=\"M646.6666666666666,360.3636363636364h3.0000000000001137v3.272727272727252h-3.0000000000001137Z\" style=\"fill: #e45756;\"></path><path d=\"M650,360.3636363636364h23v3.272727272727252h-23Z\" style=\"fill: #e45756;\"></path><path d=\"M653.3333333333334,356.72727272727275h19.66666666666663v3.272727272727252h-19.66666666666663Z\" style=\"fill: #e45756;\"></path><path d=\"M653.3333333333334,353.09090909090907h16.33333333333337v3.272727272727309h-16.33333333333337Z\" style=\"fill: #4c78a8;\"></path><path d=\"M653.3333333333334,349.45454545454544h16.33333333333337v3.272727272727309h-16.33333333333337Z\" style=\"fill: #4c78a8;\"></path><path d=\"M653.3333333333334,345.8181818181818h6.3333333333332575v3.272727272727309h-6.3333333333332575Z\" style=\"fill: #4c78a8;\"></path><path d=\"M653.3333333333334,342.1818181818182h6.3333333333332575v3.272727272727252h-6.3333333333332575Z\" style=\"fill: #f58518;\"></path><path d=\"M660,345.8181818181818h9.666666666666742v3.272727272727309h-9.666666666666742Z\" style=\"fill: #4c78a8;\"></path><path d=\"M660,342.1818181818182h9.666666666666742v3.272727272727252h-9.666666666666742Z\" style=\"fill: #4c78a8;\"></path><path d=\"M660,338.54545454545456h9.666666666666742v3.272727272727252h-9.666666666666742Z\" style=\"fill: #4c78a8;\"></path><path d=\"M660,334.90909090909093h9.666666666666742v3.272727272727252h-9.666666666666742Z\" style=\"fill: #4c78a8;\"></path><path d=\"M660,331.27272727272725h6.3333333333332575v3.272727272727309h-6.3333333333332575Z\" style=\"fill: #4c78a8;\"></path><path d=\"M660,327.6363636363636h3v3.272727272727309h-3Z\" style=\"fill: #4c78a8;\"></path><path d=\"M663.3333333333334,327.6363636363636h2.9999999999998863v3.272727272727309h-2.9999999999998863Z\" style=\"fill: #4c78a8;\"></path><path d=\"M663.3333333333334,324h2.9999999999998863v3.272727272727252h-2.9999999999998863Z\" style=\"fill: #4c78a8;\"></path><path d=\"M666.6666666666667,331.27272727272725h3v3.272727272727309h-3Z\" style=\"fill: #4c78a8;\"></path><path d=\"M666.6666666666667,327.6363636363636h3v3.272727272727309h-3Z\" style=\"fill: #4c78a8;\"></path><path d=\"M666.6666666666667,324h3v3.272727272727252h-3Z\" style=\"fill: #4c78a8;\"></path><path d=\"M673.3333333333334,367.6363636363636h3v3.272727272727252h-3Z\" style=\"fill: #4c78a8;\"></path><path d=\"M673.3333333333334,364h3v3.272727272727309h-3Z\" style=\"fill: #4c78a8;\"></path><path d=\"M673.3333333333334,360.3636363636364h3v3.272727272727252h-3Z\" style=\"fill: #4c78a8;\"></path><path d=\"M673.3333333333334,356.72727272727275h3v3.272727272727252h-3Z\" style=\"fill: #4c78a8;\"></path><path d=\"M673.3333333333334,353.09090909090907h3v3.272727272727309h-3Z\" style=\"fill: #4c78a8;\"></path><path d=\"M673.3333333333334,349.45454545454544h3v3.272727272727309h-3Z\" style=\"fill: #4c78a8;\"></path><path d=\"M673.3333333333334,345.8181818181818h3v3.272727272727309h-3Z\" style=\"fill: #4c78a8;\"></path><path d=\"M673.3333333333334,342.1818181818182h3v3.272727272727252h-3Z\" style=\"fill: #4c78a8;\"></path><path d=\"M673.3333333333334,338.54545454545456h3v3.272727272727252h-3Z\" style=\"fill: #4c78a8;\"></path><path d=\"M673.3333333333334,334.90909090909093h3v3.272727272727252h-3Z\" style=\"fill: #4c78a8;\"></path><path d=\"M673.3333333333334,331.27272727272725h3v3.272727272727309h-3Z\" style=\"fill: #4c78a8;\"></path><path d=\"M673.3333333333334,327.6363636363636h3v3.272727272727309h-3Z\" style=\"fill: #4c78a8;\"></path><path d=\"M673.3333333333334,324h3v3.272727272727252h-3Z\" style=\"fill: #4c78a8;\"></path><path d=\"M710,393.09090909090907h3v3.272727272727309h-3Z\" style=\"fill: #4c78a8;\"></path></g><g class=\"mark-group role-legend\"><g transform=\"translate(0,418)\"><path class=\"background\" d=\"M0,0h286v11h-286Z\" style=\"pointer-events: none; fill: none;\"></path><g><g class=\"mark-group role-legend-entry\"><g transform=\"translate(0,0)\"><path class=\"background\" d=\"M0,0h0v0h0Z\" style=\"pointer-events: none; fill: none;\"></path><g><g class=\"mark-group role-scope\"><g transform=\"translate(0,0)\"><path class=\"background\" d=\"M0,0h53v11h-53Z\" style=\"pointer-events: none; fill: none; opacity: 1;\"></path><g><g class=\"mark-symbol role-legend-symbol\" style=\"pointer-events: none;\"><path transform=\"translate(6,6)\" d=\"M-5,-5h10v10h-10Z\" style=\"fill: #4c78a8; stroke-width: 1.5; opacity: 1;\"></path></g><g class=\"mark-text role-legend-label\" style=\"pointer-events: none;\"><text text-anchor=\"start\" transform=\"translate(16,9)\" style=\"font-family: sans-serif; font-size: 10px; fill: #000; opacity: 1;\">Default</text></g></g></g><g transform=\"translate(63,0)\"><path class=\"background\" d=\"M0,0h110v11h-110Z\" style=\"pointer-events: none; fill: none; opacity: 1;\"></path><g><g class=\"mark-symbol role-legend-symbol\" style=\"pointer-events: none;\"><path transform=\"translate(6,6)\" d=\"M-5,-5h10v10h-10Z\" style=\"fill: #f58518; stroke-width: 1.5; opacity: 1;\"></path></g><g class=\"mark-text role-legend-label\" style=\"pointer-events: none;\"><text text-anchor=\"start\" transform=\"translate(16,9)\" style=\"font-family: sans-serif; font-size: 10px; fill: #000; opacity: 1;\">Garbage collection</text></g></g></g><g transform=\"translate(183,0)\"><path class=\"background\" d=\"M0,0h103v11h-103Z\" style=\"pointer-events: none; fill: none; opacity: 1;\"></path><g><g class=\"mark-symbol role-legend-symbol\" style=\"pointer-events: none;\"><path transform=\"translate(6,6)\" d=\"M-5,-5h10v10h-10Z\" style=\"fill: #e45756; stroke-width: 1.5; opacity: 1;\"></path></g><g class=\"mark-text role-legend-label\" style=\"pointer-events: none;\"><text text-anchor=\"start\" transform=\"translate(16,9)\" style=\"font-family: sans-serif; font-size: 10px; fill: #000; opacity: 1;\">Runtime dispatch</text></g></g></g></g></g></g></g></g></g></g><g class=\"mark-group role-title\"><g transform=\"translate(400,-17)\"><path class=\"background\" d=\"M0,0h0v0h0Z\" style=\"pointer-events: none; fill: none;\"></path><g><g class=\"mark-text role-title-text\" style=\"pointer-events: none;\"><text text-anchor=\"middle\" transform=\"translate(0,10)\" style=\"font-family: sans-serif; font-size: 13px; font-weight: bold; fill: #000; opacity: 1;\">Profile Results</text></g></g></g></g></g></g></g></g></svg>"
      ],
      "text/plain": [
       "VegaLite.VLSpec{:plot}"
      ]
     },
     "execution_count": 62,
     "metadata": {},
     "output_type": "execute_result"
    },
    {
     "name": "stderr",
     "output_type": "stream",
     "text": [
      "WARN Can not resolve event source: window\n",
      "WARN Can not resolve event source: window\n"
     ]
    }
   ],
   "source": [
    "function profile_test(n)\n",
    "    for i = 1:n\n",
    "        A = randn(100,100,20)\n",
    "        m = maximum(A)\n",
    "        Am = mapslices(sum, A; dims=2)\n",
    "        B = A[:,:,5]\n",
    "        Bsort = mapslices(sort, B; dims=1)\n",
    "        b = rand(100)\n",
    "        C = B.*b\n",
    "    end\n",
    "end\n",
    "\n",
    "profile_test(1)   # run once to compile\n",
    "\n",
    "using Profile, ProfileVega\n",
    "Profile.clear()\n",
    "@profview profile_test(10)"
   ]
  },
  {
   "cell_type": "markdown",
   "metadata": {},
   "source": [
    "# Function arguments"
   ]
  },
  {
   "cell_type": "code",
   "execution_count": 65,
   "metadata": {},
   "outputs": [
    {
     "name": "stderr",
     "output_type": "stream",
     "text": [
      "┌ Info: Precompiling ExprTools [e2ba6199-217a-4e67-a87a-7c52f15ade04]\n",
      "└ @ Base loading.jl:1242\n"
     ]
    }
   ],
   "source": [
    "using ExprTools"
   ]
  },
  {
   "cell_type": "code",
   "execution_count": 70,
   "metadata": {},
   "outputs": [
    {
     "data": {
      "text/plain": [
       ":(function f(x, y)\n",
       "      #= In[70]:2 =#\n",
       "      return x + y\n",
       "  end)"
      ]
     },
     "execution_count": 70,
     "metadata": {},
     "output_type": "execute_result"
    }
   ],
   "source": [
    "expr = :(function f(x, y)\n",
    "    return x + y\n",
    "end)"
   ]
  },
  {
   "cell_type": "code",
   "execution_count": 71,
   "metadata": {},
   "outputs": [
    {
     "data": {
      "text/plain": [
       "Dict{Symbol,Any} with 4 entries:\n",
       "  :args => Any[:x, :y]\n",
       "  :body => quote…\n",
       "  :name => :f\n",
       "  :head => :function"
      ]
     },
     "execution_count": 71,
     "metadata": {},
     "output_type": "execute_result"
    }
   ],
   "source": [
    "splitdef(expr)"
   ]
  },
  {
   "cell_type": "code",
   "execution_count": null,
   "metadata": {},
   "outputs": [],
   "source": [
    "splitdef()"
   ]
  },
  {
   "cell_type": "code",
   "execution_count": 73,
   "metadata": {},
   "outputs": [
    {
     "data": {
      "text/plain": [
       "Dict{Symbol,Any} with 4 entries:\n",
       "  :args => Any[:x, :y]\n",
       "  :body => quote…\n",
       "  :name => :q\n",
       "  :head => :(=)"
      ]
     },
     "execution_count": 73,
     "metadata": {},
     "output_type": "execute_result"
    }
   ],
   "source": [
    "splitdef(:())"
   ]
  },
  {
   "cell_type": "code",
   "execution_count": 74,
   "metadata": {},
   "outputs": [
    {
     "data": {
      "text/plain": [
       "q (generic function with 1 method)"
      ]
     },
     "execution_count": 74,
     "metadata": {},
     "output_type": "execute_result"
    }
   ],
   "source": [
    "q(x, y) = x + y"
   ]
  },
  {
   "cell_type": "code",
   "execution_count": 75,
   "metadata": {},
   "outputs": [
    {
     "data": {
      "text/plain": [
       "q (generic function with 1 method)"
      ]
     },
     "execution_count": 75,
     "metadata": {},
     "output_type": "execute_result"
    }
   ],
   "source": [
    "q"
   ]
  },
  {
   "cell_type": "code",
   "execution_count": 78,
   "metadata": {},
   "outputs": [
    {
     "data": {
      "text/plain": [
       "q (generic function with 1 method)"
      ]
     },
     "execution_count": 78,
     "metadata": {},
     "output_type": "execute_result"
    }
   ],
   "source": [
    "q"
   ]
  },
  {
   "cell_type": "code",
   "execution_count": 82,
   "metadata": {},
   "outputs": [
    {
     "data": {
      "text/plain": [
       "q (generic function with 1 method)"
      ]
     },
     "execution_count": 82,
     "metadata": {},
     "output_type": "execute_result"
    }
   ],
   "source": []
  },
  {
   "cell_type": "markdown",
   "metadata": {},
   "source": [
    "# Interval matrices stuff"
   ]
  },
  {
   "cell_type": "code",
   "execution_count": 83,
   "metadata": {},
   "outputs": [],
   "source": [
    "using Revise, IntervalMatrices"
   ]
  },
  {
   "cell_type": "code",
   "execution_count": 84,
   "metadata": {},
   "outputs": [
    {
     "data": {
      "text/plain": [
       "abs (generic function with 1 method)"
      ]
     },
     "execution_count": 84,
     "metadata": {},
     "output_type": "execute_result"
    }
   ],
   "source": [
    "abs(M::IntervalMatrix) = IntervalMatrix(map(abs, M))"
   ]
  },
  {
   "cell_type": "code",
   "execution_count": 92,
   "metadata": {},
   "outputs": [
    {
     "data": {
      "text/plain": [
       "4-element Array{Int64,1}:\n",
       " 2\n",
       " 2\n",
       " 2\n",
       " 2"
      ]
     },
     "execution_count": 92,
     "metadata": {},
     "output_type": "execute_result"
    }
   ],
   "source": [
    "[size(rand(IntervalMatrix, i), 2) for i in 2:5]"
   ]
  },
  {
   "cell_type": "code",
   "execution_count": 94,
   "metadata": {},
   "outputs": [
    {
     "data": {
      "text/plain": [
       "2×2 IntervalMatrix{Float64,Interval{Float64},Array{Interval{Float64},2}}:\n",
       " [-1.08115, 0.404159]     [0.318708, 1.48657]\n",
       "  [0.0209044, 0.343184]  [-1.11279, 0.369965]"
      ]
     },
     "execution_count": 94,
     "metadata": {},
     "output_type": "execute_result"
    }
   ],
   "source": [
    "M = rand(IntervalMatrix)"
   ]
  },
  {
   "cell_type": "code",
   "execution_count": 98,
   "metadata": {},
   "outputs": [
    {
     "data": {
      "text/plain": [
       "2×2 IntervalMatrix{Float64,Interval{Float64},Array{Interval{Float64},2}}:\n",
       " [-1.08115, 0.404159]     [0.318708, 1.48657]\n",
       "  [0.0209044, 0.343184]  [-1.11279, 0.369965]"
      ]
     },
     "execution_count": 98,
     "metadata": {},
     "output_type": "execute_result"
    }
   ],
   "source": [
    "M"
   ]
  },
  {
   "cell_type": "code",
   "execution_count": 104,
   "metadata": {},
   "outputs": [
    {
     "data": {
      "text/html": [
       "17-element Array{Method,1}:<ul><li> diam(A::<b>IntervalMatrix{T,IT,MT} where MT<:AbstractArray{IT,2} where IT<:Interval{T}</b>)<i> where T</i> in IntervalMatrices at <a href=\"https://github.com/JuliaReach/IntervalMatrices.jl/tree/0eb486fd5770c3fff98835ce72328a06a122bf6d//src/matrix.jl#L278\" target=\"_blank\">/home/mforets/.julia/dev/IntervalMatrices/src/matrix.jl:278</a><li> dot(x::<b>AbstractArray</b>, y::<b>AbstractArray</b>) in LinearAlgebra at <a href=\"file:///buildworker/worker/package_linux64/build/usr/share/julia/stdlib/v1.2/LinearAlgebra/src/generic.jl\" target=\"_blank\">/buildworker/worker/package_linux64/build/usr/share/julia/stdlib/v1.2/LinearAlgebra/src/generic.jl:786</a><li> expm_overapproximation(A::<b>IntervalMatrix{T,Interval{T},MT} where MT<:AbstractArray{Interval{T},2}</b>, t, p)<i> where T</i> in IntervalMatrices at <a href=\"https://github.com/JuliaReach/IntervalMatrices.jl/tree/0eb486fd5770c3fff98835ce72328a06a122bf6d//src/exponential.jl#L77\" target=\"_blank\">/home/mforets/.julia/dev/IntervalMatrices/src/exponential.jl:77</a><li> expm_underapproximation(A::<b>IntervalMatrix{T,Interval{T},MT} where MT<:AbstractArray{Interval{T},2}</b>, t, p)<i> where T</i> in IntervalMatrices at <a href=\"https://github.com/JuliaReach/IntervalMatrices.jl/tree/0eb486fd5770c3fff98835ce72328a06a122bf6d//src/exponential.jl#L155\" target=\"_blank\">/home/mforets/.julia/dev/IntervalMatrices/src/exponential.jl:155</a><li> inf(A::<b>IntervalMatrix{T,IT,MT} where MT<:AbstractArray{IT,2} where IT<:Interval{T}</b>)<i> where T</i> in IntervalMatrices at <a href=\"https://github.com/JuliaReach/IntervalMatrices.jl/tree/0eb486fd5770c3fff98835ce72328a06a122bf6d//src/matrix.jl#L87\" target=\"_blank\">/home/mforets/.julia/dev/IntervalMatrices/src/matrix.jl:87</a><li> isempty(a::<b>AbstractArray</b>) in Base at <a href=\"https://github.com/JuliaLang/julia/tree/c6da87ff4bc7a855e217856757ad3413cf6d1f79/base/abstractarray.jl#L917\" target=\"_blank\">abstractarray.jl:917</a><li> mid(A::<b>IntervalMatrix{T,IT,MT} where MT<:AbstractArray{IT,2} where IT<:Interval{T}</b>)<i> where T</i> in IntervalMatrices at <a href=\"https://github.com/JuliaReach/IntervalMatrices.jl/tree/0eb486fd5770c3fff98835ce72328a06a122bf6d//src/matrix.jl#L123\" target=\"_blank\">/home/mforets/.julia/dev/IntervalMatrices/src/matrix.jl:123</a><li> opnorm(A::<b>IntervalMatrix</b>) in IntervalMatrices at <a href=\"https://github.com/JuliaReach/IntervalMatrices.jl/tree/0eb486fd5770c3fff98835ce72328a06a122bf6d//src/matrix.jl#L65\" target=\"_blank\">/home/mforets/.julia/dev/IntervalMatrices/src/matrix.jl:65</a><li> opnorm(A::<b>IntervalMatrix</b>, p::<b>Real</b>) in IntervalMatrices at <a href=\"https://github.com/JuliaReach/IntervalMatrices.jl/tree/0eb486fd5770c3fff98835ce72328a06a122bf6d//src/matrix.jl#L65\" target=\"_blank\">/home/mforets/.julia/dev/IntervalMatrices/src/matrix.jl:65</a><li> opnorm(A::<b>AbstractArray{T,2} where T</b>) in LinearAlgebra at <a href=\"file:///buildworker/worker/package_linux64/build/usr/share/julia/stdlib/v1.2/LinearAlgebra/src/generic.jl\" target=\"_blank\">/buildworker/worker/package_linux64/build/usr/share/julia/stdlib/v1.2/LinearAlgebra/src/generic.jl:641</a><li> opnorm(A::<b>AbstractArray{T,2} where T</b>, p::<b>Real</b>) in LinearAlgebra at <a href=\"file:///buildworker/worker/package_linux64/build/usr/share/julia/stdlib/v1.2/LinearAlgebra/src/generic.jl\" target=\"_blank\">/buildworker/worker/package_linux64/build/usr/share/julia/stdlib/v1.2/LinearAlgebra/src/generic.jl:641</a><li> quadratic_expansion(A::<b>IntervalMatrix</b>, t) in IntervalMatrices at <a href=\"https://github.com/JuliaReach/IntervalMatrices.jl/tree/0eb486fd5770c3fff98835ce72328a06a122bf6d//src/exponential.jl#L20\" target=\"_blank\">/home/mforets/.julia/dev/IntervalMatrices/src/exponential.jl:20</a><li> rand(rng::<b>Random.AbstractRNG</b>, range::<b>AbstractArray</b>, ::<b>Type{SA}</b>)<i> where SA<:StaticArrays.StaticArray</i> in StaticArrays at <a href=\"file:///home/mforets/.julia/packages/StaticArrays/1g9bq/src/arraymath.jl\" target=\"_blank\">/home/mforets/.julia/packages/StaticArrays/1g9bq/src/arraymath.jl:55</a><li> rand(range::<b>AbstractArray</b>, ::<b>Type{SA}</b>)<i> where SA<:StaticArrays.StaticArray</i> in StaticArrays at <a href=\"file:///home/mforets/.julia/packages/StaticArrays/1g9bq/src/arraymath.jl\" target=\"_blank\">/home/mforets/.julia/packages/StaticArrays/1g9bq/src/arraymath.jl:56</a><li> sample(A::<b>IntervalMatrix{T,IT,MT} where MT<:AbstractArray{IT,2} where IT<:Interval{T}</b>)<i> where T</i> in IntervalMatrices at <a href=\"https://github.com/JuliaReach/IntervalMatrices.jl/tree/0eb486fd5770c3fff98835ce72328a06a122bf6d//src/matrix.jl#L252\" target=\"_blank\">/home/mforets/.julia/dev/IntervalMatrices/src/matrix.jl:252</a><li> square(A::<b>IntervalMatrix</b>) in IntervalMatrices at <a href=\"https://github.com/JuliaReach/IntervalMatrices.jl/tree/0eb486fd5770c3fff98835ce72328a06a122bf6d//src/arithmetic.jl#L49\" target=\"_blank\">/home/mforets/.julia/dev/IntervalMatrices/src/arithmetic.jl:49</a><li> sup(A::<b>IntervalMatrix{T,IT,MT} where MT<:AbstractArray{IT,2} where IT<:Interval{T}</b>)<i> where T</i> in IntervalMatrices at <a href=\"https://github.com/JuliaReach/IntervalMatrices.jl/tree/0eb486fd5770c3fff98835ce72328a06a122bf6d//src/matrix.jl#L105\" target=\"_blank\">/home/mforets/.julia/dev/IntervalMatrices/src/matrix.jl:105</a></ul>"
      ],
      "text/plain": [
       "[1] diam(A::IntervalMatrix{T,IT,MT} where MT<:AbstractArray{IT,2} where IT<:Interval{T}) where T in IntervalMatrices at /home/mforets/.julia/dev/IntervalMatrices/src/matrix.jl:278\n",
       "[2] dot(x::AbstractArray, y::AbstractArray) in LinearAlgebra at /buildworker/worker/package_linux64/build/usr/share/julia/stdlib/v1.2/LinearAlgebra/src/generic.jl:786\n",
       "[3] expm_overapproximation(A::IntervalMatrix{T,Interval{T},MT} where MT<:AbstractArray{Interval{T},2}, t, p) where T in IntervalMatrices at /home/mforets/.julia/dev/IntervalMatrices/src/exponential.jl:77\n",
       "[4] expm_underapproximation(A::IntervalMatrix{T,Interval{T},MT} where MT<:AbstractArray{Interval{T},2}, t, p) where T in IntervalMatrices at /home/mforets/.julia/dev/IntervalMatrices/src/exponential.jl:155\n",
       "[5] inf(A::IntervalMatrix{T,IT,MT} where MT<:AbstractArray{IT,2} where IT<:Interval{T}) where T in IntervalMatrices at /home/mforets/.julia/dev/IntervalMatrices/src/matrix.jl:87\n",
       "[6] isempty(a::AbstractArray) in Base at abstractarray.jl:917\n",
       "[7] mid(A::IntervalMatrix{T,IT,MT} where MT<:AbstractArray{IT,2} where IT<:Interval{T}) where T in IntervalMatrices at /home/mforets/.julia/dev/IntervalMatrices/src/matrix.jl:123\n",
       "[8] opnorm(A::IntervalMatrix) in IntervalMatrices at /home/mforets/.julia/dev/IntervalMatrices/src/matrix.jl:65\n",
       "[9] opnorm(A::IntervalMatrix, p::Real) in IntervalMatrices at /home/mforets/.julia/dev/IntervalMatrices/src/matrix.jl:65\n",
       "[10] opnorm(A::AbstractArray{T,2} where T) in LinearAlgebra at /buildworker/worker/package_linux64/build/usr/share/julia/stdlib/v1.2/LinearAlgebra/src/generic.jl:641\n",
       "[11] opnorm(A::AbstractArray{T,2} where T, p::Real) in LinearAlgebra at /buildworker/worker/package_linux64/build/usr/share/julia/stdlib/v1.2/LinearAlgebra/src/generic.jl:641\n",
       "[12] quadratic_expansion(A::IntervalMatrix, t) in IntervalMatrices at /home/mforets/.julia/dev/IntervalMatrices/src/exponential.jl:20\n",
       "[13] rand(rng::Random.AbstractRNG, range::AbstractArray, ::Type{SA}) where SA<:StaticArrays.StaticArray in StaticArrays at /home/mforets/.julia/packages/StaticArrays/1g9bq/src/arraymath.jl:55\n",
       "[14] rand(range::AbstractArray, ::Type{SA}) where SA<:StaticArrays.StaticArray in StaticArrays at /home/mforets/.julia/packages/StaticArrays/1g9bq/src/arraymath.jl:56\n",
       "[15] sample(A::IntervalMatrix{T,IT,MT} where MT<:AbstractArray{IT,2} where IT<:Interval{T}) where T in IntervalMatrices at /home/mforets/.julia/dev/IntervalMatrices/src/matrix.jl:252\n",
       "[16] square(A::IntervalMatrix) in IntervalMatrices at /home/mforets/.julia/dev/IntervalMatrices/src/arithmetic.jl:49\n",
       "[17] sup(A::IntervalMatrix{T,IT,MT} where MT<:AbstractArray{IT,2} where IT<:Interval{T}) where T in IntervalMatrices at /home/mforets/.julia/dev/IntervalMatrices/src/matrix.jl:105"
      ]
     },
     "execution_count": 104,
     "metadata": {},
     "output_type": "execute_result"
    }
   ],
   "source": [
    "methodswith(typeof(M), IntervalMatrices, supertypes=true)"
   ]
  },
  {
   "cell_type": "code",
   "execution_count": 106,
   "metadata": {},
   "outputs": [
    {
     "data": {
      "text/plain": [
       "2×2 Array{Float64,2}:\n",
       " -1.08114     0.318708\n",
       "  0.0209045  -1.11278 "
      ]
     },
     "execution_count": 106,
     "metadata": {},
     "output_type": "execute_result"
    }
   ],
   "source": [
    "inf(M)"
   ]
  },
  {
   "cell_type": "code",
   "execution_count": 107,
   "metadata": {},
   "outputs": [
    {
     "data": {
      "text/plain": [
       "2×2 IntervalMatrix{Float64,Interval{Float64},Array{Interval{Float64},2}}:\n",
       " [-1.08115, 0.404159]     [0.318708, 1.48657]\n",
       "  [0.0209044, 0.343184]  [-1.11279, 0.369965]"
      ]
     },
     "execution_count": 107,
     "metadata": {},
     "output_type": "execute_result"
    }
   ],
   "source": [
    "M"
   ]
  },
  {
   "cell_type": "code",
   "execution_count": 108,
   "metadata": {},
   "outputs": [
    {
     "data": {
      "text/plain": [
       "2×2 Array{Float64,2}:\n",
       " 0.404159  1.48657 \n",
       " 0.343183  0.369964"
      ]
     },
     "execution_count": 108,
     "metadata": {},
     "output_type": "execute_result"
    }
   ],
   "source": [
    "sup(M)"
   ]
  },
  {
   "cell_type": "markdown",
   "metadata": {},
   "source": [
    "### Comparing different square implementations"
   ]
  },
  {
   "cell_type": "code",
   "execution_count": 1,
   "metadata": {},
   "outputs": [],
   "source": [
    "using Revise, IntervalMatrices, BenchmarkTools"
   ]
  },
  {
   "cell_type": "code",
   "execution_count": 3,
   "metadata": {},
   "outputs": [
    {
     "data": {
      "text/plain": [
       "2×2 IntervalMatrix{Float64,Interval{Float64},Array{Interval{Float64},2}}:\n",
       "  [0.360505, 1.21019]   [0.0860038, 0.653283]\n",
       " [-0.871612, 1.14312]  [-0.784375, -0.281789]"
      ]
     },
     "execution_count": 3,
     "metadata": {},
     "output_type": "execute_result"
    }
   ],
   "source": [
    "M = rand(IntervalMatrix, 2)"
   ]
  },
  {
   "cell_type": "code",
   "execution_count": 10,
   "metadata": {},
   "outputs": [
    {
     "name": "stdout",
     "output_type": "stream",
     "text": [
      "  3.540 μs (82 allocations: 3.41 KiB)\n"
     ]
    },
    {
     "data": {
      "text/plain": [
       "2×2 IntervalMatrix{Float64,Interval{Float64},Array{Interval{Float64},2}}:\n",
       " [-0.38971, 4.40589]  [-2.81811, 1.33693] \n",
       " [-4.33383, 2.05599]  [-0.270361, 3.52899]"
      ]
     },
     "execution_count": 10,
     "metadata": {},
     "output_type": "execute_result"
    }
   ],
   "source": [
    "# version in master, using ^\n",
    "@btime square($M)"
   ]
  },
  {
   "cell_type": "code",
   "execution_count": 8,
   "metadata": {},
   "outputs": [
    {
     "name": "stdout",
     "output_type": "stream",
     "text": [
      "  187.382 ns (2 allocations: 160 bytes)\n"
     ]
    },
    {
     "data": {
      "text/plain": [
       "2×2 IntervalMatrix{Float64,Interval{Float64},Array{Interval{Float64},2}}:\n",
       " [-0.38971, 4.40589]  [-2.81811, 1.33693] \n",
       " [-4.33383, 2.05599]  [-0.270361, 3.52899]"
      ]
     },
     "execution_count": 8,
     "metadata": {},
     "output_type": "execute_result"
    }
   ],
   "source": [
    "# version in master, using pow\n",
    "@btime square($M)"
   ]
  },
  {
   "cell_type": "code",
   "execution_count": 9,
   "metadata": {},
   "outputs": [
    {
     "name": "stderr",
     "output_type": "stream",
     "text": [
      "┌ Warning: /home/mforets/.julia/packages/IntervalArithmetic/r2G4E/src/intervals/powers.jl no longer exists, deleting all methods\n",
      "└ @ Revise /home/mforets/.julia/packages/Revise/S7mrl/src/Revise.jl:544\n"
     ]
    },
    {
     "name": "stdout",
     "output_type": "stream",
     "text": [
      "  3.506 μs (76 allocations: 2.94 KiB)\n"
     ]
    },
    {
     "data": {
      "text/plain": [
       "2×2 IntervalMatrix{Float64,Interval{Float64},Array{Interval{Float64},2}}:\n",
       " [-0.439445, 2.21132]  [-0.276906, 0.606504]\n",
       " [-0.8092, 1.06126]    [-0.490004, 1.36202] "
      ]
     },
     "execution_count": 9,
     "metadata": {},
     "output_type": "execute_result"
    }
   ],
   "source": [
    "# version in mforets/faster_square\n",
    "@btime square($M)"
   ]
  },
  {
   "cell_type": "code",
   "execution_count": 8,
   "metadata": {},
   "outputs": [
    {
     "name": "stdout",
     "output_type": "stream",
     "text": [
      "\u001b[32m\u001b[1m  Updating\u001b[22m\u001b[39m registry at `~/.julia/registries/General`\n",
      "\u001b[32m\u001b[1m  Updating\u001b[22m\u001b[39m git-repo `https://github.com/JuliaRegistries/General.git`\n",
      "\u001b[2K\u001b[?25h[1mFetching:\u001b[22m\u001b[39m [========================================>]  100.0 %.0 %\u001b[32m\u001b[1m  Updating\u001b[22m\u001b[39m git-repo `https://github.com/JuliaIntervals/IntervalArithmetic.jl.git`\n",
      "\u001b[?25l\u001b[2K\u001b[?25h\u001b[32m\u001b[1m Resolving\u001b[22m\u001b[39m package versions...\n"
     ]
    },
    {
     "name": "stderr",
     "output_type": "stream",
     "text": [
      "┌ Warning: julia version requirement for package ProfileVega not satisfied\n",
      "└ @ Pkg.Operations /buildworker/worker/package_linux64/build/usr/share/julia/stdlib/v1.2/Pkg/src/Operations.jl:225\n"
     ]
    },
    {
     "name": "stdout",
     "output_type": "stream",
     "text": [
      "\u001b[32m\u001b[1m  Updating\u001b[22m\u001b[39m `~/.julia/environments/v1.2/Project.toml`\n",
      " \u001b[90m [d1acc4aa]\u001b[39m\u001b[93m ↑ IntervalArithmetic v0.16.1 #nonrecursive_powers (https://github.com/JuliaIntervals/IntervalArithmetic.jl.git) ⇒ v0.16.3 #v0.16.3 (https://github.com/JuliaIntervals/IntervalArithmetic.jl.git)\u001b[39m\n",
      "\u001b[32m\u001b[1m  Updating\u001b[22m\u001b[39m `~/.julia/environments/v1.2/Manifest.toml`\n",
      " \u001b[90m [d1acc4aa]\u001b[39m\u001b[93m ↑ IntervalArithmetic v0.16.1 #nonrecursive_powers (https://github.com/JuliaIntervals/IntervalArithmetic.jl.git) ⇒ v0.16.3 #v0.16.3 (https://github.com/JuliaIntervals/IntervalArithmetic.jl.git)\u001b[39m\n"
     ]
    }
   ],
   "source": [
    "] add IntervalArithmetic#v0.16.3"
   ]
  },
  {
   "cell_type": "code",
   "execution_count": 7,
   "metadata": {},
   "outputs": [
    {
     "data": {
      "text/plain": [
       "0.2994652406417112"
      ]
     },
     "execution_count": 7,
     "metadata": {},
     "output_type": "execute_result"
    }
   ],
   "source": [
    "(187 - 131) / 187."
   ]
  },
  {
   "cell_type": "code",
   "execution_count": 6,
   "metadata": {},
   "outputs": [
    {
     "name": "stdout",
     "output_type": "stream",
     "text": [
      "  131.246 ns (2 allocations: 160 bytes)\n"
     ]
    },
    {
     "data": {
      "text/plain": [
       "2×2 IntervalMatrix{Float64,Interval{Float64},Array{Interval{Float64},2}}:\n",
       " [-0.439445, 2.21132]  [-0.276906, 0.606504]\n",
       " [-0.8092, 1.06126]    [-0.490004, 1.36202] "
      ]
     },
     "execution_count": 6,
     "metadata": {},
     "output_type": "execute_result"
    }
   ],
   "source": [
    "# version in mforets/faster_square using IntervalArithmetic/nonrecursive_powers branch\n",
    "# it is ~30% faster and it requires A[j, j]^2\n",
    "@btime square($M)"
   ]
  },
  {
   "cell_type": "code",
   "execution_count": 9,
   "metadata": {},
   "outputs": [
    {
     "data": {
      "text/plain": [
       "square3 (generic function with 1 method)"
      ]
     },
     "execution_count": 9,
     "metadata": {},
     "output_type": "execute_result"
    }
   ],
   "source": [
    "using LinearAlgebra: checksquare\n",
    "\n",
    "function square1(A::IntervalMatrix)\n",
    "    B = similar(A.mat)\n",
    "    n = checksquare(A)\n",
    "    @inbounds for j in 1:n\n",
    "        for i in 1:n\n",
    "            if i == j\n",
    "                res = A[i, i]^2\n",
    "                for k in 1:n\n",
    "                    if k != i\n",
    "                        res += A[i, k] * A[k, i]\n",
    "                    end\n",
    "                end\n",
    "                B[i, i] = res\n",
    "            else\n",
    "                res = A[i, j] * (A[i, i] + A[j, j])\n",
    "                for k in 1:n\n",
    "                    if k != i && k != j\n",
    "                        res += A[i, k] * A[k, j]\n",
    "                    end\n",
    "                end\n",
    "                B[i, j] = res\n",
    "            end\n",
    "        end\n",
    "    end\n",
    "    return IntervalMatrix(B)\n",
    "end\n",
    "\n",
    "\n",
    "function square2(A::IntervalMatrix)\n",
    "    B = similar(A.mat)\n",
    "    n = checksquare(A)\n",
    "    @inbounds for j in 1:n\n",
    "        for i in 1:n\n",
    "            if i == j\n",
    "                res = pow(A[i, i], 2)\n",
    "                for k in 1:n\n",
    "                    if k != i\n",
    "                        res += A[i, k] * A[k, i]\n",
    "                    end\n",
    "                end\n",
    "                B[i, i] = res\n",
    "            else\n",
    "                res = A[i, j] * (A[i, i] + A[j, j])\n",
    "                for k in 1:n\n",
    "                    if k != i && k != j\n",
    "                        res += A[i, k] * A[k, j]\n",
    "                    end\n",
    "                end\n",
    "                B[i, j] = res\n",
    "            end\n",
    "        end\n",
    "    end\n",
    "    return IntervalMatrix(B)\n",
    "end\n",
    "\n",
    "function square3(A::IntervalMatrix)\n",
    "    B = similar(A.mat)\n",
    "    n = checksquare(A)\n",
    "\n",
    "    # case i == j\n",
    "    @inbounds for j in 1:n\n",
    "        B[j, j] = pow(A[j, j], 2)\n",
    "        for k in 1:n\n",
    "            k == j && continue\n",
    "            B[j, j] += A[j, k] * A[k, j]\n",
    "        end\n",
    "    end\n",
    "\n",
    "    # case i ≠ j\n",
    "    @inbounds for j in 1:n\n",
    "        for i in 1:n\n",
    "            i == j && continue\n",
    "            B[i, j] = A[i, j] * (A[j, j] + A[i, i])\n",
    "            for k in 1:n\n",
    "                (k == i || k == j) && continue\n",
    "                B[i, j] += A[i, k] * A[k, j]\n",
    "            end\n",
    "        end\n",
    "    end\n",
    "    return IntervalMatrix(B)\n",
    "end\n",
    "\n"
   ]
  },
  {
   "cell_type": "code",
   "execution_count": 13,
   "metadata": {
    "scrolled": true
   },
   "outputs": [
    {
     "data": {
      "text/plain": [
       "M (generic function with 1 method)"
      ]
     },
     "execution_count": 13,
     "metadata": {},
     "output_type": "execute_result"
    }
   ],
   "source": [
    "M(n) = rand(IntervalMatrix, n, n)"
   ]
  },
  {
   "cell_type": "code",
   "execution_count": 16,
   "metadata": {},
   "outputs": [
    {
     "name": "stdout",
     "output_type": "stream",
     "text": [
      "  3.618 μs (76 allocations: 2.94 KiB)\n",
      "  190.431 ns (2 allocations: 160 bytes)\n",
      "  194.327 ns (2 allocations: 160 bytes)\n"
     ]
    },
    {
     "data": {
      "text/plain": [
       "2×2 IntervalMatrix{Float64,Interval{Float64},Array{Interval{Float64},2}}:\n",
       " [-1.25059, 3.53102]  [-1.03455, 1.7526] \n",
       " [-1.90802, 1.1263]   [-1.24879, 1.62835]"
      ]
     },
     "execution_count": 16,
     "metadata": {},
     "output_type": "execute_result"
    }
   ],
   "source": [
    "A = M(2)\n",
    "@btime square1($A)\n",
    "@btime square2($A)\n",
    "@btime square3($A)"
   ]
  },
  {
   "cell_type": "code",
   "execution_count": 17,
   "metadata": {},
   "outputs": [
    {
     "name": "stdout",
     "output_type": "stream",
     "text": [
      "  5.742 μs (125 allocations: 5.36 KiB)\n",
      "  477.474 ns (2 allocations: 240 bytes)\n",
      "  475.337 ns (2 allocations: 240 bytes)\n"
     ]
    },
    {
     "data": {
      "text/plain": [
       "3×3 IntervalMatrix{Float64,Interval{Float64},Array{Interval{Float64},2}}:\n",
       " [-0.656142, 4.9118]    [-3.45663, 2.06806]   [-1.57504, 3.84137]  \n",
       " [-0.639579, 0.603528]  [-0.299172, 3.26549]  [-0.0851205, 1.37173]\n",
       " [-1.15943, 1.07962]    [-1.15623, 2.84543]   [-0.83474, 1.50957]  "
      ]
     },
     "execution_count": 17,
     "metadata": {},
     "output_type": "execute_result"
    }
   ],
   "source": [
    "A = M(3)\n",
    "@btime square1($A)\n",
    "@btime square2($A)\n",
    "@btime square3($A)"
   ]
  },
  {
   "cell_type": "code",
   "execution_count": 18,
   "metadata": {},
   "outputs": [
    {
     "name": "stdout",
     "output_type": "stream",
     "text": [
      "  8.151 μs (162 allocations: 6.86 KiB)\n",
      "  1.062 μs (2 allocations: 352 bytes)\n",
      "  1.110 μs (2 allocations: 352 bytes)\n"
     ]
    },
    {
     "data": {
      "text/plain": [
       "4×4 IntervalMatrix{Float64,Interval{Float64},Array{Interval{Float64},2}}:\n",
       " [-0.77385, 3.1586]    [-5.96374, 0.463751]  …  [-1.85232, 1.24969]\n",
       " [-1.34601, 2.88996]   [-0.85282, 5.00584]       [0.322574, 2.7926]\n",
       " [-4.42465, 2.19834]   [-8.98576, 3.36581]      [-3.36595, 1.72967]\n",
       "  [0.723541, 4.54881]  [-4.84278, 1.07695]      [-1.74098, 1.03039]"
      ]
     },
     "execution_count": 18,
     "metadata": {},
     "output_type": "execute_result"
    }
   ],
   "source": [
    "A = M(4)\n",
    "@btime square1($A)\n",
    "@btime square2($A)\n",
    "@btime square3($A)"
   ]
  },
  {
   "cell_type": "code",
   "execution_count": 20,
   "metadata": {},
   "outputs": [
    {
     "name": "stdout",
     "output_type": "stream",
     "text": [
      "  48.360 μs (408 allocations: 18.55 KiB)\n",
      "  26.618 μs (2 allocations: 1.78 KiB)\n",
      "  25.823 μs (2 allocations: 1.78 KiB)\n"
     ]
    },
    {
     "data": {
      "text/plain": [
       "10×10 IntervalMatrix{Float64,Interval{Float64},Array{Interval{Float64},2}}:\n",
       " [-15.0596, 7.02558]    [-4.05335, 10.4616]  …  [-5.67069, 4.68377]\n",
       " [-14.0023, 13.3392]   [-11.1931, 10.7178]      [-8.80499, 4.18572]\n",
       " [-11.0766, 12.4657]    [-2.47059, 15.0889]     [-6.76096, 6.49717]\n",
       " [-11.1217, 7.7141]     [-7.8687, 6.08828]      [-3.34341, 5.20867]\n",
       "  [-6.31673, 5.68484]   [-5.70728, 3.2717]      [-2.84294, 3.85157]\n",
       "  [-7.25568, 13.3479]   [-9.15015, 8.93799]  …  [-6.34515, 4.75675]\n",
       "  [-3.3215, 15.4359]    [-7.08864, 7.22597]     [-4.08259, 4.63538]\n",
       "  [-8.03028, 8.93594]   [-3.91559, 5.20142]     [-3.35783, 4.63063]\n",
       "  [-8.51068, 6.14291]   [-5.65711, 5.8831]      [-2.11419, 4.35483]\n",
       " [-10.1633, 12.437]    [-11.4491, 6.8883]       [-6.83925, 6.36304]"
      ]
     },
     "execution_count": 20,
     "metadata": {},
     "output_type": "execute_result"
    }
   ],
   "source": [
    "A = M(10)\n",
    "@btime square1($A)\n",
    "@btime square2($A)\n",
    "@btime square3($A)"
   ]
  },
  {
   "cell_type": "code",
   "execution_count": 21,
   "metadata": {},
   "outputs": [
    {
     "data": {
      "text/plain": [
       "0.04324324324324328"
      ]
     },
     "execution_count": 21,
     "metadata": {},
     "output_type": "execute_result"
    }
   ],
   "source": [
    "(1.110 - 1.062) / 1.110"
   ]
  },
  {
   "cell_type": "markdown",
   "metadata": {},
   "source": [
    "## Approximate Minkowski sum"
   ]
  },
  {
   "cell_type": "code",
   "execution_count": 132,
   "metadata": {},
   "outputs": [
    {
     "name": "stderr",
     "output_type": "stream",
     "text": [
      "┌ Info: Recompiling stale cache file /home/mforets/.julia/compiled/v1.2/CDDLib/SMSjF.ji for CDDLib [3391f64e-dcde-5f30-b752-e11513730f60]\n",
      "└ @ Base loading.jl:1240\n"
     ]
    }
   ],
   "source": [
    "using LazySets, Polyhedra, Plots, CDDLib"
   ]
  },
  {
   "cell_type": "code",
   "execution_count": 135,
   "metadata": {},
   "outputs": [],
   "source": [
    "X = [rand(HPolygon, dim=2) for _ in 1:3] |> MinkowskiSumArray;"
   ]
  },
  {
   "cell_type": "code",
   "execution_count": 140,
   "metadata": {},
   "outputs": [
    {
     "data": {
      "text/plain": [
       "HPolytope{Float64}(LazySets.HalfSpace{Float64,VN} where VN<:AbstractArray{Float64,1}[LazySets.HalfSpace{Float64,Array{Float64,1}}([-3.1812828817119136, -1.0], 17.791559527242356), LazySets.HalfSpace{Float64,Array{Float64,1}}([-6.67173514654207, 1.0], 58.33118627110076), LazySets.HalfSpace{Float64,Array{Float64,1}}([-3.7839110251870887, -1.0], 22.136421771249463), LazySets.HalfSpace{Float64,Array{Float64,1}}([-2.099097248589142, -1.0], 10.263576543950858), LazySets.HalfSpace{Float64,Array{Float64,1}}([-2.6767411969641373, -1.0], 14.194606138468192), LazySets.HalfSpace{Float64,Array{Float64,1}}([-2.095415823278109, -1.0], 10.239600379688687), LazySets.HalfSpace{Float64,Array{Float64,1}}([-1.8342925862594592, -1.0], 8.637951820834619), LazySets.HalfSpace{Float64,Array{Float64,1}}([-1.369623470623105, -1.0], 5.803472485806184), LazySets.HalfSpace{Float64,Array{Float64,1}}([-1.1352332802956377, -1.0], 4.4344789672727405), LazySets.HalfSpace{Float64,Array{Float64,1}}([-1.0, -1.5054186632732351], 2.8261758102512964), LazySets.HalfSpace{Float64,Array{Float64,1}}([1.988515562780922, 1.0], -1.2454399082875158), LazySets.HalfSpace{Float64,Array{Float64,1}}([1.0, 1.9872586775790324], 10.879961825102015), LazySets.HalfSpace{Float64,Array{Float64,1}}([-1.0, 2.5967339202236954], 28.729830003790152), LazySets.HalfSpace{Float64,Array{Float64,1}}([-2.6632897000339564, 1.0], 27.910486404364132), LazySets.HalfSpace{Float64,Array{Float64,1}}([-1.0, -2.0595841330474656], 2.1342673030986634), LazySets.HalfSpace{Float64,Array{Float64,1}}([1.0, -1.0496533611088066], -5.168940945703921), LazySets.HalfSpace{Float64,Array{Float64,1}}([-1.0, -2.2719917385184134], 1.9037422956604768), LazySets.HalfSpace{Float64,Array{Float64,1}}([1.0154094106165947, -1.0], -5.144557330784231), LazySets.HalfSpace{Float64,Array{Float64,1}}([2.278241047353475, 1.0], -2.292832291269095)])"
      ]
     },
     "execution_count": 140,
     "metadata": {},
     "output_type": "execute_result"
    }
   ],
   "source": [
    "Xred = convert(HPolytope, reduce(minkowski_sum, array(X)));"
   ]
  },
  {
   "cell_type": "code",
   "execution_count": 141,
   "metadata": {},
   "outputs": [
    {
     "data": {
      "image/svg+xml": [
       "<?xml version=\"1.0\" encoding=\"utf-8\"?>\n",
       "<svg xmlns=\"http://www.w3.org/2000/svg\" xmlns:xlink=\"http://www.w3.org/1999/xlink\" width=\"600\" height=\"400\" viewBox=\"0 0 2400 1600\">\n",
       "<defs>\n",
       "  <clipPath id=\"clip4200\">\n",
       "    <rect x=\"0\" y=\"0\" width=\"2400\" height=\"1600\"/>\n",
       "  </clipPath>\n",
       "</defs>\n",
       "<path clip-path=\"url(#clip4200)\" d=\"\n",
       "M0 1600 L2400 1600 L2400 0 L0 0  Z\n",
       "  \" fill=\"#ffffff\" fill-rule=\"evenodd\" fill-opacity=\"1\"/>\n",
       "<defs>\n",
       "  <clipPath id=\"clip4201\">\n",
       "    <rect x=\"480\" y=\"0\" width=\"1681\" height=\"1600\"/>\n",
       "  </clipPath>\n",
       "</defs>\n",
       "<path clip-path=\"url(#clip4200)\" d=\"\n",
       "M113.754 1487.47 L2352.76 1487.47 L2352.76 47.2441 L113.754 47.2441  Z\n",
       "  \" fill=\"#ffffff\" fill-rule=\"evenodd\" fill-opacity=\"1\"/>\n",
       "<defs>\n",
       "  <clipPath id=\"clip4202\">\n",
       "    <rect x=\"113\" y=\"47\" width=\"2240\" height=\"1441\"/>\n",
       "  </clipPath>\n",
       "</defs>\n",
       "<polyline clip-path=\"url(#clip4202)\" style=\"stroke:#000000; stroke-width:2; stroke-opacity:0.1; fill:none\" points=\"\n",
       "  447.503,1487.47 447.503,47.2441 \n",
       "  \"/>\n",
       "<polyline clip-path=\"url(#clip4202)\" style=\"stroke:#000000; stroke-width:2; stroke-opacity:0.1; fill:none\" points=\"\n",
       "  835.931,1487.47 835.931,47.2441 \n",
       "  \"/>\n",
       "<polyline clip-path=\"url(#clip4202)\" style=\"stroke:#000000; stroke-width:2; stroke-opacity:0.1; fill:none\" points=\"\n",
       "  1224.36,1487.47 1224.36,47.2441 \n",
       "  \"/>\n",
       "<polyline clip-path=\"url(#clip4202)\" style=\"stroke:#000000; stroke-width:2; stroke-opacity:0.1; fill:none\" points=\"\n",
       "  1612.79,1487.47 1612.79,47.2441 \n",
       "  \"/>\n",
       "<polyline clip-path=\"url(#clip4202)\" style=\"stroke:#000000; stroke-width:2; stroke-opacity:0.1; fill:none\" points=\"\n",
       "  2001.21,1487.47 2001.21,47.2441 \n",
       "  \"/>\n",
       "<polyline clip-path=\"url(#clip4202)\" style=\"stroke:#000000; stroke-width:2; stroke-opacity:0.1; fill:none\" points=\"\n",
       "  113.754,1266.27 2352.76,1266.27 \n",
       "  \"/>\n",
       "<polyline clip-path=\"url(#clip4202)\" style=\"stroke:#000000; stroke-width:2; stroke-opacity:0.1; fill:none\" points=\"\n",
       "  113.754,911.42 2352.76,911.42 \n",
       "  \"/>\n",
       "<polyline clip-path=\"url(#clip4202)\" style=\"stroke:#000000; stroke-width:2; stroke-opacity:0.1; fill:none\" points=\"\n",
       "  113.754,556.568 2352.76,556.568 \n",
       "  \"/>\n",
       "<polyline clip-path=\"url(#clip4202)\" style=\"stroke:#000000; stroke-width:2; stroke-opacity:0.1; fill:none\" points=\"\n",
       "  113.754,201.716 2352.76,201.716 \n",
       "  \"/>\n",
       "<polyline clip-path=\"url(#clip4200)\" style=\"stroke:#000000; stroke-width:4; stroke-opacity:1; fill:none\" points=\"\n",
       "  113.754,1487.47 2352.76,1487.47 \n",
       "  \"/>\n",
       "<polyline clip-path=\"url(#clip4200)\" style=\"stroke:#000000; stroke-width:4; stroke-opacity:1; fill:none\" points=\"\n",
       "  113.754,1487.47 113.754,47.2441 \n",
       "  \"/>\n",
       "<polyline clip-path=\"url(#clip4200)\" style=\"stroke:#000000; stroke-width:4; stroke-opacity:1; fill:none\" points=\"\n",
       "  447.503,1487.47 447.503,1470.19 \n",
       "  \"/>\n",
       "<polyline clip-path=\"url(#clip4200)\" style=\"stroke:#000000; stroke-width:4; stroke-opacity:1; fill:none\" points=\"\n",
       "  835.931,1487.47 835.931,1470.19 \n",
       "  \"/>\n",
       "<polyline clip-path=\"url(#clip4200)\" style=\"stroke:#000000; stroke-width:4; stroke-opacity:1; fill:none\" points=\"\n",
       "  1224.36,1487.47 1224.36,1470.19 \n",
       "  \"/>\n",
       "<polyline clip-path=\"url(#clip4200)\" style=\"stroke:#000000; stroke-width:4; stroke-opacity:1; fill:none\" points=\"\n",
       "  1612.79,1487.47 1612.79,1470.19 \n",
       "  \"/>\n",
       "<polyline clip-path=\"url(#clip4200)\" style=\"stroke:#000000; stroke-width:4; stroke-opacity:1; fill:none\" points=\"\n",
       "  2001.21,1487.47 2001.21,1470.19 \n",
       "  \"/>\n",
       "<polyline clip-path=\"url(#clip4200)\" style=\"stroke:#000000; stroke-width:4; stroke-opacity:1; fill:none\" points=\"\n",
       "  113.754,1266.27 140.622,1266.27 \n",
       "  \"/>\n",
       "<polyline clip-path=\"url(#clip4200)\" style=\"stroke:#000000; stroke-width:4; stroke-opacity:1; fill:none\" points=\"\n",
       "  113.754,911.42 140.622,911.42 \n",
       "  \"/>\n",
       "<polyline clip-path=\"url(#clip4200)\" style=\"stroke:#000000; stroke-width:4; stroke-opacity:1; fill:none\" points=\"\n",
       "  113.754,556.568 140.622,556.568 \n",
       "  \"/>\n",
       "<polyline clip-path=\"url(#clip4200)\" style=\"stroke:#000000; stroke-width:4; stroke-opacity:1; fill:none\" points=\"\n",
       "  113.754,201.716 140.622,201.716 \n",
       "  \"/>\n",
       "<g clip-path=\"url(#clip4200)\">\n",
       "<text style=\"fill:#000000; fill-opacity:1; font-family:Arial,Helvetica Neue,Helvetica,sans-serif; font-size:48px; text-anchor:middle;\" transform=\"rotate(0, 447.503, 1541.47)\" x=\"447.503\" y=\"1541.47\">-7</text>\n",
       "</g>\n",
       "<g clip-path=\"url(#clip4200)\">\n",
       "<text style=\"fill:#000000; fill-opacity:1; font-family:Arial,Helvetica Neue,Helvetica,sans-serif; font-size:48px; text-anchor:middle;\" transform=\"rotate(0, 835.931, 1541.47)\" x=\"835.931\" y=\"1541.47\">-6</text>\n",
       "</g>\n",
       "<g clip-path=\"url(#clip4200)\">\n",
       "<text style=\"fill:#000000; fill-opacity:1; font-family:Arial,Helvetica Neue,Helvetica,sans-serif; font-size:48px; text-anchor:middle;\" transform=\"rotate(0, 1224.36, 1541.47)\" x=\"1224.36\" y=\"1541.47\">-5</text>\n",
       "</g>\n",
       "<g clip-path=\"url(#clip4200)\">\n",
       "<text style=\"fill:#000000; fill-opacity:1; font-family:Arial,Helvetica Neue,Helvetica,sans-serif; font-size:48px; text-anchor:middle;\" transform=\"rotate(0, 1612.79, 1541.47)\" x=\"1612.79\" y=\"1541.47\">-4</text>\n",
       "</g>\n",
       "<g clip-path=\"url(#clip4200)\">\n",
       "<text style=\"fill:#000000; fill-opacity:1; font-family:Arial,Helvetica Neue,Helvetica,sans-serif; font-size:48px; text-anchor:middle;\" transform=\"rotate(0, 2001.21, 1541.47)\" x=\"2001.21\" y=\"1541.47\">-3</text>\n",
       "</g>\n",
       "<g clip-path=\"url(#clip4200)\">\n",
       "<text style=\"fill:#000000; fill-opacity:1; font-family:Arial,Helvetica Neue,Helvetica,sans-serif; font-size:48px; text-anchor:end;\" transform=\"rotate(0, 89.7545, 1283.77)\" x=\"89.7545\" y=\"1283.77\">2</text>\n",
       "</g>\n",
       "<g clip-path=\"url(#clip4200)\">\n",
       "<text style=\"fill:#000000; fill-opacity:1; font-family:Arial,Helvetica Neue,Helvetica,sans-serif; font-size:48px; text-anchor:end;\" transform=\"rotate(0, 89.7545, 928.92)\" x=\"89.7545\" y=\"928.92\">4</text>\n",
       "</g>\n",
       "<g clip-path=\"url(#clip4200)\">\n",
       "<text style=\"fill:#000000; fill-opacity:1; font-family:Arial,Helvetica Neue,Helvetica,sans-serif; font-size:48px; text-anchor:end;\" transform=\"rotate(0, 89.7545, 574.068)\" x=\"89.7545\" y=\"574.068\">6</text>\n",
       "</g>\n",
       "<g clip-path=\"url(#clip4200)\">\n",
       "<text style=\"fill:#000000; fill-opacity:1; font-family:Arial,Helvetica Neue,Helvetica,sans-serif; font-size:48px; text-anchor:end;\" transform=\"rotate(0, 89.7545, 219.216)\" x=\"89.7545\" y=\"219.216\">8</text>\n",
       "</g>\n",
       "<path clip-path=\"url(#clip4202)\" d=\"\n",
       "M177.122 912.153 L1347.4 1446.71 L1571.04 1446.71 L2289.39 1118.59 L2289.39 647.906 L1063.63 88.0053 L459.165 88.0053 L177.122 216.837 L177.122 912.153 L177.122 912.153 \n",
       "   Z\n",
       "  \" fill=\"#009af9\" fill-rule=\"evenodd\" fill-opacity=\"0.5\"/>\n",
       "<polyline clip-path=\"url(#clip4202)\" style=\"stroke:#000000; stroke-width:4; stroke-opacity:0.5; fill:none\" points=\"\n",
       "  177.122,912.153 1347.4,1446.71 1571.04,1446.71 2289.39,1118.59 2289.39,647.906 1063.63,88.0053 459.165,88.0053 177.122,216.837 177.122,912.153 \n",
       "  \n",
       "  \"/>\n",
       "<path clip-path=\"url(#clip4202)\" d=\"\n",
       "M177.122 381.821 L365.99 708.262 L397.338 753.816 L523.138 907.629 L636.769 1016.58 L784.003 1157.51 L797.09 1168.47 L897.823 1231.49 L1057.5 1314.29 L1338.64 1399.6 \n",
       "  L1469.25 1428.56 L1559.52 1446.71 L1803.09 1340.72 L2289.39 1115.17 L1762.28 566.632 L1409.05 245.786 L722.615 88.0053 L294.171 163.371 L218.661 255.232 L177.122 381.821 \n",
       "  L177.122 381.821  Z\n",
       "  \" fill=\"#e26f46\" fill-rule=\"evenodd\" fill-opacity=\"0.5\"/>\n",
       "<polyline clip-path=\"url(#clip4202)\" style=\"stroke:#000000; stroke-width:4; stroke-opacity:0.5; fill:none\" points=\"\n",
       "  177.122,381.821 365.99,708.262 397.338,753.816 523.138,907.629 636.769,1016.58 784.003,1157.51 797.09,1168.47 897.823,1231.49 1057.5,1314.29 1338.64,1399.6 \n",
       "  1469.25,1428.56 1559.52,1446.71 1803.09,1340.72 2289.39,1115.17 1762.28,566.632 1409.05,245.786 722.615,88.0053 294.171,163.371 218.661,255.232 177.122,381.821 \n",
       "  \n",
       "  \"/>\n",
       "</svg>\n"
      ]
     },
     "execution_count": 141,
     "metadata": {},
     "output_type": "execute_result"
    }
   ],
   "source": [
    "Y = overapproximate(X, OctDirections(2));\n",
    "plot(Y)\n",
    "plot!(Xred)"
   ]
  },
  {
   "cell_type": "code",
   "execution_count": null,
   "metadata": {},
   "outputs": [],
   "source": [
    "Y = overapproximate(X, OctDirections(3));\n",
    "plot(Y)"
   ]
  },
  {
   "cell_type": "code",
   "execution_count": null,
   "metadata": {},
   "outputs": [],
   "source": [
    "Polyhedra\n",
    "X = [rand(HPolytope, dim=3) for _ in 1:200] |> MinkowskiSumArray;"
   ]
  }
 ],
 "metadata": {
  "kernelspec": {
   "display_name": "Julia 1.2.0",
   "language": "julia",
   "name": "julia-1.2"
  },
  "language_info": {
   "file_extension": ".jl",
   "mimetype": "application/julia",
   "name": "julia",
   "version": "1.2.0"
  }
 },
 "nbformat": 4,
 "nbformat_minor": 2
}
