{
 "cells": [
  {
   "cell_type": "markdown",
   "metadata": {},
   "source": [
    "- https://github.com/arlk/ConvexBodyProximityQueries.jl"
   ]
  },
  {
   "cell_type": "code",
   "execution_count": 1,
   "metadata": {},
   "outputs": [
    {
     "name": "stderr",
     "output_type": "stream",
     "text": [
      "┌ Info: Recompiling stale cache file /home/mforets/.julia/compiled/v1.2/Revise/M1Qoh.ji for Revise [295af30f-e4ad-537b-8983-00126c2a3abe]\n",
      "└ @ Base loading.jl:1240\n",
      "┌ Info: Recompiling stale cache file /home/mforets/.julia/compiled/v1.2/LazySets/NjrGc.ji for LazySets [b4f0291d-fe17-52bc-9479-3d1a343d9043]\n",
      "└ @ Base loading.jl:1240\n",
      "ERROR: LoadError: LoadError: syntax: extra token \"GeometryTypes\" after end of expression\n",
      "Stacktrace:\n",
      " [1] top-level scope at /home/mforets/.julia/dev/LazySets/src/convert.jl:918\n",
      " [2] include at ./boot.jl:328 [inlined]\n",
      " [3] include_relative(::Module, ::String) at ./loading.jl:1094\n",
      " [4] include at ./Base.jl:31 [inlined]\n",
      " [5] include(::String) at /home/mforets/.julia/dev/LazySets/src/LazySets.jl:4\n",
      " [6] top-level scope at /home/mforets/.julia/dev/LazySets/src/LazySets.jl:119\n",
      " [7] include at ./boot.jl:328 [inlined]\n",
      " [8] include_relative(::Module, ::String) at ./loading.jl:1094\n",
      " [9] include(::Module, ::String) at ./Base.jl:31\n",
      " [10] top-level scope at none:2\n",
      " [11] eval at ./boot.jl:330 [inlined]\n",
      " [12] eval(::Expr) at ./client.jl:432\n",
      " [13] top-level scope at ./none:3\n",
      "in expression starting at /home/mforets/.julia/dev/LazySets/src/convert.jl:918\n",
      "in expression starting at /home/mforets/.julia/dev/LazySets/src/LazySets.jl:119\n"
     ]
    },
    {
     "ename": "ErrorException",
     "evalue": "Failed to precompile LazySets [b4f0291d-fe17-52bc-9479-3d1a343d9043] to /home/mforets/.julia/compiled/v1.2/LazySets/NjrGc.ji.",
     "output_type": "error",
     "traceback": [
      "Failed to precompile LazySets [b4f0291d-fe17-52bc-9479-3d1a343d9043] to /home/mforets/.julia/compiled/v1.2/LazySets/NjrGc.ji.",
      "",
      "Stacktrace:",
      " [1] error(::String) at ./error.jl:33",
      " [2] compilecache(::Base.PkgId, ::String) at ./loading.jl:1253",
      " [3] _require(::Base.PkgId) at ./loading.jl:1013",
      " [4] require(::Base.PkgId) at ./loading.jl:911",
      " [5] require(::Module, ::Symbol) at ./loading.jl:906",
      " [6] top-level scope at In[1]:1"
     ]
    }
   ],
   "source": [
    "using Revise, GeometryTypes, LazySets, BenchmarkTools\n",
    "using StaticArrays"
   ]
  },
  {
   "cell_type": "code",
   "execution_count": 2,
   "metadata": {},
   "outputs": [
    {
     "ename": "LoadError",
     "evalue": "UndefVarError: @SVector not defined",
     "output_type": "error",
     "traceback": [
      "UndefVarError: @SVector not defined",
      ""
     ]
    }
   ],
   "source": [
    "v = @SVector(rand(2))"
   ]
  },
  {
   "cell_type": "code",
   "execution_count": 3,
   "metadata": {},
   "outputs": [
    {
     "ename": "LoadError",
     "evalue": "UndefVarError: @SMatrix not defined",
     "output_type": "error",
     "traceback": [
      "UndefVarError: @SMatrix not defined",
      ""
     ]
    }
   ],
   "source": [
    "mA = @SMatrix(rand(2, 8))\n",
    "polyA = VPolygon([mA[:, i] for i in 1:8])\n",
    "\n",
    "mB = @SMatrix(rand(2, 8)) .+ 1.5\n",
    "polyB = VPolygon([mB[:, i] for i in 1:8])"
   ]
  },
  {
   "cell_type": "code",
   "execution_count": 4,
   "metadata": {},
   "outputs": [
    {
     "ename": "UndefVarError",
     "evalue": "UndefVarError: σ not defined",
     "output_type": "error",
     "traceback": [
      "UndefVarError: σ not defined",
      "",
      "Stacktrace:",
      " [1] top-level scope at In[4]:1"
     ]
    }
   ],
   "source": [
    "σ(v, polyA)"
   ]
  },
  {
   "cell_type": "code",
   "execution_count": 5,
   "metadata": {},
   "outputs": [
    {
     "ename": "LoadError",
     "evalue": "UndefVarError: @SVector not defined",
     "output_type": "error",
     "traceback": [
      "UndefVarError: @SVector not defined",
      ""
     ]
    }
   ],
   "source": [
    "H = Hyperrectangle(@SVector(rand(2)), @SVector([1.0, 1.0]))"
   ]
  },
  {
   "cell_type": "code",
   "execution_count": 6,
   "metadata": {},
   "outputs": [
    {
     "ename": "UndefVarError",
     "evalue": "UndefVarError: σ not defined",
     "output_type": "error",
     "traceback": [
      "UndefVarError: σ not defined",
      "",
      "Stacktrace:",
      " [1] top-level scope at In[6]:1"
     ]
    }
   ],
   "source": [
    "σ(v, H)"
   ]
  },
  {
   "cell_type": "code",
   "execution_count": 7,
   "metadata": {},
   "outputs": [
    {
     "ename": "UndefVarError",
     "evalue": "UndefVarError: H not defined",
     "output_type": "error",
     "traceback": [
      "UndefVarError: H not defined",
      "",
      "Stacktrace:",
      " [1] top-level scope at In[7]:1"
     ]
    }
   ],
   "source": [
    "H"
   ]
  },
  {
   "cell_type": "code",
   "execution_count": 8,
   "metadata": {},
   "outputs": [
    {
     "ename": "LoadError",
     "evalue": "UndefVarError: @SVector not defined",
     "output_type": "error",
     "traceback": [
      "UndefVarError: @SVector not defined",
      ""
     ]
    }
   ],
   "source": [
    "Z = Zonotope(@SVector(rand(2)), @SMatrix(rand(2, 8)))"
   ]
  },
  {
   "cell_type": "code",
   "execution_count": 9,
   "metadata": {},
   "outputs": [
    {
     "ename": "UndefVarError",
     "evalue": "UndefVarError: Z not defined",
     "output_type": "error",
     "traceback": [
      "UndefVarError: Z not defined",
      "",
      "Stacktrace:",
      " [1] top-level scope at In[9]:1"
     ]
    }
   ],
   "source": [
    "Z.generators"
   ]
  },
  {
   "cell_type": "code",
   "execution_count": 10,
   "metadata": {},
   "outputs": [
    {
     "ename": "LoadError",
     "evalue": "UndefVarError: @btime not defined",
     "output_type": "error",
     "traceback": [
      "UndefVarError: @btime not defined",
      ""
     ]
    }
   ],
   "source": [
    "@btime σ($v, $Z)"
   ]
  },
  {
   "cell_type": "code",
   "execution_count": 11,
   "metadata": {},
   "outputs": [
    {
     "ename": "UndefVarError",
     "evalue": "UndefVarError: Hyperrectangle not defined",
     "output_type": "error",
     "traceback": [
      "UndefVarError: Hyperrectangle not defined",
      "",
      "Stacktrace:",
      " [1] top-level scope at In[11]:1"
     ]
    }
   ],
   "source": [
    "h1 = Hyperrectangle([0.0, 0.0], [0.5, 1.0])"
   ]
  },
  {
   "cell_type": "code",
   "execution_count": 30,
   "metadata": {},
   "outputs": [
    {
     "data": {
      "text/plain": [
       "HyperRectangle{2,Float64}([0.0, 0.0], [1.0, 2.0])"
      ]
     },
     "execution_count": 30,
     "metadata": {},
     "output_type": "execute_result"
    }
   ],
   "source": [
    "r = HyperRectangle(Vec(0.0, 0.0), Vec(1.0, 2.0))"
   ]
  },
  {
   "cell_type": "code",
   "execution_count": 13,
   "metadata": {},
   "outputs": [
    {
     "data": {
      "text/plain": [
       "2-element Vec{2,Float64} with indices SOneTo(2):\n",
       " 0.0\n",
       " 0.0"
      ]
     },
     "execution_count": 13,
     "metadata": {},
     "output_type": "execute_result"
    }
   ],
   "source": [
    "origin(r)"
   ]
  },
  {
   "cell_type": "code",
   "execution_count": 14,
   "metadata": {},
   "outputs": [
    {
     "data": {
      "text/plain": [
       "2-element Vec{2,Float64} with indices SOneTo(2):\n",
       " 1.0\n",
       " 2.0"
      ]
     },
     "execution_count": 14,
     "metadata": {},
     "output_type": "execute_result"
    }
   ],
   "source": [
    "widths(r)"
   ]
  },
  {
   "cell_type": "code",
   "execution_count": 31,
   "metadata": {},
   "outputs": [
    {
     "data": {
      "text/plain": [
       "([0.0, 0.0], [0.0, 2.0], [1.0, 0.0], [1.0, 2.0])"
      ]
     },
     "execution_count": 31,
     "metadata": {},
     "output_type": "execute_result"
    }
   ],
   "source": [
    "vertices(r)"
   ]
  },
  {
   "cell_type": "code",
   "execution_count": null,
   "metadata": {},
   "outputs": [],
   "source": []
  },
  {
   "cell_type": "code",
   "execution_count": 48,
   "metadata": {},
   "outputs": [
    {
     "data": {
      "text/plain": [
       "HyperCube{3,Float64}([0.0, 0.0, 0.0], 1.0)"
      ]
     },
     "execution_count": 48,
     "metadata": {},
     "output_type": "execute_result"
    }
   ],
   "source": [
    "r = HyperCube(Vec(0.0, 0.0, 0.0), 1.0)"
   ]
  },
  {
   "cell_type": "code",
   "execution_count": 49,
   "metadata": {},
   "outputs": [
    {
     "data": {
      "text/plain": [
       "3-element Vec{3,Float64} with indices SOneTo(3):\n",
       " 1.0\n",
       " 1.0\n",
       " 1.0"
      ]
     },
     "execution_count": 49,
     "metadata": {},
     "output_type": "execute_result"
    }
   ],
   "source": [
    "widths(r)"
   ]
  },
  {
   "cell_type": "code",
   "execution_count": 50,
   "metadata": {},
   "outputs": [
    {
     "data": {
      "text/plain": [
       "([0.0, 0.0, 0.0], [0.0, 0.0, 1.0], [0.0, 1.0, 0.0], [0.0, 1.0, 1.0], [1.0, 0.0, 0.0], [1.0, 0.0, 1.0], [1.0, 1.0, 0.0], [1.0, 1.0, 1.0])"
      ]
     },
     "execution_count": 50,
     "metadata": {},
     "output_type": "execute_result"
    }
   ],
   "source": [
    "vertices(r)"
   ]
  },
  {
   "cell_type": "code",
   "execution_count": 52,
   "metadata": {},
   "outputs": [
    {
     "data": {
      "text/plain": [
       "3-element Vec{3,Float64} with indices SOneTo(3):\n",
       " 0.0\n",
       " 0.0\n",
       " 0.0"
      ]
     },
     "execution_count": 52,
     "metadata": {},
     "output_type": "execute_result"
    }
   ],
   "source": [
    "x = origin(r)"
   ]
  },
  {
   "cell_type": "code",
   "execution_count": 61,
   "metadata": {},
   "outputs": [
    {
     "ename": "LoadError",
     "evalue": "Use @SVector [a,b,c], @SVector Type[a,b,c] or a comprehension like [f(i) for i = i_min:i_max]",
     "output_type": "error",
     "traceback": [
      "Use @SVector [a,b,c], @SVector Type[a,b,c] or a comprehension like [f(i) for i = i_min:i_max]",
      "",
      "Stacktrace:",
      " [1] error(::String) at ./error.jl:33",
      " [2] @SVector(::LineNumberNode, ::Module, ::Any) at /home/mforets/.julia/packages/StaticArrays/1g9bq/src/SVector.jl:114"
     ]
    }
   ],
   "source": [
    "using StaticArrays\n",
    "\n",
    "@SVector(origin(r).data)"
   ]
  },
  {
   "cell_type": "code",
   "execution_count": 22,
   "metadata": {},
   "outputs": [
    {
     "data": {
      "text/plain": [
       "1.0"
      ]
     },
     "execution_count": 22,
     "metadata": {},
     "output_type": "execute_result"
    }
   ],
   "source": [
    "width(r)"
   ]
  },
  {
   "cell_type": "code",
   "execution_count": 19,
   "metadata": {},
   "outputs": [
    {
     "data": {
      "text/plain": [
       "3-element Vec{3,Float32} with indices SOneTo(3):\n",
       " 1.0\n",
       " 1.0\n",
       " 1.0"
      ]
     },
     "execution_count": 19,
     "metadata": {},
     "output_type": "execute_result"
    }
   ],
   "source": [
    "Vec3f0(1.0)"
   ]
  },
  {
   "cell_type": "code",
   "execution_count": 20,
   "metadata": {},
   "outputs": [
    {
     "data": {
      "text/plain": [
       "1.0f0"
      ]
     },
     "execution_count": 20,
     "metadata": {},
     "output_type": "execute_result"
    }
   ],
   "source": [
    "Float32(1.0)"
   ]
  },
  {
   "cell_type": "code",
   "execution_count": 21,
   "metadata": {},
   "outputs": [
    {
     "data": {
      "text/plain": [
       "1.0f0"
      ]
     },
     "execution_count": 21,
     "metadata": {},
     "output_type": "execute_result"
    }
   ],
   "source": [
    "1.0f0"
   ]
  },
  {
   "cell_type": "code",
   "execution_count": 23,
   "metadata": {},
   "outputs": [],
   "source": [
    "using Test"
   ]
  },
  {
   "cell_type": "code",
   "execution_count": 24,
   "metadata": {},
   "outputs": [
    {
     "data": {
      "text/plain": [
       "\u001b[32m\u001b[1mTest Passed\u001b[22m\u001b[39m"
      ]
     },
     "execution_count": 24,
     "metadata": {},
     "output_type": "execute_result"
    }
   ],
   "source": [
    "x = centered(HyperCube)\n",
    "@test origin(x) == Vec3f0(-0.5)\n",
    "@test width(x) == 1.0f0\n",
    "@test widths(x) == Vec3f0(1.0)\n",
    "@test maximum(x) == Vec3f0(0.5)\n",
    "@test minimum(x) == Vec3f0(-0.5)"
   ]
  },
  {
   "cell_type": "code",
   "execution_count": 25,
   "metadata": {},
   "outputs": [
    {
     "ename": "UndefVarError",
     "evalue": "UndefVarError: vertices_list not defined",
     "output_type": "error",
     "traceback": [
      "UndefVarError: vertices_list not defined",
      "",
      "Stacktrace:",
      " [1] top-level scope at In[25]:1"
     ]
    }
   ],
   "source": [
    "vertices_list(x)"
   ]
  },
  {
   "cell_type": "code",
   "execution_count": 26,
   "metadata": {},
   "outputs": [
    {
     "data": {
      "text/plain": [
       "(Float32[-0.5, -0.5, -0.5], Float32[-0.5, -0.5, 0.5], Float32[-0.5, 0.5, -0.5], Float32[-0.5, 0.5, 0.5], Float32[0.5, -0.5, -0.5], Float32[0.5, -0.5, 0.5], Float32[0.5, 0.5, -0.5], Float32[0.5, 0.5, 0.5])"
      ]
     },
     "execution_count": 26,
     "metadata": {},
     "output_type": "execute_result"
    }
   ],
   "source": [
    "vertices(x)"
   ]
  },
  {
   "cell_type": "code",
   "execution_count": 36,
   "metadata": {},
   "outputs": [
    {
     "data": {
      "text/plain": [
       "HyperSphere{3,Int64}([0, 0, 0], 4)"
      ]
     },
     "execution_count": 36,
     "metadata": {},
     "output_type": "execute_result"
    }
   ],
   "source": [
    "s = Sphere(Point(0,0,0), 4)"
   ]
  },
  {
   "cell_type": "code",
   "execution_count": 43,
   "metadata": {},
   "outputs": [
    {
     "data": {
      "text/plain": [
       "3-element Point{3,Int64} with indices SOneTo(3):\n",
       " 0\n",
       " 0\n",
       " 0"
      ]
     },
     "execution_count": 43,
     "metadata": {},
     "output_type": "execute_result"
    }
   ],
   "source": [
    "t = origin(s)"
   ]
  },
  {
   "cell_type": "code",
   "execution_count": 47,
   "metadata": {},
   "outputs": [
    {
     "data": {
      "text/plain": [
       "(0, 0, 0)"
      ]
     },
     "execution_count": 47,
     "metadata": {},
     "output_type": "execute_result"
    }
   ],
   "source": [
    "t.data"
   ]
  },
  {
   "cell_type": "code",
   "execution_count": 40,
   "metadata": {},
   "outputs": [
    {
     "data": {
      "text/plain": [
       "4"
      ]
     },
     "execution_count": 40,
     "metadata": {},
     "output_type": "execute_result"
    }
   ],
   "source": [
    "radius(s)"
   ]
  },
  {
   "cell_type": "code",
   "execution_count": 72,
   "metadata": {},
   "outputs": [],
   "source": [
    "using BenchmarkTools"
   ]
  },
  {
   "cell_type": "code",
   "execution_count": 78,
   "metadata": {},
   "outputs": [
    {
     "data": {
      "text/plain": [
       "j (generic function with 1 method)"
      ]
     },
     "execution_count": 78,
     "metadata": {},
     "output_type": "execute_result"
    }
   ],
   "source": [
    "function f(a)\n",
    "    return reshape([a], 1, 1)\n",
    "end\n",
    "\n",
    "function g(a::N) where {N}\n",
    "    M = Matrix{N}(undef, 1, 1)\n",
    "    @inbounds M[1, 1] = a\n",
    "    return M\n",
    "end\n",
    "\n",
    "function h(a::N) where {N}\n",
    "    M = Matrix{N}(undef, 1, 1)\n",
    "    M[1, 1] = a\n",
    "    return M\n",
    "end\n",
    "\n",
    "function j(a)\n",
    "    return hcat(a)\n",
    "end"
   ]
  },
  {
   "cell_type": "code",
   "execution_count": 79,
   "metadata": {},
   "outputs": [
    {
     "name": "stdout",
     "output_type": "stream",
     "text": [
      "  51.547 ns (3 allocations: 192 bytes)\n",
      "  25.468 ns (1 allocation: 96 bytes)\n",
      "  25.652 ns (1 allocation: 96 bytes)\n",
      "  25.650 ns (1 allocation: 96 bytes)\n"
     ]
    },
    {
     "data": {
      "text/plain": [
       "1×1 Array{Float64,2}:\n",
       " 1.0"
      ]
     },
     "execution_count": 79,
     "metadata": {},
     "output_type": "execute_result"
    }
   ],
   "source": [
    "@btime f(1.0)\n",
    "@btime g(1.0)\n",
    "@btime h(1.0)\n",
    "@btime j(1.0)"
   ]
  },
  {
   "cell_type": "code",
   "execution_count": 80,
   "metadata": {},
   "outputs": [
    {
     "data": {
      "text/plain": [
       "1×1 Array{Float64,2}:\n",
       " 2.0"
      ]
     },
     "execution_count": 80,
     "metadata": {},
     "output_type": "execute_result"
    }
   ],
   "source": [
    "hcat(2.0)"
   ]
  },
  {
   "cell_type": "code",
   "execution_count": 81,
   "metadata": {},
   "outputs": [
    {
     "data": {
      "text/html": [
       "hcat(X::<b>T...</b>)<i> where T<:Number</i> in Base at <a href=\"https://github.com/JuliaLang/julia/tree/c6da87ff4bc7a855e217856757ad3413cf6d1f79/base/abstractarray.jl#L1280\" target=\"_blank\">abstractarray.jl:1280</a>"
      ],
      "text/plain": [
       "hcat(X::T...) where T<:Number in Base at abstractarray.jl:1280"
      ]
     },
     "execution_count": 81,
     "metadata": {},
     "output_type": "execute_result"
    }
   ],
   "source": [
    "@which hcat(2.0)"
   ]
  },
  {
   "cell_type": "code",
   "execution_count": null,
   "metadata": {},
   "outputs": [],
   "source": [
    "julia> c = 1.0f32\n",
    "1.0f32\n",
    "\n",
    "julia> [c]\n",
    "1-element Array{Float32,1}:\n",
    " 1.0e32\n",
    "\n",
    "julia> Vc = Vector{typeof(c)}(undef, 1); Vc[1] = c; Vc\n",
    "1-element Array{Float32,1}:\n",
    " 1.0e32\n",
    "\n",
    "julia> @btime [$c]\n",
    "  28.561 ns (1 allocation: 96 bytes)\n",
    "1-element Array{Float32,1}:\n",
    " 1.0e32\n",
    "\n",
    "julia> @btime (Vc = Vector{typeof($c)}(undef, 1); Vc[1] = $c; Vc)\n",
    "  30.418 ns (1 allocation: 96 bytes)\n",
    "1-element Array{Float32,1}:\n",
    " 1.0e32"
   ]
  },
  {
   "cell_type": "code",
   "execution_count": 93,
   "metadata": {},
   "outputs": [
    {
     "data": {
      "text/plain": [
       "hh (generic function with 1 method)"
      ]
     },
     "execution_count": 93,
     "metadata": {},
     "output_type": "execute_result"
    }
   ],
   "source": [
    "function ff(a)\n",
    "    return [a]\n",
    "end\n",
    "\n",
    "function gg(a)\n",
    "    Vc = Vector{typeof(a)}(undef, 1)\n",
    "    Vc[1] = a\n",
    "    return Vc\n",
    "end\n",
    "\n",
    "function hh(a)\n",
    "    return vcat(a)\n",
    "end"
   ]
  },
  {
   "cell_type": "code",
   "execution_count": 94,
   "metadata": {},
   "outputs": [
    {
     "name": "stdout",
     "output_type": "stream",
     "text": [
      "  23.415 ns (1 allocation: 96 bytes)\n",
      "  22.813 ns (1 allocation: 96 bytes)\n",
      "  23.567 ns (1 allocation: 96 bytes)\n"
     ]
    },
    {
     "data": {
      "text/plain": [
       "1-element Array{Float64,1}:\n",
       " 1.0"
      ]
     },
     "execution_count": 94,
     "metadata": {},
     "output_type": "execute_result"
    }
   ],
   "source": [
    "@btime ff(1.0)\n",
    "@btime gg(1.0)\n",
    "@btime hh(1.0)"
   ]
  },
  {
   "cell_type": "code",
   "execution_count": 91,
   "metadata": {},
   "outputs": [
    {
     "data": {
      "text/plain": [
       "1.0"
      ]
     },
     "execution_count": 91,
     "metadata": {},
     "output_type": "execute_result"
    }
   ],
   "source": [
    "c = 1.0"
   ]
  },
  {
   "cell_type": "code",
   "execution_count": 92,
   "metadata": {},
   "outputs": [
    {
     "name": "stdout",
     "output_type": "stream",
     "text": [
      "  20.477 ns (1 allocation: 96 bytes)\n"
     ]
    },
    {
     "data": {
      "text/plain": [
       "1-element Array{Float64,1}:\n",
       " 1.0"
      ]
     },
     "execution_count": 92,
     "metadata": {},
     "output_type": "execute_result"
    }
   ],
   "source": [
    "@btime (Vc = Vector{typeof($c)}(undef, 1); Vc[1] = $c; Vc)"
   ]
  },
  {
   "cell_type": "code",
   "execution_count": null,
   "metadata": {},
   "outputs": [],
   "source": [
    "@btime $(Ref(X))[]^2"
   ]
  },
  {
   "cell_type": "code",
   "execution_count": null,
   "metadata": {},
   "outputs": [],
   "source": []
  }
 ],
 "metadata": {
  "kernelspec": {
   "display_name": "Julia 1.2.0",
   "language": "julia",
   "name": "julia-1.2"
  },
  "language_info": {
   "file_extension": ".jl",
   "mimetype": "application/julia",
   "name": "julia",
   "version": "1.2.0"
  }
 },
 "nbformat": 4,
 "nbformat_minor": 2
}
