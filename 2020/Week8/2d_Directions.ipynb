{
 "cells": [
  {
   "cell_type": "code",
   "execution_count": null,
   "metadata": {},
   "outputs": [],
   "source": [
    "\"\"\"\n",
    "    jump2pi(x::N) where {N<:AbstractFloat}\n",
    "\n",
    "Return ``x + 2π`` if ``x`` is negative, otherwise return ``x``.\n",
    "\n",
    "### Input\n",
    "\n",
    "- `x` -- real scalar\n",
    "\n",
    "### Output\n",
    "\n",
    "``x + 2π`` if ``x`` is negative, ``x`` otherwise.\n",
    "\n",
    "### Examples\n",
    "\n",
    "```jldoctest\n",
    "julia> using LazySets: jump2pi\n",
    "\n",
    "julia> jump2pi(0.0)\n",
    "0.0\n",
    "\n",
    "julia> jump2pi(-0.5)\n",
    "5.783185307179586\n",
    "\n",
    "julia> jump2pi(0.5)\n",
    "0.5\n",
    "```\n",
    "\"\"\"\n",
    "@inline function jump2pi(x::N) where {N<:AbstractFloat}\n",
    "    x < zero(N) ? 2 * pi + x : x\n",
    "end"
   ]
  },
  {
   "cell_type": "code",
   "execution_count": null,
   "metadata": {},
   "outputs": [],
   "source": [
    "\"\"\"\t\n",
    "    <=(u::AbstractVector{N}, v::AbstractVector{N}) where {N<:AbstractFloat}\t\n",
    "Compares two 2D vectors by their direction.\t\n",
    "### Input\t\n",
    "- `u` --  first 2D direction\t\n",
    "- `v` --  second 2D direction\t\n",
    "### Output\t\n",
    "True iff ``\\\\arg(u) [2π] ≤ \\\\arg(v) [2π]``\t\n",
    "### Notes\t\n",
    "The argument is measured in counter-clockwise fashion, with the 0 being the\t\n",
    "direction (1, 0).\t\n",
    "### Algorithm\t\n",
    "The implementation uses the arctangent function with sign, `atan`, which for two\t\n",
    "arguments implements the\t\n",
    "[`atan2` function](https://en.wikipedia.org/wiki/Atan2).\t\n",
    "\"\"\"\t\n",
    "function <=(u::AbstractVector{N},\t\n",
    "            v::AbstractVector{N}) where {N<:AbstractFloat}\t\n",
    "    return jump2pi(atan(u[2], u[1])) <= jump2pi(atan(v[2], v[1]))\t\n",
    "end"
   ]
  }
 ],
 "metadata": {
  "kernelspec": {
   "display_name": "Julia 1.3.1",
   "language": "julia",
   "name": "julia-1.3"
  },
  "language_info": {
   "file_extension": ".jl",
   "mimetype": "application/julia",
   "name": "julia",
   "version": "1.3.1"
  }
 },
 "nbformat": 4,
 "nbformat_minor": 2
}
