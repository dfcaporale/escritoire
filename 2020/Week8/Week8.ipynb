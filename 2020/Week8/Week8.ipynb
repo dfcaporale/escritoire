{
 "cells": [
  {
   "cell_type": "markdown",
   "metadata": {},
   "source": [
    "# More IdentityMultiple methods"
   ]
  },
  {
   "cell_type": "markdown",
   "metadata": {},
   "source": [
    "- https://github.com/JuliaReach/MathematicalSystems.jl/issues/171\n",
    "- https://github.com/JuliaReach/MathematicalSystems.jl/pull/170"
   ]
  },
  {
   "cell_type": "code",
   "execution_count": null,
   "metadata": {},
   "outputs": [],
   "source": [
    "using ControlSystems\n",
    "using MathematicalSystems\n",
    "using LinearAlgebra\n",
    "\n",
    "A = rand(3,3)\n",
    "B = rand(3,2)\n",
    "Q = I(3)\n",
    "R = I(2)\n",
    "dlqr(A, B, Q, R)"
   ]
  },
  {
   "cell_type": "code",
   "execution_count": null,
   "metadata": {},
   "outputs": [],
   "source": [
    "LinearAlgebra.eigvals(x::IdentityMultiple) = x.M.λ"
   ]
  },
  {
   "cell_type": "code",
   "execution_count": null,
   "metadata": {},
   "outputs": [],
   "source": [
    "eigvals(hcat(2.0))"
   ]
  },
  {
   "cell_type": "code",
   "execution_count": null,
   "metadata": {},
   "outputs": [],
   "source": [
    "x = I(2)"
   ]
  },
  {
   "cell_type": "code",
   "execution_count": null,
   "metadata": {},
   "outputs": [],
   "source": [
    "x.M.λ"
   ]
  },
  {
   "cell_type": "code",
   "execution_count": null,
   "metadata": {},
   "outputs": [],
   "source": [
    "value(x)"
   ]
  },
  {
   "cell_type": "markdown",
   "metadata": {},
   "source": [
    "# Support function for hyperrectangular sets"
   ]
  },
  {
   "cell_type": "code",
   "execution_count": null,
   "metadata": {},
   "outputs": [],
   "source": [
    "using Revise, LazySets, IntervalArithmetic, BenchmarkTools, Test, StaticArrays"
   ]
  },
  {
   "cell_type": "code",
   "execution_count": null,
   "metadata": {},
   "outputs": [],
   "source": [
    "using LazySets: sign_cadlag\n",
    "\n",
    "# HYPERRECTANGLE\n",
    "\n",
    "@inline function LazySets.center(H, i)\n",
    "    return H.center[i]\n",
    "end\n",
    "\n",
    "function σ0(d::AbstractVector{N}, H::AbstractHyperrectangle{N}) where {N<:Real}\n",
    "    n = length(d)\n",
    "    @assert n == dim(H) \"a $(length(d))-dimensional vector is \" *\n",
    "                                \"incompatible with a $(dim(H))-dimensional set\"\n",
    "    if n == 2\n",
    "        res = similar(d)\n",
    "        res[1] = center(H, 1) + sign_cadlag(d[1]) * radius_hyperrectangle(H, 1)\n",
    "        res[2] = center(H, 2) + sign_cadlag(d[2]) * radius_hyperrectangle(H, 2)\n",
    "        return res\n",
    "    else\n",
    "        return center(H) .+ sign_cadlag.(d) .* radius_hyperrectangle(H)\n",
    "    end\n",
    "end\n",
    "\n",
    "\n",
    "# INTERVAL BOX\n",
    "\n",
    "LazySets.dim(B::IntervalBox{D, N}) where {D, N} = D\n",
    "\n",
    "function σ1(d::AbstractVector{N}, B::IntervalBox{D, N}) where {D, N<:Real}\n",
    "    n = length(d)\n",
    "    @assert length(d) == dim(B) \"a $(length(d))-dimensional vector is \" *\n",
    "                                 \"incompatible with a $(dim(H))-dimensional set\"\n",
    "    res = Vector{N}(undef, n)\n",
    "    @inbounds for (i, di) in enumerate(d)\n",
    "        res[i] = ifelse(di < zero(N), inf(B.v[i]), sup(B.v[i]))\n",
    "    end\n",
    "    return res\n",
    "end\n",
    "\n",
    "function σ2(d::AbstractVector{N}, B::IntervalBox{D, N}) where {D, N<:Real}\n",
    "    n = length(d)\n",
    "    @assert n == dim(B) \"a $(length(d))-dimensional vector is \" *\n",
    "                         \"incompatible with a $(dim(H))-dimensional set\"\n",
    "    res = Vector{N}(undef, n)\n",
    "    @inbounds for (i, di) in enumerate(d)\n",
    "        if di < zero(N)\n",
    "            res[i] = inf(B.v[i])\n",
    "        else\n",
    "            res[i] = sup(B.v[i])\n",
    "        end\n",
    "    end\n",
    "    return res\n",
    "end\n",
    "\n",
    "function σ3(d::AbstractVector{N}, B::IntervalBox{D, N}) where {D, N<:Real}\n",
    "    n = length(d)\n",
    "    @assert n == dim(B) \"a $(length(d))-dimensional vector is \" *\n",
    "                         \"incompatible with a $(dim(H))-dimensional set\"\n",
    "    res = Vector{N}(undef, n)\n",
    "    @inbounds for (i, di) in enumerate(d)\n",
    "        res[i] = di < zero(N) ? inf(B.v[i]) : sup(B.v[i])\n",
    "    end\n",
    "    return res\n",
    "end\n",
    "\n",
    "function σ4(d::AbstractVector{N}, B::IntervalBox{2, N}) where {D, N<:Real}\n",
    "    n = length(d)\n",
    "    @assert n == 2 \"a $(length(d))-dimensional vector is \" *\n",
    "                         \"incompatible with a $(dim(H))-dimensional set\"\n",
    "    x = ifelse(d[1] < zero(N), inf(B.v[1]), sup(B.v[1]))\n",
    "    y = ifelse(d[2] < zero(N), inf(B.v[2]), sup(B.v[2]))\n",
    "    return SVector(x, y)\n",
    "end\n",
    "\n",
    "function σ5(d::AbstractVector{N}, B::IntervalBox{2, N}) where {D, N<:Real}\n",
    "    n = length(d)\n",
    "    @assert n == 2 \"a $(length(d))-dimensional vector is \" *\n",
    "                         \"incompatible with a $(dim(H))-dimensional set\"\n",
    "    res = similar(d)\n",
    "    res[1] = d[1] < zero(N) ? inf(B.v[1]) : sup(B.v[1])\n",
    "    res[2] = d[2] < zero(N) ? inf(B.v[2]) : sup(B.v[2])\n",
    "    return res\n",
    "end"
   ]
  },
  {
   "cell_type": "code",
   "execution_count": null,
   "metadata": {},
   "outputs": [],
   "source": [
    "n = 2\n",
    "\n",
    "X = rand(Hyperrectangle, dim=n);\n",
    "Xs = Hyperrectangle(SVector{2, Float64}(X.center), SVector{2, Float64}(X.radius))\n",
    "\n",
    "dir = rand(n);\n",
    "dirs = SVector{2, Float64}(dir)"
   ]
  },
  {
   "cell_type": "code",
   "execution_count": null,
   "metadata": {},
   "outputs": [],
   "source": [
    "@btime σ($dir, $X);\n",
    "@btime σ($dirs, $X);\n",
    "@btime σ($dirs, $Xs);"
   ]
  },
  {
   "cell_type": "code",
   "execution_count": null,
   "metadata": {},
   "outputs": [],
   "source": [
    "@btime σ0($dir, $X);\n",
    "@btime σ0($dirs, $X);\n",
    "@btime σ0($dirs, $Xs);"
   ]
  },
  {
   "cell_type": "code",
   "execution_count": null,
   "metadata": {},
   "outputs": [],
   "source": [
    "@btime σ0_2($dir, $X);"
   ]
  },
  {
   "cell_type": "code",
   "execution_count": null,
   "metadata": {},
   "outputs": [],
   "source": [
    "@btime σ0_2($dirs, $X);"
   ]
  },
  {
   "cell_type": "code",
   "execution_count": null,
   "metadata": {},
   "outputs": [],
   "source": [
    "@btime σ0_2($dirs, $Xs);"
   ]
  },
  {
   "cell_type": "code",
   "execution_count": null,
   "metadata": {},
   "outputs": [],
   "source": [
    "B = convert(IntervalBox, X);"
   ]
  },
  {
   "cell_type": "code",
   "execution_count": null,
   "metadata": {},
   "outputs": [],
   "source": [
    "@btime σ1($dir, $B);"
   ]
  },
  {
   "cell_type": "code",
   "execution_count": null,
   "metadata": {},
   "outputs": [],
   "source": [
    "@btime σ2($dir, $B);"
   ]
  },
  {
   "cell_type": "code",
   "execution_count": null,
   "metadata": {},
   "outputs": [],
   "source": [
    "@btime σ3($dir, $B);"
   ]
  },
  {
   "cell_type": "code",
   "execution_count": null,
   "metadata": {},
   "outputs": [],
   "source": [
    "(40 - 28)/40."
   ]
  },
  {
   "cell_type": "code",
   "execution_count": null,
   "metadata": {},
   "outputs": [],
   "source": [
    "@btime σ4($dirs, $B)"
   ]
  },
  {
   "cell_type": "code",
   "execution_count": null,
   "metadata": {},
   "outputs": [],
   "source": [
    "@btime σ5($dirs, $B)"
   ]
  },
  {
   "cell_type": "code",
   "execution_count": null,
   "metadata": {},
   "outputs": [],
   "source": [
    "dir"
   ]
  },
  {
   "cell_type": "code",
   "execution_count": null,
   "metadata": {},
   "outputs": [],
   "source": [
    "@btime σ4($dirs, $B)"
   ]
  },
  {
   "cell_type": "markdown",
   "metadata": {},
   "source": [
    "Conclusion: for 2d, use `Hyperectangle` with static vectors."
   ]
  },
  {
   "cell_type": "markdown",
   "metadata": {},
   "source": [
    "# Conversions and from GeometyTypes"
   ]
  },
  {
   "cell_type": "code",
   "execution_count": 1,
   "metadata": {},
   "outputs": [
    {
     "name": "stderr",
     "output_type": "stream",
     "text": [
      "┌ Info: Recompiling stale cache file /home/mforets/.julia/compiled/v1.2/LazySets/NjrGc.ji for LazySets [b4f0291d-fe17-52bc-9479-3d1a343d9043]\n",
      "└ @ Base loading.jl:1240\n"
     ]
    }
   ],
   "source": [
    "using Revise, LazySets, GeometryTypes"
   ]
  },
  {
   "cell_type": "code",
   "execution_count": 2,
   "metadata": {},
   "outputs": [
    {
     "data": {
      "text/plain": [
       "HyperRectangle{2,Float64}([0.0, 0.0], [1.0, 2.0])"
      ]
     },
     "execution_count": 2,
     "metadata": {},
     "output_type": "execute_result"
    }
   ],
   "source": [
    "h = HyperRectangle(Vec(0.0, 0.0), Vec(1.0, 2.0))"
   ]
  },
  {
   "cell_type": "code",
   "execution_count": 3,
   "metadata": {},
   "outputs": [
    {
     "data": {
      "text/plain": [
       "Hyperrectangle{Float64,StaticArrays.SArray{Tuple{2},Float64,1,2},StaticArrays.SArray{Tuple{2},Float64,1,2}}([0.5, 1.0], [0.5, 1.0])"
      ]
     },
     "execution_count": 3,
     "metadata": {},
     "output_type": "execute_result"
    }
   ],
   "source": [
    "z = convert(Hyperrectangle, h)"
   ]
  },
  {
   "cell_type": "code",
   "execution_count": 4,
   "metadata": {},
   "outputs": [
    {
     "data": {
      "text/plain": [
       "HyperRectangle{2,Float64}([0.0, 0.0], [1.0, 2.0])"
      ]
     },
     "execution_count": 4,
     "metadata": {},
     "output_type": "execute_result"
    }
   ],
   "source": [
    "convert(HyperRectangle, z)"
   ]
  },
  {
   "cell_type": "code",
   "execution_count": 5,
   "metadata": {},
   "outputs": [
    {
     "data": {
      "text/plain": [
       "HyperCube{2,Float64}([0.0, 0.0], 2.0)"
      ]
     },
     "execution_count": 5,
     "metadata": {},
     "output_type": "execute_result"
    }
   ],
   "source": [
    "b = HyperCube(Vec(0.0, 0.0), 2.0)"
   ]
  },
  {
   "cell_type": "code",
   "execution_count": 6,
   "metadata": {},
   "outputs": [
    {
     "data": {
      "text/plain": [
       "Hyperrectangle{Float64,StaticArrays.SArray{Tuple{2},Float64,1,2},StaticArrays.SArray{Tuple{2},Float64,1,2}}([1.0, 1.0], [1.0, 1.0])"
      ]
     },
     "execution_count": 6,
     "metadata": {},
     "output_type": "execute_result"
    }
   ],
   "source": [
    "convert(Hyperrectangle, b)"
   ]
  },
  {
   "cell_type": "code",
   "execution_count": 7,
   "metadata": {},
   "outputs": [
    {
     "data": {
      "text/plain": [
       "BallInf{Float64}([1.0, 1.0], 1.0)"
      ]
     },
     "execution_count": 7,
     "metadata": {},
     "output_type": "execute_result"
    }
   ],
   "source": [
    "bi = convert(BallInf, b)"
   ]
  },
  {
   "cell_type": "code",
   "execution_count": 8,
   "metadata": {},
   "outputs": [
    {
     "data": {
      "text/plain": [
       "HyperCube{2,Float64}([0.0, 0.0], 2.0)"
      ]
     },
     "execution_count": 8,
     "metadata": {},
     "output_type": "execute_result"
    }
   ],
   "source": [
    "convert(HyperCube, bi)"
   ]
  },
  {
   "cell_type": "code",
   "execution_count": 9,
   "metadata": {},
   "outputs": [
    {
     "data": {
      "text/plain": [
       "HyperSphere{3,Float64}([1.0, 2.0, 3.0], 0.5)"
      ]
     },
     "execution_count": 9,
     "metadata": {},
     "output_type": "execute_result"
    }
   ],
   "source": [
    "s = HyperSphere(Point(1.0, 2.0, 3.0), 0.5)"
   ]
  },
  {
   "cell_type": "code",
   "execution_count": 10,
   "metadata": {},
   "outputs": [
    {
     "data": {
      "text/plain": [
       "Ball2{Float64}([1.0, 2.0, 3.0], 0.5)"
      ]
     },
     "execution_count": 10,
     "metadata": {},
     "output_type": "execute_result"
    }
   ],
   "source": [
    "b2 = convert(Ball2, s)"
   ]
  },
  {
   "cell_type": "code",
   "execution_count": 11,
   "metadata": {},
   "outputs": [
    {
     "data": {
      "text/plain": [
       "HyperSphere{3,Float64}([1.0, 2.0, 3.0], 0.5)"
      ]
     },
     "execution_count": 11,
     "metadata": {},
     "output_type": "execute_result"
    }
   ],
   "source": [
    "convert(HyperSphere, b2)"
   ]
  },
  {
   "cell_type": "code",
   "execution_count": 12,
   "metadata": {},
   "outputs": [
    {
     "data": {
      "text/plain": [
       "Ball2{Float64}([0.28005938686235204, -0.1359215662654988], 0.3750045828130412)"
      ]
     },
     "execution_count": 12,
     "metadata": {},
     "output_type": "execute_result"
    }
   ],
   "source": [
    "b = rand(Ball2)"
   ]
  },
  {
   "cell_type": "code",
   "execution_count": 13,
   "metadata": {},
   "outputs": [
    {
     "data": {
      "text/plain": [
       "0.3750045828130412"
      ]
     },
     "execution_count": 13,
     "metadata": {},
     "output_type": "execute_result"
    }
   ],
   "source": [
    "LazySets.radius(b)"
   ]
  },
  {
   "cell_type": "code",
   "execution_count": 14,
   "metadata": {},
   "outputs": [
    {
     "data": {
      "text/plain": [
       "convert2 (generic function with 1 method)"
      ]
     },
     "execution_count": 14,
     "metadata": {},
     "output_type": "execute_result"
    }
   ],
   "source": [
    "function convert2(::Type{Ball2}, X::HyperSphere{D, N}) where {D, N}\n",
    "    o = origin(X)\n",
    "    r = GeometryTypes.radius(X)\n",
    "    return Ball2(Vector(o), r) # TODO: add AbstractVector parameter for Ball2's center\n",
    "end"
   ]
  },
  {
   "cell_type": "code",
   "execution_count": 15,
   "metadata": {},
   "outputs": [
    {
     "data": {
      "text/plain": [
       "Ball2{Float64}([1.0, 2.0, 3.0], 0.5)"
      ]
     },
     "execution_count": 15,
     "metadata": {},
     "output_type": "execute_result"
    }
   ],
   "source": [
    "convert2(Ball2, s)"
   ]
  },
  {
   "cell_type": "code",
   "execution_count": 16,
   "metadata": {},
   "outputs": [
    {
     "data": {
      "text/plain": [
       "3-element Point{3,Float64} with indices SOneTo(3):\n",
       " 1.0\n",
       " 2.0\n",
       " 4.0"
      ]
     },
     "execution_count": 16,
     "metadata": {},
     "output_type": "execute_result"
    }
   ],
   "source": [
    "Point(1.0, 2.0, 4.0)"
   ]
  },
  {
   "cell_type": "markdown",
   "metadata": {},
   "source": [
    "## Convex hulls"
   ]
  },
  {
   "cell_type": "code",
   "execution_count": 1,
   "metadata": {},
   "outputs": [],
   "source": [
    "using LazySets, Plots"
   ]
  },
  {
   "cell_type": "code",
   "execution_count": 11,
   "metadata": {},
   "outputs": [],
   "source": [
    "X = [rand(HPolygon) for _ in 1:4];"
   ]
  },
  {
   "cell_type": "code",
   "execution_count": 12,
   "metadata": {},
   "outputs": [
    {
     "data": {
      "image/svg+xml": [
       "<?xml version=\"1.0\" encoding=\"utf-8\"?>\n",
       "<svg xmlns=\"http://www.w3.org/2000/svg\" xmlns:xlink=\"http://www.w3.org/1999/xlink\" width=\"600\" height=\"400\" viewBox=\"0 0 2400 1600\">\n",
       "<defs>\n",
       "  <clipPath id=\"clip0300\">\n",
       "    <rect x=\"0\" y=\"0\" width=\"2400\" height=\"1600\"/>\n",
       "  </clipPath>\n",
       "</defs>\n",
       "<path clip-path=\"url(#clip0300)\" d=\"\n",
       "M0 1600 L2400 1600 L2400 0 L0 0  Z\n",
       "  \" fill=\"#ffffff\" fill-rule=\"evenodd\" fill-opacity=\"1\"/>\n",
       "<defs>\n",
       "  <clipPath id=\"clip0301\">\n",
       "    <rect x=\"480\" y=\"0\" width=\"1681\" height=\"1600\"/>\n",
       "  </clipPath>\n",
       "</defs>\n",
       "<path clip-path=\"url(#clip0300)\" d=\"\n",
       "M141.865 1487.47 L2352.76 1487.47 L2352.76 47.2441 L141.865 47.2441  Z\n",
       "  \" fill=\"#ffffff\" fill-rule=\"evenodd\" fill-opacity=\"1\"/>\n",
       "<defs>\n",
       "  <clipPath id=\"clip0302\">\n",
       "    <rect x=\"141\" y=\"47\" width=\"2212\" height=\"1441\"/>\n",
       "  </clipPath>\n",
       "</defs>\n",
       "<polyline clip-path=\"url(#clip0302)\" style=\"stroke:#000000; stroke-width:1.6; stroke-opacity:0.1; fill:none\" points=\"\n",
       "  332.825,1487.47 332.825,47.2441 \n",
       "  \"/>\n",
       "<polyline clip-path=\"url(#clip0302)\" style=\"stroke:#000000; stroke-width:1.6; stroke-opacity:0.1; fill:none\" points=\"\n",
       "  721.763,1487.47 721.763,47.2441 \n",
       "  \"/>\n",
       "<polyline clip-path=\"url(#clip0302)\" style=\"stroke:#000000; stroke-width:1.6; stroke-opacity:0.1; fill:none\" points=\"\n",
       "  1110.7,1487.47 1110.7,47.2441 \n",
       "  \"/>\n",
       "<polyline clip-path=\"url(#clip0302)\" style=\"stroke:#000000; stroke-width:1.6; stroke-opacity:0.1; fill:none\" points=\"\n",
       "  1499.64,1487.47 1499.64,47.2441 \n",
       "  \"/>\n",
       "<polyline clip-path=\"url(#clip0302)\" style=\"stroke:#000000; stroke-width:1.6; stroke-opacity:0.1; fill:none\" points=\"\n",
       "  1888.58,1487.47 1888.58,47.2441 \n",
       "  \"/>\n",
       "<polyline clip-path=\"url(#clip0302)\" style=\"stroke:#000000; stroke-width:1.6; stroke-opacity:0.1; fill:none\" points=\"\n",
       "  2277.52,1487.47 2277.52,47.2441 \n",
       "  \"/>\n",
       "<polyline clip-path=\"url(#clip0302)\" style=\"stroke:#000000; stroke-width:1.6; stroke-opacity:0.1; fill:none\" points=\"\n",
       "  141.865,1398.86 2352.76,1398.86 \n",
       "  \"/>\n",
       "<polyline clip-path=\"url(#clip0302)\" style=\"stroke:#000000; stroke-width:1.6; stroke-opacity:0.1; fill:none\" points=\"\n",
       "  141.865,1090.39 2352.76,1090.39 \n",
       "  \"/>\n",
       "<polyline clip-path=\"url(#clip0302)\" style=\"stroke:#000000; stroke-width:1.6; stroke-opacity:0.1; fill:none\" points=\"\n",
       "  141.865,781.924 2352.76,781.924 \n",
       "  \"/>\n",
       "<polyline clip-path=\"url(#clip0302)\" style=\"stroke:#000000; stroke-width:1.6; stroke-opacity:0.1; fill:none\" points=\"\n",
       "  141.865,473.457 2352.76,473.457 \n",
       "  \"/>\n",
       "<polyline clip-path=\"url(#clip0302)\" style=\"stroke:#000000; stroke-width:1.6; stroke-opacity:0.1; fill:none\" points=\"\n",
       "  141.865,164.99 2352.76,164.99 \n",
       "  \"/>\n",
       "<polyline clip-path=\"url(#clip0300)\" style=\"stroke:#000000; stroke-width:3.2; stroke-opacity:1; fill:none\" points=\"\n",
       "  141.865,1487.47 2352.76,1487.47 \n",
       "  \"/>\n",
       "<polyline clip-path=\"url(#clip0300)\" style=\"stroke:#000000; stroke-width:3.2; stroke-opacity:1; fill:none\" points=\"\n",
       "  141.865,1487.47 141.865,47.2441 \n",
       "  \"/>\n",
       "<polyline clip-path=\"url(#clip0300)\" style=\"stroke:#000000; stroke-width:3.2; stroke-opacity:1; fill:none\" points=\"\n",
       "  332.825,1487.47 332.825,1465.87 \n",
       "  \"/>\n",
       "<polyline clip-path=\"url(#clip0300)\" style=\"stroke:#000000; stroke-width:3.2; stroke-opacity:1; fill:none\" points=\"\n",
       "  721.763,1487.47 721.763,1465.87 \n",
       "  \"/>\n",
       "<polyline clip-path=\"url(#clip0300)\" style=\"stroke:#000000; stroke-width:3.2; stroke-opacity:1; fill:none\" points=\"\n",
       "  1110.7,1487.47 1110.7,1465.87 \n",
       "  \"/>\n",
       "<polyline clip-path=\"url(#clip0300)\" style=\"stroke:#000000; stroke-width:3.2; stroke-opacity:1; fill:none\" points=\"\n",
       "  1499.64,1487.47 1499.64,1465.87 \n",
       "  \"/>\n",
       "<polyline clip-path=\"url(#clip0300)\" style=\"stroke:#000000; stroke-width:3.2; stroke-opacity:1; fill:none\" points=\"\n",
       "  1888.58,1487.47 1888.58,1465.87 \n",
       "  \"/>\n",
       "<polyline clip-path=\"url(#clip0300)\" style=\"stroke:#000000; stroke-width:3.2; stroke-opacity:1; fill:none\" points=\"\n",
       "  2277.52,1487.47 2277.52,1465.87 \n",
       "  \"/>\n",
       "<polyline clip-path=\"url(#clip0300)\" style=\"stroke:#000000; stroke-width:3.2; stroke-opacity:1; fill:none\" points=\"\n",
       "  141.865,1398.86 175.028,1398.86 \n",
       "  \"/>\n",
       "<polyline clip-path=\"url(#clip0300)\" style=\"stroke:#000000; stroke-width:3.2; stroke-opacity:1; fill:none\" points=\"\n",
       "  141.865,1090.39 175.028,1090.39 \n",
       "  \"/>\n",
       "<polyline clip-path=\"url(#clip0300)\" style=\"stroke:#000000; stroke-width:3.2; stroke-opacity:1; fill:none\" points=\"\n",
       "  141.865,781.924 175.028,781.924 \n",
       "  \"/>\n",
       "<polyline clip-path=\"url(#clip0300)\" style=\"stroke:#000000; stroke-width:3.2; stroke-opacity:1; fill:none\" points=\"\n",
       "  141.865,473.457 175.028,473.457 \n",
       "  \"/>\n",
       "<polyline clip-path=\"url(#clip0300)\" style=\"stroke:#000000; stroke-width:3.2; stroke-opacity:1; fill:none\" points=\"\n",
       "  141.865,164.99 175.028,164.99 \n",
       "  \"/>\n",
       "<g clip-path=\"url(#clip0300)\">\n",
       "<text style=\"fill:#000000; fill-opacity:1; font-family:Arial,Helvetica Neue,Helvetica,sans-serif; font-size:48px; text-anchor:middle;\" transform=\"rotate(0, 332.825, 1541.47)\" x=\"332.825\" y=\"1541.47\">-3</text>\n",
       "</g>\n",
       "<g clip-path=\"url(#clip0300)\">\n",
       "<text style=\"fill:#000000; fill-opacity:1; font-family:Arial,Helvetica Neue,Helvetica,sans-serif; font-size:48px; text-anchor:middle;\" transform=\"rotate(0, 721.763, 1541.47)\" x=\"721.763\" y=\"1541.47\">-2</text>\n",
       "</g>\n",
       "<g clip-path=\"url(#clip0300)\">\n",
       "<text style=\"fill:#000000; fill-opacity:1; font-family:Arial,Helvetica Neue,Helvetica,sans-serif; font-size:48px; text-anchor:middle;\" transform=\"rotate(0, 1110.7, 1541.47)\" x=\"1110.7\" y=\"1541.47\">-1</text>\n",
       "</g>\n",
       "<g clip-path=\"url(#clip0300)\">\n",
       "<text style=\"fill:#000000; fill-opacity:1; font-family:Arial,Helvetica Neue,Helvetica,sans-serif; font-size:48px; text-anchor:middle;\" transform=\"rotate(0, 1499.64, 1541.47)\" x=\"1499.64\" y=\"1541.47\">0</text>\n",
       "</g>\n",
       "<g clip-path=\"url(#clip0300)\">\n",
       "<text style=\"fill:#000000; fill-opacity:1; font-family:Arial,Helvetica Neue,Helvetica,sans-serif; font-size:48px; text-anchor:middle;\" transform=\"rotate(0, 1888.58, 1541.47)\" x=\"1888.58\" y=\"1541.47\">1</text>\n",
       "</g>\n",
       "<g clip-path=\"url(#clip0300)\">\n",
       "<text style=\"fill:#000000; fill-opacity:1; font-family:Arial,Helvetica Neue,Helvetica,sans-serif; font-size:48px; text-anchor:middle;\" transform=\"rotate(0, 2277.52, 1541.47)\" x=\"2277.52\" y=\"1541.47\">2</text>\n",
       "</g>\n",
       "<g clip-path=\"url(#clip0300)\">\n",
       "<text style=\"fill:#000000; fill-opacity:1; font-family:Arial,Helvetica Neue,Helvetica,sans-serif; font-size:48px; text-anchor:end;\" transform=\"rotate(0, 117.865, 1416.36)\" x=\"117.865\" y=\"1416.36\">-1</text>\n",
       "</g>\n",
       "<g clip-path=\"url(#clip0300)\">\n",
       "<text style=\"fill:#000000; fill-opacity:1; font-family:Arial,Helvetica Neue,Helvetica,sans-serif; font-size:48px; text-anchor:end;\" transform=\"rotate(0, 117.865, 1107.89)\" x=\"117.865\" y=\"1107.89\">0</text>\n",
       "</g>\n",
       "<g clip-path=\"url(#clip0300)\">\n",
       "<text style=\"fill:#000000; fill-opacity:1; font-family:Arial,Helvetica Neue,Helvetica,sans-serif; font-size:48px; text-anchor:end;\" transform=\"rotate(0, 117.865, 799.424)\" x=\"117.865\" y=\"799.424\">1</text>\n",
       "</g>\n",
       "<g clip-path=\"url(#clip0300)\">\n",
       "<text style=\"fill:#000000; fill-opacity:1; font-family:Arial,Helvetica Neue,Helvetica,sans-serif; font-size:48px; text-anchor:end;\" transform=\"rotate(0, 117.865, 490.957)\" x=\"117.865\" y=\"490.957\">2</text>\n",
       "</g>\n",
       "<g clip-path=\"url(#clip0300)\">\n",
       "<text style=\"fill:#000000; fill-opacity:1; font-family:Arial,Helvetica Neue,Helvetica,sans-serif; font-size:48px; text-anchor:end;\" transform=\"rotate(0, 117.865, 182.49)\" x=\"117.865\" y=\"182.49\">3</text>\n",
       "</g>\n",
       "<path clip-path=\"url(#clip0302)\" d=\"\n",
       "M1233.86 262.646 L1334.66 871.424 L1715.93 1446.71 L1233.86 262.646 L1233.86 262.646  Z\n",
       "  \" fill=\"#009af9\" fill-rule=\"evenodd\" fill-opacity=\"0.5\"/>\n",
       "<polyline clip-path=\"url(#clip0302)\" style=\"stroke:#000000; stroke-width:3.2; stroke-opacity:0.5; fill:none\" points=\"\n",
       "  1233.86,262.646 1334.66,871.424 1715.93,1446.71 1233.86,262.646 \n",
       "  \"/>\n",
       "<path clip-path=\"url(#clip0302)\" d=\"\n",
       "M2032.21 682.348 L1632.24 763.449 L1830.87 983.272 L2290.18 638.961 L2032.21 682.348 L2032.21 682.348  Z\n",
       "  \" fill=\"#e26f46\" fill-rule=\"evenodd\" fill-opacity=\"0.5\"/>\n",
       "<polyline clip-path=\"url(#clip0302)\" style=\"stroke:#000000; stroke-width:3.2; stroke-opacity:0.5; fill:none\" points=\"\n",
       "  2032.21,682.348 1632.24,763.449 1830.87,983.272 2290.18,638.961 2032.21,682.348 \n",
       "  \"/>\n",
       "<path clip-path=\"url(#clip0302)\" d=\"\n",
       "M990.286 243.284 L1431.16 510.61 L1704.45 424.728 L1536.8 93.8789 L1363.42 88.0053 L1059.95 116.195 L990.286 243.284 L990.286 243.284  Z\n",
       "  \" fill=\"#3da44d\" fill-rule=\"evenodd\" fill-opacity=\"0.5\"/>\n",
       "<polyline clip-path=\"url(#clip0302)\" style=\"stroke:#000000; stroke-width:3.2; stroke-opacity:0.5; fill:none\" points=\"\n",
       "  990.286,243.284 1431.16,510.61 1704.45,424.728 1536.8,93.8789 1363.42,88.0053 1059.95,116.195 990.286,243.284 \n",
       "  \"/>\n",
       "<path clip-path=\"url(#clip0302)\" d=\"\n",
       "M204.437 549.852 L964.032 730.853 L1257.42 516.183 L1354.17 415.578 L395.311 380.486 L204.437 549.852 L204.437 549.852  Z\n",
       "  \" fill=\"#c271d2\" fill-rule=\"evenodd\" fill-opacity=\"0.5\"/>\n",
       "<polyline clip-path=\"url(#clip0302)\" style=\"stroke:#000000; stroke-width:3.2; stroke-opacity:0.5; fill:none\" points=\"\n",
       "  204.437,549.852 964.032,730.853 1257.42,516.183 1354.17,415.578 395.311,380.486 204.437,549.852 \n",
       "  \"/>\n",
       "</svg>\n"
      ]
     },
     "execution_count": 12,
     "metadata": {},
     "output_type": "execute_result"
    }
   ],
   "source": [
    "plot(X)"
   ]
  },
  {
   "cell_type": "code",
   "execution_count": 13,
   "metadata": {},
   "outputs": [
    {
     "data": {
      "image/svg+xml": [
       "<?xml version=\"1.0\" encoding=\"utf-8\"?>\n",
       "<svg xmlns=\"http://www.w3.org/2000/svg\" xmlns:xlink=\"http://www.w3.org/1999/xlink\" width=\"600\" height=\"400\" viewBox=\"0 0 2400 1600\">\n",
       "<defs>\n",
       "  <clipPath id=\"clip0700\">\n",
       "    <rect x=\"0\" y=\"0\" width=\"2400\" height=\"1600\"/>\n",
       "  </clipPath>\n",
       "</defs>\n",
       "<path clip-path=\"url(#clip0700)\" d=\"\n",
       "M0 1600 L2400 1600 L2400 0 L0 0  Z\n",
       "  \" fill=\"#ffffff\" fill-rule=\"evenodd\" fill-opacity=\"1\"/>\n",
       "<defs>\n",
       "  <clipPath id=\"clip0701\">\n",
       "    <rect x=\"480\" y=\"0\" width=\"1681\" height=\"1600\"/>\n",
       "  </clipPath>\n",
       "</defs>\n",
       "<path clip-path=\"url(#clip0700)\" d=\"\n",
       "M141.865 1487.47 L2352.76 1487.47 L2352.76 47.2441 L141.865 47.2441  Z\n",
       "  \" fill=\"#ffffff\" fill-rule=\"evenodd\" fill-opacity=\"1\"/>\n",
       "<defs>\n",
       "  <clipPath id=\"clip0702\">\n",
       "    <rect x=\"141\" y=\"47\" width=\"2212\" height=\"1441\"/>\n",
       "  </clipPath>\n",
       "</defs>\n",
       "<polyline clip-path=\"url(#clip0702)\" style=\"stroke:#000000; stroke-width:1.6; stroke-opacity:0.1; fill:none\" points=\"\n",
       "  332.825,1487.47 332.825,47.2441 \n",
       "  \"/>\n",
       "<polyline clip-path=\"url(#clip0702)\" style=\"stroke:#000000; stroke-width:1.6; stroke-opacity:0.1; fill:none\" points=\"\n",
       "  721.763,1487.47 721.763,47.2441 \n",
       "  \"/>\n",
       "<polyline clip-path=\"url(#clip0702)\" style=\"stroke:#000000; stroke-width:1.6; stroke-opacity:0.1; fill:none\" points=\"\n",
       "  1110.7,1487.47 1110.7,47.2441 \n",
       "  \"/>\n",
       "<polyline clip-path=\"url(#clip0702)\" style=\"stroke:#000000; stroke-width:1.6; stroke-opacity:0.1; fill:none\" points=\"\n",
       "  1499.64,1487.47 1499.64,47.2441 \n",
       "  \"/>\n",
       "<polyline clip-path=\"url(#clip0702)\" style=\"stroke:#000000; stroke-width:1.6; stroke-opacity:0.1; fill:none\" points=\"\n",
       "  1888.58,1487.47 1888.58,47.2441 \n",
       "  \"/>\n",
       "<polyline clip-path=\"url(#clip0702)\" style=\"stroke:#000000; stroke-width:1.6; stroke-opacity:0.1; fill:none\" points=\"\n",
       "  2277.52,1487.47 2277.52,47.2441 \n",
       "  \"/>\n",
       "<polyline clip-path=\"url(#clip0702)\" style=\"stroke:#000000; stroke-width:1.6; stroke-opacity:0.1; fill:none\" points=\"\n",
       "  141.865,1398.86 2352.76,1398.86 \n",
       "  \"/>\n",
       "<polyline clip-path=\"url(#clip0702)\" style=\"stroke:#000000; stroke-width:1.6; stroke-opacity:0.1; fill:none\" points=\"\n",
       "  141.865,1090.39 2352.76,1090.39 \n",
       "  \"/>\n",
       "<polyline clip-path=\"url(#clip0702)\" style=\"stroke:#000000; stroke-width:1.6; stroke-opacity:0.1; fill:none\" points=\"\n",
       "  141.865,781.924 2352.76,781.924 \n",
       "  \"/>\n",
       "<polyline clip-path=\"url(#clip0702)\" style=\"stroke:#000000; stroke-width:1.6; stroke-opacity:0.1; fill:none\" points=\"\n",
       "  141.865,473.457 2352.76,473.457 \n",
       "  \"/>\n",
       "<polyline clip-path=\"url(#clip0702)\" style=\"stroke:#000000; stroke-width:1.6; stroke-opacity:0.1; fill:none\" points=\"\n",
       "  141.865,164.99 2352.76,164.99 \n",
       "  \"/>\n",
       "<polyline clip-path=\"url(#clip0700)\" style=\"stroke:#000000; stroke-width:3.2; stroke-opacity:1; fill:none\" points=\"\n",
       "  141.865,1487.47 2352.76,1487.47 \n",
       "  \"/>\n",
       "<polyline clip-path=\"url(#clip0700)\" style=\"stroke:#000000; stroke-width:3.2; stroke-opacity:1; fill:none\" points=\"\n",
       "  141.865,1487.47 141.865,47.2441 \n",
       "  \"/>\n",
       "<polyline clip-path=\"url(#clip0700)\" style=\"stroke:#000000; stroke-width:3.2; stroke-opacity:1; fill:none\" points=\"\n",
       "  332.825,1487.47 332.825,1465.87 \n",
       "  \"/>\n",
       "<polyline clip-path=\"url(#clip0700)\" style=\"stroke:#000000; stroke-width:3.2; stroke-opacity:1; fill:none\" points=\"\n",
       "  721.763,1487.47 721.763,1465.87 \n",
       "  \"/>\n",
       "<polyline clip-path=\"url(#clip0700)\" style=\"stroke:#000000; stroke-width:3.2; stroke-opacity:1; fill:none\" points=\"\n",
       "  1110.7,1487.47 1110.7,1465.87 \n",
       "  \"/>\n",
       "<polyline clip-path=\"url(#clip0700)\" style=\"stroke:#000000; stroke-width:3.2; stroke-opacity:1; fill:none\" points=\"\n",
       "  1499.64,1487.47 1499.64,1465.87 \n",
       "  \"/>\n",
       "<polyline clip-path=\"url(#clip0700)\" style=\"stroke:#000000; stroke-width:3.2; stroke-opacity:1; fill:none\" points=\"\n",
       "  1888.58,1487.47 1888.58,1465.87 \n",
       "  \"/>\n",
       "<polyline clip-path=\"url(#clip0700)\" style=\"stroke:#000000; stroke-width:3.2; stroke-opacity:1; fill:none\" points=\"\n",
       "  2277.52,1487.47 2277.52,1465.87 \n",
       "  \"/>\n",
       "<polyline clip-path=\"url(#clip0700)\" style=\"stroke:#000000; stroke-width:3.2; stroke-opacity:1; fill:none\" points=\"\n",
       "  141.865,1398.86 175.028,1398.86 \n",
       "  \"/>\n",
       "<polyline clip-path=\"url(#clip0700)\" style=\"stroke:#000000; stroke-width:3.2; stroke-opacity:1; fill:none\" points=\"\n",
       "  141.865,1090.39 175.028,1090.39 \n",
       "  \"/>\n",
       "<polyline clip-path=\"url(#clip0700)\" style=\"stroke:#000000; stroke-width:3.2; stroke-opacity:1; fill:none\" points=\"\n",
       "  141.865,781.924 175.028,781.924 \n",
       "  \"/>\n",
       "<polyline clip-path=\"url(#clip0700)\" style=\"stroke:#000000; stroke-width:3.2; stroke-opacity:1; fill:none\" points=\"\n",
       "  141.865,473.457 175.028,473.457 \n",
       "  \"/>\n",
       "<polyline clip-path=\"url(#clip0700)\" style=\"stroke:#000000; stroke-width:3.2; stroke-opacity:1; fill:none\" points=\"\n",
       "  141.865,164.99 175.028,164.99 \n",
       "  \"/>\n",
       "<g clip-path=\"url(#clip0700)\">\n",
       "<text style=\"fill:#000000; fill-opacity:1; font-family:Arial,Helvetica Neue,Helvetica,sans-serif; font-size:48px; text-anchor:middle;\" transform=\"rotate(0, 332.825, 1541.47)\" x=\"332.825\" y=\"1541.47\">-3</text>\n",
       "</g>\n",
       "<g clip-path=\"url(#clip0700)\">\n",
       "<text style=\"fill:#000000; fill-opacity:1; font-family:Arial,Helvetica Neue,Helvetica,sans-serif; font-size:48px; text-anchor:middle;\" transform=\"rotate(0, 721.763, 1541.47)\" x=\"721.763\" y=\"1541.47\">-2</text>\n",
       "</g>\n",
       "<g clip-path=\"url(#clip0700)\">\n",
       "<text style=\"fill:#000000; fill-opacity:1; font-family:Arial,Helvetica Neue,Helvetica,sans-serif; font-size:48px; text-anchor:middle;\" transform=\"rotate(0, 1110.7, 1541.47)\" x=\"1110.7\" y=\"1541.47\">-1</text>\n",
       "</g>\n",
       "<g clip-path=\"url(#clip0700)\">\n",
       "<text style=\"fill:#000000; fill-opacity:1; font-family:Arial,Helvetica Neue,Helvetica,sans-serif; font-size:48px; text-anchor:middle;\" transform=\"rotate(0, 1499.64, 1541.47)\" x=\"1499.64\" y=\"1541.47\">0</text>\n",
       "</g>\n",
       "<g clip-path=\"url(#clip0700)\">\n",
       "<text style=\"fill:#000000; fill-opacity:1; font-family:Arial,Helvetica Neue,Helvetica,sans-serif; font-size:48px; text-anchor:middle;\" transform=\"rotate(0, 1888.58, 1541.47)\" x=\"1888.58\" y=\"1541.47\">1</text>\n",
       "</g>\n",
       "<g clip-path=\"url(#clip0700)\">\n",
       "<text style=\"fill:#000000; fill-opacity:1; font-family:Arial,Helvetica Neue,Helvetica,sans-serif; font-size:48px; text-anchor:middle;\" transform=\"rotate(0, 2277.52, 1541.47)\" x=\"2277.52\" y=\"1541.47\">2</text>\n",
       "</g>\n",
       "<g clip-path=\"url(#clip0700)\">\n",
       "<text style=\"fill:#000000; fill-opacity:1; font-family:Arial,Helvetica Neue,Helvetica,sans-serif; font-size:48px; text-anchor:end;\" transform=\"rotate(0, 117.865, 1416.36)\" x=\"117.865\" y=\"1416.36\">-1</text>\n",
       "</g>\n",
       "<g clip-path=\"url(#clip0700)\">\n",
       "<text style=\"fill:#000000; fill-opacity:1; font-family:Arial,Helvetica Neue,Helvetica,sans-serif; font-size:48px; text-anchor:end;\" transform=\"rotate(0, 117.865, 1107.89)\" x=\"117.865\" y=\"1107.89\">0</text>\n",
       "</g>\n",
       "<g clip-path=\"url(#clip0700)\">\n",
       "<text style=\"fill:#000000; fill-opacity:1; font-family:Arial,Helvetica Neue,Helvetica,sans-serif; font-size:48px; text-anchor:end;\" transform=\"rotate(0, 117.865, 799.424)\" x=\"117.865\" y=\"799.424\">1</text>\n",
       "</g>\n",
       "<g clip-path=\"url(#clip0700)\">\n",
       "<text style=\"fill:#000000; fill-opacity:1; font-family:Arial,Helvetica Neue,Helvetica,sans-serif; font-size:48px; text-anchor:end;\" transform=\"rotate(0, 117.865, 490.957)\" x=\"117.865\" y=\"490.957\">2</text>\n",
       "</g>\n",
       "<g clip-path=\"url(#clip0700)\">\n",
       "<text style=\"fill:#000000; fill-opacity:1; font-family:Arial,Helvetica Neue,Helvetica,sans-serif; font-size:48px; text-anchor:end;\" transform=\"rotate(0, 117.865, 182.49)\" x=\"117.865\" y=\"182.49\">3</text>\n",
       "</g>\n",
       "<path clip-path=\"url(#clip0702)\" d=\"\n",
       "M1233.86 262.646 L1334.66 871.424 L1715.93 1446.71 L1233.86 262.646 L1233.86 262.646  Z\n",
       "  \" fill=\"#009af9\" fill-rule=\"evenodd\" fill-opacity=\"0.5\"/>\n",
       "<polyline clip-path=\"url(#clip0702)\" style=\"stroke:#000000; stroke-width:3.2; stroke-opacity:0.5; fill:none\" points=\"\n",
       "  1233.86,262.646 1334.66,871.424 1715.93,1446.71 1233.86,262.646 \n",
       "  \"/>\n",
       "<path clip-path=\"url(#clip0702)\" d=\"\n",
       "M2032.21 682.348 L1632.24 763.449 L1830.87 983.272 L2290.18 638.961 L2032.21 682.348 L2032.21 682.348  Z\n",
       "  \" fill=\"#e26f46\" fill-rule=\"evenodd\" fill-opacity=\"0.5\"/>\n",
       "<polyline clip-path=\"url(#clip0702)\" style=\"stroke:#000000; stroke-width:3.2; stroke-opacity:0.5; fill:none\" points=\"\n",
       "  2032.21,682.348 1632.24,763.449 1830.87,983.272 2290.18,638.961 2032.21,682.348 \n",
       "  \"/>\n",
       "<path clip-path=\"url(#clip0702)\" d=\"\n",
       "M990.286 243.284 L1431.16 510.61 L1704.45 424.728 L1536.8 93.8789 L1363.42 88.0053 L1059.95 116.195 L990.286 243.284 L990.286 243.284  Z\n",
       "  \" fill=\"#3da44d\" fill-rule=\"evenodd\" fill-opacity=\"0.5\"/>\n",
       "<polyline clip-path=\"url(#clip0702)\" style=\"stroke:#000000; stroke-width:3.2; stroke-opacity:0.5; fill:none\" points=\"\n",
       "  990.286,243.284 1431.16,510.61 1704.45,424.728 1536.8,93.8789 1363.42,88.0053 1059.95,116.195 990.286,243.284 \n",
       "  \"/>\n",
       "<path clip-path=\"url(#clip0702)\" d=\"\n",
       "M204.437 549.852 L964.032 730.853 L1257.42 516.183 L1354.17 415.578 L395.311 380.486 L204.437 549.852 L204.437 549.852  Z\n",
       "  \" fill=\"#c271d2\" fill-rule=\"evenodd\" fill-opacity=\"0.5\"/>\n",
       "<polyline clip-path=\"url(#clip0702)\" style=\"stroke:#000000; stroke-width:3.2; stroke-opacity:0.5; fill:none\" points=\"\n",
       "  204.437,549.852 964.032,730.853 1257.42,516.183 1354.17,415.578 395.311,380.486 204.437,549.852 \n",
       "  \"/>\n",
       "<path clip-path=\"url(#clip0702)\" d=\"\n",
       "M204.437 549.852 L1715.93 1446.71 L2290.18 638.961 L1536.8 93.8789 L1363.42 88.0053 L1363.42 88.0053 L1059.95 116.195 L1059.95 116.195 L395.311 380.486 L395.311 380.486 \n",
       "  L204.437 549.852 L204.437 549.852  Z\n",
       "  \" fill=\"#ac8d18\" fill-rule=\"evenodd\" fill-opacity=\"0.3\"/>\n",
       "<polyline clip-path=\"url(#clip0702)\" style=\"stroke:#000000; stroke-width:3.2; stroke-opacity:0.3; fill:none\" points=\"\n",
       "  204.437,549.852 1715.93,1446.71 2290.18,638.961 1536.8,93.8789 1363.42,88.0053 1363.42,88.0053 1059.95,116.195 1059.95,116.195 395.311,380.486 395.311,380.486 \n",
       "  204.437,549.852 \n",
       "  \"/>\n",
       "</svg>\n"
      ]
     },
     "execution_count": 13,
     "metadata": {},
     "output_type": "execute_result"
    }
   ],
   "source": [
    "plot!(ConvexHullArray(X), alpha=.3)"
   ]
  },
  {
   "cell_type": "code",
   "execution_count": 15,
   "metadata": {},
   "outputs": [
    {
     "data": {
      "image/svg+xml": [
       "<?xml version=\"1.0\" encoding=\"utf-8\"?>\n",
       "<svg xmlns=\"http://www.w3.org/2000/svg\" xmlns:xlink=\"http://www.w3.org/1999/xlink\" width=\"600\" height=\"400\" viewBox=\"0 0 2400 1600\">\n",
       "<defs>\n",
       "  <clipPath id=\"clip1500\">\n",
       "    <rect x=\"0\" y=\"0\" width=\"2400\" height=\"1600\"/>\n",
       "  </clipPath>\n",
       "</defs>\n",
       "<path clip-path=\"url(#clip1500)\" d=\"\n",
       "M0 1600 L2400 1600 L2400 0 L0 0  Z\n",
       "  \" fill=\"#ffffff\" fill-rule=\"evenodd\" fill-opacity=\"1\"/>\n",
       "<defs>\n",
       "  <clipPath id=\"clip1501\">\n",
       "    <rect x=\"480\" y=\"0\" width=\"1681\" height=\"1600\"/>\n",
       "  </clipPath>\n",
       "</defs>\n",
       "<path clip-path=\"url(#clip1500)\" d=\"\n",
       "M141.865 1487.47 L2352.76 1487.47 L2352.76 47.2441 L141.865 47.2441  Z\n",
       "  \" fill=\"#ffffff\" fill-rule=\"evenodd\" fill-opacity=\"1\"/>\n",
       "<defs>\n",
       "  <clipPath id=\"clip1502\">\n",
       "    <rect x=\"141\" y=\"47\" width=\"2212\" height=\"1441\"/>\n",
       "  </clipPath>\n",
       "</defs>\n",
       "<polyline clip-path=\"url(#clip1502)\" style=\"stroke:#000000; stroke-width:1.6; stroke-opacity:0.1; fill:none\" points=\"\n",
       "  345.237,1487.47 345.237,47.2441 \n",
       "  \"/>\n",
       "<polyline clip-path=\"url(#clip1502)\" style=\"stroke:#000000; stroke-width:1.6; stroke-opacity:0.1; fill:none\" points=\"\n",
       "  729.223,1487.47 729.223,47.2441 \n",
       "  \"/>\n",
       "<polyline clip-path=\"url(#clip1502)\" style=\"stroke:#000000; stroke-width:1.6; stroke-opacity:0.1; fill:none\" points=\"\n",
       "  1113.21,1487.47 1113.21,47.2441 \n",
       "  \"/>\n",
       "<polyline clip-path=\"url(#clip1502)\" style=\"stroke:#000000; stroke-width:1.6; stroke-opacity:0.1; fill:none\" points=\"\n",
       "  1497.2,1487.47 1497.2,47.2441 \n",
       "  \"/>\n",
       "<polyline clip-path=\"url(#clip1502)\" style=\"stroke:#000000; stroke-width:1.6; stroke-opacity:0.1; fill:none\" points=\"\n",
       "  1881.18,1487.47 1881.18,47.2441 \n",
       "  \"/>\n",
       "<polyline clip-path=\"url(#clip1502)\" style=\"stroke:#000000; stroke-width:1.6; stroke-opacity:0.1; fill:none\" points=\"\n",
       "  2265.17,1487.47 2265.17,47.2441 \n",
       "  \"/>\n",
       "<polyline clip-path=\"url(#clip1502)\" style=\"stroke:#000000; stroke-width:1.6; stroke-opacity:0.1; fill:none\" points=\"\n",
       "  141.865,1391.8 2352.76,1391.8 \n",
       "  \"/>\n",
       "<polyline clip-path=\"url(#clip1502)\" style=\"stroke:#000000; stroke-width:1.6; stroke-opacity:0.1; fill:none\" points=\"\n",
       "  141.865,1037.84 2352.76,1037.84 \n",
       "  \"/>\n",
       "<polyline clip-path=\"url(#clip1502)\" style=\"stroke:#000000; stroke-width:1.6; stroke-opacity:0.1; fill:none\" points=\"\n",
       "  141.865,683.873 2352.76,683.873 \n",
       "  \"/>\n",
       "<polyline clip-path=\"url(#clip1502)\" style=\"stroke:#000000; stroke-width:1.6; stroke-opacity:0.1; fill:none\" points=\"\n",
       "  141.865,329.909 2352.76,329.909 \n",
       "  \"/>\n",
       "<polyline clip-path=\"url(#clip1500)\" style=\"stroke:#000000; stroke-width:3.2; stroke-opacity:1; fill:none\" points=\"\n",
       "  141.865,1487.47 2352.76,1487.47 \n",
       "  \"/>\n",
       "<polyline clip-path=\"url(#clip1500)\" style=\"stroke:#000000; stroke-width:3.2; stroke-opacity:1; fill:none\" points=\"\n",
       "  141.865,1487.47 141.865,47.2441 \n",
       "  \"/>\n",
       "<polyline clip-path=\"url(#clip1500)\" style=\"stroke:#000000; stroke-width:3.2; stroke-opacity:1; fill:none\" points=\"\n",
       "  345.237,1487.47 345.237,1465.87 \n",
       "  \"/>\n",
       "<polyline clip-path=\"url(#clip1500)\" style=\"stroke:#000000; stroke-width:3.2; stroke-opacity:1; fill:none\" points=\"\n",
       "  729.223,1487.47 729.223,1465.87 \n",
       "  \"/>\n",
       "<polyline clip-path=\"url(#clip1500)\" style=\"stroke:#000000; stroke-width:3.2; stroke-opacity:1; fill:none\" points=\"\n",
       "  1113.21,1487.47 1113.21,1465.87 \n",
       "  \"/>\n",
       "<polyline clip-path=\"url(#clip1500)\" style=\"stroke:#000000; stroke-width:3.2; stroke-opacity:1; fill:none\" points=\"\n",
       "  1497.2,1487.47 1497.2,1465.87 \n",
       "  \"/>\n",
       "<polyline clip-path=\"url(#clip1500)\" style=\"stroke:#000000; stroke-width:3.2; stroke-opacity:1; fill:none\" points=\"\n",
       "  1881.18,1487.47 1881.18,1465.87 \n",
       "  \"/>\n",
       "<polyline clip-path=\"url(#clip1500)\" style=\"stroke:#000000; stroke-width:3.2; stroke-opacity:1; fill:none\" points=\"\n",
       "  2265.17,1487.47 2265.17,1465.87 \n",
       "  \"/>\n",
       "<polyline clip-path=\"url(#clip1500)\" style=\"stroke:#000000; stroke-width:3.2; stroke-opacity:1; fill:none\" points=\"\n",
       "  141.865,1391.8 175.028,1391.8 \n",
       "  \"/>\n",
       "<polyline clip-path=\"url(#clip1500)\" style=\"stroke:#000000; stroke-width:3.2; stroke-opacity:1; fill:none\" points=\"\n",
       "  141.865,1037.84 175.028,1037.84 \n",
       "  \"/>\n",
       "<polyline clip-path=\"url(#clip1500)\" style=\"stroke:#000000; stroke-width:3.2; stroke-opacity:1; fill:none\" points=\"\n",
       "  141.865,683.873 175.028,683.873 \n",
       "  \"/>\n",
       "<polyline clip-path=\"url(#clip1500)\" style=\"stroke:#000000; stroke-width:3.2; stroke-opacity:1; fill:none\" points=\"\n",
       "  141.865,329.909 175.028,329.909 \n",
       "  \"/>\n",
       "<g clip-path=\"url(#clip1500)\">\n",
       "<text style=\"fill:#000000; fill-opacity:1; font-family:Arial,Helvetica Neue,Helvetica,sans-serif; font-size:48px; text-anchor:middle;\" transform=\"rotate(0, 345.237, 1541.47)\" x=\"345.237\" y=\"1541.47\">-0.5</text>\n",
       "</g>\n",
       "<g clip-path=\"url(#clip1500)\">\n",
       "<text style=\"fill:#000000; fill-opacity:1; font-family:Arial,Helvetica Neue,Helvetica,sans-serif; font-size:48px; text-anchor:middle;\" transform=\"rotate(0, 729.223, 1541.47)\" x=\"729.223\" y=\"1541.47\">0.0</text>\n",
       "</g>\n",
       "<g clip-path=\"url(#clip1500)\">\n",
       "<text style=\"fill:#000000; fill-opacity:1; font-family:Arial,Helvetica Neue,Helvetica,sans-serif; font-size:48px; text-anchor:middle;\" transform=\"rotate(0, 1113.21, 1541.47)\" x=\"1113.21\" y=\"1541.47\">0.5</text>\n",
       "</g>\n",
       "<g clip-path=\"url(#clip1500)\">\n",
       "<text style=\"fill:#000000; fill-opacity:1; font-family:Arial,Helvetica Neue,Helvetica,sans-serif; font-size:48px; text-anchor:middle;\" transform=\"rotate(0, 1497.2, 1541.47)\" x=\"1497.2\" y=\"1541.47\">1.0</text>\n",
       "</g>\n",
       "<g clip-path=\"url(#clip1500)\">\n",
       "<text style=\"fill:#000000; fill-opacity:1; font-family:Arial,Helvetica Neue,Helvetica,sans-serif; font-size:48px; text-anchor:middle;\" transform=\"rotate(0, 1881.18, 1541.47)\" x=\"1881.18\" y=\"1541.47\">1.5</text>\n",
       "</g>\n",
       "<g clip-path=\"url(#clip1500)\">\n",
       "<text style=\"fill:#000000; fill-opacity:1; font-family:Arial,Helvetica Neue,Helvetica,sans-serif; font-size:48px; text-anchor:middle;\" transform=\"rotate(0, 2265.17, 1541.47)\" x=\"2265.17\" y=\"1541.47\">2.0</text>\n",
       "</g>\n",
       "<g clip-path=\"url(#clip1500)\">\n",
       "<text style=\"fill:#000000; fill-opacity:1; font-family:Arial,Helvetica Neue,Helvetica,sans-serif; font-size:48px; text-anchor:end;\" transform=\"rotate(0, 117.865, 1409.3)\" x=\"117.865\" y=\"1409.3\">-1</text>\n",
       "</g>\n",
       "<g clip-path=\"url(#clip1500)\">\n",
       "<text style=\"fill:#000000; fill-opacity:1; font-family:Arial,Helvetica Neue,Helvetica,sans-serif; font-size:48px; text-anchor:end;\" transform=\"rotate(0, 117.865, 1055.34)\" x=\"117.865\" y=\"1055.34\">0</text>\n",
       "</g>\n",
       "<g clip-path=\"url(#clip1500)\">\n",
       "<text style=\"fill:#000000; fill-opacity:1; font-family:Arial,Helvetica Neue,Helvetica,sans-serif; font-size:48px; text-anchor:end;\" transform=\"rotate(0, 117.865, 701.373)\" x=\"117.865\" y=\"701.373\">1</text>\n",
       "</g>\n",
       "<g clip-path=\"url(#clip1500)\">\n",
       "<text style=\"fill:#000000; fill-opacity:1; font-family:Arial,Helvetica Neue,Helvetica,sans-serif; font-size:48px; text-anchor:end;\" transform=\"rotate(0, 117.865, 347.409)\" x=\"117.865\" y=\"347.409\">2</text>\n",
       "</g>\n",
       "<path clip-path=\"url(#clip1502)\" d=\"\n",
       "M204.437 88.0053 L403.461 786.573 L1156.3 1446.71 L2290.18 519.824 L204.437 88.0053 L204.437 88.0053  Z\n",
       "  \" fill=\"#009af9\" fill-rule=\"evenodd\" fill-opacity=\"0.3\"/>\n",
       "<polyline clip-path=\"url(#clip1502)\" style=\"stroke:#000000; stroke-width:3.2; stroke-opacity:0.3; fill:none\" points=\"\n",
       "  204.437,88.0053 403.461,786.573 1156.3,1446.71 2290.18,519.824 204.437,88.0053 \n",
       "  \"/>\n",
       "</svg>\n"
      ]
     },
     "execution_count": 15,
     "metadata": {},
     "output_type": "execute_result"
    }
   ],
   "source": [
    "plot(CH(X[1], X[2]), alpha=.3)"
   ]
  },
  {
   "cell_type": "code",
   "execution_count": 16,
   "metadata": {},
   "outputs": [
    {
     "data": {
      "image/svg+xml": [
       "<?xml version=\"1.0\" encoding=\"utf-8\"?>\n",
       "<svg xmlns=\"http://www.w3.org/2000/svg\" xmlns:xlink=\"http://www.w3.org/1999/xlink\" width=\"600\" height=\"400\" viewBox=\"0 0 2400 1600\">\n",
       "<defs>\n",
       "  <clipPath id=\"clip1900\">\n",
       "    <rect x=\"0\" y=\"0\" width=\"2400\" height=\"1600\"/>\n",
       "  </clipPath>\n",
       "</defs>\n",
       "<path clip-path=\"url(#clip1900)\" d=\"\n",
       "M0 1600 L2400 1600 L2400 0 L0 0  Z\n",
       "  \" fill=\"#ffffff\" fill-rule=\"evenodd\" fill-opacity=\"1\"/>\n",
       "<defs>\n",
       "  <clipPath id=\"clip1901\">\n",
       "    <rect x=\"480\" y=\"0\" width=\"1681\" height=\"1600\"/>\n",
       "  </clipPath>\n",
       "</defs>\n",
       "<path clip-path=\"url(#clip1900)\" d=\"\n",
       "M141.865 1487.47 L2352.76 1487.47 L2352.76 47.2441 L141.865 47.2441  Z\n",
       "  \" fill=\"#ffffff\" fill-rule=\"evenodd\" fill-opacity=\"1\"/>\n",
       "<defs>\n",
       "  <clipPath id=\"clip1902\">\n",
       "    <rect x=\"141\" y=\"47\" width=\"2212\" height=\"1441\"/>\n",
       "  </clipPath>\n",
       "</defs>\n",
       "<polyline clip-path=\"url(#clip1902)\" style=\"stroke:#000000; stroke-width:1.6; stroke-opacity:0.1; fill:none\" points=\"\n",
       "  332.825,1487.47 332.825,47.2441 \n",
       "  \"/>\n",
       "<polyline clip-path=\"url(#clip1902)\" style=\"stroke:#000000; stroke-width:1.6; stroke-opacity:0.1; fill:none\" points=\"\n",
       "  721.763,1487.47 721.763,47.2441 \n",
       "  \"/>\n",
       "<polyline clip-path=\"url(#clip1902)\" style=\"stroke:#000000; stroke-width:1.6; stroke-opacity:0.1; fill:none\" points=\"\n",
       "  1110.7,1487.47 1110.7,47.2441 \n",
       "  \"/>\n",
       "<polyline clip-path=\"url(#clip1902)\" style=\"stroke:#000000; stroke-width:1.6; stroke-opacity:0.1; fill:none\" points=\"\n",
       "  1499.64,1487.47 1499.64,47.2441 \n",
       "  \"/>\n",
       "<polyline clip-path=\"url(#clip1902)\" style=\"stroke:#000000; stroke-width:1.6; stroke-opacity:0.1; fill:none\" points=\"\n",
       "  1888.58,1487.47 1888.58,47.2441 \n",
       "  \"/>\n",
       "<polyline clip-path=\"url(#clip1902)\" style=\"stroke:#000000; stroke-width:1.6; stroke-opacity:0.1; fill:none\" points=\"\n",
       "  2277.52,1487.47 2277.52,47.2441 \n",
       "  \"/>\n",
       "<polyline clip-path=\"url(#clip1902)\" style=\"stroke:#000000; stroke-width:1.6; stroke-opacity:0.1; fill:none\" points=\"\n",
       "  141.865,1398.86 2352.76,1398.86 \n",
       "  \"/>\n",
       "<polyline clip-path=\"url(#clip1902)\" style=\"stroke:#000000; stroke-width:1.6; stroke-opacity:0.1; fill:none\" points=\"\n",
       "  141.865,1090.39 2352.76,1090.39 \n",
       "  \"/>\n",
       "<polyline clip-path=\"url(#clip1902)\" style=\"stroke:#000000; stroke-width:1.6; stroke-opacity:0.1; fill:none\" points=\"\n",
       "  141.865,781.924 2352.76,781.924 \n",
       "  \"/>\n",
       "<polyline clip-path=\"url(#clip1902)\" style=\"stroke:#000000; stroke-width:1.6; stroke-opacity:0.1; fill:none\" points=\"\n",
       "  141.865,473.457 2352.76,473.457 \n",
       "  \"/>\n",
       "<polyline clip-path=\"url(#clip1902)\" style=\"stroke:#000000; stroke-width:1.6; stroke-opacity:0.1; fill:none\" points=\"\n",
       "  141.865,164.99 2352.76,164.99 \n",
       "  \"/>\n",
       "<polyline clip-path=\"url(#clip1900)\" style=\"stroke:#000000; stroke-width:3.2; stroke-opacity:1; fill:none\" points=\"\n",
       "  141.865,1487.47 2352.76,1487.47 \n",
       "  \"/>\n",
       "<polyline clip-path=\"url(#clip1900)\" style=\"stroke:#000000; stroke-width:3.2; stroke-opacity:1; fill:none\" points=\"\n",
       "  141.865,1487.47 141.865,47.2441 \n",
       "  \"/>\n",
       "<polyline clip-path=\"url(#clip1900)\" style=\"stroke:#000000; stroke-width:3.2; stroke-opacity:1; fill:none\" points=\"\n",
       "  332.825,1487.47 332.825,1465.87 \n",
       "  \"/>\n",
       "<polyline clip-path=\"url(#clip1900)\" style=\"stroke:#000000; stroke-width:3.2; stroke-opacity:1; fill:none\" points=\"\n",
       "  721.763,1487.47 721.763,1465.87 \n",
       "  \"/>\n",
       "<polyline clip-path=\"url(#clip1900)\" style=\"stroke:#000000; stroke-width:3.2; stroke-opacity:1; fill:none\" points=\"\n",
       "  1110.7,1487.47 1110.7,1465.87 \n",
       "  \"/>\n",
       "<polyline clip-path=\"url(#clip1900)\" style=\"stroke:#000000; stroke-width:3.2; stroke-opacity:1; fill:none\" points=\"\n",
       "  1499.64,1487.47 1499.64,1465.87 \n",
       "  \"/>\n",
       "<polyline clip-path=\"url(#clip1900)\" style=\"stroke:#000000; stroke-width:3.2; stroke-opacity:1; fill:none\" points=\"\n",
       "  1888.58,1487.47 1888.58,1465.87 \n",
       "  \"/>\n",
       "<polyline clip-path=\"url(#clip1900)\" style=\"stroke:#000000; stroke-width:3.2; stroke-opacity:1; fill:none\" points=\"\n",
       "  2277.52,1487.47 2277.52,1465.87 \n",
       "  \"/>\n",
       "<polyline clip-path=\"url(#clip1900)\" style=\"stroke:#000000; stroke-width:3.2; stroke-opacity:1; fill:none\" points=\"\n",
       "  141.865,1398.86 175.028,1398.86 \n",
       "  \"/>\n",
       "<polyline clip-path=\"url(#clip1900)\" style=\"stroke:#000000; stroke-width:3.2; stroke-opacity:1; fill:none\" points=\"\n",
       "  141.865,1090.39 175.028,1090.39 \n",
       "  \"/>\n",
       "<polyline clip-path=\"url(#clip1900)\" style=\"stroke:#000000; stroke-width:3.2; stroke-opacity:1; fill:none\" points=\"\n",
       "  141.865,781.924 175.028,781.924 \n",
       "  \"/>\n",
       "<polyline clip-path=\"url(#clip1900)\" style=\"stroke:#000000; stroke-width:3.2; stroke-opacity:1; fill:none\" points=\"\n",
       "  141.865,473.457 175.028,473.457 \n",
       "  \"/>\n",
       "<polyline clip-path=\"url(#clip1900)\" style=\"stroke:#000000; stroke-width:3.2; stroke-opacity:1; fill:none\" points=\"\n",
       "  141.865,164.99 175.028,164.99 \n",
       "  \"/>\n",
       "<g clip-path=\"url(#clip1900)\">\n",
       "<text style=\"fill:#000000; fill-opacity:1; font-family:Arial,Helvetica Neue,Helvetica,sans-serif; font-size:48px; text-anchor:middle;\" transform=\"rotate(0, 332.825, 1541.47)\" x=\"332.825\" y=\"1541.47\">-3</text>\n",
       "</g>\n",
       "<g clip-path=\"url(#clip1900)\">\n",
       "<text style=\"fill:#000000; fill-opacity:1; font-family:Arial,Helvetica Neue,Helvetica,sans-serif; font-size:48px; text-anchor:middle;\" transform=\"rotate(0, 721.763, 1541.47)\" x=\"721.763\" y=\"1541.47\">-2</text>\n",
       "</g>\n",
       "<g clip-path=\"url(#clip1900)\">\n",
       "<text style=\"fill:#000000; fill-opacity:1; font-family:Arial,Helvetica Neue,Helvetica,sans-serif; font-size:48px; text-anchor:middle;\" transform=\"rotate(0, 1110.7, 1541.47)\" x=\"1110.7\" y=\"1541.47\">-1</text>\n",
       "</g>\n",
       "<g clip-path=\"url(#clip1900)\">\n",
       "<text style=\"fill:#000000; fill-opacity:1; font-family:Arial,Helvetica Neue,Helvetica,sans-serif; font-size:48px; text-anchor:middle;\" transform=\"rotate(0, 1499.64, 1541.47)\" x=\"1499.64\" y=\"1541.47\">0</text>\n",
       "</g>\n",
       "<g clip-path=\"url(#clip1900)\">\n",
       "<text style=\"fill:#000000; fill-opacity:1; font-family:Arial,Helvetica Neue,Helvetica,sans-serif; font-size:48px; text-anchor:middle;\" transform=\"rotate(0, 1888.58, 1541.47)\" x=\"1888.58\" y=\"1541.47\">1</text>\n",
       "</g>\n",
       "<g clip-path=\"url(#clip1900)\">\n",
       "<text style=\"fill:#000000; fill-opacity:1; font-family:Arial,Helvetica Neue,Helvetica,sans-serif; font-size:48px; text-anchor:middle;\" transform=\"rotate(0, 2277.52, 1541.47)\" x=\"2277.52\" y=\"1541.47\">2</text>\n",
       "</g>\n",
       "<g clip-path=\"url(#clip1900)\">\n",
       "<text style=\"fill:#000000; fill-opacity:1; font-family:Arial,Helvetica Neue,Helvetica,sans-serif; font-size:48px; text-anchor:end;\" transform=\"rotate(0, 117.865, 1416.36)\" x=\"117.865\" y=\"1416.36\">-1</text>\n",
       "</g>\n",
       "<g clip-path=\"url(#clip1900)\">\n",
       "<text style=\"fill:#000000; fill-opacity:1; font-family:Arial,Helvetica Neue,Helvetica,sans-serif; font-size:48px; text-anchor:end;\" transform=\"rotate(0, 117.865, 1107.89)\" x=\"117.865\" y=\"1107.89\">0</text>\n",
       "</g>\n",
       "<g clip-path=\"url(#clip1900)\">\n",
       "<text style=\"fill:#000000; fill-opacity:1; font-family:Arial,Helvetica Neue,Helvetica,sans-serif; font-size:48px; text-anchor:end;\" transform=\"rotate(0, 117.865, 799.424)\" x=\"117.865\" y=\"799.424\">1</text>\n",
       "</g>\n",
       "<g clip-path=\"url(#clip1900)\">\n",
       "<text style=\"fill:#000000; fill-opacity:1; font-family:Arial,Helvetica Neue,Helvetica,sans-serif; font-size:48px; text-anchor:end;\" transform=\"rotate(0, 117.865, 490.957)\" x=\"117.865\" y=\"490.957\">2</text>\n",
       "</g>\n",
       "<g clip-path=\"url(#clip1900)\">\n",
       "<text style=\"fill:#000000; fill-opacity:1; font-family:Arial,Helvetica Neue,Helvetica,sans-serif; font-size:48px; text-anchor:end;\" transform=\"rotate(0, 117.865, 182.49)\" x=\"117.865\" y=\"182.49\">3</text>\n",
       "</g>\n",
       "<path clip-path=\"url(#clip1902)\" d=\"\n",
       "M1233.86 262.646 L1334.66 871.424 L1715.93 1446.71 L2290.18 638.961 L1233.86 262.646 L1233.86 262.646  Z\n",
       "  \" fill=\"#009af9\" fill-rule=\"evenodd\" fill-opacity=\"0.3\"/>\n",
       "<polyline clip-path=\"url(#clip1902)\" style=\"stroke:#000000; stroke-width:3.2; stroke-opacity:0.3; fill:none\" points=\"\n",
       "  1233.86,262.646 1334.66,871.424 1715.93,1446.71 2290.18,638.961 1233.86,262.646 \n",
       "  \"/>\n",
       "<path clip-path=\"url(#clip1902)\" d=\"\n",
       "M204.437 549.852 L964.032 730.853 L1704.45 424.728 L1704.45 424.728 L1536.8 93.8789 L1536.8 93.8789 L1363.42 88.0053 L1363.42 88.0053 L1059.95 116.195 L1059.95 116.195 \n",
       "  L395.311 380.486 L395.311 380.486 L204.437 549.852 L204.437 549.852 L204.437 549.852  Z\n",
       "  \" fill=\"#e26f46\" fill-rule=\"evenodd\" fill-opacity=\"0.3\"/>\n",
       "<polyline clip-path=\"url(#clip1902)\" style=\"stroke:#000000; stroke-width:3.2; stroke-opacity:0.3; fill:none\" points=\"\n",
       "  204.437,549.852 964.032,730.853 1704.45,424.728 1704.45,424.728 1536.8,93.8789 1536.8,93.8789 1363.42,88.0053 1363.42,88.0053 1059.95,116.195 1059.95,116.195 \n",
       "  395.311,380.486 395.311,380.486 204.437,549.852 \n",
       "  \"/>\n",
       "</svg>\n"
      ]
     },
     "execution_count": 16,
     "metadata": {},
     "output_type": "execute_result"
    }
   ],
   "source": [
    "plot!(CH(X[3], X[4]), alpha=.3)"
   ]
  },
  {
   "cell_type": "code",
   "execution_count": 17,
   "metadata": {},
   "outputs": [
    {
     "data": {
      "image/svg+xml": [
       "<?xml version=\"1.0\" encoding=\"utf-8\"?>\n",
       "<svg xmlns=\"http://www.w3.org/2000/svg\" xmlns:xlink=\"http://www.w3.org/1999/xlink\" width=\"600\" height=\"400\" viewBox=\"0 0 2400 1600\">\n",
       "<defs>\n",
       "  <clipPath id=\"clip2300\">\n",
       "    <rect x=\"0\" y=\"0\" width=\"2400\" height=\"1600\"/>\n",
       "  </clipPath>\n",
       "</defs>\n",
       "<path clip-path=\"url(#clip2300)\" d=\"\n",
       "M0 1600 L2400 1600 L2400 0 L0 0  Z\n",
       "  \" fill=\"#ffffff\" fill-rule=\"evenodd\" fill-opacity=\"1\"/>\n",
       "<defs>\n",
       "  <clipPath id=\"clip2301\">\n",
       "    <rect x=\"480\" y=\"0\" width=\"1681\" height=\"1600\"/>\n",
       "  </clipPath>\n",
       "</defs>\n",
       "<path clip-path=\"url(#clip2300)\" d=\"\n",
       "M141.865 1487.47 L2352.76 1487.47 L2352.76 47.2441 L141.865 47.2441  Z\n",
       "  \" fill=\"#ffffff\" fill-rule=\"evenodd\" fill-opacity=\"1\"/>\n",
       "<defs>\n",
       "  <clipPath id=\"clip2302\">\n",
       "    <rect x=\"141\" y=\"47\" width=\"2212\" height=\"1441\"/>\n",
       "  </clipPath>\n",
       "</defs>\n",
       "<polyline clip-path=\"url(#clip2302)\" style=\"stroke:#000000; stroke-width:1.6; stroke-opacity:0.1; fill:none\" points=\"\n",
       "  332.825,1487.47 332.825,47.2441 \n",
       "  \"/>\n",
       "<polyline clip-path=\"url(#clip2302)\" style=\"stroke:#000000; stroke-width:1.6; stroke-opacity:0.1; fill:none\" points=\"\n",
       "  721.763,1487.47 721.763,47.2441 \n",
       "  \"/>\n",
       "<polyline clip-path=\"url(#clip2302)\" style=\"stroke:#000000; stroke-width:1.6; stroke-opacity:0.1; fill:none\" points=\"\n",
       "  1110.7,1487.47 1110.7,47.2441 \n",
       "  \"/>\n",
       "<polyline clip-path=\"url(#clip2302)\" style=\"stroke:#000000; stroke-width:1.6; stroke-opacity:0.1; fill:none\" points=\"\n",
       "  1499.64,1487.47 1499.64,47.2441 \n",
       "  \"/>\n",
       "<polyline clip-path=\"url(#clip2302)\" style=\"stroke:#000000; stroke-width:1.6; stroke-opacity:0.1; fill:none\" points=\"\n",
       "  1888.58,1487.47 1888.58,47.2441 \n",
       "  \"/>\n",
       "<polyline clip-path=\"url(#clip2302)\" style=\"stroke:#000000; stroke-width:1.6; stroke-opacity:0.1; fill:none\" points=\"\n",
       "  2277.52,1487.47 2277.52,47.2441 \n",
       "  \"/>\n",
       "<polyline clip-path=\"url(#clip2302)\" style=\"stroke:#000000; stroke-width:1.6; stroke-opacity:0.1; fill:none\" points=\"\n",
       "  141.865,1398.86 2352.76,1398.86 \n",
       "  \"/>\n",
       "<polyline clip-path=\"url(#clip2302)\" style=\"stroke:#000000; stroke-width:1.6; stroke-opacity:0.1; fill:none\" points=\"\n",
       "  141.865,1090.39 2352.76,1090.39 \n",
       "  \"/>\n",
       "<polyline clip-path=\"url(#clip2302)\" style=\"stroke:#000000; stroke-width:1.6; stroke-opacity:0.1; fill:none\" points=\"\n",
       "  141.865,781.924 2352.76,781.924 \n",
       "  \"/>\n",
       "<polyline clip-path=\"url(#clip2302)\" style=\"stroke:#000000; stroke-width:1.6; stroke-opacity:0.1; fill:none\" points=\"\n",
       "  141.865,473.457 2352.76,473.457 \n",
       "  \"/>\n",
       "<polyline clip-path=\"url(#clip2302)\" style=\"stroke:#000000; stroke-width:1.6; stroke-opacity:0.1; fill:none\" points=\"\n",
       "  141.865,164.99 2352.76,164.99 \n",
       "  \"/>\n",
       "<polyline clip-path=\"url(#clip2300)\" style=\"stroke:#000000; stroke-width:3.2; stroke-opacity:1; fill:none\" points=\"\n",
       "  141.865,1487.47 2352.76,1487.47 \n",
       "  \"/>\n",
       "<polyline clip-path=\"url(#clip2300)\" style=\"stroke:#000000; stroke-width:3.2; stroke-opacity:1; fill:none\" points=\"\n",
       "  141.865,1487.47 141.865,47.2441 \n",
       "  \"/>\n",
       "<polyline clip-path=\"url(#clip2300)\" style=\"stroke:#000000; stroke-width:3.2; stroke-opacity:1; fill:none\" points=\"\n",
       "  332.825,1487.47 332.825,1465.87 \n",
       "  \"/>\n",
       "<polyline clip-path=\"url(#clip2300)\" style=\"stroke:#000000; stroke-width:3.2; stroke-opacity:1; fill:none\" points=\"\n",
       "  721.763,1487.47 721.763,1465.87 \n",
       "  \"/>\n",
       "<polyline clip-path=\"url(#clip2300)\" style=\"stroke:#000000; stroke-width:3.2; stroke-opacity:1; fill:none\" points=\"\n",
       "  1110.7,1487.47 1110.7,1465.87 \n",
       "  \"/>\n",
       "<polyline clip-path=\"url(#clip2300)\" style=\"stroke:#000000; stroke-width:3.2; stroke-opacity:1; fill:none\" points=\"\n",
       "  1499.64,1487.47 1499.64,1465.87 \n",
       "  \"/>\n",
       "<polyline clip-path=\"url(#clip2300)\" style=\"stroke:#000000; stroke-width:3.2; stroke-opacity:1; fill:none\" points=\"\n",
       "  1888.58,1487.47 1888.58,1465.87 \n",
       "  \"/>\n",
       "<polyline clip-path=\"url(#clip2300)\" style=\"stroke:#000000; stroke-width:3.2; stroke-opacity:1; fill:none\" points=\"\n",
       "  2277.52,1487.47 2277.52,1465.87 \n",
       "  \"/>\n",
       "<polyline clip-path=\"url(#clip2300)\" style=\"stroke:#000000; stroke-width:3.2; stroke-opacity:1; fill:none\" points=\"\n",
       "  141.865,1398.86 175.028,1398.86 \n",
       "  \"/>\n",
       "<polyline clip-path=\"url(#clip2300)\" style=\"stroke:#000000; stroke-width:3.2; stroke-opacity:1; fill:none\" points=\"\n",
       "  141.865,1090.39 175.028,1090.39 \n",
       "  \"/>\n",
       "<polyline clip-path=\"url(#clip2300)\" style=\"stroke:#000000; stroke-width:3.2; stroke-opacity:1; fill:none\" points=\"\n",
       "  141.865,781.924 175.028,781.924 \n",
       "  \"/>\n",
       "<polyline clip-path=\"url(#clip2300)\" style=\"stroke:#000000; stroke-width:3.2; stroke-opacity:1; fill:none\" points=\"\n",
       "  141.865,473.457 175.028,473.457 \n",
       "  \"/>\n",
       "<polyline clip-path=\"url(#clip2300)\" style=\"stroke:#000000; stroke-width:3.2; stroke-opacity:1; fill:none\" points=\"\n",
       "  141.865,164.99 175.028,164.99 \n",
       "  \"/>\n",
       "<g clip-path=\"url(#clip2300)\">\n",
       "<text style=\"fill:#000000; fill-opacity:1; font-family:Arial,Helvetica Neue,Helvetica,sans-serif; font-size:48px; text-anchor:middle;\" transform=\"rotate(0, 332.825, 1541.47)\" x=\"332.825\" y=\"1541.47\">-3</text>\n",
       "</g>\n",
       "<g clip-path=\"url(#clip2300)\">\n",
       "<text style=\"fill:#000000; fill-opacity:1; font-family:Arial,Helvetica Neue,Helvetica,sans-serif; font-size:48px; text-anchor:middle;\" transform=\"rotate(0, 721.763, 1541.47)\" x=\"721.763\" y=\"1541.47\">-2</text>\n",
       "</g>\n",
       "<g clip-path=\"url(#clip2300)\">\n",
       "<text style=\"fill:#000000; fill-opacity:1; font-family:Arial,Helvetica Neue,Helvetica,sans-serif; font-size:48px; text-anchor:middle;\" transform=\"rotate(0, 1110.7, 1541.47)\" x=\"1110.7\" y=\"1541.47\">-1</text>\n",
       "</g>\n",
       "<g clip-path=\"url(#clip2300)\">\n",
       "<text style=\"fill:#000000; fill-opacity:1; font-family:Arial,Helvetica Neue,Helvetica,sans-serif; font-size:48px; text-anchor:middle;\" transform=\"rotate(0, 1499.64, 1541.47)\" x=\"1499.64\" y=\"1541.47\">0</text>\n",
       "</g>\n",
       "<g clip-path=\"url(#clip2300)\">\n",
       "<text style=\"fill:#000000; fill-opacity:1; font-family:Arial,Helvetica Neue,Helvetica,sans-serif; font-size:48px; text-anchor:middle;\" transform=\"rotate(0, 1888.58, 1541.47)\" x=\"1888.58\" y=\"1541.47\">1</text>\n",
       "</g>\n",
       "<g clip-path=\"url(#clip2300)\">\n",
       "<text style=\"fill:#000000; fill-opacity:1; font-family:Arial,Helvetica Neue,Helvetica,sans-serif; font-size:48px; text-anchor:middle;\" transform=\"rotate(0, 2277.52, 1541.47)\" x=\"2277.52\" y=\"1541.47\">2</text>\n",
       "</g>\n",
       "<g clip-path=\"url(#clip2300)\">\n",
       "<text style=\"fill:#000000; fill-opacity:1; font-family:Arial,Helvetica Neue,Helvetica,sans-serif; font-size:48px; text-anchor:end;\" transform=\"rotate(0, 117.865, 1416.36)\" x=\"117.865\" y=\"1416.36\">-1</text>\n",
       "</g>\n",
       "<g clip-path=\"url(#clip2300)\">\n",
       "<text style=\"fill:#000000; fill-opacity:1; font-family:Arial,Helvetica Neue,Helvetica,sans-serif; font-size:48px; text-anchor:end;\" transform=\"rotate(0, 117.865, 1107.89)\" x=\"117.865\" y=\"1107.89\">0</text>\n",
       "</g>\n",
       "<g clip-path=\"url(#clip2300)\">\n",
       "<text style=\"fill:#000000; fill-opacity:1; font-family:Arial,Helvetica Neue,Helvetica,sans-serif; font-size:48px; text-anchor:end;\" transform=\"rotate(0, 117.865, 799.424)\" x=\"117.865\" y=\"799.424\">1</text>\n",
       "</g>\n",
       "<g clip-path=\"url(#clip2300)\">\n",
       "<text style=\"fill:#000000; fill-opacity:1; font-family:Arial,Helvetica Neue,Helvetica,sans-serif; font-size:48px; text-anchor:end;\" transform=\"rotate(0, 117.865, 490.957)\" x=\"117.865\" y=\"490.957\">2</text>\n",
       "</g>\n",
       "<g clip-path=\"url(#clip2300)\">\n",
       "<text style=\"fill:#000000; fill-opacity:1; font-family:Arial,Helvetica Neue,Helvetica,sans-serif; font-size:48px; text-anchor:end;\" transform=\"rotate(0, 117.865, 182.49)\" x=\"117.865\" y=\"182.49\">3</text>\n",
       "</g>\n",
       "<path clip-path=\"url(#clip2302)\" d=\"\n",
       "M1233.86 262.646 L1334.66 871.424 L1715.93 1446.71 L2290.18 638.961 L1233.86 262.646 L1233.86 262.646  Z\n",
       "  \" fill=\"#009af9\" fill-rule=\"evenodd\" fill-opacity=\"0.3\"/>\n",
       "<polyline clip-path=\"url(#clip2302)\" style=\"stroke:#000000; stroke-width:3.2; stroke-opacity:0.3; fill:none\" points=\"\n",
       "  1233.86,262.646 1334.66,871.424 1715.93,1446.71 2290.18,638.961 1233.86,262.646 \n",
       "  \"/>\n",
       "<path clip-path=\"url(#clip2302)\" d=\"\n",
       "M204.437 549.852 L964.032 730.853 L1704.45 424.728 L1704.45 424.728 L1536.8 93.8789 L1536.8 93.8789 L1363.42 88.0053 L1363.42 88.0053 L1059.95 116.195 L1059.95 116.195 \n",
       "  L395.311 380.486 L395.311 380.486 L204.437 549.852 L204.437 549.852 L204.437 549.852  Z\n",
       "  \" fill=\"#e26f46\" fill-rule=\"evenodd\" fill-opacity=\"0.3\"/>\n",
       "<polyline clip-path=\"url(#clip2302)\" style=\"stroke:#000000; stroke-width:3.2; stroke-opacity:0.3; fill:none\" points=\"\n",
       "  204.437,549.852 964.032,730.853 1704.45,424.728 1704.45,424.728 1536.8,93.8789 1536.8,93.8789 1363.42,88.0053 1363.42,88.0053 1059.95,116.195 1059.95,116.195 \n",
       "  395.311,380.486 395.311,380.486 204.437,549.852 \n",
       "  \"/>\n",
       "<path clip-path=\"url(#clip2302)\" d=\"\n",
       "M204.437 549.852 L1715.93 1446.71 L2290.18 638.961 L1536.8 93.8789 L1363.42 88.0053 L1363.42 88.0053 L1059.95 116.195 L1059.95 116.195 L395.311 380.486 L395.311 380.486 \n",
       "  L204.437 549.852 L204.437 549.852  Z\n",
       "  \" fill=\"#3da44d\" fill-rule=\"evenodd\" fill-opacity=\"0.3\"/>\n",
       "<polyline clip-path=\"url(#clip2302)\" style=\"stroke:#000000; stroke-width:3.2; stroke-opacity:0.3; fill:none\" points=\"\n",
       "  204.437,549.852 1715.93,1446.71 2290.18,638.961 1536.8,93.8789 1363.42,88.0053 1363.42,88.0053 1059.95,116.195 1059.95,116.195 395.311,380.486 395.311,380.486 \n",
       "  204.437,549.852 \n",
       "  \"/>\n",
       "</svg>\n"
      ]
     },
     "execution_count": 17,
     "metadata": {},
     "output_type": "execute_result"
    }
   ],
   "source": [
    "plot!(ConvexHullArray(X), alpha=.3)"
   ]
  },
  {
   "cell_type": "markdown",
   "metadata": {},
   "source": [
    "## Block arrays"
   ]
  },
  {
   "cell_type": "code",
   "execution_count": 3,
   "metadata": {},
   "outputs": [],
   "source": [
    "using RecursiveArrayTools"
   ]
  },
  {
   "cell_type": "code",
   "execution_count": 4,
   "metadata": {},
   "outputs": [
    {
     "name": "stderr",
     "output_type": "stream",
     "text": [
      "┌ Info: Recompiling stale cache file /home/mforets/.julia/compiled/v1.2/LazySets/NjrGc.ji for LazySets [b4f0291d-fe17-52bc-9479-3d1a343d9043]\n",
      "└ @ Base loading.jl:1240\n"
     ]
    }
   ],
   "source": [
    "using LazySets"
   ]
  },
  {
   "cell_type": "code",
   "execution_count": 25,
   "metadata": {},
   "outputs": [],
   "source": [
    "Z1 = [rand(Zonotope) for _ in 1:3]\n",
    "Z2 = [rand(Zonotope) for _ in 1:5]\n",
    "Z3 = [rand(Zonotope) for _ in 1:2]\n",
    "Z4 = [rand(Zonotope) for _ in 1:20];"
   ]
  },
  {
   "cell_type": "code",
   "execution_count": 31,
   "metadata": {},
   "outputs": [],
   "source": [
    "a = VectorOfArray([Z1, Z2, Z3, Z4]);"
   ]
  },
  {
   "cell_type": "code",
   "execution_count": 32,
   "metadata": {},
   "outputs": [
    {
     "data": {
      "text/plain": [
       "VectorOfArray{Zonotope{Float64},2,Array{Array{Zonotope{Float64},1},1}}"
      ]
     },
     "execution_count": 32,
     "metadata": {},
     "output_type": "execute_result"
    }
   ],
   "source": [
    "typeof(a)"
   ]
  },
  {
   "cell_type": "code",
   "execution_count": 33,
   "metadata": {},
   "outputs": [
    {
     "data": {
      "text/plain": [
       "Zonotope{Float64}([0.41031035463823, 1.0139792213928578], [0.38291323288788276 0.7493808681674676; -0.14706782288956438 -1.0875258079227086])"
      ]
     },
     "execution_count": 33,
     "metadata": {},
     "output_type": "execute_result"
    }
   ],
   "source": [
    "a[1, 2]"
   ]
  },
  {
   "cell_type": "code",
   "execution_count": 34,
   "metadata": {},
   "outputs": [
    {
     "data": {
      "text/plain": [
       "(3, 4)"
      ]
     },
     "execution_count": 34,
     "metadata": {},
     "output_type": "execute_result"
    }
   ],
   "source": [
    "size(a)"
   ]
  },
  {
   "cell_type": "code",
   "execution_count": 35,
   "metadata": {},
   "outputs": [
    {
     "data": {
      "text/plain": [
       "4"
      ]
     },
     "execution_count": 35,
     "metadata": {},
     "output_type": "execute_result"
    }
   ],
   "source": [
    "length(a)"
   ]
  },
  {
   "cell_type": "code",
   "execution_count": 36,
   "metadata": {},
   "outputs": [
    {
     "data": {
      "text/plain": [
       "3-element Array{Zonotope{Float64},1}:\n",
       " Zonotope{Float64}([0.9192185267969707, -0.19206234183992194], [1.3246665998371567 0.9862550844614043; -0.7379380114437374 -1.272648372519858])                                       \n",
       " Zonotope{Float64}([0.549564634260634, 0.1512781901823341], [-1.7207100707693794 -0.14953340279001623; 0.8341008185542287 -1.1275586283780528])                                       \n",
       " Zonotope{Float64}([-0.04687514633916015, 1.1639046462563218], [0.5066655015657942 0.7770299885993475 2.232696246498871; 0.44092475265033754 -0.9729318742399405 -0.2651645286930498])"
      ]
     },
     "execution_count": 36,
     "metadata": {},
     "output_type": "execute_result"
    }
   ],
   "source": [
    "a[1]"
   ]
  },
  {
   "cell_type": "code",
   "execution_count": 37,
   "metadata": {},
   "outputs": [
    {
     "data": {
      "text/plain": [
       "Zonotope{Float64}([0.549564634260634, 0.1512781901823341], [-1.7207100707693794 -0.14953340279001623; 0.8341008185542287 -1.1275586283780528])"
      ]
     },
     "execution_count": 37,
     "metadata": {},
     "output_type": "execute_result"
    }
   ],
   "source": [
    "a[2, 1]"
   ]
  },
  {
   "cell_type": "markdown",
   "metadata": {},
   "source": [
    "### Notes\n",
    "\n",
    "`A[i]` returns the i-th flowpipe. `A[j, i]` returns the j-th reach-set of the i-th flowpipe.\n",
    "\n",
    "The length of the `VectorOfArray` corresponds to the number of flowpipes."
   ]
  },
  {
   "cell_type": "code",
   "execution_count": 40,
   "metadata": {},
   "outputs": [
    {
     "data": {
      "text/plain": [
       "VectorOfArray{Zonotope{Float64},2,Array{Array{Zonotope{Float64},1},1}}"
      ]
     },
     "execution_count": 40,
     "metadata": {},
     "output_type": "execute_result"
    }
   ],
   "source": [
    "typeof(a)"
   ]
  },
  {
   "cell_type": "code",
   "execution_count": 41,
   "metadata": {},
   "outputs": [
    {
     "data": {
      "text/plain": [
       "4-element Array{Array{Zonotope{Float64},1},1}:\n",
       " [Zonotope{Float64}([0.9192185267969707, -0.19206234183992194], [1.3246665998371567 0.9862550844614043; -0.7379380114437374 -1.272648372519858]), Zonotope{Float64}([0.549564634260634, 0.1512781901823341], [-1.7207100707693794 -0.14953340279001623; 0.8341008185542287 -1.1275586283780528]), Zonotope{Float64}([-0.04687514633916015, 1.1639046462563218], [0.5066655015657942 0.7770299885993475 2.232696246498871; 0.44092475265033754 -0.9729318742399405 -0.2651645286930498])]                                                                                                                                                                                                                                                                                                                                                                                                                                                                                                                                                                                                                                                                                                                                                                                                                                                                                                                                                                                                                                                                                                                                                                                                                                                                                                                                                                                                                                                                                                                                                                                                                                                                                                                                                                                                                                                                                                                                                                                                                                                                                                                                                                                                                                                                                                                                                                                                                                                                                                                                                                                                                                                                                                                                                                                                                                                                                                                                                                                                                                                                                                                                                                                                                                            \n",
       " [Zonotope{Float64}([0.41031035463823, 1.0139792213928578], [0.38291323288788276 0.7493808681674676; -0.14706782288956438 -1.0875258079227086]), Zonotope{Float64}([1.2422220792573697, 0.5368456632747086], [-0.6254165109120269 -1.349887539812315 0.5143284273880253; -0.45901620244963554 -0.3584938647035411 -0.08531829488421747]), Zonotope{Float64}([-0.02319411537579259, -1.5988866791913672], [-0.010354412761098499 -1.081643696390651 -2.0990777538170797; 0.42768681643541745 -0.1285062661245617 -0.05436056619249611]), Zonotope{Float64}([-1.2186718594872163, 1.6661349159246501], [0.6577789771760862 0.2926197610594849; -0.726572916509435 -0.05044984870046807]), Zonotope{Float64}([0.8406130006638483, 0.004181499467012816], [0.5259897654433874 1.0121661230470373; -0.8192311324286458 1.4107008581332])]                                                                                                                                                                                                                                                                                                                                                                                                                                                                                                                                                                                                                                                                                                                                                                                                                                                                                                                                                                                                                                                                                                                                                                                                                                                                                                                                                                                                                                                                                                                                                                                                                                                                                                                                                                                                                                                                                                                                                                                                                                                                                                                                                                                                                                                                                                                                                                                                                                                                                                                                                                                                                                                                                                                                                                                                                                                                                                \n",
       " [Zonotope{Float64}([-0.09922953786219764, -0.17419576631202607], [-0.3279361385582357 0.49422615497627975; -1.179531934164801 2.1499083334121103]), Zonotope{Float64}([-0.22042542796672085, -0.8026967628714029], [1.3334333654564539 0.1575507813251101; 0.5377546894307037 1.6971682190574564])]                                                                                                                                                                                                                                                                                                                                                                                                                                                                                                                                                                                                                                                                                                                                                                                                                                                                                                                                                                                                                                                                                                                                                                                                                                                                                                                                                                                                                                                                                                                                                                                                                                                                                                                                                                                                                                                                                                                                                                                                                                                                                                                                                                                                                                                                                                                                                                                                                                                                                                                                                                                                                                                                                                                                                                                                                                                                                                                                                                                                                                                                                                                                                                                                                                                                                                                                                                                                                                \n",
       " [Zonotope{Float64}([0.7100543655054679, -1.2863017688539287], [-0.3135117930686743 0.042543530135691204; 0.4518776507987674 -1.4586963424539867]), Zonotope{Float64}([1.1063613371638437, -1.8738122060352447], [-0.6260061981333189 -1.2357444756482188; -1.7531720942824844 1.4269426819605462]), Zonotope{Float64}([0.5574347859438524, -0.5166967518794762], [0.41311499850143335 -0.9686300194345187 -0.628652301176304; 0.1553998301713518 -0.7002825546341136 -0.2033316233379649]), Zonotope{Float64}([0.06958082171043138, 0.9777671065933383], [0.47389417022081437 0.27134337717039136; -0.2444241298011351 -0.3998267412637068]), Zonotope{Float64}([0.9253360595963324, 1.0554059329065058], [1.095817399762729 0.5119585281817404; 0.8962055396517044 -1.1422839200302182]), Zonotope{Float64}([0.09162232239084084, -0.23935429227741553], [0.06914494300452079 -0.468408176274306; -0.34633557307277546 1.2693280810910625]), Zonotope{Float64}([-0.8537996492341762, -0.7774906216848992], [1.8147036779513548 0.3728132249539506; 0.22349495594919477 -0.9763485226649274]), Zonotope{Float64}([1.2911331530815078, -0.7807513640921421], [-1.1117778276896984 -0.3857714825924829 1.0344976061663784; -1.4450016088734785 0.017505974384274467 -0.9240713827709203]), Zonotope{Float64}([0.008638018122146245, 0.9455893167266461], [0.27220323267574575 0.8285023255301314 -0.6070169984950764 -0.812565726394805; 0.3911342601296854 -0.6183152445699605 1.9729917174253728 -1.1309082469936416]), Zonotope{Float64}([0.940464805542329, -0.5323482068016736], [0.792777695705316 -2.1141366032887485 -1.150273072048764 0.6237661207755028; 0.9954934721454993 0.8158199836462622 0.37725571957576626 0.2658409777647839]), Zonotope{Float64}([0.2818642270955283, -0.8571914732154602], [0.5720416813017221 0.3772742265078357; 0.22456550715182905 1.1069936632065462]), Zonotope{Float64}([0.5004924178463952, -0.07368313075332784], [0.3974053878070949 0.5733956382081483 -0.38258582944576824 0.7152862617415451; -0.4199291385489825 0.4673276250794889 -0.3324075369465347 0.0472403398364442]), Zonotope{Float64}([1.6750018027100517, -0.9494206239958196], [0.8130193674186342 -0.4047277766266289 -0.5720837629486987 1.1704255328601083; 0.244765083447783 1.0185251085194444 -0.7444244790013465 -0.872825861527654]), Zonotope{Float64}([-0.5344363232489208, -0.36286764244733893], [-0.7044041057494838 0.10169246262901106; 1.8361387365314241 -0.6797335897382236]), Zonotope{Float64}([-0.1995937362743787, 0.26400326287968806], [0.6650116820327892 -0.6775341955812916 0.44577507716208103 -0.542753472966786; -0.2300327343879663 -0.06623742345233063 0.9383267277356738 0.03462830516512025]), Zonotope{Float64}([0.012051652423029413, 1.8473692516992324], [1.2462901640298223 -0.5173315815163508 0.7902977798952983 -0.6946239762917438; -1.4083409163195313 -0.017853400303984173 1.224630314841715 -1.2547962183191905]), Zonotope{Float64}([1.1287942734821206, 0.9332140038883668], [0.14120356302737666 0.8457851407476393 0.700645526452983 0.9764995169076955; -2.5215093911468602 0.8025578054479013 0.13624053573151582 1.056251770691046]), Zonotope{Float64}([1.0235556094479732, -0.5218448289023897], [-0.9887881277535767 -0.29954833397854735; -2.314434492433493 -0.04452590469342048]), Zonotope{Float64}([0.6272838375538986, 0.31766570845588854], [-1.547356994577994 0.5128852405788995; 0.7865422355332642 1.2656781533565302]), Zonotope{Float64}([1.321612101138348, -0.8055425725259283], [2.1968943960386165 1.1508136963460158 -0.121808604352155 0.3123781250903758; -1.235480664400946 -0.852736438610038 2.171399371952919 1.2753340306068999])]"
      ]
     },
     "execution_count": 41,
     "metadata": {},
     "output_type": "execute_result"
    }
   ],
   "source": [
    "a"
   ]
  },
  {
   "cell_type": "code",
   "execution_count": 44,
   "metadata": {},
   "outputs": [
    {
     "name": "stdout",
     "output_type": "stream",
     "text": [
      "Zonotope{Float64}([0.9192185267969707, -0.19206234183992194], [1.3246665998371567 0.9862550844614043; -0.7379380114437374 -1.272648372519858])\n",
      "Zonotope{Float64}([0.549564634260634, 0.1512781901823341], [-1.7207100707693794 -0.14953340279001623; 0.8341008185542287 -1.1275586283780528])\n",
      "Zonotope{Float64}([-0.04687514633916015, 1.1639046462563218], [0.5066655015657942 0.7770299885993475 2.232696246498871; 0.44092475265033754 -0.9729318742399405 -0.2651645286930498])\n",
      "Zonotope{Float64}([0.41031035463823, 1.0139792213928578], [0.38291323288788276 0.7493808681674676; -0.14706782288956438 -1.0875258079227086])\n",
      "Zonotope{Float64}([1.2422220792573697, 0.5368456632747086], [-0.6254165109120269 -1.349887539812315 0.5143284273880253; -0.45901620244963554 -0.3584938647035411 -0.08531829488421747])\n",
      "Zonotope{Float64}([-0.02319411537579259, -1.5988866791913672], [-0.010354412761098499 -1.081643696390651 -2.0990777538170797; 0.42768681643541745 -0.1285062661245617 -0.05436056619249611])\n",
      "Zonotope{Float64}([-1.2186718594872163, 1.6661349159246501], [0.6577789771760862 0.2926197610594849; -0.726572916509435 -0.05044984870046807])\n",
      "Zonotope{Float64}([0.8406130006638483, 0.004181499467012816], [0.5259897654433874 1.0121661230470373; -0.8192311324286458 1.4107008581332])\n",
      "Zonotope{Float64}([-0.09922953786219764, -0.17419576631202607], [-0.3279361385582357 0.49422615497627975; -1.179531934164801 2.1499083334121103])\n",
      "Zonotope{Float64}([-0.22042542796672085, -0.8026967628714029], [1.3334333654564539 0.1575507813251101; 0.5377546894307037 1.6971682190574564])\n",
      "Zonotope{Float64}([0.7100543655054679, -1.2863017688539287], [-0.3135117930686743 0.042543530135691204; 0.4518776507987674 -1.4586963424539867])\n",
      "Zonotope{Float64}([1.1063613371638437, -1.8738122060352447], [-0.6260061981333189 -1.2357444756482188; -1.7531720942824844 1.4269426819605462])\n",
      "Zonotope{Float64}([0.5574347859438524, -0.5166967518794762], [0.41311499850143335 -0.9686300194345187 -0.628652301176304; 0.1553998301713518 -0.7002825546341136 -0.2033316233379649])\n",
      "Zonotope{Float64}([0.06958082171043138, 0.9777671065933383], [0.47389417022081437 0.27134337717039136; -0.2444241298011351 -0.3998267412637068])\n",
      "Zonotope{Float64}([0.9253360595963324, 1.0554059329065058], [1.095817399762729 0.5119585281817404; 0.8962055396517044 -1.1422839200302182])\n",
      "Zonotope{Float64}([0.09162232239084084, -0.23935429227741553], [0.06914494300452079 -0.468408176274306; -0.34633557307277546 1.2693280810910625])\n",
      "Zonotope{Float64}([-0.8537996492341762, -0.7774906216848992], [1.8147036779513548 0.3728132249539506; 0.22349495594919477 -0.9763485226649274])\n",
      "Zonotope{Float64}([1.2911331530815078, -0.7807513640921421], [-1.1117778276896984 -0.3857714825924829 1.0344976061663784; -1.4450016088734785 0.017505974384274467 -0.9240713827709203])\n",
      "Zonotope{Float64}([0.008638018122146245, 0.9455893167266461], [0.27220323267574575 0.8285023255301314 -0.6070169984950764 -0.812565726394805; 0.3911342601296854 -0.6183152445699605 1.9729917174253728 -1.1309082469936416])\n",
      "Zonotope{Float64}([0.940464805542329, -0.5323482068016736], [0.792777695705316 -2.1141366032887485 -1.150273072048764 0.6237661207755028; 0.9954934721454993 0.8158199836462622 0.37725571957576626 0.2658409777647839])\n",
      "Zonotope{Float64}([0.2818642270955283, -0.8571914732154602], [0.5720416813017221 0.3772742265078357; 0.22456550715182905 1.1069936632065462])\n",
      "Zonotope{Float64}([0.5004924178463952, -0.07368313075332784], [0.3974053878070949 0.5733956382081483 -0.38258582944576824 0.7152862617415451; -0.4199291385489825 0.4673276250794889 -0.3324075369465347 0.0472403398364442])\n",
      "Zonotope{Float64}([1.6750018027100517, -0.9494206239958196], [0.8130193674186342 -0.4047277766266289 -0.5720837629486987 1.1704255328601083; 0.244765083447783 1.0185251085194444 -0.7444244790013465 -0.872825861527654])\n",
      "Zonotope{Float64}([-0.5344363232489208, -0.36286764244733893], [-0.7044041057494838 0.10169246262901106; 1.8361387365314241 -0.6797335897382236])\n",
      "Zonotope{Float64}([-0.1995937362743787, 0.26400326287968806], [0.6650116820327892 -0.6775341955812916 0.44577507716208103 -0.542753472966786; -0.2300327343879663 -0.06623742345233063 0.9383267277356738 0.03462830516512025])\n",
      "Zonotope{Float64}([0.012051652423029413, 1.8473692516992324], [1.2462901640298223 -0.5173315815163508 0.7902977798952983 -0.6946239762917438; -1.4083409163195313 -0.017853400303984173 1.224630314841715 -1.2547962183191905])\n",
      "Zonotope{Float64}([1.1287942734821206, 0.9332140038883668], [0.14120356302737666 0.8457851407476393 0.700645526452983 0.9764995169076955; -2.5215093911468602 0.8025578054479013 0.13624053573151582 1.056251770691046])\n",
      "Zonotope{Float64}([1.0235556094479732, -0.5218448289023897], [-0.9887881277535767 -0.29954833397854735; -2.314434492433493 -0.04452590469342048])\n",
      "Zonotope{Float64}([0.6272838375538986, 0.31766570845588854], [-1.547356994577994 0.5128852405788995; 0.7865422355332642 1.2656781533565302])\n",
      "Zonotope{Float64}([1.321612101138348, -0.8055425725259283], [2.1968943960386165 1.1508136963460158 -0.121808604352155 0.3123781250903758; -1.235480664400946 -0.852736438610038 2.171399371952919 1.2753340306068999])\n"
     ]
    }
   ],
   "source": [
    "# iterate over reach-sets\n",
    "for ai in a\n",
    "    for z in ai\n",
    "        println(z)\n",
    "    end\n",
    "end"
   ]
  },
  {
   "cell_type": "markdown",
   "metadata": {},
   "source": [
    "## POP solve API for purely cont systems"
   ]
  },
  {
   "cell_type": "code",
   "execution_count": 1,
   "metadata": {},
   "outputs": [
    {
     "name": "stderr",
     "output_type": "stream",
     "text": [
      "┌ Info: Recompiling stale cache file /home/mforets/.julia/compiled/v1.2/ReachabilityAnalysis/fYI0z.ji for ReachabilityAnalysis [1e97bd63-91d1-579d-8e8d-501d2b57c93f]\n",
      "└ @ Base loading.jl:1240\n",
      "WARNING: Method definition (::Type{ReachabilityAnalysis.BackwardApproximation})() in module ReachabilityAnalysis at /home/mforets/.julia/dev/ReachabilityAnalysis/src/discretization.jl:11 overwritten at /home/mforets/.julia/dev/ReachabilityAnalysis/src/discretization.jl:15.\n",
      "  ** incremental compilation may be fatally broken for this module **\n",
      "\n",
      "ERROR: LoadError: LoadError: syntax: invalid \"::\" syntax\n",
      "Stacktrace:\n",
      " [1] top-level scope at /home/mforets/.julia/dev/ReachabilityAnalysis/src/discretization.jl:28\n",
      " [2] include at ./boot.jl:328 [inlined]\n",
      " [3] include_relative(::Module, ::String) at ./loading.jl:1094\n",
      " [4] include at ./Base.jl:31 [inlined]\n",
      " [5] include(::String) at /home/mforets/.julia/dev/ReachabilityAnalysis/src/ReachabilityAnalysis.jl:1\n",
      " [6] top-level scope at /home/mforets/.julia/dev/ReachabilityAnalysis/src/ReachabilityAnalysis.jl:21\n",
      " [7] include at ./boot.jl:328 [inlined]\n",
      " [8] include_relative(::Module, ::String) at ./loading.jl:1094\n",
      " [9] include(::Module, ::String) at ./Base.jl:31\n",
      " [10] top-level scope at none:2\n",
      " [11] eval at ./boot.jl:330 [inlined]\n",
      " [12] eval(::Expr) at ./client.jl:432\n",
      " [13] top-level scope at ./none:3\n",
      "in expression starting at /home/mforets/.julia/dev/ReachabilityAnalysis/src/discretization.jl:28\n",
      "in expression starting at /home/mforets/.julia/dev/ReachabilityAnalysis/src/ReachabilityAnalysis.jl:21\n"
     ]
    },
    {
     "ename": "ErrorException",
     "evalue": "Failed to precompile ReachabilityAnalysis [1e97bd63-91d1-579d-8e8d-501d2b57c93f] to /home/mforets/.julia/compiled/v1.2/ReachabilityAnalysis/fYI0z.ji.",
     "output_type": "error",
     "traceback": [
      "Failed to precompile ReachabilityAnalysis [1e97bd63-91d1-579d-8e8d-501d2b57c93f] to /home/mforets/.julia/compiled/v1.2/ReachabilityAnalysis/fYI0z.ji.",
      "",
      "Stacktrace:",
      " [1] error(::String) at ./error.jl:33",
      " [2] compilecache(::Base.PkgId, ::String) at ./loading.jl:1253",
      " [3] _require(::Base.PkgId) at ./loading.jl:1013",
      " [4] require(::Base.PkgId) at ./loading.jl:911",
      " [5] require(::Module, ::Symbol) at ./loading.jl:906",
      " [6] top-level scope at In[1]:1"
     ]
    }
   ],
   "source": [
    "using Revise, MathematicalSystems, ReachabilityAnalysis\n",
    "const R = ReachabilityAnalysis\n",
    "\n",
    "using MathematicalSystems # mforets/ivp_macro\n",
    "using MathematicalSystems: @ivp\n",
    "\n",
    "p = @ivp(x' = -x, x(0) ∈ 0..1)"
   ]
  },
  {
   "cell_type": "code",
   "execution_count": 2,
   "metadata": {},
   "outputs": [
    {
     "ename": "UndefVarError",
     "evalue": "UndefVarError: R not defined",
     "output_type": "error",
     "traceback": [
      "UndefVarError: R not defined",
      "",
      "Stacktrace:",
      " [1] top-level scope at In[2]:1"
     ]
    }
   ],
   "source": [
    "R._default_continuous_post(p)"
   ]
  },
  {
   "cell_type": "code",
   "execution_count": 3,
   "metadata": {},
   "outputs": [
    {
     "ename": "MethodError",
     "evalue": "MethodError: no method matching dim(::IntervalArithmetic.Interval{Float64})\nClosest candidates are:\n  dim(!Matched::HalfSpace) at /home/mforets/.julia/dev/LazySets/src/Sets/HalfSpace.jl:80\n  dim(!Matched::AbstractCentrallySymmetric) at /home/mforets/.julia/dev/LazySets/src/Interfaces/AbstractCentrallySymmetric.jl:45\n  dim(!Matched::Interval) at /home/mforets/.julia/dev/LazySets/src/Sets/Interval.jl:126\n  ...",
     "output_type": "error",
     "traceback": [
      "MethodError: no method matching dim(::IntervalArithmetic.Interval{Float64})\nClosest candidates are:\n  dim(!Matched::HalfSpace) at /home/mforets/.julia/dev/LazySets/src/Sets/HalfSpace.jl:80\n  dim(!Matched::AbstractCentrallySymmetric) at /home/mforets/.julia/dev/LazySets/src/Interfaces/AbstractCentrallySymmetric.jl:45\n  dim(!Matched::Interval) at /home/mforets/.julia/dev/LazySets/src/Sets/Interval.jl:126\n  ...",
      "",
      "Stacktrace:",
      " [1] _check_dimension at /home/mforets/.julia/dev/ReachabilityAnalysis/src/solve.jl:45 [inlined]",
      " [2] #solve#44(::Base.Iterators.Pairs{Symbol,Float64,Tuple{Symbol},NamedTuple{(:T,),Tuple{Float64}}}, ::typeof(solve), ::InitialValueProblem{LinearContinuousSystem{Float64,IdentityMultiple{Float64}},IntervalArithmetic.Interval{Float64}}) at /home/mforets/.julia/dev/ReachabilityAnalysis/src/solve.jl:37",
      " [3] (::getfield(ReachabilityAnalysis, Symbol(\"#kw##solve\")))(::NamedTuple{(:T,),Tuple{Float64}}, ::typeof(solve), ::InitialValueProblem{LinearContinuousSystem{Float64,IdentityMultiple{Float64}},IntervalArithmetic.Interval{Float64}}) at ./none:0",
      " [4] top-level scope at In[3]:1"
     ]
    }
   ],
   "source": [
    "solve(p, T=1.0)"
   ]
  },
  {
   "cell_type": "markdown",
   "metadata": {},
   "source": [
    "## Requires macro"
   ]
  },
  {
   "cell_type": "code",
   "execution_count": 285,
   "metadata": {},
   "outputs": [
    {
     "data": {
      "text/plain": [
       "@requires (macro with 1 method)"
      ]
     },
     "execution_count": 285,
     "metadata": {},
     "output_type": "execute_result"
    }
   ],
   "source": [
    "# final version\n",
    "macro requires(module_name)\n",
    "    m = Meta.quot(Symbol(module_name))\n",
    "    return esc(:(@assert isdefined(@__MODULE__, $m) \"package `$($m)` is required \" *\n",
    "                                    \"for this function; do `using $($m)` and try again\"))\n",
    "end"
   ]
  },
  {
   "cell_type": "code",
   "execution_count": 286,
   "metadata": {},
   "outputs": [
    {
     "data": {
      "text/plain": [
       ":(if isdefined(Main, :LazySets)\n",
       "      nothing\n",
       "  else\n",
       "      Base.throw(Base.AssertionError((Base.Main).Base.string(\"package `$(:LazySets)` is required \" * \"for this function; do `using $(:LazySets)` and try again\")))\n",
       "  end)"
      ]
     },
     "execution_count": 286,
     "metadata": {},
     "output_type": "execute_result"
    }
   ],
   "source": [
    "@macroexpand @requires LazySets"
   ]
  },
  {
   "cell_type": "code",
   "execution_count": 287,
   "metadata": {},
   "outputs": [
    {
     "ename": "AssertionError",
     "evalue": "AssertionError: package `LazySets` is required for this function; do `using LazySets` and try again",
     "output_type": "error",
     "traceback": [
      "AssertionError: package `LazySets` is required for this function; do `using LazySets` and try again",
      "",
      "Stacktrace:",
      " [1] top-level scope at In[287]:1"
     ]
    }
   ],
   "source": [
    "@requires LazySets"
   ]
  },
  {
   "cell_type": "code",
   "execution_count": 288,
   "metadata": {},
   "outputs": [],
   "source": [
    "using LazySets"
   ]
  },
  {
   "cell_type": "code",
   "execution_count": 289,
   "metadata": {},
   "outputs": [],
   "source": [
    "@requires LazySets"
   ]
  },
  {
   "cell_type": "code",
   "execution_count": 236,
   "metadata": {},
   "outputs": [
    {
     "data": {
      "text/plain": [
       "@f (macro with 1 method)"
      ]
     },
     "execution_count": 236,
     "metadata": {},
     "output_type": "execute_result"
    }
   ],
   "source": [
    "macro f(expr)\n",
    "    !isdefined(@__M)\n",
    "    return Expr(:call, isdefined, @__MODULE__, Meta.quot(Symbol(expr)))\n",
    "    #return Expr(:call, isdefined, @__MODULE__, esc(:($(expr))))\n",
    "end"
   ]
  },
  {
   "cell_type": "code",
   "execution_count": 237,
   "metadata": {},
   "outputs": [
    {
     "data": {
      "text/plain": [
       ":((isdefined)(Main, :LazySets))"
      ]
     },
     "execution_count": 237,
     "metadata": {},
     "output_type": "execute_result"
    }
   ],
   "source": [
    "@macroexpand @f LazySets"
   ]
  },
  {
   "cell_type": "code",
   "execution_count": 238,
   "metadata": {},
   "outputs": [
    {
     "data": {
      "text/plain": [
       "false"
      ]
     },
     "execution_count": 238,
     "metadata": {},
     "output_type": "execute_result"
    }
   ],
   "source": [
    "@f LazySets"
   ]
  },
  {
   "cell_type": "code",
   "execution_count": null,
   "metadata": {},
   "outputs": [],
   "source": []
  },
  {
   "cell_type": "code",
   "execution_count": 234,
   "metadata": {},
   "outputs": [
    {
     "data": {
      "text/plain": [
       "@s_str (macro with 1 method)"
      ]
     },
     "execution_count": 234,
     "metadata": {},
     "output_type": "execute_result"
    }
   ],
   "source": [
    "macro s_str(p)\n",
    "    Meta.quot(Symbol(p))\n",
    "end"
   ]
  },
  {
   "cell_type": "code",
   "execution_count": 235,
   "metadata": {},
   "outputs": [
    {
     "data": {
      "text/plain": [
       ":(:caca)"
      ]
     },
     "execution_count": 235,
     "metadata": {},
     "output_type": "execute_result"
    }
   ],
   "source": [
    "@macroexpand @s_str caca"
   ]
  },
  {
   "cell_type": "code",
   "execution_count": 230,
   "metadata": {},
   "outputs": [
    {
     "data": {
      "text/plain": [
       ":x"
      ]
     },
     "execution_count": 230,
     "metadata": {},
     "output_type": "execute_result"
    }
   ],
   "source": [
    "@s_str x"
   ]
  },
  {
   "cell_type": "code",
   "execution_count": null,
   "metadata": {},
   "outputs": [],
   "source": [
    "@assert isdefined(@__MODULE__, :Expokit) \"package `Expokit` required for \" * \"this function; do `using Expokit` and try again\""
   ]
  },
  {
   "cell_type": "code",
   "execution_count": 40,
   "metadata": {},
   "outputs": [
    {
     "data": {
      "text/plain": [
       "@containervariable (macro with 1 method)"
      ]
     },
     "execution_count": 40,
     "metadata": {},
     "output_type": "execute_result"
    }
   ],
   "source": [
    "macro containervariable(container, element)\n",
    "    assignment = :($(Symbol(container, element)) = $container[$element])\n",
    "    return esc(assignment)\n",
    "end"
   ]
  },
  {
   "cell_type": "code",
   "execution_count": 41,
   "metadata": {},
   "outputs": [
    {
     "data": {
      "text/plain": [
       "Symbol(\"a + 1b\")"
      ]
     },
     "execution_count": 41,
     "metadata": {},
     "output_type": "execute_result"
    }
   ],
   "source": [
    "Symbol(Meta.parse(\"a+1\"), Meta.parse(\"b\"))"
   ]
  },
  {
   "cell_type": "code",
   "execution_count": 42,
   "metadata": {},
   "outputs": [
    {
     "data": {
      "text/plain": [
       "Expr"
      ]
     },
     "execution_count": 42,
     "metadata": {},
     "output_type": "execute_result"
    }
   ],
   "source": [
    "typeof(Meta.parse(\"a+1\"))"
   ]
  },
  {
   "cell_type": "code",
   "execution_count": 43,
   "metadata": {},
   "outputs": [
    {
     "data": {
      "text/plain": [
       ":(letters1 = letters[1])"
      ]
     },
     "execution_count": 43,
     "metadata": {},
     "output_type": "execute_result"
    }
   ],
   "source": [
    "@macroexpand @containervariable letters 1"
   ]
  },
  {
   "cell_type": "code",
   "execution_count": 51,
   "metadata": {},
   "outputs": [
    {
     "data": {
      "text/plain": [
       "\"a\""
      ]
     },
     "execution_count": 51,
     "metadata": {},
     "output_type": "execute_result"
    }
   ],
   "source": [
    "@containervariable letters 1"
   ]
  },
  {
   "cell_type": "code",
   "execution_count": 49,
   "metadata": {},
   "outputs": [
    {
     "data": {
      "text/plain": [
       "3-element Array{Any,1}:\n",
       "  \"a\"\n",
       " 2   \n",
       " 3   "
      ]
     },
     "execution_count": 49,
     "metadata": {},
     "output_type": "execute_result"
    }
   ],
   "source": [
    "letters = [\"a\", 2, 3]"
   ]
  },
  {
   "cell_type": "code",
   "execution_count": 52,
   "metadata": {},
   "outputs": [
    {
     "data": {
      "text/plain": [
       "\"a\""
      ]
     },
     "execution_count": 52,
     "metadata": {},
     "output_type": "execute_result"
    }
   ],
   "source": [
    "letters1"
   ]
  },
  {
   "cell_type": "code",
   "execution_count": 11,
   "metadata": {},
   "outputs": [
    {
     "data": {
      "text/plain": [
       "1"
      ]
     },
     "execution_count": 11,
     "metadata": {},
     "output_type": "execute_result"
    }
   ],
   "source": [
    "letters1"
   ]
  },
  {
   "cell_type": "markdown",
   "metadata": {},
   "source": [
    "## AD"
   ]
  },
  {
   "cell_type": "markdown",
   "metadata": {},
   "source": [
    "- https://github.com/JuliaDiff/ForwardDiff.jl\n",
    "- https://github.com/YingboMa/ForwardDiff2.jl"
   ]
  },
  {
   "cell_type": "code",
   "execution_count": 1,
   "metadata": {},
   "outputs": [],
   "source": [
    "using ForwardDiff"
   ]
  },
  {
   "cell_type": "code",
   "execution_count": 2,
   "metadata": {},
   "outputs": [],
   "source": [
    "f(x::Vector) = sum(sin, x) + prod(tan, x) * sum(sqrt, x);"
   ]
  },
  {
   "cell_type": "code",
   "execution_count": 3,
   "metadata": {},
   "outputs": [
    {
     "data": {
      "text/plain": [
       "5-element Array{Float64,1}:\n",
       " 0.30468958660181844\n",
       " 0.7056806072798452 \n",
       " 0.9062998525326904 \n",
       " 0.8262668599428025 \n",
       " 0.4043011791849107 "
      ]
     },
     "execution_count": 3,
     "metadata": {},
     "output_type": "execute_result"
    }
   ],
   "source": [
    "x = rand(5)"
   ]
  },
  {
   "cell_type": "code",
   "execution_count": 4,
   "metadata": {},
   "outputs": [],
   "source": [
    "g = x -> ForwardDiff.gradient(f, x); # g = ∇f"
   ]
  },
  {
   "cell_type": "code",
   "execution_count": 6,
   "metadata": {},
   "outputs": [
    {
     "data": {
      "text/plain": [
       "5-element Array{Float64,1}:\n",
       " 3.2563058094203505\n",
       " 2.1070101680111932\n",
       " 1.9725331979910354\n",
       " 2.0045633281799287\n",
       " 2.7522710577120773"
      ]
     },
     "execution_count": 6,
     "metadata": {},
     "output_type": "execute_result"
    }
   ],
   "source": [
    "g(x)"
   ]
  },
  {
   "cell_type": "code",
   "execution_count": 7,
   "metadata": {},
   "outputs": [
    {
     "data": {
      "text/plain": [
       "5×5 Array{Float64,2}:\n",
       " 1.82703  4.99425  5.03422  4.92546  6.80254\n",
       " 4.99425  1.79982  2.94133  2.87769  3.97429\n",
       " 5.03422  2.94133  2.75924  2.90081  4.0063 \n",
       " 4.92546  2.87769  2.90081  2.25291  3.91965\n",
       " 6.80254  3.97429  4.0063   3.91965  1.60449"
      ]
     },
     "execution_count": 7,
     "metadata": {},
     "output_type": "execute_result"
    }
   ],
   "source": [
    "ForwardDiff.hessian(f, x)"
   ]
  },
  {
   "cell_type": "code",
   "execution_count": 8,
   "metadata": {},
   "outputs": [
    {
     "data": {
      "text/plain": [
       "f (generic function with 2 methods)"
      ]
     },
     "execution_count": 8,
     "metadata": {},
     "output_type": "execute_result"
    }
   ],
   "source": [
    "function f(x, p, t)\n",
    "    1.01*x\n",
    "end"
   ]
  },
  {
   "cell_type": "code",
   "execution_count": 10,
   "metadata": {},
   "outputs": [],
   "source": [
    "using ForwardDiff: gradient, hessian"
   ]
  },
  {
   "cell_type": "code",
   "execution_count": 26,
   "metadata": {},
   "outputs": [
    {
     "data": {
      "text/plain": [
       "#15 (generic function with 1 method)"
      ]
     },
     "execution_count": 26,
     "metadata": {},
     "output_type": "execute_result"
    }
   ],
   "source": [
    "r = x -> gradient(f, (x, p, t))"
   ]
  },
  {
   "cell_type": "code",
   "execution_count": 27,
   "metadata": {},
   "outputs": [],
   "source": [
    "p = 0.0; t = 0.0;"
   ]
  },
  {
   "cell_type": "code",
   "execution_count": 32,
   "metadata": {},
   "outputs": [
    {
     "data": {
      "text/plain": [
       "#19 (generic function with 1 method)"
      ]
     },
     "execution_count": 32,
     "metadata": {},
     "output_type": "execute_result"
    }
   ],
   "source": [
    "r = x -> gradient(f, x)"
   ]
  },
  {
   "cell_type": "code",
   "execution_count": 33,
   "metadata": {},
   "outputs": [
    {
     "ename": "MethodError",
     "evalue": "MethodError: no method matching gradient(::typeof(f), ::Float64)\nClosest candidates are:\n  gradient(::Any, !Matched::StaticArrays.StaticArray) at /home/mforets/.julia/packages/ForwardDiff/vt5F1/src/gradient.jl:42\n  gradient(::Any, !Matched::StaticArrays.StaticArray, !Matched::ForwardDiff.GradientConfig) at /home/mforets/.julia/packages/ForwardDiff/vt5F1/src/gradient.jl:43\n  gradient(::Any, !Matched::StaticArrays.StaticArray, !Matched::ForwardDiff.GradientConfig, !Matched::Val) at /home/mforets/.julia/packages/ForwardDiff/vt5F1/src/gradient.jl:44\n  ...",
     "output_type": "error",
     "traceback": [
      "MethodError: no method matching gradient(::typeof(f), ::Float64)\nClosest candidates are:\n  gradient(::Any, !Matched::StaticArrays.StaticArray) at /home/mforets/.julia/packages/ForwardDiff/vt5F1/src/gradient.jl:42\n  gradient(::Any, !Matched::StaticArrays.StaticArray, !Matched::ForwardDiff.GradientConfig) at /home/mforets/.julia/packages/ForwardDiff/vt5F1/src/gradient.jl:43\n  gradient(::Any, !Matched::StaticArrays.StaticArray, !Matched::ForwardDiff.GradientConfig, !Matched::Val) at /home/mforets/.julia/packages/ForwardDiff/vt5F1/src/gradient.jl:44\n  ...",
      "",
      "Stacktrace:",
      " [1] (::getfield(Main, Symbol(\"##19#20\")))(::Float64) at ./In[32]:1",
      " [2] top-level scope at In[33]:1"
     ]
    }
   ],
   "source": [
    "r(1.0)"
   ]
  },
  {
   "cell_type": "code",
   "execution_count": null,
   "metadata": {},
   "outputs": [],
   "source": [
    "f(x, p, t) = 1.01*x\n",
    "p = @ivp(x' = f(x, p, t), x(0) ∈ 0..1)\n",
    "\n",
    "solve(p, T=1.0) # only time horizon is given; initial time is implicitly 0\n",
    "solve(p, tspan=(0.0, 1.0))"
   ]
  },
  {
   "cell_type": "code",
   "execution_count": null,
   "metadata": {},
   "outputs": [],
   "source": []
  },
  {
   "cell_type": "code",
   "execution_count": 2,
   "metadata": {},
   "outputs": [],
   "source": [
    "using DifferentialEquations, Plots"
   ]
  },
  {
   "cell_type": "code",
   "execution_count": null,
   "metadata": {},
   "outputs": [],
   "source": [
    "DifferentialEquations.solve(x ->)"
   ]
  },
  {
   "cell_type": "code",
   "execution_count": null,
   "metadata": {},
   "outputs": [],
   "source": [
    "DifferentialEquations.solve((x, p, t), tspan=(0.0, 1.0))"
   ]
  },
  {
   "cell_type": "code",
   "execution_count": 3,
   "metadata": {},
   "outputs": [
    {
     "data": {
      "text/plain": [
       "\u001b[36mODEProblem\u001b[0m with uType \u001b[36mFloat64\u001b[0m and tType \u001b[36mFloat64\u001b[0m. In-place: \u001b[36mfalse\u001b[0m\n",
       "timespan: (0.0, 1.0)\n",
       "u0: 0.5"
      ]
     },
     "execution_count": 3,
     "metadata": {},
     "output_type": "execute_result"
    }
   ],
   "source": [
    "# Linear ODE\n",
    "linear = (u,p,t) -> (p*u)\n",
    "linear_analytic = (u0,p,t) -> u0*exp(p*t)\n",
    "prob_ode_linear = ODEProblem(\n",
    "                  ODEFunction(linear,analytic=linear_analytic),\n",
    "                  1/2,(0.0,1.0),1.01)"
   ]
  },
  {
   "cell_type": "code",
   "execution_count": 4,
   "metadata": {},
   "outputs": [
    {
     "data": {
      "text/plain": [
       "retcode: Success\n",
       "Interpolation: Automatic order switching interpolation\n",
       "t: 5-element Array{Float64,1}:\n",
       " 0.0                \n",
       " 0.09964258706516003\n",
       " 0.3457024247583422 \n",
       " 0.6776921908052249 \n",
       " 1.0                \n",
       "u: 5-element Array{Float64,1}:\n",
       " 0.5               \n",
       " 0.552938681151017 \n",
       " 0.7089376245893467\n",
       " 0.9913594502399238\n",
       " 1.3728004409033037"
      ]
     },
     "execution_count": 4,
     "metadata": {},
     "output_type": "execute_result"
    }
   ],
   "source": [
    "solve(prob_ode_linear)"
   ]
  },
  {
   "cell_type": "code",
   "execution_count": 5,
   "metadata": {},
   "outputs": [],
   "source": [
    "using MathematicalSystems"
   ]
  },
  {
   "cell_type": "code",
   "execution_count": 11,
   "metadata": {},
   "outputs": [
    {
     "data": {
      "text/plain": [
       "InitialValueProblem{LinearContinuousSystem{Float64,IdentityMultiple{Float64}},Float64}(LinearContinuousSystem{Float64,IdentityMultiple{Float64}}([1.01]), 0.5)"
      ]
     },
     "execution_count": 11,
     "metadata": {},
     "output_type": "execute_result"
    }
   ],
   "source": [
    "#prob = @ivp(x' = 1.01*x, x(0) = 1/2)\n",
    "\n",
    "prob = IVP(@system(x' = 1.01*x), 1/2)"
   ]
  },
  {
   "cell_type": "code",
   "execution_count": 22,
   "metadata": {},
   "outputs": [
    {
     "data": {
      "text/plain": [
       "LinearContinuousSystem{Float64,IdentityMultiple{Float64}}([1.01])"
      ]
     },
     "execution_count": 22,
     "metadata": {},
     "output_type": "execute_result"
    }
   ],
   "source": [
    "s = @system(x' = 1.01*x)"
   ]
  },
  {
   "cell_type": "code",
   "execution_count": 23,
   "metadata": {},
   "outputs": [
    {
     "data": {
      "text/plain": [
       "true"
      ]
     },
     "execution_count": 23,
     "metadata": {},
     "output_type": "execute_result"
    }
   ],
   "source": [
    "isaffine(s)"
   ]
  },
  {
   "cell_type": "code",
   "execution_count": 21,
   "metadata": {},
   "outputs": [
    {
     "ename": "UndefVarError",
     "evalue": "UndefVarError: system not defined",
     "output_type": "error",
     "traceback": [
      "UndefVarError: system not defined",
      "",
      "Stacktrace:",
      " [1] top-level scope at In[21]:1"
     ]
    }
   ],
   "source": [
    "system(ivp::InitialValueProblem) = ivp.s\n",
    "\n",
    "system(prob)"
   ]
  },
  {
   "cell_type": "code",
   "execution_count": 12,
   "metadata": {},
   "outputs": [
    {
     "ename": "MethodError",
     "evalue": "MethodError: no method matching solve(::InitialValueProblem{LinearContinuousSystem{Float64,IdentityMultiple{Float64}},Float64}; tspan=(0.0, 1.0))\nClosest candidates are:\n  solve(!Matched::EnsembleProblem, !Matched::Any...; kwargs...) at /home/mforets/.julia/packages/DiffEqBase/LNYfU/src/solve.jl:74\n  solve(!Matched::DiffEqBase.AbstractNoiseProblem, !Matched::Any...; kwargs...) at /home/mforets/.julia/packages/DiffEqBase/LNYfU/src/solve.jl:82\n  solve(!Matched::PDEProblem, !Matched::DiffEqBase.DEAlgorithm, !Matched::Any...; kwargs...) at /home/mforets/.julia/packages/DiffEqBase/LNYfU/src/solve.jl:100\n  ...",
     "output_type": "error",
     "traceback": [
      "MethodError: no method matching solve(::InitialValueProblem{LinearContinuousSystem{Float64,IdentityMultiple{Float64}},Float64}; tspan=(0.0, 1.0))\nClosest candidates are:\n  solve(!Matched::EnsembleProblem, !Matched::Any...; kwargs...) at /home/mforets/.julia/packages/DiffEqBase/LNYfU/src/solve.jl:74\n  solve(!Matched::DiffEqBase.AbstractNoiseProblem, !Matched::Any...; kwargs...) at /home/mforets/.julia/packages/DiffEqBase/LNYfU/src/solve.jl:82\n  solve(!Matched::PDEProblem, !Matched::DiffEqBase.DEAlgorithm, !Matched::Any...; kwargs...) at /home/mforets/.julia/packages/DiffEqBase/LNYfU/src/solve.jl:100\n  ...",
      "",
      "Stacktrace:",
      " [1] top-level scope at In[12]:1"
     ]
    }
   ],
   "source": [
    "function DifferentialEquations.solve(prob::InitialValueProblem, tspan::Tuple{Float64, Float64})\n",
    "    \n",
    "    f = ODEFunction((x, p, t) -> state_matrix(s) * x)\n",
    "    \n",
    "end"
   ]
  },
  {
   "cell_type": "markdown",
   "metadata": {},
   "source": [
    "## MS Vector Fields"
   ]
  },
  {
   "cell_type": "code",
   "execution_count": 1,
   "metadata": {},
   "outputs": [
    {
     "name": "stderr",
     "output_type": "stream",
     "text": [
      "┌ Info: Recompiling stale cache file /home/mforets/.julia/compiled/v1.2/LazySets/NjrGc.ji for LazySets [b4f0291d-fe17-52bc-9479-3d1a343d9043]\n",
      "└ @ Base loading.jl:1240\n"
     ]
    }
   ],
   "source": [
    "using Revise, MathematicalSystems, LazySets\n",
    "\n",
    "MathematicalSystems.system(sys::AbstractSystem) = sys\n",
    "MathematicalSystems.system(sys::InitialValueProblem) = sys.s"
   ]
  },
  {
   "cell_type": "code",
   "execution_count": 2,
   "metadata": {},
   "outputs": [
    {
     "data": {
      "text/plain": [
       "evaluate (generic function with 1 method)"
      ]
     },
     "execution_count": 2,
     "metadata": {},
     "output_type": "execute_result"
    }
   ],
   "source": [
    "struct VectorField{T}\n",
    "    field::T\n",
    "end\n",
    "\n",
    "# function-like evaluation\n",
    "@inline function (V::VectorField)(args...)\n",
    "    evaluate(V, args...)\n",
    "end\n",
    "\n",
    "function evaluate(V::VectorField, args...)\n",
    "    return V.field(args...)\n",
    "end"
   ]
  },
  {
   "cell_type": "code",
   "execution_count": 7,
   "metadata": {},
   "outputs": [
    {
     "data": {
      "text/plain": [
       "vector_field (generic function with 1 method)"
      ]
     },
     "execution_count": 7,
     "metadata": {},
     "output_type": "execute_result"
    }
   ],
   "source": [
    "function VectorField(sys::AbstractSystem)\n",
    "    sys = system(sys)\n",
    "    if islinear(sys)\n",
    "        if inputdim(sys) == 0\n",
    "            field = (x) -> state_matrix(sys) * x\n",
    "        else\n",
    "            field = (x, u) -> state_matrix(sys) * x + input_matrix(sys) * u\n",
    "        end\n",
    "    elseif isaffine(sys)\n",
    "        if inputdim(sys) == 0\n",
    "            field = (x) -> state_matrix(sys) * x + affine_term(sys)\n",
    "        else\n",
    "            field = (x, u) -> state_matrix(sys) * x + affine_term(sys) + input_matrix(sys) * u\n",
    "        end\n",
    "    else\n",
    "        error(\"the vector field for a system of type $sys is not implemented yet\")\n",
    "    end\n",
    "    \n",
    "    return VectorField(field)\n",
    "end\n",
    "\n",
    "function vector_field(sys::AbstractSystem, args...)\n",
    "    return evaluate(VectorField(sys), args...)\n",
    "end"
   ]
  },
  {
   "cell_type": "code",
   "execution_count": 5,
   "metadata": {},
   "outputs": [
    {
     "data": {
      "text/plain": [
       "([0.0], [1.0])"
      ]
     },
     "execution_count": 5,
     "metadata": {},
     "output_type": "execute_result"
    }
   ],
   "source": [
    "V = VectorField(@system(x' = x))\n",
    "\n",
    "V([0.0]), V([1.0])"
   ]
  },
  {
   "cell_type": "code",
   "execution_count": 6,
   "metadata": {},
   "outputs": [
    {
     "data": {
      "text/plain": [
       "([1.0], [3.0])"
      ]
     },
     "execution_count": 6,
     "metadata": {},
     "output_type": "execute_result"
    }
   ],
   "source": [
    "V = VectorField(@system(x' = 2x + 1))\n",
    "\n",
    "V([0.0]), V([1.0])"
   ]
  },
  {
   "cell_type": "code",
   "execution_count": 8,
   "metadata": {},
   "outputs": [
    {
     "data": {
      "text/plain": [
       "1-element Array{Float64,1}:\n",
       " 0.0"
      ]
     },
     "execution_count": 8,
     "metadata": {},
     "output_type": "execute_result"
    }
   ],
   "source": [
    "vector_field(@system(x' = x), [0.0])"
   ]
  }
 ],
 "metadata": {
  "kernelspec": {
   "display_name": "Julia 1.2.0",
   "language": "julia",
   "name": "julia-1.2"
  },
  "language_info": {
   "file_extension": ".jl",
   "mimetype": "application/julia",
   "name": "julia",
   "version": "1.2.0"
  }
 },
 "nbformat": 4,
 "nbformat_minor": 2
}
