{
 "cells": [
  {
   "cell_type": "markdown",
   "metadata": {},
   "source": [
    "## RA"
   ]
  },
  {
   "cell_type": "markdown",
   "metadata": {},
   "source": [
    "Utilities to handle \"problems\":\n",
    "\n",
    "- https://github.com/JuliaDiffEq/DiffEqBase.jl/blob/87667e11c6c372ce1a1ec1c50600bad5e42691f8/src/problems/problem_utils.jl"
   ]
  },
  {
   "cell_type": "markdown",
   "metadata": {},
   "source": [
    "## Kronecker products"
   ]
  },
  {
   "cell_type": "code",
   "execution_count": 30,
   "metadata": {},
   "outputs": [],
   "source": [
    "using Kronecker, BenchmarkTools, Test, DynamicPolynomials\n",
    "using BenchmarkTools\n",
    "using StaticArrays\n",
    "\n",
    "# using BernsteinExpansions"
   ]
  },
  {
   "cell_type": "code",
   "execution_count": 31,
   "metadata": {},
   "outputs": [],
   "source": [
    "A = rand(3)\n",
    "B = rand(4);"
   ]
  },
  {
   "cell_type": "code",
   "execution_count": 32,
   "metadata": {},
   "outputs": [],
   "source": [
    "h = hcat(A) ⊗ hcat(B);"
   ]
  },
  {
   "cell_type": "code",
   "execution_count": null,
   "metadata": {},
   "outputs": [],
   "source": []
  },
  {
   "cell_type": "code",
   "execution_count": 33,
   "metadata": {},
   "outputs": [
    {
     "data": {
      "text/plain": [
       "12×1 Array{Float64,2}:\n",
       " 0.517253235988539   \n",
       " 0.436560576290533   \n",
       " 0.5805462522852999  \n",
       " 0.0828575758785168  \n",
       " 0.15660486691940845 \n",
       " 0.1321741580245117  \n",
       " 0.17576761681528696 \n",
       " 0.025086164263276693\n",
       " 0.45168032841642053 \n",
       " 0.3812171887058797  \n",
       " 0.5069496015660626  \n",
       " 0.07235360647492635 "
      ]
     },
     "execution_count": 33,
     "metadata": {},
     "output_type": "execute_result"
    }
   ],
   "source": [
    "kron(hcat(A), hcat(B))"
   ]
  },
  {
   "cell_type": "code",
   "execution_count": 34,
   "metadata": {},
   "outputs": [
    {
     "name": "stdout",
     "output_type": "stream",
     "text": [
      "  138.199 ns (7 allocations: 448 bytes)\n"
     ]
    }
   ],
   "source": [
    "@btime kron($A, $B);"
   ]
  },
  {
   "cell_type": "markdown",
   "metadata": {},
   "source": [
    "- Ideas from https://discourse.julialang.org/t/outer-broadcasting/22701/5\n",
    "\n",
    "- The function used is `*`, see [mul_float](https://github.com/JuliaLang/julia/blob/2d5741174ce3e6a394010d2e470e4269ca54607f/base/float.jl#L405)"
   ]
  },
  {
   "cell_type": "code",
   "execution_count": 35,
   "metadata": {},
   "outputs": [
    {
     "data": {
      "text/plain": [
       "outer (generic function with 1 method)"
      ]
     },
     "execution_count": 35,
     "metadata": {},
     "output_type": "execute_result"
    }
   ],
   "source": [
    "outer(arrays...) = [Base.mul_float(x...) for x in Iterators.product(arrays...)]"
   ]
  },
  {
   "cell_type": "code",
   "execution_count": 36,
   "metadata": {},
   "outputs": [
    {
     "data": {
      "text/plain": [
       "3×4 Array{Float64,2}:\n",
       " 0.517253  0.436561  0.580546  0.0828576\n",
       " 0.156605  0.132174  0.175768  0.0250862\n",
       " 0.45168   0.381217  0.50695   0.0723536"
      ]
     },
     "execution_count": 36,
     "metadata": {},
     "output_type": "execute_result"
    }
   ],
   "source": [
    "outer(A, B)"
   ]
  },
  {
   "cell_type": "code",
   "execution_count": 37,
   "metadata": {},
   "outputs": [
    {
     "name": "stdout",
     "output_type": "stream",
     "text": [
      "  47.999 ns (4 allocations: 240 bytes)\n"
     ]
    },
    {
     "data": {
      "text/plain": [
       "3×4 Array{Float64,2}:\n",
       " 0.517253  0.436561  0.580546  0.0828576\n",
       " 0.156605  0.132174  0.175768  0.0250862\n",
       " 0.45168   0.381217  0.50695   0.0723536"
      ]
     },
     "execution_count": 37,
     "metadata": {},
     "output_type": "execute_result"
    }
   ],
   "source": [
    "@btime outer($A, $B)"
   ]
  },
  {
   "cell_type": "code",
   "execution_count": 38,
   "metadata": {},
   "outputs": [
    {
     "data": {
      "text/plain": [
       "4-element SArray{Tuple{4},Float64,1,4} with indices SOneTo(4):\n",
       " 0.7292229650717279 \n",
       " 0.6154625543668104 \n",
       " 0.8184533802745433 \n",
       " 0.11681250682813804"
      ]
     },
     "execution_count": 38,
     "metadata": {},
     "output_type": "execute_result"
    }
   ],
   "source": [
    "As = SVector{3, Float64}(A)\n",
    "Bs = SVector{4, Float64}(B)"
   ]
  },
  {
   "cell_type": "code",
   "execution_count": 39,
   "metadata": {},
   "outputs": [
    {
     "data": {
      "text/plain": [
       "3×4 SizedArray{Tuple{3,4},Float64,2,2} with indices SOneTo(3)×SOneTo(4):\n",
       " 0.517253  0.436561  0.580546  0.0828576\n",
       " 0.156605  0.132174  0.175768  0.0250862\n",
       " 0.45168   0.381217  0.50695   0.0723536"
      ]
     },
     "execution_count": 39,
     "metadata": {},
     "output_type": "execute_result"
    }
   ],
   "source": [
    "outer(As, Bs)"
   ]
  },
  {
   "cell_type": "code",
   "execution_count": 40,
   "metadata": {},
   "outputs": [
    {
     "name": "stdout",
     "output_type": "stream",
     "text": [
      "  65.669 ns (4 allocations: 304 bytes)\n"
     ]
    },
    {
     "data": {
      "text/plain": [
       "3×4 SizedArray{Tuple{3,4},Float64,2,2} with indices SOneTo(3)×SOneTo(4):\n",
       " 0.517253  0.436561  0.580546  0.0828576\n",
       " 0.156605  0.132174  0.175768  0.0250862\n",
       " 0.45168   0.381217  0.50695   0.0723536"
      ]
     },
     "execution_count": 40,
     "metadata": {},
     "output_type": "execute_result"
    }
   ],
   "source": [
    "@btime outer($As, $Bs)"
   ]
  },
  {
   "cell_type": "code",
   "execution_count": 41,
   "metadata": {},
   "outputs": [
    {
     "data": {
      "text/plain": [
       "outer_s (generic function with 1 method)"
      ]
     },
     "execution_count": 41,
     "metadata": {},
     "output_type": "execute_result"
    }
   ],
   "source": [
    "function outer_s(V1, V2)\n",
    "    n1 = length(V1)\n",
    "    n2 = length(V2)\n",
    "    M = MArray{Tuple{n1, n2}, Float64, 2}(undef)\n",
    "    for i in 1:n2\n",
    "        @inbounds M[:, i] = V1 * V2[i]\n",
    "    end\n",
    "    return M\n",
    "end"
   ]
  },
  {
   "cell_type": "code",
   "execution_count": 42,
   "metadata": {},
   "outputs": [
    {
     "data": {
      "text/plain": [
       "3×4 MArray{Tuple{3,4},Float64,2,12} with indices SOneTo(3)×SOneTo(4):\n",
       " 0.517253  0.436561  0.580546  0.0828576\n",
       " 0.156605  0.132174  0.175768  0.0250862\n",
       " 0.45168   0.381217  0.50695   0.0723536"
      ]
     },
     "execution_count": 42,
     "metadata": {},
     "output_type": "execute_result"
    }
   ],
   "source": [
    "outer_s(As, Bs)"
   ]
  },
  {
   "cell_type": "code",
   "execution_count": 43,
   "metadata": {},
   "outputs": [
    {
     "data": {
      "text/plain": [
       "3×4 Array{Float64,2}:\n",
       " 0.517253  0.436561  0.580546  0.0828576\n",
       " 0.156605  0.132174  0.175768  0.0250862\n",
       " 0.45168   0.381217  0.50695   0.0723536"
      ]
     },
     "execution_count": 43,
     "metadata": {},
     "output_type": "execute_result"
    }
   ],
   "source": [
    "outer(A, B)"
   ]
  },
  {
   "cell_type": "code",
   "execution_count": 44,
   "metadata": {},
   "outputs": [
    {
     "name": "stdout",
     "output_type": "stream",
     "text": [
      "  10.865 ns (1 allocation: 112 bytes)\n"
     ]
    },
    {
     "data": {
      "text/plain": [
       "3×4 MArray{Tuple{3,4},Float64,2,12} with indices SOneTo(3)×SOneTo(4):\n",
       " 0.517253  0.436561  0.580546  0.0828576\n",
       " 0.156605  0.132174  0.175768  0.0250862\n",
       " 0.45168   0.381217  0.50695   0.0723536"
      ]
     },
     "execution_count": 44,
     "metadata": {},
     "output_type": "execute_result"
    }
   ],
   "source": [
    "@btime outer_s($As, $Bs)"
   ]
  },
  {
   "cell_type": "code",
   "execution_count": 45,
   "metadata": {},
   "outputs": [
    {
     "name": "stdout",
     "output_type": "stream",
     "text": [
      "  47.892 ns (4 allocations: 240 bytes)\n"
     ]
    },
    {
     "data": {
      "text/plain": [
       "3×4 Array{Float64,2}:\n",
       " 0.517253  0.436561  0.580546  0.0828576\n",
       " 0.156605  0.132174  0.175768  0.0250862\n",
       " 0.45168   0.381217  0.50695   0.0723536"
      ]
     },
     "execution_count": 45,
     "metadata": {},
     "output_type": "execute_result"
    }
   ],
   "source": [
    "@btime outer($A, $B)"
   ]
  },
  {
   "cell_type": "code",
   "execution_count": 46,
   "metadata": {},
   "outputs": [
    {
     "ename": "UndefVarError",
     "evalue": "UndefVarError: arrays not defined",
     "output_type": "error",
     "traceback": [
      "UndefVarError: arrays not defined",
      "",
      "Stacktrace:",
      " [1] top-level scope at In[46]:1"
     ]
    }
   ],
   "source": [
    "y = Iterators.product(arrays...)"
   ]
  },
  {
   "cell_type": "code",
   "execution_count": 47,
   "metadata": {},
   "outputs": [
    {
     "data": {
      "text/plain": [
       "3×4 MArray{Tuple{3,4},Float64,2,12} with indices SOneTo(3)×SOneTo(4):\n",
       " 6.94502e-310  1.4822e-323  0.580546      6.94505e-310\n",
       " 1.4822e-323   1.4822e-323  0.175768      6.94505e-310\n",
       " 2.81295e-318  0.381217     6.94505e-310  0.0723536   "
      ]
     },
     "execution_count": 47,
     "metadata": {},
     "output_type": "execute_result"
    }
   ],
   "source": [
    "m = MArray{Tuple{3, 4}, Float64, 2}(undef)"
   ]
  },
  {
   "cell_type": "code",
   "execution_count": null,
   "metadata": {},
   "outputs": [],
   "source": []
  },
  {
   "cell_type": "code",
   "execution_count": null,
   "metadata": {},
   "outputs": [],
   "source": []
  },
  {
   "cell_type": "code",
   "execution_count": 48,
   "metadata": {},
   "outputs": [
    {
     "data": {
      "text/plain": [
       "3×4 MArray{Tuple{3,4},Float64,2,12} with indices SOneTo(3)×SOneTo(4):\n",
       " 6.94502e-310  1.4822e-323  0.580546      6.94505e-310\n",
       " 1.4822e-323   1.4822e-323  0.175768      6.94505e-310\n",
       " 2.81295e-318  0.381217     6.94505e-310  0.0723536   "
      ]
     },
     "execution_count": 48,
     "metadata": {},
     "output_type": "execute_result"
    }
   ],
   "source": [
    "m"
   ]
  },
  {
   "cell_type": "code",
   "execution_count": 49,
   "metadata": {},
   "outputs": [
    {
     "name": "stdout",
     "output_type": "stream",
     "text": [
      "1\n",
      "2\n",
      "3\n",
      "4\n",
      "5\n",
      "6\n",
      "7\n",
      "8\n",
      "9\n",
      "10\n",
      "11\n",
      "12\n"
     ]
    }
   ],
   "source": [
    "for (i, x) in enumerate(Iterators.product((A, B)...))\n",
    "    println(i)\n",
    "end"
   ]
  },
  {
   "cell_type": "code",
   "execution_count": 50,
   "metadata": {},
   "outputs": [
    {
     "ename": "LoadError",
     "evalue": "syntax: missing comma or ) in argument list",
     "output_type": "error",
     "traceback": [
      "syntax: missing comma or ) in argument list",
      ""
     ]
    }
   ],
   "source": [
    "@generated function outer_g(f, args::Tuple{Vararg{Any, N}}) where {N}\n",
    "    expr = Expr(:call, :broadcast, :f)\n",
    "    for i in 1:N\n",
    "        if i == 1\n",
    "            push!(expr.args, :(args[1]))\n",
    "        else\n",
    "            push!(expr.args, Expr(:call, :reshape, :(args[$i]), Expr(:tuple, [1 for _ in 1:i - 1]..., :(:))))\n",
    "        end\n",
    "    end\n",
    "    expr\n",
    "end\n",
    "\n",
    "@generated function outer_mul(args::Tuple{Vararg{Any, N}}) where {N}\n",
    "    expr = Expr(:call, :broadcast, :(Base.mul_float)\n",
    "    for i in 1:N\n",
    "        if i == 1\n",
    "            push!(expr.args, :(args[1]))\n",
    "        else\n",
    "            push!(expr.args, Expr(:call, :reshape, :(args[$i]), Expr(:tuple, [1 for _ in 1:i - 1]..., :(:))))\n",
    "        end\n",
    "    end\n",
    "    expr\n",
    "end"
   ]
  },
  {
   "cell_type": "code",
   "execution_count": 51,
   "metadata": {},
   "outputs": [
    {
     "name": "stdout",
     "output_type": "stream",
     "text": [
      "  2.323 μs (79 allocations: 1.92 KiB)\n"
     ]
    }
   ],
   "source": [
    "@btime outer_g(Base.mul_float, ($A, $B));"
   ]
  },
  {
   "cell_type": "code",
   "execution_count": 52,
   "metadata": {},
   "outputs": [
    {
     "ename": "UndefVarError",
     "evalue": "UndefVarError: outer_mul not defined",
     "output_type": "error",
     "traceback": [
      "UndefVarError: outer_mul not defined",
      "",
      "Stacktrace:",
      " [1] ##core#501(::Tuple{Array{Float64,1},Array{Float64,1}}) at /home/mforets/.julia/packages/BenchmarkTools/7aqwe/src/execution.jl:297",
      " [2] ##sample#502(::BenchmarkTools.Parameters) at /home/mforets/.julia/packages/BenchmarkTools/7aqwe/src/execution.jl:303",
      " [3] #_run#17(::Bool, ::String, ::Base.Iterators.Pairs{Symbol,Integer,NTuple{4,Symbol},NamedTuple{(:samples, :evals, :gctrial, :gcsample),Tuple{Int64,Int64,Bool,Bool}}}, ::typeof(BenchmarkTools._run), ::BenchmarkTools.Benchmark{Symbol(\"##benchmark#500\")}, ::BenchmarkTools.Parameters) at /home/mforets/.julia/packages/BenchmarkTools/7aqwe/src/execution.jl:331",
      " [4] (::Base.var\"#inner#2\"{Base.Iterators.Pairs{Symbol,Integer,NTuple{5,Symbol},NamedTuple{(:verbose, :samples, :evals, :gctrial, :gcsample),Tuple{Bool,Int64,Int64,Bool,Bool}}},typeof(BenchmarkTools._run),Tuple{BenchmarkTools.Benchmark{Symbol(\"##benchmark#500\")},BenchmarkTools.Parameters}})() at ./none:0",
      " [5] #invokelatest#1 at ./essentials.jl:713 [inlined]",
      " [6] #invokelatest at ./none:0 [inlined]",
      " [7] #run_result#37 at /home/mforets/.julia/packages/BenchmarkTools/7aqwe/src/execution.jl:32 [inlined]",
      " [8] #run_result at ./none:0 [inlined]",
      " [9] #run#39(::Base.Iterators.Pairs{Symbol,Integer,NTuple{5,Symbol},NamedTuple{(:verbose, :samples, :evals, :gctrial, :gcsample),Tuple{Bool,Int64,Int64,Bool,Bool}}}, ::typeof(run), ::BenchmarkTools.Benchmark{Symbol(\"##benchmark#500\")}, ::BenchmarkTools.Parameters) at /home/mforets/.julia/packages/BenchmarkTools/7aqwe/src/execution.jl:46",
      " [10] #run at ./none:0 [inlined] (repeats 2 times)",
      " [11] #warmup#42 at /home/mforets/.julia/packages/BenchmarkTools/7aqwe/src/execution.jl:79 [inlined]",
      " [12] warmup(::BenchmarkTools.Benchmark{Symbol(\"##benchmark#500\")}) at /home/mforets/.julia/packages/BenchmarkTools/7aqwe/src/execution.jl:79",
      " [13] top-level scope at /home/mforets/.julia/packages/BenchmarkTools/7aqwe/src/execution.jl:390",
      " [14] top-level scope at In[52]:2"
     ]
    }
   ],
   "source": [
    "const arrays2 = (A, B)\n",
    "@btime outer_mul($arrays2)"
   ]
  },
  {
   "cell_type": "code",
   "execution_count": 53,
   "metadata": {},
   "outputs": [
    {
     "name": "stdout",
     "output_type": "stream",
     "text": [
      "  47.922 ns (4 allocations: 240 bytes)\n"
     ]
    },
    {
     "data": {
      "text/plain": [
       "3×4 Array{Float64,2}:\n",
       " 0.517253  0.436561  0.580546  0.0828576\n",
       " 0.156605  0.132174  0.175768  0.0250862\n",
       " 0.45168   0.381217  0.50695   0.0723536"
      ]
     },
     "execution_count": 53,
     "metadata": {},
     "output_type": "execute_result"
    }
   ],
   "source": [
    "@btime outer($A, $B)"
   ]
  },
  {
   "cell_type": "markdown",
   "metadata": {},
   "source": [
    "## Three vectors"
   ]
  },
  {
   "cell_type": "code",
   "execution_count": 54,
   "metadata": {},
   "outputs": [
    {
     "data": {
      "text/plain": [
       "3-element Array{Float64,1}:\n",
       " 0.7093211003546231 \n",
       " 0.21475580778507775\n",
       " 0.6193994841783299 "
      ]
     },
     "execution_count": 54,
     "metadata": {},
     "output_type": "execute_result"
    }
   ],
   "source": [
    "A"
   ]
  },
  {
   "cell_type": "code",
   "execution_count": 55,
   "metadata": {},
   "outputs": [
    {
     "data": {
      "text/plain": [
       "4-element Array{Float64,1}:\n",
       " 0.7292229650717279 \n",
       " 0.6154625543668104 \n",
       " 0.8184533802745433 \n",
       " 0.11681250682813804"
      ]
     },
     "execution_count": 55,
     "metadata": {},
     "output_type": "execute_result"
    }
   ],
   "source": [
    "B"
   ]
  },
  {
   "cell_type": "code",
   "execution_count": 56,
   "metadata": {},
   "outputs": [
    {
     "data": {
      "text/plain": [
       "2-element Array{Float64,1}:\n",
       " 0.12482653855927328\n",
       " 0.8132835764375597 "
      ]
     },
     "execution_count": 56,
     "metadata": {},
     "output_type": "execute_result"
    }
   ],
   "source": [
    "C = rand(2)"
   ]
  },
  {
   "cell_type": "code",
   "execution_count": 57,
   "metadata": {},
   "outputs": [],
   "source": [
    "As = SVector{3, Float64}(A)\n",
    "Bs = SVector{4, Float64}(B)\n",
    "Cs = SVector{2, Float64}(C);"
   ]
  },
  {
   "cell_type": "code",
   "execution_count": 58,
   "metadata": {},
   "outputs": [
    {
     "data": {
      "text/plain": [
       "3×4 MArray{Tuple{3,4},Float64,2,12} with indices SOneTo(3)×SOneTo(4):\n",
       " 0.517253  0.436561  0.580546  0.0828576\n",
       " 0.156605  0.132174  0.175768  0.0250862\n",
       " 0.45168   0.381217  0.50695   0.0723536"
      ]
     },
     "execution_count": 58,
     "metadata": {},
     "output_type": "execute_result"
    }
   ],
   "source": [
    "M = outer_s(As, Bs)"
   ]
  },
  {
   "cell_type": "code",
   "execution_count": 59,
   "metadata": {},
   "outputs": [
    {
     "data": {
      "text/plain": [
       "3×4 MArray{Tuple{3,4},Float64,2,12} with indices SOneTo(3)×SOneTo(4):\n",
       " 0.0645669  0.0544943  0.0724676  0.0103428 \n",
       " 0.0195484  0.0164988  0.0219405  0.00313142\n",
       " 0.0563817  0.047586   0.0632808  0.00903165"
      ]
     },
     "execution_count": 59,
     "metadata": {},
     "output_type": "execute_result"
    }
   ],
   "source": [
    "M * Cs[1]"
   ]
  },
  {
   "cell_type": "code",
   "execution_count": 60,
   "metadata": {},
   "outputs": [
    {
     "data": {
      "text/plain": [
       "outer_s (generic function with 2 methods)"
      ]
     },
     "execution_count": 60,
     "metadata": {},
     "output_type": "execute_result"
    }
   ],
   "source": [
    "function outer_s(V1, V2, V3)\n",
    "    n1 = length(V1)\n",
    "    n2 = length(V2)\n",
    "    M = MArray{Tuple{n1, n2}, Float64}(undef)\n",
    "    for i in 1:n2\n",
    "        @inbounds M[:, i] = V1 .* V2[i]\n",
    "    end\n",
    "    \n",
    "    n3 = length(V3)\n",
    "    Q = MArray{Tuple{n1, n2, n3}, Float64}(undef)\n",
    "    for i in 1:n3\n",
    "        @inbounds Q[:, :, i] = M .* V3[i]\n",
    "    end\n",
    "    return Q\n",
    "end"
   ]
  },
  {
   "cell_type": "code",
   "execution_count": 61,
   "metadata": {},
   "outputs": [
    {
     "name": "stdout",
     "output_type": "stream",
     "text": [
      "  16.886 ns (1 allocation: 208 bytes)\n"
     ]
    }
   ],
   "source": [
    "@btime outer_s($As, $Bs, $Cs);"
   ]
  },
  {
   "cell_type": "code",
   "execution_count": 62,
   "metadata": {},
   "outputs": [
    {
     "data": {
      "text/plain": [
       "3-element SArray{Tuple{3},Float64,1,3} with indices SOneTo(3):\n",
       " 0.7093211003546231 \n",
       " 0.21475580778507775\n",
       " 0.6193994841783299 "
      ]
     },
     "execution_count": 62,
     "metadata": {},
     "output_type": "execute_result"
    }
   ],
   "source": [
    "As"
   ]
  },
  {
   "cell_type": "code",
   "execution_count": 63,
   "metadata": {},
   "outputs": [
    {
     "data": {
      "text/plain": [
       "2×1 SArray{Tuple{2,1},Float64,2,2} with indices SOneTo(2)×SOneTo(1):\n",
       " 0.12482653855927328\n",
       " 0.8132835764375597 "
      ]
     },
     "execution_count": 63,
     "metadata": {},
     "output_type": "execute_result"
    }
   ],
   "source": [
    "Am = SMatrix{3, 1, Float64}(A)\n",
    "Bm = SMatrix{4, 1, Float64}(B)\n",
    "Cm = SMatrix{2, 1, Float64}(C)"
   ]
  },
  {
   "cell_type": "code",
   "execution_count": 64,
   "metadata": {},
   "outputs": [
    {
     "data": {
      "text/plain": [
       "outer_s_v2 (generic function with 1 method)"
      ]
     },
     "execution_count": 64,
     "metadata": {},
     "output_type": "execute_result"
    }
   ],
   "source": [
    "function outer_s_v2(A, B)\n",
    "    return A * B'\n",
    "end"
   ]
  },
  {
   "cell_type": "code",
   "execution_count": 65,
   "metadata": {},
   "outputs": [
    {
     "data": {
      "text/plain": [
       "3×4 MArray{Tuple{3,4},Float64,2,12} with indices SOneTo(3)×SOneTo(4):\n",
       " 0.517253  0.436561  0.580546  0.0828576\n",
       " 0.156605  0.132174  0.175768  0.0250862\n",
       " 0.45168   0.381217  0.50695   0.0723536"
      ]
     },
     "execution_count": 65,
     "metadata": {},
     "output_type": "execute_result"
    }
   ],
   "source": [
    "outer_s(As, Bs)"
   ]
  },
  {
   "cell_type": "code",
   "execution_count": 66,
   "metadata": {},
   "outputs": [
    {
     "data": {
      "text/plain": [
       "3×4 SArray{Tuple{3,4},Float64,2,12} with indices SOneTo(3)×SOneTo(4):\n",
       " 0.517253  0.436561  0.580546  0.0828576\n",
       " 0.156605  0.132174  0.175768  0.0250862\n",
       " 0.45168   0.381217  0.50695   0.0723536"
      ]
     },
     "execution_count": 66,
     "metadata": {},
     "output_type": "execute_result"
    }
   ],
   "source": [
    "outer_s_v2(As, Bs)"
   ]
  },
  {
   "cell_type": "code",
   "execution_count": 67,
   "metadata": {},
   "outputs": [
    {
     "name": "stdout",
     "output_type": "stream",
     "text": [
      "  0.016 ns (0 allocations: 0 bytes)\n"
     ]
    },
    {
     "data": {
      "text/plain": [
       "3×4 SArray{Tuple{3,4},Float64,2,12} with indices SOneTo(3)×SOneTo(4):\n",
       " 0.517253  0.436561  0.580546  0.0828576\n",
       " 0.156605  0.132174  0.175768  0.0250862\n",
       " 0.45168   0.381217  0.50695   0.0723536"
      ]
     },
     "execution_count": 67,
     "metadata": {},
     "output_type": "execute_result"
    }
   ],
   "source": [
    "@btime outer_s_v2($As, $Bs)"
   ]
  },
  {
   "cell_type": "code",
   "execution_count": 68,
   "metadata": {},
   "outputs": [
    {
     "data": {
      "text/plain": [
       "3×4 SArray{Tuple{3,4},Float64,2,12} with indices SOneTo(3)×SOneTo(4):\n",
       " 0.517253  0.436561  0.580546  0.0828576\n",
       " 0.156605  0.132174  0.175768  0.0250862\n",
       " 0.45168   0.381217  0.50695   0.0723536"
      ]
     },
     "execution_count": 68,
     "metadata": {},
     "output_type": "execute_result"
    }
   ],
   "source": [
    "outer_s_v2(As, Bs)"
   ]
  },
  {
   "cell_type": "code",
   "execution_count": 69,
   "metadata": {},
   "outputs": [],
   "source": [
    "h = hcat(A) ⊗ hcat(B) ⊗ hcat(C);"
   ]
  },
  {
   "cell_type": "code",
   "execution_count": 70,
   "metadata": {},
   "outputs": [
    {
     "name": "stdout",
     "output_type": "stream",
     "text": [
      "  92.654 ns (2 allocations: 448 bytes)\n"
     ]
    }
   ],
   "source": [
    "@btime collect($h);"
   ]
  },
  {
   "cell_type": "markdown",
   "metadata": {},
   "source": [
    "## Assemble: vector vs multidim array"
   ]
  },
  {
   "cell_type": "markdown",
   "metadata": {},
   "source": [
    "Given a vector `v` and a multi-dimensional array `M`, the function `assemble`"
   ]
  },
  {
   "cell_type": "code",
   "execution_count": 71,
   "metadata": {},
   "outputs": [
    {
     "name": "stdout",
     "output_type": "stream",
     "text": [
      "search: \u001b[0m\u001b[1mS\u001b[22m\u001b[0m\u001b[1mV\u001b[22m\u001b[0m\u001b[1me\u001b[22m\u001b[0m\u001b[1mc\u001b[22m\u001b[0m\u001b[1mt\u001b[22m\u001b[0m\u001b[1mo\u001b[22m\u001b[0m\u001b[1mr\u001b[22m @\u001b[0m\u001b[1mS\u001b[22m\u001b[0m\u001b[1mV\u001b[22m\u001b[0m\u001b[1me\u001b[22m\u001b[0m\u001b[1mc\u001b[22m\u001b[0m\u001b[1mt\u001b[22m\u001b[0m\u001b[1mo\u001b[22m\u001b[0m\u001b[1mr\u001b[22m Den\u001b[0m\u001b[1ms\u001b[22me\u001b[0m\u001b[1mV\u001b[22m\u001b[0m\u001b[1me\u001b[22m\u001b[0m\u001b[1mc\u001b[22m\u001b[0m\u001b[1mt\u001b[22m\u001b[0m\u001b[1mo\u001b[22m\u001b[0m\u001b[1mr\u001b[22m \u001b[0m\u001b[1mS\u001b[22mized\u001b[0m\u001b[1mV\u001b[22m\u001b[0m\u001b[1me\u001b[22m\u001b[0m\u001b[1mc\u001b[22m\u001b[0m\u001b[1mt\u001b[22m\u001b[0m\u001b[1mo\u001b[22m\u001b[0m\u001b[1mr\u001b[22m \u001b[0m\u001b[1mS\u001b[22mtatic\u001b[0m\u001b[1mV\u001b[22m\u001b[0m\u001b[1me\u001b[22m\u001b[0m\u001b[1mc\u001b[22m\u001b[0m\u001b[1mt\u001b[22m\u001b[0m\u001b[1mo\u001b[22m\u001b[0m\u001b[1mr\u001b[22m Ab\u001b[0m\u001b[1ms\u001b[22mtract\u001b[0m\u001b[1mV\u001b[22m\u001b[0m\u001b[1me\u001b[22m\u001b[0m\u001b[1mc\u001b[22m\u001b[0m\u001b[1mt\u001b[22m\u001b[0m\u001b[1mo\u001b[22m\u001b[0m\u001b[1mr\u001b[22m\n",
      "\n"
     ]
    },
    {
     "data": {
      "text/latex": [
       "\\begin{verbatim}\n",
       "SVector{S, T}(x::NTuple{S, T})\n",
       "SVector{S, T}(x1, x2, x3, ...)\n",
       "\\end{verbatim}\n",
       "Construct a statically-sized vector \\texttt{SVector}. Since this type is immutable, the data must be provided upon construction and cannot be mutated later. Constructors may drop the \\texttt{T} and \\texttt{S} parameters if they are inferrable from the input (e.g. \\texttt{SVector(1,2,3)} constructs an \\texttt{SVector\\{3, Int\\}}).\n",
       "\n",
       "\\begin{verbatim}\n",
       "SVector{S}(vec::Vector)\n",
       "\\end{verbatim}\n",
       "Construct a statically-sized vector of length \\texttt{S} using the data from \\texttt{vec}. The parameter \\texttt{S} is mandatory since the length of \\texttt{vec} is unknown to the compiler (the element type may optionally also be specified).\n",
       "\n"
      ],
      "text/markdown": [
       "```\n",
       "SVector{S, T}(x::NTuple{S, T})\n",
       "SVector{S, T}(x1, x2, x3, ...)\n",
       "```\n",
       "\n",
       "Construct a statically-sized vector `SVector`. Since this type is immutable, the data must be provided upon construction and cannot be mutated later. Constructors may drop the `T` and `S` parameters if they are inferrable from the input (e.g. `SVector(1,2,3)` constructs an `SVector{3, Int}`).\n",
       "\n",
       "```\n",
       "SVector{S}(vec::Vector)\n",
       "```\n",
       "\n",
       "Construct a statically-sized vector of length `S` using the data from `vec`. The parameter `S` is mandatory since the length of `vec` is unknown to the compiler (the element type may optionally also be specified).\n"
      ],
      "text/plain": [
       "\u001b[36m  SVector{S, T}(x::NTuple{S, T})\u001b[39m\n",
       "\u001b[36m  SVector{S, T}(x1, x2, x3, ...)\u001b[39m\n",
       "\n",
       "  Construct a statically-sized vector \u001b[36mSVector\u001b[39m. Since this type is immutable,\n",
       "  the data must be provided upon construction and cannot be mutated later.\n",
       "  Constructors may drop the \u001b[36mT\u001b[39m and \u001b[36mS\u001b[39m parameters if they are inferrable from the\n",
       "  input (e.g. \u001b[36mSVector(1,2,3)\u001b[39m constructs an \u001b[36mSVector{3, Int}\u001b[39m).\n",
       "\n",
       "\u001b[36m  SVector{S}(vec::Vector)\u001b[39m\n",
       "\n",
       "  Construct a statically-sized vector of length \u001b[36mS\u001b[39m using the data from \u001b[36mvec\u001b[39m. The\n",
       "  parameter \u001b[36mS\u001b[39m is mandatory since the length of \u001b[36mvec\u001b[39m is unknown to the compiler\n",
       "  (the element type may optionally also be specified)."
      ]
     },
     "execution_count": 71,
     "metadata": {},
     "output_type": "execute_result"
    }
   ],
   "source": [
    "?SVector"
   ]
  },
  {
   "cell_type": "code",
   "execution_count": 72,
   "metadata": {},
   "outputs": [
    {
     "ename": "LoadError",
     "evalue": "syntax: missing comma or } in argument list",
     "output_type": "error",
     "traceback": [
      "syntax: missing comma or } in argument list",
      ""
     ]
    }
   ],
   "source": [
    "function assemble(vec::SVector{L, T}, src::MArray{S, T}) where {L, T}\n",
    "    dst = MArray{Tupl(undef)\n",
    "end\n",
    "\n",
    "function assemble!(dst, vec, src)\n",
    "    \n",
    "end"
   ]
  },
  {
   "cell_type": "code",
   "execution_count": 73,
   "metadata": {},
   "outputs": [],
   "source": [
    "using LinearAlgebra"
   ]
  },
  {
   "cell_type": "code",
   "execution_count": 74,
   "metadata": {},
   "outputs": [
    {
     "ename": "MethodError",
     "evalue": "MethodError: no method matching iterate(::Type{Tuple{3,4,5}})\nClosest candidates are:\n  iterate(!Matched::Core.SimpleVector) at essentials.jl:600\n  iterate(!Matched::Core.SimpleVector, !Matched::Any) at essentials.jl:600\n  iterate(!Matched::ExponentialBackOff) at error.jl:218\n  ...",
     "output_type": "error",
     "traceback": [
      "MethodError: no method matching iterate(::Type{Tuple{3,4,5}})\nClosest candidates are:\n  iterate(!Matched::Core.SimpleVector) at essentials.jl:600\n  iterate(!Matched::Core.SimpleVector, !Matched::Any) at essentials.jl:600\n  iterate(!Matched::ExponentialBackOff) at error.jl:218\n  ...",
      "",
      "Stacktrace:",
      " [1] top-level scope at In[74]:2"
     ]
    }
   ],
   "source": [
    "s = Tuple{3, 4, 5}\n",
    "(s..., 5)"
   ]
  },
  {
   "cell_type": "code",
   "execution_count": 75,
   "metadata": {},
   "outputs": [
    {
     "data": {
      "text/plain": [
       "2-element MArray{Tuple{2},Float64,1,2} with indices SOneTo(2):\n",
       " 0.04823083105462511\n",
       " 0.07866426427553241"
      ]
     },
     "execution_count": 75,
     "metadata": {},
     "output_type": "execute_result"
    }
   ],
   "source": [
    "x = @MVector(rand(2))"
   ]
  },
  {
   "cell_type": "code",
   "execution_count": 76,
   "metadata": {},
   "outputs": [
    {
     "data": {
      "text/plain": [
       "2×2 MArray{Tuple{2,2},Float64,2,4} with indices SOneTo(2)×SOneTo(2):\n",
       " 0.684286   0.409102\n",
       " 0.0335525  0.351199"
      ]
     },
     "execution_count": 76,
     "metadata": {},
     "output_type": "execute_result"
    }
   ],
   "source": [
    "y = @MMatrix(rand(2, 2))"
   ]
  },
  {
   "cell_type": "code",
   "execution_count": 77,
   "metadata": {},
   "outputs": [
    {
     "data": {
      "text/plain": [
       "2×2×2 SizedArray{Tuple{2,2,2},Float64,3,3} with indices SOneTo(2)×SOneTo(2)×SOneTo(2):\n",
       "[:, :, 1] =\n",
       " 0.0330037  0.00161826\n",
       " 0.0538288  0.00263938\n",
       "\n",
       "[:, :, 2] =\n",
       " 0.0197313  0.0169386\n",
       " 0.0321817  0.0276268"
      ]
     },
     "execution_count": 77,
     "metadata": {},
     "output_type": "execute_result"
    }
   ],
   "source": [
    "outer(x, y)"
   ]
  },
  {
   "cell_type": "markdown",
   "metadata": {},
   "source": [
    "## Generated product"
   ]
  },
  {
   "cell_type": "code",
   "execution_count": 78,
   "metadata": {},
   "outputs": [],
   "source": [
    "using StaticArrays\n",
    "\n",
    "using Base.Cartesian"
   ]
  },
  {
   "cell_type": "code",
   "execution_count": 79,
   "metadata": {},
   "outputs": [
    {
     "data": {
      "text/plain": [
       "outer_gen (generic function with 1 method)"
      ]
     },
     "execution_count": 79,
     "metadata": {},
     "output_type": "execute_result"
    }
   ],
   "source": [
    "@generated function _tensor_generated!(A::AbstractArray{T, N}, v) where {T, N}\n",
    "    quote\n",
    "        @inbounds for $(Symbol(:i_, N)) in eachindex(v[$N])\n",
    "                  @nloops $(N-1) i i -> eachindex(v[i]) d -> d == 1 ?\n",
    "                            nothing :\n",
    "                            d == $N-1 ?\n",
    "                                    t_{d-1} = v[i_{d}, d] * v[i_{d+1}, d+1] :\n",
    "                                    t_{d-1} = t_{d} * v[i_{d}][d] begin\n",
    "                                        if $N==2\n",
    "                                            (@nref $N A i) = v[i_1, 1] * v[i_2, 2]\n",
    "                                        else\n",
    "                                            (@nref $N A i) = t_1 * v[i_1, 1]\n",
    "                                        end\n",
    "                                end\n",
    "               end\n",
    "     end\n",
    "end\n",
    "\n",
    "function outer_gen(array)\n",
    "    ndims = length(array)\n",
    "    lengths = Tuple(length(ai) for ai in array)\n",
    "    dst = Array{Float64, ndims}(undef, lengths)\n",
    "    _tensor_generated!(dst, array)\n",
    "    return dst\n",
    "end"
   ]
  },
  {
   "cell_type": "code",
   "execution_count": 94,
   "metadata": {},
   "outputs": [
    {
     "data": {
      "text/plain": [
       "3-element Array{Float64,1}:\n",
       " 0.49045263575638476 \n",
       " 0.9374432227378064  \n",
       " 0.025626237532135665"
      ]
     },
     "execution_count": 94,
     "metadata": {},
     "output_type": "execute_result"
    }
   ],
   "source": [
    "A = rand(2)\n",
    "B = rand(3)"
   ]
  },
  {
   "cell_type": "code",
   "execution_count": 81,
   "metadata": {},
   "outputs": [],
   "source": [
    "using RecursiveArrayTools"
   ]
  },
  {
   "cell_type": "code",
   "execution_count": 95,
   "metadata": {},
   "outputs": [
    {
     "data": {
      "text/plain": [
       "2-element Array{Array{Float64,1},1}:\n",
       " [0.046636187088634706, 0.3252387580700036]                     \n",
       " [0.49045263575638476, 0.9374432227378064, 0.025626237532135665]"
      ]
     },
     "execution_count": 95,
     "metadata": {},
     "output_type": "execute_result"
    }
   ],
   "source": [
    "array = VectorOfArray([A, B])"
   ]
  },
  {
   "cell_type": "code",
   "execution_count": 83,
   "metadata": {},
   "outputs": [
    {
     "data": {
      "text/plain": [
       "2×2 Array{Float64,2}:\n",
       " 6.94502e-310  6.94502e-310\n",
       " 6.94502e-310  6.94508e-310"
      ]
     },
     "execution_count": 83,
     "metadata": {},
     "output_type": "execute_result"
    }
   ],
   "source": [
    "ndims = length(array)\n",
    "\n",
    "dst = Array{Float64, ndims}(undef, size(array))\n",
    "#_tensor_generated!(dst, array)"
   ]
  },
  {
   "cell_type": "code",
   "execution_count": 99,
   "metadata": {},
   "outputs": [
    {
     "name": "stdout",
     "output_type": "stream",
     "text": [
      "  445.985 ns (4 allocations: 272 bytes)\n"
     ]
    },
    {
     "data": {
      "text/plain": [
       "2×3 Array{Float64,2}:\n",
       " 0.0228728  0.0437188  0.00119511\n",
       " 0.159514   0.304893   0.00833465"
      ]
     },
     "execution_count": 99,
     "metadata": {},
     "output_type": "execute_result"
    }
   ],
   "source": [
    "@btime outer_gen($array)"
   ]
  },
  {
   "cell_type": "code",
   "execution_count": 103,
   "metadata": {},
   "outputs": [
    {
     "name": "stdout",
     "output_type": "stream",
     "text": [
      "  10.436 ns (1 allocation: 112 bytes)\n"
     ]
    },
    {
     "data": {
      "text/plain": [
       "3×4 MArray{Tuple{3,4},Float64,2,12} with indices SOneTo(3)×SOneTo(4):\n",
       " 0.517253  0.436561  0.580546  0.0828576\n",
       " 0.156605  0.132174  0.175768  0.0250862\n",
       " 0.45168   0.381217  0.50695   0.0723536"
      ]
     },
     "execution_count": 103,
     "metadata": {},
     "output_type": "execute_result"
    }
   ],
   "source": [
    "@btime outer_s($As, $Bs)"
   ]
  },
  {
   "cell_type": "code",
   "execution_count": 102,
   "metadata": {},
   "outputs": [
    {
     "data": {
      "text/plain": [
       "3-element SArray{Tuple{3},Float64,1,3} with indices SOneTo(3):\n",
       " 0.7093211003546231 \n",
       " 0.21475580778507775\n",
       " 0.6193994841783299 "
      ]
     },
     "execution_count": 102,
     "metadata": {},
     "output_type": "execute_result"
    }
   ],
   "source": []
  },
  {
   "cell_type": "code",
   "execution_count": 88,
   "metadata": {},
   "outputs": [
    {
     "ename": "MethodError",
     "evalue": "MethodError: no method matching Array{Float64,2}(::UndefInitializer, ::Array{Int64,2})\nClosest candidates are:\n  Array{Float64,2}(::UndefInitializer, !Matched::Int64, !Matched::Int64) where T at boot.jl:406\n  Array{Float64,2}(::UndefInitializer, !Matched::Int64...) where {T, N} at boot.jl:410\n  Array{Float64,2}(::UndefInitializer, !Matched::Tuple{Int64,Int64}) where T at boot.jl:414\n  ...",
     "output_type": "error",
     "traceback": [
      "MethodError: no method matching Array{Float64,2}(::UndefInitializer, ::Array{Int64,2})\nClosest candidates are:\n  Array{Float64,2}(::UndefInitializer, !Matched::Int64, !Matched::Int64) where T at boot.jl:406\n  Array{Float64,2}(::UndefInitializer, !Matched::Int64...) where {T, N} at boot.jl:410\n  Array{Float64,2}(::UndefInitializer, !Matched::Tuple{Int64,Int64}) where T at boot.jl:414\n  ...",
      "",
      "Stacktrace:",
      " [1] top-level scope at In[88]:2"
     ]
    }
   ],
   "source": [
    "ndims = length(array)\n",
    "dst = Array{Float64, ndims}(undef, length.(array))\n",
    "\n",
    "@macroexpand _tensor_generated!(dst, array)"
   ]
  },
  {
   "cell_type": "code",
   "execution_count": 89,
   "metadata": {},
   "outputs": [
    {
     "data": {
      "text/plain": [
       "VectorOfArray{Float64,2,Array{Array{Float64,1},1}}"
      ]
     },
     "execution_count": 89,
     "metadata": {},
     "output_type": "execute_result"
    }
   ],
   "source": [
    "typeof(array)"
   ]
  },
  {
   "cell_type": "code",
   "execution_count": 209,
   "metadata": {},
   "outputs": [
    {
     "data": {
      "text/plain": [
       "Tuple{Vararg{T,N}} where T where N"
      ]
     },
     "execution_count": 209,
     "metadata": {},
     "output_type": "execute_result"
    }
   ],
   "source": [
    "NTuple"
   ]
  },
  {
   "cell_type": "code",
   "execution_count": 191,
   "metadata": {},
   "outputs": [
    {
     "data": {
      "text/plain": [
       "3-element Array{Float64,1}:\n",
       " 0.29140364523258233\n",
       " 0.6535578737507857 \n",
       " 0.48927879795964047"
      ]
     },
     "execution_count": 191,
     "metadata": {},
     "output_type": "execute_result"
    }
   ],
   "source": [
    "A"
   ]
  },
  {
   "cell_type": "code",
   "execution_count": 192,
   "metadata": {},
   "outputs": [
    {
     "data": {
      "text/plain": [
       "4-element Array{Float64,1}:\n",
       " 0.8518135297580742\n",
       " 0.592507592809641 \n",
       " 0.6090629525864537\n",
       " 0.6906789409592375"
      ]
     },
     "execution_count": 192,
     "metadata": {},
     "output_type": "execute_result"
    }
   ],
   "source": [
    "B"
   ]
  },
  {
   "cell_type": "code",
   "execution_count": 193,
   "metadata": {},
   "outputs": [
    {
     "data": {
      "text/plain": [
       "2-element Array{Float64,1}:\n",
       " 0.949715171006243 \n",
       " 0.9440757158440372"
      ]
     },
     "execution_count": 193,
     "metadata": {},
     "output_type": "execute_result"
    }
   ],
   "source": [
    "C"
   ]
  },
  {
   "cell_type": "code",
   "execution_count": 194,
   "metadata": {},
   "outputs": [
    {
     "name": "stdout",
     "output_type": "stream",
     "text": [
      "  16.808 ns (1 allocation: 208 bytes)\n"
     ]
    }
   ],
   "source": [
    "@btime outer_s($As, $Bs, $Cs);"
   ]
  },
  {
   "cell_type": "code",
   "execution_count": 195,
   "metadata": {},
   "outputs": [
    {
     "data": {
      "text/plain": [
       "([0.29140364523258233, 0.6535578737507857, 0.48927879795964047], [0.8518135297580742, 0.592507592809641, 0.6090629525864537, 0.6906789409592375], [0.949715171006243, 0.9440757158440372])"
      ]
     },
     "execution_count": 195,
     "metadata": {},
     "output_type": "execute_result"
    }
   ],
   "source": [
    "array = (As, Bs, Cs)"
   ]
  },
  {
   "cell_type": "code",
   "execution_count": 212,
   "metadata": {},
   "outputs": [
    {
     "ename": "MethodError",
     "evalue": "MethodError: no method matching getindex(::Tuple{SArray{Tuple{3},Float64,1,3},SArray{Tuple{4},Float64,1,4},SArray{Tuple{2},Float64,1,2}}, ::Int64, ::Int64)\nClosest candidates are:\n  getindex(::Tuple, ::Int64) at tuple.jl:24\n  getindex(::Tuple, ::Real) at tuple.jl:25\n  getindex(::Tuple, !Matched::AbstractUnitRange{#s66} where #s66<:Real) at range.jl:290\n  ...",
     "output_type": "error",
     "traceback": [
      "MethodError: no method matching getindex(::Tuple{SArray{Tuple{3},Float64,1,3},SArray{Tuple{4},Float64,1,4},SArray{Tuple{2},Float64,1,2}}, ::Int64, ::Int64)\nClosest candidates are:\n  getindex(::Tuple, ::Int64) at tuple.jl:24\n  getindex(::Tuple, ::Real) at tuple.jl:25\n  getindex(::Tuple, !Matched::AbstractUnitRange{#s66} where #s66<:Real) at range.jl:290\n  ...",
      "",
      "Stacktrace:",
      " [1] macro expansion at ./cartesian.jl:63 [inlined]",
      " [2] macro expansion at ./In[207]:4 [inlined]",
      " [3] _tensor_generated!(::Array{Float64,3}, ::Tuple{SArray{Tuple{3},Float64,1,3},SArray{Tuple{4},Float64,1,4},SArray{Tuple{2},Float64,1,2}}) at ./In[207]:2",
      " [4] outer_gen(::Tuple{SArray{Tuple{3},Float64,1,3},SArray{Tuple{4},Float64,1,4},SArray{Tuple{2},Float64,1,2}}) at ./In[211]:22",
      " [5] top-level scope at In[212]:1"
     ]
    }
   ],
   "source": [
    "outer_gen(array)"
   ]
  },
  {
   "cell_type": "code",
   "execution_count": 165,
   "metadata": {},
   "outputs": [
    {
     "data": {
      "text/plain": [
       "([0.29140364523258233, 0.6535578737507857, 0.48927879795964047], [0.8518135297580742, 0.592507592809641, 0.6090629525864537, 0.6906789409592375])"
      ]
     },
     "execution_count": 165,
     "metadata": {},
     "output_type": "execute_result"
    }
   ],
   "source": [
    "t = (A, B)"
   ]
  },
  {
   "cell_type": "code",
   "execution_count": 167,
   "metadata": {},
   "outputs": [
    {
     "data": {
      "text/plain": [
       "Tuple{Int64,Int64}"
      ]
     },
     "execution_count": 167,
     "metadata": {},
     "output_type": "execute_result"
    }
   ],
   "source": [
    "typeof()"
   ]
  },
  {
   "cell_type": "code",
   "execution_count": 104,
   "metadata": {},
   "outputs": [
    {
     "data": {
      "text/html": [
       "binomial(n::<b>T</b>, k::<b>T</b>)<i> where T<:Integer</i> in Base at <a href=\"https://github.com/JuliaLang/julia/tree/2d5741174ce3e6a394010d2e470e4269ca54607f/base/intfuncs.jl#L882\" target=\"_blank\">intfuncs.jl:882</a>"
      ],
      "text/plain": [
       "binomial(n::T, k::T) where T<:Integer in Base at intfuncs.jl:882"
      ]
     },
     "execution_count": 104,
     "metadata": {},
     "output_type": "execute_result"
    }
   ],
   "source": [
    "@which binomial(5, 2)"
   ]
  },
  {
   "cell_type": "code",
   "execution_count": 107,
   "metadata": {},
   "outputs": [
    {
     "name": "stderr",
     "output_type": "stream",
     "text": [
      "┌ Info: Precompiling SpecialFunctions [276daf66-3868-5448-9aa4-cd146d93841b]\n",
      "└ @ Base loading.jl:1273\n"
     ]
    }
   ],
   "source": [
    "using SpecialFunctions"
   ]
  },
  {
   "cell_type": "code",
   "execution_count": 112,
   "metadata": {},
   "outputs": [
    {
     "name": "stdout",
     "output_type": "stream",
     "text": [
      "  15.180 ns (0 allocations: 0 bytes)\n"
     ]
    },
    {
     "data": {
      "text/plain": [
       "15"
      ]
     },
     "execution_count": 112,
     "metadata": {},
     "output_type": "execute_result"
    }
   ],
   "source": [
    "@btime binomial(6, 2)"
   ]
  },
  {
   "cell_type": "code",
   "execution_count": 109,
   "metadata": {},
   "outputs": [
    {
     "data": {
      "text/plain": [
       "binfl (generic function with 1 method)"
      ]
     },
     "execution_count": 109,
     "metadata": {},
     "output_type": "execute_result"
    }
   ],
   "source": [
    "binfl(x,y) = inv((x+1)*beta(x - y + 1, y + 1))"
   ]
  },
  {
   "cell_type": "code",
   "execution_count": 111,
   "metadata": {},
   "outputs": [
    {
     "name": "stdout",
     "output_type": "stream",
     "text": [
      "  109.065 ns (0 allocations: 0 bytes)\n"
     ]
    },
    {
     "data": {
      "text/plain": [
       "14.999999999999982"
      ]
     },
     "execution_count": 111,
     "metadata": {},
     "output_type": "execute_result"
    }
   ],
   "source": [
    "@btime binfl(6, 2)"
   ]
  },
  {
   "cell_type": "code",
   "execution_count": 116,
   "metadata": {},
   "outputs": [
    {
     "data": {
      "text/plain": [
       "10"
      ]
     },
     "execution_count": 116,
     "metadata": {},
     "output_type": "execute_result"
    }
   ],
   "source": [
    "binomial(5, 2)"
   ]
  },
  {
   "cell_type": "code",
   "execution_count": 115,
   "metadata": {},
   "outputs": [
    {
     "data": {
      "text/plain": [
       "15"
      ]
     },
     "execution_count": 115,
     "metadata": {},
     "output_type": "execute_result"
    }
   ],
   "source": [
    "d[(6, 2)]"
   ]
  },
  {
   "cell_type": "code",
   "execution_count": 124,
   "metadata": {},
   "outputs": [
    {
     "data": {
      "text/plain": [
       "binom_dict (generic function with 1 method)"
      ]
     },
     "execution_count": 124,
     "metadata": {},
     "output_type": "execute_result"
    }
   ],
   "source": [
    "const dic2 = Dict((5, 2) => 10, (6, 2) => 15, (10, 4)=> 210)\n",
    "\n",
    "function binom_dict(k)\n",
    "    return dic2[k]\n",
    "end"
   ]
  },
  {
   "cell_type": "code",
   "execution_count": 127,
   "metadata": {},
   "outputs": [
    {
     "name": "stdout",
     "output_type": "stream",
     "text": [
      "  3.204 ns (0 allocations: 0 bytes)\n"
     ]
    },
    {
     "data": {
      "text/plain": [
       "10"
      ]
     },
     "execution_count": 127,
     "metadata": {},
     "output_type": "execute_result"
    }
   ],
   "source": [
    "@btime binom_dict((5, 2))"
   ]
  },
  {
   "cell_type": "code",
   "execution_count": 122,
   "metadata": {},
   "outputs": [
    {
     "name": "stdout",
     "output_type": "stream",
     "text": [
      "  35.619 ns (0 allocations: 0 bytes)\n"
     ]
    },
    {
     "data": {
      "text/plain": [
       "210"
      ]
     },
     "execution_count": 122,
     "metadata": {},
     "output_type": "execute_result"
    }
   ],
   "source": [
    "@btime binomial(10, 4)"
   ]
  },
  {
   "cell_type": "code",
   "execution_count": 130,
   "metadata": {},
   "outputs": [
    {
     "data": {
      "text/plain": [
       "1-element Array{Int64,1}:\n",
       " 1"
      ]
     },
     "execution_count": 130,
     "metadata": {},
     "output_type": "execute_result"
    }
   ],
   "source": [
    "n = 1\n",
    "[binomial(n, k) for k in 1:n]"
   ]
  },
  {
   "cell_type": "code",
   "execution_count": 131,
   "metadata": {},
   "outputs": [
    {
     "data": {
      "text/plain": [
       "2-element Array{Int64,1}:\n",
       " 2\n",
       " 1"
      ]
     },
     "execution_count": 131,
     "metadata": {},
     "output_type": "execute_result"
    }
   ],
   "source": [
    "n = 2\n",
    "[binomial(n, k) for k in 1:n]"
   ]
  },
  {
   "cell_type": "code",
   "execution_count": 132,
   "metadata": {},
   "outputs": [
    {
     "data": {
      "text/plain": [
       "3-element Array{Int64,1}:\n",
       " 3\n",
       " 3\n",
       " 1"
      ]
     },
     "execution_count": 132,
     "metadata": {},
     "output_type": "execute_result"
    }
   ],
   "source": [
    "n = 3\n",
    "[binomial(n, k) for k in 1:n]"
   ]
  },
  {
   "cell_type": "code",
   "execution_count": 133,
   "metadata": {},
   "outputs": [
    {
     "data": {
      "text/plain": [
       "4-element Array{Int64,1}:\n",
       " 4\n",
       " 6\n",
       " 4\n",
       " 1"
      ]
     },
     "execution_count": 133,
     "metadata": {},
     "output_type": "execute_result"
    }
   ],
   "source": [
    "n = 4\n",
    "[binomial(n, k) for k in 1:n]"
   ]
  },
  {
   "cell_type": "code",
   "execution_count": 134,
   "metadata": {},
   "outputs": [
    {
     "data": {
      "text/plain": [
       "5-element Array{Int64,1}:\n",
       "  5\n",
       " 10\n",
       " 10\n",
       "  5\n",
       "  1"
      ]
     },
     "execution_count": 134,
     "metadata": {},
     "output_type": "execute_result"
    }
   ],
   "source": [
    "n = 5\n",
    "[binomial(n, k) for k in 1:n]"
   ]
  },
  {
   "cell_type": "code",
   "execution_count": 135,
   "metadata": {},
   "outputs": [
    {
     "data": {
      "text/plain": [
       "6-element Array{Int64,1}:\n",
       "  6\n",
       " 15\n",
       " 20\n",
       " 15\n",
       "  6\n",
       "  1"
      ]
     },
     "execution_count": 135,
     "metadata": {},
     "output_type": "execute_result"
    }
   ],
   "source": [
    "n = 6\n",
    "[binomial(n, k) for k in 1:n]"
   ]
  },
  {
   "cell_type": "code",
   "execution_count": 136,
   "metadata": {},
   "outputs": [
    {
     "data": {
      "text/plain": [
       "7-element Array{Int64,1}:\n",
       "  7\n",
       " 21\n",
       " 35\n",
       " 35\n",
       " 21\n",
       "  7\n",
       "  1"
      ]
     },
     "execution_count": 136,
     "metadata": {},
     "output_type": "execute_result"
    }
   ],
   "source": [
    "n = 7\n",
    "[binomial(n, k) for k in 1:n]"
   ]
  },
  {
   "cell_type": "code",
   "execution_count": 137,
   "metadata": {},
   "outputs": [
    {
     "data": {
      "text/plain": [
       "8-element Array{Int64,1}:\n",
       "  8\n",
       " 28\n",
       " 56\n",
       " 70\n",
       " 56\n",
       " 28\n",
       "  8\n",
       "  1"
      ]
     },
     "execution_count": 137,
     "metadata": {},
     "output_type": "execute_result"
    }
   ],
   "source": [
    "n = 8\n",
    "[binomial(n, k) for k in 1:n]"
   ]
  },
  {
   "cell_type": "code",
   "execution_count": 138,
   "metadata": {},
   "outputs": [
    {
     "data": {
      "text/plain": [
       "9-element Array{Int64,1}:\n",
       "   9\n",
       "  36\n",
       "  84\n",
       " 126\n",
       " 126\n",
       "  84\n",
       "  36\n",
       "   9\n",
       "   1"
      ]
     },
     "execution_count": 138,
     "metadata": {},
     "output_type": "execute_result"
    }
   ],
   "source": [
    "n = 9\n",
    "[binomial(n, k) for k in 1:n]"
   ]
  },
  {
   "cell_type": "code",
   "execution_count": 139,
   "metadata": {},
   "outputs": [
    {
     "data": {
      "text/plain": [
       "10-element Array{Int64,1}:\n",
       "  10\n",
       "  45\n",
       " 120\n",
       " 210\n",
       " 252\n",
       " 210\n",
       " 120\n",
       "  45\n",
       "  10\n",
       "   1"
      ]
     },
     "execution_count": 139,
     "metadata": {},
     "output_type": "execute_result"
    }
   ],
   "source": [
    "n = 10\n",
    "[binomial(n, k) for k in 1:n]"
   ]
  },
  {
   "cell_type": "code",
   "execution_count": 154,
   "metadata": {},
   "outputs": [
    {
     "data": {
      "text/plain": [
       "21×21 Array{Int64,2}:\n",
       " 1   0    0     0     0      0      0  …      0     0     0    0   0  0\n",
       " 1   1    0     0     0      0      0         0     0     0    0   0  0\n",
       " 1   2    1     0     0      0      0         0     0     0    0   0  0\n",
       " 1   3    3     1     0      0      0         0     0     0    0   0  0\n",
       " 1   4    6     4     1      0      0         0     0     0    0   0  0\n",
       " 1   5   10    10     5      1      0  …      0     0     0    0   0  0\n",
       " 1   6   15    20    15      6      1         0     0     0    0   0  0\n",
       " 1   7   21    35    35     21      7         0     0     0    0   0  0\n",
       " 1   8   28    56    70     56     28         0     0     0    0   0  0\n",
       " 1   9   36    84   126    126     84         0     0     0    0   0  0\n",
       " 1  10   45   120   210    252    210  …      0     0     0    0   0  0\n",
       " 1  11   55   165   330    462    462         0     0     0    0   0  0\n",
       " 1  12   66   220   495    792    924         0     0     0    0   0  0\n",
       " 1  13   78   286   715   1287   1716         0     0     0    0   0  0\n",
       " 1  14   91   364  1001   2002   3003         0     0     0    0   0  0\n",
       " 1  15  105   455  1365   3003   5005  …      1     0     0    0   0  0\n",
       " 1  16  120   560  1820   4368   8008        16     1     0    0   0  0\n",
       " 1  17  136   680  2380   6188  12376       136    17     1    0   0  0\n",
       " 1  18  153   816  3060   8568  18564       816   153    18    1   0  0\n",
       " 1  19  171   969  3876  11628  27132      3876   969   171   19   1  0\n",
       " 1  20  190  1140  4845  15504  38760  …  15504  4845  1140  190  20  1"
      ]
     },
     "execution_count": 154,
     "metadata": {},
     "output_type": "execute_result"
    }
   ],
   "source": [
    "nmax = 20\n",
    "#M = Matrix(undef, nmax+1, nmax+1)\n",
    "M = zeros(Int, nmax+1, nmax+1)\n",
    "for i in 0:nmax\n",
    "    for j in 0:i\n",
    "        M[i+1, j+1] = binomial(i, j)\n",
    "    end\n",
    "end"
   ]
  },
  {
   "cell_type": "code",
   "execution_count": 159,
   "metadata": {},
   "outputs": [
    {
     "data": {
      "text/plain": [
       "21×21 LowerTriangular{Int64,Array{Int64,2}}:\n",
       " 1   ⋅    ⋅     ⋅     ⋅      ⋅      ⋅  …      ⋅     ⋅     ⋅    ⋅   ⋅  ⋅\n",
       " 1   1    ⋅     ⋅     ⋅      ⋅      ⋅         ⋅     ⋅     ⋅    ⋅   ⋅  ⋅\n",
       " 1   2    1     ⋅     ⋅      ⋅      ⋅         ⋅     ⋅     ⋅    ⋅   ⋅  ⋅\n",
       " 1   3    3     1     ⋅      ⋅      ⋅         ⋅     ⋅     ⋅    ⋅   ⋅  ⋅\n",
       " 1   4    6     4     1      ⋅      ⋅         ⋅     ⋅     ⋅    ⋅   ⋅  ⋅\n",
       " 1   5   10    10     5      1      ⋅  …      ⋅     ⋅     ⋅    ⋅   ⋅  ⋅\n",
       " 1   6   15    20    15      6      1         ⋅     ⋅     ⋅    ⋅   ⋅  ⋅\n",
       " 1   7   21    35    35     21      7         ⋅     ⋅     ⋅    ⋅   ⋅  ⋅\n",
       " 1   8   28    56    70     56     28         ⋅     ⋅     ⋅    ⋅   ⋅  ⋅\n",
       " 1   9   36    84   126    126     84         ⋅     ⋅     ⋅    ⋅   ⋅  ⋅\n",
       " 1  10   45   120   210    252    210  …      ⋅     ⋅     ⋅    ⋅   ⋅  ⋅\n",
       " 1  11   55   165   330    462    462         ⋅     ⋅     ⋅    ⋅   ⋅  ⋅\n",
       " 1  12   66   220   495    792    924         ⋅     ⋅     ⋅    ⋅   ⋅  ⋅\n",
       " 1  13   78   286   715   1287   1716         ⋅     ⋅     ⋅    ⋅   ⋅  ⋅\n",
       " 1  14   91   364  1001   2002   3003         ⋅     ⋅     ⋅    ⋅   ⋅  ⋅\n",
       " 1  15  105   455  1365   3003   5005  …      1     ⋅     ⋅    ⋅   ⋅  ⋅\n",
       " 1  16  120   560  1820   4368   8008        16     1     ⋅    ⋅   ⋅  ⋅\n",
       " 1  17  136   680  2380   6188  12376       136    17     1    ⋅   ⋅  ⋅\n",
       " 1  18  153   816  3060   8568  18564       816   153    18    1   ⋅  ⋅\n",
       " 1  19  171   969  3876  11628  27132      3876   969   171   19   1  ⋅\n",
       " 1  20  190  1140  4845  15504  38760  …  15504  4845  1140  190  20  1"
      ]
     },
     "execution_count": 159,
     "metadata": {},
     "output_type": "execute_result"
    }
   ],
   "source": [
    "const LowerTriangular(M)"
   ]
  },
  {
   "cell_type": "code",
   "execution_count": null,
   "metadata": {},
   "outputs": [],
   "source": [
    "1  \n",
    "1 1 \n",
    "1 2 1 \n",
    "1 3 3 1 \n",
    "1 4 6 4 1 \n",
    "1 5 10 10 5 1 "
   ]
  },
  {
   "cell_type": "code",
   "execution_count": 158,
   "metadata": {},
   "outputs": [
    {
     "name": "stdout",
     "output_type": "stream",
     "text": [
      "  96.400 ns (0 allocations: 0 bytes)\n"
     ]
    },
    {
     "data": {
      "text/plain": [
       "184756"
      ]
     },
     "execution_count": 158,
     "metadata": {},
     "output_type": "execute_result"
    }
   ],
   "source": [
    "@btime binomial(20, 10)"
   ]
  },
  {
   "cell_type": "code",
   "execution_count": 156,
   "metadata": {},
   "outputs": [
    {
     "name": "stderr",
     "output_type": "stream",
     "text": [
      "WARNING: redefining constant Mt\n"
     ]
    },
    {
     "data": {
      "text/plain": [
       "binom_table (generic function with 1 method)"
      ]
     },
     "execution_count": 156,
     "metadata": {},
     "output_type": "execute_result"
    }
   ],
   "source": [
    "const Mt = M\n",
    "function binom_table(n, k)\n",
    "    Mt[n+1, k+1]\n",
    "end"
   ]
  },
  {
   "cell_type": "code",
   "execution_count": 157,
   "metadata": {},
   "outputs": [
    {
     "name": "stdout",
     "output_type": "stream",
     "text": [
      "  2.704 ns (0 allocations: 0 bytes)\n"
     ]
    },
    {
     "data": {
      "text/plain": [
       "184756"
      ]
     },
     "execution_count": 157,
     "metadata": {},
     "output_type": "execute_result"
    }
   ],
   "source": [
    "@btime binom_table(20, 10)"
   ]
  },
  {
   "cell_type": "code",
   "execution_count": 144,
   "metadata": {},
   "outputs": [
    {
     "data": {
      "text/plain": [
       "2×2 Symmetric{Int64,Array{Int64,2}}:\n",
       " 1  0\n",
       " 0  1"
      ]
     },
     "execution_count": 144,
     "metadata": {},
     "output_type": "execute_result"
    }
   ],
   "source": [
    "Symmetric([1 0; 0 1])"
   ]
  },
  {
   "cell_type": "code",
   "execution_count": null,
   "metadata": {},
   "outputs": [],
   "source": []
  }
 ],
 "metadata": {
  "kernelspec": {
   "display_name": "Julia 1.3.1",
   "language": "julia",
   "name": "julia-1.3"
  },
  "language_info": {
   "file_extension": ".jl",
   "mimetype": "application/julia",
   "name": "julia",
   "version": "1.3.1"
  }
 },
 "nbformat": 4,
 "nbformat_minor": 2
}
