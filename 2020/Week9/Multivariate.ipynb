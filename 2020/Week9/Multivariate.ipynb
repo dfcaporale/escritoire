{
 "cells": [
  {
   "cell_type": "code",
   "execution_count": 48,
   "metadata": {},
   "outputs": [],
   "source": [
    "using Revise, BernsteinExpansions, DynamicPolynomials, BenchmarkTools, StaticArrays, Test, RangeEnclosures, Plots\n",
    "using RangeEnclosures: enclose_binary, relative_precision"
   ]
  },
  {
   "cell_type": "markdown",
   "metadata": {},
   "source": [
    "### Moore's function"
   ]
  },
  {
   "cell_type": "code",
   "execution_count": 2,
   "metadata": {},
   "outputs": [
    {
     "data": {
      "text/plain": [
       "(x,)"
      ]
     },
     "execution_count": 2,
     "metadata": {},
     "output_type": "execute_result"
    }
   ],
   "source": [
    "@polyvar x"
   ]
  },
  {
   "cell_type": "markdown",
   "metadata": {},
   "source": [
    "The analytical bounds are $[1-\\frac{4^4}{5^5}, 1] \\approx [0.91808, 1]$."
   ]
  },
  {
   "cell_type": "code",
   "execution_count": 3,
   "metadata": {},
   "outputs": [
    {
     "data": {
      "text/plain": [
       "2869//3125"
      ]
     },
     "execution_count": 3,
     "metadata": {},
     "output_type": "execute_result"
    }
   ],
   "source": [
    "1 - 4^4 // 5^5"
   ]
  },
  {
   "cell_type": "code",
   "execution_count": 30,
   "metadata": {},
   "outputs": [
    {
     "data": {
      "text/plain": [
       "[0.91808, 1]"
      ]
     },
     "execution_count": 30,
     "metadata": {},
     "output_type": "execute_result"
    }
   ],
   "source": [
    "xref = IntervalArithmetic.Interval(1-4^4/5^5, 1.)"
   ]
  },
  {
   "cell_type": "code",
   "execution_count": null,
   "metadata": {},
   "outputs": [],
   "source": [
    "2 x^2 y + 3 x^2"
   ]
  },
  {
   "cell_type": "code",
   "execution_count": 31,
   "metadata": {},
   "outputs": [
    {
     "data": {
      "text/plain": [
       "[0, 1]"
      ]
     },
     "execution_count": 31,
     "metadata": {},
     "output_type": "execute_result"
    }
   ],
   "source": [
    "f = 1 + x^5 - x^4\n",
    "\n",
    "k = 5\n",
    "dom = 0..1"
   ]
  },
  {
   "cell_type": "code",
   "execution_count": 59,
   "metadata": {},
   "outputs": [
    {
     "data": {
      "text/plain": [
       "fpow (generic function with 1 method)"
      ]
     },
     "execution_count": 59,
     "metadata": {},
     "output_type": "execute_result"
    }
   ],
   "source": [
    "fpow(x) = 1 + IntervalArithmetic.pow(x, 5) - IntervalArithmetic.pow(x, 4)"
   ]
  },
  {
   "cell_type": "code",
   "execution_count": 32,
   "metadata": {},
   "outputs": [
    {
     "data": {
      "image/svg+xml": [
       "<?xml version=\"1.0\" encoding=\"utf-8\"?>\n",
       "<svg xmlns=\"http://www.w3.org/2000/svg\" xmlns:xlink=\"http://www.w3.org/1999/xlink\" width=\"600\" height=\"400\" viewBox=\"0 0 2400 1600\">\n",
       "<defs>\n",
       "  <clipPath id=\"clip9200\">\n",
       "    <rect x=\"0\" y=\"0\" width=\"2400\" height=\"1600\"/>\n",
       "  </clipPath>\n",
       "</defs>\n",
       "<path clip-path=\"url(#clip9200)\" d=\"\n",
       "M0 1600 L2400 1600 L2400 0 L0 0  Z\n",
       "  \" fill=\"#ffffff\" fill-rule=\"evenodd\" fill-opacity=\"1\"/>\n",
       "<defs>\n",
       "  <clipPath id=\"clip9201\">\n",
       "    <rect x=\"480\" y=\"0\" width=\"1681\" height=\"1600\"/>\n",
       "  </clipPath>\n",
       "</defs>\n",
       "<path clip-path=\"url(#clip9200)\" d=\"\n",
       "M180.66 1487.47 L2352.76 1487.47 L2352.76 47.2441 L180.66 47.2441  Z\n",
       "  \" fill=\"#ffffff\" fill-rule=\"evenodd\" fill-opacity=\"1\"/>\n",
       "<defs>\n",
       "  <clipPath id=\"clip9202\">\n",
       "    <rect x=\"180\" y=\"47\" width=\"2173\" height=\"1441\"/>\n",
       "  </clipPath>\n",
       "</defs>\n",
       "<polyline clip-path=\"url(#clip9202)\" style=\"stroke:#000000; stroke-width:2; stroke-opacity:0.1; fill:none\" points=\"\n",
       "  180.66,1487.47 180.66,47.2441 \n",
       "  \"/>\n",
       "<polyline clip-path=\"url(#clip9202)\" style=\"stroke:#000000; stroke-width:2; stroke-opacity:0.1; fill:none\" points=\"\n",
       "  615.079,1487.47 615.079,47.2441 \n",
       "  \"/>\n",
       "<polyline clip-path=\"url(#clip9202)\" style=\"stroke:#000000; stroke-width:2; stroke-opacity:0.1; fill:none\" points=\"\n",
       "  1049.5,1487.47 1049.5,47.2441 \n",
       "  \"/>\n",
       "<polyline clip-path=\"url(#clip9202)\" style=\"stroke:#000000; stroke-width:2; stroke-opacity:0.1; fill:none\" points=\"\n",
       "  1483.92,1487.47 1483.92,47.2441 \n",
       "  \"/>\n",
       "<polyline clip-path=\"url(#clip9202)\" style=\"stroke:#000000; stroke-width:2; stroke-opacity:0.1; fill:none\" points=\"\n",
       "  1918.34,1487.47 1918.34,47.2441 \n",
       "  \"/>\n",
       "<polyline clip-path=\"url(#clip9202)\" style=\"stroke:#000000; stroke-width:2; stroke-opacity:0.1; fill:none\" points=\"\n",
       "  2352.76,1487.47 2352.76,47.2441 \n",
       "  \"/>\n",
       "<polyline clip-path=\"url(#clip9202)\" style=\"stroke:#000000; stroke-width:2; stroke-opacity:0.1; fill:none\" points=\"\n",
       "  180.66,1414.93 2352.76,1414.93 \n",
       "  \"/>\n",
       "<polyline clip-path=\"url(#clip9202)\" style=\"stroke:#000000; stroke-width:2; stroke-opacity:0.1; fill:none\" points=\"\n",
       "  180.66,1083.2 2352.76,1083.2 \n",
       "  \"/>\n",
       "<polyline clip-path=\"url(#clip9202)\" style=\"stroke:#000000; stroke-width:2; stroke-opacity:0.1; fill:none\" points=\"\n",
       "  180.66,751.466 2352.76,751.466 \n",
       "  \"/>\n",
       "<polyline clip-path=\"url(#clip9202)\" style=\"stroke:#000000; stroke-width:2; stroke-opacity:0.1; fill:none\" points=\"\n",
       "  180.66,419.736 2352.76,419.736 \n",
       "  \"/>\n",
       "<polyline clip-path=\"url(#clip9202)\" style=\"stroke:#000000; stroke-width:2; stroke-opacity:0.1; fill:none\" points=\"\n",
       "  180.66,88.0053 2352.76,88.0053 \n",
       "  \"/>\n",
       "<polyline clip-path=\"url(#clip9200)\" style=\"stroke:#000000; stroke-width:4; stroke-opacity:1; fill:none\" points=\"\n",
       "  180.66,1487.47 2352.76,1487.47 \n",
       "  \"/>\n",
       "<polyline clip-path=\"url(#clip9200)\" style=\"stroke:#000000; stroke-width:4; stroke-opacity:1; fill:none\" points=\"\n",
       "  180.66,1487.47 180.66,47.2441 \n",
       "  \"/>\n",
       "<polyline clip-path=\"url(#clip9200)\" style=\"stroke:#000000; stroke-width:4; stroke-opacity:1; fill:none\" points=\"\n",
       "  180.66,1487.47 180.66,1465.87 \n",
       "  \"/>\n",
       "<polyline clip-path=\"url(#clip9200)\" style=\"stroke:#000000; stroke-width:4; stroke-opacity:1; fill:none\" points=\"\n",
       "  615.079,1487.47 615.079,1465.87 \n",
       "  \"/>\n",
       "<polyline clip-path=\"url(#clip9200)\" style=\"stroke:#000000; stroke-width:4; stroke-opacity:1; fill:none\" points=\"\n",
       "  1049.5,1487.47 1049.5,1465.87 \n",
       "  \"/>\n",
       "<polyline clip-path=\"url(#clip9200)\" style=\"stroke:#000000; stroke-width:4; stroke-opacity:1; fill:none\" points=\"\n",
       "  1483.92,1487.47 1483.92,1465.87 \n",
       "  \"/>\n",
       "<polyline clip-path=\"url(#clip9200)\" style=\"stroke:#000000; stroke-width:4; stroke-opacity:1; fill:none\" points=\"\n",
       "  1918.34,1487.47 1918.34,1465.87 \n",
       "  \"/>\n",
       "<polyline clip-path=\"url(#clip9200)\" style=\"stroke:#000000; stroke-width:4; stroke-opacity:1; fill:none\" points=\"\n",
       "  2352.76,1487.47 2352.76,1465.87 \n",
       "  \"/>\n",
       "<polyline clip-path=\"url(#clip9200)\" style=\"stroke:#000000; stroke-width:4; stroke-opacity:1; fill:none\" points=\"\n",
       "  180.66,1414.93 213.242,1414.93 \n",
       "  \"/>\n",
       "<polyline clip-path=\"url(#clip9200)\" style=\"stroke:#000000; stroke-width:4; stroke-opacity:1; fill:none\" points=\"\n",
       "  180.66,1083.2 213.242,1083.2 \n",
       "  \"/>\n",
       "<polyline clip-path=\"url(#clip9200)\" style=\"stroke:#000000; stroke-width:4; stroke-opacity:1; fill:none\" points=\"\n",
       "  180.66,751.466 213.242,751.466 \n",
       "  \"/>\n",
       "<polyline clip-path=\"url(#clip9200)\" style=\"stroke:#000000; stroke-width:4; stroke-opacity:1; fill:none\" points=\"\n",
       "  180.66,419.736 213.242,419.736 \n",
       "  \"/>\n",
       "<polyline clip-path=\"url(#clip9200)\" style=\"stroke:#000000; stroke-width:4; stroke-opacity:1; fill:none\" points=\"\n",
       "  180.66,88.0053 213.242,88.0053 \n",
       "  \"/>\n",
       "<g clip-path=\"url(#clip9200)\">\n",
       "<text style=\"fill:#000000; fill-opacity:1; font-family:Arial,Helvetica Neue,Helvetica,sans-serif; font-size:48px; text-anchor:middle;\" transform=\"rotate(0, 180.66, 1541.47)\" x=\"180.66\" y=\"1541.47\">0.0</text>\n",
       "</g>\n",
       "<g clip-path=\"url(#clip9200)\">\n",
       "<text style=\"fill:#000000; fill-opacity:1; font-family:Arial,Helvetica Neue,Helvetica,sans-serif; font-size:48px; text-anchor:middle;\" transform=\"rotate(0, 615.079, 1541.47)\" x=\"615.079\" y=\"1541.47\">0.2</text>\n",
       "</g>\n",
       "<g clip-path=\"url(#clip9200)\">\n",
       "<text style=\"fill:#000000; fill-opacity:1; font-family:Arial,Helvetica Neue,Helvetica,sans-serif; font-size:48px; text-anchor:middle;\" transform=\"rotate(0, 1049.5, 1541.47)\" x=\"1049.5\" y=\"1541.47\">0.4</text>\n",
       "</g>\n",
       "<g clip-path=\"url(#clip9200)\">\n",
       "<text style=\"fill:#000000; fill-opacity:1; font-family:Arial,Helvetica Neue,Helvetica,sans-serif; font-size:48px; text-anchor:middle;\" transform=\"rotate(0, 1483.92, 1541.47)\" x=\"1483.92\" y=\"1541.47\">0.6</text>\n",
       "</g>\n",
       "<g clip-path=\"url(#clip9200)\">\n",
       "<text style=\"fill:#000000; fill-opacity:1; font-family:Arial,Helvetica Neue,Helvetica,sans-serif; font-size:48px; text-anchor:middle;\" transform=\"rotate(0, 1918.34, 1541.47)\" x=\"1918.34\" y=\"1541.47\">0.8</text>\n",
       "</g>\n",
       "<g clip-path=\"url(#clip9200)\">\n",
       "<text style=\"fill:#000000; fill-opacity:1; font-family:Arial,Helvetica Neue,Helvetica,sans-serif; font-size:48px; text-anchor:middle;\" transform=\"rotate(0, 2352.76, 1541.47)\" x=\"2352.76\" y=\"1541.47\">1.0</text>\n",
       "</g>\n",
       "<g clip-path=\"url(#clip9200)\">\n",
       "<text style=\"fill:#000000; fill-opacity:1; font-family:Arial,Helvetica Neue,Helvetica,sans-serif; font-size:48px; text-anchor:end;\" transform=\"rotate(0, 156.66, 1432.43)\" x=\"156.66\" y=\"1432.43\">0.92</text>\n",
       "</g>\n",
       "<g clip-path=\"url(#clip9200)\">\n",
       "<text style=\"fill:#000000; fill-opacity:1; font-family:Arial,Helvetica Neue,Helvetica,sans-serif; font-size:48px; text-anchor:end;\" transform=\"rotate(0, 156.66, 1100.7)\" x=\"156.66\" y=\"1100.7\">0.94</text>\n",
       "</g>\n",
       "<g clip-path=\"url(#clip9200)\">\n",
       "<text style=\"fill:#000000; fill-opacity:1; font-family:Arial,Helvetica Neue,Helvetica,sans-serif; font-size:48px; text-anchor:end;\" transform=\"rotate(0, 156.66, 768.966)\" x=\"156.66\" y=\"768.966\">0.96</text>\n",
       "</g>\n",
       "<g clip-path=\"url(#clip9200)\">\n",
       "<text style=\"fill:#000000; fill-opacity:1; font-family:Arial,Helvetica Neue,Helvetica,sans-serif; font-size:48px; text-anchor:end;\" transform=\"rotate(0, 156.66, 437.236)\" x=\"156.66\" y=\"437.236\">0.98</text>\n",
       "</g>\n",
       "<g clip-path=\"url(#clip9200)\">\n",
       "<text style=\"fill:#000000; fill-opacity:1; font-family:Arial,Helvetica Neue,Helvetica,sans-serif; font-size:48px; text-anchor:end;\" transform=\"rotate(0, 156.66, 105.505)\" x=\"156.66\" y=\"105.505\">1.00</text>\n",
       "</g>\n",
       "<polyline clip-path=\"url(#clip9202)\" style=\"stroke:#009af9; stroke-width:4; stroke-opacity:1; fill:none\" points=\"\n",
       "  180.66,88.0053 201.873,88.0055 398.011,89.5019 515.882,95.9627 615.54,109.321 723.797,136.636 823.6,177.644 877.1,207.097 930.6,242.322 992.585,290.781 \n",
       "  1054.57,347.76 1109.65,405.634 1164.74,470.216 1213.04,532.145 1261.35,598.685 1366.68,757.329 1472.63,929.24 1589.78,1119.97 1701.24,1282.88 1730.22,1319.29 \n",
       "  1759.19,1352.28 1788.16,1381.32 1817.14,1405.83 1841.53,1422.5 1865.92,1435.14 1890.31,1443.35 1914.7,1446.71 1944.48,1443.6 1974.25,1431.78 2004.03,1410.35 \n",
       "  2033.81,1378.4 2061.8,1337.9 2089.79,1286.41 2117.78,1223.04 2145.77,1146.88 2168.19,1076.01 2190.62,995.814 2213.04,905.768 2235.46,805.332 2257.88,693.949 \n",
       "  2280.31,571.045 2302.73,436.028 2325.15,288.292 2332.05,240.163 2338.95,190.752 2345.85,140.039 2352.76,88.0053 \n",
       "  \"/>\n",
       "<path clip-path=\"url(#clip9200)\" d=\"\n",
       "M1989.93 251.724 L2280.76 251.724 L2280.76 130.764 L1989.93 130.764  Z\n",
       "  \" fill=\"#ffffff\" fill-rule=\"evenodd\" fill-opacity=\"1\"/>\n",
       "<polyline clip-path=\"url(#clip9200)\" style=\"stroke:#000000; stroke-width:4; stroke-opacity:1; fill:none\" points=\"\n",
       "  1989.93,251.724 2280.76,251.724 2280.76,130.764 1989.93,130.764 1989.93,251.724 \n",
       "  \"/>\n",
       "<polyline clip-path=\"url(#clip9200)\" style=\"stroke:#009af9; stroke-width:4; stroke-opacity:1; fill:none\" points=\"\n",
       "  2013.93,191.244 2157.93,191.244 \n",
       "  \"/>\n",
       "<g clip-path=\"url(#clip9200)\">\n",
       "<text style=\"fill:#000000; fill-opacity:1; font-family:Arial,Helvetica Neue,Helvetica,sans-serif; font-size:48px; text-anchor:start;\" transform=\"rotate(0, 2181.93, 208.744)\" x=\"2181.93\" y=\"208.744\">y1</text>\n",
       "</g>\n",
       "</svg>\n"
      ]
     },
     "execution_count": 32,
     "metadata": {},
     "output_type": "execute_result"
    }
   ],
   "source": [
    "plot(x->f(x), xlims=(0, 1))"
   ]
  },
  {
   "cell_type": "code",
   "execution_count": 33,
   "metadata": {},
   "outputs": [
    {
     "data": {
      "text/plain": [
       "6-element Array{Interval{Float64},1}:\n",
       " [0, 2]                 \n",
       "     [0.03125, 1.9375]  \n",
       "     [0.237304, 1.6836] \n",
       "     [0.512908, 1.41382]\n",
       "     [0.724196, 1.22753]\n",
       "     [0.838393, 1.11927]"
      ]
     },
     "execution_count": 33,
     "metadata": {},
     "output_type": "execute_result"
    }
   ],
   "source": [
    "[_enclose_mince(f, dom, i) for i in [1, 2, 4, 8, 16, 32]]"
   ]
  },
  {
   "cell_type": "code",
   "execution_count": 34,
   "metadata": {},
   "outputs": [
    {
     "data": {
      "text/plain": [
       "6-element Array{Interval{Float64},1}:\n",
       " [0.8, 1]     \n",
       " [0.899999, 1]\n",
       " [0.915624, 1]\n",
       " [0.916943, 1]\n",
       " [0.917867, 1]\n",
       " [0.918004, 1]"
      ]
     },
     "execution_count": 34,
     "metadata": {},
     "output_type": "execute_result"
    }
   ],
   "source": [
    "[_enclose_mince_bernstein(f, dom, i) for i in [1, 2, 4, 8, 16, 32]]"
   ]
  },
  {
   "cell_type": "code",
   "execution_count": 35,
   "metadata": {},
   "outputs": [
    {
     "name": "stdout",
     "output_type": "stream",
     "text": [
      "  165.308 μs (3387 allocations: 133.36 KiB)\n"
     ]
    },
    {
     "data": {
      "text/plain": [
       "[0.838393, 1.11927]"
      ]
     },
     "execution_count": 35,
     "metadata": {},
     "output_type": "execute_result"
    }
   ],
   "source": [
    "@btime _enclose_mince($f, $dom, 32)"
   ]
  },
  {
   "cell_type": "code",
   "execution_count": null,
   "metadata": {},
   "outputs": [],
   "source": []
  },
  {
   "cell_type": "code",
   "execution_count": 36,
   "metadata": {},
   "outputs": [
    {
     "name": "stdout",
     "output_type": "stream",
     "text": [
      "  12.601 μs (245 allocations: 22.98 KiB)\n"
     ]
    },
    {
     "data": {
      "text/plain": [
       "[0.917867, 1]"
      ]
     },
     "execution_count": 36,
     "metadata": {},
     "output_type": "execute_result"
    }
   ],
   "source": [
    "@btime _enclose_mince_bernstein($f, $dom, 16)"
   ]
  },
  {
   "cell_type": "code",
   "execution_count": 62,
   "metadata": {},
   "outputs": [
    {
     "name": "stdout",
     "output_type": "stream",
     "text": [
      "  7.817 μs (5 allocations: 1.28 KiB)\n"
     ]
    },
    {
     "data": {
      "text/plain": [
       "[0.838393, 1.11927]"
      ]
     },
     "execution_count": 62,
     "metadata": {},
     "output_type": "execute_result"
    }
   ],
   "source": [
    "@btime _enclose_mince($fpow, $dom, 32)"
   ]
  },
  {
   "cell_type": "code",
   "execution_count": 37,
   "metadata": {},
   "outputs": [
    {
     "data": {
      "text/plain": [
       "[0.918004, 1]"
      ]
     },
     "execution_count": 37,
     "metadata": {},
     "output_type": "execute_result"
    }
   ],
   "source": [
    "hull(_enclose_bernstein.(f, mince(dom, 32)))"
   ]
  },
  {
   "cell_type": "code",
   "execution_count": 38,
   "metadata": {},
   "outputs": [
    {
     "data": {
      "text/plain": [
       "32-element Array{Interval{Float64},1}:\n",
       " [0.999999, 1]       \n",
       " [0.999985, 1]       \n",
       " [0.999929, 0.999986]\n",
       " [0.999786, 0.99993] \n",
       " [0.999497, 0.999787]\n",
       " [0.998995, 0.999498]\n",
       " [0.998211, 0.998996]\n",
       " [0.99707, 0.998212] \n",
       " [0.995502, 0.997071]\n",
       " [0.993443, 0.995503]\n",
       " [0.990836, 0.993444]\n",
       " [0.98764, 0.990837] \n",
       " [0.983827, 0.987641]\n",
       "  ⋮                  \n",
       " [0.936244, 0.94278] \n",
       " [0.930186, 0.936245]\n",
       " [0.92494, 0.930187] \n",
       " [0.920898, 0.924941]\n",
       " [0.918509, 0.920899]\n",
       " [0.918004, 0.91851] \n",
       " [0.918286, 0.92081] \n",
       " [0.920809, 0.926728]\n",
       " [0.926727, 0.936765]\n",
       " [0.936764, 0.951721]\n",
       " [0.95172, 0.972477] \n",
       " [0.972476, 1]       "
      ]
     },
     "execution_count": 38,
     "metadata": {},
     "output_type": "execute_result"
    }
   ],
   "source": [
    "[bernstein_bounds(f, 5, di) for di in mince(dom, 32)]"
   ]
  },
  {
   "cell_type": "code",
   "execution_count": 39,
   "metadata": {},
   "outputs": [
    {
     "data": {
      "text/plain": [
       "1×6 Array{Float64,2}:\n",
       " 1.0  1.0  1.0  1.0  0.8  1.0"
      ]
     },
     "execution_count": 39,
     "metadata": {},
     "output_type": "execute_result"
    }
   ],
   "source": [
    "sum(hcat(bernstein_coefficients(f, 5, 0..1)...)', dims=1)"
   ]
  },
  {
   "cell_type": "code",
   "execution_count": 40,
   "metadata": {},
   "outputs": [
    {
     "data": {
      "text/plain": [
       "3×6 LinearAlgebra.Adjoint{Float64,Array{Float64,2}}:\n",
       "  0.0   0.0   0.0   0.0   0.0   1.0\n",
       " -0.0  -0.0  -0.0  -0.0  -0.2  -1.0\n",
       "  1.0   1.0   1.0   1.0   1.0   1.0"
      ]
     },
     "execution_count": 40,
     "metadata": {},
     "output_type": "execute_result"
    }
   ],
   "source": [
    "hcat(bernstein_coefficients(f, 5, 0..1)...)'"
   ]
  },
  {
   "cell_type": "code",
   "execution_count": 41,
   "metadata": {},
   "outputs": [
    {
     "data": {
      "text/plain": [
       "[0.8, 1]"
      ]
     },
     "execution_count": 41,
     "metadata": {},
     "output_type": "execute_result"
    }
   ],
   "source": [
    "bernstein_bounds(f, 5, 0..1)"
   ]
  },
  {
   "cell_type": "code",
   "execution_count": 42,
   "metadata": {},
   "outputs": [
    {
     "data": {
      "text/plain": [
       "0.91808"
      ]
     },
     "execution_count": 42,
     "metadata": {},
     "output_type": "execute_result"
    }
   ],
   "source": [
    "1-4^4/5^5"
   ]
  },
  {
   "cell_type": "code",
   "execution_count": 43,
   "metadata": {},
   "outputs": [
    {
     "data": {
      "text/plain": [
       "[0.8, 1]"
      ]
     },
     "execution_count": 43,
     "metadata": {},
     "output_type": "execute_result"
    }
   ],
   "source": [
    "_enclose_bernstein_binary(f, dom, kmax=40, tol=1e-10) # por que no mejora?"
   ]
  },
  {
   "cell_type": "code",
   "execution_count": 44,
   "metadata": {},
   "outputs": [
    {
     "data": {
      "text/plain": [
       "3-element Array{Array{Float64,1},1}:\n",
       " [0.0, 0.0, 0.0, 0.0, 0.0, 1.0]      \n",
       " [-0.0, -0.0, -0.0, -0.0, -0.2, -1.0]\n",
       " [1.0, 1.0, 1.0, 1.0, 1.0, 1.0]      "
      ]
     },
     "execution_count": 44,
     "metadata": {},
     "output_type": "execute_result"
    }
   ],
   "source": [
    "bernstein_coefficients(f, 5, dom)"
   ]
  },
  {
   "cell_type": "code",
   "execution_count": 45,
   "metadata": {},
   "outputs": [
    {
     "data": {
      "text/plain": [
       "[0.8, 1]"
      ]
     },
     "execution_count": 45,
     "metadata": {},
     "output_type": "execute_result"
    }
   ],
   "source": [
    "bernstein_bounds(f, 5, dom)"
   ]
  },
  {
   "cell_type": "code",
   "execution_count": 46,
   "metadata": {},
   "outputs": [
    {
     "name": "stdout",
     "output_type": "stream",
     "text": [
      "  78.805 μs (1441 allocations: 88.55 KiB)\n"
     ]
    },
    {
     "data": {
      "text/plain": [
       "[0.8125, 1.09375]"
      ]
     },
     "execution_count": 46,
     "metadata": {},
     "output_type": "execute_result"
    }
   ],
   "source": [
    "fcall = x -> f(x)\n",
    "@btime enclose($fcall, $dom, :TaylorModels, order=5)"
   ]
  },
  {
   "cell_type": "code",
   "execution_count": 47,
   "metadata": {},
   "outputs": [
    {
     "name": "stdout",
     "output_type": "stream",
     "text": [
      "1\n",
      "[0.8125, 1.09375]\n",
      "  80.198 μs (1446 allocations: 88.82 KiB)\n",
      "2\n",
      "[0.894531, 1.01368]\n",
      "  165.643 μs (2941 allocations: 178.30 KiB)\n",
      "4\n",
      "[0.887176, 1.00184]\n",
      "  335.555 μs (5943 allocations: 357.81 KiB)\n",
      "8\n",
      "[0.915083, 1.00036]\n",
      "  675.962 μs (11959 allocations: 717.41 KiB)\n",
      "16\n",
      "[0.916588, 1.00003]\n",
      "  1.358 ms (24003 allocations: 1.40 MiB)\n",
      "32\n",
      "[0.917904, 1.00001]\n",
      "  2.720 ms (48103 allocations: 2.81 MiB)\n"
     ]
    }
   ],
   "source": [
    "for i in [1, 2, 4, 8, 16, 32]\n",
    "    println(i)\n",
    "    println(_enclose_mince_taylor_models(fcall, dom, 5, i))\n",
    "    @btime _enclose_mince_taylor_models($fcall, $dom, 5, $i)\n",
    "end"
   ]
  },
  {
   "cell_type": "code",
   "execution_count": 57,
   "metadata": {},
   "outputs": [
    {
     "name": "stdout",
     "output_type": "stream",
     "text": [
      " - - - - -\n",
      " i = 1\n",
      "relative_precision(x_ia, xref) = [1120.7, 1220.71]\n",
      "  3.226 μs (90 allocations: 3.94 KiB)\n",
      "\n",
      "relative_precision(x_ber, xref) = [144.14, 0]\n",
      "  959.733 ns (20 allocations: 1.66 KiB)\n",
      "\n",
      "relative_precision(x_tm, xref) = [128.881, 114.441]\n",
      "  79.785 μs (1446 allocations: 88.82 KiB)\n",
      " - - - - -\n",
      " i = 2\n",
      "relative_precision(x_ia, xref) = [1082.55, 1144.41]\n",
      "  8.406 μs (193 allocations: 7.95 KiB)\n",
      "\n",
      "relative_precision(x_ber, xref) = [22.0703, 0]\n",
      "  1.794 μs (35 allocations: 3.08 KiB)\n",
      "\n",
      "relative_precision(x_tm, xref) = [28.746, 16.6894]\n",
      "  164.435 μs (2941 allocations: 178.30 KiB)\n",
      " - - - - -\n",
      " i = 4\n",
      "relative_precision(x_ia, xref) = [831.024, 834.466]\n",
      "  18.571 μs (403 allocations: 16.17 KiB)\n",
      "\n",
      "relative_precision(x_ber, xref) = [2.99682, 0]\n",
      "  3.365 μs (65 allocations: 5.92 KiB)\n",
      "\n",
      "relative_precision(x_tm, xref) = [37.7239, 2.23518]\n",
      "  333.893 μs (5943 allocations: 357.81 KiB)\n",
      " - - - - -\n",
      " i = 8\n",
      "relative_precision(x_ia, xref) = [494.593, 505.15]\n",
      "  39.262 μs (827 allocations: 32.80 KiB)\n",
      "\n",
      "relative_precision(x_ber, xref) = [1.3875, 0]\n",
      "  6.513 μs (125 allocations: 11.61 KiB)\n",
      "\n",
      "relative_precision(x_tm, xref) = [3.65736, 0.433065]\n",
      "  678.399 μs (11959 allocations: 717.41 KiB)\n",
      " - - - - -\n",
      " i = 16\n",
      "relative_precision(x_ia, xref) = [236.674, 277.74]\n",
      "  82.150 μs (1679 allocations: 66.23 KiB)\n",
      "\n",
      "relative_precision(x_ber, xref) = [0.259669, 0]\n",
      "  12.716 μs (245 allocations: 22.98 KiB)\n",
      "\n",
      "relative_precision(x_tm, xref) = [1.82051, 0.0362343]\n",
      "  1.368 ms (24003 allocations: 1.40 MiB)\n",
      " - - - - -\n",
      " i = 32\n",
      "relative_precision(x_ia, xref) = [97.2739, 145.584]\n",
      "  168.359 μs (3387 allocations: 133.36 KiB)\n",
      "\n",
      "relative_precision(x_ber, xref) = [0.0924385, 0]\n",
      "  25.386 μs (485 allocations: 45.80 KiB)\n",
      "\n",
      "relative_precision(x_tm, xref) = [0.214614, 0.00255114]\n",
      "  2.735 ms (48103 allocations: 2.81 MiB)\n",
      " - - - - -\n"
     ]
    }
   ],
   "source": [
    "println(\" - - - - -\")\n",
    "for i in [1, 2, 4, 8, 16, 32]\n",
    "    println(\" i = $i\")\n",
    "    x_ia = _enclose_mince(f, dom, i) \n",
    "    @show relative_precision(x_ia, xref)\n",
    "    @btime  _enclose_mince($f, $dom, $i) \n",
    "    println()\n",
    "    \n",
    "    x_ber = _enclose_mince_bernstein(f, dom, i) \n",
    "    @show relative_precision(x_ber, xref)\n",
    "    @btime  _enclose_mince_bernstein($f, $dom, $i)\n",
    "    println()\n",
    "    \n",
    "    x_tm = _enclose_mince_taylor_models(fcall, dom, 5, i)    \n",
    "    @show relative_precision(x_tm, xref)\n",
    "    @btime  _enclose_mince_taylor_models($fcall, $dom, 5, $i)\n",
    "\n",
    "    println(\" - - - - -\")\n",
    "end"
   ]
  },
  {
   "cell_type": "markdown",
   "metadata": {},
   "source": [
    "## Appendix"
   ]
  },
  {
   "cell_type": "code",
   "execution_count": 23,
   "metadata": {},
   "outputs": [
    {
     "data": {
      "text/plain": [
       "bernstein_bounds (generic function with 1 method)"
      ]
     },
     "execution_count": 23,
     "metadata": {},
     "output_type": "execute_result"
    }
   ],
   "source": [
    "function bernstein_coefficients(m, k, dom::Interval)\n",
    "    coeffs = Vector{Vector{Float64}}(undef, nterms(m))\n",
    "    for (i, ti) in enumerate(terms(m))\n",
    "        coeffs[i] = univariate(ti, k, dom)\n",
    "    end\n",
    "    return coeffs\n",
    "end\n",
    "\n",
    "function bernstein_bounds(m, k, dom::Interval)\n",
    "    #coeffs = bernstein_coefficients(m, k, dom)\n",
    "    \n",
    "    coeffs = Matrix{Float64}(undef, nterms(m), k+1) # k es l en el paquete..\n",
    "    \n",
    "    for (i, ti) in enumerate(terms(m))\n",
    "        coeffs[i, :] = univariate(ti, k, dom)\n",
    "    end\n",
    "    \n",
    "    coeffs_accum = sum(coeffs, dims=1)\n",
    "\n",
    "    #min_coeff = minimum(map(minimum, coeffs))\n",
    "    #max_coeff = maximum(map(maximum, coeffs))\n",
    "    \n",
    "    min_coeff = minimum(coeffs_accum)\n",
    "    max_coeff = maximum(coeffs_accum)\n",
    "\n",
    "    return Interval(min_coeff, max_coeff)\n",
    "end"
   ]
  },
  {
   "cell_type": "code",
   "execution_count": 24,
   "metadata": {},
   "outputs": [
    {
     "data": {
      "text/plain": [
       "_enclose_bernstein_binary (generic function with 1 method)"
      ]
     },
     "execution_count": 24,
     "metadata": {},
     "output_type": "execute_result"
    }
   ],
   "source": [
    "_enclose_bernstein(f, dom) = bernstein_bounds(f, maxdegree(f), dom)\n",
    "\n",
    "function _enclose_bernstein_binary(f, dom::Interval; kmax=3, tol=1e-3)\n",
    "    y = _enclose_bernstein(f, dom)\n",
    "    yinf, ysup = inf(y), sup(y)\n",
    "    kmax == 0 && return Interval(yinf, ysup)\n",
    "    x = bisect(dom)\n",
    "    fx1 = _enclose_bernstein(f, x[1])\n",
    "    fx2 = _enclose_bernstein(f, x[2])\n",
    "    ynew = hull(fx1, fx2)\n",
    "    ynew_inf, ynew_sup = inf(ynew), sup(ynew)\n",
    "    inf_close = abs(yinf - ynew_inf) <= tol\n",
    "    sup_close = abs(ysup - ynew_sup) <= tol\n",
    "    both_close = inf_close && sup_close\n",
    "    inf_improves = ynew_inf > yinf\n",
    "    sup_improves = ynew_sup < ysup\n",
    "    both_improve = inf_improves && sup_improves\n",
    "    if both_close || !both_improve\n",
    "        return Interval(yinf, ysup)\n",
    "    end\n",
    "    yinf = max(yinf, ynew_inf)\n",
    "    ysup = min(ysup, ynew_sup)\n",
    "    if inf_improves\n",
    "        yinf = ynew_inf\n",
    "    end\n",
    "    if sup_improves\n",
    "        ysup = ynew_sup\n",
    "    end\n",
    "    e1 = _enclose_bernstein_binary(f, x[1], kmax=kmax-1)\n",
    "    e2 = _enclose_bernstein_binary(f, x[2], kmax=kmax-1)\n",
    "    return Interval(hull(e1, e2))\n",
    "end"
   ]
  },
  {
   "cell_type": "code",
   "execution_count": 25,
   "metadata": {},
   "outputs": [
    {
     "data": {
      "text/plain": [
       "_enclose_mince (generic function with 1 method)"
      ]
     },
     "execution_count": 25,
     "metadata": {},
     "output_type": "execute_result"
    }
   ],
   "source": [
    "_enclose_mince(f, dom, nparts) = hull(f.(mince(dom, nparts)))"
   ]
  },
  {
   "cell_type": "code",
   "execution_count": 26,
   "metadata": {},
   "outputs": [
    {
     "data": {
      "text/plain": [
       "_enclose_mince_bernstein (generic function with 1 method)"
      ]
     },
     "execution_count": 26,
     "metadata": {},
     "output_type": "execute_result"
    }
   ],
   "source": [
    "_enclose_mince_bernstein(f, dom, nparts) = hull(_enclose_bernstein.(f, mince(dom, nparts)))"
   ]
  },
  {
   "cell_type": "code",
   "execution_count": 27,
   "metadata": {},
   "outputs": [
    {
     "data": {
      "text/plain": [
       "_enclose_mince_taylor_models (generic function with 1 method)"
      ]
     },
     "execution_count": 27,
     "metadata": {},
     "output_type": "execute_result"
    }
   ],
   "source": [
    "_enclose_mince_taylor_models(f, dom, ord, nparts) = hull([enclose(f, di, :TaylorModels, order=ord) for di in mince(dom, nparts)])"
   ]
  },
  {
   "cell_type": "code",
   "execution_count": null,
   "metadata": {},
   "outputs": [],
   "source": []
  }
 ],
 "metadata": {
  "kernelspec": {
   "display_name": "Julia 1.3.1",
   "language": "julia",
   "name": "julia-1.3"
  },
  "language_info": {
   "file_extension": ".jl",
   "mimetype": "application/julia",
   "name": "julia",
   "version": "1.3.1"
  }
 },
 "nbformat": 4,
 "nbformat_minor": 2
}
