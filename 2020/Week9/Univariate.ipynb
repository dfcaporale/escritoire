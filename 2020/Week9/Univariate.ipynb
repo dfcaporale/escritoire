{
 "cells": [
  {
   "cell_type": "markdown",
   "metadata": {},
   "source": [
    "### References:\n",
    "\n",
    "- https://discourse.julialang.org/t/slow-arbitrary-base-exponentiation-a-b/25386/21\n",
    "- https://docs.julialang.org/en/v1/manual/performance-tips/#man-performance-annotations-1\n",
    "- http://llvm.org/docs/LangRef.html#fast-math-flags"
   ]
  },
  {
   "cell_type": "code",
   "execution_count": 4,
   "metadata": {},
   "outputs": [
    {
     "name": "stderr",
     "output_type": "stream",
     "text": [
      "┌ Info: Precompiling BernsteinExpansions [afc6e731-2783-597c-a3b4-470ee96642a0]\n",
      "└ @ Base loading.jl:1273\n"
     ]
    }
   ],
   "source": [
    "using Revise, BernsteinExpansions, DynamicPolynomials, BenchmarkTools, StaticArrays, Test"
   ]
  },
  {
   "cell_type": "code",
   "execution_count": 5,
   "metadata": {},
   "outputs": [],
   "source": [
    "using BernsteinExpansions: fastpow # DiffEqBase implementation"
   ]
  },
  {
   "cell_type": "code",
   "execution_count": 2,
   "metadata": {},
   "outputs": [
    {
     "data": {
      "text/plain": [
       "fastpow2 (generic function with 1 method)"
      ]
     },
     "execution_count": 2,
     "metadata": {},
     "output_type": "execute_result"
    }
   ],
   "source": [
    "# https://github.com/etheory/fastapprox/blob/master/fastapprox/src/fastlog.h\n",
    "function fastlog2(x::Float32)::Float32\n",
    "    y = Float32(reinterpret(Int32, x))\n",
    "    y *= 1.1920928955078125f-7\n",
    "    y - 126.94269504f0\n",
    "end\n",
    "function fastlog2(x::Float64)::Float32\n",
    "   fastlog2(Float32(x))\n",
    "end\n",
    "\n",
    "# https://github.com/etheory/fastapprox/blob/master/fastapprox/src/fastexp.h\n",
    "function _fastpow2(x::Float32)::Float32\n",
    "    clipp = x < -126.0f0 ? -126.0f0 : x\n",
    "    clipp = min(126f0, max(-126f0, x))\n",
    "    reinterpret(Float32, UInt32((1 << 23) * (clipp + 126.94269504f0)))\n",
    "end\n",
    "function _fastpow2(x::Float64)::Float32\n",
    "   _fastpow2(Float32(x))\n",
    "end\n",
    "\n",
    "# https://github.com/etheory/fastapprox/blob/master/fastapprox/src/fastpow.h\n",
    "function fastpow2(x::Real, y::Real)::Real\n",
    "    _fastpow2(y * fastlog2(x))\n",
    "end"
   ]
  },
  {
   "cell_type": "code",
   "execution_count": 6,
   "metadata": {},
   "outputs": [
    {
     "name": "stdout",
     "output_type": "stream",
     "text": [
      "  0.016 ns (0 allocations: 0 bytes)\n"
     ]
    },
    {
     "data": {
      "text/plain": [
       "18.750488f0"
      ]
     },
     "execution_count": 6,
     "metadata": {},
     "output_type": "execute_result"
    }
   ],
   "source": [
    "@btime fastpow2(2.0, 4)"
   ]
  },
  {
   "cell_type": "code",
   "execution_count": 7,
   "metadata": {},
   "outputs": [
    {
     "name": "stdout",
     "output_type": "stream",
     "text": [
      "  0.015 ns (0 allocations: 0 bytes)\n"
     ]
    },
    {
     "data": {
      "text/plain": [
       "16.0f0"
      ]
     },
     "execution_count": 7,
     "metadata": {},
     "output_type": "execute_result"
    }
   ],
   "source": [
    "@btime fastpow(2.0, 4)"
   ]
  },
  {
   "cell_type": "code",
   "execution_count": 9,
   "metadata": {},
   "outputs": [
    {
     "data": {
      "text/plain": [
       "18.75048828125"
      ]
     },
     "execution_count": 9,
     "metadata": {},
     "output_type": "execute_result"
    }
   ],
   "source": [
    "Float64(fastpow2(2.0, 4))"
   ]
  },
  {
   "cell_type": "code",
   "execution_count": 10,
   "metadata": {},
   "outputs": [
    {
     "data": {
      "text/plain": [
       "16.0"
      ]
     },
     "execution_count": 10,
     "metadata": {},
     "output_type": "execute_result"
    }
   ],
   "source": [
    "Float64(fastpow(2.0, 4))"
   ]
  },
  {
   "cell_type": "code",
   "execution_count": 47,
   "metadata": {},
   "outputs": [
    {
     "data": {
      "text/plain": [
       "uni_10 (generic function with 1 method)"
      ]
     },
     "execution_count": 47,
     "metadata": {},
     "output_type": "execute_result"
    }
   ],
   "source": [
    "function uni_1(k::Integer, l::Integer, low::N, high::N) where {N}\n",
    "    coeffs = Vector{N}(undef, l+1)\n",
    "    for i in 0:l\n",
    "        coeffs[i+1] = low^(k-i) * high^i\n",
    "    end\n",
    "    return coeffs\n",
    "end\n",
    "\n",
    "# using Julia's ^, no fastmath\n",
    "function uni_2(k::Integer, l::Integer, low::N, high::N) where {N}\n",
    "    coeffs = Vector{N}(undef, l+1)\n",
    "    for i in 0:l\n",
    "        @inbounds coeffs[i+1] = low^(k-i) * high^i\n",
    "    end\n",
    "    return coeffs\n",
    "end\n",
    "\n",
    "function uni_3(k::Integer, l::Integer, low::N, high::N) where {N}\n",
    "    coeffs = zeros(N, l+1)\n",
    "    @simd for i in 0:l\n",
    "        @inbounds coeffs[i+1] = low^(k-i) * high^i\n",
    "    end\n",
    "    return coeffs\n",
    "end\n",
    "\n",
    "# using Julia's ^ with fastmath\n",
    "function uni_4(k::Integer, l::Integer, low::N, high::N) where {N}\n",
    "    coeffs = Vector{N}(undef, l+1)\n",
    "    @fastmath for i in 0:l\n",
    "        @inbounds coeffs[i+1] = low^(k-i) * high^i\n",
    "    end\n",
    "    return coeffs\n",
    "end\n",
    "\n",
    "function uni_5(k::Integer, l::Integer, low::N, high::N) where {N}\n",
    "    coeffs = Vector{N}(undef, l+1)\n",
    "    @fastmath for i in 0:l\n",
    "        @inbounds coeffs[i+1] = low^(k-i) * high^i\n",
    "    end\n",
    "    return coeffs\n",
    "end\n",
    "\n",
    "function uni_6(k::Integer, l::Integer, low::N, high::N) where {N}\n",
    "    coeffs = MVector{l+1, Float64}(undef)\n",
    "    @fastmath for i in 0:l\n",
    "        @inbounds coeffs[i+1] = low^(k-i) * high^i\n",
    "    end\n",
    "    return coeffs\n",
    "end\n",
    "\n",
    "function uni_7(k::Integer, l::Integer, low::N, high::N) where {N}\n",
    "    coeffs = Vector{N}(undef, l+1)\n",
    "    @fastmath for i in 0:l\n",
    "        @inbounds coeffs[i+1] = low^(k-i) * high^i\n",
    "    end\n",
    "    return coeffs\n",
    "end\n",
    "\n",
    "# using fastpow and fastmath\n",
    "function uni_8(k::Integer, l::Integer, low::N, high::N) where {N}\n",
    "    coeffs = Vector{N}(undef, l+1)\n",
    "    @fastmath for i in 0:l\n",
    "        @inbounds coeffs[i+1] = fastpow(low, k-i) * fastpow(high, i)\n",
    "    end\n",
    "    return coeffs\n",
    "end\n",
    "\n",
    "# using fastpow and not fastmath\n",
    "function uni_9(k::Integer, l::Integer, low::N, high::N) where {N}\n",
    "    coeffs = Vector{N}(undef, l+1)\n",
    "    for i in 0:l\n",
    "        @inbounds coeffs[i+1] = fastpow(low, k-i) * fastpow(high, i)\n",
    "    end\n",
    "    return coeffs\n",
    "end\n",
    "\n",
    "function uni_10(k::Integer, l::Integer, low::N, high::N) where {N}\n",
    "    coeffs = Vector{N}(undef, l+1)\n",
    "    for i in 0:l\n",
    "        @inbounds coeffs[i+1] = fastpow2(low, k-i) * fastpow2(high, i)\n",
    "    end\n",
    "    return coeffs\n",
    "end"
   ]
  },
  {
   "cell_type": "code",
   "execution_count": 48,
   "metadata": {},
   "outputs": [
    {
     "name": "stdout",
     "output_type": "stream",
     "text": [
      "  97.147 ns (1 allocation: 112 bytes)\n",
      "  99.278 ns (1 allocation: 112 bytes)\n",
      "  104.506 ns (1 allocation: 112 bytes)\n",
      "  39.151 ns (1 allocation: 112 bytes)\n",
      "  38.942 ns (1 allocation: 112 bytes)\n",
      "  1.093 μs (18 allocations: 816 bytes)\n"
     ]
    },
    {
     "data": {
      "text/plain": [
       "4-element MArray{Tuple{4},Float64,1,4} with indices SOneTo(4):\n",
       " 1.0\n",
       " 2.0\n",
       " 4.0\n",
       " 8.0"
      ]
     },
     "execution_count": 48,
     "metadata": {},
     "output_type": "execute_result"
    }
   ],
   "source": [
    "@btime uni_1(3, 3, 1.0, 2.0)\n",
    "@btime uni_2(3, 3, 1.0, 2.0) # using Julia's ^, no fastmath\n",
    "@btime uni_3(3, 3, 1.0, 2.0)\n",
    "@btime uni_4(3, 3, 1.0, 2.0) # using Julia's ^ and fastmath << FASTEST\n",
    "@btime uni_5(3, 3, 1.0, 2.0)\n",
    "@btime uni_6(3, 3, 1.0, 2.0)"
   ]
  },
  {
   "cell_type": "code",
   "execution_count": null,
   "metadata": {},
   "outputs": [],
   "source": []
  },
  {
   "cell_type": "code",
   "execution_count": 49,
   "metadata": {},
   "outputs": [
    {
     "name": "stdout",
     "output_type": "stream",
     "text": [
      "  38.769 ns (1 allocation: 112 bytes)\n",
      "  80.393 ns (1 allocation: 112 bytes)\n",
      "  80.183 ns (1 allocation: 112 bytes)\n",
      "  58.393 ns (1 allocation: 112 bytes)\n"
     ]
    },
    {
     "data": {
      "text/plain": [
       "4-element Array{Float64,1}:\n",
       " 1.0826728343963623\n",
       " 2.1146087646484375\n",
       " 4.229248046875    \n",
       " 8.661382675170898 "
      ]
     },
     "execution_count": 49,
     "metadata": {},
     "output_type": "execute_result"
    }
   ],
   "source": [
    "@btime uni_7(3, 3, 1.0, 2.0)\n",
    "@btime uni_8(3, 3, 1.0, 2.0) # using fastpow and fastmath \n",
    "@btime uni_9(3, 3, 1.0, 2.0) # using fastpow and NOT fastmath << twice as slow than uni_4, *but* faster than uni_2\n",
    "@btime uni_10(3, 3, 1.0, 2.0)"
   ]
  },
  {
   "cell_type": "code",
   "execution_count": 50,
   "metadata": {},
   "outputs": [
    {
     "data": {
      "text/plain": [
       "4-element Array{Float64,1}:\n",
       " 1.0826728343963623\n",
       " 2.1146087646484375\n",
       " 4.229248046875    \n",
       " 8.661382675170898 "
      ]
     },
     "execution_count": 50,
     "metadata": {},
     "output_type": "execute_result"
    }
   ],
   "source": [
    "uni_10(3, 3, 1.0, 2.0)"
   ]
  },
  {
   "cell_type": "code",
   "execution_count": null,
   "metadata": {},
   "outputs": [],
   "source": []
  },
  {
   "cell_type": "markdown",
   "metadata": {},
   "source": [
    "## Test"
   ]
  },
  {
   "cell_type": "code",
   "execution_count": 2,
   "metadata": {},
   "outputs": [
    {
     "name": "stderr",
     "output_type": "stream",
     "text": [
      "┌ Info: Precompiling BernsteinExpansions [afc6e731-2783-597c-a3b4-470ee96642a0]\n",
      "└ @ Base loading.jl:1273\n"
     ]
    }
   ],
   "source": [
    "using Revise, BernsteinExpansions, DynamicPolynomials, BenchmarkTools, StaticArrays, Test"
   ]
  },
  {
   "cell_type": "code",
   "execution_count": 3,
   "metadata": {},
   "outputs": [
    {
     "data": {
      "text/latex": [
       "$$ x^{3} $$"
      ],
      "text/plain": [
       "x³"
      ]
     },
     "execution_count": 3,
     "metadata": {},
     "output_type": "execute_result"
    }
   ],
   "source": [
    "@polyvar x\n",
    "m = x^3"
   ]
  },
  {
   "cell_type": "code",
   "execution_count": 6,
   "metadata": {},
   "outputs": [
    {
     "name": "stdout",
     "output_type": "stream",
     "text": [
      "  43.479 ns (1 allocation: 112 bytes)\n"
     ]
    },
    {
     "data": {
      "text/plain": [
       "4-element Array{Float64,1}:\n",
       " 1.0\n",
       " 2.0\n",
       " 4.0\n",
       " 8.0"
      ]
     },
     "execution_count": 6,
     "metadata": {},
     "output_type": "execute_result"
    }
   ],
   "source": [
    "@btime univariate($m, 3, 1..2)"
   ]
  },
  {
   "cell_type": "code",
   "execution_count": 8,
   "metadata": {},
   "outputs": [
    {
     "name": "stdout",
     "output_type": "stream",
     "text": [
      "  39.891 ns (1 allocation: 112 bytes)\n"
     ]
    },
    {
     "data": {
      "text/plain": [
       "3-element Array{Float64,1}:\n",
       " 0.0\n",
       " 0.0\n",
       " 0.0"
      ]
     },
     "execution_count": 8,
     "metadata": {},
     "output_type": "execute_result"
    }
   ],
   "source": [
    "m = x^5\n",
    "@btime univariate($m, 2, 0..1)"
   ]
  },
  {
   "cell_type": "code",
   "execution_count": 13,
   "metadata": {},
   "outputs": [
    {
     "name": "stdout",
     "output_type": "stream",
     "text": [
      "  105.720 ns (4 allocations: 336 bytes)\n"
     ]
    },
    {
     "data": {
      "text/plain": [
       "3-element Array{Float64,1}:\n",
       "  0.0\n",
       "  0.0\n",
       " 16.0"
      ]
     },
     "execution_count": 13,
     "metadata": {},
     "output_type": "execute_result"
    }
   ],
   "source": [
    "@btime univariate(x^2, 2, 0..4)"
   ]
  },
  {
   "cell_type": "code",
   "execution_count": 28,
   "metadata": {},
   "outputs": [],
   "source": [
    "coeffs = Vector{Float64}(undef, 4)\n",
    "using BernsteinExpansions: _univariate!"
   ]
  },
  {
   "cell_type": "code",
   "execution_count": 29,
   "metadata": {},
   "outputs": [
    {
     "name": "stdout",
     "output_type": "stream",
     "text": [
      "  21.285 ns (0 allocations: 0 bytes)\n",
      "  63.144 ns (0 allocations: 0 bytes)\n",
      "  87.559 ns (0 allocations: 0 bytes)\n"
     ]
    },
    {
     "data": {
      "text/plain": [
       "4-element Array{Float64,1}:\n",
       "  1.0\n",
       "  4.0\n",
       " 16.0\n",
       " 64.0"
      ]
     },
     "execution_count": 29,
     "metadata": {},
     "output_type": "execute_result"
    }
   ],
   "source": [
    "@btime _univariate!($coeffs, 4, 3, 1.0, 4.0, Val(:fastmath))\n",
    "@btime _univariate!($coeffs, 4, 3, 1.0, 4.0, Val(:fastpow))\n",
    "@btime _univariate!($coeffs, 4, 3, 1.0, 4.0, Val(:base))"
   ]
  },
  {
   "cell_type": "code",
   "execution_count": 26,
   "metadata": {},
   "outputs": [
    {
     "name": "stdout",
     "output_type": "stream",
     "text": [
      "  43.859 ns (1 allocation: 112 bytes)\n"
     ]
    },
    {
     "data": {
      "text/plain": [
       "4-element Array{Float64,1}:\n",
       "  1.0\n",
       "  4.0\n",
       " 16.0\n",
       " 64.0"
      ]
     },
     "execution_count": 26,
     "metadata": {},
     "output_type": "execute_result"
    }
   ],
   "source": [
    "m = x^4\n",
    "@btime univariate($m, 3, 1..4)"
   ]
  },
  {
   "cell_type": "code",
   "execution_count": 27,
   "metadata": {},
   "outputs": [
    {
     "data": {
      "text/plain": [
       "4-element Array{Float64,1}:\n",
       "  1.0\n",
       "  4.0\n",
       " 16.0\n",
       " 64.0"
      ]
     },
     "execution_count": 27,
     "metadata": {},
     "output_type": "execute_result"
    }
   ],
   "source": [
    "univariate(x^4, 3, 1..4)"
   ]
  },
  {
   "cell_type": "code",
   "execution_count": 31,
   "metadata": {},
   "outputs": [
    {
     "data": {
      "text/html": [
       "^(x::<b>Float64</b>, y::<b>Integer</b>) in Base.Math at <a href=\"https://github.com/JuliaLang/julia/tree/2d5741174ce3e6a394010d2e470e4269ca54607f/base/math.jl#L860\" target=\"_blank\">math.jl:860</a>"
      ],
      "text/plain": [
       "^(x::Float64, y::Integer) in Base.Math at math.jl:860"
      ]
     },
     "execution_count": 31,
     "metadata": {},
     "output_type": "execute_result"
    }
   ],
   "source": [
    "@which 2.0^4"
   ]
  },
  {
   "cell_type": "code",
   "execution_count": null,
   "metadata": {},
   "outputs": [],
   "source": []
  }
 ],
 "metadata": {
  "kernelspec": {
   "display_name": "Julia 1.3.1",
   "language": "julia",
   "name": "julia-1.3"
  },
  "language_info": {
   "file_extension": ".jl",
   "mimetype": "application/julia",
   "name": "julia",
   "version": "1.3.1"
  }
 },
 "nbformat": 4,
 "nbformat_minor": 2
}
