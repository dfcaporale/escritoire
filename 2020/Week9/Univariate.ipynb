{
 "cells": [
  {
   "cell_type": "markdown",
   "metadata": {},
   "source": [
    "### References:\n",
    "\n",
    "- https://discourse.julialang.org/t/slow-arbitrary-base-exponentiation-a-b/25386/21\n",
    "- https://docs.julialang.org/en/v1/manual/performance-tips/#man-performance-annotations-1\n",
    "- http://llvm.org/docs/LangRef.html#fast-math-flags"
   ]
  },
  {
   "cell_type": "code",
   "execution_count": 10,
   "metadata": {},
   "outputs": [],
   "source": [
    "using Revise, BernsteinExpansions, DynamicPolynomials, BenchmarkTools, StaticArrays, Test"
   ]
  },
  {
   "cell_type": "code",
   "execution_count": 11,
   "metadata": {},
   "outputs": [],
   "source": [
    "using LoopVectorization # try @avx macro"
   ]
  },
  {
   "cell_type": "code",
   "execution_count": 12,
   "metadata": {},
   "outputs": [],
   "source": [
    "using BernsteinExpansions: fastpow # DiffEqBase implementation"
   ]
  },
  {
   "cell_type": "code",
   "execution_count": 13,
   "metadata": {},
   "outputs": [
    {
     "data": {
      "text/plain": [
       "fastpow2 (generic function with 1 method)"
      ]
     },
     "execution_count": 13,
     "metadata": {},
     "output_type": "execute_result"
    }
   ],
   "source": [
    "# https://github.com/etheory/fastapprox/blob/master/fastapprox/src/fastlog.h\n",
    "function fastlog2(x::Float32)::Float32\n",
    "    y = Float32(reinterpret(Int32, x))\n",
    "    y *= 1.1920928955078125f-7\n",
    "    y - 126.94269504f0\n",
    "end\n",
    "function fastlog2(x::Float64)::Float32\n",
    "   fastlog2(Float32(x))\n",
    "end\n",
    "\n",
    "# https://github.com/etheory/fastapprox/blob/master/fastapprox/src/fastexp.h\n",
    "function _fastpow2(x::Float32)::Float32\n",
    "    clipp = x < -126.0f0 ? -126.0f0 : x\n",
    "    clipp = min(126f0, max(-126f0, x))\n",
    "    reinterpret(Float32, UInt32((1 << 23) * (clipp + 126.94269504f0)))\n",
    "end\n",
    "function _fastpow2(x::Float64)::Float32\n",
    "   _fastpow2(Float32(x))\n",
    "end\n",
    "\n",
    "# https://github.com/etheory/fastapprox/blob/master/fastapprox/src/fastpow.h\n",
    "function fastpow2(x::Real, y::Real)::Real\n",
    "    _fastpow2(y * fastlog2(x))\n",
    "end"
   ]
  },
  {
   "cell_type": "code",
   "execution_count": 14,
   "metadata": {},
   "outputs": [
    {
     "name": "stdout",
     "output_type": "stream",
     "text": [
      "  0.017 ns (0 allocations: 0 bytes)\n"
     ]
    },
    {
     "data": {
      "text/plain": [
       "18.750488f0"
      ]
     },
     "execution_count": 14,
     "metadata": {},
     "output_type": "execute_result"
    }
   ],
   "source": [
    "@btime fastpow2(2.0, 4)"
   ]
  },
  {
   "cell_type": "code",
   "execution_count": 15,
   "metadata": {},
   "outputs": [
    {
     "name": "stdout",
     "output_type": "stream",
     "text": [
      "  0.016 ns (0 allocations: 0 bytes)\n"
     ]
    },
    {
     "data": {
      "text/plain": [
       "16.0f0"
      ]
     },
     "execution_count": 15,
     "metadata": {},
     "output_type": "execute_result"
    }
   ],
   "source": [
    "@btime fastpow(2.0, 4)"
   ]
  },
  {
   "cell_type": "code",
   "execution_count": 16,
   "metadata": {},
   "outputs": [
    {
     "data": {
      "text/plain": [
       "18.75048828125"
      ]
     },
     "execution_count": 16,
     "metadata": {},
     "output_type": "execute_result"
    }
   ],
   "source": [
    "Float64(fastpow2(2.0, 4))"
   ]
  },
  {
   "cell_type": "code",
   "execution_count": 17,
   "metadata": {},
   "outputs": [
    {
     "data": {
      "text/plain": [
       "16.0"
      ]
     },
     "execution_count": 17,
     "metadata": {},
     "output_type": "execute_result"
    }
   ],
   "source": [
    "Float64(fastpow(2.0, 4))"
   ]
  },
  {
   "cell_type": "code",
   "execution_count": 18,
   "metadata": {},
   "outputs": [
    {
     "data": {
      "text/plain": [
       "uni_10 (generic function with 1 method)"
      ]
     },
     "execution_count": 18,
     "metadata": {},
     "output_type": "execute_result"
    }
   ],
   "source": [
    "function uni_1(k::Integer, l::Integer, low::N, high::N) where {N}\n",
    "    coeffs = Vector{N}(undef, l+1)\n",
    "    for i in 0:l\n",
    "        coeffs[i+1] = low^(k-i) * high^i\n",
    "    end\n",
    "    return coeffs\n",
    "end\n",
    "\n",
    "# using Julia's ^, no fastmath\n",
    "function uni_2(k::Integer, l::Integer, low::N, high::N) where {N}\n",
    "    coeffs = Vector{N}(undef, l+1)\n",
    "    for i in 0:l\n",
    "        @inbounds coeffs[i+1] = low^(k-i) * high^i\n",
    "    end\n",
    "    return coeffs\n",
    "end\n",
    "\n",
    "function uni_3(k::Integer, l::Integer, low::N, high::N) where {N}\n",
    "    coeffs = zeros(N, l+1)\n",
    "    @simd for i in 0:l\n",
    "        @inbounds coeffs[i+1] = low^(k-i) * high^i\n",
    "    end\n",
    "    return coeffs\n",
    "end\n",
    "\n",
    "# using Julia's ^ with fastmath\n",
    "function uni_4(k::Integer, l::Integer, low::N, high::N) where {N}\n",
    "    coeffs = Vector{N}(undef, l+1)\n",
    "    @fastmath for i in 0:l\n",
    "        @inbounds coeffs[i+1] = low^(k-i) * high^i\n",
    "    end\n",
    "    return coeffs\n",
    "end\n",
    "\n",
    "function uni_6(k::Integer, l::Integer, low::N, high::N) where {N}\n",
    "    coeffs = MVector{l+1, Float64}(undef)\n",
    "    @fastmath for i in 0:l\n",
    "        @inbounds coeffs[i+1] = low^(k-i) * high^i\n",
    "    end\n",
    "    return coeffs\n",
    "end\n",
    "\n",
    "# using fastpow and fastmath\n",
    "function uni_8(k::Integer, l::Integer, low::N, high::N) where {N}\n",
    "    coeffs = Vector{N}(undef, l+1)\n",
    "    @fastmath for i in 0:l\n",
    "        @inbounds coeffs[i+1] = fastpow(low, k-i) * fastpow(high, i)\n",
    "    end\n",
    "    return coeffs\n",
    "end\n",
    "\n",
    "# using fastpow and not fastmath\n",
    "function uni_9(k::Integer, l::Integer, low::N, high::N) where {N}\n",
    "    coeffs = Vector{N}(undef, l+1)\n",
    "    for i in 0:l\n",
    "        @inbounds coeffs[i+1] = fastpow(low, k-i) * fastpow(high, i)\n",
    "    end\n",
    "    return coeffs\n",
    "end\n",
    "\n",
    "function uni_10(k::Integer, l::Integer, low::N, high::N) where {N}\n",
    "    coeffs = Vector{N}(undef, l+1)\n",
    "    for i in 0:l\n",
    "        @inbounds coeffs[i+1] = fastpow2(low, k-i) * fastpow2(high, i)\n",
    "    end\n",
    "    return coeffs\n",
    "end"
   ]
  },
  {
   "cell_type": "code",
   "execution_count": 19,
   "metadata": {},
   "outputs": [
    {
     "name": "stdout",
     "output_type": "stream",
     "text": [
      "  98.267 ns (1 allocation: 112 bytes)\n",
      "  99.671 ns (1 allocation: 112 bytes)\n",
      "  104.276 ns (1 allocation: 112 bytes)\n",
      "  37.174 ns (1 allocation: 112 bytes)\n",
      "  37.703 ns (1 allocation: 112 bytes)\n",
      "  1.026 μs (18 allocations: 816 bytes)\n"
     ]
    },
    {
     "data": {
      "text/plain": [
       "4-element MArray{Tuple{4},Float64,1,4} with indices SOneTo(4):\n",
       " 1.0\n",
       " 2.0\n",
       " 4.0\n",
       " 8.0"
      ]
     },
     "execution_count": 19,
     "metadata": {},
     "output_type": "execute_result"
    }
   ],
   "source": [
    "@btime uni_1(3, 3, 1.0, 2.0)\n",
    "@btime uni_2(3, 3, 1.0, 2.0) # using Julia's ^, no fastmath\n",
    "@btime uni_3(3, 3, 1.0, 2.0)\n",
    "@btime uni_4(3, 3, 1.0, 2.0) # using Julia's ^ and fastmath << FASTEST\n",
    "@btime uni_6(3, 3, 1.0, 2.0)"
   ]
  },
  {
   "cell_type": "code",
   "execution_count": 20,
   "metadata": {},
   "outputs": [
    {
     "name": "stdout",
     "output_type": "stream",
     "text": [
      "  37.330 ns (1 allocation: 112 bytes)\n",
      "  79.859 ns (1 allocation: 112 bytes)\n",
      "  81.294 ns (1 allocation: 112 bytes)\n",
      "  58.221 ns (1 allocation: 112 bytes)\n"
     ]
    },
    {
     "data": {
      "text/plain": [
       "4-element Array{Float64,1}:\n",
       " 1.0826728343963623\n",
       " 2.1146087646484375\n",
       " 4.229248046875    \n",
       " 8.661382675170898 "
      ]
     },
     "execution_count": 20,
     "metadata": {},
     "output_type": "execute_result"
    }
   ],
   "source": [
    "@btime uni_8(3, 3, 1.0, 2.0) # using fastpow and fastmath \n",
    "@btime uni_9(3, 3, 1.0, 2.0) # using fastpow and NOT fastmath << twice as slow than uni_4, *but* faster than uni_2\n",
    "@btime uni_10(3, 3, 1.0, 2.0)"
   ]
  },
  {
   "cell_type": "code",
   "execution_count": 21,
   "metadata": {},
   "outputs": [],
   "source": [
    "using LoopVectorization"
   ]
  },
  {
   "cell_type": "code",
   "execution_count": 61,
   "metadata": {},
   "outputs": [
    {
     "data": {
      "text/plain": [
       "uni_12 (generic function with 1 method)"
      ]
     },
     "execution_count": 61,
     "metadata": {},
     "output_type": "execute_result"
    }
   ],
   "source": [
    "function uni_12(k::Integer, l::Integer, low::N, high::N) where {N}\n",
    "    coeffs = Vector{N}(undef, l+1)\n",
    "    @fastmath low_k = low^k\n",
    "    α = high / low\n",
    "    αⁱ = 1 # assuming low is not zero\n",
    "    @inbounds for i in 0:l\n",
    "        coeffs[i+1] = low_k * αⁱ\n",
    "        αⁱ = αⁱ * α\n",
    "    end\n",
    "    return coeffs\n",
    "end"
   ]
  },
  {
   "cell_type": "code",
   "execution_count": 62,
   "metadata": {},
   "outputs": [
    {
     "name": "stdout",
     "output_type": "stream",
     "text": [
      "  26.032 ns (1 allocation: 112 bytes)\n"
     ]
    },
    {
     "data": {
      "text/plain": [
       "4-element Array{Float64,1}:\n",
       " 1.0\n",
       " 2.0\n",
       " 4.0\n",
       " 8.0"
      ]
     },
     "execution_count": 62,
     "metadata": {},
     "output_type": "execute_result"
    }
   ],
   "source": [
    "@btime uni_12(3, 3, 1.0, 2.0)"
   ]
  },
  {
   "cell_type": "code",
   "execution_count": 73,
   "metadata": {},
   "outputs": [
    {
     "name": "stdout",
     "output_type": "stream",
     "text": [
      "  31.402 ns (1 allocation: 176 bytes)\n"
     ]
    },
    {
     "data": {
      "text/plain": [
       "11-element Array{Float64,1}:\n",
       "    1.0\n",
       "    2.0\n",
       "    4.0\n",
       "    8.0\n",
       "   16.0\n",
       "   32.0\n",
       "   64.0\n",
       "  128.0\n",
       "  256.0\n",
       "  512.0\n",
       " 1024.0"
      ]
     },
     "execution_count": 73,
     "metadata": {},
     "output_type": "execute_result"
    }
   ],
   "source": [
    "@btime uni_12(10, 10, 1.0, 2.0)"
   ]
  },
  {
   "cell_type": "code",
   "execution_count": 74,
   "metadata": {},
   "outputs": [
    {
     "name": "stdout",
     "output_type": "stream",
     "text": [
      "  72.662 ns (1 allocation: 176 bytes)\n"
     ]
    },
    {
     "data": {
      "text/plain": [
       "11-element Array{Float64,1}:\n",
       "    1.0\n",
       "    2.0\n",
       "    4.0\n",
       "    8.0\n",
       "   16.0\n",
       "   32.0\n",
       "   64.0\n",
       "  128.0\n",
       "  256.0\n",
       "  512.0\n",
       " 1024.0"
      ]
     },
     "execution_count": 74,
     "metadata": {},
     "output_type": "execute_result"
    }
   ],
   "source": [
    "@btime uni_4(10, 10, 1.0, 2.0)"
   ]
  },
  {
   "cell_type": "code",
   "execution_count": 77,
   "metadata": {},
   "outputs": [
    {
     "name": "stdout",
     "output_type": "stream",
     "text": [
      "  33.230 ns (1 allocation: 112 bytes)\n"
     ]
    },
    {
     "data": {
      "text/plain": [
       "3-element Array{Float64,1}:\n",
       " 0.008000000000000002\n",
       " 0.06000000000000001 \n",
       " 0.45                "
      ]
     },
     "execution_count": 77,
     "metadata": {},
     "output_type": "execute_result"
    }
   ],
   "source": [
    "@btime uni_4(3, 2, 0.2, 1.5)"
   ]
  },
  {
   "cell_type": "code",
   "execution_count": 79,
   "metadata": {},
   "outputs": [
    {
     "data": {
      "text/plain": [
       "(x,)"
      ]
     },
     "execution_count": 79,
     "metadata": {},
     "output_type": "execute_result"
    }
   ],
   "source": [
    "using DynamicPolynomials\n",
    "@polyvar x"
   ]
  },
  {
   "cell_type": "code",
   "execution_count": 80,
   "metadata": {},
   "outputs": [
    {
     "data": {
      "text/latex": [
       "$$ x^{3} $$"
      ],
      "text/plain": [
       "x³"
      ]
     },
     "execution_count": 80,
     "metadata": {},
     "output_type": "execute_result"
    }
   ],
   "source": [
    "m = x^3"
   ]
  },
  {
   "cell_type": "code",
   "execution_count": 83,
   "metadata": {},
   "outputs": [
    {
     "name": "stdout",
     "output_type": "stream",
     "text": [
      "  42.444 ns (1 allocation: 112 bytes)\n"
     ]
    },
    {
     "data": {
      "text/plain": [
       "4-element Array{Float64,1}:\n",
       "  0.007999999999999998\n",
       "  0.09999999999999998 \n",
       "  1.25                \n",
       " 15.625               "
      ]
     },
     "execution_count": 83,
     "metadata": {},
     "output_type": "execute_result"
    }
   ],
   "source": [
    "dom = 0.2..2.5\n",
    "\n",
    "@btime univariate($m, 3, $dom)"
   ]
  },
  {
   "cell_type": "code",
   "execution_count": 86,
   "metadata": {},
   "outputs": [
    {
     "name": "stdout",
     "output_type": "stream",
     "text": [
      "  26.088 ns (1 allocation: 112 bytes)\n"
     ]
    },
    {
     "data": {
      "text/plain": [
       "4-element Array{Float64,1}:\n",
       "  0.007999999999999998\n",
       "  0.09999999999999999 \n",
       "  1.2500000000000002  \n",
       " 15.625000000000004   "
      ]
     },
     "execution_count": 86,
     "metadata": {},
     "output_type": "execute_result"
    }
   ],
   "source": [
    "@btime uni_12(3, 3, inf($dom), sup($dom))"
   ]
  },
  {
   "cell_type": "code",
   "execution_count": 92,
   "metadata": {},
   "outputs": [
    {
     "data": {
      "text/latex": [
       "$$ x^{5} - x^{4}y + 1 $$"
      ],
      "text/plain": [
       "x⁵ - x⁴y + 1"
      ]
     },
     "execution_count": 92,
     "metadata": {},
     "output_type": "execute_result"
    }
   ],
   "source": [
    "@polyvar y\n",
    "\n",
    "p = 1 - x^4*y + x^5"
   ]
  },
  {
   "cell_type": "code",
   "execution_count": 93,
   "metadata": {},
   "outputs": [
    {
     "name": "stdout",
     "output_type": "stream",
     "text": [
      "2\n",
      "2\n",
      "2\n"
     ]
    }
   ],
   "source": [
    "for t in terms(p)\n",
    "    println(nvariables(t))\n",
    "end"
   ]
  },
  {
   "cell_type": "code",
   "execution_count": 100,
   "metadata": {},
   "outputs": [
    {
     "data": {
      "text/plain": [
       "2-element Array{Array{Float64,1},1}:\n",
       " [1.0, 2.0, 4.0, 8.0]\n",
       " [1.0, 1.0, 1.0, 1.0]"
      ]
     },
     "execution_count": 100,
     "metadata": {},
     "output_type": "execute_result"
    }
   ],
   "source": [
    "multivariate(terms(p)[1], [3, 3], IntervalBox(1..2, 2))"
   ]
  },
  {
   "cell_type": "code",
   "execution_count": 101,
   "metadata": {},
   "outputs": [
    {
     "data": {
      "text/plain": [
       "4×4 Array{Float64,2}:\n",
       " 1.0  1.0  1.0  1.0\n",
       " 2.0  2.0  2.0  2.0\n",
       " 4.0  4.0  4.0  4.0\n",
       " 8.0  8.0  8.0  8.0"
      ]
     },
     "execution_count": 101,
     "metadata": {},
     "output_type": "execute_result"
    }
   ],
   "source": [
    "BernsteinExpansions.assemble(ans)"
   ]
  },
  {
   "cell_type": "code",
   "execution_count": 134,
   "metadata": {},
   "outputs": [
    {
     "data": {
      "text/plain": [
       "f (generic function with 1 method)"
      ]
     },
     "execution_count": 134,
     "metadata": {},
     "output_type": "execute_result"
    }
   ],
   "source": [
    "using BernsteinExpansions: assemble\n",
    "\n",
    "function f(p)\n",
    "    x = multivariate(terms(p)[1], [5, 5], IntervalBox(1..2, 2))\n",
    "    assemble(x)\n",
    "end"
   ]
  },
  {
   "cell_type": "code",
   "execution_count": 135,
   "metadata": {},
   "outputs": [
    {
     "name": "stdout",
     "output_type": "stream",
     "text": [
      "  444.556 ns (12 allocations: 1.25 KiB)\n"
     ]
    },
    {
     "data": {
      "text/plain": [
       "6×6 Array{Float64,2}:\n",
       "  1.0   1.0   1.0   1.0   1.0   1.0\n",
       "  2.0   2.0   2.0   2.0   2.0   2.0\n",
       "  4.0   4.0   4.0   4.0   4.0   4.0\n",
       "  8.0   8.0   8.0   8.0   8.0   8.0\n",
       " 16.0  16.0  16.0  16.0  16.0  16.0\n",
       " 32.0  32.0  32.0  32.0  32.0  32.0"
      ]
     },
     "execution_count": 135,
     "metadata": {},
     "output_type": "execute_result"
    }
   ],
   "source": [
    "@btime f($p)"
   ]
  },
  {
   "cell_type": "code",
   "execution_count": 136,
   "metadata": {},
   "outputs": [
    {
     "data": {
      "text/latex": [
       "$$ x^{5} $$"
      ],
      "text/plain": [
       "x⁵"
      ]
     },
     "execution_count": 136,
     "metadata": {},
     "output_type": "execute_result"
    }
   ],
   "source": [
    "terms(p)[1]"
   ]
  },
  {
   "cell_type": "code",
   "execution_count": 137,
   "metadata": {},
   "outputs": [
    {
     "data": {
      "text/plain": [
       "2-element Array{Int64,1}:\n",
       " 5\n",
       " 0"
      ]
     },
     "execution_count": 137,
     "metadata": {},
     "output_type": "execute_result"
    }
   ],
   "source": [
    "exponents(ans)"
   ]
  },
  {
   "cell_type": "code",
   "execution_count": 141,
   "metadata": {},
   "outputs": [
    {
     "data": {
      "text/plain": [
       "6-element Array{Float64,1}:\n",
       "  1.0\n",
       "  2.0\n",
       "  4.0\n",
       "  8.0\n",
       " 16.0\n",
       " 32.0"
      ]
     },
     "execution_count": 141,
     "metadata": {},
     "output_type": "execute_result"
    }
   ],
   "source": [
    "a = uni_12(5, 5, 1.0, 2.0)"
   ]
  },
  {
   "cell_type": "code",
   "execution_count": 142,
   "metadata": {},
   "outputs": [
    {
     "data": {
      "text/plain": [
       "6-element Array{Float64,1}:\n",
       "  1.0\n",
       "  2.0\n",
       "  4.0\n",
       "  8.0\n",
       " 16.0\n",
       " 32.0"
      ]
     },
     "execution_count": 142,
     "metadata": {},
     "output_type": "execute_result"
    }
   ],
   "source": [
    "b = uni_12(0, 5, 1.0, 2.0)"
   ]
  },
  {
   "cell_type": "code",
   "execution_count": 132,
   "metadata": {},
   "outputs": [
    {
     "data": {
      "text/plain": [
       "4-element Array{Float64,1}:\n",
       " 1.0\n",
       " 2.0\n",
       " 4.0\n",
       " 8.0"
      ]
     },
     "execution_count": 132,
     "metadata": {},
     "output_type": "execute_result"
    }
   ],
   "source": [
    "uni_2(0, 3, 1.0, 2.0)"
   ]
  },
  {
   "cell_type": "code",
   "execution_count": 140,
   "metadata": {},
   "outputs": [
    {
     "data": {
      "text/plain": [
       "6-element Array{Float64,1}:\n",
       "  1.0\n",
       "  2.0\n",
       "  4.0\n",
       "  8.0\n",
       " 16.0\n",
       " 32.0"
      ]
     },
     "execution_count": 140,
     "metadata": {},
     "output_type": "execute_result"
    }
   ],
   "source": [
    "univariate(x^5, 5, 1..2)"
   ]
  },
  {
   "cell_type": "code",
   "execution_count": 133,
   "metadata": {},
   "outputs": [
    {
     "data": {
      "text/plain": [
       "1-element Array{Int64,1}:\n",
       " 0"
      ]
     },
     "execution_count": 133,
     "metadata": {},
     "output_type": "execute_result"
    }
   ],
   "source": [
    "exponents(x^0)"
   ]
  },
  {
   "cell_type": "code",
   "execution_count": 124,
   "metadata": {},
   "outputs": [
    {
     "data": {
      "text/plain": [
       "2-element Array{Array{Float64,1},1}:\n",
       " [1.0, 2.0, 4.0, 8.0]\n",
       " [1.0, 1.0, 1.0, 1.0]"
      ]
     },
     "execution_count": 124,
     "metadata": {},
     "output_type": "execute_result"
    }
   ],
   "source": [
    "multivariate(terms(p)[1], [3, 3], IntervalBox(1..2, 2))"
   ]
  },
  {
   "cell_type": "markdown",
   "metadata": {},
   "source": [
    "## Test"
   ]
  },
  {
   "cell_type": "code",
   "execution_count": 2,
   "metadata": {},
   "outputs": [
    {
     "name": "stderr",
     "output_type": "stream",
     "text": [
      "┌ Info: Precompiling BernsteinExpansions [afc6e731-2783-597c-a3b4-470ee96642a0]\n",
      "└ @ Base loading.jl:1273\n"
     ]
    }
   ],
   "source": [
    "using Revise, BernsteinExpansions, DynamicPolynomials, BenchmarkTools, StaticArrays, Test"
   ]
  },
  {
   "cell_type": "code",
   "execution_count": 3,
   "metadata": {},
   "outputs": [
    {
     "data": {
      "text/latex": [
       "$$ x^{3} $$"
      ],
      "text/plain": [
       "x³"
      ]
     },
     "execution_count": 3,
     "metadata": {},
     "output_type": "execute_result"
    }
   ],
   "source": [
    "@polyvar x\n",
    "m = x^3"
   ]
  },
  {
   "cell_type": "code",
   "execution_count": 6,
   "metadata": {},
   "outputs": [
    {
     "name": "stdout",
     "output_type": "stream",
     "text": [
      "  43.479 ns (1 allocation: 112 bytes)\n"
     ]
    },
    {
     "data": {
      "text/plain": [
       "4-element Array{Float64,1}:\n",
       " 1.0\n",
       " 2.0\n",
       " 4.0\n",
       " 8.0"
      ]
     },
     "execution_count": 6,
     "metadata": {},
     "output_type": "execute_result"
    }
   ],
   "source": [
    "@btime univariate($m, 3, 1..2)"
   ]
  },
  {
   "cell_type": "code",
   "execution_count": 8,
   "metadata": {},
   "outputs": [
    {
     "name": "stdout",
     "output_type": "stream",
     "text": [
      "  39.891 ns (1 allocation: 112 bytes)\n"
     ]
    },
    {
     "data": {
      "text/plain": [
       "3-element Array{Float64,1}:\n",
       " 0.0\n",
       " 0.0\n",
       " 0.0"
      ]
     },
     "execution_count": 8,
     "metadata": {},
     "output_type": "execute_result"
    }
   ],
   "source": [
    "m = x^5\n",
    "@btime univariate($m, 2, 0..1)"
   ]
  },
  {
   "cell_type": "code",
   "execution_count": 13,
   "metadata": {},
   "outputs": [
    {
     "name": "stdout",
     "output_type": "stream",
     "text": [
      "  105.720 ns (4 allocations: 336 bytes)\n"
     ]
    },
    {
     "data": {
      "text/plain": [
       "3-element Array{Float64,1}:\n",
       "  0.0\n",
       "  0.0\n",
       " 16.0"
      ]
     },
     "execution_count": 13,
     "metadata": {},
     "output_type": "execute_result"
    }
   ],
   "source": [
    "@btime univariate(x^2, 2, 0..4)"
   ]
  },
  {
   "cell_type": "code",
   "execution_count": 28,
   "metadata": {},
   "outputs": [],
   "source": [
    "coeffs = Vector{Float64}(undef, 4)\n",
    "using BernsteinExpansions: _univariate!"
   ]
  },
  {
   "cell_type": "code",
   "execution_count": 29,
   "metadata": {},
   "outputs": [
    {
     "name": "stdout",
     "output_type": "stream",
     "text": [
      "  21.285 ns (0 allocations: 0 bytes)\n",
      "  63.144 ns (0 allocations: 0 bytes)\n",
      "  87.559 ns (0 allocations: 0 bytes)\n"
     ]
    },
    {
     "data": {
      "text/plain": [
       "4-element Array{Float64,1}:\n",
       "  1.0\n",
       "  4.0\n",
       " 16.0\n",
       " 64.0"
      ]
     },
     "execution_count": 29,
     "metadata": {},
     "output_type": "execute_result"
    }
   ],
   "source": [
    "@btime _univariate!($coeffs, 4, 3, 1.0, 4.0, Val(:fastmath))\n",
    "@btime _univariate!($coeffs, 4, 3, 1.0, 4.0, Val(:fastpow))\n",
    "@btime _univariate!($coeffs, 4, 3, 1.0, 4.0, Val(:base))"
   ]
  },
  {
   "cell_type": "code",
   "execution_count": 26,
   "metadata": {},
   "outputs": [
    {
     "name": "stdout",
     "output_type": "stream",
     "text": [
      "  43.859 ns (1 allocation: 112 bytes)\n"
     ]
    },
    {
     "data": {
      "text/plain": [
       "4-element Array{Float64,1}:\n",
       "  1.0\n",
       "  4.0\n",
       " 16.0\n",
       " 64.0"
      ]
     },
     "execution_count": 26,
     "metadata": {},
     "output_type": "execute_result"
    }
   ],
   "source": [
    "m = x^4\n",
    "@btime univariate($m, 3, 1..4)"
   ]
  },
  {
   "cell_type": "code",
   "execution_count": 27,
   "metadata": {},
   "outputs": [
    {
     "data": {
      "text/plain": [
       "4-element Array{Float64,1}:\n",
       "  1.0\n",
       "  4.0\n",
       " 16.0\n",
       " 64.0"
      ]
     },
     "execution_count": 27,
     "metadata": {},
     "output_type": "execute_result"
    }
   ],
   "source": [
    "univariate(x^4, 3, 1..4)"
   ]
  },
  {
   "cell_type": "code",
   "execution_count": 31,
   "metadata": {},
   "outputs": [
    {
     "data": {
      "text/html": [
       "^(x::<b>Float64</b>, y::<b>Integer</b>) in Base.Math at <a href=\"https://github.com/JuliaLang/julia/tree/2d5741174ce3e6a394010d2e470e4269ca54607f/base/math.jl#L860\" target=\"_blank\">math.jl:860</a>"
      ],
      "text/plain": [
       "^(x::Float64, y::Integer) in Base.Math at math.jl:860"
      ]
     },
     "execution_count": 31,
     "metadata": {},
     "output_type": "execute_result"
    }
   ],
   "source": [
    "@which 2.0^4"
   ]
  },
  {
   "cell_type": "code",
   "execution_count": null,
   "metadata": {},
   "outputs": [],
   "source": []
  }
 ],
 "metadata": {
  "kernelspec": {
   "display_name": "Julia 1.3.1",
   "language": "julia",
   "name": "julia-1.3"
  },
  "language_info": {
   "file_extension": ".jl",
   "mimetype": "application/julia",
   "name": "julia",
   "version": "1.3.1"
  }
 },
 "nbformat": 4,
 "nbformat_minor": 2
}
