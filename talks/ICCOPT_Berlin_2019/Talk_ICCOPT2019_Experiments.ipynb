{
 "cells": [
  {
   "cell_type": "markdown",
   "metadata": {},
   "source": [
    "## Dependencies"
   ]
  },
  {
   "cell_type": "code",
   "execution_count": 1,
   "metadata": {},
   "outputs": [
    {
     "name": "stderr",
     "output_type": "stream",
     "text": [
      "┌ Warning: \n",
      "│ \n",
      "│     # Breaking changes\n",
      "│ \n",
      "│     `TaylorIntegration.jl` follows now (≥ v0.5.0) the convention\n",
      "│     of `DifferentialEquations.jl` for the function containing\n",
      "│     the differential equation to be integrated. The function\n",
      "│     must have the form `f(x, p, t)` for one dependent variable,\n",
      "│     or `f!(dx, x, p, t)` for several dependent variables, where\n",
      "│     `dx` is mutated.\n",
      "│ \n",
      "└ @ TaylorIntegration /Users/forets/.julia/dev/TaylorIntegration/src/TaylorIntegration.jl:21\n",
      "┌ Info: Recompiling stale cache file /Users/forets/.julia/compiled/v1.1/Reachability/CHV4V.ji for Reachability [774a0091-654f-5c65-bbdc-ad5b67b45832]\n",
      "└ @ Base loading.jl:1184\n",
      "WARNING: using TaylorSeries.update! in module ReachSets conflicts with an existing identifier.\n",
      "┌ Warning: \n",
      "│ \n",
      "│     # Breaking changes\n",
      "│ \n",
      "│     `TaylorIntegration.jl` follows now (≥ v0.5.0) the convention\n",
      "│     of `DifferentialEquations.jl` for the function containing\n",
      "│     the differential equation to be integrated. The function\n",
      "│     must have the form `f(x, p, t)` for one dependent variable,\n",
      "│     or `f!(dx, x, p, t)` for several dependent variables, where\n",
      "│     `dx` is mutated.\n",
      "│ \n",
      "└ @ TaylorIntegration ~/.julia/dev/TaylorIntegration/src/TaylorIntegration.jl:21\n"
     ]
    }
   ],
   "source": [
    "include(\"XFZ18.jl\")\n",
    "using Plots"
   ]
  },
  {
   "cell_type": "markdown",
   "metadata": {},
   "source": [
    "## Experiment 1: Van der Pol, μ = 0.2"
   ]
  },
  {
   "cell_type": "code",
   "execution_count": 2,
   "metadata": {},
   "outputs": [
    {
     "data": {
      "text/plain": [
       "PolynomialContinuousSystem{Float64,Polynomial{true,Float64},Array{Polynomial{true,Float64},1}}(Polynomial{true,Float64}[x₂, -0.2x₁²x₂ - 0.2x₁ + x₂], 2)"
      ]
     },
     "execution_count": 2,
     "metadata": {},
     "output_type": "execute_result"
    }
   ],
   "source": [
    "@polyvar x₁ x₂  x\\_3  t\n",
    "\n",
    "# XFZ18\n",
    "f = [x₂, -0.2*x₁ + x₂ - 0.2*x₁^2*x₂, x₂^2 - x_3]\n",
    "S = PolynomialContinuousSystem(f, 2)"
   ]
  },
  {
   "cell_type": "code",
   "execution_count": 38,
   "metadata": {},
   "outputs": [
    {
     "data": {
      "text/plain": [
       "Options(Dict{Symbol,Any}(:T=>2.0,:verbose=>false,:V0=>x₁² + x₂² - 0.25,:solver=>Optimizer,:domain=>BasicSemialgebraicSet{Float64,Polynomial{true,Float64},AlgebraicSet{Float64,Polynomial{true,Float64},Buchberger,SolverUsingMultiplicationMatrices{GröbnerBasisMultiplicationMatricesAlgorithm,ReorderedSchurMultiplicationMatricesSolver{Int64,MersenneTwister}}}}(Algebraic Set defined by no equality\n",
       ", Polynomial{true,Float64}[-x₁² - x₂² + 25.0]),:g=>-x₁² - x₂² + 25,:t=>t,:relaxation_degree=>12))"
      ]
     },
     "execution_count": 38,
     "metadata": {},
     "output_type": "execute_result"
    }
   ],
   "source": [
    "q = 5\n",
    "g = q^2 - x₁^2 - x₂^2 # Y = {x: g(x) >= 0} compact search space Y x [0, T]\n",
    "\n",
    "opts = Options(:T => 2.0, :relaxation_degree => 12,\n",
    "               :solver=>MosekTools.Mosek.Optimizer,\n",
    "               :V0 => x₁^2 + x₂^2 - 0.25, # X0 = {x: V0(x) <= 0}\n",
    "               :g => g, # Y = {x: g(x) >= 0} compact search space Y x [0, T]\n",
    "               :t => t,\n",
    "               :verbose => false,\n",
    "               :domain => (@set g >= 0))"
   ]
  },
  {
   "cell_type": "markdown",
   "metadata": {},
   "source": [
    "### Computing $\\Phi(x, t)$"
   ]
  },
  {
   "cell_type": "code",
   "execution_count": 39,
   "metadata": {},
   "outputs": [
    {
     "name": "stdout",
     "output_type": "stream",
     "text": [
      "JuMP.termination_status(model) = SLOW_PROGRESS\n",
      "JuMP.primal_status(model) = FEASIBLE_POINT\n",
      "JuMP.dual_status(model) = FEASIBLE_POINT\n",
      "JuMP.objective_bound(model) = 0.0\n",
      "JuMP.objective_value(model) = 0.07207466360246793\n"
     ]
    },
    {
     "data": {
      "text/plain": [
       "5.824086904525757"
      ]
     },
     "execution_count": 39,
     "metadata": {},
     "output_type": "execute_result"
    }
   ],
   "source": [
    "model = build_sos(S, opts);\n",
    "solve!(model, true)\n",
    "MOI.get(model, MOI.SolveTime())"
   ]
  },
  {
   "cell_type": "code",
   "execution_count": null,
   "metadata": {},
   "outputs": [],
   "source": [
    "#Φ = JuMP.value(model[:Φ]);\n",
    "# p1 = subs(Φ[1], x₂=>0, t=>0)+1;\n",
    "#variables(Φ)"
   ]
  },
  {
   "cell_type": "markdown",
   "metadata": {},
   "source": [
    "### Extracting the approximations"
   ]
  },
  {
   "cell_type": "code",
   "execution_count": 40,
   "metadata": {},
   "outputs": [],
   "source": [
    "Φ = JuMP.value(model[:Φ]);\n",
    "F = extract(model, opts);"
   ]
  },
  {
   "cell_type": "code",
   "execution_count": null,
   "metadata": {},
   "outputs": [],
   "source": [
    "Φ"
   ]
  },
  {
   "cell_type": "code",
   "execution_count": 41,
   "metadata": {},
   "outputs": [],
   "source": [
    "#F.over"
   ]
  },
  {
   "cell_type": "code",
   "execution_count": 42,
   "metadata": {
    "scrolled": true
   },
   "outputs": [],
   "source": [
    "using ImplicitPlots, Makie"
   ]
  },
  {
   "cell_type": "code",
   "execution_count": 43,
   "metadata": {},
   "outputs": [],
   "source": [
    "Iplot = ImplicitPlots.plot(F.over, x_min=-10, x_max=10);"
   ]
  },
  {
   "cell_type": "code",
   "execution_count": 44,
   "metadata": {},
   "outputs": [
    {
     "data": {
      "text/plain": [
       "GLMakie.Screen(...)"
      ]
     },
     "execution_count": 44,
     "metadata": {},
     "output_type": "execute_result"
    }
   ],
   "source": [
    "display(ImplicitPlots.plot!(Iplot, F.under, x_min=-10, x_max=10))"
   ]
  },
  {
   "cell_type": "code",
   "execution_count": 26,
   "metadata": {},
   "outputs": [
    {
     "data": {
      "text/plain": [
       "GLMakie.Screen(...)"
      ]
     },
     "execution_count": 26,
     "metadata": {},
     "output_type": "execute_result"
    }
   ],
   "source": [
    "display(ImplicitPlots.plot(x₁^2 +x₂^2 - 1 ))"
   ]
  },
  {
   "cell_type": "code",
   "execution_count": 46,
   "metadata": {},
   "outputs": [
    {
     "data": {
      "text/plain": [
       "12"
      ]
     },
     "execution_count": 46,
     "metadata": {},
     "output_type": "execute_result"
    }
   ],
   "source": [
    "maxdegree(F.over)"
   ]
  },
  {
   "cell_type": "code",
   "execution_count": null,
   "metadata": {},
   "outputs": [],
   "source": [
    "d = [1.0, 0.0]\n",
    "variables(dot(d, variables(F.over)))"
   ]
  },
  {
   "cell_type": "code",
   "execution_count": null,
   "metadata": {},
   "outputs": [],
   "source": [
    "ρ_sublevel(F.over, [1.0, 0.0], opts)"
   ]
  },
  {
   "cell_type": "markdown",
   "metadata": {},
   "source": [
    "### Real roots of the under and over approx"
   ]
  },
  {
   "cell_type": "code",
   "execution_count": 17,
   "metadata": {},
   "outputs": [
    {
     "name": "stdout",
     "output_type": "stream",
     "text": [
      "  0.620614 seconds (645.78 k allocations: 72.771 MiB, 8.37% gc time)\n",
      "number of solutions = 288\n"
     ]
    }
   ],
   "source": [
    "# preallocate output\n",
    "sol_vec = Vector{Vector{Float64}}()\n",
    "x₂_max = 4.0\n",
    "Δ = 0.02\n",
    "@time rroots_2d!(sol_vec, F.under, x₂_max, Δ);\n",
    "println(\"number of solutions = \", length(sol_vec))"
   ]
  },
  {
   "cell_type": "code",
   "execution_count": 20,
   "metadata": {},
   "outputs": [
    {
     "data": {
      "text/plain": [
       "2-element Array{Float64,1}:\n",
       " 8.113362381128322\n",
       " 4.0              "
      ]
     },
     "execution_count": 20,
     "metadata": {},
     "output_type": "execute_result"
    }
   ],
   "source": [
    "first(sol_vec)"
   ]
  },
  {
   "cell_type": "code",
   "execution_count": 19,
   "metadata": {},
   "outputs": [
    {
     "data": {
      "image/svg+xml": [
       "<?xml version=\"1.0\" encoding=\"utf-8\"?>\n",
       "<svg xmlns=\"http://www.w3.org/2000/svg\" xmlns:xlink=\"http://www.w3.org/1999/xlink\" width=\"600\" height=\"400\" viewBox=\"0 0 2400 1600\">\n",
       "<defs>\n",
       "  <clipPath id=\"clip9200\">\n",
       "    <rect x=\"0\" y=\"0\" width=\"2400\" height=\"1600\"/>\n",
       "  </clipPath>\n",
       "</defs>\n",
       "<polygon clip-path=\"url(#clip9200)\" points=\"\n",
       "0,1600 2400,1600 2400,0 0,0 \n",
       "  \" fill=\"#ffffff\" fill-rule=\"evenodd\" fill-opacity=\"1\"/>\n",
       "<defs>\n",
       "  <clipPath id=\"clip9201\">\n",
       "    <rect x=\"480\" y=\"0\" width=\"1681\" height=\"1600\"/>\n",
       "  </clipPath>\n",
       "</defs>\n",
       "<polygon clip-path=\"url(#clip9200)\" points=\"\n",
       "149.361,1503.47 2321.26,1503.47 2321.26,125.984 149.361,125.984 \n",
       "  \" fill=\"#ffffff\" fill-rule=\"evenodd\" fill-opacity=\"1\"/>\n",
       "<defs>\n",
       "  <clipPath id=\"clip9202\">\n",
       "    <rect x=\"149\" y=\"125\" width=\"2173\" height=\"1378\"/>\n",
       "  </clipPath>\n",
       "</defs>\n",
       "<polyline clip-path=\"url(#clip9202)\" style=\"stroke:#000000; stroke-width:2; stroke-opacity:0.1; fill:none\" points=\"\n",
       "  149.361,1503.47 149.361,125.984 \n",
       "  \"/>\n",
       "<polyline clip-path=\"url(#clip9202)\" style=\"stroke:#000000; stroke-width:2; stroke-opacity:0.1; fill:none\" points=\"\n",
       "  692.335,1503.47 692.335,125.984 \n",
       "  \"/>\n",
       "<polyline clip-path=\"url(#clip9202)\" style=\"stroke:#000000; stroke-width:2; stroke-opacity:0.1; fill:none\" points=\"\n",
       "  1235.31,1503.47 1235.31,125.984 \n",
       "  \"/>\n",
       "<polyline clip-path=\"url(#clip9202)\" style=\"stroke:#000000; stroke-width:2; stroke-opacity:0.1; fill:none\" points=\"\n",
       "  1778.29,1503.47 1778.29,125.984 \n",
       "  \"/>\n",
       "<polyline clip-path=\"url(#clip9202)\" style=\"stroke:#000000; stroke-width:2; stroke-opacity:0.1; fill:none\" points=\"\n",
       "  2321.26,1503.47 2321.26,125.984 \n",
       "  \"/>\n",
       "<polyline clip-path=\"url(#clip9202)\" style=\"stroke:#000000; stroke-width:2; stroke-opacity:0.1; fill:none\" points=\"\n",
       "  149.361,1405.08 2321.26,1405.08 \n",
       "  \"/>\n",
       "<polyline clip-path=\"url(#clip9202)\" style=\"stroke:#000000; stroke-width:2; stroke-opacity:0.1; fill:none\" points=\"\n",
       "  149.361,1208.3 2321.26,1208.3 \n",
       "  \"/>\n",
       "<polyline clip-path=\"url(#clip9202)\" style=\"stroke:#000000; stroke-width:2; stroke-opacity:0.1; fill:none\" points=\"\n",
       "  149.361,1011.51 2321.26,1011.51 \n",
       "  \"/>\n",
       "<polyline clip-path=\"url(#clip9202)\" style=\"stroke:#000000; stroke-width:2; stroke-opacity:0.1; fill:none\" points=\"\n",
       "  149.361,814.729 2321.26,814.729 \n",
       "  \"/>\n",
       "<polyline clip-path=\"url(#clip9202)\" style=\"stroke:#000000; stroke-width:2; stroke-opacity:0.1; fill:none\" points=\"\n",
       "  149.361,617.945 2321.26,617.945 \n",
       "  \"/>\n",
       "<polyline clip-path=\"url(#clip9202)\" style=\"stroke:#000000; stroke-width:2; stroke-opacity:0.1; fill:none\" points=\"\n",
       "  149.361,421.161 2321.26,421.161 \n",
       "  \"/>\n",
       "<polyline clip-path=\"url(#clip9202)\" style=\"stroke:#000000; stroke-width:2; stroke-opacity:0.1; fill:none\" points=\"\n",
       "  149.361,224.376 2321.26,224.376 \n",
       "  \"/>\n",
       "<polyline clip-path=\"url(#clip9200)\" style=\"stroke:#000000; stroke-width:4; stroke-opacity:1; fill:none\" points=\"\n",
       "  149.361,1503.47 2321.26,1503.47 \n",
       "  \"/>\n",
       "<polyline clip-path=\"url(#clip9200)\" style=\"stroke:#000000; stroke-width:4; stroke-opacity:1; fill:none\" points=\"\n",
       "  149.361,1503.47 149.361,125.984 \n",
       "  \"/>\n",
       "<polyline clip-path=\"url(#clip9200)\" style=\"stroke:#000000; stroke-width:4; stroke-opacity:1; fill:none\" points=\"\n",
       "  149.361,1503.47 149.361,1482.81 \n",
       "  \"/>\n",
       "<polyline clip-path=\"url(#clip9200)\" style=\"stroke:#000000; stroke-width:4; stroke-opacity:1; fill:none\" points=\"\n",
       "  692.335,1503.47 692.335,1482.81 \n",
       "  \"/>\n",
       "<polyline clip-path=\"url(#clip9200)\" style=\"stroke:#000000; stroke-width:4; stroke-opacity:1; fill:none\" points=\"\n",
       "  1235.31,1503.47 1235.31,1482.81 \n",
       "  \"/>\n",
       "<polyline clip-path=\"url(#clip9200)\" style=\"stroke:#000000; stroke-width:4; stroke-opacity:1; fill:none\" points=\"\n",
       "  1778.29,1503.47 1778.29,1482.81 \n",
       "  \"/>\n",
       "<polyline clip-path=\"url(#clip9200)\" style=\"stroke:#000000; stroke-width:4; stroke-opacity:1; fill:none\" points=\"\n",
       "  2321.26,1503.47 2321.26,1482.81 \n",
       "  \"/>\n",
       "<polyline clip-path=\"url(#clip9200)\" style=\"stroke:#000000; stroke-width:4; stroke-opacity:1; fill:none\" points=\"\n",
       "  149.361,1405.08 181.939,1405.08 \n",
       "  \"/>\n",
       "<polyline clip-path=\"url(#clip9200)\" style=\"stroke:#000000; stroke-width:4; stroke-opacity:1; fill:none\" points=\"\n",
       "  149.361,1208.3 181.939,1208.3 \n",
       "  \"/>\n",
       "<polyline clip-path=\"url(#clip9200)\" style=\"stroke:#000000; stroke-width:4; stroke-opacity:1; fill:none\" points=\"\n",
       "  149.361,1011.51 181.939,1011.51 \n",
       "  \"/>\n",
       "<polyline clip-path=\"url(#clip9200)\" style=\"stroke:#000000; stroke-width:4; stroke-opacity:1; fill:none\" points=\"\n",
       "  149.361,814.729 181.939,814.729 \n",
       "  \"/>\n",
       "<polyline clip-path=\"url(#clip9200)\" style=\"stroke:#000000; stroke-width:4; stroke-opacity:1; fill:none\" points=\"\n",
       "  149.361,617.945 181.939,617.945 \n",
       "  \"/>\n",
       "<polyline clip-path=\"url(#clip9200)\" style=\"stroke:#000000; stroke-width:4; stroke-opacity:1; fill:none\" points=\"\n",
       "  149.361,421.161 181.939,421.161 \n",
       "  \"/>\n",
       "<polyline clip-path=\"url(#clip9200)\" style=\"stroke:#000000; stroke-width:4; stroke-opacity:1; fill:none\" points=\"\n",
       "  149.361,224.376 181.939,224.376 \n",
       "  \"/>\n",
       "<g clip-path=\"url(#clip9200)\">\n",
       "<text style=\"fill:#000000; fill-opacity:1; font-family:Arial,Helvetica Neue,Helvetica,sans-serif; font-size:48px; text-anchor:middle;\" transform=\"rotate(0, 149.361, 1557.47)\" x=\"149.361\" y=\"1557.47\">-4</text>\n",
       "</g>\n",
       "<g clip-path=\"url(#clip9200)\">\n",
       "<text style=\"fill:#000000; fill-opacity:1; font-family:Arial,Helvetica Neue,Helvetica,sans-serif; font-size:48px; text-anchor:middle;\" transform=\"rotate(0, 692.335, 1557.47)\" x=\"692.335\" y=\"1557.47\">-2</text>\n",
       "</g>\n",
       "<g clip-path=\"url(#clip9200)\">\n",
       "<text style=\"fill:#000000; fill-opacity:1; font-family:Arial,Helvetica Neue,Helvetica,sans-serif; font-size:48px; text-anchor:middle;\" transform=\"rotate(0, 1235.31, 1557.47)\" x=\"1235.31\" y=\"1557.47\">0</text>\n",
       "</g>\n",
       "<g clip-path=\"url(#clip9200)\">\n",
       "<text style=\"fill:#000000; fill-opacity:1; font-family:Arial,Helvetica Neue,Helvetica,sans-serif; font-size:48px; text-anchor:middle;\" transform=\"rotate(0, 1778.29, 1557.47)\" x=\"1778.29\" y=\"1557.47\">2</text>\n",
       "</g>\n",
       "<g clip-path=\"url(#clip9200)\">\n",
       "<text style=\"fill:#000000; fill-opacity:1; font-family:Arial,Helvetica Neue,Helvetica,sans-serif; font-size:48px; text-anchor:middle;\" transform=\"rotate(0, 2321.26, 1557.47)\" x=\"2321.26\" y=\"1557.47\">4</text>\n",
       "</g>\n",
       "<g clip-path=\"url(#clip9200)\">\n",
       "<text style=\"fill:#000000; fill-opacity:1; font-family:Arial,Helvetica Neue,Helvetica,sans-serif; font-size:48px; text-anchor:end;\" transform=\"rotate(0, 125.361, 1422.58)\" x=\"125.361\" y=\"1422.58\">-3</text>\n",
       "</g>\n",
       "<g clip-path=\"url(#clip9200)\">\n",
       "<text style=\"fill:#000000; fill-opacity:1; font-family:Arial,Helvetica Neue,Helvetica,sans-serif; font-size:48px; text-anchor:end;\" transform=\"rotate(0, 125.361, 1225.8)\" x=\"125.361\" y=\"1225.8\">-2</text>\n",
       "</g>\n",
       "<g clip-path=\"url(#clip9200)\">\n",
       "<text style=\"fill:#000000; fill-opacity:1; font-family:Arial,Helvetica Neue,Helvetica,sans-serif; font-size:48px; text-anchor:end;\" transform=\"rotate(0, 125.361, 1029.01)\" x=\"125.361\" y=\"1029.01\">-1</text>\n",
       "</g>\n",
       "<g clip-path=\"url(#clip9200)\">\n",
       "<text style=\"fill:#000000; fill-opacity:1; font-family:Arial,Helvetica Neue,Helvetica,sans-serif; font-size:48px; text-anchor:end;\" transform=\"rotate(0, 125.361, 832.229)\" x=\"125.361\" y=\"832.229\">0</text>\n",
       "</g>\n",
       "<g clip-path=\"url(#clip9200)\">\n",
       "<text style=\"fill:#000000; fill-opacity:1; font-family:Arial,Helvetica Neue,Helvetica,sans-serif; font-size:48px; text-anchor:end;\" transform=\"rotate(0, 125.361, 635.445)\" x=\"125.361\" y=\"635.445\">1</text>\n",
       "</g>\n",
       "<g clip-path=\"url(#clip9200)\">\n",
       "<text style=\"fill:#000000; fill-opacity:1; font-family:Arial,Helvetica Neue,Helvetica,sans-serif; font-size:48px; text-anchor:end;\" transform=\"rotate(0, 125.361, 438.661)\" x=\"125.361\" y=\"438.661\">2</text>\n",
       "</g>\n",
       "<g clip-path=\"url(#clip9200)\">\n",
       "<text style=\"fill:#000000; fill-opacity:1; font-family:Arial,Helvetica Neue,Helvetica,sans-serif; font-size:48px; text-anchor:end;\" transform=\"rotate(0, 125.361, 241.876)\" x=\"125.361\" y=\"241.876\">3</text>\n",
       "</g>\n",
       "<g clip-path=\"url(#clip9200)\">\n",
       "<text style=\"fill:#000000; fill-opacity:1; font-family:Arial,Helvetica Neue,Helvetica,sans-serif; font-size:84px; text-anchor:middle;\" transform=\"rotate(0, 1235.31, 73.2)\" x=\"1235.31\" y=\"73.2\">under approx.</text>\n",
       "</g>\n",
       "</svg>\n"
      ]
     },
     "execution_count": 19,
     "metadata": {},
     "output_type": "execute_result"
    }
   ],
   "source": [
    "Plots.plot([Singleton(si) for si in sol_vec], color=:green, marker=:square, title=\"under approx.\",\n",
    "            xlims=(-4,4), ylims=(-3.5,3.5))"
   ]
  },
  {
   "cell_type": "code",
   "execution_count": null,
   "metadata": {},
   "outputs": [],
   "source": [
    "# preallocate output\n",
    "sol_vec = Vector{Vector{Float64}}()\n",
    "#x₂_max = 3.0\n",
    "#Δ = 0.1\n",
    "@time rroots_2d!(sol_vec, F.over, x₂_max, Δ);\n",
    "println(\"number of solutions = \", length(sol_vec))"
   ]
  },
  {
   "cell_type": "code",
   "execution_count": null,
   "metadata": {},
   "outputs": [],
   "source": [
    "plot!([Singleton(si) for si in sol_vec], color=:blue, marker=:cross, title=\"over approx.\")"
   ]
  },
  {
   "cell_type": "code",
   "execution_count": null,
   "metadata": {},
   "outputs": [],
   "source": [
    "B0 = BallInf([0.0, 0.0], 0.5)\n",
    "B2 = BallInf([5.0, 0.0], 0.5)\n",
    "#plot!([B0, B2], color=:red)"
   ]
  },
  {
   "cell_type": "code",
   "execution_count": null,
   "metadata": {},
   "outputs": [],
   "source": [
    "[subs(F.over, (x₁, x₂) => vi) for vi in vertices_list(B0)]"
   ]
  },
  {
   "cell_type": "code",
   "execution_count": null,
   "metadata": {},
   "outputs": [],
   "source": [
    "using IntervalConstraintProgramming"
   ]
  },
  {
   "cell_type": "code",
   "execution_count": null,
   "metadata": {},
   "outputs": [],
   "source": [
    "#_F(x, y) = subs(F.over, x^2 + y^2 - 1 < 0\n",
    "S = Separator(variables(F.over), F.over((x₁, x₂)) < 0);\n",
    "D = IntervalBox(-2..2, 2)\n",
    "pa = pave(S, D, 0.05);"
   ]
  },
  {
   "cell_type": "markdown",
   "metadata": {},
   "source": [
    "## Experiment 2: Van der Pol, μ = 1.0"
   ]
  },
  {
   "cell_type": "code",
   "execution_count": null,
   "metadata": {},
   "outputs": [],
   "source": [
    "@polyvar x₁ x₂ t\n",
    "\n",
    "# ARCH-COMP\n",
    "const μ = 1.0\n",
    "f =  [x₂, μ*(1-x₁^2)*x₂ - x₁] \n",
    "S = PolynomialContinuousSystem(f, 2)"
   ]
  },
  {
   "cell_type": "code",
   "execution_count": null,
   "metadata": {},
   "outputs": [],
   "source": [
    "H0 = Hyperrectangle(low=[1.25, 2.35], high=[1.55, 2.45]) # initial set from ARCHCOMP\n",
    "\n",
    "#X0 = Hyperrectangle(low=[0.6, 1.0], high=[0.8, 1.1]) # \n",
    "\n",
    "#X0 = Hyperrectangle(low=[-0.5, -0.5], high=[0.5, 0.5]) # set from XFZ18\n",
    "\n",
    "plot(X0, color=:red, alpha=.5)\n",
    "\n",
    "Bc = LazySets.center(X0)\n",
    "Br = norm(LazySets.radius_hyperrectangle(X0))\n",
    "B0 = Ball2(Bc, Br)\n",
    "plot!(B0, 1e-4, alpha=.2, ratio=1., color=:blue)"
   ]
  },
  {
   "cell_type": "code",
   "execution_count": null,
   "metadata": {},
   "outputs": [],
   "source": [
    "#g = 6 - x₁^2 - x₂^2 # Y = {x: g(x) >= 0} compact search space Y x [0, T]\n",
    "q = 5.0\n",
    "\n",
    "# centered around initial condition\n",
    "#g = (B0.radius+q)^2 - (x₁-B0.center[1])^2 - (x₂-B0.center[2])^2 # Y = {x: g(x) >= 0} compact search space Y x [0, T]\n",
    "\n",
    "# centered around origin\n",
    "g = q^2 - x₁^2 - x₂^2 # Y = {x: g(x) >= 0} compact search space Y x [0, T]\n",
    "\n",
    "η = 1.0 # re-scale B0?\n",
    "opts = Options(:T => 7.0, :relaxation_degree => 6,\n",
    "               :solver=>MosekTools.Mosek.Optimizer,\n",
    "               :V0 => (x₁-B0.center[1])^2 + (x₂-B0.center[2])^2 - B0.radius^2*η^2, # X0 = {x: V0(x) <= 0}\n",
    "               :g => g, # Y = {x: g(x) >= 0} compact search space Y x [0, T]\n",
    "               :t => t,\n",
    "               :verbose => false,\n",
    "               :domain => (@set g >= 0))"
   ]
  },
  {
   "cell_type": "code",
   "execution_count": null,
   "metadata": {},
   "outputs": [],
   "source": [
    "model = build_sos(S, opts);\n",
    "solve!(model, true)\n",
    "MOI.get(model, MOI.SolveTime())"
   ]
  },
  {
   "cell_type": "code",
   "execution_count": null,
   "metadata": {},
   "outputs": [],
   "source": [
    "F = extract(model, opts);"
   ]
  },
  {
   "cell_type": "code",
   "execution_count": null,
   "metadata": {},
   "outputs": [],
   "source": [
    "# preallocate output\n",
    "sol_vec = Vector{Vector{Float64}}()\n",
    "x₂_max = 5.0\n",
    "Δ = 0.2\n",
    "@time rroots_2d!(sol_vec, F.under, x₂_max, Δ);\n",
    "println(\"number of solutions = \", length(sol_vec))"
   ]
  },
  {
   "cell_type": "code",
   "execution_count": null,
   "metadata": {},
   "outputs": [],
   "source": [
    "plot([Singleton(si) for si in sol_vec], color=:green, marker=:square, title=\"under approx.\")"
   ]
  },
  {
   "cell_type": "code",
   "execution_count": null,
   "metadata": {},
   "outputs": [],
   "source": [
    "# preallocate output\n",
    "sol_vec = Vector{Vector{Float64}}()\n",
    "x₂_max = 5.0\n",
    "Δ = 0.05\n",
    "@time rroots_2d!(sol_vec, F.over, x₂_max, Δ);\n",
    "println(\"number of solutions = \", length(sol_vec))"
   ]
  },
  {
   "cell_type": "code",
   "execution_count": null,
   "metadata": {},
   "outputs": [],
   "source": [
    "plot([Singleton(si) for si in sol_vec], color=:blue, marker=:cross, title=\"over approx.\")"
   ]
  },
  {
   "cell_type": "code",
   "execution_count": null,
   "metadata": {},
   "outputs": [],
   "source": []
  },
  {
   "cell_type": "markdown",
   "metadata": {},
   "source": [
    "## Experiment 18. dai_gan_xhia_zhan_jsc14_ex1"
   ]
  },
  {
   "cell_type": "code",
   "execution_count": null,
   "metadata": {},
   "outputs": [],
   "source": [
    "@polyvar x y t\n",
    "initially = @set 1/100 - x^2 - y^2 >= 0\n",
    "forbidden = @set x^2 + y^2 >= 1/4\n",
    "time_horizon = 9\n",
    "invariant = Universe(2)\n",
    "flow = [-2*x+x^2+y, x-2*y+y^2]\n",
    "S = PolynomialContinuousSystem(flow, 2)\n",
    "\n",
    "g = -x^2 - y^2 + 0.5\n",
    "opts = Options(:T => 2.0, :relaxation_degree => 8,\n",
    "               :solver=>MosekTools.Mosek.Optimizer,\n",
    "               :V0 => -1/100 + x^2 + y^2, # X0 = {x: V0(x) <= 0}\n",
    "               :g => g, # Y = {x: g(x) >= 0} compact search space Y x [0, T]\n",
    "               :t => t,\n",
    "               :verbose => false,\n",
    "               :domain => (@set g >= 0))\n",
    "\n",
    "model = build_sos(S, opts);\n",
    "solve!(model, true)\n",
    "@show MOI.get(model, MOI.SolveTime())\n",
    "\n",
    "F = extract(model, opts);"
   ]
  },
  {
   "cell_type": "code",
   "execution_count": null,
   "metadata": {},
   "outputs": [],
   "source": [
    "# preallocate output\n",
    "sol_vec = Vector{Vector{Float64}}()\n",
    "x₂_max = 0.5\n",
    "Δ = 0.01\n",
    "@time rroots_2d!(sol_vec, F.under, x₂_max, Δ);\n",
    "println(\"number of solutions = \", length(sol_vec))\n",
    "plot([Singleton(si) for si in sol_vec], color=:green, marker=:square, title=\"under approx.\")"
   ]
  },
  {
   "cell_type": "code",
   "execution_count": null,
   "metadata": {},
   "outputs": [],
   "source": [
    "# preallocate output\n",
    "sol_vec = Vector{Vector{Float64}}()\n",
    "#x₂_max = 1.0\n",
    "#Δ = 0.01\n",
    "@time rroots_2d!(sol_vec, F.over, x₂_max, Δ);\n",
    "println(\"number of solutions = \", length(sol_vec))\n",
    "plot!([Singleton(si) for si in sol_vec], color=:blue, marker=:cross, title=\"over approx.\")"
   ]
  },
  {
   "cell_type": "code",
   "execution_count": null,
   "metadata": {},
   "outputs": [],
   "source": [
    "subs(F.over, (x, y) => (0.0, 0.0))"
   ]
  },
  {
   "cell_type": "markdown",
   "metadata": {},
   "source": [
    "---"
   ]
  },
  {
   "cell_type": "markdown",
   "metadata": {},
   "source": [
    "### EXAMPLE 2.1 in SOGOKON"
   ]
  },
  {
   "cell_type": "markdown",
   "metadata": {},
   "source": [
    "|Relax. order k|$\\epsilon$|Runtime (sec)|\n",
    "|---|----|----|\n",
    "|15|2.78|15|\n",
    "|16|1.85|36|\n",
    "|17|1.54|38|\n",
    "|18|1.42|78|"
   ]
  },
  {
   "cell_type": "code",
   "execution_count": null,
   "metadata": {},
   "outputs": [],
   "source": [
    "@polyvar x y t\n",
    "initially = @set x^2 + (y+2)^2 - 1 <= 0\n",
    "forbidden = @set x^2 + (y-1)^2 <= 9/100\n",
    "time_horizon = 9\n",
    "invariant = Universe(2)\n",
    "flow = [2*x - x * y, 2*x^2 - y]\n",
    "S = PolynomialContinuousSystem(flow, 2)\n",
    "\n",
    "g = - x^2 - y^2 + 10.0\n",
    "opts = Options(:T => 2.0, :relaxation_degree => 18,\n",
    "               :solver=>MosekTools.Mosek.Optimizer,\n",
    "               :V0 => x^2 + (y+2)^2 - 1, # X0 = {x: V0(x) <= 0}\n",
    "               :g => g, # Y = {x: g(x) >= 0} compact search space Y x [0, T]\n",
    "               :t => t,\n",
    "               :verbose => false,\n",
    "               :domain => (@set g >= 0))\n",
    "\n",
    "model = build_sos(S, opts);\n",
    "solve!(model, true)\n",
    "@show MOI.get(model, MOI.SolveTime())\n",
    "\n",
    "F = extract(model, opts);"
   ]
  },
  {
   "cell_type": "markdown",
   "metadata": {},
   "source": []
  },
  {
   "cell_type": "code",
   "execution_count": null,
   "metadata": {},
   "outputs": [],
   "source": []
  },
  {
   "cell_type": "code",
   "execution_count": null,
   "metadata": {},
   "outputs": [],
   "source": []
  },
  {
   "cell_type": "markdown",
   "metadata": {},
   "source": [
    "--- "
   ]
  },
  {
   "cell_type": "markdown",
   "metadata": {},
   "source": [
    "## Other experiments"
   ]
  },
  {
   "cell_type": "code",
   "execution_count": null,
   "metadata": {},
   "outputs": [],
   "source": [
    "@polyvar x₁ x₂ x₃ t\n",
    "\n",
    "opts = Options(:T => 3.0,\n",
    "               :relaxation_degree=>4,\n",
    "               :solver=>Mosek.Optimizer,\n",
    "               :V0 => 100*(x₁^2 + x₂^2 + x₃^2) - 1.0,\n",
    "               :g => 0.16 - (x₁^2 + x₂^2 + x₃^2),\n",
    "               :verbose=>false)\n",
    "\n",
    "f =  [-x₁*x₂ + x₁*x₃, -x₂*x₃ + x₂*x₁, -x₃*x₁ + x₃*x₂]\n",
    "S = PolynomialContinuousSystem(f, 3)"
   ]
  },
  {
   "cell_type": "code",
   "execution_count": null,
   "metadata": {},
   "outputs": [],
   "source": [
    "model = build_sos(S, opts);\n",
    "solve!(model, true)"
   ]
  }
 ],
 "metadata": {
  "@webio": {
   "lastCommId": null,
   "lastKernelId": null
  },
  "kernelspec": {
   "display_name": "Julia 1.1.0-rc2",
   "language": "julia",
   "name": "julia-1.1"
  },
  "language_info": {
   "file_extension": ".jl",
   "mimetype": "application/julia",
   "name": "julia",
   "version": "1.1.0"
  }
 },
 "nbformat": 4,
 "nbformat_minor": 2
}
