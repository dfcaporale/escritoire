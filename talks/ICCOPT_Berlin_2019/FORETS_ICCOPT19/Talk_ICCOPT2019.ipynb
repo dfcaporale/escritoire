{
 "cells": [
  {
   "cell_type": "markdown",
   "metadata": {
    "slideshow": {
     "slide_type": "slide"
    }
   },
   "source": [
    "# Algorithms for Flowpipe Approximation using SOS "
   ]
  },
  {
   "cell_type": "markdown",
   "metadata": {
    "slideshow": {
     "slide_type": "-"
    }
   },
   "source": [
    "### Marcelo Forets, Universidad de la República, Uruguay."
   ]
  },
  {
   "cell_type": "markdown",
   "metadata": {
    "slideshow": {
     "slide_type": "-"
    }
   },
   "source": [
    "#### ICCOPT 2019, TU-Berlin, August 5th, 2019"
   ]
  },
  {
   "cell_type": "markdown",
   "metadata": {
    "slideshow": {
     "slide_type": "subslide"
    }
   },
   "source": [
    "## Outline\n",
    "\n",
    "- Context\n",
    "\n",
    "- From Hamilton-Jacobi to SOS optimization\n",
    "\n",
    "- Results\n",
    "  - Validation of the implementation\n",
    "  - Sogokon's benchmarks\n",
    "\n",
    "- Conclusions and future work"
   ]
  },
  {
   "cell_type": "markdown",
   "metadata": {
    "slideshow": {
     "slide_type": "slide"
    }
   },
   "source": [
    "## Context"
   ]
  },
  {
   "cell_type": "markdown",
   "metadata": {
    "slideshow": {
     "slide_type": "subslide"
    }
   },
   "source": [
    "### What are *dynamical systems*?"
   ]
  },
  {
   "cell_type": "markdown",
   "metadata": {
    "slideshow": {
     "slide_type": "-"
    }
   },
   "source": [
    "Just about anything that evolves with time!\n",
    "\n",
    "- either discrete time or continuous time\n",
    "- .. or both: *hybrid* i.e. continuous time with discrete transitions or jumps\n",
    "- several mathematical formalisms available: ODEs, DAEs, PDEs, hybrid automata"
   ]
  },
  {
   "cell_type": "markdown",
   "metadata": {
    "slideshow": {
     "slide_type": "-"
    }
   },
   "source": [
    "<img src=\"ICCOPT2019/fig/quadrotor2.png\" width=550>\n",
    "\n",
    "<font size=\"-1\">Immler, F., Althoff, M., Benet, L., Chapoutot, A., Chen, X., Forets, M., ... & Schilling, C. (2019). <b> ARCH-COMP19 Category Report: Continuous and Hybrid Systems with Nonlinear Dynamics.</b> EPiC Series in Computing, 61, 41-61.</font>"
   ]
  },
  {
   "cell_type": "markdown",
   "metadata": {
    "slideshow": {
     "slide_type": "subslide"
    }
   },
   "source": [
    "### Application domains\n",
    "\n",
    "- Cyber-physical system: <font color='blue'>a device that by means of computation is able to control or interact with a physical process</font>\n",
    "- Examples:\n",
    "    - embedded controllers for aircrafts, autonomous cars\n",
    "    - medical devices\n",
    "    - other safety-critical or mission-critical applications\n",
    "\n",
    "<img src=\"ICCOPT2019/fig/CPS.png\" width=600>"
   ]
  },
  {
   "cell_type": "markdown",
   "metadata": {
    "slideshow": {
     "slide_type": "subslide"
    }
   },
   "source": [
    "### The problem\n",
    "\n",
    "- Complex, real-world systems are prone to *failures*\n",
    "- \"[...] industrial standards, such as <font color='red'>  ISO 26262, ISO 61508, IEC 62304, EN 50128 explicitly recommend the use of formal methods </font> in the design and development of autonomous systems\"(*excerpt from FT4DAS 2019: 1st Workshop on Formal Techniques for Dependable Autonomous Systems*)\n",
    "\n",
    "<img src=\"ICCOPT2019/fig/CPSfail.png\" width=600>\n",
    "\n",
    "- Engineers need *safety* and *reliability* guarantees to take design decisions under non-deterministic inputs, parameters or noise\n",
    "\n",
    "$\\Longrightarrow$<font color='green'> The field of **reachability analysis** is concerned with understanding the set of all possible behaviors of such systems."
   ]
  },
  {
   "cell_type": "markdown",
   "metadata": {
    "slideshow": {
     "slide_type": "subslide"
    }
   },
   "source": [
    "### Methods overview \n",
    "\n",
    "- Set-based methods\n",
    "    - Template polyhedra: polytopes / support functions, zonotopes\n",
    "    - Interval methods\n",
    "    - Taylor models\n",
    "    - Ellipsoidal methods\n",
    "\n",
    "- Optimisation: \n",
    "    - <font color='red'> Hamilton-Jacobi PDE:</font> Convex programming, Level set methods\n",
    "    - Barrier certificates\n",
    "\n",
    "(See https://github.com/JuliaReach/Reachability.jl/wiki/Related-tools for a list of +25 reachability analysis tools!)\n",
    "\n",
    "- <font size=\"-1\"> Bogomolov, S., Forets, M., Frehse, G., Potomkin, K., & Schilling, C. (2019, April). <b>JuliaReach: a toolbox for set-based reachability. </b>In Proceedings of the 22nd ACM International Conference on Hybrid Systems: Computation and Control (pp. 39-44). ACM.</font> \n",
    "- <font size=\"-1\">Immler, F., Althoff, M., Benet, L., Chapoutot, A., Chen, X., Forets, M., ... & Schilling, C. (2019). <b> ARCH-COMP19 Category Report: Continuous and Hybrid Systems with Nonlinear Dynamics.</b> EPiC Series in Computing, 61, 41-61.</font>\n",
    "- <font size=\"-1\">Althoff, M., Bak, S., Chen, X., Fan, C., Forets, M., Frehse, G., ... & Schilling, C. (2018). <b> ARCH-COMP18 Category Report: Continuous and Hybrid Systems with Linear Continuous Dynamics.</b> In Proc. of the 5th International Workshop on Applied Verification for Continuous and Hybrid Systems (pp. 23-52).</font>"
   ]
  },
  {
   "cell_type": "markdown",
   "metadata": {
    "slideshow": {
     "slide_type": "slide"
    }
   },
   "source": [
    "## Theory"
   ]
  },
  {
   "cell_type": "markdown",
   "metadata": {
    "slideshow": {
     "slide_type": "subslide"
    }
   },
   "source": [
    "### General (informal) idea"
   ]
  },
  {
   "cell_type": "markdown",
   "metadata": {
    "slideshow": {
     "slide_type": "-"
    }
   },
   "source": [
    "<img src=\"ICCOPT2019/fig/flow.png\" align=\"center\" width=330>"
   ]
  },
  {
   "cell_type": "markdown",
   "metadata": {
    "slideshow": {
     "slide_type": "-"
    }
   },
   "source": [
    "- Find a PDE that describes the <font color='green'> *flow*</font> of the dynamics (think of a viscous fluid).\n",
    "- Search for an approximate analytical polynomial solution to this PDE using a hierarchy of convex programs (Lasserre's hierarchy), consisting of LMIs and constructed by SOS decomposition techniques.\n",
    "- The zero sub-level sets converge to the exact reachable set from the inside in measure (without discretizing state-space)."
   ]
  },
  {
   "cell_type": "markdown",
   "metadata": {
    "slideshow": {
     "slide_type": "subslide"
    }
   },
   "source": [
    "### Theoretical work (not exhaustive)\n",
    "\n",
    "- **[KHJ13]** M. Korda, D. Henrion, C. N. Jones. *Inner approximations of the region of attraction for polynomial dynamical systems.* IFAC Proceedings Volumes, 46(23):534-539, 2013.\n",
    "\n",
    "- **[MBT06]** Mitchell, Ian M., Alexandre M. Bayen, and Claire J. Tomlin. *A time-dependent Hamilton-Jacobi formulation of reachable sets for continuous dynamic games.* IEEE Transactions on automatic control 50.7 (2005): 947-957.\n",
    "\n",
    "- **[MGHT]** Magron, V., Garoche, P. L., Henrion, D., & Thirioux, X. (2017). *Semidefinite approximations of reachable sets for discrete-time polynomial systems.* arXiv preprint:1703.05085. To appear in SIAM Journal on Control and Optimization.\n",
    "\n",
    "- **[XFZ18]** Xue, Bai, Martin Fränzle, and Naijun Zhan. *Under-approximating reach sets for polynomial continuous systems.* Proceedings of the 21st International Conference on Hybrid Systems: Computation and Control (part of CPS Week). ACM, 2018.\n",
    "\n",
    "- **[LAS01]** Lasserre, J. B. (2001). *Global optimization with polynomials and the problem of moments.* SIAM Journal on optimization, 11(3), 796-817."
   ]
  },
  {
   "cell_type": "markdown",
   "metadata": {
    "slideshow": {
     "slide_type": "subslide"
    }
   },
   "source": [
    "## Running assumptions\n",
    "\n",
    "- A continuous dynamical system:\n",
    "\n",
    "<font color='blue'>\n",
    "\\begin{equation}\n",
    "\\dfrac{dx}{dt} = f(x),\\qquad x_0 \\in \\mathcal{X}_0,~~t \\in [t_0, T]\n",
    "\\end{equation}\n",
    "</font>\n",
    "\n",
    "- Initial set of states (assumed compact) is basic semialgebraic:\n",
    "\n",
    "<font color='blue'>\n",
    "\\begin{equation}\n",
    "\\mathcal{X}_0 := \\{ x \\in \\mathbb{R}^n : V_0(x) \\leq 0\\}\n",
    "\\end{equation}\n",
    "</font>\n",
    "\n",
    "- Compact search space $\\mathcal{Y} \\times [t_0, T]$ where:\n",
    "\n",
    "<font color='blue'>\n",
    "\\begin{equation}\n",
    "\\mathcal{Y} := \\{ x \\in \\mathbb{R}^n : g(x) \\geq 0\\}\n",
    "\\end{equation}\n",
    "</font>\n",
    "\n",
    "- <font color='red'> Goal:</font> obtain under or overapproximations of the exact reachable set, denoted $\\Omega(t; \\mathcal{X}_0, t_0)$ and defined as:\n",
    "\n",
    "<font color='blue'>\n",
    "\\begin{equation}\n",
    "\\Omega(t; \\mathcal{X}_0, t_0) := \\{ x : x_0 \\in \\mathcal{X}_0 \\wedge x = \\phi(t; x_0, t_0)\\},\n",
    "\\end{equation}\n",
    "</font>"
   ]
  },
  {
   "cell_type": "markdown",
   "metadata": {
    "slideshow": {
     "slide_type": "subslide"
    }
   },
   "source": [
    "### Method: Hamilton-Jacobi equations\n",
    "\n",
    "- The associated HJE is:\n",
    "\n",
    "<font color='blue'>\n",
    "\\begin{equation}\n",
    "\\mathcal{L}_f\\Phi(x, t) := \\dfrac{\\partial \\Phi(x, t)}{\\partial t} + \\dfrac{\\partial \\Phi(x, t)}{\\partial x} f(x) = 0,\\qquad \\Phi(x, t_0) = V_0(x).\n",
    "\\end{equation}\n",
    "</font>\n",
    "\n",
    "- The exact reachable set can be obtained from the associated HJE (**[MBT06]**).\n",
    "\n",
    "- The reachable set at time $t$ is:\n",
    "\n",
    "<font color='blue'>\n",
    "\\begin{equation}\n",
    "\\Omega(t; \\mathcal{X}_0, t_0) = \\{x : \\Phi(x, t) \\leq 0\\}.\n",
    "\\end{equation}\n",
    "</font>\n",
    "\n",
    "- Under regularity assumptions, there exists a unique classical solution $\\Phi(x, t)$ in $[t_0, T]$."
   ]
  },
  {
   "cell_type": "markdown",
   "metadata": {
    "slideshow": {
     "slide_type": "subslide"
    }
   },
   "source": [
    "### Reachable set computations\n",
    "\n",
    "- Idea: Relax the associated HJ equation $\\Rightarrow$ solve a semidefinite program"
   ]
  },
  {
   "cell_type": "markdown",
   "metadata": {
    "slideshow": {
     "slide_type": "notes"
    }
   },
   "source": [
    "- An <font color='red'> underapproximation </font> can be constructed by the zero-sublevel set of a continuously differentiable function solving a system of constraints derived by relaxing the HJE."
   ]
  },
  {
   "cell_type": "markdown",
   "metadata": {
    "slideshow": {
     "slide_type": "-"
    }
   },
   "source": [
    "**Theorem [Theorem 1, XFZ18].** Under the running assumptions, suppose that a continuously differentiable function $\\Phi(x, t)$ and $\\epsilon \\in \\mathbb{R}$ satisfy:\n",
    "\n",
    "\\begin{eqnarray}\n",
    "&&\\epsilon \\ge 0\\\\\n",
    "&&0 \\leq \\mathcal{L}\\Phi(x) \\leq \\epsilon,\\qquad \\forall (x, t) \\in \\mathbb{R}^n\\times[t_0, T]\\\\\n",
    "&&\\Phi(x, t_0) \\geq V_0(x)\\\\\n",
    "&&\\Phi(x, t_0) - \\epsilon \\leq V_0(x)\\\\\n",
    "\\end{eqnarray}\n",
    "Then the set $\\{x : \\Phi(x, \\tau) \\leq 0\\}$ is an <font color='red'> underapproximation </font> of the exact reachable set for $\\tau \\in [t_0, T]$."
   ]
  },
  {
   "cell_type": "markdown",
   "metadata": {
    "slideshow": {
     "slide_type": "subslide"
    }
   },
   "source": [
    "### Reachable set computations\n",
    "\n",
    "- An <font color='red'> overapproximation </font> can be employed to quantitatively characterize how close the under-approximation is to the exact reachable set:\n",
    "\n",
    "**Theorem [Corollary 1, XFZ18].**\n",
    "\n",
    "The set $\\{x : \\Phi(x, \\tau) \\leq \\epsilon(\\tau - t_0 + 1)\\}$ is an overapproximation of the exact reachable set for $\\tau \\in [t_0, T]$.\n",
    "\n",
    "- $\\epsilon \\geq 0$ quantifies the <font color='green'> quality </font> of the approximation (the smaller the better)."
   ]
  },
  {
   "cell_type": "markdown",
   "metadata": {
    "slideshow": {
     "slide_type": "subslide"
    }
   },
   "source": [
    "### Relaxation to the search region\n",
    "\n",
    "- Let $\\mathcal{Y} := \\{ x \\in \\mathbb{R}^n : g(x) \\geq 0\\}$ be an appropriate <font color='green'> search region </font> (trajectories shouldn't escape).\n",
    " \n",
    "Compute $\\epsilon_k^* = \\min \\epsilon$ over the tuple $(\\epsilon, \\Phi(x, t))$, subject to the constraints:\n",
    "\n",
    "\\begin{eqnarray}\n",
    "&& \\epsilon \\geq 0 \\\\\n",
    "&& \\mathcal{L}\\Phi(x, t) \\geq 0,\\qquad \\forall (x, t) \\in \\mathcal{Y}\\times [t_0, T] \\\\\n",
    "&&\\epsilon - \\mathcal{L}\\Phi(x) \\geq 0,\\qquad \\forall (x, t) \\in \\mathcal{Y}\\times[t_0, T]\\\\\n",
    "&&\\Phi(x, t_0) - V_0(x) \\geq 0,\\qquad \\forall x \\in \\mathcal{Y}\\\\\n",
    "&&V_0(x) + \\epsilon - \\Phi(x, t_0) \\geq 0,\\qquad \\forall x \\in \\mathcal{Y}\\\\\n",
    "\\end{eqnarray}\n",
    "Then the set $\\{x : \\Phi(x, \\tau) \\leq 0\\}$ is an <font color='red'> underapproximation </font> of the exact reachable set for $\\tau \\in [t_0, T]$.\n",
    "\n",
    "- Such relaxation does not introduce conservativeness."
   ]
  },
  {
   "cell_type": "markdown",
   "metadata": {
    "slideshow": {
     "slide_type": "subslide"
    }
   },
   "source": [
    "### Formulation of the SOS\n",
    "\n",
    "- The following SDP relaxation holds:\n",
    "\n",
    "Compute $\\epsilon_k^* = \\min \\epsilon$ over the tuple $(\\epsilon, \\Phi_k(x, t), \\{s_i\\}_{i=0}^9\\}$ where $k$ is the relaxation order, and subject to the constraints:\n",
    "\n",
    "\\begin{eqnarray}\n",
    "&& \\epsilon \\geq 0 \\\\\n",
    "&& \\mathcal{L}\\Phi_k(x, t) = s_0 + s_1(t-t_0)(T-t)+s_2g(x) \\\\\n",
    "&& \\epsilon - \\mathcal{L}\\Phi_k(x, t) = s_3 + s_4(t-t_0)(T-t) + s_5g(x)\\\\\n",
    "&&\\Phi_k(x, t_0) - V_0(x) = s_6 + s_7g(x_0)\\\\\n",
    "&&\\epsilon + V_0(x) - \\Phi_k(x_0, t_0) = s_8 + s_0g(x)\n",
    "\\end{eqnarray}\n",
    "\n",
    "- SOS poly. constr. can be written explicitly as LMIs and the objective is linear in $\\epsilon$ $\\Rightarrow$\n",
    "  - the solution can be obtained with an  <font color='green'> SDP solver </font> \n",
    "  - solvable in <font color='green'> polynomial time </font> to any desired accuracy\n",
    "- The problem gives rise to a <font color='green'> converging sequence</font> of inner-approximations of $\\Omega$ in measure (for proofs see [XFZ18]), i.e. <font color='green'>  $\\epsilon \\to 0$ as $k \\to \\infty$.</font> "
   ]
  },
  {
   "cell_type": "markdown",
   "metadata": {
    "slideshow": {
     "slide_type": "skip"
    }
   },
   "source": [
    "### A (very) quick introduction Taylor model flowpipe approximation"
   ]
  },
  {
   "attachments": {},
   "cell_type": "markdown",
   "metadata": {
    "slideshow": {
     "slide_type": "skip"
    }
   },
   "source": [
    "<img src=\"ICCOPT2019/fig/mu1_zono.png\" align=\"center\" width=500>"
   ]
  },
  {
   "cell_type": "markdown",
   "metadata": {
    "slideshow": {
     "slide_type": "slide"
    }
   },
   "source": [
    "## Validation"
   ]
  },
  {
   "cell_type": "markdown",
   "metadata": {
    "slideshow": {
     "slide_type": "subslide"
    }
   },
   "source": [
    "## Why Julia?\n",
    "\n",
    "- General-purpose programming language, <font color='green'>*designed* for scientific computing</font>\n",
    "\n",
    "- *Dynamically-typed*, *high level* and *fast*:\n",
    "    - Types are *run-time* objects which can *convey* information to the compiler\n",
    "    - User-defined types are as fast as built-in\n",
    "    - <font color='green'>*Composability*</font>\n",
    "\n",
    "- <font color='red'>Free/Libre</font>, open source with MIT license: **open science**  \n",
    "\n",
    "- https://julialang.org"
   ]
  },
  {
   "cell_type": "markdown",
   "metadata": {
    "slideshow": {
     "slide_type": "subslide"
    }
   },
   "source": [
    "The implementation requires <font color='green'>Julia ≥ v1.0</font>, and involves:\n",
    "\n",
    "### Optimisation:\n",
    "\n",
    "- `JuMP.jl` (<font color='blue'>I. Dunning, J. Huchette, M. Lubin, B. Legat et al</font>)\n",
    "  - Modeling language for Mathematical Optimization\n",
    "- `SumOfSquares.jl` (<font color='blue'>B. Legat, C. Coey, L. Kapelevich, J. P. Vielma, T. Weisser</font>)\n",
    "  - Sum of Squares Programming extension for JuMP\n",
    "  \n",
    "### Reachability API:\n",
    "\n",
    "- `Reachability.jl` (<font color='blue'>M. Forets, C. Schilling, L. Benet</font>)\n",
    "  - Reachability analysis, safety properties\n",
    "- `MathematicalSystems.jl` (<font color='blue'>M. Forets, C. Schilling, B. Legat</font>)\n",
    "  - Julia package for mathematical systems interfaces"
   ]
  },
  {
   "cell_type": "markdown",
   "metadata": {
    "slideshow": {
     "slide_type": "subslide"
    }
   },
   "source": [
    "### For set-based methods:\n",
    "\n",
    "- `LazySets.jl` (<font color='blue'>M. Forets, C. Schilling</font>)\n",
    "  - Set representations and operations for convex and non-convex sets, approximations\n",
    "\n",
    "- `IntervalArithmetic.jl` (<font color='blue'>L. Benet, D.P. Sanders</font>)\n",
    "  - Rigorous floating-point calculations using interval arithmetic in Julia\n",
    "- `TaylorSeries.jl` (<font color='blue'>L. Benet, D.P. Sanders</font>)\n",
    "  - Taylor series for one and several variables\n",
    "- `TaylorModels.jl` (<font color='blue'>L. Benet, D.P. Sanders</font>)\n",
    "  - Taylor series for one and several variables\n",
    "- `TaylorIntegration.jl` (<font color='blue'>L. Benet, J.A. Pérez-Hernández</font>)\n",
    "  - Taylor method to integrate ODEs (initial value problems); jet-transport techniques"
   ]
  },
  {
   "cell_type": "markdown",
   "metadata": {
    "slideshow": {
     "slide_type": "skip"
    }
   },
   "source": [
    "### Van der pol model\n",
    "\n",
    "- Introduced by the Dutch physicist Balthasar van der Pol (1926).\n",
    "\n",
    "- Defined by the following ODE with 2 variables:\n",
    "\n",
    "\\begin{eqnarray}\n",
    "x' &=& y\\\\\n",
    "y'  &=& \\mu (1-x^2)y - x\\\\\n",
    "\\end{eqnarray}\n",
    "\n",
    "- It is a nonconservative stable oscillator.\n",
    "- The system has a stable limit cycle however that becomes increasingly sharp for higher values of $μ$."
   ]
  },
  {
   "cell_type": "markdown",
   "metadata": {
    "slideshow": {
     "slide_type": "subslide"
    }
   },
   "source": [
    "### Comparison with an implementation in MATLAB/YALMIP\n",
    "\n",
    "- [YALMIP](https://yalmip.github.io/) is a well-known MATLAB based modelling language, suitable for a large class of problems in control theory and optimization.\n",
    "- see [YALMIP: A toolbox for modeling and optimization in MATLAB](https://ieeexplore.ieee.org/document/1393890), 2004 IEEE ICRA\n"
   ]
  },
  {
   "cell_type": "markdown",
   "metadata": {
    "slideshow": {
     "slide_type": "skip"
    }
   },
   "source": [
    "```matlab\n",
    "sdpvar x y t obj;\n",
    "f = 2*[y; (-0.2*x+y-0.2*x^2*y); 0.5];\n",
    "T = 1;\n",
    "V0 = x^2+y^2-0.25;\n",
    "g = 25-x^2-y^2;\n",
    "degree = 12;\n",
    "\n",
    "x1 = [x y t];\n",
    "[Phi, coe] = polynomial(x1,degree);\n",
    "Phi_0 = replace(Phi,[t],[0]);\n",
    "Phi_derivative = jacobian(Phi,x1)*f;\n",
    " \n",
    "[s1,coe1] = polynomial(x1,degree);\n",
    "[s2,coe2] = polynomial(x1,degree);\n",
    "[s4,coe4] = polynomial(x1,degree);\n",
    "[s5,coe5] = polynomial(x1,degree);\n",
    "[s7,coe7] = polynomial([x y],degree);\n",
    "[s9,coe9] = polynomial([x y],degree);\n",
    "\n",
    "F = [sos(Phi_derivative-s1*t*(T-t)-s2*g),sos(obj-Phi_derivative-s4*t*(T-t)-s5*g),sos(Phi_0-V0-s7*g),...\n",
    "     sos(obj+V0-Phi_0-s9*g),sos(s1),sos(s2),sos(s4),sos(s5),sos(s7),sos(s9),obj>=0];\n",
    " \n",
    "ops = sdpsettings('solver','mosek','sos.newton',1,'sos.congruence',1);\n",
    "diagnostics= solvesos(F,obj,ops,[obj;coe;coe1;coe2;coe4;coe5;coe7;coe9])\n",
    "```\n",
    "\n",
    "22 LOC"
   ]
  },
  {
   "cell_type": "markdown",
   "metadata": {
    "slideshow": {
     "slide_type": "subslide"
    }
   },
   "source": [
    "```julia\n",
    "@polyvar x₁ x₂ t\n",
    "f = 2 * [x₂, -0.2*x₁ + x₂ - 0.2*x₁^2*x₂] \n",
    "T = 1.0 \n",
    "V₀ = x₁^2 + x₂^2 - 0.25\n",
    "g = 25 - x₁^2 - x₂^2\n",
    "k = 12\n",
    "\n",
    "X = monomials([x₁, x₂], 0:k)\n",
    "XT = monomials([x₁, x₂, t], 0:k)\n",
    "\n",
    "model = SOSModel(with_optimizer(Mosek.Optimizer))\n",
    "@variable(model, Φ, Poly(XT))\n",
    "\n",
    "∂xf = α -> ∂(α, x₁) * f[1] + ∂(α, x₂) * f[2] \n",
    "LΦ = ∂(Φ, t) + ∂xf(Φ)\n",
    "\n",
    "Φ₀ = subs(Φ, t => 0.)\n",
    "@variable(model, ϵ)\n",
    "dom1 = @set t*(T-t) >= 0 && g >= 0\n",
    "dom2 = @set g >= 0\n",
    "@constraint(model, ϵ >= 0.)\n",
    "@constraint(model, LΦ ∈ SOSCone(), domain = dom1)\n",
    "@constraint(model, ϵ - LΦ ∈ SOSCone(), domain = dom1)\n",
    "@constraint(model, Φ₀ - V₀ ∈ SOSCone(), domain = dom2)\n",
    "@constraint(model, ϵ + V₀ - Φ₀ ∈ SOSCone(), domain = dom2)\n",
    "\n",
    "@objective(model, Min, ϵ)\n",
    "optimize!(model)\n",
    "```\n",
    "23 LOC"
   ]
  },
  {
   "cell_type": "markdown",
   "metadata": {
    "slideshow": {
     "slide_type": "subslide"
    }
   },
   "source": [
    "|  Package    | k    |Constraints|Scalar variables|Matrix variables|Time(s)|\n",
    "|-------------|------|-----------|----------------|----------------|-------|\n",
    "|**SumOfSquares v0.3.0**         |    2 |    83    |      13       |            8   |   < 1 |\n",
    "|YALMIP       |    2 |       152 |             63 |              10|   < 1 |\n",
    "||\n",
    "|**SumOfSquares v0.3.0**         |    3 |    199    |        21     |        10       |   < 1 |\n",
    "|YALMIP       |    3 |       254 |            121 |              10|   ~ 1 |\n",
    "||\n",
    "|**SumOfSquares v0.3.0**         |    4 |   199     |       36      |      10         |   < 1 |\n",
    "|YALMIP       |    4 |       394 |           206  |              10|  1.18 |\n",
    "||\n",
    "|**SumOfSquares v0.3.0**         |    5 |     387   |       57      |         10      |   < 1 |\n",
    "|YALMIP       |    5 |      578  |         323     |          10    |  0.11 |\n",
    "||\n",
    "|**SumOfSquares v0.3.0**         |    6 |    387    |       85      |       10        |   < 1 |\n",
    "|YALMIP       |    6 |    812    |         477    |    10          |  1.10  |\n",
    "||\n",
    "|**SumOfSquares v0.3.0**         |    7 |   663     |     121        |      10         |   < 1 |\n",
    "|YALMIP       |    7 |     1102   |        673     |        10      |  1.52 |\n"
   ]
  },
  {
   "cell_type": "markdown",
   "metadata": {
    "slideshow": {
     "slide_type": "subslide"
    }
   },
   "source": [
    "|  Package    | k    |Constraints|Scalar variables|Matrix variables|Time(s)|\n",
    "|-------------|------|-----------|----------------|----------------|-------|\n",
    "|**SumOfSquares v0.3.0**         |    8 |  663      |        166     |           10    |   < 1 |\n",
    "|YALMIP       |    8 |    1454    |       916       |          10    |  1.10 |\n",
    "||\n",
    "|**SumOfSquares v0.3.0**         |    9 |      1043  |        221     |        10       |   1.70 |\n",
    "|YALMIP       |    9 |   1874     |       1211     |         10     |  1.58  |\n",
    "||\n",
    "|**SumOfSquares v0.3.0**         |    10 |    1043    |    287         |     10          |   1.67 |\n",
    "|YALMIP       |   10 |     2368   |       1563     |        10      |  2.73 |\n",
    "||\n",
    "|**SumOfSquares v0.3.0**         |    11 |   1543     |      365       |     10          |   4.88 |\n",
    "|YALMIP       |   11 |   2942    |       1977      |       10       |  2.30 |\n",
    "||\n",
    "|**SumOfSquares v0.3.0**         |    12 | 1543       |   456          |         10      |  5.02 |\n",
    "|YALMIP       |   12 |    3602    |      2458       |      10        | 6.57  |\n"
   ]
  },
  {
   "cell_type": "markdown",
   "metadata": {
    "slideshow": {
     "slide_type": "-"
    }
   },
   "source": [
    "- Comparison of the *size* of the generated model and the *runtime* for Van der Pol\n",
    "- Using *Mosek* solver solver in both cases"
   ]
  },
  {
   "cell_type": "markdown",
   "metadata": {
    "slideshow": {
     "slide_type": "subslide"
    }
   },
   "source": [
    "### Real roots of $\\Phi(x, t)$ at $t = 2.0$"
   ]
  },
  {
   "cell_type": "markdown",
   "metadata": {
    "slideshow": {
     "slide_type": "-"
    }
   },
   "source": [
    "<p> <img src=\"ICCOPT2019/fig/k_12_b.png\" width=500> </p>\n",
    "\n",
    "|Relax. order k|$\\epsilon$|\n",
    "|---|----|\n",
    "|10|0.72|\n",
    "|11|0.038|\n",
    "|12|0.072|\n",
    "|13|0.006|\n",
    "|14|0.003|\n",
    "\n",
    "- computed using `HomotopyContinuation.jl`, see https://github.com/JuliaHomotopyContinuation"
   ]
  },
  {
   "cell_type": "markdown",
   "metadata": {
    "slideshow": {
     "slide_type": "subslide"
    }
   },
   "source": [
    "### Comparison with TMJets (ARCHCOMP-2019 specification)\n",
    "\n",
    "<p> <img src=\"ICCOPT2019/fig/tm_1.png\" width=600> </p>\n",
    "\n",
    "- $x_0 \\in [1.25, 1.55], y_0 \\in [2.35, 2.45]$\n",
    "- <font color='red'> specification: $y < 2.75$ for all $t \\in [0, 7]$ </font>\n",
    "- SOS: very slow convergence! - `MOSEK_STATUS: SLOW_PROGRESS`"
   ]
  },
  {
   "cell_type": "markdown",
   "metadata": {
    "slideshow": {
     "slide_type": "slide"
    }
   },
   "source": [
    "##  Benchmarks"
   ]
  },
  {
   "cell_type": "markdown",
   "metadata": {
    "slideshow": {
     "slide_type": "subslide"
    }
   },
   "source": [
    "### What to benchmark?\n",
    "\n",
    "- Aim: Assess reliability, efficiency and validation of known methods.\n",
    "- Benchmarks should have diverse properties so that can be truly useful to test methods in an <font color='red'> unbiased way </font>.\n",
    "- Two groups:\n",
    "   - \"Test\" examples, common standard benchmarks from the literature\n",
    "   - Real-world problems (physics, chemistry, economics, etc)"
   ]
  },
  {
   "cell_type": "markdown",
   "metadata": {
    "slideshow": {
     "slide_type": "notes"
    }
   },
   "source": [
    "<font size=\"-1\"> Jamil, Momin, and Xin-She Yang. <b> A literature survey of benchmark functions for global optimization problems.</b> arXiv preprint arXiv:1308.4008 (2013).</font>"
   ]
  },
  {
   "cell_type": "markdown",
   "metadata": {
    "slideshow": {
     "slide_type": "subslide"
    }
   },
   "source": [
    "### Sogokon's benchmarks\n",
    "\n",
    "- Originally safety-verification benchmarks (in unbounded time)\n",
    "- 65 benchmarks for nonlinear polynomial ODEs\n",
    "\n",
    "<img src=\"ICCOPT2019/fig/flow.png\" align=\"center\" width=330>\n",
    "\n",
    "- (Dai et al., Barrier certificates)\n",
    "\n",
    "\\begin{eqnarray}\n",
    "&& x' = 2x - xy \\\\\n",
    "&& y' = 2x^2 - y\\\\\n",
    "\\end{eqnarray}\n",
    "\n",
    "<font size=\"-1\"> Sogokon, Andrew, Khalil Ghorbal, and Taylor T. Johnson. <b> Non-linear continuous systems for safety verification (benchmark proposal).</b> 2016.</font>"
   ]
  },
  {
   "cell_type": "markdown",
   "metadata": {
    "slideshow": {
     "slide_type": "subslide"
    }
   },
   "source": [
    "### Work-precision\n",
    "\n",
    "|Relax. order k|$\\epsilon$|Runtime (sec)|\n",
    "|---|----|----|\n",
    "|15|2.78|15|\n",
    "|16|1.85|36|\n",
    "|17|1.54|38|\n",
    "|18|1.42|78|"
   ]
  },
  {
   "cell_type": "markdown",
   "metadata": {
    "slideshow": {
     "slide_type": "slide"
    }
   },
   "source": [
    "##  Conclusions"
   ]
  },
  {
   "cell_type": "markdown",
   "metadata": {
    "slideshow": {
     "slide_type": "subslide"
    }
   },
   "source": [
    "### To recap\n",
    "\n",
    "- The behavior of non-linear systems is extremely difficult to analyze because solutions are rarely available in closed-form.\n",
    "- The exact computation of reachable sets of an <font color='green'>uncertain IVP for a nonlinear system</font> is generally impossible, and we use underapproximative or overapproximative methods for property checking in safety-critical systems.\n",
    "- Numerical experiments are essential to understand the extent to which available methods and solvers are applicable."
   ]
  },
  {
   "cell_type": "markdown",
   "metadata": {
    "slideshow": {
     "slide_type": "subslide"
    }
   },
   "source": [
    "### Pros and Cons\n",
    "\n",
    "- Convex programming offers an interesting approach, <font color='red'>however:</font>\n",
    "  - Generally <font color='red'> slower converge rates </font> w.r.t. set-based methods\n",
    "  - Hard to know appropriate (i.e. default) <font color='red'> problem-specific options </font>(eg. relaxation degree, search region) to get a predefined\n",
    "    accuracy\n",
    "- Pros:\n",
    "  - Exploit *polynomial* structure of the problem and <font color='green'> can handle polynomial constraints exactly </font>\n",
    "  - Growing ecosystem allows to <font color='green'> easily formulate and solve </font> such problems (`JuMP`, `SumOfSqures.jl`, ...) and compare with other methods (using `JuliaReach`)"
   ]
  },
  {
   "cell_type": "markdown",
   "metadata": {
    "slideshow": {
     "slide_type": "subslide"
    }
   },
   "source": [
    "### Future work\n",
    "\n",
    "- combination of SOS and set-based methods\n",
    "- exploit more $\\Phi(x, t)$, eg. through ICP or parametric root finding\n",
    "- extension to *hybrid systems*\n",
    "- systems with uncertain parameters"
   ]
  },
  {
   "cell_type": "markdown",
   "metadata": {
    "slideshow": {
     "slide_type": "subslide"
    }
   },
   "source": [
    "### Acknowledgements\n",
    "\n",
    "- JuliaReach development is led by:\n",
    "  - Marcelo Forets (Univ. de la República, Uruguay)\n",
    "  - Christian Schilling (Institute of Science and Technology, Austria)\n",
    "\n",
    "- Contributors to JuliaReach open projects include:\n",
    "  - A. Deshmuhk (Indian Institute of Information Technology, India), B. Garate (Univ. de la República, Uruguay),\n",
    "    S. Guadalupe (Univ. de la República, Uruguay), N. Kekatos (Univ. Grenoble Alpes, France), B. Legat\n",
    "    (UCLouvain, Belgium), K. Potomkin (ANU, Australia), A. Rocca (INRIA, France), F. Viry (CERFACS, France)\n",
    "\n",
    "- Scientific collaborators:\n",
    "    - L. Benet (UNAM, México), S. Bogomolov (ANU, Australia), G. Frehse (ENSTA ParisTech, France),\n",
    "      A. Podelski    (Univ. of Freiburg, Germany), David P. Sanders (UNAM, México)\n",
    "\n",
    "---\n",
    "\n",
    "\n",
    "<font color='blue'> Join the effort!  </font>https://github.com/juliareach https://gitter.im/JuliaReach/Lobby\n",
    "\n",
    "<font color='green'> Contact: mforets@gmail.com </font> http://github.com/mforets"
   ]
  }
 ],
 "metadata": {
  "celltoolbar": "Slideshow",
  "kernelspec": {
   "display_name": "Julia 1.1.0-rc2",
   "language": "julia",
   "name": "julia-1.1"
  },
  "language_info": {
   "file_extension": ".jl",
   "mimetype": "application/julia",
   "name": "julia",
   "version": "1.1.0"
  }
 },
 "nbformat": 4,
 "nbformat_minor": 2
}
