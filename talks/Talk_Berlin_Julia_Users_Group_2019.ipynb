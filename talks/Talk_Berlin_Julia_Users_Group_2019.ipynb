{
 "cells": [
  {
   "cell_type": "markdown",
   "metadata": {
    "slideshow": {
     "slide_type": "slide"
    }
   },
   "source": [
    "# A brief introduction to JuliaReach"
   ]
  },
  {
   "cell_type": "markdown",
   "metadata": {
    "slideshow": {
     "slide_type": "-"
    }
   },
   "source": [
    "### Marcelo Forets, Universidad de la República, Uruguay."
   ]
  },
  {
   "cell_type": "markdown",
   "metadata": {
    "slideshow": {
     "slide_type": "-"
    }
   },
   "source": [
    "#### Berlin Julia Users Meetup 2019, Berlin, August 7th, 2019"
   ]
  },
  {
   "cell_type": "markdown",
   "metadata": {
    "slideshow": {
     "slide_type": "subslide"
    }
   },
   "source": [
    "## Outline of this talk\n",
    "\n",
    "- Context of the JuliaReach org\n",
    "\n",
    "- LazySets: from low dimensions to high dimensions using multiple dispatch\n",
    "\n",
    "- Applications\n",
    "\n",
    "  - Neural network verification\n",
    "  - Reachability analysis of uncertain dynamical systems"
   ]
  },
  {
   "cell_type": "markdown",
   "metadata": {
    "slideshow": {
     "slide_type": "subslide"
    }
   },
   "source": [
    "## What is JuliaReach?\n",
    "\n",
    "- A toolbox to do *Reachability Computations for Dynamical Systems in Julia*\n",
    "\n",
    "#### What are dynamical systems?\n",
    "\n",
    "<font color='red'> Just about anything that evolves with time! <red>"
   ]
  },
  {
   "cell_type": "markdown",
   "metadata": {
    "slideshow": {
     "slide_type": "fragment"
    }
   },
   "source": [
    "- In particular we focus on **cyber-physical systems:** <font color='blue'> a device that by means of computation is able to control or interact with a physical process</font>\n",
    "\n",
    "- Examples:\n",
    "    - embedded controllers (aircrafts, autonomous cars, ...)\n",
    "    - medical devices; safety-critical or mission-critical devices; power systems stability; ...\n",
    "\n",
    "<img src=\"ICCOPT2019/fig/CPS.png\" width=600>"
   ]
  },
  {
   "cell_type": "markdown",
   "metadata": {
    "slideshow": {
     "slide_type": "subslide"
    }
   },
   "source": [
    "## Who *makes* JuliaReach?\n",
    "\n",
    "<img src=\"BerlinUsersGroup/People.png\" align=\"center\" width=650>"
   ]
  },
  {
   "cell_type": "markdown",
   "metadata": {
    "slideshow": {
     "slide_type": "-"
    }
   },
   "source": [
    "<font size=\"-1\">Bogomolov, S., Forets, M., Frehse, G., Potomkin, K., & Schilling, C. (2019, April). JuliaReach: a toolbox for set-based reachability. <b> In Proceedings of the 22nd ACM International Conference on Hybrid Systems: Computation and Control (pp. 39-44), ACM.</b> </font>"
   ]
  },
  {
   "cell_type": "markdown",
   "metadata": {
    "slideshow": {
     "slide_type": "slide"
    }
   },
   "source": [
    "## An intro to LazySets "
   ]
  },
  {
   "cell_type": "code",
   "execution_count": 10,
   "metadata": {
    "slideshow": {
     "slide_type": "subslide"
    }
   },
   "outputs": [
    {
     "name": "stdout",
     "output_type": "stream",
     "text": [
      "LazySet\n",
      "├─ AbstractCentrallySymmetric\n",
      "│  ├─ Ball2\n",
      "│  ├─ Ballp\n",
      "│  └─ Ellipsoid\n",
      "├─ AbstractPolyhedron\n",
      "│  ├─ AbstractPolytope\n",
      "│  │  ├─ AbstractCentrallySymmetricPolytope\n",
      "│  │  │  ├─ AbstractZonotope\n",
      "│  │  │  │  ├─ AbstractHyperrectangle\n",
      "│  │  │  │  │  ├─ AbstractSingleton\n",
      "│  │  │  │  │  │  ├─ Singleton\n",
      "│  │  │  │  │  │  └─ ZeroSet\n",
      "│  │  │  │  │  ├─ BallInf\n",
      "│  │  │  │  │  ├─ Hyperrectangle\n",
      "│  │  │  │  │  ├─ Interval\n",
      "│  │  │  │  │  └─ SymmetricIntervalHull\n",
      "│  │  │  │  ├─ LineSegment\n",
      "│  │  │  │  └─ Zonotope\n",
      "│  │  │  └─ Ball1\n",
      "│  │  ├─ AbstractPolygon\n",
      "│  │  │  ├─ AbstractHPolygon\n",
      "│  │  │  │  ├─ HPolygon\n",
      "│  │  │  │  └─ HPolygonOpt\n",
      "│  │  │  └─ VPolygon\n",
      "│  │  ├─ HPolytope\n",
      "│  │  └─ VPolytope\n",
      "│  ├─ HPolyhedron\n",
      "│  ├─ HalfSpace\n",
      "│  ├─ Hyperplane\n",
      "│  ├─ Line\n",
      "│  └─ Universe\n",
      "├─ AffineMap\n",
      "├─ CacheMinkowskiSum\n",
      "├─ CartesianProduct\n",
      "├─ CartesianProductArray\n",
      "├─ ConvexHull\n",
      "├─ ConvexHullArray\n",
      "├─ EmptySet\n",
      "├─ ExponentialMap\n",
      "├─ ExponentialProjectionMap\n",
      "├─ Intersection\n",
      "├─ IntersectionArray\n",
      "├─ LinearMap\n",
      "├─ MinkowskiSum\n",
      "├─ MinkowskiSumArray\n",
      "├─ ResetMap\n",
      "└─ Translation\n"
     ]
    }
   ],
   "source": [
    "using LazySets, Plots\n",
    "using AbstractTrees\n",
    "\n",
    "AbstractTrees.children(x::Type) = subtypes(x)\n",
    "print_tree(LazySet)"
   ]
  },
  {
   "cell_type": "markdown",
   "metadata": {
    "slideshow": {
     "slide_type": "subslide"
    }
   },
   "source": [
    "### Convex sets\n",
    "\n",
    "<img src=\"BerlinUsersGroup/convex_sets.png\" width=600>"
   ]
  },
  {
   "cell_type": "markdown",
   "metadata": {
    "slideshow": {
     "slide_type": "subslide"
    }
   },
   "source": [
    "## Balls\n",
    "\n",
    "<img src=\"BerlinUsersGroup/balls1.png\" width=600>"
   ]
  },
  {
   "cell_type": "markdown",
   "metadata": {
    "slideshow": {
     "slide_type": "subslide"
    }
   },
   "source": [
    "## More balls\n",
    "\n",
    "<img src=\"BerlinUsersGroup/ball2.png\" width=600>"
   ]
  },
  {
   "cell_type": "markdown",
   "metadata": {
    "slideshow": {
     "slide_type": "subslide"
    }
   },
   "source": [
    "## Unbounded  sets\n",
    "\n",
    "<img src=\"BerlinUsersGroup/unbounded_sets.png\" width=600>"
   ]
  },
  {
   "cell_type": "markdown",
   "metadata": {
    "slideshow": {
     "slide_type": "subslide"
    }
   },
   "source": [
    "## Translation\n",
    "\n",
    "<img src=\"BerlinUsersGroup/translation.png\" width=500>"
   ]
  },
  {
   "cell_type": "markdown",
   "metadata": {
    "slideshow": {
     "slide_type": "subslide"
    }
   },
   "source": [
    "## Minkowski sum\n",
    "\n",
    "<img src=\"BerlinUsersGroup/minkowski_sum.png\" width=500>"
   ]
  },
  {
   "cell_type": "markdown",
   "metadata": {
    "slideshow": {
     "slide_type": "subslide"
    }
   },
   "source": [
    "## Linear map\n",
    "\n",
    "<img src=\"BerlinUsersGroup/linear_map.png\" width=500>"
   ]
  },
  {
   "cell_type": "markdown",
   "metadata": {
    "slideshow": {
     "slide_type": "subslide"
    }
   },
   "source": [
    "## Projection\n",
    "\n",
    "<img src=\"BerlinUsersGroup/projection.png\" width=500>"
   ]
  },
  {
   "cell_type": "markdown",
   "metadata": {
    "slideshow": {
     "slide_type": "subslide"
    }
   },
   "source": [
    "## Union (not convex)\n",
    "\n",
    "<img src=\"BerlinUsersGroup/union.png\" width=500>"
   ]
  },
  {
   "cell_type": "markdown",
   "metadata": {
    "slideshow": {
     "slide_type": "subslide"
    }
   },
   "source": [
    "## Convex hull\n",
    "\n",
    "<img src=\"BerlinUsersGroup/convex_hull.png\" width=600>"
   ]
  },
  {
   "cell_type": "markdown",
   "metadata": {
    "slideshow": {
     "slide_type": "subslide"
    }
   },
   "source": [
    "## Intersection\n",
    "\n",
    "<img src=\"BerlinUsersGroup/intersection.png\" width=500>"
   ]
  },
  {
   "cell_type": "markdown",
   "metadata": {
    "slideshow": {
     "slide_type": "notes"
    }
   },
   "source": [
    "## A high-dimensional demo"
   ]
  },
  {
   "cell_type": "code",
   "execution_count": null,
   "metadata": {
    "slideshow": {
     "slide_type": "notes"
    }
   },
   "outputs": [],
   "source": [
    "L₁ = LineSegment([0.0, 0.0], [1.0, 1.0])\n",
    "L₂ = LineSegment([0.0, 0.0], [-1.0, 1.0])\n",
    "plot(L₁)\n",
    "plot!(L₂)"
   ]
  },
  {
   "cell_type": "code",
   "execution_count": null,
   "metadata": {
    "slideshow": {
     "slide_type": "notes"
    }
   },
   "outputs": [],
   "source": [
    "plot!(L₁ ⊕ L₂)\n",
    "L₃ = LineSegment([0.0, 0.0], [0.0, 1.0])"
   ]
  },
  {
   "cell_type": "code",
   "execution_count": null,
   "metadata": {
    "slideshow": {
     "slide_type": "notes"
    }
   },
   "outputs": [],
   "source": [
    "plot(L₁ ⊕ L₂ ⊕ L₃)"
   ]
  },
  {
   "cell_type": "code",
   "execution_count": null,
   "metadata": {
    "slideshow": {
     "slide_type": "notes"
    }
   },
   "outputs": [],
   "source": [
    "X = [rand(LineSegment) for _ in 1:100]\n",
    "plot(X)"
   ]
  },
  {
   "cell_type": "code",
   "execution_count": null,
   "metadata": {
    "slideshow": {
     "slide_type": "notes"
    }
   },
   "outputs": [],
   "source": [
    "Y = MinkowskiSumArray(X)\n",
    "plot(Y)\n",
    "plot!(vertices_list(Y))"
   ]
  },
  {
   "cell_type": "markdown",
   "metadata": {
    "slideshow": {
     "slide_type": "subslide"
    }
   },
   "source": [
    "## A high-dimensional demo"
   ]
  },
  {
   "cell_type": "markdown",
   "metadata": {
    "slideshow": {
     "slide_type": "-"
    }
   },
   "source": [
    "- We'l work with a 100-dimensional set which has... `exp(100 * log(2)) ≈ 1.2676506002282317e30` vertices."
   ]
  },
  {
   "cell_type": "code",
   "execution_count": 70,
   "metadata": {
    "slideshow": {
     "slide_type": "subslide"
    }
   },
   "outputs": [],
   "source": [
    "H = rand(Hyperrectangle, dim=100);\n",
    "d = ones(Float64, 100);"
   ]
  },
  {
   "cell_type": "code",
   "execution_count": 71,
   "metadata": {
    "slideshow": {
     "slide_type": "subslide"
    }
   },
   "outputs": [
    {
     "name": "stdout",
     "output_type": "stream",
     "text": [
      "  97.050 ns (1 allocation: 896 bytes)\n"
     ]
    }
   ],
   "source": [
    "@btime σ($d, $H);"
   ]
  },
  {
   "cell_type": "code",
   "execution_count": 72,
   "metadata": {
    "slideshow": {
     "slide_type": "subslide"
    }
   },
   "outputs": [
    {
     "data": {
      "text/plain": [
       "true"
      ]
     },
     "execution_count": 72,
     "metadata": {},
     "output_type": "execute_result"
    }
   ],
   "source": [
    "σ(d, H) ∈ H"
   ]
  },
  {
   "cell_type": "code",
   "execution_count": 73,
   "metadata": {
    "slideshow": {
     "slide_type": "subslide"
    }
   },
   "outputs": [],
   "source": [
    "M = rand(100, 100)\n",
    "P = project(M * H, [99, 100], LinearMap);"
   ]
  },
  {
   "cell_type": "code",
   "execution_count": 74,
   "metadata": {
    "slideshow": {
     "slide_type": "subslide"
    }
   },
   "outputs": [
    {
     "name": "stdout",
     "output_type": "stream",
     "text": [
      "  651.521 ns (15 allocations: 2.63 KiB)\n"
     ]
    }
   ],
   "source": [
    "@btime project($M * $H, [99, 100], LinearMap);"
   ]
  },
  {
   "cell_type": "code",
   "execution_count": 75,
   "metadata": {
    "slideshow": {
     "slide_type": "subslide"
    }
   },
   "outputs": [
    {
     "data": {
      "image/svg+xml": [
       "<?xml version=\"1.0\" encoding=\"utf-8\"?>\n",
       "<svg xmlns=\"http://www.w3.org/2000/svg\" xmlns:xlink=\"http://www.w3.org/1999/xlink\" width=\"600\" height=\"400\" viewBox=\"0 0 2400 1600\">\n",
       "<defs>\n",
       "  <clipPath id=\"clip5100\">\n",
       "    <rect x=\"0\" y=\"0\" width=\"2400\" height=\"1600\"/>\n",
       "  </clipPath>\n",
       "</defs>\n",
       "<polygon clip-path=\"url(#clip5100)\" points=\"\n",
       "0,1600 2400,1600 2400,0 0,0 \n",
       "  \" fill=\"#ffffff\" fill-rule=\"evenodd\" fill-opacity=\"1\"/>\n",
       "<defs>\n",
       "  <clipPath id=\"clip5101\">\n",
       "    <rect x=\"480\" y=\"0\" width=\"1681\" height=\"1600\"/>\n",
       "  </clipPath>\n",
       "</defs>\n",
       "<polygon clip-path=\"url(#clip5100)\" points=\"\n",
       "176.123,1503.47 2321.26,1503.47 2321.26,47.2441 176.123,47.2441 \n",
       "  \" fill=\"#ffffff\" fill-rule=\"evenodd\" fill-opacity=\"1\"/>\n",
       "<defs>\n",
       "  <clipPath id=\"clip5102\">\n",
       "    <rect x=\"176\" y=\"47\" width=\"2146\" height=\"1457\"/>\n",
       "  </clipPath>\n",
       "</defs>\n",
       "<polyline clip-path=\"url(#clip5102)\" style=\"stroke:#000000; stroke-width:2; stroke-opacity:0.1; fill:none\" points=\"\n",
       "  379.976,1503.47 379.976,47.2441 \n",
       "  \"/>\n",
       "<polyline clip-path=\"url(#clip5102)\" style=\"stroke:#000000; stroke-width:2; stroke-opacity:0.1; fill:none\" points=\"\n",
       "  707.268,1503.47 707.268,47.2441 \n",
       "  \"/>\n",
       "<polyline clip-path=\"url(#clip5102)\" style=\"stroke:#000000; stroke-width:2; stroke-opacity:0.1; fill:none\" points=\"\n",
       "  1034.56,1503.47 1034.56,47.2441 \n",
       "  \"/>\n",
       "<polyline clip-path=\"url(#clip5102)\" style=\"stroke:#000000; stroke-width:2; stroke-opacity:0.1; fill:none\" points=\"\n",
       "  1361.85,1503.47 1361.85,47.2441 \n",
       "  \"/>\n",
       "<polyline clip-path=\"url(#clip5102)\" style=\"stroke:#000000; stroke-width:2; stroke-opacity:0.1; fill:none\" points=\"\n",
       "  1689.14,1503.47 1689.14,47.2441 \n",
       "  \"/>\n",
       "<polyline clip-path=\"url(#clip5102)\" style=\"stroke:#000000; stroke-width:2; stroke-opacity:0.1; fill:none\" points=\"\n",
       "  2016.44,1503.47 2016.44,47.2441 \n",
       "  \"/>\n",
       "<polyline clip-path=\"url(#clip5102)\" style=\"stroke:#000000; stroke-width:2; stroke-opacity:0.1; fill:none\" points=\"\n",
       "  176.123,1342.58 2321.26,1342.58 \n",
       "  \"/>\n",
       "<polyline clip-path=\"url(#clip5102)\" style=\"stroke:#000000; stroke-width:2; stroke-opacity:0.1; fill:none\" points=\"\n",
       "  176.123,1129.87 2321.26,1129.87 \n",
       "  \"/>\n",
       "<polyline clip-path=\"url(#clip5102)\" style=\"stroke:#000000; stroke-width:2; stroke-opacity:0.1; fill:none\" points=\"\n",
       "  176.123,917.165 2321.26,917.165 \n",
       "  \"/>\n",
       "<polyline clip-path=\"url(#clip5102)\" style=\"stroke:#000000; stroke-width:2; stroke-opacity:0.1; fill:none\" points=\"\n",
       "  176.123,704.46 2321.26,704.46 \n",
       "  \"/>\n",
       "<polyline clip-path=\"url(#clip5102)\" style=\"stroke:#000000; stroke-width:2; stroke-opacity:0.1; fill:none\" points=\"\n",
       "  176.123,491.755 2321.26,491.755 \n",
       "  \"/>\n",
       "<polyline clip-path=\"url(#clip5102)\" style=\"stroke:#000000; stroke-width:2; stroke-opacity:0.1; fill:none\" points=\"\n",
       "  176.123,279.05 2321.26,279.05 \n",
       "  \"/>\n",
       "<polyline clip-path=\"url(#clip5102)\" style=\"stroke:#000000; stroke-width:2; stroke-opacity:0.1; fill:none\" points=\"\n",
       "  176.123,66.3445 2321.26,66.3445 \n",
       "  \"/>\n",
       "<polyline clip-path=\"url(#clip5100)\" style=\"stroke:#000000; stroke-width:4; stroke-opacity:1; fill:none\" points=\"\n",
       "  176.123,1503.47 2321.26,1503.47 \n",
       "  \"/>\n",
       "<polyline clip-path=\"url(#clip5100)\" style=\"stroke:#000000; stroke-width:4; stroke-opacity:1; fill:none\" points=\"\n",
       "  176.123,1503.47 176.123,47.2441 \n",
       "  \"/>\n",
       "<polyline clip-path=\"url(#clip5100)\" style=\"stroke:#000000; stroke-width:4; stroke-opacity:1; fill:none\" points=\"\n",
       "  379.976,1503.47 379.976,1481.63 \n",
       "  \"/>\n",
       "<polyline clip-path=\"url(#clip5100)\" style=\"stroke:#000000; stroke-width:4; stroke-opacity:1; fill:none\" points=\"\n",
       "  707.268,1503.47 707.268,1481.63 \n",
       "  \"/>\n",
       "<polyline clip-path=\"url(#clip5100)\" style=\"stroke:#000000; stroke-width:4; stroke-opacity:1; fill:none\" points=\"\n",
       "  1034.56,1503.47 1034.56,1481.63 \n",
       "  \"/>\n",
       "<polyline clip-path=\"url(#clip5100)\" style=\"stroke:#000000; stroke-width:4; stroke-opacity:1; fill:none\" points=\"\n",
       "  1361.85,1503.47 1361.85,1481.63 \n",
       "  \"/>\n",
       "<polyline clip-path=\"url(#clip5100)\" style=\"stroke:#000000; stroke-width:4; stroke-opacity:1; fill:none\" points=\"\n",
       "  1689.14,1503.47 1689.14,1481.63 \n",
       "  \"/>\n",
       "<polyline clip-path=\"url(#clip5100)\" style=\"stroke:#000000; stroke-width:4; stroke-opacity:1; fill:none\" points=\"\n",
       "  2016.44,1503.47 2016.44,1481.63 \n",
       "  \"/>\n",
       "<polyline clip-path=\"url(#clip5100)\" style=\"stroke:#000000; stroke-width:4; stroke-opacity:1; fill:none\" points=\"\n",
       "  176.123,1342.58 208.3,1342.58 \n",
       "  \"/>\n",
       "<polyline clip-path=\"url(#clip5100)\" style=\"stroke:#000000; stroke-width:4; stroke-opacity:1; fill:none\" points=\"\n",
       "  176.123,1129.87 208.3,1129.87 \n",
       "  \"/>\n",
       "<polyline clip-path=\"url(#clip5100)\" style=\"stroke:#000000; stroke-width:4; stroke-opacity:1; fill:none\" points=\"\n",
       "  176.123,917.165 208.3,917.165 \n",
       "  \"/>\n",
       "<polyline clip-path=\"url(#clip5100)\" style=\"stroke:#000000; stroke-width:4; stroke-opacity:1; fill:none\" points=\"\n",
       "  176.123,704.46 208.3,704.46 \n",
       "  \"/>\n",
       "<polyline clip-path=\"url(#clip5100)\" style=\"stroke:#000000; stroke-width:4; stroke-opacity:1; fill:none\" points=\"\n",
       "  176.123,491.755 208.3,491.755 \n",
       "  \"/>\n",
       "<polyline clip-path=\"url(#clip5100)\" style=\"stroke:#000000; stroke-width:4; stroke-opacity:1; fill:none\" points=\"\n",
       "  176.123,279.05 208.3,279.05 \n",
       "  \"/>\n",
       "<polyline clip-path=\"url(#clip5100)\" style=\"stroke:#000000; stroke-width:4; stroke-opacity:1; fill:none\" points=\"\n",
       "  176.123,66.3445 208.3,66.3445 \n",
       "  \"/>\n",
       "<g clip-path=\"url(#clip5100)\">\n",
       "<text style=\"fill:#000000; fill-opacity:1; font-family:Arial,Helvetica Neue,Helvetica,sans-serif; font-size:48px; text-anchor:middle;\" transform=\"rotate(0, 379.976, 1557.47)\" x=\"379.976\" y=\"1557.47\">-30</text>\n",
       "</g>\n",
       "<g clip-path=\"url(#clip5100)\">\n",
       "<text style=\"fill:#000000; fill-opacity:1; font-family:Arial,Helvetica Neue,Helvetica,sans-serif; font-size:48px; text-anchor:middle;\" transform=\"rotate(0, 707.268, 1557.47)\" x=\"707.268\" y=\"1557.47\">-20</text>\n",
       "</g>\n",
       "<g clip-path=\"url(#clip5100)\">\n",
       "<text style=\"fill:#000000; fill-opacity:1; font-family:Arial,Helvetica Neue,Helvetica,sans-serif; font-size:48px; text-anchor:middle;\" transform=\"rotate(0, 1034.56, 1557.47)\" x=\"1034.56\" y=\"1557.47\">-10</text>\n",
       "</g>\n",
       "<g clip-path=\"url(#clip5100)\">\n",
       "<text style=\"fill:#000000; fill-opacity:1; font-family:Arial,Helvetica Neue,Helvetica,sans-serif; font-size:48px; text-anchor:middle;\" transform=\"rotate(0, 1361.85, 1557.47)\" x=\"1361.85\" y=\"1557.47\">0</text>\n",
       "</g>\n",
       "<g clip-path=\"url(#clip5100)\">\n",
       "<text style=\"fill:#000000; fill-opacity:1; font-family:Arial,Helvetica Neue,Helvetica,sans-serif; font-size:48px; text-anchor:middle;\" transform=\"rotate(0, 1689.14, 1557.47)\" x=\"1689.14\" y=\"1557.47\">10</text>\n",
       "</g>\n",
       "<g clip-path=\"url(#clip5100)\">\n",
       "<text style=\"fill:#000000; fill-opacity:1; font-family:Arial,Helvetica Neue,Helvetica,sans-serif; font-size:48px; text-anchor:middle;\" transform=\"rotate(0, 2016.44, 1557.47)\" x=\"2016.44\" y=\"1557.47\">20</text>\n",
       "</g>\n",
       "<g clip-path=\"url(#clip5100)\">\n",
       "<text style=\"fill:#000000; fill-opacity:1; font-family:Arial,Helvetica Neue,Helvetica,sans-serif; font-size:48px; text-anchor:end;\" transform=\"rotate(0, 152.123, 1360.08)\" x=\"152.123\" y=\"1360.08\">-20</text>\n",
       "</g>\n",
       "<g clip-path=\"url(#clip5100)\">\n",
       "<text style=\"fill:#000000; fill-opacity:1; font-family:Arial,Helvetica Neue,Helvetica,sans-serif; font-size:48px; text-anchor:end;\" transform=\"rotate(0, 152.123, 1147.37)\" x=\"152.123\" y=\"1147.37\">-10</text>\n",
       "</g>\n",
       "<g clip-path=\"url(#clip5100)\">\n",
       "<text style=\"fill:#000000; fill-opacity:1; font-family:Arial,Helvetica Neue,Helvetica,sans-serif; font-size:48px; text-anchor:end;\" transform=\"rotate(0, 152.123, 934.665)\" x=\"152.123\" y=\"934.665\">0</text>\n",
       "</g>\n",
       "<g clip-path=\"url(#clip5100)\">\n",
       "<text style=\"fill:#000000; fill-opacity:1; font-family:Arial,Helvetica Neue,Helvetica,sans-serif; font-size:48px; text-anchor:end;\" transform=\"rotate(0, 152.123, 721.96)\" x=\"152.123\" y=\"721.96\">10</text>\n",
       "</g>\n",
       "<g clip-path=\"url(#clip5100)\">\n",
       "<text style=\"fill:#000000; fill-opacity:1; font-family:Arial,Helvetica Neue,Helvetica,sans-serif; font-size:48px; text-anchor:end;\" transform=\"rotate(0, 152.123, 509.255)\" x=\"152.123\" y=\"509.255\">20</text>\n",
       "</g>\n",
       "<g clip-path=\"url(#clip5100)\">\n",
       "<text style=\"fill:#000000; fill-opacity:1; font-family:Arial,Helvetica Neue,Helvetica,sans-serif; font-size:48px; text-anchor:end;\" transform=\"rotate(0, 152.123, 296.55)\" x=\"152.123\" y=\"296.55\">30</text>\n",
       "</g>\n",
       "<g clip-path=\"url(#clip5100)\">\n",
       "<text style=\"fill:#000000; fill-opacity:1; font-family:Arial,Helvetica Neue,Helvetica,sans-serif; font-size:48px; text-anchor:end;\" transform=\"rotate(0, 152.123, 83.8445)\" x=\"152.123\" y=\"83.8445\">40</text>\n",
       "</g>\n",
       "<polygon clip-path=\"url(#clip5102)\" points=\"\n",
       "236.834,1462.26 239.361,1462.26 314.213,1460.06 349.582,1458.74 376.48,1457.47 407.04,1455.61 500.177,1447.22 516.534,1445.69 526.137,1444.35 556.201,1439.57 \n",
       "  577.483,1435.75 626.331,1426.47 689.349,1412.39 717.266,1405.94 735.889,1401.21 757.871,1395.13 767.95,1392.13 811.935,1378.11 856.797,1363.33 891.265,1351.69 \n",
       "  901.559,1347.91 920.631,1340.54 998.564,1309.75 1007.73,1305.92 1096.83,1266.74 1111.51,1259.78 1172.65,1230.17 1179.83,1226.49 1264.85,1180.93 1286.63,1168.78 \n",
       "  1302.39,1159.67 1342.89,1135.97 1359.45,1125.96 1420.54,1087.4 1453.86,1064.78 1510.81,1025.42 1547.94,999.265 1570.17,982.882 1583.51,972.506 1617.85,944.686 \n",
       "  1634.99,930.622 1660.16,909.079 1710.95,863.954 1727.2,849.099 1774.71,804.32 1800.9,779.22 1859.61,722.072 1941.98,639.853 1996.51,584.157 2012.94,567.093 \n",
       "  2048.45,528.496 2060.03,515.199 2102.14,465.818 2109.2,457.391 2133.74,427.357 2137.6,422.416 2148.75,406.127 2154.83,395.996 2162.93,381.352 2180.28,349.069 \n",
       "  2200.76,309.145 2206.79,295.56 2216.78,271.752 2228.75,240.186 2233.82,225.07 2237.67,212.448 2240.85,201.316 2246.03,180.428 2257.66,130.917 2259.09,122.187 \n",
       "  2259.48,116.14 2260.55,90.9148 2260.55,88.4582 2258.02,88.4582 2183.17,90.6566 2147.8,91.98 2120.9,93.2485 2090.34,95.1101 1997.21,103.498 1980.85,105.025 \n",
       "  1971.25,106.365 1941.18,111.144 1919.9,114.965 1871.05,124.252 1808.03,138.333 1780.12,144.779 1761.49,149.506 1739.51,155.591 1729.43,158.593 1685.45,172.609 \n",
       "  1640.59,187.384 1606.12,199.026 1595.82,202.805 1576.75,210.183 1498.82,240.969 1489.66,244.802 1400.55,283.982 1385.88,290.943 1324.73,320.551 1317.55,324.232 \n",
       "  1232.54,369.793 1210.75,381.937 1194.99,391.053 1154.49,414.745 1137.94,424.76 1076.85,463.318 1043.52,485.94 986.575,525.301 949.444,551.454 927.216,567.837 \n",
       "  913.878,578.213 879.537,606.033 862.398,620.097 837.221,641.64 786.436,686.765 770.187,701.619 722.673,746.398 696.482,771.499 637.775,828.647 555.4,910.866 \n",
       "  500.873,966.562 484.446,983.626 448.929,1022.22 437.357,1035.52 395.245,1084.9 388.182,1093.33 363.645,1123.36 359.786,1128.3 348.63,1144.59 342.555,1154.72 \n",
       "  334.453,1169.37 317.101,1201.65 296.624,1241.57 290.595,1255.16 280.6,1278.97 268.629,1310.53 263.565,1325.65 259.711,1338.27 256.53,1349.4 251.355,1370.29 \n",
       "  239.722,1419.8 238.295,1428.53 237.899,1434.58 236.834,1459.8 236.834,1462.26 236.834,1462.26 \n",
       "  \" fill=\"#009af9\" fill-rule=\"evenodd\" fill-opacity=\"0.5\"/>\n",
       "<polyline clip-path=\"url(#clip5102)\" style=\"stroke:#000000; stroke-width:4; stroke-opacity:0.5; fill:none\" points=\"\n",
       "  236.834,1462.26 239.361,1462.26 314.213,1460.06 349.582,1458.74 376.48,1457.47 407.04,1455.61 500.177,1447.22 516.534,1445.69 526.137,1444.35 556.201,1439.57 \n",
       "  577.483,1435.75 626.331,1426.47 689.349,1412.39 717.266,1405.94 735.889,1401.21 757.871,1395.13 767.95,1392.13 811.935,1378.11 856.797,1363.33 891.265,1351.69 \n",
       "  901.559,1347.91 920.631,1340.54 998.564,1309.75 1007.73,1305.92 1096.83,1266.74 1111.51,1259.78 1172.65,1230.17 1179.83,1226.49 1264.85,1180.93 1286.63,1168.78 \n",
       "  1302.39,1159.67 1342.89,1135.97 1359.45,1125.96 1420.54,1087.4 1453.86,1064.78 1510.81,1025.42 1547.94,999.265 1570.17,982.882 1583.51,972.506 1617.85,944.686 \n",
       "  1634.99,930.622 1660.16,909.079 1710.95,863.954 1727.2,849.099 1774.71,804.32 1800.9,779.22 1859.61,722.072 1941.98,639.853 1996.51,584.157 2012.94,567.093 \n",
       "  2048.45,528.496 2060.03,515.199 2102.14,465.818 2109.2,457.391 2133.74,427.357 2137.6,422.416 2148.75,406.127 2154.83,395.996 2162.93,381.352 2180.28,349.069 \n",
       "  2200.76,309.145 2206.79,295.56 2216.78,271.752 2228.75,240.186 2233.82,225.07 2237.67,212.448 2240.85,201.316 2246.03,180.428 2257.66,130.917 2259.09,122.187 \n",
       "  2259.48,116.14 2260.55,90.9148 2260.55,88.4582 2258.02,88.4582 2183.17,90.6566 2147.8,91.98 2120.9,93.2485 2090.34,95.1101 1997.21,103.498 1980.85,105.025 \n",
       "  1971.25,106.365 1941.18,111.144 1919.9,114.965 1871.05,124.252 1808.03,138.333 1780.12,144.779 1761.49,149.506 1739.51,155.591 1729.43,158.593 1685.45,172.609 \n",
       "  1640.59,187.384 1606.12,199.026 1595.82,202.805 1576.75,210.183 1498.82,240.969 1489.66,244.802 1400.55,283.982 1385.88,290.943 1324.73,320.551 1317.55,324.232 \n",
       "  1232.54,369.793 1210.75,381.937 1194.99,391.053 1154.49,414.745 1137.94,424.76 1076.85,463.318 1043.52,485.94 986.575,525.301 949.444,551.454 927.216,567.837 \n",
       "  913.878,578.213 879.537,606.033 862.398,620.097 837.221,641.64 786.436,686.765 770.187,701.619 722.673,746.398 696.482,771.499 637.775,828.647 555.4,910.866 \n",
       "  500.873,966.562 484.446,983.626 448.929,1022.22 437.357,1035.52 395.245,1084.9 388.182,1093.33 363.645,1123.36 359.786,1128.3 348.63,1144.59 342.555,1154.72 \n",
       "  334.453,1169.37 317.101,1201.65 296.624,1241.57 290.595,1255.16 280.6,1278.97 268.629,1310.53 263.565,1325.65 259.711,1338.27 256.53,1349.4 251.355,1370.29 \n",
       "  239.722,1419.8 238.295,1428.53 237.899,1434.58 236.834,1459.8 236.834,1462.26 \n",
       "  \"/>\n",
       "</svg>\n"
      ]
     },
     "execution_count": 75,
     "metadata": {},
     "output_type": "execute_result"
    }
   ],
   "source": [
    "plot(overapproximate(P, HPolygon, 1e-2))"
   ]
  },
  {
   "cell_type": "code",
   "execution_count": 80,
   "metadata": {
    "slideshow": {
     "slide_type": "subslide"
    }
   },
   "outputs": [
    {
     "name": "stdout",
     "output_type": "stream",
     "text": [
      "  16.663 ms (10893 allocations: 2.97 MiB)\n"
     ]
    },
    {
     "data": {
      "text/plain": [
       "HPolygon{Float64}(HalfSpace{Float64,VN} where VN<:AbstractArray{Float64,1}[HalfSpace{Float64,Array{Float64,1}}([1.0, 0.0], 59.3398), HalfSpace{Float64,Array{Float64,1}}([0.980785, 0.19509], 71.9015), HalfSpace{Float64,Array{Float64,1}}([0.92388, 0.382683], 81.7768), HalfSpace{Float64,Array{Float64,1}}([0.83147, 0.55557], 88.5864), HalfSpace{Float64,Array{Float64,1}}([0.707107, 0.707107], 92.0686), HalfSpace{Float64,Array{Float64,1}}([0.55557, 0.83147], 92.0894), HalfSpace{Float64,Array{Float64,1}}([0.382683, 0.92388], 88.6482), HalfSpace{Float64,Array{Float64,1}}([0.19509, 0.980785], 81.8771), HalfSpace{Float64,Array{Float64,1}}([0.0, 1.0], 72.0363), HalfSpace{Float64,Array{Float64,1}}([-0.0444605, 0.999011], 69.4208)  …  HalfSpace{Float64,Array{Float64,1}}([0.964989, -0.262291], 39.9318), HalfSpace{Float64,Array{Float64,1}}([0.970962, -0.239233], 41.6829), HalfSpace{Float64,Array{Float64,1}}([0.977136, -0.212617], 43.7054), HalfSpace{Float64,Array{Float64,1}}([0.980848, -0.194775], 45.0502), HalfSpace{Float64,Array{Float64,1}}([0.983167, -0.182712], 45.9559), HalfSpace{Float64,Array{Float64,1}}([0.987516, -0.157518], 47.8345), HalfSpace{Float64,Array{Float64,1}}([0.98866, -0.150174], 48.3841), HalfSpace{Float64,Array{Float64,1}}([0.99458, -0.103978], 51.8667), HalfSpace{Float64,Array{Float64,1}}([0.999056, -0.0434322], 56.2681), HalfSpace{Float64,Array{Float64,1}}([0.999633, -0.0271011], 57.4238)])"
      ]
     },
     "execution_count": 80,
     "metadata": {},
     "output_type": "execute_result"
    }
   ],
   "source": [
    "@btime overapproximate($P, HPolygon, 1e-2)"
   ]
  },
  {
   "cell_type": "code",
   "execution_count": 81,
   "metadata": {
    "slideshow": {
     "slide_type": "subslide"
    }
   },
   "outputs": [],
   "source": [
    "f(B) = M * H ⊕ B\n",
    "B = Ball2(100 * rand(100), 2.0)\n",
    "P = project(f(B), [99, 100], LinearMap);"
   ]
  },
  {
   "cell_type": "code",
   "execution_count": 79,
   "metadata": {
    "slideshow": {
     "slide_type": "subslide"
    }
   },
   "outputs": [
    {
     "name": "stdout",
     "output_type": "stream",
     "text": [
      "  61.150 ns (2 allocations: 64 bytes)\n"
     ]
    },
    {
     "data": {
      "text/plain": [
       "MinkowskiSum{Float64,LinearMap{Float64,Hyperrectangle{Float64},Float64,Array{Float64,2}},Ball2{Float64}}(LinearMap{Float64,Hyperrectangle{Float64},Float64,Array{Float64,2}}([0.850733 0.829261 … 0.24797 0.262343; 0.589077 0.342921 … 0.381546 0.0782568; … ; 0.300484 0.279613 … 0.0927591 0.446477; 0.909262 0.294161 … 0.494402 0.734955], Hyperrectangle{Float64}([-0.703713, 0.157051, -0.672884, -0.254412, 1.07036, 0.157169, -0.0758222, 0.218267, -2.83684, -0.0165159  …  1.16904, 0.710912, 0.35657, 1.61172, -1.20456, -0.41658, -0.197501, 1.65477, 2.71736, 1.25608], [0.137156, 0.496576, 0.122476, 0.33142, 2.2767, 0.622647, 0.00417522, 0.0716649, 1.50485, 1.17094  …  0.193609, 1.34673, 1.05655, 0.138119, 1.31267, 0.0610448, 0.310624, 2.00374, 0.0733485, 1.04473])), Ball2{Float64}([76.4493, 92.8461, 91.3955, 7.13363, 17.7478, 20.4587, 29.317, 33.3211, 18.9079, 43.6403  …  49.3594, 23.784, 5.7038, 12.9211, 72.8995, 56.2226, 92.5188, 87.691, 29.8813, 31.076], 2.0))"
      ]
     },
     "execution_count": 79,
     "metadata": {},
     "output_type": "execute_result"
    }
   ],
   "source": [
    "@btime f($B)"
   ]
  },
  {
   "cell_type": "code",
   "execution_count": 68,
   "metadata": {
    "slideshow": {
     "slide_type": "subslide"
    }
   },
   "outputs": [
    {
     "data": {
      "image/svg+xml": [
       "<?xml version=\"1.0\" encoding=\"utf-8\"?>\n",
       "<svg xmlns=\"http://www.w3.org/2000/svg\" xmlns:xlink=\"http://www.w3.org/1999/xlink\" width=\"600\" height=\"400\" viewBox=\"0 0 2400 1600\">\n",
       "<defs>\n",
       "  <clipPath id=\"clip4700\">\n",
       "    <rect x=\"0\" y=\"0\" width=\"2400\" height=\"1600\"/>\n",
       "  </clipPath>\n",
       "</defs>\n",
       "<polygon clip-path=\"url(#clip4700)\" points=\"\n",
       "0,1600 2400,1600 2400,0 0,0 \n",
       "  \" fill=\"#ffffff\" fill-rule=\"evenodd\" fill-opacity=\"1\"/>\n",
       "<defs>\n",
       "  <clipPath id=\"clip4701\">\n",
       "    <rect x=\"480\" y=\"0\" width=\"1681\" height=\"1600\"/>\n",
       "  </clipPath>\n",
       "</defs>\n",
       "<polygon clip-path=\"url(#clip4700)\" points=\"\n",
       "176.123,1503.47 2321.26,1503.47 2321.26,47.2441 176.123,47.2441 \n",
       "  \" fill=\"#ffffff\" fill-rule=\"evenodd\" fill-opacity=\"1\"/>\n",
       "<defs>\n",
       "  <clipPath id=\"clip4702\">\n",
       "    <rect x=\"176\" y=\"47\" width=\"2146\" height=\"1457\"/>\n",
       "  </clipPath>\n",
       "</defs>\n",
       "<polyline clip-path=\"url(#clip4702)\" style=\"stroke:#000000; stroke-width:2; stroke-opacity:0.1; fill:none\" points=\"\n",
       "  228,1503.47 228,47.2441 \n",
       "  \"/>\n",
       "<polyline clip-path=\"url(#clip4702)\" style=\"stroke:#000000; stroke-width:2; stroke-opacity:0.1; fill:none\" points=\"\n",
       "  750.638,1503.47 750.638,47.2441 \n",
       "  \"/>\n",
       "<polyline clip-path=\"url(#clip4702)\" style=\"stroke:#000000; stroke-width:2; stroke-opacity:0.1; fill:none\" points=\"\n",
       "  1273.28,1503.47 1273.28,47.2441 \n",
       "  \"/>\n",
       "<polyline clip-path=\"url(#clip4702)\" style=\"stroke:#000000; stroke-width:2; stroke-opacity:0.1; fill:none\" points=\"\n",
       "  1795.92,1503.47 1795.92,47.2441 \n",
       "  \"/>\n",
       "<polyline clip-path=\"url(#clip4702)\" style=\"stroke:#000000; stroke-width:2; stroke-opacity:0.1; fill:none\" points=\"\n",
       "  2318.55,1503.47 2318.55,47.2441 \n",
       "  \"/>\n",
       "<polyline clip-path=\"url(#clip4702)\" style=\"stroke:#000000; stroke-width:2; stroke-opacity:0.1; fill:none\" points=\"\n",
       "  176.123,1294.24 2321.26,1294.24 \n",
       "  \"/>\n",
       "<polyline clip-path=\"url(#clip4702)\" style=\"stroke:#000000; stroke-width:2; stroke-opacity:0.1; fill:none\" points=\"\n",
       "  176.123,1047.08 2321.26,1047.08 \n",
       "  \"/>\n",
       "<polyline clip-path=\"url(#clip4702)\" style=\"stroke:#000000; stroke-width:2; stroke-opacity:0.1; fill:none\" points=\"\n",
       "  176.123,799.924 2321.26,799.924 \n",
       "  \"/>\n",
       "<polyline clip-path=\"url(#clip4702)\" style=\"stroke:#000000; stroke-width:2; stroke-opacity:0.1; fill:none\" points=\"\n",
       "  176.123,552.763 2321.26,552.763 \n",
       "  \"/>\n",
       "<polyline clip-path=\"url(#clip4702)\" style=\"stroke:#000000; stroke-width:2; stroke-opacity:0.1; fill:none\" points=\"\n",
       "  176.123,305.603 2321.26,305.603 \n",
       "  \"/>\n",
       "<polyline clip-path=\"url(#clip4702)\" style=\"stroke:#000000; stroke-width:2; stroke-opacity:0.1; fill:none\" points=\"\n",
       "  176.123,58.4423 2321.26,58.4423 \n",
       "  \"/>\n",
       "<polyline clip-path=\"url(#clip4700)\" style=\"stroke:#000000; stroke-width:4; stroke-opacity:1; fill:none\" points=\"\n",
       "  176.123,1503.47 2321.26,1503.47 \n",
       "  \"/>\n",
       "<polyline clip-path=\"url(#clip4700)\" style=\"stroke:#000000; stroke-width:4; stroke-opacity:1; fill:none\" points=\"\n",
       "  176.123,1503.47 176.123,47.2441 \n",
       "  \"/>\n",
       "<polyline clip-path=\"url(#clip4700)\" style=\"stroke:#000000; stroke-width:4; stroke-opacity:1; fill:none\" points=\"\n",
       "  228,1503.47 228,1481.63 \n",
       "  \"/>\n",
       "<polyline clip-path=\"url(#clip4700)\" style=\"stroke:#000000; stroke-width:4; stroke-opacity:1; fill:none\" points=\"\n",
       "  750.638,1503.47 750.638,1481.63 \n",
       "  \"/>\n",
       "<polyline clip-path=\"url(#clip4700)\" style=\"stroke:#000000; stroke-width:4; stroke-opacity:1; fill:none\" points=\"\n",
       "  1273.28,1503.47 1273.28,1481.63 \n",
       "  \"/>\n",
       "<polyline clip-path=\"url(#clip4700)\" style=\"stroke:#000000; stroke-width:4; stroke-opacity:1; fill:none\" points=\"\n",
       "  1795.92,1503.47 1795.92,1481.63 \n",
       "  \"/>\n",
       "<polyline clip-path=\"url(#clip4700)\" style=\"stroke:#000000; stroke-width:4; stroke-opacity:1; fill:none\" points=\"\n",
       "  2318.55,1503.47 2318.55,1481.63 \n",
       "  \"/>\n",
       "<polyline clip-path=\"url(#clip4700)\" style=\"stroke:#000000; stroke-width:4; stroke-opacity:1; fill:none\" points=\"\n",
       "  176.123,1294.24 208.3,1294.24 \n",
       "  \"/>\n",
       "<polyline clip-path=\"url(#clip4700)\" style=\"stroke:#000000; stroke-width:4; stroke-opacity:1; fill:none\" points=\"\n",
       "  176.123,1047.08 208.3,1047.08 \n",
       "  \"/>\n",
       "<polyline clip-path=\"url(#clip4700)\" style=\"stroke:#000000; stroke-width:4; stroke-opacity:1; fill:none\" points=\"\n",
       "  176.123,799.924 208.3,799.924 \n",
       "  \"/>\n",
       "<polyline clip-path=\"url(#clip4700)\" style=\"stroke:#000000; stroke-width:4; stroke-opacity:1; fill:none\" points=\"\n",
       "  176.123,552.763 208.3,552.763 \n",
       "  \"/>\n",
       "<polyline clip-path=\"url(#clip4700)\" style=\"stroke:#000000; stroke-width:4; stroke-opacity:1; fill:none\" points=\"\n",
       "  176.123,305.603 208.3,305.603 \n",
       "  \"/>\n",
       "<polyline clip-path=\"url(#clip4700)\" style=\"stroke:#000000; stroke-width:4; stroke-opacity:1; fill:none\" points=\"\n",
       "  176.123,58.4423 208.3,58.4423 \n",
       "  \"/>\n",
       "<g clip-path=\"url(#clip4700)\">\n",
       "<text style=\"fill:#000000; fill-opacity:1; font-family:Arial,Helvetica Neue,Helvetica,sans-serif; font-size:48px; text-anchor:middle;\" transform=\"rotate(0, 228, 1557.47)\" x=\"228\" y=\"1557.47\">-40</text>\n",
       "</g>\n",
       "<g clip-path=\"url(#clip4700)\">\n",
       "<text style=\"fill:#000000; fill-opacity:1; font-family:Arial,Helvetica Neue,Helvetica,sans-serif; font-size:48px; text-anchor:middle;\" transform=\"rotate(0, 750.638, 1557.47)\" x=\"750.638\" y=\"1557.47\">-20</text>\n",
       "</g>\n",
       "<g clip-path=\"url(#clip4700)\">\n",
       "<text style=\"fill:#000000; fill-opacity:1; font-family:Arial,Helvetica Neue,Helvetica,sans-serif; font-size:48px; text-anchor:middle;\" transform=\"rotate(0, 1273.28, 1557.47)\" x=\"1273.28\" y=\"1557.47\">0</text>\n",
       "</g>\n",
       "<g clip-path=\"url(#clip4700)\">\n",
       "<text style=\"fill:#000000; fill-opacity:1; font-family:Arial,Helvetica Neue,Helvetica,sans-serif; font-size:48px; text-anchor:middle;\" transform=\"rotate(0, 1795.92, 1557.47)\" x=\"1795.92\" y=\"1557.47\">20</text>\n",
       "</g>\n",
       "<g clip-path=\"url(#clip4700)\">\n",
       "<text style=\"fill:#000000; fill-opacity:1; font-family:Arial,Helvetica Neue,Helvetica,sans-serif; font-size:48px; text-anchor:middle;\" transform=\"rotate(0, 2318.55, 1557.47)\" x=\"2318.55\" y=\"1557.47\">40</text>\n",
       "</g>\n",
       "<g clip-path=\"url(#clip4700)\">\n",
       "<text style=\"fill:#000000; fill-opacity:1; font-family:Arial,Helvetica Neue,Helvetica,sans-serif; font-size:48px; text-anchor:end;\" transform=\"rotate(0, 152.123, 1311.74)\" x=\"152.123\" y=\"1311.74\">-25</text>\n",
       "</g>\n",
       "<g clip-path=\"url(#clip4700)\">\n",
       "<text style=\"fill:#000000; fill-opacity:1; font-family:Arial,Helvetica Neue,Helvetica,sans-serif; font-size:48px; text-anchor:end;\" transform=\"rotate(0, 152.123, 1064.58)\" x=\"152.123\" y=\"1064.58\">0</text>\n",
       "</g>\n",
       "<g clip-path=\"url(#clip4700)\">\n",
       "<text style=\"fill:#000000; fill-opacity:1; font-family:Arial,Helvetica Neue,Helvetica,sans-serif; font-size:48px; text-anchor:end;\" transform=\"rotate(0, 152.123, 817.424)\" x=\"152.123\" y=\"817.424\">25</text>\n",
       "</g>\n",
       "<g clip-path=\"url(#clip4700)\">\n",
       "<text style=\"fill:#000000; fill-opacity:1; font-family:Arial,Helvetica Neue,Helvetica,sans-serif; font-size:48px; text-anchor:end;\" transform=\"rotate(0, 152.123, 570.263)\" x=\"152.123\" y=\"570.263\">50</text>\n",
       "</g>\n",
       "<g clip-path=\"url(#clip4700)\">\n",
       "<text style=\"fill:#000000; fill-opacity:1; font-family:Arial,Helvetica Neue,Helvetica,sans-serif; font-size:48px; text-anchor:end;\" transform=\"rotate(0, 152.123, 323.103)\" x=\"152.123\" y=\"323.103\">75</text>\n",
       "</g>\n",
       "<g clip-path=\"url(#clip4700)\">\n",
       "<text style=\"fill:#000000; fill-opacity:1; font-family:Arial,Helvetica Neue,Helvetica,sans-serif; font-size:48px; text-anchor:end;\" transform=\"rotate(0, 152.123, 75.9423)\" x=\"152.123\" y=\"75.9423\">100</text>\n",
       "</g>\n",
       "<polygon clip-path=\"url(#clip4702)\" points=\"\n",
       "236.834,1462.26 241.689,1462.26 271.793,1461.85 300.632,1461.37 312.502,1461.01 402.45,1457.21 404.87,1457.09 429.489,1455.15 435.092,1454.6 471.78,1450.32 \n",
       "  549.315,1440.03 575.932,1436.29 596.288,1433.21 627.421,1428.39 632.692,1427.52 695.622,1415.81 753.373,1404.76 776.376,1400.24 865.796,1380.11 877.627,1377.4 \n",
       "  929.391,1365.34 938.37,1363.18 985.003,1351.39 997.494,1348.15 1027.68,1339.95 1045.4,1334.17 1054.67,1331.05 1100.03,1315.43 1156.12,1295.72 1168.85,1290.91 \n",
       "  1184.37,1284.91 1237.96,1263.91 1245.43,1260.88 1327.97,1226.68 1374.73,1206.05 1375.44,1205.72 1403.44,1191.84 1407.83,1189.61 1468.41,1157.51 1478.66,1151.95 \n",
       "  1516.4,1130.72 1531.94,1121.64 1556.99,1106.82 1598.81,1081.65 1613.06,1072.62 1621.83,1066.87 1641.85,1052.33 1660.84,1038.35 1680.93,1023.19 1703.06,1005.56 \n",
       "  1705.43,1003.6 1721.68,988.844 1728.8,982.121 1752.96,958.826 1754.94,956.767 1776.15,932.337 1783.64,923.583 1803.39,900.07 1818.11,881.556 1819.12,880.103 \n",
       "  1825.34,869.475 1834.51,851.981 1846.77,827.748 1853.16,814.423 1866.06,782.566 1874.02,762.136 1881.8,740.693 1886.18,724.783 1889.65,710.721 1890.25,706.603 \n",
       "  1891.98,686.927 1892.35,680.483 1892.35,669.993 1887.5,669.993 1857.39,670.406 1828.55,670.882 1816.68,671.245 1726.74,675.047 1724.32,675.166 1699.7,677.104 \n",
       "  1694.09,677.653 1657.41,681.931 1579.87,692.222 1553.25,695.961 1532.9,699.042 1501.76,703.867 1496.49,704.737 1433.56,716.444 1375.81,727.494 1352.81,732.009 \n",
       "  1263.39,752.145 1251.56,754.85 1199.79,766.909 1190.82,769.072 1144.18,780.859 1131.69,784.108 1101.5,792.306 1083.79,798.079 1074.51,801.208 1029.16,816.823 \n",
       "  973.064,836.536 960.338,841.349 944.815,847.341 891.223,868.349 883.753,871.378 801.214,905.573 754.455,926.201 753.75,926.539 725.749,940.417 721.351,942.641 \n",
       "  660.776,974.742 650.523,980.304 612.788,1001.54 597.246,1010.61 572.2,1025.44 530.38,1050.6 516.124,1059.64 507.36,1065.38 487.336,1079.92 468.342,1093.91 \n",
       "  448.259,1109.06 426.13,1126.69 423.755,1128.65 407.506,1143.41 400.388,1150.13 376.23,1173.43 374.243,1175.49 353.032,1199.92 345.547,1208.67 325.793,1232.18 \n",
       "  311.075,1250.7 310.065,1252.15 303.842,1262.78 294.678,1280.27 282.418,1304.51 276.027,1317.83 263.125,1349.69 255.167,1370.12 247.39,1391.56 243.003,1407.47 \n",
       "  239.535,1421.53 238.933,1425.65 237.204,1445.33 236.834,1451.77 236.834,1462.26 236.834,1462.26 \n",
       "  \" fill=\"#009af9\" fill-rule=\"evenodd\" fill-opacity=\"0.5\"/>\n",
       "<polyline clip-path=\"url(#clip4702)\" style=\"stroke:#000000; stroke-width:4; stroke-opacity:0.5; fill:none\" points=\"\n",
       "  236.834,1462.26 241.689,1462.26 271.793,1461.85 300.632,1461.37 312.502,1461.01 402.45,1457.21 404.87,1457.09 429.489,1455.15 435.092,1454.6 471.78,1450.32 \n",
       "  549.315,1440.03 575.932,1436.29 596.288,1433.21 627.421,1428.39 632.692,1427.52 695.622,1415.81 753.373,1404.76 776.376,1400.24 865.796,1380.11 877.627,1377.4 \n",
       "  929.391,1365.34 938.37,1363.18 985.003,1351.39 997.494,1348.15 1027.68,1339.95 1045.4,1334.17 1054.67,1331.05 1100.03,1315.43 1156.12,1295.72 1168.85,1290.91 \n",
       "  1184.37,1284.91 1237.96,1263.91 1245.43,1260.88 1327.97,1226.68 1374.73,1206.05 1375.44,1205.72 1403.44,1191.84 1407.83,1189.61 1468.41,1157.51 1478.66,1151.95 \n",
       "  1516.4,1130.72 1531.94,1121.64 1556.99,1106.82 1598.81,1081.65 1613.06,1072.62 1621.83,1066.87 1641.85,1052.33 1660.84,1038.35 1680.93,1023.19 1703.06,1005.56 \n",
       "  1705.43,1003.6 1721.68,988.844 1728.8,982.121 1752.96,958.826 1754.94,956.767 1776.15,932.337 1783.64,923.583 1803.39,900.07 1818.11,881.556 1819.12,880.103 \n",
       "  1825.34,869.475 1834.51,851.981 1846.77,827.748 1853.16,814.423 1866.06,782.566 1874.02,762.136 1881.8,740.693 1886.18,724.783 1889.65,710.721 1890.25,706.603 \n",
       "  1891.98,686.927 1892.35,680.483 1892.35,669.993 1887.5,669.993 1857.39,670.406 1828.55,670.882 1816.68,671.245 1726.74,675.047 1724.32,675.166 1699.7,677.104 \n",
       "  1694.09,677.653 1657.41,681.931 1579.87,692.222 1553.25,695.961 1532.9,699.042 1501.76,703.867 1496.49,704.737 1433.56,716.444 1375.81,727.494 1352.81,732.009 \n",
       "  1263.39,752.145 1251.56,754.85 1199.79,766.909 1190.82,769.072 1144.18,780.859 1131.69,784.108 1101.5,792.306 1083.79,798.079 1074.51,801.208 1029.16,816.823 \n",
       "  973.064,836.536 960.338,841.349 944.815,847.341 891.223,868.349 883.753,871.378 801.214,905.573 754.455,926.201 753.75,926.539 725.749,940.417 721.351,942.641 \n",
       "  660.776,974.742 650.523,980.304 612.788,1001.54 597.246,1010.61 572.2,1025.44 530.38,1050.6 516.124,1059.64 507.36,1065.38 487.336,1079.92 468.342,1093.91 \n",
       "  448.259,1109.06 426.13,1126.69 423.755,1128.65 407.506,1143.41 400.388,1150.13 376.23,1173.43 374.243,1175.49 353.032,1199.92 345.547,1208.67 325.793,1232.18 \n",
       "  311.075,1250.7 310.065,1252.15 303.842,1262.78 294.678,1280.27 282.418,1304.51 276.027,1317.83 263.125,1349.69 255.167,1370.12 247.39,1391.56 243.003,1407.47 \n",
       "  239.535,1421.53 238.933,1425.65 237.204,1445.33 236.834,1451.77 236.834,1462.26 \n",
       "  \"/>\n",
       "<polygon clip-path=\"url(#clip4702)\" points=\"\n",
       "500.504,900.984 500.63,901.954 500.881,902.92 501.258,903.88 501.758,904.832 502.382,905.774 503.127,906.703 503.991,907.617 504.973,908.514 506.07,909.391 \n",
       "  507.28,910.247 508.599,911.08 510.025,911.887 511.553,912.667 513.181,913.417 514.904,914.137 516.719,914.823 518.62,915.475 520.604,916.091 522.665,916.669 \n",
       "  524.798,917.209 526.999,917.708 529.262,918.165 531.582,918.58 533.953,918.952 536.369,919.279 538.824,919.561 541.313,919.797 543.83,919.986 546.368,920.129 \n",
       "  548.922,920.224 551.485,920.271 553.282,920.271 564.808,920.186 566.629,920.161 612.863,919.462 614.63,919.433 624.777,919.176 629.92,919.039 633.027,918.944 \n",
       "  636.751,918.796 725.345,915.044 727.02,914.954 732.962,914.554 734.183,914.47 736.311,914.298 759.71,912.398 761.049,912.285 763.26,912.06 766.438,911.696 \n",
       "  796.879,908.183 797.872,908.065 808.542,906.716 816.595,905.683 819.615,905.28 895.131,895.162 895.782,895.073 922.643,891.169 931.549,889.822 934.915,889.301 \n",
       "  966.419,884.387 967.668,884.189 969.152,883.922 979.398,882.064 979.89,881.972 1043.89,870.018 1044.16,869.967 1100.47,859.138 1100.93,859.049 1116.27,856.056 \n",
       "  1117.6,855.792 1121.28,854.969 1210.86,834.79 1212.21,834.48 1239.55,828.15 1241.99,827.581 1277.8,819.2 1280.05,818.658 1292.07,815.653 1302.24,813.084 \n",
       "  1336.88,804.28 1337.98,803.991 1367.71,795.983 1373.19,794.484 1375.75,793.75 1378.04,793.065 1379.16,792.702 1403.35,784.73 1405.26,784.086 1432.65,774.656 \n",
       "  1480.5,757.968 1483.88,756.789 1503.44,749.914 1513.96,746.064 1517.48,744.737 1530.97,739.564 1538.32,736.726 1591.81,715.754 1592.28,715.561 1681,678.875 \n",
       "  1683.04,678.028 1691.68,674.216 1731.03,656.852 1732.42,656.195 1760.75,642.155 1762.55,641.247 1777.97,633.156 1780.54,631.794 1830.64,605.2 1830.98,605.016 \n",
       "  1844.4,597.538 1860.5,588.542 1870.87,582.707 1871.95,582.089 1885.95,574.012 1886.09,573.926 1912.94,558.077 1913.62,557.679 1950.59,535.465 1959.32,530.212 \n",
       "  1959.95,529.813 1981.34,516.1 1981.84,515.768 1986.92,512.202 1989.35,510.441 2013.16,493.063 2014.78,491.871 2025.93,483.563 2032.77,478.446 2042.39,471.186 \n",
       "  2047.67,467.043 2052.18,463.449 2068,450.802 2068.9,450.059 2071.03,448.131 2085.95,434.604 2086.95,433.662 2107.62,413.85 2108.7,412.812 2119.55,402.225 \n",
       "  2119.92,401.842 2120.59,401.091 2133.27,386.51 2141.74,376.741 2145.12,372.792 2163.47,351.046 2169.06,344.383 2177.38,333.936 2183.87,325.763 2184.44,325.035 \n",
       "  2184.83,324.483 2185.74,323.022 2186.18,322.296 2192.08,312.364 2192.39,311.851 2193.86,309.053 2204.18,289.182 2204.21,289.111 2216.96,263.59 2217.24,263.019 \n",
       "  2219.14,259.063 2226.01,242.669 2226.39,241.726 2235.57,218.864 2236.12,217.475 2240.9,205.187 2242.08,202.091 2243.78,197.411 2250.1,179.566 2250.19,179.249 \n",
       "  2252.97,168.885 2254.73,162.162 2256.72,154.467 2257.25,152.306 2258.3,146.441 2258.4,145.716 2260.14,126.001 2260.26,123.996 2260.27,123.328 2260.55,108.299 \n",
       "  2260.55,107.746 2260.42,106.776 2260.17,105.81 2259.79,104.85 2259.29,103.897 2258.67,102.956 2257.93,102.027 2257.06,101.113 2256.08,100.216 2254.98,99.3382 \n",
       "  2253.77,98.4821 2252.45,97.6494 2251.03,96.8422 2249.5,96.0625 2247.87,95.312 2246.15,94.5927 2244.33,93.9063 2242.43,93.2543 2240.45,92.6385 2238.39,92.0602 \n",
       "  2236.25,91.5208 2234.05,91.0217 2231.79,90.5641 2229.47,90.149 2227.1,89.7775 2224.68,89.4505 2222.23,89.1687 2219.74,88.9328 2217.22,88.7434 2214.68,88.601 \n",
       "  2212.13,88.5058 2209.57,88.4582 2207.77,88.4582 2196.24,88.5439 2194.42,88.5685 2148.19,89.267 2146.42,89.2966 2136.28,89.5536 2131.13,89.6909 2128.02,89.7859 \n",
       "  2124.3,89.9332 2035.71,93.6859 2034.03,93.7758 2028.09,94.1752 2026.87,94.2594 2024.74,94.431 2001.34,96.3312 2000,96.4445 1997.79,96.67 1994.61,97.0334 \n",
       "  1964.17,100.546 1963.18,100.664 1952.51,102.013 1944.46,103.046 1941.44,103.45 1865.92,113.567 1865.27,113.656 1838.41,117.561 1829.5,118.907 1826.14,119.429 \n",
       "  1794.63,124.342 1793.38,124.541 1791.9,124.807 1781.65,126.666 1781.16,126.757 1717.16,138.711 1716.89,138.763 1660.59,149.591 1660.12,149.681 1644.79,152.674 \n",
       "  1643.45,152.938 1639.77,153.761 1550.19,173.939 1548.84,174.249 1521.51,180.58 1519.06,181.149 1483.25,189.529 1481,190.071 1468.98,193.077 1458.82,195.646 \n",
       "  1424.17,204.45 1423.07,204.738 1393.34,212.746 1387.86,214.245 1385.3,214.979 1383.02,215.665 1381.9,216.028 1357.71,223.999 1355.79,224.644 1328.4,234.074 \n",
       "  1280.55,250.761 1277.17,251.94 1257.61,258.816 1247.09,262.665 1243.57,263.993 1230.08,269.166 1222.74,272.004 1169.24,292.976 1168.77,293.168 1080.06,329.855 \n",
       "  1078.01,330.702 1069.37,334.513 1030.02,351.878 1028.64,352.535 1000.3,366.575 998.503,367.483 983.08,375.574 980.51,376.935 930.411,403.53 930.071,403.714 \n",
       "  916.65,411.192 900.555,420.187 890.183,426.022 889.106,426.641 875.107,434.718 874.96,434.804 848.108,450.652 847.436,451.05 810.465,473.264 801.736,478.517 \n",
       "  801.106,478.917 779.716,492.629 779.21,492.961 774.129,496.528 771.699,498.289 747.896,515.667 746.277,516.858 735.119,525.167 728.287,530.283 718.658,537.543 \n",
       "  713.382,541.686 708.869,545.28 693.052,557.928 692.151,558.67 690.02,560.598 675.103,574.125 674.105,575.067 653.429,594.88 652.353,595.918 641.505,606.505 \n",
       "  641.136,606.887 640.459,607.638 627.784,622.219 619.308,631.989 615.929,635.937 597.586,657.683 591.99,664.347 583.671,674.794 577.185,682.966 576.611,683.695 \n",
       "  576.227,684.246 575.314,685.707 574.877,686.434 568.968,696.365 568.667,696.879 567.197,699.677 556.874,719.548 556.838,719.619 544.093,745.14 543.81,745.711 \n",
       "  541.914,749.666 535.04,766.06 534.658,767.003 525.484,789.866 524.931,791.254 520.147,803.543 518.968,806.639 517.275,811.319 510.951,829.163 510.864,829.48 \n",
       "  508.086,839.845 506.324,846.567 504.334,854.263 503.804,856.423 502.757,862.288 502.651,863.014 500.909,882.729 500.793,884.734 500.779,885.401 500.504,900.43 \n",
       "  500.504,900.984 500.504,900.984 \n",
       "  \" fill=\"#e26f46\" fill-rule=\"evenodd\" fill-opacity=\"0.5\"/>\n",
       "<polyline clip-path=\"url(#clip4702)\" style=\"stroke:#000000; stroke-width:4; stroke-opacity:0.5; fill:none\" points=\"\n",
       "  500.504,900.984 500.63,901.954 500.881,902.92 501.258,903.88 501.758,904.832 502.382,905.774 503.127,906.703 503.991,907.617 504.973,908.514 506.07,909.391 \n",
       "  507.28,910.247 508.599,911.08 510.025,911.887 511.553,912.667 513.181,913.417 514.904,914.137 516.719,914.823 518.62,915.475 520.604,916.091 522.665,916.669 \n",
       "  524.798,917.209 526.999,917.708 529.262,918.165 531.582,918.58 533.953,918.952 536.369,919.279 538.824,919.561 541.313,919.797 543.83,919.986 546.368,920.129 \n",
       "  548.922,920.224 551.485,920.271 553.282,920.271 564.808,920.186 566.629,920.161 612.863,919.462 614.63,919.433 624.777,919.176 629.92,919.039 633.027,918.944 \n",
       "  636.751,918.796 725.345,915.044 727.02,914.954 732.962,914.554 734.183,914.47 736.311,914.298 759.71,912.398 761.049,912.285 763.26,912.06 766.438,911.696 \n",
       "  796.879,908.183 797.872,908.065 808.542,906.716 816.595,905.683 819.615,905.28 895.131,895.162 895.782,895.073 922.643,891.169 931.549,889.822 934.915,889.301 \n",
       "  966.419,884.387 967.668,884.189 969.152,883.922 979.398,882.064 979.89,881.972 1043.89,870.018 1044.16,869.967 1100.47,859.138 1100.93,859.049 1116.27,856.056 \n",
       "  1117.6,855.792 1121.28,854.969 1210.86,834.79 1212.21,834.48 1239.55,828.15 1241.99,827.581 1277.8,819.2 1280.05,818.658 1292.07,815.653 1302.24,813.084 \n",
       "  1336.88,804.28 1337.98,803.991 1367.71,795.983 1373.19,794.484 1375.75,793.75 1378.04,793.065 1379.16,792.702 1403.35,784.73 1405.26,784.086 1432.65,774.656 \n",
       "  1480.5,757.968 1483.88,756.789 1503.44,749.914 1513.96,746.064 1517.48,744.737 1530.97,739.564 1538.32,736.726 1591.81,715.754 1592.28,715.561 1681,678.875 \n",
       "  1683.04,678.028 1691.68,674.216 1731.03,656.852 1732.42,656.195 1760.75,642.155 1762.55,641.247 1777.97,633.156 1780.54,631.794 1830.64,605.2 1830.98,605.016 \n",
       "  1844.4,597.538 1860.5,588.542 1870.87,582.707 1871.95,582.089 1885.95,574.012 1886.09,573.926 1912.94,558.077 1913.62,557.679 1950.59,535.465 1959.32,530.212 \n",
       "  1959.95,529.813 1981.34,516.1 1981.84,515.768 1986.92,512.202 1989.35,510.441 2013.16,493.063 2014.78,491.871 2025.93,483.563 2032.77,478.446 2042.39,471.186 \n",
       "  2047.67,467.043 2052.18,463.449 2068,450.802 2068.9,450.059 2071.03,448.131 2085.95,434.604 2086.95,433.662 2107.62,413.85 2108.7,412.812 2119.55,402.225 \n",
       "  2119.92,401.842 2120.59,401.091 2133.27,386.51 2141.74,376.741 2145.12,372.792 2163.47,351.046 2169.06,344.383 2177.38,333.936 2183.87,325.763 2184.44,325.035 \n",
       "  2184.83,324.483 2185.74,323.022 2186.18,322.296 2192.08,312.364 2192.39,311.851 2193.86,309.053 2204.18,289.182 2204.21,289.111 2216.96,263.59 2217.24,263.019 \n",
       "  2219.14,259.063 2226.01,242.669 2226.39,241.726 2235.57,218.864 2236.12,217.475 2240.9,205.187 2242.08,202.091 2243.78,197.411 2250.1,179.566 2250.19,179.249 \n",
       "  2252.97,168.885 2254.73,162.162 2256.72,154.467 2257.25,152.306 2258.3,146.441 2258.4,145.716 2260.14,126.001 2260.26,123.996 2260.27,123.328 2260.55,108.299 \n",
       "  2260.55,107.746 2260.42,106.776 2260.17,105.81 2259.79,104.85 2259.29,103.897 2258.67,102.956 2257.93,102.027 2257.06,101.113 2256.08,100.216 2254.98,99.3382 \n",
       "  2253.77,98.4821 2252.45,97.6494 2251.03,96.8422 2249.5,96.0625 2247.87,95.312 2246.15,94.5927 2244.33,93.9063 2242.43,93.2543 2240.45,92.6385 2238.39,92.0602 \n",
       "  2236.25,91.5208 2234.05,91.0217 2231.79,90.5641 2229.47,90.149 2227.1,89.7775 2224.68,89.4505 2222.23,89.1687 2219.74,88.9328 2217.22,88.7434 2214.68,88.601 \n",
       "  2212.13,88.5058 2209.57,88.4582 2207.77,88.4582 2196.24,88.5439 2194.42,88.5685 2148.19,89.267 2146.42,89.2966 2136.28,89.5536 2131.13,89.6909 2128.02,89.7859 \n",
       "  2124.3,89.9332 2035.71,93.6859 2034.03,93.7758 2028.09,94.1752 2026.87,94.2594 2024.74,94.431 2001.34,96.3312 2000,96.4445 1997.79,96.67 1994.61,97.0334 \n",
       "  1964.17,100.546 1963.18,100.664 1952.51,102.013 1944.46,103.046 1941.44,103.45 1865.92,113.567 1865.27,113.656 1838.41,117.561 1829.5,118.907 1826.14,119.429 \n",
       "  1794.63,124.342 1793.38,124.541 1791.9,124.807 1781.65,126.666 1781.16,126.757 1717.16,138.711 1716.89,138.763 1660.59,149.591 1660.12,149.681 1644.79,152.674 \n",
       "  1643.45,152.938 1639.77,153.761 1550.19,173.939 1548.84,174.249 1521.51,180.58 1519.06,181.149 1483.25,189.529 1481,190.071 1468.98,193.077 1458.82,195.646 \n",
       "  1424.17,204.45 1423.07,204.738 1393.34,212.746 1387.86,214.245 1385.3,214.979 1383.02,215.665 1381.9,216.028 1357.71,223.999 1355.79,224.644 1328.4,234.074 \n",
       "  1280.55,250.761 1277.17,251.94 1257.61,258.816 1247.09,262.665 1243.57,263.993 1230.08,269.166 1222.74,272.004 1169.24,292.976 1168.77,293.168 1080.06,329.855 \n",
       "  1078.01,330.702 1069.37,334.513 1030.02,351.878 1028.64,352.535 1000.3,366.575 998.503,367.483 983.08,375.574 980.51,376.935 930.411,403.53 930.071,403.714 \n",
       "  916.65,411.192 900.555,420.187 890.183,426.022 889.106,426.641 875.107,434.718 874.96,434.804 848.108,450.652 847.436,451.05 810.465,473.264 801.736,478.517 \n",
       "  801.106,478.917 779.716,492.629 779.21,492.961 774.129,496.528 771.699,498.289 747.896,515.667 746.277,516.858 735.119,525.167 728.287,530.283 718.658,537.543 \n",
       "  713.382,541.686 708.869,545.28 693.052,557.928 692.151,558.67 690.02,560.598 675.103,574.125 674.105,575.067 653.429,594.88 652.353,595.918 641.505,606.505 \n",
       "  641.136,606.887 640.459,607.638 627.784,622.219 619.308,631.989 615.929,635.937 597.586,657.683 591.99,664.347 583.671,674.794 577.185,682.966 576.611,683.695 \n",
       "  576.227,684.246 575.314,685.707 574.877,686.434 568.968,696.365 568.667,696.879 567.197,699.677 556.874,719.548 556.838,719.619 544.093,745.14 543.81,745.711 \n",
       "  541.914,749.666 535.04,766.06 534.658,767.003 525.484,789.866 524.931,791.254 520.147,803.543 518.968,806.639 517.275,811.319 510.951,829.163 510.864,829.48 \n",
       "  508.086,839.845 506.324,846.567 504.334,854.263 503.804,856.423 502.757,862.288 502.651,863.014 500.909,882.729 500.793,884.734 500.779,885.401 500.504,900.43 \n",
       "  500.504,900.984 \n",
       "  \"/>\n",
       "</svg>\n"
      ]
     },
     "execution_count": 68,
     "metadata": {},
     "output_type": "execute_result"
    }
   ],
   "source": [
    "plot!(overapproximate(P, HPolygon, 1e-3))"
   ]
  },
  {
   "cell_type": "code",
   "execution_count": 82,
   "metadata": {
    "slideshow": {
     "slide_type": "subslide"
    }
   },
   "outputs": [
    {
     "name": "stdout",
     "output_type": "stream",
     "text": [
      "  37.953 ms (24945 allocations: 6.80 MiB)\n"
     ]
    },
    {
     "data": {
      "text/plain": [
       "HPolygon{Float64}(HalfSpace{Float64,VN} where VN<:AbstractArray{Float64,1}[HalfSpace{Float64,Array{Float64,1}}([1.0, 0.0], 67.2004), HalfSpace{Float64,Array{Float64,1}}([0.998795, 0.0490677], 71.4796), HalfSpace{Float64,Array{Float64,1}}([0.995185, 0.0980171], 75.5914), HalfSpace{Float64,Array{Float64,1}}([0.989177, 0.14673], 79.526), HalfSpace{Float64,Array{Float64,1}}([0.980785, 0.19509], 83.2737), HalfSpace{Float64,Array{Float64,1}}([0.970031, 0.24298], 86.8257), HalfSpace{Float64,Array{Float64,1}}([0.95694, 0.290285], 90.1734), HalfSpace{Float64,Array{Float64,1}}([0.941544, 0.33689], 93.3086), HalfSpace{Float64,Array{Float64,1}}([0.92388, 0.382683], 96.2238), HalfSpace{Float64,Array{Float64,1}}([0.903989, 0.427555], 98.9121)  …  HalfSpace{Float64,Array{Float64,1}}([0.98866, -0.150174], 53.336), HalfSpace{Float64,Array{Float64,1}}([0.98972, -0.143019], 54.0246), HalfSpace{Float64,Array{Float64,1}}([0.99458, -0.103978], 57.7324), HalfSpace{Float64,Array{Float64,1}}([0.995226, -0.0975957], 58.329), HalfSpace{Float64,Array{Float64,1}}([0.99592, -0.0902353], 59.0165), HalfSpace{Float64,Array{Float64,1}}([0.997866, -0.0652955], 61.3197), HalfSpace{Float64,Array{Float64,1}}([0.999056, -0.0434322], 63.3058), HalfSpace{Float64,Array{Float64,1}}([0.999548, -0.0300498], 64.5061), HalfSpace{Float64,Array{Float64,1}}([0.999633, -0.0271011], 64.7726), HalfSpace{Float64,Array{Float64,1}}([0.999896, -0.0144429], 65.9109)])"
      ]
     },
     "execution_count": 82,
     "metadata": {},
     "output_type": "execute_result"
    }
   ],
   "source": [
    "@btime overapproximate($P, HPolygon, 1e-3)"
   ]
  },
  {
   "cell_type": "markdown",
   "metadata": {
    "slideshow": {
     "slide_type": "notes"
    }
   },
   "source": [
    "## Closure properties\n",
    "\n",
    "<img src=\"BerlinUsersGroup/closure_properties.png\" align=\"center\" width=550>"
   ]
  },
  {
   "cell_type": "markdown",
   "metadata": {
    "slideshow": {
     "slide_type": "subslide"
    }
   },
   "source": [
    "## Fair enough, show me the trick."
   ]
  },
  {
   "cell_type": "markdown",
   "metadata": {
    "slideshow": {
     "slide_type": "subslide"
    }
   },
   "source": [
    "<img src=\"BerlinUsersGroup/multiple_dispatch.png\" align=\"center\" width=550>\n",
    "\n",
    "\n",
    "<font size=\"-1\"> <b> [KAR19] </b>  Stefan Karpinksi (Julia Computing). <b> The Unreasonable Effectiveness of Multiple Dispatch.</b> JuliaCon 2019</font>\n",
    "\n",
    "https://www.youtube.com/watch?v=kc9HwsxE1OY"
   ]
  },
  {
   "cell_type": "markdown",
   "metadata": {
    "slideshow": {
     "slide_type": "subslide"
    }
   },
   "source": [
    "## The *lazy evaluation* paradigm\n",
    "\n",
    "- Principle of [lazy evaluation](https://en.wikipedia.org/wiki/Lazy_evaluation): delay the evaluation of an expression until its value is needed.\n",
    "- **Question:** what do i *really* need to compute if i just want $\\rho(d, MH \\oplus B)$?"
   ]
  },
  {
   "cell_type": "markdown",
   "metadata": {
    "slideshow": {
     "slide_type": "fragment"
    }
   },
   "source": [
    "- **Answer:** combine basic machinery in  <font color='green'> convex geometry </font> with the <font color='green'>lazy evaluation paradigm,</font> letting Julia to handle the appropriate dispatch for your computation."
   ]
  },
  {
   "cell_type": "markdown",
   "metadata": {
    "slideshow": {
     "slide_type": "subslide"
    }
   },
   "source": [
    "## Calculus with suport functions\n",
    "\n",
    "<img src=\"BerlinUsersGroup/support_function.png\" width=600>"
   ]
  },
  {
   "cell_type": "markdown",
   "metadata": {
    "slideshow": {
     "slide_type": "subslide"
    }
   },
   "source": [
    "## Calculus with suport functions (cont.)\n",
    "\n",
    "<img src=\"BerlinUsersGroup/support_function_properties.png\" width=300>"
   ]
  },
  {
   "cell_type": "markdown",
   "metadata": {
    "slideshow": {
     "slide_type": "subslide"
    }
   },
   "source": [
    "## Case study: *lazy* Minkowski sum "
   ]
  },
  {
   "cell_type": "markdown",
   "metadata": {
    "slideshow": {
     "slide_type": "-"
    }
   },
   "source": [
    "- Implement the Minkowski sum operator as a new `LazySet`, with two basic functions:\n",
    "    - dimension\n",
    "    - compute its support vector (or support function) \n",
    "\n",
    "```julia\n",
    "function ρ(d::AbstractVector{N}, ms::MinkowskiSum{N}) where {N<:Real}\n",
    "    return ρ(d, ms.X) + ρ(d, ms.Y)\n",
    "end\n",
    "```"
   ]
  },
  {
   "cell_type": "markdown",
   "metadata": {
    "slideshow": {
     "slide_type": "subslide"
    }
   },
   "source": [
    "## Hold on, did he just say that `⊕` is a *set*?"
   ]
  },
  {
   "cell_type": "markdown",
   "metadata": {
    "slideshow": {
     "slide_type": "subslide"
    }
   },
   "source": [
    "```julia\n",
    "struct MinkowskiSum{N<:Real, S1<:LazySet{N}, S2<:LazySet{N}} <: LazySet{N}\n",
    "    X::S1\n",
    "    Y::S2\n",
    "\n",
    "    # default constructor with dimension check\n",
    "    function MinkowskiSum{N, S1, S2}(X::S1, Y::S2) where\n",
    "            {N<:Real, S1<:LazySet{N}, S2<:LazySet{N}}\n",
    "        @assert dim(X) == dim(Y) \"sets in a Minkowski sum must have the \" *\n",
    "            \"same dimension\"\n",
    "        return new{N, S1, S2}(X, Y)\n",
    "    end\n",
    "end\n",
    "```"
   ]
  },
  {
   "cell_type": "markdown",
   "metadata": {
    "slideshow": {
     "slide_type": "fragment"
    }
   },
   "source": [
    "```julia\n",
    "@neutral(MinkowskiSum, ZeroSet)\n",
    "@absorbing(MinkowskiSum, EmptySet)\n",
    "⊕(X::LazySet, Y::LazySet) = MinkowskiSum(X, Y)\n",
    "```"
   ]
  },
  {
   "cell_type": "markdown",
   "metadata": {
    "slideshow": {
     "slide_type": "slide"
    }
   },
   "source": [
    "## Reachability Analysis in JuliaReach"
   ]
  },
  {
   "cell_type": "markdown",
   "metadata": {
    "slideshow": {
     "slide_type": "notes"
    }
   },
   "source": [
    "There is an increasing demand for using formal methods to validate and verify safety-critical systems in fields such as power generation and distribution, avionics, automotive systems, and medical systems. In particular, newer standards, such as DO-178C (avionics), ISO 26262 (automotive systems), IEC 62304 (medical devices), and CENELEC EN 50128 (railway systems), emphasize the need for formal methods and model-based development, thereby speeding up the adaptation of such methods in industry. "
   ]
  },
  {
   "cell_type": "markdown",
   "metadata": {
    "slideshow": {
     "slide_type": "subslide"
    }
   },
   "source": [
    "### The problem\n",
    "\n",
    "- Complex, real-world systems are prone to *failures*\n",
    "- New industrial standars explicitly recommend the user of *formal methods:* DO-178C (avionics), ISO 26262 (automotive systems), IEC 62304 (medical devices), and CENELEC EN 50128 (railway systems).\n",
    "\n",
    "<img src=\"ICCOPT2019/fig/CPSfail.png\" width=600>\n",
    "\n",
    "- Engineers need *safety* and *reliability* guarantees to take design decisions under non-deterministic inputs, parameters or noise\n",
    "\n",
    "$\\Longrightarrow$<font color='green'> The field of **reachability analysis** is concerned with understanding the set of all possible behaviors of such systems."
   ]
  },
  {
   "cell_type": "markdown",
   "metadata": {
    "slideshow": {
     "slide_type": "-"
    }
   },
   "source": [
    "<font size=\"-1\">Bogomolov, S., Forets, M., Frehse, G., Potomkin, K., & Schilling, C. (2019, April). JuliaReach: a toolbox for set-based reachability. <b> In Proceedings of the 22nd ACM International Conference on Hybrid Systems: Computation and Control (pp. 39-44), ACM.</b> </font>"
   ]
  },
  {
   "cell_type": "markdown",
   "metadata": {
    "slideshow": {
     "slide_type": "subslide"
    }
   },
   "source": [
    "### References to our research work\n",
    "\n",
    "\n",
    "- **[BFFPSV18]** Reach Set Approximation through Decomposition with Low-dimensional Sets and High-dimensional Matrices. S. Bogomolov, M. Forets, G. Frehse, , A. Podelski,  C. Schilling and F. Viry (2018) HSCC'18 Proceedings of the 21st International Conference on Hybrid Systems: Computation and Control: 41–50.\n",
    "\n",
    "- **[ARCH-COMP18-AFF]** ARCH-COMP18 Category Report: Continuous and Hybrid Systems with Linear Continuous Dynamics. M. Althoff, S. Bak, X. Chen, C. Fan, M. Forets, G. Frehse, N. Kochdumper, Y. Li, S. Mitra, R. Ray, C. Schilling and S. Schupp (2018) ARCH18. 5th International Workshop on Applied Verification of Continuous and Hybrid Systems, 54: 23–52. doi: 10.29007/73mb.\n",
    "\n",
    "- **[BFFPS19]** JuliaReach: a Toolbox for Set-Based Reachability. Sergiy Bogomolov, Marcelo Forets, Goran Frehse, Kostiantyn Potomkin, Christian Schilling. Published in Proceedings of HSCC'19: 22nd ACM International Conference on Hybrid Systems: Computation and Control (HSCC'19)."
   ]
  },
  {
   "cell_type": "markdown",
   "metadata": {
    "slideshow": {
     "slide_type": "subslide"
    }
   },
   "source": [
    "### References to our research work (cont.)\n",
    "\n",
    "- **[BFFPS19b]** Reachability analysis of linear hybrid systems via block decomposition. Sergiy Bogomolov, Marcelo Forets, Goran Frehse, Kostiantyn Potomkin, Christian Schilling.\n",
    "\n",
    "- **[ARCH-COMP19-AFF]** ARCH-COMP19 Category Report: Continuous and Hybrid Systems with Linear Continuous Dynamics. Matthias Althoff, Stanley Bak, Marcelo Forets, Goran Frehse, Niklas Kochdumper, Rajarshi Ray, Christian Schilling and Stefan Schupp (2019) ARCH19. 6th International Workshop on Applied Verification of Continuous and Hybrid Systems, vol 61, pages 14–40 doi: 10.29007/bj1w.\n",
    "\n",
    "- **[ARCH-COMP19-NLN]** ARCH-COMP19 Category Report: Continuous and Hybrid Systems with Nonlinear Dynamics. Fabian Immler, Matthias Althoff, Luis Benet, Alexandre Chapoutot, Xin Chen, Marcelo Forets, Luca Geretti, Niklas Kochdumper, David P. Sanders and Christian Schilling (2019) ARCH19. 6th International Workshop on Applied Verification of Continuous and Hybrid Systems, vol 61, pages 41–61 doi: 10.29007/bj1w."
   ]
  },
  {
   "cell_type": "markdown",
   "metadata": {
    "slideshow": {
     "slide_type": "subslide"
    }
   },
   "source": [
    "## ISS Benchmark"
   ]
  },
  {
   "cell_type": "markdown",
   "metadata": {
    "slideshow": {
     "slide_type": "-"
    }
   },
   "source": [
    "- ISS: structural model of component 1R (Russian service module) of the international space station\n",
    "- 270 state variables with three uncertain inputs\n",
    "- linear time-invariant: $x'(t) = Ax(t) + Bu(t)$, $u(t) \\in \\mathcal{U}$, $y(t) = Cx(t) + Du(t)$\n",
    "- specification: output $y_3(t)$ is within the range $[0.0007, 0.0007]$ for all $t \\in [0, 20]$.\n",
    "\n",
    "<img src=\"BerlinUsersGroup/iss_fig.png\" align=\"center\" width=550>"
   ]
  },
  {
   "cell_type": "markdown",
   "metadata": {
    "slideshow": {
     "slide_type": "subslide"
    }
   },
   "source": [
    "### ISS Benchmark\n",
    "\n",
    "<img src=\"BerlinUsersGroup/iss_CORA.png\" align=\"center\" width=400>"
   ]
  },
  {
   "cell_type": "markdown",
   "metadata": {
    "slideshow": {
     "slide_type": "subslide"
    }
   },
   "source": [
    "### ISS Benchmark\n",
    "\n",
    "<img src=\"BerlinUsersGroup/iss_JuliaReach.png\" align=\"center\" width=400>"
   ]
  },
  {
   "cell_type": "markdown",
   "metadata": {
    "slideshow": {
     "slide_type": "subslide"
    }
   },
   "source": [
    "### ISS Benchmark\n",
    "\n",
    "<img src=\"BerlinUsersGroup/iss_Results.png\" align=\"center\" width=450>"
   ]
  },
  {
   "cell_type": "markdown",
   "metadata": {
    "slideshow": {
     "slide_type": "subslide"
    }
   },
   "source": [
    "### Quadrotor benchmark"
   ]
  },
  {
   "cell_type": "markdown",
   "metadata": {
    "slideshow": {
     "slide_type": "-"
    }
   },
   "source": [
    "- nonlinear\n",
    "- 12 dimensions\n",
    "- safety property: stabilization of the height after some given time horizon, which should stay within given bounds\n",
    "- uncertain positions and uncertain velocities\n",
    "\n",
    "<img src=\"BerlinUsersGroup/quadcopter_Eqs.png\" align=\"center\" width=550>"
   ]
  },
  {
   "cell_type": "markdown",
   "metadata": {
    "slideshow": {
     "slide_type": "subslide"
    }
   },
   "source": [
    "### Quadrotor benchmark\n",
    "\n",
    "<img src=\"BerlinUsersGroup/quadcopter_CORA.png\" align=\"center\" width=500>"
   ]
  },
  {
   "cell_type": "markdown",
   "metadata": {
    "slideshow": {
     "slide_type": "subslide"
    }
   },
   "source": [
    "### Quadrotor benchmark\n",
    "\n",
    "<img src=\"BerlinUsersGroup/quadcopter_FlowStar.png\" align=\"center\" width=500>"
   ]
  },
  {
   "cell_type": "markdown",
   "metadata": {
    "slideshow": {
     "slide_type": "subslide"
    }
   },
   "source": [
    "### Quadrotor benchmark\n",
    "\n",
    "<img src=\"BerlinUsersGroup/quadcopter_JuliaReach.png\" align=\"center\" width=500>"
   ]
  },
  {
   "cell_type": "markdown",
   "metadata": {
    "slideshow": {
     "slide_type": "subslide"
    }
   },
   "source": [
    "### Quadrotor benchmark\n",
    "\n",
    "<img src=\"BerlinUsersGroup/quadcopter_Results.png\" align=\"center\" width=600>"
   ]
  },
  {
   "cell_type": "markdown",
   "metadata": {
    "slideshow": {
     "slide_type": "slide"
    }
   },
   "source": [
    "## Verifying Deep Neural Networks"
   ]
  },
  {
   "cell_type": "markdown",
   "metadata": {
    "slideshow": {
     "slide_type": "subslide"
    }
   },
   "source": [
    "<img src=\"BerlinUsersGroup/nnets_verif.png\" align=\"center\" width=550>\n",
    "\n",
    "- Deep neural networks are widely used for nonlinear function approximation with applications ranging from computer vision to control.\n",
    "- It can be very challenging to <font color='red'> verify whether a particular network satis es certain input-output properties. </font>\n",
    "- `LazySets` is being used in https://github.com/sisl/NeuralVerification.jl as a convenient framework to work with *sets*\n",
    "- (work-in-progress) We can scale even further, using lazy intersections and lazy `ReLU` functions (it's a bit rough, but if you are curious, see my notebook https://nbviewer.jupyter.org/github/mforets/escritoire/blob/master/reachability/Lazy_NNets.ipynb)"
   ]
  },
  {
   "cell_type": "markdown",
   "metadata": {
    "slideshow": {
     "slide_type": "subslide"
    }
   },
   "source": [
    "If you are interested check https://github.com/sisl/NeuralVerification.jl and their recent review paper:\n",
    "\n",
    "<img src=\"BerlinUsersGroup/nnet_review.png\" align=\"center\" width=550>\n",
    "\n",
    "- https://arxiv.org/ftp/arxiv/papers/1903/1903.06758.pdf\n",
    "- https://www.youtube.com/watch?v=psJaVeJmNnI"
   ]
  },
  {
   "cell_type": "markdown",
   "metadata": {
    "slideshow": {
     "slide_type": "slide"
    }
   },
   "source": [
    "## Any sufficiently advanced technology is indistinguishable from magic.\n",
    "\n",
    "(Clark's third law)"
   ]
  },
  {
   "cell_type": "markdown",
   "metadata": {
    "slideshow": {
     "slide_type": "subslide"
    }
   },
   "source": [
    "## Conclusions\n",
    "\n",
    "- Convex sets are expressive, calculus is tractable.\n",
    "- Closure under most standard set operations.\n",
    "- Support functions allow for lazy (on-demand) computations.\n",
    "- Non-convex sets: approximate by (union of) convex sets.\n",
    "- Julia is an excellent choice to reason about set-based algorithms."
   ]
  },
  {
   "cell_type": "markdown",
   "metadata": {
    "slideshow": {
     "slide_type": "subslide"
    }
   },
   "source": [
    "### Acknowledgements\n",
    "\n",
    "<font size=-1>\n",
    "    \n",
    "- JuliaReach development is led by:\n",
    "  - Marcelo Forets (Univ. de la República, Uruguay)\n",
    "  - Christian Schilling (Institute of Science and Technology, Austria)\n",
    "\n",
    "- Contributors to JuliaReach open projects include:\n",
    "  - A. Deshmuhk (Indian Institute of Information Technology, India) \n",
    "  - B. Garate (Univ. de la República, Uruguay)\n",
    "  - S. Guadalupe (Univ. de la República, Uruguay)\n",
    "  - N. Kekatos (Univ. Grenoble Alpes, France)\n",
    "  - B. Legat (UCLouvain, Belgium)\n",
    "  - K. Potomkin (ANU, Australia)\n",
    "  - A. Rocca (INRIA, France)\n",
    "  - F. Viry (CERFACS, France)\n",
    "\n",
    "- Scientific collaborators:\n",
    "    - L. Benet (UNAM, México)\n",
    "    - S. Bogomolov (ANU, Australia)\n",
    "    - G. Frehse (ENSTA ParisTech, France)\n",
    "    - A. Podelski (Univ. of Freiburg, Germany),\n",
    "    - David P. Sanders (UNAM, México)\n",
    "</font>\n",
    "\n",
    "---\n",
    "\n",
    "\n",
    "<font color='blue' size=+1> Join the effort!  </font> https://github.com/juliareach<br> <https://gitter.im/JuliaReach/Lobby\n",
    "\n",
    "<font color='green' size=+1> Contact: mforets@gmail.com </font> http://github.com/mforets"
   ]
  },
  {
   "cell_type": "markdown",
   "metadata": {
    "slideshow": {
     "slide_type": "skip"
    }
   },
   "source": [
    "<img src=\"BerlinUsersGroup/mu1_zono.png\" align=\"center\" width=550>"
   ]
  }
 ],
 "metadata": {
  "@webio": {
   "lastCommId": null,
   "lastKernelId": null
  },
  "celltoolbar": "Slideshow",
  "kernelspec": {
   "display_name": "Julia 1.1.0-rc2",
   "language": "julia",
   "name": "julia-1.1"
  },
  "language_info": {
   "file_extension": ".jl",
   "mimetype": "application/julia",
   "name": "julia",
   "version": "1.1.0"
  }
 },
 "nbformat": 4,
 "nbformat_minor": 2
}
