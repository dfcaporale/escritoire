{
 "cells": [
  {
   "cell_type": "code",
   "execution_count": 1,
   "metadata": {},
   "outputs": [
    {
     "data": {
      "text/plain": [
       "2019-08-02T00:20:31.556"
      ]
     },
     "execution_count": 1,
     "metadata": {},
     "output_type": "execute_result"
    }
   ],
   "source": [
    "using Dates\n",
    "now()"
   ]
  },
  {
   "cell_type": "markdown",
   "metadata": {},
   "source": [
    "Speaker: [Marcelo Forets](http://main.marcelo-forets.fr/), Universidad de la República.\n",
    "Centro Universitario Regional del Este (CURE), Maldonado, **Uruguay.**"
   ]
  },
  {
   "cell_type": "markdown",
   "metadata": {},
   "source": [
    "NBviewer link to [this notebook: Talk - Reachset Approx with JuMP](https://nbviewer.jupyter.org/github/mforets/escritoire/blob/master/reachability/Talk%20-%20Reachset%20Approx%20with%20JuMP.ipynb)\n",
    "\n",
    "See: github.com/mforets/escritoire/reachability"
   ]
  },
  {
   "cell_type": "markdown",
   "metadata": {},
   "source": [
    "## Contents:\n",
    "\n",
    "- [Context of the talk](#Context-of-the-talk)\n",
    "- [XFZ18 Algorithm](#XFZ18-Algorithm)\n",
    "- [Implementation using SumOfSquares](#Implementation-using-SumOfSquares)\n",
    "- [Results](#Results)"
   ]
  },
  {
   "cell_type": "markdown",
   "metadata": {},
   "source": [
    "---\n",
    "\n",
    "- JuMP/MOI have a great *expressive power*.\n",
    "- `PolyJuMP` and `SumOfSquares` JuMP extensions are easy to use and efficient, useful for control theory and optimization modeling.\n",
    "- Research problem: reachability analysis of dynamical systems. \n",
    "    - *Given a model of a system, exhaustively and automatically check whether this model meets a given specification.*"
   ]
  },
  {
   "cell_type": "markdown",
   "metadata": {},
   "source": [
    "## Context of the talk"
   ]
  },
  {
   "cell_type": "markdown",
   "metadata": {},
   "source": [
    "Textbook definition:\n",
    "\n",
    "Consider a dynamical system $x'(t) = f(x(t), u(t), p(t))$, where:\n",
    "\n",
    "- $t$ is time, say $t \\in [0, T]$ for some $T \\geq 0$ (possibly $+\\infty$)\n",
    "- $u$ is the input bounded by a set $u \\in \\mathcal{U} \\subset \\mathbb{R}^m$\n",
    "- $p$ is a vector of possibly time-varying parameters, $p \\in \\mathcal{P} \\in \\mathbb{R}^p$\n",
    "\n",
    "The reachable set at a certain point in time, $r$, is defined as the union of possible system states at $t = r$:\n",
    "\n",
    "$$\n",
    "\\mathcal{R}(\\delta) = \\left\\{ x(\\delta) = \\int_0^\\delta f(x(t), u(t), p(t)) dt ~:~x(t) \\in \\mathcal{X}_0,~~u([0, \\delta]) \\in \\mathcal{U},~~p([0, \\delta]) \\in \\mathcal{P}\\right\\}.\n",
    "$$\n",
    "Here $u([0, \\delta]) := \\bigcup\\limits_{t \\in [0, \\delta]} u(t)$.\n",
    "\n",
    "The reachable set for a time interval is defined as the union of reachable sets at points in time withing the interval $t \\in [0, \\delta]$:\n",
    "\n",
    "$$\n",
    "\\mathcal{R}([0, \\delta]) = \\bigcup\\limits_{t \\in [0, \\delta]} \\mathcal{R}(t).\n",
    "$$\n",
    "\n",
    "The purpose of reachability analysis is to reason about the set $\\mathcal{R}([0, T])$ given $T \\geq 0$. This set is often called the *flowpipe* of the dynamical system, which can only be computed approximately.\n",
    "\n",
    "This notion extends naturally to *hybrid* dynamical systems, that is, described by continuous systems \"connected\" by discrete transitions."
   ]
  },
  {
   "cell_type": "markdown",
   "metadata": {},
   "source": [
    "---\n",
    "\n",
    "Simplest case: take $x'(t) = Ax(t)$, whose solution for a given $x_0 \\in \\mathcal{X}_0$ is $x(t) = e^{At}x_0$."
   ]
  },
  {
   "cell_type": "markdown",
   "metadata": {},
   "source": [
    "![property](figures/NonValidatedFP.png)"
   ]
  },
  {
   "cell_type": "markdown",
   "metadata": {},
   "source": [
    "![property](figures/ValidatedFP.png)"
   ]
  },
  {
   "cell_type": "markdown",
   "metadata": {},
   "source": [
    "Research in last decade of so in this domain has led to:\n",
    "\n",
    "- wrapping free algorithms \n",
    "- can handle discrete switchings\n",
    "- methods that scale very well with the sytem's dimension"
   ]
  },
  {
   "cell_type": "markdown",
   "metadata": {},
   "source": [
    "![reach_homog_boxes](figures/reach_homog_boxes.png)"
   ]
  },
  {
   "cell_type": "markdown",
   "metadata": {},
   "source": [
    "![reach_homog_zonotopes](figures/reach_homog_zonotopes.png)"
   ]
  },
  {
   "cell_type": "markdown",
   "metadata": {},
   "source": [
    "[LazySets.jl](https://github.com/JuliaReach/LazySets.jl/)\n",
    "\n",
    "![lazysets](figures/LazySets.png)"
   ]
  },
  {
   "cell_type": "markdown",
   "metadata": {},
   "source": [
    "![JuliaReach](figures/JuliaReachpaper_short.png)"
   ]
  },
  {
   "cell_type": "markdown",
   "metadata": {},
   "source": [
    "![Reachability](figures/Reachability.png)"
   ]
  },
  {
   "cell_type": "markdown",
   "metadata": {},
   "source": [
    "### Motivations\n",
    "\n",
    "What are some **applications** of these methods?\n",
    "\n",
    "- Cyber-physical systems\n",
    "    - Systems that combine communication, control, and physical processes.\n",
    "    - Can be safety-critical or mission-critical\n",
    "    - Can have several interacting components.\n",
    "\n",
    "Why?\n",
    "\n",
    "- Formal verification can provide performance and correctness guarantees.\n",
    "\n",
    " \n",
    "Examples:\n",
    "\n",
    "- Mechanical Engineering (Building, Gearbox)\n",
    "- Self-driving vehicles driving (Platoon)\n",
    "- Aeronautics (Spacecraft rendez-vous)\n",
    "\n",
    "- Related domain: Verification of deep neural networks, see [NeuralVerif.jl](https://github.com/sisl/NeuralVerification.jl)"
   ]
  },
  {
   "cell_type": "markdown",
   "metadata": {},
   "source": [
    "![property](figures/Property.png)"
   ]
  },
  {
   "cell_type": "markdown",
   "metadata": {},
   "source": [
    "Building benchmark:\n",
    "\n",
    "- The building model is a model of the Los Angeles University Hospital with 8 floors, each of which has 3 degrees of freedom.\n",
    "- It has 48 state variables in which we are mostly interested in the twenty-fifth state x25(t), which is the motion of the first coordinate.\n",
    "- The twenty-fifth state is the interested output of the building model and should not reach a given unsafe region.\n",
    "![Building](figures/Building.png)"
   ]
  },
  {
   "cell_type": "markdown",
   "metadata": {},
   "source": [
    "Spacecraft rendez-vous benchmark:\n",
    "\n",
    "- Spacecraft rendezvous is a perfect use case for formal verification of hybrid systems since mission failure can cost lives and is extremely expensive.\n",
    "- The hybrid nature of this benchmark originates from a switched controller, while the dynamics of the spacecraft is purely continuous. In particular, the modes are approaching (100m-1000m), rendezvous attempt (less than 100m), and aborting.\n",
    "\n",
    "![SpacecraftRendezVous](figures/SpacecraftRendezVous.png)"
   ]
  },
  {
   "cell_type": "markdown",
   "metadata": {},
   "source": [
    "Platooning benchmark:\n",
    "\n",
    "- The platooning benchmark considers a platoon of three vehicles following each other. This benchmark considers loss of communication between vehicles.\n",
    "\n",
    "![Platooning](figures/Platooning.png)"
   ]
  },
  {
   "cell_type": "markdown",
   "metadata": {},
   "source": [
    "![juliareachorg](figures/JuliaReachOrg.png)"
   ]
  },
  {
   "cell_type": "markdown",
   "metadata": {},
   "source": [
    "See the github org [JuliaReach.org](juliareach.org) or contact us in the [gitter channel](https://gitter.im/JuliaReach/Lobby) if you want to know more."
   ]
  },
  {
   "cell_type": "markdown",
   "metadata": {},
   "source": [
    "## XFZ18 Algorithm"
   ]
  },
  {
   "cell_type": "markdown",
   "metadata": {},
   "source": [
    "So far so good.. How about systems of **polynomial** ODEs?\n",
    "\n",
    "$$\n",
    "x'(t) = f(x(t)),   \\textrm{where f is a polynomial map}\n",
    "$$\n",
    "\n",
    "Several methods exist, such as simulation-based methods: Zonotope-based, Taylor models, HJE, simulation-based, hybridization, ... (see, e.g. [ARCH report in the NLN category](https://easychair.org/publications/paper/gjfh)).\n",
    "\n",
    "In the rest of this notebook we consider the method from [1]:\n",
    "\n",
    "- Produces a sequence of inner-approximations with guarantee of convergence to the exact reachable set,\n",
    "- Consider the *Hamilton-Jacobi-Bellman equation*:\n",
    "\n",
    "$$\n",
    "\\mathcal{L}\\Phi : \\dfrac{\\partial \\Phi(x, t)}{\\partial t} + \\dfrac{\\partial \\Phi(x, t)}{\\partial x} f(x) = 0,\n",
    "$$\n",
    "with initial value $\\Phi(x, 0) = V_0(x)$.\n",
    "\n",
    "- It is shown in [1] that it can be solved by a converging hierarchy of semidefinite programs.\n",
    "-  We obtain a monotonically decreasing sequence of infima $\\epsilon$ that characterize the discrepancy between the approximate solution to the HJE and its exact solution over $\\mathcal{X} \\times [0, T]$ with the relaxation order increasing"
   ]
  },
  {
   "cell_type": "markdown",
   "metadata": {},
   "source": [
    "---"
   ]
  },
  {
   "cell_type": "markdown",
   "metadata": {},
   "source": [
    "The methods allows to obtain an under (also an over) approximation of the reach set at a given time by solving a semi-definite program.\n",
    "\n",
    "Assumptions:\n",
    "\n",
    "- the right-hand side $f(x)$ is polynomial\n",
    "- initial set is given as a basic semialgebraic set $\\mathcal{X}_0 = \\{x  : V_0(x) \\le 0\\}$ compact set, $V_0(x)$ multivariate polynomial\n",
    "- we have an a-priori enclosing set $\\mathcal{Y} = \\{x : g(x) \\ge 0\\}$\n"
   ]
  },
  {
   "cell_type": "markdown",
   "metadata": {},
   "source": [
    "[1] Xue, B., Fränzle, M., & Zhan, N. (2018, April). [Under-Approximating Reach Sets for Polynomial Continuous Systems. In Proceedings of the 21st International Conference on Hybrid Systems: Computation and Control (part of CPS Week) (pp. 51-60). ACM.](https://dl.acm.org/citation.cfm?id=3178133)\n",
    "\n",
    "[2] Korda, Milan, Didier Henrion, and Colin N. Jones. \"Inner approximations of the region of attraction for polynomial dynamical systems.\" [IFAC Proceedings Volumes 46.23 (2013): 534-539.](https://www.sciencedirect.com/science/article/pii/S1474667016317153)."
   ]
  },
  {
   "cell_type": "markdown",
   "metadata": {},
   "source": [
    "Optimization problem:"
   ]
  },
  {
   "cell_type": "markdown",
   "metadata": {},
   "source": [
    "![Program](figures/Program.png)"
   ]
  },
  {
   "cell_type": "markdown",
   "metadata": {},
   "source": [
    "**Theorem:** The set $\\{x : \\Phi(x, \\tau) \\le 0\\}$ is an under-approximation of the reachable set for $\\tau \\in [t_0, T]$."
   ]
  },
  {
   "cell_type": "markdown",
   "metadata": {},
   "source": [
    "---"
   ]
  },
  {
   "cell_type": "markdown",
   "metadata": {},
   "source": [
    "#### SOS relaxation"
   ]
  },
  {
   "cell_type": "markdown",
   "metadata": {},
   "source": [
    "![Program](figures/SOS.png)"
   ]
  },
  {
   "cell_type": "markdown",
   "metadata": {},
   "source": [
    "## Modeling with JuMP"
   ]
  },
  {
   "cell_type": "markdown",
   "metadata": {},
   "source": [
    "Consider the following [Van der Pol oscillator](https://en.wikipedia.org/wiki/Van_der_Pol_oscillator):\n",
    "\n",
    "$$\n",
    "\\begin{array}\n",
    "\\dot{x}_1 &= x_2 \\\\\n",
    "\\dot{x}_2 &= -0.2x_1 + x_2 - 0.2x_1^2 x_2\n",
    "\\end{array}\n",
    "$$\n",
    "The Van der Pol oscillator was introduced by the Dutch physicist Balthasar van der Pol. It's often considered as the first benchmark for a reachability or invariant computation method on nonlinear dynamics.\n",
    "\n",
    "It's interesting because:\n",
    "\n",
    "- The system has a stable limit cycle however shows complicated behavior.\n",
    "- If you could not find a fixed point in the first period then you probably may never find one.\n",
    "- The flowpipe construction methods suffer from may suffer from wrapping effect.\n",
    "\n",
    "However:\n",
    "\n",
    "- Can use subdivision in 2D to obtain a better accuracy, it is not expensive.\n",
    "- May use different heuristics to improve performance and accuracy that only work in 2D."
   ]
  },
  {
   "cell_type": "code",
   "execution_count": 2,
   "metadata": {},
   "outputs": [
    {
     "data": {
      "text/plain": [
       "differentiate (generic function with 18 methods)"
      ]
     },
     "execution_count": 2,
     "metadata": {},
     "output_type": "execute_result"
    }
   ],
   "source": [
    "# load packages\n",
    "using MultivariatePolynomials,\n",
    "      JuMP,\n",
    "      PolyJuMP,\n",
    "      SumOfSquares,\n",
    "      DynamicPolynomials,\n",
    "      MathematicalSystems,\n",
    "      MosekTools\n",
    " \n",
    "const ∂ = differentiate"
   ]
  },
  {
   "cell_type": "code",
   "execution_count": 3,
   "metadata": {},
   "outputs": [
    {
     "data": {
      "text/plain": [
       "(x₁, x₂, t)"
      ]
     },
     "execution_count": 3,
     "metadata": {},
     "output_type": "execute_result"
    }
   ],
   "source": [
    "# symbolic variables\n",
    "@polyvar x₁ x₂ t"
   ]
  },
  {
   "cell_type": "markdown",
   "metadata": {},
   "source": [
    "(Tip: type subindices with `x\\_1[TABl]`)"
   ]
  },
  {
   "cell_type": "code",
   "execution_count": 4,
   "metadata": {},
   "outputs": [
    {
     "data": {
      "text/plain": [
       "PolyVar{true}"
      ]
     },
     "execution_count": 4,
     "metadata": {},
     "output_type": "execute_result"
    }
   ],
   "source": [
    "typeof(x₁)"
   ]
  },
  {
   "cell_type": "code",
   "execution_count": 5,
   "metadata": {},
   "outputs": [
    {
     "data": {
      "text/plain": [
       "MultivariatePolynomials.AbstractVariable"
      ]
     },
     "execution_count": 5,
     "metadata": {},
     "output_type": "execute_result"
    }
   ],
   "source": [
    "supertype(typeof(x₁))"
   ]
  },
  {
   "cell_type": "code",
   "execution_count": 6,
   "metadata": {},
   "outputs": [
    {
     "data": {
      "text/plain": [
       "2-element Array{Polynomial{true,Float64},1}:\n",
       " 2.0x₂                    \n",
       " -0.4x₁²x₂ - 0.4x₁ + 2.0x₂"
      ]
     },
     "execution_count": 6,
     "metadata": {},
     "output_type": "execute_result"
    }
   ],
   "source": [
    "# time duration (scaled, see dynamics below)\n",
    "T = 1.0 \n",
    "\n",
    "# dynamics\n",
    "f = 2 * [x₂, -0.2*x₁ + x₂ - 0.2*x₁^2*x₂] "
   ]
  },
  {
   "cell_type": "code",
   "execution_count": 7,
   "metadata": {},
   "outputs": [
    {
     "data": {
      "text/latex": [
       "$$ x₁^{2} + x₂^{2} - 0.25 $$"
      ],
      "text/plain": [
       "x₁² + x₂² - 0.25"
      ]
     },
     "execution_count": 7,
     "metadata": {},
     "output_type": "execute_result"
    }
   ],
   "source": [
    "# set of initial states X₀ = {x: V₀(x) <= 0}\n",
    "V₀ = x₁^2 + x₂^2 - 0.25"
   ]
  },
  {
   "cell_type": "code",
   "execution_count": 8,
   "metadata": {},
   "outputs": [
    {
     "data": {
      "text/plain": [
       "Polynomial{true,Float64}"
      ]
     },
     "execution_count": 8,
     "metadata": {},
     "output_type": "execute_result"
    }
   ],
   "source": [
    "typeof(V₀)"
   ]
  },
  {
   "cell_type": "code",
   "execution_count": 9,
   "metadata": {},
   "outputs": [
    {
     "data": {
      "text/latex": [
       "$$ -x₁^{2} - x₂^{2} + 25 $$"
      ],
      "text/plain": [
       "-x₁² - x₂² + 25"
      ]
     },
     "execution_count": 9,
     "metadata": {},
     "output_type": "execute_result"
    }
   ],
   "source": [
    "# constraints Y = {x: g(x) >= 0} compact search space Y x [0, T]\n",
    "g = 25 - x₁^2 - x₂^2"
   ]
  },
  {
   "cell_type": "code",
   "execution_count": 10,
   "metadata": {},
   "outputs": [
    {
     "data": {
      "text/plain": [
       "12"
      ]
     },
     "execution_count": 10,
     "metadata": {},
     "output_type": "execute_result"
    }
   ],
   "source": [
    "# degree of the relaxation\n",
    "k = 12"
   ]
  },
  {
   "cell_type": "code",
   "execution_count": 11,
   "metadata": {},
   "outputs": [
    {
     "data": {
      "text/plain": [
       "455-element MonomialVector{true}:\n",
       " x₁¹²    \n",
       " x₁¹¹x₂  \n",
       " x₁¹¹t   \n",
       " x₁¹⁰x₂² \n",
       " x₁¹⁰x₂t \n",
       " x₁¹⁰t²  \n",
       " x₁⁹x₂³  \n",
       " x₁⁹x₂²t \n",
       " x₁⁹x₂t² \n",
       " x₁⁹t³   \n",
       " x₁⁸x₂⁴  \n",
       " x₁⁸x₂³t \n",
       " x₁⁸x₂²t²\n",
       " ⋮       \n",
       " x₂t²    \n",
       " t³      \n",
       " x₁²     \n",
       " x₁x₂    \n",
       " x₁t     \n",
       " x₂²     \n",
       " x₂t     \n",
       " t²      \n",
       " x₁      \n",
       " x₂      \n",
       " t       \n",
       " 1       "
      ]
     },
     "execution_count": 11,
     "metadata": {},
     "output_type": "execute_result"
    }
   ],
   "source": [
    "# monomial vector up to order k, 0 <= sum_i alpha_i <= k, if alpha_i is the exponent of x_i\n",
    "X = monomials([x₁, x₂], 0:k)\n",
    "XT = monomials([x₁, x₂, t], 0:k)"
   ]
  },
  {
   "cell_type": "code",
   "execution_count": 12,
   "metadata": {},
   "outputs": [
    {
     "data": {
      "text/latex": [
       "$$ \\begin{alignat*}{1}\\text{feasibility}\\\\\n",
       "\\text{Subject to} \\quad\\end{alignat*}\n",
       " $$"
      ],
      "text/plain": [
       "A JuMP Model\n",
       "Feasibility problem with:\n",
       "Variables: 0\n",
       "Model mode: AUTOMATIC\n",
       "CachingOptimizer state: EMPTY_OPTIMIZER\n",
       "Solver name: Mosek"
      ]
     },
     "execution_count": 12,
     "metadata": {},
     "output_type": "execute_result"
    }
   ],
   "source": [
    "# create a SOS JuMP model to solve with Mosek\n",
    "model = SOSModel(with_optimizer(Mosek.Optimizer))"
   ]
  },
  {
   "cell_type": "code",
   "execution_count": 13,
   "metadata": {},
   "outputs": [],
   "source": [
    "# add unknown Φ to the model\n",
    "@variable(model, Φ, Poly(XT));"
   ]
  },
  {
   "cell_type": "code",
   "execution_count": 14,
   "metadata": {},
   "outputs": [],
   "source": [
    "# jacobian\n",
    "∂t = α -> ∂(α, t)\n",
    "∂xf = α -> ∂(α, x₁) * f[1] + ∂(α, x₂) * f[2] \n",
    "LΦ = ∂t(Φ) + ∂xf(Φ);"
   ]
  },
  {
   "cell_type": "code",
   "execution_count": 15,
   "metadata": {},
   "outputs": [],
   "source": [
    "# Φ(x, t) at time 0\n",
    "Φ₀ = subs(Φ, t => 0.);"
   ]
  },
  {
   "cell_type": "code",
   "execution_count": 16,
   "metadata": {},
   "outputs": [
    {
     "data": {
      "text/latex": [
       "$$ ϵ $$"
      ],
      "text/plain": [
       "ϵ"
      ]
     },
     "execution_count": 16,
     "metadata": {},
     "output_type": "execute_result"
    }
   ],
   "source": [
    "# scalar variable\n",
    "@variable(model, ϵ)"
   ]
  },
  {
   "cell_type": "code",
   "execution_count": 17,
   "metadata": {},
   "outputs": [
    {
     "data": {
      "text/plain": [
       "SemialgebraicSets.BasicSemialgebraicSet{Float64,Polynomial{true,Float64},SemialgebraicSets.AlgebraicSet{Float64,Polynomial{true,Float64},SemialgebraicSets.Buchberger,SemialgebraicSets.SolverUsingMultiplicationMatrices{SemialgebraicSets.GröbnerBasisMultiplicationMatricesAlgorithm,SemialgebraicSets.ReorderedSchurMultiplicationMatricesSolver{Float64,Random.MersenneTwister}}}}(Algebraic Set defined by no equality\n",
       ", Polynomial{true,Float64}[-t² + t, -x₁² - x₂² + 25.0])"
      ]
     },
     "execution_count": 17,
     "metadata": {},
     "output_type": "execute_result"
    }
   ],
   "source": [
    "dom1 = @set t*(T-t) >= 0 && g >= 0"
   ]
  },
  {
   "cell_type": "code",
   "execution_count": 18,
   "metadata": {},
   "outputs": [
    {
     "data": {
      "text/plain": [
       "2-element Array{Polynomial{true,Float64},1}:\n",
       " -t² + t          \n",
       " -x₁² - x₂² + 25.0"
      ]
     },
     "execution_count": 18,
     "metadata": {},
     "output_type": "execute_result"
    }
   ],
   "source": [
    "dom1.p"
   ]
  },
  {
   "cell_type": "code",
   "execution_count": 19,
   "metadata": {},
   "outputs": [
    {
     "data": {
      "text/plain": [
       "SemialgebraicSets.BasicSemialgebraicSet{Float64,Polynomial{true,Float64},SemialgebraicSets.AlgebraicSet{Float64,Polynomial{true,Float64},SemialgebraicSets.Buchberger,SemialgebraicSets.SolverUsingMultiplicationMatrices{SemialgebraicSets.GröbnerBasisMultiplicationMatricesAlgorithm,SemialgebraicSets.ReorderedSchurMultiplicationMatricesSolver{Int64,Random.MersenneTwister}}}}(Algebraic Set defined by no equality\n",
       ", Polynomial{true,Float64}[-x₁² - x₂² + 25.0])"
      ]
     },
     "execution_count": 19,
     "metadata": {},
     "output_type": "execute_result"
    }
   ],
   "source": [
    "dom2 = @set g >= 0"
   ]
  },
  {
   "cell_type": "code",
   "execution_count": 20,
   "metadata": {},
   "outputs": [
    {
     "data": {
      "text/latex": [
       "$ ϵ \\geq 0.0 $"
      ],
      "text/plain": [
       "ϵ ≥ 0.0"
      ]
     },
     "execution_count": 20,
     "metadata": {},
     "output_type": "execute_result"
    }
   ],
   "source": [
    "@constraint(model, ϵ >= 0.)"
   ]
  },
  {
   "cell_type": "code",
   "execution_count": 21,
   "metadata": {},
   "outputs": [
    {
     "data": {
      "text/latex": [
       "$$ ϵ $$"
      ],
      "text/plain": [
       "ϵ"
      ]
     },
     "execution_count": 21,
     "metadata": {},
     "output_type": "execute_result"
    }
   ],
   "source": [
    "# defining the constraints\n",
    "@constraint(model, ϵ >= 0.)\n",
    "@constraint(model, LΦ ∈ SOSCone(), domain = dom1)\n",
    "@constraint(model, ϵ - LΦ ∈ SOSCone(), domain = dom1)\n",
    "@constraint(model, Φ₀ - V₀ ∈ SOSCone(), domain = dom2)\n",
    "@constraint(model, ϵ + V₀ - Φ₀ ∈ SOSCone(), domain = dom2)\n",
    "\n",
    "@objective(model, Min, ϵ)"
   ]
  },
  {
   "cell_type": "code",
   "execution_count": 22,
   "metadata": {},
   "outputs": [
    {
     "name": "stdout",
     "output_type": "stream",
     "text": [
      "Problem\n",
      "  Name                   :                 \n",
      "  Objective sense        : min             \n",
      "  Type                   : CONIC (conic optimization problem)\n",
      "  Constraints            : 1544            \n",
      "  Cones                  : 0               \n",
      "  Scalar variables       : 456             \n",
      "  Matrix variables       : 10              \n",
      "  Integer variables      : 0               \n",
      "\n",
      "Optimizer started.\n",
      "Presolve started.\n",
      "Linear dependency checker started.\n",
      "Linear dependency checker terminated.\n",
      "Eliminator started.\n",
      "Freed constraints in eliminator : 0\n",
      "Eliminator terminated.\n",
      "Eliminator - tries                  : 1                 time                   : 0.00            \n",
      "Lin. dep.  - tries                  : 1                 time                   : 0.00            \n",
      "Lin. dep.  - number                 : 0               \n",
      "Presolve terminated. Time: 0.01    \n",
      "Problem\n",
      "  Name                   :                 \n",
      "  Objective sense        : min             \n",
      "  Type                   : CONIC (conic optimization problem)\n",
      "  Constraints            : 1544            \n",
      "  Cones                  : 0               \n",
      "  Scalar variables       : 456             \n",
      "  Matrix variables       : 10              \n",
      "  Integer variables      : 0               \n",
      "\n",
      "Optimizer  - threads                : 8               \n",
      "Optimizer  - solved problem         : the primal      \n",
      "Optimizer  - Constraints            : 1542\n",
      "Optimizer  - Cones                  : 1\n",
      "Optimizer  - Scalar variables       : 457               conic                  : 456             \n",
      "Optimizer  - Semi-definite variables: 10                scalarized             : 30074           \n",
      "Factor     - setup time             : 0.18              dense det. time        : 0.00            \n",
      "Factor     - ML order time          : 0.06              GP order time          : 0.00            \n",
      "Factor     - nonzeros before factor : 4.80e+05          after factor           : 7.72e+05        \n",
      "Factor     - dense dim.             : 2                 flops                  : 9.26e+08        \n",
      "ITE PFEAS    DFEAS    GFEAS    PRSTATUS   POBJ              DOBJ              MU       TIME  \n",
      "0   2.0e+00  8.0e+00  1.0e+00  0.00e+00   0.000000000e+00   0.000000000e+00   1.0e+00  0.22  \n",
      "1   9.1e-01  3.6e+00  6.2e-01  -7.85e-06  3.887272364e-02   -7.277377899e-04  4.6e-01  0.48  \n",
      "2   2.7e-01  1.1e+00  4.6e-01  9.08e-01   7.784730830e-01   4.303286309e-03   1.3e-01  0.73  \n",
      "3   6.2e-02  2.5e-01  4.5e-01  1.70e+00   2.542790179e-01   2.166139301e-02   3.1e-02  0.98  \n",
      "4   1.7e-02  6.7e-02  2.7e-01  1.87e+00   1.039863645e-01   6.446008794e-02   8.4e-03  1.26  \n",
      "5   9.8e-03  3.9e-02  2.1e-01  1.38e+00   1.294203141e-01   1.090778203e-01   4.9e-03  1.55  \n",
      "6   5.5e-03  2.2e-02  1.6e-01  1.15e+00   5.083213108e-02   4.002533190e-02   2.8e-03  1.79  \n",
      "7   1.9e-03  7.7e-03  1.0e-01  1.25e+00   2.537306998e-02   2.192283756e-02   9.7e-04  2.03  \n",
      "8   7.9e-04  3.2e-03  6.5e-02  1.18e+00   1.234485829e-02   1.103229702e-02   4.0e-04  2.27  \n",
      "9   1.7e-04  6.8e-04  3.2e-02  1.12e+00   3.993774258e-03   3.722721934e-03   8.5e-05  2.51  \n",
      "10  3.9e-05  1.6e-04  1.5e-02  1.04e+00   1.425668812e-03   1.364297365e-03   2.0e-05  2.75  \n",
      "11  1.1e-05  4.5e-05  7.1e-03  8.67e-01   8.002658439e-04   7.817030314e-04   5.7e-06  3.00  \n",
      "12  4.4e-06  1.8e-05  3.5e-03  6.29e-01   7.247592568e-04   7.167731457e-04   2.2e-06  3.27  \n",
      "13  1.1e-06  4.6e-06  9.2e-04  2.91e-01   1.130451618e-03   1.129644707e-03   5.7e-07  3.50  \n",
      "14  5.0e-07  2.0e-06  3.4e-04  -2.07e-01  1.970242414e-03   1.973095885e-03   2.5e-07  3.74  \n",
      "15  1.8e-07  5.6e-07  6.9e-05  -3.77e-01  4.474726889e-03   4.486931930e-03   7.0e-08  3.98  \n",
      "16  7.3e-08  2.3e-07  2.3e-05  -4.49e-01  7.808757191e-03   7.830936859e-03   2.9e-08  4.28  \n",
      "17  3.2e-08  8.7e-08  6.8e-06  -4.46e-01  1.387925279e-02   1.391757719e-02   1.1e-08  4.59  \n",
      "18  2.8e-08  4.5e-08  3.1e-06  -3.85e-01  1.964947227e-02   1.969890192e-02   5.5e-09  4.84  \n",
      "19  2.0e-08  1.4e-08  8.0e-07  -3.75e-01  3.522023337e-02   3.529856603e-02   1.7e-09  5.18  \n",
      "20  2.0e-08  1.3e-08  7.4e-07  -2.11e-01  3.626008258e-02   3.633929197e-02   1.6e-09  5.55  \n",
      "21  2.0e-08  1.3e-08  7.4e-07  -1.90e-01  3.625479792e-02   3.633400844e-02   1.6e-09  5.95  \n",
      "22  1.7e-08  5.4e-09  2.8e-07  -2.05e-01  5.283158923e-02   5.292336965e-02   6.4e-10  6.57  \n",
      "23  1.7e-08  5.4e-09  2.8e-07  1.86e-01   5.283158923e-02   5.292336965e-02   6.4e-10  7.27  \n",
      "Optimizer terminated. Time: 7.62    \n",
      "\n",
      "Relaxation order : k = 12\n",
      "JuMP.termination_status(model) = SLOW_PROGRESS\n",
      "JuMP.primal_status(model) = FEASIBLE_POINT\n",
      "JuMP.dual_status(model) = FEASIBLE_POINT\n",
      "JuMP.objective_bound(model) = 0.0\n",
      "JuMP.objective_value(model) = 0.05283158922805844\n"
     ]
    }
   ],
   "source": [
    "optimize!(model)\n",
    "\n",
    "println(\"Relaxation order : k = $k\")\n",
    "println(\"JuMP.termination_status(model) = \", JuMP.termination_status(model))\n",
    "println(\"JuMP.primal_status(model) = \", JuMP.primal_status(model))\n",
    "println(\"JuMP.dual_status(model) = \", JuMP.dual_status(model))\n",
    "println(\"JuMP.objective_bound(model) = \", JuMP.objective_bound(model))\n",
    "println(\"JuMP.objective_value(model) = \", JuMP.objective_value(model))"
   ]
  },
  {
   "cell_type": "code",
   "execution_count": 23,
   "metadata": {},
   "outputs": [
    {
     "data": {
      "text/plain": [
       "7.619025945663452"
      ]
     },
     "execution_count": 23,
     "metadata": {},
     "output_type": "execute_result"
    }
   ],
   "source": [
    "MOI.get(model, MOI.SolveTime())"
   ]
  },
  {
   "cell_type": "markdown",
   "metadata": {},
   "source": [
    "## Results"
   ]
  },
  {
   "cell_type": "markdown",
   "metadata": {},
   "source": [
    "### Comparison with an implementation in MATLAB/YALMIP"
   ]
  },
  {
   "cell_type": "markdown",
   "metadata": {},
   "source": [
    "[YALMIP](https://yalmip.github.io/) is a MATLAB based modelling language, suitable for a large class of problems in control theory and optimization. The 2004 IEEE ICRA tool paper [YALMIP: A toolbox for modeling and optimization in MATLAB](https://ieeexplore.ieee.org/document/1393890) counts with > 6k citations in google scholar."
   ]
  },
  {
   "cell_type": "markdown",
   "metadata": {},
   "source": [
    "#### Matlab code:"
   ]
  },
  {
   "cell_type": "markdown",
   "metadata": {},
   "source": [
    "```matlab\n",
    "sdpvar x y t obj;\n",
    "f=2*[y;(-0.2*x+y-0.2*x^2*y);0.5];\n",
    "T=1;\n",
    "V0=x^2+y^2-0.25;\n",
    "g=25-x^2-y^2;\n",
    "degree = 12;\n",
    "\n",
    "x1=[x y t];\n",
    "[Phi,coe]= polynomial(x1,degree);\n",
    "Phi_0=replace(Phi,[t],[0]);\n",
    "Phi_derivative=jacobian(Phi,x1)*f;\n",
    "degree1=degree;\n",
    " \n",
    "[s1,coe1]=polynomial(x1,degree1);\n",
    "[s2,coe2]=polynomial(x1,degree1);\n",
    "[s4,coe4]=polynomial(x1,degree1);\n",
    "[s5,coe5]=polynomial(x1,degree1);\n",
    "[s7,coe7]=polynomial([x y],degree1);\n",
    "[s9,coe9]=polynomial([x y],degree1);\n",
    "\n",
    "F=[sos(Phi_derivative-s1*t*(T-t)-s2*g),sos(obj-Phi_derivative-s4*t*(T-t)-s5*g),sos(Phi_0-V0-s7*g),...\n",
    "   sos(obj+V0-Phi_0-s9*g),sos(s1),sos(s2),sos(s4),sos(s5),sos(s7),sos(s9),obj>=0];\n",
    " \n",
    " ops = sdpsettings('solver','mosek','sos.newton',1,'sos.congruence',1);\n",
    " diagnostics= solvesos(F,obj,ops,[obj;coe;coe1;coe2;coe4;coe5;coe7;coe9])\n",
    "```\n",
    "\n",
    "23 LOC"
   ]
  },
  {
   "cell_type": "markdown",
   "metadata": {},
   "source": [
    "#### Julia code:"
   ]
  },
  {
   "cell_type": "markdown",
   "metadata": {},
   "source": [
    "```julia\n",
    "@polyvar x₁ x₂ t\n",
    "f = 2 * [x₂, -0.2*x₁ + x₂ - 0.2*x₁^2*x₂] \n",
    "T = 1.0 \n",
    "V₀ = x₁^2 + x₂^2 - 0.25\n",
    "g = 25 - x₁^2 - x₂^2\n",
    "k = 12\n",
    "\n",
    "X = monomials([x₁, x₂], 0:k)\n",
    "XT = monomials([x₁, x₂, t], 0:k)\n",
    "\n",
    "model = SOSModel(with_optimizer(Mosek.Optimizer))\n",
    "@variable(model, Φ, Poly(XT))\n",
    "\n",
    "∂xf = α -> ∂(α, x₁) * f[1] + ∂(α, x₂) * f[2] \n",
    "LΦ = ∂(Φ, t) + ∂xf(Φ)\n",
    "\n",
    "Φ₀ = subs(Φ, t => 0.)\n",
    "@variable(model, ϵ)\n",
    "dom1 = @set t*(T-t) >= 0 && g >= 0\n",
    "dom2 = @set g >= 0\n",
    "@constraint(model, ϵ >= 0.)\n",
    "@constraint(model, LΦ ∈ SOSCone(), domain = dom1)\n",
    "@constraint(model, ϵ - LΦ ∈ SOSCone(), domain = dom1)\n",
    "@constraint(model, Φ₀ - V₀ ∈ SOSCone(), domain = dom2)\n",
    "@constraint(model, ϵ + V₀ - Φ₀ ∈ SOSCone(), domain = dom2)\n",
    "\n",
    "@objective(model, Min, ϵ)\n",
    "optimize!(model)\n",
    "```\n",
    "\n",
    "~~24 LOC~~ => 23 LOC"
   ]
  },
  {
   "cell_type": "markdown",
   "metadata": {},
   "source": [
    "### Comparison of the generated model and runtime\n",
    "\n",
    "|  Package    | k    |Constraints|Scalar variables|Matrix variables|Time(s)|\n",
    "|-------------|------|-----------|----------------|----------------|-------|\n",
    "|**SumOfSquares v0.3.0**         |    2 |    83    |      13       |            8   |   < 1 |\n",
    "|YALMIP       |    2 |       152 |             63 |              10|   < 1 |\n",
    "||\n",
    "|**SumOfSquares v0.3.0**         |    3 |    199    |        21     |        10       |   < 1 |\n",
    "|YALMIP       |    3 |       254 |            121 |              10|   ~ 1 |\n",
    "||\n",
    "|**SumOfSquares v0.3.0**         |    4 |   199     |       36      |      10         |   < 1 |\n",
    "|YALMIP       |    4 |       394 |           206  |              10|  1.18 |\n",
    "||\n",
    "|**SumOfSquares v0.3.0**         |    5 |     387   |       57      |         10      |   < 1 |\n",
    "|YALMIP       |    5 |      578  |         323     |          10    |  0.11 |\n",
    "||\n",
    "|**SumOfSquares v0.3.0**         |    6 |    387    |       85      |       10        |   < 1 |\n",
    "|YALMIP       |    6 |    812    |         477    |    10          |  1.10  |\n",
    "||\n",
    "|**SumOfSquares v0.3.0**         |    7 |   663     |     121        |      10         |   < 1 |\n",
    "|YALMIP       |    7 |     1102   |        673     |        10      |  1.52 |\n",
    "||\n",
    "|**SumOfSquares v0.3.0**         |    8 |  663      |        166     |           10    |   < 1 |\n",
    "|YALMIP       |    8 |    1454    |       916       |          10    |  1.10 |\n",
    "||\n",
    "|**SumOfSquares v0.3.0**         |    9 |      1043  |        221     |        10       |   1.70 |\n",
    "|YALMIP       |    9 |   1874     |       1211     |         10     |  1.58  |\n",
    "||\n",
    "|**SumOfSquares v0.3.0**         |    10 |    1043    |    287         |     10          |   1.67 |\n",
    "|YALMIP       |   10 |     2368   |       1563     |        10      |  2.73 |\n",
    "||\n",
    "|**SumOfSquares v0.3.0**         |    11 |   1543     |      365       |     10          |   4.88 |\n",
    "|YALMIP       |   11 |   2942    |       1977      |       10       |  2.30 |\n",
    "||\n",
    "|**SumOfSquares v0.3.0**         |    12 | 1543       |   456          |         10      |  5.02 |\n",
    "|YALMIP       |   12 |    3602    |      2458       |      10        | 6.57  |\n",
    "\n",
    "\n",
    "Using: `MosekTools v0.7.0`, `SumOfSquares v0.3.0`."
   ]
  },
  {
   "cell_type": "markdown",
   "metadata": {},
   "source": [
    "Why are the generated models different?\n",
    "\n",
    "- Recent fix gave a massive improvement: https://github.com/JuliaOpt/MosekTools.jl/issues/11\n",
    "- With SumOfSquares one can directly create sum of squares variables. With YALMIP one first creates a polynomial, and the constrain the scalar variables to be SOS. \n",
    "\n",
    "Comparison:\n",
    "\n",
    "- smaller problem instances may have an impact in *performance* (see below!)\n",
    "- free for people doing research (i have a Mosek academic license)"
   ]
  },
  {
   "cell_type": "markdown",
   "metadata": {},
   "source": [
    "### Extracting the solution and visualization \n",
    "\n",
    "- The sublevel sets $Φ(x, T) \\le 0$ provide an *under-approximation* of the reachset at time `t=T`,\n",
    "- while $Φ(x, T) - ϵopt * (T+1) \\le 0$ gives an *over-approximation.*"
   ]
  },
  {
   "cell_type": "code",
   "execution_count": 24,
   "metadata": {},
   "outputs": [
    {
     "data": {
      "text/latex": [
       "$$ -1.611713484453115e-6x₁^{12} + 5.842725210338221e-6x₁^{11}x₂ - 3.0485883651183134e-19x₁^{11}t - 9.524709600557117e-6x₁^{10}x₂^{2} + 8.071468717862973e-22x₁^{10}x₂t + 0.00013659493591221063x₁^{10}t^{2} + 3.1790159310914307e-6x₁^{9}x₂^{3} - 1.4261067330304194e-19x₁^{9}x₂^{2}t - 0.00023854453529836863x₁^{9}x₂t^{2} + 1.3691007584102896e-17x₁^{9}t^{3} + 1.7316906039965548e-6x₁^{8}x₂^{4} + 1.5568287014166899e-18x₁^{8}x₂^{3}t + 0.00012812526488334243x₁^{8}x₂^{2}t^{2} + 1.2971717087046225e-18x₁^{8}x₂t^{3} - 0.0006562183683098419x₁^{8}t^{4} + 6.902209897488914e-7x₁^{7}x₂^{5} - 2.1630230444533115e-18x₁^{7}x₂^{4}t + 0.0001479506444538325x₁^{7}x₂^{3}t^{2} + 9.564699542101806e-18x₁^{7}x₂^{2}t^{3} + 0.003364889681115302x₁^{7}x₂t^{4} - 2.1538238461815153e-16x₁^{7}t^{5} - 3.687845469409675e-7x₁^{6}x₂^{6} + 1.7454623639427683e-18x₁^{6}x₂^{5}t - 0.0002281293624128374x₁^{6}x₂^{4}t^{2} + 1.4342484023497998e-17x₁^{6}x₂^{3}t^{3} - 0.003055732290442207x₁^{6}x₂^{2}t^{4} + 2.920818505514458e-16x₁^{6}x₂t^{5} - 0.009865894358776791x₁^{6}t^{6} - 6.02267921414007e-7x₁^{5}x₂^{7} + 4.345087985192916e-19x₁^{5}x₂^{6}t - 0.00010584957860034081x₁^{5}x₂^{5}t^{2} + 3.20113957630258e-17x₁^{5}x₂^{4}t^{3} - 0.00029918484935200325x₁^{5}x₂^{3}t^{4} + 1.162961347690193e-16x₁^{5}x₂^{2}t^{5} + 0.00597373143656612x₁^{5}x₂t^{6} + 4.587177072113417e-16x₁^{5}t^{7} + 1.1984553282020144e-6x₁^{4}x₂^{8} - 5.100913582596434e-19x₁^{4}x₂^{7}t + 0.0002785122801192364x₁^{4}x₂^{6}t^{2} - 5.262943356396436e-17x₁^{4}x₂^{5}t^{3} + 0.009012853342338777x₁^{4}x₂^{4}t^{4} - 2.700796700079732e-16x₁^{4}x₂^{3}t^{5} + 0.2518805281327466x₁^{4}x₂^{2}t^{6} - 4.036971331428174e-15x₁^{4}x₂t^{7} - 0.0600089795449018x₁^{4}t^{8} - 1.6357040894652182e-6x₁^{3}x₂^{9} + 1.2177005448027053e-19x₁^{3}x₂^{8}t - 0.00012149102148952524x₁^{3}x₂^{7}t^{2} + 6.88086136672086e-17x₁^{3}x₂^{6}t^{3} - 0.001313496120810014x₁^{3}x₂^{5}t^{4} + 6.678261798005678e-16x₁^{3}x₂^{4}t^{5} + 0.12988595754359605x₁^{3}x₂^{3}t^{6} - 1.2801209190043737e-15x₁^{3}x₂^{2}t^{7} + 0.3650961819527628x₁^{3}x₂t^{8} + 2.9081591681089636e-14x₁^{3}t^{9} + 5.298357469714061e-7x₁^{2}x₂^{10} + 1.2129830975548182e-18x₁^{2}x₂^{9}t - 6.570430998149526e-5x₁^{2}x₂^{8}t^{2} + 3.765618156505493e-17x₁^{2}x₂^{7}t^{3} - 0.002903988181767995x₁^{2}x₂^{6}t^{4} + 9.072094572708591e-17x₁^{2}x₂^{5}t^{5} - 0.08498553455419983x₁^{2}x₂^{4}t^{6} + 4.229845937087923e-15x₁^{2}x₂^{3}t^{7} + 1.2476095579874416x₁^{2}x₂^{2}t^{8} - 9.944456533149854e-16x₁^{2}x₂t^{9} + 0.022536828838356067x₁^{2}t^{10} - 1.8711995130472238e-7x₁x₂^{11} - 2.1562238676433426e-19x₁x₂^{10}t + 4.8840104970099765e-5x₁x₂^{9}t^{2} - 5.762712943841875e-18x₁x₂^{8}t^{3} + 0.0016935036581371703x₁x₂^{7}t^{4} - 1.3736943247940134e-16x₁x₂^{6}t^{5} + 0.04626212396978931x₁x₂^{5}t^{6} - 5.4735392075656545e-15x₁x₂^{4}t^{7} - 0.06584955770546216x₁x₂^{3}t^{8} - 4.51558190473224e-14x₁x₂^{2}t^{9} + 0.3290608292451196x₁x₂t^{10} + 7.961593668268692e-15x₁t^{11} - 1.8600136900994778e-7x₂^{12} - 2.5941065311221127e-19x₂^{11}t - 7.3483806117806585e-6x₂^{10}t^{2} + 1.2606132554301413e-17x₂^{9}t^{3} + 0.00016124064091649346x₂^{8}t^{4} + 4.715677656064675e-16x₂^{7}t^{5} + 0.020040422302383662x₂^{6}t^{6} + 2.262114216433469e-15x₂^{5}t^{7} - 0.47244410489325894x₂^{4}t^{8} + 7.191032381252499e-15x₂^{3}t^{9} - 0.26020077336716874x₂^{2}t^{10} - 2.124253502084891e-14x₂t^{11} + 0.03405180886456961t^{12} + 4.8339717183387e-21x₁^{11} + 1.6082758815633346e-19x₁^{10}x₂ - 0.0001273073867733592x₁^{10}t - 2.6339278677589085e-19x₁^{9}x₂^{2} + 0.00012716735110591555x₁^{9}x₂t - 1.6717817792388052e-17x₁^{9}t^{2} - 4.075796489427452e-19x₁^{8}x₂^{3} + 0.00010258315905792681x₁^{8}x₂^{2}t + 2.4006556436393023e-18x₁^{8}x₂t^{2} + 0.0007174949333846105x₁^{8}t^{3} + 2.460600826168803e-19x₁^{7}x₂^{4} - 0.0002361126654894137x₁^{7}x₂^{3}t - 1.8040263816686108e-17x₁^{7}x₂^{2}t^{2} - 0.002194110302762218x₁^{7}x₂t^{3} + 4.628724337752203e-16x₁^{7}t^{4} - 2.1554733472053522e-19x₁^{6}x₂^{5} + 0.0002853407275360319x₁^{6}x₂^{4}t - 1.8079946269917825e-17x₁^{6}x₂^{3}t^{2} - 0.002166273837432698x₁^{6}x₂^{2}t^{3} - 8.185701034587894e-16x₁^{6}x₂t^{4} + 0.03135360871501712x₁^{6}t^{5} - 1.6108704310028703e-19x₁^{5}x₂^{6} + 8.181328554358415e-5x₁^{5}x₂^{5}t - 1.3479753072195542e-17x₁^{5}x₂^{4}t^{2} + 0.003316110244704783x₁^{5}x₂^{3}t^{3} - 2.4093141184695633e-16x₁^{5}x₂^{2}t^{4} - 0.08256460656668013x₁^{5}x₂t^{5} - 1.4579453199145863e-15x₁^{5}t^{6} + 2.2834248725443413e-19x₁^{4}x₂^{7} - 0.00029826370827426714x₁^{4}x₂^{6}t + 4.667284362504556e-17x₁^{4}x₂^{5}t^{2} - 0.021676594965087895x₁^{4}x₂^{4}t^{3} + 1.2170796454580173e-15x₁^{4}x₂^{3}t^{4} - 0.8481313819009687x₁^{4}x₂^{2}t^{5} + 1.4044625849721557e-14x₁^{4}x₂t^{6} + 0.11462238314724044x₁^{4}t^{7} - 5.523307501829402e-22x₁^{3}x₂^{8} + 0.00016733705541858266x₁^{3}x₂^{7}t - 7.892947428508021e-17x₁^{3}x₂^{6}t^{2} + 0.004752616051466743x₁^{3}x₂^{5}t^{3} - 1.7171733102368695e-15x₁^{3}x₂^{4}t^{4} - 0.33017605641385755x₁^{3}x₂^{3}t^{5} + 2.99739112188036e-15x₁^{3}x₂^{2}t^{6} - 2.5673081362133354x₁^{3}x₂t^{7} - 1.2933077392093167e-13x₁^{3}t^{8} + 1.8500564061436542e-19x₁^{2}x₂^{9} + 5.4962914844873644e-5x₁^{2}x₂^{8}t - 5.892352158527722e-17x₁^{2}x₂^{7}t^{2} + 0.006726407677538075x₁^{2}x₂^{6}t^{3} - 1.8748206649147337e-16x₁^{2}x₂^{5}t^{4} + 0.3239470265070633x₁^{2}x₂^{4}t^{5} - 1.175500874431555e-14x₁^{2}x₂^{3}t^{6} - 5.486565622690997x₁^{2}x₂^{2}t^{7} + 1.9259055975886823e-14x₁^{2}x₂t^{8} - 0.6169955517466419x₁^{2}t^{9} + 2.314103665274141e-20x₁x₂^{10} - 5.817440085627876e-5x₁x₂^{9}t + 3.530547291920215e-18x₁x₂^{8}t^{2} - 0.005174947015373541x₁x₂^{7}t^{3} + 2.711434017342003e-16x₁x₂^{6}t^{4} - 0.2383706345372722x₁x₂^{5}t^{5} + 1.9778636423792567e-14x₁x₂^{4}t^{6} + 0.9236193470027616x₁x₂^{3}t^{7} + 2.0320430523020669e-13x₁x₂^{2}t^{8} - 2.7739335973130506x₁x₂t^{9} - 5.82038561915625e-14x₁t^{10} + 1.9043692429987326e-20x₂^{11} + 1.156822498899988e-5x₂^{10}t - 1.2677220208408087e-17x₂^{9}t^{2} + 0.0003234767779206059x₂^{8}t^{3} - 1.353047546832588e-15x₂^{7}t^{4} - 0.0425987257443714x₂^{6}t^{5} - 1.1122886266992815e-14x₂^{5}t^{6} + 2.285268025905769x₂^{4}t^{7} - 3.641941142934524e-14x₂^{3}t^{8} + 2.258483854543683x₂^{2}t^{9} + 1.0544070615182107e-13x₂t^{10} + 0.13550269071932342t^{11} + 9.589668769664346e-5x₁^{10} - 0.0002091837064790181x₁^{9}x₂ + 8.086438018652978e-18x₁^{9}t + 0.00020570226213131512x₁^{8}x₂^{2} - 8.290335254464939e-18x₁^{8}x₂t - 0.002986185072899256x₁^{8}t^{2} - 0.0001916042425261179x₁^{7}x₂^{3} + 2.7418403452826576e-17x₁^{7}x₂^{2}t + 0.004507464697027489x₁^{7}x₂t^{2} - 4.706047865268443e-16x₁^{7}t^{3} + 1.6049303134097788e-5x₁^{6}x₂^{4} - 4.450063113292847e-17x₁^{6}x₂^{3}t + 0.0018982701434355586x₁^{6}x₂^{2}t^{2} + 8.030910972899306e-16x₁^{6}x₂t^{3} - 0.025293034199267834x₁^{6}t^{4} - 7.908848992173956e-6x₁^{5}x₂^{5} + 2.3523255621999756e-17x₁^{5}x₂^{4}t + 0.0019440821820756995x₁^{5}x₂^{3}t^{2} - 2.0083914645616728e-16x₁^{5}x₂^{2}t^{3} + 0.17031284184999992x₁^{5}x₂t^{4} + 3.413404766400929e-15x₁^{5}t^{5} - 1.4412068021822616e-5x₁^{4}x₂^{6} - 1.3683258972689195e-17x₁^{4}x₂^{5}t + 0.013868919003804386x₁^{4}x₂^{4}t^{2} - 1.4294357834253831e-15x₁^{4}x₂^{3}t^{3} + 1.037916335365822x₁^{4}x₂^{2}t^{4} - 2.0370731284355478e-14x₁^{4}x₂t^{5} + 0.11422670022971457x₁^{4}t^{6} + 9.840736912557565e-6x₁^{3}x₂^{7} + 1.3407432768670707e-17x₁^{3}x₂^{6}t - 0.003877666371974199x₁^{3}x₂^{5}t^{2} + 9.965778780200586e-16x₁^{3}x₂^{4}t^{3} + 0.18223246255406256x₁^{3}x₂^{3}t^{4} - 4.5379159742678236e-15x₁^{3}x₂^{2}t^{5} + 6.595092631839142x₁^{3}x₂t^{6} + 2.3427558908760993e-13x₁^{3}t^{7} - 1.535194808442625e-5x₁^{2}x₂^{8} + 2.5473413072612983e-17x₁^{2}x₂^{7}t - 0.004398964096058555x₁^{2}x₂^{6}t^{2} + 3.2153529982598927e-16x₁^{2}x₂^{5}t^{3} - 0.348211210316756x₁^{2}x₂^{4}t^{4} + 1.1179784921135479e-14x₁^{2}x₂^{3}t^{5} + 8.70247664141751x₁^{2}x₂^{2}t^{6} - 6.160589158449431e-14x₁^{2}x₂t^{7} + 2.642535397685248x₁^{2}t^{8} + 4.491479763041665e-6x₁x₂^{9} + 2.9804914862973008e-18x₁x₂^{8}t + 0.0043744921599235395x₁x₂^{7}t^{2} - 2.4354138558808994e-16x₁x₂^{6}t^{3} + 0.3758067317293076x₁x₂^{5}t^{4} - 2.8451217556734863e-14x₁x₂^{4}t^{5} - 4.06245653895779x₁x₂^{3}t^{6} - 3.6938011426262187e-13x₁x₂^{2}t^{7} + 7.868101521949925x₁x₂t^{8} + 1.3263759039691282e-13x₁t^{9} + 7.179465988212523e-6x₂^{10} + 9.471947948045246e-18x₂^{9}t - 0.0007324037492296907x₂^{8}t^{2} + 1.363972503948378e-15x₂^{7}t^{3} + 0.020754346531670326x₂^{6}t^{4} + 1.875845734178722e-14x₂^{5}t^{5} - 4.7669689581582375x₂^{4}t^{6} + 7.052651945558781e-14x₂^{3}t^{7} - 7.856304398050372x₂^{2}t^{8} - 2.385263918197048e-13x₂t^{9} - 0.5770051190475015t^{10} + 7.842340266354513e-19x₁^{9} - 3.769304419876554e-18x₁^{8}x₂ + 0.002462448833318003x₁^{8}t + 3.764067423930695e-18x₁^{7}x₂^{2} - 0.00343681464423182x₁^{7}x₂t + 2.628607602295849e-16x₁^{7}t^{2} + 7.725930619249738e-18x₁^{6}x₂^{3} - 0.003490493306222137x₁^{6}x₂^{2}t - 3.425677668805627e-16x₁^{6}x₂t^{2} + 0.005156967863104847x₁^{6}t^{3} - 4.276414975475042e-18x₁^{5}x₂^{4} + 3.3687442367778474e-5x₁^{5}x₂^{3}t + 4.633620879378745e-16x₁^{5}x₂^{2}t^{2} - 0.16088331540968834x₁^{5}x₂t^{3} - 4.607942135289753e-15x₁^{5}t^{4} + 1.7199837769314243e-18x₁^{4}x₂^{5} - 0.003309723371697771x₁^{4}x₂^{4}t + 6.553664547041602e-16x₁^{4}x₂^{3}t^{2} - 0.40278458011223883x₁^{4}x₂^{2}t^{3} + 1.6238048321691482e-14x₁^{4}x₂t^{4} - 0.5139720366888032x₁^{4}t^{5} - 6.911515657640604e-19x₁^{3}x₂^{6} + 0.0003265942358974184x₁^{3}x₂^{5}t - 5.793270468458075e-17x₁^{3}x₂^{4}t^{2} - 0.01959384498966475x₁^{3}x₂^{3}t^{3} + 6.2893666236346716e-15x₁^{3}x₂^{2}t^{4} - 8.17589068556135x₁^{3}x₂t^{5} - 2.2073271782806037e-13x₁^{3}t^{6} - 3.001950155699848e-18x₁^{2}x₂^{7} + 0.0010987813214512637x₁^{2}x₂^{6}t - 1.265084606821042e-16x₁^{2}x₂^{5}t^{2} + 0.1300237789289344x₁^{2}x₂^{4}t^{3} - 5.2251062093219134e-15x₁^{2}x₂^{3}t^{4} - 4.744227631421172x₁^{2}x₂^{2}t^{5} + 8.035130178481066e-14x₁^{2}x₂t^{6} - 4.546357696400094x₁^{2}t^{7} - 5.463281940214667e-19x₁x₂^{8} - 0.0011096642338542613x₁x₂^{7}t + 1.5170005974215504e-16x₁x₂^{6}t^{2} - 0.24330273546614242x₁x₂^{5}t^{3} + 2.090414269921507e-14x₁x₂^{4}t^{4} + 8.573448081938825x₁x₂^{3}t^{5} + 3.4549937417420257e-13x₁x₂^{2}t^{6} - 8.37642292417523x₁x₂t^{7} - 9.837056077038249e-14x₁t^{8} - 2.3924714039931637e-19x₂^{9} + 0.0002814824924844834x₂^{8}t - 4.968564815221494e-16x₂^{7}t^{2} + 0.005046321669412295x₂^{6}t^{3} - 1.3034989228300084e-14x₂^{5}t^{4} + 5.303281138325884x₂^{4}t^{5} - 5.99635919884239e-14x₂^{3}t^{6} + 14.521877194155786x₂^{2}t^{7} + 3.2218401411072703e-13x₂t^{8} - 0.0777757227075951t^{9} - 0.0005953775367172212x₁^{8} + 0.0023706082853110406x₁^{7}x₂ - 7.173678724102805e-17x₁^{7}t - 0.0015392402525965646x₁^{6}x₂^{2} + 1.3798713405864126e-16x₁^{6}x₂t + 0.0230828817910384x₁^{6}t^{2} + 0.0020495805098061197x₁^{5}x₂^{3} - 3.6830684250257503e-16x₁^{5}x₂^{2}t - 0.0013257938635899819x₁^{5}x₂t^{2} + 3.4088219563420122e-15x₁^{5}t^{3} - 0.00043416115869545784x₁^{4}x₂^{4} + 2.019556101381711e-16x₁^{4}x₂^{3}t - 0.01558032614416227x₁^{4}x₂^{2}t^{2} - 7.890377521688558e-15x₁^{4}x₂t^{3} + 0.5591406525041355x₁^{4}t^{4} + 0.00015879977181116174x₁^{3}x₂^{5} - 2.0626483624108303e-16x₁^{3}x₂^{4}t - 8.46758763596002e-5x₁^{3}x₂^{3}t^{2} - 3.3342995534489593e-15x₁^{3}x₂^{2}t^{3} + 5.17908630932949x₁^{3}x₂t^{4} + 1.1086745162917015e-13x₁^{3}t^{5} + 4.735587155355279e-8x₁^{2}x₂^{6} + 2.5075465595849376e-17x₁^{2}x₂^{5}t + 0.009650399902288893x₁^{2}x₂^{4}t^{2} + 1.845966177300682e-15x₁^{2}x₂^{3}t^{3} - 2.722552719356795x₁^{2}x₂^{2}t^{4} - 4.5479577358235684e-14x₁^{2}x₂t^{5} + 3.467574484976245x₁^{2}t^{6} + 7.551789678110074e-5x₁x₂^{7} - 7.416809705660526e-17x₁x₂^{6}t + 0.05622935513644365x₁x₂^{5}t^{2} - 7.527709740163193e-15x₁x₂^{4}t^{3} - 9.423885904179848x₁x₂^{3}t^{4} - 1.7036350319202859e-13x₁x₂^{2}t^{5} - 1.4593763335720307x₁x₂t^{6} - 5.97434982910095e-14x₁t^{7} - 5.177716627071095e-5x₂^{8} + 2.7958686855078185e-17x₂^{7}t - 0.0020223729553750375x₂^{6}t^{2} + 2.5845787715801232e-15x₂^{5}t^{3} - 3.2159349872556695x₂^{4}t^{4} + 1.3131509939316158e-14x₂^{3}t^{5} - 14.17167222260855x₂^{2}t^{6} - 2.7673807623576027e-13x₂t^{7} + 2.3698882805596653t^{8} - 1.0212210728156313e-17x₁^{7} + 2.26699112748704e-17x₁^{6}x₂ - 0.02079109052158875x₁^{6}t - 5.93997341516832e-18x₁^{5}x₂^{2} + 0.07422087586359999x₁^{5}x₂t - 1.399543103301218e-15x₁^{5}t^{2} - 3.266843726978359e-17x₁^{4}x₂^{3} + 0.004974350862289157x₁^{4}x₂^{2}t + 2.36913223753174e-15x₁^{4}x₂t^{2} - 0.2974742792417085x₁^{4}t^{3} + 2.938765656503206e-17x₁^{3}x₂^{4} - 0.004999878110457362x₁^{3}x₂^{3}t - 5.618993426706095e-16x₁^{3}x₂^{2}t^{2} - 1.1294182041507457x₁^{3}x₂t^{3} - 2.4037962351792838e-14x₁^{3}t^{4} + 3.121347335535869e-18x₁^{2}x₂^{5} - 0.0053417673817033875x₁^{2}x₂^{4}t - 5.665184966710312e-16x₁^{2}x₂^{3}t^{2} + 4.8197524833404914x₁^{2}x₂^{2}t^{3} + 4.215994455701532e-15x₁^{2}x₂t^{4} - 0.5536527790913249x₁^{2}t^{5} + 9.723636432155715e-18x₁x₂^{6} - 0.00262058853979879x₁x₂^{5}t + 6.631321201779308e-16x₁x₂^{4}t^{2} + 5.558112304695751x₁x₂^{3}t^{3} + 3.4449660682870556e-14x₁x₂^{2}t^{4} + 11.42186112265728x₁x₂t^{5} + 1.520284799705371e-13x₁t^{6} + 3.5024140528655845e-18x₂^{7} - 0.000708855861004299x₂^{6}t + 6.750092806723513e-16x₂^{5}t^{2} + 0.9578229340917553x₂^{4}t^{3} + 1.1628584066000404e-14x₂^{3}t^{4} + 3.655155250043093x₂^{2}t^{5} + 1.4446290936195187e-13x₂t^{6} - 4.100320868098652t^{7} - 0.003033211037595649x₁^{6} - 0.011272052654352839x₁^{5}x₂ + 2.6574677210930517e-16x₁^{5}t + 0.0066883288379402045x₁^{4}x₂^{2} - 6.296328567841084e-16x₁^{4}x₂t - 0.012652584455074105x₁^{4}t^{2} - 0.006891653549910344x₁^{3}x₂^{3} + 1.1099997603730308e-15x₁^{3}x₂^{2}t - 0.18106092748468508x₁^{3}x₂t^{2} - 2.0957595818061326e-15x₁^{3}t^{3} + 0.003099443527732291x₁^{2}x₂^{4} - 3.315017317434339e-16x₁^{2}x₂^{3}t - 2.3078191250035793x₁^{2}x₂^{2}t^{2} + 7.286993483915992e-15x₁^{2}x₂t^{3} - 0.8714238994215414x₁^{2}t^{4} - 0.0011350272325839682x₁x₂^{5} + 4.2518286422051645e-16x₁x₂^{4}t - 1.7461755300472x₁x₂^{3}t^{2} + 2.928457524432186e-15x₁x₂^{2}t^{3} - 11.278565120195866x₁x₂t^{4} - 1.039350692605498e-13x₁t^{5} + 0.0003786222789764663x₂^{6} - 1.7299370381121923e-16x₂^{5}t - 0.06032315377556945x₂^{4}t^{2} - 6.4541343020556254e-15x₂^{3}t^{3} + 9.072287270254167x₂^{2}t^{4} - 3.759932925526972e-14x₂t^{5} + 3.8691137875903934t^{6} + 4.6446566399735553e-17x₁^{5} - 5.1816229211024615e-17x₁^{4}x₂ + 0.06667836880042716x₁^{4}t - 6.024245290076923e-17x₁^{3}x₂^{2} - 0.2841562934417927x₁^{3}x₂t + 2.2963078028215772e-15x₁^{3}t^{2} + 4.976456537975991e-17x₁^{2}x₂^{3} + 0.84073198349574x₁^{2}x₂^{2}t - 3.587822963445941e-15x₁^{2}x₂t^{2} + 0.9066860179064999x₁^{2}t^{3} - 7.59868337231683e-17x₁x₂^{4} + 0.03728471133665504x₁x₂^{3}t - 7.769577670739506e-16x₁x₂^{2}t^{2} + 4.884893226985817x₁x₂t^{3} + 3.0621632307855085e-14x₁t^{4} + 2.6579082237292353e-18x₂^{5} + 0.019235215303614522x₂^{4}t + 2.168078863071391e-16x₂^{3}t^{2} - 14.64811103572344x₂^{2}t^{3} + 6.408819621292496e-16x₂t^{4} - 2.58893202812298t^{5} + 0.028608525348152836x₁^{4} + 0.02083331013573457x₁^{3}x₂ - 4.257199584896615e-16x₁^{3}t - 0.019336907341856172x₁^{2}x₂^{2} + 8.867273298008723e-16x₁^{2}x₂t - 0.7589982491963568x₁^{2}t^{2} + 0.007042994583571702x₁x₂^{3} - 9.161855131842191e-16x₁x₂^{2}t + 1.3257927883871634x₁x₂t^{2} - 2.3794922761040896e-15x₁t^{3} - 0.0042656007591957605x₂^{4} + 3.102698994135942e-16x₂^{3}t + 10.994562012419744x₂^{2}t^{2} + 1.0638321196912201e-15x₂t^{3} + 1.281457503055357t^{4} - 5.903044594551345e-17x₁^{3} + 1.6277347323481054e-17x₁^{2}x₂ - 0.06935908074314592x₁^{2}t + 1.5640586735105228e-16x₁x₂^{2} - 3.0017619661291812x₁x₂t - 7.692766593496552e-16x₁t^{2} - 5.032214397217231e-17x₂^{3} - 4.058408424333139x₂^{2}t + 4.915275845745055e-16x₂t^{2} - 0.41915332639633796t^{3} + 0.9572085427979027x₁^{2} - 0.0097883470987243x₁x₂ + 2.1336815995797227e-16x₁t + 1.0172185829391827x₂^{2} - 2.672506594373825e-16x₂t + 0.07455855242740858t^{2} - 4.888191752157994e-18x₁ + 5.816768385843444e-17x₂ + 0.036914959332660036t - 0.22391754642327422 $$"
      ],
      "text/plain": [
       "-1.611713484453115e-6x₁¹² + 5.842725210338221e-6x₁¹¹x₂ - 3.0485883651183134e-19x₁¹¹t - 9.524709600557117e-6x₁¹⁰x₂² + 8.071468717862973e-22x₁¹⁰x₂t + 0.00013659493591221063x₁¹⁰t² + 3.1790159310914307e-6x₁⁹x₂³ - 1.4261067330304194e-19x₁⁹x₂²t - 0.00023854453529836863x₁⁹x₂t² + 1.3691007584102896e-17x₁⁹t³ + 1.7316906039965548e-6x₁⁸x₂⁴ + 1.5568287014166899e-18x₁⁸x₂³t + 0.00012812526488334243x₁⁸x₂²t² + 1.2971717087046225e-18x₁⁸x₂t³ - 0.0006562183683098419x₁⁸t⁴ + 6.902209897488914e-7x₁⁷x₂⁵ - 2.1630230444533115e-18x₁⁷x₂⁴t + 0.0001479506444538325x₁⁷x₂³t² + 9.564699542101806e-18x₁⁷x₂²t³ + 0.003364889681115302x₁⁷x₂t⁴ - 2.1538238461815153e-16x₁⁷t⁵ - 3.687845469409675e-7x₁⁶x₂⁶ + 1.7454623639427683e-18x₁⁶x₂⁵t - 0.0002281293624128374x₁⁶x₂⁴t² + 1.4342484023497998e-17x₁⁶x₂³t³ - 0.003055732290442207x₁⁶x₂²t⁴ + 2.920818505514458e-16x₁⁶x₂t⁵ - 0.009865894358776791x₁⁶t⁶ - 6.02267921414007e-7x₁⁵x₂⁷ + 4.345087985192916e-19x₁⁵x₂⁶t - 0.00010584957860034081x₁⁵x₂⁵t² + 3.20113957630258e-17x₁⁵x₂⁴t³ - 0.00029918484935200325x₁⁵x₂³t⁴ + 1.162961347690193e-16x₁⁵x₂²t⁵ + 0.00597373143656612x₁⁵x₂t⁶ + 4.587177072113417e-16x₁⁵t⁷ + 1.1984553282020144e-6x₁⁴x₂⁸ - 5.100913582596434e-19x₁⁴x₂⁷t + 0.0002785122801192364x₁⁴x₂⁶t² - 5.262943356396436e-17x₁⁴x₂⁵t³ + 0.009012853342338777x₁⁴x₂⁴t⁴ - 2.700796700079732e-16x₁⁴x₂³t⁵ + 0.2518805281327466x₁⁴x₂²t⁶ - 4.036971331428174e-15x₁⁴x₂t⁷ - 0.0600089795449018x₁⁴t⁸ - 1.6357040894652182e-6x₁³x₂⁹ + 1.2177005448027053e-19x₁³x₂⁸t - 0.00012149102148952524x₁³x₂⁷t² + 6.88086136672086e-17x₁³x₂⁶t³ - 0.001313496120810014x₁³x₂⁵t⁴ + 6.678261798005678e-16x₁³x₂⁴t⁵ + 0.12988595754359605x₁³x₂³t⁶ - 1.2801209190043737e-15x₁³x₂²t⁷ + 0.3650961819527628x₁³x₂t⁸ + 2.9081591681089636e-14x₁³t⁹ + 5.298357469714061e-7x₁²x₂¹⁰ + 1.2129830975548182e-18x₁²x₂⁹t - 6.570430998149526e-5x₁²x₂⁸t² + 3.765618156505493e-17x₁²x₂⁷t³ - 0.002903988181767995x₁²x₂⁶t⁴ + 9.072094572708591e-17x₁²x₂⁵t⁵ - 0.08498553455419983x₁²x₂⁴t⁶ + 4.229845937087923e-15x₁²x₂³t⁷ + 1.2476095579874416x₁²x₂²t⁸ - 9.944456533149854e-16x₁²x₂t⁹ + 0.022536828838356067x₁²t¹⁰ - 1.8711995130472238e-7x₁x₂¹¹ - 2.1562238676433426e-19x₁x₂¹⁰t + 4.8840104970099765e-5x₁x₂⁹t² - 5.762712943841875e-18x₁x₂⁸t³ + 0.0016935036581371703x₁x₂⁷t⁴ - 1.3736943247940134e-16x₁x₂⁶t⁵ + 0.04626212396978931x₁x₂⁵t⁶ - 5.4735392075656545e-15x₁x₂⁴t⁷ - 0.06584955770546216x₁x₂³t⁸ - 4.51558190473224e-14x₁x₂²t⁹ + 0.3290608292451196x₁x₂t¹⁰ + 7.961593668268692e-15x₁t¹¹ - 1.8600136900994778e-7x₂¹² - 2.5941065311221127e-19x₂¹¹t - 7.3483806117806585e-6x₂¹⁰t² + 1.2606132554301413e-17x₂⁹t³ + 0.00016124064091649346x₂⁸t⁴ + 4.715677656064675e-16x₂⁷t⁵ + 0.020040422302383662x₂⁶t⁶ + 2.262114216433469e-15x₂⁵t⁷ - 0.47244410489325894x₂⁴t⁸ + 7.191032381252499e-15x₂³t⁹ - 0.26020077336716874x₂²t¹⁰ - 2.124253502084891e-14x₂t¹¹ + 0.03405180886456961t¹² + 4.8339717183387e-21x₁¹¹ + 1.6082758815633346e-19x₁¹⁰x₂ - 0.0001273073867733592x₁¹⁰t - 2.6339278677589085e-19x₁⁹x₂² + 0.00012716735110591555x₁⁹x₂t - 1.6717817792388052e-17x₁⁹t² - 4.075796489427452e-19x₁⁸x₂³ + 0.00010258315905792681x₁⁸x₂²t + 2.4006556436393023e-18x₁⁸x₂t² + 0.0007174949333846105x₁⁸t³ + 2.460600826168803e-19x₁⁷x₂⁴ - 0.0002361126654894137x₁⁷x₂³t - 1.8040263816686108e-17x₁⁷x₂²t² - 0.002194110302762218x₁⁷x₂t³ + 4.628724337752203e-16x₁⁷t⁴ - 2.1554733472053522e-19x₁⁶x₂⁵ + 0.0002853407275360319x₁⁶x₂⁴t - 1.8079946269917825e-17x₁⁶x₂³t² - 0.002166273837432698x₁⁶x₂²t³ - 8.185701034587894e-16x₁⁶x₂t⁴ + 0.03135360871501712x₁⁶t⁵ - 1.6108704310028703e-19x₁⁵x₂⁶ + 8.181328554358415e-5x₁⁵x₂⁵t - 1.3479753072195542e-17x₁⁵x₂⁴t² + 0.003316110244704783x₁⁵x₂³t³ - 2.4093141184695633e-16x₁⁵x₂²t⁴ - 0.08256460656668013x₁⁵x₂t⁵ - 1.4579453199145863e-15x₁⁵t⁶ + 2.2834248725443413e-19x₁⁴x₂⁷ - 0.00029826370827426714x₁⁴x₂⁶t + 4.667284362504556e-17x₁⁴x₂⁵t² - 0.021676594965087895x₁⁴x₂⁴t³ + 1.2170796454580173e-15x₁⁴x₂³t⁴ - 0.8481313819009687x₁⁴x₂²t⁵ + 1.4044625849721557e-14x₁⁴x₂t⁶ + 0.11462238314724044x₁⁴t⁷ - 5.523307501829402e-22x₁³x₂⁸ + 0.00016733705541858266x₁³x₂⁷t - 7.892947428508021e-17x₁³x₂⁶t² + 0.004752616051466743x₁³x₂⁵t³ - 1.7171733102368695e-15x₁³x₂⁴t⁴ - 0.33017605641385755x₁³x₂³t⁵ + 2.99739112188036e-15x₁³x₂²t⁶ - 2.5673081362133354x₁³x₂t⁷ - 1.2933077392093167e-13x₁³t⁸ + 1.8500564061436542e-19x₁²x₂⁹ + 5.4962914844873644e-5x₁²x₂⁸t - 5.892352158527722e-17x₁²x₂⁷t² + 0.006726407677538075x₁²x₂⁶t³ - 1.8748206649147337e-16x₁²x₂⁵t⁴ + 0.3239470265070633x₁²x₂⁴t⁵ - 1.175500874431555e-14x₁²x₂³t⁶ - 5.486565622690997x₁²x₂²t⁷ + 1.9259055975886823e-14x₁²x₂t⁸ - 0.6169955517466419x₁²t⁹ + 2.314103665274141e-20x₁x₂¹⁰ - 5.817440085627876e-5x₁x₂⁹t + 3.530547291920215e-18x₁x₂⁸t² - 0.005174947015373541x₁x₂⁷t³ + 2.711434017342003e-16x₁x₂⁶t⁴ - 0.2383706345372722x₁x₂⁵t⁵ + 1.9778636423792567e-14x₁x₂⁴t⁶ + 0.9236193470027616x₁x₂³t⁷ + 2.0320430523020669e-13x₁x₂²t⁸ - 2.7739335973130506x₁x₂t⁹ - 5.82038561915625e-14x₁t¹⁰ + 1.9043692429987326e-20x₂¹¹ + 1.156822498899988e-5x₂¹⁰t - 1.2677220208408087e-17x₂⁹t² + 0.0003234767779206059x₂⁸t³ - 1.353047546832588e-15x₂⁷t⁴ - 0.0425987257443714x₂⁶t⁵ - 1.1122886266992815e-14x₂⁵t⁶ + 2.285268025905769x₂⁴t⁷ - 3.641941142934524e-14x₂³t⁸ + 2.258483854543683x₂²t⁹ + 1.0544070615182107e-13x₂t¹⁰ + 0.13550269071932342t¹¹ + 9.589668769664346e-5x₁¹⁰ - 0.0002091837064790181x₁⁹x₂ + 8.086438018652978e-18x₁⁹t + 0.00020570226213131512x₁⁸x₂² - 8.290335254464939e-18x₁⁸x₂t - 0.002986185072899256x₁⁸t² - 0.0001916042425261179x₁⁷x₂³ + 2.7418403452826576e-17x₁⁷x₂²t + 0.004507464697027489x₁⁷x₂t² - 4.706047865268443e-16x₁⁷t³ + 1.6049303134097788e-5x₁⁶x₂⁴ - 4.450063113292847e-17x₁⁶x₂³t + 0.0018982701434355586x₁⁶x₂²t² + 8.030910972899306e-16x₁⁶x₂t³ - 0.025293034199267834x₁⁶t⁴ - 7.908848992173956e-6x₁⁵x₂⁵ + 2.3523255621999756e-17x₁⁵x₂⁴t + 0.0019440821820756995x₁⁵x₂³t² - 2.0083914645616728e-16x₁⁵x₂²t³ + 0.17031284184999992x₁⁵x₂t⁴ + 3.413404766400929e-15x₁⁵t⁵ - 1.4412068021822616e-5x₁⁴x₂⁶ - 1.3683258972689195e-17x₁⁴x₂⁵t + 0.013868919003804386x₁⁴x₂⁴t² - 1.4294357834253831e-15x₁⁴x₂³t³ + 1.037916335365822x₁⁴x₂²t⁴ - 2.0370731284355478e-14x₁⁴x₂t⁵ + 0.11422670022971457x₁⁴t⁶ + 9.840736912557565e-6x₁³x₂⁷ + 1.3407432768670707e-17x₁³x₂⁶t - 0.003877666371974199x₁³x₂⁵t² + 9.965778780200586e-16x₁³x₂⁴t³ + 0.18223246255406256x₁³x₂³t⁴ - 4.5379159742678236e-15x₁³x₂²t⁵ + 6.595092631839142x₁³x₂t⁶ + 2.3427558908760993e-13x₁³t⁷ - 1.535194808442625e-5x₁²x₂⁸ + 2.5473413072612983e-17x₁²x₂⁷t - 0.004398964096058555x₁²x₂⁶t² + 3.2153529982598927e-16x₁²x₂⁵t³ - 0.348211210316756x₁²x₂⁴t⁴ + 1.1179784921135479e-14x₁²x₂³t⁵ + 8.70247664141751x₁²x₂²t⁶ - 6.160589158449431e-14x₁²x₂t⁷ + 2.642535397685248x₁²t⁸ + 4.491479763041665e-6x₁x₂⁹ + 2.9804914862973008e-18x₁x₂⁸t + 0.0043744921599235395x₁x₂⁷t² - 2.4354138558808994e-16x₁x₂⁶t³ + 0.3758067317293076x₁x₂⁵t⁴ - 2.8451217556734863e-14x₁x₂⁴t⁵ - 4.06245653895779x₁x₂³t⁶ - 3.6938011426262187e-13x₁x₂²t⁷ + 7.868101521949925x₁x₂t⁸ + 1.3263759039691282e-13x₁t⁹ + 7.179465988212523e-6x₂¹⁰ + 9.471947948045246e-18x₂⁹t - 0.0007324037492296907x₂⁸t² + 1.363972503948378e-15x₂⁷t³ + 0.020754346531670326x₂⁶t⁴ + 1.875845734178722e-14x₂⁵t⁵ - 4.7669689581582375x₂⁴t⁶ + 7.052651945558781e-14x₂³t⁷ - 7.856304398050372x₂²t⁸ - 2.385263918197048e-13x₂t⁹ - 0.5770051190475015t¹⁰ + 7.842340266354513e-19x₁⁹ - 3.769304419876554e-18x₁⁸x₂ + 0.002462448833318003x₁⁸t + 3.764067423930695e-18x₁⁷x₂² - 0.00343681464423182x₁⁷x₂t + 2.628607602295849e-16x₁⁷t² + 7.725930619249738e-18x₁⁶x₂³ - 0.003490493306222137x₁⁶x₂²t - 3.425677668805627e-16x₁⁶x₂t² + 0.005156967863104847x₁⁶t³ - 4.276414975475042e-18x₁⁵x₂⁴ + 3.3687442367778474e-5x₁⁵x₂³t + 4.633620879378745e-16x₁⁵x₂²t² - 0.16088331540968834x₁⁵x₂t³ - 4.607942135289753e-15x₁⁵t⁴ + 1.7199837769314243e-18x₁⁴x₂⁵ - 0.003309723371697771x₁⁴x₂⁴t + 6.553664547041602e-16x₁⁴x₂³t² - 0.40278458011223883x₁⁴x₂²t³ + 1.6238048321691482e-14x₁⁴x₂t⁴ - 0.5139720366888032x₁⁴t⁵ - 6.911515657640604e-19x₁³x₂⁶ + 0.0003265942358974184x₁³x₂⁵t - 5.793270468458075e-17x₁³x₂⁴t² - 0.01959384498966475x₁³x₂³t³ + 6.2893666236346716e-15x₁³x₂²t⁴ - 8.17589068556135x₁³x₂t⁵ - 2.2073271782806037e-13x₁³t⁶ - 3.001950155699848e-18x₁²x₂⁷ + 0.0010987813214512637x₁²x₂⁶t - 1.265084606821042e-16x₁²x₂⁵t² + 0.1300237789289344x₁²x₂⁴t³ - 5.2251062093219134e-15x₁²x₂³t⁴ - 4.744227631421172x₁²x₂²t⁵ + 8.035130178481066e-14x₁²x₂t⁶ - 4.546357696400094x₁²t⁷ - 5.463281940214667e-19x₁x₂⁸ - 0.0011096642338542613x₁x₂⁷t + 1.5170005974215504e-16x₁x₂⁶t² - 0.24330273546614242x₁x₂⁵t³ + 2.090414269921507e-14x₁x₂⁴t⁴ + 8.573448081938825x₁x₂³t⁵ + 3.4549937417420257e-13x₁x₂²t⁶ - 8.37642292417523x₁x₂t⁷ - 9.837056077038249e-14x₁t⁸ - 2.3924714039931637e-19x₂⁹ + 0.0002814824924844834x₂⁸t - 4.968564815221494e-16x₂⁷t² + 0.005046321669412295x₂⁶t³ - 1.3034989228300084e-14x₂⁵t⁴ + 5.303281138325884x₂⁴t⁵ - 5.99635919884239e-14x₂³t⁶ + 14.521877194155786x₂²t⁷ + 3.2218401411072703e-13x₂t⁸ - 0.0777757227075951t⁹ - 0.0005953775367172212x₁⁸ + 0.0023706082853110406x₁⁷x₂ - 7.173678724102805e-17x₁⁷t - 0.0015392402525965646x₁⁶x₂² + 1.3798713405864126e-16x₁⁶x₂t + 0.0230828817910384x₁⁶t² + 0.0020495805098061197x₁⁵x₂³ - 3.6830684250257503e-16x₁⁵x₂²t - 0.0013257938635899819x₁⁵x₂t² + 3.4088219563420122e-15x₁⁵t³ - 0.00043416115869545784x₁⁴x₂⁴ + 2.019556101381711e-16x₁⁴x₂³t - 0.01558032614416227x₁⁴x₂²t² - 7.890377521688558e-15x₁⁴x₂t³ + 0.5591406525041355x₁⁴t⁴ + 0.00015879977181116174x₁³x₂⁵ - 2.0626483624108303e-16x₁³x₂⁴t - 8.46758763596002e-5x₁³x₂³t² - 3.3342995534489593e-15x₁³x₂²t³ + 5.17908630932949x₁³x₂t⁴ + 1.1086745162917015e-13x₁³t⁵ + 4.735587155355279e-8x₁²x₂⁶ + 2.5075465595849376e-17x₁²x₂⁵t + 0.009650399902288893x₁²x₂⁴t² + 1.845966177300682e-15x₁²x₂³t³ - 2.722552719356795x₁²x₂²t⁴ - 4.5479577358235684e-14x₁²x₂t⁵ + 3.467574484976245x₁²t⁶ + 7.551789678110074e-5x₁x₂⁷ - 7.416809705660526e-17x₁x₂⁶t + 0.05622935513644365x₁x₂⁵t² - 7.527709740163193e-15x₁x₂⁴t³ - 9.423885904179848x₁x₂³t⁴ - 1.7036350319202859e-13x₁x₂²t⁵ - 1.4593763335720307x₁x₂t⁶ - 5.97434982910095e-14x₁t⁷ - 5.177716627071095e-5x₂⁸ + 2.7958686855078185e-17x₂⁷t - 0.0020223729553750375x₂⁶t² + 2.5845787715801232e-15x₂⁵t³ - 3.2159349872556695x₂⁴t⁴ + 1.3131509939316158e-14x₂³t⁵ - 14.17167222260855x₂²t⁶ - 2.7673807623576027e-13x₂t⁷ + 2.3698882805596653t⁸ - 1.0212210728156313e-17x₁⁷ + 2.26699112748704e-17x₁⁶x₂ - 0.02079109052158875x₁⁶t - 5.93997341516832e-18x₁⁵x₂² + 0.07422087586359999x₁⁵x₂t - 1.399543103301218e-15x₁⁵t² - 3.266843726978359e-17x₁⁴x₂³ + 0.004974350862289157x₁⁴x₂²t + 2.36913223753174e-15x₁⁴x₂t² - 0.2974742792417085x₁⁴t³ + 2.938765656503206e-17x₁³x₂⁴ - 0.004999878110457362x₁³x₂³t - 5.618993426706095e-16x₁³x₂²t² - 1.1294182041507457x₁³x₂t³ - 2.4037962351792838e-14x₁³t⁴ + 3.121347335535869e-18x₁²x₂⁵ - 0.0053417673817033875x₁²x₂⁴t - 5.665184966710312e-16x₁²x₂³t² + 4.8197524833404914x₁²x₂²t³ + 4.215994455701532e-15x₁²x₂t⁴ - 0.5536527790913249x₁²t⁵ + 9.723636432155715e-18x₁x₂⁶ - 0.00262058853979879x₁x₂⁵t + 6.631321201779308e-16x₁x₂⁴t² + 5.558112304695751x₁x₂³t³ + 3.4449660682870556e-14x₁x₂²t⁴ + 11.42186112265728x₁x₂t⁵ + 1.520284799705371e-13x₁t⁶ + 3.5024140528655845e-18x₂⁷ - 0.000708855861004299x₂⁶t + 6.750092806723513e-16x₂⁵t² + 0.9578229340917553x₂⁴t³ + 1.1628584066000404e-14x₂³t⁴ + 3.655155250043093x₂²t⁵ + 1.4446290936195187e-13x₂t⁶ - 4.100320868098652t⁷ - 0.003033211037595649x₁⁶ - 0.011272052654352839x₁⁵x₂ + 2.6574677210930517e-16x₁⁵t + 0.0066883288379402045x₁⁴x₂² - 6.296328567841084e-16x₁⁴x₂t - 0.012652584455074105x₁⁴t² - 0.006891653549910344x₁³x₂³ + 1.1099997603730308e-15x₁³x₂²t - 0.18106092748468508x₁³x₂t² - 2.0957595818061326e-15x₁³t³ + 0.003099443527732291x₁²x₂⁴ - 3.315017317434339e-16x₁²x₂³t - 2.3078191250035793x₁²x₂²t² + 7.286993483915992e-15x₁²x₂t³ - 0.8714238994215414x₁²t⁴ - 0.0011350272325839682x₁x₂⁵ + 4.2518286422051645e-16x₁x₂⁴t - 1.7461755300472x₁x₂³t² + 2.928457524432186e-15x₁x₂²t³ - 11.278565120195866x₁x₂t⁴ - 1.039350692605498e-13x₁t⁵ + 0.0003786222789764663x₂⁶ - 1.7299370381121923e-16x₂⁵t - 0.06032315377556945x₂⁴t² - 6.4541343020556254e-15x₂³t³ + 9.072287270254167x₂²t⁴ - 3.759932925526972e-14x₂t⁵ + 3.8691137875903934t⁶ + 4.6446566399735553e-17x₁⁵ - 5.1816229211024615e-17x₁⁴x₂ + 0.06667836880042716x₁⁴t - 6.024245290076923e-17x₁³x₂² - 0.2841562934417927x₁³x₂t + 2.2963078028215772e-15x₁³t² + 4.976456537975991e-17x₁²x₂³ + 0.84073198349574x₁²x₂²t - 3.587822963445941e-15x₁²x₂t² + 0.9066860179064999x₁²t³ - 7.59868337231683e-17x₁x₂⁴ + 0.03728471133665504x₁x₂³t - 7.769577670739506e-16x₁x₂²t² + 4.884893226985817x₁x₂t³ + 3.0621632307855085e-14x₁t⁴ + 2.6579082237292353e-18x₂⁵ + 0.019235215303614522x₂⁴t + 2.168078863071391e-16x₂³t² - 14.64811103572344x₂²t³ + 6.408819621292496e-16x₂t⁴ - 2.58893202812298t⁵ + 0.028608525348152836x₁⁴ + 0.02083331013573457x₁³x₂ - 4.257199584896615e-16x₁³t - 0.019336907341856172x₁²x₂² + 8.867273298008723e-16x₁²x₂t - 0.7589982491963568x₁²t² + 0.007042994583571702x₁x₂³ - 9.161855131842191e-16x₁x₂²t + 1.3257927883871634x₁x₂t² - 2.3794922761040896e-15x₁t³ - 0.0042656007591957605x₂⁴ + 3.102698994135942e-16x₂³t + 10.994562012419744x₂²t² + 1.0638321196912201e-15x₂t³ + 1.281457503055357t⁴ - 5.903044594551345e-17x₁³ + 1.6277347323481054e-17x₁²x₂ - 0.06935908074314592x₁²t + 1.5640586735105228e-16x₁x₂² - 3.0017619661291812x₁x₂t - 7.692766593496552e-16x₁t² - 5.032214397217231e-17x₂³ - 4.058408424333139x₂²t + 4.915275845745055e-16x₂t² - 0.41915332639633796t³ + 0.9572085427979027x₁² - 0.0097883470987243x₁x₂ + 2.1336815995797227e-16x₁t + 1.0172185829391827x₂² - 2.672506594373825e-16x₂t + 0.07455855242740858t² - 4.888191752157994e-18x₁ + 5.816768385843444e-17x₂ + 0.036914959332660036t - 0.22391754642327422"
      ]
     },
     "execution_count": 24,
     "metadata": {},
     "output_type": "execute_result"
    }
   ],
   "source": [
    "JuMP.value(model[:Φ])"
   ]
  },
  {
   "cell_type": "code",
   "execution_count": 25,
   "metadata": {},
   "outputs": [
    {
     "data": {
      "text/plain": [
       "0.05283158922805844"
      ]
     },
     "execution_count": 25,
     "metadata": {},
     "output_type": "execute_result"
    }
   ],
   "source": [
    "# Recovering the solution:\n",
    "ϵopt = JuMP.objective_value(model)"
   ]
  },
  {
   "cell_type": "code",
   "execution_count": 26,
   "metadata": {},
   "outputs": [],
   "source": [
    "# Punder <= 0\n",
    "Punder = subs(JuMP.value(model[:Φ]), t => T);"
   ]
  },
  {
   "cell_type": "code",
   "execution_count": 27,
   "metadata": {},
   "outputs": [
    {
     "data": {
      "text/plain": [
       "91-element MonomialVector{true}:\n",
       " x₁¹²   \n",
       " x₁¹¹x₂ \n",
       " x₁¹⁰x₂²\n",
       " x₁⁹x₂³ \n",
       " x₁⁸x₂⁴ \n",
       " x₁⁷x₂⁵ \n",
       " x₁⁶x₂⁶ \n",
       " x₁⁵x₂⁷ \n",
       " x₁⁴x₂⁸ \n",
       " x₁³x₂⁹ \n",
       " x₁²x₂¹⁰\n",
       " x₁x₂¹¹ \n",
       " x₂¹²   \n",
       " ⋮      \n",
       " x₁x₂³  \n",
       " x₂⁴    \n",
       " x₁³    \n",
       " x₁²x₂  \n",
       " x₁x₂²  \n",
       " x₂³    \n",
       " x₁²    \n",
       " x₁x₂   \n",
       " x₂²    \n",
       " x₁     \n",
       " x₂     \n",
       " 1      "
      ]
     },
     "execution_count": 27,
     "metadata": {},
     "output_type": "execute_result"
    }
   ],
   "source": [
    "Punder.x"
   ]
  },
  {
   "cell_type": "code",
   "execution_count": 28,
   "metadata": {},
   "outputs": [],
   "source": [
    "# Pover <= 0\n",
    "Pover = subs(JuMP.value(model[:Φ]), t => T) - ϵopt * (T+1);"
   ]
  },
  {
   "cell_type": "markdown",
   "metadata": {},
   "source": [
    "### Using `ImplicitEquations`\n",
    "\n",
    "- [ImplicitEquations.jl](https://github.com/jverzani/ImplicitEquations.jl)\n",
    "    - Method to graph two-dimensional implicit equations and inequalities.\n",
    "    - Native Julia implementation of Tupper's [Reliable Two-Dimensional Graphing Methodsfor Mathematical Formulae with Two Free Variables](http://www.dgp.toronto.edu/people/mooncake/papers/SIGGRAPH2001_Tupper.pdf).\n",
    "    \n",
    "\n",
    "- We use static polynomials from [StaticPolynomials](https://github.com/JuliaAlgebra/StaticPolynomials.jl) for fast   evaluation:\n",
    "    - Library for fast evaluation of multivariate polynomials.\n",
    "    - `StaticPolynomials` encodes information on the *type signature* which terms are non-zero.\n",
    "    - Uses Julia's metaprogramming capabilities and generated functions."
   ]
  },
  {
   "cell_type": "code",
   "execution_count": 116,
   "metadata": {},
   "outputs": [
    {
     "name": "stderr",
     "output_type": "stream",
     "text": [
      "WARNING: using StaticPolynomials.Polynomial in module Main conflicts with an existing identifier.\n"
     ]
    },
    {
     "data": {
      "text/plain": [
       "_Pover (generic function with 1 method)"
      ]
     },
     "execution_count": 116,
     "metadata": {},
     "output_type": "execute_result"
    }
   ],
   "source": [
    "using StaticPolynomials\n",
    "\n",
    "# convert to a static polynomial for faster evaluation\n",
    "Punder_st = StaticPolynomials.Polynomial(Punder)\n",
    "Pover_st = StaticPolynomials.Polynomial(Pover)\n",
    "\n",
    "_Punder(x, y) = Punder_st([x, y])\n",
    "_Pover(x, y) = Pover_st([x, y])"
   ]
  },
  {
   "cell_type": "code",
   "execution_count": 117,
   "metadata": {},
   "outputs": [
    {
     "name": "stdout",
     "output_type": "stream",
     "text": [
      "  2.125 μs (10 allocations: 432 bytes)\n"
     ]
    },
    {
     "data": {
      "text/plain": [
       "-0.18743496973607388"
      ]
     },
     "execution_count": 117,
     "metadata": {},
     "output_type": "execute_result"
    }
   ],
   "source": [
    "@btime Punder(1.0, 1.0)"
   ]
  },
  {
   "cell_type": "code",
   "execution_count": 118,
   "metadata": {},
   "outputs": [
    {
     "name": "stdout",
     "output_type": "stream",
     "text": [
      "  97.046 ns (2 allocations: 112 bytes)\n"
     ]
    },
    {
     "data": {
      "text/plain": [
       "-0.1874349697360741"
      ]
     },
     "execution_count": 118,
     "metadata": {},
     "output_type": "execute_result"
    }
   ],
   "source": [
    "@btime Punder_st([1.0, 1.0])"
   ]
  },
  {
   "cell_type": "code",
   "execution_count": 119,
   "metadata": {},
   "outputs": [
    {
     "data": {
      "text/plain": [
       "21.895929933024213"
      ]
     },
     "execution_count": 119,
     "metadata": {},
     "output_type": "execute_result"
    }
   ],
   "source": [
    "2.125e-6 / 97.05e-9"
   ]
  },
  {
   "cell_type": "code",
   "execution_count": 120,
   "metadata": {},
   "outputs": [
    {
     "data": {
      "text/plain": [
       "Plots.GRBackend()"
      ]
     },
     "execution_count": 120,
     "metadata": {},
     "output_type": "execute_result"
    }
   ],
   "source": [
    "using ImplicitEquations, Plots\n",
    "gr()"
   ]
  },
  {
   "cell_type": "code",
   "execution_count": null,
   "metadata": {},
   "outputs": [],
   "source": [
    "G = plot()\n",
    "plot!(G, _Punder ⩵ 0., xlims=(-4, 4), ylims=(-4, 4), color=\"red\")\n",
    "plot!(G, _Pover ⩵ 0., xlims=(-4, 4), ylims=(-4, 4), color=\"blue\")\n",
    "G"
   ]
  },
  {
   "cell_type": "markdown",
   "metadata": {},
   "source": [
    "![k12_g](figures/k12_g.png)"
   ]
  },
  {
   "cell_type": "markdown",
   "metadata": {},
   "source": [
    "### Using `IntervalConstraintProgramming` to obtain a rigorous enclosure of the feasible set\n",
    "\n",
    "- [IntervalConstraintProgramming.jl](https://github.com/JuliaIntervals/IntervalConstraintProgramming.jl) is a package that allows to calculate rigorously the feasible region for a set of inequalities with Julia:\n",
    "\n",
    "    - Constraints on real-valued variables given by an arbitrary Julia function.\n",
    "    - Multi-dimensional interval boxes implemented in `IntervalArithmetic.jl`.\n",
    "    - Calculates inner and outer approximations to feasible set (i.e. the set that satisfies the constraints)."
   ]
  },
  {
   "cell_type": "code",
   "execution_count": 80,
   "metadata": {},
   "outputs": [],
   "source": [
    "include(\"constraints.jl\")"
   ]
  },
  {
   "cell_type": "code",
   "execution_count": 103,
   "metadata": {},
   "outputs": [
    {
     "data": {
      "text/plain": [
       "Separator:\n",
       "  - variables: x, y\n",
       "  - expression: (((((((((((((((((((((((((((((((((((((((((((((((((((((((((((((((((((((((((((((((((((((((((-3.254406926195832e-6 * x ^ 12 + 3.834217164793429e-6 * (x ^ 11 * y ^ 1)) + -6.3384127954307375e-6 * (x ^ 10 * y ^ 2)) + 1.7821158886139766e-6 * (x ^ 9 * y ^ 3)) + -3.874093809241813e-7 * (x ^ 8 * y ^ 4)) + 1.5483592082483843e-6 * (x ^ 7 * y ^ 5)) + -1.7690055890869638e-6 * (x ^ 6 * y ^ 6)) + -9.798790301107213e-7 * (x ^ 5 * y ^ 7)) + 5.210797975903119e-7 * (x ^ 4 * y ^ 8)) + 1.3500407479164792e-6 * (x ^ 3 * y ^ 9)) + 4.4924259835334384e-7 * (x ^ 2 * y ^ 10)) + -7.166251275333759e-8 * (x ^ 1 * y ^ 11)) + -1.5032013847766846e-7 * (x ^ 0 * y ^ 12)) + 1.4831621204102143e-20 * x ^ 11) + 1.3691290786000017e-20 * (x ^ 10 * y ^ 1)) + -5.0093500950317737e-20 * (x ^ 9 * y ^ 2)) + 4.3677787535910767e-20 * (x ^ 8 * y ^ 3)) + -3.173767662076143e-20 * (x ^ 7 * y ^ 4)) + 1.9724120886883362e-20 * (x ^ 6 * y ^ 5)) + 3.932019772930437e-20 * (x ^ 5 * y ^ 6)) + -3.366118784605938e-20 * (x ^ 4 * y ^ 7)) + 7.335098065117538e-21 * (x ^ 3 * y ^ 8)) + 1.8928666158525362e-21 * (x ^ 2 * y ^ 9)) + -7.972721076141193e-21 * (x ^ 1 * y ^ 10)) + 3.58418280872306e-21 * (x ^ 0 * y ^ 11)) + 0.00015991576845668712 * x ^ 10) + -0.0004657855037397151 * (x ^ 9 * y ^ 1)) + 0.000589085715209256 * (x ^ 8 * y ^ 2)) + -0.0002325700371386792 * (x ^ 7 * y ^ 3)) + -3.930451038774872e-5 * (x ^ 6 * y ^ 4)) + 3.2322704287292744e-6 * (x ^ 5 * y ^ 5)) + 1.3335992567483893e-6 * (x ^ 4 * y ^ 6)) + 2.7518735707131795e-5 * (x ^ 3 * y ^ 7)) + -1.323325367954451e-5 * (x ^ 2 * y ^ 8)) + -1.2213506734162326e-5 * (x ^ 1 * y ^ 9)) + 8.131677925472175e-6 * (x ^ 0 * y ^ 10)) + -2.873017741028833e-19 * x ^ 9) + 2.7918245968053696e-19 * (x ^ 8 * y ^ 1)) + 6.026007816753223e-19 * (x ^ 7 * y ^ 2)) + -1.3364227498369648e-18 * (x ^ 6 * y ^ 3)) + 1.01910474173647e-18 * (x ^ 5 * y ^ 4)) + -1.8971371512328473e-19 * (x ^ 4 * y ^ 5)) + -2.666149622126072e-19 * (x ^ 3 * y ^ 6)) + 1.6020227232017553e-19 * (x ^ 2 * y ^ 7)) + -2.0808839904916004e-20 * (x ^ 1 * y ^ 8)) + -9.964099126024553e-21 * (x ^ 0 * y ^ 9)) + -0.0021077517585878706 * x ^ 8) + 0.007746530135541982 * (x ^ 7 * y ^ 1)) + -0.012729857429745972 * (x ^ 6 * y ^ 2)) + 0.00959724703839421 * (x ^ 5 * y ^ 3)) + -0.0026064147324748443 * (x ^ 4 * y ^ 4)) + -0.0007538551940640615 * (x ^ 3 * y ^ 5)) + 0.0008414955734000221 * (x ^ 2 * y ^ 6)) + -0.0001935009339460489 * (x ^ 1 * y ^ 7)) + -9.076112326494181e-6 * (x ^ 0 * y ^ 8)) + 3.0619458230114297e-18 * x ^ 7) + -6.825717234844004e-18 * (x ^ 6 * y ^ 1)) + 4.574693106727993e-18 * (x ^ 5 * y ^ 2)) + 1.9761744010906326e-18 * (x ^ 4 * y ^ 3)) + -5.1840687808885785e-18 * (x ^ 3 * y ^ 4)) + 3.0469841339864345e-18 * (x ^ 2 * y ^ 5)) + -6.108206321651024e-19 * (x ^ 1 * y ^ 6)) + 7.73513798330052e-20 * (x ^ 0 * y ^ 7)) + 0.00766766678443157 * x ^ 6) + -0.02630247457713939 * (x ^ 5 * y ^ 1)) + 0.06439102517619352 * (x ^ 4 * y ^ 2)) + -0.07522056249315182 * (x ^ 3 * y ^ 3)) + 0.04442871000220708 * (x ^ 2 * y ^ 4)) + -0.013324227892671911 * (x ^ 1 * y ^ 5)) + 0.0018504331355650484 * (x ^ 0 * y ^ 6)) + -1.4946435441993517e-17 * x ^ 5) + 4.181493492797462e-17 * (x ^ 4 * y ^ 1)) + -5.630490775149093e-17 * (x ^ 3 * y ^ 2)) + 4.678641430923887e-17 * (x ^ 2 * y ^ 3)) + -2.2369497341344506e-17 * (x ^ 1 * y ^ 4)) + 4.316626613003548e-18 * (x ^ 0 * y ^ 5)) + -0.026893175089150175 * x ^ 4) + -0.10307175783638588 * (x ^ 3 * y ^ 1)) + 0.23685478126822412 * (x ^ 2 * y ^ 2)) + -0.14335941014008569 * (x ^ 1 * y ^ 3)) + 0.033100700571824924 * (x ^ 0 * y ^ 4)) + 3.4341634754411844e-17 * x ^ 3) + -8.304800642136564e-17 * (x ^ 2 * y ^ 1)) + 7.510428581697817e-17 * (x ^ 1 * y ^ 2)) + -2.3541145491650444e-17 * (x ^ 0 * y ^ 3)) + 0.6248870930138117 * x ^ 2) + -1.1487733659298884 * (x ^ 1 * y ^ 1)) + 0.5596157526120149 * (x ^ 0 * y ^ 2)) + -2.5712082025457398e-17 * x ^ 1) + 2.3986229208007783e-17 * (x ^ 0 * y ^ 1)) + -0.22309361984240117 * x ^ 0 ∈ [-∞, 0]"
      ]
     },
     "execution_count": 103,
     "metadata": {},
     "output_type": "execute_result"
    }
   ],
   "source": [
    "S = Separator(-Inf..0.0, (x, y) -> Punder(x, y))"
   ]
  },
  {
   "cell_type": "code",
   "execution_count": 108,
   "metadata": {},
   "outputs": [
    {
     "data": {
      "text/plain": [
       "Paving:\n",
       "- tolerance ϵ = 0.01\n",
       "- inner approx. of length 14983\n",
       "- boundary approx. of length 27042"
      ]
     },
     "execution_count": 108,
     "metadata": {},
     "output_type": "execute_result"
    }
   ],
   "source": [
    "p = pave(S, IntervalBox(-2..2, 2), 0.01)"
   ]
  },
  {
   "cell_type": "code",
   "execution_count": 110,
   "metadata": {},
   "outputs": [],
   "source": [
    "using Plots\n",
    "\n",
    "plot(p.inner, lw=0, aspectratio=1, label=\"inner\")\n",
    "plot!(p.boundary, lw=0, label=\"boundary\", legend=:topleft)"
   ]
  },
  {
   "cell_type": "markdown",
   "metadata": {},
   "source": [
    "![k12_a](figures/k12_a.png)"
   ]
  },
  {
   "cell_type": "markdown",
   "metadata": {},
   "source": [
    "![k12_b](figures/k12_b.png)"
   ]
  },
  {
   "cell_type": "markdown",
   "metadata": {},
   "source": [
    "![k12_c](figures/k12_c.png)"
   ]
  },
  {
   "cell_type": "markdown",
   "metadata": {},
   "source": [
    "![k12_d](figures/k12_d.png)"
   ]
  },
  {
   "cell_type": "code",
   "execution_count": null,
   "metadata": {},
   "outputs": [],
   "source": [
    "ϵ = 0.01\n",
    "S = Separator(-Inf..0.0, Punder_mt)\n",
    "p = pave(S, IntervalBox(-2..2, 2), ϵ)\n",
    "\n",
    "Pover_mt = tomtexpr(Pover)\n",
    "Sover = Separator(-Inf..0.0, Pover_mt)\n",
    "pover = pave(Sover, IntervalBox(-2..2, 2), ϵ)\n",
    "\n",
    "plot(p.inner, lw=0, aspectratio=1, label=\"under\", alpha=.4)\n",
    "plot!(pover.inner, lw=0, label=\"over\", legend=:topleft, alpha=.4)"
   ]
  },
  {
   "cell_type": "markdown",
   "metadata": {},
   "source": [
    "![k12_f](figures/k12_f.png)"
   ]
  },
  {
   "cell_type": "markdown",
   "metadata": {},
   "source": [
    "### Laub-Loomis"
   ]
  },
  {
   "cell_type": "markdown",
   "metadata": {},
   "source": [
    "Consider the Laub-loomis benchmark the from ARCH NLN problem set."
   ]
  },
  {
   "cell_type": "code",
   "execution_count": 12,
   "metadata": {},
   "outputs": [
    {
     "data": {
      "text/plain": [
       "7-element Array{Polynomial{true,Float64},1}:\n",
       " -0.9x₁ + 1.4x₃  \n",
       " -1.5x₂ + 2.5x₅  \n",
       " -0.8x₂x₃ + 0.6x₇\n",
       " -1.3x₃x₄        \n",
       " -x₄x₅ + 0.7x₁   \n",
       " 0.3x₁ - 3.1x₆   \n",
       " -1.6x₂x₇ + 1.8x₆"
      ]
     },
     "execution_count": 12,
     "metadata": {},
     "output_type": "execute_result"
    }
   ],
   "source": [
    "@polyvar x₁ x₂ x₃ x₄ x₅ x₆ x₇ t\n",
    "x = [x₁, x₂, x₃, x₄, x₅, x₆, x₇]\n",
    "\n",
    "f = [1.4x₃ - 0.9x₁,\n",
    "     2.5x₅ - 1.5x₂,\n",
    "     0.6x₇ - 0.8x₂*x₃,\n",
    "     2 - 1.3x₃*x₄,\n",
    "     0.7x₁ - x₄*x₅,\n",
    "     0.3x₁ - 3.1x₆,\n",
    "     1.8x₆ - 1.6x₂*x₇]"
   ]
  },
  {
   "cell_type": "code",
   "execution_count": 17,
   "metadata": {},
   "outputs": [
    {
     "data": {
      "text/plain": [
       "125970-element MonomialVector{true}:\n",
       " x₁¹²    \n",
       " x₁¹¹x₂  \n",
       " x₁¹¹x₃  \n",
       " x₁¹¹x₄  \n",
       " x₁¹¹x₅  \n",
       " x₁¹¹x₆  \n",
       " x₁¹¹x₇  \n",
       " x₁¹¹t   \n",
       " x₁¹⁰x₂² \n",
       " x₁¹⁰x₂x₃\n",
       " x₁¹⁰x₂x₄\n",
       " x₁¹⁰x₂x₅\n",
       " x₁¹⁰x₂x₆\n",
       " ⋮       \n",
       " x₇²     \n",
       " x₇t     \n",
       " t²      \n",
       " x₁      \n",
       " x₂      \n",
       " x₃      \n",
       " x₄      \n",
       " x₅      \n",
       " x₆      \n",
       " x₇      \n",
       " t       \n",
       " 1       "
      ]
     },
     "execution_count": 17,
     "metadata": {},
     "output_type": "execute_result"
    }
   ],
   "source": [
    "T = 1.0 \n",
    "V₀ = x₁^2 + x₂^2 + x₃^2 + x₄^2 + x₅^2 + x₆^2 + x₇^2 - 0.1\n",
    "g = 25 - (x₁^2 + x₂^2 + x₃^2 + x₄^2 + x₅^2 + x₆^2 + x₇^2)\n",
    "k = 12\n",
    "\n",
    "X = monomials([x₁, x₂, x₃, x₄, x₅, x₆, x₇], 0:k)\n",
    "XT = monomials([x₁, x₂, x₃, x₄, x₅, x₆, x₇, t], 0:k)"
   ]
  },
  {
   "cell_type": "code",
   "execution_count": 18,
   "metadata": {},
   "outputs": [
    {
     "ename": "VariableNotOwned{VariableRef}",
     "evalue": "VariableNotOwned{VariableRef}(noname)",
     "output_type": "error",
     "traceback": [
      "VariableNotOwned{VariableRef}(noname)",
      "",
      "Stacktrace:",
      " [1] check_belongs_to_model at /Users/forets/.julia/packages/JuMP/jnmGG/src/variables.jl:149 [inlined]",
      " [2] check_belongs_to_model at /Users/forets/.julia/packages/JuMP/jnmGG/src/aff_expr.jl:294 [inlined]",
      " [3] check_belongs_to_model(::VectorConstraint{GenericAffExpr{Float64,VariableRef},SumOfSquares.SOSPolynomialSet{SemialgebraicSets.BasicSemialgebraicSet{Float64,Polynomial{true,Float64},SemialgebraicSets.AlgebraicSet{Float64,Polynomial{true,Float64},SemialgebraicSets.Buchberger,SemialgebraicSets.SolverUsingMultiplicationMatrices{SemialgebraicSets.GröbnerBasisMultiplicationMatricesAlgorithm,SemialgebraicSets.ReorderedSchurMultiplicationMatricesSolver{Float64,Random.MersenneTwister}}}},NonnegPolyInnerCone{MathOptInterface.PositiveSemidefiniteConeTriangle},MonomialBasis,Monomial{true},MonomialVector{true},Tuple{}},PolyJuMP.PolynomialShape{Monomial{true},MonomialVector{true}}}, ::Model) at /Users/forets/.julia/packages/JuMP/jnmGG/src/constraints.jl:357",
      " [4] add_constraint(::Model, ::VectorConstraint{GenericAffExpr{Float64,VariableRef},SumOfSquares.SOSPolynomialSet{SemialgebraicSets.BasicSemialgebraicSet{Float64,Polynomial{true,Float64},SemialgebraicSets.AlgebraicSet{Float64,Polynomial{true,Float64},SemialgebraicSets.Buchberger,SemialgebraicSets.SolverUsingMultiplicationMatrices{SemialgebraicSets.GröbnerBasisMultiplicationMatricesAlgorithm,SemialgebraicSets.ReorderedSchurMultiplicationMatricesSolver{Float64,Random.MersenneTwister}}}},NonnegPolyInnerCone{MathOptInterface.PositiveSemidefiniteConeTriangle},MonomialBasis,Monomial{true},MonomialVector{true},Tuple{}},PolyJuMP.PolynomialShape{Monomial{true},MonomialVector{true}}}, ::String) at /Users/forets/.julia/packages/JuMP/jnmGG/src/constraints.jl:384",
      " [5] add_constraint(::Model, ::BridgeableConstraint{VectorConstraint{GenericAffExpr{Float64,VariableRef},SumOfSquares.SOSPolynomialSet{SemialgebraicSets.BasicSemialgebraicSet{Float64,Polynomial{true,Float64},SemialgebraicSets.AlgebraicSet{Float64,Polynomial{true,Float64},SemialgebraicSets.Buchberger,SemialgebraicSets.SolverUsingMultiplicationMatrices{SemialgebraicSets.GröbnerBasisMultiplicationMatricesAlgorithm,SemialgebraicSets.ReorderedSchurMultiplicationMatricesSolver{Float64,Random.MersenneTwister}}}},NonnegPolyInnerCone{MathOptInterface.PositiveSemidefiniteConeTriangle},MonomialBasis,Monomial{true},MonomialVector{true},Tuple{}},PolyJuMP.PolynomialShape{Monomial{true},MonomialVector{true}}},UnionAll}, ::String) at /Users/forets/.julia/packages/JuMP/jnmGG/src/constraints.jl:252 (repeats 8 times)",
      " [6] top-level scope at /Users/forets/.julia/packages/JuMP/jnmGG/src/macros.jl:621",
      " [7] top-level scope at In[18]:17"
     ]
    }
   ],
   "source": [
    "model = SOSModel(with_optimizer(Mosek.Optimizer))\n",
    "\n",
    "@variable(model, Φ, Poly(XT));\n",
    "\n",
    "∂xf = α -> sum([∂(α, x[i]) * f[i] for i in 1:7])\n",
    "LΦ = ∂(Φ, t) + ∂xf(Φ);\n",
    "\n",
    "model = SOSModel(with_optimizer(Mosek.Optimizer))\n",
    "\n",
    "@variable(model, Φ, Poly(XT))\n",
    "Φ₀ = subs(Φ, t => 0.)\n",
    "@variable(model, ϵ)\n",
    "dom1 = @set t*(T-t) >= 0 && g >= 0\n",
    "dom2 = @set g >= 0\n",
    "@constraint(model, ϵ >= 0.)\n",
    "@constraint(model, LΦ ∈ SOSCone(), domain = dom1)\n",
    "@constraint(model, ϵ - LΦ ∈ SOSCone(), domain = dom1)\n",
    "@constraint(model, Φ₀ - V₀ ∈ SOSCone(), domain = dom2)\n",
    "@constraint(model, ϵ + V₀ - Φ₀ ∈ SOSCone(), domain = dom2)\n",
    "\n",
    "@objective(model, Min, ϵ)\n",
    "optimize!(model)"
   ]
  },
  {
   "cell_type": "markdown",
   "metadata": {},
   "source": [
    "### Lotka-Volterra\n",
    "\n",
    "- 3D model"
   ]
  },
  {
   "cell_type": "code",
   "execution_count": 20,
   "metadata": {},
   "outputs": [
    {
     "name": "stdout",
     "output_type": "stream",
     "text": [
      "Problem\n",
      "  Name                   :                 \n",
      "  Objective sense        : min             \n",
      "  Type                   : CONIC (conic optimization problem)\n",
      "  Constraints            : 4551            \n",
      "  Cones                  : 0               \n",
      "  Scalar variables       : 1821            \n",
      "  Matrix variables       : 10              \n",
      "  Integer variables      : 0               \n",
      "\n",
      "Optimizer started.\n",
      "Presolve started.\n",
      "Linear dependency checker started.\n",
      "Linear dependency checker terminated.\n",
      "Eliminator started.\n",
      "Freed constraints in eliminator : 0\n",
      "Eliminator terminated.\n",
      "Eliminator - tries                  : 1                 time                   : 0.00            \n",
      "Lin. dep.  - tries                  : 1                 time                   : 0.00            \n",
      "Lin. dep.  - number                 : 0               \n",
      "Presolve terminated. Time: 0.00    \n",
      "Problem\n",
      "  Name                   :                 \n",
      "  Objective sense        : min             \n",
      "  Type                   : CONIC (conic optimization problem)\n",
      "  Constraints            : 4551            \n",
      "  Cones                  : 0               \n",
      "  Scalar variables       : 1821            \n",
      "  Matrix variables       : 10              \n",
      "  Integer variables      : 0               \n",
      "\n",
      "Optimizer  - threads                : 8               \n",
      "Optimizer  - solved problem         : the primal      \n",
      "Optimizer  - Constraints            : 4550\n",
      "Optimizer  - Cones                  : 1\n",
      "Optimizer  - Scalar variables       : 1822              conic                  : 1821            \n",
      "Optimizer  - Semi-definite variables: 10                scalarized             : 86646           \n",
      "Factor     - setup time             : 1.57              dense det. time        : 0.00            \n",
      "Factor     - ML order time          : 0.84              GP order time          : 0.00            \n",
      "Factor     - nonzeros before factor : 3.53e+06          after factor           : 4.97e+06        \n",
      "Factor     - dense dim.             : 2                 flops                  : 1.08e+10        \n",
      "ITE PFEAS    DFEAS    GFEAS    PRSTATUS   POBJ              DOBJ              MU       TIME  \n",
      "0   2.5e+01  1.0e+00  1.0e+00  0.00e+00   0.000000000e+00   0.000000000e+00   1.0e+00  1.64  \n",
      "1   4.9e+00  2.0e-01  8.8e-02  -9.97e-01  3.423682584e+01   9.791278113e+01   2.0e-01  3.28  \n",
      "2   9.5e-01  3.8e-02  1.6e-02  -7.31e-01  1.074587711e+02   1.887175345e+02   3.8e-02  4.88  \n",
      "3   4.1e-01  1.6e-02  4.0e-02  1.67e+00   5.439195786e+01   5.552240632e+01   1.6e-02  6.40  \n",
      "4   2.3e-01  9.1e-03  3.9e-02  3.00e+00   1.043538515e+01   1.092879199e+01   9.1e-03  7.94  \n",
      "5   6.2e-02  2.5e-03  4.1e-02  1.97e+00   1.819448692e+00   1.824962063e+00   2.5e-03  9.56  \n",
      "6   1.3e-02  5.1e-04  2.8e-02  2.24e+00   2.274482756e-01   2.272704210e-01   5.1e-04  11.20 \n",
      "7   2.3e-03  9.1e-05  2.5e-02  2.00e+00   2.258623448e-02   2.227319525e-02   9.1e-05  12.86 \n",
      "8   3.7e-04  1.5e-05  1.8e-02  1.85e+00   2.137734070e-03   2.098801627e-03   1.5e-05  14.45 \n",
      "9   5.6e-05  2.2e-06  1.2e-02  1.73e+00   2.083860188e-04   2.042273503e-04   2.2e-06  16.06 \n",
      "10  8.1e-06  3.0e-07  7.2e-03  1.57e+00   1.947302618e-05   1.905949935e-05   3.0e-07  17.64 \n",
      "11  2.4e-06  4.1e-08  3.8e-03  1.50e+00   1.939266948e-06   1.897146642e-06   4.0e-08  19.20 \n",
      "Optimizer terminated. Time: 19.22   \n",
      "\n",
      " 21.493195 seconds (3.02 M allocations: 403.301 MiB, 2.09% gc time)\n"
     ]
    },
    {
     "data": {
      "text/plain": [
       "19.217565059661865"
      ]
     },
     "execution_count": 20,
     "metadata": {},
     "output_type": "execute_result"
    }
   ],
   "source": [
    "@time begin\n",
    "    # symbolic variables\n",
    "    @polyvar x₁ x₂ x₃ t\n",
    "\n",
    "    # time duration (scaled, see dynamics below)\n",
    "    T = 1.0 \n",
    "\n",
    "    # dynamics\n",
    "    f = 3 * [-x₁*x₂ + x₁*x₃, -x₂*x₃ + x₂*x₁, -x₃*x₁ + x₃*x₂]\n",
    "\n",
    "    # set of initial states X₀ = {x: V₀(x) <= 0}\n",
    "    V₀ = 100*(x₁^2 + x₂^2 + x₃^2) - 1.0\n",
    "\n",
    "    # constraints Y = {x: g(x) >= 0} compact search space Y x [0, T]\n",
    "    g = 0.16 - (x₁^2 + x₂^2 + x₃^2)\n",
    "\n",
    "    # degree of the relaxation\n",
    "    k = 12\n",
    "\n",
    "    # monomial vector up to order k\n",
    "    X = monomials([x₁, x₂, x₃], 0:k)\n",
    "    XT = monomials([x₁, x₂, x₃, t], 0:k)\n",
    "\n",
    "    # create a SOS JuMP model to solve with Mosek\n",
    "    model = SOSModel(with_optimizer(Mosek.Optimizer))\n",
    "\n",
    "    # add unknown Φ to the model\n",
    "    @variable(model, Φ, Poly(XT))\n",
    "\n",
    "    # jacobian\n",
    "    ∂xf = α -> sum([∂(α, x[i]) * f[i] for i in 1:3])\n",
    "    LΦ = ∂t(Φ) + ∂xf(Φ)\n",
    "\n",
    "    # Φ(x, t) at time 0\n",
    "    Φ₀ = subs(Φ, t => 0.)\n",
    "\n",
    "    # scalar variable\n",
    "    @variable(model, ϵ)\n",
    "\n",
    "    dom1 = @set t*(T-t) >= 0 && g >= 0\n",
    "    dom2 = @set g >= 0\n",
    "    @constraint(model, ϵ >= 0.)\n",
    "    @constraint(model, LΦ ∈ SOSCone(), domain = dom1)\n",
    "    @constraint(model, ϵ - LΦ ∈ SOSCone(), domain = dom1)\n",
    "    @constraint(model, Φ₀ - V₀ ∈ SOSCone(), domain = dom2)\n",
    "    @constraint(model, ϵ + V₀ - Φ₀ ∈ SOSCone(), domain = dom2)\n",
    "\n",
    "    @objective(model, Min, ϵ)\n",
    "\n",
    "    optimize!(model)\n",
    "\n",
    "    MOI.get(model, MOI.SolveTime())\n",
    "end"
   ]
  },
  {
   "cell_type": "code",
   "execution_count": 21,
   "metadata": {},
   "outputs": [
    {
     "data": {
      "text/plain": [
       "1.9392669478552092e-6"
      ]
     },
     "execution_count": 21,
     "metadata": {},
     "output_type": "execute_result"
    }
   ],
   "source": [
    "ϵopt = JuMP.objective_value(model)"
   ]
  },
  {
   "cell_type": "markdown",
   "metadata": {},
   "source": [
    "Comparison:\n",
    "\n",
    "```julia\n",
    "YALMIP SOS module started...\n",
    "-------------------------------------------------------------------------\n",
    "Detected 11375 parametric variables and 4 independent variables.\n",
    "```"
   ]
  },
  {
   "cell_type": "markdown",
   "metadata": {},
   "source": [
    "![table](figures/table.png)"
   ]
  },
  {
   "cell_type": "markdown",
   "metadata": {},
   "source": [
    "---"
   ]
  },
  {
   "cell_type": "markdown",
   "metadata": {},
   "source": [
    "### End notes\n",
    "\n",
    "- `SumOfSquares.jl` extension of JuMP has a great expressive power.\n",
    "- The syntax for defining set-based constraints is intuitive and easy to use.\n",
    "- There is low overhead for model generation, and the size of generated models is competitive with established tools.\n",
    "\n",
    "#### Future work\n",
    "\n",
    "- Tooling ([Reachability.jl](https://github.com/JuliaReach/Reachability.jl)).\n",
    "- Implement methods for property checking.\n",
    "- Extend to hybrid systems."
   ]
  },
  {
   "cell_type": "markdown",
   "metadata": {},
   "source": [
    "![juliareachorg](figures/JuliaReachOrg.png)"
   ]
  }
 ],
 "metadata": {
  "kernelspec": {
   "display_name": "Julia 1.1.0-rc2",
   "language": "julia",
   "name": "julia-1.1"
  },
  "language_info": {
   "file_extension": ".jl",
   "mimetype": "application/julia",
   "name": "julia",
   "version": "1.1.0"
  }
 },
 "nbformat": 4,
 "nbformat_minor": 2
}
